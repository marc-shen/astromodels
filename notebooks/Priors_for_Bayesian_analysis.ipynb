{
 "cells": [
  {
   "cell_type": "markdown",
   "id": "0fc92e48",
   "metadata": {},
   "source": [
    "# Priors for Bayesian analysis\n",
    "\n",
    "Astromodels supports the definition of priors for all parameters in\n",
    "your model. You can use as prior any function (although of course not\n",
    "all functions should be used this way, but the choice is up to you).\n",
    "\n",
    "First let’s define a simple model containing one point source (see the\n",
    "“Model tutorial” for more info):"
   ]
  },
  {
   "cell_type": "code",
   "execution_count": 1,
   "id": "9d852e04",
   "metadata": {
    "execution": {
     "iopub.execute_input": "2022-09-27T10:36:12.173216Z",
     "iopub.status.busy": "2022-09-27T10:36:12.172780Z",
     "iopub.status.idle": "2022-09-27T10:36:15.643515Z",
     "shell.execute_reply": "2022-09-27T10:36:15.642354Z"
    },
    "lines_to_next_cell": 2
   },
   "outputs": [],
   "source": [
    "%%capture\n",
    "from astromodels import *\n",
    "\n",
    "# Create a point source named \"pts1\"\n",
    "pts1 = PointSource('pts1',ra=125.23, dec=17.98, spectral_shape=Powerlaw())\n",
    "\n",
    "# Create the model\n",
    "my_model = Model(pts1)"
   ]
  },
  {
   "cell_type": "markdown",
   "id": "856d0d8f",
   "metadata": {},
   "source": [
    "Now let’s assign uniform priors to the parameters of the powerlaw\n",
    "function. The function uniform_prior is defined like this:\n"
   ]
  },
  {
   "cell_type": "code",
   "execution_count": 2,
   "id": "984a6386",
   "metadata": {
    "execution": {
     "iopub.execute_input": "2022-09-27T10:36:15.649016Z",
     "iopub.status.busy": "2022-09-27T10:36:15.648658Z",
     "iopub.status.idle": "2022-09-27T10:36:15.655647Z",
     "shell.execute_reply": "2022-09-27T10:36:15.654573Z"
    }
   },
   "outputs": [
    {
     "data": {
      "text/html": [
       "<ul>\n",
       "\n",
       "<li>description: A function which is constant on the interval lower_bound - upper_bound and 0 outside the interval. The extremes of the interval are counted as part of the interval.</li>\n",
       "\n",
       "<li>formula: $ f(x)=\\begin{cases}0 & x < \\text{lower_bound} \\\\\\text{value} & \\text{lower_bound} \\le x \\le \\text{upper_bound} \\\\ 0 & x > \\text{upper_bound} \\end{cases}$</li>\n",
       "\n",
       "<li>default parameters: \n",
       "<ul>\n",
       "\n",
       "<li>lower_bound: \n",
       "<ul>\n",
       "\n",
       "<li>value: 0.0</li>\n",
       "\n",
       "<li>desc: Lower bound for the interval</li>\n",
       "\n",
       "<li>min_value: -inf</li>\n",
       "\n",
       "<li>max_value: inf</li>\n",
       "\n",
       "<li>unit: </li>\n",
       "\n",
       "<li>is_normalization: False</li>\n",
       "\n",
       "<li>delta: 0.1</li>\n",
       "\n",
       "<li>free: True</li>\n",
       "\n",
       "</ul>\n",
       "\n",
       "</li>\n",
       "\n",
       "<li>upper_bound: \n",
       "<ul>\n",
       "\n",
       "<li>value: 1.0</li>\n",
       "\n",
       "<li>desc: Upper bound for the interval</li>\n",
       "\n",
       "<li>min_value: -inf</li>\n",
       "\n",
       "<li>max_value: inf</li>\n",
       "\n",
       "<li>unit: </li>\n",
       "\n",
       "<li>is_normalization: False</li>\n",
       "\n",
       "<li>delta: 0.1</li>\n",
       "\n",
       "<li>free: True</li>\n",
       "\n",
       "</ul>\n",
       "\n",
       "</li>\n",
       "\n",
       "<li>value: \n",
       "<ul>\n",
       "\n",
       "<li>value: 1.0</li>\n",
       "\n",
       "<li>desc: Value in the interval</li>\n",
       "\n",
       "<li>min_value: None</li>\n",
       "\n",
       "<li>max_value: None</li>\n",
       "\n",
       "<li>unit: </li>\n",
       "\n",
       "<li>is_normalization: False</li>\n",
       "\n",
       "<li>delta: 0.1</li>\n",
       "\n",
       "<li>free: True</li>\n",
       "\n",
       "</ul>\n",
       "\n",
       "</li>\n",
       "\n",
       "</ul>\n",
       "\n",
       "</li>\n",
       "\n",
       "</ul>\n"
      ],
      "text/plain": [
       "<IPython.core.display.HTML object>"
      ]
     },
     "metadata": {},
     "output_type": "display_data"
    }
   ],
   "source": [
    "Uniform_prior.info()"
   ]
  },
  {
   "cell_type": "markdown",
   "id": "7576e635",
   "metadata": {},
   "source": [
    "We can use it as such:"
   ]
  },
  {
   "cell_type": "code",
   "execution_count": 3,
   "id": "d23b4e21",
   "metadata": {
    "execution": {
     "iopub.execute_input": "2022-09-27T10:36:15.660597Z",
     "iopub.status.busy": "2022-09-27T10:36:15.660271Z",
     "iopub.status.idle": "2022-09-27T10:36:15.668245Z",
     "shell.execute_reply": "2022-09-27T10:36:15.667114Z"
    }
   },
   "outputs": [
    {
     "data": {
      "text/html": [
       "Parameter K = 1.0 [1 / (cm2 keV s)]\n",
       "(min_value = 1e-30, max_value = 1000.0, delta = 0.1, free = True) [prior: Uniform_prior]"
      ],
      "text/plain": [
       "Parameter K = 1.0 [1 / (cm2 keV s)]\n",
       "(min_value = 1e-30, max_value = 1000.0, delta = 0.1, free = True) [prior: Uniform_prior]"
      ]
     },
     "metadata": {},
     "output_type": "display_data"
    }
   ],
   "source": [
    "# Set 'lower_bound' to 0, 'upper bound' to 10, and leave the 'value' parameter\n",
    "# to the default value\n",
    "pts1.spectrum.main.Powerlaw.K.prior = Uniform_prior(lower_bound = 0, upper_bound=10)\n",
    "\n",
    "# Display it\n",
    "pts1.spectrum.main.Powerlaw.K.display()\n"
   ]
  },
  {
   "cell_type": "markdown",
   "id": "871c8eb0",
   "metadata": {},
   "source": [
    "Now, lets's set a Gaussian prior on the spectral index"
   ]
  },
  {
   "cell_type": "code",
   "execution_count": 4,
   "id": "489b227e",
   "metadata": {
    "execution": {
     "iopub.execute_input": "2022-09-27T10:36:15.673132Z",
     "iopub.status.busy": "2022-09-27T10:36:15.672788Z",
     "iopub.status.idle": "2022-09-27T10:36:15.680357Z",
     "shell.execute_reply": "2022-09-27T10:36:15.679437Z"
    }
   },
   "outputs": [
    {
     "data": {
      "text/html": [
       "Parameter index = -2.01 []\n",
       "(min_value = -10.0, max_value = 10.0, delta = 0.20099999999999998, free = True) [prior: Gaussian]"
      ],
      "text/plain": [
       "Parameter index = -2.01 []\n",
       "(min_value = -10.0, max_value = 10.0, delta = 0.20099999999999998, free = True) [prior: Gaussian]"
      ]
     },
     "metadata": {},
     "output_type": "display_data"
    }
   ],
   "source": [
    "\n",
    "pts1.spectrum.main.Powerlaw.index.prior = Gaussian(mu=-2, sigma=1)\n",
    "\n",
    "pts1.spectrum.main.Powerlaw.index.display()"
   ]
  },
  {
   "cell_type": "code",
   "execution_count": 5,
   "id": "a936da1a",
   "metadata": {
    "execution": {
     "iopub.execute_input": "2022-09-27T10:36:15.684874Z",
     "iopub.status.busy": "2022-09-27T10:36:15.684540Z",
     "iopub.status.idle": "2022-09-27T10:36:16.402418Z",
     "shell.execute_reply": "2022-09-27T10:36:16.401302Z"
    }
   },
   "outputs": [
    {
     "data": {
      "text/plain": [
       "Text(0, 0.5, 'Prior')"
      ]
     },
     "execution_count": 5,
     "metadata": {},
     "output_type": "execute_result"
    },
    {
     "data": {
      "image/png": "[encoded data removed]",
      "text/plain": [
       "<Figure size 1040x910 with 1 Axes>"
      ]
     },
     "metadata": {},
     "output_type": "display_data"
    }
   ],
   "source": [
    "# Let's get 500 points uniformly distributed between -20 and 20\n",
    "import numpy as np\n",
    "import matplotlib.pyplot as plt\n",
    "%matplotlib inline\n",
    "from jupyterthemes import jtplot\n",
    "jtplot.style(context=\"talk\", fscale=1, ticks=True, grid=False)\n",
    "\n",
    "\n",
    "\n",
    "\n",
    "\n",
    "random_points = np.random.uniform(-10,20,100)\n",
    "\n",
    "fig, ax = plt.subplots()\n",
    "\n",
    "ax.plot(random_points,pts1.spectrum.main.Powerlaw.K.prior(random_points), '.' )\n",
    "\n",
    "ax.set_ylim([-0.1,1.2])\n",
    "ax.set_xlabel(\"value of K\")\n",
    "ax.set_ylabel(\"Prior\")"
   ]
  },
  {
   "cell_type": "code",
   "execution_count": 6,
   "id": "ac2dac18",
   "metadata": {
    "execution": {
     "iopub.execute_input": "2022-09-27T10:36:16.407723Z",
     "iopub.status.busy": "2022-09-27T10:36:16.407211Z",
     "iopub.status.idle": "2022-09-27T10:36:16.748028Z",
     "shell.execute_reply": "2022-09-27T10:36:16.747070Z"
    }
   },
   "outputs": [
    {
     "data": {
      "text/plain": [
       "Text(0, 0.5, 'Prior')"
      ]
     },
     "execution_count": 6,
     "metadata": {},
     "output_type": "execute_result"
    },
    {
     "data": {
      "image/png": "[encoded data removed]",
      "text/plain": [
       "<Figure size 1040x910 with 1 Axes>"
      ]
     },
     "metadata": {},
     "output_type": "display_data"
    }
   ],
   "source": [
    "random_points = np.random.uniform(-4,0,100)\n",
    "\n",
    "fig, ax = plt.subplots()\n",
    "\n",
    "ax.plot(random_points,pts1.spectrum.main.Powerlaw.index.prior(random_points), 'r.' )\n",
    "\n",
    "ax.set_ylim([-0.1,0.6])\n",
    "ax.set_xlabel(\"value of K\")\n",
    "ax.set_ylabel(\"Prior\")"
   ]
  },
  {
   "cell_type": "code",
   "execution_count": null,
   "id": "efc673b3",
   "metadata": {},
   "outputs": [],
   "source": []
  }
 ],
 "metadata": {
  "jupytext": {
   "formats": "ipynb,md"
  },
  "kernelspec": {
   "display_name": "Python 3",
   "language": "python",
   "name": "python3"
  },
  "language_info": {
   "codemirror_mode": {
    "name": "ipython",
    "version": 3
   },
   "file_extension": ".py",
   "mimetype": "text/x-python",
   "name": "python",
   "nbconvert_exporter": "python",
   "pygments_lexer": "ipython3",
   "version": "3.9.14"
  }
 },
 "nbformat": 4,
 "nbformat_minor": 5
}
