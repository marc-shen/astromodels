{
 "cells": [
  {
   "cell_type": "markdown",
   "id": "92f3c64d",
   "metadata": {},
   "source": [
    "# Point sources #\n",
    "\n",
    "In astromodels, a point source is described by its position in the sky\n",
    "and its spectral features.\n",
    "\n",
    "\n",
    "## Creating a point source\n",
    "\n",
    "A simple source with a power law spectrum can be created like this, using J2000 R.A. and Dec (ICRS), which is the default coordinate system:"
   ]
  },
  {
   "cell_type": "code",
   "execution_count": 1,
   "id": "704e617e",
   "metadata": {
    "execution": {
     "iopub.execute_input": "2024-02-06T22:29:06.203607Z",
     "iopub.status.busy": "2024-02-06T22:29:06.202592Z",
     "iopub.status.idle": "2024-02-06T22:29:09.868061Z",
     "shell.execute_reply": "2024-02-06T22:29:09.866150Z"
    }
   },
   "outputs": [
    {
     "data": {
      "text/html": [
       "<pre style=\"white-space:pre;overflow-x:auto;line-height:normal;font-family:Menlo,'DejaVu Sans Mono',consolas,'Courier New',monospace\"><span style=\"color: #00ff00; text-decoration-color: #00ff00\">22:29:08 </span><span style=\"color: #af5fd7; text-decoration-color: #af5fd7\">WARNING </span> <span style=\"color: #c6c6c6; text-decoration-color: #c6c6c6; font-weight: bold\"> The naima package is not available. Models that depend on it will not be         </span><a href=\"file:///Users/runner/work/astromodels/astromodels/astromodels/functions/functions_1D/functions.py\" target=\"_blank\"><span style=\"color: #7f7f7f; text-decoration-color: #7f7f7f\">functions.py</span></a><span style=\"color: #7f7f7f; text-decoration-color: #7f7f7f\">:</span><a href=\"file:///Users/runner/work/astromodels/astromodels/astromodels/functions/functions_1D/functions.py#48\" target=\"_blank\"><span style=\"color: #7f7f7f; text-decoration-color: #7f7f7f\">48</span></a>\n",
       "<span style=\"color: #00ff00; text-decoration-color: #00ff00\">         </span>         <span style=\"color: #c6c6c6; text-decoration-color: #c6c6c6; font-weight: bold\">available                                                                         </span><span style=\"color: #7f7f7f; text-decoration-color: #7f7f7f\">               </span>\n",
       "</pre>\n"
      ],
      "text/plain": [
       "\u001b[38;5;46m22:29:08\u001b[0m\u001b[38;5;46m \u001b[0m\u001b[38;5;134mWARNING \u001b[0m \u001b[1;38;5;251m The naima package is not available. Models that depend on it will not be        \u001b[0m\u001b[1;38;5;251m \u001b[0m\u001b]8;id=240224;file:///Users/runner/work/astromodels/astromodels/astromodels/functions/functions_1D/functions.py\u001b\\\u001b[2mfunctions.py\u001b[0m\u001b]8;;\u001b\\\u001b[2m:\u001b[0m\u001b]8;id=422208;file:///Users/runner/work/astromodels/astromodels/astromodels/functions/functions_1D/functions.py#48\u001b\\\u001b[2m48\u001b[0m\u001b]8;;\u001b\\\n",
       "\u001b[38;5;46m         \u001b[0m         \u001b[1;38;5;251mavailable                                                                        \u001b[0m\u001b[1;38;5;251m \u001b[0m\u001b[2m               \u001b[0m\n"
      ]
     },
     "metadata": {},
     "output_type": "display_data"
    },
    {
     "data": {
      "text/html": [
       "<pre style=\"white-space:pre;overflow-x:auto;line-height:normal;font-family:Menlo,'DejaVu Sans Mono',consolas,'Courier New',monospace\"><span style=\"color: #00ff00; text-decoration-color: #00ff00\">         </span><span style=\"color: #af5fd7; text-decoration-color: #af5fd7\">WARNING </span> <span style=\"color: #c6c6c6; text-decoration-color: #c6c6c6; font-weight: bold\"> The GSL library or the pygsl wrapper cannot be loaded. Models that depend on it  </span><a href=\"file:///Users/runner/work/astromodels/astromodels/astromodels/functions/functions_1D/functions.py\" target=\"_blank\"><span style=\"color: #7f7f7f; text-decoration-color: #7f7f7f\">functions.py</span></a><span style=\"color: #7f7f7f; text-decoration-color: #7f7f7f\">:</span><a href=\"file:///Users/runner/work/astromodels/astromodels/astromodels/functions/functions_1D/functions.py#69\" target=\"_blank\"><span style=\"color: #7f7f7f; text-decoration-color: #7f7f7f\">69</span></a>\n",
       "<span style=\"color: #00ff00; text-decoration-color: #00ff00\">         </span>         <span style=\"color: #c6c6c6; text-decoration-color: #c6c6c6; font-weight: bold\">will not be available.                                                            </span><span style=\"color: #7f7f7f; text-decoration-color: #7f7f7f\">               </span>\n",
       "</pre>\n"
      ],
      "text/plain": [
       "\u001b[38;5;46m        \u001b[0m\u001b[38;5;46m \u001b[0m\u001b[38;5;134mWARNING \u001b[0m \u001b[1;38;5;251m The GSL library or the pygsl wrapper cannot be loaded. Models that depend on it \u001b[0m\u001b[1;38;5;251m \u001b[0m\u001b]8;id=693578;file:///Users/runner/work/astromodels/astromodels/astromodels/functions/functions_1D/functions.py\u001b\\\u001b[2mfunctions.py\u001b[0m\u001b]8;;\u001b\\\u001b[2m:\u001b[0m\u001b]8;id=180028;file:///Users/runner/work/astromodels/astromodels/astromodels/functions/functions_1D/functions.py#69\u001b\\\u001b[2m69\u001b[0m\u001b]8;;\u001b\\\n",
       "\u001b[38;5;46m         \u001b[0m         \u001b[1;38;5;251mwill not be available.                                                           \u001b[0m\u001b[1;38;5;251m \u001b[0m\u001b[2m               \u001b[0m\n"
      ]
     },
     "metadata": {},
     "output_type": "display_data"
    },
    {
     "name": "stderr",
     "output_type": "stream",
     "text": [
      "/Users/runner/hostedtoolcache/Python/3.9.18/x64/lib/python3.9/site-packages/numba/core/decorators.py:262: NumbaDeprecationWarning: \u001b[1mnumba.generated_jit is deprecated. Please see the documentation at: https://numba.readthedocs.io/en/stable/reference/deprecation.html#deprecation-of-generated-jit for more information and advice on a suitable replacement.\u001b[0m\n",
      "  warnings.warn(msg, NumbaDeprecationWarning)\n"
     ]
    },
    {
     "name": "stderr",
     "output_type": "stream",
     "text": [
      "/Users/runner/hostedtoolcache/Python/3.9.18/x64/lib/python3.9/site-packages/numba/core/decorators.py:262: NumbaDeprecationWarning: \u001b[1mnumba.generated_jit is deprecated. Please see the documentation at: https://numba.readthedocs.io/en/stable/reference/deprecation.html#deprecation-of-generated-jit for more information and advice on a suitable replacement.\u001b[0m\n",
      "  warnings.warn(msg, NumbaDeprecationWarning)\n"
     ]
    }
   ],
   "source": [
    "from astromodels import *\n",
    "simple_source_icrs = PointSource('simple_source', ra=123.2, dec=-13.2, spectral_shape=Powerlaw())"
   ]
  },
  {
   "cell_type": "markdown",
   "id": "b5b31c09",
   "metadata": {},
   "source": [
    "We can also use Galactic coordinates:"
   ]
  },
  {
   "cell_type": "code",
   "execution_count": 2,
   "id": "dcb5a8ee",
   "metadata": {
    "execution": {
     "iopub.execute_input": "2024-02-06T22:29:09.876953Z",
     "iopub.status.busy": "2024-02-06T22:29:09.876344Z",
     "iopub.status.idle": "2024-02-06T22:29:09.885987Z",
     "shell.execute_reply": "2024-02-06T22:29:09.884249Z"
    }
   },
   "outputs": [],
   "source": [
    "simple_source_gal = PointSource('simple_source', l=234.320573, b=11.365142, spectral_shape=Powerlaw())"
   ]
  },
  {
   "cell_type": "markdown",
   "id": "899c7f54",
   "metadata": {},
   "source": [
    "As spectral shape we can use any function or any composite function (see\n",
    "\"Creating and modifying functions\")"
   ]
  },
  {
   "cell_type": "markdown",
   "id": "b9ae220a",
   "metadata": {},
   "source": [
    "## Getting info about a point source\n",
    "\n",
    "Info about a point source can be obtained with the\n",
    "`.display()` method (which will use the richest representation available),\n",
    "or by printing it which will display a text-only representation:\n"
   ]
  },
  {
   "cell_type": "code",
   "execution_count": 3,
   "id": "00a34f0e",
   "metadata": {
    "execution": {
     "iopub.execute_input": "2024-02-06T22:29:09.894171Z",
     "iopub.status.busy": "2024-02-06T22:29:09.893720Z",
     "iopub.status.idle": "2024-02-06T22:29:09.910632Z",
     "shell.execute_reply": "2024-02-06T22:29:09.908295Z"
    }
   },
   "outputs": [
    {
     "data": {
      "text/html": [
       "<ul>\n",
       "\n",
       "<li>simple_source (point source): \n",
       "<ul>\n",
       "\n",
       "<li>position: \n",
       "<ul>\n",
       "\n",
       "<li>ra: \n",
       "<ul>\n",
       "\n",
       "<li>value: 123.2</li>\n",
       "\n",
       "<li>desc: Right Ascension</li>\n",
       "\n",
       "<li>min_value: 0.0</li>\n",
       "\n",
       "<li>max_value: 360.0</li>\n",
       "\n",
       "<li>unit: deg</li>\n",
       "\n",
       "<li>is_normalization: False</li>\n",
       "\n",
       "</ul>\n",
       "\n",
       "</li>\n",
       "\n",
       "<li>dec: \n",
       "<ul>\n",
       "\n",
       "<li>value: -13.2</li>\n",
       "\n",
       "<li>desc: Declination</li>\n",
       "\n",
       "<li>min_value: -90.0</li>\n",
       "\n",
       "<li>max_value: 90.0</li>\n",
       "\n",
       "<li>unit: deg</li>\n",
       "\n",
       "<li>is_normalization: False</li>\n",
       "\n",
       "</ul>\n",
       "\n",
       "</li>\n",
       "\n",
       "<li>equinox: J2000</li>\n",
       "\n",
       "</ul>\n",
       "\n",
       "</li>\n",
       "\n",
       "<li>spectrum: \n",
       "<ul>\n",
       "\n",
       "<li>main: \n",
       "<ul>\n",
       "\n",
       "<li>Powerlaw: \n",
       "<ul>\n",
       "\n",
       "<li>K: \n",
       "<ul>\n",
       "\n",
       "<li>value: 1.0</li>\n",
       "\n",
       "<li>desc: Normalization (differential flux at the pivot value)</li>\n",
       "\n",
       "<li>min_value: 1e-30</li>\n",
       "\n",
       "<li>max_value: 1000.0</li>\n",
       "\n",
       "<li>unit: keV-1 s-1 cm-2</li>\n",
       "\n",
       "<li>is_normalization: True</li>\n",
       "\n",
       "</ul>\n",
       "\n",
       "</li>\n",
       "\n",
       "<li>piv: \n",
       "<ul>\n",
       "\n",
       "<li>value: 1.0</li>\n",
       "\n",
       "<li>desc: Pivot value</li>\n",
       "\n",
       "<li>min_value: None</li>\n",
       "\n",
       "<li>max_value: None</li>\n",
       "\n",
       "<li>unit: keV</li>\n",
       "\n",
       "<li>is_normalization: False</li>\n",
       "\n",
       "</ul>\n",
       "\n",
       "</li>\n",
       "\n",
       "<li>index: \n",
       "<ul>\n",
       "\n",
       "<li>value: -2.01</li>\n",
       "\n",
       "<li>desc: Photon index</li>\n",
       "\n",
       "<li>min_value: -10.0</li>\n",
       "\n",
       "<li>max_value: 10.0</li>\n",
       "\n",
       "<li>unit: </li>\n",
       "\n",
       "<li>is_normalization: False</li>\n",
       "\n",
       "</ul>\n",
       "\n",
       "</li>\n",
       "\n",
       "</ul>\n",
       "\n",
       "</li>\n",
       "\n",
       "</ul>\n",
       "\n",
       "</li>\n",
       "\n",
       "</ul>\n",
       "\n",
       "</li>\n",
       "\n",
       "</ul>\n",
       "\n",
       "</li>\n",
       "\n",
       "</ul>\n"
      ],
      "text/plain": [
       "  * simple_source (point source):\n",
       "    * position:\n",
       "      * ra:\n",
       "        * value: 123.2\n",
       "        * desc: Right Ascension\n",
       "        * min_value: 0.0\n",
       "        * max_value: 360.0\n",
       "        * unit: deg\n",
       "        * is_normalization: false\n",
       "      * dec:\n",
       "        * value: -13.2\n",
       "        * desc: Declination\n",
       "        * min_value: -90.0\n",
       "        * max_value: 90.0\n",
       "        * unit: deg\n",
       "        * is_normalization: false\n",
       "      * equinox: J2000\n",
       "    * spectrum:\n",
       "      * main:\n",
       "        * Powerlaw:\n",
       "          * K:\n",
       "            * value: 1.0\n",
       "            * desc: Normalization (differential flux at the pivot value)\n",
       "            * min_value: 1.0e-30\n",
       "            * max_value: 1000.0\n",
       "            * unit: keV-1 s-1 cm-2\n",
       "            * is_normalization: true\n",
       "          * piv:\n",
       "            * value: 1.0\n",
       "            * desc: Pivot value\n",
       "            * min_value: null\n",
       "            * max_value: null\n",
       "            * unit: keV\n",
       "            * is_normalization: false\n",
       "          * index:\n",
       "            * value: -2.01\n",
       "            * desc: Photon index\n",
       "            * min_value: -10.0\n",
       "            * max_value: 10.0\n",
       "            * unit: ''\n",
       "            * is_normalization: false\n",
       "        * polarization: {}"
      ]
     },
     "metadata": {},
     "output_type": "display_data"
    }
   ],
   "source": [
    "simple_source_icrs.display()"
   ]
  },
  {
   "cell_type": "code",
   "execution_count": 4,
   "id": "203a2002",
   "metadata": {
    "execution": {
     "iopub.execute_input": "2024-02-06T22:29:09.917969Z",
     "iopub.status.busy": "2024-02-06T22:29:09.917537Z",
     "iopub.status.idle": "2024-02-06T22:29:09.929735Z",
     "shell.execute_reply": "2024-02-06T22:29:09.927242Z"
    }
   },
   "outputs": [
    {
     "name": "stdout",
     "output_type": "stream",
     "text": [
      "  * simple_source (point source):\n",
      "    * position:\n",
      "      * ra:\n",
      "        * value: 123.2\n",
      "        * desc: Right Ascension\n",
      "        * min_value: 0.0\n",
      "        * max_value: 360.0\n",
      "        * unit: deg\n",
      "        * is_normalization: false\n",
      "      * dec:\n",
      "        * value: -13.2\n",
      "        * desc: Declination\n",
      "        * min_value: -90.0\n",
      "        * max_value: 90.0\n",
      "        * unit: deg\n",
      "        * is_normalization: false\n",
      "      * equinox: J2000\n",
      "    * spectrum:\n",
      "      * main:\n",
      "        * Powerlaw:\n",
      "          * K:\n",
      "            * value: 1.0\n",
      "            * desc: Normalization (differential flux at the pivot value)\n",
      "            * min_value: 1.0e-30\n",
      "            * max_value: 1000.0\n",
      "            * unit: keV-1 s-1 cm-2\n",
      "            * is_normalization: true\n",
      "          * piv:\n",
      "            * value: 1.0\n",
      "            * desc: Pivot value\n",
      "            * min_value: null\n",
      "            * max_value: null\n",
      "            * unit: keV\n",
      "            * is_normalization: false\n",
      "          * index:\n",
      "            * value: -2.01\n",
      "            * desc: Photon index\n",
      "            * min_value: -10.0\n",
      "            * max_value: 10.0\n",
      "            * unit: ''\n",
      "            * is_normalization: false\n",
      "        * polarization: {}\n",
      "\n"
     ]
    }
   ],
   "source": [
    "print(simple_source_icrs)"
   ]
  },
  {
   "cell_type": "markdown",
   "id": "61967f75",
   "metadata": {},
   "source": [
    "As you can see we have created a point source with one component automatically named \"main\", with a power law spectrum, at the\n",
    "specified position."
   ]
  },
  {
   "cell_type": "markdown",
   "id": "6c4e5d41",
   "metadata": {},
   "source": [
    "## Converting between coordinate systems\n",
    "\n",
    "By default the coordinates of the point source are displayed in the same\n",
    "system used during creation. However, you can always obtain R.A, Dec or\n",
    "L,B like this:"
   ]
  },
  {
   "cell_type": "code",
   "execution_count": 5,
   "id": "2d8b8232",
   "metadata": {
    "execution": {
     "iopub.execute_input": "2024-02-06T22:29:09.937565Z",
     "iopub.status.busy": "2024-02-06T22:29:09.937121Z",
     "iopub.status.idle": "2024-02-06T22:29:09.982070Z",
     "shell.execute_reply": "2024-02-06T22:29:09.979302Z"
    }
   },
   "outputs": [
    {
     "data": {
      "text/html": [
       "Sky direction (R.A., Dec.) = (123.20000, -13.20000) (J2000)"
      ],
      "text/plain": [
       "Sky direction (R.A., Dec.) = (123.20000, -13.20000) (J2000)"
      ]
     },
     "metadata": {},
     "output_type": "display_data"
    },
    {
     "name": "stdout",
     "output_type": "stream",
     "text": [
      "234.32058209778668 11.36514410904394\n"
     ]
    },
    {
     "data": {
      "text/html": [
       "Sky direction (l, b) = (234.32057, 11.36514) (J2000)"
      ],
      "text/plain": [
       "Sky direction (l, b) = (234.32057, 11.36514) (J2000)"
      ]
     },
     "metadata": {},
     "output_type": "display_data"
    },
    {
     "name": "stdout",
     "output_type": "stream",
     "text": [
      "123.19999334752814 -13.199993514950481\n"
     ]
    }
   ],
   "source": [
    "simple_source_icrs.position.display()\n",
    "l = simple_source_icrs.position.get_l()\n",
    "b = simple_source_icrs.position.get_b()\n",
    "print(l,b)\n",
    "\n",
    "simple_source_gal.position.display()\n",
    "ra = simple_source_gal.position.get_ra()\n",
    "dec = simple_source_gal.position.get_dec()\n",
    "print(ra,dec)"
   ]
  },
  {
   "cell_type": "markdown",
   "id": "b05c0a21",
   "metadata": {},
   "source": [
    "For more control on the output and many more options, such as transform\n",
    "to local frames or other equinoxes, you can obtain an instance of\n",
    "[astropy.coordinates.SkyCoord](http://docs.astropy.org/en/stable/api/astropy.coordinates.SkyCoord.html) by using the `sky_coord` property of the\n",
    "position object:"
   ]
  },
  {
   "cell_type": "code",
   "execution_count": 6,
   "id": "0b04b47a",
   "metadata": {
    "execution": {
     "iopub.execute_input": "2024-02-06T22:29:09.991719Z",
     "iopub.status.busy": "2024-02-06T22:29:09.990926Z",
     "iopub.status.idle": "2024-02-06T22:29:10.011377Z",
     "shell.execute_reply": "2024-02-06T22:29:10.008016Z"
    }
   },
   "outputs": [
    {
     "name": "stdout",
     "output_type": "stream",
     "text": [
      "123.2\n"
     ]
    }
   ],
   "source": [
    "sky_coord_instance = simple_source_icrs.position.sky_coord\n",
    "ra = sky_coord_instance.transform_to('icrs').ra\n",
    "dec = sky_coord_instance.transform_to('icrs').dec\n",
    "print(ra.deg)"
   ]
  },
  {
   "cell_type": "markdown",
   "id": "d8b54ecb",
   "metadata": {},
   "source": [
    "## Gotcha while accessing coordinates\n",
    "\n",
    "Please note that using `get_ra()` and `.ra` (or the equivalent methods for\n",
    "the other coordinates) is not the same. While `get_ra()` will always\n",
    "return a single float value corresponding to the R.A. of the source, the\n",
    "`.ra` property will exist only if the source has been created using R.A,\n",
    "Dec as input coordinates and will return a Parameter instance:"
   ]
  },
  {
   "cell_type": "code",
   "execution_count": 7,
   "id": "f0397908",
   "metadata": {
    "execution": {
     "iopub.execute_input": "2024-02-06T22:29:10.022318Z",
     "iopub.status.busy": "2024-02-06T22:29:10.021693Z",
     "iopub.status.idle": "2024-02-06T22:29:10.040816Z",
     "shell.execute_reply": "2024-02-06T22:29:10.038021Z"
    }
   },
   "outputs": [
    {
     "name": "stdout",
     "output_type": "stream",
     "text": [
      "<class 'astromodels.core.parameter.Parameter'>\n"
     ]
    },
    {
     "data": {
      "text/html": [
       "Parameter ra = 123.2 [deg]\n",
       "(min_value = 0.0, max_value = 360.0, delta = 12.32, free = False)"
      ],
      "text/plain": [
       "Parameter ra = 123.2 [deg]\n",
       "(min_value = 0.0, max_value = 360.0, delta = 12.32, free = False)"
      ]
     },
     "metadata": {},
     "output_type": "display_data"
    },
    {
     "data": {
      "text/html": [
       "Parameter dec = -13.2 [deg]\n",
       "(min_value = -90.0, max_value = 90.0, delta = 1.32, free = False)"
      ],
      "text/plain": [
       "Parameter dec = -13.2 [deg]\n",
       "(min_value = -90.0, max_value = 90.0, delta = 1.32, free = False)"
      ]
     },
     "metadata": {},
     "output_type": "display_data"
    }
   ],
   "source": [
    "parameter_ra = simple_source_icrs.position.ra\n",
    "parameter_dec = simple_source_icrs.position.dec\n",
    "\n",
    "print( type(parameter_ra) )\n",
    "parameter_ra.display()\n",
    "parameter_dec.display()"
   ]
  },
  {
   "cell_type": "markdown",
   "id": "81b8caab",
   "metadata": {},
   "source": [
    "The following would instead throw `AttributeError`, since `simple_source_icrs` was instanced using R.A. and Dec. and hence does not have the `l`, `b` parameters:"
   ]
  },
  {
   "cell_type": "code",
   "execution_count": 8,
   "id": "cd6facc3",
   "metadata": {
    "execution": {
     "iopub.execute_input": "2024-02-06T22:29:10.051320Z",
     "iopub.status.busy": "2024-02-06T22:29:10.050670Z",
     "iopub.status.idle": "2024-02-06T22:29:10.062552Z",
     "shell.execute_reply": "2024-02-06T22:29:10.059495Z"
    }
   },
   "outputs": [
    {
     "name": "stdout",
     "output_type": "stream",
     "text": [
      "Accessing an element l of the node that does not exist\n"
     ]
    }
   ],
   "source": [
    "try:\n",
    "    print( simple_source_icrs.position.l)\n",
    "except Exception as e:\n",
    "    print(e)"
   ]
  },
  {
   "cell_type": "markdown",
   "id": "7d82fde2",
   "metadata": {},
   "source": [
    "In all cases, independently on how the source was instanced, you can obtain the *values* of coordinates in degrees\n",
    "as  floating point numbers using `get_ra()`, `get_dec()`, `get_l()`, `get_b()`. However, you can only directly *assign* coordinates in the same system that the source direction was originally created, e.g.:\n"
   ]
  },
  {
   "cell_type": "code",
   "execution_count": 9,
   "id": "5d55a365",
   "metadata": {
    "execution": {
     "iopub.execute_input": "2024-02-06T22:29:10.071561Z",
     "iopub.status.busy": "2024-02-06T22:29:10.071022Z",
     "iopub.status.idle": "2024-02-06T22:29:10.089641Z",
     "shell.execute_reply": "2024-02-06T22:29:10.086987Z"
    }
   },
   "outputs": [
    {
     "data": {
      "text/html": [
       "Sky direction (R.A., Dec.) = (123.20000, -13.20000) (J2000)"
      ],
      "text/plain": [
       "Sky direction (R.A., Dec.) = (123.20000, -13.20000) (J2000)"
      ]
     },
     "metadata": {},
     "output_type": "display_data"
    },
    {
     "data": {
      "text/html": [
       "Sky direction (R.A., Dec.) = (124.20000, -14.20000) (J2000)"
      ],
      "text/plain": [
       "Sky direction (R.A., Dec.) = (124.20000, -14.20000) (J2000)"
      ]
     },
     "metadata": {},
     "output_type": "display_data"
    }
   ],
   "source": [
    "simple_source_icrs.position.display()\n",
    "simple_source_icrs.position.ra =   simple_source_icrs.position.ra.value + 1.0\n",
    "simple_source_icrs.position.dec = simple_source_icrs.position.dec.value - 1.0\n",
    "simple_source_icrs.position.display()"
   ]
  },
  {
   "cell_type": "markdown",
   "id": "8124c625",
   "metadata": {},
   "source": [
    "## Fitting the source position\n",
    "\n",
    "Source coordinates, like any parameters, can be set to be free or fixed during the fit. By default, coordinates are set to be fixed. If you would like to fit them as free parameters during the likelihood fit, they can be freed as any other parameter. Note that `param.free = True` and `param.fix = False` are equivalent. "
   ]
  },
  {
   "cell_type": "code",
   "execution_count": 10,
   "id": "f5abd725",
   "metadata": {
    "execution": {
     "iopub.execute_input": "2024-02-06T22:29:10.099093Z",
     "iopub.status.busy": "2024-02-06T22:29:10.098511Z",
     "iopub.status.idle": "2024-02-06T22:29:10.109701Z",
     "shell.execute_reply": "2024-02-06T22:29:10.106677Z"
    }
   },
   "outputs": [
    {
     "name": "stdout",
     "output_type": "stream",
     "text": [
      "Free parameters (before freeing position): odict_keys(['simple_source.spectrum.main.Powerlaw.K', 'simple_source.spectrum.main.Powerlaw.index'])\n",
      "Free parameters (after freeing position): odict_keys(['simple_source.spectrum.main.Powerlaw.K', 'simple_source.spectrum.main.Powerlaw.index', 'simple_source.position.ra', 'simple_source.position.dec'])\n"
     ]
    }
   ],
   "source": [
    "print(\"Free parameters (before freeing position):\", simple_source_icrs.free_parameters.keys())\n",
    "simple_source_icrs.position.ra.free = True\n",
    "simple_source_icrs.position.dec.fix = False\n",
    "print(\"Free parameters (after freeing position):\", simple_source_icrs.free_parameters.keys())\n"
   ]
  },
  {
   "cell_type": "markdown",
   "id": "842ec324",
   "metadata": {},
   "source": [
    "For a source created in Galactic coordinates, instead use the following:"
   ]
  },
  {
   "cell_type": "code",
   "execution_count": 11,
   "id": "9f7a805f",
   "metadata": {
    "execution": {
     "iopub.execute_input": "2024-02-06T22:29:10.120632Z",
     "iopub.status.busy": "2024-02-06T22:29:10.120014Z",
     "iopub.status.idle": "2024-02-06T22:29:10.131780Z",
     "shell.execute_reply": "2024-02-06T22:29:10.128512Z"
    }
   },
   "outputs": [
    {
     "name": "stdout",
     "output_type": "stream",
     "text": [
      "Free parameters (before freeing position): odict_keys(['simple_source.spectrum.main.Powerlaw.K', 'simple_source.spectrum.main.Powerlaw.index'])\n",
      "Free parameters (after freeing position): odict_keys(['simple_source.spectrum.main.Powerlaw.K', 'simple_source.spectrum.main.Powerlaw.index', 'simple_source.position.l', 'simple_source.position.b'])\n"
     ]
    }
   ],
   "source": [
    "print(\"Free parameters (before freeing position):\", simple_source_gal.free_parameters.keys())\n",
    "simple_source_gal.position.l.free = True\n",
    "simple_source_gal.position.b.fix = False\n",
    "print(\"Free parameters (after freeing position):\", simple_source_gal.free_parameters.keys())\n"
   ]
  },
  {
   "cell_type": "markdown",
   "id": "9d6e0074",
   "metadata": {},
   "source": [
    "By default, the allowed range for the Right Ascension is from 0˚ to 360˚ and allowed declination values range from -90˚ to 90˚. **If fitting the source position, it is strongly recommended to restrict the coordinates to be inside the region of interest (ROI) at all times.** The source moving far enough from the ROI during the fit can lead to issues such as the minimizer getting \"stuck\" due to the likelihood surface being flat. For example:"
   ]
  },
  {
   "cell_type": "code",
   "execution_count": 12,
   "id": "ba61ec14",
   "metadata": {
    "execution": {
     "iopub.execute_input": "2024-02-06T22:29:10.145160Z",
     "iopub.status.busy": "2024-02-06T22:29:10.143872Z",
     "iopub.status.idle": "2024-02-06T22:29:10.165821Z",
     "shell.execute_reply": "2024-02-06T22:29:10.162929Z"
    }
   },
   "outputs": [
    {
     "data": {
      "text/html": [
       "Parameter ra = 124.2 [deg]\n",
       "(min_value = 119.2, max_value = 129.2, delta = 12.32, free = True)"
      ],
      "text/plain": [
       "Parameter ra = 124.2 [deg]\n",
       "(min_value = 119.2, max_value = 129.2, delta = 12.32, free = True)"
      ]
     },
     "metadata": {},
     "output_type": "display_data"
    },
    {
     "data": {
      "text/html": [
       "Parameter dec = -14.2 [deg]\n",
       "(min_value = -19.2, max_value = -9.2, delta = 1.32, free = True)"
      ],
      "text/plain": [
       "Parameter dec = -14.2 [deg]\n",
       "(min_value = -19.2, max_value = -9.2, delta = 1.32, free = True)"
      ]
     },
     "metadata": {},
     "output_type": "display_data"
    }
   ],
   "source": [
    "simple_source_icrs.position.ra.bounds = ( simple_source_icrs.position.ra.value - 5.0, simple_source_icrs.position.ra.value + 5.0 )\n",
    "simple_source_icrs.position.dec.bounds = ( simple_source_icrs.position.dec.value - 5.0, simple_source_icrs.position.dec.value + 5.0 )\n",
    "simple_source_icrs.position.ra.display()\n",
    "simple_source_icrs.position.dec.display()\n"
   ]
  },
  {
   "cell_type": "markdown",
   "id": "90ae8315",
   "metadata": {},
   "source": [
    "## \"Calling\" a point source\n",
    "\n",
    "Both the point source object itself as well as the compontents are callable functions who take as argument(s) an array of energies and return the differential flux dN/dE at those energies. Energies can be provided with or without units. **If no units are provided, energies are assumed to be in keV and fluxes are returned in 1/(cm2 keV s).**"
   ]
  },
  {
   "cell_type": "code",
   "execution_count": 13,
   "id": "21f2288a",
   "metadata": {
    "execution": {
     "iopub.execute_input": "2024-02-06T22:29:10.175786Z",
     "iopub.status.busy": "2024-02-06T22:29:10.175141Z",
     "iopub.status.idle": "2024-02-06T22:29:11.899132Z",
     "shell.execute_reply": "2024-02-06T22:29:11.895722Z"
    }
   },
   "outputs": [
    {
     "name": "stdout",
     "output_type": "stream",
     "text": [
      "Energy in keV:\n"
     ]
    },
    {
     "name": "stdout",
     "output_type": "stream",
     "text": [
      "With units: [1.00000000e+00 9.77237221e-03 9.54992586e-05] 1 / (keV s cm2)\n"
     ]
    },
    {
     "name": "stdout",
     "output_type": "stream",
     "text": [
      "Without units: [1.00000000e+00 9.77237221e-03 9.54992586e-05]\n",
      "With units: [1.00000000e+00 9.77237221e-03 9.54992586e-05] 1 / (keV s cm2)\n",
      "Without units: [1.00000000e+00 9.77237221e-03 9.54992586e-05]\n",
      "\n",
      "Energy in TeV:\n",
      "With units: [1.00000000e+00 9.77237221e-03 9.54992586e-05] 1 / (keV s cm2)\n",
      "With units: [1.00000000e+09 9.77237221e+06 9.54992586e+04] 1 / (TeV s cm2)\n",
      "Without units: [1.23026877e+18 1.20226443e+16 1.17489755e+14]\n"
     ]
    }
   ],
   "source": [
    "from astropy import units as u\n",
    "E = [1, 10, 100]*u.keV\n",
    "\n",
    "print(\"Energy in keV:\")\n",
    "print( \"With units:\", simple_source_icrs(E) )\n",
    "print( \"Without units:\", simple_source_icrs(E.value) )\n",
    "\n",
    "print( \"With units:\", simple_source_icrs.spectrum.main.shape(E) )\n",
    "print( \"Without units:\", simple_source_icrs.spectrum.main.shape(E.value) )\n",
    "\n",
    "print(\"\")\n",
    "print(\"Energy in TeV:\")\n",
    "E_TeV = E.to(u.TeV)\n",
    "print( \"With units:\", simple_source_icrs(E_TeV) )\n",
    "print( \"With units:\", simple_source_icrs(E_TeV).to(1/u.cm**2/u.TeV/u.s) )\n",
    "print( \"Without units:\", simple_source_icrs(E_TeV.value) )\n",
    "\n",
    "\n"
   ]
  },
  {
   "cell_type": "code",
   "execution_count": null,
   "id": "3fa12b7d",
   "metadata": {},
   "outputs": [],
   "source": []
  }
 ],
 "metadata": {
  "jupytext": {
   "formats": "ipynb,md"
  },
  "kernelspec": {
   "display_name": "Python 3",
   "language": "python",
   "name": "python3"
  },
  "language_info": {
   "codemirror_mode": {
    "name": "ipython",
    "version": 3
   },
   "file_extension": ".py",
   "mimetype": "text/x-python",
   "name": "python",
   "nbconvert_exporter": "python",
   "pygments_lexer": "ipython3",
   "version": "3.9.18"
  }
 },
 "nbformat": 4,
 "nbformat_minor": 5
}
