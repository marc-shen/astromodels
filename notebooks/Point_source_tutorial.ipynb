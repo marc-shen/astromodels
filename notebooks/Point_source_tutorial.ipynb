{
 "cells": [
  {
   "cell_type": "markdown",
   "id": "42902492",
   "metadata": {},
   "source": [
    "# Point sources #\n",
    "\n",
    "In astromodels, a point source is described by its position in the sky\n",
    "and its spectral features.\n",
    "\n",
    "\n",
    "## Creating a point source\n",
    "\n",
    "A simple source with a power law spectrum can be created like this, using J2000 R.A. and Dec (ICRS), which is the default coordinate system:"
   ]
  },
  {
   "cell_type": "code",
   "execution_count": 1,
   "id": "3c87bdbd",
   "metadata": {
    "execution": {
     "iopub.execute_input": "2022-10-26T10:22:18.618700Z",
     "iopub.status.busy": "2022-10-26T10:22:18.618235Z",
     "iopub.status.idle": "2022-10-26T10:22:22.156864Z",
     "shell.execute_reply": "2022-10-26T10:22:22.155765Z"
    }
   },
   "outputs": [
    {
     "data": {
      "text/html": [
       "<pre style=\"white-space:pre;overflow-x:auto;line-height:normal;font-family:Menlo,'DejaVu Sans Mono',consolas,'Courier New',monospace\"><span style=\"color: #00ff00; text-decoration-color: #00ff00\">10:22:21 </span><span style=\"color: #af5fd7; text-decoration-color: #af5fd7\">WARNING </span> <span style=\"color: #c6c6c6; text-decoration-color: #c6c6c6; font-weight: bold\"> The naima package is not available. Models that depend on it will not be         </span><a href=\"file:///Users/runner/hostedtoolcache/Python/3.9.14/x64/lib/python3.9/site-packages/astromodels-0+untagged.1.g687d19c-py3.9.egg/astromodels/functions/functions_1D/functions.py\" target=\"_blank\"><span style=\"color: #7f7f7f; text-decoration-color: #7f7f7f\">functions.py</span></a><span style=\"color: #7f7f7f; text-decoration-color: #7f7f7f\">:</span><a href=\"file:///Users/runner/hostedtoolcache/Python/3.9.14/x64/lib/python3.9/site-packages/astromodels-0+untagged.1.g687d19c-py3.9.egg/astromodels/functions/functions_1D/functions.py#48\" target=\"_blank\"><span style=\"color: #7f7f7f; text-decoration-color: #7f7f7f\">48</span></a>\n",
       "<span style=\"color: #00ff00; text-decoration-color: #00ff00\">         </span>         <span style=\"color: #c6c6c6; text-decoration-color: #c6c6c6; font-weight: bold\">available                                                                         </span><span style=\"color: #7f7f7f; text-decoration-color: #7f7f7f\">               </span>\n",
       "</pre>\n"
      ],
      "text/plain": [
       "\u001b[38;5;46m10:22:21\u001b[0m\u001b[38;5;46m \u001b[0m\u001b[38;5;134mWARNING \u001b[0m \u001b[1;38;5;251m The naima package is not available. Models that depend on it will not be        \u001b[0m\u001b[1;38;5;251m \u001b[0m\u001b]8;id=896140;file:///Users/runner/hostedtoolcache/Python/3.9.14/x64/lib/python3.9/site-packages/astromodels-0+untagged.1.g687d19c-py3.9.egg/astromodels/functions/functions_1D/functions.py\u001b\\\u001b[2mfunctions.py\u001b[0m\u001b]8;;\u001b\\\u001b[2m:\u001b[0m\u001b]8;id=377458;file:///Users/runner/hostedtoolcache/Python/3.9.14/x64/lib/python3.9/site-packages/astromodels-0+untagged.1.g687d19c-py3.9.egg/astromodels/functions/functions_1D/functions.py#48\u001b\\\u001b[2m48\u001b[0m\u001b]8;;\u001b\\\n",
       "\u001b[38;5;46m         \u001b[0m         \u001b[1;38;5;251mavailable                                                                        \u001b[0m\u001b[1;38;5;251m \u001b[0m\u001b[2m               \u001b[0m\n"
      ]
     },
     "metadata": {},
     "output_type": "display_data"
    },
    {
     "data": {
      "text/html": [
       "<pre style=\"white-space:pre;overflow-x:auto;line-height:normal;font-family:Menlo,'DejaVu Sans Mono',consolas,'Courier New',monospace\"><span style=\"color: #00ff00; text-decoration-color: #00ff00\">         </span><span style=\"color: #af5fd7; text-decoration-color: #af5fd7\">WARNING </span> <span style=\"color: #c6c6c6; text-decoration-color: #c6c6c6; font-weight: bold\"> The GSL library or the pygsl wrapper cannot be loaded. Models that depend on it  </span><a href=\"file:///Users/runner/hostedtoolcache/Python/3.9.14/x64/lib/python3.9/site-packages/astromodels-0+untagged.1.g687d19c-py3.9.egg/astromodels/functions/functions_1D/functions.py\" target=\"_blank\"><span style=\"color: #7f7f7f; text-decoration-color: #7f7f7f\">functions.py</span></a><span style=\"color: #7f7f7f; text-decoration-color: #7f7f7f\">:</span><a href=\"file:///Users/runner/hostedtoolcache/Python/3.9.14/x64/lib/python3.9/site-packages/astromodels-0+untagged.1.g687d19c-py3.9.egg/astromodels/functions/functions_1D/functions.py#69\" target=\"_blank\"><span style=\"color: #7f7f7f; text-decoration-color: #7f7f7f\">69</span></a>\n",
       "<span style=\"color: #00ff00; text-decoration-color: #00ff00\">         </span>         <span style=\"color: #c6c6c6; text-decoration-color: #c6c6c6; font-weight: bold\">will not be available.                                                            </span><span style=\"color: #7f7f7f; text-decoration-color: #7f7f7f\">               </span>\n",
       "</pre>\n"
      ],
      "text/plain": [
       "\u001b[38;5;46m        \u001b[0m\u001b[38;5;46m \u001b[0m\u001b[38;5;134mWARNING \u001b[0m \u001b[1;38;5;251m The GSL library or the pygsl wrapper cannot be loaded. Models that depend on it \u001b[0m\u001b[1;38;5;251m \u001b[0m\u001b]8;id=67540;file:///Users/runner/hostedtoolcache/Python/3.9.14/x64/lib/python3.9/site-packages/astromodels-0+untagged.1.g687d19c-py3.9.egg/astromodels/functions/functions_1D/functions.py\u001b\\\u001b[2mfunctions.py\u001b[0m\u001b]8;;\u001b\\\u001b[2m:\u001b[0m\u001b]8;id=444590;file:///Users/runner/hostedtoolcache/Python/3.9.14/x64/lib/python3.9/site-packages/astromodels-0+untagged.1.g687d19c-py3.9.egg/astromodels/functions/functions_1D/functions.py#69\u001b\\\u001b[2m69\u001b[0m\u001b]8;;\u001b\\\n",
       "\u001b[38;5;46m         \u001b[0m         \u001b[1;38;5;251mwill not be available.                                                           \u001b[0m\u001b[1;38;5;251m \u001b[0m\u001b[2m               \u001b[0m\n"
      ]
     },
     "metadata": {},
     "output_type": "display_data"
    },
    {
     "data": {
      "text/html": [
       "<pre style=\"white-space:pre;overflow-x:auto;line-height:normal;font-family:Menlo,'DejaVu Sans Mono',consolas,'Courier New',monospace\"><span style=\"color: #00ff00; text-decoration-color: #00ff00\">         </span><span style=\"color: #af5fd7; text-decoration-color: #af5fd7\">WARNING </span> <span style=\"color: #c6c6c6; text-decoration-color: #c6c6c6; font-weight: bold\"> We have set the min_value of K to </span><span style=\"color: #c0c0c0; text-decoration-color: #c0c0c0; font-weight: bold\">1e-99</span><span style=\"color: #c6c6c6; text-decoration-color: #c6c6c6; font-weight: bold\"> because there was a postive transform   </span><a href=\"file:///Users/runner/hostedtoolcache/Python/3.9.14/x64/lib/python3.9/site-packages/astromodels-0+untagged.1.g687d19c-py3.9.egg/astromodels/core/parameter.py\" target=\"_blank\"><span style=\"color: #7f7f7f; text-decoration-color: #7f7f7f\">parameter.py</span></a><span style=\"color: #7f7f7f; text-decoration-color: #7f7f7f\">:</span><a href=\"file:///Users/runner/hostedtoolcache/Python/3.9.14/x64/lib/python3.9/site-packages/astromodels-0+untagged.1.g687d19c-py3.9.egg/astromodels/core/parameter.py#704\" target=\"_blank\"><span style=\"color: #7f7f7f; text-decoration-color: #7f7f7f\">704</span></a>\n",
       "</pre>\n"
      ],
      "text/plain": [
       "\u001b[38;5;46m        \u001b[0m\u001b[38;5;46m \u001b[0m\u001b[38;5;134mWARNING \u001b[0m \u001b[1;38;5;251m We have set the min_value of K to \u001b[0m\u001b[1;37m1e-99\u001b[0m\u001b[1;38;5;251m because there was a postive transform  \u001b[0m\u001b[1;38;5;251m \u001b[0m\u001b]8;id=138312;file:///Users/runner/hostedtoolcache/Python/3.9.14/x64/lib/python3.9/site-packages/astromodels-0+untagged.1.g687d19c-py3.9.egg/astromodels/core/parameter.py\u001b\\\u001b[2mparameter.py\u001b[0m\u001b]8;;\u001b\\\u001b[2m:\u001b[0m\u001b]8;id=611164;file:///Users/runner/hostedtoolcache/Python/3.9.14/x64/lib/python3.9/site-packages/astromodels-0+untagged.1.g687d19c-py3.9.egg/astromodels/core/parameter.py#704\u001b\\\u001b[2m704\u001b[0m\u001b]8;;\u001b\\\n"
      ]
     },
     "metadata": {},
     "output_type": "display_data"
    },
    {
     "data": {
      "text/html": [
       "<pre style=\"white-space:pre;overflow-x:auto;line-height:normal;font-family:Menlo,'DejaVu Sans Mono',consolas,'Courier New',monospace\"><span style=\"color: #00ff00; text-decoration-color: #00ff00\">         </span><span style=\"color: #af5fd7; text-decoration-color: #af5fd7\">WARNING </span> <span style=\"color: #c6c6c6; text-decoration-color: #c6c6c6; font-weight: bold\"> We have set the min_value of K to </span><span style=\"color: #c0c0c0; text-decoration-color: #c0c0c0; font-weight: bold\">1e-99</span><span style=\"color: #c6c6c6; text-decoration-color: #c6c6c6; font-weight: bold\"> because there was a postive transform   </span><a href=\"file:///Users/runner/hostedtoolcache/Python/3.9.14/x64/lib/python3.9/site-packages/astromodels-0+untagged.1.g687d19c-py3.9.egg/astromodels/core/parameter.py\" target=\"_blank\"><span style=\"color: #7f7f7f; text-decoration-color: #7f7f7f\">parameter.py</span></a><span style=\"color: #7f7f7f; text-decoration-color: #7f7f7f\">:</span><a href=\"file:///Users/runner/hostedtoolcache/Python/3.9.14/x64/lib/python3.9/site-packages/astromodels-0+untagged.1.g687d19c-py3.9.egg/astromodels/core/parameter.py#704\" target=\"_blank\"><span style=\"color: #7f7f7f; text-decoration-color: #7f7f7f\">704</span></a>\n",
       "</pre>\n"
      ],
      "text/plain": [
       "\u001b[38;5;46m        \u001b[0m\u001b[38;5;46m \u001b[0m\u001b[38;5;134mWARNING \u001b[0m \u001b[1;38;5;251m We have set the min_value of K to \u001b[0m\u001b[1;37m1e-99\u001b[0m\u001b[1;38;5;251m because there was a postive transform  \u001b[0m\u001b[1;38;5;251m \u001b[0m\u001b]8;id=236409;file:///Users/runner/hostedtoolcache/Python/3.9.14/x64/lib/python3.9/site-packages/astromodels-0+untagged.1.g687d19c-py3.9.egg/astromodels/core/parameter.py\u001b\\\u001b[2mparameter.py\u001b[0m\u001b]8;;\u001b\\\u001b[2m:\u001b[0m\u001b]8;id=252413;file:///Users/runner/hostedtoolcache/Python/3.9.14/x64/lib/python3.9/site-packages/astromodels-0+untagged.1.g687d19c-py3.9.egg/astromodels/core/parameter.py#704\u001b\\\u001b[2m704\u001b[0m\u001b]8;;\u001b\\\n"
      ]
     },
     "metadata": {},
     "output_type": "display_data"
    },
    {
     "data": {
      "text/html": [
       "<pre style=\"white-space:pre;overflow-x:auto;line-height:normal;font-family:Menlo,'DejaVu Sans Mono',consolas,'Courier New',monospace\"><span style=\"color: #00ff00; text-decoration-color: #00ff00\">         </span><span style=\"color: #af5fd7; text-decoration-color: #af5fd7\">WARNING </span> <span style=\"color: #c6c6c6; text-decoration-color: #c6c6c6; font-weight: bold\"> We have set the min_value of K to </span><span style=\"color: #c0c0c0; text-decoration-color: #c0c0c0; font-weight: bold\">1e-99</span><span style=\"color: #c6c6c6; text-decoration-color: #c6c6c6; font-weight: bold\"> because there was a postive transform   </span><a href=\"file:///Users/runner/hostedtoolcache/Python/3.9.14/x64/lib/python3.9/site-packages/astromodels-0+untagged.1.g687d19c-py3.9.egg/astromodels/core/parameter.py\" target=\"_blank\"><span style=\"color: #7f7f7f; text-decoration-color: #7f7f7f\">parameter.py</span></a><span style=\"color: #7f7f7f; text-decoration-color: #7f7f7f\">:</span><a href=\"file:///Users/runner/hostedtoolcache/Python/3.9.14/x64/lib/python3.9/site-packages/astromodels-0+untagged.1.g687d19c-py3.9.egg/astromodels/core/parameter.py#704\" target=\"_blank\"><span style=\"color: #7f7f7f; text-decoration-color: #7f7f7f\">704</span></a>\n",
       "</pre>\n"
      ],
      "text/plain": [
       "\u001b[38;5;46m        \u001b[0m\u001b[38;5;46m \u001b[0m\u001b[38;5;134mWARNING \u001b[0m \u001b[1;38;5;251m We have set the min_value of K to \u001b[0m\u001b[1;37m1e-99\u001b[0m\u001b[1;38;5;251m because there was a postive transform  \u001b[0m\u001b[1;38;5;251m \u001b[0m\u001b]8;id=393104;file:///Users/runner/hostedtoolcache/Python/3.9.14/x64/lib/python3.9/site-packages/astromodels-0+untagged.1.g687d19c-py3.9.egg/astromodels/core/parameter.py\u001b\\\u001b[2mparameter.py\u001b[0m\u001b]8;;\u001b\\\u001b[2m:\u001b[0m\u001b]8;id=207998;file:///Users/runner/hostedtoolcache/Python/3.9.14/x64/lib/python3.9/site-packages/astromodels-0+untagged.1.g687d19c-py3.9.egg/astromodels/core/parameter.py#704\u001b\\\u001b[2m704\u001b[0m\u001b]8;;\u001b\\\n"
      ]
     },
     "metadata": {},
     "output_type": "display_data"
    },
    {
     "data": {
      "text/html": [
       "<pre style=\"white-space:pre;overflow-x:auto;line-height:normal;font-family:Menlo,'DejaVu Sans Mono',consolas,'Courier New',monospace\"><span style=\"color: #00ff00; text-decoration-color: #00ff00\">         </span><span style=\"color: #af5fd7; text-decoration-color: #af5fd7\">WARNING </span> <span style=\"color: #c6c6c6; text-decoration-color: #c6c6c6; font-weight: bold\"> We have set the min_value of K to </span><span style=\"color: #c0c0c0; text-decoration-color: #c0c0c0; font-weight: bold\">1e-99</span><span style=\"color: #c6c6c6; text-decoration-color: #c6c6c6; font-weight: bold\"> because there was a postive transform   </span><a href=\"file:///Users/runner/hostedtoolcache/Python/3.9.14/x64/lib/python3.9/site-packages/astromodels-0+untagged.1.g687d19c-py3.9.egg/astromodels/core/parameter.py\" target=\"_blank\"><span style=\"color: #7f7f7f; text-decoration-color: #7f7f7f\">parameter.py</span></a><span style=\"color: #7f7f7f; text-decoration-color: #7f7f7f\">:</span><a href=\"file:///Users/runner/hostedtoolcache/Python/3.9.14/x64/lib/python3.9/site-packages/astromodels-0+untagged.1.g687d19c-py3.9.egg/astromodels/core/parameter.py#704\" target=\"_blank\"><span style=\"color: #7f7f7f; text-decoration-color: #7f7f7f\">704</span></a>\n",
       "</pre>\n"
      ],
      "text/plain": [
       "\u001b[38;5;46m        \u001b[0m\u001b[38;5;46m \u001b[0m\u001b[38;5;134mWARNING \u001b[0m \u001b[1;38;5;251m We have set the min_value of K to \u001b[0m\u001b[1;37m1e-99\u001b[0m\u001b[1;38;5;251m because there was a postive transform  \u001b[0m\u001b[1;38;5;251m \u001b[0m\u001b]8;id=105296;file:///Users/runner/hostedtoolcache/Python/3.9.14/x64/lib/python3.9/site-packages/astromodels-0+untagged.1.g687d19c-py3.9.egg/astromodels/core/parameter.py\u001b\\\u001b[2mparameter.py\u001b[0m\u001b]8;;\u001b\\\u001b[2m:\u001b[0m\u001b]8;id=419288;file:///Users/runner/hostedtoolcache/Python/3.9.14/x64/lib/python3.9/site-packages/astromodels-0+untagged.1.g687d19c-py3.9.egg/astromodels/core/parameter.py#704\u001b\\\u001b[2m704\u001b[0m\u001b]8;;\u001b\\\n"
      ]
     },
     "metadata": {},
     "output_type": "display_data"
    },
    {
     "data": {
      "text/html": [
       "<pre style=\"white-space:pre;overflow-x:auto;line-height:normal;font-family:Menlo,'DejaVu Sans Mono',consolas,'Courier New',monospace\"><span style=\"color: #00ff00; text-decoration-color: #00ff00\">         </span><span style=\"color: #af5fd7; text-decoration-color: #af5fd7\">WARNING </span> <span style=\"color: #c6c6c6; text-decoration-color: #c6c6c6; font-weight: bold\"> We have set the min_value of F to </span><span style=\"color: #c0c0c0; text-decoration-color: #c0c0c0; font-weight: bold\">1e-99</span><span style=\"color: #c6c6c6; text-decoration-color: #c6c6c6; font-weight: bold\"> because there was a postive transform   </span><a href=\"file:///Users/runner/hostedtoolcache/Python/3.9.14/x64/lib/python3.9/site-packages/astromodels-0+untagged.1.g687d19c-py3.9.egg/astromodels/core/parameter.py\" target=\"_blank\"><span style=\"color: #7f7f7f; text-decoration-color: #7f7f7f\">parameter.py</span></a><span style=\"color: #7f7f7f; text-decoration-color: #7f7f7f\">:</span><a href=\"file:///Users/runner/hostedtoolcache/Python/3.9.14/x64/lib/python3.9/site-packages/astromodels-0+untagged.1.g687d19c-py3.9.egg/astromodels/core/parameter.py#704\" target=\"_blank\"><span style=\"color: #7f7f7f; text-decoration-color: #7f7f7f\">704</span></a>\n",
       "</pre>\n"
      ],
      "text/plain": [
       "\u001b[38;5;46m        \u001b[0m\u001b[38;5;46m \u001b[0m\u001b[38;5;134mWARNING \u001b[0m \u001b[1;38;5;251m We have set the min_value of F to \u001b[0m\u001b[1;37m1e-99\u001b[0m\u001b[1;38;5;251m because there was a postive transform  \u001b[0m\u001b[1;38;5;251m \u001b[0m\u001b]8;id=759709;file:///Users/runner/hostedtoolcache/Python/3.9.14/x64/lib/python3.9/site-packages/astromodels-0+untagged.1.g687d19c-py3.9.egg/astromodels/core/parameter.py\u001b\\\u001b[2mparameter.py\u001b[0m\u001b]8;;\u001b\\\u001b[2m:\u001b[0m\u001b]8;id=343358;file:///Users/runner/hostedtoolcache/Python/3.9.14/x64/lib/python3.9/site-packages/astromodels-0+untagged.1.g687d19c-py3.9.egg/astromodels/core/parameter.py#704\u001b\\\u001b[2m704\u001b[0m\u001b]8;;\u001b\\\n"
      ]
     },
     "metadata": {},
     "output_type": "display_data"
    },
    {
     "data": {
      "text/html": [
       "<pre style=\"white-space:pre;overflow-x:auto;line-height:normal;font-family:Menlo,'DejaVu Sans Mono',consolas,'Courier New',monospace\"><span style=\"color: #00ff00; text-decoration-color: #00ff00\">         </span><span style=\"color: #af5fd7; text-decoration-color: #af5fd7\">WARNING </span> <span style=\"color: #c6c6c6; text-decoration-color: #c6c6c6; font-weight: bold\"> We have set the min_value of K to </span><span style=\"color: #c0c0c0; text-decoration-color: #c0c0c0; font-weight: bold\">1e-99</span><span style=\"color: #c6c6c6; text-decoration-color: #c6c6c6; font-weight: bold\"> because there was a postive transform   </span><a href=\"file:///Users/runner/hostedtoolcache/Python/3.9.14/x64/lib/python3.9/site-packages/astromodels-0+untagged.1.g687d19c-py3.9.egg/astromodels/core/parameter.py\" target=\"_blank\"><span style=\"color: #7f7f7f; text-decoration-color: #7f7f7f\">parameter.py</span></a><span style=\"color: #7f7f7f; text-decoration-color: #7f7f7f\">:</span><a href=\"file:///Users/runner/hostedtoolcache/Python/3.9.14/x64/lib/python3.9/site-packages/astromodels-0+untagged.1.g687d19c-py3.9.egg/astromodels/core/parameter.py#704\" target=\"_blank\"><span style=\"color: #7f7f7f; text-decoration-color: #7f7f7f\">704</span></a>\n",
       "</pre>\n"
      ],
      "text/plain": [
       "\u001b[38;5;46m        \u001b[0m\u001b[38;5;46m \u001b[0m\u001b[38;5;134mWARNING \u001b[0m \u001b[1;38;5;251m We have set the min_value of K to \u001b[0m\u001b[1;37m1e-99\u001b[0m\u001b[1;38;5;251m because there was a postive transform  \u001b[0m\u001b[1;38;5;251m \u001b[0m\u001b]8;id=658421;file:///Users/runner/hostedtoolcache/Python/3.9.14/x64/lib/python3.9/site-packages/astromodels-0+untagged.1.g687d19c-py3.9.egg/astromodels/core/parameter.py\u001b\\\u001b[2mparameter.py\u001b[0m\u001b]8;;\u001b\\\u001b[2m:\u001b[0m\u001b]8;id=510869;file:///Users/runner/hostedtoolcache/Python/3.9.14/x64/lib/python3.9/site-packages/astromodels-0+untagged.1.g687d19c-py3.9.egg/astromodels/core/parameter.py#704\u001b\\\u001b[2m704\u001b[0m\u001b]8;;\u001b\\\n"
      ]
     },
     "metadata": {},
     "output_type": "display_data"
    }
   ],
   "source": [
    "from astromodels import *\n",
    "simple_source_icrs = PointSource('simple_source', ra=123.2, dec=-13.2, spectral_shape=Powerlaw())"
   ]
  },
  {
   "cell_type": "markdown",
   "id": "6c53f491",
   "metadata": {},
   "source": [
    "We can also use Galactic coordinates:"
   ]
  },
  {
   "cell_type": "code",
   "execution_count": 2,
   "id": "98e81870",
   "metadata": {
    "execution": {
     "iopub.execute_input": "2022-10-26T10:22:22.162558Z",
     "iopub.status.busy": "2022-10-26T10:22:22.162136Z",
     "iopub.status.idle": "2022-10-26T10:22:22.171802Z",
     "shell.execute_reply": "2022-10-26T10:22:22.170621Z"
    }
   },
   "outputs": [],
   "source": [
    "simple_source_gal = PointSource('simple_source', l=234.320573, b=11.365142, spectral_shape=Powerlaw())"
   ]
  },
  {
   "cell_type": "markdown",
   "id": "f8fef8f9",
   "metadata": {},
   "source": [
    "As spectral shape we can use any function or any composite function (see\n",
    "\"Creating and modifying functions\")"
   ]
  },
  {
   "cell_type": "markdown",
   "id": "f425ed2f",
   "metadata": {},
   "source": [
    "## Getting info about a point source\n",
    "\n",
    "Info about a point source can be obtained with the\n",
    "`.display()` method (which will use the richest representation available),\n",
    "or by printing it which will display a text-only representation:\n"
   ]
  },
  {
   "cell_type": "code",
   "execution_count": 3,
   "id": "8344aba3",
   "metadata": {
    "execution": {
     "iopub.execute_input": "2022-10-26T10:22:22.177916Z",
     "iopub.status.busy": "2022-10-26T10:22:22.177508Z",
     "iopub.status.idle": "2022-10-26T10:22:22.190232Z",
     "shell.execute_reply": "2022-10-26T10:22:22.189188Z"
    }
   },
   "outputs": [
    {
     "data": {
      "text/html": [
       "<ul>\n",
       "\n",
       "<li>simple_source (point source): \n",
       "<ul>\n",
       "\n",
       "<li>position: \n",
       "<ul>\n",
       "\n",
       "<li>ra: \n",
       "<ul>\n",
       "\n",
       "<li>value: 123.2</li>\n",
       "\n",
       "<li>desc: Right Ascension</li>\n",
       "\n",
       "<li>min_value: 0.0</li>\n",
       "\n",
       "<li>max_value: 360.0</li>\n",
       "\n",
       "<li>unit: deg</li>\n",
       "\n",
       "<li>is_normalization: False</li>\n",
       "\n",
       "</ul>\n",
       "\n",
       "</li>\n",
       "\n",
       "<li>dec: \n",
       "<ul>\n",
       "\n",
       "<li>value: -13.2</li>\n",
       "\n",
       "<li>desc: Declination</li>\n",
       "\n",
       "<li>min_value: -90.0</li>\n",
       "\n",
       "<li>max_value: 90.0</li>\n",
       "\n",
       "<li>unit: deg</li>\n",
       "\n",
       "<li>is_normalization: False</li>\n",
       "\n",
       "</ul>\n",
       "\n",
       "</li>\n",
       "\n",
       "<li>equinox: J2000</li>\n",
       "\n",
       "</ul>\n",
       "\n",
       "</li>\n",
       "\n",
       "<li>spectrum: \n",
       "<ul>\n",
       "\n",
       "<li>main: \n",
       "<ul>\n",
       "\n",
       "<li>Powerlaw: \n",
       "<ul>\n",
       "\n",
       "<li>K: \n",
       "<ul>\n",
       "\n",
       "<li>value: 1.0</li>\n",
       "\n",
       "<li>desc: Normalization (differential flux at the pivot value)</li>\n",
       "\n",
       "<li>min_value: 1e-30</li>\n",
       "\n",
       "<li>max_value: 1000.0</li>\n",
       "\n",
       "<li>unit: keV-1 s-1 cm-2</li>\n",
       "\n",
       "<li>is_normalization: True</li>\n",
       "\n",
       "</ul>\n",
       "\n",
       "</li>\n",
       "\n",
       "<li>piv: \n",
       "<ul>\n",
       "\n",
       "<li>value: 1.0</li>\n",
       "\n",
       "<li>desc: Pivot value</li>\n",
       "\n",
       "<li>min_value: None</li>\n",
       "\n",
       "<li>max_value: None</li>\n",
       "\n",
       "<li>unit: keV</li>\n",
       "\n",
       "<li>is_normalization: False</li>\n",
       "\n",
       "</ul>\n",
       "\n",
       "</li>\n",
       "\n",
       "<li>index: \n",
       "<ul>\n",
       "\n",
       "<li>value: -2.01</li>\n",
       "\n",
       "<li>desc: Photon index</li>\n",
       "\n",
       "<li>min_value: -10.0</li>\n",
       "\n",
       "<li>max_value: 10.0</li>\n",
       "\n",
       "<li>unit: </li>\n",
       "\n",
       "<li>is_normalization: False</li>\n",
       "\n",
       "</ul>\n",
       "\n",
       "</li>\n",
       "\n",
       "</ul>\n",
       "\n",
       "</li>\n",
       "\n",
       "</ul>\n",
       "\n",
       "</li>\n",
       "\n",
       "</ul>\n",
       "\n",
       "</li>\n",
       "\n",
       "</ul>\n",
       "\n",
       "</li>\n",
       "\n",
       "</ul>\n"
      ],
      "text/plain": [
       "  * simple_source (point source):\n",
       "    * position:\n",
       "      * ra:\n",
       "        * value: 123.2\n",
       "        * desc: Right Ascension\n",
       "        * min_value: 0.0\n",
       "        * max_value: 360.0\n",
       "        * unit: deg\n",
       "        * is_normalization: false\n",
       "      * dec:\n",
       "        * value: -13.2\n",
       "        * desc: Declination\n",
       "        * min_value: -90.0\n",
       "        * max_value: 90.0\n",
       "        * unit: deg\n",
       "        * is_normalization: false\n",
       "      * equinox: J2000\n",
       "    * spectrum:\n",
       "      * main:\n",
       "        * Powerlaw:\n",
       "          * K:\n",
       "            * value: 1.0\n",
       "            * desc: Normalization (differential flux at the pivot value)\n",
       "            * min_value: 1.0e-30\n",
       "            * max_value: 1000.0\n",
       "            * unit: keV-1 s-1 cm-2\n",
       "            * is_normalization: true\n",
       "          * piv:\n",
       "            * value: 1.0\n",
       "            * desc: Pivot value\n",
       "            * min_value: null\n",
       "            * max_value: null\n",
       "            * unit: keV\n",
       "            * is_normalization: false\n",
       "          * index:\n",
       "            * value: -2.01\n",
       "            * desc: Photon index\n",
       "            * min_value: -10.0\n",
       "            * max_value: 10.0\n",
       "            * unit: ''\n",
       "            * is_normalization: false\n",
       "        * polarization: {}"
      ]
     },
     "metadata": {},
     "output_type": "display_data"
    }
   ],
   "source": [
    "simple_source_icrs.display()"
   ]
  },
  {
   "cell_type": "code",
   "execution_count": 4,
   "id": "02633601",
   "metadata": {
    "execution": {
     "iopub.execute_input": "2022-10-26T10:22:22.195110Z",
     "iopub.status.busy": "2022-10-26T10:22:22.194688Z",
     "iopub.status.idle": "2022-10-26T10:22:22.204106Z",
     "shell.execute_reply": "2022-10-26T10:22:22.203128Z"
    }
   },
   "outputs": [
    {
     "name": "stdout",
     "output_type": "stream",
     "text": [
      "  * simple_source (point source):\n",
      "    * position:\n",
      "      * ra:\n",
      "        * value: 123.2\n",
      "        * desc: Right Ascension\n",
      "        * min_value: 0.0\n",
      "        * max_value: 360.0\n",
      "        * unit: deg\n",
      "        * is_normalization: false\n",
      "      * dec:\n",
      "        * value: -13.2\n",
      "        * desc: Declination\n",
      "        * min_value: -90.0\n",
      "        * max_value: 90.0\n",
      "        * unit: deg\n",
      "        * is_normalization: false\n",
      "      * equinox: J2000\n",
      "    * spectrum:\n",
      "      * main:\n",
      "        * Powerlaw:\n",
      "          * K:\n",
      "            * value: 1.0\n",
      "            * desc: Normalization (differential flux at the pivot value)\n",
      "            * min_value: 1.0e-30\n",
      "            * max_value: 1000.0\n",
      "            * unit: keV-1 s-1 cm-2\n",
      "            * is_normalization: true\n",
      "          * piv:\n",
      "            * value: 1.0\n",
      "            * desc: Pivot value\n",
      "            * min_value: null\n",
      "            * max_value: null\n",
      "            * unit: keV\n",
      "            * is_normalization: false\n",
      "          * index:\n",
      "            * value: -2.01\n",
      "            * desc: Photon index\n",
      "            * min_value: -10.0\n",
      "            * max_value: 10.0\n",
      "            * unit: ''\n",
      "            * is_normalization: false\n",
      "        * polarization: {}\n",
      "\n"
     ]
    }
   ],
   "source": [
    "print(simple_source_icrs)"
   ]
  },
  {
   "cell_type": "markdown",
   "id": "9a285744",
   "metadata": {},
   "source": [
    "As you can see we have created a point source with one component automatically named \"main\", with a power law spectrum, at the\n",
    "specified position."
   ]
  },
  {
   "cell_type": "markdown",
   "id": "eaf71dfe",
   "metadata": {},
   "source": [
    "## Converting between coordinate systems\n",
    "\n",
    "By default the coordinates of the point source are displayed in the same\n",
    "system used during creation. However, you can always obtain R.A, Dec or\n",
    "L,B like this:"
   ]
  },
  {
   "cell_type": "code",
   "execution_count": 5,
   "id": "a0d03269",
   "metadata": {
    "execution": {
     "iopub.execute_input": "2022-10-26T10:22:22.209485Z",
     "iopub.status.busy": "2022-10-26T10:22:22.209067Z",
     "iopub.status.idle": "2022-10-26T10:22:22.249785Z",
     "shell.execute_reply": "2022-10-26T10:22:22.248610Z"
    }
   },
   "outputs": [
    {
     "data": {
      "text/html": [
       "Sky direction (R.A., Dec.) = (123.20000, -13.20000) (J2000)"
      ],
      "text/plain": [
       "Sky direction (R.A., Dec.) = (123.20000, -13.20000) (J2000)"
      ]
     },
     "metadata": {},
     "output_type": "display_data"
    },
    {
     "name": "stdout",
     "output_type": "stream",
     "text": [
      "234.32058209778674 11.365144109043952\n"
     ]
    },
    {
     "data": {
      "text/html": [
       "Sky direction (l, b) = (234.32057, 11.36514) (J2000)"
      ],
      "text/plain": [
       "Sky direction (l, b) = (234.32057, 11.36514) (J2000)"
      ]
     },
     "metadata": {},
     "output_type": "display_data"
    },
    {
     "name": "stdout",
     "output_type": "stream",
     "text": [
      "123.19999334752814 -13.199993514950465\n"
     ]
    }
   ],
   "source": [
    "simple_source_icrs.position.display()\n",
    "l = simple_source_icrs.position.get_l()\n",
    "b = simple_source_icrs.position.get_b()\n",
    "print(l,b)\n",
    "\n",
    "simple_source_gal.position.display()\n",
    "ra = simple_source_gal.position.get_ra()\n",
    "dec = simple_source_gal.position.get_dec()\n",
    "print(ra,dec)"
   ]
  },
  {
   "cell_type": "markdown",
   "id": "cc63ada7",
   "metadata": {},
   "source": [
    "For more control on the output and many more options, such as transform\n",
    "to local frames or other equinoxes, you can obtain an instance of\n",
    "[astropy.coordinates.SkyCoord](http://docs.astropy.org/en/stable/api/astropy.coordinates.SkyCoord.html) by using the `sky_coord` property of the\n",
    "position object:"
   ]
  },
  {
   "cell_type": "code",
   "execution_count": 6,
   "id": "c7d053c6",
   "metadata": {
    "execution": {
     "iopub.execute_input": "2022-10-26T10:22:22.254991Z",
     "iopub.status.busy": "2022-10-26T10:22:22.254629Z",
     "iopub.status.idle": "2022-10-26T10:22:22.270545Z",
     "shell.execute_reply": "2022-10-26T10:22:22.269522Z"
    }
   },
   "outputs": [
    {
     "name": "stdout",
     "output_type": "stream",
     "text": [
      "123.2\n"
     ]
    }
   ],
   "source": [
    "sky_coord_instance = simple_source_icrs.position.sky_coord\n",
    "ra = sky_coord_instance.transform_to('icrs').ra\n",
    "dec = sky_coord_instance.transform_to('icrs').dec\n",
    "print(ra.deg)"
   ]
  },
  {
   "cell_type": "markdown",
   "id": "f5810b67",
   "metadata": {},
   "source": [
    "## Gotcha while accessing coordinates\n",
    "\n",
    "Please note that using `get_ra()` and `.ra` (or the equivalent methods for\n",
    "the other coordinates) is not the same. While `get_ra()` will always\n",
    "return a single float value corresponding to the R.A. of the source, the\n",
    "`.ra` property will exist only if the source has been created using R.A,\n",
    "Dec as input coordinates and will return a Parameter instance:"
   ]
  },
  {
   "cell_type": "code",
   "execution_count": 7,
   "id": "b0a5bc01",
   "metadata": {
    "execution": {
     "iopub.execute_input": "2022-10-26T10:22:22.275450Z",
     "iopub.status.busy": "2022-10-26T10:22:22.275090Z",
     "iopub.status.idle": "2022-10-26T10:22:22.285061Z",
     "shell.execute_reply": "2022-10-26T10:22:22.283910Z"
    }
   },
   "outputs": [
    {
     "name": "stdout",
     "output_type": "stream",
     "text": [
      "<class 'astromodels.core.parameter.Parameter'>\n"
     ]
    },
    {
     "data": {
      "text/html": [
       "Parameter ra = 123.2 [deg]\n",
       "(min_value = 0.0, max_value = 360.0, delta = 12.32, free = False)"
      ],
      "text/plain": [
       "Parameter ra = 123.2 [deg]\n",
       "(min_value = 0.0, max_value = 360.0, delta = 12.32, free = False)"
      ]
     },
     "metadata": {},
     "output_type": "display_data"
    },
    {
     "data": {
      "text/html": [
       "Parameter dec = -13.2 [deg]\n",
       "(min_value = -90.0, max_value = 90.0, delta = 1.32, free = False)"
      ],
      "text/plain": [
       "Parameter dec = -13.2 [deg]\n",
       "(min_value = -90.0, max_value = 90.0, delta = 1.32, free = False)"
      ]
     },
     "metadata": {},
     "output_type": "display_data"
    }
   ],
   "source": [
    "parameter_ra = simple_source_icrs.position.ra\n",
    "parameter_dec = simple_source_icrs.position.dec\n",
    "\n",
    "print( type(parameter_ra) )\n",
    "parameter_ra.display()\n",
    "parameter_dec.display()"
   ]
  },
  {
   "cell_type": "markdown",
   "id": "09077f44",
   "metadata": {},
   "source": [
    "The following would instead throw `AttributeError`, since `simple_source_icrs` was instanced using R.A. and Dec. and hence does not have the `l`, `b` parameters:"
   ]
  },
  {
   "cell_type": "code",
   "execution_count": 8,
   "id": "a50ff9e3",
   "metadata": {
    "execution": {
     "iopub.execute_input": "2022-10-26T10:22:22.300661Z",
     "iopub.status.busy": "2022-10-26T10:22:22.298456Z",
     "iopub.status.idle": "2022-10-26T10:22:22.306637Z",
     "shell.execute_reply": "2022-10-26T10:22:22.305418Z"
    }
   },
   "outputs": [
    {
     "name": "stdout",
     "output_type": "stream",
     "text": [
      "Accessing an element l of the node that does not exist\n"
     ]
    }
   ],
   "source": [
    "try:\n",
    "    print( simple_source_icrs.position.l)\n",
    "except Exception as e:\n",
    "    print(e)"
   ]
  },
  {
   "cell_type": "markdown",
   "id": "30d51361",
   "metadata": {},
   "source": [
    "In all cases, independently on how the source was instanced, you can obtain the *values* of coordinates in degrees\n",
    "as  floating point numbers using `get_ra()`, `get_dec()`, `get_l()`, `get_b()`. However, you can only directly *assign* coordinates in the same system that the source direction was originally created, e.g.:\n"
   ]
  },
  {
   "cell_type": "code",
   "execution_count": 9,
   "id": "ef885d90",
   "metadata": {
    "execution": {
     "iopub.execute_input": "2022-10-26T10:22:22.312161Z",
     "iopub.status.busy": "2022-10-26T10:22:22.311765Z",
     "iopub.status.idle": "2022-10-26T10:22:22.324482Z",
     "shell.execute_reply": "2022-10-26T10:22:22.323441Z"
    }
   },
   "outputs": [
    {
     "data": {
      "text/html": [
       "Sky direction (R.A., Dec.) = (123.20000, -13.20000) (J2000)"
      ],
      "text/plain": [
       "Sky direction (R.A., Dec.) = (123.20000, -13.20000) (J2000)"
      ]
     },
     "metadata": {},
     "output_type": "display_data"
    },
    {
     "data": {
      "text/html": [
       "Sky direction (R.A., Dec.) = (124.20000, -14.20000) (J2000)"
      ],
      "text/plain": [
       "Sky direction (R.A., Dec.) = (124.20000, -14.20000) (J2000)"
      ]
     },
     "metadata": {},
     "output_type": "display_data"
    }
   ],
   "source": [
    "simple_source_icrs.position.display()\n",
    "simple_source_icrs.position.ra =   simple_source_icrs.position.ra.value + 1.0\n",
    "simple_source_icrs.position.dec = simple_source_icrs.position.dec.value - 1.0\n",
    "simple_source_icrs.position.display()"
   ]
  },
  {
   "cell_type": "markdown",
   "id": "d605ca9b",
   "metadata": {},
   "source": [
    "## Fitting the source position\n",
    "\n",
    "Source coordinates, like any parameters, can be set to be free or fixed during the fit. By default, coordinates are set to be fixed. If you would like to fit them as free parameters during the likelihood fit, they can be freed as any other parameter. Note that `param.free = True` and `param.fix = False` are equivalent. "
   ]
  },
  {
   "cell_type": "code",
   "execution_count": 10,
   "id": "0da80504",
   "metadata": {
    "execution": {
     "iopub.execute_input": "2022-10-26T10:22:22.329397Z",
     "iopub.status.busy": "2022-10-26T10:22:22.329029Z",
     "iopub.status.idle": "2022-10-26T10:22:22.335463Z",
     "shell.execute_reply": "2022-10-26T10:22:22.334530Z"
    }
   },
   "outputs": [
    {
     "name": "stdout",
     "output_type": "stream",
     "text": [
      "Free parameters (before freeing position): odict_keys(['simple_source.spectrum.main.Powerlaw.K', 'simple_source.spectrum.main.Powerlaw.index'])\n",
      "Free parameters (after freeing position): odict_keys(['simple_source.spectrum.main.Powerlaw.K', 'simple_source.spectrum.main.Powerlaw.index', 'simple_source.position.ra', 'simple_source.position.dec'])\n"
     ]
    }
   ],
   "source": [
    "print(\"Free parameters (before freeing position):\", simple_source_icrs.free_parameters.keys())\n",
    "simple_source_icrs.position.ra.free = True\n",
    "simple_source_icrs.position.dec.fix = False\n",
    "print(\"Free parameters (after freeing position):\", simple_source_icrs.free_parameters.keys())\n"
   ]
  },
  {
   "cell_type": "markdown",
   "id": "220e9ebd",
   "metadata": {},
   "source": [
    "For a source created in Galactic coordinates, instead use the following:"
   ]
  },
  {
   "cell_type": "code",
   "execution_count": 11,
   "id": "67a1fa9b",
   "metadata": {
    "execution": {
     "iopub.execute_input": "2022-10-26T10:22:22.340297Z",
     "iopub.status.busy": "2022-10-26T10:22:22.339934Z",
     "iopub.status.idle": "2022-10-26T10:22:22.346803Z",
     "shell.execute_reply": "2022-10-26T10:22:22.345811Z"
    }
   },
   "outputs": [
    {
     "name": "stdout",
     "output_type": "stream",
     "text": [
      "Free parameters (before freeing position): odict_keys(['simple_source.spectrum.main.Powerlaw.K', 'simple_source.spectrum.main.Powerlaw.index'])\n",
      "Free parameters (after freeing position): odict_keys(['simple_source.spectrum.main.Powerlaw.K', 'simple_source.spectrum.main.Powerlaw.index', 'simple_source.position.l', 'simple_source.position.b'])\n"
     ]
    }
   ],
   "source": [
    "print(\"Free parameters (before freeing position):\", simple_source_gal.free_parameters.keys())\n",
    "simple_source_gal.position.l.free = True\n",
    "simple_source_gal.position.b.fix = False\n",
    "print(\"Free parameters (after freeing position):\", simple_source_gal.free_parameters.keys())\n"
   ]
  },
  {
   "cell_type": "markdown",
   "id": "127cc26d",
   "metadata": {},
   "source": [
    "By default, the allowed range for the Right Ascension is from 0˚ to 360˚ and allowed declination values range from -90˚ to 90˚. **If fitting the source position, it is strongly recommended to restrict the coordinates to be inside the region of interest (ROI) at all times.** The source moving far enough from the ROI during the fit can lead to issues such as the minimizer getting \"stuck\" due to the likelihood surface being flat. For example:"
   ]
  },
  {
   "cell_type": "code",
   "execution_count": 12,
   "id": "5e0a136f",
   "metadata": {
    "execution": {
     "iopub.execute_input": "2022-10-26T10:22:22.351772Z",
     "iopub.status.busy": "2022-10-26T10:22:22.351358Z",
     "iopub.status.idle": "2022-10-26T10:22:22.361751Z",
     "shell.execute_reply": "2022-10-26T10:22:22.360514Z"
    }
   },
   "outputs": [
    {
     "data": {
      "text/html": [
       "Parameter ra = 124.2 [deg]\n",
       "(min_value = 119.2, max_value = 129.2, delta = 12.32, free = True)"
      ],
      "text/plain": [
       "Parameter ra = 124.2 [deg]\n",
       "(min_value = 119.2, max_value = 129.2, delta = 12.32, free = True)"
      ]
     },
     "metadata": {},
     "output_type": "display_data"
    },
    {
     "data": {
      "text/html": [
       "Parameter dec = -14.2 [deg]\n",
       "(min_value = -19.2, max_value = -9.2, delta = 1.32, free = True)"
      ],
      "text/plain": [
       "Parameter dec = -14.2 [deg]\n",
       "(min_value = -19.2, max_value = -9.2, delta = 1.32, free = True)"
      ]
     },
     "metadata": {},
     "output_type": "display_data"
    }
   ],
   "source": [
    "simple_source_icrs.position.ra.bounds = ( simple_source_icrs.position.ra.value - 5.0, simple_source_icrs.position.ra.value + 5.0 )\n",
    "simple_source_icrs.position.dec.bounds = ( simple_source_icrs.position.dec.value - 5.0, simple_source_icrs.position.dec.value + 5.0 )\n",
    "simple_source_icrs.position.ra.display()\n",
    "simple_source_icrs.position.dec.display()\n"
   ]
  },
  {
   "cell_type": "markdown",
   "id": "9c1f42d4",
   "metadata": {},
   "source": [
    "## \"Calling\" a point source\n",
    "\n",
    "Both the point source object itself as well as the compontents are callable functions who take as argument(s) an array of energies and return the differential flux dN/dE at those energies. Energies can be provided with or without units. **If no units are provided, energies are assumed to be in keV and fluxes are returned in 1/(cm2 keV s).**"
   ]
  },
  {
   "cell_type": "code",
   "execution_count": 13,
   "id": "24129701",
   "metadata": {
    "execution": {
     "iopub.execute_input": "2022-10-26T10:22:22.367676Z",
     "iopub.status.busy": "2022-10-26T10:22:22.367219Z",
     "iopub.status.idle": "2022-10-26T10:22:24.312729Z",
     "shell.execute_reply": "2022-10-26T10:22:24.310281Z"
    }
   },
   "outputs": [
    {
     "name": "stdout",
     "output_type": "stream",
     "text": [
      "Energy in keV:\n"
     ]
    },
    {
     "name": "stdout",
     "output_type": "stream",
     "text": [
      "With units: [1.00000000e+00 9.77237221e-03 9.54992586e-05] 1 / (cm2 keV s)\n"
     ]
    },
    {
     "name": "stdout",
     "output_type": "stream",
     "text": [
      "Without units: [1.00000000e+00 9.77237221e-03 9.54992586e-05]\n",
      "With units: [1.00000000e+00 9.77237221e-03 9.54992586e-05] 1 / (cm2 keV s)\n",
      "Without units: [1.00000000e+00 9.77237221e-03 9.54992586e-05]\n",
      "\n",
      "Energy in TeV:\n",
      "With units: [1.00000000e+00 9.77237221e-03 9.54992586e-05] 1 / (cm2 keV s)\n",
      "With units: [1.00000000e+09 9.77237221e+06 9.54992586e+04] 1 / (cm2 s TeV)\n",
      "Without units: [1.23026877e+18 1.20226443e+16 1.17489755e+14]\n"
     ]
    }
   ],
   "source": [
    "from astropy import units as u\n",
    "E = [1, 10, 100]*u.keV\n",
    "\n",
    "print(\"Energy in keV:\")\n",
    "print( \"With units:\", simple_source_icrs(E) )\n",
    "print( \"Without units:\", simple_source_icrs(E.value) )\n",
    "\n",
    "print( \"With units:\", simple_source_icrs.spectrum.main.shape(E) )\n",
    "print( \"Without units:\", simple_source_icrs.spectrum.main.shape(E.value) )\n",
    "\n",
    "print(\"\")\n",
    "print(\"Energy in TeV:\")\n",
    "E_TeV = E.to(u.TeV)\n",
    "print( \"With units:\", simple_source_icrs(E_TeV) )\n",
    "print( \"With units:\", simple_source_icrs(E_TeV).to(1/u.cm**2/u.TeV/u.s) )\n",
    "print( \"Without units:\", simple_source_icrs(E_TeV.value) )\n",
    "\n",
    "\n"
   ]
  },
  {
   "cell_type": "code",
   "execution_count": null,
   "id": "bc1d2f08",
   "metadata": {},
   "outputs": [],
   "source": []
  }
 ],
 "metadata": {
  "jupytext": {
   "formats": "ipynb,md"
  },
  "kernelspec": {
   "display_name": "Python 3",
   "language": "python",
   "name": "python3"
  },
  "language_info": {
   "codemirror_mode": {
    "name": "ipython",
    "version": 3
   },
   "file_extension": ".py",
   "mimetype": "text/x-python",
   "name": "python",
   "nbconvert_exporter": "python",
   "pygments_lexer": "ipython3",
   "version": "3.9.14"
  }
 },
 "nbformat": 4,
 "nbformat_minor": 5
}
