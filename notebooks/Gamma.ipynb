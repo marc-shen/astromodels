{
 "cells": [
  {
   "cell_type": "markdown",
   "id": "6f3eb69b",
   "metadata": {
    "papermill": {
     "duration": 0.010926,
     "end_time": "2024-09-10T14:37:38.213424",
     "exception": false,
     "start_time": "2024-09-10T14:37:38.202498",
     "status": "completed"
    },
    "tags": []
   },
   "source": [
    "# Gamma"
   ]
  },
  {
   "cell_type": "code",
   "execution_count": 1,
   "id": "3ec66a1f",
   "metadata": {
    "execution": {
     "iopub.execute_input": "2024-09-10T14:37:38.226731Z",
     "iopub.status.busy": "2024-09-10T14:37:38.226007Z",
     "iopub.status.idle": "2024-09-10T14:37:39.640777Z",
     "shell.execute_reply": "2024-09-10T14:37:39.640254Z"
    },
    "nbsphinx": "hidden",
    "papermill": {
     "duration": 1.422816,
     "end_time": "2024-09-10T14:37:39.642263",
     "exception": false,
     "start_time": "2024-09-10T14:37:38.219447",
     "status": "completed"
    },
    "tags": []
   },
   "outputs": [],
   "source": [
    "%%capture\n",
    "\n",
    "import numpy as np\n",
    "\n",
    "import matplotlib.pyplot as plt\n",
    "\n",
    "import warnings\n",
    "warnings.simplefilter(\"ignore\")\n",
    "\n",
    "from astromodels.functions.function import _known_functions\n",
    "\n",
    "\n",
    "from jupyterthemes import jtplot\n",
    "jtplot.style(context=\"talk\", fscale=1, ticks=True, grid=False)\n",
    "%matplotlib inline"
   ]
  },
  {
   "cell_type": "code",
   "execution_count": 2,
   "id": "b82b0971",
   "metadata": {
    "execution": {
     "iopub.execute_input": "2024-09-10T14:37:39.645763Z",
     "iopub.status.busy": "2024-09-10T14:37:39.645099Z",
     "iopub.status.idle": "2024-09-10T14:37:39.652580Z",
     "shell.execute_reply": "2024-09-10T14:37:39.652165Z"
    },
    "nbsphinx": "hidden",
    "papermill": {
     "duration": 0.010485,
     "end_time": "2024-09-10T14:37:39.653955",
     "exception": false,
     "start_time": "2024-09-10T14:37:39.643470",
     "status": "completed"
    },
    "tags": [
     "parameters"
    ]
   },
   "outputs": [],
   "source": [
    "func_name = \"TbAbs\"\n",
    "\n",
    "positive_prior = False\n"
   ]
  },
  {
   "cell_type": "code",
   "execution_count": 3,
   "id": "188d4b05",
   "metadata": {
    "execution": {
     "iopub.execute_input": "2024-09-10T14:37:39.656829Z",
     "iopub.status.busy": "2024-09-10T14:37:39.656689Z",
     "iopub.status.idle": "2024-09-10T14:37:39.664642Z",
     "shell.execute_reply": "2024-09-10T14:37:39.664260Z"
    },
    "papermill": {
     "duration": 0.010907,
     "end_time": "2024-09-10T14:37:39.665898",
     "exception": false,
     "start_time": "2024-09-10T14:37:39.654991",
     "status": "completed"
    },
    "tags": [
     "injected-parameters"
    ]
   },
   "outputs": [],
   "source": [
    "# Parameters\n",
    "func_name = \"Gamma\"\n",
    "positive_prior = True\n"
   ]
  },
  {
   "cell_type": "code",
   "execution_count": 4,
   "id": "9a90fa03",
   "metadata": {
    "execution": {
     "iopub.execute_input": "2024-09-10T14:37:39.668554Z",
     "iopub.status.busy": "2024-09-10T14:37:39.668417Z",
     "iopub.status.idle": "2024-09-10T14:37:39.677215Z",
     "shell.execute_reply": "2024-09-10T14:37:39.676827Z"
    },
    "lines_to_next_cell": 0,
    "nbsphinx": "hidden",
    "papermill": {
     "duration": 0.011553,
     "end_time": "2024-09-10T14:37:39.678472",
     "exception": false,
     "start_time": "2024-09-10T14:37:39.666919",
     "status": "completed"
    },
    "tags": []
   },
   "outputs": [],
   "source": [
    "func = _known_functions[func_name]()\n",
    "\n",
    "if not positive_prior:\n",
    "\n",
    "\tenergy_grid = np.linspace(-5,5,1000)\n",
    "\n",
    "else:\n",
    "    \n",
    "    energy_grid = np.linspace(0,1,1000)\n",
    "    \n",
    "    \n",
    "    \n",
    "    \n",
    "blue = \"#4152E3\"\n",
    "red = \"#E3414B\"\n",
    "green = \"#41E39E\""
   ]
  },
  {
   "cell_type": "markdown",
   "id": "5bef2243",
   "metadata": {
    "lines_to_next_cell": 0,
    "papermill": {
     "duration": 0.000973,
     "end_time": "2024-09-10T14:37:39.680450",
     "exception": false,
     "start_time": "2024-09-10T14:37:39.679477",
     "status": "completed"
    },
    "tags": []
   },
   "source": [
    "## Description"
   ]
  },
  {
   "cell_type": "code",
   "execution_count": 5,
   "id": "2225ccb3",
   "metadata": {
    "execution": {
     "iopub.execute_input": "2024-09-10T14:37:39.682975Z",
     "iopub.status.busy": "2024-09-10T14:37:39.682831Z",
     "iopub.status.idle": "2024-09-10T14:37:39.686670Z",
     "shell.execute_reply": "2024-09-10T14:37:39.686277Z"
    },
    "papermill": {
     "duration": 0.006518,
     "end_time": "2024-09-10T14:37:39.687937",
     "exception": false,
     "start_time": "2024-09-10T14:37:39.681419",
     "status": "completed"
    },
    "tags": []
   },
   "outputs": [
    {
     "data": {
      "text/html": [
       "<ul>\n",
       "\n",
       "<li>description: A gamma distribution function</li>\n",
       "\n",
       "<li>formula: $ f(x, \\alpha, \\beta)=\\frac{\\beta^\\alpha x^{\\alpha-1} e^{-\\beta x}}{\\Gamma(\\alpha)}$</li>\n",
       "\n",
       "<li>parameters: \n",
       "<ul>\n",
       "\n",
       "<li>alpha: \n",
       "<ul>\n",
       "\n",
       "<li>value: 0.5</li>\n",
       "\n",
       "<li>desc: first shape parameter</li>\n",
       "\n",
       "<li>min_value: 0.0</li>\n",
       "\n",
       "<li>max_value: None</li>\n",
       "\n",
       "<li>unit: </li>\n",
       "\n",
       "<li>is_normalization: False</li>\n",
       "\n",
       "<li>delta: 0.05</li>\n",
       "\n",
       "<li>free: True</li>\n",
       "\n",
       "</ul>\n",
       "\n",
       "</li>\n",
       "\n",
       "<li>beta: \n",
       "<ul>\n",
       "\n",
       "<li>value: 1.0</li>\n",
       "\n",
       "<li>desc: second shape parameter</li>\n",
       "\n",
       "<li>min_value: 0.0</li>\n",
       "\n",
       "<li>max_value: None</li>\n",
       "\n",
       "<li>unit: </li>\n",
       "\n",
       "<li>is_normalization: False</li>\n",
       "\n",
       "<li>delta: 0.1</li>\n",
       "\n",
       "<li>free: True</li>\n",
       "\n",
       "</ul>\n",
       "\n",
       "</li>\n",
       "\n",
       "</ul>\n",
       "\n",
       "</li>\n",
       "\n",
       "</ul>\n"
      ],
      "text/plain": [
       "  * description: A gamma distribution function\n",
       "  * formula: $ f(x, \\alpha, \\beta)=\\frac{\\beta^\\alpha x^{\\alpha-1} e^{-\\beta x}}{\\Gamma(\\alpha)}$\n",
       "  * parameters:\n",
       "    * alpha:\n",
       "      * value: 0.5\n",
       "      * desc: first shape parameter\n",
       "      * min_value: 0.0\n",
       "      * max_value: null\n",
       "      * unit: ''\n",
       "      * is_normalization: false\n",
       "      * delta: 0.05\n",
       "      * free: true\n",
       "    * beta:\n",
       "      * value: 1.0\n",
       "      * desc: second shape parameter\n",
       "      * min_value: 0.0\n",
       "      * max_value: null\n",
       "      * unit: ''\n",
       "      * is_normalization: false\n",
       "      * delta: 0.1\n",
       "      * free: true"
      ]
     },
     "metadata": {},
     "output_type": "display_data"
    }
   ],
   "source": [
    "func.display()"
   ]
  },
  {
   "cell_type": "markdown",
   "id": "a217e850",
   "metadata": {
    "papermill": {
     "duration": 0.00122,
     "end_time": "2024-09-10T14:37:39.690279",
     "exception": false,
     "start_time": "2024-09-10T14:37:39.689059",
     "status": "completed"
    },
    "tags": []
   },
   "source": [
    "## Shape \n",
    "\n",
    "The shape of the function. \n",
    "\n",
    "*If this is not a photon model but a prior or linear function then ignore the units as these docs are auto-generated*"
   ]
  },
  {
   "cell_type": "code",
   "execution_count": 6,
   "id": "c8f82101",
   "metadata": {
    "execution": {
     "iopub.execute_input": "2024-09-10T14:37:39.693252Z",
     "iopub.status.busy": "2024-09-10T14:37:39.693105Z",
     "iopub.status.idle": "2024-09-10T14:37:39.797131Z",
     "shell.execute_reply": "2024-09-10T14:37:39.796675Z"
    },
    "papermill": {
     "duration": 0.106998,
     "end_time": "2024-09-10T14:37:39.798353",
     "exception": false,
     "start_time": "2024-09-10T14:37:39.691355",
     "status": "completed"
    },
    "tags": [
     "nbsphinx-thumbnail"
    ]
   },
   "outputs": [
    {
     "data": {
      "text/plain": [
       "Text(0, 0.5, 'probability')"
      ]
     },
     "execution_count": 6,
     "metadata": {},
     "output_type": "execute_result"
    },
    {
     "data": {
      "image/png": "[encoded data removed]",
      "text/plain": [
       "<Figure size 1040x910 with 1 Axes>"
      ]
     },
     "metadata": {},
     "output_type": "display_data"
    }
   ],
   "source": [
    "fig, ax = plt.subplots()\n",
    "\n",
    "\n",
    "ax.plot(energy_grid, func(energy_grid), color=blue, lw=3)\n",
    "\n",
    "ax.set_xlabel(\"x\")\n",
    "ax.set_ylabel(\"probability\")\n"
   ]
  },
  {
   "cell_type": "markdown",
   "id": "8daadee7",
   "metadata": {
    "papermill": {
     "duration": 0.001353,
     "end_time": "2024-09-10T14:37:39.801316",
     "exception": false,
     "start_time": "2024-09-10T14:37:39.799963",
     "status": "completed"
    },
    "tags": []
   },
   "source": [
    "## Random Number Generation\n",
    "\n",
    "This is how we can generate random numbers from the prior.\n"
   ]
  },
  {
   "cell_type": "code",
   "execution_count": 7,
   "id": "f7a882cb",
   "metadata": {
    "execution": {
     "iopub.execute_input": "2024-09-10T14:37:39.804583Z",
     "iopub.status.busy": "2024-09-10T14:37:39.804444Z",
     "iopub.status.idle": "2024-09-10T14:37:40.132405Z",
     "shell.execute_reply": "2024-09-10T14:37:40.132048Z"
    },
    "papermill": {
     "duration": 0.331278,
     "end_time": "2024-09-10T14:37:40.133891",
     "exception": false,
     "start_time": "2024-09-10T14:37:39.802613",
     "status": "completed"
    },
    "tags": []
   },
   "outputs": [
    {
     "data": {
      "text/plain": [
       "Text(0, 0.5, 'N')"
      ]
     },
     "execution_count": 7,
     "metadata": {},
     "output_type": "execute_result"
    },
    {
     "data": {
      "image/png": "[encoded data removed]",
      "text/plain": [
       "<Figure size 1040x910 with 1 Axes>"
      ]
     },
     "metadata": {},
     "output_type": "display_data"
    }
   ],
   "source": [
    "\n",
    "\n",
    "u = np.random.uniform(0,1, size=5000)\n",
    "\n",
    "draws = [func.from_unit_cube(x) for x in u]\n",
    "\n",
    "\n",
    "fig, ax = plt.subplots()\n",
    "\n",
    "\n",
    "ax.hist(draws, color=green, bins=50)\n",
    "\n",
    "ax.set_xlabel(\"value\")\n",
    "ax.set_ylabel(\"N\")\n",
    "\n"
   ]
  }
 ],
 "metadata": {
  "jupytext": {
   "formats": "ipynb,md"
  },
  "kernelspec": {
   "display_name": "Python 3 (ipykernel)",
   "language": "python",
   "name": "python3"
  },
  "language_info": {
   "codemirror_mode": {
    "name": "ipython",
    "version": 3
   },
   "file_extension": ".py",
   "mimetype": "text/x-python",
   "name": "python",
   "nbconvert_exporter": "python",
   "pygments_lexer": "ipython3",
   "version": "3.9.13"
  },
  "papermill": {
   "default_parameters": {},
   "duration": 3.012968,
   "end_time": "2024-09-10T14:37:40.470404",
   "environment_variables": {},
   "exception": null,
   "input_path": "Gamma.ipynb",
   "output_path": "/Users/runner/work/astromodels/astromodels/docs/notebooks/Gamma.ipynb",
   "parameters": {
    "func_name": "Gamma",
    "positive_prior": true
   },
   "start_time": "2024-09-10T14:37:37.457436",
   "version": "2.6.0"
  }
 },
 "nbformat": 4,
 "nbformat_minor": 5
}
