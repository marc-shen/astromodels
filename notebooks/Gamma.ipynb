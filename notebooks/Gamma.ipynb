{
 "cells": [
  {
   "cell_type": "markdown",
   "id": "61cc2db8",
   "metadata": {
    "papermill": {
     "duration": 0.008261,
     "end_time": "2024-09-10T20:05:18.656699",
     "exception": false,
     "start_time": "2024-09-10T20:05:18.648438",
     "status": "completed"
    },
    "tags": []
   },
   "source": [
    "# Gamma"
   ]
  },
  {
   "cell_type": "code",
   "execution_count": 1,
   "id": "7b18b998",
   "metadata": {
    "execution": {
     "iopub.execute_input": "2024-09-10T20:05:18.668596Z",
     "iopub.status.busy": "2024-09-10T20:05:18.667945Z",
     "iopub.status.idle": "2024-09-10T20:05:20.068277Z",
     "shell.execute_reply": "2024-09-10T20:05:20.067779Z"
    },
    "nbsphinx": "hidden",
    "papermill": {
     "duration": 1.407966,
     "end_time": "2024-09-10T20:05:20.069765",
     "exception": false,
     "start_time": "2024-09-10T20:05:18.661799",
     "status": "completed"
    },
    "tags": []
   },
   "outputs": [],
   "source": [
    "%%capture\n",
    "\n",
    "import numpy as np\n",
    "\n",
    "import matplotlib.pyplot as plt\n",
    "\n",
    "import warnings\n",
    "warnings.simplefilter(\"ignore\")\n",
    "\n",
    "from astromodels.functions.function import _known_functions\n",
    "\n",
    "\n",
    "from jupyterthemes import jtplot\n",
    "jtplot.style(context=\"talk\", fscale=1, ticks=True, grid=False)\n",
    "%matplotlib inline"
   ]
  },
  {
   "cell_type": "code",
   "execution_count": 2,
   "id": "e9c5aacb",
   "metadata": {
    "execution": {
     "iopub.execute_input": "2024-09-10T20:05:20.072877Z",
     "iopub.status.busy": "2024-09-10T20:05:20.072568Z",
     "iopub.status.idle": "2024-09-10T20:05:20.081000Z",
     "shell.execute_reply": "2024-09-10T20:05:20.080621Z"
    },
    "nbsphinx": "hidden",
    "papermill": {
     "duration": 0.011308,
     "end_time": "2024-09-10T20:05:20.082290",
     "exception": false,
     "start_time": "2024-09-10T20:05:20.070982",
     "status": "completed"
    },
    "tags": [
     "parameters"
    ]
   },
   "outputs": [],
   "source": [
    "func_name = \"TbAbs\"\n",
    "\n",
    "positive_prior = False\n"
   ]
  },
  {
   "cell_type": "code",
   "execution_count": 3,
   "id": "26205b95",
   "metadata": {
    "execution": {
     "iopub.execute_input": "2024-09-10T20:05:20.084893Z",
     "iopub.status.busy": "2024-09-10T20:05:20.084755Z",
     "iopub.status.idle": "2024-09-10T20:05:20.092028Z",
     "shell.execute_reply": "2024-09-10T20:05:20.091649Z"
    },
    "papermill": {
     "duration": 0.010117,
     "end_time": "2024-09-10T20:05:20.093364",
     "exception": false,
     "start_time": "2024-09-10T20:05:20.083247",
     "status": "completed"
    },
    "tags": [
     "injected-parameters"
    ]
   },
   "outputs": [],
   "source": [
    "# Parameters\n",
    "func_name = \"Gamma\"\n",
    "positive_prior = True\n"
   ]
  },
  {
   "cell_type": "code",
   "execution_count": 4,
   "id": "96788f41",
   "metadata": {
    "execution": {
     "iopub.execute_input": "2024-09-10T20:05:20.096004Z",
     "iopub.status.busy": "2024-09-10T20:05:20.095860Z",
     "iopub.status.idle": "2024-09-10T20:05:20.104424Z",
     "shell.execute_reply": "2024-09-10T20:05:20.103982Z"
    },
    "lines_to_next_cell": 0,
    "nbsphinx": "hidden",
    "papermill": {
     "duration": 0.011275,
     "end_time": "2024-09-10T20:05:20.105672",
     "exception": false,
     "start_time": "2024-09-10T20:05:20.094397",
     "status": "completed"
    },
    "tags": []
   },
   "outputs": [],
   "source": [
    "func = _known_functions[func_name]()\n",
    "\n",
    "if not positive_prior:\n",
    "\n",
    "\tenergy_grid = np.linspace(-5,5,1000)\n",
    "\n",
    "else:\n",
    "    \n",
    "    energy_grid = np.linspace(0,1,1000)\n",
    "    \n",
    "    \n",
    "    \n",
    "    \n",
    "blue = \"#4152E3\"\n",
    "red = \"#E3414B\"\n",
    "green = \"#41E39E\""
   ]
  },
  {
   "cell_type": "markdown",
   "id": "ab756a3a",
   "metadata": {
    "lines_to_next_cell": 0,
    "papermill": {
     "duration": 0.001005,
     "end_time": "2024-09-10T20:05:20.107681",
     "exception": false,
     "start_time": "2024-09-10T20:05:20.106676",
     "status": "completed"
    },
    "tags": []
   },
   "source": [
    "## Description"
   ]
  },
  {
   "cell_type": "code",
   "execution_count": 5,
   "id": "690cf903",
   "metadata": {
    "execution": {
     "iopub.execute_input": "2024-09-10T20:05:20.110158Z",
     "iopub.status.busy": "2024-09-10T20:05:20.110024Z",
     "iopub.status.idle": "2024-09-10T20:05:20.113753Z",
     "shell.execute_reply": "2024-09-10T20:05:20.113365Z"
    },
    "papermill": {
     "duration": 0.006443,
     "end_time": "2024-09-10T20:05:20.115058",
     "exception": false,
     "start_time": "2024-09-10T20:05:20.108615",
     "status": "completed"
    },
    "tags": []
   },
   "outputs": [
    {
     "data": {
      "text/html": [
       "<ul>\n",
       "\n",
       "<li>description: A gamma distribution function</li>\n",
       "\n",
       "<li>formula: $ f(x, \\alpha, \\beta)=\\frac{\\beta^\\alpha x^{\\alpha-1} e^{-\\beta x}}{\\Gamma(\\alpha)}$</li>\n",
       "\n",
       "<li>parameters: \n",
       "<ul>\n",
       "\n",
       "<li>alpha: \n",
       "<ul>\n",
       "\n",
       "<li>value: 0.5</li>\n",
       "\n",
       "<li>desc: first shape parameter</li>\n",
       "\n",
       "<li>min_value: 0.0</li>\n",
       "\n",
       "<li>max_value: None</li>\n",
       "\n",
       "<li>unit: </li>\n",
       "\n",
       "<li>is_normalization: False</li>\n",
       "\n",
       "<li>delta: 0.05</li>\n",
       "\n",
       "<li>free: True</li>\n",
       "\n",
       "</ul>\n",
       "\n",
       "</li>\n",
       "\n",
       "<li>beta: \n",
       "<ul>\n",
       "\n",
       "<li>value: 1.0</li>\n",
       "\n",
       "<li>desc: second shape parameter</li>\n",
       "\n",
       "<li>min_value: 0.0</li>\n",
       "\n",
       "<li>max_value: None</li>\n",
       "\n",
       "<li>unit: </li>\n",
       "\n",
       "<li>is_normalization: False</li>\n",
       "\n",
       "<li>delta: 0.1</li>\n",
       "\n",
       "<li>free: True</li>\n",
       "\n",
       "</ul>\n",
       "\n",
       "</li>\n",
       "\n",
       "</ul>\n",
       "\n",
       "</li>\n",
       "\n",
       "</ul>\n"
      ],
      "text/plain": [
       "  * description: A gamma distribution function\n",
       "  * formula: $ f(x, \\alpha, \\beta)=\\frac{\\beta^\\alpha x^{\\alpha-1} e^{-\\beta x}}{\\Gamma(\\alpha)}$\n",
       "  * parameters:\n",
       "    * alpha:\n",
       "      * value: 0.5\n",
       "      * desc: first shape parameter\n",
       "      * min_value: 0.0\n",
       "      * max_value: null\n",
       "      * unit: ''\n",
       "      * is_normalization: false\n",
       "      * delta: 0.05\n",
       "      * free: true\n",
       "    * beta:\n",
       "      * value: 1.0\n",
       "      * desc: second shape parameter\n",
       "      * min_value: 0.0\n",
       "      * max_value: null\n",
       "      * unit: ''\n",
       "      * is_normalization: false\n",
       "      * delta: 0.1\n",
       "      * free: true"
      ]
     },
     "metadata": {},
     "output_type": "display_data"
    }
   ],
   "source": [
    "func.display()"
   ]
  },
  {
   "cell_type": "markdown",
   "id": "a88c3f3d",
   "metadata": {
    "papermill": {
     "duration": 0.001077,
     "end_time": "2024-09-10T20:05:20.117279",
     "exception": false,
     "start_time": "2024-09-10T20:05:20.116202",
     "status": "completed"
    },
    "tags": []
   },
   "source": [
    "## Shape \n",
    "\n",
    "The shape of the function. \n",
    "\n",
    "*If this is not a photon model but a prior or linear function then ignore the units as these docs are auto-generated*"
   ]
  },
  {
   "cell_type": "code",
   "execution_count": 6,
   "id": "8f4966bb",
   "metadata": {
    "execution": {
     "iopub.execute_input": "2024-09-10T20:05:20.120231Z",
     "iopub.status.busy": "2024-09-10T20:05:20.120091Z",
     "iopub.status.idle": "2024-09-10T20:05:20.218123Z",
     "shell.execute_reply": "2024-09-10T20:05:20.217791Z"
    },
    "papermill": {
     "duration": 0.101173,
     "end_time": "2024-09-10T20:05:20.219540",
     "exception": false,
     "start_time": "2024-09-10T20:05:20.118367",
     "status": "completed"
    },
    "tags": [
     "nbsphinx-thumbnail"
    ]
   },
   "outputs": [
    {
     "data": {
      "text/plain": [
       "Text(0, 0.5, 'probability')"
      ]
     },
     "execution_count": 6,
     "metadata": {},
     "output_type": "execute_result"
    },
    {
     "data": {
      "image/png": "[encoded data removed]",
      "text/plain": [
       "<Figure size 1040x910 with 1 Axes>"
      ]
     },
     "metadata": {},
     "output_type": "display_data"
    }
   ],
   "source": [
    "fig, ax = plt.subplots()\n",
    "\n",
    "\n",
    "ax.plot(energy_grid, func(energy_grid), color=blue, lw=3)\n",
    "\n",
    "ax.set_xlabel(\"x\")\n",
    "ax.set_ylabel(\"probability\")\n"
   ]
  },
  {
   "cell_type": "markdown",
   "id": "59b3c238",
   "metadata": {
    "papermill": {
     "duration": 0.001619,
     "end_time": "2024-09-10T20:05:20.222750",
     "exception": false,
     "start_time": "2024-09-10T20:05:20.221131",
     "status": "completed"
    },
    "tags": []
   },
   "source": [
    "## Random Number Generation\n",
    "\n",
    "This is how we can generate random numbers from the prior.\n"
   ]
  },
  {
   "cell_type": "code",
   "execution_count": 7,
   "id": "e90ec076",
   "metadata": {
    "execution": {
     "iopub.execute_input": "2024-09-10T20:05:20.226276Z",
     "iopub.status.busy": "2024-09-10T20:05:20.226126Z",
     "iopub.status.idle": "2024-09-10T20:05:20.544468Z",
     "shell.execute_reply": "2024-09-10T20:05:20.544115Z"
    },
    "papermill": {
     "duration": 0.321774,
     "end_time": "2024-09-10T20:05:20.545918",
     "exception": false,
     "start_time": "2024-09-10T20:05:20.224144",
     "status": "completed"
    },
    "tags": []
   },
   "outputs": [
    {
     "data": {
      "text/plain": [
       "Text(0, 0.5, 'N')"
      ]
     },
     "execution_count": 7,
     "metadata": {},
     "output_type": "execute_result"
    },
    {
     "data": {
      "image/png": "[encoded data removed]",
      "text/plain": [
       "<Figure size 1040x910 with 1 Axes>"
      ]
     },
     "metadata": {},
     "output_type": "display_data"
    }
   ],
   "source": [
    "\n",
    "\n",
    "u = np.random.uniform(0,1, size=5000)\n",
    "\n",
    "draws = [func.from_unit_cube(x) for x in u]\n",
    "\n",
    "\n",
    "fig, ax = plt.subplots()\n",
    "\n",
    "\n",
    "ax.hist(draws, color=green, bins=50)\n",
    "\n",
    "ax.set_xlabel(\"value\")\n",
    "ax.set_ylabel(\"N\")\n",
    "\n"
   ]
  }
 ],
 "metadata": {
  "jupytext": {
   "formats": "ipynb,md"
  },
  "kernelspec": {
   "display_name": "Python 3 (ipykernel)",
   "language": "python",
   "name": "python3"
  },
  "language_info": {
   "codemirror_mode": {
    "name": "ipython",
    "version": 3
   },
   "file_extension": ".py",
   "mimetype": "text/x-python",
   "name": "python",
   "nbconvert_exporter": "python",
   "pygments_lexer": "ipython3",
   "version": "3.9.13"
  },
  "papermill": {
   "default_parameters": {},
   "duration": 2.794669,
   "end_time": "2024-09-10T20:05:20.892877",
   "environment_variables": {},
   "exception": null,
   "input_path": "Gamma.ipynb",
   "output_path": "/Users/runner/work/astromodels/astromodels/docs/notebooks/Gamma.ipynb",
   "parameters": {
    "func_name": "Gamma",
    "positive_prior": true
   },
   "start_time": "2024-09-10T20:05:18.098208",
   "version": "2.6.0"
  }
 },
 "nbformat": 4,
 "nbformat_minor": 5
}
