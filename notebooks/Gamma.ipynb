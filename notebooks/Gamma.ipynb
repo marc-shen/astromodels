{
 "cells": [
  {
   "cell_type": "markdown",
   "id": "ae84199b",
   "metadata": {
    "papermill": {
     "duration": 0.010781,
     "end_time": "2024-05-13T23:11:59.073213",
     "exception": false,
     "start_time": "2024-05-13T23:11:59.062432",
     "status": "completed"
    },
    "tags": []
   },
   "source": [
    "# Gamma"
   ]
  },
  {
   "cell_type": "code",
   "execution_count": 1,
   "id": "096ee47c",
   "metadata": {
    "execution": {
     "iopub.execute_input": "2024-05-13T23:11:59.087630Z",
     "iopub.status.busy": "2024-05-13T23:11:59.086971Z",
     "iopub.status.idle": "2024-05-13T23:12:00.500220Z",
     "shell.execute_reply": "2024-05-13T23:12:00.499744Z"
    },
    "nbsphinx": "hidden",
    "papermill": {
     "duration": 1.421731,
     "end_time": "2024-05-13T23:12:00.501749",
     "exception": false,
     "start_time": "2024-05-13T23:11:59.080018",
     "status": "completed"
    },
    "tags": []
   },
   "outputs": [],
   "source": [
    "%%capture\n",
    "\n",
    "import numpy as np\n",
    "\n",
    "import matplotlib.pyplot as plt\n",
    "\n",
    "import warnings\n",
    "warnings.simplefilter(\"ignore\")\n",
    "\n",
    "from astromodels.functions.function import _known_functions\n",
    "\n",
    "\n",
    "from jupyterthemes import jtplot\n",
    "jtplot.style(context=\"talk\", fscale=1, ticks=True, grid=False)\n",
    "%matplotlib inline"
   ]
  },
  {
   "cell_type": "code",
   "execution_count": 2,
   "id": "f3393362",
   "metadata": {
    "execution": {
     "iopub.execute_input": "2024-05-13T23:12:00.504961Z",
     "iopub.status.busy": "2024-05-13T23:12:00.504606Z",
     "iopub.status.idle": "2024-05-13T23:12:00.512932Z",
     "shell.execute_reply": "2024-05-13T23:12:00.512515Z"
    },
    "nbsphinx": "hidden",
    "papermill": {
     "duration": 0.011096,
     "end_time": "2024-05-13T23:12:00.514081",
     "exception": false,
     "start_time": "2024-05-13T23:12:00.502985",
     "status": "completed"
    },
    "tags": [
     "parameters"
    ]
   },
   "outputs": [],
   "source": [
    "func_name = \"TbAbs\"\n",
    "\n",
    "positive_prior = False\n"
   ]
  },
  {
   "cell_type": "code",
   "execution_count": 3,
   "id": "2d3cabdd",
   "metadata": {
    "execution": {
     "iopub.execute_input": "2024-05-13T23:12:00.516764Z",
     "iopub.status.busy": "2024-05-13T23:12:00.516616Z",
     "iopub.status.idle": "2024-05-13T23:12:00.524645Z",
     "shell.execute_reply": "2024-05-13T23:12:00.524282Z"
    },
    "papermill": {
     "duration": 0.010801,
     "end_time": "2024-05-13T23:12:00.525936",
     "exception": false,
     "start_time": "2024-05-13T23:12:00.515135",
     "status": "completed"
    },
    "tags": [
     "injected-parameters"
    ]
   },
   "outputs": [],
   "source": [
    "# Parameters\n",
    "func_name = \"Gamma\"\n",
    "positive_prior = True\n"
   ]
  },
  {
   "cell_type": "code",
   "execution_count": 4,
   "id": "4c1daa12",
   "metadata": {
    "execution": {
     "iopub.execute_input": "2024-05-13T23:12:00.528479Z",
     "iopub.status.busy": "2024-05-13T23:12:00.528344Z",
     "iopub.status.idle": "2024-05-13T23:12:00.536622Z",
     "shell.execute_reply": "2024-05-13T23:12:00.536217Z"
    },
    "lines_to_next_cell": 0,
    "nbsphinx": "hidden",
    "papermill": {
     "duration": 0.011021,
     "end_time": "2024-05-13T23:12:00.537962",
     "exception": false,
     "start_time": "2024-05-13T23:12:00.526941",
     "status": "completed"
    },
    "tags": []
   },
   "outputs": [],
   "source": [
    "func = _known_functions[func_name]()\n",
    "\n",
    "if not positive_prior:\n",
    "\n",
    "\tenergy_grid = np.linspace(-5,5,1000)\n",
    "\n",
    "else:\n",
    "    \n",
    "    energy_grid = np.linspace(0,1,1000)\n",
    "    \n",
    "    \n",
    "    \n",
    "    \n",
    "blue = \"#4152E3\"\n",
    "red = \"#E3414B\"\n",
    "green = \"#41E39E\""
   ]
  },
  {
   "cell_type": "markdown",
   "id": "55243419",
   "metadata": {
    "lines_to_next_cell": 0,
    "papermill": {
     "duration": 0.001026,
     "end_time": "2024-05-13T23:12:00.540048",
     "exception": false,
     "start_time": "2024-05-13T23:12:00.539022",
     "status": "completed"
    },
    "tags": []
   },
   "source": [
    "## Description"
   ]
  },
  {
   "cell_type": "code",
   "execution_count": 5,
   "id": "687587c0",
   "metadata": {
    "execution": {
     "iopub.execute_input": "2024-05-13T23:12:00.542575Z",
     "iopub.status.busy": "2024-05-13T23:12:00.542444Z",
     "iopub.status.idle": "2024-05-13T23:12:00.552368Z",
     "shell.execute_reply": "2024-05-13T23:12:00.551965Z"
    },
    "papermill": {
     "duration": 0.012644,
     "end_time": "2024-05-13T23:12:00.553652",
     "exception": false,
     "start_time": "2024-05-13T23:12:00.541008",
     "status": "completed"
    },
    "tags": []
   },
   "outputs": [
    {
     "data": {
      "text/html": [
       "<ul>\n",
       "\n",
       "<li>description: A gamma distribution function</li>\n",
       "\n",
       "<li>formula: $ f(x, \\alpha, \\beta)=\\frac{\\beta^\\alpha x^{\\alpha-1} e^{-\\beta x}}{\\Gamma(\\alpha)}$</li>\n",
       "\n",
       "<li>parameters: \n",
       "<ul>\n",
       "\n",
       "<li>alpha: \n",
       "<ul>\n",
       "\n",
       "<li>value: 0.5</li>\n",
       "\n",
       "<li>desc: first shape parameter</li>\n",
       "\n",
       "<li>min_value: 0.0</li>\n",
       "\n",
       "<li>max_value: None</li>\n",
       "\n",
       "<li>unit: </li>\n",
       "\n",
       "<li>is_normalization: False</li>\n",
       "\n",
       "<li>delta: 0.05</li>\n",
       "\n",
       "<li>free: True</li>\n",
       "\n",
       "</ul>\n",
       "\n",
       "</li>\n",
       "\n",
       "<li>beta: \n",
       "<ul>\n",
       "\n",
       "<li>value: 1.0</li>\n",
       "\n",
       "<li>desc: second shape parameter</li>\n",
       "\n",
       "<li>min_value: 0.0</li>\n",
       "\n",
       "<li>max_value: None</li>\n",
       "\n",
       "<li>unit: </li>\n",
       "\n",
       "<li>is_normalization: False</li>\n",
       "\n",
       "<li>delta: 0.1</li>\n",
       "\n",
       "<li>free: True</li>\n",
       "\n",
       "</ul>\n",
       "\n",
       "</li>\n",
       "\n",
       "</ul>\n",
       "\n",
       "</li>\n",
       "\n",
       "</ul>\n"
      ],
      "text/plain": [
       "  * description: A gamma distribution function\n",
       "  * formula: $ f(x, \\alpha, \\beta)=\\frac{\\beta^\\alpha x^{\\alpha-1} e^{-\\beta x}}{\\Gamma(\\alpha)}$\n",
       "  * parameters:\n",
       "    * alpha:\n",
       "      * value: 0.5\n",
       "      * desc: first shape parameter\n",
       "      * min_value: 0.0\n",
       "      * max_value: null\n",
       "      * unit: ''\n",
       "      * is_normalization: false\n",
       "      * delta: 0.05\n",
       "      * free: true\n",
       "    * beta:\n",
       "      * value: 1.0\n",
       "      * desc: second shape parameter\n",
       "      * min_value: 0.0\n",
       "      * max_value: null\n",
       "      * unit: ''\n",
       "      * is_normalization: false\n",
       "      * delta: 0.1\n",
       "      * free: true"
      ]
     },
     "metadata": {},
     "output_type": "display_data"
    }
   ],
   "source": [
    "func.display()"
   ]
  },
  {
   "cell_type": "markdown",
   "id": "de6e7f3d",
   "metadata": {
    "papermill": {
     "duration": 0.001108,
     "end_time": "2024-05-13T23:12:00.555936",
     "exception": false,
     "start_time": "2024-05-13T23:12:00.554828",
     "status": "completed"
    },
    "tags": []
   },
   "source": [
    "## Shape \n",
    "\n",
    "The shape of the function. \n",
    "\n",
    "*If this is not a photon model but a prior or linear function then ignore the units as these docs are auto-generated*"
   ]
  },
  {
   "cell_type": "code",
   "execution_count": 6,
   "id": "0096100c",
   "metadata": {
    "execution": {
     "iopub.execute_input": "2024-05-13T23:12:00.558659Z",
     "iopub.status.busy": "2024-05-13T23:12:00.558524Z",
     "iopub.status.idle": "2024-05-13T23:12:00.668629Z",
     "shell.execute_reply": "2024-05-13T23:12:00.666279Z"
    },
    "papermill": {
     "duration": 0.114742,
     "end_time": "2024-05-13T23:12:00.671755",
     "exception": false,
     "start_time": "2024-05-13T23:12:00.557013",
     "status": "completed"
    },
    "tags": [
     "nbsphinx-thumbnail"
    ]
   },
   "outputs": [
    {
     "data": {
      "text/plain": [
       "Text(0, 0.5, 'probability')"
      ]
     },
     "execution_count": 6,
     "metadata": {},
     "output_type": "execute_result"
    },
    {
     "data": {
      "image/png": "[encoded data removed]",
      "text/plain": [
       "<Figure size 1040x910 with 1 Axes>"
      ]
     },
     "metadata": {},
     "output_type": "display_data"
    }
   ],
   "source": [
    "fig, ax = plt.subplots()\n",
    "\n",
    "\n",
    "ax.plot(energy_grid, func(energy_grid), color=blue, lw=3)\n",
    "\n",
    "ax.set_xlabel(\"x\")\n",
    "ax.set_ylabel(\"probability\")\n"
   ]
  },
  {
   "cell_type": "markdown",
   "id": "5e8fcaac",
   "metadata": {
    "papermill": {
     "duration": 0.002398,
     "end_time": "2024-05-13T23:12:00.675751",
     "exception": false,
     "start_time": "2024-05-13T23:12:00.673353",
     "status": "completed"
    },
    "tags": []
   },
   "source": [
    "## Random Number Generation\n",
    "\n",
    "This is how we can generate random numbers from the prior.\n"
   ]
  },
  {
   "cell_type": "code",
   "execution_count": 7,
   "id": "9bb9170d",
   "metadata": {
    "execution": {
     "iopub.execute_input": "2024-05-13T23:12:00.679484Z",
     "iopub.status.busy": "2024-05-13T23:12:00.679315Z",
     "iopub.status.idle": "2024-05-13T23:12:01.015500Z",
     "shell.execute_reply": "2024-05-13T23:12:01.014995Z"
    },
    "papermill": {
     "duration": 0.339631,
     "end_time": "2024-05-13T23:12:01.016782",
     "exception": false,
     "start_time": "2024-05-13T23:12:00.677151",
     "status": "completed"
    },
    "tags": []
   },
   "outputs": [
    {
     "data": {
      "text/plain": [
       "Text(0, 0.5, 'N')"
      ]
     },
     "execution_count": 7,
     "metadata": {},
     "output_type": "execute_result"
    },
    {
     "data": {
      "image/png": "[encoded data removed]",
      "text/plain": [
       "<Figure size 1040x910 with 1 Axes>"
      ]
     },
     "metadata": {},
     "output_type": "display_data"
    }
   ],
   "source": [
    "\n",
    "\n",
    "u = np.random.uniform(0,1, size=5000)\n",
    "\n",
    "draws = [func.from_unit_cube(x) for x in u]\n",
    "\n",
    "\n",
    "fig, ax = plt.subplots()\n",
    "\n",
    "\n",
    "ax.hist(draws, color=green, bins=50)\n",
    "\n",
    "ax.set_xlabel(\"value\")\n",
    "ax.set_ylabel(\"N\")\n",
    "\n"
   ]
  }
 ],
 "metadata": {
  "jupytext": {
   "formats": "ipynb,md"
  },
  "kernelspec": {
   "display_name": "Python 3 (ipykernel)",
   "language": "python",
   "name": "python3"
  },
  "language_info": {
   "codemirror_mode": {
    "name": "ipython",
    "version": 3
   },
   "file_extension": ".py",
   "mimetype": "text/x-python",
   "name": "python",
   "nbconvert_exporter": "python",
   "pygments_lexer": "ipython3",
   "version": "3.9.13"
  },
  "papermill": {
   "default_parameters": {},
   "duration": 2.824394,
   "end_time": "2024-05-13T23:12:01.355495",
   "environment_variables": {},
   "exception": null,
   "input_path": "Gamma.ipynb",
   "output_path": "/Users/runner/work/astromodels/astromodels/docs/notebooks/Gamma.ipynb",
   "parameters": {
    "func_name": "Gamma",
    "positive_prior": true
   },
   "start_time": "2024-05-13T23:11:58.531101",
   "version": "2.6.0"
  }
 },
 "nbformat": 4,
 "nbformat_minor": 5
}
