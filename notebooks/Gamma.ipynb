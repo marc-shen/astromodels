{
 "cells": [
  {
   "cell_type": "markdown",
   "id": "ab7b6777",
   "metadata": {
    "papermill": {
     "duration": 0.00594,
     "end_time": "2025-04-29T18:32:36.579337",
     "exception": false,
     "start_time": "2025-04-29T18:32:36.573397",
     "status": "completed"
    },
    "tags": []
   },
   "source": [
    "# Gamma"
   ]
  },
  {
   "cell_type": "code",
   "execution_count": 1,
   "id": "b5afe5c6",
   "metadata": {
    "execution": {
     "iopub.execute_input": "2025-04-29T18:32:36.588955Z",
     "iopub.status.busy": "2025-04-29T18:32:36.588398Z",
     "iopub.status.idle": "2025-04-29T18:32:37.990257Z",
     "shell.execute_reply": "2025-04-29T18:32:37.989790Z"
    },
    "nbsphinx": "hidden",
    "papermill": {
     "duration": 1.408231,
     "end_time": "2025-04-29T18:32:37.991626",
     "exception": false,
     "start_time": "2025-04-29T18:32:36.583395",
     "status": "completed"
    },
    "tags": []
   },
   "outputs": [],
   "source": [
    "%%capture\n",
    "\n",
    "import numpy as np\n",
    "\n",
    "import matplotlib.pyplot as plt\n",
    "\n",
    "import warnings\n",
    "warnings.simplefilter(\"ignore\")\n",
    "\n",
    "from astromodels.functions.function import _known_functions\n",
    "\n",
    "\n",
    "from jupyterthemes import jtplot\n",
    "jtplot.style(context=\"talk\", fscale=1, ticks=True, grid=False)\n",
    "%matplotlib inline"
   ]
  },
  {
   "cell_type": "code",
   "execution_count": 2,
   "id": "3c3cae00",
   "metadata": {
    "execution": {
     "iopub.execute_input": "2025-04-29T18:32:37.994649Z",
     "iopub.status.busy": "2025-04-29T18:32:37.994326Z",
     "iopub.status.idle": "2025-04-29T18:32:37.996625Z",
     "shell.execute_reply": "2025-04-29T18:32:37.996287Z"
    },
    "nbsphinx": "hidden",
    "papermill": {
     "duration": 0.004893,
     "end_time": "2025-04-29T18:32:37.997738",
     "exception": false,
     "start_time": "2025-04-29T18:32:37.992845",
     "status": "completed"
    },
    "tags": [
     "parameters"
    ]
   },
   "outputs": [],
   "source": [
    "func_name = \"TbAbs\"\n",
    "\n",
    "positive_prior = False\n"
   ]
  },
  {
   "cell_type": "code",
   "execution_count": 3,
   "id": "65d1fedf",
   "metadata": {
    "execution": {
     "iopub.execute_input": "2025-04-29T18:32:38.000236Z",
     "iopub.status.busy": "2025-04-29T18:32:38.000103Z",
     "iopub.status.idle": "2025-04-29T18:32:38.001927Z",
     "shell.execute_reply": "2025-04-29T18:32:38.001536Z"
    },
    "papermill": {
     "duration": 0.00424,
     "end_time": "2025-04-29T18:32:38.003031",
     "exception": false,
     "start_time": "2025-04-29T18:32:37.998791",
     "status": "completed"
    },
    "tags": [
     "injected-parameters"
    ]
   },
   "outputs": [],
   "source": [
    "# Parameters\n",
    "func_name = \"Gamma\"\n",
    "positive_prior = True\n"
   ]
  },
  {
   "cell_type": "code",
   "execution_count": 4,
   "id": "59063c78",
   "metadata": {
    "execution": {
     "iopub.execute_input": "2025-04-29T18:32:38.005636Z",
     "iopub.status.busy": "2025-04-29T18:32:38.005507Z",
     "iopub.status.idle": "2025-04-29T18:32:38.008253Z",
     "shell.execute_reply": "2025-04-29T18:32:38.007870Z"
    },
    "lines_to_next_cell": 0,
    "nbsphinx": "hidden",
    "papermill": {
     "duration": 0.005266,
     "end_time": "2025-04-29T18:32:38.009278",
     "exception": false,
     "start_time": "2025-04-29T18:32:38.004012",
     "status": "completed"
    },
    "tags": []
   },
   "outputs": [],
   "source": [
    "func = _known_functions[func_name]()\n",
    "\n",
    "if not positive_prior:\n",
    "\n",
    "\tenergy_grid = np.linspace(-5,5,1000)\n",
    "\n",
    "else:\n",
    "    \n",
    "    energy_grid = np.linspace(0,1,1000)\n",
    "    \n",
    "    \n",
    "    \n",
    "    \n",
    "blue = \"#4152E3\"\n",
    "red = \"#E3414B\"\n",
    "green = \"#41E39E\""
   ]
  },
  {
   "cell_type": "markdown",
   "id": "0b1813be",
   "metadata": {
    "lines_to_next_cell": 0,
    "papermill": {
     "duration": 0.000961,
     "end_time": "2025-04-29T18:32:38.011258",
     "exception": false,
     "start_time": "2025-04-29T18:32:38.010297",
     "status": "completed"
    },
    "tags": []
   },
   "source": [
    "## Description"
   ]
  },
  {
   "cell_type": "code",
   "execution_count": 5,
   "id": "84ddfb75",
   "metadata": {
    "execution": {
     "iopub.execute_input": "2025-04-29T18:32:38.013707Z",
     "iopub.status.busy": "2025-04-29T18:32:38.013570Z",
     "iopub.status.idle": "2025-04-29T18:32:38.017146Z",
     "shell.execute_reply": "2025-04-29T18:32:38.016711Z"
    },
    "papermill": {
     "duration": 0.006066,
     "end_time": "2025-04-29T18:32:38.018237",
     "exception": false,
     "start_time": "2025-04-29T18:32:38.012171",
     "status": "completed"
    },
    "tags": []
   },
   "outputs": [
    {
     "data": {
      "text/html": [
       "<ul>\n",
       "\n",
       "<li>description: A gamma distribution function</li>\n",
       "\n",
       "<li>formula: $ f(x, \\alpha, \\beta)=\\frac{\\beta^\\alpha x^{\\alpha-1} e^{-\\beta x}}{\\Gamma(\\alpha)}$</li>\n",
       "\n",
       "<li>parameters: \n",
       "<ul>\n",
       "\n",
       "<li>alpha: \n",
       "<ul>\n",
       "\n",
       "<li>value: 0.5</li>\n",
       "\n",
       "<li>desc: first shape parameter</li>\n",
       "\n",
       "<li>min_value: 0.0</li>\n",
       "\n",
       "<li>max_value: None</li>\n",
       "\n",
       "<li>unit: </li>\n",
       "\n",
       "<li>is_normalization: False</li>\n",
       "\n",
       "<li>delta: 0.05</li>\n",
       "\n",
       "<li>free: True</li>\n",
       "\n",
       "</ul>\n",
       "\n",
       "</li>\n",
       "\n",
       "<li>beta: \n",
       "<ul>\n",
       "\n",
       "<li>value: 1.0</li>\n",
       "\n",
       "<li>desc: second shape parameter</li>\n",
       "\n",
       "<li>min_value: 0.0</li>\n",
       "\n",
       "<li>max_value: None</li>\n",
       "\n",
       "<li>unit: </li>\n",
       "\n",
       "<li>is_normalization: False</li>\n",
       "\n",
       "<li>delta: 0.1</li>\n",
       "\n",
       "<li>free: True</li>\n",
       "\n",
       "</ul>\n",
       "\n",
       "</li>\n",
       "\n",
       "</ul>\n",
       "\n",
       "</li>\n",
       "\n",
       "</ul>\n"
      ],
      "text/plain": [
       "  * description: A gamma distribution function\n",
       "  * formula: $ f(x, \\alpha, \\beta)=\\frac{\\beta^\\alpha x^{\\alpha-1} e^{-\\beta x}}{\\Gamma(\\alpha)}$\n",
       "  * parameters:\n",
       "    * alpha:\n",
       "      * value: 0.5\n",
       "      * desc: first shape parameter\n",
       "      * min_value: 0.0\n",
       "      * max_value: null\n",
       "      * unit: ''\n",
       "      * is_normalization: false\n",
       "      * delta: 0.05\n",
       "      * free: true\n",
       "    * beta:\n",
       "      * value: 1.0\n",
       "      * desc: second shape parameter\n",
       "      * min_value: 0.0\n",
       "      * max_value: null\n",
       "      * unit: ''\n",
       "      * is_normalization: false\n",
       "      * delta: 0.1\n",
       "      * free: true"
      ]
     },
     "metadata": {},
     "output_type": "display_data"
    }
   ],
   "source": [
    "func.display()"
   ]
  },
  {
   "cell_type": "markdown",
   "id": "6769f511",
   "metadata": {
    "papermill": {
     "duration": 0.001074,
     "end_time": "2025-04-29T18:32:38.020428",
     "exception": false,
     "start_time": "2025-04-29T18:32:38.019354",
     "status": "completed"
    },
    "tags": []
   },
   "source": [
    "## Shape \n",
    "\n",
    "The shape of the function. \n",
    "\n",
    "*If this is not a photon model but a prior or linear function then ignore the units as these docs are auto-generated*"
   ]
  },
  {
   "cell_type": "code",
   "execution_count": 6,
   "id": "0bf431cb",
   "metadata": {
    "execution": {
     "iopub.execute_input": "2025-04-29T18:32:38.023149Z",
     "iopub.status.busy": "2025-04-29T18:32:38.023014Z",
     "iopub.status.idle": "2025-04-29T18:32:38.099803Z",
     "shell.execute_reply": "2025-04-29T18:32:38.099489Z"
    },
    "papermill": {
     "duration": 0.079551,
     "end_time": "2025-04-29T18:32:38.101034",
     "exception": false,
     "start_time": "2025-04-29T18:32:38.021483",
     "status": "completed"
    },
    "tags": [
     "nbsphinx-thumbnail"
    ]
   },
   "outputs": [
    {
     "data": {
      "text/plain": [
       "Text(0, 0.5, 'probability')"
      ]
     },
     "execution_count": 6,
     "metadata": {},
     "output_type": "execute_result"
    },
    {
     "data": {
      "image/png": "[encoded data removed]",
      "text/plain": [
       "<Figure size 1040x910 with 1 Axes>"
      ]
     },
     "metadata": {},
     "output_type": "display_data"
    }
   ],
   "source": [
    "fig, ax = plt.subplots()\n",
    "\n",
    "\n",
    "ax.plot(energy_grid, func(energy_grid), color=blue, lw=3)\n",
    "\n",
    "ax.set_xlabel(\"x\")\n",
    "ax.set_ylabel(\"probability\")\n"
   ]
  },
  {
   "cell_type": "markdown",
   "id": "58a656d5",
   "metadata": {
    "papermill": {
     "duration": 0.001459,
     "end_time": "2025-04-29T18:32:38.104121",
     "exception": false,
     "start_time": "2025-04-29T18:32:38.102662",
     "status": "completed"
    },
    "tags": []
   },
   "source": [
    "## Random Number Generation\n",
    "\n",
    "This is how we can generate random numbers from the prior.\n"
   ]
  },
  {
   "cell_type": "code",
   "execution_count": 7,
   "id": "4f0812b8",
   "metadata": {
    "execution": {
     "iopub.execute_input": "2025-04-29T18:32:38.107605Z",
     "iopub.status.busy": "2025-04-29T18:32:38.107460Z",
     "iopub.status.idle": "2025-04-29T18:32:38.419828Z",
     "shell.execute_reply": "2025-04-29T18:32:38.419385Z"
    },
    "papermill": {
     "duration": 0.315406,
     "end_time": "2025-04-29T18:32:38.420965",
     "exception": false,
     "start_time": "2025-04-29T18:32:38.105559",
     "status": "completed"
    },
    "tags": []
   },
   "outputs": [
    {
     "data": {
      "text/plain": [
       "Text(0, 0.5, 'N')"
      ]
     },
     "execution_count": 7,
     "metadata": {},
     "output_type": "execute_result"
    },
    {
     "data": {
      "image/png": "[encoded data removed]",
      "text/plain": [
       "<Figure size 1040x910 with 1 Axes>"
      ]
     },
     "metadata": {},
     "output_type": "display_data"
    }
   ],
   "source": [
    "\n",
    "\n",
    "u = np.random.uniform(0,1, size=5000)\n",
    "\n",
    "draws = [func.from_unit_cube(x) for x in u]\n",
    "\n",
    "\n",
    "fig, ax = plt.subplots()\n",
    "\n",
    "\n",
    "ax.hist(draws, color=green, bins=50)\n",
    "\n",
    "ax.set_xlabel(\"value\")\n",
    "ax.set_ylabel(\"N\")\n",
    "\n"
   ]
  }
 ],
 "metadata": {
  "jupytext": {
   "formats": "ipynb,md"
  },
  "kernelspec": {
   "display_name": "Python 3 (ipykernel)",
   "language": "python",
   "name": "python3"
  },
  "language_info": {
   "codemirror_mode": {
    "name": "ipython",
    "version": 3
   },
   "file_extension": ".py",
   "mimetype": "text/x-python",
   "name": "python",
   "nbconvert_exporter": "python",
   "pygments_lexer": "ipython3",
   "version": "3.9.13"
  },
  "papermill": {
   "default_parameters": {},
   "duration": 2.751315,
   "end_time": "2025-04-29T18:32:38.748620",
   "environment_variables": {},
   "exception": null,
   "input_path": "Gamma.ipynb",
   "output_path": "/Users/runner/work/astromodels/astromodels/docs/notebooks/Gamma.ipynb",
   "parameters": {
    "func_name": "Gamma",
    "positive_prior": true
   },
   "start_time": "2025-04-29T18:32:35.997305",
   "version": "2.6.0"
  }
 },
 "nbformat": 4,
 "nbformat_minor": 5
}
