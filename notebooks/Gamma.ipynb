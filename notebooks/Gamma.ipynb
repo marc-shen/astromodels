{
 "cells": [
  {
   "cell_type": "markdown",
   "id": "10df7bb9",
   "metadata": {
    "papermill": {
     "duration": 0.010629,
     "end_time": "2024-05-13T22:11:20.695094",
     "exception": false,
     "start_time": "2024-05-13T22:11:20.684465",
     "status": "completed"
    },
    "tags": []
   },
   "source": [
    "# Gamma"
   ]
  },
  {
   "cell_type": "code",
   "execution_count": 1,
   "id": "7c9fa669",
   "metadata": {
    "execution": {
     "iopub.execute_input": "2024-05-13T22:11:20.711176Z",
     "iopub.status.busy": "2024-05-13T22:11:20.710008Z",
     "iopub.status.idle": "2024-05-13T22:11:22.124681Z",
     "shell.execute_reply": "2024-05-13T22:11:22.124166Z"
    },
    "nbsphinx": "hidden",
    "papermill": {
     "duration": 1.424062,
     "end_time": "2024-05-13T22:11:22.126203",
     "exception": false,
     "start_time": "2024-05-13T22:11:20.702141",
     "status": "completed"
    },
    "tags": []
   },
   "outputs": [],
   "source": [
    "%%capture\n",
    "\n",
    "import numpy as np\n",
    "\n",
    "import matplotlib.pyplot as plt\n",
    "\n",
    "import warnings\n",
    "warnings.simplefilter(\"ignore\")\n",
    "\n",
    "from astromodels.functions.function import _known_functions\n",
    "\n",
    "\n",
    "from jupyterthemes import jtplot\n",
    "jtplot.style(context=\"talk\", fscale=1, ticks=True, grid=False)\n",
    "%matplotlib inline"
   ]
  },
  {
   "cell_type": "code",
   "execution_count": 2,
   "id": "c415b719",
   "metadata": {
    "execution": {
     "iopub.execute_input": "2024-05-13T22:11:22.129855Z",
     "iopub.status.busy": "2024-05-13T22:11:22.129505Z",
     "iopub.status.idle": "2024-05-13T22:11:22.131688Z",
     "shell.execute_reply": "2024-05-13T22:11:22.131325Z"
    },
    "nbsphinx": "hidden",
    "papermill": {
     "duration": 0.005473,
     "end_time": "2024-05-13T22:11:22.132874",
     "exception": false,
     "start_time": "2024-05-13T22:11:22.127401",
     "status": "completed"
    },
    "tags": [
     "parameters"
    ]
   },
   "outputs": [],
   "source": [
    "func_name = \"TbAbs\"\n",
    "\n",
    "positive_prior = False\n"
   ]
  },
  {
   "cell_type": "code",
   "execution_count": 3,
   "id": "d7707f8b",
   "metadata": {
    "execution": {
     "iopub.execute_input": "2024-05-13T22:11:22.135514Z",
     "iopub.status.busy": "2024-05-13T22:11:22.135369Z",
     "iopub.status.idle": "2024-05-13T22:11:22.141201Z",
     "shell.execute_reply": "2024-05-13T22:11:22.140793Z"
    },
    "papermill": {
     "duration": 0.008514,
     "end_time": "2024-05-13T22:11:22.142436",
     "exception": false,
     "start_time": "2024-05-13T22:11:22.133922",
     "status": "completed"
    },
    "tags": [
     "injected-parameters"
    ]
   },
   "outputs": [],
   "source": [
    "# Parameters\n",
    "func_name = \"Gamma\"\n",
    "positive_prior = True\n"
   ]
  },
  {
   "cell_type": "code",
   "execution_count": 4,
   "id": "1481033d",
   "metadata": {
    "execution": {
     "iopub.execute_input": "2024-05-13T22:11:22.145115Z",
     "iopub.status.busy": "2024-05-13T22:11:22.144969Z",
     "iopub.status.idle": "2024-05-13T22:11:22.147700Z",
     "shell.execute_reply": "2024-05-13T22:11:22.147341Z"
    },
    "lines_to_next_cell": 0,
    "nbsphinx": "hidden",
    "papermill": {
     "duration": 0.005425,
     "end_time": "2024-05-13T22:11:22.148896",
     "exception": false,
     "start_time": "2024-05-13T22:11:22.143471",
     "status": "completed"
    },
    "tags": []
   },
   "outputs": [],
   "source": [
    "func = _known_functions[func_name]()\n",
    "\n",
    "if not positive_prior:\n",
    "\n",
    "\tenergy_grid = np.linspace(-5,5,1000)\n",
    "\n",
    "else:\n",
    "    \n",
    "    energy_grid = np.linspace(0,1,1000)\n",
    "    \n",
    "    \n",
    "    \n",
    "    \n",
    "blue = \"#4152E3\"\n",
    "red = \"#E3414B\"\n",
    "green = \"#41E39E\""
   ]
  },
  {
   "cell_type": "markdown",
   "id": "9afd79ef",
   "metadata": {
    "lines_to_next_cell": 0,
    "papermill": {
     "duration": 0.000978,
     "end_time": "2024-05-13T22:11:22.150884",
     "exception": false,
     "start_time": "2024-05-13T22:11:22.149906",
     "status": "completed"
    },
    "tags": []
   },
   "source": [
    "## Description"
   ]
  },
  {
   "cell_type": "code",
   "execution_count": 5,
   "id": "d7f10526",
   "metadata": {
    "execution": {
     "iopub.execute_input": "2024-05-13T22:11:22.153419Z",
     "iopub.status.busy": "2024-05-13T22:11:22.153275Z",
     "iopub.status.idle": "2024-05-13T22:11:22.157042Z",
     "shell.execute_reply": "2024-05-13T22:11:22.156586Z"
    },
    "papermill": {
     "duration": 0.006451,
     "end_time": "2024-05-13T22:11:22.158278",
     "exception": false,
     "start_time": "2024-05-13T22:11:22.151827",
     "status": "completed"
    },
    "tags": []
   },
   "outputs": [
    {
     "data": {
      "text/html": [
       "<ul>\n",
       "\n",
       "<li>description: A gamma distribution function</li>\n",
       "\n",
       "<li>formula: $ f(x, \\alpha, \\beta)=\\frac{\\beta^\\alpha x^{\\alpha-1} e^{-\\beta x}}{\\Gamma(\\alpha)}$</li>\n",
       "\n",
       "<li>parameters: \n",
       "<ul>\n",
       "\n",
       "<li>alpha: \n",
       "<ul>\n",
       "\n",
       "<li>value: 0.5</li>\n",
       "\n",
       "<li>desc: first shape parameter</li>\n",
       "\n",
       "<li>min_value: 0.0</li>\n",
       "\n",
       "<li>max_value: None</li>\n",
       "\n",
       "<li>unit: </li>\n",
       "\n",
       "<li>is_normalization: False</li>\n",
       "\n",
       "<li>delta: 0.05</li>\n",
       "\n",
       "<li>free: True</li>\n",
       "\n",
       "</ul>\n",
       "\n",
       "</li>\n",
       "\n",
       "<li>beta: \n",
       "<ul>\n",
       "\n",
       "<li>value: 1.0</li>\n",
       "\n",
       "<li>desc: second shape parameter</li>\n",
       "\n",
       "<li>min_value: 0.0</li>\n",
       "\n",
       "<li>max_value: None</li>\n",
       "\n",
       "<li>unit: </li>\n",
       "\n",
       "<li>is_normalization: False</li>\n",
       "\n",
       "<li>delta: 0.1</li>\n",
       "\n",
       "<li>free: True</li>\n",
       "\n",
       "</ul>\n",
       "\n",
       "</li>\n",
       "\n",
       "</ul>\n",
       "\n",
       "</li>\n",
       "\n",
       "</ul>\n"
      ],
      "text/plain": [
       "  * description: A gamma distribution function\n",
       "  * formula: $ f(x, \\alpha, \\beta)=\\frac{\\beta^\\alpha x^{\\alpha-1} e^{-\\beta x}}{\\Gamma(\\alpha)}$\n",
       "  * parameters:\n",
       "    * alpha:\n",
       "      * value: 0.5\n",
       "      * desc: first shape parameter\n",
       "      * min_value: 0.0\n",
       "      * max_value: null\n",
       "      * unit: ''\n",
       "      * is_normalization: false\n",
       "      * delta: 0.05\n",
       "      * free: true\n",
       "    * beta:\n",
       "      * value: 1.0\n",
       "      * desc: second shape parameter\n",
       "      * min_value: 0.0\n",
       "      * max_value: null\n",
       "      * unit: ''\n",
       "      * is_normalization: false\n",
       "      * delta: 0.1\n",
       "      * free: true"
      ]
     },
     "metadata": {},
     "output_type": "display_data"
    }
   ],
   "source": [
    "func.display()"
   ]
  },
  {
   "cell_type": "markdown",
   "id": "f136b8e4",
   "metadata": {
    "papermill": {
     "duration": 0.001073,
     "end_time": "2024-05-13T22:11:22.160478",
     "exception": false,
     "start_time": "2024-05-13T22:11:22.159405",
     "status": "completed"
    },
    "tags": []
   },
   "source": [
    "## Shape \n",
    "\n",
    "The shape of the function. \n",
    "\n",
    "*If this is not a photon model but a prior or linear function then ignore the units as these docs are auto-generated*"
   ]
  },
  {
   "cell_type": "code",
   "execution_count": 6,
   "id": "4f13fb66",
   "metadata": {
    "execution": {
     "iopub.execute_input": "2024-05-13T22:11:22.163220Z",
     "iopub.status.busy": "2024-05-13T22:11:22.163072Z",
     "iopub.status.idle": "2024-05-13T22:11:22.267958Z",
     "shell.execute_reply": "2024-05-13T22:11:22.267542Z"
    },
    "papermill": {
     "duration": 0.107646,
     "end_time": "2024-05-13T22:11:22.269196",
     "exception": false,
     "start_time": "2024-05-13T22:11:22.161550",
     "status": "completed"
    },
    "tags": [
     "nbsphinx-thumbnail"
    ]
   },
   "outputs": [
    {
     "data": {
      "text/plain": [
       "Text(0, 0.5, 'probability')"
      ]
     },
     "execution_count": 6,
     "metadata": {},
     "output_type": "execute_result"
    },
    {
     "data": {
      "image/png": "[encoded data removed]",
      "text/plain": [
       "<Figure size 1040x910 with 1 Axes>"
      ]
     },
     "metadata": {},
     "output_type": "display_data"
    }
   ],
   "source": [
    "fig, ax = plt.subplots()\n",
    "\n",
    "\n",
    "ax.plot(energy_grid, func(energy_grid), color=blue, lw=3)\n",
    "\n",
    "ax.set_xlabel(\"x\")\n",
    "ax.set_ylabel(\"probability\")\n"
   ]
  },
  {
   "cell_type": "markdown",
   "id": "7d41fbb0",
   "metadata": {
    "papermill": {
     "duration": 0.001325,
     "end_time": "2024-05-13T22:11:22.272119",
     "exception": false,
     "start_time": "2024-05-13T22:11:22.270794",
     "status": "completed"
    },
    "tags": []
   },
   "source": [
    "## Random Number Generation\n",
    "\n",
    "This is how we can generate random numbers from the prior.\n"
   ]
  },
  {
   "cell_type": "code",
   "execution_count": 7,
   "id": "49c8829a",
   "metadata": {
    "execution": {
     "iopub.execute_input": "2024-05-13T22:11:22.275696Z",
     "iopub.status.busy": "2024-05-13T22:11:22.275521Z",
     "iopub.status.idle": "2024-05-13T22:11:22.599070Z",
     "shell.execute_reply": "2024-05-13T22:11:22.598760Z"
    },
    "papermill": {
     "duration": 0.326961,
     "end_time": "2024-05-13T22:11:22.600460",
     "exception": false,
     "start_time": "2024-05-13T22:11:22.273499",
     "status": "completed"
    },
    "tags": []
   },
   "outputs": [
    {
     "data": {
      "text/plain": [
       "Text(0, 0.5, 'N')"
      ]
     },
     "execution_count": 7,
     "metadata": {},
     "output_type": "execute_result"
    },
    {
     "data": {
      "image/png": "[encoded data removed]",
      "text/plain": [
       "<Figure size 1040x910 with 1 Axes>"
      ]
     },
     "metadata": {},
     "output_type": "display_data"
    }
   ],
   "source": [
    "\n",
    "\n",
    "u = np.random.uniform(0,1, size=5000)\n",
    "\n",
    "draws = [func.from_unit_cube(x) for x in u]\n",
    "\n",
    "\n",
    "fig, ax = plt.subplots()\n",
    "\n",
    "\n",
    "ax.hist(draws, color=green, bins=50)\n",
    "\n",
    "ax.set_xlabel(\"value\")\n",
    "ax.set_ylabel(\"N\")\n",
    "\n"
   ]
  }
 ],
 "metadata": {
  "jupytext": {
   "formats": "ipynb,md"
  },
  "kernelspec": {
   "display_name": "Python 3 (ipykernel)",
   "language": "python",
   "name": "python3"
  },
  "language_info": {
   "codemirror_mode": {
    "name": "ipython",
    "version": 3
   },
   "file_extension": ".py",
   "mimetype": "text/x-python",
   "name": "python",
   "nbconvert_exporter": "python",
   "pygments_lexer": "ipython3",
   "version": "3.9.13"
  },
  "papermill": {
   "default_parameters": {},
   "duration": 2.92856,
   "end_time": "2024-05-13T22:11:22.925325",
   "environment_variables": {},
   "exception": null,
   "input_path": "Gamma.ipynb",
   "output_path": "/Users/runner/work/astromodels/astromodels/docs/notebooks/Gamma.ipynb",
   "parameters": {
    "func_name": "Gamma",
    "positive_prior": true
   },
   "start_time": "2024-05-13T22:11:19.996765",
   "version": "2.6.0"
  }
 },
 "nbformat": 4,
 "nbformat_minor": 5
}
