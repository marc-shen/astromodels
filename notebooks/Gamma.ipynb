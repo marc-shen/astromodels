{
 "cells": [
  {
   "cell_type": "markdown",
   "id": "8fb8f4cc",
   "metadata": {
    "papermill": {
     "duration": 0.004361,
     "end_time": "2024-08-14T21:25:54.750932",
     "exception": false,
     "start_time": "2024-08-14T21:25:54.746571",
     "status": "completed"
    },
    "tags": []
   },
   "source": [
    "# Gamma"
   ]
  },
  {
   "cell_type": "code",
   "execution_count": 1,
   "id": "26f444c6",
   "metadata": {
    "execution": {
     "iopub.execute_input": "2024-08-14T21:25:54.759748Z",
     "iopub.status.busy": "2024-08-14T21:25:54.758948Z",
     "iopub.status.idle": "2024-08-14T21:25:56.270580Z",
     "shell.execute_reply": "2024-08-14T21:25:56.270078Z"
    },
    "nbsphinx": "hidden",
    "papermill": {
     "duration": 1.517953,
     "end_time": "2024-08-14T21:25:56.272111",
     "exception": false,
     "start_time": "2024-08-14T21:25:54.754158",
     "status": "completed"
    },
    "tags": []
   },
   "outputs": [],
   "source": [
    "%%capture\n",
    "\n",
    "import numpy as np\n",
    "\n",
    "import matplotlib.pyplot as plt\n",
    "\n",
    "import warnings\n",
    "warnings.simplefilter(\"ignore\")\n",
    "\n",
    "from astromodels.functions.function import _known_functions\n",
    "\n",
    "\n",
    "from jupyterthemes import jtplot\n",
    "jtplot.style(context=\"talk\", fscale=1, ticks=True, grid=False)\n",
    "%matplotlib inline"
   ]
  },
  {
   "cell_type": "code",
   "execution_count": 2,
   "id": "4e3843a6",
   "metadata": {
    "execution": {
     "iopub.execute_input": "2024-08-14T21:25:56.275260Z",
     "iopub.status.busy": "2024-08-14T21:25:56.274917Z",
     "iopub.status.idle": "2024-08-14T21:25:56.283298Z",
     "shell.execute_reply": "2024-08-14T21:25:56.282800Z"
    },
    "nbsphinx": "hidden",
    "papermill": {
     "duration": 0.011224,
     "end_time": "2024-08-14T21:25:56.284554",
     "exception": false,
     "start_time": "2024-08-14T21:25:56.273330",
     "status": "completed"
    },
    "tags": [
     "parameters"
    ]
   },
   "outputs": [],
   "source": [
    "func_name = \"TbAbs\"\n",
    "\n",
    "positive_prior = False\n"
   ]
  },
  {
   "cell_type": "code",
   "execution_count": 3,
   "id": "35e41966",
   "metadata": {
    "execution": {
     "iopub.execute_input": "2024-08-14T21:25:56.287239Z",
     "iopub.status.busy": "2024-08-14T21:25:56.287097Z",
     "iopub.status.idle": "2024-08-14T21:25:56.295224Z",
     "shell.execute_reply": "2024-08-14T21:25:56.294845Z"
    },
    "papermill": {
     "duration": 0.010904,
     "end_time": "2024-08-14T21:25:56.296474",
     "exception": false,
     "start_time": "2024-08-14T21:25:56.285570",
     "status": "completed"
    },
    "tags": [
     "injected-parameters"
    ]
   },
   "outputs": [],
   "source": [
    "# Parameters\n",
    "func_name = \"Gamma\"\n",
    "positive_prior = True\n"
   ]
  },
  {
   "cell_type": "code",
   "execution_count": 4,
   "id": "65bd28a3",
   "metadata": {
    "execution": {
     "iopub.execute_input": "2024-08-14T21:25:56.299149Z",
     "iopub.status.busy": "2024-08-14T21:25:56.299003Z",
     "iopub.status.idle": "2024-08-14T21:25:56.307839Z",
     "shell.execute_reply": "2024-08-14T21:25:56.307484Z"
    },
    "lines_to_next_cell": 0,
    "nbsphinx": "hidden",
    "papermill": {
     "duration": 0.011616,
     "end_time": "2024-08-14T21:25:56.309159",
     "exception": false,
     "start_time": "2024-08-14T21:25:56.297543",
     "status": "completed"
    },
    "tags": []
   },
   "outputs": [],
   "source": [
    "func = _known_functions[func_name]()\n",
    "\n",
    "if not positive_prior:\n",
    "\n",
    "\tenergy_grid = np.linspace(-5,5,1000)\n",
    "\n",
    "else:\n",
    "    \n",
    "    energy_grid = np.linspace(0,1,1000)\n",
    "    \n",
    "    \n",
    "    \n",
    "    \n",
    "blue = \"#4152E3\"\n",
    "red = \"#E3414B\"\n",
    "green = \"#41E39E\""
   ]
  },
  {
   "cell_type": "markdown",
   "id": "d2808ba1",
   "metadata": {
    "lines_to_next_cell": 0,
    "papermill": {
     "duration": 0.00098,
     "end_time": "2024-08-14T21:25:56.311188",
     "exception": false,
     "start_time": "2024-08-14T21:25:56.310208",
     "status": "completed"
    },
    "tags": []
   },
   "source": [
    "## Description"
   ]
  },
  {
   "cell_type": "code",
   "execution_count": 5,
   "id": "b6c33188",
   "metadata": {
    "execution": {
     "iopub.execute_input": "2024-08-14T21:25:56.313690Z",
     "iopub.status.busy": "2024-08-14T21:25:56.313549Z",
     "iopub.status.idle": "2024-08-14T21:25:56.324401Z",
     "shell.execute_reply": "2024-08-14T21:25:56.323971Z"
    },
    "papermill": {
     "duration": 0.013517,
     "end_time": "2024-08-14T21:25:56.325648",
     "exception": false,
     "start_time": "2024-08-14T21:25:56.312131",
     "status": "completed"
    },
    "tags": []
   },
   "outputs": [
    {
     "data": {
      "text/html": [
       "<ul>\n",
       "\n",
       "<li>description: A gamma distribution function</li>\n",
       "\n",
       "<li>formula: $ f(x, \\alpha, \\beta)=\\frac{\\beta^\\alpha x^{\\alpha-1} e^{-\\beta x}}{\\Gamma(\\alpha)}$</li>\n",
       "\n",
       "<li>parameters: \n",
       "<ul>\n",
       "\n",
       "<li>alpha: \n",
       "<ul>\n",
       "\n",
       "<li>value: 0.5</li>\n",
       "\n",
       "<li>desc: first shape parameter</li>\n",
       "\n",
       "<li>min_value: 0.0</li>\n",
       "\n",
       "<li>max_value: None</li>\n",
       "\n",
       "<li>unit: </li>\n",
       "\n",
       "<li>is_normalization: False</li>\n",
       "\n",
       "<li>delta: 0.05</li>\n",
       "\n",
       "<li>free: True</li>\n",
       "\n",
       "</ul>\n",
       "\n",
       "</li>\n",
       "\n",
       "<li>beta: \n",
       "<ul>\n",
       "\n",
       "<li>value: 1.0</li>\n",
       "\n",
       "<li>desc: second shape parameter</li>\n",
       "\n",
       "<li>min_value: 0.0</li>\n",
       "\n",
       "<li>max_value: None</li>\n",
       "\n",
       "<li>unit: </li>\n",
       "\n",
       "<li>is_normalization: False</li>\n",
       "\n",
       "<li>delta: 0.1</li>\n",
       "\n",
       "<li>free: True</li>\n",
       "\n",
       "</ul>\n",
       "\n",
       "</li>\n",
       "\n",
       "</ul>\n",
       "\n",
       "</li>\n",
       "\n",
       "</ul>\n"
      ],
      "text/plain": [
       "  * description: A gamma distribution function\n",
       "  * formula: $ f(x, \\alpha, \\beta)=\\frac{\\beta^\\alpha x^{\\alpha-1} e^{-\\beta x}}{\\Gamma(\\alpha)}$\n",
       "  * parameters:\n",
       "    * alpha:\n",
       "      * value: 0.5\n",
       "      * desc: first shape parameter\n",
       "      * min_value: 0.0\n",
       "      * max_value: null\n",
       "      * unit: ''\n",
       "      * is_normalization: false\n",
       "      * delta: 0.05\n",
       "      * free: true\n",
       "    * beta:\n",
       "      * value: 1.0\n",
       "      * desc: second shape parameter\n",
       "      * min_value: 0.0\n",
       "      * max_value: null\n",
       "      * unit: ''\n",
       "      * is_normalization: false\n",
       "      * delta: 0.1\n",
       "      * free: true"
      ]
     },
     "metadata": {},
     "output_type": "display_data"
    }
   ],
   "source": [
    "func.display()"
   ]
  },
  {
   "cell_type": "markdown",
   "id": "17481774",
   "metadata": {
    "papermill": {
     "duration": 0.001076,
     "end_time": "2024-08-14T21:25:56.327861",
     "exception": false,
     "start_time": "2024-08-14T21:25:56.326785",
     "status": "completed"
    },
    "tags": []
   },
   "source": [
    "## Shape \n",
    "\n",
    "The shape of the function. \n",
    "\n",
    "*If this is not a photon model but a prior or linear function then ignore the units as these docs are auto-generated*"
   ]
  },
  {
   "cell_type": "code",
   "execution_count": 6,
   "id": "0aa2f407",
   "metadata": {
    "execution": {
     "iopub.execute_input": "2024-08-14T21:25:56.330704Z",
     "iopub.status.busy": "2024-08-14T21:25:56.330564Z",
     "iopub.status.idle": "2024-08-14T21:25:56.460423Z",
     "shell.execute_reply": "2024-08-14T21:25:56.459900Z"
    },
    "papermill": {
     "duration": 0.132781,
     "end_time": "2024-08-14T21:25:56.461689",
     "exception": false,
     "start_time": "2024-08-14T21:25:56.328908",
     "status": "completed"
    },
    "tags": [
     "nbsphinx-thumbnail"
    ]
   },
   "outputs": [
    {
     "data": {
      "text/plain": [
       "Text(0, 0.5, 'probability')"
      ]
     },
     "execution_count": 6,
     "metadata": {},
     "output_type": "execute_result"
    },
    {
     "data": {
      "image/png": "[encoded data removed]",
      "text/plain": [
       "<Figure size 1040x910 with 1 Axes>"
      ]
     },
     "metadata": {},
     "output_type": "display_data"
    }
   ],
   "source": [
    "fig, ax = plt.subplots()\n",
    "\n",
    "\n",
    "ax.plot(energy_grid, func(energy_grid), color=blue, lw=3)\n",
    "\n",
    "ax.set_xlabel(\"x\")\n",
    "ax.set_ylabel(\"probability\")\n"
   ]
  },
  {
   "cell_type": "markdown",
   "id": "2d86a7f8",
   "metadata": {
    "papermill": {
     "duration": 0.001385,
     "end_time": "2024-08-14T21:25:56.464717",
     "exception": false,
     "start_time": "2024-08-14T21:25:56.463332",
     "status": "completed"
    },
    "tags": []
   },
   "source": [
    "## Random Number Generation\n",
    "\n",
    "This is how we can generate random numbers from the prior.\n"
   ]
  },
  {
   "cell_type": "code",
   "execution_count": 7,
   "id": "09382af2",
   "metadata": {
    "execution": {
     "iopub.execute_input": "2024-08-14T21:25:56.468631Z",
     "iopub.status.busy": "2024-08-14T21:25:56.468285Z",
     "iopub.status.idle": "2024-08-14T21:25:56.810853Z",
     "shell.execute_reply": "2024-08-14T21:25:56.810442Z"
    },
    "papermill": {
     "duration": 0.346199,
     "end_time": "2024-08-14T21:25:56.812258",
     "exception": false,
     "start_time": "2024-08-14T21:25:56.466059",
     "status": "completed"
    },
    "tags": []
   },
   "outputs": [
    {
     "data": {
      "text/plain": [
       "Text(0, 0.5, 'N')"
      ]
     },
     "execution_count": 7,
     "metadata": {},
     "output_type": "execute_result"
    },
    {
     "data": {
      "image/png": "[encoded data removed]",
      "text/plain": [
       "<Figure size 1040x910 with 1 Axes>"
      ]
     },
     "metadata": {},
     "output_type": "display_data"
    }
   ],
   "source": [
    "\n",
    "\n",
    "u = np.random.uniform(0,1, size=5000)\n",
    "\n",
    "draws = [func.from_unit_cube(x) for x in u]\n",
    "\n",
    "\n",
    "fig, ax = plt.subplots()\n",
    "\n",
    "\n",
    "ax.hist(draws, color=green, bins=50)\n",
    "\n",
    "ax.set_xlabel(\"value\")\n",
    "ax.set_ylabel(\"N\")\n",
    "\n"
   ]
  }
 ],
 "metadata": {
  "jupytext": {
   "formats": "ipynb,md"
  },
  "kernelspec": {
   "display_name": "Python 3 (ipykernel)",
   "language": "python",
   "name": "python3"
  },
  "language_info": {
   "codemirror_mode": {
    "name": "ipython",
    "version": 3
   },
   "file_extension": ".py",
   "mimetype": "text/x-python",
   "name": "python",
   "nbconvert_exporter": "python",
   "pygments_lexer": "ipython3",
   "version": "3.9.13"
  },
  "papermill": {
   "default_parameters": {},
   "duration": 3.062968,
   "end_time": "2024-08-14T21:25:57.248554",
   "environment_variables": {},
   "exception": null,
   "input_path": "Gamma.ipynb",
   "output_path": "/Users/runner/work/astromodels/astromodels/docs/notebooks/Gamma.ipynb",
   "parameters": {
    "func_name": "Gamma",
    "positive_prior": true
   },
   "start_time": "2024-08-14T21:25:54.185586",
   "version": "2.6.0"
  }
 },
 "nbformat": 4,
 "nbformat_minor": 5
}
