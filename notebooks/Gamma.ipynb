{
 "cells": [
  {
   "cell_type": "markdown",
   "id": "aa107fd5",
   "metadata": {
    "papermill": {
     "duration": 0.004248,
     "end_time": "2025-02-01T01:04:11.781491",
     "exception": false,
     "start_time": "2025-02-01T01:04:11.777243",
     "status": "completed"
    },
    "tags": []
   },
   "source": [
    "# Gamma"
   ]
  },
  {
   "cell_type": "code",
   "execution_count": 1,
   "id": "a26ce16a",
   "metadata": {
    "execution": {
     "iopub.execute_input": "2025-02-01T01:04:11.788473Z",
     "iopub.status.busy": "2025-02-01T01:04:11.788270Z",
     "iopub.status.idle": "2025-02-01T01:04:13.360651Z",
     "shell.execute_reply": "2025-02-01T01:04:13.359816Z"
    },
    "nbsphinx": "hidden",
    "papermill": {
     "duration": 1.576829,
     "end_time": "2025-02-01T01:04:13.362065",
     "exception": false,
     "start_time": "2025-02-01T01:04:11.785236",
     "status": "completed"
    },
    "tags": []
   },
   "outputs": [],
   "source": [
    "%%capture\n",
    "\n",
    "import numpy as np\n",
    "\n",
    "import matplotlib.pyplot as plt\n",
    "\n",
    "import warnings\n",
    "warnings.simplefilter(\"ignore\")\n",
    "\n",
    "from astromodels.functions.function import _known_functions\n",
    "\n",
    "\n",
    "from jupyterthemes import jtplot\n",
    "jtplot.style(context=\"talk\", fscale=1, ticks=True, grid=False)\n",
    "%matplotlib inline"
   ]
  },
  {
   "cell_type": "code",
   "execution_count": 2,
   "id": "3faa60bd",
   "metadata": {
    "execution": {
     "iopub.execute_input": "2025-02-01T01:04:13.365429Z",
     "iopub.status.busy": "2025-02-01T01:04:13.365035Z",
     "iopub.status.idle": "2025-02-01T01:04:13.372485Z",
     "shell.execute_reply": "2025-02-01T01:04:13.372043Z"
    },
    "nbsphinx": "hidden",
    "papermill": {
     "duration": 0.01024,
     "end_time": "2025-02-01T01:04:13.373668",
     "exception": false,
     "start_time": "2025-02-01T01:04:13.363428",
     "status": "completed"
    },
    "tags": [
     "parameters"
    ]
   },
   "outputs": [],
   "source": [
    "func_name = \"TbAbs\"\n",
    "\n",
    "positive_prior = False\n"
   ]
  },
  {
   "cell_type": "code",
   "execution_count": 3,
   "id": "85aad72c",
   "metadata": {
    "execution": {
     "iopub.execute_input": "2025-02-01T01:04:13.376566Z",
     "iopub.status.busy": "2025-02-01T01:04:13.376422Z",
     "iopub.status.idle": "2025-02-01T01:04:13.384627Z",
     "shell.execute_reply": "2025-02-01T01:04:13.384255Z"
    },
    "papermill": {
     "duration": 0.010863,
     "end_time": "2025-02-01T01:04:13.385761",
     "exception": false,
     "start_time": "2025-02-01T01:04:13.374898",
     "status": "completed"
    },
    "tags": [
     "injected-parameters"
    ]
   },
   "outputs": [],
   "source": [
    "# Parameters\n",
    "func_name = \"Gamma\"\n",
    "positive_prior = True\n"
   ]
  },
  {
   "cell_type": "code",
   "execution_count": 4,
   "id": "117d0842",
   "metadata": {
    "execution": {
     "iopub.execute_input": "2025-02-01T01:04:13.388470Z",
     "iopub.status.busy": "2025-02-01T01:04:13.388316Z",
     "iopub.status.idle": "2025-02-01T01:04:13.397292Z",
     "shell.execute_reply": "2025-02-01T01:04:13.396905Z"
    },
    "lines_to_next_cell": 0,
    "nbsphinx": "hidden",
    "papermill": {
     "duration": 0.011652,
     "end_time": "2025-02-01T01:04:13.398475",
     "exception": false,
     "start_time": "2025-02-01T01:04:13.386823",
     "status": "completed"
    },
    "tags": []
   },
   "outputs": [],
   "source": [
    "func = _known_functions[func_name]()\n",
    "\n",
    "if not positive_prior:\n",
    "\n",
    "\tenergy_grid = np.linspace(-5,5,1000)\n",
    "\n",
    "else:\n",
    "    \n",
    "    energy_grid = np.linspace(0,1,1000)\n",
    "    \n",
    "    \n",
    "    \n",
    "    \n",
    "blue = \"#4152E3\"\n",
    "red = \"#E3414B\"\n",
    "green = \"#41E39E\""
   ]
  },
  {
   "cell_type": "markdown",
   "id": "0e91b9ca",
   "metadata": {
    "lines_to_next_cell": 0,
    "papermill": {
     "duration": 0.00102,
     "end_time": "2025-02-01T01:04:13.400645",
     "exception": false,
     "start_time": "2025-02-01T01:04:13.399625",
     "status": "completed"
    },
    "tags": []
   },
   "source": [
    "## Description"
   ]
  },
  {
   "cell_type": "code",
   "execution_count": 5,
   "id": "1f404526",
   "metadata": {
    "execution": {
     "iopub.execute_input": "2025-02-01T01:04:13.403365Z",
     "iopub.status.busy": "2025-02-01T01:04:13.403210Z",
     "iopub.status.idle": "2025-02-01T01:04:13.407272Z",
     "shell.execute_reply": "2025-02-01T01:04:13.406744Z"
    },
    "papermill": {
     "duration": 0.006797,
     "end_time": "2025-02-01T01:04:13.408498",
     "exception": false,
     "start_time": "2025-02-01T01:04:13.401701",
     "status": "completed"
    },
    "tags": []
   },
   "outputs": [
    {
     "data": {
      "text/html": [
       "<ul>\n",
       "\n",
       "<li>description: A gamma distribution function</li>\n",
       "\n",
       "<li>formula: $ f(x, \\alpha, \\beta)=\\frac{\\beta^\\alpha x^{\\alpha-1} e^{-\\beta x}}{\\Gamma(\\alpha)}$</li>\n",
       "\n",
       "<li>parameters: \n",
       "<ul>\n",
       "\n",
       "<li>alpha: \n",
       "<ul>\n",
       "\n",
       "<li>value: 0.5</li>\n",
       "\n",
       "<li>desc: first shape parameter</li>\n",
       "\n",
       "<li>min_value: 0.0</li>\n",
       "\n",
       "<li>max_value: None</li>\n",
       "\n",
       "<li>unit: </li>\n",
       "\n",
       "<li>is_normalization: False</li>\n",
       "\n",
       "<li>delta: 0.05</li>\n",
       "\n",
       "<li>free: True</li>\n",
       "\n",
       "</ul>\n",
       "\n",
       "</li>\n",
       "\n",
       "<li>beta: \n",
       "<ul>\n",
       "\n",
       "<li>value: 1.0</li>\n",
       "\n",
       "<li>desc: second shape parameter</li>\n",
       "\n",
       "<li>min_value: 0.0</li>\n",
       "\n",
       "<li>max_value: None</li>\n",
       "\n",
       "<li>unit: </li>\n",
       "\n",
       "<li>is_normalization: False</li>\n",
       "\n",
       "<li>delta: 0.1</li>\n",
       "\n",
       "<li>free: True</li>\n",
       "\n",
       "</ul>\n",
       "\n",
       "</li>\n",
       "\n",
       "</ul>\n",
       "\n",
       "</li>\n",
       "\n",
       "</ul>\n"
      ],
      "text/plain": [
       "  * description: A gamma distribution function\n",
       "  * formula: $ f(x, \\alpha, \\beta)=\\frac{\\beta^\\alpha x^{\\alpha-1} e^{-\\beta x}}{\\Gamma(\\alpha)}$\n",
       "  * parameters:\n",
       "    * alpha:\n",
       "      * value: 0.5\n",
       "      * desc: first shape parameter\n",
       "      * min_value: 0.0\n",
       "      * max_value: null\n",
       "      * unit: ''\n",
       "      * is_normalization: false\n",
       "      * delta: 0.05\n",
       "      * free: true\n",
       "    * beta:\n",
       "      * value: 1.0\n",
       "      * desc: second shape parameter\n",
       "      * min_value: 0.0\n",
       "      * max_value: null\n",
       "      * unit: ''\n",
       "      * is_normalization: false\n",
       "      * delta: 0.1\n",
       "      * free: true"
      ]
     },
     "metadata": {},
     "output_type": "display_data"
    }
   ],
   "source": [
    "func.display()"
   ]
  },
  {
   "cell_type": "markdown",
   "id": "2c24c90b",
   "metadata": {
    "papermill": {
     "duration": 0.001151,
     "end_time": "2025-02-01T01:04:13.410901",
     "exception": false,
     "start_time": "2025-02-01T01:04:13.409750",
     "status": "completed"
    },
    "tags": []
   },
   "source": [
    "## Shape \n",
    "\n",
    "The shape of the function. \n",
    "\n",
    "*If this is not a photon model but a prior or linear function then ignore the units as these docs are auto-generated*"
   ]
  },
  {
   "cell_type": "code",
   "execution_count": 6,
   "id": "132f5992",
   "metadata": {
    "execution": {
     "iopub.execute_input": "2025-02-01T01:04:13.414363Z",
     "iopub.status.busy": "2025-02-01T01:04:13.414208Z",
     "iopub.status.idle": "2025-02-01T01:04:13.508049Z",
     "shell.execute_reply": "2025-02-01T01:04:13.505490Z"
    },
    "papermill": {
     "duration": 0.099166,
     "end_time": "2025-02-01T01:04:13.511643",
     "exception": false,
     "start_time": "2025-02-01T01:04:13.412477",
     "status": "completed"
    },
    "tags": [
     "nbsphinx-thumbnail"
    ]
   },
   "outputs": [
    {
     "data": {
      "text/plain": [
       "Text(0, 0.5, 'probability')"
      ]
     },
     "execution_count": 6,
     "metadata": {},
     "output_type": "execute_result"
    },
    {
     "data": {
      "image/png": "[encoded data removed]",
      "text/plain": [
       "<Figure size 1040x910 with 1 Axes>"
      ]
     },
     "metadata": {},
     "output_type": "display_data"
    }
   ],
   "source": [
    "fig, ax = plt.subplots()\n",
    "\n",
    "\n",
    "ax.plot(energy_grid, func(energy_grid), color=blue, lw=3)\n",
    "\n",
    "ax.set_xlabel(\"x\")\n",
    "ax.set_ylabel(\"probability\")\n"
   ]
  },
  {
   "cell_type": "markdown",
   "id": "e0d8a957",
   "metadata": {
    "papermill": {
     "duration": 0.001544,
     "end_time": "2025-02-01T01:04:13.518410",
     "exception": false,
     "start_time": "2025-02-01T01:04:13.516866",
     "status": "completed"
    },
    "tags": []
   },
   "source": [
    "## Random Number Generation\n",
    "\n",
    "This is how we can generate random numbers from the prior.\n"
   ]
  },
  {
   "cell_type": "code",
   "execution_count": 7,
   "id": "cf8c1821",
   "metadata": {
    "execution": {
     "iopub.execute_input": "2025-02-01T01:04:13.522449Z",
     "iopub.status.busy": "2025-02-01T01:04:13.522148Z",
     "iopub.status.idle": "2025-02-01T01:04:13.869236Z",
     "shell.execute_reply": "2025-02-01T01:04:13.868271Z"
    },
    "papermill": {
     "duration": 0.351084,
     "end_time": "2025-02-01T01:04:13.870836",
     "exception": false,
     "start_time": "2025-02-01T01:04:13.519752",
     "status": "completed"
    },
    "tags": []
   },
   "outputs": [
    {
     "data": {
      "text/plain": [
       "Text(0, 0.5, 'N')"
      ]
     },
     "execution_count": 7,
     "metadata": {},
     "output_type": "execute_result"
    },
    {
     "data": {
      "image/png": "[encoded data removed]",
      "text/plain": [
       "<Figure size 1040x910 with 1 Axes>"
      ]
     },
     "metadata": {},
     "output_type": "display_data"
    }
   ],
   "source": [
    "\n",
    "\n",
    "u = np.random.uniform(0,1, size=5000)\n",
    "\n",
    "draws = [func.from_unit_cube(x) for x in u]\n",
    "\n",
    "\n",
    "fig, ax = plt.subplots()\n",
    "\n",
    "\n",
    "ax.hist(draws, color=green, bins=50)\n",
    "\n",
    "ax.set_xlabel(\"value\")\n",
    "ax.set_ylabel(\"N\")\n",
    "\n"
   ]
  }
 ],
 "metadata": {
  "jupytext": {
   "formats": "ipynb,md"
  },
  "kernelspec": {
   "display_name": "Python 3 (ipykernel)",
   "language": "python",
   "name": "python3"
  },
  "language_info": {
   "codemirror_mode": {
    "name": "ipython",
    "version": 3
   },
   "file_extension": ".py",
   "mimetype": "text/x-python",
   "name": "python",
   "nbconvert_exporter": "python",
   "pygments_lexer": "ipython3",
   "version": "3.9.13"
  },
  "papermill": {
   "default_parameters": {},
   "duration": 3.268711,
   "end_time": "2025-02-01T01:04:14.309646",
   "environment_variables": {},
   "exception": null,
   "input_path": "Gamma.ipynb",
   "output_path": "/Users/runner/work/astromodels/astromodels/docs/notebooks/Gamma.ipynb",
   "parameters": {
    "func_name": "Gamma",
    "positive_prior": true
   },
   "start_time": "2025-02-01T01:04:11.040935",
   "version": "2.6.0"
  }
 },
 "nbformat": 4,
 "nbformat_minor": 5
}
