{
 "cells": [
  {
   "cell_type": "markdown",
   "id": "54a18af5",
   "metadata": {
    "papermill": {
     "duration": 0.005579,
     "end_time": "2024-06-07T07:01:04.780270",
     "exception": false,
     "start_time": "2024-06-07T07:01:04.774691",
     "status": "completed"
    },
    "tags": []
   },
   "source": [
    "# Gamma"
   ]
  },
  {
   "cell_type": "code",
   "execution_count": 1,
   "id": "47609a3d",
   "metadata": {
    "execution": {
     "iopub.execute_input": "2024-06-07T07:01:04.792679Z",
     "iopub.status.busy": "2024-06-07T07:01:04.792070Z",
     "iopub.status.idle": "2024-06-07T07:01:06.650081Z",
     "shell.execute_reply": "2024-06-07T07:01:06.649401Z"
    },
    "nbsphinx": "hidden",
    "papermill": {
     "duration": 1.866464,
     "end_time": "2024-06-07T07:01:06.652003",
     "exception": false,
     "start_time": "2024-06-07T07:01:04.785539",
     "status": "completed"
    },
    "tags": []
   },
   "outputs": [],
   "source": [
    "%%capture\n",
    "\n",
    "import numpy as np\n",
    "\n",
    "import matplotlib.pyplot as plt\n",
    "\n",
    "import warnings\n",
    "warnings.simplefilter(\"ignore\")\n",
    "\n",
    "from astromodels.functions.function import _known_functions\n",
    "\n",
    "\n",
    "from jupyterthemes import jtplot\n",
    "jtplot.style(context=\"talk\", fscale=1, ticks=True, grid=False)\n",
    "%matplotlib inline"
   ]
  },
  {
   "cell_type": "code",
   "execution_count": 2,
   "id": "0ab580e2",
   "metadata": {
    "execution": {
     "iopub.execute_input": "2024-06-07T07:01:06.655710Z",
     "iopub.status.busy": "2024-06-07T07:01:06.655301Z",
     "iopub.status.idle": "2024-06-07T07:01:06.664294Z",
     "shell.execute_reply": "2024-06-07T07:01:06.663531Z"
    },
    "nbsphinx": "hidden",
    "papermill": {
     "duration": 0.012989,
     "end_time": "2024-06-07T07:01:06.666332",
     "exception": false,
     "start_time": "2024-06-07T07:01:06.653343",
     "status": "completed"
    },
    "tags": [
     "parameters"
    ]
   },
   "outputs": [],
   "source": [
    "func_name = \"TbAbs\"\n",
    "\n",
    "positive_prior = False\n"
   ]
  },
  {
   "cell_type": "code",
   "execution_count": 3,
   "id": "2af3651b",
   "metadata": {
    "execution": {
     "iopub.execute_input": "2024-06-07T07:01:06.670139Z",
     "iopub.status.busy": "2024-06-07T07:01:06.669902Z",
     "iopub.status.idle": "2024-06-07T07:01:06.679039Z",
     "shell.execute_reply": "2024-06-07T07:01:06.678277Z"
    },
    "papermill": {
     "duration": 0.013135,
     "end_time": "2024-06-07T07:01:06.680899",
     "exception": false,
     "start_time": "2024-06-07T07:01:06.667764",
     "status": "completed"
    },
    "tags": [
     "injected-parameters"
    ]
   },
   "outputs": [],
   "source": [
    "# Parameters\n",
    "func_name = \"Gamma\"\n",
    "positive_prior = True\n"
   ]
  },
  {
   "cell_type": "code",
   "execution_count": 4,
   "id": "ba1e4eb7",
   "metadata": {
    "execution": {
     "iopub.execute_input": "2024-06-07T07:01:06.684090Z",
     "iopub.status.busy": "2024-06-07T07:01:06.683904Z",
     "iopub.status.idle": "2024-06-07T07:01:06.687479Z",
     "shell.execute_reply": "2024-06-07T07:01:06.686747Z"
    },
    "lines_to_next_cell": 0,
    "nbsphinx": "hidden",
    "papermill": {
     "duration": 0.007252,
     "end_time": "2024-06-07T07:01:06.689385",
     "exception": false,
     "start_time": "2024-06-07T07:01:06.682133",
     "status": "completed"
    },
    "tags": []
   },
   "outputs": [],
   "source": [
    "func = _known_functions[func_name]()\n",
    "\n",
    "if not positive_prior:\n",
    "\n",
    "\tenergy_grid = np.linspace(-5,5,1000)\n",
    "\n",
    "else:\n",
    "    \n",
    "    energy_grid = np.linspace(0,1,1000)\n",
    "    \n",
    "    \n",
    "    \n",
    "    \n",
    "blue = \"#4152E3\"\n",
    "red = \"#E3414B\"\n",
    "green = \"#41E39E\""
   ]
  },
  {
   "cell_type": "markdown",
   "id": "eb8df808",
   "metadata": {
    "lines_to_next_cell": 0,
    "papermill": {
     "duration": 0.001074,
     "end_time": "2024-06-07T07:01:06.691690",
     "exception": false,
     "start_time": "2024-06-07T07:01:06.690616",
     "status": "completed"
    },
    "tags": []
   },
   "source": [
    "## Description"
   ]
  },
  {
   "cell_type": "code",
   "execution_count": 5,
   "id": "fde2b863",
   "metadata": {
    "execution": {
     "iopub.execute_input": "2024-06-07T07:01:06.694984Z",
     "iopub.status.busy": "2024-06-07T07:01:06.694757Z",
     "iopub.status.idle": "2024-06-07T07:01:06.699941Z",
     "shell.execute_reply": "2024-06-07T07:01:06.699367Z"
    },
    "papermill": {
     "duration": 0.010331,
     "end_time": "2024-06-07T07:01:06.703042",
     "exception": false,
     "start_time": "2024-06-07T07:01:06.692711",
     "status": "completed"
    },
    "tags": []
   },
   "outputs": [
    {
     "data": {
      "text/html": [
       "<ul>\n",
       "\n",
       "<li>description: A gamma distribution function</li>\n",
       "\n",
       "<li>formula: $ f(x, \\alpha, \\beta)=\\frac{\\beta^\\alpha x^{\\alpha-1} e^{-\\beta x}}{\\Gamma(\\alpha)}$</li>\n",
       "\n",
       "<li>parameters: \n",
       "<ul>\n",
       "\n",
       "<li>alpha: \n",
       "<ul>\n",
       "\n",
       "<li>value: 0.5</li>\n",
       "\n",
       "<li>desc: first shape parameter</li>\n",
       "\n",
       "<li>min_value: 0.0</li>\n",
       "\n",
       "<li>max_value: None</li>\n",
       "\n",
       "<li>unit: </li>\n",
       "\n",
       "<li>is_normalization: False</li>\n",
       "\n",
       "<li>delta: 0.05</li>\n",
       "\n",
       "<li>free: True</li>\n",
       "\n",
       "</ul>\n",
       "\n",
       "</li>\n",
       "\n",
       "<li>beta: \n",
       "<ul>\n",
       "\n",
       "<li>value: 1.0</li>\n",
       "\n",
       "<li>desc: second shape parameter</li>\n",
       "\n",
       "<li>min_value: 0.0</li>\n",
       "\n",
       "<li>max_value: None</li>\n",
       "\n",
       "<li>unit: </li>\n",
       "\n",
       "<li>is_normalization: False</li>\n",
       "\n",
       "<li>delta: 0.1</li>\n",
       "\n",
       "<li>free: True</li>\n",
       "\n",
       "</ul>\n",
       "\n",
       "</li>\n",
       "\n",
       "</ul>\n",
       "\n",
       "</li>\n",
       "\n",
       "</ul>\n"
      ],
      "text/plain": [
       "  * description: A gamma distribution function\n",
       "  * formula: $ f(x, \\alpha, \\beta)=\\frac{\\beta^\\alpha x^{\\alpha-1} e^{-\\beta x}}{\\Gamma(\\alpha)}$\n",
       "  * parameters:\n",
       "    * alpha:\n",
       "      * value: 0.5\n",
       "      * desc: first shape parameter\n",
       "      * min_value: 0.0\n",
       "      * max_value: null\n",
       "      * unit: ''\n",
       "      * is_normalization: false\n",
       "      * delta: 0.05\n",
       "      * free: true\n",
       "    * beta:\n",
       "      * value: 1.0\n",
       "      * desc: second shape parameter\n",
       "      * min_value: 0.0\n",
       "      * max_value: null\n",
       "      * unit: ''\n",
       "      * is_normalization: false\n",
       "      * delta: 0.1\n",
       "      * free: true"
      ]
     },
     "metadata": {},
     "output_type": "display_data"
    }
   ],
   "source": [
    "func.display()"
   ]
  },
  {
   "cell_type": "markdown",
   "id": "eb3545d9",
   "metadata": {
    "papermill": {
     "duration": 0.001289,
     "end_time": "2024-06-07T07:01:06.705777",
     "exception": false,
     "start_time": "2024-06-07T07:01:06.704488",
     "status": "completed"
    },
    "tags": []
   },
   "source": [
    "## Shape \n",
    "\n",
    "The shape of the function. \n",
    "\n",
    "*If this is not a photon model but a prior or linear function then ignore the units as these docs are auto-generated*"
   ]
  },
  {
   "cell_type": "code",
   "execution_count": 6,
   "id": "29555cf6",
   "metadata": {
    "execution": {
     "iopub.execute_input": "2024-06-07T07:01:06.709743Z",
     "iopub.status.busy": "2024-06-07T07:01:06.709557Z",
     "iopub.status.idle": "2024-06-07T07:01:06.849178Z",
     "shell.execute_reply": "2024-06-07T07:01:06.848036Z"
    },
    "papermill": {
     "duration": 0.146204,
     "end_time": "2024-06-07T07:01:06.853669",
     "exception": false,
     "start_time": "2024-06-07T07:01:06.707465",
     "status": "completed"
    },
    "tags": [
     "nbsphinx-thumbnail"
    ]
   },
   "outputs": [
    {
     "data": {
      "text/plain": [
       "Text(0, 0.5, 'probability')"
      ]
     },
     "execution_count": 6,
     "metadata": {},
     "output_type": "execute_result"
    },
    {
     "data": {
      "image/png": "[encoded data removed]",
      "text/plain": [
       "<Figure size 1040x910 with 1 Axes>"
      ]
     },
     "metadata": {},
     "output_type": "display_data"
    }
   ],
   "source": [
    "fig, ax = plt.subplots()\n",
    "\n",
    "\n",
    "ax.plot(energy_grid, func(energy_grid), color=blue, lw=3)\n",
    "\n",
    "ax.set_xlabel(\"x\")\n",
    "ax.set_ylabel(\"probability\")\n"
   ]
  },
  {
   "cell_type": "markdown",
   "id": "bb904610",
   "metadata": {
    "papermill": {
     "duration": 0.002619,
     "end_time": "2024-06-07T07:01:06.862192",
     "exception": false,
     "start_time": "2024-06-07T07:01:06.859573",
     "status": "completed"
    },
    "tags": []
   },
   "source": [
    "## Random Number Generation\n",
    "\n",
    "This is how we can generate random numbers from the prior.\n"
   ]
  },
  {
   "cell_type": "code",
   "execution_count": 7,
   "id": "54afb8dc",
   "metadata": {
    "execution": {
     "iopub.execute_input": "2024-06-07T07:01:06.867232Z",
     "iopub.status.busy": "2024-06-07T07:01:06.866798Z",
     "iopub.status.idle": "2024-06-07T07:01:07.292130Z",
     "shell.execute_reply": "2024-06-07T07:01:07.291743Z"
    },
    "papermill": {
     "duration": 0.430086,
     "end_time": "2024-06-07T07:01:07.293832",
     "exception": false,
     "start_time": "2024-06-07T07:01:06.863746",
     "status": "completed"
    },
    "tags": []
   },
   "outputs": [
    {
     "data": {
      "text/plain": [
       "Text(0, 0.5, 'N')"
      ]
     },
     "execution_count": 7,
     "metadata": {},
     "output_type": "execute_result"
    },
    {
     "data": {
      "image/png": "[encoded data removed]",
      "text/plain": [
       "<Figure size 1040x910 with 1 Axes>"
      ]
     },
     "metadata": {},
     "output_type": "display_data"
    }
   ],
   "source": [
    "\n",
    "\n",
    "u = np.random.uniform(0,1, size=5000)\n",
    "\n",
    "draws = [func.from_unit_cube(x) for x in u]\n",
    "\n",
    "\n",
    "fig, ax = plt.subplots()\n",
    "\n",
    "\n",
    "ax.hist(draws, color=green, bins=50)\n",
    "\n",
    "ax.set_xlabel(\"value\")\n",
    "ax.set_ylabel(\"N\")\n",
    "\n"
   ]
  }
 ],
 "metadata": {
  "jupytext": {
   "formats": "ipynb,md"
  },
  "kernelspec": {
   "display_name": "Python 3 (ipykernel)",
   "language": "python",
   "name": "python3"
  },
  "language_info": {
   "codemirror_mode": {
    "name": "ipython",
    "version": 3
   },
   "file_extension": ".py",
   "mimetype": "text/x-python",
   "name": "python",
   "nbconvert_exporter": "python",
   "pygments_lexer": "ipython3",
   "version": "3.9.13"
  },
  "papermill": {
   "default_parameters": {},
   "duration": 3.806997,
   "end_time": "2024-06-07T07:01:07.840953",
   "environment_variables": {},
   "exception": null,
   "input_path": "Gamma.ipynb",
   "output_path": "/Users/runner/work/astromodels/astromodels/docs/notebooks/Gamma.ipynb",
   "parameters": {
    "func_name": "Gamma",
    "positive_prior": true
   },
   "start_time": "2024-06-07T07:01:04.033956",
   "version": "2.6.0"
  }
 },
 "nbformat": 4,
 "nbformat_minor": 5
}
