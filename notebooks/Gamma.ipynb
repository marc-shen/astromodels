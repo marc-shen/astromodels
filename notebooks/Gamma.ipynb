{
 "cells": [
  {
   "cell_type": "markdown",
   "id": "ad82e122",
   "metadata": {
    "papermill": {
     "duration": 0.003746,
     "end_time": "2024-02-07T19:37:20.564981",
     "exception": false,
     "start_time": "2024-02-07T19:37:20.561235",
     "status": "completed"
    },
    "tags": []
   },
   "source": [
    "# Gamma"
   ]
  },
  {
   "cell_type": "code",
   "execution_count": 1,
   "id": "b2959f46",
   "metadata": {
    "execution": {
     "iopub.execute_input": "2024-02-07T19:37:20.573356Z",
     "iopub.status.busy": "2024-02-07T19:37:20.572785Z",
     "iopub.status.idle": "2024-02-07T19:37:23.671846Z",
     "shell.execute_reply": "2024-02-07T19:37:23.670174Z"
    },
    "nbsphinx": "hidden",
    "papermill": {
     "duration": 3.10833,
     "end_time": "2024-02-07T19:37:23.676283",
     "exception": false,
     "start_time": "2024-02-07T19:37:20.567953",
     "status": "completed"
    },
    "tags": []
   },
   "outputs": [],
   "source": [
    "%%capture\n",
    "\n",
    "import numpy as np\n",
    "\n",
    "import matplotlib.pyplot as plt\n",
    "\n",
    "import warnings\n",
    "warnings.simplefilter(\"ignore\")\n",
    "\n",
    "from astromodels.functions.function import _known_functions\n",
    "\n",
    "\n",
    "from jupyterthemes import jtplot\n",
    "jtplot.style(context=\"talk\", fscale=1, ticks=True, grid=False)\n",
    "%matplotlib inline"
   ]
  },
  {
   "cell_type": "code",
   "execution_count": 2,
   "id": "3d32b57f",
   "metadata": {
    "execution": {
     "iopub.execute_input": "2024-02-07T19:37:23.683665Z",
     "iopub.status.busy": "2024-02-07T19:37:23.683239Z",
     "iopub.status.idle": "2024-02-07T19:37:23.690718Z",
     "shell.execute_reply": "2024-02-07T19:37:23.689256Z"
    },
    "nbsphinx": "hidden",
    "papermill": {
     "duration": 0.016394,
     "end_time": "2024-02-07T19:37:23.695318",
     "exception": false,
     "start_time": "2024-02-07T19:37:23.678924",
     "status": "completed"
    },
    "tags": [
     "parameters"
    ]
   },
   "outputs": [],
   "source": [
    "func_name = \"TbAbs\"\n",
    "\n",
    "positive_prior = False\n"
   ]
  },
  {
   "cell_type": "code",
   "execution_count": 3,
   "id": "ffec6cb9",
   "metadata": {
    "execution": {
     "iopub.execute_input": "2024-02-07T19:37:23.703631Z",
     "iopub.status.busy": "2024-02-07T19:37:23.702475Z",
     "iopub.status.idle": "2024-02-07T19:37:23.713459Z",
     "shell.execute_reply": "2024-02-07T19:37:23.710717Z"
    },
    "papermill": {
     "duration": 0.019718,
     "end_time": "2024-02-07T19:37:23.717984",
     "exception": false,
     "start_time": "2024-02-07T19:37:23.698266",
     "status": "completed"
    },
    "tags": [
     "injected-parameters"
    ]
   },
   "outputs": [],
   "source": [
    "# Parameters\n",
    "func_name = \"Gamma\"\n",
    "positive_prior = True\n"
   ]
  },
  {
   "cell_type": "code",
   "execution_count": 4,
   "id": "8ec8c5e6",
   "metadata": {
    "execution": {
     "iopub.execute_input": "2024-02-07T19:37:23.725637Z",
     "iopub.status.busy": "2024-02-07T19:37:23.725198Z",
     "iopub.status.idle": "2024-02-07T19:37:23.734766Z",
     "shell.execute_reply": "2024-02-07T19:37:23.733378Z"
    },
    "lines_to_next_cell": 0,
    "nbsphinx": "hidden",
    "papermill": {
     "duration": 0.018885,
     "end_time": "2024-02-07T19:37:23.739612",
     "exception": false,
     "start_time": "2024-02-07T19:37:23.720727",
     "status": "completed"
    },
    "tags": []
   },
   "outputs": [],
   "source": [
    "func = _known_functions[func_name]()\n",
    "\n",
    "if not positive_prior:\n",
    "\n",
    "\tenergy_grid = np.linspace(-5,5,1000)\n",
    "\n",
    "else:\n",
    "    \n",
    "    energy_grid = np.linspace(0,1,1000)\n",
    "    \n",
    "    \n",
    "    \n",
    "    \n",
    "blue = \"#4152E3\"\n",
    "red = \"#E3414B\"\n",
    "green = \"#41E39E\""
   ]
  },
  {
   "cell_type": "markdown",
   "id": "48692e60",
   "metadata": {
    "lines_to_next_cell": 0,
    "papermill": {
     "duration": 0.002865,
     "end_time": "2024-02-07T19:37:23.745314",
     "exception": false,
     "start_time": "2024-02-07T19:37:23.742449",
     "status": "completed"
    },
    "tags": []
   },
   "source": [
    "## Description"
   ]
  },
  {
   "cell_type": "code",
   "execution_count": 5,
   "id": "41affde9",
   "metadata": {
    "execution": {
     "iopub.execute_input": "2024-02-07T19:37:23.752958Z",
     "iopub.status.busy": "2024-02-07T19:37:23.752545Z",
     "iopub.status.idle": "2024-02-07T19:37:23.768810Z",
     "shell.execute_reply": "2024-02-07T19:37:23.767199Z"
    },
    "papermill": {
     "duration": 0.025498,
     "end_time": "2024-02-07T19:37:23.773506",
     "exception": false,
     "start_time": "2024-02-07T19:37:23.748008",
     "status": "completed"
    },
    "tags": []
   },
   "outputs": [
    {
     "data": {
      "text/html": [
       "<ul>\n",
       "\n",
       "<li>description: A gamma distribution function</li>\n",
       "\n",
       "<li>formula: $ f(x, \\alpha, \\beta)=\\frac{\\beta^\\alpha x^{\\alpha-1} e^{-\\beta x}}{\\Gamma(\\alpha)}$</li>\n",
       "\n",
       "<li>parameters: \n",
       "<ul>\n",
       "\n",
       "<li>alpha: \n",
       "<ul>\n",
       "\n",
       "<li>value: 0.5</li>\n",
       "\n",
       "<li>desc: first shape parameter</li>\n",
       "\n",
       "<li>min_value: 0.0</li>\n",
       "\n",
       "<li>max_value: None</li>\n",
       "\n",
       "<li>unit: </li>\n",
       "\n",
       "<li>is_normalization: False</li>\n",
       "\n",
       "<li>delta: 0.05</li>\n",
       "\n",
       "<li>free: True</li>\n",
       "\n",
       "</ul>\n",
       "\n",
       "</li>\n",
       "\n",
       "<li>beta: \n",
       "<ul>\n",
       "\n",
       "<li>value: 1.0</li>\n",
       "\n",
       "<li>desc: second shape parameter</li>\n",
       "\n",
       "<li>min_value: 0.0</li>\n",
       "\n",
       "<li>max_value: None</li>\n",
       "\n",
       "<li>unit: </li>\n",
       "\n",
       "<li>is_normalization: False</li>\n",
       "\n",
       "<li>delta: 0.1</li>\n",
       "\n",
       "<li>free: True</li>\n",
       "\n",
       "</ul>\n",
       "\n",
       "</li>\n",
       "\n",
       "</ul>\n",
       "\n",
       "</li>\n",
       "\n",
       "</ul>\n"
      ],
      "text/plain": [
       "  * description: A gamma distribution function\n",
       "  * formula: $ f(x, \\alpha, \\beta)=\\frac{\\beta^\\alpha x^{\\alpha-1} e^{-\\beta x}}{\\Gamma(\\alpha)}$\n",
       "  * parameters:\n",
       "    * alpha:\n",
       "      * value: 0.5\n",
       "      * desc: first shape parameter\n",
       "      * min_value: 0.0\n",
       "      * max_value: null\n",
       "      * unit: ''\n",
       "      * is_normalization: false\n",
       "      * delta: 0.05\n",
       "      * free: true\n",
       "    * beta:\n",
       "      * value: 1.0\n",
       "      * desc: second shape parameter\n",
       "      * min_value: 0.0\n",
       "      * max_value: null\n",
       "      * unit: ''\n",
       "      * is_normalization: false\n",
       "      * delta: 0.1\n",
       "      * free: true"
      ]
     },
     "metadata": {},
     "output_type": "display_data"
    }
   ],
   "source": [
    "func.display()"
   ]
  },
  {
   "cell_type": "markdown",
   "id": "4a3f4180",
   "metadata": {
    "papermill": {
     "duration": 0.003148,
     "end_time": "2024-02-07T19:37:23.780484",
     "exception": false,
     "start_time": "2024-02-07T19:37:23.777336",
     "status": "completed"
    },
    "tags": []
   },
   "source": [
    "## Shape \n",
    "\n",
    "The shape of the function. \n",
    "\n",
    "*If this is not a photon model but a prior or linear function then ignore the units as these docs are auto-generated*"
   ]
  },
  {
   "cell_type": "code",
   "execution_count": 6,
   "id": "14d2e1ad",
   "metadata": {
    "execution": {
     "iopub.execute_input": "2024-02-07T19:37:23.789305Z",
     "iopub.status.busy": "2024-02-07T19:37:23.788818Z",
     "iopub.status.idle": "2024-02-07T19:37:24.024681Z",
     "shell.execute_reply": "2024-02-07T19:37:24.022903Z"
    },
    "papermill": {
     "duration": 0.246201,
     "end_time": "2024-02-07T19:37:24.030092",
     "exception": false,
     "start_time": "2024-02-07T19:37:23.783891",
     "status": "completed"
    },
    "tags": [
     "nbsphinx-thumbnail"
    ]
   },
   "outputs": [
    {
     "data": {
      "text/plain": [
       "Text(0, 0.5, 'probability')"
      ]
     },
     "execution_count": 6,
     "metadata": {},
     "output_type": "execute_result"
    },
    {
     "data": {
      "image/png": "[encoded data removed]",
      "text/plain": [
       "<Figure size 1040x910 with 1 Axes>"
      ]
     },
     "metadata": {},
     "output_type": "display_data"
    }
   ],
   "source": [
    "fig, ax = plt.subplots()\n",
    "\n",
    "\n",
    "ax.plot(energy_grid, func(energy_grid), color=blue, lw=3)\n",
    "\n",
    "ax.set_xlabel(\"x\")\n",
    "ax.set_ylabel(\"probability\")\n"
   ]
  },
  {
   "cell_type": "markdown",
   "id": "c697b645",
   "metadata": {
    "papermill": {
     "duration": 0.003717,
     "end_time": "2024-02-07T19:37:24.038321",
     "exception": false,
     "start_time": "2024-02-07T19:37:24.034604",
     "status": "completed"
    },
    "tags": []
   },
   "source": [
    "## Random Number Generation\n",
    "\n",
    "This is how we can generate random numbers from the prior.\n"
   ]
  },
  {
   "cell_type": "code",
   "execution_count": 7,
   "id": "f40ed07a",
   "metadata": {
    "execution": {
     "iopub.execute_input": "2024-02-07T19:37:24.048134Z",
     "iopub.status.busy": "2024-02-07T19:37:24.047600Z",
     "iopub.status.idle": "2024-02-07T19:37:25.355738Z",
     "shell.execute_reply": "2024-02-07T19:37:25.354094Z"
    },
    "papermill": {
     "duration": 1.318816,
     "end_time": "2024-02-07T19:37:25.360896",
     "exception": false,
     "start_time": "2024-02-07T19:37:24.042080",
     "status": "completed"
    },
    "tags": []
   },
   "outputs": [
    {
     "data": {
      "text/plain": [
       "Text(0, 0.5, 'N')"
      ]
     },
     "execution_count": 7,
     "metadata": {},
     "output_type": "execute_result"
    },
    {
     "data": {
      "image/png": "[encoded data removed]",
      "text/plain": [
       "<Figure size 1040x910 with 1 Axes>"
      ]
     },
     "metadata": {},
     "output_type": "display_data"
    }
   ],
   "source": [
    "\n",
    "\n",
    "u = np.random.uniform(0,1, size=5000)\n",
    "\n",
    "draws = [func.from_unit_cube(x) for x in u]\n",
    "\n",
    "\n",
    "fig, ax = plt.subplots()\n",
    "\n",
    "\n",
    "ax.hist(draws, color=green, bins=50)\n",
    "\n",
    "ax.set_xlabel(\"value\")\n",
    "ax.set_ylabel(\"N\")\n",
    "\n"
   ]
  }
 ],
 "metadata": {
  "jupytext": {
   "formats": "ipynb,md"
  },
  "kernelspec": {
   "display_name": "Python 3 (ipykernel)",
   "language": "python",
   "name": "python3"
  },
  "language_info": {
   "codemirror_mode": {
    "name": "ipython",
    "version": 3
   },
   "file_extension": ".py",
   "mimetype": "text/x-python",
   "name": "python",
   "nbconvert_exporter": "python",
   "pygments_lexer": "ipython3",
   "version": "3.9.18"
  },
  "papermill": {
   "default_parameters": {},
   "duration": 6.457314,
   "end_time": "2024-02-07T19:37:26.000952",
   "environment_variables": {},
   "exception": null,
   "input_path": "Gamma.ipynb",
   "output_path": "/Users/runner/work/astromodels/astromodels/docs/notebooks/Gamma.ipynb",
   "parameters": {
    "func_name": "Gamma",
    "positive_prior": true
   },
   "start_time": "2024-02-07T19:37:19.543638",
   "version": "2.5.0"
  }
 },
 "nbformat": 4,
 "nbformat_minor": 5
}
