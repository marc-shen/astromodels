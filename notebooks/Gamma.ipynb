{
 "cells": [
  {
   "cell_type": "markdown",
   "id": "e854e113",
   "metadata": {
    "papermill": {
     "duration": 0.010798,
     "end_time": "2024-09-10T15:24:03.427376",
     "exception": false,
     "start_time": "2024-09-10T15:24:03.416578",
     "status": "completed"
    },
    "tags": []
   },
   "source": [
    "# Gamma"
   ]
  },
  {
   "cell_type": "code",
   "execution_count": 1,
   "id": "de6cf10a",
   "metadata": {
    "execution": {
     "iopub.execute_input": "2024-09-10T15:24:03.442180Z",
     "iopub.status.busy": "2024-09-10T15:24:03.441478Z",
     "iopub.status.idle": "2024-09-10T15:24:04.850770Z",
     "shell.execute_reply": "2024-09-10T15:24:04.850305Z"
    },
    "nbsphinx": "hidden",
    "papermill": {
     "duration": 1.41787,
     "end_time": "2024-09-10T15:24:04.852267",
     "exception": false,
     "start_time": "2024-09-10T15:24:03.434397",
     "status": "completed"
    },
    "tags": []
   },
   "outputs": [],
   "source": [
    "%%capture\n",
    "\n",
    "import numpy as np\n",
    "\n",
    "import matplotlib.pyplot as plt\n",
    "\n",
    "import warnings\n",
    "warnings.simplefilter(\"ignore\")\n",
    "\n",
    "from astromodels.functions.function import _known_functions\n",
    "\n",
    "\n",
    "from jupyterthemes import jtplot\n",
    "jtplot.style(context=\"talk\", fscale=1, ticks=True, grid=False)\n",
    "%matplotlib inline"
   ]
  },
  {
   "cell_type": "code",
   "execution_count": 2,
   "id": "6a024329",
   "metadata": {
    "execution": {
     "iopub.execute_input": "2024-09-10T15:24:04.855445Z",
     "iopub.status.busy": "2024-09-10T15:24:04.855110Z",
     "iopub.status.idle": "2024-09-10T15:24:04.863484Z",
     "shell.execute_reply": "2024-09-10T15:24:04.863019Z"
    },
    "nbsphinx": "hidden",
    "papermill": {
     "duration": 0.011269,
     "end_time": "2024-09-10T15:24:04.864738",
     "exception": false,
     "start_time": "2024-09-10T15:24:04.853469",
     "status": "completed"
    },
    "tags": [
     "parameters"
    ]
   },
   "outputs": [],
   "source": [
    "func_name = \"TbAbs\"\n",
    "\n",
    "positive_prior = False\n"
   ]
  },
  {
   "cell_type": "code",
   "execution_count": 3,
   "id": "7cfadc7a",
   "metadata": {
    "execution": {
     "iopub.execute_input": "2024-09-10T15:24:04.867369Z",
     "iopub.status.busy": "2024-09-10T15:24:04.867221Z",
     "iopub.status.idle": "2024-09-10T15:24:04.869085Z",
     "shell.execute_reply": "2024-09-10T15:24:04.868713Z"
    },
    "papermill": {
     "duration": 0.004599,
     "end_time": "2024-09-10T15:24:04.870313",
     "exception": false,
     "start_time": "2024-09-10T15:24:04.865714",
     "status": "completed"
    },
    "tags": [
     "injected-parameters"
    ]
   },
   "outputs": [],
   "source": [
    "# Parameters\n",
    "func_name = \"Gamma\"\n",
    "positive_prior = True\n"
   ]
  },
  {
   "cell_type": "code",
   "execution_count": 4,
   "id": "bd32e927",
   "metadata": {
    "execution": {
     "iopub.execute_input": "2024-09-10T15:24:04.872897Z",
     "iopub.status.busy": "2024-09-10T15:24:04.872755Z",
     "iopub.status.idle": "2024-09-10T15:24:04.879190Z",
     "shell.execute_reply": "2024-09-10T15:24:04.878810Z"
    },
    "lines_to_next_cell": 0,
    "nbsphinx": "hidden",
    "papermill": {
     "duration": 0.009091,
     "end_time": "2024-09-10T15:24:04.880412",
     "exception": false,
     "start_time": "2024-09-10T15:24:04.871321",
     "status": "completed"
    },
    "tags": []
   },
   "outputs": [],
   "source": [
    "func = _known_functions[func_name]()\n",
    "\n",
    "if not positive_prior:\n",
    "\n",
    "\tenergy_grid = np.linspace(-5,5,1000)\n",
    "\n",
    "else:\n",
    "    \n",
    "    energy_grid = np.linspace(0,1,1000)\n",
    "    \n",
    "    \n",
    "    \n",
    "    \n",
    "blue = \"#4152E3\"\n",
    "red = \"#E3414B\"\n",
    "green = \"#41E39E\""
   ]
  },
  {
   "cell_type": "markdown",
   "id": "9dda9900",
   "metadata": {
    "lines_to_next_cell": 0,
    "papermill": {
     "duration": 0.00098,
     "end_time": "2024-09-10T15:24:04.882407",
     "exception": false,
     "start_time": "2024-09-10T15:24:04.881427",
     "status": "completed"
    },
    "tags": []
   },
   "source": [
    "## Description"
   ]
  },
  {
   "cell_type": "code",
   "execution_count": 5,
   "id": "5e6f7fee",
   "metadata": {
    "execution": {
     "iopub.execute_input": "2024-09-10T15:24:04.884886Z",
     "iopub.status.busy": "2024-09-10T15:24:04.884746Z",
     "iopub.status.idle": "2024-09-10T15:24:04.894579Z",
     "shell.execute_reply": "2024-09-10T15:24:04.894141Z"
    },
    "papermill": {
     "duration": 0.012457,
     "end_time": "2024-09-10T15:24:04.895789",
     "exception": false,
     "start_time": "2024-09-10T15:24:04.883332",
     "status": "completed"
    },
    "tags": []
   },
   "outputs": [
    {
     "data": {
      "text/html": [
       "<ul>\n",
       "\n",
       "<li>description: A gamma distribution function</li>\n",
       "\n",
       "<li>formula: $ f(x, \\alpha, \\beta)=\\frac{\\beta^\\alpha x^{\\alpha-1} e^{-\\beta x}}{\\Gamma(\\alpha)}$</li>\n",
       "\n",
       "<li>parameters: \n",
       "<ul>\n",
       "\n",
       "<li>alpha: \n",
       "<ul>\n",
       "\n",
       "<li>value: 0.5</li>\n",
       "\n",
       "<li>desc: first shape parameter</li>\n",
       "\n",
       "<li>min_value: 0.0</li>\n",
       "\n",
       "<li>max_value: None</li>\n",
       "\n",
       "<li>unit: </li>\n",
       "\n",
       "<li>is_normalization: False</li>\n",
       "\n",
       "<li>delta: 0.05</li>\n",
       "\n",
       "<li>free: True</li>\n",
       "\n",
       "</ul>\n",
       "\n",
       "</li>\n",
       "\n",
       "<li>beta: \n",
       "<ul>\n",
       "\n",
       "<li>value: 1.0</li>\n",
       "\n",
       "<li>desc: second shape parameter</li>\n",
       "\n",
       "<li>min_value: 0.0</li>\n",
       "\n",
       "<li>max_value: None</li>\n",
       "\n",
       "<li>unit: </li>\n",
       "\n",
       "<li>is_normalization: False</li>\n",
       "\n",
       "<li>delta: 0.1</li>\n",
       "\n",
       "<li>free: True</li>\n",
       "\n",
       "</ul>\n",
       "\n",
       "</li>\n",
       "\n",
       "</ul>\n",
       "\n",
       "</li>\n",
       "\n",
       "</ul>\n"
      ],
      "text/plain": [
       "  * description: A gamma distribution function\n",
       "  * formula: $ f(x, \\alpha, \\beta)=\\frac{\\beta^\\alpha x^{\\alpha-1} e^{-\\beta x}}{\\Gamma(\\alpha)}$\n",
       "  * parameters:\n",
       "    * alpha:\n",
       "      * value: 0.5\n",
       "      * desc: first shape parameter\n",
       "      * min_value: 0.0\n",
       "      * max_value: null\n",
       "      * unit: ''\n",
       "      * is_normalization: false\n",
       "      * delta: 0.05\n",
       "      * free: true\n",
       "    * beta:\n",
       "      * value: 1.0\n",
       "      * desc: second shape parameter\n",
       "      * min_value: 0.0\n",
       "      * max_value: null\n",
       "      * unit: ''\n",
       "      * is_normalization: false\n",
       "      * delta: 0.1\n",
       "      * free: true"
      ]
     },
     "metadata": {},
     "output_type": "display_data"
    }
   ],
   "source": [
    "func.display()"
   ]
  },
  {
   "cell_type": "markdown",
   "id": "091c1848",
   "metadata": {
    "papermill": {
     "duration": 0.001066,
     "end_time": "2024-09-10T15:24:04.897982",
     "exception": false,
     "start_time": "2024-09-10T15:24:04.896916",
     "status": "completed"
    },
    "tags": []
   },
   "source": [
    "## Shape \n",
    "\n",
    "The shape of the function. \n",
    "\n",
    "*If this is not a photon model but a prior or linear function then ignore the units as these docs are auto-generated*"
   ]
  },
  {
   "cell_type": "code",
   "execution_count": 6,
   "id": "2c34ba07",
   "metadata": {
    "execution": {
     "iopub.execute_input": "2024-09-10T15:24:04.900725Z",
     "iopub.status.busy": "2024-09-10T15:24:04.900580Z",
     "iopub.status.idle": "2024-09-10T15:24:04.999018Z",
     "shell.execute_reply": "2024-09-10T15:24:04.998665Z"
    },
    "papermill": {
     "duration": 0.10146,
     "end_time": "2024-09-10T15:24:05.000465",
     "exception": false,
     "start_time": "2024-09-10T15:24:04.899005",
     "status": "completed"
    },
    "tags": [
     "nbsphinx-thumbnail"
    ]
   },
   "outputs": [
    {
     "data": {
      "text/plain": [
       "Text(0, 0.5, 'probability')"
      ]
     },
     "execution_count": 6,
     "metadata": {},
     "output_type": "execute_result"
    },
    {
     "data": {
      "image/png": "[encoded data removed]",
      "text/plain": [
       "<Figure size 1040x910 with 1 Axes>"
      ]
     },
     "metadata": {},
     "output_type": "display_data"
    }
   ],
   "source": [
    "fig, ax = plt.subplots()\n",
    "\n",
    "\n",
    "ax.plot(energy_grid, func(energy_grid), color=blue, lw=3)\n",
    "\n",
    "ax.set_xlabel(\"x\")\n",
    "ax.set_ylabel(\"probability\")\n"
   ]
  },
  {
   "cell_type": "markdown",
   "id": "7ee67220",
   "metadata": {
    "papermill": {
     "duration": 0.001457,
     "end_time": "2024-09-10T15:24:05.003525",
     "exception": false,
     "start_time": "2024-09-10T15:24:05.002068",
     "status": "completed"
    },
    "tags": []
   },
   "source": [
    "## Random Number Generation\n",
    "\n",
    "This is how we can generate random numbers from the prior.\n"
   ]
  },
  {
   "cell_type": "code",
   "execution_count": 7,
   "id": "c8b4bfc5",
   "metadata": {
    "execution": {
     "iopub.execute_input": "2024-09-10T15:24:05.006908Z",
     "iopub.status.busy": "2024-09-10T15:24:05.006752Z",
     "iopub.status.idle": "2024-09-10T15:24:05.379475Z",
     "shell.execute_reply": "2024-09-10T15:24:05.378743Z"
    },
    "papermill": {
     "duration": 0.376057,
     "end_time": "2024-09-10T15:24:05.380870",
     "exception": false,
     "start_time": "2024-09-10T15:24:05.004813",
     "status": "completed"
    },
    "tags": []
   },
   "outputs": [
    {
     "data": {
      "text/plain": [
       "Text(0, 0.5, 'N')"
      ]
     },
     "execution_count": 7,
     "metadata": {},
     "output_type": "execute_result"
    },
    {
     "data": {
      "image/png": "[encoded data removed]",
      "text/plain": [
       "<Figure size 1040x910 with 1 Axes>"
      ]
     },
     "metadata": {},
     "output_type": "display_data"
    }
   ],
   "source": [
    "\n",
    "\n",
    "u = np.random.uniform(0,1, size=5000)\n",
    "\n",
    "draws = [func.from_unit_cube(x) for x in u]\n",
    "\n",
    "\n",
    "fig, ax = plt.subplots()\n",
    "\n",
    "\n",
    "ax.hist(draws, color=green, bins=50)\n",
    "\n",
    "ax.set_xlabel(\"value\")\n",
    "ax.set_ylabel(\"N\")\n",
    "\n"
   ]
  }
 ],
 "metadata": {
  "jupytext": {
   "formats": "ipynb,md"
  },
  "kernelspec": {
   "display_name": "Python 3 (ipykernel)",
   "language": "python",
   "name": "python3"
  },
  "language_info": {
   "codemirror_mode": {
    "name": "ipython",
    "version": 3
   },
   "file_extension": ".py",
   "mimetype": "text/x-python",
   "name": "python",
   "nbconvert_exporter": "python",
   "pygments_lexer": "ipython3",
   "version": "3.9.13"
  },
  "papermill": {
   "default_parameters": {},
   "duration": 3.109304,
   "end_time": "2024-09-10T15:24:05.810886",
   "environment_variables": {},
   "exception": null,
   "input_path": "Gamma.ipynb",
   "output_path": "/Users/runner/work/astromodels/astromodels/docs/notebooks/Gamma.ipynb",
   "parameters": {
    "func_name": "Gamma",
    "positive_prior": true
   },
   "start_time": "2024-09-10T15:24:02.701582",
   "version": "2.6.0"
  }
 },
 "nbformat": 4,
 "nbformat_minor": 5
}
