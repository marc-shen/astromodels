{
 "cells": [
  {
   "cell_type": "markdown",
   "id": "b634c07f",
   "metadata": {
    "papermill": {
     "duration": 0.011104,
     "end_time": "2025-04-29T23:53:56.857603",
     "exception": false,
     "start_time": "2025-04-29T23:53:56.846499",
     "status": "completed"
    },
    "tags": []
   },
   "source": [
    "# Gamma"
   ]
  },
  {
   "cell_type": "code",
   "execution_count": 1,
   "id": "93bcf2c1",
   "metadata": {
    "execution": {
     "iopub.execute_input": "2025-04-29T23:53:56.871184Z",
     "iopub.status.busy": "2025-04-29T23:53:56.870590Z",
     "iopub.status.idle": "2025-04-29T23:53:58.329535Z",
     "shell.execute_reply": "2025-04-29T23:53:58.329028Z"
    },
    "nbsphinx": "hidden",
    "papermill": {
     "duration": 1.466575,
     "end_time": "2025-04-29T23:53:58.330874",
     "exception": false,
     "start_time": "2025-04-29T23:53:56.864299",
     "status": "completed"
    },
    "tags": []
   },
   "outputs": [],
   "source": [
    "%%capture\n",
    "\n",
    "import numpy as np\n",
    "\n",
    "import matplotlib.pyplot as plt\n",
    "\n",
    "import warnings\n",
    "warnings.simplefilter(\"ignore\")\n",
    "\n",
    "from astromodels.functions.function import _known_functions\n",
    "\n",
    "\n",
    "from jupyterthemes import jtplot\n",
    "jtplot.style(context=\"talk\", fscale=1, ticks=True, grid=False)\n",
    "%matplotlib inline"
   ]
  },
  {
   "cell_type": "code",
   "execution_count": 2,
   "id": "67ba1974",
   "metadata": {
    "execution": {
     "iopub.execute_input": "2025-04-29T23:53:58.334022Z",
     "iopub.status.busy": "2025-04-29T23:53:58.333677Z",
     "iopub.status.idle": "2025-04-29T23:53:58.335944Z",
     "shell.execute_reply": "2025-04-29T23:53:58.335607Z"
    },
    "nbsphinx": "hidden",
    "papermill": {
     "duration": 0.004942,
     "end_time": "2025-04-29T23:53:58.337058",
     "exception": false,
     "start_time": "2025-04-29T23:53:58.332116",
     "status": "completed"
    },
    "tags": [
     "parameters"
    ]
   },
   "outputs": [],
   "source": [
    "func_name = \"TbAbs\"\n",
    "\n",
    "positive_prior = False\n"
   ]
  },
  {
   "cell_type": "code",
   "execution_count": 3,
   "id": "6026eda7",
   "metadata": {
    "execution": {
     "iopub.execute_input": "2025-04-29T23:53:58.339710Z",
     "iopub.status.busy": "2025-04-29T23:53:58.339569Z",
     "iopub.status.idle": "2025-04-29T23:53:58.345744Z",
     "shell.execute_reply": "2025-04-29T23:53:58.345346Z"
    },
    "papermill": {
     "duration": 0.008587,
     "end_time": "2025-04-29T23:53:58.346734",
     "exception": false,
     "start_time": "2025-04-29T23:53:58.338147",
     "status": "completed"
    },
    "tags": [
     "injected-parameters"
    ]
   },
   "outputs": [],
   "source": [
    "# Parameters\n",
    "func_name = \"Gamma\"\n",
    "positive_prior = True\n"
   ]
  },
  {
   "cell_type": "code",
   "execution_count": 4,
   "id": "caf9e063",
   "metadata": {
    "execution": {
     "iopub.execute_input": "2025-04-29T23:53:58.349268Z",
     "iopub.status.busy": "2025-04-29T23:53:58.349127Z",
     "iopub.status.idle": "2025-04-29T23:53:58.355129Z",
     "shell.execute_reply": "2025-04-29T23:53:58.354746Z"
    },
    "lines_to_next_cell": 0,
    "nbsphinx": "hidden",
    "papermill": {
     "duration": 0.008398,
     "end_time": "2025-04-29T23:53:58.356135",
     "exception": false,
     "start_time": "2025-04-29T23:53:58.347737",
     "status": "completed"
    },
    "tags": []
   },
   "outputs": [],
   "source": [
    "func = _known_functions[func_name]()\n",
    "\n",
    "if not positive_prior:\n",
    "\n",
    "\tenergy_grid = np.linspace(-5,5,1000)\n",
    "\n",
    "else:\n",
    "    \n",
    "    energy_grid = np.linspace(0,1,1000)\n",
    "    \n",
    "    \n",
    "    \n",
    "    \n",
    "blue = \"#4152E3\"\n",
    "red = \"#E3414B\"\n",
    "green = \"#41E39E\""
   ]
  },
  {
   "cell_type": "markdown",
   "id": "f8dbe0a3",
   "metadata": {
    "lines_to_next_cell": 0,
    "papermill": {
     "duration": 0.001047,
     "end_time": "2025-04-29T23:53:58.358198",
     "exception": false,
     "start_time": "2025-04-29T23:53:58.357151",
     "status": "completed"
    },
    "tags": []
   },
   "source": [
    "## Description"
   ]
  },
  {
   "cell_type": "code",
   "execution_count": 5,
   "id": "2c4a2943",
   "metadata": {
    "execution": {
     "iopub.execute_input": "2025-04-29T23:53:58.360825Z",
     "iopub.status.busy": "2025-04-29T23:53:58.360676Z",
     "iopub.status.idle": "2025-04-29T23:53:58.364335Z",
     "shell.execute_reply": "2025-04-29T23:53:58.363959Z"
    },
    "papermill": {
     "duration": 0.006088,
     "end_time": "2025-04-29T23:53:58.365333",
     "exception": false,
     "start_time": "2025-04-29T23:53:58.359245",
     "status": "completed"
    },
    "tags": []
   },
   "outputs": [
    {
     "data": {
      "text/html": [
       "<ul>\n",
       "\n",
       "<li>description: A gamma distribution function</li>\n",
       "\n",
       "<li>formula: $ f(x, \\alpha, \\beta)=\\frac{\\beta^\\alpha x^{\\alpha-1} e^{-\\beta x}}{\\Gamma(\\alpha)}$</li>\n",
       "\n",
       "<li>parameters: \n",
       "<ul>\n",
       "\n",
       "<li>alpha: \n",
       "<ul>\n",
       "\n",
       "<li>value: 0.5</li>\n",
       "\n",
       "<li>desc: first shape parameter</li>\n",
       "\n",
       "<li>min_value: 0.0</li>\n",
       "\n",
       "<li>max_value: None</li>\n",
       "\n",
       "<li>unit: </li>\n",
       "\n",
       "<li>is_normalization: False</li>\n",
       "\n",
       "<li>delta: 0.05</li>\n",
       "\n",
       "<li>free: True</li>\n",
       "\n",
       "</ul>\n",
       "\n",
       "</li>\n",
       "\n",
       "<li>beta: \n",
       "<ul>\n",
       "\n",
       "<li>value: 1.0</li>\n",
       "\n",
       "<li>desc: second shape parameter</li>\n",
       "\n",
       "<li>min_value: 0.0</li>\n",
       "\n",
       "<li>max_value: None</li>\n",
       "\n",
       "<li>unit: </li>\n",
       "\n",
       "<li>is_normalization: False</li>\n",
       "\n",
       "<li>delta: 0.1</li>\n",
       "\n",
       "<li>free: True</li>\n",
       "\n",
       "</ul>\n",
       "\n",
       "</li>\n",
       "\n",
       "</ul>\n",
       "\n",
       "</li>\n",
       "\n",
       "</ul>\n"
      ],
      "text/plain": [
       "  * description: A gamma distribution function\n",
       "  * formula: $ f(x, \\alpha, \\beta)=\\frac{\\beta^\\alpha x^{\\alpha-1} e^{-\\beta x}}{\\Gamma(\\alpha)}$\n",
       "  * parameters:\n",
       "    * alpha:\n",
       "      * value: 0.5\n",
       "      * desc: first shape parameter\n",
       "      * min_value: 0.0\n",
       "      * max_value: null\n",
       "      * unit: ''\n",
       "      * is_normalization: false\n",
       "      * delta: 0.05\n",
       "      * free: true\n",
       "    * beta:\n",
       "      * value: 1.0\n",
       "      * desc: second shape parameter\n",
       "      * min_value: 0.0\n",
       "      * max_value: null\n",
       "      * unit: ''\n",
       "      * is_normalization: false\n",
       "      * delta: 0.1\n",
       "      * free: true"
      ]
     },
     "metadata": {},
     "output_type": "display_data"
    }
   ],
   "source": [
    "func.display()"
   ]
  },
  {
   "cell_type": "markdown",
   "id": "5434dbc5",
   "metadata": {
    "papermill": {
     "duration": 0.001145,
     "end_time": "2025-04-29T23:53:58.367635",
     "exception": false,
     "start_time": "2025-04-29T23:53:58.366490",
     "status": "completed"
    },
    "tags": []
   },
   "source": [
    "## Shape \n",
    "\n",
    "The shape of the function. \n",
    "\n",
    "*If this is not a photon model but a prior or linear function then ignore the units as these docs are auto-generated*"
   ]
  },
  {
   "cell_type": "code",
   "execution_count": 6,
   "id": "79e60c32",
   "metadata": {
    "execution": {
     "iopub.execute_input": "2025-04-29T23:53:58.370531Z",
     "iopub.status.busy": "2025-04-29T23:53:58.370386Z",
     "iopub.status.idle": "2025-04-29T23:53:58.448194Z",
     "shell.execute_reply": "2025-04-29T23:53:58.447847Z"
    },
    "papermill": {
     "duration": 0.080711,
     "end_time": "2025-04-29T23:53:58.449463",
     "exception": false,
     "start_time": "2025-04-29T23:53:58.368752",
     "status": "completed"
    },
    "tags": [
     "nbsphinx-thumbnail"
    ]
   },
   "outputs": [
    {
     "data": {
      "text/plain": [
       "Text(0, 0.5, 'probability')"
      ]
     },
     "execution_count": 6,
     "metadata": {},
     "output_type": "execute_result"
    },
    {
     "data": {
      "image/png": "[encoded data removed]",
      "text/plain": [
       "<Figure size 1040x910 with 1 Axes>"
      ]
     },
     "metadata": {},
     "output_type": "display_data"
    }
   ],
   "source": [
    "fig, ax = plt.subplots()\n",
    "\n",
    "\n",
    "ax.plot(energy_grid, func(energy_grid), color=blue, lw=3)\n",
    "\n",
    "ax.set_xlabel(\"x\")\n",
    "ax.set_ylabel(\"probability\")\n"
   ]
  },
  {
   "cell_type": "markdown",
   "id": "50be958f",
   "metadata": {
    "papermill": {
     "duration": 0.001359,
     "end_time": "2025-04-29T23:53:58.452455",
     "exception": false,
     "start_time": "2025-04-29T23:53:58.451096",
     "status": "completed"
    },
    "tags": []
   },
   "source": [
    "## Random Number Generation\n",
    "\n",
    "This is how we can generate random numbers from the prior.\n"
   ]
  },
  {
   "cell_type": "code",
   "execution_count": 7,
   "id": "434252cf",
   "metadata": {
    "execution": {
     "iopub.execute_input": "2025-04-29T23:53:58.456136Z",
     "iopub.status.busy": "2025-04-29T23:53:58.455738Z",
     "iopub.status.idle": "2025-04-29T23:53:58.766422Z",
     "shell.execute_reply": "2025-04-29T23:53:58.766020Z"
    },
    "papermill": {
     "duration": 0.313766,
     "end_time": "2025-04-29T23:53:58.767628",
     "exception": false,
     "start_time": "2025-04-29T23:53:58.453862",
     "status": "completed"
    },
    "tags": []
   },
   "outputs": [
    {
     "data": {
      "text/plain": [
       "Text(0, 0.5, 'N')"
      ]
     },
     "execution_count": 7,
     "metadata": {},
     "output_type": "execute_result"
    },
    {
     "data": {
      "image/png": "[encoded data removed]",
      "text/plain": [
       "<Figure size 1040x910 with 1 Axes>"
      ]
     },
     "metadata": {},
     "output_type": "display_data"
    }
   ],
   "source": [
    "\n",
    "\n",
    "u = np.random.uniform(0,1, size=5000)\n",
    "\n",
    "draws = [func.from_unit_cube(x) for x in u]\n",
    "\n",
    "\n",
    "fig, ax = plt.subplots()\n",
    "\n",
    "\n",
    "ax.hist(draws, color=green, bins=50)\n",
    "\n",
    "ax.set_xlabel(\"value\")\n",
    "ax.set_ylabel(\"N\")\n",
    "\n"
   ]
  }
 ],
 "metadata": {
  "jupytext": {
   "formats": "ipynb,md"
  },
  "kernelspec": {
   "display_name": "Python 3 (ipykernel)",
   "language": "python",
   "name": "python3"
  },
  "language_info": {
   "codemirror_mode": {
    "name": "ipython",
    "version": 3
   },
   "file_extension": ".py",
   "mimetype": "text/x-python",
   "name": "python",
   "nbconvert_exporter": "python",
   "pygments_lexer": "ipython3",
   "version": "3.9.13"
  },
  "papermill": {
   "default_parameters": {},
   "duration": 2.80852,
   "end_time": "2025-04-29T23:53:59.103247",
   "environment_variables": {},
   "exception": null,
   "input_path": "Gamma.ipynb",
   "output_path": "/Users/runner/work/astromodels/astromodels/docs/notebooks/Gamma.ipynb",
   "parameters": {
    "func_name": "Gamma",
    "positive_prior": true
   },
   "start_time": "2025-04-29T23:53:56.294727",
   "version": "2.6.0"
  }
 },
 "nbformat": 4,
 "nbformat_minor": 5
}
