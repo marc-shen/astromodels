{
 "cells": [
  {
   "cell_type": "markdown",
   "id": "cafcae68",
   "metadata": {
    "papermill": {
     "duration": 0.010969,
     "end_time": "2024-09-10T14:17:19.063531",
     "exception": false,
     "start_time": "2024-09-10T14:17:19.052562",
     "status": "completed"
    },
    "tags": []
   },
   "source": [
    "# Gamma"
   ]
  },
  {
   "cell_type": "code",
   "execution_count": 1,
   "id": "a7c33cc3",
   "metadata": {
    "execution": {
     "iopub.execute_input": "2024-09-10T14:17:19.077753Z",
     "iopub.status.busy": "2024-09-10T14:17:19.077140Z",
     "iopub.status.idle": "2024-09-10T14:17:20.577588Z",
     "shell.execute_reply": "2024-09-10T14:17:20.577049Z"
    },
    "nbsphinx": "hidden",
    "papermill": {
     "duration": 1.509126,
     "end_time": "2024-09-10T14:17:20.579176",
     "exception": false,
     "start_time": "2024-09-10T14:17:19.070050",
     "status": "completed"
    },
    "tags": []
   },
   "outputs": [],
   "source": [
    "%%capture\n",
    "\n",
    "import numpy as np\n",
    "\n",
    "import matplotlib.pyplot as plt\n",
    "\n",
    "import warnings\n",
    "warnings.simplefilter(\"ignore\")\n",
    "\n",
    "from astromodels.functions.function import _known_functions\n",
    "\n",
    "\n",
    "from jupyterthemes import jtplot\n",
    "jtplot.style(context=\"talk\", fscale=1, ticks=True, grid=False)\n",
    "%matplotlib inline"
   ]
  },
  {
   "cell_type": "code",
   "execution_count": 2,
   "id": "e717d91e",
   "metadata": {
    "execution": {
     "iopub.execute_input": "2024-09-10T14:17:20.582336Z",
     "iopub.status.busy": "2024-09-10T14:17:20.581989Z",
     "iopub.status.idle": "2024-09-10T14:17:20.584454Z",
     "shell.execute_reply": "2024-09-10T14:17:20.584069Z"
    },
    "nbsphinx": "hidden",
    "papermill": {
     "duration": 0.005399,
     "end_time": "2024-09-10T14:17:20.585792",
     "exception": false,
     "start_time": "2024-09-10T14:17:20.580393",
     "status": "completed"
    },
    "tags": [
     "parameters"
    ]
   },
   "outputs": [],
   "source": [
    "func_name = \"TbAbs\"\n",
    "\n",
    "positive_prior = False\n"
   ]
  },
  {
   "cell_type": "code",
   "execution_count": 3,
   "id": "b76afce0",
   "metadata": {
    "execution": {
     "iopub.execute_input": "2024-09-10T14:17:20.588806Z",
     "iopub.status.busy": "2024-09-10T14:17:20.588627Z",
     "iopub.status.idle": "2024-09-10T14:17:20.593727Z",
     "shell.execute_reply": "2024-09-10T14:17:20.593286Z"
    },
    "papermill": {
     "duration": 0.008154,
     "end_time": "2024-09-10T14:17:20.595006",
     "exception": false,
     "start_time": "2024-09-10T14:17:20.586852",
     "status": "completed"
    },
    "tags": [
     "injected-parameters"
    ]
   },
   "outputs": [],
   "source": [
    "# Parameters\n",
    "func_name = \"Gamma\"\n",
    "positive_prior = True\n"
   ]
  },
  {
   "cell_type": "code",
   "execution_count": 4,
   "id": "c777f9ab",
   "metadata": {
    "execution": {
     "iopub.execute_input": "2024-09-10T14:17:20.597812Z",
     "iopub.status.busy": "2024-09-10T14:17:20.597663Z",
     "iopub.status.idle": "2024-09-10T14:17:20.601359Z",
     "shell.execute_reply": "2024-09-10T14:17:20.600657Z"
    },
    "lines_to_next_cell": 0,
    "nbsphinx": "hidden",
    "papermill": {
     "duration": 0.006573,
     "end_time": "2024-09-10T14:17:20.602723",
     "exception": false,
     "start_time": "2024-09-10T14:17:20.596150",
     "status": "completed"
    },
    "tags": []
   },
   "outputs": [],
   "source": [
    "func = _known_functions[func_name]()\n",
    "\n",
    "if not positive_prior:\n",
    "\n",
    "\tenergy_grid = np.linspace(-5,5,1000)\n",
    "\n",
    "else:\n",
    "    \n",
    "    energy_grid = np.linspace(0,1,1000)\n",
    "    \n",
    "    \n",
    "    \n",
    "    \n",
    "blue = \"#4152E3\"\n",
    "red = \"#E3414B\"\n",
    "green = \"#41E39E\""
   ]
  },
  {
   "cell_type": "markdown",
   "id": "c559d453",
   "metadata": {
    "lines_to_next_cell": 0,
    "papermill": {
     "duration": 0.001028,
     "end_time": "2024-09-10T14:17:20.604942",
     "exception": false,
     "start_time": "2024-09-10T14:17:20.603914",
     "status": "completed"
    },
    "tags": []
   },
   "source": [
    "## Description"
   ]
  },
  {
   "cell_type": "code",
   "execution_count": 5,
   "id": "6bd439ac",
   "metadata": {
    "execution": {
     "iopub.execute_input": "2024-09-10T14:17:20.607692Z",
     "iopub.status.busy": "2024-09-10T14:17:20.607525Z",
     "iopub.status.idle": "2024-09-10T14:17:20.611939Z",
     "shell.execute_reply": "2024-09-10T14:17:20.611252Z"
    },
    "papermill": {
     "duration": 0.007559,
     "end_time": "2024-09-10T14:17:20.613527",
     "exception": false,
     "start_time": "2024-09-10T14:17:20.605968",
     "status": "completed"
    },
    "tags": []
   },
   "outputs": [
    {
     "data": {
      "text/html": [
       "<ul>\n",
       "\n",
       "<li>description: A gamma distribution function</li>\n",
       "\n",
       "<li>formula: $ f(x, \\alpha, \\beta)=\\frac{\\beta^\\alpha x^{\\alpha-1} e^{-\\beta x}}{\\Gamma(\\alpha)}$</li>\n",
       "\n",
       "<li>parameters: \n",
       "<ul>\n",
       "\n",
       "<li>alpha: \n",
       "<ul>\n",
       "\n",
       "<li>value: 0.5</li>\n",
       "\n",
       "<li>desc: first shape parameter</li>\n",
       "\n",
       "<li>min_value: 0.0</li>\n",
       "\n",
       "<li>max_value: None</li>\n",
       "\n",
       "<li>unit: </li>\n",
       "\n",
       "<li>is_normalization: False</li>\n",
       "\n",
       "<li>delta: 0.05</li>\n",
       "\n",
       "<li>free: True</li>\n",
       "\n",
       "</ul>\n",
       "\n",
       "</li>\n",
       "\n",
       "<li>beta: \n",
       "<ul>\n",
       "\n",
       "<li>value: 1.0</li>\n",
       "\n",
       "<li>desc: second shape parameter</li>\n",
       "\n",
       "<li>min_value: 0.0</li>\n",
       "\n",
       "<li>max_value: None</li>\n",
       "\n",
       "<li>unit: </li>\n",
       "\n",
       "<li>is_normalization: False</li>\n",
       "\n",
       "<li>delta: 0.1</li>\n",
       "\n",
       "<li>free: True</li>\n",
       "\n",
       "</ul>\n",
       "\n",
       "</li>\n",
       "\n",
       "</ul>\n",
       "\n",
       "</li>\n",
       "\n",
       "</ul>\n"
      ],
      "text/plain": [
       "  * description: A gamma distribution function\n",
       "  * formula: $ f(x, \\alpha, \\beta)=\\frac{\\beta^\\alpha x^{\\alpha-1} e^{-\\beta x}}{\\Gamma(\\alpha)}$\n",
       "  * parameters:\n",
       "    * alpha:\n",
       "      * value: 0.5\n",
       "      * desc: first shape parameter\n",
       "      * min_value: 0.0\n",
       "      * max_value: null\n",
       "      * unit: ''\n",
       "      * is_normalization: false\n",
       "      * delta: 0.05\n",
       "      * free: true\n",
       "    * beta:\n",
       "      * value: 1.0\n",
       "      * desc: second shape parameter\n",
       "      * min_value: 0.0\n",
       "      * max_value: null\n",
       "      * unit: ''\n",
       "      * is_normalization: false\n",
       "      * delta: 0.1\n",
       "      * free: true"
      ]
     },
     "metadata": {},
     "output_type": "display_data"
    }
   ],
   "source": [
    "func.display()"
   ]
  },
  {
   "cell_type": "markdown",
   "id": "3c0cc65f",
   "metadata": {
    "papermill": {
     "duration": 0.001125,
     "end_time": "2024-09-10T14:17:20.615968",
     "exception": false,
     "start_time": "2024-09-10T14:17:20.614843",
     "status": "completed"
    },
    "tags": []
   },
   "source": [
    "## Shape \n",
    "\n",
    "The shape of the function. \n",
    "\n",
    "*If this is not a photon model but a prior or linear function then ignore the units as these docs are auto-generated*"
   ]
  },
  {
   "cell_type": "code",
   "execution_count": 6,
   "id": "77aa8768",
   "metadata": {
    "execution": {
     "iopub.execute_input": "2024-09-10T14:17:20.618920Z",
     "iopub.status.busy": "2024-09-10T14:17:20.618761Z",
     "iopub.status.idle": "2024-09-10T14:17:20.720626Z",
     "shell.execute_reply": "2024-09-10T14:17:20.720259Z"
    },
    "papermill": {
     "duration": 0.105052,
     "end_time": "2024-09-10T14:17:20.722069",
     "exception": false,
     "start_time": "2024-09-10T14:17:20.617017",
     "status": "completed"
    },
    "tags": [
     "nbsphinx-thumbnail"
    ]
   },
   "outputs": [
    {
     "data": {
      "text/plain": [
       "Text(0, 0.5, 'probability')"
      ]
     },
     "execution_count": 6,
     "metadata": {},
     "output_type": "execute_result"
    },
    {
     "data": {
      "image/png": "[encoded data removed]",
      "text/plain": [
       "<Figure size 1040x910 with 1 Axes>"
      ]
     },
     "metadata": {},
     "output_type": "display_data"
    }
   ],
   "source": [
    "fig, ax = plt.subplots()\n",
    "\n",
    "\n",
    "ax.plot(energy_grid, func(energy_grid), color=blue, lw=3)\n",
    "\n",
    "ax.set_xlabel(\"x\")\n",
    "ax.set_ylabel(\"probability\")\n"
   ]
  },
  {
   "cell_type": "markdown",
   "id": "f6f47cc0",
   "metadata": {
    "papermill": {
     "duration": 0.001578,
     "end_time": "2024-09-10T14:17:20.725309",
     "exception": false,
     "start_time": "2024-09-10T14:17:20.723731",
     "status": "completed"
    },
    "tags": []
   },
   "source": [
    "## Random Number Generation\n",
    "\n",
    "This is how we can generate random numbers from the prior.\n"
   ]
  },
  {
   "cell_type": "code",
   "execution_count": 7,
   "id": "63a6ffbc",
   "metadata": {
    "execution": {
     "iopub.execute_input": "2024-09-10T14:17:20.728753Z",
     "iopub.status.busy": "2024-09-10T14:17:20.728602Z",
     "iopub.status.idle": "2024-09-10T14:17:21.075925Z",
     "shell.execute_reply": "2024-09-10T14:17:21.075264Z"
    },
    "papermill": {
     "duration": 0.350803,
     "end_time": "2024-09-10T14:17:21.077414",
     "exception": false,
     "start_time": "2024-09-10T14:17:20.726611",
     "status": "completed"
    },
    "tags": []
   },
   "outputs": [
    {
     "data": {
      "text/plain": [
       "Text(0, 0.5, 'N')"
      ]
     },
     "execution_count": 7,
     "metadata": {},
     "output_type": "execute_result"
    },
    {
     "data": {
      "image/png": "[encoded data removed]",
      "text/plain": [
       "<Figure size 1040x910 with 1 Axes>"
      ]
     },
     "metadata": {},
     "output_type": "display_data"
    }
   ],
   "source": [
    "\n",
    "\n",
    "u = np.random.uniform(0,1, size=5000)\n",
    "\n",
    "draws = [func.from_unit_cube(x) for x in u]\n",
    "\n",
    "\n",
    "fig, ax = plt.subplots()\n",
    "\n",
    "\n",
    "ax.hist(draws, color=green, bins=50)\n",
    "\n",
    "ax.set_xlabel(\"value\")\n",
    "ax.set_ylabel(\"N\")\n",
    "\n"
   ]
  }
 ],
 "metadata": {
  "jupytext": {
   "formats": "ipynb,md"
  },
  "kernelspec": {
   "display_name": "Python 3 (ipykernel)",
   "language": "python",
   "name": "python3"
  },
  "language_info": {
   "codemirror_mode": {
    "name": "ipython",
    "version": 3
   },
   "file_extension": ".py",
   "mimetype": "text/x-python",
   "name": "python",
   "nbconvert_exporter": "python",
   "pygments_lexer": "ipython3",
   "version": "3.9.13"
  },
  "papermill": {
   "default_parameters": {},
   "duration": 2.984981,
   "end_time": "2024-09-10T14:17:21.511052",
   "environment_variables": {},
   "exception": null,
   "input_path": "Gamma.ipynb",
   "output_path": "/Users/runner/work/astromodels/astromodels/docs/notebooks/Gamma.ipynb",
   "parameters": {
    "func_name": "Gamma",
    "positive_prior": true
   },
   "start_time": "2024-09-10T14:17:18.526071",
   "version": "2.6.0"
  }
 },
 "nbformat": 4,
 "nbformat_minor": 5
}
