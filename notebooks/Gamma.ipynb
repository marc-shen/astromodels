{
 "cells": [
  {
   "cell_type": "markdown",
   "id": "61c114ab",
   "metadata": {
    "papermill": {
     "duration": 0.00717,
     "end_time": "2024-02-06T22:38:07.523853",
     "exception": false,
     "start_time": "2024-02-06T22:38:07.516683",
     "status": "completed"
    },
    "tags": []
   },
   "source": [
    "# Gamma"
   ]
  },
  {
   "cell_type": "code",
   "execution_count": 1,
   "id": "d8760833",
   "metadata": {
    "execution": {
     "iopub.execute_input": "2024-02-06T22:38:07.538338Z",
     "iopub.status.busy": "2024-02-06T22:38:07.537533Z",
     "iopub.status.idle": "2024-02-06T22:38:12.393964Z",
     "shell.execute_reply": "2024-02-06T22:38:12.391513Z"
    },
    "nbsphinx": "hidden",
    "papermill": {
     "duration": 4.872276,
     "end_time": "2024-02-06T22:38:12.402064",
     "exception": false,
     "start_time": "2024-02-06T22:38:07.529788",
     "status": "completed"
    },
    "tags": []
   },
   "outputs": [],
   "source": [
    "%%capture\n",
    "\n",
    "import numpy as np\n",
    "\n",
    "import matplotlib.pyplot as plt\n",
    "\n",
    "import warnings\n",
    "warnings.simplefilter(\"ignore\")\n",
    "\n",
    "from astromodels.functions.function import _known_functions\n",
    "\n",
    "\n",
    "from jupyterthemes import jtplot\n",
    "jtplot.style(context=\"talk\", fscale=1, ticks=True, grid=False)\n",
    "%matplotlib inline"
   ]
  },
  {
   "cell_type": "code",
   "execution_count": 2,
   "id": "341d9263",
   "metadata": {
    "execution": {
     "iopub.execute_input": "2024-02-06T22:38:12.419851Z",
     "iopub.status.busy": "2024-02-06T22:38:12.419024Z",
     "iopub.status.idle": "2024-02-06T22:38:12.431749Z",
     "shell.execute_reply": "2024-02-06T22:38:12.427695Z"
    },
    "nbsphinx": "hidden",
    "papermill": {
     "duration": 0.030679,
     "end_time": "2024-02-06T22:38:12.439653",
     "exception": false,
     "start_time": "2024-02-06T22:38:12.408974",
     "status": "completed"
    },
    "tags": [
     "parameters"
    ]
   },
   "outputs": [],
   "source": [
    "func_name = \"TbAbs\"\n",
    "\n",
    "positive_prior = False\n"
   ]
  },
  {
   "cell_type": "code",
   "execution_count": 3,
   "id": "ccd7284c",
   "metadata": {
    "execution": {
     "iopub.execute_input": "2024-02-06T22:38:12.450126Z",
     "iopub.status.busy": "2024-02-06T22:38:12.449428Z",
     "iopub.status.idle": "2024-02-06T22:38:12.459266Z",
     "shell.execute_reply": "2024-02-06T22:38:12.456012Z"
    },
    "papermill": {
     "duration": 0.022016,
     "end_time": "2024-02-06T22:38:12.465684",
     "exception": false,
     "start_time": "2024-02-06T22:38:12.443668",
     "status": "completed"
    },
    "tags": [
     "injected-parameters"
    ]
   },
   "outputs": [],
   "source": [
    "# Parameters\n",
    "func_name = \"Gamma\"\n",
    "positive_prior = True\n"
   ]
  },
  {
   "cell_type": "code",
   "execution_count": 4,
   "id": "d87968f7",
   "metadata": {
    "execution": {
     "iopub.execute_input": "2024-02-06T22:38:12.479502Z",
     "iopub.status.busy": "2024-02-06T22:38:12.478570Z",
     "iopub.status.idle": "2024-02-06T22:38:12.492049Z",
     "shell.execute_reply": "2024-02-06T22:38:12.489847Z"
    },
    "lines_to_next_cell": 0,
    "nbsphinx": "hidden",
    "papermill": {
     "duration": 0.027752,
     "end_time": "2024-02-06T22:38:12.498400",
     "exception": false,
     "start_time": "2024-02-06T22:38:12.470648",
     "status": "completed"
    },
    "tags": []
   },
   "outputs": [],
   "source": [
    "func = _known_functions[func_name]()\n",
    "\n",
    "if not positive_prior:\n",
    "\n",
    "\tenergy_grid = np.linspace(-5,5,1000)\n",
    "\n",
    "else:\n",
    "    \n",
    "    energy_grid = np.linspace(0,1,1000)\n",
    "    \n",
    "    \n",
    "    \n",
    "    \n",
    "blue = \"#4152E3\"\n",
    "red = \"#E3414B\"\n",
    "green = \"#41E39E\""
   ]
  },
  {
   "cell_type": "markdown",
   "id": "ad6bd966",
   "metadata": {
    "lines_to_next_cell": 0,
    "papermill": {
     "duration": 0.005668,
     "end_time": "2024-02-06T22:38:12.509252",
     "exception": false,
     "start_time": "2024-02-06T22:38:12.503584",
     "status": "completed"
    },
    "tags": []
   },
   "source": [
    "## Description"
   ]
  },
  {
   "cell_type": "code",
   "execution_count": 5,
   "id": "98638f07",
   "metadata": {
    "execution": {
     "iopub.execute_input": "2024-02-06T22:38:12.523267Z",
     "iopub.status.busy": "2024-02-06T22:38:12.522571Z",
     "iopub.status.idle": "2024-02-06T22:38:12.543490Z",
     "shell.execute_reply": "2024-02-06T22:38:12.540290Z"
    },
    "papermill": {
     "duration": 0.035887,
     "end_time": "2024-02-06T22:38:12.550761",
     "exception": false,
     "start_time": "2024-02-06T22:38:12.514874",
     "status": "completed"
    },
    "tags": []
   },
   "outputs": [
    {
     "data": {
      "text/html": [
       "<ul>\n",
       "\n",
       "<li>description: A gamma distribution function</li>\n",
       "\n",
       "<li>formula: $ f(x, \\alpha, \\beta)=\\frac{\\beta^\\alpha x^{\\alpha-1} e^{-\\beta x}}{\\Gamma(\\alpha)}$</li>\n",
       "\n",
       "<li>parameters: \n",
       "<ul>\n",
       "\n",
       "<li>alpha: \n",
       "<ul>\n",
       "\n",
       "<li>value: 0.5</li>\n",
       "\n",
       "<li>desc: first shape parameter</li>\n",
       "\n",
       "<li>min_value: 0.0</li>\n",
       "\n",
       "<li>max_value: None</li>\n",
       "\n",
       "<li>unit: </li>\n",
       "\n",
       "<li>is_normalization: False</li>\n",
       "\n",
       "<li>delta: 0.05</li>\n",
       "\n",
       "<li>free: True</li>\n",
       "\n",
       "</ul>\n",
       "\n",
       "</li>\n",
       "\n",
       "<li>beta: \n",
       "<ul>\n",
       "\n",
       "<li>value: 1.0</li>\n",
       "\n",
       "<li>desc: second shape parameter</li>\n",
       "\n",
       "<li>min_value: 0.0</li>\n",
       "\n",
       "<li>max_value: None</li>\n",
       "\n",
       "<li>unit: </li>\n",
       "\n",
       "<li>is_normalization: False</li>\n",
       "\n",
       "<li>delta: 0.1</li>\n",
       "\n",
       "<li>free: True</li>\n",
       "\n",
       "</ul>\n",
       "\n",
       "</li>\n",
       "\n",
       "</ul>\n",
       "\n",
       "</li>\n",
       "\n",
       "</ul>\n"
      ],
      "text/plain": [
       "  * description: A gamma distribution function\n",
       "  * formula: $ f(x, \\alpha, \\beta)=\\frac{\\beta^\\alpha x^{\\alpha-1} e^{-\\beta x}}{\\Gamma(\\alpha)}$\n",
       "  * parameters:\n",
       "    * alpha:\n",
       "      * value: 0.5\n",
       "      * desc: first shape parameter\n",
       "      * min_value: 0.0\n",
       "      * max_value: null\n",
       "      * unit: ''\n",
       "      * is_normalization: false\n",
       "      * delta: 0.05\n",
       "      * free: true\n",
       "    * beta:\n",
       "      * value: 1.0\n",
       "      * desc: second shape parameter\n",
       "      * min_value: 0.0\n",
       "      * max_value: null\n",
       "      * unit: ''\n",
       "      * is_normalization: false\n",
       "      * delta: 0.1\n",
       "      * free: true"
      ]
     },
     "metadata": {},
     "output_type": "display_data"
    }
   ],
   "source": [
    "func.display()"
   ]
  },
  {
   "cell_type": "markdown",
   "id": "18c0bbe5",
   "metadata": {
    "papermill": {
     "duration": 0.00604,
     "end_time": "2024-02-06T22:38:12.560760",
     "exception": false,
     "start_time": "2024-02-06T22:38:12.554720",
     "status": "completed"
    },
    "tags": []
   },
   "source": [
    "## Shape \n",
    "\n",
    "The shape of the function. \n",
    "\n",
    "*If this is not a photon model but a prior or linear function then ignore the units as these docs are auto-generated*"
   ]
  },
  {
   "cell_type": "code",
   "execution_count": 6,
   "id": "84da504c",
   "metadata": {
    "execution": {
     "iopub.execute_input": "2024-02-06T22:38:12.572876Z",
     "iopub.status.busy": "2024-02-06T22:38:12.572081Z",
     "iopub.status.idle": "2024-02-06T22:38:12.959595Z",
     "shell.execute_reply": "2024-02-06T22:38:12.955713Z"
    },
    "papermill": {
     "duration": 0.404576,
     "end_time": "2024-02-06T22:38:12.970492",
     "exception": false,
     "start_time": "2024-02-06T22:38:12.565916",
     "status": "completed"
    },
    "tags": [
     "nbsphinx-thumbnail"
    ]
   },
   "outputs": [
    {
     "data": {
      "text/plain": [
       "Text(0, 0.5, 'probability')"
      ]
     },
     "execution_count": 6,
     "metadata": {},
     "output_type": "execute_result"
    },
    {
     "data": {
      "image/png": "[encoded data removed]",
      "text/plain": [
       "<Figure size 1040x910 with 1 Axes>"
      ]
     },
     "metadata": {},
     "output_type": "display_data"
    }
   ],
   "source": [
    "fig, ax = plt.subplots()\n",
    "\n",
    "\n",
    "ax.plot(energy_grid, func(energy_grid), color=blue, lw=3)\n",
    "\n",
    "ax.set_xlabel(\"x\")\n",
    "ax.set_ylabel(\"probability\")\n"
   ]
  },
  {
   "cell_type": "markdown",
   "id": "3014068a",
   "metadata": {
    "papermill": {
     "duration": 0.007402,
     "end_time": "2024-02-06T22:38:13.024721",
     "exception": false,
     "start_time": "2024-02-06T22:38:13.017319",
     "status": "completed"
    },
    "tags": []
   },
   "source": [
    "## Random Number Generation\n",
    "\n",
    "This is how we can generate random numbers from the prior.\n"
   ]
  },
  {
   "cell_type": "code",
   "execution_count": 7,
   "id": "b03df5f7",
   "metadata": {
    "execution": {
     "iopub.execute_input": "2024-02-06T22:38:13.042495Z",
     "iopub.status.busy": "2024-02-06T22:38:13.041768Z",
     "iopub.status.idle": "2024-02-06T22:38:14.835729Z",
     "shell.execute_reply": "2024-02-06T22:38:14.832429Z"
    },
    "papermill": {
     "duration": 1.811011,
     "end_time": "2024-02-06T22:38:14.842930",
     "exception": false,
     "start_time": "2024-02-06T22:38:13.031919",
     "status": "completed"
    },
    "tags": []
   },
   "outputs": [
    {
     "data": {
      "text/plain": [
       "Text(0, 0.5, 'N')"
      ]
     },
     "execution_count": 7,
     "metadata": {},
     "output_type": "execute_result"
    },
    {
     "data": {
      "image/png": "[encoded data removed]",
      "text/plain": [
       "<Figure size 1040x910 with 1 Axes>"
      ]
     },
     "metadata": {},
     "output_type": "display_data"
    }
   ],
   "source": [
    "\n",
    "\n",
    "u = np.random.uniform(0,1, size=5000)\n",
    "\n",
    "draws = [func.from_unit_cube(x) for x in u]\n",
    "\n",
    "\n",
    "fig, ax = plt.subplots()\n",
    "\n",
    "\n",
    "ax.hist(draws, color=green, bins=50)\n",
    "\n",
    "ax.set_xlabel(\"value\")\n",
    "ax.set_ylabel(\"N\")\n",
    "\n"
   ]
  }
 ],
 "metadata": {
  "jupytext": {
   "formats": "ipynb,md"
  },
  "kernelspec": {
   "display_name": "Python 3 (ipykernel)",
   "language": "python",
   "name": "python3"
  },
  "language_info": {
   "codemirror_mode": {
    "name": "ipython",
    "version": 3
   },
   "file_extension": ".py",
   "mimetype": "text/x-python",
   "name": "python",
   "nbconvert_exporter": "python",
   "pygments_lexer": "ipython3",
   "version": "3.9.18"
  },
  "papermill": {
   "default_parameters": {},
   "duration": 10.167831,
   "end_time": "2024-02-06T22:38:15.689558",
   "environment_variables": {},
   "exception": null,
   "input_path": "Gamma.ipynb",
   "output_path": "/Users/runner/work/astromodels/astromodels/docs/notebooks/Gamma.ipynb",
   "parameters": {
    "func_name": "Gamma",
    "positive_prior": true
   },
   "start_time": "2024-02-06T22:38:05.521727",
   "version": "2.5.0"
  }
 },
 "nbformat": 4,
 "nbformat_minor": 5
}
