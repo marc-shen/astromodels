{
 "cells": [
  {
   "cell_type": "markdown",
   "id": "fab44831",
   "metadata": {
    "papermill": {
     "duration": 0.003401,
     "end_time": "2023-11-01T20:53:42.464033",
     "exception": false,
     "start_time": "2023-11-01T20:53:42.460632",
     "status": "completed"
    },
    "tags": []
   },
   "source": [
    "# Gamma"
   ]
  },
  {
   "cell_type": "code",
   "execution_count": 1,
   "id": "75a2697d",
   "metadata": {
    "execution": {
     "iopub.execute_input": "2023-11-01T20:53:42.471172Z",
     "iopub.status.busy": "2023-11-01T20:53:42.470742Z",
     "iopub.status.idle": "2023-11-01T20:53:45.731287Z",
     "shell.execute_reply": "2023-11-01T20:53:45.727762Z"
    },
    "nbsphinx": "hidden",
    "papermill": {
     "duration": 3.269019,
     "end_time": "2023-11-01T20:53:45.735800",
     "exception": false,
     "start_time": "2023-11-01T20:53:42.466781",
     "status": "completed"
    },
    "tags": []
   },
   "outputs": [],
   "source": [
    "%%capture\n",
    "\n",
    "import numpy as np\n",
    "\n",
    "import matplotlib.pyplot as plt\n",
    "\n",
    "import warnings\n",
    "warnings.simplefilter(\"ignore\")\n",
    "\n",
    "from astromodels.functions.function import _known_functions\n",
    "\n",
    "\n",
    "from jupyterthemes import jtplot\n",
    "jtplot.style(context=\"talk\", fscale=1, ticks=True, grid=False)\n",
    "%matplotlib inline"
   ]
  },
  {
   "cell_type": "code",
   "execution_count": 2,
   "id": "51d1b04f",
   "metadata": {
    "execution": {
     "iopub.execute_input": "2023-11-01T20:53:45.745107Z",
     "iopub.status.busy": "2023-11-01T20:53:45.744710Z",
     "iopub.status.idle": "2023-11-01T20:53:45.763028Z",
     "shell.execute_reply": "2023-11-01T20:53:45.760012Z"
    },
    "nbsphinx": "hidden",
    "papermill": {
     "duration": 0.028308,
     "end_time": "2023-11-01T20:53:45.767756",
     "exception": false,
     "start_time": "2023-11-01T20:53:45.739448",
     "status": "completed"
    },
    "tags": [
     "parameters"
    ]
   },
   "outputs": [],
   "source": [
    "func_name = \"TbAbs\"\n",
    "\n",
    "positive_prior = False\n"
   ]
  },
  {
   "cell_type": "code",
   "execution_count": 3,
   "id": "64289ebd",
   "metadata": {
    "execution": {
     "iopub.execute_input": "2023-11-01T20:53:45.774953Z",
     "iopub.status.busy": "2023-11-01T20:53:45.774604Z",
     "iopub.status.idle": "2023-11-01T20:53:45.780347Z",
     "shell.execute_reply": "2023-11-01T20:53:45.778721Z"
    },
    "papermill": {
     "duration": 0.013993,
     "end_time": "2023-11-01T20:53:45.784460",
     "exception": false,
     "start_time": "2023-11-01T20:53:45.770467",
     "status": "completed"
    },
    "tags": [
     "injected-parameters"
    ]
   },
   "outputs": [],
   "source": [
    "# Parameters\n",
    "func_name = \"Gamma\"\n",
    "positive_prior = True\n"
   ]
  },
  {
   "cell_type": "code",
   "execution_count": 4,
   "id": "66840865",
   "metadata": {
    "execution": {
     "iopub.execute_input": "2023-11-01T20:53:45.792145Z",
     "iopub.status.busy": "2023-11-01T20:53:45.791704Z",
     "iopub.status.idle": "2023-11-01T20:53:45.800081Z",
     "shell.execute_reply": "2023-11-01T20:53:45.798757Z"
    },
    "lines_to_next_cell": 0,
    "nbsphinx": "hidden",
    "papermill": {
     "duration": 0.016729,
     "end_time": "2023-11-01T20:53:45.804282",
     "exception": false,
     "start_time": "2023-11-01T20:53:45.787553",
     "status": "completed"
    },
    "tags": []
   },
   "outputs": [],
   "source": [
    "func = _known_functions[func_name]()\n",
    "\n",
    "if not positive_prior:\n",
    "\n",
    "\tenergy_grid = np.linspace(-5,5,1000)\n",
    "\n",
    "else:\n",
    "    \n",
    "    energy_grid = np.linspace(0,1,1000)\n",
    "    \n",
    "    \n",
    "    \n",
    "    \n",
    "blue = \"#4152E3\"\n",
    "red = \"#E3414B\"\n",
    "green = \"#41E39E\""
   ]
  },
  {
   "cell_type": "markdown",
   "id": "6109e03c",
   "metadata": {
    "lines_to_next_cell": 0,
    "papermill": {
     "duration": 0.002863,
     "end_time": "2023-11-01T20:53:45.809841",
     "exception": false,
     "start_time": "2023-11-01T20:53:45.806978",
     "status": "completed"
    },
    "tags": []
   },
   "source": [
    "## Description"
   ]
  },
  {
   "cell_type": "code",
   "execution_count": 5,
   "id": "d3b49a13",
   "metadata": {
    "execution": {
     "iopub.execute_input": "2023-11-01T20:53:45.817049Z",
     "iopub.status.busy": "2023-11-01T20:53:45.816568Z",
     "iopub.status.idle": "2023-11-01T20:53:45.832089Z",
     "shell.execute_reply": "2023-11-01T20:53:45.830644Z"
    },
    "papermill": {
     "duration": 0.023931,
     "end_time": "2023-11-01T20:53:45.836403",
     "exception": false,
     "start_time": "2023-11-01T20:53:45.812472",
     "status": "completed"
    },
    "tags": []
   },
   "outputs": [
    {
     "data": {
      "text/html": [
       "<ul>\n",
       "\n",
       "<li>description: A gamma distribution function</li>\n",
       "\n",
       "<li>formula: $ f(x, \\alpha, \\beta)=\\frac{\\beta^\\alpha x^{\\alpha-1} e^{-\\beta x}}{\\Gamma(\\alpha)}$</li>\n",
       "\n",
       "<li>parameters: \n",
       "<ul>\n",
       "\n",
       "<li>alpha: \n",
       "<ul>\n",
       "\n",
       "<li>value: 0.5</li>\n",
       "\n",
       "<li>desc: first shape parameter</li>\n",
       "\n",
       "<li>min_value: 0.0</li>\n",
       "\n",
       "<li>max_value: None</li>\n",
       "\n",
       "<li>unit: </li>\n",
       "\n",
       "<li>is_normalization: False</li>\n",
       "\n",
       "<li>delta: 0.05</li>\n",
       "\n",
       "<li>free: True</li>\n",
       "\n",
       "</ul>\n",
       "\n",
       "</li>\n",
       "\n",
       "<li>beta: \n",
       "<ul>\n",
       "\n",
       "<li>value: 1.0</li>\n",
       "\n",
       "<li>desc: second shape parameter</li>\n",
       "\n",
       "<li>min_value: 0.0</li>\n",
       "\n",
       "<li>max_value: None</li>\n",
       "\n",
       "<li>unit: </li>\n",
       "\n",
       "<li>is_normalization: False</li>\n",
       "\n",
       "<li>delta: 0.1</li>\n",
       "\n",
       "<li>free: True</li>\n",
       "\n",
       "</ul>\n",
       "\n",
       "</li>\n",
       "\n",
       "</ul>\n",
       "\n",
       "</li>\n",
       "\n",
       "</ul>\n"
      ],
      "text/plain": [
       "  * description: A gamma distribution function\n",
       "  * formula: $ f(x, \\alpha, \\beta)=\\frac{\\beta^\\alpha x^{\\alpha-1} e^{-\\beta x}}{\\Gamma(\\alpha)}$\n",
       "  * parameters:\n",
       "    * alpha:\n",
       "      * value: 0.5\n",
       "      * desc: first shape parameter\n",
       "      * min_value: 0.0\n",
       "      * max_value: null\n",
       "      * unit: ''\n",
       "      * is_normalization: false\n",
       "      * delta: 0.05\n",
       "      * free: true\n",
       "    * beta:\n",
       "      * value: 1.0\n",
       "      * desc: second shape parameter\n",
       "      * min_value: 0.0\n",
       "      * max_value: null\n",
       "      * unit: ''\n",
       "      * is_normalization: false\n",
       "      * delta: 0.1\n",
       "      * free: true"
      ]
     },
     "metadata": {},
     "output_type": "display_data"
    }
   ],
   "source": [
    "func.display()"
   ]
  },
  {
   "cell_type": "markdown",
   "id": "1ecd4f85",
   "metadata": {
    "papermill": {
     "duration": 0.003041,
     "end_time": "2023-11-01T20:53:45.842602",
     "exception": false,
     "start_time": "2023-11-01T20:53:45.839561",
     "status": "completed"
    },
    "tags": []
   },
   "source": [
    "## Shape \n",
    "\n",
    "The shape of the function. \n",
    "\n",
    "*If this is not a photon model but a prior or linear function then ignore the units as these docs are auto-generated*"
   ]
  },
  {
   "cell_type": "code",
   "execution_count": 6,
   "id": "ef9c3703",
   "metadata": {
    "execution": {
     "iopub.execute_input": "2023-11-01T20:53:45.850495Z",
     "iopub.status.busy": "2023-11-01T20:53:45.850073Z",
     "iopub.status.idle": "2023-11-01T20:53:46.136182Z",
     "shell.execute_reply": "2023-11-01T20:53:46.134337Z"
    },
    "papermill": {
     "duration": 0.295071,
     "end_time": "2023-11-01T20:53:46.140618",
     "exception": false,
     "start_time": "2023-11-01T20:53:45.845547",
     "status": "completed"
    },
    "tags": [
     "nbsphinx-thumbnail"
    ]
   },
   "outputs": [
    {
     "data": {
      "text/plain": [
       "Text(0, 0.5, 'probability')"
      ]
     },
     "execution_count": 6,
     "metadata": {},
     "output_type": "execute_result"
    },
    {
     "data": {
      "image/png": "[encoded data removed]",
      "text/plain": [
       "<Figure size 1040x910 with 1 Axes>"
      ]
     },
     "metadata": {},
     "output_type": "display_data"
    }
   ],
   "source": [
    "fig, ax = plt.subplots()\n",
    "\n",
    "\n",
    "ax.plot(energy_grid, func(energy_grid), color=blue, lw=3)\n",
    "\n",
    "ax.set_xlabel(\"x\")\n",
    "ax.set_ylabel(\"probability\")\n"
   ]
  },
  {
   "cell_type": "markdown",
   "id": "9c13bb5b",
   "metadata": {
    "papermill": {
     "duration": 0.003633,
     "end_time": "2023-11-01T20:53:46.147782",
     "exception": false,
     "start_time": "2023-11-01T20:53:46.144149",
     "status": "completed"
    },
    "tags": []
   },
   "source": [
    "## Random Number Generation\n",
    "\n",
    "This is how we can generate random numbers from the prior.\n"
   ]
  },
  {
   "cell_type": "code",
   "execution_count": 7,
   "id": "f1037ebe",
   "metadata": {
    "execution": {
     "iopub.execute_input": "2023-11-01T20:53:46.157337Z",
     "iopub.status.busy": "2023-11-01T20:53:46.156449Z",
     "iopub.status.idle": "2023-11-01T20:53:47.568597Z",
     "shell.execute_reply": "2023-11-01T20:53:47.566955Z"
    },
    "papermill": {
     "duration": 1.422162,
     "end_time": "2023-11-01T20:53:47.573411",
     "exception": false,
     "start_time": "2023-11-01T20:53:46.151249",
     "status": "completed"
    },
    "tags": []
   },
   "outputs": [
    {
     "data": {
      "text/plain": [
       "Text(0, 0.5, 'N')"
      ]
     },
     "execution_count": 7,
     "metadata": {},
     "output_type": "execute_result"
    },
    {
     "data": {
      "image/png": "[encoded data removed]",
      "text/plain": [
       "<Figure size 1040x910 with 1 Axes>"
      ]
     },
     "metadata": {},
     "output_type": "display_data"
    }
   ],
   "source": [
    "\n",
    "\n",
    "u = np.random.uniform(0,1, size=5000)\n",
    "\n",
    "draws = [func.from_unit_cube(x) for x in u]\n",
    "\n",
    "\n",
    "fig, ax = plt.subplots()\n",
    "\n",
    "\n",
    "ax.hist(draws, color=green, bins=50)\n",
    "\n",
    "ax.set_xlabel(\"value\")\n",
    "ax.set_ylabel(\"N\")\n",
    "\n"
   ]
  }
 ],
 "metadata": {
  "jupytext": {
   "formats": "ipynb,md"
  },
  "kernelspec": {
   "display_name": "Python 3 (ipykernel)",
   "language": "python",
   "name": "python3"
  },
  "language_info": {
   "codemirror_mode": {
    "name": "ipython",
    "version": 3
   },
   "file_extension": ".py",
   "mimetype": "text/x-python",
   "name": "python",
   "nbconvert_exporter": "python",
   "pygments_lexer": "ipython3",
   "version": "3.9.18"
  },
  "papermill": {
   "default_parameters": {},
   "duration": 6.830832,
   "end_time": "2023-11-01T20:53:48.210711",
   "environment_variables": {},
   "exception": null,
   "input_path": "Gamma.ipynb",
   "output_path": "/Users/runner/work/astromodels/astromodels/docs/notebooks/Gamma.ipynb",
   "parameters": {
    "func_name": "Gamma",
    "positive_prior": true
   },
   "start_time": "2023-11-01T20:53:41.379879",
   "version": "2.4.0"
  }
 },
 "nbformat": 4,
 "nbformat_minor": 5
}
