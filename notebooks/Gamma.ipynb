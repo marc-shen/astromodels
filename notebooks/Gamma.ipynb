{
 "cells": [
  {
   "cell_type": "markdown",
   "id": "90b928d5",
   "metadata": {
    "papermill": {
     "duration": 0.004125,
     "end_time": "2024-02-06T22:19:14.224203",
     "exception": false,
     "start_time": "2024-02-06T22:19:14.220078",
     "status": "completed"
    },
    "tags": []
   },
   "source": [
    "# Gamma"
   ]
  },
  {
   "cell_type": "code",
   "execution_count": 1,
   "id": "1f066ec0",
   "metadata": {
    "execution": {
     "iopub.execute_input": "2024-02-06T22:19:14.231644Z",
     "iopub.status.busy": "2024-02-06T22:19:14.231082Z",
     "iopub.status.idle": "2024-02-06T22:19:16.623869Z",
     "shell.execute_reply": "2024-02-06T22:19:16.620804Z"
    },
    "nbsphinx": "hidden",
    "papermill": {
     "duration": 2.401294,
     "end_time": "2024-02-06T22:19:16.627948",
     "exception": false,
     "start_time": "2024-02-06T22:19:14.226654",
     "status": "completed"
    },
    "tags": []
   },
   "outputs": [],
   "source": [
    "%%capture\n",
    "\n",
    "import numpy as np\n",
    "\n",
    "import matplotlib.pyplot as plt\n",
    "\n",
    "import warnings\n",
    "warnings.simplefilter(\"ignore\")\n",
    "\n",
    "from astromodels.functions.function import _known_functions\n",
    "\n",
    "\n",
    "from jupyterthemes import jtplot\n",
    "jtplot.style(context=\"talk\", fscale=1, ticks=True, grid=False)\n",
    "%matplotlib inline"
   ]
  },
  {
   "cell_type": "code",
   "execution_count": 2,
   "id": "3bc8151d",
   "metadata": {
    "execution": {
     "iopub.execute_input": "2024-02-06T22:19:16.634605Z",
     "iopub.status.busy": "2024-02-06T22:19:16.634183Z",
     "iopub.status.idle": "2024-02-06T22:19:16.639494Z",
     "shell.execute_reply": "2024-02-06T22:19:16.638428Z"
    },
    "nbsphinx": "hidden",
    "papermill": {
     "duration": 0.012757,
     "end_time": "2024-02-06T22:19:16.643140",
     "exception": false,
     "start_time": "2024-02-06T22:19:16.630383",
     "status": "completed"
    },
    "tags": [
     "parameters"
    ]
   },
   "outputs": [],
   "source": [
    "func_name = \"TbAbs\"\n",
    "\n",
    "positive_prior = False\n"
   ]
  },
  {
   "cell_type": "code",
   "execution_count": 3,
   "id": "2d98190e",
   "metadata": {
    "execution": {
     "iopub.execute_input": "2024-02-06T22:19:16.649068Z",
     "iopub.status.busy": "2024-02-06T22:19:16.648759Z",
     "iopub.status.idle": "2024-02-06T22:19:16.653530Z",
     "shell.execute_reply": "2024-02-06T22:19:16.652416Z"
    },
    "papermill": {
     "duration": 0.011486,
     "end_time": "2024-02-06T22:19:16.656917",
     "exception": false,
     "start_time": "2024-02-06T22:19:16.645431",
     "status": "completed"
    },
    "tags": [
     "injected-parameters"
    ]
   },
   "outputs": [],
   "source": [
    "# Parameters\n",
    "func_name = \"Gamma\"\n",
    "positive_prior = True\n"
   ]
  },
  {
   "cell_type": "code",
   "execution_count": 4,
   "id": "f80dd931",
   "metadata": {
    "execution": {
     "iopub.execute_input": "2024-02-06T22:19:16.662863Z",
     "iopub.status.busy": "2024-02-06T22:19:16.662555Z",
     "iopub.status.idle": "2024-02-06T22:19:16.670206Z",
     "shell.execute_reply": "2024-02-06T22:19:16.669151Z"
    },
    "lines_to_next_cell": 0,
    "nbsphinx": "hidden",
    "papermill": {
     "duration": 0.014379,
     "end_time": "2024-02-06T22:19:16.673547",
     "exception": false,
     "start_time": "2024-02-06T22:19:16.659168",
     "status": "completed"
    },
    "tags": []
   },
   "outputs": [],
   "source": [
    "func = _known_functions[func_name]()\n",
    "\n",
    "if not positive_prior:\n",
    "\n",
    "\tenergy_grid = np.linspace(-5,5,1000)\n",
    "\n",
    "else:\n",
    "    \n",
    "    energy_grid = np.linspace(0,1,1000)\n",
    "    \n",
    "    \n",
    "    \n",
    "    \n",
    "blue = \"#4152E3\"\n",
    "red = \"#E3414B\"\n",
    "green = \"#41E39E\""
   ]
  },
  {
   "cell_type": "markdown",
   "id": "ba6a2be4",
   "metadata": {
    "lines_to_next_cell": 0,
    "papermill": {
     "duration": 0.0023,
     "end_time": "2024-02-06T22:19:16.678106",
     "exception": false,
     "start_time": "2024-02-06T22:19:16.675806",
     "status": "completed"
    },
    "tags": []
   },
   "source": [
    "## Description"
   ]
  },
  {
   "cell_type": "code",
   "execution_count": 5,
   "id": "04c2211a",
   "metadata": {
    "execution": {
     "iopub.execute_input": "2024-02-06T22:19:16.684171Z",
     "iopub.status.busy": "2024-02-06T22:19:16.683859Z",
     "iopub.status.idle": "2024-02-06T22:19:16.694023Z",
     "shell.execute_reply": "2024-02-06T22:19:16.692635Z"
    },
    "papermill": {
     "duration": 0.017269,
     "end_time": "2024-02-06T22:19:16.697595",
     "exception": false,
     "start_time": "2024-02-06T22:19:16.680326",
     "status": "completed"
    },
    "tags": []
   },
   "outputs": [
    {
     "data": {
      "text/html": [
       "<ul>\n",
       "\n",
       "<li>description: A gamma distribution function</li>\n",
       "\n",
       "<li>formula: $ f(x, \\alpha, \\beta)=\\frac{\\beta^\\alpha x^{\\alpha-1} e^{-\\beta x}}{\\Gamma(\\alpha)}$</li>\n",
       "\n",
       "<li>parameters: \n",
       "<ul>\n",
       "\n",
       "<li>alpha: \n",
       "<ul>\n",
       "\n",
       "<li>value: 0.5</li>\n",
       "\n",
       "<li>desc: first shape parameter</li>\n",
       "\n",
       "<li>min_value: 0.0</li>\n",
       "\n",
       "<li>max_value: None</li>\n",
       "\n",
       "<li>unit: </li>\n",
       "\n",
       "<li>is_normalization: False</li>\n",
       "\n",
       "<li>delta: 0.05</li>\n",
       "\n",
       "<li>free: True</li>\n",
       "\n",
       "</ul>\n",
       "\n",
       "</li>\n",
       "\n",
       "<li>beta: \n",
       "<ul>\n",
       "\n",
       "<li>value: 1.0</li>\n",
       "\n",
       "<li>desc: second shape parameter</li>\n",
       "\n",
       "<li>min_value: 0.0</li>\n",
       "\n",
       "<li>max_value: None</li>\n",
       "\n",
       "<li>unit: </li>\n",
       "\n",
       "<li>is_normalization: False</li>\n",
       "\n",
       "<li>delta: 0.1</li>\n",
       "\n",
       "<li>free: True</li>\n",
       "\n",
       "</ul>\n",
       "\n",
       "</li>\n",
       "\n",
       "</ul>\n",
       "\n",
       "</li>\n",
       "\n",
       "</ul>\n"
      ],
      "text/plain": [
       "  * description: A gamma distribution function\n",
       "  * formula: $ f(x, \\alpha, \\beta)=\\frac{\\beta^\\alpha x^{\\alpha-1} e^{-\\beta x}}{\\Gamma(\\alpha)}$\n",
       "  * parameters:\n",
       "    * alpha:\n",
       "      * value: 0.5\n",
       "      * desc: first shape parameter\n",
       "      * min_value: 0.0\n",
       "      * max_value: null\n",
       "      * unit: ''\n",
       "      * is_normalization: false\n",
       "      * delta: 0.05\n",
       "      * free: true\n",
       "    * beta:\n",
       "      * value: 1.0\n",
       "      * desc: second shape parameter\n",
       "      * min_value: 0.0\n",
       "      * max_value: null\n",
       "      * unit: ''\n",
       "      * is_normalization: false\n",
       "      * delta: 0.1\n",
       "      * free: true"
      ]
     },
     "metadata": {},
     "output_type": "display_data"
    }
   ],
   "source": [
    "func.display()"
   ]
  },
  {
   "cell_type": "markdown",
   "id": "7efdfbd0",
   "metadata": {
    "papermill": {
     "duration": 0.002592,
     "end_time": "2024-02-06T22:19:16.702766",
     "exception": false,
     "start_time": "2024-02-06T22:19:16.700174",
     "status": "completed"
    },
    "tags": []
   },
   "source": [
    "## Shape \n",
    "\n",
    "The shape of the function. \n",
    "\n",
    "*If this is not a photon model but a prior or linear function then ignore the units as these docs are auto-generated*"
   ]
  },
  {
   "cell_type": "code",
   "execution_count": 6,
   "id": "82b64ce3",
   "metadata": {
    "execution": {
     "iopub.execute_input": "2024-02-06T22:19:16.709258Z",
     "iopub.status.busy": "2024-02-06T22:19:16.708893Z",
     "iopub.status.idle": "2024-02-06T22:19:16.914791Z",
     "shell.execute_reply": "2024-02-06T22:19:16.913655Z"
    },
    "papermill": {
     "duration": 0.213123,
     "end_time": "2024-02-06T22:19:16.918387",
     "exception": false,
     "start_time": "2024-02-06T22:19:16.705264",
     "status": "completed"
    },
    "tags": [
     "nbsphinx-thumbnail"
    ]
   },
   "outputs": [
    {
     "data": {
      "text/plain": [
       "Text(0, 0.5, 'probability')"
      ]
     },
     "execution_count": 6,
     "metadata": {},
     "output_type": "execute_result"
    },
    {
     "data": {
      "image/png": "[encoded data removed]",
      "text/plain": [
       "<Figure size 1040x910 with 1 Axes>"
      ]
     },
     "metadata": {},
     "output_type": "display_data"
    }
   ],
   "source": [
    "fig, ax = plt.subplots()\n",
    "\n",
    "\n",
    "ax.plot(energy_grid, func(energy_grid), color=blue, lw=3)\n",
    "\n",
    "ax.set_xlabel(\"x\")\n",
    "ax.set_ylabel(\"probability\")\n"
   ]
  },
  {
   "cell_type": "markdown",
   "id": "cf431f3f",
   "metadata": {
    "papermill": {
     "duration": 0.002976,
     "end_time": "2024-02-06T22:19:16.924524",
     "exception": false,
     "start_time": "2024-02-06T22:19:16.921548",
     "status": "completed"
    },
    "tags": []
   },
   "source": [
    "## Random Number Generation\n",
    "\n",
    "This is how we can generate random numbers from the prior.\n"
   ]
  },
  {
   "cell_type": "code",
   "execution_count": 7,
   "id": "394e0c11",
   "metadata": {
    "execution": {
     "iopub.execute_input": "2024-02-06T22:19:16.932472Z",
     "iopub.status.busy": "2024-02-06T22:19:16.931928Z",
     "iopub.status.idle": "2024-02-06T22:19:18.046835Z",
     "shell.execute_reply": "2024-02-06T22:19:18.045640Z"
    },
    "papermill": {
     "duration": 1.123732,
     "end_time": "2024-02-06T22:19:18.050879",
     "exception": false,
     "start_time": "2024-02-06T22:19:16.927147",
     "status": "completed"
    },
    "tags": []
   },
   "outputs": [
    {
     "data": {
      "text/plain": [
       "Text(0, 0.5, 'N')"
      ]
     },
     "execution_count": 7,
     "metadata": {},
     "output_type": "execute_result"
    },
    {
     "data": {
      "image/png": "[encoded data removed]",
      "text/plain": [
       "<Figure size 1040x910 with 1 Axes>"
      ]
     },
     "metadata": {},
     "output_type": "display_data"
    }
   ],
   "source": [
    "\n",
    "\n",
    "u = np.random.uniform(0,1, size=5000)\n",
    "\n",
    "draws = [func.from_unit_cube(x) for x in u]\n",
    "\n",
    "\n",
    "fig, ax = plt.subplots()\n",
    "\n",
    "\n",
    "ax.hist(draws, color=green, bins=50)\n",
    "\n",
    "ax.set_xlabel(\"value\")\n",
    "ax.set_ylabel(\"N\")\n",
    "\n"
   ]
  }
 ],
 "metadata": {
  "jupytext": {
   "formats": "ipynb,md"
  },
  "kernelspec": {
   "display_name": "Python 3 (ipykernel)",
   "language": "python",
   "name": "python3"
  },
  "language_info": {
   "codemirror_mode": {
    "name": "ipython",
    "version": 3
   },
   "file_extension": ".py",
   "mimetype": "text/x-python",
   "name": "python",
   "nbconvert_exporter": "python",
   "pygments_lexer": "ipython3",
   "version": "3.9.18"
  },
  "papermill": {
   "default_parameters": {},
   "duration": 5.26998,
   "end_time": "2024-02-06T22:19:18.586856",
   "environment_variables": {},
   "exception": null,
   "input_path": "Gamma.ipynb",
   "output_path": "/Users/runner/work/astromodels/astromodels/docs/notebooks/Gamma.ipynb",
   "parameters": {
    "func_name": "Gamma",
    "positive_prior": true
   },
   "start_time": "2024-02-06T22:19:13.316876",
   "version": "2.5.0"
  }
 },
 "nbformat": 4,
 "nbformat_minor": 5
}
