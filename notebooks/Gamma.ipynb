{
 "cells": [
  {
   "cell_type": "markdown",
   "id": "dfa8ce82",
   "metadata": {
    "papermill": {
     "duration": 0.008442,
     "end_time": "2025-05-21T19:18:57.408479",
     "exception": false,
     "start_time": "2025-05-21T19:18:57.400037",
     "status": "completed"
    },
    "tags": []
   },
   "source": [
    "# Gamma"
   ]
  },
  {
   "cell_type": "code",
   "execution_count": 1,
   "id": "419605d6",
   "metadata": {
    "execution": {
     "iopub.execute_input": "2025-05-21T19:18:57.422236Z",
     "iopub.status.busy": "2025-05-21T19:18:57.421598Z",
     "iopub.status.idle": "2025-05-21T19:18:58.914152Z",
     "shell.execute_reply": "2025-05-21T19:18:58.913583Z"
    },
    "nbsphinx": "hidden",
    "papermill": {
     "duration": 1.500951,
     "end_time": "2025-05-21T19:18:58.915595",
     "exception": false,
     "start_time": "2025-05-21T19:18:57.414644",
     "status": "completed"
    },
    "tags": []
   },
   "outputs": [],
   "source": [
    "%%capture\n",
    "\n",
    "import numpy as np\n",
    "\n",
    "import matplotlib.pyplot as plt\n",
    "\n",
    "import warnings\n",
    "warnings.simplefilter(\"ignore\")\n",
    "\n",
    "from astromodels.functions.function import _known_functions\n",
    "\n",
    "\n",
    "from jupyterthemes import jtplot\n",
    "jtplot.style(context=\"talk\", fscale=1, ticks=True, grid=False)\n",
    "%matplotlib inline"
   ]
  },
  {
   "cell_type": "code",
   "execution_count": 2,
   "id": "cb63705c",
   "metadata": {
    "execution": {
     "iopub.execute_input": "2025-05-21T19:18:58.918739Z",
     "iopub.status.busy": "2025-05-21T19:18:58.918404Z",
     "iopub.status.idle": "2025-05-21T19:18:58.925749Z",
     "shell.execute_reply": "2025-05-21T19:18:58.925384Z"
    },
    "nbsphinx": "hidden",
    "papermill": {
     "duration": 0.010037,
     "end_time": "2025-05-21T19:18:58.926909",
     "exception": false,
     "start_time": "2025-05-21T19:18:58.916872",
     "status": "completed"
    },
    "tags": [
     "parameters"
    ]
   },
   "outputs": [],
   "source": [
    "func_name = \"TbAbs\"\n",
    "\n",
    "positive_prior = False\n"
   ]
  },
  {
   "cell_type": "code",
   "execution_count": 3,
   "id": "656c8ae4",
   "metadata": {
    "execution": {
     "iopub.execute_input": "2025-05-21T19:18:58.929689Z",
     "iopub.status.busy": "2025-05-21T19:18:58.929534Z",
     "iopub.status.idle": "2025-05-21T19:18:58.937481Z",
     "shell.execute_reply": "2025-05-21T19:18:58.937098Z"
    },
    "papermill": {
     "duration": 0.010545,
     "end_time": "2025-05-21T19:18:58.938614",
     "exception": false,
     "start_time": "2025-05-21T19:18:58.928069",
     "status": "completed"
    },
    "tags": [
     "injected-parameters"
    ]
   },
   "outputs": [],
   "source": [
    "# Parameters\n",
    "func_name = \"Gamma\"\n",
    "positive_prior = True\n"
   ]
  },
  {
   "cell_type": "code",
   "execution_count": 4,
   "id": "45358237",
   "metadata": {
    "execution": {
     "iopub.execute_input": "2025-05-21T19:18:58.941266Z",
     "iopub.status.busy": "2025-05-21T19:18:58.941114Z",
     "iopub.status.idle": "2025-05-21T19:18:58.950319Z",
     "shell.execute_reply": "2025-05-21T19:18:58.949890Z"
    },
    "lines_to_next_cell": 0,
    "nbsphinx": "hidden",
    "papermill": {
     "duration": 0.011859,
     "end_time": "2025-05-21T19:18:58.951527",
     "exception": false,
     "start_time": "2025-05-21T19:18:58.939668",
     "status": "completed"
    },
    "tags": []
   },
   "outputs": [],
   "source": [
    "func = _known_functions[func_name]()\n",
    "\n",
    "if not positive_prior:\n",
    "\n",
    "\tenergy_grid = np.linspace(-5,5,1000)\n",
    "\n",
    "else:\n",
    "    \n",
    "    energy_grid = np.linspace(0,1,1000)\n",
    "    \n",
    "    \n",
    "    \n",
    "    \n",
    "blue = \"#4152E3\"\n",
    "red = \"#E3414B\"\n",
    "green = \"#41E39E\""
   ]
  },
  {
   "cell_type": "markdown",
   "id": "1978fb83",
   "metadata": {
    "lines_to_next_cell": 0,
    "papermill": {
     "duration": 0.001148,
     "end_time": "2025-05-21T19:18:58.953992",
     "exception": false,
     "start_time": "2025-05-21T19:18:58.952844",
     "status": "completed"
    },
    "tags": []
   },
   "source": [
    "## Description"
   ]
  },
  {
   "cell_type": "code",
   "execution_count": 5,
   "id": "312df543",
   "metadata": {
    "execution": {
     "iopub.execute_input": "2025-05-21T19:18:58.956889Z",
     "iopub.status.busy": "2025-05-21T19:18:58.956731Z",
     "iopub.status.idle": "2025-05-21T19:18:58.960804Z",
     "shell.execute_reply": "2025-05-21T19:18:58.960304Z"
    },
    "papermill": {
     "duration": 0.006711,
     "end_time": "2025-05-21T19:18:58.961907",
     "exception": false,
     "start_time": "2025-05-21T19:18:58.955196",
     "status": "completed"
    },
    "tags": []
   },
   "outputs": [
    {
     "data": {
      "text/html": [
       "<ul>\n",
       "\n",
       "<li>description: A gamma distribution function</li>\n",
       "\n",
       "<li>formula: $ f(x, \\alpha, \\beta)=\\frac{\\beta^\\alpha x^{\\alpha-1} e^{-\\beta x}}{\\Gamma(\\alpha)}$</li>\n",
       "\n",
       "<li>parameters: \n",
       "<ul>\n",
       "\n",
       "<li>alpha: \n",
       "<ul>\n",
       "\n",
       "<li>value: 0.5</li>\n",
       "\n",
       "<li>desc: first shape parameter</li>\n",
       "\n",
       "<li>min_value: 0.0</li>\n",
       "\n",
       "<li>max_value: None</li>\n",
       "\n",
       "<li>unit: </li>\n",
       "\n",
       "<li>is_normalization: False</li>\n",
       "\n",
       "<li>delta: 0.05</li>\n",
       "\n",
       "<li>free: True</li>\n",
       "\n",
       "</ul>\n",
       "\n",
       "</li>\n",
       "\n",
       "<li>beta: \n",
       "<ul>\n",
       "\n",
       "<li>value: 1.0</li>\n",
       "\n",
       "<li>desc: second shape parameter</li>\n",
       "\n",
       "<li>min_value: 0.0</li>\n",
       "\n",
       "<li>max_value: None</li>\n",
       "\n",
       "<li>unit: </li>\n",
       "\n",
       "<li>is_normalization: False</li>\n",
       "\n",
       "<li>delta: 0.1</li>\n",
       "\n",
       "<li>free: True</li>\n",
       "\n",
       "</ul>\n",
       "\n",
       "</li>\n",
       "\n",
       "</ul>\n",
       "\n",
       "</li>\n",
       "\n",
       "</ul>\n"
      ],
      "text/plain": [
       "  * description: A gamma distribution function\n",
       "  * formula: $ f(x, \\alpha, \\beta)=\\frac{\\beta^\\alpha x^{\\alpha-1} e^{-\\beta x}}{\\Gamma(\\alpha)}$\n",
       "  * parameters:\n",
       "    * alpha:\n",
       "      * value: 0.5\n",
       "      * desc: first shape parameter\n",
       "      * min_value: 0.0\n",
       "      * max_value: null\n",
       "      * unit: ''\n",
       "      * is_normalization: false\n",
       "      * delta: 0.05\n",
       "      * free: true\n",
       "    * beta:\n",
       "      * value: 1.0\n",
       "      * desc: second shape parameter\n",
       "      * min_value: 0.0\n",
       "      * max_value: null\n",
       "      * unit: ''\n",
       "      * is_normalization: false\n",
       "      * delta: 0.1\n",
       "      * free: true"
      ]
     },
     "metadata": {},
     "output_type": "display_data"
    }
   ],
   "source": [
    "func.display()"
   ]
  },
  {
   "cell_type": "markdown",
   "id": "e894ac28",
   "metadata": {
    "papermill": {
     "duration": 0.001124,
     "end_time": "2025-05-21T19:18:58.964229",
     "exception": false,
     "start_time": "2025-05-21T19:18:58.963105",
     "status": "completed"
    },
    "tags": []
   },
   "source": [
    "## Shape \n",
    "\n",
    "The shape of the function. \n",
    "\n",
    "*If this is not a photon model but a prior or linear function then ignore the units as these docs are auto-generated*"
   ]
  },
  {
   "cell_type": "code",
   "execution_count": 6,
   "id": "ca023523",
   "metadata": {
    "execution": {
     "iopub.execute_input": "2025-05-21T19:18:58.966963Z",
     "iopub.status.busy": "2025-05-21T19:18:58.966826Z",
     "iopub.status.idle": "2025-05-21T19:18:59.046467Z",
     "shell.execute_reply": "2025-05-21T19:18:59.046146Z"
    },
    "papermill": {
     "duration": 0.082305,
     "end_time": "2025-05-21T19:18:59.047695",
     "exception": false,
     "start_time": "2025-05-21T19:18:58.965390",
     "status": "completed"
    },
    "tags": [
     "nbsphinx-thumbnail"
    ]
   },
   "outputs": [
    {
     "data": {
      "text/plain": [
       "Text(0, 0.5, 'probability')"
      ]
     },
     "execution_count": 6,
     "metadata": {},
     "output_type": "execute_result"
    },
    {
     "data": {
      "image/png": "[encoded data removed]",
      "text/plain": [
       "<Figure size 1040x910 with 1 Axes>"
      ]
     },
     "metadata": {},
     "output_type": "display_data"
    }
   ],
   "source": [
    "fig, ax = plt.subplots()\n",
    "\n",
    "\n",
    "ax.plot(energy_grid, func(energy_grid), color=blue, lw=3)\n",
    "\n",
    "ax.set_xlabel(\"x\")\n",
    "ax.set_ylabel(\"probability\")\n"
   ]
  },
  {
   "cell_type": "markdown",
   "id": "6785da21",
   "metadata": {
    "papermill": {
     "duration": 0.002354,
     "end_time": "2025-05-21T19:18:59.051681",
     "exception": false,
     "start_time": "2025-05-21T19:18:59.049327",
     "status": "completed"
    },
    "tags": []
   },
   "source": [
    "## Random Number Generation\n",
    "\n",
    "This is how we can generate random numbers from the prior.\n"
   ]
  },
  {
   "cell_type": "code",
   "execution_count": 7,
   "id": "0c17e09a",
   "metadata": {
    "execution": {
     "iopub.execute_input": "2025-05-21T19:18:59.055263Z",
     "iopub.status.busy": "2025-05-21T19:18:59.055110Z",
     "iopub.status.idle": "2025-05-21T19:18:59.376123Z",
     "shell.execute_reply": "2025-05-21T19:18:59.375705Z"
    },
    "papermill": {
     "duration": 0.324327,
     "end_time": "2025-05-21T19:18:59.377438",
     "exception": false,
     "start_time": "2025-05-21T19:18:59.053111",
     "status": "completed"
    },
    "tags": []
   },
   "outputs": [
    {
     "data": {
      "text/plain": [
       "Text(0, 0.5, 'N')"
      ]
     },
     "execution_count": 7,
     "metadata": {},
     "output_type": "execute_result"
    },
    {
     "data": {
      "image/png": "[encoded data removed]",
      "text/plain": [
       "<Figure size 1040x910 with 1 Axes>"
      ]
     },
     "metadata": {},
     "output_type": "display_data"
    }
   ],
   "source": [
    "\n",
    "\n",
    "u = np.random.uniform(0,1, size=5000)\n",
    "\n",
    "draws = [func.from_unit_cube(x) for x in u]\n",
    "\n",
    "\n",
    "fig, ax = plt.subplots()\n",
    "\n",
    "\n",
    "ax.hist(draws, color=green, bins=50)\n",
    "\n",
    "ax.set_xlabel(\"value\")\n",
    "ax.set_ylabel(\"N\")\n",
    "\n"
   ]
  }
 ],
 "metadata": {
  "jupytext": {
   "formats": "ipynb,md"
  },
  "kernelspec": {
   "display_name": "Python 3 (ipykernel)",
   "language": "python",
   "name": "python3"
  },
  "language_info": {
   "codemirror_mode": {
    "name": "ipython",
    "version": 3
   },
   "file_extension": ".py",
   "mimetype": "text/x-python",
   "name": "python",
   "nbconvert_exporter": "python",
   "pygments_lexer": "ipython3",
   "version": "3.9.13"
  },
  "papermill": {
   "default_parameters": {},
   "duration": 3.207579,
   "end_time": "2025-05-21T19:18:59.830331",
   "environment_variables": {},
   "exception": null,
   "input_path": "Gamma.ipynb",
   "output_path": "/Users/runner/work/astromodels/astromodels/docs/notebooks/Gamma.ipynb",
   "parameters": {
    "func_name": "Gamma",
    "positive_prior": true
   },
   "start_time": "2025-05-21T19:18:56.622752",
   "version": "2.6.0"
  }
 },
 "nbformat": 4,
 "nbformat_minor": 5
}
