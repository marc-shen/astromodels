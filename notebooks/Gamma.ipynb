{
 "cells": [
  {
   "cell_type": "markdown",
   "id": "0d361abe",
   "metadata": {
    "papermill": {
     "duration": 0.01063,
     "end_time": "2024-09-09T18:56:34.925571",
     "exception": false,
     "start_time": "2024-09-09T18:56:34.914941",
     "status": "completed"
    },
    "tags": []
   },
   "source": [
    "# Gamma"
   ]
  },
  {
   "cell_type": "code",
   "execution_count": 1,
   "id": "4908f736",
   "metadata": {
    "execution": {
     "iopub.execute_input": "2024-09-09T18:56:34.939551Z",
     "iopub.status.busy": "2024-09-09T18:56:34.938890Z",
     "iopub.status.idle": "2024-09-09T18:56:36.367455Z",
     "shell.execute_reply": "2024-09-09T18:56:36.366880Z"
    },
    "nbsphinx": "hidden",
    "papermill": {
     "duration": 1.436918,
     "end_time": "2024-09-09T18:56:36.369064",
     "exception": false,
     "start_time": "2024-09-09T18:56:34.932146",
     "status": "completed"
    },
    "tags": []
   },
   "outputs": [],
   "source": [
    "%%capture\n",
    "\n",
    "import numpy as np\n",
    "\n",
    "import matplotlib.pyplot as plt\n",
    "\n",
    "import warnings\n",
    "warnings.simplefilter(\"ignore\")\n",
    "\n",
    "from astromodels.functions.function import _known_functions\n",
    "\n",
    "\n",
    "from jupyterthemes import jtplot\n",
    "jtplot.style(context=\"talk\", fscale=1, ticks=True, grid=False)\n",
    "%matplotlib inline"
   ]
  },
  {
   "cell_type": "code",
   "execution_count": 2,
   "id": "ac14c155",
   "metadata": {
    "execution": {
     "iopub.execute_input": "2024-09-09T18:56:36.372320Z",
     "iopub.status.busy": "2024-09-09T18:56:36.371948Z",
     "iopub.status.idle": "2024-09-09T18:56:36.380416Z",
     "shell.execute_reply": "2024-09-09T18:56:36.379955Z"
    },
    "nbsphinx": "hidden",
    "papermill": {
     "duration": 0.011446,
     "end_time": "2024-09-09T18:56:36.381761",
     "exception": false,
     "start_time": "2024-09-09T18:56:36.370315",
     "status": "completed"
    },
    "tags": [
     "parameters"
    ]
   },
   "outputs": [],
   "source": [
    "func_name = \"TbAbs\"\n",
    "\n",
    "positive_prior = False\n"
   ]
  },
  {
   "cell_type": "code",
   "execution_count": 3,
   "id": "cd8fade6",
   "metadata": {
    "execution": {
     "iopub.execute_input": "2024-09-09T18:56:36.384728Z",
     "iopub.status.busy": "2024-09-09T18:56:36.384583Z",
     "iopub.status.idle": "2024-09-09T18:56:36.390044Z",
     "shell.execute_reply": "2024-09-09T18:56:36.389643Z"
    },
    "papermill": {
     "duration": 0.008365,
     "end_time": "2024-09-09T18:56:36.391292",
     "exception": false,
     "start_time": "2024-09-09T18:56:36.382927",
     "status": "completed"
    },
    "tags": [
     "injected-parameters"
    ]
   },
   "outputs": [],
   "source": [
    "# Parameters\n",
    "func_name = \"Gamma\"\n",
    "positive_prior = True\n"
   ]
  },
  {
   "cell_type": "code",
   "execution_count": 4,
   "id": "d5f0167f",
   "metadata": {
    "execution": {
     "iopub.execute_input": "2024-09-09T18:56:36.393977Z",
     "iopub.status.busy": "2024-09-09T18:56:36.393832Z",
     "iopub.status.idle": "2024-09-09T18:56:36.402720Z",
     "shell.execute_reply": "2024-09-09T18:56:36.402318Z"
    },
    "lines_to_next_cell": 0,
    "nbsphinx": "hidden",
    "papermill": {
     "duration": 0.011722,
     "end_time": "2024-09-09T18:56:36.404046",
     "exception": false,
     "start_time": "2024-09-09T18:56:36.392324",
     "status": "completed"
    },
    "tags": []
   },
   "outputs": [],
   "source": [
    "func = _known_functions[func_name]()\n",
    "\n",
    "if not positive_prior:\n",
    "\n",
    "\tenergy_grid = np.linspace(-5,5,1000)\n",
    "\n",
    "else:\n",
    "    \n",
    "    energy_grid = np.linspace(0,1,1000)\n",
    "    \n",
    "    \n",
    "    \n",
    "    \n",
    "blue = \"#4152E3\"\n",
    "red = \"#E3414B\"\n",
    "green = \"#41E39E\""
   ]
  },
  {
   "cell_type": "markdown",
   "id": "89f5ef27",
   "metadata": {
    "lines_to_next_cell": 0,
    "papermill": {
     "duration": 0.001022,
     "end_time": "2024-09-09T18:56:36.406146",
     "exception": false,
     "start_time": "2024-09-09T18:56:36.405124",
     "status": "completed"
    },
    "tags": []
   },
   "source": [
    "## Description"
   ]
  },
  {
   "cell_type": "code",
   "execution_count": 5,
   "id": "77b56cb3",
   "metadata": {
    "execution": {
     "iopub.execute_input": "2024-09-09T18:56:36.408724Z",
     "iopub.status.busy": "2024-09-09T18:56:36.408581Z",
     "iopub.status.idle": "2024-09-09T18:56:36.412378Z",
     "shell.execute_reply": "2024-09-09T18:56:36.411947Z"
    },
    "papermill": {
     "duration": 0.006435,
     "end_time": "2024-09-09T18:56:36.413550",
     "exception": false,
     "start_time": "2024-09-09T18:56:36.407115",
     "status": "completed"
    },
    "tags": []
   },
   "outputs": [
    {
     "data": {
      "text/html": [
       "<ul>\n",
       "\n",
       "<li>description: A gamma distribution function</li>\n",
       "\n",
       "<li>formula: $ f(x, \\alpha, \\beta)=\\frac{\\beta^\\alpha x^{\\alpha-1} e^{-\\beta x}}{\\Gamma(\\alpha)}$</li>\n",
       "\n",
       "<li>parameters: \n",
       "<ul>\n",
       "\n",
       "<li>alpha: \n",
       "<ul>\n",
       "\n",
       "<li>value: 0.5</li>\n",
       "\n",
       "<li>desc: first shape parameter</li>\n",
       "\n",
       "<li>min_value: 0.0</li>\n",
       "\n",
       "<li>max_value: None</li>\n",
       "\n",
       "<li>unit: </li>\n",
       "\n",
       "<li>is_normalization: False</li>\n",
       "\n",
       "<li>delta: 0.05</li>\n",
       "\n",
       "<li>free: True</li>\n",
       "\n",
       "</ul>\n",
       "\n",
       "</li>\n",
       "\n",
       "<li>beta: \n",
       "<ul>\n",
       "\n",
       "<li>value: 1.0</li>\n",
       "\n",
       "<li>desc: second shape parameter</li>\n",
       "\n",
       "<li>min_value: 0.0</li>\n",
       "\n",
       "<li>max_value: None</li>\n",
       "\n",
       "<li>unit: </li>\n",
       "\n",
       "<li>is_normalization: False</li>\n",
       "\n",
       "<li>delta: 0.1</li>\n",
       "\n",
       "<li>free: True</li>\n",
       "\n",
       "</ul>\n",
       "\n",
       "</li>\n",
       "\n",
       "</ul>\n",
       "\n",
       "</li>\n",
       "\n",
       "</ul>\n"
      ],
      "text/plain": [
       "  * description: A gamma distribution function\n",
       "  * formula: $ f(x, \\alpha, \\beta)=\\frac{\\beta^\\alpha x^{\\alpha-1} e^{-\\beta x}}{\\Gamma(\\alpha)}$\n",
       "  * parameters:\n",
       "    * alpha:\n",
       "      * value: 0.5\n",
       "      * desc: first shape parameter\n",
       "      * min_value: 0.0\n",
       "      * max_value: null\n",
       "      * unit: ''\n",
       "      * is_normalization: false\n",
       "      * delta: 0.05\n",
       "      * free: true\n",
       "    * beta:\n",
       "      * value: 1.0\n",
       "      * desc: second shape parameter\n",
       "      * min_value: 0.0\n",
       "      * max_value: null\n",
       "      * unit: ''\n",
       "      * is_normalization: false\n",
       "      * delta: 0.1\n",
       "      * free: true"
      ]
     },
     "metadata": {},
     "output_type": "display_data"
    }
   ],
   "source": [
    "func.display()"
   ]
  },
  {
   "cell_type": "markdown",
   "id": "f780c52e",
   "metadata": {
    "papermill": {
     "duration": 0.0011,
     "end_time": "2024-09-09T18:56:36.415852",
     "exception": false,
     "start_time": "2024-09-09T18:56:36.414752",
     "status": "completed"
    },
    "tags": []
   },
   "source": [
    "## Shape \n",
    "\n",
    "The shape of the function. \n",
    "\n",
    "*If this is not a photon model but a prior or linear function then ignore the units as these docs are auto-generated*"
   ]
  },
  {
   "cell_type": "code",
   "execution_count": 6,
   "id": "79c2c6a1",
   "metadata": {
    "execution": {
     "iopub.execute_input": "2024-09-09T18:56:36.418659Z",
     "iopub.status.busy": "2024-09-09T18:56:36.418509Z",
     "iopub.status.idle": "2024-09-09T18:56:36.518554Z",
     "shell.execute_reply": "2024-09-09T18:56:36.518206Z"
    },
    "papermill": {
     "duration": 0.103114,
     "end_time": "2024-09-09T18:56:36.520005",
     "exception": false,
     "start_time": "2024-09-09T18:56:36.416891",
     "status": "completed"
    },
    "tags": [
     "nbsphinx-thumbnail"
    ]
   },
   "outputs": [
    {
     "data": {
      "text/plain": [
       "Text(0, 0.5, 'probability')"
      ]
     },
     "execution_count": 6,
     "metadata": {},
     "output_type": "execute_result"
    },
    {
     "data": {
      "image/png": "[encoded data removed]",
      "text/plain": [
       "<Figure size 1040x910 with 1 Axes>"
      ]
     },
     "metadata": {},
     "output_type": "display_data"
    }
   ],
   "source": [
    "fig, ax = plt.subplots()\n",
    "\n",
    "\n",
    "ax.plot(energy_grid, func(energy_grid), color=blue, lw=3)\n",
    "\n",
    "ax.set_xlabel(\"x\")\n",
    "ax.set_ylabel(\"probability\")\n"
   ]
  },
  {
   "cell_type": "markdown",
   "id": "412712b9",
   "metadata": {
    "papermill": {
     "duration": 0.001527,
     "end_time": "2024-09-09T18:56:36.523163",
     "exception": false,
     "start_time": "2024-09-09T18:56:36.521636",
     "status": "completed"
    },
    "tags": []
   },
   "source": [
    "## Random Number Generation\n",
    "\n",
    "This is how we can generate random numbers from the prior.\n"
   ]
  },
  {
   "cell_type": "code",
   "execution_count": 7,
   "id": "a9a6cde4",
   "metadata": {
    "execution": {
     "iopub.execute_input": "2024-09-09T18:56:36.526541Z",
     "iopub.status.busy": "2024-09-09T18:56:36.526401Z",
     "iopub.status.idle": "2024-09-09T18:56:36.859506Z",
     "shell.execute_reply": "2024-09-09T18:56:36.859099Z"
    },
    "papermill": {
     "duration": 0.336364,
     "end_time": "2024-09-09T18:56:36.860828",
     "exception": false,
     "start_time": "2024-09-09T18:56:36.524464",
     "status": "completed"
    },
    "tags": []
   },
   "outputs": [
    {
     "data": {
      "text/plain": [
       "Text(0, 0.5, 'N')"
      ]
     },
     "execution_count": 7,
     "metadata": {},
     "output_type": "execute_result"
    },
    {
     "data": {
      "image/png": "[encoded data removed]",
      "text/plain": [
       "<Figure size 1040x910 with 1 Axes>"
      ]
     },
     "metadata": {},
     "output_type": "display_data"
    }
   ],
   "source": [
    "\n",
    "\n",
    "u = np.random.uniform(0,1, size=5000)\n",
    "\n",
    "draws = [func.from_unit_cube(x) for x in u]\n",
    "\n",
    "\n",
    "fig, ax = plt.subplots()\n",
    "\n",
    "\n",
    "ax.hist(draws, color=green, bins=50)\n",
    "\n",
    "ax.set_xlabel(\"value\")\n",
    "ax.set_ylabel(\"N\")\n",
    "\n"
   ]
  }
 ],
 "metadata": {
  "jupytext": {
   "formats": "ipynb,md"
  },
  "kernelspec": {
   "display_name": "Python 3 (ipykernel)",
   "language": "python",
   "name": "python3"
  },
  "language_info": {
   "codemirror_mode": {
    "name": "ipython",
    "version": 3
   },
   "file_extension": ".py",
   "mimetype": "text/x-python",
   "name": "python",
   "nbconvert_exporter": "python",
   "pygments_lexer": "ipython3",
   "version": "3.9.13"
  },
  "papermill": {
   "default_parameters": {},
   "duration": 2.854538,
   "end_time": "2024-09-09T18:56:37.198910",
   "environment_variables": {},
   "exception": null,
   "input_path": "Gamma.ipynb",
   "output_path": "/Users/runner/work/astromodels/astromodels/docs/notebooks/Gamma.ipynb",
   "parameters": {
    "func_name": "Gamma",
    "positive_prior": true
   },
   "start_time": "2024-09-09T18:56:34.344372",
   "version": "2.6.0"
  }
 },
 "nbformat": 4,
 "nbformat_minor": 5
}
