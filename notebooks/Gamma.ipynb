{
 "cells": [
  {
   "cell_type": "markdown",
   "id": "d6d00ad3",
   "metadata": {
    "papermill": {
     "duration": 0.009848,
     "end_time": "2024-05-08T21:49:32.677065",
     "exception": false,
     "start_time": "2024-05-08T21:49:32.667217",
     "status": "completed"
    },
    "tags": []
   },
   "source": [
    "# Gamma"
   ]
  },
  {
   "cell_type": "code",
   "execution_count": 1,
   "id": "4e50f2a0",
   "metadata": {
    "execution": {
     "iopub.execute_input": "2024-05-08T21:49:32.689341Z",
     "iopub.status.busy": "2024-05-08T21:49:32.688632Z",
     "iopub.status.idle": "2024-05-08T21:49:34.089534Z",
     "shell.execute_reply": "2024-05-08T21:49:34.089056Z"
    },
    "nbsphinx": "hidden",
    "papermill": {
     "duration": 1.408959,
     "end_time": "2024-05-08T21:49:34.090995",
     "exception": false,
     "start_time": "2024-05-08T21:49:32.682036",
     "status": "completed"
    },
    "tags": []
   },
   "outputs": [],
   "source": [
    "%%capture\n",
    "\n",
    "import numpy as np\n",
    "\n",
    "import matplotlib.pyplot as plt\n",
    "\n",
    "import warnings\n",
    "warnings.simplefilter(\"ignore\")\n",
    "\n",
    "from astromodels.functions.function import _known_functions\n",
    "\n",
    "\n",
    "from jupyterthemes import jtplot\n",
    "jtplot.style(context=\"talk\", fscale=1, ticks=True, grid=False)\n",
    "%matplotlib inline"
   ]
  },
  {
   "cell_type": "code",
   "execution_count": 2,
   "id": "8b3160b9",
   "metadata": {
    "execution": {
     "iopub.execute_input": "2024-05-08T21:49:34.094100Z",
     "iopub.status.busy": "2024-05-08T21:49:34.093730Z",
     "iopub.status.idle": "2024-05-08T21:49:34.101989Z",
     "shell.execute_reply": "2024-05-08T21:49:34.101630Z"
    },
    "nbsphinx": "hidden",
    "papermill": {
     "duration": 0.011041,
     "end_time": "2024-05-08T21:49:34.103231",
     "exception": false,
     "start_time": "2024-05-08T21:49:34.092190",
     "status": "completed"
    },
    "tags": [
     "parameters"
    ]
   },
   "outputs": [],
   "source": [
    "func_name = \"TbAbs\"\n",
    "\n",
    "positive_prior = False\n"
   ]
  },
  {
   "cell_type": "code",
   "execution_count": 3,
   "id": "bd190470",
   "metadata": {
    "execution": {
     "iopub.execute_input": "2024-05-08T21:49:34.105915Z",
     "iopub.status.busy": "2024-05-08T21:49:34.105774Z",
     "iopub.status.idle": "2024-05-08T21:49:34.113921Z",
     "shell.execute_reply": "2024-05-08T21:49:34.113552Z"
    },
    "papermill": {
     "duration": 0.010843,
     "end_time": "2024-05-08T21:49:34.115168",
     "exception": false,
     "start_time": "2024-05-08T21:49:34.104325",
     "status": "completed"
    },
    "tags": [
     "injected-parameters"
    ]
   },
   "outputs": [],
   "source": [
    "# Parameters\n",
    "func_name = \"Gamma\"\n",
    "positive_prior = True\n"
   ]
  },
  {
   "cell_type": "code",
   "execution_count": 4,
   "id": "be308f37",
   "metadata": {
    "execution": {
     "iopub.execute_input": "2024-05-08T21:49:34.117853Z",
     "iopub.status.busy": "2024-05-08T21:49:34.117712Z",
     "iopub.status.idle": "2024-05-08T21:49:34.125819Z",
     "shell.execute_reply": "2024-05-08T21:49:34.125449Z"
    },
    "lines_to_next_cell": 0,
    "nbsphinx": "hidden",
    "papermill": {
     "duration": 0.010902,
     "end_time": "2024-05-08T21:49:34.127111",
     "exception": false,
     "start_time": "2024-05-08T21:49:34.116209",
     "status": "completed"
    },
    "tags": []
   },
   "outputs": [],
   "source": [
    "func = _known_functions[func_name]()\n",
    "\n",
    "if not positive_prior:\n",
    "\n",
    "\tenergy_grid = np.linspace(-5,5,1000)\n",
    "\n",
    "else:\n",
    "    \n",
    "    energy_grid = np.linspace(0,1,1000)\n",
    "    \n",
    "    \n",
    "    \n",
    "    \n",
    "blue = \"#4152E3\"\n",
    "red = \"#E3414B\"\n",
    "green = \"#41E39E\""
   ]
  },
  {
   "cell_type": "markdown",
   "id": "a9c41392",
   "metadata": {
    "lines_to_next_cell": 0,
    "papermill": {
     "duration": 0.001011,
     "end_time": "2024-05-08T21:49:34.129178",
     "exception": false,
     "start_time": "2024-05-08T21:49:34.128167",
     "status": "completed"
    },
    "tags": []
   },
   "source": [
    "## Description"
   ]
  },
  {
   "cell_type": "code",
   "execution_count": 5,
   "id": "7e614f8d",
   "metadata": {
    "execution": {
     "iopub.execute_input": "2024-05-08T21:49:34.131743Z",
     "iopub.status.busy": "2024-05-08T21:49:34.131604Z",
     "iopub.status.idle": "2024-05-08T21:49:34.141224Z",
     "shell.execute_reply": "2024-05-08T21:49:34.140852Z"
    },
    "papermill": {
     "duration": 0.012311,
     "end_time": "2024-05-08T21:49:34.142456",
     "exception": false,
     "start_time": "2024-05-08T21:49:34.130145",
     "status": "completed"
    },
    "tags": []
   },
   "outputs": [
    {
     "data": {
      "text/html": [
       "<ul>\n",
       "\n",
       "<li>description: A gamma distribution function</li>\n",
       "\n",
       "<li>formula: $ f(x, \\alpha, \\beta)=\\frac{\\beta^\\alpha x^{\\alpha-1} e^{-\\beta x}}{\\Gamma(\\alpha)}$</li>\n",
       "\n",
       "<li>parameters: \n",
       "<ul>\n",
       "\n",
       "<li>alpha: \n",
       "<ul>\n",
       "\n",
       "<li>value: 0.5</li>\n",
       "\n",
       "<li>desc: first shape parameter</li>\n",
       "\n",
       "<li>min_value: 0.0</li>\n",
       "\n",
       "<li>max_value: None</li>\n",
       "\n",
       "<li>unit: </li>\n",
       "\n",
       "<li>is_normalization: False</li>\n",
       "\n",
       "<li>delta: 0.05</li>\n",
       "\n",
       "<li>free: True</li>\n",
       "\n",
       "</ul>\n",
       "\n",
       "</li>\n",
       "\n",
       "<li>beta: \n",
       "<ul>\n",
       "\n",
       "<li>value: 1.0</li>\n",
       "\n",
       "<li>desc: second shape parameter</li>\n",
       "\n",
       "<li>min_value: 0.0</li>\n",
       "\n",
       "<li>max_value: None</li>\n",
       "\n",
       "<li>unit: </li>\n",
       "\n",
       "<li>is_normalization: False</li>\n",
       "\n",
       "<li>delta: 0.1</li>\n",
       "\n",
       "<li>free: True</li>\n",
       "\n",
       "</ul>\n",
       "\n",
       "</li>\n",
       "\n",
       "</ul>\n",
       "\n",
       "</li>\n",
       "\n",
       "</ul>\n"
      ],
      "text/plain": [
       "  * description: A gamma distribution function\n",
       "  * formula: $ f(x, \\alpha, \\beta)=\\frac{\\beta^\\alpha x^{\\alpha-1} e^{-\\beta x}}{\\Gamma(\\alpha)}$\n",
       "  * parameters:\n",
       "    * alpha:\n",
       "      * value: 0.5\n",
       "      * desc: first shape parameter\n",
       "      * min_value: 0.0\n",
       "      * max_value: null\n",
       "      * unit: ''\n",
       "      * is_normalization: false\n",
       "      * delta: 0.05\n",
       "      * free: true\n",
       "    * beta:\n",
       "      * value: 1.0\n",
       "      * desc: second shape parameter\n",
       "      * min_value: 0.0\n",
       "      * max_value: null\n",
       "      * unit: ''\n",
       "      * is_normalization: false\n",
       "      * delta: 0.1\n",
       "      * free: true"
      ]
     },
     "metadata": {},
     "output_type": "display_data"
    }
   ],
   "source": [
    "func.display()"
   ]
  },
  {
   "cell_type": "markdown",
   "id": "ed7d93ba",
   "metadata": {
    "papermill": {
     "duration": 0.001117,
     "end_time": "2024-05-08T21:49:34.144773",
     "exception": false,
     "start_time": "2024-05-08T21:49:34.143656",
     "status": "completed"
    },
    "tags": []
   },
   "source": [
    "## Shape \n",
    "\n",
    "The shape of the function. \n",
    "\n",
    "*If this is not a photon model but a prior or linear function then ignore the units as these docs are auto-generated*"
   ]
  },
  {
   "cell_type": "code",
   "execution_count": 6,
   "id": "d5f9f868",
   "metadata": {
    "execution": {
     "iopub.execute_input": "2024-05-08T21:49:34.147500Z",
     "iopub.status.busy": "2024-05-08T21:49:34.147357Z",
     "iopub.status.idle": "2024-05-08T21:49:34.253538Z",
     "shell.execute_reply": "2024-05-08T21:49:34.253213Z"
    },
    "papermill": {
     "duration": 0.109137,
     "end_time": "2024-05-08T21:49:34.254994",
     "exception": false,
     "start_time": "2024-05-08T21:49:34.145857",
     "status": "completed"
    },
    "tags": [
     "nbsphinx-thumbnail"
    ]
   },
   "outputs": [
    {
     "data": {
      "text/plain": [
       "Text(0, 0.5, 'probability')"
      ]
     },
     "execution_count": 6,
     "metadata": {},
     "output_type": "execute_result"
    },
    {
     "data": {
      "image/png": "[encoded data removed]",
      "text/plain": [
       "<Figure size 1040x910 with 1 Axes>"
      ]
     },
     "metadata": {},
     "output_type": "display_data"
    }
   ],
   "source": [
    "fig, ax = plt.subplots()\n",
    "\n",
    "\n",
    "ax.plot(energy_grid, func(energy_grid), color=blue, lw=3)\n",
    "\n",
    "ax.set_xlabel(\"x\")\n",
    "ax.set_ylabel(\"probability\")\n"
   ]
  },
  {
   "cell_type": "markdown",
   "id": "d07624f5",
   "metadata": {
    "papermill": {
     "duration": 0.001494,
     "end_time": "2024-05-08T21:49:34.258082",
     "exception": false,
     "start_time": "2024-05-08T21:49:34.256588",
     "status": "completed"
    },
    "tags": []
   },
   "source": [
    "## Random Number Generation\n",
    "\n",
    "This is how we can generate random numbers from the prior.\n"
   ]
  },
  {
   "cell_type": "code",
   "execution_count": 7,
   "id": "f045b22c",
   "metadata": {
    "execution": {
     "iopub.execute_input": "2024-05-08T21:49:34.261453Z",
     "iopub.status.busy": "2024-05-08T21:49:34.261309Z",
     "iopub.status.idle": "2024-05-08T21:49:34.600269Z",
     "shell.execute_reply": "2024-05-08T21:49:34.599885Z"
    },
    "papermill": {
     "duration": 0.34232,
     "end_time": "2024-05-08T21:49:34.601681",
     "exception": false,
     "start_time": "2024-05-08T21:49:34.259361",
     "status": "completed"
    },
    "tags": []
   },
   "outputs": [
    {
     "data": {
      "text/plain": [
       "Text(0, 0.5, 'N')"
      ]
     },
     "execution_count": 7,
     "metadata": {},
     "output_type": "execute_result"
    },
    {
     "data": {
      "image/png": "[encoded data removed]",
      "text/plain": [
       "<Figure size 1040x910 with 1 Axes>"
      ]
     },
     "metadata": {},
     "output_type": "display_data"
    }
   ],
   "source": [
    "\n",
    "\n",
    "u = np.random.uniform(0,1, size=5000)\n",
    "\n",
    "draws = [func.from_unit_cube(x) for x in u]\n",
    "\n",
    "\n",
    "fig, ax = plt.subplots()\n",
    "\n",
    "\n",
    "ax.hist(draws, color=green, bins=50)\n",
    "\n",
    "ax.set_xlabel(\"value\")\n",
    "ax.set_ylabel(\"N\")\n",
    "\n"
   ]
  }
 ],
 "metadata": {
  "jupytext": {
   "formats": "ipynb,md"
  },
  "kernelspec": {
   "display_name": "Python 3 (ipykernel)",
   "language": "python",
   "name": "python3"
  },
  "language_info": {
   "codemirror_mode": {
    "name": "ipython",
    "version": 3
   },
   "file_extension": ".py",
   "mimetype": "text/x-python",
   "name": "python",
   "nbconvert_exporter": "python",
   "pygments_lexer": "ipython3",
   "version": "3.9.13"
  },
  "papermill": {
   "default_parameters": {},
   "duration": 2.964999,
   "end_time": "2024-05-08T21:49:34.944028",
   "environment_variables": {},
   "exception": null,
   "input_path": "Gamma.ipynb",
   "output_path": "/Users/runner/work/astromodels/astromodels/docs/notebooks/Gamma.ipynb",
   "parameters": {
    "func_name": "Gamma",
    "positive_prior": true
   },
   "start_time": "2024-05-08T21:49:31.979029",
   "version": "2.6.0"
  }
 },
 "nbformat": 4,
 "nbformat_minor": 5
}
