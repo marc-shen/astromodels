{
 "cells": [
  {
   "cell_type": "markdown",
   "id": "3bba5b34",
   "metadata": {
    "papermill": {
     "duration": 0.003898,
     "end_time": "2023-11-02T00:03:29.974517",
     "exception": false,
     "start_time": "2023-11-02T00:03:29.970619",
     "status": "completed"
    },
    "tags": []
   },
   "source": [
    "# Gamma"
   ]
  },
  {
   "cell_type": "code",
   "execution_count": 1,
   "id": "1085d0b7",
   "metadata": {
    "execution": {
     "iopub.execute_input": "2023-11-02T00:03:30.024887Z",
     "iopub.status.busy": "2023-11-02T00:03:30.024371Z",
     "iopub.status.idle": "2023-11-02T00:03:33.005221Z",
     "shell.execute_reply": "2023-11-02T00:03:33.002062Z"
    },
    "nbsphinx": "hidden",
    "papermill": {
     "duration": 2.989891,
     "end_time": "2023-11-02T00:03:33.009748",
     "exception": false,
     "start_time": "2023-11-02T00:03:30.019857",
     "status": "completed"
    },
    "tags": []
   },
   "outputs": [],
   "source": [
    "%%capture\n",
    "\n",
    "import numpy as np\n",
    "\n",
    "import matplotlib.pyplot as plt\n",
    "\n",
    "import warnings\n",
    "warnings.simplefilter(\"ignore\")\n",
    "\n",
    "from astromodels.functions.function import _known_functions\n",
    "\n",
    "\n",
    "from jupyterthemes import jtplot\n",
    "jtplot.style(context=\"talk\", fscale=1, ticks=True, grid=False)\n",
    "%matplotlib inline"
   ]
  },
  {
   "cell_type": "code",
   "execution_count": 2,
   "id": "7eb42833",
   "metadata": {
    "execution": {
     "iopub.execute_input": "2023-11-02T00:03:33.016912Z",
     "iopub.status.busy": "2023-11-02T00:03:33.016505Z",
     "iopub.status.idle": "2023-11-02T00:03:33.026367Z",
     "shell.execute_reply": "2023-11-02T00:03:33.024036Z"
    },
    "nbsphinx": "hidden",
    "papermill": {
     "duration": 0.017881,
     "end_time": "2023-11-02T00:03:33.030294",
     "exception": false,
     "start_time": "2023-11-02T00:03:33.012413",
     "status": "completed"
    },
    "tags": [
     "parameters"
    ]
   },
   "outputs": [],
   "source": [
    "func_name = \"TbAbs\"\n",
    "\n",
    "positive_prior = False\n"
   ]
  },
  {
   "cell_type": "code",
   "execution_count": 3,
   "id": "90a0bb3e",
   "metadata": {
    "execution": {
     "iopub.execute_input": "2023-11-02T00:03:33.036858Z",
     "iopub.status.busy": "2023-11-02T00:03:33.036473Z",
     "iopub.status.idle": "2023-11-02T00:03:33.042062Z",
     "shell.execute_reply": "2023-11-02T00:03:33.040783Z"
    },
    "papermill": {
     "duration": 0.013188,
     "end_time": "2023-11-02T00:03:33.045975",
     "exception": false,
     "start_time": "2023-11-02T00:03:33.032787",
     "status": "completed"
    },
    "tags": [
     "injected-parameters"
    ]
   },
   "outputs": [],
   "source": [
    "# Parameters\n",
    "func_name = \"Gamma\"\n",
    "positive_prior = True\n"
   ]
  },
  {
   "cell_type": "code",
   "execution_count": 4,
   "id": "55679e09",
   "metadata": {
    "execution": {
     "iopub.execute_input": "2023-11-02T00:03:33.052442Z",
     "iopub.status.busy": "2023-11-02T00:03:33.052110Z",
     "iopub.status.idle": "2023-11-02T00:03:33.059659Z",
     "shell.execute_reply": "2023-11-02T00:03:33.058482Z"
    },
    "lines_to_next_cell": 0,
    "nbsphinx": "hidden",
    "papermill": {
     "duration": 0.015387,
     "end_time": "2023-11-02T00:03:33.063727",
     "exception": false,
     "start_time": "2023-11-02T00:03:33.048340",
     "status": "completed"
    },
    "tags": []
   },
   "outputs": [],
   "source": [
    "func = _known_functions[func_name]()\n",
    "\n",
    "if not positive_prior:\n",
    "\n",
    "\tenergy_grid = np.linspace(-5,5,1000)\n",
    "\n",
    "else:\n",
    "    \n",
    "    energy_grid = np.linspace(0,1,1000)\n",
    "    \n",
    "    \n",
    "    \n",
    "    \n",
    "blue = \"#4152E3\"\n",
    "red = \"#E3414B\"\n",
    "green = \"#41E39E\""
   ]
  },
  {
   "cell_type": "markdown",
   "id": "cc8f1b00",
   "metadata": {
    "lines_to_next_cell": 0,
    "papermill": {
     "duration": 0.002546,
     "end_time": "2023-11-02T00:03:33.068724",
     "exception": false,
     "start_time": "2023-11-02T00:03:33.066178",
     "status": "completed"
    },
    "tags": []
   },
   "source": [
    "## Description"
   ]
  },
  {
   "cell_type": "code",
   "execution_count": 5,
   "id": "679ccc18",
   "metadata": {
    "execution": {
     "iopub.execute_input": "2023-11-02T00:03:33.075482Z",
     "iopub.status.busy": "2023-11-02T00:03:33.075065Z",
     "iopub.status.idle": "2023-11-02T00:03:33.086314Z",
     "shell.execute_reply": "2023-11-02T00:03:33.085101Z"
    },
    "papermill": {
     "duration": 0.019149,
     "end_time": "2023-11-02T00:03:33.090286",
     "exception": false,
     "start_time": "2023-11-02T00:03:33.071137",
     "status": "completed"
    },
    "tags": []
   },
   "outputs": [
    {
     "data": {
      "text/html": [
       "<ul>\n",
       "\n",
       "<li>description: A gamma distribution function</li>\n",
       "\n",
       "<li>formula: $ f(x, \\alpha, \\beta)=\\frac{\\beta^\\alpha x^{\\alpha-1} e^{-\\beta x}}{\\Gamma(\\alpha)}$</li>\n",
       "\n",
       "<li>parameters: \n",
       "<ul>\n",
       "\n",
       "<li>alpha: \n",
       "<ul>\n",
       "\n",
       "<li>value: 0.5</li>\n",
       "\n",
       "<li>desc: first shape parameter</li>\n",
       "\n",
       "<li>min_value: 0.0</li>\n",
       "\n",
       "<li>max_value: None</li>\n",
       "\n",
       "<li>unit: </li>\n",
       "\n",
       "<li>is_normalization: False</li>\n",
       "\n",
       "<li>delta: 0.05</li>\n",
       "\n",
       "<li>free: True</li>\n",
       "\n",
       "</ul>\n",
       "\n",
       "</li>\n",
       "\n",
       "<li>beta: \n",
       "<ul>\n",
       "\n",
       "<li>value: 1.0</li>\n",
       "\n",
       "<li>desc: second shape parameter</li>\n",
       "\n",
       "<li>min_value: 0.0</li>\n",
       "\n",
       "<li>max_value: None</li>\n",
       "\n",
       "<li>unit: </li>\n",
       "\n",
       "<li>is_normalization: False</li>\n",
       "\n",
       "<li>delta: 0.1</li>\n",
       "\n",
       "<li>free: True</li>\n",
       "\n",
       "</ul>\n",
       "\n",
       "</li>\n",
       "\n",
       "</ul>\n",
       "\n",
       "</li>\n",
       "\n",
       "</ul>\n"
      ],
      "text/plain": [
       "  * description: A gamma distribution function\n",
       "  * formula: $ f(x, \\alpha, \\beta)=\\frac{\\beta^\\alpha x^{\\alpha-1} e^{-\\beta x}}{\\Gamma(\\alpha)}$\n",
       "  * parameters:\n",
       "    * alpha:\n",
       "      * value: 0.5\n",
       "      * desc: first shape parameter\n",
       "      * min_value: 0.0\n",
       "      * max_value: null\n",
       "      * unit: ''\n",
       "      * is_normalization: false\n",
       "      * delta: 0.05\n",
       "      * free: true\n",
       "    * beta:\n",
       "      * value: 1.0\n",
       "      * desc: second shape parameter\n",
       "      * min_value: 0.0\n",
       "      * max_value: null\n",
       "      * unit: ''\n",
       "      * is_normalization: false\n",
       "      * delta: 0.1\n",
       "      * free: true"
      ]
     },
     "metadata": {},
     "output_type": "display_data"
    }
   ],
   "source": [
    "func.display()"
   ]
  },
  {
   "cell_type": "markdown",
   "id": "f9294e0b",
   "metadata": {
    "papermill": {
     "duration": 0.002778,
     "end_time": "2023-11-02T00:03:33.095884",
     "exception": false,
     "start_time": "2023-11-02T00:03:33.093106",
     "status": "completed"
    },
    "tags": []
   },
   "source": [
    "## Shape \n",
    "\n",
    "The shape of the function. \n",
    "\n",
    "*If this is not a photon model but a prior or linear function then ignore the units as these docs are auto-generated*"
   ]
  },
  {
   "cell_type": "code",
   "execution_count": 6,
   "id": "2ec2df85",
   "metadata": {
    "execution": {
     "iopub.execute_input": "2023-11-02T00:03:33.103195Z",
     "iopub.status.busy": "2023-11-02T00:03:33.102711Z",
     "iopub.status.idle": "2023-11-02T00:03:33.324635Z",
     "shell.execute_reply": "2023-11-02T00:03:33.323246Z"
    },
    "papermill": {
     "duration": 0.230327,
     "end_time": "2023-11-02T00:03:33.328914",
     "exception": false,
     "start_time": "2023-11-02T00:03:33.098587",
     "status": "completed"
    },
    "tags": [
     "nbsphinx-thumbnail"
    ]
   },
   "outputs": [
    {
     "data": {
      "text/plain": [
       "Text(0, 0.5, 'probability')"
      ]
     },
     "execution_count": 6,
     "metadata": {},
     "output_type": "execute_result"
    },
    {
     "data": {
      "image/png": "[encoded data removed]",
      "text/plain": [
       "<Figure size 1040x910 with 1 Axes>"
      ]
     },
     "metadata": {},
     "output_type": "display_data"
    }
   ],
   "source": [
    "fig, ax = plt.subplots()\n",
    "\n",
    "\n",
    "ax.plot(energy_grid, func(energy_grid), color=blue, lw=3)\n",
    "\n",
    "ax.set_xlabel(\"x\")\n",
    "ax.set_ylabel(\"probability\")\n"
   ]
  },
  {
   "cell_type": "markdown",
   "id": "b90ee13d",
   "metadata": {
    "papermill": {
     "duration": 0.004703,
     "end_time": "2023-11-02T00:03:33.380012",
     "exception": false,
     "start_time": "2023-11-02T00:03:33.375309",
     "status": "completed"
    },
    "tags": []
   },
   "source": [
    "## Random Number Generation\n",
    "\n",
    "This is how we can generate random numbers from the prior.\n"
   ]
  },
  {
   "cell_type": "code",
   "execution_count": 7,
   "id": "811627bf",
   "metadata": {
    "execution": {
     "iopub.execute_input": "2023-11-02T00:03:33.387886Z",
     "iopub.status.busy": "2023-11-02T00:03:33.387478Z",
     "iopub.status.idle": "2023-11-02T00:03:34.670851Z",
     "shell.execute_reply": "2023-11-02T00:03:34.669528Z"
    },
    "papermill": {
     "duration": 1.292291,
     "end_time": "2023-11-02T00:03:34.675230",
     "exception": false,
     "start_time": "2023-11-02T00:03:33.382939",
     "status": "completed"
    },
    "tags": []
   },
   "outputs": [
    {
     "data": {
      "text/plain": [
       "Text(0, 0.5, 'N')"
      ]
     },
     "execution_count": 7,
     "metadata": {},
     "output_type": "execute_result"
    },
    {
     "data": {
      "image/png": "[encoded data removed]",
      "text/plain": [
       "<Figure size 1040x910 with 1 Axes>"
      ]
     },
     "metadata": {},
     "output_type": "display_data"
    }
   ],
   "source": [
    "\n",
    "\n",
    "u = np.random.uniform(0,1, size=5000)\n",
    "\n",
    "draws = [func.from_unit_cube(x) for x in u]\n",
    "\n",
    "\n",
    "fig, ax = plt.subplots()\n",
    "\n",
    "\n",
    "ax.hist(draws, color=green, bins=50)\n",
    "\n",
    "ax.set_xlabel(\"value\")\n",
    "ax.set_ylabel(\"N\")\n",
    "\n"
   ]
  }
 ],
 "metadata": {
  "jupytext": {
   "formats": "ipynb,md"
  },
  "kernelspec": {
   "display_name": "Python 3 (ipykernel)",
   "language": "python",
   "name": "python3"
  },
  "language_info": {
   "codemirror_mode": {
    "name": "ipython",
    "version": 3
   },
   "file_extension": ".py",
   "mimetype": "text/x-python",
   "name": "python",
   "nbconvert_exporter": "python",
   "pygments_lexer": "ipython3",
   "version": "3.9.18"
  },
  "papermill": {
   "default_parameters": {},
   "duration": 6.191533,
   "end_time": "2023-11-02T00:03:35.207507",
   "environment_variables": {},
   "exception": null,
   "input_path": "Gamma.ipynb",
   "output_path": "/Users/runner/work/astromodels/astromodels/docs/notebooks/Gamma.ipynb",
   "parameters": {
    "func_name": "Gamma",
    "positive_prior": true
   },
   "start_time": "2023-11-02T00:03:29.015974",
   "version": "2.5.0"
  }
 },
 "nbformat": 4,
 "nbformat_minor": 5
}
