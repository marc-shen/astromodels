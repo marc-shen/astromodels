{
 "cells": [
  {
   "cell_type": "markdown",
   "id": "05a7e109",
   "metadata": {
    "papermill": {
     "duration": 0.006,
     "end_time": "2024-09-10T20:42:22.357403",
     "exception": false,
     "start_time": "2024-09-10T20:42:22.351403",
     "status": "completed"
    },
    "tags": []
   },
   "source": [
    "# Gamma"
   ]
  },
  {
   "cell_type": "code",
   "execution_count": 1,
   "id": "e1bc609c",
   "metadata": {
    "execution": {
     "iopub.execute_input": "2024-09-10T20:42:22.369565Z",
     "iopub.status.busy": "2024-09-10T20:42:22.369028Z",
     "iopub.status.idle": "2024-09-10T20:42:24.619514Z",
     "shell.execute_reply": "2024-09-10T20:42:24.618603Z"
    },
    "nbsphinx": "hidden",
    "papermill": {
     "duration": 2.25968,
     "end_time": "2024-09-10T20:42:24.622230",
     "exception": false,
     "start_time": "2024-09-10T20:42:22.362550",
     "status": "completed"
    },
    "tags": []
   },
   "outputs": [],
   "source": [
    "%%capture\n",
    "\n",
    "import numpy as np\n",
    "\n",
    "import matplotlib.pyplot as plt\n",
    "\n",
    "import warnings\n",
    "warnings.simplefilter(\"ignore\")\n",
    "\n",
    "from astromodels.functions.function import _known_functions\n",
    "\n",
    "\n",
    "from jupyterthemes import jtplot\n",
    "jtplot.style(context=\"talk\", fscale=1, ticks=True, grid=False)\n",
    "%matplotlib inline"
   ]
  },
  {
   "cell_type": "code",
   "execution_count": 2,
   "id": "9ecc93e3",
   "metadata": {
    "execution": {
     "iopub.execute_input": "2024-09-10T20:42:24.626776Z",
     "iopub.status.busy": "2024-09-10T20:42:24.626281Z",
     "iopub.status.idle": "2024-09-10T20:42:24.629611Z",
     "shell.execute_reply": "2024-09-10T20:42:24.628898Z"
    },
    "nbsphinx": "hidden",
    "papermill": {
     "duration": 0.008192,
     "end_time": "2024-09-10T20:42:24.631984",
     "exception": false,
     "start_time": "2024-09-10T20:42:24.623792",
     "status": "completed"
    },
    "tags": [
     "parameters"
    ]
   },
   "outputs": [],
   "source": [
    "func_name = \"TbAbs\"\n",
    "\n",
    "positive_prior = False\n"
   ]
  },
  {
   "cell_type": "code",
   "execution_count": 3,
   "id": "bd136f23",
   "metadata": {
    "execution": {
     "iopub.execute_input": "2024-09-10T20:42:24.636313Z",
     "iopub.status.busy": "2024-09-10T20:42:24.636019Z",
     "iopub.status.idle": "2024-09-10T20:42:24.639327Z",
     "shell.execute_reply": "2024-09-10T20:42:24.638507Z"
    },
    "papermill": {
     "duration": 0.008497,
     "end_time": "2024-09-10T20:42:24.641840",
     "exception": false,
     "start_time": "2024-09-10T20:42:24.633343",
     "status": "completed"
    },
    "tags": [
     "injected-parameters"
    ]
   },
   "outputs": [],
   "source": [
    "# Parameters\n",
    "func_name = \"Gamma\"\n",
    "positive_prior = True\n"
   ]
  },
  {
   "cell_type": "code",
   "execution_count": 4,
   "id": "d1fb525a",
   "metadata": {
    "execution": {
     "iopub.execute_input": "2024-09-10T20:42:24.645592Z",
     "iopub.status.busy": "2024-09-10T20:42:24.645359Z",
     "iopub.status.idle": "2024-09-10T20:42:24.649846Z",
     "shell.execute_reply": "2024-09-10T20:42:24.648697Z"
    },
    "lines_to_next_cell": 0,
    "nbsphinx": "hidden",
    "papermill": {
     "duration": 0.008646,
     "end_time": "2024-09-10T20:42:24.651864",
     "exception": false,
     "start_time": "2024-09-10T20:42:24.643218",
     "status": "completed"
    },
    "tags": []
   },
   "outputs": [],
   "source": [
    "func = _known_functions[func_name]()\n",
    "\n",
    "if not positive_prior:\n",
    "\n",
    "\tenergy_grid = np.linspace(-5,5,1000)\n",
    "\n",
    "else:\n",
    "    \n",
    "    energy_grid = np.linspace(0,1,1000)\n",
    "    \n",
    "    \n",
    "    \n",
    "    \n",
    "blue = \"#4152E3\"\n",
    "red = \"#E3414B\"\n",
    "green = \"#41E39E\""
   ]
  },
  {
   "cell_type": "markdown",
   "id": "57af901b",
   "metadata": {
    "lines_to_next_cell": 0,
    "papermill": {
     "duration": 0.001321,
     "end_time": "2024-09-10T20:42:24.654577",
     "exception": false,
     "start_time": "2024-09-10T20:42:24.653256",
     "status": "completed"
    },
    "tags": []
   },
   "source": [
    "## Description"
   ]
  },
  {
   "cell_type": "code",
   "execution_count": 5,
   "id": "66f022a9",
   "metadata": {
    "execution": {
     "iopub.execute_input": "2024-09-10T20:42:24.658192Z",
     "iopub.status.busy": "2024-09-10T20:42:24.657968Z",
     "iopub.status.idle": "2024-09-10T20:42:24.664294Z",
     "shell.execute_reply": "2024-09-10T20:42:24.663312Z"
    },
    "papermill": {
     "duration": 0.0109,
     "end_time": "2024-09-10T20:42:24.666715",
     "exception": false,
     "start_time": "2024-09-10T20:42:24.655815",
     "status": "completed"
    },
    "tags": []
   },
   "outputs": [
    {
     "data": {
      "text/html": [
       "<ul>\n",
       "\n",
       "<li>description: A gamma distribution function</li>\n",
       "\n",
       "<li>formula: $ f(x, \\alpha, \\beta)=\\frac{\\beta^\\alpha x^{\\alpha-1} e^{-\\beta x}}{\\Gamma(\\alpha)}$</li>\n",
       "\n",
       "<li>parameters: \n",
       "<ul>\n",
       "\n",
       "<li>alpha: \n",
       "<ul>\n",
       "\n",
       "<li>value: 0.5</li>\n",
       "\n",
       "<li>desc: first shape parameter</li>\n",
       "\n",
       "<li>min_value: 0.0</li>\n",
       "\n",
       "<li>max_value: None</li>\n",
       "\n",
       "<li>unit: </li>\n",
       "\n",
       "<li>is_normalization: False</li>\n",
       "\n",
       "<li>delta: 0.05</li>\n",
       "\n",
       "<li>free: True</li>\n",
       "\n",
       "</ul>\n",
       "\n",
       "</li>\n",
       "\n",
       "<li>beta: \n",
       "<ul>\n",
       "\n",
       "<li>value: 1.0</li>\n",
       "\n",
       "<li>desc: second shape parameter</li>\n",
       "\n",
       "<li>min_value: 0.0</li>\n",
       "\n",
       "<li>max_value: None</li>\n",
       "\n",
       "<li>unit: </li>\n",
       "\n",
       "<li>is_normalization: False</li>\n",
       "\n",
       "<li>delta: 0.1</li>\n",
       "\n",
       "<li>free: True</li>\n",
       "\n",
       "</ul>\n",
       "\n",
       "</li>\n",
       "\n",
       "</ul>\n",
       "\n",
       "</li>\n",
       "\n",
       "</ul>\n"
      ],
      "text/plain": [
       "  * description: A gamma distribution function\n",
       "  * formula: $ f(x, \\alpha, \\beta)=\\frac{\\beta^\\alpha x^{\\alpha-1} e^{-\\beta x}}{\\Gamma(\\alpha)}$\n",
       "  * parameters:\n",
       "    * alpha:\n",
       "      * value: 0.5\n",
       "      * desc: first shape parameter\n",
       "      * min_value: 0.0\n",
       "      * max_value: null\n",
       "      * unit: ''\n",
       "      * is_normalization: false\n",
       "      * delta: 0.05\n",
       "      * free: true\n",
       "    * beta:\n",
       "      * value: 1.0\n",
       "      * desc: second shape parameter\n",
       "      * min_value: 0.0\n",
       "      * max_value: null\n",
       "      * unit: ''\n",
       "      * is_normalization: false\n",
       "      * delta: 0.1\n",
       "      * free: true"
      ]
     },
     "metadata": {},
     "output_type": "display_data"
    }
   ],
   "source": [
    "func.display()"
   ]
  },
  {
   "cell_type": "markdown",
   "id": "148f19d9",
   "metadata": {
    "papermill": {
     "duration": 0.001313,
     "end_time": "2024-09-10T20:42:24.669620",
     "exception": false,
     "start_time": "2024-09-10T20:42:24.668307",
     "status": "completed"
    },
    "tags": []
   },
   "source": [
    "## Shape \n",
    "\n",
    "The shape of the function. \n",
    "\n",
    "*If this is not a photon model but a prior or linear function then ignore the units as these docs are auto-generated*"
   ]
  },
  {
   "cell_type": "code",
   "execution_count": 6,
   "id": "665bc2f6",
   "metadata": {
    "execution": {
     "iopub.execute_input": "2024-09-10T20:42:24.673186Z",
     "iopub.status.busy": "2024-09-10T20:42:24.672974Z",
     "iopub.status.idle": "2024-09-10T20:42:24.827574Z",
     "shell.execute_reply": "2024-09-10T20:42:24.826274Z"
    },
    "papermill": {
     "duration": 0.15989,
     "end_time": "2024-09-10T20:42:24.830700",
     "exception": false,
     "start_time": "2024-09-10T20:42:24.670810",
     "status": "completed"
    },
    "tags": [
     "nbsphinx-thumbnail"
    ]
   },
   "outputs": [
    {
     "data": {
      "text/plain": [
       "Text(0, 0.5, 'probability')"
      ]
     },
     "execution_count": 6,
     "metadata": {},
     "output_type": "execute_result"
    },
    {
     "data": {
      "image/png": "[encoded data removed]",
      "text/plain": [
       "<Figure size 1040x910 with 1 Axes>"
      ]
     },
     "metadata": {},
     "output_type": "display_data"
    }
   ],
   "source": [
    "fig, ax = plt.subplots()\n",
    "\n",
    "\n",
    "ax.plot(energy_grid, func(energy_grid), color=blue, lw=3)\n",
    "\n",
    "ax.set_xlabel(\"x\")\n",
    "ax.set_ylabel(\"probability\")\n"
   ]
  },
  {
   "cell_type": "markdown",
   "id": "13ee4414",
   "metadata": {
    "papermill": {
     "duration": 0.00171,
     "end_time": "2024-09-10T20:42:24.834620",
     "exception": false,
     "start_time": "2024-09-10T20:42:24.832910",
     "status": "completed"
    },
    "tags": []
   },
   "source": [
    "## Random Number Generation\n",
    "\n",
    "This is how we can generate random numbers from the prior.\n"
   ]
  },
  {
   "cell_type": "code",
   "execution_count": 7,
   "id": "9c88d0fd",
   "metadata": {
    "execution": {
     "iopub.execute_input": "2024-09-10T20:42:24.838813Z",
     "iopub.status.busy": "2024-09-10T20:42:24.838589Z",
     "iopub.status.idle": "2024-09-10T20:42:25.318808Z",
     "shell.execute_reply": "2024-09-10T20:42:25.317221Z"
    },
    "papermill": {
     "duration": 0.489118,
     "end_time": "2024-09-10T20:42:25.325246",
     "exception": false,
     "start_time": "2024-09-10T20:42:24.836128",
     "status": "completed"
    },
    "tags": []
   },
   "outputs": [
    {
     "data": {
      "text/plain": [
       "Text(0, 0.5, 'N')"
      ]
     },
     "execution_count": 7,
     "metadata": {},
     "output_type": "execute_result"
    },
    {
     "data": {
      "image/png": "[encoded data removed]",
      "text/plain": [
       "<Figure size 1040x910 with 1 Axes>"
      ]
     },
     "metadata": {},
     "output_type": "display_data"
    }
   ],
   "source": [
    "\n",
    "\n",
    "u = np.random.uniform(0,1, size=5000)\n",
    "\n",
    "draws = [func.from_unit_cube(x) for x in u]\n",
    "\n",
    "\n",
    "fig, ax = plt.subplots()\n",
    "\n",
    "\n",
    "ax.hist(draws, color=green, bins=50)\n",
    "\n",
    "ax.set_xlabel(\"value\")\n",
    "ax.set_ylabel(\"N\")\n",
    "\n"
   ]
  }
 ],
 "metadata": {
  "jupytext": {
   "formats": "ipynb,md"
  },
  "kernelspec": {
   "display_name": "Python 3 (ipykernel)",
   "language": "python",
   "name": "python3"
  },
  "language_info": {
   "codemirror_mode": {
    "name": "ipython",
    "version": 3
   },
   "file_extension": ".py",
   "mimetype": "text/x-python",
   "name": "python",
   "nbconvert_exporter": "python",
   "pygments_lexer": "ipython3",
   "version": "3.9.13"
  },
  "papermill": {
   "default_parameters": {},
   "duration": 4.333727,
   "end_time": "2024-09-10T20:42:25.979567",
   "environment_variables": {},
   "exception": null,
   "input_path": "Gamma.ipynb",
   "output_path": "/Users/runner/work/astromodels/astromodels/docs/notebooks/Gamma.ipynb",
   "parameters": {
    "func_name": "Gamma",
    "positive_prior": true
   },
   "start_time": "2024-09-10T20:42:21.645840",
   "version": "2.6.0"
  }
 },
 "nbformat": 4,
 "nbformat_minor": 5
}
