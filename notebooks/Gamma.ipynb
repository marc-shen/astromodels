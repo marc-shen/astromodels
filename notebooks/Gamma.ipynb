{
 "cells": [
  {
   "cell_type": "markdown",
   "id": "65c05b83",
   "metadata": {
    "papermill": {
     "duration": 0.006372,
     "end_time": "2025-05-21T18:30:56.757768",
     "exception": false,
     "start_time": "2025-05-21T18:30:56.751396",
     "status": "completed"
    },
    "tags": []
   },
   "source": [
    "# Gamma"
   ]
  },
  {
   "cell_type": "code",
   "execution_count": 1,
   "id": "c9586081",
   "metadata": {
    "execution": {
     "iopub.execute_input": "2025-05-21T18:30:56.771886Z",
     "iopub.status.busy": "2025-05-21T18:30:56.771198Z",
     "iopub.status.idle": "2025-05-21T18:30:58.182647Z",
     "shell.execute_reply": "2025-05-21T18:30:58.182186Z"
    },
    "nbsphinx": "hidden",
    "papermill": {
     "duration": 1.419834,
     "end_time": "2025-05-21T18:30:58.183969",
     "exception": false,
     "start_time": "2025-05-21T18:30:56.764135",
     "status": "completed"
    },
    "tags": []
   },
   "outputs": [],
   "source": [
    "%%capture\n",
    "\n",
    "import numpy as np\n",
    "\n",
    "import matplotlib.pyplot as plt\n",
    "\n",
    "import warnings\n",
    "warnings.simplefilter(\"ignore\")\n",
    "\n",
    "from astromodels.functions.function import _known_functions\n",
    "\n",
    "\n",
    "from jupyterthemes import jtplot\n",
    "jtplot.style(context=\"talk\", fscale=1, ticks=True, grid=False)\n",
    "%matplotlib inline"
   ]
  },
  {
   "cell_type": "code",
   "execution_count": 2,
   "id": "fcb61f0f",
   "metadata": {
    "execution": {
     "iopub.execute_input": "2025-05-21T18:30:58.187023Z",
     "iopub.status.busy": "2025-05-21T18:30:58.186695Z",
     "iopub.status.idle": "2025-05-21T18:30:58.195133Z",
     "shell.execute_reply": "2025-05-21T18:30:58.194699Z"
    },
    "nbsphinx": "hidden",
    "papermill": {
     "duration": 0.011032,
     "end_time": "2025-05-21T18:30:58.196241",
     "exception": false,
     "start_time": "2025-05-21T18:30:58.185209",
     "status": "completed"
    },
    "tags": [
     "parameters"
    ]
   },
   "outputs": [],
   "source": [
    "func_name = \"TbAbs\"\n",
    "\n",
    "positive_prior = False\n"
   ]
  },
  {
   "cell_type": "code",
   "execution_count": 3,
   "id": "fd0e0a08",
   "metadata": {
    "execution": {
     "iopub.execute_input": "2025-05-21T18:30:58.198910Z",
     "iopub.status.busy": "2025-05-21T18:30:58.198765Z",
     "iopub.status.idle": "2025-05-21T18:30:58.206901Z",
     "shell.execute_reply": "2025-05-21T18:30:58.206540Z"
    },
    "papermill": {
     "duration": 0.010747,
     "end_time": "2025-05-21T18:30:58.208094",
     "exception": false,
     "start_time": "2025-05-21T18:30:58.197347",
     "status": "completed"
    },
    "tags": [
     "injected-parameters"
    ]
   },
   "outputs": [],
   "source": [
    "# Parameters\n",
    "func_name = \"Gamma\"\n",
    "positive_prior = True\n"
   ]
  },
  {
   "cell_type": "code",
   "execution_count": 4,
   "id": "5902abeb",
   "metadata": {
    "execution": {
     "iopub.execute_input": "2025-05-21T18:30:58.210757Z",
     "iopub.status.busy": "2025-05-21T18:30:58.210611Z",
     "iopub.status.idle": "2025-05-21T18:30:58.219410Z",
     "shell.execute_reply": "2025-05-21T18:30:58.218955Z"
    },
    "lines_to_next_cell": 0,
    "nbsphinx": "hidden",
    "papermill": {
     "duration": 0.011284,
     "end_time": "2025-05-21T18:30:58.220444",
     "exception": false,
     "start_time": "2025-05-21T18:30:58.209160",
     "status": "completed"
    },
    "tags": []
   },
   "outputs": [],
   "source": [
    "func = _known_functions[func_name]()\n",
    "\n",
    "if not positive_prior:\n",
    "\n",
    "\tenergy_grid = np.linspace(-5,5,1000)\n",
    "\n",
    "else:\n",
    "    \n",
    "    energy_grid = np.linspace(0,1,1000)\n",
    "    \n",
    "    \n",
    "    \n",
    "    \n",
    "blue = \"#4152E3\"\n",
    "red = \"#E3414B\"\n",
    "green = \"#41E39E\""
   ]
  },
  {
   "cell_type": "markdown",
   "id": "fed44fb1",
   "metadata": {
    "lines_to_next_cell": 0,
    "papermill": {
     "duration": 0.001015,
     "end_time": "2025-05-21T18:30:58.222543",
     "exception": false,
     "start_time": "2025-05-21T18:30:58.221528",
     "status": "completed"
    },
    "tags": []
   },
   "source": [
    "## Description"
   ]
  },
  {
   "cell_type": "code",
   "execution_count": 5,
   "id": "a811a8f9",
   "metadata": {
    "execution": {
     "iopub.execute_input": "2025-05-21T18:30:58.225093Z",
     "iopub.status.busy": "2025-05-21T18:30:58.224945Z",
     "iopub.status.idle": "2025-05-21T18:30:58.228622Z",
     "shell.execute_reply": "2025-05-21T18:30:58.228177Z"
    },
    "papermill": {
     "duration": 0.006163,
     "end_time": "2025-05-21T18:30:58.229658",
     "exception": false,
     "start_time": "2025-05-21T18:30:58.223495",
     "status": "completed"
    },
    "tags": []
   },
   "outputs": [
    {
     "data": {
      "text/html": [
       "<ul>\n",
       "\n",
       "<li>description: A gamma distribution function</li>\n",
       "\n",
       "<li>formula: $ f(x, \\alpha, \\beta)=\\frac{\\beta^\\alpha x^{\\alpha-1} e^{-\\beta x}}{\\Gamma(\\alpha)}$</li>\n",
       "\n",
       "<li>parameters: \n",
       "<ul>\n",
       "\n",
       "<li>alpha: \n",
       "<ul>\n",
       "\n",
       "<li>value: 0.5</li>\n",
       "\n",
       "<li>desc: first shape parameter</li>\n",
       "\n",
       "<li>min_value: 0.0</li>\n",
       "\n",
       "<li>max_value: None</li>\n",
       "\n",
       "<li>unit: </li>\n",
       "\n",
       "<li>is_normalization: False</li>\n",
       "\n",
       "<li>delta: 0.05</li>\n",
       "\n",
       "<li>free: True</li>\n",
       "\n",
       "</ul>\n",
       "\n",
       "</li>\n",
       "\n",
       "<li>beta: \n",
       "<ul>\n",
       "\n",
       "<li>value: 1.0</li>\n",
       "\n",
       "<li>desc: second shape parameter</li>\n",
       "\n",
       "<li>min_value: 0.0</li>\n",
       "\n",
       "<li>max_value: None</li>\n",
       "\n",
       "<li>unit: </li>\n",
       "\n",
       "<li>is_normalization: False</li>\n",
       "\n",
       "<li>delta: 0.1</li>\n",
       "\n",
       "<li>free: True</li>\n",
       "\n",
       "</ul>\n",
       "\n",
       "</li>\n",
       "\n",
       "</ul>\n",
       "\n",
       "</li>\n",
       "\n",
       "</ul>\n"
      ],
      "text/plain": [
       "  * description: A gamma distribution function\n",
       "  * formula: $ f(x, \\alpha, \\beta)=\\frac{\\beta^\\alpha x^{\\alpha-1} e^{-\\beta x}}{\\Gamma(\\alpha)}$\n",
       "  * parameters:\n",
       "    * alpha:\n",
       "      * value: 0.5\n",
       "      * desc: first shape parameter\n",
       "      * min_value: 0.0\n",
       "      * max_value: null\n",
       "      * unit: ''\n",
       "      * is_normalization: false\n",
       "      * delta: 0.05\n",
       "      * free: true\n",
       "    * beta:\n",
       "      * value: 1.0\n",
       "      * desc: second shape parameter\n",
       "      * min_value: 0.0\n",
       "      * max_value: null\n",
       "      * unit: ''\n",
       "      * is_normalization: false\n",
       "      * delta: 0.1\n",
       "      * free: true"
      ]
     },
     "metadata": {},
     "output_type": "display_data"
    }
   ],
   "source": [
    "func.display()"
   ]
  },
  {
   "cell_type": "markdown",
   "id": "5b9b2867",
   "metadata": {
    "papermill": {
     "duration": 0.001091,
     "end_time": "2025-05-21T18:30:58.231919",
     "exception": false,
     "start_time": "2025-05-21T18:30:58.230828",
     "status": "completed"
    },
    "tags": []
   },
   "source": [
    "## Shape \n",
    "\n",
    "The shape of the function. \n",
    "\n",
    "*If this is not a photon model but a prior or linear function then ignore the units as these docs are auto-generated*"
   ]
  },
  {
   "cell_type": "code",
   "execution_count": 6,
   "id": "2c8f1053",
   "metadata": {
    "execution": {
     "iopub.execute_input": "2025-05-21T18:30:58.234766Z",
     "iopub.status.busy": "2025-05-21T18:30:58.234621Z",
     "iopub.status.idle": "2025-05-21T18:30:58.316286Z",
     "shell.execute_reply": "2025-05-21T18:30:58.315839Z"
    },
    "papermill": {
     "duration": 0.084324,
     "end_time": "2025-05-21T18:30:58.317339",
     "exception": false,
     "start_time": "2025-05-21T18:30:58.233015",
     "status": "completed"
    },
    "tags": [
     "nbsphinx-thumbnail"
    ]
   },
   "outputs": [
    {
     "data": {
      "text/plain": [
       "Text(0, 0.5, 'probability')"
      ]
     },
     "execution_count": 6,
     "metadata": {},
     "output_type": "execute_result"
    },
    {
     "data": {
      "image/png": "[encoded data removed]",
      "text/plain": [
       "<Figure size 1040x910 with 1 Axes>"
      ]
     },
     "metadata": {},
     "output_type": "display_data"
    }
   ],
   "source": [
    "fig, ax = plt.subplots()\n",
    "\n",
    "\n",
    "ax.plot(energy_grid, func(energy_grid), color=blue, lw=3)\n",
    "\n",
    "ax.set_xlabel(\"x\")\n",
    "ax.set_ylabel(\"probability\")\n"
   ]
  },
  {
   "cell_type": "markdown",
   "id": "6db25c11",
   "metadata": {
    "papermill": {
     "duration": 0.001358,
     "end_time": "2025-05-21T18:30:58.320371",
     "exception": false,
     "start_time": "2025-05-21T18:30:58.319013",
     "status": "completed"
    },
    "tags": []
   },
   "source": [
    "## Random Number Generation\n",
    "\n",
    "This is how we can generate random numbers from the prior.\n"
   ]
  },
  {
   "cell_type": "code",
   "execution_count": 7,
   "id": "fe536101",
   "metadata": {
    "execution": {
     "iopub.execute_input": "2025-05-21T18:30:58.323778Z",
     "iopub.status.busy": "2025-05-21T18:30:58.323639Z",
     "iopub.status.idle": "2025-05-21T18:30:58.653305Z",
     "shell.execute_reply": "2025-05-21T18:30:58.652811Z"
    },
    "papermill": {
     "duration": 0.332611,
     "end_time": "2025-05-21T18:30:58.654361",
     "exception": false,
     "start_time": "2025-05-21T18:30:58.321750",
     "status": "completed"
    },
    "tags": []
   },
   "outputs": [
    {
     "data": {
      "text/plain": [
       "Text(0, 0.5, 'N')"
      ]
     },
     "execution_count": 7,
     "metadata": {},
     "output_type": "execute_result"
    },
    {
     "data": {
      "image/png": "[encoded data removed]",
      "text/plain": [
       "<Figure size 1040x910 with 1 Axes>"
      ]
     },
     "metadata": {},
     "output_type": "display_data"
    }
   ],
   "source": [
    "\n",
    "\n",
    "u = np.random.uniform(0,1, size=5000)\n",
    "\n",
    "draws = [func.from_unit_cube(x) for x in u]\n",
    "\n",
    "\n",
    "fig, ax = plt.subplots()\n",
    "\n",
    "\n",
    "ax.hist(draws, color=green, bins=50)\n",
    "\n",
    "ax.set_xlabel(\"value\")\n",
    "ax.set_ylabel(\"N\")\n",
    "\n"
   ]
  }
 ],
 "metadata": {
  "jupytext": {
   "formats": "ipynb,md"
  },
  "kernelspec": {
   "display_name": "Python 3 (ipykernel)",
   "language": "python",
   "name": "python3"
  },
  "language_info": {
   "codemirror_mode": {
    "name": "ipython",
    "version": 3
   },
   "file_extension": ".py",
   "mimetype": "text/x-python",
   "name": "python",
   "nbconvert_exporter": "python",
   "pygments_lexer": "ipython3",
   "version": "3.9.13"
  },
  "papermill": {
   "default_parameters": {},
   "duration": 2.915471,
   "end_time": "2025-05-21T18:30:58.986286",
   "environment_variables": {},
   "exception": null,
   "input_path": "Gamma.ipynb",
   "output_path": "/Users/runner/work/astromodels/astromodels/docs/notebooks/Gamma.ipynb",
   "parameters": {
    "func_name": "Gamma",
    "positive_prior": true
   },
   "start_time": "2025-05-21T18:30:56.070815",
   "version": "2.6.0"
  }
 },
 "nbformat": 4,
 "nbformat_minor": 5
}
