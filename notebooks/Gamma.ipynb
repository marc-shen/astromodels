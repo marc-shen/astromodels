{
 "cells": [
  {
   "cell_type": "markdown",
   "id": "81084ed9",
   "metadata": {
    "papermill": {
     "duration": 0.006546,
     "end_time": "2024-02-06T23:24:13.908563",
     "exception": false,
     "start_time": "2024-02-06T23:24:13.902017",
     "status": "completed"
    },
    "tags": []
   },
   "source": [
    "# Gamma"
   ]
  },
  {
   "cell_type": "code",
   "execution_count": 1,
   "id": "25771ead",
   "metadata": {
    "execution": {
     "iopub.execute_input": "2024-02-06T23:24:13.919863Z",
     "iopub.status.busy": "2024-02-06T23:24:13.919190Z",
     "iopub.status.idle": "2024-02-06T23:24:16.826982Z",
     "shell.execute_reply": "2024-02-06T23:24:16.824632Z"
    },
    "nbsphinx": "hidden",
    "papermill": {
     "duration": 2.920571,
     "end_time": "2024-02-06T23:24:16.834077",
     "exception": false,
     "start_time": "2024-02-06T23:24:13.913506",
     "status": "completed"
    },
    "tags": []
   },
   "outputs": [],
   "source": [
    "%%capture\n",
    "\n",
    "import numpy as np\n",
    "\n",
    "import matplotlib.pyplot as plt\n",
    "\n",
    "import warnings\n",
    "warnings.simplefilter(\"ignore\")\n",
    "\n",
    "from astromodels.functions.function import _known_functions\n",
    "\n",
    "\n",
    "from jupyterthemes import jtplot\n",
    "jtplot.style(context=\"talk\", fscale=1, ticks=True, grid=False)\n",
    "%matplotlib inline"
   ]
  },
  {
   "cell_type": "code",
   "execution_count": 2,
   "id": "b8ff4c46",
   "metadata": {
    "execution": {
     "iopub.execute_input": "2024-02-06T23:24:16.845746Z",
     "iopub.status.busy": "2024-02-06T23:24:16.844941Z",
     "iopub.status.idle": "2024-02-06T23:24:16.855019Z",
     "shell.execute_reply": "2024-02-06T23:24:16.851767Z"
    },
    "nbsphinx": "hidden",
    "papermill": {
     "duration": 0.023146,
     "end_time": "2024-02-06T23:24:16.860388",
     "exception": false,
     "start_time": "2024-02-06T23:24:16.837242",
     "status": "completed"
    },
    "tags": [
     "parameters"
    ]
   },
   "outputs": [],
   "source": [
    "func_name = \"TbAbs\"\n",
    "\n",
    "positive_prior = False\n"
   ]
  },
  {
   "cell_type": "code",
   "execution_count": 3,
   "id": "a3a9f208",
   "metadata": {
    "execution": {
     "iopub.execute_input": "2024-02-06T23:24:16.870119Z",
     "iopub.status.busy": "2024-02-06T23:24:16.868706Z",
     "iopub.status.idle": "2024-02-06T23:24:16.879868Z",
     "shell.execute_reply": "2024-02-06T23:24:16.877963Z"
    },
    "papermill": {
     "duration": 0.022084,
     "end_time": "2024-02-06T23:24:16.885502",
     "exception": false,
     "start_time": "2024-02-06T23:24:16.863418",
     "status": "completed"
    },
    "tags": [
     "injected-parameters"
    ]
   },
   "outputs": [],
   "source": [
    "# Parameters\n",
    "func_name = \"Gamma\"\n",
    "positive_prior = True\n"
   ]
  },
  {
   "cell_type": "code",
   "execution_count": 4,
   "id": "c445a5dc",
   "metadata": {
    "execution": {
     "iopub.execute_input": "2024-02-06T23:24:16.893526Z",
     "iopub.status.busy": "2024-02-06T23:24:16.893113Z",
     "iopub.status.idle": "2024-02-06T23:24:16.903514Z",
     "shell.execute_reply": "2024-02-06T23:24:16.900731Z"
    },
    "lines_to_next_cell": 0,
    "nbsphinx": "hidden",
    "papermill": {
     "duration": 0.02174,
     "end_time": "2024-02-06T23:24:16.910119",
     "exception": false,
     "start_time": "2024-02-06T23:24:16.888379",
     "status": "completed"
    },
    "tags": []
   },
   "outputs": [],
   "source": [
    "func = _known_functions[func_name]()\n",
    "\n",
    "if not positive_prior:\n",
    "\n",
    "\tenergy_grid = np.linspace(-5,5,1000)\n",
    "\n",
    "else:\n",
    "    \n",
    "    energy_grid = np.linspace(0,1,1000)\n",
    "    \n",
    "    \n",
    "    \n",
    "    \n",
    "blue = \"#4152E3\"\n",
    "red = \"#E3414B\"\n",
    "green = \"#41E39E\""
   ]
  },
  {
   "cell_type": "markdown",
   "id": "2368d474",
   "metadata": {
    "lines_to_next_cell": 0,
    "papermill": {
     "duration": 0.004743,
     "end_time": "2024-02-06T23:24:16.919099",
     "exception": false,
     "start_time": "2024-02-06T23:24:16.914356",
     "status": "completed"
    },
    "tags": []
   },
   "source": [
    "## Description"
   ]
  },
  {
   "cell_type": "code",
   "execution_count": 5,
   "id": "4a00207b",
   "metadata": {
    "execution": {
     "iopub.execute_input": "2024-02-06T23:24:16.928564Z",
     "iopub.status.busy": "2024-02-06T23:24:16.927946Z",
     "iopub.status.idle": "2024-02-06T23:24:16.943324Z",
     "shell.execute_reply": "2024-02-06T23:24:16.941490Z"
    },
    "papermill": {
     "duration": 0.027355,
     "end_time": "2024-02-06T23:24:16.949464",
     "exception": false,
     "start_time": "2024-02-06T23:24:16.922109",
     "status": "completed"
    },
    "tags": []
   },
   "outputs": [
    {
     "data": {
      "text/html": [
       "<ul>\n",
       "\n",
       "<li>description: A gamma distribution function</li>\n",
       "\n",
       "<li>formula: $ f(x, \\alpha, \\beta)=\\frac{\\beta^\\alpha x^{\\alpha-1} e^{-\\beta x}}{\\Gamma(\\alpha)}$</li>\n",
       "\n",
       "<li>parameters: \n",
       "<ul>\n",
       "\n",
       "<li>alpha: \n",
       "<ul>\n",
       "\n",
       "<li>value: 0.5</li>\n",
       "\n",
       "<li>desc: first shape parameter</li>\n",
       "\n",
       "<li>min_value: 0.0</li>\n",
       "\n",
       "<li>max_value: None</li>\n",
       "\n",
       "<li>unit: </li>\n",
       "\n",
       "<li>is_normalization: False</li>\n",
       "\n",
       "<li>delta: 0.05</li>\n",
       "\n",
       "<li>free: True</li>\n",
       "\n",
       "</ul>\n",
       "\n",
       "</li>\n",
       "\n",
       "<li>beta: \n",
       "<ul>\n",
       "\n",
       "<li>value: 1.0</li>\n",
       "\n",
       "<li>desc: second shape parameter</li>\n",
       "\n",
       "<li>min_value: 0.0</li>\n",
       "\n",
       "<li>max_value: None</li>\n",
       "\n",
       "<li>unit: </li>\n",
       "\n",
       "<li>is_normalization: False</li>\n",
       "\n",
       "<li>delta: 0.1</li>\n",
       "\n",
       "<li>free: True</li>\n",
       "\n",
       "</ul>\n",
       "\n",
       "</li>\n",
       "\n",
       "</ul>\n",
       "\n",
       "</li>\n",
       "\n",
       "</ul>\n"
      ],
      "text/plain": [
       "  * description: A gamma distribution function\n",
       "  * formula: $ f(x, \\alpha, \\beta)=\\frac{\\beta^\\alpha x^{\\alpha-1} e^{-\\beta x}}{\\Gamma(\\alpha)}$\n",
       "  * parameters:\n",
       "    * alpha:\n",
       "      * value: 0.5\n",
       "      * desc: first shape parameter\n",
       "      * min_value: 0.0\n",
       "      * max_value: null\n",
       "      * unit: ''\n",
       "      * is_normalization: false\n",
       "      * delta: 0.05\n",
       "      * free: true\n",
       "    * beta:\n",
       "      * value: 1.0\n",
       "      * desc: second shape parameter\n",
       "      * min_value: 0.0\n",
       "      * max_value: null\n",
       "      * unit: ''\n",
       "      * is_normalization: false\n",
       "      * delta: 0.1\n",
       "      * free: true"
      ]
     },
     "metadata": {},
     "output_type": "display_data"
    }
   ],
   "source": [
    "func.display()"
   ]
  },
  {
   "cell_type": "markdown",
   "id": "1d0b271e",
   "metadata": {
    "papermill": {
     "duration": 0.004212,
     "end_time": "2024-02-06T23:24:16.957664",
     "exception": false,
     "start_time": "2024-02-06T23:24:16.953452",
     "status": "completed"
    },
    "tags": []
   },
   "source": [
    "## Shape \n",
    "\n",
    "The shape of the function. \n",
    "\n",
    "*If this is not a photon model but a prior or linear function then ignore the units as these docs are auto-generated*"
   ]
  },
  {
   "cell_type": "code",
   "execution_count": 6,
   "id": "6034f76d",
   "metadata": {
    "execution": {
     "iopub.execute_input": "2024-02-06T23:24:16.969797Z",
     "iopub.status.busy": "2024-02-06T23:24:16.969280Z",
     "iopub.status.idle": "2024-02-06T23:24:17.243154Z",
     "shell.execute_reply": "2024-02-06T23:24:17.241547Z"
    },
    "papermill": {
     "duration": 0.286159,
     "end_time": "2024-02-06T23:24:17.248363",
     "exception": false,
     "start_time": "2024-02-06T23:24:16.962204",
     "status": "completed"
    },
    "tags": [
     "nbsphinx-thumbnail"
    ]
   },
   "outputs": [
    {
     "data": {
      "text/plain": [
       "Text(0, 0.5, 'probability')"
      ]
     },
     "execution_count": 6,
     "metadata": {},
     "output_type": "execute_result"
    },
    {
     "data": {
      "image/png": "[encoded data removed]",
      "text/plain": [
       "<Figure size 1040x910 with 1 Axes>"
      ]
     },
     "metadata": {},
     "output_type": "display_data"
    }
   ],
   "source": [
    "fig, ax = plt.subplots()\n",
    "\n",
    "\n",
    "ax.plot(energy_grid, func(energy_grid), color=blue, lw=3)\n",
    "\n",
    "ax.set_xlabel(\"x\")\n",
    "ax.set_ylabel(\"probability\")\n"
   ]
  },
  {
   "cell_type": "markdown",
   "id": "971cd3c5",
   "metadata": {
    "papermill": {
     "duration": 0.004802,
     "end_time": "2024-02-06T23:24:17.257262",
     "exception": false,
     "start_time": "2024-02-06T23:24:17.252460",
     "status": "completed"
    },
    "tags": []
   },
   "source": [
    "## Random Number Generation\n",
    "\n",
    "This is how we can generate random numbers from the prior.\n"
   ]
  },
  {
   "cell_type": "code",
   "execution_count": 7,
   "id": "7664d328",
   "metadata": {
    "execution": {
     "iopub.execute_input": "2024-02-06T23:24:17.268978Z",
     "iopub.status.busy": "2024-02-06T23:24:17.268250Z",
     "iopub.status.idle": "2024-02-06T23:24:18.627282Z",
     "shell.execute_reply": "2024-02-06T23:24:18.625558Z"
    },
    "papermill": {
     "duration": 1.371072,
     "end_time": "2024-02-06T23:24:18.632119",
     "exception": false,
     "start_time": "2024-02-06T23:24:17.261047",
     "status": "completed"
    },
    "tags": []
   },
   "outputs": [
    {
     "data": {
      "text/plain": [
       "Text(0, 0.5, 'N')"
      ]
     },
     "execution_count": 7,
     "metadata": {},
     "output_type": "execute_result"
    },
    {
     "data": {
      "image/png": "[encoded data removed]",
      "text/plain": [
       "<Figure size 1040x910 with 1 Axes>"
      ]
     },
     "metadata": {},
     "output_type": "display_data"
    }
   ],
   "source": [
    "\n",
    "\n",
    "u = np.random.uniform(0,1, size=5000)\n",
    "\n",
    "draws = [func.from_unit_cube(x) for x in u]\n",
    "\n",
    "\n",
    "fig, ax = plt.subplots()\n",
    "\n",
    "\n",
    "ax.hist(draws, color=green, bins=50)\n",
    "\n",
    "ax.set_xlabel(\"value\")\n",
    "ax.set_ylabel(\"N\")\n",
    "\n"
   ]
  }
 ],
 "metadata": {
  "jupytext": {
   "formats": "ipynb,md"
  },
  "kernelspec": {
   "display_name": "Python 3 (ipykernel)",
   "language": "python",
   "name": "python3"
  },
  "language_info": {
   "codemirror_mode": {
    "name": "ipython",
    "version": 3
   },
   "file_extension": ".py",
   "mimetype": "text/x-python",
   "name": "python",
   "nbconvert_exporter": "python",
   "pygments_lexer": "ipython3",
   "version": "3.9.18"
  },
  "papermill": {
   "default_parameters": {},
   "duration": 6.429533,
   "end_time": "2024-02-06T23:24:19.270075",
   "environment_variables": {},
   "exception": null,
   "input_path": "Gamma.ipynb",
   "output_path": "/Users/runner/work/astromodels/astromodels/docs/notebooks/Gamma.ipynb",
   "parameters": {
    "func_name": "Gamma",
    "positive_prior": true
   },
   "start_time": "2024-02-06T23:24:12.840542",
   "version": "2.5.0"
  }
 },
 "nbformat": 4,
 "nbformat_minor": 5
}
