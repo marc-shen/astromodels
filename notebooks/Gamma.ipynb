{
 "cells": [
  {
   "cell_type": "markdown",
   "id": "4fbf8790",
   "metadata": {
    "papermill": {
     "duration": 0.009338,
     "end_time": "2025-04-29T20:14:54.562179",
     "exception": false,
     "start_time": "2025-04-29T20:14:54.552841",
     "status": "completed"
    },
    "tags": []
   },
   "source": [
    "# Gamma"
   ]
  },
  {
   "cell_type": "code",
   "execution_count": 1,
   "id": "2fb294e1",
   "metadata": {
    "execution": {
     "iopub.execute_input": "2025-04-29T20:14:54.576279Z",
     "iopub.status.busy": "2025-04-29T20:14:54.575580Z",
     "iopub.status.idle": "2025-04-29T20:14:55.979977Z",
     "shell.execute_reply": "2025-04-29T20:14:55.979450Z"
    },
    "nbsphinx": "hidden",
    "papermill": {
     "duration": 1.412652,
     "end_time": "2025-04-29T20:14:55.981302",
     "exception": false,
     "start_time": "2025-04-29T20:14:54.568650",
     "status": "completed"
    },
    "tags": []
   },
   "outputs": [],
   "source": [
    "%%capture\n",
    "\n",
    "import numpy as np\n",
    "\n",
    "import matplotlib.pyplot as plt\n",
    "\n",
    "import warnings\n",
    "warnings.simplefilter(\"ignore\")\n",
    "\n",
    "from astromodels.functions.function import _known_functions\n",
    "\n",
    "\n",
    "from jupyterthemes import jtplot\n",
    "jtplot.style(context=\"talk\", fscale=1, ticks=True, grid=False)\n",
    "%matplotlib inline"
   ]
  },
  {
   "cell_type": "code",
   "execution_count": 2,
   "id": "18c8019c",
   "metadata": {
    "execution": {
     "iopub.execute_input": "2025-04-29T20:14:55.984295Z",
     "iopub.status.busy": "2025-04-29T20:14:55.983982Z",
     "iopub.status.idle": "2025-04-29T20:14:55.986099Z",
     "shell.execute_reply": "2025-04-29T20:14:55.985720Z"
    },
    "nbsphinx": "hidden",
    "papermill": {
     "duration": 0.004624,
     "end_time": "2025-04-29T20:14:55.987146",
     "exception": false,
     "start_time": "2025-04-29T20:14:55.982522",
     "status": "completed"
    },
    "tags": [
     "parameters"
    ]
   },
   "outputs": [],
   "source": [
    "func_name = \"TbAbs\"\n",
    "\n",
    "positive_prior = False\n"
   ]
  },
  {
   "cell_type": "code",
   "execution_count": 3,
   "id": "c6af9b6a",
   "metadata": {
    "execution": {
     "iopub.execute_input": "2025-04-29T20:14:55.989657Z",
     "iopub.status.busy": "2025-04-29T20:14:55.989524Z",
     "iopub.status.idle": "2025-04-29T20:14:55.996582Z",
     "shell.execute_reply": "2025-04-29T20:14:55.996164Z"
    },
    "papermill": {
     "duration": 0.009486,
     "end_time": "2025-04-29T20:14:55.997688",
     "exception": false,
     "start_time": "2025-04-29T20:14:55.988202",
     "status": "completed"
    },
    "tags": [
     "injected-parameters"
    ]
   },
   "outputs": [],
   "source": [
    "# Parameters\n",
    "func_name = \"Gamma\"\n",
    "positive_prior = True\n"
   ]
  },
  {
   "cell_type": "code",
   "execution_count": 4,
   "id": "5b5ed69c",
   "metadata": {
    "execution": {
     "iopub.execute_input": "2025-04-29T20:14:56.000263Z",
     "iopub.status.busy": "2025-04-29T20:14:56.000110Z",
     "iopub.status.idle": "2025-04-29T20:14:56.009098Z",
     "shell.execute_reply": "2025-04-29T20:14:56.008674Z"
    },
    "lines_to_next_cell": 0,
    "nbsphinx": "hidden",
    "papermill": {
     "duration": 0.011407,
     "end_time": "2025-04-29T20:14:56.010107",
     "exception": false,
     "start_time": "2025-04-29T20:14:55.998700",
     "status": "completed"
    },
    "tags": []
   },
   "outputs": [],
   "source": [
    "func = _known_functions[func_name]()\n",
    "\n",
    "if not positive_prior:\n",
    "\n",
    "\tenergy_grid = np.linspace(-5,5,1000)\n",
    "\n",
    "else:\n",
    "    \n",
    "    energy_grid = np.linspace(0,1,1000)\n",
    "    \n",
    "    \n",
    "    \n",
    "    \n",
    "blue = \"#4152E3\"\n",
    "red = \"#E3414B\"\n",
    "green = \"#41E39E\""
   ]
  },
  {
   "cell_type": "markdown",
   "id": "4720de85",
   "metadata": {
    "lines_to_next_cell": 0,
    "papermill": {
     "duration": 0.000977,
     "end_time": "2025-04-29T20:14:56.012139",
     "exception": false,
     "start_time": "2025-04-29T20:14:56.011162",
     "status": "completed"
    },
    "tags": []
   },
   "source": [
    "## Description"
   ]
  },
  {
   "cell_type": "code",
   "execution_count": 5,
   "id": "1c184e7a",
   "metadata": {
    "execution": {
     "iopub.execute_input": "2025-04-29T20:14:56.014583Z",
     "iopub.status.busy": "2025-04-29T20:14:56.014441Z",
     "iopub.status.idle": "2025-04-29T20:14:56.018176Z",
     "shell.execute_reply": "2025-04-29T20:14:56.017697Z"
    },
    "papermill": {
     "duration": 0.006173,
     "end_time": "2025-04-29T20:14:56.019249",
     "exception": false,
     "start_time": "2025-04-29T20:14:56.013076",
     "status": "completed"
    },
    "tags": []
   },
   "outputs": [
    {
     "data": {
      "text/html": [
       "<ul>\n",
       "\n",
       "<li>description: A gamma distribution function</li>\n",
       "\n",
       "<li>formula: $ f(x, \\alpha, \\beta)=\\frac{\\beta^\\alpha x^{\\alpha-1} e^{-\\beta x}}{\\Gamma(\\alpha)}$</li>\n",
       "\n",
       "<li>parameters: \n",
       "<ul>\n",
       "\n",
       "<li>alpha: \n",
       "<ul>\n",
       "\n",
       "<li>value: 0.5</li>\n",
       "\n",
       "<li>desc: first shape parameter</li>\n",
       "\n",
       "<li>min_value: 0.0</li>\n",
       "\n",
       "<li>max_value: None</li>\n",
       "\n",
       "<li>unit: </li>\n",
       "\n",
       "<li>is_normalization: False</li>\n",
       "\n",
       "<li>delta: 0.05</li>\n",
       "\n",
       "<li>free: True</li>\n",
       "\n",
       "</ul>\n",
       "\n",
       "</li>\n",
       "\n",
       "<li>beta: \n",
       "<ul>\n",
       "\n",
       "<li>value: 1.0</li>\n",
       "\n",
       "<li>desc: second shape parameter</li>\n",
       "\n",
       "<li>min_value: 0.0</li>\n",
       "\n",
       "<li>max_value: None</li>\n",
       "\n",
       "<li>unit: </li>\n",
       "\n",
       "<li>is_normalization: False</li>\n",
       "\n",
       "<li>delta: 0.1</li>\n",
       "\n",
       "<li>free: True</li>\n",
       "\n",
       "</ul>\n",
       "\n",
       "</li>\n",
       "\n",
       "</ul>\n",
       "\n",
       "</li>\n",
       "\n",
       "</ul>\n"
      ],
      "text/plain": [
       "  * description: A gamma distribution function\n",
       "  * formula: $ f(x, \\alpha, \\beta)=\\frac{\\beta^\\alpha x^{\\alpha-1} e^{-\\beta x}}{\\Gamma(\\alpha)}$\n",
       "  * parameters:\n",
       "    * alpha:\n",
       "      * value: 0.5\n",
       "      * desc: first shape parameter\n",
       "      * min_value: 0.0\n",
       "      * max_value: null\n",
       "      * unit: ''\n",
       "      * is_normalization: false\n",
       "      * delta: 0.05\n",
       "      * free: true\n",
       "    * beta:\n",
       "      * value: 1.0\n",
       "      * desc: second shape parameter\n",
       "      * min_value: 0.0\n",
       "      * max_value: null\n",
       "      * unit: ''\n",
       "      * is_normalization: false\n",
       "      * delta: 0.1\n",
       "      * free: true"
      ]
     },
     "metadata": {},
     "output_type": "display_data"
    }
   ],
   "source": [
    "func.display()"
   ]
  },
  {
   "cell_type": "markdown",
   "id": "1b741497",
   "metadata": {
    "papermill": {
     "duration": 0.001071,
     "end_time": "2025-04-29T20:14:56.021430",
     "exception": false,
     "start_time": "2025-04-29T20:14:56.020359",
     "status": "completed"
    },
    "tags": []
   },
   "source": [
    "## Shape \n",
    "\n",
    "The shape of the function. \n",
    "\n",
    "*If this is not a photon model but a prior or linear function then ignore the units as these docs are auto-generated*"
   ]
  },
  {
   "cell_type": "code",
   "execution_count": 6,
   "id": "a4f6817c",
   "metadata": {
    "execution": {
     "iopub.execute_input": "2025-04-29T20:14:56.024155Z",
     "iopub.status.busy": "2025-04-29T20:14:56.024024Z",
     "iopub.status.idle": "2025-04-29T20:14:56.104924Z",
     "shell.execute_reply": "2025-04-29T20:14:56.104549Z"
    },
    "papermill": {
     "duration": 0.083631,
     "end_time": "2025-04-29T20:14:56.106119",
     "exception": false,
     "start_time": "2025-04-29T20:14:56.022488",
     "status": "completed"
    },
    "tags": [
     "nbsphinx-thumbnail"
    ]
   },
   "outputs": [
    {
     "data": {
      "text/plain": [
       "Text(0, 0.5, 'probability')"
      ]
     },
     "execution_count": 6,
     "metadata": {},
     "output_type": "execute_result"
    },
    {
     "data": {
      "image/png": "[encoded data removed]",
      "text/plain": [
       "<Figure size 1040x910 with 1 Axes>"
      ]
     },
     "metadata": {},
     "output_type": "display_data"
    }
   ],
   "source": [
    "fig, ax = plt.subplots()\n",
    "\n",
    "\n",
    "ax.plot(energy_grid, func(energy_grid), color=blue, lw=3)\n",
    "\n",
    "ax.set_xlabel(\"x\")\n",
    "ax.set_ylabel(\"probability\")\n"
   ]
  },
  {
   "cell_type": "markdown",
   "id": "ba626749",
   "metadata": {
    "papermill": {
     "duration": 0.001331,
     "end_time": "2025-04-29T20:14:56.109058",
     "exception": false,
     "start_time": "2025-04-29T20:14:56.107727",
     "status": "completed"
    },
    "tags": []
   },
   "source": [
    "## Random Number Generation\n",
    "\n",
    "This is how we can generate random numbers from the prior.\n"
   ]
  },
  {
   "cell_type": "code",
   "execution_count": 7,
   "id": "daa13ebf",
   "metadata": {
    "execution": {
     "iopub.execute_input": "2025-04-29T20:14:56.112202Z",
     "iopub.status.busy": "2025-04-29T20:14:56.112067Z",
     "iopub.status.idle": "2025-04-29T20:14:56.441222Z",
     "shell.execute_reply": "2025-04-29T20:14:56.440885Z"
    },
    "papermill": {
     "duration": 0.332155,
     "end_time": "2025-04-29T20:14:56.442486",
     "exception": false,
     "start_time": "2025-04-29T20:14:56.110331",
     "status": "completed"
    },
    "tags": []
   },
   "outputs": [
    {
     "data": {
      "text/plain": [
       "Text(0, 0.5, 'N')"
      ]
     },
     "execution_count": 7,
     "metadata": {},
     "output_type": "execute_result"
    },
    {
     "data": {
      "image/png": "[encoded data removed]",
      "text/plain": [
       "<Figure size 1040x910 with 1 Axes>"
      ]
     },
     "metadata": {},
     "output_type": "display_data"
    }
   ],
   "source": [
    "\n",
    "\n",
    "u = np.random.uniform(0,1, size=5000)\n",
    "\n",
    "draws = [func.from_unit_cube(x) for x in u]\n",
    "\n",
    "\n",
    "fig, ax = plt.subplots()\n",
    "\n",
    "\n",
    "ax.hist(draws, color=green, bins=50)\n",
    "\n",
    "ax.set_xlabel(\"value\")\n",
    "ax.set_ylabel(\"N\")\n",
    "\n"
   ]
  }
 ],
 "metadata": {
  "jupytext": {
   "formats": "ipynb,md"
  },
  "kernelspec": {
   "display_name": "Python 3 (ipykernel)",
   "language": "python",
   "name": "python3"
  },
  "language_info": {
   "codemirror_mode": {
    "name": "ipython",
    "version": 3
   },
   "file_extension": ".py",
   "mimetype": "text/x-python",
   "name": "python",
   "nbconvert_exporter": "python",
   "pygments_lexer": "ipython3",
   "version": "3.9.13"
  },
  "papermill": {
   "default_parameters": {},
   "duration": 2.901185,
   "end_time": "2025-04-29T20:14:56.772096",
   "environment_variables": {},
   "exception": null,
   "input_path": "Gamma.ipynb",
   "output_path": "/Users/runner/work/astromodels/astromodels/docs/notebooks/Gamma.ipynb",
   "parameters": {
    "func_name": "Gamma",
    "positive_prior": true
   },
   "start_time": "2025-04-29T20:14:53.870911",
   "version": "2.6.0"
  }
 },
 "nbformat": 4,
 "nbformat_minor": 5
}
