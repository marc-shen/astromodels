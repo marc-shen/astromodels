{
 "cells": [
  {
   "cell_type": "markdown",
   "id": "55b949a5",
   "metadata": {
    "papermill": {
     "duration": 0.006471,
     "end_time": "2024-05-08T19:33:04.844456",
     "exception": false,
     "start_time": "2024-05-08T19:33:04.837985",
     "status": "completed"
    },
    "tags": []
   },
   "source": [
    "# Gamma"
   ]
  },
  {
   "cell_type": "code",
   "execution_count": 1,
   "id": "4d1b16d1",
   "metadata": {
    "execution": {
     "iopub.execute_input": "2024-05-08T19:33:04.856633Z",
     "iopub.status.busy": "2024-05-08T19:33:04.855918Z",
     "iopub.status.idle": "2024-05-08T19:33:06.512362Z",
     "shell.execute_reply": "2024-05-08T19:33:06.511604Z"
    },
    "nbsphinx": "hidden",
    "papermill": {
     "duration": 1.666416,
     "end_time": "2024-05-08T19:33:06.514325",
     "exception": false,
     "start_time": "2024-05-08T19:33:04.847909",
     "status": "completed"
    },
    "tags": []
   },
   "outputs": [],
   "source": [
    "%%capture\n",
    "\n",
    "import numpy as np\n",
    "\n",
    "import matplotlib.pyplot as plt\n",
    "\n",
    "import warnings\n",
    "warnings.simplefilter(\"ignore\")\n",
    "\n",
    "from astromodels.functions.function import _known_functions\n",
    "\n",
    "\n",
    "from jupyterthemes import jtplot\n",
    "jtplot.style(context=\"talk\", fscale=1, ticks=True, grid=False)\n",
    "%matplotlib inline"
   ]
  },
  {
   "cell_type": "code",
   "execution_count": 2,
   "id": "8a6b2c56",
   "metadata": {
    "execution": {
     "iopub.execute_input": "2024-05-08T19:33:06.517936Z",
     "iopub.status.busy": "2024-05-08T19:33:06.517537Z",
     "iopub.status.idle": "2024-05-08T19:33:06.525208Z",
     "shell.execute_reply": "2024-05-08T19:33:06.524706Z"
    },
    "nbsphinx": "hidden",
    "papermill": {
     "duration": 0.011071,
     "end_time": "2024-05-08T19:33:06.526775",
     "exception": false,
     "start_time": "2024-05-08T19:33:06.515704",
     "status": "completed"
    },
    "tags": [
     "parameters"
    ]
   },
   "outputs": [],
   "source": [
    "func_name = \"TbAbs\"\n",
    "\n",
    "positive_prior = False\n"
   ]
  },
  {
   "cell_type": "code",
   "execution_count": 3,
   "id": "416c021c",
   "metadata": {
    "execution": {
     "iopub.execute_input": "2024-05-08T19:33:06.529985Z",
     "iopub.status.busy": "2024-05-08T19:33:06.529795Z",
     "iopub.status.idle": "2024-05-08T19:33:06.538165Z",
     "shell.execute_reply": "2024-05-08T19:33:06.537579Z"
    },
    "papermill": {
     "duration": 0.012404,
     "end_time": "2024-05-08T19:33:06.540453",
     "exception": false,
     "start_time": "2024-05-08T19:33:06.528049",
     "status": "completed"
    },
    "tags": [
     "injected-parameters"
    ]
   },
   "outputs": [],
   "source": [
    "# Parameters\n",
    "func_name = \"Gamma\"\n",
    "positive_prior = True\n"
   ]
  },
  {
   "cell_type": "code",
   "execution_count": 4,
   "id": "a1edcce6",
   "metadata": {
    "execution": {
     "iopub.execute_input": "2024-05-08T19:33:06.544231Z",
     "iopub.status.busy": "2024-05-08T19:33:06.544025Z",
     "iopub.status.idle": "2024-05-08T19:33:06.553630Z",
     "shell.execute_reply": "2024-05-08T19:33:06.553033Z"
    },
    "lines_to_next_cell": 0,
    "nbsphinx": "hidden",
    "papermill": {
     "duration": 0.013183,
     "end_time": "2024-05-08T19:33:06.555241",
     "exception": false,
     "start_time": "2024-05-08T19:33:06.542058",
     "status": "completed"
    },
    "tags": []
   },
   "outputs": [],
   "source": [
    "func = _known_functions[func_name]()\n",
    "\n",
    "if not positive_prior:\n",
    "\n",
    "\tenergy_grid = np.linspace(-5,5,1000)\n",
    "\n",
    "else:\n",
    "    \n",
    "    energy_grid = np.linspace(0,1,1000)\n",
    "    \n",
    "    \n",
    "    \n",
    "    \n",
    "blue = \"#4152E3\"\n",
    "red = \"#E3414B\"\n",
    "green = \"#41E39E\""
   ]
  },
  {
   "cell_type": "markdown",
   "id": "9f5ac2a9",
   "metadata": {
    "lines_to_next_cell": 0,
    "papermill": {
     "duration": 0.001095,
     "end_time": "2024-05-08T19:33:06.557689",
     "exception": false,
     "start_time": "2024-05-08T19:33:06.556594",
     "status": "completed"
    },
    "tags": []
   },
   "source": [
    "## Description"
   ]
  },
  {
   "cell_type": "code",
   "execution_count": 5,
   "id": "14d2d32c",
   "metadata": {
    "execution": {
     "iopub.execute_input": "2024-05-08T19:33:06.560877Z",
     "iopub.status.busy": "2024-05-08T19:33:06.560673Z",
     "iopub.status.idle": "2024-05-08T19:33:06.565376Z",
     "shell.execute_reply": "2024-05-08T19:33:06.564958Z"
    },
    "papermill": {
     "duration": 0.008152,
     "end_time": "2024-05-08T19:33:06.566882",
     "exception": false,
     "start_time": "2024-05-08T19:33:06.558730",
     "status": "completed"
    },
    "tags": []
   },
   "outputs": [
    {
     "data": {
      "text/html": [
       "<ul>\n",
       "\n",
       "<li>description: A gamma distribution function</li>\n",
       "\n",
       "<li>formula: $ f(x, \\alpha, \\beta)=\\frac{\\beta^\\alpha x^{\\alpha-1} e^{-\\beta x}}{\\Gamma(\\alpha)}$</li>\n",
       "\n",
       "<li>parameters: \n",
       "<ul>\n",
       "\n",
       "<li>alpha: \n",
       "<ul>\n",
       "\n",
       "<li>value: 0.5</li>\n",
       "\n",
       "<li>desc: first shape parameter</li>\n",
       "\n",
       "<li>min_value: 0.0</li>\n",
       "\n",
       "<li>max_value: None</li>\n",
       "\n",
       "<li>unit: </li>\n",
       "\n",
       "<li>is_normalization: False</li>\n",
       "\n",
       "<li>delta: 0.05</li>\n",
       "\n",
       "<li>free: True</li>\n",
       "\n",
       "</ul>\n",
       "\n",
       "</li>\n",
       "\n",
       "<li>beta: \n",
       "<ul>\n",
       "\n",
       "<li>value: 1.0</li>\n",
       "\n",
       "<li>desc: second shape parameter</li>\n",
       "\n",
       "<li>min_value: 0.0</li>\n",
       "\n",
       "<li>max_value: None</li>\n",
       "\n",
       "<li>unit: </li>\n",
       "\n",
       "<li>is_normalization: False</li>\n",
       "\n",
       "<li>delta: 0.1</li>\n",
       "\n",
       "<li>free: True</li>\n",
       "\n",
       "</ul>\n",
       "\n",
       "</li>\n",
       "\n",
       "</ul>\n",
       "\n",
       "</li>\n",
       "\n",
       "</ul>\n"
      ],
      "text/plain": [
       "  * description: A gamma distribution function\n",
       "  * formula: $ f(x, \\alpha, \\beta)=\\frac{\\beta^\\alpha x^{\\alpha-1} e^{-\\beta x}}{\\Gamma(\\alpha)}$\n",
       "  * parameters:\n",
       "    * alpha:\n",
       "      * value: 0.5\n",
       "      * desc: first shape parameter\n",
       "      * min_value: 0.0\n",
       "      * max_value: null\n",
       "      * unit: ''\n",
       "      * is_normalization: false\n",
       "      * delta: 0.05\n",
       "      * free: true\n",
       "    * beta:\n",
       "      * value: 1.0\n",
       "      * desc: second shape parameter\n",
       "      * min_value: 0.0\n",
       "      * max_value: null\n",
       "      * unit: ''\n",
       "      * is_normalization: false\n",
       "      * delta: 0.1\n",
       "      * free: true"
      ]
     },
     "metadata": {},
     "output_type": "display_data"
    }
   ],
   "source": [
    "func.display()"
   ]
  },
  {
   "cell_type": "markdown",
   "id": "1ee5e1ad",
   "metadata": {
    "papermill": {
     "duration": 0.001386,
     "end_time": "2024-05-08T19:33:06.569719",
     "exception": false,
     "start_time": "2024-05-08T19:33:06.568333",
     "status": "completed"
    },
    "tags": []
   },
   "source": [
    "## Shape \n",
    "\n",
    "The shape of the function. \n",
    "\n",
    "*If this is not a photon model but a prior or linear function then ignore the units as these docs are auto-generated*"
   ]
  },
  {
   "cell_type": "code",
   "execution_count": 6,
   "id": "88c745cc",
   "metadata": {
    "execution": {
     "iopub.execute_input": "2024-05-08T19:33:06.573138Z",
     "iopub.status.busy": "2024-05-08T19:33:06.572928Z",
     "iopub.status.idle": "2024-05-08T19:33:06.702851Z",
     "shell.execute_reply": "2024-05-08T19:33:06.701919Z"
    },
    "papermill": {
     "duration": 0.133434,
     "end_time": "2024-05-08T19:33:06.704401",
     "exception": false,
     "start_time": "2024-05-08T19:33:06.570967",
     "status": "completed"
    },
    "tags": [
     "nbsphinx-thumbnail"
    ]
   },
   "outputs": [
    {
     "data": {
      "text/plain": [
       "Text(0, 0.5, 'probability')"
      ]
     },
     "execution_count": 6,
     "metadata": {},
     "output_type": "execute_result"
    },
    {
     "data": {
      "image/png": "[encoded data removed]",
      "text/plain": [
       "<Figure size 1040x910 with 1 Axes>"
      ]
     },
     "metadata": {},
     "output_type": "display_data"
    }
   ],
   "source": [
    "fig, ax = plt.subplots()\n",
    "\n",
    "\n",
    "ax.plot(energy_grid, func(energy_grid), color=blue, lw=3)\n",
    "\n",
    "ax.set_xlabel(\"x\")\n",
    "ax.set_ylabel(\"probability\")\n"
   ]
  },
  {
   "cell_type": "markdown",
   "id": "266d686e",
   "metadata": {
    "papermill": {
     "duration": 0.001589,
     "end_time": "2024-05-08T19:33:06.707719",
     "exception": false,
     "start_time": "2024-05-08T19:33:06.706130",
     "status": "completed"
    },
    "tags": []
   },
   "source": [
    "## Random Number Generation\n",
    "\n",
    "This is how we can generate random numbers from the prior.\n"
   ]
  },
  {
   "cell_type": "code",
   "execution_count": 7,
   "id": "4a87fe0a",
   "metadata": {
    "execution": {
     "iopub.execute_input": "2024-05-08T19:33:06.711842Z",
     "iopub.status.busy": "2024-05-08T19:33:06.711402Z",
     "iopub.status.idle": "2024-05-08T19:33:07.125795Z",
     "shell.execute_reply": "2024-05-08T19:33:07.125332Z"
    },
    "papermill": {
     "duration": 0.41847,
     "end_time": "2024-05-08T19:33:07.127626",
     "exception": false,
     "start_time": "2024-05-08T19:33:06.709156",
     "status": "completed"
    },
    "tags": []
   },
   "outputs": [
    {
     "data": {
      "text/plain": [
       "Text(0, 0.5, 'N')"
      ]
     },
     "execution_count": 7,
     "metadata": {},
     "output_type": "execute_result"
    },
    {
     "data": {
      "image/png": "[encoded data removed]",
      "text/plain": [
       "<Figure size 1040x910 with 1 Axes>"
      ]
     },
     "metadata": {},
     "output_type": "display_data"
    }
   ],
   "source": [
    "\n",
    "\n",
    "u = np.random.uniform(0,1, size=5000)\n",
    "\n",
    "draws = [func.from_unit_cube(x) for x in u]\n",
    "\n",
    "\n",
    "fig, ax = plt.subplots()\n",
    "\n",
    "\n",
    "ax.hist(draws, color=green, bins=50)\n",
    "\n",
    "ax.set_xlabel(\"value\")\n",
    "ax.set_ylabel(\"N\")\n",
    "\n"
   ]
  }
 ],
 "metadata": {
  "jupytext": {
   "formats": "ipynb,md"
  },
  "kernelspec": {
   "display_name": "Python 3 (ipykernel)",
   "language": "python",
   "name": "python3"
  },
  "language_info": {
   "codemirror_mode": {
    "name": "ipython",
    "version": 3
   },
   "file_extension": ".py",
   "mimetype": "text/x-python",
   "name": "python",
   "nbconvert_exporter": "python",
   "pygments_lexer": "ipython3",
   "version": "3.9.13"
  },
  "papermill": {
   "default_parameters": {},
   "duration": 3.344878,
   "end_time": "2024-05-08T19:33:07.572031",
   "environment_variables": {},
   "exception": null,
   "input_path": "Gamma.ipynb",
   "output_path": "/Users/runner/work/astromodels/astromodels/docs/notebooks/Gamma.ipynb",
   "parameters": {
    "func_name": "Gamma",
    "positive_prior": true
   },
   "start_time": "2024-05-08T19:33:04.227153",
   "version": "2.6.0"
  }
 },
 "nbformat": 4,
 "nbformat_minor": 5
}
