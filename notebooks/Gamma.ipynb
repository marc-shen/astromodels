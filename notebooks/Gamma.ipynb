{
 "cells": [
  {
   "cell_type": "markdown",
   "id": "a871f6ca",
   "metadata": {
    "papermill": {
     "duration": 0.001488,
     "end_time": "2024-05-08T21:31:49.392408",
     "exception": false,
     "start_time": "2024-05-08T21:31:49.390920",
     "status": "completed"
    },
    "tags": []
   },
   "source": [
    "# Gamma"
   ]
  },
  {
   "cell_type": "code",
   "execution_count": 1,
   "id": "0742c150",
   "metadata": {
    "execution": {
     "iopub.execute_input": "2024-05-08T21:31:49.395486Z",
     "iopub.status.busy": "2024-05-08T21:31:49.395302Z",
     "iopub.status.idle": "2024-05-08T21:31:50.974758Z",
     "shell.execute_reply": "2024-05-08T21:31:50.974243Z"
    },
    "nbsphinx": "hidden",
    "papermill": {
     "duration": 1.582762,
     "end_time": "2024-05-08T21:31:50.976285",
     "exception": false,
     "start_time": "2024-05-08T21:31:49.393523",
     "status": "completed"
    },
    "tags": []
   },
   "outputs": [],
   "source": [
    "%%capture\n",
    "\n",
    "import numpy as np\n",
    "\n",
    "import matplotlib.pyplot as plt\n",
    "\n",
    "import warnings\n",
    "warnings.simplefilter(\"ignore\")\n",
    "\n",
    "from astromodels.functions.function import _known_functions\n",
    "\n",
    "\n",
    "from jupyterthemes import jtplot\n",
    "jtplot.style(context=\"talk\", fscale=1, ticks=True, grid=False)\n",
    "%matplotlib inline"
   ]
  },
  {
   "cell_type": "code",
   "execution_count": 2,
   "id": "42d08a98",
   "metadata": {
    "execution": {
     "iopub.execute_input": "2024-05-08T21:31:50.979614Z",
     "iopub.status.busy": "2024-05-08T21:31:50.979273Z",
     "iopub.status.idle": "2024-05-08T21:31:50.987748Z",
     "shell.execute_reply": "2024-05-08T21:31:50.987297Z"
    },
    "nbsphinx": "hidden",
    "papermill": {
     "duration": 0.011527,
     "end_time": "2024-05-08T21:31:50.989077",
     "exception": false,
     "start_time": "2024-05-08T21:31:50.977550",
     "status": "completed"
    },
    "tags": [
     "parameters"
    ]
   },
   "outputs": [],
   "source": [
    "func_name = \"TbAbs\"\n",
    "\n",
    "positive_prior = False\n"
   ]
  },
  {
   "cell_type": "code",
   "execution_count": 3,
   "id": "852bf46e",
   "metadata": {
    "execution": {
     "iopub.execute_input": "2024-05-08T21:31:50.992005Z",
     "iopub.status.busy": "2024-05-08T21:31:50.991854Z",
     "iopub.status.idle": "2024-05-08T21:31:50.999822Z",
     "shell.execute_reply": "2024-05-08T21:31:50.999442Z"
    },
    "papermill": {
     "duration": 0.010812,
     "end_time": "2024-05-08T21:31:51.001106",
     "exception": false,
     "start_time": "2024-05-08T21:31:50.990294",
     "status": "completed"
    },
    "tags": [
     "injected-parameters"
    ]
   },
   "outputs": [],
   "source": [
    "# Parameters\n",
    "func_name = \"Gamma\"\n",
    "positive_prior = True\n"
   ]
  },
  {
   "cell_type": "code",
   "execution_count": 4,
   "id": "fb4bd1a2",
   "metadata": {
    "execution": {
     "iopub.execute_input": "2024-05-08T21:31:51.003843Z",
     "iopub.status.busy": "2024-05-08T21:31:51.003692Z",
     "iopub.status.idle": "2024-05-08T21:31:51.012668Z",
     "shell.execute_reply": "2024-05-08T21:31:51.012231Z"
    },
    "lines_to_next_cell": 0,
    "nbsphinx": "hidden",
    "papermill": {
     "duration": 0.011727,
     "end_time": "2024-05-08T21:31:51.013916",
     "exception": false,
     "start_time": "2024-05-08T21:31:51.002189",
     "status": "completed"
    },
    "tags": []
   },
   "outputs": [],
   "source": [
    "func = _known_functions[func_name]()\n",
    "\n",
    "if not positive_prior:\n",
    "\n",
    "\tenergy_grid = np.linspace(-5,5,1000)\n",
    "\n",
    "else:\n",
    "    \n",
    "    energy_grid = np.linspace(0,1,1000)\n",
    "    \n",
    "    \n",
    "    \n",
    "    \n",
    "blue = \"#4152E3\"\n",
    "red = \"#E3414B\"\n",
    "green = \"#41E39E\""
   ]
  },
  {
   "cell_type": "markdown",
   "id": "0f81622c",
   "metadata": {
    "lines_to_next_cell": 0,
    "papermill": {
     "duration": 0.001037,
     "end_time": "2024-05-08T21:31:51.016097",
     "exception": false,
     "start_time": "2024-05-08T21:31:51.015060",
     "status": "completed"
    },
    "tags": []
   },
   "source": [
    "## Description"
   ]
  },
  {
   "cell_type": "code",
   "execution_count": 5,
   "id": "e0d6cd5b",
   "metadata": {
    "execution": {
     "iopub.execute_input": "2024-05-08T21:31:51.018881Z",
     "iopub.status.busy": "2024-05-08T21:31:51.018727Z",
     "iopub.status.idle": "2024-05-08T21:31:51.028591Z",
     "shell.execute_reply": "2024-05-08T21:31:51.028214Z"
    },
    "papermill": {
     "duration": 0.012728,
     "end_time": "2024-05-08T21:31:51.029880",
     "exception": false,
     "start_time": "2024-05-08T21:31:51.017152",
     "status": "completed"
    },
    "tags": []
   },
   "outputs": [
    {
     "data": {
      "text/html": [
       "<ul>\n",
       "\n",
       "<li>description: A gamma distribution function</li>\n",
       "\n",
       "<li>formula: $ f(x, \\alpha, \\beta)=\\frac{\\beta^\\alpha x^{\\alpha-1} e^{-\\beta x}}{\\Gamma(\\alpha)}$</li>\n",
       "\n",
       "<li>parameters: \n",
       "<ul>\n",
       "\n",
       "<li>alpha: \n",
       "<ul>\n",
       "\n",
       "<li>value: 0.5</li>\n",
       "\n",
       "<li>desc: first shape parameter</li>\n",
       "\n",
       "<li>min_value: 0.0</li>\n",
       "\n",
       "<li>max_value: None</li>\n",
       "\n",
       "<li>unit: </li>\n",
       "\n",
       "<li>is_normalization: False</li>\n",
       "\n",
       "<li>delta: 0.05</li>\n",
       "\n",
       "<li>free: True</li>\n",
       "\n",
       "</ul>\n",
       "\n",
       "</li>\n",
       "\n",
       "<li>beta: \n",
       "<ul>\n",
       "\n",
       "<li>value: 1.0</li>\n",
       "\n",
       "<li>desc: second shape parameter</li>\n",
       "\n",
       "<li>min_value: 0.0</li>\n",
       "\n",
       "<li>max_value: None</li>\n",
       "\n",
       "<li>unit: </li>\n",
       "\n",
       "<li>is_normalization: False</li>\n",
       "\n",
       "<li>delta: 0.1</li>\n",
       "\n",
       "<li>free: True</li>\n",
       "\n",
       "</ul>\n",
       "\n",
       "</li>\n",
       "\n",
       "</ul>\n",
       "\n",
       "</li>\n",
       "\n",
       "</ul>\n"
      ],
      "text/plain": [
       "  * description: A gamma distribution function\n",
       "  * formula: $ f(x, \\alpha, \\beta)=\\frac{\\beta^\\alpha x^{\\alpha-1} e^{-\\beta x}}{\\Gamma(\\alpha)}$\n",
       "  * parameters:\n",
       "    * alpha:\n",
       "      * value: 0.5\n",
       "      * desc: first shape parameter\n",
       "      * min_value: 0.0\n",
       "      * max_value: null\n",
       "      * unit: ''\n",
       "      * is_normalization: false\n",
       "      * delta: 0.05\n",
       "      * free: true\n",
       "    * beta:\n",
       "      * value: 1.0\n",
       "      * desc: second shape parameter\n",
       "      * min_value: 0.0\n",
       "      * max_value: null\n",
       "      * unit: ''\n",
       "      * is_normalization: false\n",
       "      * delta: 0.1\n",
       "      * free: true"
      ]
     },
     "metadata": {},
     "output_type": "display_data"
    }
   ],
   "source": [
    "func.display()"
   ]
  },
  {
   "cell_type": "markdown",
   "id": "9e98e5f6",
   "metadata": {
    "papermill": {
     "duration": 0.001079,
     "end_time": "2024-05-08T21:31:51.032182",
     "exception": false,
     "start_time": "2024-05-08T21:31:51.031103",
     "status": "completed"
    },
    "tags": []
   },
   "source": [
    "## Shape \n",
    "\n",
    "The shape of the function. \n",
    "\n",
    "*If this is not a photon model but a prior or linear function then ignore the units as these docs are auto-generated*"
   ]
  },
  {
   "cell_type": "code",
   "execution_count": 6,
   "id": "e09d7adf",
   "metadata": {
    "execution": {
     "iopub.execute_input": "2024-05-08T21:31:51.034979Z",
     "iopub.status.busy": "2024-05-08T21:31:51.034832Z",
     "iopub.status.idle": "2024-05-08T21:31:51.147303Z",
     "shell.execute_reply": "2024-05-08T21:31:51.146790Z"
    },
    "papermill": {
     "duration": 0.115591,
     "end_time": "2024-05-08T21:31:51.148857",
     "exception": false,
     "start_time": "2024-05-08T21:31:51.033266",
     "status": "completed"
    },
    "tags": [
     "nbsphinx-thumbnail"
    ]
   },
   "outputs": [
    {
     "data": {
      "text/plain": [
       "Text(0, 0.5, 'probability')"
      ]
     },
     "execution_count": 6,
     "metadata": {},
     "output_type": "execute_result"
    },
    {
     "data": {
      "image/png": "[encoded data removed]",
      "text/plain": [
       "<Figure size 1040x910 with 1 Axes>"
      ]
     },
     "metadata": {},
     "output_type": "display_data"
    }
   ],
   "source": [
    "fig, ax = plt.subplots()\n",
    "\n",
    "\n",
    "ax.plot(energy_grid, func(energy_grid), color=blue, lw=3)\n",
    "\n",
    "ax.set_xlabel(\"x\")\n",
    "ax.set_ylabel(\"probability\")\n"
   ]
  },
  {
   "cell_type": "markdown",
   "id": "61f6f06a",
   "metadata": {
    "papermill": {
     "duration": 0.001823,
     "end_time": "2024-05-08T21:31:51.152465",
     "exception": false,
     "start_time": "2024-05-08T21:31:51.150642",
     "status": "completed"
    },
    "tags": []
   },
   "source": [
    "## Random Number Generation\n",
    "\n",
    "This is how we can generate random numbers from the prior.\n"
   ]
  },
  {
   "cell_type": "code",
   "execution_count": 7,
   "id": "ea5df8f7",
   "metadata": {
    "execution": {
     "iopub.execute_input": "2024-05-08T21:31:51.156934Z",
     "iopub.status.busy": "2024-05-08T21:31:51.156725Z",
     "iopub.status.idle": "2024-05-08T21:31:51.532121Z",
     "shell.execute_reply": "2024-05-08T21:31:51.531770Z"
    },
    "papermill": {
     "duration": 0.379391,
     "end_time": "2024-05-08T21:31:51.533563",
     "exception": false,
     "start_time": "2024-05-08T21:31:51.154172",
     "status": "completed"
    },
    "tags": []
   },
   "outputs": [
    {
     "data": {
      "text/plain": [
       "Text(0, 0.5, 'N')"
      ]
     },
     "execution_count": 7,
     "metadata": {},
     "output_type": "execute_result"
    },
    {
     "data": {
      "image/png": "[encoded data removed]",
      "text/plain": [
       "<Figure size 1040x910 with 1 Axes>"
      ]
     },
     "metadata": {},
     "output_type": "display_data"
    }
   ],
   "source": [
    "\n",
    "\n",
    "u = np.random.uniform(0,1, size=5000)\n",
    "\n",
    "draws = [func.from_unit_cube(x) for x in u]\n",
    "\n",
    "\n",
    "fig, ax = plt.subplots()\n",
    "\n",
    "\n",
    "ax.hist(draws, color=green, bins=50)\n",
    "\n",
    "ax.set_xlabel(\"value\")\n",
    "ax.set_ylabel(\"N\")\n",
    "\n"
   ]
  }
 ],
 "metadata": {
  "jupytext": {
   "formats": "ipynb,md"
  },
  "kernelspec": {
   "display_name": "Python 3 (ipykernel)",
   "language": "python",
   "name": "python3"
  },
  "language_info": {
   "codemirror_mode": {
    "name": "ipython",
    "version": 3
   },
   "file_extension": ".py",
   "mimetype": "text/x-python",
   "name": "python",
   "nbconvert_exporter": "python",
   "pygments_lexer": "ipython3",
   "version": "3.9.13"
  },
  "papermill": {
   "default_parameters": {},
   "duration": 3.352635,
   "end_time": "2024-05-08T21:31:51.961237",
   "environment_variables": {},
   "exception": null,
   "input_path": "Gamma.ipynb",
   "output_path": "/Users/runner/work/astromodels/astromodels/docs/notebooks/Gamma.ipynb",
   "parameters": {
    "func_name": "Gamma",
    "positive_prior": true
   },
   "start_time": "2024-05-08T21:31:48.608602",
   "version": "2.6.0"
  }
 },
 "nbformat": 4,
 "nbformat_minor": 5
}
