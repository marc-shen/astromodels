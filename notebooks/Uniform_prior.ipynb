{
 "cells": [
  {
   "cell_type": "markdown",
   "id": "fefeff65",
   "metadata": {
    "papermill": {
     "duration": 0.010469,
     "end_time": "2024-09-09T18:56:26.714057",
     "exception": false,
     "start_time": "2024-09-09T18:56:26.703588",
     "status": "completed"
    },
    "tags": []
   },
   "source": [
    "# Uniform prior"
   ]
  },
  {
   "cell_type": "code",
   "execution_count": 1,
   "id": "9a0c6276",
   "metadata": {
    "execution": {
     "iopub.execute_input": "2024-09-09T18:56:26.725625Z",
     "iopub.status.busy": "2024-09-09T18:56:26.724975Z",
     "iopub.status.idle": "2024-09-09T18:56:28.177763Z",
     "shell.execute_reply": "2024-09-09T18:56:28.177268Z"
    },
    "nbsphinx": "hidden",
    "papermill": {
     "duration": 1.460343,
     "end_time": "2024-09-09T18:56:28.179257",
     "exception": false,
     "start_time": "2024-09-09T18:56:26.718914",
     "status": "completed"
    },
    "tags": []
   },
   "outputs": [],
   "source": [
    "%%capture\n",
    "\n",
    "import numpy as np\n",
    "\n",
    "import matplotlib.pyplot as plt\n",
    "\n",
    "import warnings\n",
    "warnings.simplefilter(\"ignore\")\n",
    "\n",
    "from astromodels.functions.function import _known_functions\n",
    "\n",
    "\n",
    "from jupyterthemes import jtplot\n",
    "jtplot.style(context=\"talk\", fscale=1, ticks=True, grid=False)\n",
    "%matplotlib inline"
   ]
  },
  {
   "cell_type": "code",
   "execution_count": 2,
   "id": "3ce8ad73",
   "metadata": {
    "execution": {
     "iopub.execute_input": "2024-09-09T18:56:28.182510Z",
     "iopub.status.busy": "2024-09-09T18:56:28.182176Z",
     "iopub.status.idle": "2024-09-09T18:56:28.190578Z",
     "shell.execute_reply": "2024-09-09T18:56:28.190208Z"
    },
    "nbsphinx": "hidden",
    "papermill": {
     "duration": 0.011419,
     "end_time": "2024-09-09T18:56:28.191876",
     "exception": false,
     "start_time": "2024-09-09T18:56:28.180457",
     "status": "completed"
    },
    "tags": [
     "parameters"
    ]
   },
   "outputs": [],
   "source": [
    "func_name = \"TbAbs\"\n",
    "\n",
    "positive_prior = False\n"
   ]
  },
  {
   "cell_type": "code",
   "execution_count": 3,
   "id": "80248d60",
   "metadata": {
    "execution": {
     "iopub.execute_input": "2024-09-09T18:56:28.194547Z",
     "iopub.status.busy": "2024-09-09T18:56:28.194403Z",
     "iopub.status.idle": "2024-09-09T18:56:28.202280Z",
     "shell.execute_reply": "2024-09-09T18:56:28.201932Z"
    },
    "papermill": {
     "duration": 0.010618,
     "end_time": "2024-09-09T18:56:28.203532",
     "exception": false,
     "start_time": "2024-09-09T18:56:28.192914",
     "status": "completed"
    },
    "tags": [
     "injected-parameters"
    ]
   },
   "outputs": [],
   "source": [
    "# Parameters\n",
    "func_name = \"Uniform_prior\"\n",
    "positive_prior = False\n"
   ]
  },
  {
   "cell_type": "code",
   "execution_count": 4,
   "id": "11e92015",
   "metadata": {
    "execution": {
     "iopub.execute_input": "2024-09-09T18:56:28.206132Z",
     "iopub.status.busy": "2024-09-09T18:56:28.205990Z",
     "iopub.status.idle": "2024-09-09T18:56:28.214786Z",
     "shell.execute_reply": "2024-09-09T18:56:28.214404Z"
    },
    "lines_to_next_cell": 0,
    "nbsphinx": "hidden",
    "papermill": {
     "duration": 0.011521,
     "end_time": "2024-09-09T18:56:28.216058",
     "exception": false,
     "start_time": "2024-09-09T18:56:28.204537",
     "status": "completed"
    },
    "tags": []
   },
   "outputs": [],
   "source": [
    "func = _known_functions[func_name]()\n",
    "\n",
    "if not positive_prior:\n",
    "\n",
    "\tenergy_grid = np.linspace(-5,5,1000)\n",
    "\n",
    "else:\n",
    "    \n",
    "    energy_grid = np.linspace(0,1,1000)\n",
    "    \n",
    "    \n",
    "    \n",
    "    \n",
    "blue = \"#4152E3\"\n",
    "red = \"#E3414B\"\n",
    "green = \"#41E39E\""
   ]
  },
  {
   "cell_type": "markdown",
   "id": "e9bed67c",
   "metadata": {
    "lines_to_next_cell": 0,
    "papermill": {
     "duration": 0.000994,
     "end_time": "2024-09-09T18:56:28.218065",
     "exception": false,
     "start_time": "2024-09-09T18:56:28.217071",
     "status": "completed"
    },
    "tags": []
   },
   "source": [
    "## Description"
   ]
  },
  {
   "cell_type": "code",
   "execution_count": 5,
   "id": "55619079",
   "metadata": {
    "execution": {
     "iopub.execute_input": "2024-09-09T18:56:28.220694Z",
     "iopub.status.busy": "2024-09-09T18:56:28.220554Z",
     "iopub.status.idle": "2024-09-09T18:56:28.224660Z",
     "shell.execute_reply": "2024-09-09T18:56:28.224184Z"
    },
    "papermill": {
     "duration": 0.006871,
     "end_time": "2024-09-09T18:56:28.225917",
     "exception": false,
     "start_time": "2024-09-09T18:56:28.219046",
     "status": "completed"
    },
    "tags": []
   },
   "outputs": [
    {
     "data": {
      "text/html": [
       "<ul>\n",
       "\n",
       "<li>description: A function which is constant on the interval lower_bound - upper_bound and 0 outside the interval. The extremes of the interval are counted as part of the interval.</li>\n",
       "\n",
       "<li>formula: $ f(x)=\\begin{cases}0 & x < \\text{lower_bound} \\\\\\text{value} & \\text{lower_bound} \\le x \\le \\text{upper_bound} \\\\ 0 & x > \\text{upper_bound} \\end{cases}$</li>\n",
       "\n",
       "<li>parameters: \n",
       "<ul>\n",
       "\n",
       "<li>lower_bound: \n",
       "<ul>\n",
       "\n",
       "<li>value: 0.0</li>\n",
       "\n",
       "<li>desc: Lower bound for the interval</li>\n",
       "\n",
       "<li>min_value: -inf</li>\n",
       "\n",
       "<li>max_value: inf</li>\n",
       "\n",
       "<li>unit: </li>\n",
       "\n",
       "<li>is_normalization: False</li>\n",
       "\n",
       "<li>delta: 0.1</li>\n",
       "\n",
       "<li>free: True</li>\n",
       "\n",
       "</ul>\n",
       "\n",
       "</li>\n",
       "\n",
       "<li>upper_bound: \n",
       "<ul>\n",
       "\n",
       "<li>value: 1.0</li>\n",
       "\n",
       "<li>desc: Upper bound for the interval</li>\n",
       "\n",
       "<li>min_value: -inf</li>\n",
       "\n",
       "<li>max_value: inf</li>\n",
       "\n",
       "<li>unit: </li>\n",
       "\n",
       "<li>is_normalization: False</li>\n",
       "\n",
       "<li>delta: 0.1</li>\n",
       "\n",
       "<li>free: True</li>\n",
       "\n",
       "</ul>\n",
       "\n",
       "</li>\n",
       "\n",
       "<li>value: \n",
       "<ul>\n",
       "\n",
       "<li>value: 1.0</li>\n",
       "\n",
       "<li>desc: Value in the interval</li>\n",
       "\n",
       "<li>min_value: None</li>\n",
       "\n",
       "<li>max_value: None</li>\n",
       "\n",
       "<li>unit: </li>\n",
       "\n",
       "<li>is_normalization: False</li>\n",
       "\n",
       "<li>delta: 0.1</li>\n",
       "\n",
       "<li>free: True</li>\n",
       "\n",
       "</ul>\n",
       "\n",
       "</li>\n",
       "\n",
       "</ul>\n",
       "\n",
       "</li>\n",
       "\n",
       "</ul>\n"
      ],
      "text/plain": [
       "  * description: A function which is constant on the interval lower_bound - upper_bound\n",
       "    * and 0 outside the interval. The extremes of the interval are counted as part of\n",
       "    * the interval.\n",
       "  * formula: $ f(x)=\\begin{cases}0 & x < \\text{lower_bound} \\\\\\text{value} & \\text{lower_bound}\n",
       "    * \\le x \\le \\text{upper_bound} \\\\ 0 & x > \\text{upper_bound} \\end{cases}$\n",
       "  * parameters:\n",
       "    * lower_bound:\n",
       "      * value: 0.0\n",
       "      * desc: Lower bound for the interval\n",
       "      * min_value: -.inf\n",
       "      * max_value: .inf\n",
       "      * unit: ''\n",
       "      * is_normalization: false\n",
       "      * delta: 0.1\n",
       "      * free: true\n",
       "    * upper_bound:\n",
       "      * value: 1.0\n",
       "      * desc: Upper bound for the interval\n",
       "      * min_value: -.inf\n",
       "      * max_value: .inf\n",
       "      * unit: ''\n",
       "      * is_normalization: false\n",
       "      * delta: 0.1\n",
       "      * free: true\n",
       "    * value:\n",
       "      * value: 1.0\n",
       "      * desc: Value in the interval\n",
       "      * min_value: null\n",
       "      * max_value: null\n",
       "      * unit: ''\n",
       "      * is_normalization: false\n",
       "      * delta: 0.1\n",
       "      * free: true"
      ]
     },
     "metadata": {},
     "output_type": "display_data"
    }
   ],
   "source": [
    "func.display()"
   ]
  },
  {
   "cell_type": "markdown",
   "id": "761eab83",
   "metadata": {
    "papermill": {
     "duration": 0.0012,
     "end_time": "2024-09-09T18:56:28.228239",
     "exception": false,
     "start_time": "2024-09-09T18:56:28.227039",
     "status": "completed"
    },
    "tags": []
   },
   "source": [
    "## Shape \n",
    "\n",
    "The shape of the function. \n",
    "\n",
    "*If this is not a photon model but a prior or linear function then ignore the units as these docs are auto-generated*"
   ]
  },
  {
   "cell_type": "code",
   "execution_count": 6,
   "id": "6007ec00",
   "metadata": {
    "execution": {
     "iopub.execute_input": "2024-09-09T18:56:28.231103Z",
     "iopub.status.busy": "2024-09-09T18:56:28.230965Z",
     "iopub.status.idle": "2024-09-09T18:56:28.328659Z",
     "shell.execute_reply": "2024-09-09T18:56:28.328256Z"
    },
    "papermill": {
     "duration": 0.100607,
     "end_time": "2024-09-09T18:56:28.329972",
     "exception": false,
     "start_time": "2024-09-09T18:56:28.229365",
     "status": "completed"
    },
    "tags": [
     "nbsphinx-thumbnail"
    ]
   },
   "outputs": [
    {
     "data": {
      "text/plain": [
       "Text(0, 0.5, 'probability')"
      ]
     },
     "execution_count": 6,
     "metadata": {},
     "output_type": "execute_result"
    },
    {
     "data": {
      "image/png": "[encoded data removed]",
      "text/plain": [
       "<Figure size 1040x910 with 1 Axes>"
      ]
     },
     "metadata": {},
     "output_type": "display_data"
    }
   ],
   "source": [
    "fig, ax = plt.subplots()\n",
    "\n",
    "\n",
    "ax.plot(energy_grid, func(energy_grid), color=blue, lw=3)\n",
    "\n",
    "ax.set_xlabel(\"x\")\n",
    "ax.set_ylabel(\"probability\")\n"
   ]
  },
  {
   "cell_type": "markdown",
   "id": "217d3a51",
   "metadata": {
    "papermill": {
     "duration": 0.001476,
     "end_time": "2024-09-09T18:56:28.333083",
     "exception": false,
     "start_time": "2024-09-09T18:56:28.331607",
     "status": "completed"
    },
    "tags": []
   },
   "source": [
    "## Random Number Generation\n",
    "\n",
    "This is how we can generate random numbers from the prior.\n"
   ]
  },
  {
   "cell_type": "code",
   "execution_count": 7,
   "id": "0a42387a",
   "metadata": {
    "execution": {
     "iopub.execute_input": "2024-09-09T18:56:28.336449Z",
     "iopub.status.busy": "2024-09-09T18:56:28.336301Z",
     "iopub.status.idle": "2024-09-09T18:56:28.447803Z",
     "shell.execute_reply": "2024-09-09T18:56:28.447323Z"
    },
    "papermill": {
     "duration": 0.114853,
     "end_time": "2024-09-09T18:56:28.449287",
     "exception": false,
     "start_time": "2024-09-09T18:56:28.334434",
     "status": "completed"
    },
    "tags": []
   },
   "outputs": [
    {
     "data": {
      "text/plain": [
       "Text(0, 0.5, 'N')"
      ]
     },
     "execution_count": 7,
     "metadata": {},
     "output_type": "execute_result"
    },
    {
     "data": {
      "image/png": "[encoded data removed]",
      "text/plain": [
       "<Figure size 1040x910 with 1 Axes>"
      ]
     },
     "metadata": {},
     "output_type": "display_data"
    }
   ],
   "source": [
    "\n",
    "\n",
    "u = np.random.uniform(0,1, size=5000)\n",
    "\n",
    "draws = [func.from_unit_cube(x) for x in u]\n",
    "\n",
    "\n",
    "fig, ax = plt.subplots()\n",
    "\n",
    "\n",
    "ax.hist(draws, color=green, bins=50)\n",
    "\n",
    "ax.set_xlabel(\"value\")\n",
    "ax.set_ylabel(\"N\")\n",
    "\n"
   ]
  }
 ],
 "metadata": {
  "jupytext": {
   "formats": "ipynb,md"
  },
  "kernelspec": {
   "display_name": "Python 3 (ipykernel)",
   "language": "python",
   "name": "python3"
  },
  "language_info": {
   "codemirror_mode": {
    "name": "ipython",
    "version": 3
   },
   "file_extension": ".py",
   "mimetype": "text/x-python",
   "name": "python",
   "nbconvert_exporter": "python",
   "pygments_lexer": "ipython3",
   "version": "3.9.13"
  },
  "papermill": {
   "default_parameters": {},
   "duration": 2.61162,
   "end_time": "2024-09-09T18:56:28.787888",
   "environment_variables": {},
   "exception": null,
   "input_path": "Uniform_prior.ipynb",
   "output_path": "/Users/runner/work/astromodels/astromodels/docs/notebooks/Uniform_prior.ipynb",
   "parameters": {
    "func_name": "Uniform_prior",
    "positive_prior": false
   },
   "start_time": "2024-09-09T18:56:26.176268",
   "version": "2.6.0"
  }
 },
 "nbformat": 4,
 "nbformat_minor": 5
}
