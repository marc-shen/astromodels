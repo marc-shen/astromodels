{
 "cells": [
  {
   "cell_type": "markdown",
   "id": "26ad0f13",
   "metadata": {
    "papermill": {
     "duration": 0.005523,
     "end_time": "2024-05-08T20:07:57.205644",
     "exception": false,
     "start_time": "2024-05-08T20:07:57.200121",
     "status": "completed"
    },
    "tags": []
   },
   "source": [
    "# Uniform prior"
   ]
  },
  {
   "cell_type": "code",
   "execution_count": 1,
   "id": "7293b4fd",
   "metadata": {
    "execution": {
     "iopub.execute_input": "2024-05-08T20:07:57.214960Z",
     "iopub.status.busy": "2024-05-08T20:07:57.214349Z",
     "iopub.status.idle": "2024-05-08T20:07:59.053074Z",
     "shell.execute_reply": "2024-05-08T20:07:59.052196Z"
    },
    "nbsphinx": "hidden",
    "papermill": {
     "duration": 1.846697,
     "end_time": "2024-05-08T20:07:59.055678",
     "exception": false,
     "start_time": "2024-05-08T20:07:57.208981",
     "status": "completed"
    },
    "tags": []
   },
   "outputs": [],
   "source": [
    "%%capture\n",
    "\n",
    "import numpy as np\n",
    "\n",
    "import matplotlib.pyplot as plt\n",
    "\n",
    "import warnings\n",
    "warnings.simplefilter(\"ignore\")\n",
    "\n",
    "from astromodels.functions.function import _known_functions\n",
    "\n",
    "\n",
    "from jupyterthemes import jtplot\n",
    "jtplot.style(context=\"talk\", fscale=1, ticks=True, grid=False)\n",
    "%matplotlib inline"
   ]
  },
  {
   "cell_type": "code",
   "execution_count": 2,
   "id": "9117a18e",
   "metadata": {
    "execution": {
     "iopub.execute_input": "2024-05-08T20:07:59.060862Z",
     "iopub.status.busy": "2024-05-08T20:07:59.060363Z",
     "iopub.status.idle": "2024-05-08T20:07:59.063594Z",
     "shell.execute_reply": "2024-05-08T20:07:59.062958Z"
    },
    "nbsphinx": "hidden",
    "papermill": {
     "duration": 0.008567,
     "end_time": "2024-05-08T20:07:59.065774",
     "exception": false,
     "start_time": "2024-05-08T20:07:59.057207",
     "status": "completed"
    },
    "tags": [
     "parameters"
    ]
   },
   "outputs": [],
   "source": [
    "func_name = \"TbAbs\"\n",
    "\n",
    "positive_prior = False\n"
   ]
  },
  {
   "cell_type": "code",
   "execution_count": 3,
   "id": "5d299d7a",
   "metadata": {
    "execution": {
     "iopub.execute_input": "2024-05-08T20:07:59.069999Z",
     "iopub.status.busy": "2024-05-08T20:07:59.069477Z",
     "iopub.status.idle": "2024-05-08T20:07:59.079173Z",
     "shell.execute_reply": "2024-05-08T20:07:59.078538Z"
    },
    "papermill": {
     "duration": 0.014201,
     "end_time": "2024-05-08T20:07:59.081360",
     "exception": false,
     "start_time": "2024-05-08T20:07:59.067159",
     "status": "completed"
    },
    "tags": [
     "injected-parameters"
    ]
   },
   "outputs": [],
   "source": [
    "# Parameters\n",
    "func_name = \"Uniform_prior\"\n",
    "positive_prior = False\n"
   ]
  },
  {
   "cell_type": "code",
   "execution_count": 4,
   "id": "b4e7520e",
   "metadata": {
    "execution": {
     "iopub.execute_input": "2024-05-08T20:07:59.085143Z",
     "iopub.status.busy": "2024-05-08T20:07:59.084917Z",
     "iopub.status.idle": "2024-05-08T20:07:59.089478Z",
     "shell.execute_reply": "2024-05-08T20:07:59.088535Z"
    },
    "lines_to_next_cell": 0,
    "nbsphinx": "hidden",
    "papermill": {
     "duration": 0.008533,
     "end_time": "2024-05-08T20:07:59.091311",
     "exception": false,
     "start_time": "2024-05-08T20:07:59.082778",
     "status": "completed"
    },
    "tags": []
   },
   "outputs": [],
   "source": [
    "func = _known_functions[func_name]()\n",
    "\n",
    "if not positive_prior:\n",
    "\n",
    "\tenergy_grid = np.linspace(-5,5,1000)\n",
    "\n",
    "else:\n",
    "    \n",
    "    energy_grid = np.linspace(0,1,1000)\n",
    "    \n",
    "    \n",
    "    \n",
    "    \n",
    "blue = \"#4152E3\"\n",
    "red = \"#E3414B\"\n",
    "green = \"#41E39E\""
   ]
  },
  {
   "cell_type": "markdown",
   "id": "b797f7b7",
   "metadata": {
    "lines_to_next_cell": 0,
    "papermill": {
     "duration": 0.00142,
     "end_time": "2024-05-08T20:07:59.094034",
     "exception": false,
     "start_time": "2024-05-08T20:07:59.092614",
     "status": "completed"
    },
    "tags": []
   },
   "source": [
    "## Description"
   ]
  },
  {
   "cell_type": "code",
   "execution_count": 5,
   "id": "489aa0a4",
   "metadata": {
    "execution": {
     "iopub.execute_input": "2024-05-08T20:07:59.097831Z",
     "iopub.status.busy": "2024-05-08T20:07:59.097600Z",
     "iopub.status.idle": "2024-05-08T20:07:59.104152Z",
     "shell.execute_reply": "2024-05-08T20:07:59.103308Z"
    },
    "papermill": {
     "duration": 0.011444,
     "end_time": "2024-05-08T20:07:59.106802",
     "exception": false,
     "start_time": "2024-05-08T20:07:59.095358",
     "status": "completed"
    },
    "tags": []
   },
   "outputs": [
    {
     "data": {
      "text/html": [
       "<ul>\n",
       "\n",
       "<li>description: A function which is constant on the interval lower_bound - upper_bound and 0 outside the interval. The extremes of the interval are counted as part of the interval.</li>\n",
       "\n",
       "<li>formula: $ f(x)=\\begin{cases}0 & x < \\text{lower_bound} \\\\\\text{value} & \\text{lower_bound} \\le x \\le \\text{upper_bound} \\\\ 0 & x > \\text{upper_bound} \\end{cases}$</li>\n",
       "\n",
       "<li>parameters: \n",
       "<ul>\n",
       "\n",
       "<li>lower_bound: \n",
       "<ul>\n",
       "\n",
       "<li>value: 0.0</li>\n",
       "\n",
       "<li>desc: Lower bound for the interval</li>\n",
       "\n",
       "<li>min_value: -inf</li>\n",
       "\n",
       "<li>max_value: inf</li>\n",
       "\n",
       "<li>unit: </li>\n",
       "\n",
       "<li>is_normalization: False</li>\n",
       "\n",
       "<li>delta: 0.1</li>\n",
       "\n",
       "<li>free: True</li>\n",
       "\n",
       "</ul>\n",
       "\n",
       "</li>\n",
       "\n",
       "<li>upper_bound: \n",
       "<ul>\n",
       "\n",
       "<li>value: 1.0</li>\n",
       "\n",
       "<li>desc: Upper bound for the interval</li>\n",
       "\n",
       "<li>min_value: -inf</li>\n",
       "\n",
       "<li>max_value: inf</li>\n",
       "\n",
       "<li>unit: </li>\n",
       "\n",
       "<li>is_normalization: False</li>\n",
       "\n",
       "<li>delta: 0.1</li>\n",
       "\n",
       "<li>free: True</li>\n",
       "\n",
       "</ul>\n",
       "\n",
       "</li>\n",
       "\n",
       "<li>value: \n",
       "<ul>\n",
       "\n",
       "<li>value: 1.0</li>\n",
       "\n",
       "<li>desc: Value in the interval</li>\n",
       "\n",
       "<li>min_value: None</li>\n",
       "\n",
       "<li>max_value: None</li>\n",
       "\n",
       "<li>unit: </li>\n",
       "\n",
       "<li>is_normalization: False</li>\n",
       "\n",
       "<li>delta: 0.1</li>\n",
       "\n",
       "<li>free: True</li>\n",
       "\n",
       "</ul>\n",
       "\n",
       "</li>\n",
       "\n",
       "</ul>\n",
       "\n",
       "</li>\n",
       "\n",
       "</ul>\n"
      ],
      "text/plain": [
       "  * description: A function which is constant on the interval lower_bound - upper_bound\n",
       "    * and 0 outside the interval. The extremes of the interval are counted as part of\n",
       "    * the interval.\n",
       "  * formula: $ f(x)=\\begin{cases}0 & x < \\text{lower_bound} \\\\\\text{value} & \\text{lower_bound}\n",
       "    * \\le x \\le \\text{upper_bound} \\\\ 0 & x > \\text{upper_bound} \\end{cases}$\n",
       "  * parameters:\n",
       "    * lower_bound:\n",
       "      * value: 0.0\n",
       "      * desc: Lower bound for the interval\n",
       "      * min_value: -.inf\n",
       "      * max_value: .inf\n",
       "      * unit: ''\n",
       "      * is_normalization: false\n",
       "      * delta: 0.1\n",
       "      * free: true\n",
       "    * upper_bound:\n",
       "      * value: 1.0\n",
       "      * desc: Upper bound for the interval\n",
       "      * min_value: -.inf\n",
       "      * max_value: .inf\n",
       "      * unit: ''\n",
       "      * is_normalization: false\n",
       "      * delta: 0.1\n",
       "      * free: true\n",
       "    * value:\n",
       "      * value: 1.0\n",
       "      * desc: Value in the interval\n",
       "      * min_value: null\n",
       "      * max_value: null\n",
       "      * unit: ''\n",
       "      * is_normalization: false\n",
       "      * delta: 0.1\n",
       "      * free: true"
      ]
     },
     "metadata": {},
     "output_type": "display_data"
    }
   ],
   "source": [
    "func.display()"
   ]
  },
  {
   "cell_type": "markdown",
   "id": "026f8eef",
   "metadata": {
    "papermill": {
     "duration": 0.001621,
     "end_time": "2024-05-08T20:07:59.110010",
     "exception": false,
     "start_time": "2024-05-08T20:07:59.108389",
     "status": "completed"
    },
    "tags": []
   },
   "source": [
    "## Shape \n",
    "\n",
    "The shape of the function. \n",
    "\n",
    "*If this is not a photon model but a prior or linear function then ignore the units as these docs are auto-generated*"
   ]
  },
  {
   "cell_type": "code",
   "execution_count": 6,
   "id": "5adb0e0b",
   "metadata": {
    "execution": {
     "iopub.execute_input": "2024-05-08T20:07:59.113806Z",
     "iopub.status.busy": "2024-05-08T20:07:59.113565Z",
     "iopub.status.idle": "2024-05-08T20:07:59.251411Z",
     "shell.execute_reply": "2024-05-08T20:07:59.250150Z"
    },
    "papermill": {
     "duration": 0.143358,
     "end_time": "2024-05-08T20:07:59.254735",
     "exception": false,
     "start_time": "2024-05-08T20:07:59.111377",
     "status": "completed"
    },
    "tags": [
     "nbsphinx-thumbnail"
    ]
   },
   "outputs": [
    {
     "data": {
      "text/plain": [
       "Text(0, 0.5, 'probability')"
      ]
     },
     "execution_count": 6,
     "metadata": {},
     "output_type": "execute_result"
    },
    {
     "data": {
      "image/png": "[encoded data removed]",
      "text/plain": [
       "<Figure size 1040x910 with 1 Axes>"
      ]
     },
     "metadata": {},
     "output_type": "display_data"
    }
   ],
   "source": [
    "fig, ax = plt.subplots()\n",
    "\n",
    "\n",
    "ax.plot(energy_grid, func(energy_grid), color=blue, lw=3)\n",
    "\n",
    "ax.set_xlabel(\"x\")\n",
    "ax.set_ylabel(\"probability\")\n"
   ]
  },
  {
   "cell_type": "markdown",
   "id": "56c465cc",
   "metadata": {
    "papermill": {
     "duration": 0.001692,
     "end_time": "2024-05-08T20:07:59.260115",
     "exception": false,
     "start_time": "2024-05-08T20:07:59.258423",
     "status": "completed"
    },
    "tags": []
   },
   "source": [
    "## Random Number Generation\n",
    "\n",
    "This is how we can generate random numbers from the prior.\n"
   ]
  },
  {
   "cell_type": "code",
   "execution_count": 7,
   "id": "394c8f2a",
   "metadata": {
    "execution": {
     "iopub.execute_input": "2024-05-08T20:07:59.264424Z",
     "iopub.status.busy": "2024-05-08T20:07:59.264219Z",
     "iopub.status.idle": "2024-05-08T20:07:59.425785Z",
     "shell.execute_reply": "2024-05-08T20:07:59.424031Z"
    },
    "papermill": {
     "duration": 0.167972,
     "end_time": "2024-05-08T20:07:59.429640",
     "exception": false,
     "start_time": "2024-05-08T20:07:59.261668",
     "status": "completed"
    },
    "tags": []
   },
   "outputs": [
    {
     "data": {
      "text/plain": [
       "Text(0, 0.5, 'N')"
      ]
     },
     "execution_count": 7,
     "metadata": {},
     "output_type": "execute_result"
    },
    {
     "data": {
      "image/png": "[encoded data removed]",
      "text/plain": [
       "<Figure size 1040x910 with 1 Axes>"
      ]
     },
     "metadata": {},
     "output_type": "display_data"
    }
   ],
   "source": [
    "\n",
    "\n",
    "u = np.random.uniform(0,1, size=5000)\n",
    "\n",
    "draws = [func.from_unit_cube(x) for x in u]\n",
    "\n",
    "\n",
    "fig, ax = plt.subplots()\n",
    "\n",
    "\n",
    "ax.hist(draws, color=green, bins=50)\n",
    "\n",
    "ax.set_xlabel(\"value\")\n",
    "ax.set_ylabel(\"N\")\n",
    "\n"
   ]
  }
 ],
 "metadata": {
  "jupytext": {
   "formats": "ipynb,md"
  },
  "kernelspec": {
   "display_name": "Python 3 (ipykernel)",
   "language": "python",
   "name": "python3"
  },
  "language_info": {
   "codemirror_mode": {
    "name": "ipython",
    "version": 3
   },
   "file_extension": ".py",
   "mimetype": "text/x-python",
   "name": "python",
   "nbconvert_exporter": "python",
   "pygments_lexer": "ipython3",
   "version": "3.9.13"
  },
  "papermill": {
   "default_parameters": {},
   "duration": 3.593282,
   "end_time": "2024-05-08T20:07:59.977427",
   "environment_variables": {},
   "exception": null,
   "input_path": "Uniform_prior.ipynb",
   "output_path": "/Users/runner/work/astromodels/astromodels/docs/notebooks/Uniform_prior.ipynb",
   "parameters": {
    "func_name": "Uniform_prior",
    "positive_prior": false
   },
   "start_time": "2024-05-08T20:07:56.384145",
   "version": "2.6.0"
  }
 },
 "nbformat": 4,
 "nbformat_minor": 5
}
