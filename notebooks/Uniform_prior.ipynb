{
 "cells": [
  {
   "cell_type": "markdown",
   "id": "8336164d",
   "metadata": {
    "papermill": {
     "duration": 0.005273,
     "end_time": "2022-09-29T20:00:09.335148",
     "exception": false,
     "start_time": "2022-09-29T20:00:09.329875",
     "status": "completed"
    },
    "tags": []
   },
   "source": [
    "# Uniform prior"
   ]
  },
  {
   "cell_type": "code",
   "execution_count": 1,
   "id": "59026897",
   "metadata": {
    "execution": {
     "iopub.execute_input": "2022-09-29T20:00:09.345889Z",
     "iopub.status.busy": "2022-09-29T20:00:09.345415Z",
     "iopub.status.idle": "2022-09-29T20:00:15.710421Z",
     "shell.execute_reply": "2022-09-29T20:00:15.709263Z"
    },
    "nbsphinx": "hidden",
    "papermill": {
     "duration": 6.375401,
     "end_time": "2022-09-29T20:00:15.714255",
     "exception": false,
     "start_time": "2022-09-29T20:00:09.338854",
     "status": "completed"
    },
    "tags": []
   },
   "outputs": [],
   "source": [
    "%%capture\n",
    "\n",
    "import numpy as np\n",
    "\n",
    "import matplotlib.pyplot as plt\n",
    "\n",
    "import warnings\n",
    "warnings.simplefilter(\"ignore\")\n",
    "\n",
    "from astromodels.functions.function import _known_functions\n",
    "\n",
    "\n",
    "from jupyterthemes import jtplot\n",
    "jtplot.style(context=\"talk\", fscale=1, ticks=True, grid=False)\n",
    "%matplotlib inline"
   ]
  },
  {
   "cell_type": "code",
   "execution_count": 2,
   "id": "5c203848",
   "metadata": {
    "execution": {
     "iopub.execute_input": "2022-09-29T20:00:15.728221Z",
     "iopub.status.busy": "2022-09-29T20:00:15.727734Z",
     "iopub.status.idle": "2022-09-29T20:00:15.740729Z",
     "shell.execute_reply": "2022-09-29T20:00:15.739135Z"
    },
    "nbsphinx": "hidden",
    "papermill": {
     "duration": 0.021013,
     "end_time": "2022-09-29T20:00:15.744001",
     "exception": false,
     "start_time": "2022-09-29T20:00:15.722988",
     "status": "completed"
    },
    "tags": [
     "parameters"
    ]
   },
   "outputs": [],
   "source": [
    "func_name = \"TbAbs\"\n",
    "\n",
    "positive_prior = False\n"
   ]
  },
  {
   "cell_type": "code",
   "execution_count": 3,
   "id": "6e68de14",
   "metadata": {
    "execution": {
     "iopub.execute_input": "2022-09-29T20:00:15.752429Z",
     "iopub.status.busy": "2022-09-29T20:00:15.752019Z",
     "iopub.status.idle": "2022-09-29T20:00:15.760231Z",
     "shell.execute_reply": "2022-09-29T20:00:15.759135Z"
    },
    "papermill": {
     "duration": 0.016186,
     "end_time": "2022-09-29T20:00:15.763541",
     "exception": false,
     "start_time": "2022-09-29T20:00:15.747355",
     "status": "completed"
    },
    "tags": [
     "injected-parameters"
    ]
   },
   "outputs": [],
   "source": [
    "# Parameters\n",
    "func_name = \"Uniform_prior\"\n",
    "positive_prior = False\n"
   ]
  },
  {
   "cell_type": "code",
   "execution_count": 4,
   "id": "b1eb08cb",
   "metadata": {
    "execution": {
     "iopub.execute_input": "2022-09-29T20:00:15.771955Z",
     "iopub.status.busy": "2022-09-29T20:00:15.771547Z",
     "iopub.status.idle": "2022-09-29T20:00:15.780642Z",
     "shell.execute_reply": "2022-09-29T20:00:15.779539Z"
    },
    "lines_to_next_cell": 0,
    "nbsphinx": "hidden",
    "papermill": {
     "duration": 0.01701,
     "end_time": "2022-09-29T20:00:15.783912",
     "exception": false,
     "start_time": "2022-09-29T20:00:15.766902",
     "status": "completed"
    },
    "tags": []
   },
   "outputs": [],
   "source": [
    "func = _known_functions[func_name]()\n",
    "\n",
    "if not positive_prior:\n",
    "\n",
    "\tenergy_grid = np.linspace(-5,5,1000)\n",
    "\n",
    "else:\n",
    "    \n",
    "    energy_grid = np.linspace(0,1,1000)\n",
    "    \n",
    "    \n",
    "    \n",
    "    \n",
    "blue = \"#4152E3\"\n",
    "red = \"#E3414B\"\n",
    "green = \"#41E39E\""
   ]
  },
  {
   "cell_type": "markdown",
   "id": "3a71d01a",
   "metadata": {
    "lines_to_next_cell": 0,
    "papermill": {
     "duration": 0.003418,
     "end_time": "2022-09-29T20:00:15.791558",
     "exception": false,
     "start_time": "2022-09-29T20:00:15.788140",
     "status": "completed"
    },
    "tags": []
   },
   "source": [
    "## Description"
   ]
  },
  {
   "cell_type": "code",
   "execution_count": 5,
   "id": "1591f57a",
   "metadata": {
    "execution": {
     "iopub.execute_input": "2022-09-29T20:00:15.799966Z",
     "iopub.status.busy": "2022-09-29T20:00:15.799564Z",
     "iopub.status.idle": "2022-09-29T20:00:15.812565Z",
     "shell.execute_reply": "2022-09-29T20:00:15.811468Z"
    },
    "papermill": {
     "duration": 0.021039,
     "end_time": "2022-09-29T20:00:15.815862",
     "exception": false,
     "start_time": "2022-09-29T20:00:15.794823",
     "status": "completed"
    },
    "tags": []
   },
   "outputs": [
    {
     "data": {
      "text/html": [
       "<ul>\n",
       "\n",
       "<li>description: A function which is constant on the interval lower_bound - upper_bound and 0 outside the interval. The extremes of the interval are counted as part of the interval.</li>\n",
       "\n",
       "<li>formula: $ f(x)=\\begin{cases}0 & x < \\text{lower_bound} \\\\\\text{value} & \\text{lower_bound} \\le x \\le \\text{upper_bound} \\\\ 0 & x > \\text{upper_bound} \\end{cases}$</li>\n",
       "\n",
       "<li>parameters: \n",
       "<ul>\n",
       "\n",
       "<li>lower_bound: \n",
       "<ul>\n",
       "\n",
       "<li>value: 0.0</li>\n",
       "\n",
       "<li>desc: Lower bound for the interval</li>\n",
       "\n",
       "<li>min_value: -inf</li>\n",
       "\n",
       "<li>max_value: inf</li>\n",
       "\n",
       "<li>unit: </li>\n",
       "\n",
       "<li>is_normalization: False</li>\n",
       "\n",
       "<li>delta: 0.1</li>\n",
       "\n",
       "<li>free: True</li>\n",
       "\n",
       "</ul>\n",
       "\n",
       "</li>\n",
       "\n",
       "<li>upper_bound: \n",
       "<ul>\n",
       "\n",
       "<li>value: 1.0</li>\n",
       "\n",
       "<li>desc: Upper bound for the interval</li>\n",
       "\n",
       "<li>min_value: -inf</li>\n",
       "\n",
       "<li>max_value: inf</li>\n",
       "\n",
       "<li>unit: </li>\n",
       "\n",
       "<li>is_normalization: False</li>\n",
       "\n",
       "<li>delta: 0.1</li>\n",
       "\n",
       "<li>free: True</li>\n",
       "\n",
       "</ul>\n",
       "\n",
       "</li>\n",
       "\n",
       "<li>value: \n",
       "<ul>\n",
       "\n",
       "<li>value: 1.0</li>\n",
       "\n",
       "<li>desc: Value in the interval</li>\n",
       "\n",
       "<li>min_value: None</li>\n",
       "\n",
       "<li>max_value: None</li>\n",
       "\n",
       "<li>unit: </li>\n",
       "\n",
       "<li>is_normalization: False</li>\n",
       "\n",
       "<li>delta: 0.1</li>\n",
       "\n",
       "<li>free: True</li>\n",
       "\n",
       "</ul>\n",
       "\n",
       "</li>\n",
       "\n",
       "</ul>\n",
       "\n",
       "</li>\n",
       "\n",
       "</ul>\n"
      ],
      "text/plain": [
       "  * description: A function which is constant on the interval lower_bound - upper_bound\n",
       "    * and 0 outside the interval. The extremes of the interval are counted as part of\n",
       "    * the interval.\n",
       "  * formula: $ f(x)=\\begin{cases}0 & x < \\text{lower_bound} \\\\\\text{value} & \\text{lower_bound}\n",
       "    * \\le x \\le \\text{upper_bound} \\\\ 0 & x > \\text{upper_bound} \\end{cases}$\n",
       "  * parameters:\n",
       "    * lower_bound:\n",
       "      * value: 0.0\n",
       "      * desc: Lower bound for the interval\n",
       "      * min_value: -.inf\n",
       "      * max_value: .inf\n",
       "      * unit: ''\n",
       "      * is_normalization: false\n",
       "      * delta: 0.1\n",
       "      * free: true\n",
       "    * upper_bound:\n",
       "      * value: 1.0\n",
       "      * desc: Upper bound for the interval\n",
       "      * min_value: -.inf\n",
       "      * max_value: .inf\n",
       "      * unit: ''\n",
       "      * is_normalization: false\n",
       "      * delta: 0.1\n",
       "      * free: true\n",
       "    * value:\n",
       "      * value: 1.0\n",
       "      * desc: Value in the interval\n",
       "      * min_value: null\n",
       "      * max_value: null\n",
       "      * unit: ''\n",
       "      * is_normalization: false\n",
       "      * delta: 0.1\n",
       "      * free: true"
      ]
     },
     "metadata": {},
     "output_type": "display_data"
    }
   ],
   "source": [
    "func.display()"
   ]
  },
  {
   "cell_type": "markdown",
   "id": "8593e8f7",
   "metadata": {
    "papermill": {
     "duration": 0.003901,
     "end_time": "2022-09-29T20:00:15.824017",
     "exception": false,
     "start_time": "2022-09-29T20:00:15.820116",
     "status": "completed"
    },
    "tags": []
   },
   "source": [
    "## Shape \n",
    "\n",
    "The shape of the function. \n",
    "\n",
    "*If this is not a photon model but a prior or linear function then ignore the units as these docs are auto-generated*"
   ]
  },
  {
   "cell_type": "code",
   "execution_count": 6,
   "id": "99e1fc2f",
   "metadata": {
    "execution": {
     "iopub.execute_input": "2022-09-29T20:00:15.833409Z",
     "iopub.status.busy": "2022-09-29T20:00:15.832963Z",
     "iopub.status.idle": "2022-09-29T20:00:16.276951Z",
     "shell.execute_reply": "2022-09-29T20:00:16.275786Z"
    },
    "papermill": {
     "duration": 0.45264,
     "end_time": "2022-09-29T20:00:16.280510",
     "exception": false,
     "start_time": "2022-09-29T20:00:15.827870",
     "status": "completed"
    },
    "tags": [
     "nbsphinx-thumbnail"
    ]
   },
   "outputs": [
    {
     "data": {
      "text/plain": [
       "Text(0, 0.5, 'probability')"
      ]
     },
     "execution_count": 6,
     "metadata": {},
     "output_type": "execute_result"
    },
    {
     "data": {
      "image/png": "[encoded data removed]",
      "text/plain": [
       "<Figure size 1040x910 with 1 Axes>"
      ]
     },
     "metadata": {},
     "output_type": "display_data"
    }
   ],
   "source": [
    "fig, ax = plt.subplots()\n",
    "\n",
    "\n",
    "ax.plot(energy_grid, func(energy_grid), color=blue, lw=3)\n",
    "\n",
    "ax.set_xlabel(\"x\")\n",
    "ax.set_ylabel(\"probability\")\n"
   ]
  },
  {
   "cell_type": "markdown",
   "id": "d4941627",
   "metadata": {
    "papermill": {
     "duration": 0.004272,
     "end_time": "2022-09-29T20:00:16.290546",
     "exception": false,
     "start_time": "2022-09-29T20:00:16.286274",
     "status": "completed"
    },
    "tags": []
   },
   "source": [
    "## Random Number Generation\n",
    "\n",
    "This is how we can generate random numbers from the prior.\n"
   ]
  },
  {
   "cell_type": "code",
   "execution_count": 7,
   "id": "1003607f",
   "metadata": {
    "execution": {
     "iopub.execute_input": "2022-09-29T20:00:16.301103Z",
     "iopub.status.busy": "2022-09-29T20:00:16.300673Z",
     "iopub.status.idle": "2022-09-29T20:00:16.753752Z",
     "shell.execute_reply": "2022-09-29T20:00:16.752027Z"
    },
    "papermill": {
     "duration": 0.46254,
     "end_time": "2022-09-29T20:00:16.757189",
     "exception": false,
     "start_time": "2022-09-29T20:00:16.294649",
     "status": "completed"
    },
    "tags": []
   },
   "outputs": [
    {
     "data": {
      "text/plain": [
       "Text(0, 0.5, 'N')"
      ]
     },
     "execution_count": 7,
     "metadata": {},
     "output_type": "execute_result"
    },
    {
     "data": {
      "image/png": "[encoded data removed]",
      "text/plain": [
       "<Figure size 1040x910 with 1 Axes>"
      ]
     },
     "metadata": {},
     "output_type": "display_data"
    }
   ],
   "source": [
    "\n",
    "\n",
    "u = np.random.uniform(0,1, size=5000)\n",
    "\n",
    "draws = [func.from_unit_cube(x) for x in u]\n",
    "\n",
    "\n",
    "fig, ax = plt.subplots()\n",
    "\n",
    "\n",
    "ax.hist(draws, color=green, bins=50)\n",
    "\n",
    "ax.set_xlabel(\"value\")\n",
    "ax.set_ylabel(\"N\")\n",
    "\n"
   ]
  }
 ],
 "metadata": {
  "jupytext": {
   "formats": "ipynb,md"
  },
  "kernelspec": {
   "display_name": "Python 3 (ipykernel)",
   "language": "python",
   "name": "python3"
  },
  "language_info": {
   "codemirror_mode": {
    "name": "ipython",
    "version": 3
   },
   "file_extension": ".py",
   "mimetype": "text/x-python",
   "name": "python",
   "nbconvert_exporter": "python",
   "pygments_lexer": "ipython3",
   "version": "3.9.14"
  },
  "papermill": {
   "default_parameters": {},
   "duration": 9.965075,
   "end_time": "2022-09-29T20:00:17.712851",
   "environment_variables": {},
   "exception": null,
   "input_path": "Uniform_prior.ipynb",
   "output_path": "/Users/runner/work/astromodels/astromodels/docs/notebooks/Uniform_prior.ipynb",
   "parameters": {
    "func_name": "Uniform_prior",
    "positive_prior": false
   },
   "start_time": "2022-09-29T20:00:07.747776",
   "version": "2.4.0"
  }
 },
 "nbformat": 4,
 "nbformat_minor": 5
}
