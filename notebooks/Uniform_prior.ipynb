{
 "cells": [
  {
   "cell_type": "markdown",
   "id": "719e077c",
   "metadata": {
    "papermill": {
     "duration": 0.010601,
     "end_time": "2025-05-21T18:30:48.564584",
     "exception": false,
     "start_time": "2025-05-21T18:30:48.553983",
     "status": "completed"
    },
    "tags": []
   },
   "source": [
    "# Uniform prior"
   ]
  },
  {
   "cell_type": "code",
   "execution_count": 1,
   "id": "fc349b50",
   "metadata": {
    "execution": {
     "iopub.execute_input": "2025-05-21T18:30:48.577672Z",
     "iopub.status.busy": "2025-05-21T18:30:48.577044Z",
     "iopub.status.idle": "2025-05-21T18:30:50.012824Z",
     "shell.execute_reply": "2025-05-21T18:30:50.012267Z"
    },
    "nbsphinx": "hidden",
    "papermill": {
     "duration": 1.443964,
     "end_time": "2025-05-21T18:30:50.014379",
     "exception": false,
     "start_time": "2025-05-21T18:30:48.570415",
     "status": "completed"
    },
    "tags": []
   },
   "outputs": [],
   "source": [
    "%%capture\n",
    "\n",
    "import numpy as np\n",
    "\n",
    "import matplotlib.pyplot as plt\n",
    "\n",
    "import warnings\n",
    "warnings.simplefilter(\"ignore\")\n",
    "\n",
    "from astromodels.functions.function import _known_functions\n",
    "\n",
    "\n",
    "from jupyterthemes import jtplot\n",
    "jtplot.style(context=\"talk\", fscale=1, ticks=True, grid=False)\n",
    "%matplotlib inline"
   ]
  },
  {
   "cell_type": "code",
   "execution_count": 2,
   "id": "b6300e21",
   "metadata": {
    "execution": {
     "iopub.execute_input": "2025-05-21T18:30:50.017749Z",
     "iopub.status.busy": "2025-05-21T18:30:50.017428Z",
     "iopub.status.idle": "2025-05-21T18:30:50.019575Z",
     "shell.execute_reply": "2025-05-21T18:30:50.019207Z"
    },
    "nbsphinx": "hidden",
    "papermill": {
     "duration": 0.004876,
     "end_time": "2025-05-21T18:30:50.020642",
     "exception": false,
     "start_time": "2025-05-21T18:30:50.015766",
     "status": "completed"
    },
    "tags": [
     "parameters"
    ]
   },
   "outputs": [],
   "source": [
    "func_name = \"TbAbs\"\n",
    "\n",
    "positive_prior = False\n"
   ]
  },
  {
   "cell_type": "code",
   "execution_count": 3,
   "id": "9f94386b",
   "metadata": {
    "execution": {
     "iopub.execute_input": "2025-05-21T18:30:50.023117Z",
     "iopub.status.busy": "2025-05-21T18:30:50.022988Z",
     "iopub.status.idle": "2025-05-21T18:30:50.028959Z",
     "shell.execute_reply": "2025-05-21T18:30:50.028521Z"
    },
    "papermill": {
     "duration": 0.008419,
     "end_time": "2025-05-21T18:30:50.030040",
     "exception": false,
     "start_time": "2025-05-21T18:30:50.021621",
     "status": "completed"
    },
    "tags": [
     "injected-parameters"
    ]
   },
   "outputs": [],
   "source": [
    "# Parameters\n",
    "func_name = \"Uniform_prior\"\n",
    "positive_prior = False\n"
   ]
  },
  {
   "cell_type": "code",
   "execution_count": 4,
   "id": "73926855",
   "metadata": {
    "execution": {
     "iopub.execute_input": "2025-05-21T18:30:50.032596Z",
     "iopub.status.busy": "2025-05-21T18:30:50.032461Z",
     "iopub.status.idle": "2025-05-21T18:30:50.041514Z",
     "shell.execute_reply": "2025-05-21T18:30:50.041113Z"
    },
    "lines_to_next_cell": 0,
    "nbsphinx": "hidden",
    "papermill": {
     "duration": 0.011461,
     "end_time": "2025-05-21T18:30:50.042550",
     "exception": false,
     "start_time": "2025-05-21T18:30:50.031089",
     "status": "completed"
    },
    "tags": []
   },
   "outputs": [],
   "source": [
    "func = _known_functions[func_name]()\n",
    "\n",
    "if not positive_prior:\n",
    "\n",
    "\tenergy_grid = np.linspace(-5,5,1000)\n",
    "\n",
    "else:\n",
    "    \n",
    "    energy_grid = np.linspace(0,1,1000)\n",
    "    \n",
    "    \n",
    "    \n",
    "    \n",
    "blue = \"#4152E3\"\n",
    "red = \"#E3414B\"\n",
    "green = \"#41E39E\""
   ]
  },
  {
   "cell_type": "markdown",
   "id": "c70b213a",
   "metadata": {
    "lines_to_next_cell": 0,
    "papermill": {
     "duration": 0.001002,
     "end_time": "2025-05-21T18:30:50.044630",
     "exception": false,
     "start_time": "2025-05-21T18:30:50.043628",
     "status": "completed"
    },
    "tags": []
   },
   "source": [
    "## Description"
   ]
  },
  {
   "cell_type": "code",
   "execution_count": 5,
   "id": "93ecd990",
   "metadata": {
    "execution": {
     "iopub.execute_input": "2025-05-21T18:30:50.047104Z",
     "iopub.status.busy": "2025-05-21T18:30:50.046966Z",
     "iopub.status.idle": "2025-05-21T18:30:50.050972Z",
     "shell.execute_reply": "2025-05-21T18:30:50.050495Z"
    },
    "papermill": {
     "duration": 0.006516,
     "end_time": "2025-05-21T18:30:50.052101",
     "exception": false,
     "start_time": "2025-05-21T18:30:50.045585",
     "status": "completed"
    },
    "tags": []
   },
   "outputs": [
    {
     "data": {
      "text/html": [
       "<ul>\n",
       "\n",
       "<li>description: A function which is constant on the interval lower_bound - upper_bound and 0 outside the interval. The extremes of the interval are counted as part of the interval.</li>\n",
       "\n",
       "<li>formula: $ f(x)=\\begin{cases}0 & x < \\text{lower_bound} \\\\\\text{value} & \\text{lower_bound} \\le x \\le \\text{upper_bound} \\\\ 0 & x > \\text{upper_bound} \\end{cases}$</li>\n",
       "\n",
       "<li>parameters: \n",
       "<ul>\n",
       "\n",
       "<li>lower_bound: \n",
       "<ul>\n",
       "\n",
       "<li>value: 0.0</li>\n",
       "\n",
       "<li>desc: Lower bound for the interval</li>\n",
       "\n",
       "<li>min_value: -inf</li>\n",
       "\n",
       "<li>max_value: inf</li>\n",
       "\n",
       "<li>unit: </li>\n",
       "\n",
       "<li>is_normalization: False</li>\n",
       "\n",
       "<li>delta: 0.1</li>\n",
       "\n",
       "<li>free: True</li>\n",
       "\n",
       "</ul>\n",
       "\n",
       "</li>\n",
       "\n",
       "<li>upper_bound: \n",
       "<ul>\n",
       "\n",
       "<li>value: 1.0</li>\n",
       "\n",
       "<li>desc: Upper bound for the interval</li>\n",
       "\n",
       "<li>min_value: -inf</li>\n",
       "\n",
       "<li>max_value: inf</li>\n",
       "\n",
       "<li>unit: </li>\n",
       "\n",
       "<li>is_normalization: False</li>\n",
       "\n",
       "<li>delta: 0.1</li>\n",
       "\n",
       "<li>free: True</li>\n",
       "\n",
       "</ul>\n",
       "\n",
       "</li>\n",
       "\n",
       "<li>value: \n",
       "<ul>\n",
       "\n",
       "<li>value: 1.0</li>\n",
       "\n",
       "<li>desc: Value in the interval</li>\n",
       "\n",
       "<li>min_value: None</li>\n",
       "\n",
       "<li>max_value: None</li>\n",
       "\n",
       "<li>unit: </li>\n",
       "\n",
       "<li>is_normalization: False</li>\n",
       "\n",
       "<li>delta: 0.1</li>\n",
       "\n",
       "<li>free: True</li>\n",
       "\n",
       "</ul>\n",
       "\n",
       "</li>\n",
       "\n",
       "</ul>\n",
       "\n",
       "</li>\n",
       "\n",
       "</ul>\n"
      ],
      "text/plain": [
       "  * description: A function which is constant on the interval lower_bound - upper_bound\n",
       "    * and 0 outside the interval. The extremes of the interval are counted as part of\n",
       "    * the interval.\n",
       "  * formula: $ f(x)=\\begin{cases}0 & x < \\text{lower_bound} \\\\\\text{value} & \\text{lower_bound}\n",
       "    * \\le x \\le \\text{upper_bound} \\\\ 0 & x > \\text{upper_bound} \\end{cases}$\n",
       "  * parameters:\n",
       "    * lower_bound:\n",
       "      * value: 0.0\n",
       "      * desc: Lower bound for the interval\n",
       "      * min_value: -.inf\n",
       "      * max_value: .inf\n",
       "      * unit: ''\n",
       "      * is_normalization: false\n",
       "      * delta: 0.1\n",
       "      * free: true\n",
       "    * upper_bound:\n",
       "      * value: 1.0\n",
       "      * desc: Upper bound for the interval\n",
       "      * min_value: -.inf\n",
       "      * max_value: .inf\n",
       "      * unit: ''\n",
       "      * is_normalization: false\n",
       "      * delta: 0.1\n",
       "      * free: true\n",
       "    * value:\n",
       "      * value: 1.0\n",
       "      * desc: Value in the interval\n",
       "      * min_value: null\n",
       "      * max_value: null\n",
       "      * unit: ''\n",
       "      * is_normalization: false\n",
       "      * delta: 0.1\n",
       "      * free: true"
      ]
     },
     "metadata": {},
     "output_type": "display_data"
    }
   ],
   "source": [
    "func.display()"
   ]
  },
  {
   "cell_type": "markdown",
   "id": "7bff80d8",
   "metadata": {
    "papermill": {
     "duration": 0.001099,
     "end_time": "2025-05-21T18:30:50.054416",
     "exception": false,
     "start_time": "2025-05-21T18:30:50.053317",
     "status": "completed"
    },
    "tags": []
   },
   "source": [
    "## Shape \n",
    "\n",
    "The shape of the function. \n",
    "\n",
    "*If this is not a photon model but a prior or linear function then ignore the units as these docs are auto-generated*"
   ]
  },
  {
   "cell_type": "code",
   "execution_count": 6,
   "id": "a4530c74",
   "metadata": {
    "execution": {
     "iopub.execute_input": "2025-05-21T18:30:50.057186Z",
     "iopub.status.busy": "2025-05-21T18:30:50.057041Z",
     "iopub.status.idle": "2025-05-21T18:30:50.131215Z",
     "shell.execute_reply": "2025-05-21T18:30:50.130812Z"
    },
    "papermill": {
     "duration": 0.076857,
     "end_time": "2025-05-21T18:30:50.132315",
     "exception": false,
     "start_time": "2025-05-21T18:30:50.055458",
     "status": "completed"
    },
    "tags": [
     "nbsphinx-thumbnail"
    ]
   },
   "outputs": [
    {
     "data": {
      "text/plain": [
       "Text(0, 0.5, 'probability')"
      ]
     },
     "execution_count": 6,
     "metadata": {},
     "output_type": "execute_result"
    },
    {
     "data": {
      "image/png": "[encoded data removed]",
      "text/plain": [
       "<Figure size 1040x910 with 1 Axes>"
      ]
     },
     "metadata": {},
     "output_type": "display_data"
    }
   ],
   "source": [
    "fig, ax = plt.subplots()\n",
    "\n",
    "\n",
    "ax.plot(energy_grid, func(energy_grid), color=blue, lw=3)\n",
    "\n",
    "ax.set_xlabel(\"x\")\n",
    "ax.set_ylabel(\"probability\")\n"
   ]
  },
  {
   "cell_type": "markdown",
   "id": "857d04d5",
   "metadata": {
    "papermill": {
     "duration": 0.001363,
     "end_time": "2025-05-21T18:30:50.135333",
     "exception": false,
     "start_time": "2025-05-21T18:30:50.133970",
     "status": "completed"
    },
    "tags": []
   },
   "source": [
    "## Random Number Generation\n",
    "\n",
    "This is how we can generate random numbers from the prior.\n"
   ]
  },
  {
   "cell_type": "code",
   "execution_count": 7,
   "id": "5c1d8908",
   "metadata": {
    "execution": {
     "iopub.execute_input": "2025-05-21T18:30:50.138799Z",
     "iopub.status.busy": "2025-05-21T18:30:50.138650Z",
     "iopub.status.idle": "2025-05-21T18:30:50.230462Z",
     "shell.execute_reply": "2025-05-21T18:30:50.230133Z"
    },
    "papermill": {
     "duration": 0.094939,
     "end_time": "2025-05-21T18:30:50.231717",
     "exception": false,
     "start_time": "2025-05-21T18:30:50.136778",
     "status": "completed"
    },
    "tags": []
   },
   "outputs": [
    {
     "data": {
      "text/plain": [
       "Text(0, 0.5, 'N')"
      ]
     },
     "execution_count": 7,
     "metadata": {},
     "output_type": "execute_result"
    },
    {
     "data": {
      "image/png": "[encoded data removed]",
      "text/plain": [
       "<Figure size 1040x910 with 1 Axes>"
      ]
     },
     "metadata": {},
     "output_type": "display_data"
    }
   ],
   "source": [
    "\n",
    "\n",
    "u = np.random.uniform(0,1, size=5000)\n",
    "\n",
    "draws = [func.from_unit_cube(x) for x in u]\n",
    "\n",
    "\n",
    "fig, ax = plt.subplots()\n",
    "\n",
    "\n",
    "ax.hist(draws, color=green, bins=50)\n",
    "\n",
    "ax.set_xlabel(\"value\")\n",
    "ax.set_ylabel(\"N\")\n",
    "\n"
   ]
  }
 ],
 "metadata": {
  "jupytext": {
   "formats": "ipynb,md"
  },
  "kernelspec": {
   "display_name": "Python 3 (ipykernel)",
   "language": "python",
   "name": "python3"
  },
  "language_info": {
   "codemirror_mode": {
    "name": "ipython",
    "version": 3
   },
   "file_extension": ".py",
   "mimetype": "text/x-python",
   "name": "python",
   "nbconvert_exporter": "python",
   "pygments_lexer": "ipython3",
   "version": "3.9.13"
  },
  "papermill": {
   "default_parameters": {},
   "duration": 2.718003,
   "end_time": "2025-05-21T18:30:50.567908",
   "environment_variables": {},
   "exception": null,
   "input_path": "Uniform_prior.ipynb",
   "output_path": "/Users/runner/work/astromodels/astromodels/docs/notebooks/Uniform_prior.ipynb",
   "parameters": {
    "func_name": "Uniform_prior",
    "positive_prior": false
   },
   "start_time": "2025-05-21T18:30:47.849905",
   "version": "2.6.0"
  }
 },
 "nbformat": 4,
 "nbformat_minor": 5
}
