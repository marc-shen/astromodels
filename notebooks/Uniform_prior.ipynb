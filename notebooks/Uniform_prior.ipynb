{
 "cells": [
  {
   "cell_type": "markdown",
   "id": "8453bb80",
   "metadata": {
    "papermill": {
     "duration": 0.003973,
     "end_time": "2025-05-21T17:38:24.572606",
     "exception": false,
     "start_time": "2025-05-21T17:38:24.568633",
     "status": "completed"
    },
    "tags": []
   },
   "source": [
    "# Uniform prior"
   ]
  },
  {
   "cell_type": "code",
   "execution_count": 1,
   "id": "c6741856",
   "metadata": {
    "execution": {
     "iopub.execute_input": "2025-05-21T17:38:24.584453Z",
     "iopub.status.busy": "2025-05-21T17:38:24.583894Z",
     "iopub.status.idle": "2025-05-21T17:38:26.242087Z",
     "shell.execute_reply": "2025-05-21T17:38:26.241317Z"
    },
    "nbsphinx": "hidden",
    "papermill": {
     "duration": 1.665245,
     "end_time": "2025-05-21T17:38:26.243405",
     "exception": false,
     "start_time": "2025-05-21T17:38:24.578160",
     "status": "completed"
    },
    "tags": []
   },
   "outputs": [],
   "source": [
    "%%capture\n",
    "\n",
    "import numpy as np\n",
    "\n",
    "import matplotlib.pyplot as plt\n",
    "\n",
    "import warnings\n",
    "warnings.simplefilter(\"ignore\")\n",
    "\n",
    "from astromodels.functions.function import _known_functions\n",
    "\n",
    "\n",
    "from jupyterthemes import jtplot\n",
    "jtplot.style(context=\"talk\", fscale=1, ticks=True, grid=False)\n",
    "%matplotlib inline"
   ]
  },
  {
   "cell_type": "code",
   "execution_count": 2,
   "id": "5e141dee",
   "metadata": {
    "execution": {
     "iopub.execute_input": "2025-05-21T17:38:26.247011Z",
     "iopub.status.busy": "2025-05-21T17:38:26.246630Z",
     "iopub.status.idle": "2025-05-21T17:38:26.253432Z",
     "shell.execute_reply": "2025-05-21T17:38:26.252990Z"
    },
    "nbsphinx": "hidden",
    "papermill": {
     "duration": 0.009873,
     "end_time": "2025-05-21T17:38:26.254691",
     "exception": false,
     "start_time": "2025-05-21T17:38:26.244818",
     "status": "completed"
    },
    "tags": [
     "parameters"
    ]
   },
   "outputs": [],
   "source": [
    "func_name = \"TbAbs\"\n",
    "\n",
    "positive_prior = False\n"
   ]
  },
  {
   "cell_type": "code",
   "execution_count": 3,
   "id": "830608d5",
   "metadata": {
    "execution": {
     "iopub.execute_input": "2025-05-21T17:38:26.257482Z",
     "iopub.status.busy": "2025-05-21T17:38:26.257327Z",
     "iopub.status.idle": "2025-05-21T17:38:26.265439Z",
     "shell.execute_reply": "2025-05-21T17:38:26.264990Z"
    },
    "papermill": {
     "duration": 0.010764,
     "end_time": "2025-05-21T17:38:26.266580",
     "exception": false,
     "start_time": "2025-05-21T17:38:26.255816",
     "status": "completed"
    },
    "tags": [
     "injected-parameters"
    ]
   },
   "outputs": [],
   "source": [
    "# Parameters\n",
    "func_name = \"Uniform_prior\"\n",
    "positive_prior = False\n"
   ]
  },
  {
   "cell_type": "code",
   "execution_count": 4,
   "id": "076ee31e",
   "metadata": {
    "execution": {
     "iopub.execute_input": "2025-05-21T17:38:26.269528Z",
     "iopub.status.busy": "2025-05-21T17:38:26.269379Z",
     "iopub.status.idle": "2025-05-21T17:38:26.278619Z",
     "shell.execute_reply": "2025-05-21T17:38:26.278184Z"
    },
    "lines_to_next_cell": 0,
    "nbsphinx": "hidden",
    "papermill": {
     "duration": 0.012062,
     "end_time": "2025-05-21T17:38:26.279897",
     "exception": false,
     "start_time": "2025-05-21T17:38:26.267835",
     "status": "completed"
    },
    "tags": []
   },
   "outputs": [],
   "source": [
    "func = _known_functions[func_name]()\n",
    "\n",
    "if not positive_prior:\n",
    "\n",
    "\tenergy_grid = np.linspace(-5,5,1000)\n",
    "\n",
    "else:\n",
    "    \n",
    "    energy_grid = np.linspace(0,1,1000)\n",
    "    \n",
    "    \n",
    "    \n",
    "    \n",
    "blue = \"#4152E3\"\n",
    "red = \"#E3414B\"\n",
    "green = \"#41E39E\""
   ]
  },
  {
   "cell_type": "markdown",
   "id": "346c1d84",
   "metadata": {
    "lines_to_next_cell": 0,
    "papermill": {
     "duration": 0.001031,
     "end_time": "2025-05-21T17:38:26.282130",
     "exception": false,
     "start_time": "2025-05-21T17:38:26.281099",
     "status": "completed"
    },
    "tags": []
   },
   "source": [
    "## Description"
   ]
  },
  {
   "cell_type": "code",
   "execution_count": 5,
   "id": "0b512eb0",
   "metadata": {
    "execution": {
     "iopub.execute_input": "2025-05-21T17:38:26.284782Z",
     "iopub.status.busy": "2025-05-21T17:38:26.284617Z",
     "iopub.status.idle": "2025-05-21T17:38:26.289177Z",
     "shell.execute_reply": "2025-05-21T17:38:26.288761Z"
    },
    "papermill": {
     "duration": 0.007183,
     "end_time": "2025-05-21T17:38:26.290314",
     "exception": false,
     "start_time": "2025-05-21T17:38:26.283131",
     "status": "completed"
    },
    "tags": []
   },
   "outputs": [
    {
     "data": {
      "text/html": [
       "<ul>\n",
       "\n",
       "<li>description: A function which is constant on the interval lower_bound - upper_bound and 0 outside the interval. The extremes of the interval are counted as part of the interval.</li>\n",
       "\n",
       "<li>formula: $ f(x)=\\begin{cases}0 & x < \\text{lower_bound} \\\\\\text{value} & \\text{lower_bound} \\le x \\le \\text{upper_bound} \\\\ 0 & x > \\text{upper_bound} \\end{cases}$</li>\n",
       "\n",
       "<li>parameters: \n",
       "<ul>\n",
       "\n",
       "<li>lower_bound: \n",
       "<ul>\n",
       "\n",
       "<li>value: 0.0</li>\n",
       "\n",
       "<li>desc: Lower bound for the interval</li>\n",
       "\n",
       "<li>min_value: -inf</li>\n",
       "\n",
       "<li>max_value: inf</li>\n",
       "\n",
       "<li>unit: </li>\n",
       "\n",
       "<li>is_normalization: False</li>\n",
       "\n",
       "<li>delta: 0.1</li>\n",
       "\n",
       "<li>free: True</li>\n",
       "\n",
       "</ul>\n",
       "\n",
       "</li>\n",
       "\n",
       "<li>upper_bound: \n",
       "<ul>\n",
       "\n",
       "<li>value: 1.0</li>\n",
       "\n",
       "<li>desc: Upper bound for the interval</li>\n",
       "\n",
       "<li>min_value: -inf</li>\n",
       "\n",
       "<li>max_value: inf</li>\n",
       "\n",
       "<li>unit: </li>\n",
       "\n",
       "<li>is_normalization: False</li>\n",
       "\n",
       "<li>delta: 0.1</li>\n",
       "\n",
       "<li>free: True</li>\n",
       "\n",
       "</ul>\n",
       "\n",
       "</li>\n",
       "\n",
       "<li>value: \n",
       "<ul>\n",
       "\n",
       "<li>value: 1.0</li>\n",
       "\n",
       "<li>desc: Value in the interval</li>\n",
       "\n",
       "<li>min_value: None</li>\n",
       "\n",
       "<li>max_value: None</li>\n",
       "\n",
       "<li>unit: </li>\n",
       "\n",
       "<li>is_normalization: False</li>\n",
       "\n",
       "<li>delta: 0.1</li>\n",
       "\n",
       "<li>free: True</li>\n",
       "\n",
       "</ul>\n",
       "\n",
       "</li>\n",
       "\n",
       "</ul>\n",
       "\n",
       "</li>\n",
       "\n",
       "</ul>\n"
      ],
      "text/plain": [
       "  * description: A function which is constant on the interval lower_bound - upper_bound\n",
       "    * and 0 outside the interval. The extremes of the interval are counted as part of\n",
       "    * the interval.\n",
       "  * formula: $ f(x)=\\begin{cases}0 & x < \\text{lower_bound} \\\\\\text{value} & \\text{lower_bound}\n",
       "    * \\le x \\le \\text{upper_bound} \\\\ 0 & x > \\text{upper_bound} \\end{cases}$\n",
       "  * parameters:\n",
       "    * lower_bound:\n",
       "      * value: 0.0\n",
       "      * desc: Lower bound for the interval\n",
       "      * min_value: -.inf\n",
       "      * max_value: .inf\n",
       "      * unit: ''\n",
       "      * is_normalization: false\n",
       "      * delta: 0.1\n",
       "      * free: true\n",
       "    * upper_bound:\n",
       "      * value: 1.0\n",
       "      * desc: Upper bound for the interval\n",
       "      * min_value: -.inf\n",
       "      * max_value: .inf\n",
       "      * unit: ''\n",
       "      * is_normalization: false\n",
       "      * delta: 0.1\n",
       "      * free: true\n",
       "    * value:\n",
       "      * value: 1.0\n",
       "      * desc: Value in the interval\n",
       "      * min_value: null\n",
       "      * max_value: null\n",
       "      * unit: ''\n",
       "      * is_normalization: false\n",
       "      * delta: 0.1\n",
       "      * free: true"
      ]
     },
     "metadata": {},
     "output_type": "display_data"
    }
   ],
   "source": [
    "func.display()"
   ]
  },
  {
   "cell_type": "markdown",
   "id": "517673e8",
   "metadata": {
    "papermill": {
     "duration": 0.001289,
     "end_time": "2025-05-21T17:38:26.293126",
     "exception": false,
     "start_time": "2025-05-21T17:38:26.291837",
     "status": "completed"
    },
    "tags": []
   },
   "source": [
    "## Shape \n",
    "\n",
    "The shape of the function. \n",
    "\n",
    "*If this is not a photon model but a prior or linear function then ignore the units as these docs are auto-generated*"
   ]
  },
  {
   "cell_type": "code",
   "execution_count": 6,
   "id": "fc53c88f",
   "metadata": {
    "execution": {
     "iopub.execute_input": "2025-05-21T17:38:26.296258Z",
     "iopub.status.busy": "2025-05-21T17:38:26.296077Z",
     "iopub.status.idle": "2025-05-21T17:38:26.372954Z",
     "shell.execute_reply": "2025-05-21T17:38:26.372591Z"
    },
    "papermill": {
     "duration": 0.080277,
     "end_time": "2025-05-21T17:38:26.374583",
     "exception": false,
     "start_time": "2025-05-21T17:38:26.294306",
     "status": "completed"
    },
    "tags": [
     "nbsphinx-thumbnail"
    ]
   },
   "outputs": [
    {
     "data": {
      "text/plain": [
       "Text(0, 0.5, 'probability')"
      ]
     },
     "execution_count": 6,
     "metadata": {},
     "output_type": "execute_result"
    },
    {
     "data": {
      "image/png": "[encoded data removed]",
      "text/plain": [
       "<Figure size 1040x910 with 1 Axes>"
      ]
     },
     "metadata": {},
     "output_type": "display_data"
    }
   ],
   "source": [
    "fig, ax = plt.subplots()\n",
    "\n",
    "\n",
    "ax.plot(energy_grid, func(energy_grid), color=blue, lw=3)\n",
    "\n",
    "ax.set_xlabel(\"x\")\n",
    "ax.set_ylabel(\"probability\")\n"
   ]
  },
  {
   "cell_type": "markdown",
   "id": "a477302a",
   "metadata": {
    "papermill": {
     "duration": 0.001509,
     "end_time": "2025-05-21T17:38:26.377840",
     "exception": false,
     "start_time": "2025-05-21T17:38:26.376331",
     "status": "completed"
    },
    "tags": []
   },
   "source": [
    "## Random Number Generation\n",
    "\n",
    "This is how we can generate random numbers from the prior.\n"
   ]
  },
  {
   "cell_type": "code",
   "execution_count": 7,
   "id": "cfe7bb56",
   "metadata": {
    "execution": {
     "iopub.execute_input": "2025-05-21T17:38:26.381552Z",
     "iopub.status.busy": "2025-05-21T17:38:26.381391Z",
     "iopub.status.idle": "2025-05-21T17:38:26.485669Z",
     "shell.execute_reply": "2025-05-21T17:38:26.485048Z"
    },
    "papermill": {
     "duration": 0.107666,
     "end_time": "2025-05-21T17:38:26.486912",
     "exception": false,
     "start_time": "2025-05-21T17:38:26.379246",
     "status": "completed"
    },
    "tags": []
   },
   "outputs": [
    {
     "data": {
      "text/plain": [
       "Text(0, 0.5, 'N')"
      ]
     },
     "execution_count": 7,
     "metadata": {},
     "output_type": "execute_result"
    },
    {
     "data": {
      "image/png": "[encoded data removed]",
      "text/plain": [
       "<Figure size 1040x910 with 1 Axes>"
      ]
     },
     "metadata": {},
     "output_type": "display_data"
    }
   ],
   "source": [
    "\n",
    "\n",
    "u = np.random.uniform(0,1, size=5000)\n",
    "\n",
    "draws = [func.from_unit_cube(x) for x in u]\n",
    "\n",
    "\n",
    "fig, ax = plt.subplots()\n",
    "\n",
    "\n",
    "ax.hist(draws, color=green, bins=50)\n",
    "\n",
    "ax.set_xlabel(\"value\")\n",
    "ax.set_ylabel(\"N\")\n",
    "\n"
   ]
  }
 ],
 "metadata": {
  "jupytext": {
   "formats": "ipynb,md"
  },
  "kernelspec": {
   "display_name": "Python 3 (ipykernel)",
   "language": "python",
   "name": "python3"
  },
  "language_info": {
   "codemirror_mode": {
    "name": "ipython",
    "version": 3
   },
   "file_extension": ".py",
   "mimetype": "text/x-python",
   "name": "python",
   "nbconvert_exporter": "python",
   "pygments_lexer": "ipython3",
   "version": "3.9.13"
  },
  "papermill": {
   "default_parameters": {},
   "duration": 3.104954,
   "end_time": "2025-05-21T17:38:26.936930",
   "environment_variables": {},
   "exception": null,
   "input_path": "Uniform_prior.ipynb",
   "output_path": "/Users/runner/work/astromodels/astromodels/docs/notebooks/Uniform_prior.ipynb",
   "parameters": {
    "func_name": "Uniform_prior",
    "positive_prior": false
   },
   "start_time": "2025-05-21T17:38:23.831976",
   "version": "2.6.0"
  }
 },
 "nbformat": 4,
 "nbformat_minor": 5
}
