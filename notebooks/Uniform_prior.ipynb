{
 "cells": [
  {
   "cell_type": "markdown",
   "id": "07d8fc06",
   "metadata": {
    "papermill": {
     "duration": 0.010242,
     "end_time": "2024-09-10T14:37:29.973029",
     "exception": false,
     "start_time": "2024-09-10T14:37:29.962787",
     "status": "completed"
    },
    "tags": []
   },
   "source": [
    "# Uniform prior"
   ]
  },
  {
   "cell_type": "code",
   "execution_count": 1,
   "id": "b7fa1c13",
   "metadata": {
    "execution": {
     "iopub.execute_input": "2024-09-10T14:37:29.984530Z",
     "iopub.status.busy": "2024-09-10T14:37:29.983959Z",
     "iopub.status.idle": "2024-09-10T14:37:31.397986Z",
     "shell.execute_reply": "2024-09-10T14:37:31.397459Z"
    },
    "nbsphinx": "hidden",
    "papermill": {
     "duration": 1.421398,
     "end_time": "2024-09-10T14:37:31.399479",
     "exception": false,
     "start_time": "2024-09-10T14:37:29.978081",
     "status": "completed"
    },
    "tags": []
   },
   "outputs": [],
   "source": [
    "%%capture\n",
    "\n",
    "import numpy as np\n",
    "\n",
    "import matplotlib.pyplot as plt\n",
    "\n",
    "import warnings\n",
    "warnings.simplefilter(\"ignore\")\n",
    "\n",
    "from astromodels.functions.function import _known_functions\n",
    "\n",
    "\n",
    "from jupyterthemes import jtplot\n",
    "jtplot.style(context=\"talk\", fscale=1, ticks=True, grid=False)\n",
    "%matplotlib inline"
   ]
  },
  {
   "cell_type": "code",
   "execution_count": 2,
   "id": "4aa2a340",
   "metadata": {
    "execution": {
     "iopub.execute_input": "2024-09-10T14:37:31.402701Z",
     "iopub.status.busy": "2024-09-10T14:37:31.402375Z",
     "iopub.status.idle": "2024-09-10T14:37:31.410570Z",
     "shell.execute_reply": "2024-09-10T14:37:31.410136Z"
    },
    "nbsphinx": "hidden",
    "papermill": {
     "duration": 0.011158,
     "end_time": "2024-09-10T14:37:31.411862",
     "exception": false,
     "start_time": "2024-09-10T14:37:31.400704",
     "status": "completed"
    },
    "tags": [
     "parameters"
    ]
   },
   "outputs": [],
   "source": [
    "func_name = \"TbAbs\"\n",
    "\n",
    "positive_prior = False\n"
   ]
  },
  {
   "cell_type": "code",
   "execution_count": 3,
   "id": "e145deed",
   "metadata": {
    "execution": {
     "iopub.execute_input": "2024-09-10T14:37:31.414411Z",
     "iopub.status.busy": "2024-09-10T14:37:31.414270Z",
     "iopub.status.idle": "2024-09-10T14:37:31.422327Z",
     "shell.execute_reply": "2024-09-10T14:37:31.421940Z"
    },
    "papermill": {
     "duration": 0.010756,
     "end_time": "2024-09-10T14:37:31.423614",
     "exception": false,
     "start_time": "2024-09-10T14:37:31.412858",
     "status": "completed"
    },
    "tags": [
     "injected-parameters"
    ]
   },
   "outputs": [],
   "source": [
    "# Parameters\n",
    "func_name = \"Uniform_prior\"\n",
    "positive_prior = False\n"
   ]
  },
  {
   "cell_type": "code",
   "execution_count": 4,
   "id": "fa3e3a6f",
   "metadata": {
    "execution": {
     "iopub.execute_input": "2024-09-10T14:37:31.426262Z",
     "iopub.status.busy": "2024-09-10T14:37:31.426127Z",
     "iopub.status.idle": "2024-09-10T14:37:31.434867Z",
     "shell.execute_reply": "2024-09-10T14:37:31.434500Z"
    },
    "lines_to_next_cell": 0,
    "nbsphinx": "hidden",
    "papermill": {
     "duration": 0.011447,
     "end_time": "2024-09-10T14:37:31.436116",
     "exception": false,
     "start_time": "2024-09-10T14:37:31.424669",
     "status": "completed"
    },
    "tags": []
   },
   "outputs": [],
   "source": [
    "func = _known_functions[func_name]()\n",
    "\n",
    "if not positive_prior:\n",
    "\n",
    "\tenergy_grid = np.linspace(-5,5,1000)\n",
    "\n",
    "else:\n",
    "    \n",
    "    energy_grid = np.linspace(0,1,1000)\n",
    "    \n",
    "    \n",
    "    \n",
    "    \n",
    "blue = \"#4152E3\"\n",
    "red = \"#E3414B\"\n",
    "green = \"#41E39E\""
   ]
  },
  {
   "cell_type": "markdown",
   "id": "7d58cf85",
   "metadata": {
    "lines_to_next_cell": 0,
    "papermill": {
     "duration": 0.001024,
     "end_time": "2024-09-10T14:37:31.438184",
     "exception": false,
     "start_time": "2024-09-10T14:37:31.437160",
     "status": "completed"
    },
    "tags": []
   },
   "source": [
    "## Description"
   ]
  },
  {
   "cell_type": "code",
   "execution_count": 5,
   "id": "3e7d0c5b",
   "metadata": {
    "execution": {
     "iopub.execute_input": "2024-09-10T14:37:31.440729Z",
     "iopub.status.busy": "2024-09-10T14:37:31.440588Z",
     "iopub.status.idle": "2024-09-10T14:37:31.444713Z",
     "shell.execute_reply": "2024-09-10T14:37:31.444317Z"
    },
    "papermill": {
     "duration": 0.006908,
     "end_time": "2024-09-10T14:37:31.446053",
     "exception": false,
     "start_time": "2024-09-10T14:37:31.439145",
     "status": "completed"
    },
    "tags": []
   },
   "outputs": [
    {
     "data": {
      "text/html": [
       "<ul>\n",
       "\n",
       "<li>description: A function which is constant on the interval lower_bound - upper_bound and 0 outside the interval. The extremes of the interval are counted as part of the interval.</li>\n",
       "\n",
       "<li>formula: $ f(x)=\\begin{cases}0 & x < \\text{lower_bound} \\\\\\text{value} & \\text{lower_bound} \\le x \\le \\text{upper_bound} \\\\ 0 & x > \\text{upper_bound} \\end{cases}$</li>\n",
       "\n",
       "<li>parameters: \n",
       "<ul>\n",
       "\n",
       "<li>lower_bound: \n",
       "<ul>\n",
       "\n",
       "<li>value: 0.0</li>\n",
       "\n",
       "<li>desc: Lower bound for the interval</li>\n",
       "\n",
       "<li>min_value: -inf</li>\n",
       "\n",
       "<li>max_value: inf</li>\n",
       "\n",
       "<li>unit: </li>\n",
       "\n",
       "<li>is_normalization: False</li>\n",
       "\n",
       "<li>delta: 0.1</li>\n",
       "\n",
       "<li>free: True</li>\n",
       "\n",
       "</ul>\n",
       "\n",
       "</li>\n",
       "\n",
       "<li>upper_bound: \n",
       "<ul>\n",
       "\n",
       "<li>value: 1.0</li>\n",
       "\n",
       "<li>desc: Upper bound for the interval</li>\n",
       "\n",
       "<li>min_value: -inf</li>\n",
       "\n",
       "<li>max_value: inf</li>\n",
       "\n",
       "<li>unit: </li>\n",
       "\n",
       "<li>is_normalization: False</li>\n",
       "\n",
       "<li>delta: 0.1</li>\n",
       "\n",
       "<li>free: True</li>\n",
       "\n",
       "</ul>\n",
       "\n",
       "</li>\n",
       "\n",
       "<li>value: \n",
       "<ul>\n",
       "\n",
       "<li>value: 1.0</li>\n",
       "\n",
       "<li>desc: Value in the interval</li>\n",
       "\n",
       "<li>min_value: None</li>\n",
       "\n",
       "<li>max_value: None</li>\n",
       "\n",
       "<li>unit: </li>\n",
       "\n",
       "<li>is_normalization: False</li>\n",
       "\n",
       "<li>delta: 0.1</li>\n",
       "\n",
       "<li>free: True</li>\n",
       "\n",
       "</ul>\n",
       "\n",
       "</li>\n",
       "\n",
       "</ul>\n",
       "\n",
       "</li>\n",
       "\n",
       "</ul>\n"
      ],
      "text/plain": [
       "  * description: A function which is constant on the interval lower_bound - upper_bound\n",
       "    * and 0 outside the interval. The extremes of the interval are counted as part of\n",
       "    * the interval.\n",
       "  * formula: $ f(x)=\\begin{cases}0 & x < \\text{lower_bound} \\\\\\text{value} & \\text{lower_bound}\n",
       "    * \\le x \\le \\text{upper_bound} \\\\ 0 & x > \\text{upper_bound} \\end{cases}$\n",
       "  * parameters:\n",
       "    * lower_bound:\n",
       "      * value: 0.0\n",
       "      * desc: Lower bound for the interval\n",
       "      * min_value: -.inf\n",
       "      * max_value: .inf\n",
       "      * unit: ''\n",
       "      * is_normalization: false\n",
       "      * delta: 0.1\n",
       "      * free: true\n",
       "    * upper_bound:\n",
       "      * value: 1.0\n",
       "      * desc: Upper bound for the interval\n",
       "      * min_value: -.inf\n",
       "      * max_value: .inf\n",
       "      * unit: ''\n",
       "      * is_normalization: false\n",
       "      * delta: 0.1\n",
       "      * free: true\n",
       "    * value:\n",
       "      * value: 1.0\n",
       "      * desc: Value in the interval\n",
       "      * min_value: null\n",
       "      * max_value: null\n",
       "      * unit: ''\n",
       "      * is_normalization: false\n",
       "      * delta: 0.1\n",
       "      * free: true"
      ]
     },
     "metadata": {},
     "output_type": "display_data"
    }
   ],
   "source": [
    "func.display()"
   ]
  },
  {
   "cell_type": "markdown",
   "id": "f526c3a5",
   "metadata": {
    "papermill": {
     "duration": 0.001137,
     "end_time": "2024-09-10T14:37:31.448336",
     "exception": false,
     "start_time": "2024-09-10T14:37:31.447199",
     "status": "completed"
    },
    "tags": []
   },
   "source": [
    "## Shape \n",
    "\n",
    "The shape of the function. \n",
    "\n",
    "*If this is not a photon model but a prior or linear function then ignore the units as these docs are auto-generated*"
   ]
  },
  {
   "cell_type": "code",
   "execution_count": 6,
   "id": "dc7acc3b",
   "metadata": {
    "execution": {
     "iopub.execute_input": "2024-09-10T14:37:31.451209Z",
     "iopub.status.busy": "2024-09-10T14:37:31.451071Z",
     "iopub.status.idle": "2024-09-10T14:37:31.540639Z",
     "shell.execute_reply": "2024-09-10T14:37:31.540323Z"
    },
    "papermill": {
     "duration": 0.092641,
     "end_time": "2024-09-10T14:37:31.542065",
     "exception": false,
     "start_time": "2024-09-10T14:37:31.449424",
     "status": "completed"
    },
    "tags": [
     "nbsphinx-thumbnail"
    ]
   },
   "outputs": [
    {
     "data": {
      "text/plain": [
       "Text(0, 0.5, 'probability')"
      ]
     },
     "execution_count": 6,
     "metadata": {},
     "output_type": "execute_result"
    },
    {
     "data": {
      "image/png": "[encoded data removed]",
      "text/plain": [
       "<Figure size 1040x910 with 1 Axes>"
      ]
     },
     "metadata": {},
     "output_type": "display_data"
    }
   ],
   "source": [
    "fig, ax = plt.subplots()\n",
    "\n",
    "\n",
    "ax.plot(energy_grid, func(energy_grid), color=blue, lw=3)\n",
    "\n",
    "ax.set_xlabel(\"x\")\n",
    "ax.set_ylabel(\"probability\")\n"
   ]
  },
  {
   "cell_type": "markdown",
   "id": "159822cd",
   "metadata": {
    "papermill": {
     "duration": 0.001511,
     "end_time": "2024-09-10T14:37:31.545180",
     "exception": false,
     "start_time": "2024-09-10T14:37:31.543669",
     "status": "completed"
    },
    "tags": []
   },
   "source": [
    "## Random Number Generation\n",
    "\n",
    "This is how we can generate random numbers from the prior.\n"
   ]
  },
  {
   "cell_type": "code",
   "execution_count": 7,
   "id": "d2108c79",
   "metadata": {
    "execution": {
     "iopub.execute_input": "2024-09-10T14:37:31.548631Z",
     "iopub.status.busy": "2024-09-10T14:37:31.548485Z",
     "iopub.status.idle": "2024-09-10T14:37:31.658951Z",
     "shell.execute_reply": "2024-09-10T14:37:31.658626Z"
    },
    "papermill": {
     "duration": 0.11391,
     "end_time": "2024-09-10T14:37:31.660410",
     "exception": false,
     "start_time": "2024-09-10T14:37:31.546500",
     "status": "completed"
    },
    "tags": []
   },
   "outputs": [
    {
     "data": {
      "text/plain": [
       "Text(0, 0.5, 'N')"
      ]
     },
     "execution_count": 7,
     "metadata": {},
     "output_type": "execute_result"
    },
    {
     "data": {
      "image/png": "[encoded data removed]",
      "text/plain": [
       "<Figure size 1040x910 with 1 Axes>"
      ]
     },
     "metadata": {},
     "output_type": "display_data"
    }
   ],
   "source": [
    "\n",
    "\n",
    "u = np.random.uniform(0,1, size=5000)\n",
    "\n",
    "draws = [func.from_unit_cube(x) for x in u]\n",
    "\n",
    "\n",
    "fig, ax = plt.subplots()\n",
    "\n",
    "\n",
    "ax.hist(draws, color=green, bins=50)\n",
    "\n",
    "ax.set_xlabel(\"value\")\n",
    "ax.set_ylabel(\"N\")\n",
    "\n"
   ]
  }
 ],
 "metadata": {
  "jupytext": {
   "formats": "ipynb,md"
  },
  "kernelspec": {
   "display_name": "Python 3 (ipykernel)",
   "language": "python",
   "name": "python3"
  },
  "language_info": {
   "codemirror_mode": {
    "name": "ipython",
    "version": 3
   },
   "file_extension": ".py",
   "mimetype": "text/x-python",
   "name": "python",
   "nbconvert_exporter": "python",
   "pygments_lexer": "ipython3",
   "version": "3.9.13"
  },
  "papermill": {
   "default_parameters": {},
   "duration": 2.526723,
   "end_time": "2024-09-10T14:37:31.995239",
   "environment_variables": {},
   "exception": null,
   "input_path": "Uniform_prior.ipynb",
   "output_path": "/Users/runner/work/astromodels/astromodels/docs/notebooks/Uniform_prior.ipynb",
   "parameters": {
    "func_name": "Uniform_prior",
    "positive_prior": false
   },
   "start_time": "2024-09-10T14:37:29.468516",
   "version": "2.6.0"
  }
 },
 "nbformat": 4,
 "nbformat_minor": 5
}
