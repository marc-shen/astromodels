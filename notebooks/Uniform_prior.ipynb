{
 "cells": [
  {
   "cell_type": "markdown",
   "id": "434ea814",
   "metadata": {
    "papermill": {
     "duration": 0.007254,
     "end_time": "2024-05-08T19:56:53.541660",
     "exception": false,
     "start_time": "2024-05-08T19:56:53.534406",
     "status": "completed"
    },
    "tags": []
   },
   "source": [
    "# Uniform prior"
   ]
  },
  {
   "cell_type": "code",
   "execution_count": 1,
   "id": "61e54b96",
   "metadata": {
    "execution": {
     "iopub.execute_input": "2024-05-08T19:56:53.555079Z",
     "iopub.status.busy": "2024-05-08T19:56:53.554393Z",
     "iopub.status.idle": "2024-05-08T19:56:55.292311Z",
     "shell.execute_reply": "2024-05-08T19:56:55.291702Z"
    },
    "nbsphinx": "hidden",
    "papermill": {
     "duration": 1.746908,
     "end_time": "2024-05-08T19:56:55.294618",
     "exception": false,
     "start_time": "2024-05-08T19:56:53.547710",
     "status": "completed"
    },
    "tags": []
   },
   "outputs": [],
   "source": [
    "%%capture\n",
    "\n",
    "import numpy as np\n",
    "\n",
    "import matplotlib.pyplot as plt\n",
    "\n",
    "import warnings\n",
    "warnings.simplefilter(\"ignore\")\n",
    "\n",
    "from astromodels.functions.function import _known_functions\n",
    "\n",
    "\n",
    "from jupyterthemes import jtplot\n",
    "jtplot.style(context=\"talk\", fscale=1, ticks=True, grid=False)\n",
    "%matplotlib inline"
   ]
  },
  {
   "cell_type": "code",
   "execution_count": 2,
   "id": "2dea725c",
   "metadata": {
    "execution": {
     "iopub.execute_input": "2024-05-08T19:56:55.299400Z",
     "iopub.status.busy": "2024-05-08T19:56:55.298905Z",
     "iopub.status.idle": "2024-05-08T19:56:55.307320Z",
     "shell.execute_reply": "2024-05-08T19:56:55.306938Z"
    },
    "nbsphinx": "hidden",
    "papermill": {
     "duration": 0.012251,
     "end_time": "2024-05-08T19:56:55.308641",
     "exception": false,
     "start_time": "2024-05-08T19:56:55.296390",
     "status": "completed"
    },
    "tags": [
     "parameters"
    ]
   },
   "outputs": [],
   "source": [
    "func_name = \"TbAbs\"\n",
    "\n",
    "positive_prior = False\n"
   ]
  },
  {
   "cell_type": "code",
   "execution_count": 3,
   "id": "c5e657a2",
   "metadata": {
    "execution": {
     "iopub.execute_input": "2024-05-08T19:56:55.311285Z",
     "iopub.status.busy": "2024-05-08T19:56:55.311144Z",
     "iopub.status.idle": "2024-05-08T19:56:55.318836Z",
     "shell.execute_reply": "2024-05-08T19:56:55.318424Z"
    },
    "papermill": {
     "duration": 0.010497,
     "end_time": "2024-05-08T19:56:55.320166",
     "exception": false,
     "start_time": "2024-05-08T19:56:55.309669",
     "status": "completed"
    },
    "tags": [
     "injected-parameters"
    ]
   },
   "outputs": [],
   "source": [
    "# Parameters\n",
    "func_name = \"Uniform_prior\"\n",
    "positive_prior = False\n"
   ]
  },
  {
   "cell_type": "code",
   "execution_count": 4,
   "id": "28765772",
   "metadata": {
    "execution": {
     "iopub.execute_input": "2024-05-08T19:56:55.322899Z",
     "iopub.status.busy": "2024-05-08T19:56:55.322750Z",
     "iopub.status.idle": "2024-05-08T19:56:55.331661Z",
     "shell.execute_reply": "2024-05-08T19:56:55.331232Z"
    },
    "lines_to_next_cell": 0,
    "nbsphinx": "hidden",
    "papermill": {
     "duration": 0.011736,
     "end_time": "2024-05-08T19:56:55.332962",
     "exception": false,
     "start_time": "2024-05-08T19:56:55.321226",
     "status": "completed"
    },
    "tags": []
   },
   "outputs": [],
   "source": [
    "func = _known_functions[func_name]()\n",
    "\n",
    "if not positive_prior:\n",
    "\n",
    "\tenergy_grid = np.linspace(-5,5,1000)\n",
    "\n",
    "else:\n",
    "    \n",
    "    energy_grid = np.linspace(0,1,1000)\n",
    "    \n",
    "    \n",
    "    \n",
    "    \n",
    "blue = \"#4152E3\"\n",
    "red = \"#E3414B\"\n",
    "green = \"#41E39E\""
   ]
  },
  {
   "cell_type": "markdown",
   "id": "83662305",
   "metadata": {
    "lines_to_next_cell": 0,
    "papermill": {
     "duration": 0.001,
     "end_time": "2024-05-08T19:56:55.335028",
     "exception": false,
     "start_time": "2024-05-08T19:56:55.334028",
     "status": "completed"
    },
    "tags": []
   },
   "source": [
    "## Description"
   ]
  },
  {
   "cell_type": "code",
   "execution_count": 5,
   "id": "745fba83",
   "metadata": {
    "execution": {
     "iopub.execute_input": "2024-05-08T19:56:55.337570Z",
     "iopub.status.busy": "2024-05-08T19:56:55.337425Z",
     "iopub.status.idle": "2024-05-08T19:56:55.341561Z",
     "shell.execute_reply": "2024-05-08T19:56:55.341082Z"
    },
    "papermill": {
     "duration": 0.007274,
     "end_time": "2024-05-08T19:56:55.343253",
     "exception": false,
     "start_time": "2024-05-08T19:56:55.335979",
     "status": "completed"
    },
    "tags": []
   },
   "outputs": [
    {
     "data": {
      "text/html": [
       "<ul>\n",
       "\n",
       "<li>description: A function which is constant on the interval lower_bound - upper_bound and 0 outside the interval. The extremes of the interval are counted as part of the interval.</li>\n",
       "\n",
       "<li>formula: $ f(x)=\\begin{cases}0 & x < \\text{lower_bound} \\\\\\text{value} & \\text{lower_bound} \\le x \\le \\text{upper_bound} \\\\ 0 & x > \\text{upper_bound} \\end{cases}$</li>\n",
       "\n",
       "<li>parameters: \n",
       "<ul>\n",
       "\n",
       "<li>lower_bound: \n",
       "<ul>\n",
       "\n",
       "<li>value: 0.0</li>\n",
       "\n",
       "<li>desc: Lower bound for the interval</li>\n",
       "\n",
       "<li>min_value: -inf</li>\n",
       "\n",
       "<li>max_value: inf</li>\n",
       "\n",
       "<li>unit: </li>\n",
       "\n",
       "<li>is_normalization: False</li>\n",
       "\n",
       "<li>delta: 0.1</li>\n",
       "\n",
       "<li>free: True</li>\n",
       "\n",
       "</ul>\n",
       "\n",
       "</li>\n",
       "\n",
       "<li>upper_bound: \n",
       "<ul>\n",
       "\n",
       "<li>value: 1.0</li>\n",
       "\n",
       "<li>desc: Upper bound for the interval</li>\n",
       "\n",
       "<li>min_value: -inf</li>\n",
       "\n",
       "<li>max_value: inf</li>\n",
       "\n",
       "<li>unit: </li>\n",
       "\n",
       "<li>is_normalization: False</li>\n",
       "\n",
       "<li>delta: 0.1</li>\n",
       "\n",
       "<li>free: True</li>\n",
       "\n",
       "</ul>\n",
       "\n",
       "</li>\n",
       "\n",
       "<li>value: \n",
       "<ul>\n",
       "\n",
       "<li>value: 1.0</li>\n",
       "\n",
       "<li>desc: Value in the interval</li>\n",
       "\n",
       "<li>min_value: None</li>\n",
       "\n",
       "<li>max_value: None</li>\n",
       "\n",
       "<li>unit: </li>\n",
       "\n",
       "<li>is_normalization: False</li>\n",
       "\n",
       "<li>delta: 0.1</li>\n",
       "\n",
       "<li>free: True</li>\n",
       "\n",
       "</ul>\n",
       "\n",
       "</li>\n",
       "\n",
       "</ul>\n",
       "\n",
       "</li>\n",
       "\n",
       "</ul>\n"
      ],
      "text/plain": [
       "  * description: A function which is constant on the interval lower_bound - upper_bound\n",
       "    * and 0 outside the interval. The extremes of the interval are counted as part of\n",
       "    * the interval.\n",
       "  * formula: $ f(x)=\\begin{cases}0 & x < \\text{lower_bound} \\\\\\text{value} & \\text{lower_bound}\n",
       "    * \\le x \\le \\text{upper_bound} \\\\ 0 & x > \\text{upper_bound} \\end{cases}$\n",
       "  * parameters:\n",
       "    * lower_bound:\n",
       "      * value: 0.0\n",
       "      * desc: Lower bound for the interval\n",
       "      * min_value: -.inf\n",
       "      * max_value: .inf\n",
       "      * unit: ''\n",
       "      * is_normalization: false\n",
       "      * delta: 0.1\n",
       "      * free: true\n",
       "    * upper_bound:\n",
       "      * value: 1.0\n",
       "      * desc: Upper bound for the interval\n",
       "      * min_value: -.inf\n",
       "      * max_value: .inf\n",
       "      * unit: ''\n",
       "      * is_normalization: false\n",
       "      * delta: 0.1\n",
       "      * free: true\n",
       "    * value:\n",
       "      * value: 1.0\n",
       "      * desc: Value in the interval\n",
       "      * min_value: null\n",
       "      * max_value: null\n",
       "      * unit: ''\n",
       "      * is_normalization: false\n",
       "      * delta: 0.1\n",
       "      * free: true"
      ]
     },
     "metadata": {},
     "output_type": "display_data"
    }
   ],
   "source": [
    "func.display()"
   ]
  },
  {
   "cell_type": "markdown",
   "id": "2606e0ea",
   "metadata": {
    "papermill": {
     "duration": 0.001244,
     "end_time": "2024-05-08T19:56:55.345918",
     "exception": false,
     "start_time": "2024-05-08T19:56:55.344674",
     "status": "completed"
    },
    "tags": []
   },
   "source": [
    "## Shape \n",
    "\n",
    "The shape of the function. \n",
    "\n",
    "*If this is not a photon model but a prior or linear function then ignore the units as these docs are auto-generated*"
   ]
  },
  {
   "cell_type": "code",
   "execution_count": 6,
   "id": "1516a185",
   "metadata": {
    "execution": {
     "iopub.execute_input": "2024-05-08T19:56:55.348869Z",
     "iopub.status.busy": "2024-05-08T19:56:55.348725Z",
     "iopub.status.idle": "2024-05-08T19:56:55.447167Z",
     "shell.execute_reply": "2024-05-08T19:56:55.446777Z"
    },
    "papermill": {
     "duration": 0.101758,
     "end_time": "2024-05-08T19:56:55.448832",
     "exception": false,
     "start_time": "2024-05-08T19:56:55.347074",
     "status": "completed"
    },
    "tags": [
     "nbsphinx-thumbnail"
    ]
   },
   "outputs": [
    {
     "data": {
      "text/plain": [
       "Text(0, 0.5, 'probability')"
      ]
     },
     "execution_count": 6,
     "metadata": {},
     "output_type": "execute_result"
    },
    {
     "data": {
      "image/png": "[encoded data removed]",
      "text/plain": [
       "<Figure size 1040x910 with 1 Axes>"
      ]
     },
     "metadata": {},
     "output_type": "display_data"
    }
   ],
   "source": [
    "fig, ax = plt.subplots()\n",
    "\n",
    "\n",
    "ax.plot(energy_grid, func(energy_grid), color=blue, lw=3)\n",
    "\n",
    "ax.set_xlabel(\"x\")\n",
    "ax.set_ylabel(\"probability\")\n"
   ]
  },
  {
   "cell_type": "markdown",
   "id": "c8f72044",
   "metadata": {
    "papermill": {
     "duration": 0.002379,
     "end_time": "2024-05-08T19:56:55.453169",
     "exception": false,
     "start_time": "2024-05-08T19:56:55.450790",
     "status": "completed"
    },
    "tags": []
   },
   "source": [
    "## Random Number Generation\n",
    "\n",
    "This is how we can generate random numbers from the prior.\n"
   ]
  },
  {
   "cell_type": "code",
   "execution_count": 7,
   "id": "68e83901",
   "metadata": {
    "execution": {
     "iopub.execute_input": "2024-05-08T19:56:55.458088Z",
     "iopub.status.busy": "2024-05-08T19:56:55.457876Z",
     "iopub.status.idle": "2024-05-08T19:56:55.579672Z",
     "shell.execute_reply": "2024-05-08T19:56:55.579298Z"
    },
    "papermill": {
     "duration": 0.125995,
     "end_time": "2024-05-08T19:56:55.581105",
     "exception": false,
     "start_time": "2024-05-08T19:56:55.455110",
     "status": "completed"
    },
    "tags": []
   },
   "outputs": [
    {
     "data": {
      "text/plain": [
       "Text(0, 0.5, 'N')"
      ]
     },
     "execution_count": 7,
     "metadata": {},
     "output_type": "execute_result"
    },
    {
     "data": {
      "image/png": "[encoded data removed]",
      "text/plain": [
       "<Figure size 1040x910 with 1 Axes>"
      ]
     },
     "metadata": {},
     "output_type": "display_data"
    }
   ],
   "source": [
    "\n",
    "\n",
    "u = np.random.uniform(0,1, size=5000)\n",
    "\n",
    "draws = [func.from_unit_cube(x) for x in u]\n",
    "\n",
    "\n",
    "fig, ax = plt.subplots()\n",
    "\n",
    "\n",
    "ax.hist(draws, color=green, bins=50)\n",
    "\n",
    "ax.set_xlabel(\"value\")\n",
    "ax.set_ylabel(\"N\")\n",
    "\n"
   ]
  }
 ],
 "metadata": {
  "jupytext": {
   "formats": "ipynb,md"
  },
  "kernelspec": {
   "display_name": "Python 3 (ipykernel)",
   "language": "python",
   "name": "python3"
  },
  "language_info": {
   "codemirror_mode": {
    "name": "ipython",
    "version": 3
   },
   "file_extension": ".py",
   "mimetype": "text/x-python",
   "name": "python",
   "nbconvert_exporter": "python",
   "pygments_lexer": "ipython3",
   "version": "3.9.13"
  },
  "papermill": {
   "default_parameters": {},
   "duration": 2.960476,
   "end_time": "2024-05-08T19:56:55.914331",
   "environment_variables": {},
   "exception": null,
   "input_path": "Uniform_prior.ipynb",
   "output_path": "/Users/runner/work/astromodels/astromodels/docs/notebooks/Uniform_prior.ipynb",
   "parameters": {
    "func_name": "Uniform_prior",
    "positive_prior": false
   },
   "start_time": "2024-05-08T19:56:52.953855",
   "version": "2.6.0"
  }
 },
 "nbformat": 4,
 "nbformat_minor": 5
}
