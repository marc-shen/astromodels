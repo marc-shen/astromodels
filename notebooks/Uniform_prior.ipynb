{
 "cells": [
  {
   "cell_type": "markdown",
   "id": "3c7b4958",
   "metadata": {
    "papermill": {
     "duration": 0.005176,
     "end_time": "2024-08-13T20:16:48.608787",
     "exception": false,
     "start_time": "2024-08-13T20:16:48.603611",
     "status": "completed"
    },
    "tags": []
   },
   "source": [
    "# Uniform prior"
   ]
  },
  {
   "cell_type": "code",
   "execution_count": 1,
   "id": "5dd2e849",
   "metadata": {
    "execution": {
     "iopub.execute_input": "2024-08-13T20:16:48.622564Z",
     "iopub.status.busy": "2024-08-13T20:16:48.621938Z",
     "iopub.status.idle": "2024-08-13T20:16:50.358331Z",
     "shell.execute_reply": "2024-08-13T20:16:50.357427Z"
    },
    "nbsphinx": "hidden",
    "papermill": {
     "duration": 1.745699,
     "end_time": "2024-08-13T20:16:50.360924",
     "exception": false,
     "start_time": "2024-08-13T20:16:48.615225",
     "status": "completed"
    },
    "tags": []
   },
   "outputs": [],
   "source": [
    "%%capture\n",
    "\n",
    "import numpy as np\n",
    "\n",
    "import matplotlib.pyplot as plt\n",
    "\n",
    "import warnings\n",
    "warnings.simplefilter(\"ignore\")\n",
    "\n",
    "from astromodels.functions.function import _known_functions\n",
    "\n",
    "\n",
    "from jupyterthemes import jtplot\n",
    "jtplot.style(context=\"talk\", fscale=1, ticks=True, grid=False)\n",
    "%matplotlib inline"
   ]
  },
  {
   "cell_type": "code",
   "execution_count": 2,
   "id": "b8017a52",
   "metadata": {
    "execution": {
     "iopub.execute_input": "2024-08-13T20:16:50.365492Z",
     "iopub.status.busy": "2024-08-13T20:16:50.365048Z",
     "iopub.status.idle": "2024-08-13T20:16:50.368822Z",
     "shell.execute_reply": "2024-08-13T20:16:50.367751Z"
    },
    "nbsphinx": "hidden",
    "papermill": {
     "duration": 0.008129,
     "end_time": "2024-08-13T20:16:50.370768",
     "exception": false,
     "start_time": "2024-08-13T20:16:50.362639",
     "status": "completed"
    },
    "tags": [
     "parameters"
    ]
   },
   "outputs": [],
   "source": [
    "func_name = \"TbAbs\"\n",
    "\n",
    "positive_prior = False\n"
   ]
  },
  {
   "cell_type": "code",
   "execution_count": 3,
   "id": "ef6c7e91",
   "metadata": {
    "execution": {
     "iopub.execute_input": "2024-08-13T20:16:50.374999Z",
     "iopub.status.busy": "2024-08-13T20:16:50.374705Z",
     "iopub.status.idle": "2024-08-13T20:16:50.377998Z",
     "shell.execute_reply": "2024-08-13T20:16:50.377311Z"
    },
    "papermill": {
     "duration": 0.007971,
     "end_time": "2024-08-13T20:16:50.380070",
     "exception": false,
     "start_time": "2024-08-13T20:16:50.372099",
     "status": "completed"
    },
    "tags": [
     "injected-parameters"
    ]
   },
   "outputs": [],
   "source": [
    "# Parameters\n",
    "func_name = \"Uniform_prior\"\n",
    "positive_prior = False\n"
   ]
  },
  {
   "cell_type": "code",
   "execution_count": 4,
   "id": "a33fd0f0",
   "metadata": {
    "execution": {
     "iopub.execute_input": "2024-08-13T20:16:50.383995Z",
     "iopub.status.busy": "2024-08-13T20:16:50.383746Z",
     "iopub.status.idle": "2024-08-13T20:16:50.394394Z",
     "shell.execute_reply": "2024-08-13T20:16:50.393547Z"
    },
    "lines_to_next_cell": 0,
    "nbsphinx": "hidden",
    "papermill": {
     "duration": 0.014986,
     "end_time": "2024-08-13T20:16:50.396470",
     "exception": false,
     "start_time": "2024-08-13T20:16:50.381484",
     "status": "completed"
    },
    "tags": []
   },
   "outputs": [],
   "source": [
    "func = _known_functions[func_name]()\n",
    "\n",
    "if not positive_prior:\n",
    "\n",
    "\tenergy_grid = np.linspace(-5,5,1000)\n",
    "\n",
    "else:\n",
    "    \n",
    "    energy_grid = np.linspace(0,1,1000)\n",
    "    \n",
    "    \n",
    "    \n",
    "    \n",
    "blue = \"#4152E3\"\n",
    "red = \"#E3414B\"\n",
    "green = \"#41E39E\""
   ]
  },
  {
   "cell_type": "markdown",
   "id": "0758c592",
   "metadata": {
    "lines_to_next_cell": 0,
    "papermill": {
     "duration": 0.001849,
     "end_time": "2024-08-13T20:16:50.399820",
     "exception": false,
     "start_time": "2024-08-13T20:16:50.397971",
     "status": "completed"
    },
    "tags": []
   },
   "source": [
    "## Description"
   ]
  },
  {
   "cell_type": "code",
   "execution_count": 5,
   "id": "1e79c8cc",
   "metadata": {
    "execution": {
     "iopub.execute_input": "2024-08-13T20:16:50.405577Z",
     "iopub.status.busy": "2024-08-13T20:16:50.404774Z",
     "iopub.status.idle": "2024-08-13T20:16:50.413778Z",
     "shell.execute_reply": "2024-08-13T20:16:50.412515Z"
    },
    "papermill": {
     "duration": 0.014013,
     "end_time": "2024-08-13T20:16:50.416046",
     "exception": false,
     "start_time": "2024-08-13T20:16:50.402033",
     "status": "completed"
    },
    "tags": []
   },
   "outputs": [
    {
     "data": {
      "text/html": [
       "<ul>\n",
       "\n",
       "<li>description: A function which is constant on the interval lower_bound - upper_bound and 0 outside the interval. The extremes of the interval are counted as part of the interval.</li>\n",
       "\n",
       "<li>formula: $ f(x)=\\begin{cases}0 & x < \\text{lower_bound} \\\\\\text{value} & \\text{lower_bound} \\le x \\le \\text{upper_bound} \\\\ 0 & x > \\text{upper_bound} \\end{cases}$</li>\n",
       "\n",
       "<li>parameters: \n",
       "<ul>\n",
       "\n",
       "<li>lower_bound: \n",
       "<ul>\n",
       "\n",
       "<li>value: 0.0</li>\n",
       "\n",
       "<li>desc: Lower bound for the interval</li>\n",
       "\n",
       "<li>min_value: -inf</li>\n",
       "\n",
       "<li>max_value: inf</li>\n",
       "\n",
       "<li>unit: </li>\n",
       "\n",
       "<li>is_normalization: False</li>\n",
       "\n",
       "<li>delta: 0.1</li>\n",
       "\n",
       "<li>free: True</li>\n",
       "\n",
       "</ul>\n",
       "\n",
       "</li>\n",
       "\n",
       "<li>upper_bound: \n",
       "<ul>\n",
       "\n",
       "<li>value: 1.0</li>\n",
       "\n",
       "<li>desc: Upper bound for the interval</li>\n",
       "\n",
       "<li>min_value: -inf</li>\n",
       "\n",
       "<li>max_value: inf</li>\n",
       "\n",
       "<li>unit: </li>\n",
       "\n",
       "<li>is_normalization: False</li>\n",
       "\n",
       "<li>delta: 0.1</li>\n",
       "\n",
       "<li>free: True</li>\n",
       "\n",
       "</ul>\n",
       "\n",
       "</li>\n",
       "\n",
       "<li>value: \n",
       "<ul>\n",
       "\n",
       "<li>value: 1.0</li>\n",
       "\n",
       "<li>desc: Value in the interval</li>\n",
       "\n",
       "<li>min_value: None</li>\n",
       "\n",
       "<li>max_value: None</li>\n",
       "\n",
       "<li>unit: </li>\n",
       "\n",
       "<li>is_normalization: False</li>\n",
       "\n",
       "<li>delta: 0.1</li>\n",
       "\n",
       "<li>free: True</li>\n",
       "\n",
       "</ul>\n",
       "\n",
       "</li>\n",
       "\n",
       "</ul>\n",
       "\n",
       "</li>\n",
       "\n",
       "</ul>\n"
      ],
      "text/plain": [
       "  * description: A function which is constant on the interval lower_bound - upper_bound\n",
       "    * and 0 outside the interval. The extremes of the interval are counted as part of\n",
       "    * the interval.\n",
       "  * formula: $ f(x)=\\begin{cases}0 & x < \\text{lower_bound} \\\\\\text{value} & \\text{lower_bound}\n",
       "    * \\le x \\le \\text{upper_bound} \\\\ 0 & x > \\text{upper_bound} \\end{cases}$\n",
       "  * parameters:\n",
       "    * lower_bound:\n",
       "      * value: 0.0\n",
       "      * desc: Lower bound for the interval\n",
       "      * min_value: -.inf\n",
       "      * max_value: .inf\n",
       "      * unit: ''\n",
       "      * is_normalization: false\n",
       "      * delta: 0.1\n",
       "      * free: true\n",
       "    * upper_bound:\n",
       "      * value: 1.0\n",
       "      * desc: Upper bound for the interval\n",
       "      * min_value: -.inf\n",
       "      * max_value: .inf\n",
       "      * unit: ''\n",
       "      * is_normalization: false\n",
       "      * delta: 0.1\n",
       "      * free: true\n",
       "    * value:\n",
       "      * value: 1.0\n",
       "      * desc: Value in the interval\n",
       "      * min_value: null\n",
       "      * max_value: null\n",
       "      * unit: ''\n",
       "      * is_normalization: false\n",
       "      * delta: 0.1\n",
       "      * free: true"
      ]
     },
     "metadata": {},
     "output_type": "display_data"
    }
   ],
   "source": [
    "func.display()"
   ]
  },
  {
   "cell_type": "markdown",
   "id": "c0257b5a",
   "metadata": {
    "papermill": {
     "duration": 0.001617,
     "end_time": "2024-08-13T20:16:50.419497",
     "exception": false,
     "start_time": "2024-08-13T20:16:50.417880",
     "status": "completed"
    },
    "tags": []
   },
   "source": [
    "## Shape \n",
    "\n",
    "The shape of the function. \n",
    "\n",
    "*If this is not a photon model but a prior or linear function then ignore the units as these docs are auto-generated*"
   ]
  },
  {
   "cell_type": "code",
   "execution_count": 6,
   "id": "4ad0dd7e",
   "metadata": {
    "execution": {
     "iopub.execute_input": "2024-08-13T20:16:50.423625Z",
     "iopub.status.busy": "2024-08-13T20:16:50.423392Z",
     "iopub.status.idle": "2024-08-13T20:16:50.568913Z",
     "shell.execute_reply": "2024-08-13T20:16:50.567798Z"
    },
    "papermill": {
     "duration": 0.151166,
     "end_time": "2024-08-13T20:16:50.572015",
     "exception": false,
     "start_time": "2024-08-13T20:16:50.420849",
     "status": "completed"
    },
    "tags": [
     "nbsphinx-thumbnail"
    ]
   },
   "outputs": [
    {
     "data": {
      "text/plain": [
       "Text(0, 0.5, 'probability')"
      ]
     },
     "execution_count": 6,
     "metadata": {},
     "output_type": "execute_result"
    },
    {
     "data": {
      "image/png": "[encoded data removed]",
      "text/plain": [
       "<Figure size 1040x910 with 1 Axes>"
      ]
     },
     "metadata": {},
     "output_type": "display_data"
    }
   ],
   "source": [
    "fig, ax = plt.subplots()\n",
    "\n",
    "\n",
    "ax.plot(energy_grid, func(energy_grid), color=blue, lw=3)\n",
    "\n",
    "ax.set_xlabel(\"x\")\n",
    "ax.set_ylabel(\"probability\")\n"
   ]
  },
  {
   "cell_type": "markdown",
   "id": "5f93ef97",
   "metadata": {
    "papermill": {
     "duration": 0.002974,
     "end_time": "2024-08-13T20:16:50.579910",
     "exception": false,
     "start_time": "2024-08-13T20:16:50.576936",
     "status": "completed"
    },
    "tags": []
   },
   "source": [
    "## Random Number Generation\n",
    "\n",
    "This is how we can generate random numbers from the prior.\n"
   ]
  },
  {
   "cell_type": "code",
   "execution_count": 7,
   "id": "1b4c13cb",
   "metadata": {
    "execution": {
     "iopub.execute_input": "2024-08-13T20:16:50.585637Z",
     "iopub.status.busy": "2024-08-13T20:16:50.585319Z",
     "iopub.status.idle": "2024-08-13T20:16:50.744508Z",
     "shell.execute_reply": "2024-08-13T20:16:50.741638Z"
    },
    "papermill": {
     "duration": 0.166357,
     "end_time": "2024-08-13T20:16:50.747790",
     "exception": false,
     "start_time": "2024-08-13T20:16:50.581433",
     "status": "completed"
    },
    "tags": []
   },
   "outputs": [
    {
     "data": {
      "text/plain": [
       "Text(0, 0.5, 'N')"
      ]
     },
     "execution_count": 7,
     "metadata": {},
     "output_type": "execute_result"
    },
    {
     "data": {
      "image/png": "[encoded data removed]",
      "text/plain": [
       "<Figure size 1040x910 with 1 Axes>"
      ]
     },
     "metadata": {},
     "output_type": "display_data"
    }
   ],
   "source": [
    "\n",
    "\n",
    "u = np.random.uniform(0,1, size=5000)\n",
    "\n",
    "draws = [func.from_unit_cube(x) for x in u]\n",
    "\n",
    "\n",
    "fig, ax = plt.subplots()\n",
    "\n",
    "\n",
    "ax.hist(draws, color=green, bins=50)\n",
    "\n",
    "ax.set_xlabel(\"value\")\n",
    "ax.set_ylabel(\"N\")\n",
    "\n"
   ]
  }
 ],
 "metadata": {
  "jupytext": {
   "formats": "ipynb,md"
  },
  "kernelspec": {
   "display_name": "Python 3 (ipykernel)",
   "language": "python",
   "name": "python3"
  },
  "language_info": {
   "codemirror_mode": {
    "name": "ipython",
    "version": 3
   },
   "file_extension": ".py",
   "mimetype": "text/x-python",
   "name": "python",
   "nbconvert_exporter": "python",
   "pygments_lexer": "ipython3",
   "version": "3.9.13"
  },
  "papermill": {
   "default_parameters": {},
   "duration": 3.19638,
   "end_time": "2024-08-13T20:16:51.207201",
   "environment_variables": {},
   "exception": null,
   "input_path": "Uniform_prior.ipynb",
   "output_path": "/Users/runner/work/astromodels/astromodels/docs/notebooks/Uniform_prior.ipynb",
   "parameters": {
    "func_name": "Uniform_prior",
    "positive_prior": false
   },
   "start_time": "2024-08-13T20:16:48.010821",
   "version": "2.6.0"
  }
 },
 "nbformat": 4,
 "nbformat_minor": 5
}
