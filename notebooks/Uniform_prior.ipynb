{
 "cells": [
  {
   "cell_type": "markdown",
   "id": "43b49cab",
   "metadata": {
    "papermill": {
     "duration": 0.001669,
     "end_time": "2025-07-14T22:31:41.036961",
     "exception": false,
     "start_time": "2025-07-14T22:31:41.035292",
     "status": "completed"
    },
    "tags": []
   },
   "source": [
    "# Uniform prior"
   ]
  },
  {
   "cell_type": "code",
   "execution_count": 1,
   "id": "0ed79ebe",
   "metadata": {
    "execution": {
     "iopub.execute_input": "2025-07-14T22:31:41.040422Z",
     "iopub.status.busy": "2025-07-14T22:31:41.040201Z",
     "iopub.status.idle": "2025-07-14T22:31:42.653350Z",
     "shell.execute_reply": "2025-07-14T22:31:42.652551Z"
    },
    "nbsphinx": "hidden",
    "papermill": {
     "duration": 1.616305,
     "end_time": "2025-07-14T22:31:42.654647",
     "exception": false,
     "start_time": "2025-07-14T22:31:41.038342",
     "status": "completed"
    },
    "tags": []
   },
   "outputs": [],
   "source": [
    "%%capture\n",
    "\n",
    "import numpy as np\n",
    "\n",
    "import matplotlib.pyplot as plt\n",
    "\n",
    "import warnings\n",
    "warnings.simplefilter(\"ignore\")\n",
    "\n",
    "from astromodels.functions.function import _known_functions\n",
    "\n",
    "\n",
    "from jupyterthemes import jtplot\n",
    "jtplot.style(context=\"talk\", fscale=1, ticks=True, grid=False)\n",
    "%matplotlib inline"
   ]
  },
  {
   "cell_type": "code",
   "execution_count": 2,
   "id": "3dcbedd4",
   "metadata": {
    "execution": {
     "iopub.execute_input": "2025-07-14T22:31:42.658695Z",
     "iopub.status.busy": "2025-07-14T22:31:42.658257Z",
     "iopub.status.idle": "2025-07-14T22:31:42.665511Z",
     "shell.execute_reply": "2025-07-14T22:31:42.664974Z"
    },
    "nbsphinx": "hidden",
    "papermill": {
     "duration": 0.010764,
     "end_time": "2025-07-14T22:31:42.666784",
     "exception": false,
     "start_time": "2025-07-14T22:31:42.656020",
     "status": "completed"
    },
    "tags": [
     "parameters"
    ]
   },
   "outputs": [],
   "source": [
    "func_name = \"TbAbs\"\n",
    "\n",
    "positive_prior = False\n"
   ]
  },
  {
   "cell_type": "code",
   "execution_count": 3,
   "id": "5095b2d1",
   "metadata": {
    "execution": {
     "iopub.execute_input": "2025-07-14T22:31:42.670068Z",
     "iopub.status.busy": "2025-07-14T22:31:42.669876Z",
     "iopub.status.idle": "2025-07-14T22:31:42.676352Z",
     "shell.execute_reply": "2025-07-14T22:31:42.675798Z"
    },
    "papermill": {
     "duration": 0.009425,
     "end_time": "2025-07-14T22:31:42.677525",
     "exception": false,
     "start_time": "2025-07-14T22:31:42.668100",
     "status": "completed"
    },
    "tags": [
     "injected-parameters"
    ]
   },
   "outputs": [],
   "source": [
    "# Parameters\n",
    "func_name = \"Uniform_prior\"\n",
    "positive_prior = False\n"
   ]
  },
  {
   "cell_type": "code",
   "execution_count": 4,
   "id": "ca78bd7e",
   "metadata": {
    "execution": {
     "iopub.execute_input": "2025-07-14T22:31:42.680968Z",
     "iopub.status.busy": "2025-07-14T22:31:42.680775Z",
     "iopub.status.idle": "2025-07-14T22:31:42.687731Z",
     "shell.execute_reply": "2025-07-14T22:31:42.687209Z"
    },
    "lines_to_next_cell": 0,
    "nbsphinx": "hidden",
    "papermill": {
     "duration": 0.009993,
     "end_time": "2025-07-14T22:31:42.688899",
     "exception": false,
     "start_time": "2025-07-14T22:31:42.678906",
     "status": "completed"
    },
    "tags": []
   },
   "outputs": [],
   "source": [
    "func = _known_functions[func_name]()\n",
    "\n",
    "if not positive_prior:\n",
    "\n",
    "\tenergy_grid = np.linspace(-5,5,1000)\n",
    "\n",
    "else:\n",
    "    \n",
    "    energy_grid = np.linspace(0,1,1000)\n",
    "    \n",
    "    \n",
    "    \n",
    "    \n",
    "blue = \"#4152E3\"\n",
    "red = \"#E3414B\"\n",
    "green = \"#41E39E\""
   ]
  },
  {
   "cell_type": "markdown",
   "id": "612eda69",
   "metadata": {
    "lines_to_next_cell": 0,
    "papermill": {
     "duration": 0.001091,
     "end_time": "2025-07-14T22:31:42.691398",
     "exception": false,
     "start_time": "2025-07-14T22:31:42.690307",
     "status": "completed"
    },
    "tags": []
   },
   "source": [
    "## Description"
   ]
  },
  {
   "cell_type": "code",
   "execution_count": 5,
   "id": "5f67306b",
   "metadata": {
    "execution": {
     "iopub.execute_input": "2025-07-14T22:31:42.695376Z",
     "iopub.status.busy": "2025-07-14T22:31:42.695167Z",
     "iopub.status.idle": "2025-07-14T22:31:42.700206Z",
     "shell.execute_reply": "2025-07-14T22:31:42.699816Z"
    },
    "papermill": {
     "duration": 0.008774,
     "end_time": "2025-07-14T22:31:42.701250",
     "exception": false,
     "start_time": "2025-07-14T22:31:42.692476",
     "status": "completed"
    },
    "tags": []
   },
   "outputs": [
    {
     "data": {
      "text/html": [
       "<ul>\n",
       "\n",
       "<li>description: A function which is constant on the interval lower_bound - upper_bound and 0 outside the interval. The extremes of the interval are counted as part of the interval.</li>\n",
       "\n",
       "<li>formula: $ f(x)=\\begin{cases}0 & x < \\text{lower_bound} \\\\\\text{value} & \\text{lower_bound} \\le x \\le \\text{upper_bound} \\\\ 0 & x > \\text{upper_bound} \\end{cases}$</li>\n",
       "\n",
       "<li>parameters: \n",
       "<ul>\n",
       "\n",
       "<li>lower_bound: \n",
       "<ul>\n",
       "\n",
       "<li>value: 0.0</li>\n",
       "\n",
       "<li>desc: Lower bound for the interval</li>\n",
       "\n",
       "<li>min_value: -inf</li>\n",
       "\n",
       "<li>max_value: inf</li>\n",
       "\n",
       "<li>unit: </li>\n",
       "\n",
       "<li>is_normalization: False</li>\n",
       "\n",
       "<li>delta: 0.1</li>\n",
       "\n",
       "<li>free: True</li>\n",
       "\n",
       "</ul>\n",
       "\n",
       "</li>\n",
       "\n",
       "<li>upper_bound: \n",
       "<ul>\n",
       "\n",
       "<li>value: 1.0</li>\n",
       "\n",
       "<li>desc: Upper bound for the interval</li>\n",
       "\n",
       "<li>min_value: -inf</li>\n",
       "\n",
       "<li>max_value: inf</li>\n",
       "\n",
       "<li>unit: </li>\n",
       "\n",
       "<li>is_normalization: False</li>\n",
       "\n",
       "<li>delta: 0.1</li>\n",
       "\n",
       "<li>free: True</li>\n",
       "\n",
       "</ul>\n",
       "\n",
       "</li>\n",
       "\n",
       "<li>value: \n",
       "<ul>\n",
       "\n",
       "<li>value: 1.0</li>\n",
       "\n",
       "<li>desc: Value in the interval</li>\n",
       "\n",
       "<li>min_value: None</li>\n",
       "\n",
       "<li>max_value: None</li>\n",
       "\n",
       "<li>unit: </li>\n",
       "\n",
       "<li>is_normalization: False</li>\n",
       "\n",
       "<li>delta: 0.1</li>\n",
       "\n",
       "<li>free: True</li>\n",
       "\n",
       "</ul>\n",
       "\n",
       "</li>\n",
       "\n",
       "</ul>\n",
       "\n",
       "</li>\n",
       "\n",
       "</ul>\n"
      ],
      "text/plain": [
       "  * description: A function which is constant on the interval lower_bound - upper_bound\n",
       "    * and 0 outside the interval. The extremes of the interval are counted as part of\n",
       "    * the interval.\n",
       "  * formula: $ f(x)=\\begin{cases}0 & x < \\text{lower_bound} \\\\\\text{value} & \\text{lower_bound}\n",
       "    * \\le x \\le \\text{upper_bound} \\\\ 0 & x > \\text{upper_bound} \\end{cases}$\n",
       "  * parameters:\n",
       "    * lower_bound:\n",
       "      * value: 0.0\n",
       "      * desc: Lower bound for the interval\n",
       "      * min_value: -.inf\n",
       "      * max_value: .inf\n",
       "      * unit: ''\n",
       "      * is_normalization: false\n",
       "      * delta: 0.1\n",
       "      * free: true\n",
       "    * upper_bound:\n",
       "      * value: 1.0\n",
       "      * desc: Upper bound for the interval\n",
       "      * min_value: -.inf\n",
       "      * max_value: .inf\n",
       "      * unit: ''\n",
       "      * is_normalization: false\n",
       "      * delta: 0.1\n",
       "      * free: true\n",
       "    * value:\n",
       "      * value: 1.0\n",
       "      * desc: Value in the interval\n",
       "      * min_value: null\n",
       "      * max_value: null\n",
       "      * unit: ''\n",
       "      * is_normalization: false\n",
       "      * delta: 0.1\n",
       "      * free: true"
      ]
     },
     "metadata": {},
     "output_type": "display_data"
    }
   ],
   "source": [
    "func.display()"
   ]
  },
  {
   "cell_type": "markdown",
   "id": "85ee8ba0",
   "metadata": {
    "papermill": {
     "duration": 0.001188,
     "end_time": "2025-07-14T22:31:42.703908",
     "exception": false,
     "start_time": "2025-07-14T22:31:42.702720",
     "status": "completed"
    },
    "tags": []
   },
   "source": [
    "## Shape \n",
    "\n",
    "The shape of the function. \n",
    "\n",
    "*If this is not a photon model but a prior or linear function then ignore the units as these docs are auto-generated*"
   ]
  },
  {
   "cell_type": "code",
   "execution_count": 6,
   "id": "aeaa13a9",
   "metadata": {
    "execution": {
     "iopub.execute_input": "2025-07-14T22:31:42.707011Z",
     "iopub.status.busy": "2025-07-14T22:31:42.706813Z",
     "iopub.status.idle": "2025-07-14T22:31:42.787000Z",
     "shell.execute_reply": "2025-07-14T22:31:42.784391Z"
    },
    "papermill": {
     "duration": 0.083213,
     "end_time": "2025-07-14T22:31:42.788249",
     "exception": false,
     "start_time": "2025-07-14T22:31:42.705036",
     "status": "completed"
    },
    "tags": [
     "nbsphinx-thumbnail"
    ]
   },
   "outputs": [
    {
     "data": {
      "text/plain": [
       "Text(0, 0.5, 'probability')"
      ]
     },
     "execution_count": 6,
     "metadata": {},
     "output_type": "execute_result"
    },
    {
     "data": {
      "image/png": "[encoded data removed]",
      "text/plain": [
       "<Figure size 1040x910 with 1 Axes>"
      ]
     },
     "metadata": {},
     "output_type": "display_data"
    }
   ],
   "source": [
    "fig, ax = plt.subplots()\n",
    "\n",
    "\n",
    "ax.plot(energy_grid, func(energy_grid), color=blue, lw=3)\n",
    "\n",
    "ax.set_xlabel(\"x\")\n",
    "ax.set_ylabel(\"probability\")\n"
   ]
  },
  {
   "cell_type": "markdown",
   "id": "5df4d717",
   "metadata": {
    "papermill": {
     "duration": 0.001352,
     "end_time": "2025-07-14T22:31:42.791336",
     "exception": false,
     "start_time": "2025-07-14T22:31:42.789984",
     "status": "completed"
    },
    "tags": []
   },
   "source": [
    "## Random Number Generation\n",
    "\n",
    "This is how we can generate random numbers from the prior.\n"
   ]
  },
  {
   "cell_type": "code",
   "execution_count": 7,
   "id": "a282aca7",
   "metadata": {
    "execution": {
     "iopub.execute_input": "2025-07-14T22:31:42.796372Z",
     "iopub.status.busy": "2025-07-14T22:31:42.796164Z",
     "iopub.status.idle": "2025-07-14T22:31:42.894613Z",
     "shell.execute_reply": "2025-07-14T22:31:42.894271Z"
    },
    "papermill": {
     "duration": 0.103256,
     "end_time": "2025-07-14T22:31:42.895881",
     "exception": false,
     "start_time": "2025-07-14T22:31:42.792625",
     "status": "completed"
    },
    "tags": []
   },
   "outputs": [
    {
     "data": {
      "text/plain": [
       "Text(0, 0.5, 'N')"
      ]
     },
     "execution_count": 7,
     "metadata": {},
     "output_type": "execute_result"
    },
    {
     "data": {
      "image/png": "[encoded data removed]",
      "text/plain": [
       "<Figure size 1040x910 with 1 Axes>"
      ]
     },
     "metadata": {},
     "output_type": "display_data"
    }
   ],
   "source": [
    "\n",
    "\n",
    "u = np.random.uniform(0,1, size=5000)\n",
    "\n",
    "draws = [func.from_unit_cube(x) for x in u]\n",
    "\n",
    "\n",
    "fig, ax = plt.subplots()\n",
    "\n",
    "\n",
    "ax.hist(draws, color=green, bins=50)\n",
    "\n",
    "ax.set_xlabel(\"value\")\n",
    "ax.set_ylabel(\"N\")\n",
    "\n"
   ]
  }
 ],
 "metadata": {
  "jupytext": {
   "formats": "ipynb,md"
  },
  "kernelspec": {
   "display_name": "Python 3 (ipykernel)",
   "language": "python",
   "name": "python3"
  },
  "language_info": {
   "codemirror_mode": {
    "name": "ipython",
    "version": 3
   },
   "file_extension": ".py",
   "mimetype": "text/x-python",
   "name": "python",
   "nbconvert_exporter": "python",
   "pygments_lexer": "ipython3",
   "version": "3.9.13"
  },
  "papermill": {
   "default_parameters": {},
   "duration": 2.87002,
   "end_time": "2025-07-14T22:31:43.323375",
   "environment_variables": {},
   "exception": null,
   "input_path": "Uniform_prior.ipynb",
   "output_path": "/Users/runner/work/astromodels/astromodels/docs/notebooks/Uniform_prior.ipynb",
   "parameters": {
    "func_name": "Uniform_prior",
    "positive_prior": false
   },
   "start_time": "2025-07-14T22:31:40.453355",
   "version": "2.6.0"
  }
 },
 "nbformat": 4,
 "nbformat_minor": 5
}
