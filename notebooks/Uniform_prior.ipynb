{
 "cells": [
  {
   "cell_type": "markdown",
   "id": "f071f31b",
   "metadata": {
    "papermill": {
     "duration": 0.003378,
     "end_time": "2024-02-06T22:18:59.521042",
     "exception": false,
     "start_time": "2024-02-06T22:18:59.517664",
     "status": "completed"
    },
    "tags": []
   },
   "source": [
    "# Uniform prior"
   ]
  },
  {
   "cell_type": "code",
   "execution_count": 1,
   "id": "6da9d82d",
   "metadata": {
    "execution": {
     "iopub.execute_input": "2024-02-06T22:18:59.527927Z",
     "iopub.status.busy": "2024-02-06T22:18:59.527319Z",
     "iopub.status.idle": "2024-02-06T22:19:01.993181Z",
     "shell.execute_reply": "2024-02-06T22:19:01.991809Z"
    },
    "nbsphinx": "hidden",
    "papermill": {
     "duration": 2.473608,
     "end_time": "2024-02-06T22:19:01.997279",
     "exception": false,
     "start_time": "2024-02-06T22:18:59.523671",
     "status": "completed"
    },
    "tags": []
   },
   "outputs": [],
   "source": [
    "%%capture\n",
    "\n",
    "import numpy as np\n",
    "\n",
    "import matplotlib.pyplot as plt\n",
    "\n",
    "import warnings\n",
    "warnings.simplefilter(\"ignore\")\n",
    "\n",
    "from astromodels.functions.function import _known_functions\n",
    "\n",
    "\n",
    "from jupyterthemes import jtplot\n",
    "jtplot.style(context=\"talk\", fscale=1, ticks=True, grid=False)\n",
    "%matplotlib inline"
   ]
  },
  {
   "cell_type": "code",
   "execution_count": 2,
   "id": "afa39ae8",
   "metadata": {
    "execution": {
     "iopub.execute_input": "2024-02-06T22:19:02.003852Z",
     "iopub.status.busy": "2024-02-06T22:19:02.003497Z",
     "iopub.status.idle": "2024-02-06T22:19:02.008997Z",
     "shell.execute_reply": "2024-02-06T22:19:02.007803Z"
    },
    "nbsphinx": "hidden",
    "papermill": {
     "duration": 0.012831,
     "end_time": "2024-02-06T22:19:02.012635",
     "exception": false,
     "start_time": "2024-02-06T22:19:01.999804",
     "status": "completed"
    },
    "tags": [
     "parameters"
    ]
   },
   "outputs": [],
   "source": [
    "func_name = \"TbAbs\"\n",
    "\n",
    "positive_prior = False\n"
   ]
  },
  {
   "cell_type": "code",
   "execution_count": 3,
   "id": "d777cd05",
   "metadata": {
    "execution": {
     "iopub.execute_input": "2024-02-06T22:19:02.018823Z",
     "iopub.status.busy": "2024-02-06T22:19:02.018506Z",
     "iopub.status.idle": "2024-02-06T22:19:02.023510Z",
     "shell.execute_reply": "2024-02-06T22:19:02.022298Z"
    },
    "papermill": {
     "duration": 0.012077,
     "end_time": "2024-02-06T22:19:02.027115",
     "exception": false,
     "start_time": "2024-02-06T22:19:02.015038",
     "status": "completed"
    },
    "tags": [
     "injected-parameters"
    ]
   },
   "outputs": [],
   "source": [
    "# Parameters\n",
    "func_name = \"Uniform_prior\"\n",
    "positive_prior = False\n"
   ]
  },
  {
   "cell_type": "code",
   "execution_count": 4,
   "id": "697a2931",
   "metadata": {
    "execution": {
     "iopub.execute_input": "2024-02-06T22:19:02.033090Z",
     "iopub.status.busy": "2024-02-06T22:19:02.032763Z",
     "iopub.status.idle": "2024-02-06T22:19:02.039904Z",
     "shell.execute_reply": "2024-02-06T22:19:02.038740Z"
    },
    "lines_to_next_cell": 0,
    "nbsphinx": "hidden",
    "papermill": {
     "duration": 0.01407,
     "end_time": "2024-02-06T22:19:02.043431",
     "exception": false,
     "start_time": "2024-02-06T22:19:02.029361",
     "status": "completed"
    },
    "tags": []
   },
   "outputs": [],
   "source": [
    "func = _known_functions[func_name]()\n",
    "\n",
    "if not positive_prior:\n",
    "\n",
    "\tenergy_grid = np.linspace(-5,5,1000)\n",
    "\n",
    "else:\n",
    "    \n",
    "    energy_grid = np.linspace(0,1,1000)\n",
    "    \n",
    "    \n",
    "    \n",
    "    \n",
    "blue = \"#4152E3\"\n",
    "red = \"#E3414B\"\n",
    "green = \"#41E39E\""
   ]
  },
  {
   "cell_type": "markdown",
   "id": "0fb29d8f",
   "metadata": {
    "lines_to_next_cell": 0,
    "papermill": {
     "duration": 0.002324,
     "end_time": "2024-02-06T22:19:02.048037",
     "exception": false,
     "start_time": "2024-02-06T22:19:02.045713",
     "status": "completed"
    },
    "tags": []
   },
   "source": [
    "## Description"
   ]
  },
  {
   "cell_type": "code",
   "execution_count": 5,
   "id": "fce86db5",
   "metadata": {
    "execution": {
     "iopub.execute_input": "2024-02-06T22:19:02.053925Z",
     "iopub.status.busy": "2024-02-06T22:19:02.053554Z",
     "iopub.status.idle": "2024-02-06T22:19:02.064487Z",
     "shell.execute_reply": "2024-02-06T22:19:02.063173Z"
    },
    "papermill": {
     "duration": 0.01783,
     "end_time": "2024-02-06T22:19:02.068034",
     "exception": false,
     "start_time": "2024-02-06T22:19:02.050204",
     "status": "completed"
    },
    "tags": []
   },
   "outputs": [
    {
     "data": {
      "text/html": [
       "<ul>\n",
       "\n",
       "<li>description: A function which is constant on the interval lower_bound - upper_bound and 0 outside the interval. The extremes of the interval are counted as part of the interval.</li>\n",
       "\n",
       "<li>formula: $ f(x)=\\begin{cases}0 & x < \\text{lower_bound} \\\\\\text{value} & \\text{lower_bound} \\le x \\le \\text{upper_bound} \\\\ 0 & x > \\text{upper_bound} \\end{cases}$</li>\n",
       "\n",
       "<li>parameters: \n",
       "<ul>\n",
       "\n",
       "<li>lower_bound: \n",
       "<ul>\n",
       "\n",
       "<li>value: 0.0</li>\n",
       "\n",
       "<li>desc: Lower bound for the interval</li>\n",
       "\n",
       "<li>min_value: -inf</li>\n",
       "\n",
       "<li>max_value: inf</li>\n",
       "\n",
       "<li>unit: </li>\n",
       "\n",
       "<li>is_normalization: False</li>\n",
       "\n",
       "<li>delta: 0.1</li>\n",
       "\n",
       "<li>free: True</li>\n",
       "\n",
       "</ul>\n",
       "\n",
       "</li>\n",
       "\n",
       "<li>upper_bound: \n",
       "<ul>\n",
       "\n",
       "<li>value: 1.0</li>\n",
       "\n",
       "<li>desc: Upper bound for the interval</li>\n",
       "\n",
       "<li>min_value: -inf</li>\n",
       "\n",
       "<li>max_value: inf</li>\n",
       "\n",
       "<li>unit: </li>\n",
       "\n",
       "<li>is_normalization: False</li>\n",
       "\n",
       "<li>delta: 0.1</li>\n",
       "\n",
       "<li>free: True</li>\n",
       "\n",
       "</ul>\n",
       "\n",
       "</li>\n",
       "\n",
       "<li>value: \n",
       "<ul>\n",
       "\n",
       "<li>value: 1.0</li>\n",
       "\n",
       "<li>desc: Value in the interval</li>\n",
       "\n",
       "<li>min_value: None</li>\n",
       "\n",
       "<li>max_value: None</li>\n",
       "\n",
       "<li>unit: </li>\n",
       "\n",
       "<li>is_normalization: False</li>\n",
       "\n",
       "<li>delta: 0.1</li>\n",
       "\n",
       "<li>free: True</li>\n",
       "\n",
       "</ul>\n",
       "\n",
       "</li>\n",
       "\n",
       "</ul>\n",
       "\n",
       "</li>\n",
       "\n",
       "</ul>\n"
      ],
      "text/plain": [
       "  * description: A function which is constant on the interval lower_bound - upper_bound\n",
       "    * and 0 outside the interval. The extremes of the interval are counted as part of\n",
       "    * the interval.\n",
       "  * formula: $ f(x)=\\begin{cases}0 & x < \\text{lower_bound} \\\\\\text{value} & \\text{lower_bound}\n",
       "    * \\le x \\le \\text{upper_bound} \\\\ 0 & x > \\text{upper_bound} \\end{cases}$\n",
       "  * parameters:\n",
       "    * lower_bound:\n",
       "      * value: 0.0\n",
       "      * desc: Lower bound for the interval\n",
       "      * min_value: -.inf\n",
       "      * max_value: .inf\n",
       "      * unit: ''\n",
       "      * is_normalization: false\n",
       "      * delta: 0.1\n",
       "      * free: true\n",
       "    * upper_bound:\n",
       "      * value: 1.0\n",
       "      * desc: Upper bound for the interval\n",
       "      * min_value: -.inf\n",
       "      * max_value: .inf\n",
       "      * unit: ''\n",
       "      * is_normalization: false\n",
       "      * delta: 0.1\n",
       "      * free: true\n",
       "    * value:\n",
       "      * value: 1.0\n",
       "      * desc: Value in the interval\n",
       "      * min_value: null\n",
       "      * max_value: null\n",
       "      * unit: ''\n",
       "      * is_normalization: false\n",
       "      * delta: 0.1\n",
       "      * free: true"
      ]
     },
     "metadata": {},
     "output_type": "display_data"
    }
   ],
   "source": [
    "func.display()"
   ]
  },
  {
   "cell_type": "markdown",
   "id": "47584822",
   "metadata": {
    "papermill": {
     "duration": 0.002538,
     "end_time": "2024-02-06T22:19:02.073130",
     "exception": false,
     "start_time": "2024-02-06T22:19:02.070592",
     "status": "completed"
    },
    "tags": []
   },
   "source": [
    "## Shape \n",
    "\n",
    "The shape of the function. \n",
    "\n",
    "*If this is not a photon model but a prior or linear function then ignore the units as these docs are auto-generated*"
   ]
  },
  {
   "cell_type": "code",
   "execution_count": 6,
   "id": "4c1b8ca7",
   "metadata": {
    "execution": {
     "iopub.execute_input": "2024-02-06T22:19:02.079684Z",
     "iopub.status.busy": "2024-02-06T22:19:02.079305Z",
     "iopub.status.idle": "2024-02-06T22:19:02.287704Z",
     "shell.execute_reply": "2024-02-06T22:19:02.286414Z"
    },
    "papermill": {
     "duration": 0.216273,
     "end_time": "2024-02-06T22:19:02.291888",
     "exception": false,
     "start_time": "2024-02-06T22:19:02.075615",
     "status": "completed"
    },
    "tags": [
     "nbsphinx-thumbnail"
    ]
   },
   "outputs": [
    {
     "data": {
      "text/plain": [
       "Text(0, 0.5, 'probability')"
      ]
     },
     "execution_count": 6,
     "metadata": {},
     "output_type": "execute_result"
    },
    {
     "data": {
      "image/png": "[encoded data removed]",
      "text/plain": [
       "<Figure size 1040x910 with 1 Axes>"
      ]
     },
     "metadata": {},
     "output_type": "display_data"
    }
   ],
   "source": [
    "fig, ax = plt.subplots()\n",
    "\n",
    "\n",
    "ax.plot(energy_grid, func(energy_grid), color=blue, lw=3)\n",
    "\n",
    "ax.set_xlabel(\"x\")\n",
    "ax.set_ylabel(\"probability\")\n"
   ]
  },
  {
   "cell_type": "markdown",
   "id": "9b7ea964",
   "metadata": {
    "papermill": {
     "duration": 0.003325,
     "end_time": "2024-02-06T22:19:02.304055",
     "exception": false,
     "start_time": "2024-02-06T22:19:02.300730",
     "status": "completed"
    },
    "tags": []
   },
   "source": [
    "## Random Number Generation\n",
    "\n",
    "This is how we can generate random numbers from the prior.\n"
   ]
  },
  {
   "cell_type": "code",
   "execution_count": 7,
   "id": "08a3abfd",
   "metadata": {
    "execution": {
     "iopub.execute_input": "2024-02-06T22:19:02.453878Z",
     "iopub.status.busy": "2024-02-06T22:19:02.453459Z",
     "iopub.status.idle": "2024-02-06T22:19:02.705018Z",
     "shell.execute_reply": "2024-02-06T22:19:02.703896Z"
    },
    "papermill": {
     "duration": 0.261024,
     "end_time": "2024-02-06T22:19:02.708655",
     "exception": false,
     "start_time": "2024-02-06T22:19:02.447631",
     "status": "completed"
    },
    "tags": []
   },
   "outputs": [
    {
     "data": {
      "text/plain": [
       "Text(0, 0.5, 'N')"
      ]
     },
     "execution_count": 7,
     "metadata": {},
     "output_type": "execute_result"
    },
    {
     "data": {
      "image/png": "[encoded data removed]",
      "text/plain": [
       "<Figure size 1040x910 with 1 Axes>"
      ]
     },
     "metadata": {},
     "output_type": "display_data"
    }
   ],
   "source": [
    "\n",
    "\n",
    "u = np.random.uniform(0,1, size=5000)\n",
    "\n",
    "draws = [func.from_unit_cube(x) for x in u]\n",
    "\n",
    "\n",
    "fig, ax = plt.subplots()\n",
    "\n",
    "\n",
    "ax.hist(draws, color=green, bins=50)\n",
    "\n",
    "ax.set_xlabel(\"value\")\n",
    "ax.set_ylabel(\"N\")\n",
    "\n"
   ]
  }
 ],
 "metadata": {
  "jupytext": {
   "formats": "ipynb,md"
  },
  "kernelspec": {
   "display_name": "Python 3 (ipykernel)",
   "language": "python",
   "name": "python3"
  },
  "language_info": {
   "codemirror_mode": {
    "name": "ipython",
    "version": 3
   },
   "file_extension": ".py",
   "mimetype": "text/x-python",
   "name": "python",
   "nbconvert_exporter": "python",
   "pygments_lexer": "ipython3",
   "version": "3.9.18"
  },
  "papermill": {
   "default_parameters": {},
   "duration": 4.573656,
   "end_time": "2024-02-06T22:19:03.234521",
   "environment_variables": {},
   "exception": null,
   "input_path": "Uniform_prior.ipynb",
   "output_path": "/Users/runner/work/astromodels/astromodels/docs/notebooks/Uniform_prior.ipynb",
   "parameters": {
    "func_name": "Uniform_prior",
    "positive_prior": false
   },
   "start_time": "2024-02-06T22:18:58.660865",
   "version": "2.5.0"
  }
 },
 "nbformat": 4,
 "nbformat_minor": 5
}
