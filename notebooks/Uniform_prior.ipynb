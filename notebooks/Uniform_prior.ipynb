{
 "cells": [
  {
   "cell_type": "markdown",
   "id": "29c56e5c",
   "metadata": {
    "papermill": {
     "duration": 0.006311,
     "end_time": "2025-04-29T20:14:46.604043",
     "exception": false,
     "start_time": "2025-04-29T20:14:46.597732",
     "status": "completed"
    },
    "tags": []
   },
   "source": [
    "# Uniform prior"
   ]
  },
  {
   "cell_type": "code",
   "execution_count": 1,
   "id": "bcb05c27",
   "metadata": {
    "execution": {
     "iopub.execute_input": "2025-04-29T20:14:46.613063Z",
     "iopub.status.busy": "2025-04-29T20:14:46.612571Z",
     "iopub.status.idle": "2025-04-29T20:14:48.005247Z",
     "shell.execute_reply": "2025-04-29T20:14:48.004729Z"
    },
    "nbsphinx": "hidden",
    "papermill": {
     "duration": 1.398249,
     "end_time": "2025-04-29T20:14:48.006579",
     "exception": false,
     "start_time": "2025-04-29T20:14:46.608330",
     "status": "completed"
    },
    "tags": []
   },
   "outputs": [],
   "source": [
    "%%capture\n",
    "\n",
    "import numpy as np\n",
    "\n",
    "import matplotlib.pyplot as plt\n",
    "\n",
    "import warnings\n",
    "warnings.simplefilter(\"ignore\")\n",
    "\n",
    "from astromodels.functions.function import _known_functions\n",
    "\n",
    "\n",
    "from jupyterthemes import jtplot\n",
    "jtplot.style(context=\"talk\", fscale=1, ticks=True, grid=False)\n",
    "%matplotlib inline"
   ]
  },
  {
   "cell_type": "code",
   "execution_count": 2,
   "id": "11ec59c2",
   "metadata": {
    "execution": {
     "iopub.execute_input": "2025-04-29T20:14:48.009750Z",
     "iopub.status.busy": "2025-04-29T20:14:48.009427Z",
     "iopub.status.idle": "2025-04-29T20:14:48.017786Z",
     "shell.execute_reply": "2025-04-29T20:14:48.017420Z"
    },
    "nbsphinx": "hidden",
    "papermill": {
     "duration": 0.011069,
     "end_time": "2025-04-29T20:14:48.018879",
     "exception": false,
     "start_time": "2025-04-29T20:14:48.007810",
     "status": "completed"
    },
    "tags": [
     "parameters"
    ]
   },
   "outputs": [],
   "source": [
    "func_name = \"TbAbs\"\n",
    "\n",
    "positive_prior = False\n"
   ]
  },
  {
   "cell_type": "code",
   "execution_count": 3,
   "id": "35b90b7d",
   "metadata": {
    "execution": {
     "iopub.execute_input": "2025-04-29T20:14:48.021345Z",
     "iopub.status.busy": "2025-04-29T20:14:48.021213Z",
     "iopub.status.idle": "2025-04-29T20:14:48.029071Z",
     "shell.execute_reply": "2025-04-29T20:14:48.028731Z"
    },
    "papermill": {
     "duration": 0.010293,
     "end_time": "2025-04-29T20:14:48.030153",
     "exception": false,
     "start_time": "2025-04-29T20:14:48.019860",
     "status": "completed"
    },
    "tags": [
     "injected-parameters"
    ]
   },
   "outputs": [],
   "source": [
    "# Parameters\n",
    "func_name = \"Uniform_prior\"\n",
    "positive_prior = False\n"
   ]
  },
  {
   "cell_type": "code",
   "execution_count": 4,
   "id": "0ac7032d",
   "metadata": {
    "execution": {
     "iopub.execute_input": "2025-04-29T20:14:48.032845Z",
     "iopub.status.busy": "2025-04-29T20:14:48.032700Z",
     "iopub.status.idle": "2025-04-29T20:14:48.041543Z",
     "shell.execute_reply": "2025-04-29T20:14:48.041174Z"
    },
    "lines_to_next_cell": 0,
    "nbsphinx": "hidden",
    "papermill": {
     "duration": 0.011307,
     "end_time": "2025-04-29T20:14:48.042567",
     "exception": false,
     "start_time": "2025-04-29T20:14:48.031260",
     "status": "completed"
    },
    "tags": []
   },
   "outputs": [],
   "source": [
    "func = _known_functions[func_name]()\n",
    "\n",
    "if not positive_prior:\n",
    "\n",
    "\tenergy_grid = np.linspace(-5,5,1000)\n",
    "\n",
    "else:\n",
    "    \n",
    "    energy_grid = np.linspace(0,1,1000)\n",
    "    \n",
    "    \n",
    "    \n",
    "    \n",
    "blue = \"#4152E3\"\n",
    "red = \"#E3414B\"\n",
    "green = \"#41E39E\""
   ]
  },
  {
   "cell_type": "markdown",
   "id": "321d6cea",
   "metadata": {
    "lines_to_next_cell": 0,
    "papermill": {
     "duration": 0.001078,
     "end_time": "2025-04-29T20:14:48.044695",
     "exception": false,
     "start_time": "2025-04-29T20:14:48.043617",
     "status": "completed"
    },
    "tags": []
   },
   "source": [
    "## Description"
   ]
  },
  {
   "cell_type": "code",
   "execution_count": 5,
   "id": "fa9ffd01",
   "metadata": {
    "execution": {
     "iopub.execute_input": "2025-04-29T20:14:48.047225Z",
     "iopub.status.busy": "2025-04-29T20:14:48.047080Z",
     "iopub.status.idle": "2025-04-29T20:14:48.051281Z",
     "shell.execute_reply": "2025-04-29T20:14:48.050782Z"
    },
    "papermill": {
     "duration": 0.006583,
     "end_time": "2025-04-29T20:14:48.052290",
     "exception": false,
     "start_time": "2025-04-29T20:14:48.045707",
     "status": "completed"
    },
    "tags": []
   },
   "outputs": [
    {
     "data": {
      "text/html": [
       "<ul>\n",
       "\n",
       "<li>description: A function which is constant on the interval lower_bound - upper_bound and 0 outside the interval. The extremes of the interval are counted as part of the interval.</li>\n",
       "\n",
       "<li>formula: $ f(x)=\\begin{cases}0 & x < \\text{lower_bound} \\\\\\text{value} & \\text{lower_bound} \\le x \\le \\text{upper_bound} \\\\ 0 & x > \\text{upper_bound} \\end{cases}$</li>\n",
       "\n",
       "<li>parameters: \n",
       "<ul>\n",
       "\n",
       "<li>lower_bound: \n",
       "<ul>\n",
       "\n",
       "<li>value: 0.0</li>\n",
       "\n",
       "<li>desc: Lower bound for the interval</li>\n",
       "\n",
       "<li>min_value: -inf</li>\n",
       "\n",
       "<li>max_value: inf</li>\n",
       "\n",
       "<li>unit: </li>\n",
       "\n",
       "<li>is_normalization: False</li>\n",
       "\n",
       "<li>delta: 0.1</li>\n",
       "\n",
       "<li>free: True</li>\n",
       "\n",
       "</ul>\n",
       "\n",
       "</li>\n",
       "\n",
       "<li>upper_bound: \n",
       "<ul>\n",
       "\n",
       "<li>value: 1.0</li>\n",
       "\n",
       "<li>desc: Upper bound for the interval</li>\n",
       "\n",
       "<li>min_value: -inf</li>\n",
       "\n",
       "<li>max_value: inf</li>\n",
       "\n",
       "<li>unit: </li>\n",
       "\n",
       "<li>is_normalization: False</li>\n",
       "\n",
       "<li>delta: 0.1</li>\n",
       "\n",
       "<li>free: True</li>\n",
       "\n",
       "</ul>\n",
       "\n",
       "</li>\n",
       "\n",
       "<li>value: \n",
       "<ul>\n",
       "\n",
       "<li>value: 1.0</li>\n",
       "\n",
       "<li>desc: Value in the interval</li>\n",
       "\n",
       "<li>min_value: None</li>\n",
       "\n",
       "<li>max_value: None</li>\n",
       "\n",
       "<li>unit: </li>\n",
       "\n",
       "<li>is_normalization: False</li>\n",
       "\n",
       "<li>delta: 0.1</li>\n",
       "\n",
       "<li>free: True</li>\n",
       "\n",
       "</ul>\n",
       "\n",
       "</li>\n",
       "\n",
       "</ul>\n",
       "\n",
       "</li>\n",
       "\n",
       "</ul>\n"
      ],
      "text/plain": [
       "  * description: A function which is constant on the interval lower_bound - upper_bound\n",
       "    * and 0 outside the interval. The extremes of the interval are counted as part of\n",
       "    * the interval.\n",
       "  * formula: $ f(x)=\\begin{cases}0 & x < \\text{lower_bound} \\\\\\text{value} & \\text{lower_bound}\n",
       "    * \\le x \\le \\text{upper_bound} \\\\ 0 & x > \\text{upper_bound} \\end{cases}$\n",
       "  * parameters:\n",
       "    * lower_bound:\n",
       "      * value: 0.0\n",
       "      * desc: Lower bound for the interval\n",
       "      * min_value: -.inf\n",
       "      * max_value: .inf\n",
       "      * unit: ''\n",
       "      * is_normalization: false\n",
       "      * delta: 0.1\n",
       "      * free: true\n",
       "    * upper_bound:\n",
       "      * value: 1.0\n",
       "      * desc: Upper bound for the interval\n",
       "      * min_value: -.inf\n",
       "      * max_value: .inf\n",
       "      * unit: ''\n",
       "      * is_normalization: false\n",
       "      * delta: 0.1\n",
       "      * free: true\n",
       "    * value:\n",
       "      * value: 1.0\n",
       "      * desc: Value in the interval\n",
       "      * min_value: null\n",
       "      * max_value: null\n",
       "      * unit: ''\n",
       "      * is_normalization: false\n",
       "      * delta: 0.1\n",
       "      * free: true"
      ]
     },
     "metadata": {},
     "output_type": "display_data"
    }
   ],
   "source": [
    "func.display()"
   ]
  },
  {
   "cell_type": "markdown",
   "id": "5f660242",
   "metadata": {
    "papermill": {
     "duration": 0.001101,
     "end_time": "2025-04-29T20:14:48.054608",
     "exception": false,
     "start_time": "2025-04-29T20:14:48.053507",
     "status": "completed"
    },
    "tags": []
   },
   "source": [
    "## Shape \n",
    "\n",
    "The shape of the function. \n",
    "\n",
    "*If this is not a photon model but a prior or linear function then ignore the units as these docs are auto-generated*"
   ]
  },
  {
   "cell_type": "code",
   "execution_count": 6,
   "id": "03e4bfb1",
   "metadata": {
    "execution": {
     "iopub.execute_input": "2025-04-29T20:14:48.057394Z",
     "iopub.status.busy": "2025-04-29T20:14:48.057252Z",
     "iopub.status.idle": "2025-04-29T20:14:48.129198Z",
     "shell.execute_reply": "2025-04-29T20:14:48.128838Z"
    },
    "papermill": {
     "duration": 0.074701,
     "end_time": "2025-04-29T20:14:48.130398",
     "exception": false,
     "start_time": "2025-04-29T20:14:48.055697",
     "status": "completed"
    },
    "tags": [
     "nbsphinx-thumbnail"
    ]
   },
   "outputs": [
    {
     "data": {
      "text/plain": [
       "Text(0, 0.5, 'probability')"
      ]
     },
     "execution_count": 6,
     "metadata": {},
     "output_type": "execute_result"
    },
    {
     "data": {
      "image/png": "[encoded data removed]",
      "text/plain": [
       "<Figure size 1040x910 with 1 Axes>"
      ]
     },
     "metadata": {},
     "output_type": "display_data"
    }
   ],
   "source": [
    "fig, ax = plt.subplots()\n",
    "\n",
    "\n",
    "ax.plot(energy_grid, func(energy_grid), color=blue, lw=3)\n",
    "\n",
    "ax.set_xlabel(\"x\")\n",
    "ax.set_ylabel(\"probability\")\n"
   ]
  },
  {
   "cell_type": "markdown",
   "id": "f757d882",
   "metadata": {
    "papermill": {
     "duration": 0.001336,
     "end_time": "2025-04-29T20:14:48.133358",
     "exception": false,
     "start_time": "2025-04-29T20:14:48.132022",
     "status": "completed"
    },
    "tags": []
   },
   "source": [
    "## Random Number Generation\n",
    "\n",
    "This is how we can generate random numbers from the prior.\n"
   ]
  },
  {
   "cell_type": "code",
   "execution_count": 7,
   "id": "ae3c703a",
   "metadata": {
    "execution": {
     "iopub.execute_input": "2025-04-29T20:14:48.136891Z",
     "iopub.status.busy": "2025-04-29T20:14:48.136748Z",
     "iopub.status.idle": "2025-04-29T20:14:48.230718Z",
     "shell.execute_reply": "2025-04-29T20:14:48.230370Z"
    },
    "papermill": {
     "duration": 0.097137,
     "end_time": "2025-04-29T20:14:48.231805",
     "exception": false,
     "start_time": "2025-04-29T20:14:48.134668",
     "status": "completed"
    },
    "tags": []
   },
   "outputs": [
    {
     "data": {
      "text/plain": [
       "Text(0, 0.5, 'N')"
      ]
     },
     "execution_count": 7,
     "metadata": {},
     "output_type": "execute_result"
    },
    {
     "data": {
      "image/png": "[encoded data removed]",
      "text/plain": [
       "<Figure size 1040x910 with 1 Axes>"
      ]
     },
     "metadata": {},
     "output_type": "display_data"
    }
   ],
   "source": [
    "\n",
    "\n",
    "u = np.random.uniform(0,1, size=5000)\n",
    "\n",
    "draws = [func.from_unit_cube(x) for x in u]\n",
    "\n",
    "\n",
    "fig, ax = plt.subplots()\n",
    "\n",
    "\n",
    "ax.hist(draws, color=green, bins=50)\n",
    "\n",
    "ax.set_xlabel(\"value\")\n",
    "ax.set_ylabel(\"N\")\n",
    "\n"
   ]
  }
 ],
 "metadata": {
  "jupytext": {
   "formats": "ipynb,md"
  },
  "kernelspec": {
   "display_name": "Python 3 (ipykernel)",
   "language": "python",
   "name": "python3"
  },
  "language_info": {
   "codemirror_mode": {
    "name": "ipython",
    "version": 3
   },
   "file_extension": ".py",
   "mimetype": "text/x-python",
   "name": "python",
   "nbconvert_exporter": "python",
   "pygments_lexer": "ipython3",
   "version": "3.9.13"
  },
  "papermill": {
   "default_parameters": {},
   "duration": 2.463978,
   "end_time": "2025-04-29T20:14:48.563859",
   "environment_variables": {},
   "exception": null,
   "input_path": "Uniform_prior.ipynb",
   "output_path": "/Users/runner/work/astromodels/astromodels/docs/notebooks/Uniform_prior.ipynb",
   "parameters": {
    "func_name": "Uniform_prior",
    "positive_prior": false
   },
   "start_time": "2025-04-29T20:14:46.099881",
   "version": "2.6.0"
  }
 },
 "nbformat": 4,
 "nbformat_minor": 5
}
