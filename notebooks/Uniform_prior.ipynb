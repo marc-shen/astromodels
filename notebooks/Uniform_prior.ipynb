{
 "cells": [
  {
   "cell_type": "markdown",
   "id": "da3e8aed",
   "metadata": {
    "papermill": {
     "duration": 0.008103,
     "end_time": "2025-04-29T01:32:31.580238",
     "exception": false,
     "start_time": "2025-04-29T01:32:31.572135",
     "status": "completed"
    },
    "tags": []
   },
   "source": [
    "# Uniform prior"
   ]
  },
  {
   "cell_type": "code",
   "execution_count": 1,
   "id": "054a89a9",
   "metadata": {
    "execution": {
     "iopub.execute_input": "2025-04-29T01:32:31.593121Z",
     "iopub.status.busy": "2025-04-29T01:32:31.592483Z",
     "iopub.status.idle": "2025-04-29T01:32:33.019949Z",
     "shell.execute_reply": "2025-04-29T01:32:33.019332Z"
    },
    "nbsphinx": "hidden",
    "papermill": {
     "duration": 1.435223,
     "end_time": "2025-04-29T01:32:33.021247",
     "exception": false,
     "start_time": "2025-04-29T01:32:31.586024",
     "status": "completed"
    },
    "tags": []
   },
   "outputs": [],
   "source": [
    "%%capture\n",
    "\n",
    "import numpy as np\n",
    "\n",
    "import matplotlib.pyplot as plt\n",
    "\n",
    "import warnings\n",
    "warnings.simplefilter(\"ignore\")\n",
    "\n",
    "from astromodels.functions.function import _known_functions\n",
    "\n",
    "\n",
    "from jupyterthemes import jtplot\n",
    "jtplot.style(context=\"talk\", fscale=1, ticks=True, grid=False)\n",
    "%matplotlib inline"
   ]
  },
  {
   "cell_type": "code",
   "execution_count": 2,
   "id": "2dca3c15",
   "metadata": {
    "execution": {
     "iopub.execute_input": "2025-04-29T01:32:33.024400Z",
     "iopub.status.busy": "2025-04-29T01:32:33.024079Z",
     "iopub.status.idle": "2025-04-29T01:32:33.026253Z",
     "shell.execute_reply": "2025-04-29T01:32:33.025876Z"
    },
    "nbsphinx": "hidden",
    "papermill": {
     "duration": 0.004789,
     "end_time": "2025-04-29T01:32:33.027275",
     "exception": false,
     "start_time": "2025-04-29T01:32:33.022486",
     "status": "completed"
    },
    "tags": [
     "parameters"
    ]
   },
   "outputs": [],
   "source": [
    "func_name = \"TbAbs\"\n",
    "\n",
    "positive_prior = False\n"
   ]
  },
  {
   "cell_type": "code",
   "execution_count": 3,
   "id": "e4953e8a",
   "metadata": {
    "execution": {
     "iopub.execute_input": "2025-04-29T01:32:33.029765Z",
     "iopub.status.busy": "2025-04-29T01:32:33.029624Z",
     "iopub.status.idle": "2025-04-29T01:32:33.031500Z",
     "shell.execute_reply": "2025-04-29T01:32:33.031115Z"
    },
    "papermill": {
     "duration": 0.004432,
     "end_time": "2025-04-29T01:32:33.032683",
     "exception": false,
     "start_time": "2025-04-29T01:32:33.028251",
     "status": "completed"
    },
    "tags": [
     "injected-parameters"
    ]
   },
   "outputs": [],
   "source": [
    "# Parameters\n",
    "func_name = \"Uniform_prior\"\n",
    "positive_prior = False\n"
   ]
  },
  {
   "cell_type": "code",
   "execution_count": 4,
   "id": "027a74e9",
   "metadata": {
    "execution": {
     "iopub.execute_input": "2025-04-29T01:32:33.035180Z",
     "iopub.status.busy": "2025-04-29T01:32:33.035049Z",
     "iopub.status.idle": "2025-04-29T01:32:33.037761Z",
     "shell.execute_reply": "2025-04-29T01:32:33.037371Z"
    },
    "lines_to_next_cell": 0,
    "nbsphinx": "hidden",
    "papermill": {
     "duration": 0.00514,
     "end_time": "2025-04-29T01:32:33.038830",
     "exception": false,
     "start_time": "2025-04-29T01:32:33.033690",
     "status": "completed"
    },
    "tags": []
   },
   "outputs": [],
   "source": [
    "func = _known_functions[func_name]()\n",
    "\n",
    "if not positive_prior:\n",
    "\n",
    "\tenergy_grid = np.linspace(-5,5,1000)\n",
    "\n",
    "else:\n",
    "    \n",
    "    energy_grid = np.linspace(0,1,1000)\n",
    "    \n",
    "    \n",
    "    \n",
    "    \n",
    "blue = \"#4152E3\"\n",
    "red = \"#E3414B\"\n",
    "green = \"#41E39E\""
   ]
  },
  {
   "cell_type": "markdown",
   "id": "7a4e44e8",
   "metadata": {
    "lines_to_next_cell": 0,
    "papermill": {
     "duration": 0.000981,
     "end_time": "2025-04-29T01:32:33.040822",
     "exception": false,
     "start_time": "2025-04-29T01:32:33.039841",
     "status": "completed"
    },
    "tags": []
   },
   "source": [
    "## Description"
   ]
  },
  {
   "cell_type": "code",
   "execution_count": 5,
   "id": "642597f4",
   "metadata": {
    "execution": {
     "iopub.execute_input": "2025-04-29T01:32:33.043296Z",
     "iopub.status.busy": "2025-04-29T01:32:33.043154Z",
     "iopub.status.idle": "2025-04-29T01:32:33.047178Z",
     "shell.execute_reply": "2025-04-29T01:32:33.046773Z"
    },
    "papermill": {
     "duration": 0.006525,
     "end_time": "2025-04-29T01:32:33.048256",
     "exception": false,
     "start_time": "2025-04-29T01:32:33.041731",
     "status": "completed"
    },
    "tags": []
   },
   "outputs": [
    {
     "data": {
      "text/html": [
       "<ul>\n",
       "\n",
       "<li>description: A function which is constant on the interval lower_bound - upper_bound and 0 outside the interval. The extremes of the interval are counted as part of the interval.</li>\n",
       "\n",
       "<li>formula: $ f(x)=\\begin{cases}0 & x < \\text{lower_bound} \\\\\\text{value} & \\text{lower_bound} \\le x \\le \\text{upper_bound} \\\\ 0 & x > \\text{upper_bound} \\end{cases}$</li>\n",
       "\n",
       "<li>parameters: \n",
       "<ul>\n",
       "\n",
       "<li>lower_bound: \n",
       "<ul>\n",
       "\n",
       "<li>value: 0.0</li>\n",
       "\n",
       "<li>desc: Lower bound for the interval</li>\n",
       "\n",
       "<li>min_value: -inf</li>\n",
       "\n",
       "<li>max_value: inf</li>\n",
       "\n",
       "<li>unit: </li>\n",
       "\n",
       "<li>is_normalization: False</li>\n",
       "\n",
       "<li>delta: 0.1</li>\n",
       "\n",
       "<li>free: True</li>\n",
       "\n",
       "</ul>\n",
       "\n",
       "</li>\n",
       "\n",
       "<li>upper_bound: \n",
       "<ul>\n",
       "\n",
       "<li>value: 1.0</li>\n",
       "\n",
       "<li>desc: Upper bound for the interval</li>\n",
       "\n",
       "<li>min_value: -inf</li>\n",
       "\n",
       "<li>max_value: inf</li>\n",
       "\n",
       "<li>unit: </li>\n",
       "\n",
       "<li>is_normalization: False</li>\n",
       "\n",
       "<li>delta: 0.1</li>\n",
       "\n",
       "<li>free: True</li>\n",
       "\n",
       "</ul>\n",
       "\n",
       "</li>\n",
       "\n",
       "<li>value: \n",
       "<ul>\n",
       "\n",
       "<li>value: 1.0</li>\n",
       "\n",
       "<li>desc: Value in the interval</li>\n",
       "\n",
       "<li>min_value: None</li>\n",
       "\n",
       "<li>max_value: None</li>\n",
       "\n",
       "<li>unit: </li>\n",
       "\n",
       "<li>is_normalization: False</li>\n",
       "\n",
       "<li>delta: 0.1</li>\n",
       "\n",
       "<li>free: True</li>\n",
       "\n",
       "</ul>\n",
       "\n",
       "</li>\n",
       "\n",
       "</ul>\n",
       "\n",
       "</li>\n",
       "\n",
       "</ul>\n"
      ],
      "text/plain": [
       "  * description: A function which is constant on the interval lower_bound - upper_bound\n",
       "    * and 0 outside the interval. The extremes of the interval are counted as part of\n",
       "    * the interval.\n",
       "  * formula: $ f(x)=\\begin{cases}0 & x < \\text{lower_bound} \\\\\\text{value} & \\text{lower_bound}\n",
       "    * \\le x \\le \\text{upper_bound} \\\\ 0 & x > \\text{upper_bound} \\end{cases}$\n",
       "  * parameters:\n",
       "    * lower_bound:\n",
       "      * value: 0.0\n",
       "      * desc: Lower bound for the interval\n",
       "      * min_value: -.inf\n",
       "      * max_value: .inf\n",
       "      * unit: ''\n",
       "      * is_normalization: false\n",
       "      * delta: 0.1\n",
       "      * free: true\n",
       "    * upper_bound:\n",
       "      * value: 1.0\n",
       "      * desc: Upper bound for the interval\n",
       "      * min_value: -.inf\n",
       "      * max_value: .inf\n",
       "      * unit: ''\n",
       "      * is_normalization: false\n",
       "      * delta: 0.1\n",
       "      * free: true\n",
       "    * value:\n",
       "      * value: 1.0\n",
       "      * desc: Value in the interval\n",
       "      * min_value: null\n",
       "      * max_value: null\n",
       "      * unit: ''\n",
       "      * is_normalization: false\n",
       "      * delta: 0.1\n",
       "      * free: true"
      ]
     },
     "metadata": {},
     "output_type": "display_data"
    }
   ],
   "source": [
    "func.display()"
   ]
  },
  {
   "cell_type": "markdown",
   "id": "2c2055c3",
   "metadata": {
    "papermill": {
     "duration": 0.001077,
     "end_time": "2025-04-29T01:32:33.050608",
     "exception": false,
     "start_time": "2025-04-29T01:32:33.049531",
     "status": "completed"
    },
    "tags": []
   },
   "source": [
    "## Shape \n",
    "\n",
    "The shape of the function. \n",
    "\n",
    "*If this is not a photon model but a prior or linear function then ignore the units as these docs are auto-generated*"
   ]
  },
  {
   "cell_type": "code",
   "execution_count": 6,
   "id": "b96c6748",
   "metadata": {
    "execution": {
     "iopub.execute_input": "2025-04-29T01:32:33.053387Z",
     "iopub.status.busy": "2025-04-29T01:32:33.053244Z",
     "iopub.status.idle": "2025-04-29T01:32:33.126668Z",
     "shell.execute_reply": "2025-04-29T01:32:33.126216Z"
    },
    "papermill": {
     "duration": 0.07604,
     "end_time": "2025-04-29T01:32:33.127724",
     "exception": false,
     "start_time": "2025-04-29T01:32:33.051684",
     "status": "completed"
    },
    "tags": [
     "nbsphinx-thumbnail"
    ]
   },
   "outputs": [
    {
     "data": {
      "text/plain": [
       "Text(0, 0.5, 'probability')"
      ]
     },
     "execution_count": 6,
     "metadata": {},
     "output_type": "execute_result"
    },
    {
     "data": {
      "image/png": "[encoded data removed]",
      "text/plain": [
       "<Figure size 1040x910 with 1 Axes>"
      ]
     },
     "metadata": {},
     "output_type": "display_data"
    }
   ],
   "source": [
    "fig, ax = plt.subplots()\n",
    "\n",
    "\n",
    "ax.plot(energy_grid, func(energy_grid), color=blue, lw=3)\n",
    "\n",
    "ax.set_xlabel(\"x\")\n",
    "ax.set_ylabel(\"probability\")\n"
   ]
  },
  {
   "cell_type": "markdown",
   "id": "ca5e4f8c",
   "metadata": {
    "papermill": {
     "duration": 0.001385,
     "end_time": "2025-04-29T01:32:33.130768",
     "exception": false,
     "start_time": "2025-04-29T01:32:33.129383",
     "status": "completed"
    },
    "tags": []
   },
   "source": [
    "## Random Number Generation\n",
    "\n",
    "This is how we can generate random numbers from the prior.\n"
   ]
  },
  {
   "cell_type": "code",
   "execution_count": 7,
   "id": "32633b2f",
   "metadata": {
    "execution": {
     "iopub.execute_input": "2025-04-29T01:32:33.134008Z",
     "iopub.status.busy": "2025-04-29T01:32:33.133860Z",
     "iopub.status.idle": "2025-04-29T01:32:33.227947Z",
     "shell.execute_reply": "2025-04-29T01:32:33.227608Z"
    },
    "papermill": {
     "duration": 0.097131,
     "end_time": "2025-04-29T01:32:33.229204",
     "exception": false,
     "start_time": "2025-04-29T01:32:33.132073",
     "status": "completed"
    },
    "tags": []
   },
   "outputs": [
    {
     "data": {
      "text/plain": [
       "Text(0, 0.5, 'N')"
      ]
     },
     "execution_count": 7,
     "metadata": {},
     "output_type": "execute_result"
    },
    {
     "data": {
      "image/png": "[encoded data removed]",
      "text/plain": [
       "<Figure size 1040x910 with 1 Axes>"
      ]
     },
     "metadata": {},
     "output_type": "display_data"
    }
   ],
   "source": [
    "\n",
    "\n",
    "u = np.random.uniform(0,1, size=5000)\n",
    "\n",
    "draws = [func.from_unit_cube(x) for x in u]\n",
    "\n",
    "\n",
    "fig, ax = plt.subplots()\n",
    "\n",
    "\n",
    "ax.hist(draws, color=green, bins=50)\n",
    "\n",
    "ax.set_xlabel(\"value\")\n",
    "ax.set_ylabel(\"N\")\n",
    "\n"
   ]
  }
 ],
 "metadata": {
  "jupytext": {
   "formats": "ipynb,md"
  },
  "kernelspec": {
   "display_name": "Python 3 (ipykernel)",
   "language": "python",
   "name": "python3"
  },
  "language_info": {
   "codemirror_mode": {
    "name": "ipython",
    "version": 3
   },
   "file_extension": ".py",
   "mimetype": "text/x-python",
   "name": "python",
   "nbconvert_exporter": "python",
   "pygments_lexer": "ipython3",
   "version": "3.9.13"
  },
  "papermill": {
   "default_parameters": {},
   "duration": 2.751305,
   "end_time": "2025-04-29T01:32:33.560670",
   "environment_variables": {},
   "exception": null,
   "input_path": "Uniform_prior.ipynb",
   "output_path": "/Users/runner/work/astromodels/astromodels/docs/notebooks/Uniform_prior.ipynb",
   "parameters": {
    "func_name": "Uniform_prior",
    "positive_prior": false
   },
   "start_time": "2025-04-29T01:32:30.809365",
   "version": "2.6.0"
  }
 },
 "nbformat": 4,
 "nbformat_minor": 5
}
