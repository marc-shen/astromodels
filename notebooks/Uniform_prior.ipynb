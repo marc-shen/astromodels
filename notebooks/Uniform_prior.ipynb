{
 "cells": [
  {
   "cell_type": "markdown",
   "id": "312e52bb",
   "metadata": {
    "papermill": {
     "duration": 0.004354,
     "end_time": "2022-09-28T03:11:57.821156",
     "exception": false,
     "start_time": "2022-09-28T03:11:57.816802",
     "status": "completed"
    },
    "tags": []
   },
   "source": [
    "# Uniform prior"
   ]
  },
  {
   "cell_type": "code",
   "execution_count": 1,
   "id": "98917247",
   "metadata": {
    "execution": {
     "iopub.execute_input": "2022-09-28T03:11:57.830247Z",
     "iopub.status.busy": "2022-09-28T03:11:57.829782Z",
     "iopub.status.idle": "2022-09-28T03:12:02.868879Z",
     "shell.execute_reply": "2022-09-28T03:12:02.867698Z"
    },
    "nbsphinx": "hidden",
    "papermill": {
     "duration": 5.047142,
     "end_time": "2022-09-28T03:12:02.872245",
     "exception": false,
     "start_time": "2022-09-28T03:11:57.825103",
     "status": "completed"
    },
    "tags": []
   },
   "outputs": [],
   "source": [
    "%%capture\n",
    "\n",
    "import numpy as np\n",
    "\n",
    "import matplotlib.pyplot as plt\n",
    "\n",
    "import warnings\n",
    "warnings.simplefilter(\"ignore\")\n",
    "\n",
    "from astromodels.functions.function import _known_functions\n",
    "\n",
    "\n",
    "from jupyterthemes import jtplot\n",
    "jtplot.style(context=\"talk\", fscale=1, ticks=True, grid=False)\n",
    "%matplotlib inline"
   ]
  },
  {
   "cell_type": "code",
   "execution_count": 2,
   "id": "a5cfcc12",
   "metadata": {
    "execution": {
     "iopub.execute_input": "2022-09-28T03:12:02.882825Z",
     "iopub.status.busy": "2022-09-28T03:12:02.882423Z",
     "iopub.status.idle": "2022-09-28T03:12:02.889035Z",
     "shell.execute_reply": "2022-09-28T03:12:02.887945Z"
    },
    "nbsphinx": "hidden",
    "papermill": {
     "duration": 0.014206,
     "end_time": "2022-09-28T03:12:02.891974",
     "exception": false,
     "start_time": "2022-09-28T03:12:02.877768",
     "status": "completed"
    },
    "tags": [
     "parameters"
    ]
   },
   "outputs": [],
   "source": [
    "func_name = \"TbAbs\"\n",
    "\n",
    "positive_prior = False\n"
   ]
  },
  {
   "cell_type": "code",
   "execution_count": 3,
   "id": "528b0d7b",
   "metadata": {
    "execution": {
     "iopub.execute_input": "2022-09-28T03:12:02.899955Z",
     "iopub.status.busy": "2022-09-28T03:12:02.899548Z",
     "iopub.status.idle": "2022-09-28T03:12:02.904269Z",
     "shell.execute_reply": "2022-09-28T03:12:02.903334Z"
    },
    "papermill": {
     "duration": 0.011936,
     "end_time": "2022-09-28T03:12:02.907024",
     "exception": false,
     "start_time": "2022-09-28T03:12:02.895088",
     "status": "completed"
    },
    "tags": [
     "injected-parameters"
    ]
   },
   "outputs": [],
   "source": [
    "# Parameters\n",
    "func_name = \"Uniform_prior\"\n",
    "positive_prior = False\n"
   ]
  },
  {
   "cell_type": "code",
   "execution_count": 4,
   "id": "45c4d540",
   "metadata": {
    "execution": {
     "iopub.execute_input": "2022-09-28T03:12:02.916161Z",
     "iopub.status.busy": "2022-09-28T03:12:02.915706Z",
     "iopub.status.idle": "2022-09-28T03:12:02.922824Z",
     "shell.execute_reply": "2022-09-28T03:12:02.921874Z"
    },
    "lines_to_next_cell": 0,
    "nbsphinx": "hidden",
    "papermill": {
     "duration": 0.015347,
     "end_time": "2022-09-28T03:12:02.925605",
     "exception": false,
     "start_time": "2022-09-28T03:12:02.910258",
     "status": "completed"
    },
    "tags": []
   },
   "outputs": [],
   "source": [
    "func = _known_functions[func_name]()\n",
    "\n",
    "if not positive_prior:\n",
    "\n",
    "\tenergy_grid = np.linspace(-5,5,1000)\n",
    "\n",
    "else:\n",
    "    \n",
    "    energy_grid = np.linspace(0,1,1000)\n",
    "    \n",
    "    \n",
    "    \n",
    "    \n",
    "blue = \"#4152E3\"\n",
    "red = \"#E3414B\"\n",
    "green = \"#41E39E\""
   ]
  },
  {
   "cell_type": "markdown",
   "id": "11997e7f",
   "metadata": {
    "lines_to_next_cell": 0,
    "papermill": {
     "duration": 0.002894,
     "end_time": "2022-09-28T03:12:02.931553",
     "exception": false,
     "start_time": "2022-09-28T03:12:02.928659",
     "status": "completed"
    },
    "tags": []
   },
   "source": [
    "## Description"
   ]
  },
  {
   "cell_type": "code",
   "execution_count": 5,
   "id": "c7b7a7ce",
   "metadata": {
    "execution": {
     "iopub.execute_input": "2022-09-28T03:12:02.939546Z",
     "iopub.status.busy": "2022-09-28T03:12:02.938815Z",
     "iopub.status.idle": "2022-09-28T03:12:02.952832Z",
     "shell.execute_reply": "2022-09-28T03:12:02.951914Z"
    },
    "papermill": {
     "duration": 0.021123,
     "end_time": "2022-09-28T03:12:02.955838",
     "exception": false,
     "start_time": "2022-09-28T03:12:02.934715",
     "status": "completed"
    },
    "tags": []
   },
   "outputs": [
    {
     "data": {
      "text/html": [
       "<ul>\n",
       "\n",
       "<li>description: A function which is constant on the interval lower_bound - upper_bound and 0 outside the interval. The extremes of the interval are counted as part of the interval.</li>\n",
       "\n",
       "<li>formula: $ f(x)=\\begin{cases}0 & x < \\text{lower_bound} \\\\\\text{value} & \\text{lower_bound} \\le x \\le \\text{upper_bound} \\\\ 0 & x > \\text{upper_bound} \\end{cases}$</li>\n",
       "\n",
       "<li>parameters: \n",
       "<ul>\n",
       "\n",
       "<li>lower_bound: \n",
       "<ul>\n",
       "\n",
       "<li>value: 0.0</li>\n",
       "\n",
       "<li>desc: Lower bound for the interval</li>\n",
       "\n",
       "<li>min_value: -inf</li>\n",
       "\n",
       "<li>max_value: inf</li>\n",
       "\n",
       "<li>unit: </li>\n",
       "\n",
       "<li>is_normalization: False</li>\n",
       "\n",
       "<li>delta: 0.1</li>\n",
       "\n",
       "<li>free: True</li>\n",
       "\n",
       "</ul>\n",
       "\n",
       "</li>\n",
       "\n",
       "<li>upper_bound: \n",
       "<ul>\n",
       "\n",
       "<li>value: 1.0</li>\n",
       "\n",
       "<li>desc: Upper bound for the interval</li>\n",
       "\n",
       "<li>min_value: -inf</li>\n",
       "\n",
       "<li>max_value: inf</li>\n",
       "\n",
       "<li>unit: </li>\n",
       "\n",
       "<li>is_normalization: False</li>\n",
       "\n",
       "<li>delta: 0.1</li>\n",
       "\n",
       "<li>free: True</li>\n",
       "\n",
       "</ul>\n",
       "\n",
       "</li>\n",
       "\n",
       "<li>value: \n",
       "<ul>\n",
       "\n",
       "<li>value: 1.0</li>\n",
       "\n",
       "<li>desc: Value in the interval</li>\n",
       "\n",
       "<li>min_value: None</li>\n",
       "\n",
       "<li>max_value: None</li>\n",
       "\n",
       "<li>unit: </li>\n",
       "\n",
       "<li>is_normalization: False</li>\n",
       "\n",
       "<li>delta: 0.1</li>\n",
       "\n",
       "<li>free: True</li>\n",
       "\n",
       "</ul>\n",
       "\n",
       "</li>\n",
       "\n",
       "</ul>\n",
       "\n",
       "</li>\n",
       "\n",
       "</ul>\n"
      ],
      "text/plain": [
       "  * description: A function which is constant on the interval lower_bound - upper_bound\n",
       "    * and 0 outside the interval. The extremes of the interval are counted as part of\n",
       "    * the interval.\n",
       "  * formula: $ f(x)=\\begin{cases}0 & x < \\text{lower_bound} \\\\\\text{value} & \\text{lower_bound}\n",
       "    * \\le x \\le \\text{upper_bound} \\\\ 0 & x > \\text{upper_bound} \\end{cases}$\n",
       "  * parameters:\n",
       "    * lower_bound:\n",
       "      * value: 0.0\n",
       "      * desc: Lower bound for the interval\n",
       "      * min_value: -.inf\n",
       "      * max_value: .inf\n",
       "      * unit: ''\n",
       "      * is_normalization: false\n",
       "      * delta: 0.1\n",
       "      * free: true\n",
       "    * upper_bound:\n",
       "      * value: 1.0\n",
       "      * desc: Upper bound for the interval\n",
       "      * min_value: -.inf\n",
       "      * max_value: .inf\n",
       "      * unit: ''\n",
       "      * is_normalization: false\n",
       "      * delta: 0.1\n",
       "      * free: true\n",
       "    * value:\n",
       "      * value: 1.0\n",
       "      * desc: Value in the interval\n",
       "      * min_value: null\n",
       "      * max_value: null\n",
       "      * unit: ''\n",
       "      * is_normalization: false\n",
       "      * delta: 0.1\n",
       "      * free: true"
      ]
     },
     "metadata": {},
     "output_type": "display_data"
    }
   ],
   "source": [
    "func.display()"
   ]
  },
  {
   "cell_type": "markdown",
   "id": "7e0eedbc",
   "metadata": {
    "papermill": {
     "duration": 0.003253,
     "end_time": "2022-09-28T03:12:02.963397",
     "exception": false,
     "start_time": "2022-09-28T03:12:02.960144",
     "status": "completed"
    },
    "tags": []
   },
   "source": [
    "## Shape \n",
    "\n",
    "The shape of the function. \n",
    "\n",
    "*If this is not a photon model but a prior or linear function then ignore the units as these docs are auto-generated*"
   ]
  },
  {
   "cell_type": "code",
   "execution_count": 6,
   "id": "ae0b0443",
   "metadata": {
    "execution": {
     "iopub.execute_input": "2022-09-28T03:12:02.971212Z",
     "iopub.status.busy": "2022-09-28T03:12:02.970814Z",
     "iopub.status.idle": "2022-09-28T03:12:03.339550Z",
     "shell.execute_reply": "2022-09-28T03:12:03.338537Z"
    },
    "papermill": {
     "duration": 0.376074,
     "end_time": "2022-09-28T03:12:03.342472",
     "exception": false,
     "start_time": "2022-09-28T03:12:02.966398",
     "status": "completed"
    },
    "tags": [
     "nbsphinx-thumbnail"
    ]
   },
   "outputs": [
    {
     "data": {
      "text/plain": [
       "Text(0, 0.5, 'probability')"
      ]
     },
     "execution_count": 6,
     "metadata": {},
     "output_type": "execute_result"
    },
    {
     "data": {
      "image/png": "[encoded data removed]",
      "text/plain": [
       "<Figure size 1040x910 with 1 Axes>"
      ]
     },
     "metadata": {},
     "output_type": "display_data"
    }
   ],
   "source": [
    "fig, ax = plt.subplots()\n",
    "\n",
    "\n",
    "ax.plot(energy_grid, func(energy_grid), color=blue, lw=3)\n",
    "\n",
    "ax.set_xlabel(\"x\")\n",
    "ax.set_ylabel(\"probability\")\n"
   ]
  },
  {
   "cell_type": "markdown",
   "id": "3dbfc966",
   "metadata": {
    "papermill": {
     "duration": 0.004068,
     "end_time": "2022-09-28T03:12:03.350936",
     "exception": false,
     "start_time": "2022-09-28T03:12:03.346868",
     "status": "completed"
    },
    "tags": []
   },
   "source": [
    "## Random Number Generation\n",
    "\n",
    "This is how we can generate random numbers from the prior.\n"
   ]
  },
  {
   "cell_type": "code",
   "execution_count": 7,
   "id": "6782e0a6",
   "metadata": {
    "execution": {
     "iopub.execute_input": "2022-09-28T03:12:03.359731Z",
     "iopub.status.busy": "2022-09-28T03:12:03.359324Z",
     "iopub.status.idle": "2022-09-28T03:12:03.842924Z",
     "shell.execute_reply": "2022-09-28T03:12:03.840011Z"
    },
    "papermill": {
     "duration": 0.491737,
     "end_time": "2022-09-28T03:12:03.846099",
     "exception": false,
     "start_time": "2022-09-28T03:12:03.354362",
     "status": "completed"
    },
    "tags": []
   },
   "outputs": [
    {
     "data": {
      "text/plain": [
       "Text(0, 0.5, 'N')"
      ]
     },
     "execution_count": 7,
     "metadata": {},
     "output_type": "execute_result"
    },
    {
     "data": {
      "image/png": "[encoded data removed]",
      "text/plain": [
       "<Figure size 1040x910 with 1 Axes>"
      ]
     },
     "metadata": {},
     "output_type": "display_data"
    }
   ],
   "source": [
    "\n",
    "\n",
    "u = np.random.uniform(0,1, size=5000)\n",
    "\n",
    "draws = [func.from_unit_cube(x) for x in u]\n",
    "\n",
    "\n",
    "fig, ax = plt.subplots()\n",
    "\n",
    "\n",
    "ax.hist(draws, color=green, bins=50)\n",
    "\n",
    "ax.set_xlabel(\"value\")\n",
    "ax.set_ylabel(\"N\")\n",
    "\n"
   ]
  }
 ],
 "metadata": {
  "jupytext": {
   "formats": "ipynb,md"
  },
  "kernelspec": {
   "display_name": "Python 3 (ipykernel)",
   "language": "python",
   "name": "python3"
  },
  "language_info": {
   "codemirror_mode": {
    "name": "ipython",
    "version": 3
   },
   "file_extension": ".py",
   "mimetype": "text/x-python",
   "name": "python",
   "nbconvert_exporter": "python",
   "pygments_lexer": "ipython3",
   "version": "3.9.14"
  },
  "papermill": {
   "default_parameters": {},
   "duration": 8.130247,
   "end_time": "2022-09-28T03:12:04.620234",
   "environment_variables": {},
   "exception": null,
   "input_path": "Uniform_prior.ipynb",
   "output_path": "/Users/runner/work/astromodels/astromodels/docs/notebooks/Uniform_prior.ipynb",
   "parameters": {
    "func_name": "Uniform_prior",
    "positive_prior": false
   },
   "start_time": "2022-09-28T03:11:56.489987",
   "version": "2.4.0"
  }
 },
 "nbformat": 4,
 "nbformat_minor": 5
}
