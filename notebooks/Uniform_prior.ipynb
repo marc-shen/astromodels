{
 "cells": [
  {
   "cell_type": "markdown",
   "id": "14f29bfd",
   "metadata": {
    "papermill": {
     "duration": 0.008121,
     "end_time": "2024-08-14T21:25:45.831571",
     "exception": false,
     "start_time": "2024-08-14T21:25:45.823450",
     "status": "completed"
    },
    "tags": []
   },
   "source": [
    "# Uniform prior"
   ]
  },
  {
   "cell_type": "code",
   "execution_count": 1,
   "id": "8fa7b3d3",
   "metadata": {
    "execution": {
     "iopub.execute_input": "2024-08-14T21:25:45.843048Z",
     "iopub.status.busy": "2024-08-14T21:25:45.842313Z",
     "iopub.status.idle": "2024-08-14T21:25:47.315096Z",
     "shell.execute_reply": "2024-08-14T21:25:47.314298Z"
    },
    "nbsphinx": "hidden",
    "papermill": {
     "duration": 1.480915,
     "end_time": "2024-08-14T21:25:47.317372",
     "exception": false,
     "start_time": "2024-08-14T21:25:45.836457",
     "status": "completed"
    },
    "tags": []
   },
   "outputs": [],
   "source": [
    "%%capture\n",
    "\n",
    "import numpy as np\n",
    "\n",
    "import matplotlib.pyplot as plt\n",
    "\n",
    "import warnings\n",
    "warnings.simplefilter(\"ignore\")\n",
    "\n",
    "from astromodels.functions.function import _known_functions\n",
    "\n",
    "\n",
    "from jupyterthemes import jtplot\n",
    "jtplot.style(context=\"talk\", fscale=1, ticks=True, grid=False)\n",
    "%matplotlib inline"
   ]
  },
  {
   "cell_type": "code",
   "execution_count": 2,
   "id": "b81016bb",
   "metadata": {
    "execution": {
     "iopub.execute_input": "2024-08-14T21:25:47.321364Z",
     "iopub.status.busy": "2024-08-14T21:25:47.320887Z",
     "iopub.status.idle": "2024-08-14T21:25:47.324120Z",
     "shell.execute_reply": "2024-08-14T21:25:47.323546Z"
    },
    "nbsphinx": "hidden",
    "papermill": {
     "duration": 0.007425,
     "end_time": "2024-08-14T21:25:47.326215",
     "exception": false,
     "start_time": "2024-08-14T21:25:47.318790",
     "status": "completed"
    },
    "tags": [
     "parameters"
    ]
   },
   "outputs": [],
   "source": [
    "func_name = \"TbAbs\"\n",
    "\n",
    "positive_prior = False\n"
   ]
  },
  {
   "cell_type": "code",
   "execution_count": 3,
   "id": "0bdcc1b8",
   "metadata": {
    "execution": {
     "iopub.execute_input": "2024-08-14T21:25:47.329595Z",
     "iopub.status.busy": "2024-08-14T21:25:47.329378Z",
     "iopub.status.idle": "2024-08-14T21:25:47.331852Z",
     "shell.execute_reply": "2024-08-14T21:25:47.331371Z"
    },
    "papermill": {
     "duration": 0.006161,
     "end_time": "2024-08-14T21:25:47.333643",
     "exception": false,
     "start_time": "2024-08-14T21:25:47.327482",
     "status": "completed"
    },
    "tags": [
     "injected-parameters"
    ]
   },
   "outputs": [],
   "source": [
    "# Parameters\n",
    "func_name = \"Uniform_prior\"\n",
    "positive_prior = False\n"
   ]
  },
  {
   "cell_type": "code",
   "execution_count": 4,
   "id": "fb48cc3b",
   "metadata": {
    "execution": {
     "iopub.execute_input": "2024-08-14T21:25:47.337278Z",
     "iopub.status.busy": "2024-08-14T21:25:47.337002Z",
     "iopub.status.idle": "2024-08-14T21:25:47.347028Z",
     "shell.execute_reply": "2024-08-14T21:25:47.346348Z"
    },
    "lines_to_next_cell": 0,
    "nbsphinx": "hidden",
    "papermill": {
     "duration": 0.014051,
     "end_time": "2024-08-14T21:25:47.348972",
     "exception": false,
     "start_time": "2024-08-14T21:25:47.334921",
     "status": "completed"
    },
    "tags": []
   },
   "outputs": [],
   "source": [
    "func = _known_functions[func_name]()\n",
    "\n",
    "if not positive_prior:\n",
    "\n",
    "\tenergy_grid = np.linspace(-5,5,1000)\n",
    "\n",
    "else:\n",
    "    \n",
    "    energy_grid = np.linspace(0,1,1000)\n",
    "    \n",
    "    \n",
    "    \n",
    "    \n",
    "blue = \"#4152E3\"\n",
    "red = \"#E3414B\"\n",
    "green = \"#41E39E\""
   ]
  },
  {
   "cell_type": "markdown",
   "id": "60d4b5cf",
   "metadata": {
    "lines_to_next_cell": 0,
    "papermill": {
     "duration": 0.00111,
     "end_time": "2024-08-14T21:25:47.351414",
     "exception": false,
     "start_time": "2024-08-14T21:25:47.350304",
     "status": "completed"
    },
    "tags": []
   },
   "source": [
    "## Description"
   ]
  },
  {
   "cell_type": "code",
   "execution_count": 5,
   "id": "40999f5d",
   "metadata": {
    "execution": {
     "iopub.execute_input": "2024-08-14T21:25:47.354537Z",
     "iopub.status.busy": "2024-08-14T21:25:47.354317Z",
     "iopub.status.idle": "2024-08-14T21:25:47.360985Z",
     "shell.execute_reply": "2024-08-14T21:25:47.359937Z"
    },
    "papermill": {
     "duration": 0.010839,
     "end_time": "2024-08-14T21:25:47.363288",
     "exception": false,
     "start_time": "2024-08-14T21:25:47.352449",
     "status": "completed"
    },
    "tags": []
   },
   "outputs": [
    {
     "data": {
      "text/html": [
       "<ul>\n",
       "\n",
       "<li>description: A function which is constant on the interval lower_bound - upper_bound and 0 outside the interval. The extremes of the interval are counted as part of the interval.</li>\n",
       "\n",
       "<li>formula: $ f(x)=\\begin{cases}0 & x < \\text{lower_bound} \\\\\\text{value} & \\text{lower_bound} \\le x \\le \\text{upper_bound} \\\\ 0 & x > \\text{upper_bound} \\end{cases}$</li>\n",
       "\n",
       "<li>parameters: \n",
       "<ul>\n",
       "\n",
       "<li>lower_bound: \n",
       "<ul>\n",
       "\n",
       "<li>value: 0.0</li>\n",
       "\n",
       "<li>desc: Lower bound for the interval</li>\n",
       "\n",
       "<li>min_value: -inf</li>\n",
       "\n",
       "<li>max_value: inf</li>\n",
       "\n",
       "<li>unit: </li>\n",
       "\n",
       "<li>is_normalization: False</li>\n",
       "\n",
       "<li>delta: 0.1</li>\n",
       "\n",
       "<li>free: True</li>\n",
       "\n",
       "</ul>\n",
       "\n",
       "</li>\n",
       "\n",
       "<li>upper_bound: \n",
       "<ul>\n",
       "\n",
       "<li>value: 1.0</li>\n",
       "\n",
       "<li>desc: Upper bound for the interval</li>\n",
       "\n",
       "<li>min_value: -inf</li>\n",
       "\n",
       "<li>max_value: inf</li>\n",
       "\n",
       "<li>unit: </li>\n",
       "\n",
       "<li>is_normalization: False</li>\n",
       "\n",
       "<li>delta: 0.1</li>\n",
       "\n",
       "<li>free: True</li>\n",
       "\n",
       "</ul>\n",
       "\n",
       "</li>\n",
       "\n",
       "<li>value: \n",
       "<ul>\n",
       "\n",
       "<li>value: 1.0</li>\n",
       "\n",
       "<li>desc: Value in the interval</li>\n",
       "\n",
       "<li>min_value: None</li>\n",
       "\n",
       "<li>max_value: None</li>\n",
       "\n",
       "<li>unit: </li>\n",
       "\n",
       "<li>is_normalization: False</li>\n",
       "\n",
       "<li>delta: 0.1</li>\n",
       "\n",
       "<li>free: True</li>\n",
       "\n",
       "</ul>\n",
       "\n",
       "</li>\n",
       "\n",
       "</ul>\n",
       "\n",
       "</li>\n",
       "\n",
       "</ul>\n"
      ],
      "text/plain": [
       "  * description: A function which is constant on the interval lower_bound - upper_bound\n",
       "    * and 0 outside the interval. The extremes of the interval are counted as part of\n",
       "    * the interval.\n",
       "  * formula: $ f(x)=\\begin{cases}0 & x < \\text{lower_bound} \\\\\\text{value} & \\text{lower_bound}\n",
       "    * \\le x \\le \\text{upper_bound} \\\\ 0 & x > \\text{upper_bound} \\end{cases}$\n",
       "  * parameters:\n",
       "    * lower_bound:\n",
       "      * value: 0.0\n",
       "      * desc: Lower bound for the interval\n",
       "      * min_value: -.inf\n",
       "      * max_value: .inf\n",
       "      * unit: ''\n",
       "      * is_normalization: false\n",
       "      * delta: 0.1\n",
       "      * free: true\n",
       "    * upper_bound:\n",
       "      * value: 1.0\n",
       "      * desc: Upper bound for the interval\n",
       "      * min_value: -.inf\n",
       "      * max_value: .inf\n",
       "      * unit: ''\n",
       "      * is_normalization: false\n",
       "      * delta: 0.1\n",
       "      * free: true\n",
       "    * value:\n",
       "      * value: 1.0\n",
       "      * desc: Value in the interval\n",
       "      * min_value: null\n",
       "      * max_value: null\n",
       "      * unit: ''\n",
       "      * is_normalization: false\n",
       "      * delta: 0.1\n",
       "      * free: true"
      ]
     },
     "metadata": {},
     "output_type": "display_data"
    }
   ],
   "source": [
    "func.display()"
   ]
  },
  {
   "cell_type": "markdown",
   "id": "cc1ca7ad",
   "metadata": {
    "papermill": {
     "duration": 0.00133,
     "end_time": "2024-08-14T21:25:47.366115",
     "exception": false,
     "start_time": "2024-08-14T21:25:47.364785",
     "status": "completed"
    },
    "tags": []
   },
   "source": [
    "## Shape \n",
    "\n",
    "The shape of the function. \n",
    "\n",
    "*If this is not a photon model but a prior or linear function then ignore the units as these docs are auto-generated*"
   ]
  },
  {
   "cell_type": "code",
   "execution_count": 6,
   "id": "e20eff70",
   "metadata": {
    "execution": {
     "iopub.execute_input": "2024-08-14T21:25:47.369883Z",
     "iopub.status.busy": "2024-08-14T21:25:47.369669Z",
     "iopub.status.idle": "2024-08-14T21:25:47.471720Z",
     "shell.execute_reply": "2024-08-14T21:25:47.471385Z"
    },
    "papermill": {
     "duration": 0.106088,
     "end_time": "2024-08-14T21:25:47.473580",
     "exception": false,
     "start_time": "2024-08-14T21:25:47.367492",
     "status": "completed"
    },
    "tags": [
     "nbsphinx-thumbnail"
    ]
   },
   "outputs": [
    {
     "data": {
      "text/plain": [
       "Text(0, 0.5, 'probability')"
      ]
     },
     "execution_count": 6,
     "metadata": {},
     "output_type": "execute_result"
    },
    {
     "data": {
      "image/png": "[encoded data removed]",
      "text/plain": [
       "<Figure size 1040x910 with 1 Axes>"
      ]
     },
     "metadata": {},
     "output_type": "display_data"
    }
   ],
   "source": [
    "fig, ax = plt.subplots()\n",
    "\n",
    "\n",
    "ax.plot(energy_grid, func(energy_grid), color=blue, lw=3)\n",
    "\n",
    "ax.set_xlabel(\"x\")\n",
    "ax.set_ylabel(\"probability\")\n"
   ]
  },
  {
   "cell_type": "markdown",
   "id": "c0f83d1d",
   "metadata": {
    "papermill": {
     "duration": 0.001405,
     "end_time": "2024-08-14T21:25:47.476712",
     "exception": false,
     "start_time": "2024-08-14T21:25:47.475307",
     "status": "completed"
    },
    "tags": []
   },
   "source": [
    "## Random Number Generation\n",
    "\n",
    "This is how we can generate random numbers from the prior.\n"
   ]
  },
  {
   "cell_type": "code",
   "execution_count": 7,
   "id": "75dd568e",
   "metadata": {
    "execution": {
     "iopub.execute_input": "2024-08-14T21:25:47.481599Z",
     "iopub.status.busy": "2024-08-14T21:25:47.481404Z",
     "iopub.status.idle": "2024-08-14T21:25:47.642569Z",
     "shell.execute_reply": "2024-08-14T21:25:47.639345Z"
    },
    "papermill": {
     "duration": 0.167304,
     "end_time": "2024-08-14T21:25:47.645388",
     "exception": false,
     "start_time": "2024-08-14T21:25:47.478084",
     "status": "completed"
    },
    "tags": []
   },
   "outputs": [
    {
     "data": {
      "text/plain": [
       "Text(0, 0.5, 'N')"
      ]
     },
     "execution_count": 7,
     "metadata": {},
     "output_type": "execute_result"
    },
    {
     "data": {
      "image/png": "[encoded data removed]",
      "text/plain": [
       "<Figure size 1040x910 with 1 Axes>"
      ]
     },
     "metadata": {},
     "output_type": "display_data"
    }
   ],
   "source": [
    "\n",
    "\n",
    "u = np.random.uniform(0,1, size=5000)\n",
    "\n",
    "draws = [func.from_unit_cube(x) for x in u]\n",
    "\n",
    "\n",
    "fig, ax = plt.subplots()\n",
    "\n",
    "\n",
    "ax.hist(draws, color=green, bins=50)\n",
    "\n",
    "ax.set_xlabel(\"value\")\n",
    "ax.set_ylabel(\"N\")\n",
    "\n"
   ]
  }
 ],
 "metadata": {
  "jupytext": {
   "formats": "ipynb,md"
  },
  "kernelspec": {
   "display_name": "Python 3 (ipykernel)",
   "language": "python",
   "name": "python3"
  },
  "language_info": {
   "codemirror_mode": {
    "name": "ipython",
    "version": 3
   },
   "file_extension": ".py",
   "mimetype": "text/x-python",
   "name": "python",
   "nbconvert_exporter": "python",
   "pygments_lexer": "ipython3",
   "version": "3.9.13"
  },
  "papermill": {
   "default_parameters": {},
   "duration": 3.01965,
   "end_time": "2024-08-14T21:25:48.082669",
   "environment_variables": {},
   "exception": null,
   "input_path": "Uniform_prior.ipynb",
   "output_path": "/Users/runner/work/astromodels/astromodels/docs/notebooks/Uniform_prior.ipynb",
   "parameters": {
    "func_name": "Uniform_prior",
    "positive_prior": false
   },
   "start_time": "2024-08-14T21:25:45.063019",
   "version": "2.6.0"
  }
 },
 "nbformat": 4,
 "nbformat_minor": 5
}
