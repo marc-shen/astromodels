{
 "cells": [
  {
   "cell_type": "markdown",
   "id": "779657aa",
   "metadata": {
    "papermill": {
     "duration": 0.004373,
     "end_time": "2023-11-01T23:34:26.451108",
     "exception": false,
     "start_time": "2023-11-01T23:34:26.446735",
     "status": "completed"
    },
    "tags": []
   },
   "source": [
    "# Uniform prior"
   ]
  },
  {
   "cell_type": "code",
   "execution_count": 1,
   "id": "15781015",
   "metadata": {
    "execution": {
     "iopub.execute_input": "2023-11-01T23:34:26.459180Z",
     "iopub.status.busy": "2023-11-01T23:34:26.458771Z",
     "iopub.status.idle": "2023-11-01T23:34:29.975000Z",
     "shell.execute_reply": "2023-11-01T23:34:29.973481Z"
    },
    "nbsphinx": "hidden",
    "papermill": {
     "duration": 3.523964,
     "end_time": "2023-11-01T23:34:29.978573",
     "exception": false,
     "start_time": "2023-11-01T23:34:26.454609",
     "status": "completed"
    },
    "tags": []
   },
   "outputs": [],
   "source": [
    "%%capture\n",
    "\n",
    "import numpy as np\n",
    "\n",
    "import matplotlib.pyplot as plt\n",
    "\n",
    "import warnings\n",
    "warnings.simplefilter(\"ignore\")\n",
    "\n",
    "from astromodels.functions.function import _known_functions\n",
    "\n",
    "\n",
    "from jupyterthemes import jtplot\n",
    "jtplot.style(context=\"talk\", fscale=1, ticks=True, grid=False)\n",
    "%matplotlib inline"
   ]
  },
  {
   "cell_type": "code",
   "execution_count": 2,
   "id": "383e355b",
   "metadata": {
    "execution": {
     "iopub.execute_input": "2023-11-01T23:34:29.987622Z",
     "iopub.status.busy": "2023-11-01T23:34:29.987146Z",
     "iopub.status.idle": "2023-11-01T23:34:29.992661Z",
     "shell.execute_reply": "2023-11-01T23:34:29.991538Z"
    },
    "nbsphinx": "hidden",
    "papermill": {
     "duration": 0.013488,
     "end_time": "2023-11-01T23:34:29.995665",
     "exception": false,
     "start_time": "2023-11-01T23:34:29.982177",
     "status": "completed"
    },
    "tags": [
     "parameters"
    ]
   },
   "outputs": [],
   "source": [
    "func_name = \"TbAbs\"\n",
    "\n",
    "positive_prior = False\n"
   ]
  },
  {
   "cell_type": "code",
   "execution_count": 3,
   "id": "c1e54599",
   "metadata": {
    "execution": {
     "iopub.execute_input": "2023-11-01T23:34:30.003865Z",
     "iopub.status.busy": "2023-11-01T23:34:30.003108Z",
     "iopub.status.idle": "2023-11-01T23:34:30.007846Z",
     "shell.execute_reply": "2023-11-01T23:34:30.006812Z"
    },
    "papermill": {
     "duration": 0.011873,
     "end_time": "2023-11-01T23:34:30.010778",
     "exception": false,
     "start_time": "2023-11-01T23:34:29.998905",
     "status": "completed"
    },
    "tags": [
     "injected-parameters"
    ]
   },
   "outputs": [],
   "source": [
    "# Parameters\n",
    "func_name = \"Uniform_prior\"\n",
    "positive_prior = False\n"
   ]
  },
  {
   "cell_type": "code",
   "execution_count": 4,
   "id": "45ec5feb",
   "metadata": {
    "execution": {
     "iopub.execute_input": "2023-11-01T23:34:30.018774Z",
     "iopub.status.busy": "2023-11-01T23:34:30.018369Z",
     "iopub.status.idle": "2023-11-01T23:34:30.025994Z",
     "shell.execute_reply": "2023-11-01T23:34:30.024866Z"
    },
    "lines_to_next_cell": 0,
    "nbsphinx": "hidden",
    "papermill": {
     "duration": 0.01518,
     "end_time": "2023-11-01T23:34:30.029443",
     "exception": false,
     "start_time": "2023-11-01T23:34:30.014263",
     "status": "completed"
    },
    "tags": []
   },
   "outputs": [],
   "source": [
    "func = _known_functions[func_name]()\n",
    "\n",
    "if not positive_prior:\n",
    "\n",
    "\tenergy_grid = np.linspace(-5,5,1000)\n",
    "\n",
    "else:\n",
    "    \n",
    "    energy_grid = np.linspace(0,1,1000)\n",
    "    \n",
    "    \n",
    "    \n",
    "    \n",
    "blue = \"#4152E3\"\n",
    "red = \"#E3414B\"\n",
    "green = \"#41E39E\""
   ]
  },
  {
   "cell_type": "markdown",
   "id": "7fdfedff",
   "metadata": {
    "lines_to_next_cell": 0,
    "papermill": {
     "duration": 0.003068,
     "end_time": "2023-11-01T23:34:30.037266",
     "exception": false,
     "start_time": "2023-11-01T23:34:30.034198",
     "status": "completed"
    },
    "tags": []
   },
   "source": [
    "## Description"
   ]
  },
  {
   "cell_type": "code",
   "execution_count": 5,
   "id": "6518f22d",
   "metadata": {
    "execution": {
     "iopub.execute_input": "2023-11-01T23:34:30.045110Z",
     "iopub.status.busy": "2023-11-01T23:34:30.044649Z",
     "iopub.status.idle": "2023-11-01T23:34:30.057655Z",
     "shell.execute_reply": "2023-11-01T23:34:30.056259Z"
    },
    "papermill": {
     "duration": 0.021365,
     "end_time": "2023-11-01T23:34:30.061502",
     "exception": false,
     "start_time": "2023-11-01T23:34:30.040137",
     "status": "completed"
    },
    "tags": []
   },
   "outputs": [
    {
     "data": {
      "text/html": [
       "<ul>\n",
       "\n",
       "<li>description: A function which is constant on the interval lower_bound - upper_bound and 0 outside the interval. The extremes of the interval are counted as part of the interval.</li>\n",
       "\n",
       "<li>formula: $ f(x)=\\begin{cases}0 & x < \\text{lower_bound} \\\\\\text{value} & \\text{lower_bound} \\le x \\le \\text{upper_bound} \\\\ 0 & x > \\text{upper_bound} \\end{cases}$</li>\n",
       "\n",
       "<li>parameters: \n",
       "<ul>\n",
       "\n",
       "<li>lower_bound: \n",
       "<ul>\n",
       "\n",
       "<li>value: 0.0</li>\n",
       "\n",
       "<li>desc: Lower bound for the interval</li>\n",
       "\n",
       "<li>min_value: -inf</li>\n",
       "\n",
       "<li>max_value: inf</li>\n",
       "\n",
       "<li>unit: </li>\n",
       "\n",
       "<li>is_normalization: False</li>\n",
       "\n",
       "<li>delta: 0.1</li>\n",
       "\n",
       "<li>free: True</li>\n",
       "\n",
       "</ul>\n",
       "\n",
       "</li>\n",
       "\n",
       "<li>upper_bound: \n",
       "<ul>\n",
       "\n",
       "<li>value: 1.0</li>\n",
       "\n",
       "<li>desc: Upper bound for the interval</li>\n",
       "\n",
       "<li>min_value: -inf</li>\n",
       "\n",
       "<li>max_value: inf</li>\n",
       "\n",
       "<li>unit: </li>\n",
       "\n",
       "<li>is_normalization: False</li>\n",
       "\n",
       "<li>delta: 0.1</li>\n",
       "\n",
       "<li>free: True</li>\n",
       "\n",
       "</ul>\n",
       "\n",
       "</li>\n",
       "\n",
       "<li>value: \n",
       "<ul>\n",
       "\n",
       "<li>value: 1.0</li>\n",
       "\n",
       "<li>desc: Value in the interval</li>\n",
       "\n",
       "<li>min_value: None</li>\n",
       "\n",
       "<li>max_value: None</li>\n",
       "\n",
       "<li>unit: </li>\n",
       "\n",
       "<li>is_normalization: False</li>\n",
       "\n",
       "<li>delta: 0.1</li>\n",
       "\n",
       "<li>free: True</li>\n",
       "\n",
       "</ul>\n",
       "\n",
       "</li>\n",
       "\n",
       "</ul>\n",
       "\n",
       "</li>\n",
       "\n",
       "</ul>\n"
      ],
      "text/plain": [
       "  * description: A function which is constant on the interval lower_bound - upper_bound\n",
       "    * and 0 outside the interval. The extremes of the interval are counted as part of\n",
       "    * the interval.\n",
       "  * formula: $ f(x)=\\begin{cases}0 & x < \\text{lower_bound} \\\\\\text{value} & \\text{lower_bound}\n",
       "    * \\le x \\le \\text{upper_bound} \\\\ 0 & x > \\text{upper_bound} \\end{cases}$\n",
       "  * parameters:\n",
       "    * lower_bound:\n",
       "      * value: 0.0\n",
       "      * desc: Lower bound for the interval\n",
       "      * min_value: -.inf\n",
       "      * max_value: .inf\n",
       "      * unit: ''\n",
       "      * is_normalization: false\n",
       "      * delta: 0.1\n",
       "      * free: true\n",
       "    * upper_bound:\n",
       "      * value: 1.0\n",
       "      * desc: Upper bound for the interval\n",
       "      * min_value: -.inf\n",
       "      * max_value: .inf\n",
       "      * unit: ''\n",
       "      * is_normalization: false\n",
       "      * delta: 0.1\n",
       "      * free: true\n",
       "    * value:\n",
       "      * value: 1.0\n",
       "      * desc: Value in the interval\n",
       "      * min_value: null\n",
       "      * max_value: null\n",
       "      * unit: ''\n",
       "      * is_normalization: false\n",
       "      * delta: 0.1\n",
       "      * free: true"
      ]
     },
     "metadata": {},
     "output_type": "display_data"
    }
   ],
   "source": [
    "func.display()"
   ]
  },
  {
   "cell_type": "markdown",
   "id": "103a6f7e",
   "metadata": {
    "papermill": {
     "duration": 0.003543,
     "end_time": "2023-11-01T23:34:30.069485",
     "exception": false,
     "start_time": "2023-11-01T23:34:30.065942",
     "status": "completed"
    },
    "tags": []
   },
   "source": [
    "## Shape \n",
    "\n",
    "The shape of the function. \n",
    "\n",
    "*If this is not a photon model but a prior or linear function then ignore the units as these docs are auto-generated*"
   ]
  },
  {
   "cell_type": "code",
   "execution_count": 6,
   "id": "05dd763f",
   "metadata": {
    "execution": {
     "iopub.execute_input": "2023-11-01T23:34:30.078346Z",
     "iopub.status.busy": "2023-11-01T23:34:30.077940Z",
     "iopub.status.idle": "2023-11-01T23:34:30.362136Z",
     "shell.execute_reply": "2023-11-01T23:34:30.360973Z"
    },
    "papermill": {
     "duration": 0.292331,
     "end_time": "2023-11-01T23:34:30.365371",
     "exception": false,
     "start_time": "2023-11-01T23:34:30.073040",
     "status": "completed"
    },
    "tags": [
     "nbsphinx-thumbnail"
    ]
   },
   "outputs": [
    {
     "data": {
      "text/plain": [
       "Text(0, 0.5, 'probability')"
      ]
     },
     "execution_count": 6,
     "metadata": {},
     "output_type": "execute_result"
    },
    {
     "data": {
      "image/png": "[encoded data removed]",
      "text/plain": [
       "<Figure size 1040x910 with 1 Axes>"
      ]
     },
     "metadata": {},
     "output_type": "display_data"
    }
   ],
   "source": [
    "fig, ax = plt.subplots()\n",
    "\n",
    "\n",
    "ax.plot(energy_grid, func(energy_grid), color=blue, lw=3)\n",
    "\n",
    "ax.set_xlabel(\"x\")\n",
    "ax.set_ylabel(\"probability\")\n"
   ]
  },
  {
   "cell_type": "markdown",
   "id": "7ca48dd8",
   "metadata": {
    "papermill": {
     "duration": 0.003891,
     "end_time": "2023-11-01T23:34:30.373417",
     "exception": false,
     "start_time": "2023-11-01T23:34:30.369526",
     "status": "completed"
    },
    "tags": []
   },
   "source": [
    "## Random Number Generation\n",
    "\n",
    "This is how we can generate random numbers from the prior.\n"
   ]
  },
  {
   "cell_type": "code",
   "execution_count": 7,
   "id": "7fe9e54d",
   "metadata": {
    "execution": {
     "iopub.execute_input": "2023-11-01T23:34:30.382551Z",
     "iopub.status.busy": "2023-11-01T23:34:30.382133Z",
     "iopub.status.idle": "2023-11-01T23:34:30.800985Z",
     "shell.execute_reply": "2023-11-01T23:34:30.799873Z"
    },
    "papermill": {
     "duration": 0.426959,
     "end_time": "2023-11-01T23:34:30.804052",
     "exception": false,
     "start_time": "2023-11-01T23:34:30.377093",
     "status": "completed"
    },
    "tags": []
   },
   "outputs": [
    {
     "data": {
      "text/plain": [
       "Text(0, 0.5, 'N')"
      ]
     },
     "execution_count": 7,
     "metadata": {},
     "output_type": "execute_result"
    },
    {
     "data": {
      "image/png": "[encoded data removed]",
      "text/plain": [
       "<Figure size 1040x910 with 1 Axes>"
      ]
     },
     "metadata": {},
     "output_type": "display_data"
    }
   ],
   "source": [
    "\n",
    "\n",
    "u = np.random.uniform(0,1, size=5000)\n",
    "\n",
    "draws = [func.from_unit_cube(x) for x in u]\n",
    "\n",
    "\n",
    "fig, ax = plt.subplots()\n",
    "\n",
    "\n",
    "ax.hist(draws, color=green, bins=50)\n",
    "\n",
    "ax.set_xlabel(\"value\")\n",
    "ax.set_ylabel(\"N\")\n",
    "\n"
   ]
  }
 ],
 "metadata": {
  "jupytext": {
   "formats": "ipynb,md"
  },
  "kernelspec": {
   "display_name": "Python 3 (ipykernel)",
   "language": "python",
   "name": "python3"
  },
  "language_info": {
   "codemirror_mode": {
    "name": "ipython",
    "version": 3
   },
   "file_extension": ".py",
   "mimetype": "text/x-python",
   "name": "python",
   "nbconvert_exporter": "python",
   "pygments_lexer": "ipython3",
   "version": "3.9.18"
  },
  "papermill": {
   "default_parameters": {},
   "duration": 6.24564,
   "end_time": "2023-11-01T23:34:31.533467",
   "environment_variables": {},
   "exception": null,
   "input_path": "Uniform_prior.ipynb",
   "output_path": "/Users/runner/work/astromodels/astromodels/docs/notebooks/Uniform_prior.ipynb",
   "parameters": {
    "func_name": "Uniform_prior",
    "positive_prior": false
   },
   "start_time": "2023-11-01T23:34:25.287827",
   "version": "2.5.0"
  }
 },
 "nbformat": 4,
 "nbformat_minor": 5
}
