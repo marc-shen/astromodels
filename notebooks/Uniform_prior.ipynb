{
 "cells": [
  {
   "cell_type": "markdown",
   "id": "d99ca3ec",
   "metadata": {
    "papermill": {
     "duration": 0.010278,
     "end_time": "2024-09-10T20:23:51.513486",
     "exception": false,
     "start_time": "2024-09-10T20:23:51.503208",
     "status": "completed"
    },
    "tags": []
   },
   "source": [
    "# Uniform prior"
   ]
  },
  {
   "cell_type": "code",
   "execution_count": 1,
   "id": "57c87095",
   "metadata": {
    "execution": {
     "iopub.execute_input": "2024-09-10T20:23:51.528693Z",
     "iopub.status.busy": "2024-09-10T20:23:51.528014Z",
     "iopub.status.idle": "2024-09-10T20:23:52.939638Z",
     "shell.execute_reply": "2024-09-10T20:23:52.939113Z"
    },
    "nbsphinx": "hidden",
    "papermill": {
     "duration": 1.420855,
     "end_time": "2024-09-10T20:23:52.941152",
     "exception": false,
     "start_time": "2024-09-10T20:23:51.520297",
     "status": "completed"
    },
    "tags": []
   },
   "outputs": [],
   "source": [
    "%%capture\n",
    "\n",
    "import numpy as np\n",
    "\n",
    "import matplotlib.pyplot as plt\n",
    "\n",
    "import warnings\n",
    "warnings.simplefilter(\"ignore\")\n",
    "\n",
    "from astromodels.functions.function import _known_functions\n",
    "\n",
    "\n",
    "from jupyterthemes import jtplot\n",
    "jtplot.style(context=\"talk\", fscale=1, ticks=True, grid=False)\n",
    "%matplotlib inline"
   ]
  },
  {
   "cell_type": "code",
   "execution_count": 2,
   "id": "747bb345",
   "metadata": {
    "execution": {
     "iopub.execute_input": "2024-09-10T20:23:52.944319Z",
     "iopub.status.busy": "2024-09-10T20:23:52.943997Z",
     "iopub.status.idle": "2024-09-10T20:23:52.946101Z",
     "shell.execute_reply": "2024-09-10T20:23:52.945742Z"
    },
    "nbsphinx": "hidden",
    "papermill": {
     "duration": 0.004944,
     "end_time": "2024-09-10T20:23:52.947277",
     "exception": false,
     "start_time": "2024-09-10T20:23:52.942333",
     "status": "completed"
    },
    "tags": [
     "parameters"
    ]
   },
   "outputs": [],
   "source": [
    "func_name = \"TbAbs\"\n",
    "\n",
    "positive_prior = False\n"
   ]
  },
  {
   "cell_type": "code",
   "execution_count": 3,
   "id": "f411ed0c",
   "metadata": {
    "execution": {
     "iopub.execute_input": "2024-09-10T20:23:52.949760Z",
     "iopub.status.busy": "2024-09-10T20:23:52.949626Z",
     "iopub.status.idle": "2024-09-10T20:23:52.951445Z",
     "shell.execute_reply": "2024-09-10T20:23:52.951079Z"
    },
    "papermill": {
     "duration": 0.004444,
     "end_time": "2024-09-10T20:23:52.952668",
     "exception": false,
     "start_time": "2024-09-10T20:23:52.948224",
     "status": "completed"
    },
    "tags": [
     "injected-parameters"
    ]
   },
   "outputs": [],
   "source": [
    "# Parameters\n",
    "func_name = \"Uniform_prior\"\n",
    "positive_prior = False\n"
   ]
  },
  {
   "cell_type": "code",
   "execution_count": 4,
   "id": "8cfed2a4",
   "metadata": {
    "execution": {
     "iopub.execute_input": "2024-09-10T20:23:52.955214Z",
     "iopub.status.busy": "2024-09-10T20:23:52.955077Z",
     "iopub.status.idle": "2024-09-10T20:23:52.962717Z",
     "shell.execute_reply": "2024-09-10T20:23:52.962335Z"
    },
    "lines_to_next_cell": 0,
    "nbsphinx": "hidden",
    "papermill": {
     "duration": 0.010354,
     "end_time": "2024-09-10T20:23:52.963971",
     "exception": false,
     "start_time": "2024-09-10T20:23:52.953617",
     "status": "completed"
    },
    "tags": []
   },
   "outputs": [],
   "source": [
    "func = _known_functions[func_name]()\n",
    "\n",
    "if not positive_prior:\n",
    "\n",
    "\tenergy_grid = np.linspace(-5,5,1000)\n",
    "\n",
    "else:\n",
    "    \n",
    "    energy_grid = np.linspace(0,1,1000)\n",
    "    \n",
    "    \n",
    "    \n",
    "    \n",
    "blue = \"#4152E3\"\n",
    "red = \"#E3414B\"\n",
    "green = \"#41E39E\""
   ]
  },
  {
   "cell_type": "markdown",
   "id": "d54a046c",
   "metadata": {
    "lines_to_next_cell": 0,
    "papermill": {
     "duration": 0.000976,
     "end_time": "2024-09-10T20:23:52.965949",
     "exception": false,
     "start_time": "2024-09-10T20:23:52.964973",
     "status": "completed"
    },
    "tags": []
   },
   "source": [
    "## Description"
   ]
  },
  {
   "cell_type": "code",
   "execution_count": 5,
   "id": "adba3b7e",
   "metadata": {
    "execution": {
     "iopub.execute_input": "2024-09-10T20:23:52.968465Z",
     "iopub.status.busy": "2024-09-10T20:23:52.968325Z",
     "iopub.status.idle": "2024-09-10T20:23:52.972442Z",
     "shell.execute_reply": "2024-09-10T20:23:52.971947Z"
    },
    "papermill": {
     "duration": 0.007002,
     "end_time": "2024-09-10T20:23:52.973886",
     "exception": false,
     "start_time": "2024-09-10T20:23:52.966884",
     "status": "completed"
    },
    "tags": []
   },
   "outputs": [
    {
     "data": {
      "text/html": [
       "<ul>\n",
       "\n",
       "<li>description: A function which is constant on the interval lower_bound - upper_bound and 0 outside the interval. The extremes of the interval are counted as part of the interval.</li>\n",
       "\n",
       "<li>formula: $ f(x)=\\begin{cases}0 & x < \\text{lower_bound} \\\\\\text{value} & \\text{lower_bound} \\le x \\le \\text{upper_bound} \\\\ 0 & x > \\text{upper_bound} \\end{cases}$</li>\n",
       "\n",
       "<li>parameters: \n",
       "<ul>\n",
       "\n",
       "<li>lower_bound: \n",
       "<ul>\n",
       "\n",
       "<li>value: 0.0</li>\n",
       "\n",
       "<li>desc: Lower bound for the interval</li>\n",
       "\n",
       "<li>min_value: -inf</li>\n",
       "\n",
       "<li>max_value: inf</li>\n",
       "\n",
       "<li>unit: </li>\n",
       "\n",
       "<li>is_normalization: False</li>\n",
       "\n",
       "<li>delta: 0.1</li>\n",
       "\n",
       "<li>free: True</li>\n",
       "\n",
       "</ul>\n",
       "\n",
       "</li>\n",
       "\n",
       "<li>upper_bound: \n",
       "<ul>\n",
       "\n",
       "<li>value: 1.0</li>\n",
       "\n",
       "<li>desc: Upper bound for the interval</li>\n",
       "\n",
       "<li>min_value: -inf</li>\n",
       "\n",
       "<li>max_value: inf</li>\n",
       "\n",
       "<li>unit: </li>\n",
       "\n",
       "<li>is_normalization: False</li>\n",
       "\n",
       "<li>delta: 0.1</li>\n",
       "\n",
       "<li>free: True</li>\n",
       "\n",
       "</ul>\n",
       "\n",
       "</li>\n",
       "\n",
       "<li>value: \n",
       "<ul>\n",
       "\n",
       "<li>value: 1.0</li>\n",
       "\n",
       "<li>desc: Value in the interval</li>\n",
       "\n",
       "<li>min_value: None</li>\n",
       "\n",
       "<li>max_value: None</li>\n",
       "\n",
       "<li>unit: </li>\n",
       "\n",
       "<li>is_normalization: False</li>\n",
       "\n",
       "<li>delta: 0.1</li>\n",
       "\n",
       "<li>free: True</li>\n",
       "\n",
       "</ul>\n",
       "\n",
       "</li>\n",
       "\n",
       "</ul>\n",
       "\n",
       "</li>\n",
       "\n",
       "</ul>\n"
      ],
      "text/plain": [
       "  * description: A function which is constant on the interval lower_bound - upper_bound\n",
       "    * and 0 outside the interval. The extremes of the interval are counted as part of\n",
       "    * the interval.\n",
       "  * formula: $ f(x)=\\begin{cases}0 & x < \\text{lower_bound} \\\\\\text{value} & \\text{lower_bound}\n",
       "    * \\le x \\le \\text{upper_bound} \\\\ 0 & x > \\text{upper_bound} \\end{cases}$\n",
       "  * parameters:\n",
       "    * lower_bound:\n",
       "      * value: 0.0\n",
       "      * desc: Lower bound for the interval\n",
       "      * min_value: -.inf\n",
       "      * max_value: .inf\n",
       "      * unit: ''\n",
       "      * is_normalization: false\n",
       "      * delta: 0.1\n",
       "      * free: true\n",
       "    * upper_bound:\n",
       "      * value: 1.0\n",
       "      * desc: Upper bound for the interval\n",
       "      * min_value: -.inf\n",
       "      * max_value: .inf\n",
       "      * unit: ''\n",
       "      * is_normalization: false\n",
       "      * delta: 0.1\n",
       "      * free: true\n",
       "    * value:\n",
       "      * value: 1.0\n",
       "      * desc: Value in the interval\n",
       "      * min_value: null\n",
       "      * max_value: null\n",
       "      * unit: ''\n",
       "      * is_normalization: false\n",
       "      * delta: 0.1\n",
       "      * free: true"
      ]
     },
     "metadata": {},
     "output_type": "display_data"
    }
   ],
   "source": [
    "func.display()"
   ]
  },
  {
   "cell_type": "markdown",
   "id": "db66fbbe",
   "metadata": {
    "papermill": {
     "duration": 0.00111,
     "end_time": "2024-09-10T20:23:52.976109",
     "exception": false,
     "start_time": "2024-09-10T20:23:52.974999",
     "status": "completed"
    },
    "tags": []
   },
   "source": [
    "## Shape \n",
    "\n",
    "The shape of the function. \n",
    "\n",
    "*If this is not a photon model but a prior or linear function then ignore the units as these docs are auto-generated*"
   ]
  },
  {
   "cell_type": "code",
   "execution_count": 6,
   "id": "6b71d9ca",
   "metadata": {
    "execution": {
     "iopub.execute_input": "2024-09-10T20:23:52.978817Z",
     "iopub.status.busy": "2024-09-10T20:23:52.978674Z",
     "iopub.status.idle": "2024-09-10T20:23:53.071191Z",
     "shell.execute_reply": "2024-09-10T20:23:53.070794Z"
    },
    "papermill": {
     "duration": 0.095335,
     "end_time": "2024-09-10T20:23:53.072453",
     "exception": false,
     "start_time": "2024-09-10T20:23:52.977118",
     "status": "completed"
    },
    "tags": [
     "nbsphinx-thumbnail"
    ]
   },
   "outputs": [
    {
     "data": {
      "text/plain": [
       "Text(0, 0.5, 'probability')"
      ]
     },
     "execution_count": 6,
     "metadata": {},
     "output_type": "execute_result"
    },
    {
     "data": {
      "image/png": "[encoded data removed]",
      "text/plain": [
       "<Figure size 1040x910 with 1 Axes>"
      ]
     },
     "metadata": {},
     "output_type": "display_data"
    }
   ],
   "source": [
    "fig, ax = plt.subplots()\n",
    "\n",
    "\n",
    "ax.plot(energy_grid, func(energy_grid), color=blue, lw=3)\n",
    "\n",
    "ax.set_xlabel(\"x\")\n",
    "ax.set_ylabel(\"probability\")\n"
   ]
  },
  {
   "cell_type": "markdown",
   "id": "858d0f3a",
   "metadata": {
    "papermill": {
     "duration": 0.001338,
     "end_time": "2024-09-10T20:23:53.075360",
     "exception": false,
     "start_time": "2024-09-10T20:23:53.074022",
     "status": "completed"
    },
    "tags": []
   },
   "source": [
    "## Random Number Generation\n",
    "\n",
    "This is how we can generate random numbers from the prior.\n"
   ]
  },
  {
   "cell_type": "code",
   "execution_count": 7,
   "id": "958d2430",
   "metadata": {
    "execution": {
     "iopub.execute_input": "2024-09-10T20:23:53.078611Z",
     "iopub.status.busy": "2024-09-10T20:23:53.078468Z",
     "iopub.status.idle": "2024-09-10T20:23:53.191853Z",
     "shell.execute_reply": "2024-09-10T20:23:53.191499Z"
    },
    "papermill": {
     "duration": 0.116648,
     "end_time": "2024-09-10T20:23:53.193294",
     "exception": false,
     "start_time": "2024-09-10T20:23:53.076646",
     "status": "completed"
    },
    "tags": []
   },
   "outputs": [
    {
     "data": {
      "text/plain": [
       "Text(0, 0.5, 'N')"
      ]
     },
     "execution_count": 7,
     "metadata": {},
     "output_type": "execute_result"
    },
    {
     "data": {
      "image/png": "[encoded data removed]",
      "text/plain": [
       "<Figure size 1040x910 with 1 Axes>"
      ]
     },
     "metadata": {},
     "output_type": "display_data"
    }
   ],
   "source": [
    "\n",
    "\n",
    "u = np.random.uniform(0,1, size=5000)\n",
    "\n",
    "draws = [func.from_unit_cube(x) for x in u]\n",
    "\n",
    "\n",
    "fig, ax = plt.subplots()\n",
    "\n",
    "\n",
    "ax.hist(draws, color=green, bins=50)\n",
    "\n",
    "ax.set_xlabel(\"value\")\n",
    "ax.set_ylabel(\"N\")\n",
    "\n"
   ]
  }
 ],
 "metadata": {
  "jupytext": {
   "formats": "ipynb,md"
  },
  "kernelspec": {
   "display_name": "Python 3 (ipykernel)",
   "language": "python",
   "name": "python3"
  },
  "language_info": {
   "codemirror_mode": {
    "name": "ipython",
    "version": 3
   },
   "file_extension": ".py",
   "mimetype": "text/x-python",
   "name": "python",
   "nbconvert_exporter": "python",
   "pygments_lexer": "ipython3",
   "version": "3.9.13"
  },
  "papermill": {
   "default_parameters": {},
   "duration": 2.610885,
   "end_time": "2024-09-10T20:23:53.524007",
   "environment_variables": {},
   "exception": null,
   "input_path": "Uniform_prior.ipynb",
   "output_path": "/Users/runner/work/astromodels/astromodels/docs/notebooks/Uniform_prior.ipynb",
   "parameters": {
    "func_name": "Uniform_prior",
    "positive_prior": false
   },
   "start_time": "2024-09-10T20:23:50.913122",
   "version": "2.6.0"
  }
 },
 "nbformat": 4,
 "nbformat_minor": 5
}
