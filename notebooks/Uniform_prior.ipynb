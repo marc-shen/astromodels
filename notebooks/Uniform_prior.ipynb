{
 "cells": [
  {
   "cell_type": "markdown",
   "id": "d4b18d61",
   "metadata": {
    "papermill": {
     "duration": 0.010542,
     "end_time": "2025-04-29T18:32:28.642926",
     "exception": false,
     "start_time": "2025-04-29T18:32:28.632384",
     "status": "completed"
    },
    "tags": []
   },
   "source": [
    "# Uniform prior"
   ]
  },
  {
   "cell_type": "code",
   "execution_count": 1,
   "id": "534e4caa",
   "metadata": {
    "execution": {
     "iopub.execute_input": "2025-04-29T18:32:28.657415Z",
     "iopub.status.busy": "2025-04-29T18:32:28.656694Z",
     "iopub.status.idle": "2025-04-29T18:32:30.057150Z",
     "shell.execute_reply": "2025-04-29T18:32:30.056560Z"
    },
    "nbsphinx": "hidden",
    "papermill": {
     "duration": 1.408414,
     "end_time": "2025-04-29T18:32:30.058550",
     "exception": false,
     "start_time": "2025-04-29T18:32:28.650136",
     "status": "completed"
    },
    "tags": []
   },
   "outputs": [],
   "source": [
    "%%capture\n",
    "\n",
    "import numpy as np\n",
    "\n",
    "import matplotlib.pyplot as plt\n",
    "\n",
    "import warnings\n",
    "warnings.simplefilter(\"ignore\")\n",
    "\n",
    "from astromodels.functions.function import _known_functions\n",
    "\n",
    "\n",
    "from jupyterthemes import jtplot\n",
    "jtplot.style(context=\"talk\", fscale=1, ticks=True, grid=False)\n",
    "%matplotlib inline"
   ]
  },
  {
   "cell_type": "code",
   "execution_count": 2,
   "id": "2f9466da",
   "metadata": {
    "execution": {
     "iopub.execute_input": "2025-04-29T18:32:30.062030Z",
     "iopub.status.busy": "2025-04-29T18:32:30.061672Z",
     "iopub.status.idle": "2025-04-29T18:32:30.063943Z",
     "shell.execute_reply": "2025-04-29T18:32:30.063552Z"
    },
    "nbsphinx": "hidden",
    "papermill": {
     "duration": 0.005062,
     "end_time": "2025-04-29T18:32:30.064950",
     "exception": false,
     "start_time": "2025-04-29T18:32:30.059888",
     "status": "completed"
    },
    "tags": [
     "parameters"
    ]
   },
   "outputs": [],
   "source": [
    "func_name = \"TbAbs\"\n",
    "\n",
    "positive_prior = False\n"
   ]
  },
  {
   "cell_type": "code",
   "execution_count": 3,
   "id": "709e48c0",
   "metadata": {
    "execution": {
     "iopub.execute_input": "2025-04-29T18:32:30.067393Z",
     "iopub.status.busy": "2025-04-29T18:32:30.067263Z",
     "iopub.status.idle": "2025-04-29T18:32:30.073551Z",
     "shell.execute_reply": "2025-04-29T18:32:30.073133Z"
    },
    "papermill": {
     "duration": 0.008687,
     "end_time": "2025-04-29T18:32:30.074636",
     "exception": false,
     "start_time": "2025-04-29T18:32:30.065949",
     "status": "completed"
    },
    "tags": [
     "injected-parameters"
    ]
   },
   "outputs": [],
   "source": [
    "# Parameters\n",
    "func_name = \"Uniform_prior\"\n",
    "positive_prior = False\n"
   ]
  },
  {
   "cell_type": "code",
   "execution_count": 4,
   "id": "cd360d8b",
   "metadata": {
    "execution": {
     "iopub.execute_input": "2025-04-29T18:32:30.077095Z",
     "iopub.status.busy": "2025-04-29T18:32:30.076964Z",
     "iopub.status.idle": "2025-04-29T18:32:30.085755Z",
     "shell.execute_reply": "2025-04-29T18:32:30.085385Z"
    },
    "lines_to_next_cell": 0,
    "nbsphinx": "hidden",
    "papermill": {
     "duration": 0.011243,
     "end_time": "2025-04-29T18:32:30.086862",
     "exception": false,
     "start_time": "2025-04-29T18:32:30.075619",
     "status": "completed"
    },
    "tags": []
   },
   "outputs": [],
   "source": [
    "func = _known_functions[func_name]()\n",
    "\n",
    "if not positive_prior:\n",
    "\n",
    "\tenergy_grid = np.linspace(-5,5,1000)\n",
    "\n",
    "else:\n",
    "    \n",
    "    energy_grid = np.linspace(0,1,1000)\n",
    "    \n",
    "    \n",
    "    \n",
    "    \n",
    "blue = \"#4152E3\"\n",
    "red = \"#E3414B\"\n",
    "green = \"#41E39E\""
   ]
  },
  {
   "cell_type": "markdown",
   "id": "eed0a79d",
   "metadata": {
    "lines_to_next_cell": 0,
    "papermill": {
     "duration": 0.001015,
     "end_time": "2025-04-29T18:32:30.088937",
     "exception": false,
     "start_time": "2025-04-29T18:32:30.087922",
     "status": "completed"
    },
    "tags": []
   },
   "source": [
    "## Description"
   ]
  },
  {
   "cell_type": "code",
   "execution_count": 5,
   "id": "a5d2737b",
   "metadata": {
    "execution": {
     "iopub.execute_input": "2025-04-29T18:32:30.091460Z",
     "iopub.status.busy": "2025-04-29T18:32:30.091324Z",
     "iopub.status.idle": "2025-04-29T18:32:30.101600Z",
     "shell.execute_reply": "2025-04-29T18:32:30.101184Z"
    },
    "papermill": {
     "duration": 0.012742,
     "end_time": "2025-04-29T18:32:30.102679",
     "exception": false,
     "start_time": "2025-04-29T18:32:30.089937",
     "status": "completed"
    },
    "tags": []
   },
   "outputs": [
    {
     "data": {
      "text/html": [
       "<ul>\n",
       "\n",
       "<li>description: A function which is constant on the interval lower_bound - upper_bound and 0 outside the interval. The extremes of the interval are counted as part of the interval.</li>\n",
       "\n",
       "<li>formula: $ f(x)=\\begin{cases}0 & x < \\text{lower_bound} \\\\\\text{value} & \\text{lower_bound} \\le x \\le \\text{upper_bound} \\\\ 0 & x > \\text{upper_bound} \\end{cases}$</li>\n",
       "\n",
       "<li>parameters: \n",
       "<ul>\n",
       "\n",
       "<li>lower_bound: \n",
       "<ul>\n",
       "\n",
       "<li>value: 0.0</li>\n",
       "\n",
       "<li>desc: Lower bound for the interval</li>\n",
       "\n",
       "<li>min_value: -inf</li>\n",
       "\n",
       "<li>max_value: inf</li>\n",
       "\n",
       "<li>unit: </li>\n",
       "\n",
       "<li>is_normalization: False</li>\n",
       "\n",
       "<li>delta: 0.1</li>\n",
       "\n",
       "<li>free: True</li>\n",
       "\n",
       "</ul>\n",
       "\n",
       "</li>\n",
       "\n",
       "<li>upper_bound: \n",
       "<ul>\n",
       "\n",
       "<li>value: 1.0</li>\n",
       "\n",
       "<li>desc: Upper bound for the interval</li>\n",
       "\n",
       "<li>min_value: -inf</li>\n",
       "\n",
       "<li>max_value: inf</li>\n",
       "\n",
       "<li>unit: </li>\n",
       "\n",
       "<li>is_normalization: False</li>\n",
       "\n",
       "<li>delta: 0.1</li>\n",
       "\n",
       "<li>free: True</li>\n",
       "\n",
       "</ul>\n",
       "\n",
       "</li>\n",
       "\n",
       "<li>value: \n",
       "<ul>\n",
       "\n",
       "<li>value: 1.0</li>\n",
       "\n",
       "<li>desc: Value in the interval</li>\n",
       "\n",
       "<li>min_value: None</li>\n",
       "\n",
       "<li>max_value: None</li>\n",
       "\n",
       "<li>unit: </li>\n",
       "\n",
       "<li>is_normalization: False</li>\n",
       "\n",
       "<li>delta: 0.1</li>\n",
       "\n",
       "<li>free: True</li>\n",
       "\n",
       "</ul>\n",
       "\n",
       "</li>\n",
       "\n",
       "</ul>\n",
       "\n",
       "</li>\n",
       "\n",
       "</ul>\n"
      ],
      "text/plain": [
       "  * description: A function which is constant on the interval lower_bound - upper_bound\n",
       "    * and 0 outside the interval. The extremes of the interval are counted as part of\n",
       "    * the interval.\n",
       "  * formula: $ f(x)=\\begin{cases}0 & x < \\text{lower_bound} \\\\\\text{value} & \\text{lower_bound}\n",
       "    * \\le x \\le \\text{upper_bound} \\\\ 0 & x > \\text{upper_bound} \\end{cases}$\n",
       "  * parameters:\n",
       "    * lower_bound:\n",
       "      * value: 0.0\n",
       "      * desc: Lower bound for the interval\n",
       "      * min_value: -.inf\n",
       "      * max_value: .inf\n",
       "      * unit: ''\n",
       "      * is_normalization: false\n",
       "      * delta: 0.1\n",
       "      * free: true\n",
       "    * upper_bound:\n",
       "      * value: 1.0\n",
       "      * desc: Upper bound for the interval\n",
       "      * min_value: -.inf\n",
       "      * max_value: .inf\n",
       "      * unit: ''\n",
       "      * is_normalization: false\n",
       "      * delta: 0.1\n",
       "      * free: true\n",
       "    * value:\n",
       "      * value: 1.0\n",
       "      * desc: Value in the interval\n",
       "      * min_value: null\n",
       "      * max_value: null\n",
       "      * unit: ''\n",
       "      * is_normalization: false\n",
       "      * delta: 0.1\n",
       "      * free: true"
      ]
     },
     "metadata": {},
     "output_type": "display_data"
    }
   ],
   "source": [
    "func.display()"
   ]
  },
  {
   "cell_type": "markdown",
   "id": "54d989e0",
   "metadata": {
    "papermill": {
     "duration": 0.001088,
     "end_time": "2025-04-29T18:32:30.105001",
     "exception": false,
     "start_time": "2025-04-29T18:32:30.103913",
     "status": "completed"
    },
    "tags": []
   },
   "source": [
    "## Shape \n",
    "\n",
    "The shape of the function. \n",
    "\n",
    "*If this is not a photon model but a prior or linear function then ignore the units as these docs are auto-generated*"
   ]
  },
  {
   "cell_type": "code",
   "execution_count": 6,
   "id": "2725d047",
   "metadata": {
    "execution": {
     "iopub.execute_input": "2025-04-29T18:32:30.107684Z",
     "iopub.status.busy": "2025-04-29T18:32:30.107542Z",
     "iopub.status.idle": "2025-04-29T18:32:30.176127Z",
     "shell.execute_reply": "2025-04-29T18:32:30.175794Z"
    },
    "papermill": {
     "duration": 0.071298,
     "end_time": "2025-04-29T18:32:30.177334",
     "exception": false,
     "start_time": "2025-04-29T18:32:30.106036",
     "status": "completed"
    },
    "tags": [
     "nbsphinx-thumbnail"
    ]
   },
   "outputs": [
    {
     "data": {
      "text/plain": [
       "Text(0, 0.5, 'probability')"
      ]
     },
     "execution_count": 6,
     "metadata": {},
     "output_type": "execute_result"
    },
    {
     "data": {
      "image/png": "[encoded data removed]",
      "text/plain": [
       "<Figure size 1040x910 with 1 Axes>"
      ]
     },
     "metadata": {},
     "output_type": "display_data"
    }
   ],
   "source": [
    "fig, ax = plt.subplots()\n",
    "\n",
    "\n",
    "ax.plot(energy_grid, func(energy_grid), color=blue, lw=3)\n",
    "\n",
    "ax.set_xlabel(\"x\")\n",
    "ax.set_ylabel(\"probability\")\n"
   ]
  },
  {
   "cell_type": "markdown",
   "id": "f111e1af",
   "metadata": {
    "papermill": {
     "duration": 0.001316,
     "end_time": "2025-04-29T18:32:30.180251",
     "exception": false,
     "start_time": "2025-04-29T18:32:30.178935",
     "status": "completed"
    },
    "tags": []
   },
   "source": [
    "## Random Number Generation\n",
    "\n",
    "This is how we can generate random numbers from the prior.\n"
   ]
  },
  {
   "cell_type": "code",
   "execution_count": 7,
   "id": "3091b54a",
   "metadata": {
    "execution": {
     "iopub.execute_input": "2025-04-29T18:32:30.183560Z",
     "iopub.status.busy": "2025-04-29T18:32:30.183419Z",
     "iopub.status.idle": "2025-04-29T18:32:30.279051Z",
     "shell.execute_reply": "2025-04-29T18:32:30.278649Z"
    },
    "papermill": {
     "duration": 0.0986,
     "end_time": "2025-04-29T18:32:30.280137",
     "exception": false,
     "start_time": "2025-04-29T18:32:30.181537",
     "status": "completed"
    },
    "tags": []
   },
   "outputs": [
    {
     "data": {
      "text/plain": [
       "Text(0, 0.5, 'N')"
      ]
     },
     "execution_count": 7,
     "metadata": {},
     "output_type": "execute_result"
    },
    {
     "data": {
      "image/png": "[encoded data removed]",
      "text/plain": [
       "<Figure size 1040x910 with 1 Axes>"
      ]
     },
     "metadata": {},
     "output_type": "display_data"
    }
   ],
   "source": [
    "\n",
    "\n",
    "u = np.random.uniform(0,1, size=5000)\n",
    "\n",
    "draws = [func.from_unit_cube(x) for x in u]\n",
    "\n",
    "\n",
    "fig, ax = plt.subplots()\n",
    "\n",
    "\n",
    "ax.hist(draws, color=green, bins=50)\n",
    "\n",
    "ax.set_xlabel(\"value\")\n",
    "ax.set_ylabel(\"N\")\n",
    "\n"
   ]
  }
 ],
 "metadata": {
  "jupytext": {
   "formats": "ipynb,md"
  },
  "kernelspec": {
   "display_name": "Python 3 (ipykernel)",
   "language": "python",
   "name": "python3"
  },
  "language_info": {
   "codemirror_mode": {
    "name": "ipython",
    "version": 3
   },
   "file_extension": ".py",
   "mimetype": "text/x-python",
   "name": "python",
   "nbconvert_exporter": "python",
   "pygments_lexer": "ipython3",
   "version": "3.9.13"
  },
  "papermill": {
   "default_parameters": {},
   "duration": 2.519629,
   "end_time": "2025-04-29T18:32:30.610308",
   "environment_variables": {},
   "exception": null,
   "input_path": "Uniform_prior.ipynb",
   "output_path": "/Users/runner/work/astromodels/astromodels/docs/notebooks/Uniform_prior.ipynb",
   "parameters": {
    "func_name": "Uniform_prior",
    "positive_prior": false
   },
   "start_time": "2025-04-29T18:32:28.090679",
   "version": "2.6.0"
  }
 },
 "nbformat": 4,
 "nbformat_minor": 5
}
