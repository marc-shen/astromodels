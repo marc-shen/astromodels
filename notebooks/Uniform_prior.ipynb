{
 "cells": [
  {
   "cell_type": "markdown",
   "id": "c04cfaee",
   "metadata": {
    "papermill": {
     "duration": 0.003621,
     "end_time": "2023-11-01T22:36:47.511134",
     "exception": false,
     "start_time": "2023-11-01T22:36:47.507513",
     "status": "completed"
    },
    "tags": []
   },
   "source": [
    "# Uniform prior"
   ]
  },
  {
   "cell_type": "code",
   "execution_count": 1,
   "id": "da82b4c6",
   "metadata": {
    "execution": {
     "iopub.execute_input": "2023-11-01T22:36:47.519039Z",
     "iopub.status.busy": "2023-11-01T22:36:47.518546Z",
     "iopub.status.idle": "2023-11-01T22:36:50.739229Z",
     "shell.execute_reply": "2023-11-01T22:36:50.737243Z"
    },
    "nbsphinx": "hidden",
    "papermill": {
     "duration": 3.230718,
     "end_time": "2023-11-01T22:36:50.744738",
     "exception": false,
     "start_time": "2023-11-01T22:36:47.514020",
     "status": "completed"
    },
    "tags": []
   },
   "outputs": [],
   "source": [
    "%%capture\n",
    "\n",
    "import numpy as np\n",
    "\n",
    "import matplotlib.pyplot as plt\n",
    "\n",
    "import warnings\n",
    "warnings.simplefilter(\"ignore\")\n",
    "\n",
    "from astromodels.functions.function import _known_functions\n",
    "\n",
    "\n",
    "from jupyterthemes import jtplot\n",
    "jtplot.style(context=\"talk\", fscale=1, ticks=True, grid=False)\n",
    "%matplotlib inline"
   ]
  },
  {
   "cell_type": "code",
   "execution_count": 2,
   "id": "5d7b66cb",
   "metadata": {
    "execution": {
     "iopub.execute_input": "2023-11-01T22:36:50.753237Z",
     "iopub.status.busy": "2023-11-01T22:36:50.752741Z",
     "iopub.status.idle": "2023-11-01T22:36:50.763609Z",
     "shell.execute_reply": "2023-11-01T22:36:50.761864Z"
    },
    "nbsphinx": "hidden",
    "papermill": {
     "duration": 0.020923,
     "end_time": "2023-11-01T22:36:50.768852",
     "exception": false,
     "start_time": "2023-11-01T22:36:50.747929",
     "status": "completed"
    },
    "tags": [
     "parameters"
    ]
   },
   "outputs": [],
   "source": [
    "func_name = \"TbAbs\"\n",
    "\n",
    "positive_prior = False\n"
   ]
  },
  {
   "cell_type": "code",
   "execution_count": 3,
   "id": "7f5e0d1c",
   "metadata": {
    "execution": {
     "iopub.execute_input": "2023-11-01T22:36:50.777350Z",
     "iopub.status.busy": "2023-11-01T22:36:50.776927Z",
     "iopub.status.idle": "2023-11-01T22:36:50.784072Z",
     "shell.execute_reply": "2023-11-01T22:36:50.782401Z"
    },
    "papermill": {
     "duration": 0.017636,
     "end_time": "2023-11-01T22:36:50.789350",
     "exception": false,
     "start_time": "2023-11-01T22:36:50.771714",
     "status": "completed"
    },
    "tags": [
     "injected-parameters"
    ]
   },
   "outputs": [],
   "source": [
    "# Parameters\n",
    "func_name = \"Uniform_prior\"\n",
    "positive_prior = False\n"
   ]
  },
  {
   "cell_type": "code",
   "execution_count": 4,
   "id": "b0d08470",
   "metadata": {
    "execution": {
     "iopub.execute_input": "2023-11-01T22:36:50.797770Z",
     "iopub.status.busy": "2023-11-01T22:36:50.797221Z",
     "iopub.status.idle": "2023-11-01T22:36:50.810077Z",
     "shell.execute_reply": "2023-11-01T22:36:50.806282Z"
    },
    "lines_to_next_cell": 0,
    "nbsphinx": "hidden",
    "papermill": {
     "duration": 0.023694,
     "end_time": "2023-11-01T22:36:50.815753",
     "exception": false,
     "start_time": "2023-11-01T22:36:50.792059",
     "status": "completed"
    },
    "tags": []
   },
   "outputs": [],
   "source": [
    "func = _known_functions[func_name]()\n",
    "\n",
    "if not positive_prior:\n",
    "\n",
    "\tenergy_grid = np.linspace(-5,5,1000)\n",
    "\n",
    "else:\n",
    "    \n",
    "    energy_grid = np.linspace(0,1,1000)\n",
    "    \n",
    "    \n",
    "    \n",
    "    \n",
    "blue = \"#4152E3\"\n",
    "red = \"#E3414B\"\n",
    "green = \"#41E39E\""
   ]
  },
  {
   "cell_type": "markdown",
   "id": "fecebcf5",
   "metadata": {
    "lines_to_next_cell": 0,
    "papermill": {
     "duration": 0.006199,
     "end_time": "2023-11-01T22:36:50.826192",
     "exception": false,
     "start_time": "2023-11-01T22:36:50.819993",
     "status": "completed"
    },
    "tags": []
   },
   "source": [
    "## Description"
   ]
  },
  {
   "cell_type": "code",
   "execution_count": 5,
   "id": "8c0a8278",
   "metadata": {
    "execution": {
     "iopub.execute_input": "2023-11-01T22:36:50.836885Z",
     "iopub.status.busy": "2023-11-01T22:36:50.836338Z",
     "iopub.status.idle": "2023-11-01T22:36:50.856550Z",
     "shell.execute_reply": "2023-11-01T22:36:50.853675Z"
    },
    "papermill": {
     "duration": 0.032443,
     "end_time": "2023-11-01T22:36:50.862668",
     "exception": false,
     "start_time": "2023-11-01T22:36:50.830225",
     "status": "completed"
    },
    "tags": []
   },
   "outputs": [
    {
     "data": {
      "text/html": [
       "<ul>\n",
       "\n",
       "<li>description: A function which is constant on the interval lower_bound - upper_bound and 0 outside the interval. The extremes of the interval are counted as part of the interval.</li>\n",
       "\n",
       "<li>formula: $ f(x)=\\begin{cases}0 & x < \\text{lower_bound} \\\\\\text{value} & \\text{lower_bound} \\le x \\le \\text{upper_bound} \\\\ 0 & x > \\text{upper_bound} \\end{cases}$</li>\n",
       "\n",
       "<li>parameters: \n",
       "<ul>\n",
       "\n",
       "<li>lower_bound: \n",
       "<ul>\n",
       "\n",
       "<li>value: 0.0</li>\n",
       "\n",
       "<li>desc: Lower bound for the interval</li>\n",
       "\n",
       "<li>min_value: -inf</li>\n",
       "\n",
       "<li>max_value: inf</li>\n",
       "\n",
       "<li>unit: </li>\n",
       "\n",
       "<li>is_normalization: False</li>\n",
       "\n",
       "<li>delta: 0.1</li>\n",
       "\n",
       "<li>free: True</li>\n",
       "\n",
       "</ul>\n",
       "\n",
       "</li>\n",
       "\n",
       "<li>upper_bound: \n",
       "<ul>\n",
       "\n",
       "<li>value: 1.0</li>\n",
       "\n",
       "<li>desc: Upper bound for the interval</li>\n",
       "\n",
       "<li>min_value: -inf</li>\n",
       "\n",
       "<li>max_value: inf</li>\n",
       "\n",
       "<li>unit: </li>\n",
       "\n",
       "<li>is_normalization: False</li>\n",
       "\n",
       "<li>delta: 0.1</li>\n",
       "\n",
       "<li>free: True</li>\n",
       "\n",
       "</ul>\n",
       "\n",
       "</li>\n",
       "\n",
       "<li>value: \n",
       "<ul>\n",
       "\n",
       "<li>value: 1.0</li>\n",
       "\n",
       "<li>desc: Value in the interval</li>\n",
       "\n",
       "<li>min_value: None</li>\n",
       "\n",
       "<li>max_value: None</li>\n",
       "\n",
       "<li>unit: </li>\n",
       "\n",
       "<li>is_normalization: False</li>\n",
       "\n",
       "<li>delta: 0.1</li>\n",
       "\n",
       "<li>free: True</li>\n",
       "\n",
       "</ul>\n",
       "\n",
       "</li>\n",
       "\n",
       "</ul>\n",
       "\n",
       "</li>\n",
       "\n",
       "</ul>\n"
      ],
      "text/plain": [
       "  * description: A function which is constant on the interval lower_bound - upper_bound\n",
       "    * and 0 outside the interval. The extremes of the interval are counted as part of\n",
       "    * the interval.\n",
       "  * formula: $ f(x)=\\begin{cases}0 & x < \\text{lower_bound} \\\\\\text{value} & \\text{lower_bound}\n",
       "    * \\le x \\le \\text{upper_bound} \\\\ 0 & x > \\text{upper_bound} \\end{cases}$\n",
       "  * parameters:\n",
       "    * lower_bound:\n",
       "      * value: 0.0\n",
       "      * desc: Lower bound for the interval\n",
       "      * min_value: -.inf\n",
       "      * max_value: .inf\n",
       "      * unit: ''\n",
       "      * is_normalization: false\n",
       "      * delta: 0.1\n",
       "      * free: true\n",
       "    * upper_bound:\n",
       "      * value: 1.0\n",
       "      * desc: Upper bound for the interval\n",
       "      * min_value: -.inf\n",
       "      * max_value: .inf\n",
       "      * unit: ''\n",
       "      * is_normalization: false\n",
       "      * delta: 0.1\n",
       "      * free: true\n",
       "    * value:\n",
       "      * value: 1.0\n",
       "      * desc: Value in the interval\n",
       "      * min_value: null\n",
       "      * max_value: null\n",
       "      * unit: ''\n",
       "      * is_normalization: false\n",
       "      * delta: 0.1\n",
       "      * free: true"
      ]
     },
     "metadata": {},
     "output_type": "display_data"
    }
   ],
   "source": [
    "func.display()"
   ]
  },
  {
   "cell_type": "markdown",
   "id": "75a027ab",
   "metadata": {
    "papermill": {
     "duration": 0.004949,
     "end_time": "2023-11-01T22:36:50.873047",
     "exception": false,
     "start_time": "2023-11-01T22:36:50.868098",
     "status": "completed"
    },
    "tags": []
   },
   "source": [
    "## Shape \n",
    "\n",
    "The shape of the function. \n",
    "\n",
    "*If this is not a photon model but a prior or linear function then ignore the units as these docs are auto-generated*"
   ]
  },
  {
   "cell_type": "code",
   "execution_count": 6,
   "id": "75e61e78",
   "metadata": {
    "execution": {
     "iopub.execute_input": "2023-11-01T22:36:50.884523Z",
     "iopub.status.busy": "2023-11-01T22:36:50.883967Z",
     "iopub.status.idle": "2023-11-01T22:36:51.278335Z",
     "shell.execute_reply": "2023-11-01T22:36:51.276722Z"
    },
    "papermill": {
     "duration": 0.407858,
     "end_time": "2023-11-01T22:36:51.285727",
     "exception": false,
     "start_time": "2023-11-01T22:36:50.877869",
     "status": "completed"
    },
    "tags": [
     "nbsphinx-thumbnail"
    ]
   },
   "outputs": [
    {
     "data": {
      "text/plain": [
       "Text(0, 0.5, 'probability')"
      ]
     },
     "execution_count": 6,
     "metadata": {},
     "output_type": "execute_result"
    },
    {
     "data": {
      "image/png": "[encoded data removed]",
      "text/plain": [
       "<Figure size 1040x910 with 1 Axes>"
      ]
     },
     "metadata": {},
     "output_type": "display_data"
    }
   ],
   "source": [
    "fig, ax = plt.subplots()\n",
    "\n",
    "\n",
    "ax.plot(energy_grid, func(energy_grid), color=blue, lw=3)\n",
    "\n",
    "ax.set_xlabel(\"x\")\n",
    "ax.set_ylabel(\"probability\")\n"
   ]
  },
  {
   "cell_type": "markdown",
   "id": "e9007f2f",
   "metadata": {
    "papermill": {
     "duration": 0.005323,
     "end_time": "2023-11-01T22:36:51.294498",
     "exception": false,
     "start_time": "2023-11-01T22:36:51.289175",
     "status": "completed"
    },
    "tags": []
   },
   "source": [
    "## Random Number Generation\n",
    "\n",
    "This is how we can generate random numbers from the prior.\n"
   ]
  },
  {
   "cell_type": "code",
   "execution_count": 7,
   "id": "4315c830",
   "metadata": {
    "execution": {
     "iopub.execute_input": "2023-11-01T22:36:51.304474Z",
     "iopub.status.busy": "2023-11-01T22:36:51.303909Z",
     "iopub.status.idle": "2023-11-01T22:36:51.679433Z",
     "shell.execute_reply": "2023-11-01T22:36:51.678016Z"
    },
    "papermill": {
     "duration": 0.385147,
     "end_time": "2023-11-01T22:36:51.683381",
     "exception": false,
     "start_time": "2023-11-01T22:36:51.298234",
     "status": "completed"
    },
    "tags": []
   },
   "outputs": [
    {
     "data": {
      "text/plain": [
       "Text(0, 0.5, 'N')"
      ]
     },
     "execution_count": 7,
     "metadata": {},
     "output_type": "execute_result"
    },
    {
     "data": {
      "image/png": "[encoded data removed]",
      "text/plain": [
       "<Figure size 1040x910 with 1 Axes>"
      ]
     },
     "metadata": {},
     "output_type": "display_data"
    }
   ],
   "source": [
    "\n",
    "\n",
    "u = np.random.uniform(0,1, size=5000)\n",
    "\n",
    "draws = [func.from_unit_cube(x) for x in u]\n",
    "\n",
    "\n",
    "fig, ax = plt.subplots()\n",
    "\n",
    "\n",
    "ax.hist(draws, color=green, bins=50)\n",
    "\n",
    "ax.set_xlabel(\"value\")\n",
    "ax.set_ylabel(\"N\")\n",
    "\n"
   ]
  }
 ],
 "metadata": {
  "jupytext": {
   "formats": "ipynb,md"
  },
  "kernelspec": {
   "display_name": "Python 3 (ipykernel)",
   "language": "python",
   "name": "python3"
  },
  "language_info": {
   "codemirror_mode": {
    "name": "ipython",
    "version": 3
   },
   "file_extension": ".py",
   "mimetype": "text/x-python",
   "name": "python",
   "nbconvert_exporter": "python",
   "pygments_lexer": "ipython3",
   "version": "3.9.18"
  },
  "papermill": {
   "default_parameters": {},
   "duration": 6.534256,
   "end_time": "2023-11-01T22:36:52.759190",
   "environment_variables": {},
   "exception": null,
   "input_path": "Uniform_prior.ipynb",
   "output_path": "/Users/runner/work/astromodels/astromodels/docs/notebooks/Uniform_prior.ipynb",
   "parameters": {
    "func_name": "Uniform_prior",
    "positive_prior": false
   },
   "start_time": "2023-11-01T22:36:46.224934",
   "version": "2.4.0"
  }
 },
 "nbformat": 4,
 "nbformat_minor": 5
}
