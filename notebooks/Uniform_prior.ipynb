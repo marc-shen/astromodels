{
 "cells": [
  {
   "cell_type": "markdown",
   "id": "b765c436",
   "metadata": {
    "papermill": {
     "duration": 0.004706,
     "end_time": "2024-05-08T19:22:48.867973",
     "exception": false,
     "start_time": "2024-05-08T19:22:48.863267",
     "status": "completed"
    },
    "tags": []
   },
   "source": [
    "# Uniform prior"
   ]
  },
  {
   "cell_type": "code",
   "execution_count": 1,
   "id": "d361a6e8",
   "metadata": {
    "execution": {
     "iopub.execute_input": "2024-05-08T19:22:48.880803Z",
     "iopub.status.busy": "2024-05-08T19:22:48.880243Z",
     "iopub.status.idle": "2024-05-08T19:22:50.421563Z",
     "shell.execute_reply": "2024-05-08T19:22:50.421004Z"
    },
    "nbsphinx": "hidden",
    "papermill": {
     "duration": 1.549623,
     "end_time": "2024-05-08T19:22:50.423194",
     "exception": false,
     "start_time": "2024-05-08T19:22:48.873571",
     "status": "completed"
    },
    "tags": []
   },
   "outputs": [],
   "source": [
    "%%capture\n",
    "\n",
    "import numpy as np\n",
    "\n",
    "import matplotlib.pyplot as plt\n",
    "\n",
    "import warnings\n",
    "warnings.simplefilter(\"ignore\")\n",
    "\n",
    "from astromodels.functions.function import _known_functions\n",
    "\n",
    "\n",
    "from jupyterthemes import jtplot\n",
    "jtplot.style(context=\"talk\", fscale=1, ticks=True, grid=False)\n",
    "%matplotlib inline"
   ]
  },
  {
   "cell_type": "code",
   "execution_count": 2,
   "id": "3051cf07",
   "metadata": {
    "execution": {
     "iopub.execute_input": "2024-05-08T19:22:50.426809Z",
     "iopub.status.busy": "2024-05-08T19:22:50.426470Z",
     "iopub.status.idle": "2024-05-08T19:22:50.432821Z",
     "shell.execute_reply": "2024-05-08T19:22:50.432345Z"
    },
    "nbsphinx": "hidden",
    "papermill": {
     "duration": 0.009804,
     "end_time": "2024-05-08T19:22:50.434236",
     "exception": false,
     "start_time": "2024-05-08T19:22:50.424432",
     "status": "completed"
    },
    "tags": [
     "parameters"
    ]
   },
   "outputs": [],
   "source": [
    "func_name = \"TbAbs\"\n",
    "\n",
    "positive_prior = False\n"
   ]
  },
  {
   "cell_type": "code",
   "execution_count": 3,
   "id": "ea3e9f01",
   "metadata": {
    "execution": {
     "iopub.execute_input": "2024-05-08T19:22:50.437155Z",
     "iopub.status.busy": "2024-05-08T19:22:50.437004Z",
     "iopub.status.idle": "2024-05-08T19:22:50.445071Z",
     "shell.execute_reply": "2024-05-08T19:22:50.444667Z"
    },
    "papermill": {
     "duration": 0.010962,
     "end_time": "2024-05-08T19:22:50.446387",
     "exception": false,
     "start_time": "2024-05-08T19:22:50.435425",
     "status": "completed"
    },
    "tags": [
     "injected-parameters"
    ]
   },
   "outputs": [],
   "source": [
    "# Parameters\n",
    "func_name = \"Uniform_prior\"\n",
    "positive_prior = False\n"
   ]
  },
  {
   "cell_type": "code",
   "execution_count": 4,
   "id": "66073803",
   "metadata": {
    "execution": {
     "iopub.execute_input": "2024-05-08T19:22:50.449109Z",
     "iopub.status.busy": "2024-05-08T19:22:50.448962Z",
     "iopub.status.idle": "2024-05-08T19:22:50.458094Z",
     "shell.execute_reply": "2024-05-08T19:22:50.457704Z"
    },
    "lines_to_next_cell": 0,
    "nbsphinx": "hidden",
    "papermill": {
     "duration": 0.011984,
     "end_time": "2024-05-08T19:22:50.459404",
     "exception": false,
     "start_time": "2024-05-08T19:22:50.447420",
     "status": "completed"
    },
    "tags": []
   },
   "outputs": [],
   "source": [
    "func = _known_functions[func_name]()\n",
    "\n",
    "if not positive_prior:\n",
    "\n",
    "\tenergy_grid = np.linspace(-5,5,1000)\n",
    "\n",
    "else:\n",
    "    \n",
    "    energy_grid = np.linspace(0,1,1000)\n",
    "    \n",
    "    \n",
    "    \n",
    "    \n",
    "blue = \"#4152E3\"\n",
    "red = \"#E3414B\"\n",
    "green = \"#41E39E\""
   ]
  },
  {
   "cell_type": "markdown",
   "id": "d2714231",
   "metadata": {
    "lines_to_next_cell": 0,
    "papermill": {
     "duration": 0.001019,
     "end_time": "2024-05-08T19:22:50.461526",
     "exception": false,
     "start_time": "2024-05-08T19:22:50.460507",
     "status": "completed"
    },
    "tags": []
   },
   "source": [
    "## Description"
   ]
  },
  {
   "cell_type": "code",
   "execution_count": 5,
   "id": "68a021bb",
   "metadata": {
    "execution": {
     "iopub.execute_input": "2024-05-08T19:22:50.464110Z",
     "iopub.status.busy": "2024-05-08T19:22:50.463970Z",
     "iopub.status.idle": "2024-05-08T19:22:50.468245Z",
     "shell.execute_reply": "2024-05-08T19:22:50.467891Z"
    },
    "papermill": {
     "duration": 0.006934,
     "end_time": "2024-05-08T19:22:50.469437",
     "exception": false,
     "start_time": "2024-05-08T19:22:50.462503",
     "status": "completed"
    },
    "tags": []
   },
   "outputs": [
    {
     "data": {
      "text/html": [
       "<ul>\n",
       "\n",
       "<li>description: A function which is constant on the interval lower_bound - upper_bound and 0 outside the interval. The extremes of the interval are counted as part of the interval.</li>\n",
       "\n",
       "<li>formula: $ f(x)=\\begin{cases}0 & x < \\text{lower_bound} \\\\\\text{value} & \\text{lower_bound} \\le x \\le \\text{upper_bound} \\\\ 0 & x > \\text{upper_bound} \\end{cases}$</li>\n",
       "\n",
       "<li>parameters: \n",
       "<ul>\n",
       "\n",
       "<li>lower_bound: \n",
       "<ul>\n",
       "\n",
       "<li>value: 0.0</li>\n",
       "\n",
       "<li>desc: Lower bound for the interval</li>\n",
       "\n",
       "<li>min_value: -inf</li>\n",
       "\n",
       "<li>max_value: inf</li>\n",
       "\n",
       "<li>unit: </li>\n",
       "\n",
       "<li>is_normalization: False</li>\n",
       "\n",
       "<li>delta: 0.1</li>\n",
       "\n",
       "<li>free: True</li>\n",
       "\n",
       "</ul>\n",
       "\n",
       "</li>\n",
       "\n",
       "<li>upper_bound: \n",
       "<ul>\n",
       "\n",
       "<li>value: 1.0</li>\n",
       "\n",
       "<li>desc: Upper bound for the interval</li>\n",
       "\n",
       "<li>min_value: -inf</li>\n",
       "\n",
       "<li>max_value: inf</li>\n",
       "\n",
       "<li>unit: </li>\n",
       "\n",
       "<li>is_normalization: False</li>\n",
       "\n",
       "<li>delta: 0.1</li>\n",
       "\n",
       "<li>free: True</li>\n",
       "\n",
       "</ul>\n",
       "\n",
       "</li>\n",
       "\n",
       "<li>value: \n",
       "<ul>\n",
       "\n",
       "<li>value: 1.0</li>\n",
       "\n",
       "<li>desc: Value in the interval</li>\n",
       "\n",
       "<li>min_value: None</li>\n",
       "\n",
       "<li>max_value: None</li>\n",
       "\n",
       "<li>unit: </li>\n",
       "\n",
       "<li>is_normalization: False</li>\n",
       "\n",
       "<li>delta: 0.1</li>\n",
       "\n",
       "<li>free: True</li>\n",
       "\n",
       "</ul>\n",
       "\n",
       "</li>\n",
       "\n",
       "</ul>\n",
       "\n",
       "</li>\n",
       "\n",
       "</ul>\n"
      ],
      "text/plain": [
       "  * description: A function which is constant on the interval lower_bound - upper_bound\n",
       "    * and 0 outside the interval. The extremes of the interval are counted as part of\n",
       "    * the interval.\n",
       "  * formula: $ f(x)=\\begin{cases}0 & x < \\text{lower_bound} \\\\\\text{value} & \\text{lower_bound}\n",
       "    * \\le x \\le \\text{upper_bound} \\\\ 0 & x > \\text{upper_bound} \\end{cases}$\n",
       "  * parameters:\n",
       "    * lower_bound:\n",
       "      * value: 0.0\n",
       "      * desc: Lower bound for the interval\n",
       "      * min_value: -.inf\n",
       "      * max_value: .inf\n",
       "      * unit: ''\n",
       "      * is_normalization: false\n",
       "      * delta: 0.1\n",
       "      * free: true\n",
       "    * upper_bound:\n",
       "      * value: 1.0\n",
       "      * desc: Upper bound for the interval\n",
       "      * min_value: -.inf\n",
       "      * max_value: .inf\n",
       "      * unit: ''\n",
       "      * is_normalization: false\n",
       "      * delta: 0.1\n",
       "      * free: true\n",
       "    * value:\n",
       "      * value: 1.0\n",
       "      * desc: Value in the interval\n",
       "      * min_value: null\n",
       "      * max_value: null\n",
       "      * unit: ''\n",
       "      * is_normalization: false\n",
       "      * delta: 0.1\n",
       "      * free: true"
      ]
     },
     "metadata": {},
     "output_type": "display_data"
    }
   ],
   "source": [
    "func.display()"
   ]
  },
  {
   "cell_type": "markdown",
   "id": "5164837a",
   "metadata": {
    "papermill": {
     "duration": 0.001243,
     "end_time": "2024-05-08T19:22:50.471808",
     "exception": false,
     "start_time": "2024-05-08T19:22:50.470565",
     "status": "completed"
    },
    "tags": []
   },
   "source": [
    "## Shape \n",
    "\n",
    "The shape of the function. \n",
    "\n",
    "*If this is not a photon model but a prior or linear function then ignore the units as these docs are auto-generated*"
   ]
  },
  {
   "cell_type": "code",
   "execution_count": 6,
   "id": "1c4f069f",
   "metadata": {
    "execution": {
     "iopub.execute_input": "2024-05-08T19:22:50.475001Z",
     "iopub.status.busy": "2024-05-08T19:22:50.474841Z",
     "iopub.status.idle": "2024-05-08T19:22:50.570535Z",
     "shell.execute_reply": "2024-05-08T19:22:50.570197Z"
    },
    "papermill": {
     "duration": 0.098857,
     "end_time": "2024-05-08T19:22:50.571991",
     "exception": false,
     "start_time": "2024-05-08T19:22:50.473134",
     "status": "completed"
    },
    "tags": [
     "nbsphinx-thumbnail"
    ]
   },
   "outputs": [
    {
     "data": {
      "text/plain": [
       "Text(0, 0.5, 'probability')"
      ]
     },
     "execution_count": 6,
     "metadata": {},
     "output_type": "execute_result"
    },
    {
     "data": {
      "image/png": "[encoded data removed]",
      "text/plain": [
       "<Figure size 1040x910 with 1 Axes>"
      ]
     },
     "metadata": {},
     "output_type": "display_data"
    }
   ],
   "source": [
    "fig, ax = plt.subplots()\n",
    "\n",
    "\n",
    "ax.plot(energy_grid, func(energy_grid), color=blue, lw=3)\n",
    "\n",
    "ax.set_xlabel(\"x\")\n",
    "ax.set_ylabel(\"probability\")\n"
   ]
  },
  {
   "cell_type": "markdown",
   "id": "55367959",
   "metadata": {
    "papermill": {
     "duration": 0.001506,
     "end_time": "2024-05-08T19:22:50.576704",
     "exception": false,
     "start_time": "2024-05-08T19:22:50.575198",
     "status": "completed"
    },
    "tags": []
   },
   "source": [
    "## Random Number Generation\n",
    "\n",
    "This is how we can generate random numbers from the prior.\n"
   ]
  },
  {
   "cell_type": "code",
   "execution_count": 7,
   "id": "bf9c0006",
   "metadata": {
    "execution": {
     "iopub.execute_input": "2024-05-08T19:22:50.580866Z",
     "iopub.status.busy": "2024-05-08T19:22:50.580710Z",
     "iopub.status.idle": "2024-05-08T19:22:50.707791Z",
     "shell.execute_reply": "2024-05-08T19:22:50.707409Z"
    },
    "papermill": {
     "duration": 0.130623,
     "end_time": "2024-05-08T19:22:50.709265",
     "exception": false,
     "start_time": "2024-05-08T19:22:50.578642",
     "status": "completed"
    },
    "tags": []
   },
   "outputs": [
    {
     "data": {
      "text/plain": [
       "Text(0, 0.5, 'N')"
      ]
     },
     "execution_count": 7,
     "metadata": {},
     "output_type": "execute_result"
    },
    {
     "data": {
      "image/png": "[encoded data removed]",
      "text/plain": [
       "<Figure size 1040x910 with 1 Axes>"
      ]
     },
     "metadata": {},
     "output_type": "display_data"
    }
   ],
   "source": [
    "\n",
    "\n",
    "u = np.random.uniform(0,1, size=5000)\n",
    "\n",
    "draws = [func.from_unit_cube(x) for x in u]\n",
    "\n",
    "\n",
    "fig, ax = plt.subplots()\n",
    "\n",
    "\n",
    "ax.hist(draws, color=green, bins=50)\n",
    "\n",
    "ax.set_xlabel(\"value\")\n",
    "ax.set_ylabel(\"N\")\n",
    "\n"
   ]
  }
 ],
 "metadata": {
  "jupytext": {
   "formats": "ipynb,md"
  },
  "kernelspec": {
   "display_name": "Python 3 (ipykernel)",
   "language": "python",
   "name": "python3"
  },
  "language_info": {
   "codemirror_mode": {
    "name": "ipython",
    "version": 3
   },
   "file_extension": ".py",
   "mimetype": "text/x-python",
   "name": "python",
   "nbconvert_exporter": "python",
   "pygments_lexer": "ipython3",
   "version": "3.9.13"
  },
  "papermill": {
   "default_parameters": {},
   "duration": 2.773393,
   "end_time": "2024-05-08T19:22:51.138003",
   "environment_variables": {},
   "exception": null,
   "input_path": "Uniform_prior.ipynb",
   "output_path": "/Users/runner/work/astromodels/astromodels/docs/notebooks/Uniform_prior.ipynb",
   "parameters": {
    "func_name": "Uniform_prior",
    "positive_prior": false
   },
   "start_time": "2024-05-08T19:22:48.364610",
   "version": "2.6.0"
  }
 },
 "nbformat": 4,
 "nbformat_minor": 5
}
