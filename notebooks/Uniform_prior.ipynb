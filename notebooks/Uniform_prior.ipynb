{
 "cells": [
  {
   "cell_type": "markdown",
   "id": "3653b5d9",
   "metadata": {
    "papermill": {
     "duration": 0.008884,
     "end_time": "2024-05-08T22:52:09.235452",
     "exception": false,
     "start_time": "2024-05-08T22:52:09.226568",
     "status": "completed"
    },
    "tags": []
   },
   "source": [
    "# Uniform prior"
   ]
  },
  {
   "cell_type": "code",
   "execution_count": 1,
   "id": "5fa8b217",
   "metadata": {
    "execution": {
     "iopub.execute_input": "2024-05-08T22:52:09.249451Z",
     "iopub.status.busy": "2024-05-08T22:52:09.248724Z",
     "iopub.status.idle": "2024-05-08T22:52:10.655755Z",
     "shell.execute_reply": "2024-05-08T22:52:10.655278Z"
    },
    "nbsphinx": "hidden",
    "papermill": {
     "duration": 1.415214,
     "end_time": "2024-05-08T22:52:10.657238",
     "exception": false,
     "start_time": "2024-05-08T22:52:09.242024",
     "status": "completed"
    },
    "tags": []
   },
   "outputs": [],
   "source": [
    "%%capture\n",
    "\n",
    "import numpy as np\n",
    "\n",
    "import matplotlib.pyplot as plt\n",
    "\n",
    "import warnings\n",
    "warnings.simplefilter(\"ignore\")\n",
    "\n",
    "from astromodels.functions.function import _known_functions\n",
    "\n",
    "\n",
    "from jupyterthemes import jtplot\n",
    "jtplot.style(context=\"talk\", fscale=1, ticks=True, grid=False)\n",
    "%matplotlib inline"
   ]
  },
  {
   "cell_type": "code",
   "execution_count": 2,
   "id": "1db1ba6e",
   "metadata": {
    "execution": {
     "iopub.execute_input": "2024-05-08T22:52:10.660767Z",
     "iopub.status.busy": "2024-05-08T22:52:10.660439Z",
     "iopub.status.idle": "2024-05-08T22:52:10.666601Z",
     "shell.execute_reply": "2024-05-08T22:52:10.666207Z"
    },
    "nbsphinx": "hidden",
    "papermill": {
     "duration": 0.009399,
     "end_time": "2024-05-08T22:52:10.667818",
     "exception": false,
     "start_time": "2024-05-08T22:52:10.658419",
     "status": "completed"
    },
    "tags": [
     "parameters"
    ]
   },
   "outputs": [],
   "source": [
    "func_name = \"TbAbs\"\n",
    "\n",
    "positive_prior = False\n"
   ]
  },
  {
   "cell_type": "code",
   "execution_count": 3,
   "id": "a71a514a",
   "metadata": {
    "execution": {
     "iopub.execute_input": "2024-05-08T22:52:10.670402Z",
     "iopub.status.busy": "2024-05-08T22:52:10.670259Z",
     "iopub.status.idle": "2024-05-08T22:52:10.672132Z",
     "shell.execute_reply": "2024-05-08T22:52:10.671762Z"
    },
    "papermill": {
     "duration": 0.004583,
     "end_time": "2024-05-08T22:52:10.673380",
     "exception": false,
     "start_time": "2024-05-08T22:52:10.668797",
     "status": "completed"
    },
    "tags": [
     "injected-parameters"
    ]
   },
   "outputs": [],
   "source": [
    "# Parameters\n",
    "func_name = \"Uniform_prior\"\n",
    "positive_prior = False\n"
   ]
  },
  {
   "cell_type": "code",
   "execution_count": 4,
   "id": "626a6504",
   "metadata": {
    "execution": {
     "iopub.execute_input": "2024-05-08T22:52:10.675891Z",
     "iopub.status.busy": "2024-05-08T22:52:10.675757Z",
     "iopub.status.idle": "2024-05-08T22:52:10.678544Z",
     "shell.execute_reply": "2024-05-08T22:52:10.678172Z"
    },
    "lines_to_next_cell": 0,
    "nbsphinx": "hidden",
    "papermill": {
     "duration": 0.00542,
     "end_time": "2024-05-08T22:52:10.679794",
     "exception": false,
     "start_time": "2024-05-08T22:52:10.674374",
     "status": "completed"
    },
    "tags": []
   },
   "outputs": [],
   "source": [
    "func = _known_functions[func_name]()\n",
    "\n",
    "if not positive_prior:\n",
    "\n",
    "\tenergy_grid = np.linspace(-5,5,1000)\n",
    "\n",
    "else:\n",
    "    \n",
    "    energy_grid = np.linspace(0,1,1000)\n",
    "    \n",
    "    \n",
    "    \n",
    "    \n",
    "blue = \"#4152E3\"\n",
    "red = \"#E3414B\"\n",
    "green = \"#41E39E\""
   ]
  },
  {
   "cell_type": "markdown",
   "id": "e6c08c8d",
   "metadata": {
    "lines_to_next_cell": 0,
    "papermill": {
     "duration": 0.000997,
     "end_time": "2024-05-08T22:52:10.681806",
     "exception": false,
     "start_time": "2024-05-08T22:52:10.680809",
     "status": "completed"
    },
    "tags": []
   },
   "source": [
    "## Description"
   ]
  },
  {
   "cell_type": "code",
   "execution_count": 5,
   "id": "fa0b82ea",
   "metadata": {
    "execution": {
     "iopub.execute_input": "2024-05-08T22:52:10.684401Z",
     "iopub.status.busy": "2024-05-08T22:52:10.684202Z",
     "iopub.status.idle": "2024-05-08T22:52:10.694436Z",
     "shell.execute_reply": "2024-05-08T22:52:10.694079Z"
    },
    "papermill": {
     "duration": 0.012929,
     "end_time": "2024-05-08T22:52:10.695651",
     "exception": false,
     "start_time": "2024-05-08T22:52:10.682722",
     "status": "completed"
    },
    "tags": []
   },
   "outputs": [
    {
     "data": {
      "text/html": [
       "<ul>\n",
       "\n",
       "<li>description: A function which is constant on the interval lower_bound - upper_bound and 0 outside the interval. The extremes of the interval are counted as part of the interval.</li>\n",
       "\n",
       "<li>formula: $ f(x)=\\begin{cases}0 & x < \\text{lower_bound} \\\\\\text{value} & \\text{lower_bound} \\le x \\le \\text{upper_bound} \\\\ 0 & x > \\text{upper_bound} \\end{cases}$</li>\n",
       "\n",
       "<li>parameters: \n",
       "<ul>\n",
       "\n",
       "<li>lower_bound: \n",
       "<ul>\n",
       "\n",
       "<li>value: 0.0</li>\n",
       "\n",
       "<li>desc: Lower bound for the interval</li>\n",
       "\n",
       "<li>min_value: -inf</li>\n",
       "\n",
       "<li>max_value: inf</li>\n",
       "\n",
       "<li>unit: </li>\n",
       "\n",
       "<li>is_normalization: False</li>\n",
       "\n",
       "<li>delta: 0.1</li>\n",
       "\n",
       "<li>free: True</li>\n",
       "\n",
       "</ul>\n",
       "\n",
       "</li>\n",
       "\n",
       "<li>upper_bound: \n",
       "<ul>\n",
       "\n",
       "<li>value: 1.0</li>\n",
       "\n",
       "<li>desc: Upper bound for the interval</li>\n",
       "\n",
       "<li>min_value: -inf</li>\n",
       "\n",
       "<li>max_value: inf</li>\n",
       "\n",
       "<li>unit: </li>\n",
       "\n",
       "<li>is_normalization: False</li>\n",
       "\n",
       "<li>delta: 0.1</li>\n",
       "\n",
       "<li>free: True</li>\n",
       "\n",
       "</ul>\n",
       "\n",
       "</li>\n",
       "\n",
       "<li>value: \n",
       "<ul>\n",
       "\n",
       "<li>value: 1.0</li>\n",
       "\n",
       "<li>desc: Value in the interval</li>\n",
       "\n",
       "<li>min_value: None</li>\n",
       "\n",
       "<li>max_value: None</li>\n",
       "\n",
       "<li>unit: </li>\n",
       "\n",
       "<li>is_normalization: False</li>\n",
       "\n",
       "<li>delta: 0.1</li>\n",
       "\n",
       "<li>free: True</li>\n",
       "\n",
       "</ul>\n",
       "\n",
       "</li>\n",
       "\n",
       "</ul>\n",
       "\n",
       "</li>\n",
       "\n",
       "</ul>\n"
      ],
      "text/plain": [
       "  * description: A function which is constant on the interval lower_bound - upper_bound\n",
       "    * and 0 outside the interval. The extremes of the interval are counted as part of\n",
       "    * the interval.\n",
       "  * formula: $ f(x)=\\begin{cases}0 & x < \\text{lower_bound} \\\\\\text{value} & \\text{lower_bound}\n",
       "    * \\le x \\le \\text{upper_bound} \\\\ 0 & x > \\text{upper_bound} \\end{cases}$\n",
       "  * parameters:\n",
       "    * lower_bound:\n",
       "      * value: 0.0\n",
       "      * desc: Lower bound for the interval\n",
       "      * min_value: -.inf\n",
       "      * max_value: .inf\n",
       "      * unit: ''\n",
       "      * is_normalization: false\n",
       "      * delta: 0.1\n",
       "      * free: true\n",
       "    * upper_bound:\n",
       "      * value: 1.0\n",
       "      * desc: Upper bound for the interval\n",
       "      * min_value: -.inf\n",
       "      * max_value: .inf\n",
       "      * unit: ''\n",
       "      * is_normalization: false\n",
       "      * delta: 0.1\n",
       "      * free: true\n",
       "    * value:\n",
       "      * value: 1.0\n",
       "      * desc: Value in the interval\n",
       "      * min_value: null\n",
       "      * max_value: null\n",
       "      * unit: ''\n",
       "      * is_normalization: false\n",
       "      * delta: 0.1\n",
       "      * free: true"
      ]
     },
     "metadata": {},
     "output_type": "display_data"
    }
   ],
   "source": [
    "func.display()"
   ]
  },
  {
   "cell_type": "markdown",
   "id": "e4c31e3b",
   "metadata": {
    "papermill": {
     "duration": 0.00118,
     "end_time": "2024-05-08T22:52:10.697972",
     "exception": false,
     "start_time": "2024-05-08T22:52:10.696792",
     "status": "completed"
    },
    "tags": []
   },
   "source": [
    "## Shape \n",
    "\n",
    "The shape of the function. \n",
    "\n",
    "*If this is not a photon model but a prior or linear function then ignore the units as these docs are auto-generated*"
   ]
  },
  {
   "cell_type": "code",
   "execution_count": 6,
   "id": "62c36125",
   "metadata": {
    "execution": {
     "iopub.execute_input": "2024-05-08T22:52:10.700676Z",
     "iopub.status.busy": "2024-05-08T22:52:10.700535Z",
     "iopub.status.idle": "2024-05-08T22:52:10.796640Z",
     "shell.execute_reply": "2024-05-08T22:52:10.796303Z"
    },
    "papermill": {
     "duration": 0.099023,
     "end_time": "2024-05-08T22:52:10.798034",
     "exception": false,
     "start_time": "2024-05-08T22:52:10.699011",
     "status": "completed"
    },
    "tags": [
     "nbsphinx-thumbnail"
    ]
   },
   "outputs": [
    {
     "data": {
      "text/plain": [
       "Text(0, 0.5, 'probability')"
      ]
     },
     "execution_count": 6,
     "metadata": {},
     "output_type": "execute_result"
    },
    {
     "data": {
      "image/png": "[encoded data removed]",
      "text/plain": [
       "<Figure size 1040x910 with 1 Axes>"
      ]
     },
     "metadata": {},
     "output_type": "display_data"
    }
   ],
   "source": [
    "fig, ax = plt.subplots()\n",
    "\n",
    "\n",
    "ax.plot(energy_grid, func(energy_grid), color=blue, lw=3)\n",
    "\n",
    "ax.set_xlabel(\"x\")\n",
    "ax.set_ylabel(\"probability\")\n"
   ]
  },
  {
   "cell_type": "markdown",
   "id": "843140f5",
   "metadata": {
    "papermill": {
     "duration": 0.001579,
     "end_time": "2024-05-08T22:52:10.801217",
     "exception": false,
     "start_time": "2024-05-08T22:52:10.799638",
     "status": "completed"
    },
    "tags": []
   },
   "source": [
    "## Random Number Generation\n",
    "\n",
    "This is how we can generate random numbers from the prior.\n"
   ]
  },
  {
   "cell_type": "code",
   "execution_count": 7,
   "id": "03ce8d64",
   "metadata": {
    "execution": {
     "iopub.execute_input": "2024-05-08T22:52:10.804663Z",
     "iopub.status.busy": "2024-05-08T22:52:10.804516Z",
     "iopub.status.idle": "2024-05-08T22:52:10.928226Z",
     "shell.execute_reply": "2024-05-08T22:52:10.927665Z"
    },
    "papermill": {
     "duration": 0.126992,
     "end_time": "2024-05-08T22:52:10.929516",
     "exception": false,
     "start_time": "2024-05-08T22:52:10.802524",
     "status": "completed"
    },
    "tags": []
   },
   "outputs": [
    {
     "data": {
      "text/plain": [
       "Text(0, 0.5, 'N')"
      ]
     },
     "execution_count": 7,
     "metadata": {},
     "output_type": "execute_result"
    },
    {
     "data": {
      "image/png": "[encoded data removed]",
      "text/plain": [
       "<Figure size 1040x910 with 1 Axes>"
      ]
     },
     "metadata": {},
     "output_type": "display_data"
    }
   ],
   "source": [
    "\n",
    "\n",
    "u = np.random.uniform(0,1, size=5000)\n",
    "\n",
    "draws = [func.from_unit_cube(x) for x in u]\n",
    "\n",
    "\n",
    "fig, ax = plt.subplots()\n",
    "\n",
    "\n",
    "ax.hist(draws, color=green, bins=50)\n",
    "\n",
    "ax.set_xlabel(\"value\")\n",
    "ax.set_ylabel(\"N\")\n",
    "\n"
   ]
  }
 ],
 "metadata": {
  "jupytext": {
   "formats": "ipynb,md"
  },
  "kernelspec": {
   "display_name": "Python 3 (ipykernel)",
   "language": "python",
   "name": "python3"
  },
  "language_info": {
   "codemirror_mode": {
    "name": "ipython",
    "version": 3
   },
   "file_extension": ".py",
   "mimetype": "text/x-python",
   "name": "python",
   "nbconvert_exporter": "python",
   "pygments_lexer": "ipython3",
   "version": "3.9.13"
  },
  "papermill": {
   "default_parameters": {},
   "duration": 2.783011,
   "end_time": "2024-05-08T22:52:11.269152",
   "environment_variables": {},
   "exception": null,
   "input_path": "Uniform_prior.ipynb",
   "output_path": "/Users/runner/work/astromodels/astromodels/docs/notebooks/Uniform_prior.ipynb",
   "parameters": {
    "func_name": "Uniform_prior",
    "positive_prior": false
   },
   "start_time": "2024-05-08T22:52:08.486141",
   "version": "2.6.0"
  }
 },
 "nbformat": 4,
 "nbformat_minor": 5
}
