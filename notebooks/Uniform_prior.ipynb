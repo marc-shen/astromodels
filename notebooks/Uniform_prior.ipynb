{
 "cells": [
  {
   "cell_type": "markdown",
   "id": "a588b9a1",
   "metadata": {
    "papermill": {
     "duration": 0.005566,
     "end_time": "2022-10-28T15:06:47.962735",
     "exception": false,
     "start_time": "2022-10-28T15:06:47.957169",
     "status": "completed"
    },
    "tags": []
   },
   "source": [
    "# Uniform prior"
   ]
  },
  {
   "cell_type": "code",
   "execution_count": 1,
   "id": "3a0f3503",
   "metadata": {
    "execution": {
     "iopub.execute_input": "2022-10-28T15:06:47.972117Z",
     "iopub.status.busy": "2022-10-28T15:06:47.971606Z",
     "iopub.status.idle": "2022-10-28T15:06:51.978102Z",
     "shell.execute_reply": "2022-10-28T15:06:51.976761Z"
    },
    "nbsphinx": "hidden",
    "papermill": {
     "duration": 4.015136,
     "end_time": "2022-10-28T15:06:51.981797",
     "exception": false,
     "start_time": "2022-10-28T15:06:47.966661",
     "status": "completed"
    },
    "tags": []
   },
   "outputs": [],
   "source": [
    "%%capture\n",
    "\n",
    "import numpy as np\n",
    "\n",
    "import matplotlib.pyplot as plt\n",
    "\n",
    "import warnings\n",
    "warnings.simplefilter(\"ignore\")\n",
    "\n",
    "from astromodels.functions.function import _known_functions\n",
    "\n",
    "\n",
    "from jupyterthemes import jtplot\n",
    "jtplot.style(context=\"talk\", fscale=1, ticks=True, grid=False)\n",
    "%matplotlib inline"
   ]
  },
  {
   "cell_type": "code",
   "execution_count": 2,
   "id": "553909cf",
   "metadata": {
    "execution": {
     "iopub.execute_input": "2022-10-28T15:06:51.991514Z",
     "iopub.status.busy": "2022-10-28T15:06:51.991080Z",
     "iopub.status.idle": "2022-10-28T15:06:52.002503Z",
     "shell.execute_reply": "2022-10-28T15:06:51.995909Z"
    },
    "nbsphinx": "hidden",
    "papermill": {
     "duration": 0.021218,
     "end_time": "2022-10-28T15:06:52.006471",
     "exception": false,
     "start_time": "2022-10-28T15:06:51.985253",
     "status": "completed"
    },
    "tags": [
     "parameters"
    ]
   },
   "outputs": [],
   "source": [
    "func_name = \"TbAbs\"\n",
    "\n",
    "positive_prior = False\n"
   ]
  },
  {
   "cell_type": "code",
   "execution_count": 3,
   "id": "1507cc29",
   "metadata": {
    "execution": {
     "iopub.execute_input": "2022-10-28T15:06:52.015563Z",
     "iopub.status.busy": "2022-10-28T15:06:52.015010Z",
     "iopub.status.idle": "2022-10-28T15:06:52.020938Z",
     "shell.execute_reply": "2022-10-28T15:06:52.019785Z"
    },
    "papermill": {
     "duration": 0.014314,
     "end_time": "2022-10-28T15:06:52.024299",
     "exception": false,
     "start_time": "2022-10-28T15:06:52.009985",
     "status": "completed"
    },
    "tags": [
     "injected-parameters"
    ]
   },
   "outputs": [],
   "source": [
    "# Parameters\n",
    "func_name = \"Uniform_prior\"\n",
    "positive_prior = False\n"
   ]
  },
  {
   "cell_type": "code",
   "execution_count": 4,
   "id": "d437fc71",
   "metadata": {
    "execution": {
     "iopub.execute_input": "2022-10-28T15:06:52.035185Z",
     "iopub.status.busy": "2022-10-28T15:06:52.033729Z",
     "iopub.status.idle": "2022-10-28T15:06:52.045071Z",
     "shell.execute_reply": "2022-10-28T15:06:52.043021Z"
    },
    "lines_to_next_cell": 0,
    "nbsphinx": "hidden",
    "papermill": {
     "duration": 0.021166,
     "end_time": "2022-10-28T15:06:52.048824",
     "exception": false,
     "start_time": "2022-10-28T15:06:52.027658",
     "status": "completed"
    },
    "tags": []
   },
   "outputs": [],
   "source": [
    "func = _known_functions[func_name]()\n",
    "\n",
    "if not positive_prior:\n",
    "\n",
    "\tenergy_grid = np.linspace(-5,5,1000)\n",
    "\n",
    "else:\n",
    "    \n",
    "    energy_grid = np.linspace(0,1,1000)\n",
    "    \n",
    "    \n",
    "    \n",
    "    \n",
    "blue = \"#4152E3\"\n",
    "red = \"#E3414B\"\n",
    "green = \"#41E39E\""
   ]
  },
  {
   "cell_type": "markdown",
   "id": "c6412eb8",
   "metadata": {
    "lines_to_next_cell": 0,
    "papermill": {
     "duration": 0.004092,
     "end_time": "2022-10-28T15:06:52.057107",
     "exception": false,
     "start_time": "2022-10-28T15:06:52.053015",
     "status": "completed"
    },
    "tags": []
   },
   "source": [
    "## Description"
   ]
  },
  {
   "cell_type": "code",
   "execution_count": 5,
   "id": "56c76f90",
   "metadata": {
    "execution": {
     "iopub.execute_input": "2022-10-28T15:06:52.072085Z",
     "iopub.status.busy": "2022-10-28T15:06:52.070732Z",
     "iopub.status.idle": "2022-10-28T15:06:52.095145Z",
     "shell.execute_reply": "2022-10-28T15:06:52.092078Z"
    },
    "papermill": {
     "duration": 0.037374,
     "end_time": "2022-10-28T15:06:52.098604",
     "exception": false,
     "start_time": "2022-10-28T15:06:52.061230",
     "status": "completed"
    },
    "tags": []
   },
   "outputs": [
    {
     "data": {
      "text/html": [
       "<ul>\n",
       "\n",
       "<li>description: A function which is constant on the interval lower_bound - upper_bound and 0 outside the interval. The extremes of the interval are counted as part of the interval.</li>\n",
       "\n",
       "<li>formula: $ f(x)=\\begin{cases}0 & x < \\text{lower_bound} \\\\\\text{value} & \\text{lower_bound} \\le x \\le \\text{upper_bound} \\\\ 0 & x > \\text{upper_bound} \\end{cases}$</li>\n",
       "\n",
       "<li>parameters: \n",
       "<ul>\n",
       "\n",
       "<li>lower_bound: \n",
       "<ul>\n",
       "\n",
       "<li>value: 0.0</li>\n",
       "\n",
       "<li>desc: Lower bound for the interval</li>\n",
       "\n",
       "<li>min_value: -inf</li>\n",
       "\n",
       "<li>max_value: inf</li>\n",
       "\n",
       "<li>unit: </li>\n",
       "\n",
       "<li>is_normalization: False</li>\n",
       "\n",
       "<li>delta: 0.1</li>\n",
       "\n",
       "<li>free: True</li>\n",
       "\n",
       "</ul>\n",
       "\n",
       "</li>\n",
       "\n",
       "<li>upper_bound: \n",
       "<ul>\n",
       "\n",
       "<li>value: 1.0</li>\n",
       "\n",
       "<li>desc: Upper bound for the interval</li>\n",
       "\n",
       "<li>min_value: -inf</li>\n",
       "\n",
       "<li>max_value: inf</li>\n",
       "\n",
       "<li>unit: </li>\n",
       "\n",
       "<li>is_normalization: False</li>\n",
       "\n",
       "<li>delta: 0.1</li>\n",
       "\n",
       "<li>free: True</li>\n",
       "\n",
       "</ul>\n",
       "\n",
       "</li>\n",
       "\n",
       "<li>value: \n",
       "<ul>\n",
       "\n",
       "<li>value: 1.0</li>\n",
       "\n",
       "<li>desc: Value in the interval</li>\n",
       "\n",
       "<li>min_value: None</li>\n",
       "\n",
       "<li>max_value: None</li>\n",
       "\n",
       "<li>unit: </li>\n",
       "\n",
       "<li>is_normalization: False</li>\n",
       "\n",
       "<li>delta: 0.1</li>\n",
       "\n",
       "<li>free: True</li>\n",
       "\n",
       "</ul>\n",
       "\n",
       "</li>\n",
       "\n",
       "</ul>\n",
       "\n",
       "</li>\n",
       "\n",
       "</ul>\n"
      ],
      "text/plain": [
       "  * description: A function which is constant on the interval lower_bound - upper_bound\n",
       "    * and 0 outside the interval. The extremes of the interval are counted as part of\n",
       "    * the interval.\n",
       "  * formula: $ f(x)=\\begin{cases}0 & x < \\text{lower_bound} \\\\\\text{value} & \\text{lower_bound}\n",
       "    * \\le x \\le \\text{upper_bound} \\\\ 0 & x > \\text{upper_bound} \\end{cases}$\n",
       "  * parameters:\n",
       "    * lower_bound:\n",
       "      * value: 0.0\n",
       "      * desc: Lower bound for the interval\n",
       "      * min_value: -.inf\n",
       "      * max_value: .inf\n",
       "      * unit: ''\n",
       "      * is_normalization: false\n",
       "      * delta: 0.1\n",
       "      * free: true\n",
       "    * upper_bound:\n",
       "      * value: 1.0\n",
       "      * desc: Upper bound for the interval\n",
       "      * min_value: -.inf\n",
       "      * max_value: .inf\n",
       "      * unit: ''\n",
       "      * is_normalization: false\n",
       "      * delta: 0.1\n",
       "      * free: true\n",
       "    * value:\n",
       "      * value: 1.0\n",
       "      * desc: Value in the interval\n",
       "      * min_value: null\n",
       "      * max_value: null\n",
       "      * unit: ''\n",
       "      * is_normalization: false\n",
       "      * delta: 0.1\n",
       "      * free: true"
      ]
     },
     "metadata": {},
     "output_type": "display_data"
    }
   ],
   "source": [
    "func.display()"
   ]
  },
  {
   "cell_type": "markdown",
   "id": "5ada088f",
   "metadata": {
    "papermill": {
     "duration": 0.003949,
     "end_time": "2022-10-28T15:06:52.107118",
     "exception": false,
     "start_time": "2022-10-28T15:06:52.103169",
     "status": "completed"
    },
    "tags": []
   },
   "source": [
    "## Shape \n",
    "\n",
    "The shape of the function. \n",
    "\n",
    "*If this is not a photon model but a prior or linear function then ignore the units as these docs are auto-generated*"
   ]
  },
  {
   "cell_type": "code",
   "execution_count": 6,
   "id": "a2f4a934",
   "metadata": {
    "execution": {
     "iopub.execute_input": "2022-10-28T15:06:52.116247Z",
     "iopub.status.busy": "2022-10-28T15:06:52.115819Z",
     "iopub.status.idle": "2022-10-28T15:06:52.505981Z",
     "shell.execute_reply": "2022-10-28T15:06:52.504741Z"
    },
    "papermill": {
     "duration": 0.398765,
     "end_time": "2022-10-28T15:06:52.509401",
     "exception": false,
     "start_time": "2022-10-28T15:06:52.110636",
     "status": "completed"
    },
    "tags": [
     "nbsphinx-thumbnail"
    ]
   },
   "outputs": [
    {
     "data": {
      "text/plain": [
       "Text(0, 0.5, 'probability')"
      ]
     },
     "execution_count": 6,
     "metadata": {},
     "output_type": "execute_result"
    },
    {
     "data": {
      "image/png": "[encoded data removed]",
      "text/plain": [
       "<Figure size 1040x910 with 1 Axes>"
      ]
     },
     "metadata": {},
     "output_type": "display_data"
    }
   ],
   "source": [
    "fig, ax = plt.subplots()\n",
    "\n",
    "\n",
    "ax.plot(energy_grid, func(energy_grid), color=blue, lw=3)\n",
    "\n",
    "ax.set_xlabel(\"x\")\n",
    "ax.set_ylabel(\"probability\")\n"
   ]
  },
  {
   "cell_type": "markdown",
   "id": "17176e18",
   "metadata": {
    "papermill": {
     "duration": 0.003976,
     "end_time": "2022-10-28T15:06:52.517482",
     "exception": false,
     "start_time": "2022-10-28T15:06:52.513506",
     "status": "completed"
    },
    "tags": []
   },
   "source": [
    "## Random Number Generation\n",
    "\n",
    "This is how we can generate random numbers from the prior.\n"
   ]
  },
  {
   "cell_type": "code",
   "execution_count": 7,
   "id": "3b6eeb1c",
   "metadata": {
    "execution": {
     "iopub.execute_input": "2022-10-28T15:06:52.529699Z",
     "iopub.status.busy": "2022-10-28T15:06:52.529272Z",
     "iopub.status.idle": "2022-10-28T15:06:52.956048Z",
     "shell.execute_reply": "2022-10-28T15:06:52.954018Z"
    },
    "papermill": {
     "duration": 0.438193,
     "end_time": "2022-10-28T15:06:52.960235",
     "exception": false,
     "start_time": "2022-10-28T15:06:52.522042",
     "status": "completed"
    },
    "tags": []
   },
   "outputs": [
    {
     "data": {
      "text/plain": [
       "Text(0, 0.5, 'N')"
      ]
     },
     "execution_count": 7,
     "metadata": {},
     "output_type": "execute_result"
    },
    {
     "data": {
      "image/png": "[encoded data removed]",
      "text/plain": [
       "<Figure size 1040x910 with 1 Axes>"
      ]
     },
     "metadata": {},
     "output_type": "display_data"
    }
   ],
   "source": [
    "\n",
    "\n",
    "u = np.random.uniform(0,1, size=5000)\n",
    "\n",
    "draws = [func.from_unit_cube(x) for x in u]\n",
    "\n",
    "\n",
    "fig, ax = plt.subplots()\n",
    "\n",
    "\n",
    "ax.hist(draws, color=green, bins=50)\n",
    "\n",
    "ax.set_xlabel(\"value\")\n",
    "ax.set_ylabel(\"N\")\n",
    "\n"
   ]
  }
 ],
 "metadata": {
  "jupytext": {
   "formats": "ipynb,md"
  },
  "kernelspec": {
   "display_name": "Python 3 (ipykernel)",
   "language": "python",
   "name": "python3"
  },
  "language_info": {
   "codemirror_mode": {
    "name": "ipython",
    "version": 3
   },
   "file_extension": ".py",
   "mimetype": "text/x-python",
   "name": "python",
   "nbconvert_exporter": "python",
   "pygments_lexer": "ipython3",
   "version": "3.9.14"
  },
  "papermill": {
   "default_parameters": {},
   "duration": 7.213587,
   "end_time": "2022-10-28T15:06:53.874521",
   "environment_variables": {},
   "exception": null,
   "input_path": "Uniform_prior.ipynb",
   "output_path": "/Users/runner/work/astromodels/astromodels/docs/notebooks/Uniform_prior.ipynb",
   "parameters": {
    "func_name": "Uniform_prior",
    "positive_prior": false
   },
   "start_time": "2022-10-28T15:06:46.660934",
   "version": "2.4.0"
  }
 },
 "nbformat": 4,
 "nbformat_minor": 5
}
