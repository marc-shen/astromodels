{
 "cells": [
  {
   "cell_type": "markdown",
   "id": "ceb16c19",
   "metadata": {
    "papermill": {
     "duration": 0.003498,
     "end_time": "2023-11-01T22:08:32.158061",
     "exception": false,
     "start_time": "2023-11-01T22:08:32.154563",
     "status": "completed"
    },
    "tags": []
   },
   "source": [
    "# Uniform prior"
   ]
  },
  {
   "cell_type": "code",
   "execution_count": 1,
   "id": "7882071c",
   "metadata": {
    "execution": {
     "iopub.execute_input": "2023-11-01T22:08:32.165823Z",
     "iopub.status.busy": "2023-11-01T22:08:32.165467Z",
     "iopub.status.idle": "2023-11-01T22:08:36.657925Z",
     "shell.execute_reply": "2023-11-01T22:08:36.631278Z"
    },
    "nbsphinx": "hidden",
    "papermill": {
     "duration": 4.504669,
     "end_time": "2023-11-01T22:08:36.665800",
     "exception": false,
     "start_time": "2023-11-01T22:08:32.161131",
     "status": "completed"
    },
    "tags": []
   },
   "outputs": [],
   "source": [
    "%%capture\n",
    "\n",
    "import numpy as np\n",
    "\n",
    "import matplotlib.pyplot as plt\n",
    "\n",
    "import warnings\n",
    "warnings.simplefilter(\"ignore\")\n",
    "\n",
    "from astromodels.functions.function import _known_functions\n",
    "\n",
    "\n",
    "from jupyterthemes import jtplot\n",
    "jtplot.style(context=\"talk\", fscale=1, ticks=True, grid=False)\n",
    "%matplotlib inline"
   ]
  },
  {
   "cell_type": "code",
   "execution_count": 2,
   "id": "16b7f4a4",
   "metadata": {
    "execution": {
     "iopub.execute_input": "2023-11-01T22:08:36.677916Z",
     "iopub.status.busy": "2023-11-01T22:08:36.677260Z",
     "iopub.status.idle": "2023-11-01T22:08:36.686221Z",
     "shell.execute_reply": "2023-11-01T22:08:36.683163Z"
    },
    "nbsphinx": "hidden",
    "papermill": {
     "duration": 0.022598,
     "end_time": "2023-11-01T22:08:36.692522",
     "exception": false,
     "start_time": "2023-11-01T22:08:36.669924",
     "status": "completed"
    },
    "tags": [
     "parameters"
    ]
   },
   "outputs": [],
   "source": [
    "func_name = \"TbAbs\"\n",
    "\n",
    "positive_prior = False\n"
   ]
  },
  {
   "cell_type": "code",
   "execution_count": 3,
   "id": "a73ae536",
   "metadata": {
    "execution": {
     "iopub.execute_input": "2023-11-01T22:08:36.700821Z",
     "iopub.status.busy": "2023-11-01T22:08:36.700448Z",
     "iopub.status.idle": "2023-11-01T22:08:36.709251Z",
     "shell.execute_reply": "2023-11-01T22:08:36.707311Z"
    },
    "papermill": {
     "duration": 0.020358,
     "end_time": "2023-11-01T22:08:36.716258",
     "exception": false,
     "start_time": "2023-11-01T22:08:36.695900",
     "status": "completed"
    },
    "tags": [
     "injected-parameters"
    ]
   },
   "outputs": [],
   "source": [
    "# Parameters\n",
    "func_name = \"Uniform_prior\"\n",
    "positive_prior = False\n"
   ]
  },
  {
   "cell_type": "code",
   "execution_count": 4,
   "id": "35392881",
   "metadata": {
    "execution": {
     "iopub.execute_input": "2023-11-01T22:08:36.726530Z",
     "iopub.status.busy": "2023-11-01T22:08:36.725684Z",
     "iopub.status.idle": "2023-11-01T22:08:36.736874Z",
     "shell.execute_reply": "2023-11-01T22:08:36.734238Z"
    },
    "lines_to_next_cell": 0,
    "nbsphinx": "hidden",
    "papermill": {
     "duration": 0.02244,
     "end_time": "2023-11-01T22:08:36.742623",
     "exception": false,
     "start_time": "2023-11-01T22:08:36.720183",
     "status": "completed"
    },
    "tags": []
   },
   "outputs": [],
   "source": [
    "func = _known_functions[func_name]()\n",
    "\n",
    "if not positive_prior:\n",
    "\n",
    "\tenergy_grid = np.linspace(-5,5,1000)\n",
    "\n",
    "else:\n",
    "    \n",
    "    energy_grid = np.linspace(0,1,1000)\n",
    "    \n",
    "    \n",
    "    \n",
    "    \n",
    "blue = \"#4152E3\"\n",
    "red = \"#E3414B\"\n",
    "green = \"#41E39E\""
   ]
  },
  {
   "cell_type": "markdown",
   "id": "150836f8",
   "metadata": {
    "lines_to_next_cell": 0,
    "papermill": {
     "duration": 0.005972,
     "end_time": "2023-11-01T22:08:36.753115",
     "exception": false,
     "start_time": "2023-11-01T22:08:36.747143",
     "status": "completed"
    },
    "tags": []
   },
   "source": [
    "## Description"
   ]
  },
  {
   "cell_type": "code",
   "execution_count": 5,
   "id": "f79e89db",
   "metadata": {
    "execution": {
     "iopub.execute_input": "2023-11-01T22:08:36.762424Z",
     "iopub.status.busy": "2023-11-01T22:08:36.762041Z",
     "iopub.status.idle": "2023-11-01T22:08:36.786188Z",
     "shell.execute_reply": "2023-11-01T22:08:36.784098Z"
    },
    "papermill": {
     "duration": 0.03728,
     "end_time": "2023-11-01T22:08:36.793486",
     "exception": false,
     "start_time": "2023-11-01T22:08:36.756206",
     "status": "completed"
    },
    "tags": []
   },
   "outputs": [
    {
     "data": {
      "text/html": [
       "<ul>\n",
       "\n",
       "<li>description: A function which is constant on the interval lower_bound - upper_bound and 0 outside the interval. The extremes of the interval are counted as part of the interval.</li>\n",
       "\n",
       "<li>formula: $ f(x)=\\begin{cases}0 & x < \\text{lower_bound} \\\\\\text{value} & \\text{lower_bound} \\le x \\le \\text{upper_bound} \\\\ 0 & x > \\text{upper_bound} \\end{cases}$</li>\n",
       "\n",
       "<li>parameters: \n",
       "<ul>\n",
       "\n",
       "<li>lower_bound: \n",
       "<ul>\n",
       "\n",
       "<li>value: 0.0</li>\n",
       "\n",
       "<li>desc: Lower bound for the interval</li>\n",
       "\n",
       "<li>min_value: -inf</li>\n",
       "\n",
       "<li>max_value: inf</li>\n",
       "\n",
       "<li>unit: </li>\n",
       "\n",
       "<li>is_normalization: False</li>\n",
       "\n",
       "<li>delta: 0.1</li>\n",
       "\n",
       "<li>free: True</li>\n",
       "\n",
       "</ul>\n",
       "\n",
       "</li>\n",
       "\n",
       "<li>upper_bound: \n",
       "<ul>\n",
       "\n",
       "<li>value: 1.0</li>\n",
       "\n",
       "<li>desc: Upper bound for the interval</li>\n",
       "\n",
       "<li>min_value: -inf</li>\n",
       "\n",
       "<li>max_value: inf</li>\n",
       "\n",
       "<li>unit: </li>\n",
       "\n",
       "<li>is_normalization: False</li>\n",
       "\n",
       "<li>delta: 0.1</li>\n",
       "\n",
       "<li>free: True</li>\n",
       "\n",
       "</ul>\n",
       "\n",
       "</li>\n",
       "\n",
       "<li>value: \n",
       "<ul>\n",
       "\n",
       "<li>value: 1.0</li>\n",
       "\n",
       "<li>desc: Value in the interval</li>\n",
       "\n",
       "<li>min_value: None</li>\n",
       "\n",
       "<li>max_value: None</li>\n",
       "\n",
       "<li>unit: </li>\n",
       "\n",
       "<li>is_normalization: False</li>\n",
       "\n",
       "<li>delta: 0.1</li>\n",
       "\n",
       "<li>free: True</li>\n",
       "\n",
       "</ul>\n",
       "\n",
       "</li>\n",
       "\n",
       "</ul>\n",
       "\n",
       "</li>\n",
       "\n",
       "</ul>\n"
      ],
      "text/plain": [
       "  * description: A function which is constant on the interval lower_bound - upper_bound\n",
       "    * and 0 outside the interval. The extremes of the interval are counted as part of\n",
       "    * the interval.\n",
       "  * formula: $ f(x)=\\begin{cases}0 & x < \\text{lower_bound} \\\\\\text{value} & \\text{lower_bound}\n",
       "    * \\le x \\le \\text{upper_bound} \\\\ 0 & x > \\text{upper_bound} \\end{cases}$\n",
       "  * parameters:\n",
       "    * lower_bound:\n",
       "      * value: 0.0\n",
       "      * desc: Lower bound for the interval\n",
       "      * min_value: -.inf\n",
       "      * max_value: .inf\n",
       "      * unit: ''\n",
       "      * is_normalization: false\n",
       "      * delta: 0.1\n",
       "      * free: true\n",
       "    * upper_bound:\n",
       "      * value: 1.0\n",
       "      * desc: Upper bound for the interval\n",
       "      * min_value: -.inf\n",
       "      * max_value: .inf\n",
       "      * unit: ''\n",
       "      * is_normalization: false\n",
       "      * delta: 0.1\n",
       "      * free: true\n",
       "    * value:\n",
       "      * value: 1.0\n",
       "      * desc: Value in the interval\n",
       "      * min_value: null\n",
       "      * max_value: null\n",
       "      * unit: ''\n",
       "      * is_normalization: false\n",
       "      * delta: 0.1\n",
       "      * free: true"
      ]
     },
     "metadata": {},
     "output_type": "display_data"
    }
   ],
   "source": [
    "func.display()"
   ]
  },
  {
   "cell_type": "markdown",
   "id": "e4f23559",
   "metadata": {
    "papermill": {
     "duration": 0.004419,
     "end_time": "2023-11-01T22:08:36.802607",
     "exception": false,
     "start_time": "2023-11-01T22:08:36.798188",
     "status": "completed"
    },
    "tags": []
   },
   "source": [
    "## Shape \n",
    "\n",
    "The shape of the function. \n",
    "\n",
    "*If this is not a photon model but a prior or linear function then ignore the units as these docs are auto-generated*"
   ]
  },
  {
   "cell_type": "code",
   "execution_count": 6,
   "id": "2f1cf8b3",
   "metadata": {
    "execution": {
     "iopub.execute_input": "2023-11-01T22:08:36.814125Z",
     "iopub.status.busy": "2023-11-01T22:08:36.813099Z",
     "iopub.status.idle": "2023-11-01T22:08:37.094357Z",
     "shell.execute_reply": "2023-11-01T22:08:37.091894Z"
    },
    "papermill": {
     "duration": 0.291396,
     "end_time": "2023-11-01T22:08:37.099120",
     "exception": false,
     "start_time": "2023-11-01T22:08:36.807724",
     "status": "completed"
    },
    "tags": [
     "nbsphinx-thumbnail"
    ]
   },
   "outputs": [
    {
     "data": {
      "text/plain": [
       "Text(0, 0.5, 'probability')"
      ]
     },
     "execution_count": 6,
     "metadata": {},
     "output_type": "execute_result"
    },
    {
     "data": {
      "image/png": "[encoded data removed]",
      "text/plain": [
       "<Figure size 1040x910 with 1 Axes>"
      ]
     },
     "metadata": {},
     "output_type": "display_data"
    }
   ],
   "source": [
    "fig, ax = plt.subplots()\n",
    "\n",
    "\n",
    "ax.plot(energy_grid, func(energy_grid), color=blue, lw=3)\n",
    "\n",
    "ax.set_xlabel(\"x\")\n",
    "ax.set_ylabel(\"probability\")\n"
   ]
  },
  {
   "cell_type": "markdown",
   "id": "66cf20f4",
   "metadata": {
    "papermill": {
     "duration": 0.003829,
     "end_time": "2023-11-01T22:08:37.106805",
     "exception": false,
     "start_time": "2023-11-01T22:08:37.102976",
     "status": "completed"
    },
    "tags": []
   },
   "source": [
    "## Random Number Generation\n",
    "\n",
    "This is how we can generate random numbers from the prior.\n"
   ]
  },
  {
   "cell_type": "code",
   "execution_count": 7,
   "id": "ea659164",
   "metadata": {
    "execution": {
     "iopub.execute_input": "2023-11-01T22:08:37.116043Z",
     "iopub.status.busy": "2023-11-01T22:08:37.115538Z",
     "iopub.status.idle": "2023-11-01T22:08:37.432688Z",
     "shell.execute_reply": "2023-11-01T22:08:37.431033Z"
    },
    "papermill": {
     "duration": 0.327173,
     "end_time": "2023-11-01T22:08:37.437354",
     "exception": false,
     "start_time": "2023-11-01T22:08:37.110181",
     "status": "completed"
    },
    "tags": []
   },
   "outputs": [
    {
     "data": {
      "text/plain": [
       "Text(0, 0.5, 'N')"
      ]
     },
     "execution_count": 7,
     "metadata": {},
     "output_type": "execute_result"
    },
    {
     "data": {
      "image/png": "[encoded data removed]",
      "text/plain": [
       "<Figure size 1040x910 with 1 Axes>"
      ]
     },
     "metadata": {},
     "output_type": "display_data"
    }
   ],
   "source": [
    "\n",
    "\n",
    "u = np.random.uniform(0,1, size=5000)\n",
    "\n",
    "draws = [func.from_unit_cube(x) for x in u]\n",
    "\n",
    "\n",
    "fig, ax = plt.subplots()\n",
    "\n",
    "\n",
    "ax.hist(draws, color=green, bins=50)\n",
    "\n",
    "ax.set_xlabel(\"value\")\n",
    "ax.set_ylabel(\"N\")\n",
    "\n"
   ]
  }
 ],
 "metadata": {
  "jupytext": {
   "formats": "ipynb,md"
  },
  "kernelspec": {
   "display_name": "Python 3 (ipykernel)",
   "language": "python",
   "name": "python3"
  },
  "language_info": {
   "codemirror_mode": {
    "name": "ipython",
    "version": 3
   },
   "file_extension": ".py",
   "mimetype": "text/x-python",
   "name": "python",
   "nbconvert_exporter": "python",
   "pygments_lexer": "ipython3",
   "version": "3.9.18"
  },
  "papermill": {
   "default_parameters": {},
   "duration": 6.970148,
   "end_time": "2023-11-01T22:08:38.179173",
   "environment_variables": {},
   "exception": null,
   "input_path": "Uniform_prior.ipynb",
   "output_path": "/Users/runner/work/astromodels/astromodels/docs/notebooks/Uniform_prior.ipynb",
   "parameters": {
    "func_name": "Uniform_prior",
    "positive_prior": false
   },
   "start_time": "2023-11-01T22:08:31.209025",
   "version": "2.4.0"
  }
 },
 "nbformat": 4,
 "nbformat_minor": 5
}
