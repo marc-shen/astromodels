{
 "cells": [
  {
   "cell_type": "markdown",
   "id": "70cbd5f5",
   "metadata": {
    "papermill": {
     "duration": 0.00437,
     "end_time": "2024-02-07T23:06:07.133658",
     "exception": false,
     "start_time": "2024-02-07T23:06:07.129288",
     "status": "completed"
    },
    "tags": []
   },
   "source": [
    "# Uniform prior"
   ]
  },
  {
   "cell_type": "code",
   "execution_count": 1,
   "id": "c108bff8",
   "metadata": {
    "execution": {
     "iopub.execute_input": "2024-02-07T23:06:07.142318Z",
     "iopub.status.busy": "2024-02-07T23:06:07.141885Z",
     "iopub.status.idle": "2024-02-07T23:06:11.012495Z",
     "shell.execute_reply": "2024-02-07T23:06:11.010777Z"
    },
    "nbsphinx": "hidden",
    "papermill": {
     "duration": 3.878728,
     "end_time": "2024-02-07T23:06:11.016143",
     "exception": false,
     "start_time": "2024-02-07T23:06:07.137415",
     "status": "completed"
    },
    "tags": []
   },
   "outputs": [],
   "source": [
    "%%capture\n",
    "\n",
    "import numpy as np\n",
    "\n",
    "import matplotlib.pyplot as plt\n",
    "\n",
    "import warnings\n",
    "warnings.simplefilter(\"ignore\")\n",
    "\n",
    "from astromodels.functions.function import _known_functions\n",
    "\n",
    "\n",
    "from jupyterthemes import jtplot\n",
    "jtplot.style(context=\"talk\", fscale=1, ticks=True, grid=False)\n",
    "%matplotlib inline"
   ]
  },
  {
   "cell_type": "code",
   "execution_count": 2,
   "id": "85d8620a",
   "metadata": {
    "execution": {
     "iopub.execute_input": "2024-02-07T23:06:11.025100Z",
     "iopub.status.busy": "2024-02-07T23:06:11.024603Z",
     "iopub.status.idle": "2024-02-07T23:06:11.032374Z",
     "shell.execute_reply": "2024-02-07T23:06:11.031311Z"
    },
    "nbsphinx": "hidden",
    "papermill": {
     "duration": 0.015847,
     "end_time": "2024-02-07T23:06:11.035524",
     "exception": false,
     "start_time": "2024-02-07T23:06:11.019677",
     "status": "completed"
    },
    "tags": [
     "parameters"
    ]
   },
   "outputs": [],
   "source": [
    "func_name = \"TbAbs\"\n",
    "\n",
    "positive_prior = False\n"
   ]
  },
  {
   "cell_type": "code",
   "execution_count": 3,
   "id": "9c45726a",
   "metadata": {
    "execution": {
     "iopub.execute_input": "2024-02-07T23:06:11.044763Z",
     "iopub.status.busy": "2024-02-07T23:06:11.044254Z",
     "iopub.status.idle": "2024-02-07T23:06:11.049773Z",
     "shell.execute_reply": "2024-02-07T23:06:11.048738Z"
    },
    "papermill": {
     "duration": 0.013976,
     "end_time": "2024-02-07T23:06:11.052887",
     "exception": false,
     "start_time": "2024-02-07T23:06:11.038911",
     "status": "completed"
    },
    "tags": [
     "injected-parameters"
    ]
   },
   "outputs": [],
   "source": [
    "# Parameters\n",
    "func_name = \"Uniform_prior\"\n",
    "positive_prior = False\n"
   ]
  },
  {
   "cell_type": "code",
   "execution_count": 4,
   "id": "624079b4",
   "metadata": {
    "execution": {
     "iopub.execute_input": "2024-02-07T23:06:11.060758Z",
     "iopub.status.busy": "2024-02-07T23:06:11.060295Z",
     "iopub.status.idle": "2024-02-07T23:06:11.072946Z",
     "shell.execute_reply": "2024-02-07T23:06:11.071157Z"
    },
    "lines_to_next_cell": 0,
    "nbsphinx": "hidden",
    "papermill": {
     "duration": 0.020476,
     "end_time": "2024-02-07T23:06:11.076403",
     "exception": false,
     "start_time": "2024-02-07T23:06:11.055927",
     "status": "completed"
    },
    "tags": []
   },
   "outputs": [],
   "source": [
    "func = _known_functions[func_name]()\n",
    "\n",
    "if not positive_prior:\n",
    "\n",
    "\tenergy_grid = np.linspace(-5,5,1000)\n",
    "\n",
    "else:\n",
    "    \n",
    "    energy_grid = np.linspace(0,1,1000)\n",
    "    \n",
    "    \n",
    "    \n",
    "    \n",
    "blue = \"#4152E3\"\n",
    "red = \"#E3414B\"\n",
    "green = \"#41E39E\""
   ]
  },
  {
   "cell_type": "markdown",
   "id": "187966e3",
   "metadata": {
    "lines_to_next_cell": 0,
    "papermill": {
     "duration": 0.002858,
     "end_time": "2024-02-07T23:06:11.082371",
     "exception": false,
     "start_time": "2024-02-07T23:06:11.079513",
     "status": "completed"
    },
    "tags": []
   },
   "source": [
    "## Description"
   ]
  },
  {
   "cell_type": "code",
   "execution_count": 5,
   "id": "b2dc209d",
   "metadata": {
    "execution": {
     "iopub.execute_input": "2024-02-07T23:06:11.090519Z",
     "iopub.status.busy": "2024-02-07T23:06:11.089699Z",
     "iopub.status.idle": "2024-02-07T23:06:11.105806Z",
     "shell.execute_reply": "2024-02-07T23:06:11.104585Z"
    },
    "papermill": {
     "duration": 0.024955,
     "end_time": "2024-02-07T23:06:11.110192",
     "exception": false,
     "start_time": "2024-02-07T23:06:11.085237",
     "status": "completed"
    },
    "tags": []
   },
   "outputs": [
    {
     "data": {
      "text/html": [
       "<ul>\n",
       "\n",
       "<li>description: A function which is constant on the interval lower_bound - upper_bound and 0 outside the interval. The extremes of the interval are counted as part of the interval.</li>\n",
       "\n",
       "<li>formula: $ f(x)=\\begin{cases}0 & x < \\text{lower_bound} \\\\\\text{value} & \\text{lower_bound} \\le x \\le \\text{upper_bound} \\\\ 0 & x > \\text{upper_bound} \\end{cases}$</li>\n",
       "\n",
       "<li>parameters: \n",
       "<ul>\n",
       "\n",
       "<li>lower_bound: \n",
       "<ul>\n",
       "\n",
       "<li>value: 0.0</li>\n",
       "\n",
       "<li>desc: Lower bound for the interval</li>\n",
       "\n",
       "<li>min_value: -inf</li>\n",
       "\n",
       "<li>max_value: inf</li>\n",
       "\n",
       "<li>unit: </li>\n",
       "\n",
       "<li>is_normalization: False</li>\n",
       "\n",
       "<li>delta: 0.1</li>\n",
       "\n",
       "<li>free: True</li>\n",
       "\n",
       "</ul>\n",
       "\n",
       "</li>\n",
       "\n",
       "<li>upper_bound: \n",
       "<ul>\n",
       "\n",
       "<li>value: 1.0</li>\n",
       "\n",
       "<li>desc: Upper bound for the interval</li>\n",
       "\n",
       "<li>min_value: -inf</li>\n",
       "\n",
       "<li>max_value: inf</li>\n",
       "\n",
       "<li>unit: </li>\n",
       "\n",
       "<li>is_normalization: False</li>\n",
       "\n",
       "<li>delta: 0.1</li>\n",
       "\n",
       "<li>free: True</li>\n",
       "\n",
       "</ul>\n",
       "\n",
       "</li>\n",
       "\n",
       "<li>value: \n",
       "<ul>\n",
       "\n",
       "<li>value: 1.0</li>\n",
       "\n",
       "<li>desc: Value in the interval</li>\n",
       "\n",
       "<li>min_value: None</li>\n",
       "\n",
       "<li>max_value: None</li>\n",
       "\n",
       "<li>unit: </li>\n",
       "\n",
       "<li>is_normalization: False</li>\n",
       "\n",
       "<li>delta: 0.1</li>\n",
       "\n",
       "<li>free: True</li>\n",
       "\n",
       "</ul>\n",
       "\n",
       "</li>\n",
       "\n",
       "</ul>\n",
       "\n",
       "</li>\n",
       "\n",
       "</ul>\n"
      ],
      "text/plain": [
       "  * description: A function which is constant on the interval lower_bound - upper_bound\n",
       "    * and 0 outside the interval. The extremes of the interval are counted as part of\n",
       "    * the interval.\n",
       "  * formula: $ f(x)=\\begin{cases}0 & x < \\text{lower_bound} \\\\\\text{value} & \\text{lower_bound}\n",
       "    * \\le x \\le \\text{upper_bound} \\\\ 0 & x > \\text{upper_bound} \\end{cases}$\n",
       "  * parameters:\n",
       "    * lower_bound:\n",
       "      * value: 0.0\n",
       "      * desc: Lower bound for the interval\n",
       "      * min_value: -.inf\n",
       "      * max_value: .inf\n",
       "      * unit: ''\n",
       "      * is_normalization: false\n",
       "      * delta: 0.1\n",
       "      * free: true\n",
       "    * upper_bound:\n",
       "      * value: 1.0\n",
       "      * desc: Upper bound for the interval\n",
       "      * min_value: -.inf\n",
       "      * max_value: .inf\n",
       "      * unit: ''\n",
       "      * is_normalization: false\n",
       "      * delta: 0.1\n",
       "      * free: true\n",
       "    * value:\n",
       "      * value: 1.0\n",
       "      * desc: Value in the interval\n",
       "      * min_value: null\n",
       "      * max_value: null\n",
       "      * unit: ''\n",
       "      * is_normalization: false\n",
       "      * delta: 0.1\n",
       "      * free: true"
      ]
     },
     "metadata": {},
     "output_type": "display_data"
    }
   ],
   "source": [
    "func.display()"
   ]
  },
  {
   "cell_type": "markdown",
   "id": "320bbd5e",
   "metadata": {
    "papermill": {
     "duration": 0.003195,
     "end_time": "2024-02-07T23:06:11.116982",
     "exception": false,
     "start_time": "2024-02-07T23:06:11.113787",
     "status": "completed"
    },
    "tags": []
   },
   "source": [
    "## Shape \n",
    "\n",
    "The shape of the function. \n",
    "\n",
    "*If this is not a photon model but a prior or linear function then ignore the units as these docs are auto-generated*"
   ]
  },
  {
   "cell_type": "code",
   "execution_count": 6,
   "id": "8735a4fb",
   "metadata": {
    "execution": {
     "iopub.execute_input": "2024-02-07T23:06:11.125692Z",
     "iopub.status.busy": "2024-02-07T23:06:11.125266Z",
     "iopub.status.idle": "2024-02-07T23:06:11.427713Z",
     "shell.execute_reply": "2024-02-07T23:06:11.426651Z"
    },
    "papermill": {
     "duration": 0.311616,
     "end_time": "2024-02-07T23:06:11.432138",
     "exception": false,
     "start_time": "2024-02-07T23:06:11.120522",
     "status": "completed"
    },
    "tags": [
     "nbsphinx-thumbnail"
    ]
   },
   "outputs": [
    {
     "data": {
      "text/plain": [
       "Text(0, 0.5, 'probability')"
      ]
     },
     "execution_count": 6,
     "metadata": {},
     "output_type": "execute_result"
    },
    {
     "data": {
      "image/png": "[encoded data removed]",
      "text/plain": [
       "<Figure size 1040x910 with 1 Axes>"
      ]
     },
     "metadata": {},
     "output_type": "display_data"
    }
   ],
   "source": [
    "fig, ax = plt.subplots()\n",
    "\n",
    "\n",
    "ax.plot(energy_grid, func(energy_grid), color=blue, lw=3)\n",
    "\n",
    "ax.set_xlabel(\"x\")\n",
    "ax.set_ylabel(\"probability\")\n"
   ]
  },
  {
   "cell_type": "markdown",
   "id": "992b5e31",
   "metadata": {
    "papermill": {
     "duration": 0.003798,
     "end_time": "2024-02-07T23:06:11.440251",
     "exception": false,
     "start_time": "2024-02-07T23:06:11.436453",
     "status": "completed"
    },
    "tags": []
   },
   "source": [
    "## Random Number Generation\n",
    "\n",
    "This is how we can generate random numbers from the prior.\n"
   ]
  },
  {
   "cell_type": "code",
   "execution_count": 7,
   "id": "07826df3",
   "metadata": {
    "execution": {
     "iopub.execute_input": "2024-02-07T23:06:11.449701Z",
     "iopub.status.busy": "2024-02-07T23:06:11.449272Z",
     "iopub.status.idle": "2024-02-07T23:06:11.872802Z",
     "shell.execute_reply": "2024-02-07T23:06:11.871607Z"
    },
    "papermill": {
     "duration": 0.432039,
     "end_time": "2024-02-07T23:06:11.876073",
     "exception": false,
     "start_time": "2024-02-07T23:06:11.444034",
     "status": "completed"
    },
    "tags": []
   },
   "outputs": [
    {
     "data": {
      "text/plain": [
       "Text(0, 0.5, 'N')"
      ]
     },
     "execution_count": 7,
     "metadata": {},
     "output_type": "execute_result"
    },
    {
     "data": {
      "image/png": "[encoded data removed]",
      "text/plain": [
       "<Figure size 1040x910 with 1 Axes>"
      ]
     },
     "metadata": {},
     "output_type": "display_data"
    }
   ],
   "source": [
    "\n",
    "\n",
    "u = np.random.uniform(0,1, size=5000)\n",
    "\n",
    "draws = [func.from_unit_cube(x) for x in u]\n",
    "\n",
    "\n",
    "fig, ax = plt.subplots()\n",
    "\n",
    "\n",
    "ax.hist(draws, color=green, bins=50)\n",
    "\n",
    "ax.set_xlabel(\"value\")\n",
    "ax.set_ylabel(\"N\")\n",
    "\n"
   ]
  }
 ],
 "metadata": {
  "jupytext": {
   "formats": "ipynb,md"
  },
  "kernelspec": {
   "display_name": "Python 3 (ipykernel)",
   "language": "python",
   "name": "python3"
  },
  "language_info": {
   "codemirror_mode": {
    "name": "ipython",
    "version": 3
   },
   "file_extension": ".py",
   "mimetype": "text/x-python",
   "name": "python",
   "nbconvert_exporter": "python",
   "pygments_lexer": "ipython3",
   "version": "3.9.18"
  },
  "papermill": {
   "default_parameters": {},
   "duration": 6.768453,
   "end_time": "2024-02-07T23:06:12.608420",
   "environment_variables": {},
   "exception": null,
   "input_path": "Uniform_prior.ipynb",
   "output_path": "/Users/runner/work/astromodels/astromodels/docs/notebooks/Uniform_prior.ipynb",
   "parameters": {
    "func_name": "Uniform_prior",
    "positive_prior": false
   },
   "start_time": "2024-02-07T23:06:05.839967",
   "version": "2.5.0"
  }
 },
 "nbformat": 4,
 "nbformat_minor": 5
}
