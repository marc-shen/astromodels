{
 "cells": [
  {
   "cell_type": "markdown",
   "id": "83e22d68",
   "metadata": {
    "papermill": {
     "duration": 0.004389,
     "end_time": "2023-11-01T20:53:24.456235",
     "exception": false,
     "start_time": "2023-11-01T20:53:24.451846",
     "status": "completed"
    },
    "tags": []
   },
   "source": [
    "# Uniform prior"
   ]
  },
  {
   "cell_type": "code",
   "execution_count": 1,
   "id": "77370191",
   "metadata": {
    "execution": {
     "iopub.execute_input": "2023-11-01T20:53:24.551541Z",
     "iopub.status.busy": "2023-11-01T20:53:24.551147Z",
     "iopub.status.idle": "2023-11-01T20:53:27.865832Z",
     "shell.execute_reply": "2023-11-01T20:53:27.864248Z"
    },
    "nbsphinx": "hidden",
    "papermill": {
     "duration": 3.324969,
     "end_time": "2023-11-01T20:53:27.870258",
     "exception": false,
     "start_time": "2023-11-01T20:53:24.545289",
     "status": "completed"
    },
    "tags": []
   },
   "outputs": [],
   "source": [
    "%%capture\n",
    "\n",
    "import numpy as np\n",
    "\n",
    "import matplotlib.pyplot as plt\n",
    "\n",
    "import warnings\n",
    "warnings.simplefilter(\"ignore\")\n",
    "\n",
    "from astromodels.functions.function import _known_functions\n",
    "\n",
    "\n",
    "from jupyterthemes import jtplot\n",
    "jtplot.style(context=\"talk\", fscale=1, ticks=True, grid=False)\n",
    "%matplotlib inline"
   ]
  },
  {
   "cell_type": "code",
   "execution_count": 2,
   "id": "6e3989f9",
   "metadata": {
    "execution": {
     "iopub.execute_input": "2023-11-01T20:53:28.005183Z",
     "iopub.status.busy": "2023-11-01T20:53:28.004649Z",
     "iopub.status.idle": "2023-11-01T20:53:28.010668Z",
     "shell.execute_reply": "2023-11-01T20:53:28.009462Z"
    },
    "nbsphinx": "hidden",
    "papermill": {
     "duration": 0.101155,
     "end_time": "2023-11-01T20:53:28.014556",
     "exception": false,
     "start_time": "2023-11-01T20:53:27.913401",
     "status": "completed"
    },
    "tags": [
     "parameters"
    ]
   },
   "outputs": [],
   "source": [
    "func_name = \"TbAbs\"\n",
    "\n",
    "positive_prior = False\n"
   ]
  },
  {
   "cell_type": "code",
   "execution_count": 3,
   "id": "37a28661",
   "metadata": {
    "execution": {
     "iopub.execute_input": "2023-11-01T20:53:28.021148Z",
     "iopub.status.busy": "2023-11-01T20:53:28.020822Z",
     "iopub.status.idle": "2023-11-01T20:53:28.026449Z",
     "shell.execute_reply": "2023-11-01T20:53:28.024395Z"
    },
    "papermill": {
     "duration": 0.012914,
     "end_time": "2023-11-01T20:53:28.030173",
     "exception": false,
     "start_time": "2023-11-01T20:53:28.017259",
     "status": "completed"
    },
    "tags": [
     "injected-parameters"
    ]
   },
   "outputs": [],
   "source": [
    "# Parameters\n",
    "func_name = \"Uniform_prior\"\n",
    "positive_prior = False\n"
   ]
  },
  {
   "cell_type": "code",
   "execution_count": 4,
   "id": "9a33131e",
   "metadata": {
    "execution": {
     "iopub.execute_input": "2023-11-01T20:53:28.036872Z",
     "iopub.status.busy": "2023-11-01T20:53:28.036495Z",
     "iopub.status.idle": "2023-11-01T20:53:28.045011Z",
     "shell.execute_reply": "2023-11-01T20:53:28.043593Z"
    },
    "lines_to_next_cell": 0,
    "nbsphinx": "hidden",
    "papermill": {
     "duration": 0.016476,
     "end_time": "2023-11-01T20:53:28.049075",
     "exception": false,
     "start_time": "2023-11-01T20:53:28.032599",
     "status": "completed"
    },
    "tags": []
   },
   "outputs": [],
   "source": [
    "func = _known_functions[func_name]()\n",
    "\n",
    "if not positive_prior:\n",
    "\n",
    "\tenergy_grid = np.linspace(-5,5,1000)\n",
    "\n",
    "else:\n",
    "    \n",
    "    energy_grid = np.linspace(0,1,1000)\n",
    "    \n",
    "    \n",
    "    \n",
    "    \n",
    "blue = \"#4152E3\"\n",
    "red = \"#E3414B\"\n",
    "green = \"#41E39E\""
   ]
  },
  {
   "cell_type": "markdown",
   "id": "3a1d376b",
   "metadata": {
    "lines_to_next_cell": 0,
    "papermill": {
     "duration": 0.002505,
     "end_time": "2023-11-01T20:53:28.054090",
     "exception": false,
     "start_time": "2023-11-01T20:53:28.051585",
     "status": "completed"
    },
    "tags": []
   },
   "source": [
    "## Description"
   ]
  },
  {
   "cell_type": "code",
   "execution_count": 5,
   "id": "bda03c51",
   "metadata": {
    "execution": {
     "iopub.execute_input": "2023-11-01T20:53:28.060603Z",
     "iopub.status.busy": "2023-11-01T20:53:28.060170Z",
     "iopub.status.idle": "2023-11-01T20:53:28.072447Z",
     "shell.execute_reply": "2023-11-01T20:53:28.070989Z"
    },
    "papermill": {
     "duration": 0.019951,
     "end_time": "2023-11-01T20:53:28.076383",
     "exception": false,
     "start_time": "2023-11-01T20:53:28.056432",
     "status": "completed"
    },
    "tags": []
   },
   "outputs": [
    {
     "data": {
      "text/html": [
       "<ul>\n",
       "\n",
       "<li>description: A function which is constant on the interval lower_bound - upper_bound and 0 outside the interval. The extremes of the interval are counted as part of the interval.</li>\n",
       "\n",
       "<li>formula: $ f(x)=\\begin{cases}0 & x < \\text{lower_bound} \\\\\\text{value} & \\text{lower_bound} \\le x \\le \\text{upper_bound} \\\\ 0 & x > \\text{upper_bound} \\end{cases}$</li>\n",
       "\n",
       "<li>parameters: \n",
       "<ul>\n",
       "\n",
       "<li>lower_bound: \n",
       "<ul>\n",
       "\n",
       "<li>value: 0.0</li>\n",
       "\n",
       "<li>desc: Lower bound for the interval</li>\n",
       "\n",
       "<li>min_value: -inf</li>\n",
       "\n",
       "<li>max_value: inf</li>\n",
       "\n",
       "<li>unit: </li>\n",
       "\n",
       "<li>is_normalization: False</li>\n",
       "\n",
       "<li>delta: 0.1</li>\n",
       "\n",
       "<li>free: True</li>\n",
       "\n",
       "</ul>\n",
       "\n",
       "</li>\n",
       "\n",
       "<li>upper_bound: \n",
       "<ul>\n",
       "\n",
       "<li>value: 1.0</li>\n",
       "\n",
       "<li>desc: Upper bound for the interval</li>\n",
       "\n",
       "<li>min_value: -inf</li>\n",
       "\n",
       "<li>max_value: inf</li>\n",
       "\n",
       "<li>unit: </li>\n",
       "\n",
       "<li>is_normalization: False</li>\n",
       "\n",
       "<li>delta: 0.1</li>\n",
       "\n",
       "<li>free: True</li>\n",
       "\n",
       "</ul>\n",
       "\n",
       "</li>\n",
       "\n",
       "<li>value: \n",
       "<ul>\n",
       "\n",
       "<li>value: 1.0</li>\n",
       "\n",
       "<li>desc: Value in the interval</li>\n",
       "\n",
       "<li>min_value: None</li>\n",
       "\n",
       "<li>max_value: None</li>\n",
       "\n",
       "<li>unit: </li>\n",
       "\n",
       "<li>is_normalization: False</li>\n",
       "\n",
       "<li>delta: 0.1</li>\n",
       "\n",
       "<li>free: True</li>\n",
       "\n",
       "</ul>\n",
       "\n",
       "</li>\n",
       "\n",
       "</ul>\n",
       "\n",
       "</li>\n",
       "\n",
       "</ul>\n"
      ],
      "text/plain": [
       "  * description: A function which is constant on the interval lower_bound - upper_bound\n",
       "    * and 0 outside the interval. The extremes of the interval are counted as part of\n",
       "    * the interval.\n",
       "  * formula: $ f(x)=\\begin{cases}0 & x < \\text{lower_bound} \\\\\\text{value} & \\text{lower_bound}\n",
       "    * \\le x \\le \\text{upper_bound} \\\\ 0 & x > \\text{upper_bound} \\end{cases}$\n",
       "  * parameters:\n",
       "    * lower_bound:\n",
       "      * value: 0.0\n",
       "      * desc: Lower bound for the interval\n",
       "      * min_value: -.inf\n",
       "      * max_value: .inf\n",
       "      * unit: ''\n",
       "      * is_normalization: false\n",
       "      * delta: 0.1\n",
       "      * free: true\n",
       "    * upper_bound:\n",
       "      * value: 1.0\n",
       "      * desc: Upper bound for the interval\n",
       "      * min_value: -.inf\n",
       "      * max_value: .inf\n",
       "      * unit: ''\n",
       "      * is_normalization: false\n",
       "      * delta: 0.1\n",
       "      * free: true\n",
       "    * value:\n",
       "      * value: 1.0\n",
       "      * desc: Value in the interval\n",
       "      * min_value: null\n",
       "      * max_value: null\n",
       "      * unit: ''\n",
       "      * is_normalization: false\n",
       "      * delta: 0.1\n",
       "      * free: true"
      ]
     },
     "metadata": {},
     "output_type": "display_data"
    }
   ],
   "source": [
    "func.display()"
   ]
  },
  {
   "cell_type": "markdown",
   "id": "9fa0221f",
   "metadata": {
    "papermill": {
     "duration": 0.002664,
     "end_time": "2023-11-01T20:53:28.081794",
     "exception": false,
     "start_time": "2023-11-01T20:53:28.079130",
     "status": "completed"
    },
    "tags": []
   },
   "source": [
    "## Shape \n",
    "\n",
    "The shape of the function. \n",
    "\n",
    "*If this is not a photon model but a prior or linear function then ignore the units as these docs are auto-generated*"
   ]
  },
  {
   "cell_type": "code",
   "execution_count": 6,
   "id": "e33ec99e",
   "metadata": {
    "execution": {
     "iopub.execute_input": "2023-11-01T20:53:28.088880Z",
     "iopub.status.busy": "2023-11-01T20:53:28.088487Z",
     "iopub.status.idle": "2023-11-01T20:53:28.286767Z",
     "shell.execute_reply": "2023-11-01T20:53:28.284717Z"
    },
    "papermill": {
     "duration": 0.206712,
     "end_time": "2023-11-01T20:53:28.291113",
     "exception": false,
     "start_time": "2023-11-01T20:53:28.084401",
     "status": "completed"
    },
    "tags": [
     "nbsphinx-thumbnail"
    ]
   },
   "outputs": [
    {
     "data": {
      "text/plain": [
       "Text(0, 0.5, 'probability')"
      ]
     },
     "execution_count": 6,
     "metadata": {},
     "output_type": "execute_result"
    },
    {
     "data": {
      "image/png": "[encoded data removed]",
      "text/plain": [
       "<Figure size 1040x910 with 1 Axes>"
      ]
     },
     "metadata": {},
     "output_type": "display_data"
    }
   ],
   "source": [
    "fig, ax = plt.subplots()\n",
    "\n",
    "\n",
    "ax.plot(energy_grid, func(energy_grid), color=blue, lw=3)\n",
    "\n",
    "ax.set_xlabel(\"x\")\n",
    "ax.set_ylabel(\"probability\")\n"
   ]
  },
  {
   "cell_type": "markdown",
   "id": "e84eb0a0",
   "metadata": {
    "papermill": {
     "duration": 0.003108,
     "end_time": "2023-11-01T20:53:28.297465",
     "exception": false,
     "start_time": "2023-11-01T20:53:28.294357",
     "status": "completed"
    },
    "tags": []
   },
   "source": [
    "## Random Number Generation\n",
    "\n",
    "This is how we can generate random numbers from the prior.\n"
   ]
  },
  {
   "cell_type": "code",
   "execution_count": 7,
   "id": "bba68679",
   "metadata": {
    "execution": {
     "iopub.execute_input": "2023-11-01T20:53:28.305089Z",
     "iopub.status.busy": "2023-11-01T20:53:28.304683Z",
     "iopub.status.idle": "2023-11-01T20:53:28.577855Z",
     "shell.execute_reply": "2023-11-01T20:53:28.576490Z"
    },
    "papermill": {
     "duration": 0.281475,
     "end_time": "2023-11-01T20:53:28.581772",
     "exception": false,
     "start_time": "2023-11-01T20:53:28.300297",
     "status": "completed"
    },
    "tags": []
   },
   "outputs": [
    {
     "data": {
      "text/plain": [
       "Text(0, 0.5, 'N')"
      ]
     },
     "execution_count": 7,
     "metadata": {},
     "output_type": "execute_result"
    },
    {
     "data": {
      "image/png": "[encoded data removed]",
      "text/plain": [
       "<Figure size 1040x910 with 1 Axes>"
      ]
     },
     "metadata": {},
     "output_type": "display_data"
    }
   ],
   "source": [
    "\n",
    "\n",
    "u = np.random.uniform(0,1, size=5000)\n",
    "\n",
    "draws = [func.from_unit_cube(x) for x in u]\n",
    "\n",
    "\n",
    "fig, ax = plt.subplots()\n",
    "\n",
    "\n",
    "ax.hist(draws, color=green, bins=50)\n",
    "\n",
    "ax.set_xlabel(\"value\")\n",
    "ax.set_ylabel(\"N\")\n",
    "\n"
   ]
  }
 ],
 "metadata": {
  "jupytext": {
   "formats": "ipynb,md"
  },
  "kernelspec": {
   "display_name": "Python 3 (ipykernel)",
   "language": "python",
   "name": "python3"
  },
  "language_info": {
   "codemirror_mode": {
    "name": "ipython",
    "version": 3
   },
   "file_extension": ".py",
   "mimetype": "text/x-python",
   "name": "python",
   "nbconvert_exporter": "python",
   "pygments_lexer": "ipython3",
   "version": "3.9.18"
  },
  "papermill": {
   "default_parameters": {},
   "duration": 5.835713,
   "end_time": "2023-11-01T20:53:29.111515",
   "environment_variables": {},
   "exception": null,
   "input_path": "Uniform_prior.ipynb",
   "output_path": "/Users/runner/work/astromodels/astromodels/docs/notebooks/Uniform_prior.ipynb",
   "parameters": {
    "func_name": "Uniform_prior",
    "positive_prior": false
   },
   "start_time": "2023-11-01T20:53:23.275802",
   "version": "2.4.0"
  }
 },
 "nbformat": 4,
 "nbformat_minor": 5
}
