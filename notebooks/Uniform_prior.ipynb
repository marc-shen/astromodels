{
 "cells": [
  {
   "cell_type": "markdown",
   "id": "44441811",
   "metadata": {
    "papermill": {
     "duration": 0.007704,
     "end_time": "2024-09-10T20:42:07.494064",
     "exception": false,
     "start_time": "2024-09-10T20:42:07.486360",
     "status": "completed"
    },
    "tags": []
   },
   "source": [
    "# Uniform prior"
   ]
  },
  {
   "cell_type": "code",
   "execution_count": 1,
   "id": "72d467a4",
   "metadata": {
    "execution": {
     "iopub.execute_input": "2024-09-10T20:42:07.505358Z",
     "iopub.status.busy": "2024-09-10T20:42:07.504653Z",
     "iopub.status.idle": "2024-09-10T20:42:09.610547Z",
     "shell.execute_reply": "2024-09-10T20:42:09.609683Z"
    },
    "nbsphinx": "hidden",
    "papermill": {
     "duration": 2.114857,
     "end_time": "2024-09-10T20:42:09.612943",
     "exception": false,
     "start_time": "2024-09-10T20:42:07.498086",
     "status": "completed"
    },
    "tags": []
   },
   "outputs": [],
   "source": [
    "%%capture\n",
    "\n",
    "import numpy as np\n",
    "\n",
    "import matplotlib.pyplot as plt\n",
    "\n",
    "import warnings\n",
    "warnings.simplefilter(\"ignore\")\n",
    "\n",
    "from astromodels.functions.function import _known_functions\n",
    "\n",
    "\n",
    "from jupyterthemes import jtplot\n",
    "jtplot.style(context=\"talk\", fscale=1, ticks=True, grid=False)\n",
    "%matplotlib inline"
   ]
  },
  {
   "cell_type": "code",
   "execution_count": 2,
   "id": "f98b1df1",
   "metadata": {
    "execution": {
     "iopub.execute_input": "2024-09-10T20:42:09.617355Z",
     "iopub.status.busy": "2024-09-10T20:42:09.616818Z",
     "iopub.status.idle": "2024-09-10T20:42:09.624293Z",
     "shell.execute_reply": "2024-09-10T20:42:09.623588Z"
    },
    "nbsphinx": "hidden",
    "papermill": {
     "duration": 0.01582,
     "end_time": "2024-09-10T20:42:09.630284",
     "exception": false,
     "start_time": "2024-09-10T20:42:09.614464",
     "status": "completed"
    },
    "tags": [
     "parameters"
    ]
   },
   "outputs": [],
   "source": [
    "func_name = \"TbAbs\"\n",
    "\n",
    "positive_prior = False\n"
   ]
  },
  {
   "cell_type": "code",
   "execution_count": 3,
   "id": "06e15233",
   "metadata": {
    "execution": {
     "iopub.execute_input": "2024-09-10T20:42:09.638234Z",
     "iopub.status.busy": "2024-09-10T20:42:09.637484Z",
     "iopub.status.idle": "2024-09-10T20:42:09.643880Z",
     "shell.execute_reply": "2024-09-10T20:42:09.641690Z"
    },
    "papermill": {
     "duration": 0.015797,
     "end_time": "2024-09-10T20:42:09.648535",
     "exception": false,
     "start_time": "2024-09-10T20:42:09.632738",
     "status": "completed"
    },
    "tags": [
     "injected-parameters"
    ]
   },
   "outputs": [],
   "source": [
    "# Parameters\n",
    "func_name = \"Uniform_prior\"\n",
    "positive_prior = False\n"
   ]
  },
  {
   "cell_type": "code",
   "execution_count": 4,
   "id": "fe090b74",
   "metadata": {
    "execution": {
     "iopub.execute_input": "2024-09-10T20:42:09.660662Z",
     "iopub.status.busy": "2024-09-10T20:42:09.659931Z",
     "iopub.status.idle": "2024-09-10T20:42:09.670300Z",
     "shell.execute_reply": "2024-09-10T20:42:09.668112Z"
    },
    "lines_to_next_cell": 0,
    "nbsphinx": "hidden",
    "papermill": {
     "duration": 0.022599,
     "end_time": "2024-09-10T20:42:09.674987",
     "exception": false,
     "start_time": "2024-09-10T20:42:09.652388",
     "status": "completed"
    },
    "tags": []
   },
   "outputs": [],
   "source": [
    "func = _known_functions[func_name]()\n",
    "\n",
    "if not positive_prior:\n",
    "\n",
    "\tenergy_grid = np.linspace(-5,5,1000)\n",
    "\n",
    "else:\n",
    "    \n",
    "    energy_grid = np.linspace(0,1,1000)\n",
    "    \n",
    "    \n",
    "    \n",
    "    \n",
    "blue = \"#4152E3\"\n",
    "red = \"#E3414B\"\n",
    "green = \"#41E39E\""
   ]
  },
  {
   "cell_type": "markdown",
   "id": "91226669",
   "metadata": {
    "lines_to_next_cell": 0,
    "papermill": {
     "duration": 0.002139,
     "end_time": "2024-09-10T20:42:09.680584",
     "exception": false,
     "start_time": "2024-09-10T20:42:09.678445",
     "status": "completed"
    },
    "tags": []
   },
   "source": [
    "## Description"
   ]
  },
  {
   "cell_type": "code",
   "execution_count": 5,
   "id": "7b62c678",
   "metadata": {
    "execution": {
     "iopub.execute_input": "2024-09-10T20:42:09.687301Z",
     "iopub.status.busy": "2024-09-10T20:42:09.686722Z",
     "iopub.status.idle": "2024-09-10T20:42:09.703137Z",
     "shell.execute_reply": "2024-09-10T20:42:09.701832Z"
    },
    "papermill": {
     "duration": 0.025735,
     "end_time": "2024-09-10T20:42:09.709542",
     "exception": false,
     "start_time": "2024-09-10T20:42:09.683807",
     "status": "completed"
    },
    "tags": []
   },
   "outputs": [
    {
     "data": {
      "text/html": [
       "<ul>\n",
       "\n",
       "<li>description: A function which is constant on the interval lower_bound - upper_bound and 0 outside the interval. The extremes of the interval are counted as part of the interval.</li>\n",
       "\n",
       "<li>formula: $ f(x)=\\begin{cases}0 & x < \\text{lower_bound} \\\\\\text{value} & \\text{lower_bound} \\le x \\le \\text{upper_bound} \\\\ 0 & x > \\text{upper_bound} \\end{cases}$</li>\n",
       "\n",
       "<li>parameters: \n",
       "<ul>\n",
       "\n",
       "<li>lower_bound: \n",
       "<ul>\n",
       "\n",
       "<li>value: 0.0</li>\n",
       "\n",
       "<li>desc: Lower bound for the interval</li>\n",
       "\n",
       "<li>min_value: -inf</li>\n",
       "\n",
       "<li>max_value: inf</li>\n",
       "\n",
       "<li>unit: </li>\n",
       "\n",
       "<li>is_normalization: False</li>\n",
       "\n",
       "<li>delta: 0.1</li>\n",
       "\n",
       "<li>free: True</li>\n",
       "\n",
       "</ul>\n",
       "\n",
       "</li>\n",
       "\n",
       "<li>upper_bound: \n",
       "<ul>\n",
       "\n",
       "<li>value: 1.0</li>\n",
       "\n",
       "<li>desc: Upper bound for the interval</li>\n",
       "\n",
       "<li>min_value: -inf</li>\n",
       "\n",
       "<li>max_value: inf</li>\n",
       "\n",
       "<li>unit: </li>\n",
       "\n",
       "<li>is_normalization: False</li>\n",
       "\n",
       "<li>delta: 0.1</li>\n",
       "\n",
       "<li>free: True</li>\n",
       "\n",
       "</ul>\n",
       "\n",
       "</li>\n",
       "\n",
       "<li>value: \n",
       "<ul>\n",
       "\n",
       "<li>value: 1.0</li>\n",
       "\n",
       "<li>desc: Value in the interval</li>\n",
       "\n",
       "<li>min_value: None</li>\n",
       "\n",
       "<li>max_value: None</li>\n",
       "\n",
       "<li>unit: </li>\n",
       "\n",
       "<li>is_normalization: False</li>\n",
       "\n",
       "<li>delta: 0.1</li>\n",
       "\n",
       "<li>free: True</li>\n",
       "\n",
       "</ul>\n",
       "\n",
       "</li>\n",
       "\n",
       "</ul>\n",
       "\n",
       "</li>\n",
       "\n",
       "</ul>\n"
      ],
      "text/plain": [
       "  * description: A function which is constant on the interval lower_bound - upper_bound\n",
       "    * and 0 outside the interval. The extremes of the interval are counted as part of\n",
       "    * the interval.\n",
       "  * formula: $ f(x)=\\begin{cases}0 & x < \\text{lower_bound} \\\\\\text{value} & \\text{lower_bound}\n",
       "    * \\le x \\le \\text{upper_bound} \\\\ 0 & x > \\text{upper_bound} \\end{cases}$\n",
       "  * parameters:\n",
       "    * lower_bound:\n",
       "      * value: 0.0\n",
       "      * desc: Lower bound for the interval\n",
       "      * min_value: -.inf\n",
       "      * max_value: .inf\n",
       "      * unit: ''\n",
       "      * is_normalization: false\n",
       "      * delta: 0.1\n",
       "      * free: true\n",
       "    * upper_bound:\n",
       "      * value: 1.0\n",
       "      * desc: Upper bound for the interval\n",
       "      * min_value: -.inf\n",
       "      * max_value: .inf\n",
       "      * unit: ''\n",
       "      * is_normalization: false\n",
       "      * delta: 0.1\n",
       "      * free: true\n",
       "    * value:\n",
       "      * value: 1.0\n",
       "      * desc: Value in the interval\n",
       "      * min_value: null\n",
       "      * max_value: null\n",
       "      * unit: ''\n",
       "      * is_normalization: false\n",
       "      * delta: 0.1\n",
       "      * free: true"
      ]
     },
     "metadata": {},
     "output_type": "display_data"
    }
   ],
   "source": [
    "func.display()"
   ]
  },
  {
   "cell_type": "markdown",
   "id": "2dddea09",
   "metadata": {
    "papermill": {
     "duration": 0.001578,
     "end_time": "2024-09-10T20:42:09.714123",
     "exception": false,
     "start_time": "2024-09-10T20:42:09.712545",
     "status": "completed"
    },
    "tags": []
   },
   "source": [
    "## Shape \n",
    "\n",
    "The shape of the function. \n",
    "\n",
    "*If this is not a photon model but a prior or linear function then ignore the units as these docs are auto-generated*"
   ]
  },
  {
   "cell_type": "code",
   "execution_count": 6,
   "id": "7d56c7bd",
   "metadata": {
    "execution": {
     "iopub.execute_input": "2024-09-10T20:42:09.720293Z",
     "iopub.status.busy": "2024-09-10T20:42:09.719829Z",
     "iopub.status.idle": "2024-09-10T20:42:09.878870Z",
     "shell.execute_reply": "2024-09-10T20:42:09.874170Z"
    },
    "papermill": {
     "duration": 0.174221,
     "end_time": "2024-09-10T20:42:09.890926",
     "exception": false,
     "start_time": "2024-09-10T20:42:09.716705",
     "status": "completed"
    },
    "tags": [
     "nbsphinx-thumbnail"
    ]
   },
   "outputs": [
    {
     "data": {
      "text/plain": [
       "Text(0, 0.5, 'probability')"
      ]
     },
     "execution_count": 6,
     "metadata": {},
     "output_type": "execute_result"
    },
    {
     "data": {
      "image/png": "[encoded data removed]",
      "text/plain": [
       "<Figure size 1040x910 with 1 Axes>"
      ]
     },
     "metadata": {},
     "output_type": "display_data"
    }
   ],
   "source": [
    "fig, ax = plt.subplots()\n",
    "\n",
    "\n",
    "ax.plot(energy_grid, func(energy_grid), color=blue, lw=3)\n",
    "\n",
    "ax.set_xlabel(\"x\")\n",
    "ax.set_ylabel(\"probability\")\n"
   ]
  },
  {
   "cell_type": "markdown",
   "id": "049cbcf5",
   "metadata": {
    "papermill": {
     "duration": 0.008578,
     "end_time": "2024-09-10T20:42:09.904299",
     "exception": false,
     "start_time": "2024-09-10T20:42:09.895721",
     "status": "completed"
    },
    "tags": []
   },
   "source": [
    "## Random Number Generation\n",
    "\n",
    "This is how we can generate random numbers from the prior.\n"
   ]
  },
  {
   "cell_type": "code",
   "execution_count": 7,
   "id": "b34aea17",
   "metadata": {
    "execution": {
     "iopub.execute_input": "2024-09-10T20:42:09.928540Z",
     "iopub.status.busy": "2024-09-10T20:42:09.927592Z",
     "iopub.status.idle": "2024-09-10T20:42:10.094422Z",
     "shell.execute_reply": "2024-09-10T20:42:10.093816Z"
    },
    "papermill": {
     "duration": 0.181122,
     "end_time": "2024-09-10T20:42:10.098232",
     "exception": false,
     "start_time": "2024-09-10T20:42:09.917110",
     "status": "completed"
    },
    "tags": []
   },
   "outputs": [
    {
     "data": {
      "text/plain": [
       "Text(0, 0.5, 'N')"
      ]
     },
     "execution_count": 7,
     "metadata": {},
     "output_type": "execute_result"
    },
    {
     "data": {
      "image/png": "[encoded data removed]",
      "text/plain": [
       "<Figure size 1040x910 with 1 Axes>"
      ]
     },
     "metadata": {},
     "output_type": "display_data"
    }
   ],
   "source": [
    "\n",
    "\n",
    "u = np.random.uniform(0,1, size=5000)\n",
    "\n",
    "draws = [func.from_unit_cube(x) for x in u]\n",
    "\n",
    "\n",
    "fig, ax = plt.subplots()\n",
    "\n",
    "\n",
    "ax.hist(draws, color=green, bins=50)\n",
    "\n",
    "ax.set_xlabel(\"value\")\n",
    "ax.set_ylabel(\"N\")\n",
    "\n"
   ]
  }
 ],
 "metadata": {
  "jupytext": {
   "formats": "ipynb,md"
  },
  "kernelspec": {
   "display_name": "Python 3 (ipykernel)",
   "language": "python",
   "name": "python3"
  },
  "language_info": {
   "codemirror_mode": {
    "name": "ipython",
    "version": 3
   },
   "file_extension": ".py",
   "mimetype": "text/x-python",
   "name": "python",
   "nbconvert_exporter": "python",
   "pygments_lexer": "ipython3",
   "version": "3.9.13"
  },
  "papermill": {
   "default_parameters": {},
   "duration": 3.928565,
   "end_time": "2024-09-10T20:42:10.651645",
   "environment_variables": {},
   "exception": null,
   "input_path": "Uniform_prior.ipynb",
   "output_path": "/Users/runner/work/astromodels/astromodels/docs/notebooks/Uniform_prior.ipynb",
   "parameters": {
    "func_name": "Uniform_prior",
    "positive_prior": false
   },
   "start_time": "2024-09-10T20:42:06.723080",
   "version": "2.6.0"
  }
 },
 "nbformat": 4,
 "nbformat_minor": 5
}
