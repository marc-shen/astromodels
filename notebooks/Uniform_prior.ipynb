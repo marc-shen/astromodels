{
 "cells": [
  {
   "cell_type": "markdown",
   "id": "605548b0",
   "metadata": {
    "papermill": {
     "duration": 0.00439,
     "end_time": "2025-04-29T23:20:53.727385",
     "exception": false,
     "start_time": "2025-04-29T23:20:53.722995",
     "status": "completed"
    },
    "tags": []
   },
   "source": [
    "# Uniform prior"
   ]
  },
  {
   "cell_type": "code",
   "execution_count": 1,
   "id": "36144cfd",
   "metadata": {
    "execution": {
     "iopub.execute_input": "2025-04-29T23:20:53.736535Z",
     "iopub.status.busy": "2025-04-29T23:20:53.736072Z",
     "iopub.status.idle": "2025-04-29T23:20:55.682730Z",
     "shell.execute_reply": "2025-04-29T23:20:55.681751Z"
    },
    "nbsphinx": "hidden",
    "papermill": {
     "duration": 1.954042,
     "end_time": "2025-04-29T23:20:55.685290",
     "exception": false,
     "start_time": "2025-04-29T23:20:53.731248",
     "status": "completed"
    },
    "tags": []
   },
   "outputs": [],
   "source": [
    "%%capture\n",
    "\n",
    "import numpy as np\n",
    "\n",
    "import matplotlib.pyplot as plt\n",
    "\n",
    "import warnings\n",
    "warnings.simplefilter(\"ignore\")\n",
    "\n",
    "from astromodels.functions.function import _known_functions\n",
    "\n",
    "\n",
    "from jupyterthemes import jtplot\n",
    "jtplot.style(context=\"talk\", fscale=1, ticks=True, grid=False)\n",
    "%matplotlib inline"
   ]
  },
  {
   "cell_type": "code",
   "execution_count": 2,
   "id": "99fd533a",
   "metadata": {
    "execution": {
     "iopub.execute_input": "2025-04-29T23:20:55.691005Z",
     "iopub.status.busy": "2025-04-29T23:20:55.689950Z",
     "iopub.status.idle": "2025-04-29T23:20:55.699804Z",
     "shell.execute_reply": "2025-04-29T23:20:55.699158Z"
    },
    "nbsphinx": "hidden",
    "papermill": {
     "duration": 0.014267,
     "end_time": "2025-04-29T23:20:55.701506",
     "exception": false,
     "start_time": "2025-04-29T23:20:55.687239",
     "status": "completed"
    },
    "tags": [
     "parameters"
    ]
   },
   "outputs": [],
   "source": [
    "func_name = \"TbAbs\"\n",
    "\n",
    "positive_prior = False\n"
   ]
  },
  {
   "cell_type": "code",
   "execution_count": 3,
   "id": "0e1f75c5",
   "metadata": {
    "execution": {
     "iopub.execute_input": "2025-04-29T23:20:55.705007Z",
     "iopub.status.busy": "2025-04-29T23:20:55.704777Z",
     "iopub.status.idle": "2025-04-29T23:20:55.707949Z",
     "shell.execute_reply": "2025-04-29T23:20:55.707245Z"
    },
    "papermill": {
     "duration": 0.00691,
     "end_time": "2025-04-29T23:20:55.709817",
     "exception": false,
     "start_time": "2025-04-29T23:20:55.702907",
     "status": "completed"
    },
    "tags": [
     "injected-parameters"
    ]
   },
   "outputs": [],
   "source": [
    "# Parameters\n",
    "func_name = \"Uniform_prior\"\n",
    "positive_prior = False\n"
   ]
  },
  {
   "cell_type": "code",
   "execution_count": 4,
   "id": "3c2a9f2a",
   "metadata": {
    "execution": {
     "iopub.execute_input": "2025-04-29T23:20:55.713592Z",
     "iopub.status.busy": "2025-04-29T23:20:55.713366Z",
     "iopub.status.idle": "2025-04-29T23:20:55.717937Z",
     "shell.execute_reply": "2025-04-29T23:20:55.716916Z"
    },
    "lines_to_next_cell": 0,
    "nbsphinx": "hidden",
    "papermill": {
     "duration": 0.008386,
     "end_time": "2025-04-29T23:20:55.719710",
     "exception": false,
     "start_time": "2025-04-29T23:20:55.711324",
     "status": "completed"
    },
    "tags": []
   },
   "outputs": [],
   "source": [
    "func = _known_functions[func_name]()\n",
    "\n",
    "if not positive_prior:\n",
    "\n",
    "\tenergy_grid = np.linspace(-5,5,1000)\n",
    "\n",
    "else:\n",
    "    \n",
    "    energy_grid = np.linspace(0,1,1000)\n",
    "    \n",
    "    \n",
    "    \n",
    "    \n",
    "blue = \"#4152E3\"\n",
    "red = \"#E3414B\"\n",
    "green = \"#41E39E\""
   ]
  },
  {
   "cell_type": "markdown",
   "id": "8619fcf1",
   "metadata": {
    "lines_to_next_cell": 0,
    "papermill": {
     "duration": 0.0012,
     "end_time": "2025-04-29T23:20:55.722466",
     "exception": false,
     "start_time": "2025-04-29T23:20:55.721266",
     "status": "completed"
    },
    "tags": []
   },
   "source": [
    "## Description"
   ]
  },
  {
   "cell_type": "code",
   "execution_count": 5,
   "id": "a780df75",
   "metadata": {
    "execution": {
     "iopub.execute_input": "2025-04-29T23:20:55.726466Z",
     "iopub.status.busy": "2025-04-29T23:20:55.726216Z",
     "iopub.status.idle": "2025-04-29T23:20:55.733026Z",
     "shell.execute_reply": "2025-04-29T23:20:55.731825Z"
    },
    "papermill": {
     "duration": 0.011566,
     "end_time": "2025-04-29T23:20:55.735299",
     "exception": false,
     "start_time": "2025-04-29T23:20:55.723733",
     "status": "completed"
    },
    "tags": []
   },
   "outputs": [
    {
     "data": {
      "text/html": [
       "<ul>\n",
       "\n",
       "<li>description: A function which is constant on the interval lower_bound - upper_bound and 0 outside the interval. The extremes of the interval are counted as part of the interval.</li>\n",
       "\n",
       "<li>formula: $ f(x)=\\begin{cases}0 & x < \\text{lower_bound} \\\\\\text{value} & \\text{lower_bound} \\le x \\le \\text{upper_bound} \\\\ 0 & x > \\text{upper_bound} \\end{cases}$</li>\n",
       "\n",
       "<li>parameters: \n",
       "<ul>\n",
       "\n",
       "<li>lower_bound: \n",
       "<ul>\n",
       "\n",
       "<li>value: 0.0</li>\n",
       "\n",
       "<li>desc: Lower bound for the interval</li>\n",
       "\n",
       "<li>min_value: -inf</li>\n",
       "\n",
       "<li>max_value: inf</li>\n",
       "\n",
       "<li>unit: </li>\n",
       "\n",
       "<li>is_normalization: False</li>\n",
       "\n",
       "<li>delta: 0.1</li>\n",
       "\n",
       "<li>free: True</li>\n",
       "\n",
       "</ul>\n",
       "\n",
       "</li>\n",
       "\n",
       "<li>upper_bound: \n",
       "<ul>\n",
       "\n",
       "<li>value: 1.0</li>\n",
       "\n",
       "<li>desc: Upper bound for the interval</li>\n",
       "\n",
       "<li>min_value: -inf</li>\n",
       "\n",
       "<li>max_value: inf</li>\n",
       "\n",
       "<li>unit: </li>\n",
       "\n",
       "<li>is_normalization: False</li>\n",
       "\n",
       "<li>delta: 0.1</li>\n",
       "\n",
       "<li>free: True</li>\n",
       "\n",
       "</ul>\n",
       "\n",
       "</li>\n",
       "\n",
       "<li>value: \n",
       "<ul>\n",
       "\n",
       "<li>value: 1.0</li>\n",
       "\n",
       "<li>desc: Value in the interval</li>\n",
       "\n",
       "<li>min_value: None</li>\n",
       "\n",
       "<li>max_value: None</li>\n",
       "\n",
       "<li>unit: </li>\n",
       "\n",
       "<li>is_normalization: False</li>\n",
       "\n",
       "<li>delta: 0.1</li>\n",
       "\n",
       "<li>free: True</li>\n",
       "\n",
       "</ul>\n",
       "\n",
       "</li>\n",
       "\n",
       "</ul>\n",
       "\n",
       "</li>\n",
       "\n",
       "</ul>\n"
      ],
      "text/plain": [
       "  * description: A function which is constant on the interval lower_bound - upper_bound\n",
       "    * and 0 outside the interval. The extremes of the interval are counted as part of\n",
       "    * the interval.\n",
       "  * formula: $ f(x)=\\begin{cases}0 & x < \\text{lower_bound} \\\\\\text{value} & \\text{lower_bound}\n",
       "    * \\le x \\le \\text{upper_bound} \\\\ 0 & x > \\text{upper_bound} \\end{cases}$\n",
       "  * parameters:\n",
       "    * lower_bound:\n",
       "      * value: 0.0\n",
       "      * desc: Lower bound for the interval\n",
       "      * min_value: -.inf\n",
       "      * max_value: .inf\n",
       "      * unit: ''\n",
       "      * is_normalization: false\n",
       "      * delta: 0.1\n",
       "      * free: true\n",
       "    * upper_bound:\n",
       "      * value: 1.0\n",
       "      * desc: Upper bound for the interval\n",
       "      * min_value: -.inf\n",
       "      * max_value: .inf\n",
       "      * unit: ''\n",
       "      * is_normalization: false\n",
       "      * delta: 0.1\n",
       "      * free: true\n",
       "    * value:\n",
       "      * value: 1.0\n",
       "      * desc: Value in the interval\n",
       "      * min_value: null\n",
       "      * max_value: null\n",
       "      * unit: ''\n",
       "      * is_normalization: false\n",
       "      * delta: 0.1\n",
       "      * free: true"
      ]
     },
     "metadata": {},
     "output_type": "display_data"
    }
   ],
   "source": [
    "func.display()"
   ]
  },
  {
   "cell_type": "markdown",
   "id": "ec90df66",
   "metadata": {
    "papermill": {
     "duration": 0.001825,
     "end_time": "2025-04-29T23:20:55.738937",
     "exception": false,
     "start_time": "2025-04-29T23:20:55.737112",
     "status": "completed"
    },
    "tags": []
   },
   "source": [
    "## Shape \n",
    "\n",
    "The shape of the function. \n",
    "\n",
    "*If this is not a photon model but a prior or linear function then ignore the units as these docs are auto-generated*"
   ]
  },
  {
   "cell_type": "code",
   "execution_count": 6,
   "id": "4127c15c",
   "metadata": {
    "execution": {
     "iopub.execute_input": "2025-04-29T23:20:55.743451Z",
     "iopub.status.busy": "2025-04-29T23:20:55.743209Z",
     "iopub.status.idle": "2025-04-29T23:20:55.872483Z",
     "shell.execute_reply": "2025-04-29T23:20:55.870727Z"
    },
    "papermill": {
     "duration": 0.133211,
     "end_time": "2025-04-29T23:20:55.873803",
     "exception": false,
     "start_time": "2025-04-29T23:20:55.740592",
     "status": "completed"
    },
    "tags": [
     "nbsphinx-thumbnail"
    ]
   },
   "outputs": [
    {
     "data": {
      "text/plain": [
       "Text(0, 0.5, 'probability')"
      ]
     },
     "execution_count": 6,
     "metadata": {},
     "output_type": "execute_result"
    },
    {
     "data": {
      "image/png": "[encoded data removed]",
      "text/plain": [
       "<Figure size 1040x910 with 1 Axes>"
      ]
     },
     "metadata": {},
     "output_type": "display_data"
    }
   ],
   "source": [
    "fig, ax = plt.subplots()\n",
    "\n",
    "\n",
    "ax.plot(energy_grid, func(energy_grid), color=blue, lw=3)\n",
    "\n",
    "ax.set_xlabel(\"x\")\n",
    "ax.set_ylabel(\"probability\")\n"
   ]
  },
  {
   "cell_type": "markdown",
   "id": "2ba06b24",
   "metadata": {
    "papermill": {
     "duration": 0.003146,
     "end_time": "2025-04-29T23:20:55.878714",
     "exception": false,
     "start_time": "2025-04-29T23:20:55.875568",
     "status": "completed"
    },
    "tags": []
   },
   "source": [
    "## Random Number Generation\n",
    "\n",
    "This is how we can generate random numbers from the prior.\n"
   ]
  },
  {
   "cell_type": "code",
   "execution_count": 7,
   "id": "70fc0e4c",
   "metadata": {
    "execution": {
     "iopub.execute_input": "2025-04-29T23:20:55.884118Z",
     "iopub.status.busy": "2025-04-29T23:20:55.883888Z",
     "iopub.status.idle": "2025-04-29T23:20:56.017706Z",
     "shell.execute_reply": "2025-04-29T23:20:56.016409Z"
    },
    "papermill": {
     "duration": 0.140064,
     "end_time": "2025-04-29T23:20:56.020427",
     "exception": false,
     "start_time": "2025-04-29T23:20:55.880363",
     "status": "completed"
    },
    "tags": []
   },
   "outputs": [
    {
     "data": {
      "text/plain": [
       "Text(0, 0.5, 'N')"
      ]
     },
     "execution_count": 7,
     "metadata": {},
     "output_type": "execute_result"
    },
    {
     "data": {
      "image/png": "[encoded data removed]",
      "text/plain": [
       "<Figure size 1040x910 with 1 Axes>"
      ]
     },
     "metadata": {},
     "output_type": "display_data"
    }
   ],
   "source": [
    "\n",
    "\n",
    "u = np.random.uniform(0,1, size=5000)\n",
    "\n",
    "draws = [func.from_unit_cube(x) for x in u]\n",
    "\n",
    "\n",
    "fig, ax = plt.subplots()\n",
    "\n",
    "\n",
    "ax.hist(draws, color=green, bins=50)\n",
    "\n",
    "ax.set_xlabel(\"value\")\n",
    "ax.set_ylabel(\"N\")\n",
    "\n"
   ]
  }
 ],
 "metadata": {
  "jupytext": {
   "formats": "ipynb,md"
  },
  "kernelspec": {
   "display_name": "Python 3 (ipykernel)",
   "language": "python",
   "name": "python3"
  },
  "language_info": {
   "codemirror_mode": {
    "name": "ipython",
    "version": 3
   },
   "file_extension": ".py",
   "mimetype": "text/x-python",
   "name": "python",
   "nbconvert_exporter": "python",
   "pygments_lexer": "ipython3",
   "version": "3.9.13"
  },
  "papermill": {
   "default_parameters": {},
   "duration": 3.516284,
   "end_time": "2025-04-29T23:20:56.558098",
   "environment_variables": {},
   "exception": null,
   "input_path": "Uniform_prior.ipynb",
   "output_path": "/Users/runner/work/astromodels/astromodels/docs/notebooks/Uniform_prior.ipynb",
   "parameters": {
    "func_name": "Uniform_prior",
    "positive_prior": false
   },
   "start_time": "2025-04-29T23:20:53.041814",
   "version": "2.6.0"
  }
 },
 "nbformat": 4,
 "nbformat_minor": 5
}
