{
 "cells": [
  {
   "cell_type": "markdown",
   "id": "284aa719",
   "metadata": {
    "papermill": {
     "duration": 0.006545,
     "end_time": "2022-09-28T05:15:59.847441",
     "exception": false,
     "start_time": "2022-09-28T05:15:59.840896",
     "status": "completed"
    },
    "tags": []
   },
   "source": [
    "# Uniform prior"
   ]
  },
  {
   "cell_type": "code",
   "execution_count": 1,
   "id": "d9cc4d0a",
   "metadata": {
    "execution": {
     "iopub.execute_input": "2022-09-28T05:15:59.858515Z",
     "iopub.status.busy": "2022-09-28T05:15:59.857881Z",
     "iopub.status.idle": "2022-09-28T05:16:04.723155Z",
     "shell.execute_reply": "2022-09-28T05:16:04.721823Z"
    },
    "nbsphinx": "hidden",
    "papermill": {
     "duration": 4.874743,
     "end_time": "2022-09-28T05:16:04.726415",
     "exception": false,
     "start_time": "2022-09-28T05:15:59.851672",
     "status": "completed"
    },
    "tags": []
   },
   "outputs": [],
   "source": [
    "%%capture\n",
    "\n",
    "import numpy as np\n",
    "\n",
    "import matplotlib.pyplot as plt\n",
    "\n",
    "import warnings\n",
    "warnings.simplefilter(\"ignore\")\n",
    "\n",
    "from astromodels.functions.function import _known_functions\n",
    "\n",
    "\n",
    "from jupyterthemes import jtplot\n",
    "jtplot.style(context=\"talk\", fscale=1, ticks=True, grid=False)\n",
    "%matplotlib inline"
   ]
  },
  {
   "cell_type": "code",
   "execution_count": 2,
   "id": "5104dd79",
   "metadata": {
    "execution": {
     "iopub.execute_input": "2022-09-28T05:16:04.736626Z",
     "iopub.status.busy": "2022-09-28T05:16:04.736094Z",
     "iopub.status.idle": "2022-09-28T05:16:04.741586Z",
     "shell.execute_reply": "2022-09-28T05:16:04.740420Z"
    },
    "nbsphinx": "hidden",
    "papermill": {
     "duration": 0.013634,
     "end_time": "2022-09-28T05:16:04.744514",
     "exception": false,
     "start_time": "2022-09-28T05:16:04.730880",
     "status": "completed"
    },
    "tags": [
     "parameters"
    ]
   },
   "outputs": [],
   "source": [
    "func_name = \"TbAbs\"\n",
    "\n",
    "positive_prior = False\n"
   ]
  },
  {
   "cell_type": "code",
   "execution_count": 3,
   "id": "c30dc1da",
   "metadata": {
    "execution": {
     "iopub.execute_input": "2022-09-28T05:16:04.753244Z",
     "iopub.status.busy": "2022-09-28T05:16:04.752824Z",
     "iopub.status.idle": "2022-09-28T05:16:04.757952Z",
     "shell.execute_reply": "2022-09-28T05:16:04.756858Z"
    },
    "papermill": {
     "duration": 0.013532,
     "end_time": "2022-09-28T05:16:04.761029",
     "exception": false,
     "start_time": "2022-09-28T05:16:04.747497",
     "status": "completed"
    },
    "tags": [
     "injected-parameters"
    ]
   },
   "outputs": [],
   "source": [
    "# Parameters\n",
    "func_name = \"Uniform_prior\"\n",
    "positive_prior = False\n"
   ]
  },
  {
   "cell_type": "code",
   "execution_count": 4,
   "id": "3ac9297b",
   "metadata": {
    "execution": {
     "iopub.execute_input": "2022-09-28T05:16:04.771013Z",
     "iopub.status.busy": "2022-09-28T05:16:04.770517Z",
     "iopub.status.idle": "2022-09-28T05:16:04.780223Z",
     "shell.execute_reply": "2022-09-28T05:16:04.778862Z"
    },
    "lines_to_next_cell": 0,
    "nbsphinx": "hidden",
    "papermill": {
     "duration": 0.018816,
     "end_time": "2022-09-28T05:16:04.783525",
     "exception": false,
     "start_time": "2022-09-28T05:16:04.764709",
     "status": "completed"
    },
    "tags": []
   },
   "outputs": [],
   "source": [
    "func = _known_functions[func_name]()\n",
    "\n",
    "if not positive_prior:\n",
    "\n",
    "\tenergy_grid = np.linspace(-5,5,1000)\n",
    "\n",
    "else:\n",
    "    \n",
    "    energy_grid = np.linspace(0,1,1000)\n",
    "    \n",
    "    \n",
    "    \n",
    "    \n",
    "blue = \"#4152E3\"\n",
    "red = \"#E3414B\"\n",
    "green = \"#41E39E\""
   ]
  },
  {
   "cell_type": "markdown",
   "id": "db6b29ec",
   "metadata": {
    "lines_to_next_cell": 0,
    "papermill": {
     "duration": 0.004133,
     "end_time": "2022-09-28T05:16:04.791634",
     "exception": false,
     "start_time": "2022-09-28T05:16:04.787501",
     "status": "completed"
    },
    "tags": []
   },
   "source": [
    "## Description"
   ]
  },
  {
   "cell_type": "code",
   "execution_count": 5,
   "id": "64554c67",
   "metadata": {
    "execution": {
     "iopub.execute_input": "2022-09-28T05:16:04.801120Z",
     "iopub.status.busy": "2022-09-28T05:16:04.800627Z",
     "iopub.status.idle": "2022-09-28T05:16:04.814658Z",
     "shell.execute_reply": "2022-09-28T05:16:04.811925Z"
    },
    "papermill": {
     "duration": 0.022849,
     "end_time": "2022-09-28T05:16:04.818304",
     "exception": false,
     "start_time": "2022-09-28T05:16:04.795455",
     "status": "completed"
    },
    "tags": []
   },
   "outputs": [
    {
     "data": {
      "text/html": [
       "<ul>\n",
       "\n",
       "<li>description: A function which is constant on the interval lower_bound - upper_bound and 0 outside the interval. The extremes of the interval are counted as part of the interval.</li>\n",
       "\n",
       "<li>formula: $ f(x)=\\begin{cases}0 & x < \\text{lower_bound} \\\\\\text{value} & \\text{lower_bound} \\le x \\le \\text{upper_bound} \\\\ 0 & x > \\text{upper_bound} \\end{cases}$</li>\n",
       "\n",
       "<li>parameters: \n",
       "<ul>\n",
       "\n",
       "<li>lower_bound: \n",
       "<ul>\n",
       "\n",
       "<li>value: 0.0</li>\n",
       "\n",
       "<li>desc: Lower bound for the interval</li>\n",
       "\n",
       "<li>min_value: -inf</li>\n",
       "\n",
       "<li>max_value: inf</li>\n",
       "\n",
       "<li>unit: </li>\n",
       "\n",
       "<li>is_normalization: False</li>\n",
       "\n",
       "<li>delta: 0.1</li>\n",
       "\n",
       "<li>free: True</li>\n",
       "\n",
       "</ul>\n",
       "\n",
       "</li>\n",
       "\n",
       "<li>upper_bound: \n",
       "<ul>\n",
       "\n",
       "<li>value: 1.0</li>\n",
       "\n",
       "<li>desc: Upper bound for the interval</li>\n",
       "\n",
       "<li>min_value: -inf</li>\n",
       "\n",
       "<li>max_value: inf</li>\n",
       "\n",
       "<li>unit: </li>\n",
       "\n",
       "<li>is_normalization: False</li>\n",
       "\n",
       "<li>delta: 0.1</li>\n",
       "\n",
       "<li>free: True</li>\n",
       "\n",
       "</ul>\n",
       "\n",
       "</li>\n",
       "\n",
       "<li>value: \n",
       "<ul>\n",
       "\n",
       "<li>value: 1.0</li>\n",
       "\n",
       "<li>desc: Value in the interval</li>\n",
       "\n",
       "<li>min_value: None</li>\n",
       "\n",
       "<li>max_value: None</li>\n",
       "\n",
       "<li>unit: </li>\n",
       "\n",
       "<li>is_normalization: False</li>\n",
       "\n",
       "<li>delta: 0.1</li>\n",
       "\n",
       "<li>free: True</li>\n",
       "\n",
       "</ul>\n",
       "\n",
       "</li>\n",
       "\n",
       "</ul>\n",
       "\n",
       "</li>\n",
       "\n",
       "</ul>\n"
      ],
      "text/plain": [
       "  * description: A function which is constant on the interval lower_bound - upper_bound\n",
       "    * and 0 outside the interval. The extremes of the interval are counted as part of\n",
       "    * the interval.\n",
       "  * formula: $ f(x)=\\begin{cases}0 & x < \\text{lower_bound} \\\\\\text{value} & \\text{lower_bound}\n",
       "    * \\le x \\le \\text{upper_bound} \\\\ 0 & x > \\text{upper_bound} \\end{cases}$\n",
       "  * parameters:\n",
       "    * lower_bound:\n",
       "      * value: 0.0\n",
       "      * desc: Lower bound for the interval\n",
       "      * min_value: -.inf\n",
       "      * max_value: .inf\n",
       "      * unit: ''\n",
       "      * is_normalization: false\n",
       "      * delta: 0.1\n",
       "      * free: true\n",
       "    * upper_bound:\n",
       "      * value: 1.0\n",
       "      * desc: Upper bound for the interval\n",
       "      * min_value: -.inf\n",
       "      * max_value: .inf\n",
       "      * unit: ''\n",
       "      * is_normalization: false\n",
       "      * delta: 0.1\n",
       "      * free: true\n",
       "    * value:\n",
       "      * value: 1.0\n",
       "      * desc: Value in the interval\n",
       "      * min_value: null\n",
       "      * max_value: null\n",
       "      * unit: ''\n",
       "      * is_normalization: false\n",
       "      * delta: 0.1\n",
       "      * free: true"
      ]
     },
     "metadata": {},
     "output_type": "display_data"
    }
   ],
   "source": [
    "func.display()"
   ]
  },
  {
   "cell_type": "markdown",
   "id": "26de34a3",
   "metadata": {
    "papermill": {
     "duration": 0.003847,
     "end_time": "2022-09-28T05:16:04.827484",
     "exception": false,
     "start_time": "2022-09-28T05:16:04.823637",
     "status": "completed"
    },
    "tags": []
   },
   "source": [
    "## Shape \n",
    "\n",
    "The shape of the function. \n",
    "\n",
    "*If this is not a photon model but a prior or linear function then ignore the units as these docs are auto-generated*"
   ]
  },
  {
   "cell_type": "code",
   "execution_count": 6,
   "id": "a283333a",
   "metadata": {
    "execution": {
     "iopub.execute_input": "2022-09-28T05:16:04.837700Z",
     "iopub.status.busy": "2022-09-28T05:16:04.837188Z",
     "iopub.status.idle": "2022-09-28T05:16:05.495380Z",
     "shell.execute_reply": "2022-09-28T05:16:05.493313Z"
    },
    "papermill": {
     "duration": 0.667226,
     "end_time": "2022-09-28T05:16:05.498828",
     "exception": false,
     "start_time": "2022-09-28T05:16:04.831602",
     "status": "completed"
    },
    "tags": [
     "nbsphinx-thumbnail"
    ]
   },
   "outputs": [
    {
     "data": {
      "text/plain": [
       "Text(0, 0.5, 'probability')"
      ]
     },
     "execution_count": 6,
     "metadata": {},
     "output_type": "execute_result"
    },
    {
     "data": {
      "image/png": "[encoded data removed]",
      "text/plain": [
       "<Figure size 1040x910 with 1 Axes>"
      ]
     },
     "metadata": {},
     "output_type": "display_data"
    }
   ],
   "source": [
    "fig, ax = plt.subplots()\n",
    "\n",
    "\n",
    "ax.plot(energy_grid, func(energy_grid), color=blue, lw=3)\n",
    "\n",
    "ax.set_xlabel(\"x\")\n",
    "ax.set_ylabel(\"probability\")\n"
   ]
  },
  {
   "cell_type": "markdown",
   "id": "93f991a3",
   "metadata": {
    "papermill": {
     "duration": 0.005494,
     "end_time": "2022-09-28T05:16:05.508743",
     "exception": false,
     "start_time": "2022-09-28T05:16:05.503249",
     "status": "completed"
    },
    "tags": []
   },
   "source": [
    "## Random Number Generation\n",
    "\n",
    "This is how we can generate random numbers from the prior.\n"
   ]
  },
  {
   "cell_type": "code",
   "execution_count": 7,
   "id": "4c5ed961",
   "metadata": {
    "execution": {
     "iopub.execute_input": "2022-09-28T05:16:05.519086Z",
     "iopub.status.busy": "2022-09-28T05:16:05.518448Z",
     "iopub.status.idle": "2022-09-28T05:16:06.227663Z",
     "shell.execute_reply": "2022-09-28T05:16:06.226444Z"
    },
    "papermill": {
     "duration": 0.719228,
     "end_time": "2022-09-28T05:16:06.231789",
     "exception": false,
     "start_time": "2022-09-28T05:16:05.512561",
     "status": "completed"
    },
    "tags": []
   },
   "outputs": [
    {
     "data": {
      "text/plain": [
       "Text(0, 0.5, 'N')"
      ]
     },
     "execution_count": 7,
     "metadata": {},
     "output_type": "execute_result"
    },
    {
     "data": {
      "image/png": "[encoded data removed]",
      "text/plain": [
       "<Figure size 1040x910 with 1 Axes>"
      ]
     },
     "metadata": {},
     "output_type": "display_data"
    }
   ],
   "source": [
    "\n",
    "\n",
    "u = np.random.uniform(0,1, size=5000)\n",
    "\n",
    "draws = [func.from_unit_cube(x) for x in u]\n",
    "\n",
    "\n",
    "fig, ax = plt.subplots()\n",
    "\n",
    "\n",
    "ax.hist(draws, color=green, bins=50)\n",
    "\n",
    "ax.set_xlabel(\"value\")\n",
    "ax.set_ylabel(\"N\")\n",
    "\n"
   ]
  }
 ],
 "metadata": {
  "jupytext": {
   "formats": "ipynb,md"
  },
  "kernelspec": {
   "display_name": "Python 3 (ipykernel)",
   "language": "python",
   "name": "python3"
  },
  "language_info": {
   "codemirror_mode": {
    "name": "ipython",
    "version": 3
   },
   "file_extension": ".py",
   "mimetype": "text/x-python",
   "name": "python",
   "nbconvert_exporter": "python",
   "pygments_lexer": "ipython3",
   "version": "3.9.14"
  },
  "papermill": {
   "default_parameters": {},
   "duration": 9.079359,
   "end_time": "2022-09-28T05:16:07.252490",
   "environment_variables": {},
   "exception": null,
   "input_path": "Uniform_prior.ipynb",
   "output_path": "/Users/runner/work/astromodels/astromodels/docs/notebooks/Uniform_prior.ipynb",
   "parameters": {
    "func_name": "Uniform_prior",
    "positive_prior": false
   },
   "start_time": "2022-09-28T05:15:58.173131",
   "version": "2.4.0"
  }
 },
 "nbformat": 4,
 "nbformat_minor": 5
}
