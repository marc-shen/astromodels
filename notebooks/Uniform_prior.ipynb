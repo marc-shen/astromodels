{
 "cells": [
  {
   "cell_type": "markdown",
   "id": "ae847a7c",
   "metadata": {
    "papermill": {
     "duration": 0.004391,
     "end_time": "2023-11-02T00:03:12.890545",
     "exception": false,
     "start_time": "2023-11-02T00:03:12.886154",
     "status": "completed"
    },
    "tags": []
   },
   "source": [
    "# Uniform prior"
   ]
  },
  {
   "cell_type": "code",
   "execution_count": 1,
   "id": "293d23ab",
   "metadata": {
    "execution": {
     "iopub.execute_input": "2023-11-02T00:03:12.899605Z",
     "iopub.status.busy": "2023-11-02T00:03:12.898523Z",
     "iopub.status.idle": "2023-11-02T00:03:15.915832Z",
     "shell.execute_reply": "2023-11-02T00:03:15.913547Z"
    },
    "nbsphinx": "hidden",
    "papermill": {
     "duration": 3.026711,
     "end_time": "2023-11-02T00:03:15.920683",
     "exception": false,
     "start_time": "2023-11-02T00:03:12.893972",
     "status": "completed"
    },
    "tags": []
   },
   "outputs": [],
   "source": [
    "%%capture\n",
    "\n",
    "import numpy as np\n",
    "\n",
    "import matplotlib.pyplot as plt\n",
    "\n",
    "import warnings\n",
    "warnings.simplefilter(\"ignore\")\n",
    "\n",
    "from astromodels.functions.function import _known_functions\n",
    "\n",
    "\n",
    "from jupyterthemes import jtplot\n",
    "jtplot.style(context=\"talk\", fscale=1, ticks=True, grid=False)\n",
    "%matplotlib inline"
   ]
  },
  {
   "cell_type": "code",
   "execution_count": 2,
   "id": "4edde682",
   "metadata": {
    "execution": {
     "iopub.execute_input": "2023-11-02T00:03:15.928579Z",
     "iopub.status.busy": "2023-11-02T00:03:15.928181Z",
     "iopub.status.idle": "2023-11-02T00:03:15.935190Z",
     "shell.execute_reply": "2023-11-02T00:03:15.933823Z"
    },
    "nbsphinx": "hidden",
    "papermill": {
     "duration": 0.016156,
     "end_time": "2023-11-02T00:03:15.939660",
     "exception": false,
     "start_time": "2023-11-02T00:03:15.923504",
     "status": "completed"
    },
    "tags": [
     "parameters"
    ]
   },
   "outputs": [],
   "source": [
    "func_name = \"TbAbs\"\n",
    "\n",
    "positive_prior = False\n"
   ]
  },
  {
   "cell_type": "code",
   "execution_count": 3,
   "id": "9c0d20d1",
   "metadata": {
    "execution": {
     "iopub.execute_input": "2023-11-02T00:03:15.946925Z",
     "iopub.status.busy": "2023-11-02T00:03:15.946458Z",
     "iopub.status.idle": "2023-11-02T00:03:15.952580Z",
     "shell.execute_reply": "2023-11-02T00:03:15.951041Z"
    },
    "papermill": {
     "duration": 0.014598,
     "end_time": "2023-11-02T00:03:15.957096",
     "exception": false,
     "start_time": "2023-11-02T00:03:15.942498",
     "status": "completed"
    },
    "tags": [
     "injected-parameters"
    ]
   },
   "outputs": [],
   "source": [
    "# Parameters\n",
    "func_name = \"Uniform_prior\"\n",
    "positive_prior = False\n"
   ]
  },
  {
   "cell_type": "code",
   "execution_count": 4,
   "id": "47f1b59f",
   "metadata": {
    "execution": {
     "iopub.execute_input": "2023-11-02T00:03:15.964506Z",
     "iopub.status.busy": "2023-11-02T00:03:15.964136Z",
     "iopub.status.idle": "2023-11-02T00:03:15.972842Z",
     "shell.execute_reply": "2023-11-02T00:03:15.971358Z"
    },
    "lines_to_next_cell": 0,
    "nbsphinx": "hidden",
    "papermill": {
     "duration": 0.017342,
     "end_time": "2023-11-02T00:03:15.977230",
     "exception": false,
     "start_time": "2023-11-02T00:03:15.959888",
     "status": "completed"
    },
    "tags": []
   },
   "outputs": [],
   "source": [
    "func = _known_functions[func_name]()\n",
    "\n",
    "if not positive_prior:\n",
    "\n",
    "\tenergy_grid = np.linspace(-5,5,1000)\n",
    "\n",
    "else:\n",
    "    \n",
    "    energy_grid = np.linspace(0,1,1000)\n",
    "    \n",
    "    \n",
    "    \n",
    "    \n",
    "blue = \"#4152E3\"\n",
    "red = \"#E3414B\"\n",
    "green = \"#41E39E\""
   ]
  },
  {
   "cell_type": "markdown",
   "id": "5aa47bcb",
   "metadata": {
    "lines_to_next_cell": 0,
    "papermill": {
     "duration": 0.002846,
     "end_time": "2023-11-02T00:03:15.982915",
     "exception": false,
     "start_time": "2023-11-02T00:03:15.980069",
     "status": "completed"
    },
    "tags": []
   },
   "source": [
    "## Description"
   ]
  },
  {
   "cell_type": "code",
   "execution_count": 5,
   "id": "40fef161",
   "metadata": {
    "execution": {
     "iopub.execute_input": "2023-11-02T00:03:15.990152Z",
     "iopub.status.busy": "2023-11-02T00:03:15.989690Z",
     "iopub.status.idle": "2023-11-02T00:03:16.004534Z",
     "shell.execute_reply": "2023-11-02T00:03:16.003185Z"
    },
    "papermill": {
     "duration": 0.023293,
     "end_time": "2023-11-02T00:03:16.008820",
     "exception": false,
     "start_time": "2023-11-02T00:03:15.985527",
     "status": "completed"
    },
    "tags": []
   },
   "outputs": [
    {
     "data": {
      "text/html": [
       "<ul>\n",
       "\n",
       "<li>description: A function which is constant on the interval lower_bound - upper_bound and 0 outside the interval. The extremes of the interval are counted as part of the interval.</li>\n",
       "\n",
       "<li>formula: $ f(x)=\\begin{cases}0 & x < \\text{lower_bound} \\\\\\text{value} & \\text{lower_bound} \\le x \\le \\text{upper_bound} \\\\ 0 & x > \\text{upper_bound} \\end{cases}$</li>\n",
       "\n",
       "<li>parameters: \n",
       "<ul>\n",
       "\n",
       "<li>lower_bound: \n",
       "<ul>\n",
       "\n",
       "<li>value: 0.0</li>\n",
       "\n",
       "<li>desc: Lower bound for the interval</li>\n",
       "\n",
       "<li>min_value: -inf</li>\n",
       "\n",
       "<li>max_value: inf</li>\n",
       "\n",
       "<li>unit: </li>\n",
       "\n",
       "<li>is_normalization: False</li>\n",
       "\n",
       "<li>delta: 0.1</li>\n",
       "\n",
       "<li>free: True</li>\n",
       "\n",
       "</ul>\n",
       "\n",
       "</li>\n",
       "\n",
       "<li>upper_bound: \n",
       "<ul>\n",
       "\n",
       "<li>value: 1.0</li>\n",
       "\n",
       "<li>desc: Upper bound for the interval</li>\n",
       "\n",
       "<li>min_value: -inf</li>\n",
       "\n",
       "<li>max_value: inf</li>\n",
       "\n",
       "<li>unit: </li>\n",
       "\n",
       "<li>is_normalization: False</li>\n",
       "\n",
       "<li>delta: 0.1</li>\n",
       "\n",
       "<li>free: True</li>\n",
       "\n",
       "</ul>\n",
       "\n",
       "</li>\n",
       "\n",
       "<li>value: \n",
       "<ul>\n",
       "\n",
       "<li>value: 1.0</li>\n",
       "\n",
       "<li>desc: Value in the interval</li>\n",
       "\n",
       "<li>min_value: None</li>\n",
       "\n",
       "<li>max_value: None</li>\n",
       "\n",
       "<li>unit: </li>\n",
       "\n",
       "<li>is_normalization: False</li>\n",
       "\n",
       "<li>delta: 0.1</li>\n",
       "\n",
       "<li>free: True</li>\n",
       "\n",
       "</ul>\n",
       "\n",
       "</li>\n",
       "\n",
       "</ul>\n",
       "\n",
       "</li>\n",
       "\n",
       "</ul>\n"
      ],
      "text/plain": [
       "  * description: A function which is constant on the interval lower_bound - upper_bound\n",
       "    * and 0 outside the interval. The extremes of the interval are counted as part of\n",
       "    * the interval.\n",
       "  * formula: $ f(x)=\\begin{cases}0 & x < \\text{lower_bound} \\\\\\text{value} & \\text{lower_bound}\n",
       "    * \\le x \\le \\text{upper_bound} \\\\ 0 & x > \\text{upper_bound} \\end{cases}$\n",
       "  * parameters:\n",
       "    * lower_bound:\n",
       "      * value: 0.0\n",
       "      * desc: Lower bound for the interval\n",
       "      * min_value: -.inf\n",
       "      * max_value: .inf\n",
       "      * unit: ''\n",
       "      * is_normalization: false\n",
       "      * delta: 0.1\n",
       "      * free: true\n",
       "    * upper_bound:\n",
       "      * value: 1.0\n",
       "      * desc: Upper bound for the interval\n",
       "      * min_value: -.inf\n",
       "      * max_value: .inf\n",
       "      * unit: ''\n",
       "      * is_normalization: false\n",
       "      * delta: 0.1\n",
       "      * free: true\n",
       "    * value:\n",
       "      * value: 1.0\n",
       "      * desc: Value in the interval\n",
       "      * min_value: null\n",
       "      * max_value: null\n",
       "      * unit: ''\n",
       "      * is_normalization: false\n",
       "      * delta: 0.1\n",
       "      * free: true"
      ]
     },
     "metadata": {},
     "output_type": "display_data"
    }
   ],
   "source": [
    "func.display()"
   ]
  },
  {
   "cell_type": "markdown",
   "id": "07ff72ae",
   "metadata": {
    "papermill": {
     "duration": 0.003309,
     "end_time": "2023-11-02T00:03:16.015355",
     "exception": false,
     "start_time": "2023-11-02T00:03:16.012046",
     "status": "completed"
    },
    "tags": []
   },
   "source": [
    "## Shape \n",
    "\n",
    "The shape of the function. \n",
    "\n",
    "*If this is not a photon model but a prior or linear function then ignore the units as these docs are auto-generated*"
   ]
  },
  {
   "cell_type": "code",
   "execution_count": 6,
   "id": "f00e03a0",
   "metadata": {
    "execution": {
     "iopub.execute_input": "2023-11-02T00:03:16.023394Z",
     "iopub.status.busy": "2023-11-02T00:03:16.022936Z",
     "iopub.status.idle": "2023-11-02T00:03:16.243052Z",
     "shell.execute_reply": "2023-11-02T00:03:16.241657Z"
    },
    "papermill": {
     "duration": 0.229533,
     "end_time": "2023-11-02T00:03:16.247899",
     "exception": false,
     "start_time": "2023-11-02T00:03:16.018366",
     "status": "completed"
    },
    "tags": [
     "nbsphinx-thumbnail"
    ]
   },
   "outputs": [
    {
     "data": {
      "text/plain": [
       "Text(0, 0.5, 'probability')"
      ]
     },
     "execution_count": 6,
     "metadata": {},
     "output_type": "execute_result"
    },
    {
     "data": {
      "image/png": "[encoded data removed]",
      "text/plain": [
       "<Figure size 1040x910 with 1 Axes>"
      ]
     },
     "metadata": {},
     "output_type": "display_data"
    }
   ],
   "source": [
    "fig, ax = plt.subplots()\n",
    "\n",
    "\n",
    "ax.plot(energy_grid, func(energy_grid), color=blue, lw=3)\n",
    "\n",
    "ax.set_xlabel(\"x\")\n",
    "ax.set_ylabel(\"probability\")\n"
   ]
  },
  {
   "cell_type": "markdown",
   "id": "0395aff3",
   "metadata": {
    "papermill": {
     "duration": 0.003781,
     "end_time": "2023-11-02T00:03:16.255861",
     "exception": false,
     "start_time": "2023-11-02T00:03:16.252080",
     "status": "completed"
    },
    "tags": []
   },
   "source": [
    "## Random Number Generation\n",
    "\n",
    "This is how we can generate random numbers from the prior.\n"
   ]
  },
  {
   "cell_type": "code",
   "execution_count": 7,
   "id": "8c2ed146",
   "metadata": {
    "execution": {
     "iopub.execute_input": "2023-11-02T00:03:16.264569Z",
     "iopub.status.busy": "2023-11-02T00:03:16.264188Z",
     "iopub.status.idle": "2023-11-02T00:03:16.571883Z",
     "shell.execute_reply": "2023-11-02T00:03:16.570434Z"
    },
    "papermill": {
     "duration": 0.317704,
     "end_time": "2023-11-02T00:03:16.576934",
     "exception": false,
     "start_time": "2023-11-02T00:03:16.259230",
     "status": "completed"
    },
    "tags": []
   },
   "outputs": [
    {
     "data": {
      "text/plain": [
       "Text(0, 0.5, 'N')"
      ]
     },
     "execution_count": 7,
     "metadata": {},
     "output_type": "execute_result"
    },
    {
     "data": {
      "image/png": "[encoded data removed]",
      "text/plain": [
       "<Figure size 1040x910 with 1 Axes>"
      ]
     },
     "metadata": {},
     "output_type": "display_data"
    }
   ],
   "source": [
    "\n",
    "\n",
    "u = np.random.uniform(0,1, size=5000)\n",
    "\n",
    "draws = [func.from_unit_cube(x) for x in u]\n",
    "\n",
    "\n",
    "fig, ax = plt.subplots()\n",
    "\n",
    "\n",
    "ax.hist(draws, color=green, bins=50)\n",
    "\n",
    "ax.set_xlabel(\"value\")\n",
    "ax.set_ylabel(\"N\")\n",
    "\n"
   ]
  }
 ],
 "metadata": {
  "jupytext": {
   "formats": "ipynb,md"
  },
  "kernelspec": {
   "display_name": "Python 3 (ipykernel)",
   "language": "python",
   "name": "python3"
  },
  "language_info": {
   "codemirror_mode": {
    "name": "ipython",
    "version": 3
   },
   "file_extension": ".py",
   "mimetype": "text/x-python",
   "name": "python",
   "nbconvert_exporter": "python",
   "pygments_lexer": "ipython3",
   "version": "3.9.18"
  },
  "papermill": {
   "default_parameters": {},
   "duration": 5.553314,
   "end_time": "2023-11-02T00:03:17.212413",
   "environment_variables": {},
   "exception": null,
   "input_path": "Uniform_prior.ipynb",
   "output_path": "/Users/runner/work/astromodels/astromodels/docs/notebooks/Uniform_prior.ipynb",
   "parameters": {
    "func_name": "Uniform_prior",
    "positive_prior": false
   },
   "start_time": "2023-11-02T00:03:11.659099",
   "version": "2.5.0"
  }
 },
 "nbformat": 4,
 "nbformat_minor": 5
}
