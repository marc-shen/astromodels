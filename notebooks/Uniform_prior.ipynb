{
 "cells": [
  {
   "cell_type": "markdown",
   "id": "78845090",
   "metadata": {
    "papermill": {
     "duration": 0.010696,
     "end_time": "2024-08-13T19:48:02.500806",
     "exception": false,
     "start_time": "2024-08-13T19:48:02.490110",
     "status": "completed"
    },
    "tags": []
   },
   "source": [
    "# Uniform prior"
   ]
  },
  {
   "cell_type": "code",
   "execution_count": 1,
   "id": "301689e3",
   "metadata": {
    "execution": {
     "iopub.execute_input": "2024-08-13T19:48:02.516092Z",
     "iopub.status.busy": "2024-08-13T19:48:02.515277Z",
     "iopub.status.idle": "2024-08-13T19:48:03.925230Z",
     "shell.execute_reply": "2024-08-13T19:48:03.924743Z"
    },
    "nbsphinx": "hidden",
    "papermill": {
     "duration": 1.418944,
     "end_time": "2024-08-13T19:48:03.926740",
     "exception": false,
     "start_time": "2024-08-13T19:48:02.507796",
     "status": "completed"
    },
    "tags": []
   },
   "outputs": [],
   "source": [
    "%%capture\n",
    "\n",
    "import numpy as np\n",
    "\n",
    "import matplotlib.pyplot as plt\n",
    "\n",
    "import warnings\n",
    "warnings.simplefilter(\"ignore\")\n",
    "\n",
    "from astromodels.functions.function import _known_functions\n",
    "\n",
    "\n",
    "from jupyterthemes import jtplot\n",
    "jtplot.style(context=\"talk\", fscale=1, ticks=True, grid=False)\n",
    "%matplotlib inline"
   ]
  },
  {
   "cell_type": "code",
   "execution_count": 2,
   "id": "8ffbd6fc",
   "metadata": {
    "execution": {
     "iopub.execute_input": "2024-08-13T19:48:03.929911Z",
     "iopub.status.busy": "2024-08-13T19:48:03.929582Z",
     "iopub.status.idle": "2024-08-13T19:48:03.937942Z",
     "shell.execute_reply": "2024-08-13T19:48:03.937499Z"
    },
    "nbsphinx": "hidden",
    "papermill": {
     "duration": 0.01131,
     "end_time": "2024-08-13T19:48:03.939243",
     "exception": false,
     "start_time": "2024-08-13T19:48:03.927933",
     "status": "completed"
    },
    "tags": [
     "parameters"
    ]
   },
   "outputs": [],
   "source": [
    "func_name = \"TbAbs\"\n",
    "\n",
    "positive_prior = False\n"
   ]
  },
  {
   "cell_type": "code",
   "execution_count": 3,
   "id": "9c4175c1",
   "metadata": {
    "execution": {
     "iopub.execute_input": "2024-08-13T19:48:03.941846Z",
     "iopub.status.busy": "2024-08-13T19:48:03.941709Z",
     "iopub.status.idle": "2024-08-13T19:48:03.949562Z",
     "shell.execute_reply": "2024-08-13T19:48:03.949210Z"
    },
    "papermill": {
     "duration": 0.010612,
     "end_time": "2024-08-13T19:48:03.950874",
     "exception": false,
     "start_time": "2024-08-13T19:48:03.940262",
     "status": "completed"
    },
    "tags": [
     "injected-parameters"
    ]
   },
   "outputs": [],
   "source": [
    "# Parameters\n",
    "func_name = \"Uniform_prior\"\n",
    "positive_prior = False\n"
   ]
  },
  {
   "cell_type": "code",
   "execution_count": 4,
   "id": "6662a5d1",
   "metadata": {
    "execution": {
     "iopub.execute_input": "2024-08-13T19:48:03.953581Z",
     "iopub.status.busy": "2024-08-13T19:48:03.953432Z",
     "iopub.status.idle": "2024-08-13T19:48:03.962228Z",
     "shell.execute_reply": "2024-08-13T19:48:03.961865Z"
    },
    "lines_to_next_cell": 0,
    "nbsphinx": "hidden",
    "papermill": {
     "duration": 0.011601,
     "end_time": "2024-08-13T19:48:03.963523",
     "exception": false,
     "start_time": "2024-08-13T19:48:03.951922",
     "status": "completed"
    },
    "tags": []
   },
   "outputs": [],
   "source": [
    "func = _known_functions[func_name]()\n",
    "\n",
    "if not positive_prior:\n",
    "\n",
    "\tenergy_grid = np.linspace(-5,5,1000)\n",
    "\n",
    "else:\n",
    "    \n",
    "    energy_grid = np.linspace(0,1,1000)\n",
    "    \n",
    "    \n",
    "    \n",
    "    \n",
    "blue = \"#4152E3\"\n",
    "red = \"#E3414B\"\n",
    "green = \"#41E39E\""
   ]
  },
  {
   "cell_type": "markdown",
   "id": "c35dd160",
   "metadata": {
    "lines_to_next_cell": 0,
    "papermill": {
     "duration": 0.000984,
     "end_time": "2024-08-13T19:48:03.965540",
     "exception": false,
     "start_time": "2024-08-13T19:48:03.964556",
     "status": "completed"
    },
    "tags": []
   },
   "source": [
    "## Description"
   ]
  },
  {
   "cell_type": "code",
   "execution_count": 5,
   "id": "f277a6e3",
   "metadata": {
    "execution": {
     "iopub.execute_input": "2024-08-13T19:48:03.968176Z",
     "iopub.status.busy": "2024-08-13T19:48:03.968038Z",
     "iopub.status.idle": "2024-08-13T19:48:03.972089Z",
     "shell.execute_reply": "2024-08-13T19:48:03.971665Z"
    },
    "papermill": {
     "duration": 0.006881,
     "end_time": "2024-08-13T19:48:03.973428",
     "exception": false,
     "start_time": "2024-08-13T19:48:03.966547",
     "status": "completed"
    },
    "tags": []
   },
   "outputs": [
    {
     "data": {
      "text/html": [
       "<ul>\n",
       "\n",
       "<li>description: A function which is constant on the interval lower_bound - upper_bound and 0 outside the interval. The extremes of the interval are counted as part of the interval.</li>\n",
       "\n",
       "<li>formula: $ f(x)=\\begin{cases}0 & x < \\text{lower_bound} \\\\\\text{value} & \\text{lower_bound} \\le x \\le \\text{upper_bound} \\\\ 0 & x > \\text{upper_bound} \\end{cases}$</li>\n",
       "\n",
       "<li>parameters: \n",
       "<ul>\n",
       "\n",
       "<li>lower_bound: \n",
       "<ul>\n",
       "\n",
       "<li>value: 0.0</li>\n",
       "\n",
       "<li>desc: Lower bound for the interval</li>\n",
       "\n",
       "<li>min_value: -inf</li>\n",
       "\n",
       "<li>max_value: inf</li>\n",
       "\n",
       "<li>unit: </li>\n",
       "\n",
       "<li>is_normalization: False</li>\n",
       "\n",
       "<li>delta: 0.1</li>\n",
       "\n",
       "<li>free: True</li>\n",
       "\n",
       "</ul>\n",
       "\n",
       "</li>\n",
       "\n",
       "<li>upper_bound: \n",
       "<ul>\n",
       "\n",
       "<li>value: 1.0</li>\n",
       "\n",
       "<li>desc: Upper bound for the interval</li>\n",
       "\n",
       "<li>min_value: -inf</li>\n",
       "\n",
       "<li>max_value: inf</li>\n",
       "\n",
       "<li>unit: </li>\n",
       "\n",
       "<li>is_normalization: False</li>\n",
       "\n",
       "<li>delta: 0.1</li>\n",
       "\n",
       "<li>free: True</li>\n",
       "\n",
       "</ul>\n",
       "\n",
       "</li>\n",
       "\n",
       "<li>value: \n",
       "<ul>\n",
       "\n",
       "<li>value: 1.0</li>\n",
       "\n",
       "<li>desc: Value in the interval</li>\n",
       "\n",
       "<li>min_value: None</li>\n",
       "\n",
       "<li>max_value: None</li>\n",
       "\n",
       "<li>unit: </li>\n",
       "\n",
       "<li>is_normalization: False</li>\n",
       "\n",
       "<li>delta: 0.1</li>\n",
       "\n",
       "<li>free: True</li>\n",
       "\n",
       "</ul>\n",
       "\n",
       "</li>\n",
       "\n",
       "</ul>\n",
       "\n",
       "</li>\n",
       "\n",
       "</ul>\n"
      ],
      "text/plain": [
       "  * description: A function which is constant on the interval lower_bound - upper_bound\n",
       "    * and 0 outside the interval. The extremes of the interval are counted as part of\n",
       "    * the interval.\n",
       "  * formula: $ f(x)=\\begin{cases}0 & x < \\text{lower_bound} \\\\\\text{value} & \\text{lower_bound}\n",
       "    * \\le x \\le \\text{upper_bound} \\\\ 0 & x > \\text{upper_bound} \\end{cases}$\n",
       "  * parameters:\n",
       "    * lower_bound:\n",
       "      * value: 0.0\n",
       "      * desc: Lower bound for the interval\n",
       "      * min_value: -.inf\n",
       "      * max_value: .inf\n",
       "      * unit: ''\n",
       "      * is_normalization: false\n",
       "      * delta: 0.1\n",
       "      * free: true\n",
       "    * upper_bound:\n",
       "      * value: 1.0\n",
       "      * desc: Upper bound for the interval\n",
       "      * min_value: -.inf\n",
       "      * max_value: .inf\n",
       "      * unit: ''\n",
       "      * is_normalization: false\n",
       "      * delta: 0.1\n",
       "      * free: true\n",
       "    * value:\n",
       "      * value: 1.0\n",
       "      * desc: Value in the interval\n",
       "      * min_value: null\n",
       "      * max_value: null\n",
       "      * unit: ''\n",
       "      * is_normalization: false\n",
       "      * delta: 0.1\n",
       "      * free: true"
      ]
     },
     "metadata": {},
     "output_type": "display_data"
    }
   ],
   "source": [
    "func.display()"
   ]
  },
  {
   "cell_type": "markdown",
   "id": "13f234e8",
   "metadata": {
    "papermill": {
     "duration": 0.001124,
     "end_time": "2024-08-13T19:48:03.975682",
     "exception": false,
     "start_time": "2024-08-13T19:48:03.974558",
     "status": "completed"
    },
    "tags": []
   },
   "source": [
    "## Shape \n",
    "\n",
    "The shape of the function. \n",
    "\n",
    "*If this is not a photon model but a prior or linear function then ignore the units as these docs are auto-generated*"
   ]
  },
  {
   "cell_type": "code",
   "execution_count": 6,
   "id": "98ea247c",
   "metadata": {
    "execution": {
     "iopub.execute_input": "2024-08-13T19:48:03.978352Z",
     "iopub.status.busy": "2024-08-13T19:48:03.978206Z",
     "iopub.status.idle": "2024-08-13T19:48:04.068344Z",
     "shell.execute_reply": "2024-08-13T19:48:04.068021Z"
    },
    "papermill": {
     "duration": 0.093077,
     "end_time": "2024-08-13T19:48:04.069771",
     "exception": false,
     "start_time": "2024-08-13T19:48:03.976694",
     "status": "completed"
    },
    "tags": [
     "nbsphinx-thumbnail"
    ]
   },
   "outputs": [
    {
     "data": {
      "text/plain": [
       "Text(0, 0.5, 'probability')"
      ]
     },
     "execution_count": 6,
     "metadata": {},
     "output_type": "execute_result"
    },
    {
     "data": {
      "image/png": "[encoded data removed]",
      "text/plain": [
       "<Figure size 1040x910 with 1 Axes>"
      ]
     },
     "metadata": {},
     "output_type": "display_data"
    }
   ],
   "source": [
    "fig, ax = plt.subplots()\n",
    "\n",
    "\n",
    "ax.plot(energy_grid, func(energy_grid), color=blue, lw=3)\n",
    "\n",
    "ax.set_xlabel(\"x\")\n",
    "ax.set_ylabel(\"probability\")\n"
   ]
  },
  {
   "cell_type": "markdown",
   "id": "75228537",
   "metadata": {
    "papermill": {
     "duration": 0.001442,
     "end_time": "2024-08-13T19:48:04.072798",
     "exception": false,
     "start_time": "2024-08-13T19:48:04.071356",
     "status": "completed"
    },
    "tags": []
   },
   "source": [
    "## Random Number Generation\n",
    "\n",
    "This is how we can generate random numbers from the prior.\n"
   ]
  },
  {
   "cell_type": "code",
   "execution_count": 7,
   "id": "a2afb599",
   "metadata": {
    "execution": {
     "iopub.execute_input": "2024-08-13T19:48:04.076308Z",
     "iopub.status.busy": "2024-08-13T19:48:04.076159Z",
     "iopub.status.idle": "2024-08-13T19:48:04.187464Z",
     "shell.execute_reply": "2024-08-13T19:48:04.187038Z"
    },
    "papermill": {
     "duration": 0.114594,
     "end_time": "2024-08-13T19:48:04.188776",
     "exception": false,
     "start_time": "2024-08-13T19:48:04.074182",
     "status": "completed"
    },
    "tags": []
   },
   "outputs": [
    {
     "data": {
      "text/plain": [
       "Text(0, 0.5, 'N')"
      ]
     },
     "execution_count": 7,
     "metadata": {},
     "output_type": "execute_result"
    },
    {
     "data": {
      "image/png": "[encoded data removed]",
      "text/plain": [
       "<Figure size 1040x910 with 1 Axes>"
      ]
     },
     "metadata": {},
     "output_type": "display_data"
    }
   ],
   "source": [
    "\n",
    "\n",
    "u = np.random.uniform(0,1, size=5000)\n",
    "\n",
    "draws = [func.from_unit_cube(x) for x in u]\n",
    "\n",
    "\n",
    "fig, ax = plt.subplots()\n",
    "\n",
    "\n",
    "ax.hist(draws, color=green, bins=50)\n",
    "\n",
    "ax.set_xlabel(\"value\")\n",
    "ax.set_ylabel(\"N\")\n",
    "\n"
   ]
  }
 ],
 "metadata": {
  "jupytext": {
   "formats": "ipynb,md"
  },
  "kernelspec": {
   "display_name": "Python 3 (ipykernel)",
   "language": "python",
   "name": "python3"
  },
  "language_info": {
   "codemirror_mode": {
    "name": "ipython",
    "version": 3
   },
   "file_extension": ".py",
   "mimetype": "text/x-python",
   "name": "python",
   "nbconvert_exporter": "python",
   "pygments_lexer": "ipython3",
   "version": "3.9.13"
  },
  "papermill": {
   "default_parameters": {},
   "duration": 2.511655,
   "end_time": "2024-08-13T19:48:04.523247",
   "environment_variables": {},
   "exception": null,
   "input_path": "Uniform_prior.ipynb",
   "output_path": "/Users/runner/work/astromodels/astromodels/docs/notebooks/Uniform_prior.ipynb",
   "parameters": {
    "func_name": "Uniform_prior",
    "positive_prior": false
   },
   "start_time": "2024-08-13T19:48:02.011592",
   "version": "2.6.0"
  }
 },
 "nbformat": 4,
 "nbformat_minor": 5
}
