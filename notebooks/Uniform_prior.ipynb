{
 "cells": [
  {
   "cell_type": "markdown",
   "id": "800a47a4",
   "metadata": {
    "papermill": {
     "duration": 0.007154,
     "end_time": "2024-09-10T14:17:09.822163",
     "exception": false,
     "start_time": "2024-09-10T14:17:09.815009",
     "status": "completed"
    },
    "tags": []
   },
   "source": [
    "# Uniform prior"
   ]
  },
  {
   "cell_type": "code",
   "execution_count": 1,
   "id": "b70bfe23",
   "metadata": {
    "execution": {
     "iopub.execute_input": "2024-09-10T14:17:09.834832Z",
     "iopub.status.busy": "2024-09-10T14:17:09.834305Z",
     "iopub.status.idle": "2024-09-10T14:17:11.493613Z",
     "shell.execute_reply": "2024-09-10T14:17:11.492970Z"
    },
    "nbsphinx": "hidden",
    "papermill": {
     "duration": 1.667344,
     "end_time": "2024-09-10T14:17:11.495590",
     "exception": false,
     "start_time": "2024-09-10T14:17:09.828246",
     "status": "completed"
    },
    "tags": []
   },
   "outputs": [],
   "source": [
    "%%capture\n",
    "\n",
    "import numpy as np\n",
    "\n",
    "import matplotlib.pyplot as plt\n",
    "\n",
    "import warnings\n",
    "warnings.simplefilter(\"ignore\")\n",
    "\n",
    "from astromodels.functions.function import _known_functions\n",
    "\n",
    "\n",
    "from jupyterthemes import jtplot\n",
    "jtplot.style(context=\"talk\", fscale=1, ticks=True, grid=False)\n",
    "%matplotlib inline"
   ]
  },
  {
   "cell_type": "code",
   "execution_count": 2,
   "id": "f17d69b6",
   "metadata": {
    "execution": {
     "iopub.execute_input": "2024-09-10T14:17:11.500200Z",
     "iopub.status.busy": "2024-09-10T14:17:11.499626Z",
     "iopub.status.idle": "2024-09-10T14:17:11.502124Z",
     "shell.execute_reply": "2024-09-10T14:17:11.501774Z"
    },
    "nbsphinx": "hidden",
    "papermill": {
     "duration": 0.006312,
     "end_time": "2024-09-10T14:17:11.503323",
     "exception": false,
     "start_time": "2024-09-10T14:17:11.497011",
     "status": "completed"
    },
    "tags": [
     "parameters"
    ]
   },
   "outputs": [],
   "source": [
    "func_name = \"TbAbs\"\n",
    "\n",
    "positive_prior = False\n"
   ]
  },
  {
   "cell_type": "code",
   "execution_count": 3,
   "id": "cb268152",
   "metadata": {
    "execution": {
     "iopub.execute_input": "2024-09-10T14:17:11.506083Z",
     "iopub.status.busy": "2024-09-10T14:17:11.505933Z",
     "iopub.status.idle": "2024-09-10T14:17:11.507853Z",
     "shell.execute_reply": "2024-09-10T14:17:11.507459Z"
    },
    "papermill": {
     "duration": 0.004794,
     "end_time": "2024-09-10T14:17:11.509186",
     "exception": false,
     "start_time": "2024-09-10T14:17:11.504392",
     "status": "completed"
    },
    "tags": [
     "injected-parameters"
    ]
   },
   "outputs": [],
   "source": [
    "# Parameters\n",
    "func_name = \"Uniform_prior\"\n",
    "positive_prior = False\n"
   ]
  },
  {
   "cell_type": "code",
   "execution_count": 4,
   "id": "f5e8eb79",
   "metadata": {
    "execution": {
     "iopub.execute_input": "2024-09-10T14:17:11.511905Z",
     "iopub.status.busy": "2024-09-10T14:17:11.511745Z",
     "iopub.status.idle": "2024-09-10T14:17:11.520787Z",
     "shell.execute_reply": "2024-09-10T14:17:11.520360Z"
    },
    "lines_to_next_cell": 0,
    "nbsphinx": "hidden",
    "papermill": {
     "duration": 0.011808,
     "end_time": "2024-09-10T14:17:11.522022",
     "exception": false,
     "start_time": "2024-09-10T14:17:11.510214",
     "status": "completed"
    },
    "tags": []
   },
   "outputs": [],
   "source": [
    "func = _known_functions[func_name]()\n",
    "\n",
    "if not positive_prior:\n",
    "\n",
    "\tenergy_grid = np.linspace(-5,5,1000)\n",
    "\n",
    "else:\n",
    "    \n",
    "    energy_grid = np.linspace(0,1,1000)\n",
    "    \n",
    "    \n",
    "    \n",
    "    \n",
    "blue = \"#4152E3\"\n",
    "red = \"#E3414B\"\n",
    "green = \"#41E39E\""
   ]
  },
  {
   "cell_type": "markdown",
   "id": "67720ce0",
   "metadata": {
    "lines_to_next_cell": 0,
    "papermill": {
     "duration": 0.001029,
     "end_time": "2024-09-10T14:17:11.524183",
     "exception": false,
     "start_time": "2024-09-10T14:17:11.523154",
     "status": "completed"
    },
    "tags": []
   },
   "source": [
    "## Description"
   ]
  },
  {
   "cell_type": "code",
   "execution_count": 5,
   "id": "7eddc143",
   "metadata": {
    "execution": {
     "iopub.execute_input": "2024-09-10T14:17:11.526867Z",
     "iopub.status.busy": "2024-09-10T14:17:11.526716Z",
     "iopub.status.idle": "2024-09-10T14:17:11.531081Z",
     "shell.execute_reply": "2024-09-10T14:17:11.530739Z"
    },
    "papermill": {
     "duration": 0.007227,
     "end_time": "2024-09-10T14:17:11.532362",
     "exception": false,
     "start_time": "2024-09-10T14:17:11.525135",
     "status": "completed"
    },
    "tags": []
   },
   "outputs": [
    {
     "data": {
      "text/html": [
       "<ul>\n",
       "\n",
       "<li>description: A function which is constant on the interval lower_bound - upper_bound and 0 outside the interval. The extremes of the interval are counted as part of the interval.</li>\n",
       "\n",
       "<li>formula: $ f(x)=\\begin{cases}0 & x < \\text{lower_bound} \\\\\\text{value} & \\text{lower_bound} \\le x \\le \\text{upper_bound} \\\\ 0 & x > \\text{upper_bound} \\end{cases}$</li>\n",
       "\n",
       "<li>parameters: \n",
       "<ul>\n",
       "\n",
       "<li>lower_bound: \n",
       "<ul>\n",
       "\n",
       "<li>value: 0.0</li>\n",
       "\n",
       "<li>desc: Lower bound for the interval</li>\n",
       "\n",
       "<li>min_value: -inf</li>\n",
       "\n",
       "<li>max_value: inf</li>\n",
       "\n",
       "<li>unit: </li>\n",
       "\n",
       "<li>is_normalization: False</li>\n",
       "\n",
       "<li>delta: 0.1</li>\n",
       "\n",
       "<li>free: True</li>\n",
       "\n",
       "</ul>\n",
       "\n",
       "</li>\n",
       "\n",
       "<li>upper_bound: \n",
       "<ul>\n",
       "\n",
       "<li>value: 1.0</li>\n",
       "\n",
       "<li>desc: Upper bound for the interval</li>\n",
       "\n",
       "<li>min_value: -inf</li>\n",
       "\n",
       "<li>max_value: inf</li>\n",
       "\n",
       "<li>unit: </li>\n",
       "\n",
       "<li>is_normalization: False</li>\n",
       "\n",
       "<li>delta: 0.1</li>\n",
       "\n",
       "<li>free: True</li>\n",
       "\n",
       "</ul>\n",
       "\n",
       "</li>\n",
       "\n",
       "<li>value: \n",
       "<ul>\n",
       "\n",
       "<li>value: 1.0</li>\n",
       "\n",
       "<li>desc: Value in the interval</li>\n",
       "\n",
       "<li>min_value: None</li>\n",
       "\n",
       "<li>max_value: None</li>\n",
       "\n",
       "<li>unit: </li>\n",
       "\n",
       "<li>is_normalization: False</li>\n",
       "\n",
       "<li>delta: 0.1</li>\n",
       "\n",
       "<li>free: True</li>\n",
       "\n",
       "</ul>\n",
       "\n",
       "</li>\n",
       "\n",
       "</ul>\n",
       "\n",
       "</li>\n",
       "\n",
       "</ul>\n"
      ],
      "text/plain": [
       "  * description: A function which is constant on the interval lower_bound - upper_bound\n",
       "    * and 0 outside the interval. The extremes of the interval are counted as part of\n",
       "    * the interval.\n",
       "  * formula: $ f(x)=\\begin{cases}0 & x < \\text{lower_bound} \\\\\\text{value} & \\text{lower_bound}\n",
       "    * \\le x \\le \\text{upper_bound} \\\\ 0 & x > \\text{upper_bound} \\end{cases}$\n",
       "  * parameters:\n",
       "    * lower_bound:\n",
       "      * value: 0.0\n",
       "      * desc: Lower bound for the interval\n",
       "      * min_value: -.inf\n",
       "      * max_value: .inf\n",
       "      * unit: ''\n",
       "      * is_normalization: false\n",
       "      * delta: 0.1\n",
       "      * free: true\n",
       "    * upper_bound:\n",
       "      * value: 1.0\n",
       "      * desc: Upper bound for the interval\n",
       "      * min_value: -.inf\n",
       "      * max_value: .inf\n",
       "      * unit: ''\n",
       "      * is_normalization: false\n",
       "      * delta: 0.1\n",
       "      * free: true\n",
       "    * value:\n",
       "      * value: 1.0\n",
       "      * desc: Value in the interval\n",
       "      * min_value: null\n",
       "      * max_value: null\n",
       "      * unit: ''\n",
       "      * is_normalization: false\n",
       "      * delta: 0.1\n",
       "      * free: true"
      ]
     },
     "metadata": {},
     "output_type": "display_data"
    }
   ],
   "source": [
    "func.display()"
   ]
  },
  {
   "cell_type": "markdown",
   "id": "41cac885",
   "metadata": {
    "papermill": {
     "duration": 0.001267,
     "end_time": "2024-09-10T14:17:11.534855",
     "exception": false,
     "start_time": "2024-09-10T14:17:11.533588",
     "status": "completed"
    },
    "tags": []
   },
   "source": [
    "## Shape \n",
    "\n",
    "The shape of the function. \n",
    "\n",
    "*If this is not a photon model but a prior or linear function then ignore the units as these docs are auto-generated*"
   ]
  },
  {
   "cell_type": "code",
   "execution_count": 6,
   "id": "eb48bbbc",
   "metadata": {
    "execution": {
     "iopub.execute_input": "2024-09-10T14:17:11.537775Z",
     "iopub.status.busy": "2024-09-10T14:17:11.537624Z",
     "iopub.status.idle": "2024-09-10T14:17:11.643754Z",
     "shell.execute_reply": "2024-09-10T14:17:11.643404Z"
    },
    "papermill": {
     "duration": 0.109274,
     "end_time": "2024-09-10T14:17:11.645189",
     "exception": false,
     "start_time": "2024-09-10T14:17:11.535915",
     "status": "completed"
    },
    "tags": [
     "nbsphinx-thumbnail"
    ]
   },
   "outputs": [
    {
     "data": {
      "text/plain": [
       "Text(0, 0.5, 'probability')"
      ]
     },
     "execution_count": 6,
     "metadata": {},
     "output_type": "execute_result"
    },
    {
     "data": {
      "image/png": "[encoded data removed]",
      "text/plain": [
       "<Figure size 1040x910 with 1 Axes>"
      ]
     },
     "metadata": {},
     "output_type": "display_data"
    }
   ],
   "source": [
    "fig, ax = plt.subplots()\n",
    "\n",
    "\n",
    "ax.plot(energy_grid, func(energy_grid), color=blue, lw=3)\n",
    "\n",
    "ax.set_xlabel(\"x\")\n",
    "ax.set_ylabel(\"probability\")\n"
   ]
  },
  {
   "cell_type": "markdown",
   "id": "d5cc30ac",
   "metadata": {
    "papermill": {
     "duration": 0.006707,
     "end_time": "2024-09-10T14:17:11.658713",
     "exception": false,
     "start_time": "2024-09-10T14:17:11.652006",
     "status": "completed"
    },
    "tags": []
   },
   "source": [
    "## Random Number Generation\n",
    "\n",
    "This is how we can generate random numbers from the prior.\n"
   ]
  },
  {
   "cell_type": "code",
   "execution_count": 7,
   "id": "8b7a80c1",
   "metadata": {
    "execution": {
     "iopub.execute_input": "2024-09-10T14:17:11.665237Z",
     "iopub.status.busy": "2024-09-10T14:17:11.665056Z",
     "iopub.status.idle": "2024-09-10T14:17:11.785319Z",
     "shell.execute_reply": "2024-09-10T14:17:11.784548Z"
    },
    "papermill": {
     "duration": 0.126387,
     "end_time": "2024-09-10T14:17:11.786739",
     "exception": false,
     "start_time": "2024-09-10T14:17:11.660352",
     "status": "completed"
    },
    "tags": []
   },
   "outputs": [
    {
     "data": {
      "text/plain": [
       "Text(0, 0.5, 'N')"
      ]
     },
     "execution_count": 7,
     "metadata": {},
     "output_type": "execute_result"
    },
    {
     "data": {
      "image/png": "[encoded data removed]",
      "text/plain": [
       "<Figure size 1040x910 with 1 Axes>"
      ]
     },
     "metadata": {},
     "output_type": "display_data"
    }
   ],
   "source": [
    "\n",
    "\n",
    "u = np.random.uniform(0,1, size=5000)\n",
    "\n",
    "draws = [func.from_unit_cube(x) for x in u]\n",
    "\n",
    "\n",
    "fig, ax = plt.subplots()\n",
    "\n",
    "\n",
    "ax.hist(draws, color=green, bins=50)\n",
    "\n",
    "ax.set_xlabel(\"value\")\n",
    "ax.set_ylabel(\"N\")\n",
    "\n"
   ]
  }
 ],
 "metadata": {
  "jupytext": {
   "formats": "ipynb,md"
  },
  "kernelspec": {
   "display_name": "Python 3 (ipykernel)",
   "language": "python",
   "name": "python3"
  },
  "language_info": {
   "codemirror_mode": {
    "name": "ipython",
    "version": 3
   },
   "file_extension": ".py",
   "mimetype": "text/x-python",
   "name": "python",
   "nbconvert_exporter": "python",
   "pygments_lexer": "ipython3",
   "version": "3.9.13"
  },
  "papermill": {
   "default_parameters": {},
   "duration": 3.159523,
   "end_time": "2024-09-10T14:17:12.231891",
   "environment_variables": {},
   "exception": null,
   "input_path": "Uniform_prior.ipynb",
   "output_path": "/Users/runner/work/astromodels/astromodels/docs/notebooks/Uniform_prior.ipynb",
   "parameters": {
    "func_name": "Uniform_prior",
    "positive_prior": false
   },
   "start_time": "2024-09-10T14:17:09.072368",
   "version": "2.6.0"
  }
 },
 "nbformat": 4,
 "nbformat_minor": 5
}
