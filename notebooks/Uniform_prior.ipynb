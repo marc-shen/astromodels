{
 "cells": [
  {
   "cell_type": "markdown",
   "id": "7659770b",
   "metadata": {
    "papermill": {
     "duration": 0.004143,
     "end_time": "2024-02-02T21:48:10.803468",
     "exception": false,
     "start_time": "2024-02-02T21:48:10.799325",
     "status": "completed"
    },
    "tags": []
   },
   "source": [
    "# Uniform prior"
   ]
  },
  {
   "cell_type": "code",
   "execution_count": 1,
   "id": "1368f4bb",
   "metadata": {
    "execution": {
     "iopub.execute_input": "2024-02-02T21:48:10.811244Z",
     "iopub.status.busy": "2024-02-02T21:48:10.810683Z",
     "iopub.status.idle": "2024-02-02T21:48:14.231435Z",
     "shell.execute_reply": "2024-02-02T21:48:14.229580Z"
    },
    "nbsphinx": "hidden",
    "papermill": {
     "duration": 3.429688,
     "end_time": "2024-02-02T21:48:14.236297",
     "exception": false,
     "start_time": "2024-02-02T21:48:10.806609",
     "status": "completed"
    },
    "tags": []
   },
   "outputs": [],
   "source": [
    "%%capture\n",
    "\n",
    "import numpy as np\n",
    "\n",
    "import matplotlib.pyplot as plt\n",
    "\n",
    "import warnings\n",
    "warnings.simplefilter(\"ignore\")\n",
    "\n",
    "from astromodels.functions.function import _known_functions\n",
    "\n",
    "\n",
    "from jupyterthemes import jtplot\n",
    "jtplot.style(context=\"talk\", fscale=1, ticks=True, grid=False)\n",
    "%matplotlib inline"
   ]
  },
  {
   "cell_type": "code",
   "execution_count": 2,
   "id": "da975bd4",
   "metadata": {
    "execution": {
     "iopub.execute_input": "2024-02-02T21:48:14.244560Z",
     "iopub.status.busy": "2024-02-02T21:48:14.244171Z",
     "iopub.status.idle": "2024-02-02T21:48:14.251171Z",
     "shell.execute_reply": "2024-02-02T21:48:14.249924Z"
    },
    "nbsphinx": "hidden",
    "papermill": {
     "duration": 0.01616,
     "end_time": "2024-02-02T21:48:14.255207",
     "exception": false,
     "start_time": "2024-02-02T21:48:14.239047",
     "status": "completed"
    },
    "tags": [
     "parameters"
    ]
   },
   "outputs": [],
   "source": [
    "func_name = \"TbAbs\"\n",
    "\n",
    "positive_prior = False\n"
   ]
  },
  {
   "cell_type": "code",
   "execution_count": 3,
   "id": "691465ed",
   "metadata": {
    "execution": {
     "iopub.execute_input": "2024-02-02T21:48:14.262523Z",
     "iopub.status.busy": "2024-02-02T21:48:14.262156Z",
     "iopub.status.idle": "2024-02-02T21:48:14.269062Z",
     "shell.execute_reply": "2024-02-02T21:48:14.267834Z"
    },
    "papermill": {
     "duration": 0.015237,
     "end_time": "2024-02-02T21:48:14.273164",
     "exception": false,
     "start_time": "2024-02-02T21:48:14.257927",
     "status": "completed"
    },
    "tags": [
     "injected-parameters"
    ]
   },
   "outputs": [],
   "source": [
    "# Parameters\n",
    "func_name = \"Uniform_prior\"\n",
    "positive_prior = False\n"
   ]
  },
  {
   "cell_type": "code",
   "execution_count": 4,
   "id": "cf2159a5",
   "metadata": {
    "execution": {
     "iopub.execute_input": "2024-02-02T21:48:14.280269Z",
     "iopub.status.busy": "2024-02-02T21:48:14.279916Z",
     "iopub.status.idle": "2024-02-02T21:48:14.287570Z",
     "shell.execute_reply": "2024-02-02T21:48:14.286227Z"
    },
    "lines_to_next_cell": 0,
    "nbsphinx": "hidden",
    "papermill": {
     "duration": 0.01595,
     "end_time": "2024-02-02T21:48:14.291702",
     "exception": false,
     "start_time": "2024-02-02T21:48:14.275752",
     "status": "completed"
    },
    "tags": []
   },
   "outputs": [],
   "source": [
    "func = _known_functions[func_name]()\n",
    "\n",
    "if not positive_prior:\n",
    "\n",
    "\tenergy_grid = np.linspace(-5,5,1000)\n",
    "\n",
    "else:\n",
    "    \n",
    "    energy_grid = np.linspace(0,1,1000)\n",
    "    \n",
    "    \n",
    "    \n",
    "    \n",
    "blue = \"#4152E3\"\n",
    "red = \"#E3414B\"\n",
    "green = \"#41E39E\""
   ]
  },
  {
   "cell_type": "markdown",
   "id": "defc41a8",
   "metadata": {
    "lines_to_next_cell": 0,
    "papermill": {
     "duration": 0.002523,
     "end_time": "2024-02-02T21:48:14.296718",
     "exception": false,
     "start_time": "2024-02-02T21:48:14.294195",
     "status": "completed"
    },
    "tags": []
   },
   "source": [
    "## Description"
   ]
  },
  {
   "cell_type": "code",
   "execution_count": 5,
   "id": "b383b4ee",
   "metadata": {
    "execution": {
     "iopub.execute_input": "2024-02-02T21:48:14.303667Z",
     "iopub.status.busy": "2024-02-02T21:48:14.303224Z",
     "iopub.status.idle": "2024-02-02T21:48:14.316516Z",
     "shell.execute_reply": "2024-02-02T21:48:14.314854Z"
    },
    "papermill": {
     "duration": 0.021811,
     "end_time": "2024-02-02T21:48:14.320905",
     "exception": false,
     "start_time": "2024-02-02T21:48:14.299094",
     "status": "completed"
    },
    "tags": []
   },
   "outputs": [
    {
     "data": {
      "text/html": [
       "<ul>\n",
       "\n",
       "<li>description: A function which is constant on the interval lower_bound - upper_bound and 0 outside the interval. The extremes of the interval are counted as part of the interval.</li>\n",
       "\n",
       "<li>formula: $ f(x)=\\begin{cases}0 & x < \\text{lower_bound} \\\\\\text{value} & \\text{lower_bound} \\le x \\le \\text{upper_bound} \\\\ 0 & x > \\text{upper_bound} \\end{cases}$</li>\n",
       "\n",
       "<li>parameters: \n",
       "<ul>\n",
       "\n",
       "<li>lower_bound: \n",
       "<ul>\n",
       "\n",
       "<li>value: 0.0</li>\n",
       "\n",
       "<li>desc: Lower bound for the interval</li>\n",
       "\n",
       "<li>min_value: -inf</li>\n",
       "\n",
       "<li>max_value: inf</li>\n",
       "\n",
       "<li>unit: </li>\n",
       "\n",
       "<li>is_normalization: False</li>\n",
       "\n",
       "<li>delta: 0.1</li>\n",
       "\n",
       "<li>free: True</li>\n",
       "\n",
       "</ul>\n",
       "\n",
       "</li>\n",
       "\n",
       "<li>upper_bound: \n",
       "<ul>\n",
       "\n",
       "<li>value: 1.0</li>\n",
       "\n",
       "<li>desc: Upper bound for the interval</li>\n",
       "\n",
       "<li>min_value: -inf</li>\n",
       "\n",
       "<li>max_value: inf</li>\n",
       "\n",
       "<li>unit: </li>\n",
       "\n",
       "<li>is_normalization: False</li>\n",
       "\n",
       "<li>delta: 0.1</li>\n",
       "\n",
       "<li>free: True</li>\n",
       "\n",
       "</ul>\n",
       "\n",
       "</li>\n",
       "\n",
       "<li>value: \n",
       "<ul>\n",
       "\n",
       "<li>value: 1.0</li>\n",
       "\n",
       "<li>desc: Value in the interval</li>\n",
       "\n",
       "<li>min_value: None</li>\n",
       "\n",
       "<li>max_value: None</li>\n",
       "\n",
       "<li>unit: </li>\n",
       "\n",
       "<li>is_normalization: False</li>\n",
       "\n",
       "<li>delta: 0.1</li>\n",
       "\n",
       "<li>free: True</li>\n",
       "\n",
       "</ul>\n",
       "\n",
       "</li>\n",
       "\n",
       "</ul>\n",
       "\n",
       "</li>\n",
       "\n",
       "</ul>\n"
      ],
      "text/plain": [
       "  * description: A function which is constant on the interval lower_bound - upper_bound\n",
       "    * and 0 outside the interval. The extremes of the interval are counted as part of\n",
       "    * the interval.\n",
       "  * formula: $ f(x)=\\begin{cases}0 & x < \\text{lower_bound} \\\\\\text{value} & \\text{lower_bound}\n",
       "    * \\le x \\le \\text{upper_bound} \\\\ 0 & x > \\text{upper_bound} \\end{cases}$\n",
       "  * parameters:\n",
       "    * lower_bound:\n",
       "      * value: 0.0\n",
       "      * desc: Lower bound for the interval\n",
       "      * min_value: -.inf\n",
       "      * max_value: .inf\n",
       "      * unit: ''\n",
       "      * is_normalization: false\n",
       "      * delta: 0.1\n",
       "      * free: true\n",
       "    * upper_bound:\n",
       "      * value: 1.0\n",
       "      * desc: Upper bound for the interval\n",
       "      * min_value: -.inf\n",
       "      * max_value: .inf\n",
       "      * unit: ''\n",
       "      * is_normalization: false\n",
       "      * delta: 0.1\n",
       "      * free: true\n",
       "    * value:\n",
       "      * value: 1.0\n",
       "      * desc: Value in the interval\n",
       "      * min_value: null\n",
       "      * max_value: null\n",
       "      * unit: ''\n",
       "      * is_normalization: false\n",
       "      * delta: 0.1\n",
       "      * free: true"
      ]
     },
     "metadata": {},
     "output_type": "display_data"
    }
   ],
   "source": [
    "func.display()"
   ]
  },
  {
   "cell_type": "markdown",
   "id": "64ba47cd",
   "metadata": {
    "papermill": {
     "duration": 0.002946,
     "end_time": "2024-02-02T21:48:14.326706",
     "exception": false,
     "start_time": "2024-02-02T21:48:14.323760",
     "status": "completed"
    },
    "tags": []
   },
   "source": [
    "## Shape \n",
    "\n",
    "The shape of the function. \n",
    "\n",
    "*If this is not a photon model but a prior or linear function then ignore the units as these docs are auto-generated*"
   ]
  },
  {
   "cell_type": "code",
   "execution_count": 6,
   "id": "6eb26116",
   "metadata": {
    "execution": {
     "iopub.execute_input": "2024-02-02T21:48:14.334667Z",
     "iopub.status.busy": "2024-02-02T21:48:14.334052Z",
     "iopub.status.idle": "2024-02-02T21:48:14.549432Z",
     "shell.execute_reply": "2024-02-02T21:48:14.548044Z"
    },
    "papermill": {
     "duration": 0.224005,
     "end_time": "2024-02-02T21:48:14.553592",
     "exception": false,
     "start_time": "2024-02-02T21:48:14.329587",
     "status": "completed"
    },
    "tags": [
     "nbsphinx-thumbnail"
    ]
   },
   "outputs": [
    {
     "data": {
      "text/plain": [
       "Text(0, 0.5, 'probability')"
      ]
     },
     "execution_count": 6,
     "metadata": {},
     "output_type": "execute_result"
    },
    {
     "data": {
      "image/png": "[encoded data removed]",
      "text/plain": [
       "<Figure size 1040x910 with 1 Axes>"
      ]
     },
     "metadata": {},
     "output_type": "display_data"
    }
   ],
   "source": [
    "fig, ax = plt.subplots()\n",
    "\n",
    "\n",
    "ax.plot(energy_grid, func(energy_grid), color=blue, lw=3)\n",
    "\n",
    "ax.set_xlabel(\"x\")\n",
    "ax.set_ylabel(\"probability\")\n"
   ]
  },
  {
   "cell_type": "markdown",
   "id": "19954b18",
   "metadata": {
    "papermill": {
     "duration": 0.003357,
     "end_time": "2024-02-02T21:48:14.560378",
     "exception": false,
     "start_time": "2024-02-02T21:48:14.557021",
     "status": "completed"
    },
    "tags": []
   },
   "source": [
    "## Random Number Generation\n",
    "\n",
    "This is how we can generate random numbers from the prior.\n"
   ]
  },
  {
   "cell_type": "code",
   "execution_count": 7,
   "id": "13c1edcc",
   "metadata": {
    "execution": {
     "iopub.execute_input": "2024-02-02T21:48:14.568845Z",
     "iopub.status.busy": "2024-02-02T21:48:14.568391Z",
     "iopub.status.idle": "2024-02-02T21:48:14.851898Z",
     "shell.execute_reply": "2024-02-02T21:48:14.850458Z"
    },
    "papermill": {
     "duration": 0.292701,
     "end_time": "2024-02-02T21:48:14.856202",
     "exception": false,
     "start_time": "2024-02-02T21:48:14.563501",
     "status": "completed"
    },
    "tags": []
   },
   "outputs": [
    {
     "data": {
      "text/plain": [
       "Text(0, 0.5, 'N')"
      ]
     },
     "execution_count": 7,
     "metadata": {},
     "output_type": "execute_result"
    },
    {
     "data": {
      "image/png": "[encoded data removed]",
      "text/plain": [
       "<Figure size 1040x910 with 1 Axes>"
      ]
     },
     "metadata": {},
     "output_type": "display_data"
    }
   ],
   "source": [
    "\n",
    "\n",
    "u = np.random.uniform(0,1, size=5000)\n",
    "\n",
    "draws = [func.from_unit_cube(x) for x in u]\n",
    "\n",
    "\n",
    "fig, ax = plt.subplots()\n",
    "\n",
    "\n",
    "ax.hist(draws, color=green, bins=50)\n",
    "\n",
    "ax.set_xlabel(\"value\")\n",
    "ax.set_ylabel(\"N\")\n",
    "\n"
   ]
  }
 ],
 "metadata": {
  "jupytext": {
   "formats": "ipynb,md"
  },
  "kernelspec": {
   "display_name": "Python 3 (ipykernel)",
   "language": "python",
   "name": "python3"
  },
  "language_info": {
   "codemirror_mode": {
    "name": "ipython",
    "version": 3
   },
   "file_extension": ".py",
   "mimetype": "text/x-python",
   "name": "python",
   "nbconvert_exporter": "python",
   "pygments_lexer": "ipython3",
   "version": "3.9.18"
  },
  "papermill": {
   "default_parameters": {},
   "duration": 5.911516,
   "end_time": "2024-02-02T21:48:15.491579",
   "environment_variables": {},
   "exception": null,
   "input_path": "Uniform_prior.ipynb",
   "output_path": "/Users/runner/work/astromodels/astromodels/docs/notebooks/Uniform_prior.ipynb",
   "parameters": {
    "func_name": "Uniform_prior",
    "positive_prior": false
   },
   "start_time": "2024-02-02T21:48:09.580063",
   "version": "2.5.0"
  }
 },
 "nbformat": 4,
 "nbformat_minor": 5
}
