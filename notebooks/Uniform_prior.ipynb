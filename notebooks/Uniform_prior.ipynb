{
 "cells": [
  {
   "cell_type": "markdown",
   "id": "28235ccc",
   "metadata": {
    "papermill": {
     "duration": 0.009438,
     "end_time": "2024-05-08T21:49:24.261382",
     "exception": false,
     "start_time": "2024-05-08T21:49:24.251944",
     "status": "completed"
    },
    "tags": []
   },
   "source": [
    "# Uniform prior"
   ]
  },
  {
   "cell_type": "code",
   "execution_count": 1,
   "id": "5a5e7e0d",
   "metadata": {
    "execution": {
     "iopub.execute_input": "2024-05-08T21:49:24.276421Z",
     "iopub.status.busy": "2024-05-08T21:49:24.275602Z",
     "iopub.status.idle": "2024-05-08T21:49:25.681396Z",
     "shell.execute_reply": "2024-05-08T21:49:25.680916Z"
    },
    "nbsphinx": "hidden",
    "papermill": {
     "duration": 1.414302,
     "end_time": "2024-05-08T21:49:25.682854",
     "exception": false,
     "start_time": "2024-05-08T21:49:24.268552",
     "status": "completed"
    },
    "tags": []
   },
   "outputs": [],
   "source": [
    "%%capture\n",
    "\n",
    "import numpy as np\n",
    "\n",
    "import matplotlib.pyplot as plt\n",
    "\n",
    "import warnings\n",
    "warnings.simplefilter(\"ignore\")\n",
    "\n",
    "from astromodels.functions.function import _known_functions\n",
    "\n",
    "\n",
    "from jupyterthemes import jtplot\n",
    "jtplot.style(context=\"talk\", fscale=1, ticks=True, grid=False)\n",
    "%matplotlib inline"
   ]
  },
  {
   "cell_type": "code",
   "execution_count": 2,
   "id": "d0336ff7",
   "metadata": {
    "execution": {
     "iopub.execute_input": "2024-05-08T21:49:25.686027Z",
     "iopub.status.busy": "2024-05-08T21:49:25.685707Z",
     "iopub.status.idle": "2024-05-08T21:49:25.693967Z",
     "shell.execute_reply": "2024-05-08T21:49:25.693509Z"
    },
    "nbsphinx": "hidden",
    "papermill": {
     "duration": 0.0111,
     "end_time": "2024-05-08T21:49:25.695169",
     "exception": false,
     "start_time": "2024-05-08T21:49:25.684069",
     "status": "completed"
    },
    "tags": [
     "parameters"
    ]
   },
   "outputs": [],
   "source": [
    "func_name = \"TbAbs\"\n",
    "\n",
    "positive_prior = False\n"
   ]
  },
  {
   "cell_type": "code",
   "execution_count": 3,
   "id": "8d7481c6",
   "metadata": {
    "execution": {
     "iopub.execute_input": "2024-05-08T21:49:25.697688Z",
     "iopub.status.busy": "2024-05-08T21:49:25.697544Z",
     "iopub.status.idle": "2024-05-08T21:49:25.705419Z",
     "shell.execute_reply": "2024-05-08T21:49:25.705069Z"
    },
    "papermill": {
     "duration": 0.010546,
     "end_time": "2024-05-08T21:49:25.706677",
     "exception": false,
     "start_time": "2024-05-08T21:49:25.696131",
     "status": "completed"
    },
    "tags": [
     "injected-parameters"
    ]
   },
   "outputs": [],
   "source": [
    "# Parameters\n",
    "func_name = \"Uniform_prior\"\n",
    "positive_prior = False\n"
   ]
  },
  {
   "cell_type": "code",
   "execution_count": 4,
   "id": "c3db77c4",
   "metadata": {
    "execution": {
     "iopub.execute_input": "2024-05-08T21:49:25.709435Z",
     "iopub.status.busy": "2024-05-08T21:49:25.709296Z",
     "iopub.status.idle": "2024-05-08T21:49:25.712112Z",
     "shell.execute_reply": "2024-05-08T21:49:25.711735Z"
    },
    "lines_to_next_cell": 0,
    "nbsphinx": "hidden",
    "papermill": {
     "duration": 0.005646,
     "end_time": "2024-05-08T21:49:25.713378",
     "exception": false,
     "start_time": "2024-05-08T21:49:25.707732",
     "status": "completed"
    },
    "tags": []
   },
   "outputs": [],
   "source": [
    "func = _known_functions[func_name]()\n",
    "\n",
    "if not positive_prior:\n",
    "\n",
    "\tenergy_grid = np.linspace(-5,5,1000)\n",
    "\n",
    "else:\n",
    "    \n",
    "    energy_grid = np.linspace(0,1,1000)\n",
    "    \n",
    "    \n",
    "    \n",
    "    \n",
    "blue = \"#4152E3\"\n",
    "red = \"#E3414B\"\n",
    "green = \"#41E39E\""
   ]
  },
  {
   "cell_type": "markdown",
   "id": "79c8abb9",
   "metadata": {
    "lines_to_next_cell": 0,
    "papermill": {
     "duration": 0.000987,
     "end_time": "2024-05-08T21:49:25.715368",
     "exception": false,
     "start_time": "2024-05-08T21:49:25.714381",
     "status": "completed"
    },
    "tags": []
   },
   "source": [
    "## Description"
   ]
  },
  {
   "cell_type": "code",
   "execution_count": 5,
   "id": "77aa706b",
   "metadata": {
    "execution": {
     "iopub.execute_input": "2024-05-08T21:49:25.717819Z",
     "iopub.status.busy": "2024-05-08T21:49:25.717678Z",
     "iopub.status.idle": "2024-05-08T21:49:25.727824Z",
     "shell.execute_reply": "2024-05-08T21:49:25.727432Z"
    },
    "papermill": {
     "duration": 0.012787,
     "end_time": "2024-05-08T21:49:25.729065",
     "exception": false,
     "start_time": "2024-05-08T21:49:25.716278",
     "status": "completed"
    },
    "tags": []
   },
   "outputs": [
    {
     "data": {
      "text/html": [
       "<ul>\n",
       "\n",
       "<li>description: A function which is constant on the interval lower_bound - upper_bound and 0 outside the interval. The extremes of the interval are counted as part of the interval.</li>\n",
       "\n",
       "<li>formula: $ f(x)=\\begin{cases}0 & x < \\text{lower_bound} \\\\\\text{value} & \\text{lower_bound} \\le x \\le \\text{upper_bound} \\\\ 0 & x > \\text{upper_bound} \\end{cases}$</li>\n",
       "\n",
       "<li>parameters: \n",
       "<ul>\n",
       "\n",
       "<li>lower_bound: \n",
       "<ul>\n",
       "\n",
       "<li>value: 0.0</li>\n",
       "\n",
       "<li>desc: Lower bound for the interval</li>\n",
       "\n",
       "<li>min_value: -inf</li>\n",
       "\n",
       "<li>max_value: inf</li>\n",
       "\n",
       "<li>unit: </li>\n",
       "\n",
       "<li>is_normalization: False</li>\n",
       "\n",
       "<li>delta: 0.1</li>\n",
       "\n",
       "<li>free: True</li>\n",
       "\n",
       "</ul>\n",
       "\n",
       "</li>\n",
       "\n",
       "<li>upper_bound: \n",
       "<ul>\n",
       "\n",
       "<li>value: 1.0</li>\n",
       "\n",
       "<li>desc: Upper bound for the interval</li>\n",
       "\n",
       "<li>min_value: -inf</li>\n",
       "\n",
       "<li>max_value: inf</li>\n",
       "\n",
       "<li>unit: </li>\n",
       "\n",
       "<li>is_normalization: False</li>\n",
       "\n",
       "<li>delta: 0.1</li>\n",
       "\n",
       "<li>free: True</li>\n",
       "\n",
       "</ul>\n",
       "\n",
       "</li>\n",
       "\n",
       "<li>value: \n",
       "<ul>\n",
       "\n",
       "<li>value: 1.0</li>\n",
       "\n",
       "<li>desc: Value in the interval</li>\n",
       "\n",
       "<li>min_value: None</li>\n",
       "\n",
       "<li>max_value: None</li>\n",
       "\n",
       "<li>unit: </li>\n",
       "\n",
       "<li>is_normalization: False</li>\n",
       "\n",
       "<li>delta: 0.1</li>\n",
       "\n",
       "<li>free: True</li>\n",
       "\n",
       "</ul>\n",
       "\n",
       "</li>\n",
       "\n",
       "</ul>\n",
       "\n",
       "</li>\n",
       "\n",
       "</ul>\n"
      ],
      "text/plain": [
       "  * description: A function which is constant on the interval lower_bound - upper_bound\n",
       "    * and 0 outside the interval. The extremes of the interval are counted as part of\n",
       "    * the interval.\n",
       "  * formula: $ f(x)=\\begin{cases}0 & x < \\text{lower_bound} \\\\\\text{value} & \\text{lower_bound}\n",
       "    * \\le x \\le \\text{upper_bound} \\\\ 0 & x > \\text{upper_bound} \\end{cases}$\n",
       "  * parameters:\n",
       "    * lower_bound:\n",
       "      * value: 0.0\n",
       "      * desc: Lower bound for the interval\n",
       "      * min_value: -.inf\n",
       "      * max_value: .inf\n",
       "      * unit: ''\n",
       "      * is_normalization: false\n",
       "      * delta: 0.1\n",
       "      * free: true\n",
       "    * upper_bound:\n",
       "      * value: 1.0\n",
       "      * desc: Upper bound for the interval\n",
       "      * min_value: -.inf\n",
       "      * max_value: .inf\n",
       "      * unit: ''\n",
       "      * is_normalization: false\n",
       "      * delta: 0.1\n",
       "      * free: true\n",
       "    * value:\n",
       "      * value: 1.0\n",
       "      * desc: Value in the interval\n",
       "      * min_value: null\n",
       "      * max_value: null\n",
       "      * unit: ''\n",
       "      * is_normalization: false\n",
       "      * delta: 0.1\n",
       "      * free: true"
      ]
     },
     "metadata": {},
     "output_type": "display_data"
    }
   ],
   "source": [
    "func.display()"
   ]
  },
  {
   "cell_type": "markdown",
   "id": "cc29a3d0",
   "metadata": {
    "papermill": {
     "duration": 0.001527,
     "end_time": "2024-05-08T21:49:25.731752",
     "exception": false,
     "start_time": "2024-05-08T21:49:25.730225",
     "status": "completed"
    },
    "tags": []
   },
   "source": [
    "## Shape \n",
    "\n",
    "The shape of the function. \n",
    "\n",
    "*If this is not a photon model but a prior or linear function then ignore the units as these docs are auto-generated*"
   ]
  },
  {
   "cell_type": "code",
   "execution_count": 6,
   "id": "8e22ed55",
   "metadata": {
    "execution": {
     "iopub.execute_input": "2024-05-08T21:49:25.734559Z",
     "iopub.status.busy": "2024-05-08T21:49:25.734416Z",
     "iopub.status.idle": "2024-05-08T21:49:25.828420Z",
     "shell.execute_reply": "2024-05-08T21:49:25.828082Z"
    },
    "papermill": {
     "duration": 0.097013,
     "end_time": "2024-05-08T21:49:25.829823",
     "exception": false,
     "start_time": "2024-05-08T21:49:25.732810",
     "status": "completed"
    },
    "tags": [
     "nbsphinx-thumbnail"
    ]
   },
   "outputs": [
    {
     "data": {
      "text/plain": [
       "Text(0, 0.5, 'probability')"
      ]
     },
     "execution_count": 6,
     "metadata": {},
     "output_type": "execute_result"
    },
    {
     "data": {
      "image/png": "[encoded data removed]",
      "text/plain": [
       "<Figure size 1040x910 with 1 Axes>"
      ]
     },
     "metadata": {},
     "output_type": "display_data"
    }
   ],
   "source": [
    "fig, ax = plt.subplots()\n",
    "\n",
    "\n",
    "ax.plot(energy_grid, func(energy_grid), color=blue, lw=3)\n",
    "\n",
    "ax.set_xlabel(\"x\")\n",
    "ax.set_ylabel(\"probability\")\n"
   ]
  },
  {
   "cell_type": "markdown",
   "id": "8fd5785b",
   "metadata": {
    "papermill": {
     "duration": 0.001342,
     "end_time": "2024-05-08T21:49:25.832809",
     "exception": false,
     "start_time": "2024-05-08T21:49:25.831467",
     "status": "completed"
    },
    "tags": []
   },
   "source": [
    "## Random Number Generation\n",
    "\n",
    "This is how we can generate random numbers from the prior.\n"
   ]
  },
  {
   "cell_type": "code",
   "execution_count": 7,
   "id": "10b02e31",
   "metadata": {
    "execution": {
     "iopub.execute_input": "2024-05-08T21:49:25.836159Z",
     "iopub.status.busy": "2024-05-08T21:49:25.836013Z",
     "iopub.status.idle": "2024-05-08T21:49:25.958189Z",
     "shell.execute_reply": "2024-05-08T21:49:25.957784Z"
    },
    "papermill": {
     "duration": 0.125361,
     "end_time": "2024-05-08T21:49:25.959433",
     "exception": false,
     "start_time": "2024-05-08T21:49:25.834072",
     "status": "completed"
    },
    "tags": []
   },
   "outputs": [
    {
     "data": {
      "text/plain": [
       "Text(0, 0.5, 'N')"
      ]
     },
     "execution_count": 7,
     "metadata": {},
     "output_type": "execute_result"
    },
    {
     "data": {
      "image/png": "[encoded data removed]",
      "text/plain": [
       "<Figure size 1040x910 with 1 Axes>"
      ]
     },
     "metadata": {},
     "output_type": "display_data"
    }
   ],
   "source": [
    "\n",
    "\n",
    "u = np.random.uniform(0,1, size=5000)\n",
    "\n",
    "draws = [func.from_unit_cube(x) for x in u]\n",
    "\n",
    "\n",
    "fig, ax = plt.subplots()\n",
    "\n",
    "\n",
    "ax.hist(draws, color=green, bins=50)\n",
    "\n",
    "ax.set_xlabel(\"value\")\n",
    "ax.set_ylabel(\"N\")\n",
    "\n"
   ]
  }
 ],
 "metadata": {
  "jupytext": {
   "formats": "ipynb,md"
  },
  "kernelspec": {
   "display_name": "Python 3 (ipykernel)",
   "language": "python",
   "name": "python3"
  },
  "language_info": {
   "codemirror_mode": {
    "name": "ipython",
    "version": 3
   },
   "file_extension": ".py",
   "mimetype": "text/x-python",
   "name": "python",
   "nbconvert_exporter": "python",
   "pygments_lexer": "ipython3",
   "version": "3.9.13"
  },
  "papermill": {
   "default_parameters": {},
   "duration": 2.744589,
   "end_time": "2024-05-08T21:49:26.293247",
   "environment_variables": {},
   "exception": null,
   "input_path": "Uniform_prior.ipynb",
   "output_path": "/Users/runner/work/astromodels/astromodels/docs/notebooks/Uniform_prior.ipynb",
   "parameters": {
    "func_name": "Uniform_prior",
    "positive_prior": false
   },
   "start_time": "2024-05-08T21:49:23.548658",
   "version": "2.6.0"
  }
 },
 "nbformat": 4,
 "nbformat_minor": 5
}
