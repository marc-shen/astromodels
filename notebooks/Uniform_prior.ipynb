{
 "cells": [
  {
   "cell_type": "markdown",
   "id": "44352fe8",
   "metadata": {
    "papermill": {
     "duration": 0.003387,
     "end_time": "2024-02-07T19:37:00.753603",
     "exception": false,
     "start_time": "2024-02-07T19:37:00.750216",
     "status": "completed"
    },
    "tags": []
   },
   "source": [
    "# Uniform prior"
   ]
  },
  {
   "cell_type": "code",
   "execution_count": 1,
   "id": "da9a3c0a",
   "metadata": {
    "execution": {
     "iopub.execute_input": "2024-02-07T19:37:00.760186Z",
     "iopub.status.busy": "2024-02-07T19:37:00.759827Z",
     "iopub.status.idle": "2024-02-07T19:37:03.302077Z",
     "shell.execute_reply": "2024-02-07T19:37:03.300556Z"
    },
    "nbsphinx": "hidden",
    "papermill": {
     "duration": 2.549976,
     "end_time": "2024-02-07T19:37:03.306150",
     "exception": false,
     "start_time": "2024-02-07T19:37:00.756174",
     "status": "completed"
    },
    "tags": []
   },
   "outputs": [],
   "source": [
    "%%capture\n",
    "\n",
    "import numpy as np\n",
    "\n",
    "import matplotlib.pyplot as plt\n",
    "\n",
    "import warnings\n",
    "warnings.simplefilter(\"ignore\")\n",
    "\n",
    "from astromodels.functions.function import _known_functions\n",
    "\n",
    "\n",
    "from jupyterthemes import jtplot\n",
    "jtplot.style(context=\"talk\", fscale=1, ticks=True, grid=False)\n",
    "%matplotlib inline"
   ]
  },
  {
   "cell_type": "code",
   "execution_count": 2,
   "id": "e4119961",
   "metadata": {
    "execution": {
     "iopub.execute_input": "2024-02-07T19:37:03.313063Z",
     "iopub.status.busy": "2024-02-07T19:37:03.312702Z",
     "iopub.status.idle": "2024-02-07T19:37:03.317737Z",
     "shell.execute_reply": "2024-02-07T19:37:03.316394Z"
    },
    "nbsphinx": "hidden",
    "papermill": {
     "duration": 0.012404,
     "end_time": "2024-02-07T19:37:03.321245",
     "exception": false,
     "start_time": "2024-02-07T19:37:03.308841",
     "status": "completed"
    },
    "tags": [
     "parameters"
    ]
   },
   "outputs": [],
   "source": [
    "func_name = \"TbAbs\"\n",
    "\n",
    "positive_prior = False\n"
   ]
  },
  {
   "cell_type": "code",
   "execution_count": 3,
   "id": "a88c1a96",
   "metadata": {
    "execution": {
     "iopub.execute_input": "2024-02-07T19:37:03.327886Z",
     "iopub.status.busy": "2024-02-07T19:37:03.327069Z",
     "iopub.status.idle": "2024-02-07T19:37:03.332008Z",
     "shell.execute_reply": "2024-02-07T19:37:03.330604Z"
    },
    "papermill": {
     "duration": 0.012139,
     "end_time": "2024-02-07T19:37:03.335726",
     "exception": false,
     "start_time": "2024-02-07T19:37:03.323587",
     "status": "completed"
    },
    "tags": [
     "injected-parameters"
    ]
   },
   "outputs": [],
   "source": [
    "# Parameters\n",
    "func_name = \"Uniform_prior\"\n",
    "positive_prior = False\n"
   ]
  },
  {
   "cell_type": "code",
   "execution_count": 4,
   "id": "0fca1dd8",
   "metadata": {
    "execution": {
     "iopub.execute_input": "2024-02-07T19:37:03.341864Z",
     "iopub.status.busy": "2024-02-07T19:37:03.341519Z",
     "iopub.status.idle": "2024-02-07T19:37:03.349166Z",
     "shell.execute_reply": "2024-02-07T19:37:03.347732Z"
    },
    "lines_to_next_cell": 0,
    "nbsphinx": "hidden",
    "papermill": {
     "duration": 0.014993,
     "end_time": "2024-02-07T19:37:03.352996",
     "exception": false,
     "start_time": "2024-02-07T19:37:03.338003",
     "status": "completed"
    },
    "tags": []
   },
   "outputs": [],
   "source": [
    "func = _known_functions[func_name]()\n",
    "\n",
    "if not positive_prior:\n",
    "\n",
    "\tenergy_grid = np.linspace(-5,5,1000)\n",
    "\n",
    "else:\n",
    "    \n",
    "    energy_grid = np.linspace(0,1,1000)\n",
    "    \n",
    "    \n",
    "    \n",
    "    \n",
    "blue = \"#4152E3\"\n",
    "red = \"#E3414B\"\n",
    "green = \"#41E39E\""
   ]
  },
  {
   "cell_type": "markdown",
   "id": "034951ce",
   "metadata": {
    "lines_to_next_cell": 0,
    "papermill": {
     "duration": 0.002497,
     "end_time": "2024-02-07T19:37:03.357978",
     "exception": false,
     "start_time": "2024-02-07T19:37:03.355481",
     "status": "completed"
    },
    "tags": []
   },
   "source": [
    "## Description"
   ]
  },
  {
   "cell_type": "code",
   "execution_count": 5,
   "id": "cdbe27a4",
   "metadata": {
    "execution": {
     "iopub.execute_input": "2024-02-07T19:37:03.364421Z",
     "iopub.status.busy": "2024-02-07T19:37:03.364070Z",
     "iopub.status.idle": "2024-02-07T19:37:03.375463Z",
     "shell.execute_reply": "2024-02-07T19:37:03.374076Z"
    },
    "papermill": {
     "duration": 0.018998,
     "end_time": "2024-02-07T19:37:03.379275",
     "exception": false,
     "start_time": "2024-02-07T19:37:03.360277",
     "status": "completed"
    },
    "tags": []
   },
   "outputs": [
    {
     "data": {
      "text/html": [
       "<ul>\n",
       "\n",
       "<li>description: A function which is constant on the interval lower_bound - upper_bound and 0 outside the interval. The extremes of the interval are counted as part of the interval.</li>\n",
       "\n",
       "<li>formula: $ f(x)=\\begin{cases}0 & x < \\text{lower_bound} \\\\\\text{value} & \\text{lower_bound} \\le x \\le \\text{upper_bound} \\\\ 0 & x > \\text{upper_bound} \\end{cases}$</li>\n",
       "\n",
       "<li>parameters: \n",
       "<ul>\n",
       "\n",
       "<li>lower_bound: \n",
       "<ul>\n",
       "\n",
       "<li>value: 0.0</li>\n",
       "\n",
       "<li>desc: Lower bound for the interval</li>\n",
       "\n",
       "<li>min_value: -inf</li>\n",
       "\n",
       "<li>max_value: inf</li>\n",
       "\n",
       "<li>unit: </li>\n",
       "\n",
       "<li>is_normalization: False</li>\n",
       "\n",
       "<li>delta: 0.1</li>\n",
       "\n",
       "<li>free: True</li>\n",
       "\n",
       "</ul>\n",
       "\n",
       "</li>\n",
       "\n",
       "<li>upper_bound: \n",
       "<ul>\n",
       "\n",
       "<li>value: 1.0</li>\n",
       "\n",
       "<li>desc: Upper bound for the interval</li>\n",
       "\n",
       "<li>min_value: -inf</li>\n",
       "\n",
       "<li>max_value: inf</li>\n",
       "\n",
       "<li>unit: </li>\n",
       "\n",
       "<li>is_normalization: False</li>\n",
       "\n",
       "<li>delta: 0.1</li>\n",
       "\n",
       "<li>free: True</li>\n",
       "\n",
       "</ul>\n",
       "\n",
       "</li>\n",
       "\n",
       "<li>value: \n",
       "<ul>\n",
       "\n",
       "<li>value: 1.0</li>\n",
       "\n",
       "<li>desc: Value in the interval</li>\n",
       "\n",
       "<li>min_value: None</li>\n",
       "\n",
       "<li>max_value: None</li>\n",
       "\n",
       "<li>unit: </li>\n",
       "\n",
       "<li>is_normalization: False</li>\n",
       "\n",
       "<li>delta: 0.1</li>\n",
       "\n",
       "<li>free: True</li>\n",
       "\n",
       "</ul>\n",
       "\n",
       "</li>\n",
       "\n",
       "</ul>\n",
       "\n",
       "</li>\n",
       "\n",
       "</ul>\n"
      ],
      "text/plain": [
       "  * description: A function which is constant on the interval lower_bound - upper_bound\n",
       "    * and 0 outside the interval. The extremes of the interval are counted as part of\n",
       "    * the interval.\n",
       "  * formula: $ f(x)=\\begin{cases}0 & x < \\text{lower_bound} \\\\\\text{value} & \\text{lower_bound}\n",
       "    * \\le x \\le \\text{upper_bound} \\\\ 0 & x > \\text{upper_bound} \\end{cases}$\n",
       "  * parameters:\n",
       "    * lower_bound:\n",
       "      * value: 0.0\n",
       "      * desc: Lower bound for the interval\n",
       "      * min_value: -.inf\n",
       "      * max_value: .inf\n",
       "      * unit: ''\n",
       "      * is_normalization: false\n",
       "      * delta: 0.1\n",
       "      * free: true\n",
       "    * upper_bound:\n",
       "      * value: 1.0\n",
       "      * desc: Upper bound for the interval\n",
       "      * min_value: -.inf\n",
       "      * max_value: .inf\n",
       "      * unit: ''\n",
       "      * is_normalization: false\n",
       "      * delta: 0.1\n",
       "      * free: true\n",
       "    * value:\n",
       "      * value: 1.0\n",
       "      * desc: Value in the interval\n",
       "      * min_value: null\n",
       "      * max_value: null\n",
       "      * unit: ''\n",
       "      * is_normalization: false\n",
       "      * delta: 0.1\n",
       "      * free: true"
      ]
     },
     "metadata": {},
     "output_type": "display_data"
    }
   ],
   "source": [
    "func.display()"
   ]
  },
  {
   "cell_type": "markdown",
   "id": "1a4adbee",
   "metadata": {
    "papermill": {
     "duration": 0.002728,
     "end_time": "2024-02-07T19:37:03.384803",
     "exception": false,
     "start_time": "2024-02-07T19:37:03.382075",
     "status": "completed"
    },
    "tags": []
   },
   "source": [
    "## Shape \n",
    "\n",
    "The shape of the function. \n",
    "\n",
    "*If this is not a photon model but a prior or linear function then ignore the units as these docs are auto-generated*"
   ]
  },
  {
   "cell_type": "code",
   "execution_count": 6,
   "id": "5f8ad5f1",
   "metadata": {
    "execution": {
     "iopub.execute_input": "2024-02-07T19:37:03.391924Z",
     "iopub.status.busy": "2024-02-07T19:37:03.391555Z",
     "iopub.status.idle": "2024-02-07T19:37:03.603137Z",
     "shell.execute_reply": "2024-02-07T19:37:03.601943Z"
    },
    "papermill": {
     "duration": 0.219321,
     "end_time": "2024-02-07T19:37:03.606787",
     "exception": false,
     "start_time": "2024-02-07T19:37:03.387466",
     "status": "completed"
    },
    "tags": [
     "nbsphinx-thumbnail"
    ]
   },
   "outputs": [
    {
     "data": {
      "text/plain": [
       "Text(0, 0.5, 'probability')"
      ]
     },
     "execution_count": 6,
     "metadata": {},
     "output_type": "execute_result"
    },
    {
     "data": {
      "image/png": "[encoded data removed]",
      "text/plain": [
       "<Figure size 1040x910 with 1 Axes>"
      ]
     },
     "metadata": {},
     "output_type": "display_data"
    }
   ],
   "source": [
    "fig, ax = plt.subplots()\n",
    "\n",
    "\n",
    "ax.plot(energy_grid, func(energy_grid), color=blue, lw=3)\n",
    "\n",
    "ax.set_xlabel(\"x\")\n",
    "ax.set_ylabel(\"probability\")\n"
   ]
  },
  {
   "cell_type": "markdown",
   "id": "ee2165ad",
   "metadata": {
    "papermill": {
     "duration": 0.003001,
     "end_time": "2024-02-07T19:37:03.612915",
     "exception": false,
     "start_time": "2024-02-07T19:37:03.609914",
     "status": "completed"
    },
    "tags": []
   },
   "source": [
    "## Random Number Generation\n",
    "\n",
    "This is how we can generate random numbers from the prior.\n"
   ]
  },
  {
   "cell_type": "code",
   "execution_count": 7,
   "id": "3ad54b11",
   "metadata": {
    "execution": {
     "iopub.execute_input": "2024-02-07T19:37:03.620868Z",
     "iopub.status.busy": "2024-02-07T19:37:03.620519Z",
     "iopub.status.idle": "2024-02-07T19:37:03.934505Z",
     "shell.execute_reply": "2024-02-07T19:37:03.932962Z"
    },
    "papermill": {
     "duration": 0.32359,
     "end_time": "2024-02-07T19:37:03.939592",
     "exception": false,
     "start_time": "2024-02-07T19:37:03.616002",
     "status": "completed"
    },
    "tags": []
   },
   "outputs": [
    {
     "data": {
      "text/plain": [
       "Text(0, 0.5, 'N')"
      ]
     },
     "execution_count": 7,
     "metadata": {},
     "output_type": "execute_result"
    },
    {
     "data": {
      "image/png": "[encoded data removed]",
      "text/plain": [
       "<Figure size 1040x910 with 1 Axes>"
      ]
     },
     "metadata": {},
     "output_type": "display_data"
    }
   ],
   "source": [
    "\n",
    "\n",
    "u = np.random.uniform(0,1, size=5000)\n",
    "\n",
    "draws = [func.from_unit_cube(x) for x in u]\n",
    "\n",
    "\n",
    "fig, ax = plt.subplots()\n",
    "\n",
    "\n",
    "ax.hist(draws, color=green, bins=50)\n",
    "\n",
    "ax.set_xlabel(\"value\")\n",
    "ax.set_ylabel(\"N\")\n",
    "\n"
   ]
  }
 ],
 "metadata": {
  "jupytext": {
   "formats": "ipynb,md"
  },
  "kernelspec": {
   "display_name": "Python 3 (ipykernel)",
   "language": "python",
   "name": "python3"
  },
  "language_info": {
   "codemirror_mode": {
    "name": "ipython",
    "version": 3
   },
   "file_extension": ".py",
   "mimetype": "text/x-python",
   "name": "python",
   "nbconvert_exporter": "python",
   "pygments_lexer": "ipython3",
   "version": "3.9.18"
  },
  "papermill": {
   "default_parameters": {},
   "duration": 4.187448,
   "end_time": "2024-02-07T19:37:04.072246",
   "environment_variables": {},
   "exception": null,
   "input_path": "Uniform_prior.ipynb",
   "output_path": "/Users/runner/work/astromodels/astromodels/docs/notebooks/Uniform_prior.ipynb",
   "parameters": {
    "func_name": "Uniform_prior",
    "positive_prior": false
   },
   "start_time": "2024-02-07T19:36:59.884798",
   "version": "2.5.0"
  }
 },
 "nbformat": 4,
 "nbformat_minor": 5
}
