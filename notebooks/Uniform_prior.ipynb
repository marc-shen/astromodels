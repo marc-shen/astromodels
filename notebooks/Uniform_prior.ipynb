{
 "cells": [
  {
   "cell_type": "markdown",
   "id": "5867470d",
   "metadata": {
    "papermill": {
     "duration": 0.006109,
     "end_time": "2024-05-17T21:51:05.997939",
     "exception": false,
     "start_time": "2024-05-17T21:51:05.991830",
     "status": "completed"
    },
    "tags": []
   },
   "source": [
    "# Uniform prior"
   ]
  },
  {
   "cell_type": "code",
   "execution_count": 1,
   "id": "c643ddf3",
   "metadata": {
    "execution": {
     "iopub.execute_input": "2024-05-17T21:51:06.009160Z",
     "iopub.status.busy": "2024-05-17T21:51:06.007878Z",
     "iopub.status.idle": "2024-05-17T21:51:07.414449Z",
     "shell.execute_reply": "2024-05-17T21:51:07.413955Z"
    },
    "nbsphinx": "hidden",
    "papermill": {
     "duration": 1.414523,
     "end_time": "2024-05-17T21:51:07.415936",
     "exception": false,
     "start_time": "2024-05-17T21:51:06.001413",
     "status": "completed"
    },
    "tags": []
   },
   "outputs": [],
   "source": [
    "%%capture\n",
    "\n",
    "import numpy as np\n",
    "\n",
    "import matplotlib.pyplot as plt\n",
    "\n",
    "import warnings\n",
    "warnings.simplefilter(\"ignore\")\n",
    "\n",
    "from astromodels.functions.function import _known_functions\n",
    "\n",
    "\n",
    "from jupyterthemes import jtplot\n",
    "jtplot.style(context=\"talk\", fscale=1, ticks=True, grid=False)\n",
    "%matplotlib inline"
   ]
  },
  {
   "cell_type": "code",
   "execution_count": 2,
   "id": "d8c1dfb7",
   "metadata": {
    "execution": {
     "iopub.execute_input": "2024-05-17T21:51:07.419435Z",
     "iopub.status.busy": "2024-05-17T21:51:07.419111Z",
     "iopub.status.idle": "2024-05-17T21:51:07.421234Z",
     "shell.execute_reply": "2024-05-17T21:51:07.420877Z"
    },
    "nbsphinx": "hidden",
    "papermill": {
     "duration": 0.005351,
     "end_time": "2024-05-17T21:51:07.422480",
     "exception": false,
     "start_time": "2024-05-17T21:51:07.417129",
     "status": "completed"
    },
    "tags": [
     "parameters"
    ]
   },
   "outputs": [],
   "source": [
    "func_name = \"TbAbs\"\n",
    "\n",
    "positive_prior = False\n"
   ]
  },
  {
   "cell_type": "code",
   "execution_count": 3,
   "id": "de45ea91",
   "metadata": {
    "execution": {
     "iopub.execute_input": "2024-05-17T21:51:07.425025Z",
     "iopub.status.busy": "2024-05-17T21:51:07.424884Z",
     "iopub.status.idle": "2024-05-17T21:51:07.430774Z",
     "shell.execute_reply": "2024-05-17T21:51:07.430378Z"
    },
    "papermill": {
     "duration": 0.008588,
     "end_time": "2024-05-17T21:51:07.432058",
     "exception": false,
     "start_time": "2024-05-17T21:51:07.423470",
     "status": "completed"
    },
    "tags": [
     "injected-parameters"
    ]
   },
   "outputs": [],
   "source": [
    "# Parameters\n",
    "func_name = \"Uniform_prior\"\n",
    "positive_prior = False\n"
   ]
  },
  {
   "cell_type": "code",
   "execution_count": 4,
   "id": "7c971f63",
   "metadata": {
    "execution": {
     "iopub.execute_input": "2024-05-17T21:51:07.434668Z",
     "iopub.status.busy": "2024-05-17T21:51:07.434494Z",
     "iopub.status.idle": "2024-05-17T21:51:07.443350Z",
     "shell.execute_reply": "2024-05-17T21:51:07.442994Z"
    },
    "lines_to_next_cell": 0,
    "nbsphinx": "hidden",
    "papermill": {
     "duration": 0.011583,
     "end_time": "2024-05-17T21:51:07.444616",
     "exception": false,
     "start_time": "2024-05-17T21:51:07.433033",
     "status": "completed"
    },
    "tags": []
   },
   "outputs": [],
   "source": [
    "func = _known_functions[func_name]()\n",
    "\n",
    "if not positive_prior:\n",
    "\n",
    "\tenergy_grid = np.linspace(-5,5,1000)\n",
    "\n",
    "else:\n",
    "    \n",
    "    energy_grid = np.linspace(0,1,1000)\n",
    "    \n",
    "    \n",
    "    \n",
    "    \n",
    "blue = \"#4152E3\"\n",
    "red = \"#E3414B\"\n",
    "green = \"#41E39E\""
   ]
  },
  {
   "cell_type": "markdown",
   "id": "5b73a7c0",
   "metadata": {
    "lines_to_next_cell": 0,
    "papermill": {
     "duration": 0.001015,
     "end_time": "2024-05-17T21:51:07.446681",
     "exception": false,
     "start_time": "2024-05-17T21:51:07.445666",
     "status": "completed"
    },
    "tags": []
   },
   "source": [
    "## Description"
   ]
  },
  {
   "cell_type": "code",
   "execution_count": 5,
   "id": "a786f6a2",
   "metadata": {
    "execution": {
     "iopub.execute_input": "2024-05-17T21:51:07.449222Z",
     "iopub.status.busy": "2024-05-17T21:51:07.449087Z",
     "iopub.status.idle": "2024-05-17T21:51:07.453315Z",
     "shell.execute_reply": "2024-05-17T21:51:07.452839Z"
    },
    "papermill": {
     "duration": 0.006908,
     "end_time": "2024-05-17T21:51:07.454552",
     "exception": false,
     "start_time": "2024-05-17T21:51:07.447644",
     "status": "completed"
    },
    "tags": []
   },
   "outputs": [
    {
     "data": {
      "text/html": [
       "<ul>\n",
       "\n",
       "<li>description: A function which is constant on the interval lower_bound - upper_bound and 0 outside the interval. The extremes of the interval are counted as part of the interval.</li>\n",
       "\n",
       "<li>formula: $ f(x)=\\begin{cases}0 & x < \\text{lower_bound} \\\\\\text{value} & \\text{lower_bound} \\le x \\le \\text{upper_bound} \\\\ 0 & x > \\text{upper_bound} \\end{cases}$</li>\n",
       "\n",
       "<li>parameters: \n",
       "<ul>\n",
       "\n",
       "<li>lower_bound: \n",
       "<ul>\n",
       "\n",
       "<li>value: 0.0</li>\n",
       "\n",
       "<li>desc: Lower bound for the interval</li>\n",
       "\n",
       "<li>min_value: -inf</li>\n",
       "\n",
       "<li>max_value: inf</li>\n",
       "\n",
       "<li>unit: </li>\n",
       "\n",
       "<li>is_normalization: False</li>\n",
       "\n",
       "<li>delta: 0.1</li>\n",
       "\n",
       "<li>free: True</li>\n",
       "\n",
       "</ul>\n",
       "\n",
       "</li>\n",
       "\n",
       "<li>upper_bound: \n",
       "<ul>\n",
       "\n",
       "<li>value: 1.0</li>\n",
       "\n",
       "<li>desc: Upper bound for the interval</li>\n",
       "\n",
       "<li>min_value: -inf</li>\n",
       "\n",
       "<li>max_value: inf</li>\n",
       "\n",
       "<li>unit: </li>\n",
       "\n",
       "<li>is_normalization: False</li>\n",
       "\n",
       "<li>delta: 0.1</li>\n",
       "\n",
       "<li>free: True</li>\n",
       "\n",
       "</ul>\n",
       "\n",
       "</li>\n",
       "\n",
       "<li>value: \n",
       "<ul>\n",
       "\n",
       "<li>value: 1.0</li>\n",
       "\n",
       "<li>desc: Value in the interval</li>\n",
       "\n",
       "<li>min_value: None</li>\n",
       "\n",
       "<li>max_value: None</li>\n",
       "\n",
       "<li>unit: </li>\n",
       "\n",
       "<li>is_normalization: False</li>\n",
       "\n",
       "<li>delta: 0.1</li>\n",
       "\n",
       "<li>free: True</li>\n",
       "\n",
       "</ul>\n",
       "\n",
       "</li>\n",
       "\n",
       "</ul>\n",
       "\n",
       "</li>\n",
       "\n",
       "</ul>\n"
      ],
      "text/plain": [
       "  * description: A function which is constant on the interval lower_bound - upper_bound\n",
       "    * and 0 outside the interval. The extremes of the interval are counted as part of\n",
       "    * the interval.\n",
       "  * formula: $ f(x)=\\begin{cases}0 & x < \\text{lower_bound} \\\\\\text{value} & \\text{lower_bound}\n",
       "    * \\le x \\le \\text{upper_bound} \\\\ 0 & x > \\text{upper_bound} \\end{cases}$\n",
       "  * parameters:\n",
       "    * lower_bound:\n",
       "      * value: 0.0\n",
       "      * desc: Lower bound for the interval\n",
       "      * min_value: -.inf\n",
       "      * max_value: .inf\n",
       "      * unit: ''\n",
       "      * is_normalization: false\n",
       "      * delta: 0.1\n",
       "      * free: true\n",
       "    * upper_bound:\n",
       "      * value: 1.0\n",
       "      * desc: Upper bound for the interval\n",
       "      * min_value: -.inf\n",
       "      * max_value: .inf\n",
       "      * unit: ''\n",
       "      * is_normalization: false\n",
       "      * delta: 0.1\n",
       "      * free: true\n",
       "    * value:\n",
       "      * value: 1.0\n",
       "      * desc: Value in the interval\n",
       "      * min_value: null\n",
       "      * max_value: null\n",
       "      * unit: ''\n",
       "      * is_normalization: false\n",
       "      * delta: 0.1\n",
       "      * free: true"
      ]
     },
     "metadata": {},
     "output_type": "display_data"
    }
   ],
   "source": [
    "func.display()"
   ]
  },
  {
   "cell_type": "markdown",
   "id": "2769837f",
   "metadata": {
    "papermill": {
     "duration": 0.001122,
     "end_time": "2024-05-17T21:51:07.456801",
     "exception": false,
     "start_time": "2024-05-17T21:51:07.455679",
     "status": "completed"
    },
    "tags": []
   },
   "source": [
    "## Shape \n",
    "\n",
    "The shape of the function. \n",
    "\n",
    "*If this is not a photon model but a prior or linear function then ignore the units as these docs are auto-generated*"
   ]
  },
  {
   "cell_type": "code",
   "execution_count": 6,
   "id": "e29b8467",
   "metadata": {
    "execution": {
     "iopub.execute_input": "2024-05-17T21:51:07.459620Z",
     "iopub.status.busy": "2024-05-17T21:51:07.459474Z",
     "iopub.status.idle": "2024-05-17T21:51:07.558314Z",
     "shell.execute_reply": "2024-05-17T21:51:07.557915Z"
    },
    "papermill": {
     "duration": 0.101813,
     "end_time": "2024-05-17T21:51:07.559634",
     "exception": false,
     "start_time": "2024-05-17T21:51:07.457821",
     "status": "completed"
    },
    "tags": [
     "nbsphinx-thumbnail"
    ]
   },
   "outputs": [
    {
     "data": {
      "text/plain": [
       "Text(0, 0.5, 'probability')"
      ]
     },
     "execution_count": 6,
     "metadata": {},
     "output_type": "execute_result"
    },
    {
     "data": {
      "image/png": "[encoded data removed]",
      "text/plain": [
       "<Figure size 1040x910 with 1 Axes>"
      ]
     },
     "metadata": {},
     "output_type": "display_data"
    }
   ],
   "source": [
    "fig, ax = plt.subplots()\n",
    "\n",
    "\n",
    "ax.plot(energy_grid, func(energy_grid), color=blue, lw=3)\n",
    "\n",
    "ax.set_xlabel(\"x\")\n",
    "ax.set_ylabel(\"probability\")\n"
   ]
  },
  {
   "cell_type": "markdown",
   "id": "9d627d18",
   "metadata": {
    "papermill": {
     "duration": 0.001338,
     "end_time": "2024-05-17T21:51:07.562569",
     "exception": false,
     "start_time": "2024-05-17T21:51:07.561231",
     "status": "completed"
    },
    "tags": []
   },
   "source": [
    "## Random Number Generation\n",
    "\n",
    "This is how we can generate random numbers from the prior.\n"
   ]
  },
  {
   "cell_type": "code",
   "execution_count": 7,
   "id": "9eb183ec",
   "metadata": {
    "execution": {
     "iopub.execute_input": "2024-05-17T21:51:07.565892Z",
     "iopub.status.busy": "2024-05-17T21:51:07.565741Z",
     "iopub.status.idle": "2024-05-17T21:51:07.684655Z",
     "shell.execute_reply": "2024-05-17T21:51:07.684339Z"
    },
    "papermill": {
     "duration": 0.122247,
     "end_time": "2024-05-17T21:51:07.686091",
     "exception": false,
     "start_time": "2024-05-17T21:51:07.563844",
     "status": "completed"
    },
    "tags": []
   },
   "outputs": [
    {
     "data": {
      "text/plain": [
       "Text(0, 0.5, 'N')"
      ]
     },
     "execution_count": 7,
     "metadata": {},
     "output_type": "execute_result"
    },
    {
     "data": {
      "image/png": "[encoded data removed]",
      "text/plain": [
       "<Figure size 1040x910 with 1 Axes>"
      ]
     },
     "metadata": {},
     "output_type": "display_data"
    }
   ],
   "source": [
    "\n",
    "\n",
    "u = np.random.uniform(0,1, size=5000)\n",
    "\n",
    "draws = [func.from_unit_cube(x) for x in u]\n",
    "\n",
    "\n",
    "fig, ax = plt.subplots()\n",
    "\n",
    "\n",
    "ax.hist(draws, color=green, bins=50)\n",
    "\n",
    "ax.set_xlabel(\"value\")\n",
    "ax.set_ylabel(\"N\")\n",
    "\n"
   ]
  }
 ],
 "metadata": {
  "jupytext": {
   "formats": "ipynb,md"
  },
  "kernelspec": {
   "display_name": "Python 3 (ipykernel)",
   "language": "python",
   "name": "python3"
  },
  "language_info": {
   "codemirror_mode": {
    "name": "ipython",
    "version": 3
   },
   "file_extension": ".py",
   "mimetype": "text/x-python",
   "name": "python",
   "nbconvert_exporter": "python",
   "pygments_lexer": "ipython3",
   "version": "3.9.13"
  },
  "papermill": {
   "default_parameters": {},
   "duration": 2.635711,
   "end_time": "2024-05-17T21:51:08.030293",
   "environment_variables": {},
   "exception": null,
   "input_path": "Uniform_prior.ipynb",
   "output_path": "/Users/runner/work/astromodels/astromodels/docs/notebooks/Uniform_prior.ipynb",
   "parameters": {
    "func_name": "Uniform_prior",
    "positive_prior": false
   },
   "start_time": "2024-05-17T21:51:05.394582",
   "version": "2.6.0"
  }
 },
 "nbformat": 4,
 "nbformat_minor": 5
}
