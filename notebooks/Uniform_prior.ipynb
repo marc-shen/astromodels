{
 "cells": [
  {
   "cell_type": "markdown",
   "id": "c6c0d010",
   "metadata": {
    "papermill": {
     "duration": 0.0094,
     "end_time": "2025-02-01T00:00:49.816815",
     "exception": false,
     "start_time": "2025-02-01T00:00:49.807415",
     "status": "completed"
    },
    "tags": []
   },
   "source": [
    "# Uniform prior"
   ]
  },
  {
   "cell_type": "code",
   "execution_count": 1,
   "id": "6d2b0dd5",
   "metadata": {
    "execution": {
     "iopub.execute_input": "2025-02-01T00:00:49.831321Z",
     "iopub.status.busy": "2025-02-01T00:00:49.830587Z",
     "iopub.status.idle": "2025-02-01T00:00:51.261345Z",
     "shell.execute_reply": "2025-02-01T00:00:51.260870Z"
    },
    "nbsphinx": "hidden",
    "papermill": {
     "duration": 1.438862,
     "end_time": "2025-02-01T00:00:51.262688",
     "exception": false,
     "start_time": "2025-02-01T00:00:49.823826",
     "status": "completed"
    },
    "tags": []
   },
   "outputs": [],
   "source": [
    "%%capture\n",
    "\n",
    "import numpy as np\n",
    "\n",
    "import matplotlib.pyplot as plt\n",
    "\n",
    "import warnings\n",
    "warnings.simplefilter(\"ignore\")\n",
    "\n",
    "from astromodels.functions.function import _known_functions\n",
    "\n",
    "\n",
    "from jupyterthemes import jtplot\n",
    "jtplot.style(context=\"talk\", fscale=1, ticks=True, grid=False)\n",
    "%matplotlib inline"
   ]
  },
  {
   "cell_type": "code",
   "execution_count": 2,
   "id": "d023e926",
   "metadata": {
    "execution": {
     "iopub.execute_input": "2025-02-01T00:00:51.265864Z",
     "iopub.status.busy": "2025-02-01T00:00:51.265533Z",
     "iopub.status.idle": "2025-02-01T00:00:51.273833Z",
     "shell.execute_reply": "2025-02-01T00:00:51.273453Z"
    },
    "nbsphinx": "hidden",
    "papermill": {
     "duration": 0.011056,
     "end_time": "2025-02-01T00:00:51.274985",
     "exception": false,
     "start_time": "2025-02-01T00:00:51.263929",
     "status": "completed"
    },
    "tags": [
     "parameters"
    ]
   },
   "outputs": [],
   "source": [
    "func_name = \"TbAbs\"\n",
    "\n",
    "positive_prior = False\n"
   ]
  },
  {
   "cell_type": "code",
   "execution_count": 3,
   "id": "b764619a",
   "metadata": {
    "execution": {
     "iopub.execute_input": "2025-02-01T00:00:51.277536Z",
     "iopub.status.busy": "2025-02-01T00:00:51.277392Z",
     "iopub.status.idle": "2025-02-01T00:00:51.285338Z",
     "shell.execute_reply": "2025-02-01T00:00:51.284967Z"
    },
    "papermill": {
     "duration": 0.010386,
     "end_time": "2025-02-01T00:00:51.286397",
     "exception": false,
     "start_time": "2025-02-01T00:00:51.276011",
     "status": "completed"
    },
    "tags": [
     "injected-parameters"
    ]
   },
   "outputs": [],
   "source": [
    "# Parameters\n",
    "func_name = \"Uniform_prior\"\n",
    "positive_prior = False\n"
   ]
  },
  {
   "cell_type": "code",
   "execution_count": 4,
   "id": "610e0c12",
   "metadata": {
    "execution": {
     "iopub.execute_input": "2025-02-01T00:00:51.289288Z",
     "iopub.status.busy": "2025-02-01T00:00:51.289133Z",
     "iopub.status.idle": "2025-02-01T00:00:51.298240Z",
     "shell.execute_reply": "2025-02-01T00:00:51.297874Z"
    },
    "lines_to_next_cell": 0,
    "nbsphinx": "hidden",
    "papermill": {
     "duration": 0.01183,
     "end_time": "2025-02-01T00:00:51.299347",
     "exception": false,
     "start_time": "2025-02-01T00:00:51.287517",
     "status": "completed"
    },
    "tags": []
   },
   "outputs": [],
   "source": [
    "func = _known_functions[func_name]()\n",
    "\n",
    "if not positive_prior:\n",
    "\n",
    "\tenergy_grid = np.linspace(-5,5,1000)\n",
    "\n",
    "else:\n",
    "    \n",
    "    energy_grid = np.linspace(0,1,1000)\n",
    "    \n",
    "    \n",
    "    \n",
    "    \n",
    "blue = \"#4152E3\"\n",
    "red = \"#E3414B\"\n",
    "green = \"#41E39E\""
   ]
  },
  {
   "cell_type": "markdown",
   "id": "d769f4ae",
   "metadata": {
    "lines_to_next_cell": 0,
    "papermill": {
     "duration": 0.001036,
     "end_time": "2025-02-01T00:00:51.301476",
     "exception": false,
     "start_time": "2025-02-01T00:00:51.300440",
     "status": "completed"
    },
    "tags": []
   },
   "source": [
    "## Description"
   ]
  },
  {
   "cell_type": "code",
   "execution_count": 5,
   "id": "653de42e",
   "metadata": {
    "execution": {
     "iopub.execute_input": "2025-02-01T00:00:51.304027Z",
     "iopub.status.busy": "2025-02-01T00:00:51.303886Z",
     "iopub.status.idle": "2025-02-01T00:00:51.307985Z",
     "shell.execute_reply": "2025-02-01T00:00:51.307470Z"
    },
    "papermill": {
     "duration": 0.006732,
     "end_time": "2025-02-01T00:00:51.309191",
     "exception": false,
     "start_time": "2025-02-01T00:00:51.302459",
     "status": "completed"
    },
    "tags": []
   },
   "outputs": [
    {
     "data": {
      "text/html": [
       "<ul>\n",
       "\n",
       "<li>description: A function which is constant on the interval lower_bound - upper_bound and 0 outside the interval. The extremes of the interval are counted as part of the interval.</li>\n",
       "\n",
       "<li>formula: $ f(x)=\\begin{cases}0 & x < \\text{lower_bound} \\\\\\text{value} & \\text{lower_bound} \\le x \\le \\text{upper_bound} \\\\ 0 & x > \\text{upper_bound} \\end{cases}$</li>\n",
       "\n",
       "<li>parameters: \n",
       "<ul>\n",
       "\n",
       "<li>lower_bound: \n",
       "<ul>\n",
       "\n",
       "<li>value: 0.0</li>\n",
       "\n",
       "<li>desc: Lower bound for the interval</li>\n",
       "\n",
       "<li>min_value: -inf</li>\n",
       "\n",
       "<li>max_value: inf</li>\n",
       "\n",
       "<li>unit: </li>\n",
       "\n",
       "<li>is_normalization: False</li>\n",
       "\n",
       "<li>delta: 0.1</li>\n",
       "\n",
       "<li>free: True</li>\n",
       "\n",
       "</ul>\n",
       "\n",
       "</li>\n",
       "\n",
       "<li>upper_bound: \n",
       "<ul>\n",
       "\n",
       "<li>value: 1.0</li>\n",
       "\n",
       "<li>desc: Upper bound for the interval</li>\n",
       "\n",
       "<li>min_value: -inf</li>\n",
       "\n",
       "<li>max_value: inf</li>\n",
       "\n",
       "<li>unit: </li>\n",
       "\n",
       "<li>is_normalization: False</li>\n",
       "\n",
       "<li>delta: 0.1</li>\n",
       "\n",
       "<li>free: True</li>\n",
       "\n",
       "</ul>\n",
       "\n",
       "</li>\n",
       "\n",
       "<li>value: \n",
       "<ul>\n",
       "\n",
       "<li>value: 1.0</li>\n",
       "\n",
       "<li>desc: Value in the interval</li>\n",
       "\n",
       "<li>min_value: None</li>\n",
       "\n",
       "<li>max_value: None</li>\n",
       "\n",
       "<li>unit: </li>\n",
       "\n",
       "<li>is_normalization: False</li>\n",
       "\n",
       "<li>delta: 0.1</li>\n",
       "\n",
       "<li>free: True</li>\n",
       "\n",
       "</ul>\n",
       "\n",
       "</li>\n",
       "\n",
       "</ul>\n",
       "\n",
       "</li>\n",
       "\n",
       "</ul>\n"
      ],
      "text/plain": [
       "  * description: A function which is constant on the interval lower_bound - upper_bound\n",
       "    * and 0 outside the interval. The extremes of the interval are counted as part of\n",
       "    * the interval.\n",
       "  * formula: $ f(x)=\\begin{cases}0 & x < \\text{lower_bound} \\\\\\text{value} & \\text{lower_bound}\n",
       "    * \\le x \\le \\text{upper_bound} \\\\ 0 & x > \\text{upper_bound} \\end{cases}$\n",
       "  * parameters:\n",
       "    * lower_bound:\n",
       "      * value: 0.0\n",
       "      * desc: Lower bound for the interval\n",
       "      * min_value: -.inf\n",
       "      * max_value: .inf\n",
       "      * unit: ''\n",
       "      * is_normalization: false\n",
       "      * delta: 0.1\n",
       "      * free: true\n",
       "    * upper_bound:\n",
       "      * value: 1.0\n",
       "      * desc: Upper bound for the interval\n",
       "      * min_value: -.inf\n",
       "      * max_value: .inf\n",
       "      * unit: ''\n",
       "      * is_normalization: false\n",
       "      * delta: 0.1\n",
       "      * free: true\n",
       "    * value:\n",
       "      * value: 1.0\n",
       "      * desc: Value in the interval\n",
       "      * min_value: null\n",
       "      * max_value: null\n",
       "      * unit: ''\n",
       "      * is_normalization: false\n",
       "      * delta: 0.1\n",
       "      * free: true"
      ]
     },
     "metadata": {},
     "output_type": "display_data"
    }
   ],
   "source": [
    "func.display()"
   ]
  },
  {
   "cell_type": "markdown",
   "id": "26ff4554",
   "metadata": {
    "papermill": {
     "duration": 0.001116,
     "end_time": "2025-02-01T00:00:51.311565",
     "exception": false,
     "start_time": "2025-02-01T00:00:51.310449",
     "status": "completed"
    },
    "tags": []
   },
   "source": [
    "## Shape \n",
    "\n",
    "The shape of the function. \n",
    "\n",
    "*If this is not a photon model but a prior or linear function then ignore the units as these docs are auto-generated*"
   ]
  },
  {
   "cell_type": "code",
   "execution_count": 6,
   "id": "85b9d1a2",
   "metadata": {
    "execution": {
     "iopub.execute_input": "2025-02-01T00:00:51.314264Z",
     "iopub.status.busy": "2025-02-01T00:00:51.314117Z",
     "iopub.status.idle": "2025-02-01T00:00:51.387582Z",
     "shell.execute_reply": "2025-02-01T00:00:51.387220Z"
    },
    "papermill": {
     "duration": 0.076226,
     "end_time": "2025-02-01T00:00:51.388812",
     "exception": false,
     "start_time": "2025-02-01T00:00:51.312586",
     "status": "completed"
    },
    "tags": [
     "nbsphinx-thumbnail"
    ]
   },
   "outputs": [
    {
     "data": {
      "text/plain": [
       "Text(0, 0.5, 'probability')"
      ]
     },
     "execution_count": 6,
     "metadata": {},
     "output_type": "execute_result"
    },
    {
     "data": {
      "image/png": "[encoded data removed]",
      "text/plain": [
       "<Figure size 1040x910 with 1 Axes>"
      ]
     },
     "metadata": {},
     "output_type": "display_data"
    }
   ],
   "source": [
    "fig, ax = plt.subplots()\n",
    "\n",
    "\n",
    "ax.plot(energy_grid, func(energy_grid), color=blue, lw=3)\n",
    "\n",
    "ax.set_xlabel(\"x\")\n",
    "ax.set_ylabel(\"probability\")\n"
   ]
  },
  {
   "cell_type": "markdown",
   "id": "ef38b7e8",
   "metadata": {
    "papermill": {
     "duration": 0.001347,
     "end_time": "2025-02-01T00:00:51.391846",
     "exception": false,
     "start_time": "2025-02-01T00:00:51.390499",
     "status": "completed"
    },
    "tags": []
   },
   "source": [
    "## Random Number Generation\n",
    "\n",
    "This is how we can generate random numbers from the prior.\n"
   ]
  },
  {
   "cell_type": "code",
   "execution_count": 7,
   "id": "297293e7",
   "metadata": {
    "execution": {
     "iopub.execute_input": "2025-02-01T00:00:51.395112Z",
     "iopub.status.busy": "2025-02-01T00:00:51.394971Z",
     "iopub.status.idle": "2025-02-01T00:00:51.487124Z",
     "shell.execute_reply": "2025-02-01T00:00:51.486809Z"
    },
    "papermill": {
     "duration": 0.095322,
     "end_time": "2025-02-01T00:00:51.488439",
     "exception": false,
     "start_time": "2025-02-01T00:00:51.393117",
     "status": "completed"
    },
    "tags": []
   },
   "outputs": [
    {
     "data": {
      "text/plain": [
       "Text(0, 0.5, 'N')"
      ]
     },
     "execution_count": 7,
     "metadata": {},
     "output_type": "execute_result"
    },
    {
     "data": {
      "image/png": "[encoded data removed]",
      "text/plain": [
       "<Figure size 1040x910 with 1 Axes>"
      ]
     },
     "metadata": {},
     "output_type": "display_data"
    }
   ],
   "source": [
    "\n",
    "\n",
    "u = np.random.uniform(0,1, size=5000)\n",
    "\n",
    "draws = [func.from_unit_cube(x) for x in u]\n",
    "\n",
    "\n",
    "fig, ax = plt.subplots()\n",
    "\n",
    "\n",
    "ax.hist(draws, color=green, bins=50)\n",
    "\n",
    "ax.set_xlabel(\"value\")\n",
    "ax.set_ylabel(\"N\")\n",
    "\n"
   ]
  }
 ],
 "metadata": {
  "jupytext": {
   "formats": "ipynb,md"
  },
  "kernelspec": {
   "display_name": "Python 3 (ipykernel)",
   "language": "python",
   "name": "python3"
  },
  "language_info": {
   "codemirror_mode": {
    "name": "ipython",
    "version": 3
   },
   "file_extension": ".py",
   "mimetype": "text/x-python",
   "name": "python",
   "nbconvert_exporter": "python",
   "pygments_lexer": "ipython3",
   "version": "3.9.13"
  },
  "papermill": {
   "default_parameters": {},
   "duration": 2.723794,
   "end_time": "2025-02-01T00:00:51.812937",
   "environment_variables": {},
   "exception": null,
   "input_path": "Uniform_prior.ipynb",
   "output_path": "/Users/runner/work/astromodels/astromodels/docs/notebooks/Uniform_prior.ipynb",
   "parameters": {
    "func_name": "Uniform_prior",
    "positive_prior": false
   },
   "start_time": "2025-02-01T00:00:49.089143",
   "version": "2.6.0"
  }
 },
 "nbformat": 4,
 "nbformat_minor": 5
}
