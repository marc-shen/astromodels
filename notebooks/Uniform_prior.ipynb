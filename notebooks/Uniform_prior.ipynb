{
 "cells": [
  {
   "cell_type": "markdown",
   "id": "4147aa86",
   "metadata": {
    "papermill": {
     "duration": 0.010425,
     "end_time": "2025-04-29T19:01:12.668688",
     "exception": false,
     "start_time": "2025-04-29T19:01:12.658263",
     "status": "completed"
    },
    "tags": []
   },
   "source": [
    "# Uniform prior"
   ]
  },
  {
   "cell_type": "code",
   "execution_count": 1,
   "id": "a10872f0",
   "metadata": {
    "execution": {
     "iopub.execute_input": "2025-04-29T19:01:12.684166Z",
     "iopub.status.busy": "2025-04-29T19:01:12.683310Z",
     "iopub.status.idle": "2025-04-29T19:01:14.100640Z",
     "shell.execute_reply": "2025-04-29T19:01:14.100145Z"
    },
    "nbsphinx": "hidden",
    "papermill": {
     "duration": 1.426011,
     "end_time": "2025-04-29T19:01:14.101937",
     "exception": false,
     "start_time": "2025-04-29T19:01:12.675926",
     "status": "completed"
    },
    "tags": []
   },
   "outputs": [],
   "source": [
    "%%capture\n",
    "\n",
    "import numpy as np\n",
    "\n",
    "import matplotlib.pyplot as plt\n",
    "\n",
    "import warnings\n",
    "warnings.simplefilter(\"ignore\")\n",
    "\n",
    "from astromodels.functions.function import _known_functions\n",
    "\n",
    "\n",
    "from jupyterthemes import jtplot\n",
    "jtplot.style(context=\"talk\", fscale=1, ticks=True, grid=False)\n",
    "%matplotlib inline"
   ]
  },
  {
   "cell_type": "code",
   "execution_count": 2,
   "id": "224e1ce1",
   "metadata": {
    "execution": {
     "iopub.execute_input": "2025-04-29T19:01:14.105103Z",
     "iopub.status.busy": "2025-04-29T19:01:14.104771Z",
     "iopub.status.idle": "2025-04-29T19:01:14.113185Z",
     "shell.execute_reply": "2025-04-29T19:01:14.112822Z"
    },
    "nbsphinx": "hidden",
    "papermill": {
     "duration": 0.011087,
     "end_time": "2025-04-29T19:01:14.114303",
     "exception": false,
     "start_time": "2025-04-29T19:01:14.103216",
     "status": "completed"
    },
    "tags": [
     "parameters"
    ]
   },
   "outputs": [],
   "source": [
    "func_name = \"TbAbs\"\n",
    "\n",
    "positive_prior = False\n"
   ]
  },
  {
   "cell_type": "code",
   "execution_count": 3,
   "id": "695503cd",
   "metadata": {
    "execution": {
     "iopub.execute_input": "2025-04-29T19:01:14.116959Z",
     "iopub.status.busy": "2025-04-29T19:01:14.116814Z",
     "iopub.status.idle": "2025-04-29T19:01:14.124754Z",
     "shell.execute_reply": "2025-04-29T19:01:14.124406Z"
    },
    "papermill": {
     "duration": 0.010462,
     "end_time": "2025-04-29T19:01:14.125846",
     "exception": false,
     "start_time": "2025-04-29T19:01:14.115384",
     "status": "completed"
    },
    "tags": [
     "injected-parameters"
    ]
   },
   "outputs": [],
   "source": [
    "# Parameters\n",
    "func_name = \"Uniform_prior\"\n",
    "positive_prior = False\n"
   ]
  },
  {
   "cell_type": "code",
   "execution_count": 4,
   "id": "073801b4",
   "metadata": {
    "execution": {
     "iopub.execute_input": "2025-04-29T19:01:14.128494Z",
     "iopub.status.busy": "2025-04-29T19:01:14.128355Z",
     "iopub.status.idle": "2025-04-29T19:01:14.131174Z",
     "shell.execute_reply": "2025-04-29T19:01:14.130846Z"
    },
    "lines_to_next_cell": 0,
    "nbsphinx": "hidden",
    "papermill": {
     "duration": 0.005304,
     "end_time": "2025-04-29T19:01:14.132240",
     "exception": false,
     "start_time": "2025-04-29T19:01:14.126936",
     "status": "completed"
    },
    "tags": []
   },
   "outputs": [],
   "source": [
    "func = _known_functions[func_name]()\n",
    "\n",
    "if not positive_prior:\n",
    "\n",
    "\tenergy_grid = np.linspace(-5,5,1000)\n",
    "\n",
    "else:\n",
    "    \n",
    "    energy_grid = np.linspace(0,1,1000)\n",
    "    \n",
    "    \n",
    "    \n",
    "    \n",
    "blue = \"#4152E3\"\n",
    "red = \"#E3414B\"\n",
    "green = \"#41E39E\""
   ]
  },
  {
   "cell_type": "markdown",
   "id": "0559e938",
   "metadata": {
    "lines_to_next_cell": 0,
    "papermill": {
     "duration": 0.000973,
     "end_time": "2025-04-29T19:01:14.134218",
     "exception": false,
     "start_time": "2025-04-29T19:01:14.133245",
     "status": "completed"
    },
    "tags": []
   },
   "source": [
    "## Description"
   ]
  },
  {
   "cell_type": "code",
   "execution_count": 5,
   "id": "e12fa304",
   "metadata": {
    "execution": {
     "iopub.execute_input": "2025-04-29T19:01:14.136642Z",
     "iopub.status.busy": "2025-04-29T19:01:14.136504Z",
     "iopub.status.idle": "2025-04-29T19:01:14.140663Z",
     "shell.execute_reply": "2025-04-29T19:01:14.140318Z"
    },
    "papermill": {
     "duration": 0.006613,
     "end_time": "2025-04-29T19:01:14.141748",
     "exception": false,
     "start_time": "2025-04-29T19:01:14.135135",
     "status": "completed"
    },
    "tags": []
   },
   "outputs": [
    {
     "data": {
      "text/html": [
       "<ul>\n",
       "\n",
       "<li>description: A function which is constant on the interval lower_bound - upper_bound and 0 outside the interval. The extremes of the interval are counted as part of the interval.</li>\n",
       "\n",
       "<li>formula: $ f(x)=\\begin{cases}0 & x < \\text{lower_bound} \\\\\\text{value} & \\text{lower_bound} \\le x \\le \\text{upper_bound} \\\\ 0 & x > \\text{upper_bound} \\end{cases}$</li>\n",
       "\n",
       "<li>parameters: \n",
       "<ul>\n",
       "\n",
       "<li>lower_bound: \n",
       "<ul>\n",
       "\n",
       "<li>value: 0.0</li>\n",
       "\n",
       "<li>desc: Lower bound for the interval</li>\n",
       "\n",
       "<li>min_value: -inf</li>\n",
       "\n",
       "<li>max_value: inf</li>\n",
       "\n",
       "<li>unit: </li>\n",
       "\n",
       "<li>is_normalization: False</li>\n",
       "\n",
       "<li>delta: 0.1</li>\n",
       "\n",
       "<li>free: True</li>\n",
       "\n",
       "</ul>\n",
       "\n",
       "</li>\n",
       "\n",
       "<li>upper_bound: \n",
       "<ul>\n",
       "\n",
       "<li>value: 1.0</li>\n",
       "\n",
       "<li>desc: Upper bound for the interval</li>\n",
       "\n",
       "<li>min_value: -inf</li>\n",
       "\n",
       "<li>max_value: inf</li>\n",
       "\n",
       "<li>unit: </li>\n",
       "\n",
       "<li>is_normalization: False</li>\n",
       "\n",
       "<li>delta: 0.1</li>\n",
       "\n",
       "<li>free: True</li>\n",
       "\n",
       "</ul>\n",
       "\n",
       "</li>\n",
       "\n",
       "<li>value: \n",
       "<ul>\n",
       "\n",
       "<li>value: 1.0</li>\n",
       "\n",
       "<li>desc: Value in the interval</li>\n",
       "\n",
       "<li>min_value: None</li>\n",
       "\n",
       "<li>max_value: None</li>\n",
       "\n",
       "<li>unit: </li>\n",
       "\n",
       "<li>is_normalization: False</li>\n",
       "\n",
       "<li>delta: 0.1</li>\n",
       "\n",
       "<li>free: True</li>\n",
       "\n",
       "</ul>\n",
       "\n",
       "</li>\n",
       "\n",
       "</ul>\n",
       "\n",
       "</li>\n",
       "\n",
       "</ul>\n"
      ],
      "text/plain": [
       "  * description: A function which is constant on the interval lower_bound - upper_bound\n",
       "    * and 0 outside the interval. The extremes of the interval are counted as part of\n",
       "    * the interval.\n",
       "  * formula: $ f(x)=\\begin{cases}0 & x < \\text{lower_bound} \\\\\\text{value} & \\text{lower_bound}\n",
       "    * \\le x \\le \\text{upper_bound} \\\\ 0 & x > \\text{upper_bound} \\end{cases}$\n",
       "  * parameters:\n",
       "    * lower_bound:\n",
       "      * value: 0.0\n",
       "      * desc: Lower bound for the interval\n",
       "      * min_value: -.inf\n",
       "      * max_value: .inf\n",
       "      * unit: ''\n",
       "      * is_normalization: false\n",
       "      * delta: 0.1\n",
       "      * free: true\n",
       "    * upper_bound:\n",
       "      * value: 1.0\n",
       "      * desc: Upper bound for the interval\n",
       "      * min_value: -.inf\n",
       "      * max_value: .inf\n",
       "      * unit: ''\n",
       "      * is_normalization: false\n",
       "      * delta: 0.1\n",
       "      * free: true\n",
       "    * value:\n",
       "      * value: 1.0\n",
       "      * desc: Value in the interval\n",
       "      * min_value: null\n",
       "      * max_value: null\n",
       "      * unit: ''\n",
       "      * is_normalization: false\n",
       "      * delta: 0.1\n",
       "      * free: true"
      ]
     },
     "metadata": {},
     "output_type": "display_data"
    }
   ],
   "source": [
    "func.display()"
   ]
  },
  {
   "cell_type": "markdown",
   "id": "f1481103",
   "metadata": {
    "papermill": {
     "duration": 0.001112,
     "end_time": "2025-04-29T19:01:14.144040",
     "exception": false,
     "start_time": "2025-04-29T19:01:14.142928",
     "status": "completed"
    },
    "tags": []
   },
   "source": [
    "## Shape \n",
    "\n",
    "The shape of the function. \n",
    "\n",
    "*If this is not a photon model but a prior or linear function then ignore the units as these docs are auto-generated*"
   ]
  },
  {
   "cell_type": "code",
   "execution_count": 6,
   "id": "24cbb116",
   "metadata": {
    "execution": {
     "iopub.execute_input": "2025-04-29T19:01:14.146692Z",
     "iopub.status.busy": "2025-04-29T19:01:14.146549Z",
     "iopub.status.idle": "2025-04-29T19:01:14.215372Z",
     "shell.execute_reply": "2025-04-29T19:01:14.215047Z"
    },
    "papermill": {
     "duration": 0.071555,
     "end_time": "2025-04-29T19:01:14.216624",
     "exception": false,
     "start_time": "2025-04-29T19:01:14.145069",
     "status": "completed"
    },
    "tags": [
     "nbsphinx-thumbnail"
    ]
   },
   "outputs": [
    {
     "data": {
      "text/plain": [
       "Text(0, 0.5, 'probability')"
      ]
     },
     "execution_count": 6,
     "metadata": {},
     "output_type": "execute_result"
    },
    {
     "data": {
      "image/png": "[encoded data removed]",
      "text/plain": [
       "<Figure size 1040x910 with 1 Axes>"
      ]
     },
     "metadata": {},
     "output_type": "display_data"
    }
   ],
   "source": [
    "fig, ax = plt.subplots()\n",
    "\n",
    "\n",
    "ax.plot(energy_grid, func(energy_grid), color=blue, lw=3)\n",
    "\n",
    "ax.set_xlabel(\"x\")\n",
    "ax.set_ylabel(\"probability\")\n"
   ]
  },
  {
   "cell_type": "markdown",
   "id": "48a372d0",
   "metadata": {
    "papermill": {
     "duration": 0.00141,
     "end_time": "2025-04-29T19:01:14.219678",
     "exception": false,
     "start_time": "2025-04-29T19:01:14.218268",
     "status": "completed"
    },
    "tags": []
   },
   "source": [
    "## Random Number Generation\n",
    "\n",
    "This is how we can generate random numbers from the prior.\n"
   ]
  },
  {
   "cell_type": "code",
   "execution_count": 7,
   "id": "b07553dc",
   "metadata": {
    "execution": {
     "iopub.execute_input": "2025-04-29T19:01:14.222960Z",
     "iopub.status.busy": "2025-04-29T19:01:14.222822Z",
     "iopub.status.idle": "2025-04-29T19:01:14.349568Z",
     "shell.execute_reply": "2025-04-29T19:01:14.349000Z"
    },
    "papermill": {
     "duration": 0.129842,
     "end_time": "2025-04-29T19:01:14.350814",
     "exception": false,
     "start_time": "2025-04-29T19:01:14.220972",
     "status": "completed"
    },
    "tags": []
   },
   "outputs": [
    {
     "data": {
      "text/plain": [
       "Text(0, 0.5, 'N')"
      ]
     },
     "execution_count": 7,
     "metadata": {},
     "output_type": "execute_result"
    },
    {
     "data": {
      "image/png": "[encoded data removed]",
      "text/plain": [
       "<Figure size 1040x910 with 1 Axes>"
      ]
     },
     "metadata": {},
     "output_type": "display_data"
    }
   ],
   "source": [
    "\n",
    "\n",
    "u = np.random.uniform(0,1, size=5000)\n",
    "\n",
    "draws = [func.from_unit_cube(x) for x in u]\n",
    "\n",
    "\n",
    "fig, ax = plt.subplots()\n",
    "\n",
    "\n",
    "ax.hist(draws, color=green, bins=50)\n",
    "\n",
    "ax.set_xlabel(\"value\")\n",
    "ax.set_ylabel(\"N\")\n",
    "\n"
   ]
  }
 ],
 "metadata": {
  "jupytext": {
   "formats": "ipynb,md"
  },
  "kernelspec": {
   "display_name": "Python 3 (ipykernel)",
   "language": "python",
   "name": "python3"
  },
  "language_info": {
   "codemirror_mode": {
    "name": "ipython",
    "version": 3
   },
   "file_extension": ".py",
   "mimetype": "text/x-python",
   "name": "python",
   "nbconvert_exporter": "python",
   "pygments_lexer": "ipython3",
   "version": "3.9.13"
  },
  "papermill": {
   "default_parameters": {},
   "duration": 2.774067,
   "end_time": "2025-04-29T19:01:14.686683",
   "environment_variables": {},
   "exception": null,
   "input_path": "Uniform_prior.ipynb",
   "output_path": "/Users/runner/work/astromodels/astromodels/docs/notebooks/Uniform_prior.ipynb",
   "parameters": {
    "func_name": "Uniform_prior",
    "positive_prior": false
   },
   "start_time": "2025-04-29T19:01:11.912616",
   "version": "2.6.0"
  }
 },
 "nbformat": 4,
 "nbformat_minor": 5
}
