{
 "cells": [
  {
   "cell_type": "markdown",
   "id": "53db9e32",
   "metadata": {
    "papermill": {
     "duration": 0.004497,
     "end_time": "2022-09-28T19:25:34.044315",
     "exception": false,
     "start_time": "2022-09-28T19:25:34.039818",
     "status": "completed"
    },
    "tags": []
   },
   "source": [
    "# Uniform prior"
   ]
  },
  {
   "cell_type": "code",
   "execution_count": 1,
   "id": "1a3f0cc6",
   "metadata": {
    "execution": {
     "iopub.execute_input": "2022-09-28T19:25:34.052378Z",
     "iopub.status.busy": "2022-09-28T19:25:34.051933Z",
     "iopub.status.idle": "2022-09-28T19:25:38.342353Z",
     "shell.execute_reply": "2022-09-28T19:25:38.341348Z"
    },
    "nbsphinx": "hidden",
    "papermill": {
     "duration": 4.297869,
     "end_time": "2022-09-28T19:25:38.345471",
     "exception": false,
     "start_time": "2022-09-28T19:25:34.047602",
     "status": "completed"
    },
    "tags": []
   },
   "outputs": [],
   "source": [
    "%%capture\n",
    "\n",
    "import numpy as np\n",
    "\n",
    "import matplotlib.pyplot as plt\n",
    "\n",
    "import warnings\n",
    "warnings.simplefilter(\"ignore\")\n",
    "\n",
    "from astromodels.functions.function import _known_functions\n",
    "\n",
    "\n",
    "from jupyterthemes import jtplot\n",
    "jtplot.style(context=\"talk\", fscale=1, ticks=True, grid=False)\n",
    "%matplotlib inline"
   ]
  },
  {
   "cell_type": "code",
   "execution_count": 2,
   "id": "9339e969",
   "metadata": {
    "execution": {
     "iopub.execute_input": "2022-09-28T19:25:38.353578Z",
     "iopub.status.busy": "2022-09-28T19:25:38.353190Z",
     "iopub.status.idle": "2022-09-28T19:25:38.361745Z",
     "shell.execute_reply": "2022-09-28T19:25:38.360838Z"
    },
    "nbsphinx": "hidden",
    "papermill": {
     "duration": 0.015286,
     "end_time": "2022-09-28T19:25:38.364498",
     "exception": false,
     "start_time": "2022-09-28T19:25:38.349212",
     "status": "completed"
    },
    "tags": [
     "parameters"
    ]
   },
   "outputs": [],
   "source": [
    "func_name = \"TbAbs\"\n",
    "\n",
    "positive_prior = False\n"
   ]
  },
  {
   "cell_type": "code",
   "execution_count": 3,
   "id": "a1ef6b26",
   "metadata": {
    "execution": {
     "iopub.execute_input": "2022-09-28T19:25:38.371412Z",
     "iopub.status.busy": "2022-09-28T19:25:38.371062Z",
     "iopub.status.idle": "2022-09-28T19:25:38.379450Z",
     "shell.execute_reply": "2022-09-28T19:25:38.378499Z"
    },
    "papermill": {
     "duration": 0.014997,
     "end_time": "2022-09-28T19:25:38.382270",
     "exception": false,
     "start_time": "2022-09-28T19:25:38.367273",
     "status": "completed"
    },
    "tags": [
     "injected-parameters"
    ]
   },
   "outputs": [],
   "source": [
    "# Parameters\n",
    "func_name = \"Uniform_prior\"\n",
    "positive_prior = False\n"
   ]
  },
  {
   "cell_type": "code",
   "execution_count": 4,
   "id": "fc19d374",
   "metadata": {
    "execution": {
     "iopub.execute_input": "2022-09-28T19:25:38.389606Z",
     "iopub.status.busy": "2022-09-28T19:25:38.388999Z",
     "iopub.status.idle": "2022-09-28T19:25:38.397897Z",
     "shell.execute_reply": "2022-09-28T19:25:38.396951Z"
    },
    "lines_to_next_cell": 0,
    "nbsphinx": "hidden",
    "papermill": {
     "duration": 0.015678,
     "end_time": "2022-09-28T19:25:38.400776",
     "exception": false,
     "start_time": "2022-09-28T19:25:38.385098",
     "status": "completed"
    },
    "tags": []
   },
   "outputs": [],
   "source": [
    "func = _known_functions[func_name]()\n",
    "\n",
    "if not positive_prior:\n",
    "\n",
    "\tenergy_grid = np.linspace(-5,5,1000)\n",
    "\n",
    "else:\n",
    "    \n",
    "    energy_grid = np.linspace(0,1,1000)\n",
    "    \n",
    "    \n",
    "    \n",
    "    \n",
    "blue = \"#4152E3\"\n",
    "red = \"#E3414B\"\n",
    "green = \"#41E39E\""
   ]
  },
  {
   "cell_type": "markdown",
   "id": "ce9f23cc",
   "metadata": {
    "lines_to_next_cell": 0,
    "papermill": {
     "duration": 0.002857,
     "end_time": "2022-09-28T19:25:38.406507",
     "exception": false,
     "start_time": "2022-09-28T19:25:38.403650",
     "status": "completed"
    },
    "tags": []
   },
   "source": [
    "## Description"
   ]
  },
  {
   "cell_type": "code",
   "execution_count": 5,
   "id": "e375d7c8",
   "metadata": {
    "execution": {
     "iopub.execute_input": "2022-09-28T19:25:38.414508Z",
     "iopub.status.busy": "2022-09-28T19:25:38.413752Z",
     "iopub.status.idle": "2022-09-28T19:25:38.427741Z",
     "shell.execute_reply": "2022-09-28T19:25:38.426814Z"
    },
    "papermill": {
     "duration": 0.020929,
     "end_time": "2022-09-28T19:25:38.430693",
     "exception": false,
     "start_time": "2022-09-28T19:25:38.409764",
     "status": "completed"
    },
    "tags": []
   },
   "outputs": [
    {
     "data": {
      "text/html": [
       "<ul>\n",
       "\n",
       "<li>description: A function which is constant on the interval lower_bound - upper_bound and 0 outside the interval. The extremes of the interval are counted as part of the interval.</li>\n",
       "\n",
       "<li>formula: $ f(x)=\\begin{cases}0 & x < \\text{lower_bound} \\\\\\text{value} & \\text{lower_bound} \\le x \\le \\text{upper_bound} \\\\ 0 & x > \\text{upper_bound} \\end{cases}$</li>\n",
       "\n",
       "<li>parameters: \n",
       "<ul>\n",
       "\n",
       "<li>lower_bound: \n",
       "<ul>\n",
       "\n",
       "<li>value: 0.0</li>\n",
       "\n",
       "<li>desc: Lower bound for the interval</li>\n",
       "\n",
       "<li>min_value: -inf</li>\n",
       "\n",
       "<li>max_value: inf</li>\n",
       "\n",
       "<li>unit: </li>\n",
       "\n",
       "<li>is_normalization: False</li>\n",
       "\n",
       "<li>delta: 0.1</li>\n",
       "\n",
       "<li>free: True</li>\n",
       "\n",
       "</ul>\n",
       "\n",
       "</li>\n",
       "\n",
       "<li>upper_bound: \n",
       "<ul>\n",
       "\n",
       "<li>value: 1.0</li>\n",
       "\n",
       "<li>desc: Upper bound for the interval</li>\n",
       "\n",
       "<li>min_value: -inf</li>\n",
       "\n",
       "<li>max_value: inf</li>\n",
       "\n",
       "<li>unit: </li>\n",
       "\n",
       "<li>is_normalization: False</li>\n",
       "\n",
       "<li>delta: 0.1</li>\n",
       "\n",
       "<li>free: True</li>\n",
       "\n",
       "</ul>\n",
       "\n",
       "</li>\n",
       "\n",
       "<li>value: \n",
       "<ul>\n",
       "\n",
       "<li>value: 1.0</li>\n",
       "\n",
       "<li>desc: Value in the interval</li>\n",
       "\n",
       "<li>min_value: None</li>\n",
       "\n",
       "<li>max_value: None</li>\n",
       "\n",
       "<li>unit: </li>\n",
       "\n",
       "<li>is_normalization: False</li>\n",
       "\n",
       "<li>delta: 0.1</li>\n",
       "\n",
       "<li>free: True</li>\n",
       "\n",
       "</ul>\n",
       "\n",
       "</li>\n",
       "\n",
       "</ul>\n",
       "\n",
       "</li>\n",
       "\n",
       "</ul>\n"
      ],
      "text/plain": [
       "  * description: A function which is constant on the interval lower_bound - upper_bound\n",
       "    * and 0 outside the interval. The extremes of the interval are counted as part of\n",
       "    * the interval.\n",
       "  * formula: $ f(x)=\\begin{cases}0 & x < \\text{lower_bound} \\\\\\text{value} & \\text{lower_bound}\n",
       "    * \\le x \\le \\text{upper_bound} \\\\ 0 & x > \\text{upper_bound} \\end{cases}$\n",
       "  * parameters:\n",
       "    * lower_bound:\n",
       "      * value: 0.0\n",
       "      * desc: Lower bound for the interval\n",
       "      * min_value: -.inf\n",
       "      * max_value: .inf\n",
       "      * unit: ''\n",
       "      * is_normalization: false\n",
       "      * delta: 0.1\n",
       "      * free: true\n",
       "    * upper_bound:\n",
       "      * value: 1.0\n",
       "      * desc: Upper bound for the interval\n",
       "      * min_value: -.inf\n",
       "      * max_value: .inf\n",
       "      * unit: ''\n",
       "      * is_normalization: false\n",
       "      * delta: 0.1\n",
       "      * free: true\n",
       "    * value:\n",
       "      * value: 1.0\n",
       "      * desc: Value in the interval\n",
       "      * min_value: null\n",
       "      * max_value: null\n",
       "      * unit: ''\n",
       "      * is_normalization: false\n",
       "      * delta: 0.1\n",
       "      * free: true"
      ]
     },
     "metadata": {},
     "output_type": "display_data"
    }
   ],
   "source": [
    "func.display()"
   ]
  },
  {
   "cell_type": "markdown",
   "id": "ddc0d66c",
   "metadata": {
    "papermill": {
     "duration": 0.003166,
     "end_time": "2022-09-28T19:25:38.437223",
     "exception": false,
     "start_time": "2022-09-28T19:25:38.434057",
     "status": "completed"
    },
    "tags": []
   },
   "source": [
    "## Shape \n",
    "\n",
    "The shape of the function. \n",
    "\n",
    "*If this is not a photon model but a prior or linear function then ignore the units as these docs are auto-generated*"
   ]
  },
  {
   "cell_type": "code",
   "execution_count": 6,
   "id": "2fd5d8dd",
   "metadata": {
    "execution": {
     "iopub.execute_input": "2022-09-28T19:25:38.445576Z",
     "iopub.status.busy": "2022-09-28T19:25:38.444898Z",
     "iopub.status.idle": "2022-09-28T19:25:38.841583Z",
     "shell.execute_reply": "2022-09-28T19:25:38.840505Z"
    },
    "papermill": {
     "duration": 0.404674,
     "end_time": "2022-09-28T19:25:38.844868",
     "exception": false,
     "start_time": "2022-09-28T19:25:38.440194",
     "status": "completed"
    },
    "tags": [
     "nbsphinx-thumbnail"
    ]
   },
   "outputs": [
    {
     "data": {
      "text/plain": [
       "Text(0, 0.5, 'probability')"
      ]
     },
     "execution_count": 6,
     "metadata": {},
     "output_type": "execute_result"
    },
    {
     "data": {
      "image/png": "[encoded data removed]",
      "text/plain": [
       "<Figure size 1040x910 with 1 Axes>"
      ]
     },
     "metadata": {},
     "output_type": "display_data"
    }
   ],
   "source": [
    "fig, ax = plt.subplots()\n",
    "\n",
    "\n",
    "ax.plot(energy_grid, func(energy_grid), color=blue, lw=3)\n",
    "\n",
    "ax.set_xlabel(\"x\")\n",
    "ax.set_ylabel(\"probability\")\n"
   ]
  },
  {
   "cell_type": "markdown",
   "id": "f4a9c9bb",
   "metadata": {
    "papermill": {
     "duration": 0.004342,
     "end_time": "2022-09-28T19:25:38.853086",
     "exception": false,
     "start_time": "2022-09-28T19:25:38.848744",
     "status": "completed"
    },
    "tags": []
   },
   "source": [
    "## Random Number Generation\n",
    "\n",
    "This is how we can generate random numbers from the prior.\n"
   ]
  },
  {
   "cell_type": "code",
   "execution_count": 7,
   "id": "0e43bda4",
   "metadata": {
    "execution": {
     "iopub.execute_input": "2022-09-28T19:25:38.862334Z",
     "iopub.status.busy": "2022-09-28T19:25:38.861928Z",
     "iopub.status.idle": "2022-09-28T19:25:39.249471Z",
     "shell.execute_reply": "2022-09-28T19:25:39.248368Z"
    },
    "papermill": {
     "duration": 0.395505,
     "end_time": "2022-09-28T19:25:39.252320",
     "exception": false,
     "start_time": "2022-09-28T19:25:38.856815",
     "status": "completed"
    },
    "tags": []
   },
   "outputs": [
    {
     "data": {
      "text/plain": [
       "Text(0, 0.5, 'N')"
      ]
     },
     "execution_count": 7,
     "metadata": {},
     "output_type": "execute_result"
    },
    {
     "data": {
      "image/png": "[encoded data removed]",
      "text/plain": [
       "<Figure size 1040x910 with 1 Axes>"
      ]
     },
     "metadata": {},
     "output_type": "display_data"
    }
   ],
   "source": [
    "\n",
    "\n",
    "u = np.random.uniform(0,1, size=5000)\n",
    "\n",
    "draws = [func.from_unit_cube(x) for x in u]\n",
    "\n",
    "\n",
    "fig, ax = plt.subplots()\n",
    "\n",
    "\n",
    "ax.hist(draws, color=green, bins=50)\n",
    "\n",
    "ax.set_xlabel(\"value\")\n",
    "ax.set_ylabel(\"N\")\n",
    "\n"
   ]
  }
 ],
 "metadata": {
  "jupytext": {
   "formats": "ipynb,md"
  },
  "kernelspec": {
   "display_name": "Python 3 (ipykernel)",
   "language": "python",
   "name": "python3"
  },
  "language_info": {
   "codemirror_mode": {
    "name": "ipython",
    "version": 3
   },
   "file_extension": ".py",
   "mimetype": "text/x-python",
   "name": "python",
   "nbconvert_exporter": "python",
   "pygments_lexer": "ipython3",
   "version": "3.9.14"
  },
  "papermill": {
   "default_parameters": {},
   "duration": 7.240458,
   "end_time": "2022-09-28T19:25:39.966825",
   "environment_variables": {},
   "exception": null,
   "input_path": "Uniform_prior.ipynb",
   "output_path": "/Users/runner/work/astromodels/astromodels/docs/notebooks/Uniform_prior.ipynb",
   "parameters": {
    "func_name": "Uniform_prior",
    "positive_prior": false
   },
   "start_time": "2022-09-28T19:25:32.726367",
   "version": "2.4.0"
  }
 },
 "nbformat": 4,
 "nbformat_minor": 5
}
