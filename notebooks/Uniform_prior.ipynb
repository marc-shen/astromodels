{
 "cells": [
  {
   "cell_type": "markdown",
   "id": "8e67dfeb",
   "metadata": {
    "papermill": {
     "duration": 0.005984,
     "end_time": "2022-09-28T03:50:39.733666",
     "exception": false,
     "start_time": "2022-09-28T03:50:39.727682",
     "status": "completed"
    },
    "tags": []
   },
   "source": [
    "# Uniform prior"
   ]
  },
  {
   "cell_type": "code",
   "execution_count": 1,
   "id": "ad237b55",
   "metadata": {
    "execution": {
     "iopub.execute_input": "2022-09-28T03:50:39.742503Z",
     "iopub.status.busy": "2022-09-28T03:50:39.742022Z",
     "iopub.status.idle": "2022-09-28T03:50:44.480151Z",
     "shell.execute_reply": "2022-09-28T03:50:44.478019Z"
    },
    "nbsphinx": "hidden",
    "papermill": {
     "duration": 4.749586,
     "end_time": "2022-09-28T03:50:44.486848",
     "exception": false,
     "start_time": "2022-09-28T03:50:39.737262",
     "status": "completed"
    },
    "tags": []
   },
   "outputs": [],
   "source": [
    "%%capture\n",
    "\n",
    "import numpy as np\n",
    "\n",
    "import matplotlib.pyplot as plt\n",
    "\n",
    "import warnings\n",
    "warnings.simplefilter(\"ignore\")\n",
    "\n",
    "from astromodels.functions.function import _known_functions\n",
    "\n",
    "\n",
    "from jupyterthemes import jtplot\n",
    "jtplot.style(context=\"talk\", fscale=1, ticks=True, grid=False)\n",
    "%matplotlib inline"
   ]
  },
  {
   "cell_type": "code",
   "execution_count": 2,
   "id": "41511ce6",
   "metadata": {
    "execution": {
     "iopub.execute_input": "2022-09-28T03:50:44.498136Z",
     "iopub.status.busy": "2022-09-28T03:50:44.496777Z",
     "iopub.status.idle": "2022-09-28T03:50:44.506103Z",
     "shell.execute_reply": "2022-09-28T03:50:44.504644Z"
    },
    "nbsphinx": "hidden",
    "papermill": {
     "duration": 0.019143,
     "end_time": "2022-09-28T03:50:44.510128",
     "exception": false,
     "start_time": "2022-09-28T03:50:44.490985",
     "status": "completed"
    },
    "tags": [
     "parameters"
    ]
   },
   "outputs": [],
   "source": [
    "func_name = \"TbAbs\"\n",
    "\n",
    "positive_prior = False\n"
   ]
  },
  {
   "cell_type": "code",
   "execution_count": 3,
   "id": "0a70158f",
   "metadata": {
    "execution": {
     "iopub.execute_input": "2022-09-28T03:50:44.520832Z",
     "iopub.status.busy": "2022-09-28T03:50:44.520212Z",
     "iopub.status.idle": "2022-09-28T03:50:44.528255Z",
     "shell.execute_reply": "2022-09-28T03:50:44.526470Z"
    },
    "papermill": {
     "duration": 0.017945,
     "end_time": "2022-09-28T03:50:44.532749",
     "exception": false,
     "start_time": "2022-09-28T03:50:44.514804",
     "status": "completed"
    },
    "tags": [
     "injected-parameters"
    ]
   },
   "outputs": [],
   "source": [
    "# Parameters\n",
    "func_name = \"Uniform_prior\"\n",
    "positive_prior = False\n"
   ]
  },
  {
   "cell_type": "code",
   "execution_count": 4,
   "id": "0316331d",
   "metadata": {
    "execution": {
     "iopub.execute_input": "2022-09-28T03:50:44.545954Z",
     "iopub.status.busy": "2022-09-28T03:50:44.544756Z",
     "iopub.status.idle": "2022-09-28T03:50:44.556156Z",
     "shell.execute_reply": "2022-09-28T03:50:44.554783Z"
    },
    "lines_to_next_cell": 0,
    "nbsphinx": "hidden",
    "papermill": {
     "duration": 0.022642,
     "end_time": "2022-09-28T03:50:44.560486",
     "exception": false,
     "start_time": "2022-09-28T03:50:44.537844",
     "status": "completed"
    },
    "tags": []
   },
   "outputs": [],
   "source": [
    "func = _known_functions[func_name]()\n",
    "\n",
    "if not positive_prior:\n",
    "\n",
    "\tenergy_grid = np.linspace(-5,5,1000)\n",
    "\n",
    "else:\n",
    "    \n",
    "    energy_grid = np.linspace(0,1,1000)\n",
    "    \n",
    "    \n",
    "    \n",
    "    \n",
    "blue = \"#4152E3\"\n",
    "red = \"#E3414B\"\n",
    "green = \"#41E39E\""
   ]
  },
  {
   "cell_type": "markdown",
   "id": "78b668ac",
   "metadata": {
    "lines_to_next_cell": 0,
    "papermill": {
     "duration": 0.006042,
     "end_time": "2022-09-28T03:50:44.571497",
     "exception": false,
     "start_time": "2022-09-28T03:50:44.565455",
     "status": "completed"
    },
    "tags": []
   },
   "source": [
    "## Description"
   ]
  },
  {
   "cell_type": "code",
   "execution_count": 5,
   "id": "333bb001",
   "metadata": {
    "execution": {
     "iopub.execute_input": "2022-09-28T03:50:44.584631Z",
     "iopub.status.busy": "2022-09-28T03:50:44.584079Z",
     "iopub.status.idle": "2022-09-28T03:50:44.602614Z",
     "shell.execute_reply": "2022-09-28T03:50:44.600384Z"
    },
    "papermill": {
     "duration": 0.029166,
     "end_time": "2022-09-28T03:50:44.606938",
     "exception": false,
     "start_time": "2022-09-28T03:50:44.577772",
     "status": "completed"
    },
    "tags": []
   },
   "outputs": [
    {
     "data": {
      "text/html": [
       "<ul>\n",
       "\n",
       "<li>description: A function which is constant on the interval lower_bound - upper_bound and 0 outside the interval. The extremes of the interval are counted as part of the interval.</li>\n",
       "\n",
       "<li>formula: $ f(x)=\\begin{cases}0 & x < \\text{lower_bound} \\\\\\text{value} & \\text{lower_bound} \\le x \\le \\text{upper_bound} \\\\ 0 & x > \\text{upper_bound} \\end{cases}$</li>\n",
       "\n",
       "<li>parameters: \n",
       "<ul>\n",
       "\n",
       "<li>lower_bound: \n",
       "<ul>\n",
       "\n",
       "<li>value: 0.0</li>\n",
       "\n",
       "<li>desc: Lower bound for the interval</li>\n",
       "\n",
       "<li>min_value: -inf</li>\n",
       "\n",
       "<li>max_value: inf</li>\n",
       "\n",
       "<li>unit: </li>\n",
       "\n",
       "<li>is_normalization: False</li>\n",
       "\n",
       "<li>delta: 0.1</li>\n",
       "\n",
       "<li>free: True</li>\n",
       "\n",
       "</ul>\n",
       "\n",
       "</li>\n",
       "\n",
       "<li>upper_bound: \n",
       "<ul>\n",
       "\n",
       "<li>value: 1.0</li>\n",
       "\n",
       "<li>desc: Upper bound for the interval</li>\n",
       "\n",
       "<li>min_value: -inf</li>\n",
       "\n",
       "<li>max_value: inf</li>\n",
       "\n",
       "<li>unit: </li>\n",
       "\n",
       "<li>is_normalization: False</li>\n",
       "\n",
       "<li>delta: 0.1</li>\n",
       "\n",
       "<li>free: True</li>\n",
       "\n",
       "</ul>\n",
       "\n",
       "</li>\n",
       "\n",
       "<li>value: \n",
       "<ul>\n",
       "\n",
       "<li>value: 1.0</li>\n",
       "\n",
       "<li>desc: Value in the interval</li>\n",
       "\n",
       "<li>min_value: None</li>\n",
       "\n",
       "<li>max_value: None</li>\n",
       "\n",
       "<li>unit: </li>\n",
       "\n",
       "<li>is_normalization: False</li>\n",
       "\n",
       "<li>delta: 0.1</li>\n",
       "\n",
       "<li>free: True</li>\n",
       "\n",
       "</ul>\n",
       "\n",
       "</li>\n",
       "\n",
       "</ul>\n",
       "\n",
       "</li>\n",
       "\n",
       "</ul>\n"
      ],
      "text/plain": [
       "  * description: A function which is constant on the interval lower_bound - upper_bound\n",
       "    * and 0 outside the interval. The extremes of the interval are counted as part of\n",
       "    * the interval.\n",
       "  * formula: $ f(x)=\\begin{cases}0 & x < \\text{lower_bound} \\\\\\text{value} & \\text{lower_bound}\n",
       "    * \\le x \\le \\text{upper_bound} \\\\ 0 & x > \\text{upper_bound} \\end{cases}$\n",
       "  * parameters:\n",
       "    * lower_bound:\n",
       "      * value: 0.0\n",
       "      * desc: Lower bound for the interval\n",
       "      * min_value: -.inf\n",
       "      * max_value: .inf\n",
       "      * unit: ''\n",
       "      * is_normalization: false\n",
       "      * delta: 0.1\n",
       "      * free: true\n",
       "    * upper_bound:\n",
       "      * value: 1.0\n",
       "      * desc: Upper bound for the interval\n",
       "      * min_value: -.inf\n",
       "      * max_value: .inf\n",
       "      * unit: ''\n",
       "      * is_normalization: false\n",
       "      * delta: 0.1\n",
       "      * free: true\n",
       "    * value:\n",
       "      * value: 1.0\n",
       "      * desc: Value in the interval\n",
       "      * min_value: null\n",
       "      * max_value: null\n",
       "      * unit: ''\n",
       "      * is_normalization: false\n",
       "      * delta: 0.1\n",
       "      * free: true"
      ]
     },
     "metadata": {},
     "output_type": "display_data"
    }
   ],
   "source": [
    "func.display()"
   ]
  },
  {
   "cell_type": "markdown",
   "id": "2898add4",
   "metadata": {
    "papermill": {
     "duration": 0.006364,
     "end_time": "2022-09-28T03:50:44.619525",
     "exception": false,
     "start_time": "2022-09-28T03:50:44.613161",
     "status": "completed"
    },
    "tags": []
   },
   "source": [
    "## Shape \n",
    "\n",
    "The shape of the function. \n",
    "\n",
    "*If this is not a photon model but a prior or linear function then ignore the units as these docs are auto-generated*"
   ]
  },
  {
   "cell_type": "code",
   "execution_count": 6,
   "id": "4287bc68",
   "metadata": {
    "execution": {
     "iopub.execute_input": "2022-09-28T03:50:44.630942Z",
     "iopub.status.busy": "2022-09-28T03:50:44.630276Z",
     "iopub.status.idle": "2022-09-28T03:50:45.174511Z",
     "shell.execute_reply": "2022-09-28T03:50:45.172343Z"
    },
    "papermill": {
     "duration": 0.554196,
     "end_time": "2022-09-28T03:50:45.178218",
     "exception": false,
     "start_time": "2022-09-28T03:50:44.624022",
     "status": "completed"
    },
    "tags": [
     "nbsphinx-thumbnail"
    ]
   },
   "outputs": [
    {
     "data": {
      "text/plain": [
       "Text(0, 0.5, 'probability')"
      ]
     },
     "execution_count": 6,
     "metadata": {},
     "output_type": "execute_result"
    },
    {
     "data": {
      "image/png": "[encoded data removed]",
      "text/plain": [
       "<Figure size 1040x910 with 1 Axes>"
      ]
     },
     "metadata": {},
     "output_type": "display_data"
    }
   ],
   "source": [
    "fig, ax = plt.subplots()\n",
    "\n",
    "\n",
    "ax.plot(energy_grid, func(energy_grid), color=blue, lw=3)\n",
    "\n",
    "ax.set_xlabel(\"x\")\n",
    "ax.set_ylabel(\"probability\")\n"
   ]
  },
  {
   "cell_type": "markdown",
   "id": "0c3d299a",
   "metadata": {
    "papermill": {
     "duration": 0.005999,
     "end_time": "2022-09-28T03:50:45.190610",
     "exception": false,
     "start_time": "2022-09-28T03:50:45.184611",
     "status": "completed"
    },
    "tags": []
   },
   "source": [
    "## Random Number Generation\n",
    "\n",
    "This is how we can generate random numbers from the prior.\n"
   ]
  },
  {
   "cell_type": "code",
   "execution_count": 7,
   "id": "5710dd69",
   "metadata": {
    "execution": {
     "iopub.execute_input": "2022-09-28T03:50:45.204648Z",
     "iopub.status.busy": "2022-09-28T03:50:45.204102Z",
     "iopub.status.idle": "2022-09-28T03:50:46.201294Z",
     "shell.execute_reply": "2022-09-28T03:50:46.177836Z"
    },
    "papermill": {
     "duration": 1.010996,
     "end_time": "2022-09-28T03:50:46.206700",
     "exception": false,
     "start_time": "2022-09-28T03:50:45.195704",
     "status": "completed"
    },
    "tags": []
   },
   "outputs": [
    {
     "data": {
      "text/plain": [
       "Text(0, 0.5, 'N')"
      ]
     },
     "execution_count": 7,
     "metadata": {},
     "output_type": "execute_result"
    },
    {
     "data": {
      "image/png": "[encoded data removed]",
      "text/plain": [
       "<Figure size 1040x910 with 1 Axes>"
      ]
     },
     "metadata": {},
     "output_type": "display_data"
    }
   ],
   "source": [
    "\n",
    "\n",
    "u = np.random.uniform(0,1, size=5000)\n",
    "\n",
    "draws = [func.from_unit_cube(x) for x in u]\n",
    "\n",
    "\n",
    "fig, ax = plt.subplots()\n",
    "\n",
    "\n",
    "ax.hist(draws, color=green, bins=50)\n",
    "\n",
    "ax.set_xlabel(\"value\")\n",
    "ax.set_ylabel(\"N\")\n",
    "\n"
   ]
  }
 ],
 "metadata": {
  "jupytext": {
   "formats": "ipynb,md"
  },
  "kernelspec": {
   "display_name": "Python 3 (ipykernel)",
   "language": "python",
   "name": "python3"
  },
  "language_info": {
   "codemirror_mode": {
    "name": "ipython",
    "version": 3
   },
   "file_extension": ".py",
   "mimetype": "text/x-python",
   "name": "python",
   "nbconvert_exporter": "python",
   "pygments_lexer": "ipython3",
   "version": "3.9.14"
  },
  "papermill": {
   "default_parameters": {},
   "duration": 9.480261,
   "end_time": "2022-09-28T03:50:47.523700",
   "environment_variables": {},
   "exception": null,
   "input_path": "Uniform_prior.ipynb",
   "output_path": "/Users/runner/work/astromodels/astromodels/docs/notebooks/Uniform_prior.ipynb",
   "parameters": {
    "func_name": "Uniform_prior",
    "positive_prior": false
   },
   "start_time": "2022-09-28T03:50:38.043439",
   "version": "2.4.0"
  }
 },
 "nbformat": 4,
 "nbformat_minor": 5
}
