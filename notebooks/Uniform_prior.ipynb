{
 "cells": [
  {
   "cell_type": "markdown",
   "id": "32b74347",
   "metadata": {
    "papermill": {
     "duration": 0.00458,
     "end_time": "2022-10-05T19:26:45.054256",
     "exception": false,
     "start_time": "2022-10-05T19:26:45.049676",
     "status": "completed"
    },
    "tags": []
   },
   "source": [
    "# Uniform prior"
   ]
  },
  {
   "cell_type": "code",
   "execution_count": 1,
   "id": "a5e1db99",
   "metadata": {
    "execution": {
     "iopub.execute_input": "2022-10-05T19:26:45.096690Z",
     "iopub.status.busy": "2022-10-05T19:26:45.095587Z",
     "iopub.status.idle": "2022-10-05T19:26:51.370634Z",
     "shell.execute_reply": "2022-10-05T19:26:51.369606Z"
    },
    "nbsphinx": "hidden",
    "papermill": {
     "duration": 6.317874,
     "end_time": "2022-10-05T19:26:51.375822",
     "exception": false,
     "start_time": "2022-10-05T19:26:45.057948",
     "status": "completed"
    },
    "tags": []
   },
   "outputs": [],
   "source": [
    "%%capture\n",
    "\n",
    "import numpy as np\n",
    "\n",
    "import matplotlib.pyplot as plt\n",
    "\n",
    "import warnings\n",
    "warnings.simplefilter(\"ignore\")\n",
    "\n",
    "from astromodels.functions.function import _known_functions\n",
    "\n",
    "\n",
    "from jupyterthemes import jtplot\n",
    "jtplot.style(context=\"talk\", fscale=1, ticks=True, grid=False)\n",
    "%matplotlib inline"
   ]
  },
  {
   "cell_type": "code",
   "execution_count": 2,
   "id": "6d2bb0ad",
   "metadata": {
    "execution": {
     "iopub.execute_input": "2022-10-05T19:26:51.388660Z",
     "iopub.status.busy": "2022-10-05T19:26:51.387784Z",
     "iopub.status.idle": "2022-10-05T19:26:51.395142Z",
     "shell.execute_reply": "2022-10-05T19:26:51.393550Z"
    },
    "nbsphinx": "hidden",
    "papermill": {
     "duration": 0.017731,
     "end_time": "2022-10-05T19:26:51.398615",
     "exception": false,
     "start_time": "2022-10-05T19:26:51.380884",
     "status": "completed"
    },
    "tags": [
     "parameters"
    ]
   },
   "outputs": [],
   "source": [
    "func_name = \"TbAbs\"\n",
    "\n",
    "positive_prior = False\n"
   ]
  },
  {
   "cell_type": "code",
   "execution_count": 3,
   "id": "6b894c03",
   "metadata": {
    "execution": {
     "iopub.execute_input": "2022-10-05T19:26:51.407395Z",
     "iopub.status.busy": "2022-10-05T19:26:51.406825Z",
     "iopub.status.idle": "2022-10-05T19:26:51.414422Z",
     "shell.execute_reply": "2022-10-05T19:26:51.412266Z"
    },
    "papermill": {
     "duration": 0.016663,
     "end_time": "2022-10-05T19:26:51.418560",
     "exception": false,
     "start_time": "2022-10-05T19:26:51.401897",
     "status": "completed"
    },
    "tags": [
     "injected-parameters"
    ]
   },
   "outputs": [],
   "source": [
    "# Parameters\n",
    "func_name = \"Uniform_prior\"\n",
    "positive_prior = False\n"
   ]
  },
  {
   "cell_type": "code",
   "execution_count": 4,
   "id": "e0d2af06",
   "metadata": {
    "execution": {
     "iopub.execute_input": "2022-10-05T19:26:51.426503Z",
     "iopub.status.busy": "2022-10-05T19:26:51.426081Z",
     "iopub.status.idle": "2022-10-05T19:26:51.432820Z",
     "shell.execute_reply": "2022-10-05T19:26:51.431836Z"
    },
    "lines_to_next_cell": 0,
    "nbsphinx": "hidden",
    "papermill": {
     "duration": 0.014019,
     "end_time": "2022-10-05T19:26:51.435715",
     "exception": false,
     "start_time": "2022-10-05T19:26:51.421696",
     "status": "completed"
    },
    "tags": []
   },
   "outputs": [],
   "source": [
    "func = _known_functions[func_name]()\n",
    "\n",
    "if not positive_prior:\n",
    "\n",
    "\tenergy_grid = np.linspace(-5,5,1000)\n",
    "\n",
    "else:\n",
    "    \n",
    "    energy_grid = np.linspace(0,1,1000)\n",
    "    \n",
    "    \n",
    "    \n",
    "    \n",
    "blue = \"#4152E3\"\n",
    "red = \"#E3414B\"\n",
    "green = \"#41E39E\""
   ]
  },
  {
   "cell_type": "markdown",
   "id": "8905516c",
   "metadata": {
    "lines_to_next_cell": 0,
    "papermill": {
     "duration": 0.003097,
     "end_time": "2022-10-05T19:26:51.442111",
     "exception": false,
     "start_time": "2022-10-05T19:26:51.439014",
     "status": "completed"
    },
    "tags": []
   },
   "source": [
    "## Description"
   ]
  },
  {
   "cell_type": "code",
   "execution_count": 5,
   "id": "46a73fb8",
   "metadata": {
    "execution": {
     "iopub.execute_input": "2022-10-05T19:26:51.450555Z",
     "iopub.status.busy": "2022-10-05T19:26:51.450126Z",
     "iopub.status.idle": "2022-10-05T19:26:51.464915Z",
     "shell.execute_reply": "2022-10-05T19:26:51.463856Z"
    },
    "papermill": {
     "duration": 0.022251,
     "end_time": "2022-10-05T19:26:51.467836",
     "exception": false,
     "start_time": "2022-10-05T19:26:51.445585",
     "status": "completed"
    },
    "tags": []
   },
   "outputs": [
    {
     "data": {
      "text/html": [
       "<ul>\n",
       "\n",
       "<li>description: A function which is constant on the interval lower_bound - upper_bound and 0 outside the interval. The extremes of the interval are counted as part of the interval.</li>\n",
       "\n",
       "<li>formula: $ f(x)=\\begin{cases}0 & x < \\text{lower_bound} \\\\\\text{value} & \\text{lower_bound} \\le x \\le \\text{upper_bound} \\\\ 0 & x > \\text{upper_bound} \\end{cases}$</li>\n",
       "\n",
       "<li>parameters: \n",
       "<ul>\n",
       "\n",
       "<li>lower_bound: \n",
       "<ul>\n",
       "\n",
       "<li>value: 0.0</li>\n",
       "\n",
       "<li>desc: Lower bound for the interval</li>\n",
       "\n",
       "<li>min_value: -inf</li>\n",
       "\n",
       "<li>max_value: inf</li>\n",
       "\n",
       "<li>unit: </li>\n",
       "\n",
       "<li>is_normalization: False</li>\n",
       "\n",
       "<li>delta: 0.1</li>\n",
       "\n",
       "<li>free: True</li>\n",
       "\n",
       "</ul>\n",
       "\n",
       "</li>\n",
       "\n",
       "<li>upper_bound: \n",
       "<ul>\n",
       "\n",
       "<li>value: 1.0</li>\n",
       "\n",
       "<li>desc: Upper bound for the interval</li>\n",
       "\n",
       "<li>min_value: -inf</li>\n",
       "\n",
       "<li>max_value: inf</li>\n",
       "\n",
       "<li>unit: </li>\n",
       "\n",
       "<li>is_normalization: False</li>\n",
       "\n",
       "<li>delta: 0.1</li>\n",
       "\n",
       "<li>free: True</li>\n",
       "\n",
       "</ul>\n",
       "\n",
       "</li>\n",
       "\n",
       "<li>value: \n",
       "<ul>\n",
       "\n",
       "<li>value: 1.0</li>\n",
       "\n",
       "<li>desc: Value in the interval</li>\n",
       "\n",
       "<li>min_value: None</li>\n",
       "\n",
       "<li>max_value: None</li>\n",
       "\n",
       "<li>unit: </li>\n",
       "\n",
       "<li>is_normalization: False</li>\n",
       "\n",
       "<li>delta: 0.1</li>\n",
       "\n",
       "<li>free: True</li>\n",
       "\n",
       "</ul>\n",
       "\n",
       "</li>\n",
       "\n",
       "</ul>\n",
       "\n",
       "</li>\n",
       "\n",
       "</ul>\n"
      ],
      "text/plain": [
       "  * description: A function which is constant on the interval lower_bound - upper_bound\n",
       "    * and 0 outside the interval. The extremes of the interval are counted as part of\n",
       "    * the interval.\n",
       "  * formula: $ f(x)=\\begin{cases}0 & x < \\text{lower_bound} \\\\\\text{value} & \\text{lower_bound}\n",
       "    * \\le x \\le \\text{upper_bound} \\\\ 0 & x > \\text{upper_bound} \\end{cases}$\n",
       "  * parameters:\n",
       "    * lower_bound:\n",
       "      * value: 0.0\n",
       "      * desc: Lower bound for the interval\n",
       "      * min_value: -.inf\n",
       "      * max_value: .inf\n",
       "      * unit: ''\n",
       "      * is_normalization: false\n",
       "      * delta: 0.1\n",
       "      * free: true\n",
       "    * upper_bound:\n",
       "      * value: 1.0\n",
       "      * desc: Upper bound for the interval\n",
       "      * min_value: -.inf\n",
       "      * max_value: .inf\n",
       "      * unit: ''\n",
       "      * is_normalization: false\n",
       "      * delta: 0.1\n",
       "      * free: true\n",
       "    * value:\n",
       "      * value: 1.0\n",
       "      * desc: Value in the interval\n",
       "      * min_value: null\n",
       "      * max_value: null\n",
       "      * unit: ''\n",
       "      * is_normalization: false\n",
       "      * delta: 0.1\n",
       "      * free: true"
      ]
     },
     "metadata": {},
     "output_type": "display_data"
    }
   ],
   "source": [
    "func.display()"
   ]
  },
  {
   "cell_type": "markdown",
   "id": "be93f1f0",
   "metadata": {
    "papermill": {
     "duration": 0.003437,
     "end_time": "2022-10-05T19:26:51.475247",
     "exception": false,
     "start_time": "2022-10-05T19:26:51.471810",
     "status": "completed"
    },
    "tags": []
   },
   "source": [
    "## Shape \n",
    "\n",
    "The shape of the function. \n",
    "\n",
    "*If this is not a photon model but a prior or linear function then ignore the units as these docs are auto-generated*"
   ]
  },
  {
   "cell_type": "code",
   "execution_count": 6,
   "id": "77a050d1",
   "metadata": {
    "execution": {
     "iopub.execute_input": "2022-10-05T19:26:51.483566Z",
     "iopub.status.busy": "2022-10-05T19:26:51.483161Z",
     "iopub.status.idle": "2022-10-05T19:26:51.756710Z",
     "shell.execute_reply": "2022-10-05T19:26:51.755552Z"
    },
    "papermill": {
     "duration": 0.281435,
     "end_time": "2022-10-05T19:26:51.759884",
     "exception": false,
     "start_time": "2022-10-05T19:26:51.478449",
     "status": "completed"
    },
    "tags": [
     "nbsphinx-thumbnail"
    ]
   },
   "outputs": [
    {
     "data": {
      "text/plain": [
       "Text(0, 0.5, 'probability')"
      ]
     },
     "execution_count": 6,
     "metadata": {},
     "output_type": "execute_result"
    },
    {
     "data": {
      "image/png": "[encoded data removed]",
      "text/plain": [
       "<Figure size 1040x910 with 1 Axes>"
      ]
     },
     "metadata": {},
     "output_type": "display_data"
    }
   ],
   "source": [
    "fig, ax = plt.subplots()\n",
    "\n",
    "\n",
    "ax.plot(energy_grid, func(energy_grid), color=blue, lw=3)\n",
    "\n",
    "ax.set_xlabel(\"x\")\n",
    "ax.set_ylabel(\"probability\")\n"
   ]
  },
  {
   "cell_type": "markdown",
   "id": "6340a500",
   "metadata": {
    "papermill": {
     "duration": 0.011574,
     "end_time": "2022-10-05T19:26:51.775639",
     "exception": false,
     "start_time": "2022-10-05T19:26:51.764065",
     "status": "completed"
    },
    "tags": []
   },
   "source": [
    "## Random Number Generation\n",
    "\n",
    "This is how we can generate random numbers from the prior.\n"
   ]
  },
  {
   "cell_type": "code",
   "execution_count": 7,
   "id": "dbd95163",
   "metadata": {
    "execution": {
     "iopub.execute_input": "2022-10-05T19:26:51.826909Z",
     "iopub.status.busy": "2022-10-05T19:26:51.826498Z",
     "iopub.status.idle": "2022-10-05T19:26:52.410045Z",
     "shell.execute_reply": "2022-10-05T19:26:52.408189Z"
    },
    "papermill": {
     "duration": 0.592894,
     "end_time": "2022-10-05T19:26:52.413819",
     "exception": false,
     "start_time": "2022-10-05T19:26:51.820925",
     "status": "completed"
    },
    "tags": []
   },
   "outputs": [
    {
     "data": {
      "text/plain": [
       "Text(0, 0.5, 'N')"
      ]
     },
     "execution_count": 7,
     "metadata": {},
     "output_type": "execute_result"
    },
    {
     "data": {
      "image/png": "[encoded data removed]",
      "text/plain": [
       "<Figure size 1040x910 with 1 Axes>"
      ]
     },
     "metadata": {},
     "output_type": "display_data"
    }
   ],
   "source": [
    "\n",
    "\n",
    "u = np.random.uniform(0,1, size=5000)\n",
    "\n",
    "draws = [func.from_unit_cube(x) for x in u]\n",
    "\n",
    "\n",
    "fig, ax = plt.subplots()\n",
    "\n",
    "\n",
    "ax.hist(draws, color=green, bins=50)\n",
    "\n",
    "ax.set_xlabel(\"value\")\n",
    "ax.set_ylabel(\"N\")\n",
    "\n"
   ]
  }
 ],
 "metadata": {
  "jupytext": {
   "formats": "ipynb,md"
  },
  "kernelspec": {
   "display_name": "Python 3 (ipykernel)",
   "language": "python",
   "name": "python3"
  },
  "language_info": {
   "codemirror_mode": {
    "name": "ipython",
    "version": 3
   },
   "file_extension": ".py",
   "mimetype": "text/x-python",
   "name": "python",
   "nbconvert_exporter": "python",
   "pygments_lexer": "ipython3",
   "version": "3.9.14"
  },
  "papermill": {
   "default_parameters": {},
   "duration": 9.944761,
   "end_time": "2022-10-05T19:26:53.329104",
   "environment_variables": {},
   "exception": null,
   "input_path": "Uniform_prior.ipynb",
   "output_path": "/Users/runner/work/astromodels/astromodels/docs/notebooks/Uniform_prior.ipynb",
   "parameters": {
    "func_name": "Uniform_prior",
    "positive_prior": false
   },
   "start_time": "2022-10-05T19:26:43.384343",
   "version": "2.4.0"
  }
 },
 "nbformat": 4,
 "nbformat_minor": 5
}
