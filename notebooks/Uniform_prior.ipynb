{
 "cells": [
  {
   "cell_type": "markdown",
   "id": "c52753f0",
   "metadata": {
    "papermill": {
     "duration": 0.004212,
     "end_time": "2022-09-29T17:47:10.645995",
     "exception": false,
     "start_time": "2022-09-29T17:47:10.641783",
     "status": "completed"
    },
    "tags": []
   },
   "source": [
    "# Uniform prior"
   ]
  },
  {
   "cell_type": "code",
   "execution_count": 1,
   "id": "2a20c809",
   "metadata": {
    "execution": {
     "iopub.execute_input": "2022-09-29T17:47:10.654370Z",
     "iopub.status.busy": "2022-09-29T17:47:10.653931Z",
     "iopub.status.idle": "2022-09-29T17:47:14.616416Z",
     "shell.execute_reply": "2022-09-29T17:47:14.615411Z"
    },
    "nbsphinx": "hidden",
    "papermill": {
     "duration": 3.97024,
     "end_time": "2022-09-29T17:47:14.619590",
     "exception": false,
     "start_time": "2022-09-29T17:47:10.649350",
     "status": "completed"
    },
    "tags": []
   },
   "outputs": [],
   "source": [
    "%%capture\n",
    "\n",
    "import numpy as np\n",
    "\n",
    "import matplotlib.pyplot as plt\n",
    "\n",
    "import warnings\n",
    "warnings.simplefilter(\"ignore\")\n",
    "\n",
    "from astromodels.functions.function import _known_functions\n",
    "\n",
    "\n",
    "from jupyterthemes import jtplot\n",
    "jtplot.style(context=\"talk\", fscale=1, ticks=True, grid=False)\n",
    "%matplotlib inline"
   ]
  },
  {
   "cell_type": "code",
   "execution_count": 2,
   "id": "52a8ba97",
   "metadata": {
    "execution": {
     "iopub.execute_input": "2022-09-29T17:47:14.627447Z",
     "iopub.status.busy": "2022-09-29T17:47:14.627096Z",
     "iopub.status.idle": "2022-09-29T17:47:14.636375Z",
     "shell.execute_reply": "2022-09-29T17:47:14.634563Z"
    },
    "nbsphinx": "hidden",
    "papermill": {
     "duration": 0.017943,
     "end_time": "2022-09-29T17:47:14.641257",
     "exception": false,
     "start_time": "2022-09-29T17:47:14.623314",
     "status": "completed"
    },
    "tags": [
     "parameters"
    ]
   },
   "outputs": [],
   "source": [
    "func_name = \"TbAbs\"\n",
    "\n",
    "positive_prior = False\n"
   ]
  },
  {
   "cell_type": "code",
   "execution_count": 3,
   "id": "6539e97b",
   "metadata": {
    "execution": {
     "iopub.execute_input": "2022-09-29T17:47:14.648114Z",
     "iopub.status.busy": "2022-09-29T17:47:14.647784Z",
     "iopub.status.idle": "2022-09-29T17:47:14.655952Z",
     "shell.execute_reply": "2022-09-29T17:47:14.655008Z"
    },
    "papermill": {
     "duration": 0.014743,
     "end_time": "2022-09-29T17:47:14.658619",
     "exception": false,
     "start_time": "2022-09-29T17:47:14.643876",
     "status": "completed"
    },
    "tags": [
     "injected-parameters"
    ]
   },
   "outputs": [],
   "source": [
    "# Parameters\n",
    "func_name = \"Uniform_prior\"\n",
    "positive_prior = False\n"
   ]
  },
  {
   "cell_type": "code",
   "execution_count": 4,
   "id": "b373af12",
   "metadata": {
    "execution": {
     "iopub.execute_input": "2022-09-29T17:47:14.665900Z",
     "iopub.status.busy": "2022-09-29T17:47:14.665202Z",
     "iopub.status.idle": "2022-09-29T17:47:14.674218Z",
     "shell.execute_reply": "2022-09-29T17:47:14.673270Z"
    },
    "lines_to_next_cell": 0,
    "nbsphinx": "hidden",
    "papermill": {
     "duration": 0.015707,
     "end_time": "2022-09-29T17:47:14.677080",
     "exception": false,
     "start_time": "2022-09-29T17:47:14.661373",
     "status": "completed"
    },
    "tags": []
   },
   "outputs": [],
   "source": [
    "func = _known_functions[func_name]()\n",
    "\n",
    "if not positive_prior:\n",
    "\n",
    "\tenergy_grid = np.linspace(-5,5,1000)\n",
    "\n",
    "else:\n",
    "    \n",
    "    energy_grid = np.linspace(0,1,1000)\n",
    "    \n",
    "    \n",
    "    \n",
    "    \n",
    "blue = \"#4152E3\"\n",
    "red = \"#E3414B\"\n",
    "green = \"#41E39E\""
   ]
  },
  {
   "cell_type": "markdown",
   "id": "def4148f",
   "metadata": {
    "lines_to_next_cell": 0,
    "papermill": {
     "duration": 0.002797,
     "end_time": "2022-09-29T17:47:14.682788",
     "exception": false,
     "start_time": "2022-09-29T17:47:14.679991",
     "status": "completed"
    },
    "tags": []
   },
   "source": [
    "## Description"
   ]
  },
  {
   "cell_type": "code",
   "execution_count": 5,
   "id": "0217eb74",
   "metadata": {
    "execution": {
     "iopub.execute_input": "2022-09-29T17:47:14.690458Z",
     "iopub.status.busy": "2022-09-29T17:47:14.690017Z",
     "iopub.status.idle": "2022-09-29T17:47:14.704728Z",
     "shell.execute_reply": "2022-09-29T17:47:14.703646Z"
    },
    "papermill": {
     "duration": 0.021586,
     "end_time": "2022-09-29T17:47:14.707500",
     "exception": false,
     "start_time": "2022-09-29T17:47:14.685914",
     "status": "completed"
    },
    "tags": []
   },
   "outputs": [
    {
     "data": {
      "text/html": [
       "<ul>\n",
       "\n",
       "<li>description: A function which is constant on the interval lower_bound - upper_bound and 0 outside the interval. The extremes of the interval are counted as part of the interval.</li>\n",
       "\n",
       "<li>formula: $ f(x)=\\begin{cases}0 & x < \\text{lower_bound} \\\\\\text{value} & \\text{lower_bound} \\le x \\le \\text{upper_bound} \\\\ 0 & x > \\text{upper_bound} \\end{cases}$</li>\n",
       "\n",
       "<li>parameters: \n",
       "<ul>\n",
       "\n",
       "<li>lower_bound: \n",
       "<ul>\n",
       "\n",
       "<li>value: 0.0</li>\n",
       "\n",
       "<li>desc: Lower bound for the interval</li>\n",
       "\n",
       "<li>min_value: -inf</li>\n",
       "\n",
       "<li>max_value: inf</li>\n",
       "\n",
       "<li>unit: </li>\n",
       "\n",
       "<li>is_normalization: False</li>\n",
       "\n",
       "<li>delta: 0.1</li>\n",
       "\n",
       "<li>free: True</li>\n",
       "\n",
       "</ul>\n",
       "\n",
       "</li>\n",
       "\n",
       "<li>upper_bound: \n",
       "<ul>\n",
       "\n",
       "<li>value: 1.0</li>\n",
       "\n",
       "<li>desc: Upper bound for the interval</li>\n",
       "\n",
       "<li>min_value: -inf</li>\n",
       "\n",
       "<li>max_value: inf</li>\n",
       "\n",
       "<li>unit: </li>\n",
       "\n",
       "<li>is_normalization: False</li>\n",
       "\n",
       "<li>delta: 0.1</li>\n",
       "\n",
       "<li>free: True</li>\n",
       "\n",
       "</ul>\n",
       "\n",
       "</li>\n",
       "\n",
       "<li>value: \n",
       "<ul>\n",
       "\n",
       "<li>value: 1.0</li>\n",
       "\n",
       "<li>desc: Value in the interval</li>\n",
       "\n",
       "<li>min_value: None</li>\n",
       "\n",
       "<li>max_value: None</li>\n",
       "\n",
       "<li>unit: </li>\n",
       "\n",
       "<li>is_normalization: False</li>\n",
       "\n",
       "<li>delta: 0.1</li>\n",
       "\n",
       "<li>free: True</li>\n",
       "\n",
       "</ul>\n",
       "\n",
       "</li>\n",
       "\n",
       "</ul>\n",
       "\n",
       "</li>\n",
       "\n",
       "</ul>\n"
      ],
      "text/plain": [
       "  * description: A function which is constant on the interval lower_bound - upper_bound\n",
       "    * and 0 outside the interval. The extremes of the interval are counted as part of\n",
       "    * the interval.\n",
       "  * formula: $ f(x)=\\begin{cases}0 & x < \\text{lower_bound} \\\\\\text{value} & \\text{lower_bound}\n",
       "    * \\le x \\le \\text{upper_bound} \\\\ 0 & x > \\text{upper_bound} \\end{cases}$\n",
       "  * parameters:\n",
       "    * lower_bound:\n",
       "      * value: 0.0\n",
       "      * desc: Lower bound for the interval\n",
       "      * min_value: -.inf\n",
       "      * max_value: .inf\n",
       "      * unit: ''\n",
       "      * is_normalization: false\n",
       "      * delta: 0.1\n",
       "      * free: true\n",
       "    * upper_bound:\n",
       "      * value: 1.0\n",
       "      * desc: Upper bound for the interval\n",
       "      * min_value: -.inf\n",
       "      * max_value: .inf\n",
       "      * unit: ''\n",
       "      * is_normalization: false\n",
       "      * delta: 0.1\n",
       "      * free: true\n",
       "    * value:\n",
       "      * value: 1.0\n",
       "      * desc: Value in the interval\n",
       "      * min_value: null\n",
       "      * max_value: null\n",
       "      * unit: ''\n",
       "      * is_normalization: false\n",
       "      * delta: 0.1\n",
       "      * free: true"
      ]
     },
     "metadata": {},
     "output_type": "display_data"
    }
   ],
   "source": [
    "func.display()"
   ]
  },
  {
   "cell_type": "markdown",
   "id": "0e562263",
   "metadata": {
    "papermill": {
     "duration": 0.003141,
     "end_time": "2022-09-29T17:47:14.714948",
     "exception": false,
     "start_time": "2022-09-29T17:47:14.711807",
     "status": "completed"
    },
    "tags": []
   },
   "source": [
    "## Shape \n",
    "\n",
    "The shape of the function. \n",
    "\n",
    "*If this is not a photon model but a prior or linear function then ignore the units as these docs are auto-generated*"
   ]
  },
  {
   "cell_type": "code",
   "execution_count": 6,
   "id": "7ce41a7a",
   "metadata": {
    "execution": {
     "iopub.execute_input": "2022-09-29T17:47:14.723218Z",
     "iopub.status.busy": "2022-09-29T17:47:14.722402Z",
     "iopub.status.idle": "2022-09-29T17:47:15.096220Z",
     "shell.execute_reply": "2022-09-29T17:47:15.094807Z"
    },
    "papermill": {
     "duration": 0.381905,
     "end_time": "2022-09-29T17:47:15.099831",
     "exception": false,
     "start_time": "2022-09-29T17:47:14.717926",
     "status": "completed"
    },
    "tags": [
     "nbsphinx-thumbnail"
    ]
   },
   "outputs": [
    {
     "data": {
      "text/plain": [
       "Text(0, 0.5, 'probability')"
      ]
     },
     "execution_count": 6,
     "metadata": {},
     "output_type": "execute_result"
    },
    {
     "data": {
      "image/png": "[encoded data removed]",
      "text/plain": [
       "<Figure size 1040x910 with 1 Axes>"
      ]
     },
     "metadata": {},
     "output_type": "display_data"
    }
   ],
   "source": [
    "fig, ax = plt.subplots()\n",
    "\n",
    "\n",
    "ax.plot(energy_grid, func(energy_grid), color=blue, lw=3)\n",
    "\n",
    "ax.set_xlabel(\"x\")\n",
    "ax.set_ylabel(\"probability\")\n"
   ]
  },
  {
   "cell_type": "markdown",
   "id": "3f5ab9e3",
   "metadata": {
    "papermill": {
     "duration": 0.004356,
     "end_time": "2022-09-29T17:47:15.109016",
     "exception": false,
     "start_time": "2022-09-29T17:47:15.104660",
     "status": "completed"
    },
    "tags": []
   },
   "source": [
    "## Random Number Generation\n",
    "\n",
    "This is how we can generate random numbers from the prior.\n"
   ]
  },
  {
   "cell_type": "code",
   "execution_count": 7,
   "id": "4e4e1223",
   "metadata": {
    "execution": {
     "iopub.execute_input": "2022-09-29T17:47:15.133703Z",
     "iopub.status.busy": "2022-09-29T17:47:15.133275Z",
     "iopub.status.idle": "2022-09-29T17:47:15.530213Z",
     "shell.execute_reply": "2022-09-29T17:47:15.529143Z"
    },
    "papermill": {
     "duration": 0.420871,
     "end_time": "2022-09-29T17:47:15.533520",
     "exception": false,
     "start_time": "2022-09-29T17:47:15.112649",
     "status": "completed"
    },
    "tags": []
   },
   "outputs": [
    {
     "data": {
      "text/plain": [
       "Text(0, 0.5, 'N')"
      ]
     },
     "execution_count": 7,
     "metadata": {},
     "output_type": "execute_result"
    },
    {
     "data": {
      "image/png": "[encoded data removed]",
      "text/plain": [
       "<Figure size 1040x910 with 1 Axes>"
      ]
     },
     "metadata": {},
     "output_type": "display_data"
    }
   ],
   "source": [
    "\n",
    "\n",
    "u = np.random.uniform(0,1, size=5000)\n",
    "\n",
    "draws = [func.from_unit_cube(x) for x in u]\n",
    "\n",
    "\n",
    "fig, ax = plt.subplots()\n",
    "\n",
    "\n",
    "ax.hist(draws, color=green, bins=50)\n",
    "\n",
    "ax.set_xlabel(\"value\")\n",
    "ax.set_ylabel(\"N\")\n",
    "\n"
   ]
  }
 ],
 "metadata": {
  "jupytext": {
   "formats": "ipynb,md"
  },
  "kernelspec": {
   "display_name": "Python 3 (ipykernel)",
   "language": "python",
   "name": "python3"
  },
  "language_info": {
   "codemirror_mode": {
    "name": "ipython",
    "version": 3
   },
   "file_extension": ".py",
   "mimetype": "text/x-python",
   "name": "python",
   "nbconvert_exporter": "python",
   "pygments_lexer": "ipython3",
   "version": "3.9.14"
  },
  "papermill": {
   "default_parameters": {},
   "duration": 7.22534,
   "end_time": "2022-09-29T17:47:16.386601",
   "environment_variables": {},
   "exception": null,
   "input_path": "Uniform_prior.ipynb",
   "output_path": "/Users/runner/work/astromodels/astromodels/docs/notebooks/Uniform_prior.ipynb",
   "parameters": {
    "func_name": "Uniform_prior",
    "positive_prior": false
   },
   "start_time": "2022-09-29T17:47:09.161261",
   "version": "2.4.0"
  }
 },
 "nbformat": 4,
 "nbformat_minor": 5
}
