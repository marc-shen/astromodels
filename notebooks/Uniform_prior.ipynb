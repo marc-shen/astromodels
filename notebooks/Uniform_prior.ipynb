{
 "cells": [
  {
   "cell_type": "markdown",
   "id": "04b75ab4",
   "metadata": {
    "papermill": {
     "duration": 0.004861,
     "end_time": "2024-02-02T23:42:32.150490",
     "exception": false,
     "start_time": "2024-02-02T23:42:32.145629",
     "status": "completed"
    },
    "tags": []
   },
   "source": [
    "# Uniform prior"
   ]
  },
  {
   "cell_type": "code",
   "execution_count": 1,
   "id": "03cf551b",
   "metadata": {
    "execution": {
     "iopub.execute_input": "2024-02-02T23:42:32.158563Z",
     "iopub.status.busy": "2024-02-02T23:42:32.158013Z",
     "iopub.status.idle": "2024-02-02T23:42:34.689913Z",
     "shell.execute_reply": "2024-02-02T23:42:34.688239Z"
    },
    "nbsphinx": "hidden",
    "papermill": {
     "duration": 2.540902,
     "end_time": "2024-02-02T23:42:34.694261",
     "exception": false,
     "start_time": "2024-02-02T23:42:32.153359",
     "status": "completed"
    },
    "tags": []
   },
   "outputs": [],
   "source": [
    "%%capture\n",
    "\n",
    "import numpy as np\n",
    "\n",
    "import matplotlib.pyplot as plt\n",
    "\n",
    "import warnings\n",
    "warnings.simplefilter(\"ignore\")\n",
    "\n",
    "from astromodels.functions.function import _known_functions\n",
    "\n",
    "\n",
    "from jupyterthemes import jtplot\n",
    "jtplot.style(context=\"talk\", fscale=1, ticks=True, grid=False)\n",
    "%matplotlib inline"
   ]
  },
  {
   "cell_type": "code",
   "execution_count": 2,
   "id": "417deb63",
   "metadata": {
    "execution": {
     "iopub.execute_input": "2024-02-02T23:42:34.701929Z",
     "iopub.status.busy": "2024-02-02T23:42:34.701260Z",
     "iopub.status.idle": "2024-02-02T23:42:34.707332Z",
     "shell.execute_reply": "2024-02-02T23:42:34.706031Z"
    },
    "nbsphinx": "hidden",
    "papermill": {
     "duration": 0.014264,
     "end_time": "2024-02-02T23:42:34.711133",
     "exception": false,
     "start_time": "2024-02-02T23:42:34.696869",
     "status": "completed"
    },
    "tags": [
     "parameters"
    ]
   },
   "outputs": [],
   "source": [
    "func_name = \"TbAbs\"\n",
    "\n",
    "positive_prior = False\n"
   ]
  },
  {
   "cell_type": "code",
   "execution_count": 3,
   "id": "03de64e9",
   "metadata": {
    "execution": {
     "iopub.execute_input": "2024-02-02T23:42:34.717765Z",
     "iopub.status.busy": "2024-02-02T23:42:34.717422Z",
     "iopub.status.idle": "2024-02-02T23:42:34.722407Z",
     "shell.execute_reply": "2024-02-02T23:42:34.721315Z"
    },
    "papermill": {
     "duration": 0.012403,
     "end_time": "2024-02-02T23:42:34.726029",
     "exception": false,
     "start_time": "2024-02-02T23:42:34.713626",
     "status": "completed"
    },
    "tags": [
     "injected-parameters"
    ]
   },
   "outputs": [],
   "source": [
    "# Parameters\n",
    "func_name = \"Uniform_prior\"\n",
    "positive_prior = False\n"
   ]
  },
  {
   "cell_type": "code",
   "execution_count": 4,
   "id": "cd4ce269",
   "metadata": {
    "execution": {
     "iopub.execute_input": "2024-02-02T23:42:34.732382Z",
     "iopub.status.busy": "2024-02-02T23:42:34.732053Z",
     "iopub.status.idle": "2024-02-02T23:42:34.739548Z",
     "shell.execute_reply": "2024-02-02T23:42:34.738310Z"
    },
    "lines_to_next_cell": 0,
    "nbsphinx": "hidden",
    "papermill": {
     "duration": 0.014838,
     "end_time": "2024-02-02T23:42:34.743295",
     "exception": false,
     "start_time": "2024-02-02T23:42:34.728457",
     "status": "completed"
    },
    "tags": []
   },
   "outputs": [],
   "source": [
    "func = _known_functions[func_name]()\n",
    "\n",
    "if not positive_prior:\n",
    "\n",
    "\tenergy_grid = np.linspace(-5,5,1000)\n",
    "\n",
    "else:\n",
    "    \n",
    "    energy_grid = np.linspace(0,1,1000)\n",
    "    \n",
    "    \n",
    "    \n",
    "    \n",
    "blue = \"#4152E3\"\n",
    "red = \"#E3414B\"\n",
    "green = \"#41E39E\""
   ]
  },
  {
   "cell_type": "markdown",
   "id": "3fb9dd0b",
   "metadata": {
    "lines_to_next_cell": 0,
    "papermill": {
     "duration": 0.003765,
     "end_time": "2024-02-02T23:42:34.749671",
     "exception": false,
     "start_time": "2024-02-02T23:42:34.745906",
     "status": "completed"
    },
    "tags": []
   },
   "source": [
    "## Description"
   ]
  },
  {
   "cell_type": "code",
   "execution_count": 5,
   "id": "cd4f9e56",
   "metadata": {
    "execution": {
     "iopub.execute_input": "2024-02-02T23:42:34.759095Z",
     "iopub.status.busy": "2024-02-02T23:42:34.758624Z",
     "iopub.status.idle": "2024-02-02T23:42:34.770175Z",
     "shell.execute_reply": "2024-02-02T23:42:34.768704Z"
    },
    "papermill": {
     "duration": 0.021078,
     "end_time": "2024-02-02T23:42:34.774315",
     "exception": false,
     "start_time": "2024-02-02T23:42:34.753237",
     "status": "completed"
    },
    "tags": []
   },
   "outputs": [
    {
     "data": {
      "text/html": [
       "<ul>\n",
       "\n",
       "<li>description: A function which is constant on the interval lower_bound - upper_bound and 0 outside the interval. The extremes of the interval are counted as part of the interval.</li>\n",
       "\n",
       "<li>formula: $ f(x)=\\begin{cases}0 & x < \\text{lower_bound} \\\\\\text{value} & \\text{lower_bound} \\le x \\le \\text{upper_bound} \\\\ 0 & x > \\text{upper_bound} \\end{cases}$</li>\n",
       "\n",
       "<li>parameters: \n",
       "<ul>\n",
       "\n",
       "<li>lower_bound: \n",
       "<ul>\n",
       "\n",
       "<li>value: 0.0</li>\n",
       "\n",
       "<li>desc: Lower bound for the interval</li>\n",
       "\n",
       "<li>min_value: -inf</li>\n",
       "\n",
       "<li>max_value: inf</li>\n",
       "\n",
       "<li>unit: </li>\n",
       "\n",
       "<li>is_normalization: False</li>\n",
       "\n",
       "<li>delta: 0.1</li>\n",
       "\n",
       "<li>free: True</li>\n",
       "\n",
       "</ul>\n",
       "\n",
       "</li>\n",
       "\n",
       "<li>upper_bound: \n",
       "<ul>\n",
       "\n",
       "<li>value: 1.0</li>\n",
       "\n",
       "<li>desc: Upper bound for the interval</li>\n",
       "\n",
       "<li>min_value: -inf</li>\n",
       "\n",
       "<li>max_value: inf</li>\n",
       "\n",
       "<li>unit: </li>\n",
       "\n",
       "<li>is_normalization: False</li>\n",
       "\n",
       "<li>delta: 0.1</li>\n",
       "\n",
       "<li>free: True</li>\n",
       "\n",
       "</ul>\n",
       "\n",
       "</li>\n",
       "\n",
       "<li>value: \n",
       "<ul>\n",
       "\n",
       "<li>value: 1.0</li>\n",
       "\n",
       "<li>desc: Value in the interval</li>\n",
       "\n",
       "<li>min_value: None</li>\n",
       "\n",
       "<li>max_value: None</li>\n",
       "\n",
       "<li>unit: </li>\n",
       "\n",
       "<li>is_normalization: False</li>\n",
       "\n",
       "<li>delta: 0.1</li>\n",
       "\n",
       "<li>free: True</li>\n",
       "\n",
       "</ul>\n",
       "\n",
       "</li>\n",
       "\n",
       "</ul>\n",
       "\n",
       "</li>\n",
       "\n",
       "</ul>\n"
      ],
      "text/plain": [
       "  * description: A function which is constant on the interval lower_bound - upper_bound\n",
       "    * and 0 outside the interval. The extremes of the interval are counted as part of\n",
       "    * the interval.\n",
       "  * formula: $ f(x)=\\begin{cases}0 & x < \\text{lower_bound} \\\\\\text{value} & \\text{lower_bound}\n",
       "    * \\le x \\le \\text{upper_bound} \\\\ 0 & x > \\text{upper_bound} \\end{cases}$\n",
       "  * parameters:\n",
       "    * lower_bound:\n",
       "      * value: 0.0\n",
       "      * desc: Lower bound for the interval\n",
       "      * min_value: -.inf\n",
       "      * max_value: .inf\n",
       "      * unit: ''\n",
       "      * is_normalization: false\n",
       "      * delta: 0.1\n",
       "      * free: true\n",
       "    * upper_bound:\n",
       "      * value: 1.0\n",
       "      * desc: Upper bound for the interval\n",
       "      * min_value: -.inf\n",
       "      * max_value: .inf\n",
       "      * unit: ''\n",
       "      * is_normalization: false\n",
       "      * delta: 0.1\n",
       "      * free: true\n",
       "    * value:\n",
       "      * value: 1.0\n",
       "      * desc: Value in the interval\n",
       "      * min_value: null\n",
       "      * max_value: null\n",
       "      * unit: ''\n",
       "      * is_normalization: false\n",
       "      * delta: 0.1\n",
       "      * free: true"
      ]
     },
     "metadata": {},
     "output_type": "display_data"
    }
   ],
   "source": [
    "func.display()"
   ]
  },
  {
   "cell_type": "markdown",
   "id": "08e89377",
   "metadata": {
    "papermill": {
     "duration": 0.002649,
     "end_time": "2024-02-02T23:42:34.779733",
     "exception": false,
     "start_time": "2024-02-02T23:42:34.777084",
     "status": "completed"
    },
    "tags": []
   },
   "source": [
    "## Shape \n",
    "\n",
    "The shape of the function. \n",
    "\n",
    "*If this is not a photon model but a prior or linear function then ignore the units as these docs are auto-generated*"
   ]
  },
  {
   "cell_type": "code",
   "execution_count": 6,
   "id": "155e845d",
   "metadata": {
    "execution": {
     "iopub.execute_input": "2024-02-02T23:42:34.789094Z",
     "iopub.status.busy": "2024-02-02T23:42:34.788584Z",
     "iopub.status.idle": "2024-02-02T23:42:34.991702Z",
     "shell.execute_reply": "2024-02-02T23:42:34.988369Z"
    },
    "papermill": {
     "duration": 0.212686,
     "end_time": "2024-02-02T23:42:34.995576",
     "exception": false,
     "start_time": "2024-02-02T23:42:34.782890",
     "status": "completed"
    },
    "tags": [
     "nbsphinx-thumbnail"
    ]
   },
   "outputs": [
    {
     "data": {
      "text/plain": [
       "Text(0, 0.5, 'probability')"
      ]
     },
     "execution_count": 6,
     "metadata": {},
     "output_type": "execute_result"
    },
    {
     "data": {
      "image/png": "[encoded data removed]",
      "text/plain": [
       "<Figure size 1040x910 with 1 Axes>"
      ]
     },
     "metadata": {},
     "output_type": "display_data"
    }
   ],
   "source": [
    "fig, ax = plt.subplots()\n",
    "\n",
    "\n",
    "ax.plot(energy_grid, func(energy_grid), color=blue, lw=3)\n",
    "\n",
    "ax.set_xlabel(\"x\")\n",
    "ax.set_ylabel(\"probability\")\n"
   ]
  },
  {
   "cell_type": "markdown",
   "id": "1999ef32",
   "metadata": {
    "papermill": {
     "duration": 0.002959,
     "end_time": "2024-02-02T23:42:35.001739",
     "exception": false,
     "start_time": "2024-02-02T23:42:34.998780",
     "status": "completed"
    },
    "tags": []
   },
   "source": [
    "## Random Number Generation\n",
    "\n",
    "This is how we can generate random numbers from the prior.\n"
   ]
  },
  {
   "cell_type": "code",
   "execution_count": 7,
   "id": "a9ffb77b",
   "metadata": {
    "execution": {
     "iopub.execute_input": "2024-02-02T23:42:35.009059Z",
     "iopub.status.busy": "2024-02-02T23:42:35.008667Z",
     "iopub.status.idle": "2024-02-02T23:42:35.276958Z",
     "shell.execute_reply": "2024-02-02T23:42:35.274186Z"
    },
    "papermill": {
     "duration": 0.27636,
     "end_time": "2024-02-02T23:42:35.280895",
     "exception": false,
     "start_time": "2024-02-02T23:42:35.004535",
     "status": "completed"
    },
    "tags": []
   },
   "outputs": [
    {
     "data": {
      "text/plain": [
       "Text(0, 0.5, 'N')"
      ]
     },
     "execution_count": 7,
     "metadata": {},
     "output_type": "execute_result"
    },
    {
     "data": {
      "image/png": "[encoded data removed]",
      "text/plain": [
       "<Figure size 1040x910 with 1 Axes>"
      ]
     },
     "metadata": {},
     "output_type": "display_data"
    }
   ],
   "source": [
    "\n",
    "\n",
    "u = np.random.uniform(0,1, size=5000)\n",
    "\n",
    "draws = [func.from_unit_cube(x) for x in u]\n",
    "\n",
    "\n",
    "fig, ax = plt.subplots()\n",
    "\n",
    "\n",
    "ax.hist(draws, color=green, bins=50)\n",
    "\n",
    "ax.set_xlabel(\"value\")\n",
    "ax.set_ylabel(\"N\")\n",
    "\n"
   ]
  }
 ],
 "metadata": {
  "jupytext": {
   "formats": "ipynb,md"
  },
  "kernelspec": {
   "display_name": "Python 3 (ipykernel)",
   "language": "python",
   "name": "python3"
  },
  "language_info": {
   "codemirror_mode": {
    "name": "ipython",
    "version": 3
   },
   "file_extension": ".py",
   "mimetype": "text/x-python",
   "name": "python",
   "nbconvert_exporter": "python",
   "pygments_lexer": "ipython3",
   "version": "3.9.18"
  },
  "papermill": {
   "default_parameters": {},
   "duration": 4.708739,
   "end_time": "2024-02-02T23:42:35.820296",
   "environment_variables": {},
   "exception": null,
   "input_path": "Uniform_prior.ipynb",
   "output_path": "/Users/runner/work/astromodels/astromodels/docs/notebooks/Uniform_prior.ipynb",
   "parameters": {
    "func_name": "Uniform_prior",
    "positive_prior": false
   },
   "start_time": "2024-02-02T23:42:31.111557",
   "version": "2.5.0"
  }
 },
 "nbformat": 4,
 "nbformat_minor": 5
}
