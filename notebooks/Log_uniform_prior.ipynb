{
 "cells": [
  {
   "cell_type": "markdown",
   "id": "ea1ec7f8",
   "metadata": {
    "papermill": {
     "duration": 0.005113,
     "end_time": "2022-09-28T05:16:08.800541",
     "exception": false,
     "start_time": "2022-09-28T05:16:08.795428",
     "status": "completed"
    },
    "tags": []
   },
   "source": [
    "# Log uniform prior"
   ]
  },
  {
   "cell_type": "code",
   "execution_count": 1,
   "id": "40bd207f",
   "metadata": {
    "execution": {
     "iopub.execute_input": "2022-09-28T05:16:08.809446Z",
     "iopub.status.busy": "2022-09-28T05:16:08.808987Z",
     "iopub.status.idle": "2022-09-28T05:16:13.432725Z",
     "shell.execute_reply": "2022-09-28T05:16:13.431410Z"
    },
    "nbsphinx": "hidden",
    "papermill": {
     "duration": 4.632378,
     "end_time": "2022-09-28T05:16:13.436575",
     "exception": false,
     "start_time": "2022-09-28T05:16:08.804197",
     "status": "completed"
    },
    "tags": []
   },
   "outputs": [],
   "source": [
    "%%capture\n",
    "\n",
    "import numpy as np\n",
    "\n",
    "import matplotlib.pyplot as plt\n",
    "\n",
    "import warnings\n",
    "warnings.simplefilter(\"ignore\")\n",
    "\n",
    "from astromodels.functions.function import _known_functions\n",
    "\n",
    "\n",
    "from jupyterthemes import jtplot\n",
    "jtplot.style(context=\"talk\", fscale=1, ticks=True, grid=False)\n",
    "%matplotlib inline"
   ]
  },
  {
   "cell_type": "code",
   "execution_count": 2,
   "id": "b5c1c248",
   "metadata": {
    "execution": {
     "iopub.execute_input": "2022-09-28T05:16:13.446122Z",
     "iopub.status.busy": "2022-09-28T05:16:13.445598Z",
     "iopub.status.idle": "2022-09-28T05:16:13.454161Z",
     "shell.execute_reply": "2022-09-28T05:16:13.452380Z"
    },
    "nbsphinx": "hidden",
    "papermill": {
     "duration": 0.017032,
     "end_time": "2022-09-28T05:16:13.457840",
     "exception": false,
     "start_time": "2022-09-28T05:16:13.440808",
     "status": "completed"
    },
    "tags": [
     "parameters"
    ]
   },
   "outputs": [],
   "source": [
    "func_name = \"TbAbs\"\n",
    "\n",
    "positive_prior = False\n"
   ]
  },
  {
   "cell_type": "code",
   "execution_count": 3,
   "id": "bef7b503",
   "metadata": {
    "execution": {
     "iopub.execute_input": "2022-09-28T05:16:13.466600Z",
     "iopub.status.busy": "2022-09-28T05:16:13.466098Z",
     "iopub.status.idle": "2022-09-28T05:16:13.474036Z",
     "shell.execute_reply": "2022-09-28T05:16:13.472790Z"
    },
    "papermill": {
     "duration": 0.016645,
     "end_time": "2022-09-28T05:16:13.477614",
     "exception": false,
     "start_time": "2022-09-28T05:16:13.460969",
     "status": "completed"
    },
    "tags": [
     "injected-parameters"
    ]
   },
   "outputs": [],
   "source": [
    "# Parameters\n",
    "func_name = \"Log_uniform_prior\"\n",
    "positive_prior = True\n"
   ]
  },
  {
   "cell_type": "code",
   "execution_count": 4,
   "id": "0902a5c4",
   "metadata": {
    "execution": {
     "iopub.execute_input": "2022-09-28T05:16:13.486067Z",
     "iopub.status.busy": "2022-09-28T05:16:13.485637Z",
     "iopub.status.idle": "2022-09-28T05:16:13.498365Z",
     "shell.execute_reply": "2022-09-28T05:16:13.496754Z"
    },
    "lines_to_next_cell": 0,
    "nbsphinx": "hidden",
    "papermill": {
     "duration": 0.021348,
     "end_time": "2022-09-28T05:16:13.502063",
     "exception": false,
     "start_time": "2022-09-28T05:16:13.480715",
     "status": "completed"
    },
    "tags": []
   },
   "outputs": [],
   "source": [
    "func = _known_functions[func_name]()\n",
    "\n",
    "if not positive_prior:\n",
    "\n",
    "\tenergy_grid = np.linspace(-5,5,1000)\n",
    "\n",
    "else:\n",
    "    \n",
    "    energy_grid = np.linspace(0,1,1000)\n",
    "    \n",
    "    \n",
    "    \n",
    "    \n",
    "blue = \"#4152E3\"\n",
    "red = \"#E3414B\"\n",
    "green = \"#41E39E\""
   ]
  },
  {
   "cell_type": "markdown",
   "id": "b00537d4",
   "metadata": {
    "lines_to_next_cell": 0,
    "papermill": {
     "duration": 0.003354,
     "end_time": "2022-09-28T05:16:13.508718",
     "exception": false,
     "start_time": "2022-09-28T05:16:13.505364",
     "status": "completed"
    },
    "tags": []
   },
   "source": [
    "## Description"
   ]
  },
  {
   "cell_type": "code",
   "execution_count": 5,
   "id": "dad7511f",
   "metadata": {
    "execution": {
     "iopub.execute_input": "2022-09-28T05:16:13.518056Z",
     "iopub.status.busy": "2022-09-28T05:16:13.517569Z",
     "iopub.status.idle": "2022-09-28T05:16:13.531886Z",
     "shell.execute_reply": "2022-09-28T05:16:13.530731Z"
    },
    "papermill": {
     "duration": 0.022706,
     "end_time": "2022-09-28T05:16:13.535182",
     "exception": false,
     "start_time": "2022-09-28T05:16:13.512476",
     "status": "completed"
    },
    "tags": []
   },
   "outputs": [
    {
     "data": {
      "text/html": [
       "<ul>\n",
       "\n",
       "<li>description: A function which is K/x on the interval lower_bound - upper_bound and 0 outside the interval. The extremes of the interval are NOT counted as part of the interval. Lower_bound must be >= 0.</li>\n",
       "\n",
       "<li>formula: $ f(x)=K~\\begin{cases}0 & x \\le \\text{lower_bound} \\\\\\frac{1}{x} & \\text{lower_bound} < x < \\text{upper_bound} \\\\ 0 & x \\ge \\text{upper_bound} \\end{cases}$</li>\n",
       "\n",
       "<li>parameters: \n",
       "<ul>\n",
       "\n",
       "<li>lower_bound: \n",
       "<ul>\n",
       "\n",
       "<li>value: 1e-20</li>\n",
       "\n",
       "<li>desc: Lower bound for the interval</li>\n",
       "\n",
       "<li>min_value: 1e-30</li>\n",
       "\n",
       "<li>max_value: inf</li>\n",
       "\n",
       "<li>unit: </li>\n",
       "\n",
       "<li>is_normalization: False</li>\n",
       "\n",
       "<li>delta: 1e-21</li>\n",
       "\n",
       "<li>free: True</li>\n",
       "\n",
       "</ul>\n",
       "\n",
       "</li>\n",
       "\n",
       "<li>upper_bound: \n",
       "<ul>\n",
       "\n",
       "<li>value: 100.0</li>\n",
       "\n",
       "<li>desc: Upper bound for the interval</li>\n",
       "\n",
       "<li>min_value: 1e-30</li>\n",
       "\n",
       "<li>max_value: inf</li>\n",
       "\n",
       "<li>unit: </li>\n",
       "\n",
       "<li>is_normalization: False</li>\n",
       "\n",
       "<li>delta: 10.0</li>\n",
       "\n",
       "<li>free: True</li>\n",
       "\n",
       "</ul>\n",
       "\n",
       "</li>\n",
       "\n",
       "<li>K: \n",
       "<ul>\n",
       "\n",
       "<li>value: 1.0</li>\n",
       "\n",
       "<li>desc: Normalization</li>\n",
       "\n",
       "<li>min_value: None</li>\n",
       "\n",
       "<li>max_value: None</li>\n",
       "\n",
       "<li>unit: </li>\n",
       "\n",
       "<li>is_normalization: False</li>\n",
       "\n",
       "<li>delta: 0.1</li>\n",
       "\n",
       "<li>free: False</li>\n",
       "\n",
       "</ul>\n",
       "\n",
       "</li>\n",
       "\n",
       "</ul>\n",
       "\n",
       "</li>\n",
       "\n",
       "</ul>\n"
      ],
      "text/plain": [
       "  * description: A function which is K/x on the interval lower_bound - upper_bound and\n",
       "    * 0 outside the interval. The extremes of the interval are NOT counted as part of\n",
       "    * the interval. Lower_bound must be >= 0.\n",
       "  * formula: $ f(x)=K~\\begin{cases}0 & x \\le \\text{lower_bound} \\\\\\frac{1}{x} & \\text{lower_bound}\n",
       "    * < x < \\text{upper_bound} \\\\ 0 & x \\ge \\text{upper_bound} \\end{cases}$\n",
       "  * parameters:\n",
       "    * lower_bound:\n",
       "      * value: 1.0e-20\n",
       "      * desc: Lower bound for the interval\n",
       "      * min_value: 1.0e-30\n",
       "      * max_value: .inf\n",
       "      * unit: ''\n",
       "      * is_normalization: false\n",
       "      * delta: 1.0e-21\n",
       "      * free: true\n",
       "    * upper_bound:\n",
       "      * value: 100.0\n",
       "      * desc: Upper bound for the interval\n",
       "      * min_value: 1.0e-30\n",
       "      * max_value: .inf\n",
       "      * unit: ''\n",
       "      * is_normalization: false\n",
       "      * delta: 10.0\n",
       "      * free: true\n",
       "    * K:\n",
       "      * value: 1.0\n",
       "      * desc: Normalization\n",
       "      * min_value: null\n",
       "      * max_value: null\n",
       "      * unit: ''\n",
       "      * is_normalization: false\n",
       "      * delta: 0.1\n",
       "      * free: false"
      ]
     },
     "metadata": {},
     "output_type": "display_data"
    }
   ],
   "source": [
    "func.display()"
   ]
  },
  {
   "cell_type": "markdown",
   "id": "117f4007",
   "metadata": {
    "papermill": {
     "duration": 0.003701,
     "end_time": "2022-09-28T05:16:13.542598",
     "exception": false,
     "start_time": "2022-09-28T05:16:13.538897",
     "status": "completed"
    },
    "tags": []
   },
   "source": [
    "## Shape \n",
    "\n",
    "The shape of the function. \n",
    "\n",
    "*If this is not a photon model but a prior or linear function then ignore the units as these docs are auto-generated*"
   ]
  },
  {
   "cell_type": "code",
   "execution_count": 6,
   "id": "6cd5b293",
   "metadata": {
    "execution": {
     "iopub.execute_input": "2022-09-28T05:16:13.552622Z",
     "iopub.status.busy": "2022-09-28T05:16:13.552139Z",
     "iopub.status.idle": "2022-09-28T05:16:14.005497Z",
     "shell.execute_reply": "2022-09-28T05:16:14.003803Z"
    },
    "papermill": {
     "duration": 0.463601,
     "end_time": "2022-09-28T05:16:14.009897",
     "exception": false,
     "start_time": "2022-09-28T05:16:13.546296",
     "status": "completed"
    },
    "tags": [
     "nbsphinx-thumbnail"
    ]
   },
   "outputs": [
    {
     "data": {
      "text/plain": [
       "Text(0, 0.5, 'probability')"
      ]
     },
     "execution_count": 6,
     "metadata": {},
     "output_type": "execute_result"
    },
    {
     "data": {
      "image/png": "[encoded data removed]",
      "text/plain": [
       "<Figure size 1040x910 with 1 Axes>"
      ]
     },
     "metadata": {},
     "output_type": "display_data"
    }
   ],
   "source": [
    "fig, ax = plt.subplots()\n",
    "\n",
    "\n",
    "ax.plot(energy_grid, func(energy_grid), color=blue, lw=3)\n",
    "\n",
    "ax.set_xlabel(\"x\")\n",
    "ax.set_ylabel(\"probability\")\n"
   ]
  },
  {
   "cell_type": "markdown",
   "id": "fe99ba2a",
   "metadata": {
    "papermill": {
     "duration": 0.004382,
     "end_time": "2022-09-28T05:16:14.018247",
     "exception": false,
     "start_time": "2022-09-28T05:16:14.013865",
     "status": "completed"
    },
    "tags": []
   },
   "source": [
    "## Random Number Generation\n",
    "\n",
    "This is how we can generate random numbers from the prior.\n"
   ]
  },
  {
   "cell_type": "code",
   "execution_count": 7,
   "id": "79802533",
   "metadata": {
    "execution": {
     "iopub.execute_input": "2022-09-28T05:16:14.029738Z",
     "iopub.status.busy": "2022-09-28T05:16:14.029201Z",
     "iopub.status.idle": "2022-09-28T05:16:14.506336Z",
     "shell.execute_reply": "2022-09-28T05:16:14.505099Z"
    },
    "papermill": {
     "duration": 0.486614,
     "end_time": "2022-09-28T05:16:14.509881",
     "exception": false,
     "start_time": "2022-09-28T05:16:14.023267",
     "status": "completed"
    },
    "tags": []
   },
   "outputs": [
    {
     "data": {
      "text/plain": [
       "Text(0, 0.5, 'N')"
      ]
     },
     "execution_count": 7,
     "metadata": {},
     "output_type": "execute_result"
    },
    {
     "data": {
      "image/png": "[encoded data removed]",
      "text/plain": [
       "<Figure size 1040x910 with 1 Axes>"
      ]
     },
     "metadata": {},
     "output_type": "display_data"
    }
   ],
   "source": [
    "\n",
    "\n",
    "u = np.random.uniform(0,1, size=5000)\n",
    "\n",
    "draws = [func.from_unit_cube(x) for x in u]\n",
    "\n",
    "\n",
    "fig, ax = plt.subplots()\n",
    "\n",
    "\n",
    "ax.hist(draws, color=green, bins=50)\n",
    "\n",
    "ax.set_xlabel(\"value\")\n",
    "ax.set_ylabel(\"N\")\n",
    "\n"
   ]
  }
 ],
 "metadata": {
  "jupytext": {
   "formats": "ipynb,md"
  },
  "kernelspec": {
   "display_name": "Python 3 (ipykernel)",
   "language": "python",
   "name": "python3"
  },
  "language_info": {
   "codemirror_mode": {
    "name": "ipython",
    "version": 3
   },
   "file_extension": ".py",
   "mimetype": "text/x-python",
   "name": "python",
   "nbconvert_exporter": "python",
   "pygments_lexer": "ipython3",
   "version": "3.9.14"
  },
  "papermill": {
   "default_parameters": {},
   "duration": 8.034509,
   "end_time": "2022-09-28T05:16:15.313478",
   "environment_variables": {},
   "exception": null,
   "input_path": "Log_uniform_prior.ipynb",
   "output_path": "/Users/runner/work/astromodels/astromodels/docs/notebooks/Log_uniform_prior.ipynb",
   "parameters": {
    "func_name": "Log_uniform_prior",
    "positive_prior": true
   },
   "start_time": "2022-09-28T05:16:07.278969",
   "version": "2.4.0"
  }
 },
 "nbformat": 4,
 "nbformat_minor": 5
}
