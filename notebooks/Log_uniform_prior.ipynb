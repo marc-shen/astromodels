{
 "cells": [
  {
   "cell_type": "markdown",
   "id": "d9e5f320",
   "metadata": {
    "papermill": {
     "duration": 0.005092,
     "end_time": "2023-11-01T02:00:44.717785",
     "exception": false,
     "start_time": "2023-11-01T02:00:44.712693",
     "status": "completed"
    },
    "tags": []
   },
   "source": [
    "# Log uniform prior"
   ]
  },
  {
   "cell_type": "code",
   "execution_count": 1,
   "id": "49b0e5f6",
   "metadata": {
    "execution": {
     "iopub.execute_input": "2023-11-01T02:00:44.729146Z",
     "iopub.status.busy": "2023-11-01T02:00:44.728491Z",
     "iopub.status.idle": "2023-11-01T02:00:48.108677Z",
     "shell.execute_reply": "2023-11-01T02:00:48.106647Z"
    },
    "nbsphinx": "hidden",
    "papermill": {
     "duration": 3.393035,
     "end_time": "2023-11-01T02:00:48.114768",
     "exception": false,
     "start_time": "2023-11-01T02:00:44.721733",
     "status": "completed"
    },
    "tags": []
   },
   "outputs": [],
   "source": [
    "%%capture\n",
    "\n",
    "import numpy as np\n",
    "\n",
    "import matplotlib.pyplot as plt\n",
    "\n",
    "import warnings\n",
    "warnings.simplefilter(\"ignore\")\n",
    "\n",
    "from astromodels.functions.function import _known_functions\n",
    "\n",
    "\n",
    "from jupyterthemes import jtplot\n",
    "jtplot.style(context=\"talk\", fscale=1, ticks=True, grid=False)\n",
    "%matplotlib inline"
   ]
  },
  {
   "cell_type": "code",
   "execution_count": 2,
   "id": "acffdd65",
   "metadata": {
    "execution": {
     "iopub.execute_input": "2023-11-01T02:00:48.124453Z",
     "iopub.status.busy": "2023-11-01T02:00:48.123872Z",
     "iopub.status.idle": "2023-11-01T02:00:48.133880Z",
     "shell.execute_reply": "2023-11-01T02:00:48.131230Z"
    },
    "nbsphinx": "hidden",
    "papermill": {
     "duration": 0.021169,
     "end_time": "2023-11-01T02:00:48.139247",
     "exception": false,
     "start_time": "2023-11-01T02:00:48.118078",
     "status": "completed"
    },
    "tags": [
     "parameters"
    ]
   },
   "outputs": [],
   "source": [
    "func_name = \"TbAbs\"\n",
    "\n",
    "positive_prior = False\n"
   ]
  },
  {
   "cell_type": "code",
   "execution_count": 3,
   "id": "50bcf769",
   "metadata": {
    "execution": {
     "iopub.execute_input": "2023-11-01T02:00:48.147890Z",
     "iopub.status.busy": "2023-11-01T02:00:48.147252Z",
     "iopub.status.idle": "2023-11-01T02:00:48.154728Z",
     "shell.execute_reply": "2023-11-01T02:00:48.152927Z"
    },
    "papermill": {
     "duration": 0.017919,
     "end_time": "2023-11-01T02:00:48.160172",
     "exception": false,
     "start_time": "2023-11-01T02:00:48.142253",
     "status": "completed"
    },
    "tags": [
     "injected-parameters"
    ]
   },
   "outputs": [],
   "source": [
    "# Parameters\n",
    "func_name = \"Log_uniform_prior\"\n",
    "positive_prior = True\n"
   ]
  },
  {
   "cell_type": "code",
   "execution_count": 4,
   "id": "dfff5898",
   "metadata": {
    "execution": {
     "iopub.execute_input": "2023-11-01T02:00:48.169162Z",
     "iopub.status.busy": "2023-11-01T02:00:48.168718Z",
     "iopub.status.idle": "2023-11-01T02:00:48.179679Z",
     "shell.execute_reply": "2023-11-01T02:00:48.177685Z"
    },
    "lines_to_next_cell": 0,
    "nbsphinx": "hidden",
    "papermill": {
     "duration": 0.025611,
     "end_time": "2023-11-01T02:00:48.188974",
     "exception": false,
     "start_time": "2023-11-01T02:00:48.163363",
     "status": "completed"
    },
    "tags": []
   },
   "outputs": [],
   "source": [
    "func = _known_functions[func_name]()\n",
    "\n",
    "if not positive_prior:\n",
    "\n",
    "\tenergy_grid = np.linspace(-5,5,1000)\n",
    "\n",
    "else:\n",
    "    \n",
    "    energy_grid = np.linspace(0,1,1000)\n",
    "    \n",
    "    \n",
    "    \n",
    "    \n",
    "blue = \"#4152E3\"\n",
    "red = \"#E3414B\"\n",
    "green = \"#41E39E\""
   ]
  },
  {
   "cell_type": "markdown",
   "id": "d72afb0c",
   "metadata": {
    "lines_to_next_cell": 0,
    "papermill": {
     "duration": 0.003797,
     "end_time": "2023-11-01T02:00:48.196078",
     "exception": false,
     "start_time": "2023-11-01T02:00:48.192281",
     "status": "completed"
    },
    "tags": []
   },
   "source": [
    "## Description"
   ]
  },
  {
   "cell_type": "code",
   "execution_count": 5,
   "id": "959f15be",
   "metadata": {
    "execution": {
     "iopub.execute_input": "2023-11-01T02:00:48.205975Z",
     "iopub.status.busy": "2023-11-01T02:00:48.205508Z",
     "iopub.status.idle": "2023-11-01T02:00:48.224095Z",
     "shell.execute_reply": "2023-11-01T02:00:48.222457Z"
    },
    "papermill": {
     "duration": 0.030011,
     "end_time": "2023-11-01T02:00:48.229713",
     "exception": false,
     "start_time": "2023-11-01T02:00:48.199702",
     "status": "completed"
    },
    "tags": []
   },
   "outputs": [
    {
     "data": {
      "text/html": [
       "<ul>\n",
       "\n",
       "<li>description: A function which is K/x on the interval lower_bound - upper_bound and 0 outside the interval. The extremes of the interval are NOT counted as part of the interval. Lower_bound must be >= 0.</li>\n",
       "\n",
       "<li>formula: $ f(x)=K~\\begin{cases}0 & x \\le \\text{lower_bound} \\\\\\frac{1}{x} & \\text{lower_bound} < x < \\text{upper_bound} \\\\ 0 & x \\ge \\text{upper_bound} \\end{cases}$</li>\n",
       "\n",
       "<li>parameters: \n",
       "<ul>\n",
       "\n",
       "<li>lower_bound: \n",
       "<ul>\n",
       "\n",
       "<li>value: 1e-20</li>\n",
       "\n",
       "<li>desc: Lower bound for the interval</li>\n",
       "\n",
       "<li>min_value: 1e-30</li>\n",
       "\n",
       "<li>max_value: inf</li>\n",
       "\n",
       "<li>unit: </li>\n",
       "\n",
       "<li>is_normalization: False</li>\n",
       "\n",
       "<li>delta: 1e-21</li>\n",
       "\n",
       "<li>free: True</li>\n",
       "\n",
       "</ul>\n",
       "\n",
       "</li>\n",
       "\n",
       "<li>upper_bound: \n",
       "<ul>\n",
       "\n",
       "<li>value: 100.0</li>\n",
       "\n",
       "<li>desc: Upper bound for the interval</li>\n",
       "\n",
       "<li>min_value: 1e-30</li>\n",
       "\n",
       "<li>max_value: inf</li>\n",
       "\n",
       "<li>unit: </li>\n",
       "\n",
       "<li>is_normalization: False</li>\n",
       "\n",
       "<li>delta: 10.0</li>\n",
       "\n",
       "<li>free: True</li>\n",
       "\n",
       "</ul>\n",
       "\n",
       "</li>\n",
       "\n",
       "<li>K: \n",
       "<ul>\n",
       "\n",
       "<li>value: 1.0</li>\n",
       "\n",
       "<li>desc: Normalization</li>\n",
       "\n",
       "<li>min_value: None</li>\n",
       "\n",
       "<li>max_value: None</li>\n",
       "\n",
       "<li>unit: </li>\n",
       "\n",
       "<li>is_normalization: False</li>\n",
       "\n",
       "<li>delta: 0.1</li>\n",
       "\n",
       "<li>free: False</li>\n",
       "\n",
       "</ul>\n",
       "\n",
       "</li>\n",
       "\n",
       "</ul>\n",
       "\n",
       "</li>\n",
       "\n",
       "</ul>\n"
      ],
      "text/plain": [
       "  * description: A function which is K/x on the interval lower_bound - upper_bound and\n",
       "    * 0 outside the interval. The extremes of the interval are NOT counted as part of\n",
       "    * the interval. Lower_bound must be >= 0.\n",
       "  * formula: $ f(x)=K~\\begin{cases}0 & x \\le \\text{lower_bound} \\\\\\frac{1}{x} & \\text{lower_bound}\n",
       "    * < x < \\text{upper_bound} \\\\ 0 & x \\ge \\text{upper_bound} \\end{cases}$\n",
       "  * parameters:\n",
       "    * lower_bound:\n",
       "      * value: 1.0e-20\n",
       "      * desc: Lower bound for the interval\n",
       "      * min_value: 1.0e-30\n",
       "      * max_value: .inf\n",
       "      * unit: ''\n",
       "      * is_normalization: false\n",
       "      * delta: 1.0e-21\n",
       "      * free: true\n",
       "    * upper_bound:\n",
       "      * value: 100.0\n",
       "      * desc: Upper bound for the interval\n",
       "      * min_value: 1.0e-30\n",
       "      * max_value: .inf\n",
       "      * unit: ''\n",
       "      * is_normalization: false\n",
       "      * delta: 10.0\n",
       "      * free: true\n",
       "    * K:\n",
       "      * value: 1.0\n",
       "      * desc: Normalization\n",
       "      * min_value: null\n",
       "      * max_value: null\n",
       "      * unit: ''\n",
       "      * is_normalization: false\n",
       "      * delta: 0.1\n",
       "      * free: false"
      ]
     },
     "metadata": {},
     "output_type": "display_data"
    }
   ],
   "source": [
    "func.display()"
   ]
  },
  {
   "cell_type": "markdown",
   "id": "c6228266",
   "metadata": {
    "papermill": {
     "duration": 0.005679,
     "end_time": "2023-11-01T02:00:48.239002",
     "exception": false,
     "start_time": "2023-11-01T02:00:48.233323",
     "status": "completed"
    },
    "tags": []
   },
   "source": [
    "## Shape \n",
    "\n",
    "The shape of the function. \n",
    "\n",
    "*If this is not a photon model but a prior or linear function then ignore the units as these docs are auto-generated*"
   ]
  },
  {
   "cell_type": "code",
   "execution_count": 6,
   "id": "ad90e6d2",
   "metadata": {
    "execution": {
     "iopub.execute_input": "2023-11-01T02:00:48.251350Z",
     "iopub.status.busy": "2023-11-01T02:00:48.250916Z",
     "iopub.status.idle": "2023-11-01T02:00:48.537857Z",
     "shell.execute_reply": "2023-11-01T02:00:48.536205Z"
    },
    "papermill": {
     "duration": 0.298609,
     "end_time": "2023-11-01T02:00:48.542762",
     "exception": false,
     "start_time": "2023-11-01T02:00:48.244153",
     "status": "completed"
    },
    "tags": [
     "nbsphinx-thumbnail"
    ]
   },
   "outputs": [
    {
     "data": {
      "text/plain": [
       "Text(0, 0.5, 'probability')"
      ]
     },
     "execution_count": 6,
     "metadata": {},
     "output_type": "execute_result"
    },
    {
     "data": {
      "image/png": "[encoded data removed]",
      "text/plain": [
       "<Figure size 1040x910 with 1 Axes>"
      ]
     },
     "metadata": {},
     "output_type": "display_data"
    }
   ],
   "source": [
    "fig, ax = plt.subplots()\n",
    "\n",
    "\n",
    "ax.plot(energy_grid, func(energy_grid), color=blue, lw=3)\n",
    "\n",
    "ax.set_xlabel(\"x\")\n",
    "ax.set_ylabel(\"probability\")\n"
   ]
  },
  {
   "cell_type": "markdown",
   "id": "e5f47ca0",
   "metadata": {
    "papermill": {
     "duration": 0.003655,
     "end_time": "2023-11-01T02:00:48.550216",
     "exception": false,
     "start_time": "2023-11-01T02:00:48.546561",
     "status": "completed"
    },
    "tags": []
   },
   "source": [
    "## Random Number Generation\n",
    "\n",
    "This is how we can generate random numbers from the prior.\n"
   ]
  },
  {
   "cell_type": "code",
   "execution_count": 7,
   "id": "31cea78c",
   "metadata": {
    "execution": {
     "iopub.execute_input": "2023-11-01T02:00:48.559599Z",
     "iopub.status.busy": "2023-11-01T02:00:48.559107Z",
     "iopub.status.idle": "2023-11-01T02:00:48.869192Z",
     "shell.execute_reply": "2023-11-01T02:00:48.867379Z"
    },
    "papermill": {
     "duration": 0.319894,
     "end_time": "2023-11-01T02:00:48.873680",
     "exception": false,
     "start_time": "2023-11-01T02:00:48.553786",
     "status": "completed"
    },
    "tags": []
   },
   "outputs": [
    {
     "data": {
      "text/plain": [
       "Text(0, 0.5, 'N')"
      ]
     },
     "execution_count": 7,
     "metadata": {},
     "output_type": "execute_result"
    },
    {
     "data": {
      "image/png": "[encoded data removed]",
      "text/plain": [
       "<Figure size 1040x910 with 1 Axes>"
      ]
     },
     "metadata": {},
     "output_type": "display_data"
    }
   ],
   "source": [
    "\n",
    "\n",
    "u = np.random.uniform(0,1, size=5000)\n",
    "\n",
    "draws = [func.from_unit_cube(x) for x in u]\n",
    "\n",
    "\n",
    "fig, ax = plt.subplots()\n",
    "\n",
    "\n",
    "ax.hist(draws, color=green, bins=50)\n",
    "\n",
    "ax.set_xlabel(\"value\")\n",
    "ax.set_ylabel(\"N\")\n",
    "\n"
   ]
  }
 ],
 "metadata": {
  "jupytext": {
   "formats": "ipynb,md"
  },
  "kernelspec": {
   "display_name": "Python 3 (ipykernel)",
   "language": "python",
   "name": "python3"
  },
  "language_info": {
   "codemirror_mode": {
    "name": "ipython",
    "version": 3
   },
   "file_extension": ".py",
   "mimetype": "text/x-python",
   "name": "python",
   "nbconvert_exporter": "python",
   "pygments_lexer": "ipython3",
   "version": "3.9.18"
  },
  "papermill": {
   "default_parameters": {},
   "duration": 5.788445,
   "end_time": "2023-11-01T02:00:49.412057",
   "environment_variables": {},
   "exception": null,
   "input_path": "Log_uniform_prior.ipynb",
   "output_path": "/Users/runner/work/astromodels/astromodels/docs/notebooks/Log_uniform_prior.ipynb",
   "parameters": {
    "func_name": "Log_uniform_prior",
    "positive_prior": true
   },
   "start_time": "2023-11-01T02:00:43.623612",
   "version": "2.4.0"
  }
 },
 "nbformat": 4,
 "nbformat_minor": 5
}
