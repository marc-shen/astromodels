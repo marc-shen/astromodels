{
 "cells": [
  {
   "cell_type": "markdown",
   "id": "fa9dbcff",
   "metadata": {
    "papermill": {
     "duration": 0.006694,
     "end_time": "2024-09-10T20:42:11.311633",
     "exception": false,
     "start_time": "2024-09-10T20:42:11.304939",
     "status": "completed"
    },
    "tags": []
   },
   "source": [
    "# Log uniform prior"
   ]
  },
  {
   "cell_type": "code",
   "execution_count": 1,
   "id": "07e99b33",
   "metadata": {
    "execution": {
     "iopub.execute_input": "2024-09-10T20:42:11.324424Z",
     "iopub.status.busy": "2024-09-10T20:42:11.323878Z",
     "iopub.status.idle": "2024-09-10T20:42:13.504857Z",
     "shell.execute_reply": "2024-09-10T20:42:13.503838Z"
    },
    "nbsphinx": "hidden",
    "papermill": {
     "duration": 2.190217,
     "end_time": "2024-09-10T20:42:13.507955",
     "exception": false,
     "start_time": "2024-09-10T20:42:11.317738",
     "status": "completed"
    },
    "tags": []
   },
   "outputs": [],
   "source": [
    "%%capture\n",
    "\n",
    "import numpy as np\n",
    "\n",
    "import matplotlib.pyplot as plt\n",
    "\n",
    "import warnings\n",
    "warnings.simplefilter(\"ignore\")\n",
    "\n",
    "from astromodels.functions.function import _known_functions\n",
    "\n",
    "\n",
    "from jupyterthemes import jtplot\n",
    "jtplot.style(context=\"talk\", fscale=1, ticks=True, grid=False)\n",
    "%matplotlib inline"
   ]
  },
  {
   "cell_type": "code",
   "execution_count": 2,
   "id": "3ea99448",
   "metadata": {
    "execution": {
     "iopub.execute_input": "2024-09-10T20:42:13.513825Z",
     "iopub.status.busy": "2024-09-10T20:42:13.513307Z",
     "iopub.status.idle": "2024-09-10T20:42:13.521266Z",
     "shell.execute_reply": "2024-09-10T20:42:13.520467Z"
    },
    "nbsphinx": "hidden",
    "papermill": {
     "duration": 0.012673,
     "end_time": "2024-09-10T20:42:13.523376",
     "exception": false,
     "start_time": "2024-09-10T20:42:13.510703",
     "status": "completed"
    },
    "tags": [
     "parameters"
    ]
   },
   "outputs": [],
   "source": [
    "func_name = \"TbAbs\"\n",
    "\n",
    "positive_prior = False\n"
   ]
  },
  {
   "cell_type": "code",
   "execution_count": 3,
   "id": "407ecefe",
   "metadata": {
    "execution": {
     "iopub.execute_input": "2024-09-10T20:42:13.527245Z",
     "iopub.status.busy": "2024-09-10T20:42:13.526850Z",
     "iopub.status.idle": "2024-09-10T20:42:13.530045Z",
     "shell.execute_reply": "2024-09-10T20:42:13.529321Z"
    },
    "papermill": {
     "duration": 0.007828,
     "end_time": "2024-09-10T20:42:13.532577",
     "exception": false,
     "start_time": "2024-09-10T20:42:13.524749",
     "status": "completed"
    },
    "tags": [
     "injected-parameters"
    ]
   },
   "outputs": [],
   "source": [
    "# Parameters\n",
    "func_name = \"Log_uniform_prior\"\n",
    "positive_prior = True\n"
   ]
  },
  {
   "cell_type": "code",
   "execution_count": 4,
   "id": "fa9b29de",
   "metadata": {
    "execution": {
     "iopub.execute_input": "2024-09-10T20:42:13.536199Z",
     "iopub.status.busy": "2024-09-10T20:42:13.535967Z",
     "iopub.status.idle": "2024-09-10T20:42:13.546053Z",
     "shell.execute_reply": "2024-09-10T20:42:13.545386Z"
    },
    "lines_to_next_cell": 0,
    "nbsphinx": "hidden",
    "papermill": {
     "duration": 0.014201,
     "end_time": "2024-09-10T20:42:13.548173",
     "exception": false,
     "start_time": "2024-09-10T20:42:13.533972",
     "status": "completed"
    },
    "tags": []
   },
   "outputs": [],
   "source": [
    "func = _known_functions[func_name]()\n",
    "\n",
    "if not positive_prior:\n",
    "\n",
    "\tenergy_grid = np.linspace(-5,5,1000)\n",
    "\n",
    "else:\n",
    "    \n",
    "    energy_grid = np.linspace(0,1,1000)\n",
    "    \n",
    "    \n",
    "    \n",
    "    \n",
    "blue = \"#4152E3\"\n",
    "red = \"#E3414B\"\n",
    "green = \"#41E39E\""
   ]
  },
  {
   "cell_type": "markdown",
   "id": "3a447a06",
   "metadata": {
    "lines_to_next_cell": 0,
    "papermill": {
     "duration": 0.001159,
     "end_time": "2024-09-10T20:42:13.550775",
     "exception": false,
     "start_time": "2024-09-10T20:42:13.549616",
     "status": "completed"
    },
    "tags": []
   },
   "source": [
    "## Description"
   ]
  },
  {
   "cell_type": "code",
   "execution_count": 5,
   "id": "3d846fb7",
   "metadata": {
    "execution": {
     "iopub.execute_input": "2024-09-10T20:42:13.554105Z",
     "iopub.status.busy": "2024-09-10T20:42:13.553869Z",
     "iopub.status.idle": "2024-09-10T20:42:13.565817Z",
     "shell.execute_reply": "2024-09-10T20:42:13.565073Z"
    },
    "papermill": {
     "duration": 0.016239,
     "end_time": "2024-09-10T20:42:13.568094",
     "exception": false,
     "start_time": "2024-09-10T20:42:13.551855",
     "status": "completed"
    },
    "tags": []
   },
   "outputs": [
    {
     "data": {
      "text/html": [
       "<ul>\n",
       "\n",
       "<li>description: A function which is K/x on the interval lower_bound - upper_bound and 0 outside the interval. The extremes of the interval are NOT counted as part of the interval. Lower_bound must be >= 0.</li>\n",
       "\n",
       "<li>formula: $ f(x)=K~\\begin{cases}0 & x \\le \\text{lower_bound} \\\\\\frac{1}{x} & \\text{lower_bound} < x < \\text{upper_bound} \\\\ 0 & x \\ge \\text{upper_bound} \\end{cases}$</li>\n",
       "\n",
       "<li>parameters: \n",
       "<ul>\n",
       "\n",
       "<li>lower_bound: \n",
       "<ul>\n",
       "\n",
       "<li>value: 1e-20</li>\n",
       "\n",
       "<li>desc: Lower bound for the interval</li>\n",
       "\n",
       "<li>min_value: 1e-30</li>\n",
       "\n",
       "<li>max_value: inf</li>\n",
       "\n",
       "<li>unit: </li>\n",
       "\n",
       "<li>is_normalization: False</li>\n",
       "\n",
       "<li>delta: 1e-21</li>\n",
       "\n",
       "<li>free: True</li>\n",
       "\n",
       "</ul>\n",
       "\n",
       "</li>\n",
       "\n",
       "<li>upper_bound: \n",
       "<ul>\n",
       "\n",
       "<li>value: 100.0</li>\n",
       "\n",
       "<li>desc: Upper bound for the interval</li>\n",
       "\n",
       "<li>min_value: 1e-30</li>\n",
       "\n",
       "<li>max_value: inf</li>\n",
       "\n",
       "<li>unit: </li>\n",
       "\n",
       "<li>is_normalization: False</li>\n",
       "\n",
       "<li>delta: 10.0</li>\n",
       "\n",
       "<li>free: True</li>\n",
       "\n",
       "</ul>\n",
       "\n",
       "</li>\n",
       "\n",
       "<li>K: \n",
       "<ul>\n",
       "\n",
       "<li>value: 1.0</li>\n",
       "\n",
       "<li>desc: Normalization</li>\n",
       "\n",
       "<li>min_value: None</li>\n",
       "\n",
       "<li>max_value: None</li>\n",
       "\n",
       "<li>unit: </li>\n",
       "\n",
       "<li>is_normalization: False</li>\n",
       "\n",
       "<li>delta: 0.1</li>\n",
       "\n",
       "<li>free: False</li>\n",
       "\n",
       "</ul>\n",
       "\n",
       "</li>\n",
       "\n",
       "</ul>\n",
       "\n",
       "</li>\n",
       "\n",
       "</ul>\n"
      ],
      "text/plain": [
       "  * description: A function which is K/x on the interval lower_bound - upper_bound and\n",
       "    * 0 outside the interval. The extremes of the interval are NOT counted as part of\n",
       "    * the interval. Lower_bound must be >= 0.\n",
       "  * formula: $ f(x)=K~\\begin{cases}0 & x \\le \\text{lower_bound} \\\\\\frac{1}{x} & \\text{lower_bound}\n",
       "    * < x < \\text{upper_bound} \\\\ 0 & x \\ge \\text{upper_bound} \\end{cases}$\n",
       "  * parameters:\n",
       "    * lower_bound:\n",
       "      * value: 1.0e-20\n",
       "      * desc: Lower bound for the interval\n",
       "      * min_value: 1.0e-30\n",
       "      * max_value: .inf\n",
       "      * unit: ''\n",
       "      * is_normalization: false\n",
       "      * delta: 1.0e-21\n",
       "      * free: true\n",
       "    * upper_bound:\n",
       "      * value: 100.0\n",
       "      * desc: Upper bound for the interval\n",
       "      * min_value: 1.0e-30\n",
       "      * max_value: .inf\n",
       "      * unit: ''\n",
       "      * is_normalization: false\n",
       "      * delta: 10.0\n",
       "      * free: true\n",
       "    * K:\n",
       "      * value: 1.0\n",
       "      * desc: Normalization\n",
       "      * min_value: null\n",
       "      * max_value: null\n",
       "      * unit: ''\n",
       "      * is_normalization: false\n",
       "      * delta: 0.1\n",
       "      * free: false"
      ]
     },
     "metadata": {},
     "output_type": "display_data"
    }
   ],
   "source": [
    "func.display()"
   ]
  },
  {
   "cell_type": "markdown",
   "id": "5e6db153",
   "metadata": {
    "papermill": {
     "duration": 0.001218,
     "end_time": "2024-09-10T20:42:13.570920",
     "exception": false,
     "start_time": "2024-09-10T20:42:13.569702",
     "status": "completed"
    },
    "tags": []
   },
   "source": [
    "## Shape \n",
    "\n",
    "The shape of the function. \n",
    "\n",
    "*If this is not a photon model but a prior or linear function then ignore the units as these docs are auto-generated*"
   ]
  },
  {
   "cell_type": "code",
   "execution_count": 6,
   "id": "928a2d0f",
   "metadata": {
    "execution": {
     "iopub.execute_input": "2024-09-10T20:42:13.574966Z",
     "iopub.status.busy": "2024-09-10T20:42:13.574729Z",
     "iopub.status.idle": "2024-09-10T20:42:13.720781Z",
     "shell.execute_reply": "2024-09-10T20:42:13.720299Z"
    },
    "papermill": {
     "duration": 0.151109,
     "end_time": "2024-09-10T20:42:13.723266",
     "exception": false,
     "start_time": "2024-09-10T20:42:13.572157",
     "status": "completed"
    },
    "tags": [
     "nbsphinx-thumbnail"
    ]
   },
   "outputs": [
    {
     "data": {
      "text/plain": [
       "Text(0, 0.5, 'probability')"
      ]
     },
     "execution_count": 6,
     "metadata": {},
     "output_type": "execute_result"
    },
    {
     "data": {
      "image/png": "[encoded data removed]",
      "text/plain": [
       "<Figure size 1040x910 with 1 Axes>"
      ]
     },
     "metadata": {},
     "output_type": "display_data"
    }
   ],
   "source": [
    "fig, ax = plt.subplots()\n",
    "\n",
    "\n",
    "ax.plot(energy_grid, func(energy_grid), color=blue, lw=3)\n",
    "\n",
    "ax.set_xlabel(\"x\")\n",
    "ax.set_ylabel(\"probability\")\n"
   ]
  },
  {
   "cell_type": "markdown",
   "id": "f9d6277d",
   "metadata": {
    "papermill": {
     "duration": 0.004587,
     "end_time": "2024-09-10T20:42:13.733593",
     "exception": false,
     "start_time": "2024-09-10T20:42:13.729006",
     "status": "completed"
    },
    "tags": []
   },
   "source": [
    "## Random Number Generation\n",
    "\n",
    "This is how we can generate random numbers from the prior.\n"
   ]
  },
  {
   "cell_type": "code",
   "execution_count": 7,
   "id": "eb7735c7",
   "metadata": {
    "execution": {
     "iopub.execute_input": "2024-09-10T20:42:13.741799Z",
     "iopub.status.busy": "2024-09-10T20:42:13.741600Z",
     "iopub.status.idle": "2024-09-10T20:42:13.891122Z",
     "shell.execute_reply": "2024-09-10T20:42:13.889998Z"
    },
    "papermill": {
     "duration": 0.155265,
     "end_time": "2024-09-10T20:42:13.893735",
     "exception": false,
     "start_time": "2024-09-10T20:42:13.738470",
     "status": "completed"
    },
    "tags": []
   },
   "outputs": [
    {
     "data": {
      "text/plain": [
       "Text(0, 0.5, 'N')"
      ]
     },
     "execution_count": 7,
     "metadata": {},
     "output_type": "execute_result"
    },
    {
     "data": {
      "image/png": "[encoded data removed]",
      "text/plain": [
       "<Figure size 1040x910 with 1 Axes>"
      ]
     },
     "metadata": {},
     "output_type": "display_data"
    }
   ],
   "source": [
    "\n",
    "\n",
    "u = np.random.uniform(0,1, size=5000)\n",
    "\n",
    "draws = [func.from_unit_cube(x) for x in u]\n",
    "\n",
    "\n",
    "fig, ax = plt.subplots()\n",
    "\n",
    "\n",
    "ax.hist(draws, color=green, bins=50)\n",
    "\n",
    "ax.set_xlabel(\"value\")\n",
    "ax.set_ylabel(\"N\")\n",
    "\n"
   ]
  }
 ],
 "metadata": {
  "jupytext": {
   "formats": "ipynb,md"
  },
  "kernelspec": {
   "display_name": "Python 3 (ipykernel)",
   "language": "python",
   "name": "python3"
  },
  "language_info": {
   "codemirror_mode": {
    "name": "ipython",
    "version": 3
   },
   "file_extension": ".py",
   "mimetype": "text/x-python",
   "name": "python",
   "nbconvert_exporter": "python",
   "pygments_lexer": "ipython3",
   "version": "3.9.13"
  },
  "papermill": {
   "default_parameters": {},
   "duration": 6.370522,
   "end_time": "2024-09-10T20:42:17.034000",
   "environment_variables": {},
   "exception": null,
   "input_path": "Log_uniform_prior.ipynb",
   "output_path": "/Users/runner/work/astromodels/astromodels/docs/notebooks/Log_uniform_prior.ipynb",
   "parameters": {
    "func_name": "Log_uniform_prior",
    "positive_prior": true
   },
   "start_time": "2024-09-10T20:42:10.663478",
   "version": "2.6.0"
  }
 },
 "nbformat": 4,
 "nbformat_minor": 5
}
