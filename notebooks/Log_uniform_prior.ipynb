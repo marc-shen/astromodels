{
 "cells": [
  {
   "cell_type": "markdown",
   "id": "480433c0",
   "metadata": {
    "papermill": {
     "duration": 0.004244,
     "end_time": "2022-09-29T17:47:17.845689",
     "exception": false,
     "start_time": "2022-09-29T17:47:17.841445",
     "status": "completed"
    },
    "tags": []
   },
   "source": [
    "# Log uniform prior"
   ]
  },
  {
   "cell_type": "code",
   "execution_count": 1,
   "id": "d2c4893f",
   "metadata": {
    "execution": {
     "iopub.execute_input": "2022-09-29T17:47:17.853842Z",
     "iopub.status.busy": "2022-09-29T17:47:17.853391Z",
     "iopub.status.idle": "2022-09-29T17:47:22.178648Z",
     "shell.execute_reply": "2022-09-29T17:47:22.177384Z"
    },
    "nbsphinx": "hidden",
    "papermill": {
     "duration": 4.332936,
     "end_time": "2022-09-29T17:47:22.181894",
     "exception": false,
     "start_time": "2022-09-29T17:47:17.848958",
     "status": "completed"
    },
    "tags": []
   },
   "outputs": [],
   "source": [
    "%%capture\n",
    "\n",
    "import numpy as np\n",
    "\n",
    "import matplotlib.pyplot as plt\n",
    "\n",
    "import warnings\n",
    "warnings.simplefilter(\"ignore\")\n",
    "\n",
    "from astromodels.functions.function import _known_functions\n",
    "\n",
    "\n",
    "from jupyterthemes import jtplot\n",
    "jtplot.style(context=\"talk\", fscale=1, ticks=True, grid=False)\n",
    "%matplotlib inline"
   ]
  },
  {
   "cell_type": "code",
   "execution_count": 2,
   "id": "a6d35a2e",
   "metadata": {
    "execution": {
     "iopub.execute_input": "2022-09-29T17:47:22.190710Z",
     "iopub.status.busy": "2022-09-29T17:47:22.190145Z",
     "iopub.status.idle": "2022-09-29T17:47:22.196183Z",
     "shell.execute_reply": "2022-09-29T17:47:22.195210Z"
    },
    "nbsphinx": "hidden",
    "papermill": {
     "duration": 0.01323,
     "end_time": "2022-09-29T17:47:22.198985",
     "exception": false,
     "start_time": "2022-09-29T17:47:22.185755",
     "status": "completed"
    },
    "tags": [
     "parameters"
    ]
   },
   "outputs": [],
   "source": [
    "func_name = \"TbAbs\"\n",
    "\n",
    "positive_prior = False\n"
   ]
  },
  {
   "cell_type": "code",
   "execution_count": 3,
   "id": "a4775dcc",
   "metadata": {
    "execution": {
     "iopub.execute_input": "2022-09-29T17:47:22.206019Z",
     "iopub.status.busy": "2022-09-29T17:47:22.205671Z",
     "iopub.status.idle": "2022-09-29T17:47:22.214039Z",
     "shell.execute_reply": "2022-09-29T17:47:22.213106Z"
    },
    "papermill": {
     "duration": 0.014982,
     "end_time": "2022-09-29T17:47:22.216809",
     "exception": false,
     "start_time": "2022-09-29T17:47:22.201827",
     "status": "completed"
    },
    "tags": [
     "injected-parameters"
    ]
   },
   "outputs": [],
   "source": [
    "# Parameters\n",
    "func_name = \"Log_uniform_prior\"\n",
    "positive_prior = True\n"
   ]
  },
  {
   "cell_type": "code",
   "execution_count": 4,
   "id": "78c2b06b",
   "metadata": {
    "execution": {
     "iopub.execute_input": "2022-09-29T17:47:22.224030Z",
     "iopub.status.busy": "2022-09-29T17:47:22.223666Z",
     "iopub.status.idle": "2022-09-29T17:47:22.232419Z",
     "shell.execute_reply": "2022-09-29T17:47:22.231515Z"
    },
    "lines_to_next_cell": 0,
    "nbsphinx": "hidden",
    "papermill": {
     "duration": 0.015302,
     "end_time": "2022-09-29T17:47:22.235025",
     "exception": false,
     "start_time": "2022-09-29T17:47:22.219723",
     "status": "completed"
    },
    "tags": []
   },
   "outputs": [],
   "source": [
    "func = _known_functions[func_name]()\n",
    "\n",
    "if not positive_prior:\n",
    "\n",
    "\tenergy_grid = np.linspace(-5,5,1000)\n",
    "\n",
    "else:\n",
    "    \n",
    "    energy_grid = np.linspace(0,1,1000)\n",
    "    \n",
    "    \n",
    "    \n",
    "    \n",
    "blue = \"#4152E3\"\n",
    "red = \"#E3414B\"\n",
    "green = \"#41E39E\""
   ]
  },
  {
   "cell_type": "markdown",
   "id": "2972c41b",
   "metadata": {
    "lines_to_next_cell": 0,
    "papermill": {
     "duration": 0.002786,
     "end_time": "2022-09-29T17:47:22.240658",
     "exception": false,
     "start_time": "2022-09-29T17:47:22.237872",
     "status": "completed"
    },
    "tags": []
   },
   "source": [
    "## Description"
   ]
  },
  {
   "cell_type": "code",
   "execution_count": 5,
   "id": "bde0aca5",
   "metadata": {
    "execution": {
     "iopub.execute_input": "2022-09-29T17:47:22.248356Z",
     "iopub.status.busy": "2022-09-29T17:47:22.247627Z",
     "iopub.status.idle": "2022-09-29T17:47:22.261339Z",
     "shell.execute_reply": "2022-09-29T17:47:22.260459Z"
    },
    "papermill": {
     "duration": 0.020274,
     "end_time": "2022-09-29T17:47:22.264036",
     "exception": false,
     "start_time": "2022-09-29T17:47:22.243762",
     "status": "completed"
    },
    "tags": []
   },
   "outputs": [
    {
     "data": {
      "text/html": [
       "<ul>\n",
       "\n",
       "<li>description: A function which is K/x on the interval lower_bound - upper_bound and 0 outside the interval. The extremes of the interval are NOT counted as part of the interval. Lower_bound must be >= 0.</li>\n",
       "\n",
       "<li>formula: $ f(x)=K~\\begin{cases}0 & x \\le \\text{lower_bound} \\\\\\frac{1}{x} & \\text{lower_bound} < x < \\text{upper_bound} \\\\ 0 & x \\ge \\text{upper_bound} \\end{cases}$</li>\n",
       "\n",
       "<li>parameters: \n",
       "<ul>\n",
       "\n",
       "<li>lower_bound: \n",
       "<ul>\n",
       "\n",
       "<li>value: 1e-20</li>\n",
       "\n",
       "<li>desc: Lower bound for the interval</li>\n",
       "\n",
       "<li>min_value: 1e-30</li>\n",
       "\n",
       "<li>max_value: inf</li>\n",
       "\n",
       "<li>unit: </li>\n",
       "\n",
       "<li>is_normalization: False</li>\n",
       "\n",
       "<li>delta: 1e-21</li>\n",
       "\n",
       "<li>free: True</li>\n",
       "\n",
       "</ul>\n",
       "\n",
       "</li>\n",
       "\n",
       "<li>upper_bound: \n",
       "<ul>\n",
       "\n",
       "<li>value: 100.0</li>\n",
       "\n",
       "<li>desc: Upper bound for the interval</li>\n",
       "\n",
       "<li>min_value: 1e-30</li>\n",
       "\n",
       "<li>max_value: inf</li>\n",
       "\n",
       "<li>unit: </li>\n",
       "\n",
       "<li>is_normalization: False</li>\n",
       "\n",
       "<li>delta: 10.0</li>\n",
       "\n",
       "<li>free: True</li>\n",
       "\n",
       "</ul>\n",
       "\n",
       "</li>\n",
       "\n",
       "<li>K: \n",
       "<ul>\n",
       "\n",
       "<li>value: 1.0</li>\n",
       "\n",
       "<li>desc: Normalization</li>\n",
       "\n",
       "<li>min_value: None</li>\n",
       "\n",
       "<li>max_value: None</li>\n",
       "\n",
       "<li>unit: </li>\n",
       "\n",
       "<li>is_normalization: False</li>\n",
       "\n",
       "<li>delta: 0.1</li>\n",
       "\n",
       "<li>free: False</li>\n",
       "\n",
       "</ul>\n",
       "\n",
       "</li>\n",
       "\n",
       "</ul>\n",
       "\n",
       "</li>\n",
       "\n",
       "</ul>\n"
      ],
      "text/plain": [
       "  * description: A function which is K/x on the interval lower_bound - upper_bound and\n",
       "    * 0 outside the interval. The extremes of the interval are NOT counted as part of\n",
       "    * the interval. Lower_bound must be >= 0.\n",
       "  * formula: $ f(x)=K~\\begin{cases}0 & x \\le \\text{lower_bound} \\\\\\frac{1}{x} & \\text{lower_bound}\n",
       "    * < x < \\text{upper_bound} \\\\ 0 & x \\ge \\text{upper_bound} \\end{cases}$\n",
       "  * parameters:\n",
       "    * lower_bound:\n",
       "      * value: 1.0e-20\n",
       "      * desc: Lower bound for the interval\n",
       "      * min_value: 1.0e-30\n",
       "      * max_value: .inf\n",
       "      * unit: ''\n",
       "      * is_normalization: false\n",
       "      * delta: 1.0e-21\n",
       "      * free: true\n",
       "    * upper_bound:\n",
       "      * value: 100.0\n",
       "      * desc: Upper bound for the interval\n",
       "      * min_value: 1.0e-30\n",
       "      * max_value: .inf\n",
       "      * unit: ''\n",
       "      * is_normalization: false\n",
       "      * delta: 10.0\n",
       "      * free: true\n",
       "    * K:\n",
       "      * value: 1.0\n",
       "      * desc: Normalization\n",
       "      * min_value: null\n",
       "      * max_value: null\n",
       "      * unit: ''\n",
       "      * is_normalization: false\n",
       "      * delta: 0.1\n",
       "      * free: false"
      ]
     },
     "metadata": {},
     "output_type": "display_data"
    }
   ],
   "source": [
    "func.display()"
   ]
  },
  {
   "cell_type": "markdown",
   "id": "f59e642b",
   "metadata": {
    "papermill": {
     "duration": 0.003114,
     "end_time": "2022-09-29T17:47:22.270569",
     "exception": false,
     "start_time": "2022-09-29T17:47:22.267455",
     "status": "completed"
    },
    "tags": []
   },
   "source": [
    "## Shape \n",
    "\n",
    "The shape of the function. \n",
    "\n",
    "*If this is not a photon model but a prior or linear function then ignore the units as these docs are auto-generated*"
   ]
  },
  {
   "cell_type": "code",
   "execution_count": 6,
   "id": "90c2ff2a",
   "metadata": {
    "execution": {
     "iopub.execute_input": "2022-09-29T17:47:22.278430Z",
     "iopub.status.busy": "2022-09-29T17:47:22.278034Z",
     "iopub.status.idle": "2022-09-29T17:47:22.642889Z",
     "shell.execute_reply": "2022-09-29T17:47:22.641677Z"
    },
    "papermill": {
     "duration": 0.372349,
     "end_time": "2022-09-29T17:47:22.645914",
     "exception": false,
     "start_time": "2022-09-29T17:47:22.273565",
     "status": "completed"
    },
    "tags": [
     "nbsphinx-thumbnail"
    ]
   },
   "outputs": [
    {
     "data": {
      "text/plain": [
       "Text(0, 0.5, 'probability')"
      ]
     },
     "execution_count": 6,
     "metadata": {},
     "output_type": "execute_result"
    },
    {
     "data": {
      "image/png": "[encoded data removed]",
      "text/plain": [
       "<Figure size 1040x910 with 1 Axes>"
      ]
     },
     "metadata": {},
     "output_type": "display_data"
    }
   ],
   "source": [
    "fig, ax = plt.subplots()\n",
    "\n",
    "\n",
    "ax.plot(energy_grid, func(energy_grid), color=blue, lw=3)\n",
    "\n",
    "ax.set_xlabel(\"x\")\n",
    "ax.set_ylabel(\"probability\")\n"
   ]
  },
  {
   "cell_type": "markdown",
   "id": "362bfbad",
   "metadata": {
    "papermill": {
     "duration": 0.004526,
     "end_time": "2022-09-29T17:47:22.654352",
     "exception": false,
     "start_time": "2022-09-29T17:47:22.649826",
     "status": "completed"
    },
    "tags": []
   },
   "source": [
    "## Random Number Generation\n",
    "\n",
    "This is how we can generate random numbers from the prior.\n"
   ]
  },
  {
   "cell_type": "code",
   "execution_count": 7,
   "id": "7cad2090",
   "metadata": {
    "execution": {
     "iopub.execute_input": "2022-09-29T17:47:22.664485Z",
     "iopub.status.busy": "2022-09-29T17:47:22.663533Z",
     "iopub.status.idle": "2022-09-29T17:47:23.334744Z",
     "shell.execute_reply": "2022-09-29T17:47:23.333750Z"
    },
    "papermill": {
     "duration": 0.680402,
     "end_time": "2022-09-29T17:47:23.338382",
     "exception": false,
     "start_time": "2022-09-29T17:47:22.657980",
     "status": "completed"
    },
    "tags": []
   },
   "outputs": [
    {
     "data": {
      "text/plain": [
       "Text(0, 0.5, 'N')"
      ]
     },
     "execution_count": 7,
     "metadata": {},
     "output_type": "execute_result"
    },
    {
     "data": {
      "image/png": "[encoded data removed]",
      "text/plain": [
       "<Figure size 1040x910 with 1 Axes>"
      ]
     },
     "metadata": {},
     "output_type": "display_data"
    }
   ],
   "source": [
    "\n",
    "\n",
    "u = np.random.uniform(0,1, size=5000)\n",
    "\n",
    "draws = [func.from_unit_cube(x) for x in u]\n",
    "\n",
    "\n",
    "fig, ax = plt.subplots()\n",
    "\n",
    "\n",
    "ax.hist(draws, color=green, bins=50)\n",
    "\n",
    "ax.set_xlabel(\"value\")\n",
    "ax.set_ylabel(\"N\")\n",
    "\n"
   ]
  }
 ],
 "metadata": {
  "jupytext": {
   "formats": "ipynb,md"
  },
  "kernelspec": {
   "display_name": "Python 3 (ipykernel)",
   "language": "python",
   "name": "python3"
  },
  "language_info": {
   "codemirror_mode": {
    "name": "ipython",
    "version": 3
   },
   "file_extension": ".py",
   "mimetype": "text/x-python",
   "name": "python",
   "nbconvert_exporter": "python",
   "pygments_lexer": "ipython3",
   "version": "3.9.14"
  },
  "papermill": {
   "default_parameters": {},
   "duration": 7.563195,
   "end_time": "2022-09-29T17:47:23.975201",
   "environment_variables": {},
   "exception": null,
   "input_path": "Log_uniform_prior.ipynb",
   "output_path": "/Users/runner/work/astromodels/astromodels/docs/notebooks/Log_uniform_prior.ipynb",
   "parameters": {
    "func_name": "Log_uniform_prior",
    "positive_prior": true
   },
   "start_time": "2022-09-29T17:47:16.412006",
   "version": "2.4.0"
  }
 },
 "nbformat": 4,
 "nbformat_minor": 5
}
