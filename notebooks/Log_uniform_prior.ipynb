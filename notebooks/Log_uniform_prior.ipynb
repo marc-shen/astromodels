{
 "cells": [
  {
   "cell_type": "markdown",
   "id": "2fbace29",
   "metadata": {
    "papermill": {
     "duration": 0.004954,
     "end_time": "2022-09-27T12:56:06.593102",
     "exception": false,
     "start_time": "2022-09-27T12:56:06.588148",
     "status": "completed"
    },
    "tags": []
   },
   "source": [
    "# Log uniform prior"
   ]
  },
  {
   "cell_type": "code",
   "execution_count": 1,
   "id": "57fd335e",
   "metadata": {
    "execution": {
     "iopub.execute_input": "2022-09-27T12:56:06.601669Z",
     "iopub.status.busy": "2022-09-27T12:56:06.601129Z",
     "iopub.status.idle": "2022-09-27T12:56:10.452683Z",
     "shell.execute_reply": "2022-09-27T12:56:10.451553Z"
    },
    "nbsphinx": "hidden",
    "papermill": {
     "duration": 3.859646,
     "end_time": "2022-09-27T12:56:10.456140",
     "exception": false,
     "start_time": "2022-09-27T12:56:06.596494",
     "status": "completed"
    },
    "tags": []
   },
   "outputs": [],
   "source": [
    "%%capture\n",
    "\n",
    "import numpy as np\n",
    "\n",
    "import matplotlib.pyplot as plt\n",
    "\n",
    "import warnings\n",
    "warnings.simplefilter(\"ignore\")\n",
    "\n",
    "from astromodels.functions.function import _known_functions\n",
    "\n",
    "\n",
    "from jupyterthemes import jtplot\n",
    "jtplot.style(context=\"talk\", fscale=1, ticks=True, grid=False)\n",
    "%matplotlib inline"
   ]
  },
  {
   "cell_type": "code",
   "execution_count": 2,
   "id": "c0076bee",
   "metadata": {
    "execution": {
     "iopub.execute_input": "2022-09-27T12:56:10.466552Z",
     "iopub.status.busy": "2022-09-27T12:56:10.466045Z",
     "iopub.status.idle": "2022-09-27T12:56:10.472301Z",
     "shell.execute_reply": "2022-09-27T12:56:10.471011Z"
    },
    "nbsphinx": "hidden",
    "papermill": {
     "duration": 0.015594,
     "end_time": "2022-09-27T12:56:10.476747",
     "exception": false,
     "start_time": "2022-09-27T12:56:10.461153",
     "status": "completed"
    },
    "tags": [
     "parameters"
    ]
   },
   "outputs": [],
   "source": [
    "func_name = \"TbAbs\"\n",
    "\n",
    "positive_prior = False\n"
   ]
  },
  {
   "cell_type": "code",
   "execution_count": 3,
   "id": "f939be2b",
   "metadata": {
    "execution": {
     "iopub.execute_input": "2022-09-27T12:56:10.485963Z",
     "iopub.status.busy": "2022-09-27T12:56:10.485513Z",
     "iopub.status.idle": "2022-09-27T12:56:10.493250Z",
     "shell.execute_reply": "2022-09-27T12:56:10.491920Z"
    },
    "papermill": {
     "duration": 0.016092,
     "end_time": "2022-09-27T12:56:10.496328",
     "exception": false,
     "start_time": "2022-09-27T12:56:10.480236",
     "status": "completed"
    },
    "tags": [
     "injected-parameters"
    ]
   },
   "outputs": [],
   "source": [
    "# Parameters\n",
    "func_name = \"Log_uniform_prior\"\n",
    "positive_prior = False\n"
   ]
  },
  {
   "cell_type": "code",
   "execution_count": 4,
   "id": "48a50c85",
   "metadata": {
    "execution": {
     "iopub.execute_input": "2022-09-27T12:56:10.507341Z",
     "iopub.status.busy": "2022-09-27T12:56:10.506739Z",
     "iopub.status.idle": "2022-09-27T12:56:10.518555Z",
     "shell.execute_reply": "2022-09-27T12:56:10.517330Z"
    },
    "lines_to_next_cell": 0,
    "nbsphinx": "hidden",
    "papermill": {
     "duration": 0.022285,
     "end_time": "2022-09-27T12:56:10.521879",
     "exception": false,
     "start_time": "2022-09-27T12:56:10.499594",
     "status": "completed"
    },
    "tags": []
   },
   "outputs": [],
   "source": [
    "func = _known_functions[func_name]()\n",
    "\n",
    "if not positive_prior:\n",
    "\n",
    "\tenergy_grid = np.linspace(-5,5,1000)\n",
    "\n",
    "else:\n",
    "    \n",
    "    energy_grid = np.linspace(0,1,1000)\n",
    "    \n",
    "    \n",
    "    \n",
    "    \n",
    "blue = \"#4152E3\"\n",
    "red = \"#E3414B\"\n",
    "green = \"#41E39E\""
   ]
  },
  {
   "cell_type": "markdown",
   "id": "4753cab5",
   "metadata": {
    "lines_to_next_cell": 0,
    "papermill": {
     "duration": 0.003207,
     "end_time": "2022-09-27T12:56:10.528042",
     "exception": false,
     "start_time": "2022-09-27T12:56:10.524835",
     "status": "completed"
    },
    "tags": []
   },
   "source": [
    "## Description"
   ]
  },
  {
   "cell_type": "code",
   "execution_count": 5,
   "id": "81ac04a3",
   "metadata": {
    "execution": {
     "iopub.execute_input": "2022-09-27T12:56:10.537033Z",
     "iopub.status.busy": "2022-09-27T12:56:10.536623Z",
     "iopub.status.idle": "2022-09-27T12:56:10.549720Z",
     "shell.execute_reply": "2022-09-27T12:56:10.548644Z"
    },
    "papermill": {
     "duration": 0.024246,
     "end_time": "2022-09-27T12:56:10.555765",
     "exception": false,
     "start_time": "2022-09-27T12:56:10.531519",
     "status": "completed"
    },
    "tags": []
   },
   "outputs": [
    {
     "data": {
      "text/html": [
       "<ul>\n",
       "\n",
       "<li>description: A function which is K/x on the interval lower_bound - upper_bound and 0 outside the interval. The extremes of the interval are NOT counted as part of the interval. Lower_bound must be >= 0.</li>\n",
       "\n",
       "<li>formula: $ f(x)=K~\\begin{cases}0 & x \\le \\text{lower_bound} \\\\\\frac{1}{x} & \\text{lower_bound} < x < \\text{upper_bound} \\\\ 0 & x \\ge \\text{upper_bound} \\end{cases}$</li>\n",
       "\n",
       "<li>parameters: \n",
       "<ul>\n",
       "\n",
       "<li>lower_bound: \n",
       "<ul>\n",
       "\n",
       "<li>value: 1e-20</li>\n",
       "\n",
       "<li>desc: Lower bound for the interval</li>\n",
       "\n",
       "<li>min_value: 1e-30</li>\n",
       "\n",
       "<li>max_value: inf</li>\n",
       "\n",
       "<li>unit: </li>\n",
       "\n",
       "<li>is_normalization: False</li>\n",
       "\n",
       "<li>delta: 1e-21</li>\n",
       "\n",
       "<li>free: True</li>\n",
       "\n",
       "</ul>\n",
       "\n",
       "</li>\n",
       "\n",
       "<li>upper_bound: \n",
       "<ul>\n",
       "\n",
       "<li>value: 100.0</li>\n",
       "\n",
       "<li>desc: Upper bound for the interval</li>\n",
       "\n",
       "<li>min_value: 1e-30</li>\n",
       "\n",
       "<li>max_value: inf</li>\n",
       "\n",
       "<li>unit: </li>\n",
       "\n",
       "<li>is_normalization: False</li>\n",
       "\n",
       "<li>delta: 10.0</li>\n",
       "\n",
       "<li>free: True</li>\n",
       "\n",
       "</ul>\n",
       "\n",
       "</li>\n",
       "\n",
       "<li>K: \n",
       "<ul>\n",
       "\n",
       "<li>value: 1.0</li>\n",
       "\n",
       "<li>desc: Normalization</li>\n",
       "\n",
       "<li>min_value: None</li>\n",
       "\n",
       "<li>max_value: None</li>\n",
       "\n",
       "<li>unit: </li>\n",
       "\n",
       "<li>is_normalization: False</li>\n",
       "\n",
       "<li>delta: 0.1</li>\n",
       "\n",
       "<li>free: False</li>\n",
       "\n",
       "</ul>\n",
       "\n",
       "</li>\n",
       "\n",
       "</ul>\n",
       "\n",
       "</li>\n",
       "\n",
       "</ul>\n"
      ],
      "text/plain": [
       "  * description: A function which is K/x on the interval lower_bound - upper_bound and\n",
       "    * 0 outside the interval. The extremes of the interval are NOT counted as part of\n",
       "    * the interval. Lower_bound must be >= 0.\n",
       "  * formula: $ f(x)=K~\\begin{cases}0 & x \\le \\text{lower_bound} \\\\\\frac{1}{x} & \\text{lower_bound}\n",
       "    * < x < \\text{upper_bound} \\\\ 0 & x \\ge \\text{upper_bound} \\end{cases}$\n",
       "  * parameters:\n",
       "    * lower_bound:\n",
       "      * value: 1.0e-20\n",
       "      * desc: Lower bound for the interval\n",
       "      * min_value: 1.0e-30\n",
       "      * max_value: .inf\n",
       "      * unit: ''\n",
       "      * is_normalization: false\n",
       "      * delta: 1.0e-21\n",
       "      * free: true\n",
       "    * upper_bound:\n",
       "      * value: 100.0\n",
       "      * desc: Upper bound for the interval\n",
       "      * min_value: 1.0e-30\n",
       "      * max_value: .inf\n",
       "      * unit: ''\n",
       "      * is_normalization: false\n",
       "      * delta: 10.0\n",
       "      * free: true\n",
       "    * K:\n",
       "      * value: 1.0\n",
       "      * desc: Normalization\n",
       "      * min_value: null\n",
       "      * max_value: null\n",
       "      * unit: ''\n",
       "      * is_normalization: false\n",
       "      * delta: 0.1\n",
       "      * free: false"
      ]
     },
     "metadata": {},
     "output_type": "display_data"
    }
   ],
   "source": [
    "func.display()"
   ]
  },
  {
   "cell_type": "markdown",
   "id": "c3df17be",
   "metadata": {
    "papermill": {
     "duration": 0.003479,
     "end_time": "2022-09-27T12:56:10.562571",
     "exception": false,
     "start_time": "2022-09-27T12:56:10.559092",
     "status": "completed"
    },
    "tags": []
   },
   "source": [
    "## Shape \n",
    "\n",
    "The shape of the function. \n",
    "\n",
    "*If this is not a photon model but a prior or linear function then ignore the units as these docs are auto-generated*"
   ]
  },
  {
   "cell_type": "code",
   "execution_count": 6,
   "id": "3e1968e2",
   "metadata": {
    "execution": {
     "iopub.execute_input": "2022-09-27T12:56:10.571305Z",
     "iopub.status.busy": "2022-09-27T12:56:10.570897Z",
     "iopub.status.idle": "2022-09-27T12:56:10.963114Z",
     "shell.execute_reply": "2022-09-27T12:56:10.961768Z"
    },
    "papermill": {
     "duration": 0.400644,
     "end_time": "2022-09-27T12:56:10.966592",
     "exception": false,
     "start_time": "2022-09-27T12:56:10.565948",
     "status": "completed"
    },
    "tags": [
     "nbsphinx-thumbnail"
    ]
   },
   "outputs": [
    {
     "data": {
      "text/plain": [
       "Text(0, 0.5, 'probability')"
      ]
     },
     "execution_count": 6,
     "metadata": {},
     "output_type": "execute_result"
    },
    {
     "data": {
      "image/png": "[encoded data removed]",
      "text/plain": [
       "<Figure size 1040x910 with 1 Axes>"
      ]
     },
     "metadata": {},
     "output_type": "display_data"
    }
   ],
   "source": [
    "fig, ax = plt.subplots()\n",
    "\n",
    "\n",
    "ax.plot(energy_grid, func(energy_grid), color=blue, lw=3)\n",
    "\n",
    "ax.set_xlabel(\"x\")\n",
    "ax.set_ylabel(\"probability\")\n"
   ]
  },
  {
   "cell_type": "markdown",
   "id": "1be4830f",
   "metadata": {
    "papermill": {
     "duration": 0.004261,
     "end_time": "2022-09-27T12:56:10.974965",
     "exception": false,
     "start_time": "2022-09-27T12:56:10.970704",
     "status": "completed"
    },
    "tags": []
   },
   "source": [
    "## Random Number Generation\n",
    "\n",
    "This is how we can generate random numbers from the prior.\n"
   ]
  },
  {
   "cell_type": "code",
   "execution_count": 7,
   "id": "33ba7b92",
   "metadata": {
    "execution": {
     "iopub.execute_input": "2022-09-27T12:56:10.984201Z",
     "iopub.status.busy": "2022-09-27T12:56:10.983732Z",
     "iopub.status.idle": "2022-09-27T12:56:11.357961Z",
     "shell.execute_reply": "2022-09-27T12:56:11.356962Z"
    },
    "papermill": {
     "duration": 0.382748,
     "end_time": "2022-09-27T12:56:11.361259",
     "exception": false,
     "start_time": "2022-09-27T12:56:10.978511",
     "status": "completed"
    },
    "tags": []
   },
   "outputs": [
    {
     "data": {
      "text/plain": [
       "Text(0, 0.5, 'N')"
      ]
     },
     "execution_count": 7,
     "metadata": {},
     "output_type": "execute_result"
    },
    {
     "data": {
      "image/png": "[encoded data removed]",
      "text/plain": [
       "<Figure size 1040x910 with 1 Axes>"
      ]
     },
     "metadata": {},
     "output_type": "display_data"
    }
   ],
   "source": [
    "\n",
    "\n",
    "u = np.random.uniform(0,1, size=5000)\n",
    "\n",
    "draws = [func.from_unit_cube(x) for x in u]\n",
    "\n",
    "\n",
    "fig, ax = plt.subplots()\n",
    "\n",
    "\n",
    "ax.hist(draws, color=green, bins=50)\n",
    "\n",
    "ax.set_xlabel(\"value\")\n",
    "ax.set_ylabel(\"N\")\n",
    "\n"
   ]
  }
 ],
 "metadata": {
  "jupytext": {
   "formats": "ipynb,md"
  },
  "kernelspec": {
   "display_name": "Python 3 (ipykernel)",
   "language": "python",
   "name": "python3"
  },
  "language_info": {
   "codemirror_mode": {
    "name": "ipython",
    "version": 3
   },
   "file_extension": ".py",
   "mimetype": "text/x-python",
   "name": "python",
   "nbconvert_exporter": "python",
   "pygments_lexer": "ipython3",
   "version": "3.9.14"
  },
  "papermill": {
   "default_parameters": {},
   "duration": 6.771659,
   "end_time": "2022-09-27T12:56:12.066762",
   "environment_variables": {},
   "exception": null,
   "input_path": "Log_uniform_prior.ipynb",
   "output_path": "/Users/runner/work/astromodels/astromodels/docs/notebooks/Log_uniform_prior.ipynb",
   "parameters": {
    "func_name": "Log_uniform_prior",
    "positive_prior": false
   },
   "start_time": "2022-09-27T12:56:05.295103",
   "version": "2.4.0"
  }
 },
 "nbformat": 4,
 "nbformat_minor": 5
}
