{
 "cells": [
  {
   "cell_type": "markdown",
   "id": "c54745aa",
   "metadata": {
    "papermill": {
     "duration": 0.004005,
     "end_time": "2023-11-01T20:53:30.118492",
     "exception": false,
     "start_time": "2023-11-01T20:53:30.114487",
     "status": "completed"
    },
    "tags": []
   },
   "source": [
    "# Log uniform prior"
   ]
  },
  {
   "cell_type": "code",
   "execution_count": 1,
   "id": "f0c30345",
   "metadata": {
    "execution": {
     "iopub.execute_input": "2023-11-01T20:53:30.125714Z",
     "iopub.status.busy": "2023-11-01T20:53:30.125354Z",
     "iopub.status.idle": "2023-11-01T20:53:32.949118Z",
     "shell.execute_reply": "2023-11-01T20:53:32.947553Z"
    },
    "nbsphinx": "hidden",
    "papermill": {
     "duration": 2.831994,
     "end_time": "2023-11-01T20:53:32.953263",
     "exception": false,
     "start_time": "2023-11-01T20:53:30.121269",
     "status": "completed"
    },
    "tags": []
   },
   "outputs": [],
   "source": [
    "%%capture\n",
    "\n",
    "import numpy as np\n",
    "\n",
    "import matplotlib.pyplot as plt\n",
    "\n",
    "import warnings\n",
    "warnings.simplefilter(\"ignore\")\n",
    "\n",
    "from astromodels.functions.function import _known_functions\n",
    "\n",
    "\n",
    "from jupyterthemes import jtplot\n",
    "jtplot.style(context=\"talk\", fscale=1, ticks=True, grid=False)\n",
    "%matplotlib inline"
   ]
  },
  {
   "cell_type": "code",
   "execution_count": 2,
   "id": "1e959fa6",
   "metadata": {
    "execution": {
     "iopub.execute_input": "2023-11-01T20:53:32.961092Z",
     "iopub.status.busy": "2023-11-01T20:53:32.960676Z",
     "iopub.status.idle": "2023-11-01T20:53:32.967173Z",
     "shell.execute_reply": "2023-11-01T20:53:32.965869Z"
    },
    "nbsphinx": "hidden",
    "papermill": {
     "duration": 0.014946,
     "end_time": "2023-11-01T20:53:32.971096",
     "exception": false,
     "start_time": "2023-11-01T20:53:32.956150",
     "status": "completed"
    },
    "tags": [
     "parameters"
    ]
   },
   "outputs": [],
   "source": [
    "func_name = \"TbAbs\"\n",
    "\n",
    "positive_prior = False\n"
   ]
  },
  {
   "cell_type": "code",
   "execution_count": 3,
   "id": "95d80c14",
   "metadata": {
    "execution": {
     "iopub.execute_input": "2023-11-01T20:53:32.977685Z",
     "iopub.status.busy": "2023-11-01T20:53:32.977337Z",
     "iopub.status.idle": "2023-11-01T20:53:32.985013Z",
     "shell.execute_reply": "2023-11-01T20:53:32.983711Z"
    },
    "papermill": {
     "duration": 0.015456,
     "end_time": "2023-11-01T20:53:32.988964",
     "exception": false,
     "start_time": "2023-11-01T20:53:32.973508",
     "status": "completed"
    },
    "tags": [
     "injected-parameters"
    ]
   },
   "outputs": [],
   "source": [
    "# Parameters\n",
    "func_name = \"Log_uniform_prior\"\n",
    "positive_prior = True\n"
   ]
  },
  {
   "cell_type": "code",
   "execution_count": 4,
   "id": "fd6a5434",
   "metadata": {
    "execution": {
     "iopub.execute_input": "2023-11-01T20:53:32.995565Z",
     "iopub.status.busy": "2023-11-01T20:53:32.995224Z",
     "iopub.status.idle": "2023-11-01T20:53:33.002724Z",
     "shell.execute_reply": "2023-11-01T20:53:33.001142Z"
    },
    "lines_to_next_cell": 0,
    "nbsphinx": "hidden",
    "papermill": {
     "duration": 0.015578,
     "end_time": "2023-11-01T20:53:33.006993",
     "exception": false,
     "start_time": "2023-11-01T20:53:32.991415",
     "status": "completed"
    },
    "tags": []
   },
   "outputs": [],
   "source": [
    "func = _known_functions[func_name]()\n",
    "\n",
    "if not positive_prior:\n",
    "\n",
    "\tenergy_grid = np.linspace(-5,5,1000)\n",
    "\n",
    "else:\n",
    "    \n",
    "    energy_grid = np.linspace(0,1,1000)\n",
    "    \n",
    "    \n",
    "    \n",
    "    \n",
    "blue = \"#4152E3\"\n",
    "red = \"#E3414B\"\n",
    "green = \"#41E39E\""
   ]
  },
  {
   "cell_type": "markdown",
   "id": "361a0926",
   "metadata": {
    "lines_to_next_cell": 0,
    "papermill": {
     "duration": 0.002552,
     "end_time": "2023-11-01T20:53:33.012062",
     "exception": false,
     "start_time": "2023-11-01T20:53:33.009510",
     "status": "completed"
    },
    "tags": []
   },
   "source": [
    "## Description"
   ]
  },
  {
   "cell_type": "code",
   "execution_count": 5,
   "id": "584b896e",
   "metadata": {
    "execution": {
     "iopub.execute_input": "2023-11-01T20:53:33.018610Z",
     "iopub.status.busy": "2023-11-01T20:53:33.018266Z",
     "iopub.status.idle": "2023-11-01T20:53:33.030800Z",
     "shell.execute_reply": "2023-11-01T20:53:33.029302Z"
    },
    "papermill": {
     "duration": 0.0205,
     "end_time": "2023-11-01T20:53:33.034890",
     "exception": false,
     "start_time": "2023-11-01T20:53:33.014390",
     "status": "completed"
    },
    "tags": []
   },
   "outputs": [
    {
     "data": {
      "text/html": [
       "<ul>\n",
       "\n",
       "<li>description: A function which is K/x on the interval lower_bound - upper_bound and 0 outside the interval. The extremes of the interval are NOT counted as part of the interval. Lower_bound must be >= 0.</li>\n",
       "\n",
       "<li>formula: $ f(x)=K~\\begin{cases}0 & x \\le \\text{lower_bound} \\\\\\frac{1}{x} & \\text{lower_bound} < x < \\text{upper_bound} \\\\ 0 & x \\ge \\text{upper_bound} \\end{cases}$</li>\n",
       "\n",
       "<li>parameters: \n",
       "<ul>\n",
       "\n",
       "<li>lower_bound: \n",
       "<ul>\n",
       "\n",
       "<li>value: 1e-20</li>\n",
       "\n",
       "<li>desc: Lower bound for the interval</li>\n",
       "\n",
       "<li>min_value: 1e-30</li>\n",
       "\n",
       "<li>max_value: inf</li>\n",
       "\n",
       "<li>unit: </li>\n",
       "\n",
       "<li>is_normalization: False</li>\n",
       "\n",
       "<li>delta: 1e-21</li>\n",
       "\n",
       "<li>free: True</li>\n",
       "\n",
       "</ul>\n",
       "\n",
       "</li>\n",
       "\n",
       "<li>upper_bound: \n",
       "<ul>\n",
       "\n",
       "<li>value: 100.0</li>\n",
       "\n",
       "<li>desc: Upper bound for the interval</li>\n",
       "\n",
       "<li>min_value: 1e-30</li>\n",
       "\n",
       "<li>max_value: inf</li>\n",
       "\n",
       "<li>unit: </li>\n",
       "\n",
       "<li>is_normalization: False</li>\n",
       "\n",
       "<li>delta: 10.0</li>\n",
       "\n",
       "<li>free: True</li>\n",
       "\n",
       "</ul>\n",
       "\n",
       "</li>\n",
       "\n",
       "<li>K: \n",
       "<ul>\n",
       "\n",
       "<li>value: 1.0</li>\n",
       "\n",
       "<li>desc: Normalization</li>\n",
       "\n",
       "<li>min_value: None</li>\n",
       "\n",
       "<li>max_value: None</li>\n",
       "\n",
       "<li>unit: </li>\n",
       "\n",
       "<li>is_normalization: False</li>\n",
       "\n",
       "<li>delta: 0.1</li>\n",
       "\n",
       "<li>free: False</li>\n",
       "\n",
       "</ul>\n",
       "\n",
       "</li>\n",
       "\n",
       "</ul>\n",
       "\n",
       "</li>\n",
       "\n",
       "</ul>\n"
      ],
      "text/plain": [
       "  * description: A function which is K/x on the interval lower_bound - upper_bound and\n",
       "    * 0 outside the interval. The extremes of the interval are NOT counted as part of\n",
       "    * the interval. Lower_bound must be >= 0.\n",
       "  * formula: $ f(x)=K~\\begin{cases}0 & x \\le \\text{lower_bound} \\\\\\frac{1}{x} & \\text{lower_bound}\n",
       "    * < x < \\text{upper_bound} \\\\ 0 & x \\ge \\text{upper_bound} \\end{cases}$\n",
       "  * parameters:\n",
       "    * lower_bound:\n",
       "      * value: 1.0e-20\n",
       "      * desc: Lower bound for the interval\n",
       "      * min_value: 1.0e-30\n",
       "      * max_value: .inf\n",
       "      * unit: ''\n",
       "      * is_normalization: false\n",
       "      * delta: 1.0e-21\n",
       "      * free: true\n",
       "    * upper_bound:\n",
       "      * value: 100.0\n",
       "      * desc: Upper bound for the interval\n",
       "      * min_value: 1.0e-30\n",
       "      * max_value: .inf\n",
       "      * unit: ''\n",
       "      * is_normalization: false\n",
       "      * delta: 10.0\n",
       "      * free: true\n",
       "    * K:\n",
       "      * value: 1.0\n",
       "      * desc: Normalization\n",
       "      * min_value: null\n",
       "      * max_value: null\n",
       "      * unit: ''\n",
       "      * is_normalization: false\n",
       "      * delta: 0.1\n",
       "      * free: false"
      ]
     },
     "metadata": {},
     "output_type": "display_data"
    }
   ],
   "source": [
    "func.display()"
   ]
  },
  {
   "cell_type": "markdown",
   "id": "aa68b578",
   "metadata": {
    "papermill": {
     "duration": 0.002809,
     "end_time": "2023-11-01T20:53:33.040513",
     "exception": false,
     "start_time": "2023-11-01T20:53:33.037704",
     "status": "completed"
    },
    "tags": []
   },
   "source": [
    "## Shape \n",
    "\n",
    "The shape of the function. \n",
    "\n",
    "*If this is not a photon model but a prior or linear function then ignore the units as these docs are auto-generated*"
   ]
  },
  {
   "cell_type": "code",
   "execution_count": 6,
   "id": "d374bbf6",
   "metadata": {
    "execution": {
     "iopub.execute_input": "2023-11-01T20:53:33.047958Z",
     "iopub.status.busy": "2023-11-01T20:53:33.047584Z",
     "iopub.status.idle": "2023-11-01T20:53:33.269237Z",
     "shell.execute_reply": "2023-11-01T20:53:33.267988Z"
    },
    "papermill": {
     "duration": 0.230096,
     "end_time": "2023-11-01T20:53:33.273213",
     "exception": false,
     "start_time": "2023-11-01T20:53:33.043117",
     "status": "completed"
    },
    "tags": [
     "nbsphinx-thumbnail"
    ]
   },
   "outputs": [
    {
     "data": {
      "text/plain": [
       "Text(0, 0.5, 'probability')"
      ]
     },
     "execution_count": 6,
     "metadata": {},
     "output_type": "execute_result"
    },
    {
     "data": {
      "image/png": "[encoded data removed]",
      "text/plain": [
       "<Figure size 1040x910 with 1 Axes>"
      ]
     },
     "metadata": {},
     "output_type": "display_data"
    }
   ],
   "source": [
    "fig, ax = plt.subplots()\n",
    "\n",
    "\n",
    "ax.plot(energy_grid, func(energy_grid), color=blue, lw=3)\n",
    "\n",
    "ax.set_xlabel(\"x\")\n",
    "ax.set_ylabel(\"probability\")\n"
   ]
  },
  {
   "cell_type": "markdown",
   "id": "62ce5a6d",
   "metadata": {
    "papermill": {
     "duration": 0.003238,
     "end_time": "2023-11-01T20:53:33.280016",
     "exception": false,
     "start_time": "2023-11-01T20:53:33.276778",
     "status": "completed"
    },
    "tags": []
   },
   "source": [
    "## Random Number Generation\n",
    "\n",
    "This is how we can generate random numbers from the prior.\n"
   ]
  },
  {
   "cell_type": "code",
   "execution_count": 7,
   "id": "487c50b4",
   "metadata": {
    "execution": {
     "iopub.execute_input": "2023-11-01T20:53:33.288247Z",
     "iopub.status.busy": "2023-11-01T20:53:33.287878Z",
     "iopub.status.idle": "2023-11-01T20:53:33.551509Z",
     "shell.execute_reply": "2023-11-01T20:53:33.549575Z"
    },
    "papermill": {
     "duration": 0.273783,
     "end_time": "2023-11-01T20:53:33.556806",
     "exception": false,
     "start_time": "2023-11-01T20:53:33.283023",
     "status": "completed"
    },
    "tags": []
   },
   "outputs": [
    {
     "data": {
      "text/plain": [
       "Text(0, 0.5, 'N')"
      ]
     },
     "execution_count": 7,
     "metadata": {},
     "output_type": "execute_result"
    },
    {
     "data": {
      "image/png": "[encoded data removed]",
      "text/plain": [
       "<Figure size 1040x910 with 1 Axes>"
      ]
     },
     "metadata": {},
     "output_type": "display_data"
    }
   ],
   "source": [
    "\n",
    "\n",
    "u = np.random.uniform(0,1, size=5000)\n",
    "\n",
    "draws = [func.from_unit_cube(x) for x in u]\n",
    "\n",
    "\n",
    "fig, ax = plt.subplots()\n",
    "\n",
    "\n",
    "ax.hist(draws, color=green, bins=50)\n",
    "\n",
    "ax.set_xlabel(\"value\")\n",
    "ax.set_ylabel(\"N\")\n",
    "\n"
   ]
  }
 ],
 "metadata": {
  "jupytext": {
   "formats": "ipynb,md"
  },
  "kernelspec": {
   "display_name": "Python 3 (ipykernel)",
   "language": "python",
   "name": "python3"
  },
  "language_info": {
   "codemirror_mode": {
    "name": "ipython",
    "version": 3
   },
   "file_extension": ".py",
   "mimetype": "text/x-python",
   "name": "python",
   "nbconvert_exporter": "python",
   "pygments_lexer": "ipython3",
   "version": "3.9.18"
  },
  "papermill": {
   "default_parameters": {},
   "duration": 5.157407,
   "end_time": "2023-11-01T20:53:34.292065",
   "environment_variables": {},
   "exception": null,
   "input_path": "Log_uniform_prior.ipynb",
   "output_path": "/Users/runner/work/astromodels/astromodels/docs/notebooks/Log_uniform_prior.ipynb",
   "parameters": {
    "func_name": "Log_uniform_prior",
    "positive_prior": true
   },
   "start_time": "2023-11-01T20:53:29.134658",
   "version": "2.4.0"
  }
 },
 "nbformat": 4,
 "nbformat_minor": 5
}
