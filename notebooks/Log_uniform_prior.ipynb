{
 "cells": [
  {
   "cell_type": "markdown",
   "id": "37648e92",
   "metadata": {
    "papermill": {
     "duration": 0.004715,
     "end_time": "2022-10-05T19:26:54.818926",
     "exception": false,
     "start_time": "2022-10-05T19:26:54.814211",
     "status": "completed"
    },
    "tags": []
   },
   "source": [
    "# Log uniform prior"
   ]
  },
  {
   "cell_type": "code",
   "execution_count": 1,
   "id": "25fbe000",
   "metadata": {
    "execution": {
     "iopub.execute_input": "2022-10-05T19:26:54.827181Z",
     "iopub.status.busy": "2022-10-05T19:26:54.826738Z",
     "iopub.status.idle": "2022-10-05T19:27:00.035531Z",
     "shell.execute_reply": "2022-10-05T19:27:00.033022Z"
    },
    "nbsphinx": "hidden",
    "papermill": {
     "duration": 5.216739,
     "end_time": "2022-10-05T19:27:00.039056",
     "exception": false,
     "start_time": "2022-10-05T19:26:54.822317",
     "status": "completed"
    },
    "tags": []
   },
   "outputs": [],
   "source": [
    "%%capture\n",
    "\n",
    "import numpy as np\n",
    "\n",
    "import matplotlib.pyplot as plt\n",
    "\n",
    "import warnings\n",
    "warnings.simplefilter(\"ignore\")\n",
    "\n",
    "from astromodels.functions.function import _known_functions\n",
    "\n",
    "\n",
    "from jupyterthemes import jtplot\n",
    "jtplot.style(context=\"talk\", fscale=1, ticks=True, grid=False)\n",
    "%matplotlib inline"
   ]
  },
  {
   "cell_type": "code",
   "execution_count": 2,
   "id": "7254489d",
   "metadata": {
    "execution": {
     "iopub.execute_input": "2022-10-05T19:27:00.050025Z",
     "iopub.status.busy": "2022-10-05T19:27:00.049581Z",
     "iopub.status.idle": "2022-10-05T19:27:00.056464Z",
     "shell.execute_reply": "2022-10-05T19:27:00.055031Z"
    },
    "nbsphinx": "hidden",
    "papermill": {
     "duration": 0.016037,
     "end_time": "2022-10-05T19:27:00.059614",
     "exception": false,
     "start_time": "2022-10-05T19:27:00.043577",
     "status": "completed"
    },
    "tags": [
     "parameters"
    ]
   },
   "outputs": [],
   "source": [
    "func_name = \"TbAbs\"\n",
    "\n",
    "positive_prior = False\n"
   ]
  },
  {
   "cell_type": "code",
   "execution_count": 3,
   "id": "bbeac798",
   "metadata": {
    "execution": {
     "iopub.execute_input": "2022-10-05T19:27:00.068001Z",
     "iopub.status.busy": "2022-10-05T19:27:00.067584Z",
     "iopub.status.idle": "2022-10-05T19:27:00.074636Z",
     "shell.execute_reply": "2022-10-05T19:27:00.073441Z"
    },
    "papermill": {
     "duration": 0.015182,
     "end_time": "2022-10-05T19:27:00.077813",
     "exception": false,
     "start_time": "2022-10-05T19:27:00.062631",
     "status": "completed"
    },
    "tags": [
     "injected-parameters"
    ]
   },
   "outputs": [],
   "source": [
    "# Parameters\n",
    "func_name = \"Log_uniform_prior\"\n",
    "positive_prior = True\n"
   ]
  },
  {
   "cell_type": "code",
   "execution_count": 4,
   "id": "6d47f4d9",
   "metadata": {
    "execution": {
     "iopub.execute_input": "2022-10-05T19:27:00.086086Z",
     "iopub.status.busy": "2022-10-05T19:27:00.085679Z",
     "iopub.status.idle": "2022-10-05T19:27:00.096864Z",
     "shell.execute_reply": "2022-10-05T19:27:00.095718Z"
    },
    "lines_to_next_cell": 0,
    "nbsphinx": "hidden",
    "papermill": {
     "duration": 0.018716,
     "end_time": "2022-10-05T19:27:00.099850",
     "exception": false,
     "start_time": "2022-10-05T19:27:00.081134",
     "status": "completed"
    },
    "tags": []
   },
   "outputs": [],
   "source": [
    "func = _known_functions[func_name]()\n",
    "\n",
    "if not positive_prior:\n",
    "\n",
    "\tenergy_grid = np.linspace(-5,5,1000)\n",
    "\n",
    "else:\n",
    "    \n",
    "    energy_grid = np.linspace(0,1,1000)\n",
    "    \n",
    "    \n",
    "    \n",
    "    \n",
    "blue = \"#4152E3\"\n",
    "red = \"#E3414B\"\n",
    "green = \"#41E39E\""
   ]
  },
  {
   "cell_type": "markdown",
   "id": "b7be0c1d",
   "metadata": {
    "lines_to_next_cell": 0,
    "papermill": {
     "duration": 0.003376,
     "end_time": "2022-10-05T19:27:00.106411",
     "exception": false,
     "start_time": "2022-10-05T19:27:00.103035",
     "status": "completed"
    },
    "tags": []
   },
   "source": [
    "## Description"
   ]
  },
  {
   "cell_type": "code",
   "execution_count": 5,
   "id": "7bb65bc8",
   "metadata": {
    "execution": {
     "iopub.execute_input": "2022-10-05T19:27:00.122005Z",
     "iopub.status.busy": "2022-10-05T19:27:00.121596Z",
     "iopub.status.idle": "2022-10-05T19:27:00.136754Z",
     "shell.execute_reply": "2022-10-05T19:27:00.135600Z"
    },
    "papermill": {
     "duration": 0.025973,
     "end_time": "2022-10-05T19:27:00.139823",
     "exception": false,
     "start_time": "2022-10-05T19:27:00.113850",
     "status": "completed"
    },
    "tags": []
   },
   "outputs": [
    {
     "data": {
      "text/html": [
       "<ul>\n",
       "\n",
       "<li>description: A function which is K/x on the interval lower_bound - upper_bound and 0 outside the interval. The extremes of the interval are NOT counted as part of the interval. Lower_bound must be >= 0.</li>\n",
       "\n",
       "<li>formula: $ f(x)=K~\\begin{cases}0 & x \\le \\text{lower_bound} \\\\\\frac{1}{x} & \\text{lower_bound} < x < \\text{upper_bound} \\\\ 0 & x \\ge \\text{upper_bound} \\end{cases}$</li>\n",
       "\n",
       "<li>parameters: \n",
       "<ul>\n",
       "\n",
       "<li>lower_bound: \n",
       "<ul>\n",
       "\n",
       "<li>value: 1e-20</li>\n",
       "\n",
       "<li>desc: Lower bound for the interval</li>\n",
       "\n",
       "<li>min_value: 1e-30</li>\n",
       "\n",
       "<li>max_value: inf</li>\n",
       "\n",
       "<li>unit: </li>\n",
       "\n",
       "<li>is_normalization: False</li>\n",
       "\n",
       "<li>delta: 1e-21</li>\n",
       "\n",
       "<li>free: True</li>\n",
       "\n",
       "</ul>\n",
       "\n",
       "</li>\n",
       "\n",
       "<li>upper_bound: \n",
       "<ul>\n",
       "\n",
       "<li>value: 100.0</li>\n",
       "\n",
       "<li>desc: Upper bound for the interval</li>\n",
       "\n",
       "<li>min_value: 1e-30</li>\n",
       "\n",
       "<li>max_value: inf</li>\n",
       "\n",
       "<li>unit: </li>\n",
       "\n",
       "<li>is_normalization: False</li>\n",
       "\n",
       "<li>delta: 10.0</li>\n",
       "\n",
       "<li>free: True</li>\n",
       "\n",
       "</ul>\n",
       "\n",
       "</li>\n",
       "\n",
       "<li>K: \n",
       "<ul>\n",
       "\n",
       "<li>value: 1.0</li>\n",
       "\n",
       "<li>desc: Normalization</li>\n",
       "\n",
       "<li>min_value: None</li>\n",
       "\n",
       "<li>max_value: None</li>\n",
       "\n",
       "<li>unit: </li>\n",
       "\n",
       "<li>is_normalization: False</li>\n",
       "\n",
       "<li>delta: 0.1</li>\n",
       "\n",
       "<li>free: False</li>\n",
       "\n",
       "</ul>\n",
       "\n",
       "</li>\n",
       "\n",
       "</ul>\n",
       "\n",
       "</li>\n",
       "\n",
       "</ul>\n"
      ],
      "text/plain": [
       "  * description: A function which is K/x on the interval lower_bound - upper_bound and\n",
       "    * 0 outside the interval. The extremes of the interval are NOT counted as part of\n",
       "    * the interval. Lower_bound must be >= 0.\n",
       "  * formula: $ f(x)=K~\\begin{cases}0 & x \\le \\text{lower_bound} \\\\\\frac{1}{x} & \\text{lower_bound}\n",
       "    * < x < \\text{upper_bound} \\\\ 0 & x \\ge \\text{upper_bound} \\end{cases}$\n",
       "  * parameters:\n",
       "    * lower_bound:\n",
       "      * value: 1.0e-20\n",
       "      * desc: Lower bound for the interval\n",
       "      * min_value: 1.0e-30\n",
       "      * max_value: .inf\n",
       "      * unit: ''\n",
       "      * is_normalization: false\n",
       "      * delta: 1.0e-21\n",
       "      * free: true\n",
       "    * upper_bound:\n",
       "      * value: 100.0\n",
       "      * desc: Upper bound for the interval\n",
       "      * min_value: 1.0e-30\n",
       "      * max_value: .inf\n",
       "      * unit: ''\n",
       "      * is_normalization: false\n",
       "      * delta: 10.0\n",
       "      * free: true\n",
       "    * K:\n",
       "      * value: 1.0\n",
       "      * desc: Normalization\n",
       "      * min_value: null\n",
       "      * max_value: null\n",
       "      * unit: ''\n",
       "      * is_normalization: false\n",
       "      * delta: 0.1\n",
       "      * free: false"
      ]
     },
     "metadata": {},
     "output_type": "display_data"
    }
   ],
   "source": [
    "func.display()"
   ]
  },
  {
   "cell_type": "markdown",
   "id": "e77f3d74",
   "metadata": {
    "papermill": {
     "duration": 0.003459,
     "end_time": "2022-10-05T19:27:00.147099",
     "exception": false,
     "start_time": "2022-10-05T19:27:00.143640",
     "status": "completed"
    },
    "tags": []
   },
   "source": [
    "## Shape \n",
    "\n",
    "The shape of the function. \n",
    "\n",
    "*If this is not a photon model but a prior or linear function then ignore the units as these docs are auto-generated*"
   ]
  },
  {
   "cell_type": "code",
   "execution_count": 6,
   "id": "c77b3fe8",
   "metadata": {
    "execution": {
     "iopub.execute_input": "2022-10-05T19:27:00.156395Z",
     "iopub.status.busy": "2022-10-05T19:27:00.155642Z",
     "iopub.status.idle": "2022-10-05T19:27:00.447715Z",
     "shell.execute_reply": "2022-10-05T19:27:00.446517Z"
    },
    "papermill": {
     "duration": 0.304262,
     "end_time": "2022-10-05T19:27:00.454657",
     "exception": false,
     "start_time": "2022-10-05T19:27:00.150395",
     "status": "completed"
    },
    "tags": [
     "nbsphinx-thumbnail"
    ]
   },
   "outputs": [
    {
     "data": {
      "text/plain": [
       "Text(0, 0.5, 'probability')"
      ]
     },
     "execution_count": 6,
     "metadata": {},
     "output_type": "execute_result"
    },
    {
     "data": {
      "image/png": "[encoded data removed]",
      "text/plain": [
       "<Figure size 1040x910 with 1 Axes>"
      ]
     },
     "metadata": {},
     "output_type": "display_data"
    }
   ],
   "source": [
    "fig, ax = plt.subplots()\n",
    "\n",
    "\n",
    "ax.plot(energy_grid, func(energy_grid), color=blue, lw=3)\n",
    "\n",
    "ax.set_xlabel(\"x\")\n",
    "ax.set_ylabel(\"probability\")\n"
   ]
  },
  {
   "cell_type": "markdown",
   "id": "7565e0bb",
   "metadata": {
    "papermill": {
     "duration": 0.005727,
     "end_time": "2022-10-05T19:27:00.464593",
     "exception": false,
     "start_time": "2022-10-05T19:27:00.458866",
     "status": "completed"
    },
    "tags": []
   },
   "source": [
    "## Random Number Generation\n",
    "\n",
    "This is how we can generate random numbers from the prior.\n"
   ]
  },
  {
   "cell_type": "code",
   "execution_count": 7,
   "id": "76c59fce",
   "metadata": {
    "execution": {
     "iopub.execute_input": "2022-10-05T19:27:00.475501Z",
     "iopub.status.busy": "2022-10-05T19:27:00.475033Z",
     "iopub.status.idle": "2022-10-05T19:27:01.057088Z",
     "shell.execute_reply": "2022-10-05T19:27:01.055786Z"
    },
    "papermill": {
     "duration": 0.591784,
     "end_time": "2022-10-05T19:27:01.060512",
     "exception": false,
     "start_time": "2022-10-05T19:27:00.468728",
     "status": "completed"
    },
    "tags": []
   },
   "outputs": [
    {
     "data": {
      "text/plain": [
       "Text(0, 0.5, 'N')"
      ]
     },
     "execution_count": 7,
     "metadata": {},
     "output_type": "execute_result"
    },
    {
     "data": {
      "image/png": "[encoded data removed]",
      "text/plain": [
       "<Figure size 1040x910 with 1 Axes>"
      ]
     },
     "metadata": {},
     "output_type": "display_data"
    }
   ],
   "source": [
    "\n",
    "\n",
    "u = np.random.uniform(0,1, size=5000)\n",
    "\n",
    "draws = [func.from_unit_cube(x) for x in u]\n",
    "\n",
    "\n",
    "fig, ax = plt.subplots()\n",
    "\n",
    "\n",
    "ax.hist(draws, color=green, bins=50)\n",
    "\n",
    "ax.set_xlabel(\"value\")\n",
    "ax.set_ylabel(\"N\")\n",
    "\n"
   ]
  }
 ],
 "metadata": {
  "jupytext": {
   "formats": "ipynb,md"
  },
  "kernelspec": {
   "display_name": "Python 3 (ipykernel)",
   "language": "python",
   "name": "python3"
  },
  "language_info": {
   "codemirror_mode": {
    "name": "ipython",
    "version": 3
   },
   "file_extension": ".py",
   "mimetype": "text/x-python",
   "name": "python",
   "nbconvert_exporter": "python",
   "pygments_lexer": "ipython3",
   "version": "3.9.14"
  },
  "papermill": {
   "default_parameters": {},
   "duration": 8.477021,
   "end_time": "2022-10-05T19:27:01.849575",
   "environment_variables": {},
   "exception": null,
   "input_path": "Log_uniform_prior.ipynb",
   "output_path": "/Users/runner/work/astromodels/astromodels/docs/notebooks/Log_uniform_prior.ipynb",
   "parameters": {
    "func_name": "Log_uniform_prior",
    "positive_prior": true
   },
   "start_time": "2022-10-05T19:26:53.372554",
   "version": "2.4.0"
  }
 },
 "nbformat": 4,
 "nbformat_minor": 5
}
