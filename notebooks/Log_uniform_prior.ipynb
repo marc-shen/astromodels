{
 "cells": [
  {
   "cell_type": "markdown",
   "id": "dd971659",
   "metadata": {
    "papermill": {
     "duration": 0.00397,
     "end_time": "2022-09-27T10:43:18.060788",
     "exception": false,
     "start_time": "2022-09-27T10:43:18.056818",
     "status": "completed"
    },
    "tags": []
   },
   "source": [
    "# Log uniform prior"
   ]
  },
  {
   "cell_type": "code",
   "execution_count": 1,
   "id": "91b69cc3",
   "metadata": {
    "execution": {
     "iopub.execute_input": "2022-09-27T10:43:18.068629Z",
     "iopub.status.busy": "2022-09-27T10:43:18.068181Z",
     "iopub.status.idle": "2022-09-27T10:43:21.685729Z",
     "shell.execute_reply": "2022-09-27T10:43:21.684684Z"
    },
    "nbsphinx": "hidden",
    "papermill": {
     "duration": 3.625577,
     "end_time": "2022-09-27T10:43:21.689434",
     "exception": false,
     "start_time": "2022-09-27T10:43:18.063857",
     "status": "completed"
    },
    "tags": []
   },
   "outputs": [],
   "source": [
    "%%capture\n",
    "\n",
    "import numpy as np\n",
    "\n",
    "import matplotlib.pyplot as plt\n",
    "\n",
    "import warnings\n",
    "warnings.simplefilter(\"ignore\")\n",
    "\n",
    "from astromodels.functions.function import _known_functions\n",
    "\n",
    "\n",
    "from jupyterthemes import jtplot\n",
    "jtplot.style(context=\"talk\", fscale=1, ticks=True, grid=False)\n",
    "%matplotlib inline"
   ]
  },
  {
   "cell_type": "code",
   "execution_count": 2,
   "id": "098e9ba1",
   "metadata": {
    "execution": {
     "iopub.execute_input": "2022-09-27T10:43:21.702886Z",
     "iopub.status.busy": "2022-09-27T10:43:21.702294Z",
     "iopub.status.idle": "2022-09-27T10:43:21.710934Z",
     "shell.execute_reply": "2022-09-27T10:43:21.709820Z"
    },
    "nbsphinx": "hidden",
    "papermill": {
     "duration": 0.021496,
     "end_time": "2022-09-27T10:43:21.716850",
     "exception": false,
     "start_time": "2022-09-27T10:43:21.695354",
     "status": "completed"
    },
    "tags": [
     "parameters"
    ]
   },
   "outputs": [],
   "source": [
    "func_name = \"TbAbs\"\n",
    "\n",
    "positive_prior = False\n"
   ]
  },
  {
   "cell_type": "code",
   "execution_count": 3,
   "id": "50bafcc6",
   "metadata": {
    "execution": {
     "iopub.execute_input": "2022-09-27T10:43:21.724922Z",
     "iopub.status.busy": "2022-09-27T10:43:21.724511Z",
     "iopub.status.idle": "2022-09-27T10:43:21.732780Z",
     "shell.execute_reply": "2022-09-27T10:43:21.731802Z"
    },
    "papermill": {
     "duration": 0.015654,
     "end_time": "2022-09-27T10:43:21.735681",
     "exception": false,
     "start_time": "2022-09-27T10:43:21.720027",
     "status": "completed"
    },
    "tags": [
     "injected-parameters"
    ]
   },
   "outputs": [],
   "source": [
    "# Parameters\n",
    "func_name = \"Log_uniform_prior\"\n",
    "positive_prior = False\n"
   ]
  },
  {
   "cell_type": "code",
   "execution_count": 4,
   "id": "f41d8499",
   "metadata": {
    "execution": {
     "iopub.execute_input": "2022-09-27T10:43:21.743358Z",
     "iopub.status.busy": "2022-09-27T10:43:21.742947Z",
     "iopub.status.idle": "2022-09-27T10:43:21.753876Z",
     "shell.execute_reply": "2022-09-27T10:43:21.752660Z"
    },
    "lines_to_next_cell": 0,
    "nbsphinx": "hidden",
    "papermill": {
     "duration": 0.018178,
     "end_time": "2022-09-27T10:43:21.756829",
     "exception": false,
     "start_time": "2022-09-27T10:43:21.738651",
     "status": "completed"
    },
    "tags": []
   },
   "outputs": [],
   "source": [
    "func = _known_functions[func_name]()\n",
    "\n",
    "if not positive_prior:\n",
    "\n",
    "\tenergy_grid = np.linspace(-5,5,1000)\n",
    "\n",
    "else:\n",
    "    \n",
    "    energy_grid = np.linspace(0,1,1000)\n",
    "    \n",
    "    \n",
    "    \n",
    "    \n",
    "blue = \"#4152E3\"\n",
    "red = \"#E3414B\"\n",
    "green = \"#41E39E\""
   ]
  },
  {
   "cell_type": "markdown",
   "id": "aa9d825a",
   "metadata": {
    "lines_to_next_cell": 0,
    "papermill": {
     "duration": 0.002912,
     "end_time": "2022-09-27T10:43:21.763583",
     "exception": false,
     "start_time": "2022-09-27T10:43:21.760671",
     "status": "completed"
    },
    "tags": []
   },
   "source": [
    "## Description"
   ]
  },
  {
   "cell_type": "code",
   "execution_count": 5,
   "id": "b31d59ff",
   "metadata": {
    "execution": {
     "iopub.execute_input": "2022-09-27T10:43:21.771370Z",
     "iopub.status.busy": "2022-09-27T10:43:21.770531Z",
     "iopub.status.idle": "2022-09-27T10:43:21.781264Z",
     "shell.execute_reply": "2022-09-27T10:43:21.780316Z"
    },
    "papermill": {
     "duration": 0.0177,
     "end_time": "2022-09-27T10:43:21.784035",
     "exception": false,
     "start_time": "2022-09-27T10:43:21.766335",
     "status": "completed"
    },
    "tags": []
   },
   "outputs": [
    {
     "data": {
      "text/html": [
       "<ul>\n",
       "\n",
       "<li>description: A function which is K/x on the interval lower_bound - upper_bound and 0 outside the interval. The extremes of the interval are NOT counted as part of the interval. Lower_bound must be >= 0.</li>\n",
       "\n",
       "<li>formula: $ f(x)=K~\\begin{cases}0 & x \\le \\text{lower_bound} \\\\\\frac{1}{x} & \\text{lower_bound} < x < \\text{upper_bound} \\\\ 0 & x \\ge \\text{upper_bound} \\end{cases}$</li>\n",
       "\n",
       "<li>parameters: \n",
       "<ul>\n",
       "\n",
       "<li>lower_bound: \n",
       "<ul>\n",
       "\n",
       "<li>value: 1e-20</li>\n",
       "\n",
       "<li>desc: Lower bound for the interval</li>\n",
       "\n",
       "<li>min_value: 1e-30</li>\n",
       "\n",
       "<li>max_value: inf</li>\n",
       "\n",
       "<li>unit: </li>\n",
       "\n",
       "<li>is_normalization: False</li>\n",
       "\n",
       "<li>delta: 1e-21</li>\n",
       "\n",
       "<li>free: True</li>\n",
       "\n",
       "</ul>\n",
       "\n",
       "</li>\n",
       "\n",
       "<li>upper_bound: \n",
       "<ul>\n",
       "\n",
       "<li>value: 100.0</li>\n",
       "\n",
       "<li>desc: Upper bound for the interval</li>\n",
       "\n",
       "<li>min_value: 1e-30</li>\n",
       "\n",
       "<li>max_value: inf</li>\n",
       "\n",
       "<li>unit: </li>\n",
       "\n",
       "<li>is_normalization: False</li>\n",
       "\n",
       "<li>delta: 10.0</li>\n",
       "\n",
       "<li>free: True</li>\n",
       "\n",
       "</ul>\n",
       "\n",
       "</li>\n",
       "\n",
       "<li>K: \n",
       "<ul>\n",
       "\n",
       "<li>value: 1.0</li>\n",
       "\n",
       "<li>desc: Normalization</li>\n",
       "\n",
       "<li>min_value: None</li>\n",
       "\n",
       "<li>max_value: None</li>\n",
       "\n",
       "<li>unit: </li>\n",
       "\n",
       "<li>is_normalization: False</li>\n",
       "\n",
       "<li>delta: 0.1</li>\n",
       "\n",
       "<li>free: False</li>\n",
       "\n",
       "</ul>\n",
       "\n",
       "</li>\n",
       "\n",
       "</ul>\n",
       "\n",
       "</li>\n",
       "\n",
       "</ul>\n"
      ],
      "text/plain": [
       "  * description: A function which is K/x on the interval lower_bound - upper_bound and\n",
       "    * 0 outside the interval. The extremes of the interval are NOT counted as part of\n",
       "    * the interval. Lower_bound must be >= 0.\n",
       "  * formula: $ f(x)=K~\\begin{cases}0 & x \\le \\text{lower_bound} \\\\\\frac{1}{x} & \\text{lower_bound}\n",
       "    * < x < \\text{upper_bound} \\\\ 0 & x \\ge \\text{upper_bound} \\end{cases}$\n",
       "  * parameters:\n",
       "    * lower_bound:\n",
       "      * value: 1.0e-20\n",
       "      * desc: Lower bound for the interval\n",
       "      * min_value: 1.0e-30\n",
       "      * max_value: .inf\n",
       "      * unit: ''\n",
       "      * is_normalization: false\n",
       "      * delta: 1.0e-21\n",
       "      * free: true\n",
       "    * upper_bound:\n",
       "      * value: 100.0\n",
       "      * desc: Upper bound for the interval\n",
       "      * min_value: 1.0e-30\n",
       "      * max_value: .inf\n",
       "      * unit: ''\n",
       "      * is_normalization: false\n",
       "      * delta: 10.0\n",
       "      * free: true\n",
       "    * K:\n",
       "      * value: 1.0\n",
       "      * desc: Normalization\n",
       "      * min_value: null\n",
       "      * max_value: null\n",
       "      * unit: ''\n",
       "      * is_normalization: false\n",
       "      * delta: 0.1\n",
       "      * free: false"
      ]
     },
     "metadata": {},
     "output_type": "display_data"
    }
   ],
   "source": [
    "func.display()"
   ]
  },
  {
   "cell_type": "markdown",
   "id": "119c0cd9",
   "metadata": {
    "papermill": {
     "duration": 0.003247,
     "end_time": "2022-09-27T10:43:21.790654",
     "exception": false,
     "start_time": "2022-09-27T10:43:21.787407",
     "status": "completed"
    },
    "tags": []
   },
   "source": [
    "## Shape \n",
    "\n",
    "The shape of the function. \n",
    "\n",
    "*If this is not a photon model but a prior or linear function then ignore the units as these docs are auto-generated*"
   ]
  },
  {
   "cell_type": "code",
   "execution_count": 6,
   "id": "4f32e172",
   "metadata": {
    "execution": {
     "iopub.execute_input": "2022-09-27T10:43:21.798677Z",
     "iopub.status.busy": "2022-09-27T10:43:21.798283Z",
     "iopub.status.idle": "2022-09-27T10:43:22.172963Z",
     "shell.execute_reply": "2022-09-27T10:43:22.171988Z"
    },
    "papermill": {
     "duration": 0.382083,
     "end_time": "2022-09-27T10:43:22.175741",
     "exception": false,
     "start_time": "2022-09-27T10:43:21.793658",
     "status": "completed"
    },
    "tags": [
     "nbsphinx-thumbnail"
    ]
   },
   "outputs": [
    {
     "data": {
      "text/plain": [
       "Text(0, 0.5, 'probability')"
      ]
     },
     "execution_count": 6,
     "metadata": {},
     "output_type": "execute_result"
    },
    {
     "data": {
      "image/png": "[encoded data removed]",
      "text/plain": [
       "<Figure size 1040x910 with 1 Axes>"
      ]
     },
     "metadata": {},
     "output_type": "display_data"
    }
   ],
   "source": [
    "fig, ax = plt.subplots()\n",
    "\n",
    "\n",
    "ax.plot(energy_grid, func(energy_grid), color=blue, lw=3)\n",
    "\n",
    "ax.set_xlabel(\"x\")\n",
    "ax.set_ylabel(\"probability\")\n"
   ]
  },
  {
   "cell_type": "markdown",
   "id": "ad903271",
   "metadata": {
    "papermill": {
     "duration": 0.003547,
     "end_time": "2022-09-27T10:43:22.183154",
     "exception": false,
     "start_time": "2022-09-27T10:43:22.179607",
     "status": "completed"
    },
    "tags": []
   },
   "source": [
    "## Random Number Generation\n",
    "\n",
    "This is how we can generate random numbers from the prior.\n"
   ]
  },
  {
   "cell_type": "code",
   "execution_count": 7,
   "id": "44f7d6d8",
   "metadata": {
    "execution": {
     "iopub.execute_input": "2022-09-27T10:43:22.191481Z",
     "iopub.status.busy": "2022-09-27T10:43:22.191123Z",
     "iopub.status.idle": "2022-09-27T10:43:22.548097Z",
     "shell.execute_reply": "2022-09-27T10:43:22.546922Z"
    },
    "papermill": {
     "duration": 0.36471,
     "end_time": "2022-09-27T10:43:22.551149",
     "exception": false,
     "start_time": "2022-09-27T10:43:22.186439",
     "status": "completed"
    },
    "tags": []
   },
   "outputs": [
    {
     "data": {
      "text/plain": [
       "Text(0, 0.5, 'N')"
      ]
     },
     "execution_count": 7,
     "metadata": {},
     "output_type": "execute_result"
    },
    {
     "data": {
      "image/png": "[encoded data removed]",
      "text/plain": [
       "<Figure size 1040x910 with 1 Axes>"
      ]
     },
     "metadata": {},
     "output_type": "display_data"
    }
   ],
   "source": [
    "\n",
    "\n",
    "u = np.random.uniform(0,1, size=5000)\n",
    "\n",
    "draws = [func.from_unit_cube(x) for x in u]\n",
    "\n",
    "\n",
    "fig, ax = plt.subplots()\n",
    "\n",
    "\n",
    "ax.hist(draws, color=green, bins=50)\n",
    "\n",
    "ax.set_xlabel(\"value\")\n",
    "ax.set_ylabel(\"N\")\n",
    "\n"
   ]
  }
 ],
 "metadata": {
  "jupytext": {
   "formats": "ipynb,md"
  },
  "kernelspec": {
   "display_name": "Python 3 (ipykernel)",
   "language": "python",
   "name": "python3"
  },
  "language_info": {
   "codemirror_mode": {
    "name": "ipython",
    "version": 3
   },
   "file_extension": ".py",
   "mimetype": "text/x-python",
   "name": "python",
   "nbconvert_exporter": "python",
   "pygments_lexer": "ipython3",
   "version": "3.9.14"
  },
  "papermill": {
   "default_parameters": {},
   "duration": 6.324117,
   "end_time": "2022-09-27T10:43:23.211263",
   "environment_variables": {},
   "exception": null,
   "input_path": "Log_uniform_prior.ipynb",
   "output_path": "/Users/runner/work/astromodels/astromodels/docs/notebooks/Log_uniform_prior.ipynb",
   "parameters": {
    "func_name": "Log_uniform_prior",
    "positive_prior": false
   },
   "start_time": "2022-09-27T10:43:16.887146",
   "version": "2.4.0"
  }
 },
 "nbformat": 4,
 "nbformat_minor": 5
}
