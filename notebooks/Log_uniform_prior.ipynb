{
 "cells": [
  {
   "cell_type": "markdown",
   "id": "59598da5",
   "metadata": {
    "papermill": {
     "duration": 0.00374,
     "end_time": "2024-02-07T19:37:05.138549",
     "exception": false,
     "start_time": "2024-02-07T19:37:05.134809",
     "status": "completed"
    },
    "tags": []
   },
   "source": [
    "# Log uniform prior"
   ]
  },
  {
   "cell_type": "code",
   "execution_count": 1,
   "id": "9333f0b3",
   "metadata": {
    "execution": {
     "iopub.execute_input": "2024-02-07T19:37:05.147707Z",
     "iopub.status.busy": "2024-02-07T19:37:05.147121Z",
     "iopub.status.idle": "2024-02-07T19:37:09.648785Z",
     "shell.execute_reply": "2024-02-07T19:37:09.647237Z"
    },
    "nbsphinx": "hidden",
    "papermill": {
     "duration": 4.52093,
     "end_time": "2024-02-07T19:37:09.662757",
     "exception": false,
     "start_time": "2024-02-07T19:37:05.141827",
     "status": "completed"
    },
    "tags": []
   },
   "outputs": [],
   "source": [
    "%%capture\n",
    "\n",
    "import numpy as np\n",
    "\n",
    "import matplotlib.pyplot as plt\n",
    "\n",
    "import warnings\n",
    "warnings.simplefilter(\"ignore\")\n",
    "\n",
    "from astromodels.functions.function import _known_functions\n",
    "\n",
    "\n",
    "from jupyterthemes import jtplot\n",
    "jtplot.style(context=\"talk\", fscale=1, ticks=True, grid=False)\n",
    "%matplotlib inline"
   ]
  },
  {
   "cell_type": "code",
   "execution_count": 2,
   "id": "049da2db",
   "metadata": {
    "execution": {
     "iopub.execute_input": "2024-02-07T19:37:09.688197Z",
     "iopub.status.busy": "2024-02-07T19:37:09.687759Z",
     "iopub.status.idle": "2024-02-07T19:37:09.698339Z",
     "shell.execute_reply": "2024-02-07T19:37:09.696501Z"
    },
    "nbsphinx": "hidden",
    "papermill": {
     "duration": 0.024313,
     "end_time": "2024-02-07T19:37:09.703766",
     "exception": false,
     "start_time": "2024-02-07T19:37:09.679453",
     "status": "completed"
    },
    "tags": [
     "parameters"
    ]
   },
   "outputs": [],
   "source": [
    "func_name = \"TbAbs\"\n",
    "\n",
    "positive_prior = False\n"
   ]
  },
  {
   "cell_type": "code",
   "execution_count": 3,
   "id": "4769894d",
   "metadata": {
    "execution": {
     "iopub.execute_input": "2024-02-07T19:37:09.715239Z",
     "iopub.status.busy": "2024-02-07T19:37:09.714736Z",
     "iopub.status.idle": "2024-02-07T19:37:09.723042Z",
     "shell.execute_reply": "2024-02-07T19:37:09.720369Z"
    },
    "papermill": {
     "duration": 0.020785,
     "end_time": "2024-02-07T19:37:09.728538",
     "exception": false,
     "start_time": "2024-02-07T19:37:09.707753",
     "status": "completed"
    },
    "tags": [
     "injected-parameters"
    ]
   },
   "outputs": [],
   "source": [
    "# Parameters\n",
    "func_name = \"Log_uniform_prior\"\n",
    "positive_prior = True\n"
   ]
  },
  {
   "cell_type": "code",
   "execution_count": 4,
   "id": "8b146d7d",
   "metadata": {
    "execution": {
     "iopub.execute_input": "2024-02-07T19:37:09.738380Z",
     "iopub.status.busy": "2024-02-07T19:37:09.737880Z",
     "iopub.status.idle": "2024-02-07T19:37:09.747771Z",
     "shell.execute_reply": "2024-02-07T19:37:09.745916Z"
    },
    "lines_to_next_cell": 0,
    "nbsphinx": "hidden",
    "papermill": {
     "duration": 0.020882,
     "end_time": "2024-02-07T19:37:09.753252",
     "exception": false,
     "start_time": "2024-02-07T19:37:09.732370",
     "status": "completed"
    },
    "tags": []
   },
   "outputs": [],
   "source": [
    "func = _known_functions[func_name]()\n",
    "\n",
    "if not positive_prior:\n",
    "\n",
    "\tenergy_grid = np.linspace(-5,5,1000)\n",
    "\n",
    "else:\n",
    "    \n",
    "    energy_grid = np.linspace(0,1,1000)\n",
    "    \n",
    "    \n",
    "    \n",
    "    \n",
    "blue = \"#4152E3\"\n",
    "red = \"#E3414B\"\n",
    "green = \"#41E39E\""
   ]
  },
  {
   "cell_type": "markdown",
   "id": "e4598c9f",
   "metadata": {
    "lines_to_next_cell": 0,
    "papermill": {
     "duration": 0.004122,
     "end_time": "2024-02-07T19:37:09.760222",
     "exception": false,
     "start_time": "2024-02-07T19:37:09.756100",
     "status": "completed"
    },
    "tags": []
   },
   "source": [
    "## Description"
   ]
  },
  {
   "cell_type": "code",
   "execution_count": 5,
   "id": "a5b0d475",
   "metadata": {
    "execution": {
     "iopub.execute_input": "2024-02-07T19:37:09.768713Z",
     "iopub.status.busy": "2024-02-07T19:37:09.768000Z",
     "iopub.status.idle": "2024-02-07T19:37:09.788346Z",
     "shell.execute_reply": "2024-02-07T19:37:09.786305Z"
    },
    "papermill": {
     "duration": 0.030951,
     "end_time": "2024-02-07T19:37:09.794101",
     "exception": false,
     "start_time": "2024-02-07T19:37:09.763150",
     "status": "completed"
    },
    "tags": []
   },
   "outputs": [
    {
     "data": {
      "text/html": [
       "<ul>\n",
       "\n",
       "<li>description: A function which is K/x on the interval lower_bound - upper_bound and 0 outside the interval. The extremes of the interval are NOT counted as part of the interval. Lower_bound must be >= 0.</li>\n",
       "\n",
       "<li>formula: $ f(x)=K~\\begin{cases}0 & x \\le \\text{lower_bound} \\\\\\frac{1}{x} & \\text{lower_bound} < x < \\text{upper_bound} \\\\ 0 & x \\ge \\text{upper_bound} \\end{cases}$</li>\n",
       "\n",
       "<li>parameters: \n",
       "<ul>\n",
       "\n",
       "<li>lower_bound: \n",
       "<ul>\n",
       "\n",
       "<li>value: 1e-20</li>\n",
       "\n",
       "<li>desc: Lower bound for the interval</li>\n",
       "\n",
       "<li>min_value: 1e-30</li>\n",
       "\n",
       "<li>max_value: inf</li>\n",
       "\n",
       "<li>unit: </li>\n",
       "\n",
       "<li>is_normalization: False</li>\n",
       "\n",
       "<li>delta: 1e-21</li>\n",
       "\n",
       "<li>free: True</li>\n",
       "\n",
       "</ul>\n",
       "\n",
       "</li>\n",
       "\n",
       "<li>upper_bound: \n",
       "<ul>\n",
       "\n",
       "<li>value: 100.0</li>\n",
       "\n",
       "<li>desc: Upper bound for the interval</li>\n",
       "\n",
       "<li>min_value: 1e-30</li>\n",
       "\n",
       "<li>max_value: inf</li>\n",
       "\n",
       "<li>unit: </li>\n",
       "\n",
       "<li>is_normalization: False</li>\n",
       "\n",
       "<li>delta: 10.0</li>\n",
       "\n",
       "<li>free: True</li>\n",
       "\n",
       "</ul>\n",
       "\n",
       "</li>\n",
       "\n",
       "<li>K: \n",
       "<ul>\n",
       "\n",
       "<li>value: 1.0</li>\n",
       "\n",
       "<li>desc: Normalization</li>\n",
       "\n",
       "<li>min_value: None</li>\n",
       "\n",
       "<li>max_value: None</li>\n",
       "\n",
       "<li>unit: </li>\n",
       "\n",
       "<li>is_normalization: False</li>\n",
       "\n",
       "<li>delta: 0.1</li>\n",
       "\n",
       "<li>free: False</li>\n",
       "\n",
       "</ul>\n",
       "\n",
       "</li>\n",
       "\n",
       "</ul>\n",
       "\n",
       "</li>\n",
       "\n",
       "</ul>\n"
      ],
      "text/plain": [
       "  * description: A function which is K/x on the interval lower_bound - upper_bound and\n",
       "    * 0 outside the interval. The extremes of the interval are NOT counted as part of\n",
       "    * the interval. Lower_bound must be >= 0.\n",
       "  * formula: $ f(x)=K~\\begin{cases}0 & x \\le \\text{lower_bound} \\\\\\frac{1}{x} & \\text{lower_bound}\n",
       "    * < x < \\text{upper_bound} \\\\ 0 & x \\ge \\text{upper_bound} \\end{cases}$\n",
       "  * parameters:\n",
       "    * lower_bound:\n",
       "      * value: 1.0e-20\n",
       "      * desc: Lower bound for the interval\n",
       "      * min_value: 1.0e-30\n",
       "      * max_value: .inf\n",
       "      * unit: ''\n",
       "      * is_normalization: false\n",
       "      * delta: 1.0e-21\n",
       "      * free: true\n",
       "    * upper_bound:\n",
       "      * value: 100.0\n",
       "      * desc: Upper bound for the interval\n",
       "      * min_value: 1.0e-30\n",
       "      * max_value: .inf\n",
       "      * unit: ''\n",
       "      * is_normalization: false\n",
       "      * delta: 10.0\n",
       "      * free: true\n",
       "    * K:\n",
       "      * value: 1.0\n",
       "      * desc: Normalization\n",
       "      * min_value: null\n",
       "      * max_value: null\n",
       "      * unit: ''\n",
       "      * is_normalization: false\n",
       "      * delta: 0.1\n",
       "      * free: false"
      ]
     },
     "metadata": {},
     "output_type": "display_data"
    }
   ],
   "source": [
    "func.display()"
   ]
  },
  {
   "cell_type": "markdown",
   "id": "3c727726",
   "metadata": {
    "papermill": {
     "duration": 0.003605,
     "end_time": "2024-02-07T19:37:09.801070",
     "exception": false,
     "start_time": "2024-02-07T19:37:09.797465",
     "status": "completed"
    },
    "tags": []
   },
   "source": [
    "## Shape \n",
    "\n",
    "The shape of the function. \n",
    "\n",
    "*If this is not a photon model but a prior or linear function then ignore the units as these docs are auto-generated*"
   ]
  },
  {
   "cell_type": "code",
   "execution_count": 6,
   "id": "4f5b4e4d",
   "metadata": {
    "execution": {
     "iopub.execute_input": "2024-02-07T19:37:09.810228Z",
     "iopub.status.busy": "2024-02-07T19:37:09.809707Z",
     "iopub.status.idle": "2024-02-07T19:37:10.135448Z",
     "shell.execute_reply": "2024-02-07T19:37:10.132376Z"
    },
    "papermill": {
     "duration": 0.335902,
     "end_time": "2024-02-07T19:37:10.140419",
     "exception": false,
     "start_time": "2024-02-07T19:37:09.804517",
     "status": "completed"
    },
    "tags": [
     "nbsphinx-thumbnail"
    ]
   },
   "outputs": [
    {
     "data": {
      "text/plain": [
       "Text(0, 0.5, 'probability')"
      ]
     },
     "execution_count": 6,
     "metadata": {},
     "output_type": "execute_result"
    },
    {
     "data": {
      "image/png": "[encoded data removed]",
      "text/plain": [
       "<Figure size 1040x910 with 1 Axes>"
      ]
     },
     "metadata": {},
     "output_type": "display_data"
    }
   ],
   "source": [
    "fig, ax = plt.subplots()\n",
    "\n",
    "\n",
    "ax.plot(energy_grid, func(energy_grid), color=blue, lw=3)\n",
    "\n",
    "ax.set_xlabel(\"x\")\n",
    "ax.set_ylabel(\"probability\")\n"
   ]
  },
  {
   "cell_type": "markdown",
   "id": "525044a8",
   "metadata": {
    "papermill": {
     "duration": 0.054779,
     "end_time": "2024-02-07T19:37:10.199107",
     "exception": false,
     "start_time": "2024-02-07T19:37:10.144328",
     "status": "completed"
    },
    "tags": []
   },
   "source": [
    "## Random Number Generation\n",
    "\n",
    "This is how we can generate random numbers from the prior.\n"
   ]
  },
  {
   "cell_type": "code",
   "execution_count": 7,
   "id": "53efbaf0",
   "metadata": {
    "execution": {
     "iopub.execute_input": "2024-02-07T19:37:10.278784Z",
     "iopub.status.busy": "2024-02-07T19:37:10.275170Z",
     "iopub.status.idle": "2024-02-07T19:37:10.650367Z",
     "shell.execute_reply": "2024-02-07T19:37:10.648274Z"
    },
    "papermill": {
     "duration": 0.429327,
     "end_time": "2024-02-07T19:37:10.656022",
     "exception": false,
     "start_time": "2024-02-07T19:37:10.226695",
     "status": "completed"
    },
    "tags": []
   },
   "outputs": [
    {
     "data": {
      "text/plain": [
       "Text(0, 0.5, 'N')"
      ]
     },
     "execution_count": 7,
     "metadata": {},
     "output_type": "execute_result"
    },
    {
     "data": {
      "image/png": "[encoded data removed]",
      "text/plain": [
       "<Figure size 1040x910 with 1 Axes>"
      ]
     },
     "metadata": {},
     "output_type": "display_data"
    }
   ],
   "source": [
    "\n",
    "\n",
    "u = np.random.uniform(0,1, size=5000)\n",
    "\n",
    "draws = [func.from_unit_cube(x) for x in u]\n",
    "\n",
    "\n",
    "fig, ax = plt.subplots()\n",
    "\n",
    "\n",
    "ax.hist(draws, color=green, bins=50)\n",
    "\n",
    "ax.set_xlabel(\"value\")\n",
    "ax.set_ylabel(\"N\")\n",
    "\n"
   ]
  }
 ],
 "metadata": {
  "jupytext": {
   "formats": "ipynb,md"
  },
  "kernelspec": {
   "display_name": "Python 3 (ipykernel)",
   "language": "python",
   "name": "python3"
  },
  "language_info": {
   "codemirror_mode": {
    "name": "ipython",
    "version": 3
   },
   "file_extension": ".py",
   "mimetype": "text/x-python",
   "name": "python",
   "nbconvert_exporter": "python",
   "pygments_lexer": "ipython3",
   "version": "3.9.18"
  },
  "papermill": {
   "default_parameters": {},
   "duration": 7.202183,
   "end_time": "2024-02-07T19:37:11.295914",
   "environment_variables": {},
   "exception": null,
   "input_path": "Log_uniform_prior.ipynb",
   "output_path": "/Users/runner/work/astromodels/astromodels/docs/notebooks/Log_uniform_prior.ipynb",
   "parameters": {
    "func_name": "Log_uniform_prior",
    "positive_prior": true
   },
   "start_time": "2024-02-07T19:37:04.093731",
   "version": "2.5.0"
  }
 },
 "nbformat": 4,
 "nbformat_minor": 5
}
