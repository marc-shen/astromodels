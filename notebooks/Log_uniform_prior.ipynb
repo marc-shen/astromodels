{
 "cells": [
  {
   "cell_type": "markdown",
   "id": "0f3d085e",
   "metadata": {
    "papermill": {
     "duration": 0.003639,
     "end_time": "2023-11-01T01:15:13.062251",
     "exception": false,
     "start_time": "2023-11-01T01:15:13.058612",
     "status": "completed"
    },
    "tags": []
   },
   "source": [
    "# Log uniform prior"
   ]
  },
  {
   "cell_type": "code",
   "execution_count": 1,
   "id": "e96e6d8f",
   "metadata": {
    "execution": {
     "iopub.execute_input": "2023-11-01T01:15:13.071620Z",
     "iopub.status.busy": "2023-11-01T01:15:13.071117Z",
     "iopub.status.idle": "2023-11-01T01:15:16.809863Z",
     "shell.execute_reply": "2023-11-01T01:15:16.807866Z"
    },
    "nbsphinx": "hidden",
    "papermill": {
     "duration": 3.74963,
     "end_time": "2023-11-01T01:15:16.815816",
     "exception": false,
     "start_time": "2023-11-01T01:15:13.066186",
     "status": "completed"
    },
    "tags": []
   },
   "outputs": [],
   "source": [
    "%%capture\n",
    "\n",
    "import numpy as np\n",
    "\n",
    "import matplotlib.pyplot as plt\n",
    "\n",
    "import warnings\n",
    "warnings.simplefilter(\"ignore\")\n",
    "\n",
    "from astromodels.functions.function import _known_functions\n",
    "\n",
    "\n",
    "from jupyterthemes import jtplot\n",
    "jtplot.style(context=\"talk\", fscale=1, ticks=True, grid=False)\n",
    "%matplotlib inline"
   ]
  },
  {
   "cell_type": "code",
   "execution_count": 2,
   "id": "2f9023d4",
   "metadata": {
    "execution": {
     "iopub.execute_input": "2023-11-01T01:15:16.825112Z",
     "iopub.status.busy": "2023-11-01T01:15:16.824577Z",
     "iopub.status.idle": "2023-11-01T01:15:16.832495Z",
     "shell.execute_reply": "2023-11-01T01:15:16.830393Z"
    },
    "nbsphinx": "hidden",
    "papermill": {
     "duration": 0.019729,
     "end_time": "2023-11-01T01:15:16.838830",
     "exception": false,
     "start_time": "2023-11-01T01:15:16.819101",
     "status": "completed"
    },
    "tags": [
     "parameters"
    ]
   },
   "outputs": [],
   "source": [
    "func_name = \"TbAbs\"\n",
    "\n",
    "positive_prior = False\n"
   ]
  },
  {
   "cell_type": "code",
   "execution_count": 3,
   "id": "1524fbf3",
   "metadata": {
    "execution": {
     "iopub.execute_input": "2023-11-01T01:15:16.847038Z",
     "iopub.status.busy": "2023-11-01T01:15:16.846553Z",
     "iopub.status.idle": "2023-11-01T01:15:16.854918Z",
     "shell.execute_reply": "2023-11-01T01:15:16.852185Z"
    },
    "papermill": {
     "duration": 0.019342,
     "end_time": "2023-11-01T01:15:16.861156",
     "exception": false,
     "start_time": "2023-11-01T01:15:16.841814",
     "status": "completed"
    },
    "tags": [
     "injected-parameters"
    ]
   },
   "outputs": [],
   "source": [
    "# Parameters\n",
    "func_name = \"Log_uniform_prior\"\n",
    "positive_prior = True\n"
   ]
  },
  {
   "cell_type": "code",
   "execution_count": 4,
   "id": "550e6576",
   "metadata": {
    "execution": {
     "iopub.execute_input": "2023-11-01T01:15:16.869614Z",
     "iopub.status.busy": "2023-11-01T01:15:16.869195Z",
     "iopub.status.idle": "2023-11-01T01:15:16.880002Z",
     "shell.execute_reply": "2023-11-01T01:15:16.877201Z"
    },
    "lines_to_next_cell": 0,
    "nbsphinx": "hidden",
    "papermill": {
     "duration": 0.021554,
     "end_time": "2023-11-01T01:15:16.885739",
     "exception": false,
     "start_time": "2023-11-01T01:15:16.864185",
     "status": "completed"
    },
    "tags": []
   },
   "outputs": [],
   "source": [
    "func = _known_functions[func_name]()\n",
    "\n",
    "if not positive_prior:\n",
    "\n",
    "\tenergy_grid = np.linspace(-5,5,1000)\n",
    "\n",
    "else:\n",
    "    \n",
    "    energy_grid = np.linspace(0,1,1000)\n",
    "    \n",
    "    \n",
    "    \n",
    "    \n",
    "blue = \"#4152E3\"\n",
    "red = \"#E3414B\"\n",
    "green = \"#41E39E\""
   ]
  },
  {
   "cell_type": "markdown",
   "id": "5fd22128",
   "metadata": {
    "lines_to_next_cell": 0,
    "papermill": {
     "duration": 0.003201,
     "end_time": "2023-11-01T01:15:16.892056",
     "exception": false,
     "start_time": "2023-11-01T01:15:16.888855",
     "status": "completed"
    },
    "tags": []
   },
   "source": [
    "## Description"
   ]
  },
  {
   "cell_type": "code",
   "execution_count": 5,
   "id": "ec024600",
   "metadata": {
    "execution": {
     "iopub.execute_input": "2023-11-01T01:15:16.900991Z",
     "iopub.status.busy": "2023-11-01T01:15:16.900535Z",
     "iopub.status.idle": "2023-11-01T01:15:16.917441Z",
     "shell.execute_reply": "2023-11-01T01:15:16.915410Z"
    },
    "papermill": {
     "duration": 0.028884,
     "end_time": "2023-11-01T01:15:16.924008",
     "exception": false,
     "start_time": "2023-11-01T01:15:16.895124",
     "status": "completed"
    },
    "tags": []
   },
   "outputs": [
    {
     "data": {
      "text/html": [
       "<ul>\n",
       "\n",
       "<li>description: A function which is K/x on the interval lower_bound - upper_bound and 0 outside the interval. The extremes of the interval are NOT counted as part of the interval. Lower_bound must be >= 0.</li>\n",
       "\n",
       "<li>formula: $ f(x)=K~\\begin{cases}0 & x \\le \\text{lower_bound} \\\\\\frac{1}{x} & \\text{lower_bound} < x < \\text{upper_bound} \\\\ 0 & x \\ge \\text{upper_bound} \\end{cases}$</li>\n",
       "\n",
       "<li>parameters: \n",
       "<ul>\n",
       "\n",
       "<li>lower_bound: \n",
       "<ul>\n",
       "\n",
       "<li>value: 1e-20</li>\n",
       "\n",
       "<li>desc: Lower bound for the interval</li>\n",
       "\n",
       "<li>min_value: 1e-30</li>\n",
       "\n",
       "<li>max_value: inf</li>\n",
       "\n",
       "<li>unit: </li>\n",
       "\n",
       "<li>is_normalization: False</li>\n",
       "\n",
       "<li>delta: 1e-21</li>\n",
       "\n",
       "<li>free: True</li>\n",
       "\n",
       "</ul>\n",
       "\n",
       "</li>\n",
       "\n",
       "<li>upper_bound: \n",
       "<ul>\n",
       "\n",
       "<li>value: 100.0</li>\n",
       "\n",
       "<li>desc: Upper bound for the interval</li>\n",
       "\n",
       "<li>min_value: 1e-30</li>\n",
       "\n",
       "<li>max_value: inf</li>\n",
       "\n",
       "<li>unit: </li>\n",
       "\n",
       "<li>is_normalization: False</li>\n",
       "\n",
       "<li>delta: 10.0</li>\n",
       "\n",
       "<li>free: True</li>\n",
       "\n",
       "</ul>\n",
       "\n",
       "</li>\n",
       "\n",
       "<li>K: \n",
       "<ul>\n",
       "\n",
       "<li>value: 1.0</li>\n",
       "\n",
       "<li>desc: Normalization</li>\n",
       "\n",
       "<li>min_value: None</li>\n",
       "\n",
       "<li>max_value: None</li>\n",
       "\n",
       "<li>unit: </li>\n",
       "\n",
       "<li>is_normalization: False</li>\n",
       "\n",
       "<li>delta: 0.1</li>\n",
       "\n",
       "<li>free: False</li>\n",
       "\n",
       "</ul>\n",
       "\n",
       "</li>\n",
       "\n",
       "</ul>\n",
       "\n",
       "</li>\n",
       "\n",
       "</ul>\n"
      ],
      "text/plain": [
       "  * description: A function which is K/x on the interval lower_bound - upper_bound and\n",
       "    * 0 outside the interval. The extremes of the interval are NOT counted as part of\n",
       "    * the interval. Lower_bound must be >= 0.\n",
       "  * formula: $ f(x)=K~\\begin{cases}0 & x \\le \\text{lower_bound} \\\\\\frac{1}{x} & \\text{lower_bound}\n",
       "    * < x < \\text{upper_bound} \\\\ 0 & x \\ge \\text{upper_bound} \\end{cases}$\n",
       "  * parameters:\n",
       "    * lower_bound:\n",
       "      * value: 1.0e-20\n",
       "      * desc: Lower bound for the interval\n",
       "      * min_value: 1.0e-30\n",
       "      * max_value: .inf\n",
       "      * unit: ''\n",
       "      * is_normalization: false\n",
       "      * delta: 1.0e-21\n",
       "      * free: true\n",
       "    * upper_bound:\n",
       "      * value: 100.0\n",
       "      * desc: Upper bound for the interval\n",
       "      * min_value: 1.0e-30\n",
       "      * max_value: .inf\n",
       "      * unit: ''\n",
       "      * is_normalization: false\n",
       "      * delta: 10.0\n",
       "      * free: true\n",
       "    * K:\n",
       "      * value: 1.0\n",
       "      * desc: Normalization\n",
       "      * min_value: null\n",
       "      * max_value: null\n",
       "      * unit: ''\n",
       "      * is_normalization: false\n",
       "      * delta: 0.1\n",
       "      * free: false"
      ]
     },
     "metadata": {},
     "output_type": "display_data"
    }
   ],
   "source": [
    "func.display()"
   ]
  },
  {
   "cell_type": "markdown",
   "id": "5445615d",
   "metadata": {
    "papermill": {
     "duration": 0.003597,
     "end_time": "2023-11-01T01:15:16.932192",
     "exception": false,
     "start_time": "2023-11-01T01:15:16.928595",
     "status": "completed"
    },
    "tags": []
   },
   "source": [
    "## Shape \n",
    "\n",
    "The shape of the function. \n",
    "\n",
    "*If this is not a photon model but a prior or linear function then ignore the units as these docs are auto-generated*"
   ]
  },
  {
   "cell_type": "code",
   "execution_count": 6,
   "id": "f6215701",
   "metadata": {
    "execution": {
     "iopub.execute_input": "2023-11-01T01:15:16.943554Z",
     "iopub.status.busy": "2023-11-01T01:15:16.942878Z",
     "iopub.status.idle": "2023-11-01T01:15:17.225340Z",
     "shell.execute_reply": "2023-11-01T01:15:17.223461Z"
    },
    "papermill": {
     "duration": 0.295616,
     "end_time": "2023-11-01T01:15:17.231208",
     "exception": false,
     "start_time": "2023-11-01T01:15:16.935592",
     "status": "completed"
    },
    "tags": [
     "nbsphinx-thumbnail"
    ]
   },
   "outputs": [
    {
     "data": {
      "text/plain": [
       "Text(0, 0.5, 'probability')"
      ]
     },
     "execution_count": 6,
     "metadata": {},
     "output_type": "execute_result"
    },
    {
     "data": {
      "image/png": "[encoded data removed]",
      "text/plain": [
       "<Figure size 1040x910 with 1 Axes>"
      ]
     },
     "metadata": {},
     "output_type": "display_data"
    }
   ],
   "source": [
    "fig, ax = plt.subplots()\n",
    "\n",
    "\n",
    "ax.plot(energy_grid, func(energy_grid), color=blue, lw=3)\n",
    "\n",
    "ax.set_xlabel(\"x\")\n",
    "ax.set_ylabel(\"probability\")\n"
   ]
  },
  {
   "cell_type": "markdown",
   "id": "182c2192",
   "metadata": {
    "papermill": {
     "duration": 0.004114,
     "end_time": "2023-11-01T01:15:17.239540",
     "exception": false,
     "start_time": "2023-11-01T01:15:17.235426",
     "status": "completed"
    },
    "tags": []
   },
   "source": [
    "## Random Number Generation\n",
    "\n",
    "This is how we can generate random numbers from the prior.\n"
   ]
  },
  {
   "cell_type": "code",
   "execution_count": 7,
   "id": "1867681c",
   "metadata": {
    "execution": {
     "iopub.execute_input": "2023-11-01T01:15:17.251586Z",
     "iopub.status.busy": "2023-11-01T01:15:17.251133Z",
     "iopub.status.idle": "2023-11-01T01:15:17.672207Z",
     "shell.execute_reply": "2023-11-01T01:15:17.670300Z"
    },
    "papermill": {
     "duration": 0.435808,
     "end_time": "2023-11-01T01:15:17.679370",
     "exception": false,
     "start_time": "2023-11-01T01:15:17.243562",
     "status": "completed"
    },
    "tags": []
   },
   "outputs": [
    {
     "data": {
      "text/plain": [
       "Text(0, 0.5, 'N')"
      ]
     },
     "execution_count": 7,
     "metadata": {},
     "output_type": "execute_result"
    },
    {
     "data": {
      "image/png": "[encoded data removed]",
      "text/plain": [
       "<Figure size 1040x910 with 1 Axes>"
      ]
     },
     "metadata": {},
     "output_type": "display_data"
    }
   ],
   "source": [
    "\n",
    "\n",
    "u = np.random.uniform(0,1, size=5000)\n",
    "\n",
    "draws = [func.from_unit_cube(x) for x in u]\n",
    "\n",
    "\n",
    "fig, ax = plt.subplots()\n",
    "\n",
    "\n",
    "ax.hist(draws, color=green, bins=50)\n",
    "\n",
    "ax.set_xlabel(\"value\")\n",
    "ax.set_ylabel(\"N\")\n",
    "\n"
   ]
  }
 ],
 "metadata": {
  "jupytext": {
   "formats": "ipynb,md"
  },
  "kernelspec": {
   "display_name": "Python 3 (ipykernel)",
   "language": "python",
   "name": "python3"
  },
  "language_info": {
   "codemirror_mode": {
    "name": "ipython",
    "version": 3
   },
   "file_extension": ".py",
   "mimetype": "text/x-python",
   "name": "python",
   "nbconvert_exporter": "python",
   "pygments_lexer": "ipython3",
   "version": "3.9.18"
  },
  "papermill": {
   "default_parameters": {},
   "duration": 6.480058,
   "end_time": "2023-11-01T01:15:18.416851",
   "environment_variables": {},
   "exception": null,
   "input_path": "Log_uniform_prior.ipynb",
   "output_path": "/Users/runner/work/astromodels/astromodels/docs/notebooks/Log_uniform_prior.ipynb",
   "parameters": {
    "func_name": "Log_uniform_prior",
    "positive_prior": true
   },
   "start_time": "2023-11-01T01:15:11.936793",
   "version": "2.4.0"
  }
 },
 "nbformat": 4,
 "nbformat_minor": 5
}
