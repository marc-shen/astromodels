{
 "cells": [
  {
   "cell_type": "markdown",
   "id": "5741ac3e",
   "metadata": {
    "papermill": {
     "duration": 0.003573,
     "end_time": "2024-02-03T01:37:12.186829",
     "exception": false,
     "start_time": "2024-02-03T01:37:12.183256",
     "status": "completed"
    },
    "tags": []
   },
   "source": [
    "# Log uniform prior"
   ]
  },
  {
   "cell_type": "code",
   "execution_count": 1,
   "id": "4d9d1519",
   "metadata": {
    "execution": {
     "iopub.execute_input": "2024-02-03T01:37:12.193236Z",
     "iopub.status.busy": "2024-02-03T01:37:12.192855Z",
     "iopub.status.idle": "2024-02-03T01:37:14.675306Z",
     "shell.execute_reply": "2024-02-03T01:37:14.672052Z"
    },
    "nbsphinx": "hidden",
    "papermill": {
     "duration": 2.490168,
     "end_time": "2024-02-03T01:37:14.679465",
     "exception": false,
     "start_time": "2024-02-03T01:37:12.189297",
     "status": "completed"
    },
    "tags": []
   },
   "outputs": [],
   "source": [
    "%%capture\n",
    "\n",
    "import numpy as np\n",
    "\n",
    "import matplotlib.pyplot as plt\n",
    "\n",
    "import warnings\n",
    "warnings.simplefilter(\"ignore\")\n",
    "\n",
    "from astromodels.functions.function import _known_functions\n",
    "\n",
    "\n",
    "from jupyterthemes import jtplot\n",
    "jtplot.style(context=\"talk\", fscale=1, ticks=True, grid=False)\n",
    "%matplotlib inline"
   ]
  },
  {
   "cell_type": "code",
   "execution_count": 2,
   "id": "bb8256ac",
   "metadata": {
    "execution": {
     "iopub.execute_input": "2024-02-03T01:37:14.686800Z",
     "iopub.status.busy": "2024-02-03T01:37:14.686423Z",
     "iopub.status.idle": "2024-02-03T01:37:14.691402Z",
     "shell.execute_reply": "2024-02-03T01:37:14.689959Z"
    },
    "nbsphinx": "hidden",
    "papermill": {
     "duration": 0.013072,
     "end_time": "2024-02-03T01:37:14.695286",
     "exception": false,
     "start_time": "2024-02-03T01:37:14.682214",
     "status": "completed"
    },
    "tags": [
     "parameters"
    ]
   },
   "outputs": [],
   "source": [
    "func_name = \"TbAbs\"\n",
    "\n",
    "positive_prior = False\n"
   ]
  },
  {
   "cell_type": "code",
   "execution_count": 3,
   "id": "4153cec3",
   "metadata": {
    "execution": {
     "iopub.execute_input": "2024-02-03T01:37:14.701584Z",
     "iopub.status.busy": "2024-02-03T01:37:14.701249Z",
     "iopub.status.idle": "2024-02-03T01:37:14.709515Z",
     "shell.execute_reply": "2024-02-03T01:37:14.708284Z"
    },
    "papermill": {
     "duration": 0.015665,
     "end_time": "2024-02-03T01:37:14.713324",
     "exception": false,
     "start_time": "2024-02-03T01:37:14.697659",
     "status": "completed"
    },
    "tags": [
     "injected-parameters"
    ]
   },
   "outputs": [],
   "source": [
    "# Parameters\n",
    "func_name = \"Log_uniform_prior\"\n",
    "positive_prior = True\n"
   ]
  },
  {
   "cell_type": "code",
   "execution_count": 4,
   "id": "32730747",
   "metadata": {
    "execution": {
     "iopub.execute_input": "2024-02-03T01:37:14.719846Z",
     "iopub.status.busy": "2024-02-03T01:37:14.719437Z",
     "iopub.status.idle": "2024-02-03T01:37:14.726783Z",
     "shell.execute_reply": "2024-02-03T01:37:14.725661Z"
    },
    "lines_to_next_cell": 0,
    "nbsphinx": "hidden",
    "papermill": {
     "duration": 0.014451,
     "end_time": "2024-02-03T01:37:14.730159",
     "exception": false,
     "start_time": "2024-02-03T01:37:14.715708",
     "status": "completed"
    },
    "tags": []
   },
   "outputs": [],
   "source": [
    "func = _known_functions[func_name]()\n",
    "\n",
    "if not positive_prior:\n",
    "\n",
    "\tenergy_grid = np.linspace(-5,5,1000)\n",
    "\n",
    "else:\n",
    "    \n",
    "    energy_grid = np.linspace(0,1,1000)\n",
    "    \n",
    "    \n",
    "    \n",
    "    \n",
    "blue = \"#4152E3\"\n",
    "red = \"#E3414B\"\n",
    "green = \"#41E39E\""
   ]
  },
  {
   "cell_type": "markdown",
   "id": "c327d1bf",
   "metadata": {
    "lines_to_next_cell": 0,
    "papermill": {
     "duration": 0.002315,
     "end_time": "2024-02-03T01:37:14.734854",
     "exception": false,
     "start_time": "2024-02-03T01:37:14.732539",
     "status": "completed"
    },
    "tags": []
   },
   "source": [
    "## Description"
   ]
  },
  {
   "cell_type": "code",
   "execution_count": 5,
   "id": "2e1051e6",
   "metadata": {
    "execution": {
     "iopub.execute_input": "2024-02-03T01:37:14.740829Z",
     "iopub.status.busy": "2024-02-03T01:37:14.740493Z",
     "iopub.status.idle": "2024-02-03T01:37:14.751861Z",
     "shell.execute_reply": "2024-02-03T01:37:14.750547Z"
    },
    "papermill": {
     "duration": 0.018383,
     "end_time": "2024-02-03T01:37:14.755423",
     "exception": false,
     "start_time": "2024-02-03T01:37:14.737040",
     "status": "completed"
    },
    "tags": []
   },
   "outputs": [
    {
     "data": {
      "text/html": [
       "<ul>\n",
       "\n",
       "<li>description: A function which is K/x on the interval lower_bound - upper_bound and 0 outside the interval. The extremes of the interval are NOT counted as part of the interval. Lower_bound must be >= 0.</li>\n",
       "\n",
       "<li>formula: $ f(x)=K~\\begin{cases}0 & x \\le \\text{lower_bound} \\\\\\frac{1}{x} & \\text{lower_bound} < x < \\text{upper_bound} \\\\ 0 & x \\ge \\text{upper_bound} \\end{cases}$</li>\n",
       "\n",
       "<li>parameters: \n",
       "<ul>\n",
       "\n",
       "<li>lower_bound: \n",
       "<ul>\n",
       "\n",
       "<li>value: 1e-20</li>\n",
       "\n",
       "<li>desc: Lower bound for the interval</li>\n",
       "\n",
       "<li>min_value: 1e-30</li>\n",
       "\n",
       "<li>max_value: inf</li>\n",
       "\n",
       "<li>unit: </li>\n",
       "\n",
       "<li>is_normalization: False</li>\n",
       "\n",
       "<li>delta: 1e-21</li>\n",
       "\n",
       "<li>free: True</li>\n",
       "\n",
       "</ul>\n",
       "\n",
       "</li>\n",
       "\n",
       "<li>upper_bound: \n",
       "<ul>\n",
       "\n",
       "<li>value: 100.0</li>\n",
       "\n",
       "<li>desc: Upper bound for the interval</li>\n",
       "\n",
       "<li>min_value: 1e-30</li>\n",
       "\n",
       "<li>max_value: inf</li>\n",
       "\n",
       "<li>unit: </li>\n",
       "\n",
       "<li>is_normalization: False</li>\n",
       "\n",
       "<li>delta: 10.0</li>\n",
       "\n",
       "<li>free: True</li>\n",
       "\n",
       "</ul>\n",
       "\n",
       "</li>\n",
       "\n",
       "<li>K: \n",
       "<ul>\n",
       "\n",
       "<li>value: 1.0</li>\n",
       "\n",
       "<li>desc: Normalization</li>\n",
       "\n",
       "<li>min_value: None</li>\n",
       "\n",
       "<li>max_value: None</li>\n",
       "\n",
       "<li>unit: </li>\n",
       "\n",
       "<li>is_normalization: False</li>\n",
       "\n",
       "<li>delta: 0.1</li>\n",
       "\n",
       "<li>free: False</li>\n",
       "\n",
       "</ul>\n",
       "\n",
       "</li>\n",
       "\n",
       "</ul>\n",
       "\n",
       "</li>\n",
       "\n",
       "</ul>\n"
      ],
      "text/plain": [
       "  * description: A function which is K/x on the interval lower_bound - upper_bound and\n",
       "    * 0 outside the interval. The extremes of the interval are NOT counted as part of\n",
       "    * the interval. Lower_bound must be >= 0.\n",
       "  * formula: $ f(x)=K~\\begin{cases}0 & x \\le \\text{lower_bound} \\\\\\frac{1}{x} & \\text{lower_bound}\n",
       "    * < x < \\text{upper_bound} \\\\ 0 & x \\ge \\text{upper_bound} \\end{cases}$\n",
       "  * parameters:\n",
       "    * lower_bound:\n",
       "      * value: 1.0e-20\n",
       "      * desc: Lower bound for the interval\n",
       "      * min_value: 1.0e-30\n",
       "      * max_value: .inf\n",
       "      * unit: ''\n",
       "      * is_normalization: false\n",
       "      * delta: 1.0e-21\n",
       "      * free: true\n",
       "    * upper_bound:\n",
       "      * value: 100.0\n",
       "      * desc: Upper bound for the interval\n",
       "      * min_value: 1.0e-30\n",
       "      * max_value: .inf\n",
       "      * unit: ''\n",
       "      * is_normalization: false\n",
       "      * delta: 10.0\n",
       "      * free: true\n",
       "    * K:\n",
       "      * value: 1.0\n",
       "      * desc: Normalization\n",
       "      * min_value: null\n",
       "      * max_value: null\n",
       "      * unit: ''\n",
       "      * is_normalization: false\n",
       "      * delta: 0.1\n",
       "      * free: false"
      ]
     },
     "metadata": {},
     "output_type": "display_data"
    }
   ],
   "source": [
    "func.display()"
   ]
  },
  {
   "cell_type": "markdown",
   "id": "2adade2d",
   "metadata": {
    "papermill": {
     "duration": 0.002597,
     "end_time": "2024-02-03T01:37:14.760677",
     "exception": false,
     "start_time": "2024-02-03T01:37:14.758080",
     "status": "completed"
    },
    "tags": []
   },
   "source": [
    "## Shape \n",
    "\n",
    "The shape of the function. \n",
    "\n",
    "*If this is not a photon model but a prior or linear function then ignore the units as these docs are auto-generated*"
   ]
  },
  {
   "cell_type": "code",
   "execution_count": 6,
   "id": "3b870643",
   "metadata": {
    "execution": {
     "iopub.execute_input": "2024-02-03T01:37:14.767282Z",
     "iopub.status.busy": "2024-02-03T01:37:14.766903Z",
     "iopub.status.idle": "2024-02-03T01:37:14.986310Z",
     "shell.execute_reply": "2024-02-03T01:37:14.985087Z"
    },
    "papermill": {
     "duration": 0.226971,
     "end_time": "2024-02-03T01:37:14.990060",
     "exception": false,
     "start_time": "2024-02-03T01:37:14.763089",
     "status": "completed"
    },
    "tags": [
     "nbsphinx-thumbnail"
    ]
   },
   "outputs": [
    {
     "data": {
      "text/plain": [
       "Text(0, 0.5, 'probability')"
      ]
     },
     "execution_count": 6,
     "metadata": {},
     "output_type": "execute_result"
    },
    {
     "data": {
      "image/png": "[encoded data removed]",
      "text/plain": [
       "<Figure size 1040x910 with 1 Axes>"
      ]
     },
     "metadata": {},
     "output_type": "display_data"
    }
   ],
   "source": [
    "fig, ax = plt.subplots()\n",
    "\n",
    "\n",
    "ax.plot(energy_grid, func(energy_grid), color=blue, lw=3)\n",
    "\n",
    "ax.set_xlabel(\"x\")\n",
    "ax.set_ylabel(\"probability\")\n"
   ]
  },
  {
   "cell_type": "markdown",
   "id": "f86e36b5",
   "metadata": {
    "papermill": {
     "duration": 0.003087,
     "end_time": "2024-02-03T01:37:14.996425",
     "exception": false,
     "start_time": "2024-02-03T01:37:14.993338",
     "status": "completed"
    },
    "tags": []
   },
   "source": [
    "## Random Number Generation\n",
    "\n",
    "This is how we can generate random numbers from the prior.\n"
   ]
  },
  {
   "cell_type": "code",
   "execution_count": 7,
   "id": "52e5376b",
   "metadata": {
    "execution": {
     "iopub.execute_input": "2024-02-03T01:37:15.004377Z",
     "iopub.status.busy": "2024-02-03T01:37:15.003985Z",
     "iopub.status.idle": "2024-02-03T01:37:15.272308Z",
     "shell.execute_reply": "2024-02-03T01:37:15.269242Z"
    },
    "papermill": {
     "duration": 0.276703,
     "end_time": "2024-02-03T01:37:15.276172",
     "exception": false,
     "start_time": "2024-02-03T01:37:14.999469",
     "status": "completed"
    },
    "tags": []
   },
   "outputs": [
    {
     "data": {
      "text/plain": [
       "Text(0, 0.5, 'N')"
      ]
     },
     "execution_count": 7,
     "metadata": {},
     "output_type": "execute_result"
    },
    {
     "data": {
      "image/png": "[encoded data removed]",
      "text/plain": [
       "<Figure size 1040x910 with 1 Axes>"
      ]
     },
     "metadata": {},
     "output_type": "display_data"
    }
   ],
   "source": [
    "\n",
    "\n",
    "u = np.random.uniform(0,1, size=5000)\n",
    "\n",
    "draws = [func.from_unit_cube(x) for x in u]\n",
    "\n",
    "\n",
    "fig, ax = plt.subplots()\n",
    "\n",
    "\n",
    "ax.hist(draws, color=green, bins=50)\n",
    "\n",
    "ax.set_xlabel(\"value\")\n",
    "ax.set_ylabel(\"N\")\n",
    "\n"
   ]
  }
 ],
 "metadata": {
  "jupytext": {
   "formats": "ipynb,md"
  },
  "kernelspec": {
   "display_name": "Python 3 (ipykernel)",
   "language": "python",
   "name": "python3"
  },
  "language_info": {
   "codemirror_mode": {
    "name": "ipython",
    "version": 3
   },
   "file_extension": ".py",
   "mimetype": "text/x-python",
   "name": "python",
   "nbconvert_exporter": "python",
   "pygments_lexer": "ipython3",
   "version": "3.9.18"
  },
  "papermill": {
   "default_parameters": {},
   "duration": 4.700268,
   "end_time": "2024-02-03T01:37:15.813804",
   "environment_variables": {},
   "exception": null,
   "input_path": "Log_uniform_prior.ipynb",
   "output_path": "/Users/runner/work/astromodels/astromodels/docs/notebooks/Log_uniform_prior.ipynb",
   "parameters": {
    "func_name": "Log_uniform_prior",
    "positive_prior": true
   },
   "start_time": "2024-02-03T01:37:11.113536",
   "version": "2.5.0"
  }
 },
 "nbformat": 4,
 "nbformat_minor": 5
}
