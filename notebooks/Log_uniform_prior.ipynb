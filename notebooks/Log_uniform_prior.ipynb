{
 "cells": [
  {
   "cell_type": "markdown",
   "id": "06658c31",
   "metadata": {
    "papermill": {
     "duration": 0.005136,
     "end_time": "2022-09-27T11:23:40.492007",
     "exception": false,
     "start_time": "2022-09-27T11:23:40.486871",
     "status": "completed"
    },
    "tags": []
   },
   "source": [
    "# Log uniform prior"
   ]
  },
  {
   "cell_type": "code",
   "execution_count": 1,
   "id": "74f86c1b",
   "metadata": {
    "execution": {
     "iopub.execute_input": "2022-09-27T11:23:40.500561Z",
     "iopub.status.busy": "2022-09-27T11:23:40.500088Z",
     "iopub.status.idle": "2022-09-27T11:23:44.181127Z",
     "shell.execute_reply": "2022-09-27T11:23:44.179447Z"
    },
    "nbsphinx": "hidden",
    "papermill": {
     "duration": 3.689287,
     "end_time": "2022-09-27T11:23:44.184815",
     "exception": false,
     "start_time": "2022-09-27T11:23:40.495528",
     "status": "completed"
    },
    "tags": []
   },
   "outputs": [],
   "source": [
    "%%capture\n",
    "\n",
    "import numpy as np\n",
    "\n",
    "import matplotlib.pyplot as plt\n",
    "\n",
    "import warnings\n",
    "warnings.simplefilter(\"ignore\")\n",
    "\n",
    "from astromodels.functions.function import _known_functions\n",
    "\n",
    "\n",
    "from jupyterthemes import jtplot\n",
    "jtplot.style(context=\"talk\", fscale=1, ticks=True, grid=False)\n",
    "%matplotlib inline"
   ]
  },
  {
   "cell_type": "code",
   "execution_count": 2,
   "id": "8e0e93ba",
   "metadata": {
    "execution": {
     "iopub.execute_input": "2022-09-27T11:23:44.194873Z",
     "iopub.status.busy": "2022-09-27T11:23:44.194368Z",
     "iopub.status.idle": "2022-09-27T11:23:44.200372Z",
     "shell.execute_reply": "2022-09-27T11:23:44.198828Z"
    },
    "nbsphinx": "hidden",
    "papermill": {
     "duration": 0.016114,
     "end_time": "2022-09-27T11:23:44.204780",
     "exception": false,
     "start_time": "2022-09-27T11:23:44.188666",
     "status": "completed"
    },
    "tags": [
     "parameters"
    ]
   },
   "outputs": [],
   "source": [
    "func_name = \"TbAbs\"\n",
    "\n",
    "positive_prior = False\n"
   ]
  },
  {
   "cell_type": "code",
   "execution_count": 3,
   "id": "8558bbe8",
   "metadata": {
    "execution": {
     "iopub.execute_input": "2022-09-27T11:23:44.213024Z",
     "iopub.status.busy": "2022-09-27T11:23:44.212611Z",
     "iopub.status.idle": "2022-09-27T11:23:44.221027Z",
     "shell.execute_reply": "2022-09-27T11:23:44.219739Z"
    },
    "papermill": {
     "duration": 0.016743,
     "end_time": "2022-09-27T11:23:44.224661",
     "exception": false,
     "start_time": "2022-09-27T11:23:44.207918",
     "status": "completed"
    },
    "tags": [
     "injected-parameters"
    ]
   },
   "outputs": [],
   "source": [
    "# Parameters\n",
    "func_name = \"Log_uniform_prior\"\n",
    "positive_prior = False\n"
   ]
  },
  {
   "cell_type": "code",
   "execution_count": 4,
   "id": "cfa1ced1",
   "metadata": {
    "execution": {
     "iopub.execute_input": "2022-09-27T11:23:44.232323Z",
     "iopub.status.busy": "2022-09-27T11:23:44.231908Z",
     "iopub.status.idle": "2022-09-27T11:23:44.240472Z",
     "shell.execute_reply": "2022-09-27T11:23:44.239463Z"
    },
    "lines_to_next_cell": 0,
    "nbsphinx": "hidden",
    "papermill": {
     "duration": 0.015771,
     "end_time": "2022-09-27T11:23:44.243478",
     "exception": false,
     "start_time": "2022-09-27T11:23:44.227707",
     "status": "completed"
    },
    "tags": []
   },
   "outputs": [],
   "source": [
    "func = _known_functions[func_name]()\n",
    "\n",
    "if not positive_prior:\n",
    "\n",
    "\tenergy_grid = np.linspace(-5,5,1000)\n",
    "\n",
    "else:\n",
    "    \n",
    "    energy_grid = np.linspace(0,1,1000)\n",
    "    \n",
    "    \n",
    "    \n",
    "    \n",
    "blue = \"#4152E3\"\n",
    "red = \"#E3414B\"\n",
    "green = \"#41E39E\""
   ]
  },
  {
   "cell_type": "markdown",
   "id": "f4354b25",
   "metadata": {
    "lines_to_next_cell": 0,
    "papermill": {
     "duration": 0.002851,
     "end_time": "2022-09-27T11:23:44.249365",
     "exception": false,
     "start_time": "2022-09-27T11:23:44.246514",
     "status": "completed"
    },
    "tags": []
   },
   "source": [
    "## Description"
   ]
  },
  {
   "cell_type": "code",
   "execution_count": 5,
   "id": "bf08742f",
   "metadata": {
    "execution": {
     "iopub.execute_input": "2022-09-27T11:23:44.257580Z",
     "iopub.status.busy": "2022-09-27T11:23:44.256842Z",
     "iopub.status.idle": "2022-09-27T11:23:44.267347Z",
     "shell.execute_reply": "2022-09-27T11:23:44.266431Z"
    },
    "papermill": {
     "duration": 0.017731,
     "end_time": "2022-09-27T11:23:44.270288",
     "exception": false,
     "start_time": "2022-09-27T11:23:44.252557",
     "status": "completed"
    },
    "tags": []
   },
   "outputs": [
    {
     "data": {
      "text/html": [
       "<ul>\n",
       "\n",
       "<li>description: A function which is K/x on the interval lower_bound - upper_bound and 0 outside the interval. The extremes of the interval are NOT counted as part of the interval. Lower_bound must be >= 0.</li>\n",
       "\n",
       "<li>formula: $ f(x)=K~\\begin{cases}0 & x \\le \\text{lower_bound} \\\\\\frac{1}{x} & \\text{lower_bound} < x < \\text{upper_bound} \\\\ 0 & x \\ge \\text{upper_bound} \\end{cases}$</li>\n",
       "\n",
       "<li>parameters: \n",
       "<ul>\n",
       "\n",
       "<li>lower_bound: \n",
       "<ul>\n",
       "\n",
       "<li>value: 1e-20</li>\n",
       "\n",
       "<li>desc: Lower bound for the interval</li>\n",
       "\n",
       "<li>min_value: 1e-30</li>\n",
       "\n",
       "<li>max_value: inf</li>\n",
       "\n",
       "<li>unit: </li>\n",
       "\n",
       "<li>is_normalization: False</li>\n",
       "\n",
       "<li>delta: 1e-21</li>\n",
       "\n",
       "<li>free: True</li>\n",
       "\n",
       "</ul>\n",
       "\n",
       "</li>\n",
       "\n",
       "<li>upper_bound: \n",
       "<ul>\n",
       "\n",
       "<li>value: 100.0</li>\n",
       "\n",
       "<li>desc: Upper bound for the interval</li>\n",
       "\n",
       "<li>min_value: 1e-30</li>\n",
       "\n",
       "<li>max_value: inf</li>\n",
       "\n",
       "<li>unit: </li>\n",
       "\n",
       "<li>is_normalization: False</li>\n",
       "\n",
       "<li>delta: 10.0</li>\n",
       "\n",
       "<li>free: True</li>\n",
       "\n",
       "</ul>\n",
       "\n",
       "</li>\n",
       "\n",
       "<li>K: \n",
       "<ul>\n",
       "\n",
       "<li>value: 1.0</li>\n",
       "\n",
       "<li>desc: Normalization</li>\n",
       "\n",
       "<li>min_value: None</li>\n",
       "\n",
       "<li>max_value: None</li>\n",
       "\n",
       "<li>unit: </li>\n",
       "\n",
       "<li>is_normalization: False</li>\n",
       "\n",
       "<li>delta: 0.1</li>\n",
       "\n",
       "<li>free: False</li>\n",
       "\n",
       "</ul>\n",
       "\n",
       "</li>\n",
       "\n",
       "</ul>\n",
       "\n",
       "</li>\n",
       "\n",
       "</ul>\n"
      ],
      "text/plain": [
       "  * description: A function which is K/x on the interval lower_bound - upper_bound and\n",
       "    * 0 outside the interval. The extremes of the interval are NOT counted as part of\n",
       "    * the interval. Lower_bound must be >= 0.\n",
       "  * formula: $ f(x)=K~\\begin{cases}0 & x \\le \\text{lower_bound} \\\\\\frac{1}{x} & \\text{lower_bound}\n",
       "    * < x < \\text{upper_bound} \\\\ 0 & x \\ge \\text{upper_bound} \\end{cases}$\n",
       "  * parameters:\n",
       "    * lower_bound:\n",
       "      * value: 1.0e-20\n",
       "      * desc: Lower bound for the interval\n",
       "      * min_value: 1.0e-30\n",
       "      * max_value: .inf\n",
       "      * unit: ''\n",
       "      * is_normalization: false\n",
       "      * delta: 1.0e-21\n",
       "      * free: true\n",
       "    * upper_bound:\n",
       "      * value: 100.0\n",
       "      * desc: Upper bound for the interval\n",
       "      * min_value: 1.0e-30\n",
       "      * max_value: .inf\n",
       "      * unit: ''\n",
       "      * is_normalization: false\n",
       "      * delta: 10.0\n",
       "      * free: true\n",
       "    * K:\n",
       "      * value: 1.0\n",
       "      * desc: Normalization\n",
       "      * min_value: null\n",
       "      * max_value: null\n",
       "      * unit: ''\n",
       "      * is_normalization: false\n",
       "      * delta: 0.1\n",
       "      * free: false"
      ]
     },
     "metadata": {},
     "output_type": "display_data"
    }
   ],
   "source": [
    "func.display()"
   ]
  },
  {
   "cell_type": "markdown",
   "id": "e137a188",
   "metadata": {
    "papermill": {
     "duration": 0.003194,
     "end_time": "2022-09-27T11:23:44.277032",
     "exception": false,
     "start_time": "2022-09-27T11:23:44.273838",
     "status": "completed"
    },
    "tags": []
   },
   "source": [
    "## Shape \n",
    "\n",
    "The shape of the function. \n",
    "\n",
    "*If this is not a photon model but a prior or linear function then ignore the units as these docs are auto-generated*"
   ]
  },
  {
   "cell_type": "code",
   "execution_count": 6,
   "id": "642094b5",
   "metadata": {
    "execution": {
     "iopub.execute_input": "2022-09-27T11:23:44.285398Z",
     "iopub.status.busy": "2022-09-27T11:23:44.284975Z",
     "iopub.status.idle": "2022-09-27T11:23:44.660368Z",
     "shell.execute_reply": "2022-09-27T11:23:44.658950Z"
    },
    "papermill": {
     "duration": 0.383764,
     "end_time": "2022-09-27T11:23:44.663927",
     "exception": false,
     "start_time": "2022-09-27T11:23:44.280163",
     "status": "completed"
    },
    "tags": [
     "nbsphinx-thumbnail"
    ]
   },
   "outputs": [
    {
     "data": {
      "text/plain": [
       "Text(0, 0.5, 'probability')"
      ]
     },
     "execution_count": 6,
     "metadata": {},
     "output_type": "execute_result"
    },
    {
     "data": {
      "image/png": "[encoded data removed]",
      "text/plain": [
       "<Figure size 1040x910 with 1 Axes>"
      ]
     },
     "metadata": {},
     "output_type": "display_data"
    }
   ],
   "source": [
    "fig, ax = plt.subplots()\n",
    "\n",
    "\n",
    "ax.plot(energy_grid, func(energy_grid), color=blue, lw=3)\n",
    "\n",
    "ax.set_xlabel(\"x\")\n",
    "ax.set_ylabel(\"probability\")\n"
   ]
  },
  {
   "cell_type": "markdown",
   "id": "0915aa68",
   "metadata": {
    "papermill": {
     "duration": 0.004058,
     "end_time": "2022-09-27T11:23:44.672132",
     "exception": false,
     "start_time": "2022-09-27T11:23:44.668074",
     "status": "completed"
    },
    "tags": []
   },
   "source": [
    "## Random Number Generation\n",
    "\n",
    "This is how we can generate random numbers from the prior.\n"
   ]
  },
  {
   "cell_type": "code",
   "execution_count": 7,
   "id": "2726be5e",
   "metadata": {
    "execution": {
     "iopub.execute_input": "2022-09-27T11:23:44.681141Z",
     "iopub.status.busy": "2022-09-27T11:23:44.680440Z",
     "iopub.status.idle": "2022-09-27T11:23:45.042557Z",
     "shell.execute_reply": "2022-09-27T11:23:45.041562Z"
    },
    "papermill": {
     "duration": 0.369955,
     "end_time": "2022-09-27T11:23:45.045490",
     "exception": false,
     "start_time": "2022-09-27T11:23:44.675535",
     "status": "completed"
    },
    "tags": []
   },
   "outputs": [
    {
     "data": {
      "text/plain": [
       "Text(0, 0.5, 'N')"
      ]
     },
     "execution_count": 7,
     "metadata": {},
     "output_type": "execute_result"
    },
    {
     "data": {
      "image/png": "[encoded data removed]",
      "text/plain": [
       "<Figure size 1040x910 with 1 Axes>"
      ]
     },
     "metadata": {},
     "output_type": "display_data"
    }
   ],
   "source": [
    "\n",
    "\n",
    "u = np.random.uniform(0,1, size=5000)\n",
    "\n",
    "draws = [func.from_unit_cube(x) for x in u]\n",
    "\n",
    "\n",
    "fig, ax = plt.subplots()\n",
    "\n",
    "\n",
    "ax.hist(draws, color=green, bins=50)\n",
    "\n",
    "ax.set_xlabel(\"value\")\n",
    "ax.set_ylabel(\"N\")\n",
    "\n"
   ]
  }
 ],
 "metadata": {
  "jupytext": {
   "formats": "ipynb,md"
  },
  "kernelspec": {
   "display_name": "Python 3 (ipykernel)",
   "language": "python",
   "name": "python3"
  },
  "language_info": {
   "codemirror_mode": {
    "name": "ipython",
    "version": 3
   },
   "file_extension": ".py",
   "mimetype": "text/x-python",
   "name": "python",
   "nbconvert_exporter": "python",
   "pygments_lexer": "ipython3",
   "version": "3.9.14"
  },
  "papermill": {
   "default_parameters": {},
   "duration": 6.342904,
   "end_time": "2022-09-27T11:23:45.657141",
   "environment_variables": {},
   "exception": null,
   "input_path": "Log_uniform_prior.ipynb",
   "output_path": "/Users/runner/work/astromodels/astromodels/docs/notebooks/Log_uniform_prior.ipynb",
   "parameters": {
    "func_name": "Log_uniform_prior",
    "positive_prior": false
   },
   "start_time": "2022-09-27T11:23:39.314237",
   "version": "2.4.0"
  }
 },
 "nbformat": 4,
 "nbformat_minor": 5
}
