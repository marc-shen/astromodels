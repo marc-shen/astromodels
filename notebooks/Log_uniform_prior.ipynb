{
 "cells": [
  {
   "cell_type": "markdown",
   "id": "1c1307ad",
   "metadata": {
    "papermill": {
     "duration": 0.004661,
     "end_time": "2024-02-07T23:06:13.845023",
     "exception": false,
     "start_time": "2024-02-07T23:06:13.840362",
     "status": "completed"
    },
    "tags": []
   },
   "source": [
    "# Log uniform prior"
   ]
  },
  {
   "cell_type": "code",
   "execution_count": 1,
   "id": "581dc5d5",
   "metadata": {
    "execution": {
     "iopub.execute_input": "2024-02-07T23:06:13.853804Z",
     "iopub.status.busy": "2024-02-07T23:06:13.853338Z",
     "iopub.status.idle": "2024-02-07T23:06:17.628267Z",
     "shell.execute_reply": "2024-02-07T23:06:17.626708Z"
    },
    "nbsphinx": "hidden",
    "papermill": {
     "duration": 3.783297,
     "end_time": "2024-02-07T23:06:17.632093",
     "exception": false,
     "start_time": "2024-02-07T23:06:13.848796",
     "status": "completed"
    },
    "tags": []
   },
   "outputs": [],
   "source": [
    "%%capture\n",
    "\n",
    "import numpy as np\n",
    "\n",
    "import matplotlib.pyplot as plt\n",
    "\n",
    "import warnings\n",
    "warnings.simplefilter(\"ignore\")\n",
    "\n",
    "from astromodels.functions.function import _known_functions\n",
    "\n",
    "\n",
    "from jupyterthemes import jtplot\n",
    "jtplot.style(context=\"talk\", fscale=1, ticks=True, grid=False)\n",
    "%matplotlib inline"
   ]
  },
  {
   "cell_type": "code",
   "execution_count": 2,
   "id": "1ea169d6",
   "metadata": {
    "execution": {
     "iopub.execute_input": "2024-02-07T23:06:17.641642Z",
     "iopub.status.busy": "2024-02-07T23:06:17.641164Z",
     "iopub.status.idle": "2024-02-07T23:06:17.648744Z",
     "shell.execute_reply": "2024-02-07T23:06:17.647648Z"
    },
    "nbsphinx": "hidden",
    "papermill": {
     "duration": 0.015482,
     "end_time": "2024-02-07T23:06:17.651672",
     "exception": false,
     "start_time": "2024-02-07T23:06:17.636190",
     "status": "completed"
    },
    "tags": [
     "parameters"
    ]
   },
   "outputs": [],
   "source": [
    "func_name = \"TbAbs\"\n",
    "\n",
    "positive_prior = False\n"
   ]
  },
  {
   "cell_type": "code",
   "execution_count": 3,
   "id": "17058d00",
   "metadata": {
    "execution": {
     "iopub.execute_input": "2024-02-07T23:06:17.659529Z",
     "iopub.status.busy": "2024-02-07T23:06:17.659108Z",
     "iopub.status.idle": "2024-02-07T23:06:17.667749Z",
     "shell.execute_reply": "2024-02-07T23:06:17.666613Z"
    },
    "papermill": {
     "duration": 0.015948,
     "end_time": "2024-02-07T23:06:17.670734",
     "exception": false,
     "start_time": "2024-02-07T23:06:17.654786",
     "status": "completed"
    },
    "tags": [
     "injected-parameters"
    ]
   },
   "outputs": [],
   "source": [
    "# Parameters\n",
    "func_name = \"Log_uniform_prior\"\n",
    "positive_prior = True\n"
   ]
  },
  {
   "cell_type": "code",
   "execution_count": 4,
   "id": "cb7d9b12",
   "metadata": {
    "execution": {
     "iopub.execute_input": "2024-02-07T23:06:17.678425Z",
     "iopub.status.busy": "2024-02-07T23:06:17.678008Z",
     "iopub.status.idle": "2024-02-07T23:06:17.685590Z",
     "shell.execute_reply": "2024-02-07T23:06:17.684593Z"
    },
    "lines_to_next_cell": 0,
    "nbsphinx": "hidden",
    "papermill": {
     "duration": 0.014592,
     "end_time": "2024-02-07T23:06:17.688391",
     "exception": false,
     "start_time": "2024-02-07T23:06:17.673799",
     "status": "completed"
    },
    "tags": []
   },
   "outputs": [],
   "source": [
    "func = _known_functions[func_name]()\n",
    "\n",
    "if not positive_prior:\n",
    "\n",
    "\tenergy_grid = np.linspace(-5,5,1000)\n",
    "\n",
    "else:\n",
    "    \n",
    "    energy_grid = np.linspace(0,1,1000)\n",
    "    \n",
    "    \n",
    "    \n",
    "    \n",
    "blue = \"#4152E3\"\n",
    "red = \"#E3414B\"\n",
    "green = \"#41E39E\""
   ]
  },
  {
   "cell_type": "markdown",
   "id": "4658c4f4",
   "metadata": {
    "lines_to_next_cell": 0,
    "papermill": {
     "duration": 0.002966,
     "end_time": "2024-02-07T23:06:17.694397",
     "exception": false,
     "start_time": "2024-02-07T23:06:17.691431",
     "status": "completed"
    },
    "tags": []
   },
   "source": [
    "## Description"
   ]
  },
  {
   "cell_type": "code",
   "execution_count": 5,
   "id": "6690bff3",
   "metadata": {
    "execution": {
     "iopub.execute_input": "2024-02-07T23:06:17.702293Z",
     "iopub.status.busy": "2024-02-07T23:06:17.701863Z",
     "iopub.status.idle": "2024-02-07T23:06:17.717662Z",
     "shell.execute_reply": "2024-02-07T23:06:17.716616Z"
    },
    "papermill": {
     "duration": 0.0233,
     "end_time": "2024-02-07T23:06:17.720646",
     "exception": false,
     "start_time": "2024-02-07T23:06:17.697346",
     "status": "completed"
    },
    "tags": []
   },
   "outputs": [
    {
     "data": {
      "text/html": [
       "<ul>\n",
       "\n",
       "<li>description: A function which is K/x on the interval lower_bound - upper_bound and 0 outside the interval. The extremes of the interval are NOT counted as part of the interval. Lower_bound must be >= 0.</li>\n",
       "\n",
       "<li>formula: $ f(x)=K~\\begin{cases}0 & x \\le \\text{lower_bound} \\\\\\frac{1}{x} & \\text{lower_bound} < x < \\text{upper_bound} \\\\ 0 & x \\ge \\text{upper_bound} \\end{cases}$</li>\n",
       "\n",
       "<li>parameters: \n",
       "<ul>\n",
       "\n",
       "<li>lower_bound: \n",
       "<ul>\n",
       "\n",
       "<li>value: 1e-20</li>\n",
       "\n",
       "<li>desc: Lower bound for the interval</li>\n",
       "\n",
       "<li>min_value: 1e-30</li>\n",
       "\n",
       "<li>max_value: inf</li>\n",
       "\n",
       "<li>unit: </li>\n",
       "\n",
       "<li>is_normalization: False</li>\n",
       "\n",
       "<li>delta: 1e-21</li>\n",
       "\n",
       "<li>free: True</li>\n",
       "\n",
       "</ul>\n",
       "\n",
       "</li>\n",
       "\n",
       "<li>upper_bound: \n",
       "<ul>\n",
       "\n",
       "<li>value: 100.0</li>\n",
       "\n",
       "<li>desc: Upper bound for the interval</li>\n",
       "\n",
       "<li>min_value: 1e-30</li>\n",
       "\n",
       "<li>max_value: inf</li>\n",
       "\n",
       "<li>unit: </li>\n",
       "\n",
       "<li>is_normalization: False</li>\n",
       "\n",
       "<li>delta: 10.0</li>\n",
       "\n",
       "<li>free: True</li>\n",
       "\n",
       "</ul>\n",
       "\n",
       "</li>\n",
       "\n",
       "<li>K: \n",
       "<ul>\n",
       "\n",
       "<li>value: 1.0</li>\n",
       "\n",
       "<li>desc: Normalization</li>\n",
       "\n",
       "<li>min_value: None</li>\n",
       "\n",
       "<li>max_value: None</li>\n",
       "\n",
       "<li>unit: </li>\n",
       "\n",
       "<li>is_normalization: False</li>\n",
       "\n",
       "<li>delta: 0.1</li>\n",
       "\n",
       "<li>free: False</li>\n",
       "\n",
       "</ul>\n",
       "\n",
       "</li>\n",
       "\n",
       "</ul>\n",
       "\n",
       "</li>\n",
       "\n",
       "</ul>\n"
      ],
      "text/plain": [
       "  * description: A function which is K/x on the interval lower_bound - upper_bound and\n",
       "    * 0 outside the interval. The extremes of the interval are NOT counted as part of\n",
       "    * the interval. Lower_bound must be >= 0.\n",
       "  * formula: $ f(x)=K~\\begin{cases}0 & x \\le \\text{lower_bound} \\\\\\frac{1}{x} & \\text{lower_bound}\n",
       "    * < x < \\text{upper_bound} \\\\ 0 & x \\ge \\text{upper_bound} \\end{cases}$\n",
       "  * parameters:\n",
       "    * lower_bound:\n",
       "      * value: 1.0e-20\n",
       "      * desc: Lower bound for the interval\n",
       "      * min_value: 1.0e-30\n",
       "      * max_value: .inf\n",
       "      * unit: ''\n",
       "      * is_normalization: false\n",
       "      * delta: 1.0e-21\n",
       "      * free: true\n",
       "    * upper_bound:\n",
       "      * value: 100.0\n",
       "      * desc: Upper bound for the interval\n",
       "      * min_value: 1.0e-30\n",
       "      * max_value: .inf\n",
       "      * unit: ''\n",
       "      * is_normalization: false\n",
       "      * delta: 10.0\n",
       "      * free: true\n",
       "    * K:\n",
       "      * value: 1.0\n",
       "      * desc: Normalization\n",
       "      * min_value: null\n",
       "      * max_value: null\n",
       "      * unit: ''\n",
       "      * is_normalization: false\n",
       "      * delta: 0.1\n",
       "      * free: false"
      ]
     },
     "metadata": {},
     "output_type": "display_data"
    }
   ],
   "source": [
    "func.display()"
   ]
  },
  {
   "cell_type": "markdown",
   "id": "65a22bf4",
   "metadata": {
    "papermill": {
     "duration": 0.003561,
     "end_time": "2024-02-07T23:06:17.727797",
     "exception": false,
     "start_time": "2024-02-07T23:06:17.724236",
     "status": "completed"
    },
    "tags": []
   },
   "source": [
    "## Shape \n",
    "\n",
    "The shape of the function. \n",
    "\n",
    "*If this is not a photon model but a prior or linear function then ignore the units as these docs are auto-generated*"
   ]
  },
  {
   "cell_type": "code",
   "execution_count": 6,
   "id": "4646992f",
   "metadata": {
    "execution": {
     "iopub.execute_input": "2024-02-07T23:06:17.736379Z",
     "iopub.status.busy": "2024-02-07T23:06:17.735953Z",
     "iopub.status.idle": "2024-02-07T23:06:18.041290Z",
     "shell.execute_reply": "2024-02-07T23:06:18.040255Z"
    },
    "papermill": {
     "duration": 0.313479,
     "end_time": "2024-02-07T23:06:18.044677",
     "exception": false,
     "start_time": "2024-02-07T23:06:17.731198",
     "status": "completed"
    },
    "tags": [
     "nbsphinx-thumbnail"
    ]
   },
   "outputs": [
    {
     "data": {
      "text/plain": [
       "Text(0, 0.5, 'probability')"
      ]
     },
     "execution_count": 6,
     "metadata": {},
     "output_type": "execute_result"
    },
    {
     "data": {
      "image/png": "[encoded data removed]",
      "text/plain": [
       "<Figure size 1040x910 with 1 Axes>"
      ]
     },
     "metadata": {},
     "output_type": "display_data"
    }
   ],
   "source": [
    "fig, ax = plt.subplots()\n",
    "\n",
    "\n",
    "ax.plot(energy_grid, func(energy_grid), color=blue, lw=3)\n",
    "\n",
    "ax.set_xlabel(\"x\")\n",
    "ax.set_ylabel(\"probability\")\n"
   ]
  },
  {
   "cell_type": "markdown",
   "id": "5bd6a1c3",
   "metadata": {
    "papermill": {
     "duration": 0.003748,
     "end_time": "2024-02-07T23:06:18.053025",
     "exception": false,
     "start_time": "2024-02-07T23:06:18.049277",
     "status": "completed"
    },
    "tags": []
   },
   "source": [
    "## Random Number Generation\n",
    "\n",
    "This is how we can generate random numbers from the prior.\n"
   ]
  },
  {
   "cell_type": "code",
   "execution_count": 7,
   "id": "36f15a91",
   "metadata": {
    "execution": {
     "iopub.execute_input": "2024-02-07T23:06:18.062798Z",
     "iopub.status.busy": "2024-02-07T23:06:18.062316Z",
     "iopub.status.idle": "2024-02-07T23:06:18.439071Z",
     "shell.execute_reply": "2024-02-07T23:06:18.437796Z"
    },
    "papermill": {
     "duration": 0.385461,
     "end_time": "2024-02-07T23:06:18.442397",
     "exception": false,
     "start_time": "2024-02-07T23:06:18.056936",
     "status": "completed"
    },
    "tags": []
   },
   "outputs": [
    {
     "data": {
      "text/plain": [
       "Text(0, 0.5, 'N')"
      ]
     },
     "execution_count": 7,
     "metadata": {},
     "output_type": "execute_result"
    },
    {
     "data": {
      "image/png": "[encoded data removed]",
      "text/plain": [
       "<Figure size 1040x910 with 1 Axes>"
      ]
     },
     "metadata": {},
     "output_type": "display_data"
    }
   ],
   "source": [
    "\n",
    "\n",
    "u = np.random.uniform(0,1, size=5000)\n",
    "\n",
    "draws = [func.from_unit_cube(x) for x in u]\n",
    "\n",
    "\n",
    "fig, ax = plt.subplots()\n",
    "\n",
    "\n",
    "ax.hist(draws, color=green, bins=50)\n",
    "\n",
    "ax.set_xlabel(\"value\")\n",
    "ax.set_ylabel(\"N\")\n",
    "\n"
   ]
  }
 ],
 "metadata": {
  "jupytext": {
   "formats": "ipynb,md"
  },
  "kernelspec": {
   "display_name": "Python 3 (ipykernel)",
   "language": "python",
   "name": "python3"
  },
  "language_info": {
   "codemirror_mode": {
    "name": "ipython",
    "version": 3
   },
   "file_extension": ".py",
   "mimetype": "text/x-python",
   "name": "python",
   "nbconvert_exporter": "python",
   "pygments_lexer": "ipython3",
   "version": "3.9.18"
  },
  "papermill": {
   "default_parameters": {},
   "duration": 6.648167,
   "end_time": "2024-02-07T23:06:19.283024",
   "environment_variables": {},
   "exception": null,
   "input_path": "Log_uniform_prior.ipynb",
   "output_path": "/Users/runner/work/astromodels/astromodels/docs/notebooks/Log_uniform_prior.ipynb",
   "parameters": {
    "func_name": "Log_uniform_prior",
    "positive_prior": true
   },
   "start_time": "2024-02-07T23:06:12.634857",
   "version": "2.5.0"
  }
 },
 "nbformat": 4,
 "nbformat_minor": 5
}
