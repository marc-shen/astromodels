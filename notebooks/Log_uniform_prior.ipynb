{
 "cells": [
  {
   "cell_type": "markdown",
   "id": "c498a04d",
   "metadata": {
    "papermill": {
     "duration": 0.005469,
     "end_time": "2024-09-10T14:17:12.858652",
     "exception": false,
     "start_time": "2024-09-10T14:17:12.853183",
     "status": "completed"
    },
    "tags": []
   },
   "source": [
    "# Log uniform prior"
   ]
  },
  {
   "cell_type": "code",
   "execution_count": 1,
   "id": "627526fa",
   "metadata": {
    "execution": {
     "iopub.execute_input": "2024-09-10T14:17:12.870238Z",
     "iopub.status.busy": "2024-09-10T14:17:12.869576Z",
     "iopub.status.idle": "2024-09-10T14:17:14.549224Z",
     "shell.execute_reply": "2024-09-10T14:17:14.548634Z"
    },
    "nbsphinx": "hidden",
    "papermill": {
     "duration": 1.687427,
     "end_time": "2024-09-10T14:17:14.550868",
     "exception": false,
     "start_time": "2024-09-10T14:17:12.863441",
     "status": "completed"
    },
    "tags": []
   },
   "outputs": [],
   "source": [
    "%%capture\n",
    "\n",
    "import numpy as np\n",
    "\n",
    "import matplotlib.pyplot as plt\n",
    "\n",
    "import warnings\n",
    "warnings.simplefilter(\"ignore\")\n",
    "\n",
    "from astromodels.functions.function import _known_functions\n",
    "\n",
    "\n",
    "from jupyterthemes import jtplot\n",
    "jtplot.style(context=\"talk\", fscale=1, ticks=True, grid=False)\n",
    "%matplotlib inline"
   ]
  },
  {
   "cell_type": "code",
   "execution_count": 2,
   "id": "16e89d3a",
   "metadata": {
    "execution": {
     "iopub.execute_input": "2024-09-10T14:17:14.554251Z",
     "iopub.status.busy": "2024-09-10T14:17:14.553918Z",
     "iopub.status.idle": "2024-09-10T14:17:14.556090Z",
     "shell.execute_reply": "2024-09-10T14:17:14.555722Z"
    },
    "nbsphinx": "hidden",
    "papermill": {
     "duration": 0.005088,
     "end_time": "2024-09-10T14:17:14.557348",
     "exception": false,
     "start_time": "2024-09-10T14:17:14.552260",
     "status": "completed"
    },
    "tags": [
     "parameters"
    ]
   },
   "outputs": [],
   "source": [
    "func_name = \"TbAbs\"\n",
    "\n",
    "positive_prior = False\n"
   ]
  },
  {
   "cell_type": "code",
   "execution_count": 3,
   "id": "58222c3e",
   "metadata": {
    "execution": {
     "iopub.execute_input": "2024-09-10T14:17:14.559919Z",
     "iopub.status.busy": "2024-09-10T14:17:14.559778Z",
     "iopub.status.idle": "2024-09-10T14:17:14.565051Z",
     "shell.execute_reply": "2024-09-10T14:17:14.564642Z"
    },
    "papermill": {
     "duration": 0.007984,
     "end_time": "2024-09-10T14:17:14.566313",
     "exception": false,
     "start_time": "2024-09-10T14:17:14.558329",
     "status": "completed"
    },
    "tags": [
     "injected-parameters"
    ]
   },
   "outputs": [],
   "source": [
    "# Parameters\n",
    "func_name = \"Log_uniform_prior\"\n",
    "positive_prior = True\n"
   ]
  },
  {
   "cell_type": "code",
   "execution_count": 4,
   "id": "bf070018",
   "metadata": {
    "execution": {
     "iopub.execute_input": "2024-09-10T14:17:14.569062Z",
     "iopub.status.busy": "2024-09-10T14:17:14.568905Z",
     "iopub.status.idle": "2024-09-10T14:17:14.577911Z",
     "shell.execute_reply": "2024-09-10T14:17:14.577398Z"
    },
    "lines_to_next_cell": 0,
    "nbsphinx": "hidden",
    "papermill": {
     "duration": 0.011802,
     "end_time": "2024-09-10T14:17:14.579149",
     "exception": false,
     "start_time": "2024-09-10T14:17:14.567347",
     "status": "completed"
    },
    "tags": []
   },
   "outputs": [],
   "source": [
    "func = _known_functions[func_name]()\n",
    "\n",
    "if not positive_prior:\n",
    "\n",
    "\tenergy_grid = np.linspace(-5,5,1000)\n",
    "\n",
    "else:\n",
    "    \n",
    "    energy_grid = np.linspace(0,1,1000)\n",
    "    \n",
    "    \n",
    "    \n",
    "    \n",
    "blue = \"#4152E3\"\n",
    "red = \"#E3414B\"\n",
    "green = \"#41E39E\""
   ]
  },
  {
   "cell_type": "markdown",
   "id": "04b30929",
   "metadata": {
    "lines_to_next_cell": 0,
    "papermill": {
     "duration": 0.000997,
     "end_time": "2024-09-10T14:17:14.581160",
     "exception": false,
     "start_time": "2024-09-10T14:17:14.580163",
     "status": "completed"
    },
    "tags": []
   },
   "source": [
    "## Description"
   ]
  },
  {
   "cell_type": "code",
   "execution_count": 5,
   "id": "d1df6adf",
   "metadata": {
    "execution": {
     "iopub.execute_input": "2024-09-10T14:17:14.583681Z",
     "iopub.status.busy": "2024-09-10T14:17:14.583531Z",
     "iopub.status.idle": "2024-09-10T14:17:14.591868Z",
     "shell.execute_reply": "2024-09-10T14:17:14.591493Z"
    },
    "papermill": {
     "duration": 0.011088,
     "end_time": "2024-09-10T14:17:14.593173",
     "exception": false,
     "start_time": "2024-09-10T14:17:14.582085",
     "status": "completed"
    },
    "tags": []
   },
   "outputs": [
    {
     "data": {
      "text/html": [
       "<ul>\n",
       "\n",
       "<li>description: A function which is K/x on the interval lower_bound - upper_bound and 0 outside the interval. The extremes of the interval are NOT counted as part of the interval. Lower_bound must be >= 0.</li>\n",
       "\n",
       "<li>formula: $ f(x)=K~\\begin{cases}0 & x \\le \\text{lower_bound} \\\\\\frac{1}{x} & \\text{lower_bound} < x < \\text{upper_bound} \\\\ 0 & x \\ge \\text{upper_bound} \\end{cases}$</li>\n",
       "\n",
       "<li>parameters: \n",
       "<ul>\n",
       "\n",
       "<li>lower_bound: \n",
       "<ul>\n",
       "\n",
       "<li>value: 1e-20</li>\n",
       "\n",
       "<li>desc: Lower bound for the interval</li>\n",
       "\n",
       "<li>min_value: 1e-30</li>\n",
       "\n",
       "<li>max_value: inf</li>\n",
       "\n",
       "<li>unit: </li>\n",
       "\n",
       "<li>is_normalization: False</li>\n",
       "\n",
       "<li>delta: 1e-21</li>\n",
       "\n",
       "<li>free: True</li>\n",
       "\n",
       "</ul>\n",
       "\n",
       "</li>\n",
       "\n",
       "<li>upper_bound: \n",
       "<ul>\n",
       "\n",
       "<li>value: 100.0</li>\n",
       "\n",
       "<li>desc: Upper bound for the interval</li>\n",
       "\n",
       "<li>min_value: 1e-30</li>\n",
       "\n",
       "<li>max_value: inf</li>\n",
       "\n",
       "<li>unit: </li>\n",
       "\n",
       "<li>is_normalization: False</li>\n",
       "\n",
       "<li>delta: 10.0</li>\n",
       "\n",
       "<li>free: True</li>\n",
       "\n",
       "</ul>\n",
       "\n",
       "</li>\n",
       "\n",
       "<li>K: \n",
       "<ul>\n",
       "\n",
       "<li>value: 1.0</li>\n",
       "\n",
       "<li>desc: Normalization</li>\n",
       "\n",
       "<li>min_value: None</li>\n",
       "\n",
       "<li>max_value: None</li>\n",
       "\n",
       "<li>unit: </li>\n",
       "\n",
       "<li>is_normalization: False</li>\n",
       "\n",
       "<li>delta: 0.1</li>\n",
       "\n",
       "<li>free: False</li>\n",
       "\n",
       "</ul>\n",
       "\n",
       "</li>\n",
       "\n",
       "</ul>\n",
       "\n",
       "</li>\n",
       "\n",
       "</ul>\n"
      ],
      "text/plain": [
       "  * description: A function which is K/x on the interval lower_bound - upper_bound and\n",
       "    * 0 outside the interval. The extremes of the interval are NOT counted as part of\n",
       "    * the interval. Lower_bound must be >= 0.\n",
       "  * formula: $ f(x)=K~\\begin{cases}0 & x \\le \\text{lower_bound} \\\\\\frac{1}{x} & \\text{lower_bound}\n",
       "    * < x < \\text{upper_bound} \\\\ 0 & x \\ge \\text{upper_bound} \\end{cases}$\n",
       "  * parameters:\n",
       "    * lower_bound:\n",
       "      * value: 1.0e-20\n",
       "      * desc: Lower bound for the interval\n",
       "      * min_value: 1.0e-30\n",
       "      * max_value: .inf\n",
       "      * unit: ''\n",
       "      * is_normalization: false\n",
       "      * delta: 1.0e-21\n",
       "      * free: true\n",
       "    * upper_bound:\n",
       "      * value: 100.0\n",
       "      * desc: Upper bound for the interval\n",
       "      * min_value: 1.0e-30\n",
       "      * max_value: .inf\n",
       "      * unit: ''\n",
       "      * is_normalization: false\n",
       "      * delta: 10.0\n",
       "      * free: true\n",
       "    * K:\n",
       "      * value: 1.0\n",
       "      * desc: Normalization\n",
       "      * min_value: null\n",
       "      * max_value: null\n",
       "      * unit: ''\n",
       "      * is_normalization: false\n",
       "      * delta: 0.1\n",
       "      * free: false"
      ]
     },
     "metadata": {},
     "output_type": "display_data"
    }
   ],
   "source": [
    "func.display()"
   ]
  },
  {
   "cell_type": "markdown",
   "id": "80e6ca8c",
   "metadata": {
    "papermill": {
     "duration": 0.001135,
     "end_time": "2024-09-10T14:17:14.595493",
     "exception": false,
     "start_time": "2024-09-10T14:17:14.594358",
     "status": "completed"
    },
    "tags": []
   },
   "source": [
    "## Shape \n",
    "\n",
    "The shape of the function. \n",
    "\n",
    "*If this is not a photon model but a prior or linear function then ignore the units as these docs are auto-generated*"
   ]
  },
  {
   "cell_type": "code",
   "execution_count": 6,
   "id": "06d6112d",
   "metadata": {
    "execution": {
     "iopub.execute_input": "2024-09-10T14:17:14.598287Z",
     "iopub.status.busy": "2024-09-10T14:17:14.598139Z",
     "iopub.status.idle": "2024-09-10T14:17:14.701853Z",
     "shell.execute_reply": "2024-09-10T14:17:14.700243Z"
    },
    "papermill": {
     "duration": 0.10677,
     "end_time": "2024-09-10T14:17:14.703339",
     "exception": false,
     "start_time": "2024-09-10T14:17:14.596569",
     "status": "completed"
    },
    "tags": [
     "nbsphinx-thumbnail"
    ]
   },
   "outputs": [
    {
     "data": {
      "text/plain": [
       "Text(0, 0.5, 'probability')"
      ]
     },
     "execution_count": 6,
     "metadata": {},
     "output_type": "execute_result"
    },
    {
     "data": {
      "image/png": "[encoded data removed]",
      "text/plain": [
       "<Figure size 1040x910 with 1 Axes>"
      ]
     },
     "metadata": {},
     "output_type": "display_data"
    }
   ],
   "source": [
    "fig, ax = plt.subplots()\n",
    "\n",
    "\n",
    "ax.plot(energy_grid, func(energy_grid), color=blue, lw=3)\n",
    "\n",
    "ax.set_xlabel(\"x\")\n",
    "ax.set_ylabel(\"probability\")\n"
   ]
  },
  {
   "cell_type": "markdown",
   "id": "fb6bbeb5",
   "metadata": {
    "papermill": {
     "duration": 0.006704,
     "end_time": "2024-09-10T14:17:14.716819",
     "exception": false,
     "start_time": "2024-09-10T14:17:14.710115",
     "status": "completed"
    },
    "tags": []
   },
   "source": [
    "## Random Number Generation\n",
    "\n",
    "This is how we can generate random numbers from the prior.\n"
   ]
  },
  {
   "cell_type": "code",
   "execution_count": 7,
   "id": "0d590831",
   "metadata": {
    "execution": {
     "iopub.execute_input": "2024-09-10T14:17:14.725886Z",
     "iopub.status.busy": "2024-09-10T14:17:14.725709Z",
     "iopub.status.idle": "2024-09-10T14:17:14.835736Z",
     "shell.execute_reply": "2024-09-10T14:17:14.835416Z"
    },
    "papermill": {
     "duration": 0.1138,
     "end_time": "2024-09-10T14:17:14.837139",
     "exception": false,
     "start_time": "2024-09-10T14:17:14.723339",
     "status": "completed"
    },
    "tags": []
   },
   "outputs": [
    {
     "data": {
      "text/plain": [
       "Text(0, 0.5, 'N')"
      ]
     },
     "execution_count": 7,
     "metadata": {},
     "output_type": "execute_result"
    },
    {
     "data": {
      "image/png": "[encoded data removed]",
      "text/plain": [
       "<Figure size 1040x910 with 1 Axes>"
      ]
     },
     "metadata": {},
     "output_type": "display_data"
    }
   ],
   "source": [
    "\n",
    "\n",
    "u = np.random.uniform(0,1, size=5000)\n",
    "\n",
    "draws = [func.from_unit_cube(x) for x in u]\n",
    "\n",
    "\n",
    "fig, ax = plt.subplots()\n",
    "\n",
    "\n",
    "ax.hist(draws, color=green, bins=50)\n",
    "\n",
    "ax.set_xlabel(\"value\")\n",
    "ax.set_ylabel(\"N\")\n",
    "\n"
   ]
  }
 ],
 "metadata": {
  "jupytext": {
   "formats": "ipynb,md"
  },
  "kernelspec": {
   "display_name": "Python 3 (ipykernel)",
   "language": "python",
   "name": "python3"
  },
  "language_info": {
   "codemirror_mode": {
    "name": "ipython",
    "version": 3
   },
   "file_extension": ".py",
   "mimetype": "text/x-python",
   "name": "python",
   "nbconvert_exporter": "python",
   "pygments_lexer": "ipython3",
   "version": "3.9.13"
  },
  "papermill": {
   "default_parameters": {},
   "duration": 3.014918,
   "end_time": "2024-09-10T14:17:15.264734",
   "environment_variables": {},
   "exception": null,
   "input_path": "Log_uniform_prior.ipynb",
   "output_path": "/Users/runner/work/astromodels/astromodels/docs/notebooks/Log_uniform_prior.ipynb",
   "parameters": {
    "func_name": "Log_uniform_prior",
    "positive_prior": true
   },
   "start_time": "2024-09-10T14:17:12.249816",
   "version": "2.6.0"
  }
 },
 "nbformat": 4,
 "nbformat_minor": 5
}
