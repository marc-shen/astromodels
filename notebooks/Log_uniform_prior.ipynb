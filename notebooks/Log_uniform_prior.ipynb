{
 "cells": [
  {
   "cell_type": "markdown",
   "id": "e96ec6a1",
   "metadata": {
    "papermill": {
     "duration": 0.008171,
     "end_time": "2024-05-08T19:56:56.649910",
     "exception": false,
     "start_time": "2024-05-08T19:56:56.641739",
     "status": "completed"
    },
    "tags": []
   },
   "source": [
    "# Log uniform prior"
   ]
  },
  {
   "cell_type": "code",
   "execution_count": 1,
   "id": "468c5f78",
   "metadata": {
    "execution": {
     "iopub.execute_input": "2024-05-08T19:56:56.660471Z",
     "iopub.status.busy": "2024-05-08T19:56:56.659936Z",
     "iopub.status.idle": "2024-05-08T19:56:58.200750Z",
     "shell.execute_reply": "2024-05-08T19:56:58.200167Z"
    },
    "nbsphinx": "hidden",
    "papermill": {
     "duration": 1.547458,
     "end_time": "2024-05-08T19:56:58.202307",
     "exception": false,
     "start_time": "2024-05-08T19:56:56.654849",
     "status": "completed"
    },
    "tags": []
   },
   "outputs": [],
   "source": [
    "%%capture\n",
    "\n",
    "import numpy as np\n",
    "\n",
    "import matplotlib.pyplot as plt\n",
    "\n",
    "import warnings\n",
    "warnings.simplefilter(\"ignore\")\n",
    "\n",
    "from astromodels.functions.function import _known_functions\n",
    "\n",
    "\n",
    "from jupyterthemes import jtplot\n",
    "jtplot.style(context=\"talk\", fscale=1, ticks=True, grid=False)\n",
    "%matplotlib inline"
   ]
  },
  {
   "cell_type": "code",
   "execution_count": 2,
   "id": "013a29e4",
   "metadata": {
    "execution": {
     "iopub.execute_input": "2024-05-08T19:56:58.205792Z",
     "iopub.status.busy": "2024-05-08T19:56:58.205395Z",
     "iopub.status.idle": "2024-05-08T19:56:58.213912Z",
     "shell.execute_reply": "2024-05-08T19:56:58.213395Z"
    },
    "nbsphinx": "hidden",
    "papermill": {
     "duration": 0.011484,
     "end_time": "2024-05-08T19:56:58.215174",
     "exception": false,
     "start_time": "2024-05-08T19:56:58.203690",
     "status": "completed"
    },
    "tags": [
     "parameters"
    ]
   },
   "outputs": [],
   "source": [
    "func_name = \"TbAbs\"\n",
    "\n",
    "positive_prior = False\n"
   ]
  },
  {
   "cell_type": "code",
   "execution_count": 3,
   "id": "f35ecf69",
   "metadata": {
    "execution": {
     "iopub.execute_input": "2024-05-08T19:56:58.218022Z",
     "iopub.status.busy": "2024-05-08T19:56:58.217877Z",
     "iopub.status.idle": "2024-05-08T19:56:58.226048Z",
     "shell.execute_reply": "2024-05-08T19:56:58.225457Z"
    },
    "papermill": {
     "duration": 0.011911,
     "end_time": "2024-05-08T19:56:58.228219",
     "exception": false,
     "start_time": "2024-05-08T19:56:58.216308",
     "status": "completed"
    },
    "tags": [
     "injected-parameters"
    ]
   },
   "outputs": [],
   "source": [
    "# Parameters\n",
    "func_name = \"Log_uniform_prior\"\n",
    "positive_prior = True\n"
   ]
  },
  {
   "cell_type": "code",
   "execution_count": 4,
   "id": "0a783081",
   "metadata": {
    "execution": {
     "iopub.execute_input": "2024-05-08T19:56:58.231575Z",
     "iopub.status.busy": "2024-05-08T19:56:58.231373Z",
     "iopub.status.idle": "2024-05-08T19:56:58.241170Z",
     "shell.execute_reply": "2024-05-08T19:56:58.240595Z"
    },
    "lines_to_next_cell": 0,
    "nbsphinx": "hidden",
    "papermill": {
     "duration": 0.013082,
     "end_time": "2024-05-08T19:56:58.242612",
     "exception": false,
     "start_time": "2024-05-08T19:56:58.229530",
     "status": "completed"
    },
    "tags": []
   },
   "outputs": [],
   "source": [
    "func = _known_functions[func_name]()\n",
    "\n",
    "if not positive_prior:\n",
    "\n",
    "\tenergy_grid = np.linspace(-5,5,1000)\n",
    "\n",
    "else:\n",
    "    \n",
    "    energy_grid = np.linspace(0,1,1000)\n",
    "    \n",
    "    \n",
    "    \n",
    "    \n",
    "blue = \"#4152E3\"\n",
    "red = \"#E3414B\"\n",
    "green = \"#41E39E\""
   ]
  },
  {
   "cell_type": "markdown",
   "id": "be222bed",
   "metadata": {
    "lines_to_next_cell": 0,
    "papermill": {
     "duration": 0.001075,
     "end_time": "2024-05-08T19:56:58.244962",
     "exception": false,
     "start_time": "2024-05-08T19:56:58.243887",
     "status": "completed"
    },
    "tags": []
   },
   "source": [
    "## Description"
   ]
  },
  {
   "cell_type": "code",
   "execution_count": 5,
   "id": "b8d25adc",
   "metadata": {
    "execution": {
     "iopub.execute_input": "2024-05-08T19:56:58.247838Z",
     "iopub.status.busy": "2024-05-08T19:56:58.247643Z",
     "iopub.status.idle": "2024-05-08T19:56:58.254545Z",
     "shell.execute_reply": "2024-05-08T19:56:58.254013Z"
    },
    "papermill": {
     "duration": 0.010198,
     "end_time": "2024-05-08T19:56:58.256158",
     "exception": false,
     "start_time": "2024-05-08T19:56:58.245960",
     "status": "completed"
    },
    "tags": []
   },
   "outputs": [
    {
     "data": {
      "text/html": [
       "<ul>\n",
       "\n",
       "<li>description: A function which is K/x on the interval lower_bound - upper_bound and 0 outside the interval. The extremes of the interval are NOT counted as part of the interval. Lower_bound must be >= 0.</li>\n",
       "\n",
       "<li>formula: $ f(x)=K~\\begin{cases}0 & x \\le \\text{lower_bound} \\\\\\frac{1}{x} & \\text{lower_bound} < x < \\text{upper_bound} \\\\ 0 & x \\ge \\text{upper_bound} \\end{cases}$</li>\n",
       "\n",
       "<li>parameters: \n",
       "<ul>\n",
       "\n",
       "<li>lower_bound: \n",
       "<ul>\n",
       "\n",
       "<li>value: 1e-20</li>\n",
       "\n",
       "<li>desc: Lower bound for the interval</li>\n",
       "\n",
       "<li>min_value: 1e-30</li>\n",
       "\n",
       "<li>max_value: inf</li>\n",
       "\n",
       "<li>unit: </li>\n",
       "\n",
       "<li>is_normalization: False</li>\n",
       "\n",
       "<li>delta: 1e-21</li>\n",
       "\n",
       "<li>free: True</li>\n",
       "\n",
       "</ul>\n",
       "\n",
       "</li>\n",
       "\n",
       "<li>upper_bound: \n",
       "<ul>\n",
       "\n",
       "<li>value: 100.0</li>\n",
       "\n",
       "<li>desc: Upper bound for the interval</li>\n",
       "\n",
       "<li>min_value: 1e-30</li>\n",
       "\n",
       "<li>max_value: inf</li>\n",
       "\n",
       "<li>unit: </li>\n",
       "\n",
       "<li>is_normalization: False</li>\n",
       "\n",
       "<li>delta: 10.0</li>\n",
       "\n",
       "<li>free: True</li>\n",
       "\n",
       "</ul>\n",
       "\n",
       "</li>\n",
       "\n",
       "<li>K: \n",
       "<ul>\n",
       "\n",
       "<li>value: 1.0</li>\n",
       "\n",
       "<li>desc: Normalization</li>\n",
       "\n",
       "<li>min_value: None</li>\n",
       "\n",
       "<li>max_value: None</li>\n",
       "\n",
       "<li>unit: </li>\n",
       "\n",
       "<li>is_normalization: False</li>\n",
       "\n",
       "<li>delta: 0.1</li>\n",
       "\n",
       "<li>free: False</li>\n",
       "\n",
       "</ul>\n",
       "\n",
       "</li>\n",
       "\n",
       "</ul>\n",
       "\n",
       "</li>\n",
       "\n",
       "</ul>\n"
      ],
      "text/plain": [
       "  * description: A function which is K/x on the interval lower_bound - upper_bound and\n",
       "    * 0 outside the interval. The extremes of the interval are NOT counted as part of\n",
       "    * the interval. Lower_bound must be >= 0.\n",
       "  * formula: $ f(x)=K~\\begin{cases}0 & x \\le \\text{lower_bound} \\\\\\frac{1}{x} & \\text{lower_bound}\n",
       "    * < x < \\text{upper_bound} \\\\ 0 & x \\ge \\text{upper_bound} \\end{cases}$\n",
       "  * parameters:\n",
       "    * lower_bound:\n",
       "      * value: 1.0e-20\n",
       "      * desc: Lower bound for the interval\n",
       "      * min_value: 1.0e-30\n",
       "      * max_value: .inf\n",
       "      * unit: ''\n",
       "      * is_normalization: false\n",
       "      * delta: 1.0e-21\n",
       "      * free: true\n",
       "    * upper_bound:\n",
       "      * value: 100.0\n",
       "      * desc: Upper bound for the interval\n",
       "      * min_value: 1.0e-30\n",
       "      * max_value: .inf\n",
       "      * unit: ''\n",
       "      * is_normalization: false\n",
       "      * delta: 10.0\n",
       "      * free: true\n",
       "    * K:\n",
       "      * value: 1.0\n",
       "      * desc: Normalization\n",
       "      * min_value: null\n",
       "      * max_value: null\n",
       "      * unit: ''\n",
       "      * is_normalization: false\n",
       "      * delta: 0.1\n",
       "      * free: false"
      ]
     },
     "metadata": {},
     "output_type": "display_data"
    }
   ],
   "source": [
    "func.display()"
   ]
  },
  {
   "cell_type": "markdown",
   "id": "0e8cbb50",
   "metadata": {
    "papermill": {
     "duration": 0.001157,
     "end_time": "2024-05-08T19:56:58.258671",
     "exception": false,
     "start_time": "2024-05-08T19:56:58.257514",
     "status": "completed"
    },
    "tags": []
   },
   "source": [
    "## Shape \n",
    "\n",
    "The shape of the function. \n",
    "\n",
    "*If this is not a photon model but a prior or linear function then ignore the units as these docs are auto-generated*"
   ]
  },
  {
   "cell_type": "code",
   "execution_count": 6,
   "id": "70774a72",
   "metadata": {
    "execution": {
     "iopub.execute_input": "2024-05-08T19:56:58.261677Z",
     "iopub.status.busy": "2024-05-08T19:56:58.261506Z",
     "iopub.status.idle": "2024-05-08T19:56:58.365391Z",
     "shell.execute_reply": "2024-05-08T19:56:58.364352Z"
    },
    "papermill": {
     "duration": 0.10715,
     "end_time": "2024-05-08T19:56:58.366900",
     "exception": false,
     "start_time": "2024-05-08T19:56:58.259750",
     "status": "completed"
    },
    "tags": [
     "nbsphinx-thumbnail"
    ]
   },
   "outputs": [
    {
     "data": {
      "text/plain": [
       "Text(0, 0.5, 'probability')"
      ]
     },
     "execution_count": 6,
     "metadata": {},
     "output_type": "execute_result"
    },
    {
     "data": {
      "image/png": "[encoded data removed]",
      "text/plain": [
       "<Figure size 1040x910 with 1 Axes>"
      ]
     },
     "metadata": {},
     "output_type": "display_data"
    }
   ],
   "source": [
    "fig, ax = plt.subplots()\n",
    "\n",
    "\n",
    "ax.plot(energy_grid, func(energy_grid), color=blue, lw=3)\n",
    "\n",
    "ax.set_xlabel(\"x\")\n",
    "ax.set_ylabel(\"probability\")\n"
   ]
  },
  {
   "cell_type": "markdown",
   "id": "7a4817a5",
   "metadata": {
    "papermill": {
     "duration": 0.004065,
     "end_time": "2024-05-08T19:56:58.372644",
     "exception": false,
     "start_time": "2024-05-08T19:56:58.368579",
     "status": "completed"
    },
    "tags": []
   },
   "source": [
    "## Random Number Generation\n",
    "\n",
    "This is how we can generate random numbers from the prior.\n"
   ]
  },
  {
   "cell_type": "code",
   "execution_count": 7,
   "id": "0ef622c4",
   "metadata": {
    "execution": {
     "iopub.execute_input": "2024-05-08T19:56:58.376877Z",
     "iopub.status.busy": "2024-05-08T19:56:58.376697Z",
     "iopub.status.idle": "2024-05-08T19:56:58.500581Z",
     "shell.execute_reply": "2024-05-08T19:56:58.499700Z"
    },
    "papermill": {
     "duration": 0.127646,
     "end_time": "2024-05-08T19:56:58.502067",
     "exception": false,
     "start_time": "2024-05-08T19:56:58.374421",
     "status": "completed"
    },
    "tags": []
   },
   "outputs": [
    {
     "data": {
      "text/plain": [
       "Text(0, 0.5, 'N')"
      ]
     },
     "execution_count": 7,
     "metadata": {},
     "output_type": "execute_result"
    },
    {
     "data": {
      "image/png": "[encoded data removed]",
      "text/plain": [
       "<Figure size 1040x910 with 1 Axes>"
      ]
     },
     "metadata": {},
     "output_type": "display_data"
    }
   ],
   "source": [
    "\n",
    "\n",
    "u = np.random.uniform(0,1, size=5000)\n",
    "\n",
    "draws = [func.from_unit_cube(x) for x in u]\n",
    "\n",
    "\n",
    "fig, ax = plt.subplots()\n",
    "\n",
    "\n",
    "ax.hist(draws, color=green, bins=50)\n",
    "\n",
    "ax.set_xlabel(\"value\")\n",
    "ax.set_ylabel(\"N\")\n",
    "\n"
   ]
  }
 ],
 "metadata": {
  "jupytext": {
   "formats": "ipynb,md"
  },
  "kernelspec": {
   "display_name": "Python 3 (ipykernel)",
   "language": "python",
   "name": "python3"
  },
  "language_info": {
   "codemirror_mode": {
    "name": "ipython",
    "version": 3
   },
   "file_extension": ".py",
   "mimetype": "text/x-python",
   "name": "python",
   "nbconvert_exporter": "python",
   "pygments_lexer": "ipython3",
   "version": "3.9.13"
  },
  "papermill": {
   "default_parameters": {},
   "duration": 3.016814,
   "end_time": "2024-05-08T19:56:58.942465",
   "environment_variables": {},
   "exception": null,
   "input_path": "Log_uniform_prior.ipynb",
   "output_path": "/Users/runner/work/astromodels/astromodels/docs/notebooks/Log_uniform_prior.ipynb",
   "parameters": {
    "func_name": "Log_uniform_prior",
    "positive_prior": true
   },
   "start_time": "2024-05-08T19:56:55.925651",
   "version": "2.6.0"
  }
 },
 "nbformat": 4,
 "nbformat_minor": 5
}
