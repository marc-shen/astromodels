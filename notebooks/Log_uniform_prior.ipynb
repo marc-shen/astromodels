{
 "cells": [
  {
   "cell_type": "markdown",
   "id": "0f28c46d",
   "metadata": {
    "papermill": {
     "duration": 0.008063,
     "end_time": "2025-05-21T19:18:51.165816",
     "exception": false,
     "start_time": "2025-05-21T19:18:51.157753",
     "status": "completed"
    },
    "tags": []
   },
   "source": [
    "# Log uniform prior"
   ]
  },
  {
   "cell_type": "code",
   "execution_count": 1,
   "id": "bd82a410",
   "metadata": {
    "execution": {
     "iopub.execute_input": "2025-05-21T19:18:51.176758Z",
     "iopub.status.busy": "2025-05-21T19:18:51.176062Z",
     "iopub.status.idle": "2025-05-21T19:18:52.949494Z",
     "shell.execute_reply": "2025-05-21T19:18:52.948674Z"
    },
    "nbsphinx": "hidden",
    "papermill": {
     "duration": 1.782511,
     "end_time": "2025-05-21T19:18:52.952814",
     "exception": false,
     "start_time": "2025-05-21T19:18:51.170303",
     "status": "completed"
    },
    "tags": []
   },
   "outputs": [],
   "source": [
    "%%capture\n",
    "\n",
    "import numpy as np\n",
    "\n",
    "import matplotlib.pyplot as plt\n",
    "\n",
    "import warnings\n",
    "warnings.simplefilter(\"ignore\")\n",
    "\n",
    "from astromodels.functions.function import _known_functions\n",
    "\n",
    "\n",
    "from jupyterthemes import jtplot\n",
    "jtplot.style(context=\"talk\", fscale=1, ticks=True, grid=False)\n",
    "%matplotlib inline"
   ]
  },
  {
   "cell_type": "code",
   "execution_count": 2,
   "id": "cacb87d4",
   "metadata": {
    "execution": {
     "iopub.execute_input": "2025-05-21T19:18:52.959087Z",
     "iopub.status.busy": "2025-05-21T19:18:52.958505Z",
     "iopub.status.idle": "2025-05-21T19:18:52.962475Z",
     "shell.execute_reply": "2025-05-21T19:18:52.961621Z"
    },
    "nbsphinx": "hidden",
    "papermill": {
     "duration": 0.009094,
     "end_time": "2025-05-21T19:18:52.964586",
     "exception": false,
     "start_time": "2025-05-21T19:18:52.955492",
     "status": "completed"
    },
    "tags": [
     "parameters"
    ]
   },
   "outputs": [],
   "source": [
    "func_name = \"TbAbs\"\n",
    "\n",
    "positive_prior = False\n"
   ]
  },
  {
   "cell_type": "code",
   "execution_count": 3,
   "id": "027d914c",
   "metadata": {
    "execution": {
     "iopub.execute_input": "2025-05-21T19:18:52.968470Z",
     "iopub.status.busy": "2025-05-21T19:18:52.968208Z",
     "iopub.status.idle": "2025-05-21T19:18:52.971747Z",
     "shell.execute_reply": "2025-05-21T19:18:52.970968Z"
    },
    "papermill": {
     "duration": 0.007507,
     "end_time": "2025-05-21T19:18:52.973498",
     "exception": false,
     "start_time": "2025-05-21T19:18:52.965991",
     "status": "completed"
    },
    "tags": [
     "injected-parameters"
    ]
   },
   "outputs": [],
   "source": [
    "# Parameters\n",
    "func_name = \"Log_uniform_prior\"\n",
    "positive_prior = True\n"
   ]
  },
  {
   "cell_type": "code",
   "execution_count": 4,
   "id": "92a15c26",
   "metadata": {
    "execution": {
     "iopub.execute_input": "2025-05-21T19:18:52.977455Z",
     "iopub.status.busy": "2025-05-21T19:18:52.977225Z",
     "iopub.status.idle": "2025-05-21T19:18:52.987351Z",
     "shell.execute_reply": "2025-05-21T19:18:52.986673Z"
    },
    "lines_to_next_cell": 0,
    "nbsphinx": "hidden",
    "papermill": {
     "duration": 0.014261,
     "end_time": "2025-05-21T19:18:52.989238",
     "exception": false,
     "start_time": "2025-05-21T19:18:52.974977",
     "status": "completed"
    },
    "tags": []
   },
   "outputs": [],
   "source": [
    "func = _known_functions[func_name]()\n",
    "\n",
    "if not positive_prior:\n",
    "\n",
    "\tenergy_grid = np.linspace(-5,5,1000)\n",
    "\n",
    "else:\n",
    "    \n",
    "    energy_grid = np.linspace(0,1,1000)\n",
    "    \n",
    "    \n",
    "    \n",
    "    \n",
    "blue = \"#4152E3\"\n",
    "red = \"#E3414B\"\n",
    "green = \"#41E39E\""
   ]
  },
  {
   "cell_type": "markdown",
   "id": "4bf4544c",
   "metadata": {
    "lines_to_next_cell": 0,
    "papermill": {
     "duration": 0.001143,
     "end_time": "2025-05-21T19:18:52.991825",
     "exception": false,
     "start_time": "2025-05-21T19:18:52.990682",
     "status": "completed"
    },
    "tags": []
   },
   "source": [
    "## Description"
   ]
  },
  {
   "cell_type": "code",
   "execution_count": 5,
   "id": "e1010290",
   "metadata": {
    "execution": {
     "iopub.execute_input": "2025-05-21T19:18:52.995039Z",
     "iopub.status.busy": "2025-05-21T19:18:52.994800Z",
     "iopub.status.idle": "2025-05-21T19:18:53.005484Z",
     "shell.execute_reply": "2025-05-21T19:18:53.004824Z"
    },
    "papermill": {
     "duration": 0.014545,
     "end_time": "2025-05-21T19:18:53.007404",
     "exception": false,
     "start_time": "2025-05-21T19:18:52.992859",
     "status": "completed"
    },
    "tags": []
   },
   "outputs": [
    {
     "data": {
      "text/html": [
       "<ul>\n",
       "\n",
       "<li>description: A function which is K/x on the interval lower_bound - upper_bound and 0 outside the interval. The extremes of the interval are NOT counted as part of the interval. Lower_bound must be >= 0.</li>\n",
       "\n",
       "<li>formula: $ f(x)=K~\\begin{cases}0 & x \\le \\text{lower_bound} \\\\\\frac{1}{x} & \\text{lower_bound} < x < \\text{upper_bound} \\\\ 0 & x \\ge \\text{upper_bound} \\end{cases}$</li>\n",
       "\n",
       "<li>parameters: \n",
       "<ul>\n",
       "\n",
       "<li>lower_bound: \n",
       "<ul>\n",
       "\n",
       "<li>value: 1e-20</li>\n",
       "\n",
       "<li>desc: Lower bound for the interval</li>\n",
       "\n",
       "<li>min_value: 1e-30</li>\n",
       "\n",
       "<li>max_value: inf</li>\n",
       "\n",
       "<li>unit: </li>\n",
       "\n",
       "<li>is_normalization: False</li>\n",
       "\n",
       "<li>delta: 1e-21</li>\n",
       "\n",
       "<li>free: True</li>\n",
       "\n",
       "</ul>\n",
       "\n",
       "</li>\n",
       "\n",
       "<li>upper_bound: \n",
       "<ul>\n",
       "\n",
       "<li>value: 100.0</li>\n",
       "\n",
       "<li>desc: Upper bound for the interval</li>\n",
       "\n",
       "<li>min_value: 1e-30</li>\n",
       "\n",
       "<li>max_value: inf</li>\n",
       "\n",
       "<li>unit: </li>\n",
       "\n",
       "<li>is_normalization: False</li>\n",
       "\n",
       "<li>delta: 10.0</li>\n",
       "\n",
       "<li>free: True</li>\n",
       "\n",
       "</ul>\n",
       "\n",
       "</li>\n",
       "\n",
       "<li>K: \n",
       "<ul>\n",
       "\n",
       "<li>value: 1.0</li>\n",
       "\n",
       "<li>desc: Normalization</li>\n",
       "\n",
       "<li>min_value: None</li>\n",
       "\n",
       "<li>max_value: None</li>\n",
       "\n",
       "<li>unit: </li>\n",
       "\n",
       "<li>is_normalization: False</li>\n",
       "\n",
       "<li>delta: 0.1</li>\n",
       "\n",
       "<li>free: False</li>\n",
       "\n",
       "</ul>\n",
       "\n",
       "</li>\n",
       "\n",
       "</ul>\n",
       "\n",
       "</li>\n",
       "\n",
       "</ul>\n"
      ],
      "text/plain": [
       "  * description: A function which is K/x on the interval lower_bound - upper_bound and\n",
       "    * 0 outside the interval. The extremes of the interval are NOT counted as part of\n",
       "    * the interval. Lower_bound must be >= 0.\n",
       "  * formula: $ f(x)=K~\\begin{cases}0 & x \\le \\text{lower_bound} \\\\\\frac{1}{x} & \\text{lower_bound}\n",
       "    * < x < \\text{upper_bound} \\\\ 0 & x \\ge \\text{upper_bound} \\end{cases}$\n",
       "  * parameters:\n",
       "    * lower_bound:\n",
       "      * value: 1.0e-20\n",
       "      * desc: Lower bound for the interval\n",
       "      * min_value: 1.0e-30\n",
       "      * max_value: .inf\n",
       "      * unit: ''\n",
       "      * is_normalization: false\n",
       "      * delta: 1.0e-21\n",
       "      * free: true\n",
       "    * upper_bound:\n",
       "      * value: 100.0\n",
       "      * desc: Upper bound for the interval\n",
       "      * min_value: 1.0e-30\n",
       "      * max_value: .inf\n",
       "      * unit: ''\n",
       "      * is_normalization: false\n",
       "      * delta: 10.0\n",
       "      * free: true\n",
       "    * K:\n",
       "      * value: 1.0\n",
       "      * desc: Normalization\n",
       "      * min_value: null\n",
       "      * max_value: null\n",
       "      * unit: ''\n",
       "      * is_normalization: false\n",
       "      * delta: 0.1\n",
       "      * free: false"
      ]
     },
     "metadata": {},
     "output_type": "display_data"
    }
   ],
   "source": [
    "func.display()"
   ]
  },
  {
   "cell_type": "markdown",
   "id": "3e4fa52a",
   "metadata": {
    "papermill": {
     "duration": 0.001388,
     "end_time": "2025-05-21T19:18:53.010419",
     "exception": false,
     "start_time": "2025-05-21T19:18:53.009031",
     "status": "completed"
    },
    "tags": []
   },
   "source": [
    "## Shape \n",
    "\n",
    "The shape of the function. \n",
    "\n",
    "*If this is not a photon model but a prior or linear function then ignore the units as these docs are auto-generated*"
   ]
  },
  {
   "cell_type": "code",
   "execution_count": 6,
   "id": "f646bba1",
   "metadata": {
    "execution": {
     "iopub.execute_input": "2025-05-21T19:18:53.013974Z",
     "iopub.status.busy": "2025-05-21T19:18:53.013751Z",
     "iopub.status.idle": "2025-05-21T19:18:53.094294Z",
     "shell.execute_reply": "2025-05-21T19:18:53.093870Z"
    },
    "papermill": {
     "duration": 0.083812,
     "end_time": "2025-05-21T19:18:53.095518",
     "exception": false,
     "start_time": "2025-05-21T19:18:53.011706",
     "status": "completed"
    },
    "tags": [
     "nbsphinx-thumbnail"
    ]
   },
   "outputs": [
    {
     "data": {
      "text/plain": [
       "Text(0, 0.5, 'probability')"
      ]
     },
     "execution_count": 6,
     "metadata": {},
     "output_type": "execute_result"
    },
    {
     "data": {
      "image/png": "[encoded data removed]",
      "text/plain": [
       "<Figure size 1040x910 with 1 Axes>"
      ]
     },
     "metadata": {},
     "output_type": "display_data"
    }
   ],
   "source": [
    "fig, ax = plt.subplots()\n",
    "\n",
    "\n",
    "ax.plot(energy_grid, func(energy_grid), color=blue, lw=3)\n",
    "\n",
    "ax.set_xlabel(\"x\")\n",
    "ax.set_ylabel(\"probability\")\n"
   ]
  },
  {
   "cell_type": "markdown",
   "id": "68f5b5b3",
   "metadata": {
    "papermill": {
     "duration": 0.001386,
     "end_time": "2025-05-21T19:18:53.098650",
     "exception": false,
     "start_time": "2025-05-21T19:18:53.097264",
     "status": "completed"
    },
    "tags": []
   },
   "source": [
    "## Random Number Generation\n",
    "\n",
    "This is how we can generate random numbers from the prior.\n"
   ]
  },
  {
   "cell_type": "code",
   "execution_count": 7,
   "id": "f4eff011",
   "metadata": {
    "execution": {
     "iopub.execute_input": "2025-05-21T19:18:53.102038Z",
     "iopub.status.busy": "2025-05-21T19:18:53.101883Z",
     "iopub.status.idle": "2025-05-21T19:18:53.221771Z",
     "shell.execute_reply": "2025-05-21T19:18:53.221405Z"
    },
    "papermill": {
     "duration": 0.123194,
     "end_time": "2025-05-21T19:18:53.223179",
     "exception": false,
     "start_time": "2025-05-21T19:18:53.099985",
     "status": "completed"
    },
    "tags": []
   },
   "outputs": [
    {
     "data": {
      "text/plain": [
       "Text(0, 0.5, 'N')"
      ]
     },
     "execution_count": 7,
     "metadata": {},
     "output_type": "execute_result"
    },
    {
     "data": {
      "image/png": "[encoded data removed]",
      "text/plain": [
       "<Figure size 1040x910 with 1 Axes>"
      ]
     },
     "metadata": {},
     "output_type": "display_data"
    }
   ],
   "source": [
    "\n",
    "\n",
    "u = np.random.uniform(0,1, size=5000)\n",
    "\n",
    "draws = [func.from_unit_cube(x) for x in u]\n",
    "\n",
    "\n",
    "fig, ax = plt.subplots()\n",
    "\n",
    "\n",
    "ax.hist(draws, color=green, bins=50)\n",
    "\n",
    "ax.set_xlabel(\"value\")\n",
    "ax.set_ylabel(\"N\")\n",
    "\n"
   ]
  }
 ],
 "metadata": {
  "jupytext": {
   "formats": "ipynb,md"
  },
  "kernelspec": {
   "display_name": "Python 3 (ipykernel)",
   "language": "python",
   "name": "python3"
  },
  "language_info": {
   "codemirror_mode": {
    "name": "ipython",
    "version": 3
   },
   "file_extension": ".py",
   "mimetype": "text/x-python",
   "name": "python",
   "nbconvert_exporter": "python",
   "pygments_lexer": "ipython3",
   "version": "3.9.13"
  },
  "papermill": {
   "default_parameters": {},
   "duration": 3.118347,
   "end_time": "2025-05-21T19:18:53.660585",
   "environment_variables": {},
   "exception": null,
   "input_path": "Log_uniform_prior.ipynb",
   "output_path": "/Users/runner/work/astromodels/astromodels/docs/notebooks/Log_uniform_prior.ipynb",
   "parameters": {
    "func_name": "Log_uniform_prior",
    "positive_prior": true
   },
   "start_time": "2025-05-21T19:18:50.542238",
   "version": "2.6.0"
  }
 },
 "nbformat": 4,
 "nbformat_minor": 5
}
