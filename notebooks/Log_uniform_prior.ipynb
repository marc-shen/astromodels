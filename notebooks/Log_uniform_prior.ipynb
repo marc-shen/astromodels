{
 "cells": [
  {
   "cell_type": "markdown",
   "id": "fb92d93f",
   "metadata": {
    "papermill": {
     "duration": 0.00484,
     "end_time": "2022-09-28T03:50:49.145881",
     "exception": false,
     "start_time": "2022-09-28T03:50:49.141041",
     "status": "completed"
    },
    "tags": []
   },
   "source": [
    "# Log uniform prior"
   ]
  },
  {
   "cell_type": "code",
   "execution_count": 1,
   "id": "3cefb6e3",
   "metadata": {
    "execution": {
     "iopub.execute_input": "2022-09-28T03:50:49.159012Z",
     "iopub.status.busy": "2022-09-28T03:50:49.158546Z",
     "iopub.status.idle": "2022-09-28T03:50:54.064928Z",
     "shell.execute_reply": "2022-09-28T03:50:54.063312Z"
    },
    "nbsphinx": "hidden",
    "papermill": {
     "duration": 4.919292,
     "end_time": "2022-09-28T03:50:54.069419",
     "exception": false,
     "start_time": "2022-09-28T03:50:49.150127",
     "status": "completed"
    },
    "tags": []
   },
   "outputs": [],
   "source": [
    "%%capture\n",
    "\n",
    "import numpy as np\n",
    "\n",
    "import matplotlib.pyplot as plt\n",
    "\n",
    "import warnings\n",
    "warnings.simplefilter(\"ignore\")\n",
    "\n",
    "from astromodels.functions.function import _known_functions\n",
    "\n",
    "\n",
    "from jupyterthemes import jtplot\n",
    "jtplot.style(context=\"talk\", fscale=1, ticks=True, grid=False)\n",
    "%matplotlib inline"
   ]
  },
  {
   "cell_type": "code",
   "execution_count": 2,
   "id": "8cb707cb",
   "metadata": {
    "execution": {
     "iopub.execute_input": "2022-09-28T03:50:54.084893Z",
     "iopub.status.busy": "2022-09-28T03:50:54.083329Z",
     "iopub.status.idle": "2022-09-28T03:50:54.094073Z",
     "shell.execute_reply": "2022-09-28T03:50:54.089718Z"
    },
    "nbsphinx": "hidden",
    "papermill": {
     "duration": 0.022888,
     "end_time": "2022-09-28T03:50:54.099136",
     "exception": false,
     "start_time": "2022-09-28T03:50:54.076248",
     "status": "completed"
    },
    "tags": [
     "parameters"
    ]
   },
   "outputs": [],
   "source": [
    "func_name = \"TbAbs\"\n",
    "\n",
    "positive_prior = False\n"
   ]
  },
  {
   "cell_type": "code",
   "execution_count": 3,
   "id": "f25b8f9f",
   "metadata": {
    "execution": {
     "iopub.execute_input": "2022-09-28T03:50:54.111175Z",
     "iopub.status.busy": "2022-09-28T03:50:54.109111Z",
     "iopub.status.idle": "2022-09-28T03:50:54.119266Z",
     "shell.execute_reply": "2022-09-28T03:50:54.116269Z"
    },
    "papermill": {
     "duration": 0.021875,
     "end_time": "2022-09-28T03:50:54.124058",
     "exception": false,
     "start_time": "2022-09-28T03:50:54.102183",
     "status": "completed"
    },
    "tags": [
     "injected-parameters"
    ]
   },
   "outputs": [],
   "source": [
    "# Parameters\n",
    "func_name = \"Log_uniform_prior\"\n",
    "positive_prior = True\n"
   ]
  },
  {
   "cell_type": "code",
   "execution_count": 4,
   "id": "bec768e0",
   "metadata": {
    "execution": {
     "iopub.execute_input": "2022-09-28T03:50:54.139898Z",
     "iopub.status.busy": "2022-09-28T03:50:54.138482Z",
     "iopub.status.idle": "2022-09-28T03:50:54.148044Z",
     "shell.execute_reply": "2022-09-28T03:50:54.146689Z"
    },
    "lines_to_next_cell": 0,
    "nbsphinx": "hidden",
    "papermill": {
     "duration": 0.023139,
     "end_time": "2022-09-28T03:50:54.153302",
     "exception": false,
     "start_time": "2022-09-28T03:50:54.130163",
     "status": "completed"
    },
    "tags": []
   },
   "outputs": [],
   "source": [
    "func = _known_functions[func_name]()\n",
    "\n",
    "if not positive_prior:\n",
    "\n",
    "\tenergy_grid = np.linspace(-5,5,1000)\n",
    "\n",
    "else:\n",
    "    \n",
    "    energy_grid = np.linspace(0,1,1000)\n",
    "    \n",
    "    \n",
    "    \n",
    "    \n",
    "blue = \"#4152E3\"\n",
    "red = \"#E3414B\"\n",
    "green = \"#41E39E\""
   ]
  },
  {
   "cell_type": "markdown",
   "id": "f780e6a4",
   "metadata": {
    "lines_to_next_cell": 0,
    "papermill": {
     "duration": 0.002986,
     "end_time": "2022-09-28T03:50:54.159404",
     "exception": false,
     "start_time": "2022-09-28T03:50:54.156418",
     "status": "completed"
    },
    "tags": []
   },
   "source": [
    "## Description"
   ]
  },
  {
   "cell_type": "code",
   "execution_count": 5,
   "id": "37cad604",
   "metadata": {
    "execution": {
     "iopub.execute_input": "2022-09-28T03:50:54.168846Z",
     "iopub.status.busy": "2022-09-28T03:50:54.168413Z",
     "iopub.status.idle": "2022-09-28T03:50:54.182129Z",
     "shell.execute_reply": "2022-09-28T03:50:54.180950Z"
    },
    "papermill": {
     "duration": 0.023591,
     "end_time": "2022-09-28T03:50:54.186372",
     "exception": false,
     "start_time": "2022-09-28T03:50:54.162781",
     "status": "completed"
    },
    "tags": []
   },
   "outputs": [
    {
     "data": {
      "text/html": [
       "<ul>\n",
       "\n",
       "<li>description: A function which is K/x on the interval lower_bound - upper_bound and 0 outside the interval. The extremes of the interval are NOT counted as part of the interval. Lower_bound must be >= 0.</li>\n",
       "\n",
       "<li>formula: $ f(x)=K~\\begin{cases}0 & x \\le \\text{lower_bound} \\\\\\frac{1}{x} & \\text{lower_bound} < x < \\text{upper_bound} \\\\ 0 & x \\ge \\text{upper_bound} \\end{cases}$</li>\n",
       "\n",
       "<li>parameters: \n",
       "<ul>\n",
       "\n",
       "<li>lower_bound: \n",
       "<ul>\n",
       "\n",
       "<li>value: 1e-20</li>\n",
       "\n",
       "<li>desc: Lower bound for the interval</li>\n",
       "\n",
       "<li>min_value: 1e-30</li>\n",
       "\n",
       "<li>max_value: inf</li>\n",
       "\n",
       "<li>unit: </li>\n",
       "\n",
       "<li>is_normalization: False</li>\n",
       "\n",
       "<li>delta: 1e-21</li>\n",
       "\n",
       "<li>free: True</li>\n",
       "\n",
       "</ul>\n",
       "\n",
       "</li>\n",
       "\n",
       "<li>upper_bound: \n",
       "<ul>\n",
       "\n",
       "<li>value: 100.0</li>\n",
       "\n",
       "<li>desc: Upper bound for the interval</li>\n",
       "\n",
       "<li>min_value: 1e-30</li>\n",
       "\n",
       "<li>max_value: inf</li>\n",
       "\n",
       "<li>unit: </li>\n",
       "\n",
       "<li>is_normalization: False</li>\n",
       "\n",
       "<li>delta: 10.0</li>\n",
       "\n",
       "<li>free: True</li>\n",
       "\n",
       "</ul>\n",
       "\n",
       "</li>\n",
       "\n",
       "<li>K: \n",
       "<ul>\n",
       "\n",
       "<li>value: 1.0</li>\n",
       "\n",
       "<li>desc: Normalization</li>\n",
       "\n",
       "<li>min_value: None</li>\n",
       "\n",
       "<li>max_value: None</li>\n",
       "\n",
       "<li>unit: </li>\n",
       "\n",
       "<li>is_normalization: False</li>\n",
       "\n",
       "<li>delta: 0.1</li>\n",
       "\n",
       "<li>free: False</li>\n",
       "\n",
       "</ul>\n",
       "\n",
       "</li>\n",
       "\n",
       "</ul>\n",
       "\n",
       "</li>\n",
       "\n",
       "</ul>\n"
      ],
      "text/plain": [
       "  * description: A function which is K/x on the interval lower_bound - upper_bound and\n",
       "    * 0 outside the interval. The extremes of the interval are NOT counted as part of\n",
       "    * the interval. Lower_bound must be >= 0.\n",
       "  * formula: $ f(x)=K~\\begin{cases}0 & x \\le \\text{lower_bound} \\\\\\frac{1}{x} & \\text{lower_bound}\n",
       "    * < x < \\text{upper_bound} \\\\ 0 & x \\ge \\text{upper_bound} \\end{cases}$\n",
       "  * parameters:\n",
       "    * lower_bound:\n",
       "      * value: 1.0e-20\n",
       "      * desc: Lower bound for the interval\n",
       "      * min_value: 1.0e-30\n",
       "      * max_value: .inf\n",
       "      * unit: ''\n",
       "      * is_normalization: false\n",
       "      * delta: 1.0e-21\n",
       "      * free: true\n",
       "    * upper_bound:\n",
       "      * value: 100.0\n",
       "      * desc: Upper bound for the interval\n",
       "      * min_value: 1.0e-30\n",
       "      * max_value: .inf\n",
       "      * unit: ''\n",
       "      * is_normalization: false\n",
       "      * delta: 10.0\n",
       "      * free: true\n",
       "    * K:\n",
       "      * value: 1.0\n",
       "      * desc: Normalization\n",
       "      * min_value: null\n",
       "      * max_value: null\n",
       "      * unit: ''\n",
       "      * is_normalization: false\n",
       "      * delta: 0.1\n",
       "      * free: false"
      ]
     },
     "metadata": {},
     "output_type": "display_data"
    }
   ],
   "source": [
    "func.display()"
   ]
  },
  {
   "cell_type": "markdown",
   "id": "e91328fe",
   "metadata": {
    "papermill": {
     "duration": 0.003662,
     "end_time": "2022-09-28T03:50:54.193873",
     "exception": false,
     "start_time": "2022-09-28T03:50:54.190211",
     "status": "completed"
    },
    "tags": []
   },
   "source": [
    "## Shape \n",
    "\n",
    "The shape of the function. \n",
    "\n",
    "*If this is not a photon model but a prior or linear function then ignore the units as these docs are auto-generated*"
   ]
  },
  {
   "cell_type": "code",
   "execution_count": 6,
   "id": "46f27c4d",
   "metadata": {
    "execution": {
     "iopub.execute_input": "2022-09-28T03:50:54.205163Z",
     "iopub.status.busy": "2022-09-28T03:50:54.204740Z",
     "iopub.status.idle": "2022-09-28T03:50:54.633721Z",
     "shell.execute_reply": "2022-09-28T03:50:54.632324Z"
    },
    "papermill": {
     "duration": 0.441114,
     "end_time": "2022-09-28T03:50:54.638531",
     "exception": false,
     "start_time": "2022-09-28T03:50:54.197417",
     "status": "completed"
    },
    "tags": [
     "nbsphinx-thumbnail"
    ]
   },
   "outputs": [
    {
     "data": {
      "text/plain": [
       "Text(0, 0.5, 'probability')"
      ]
     },
     "execution_count": 6,
     "metadata": {},
     "output_type": "execute_result"
    },
    {
     "data": {
      "image/png": "[encoded data removed]",
      "text/plain": [
       "<Figure size 1040x910 with 1 Axes>"
      ]
     },
     "metadata": {},
     "output_type": "display_data"
    }
   ],
   "source": [
    "fig, ax = plt.subplots()\n",
    "\n",
    "\n",
    "ax.plot(energy_grid, func(energy_grid), color=blue, lw=3)\n",
    "\n",
    "ax.set_xlabel(\"x\")\n",
    "ax.set_ylabel(\"probability\")\n"
   ]
  },
  {
   "cell_type": "markdown",
   "id": "308b364d",
   "metadata": {
    "papermill": {
     "duration": 0.008857,
     "end_time": "2022-09-28T03:50:54.654575",
     "exception": false,
     "start_time": "2022-09-28T03:50:54.645718",
     "status": "completed"
    },
    "tags": []
   },
   "source": [
    "## Random Number Generation\n",
    "\n",
    "This is how we can generate random numbers from the prior.\n"
   ]
  },
  {
   "cell_type": "code",
   "execution_count": 7,
   "id": "8a6697c7",
   "metadata": {
    "execution": {
     "iopub.execute_input": "2022-09-28T03:50:54.667199Z",
     "iopub.status.busy": "2022-09-28T03:50:54.666717Z",
     "iopub.status.idle": "2022-09-28T03:50:55.151401Z",
     "shell.execute_reply": "2022-09-28T03:50:55.149843Z"
    },
    "papermill": {
     "duration": 0.497048,
     "end_time": "2022-09-28T03:50:55.155779",
     "exception": false,
     "start_time": "2022-09-28T03:50:54.658731",
     "status": "completed"
    },
    "tags": []
   },
   "outputs": [
    {
     "data": {
      "text/plain": [
       "Text(0, 0.5, 'N')"
      ]
     },
     "execution_count": 7,
     "metadata": {},
     "output_type": "execute_result"
    },
    {
     "data": {
      "image/png": "[encoded data removed]",
      "text/plain": [
       "<Figure size 1040x910 with 1 Axes>"
      ]
     },
     "metadata": {},
     "output_type": "display_data"
    }
   ],
   "source": [
    "\n",
    "\n",
    "u = np.random.uniform(0,1, size=5000)\n",
    "\n",
    "draws = [func.from_unit_cube(x) for x in u]\n",
    "\n",
    "\n",
    "fig, ax = plt.subplots()\n",
    "\n",
    "\n",
    "ax.hist(draws, color=green, bins=50)\n",
    "\n",
    "ax.set_xlabel(\"value\")\n",
    "ax.set_ylabel(\"N\")\n",
    "\n"
   ]
  }
 ],
 "metadata": {
  "jupytext": {
   "formats": "ipynb,md"
  },
  "kernelspec": {
   "display_name": "Python 3 (ipykernel)",
   "language": "python",
   "name": "python3"
  },
  "language_info": {
   "codemirror_mode": {
    "name": "ipython",
    "version": 3
   },
   "file_extension": ".py",
   "mimetype": "text/x-python",
   "name": "python",
   "nbconvert_exporter": "python",
   "pygments_lexer": "ipython3",
   "version": "3.9.14"
  },
  "papermill": {
   "default_parameters": {},
   "duration": 8.578039,
   "end_time": "2022-09-28T03:50:56.144187",
   "environment_variables": {},
   "exception": null,
   "input_path": "Log_uniform_prior.ipynb",
   "output_path": "/Users/runner/work/astromodels/astromodels/docs/notebooks/Log_uniform_prior.ipynb",
   "parameters": {
    "func_name": "Log_uniform_prior",
    "positive_prior": true
   },
   "start_time": "2022-09-28T03:50:47.566148",
   "version": "2.4.0"
  }
 },
 "nbformat": 4,
 "nbformat_minor": 5
}
