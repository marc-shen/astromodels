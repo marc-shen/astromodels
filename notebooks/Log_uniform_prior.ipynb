{
 "cells": [
  {
   "cell_type": "markdown",
   "id": "106c7ded",
   "metadata": {
    "papermill": {
     "duration": 0.009,
     "end_time": "2024-05-13T23:11:53.637167",
     "exception": false,
     "start_time": "2024-05-13T23:11:53.628167",
     "status": "completed"
    },
    "tags": []
   },
   "source": [
    "# Log uniform prior"
   ]
  },
  {
   "cell_type": "code",
   "execution_count": 1,
   "id": "22a8bcf7",
   "metadata": {
    "execution": {
     "iopub.execute_input": "2024-05-13T23:11:53.650719Z",
     "iopub.status.busy": "2024-05-13T23:11:53.650171Z",
     "iopub.status.idle": "2024-05-13T23:11:55.051661Z",
     "shell.execute_reply": "2024-05-13T23:11:55.051138Z"
    },
    "nbsphinx": "hidden",
    "papermill": {
     "duration": 1.409869,
     "end_time": "2024-05-13T23:11:55.053183",
     "exception": false,
     "start_time": "2024-05-13T23:11:53.643314",
     "status": "completed"
    },
    "tags": []
   },
   "outputs": [],
   "source": [
    "%%capture\n",
    "\n",
    "import numpy as np\n",
    "\n",
    "import matplotlib.pyplot as plt\n",
    "\n",
    "import warnings\n",
    "warnings.simplefilter(\"ignore\")\n",
    "\n",
    "from astromodels.functions.function import _known_functions\n",
    "\n",
    "\n",
    "from jupyterthemes import jtplot\n",
    "jtplot.style(context=\"talk\", fscale=1, ticks=True, grid=False)\n",
    "%matplotlib inline"
   ]
  },
  {
   "cell_type": "code",
   "execution_count": 2,
   "id": "a55b5bd8",
   "metadata": {
    "execution": {
     "iopub.execute_input": "2024-05-13T23:11:55.056379Z",
     "iopub.status.busy": "2024-05-13T23:11:55.056033Z",
     "iopub.status.idle": "2024-05-13T23:11:55.058180Z",
     "shell.execute_reply": "2024-05-13T23:11:55.057821Z"
    },
    "nbsphinx": "hidden",
    "papermill": {
     "duration": 0.005068,
     "end_time": "2024-05-13T23:11:55.059542",
     "exception": false,
     "start_time": "2024-05-13T23:11:55.054474",
     "status": "completed"
    },
    "tags": [
     "parameters"
    ]
   },
   "outputs": [],
   "source": [
    "func_name = \"TbAbs\"\n",
    "\n",
    "positive_prior = False\n"
   ]
  },
  {
   "cell_type": "code",
   "execution_count": 3,
   "id": "8e9d5838",
   "metadata": {
    "execution": {
     "iopub.execute_input": "2024-05-13T23:11:55.062062Z",
     "iopub.status.busy": "2024-05-13T23:11:55.061920Z",
     "iopub.status.idle": "2024-05-13T23:11:55.068296Z",
     "shell.execute_reply": "2024-05-13T23:11:55.067885Z"
    },
    "papermill": {
     "duration": 0.008994,
     "end_time": "2024-05-13T23:11:55.069517",
     "exception": false,
     "start_time": "2024-05-13T23:11:55.060523",
     "status": "completed"
    },
    "tags": [
     "injected-parameters"
    ]
   },
   "outputs": [],
   "source": [
    "# Parameters\n",
    "func_name = \"Log_uniform_prior\"\n",
    "positive_prior = True\n"
   ]
  },
  {
   "cell_type": "code",
   "execution_count": 4,
   "id": "7bdb1877",
   "metadata": {
    "execution": {
     "iopub.execute_input": "2024-05-13T23:11:55.072086Z",
     "iopub.status.busy": "2024-05-13T23:11:55.071951Z",
     "iopub.status.idle": "2024-05-13T23:11:55.080934Z",
     "shell.execute_reply": "2024-05-13T23:11:55.080560Z"
    },
    "lines_to_next_cell": 0,
    "nbsphinx": "hidden",
    "papermill": {
     "duration": 0.011703,
     "end_time": "2024-05-13T23:11:55.082210",
     "exception": false,
     "start_time": "2024-05-13T23:11:55.070507",
     "status": "completed"
    },
    "tags": []
   },
   "outputs": [],
   "source": [
    "func = _known_functions[func_name]()\n",
    "\n",
    "if not positive_prior:\n",
    "\n",
    "\tenergy_grid = np.linspace(-5,5,1000)\n",
    "\n",
    "else:\n",
    "    \n",
    "    energy_grid = np.linspace(0,1,1000)\n",
    "    \n",
    "    \n",
    "    \n",
    "    \n",
    "blue = \"#4152E3\"\n",
    "red = \"#E3414B\"\n",
    "green = \"#41E39E\""
   ]
  },
  {
   "cell_type": "markdown",
   "id": "23700bab",
   "metadata": {
    "lines_to_next_cell": 0,
    "papermill": {
     "duration": 0.00104,
     "end_time": "2024-05-13T23:11:55.084322",
     "exception": false,
     "start_time": "2024-05-13T23:11:55.083282",
     "status": "completed"
    },
    "tags": []
   },
   "source": [
    "## Description"
   ]
  },
  {
   "cell_type": "code",
   "execution_count": 5,
   "id": "aa4085ec",
   "metadata": {
    "execution": {
     "iopub.execute_input": "2024-05-13T23:11:55.086922Z",
     "iopub.status.busy": "2024-05-13T23:11:55.086774Z",
     "iopub.status.idle": "2024-05-13T23:11:55.097105Z",
     "shell.execute_reply": "2024-05-13T23:11:55.096675Z"
    },
    "papermill": {
     "duration": 0.012986,
     "end_time": "2024-05-13T23:11:55.098277",
     "exception": false,
     "start_time": "2024-05-13T23:11:55.085291",
     "status": "completed"
    },
    "tags": []
   },
   "outputs": [
    {
     "data": {
      "text/html": [
       "<ul>\n",
       "\n",
       "<li>description: A function which is K/x on the interval lower_bound - upper_bound and 0 outside the interval. The extremes of the interval are NOT counted as part of the interval. Lower_bound must be >= 0.</li>\n",
       "\n",
       "<li>formula: $ f(x)=K~\\begin{cases}0 & x \\le \\text{lower_bound} \\\\\\frac{1}{x} & \\text{lower_bound} < x < \\text{upper_bound} \\\\ 0 & x \\ge \\text{upper_bound} \\end{cases}$</li>\n",
       "\n",
       "<li>parameters: \n",
       "<ul>\n",
       "\n",
       "<li>lower_bound: \n",
       "<ul>\n",
       "\n",
       "<li>value: 1e-20</li>\n",
       "\n",
       "<li>desc: Lower bound for the interval</li>\n",
       "\n",
       "<li>min_value: 1e-30</li>\n",
       "\n",
       "<li>max_value: inf</li>\n",
       "\n",
       "<li>unit: </li>\n",
       "\n",
       "<li>is_normalization: False</li>\n",
       "\n",
       "<li>delta: 1e-21</li>\n",
       "\n",
       "<li>free: True</li>\n",
       "\n",
       "</ul>\n",
       "\n",
       "</li>\n",
       "\n",
       "<li>upper_bound: \n",
       "<ul>\n",
       "\n",
       "<li>value: 100.0</li>\n",
       "\n",
       "<li>desc: Upper bound for the interval</li>\n",
       "\n",
       "<li>min_value: 1e-30</li>\n",
       "\n",
       "<li>max_value: inf</li>\n",
       "\n",
       "<li>unit: </li>\n",
       "\n",
       "<li>is_normalization: False</li>\n",
       "\n",
       "<li>delta: 10.0</li>\n",
       "\n",
       "<li>free: True</li>\n",
       "\n",
       "</ul>\n",
       "\n",
       "</li>\n",
       "\n",
       "<li>K: \n",
       "<ul>\n",
       "\n",
       "<li>value: 1.0</li>\n",
       "\n",
       "<li>desc: Normalization</li>\n",
       "\n",
       "<li>min_value: None</li>\n",
       "\n",
       "<li>max_value: None</li>\n",
       "\n",
       "<li>unit: </li>\n",
       "\n",
       "<li>is_normalization: False</li>\n",
       "\n",
       "<li>delta: 0.1</li>\n",
       "\n",
       "<li>free: False</li>\n",
       "\n",
       "</ul>\n",
       "\n",
       "</li>\n",
       "\n",
       "</ul>\n",
       "\n",
       "</li>\n",
       "\n",
       "</ul>\n"
      ],
      "text/plain": [
       "  * description: A function which is K/x on the interval lower_bound - upper_bound and\n",
       "    * 0 outside the interval. The extremes of the interval are NOT counted as part of\n",
       "    * the interval. Lower_bound must be >= 0.\n",
       "  * formula: $ f(x)=K~\\begin{cases}0 & x \\le \\text{lower_bound} \\\\\\frac{1}{x} & \\text{lower_bound}\n",
       "    * < x < \\text{upper_bound} \\\\ 0 & x \\ge \\text{upper_bound} \\end{cases}$\n",
       "  * parameters:\n",
       "    * lower_bound:\n",
       "      * value: 1.0e-20\n",
       "      * desc: Lower bound for the interval\n",
       "      * min_value: 1.0e-30\n",
       "      * max_value: .inf\n",
       "      * unit: ''\n",
       "      * is_normalization: false\n",
       "      * delta: 1.0e-21\n",
       "      * free: true\n",
       "    * upper_bound:\n",
       "      * value: 100.0\n",
       "      * desc: Upper bound for the interval\n",
       "      * min_value: 1.0e-30\n",
       "      * max_value: .inf\n",
       "      * unit: ''\n",
       "      * is_normalization: false\n",
       "      * delta: 10.0\n",
       "      * free: true\n",
       "    * K:\n",
       "      * value: 1.0\n",
       "      * desc: Normalization\n",
       "      * min_value: null\n",
       "      * max_value: null\n",
       "      * unit: ''\n",
       "      * is_normalization: false\n",
       "      * delta: 0.1\n",
       "      * free: false"
      ]
     },
     "metadata": {},
     "output_type": "display_data"
    }
   ],
   "source": [
    "func.display()"
   ]
  },
  {
   "cell_type": "markdown",
   "id": "66006507",
   "metadata": {
    "papermill": {
     "duration": 0.00111,
     "end_time": "2024-05-13T23:11:55.100549",
     "exception": false,
     "start_time": "2024-05-13T23:11:55.099439",
     "status": "completed"
    },
    "tags": []
   },
   "source": [
    "## Shape \n",
    "\n",
    "The shape of the function. \n",
    "\n",
    "*If this is not a photon model but a prior or linear function then ignore the units as these docs are auto-generated*"
   ]
  },
  {
   "cell_type": "code",
   "execution_count": 6,
   "id": "af1bcc68",
   "metadata": {
    "execution": {
     "iopub.execute_input": "2024-05-13T23:11:55.103267Z",
     "iopub.status.busy": "2024-05-13T23:11:55.103125Z",
     "iopub.status.idle": "2024-05-13T23:11:55.206898Z",
     "shell.execute_reply": "2024-05-13T23:11:55.206491Z"
    },
    "papermill": {
     "duration": 0.106626,
     "end_time": "2024-05-13T23:11:55.208203",
     "exception": false,
     "start_time": "2024-05-13T23:11:55.101577",
     "status": "completed"
    },
    "tags": [
     "nbsphinx-thumbnail"
    ]
   },
   "outputs": [
    {
     "data": {
      "text/plain": [
       "Text(0, 0.5, 'probability')"
      ]
     },
     "execution_count": 6,
     "metadata": {},
     "output_type": "execute_result"
    },
    {
     "data": {
      "image/png": "[encoded data removed]",
      "text/plain": [
       "<Figure size 1040x910 with 1 Axes>"
      ]
     },
     "metadata": {},
     "output_type": "display_data"
    }
   ],
   "source": [
    "fig, ax = plt.subplots()\n",
    "\n",
    "\n",
    "ax.plot(energy_grid, func(energy_grid), color=blue, lw=3)\n",
    "\n",
    "ax.set_xlabel(\"x\")\n",
    "ax.set_ylabel(\"probability\")\n"
   ]
  },
  {
   "cell_type": "markdown",
   "id": "03e10f2d",
   "metadata": {
    "papermill": {
     "duration": 0.001362,
     "end_time": "2024-05-13T23:11:55.211147",
     "exception": false,
     "start_time": "2024-05-13T23:11:55.209785",
     "status": "completed"
    },
    "tags": []
   },
   "source": [
    "## Random Number Generation\n",
    "\n",
    "This is how we can generate random numbers from the prior.\n"
   ]
  },
  {
   "cell_type": "code",
   "execution_count": 7,
   "id": "771f2987",
   "metadata": {
    "execution": {
     "iopub.execute_input": "2024-05-13T23:11:55.214394Z",
     "iopub.status.busy": "2024-05-13T23:11:55.214263Z",
     "iopub.status.idle": "2024-05-13T23:11:55.330138Z",
     "shell.execute_reply": "2024-05-13T23:11:55.329812Z"
    },
    "papermill": {
     "duration": 0.119113,
     "end_time": "2024-05-13T23:11:55.331551",
     "exception": false,
     "start_time": "2024-05-13T23:11:55.212438",
     "status": "completed"
    },
    "tags": []
   },
   "outputs": [
    {
     "data": {
      "text/plain": [
       "Text(0, 0.5, 'N')"
      ]
     },
     "execution_count": 7,
     "metadata": {},
     "output_type": "execute_result"
    },
    {
     "data": {
      "image/png": "[encoded data removed]",
      "text/plain": [
       "<Figure size 1040x910 with 1 Axes>"
      ]
     },
     "metadata": {},
     "output_type": "display_data"
    }
   ],
   "source": [
    "\n",
    "\n",
    "u = np.random.uniform(0,1, size=5000)\n",
    "\n",
    "draws = [func.from_unit_cube(x) for x in u]\n",
    "\n",
    "\n",
    "fig, ax = plt.subplots()\n",
    "\n",
    "\n",
    "ax.hist(draws, color=green, bins=50)\n",
    "\n",
    "ax.set_xlabel(\"value\")\n",
    "ax.set_ylabel(\"N\")\n",
    "\n"
   ]
  }
 ],
 "metadata": {
  "jupytext": {
   "formats": "ipynb,md"
  },
  "kernelspec": {
   "display_name": "Python 3 (ipykernel)",
   "language": "python",
   "name": "python3"
  },
  "language_info": {
   "codemirror_mode": {
    "name": "ipython",
    "version": 3
   },
   "file_extension": ".py",
   "mimetype": "text/x-python",
   "name": "python",
   "nbconvert_exporter": "python",
   "pygments_lexer": "ipython3",
   "version": "3.9.13"
  },
  "papermill": {
   "default_parameters": {},
   "duration": 2.637963,
   "end_time": "2024-05-13T23:11:55.662636",
   "environment_variables": {},
   "exception": null,
   "input_path": "Log_uniform_prior.ipynb",
   "output_path": "/Users/runner/work/astromodels/astromodels/docs/notebooks/Log_uniform_prior.ipynb",
   "parameters": {
    "func_name": "Log_uniform_prior",
    "positive_prior": true
   },
   "start_time": "2024-05-13T23:11:53.024673",
   "version": "2.6.0"
  }
 },
 "nbformat": 4,
 "nbformat_minor": 5
}
