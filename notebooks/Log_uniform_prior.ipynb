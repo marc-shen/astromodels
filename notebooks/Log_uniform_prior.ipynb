{
 "cells": [
  {
   "cell_type": "markdown",
   "id": "e990b8f8",
   "metadata": {
    "papermill": {
     "duration": 0.003165,
     "end_time": "2024-08-13T19:48:05.135959",
     "exception": false,
     "start_time": "2024-08-13T19:48:05.132794",
     "status": "completed"
    },
    "tags": []
   },
   "source": [
    "# Log uniform prior"
   ]
  },
  {
   "cell_type": "code",
   "execution_count": 1,
   "id": "8782613c",
   "metadata": {
    "execution": {
     "iopub.execute_input": "2024-08-13T19:48:05.142705Z",
     "iopub.status.busy": "2024-08-13T19:48:05.142384Z",
     "iopub.status.idle": "2024-08-13T19:48:06.706485Z",
     "shell.execute_reply": "2024-08-13T19:48:06.705998Z"
    },
    "nbsphinx": "hidden",
    "papermill": {
     "duration": 1.569341,
     "end_time": "2024-08-13T19:48:06.708021",
     "exception": false,
     "start_time": "2024-08-13T19:48:05.138680",
     "status": "completed"
    },
    "tags": []
   },
   "outputs": [],
   "source": [
    "%%capture\n",
    "\n",
    "import numpy as np\n",
    "\n",
    "import matplotlib.pyplot as plt\n",
    "\n",
    "import warnings\n",
    "warnings.simplefilter(\"ignore\")\n",
    "\n",
    "from astromodels.functions.function import _known_functions\n",
    "\n",
    "\n",
    "from jupyterthemes import jtplot\n",
    "jtplot.style(context=\"talk\", fscale=1, ticks=True, grid=False)\n",
    "%matplotlib inline"
   ]
  },
  {
   "cell_type": "code",
   "execution_count": 2,
   "id": "44f2f98d",
   "metadata": {
    "execution": {
     "iopub.execute_input": "2024-08-13T19:48:06.711212Z",
     "iopub.status.busy": "2024-08-13T19:48:06.710901Z",
     "iopub.status.idle": "2024-08-13T19:48:06.719322Z",
     "shell.execute_reply": "2024-08-13T19:48:06.718870Z"
    },
    "nbsphinx": "hidden",
    "papermill": {
     "duration": 0.011273,
     "end_time": "2024-08-13T19:48:06.720583",
     "exception": false,
     "start_time": "2024-08-13T19:48:06.709310",
     "status": "completed"
    },
    "tags": [
     "parameters"
    ]
   },
   "outputs": [],
   "source": [
    "func_name = \"TbAbs\"\n",
    "\n",
    "positive_prior = False\n"
   ]
  },
  {
   "cell_type": "code",
   "execution_count": 3,
   "id": "f9cda3b2",
   "metadata": {
    "execution": {
     "iopub.execute_input": "2024-08-13T19:48:06.723253Z",
     "iopub.status.busy": "2024-08-13T19:48:06.723115Z",
     "iopub.status.idle": "2024-08-13T19:48:06.730974Z",
     "shell.execute_reply": "2024-08-13T19:48:06.730622Z"
    },
    "papermill": {
     "duration": 0.01062,
     "end_time": "2024-08-13T19:48:06.732253",
     "exception": false,
     "start_time": "2024-08-13T19:48:06.721633",
     "status": "completed"
    },
    "tags": [
     "injected-parameters"
    ]
   },
   "outputs": [],
   "source": [
    "# Parameters\n",
    "func_name = \"Log_uniform_prior\"\n",
    "positive_prior = True\n"
   ]
  },
  {
   "cell_type": "code",
   "execution_count": 4,
   "id": "2f2dc575",
   "metadata": {
    "execution": {
     "iopub.execute_input": "2024-08-13T19:48:06.734904Z",
     "iopub.status.busy": "2024-08-13T19:48:06.734761Z",
     "iopub.status.idle": "2024-08-13T19:48:06.742901Z",
     "shell.execute_reply": "2024-08-13T19:48:06.742519Z"
    },
    "lines_to_next_cell": 0,
    "nbsphinx": "hidden",
    "papermill": {
     "duration": 0.010864,
     "end_time": "2024-08-13T19:48:06.744111",
     "exception": false,
     "start_time": "2024-08-13T19:48:06.733247",
     "status": "completed"
    },
    "tags": []
   },
   "outputs": [],
   "source": [
    "func = _known_functions[func_name]()\n",
    "\n",
    "if not positive_prior:\n",
    "\n",
    "\tenergy_grid = np.linspace(-5,5,1000)\n",
    "\n",
    "else:\n",
    "    \n",
    "    energy_grid = np.linspace(0,1,1000)\n",
    "    \n",
    "    \n",
    "    \n",
    "    \n",
    "blue = \"#4152E3\"\n",
    "red = \"#E3414B\"\n",
    "green = \"#41E39E\""
   ]
  },
  {
   "cell_type": "markdown",
   "id": "6de2cc3a",
   "metadata": {
    "lines_to_next_cell": 0,
    "papermill": {
     "duration": 0.001003,
     "end_time": "2024-08-13T19:48:06.746165",
     "exception": false,
     "start_time": "2024-08-13T19:48:06.745162",
     "status": "completed"
    },
    "tags": []
   },
   "source": [
    "## Description"
   ]
  },
  {
   "cell_type": "code",
   "execution_count": 5,
   "id": "f4f1c518",
   "metadata": {
    "execution": {
     "iopub.execute_input": "2024-08-13T19:48:06.748810Z",
     "iopub.status.busy": "2024-08-13T19:48:06.748664Z",
     "iopub.status.idle": "2024-08-13T19:48:06.752664Z",
     "shell.execute_reply": "2024-08-13T19:48:06.752175Z"
    },
    "papermill": {
     "duration": 0.006785,
     "end_time": "2024-08-13T19:48:06.754010",
     "exception": false,
     "start_time": "2024-08-13T19:48:06.747225",
     "status": "completed"
    },
    "tags": []
   },
   "outputs": [
    {
     "data": {
      "text/html": [
       "<ul>\n",
       "\n",
       "<li>description: A function which is K/x on the interval lower_bound - upper_bound and 0 outside the interval. The extremes of the interval are NOT counted as part of the interval. Lower_bound must be >= 0.</li>\n",
       "\n",
       "<li>formula: $ f(x)=K~\\begin{cases}0 & x \\le \\text{lower_bound} \\\\\\frac{1}{x} & \\text{lower_bound} < x < \\text{upper_bound} \\\\ 0 & x \\ge \\text{upper_bound} \\end{cases}$</li>\n",
       "\n",
       "<li>parameters: \n",
       "<ul>\n",
       "\n",
       "<li>lower_bound: \n",
       "<ul>\n",
       "\n",
       "<li>value: 1e-20</li>\n",
       "\n",
       "<li>desc: Lower bound for the interval</li>\n",
       "\n",
       "<li>min_value: 1e-30</li>\n",
       "\n",
       "<li>max_value: inf</li>\n",
       "\n",
       "<li>unit: </li>\n",
       "\n",
       "<li>is_normalization: False</li>\n",
       "\n",
       "<li>delta: 1e-21</li>\n",
       "\n",
       "<li>free: True</li>\n",
       "\n",
       "</ul>\n",
       "\n",
       "</li>\n",
       "\n",
       "<li>upper_bound: \n",
       "<ul>\n",
       "\n",
       "<li>value: 100.0</li>\n",
       "\n",
       "<li>desc: Upper bound for the interval</li>\n",
       "\n",
       "<li>min_value: 1e-30</li>\n",
       "\n",
       "<li>max_value: inf</li>\n",
       "\n",
       "<li>unit: </li>\n",
       "\n",
       "<li>is_normalization: False</li>\n",
       "\n",
       "<li>delta: 10.0</li>\n",
       "\n",
       "<li>free: True</li>\n",
       "\n",
       "</ul>\n",
       "\n",
       "</li>\n",
       "\n",
       "<li>K: \n",
       "<ul>\n",
       "\n",
       "<li>value: 1.0</li>\n",
       "\n",
       "<li>desc: Normalization</li>\n",
       "\n",
       "<li>min_value: None</li>\n",
       "\n",
       "<li>max_value: None</li>\n",
       "\n",
       "<li>unit: </li>\n",
       "\n",
       "<li>is_normalization: False</li>\n",
       "\n",
       "<li>delta: 0.1</li>\n",
       "\n",
       "<li>free: False</li>\n",
       "\n",
       "</ul>\n",
       "\n",
       "</li>\n",
       "\n",
       "</ul>\n",
       "\n",
       "</li>\n",
       "\n",
       "</ul>\n"
      ],
      "text/plain": [
       "  * description: A function which is K/x on the interval lower_bound - upper_bound and\n",
       "    * 0 outside the interval. The extremes of the interval are NOT counted as part of\n",
       "    * the interval. Lower_bound must be >= 0.\n",
       "  * formula: $ f(x)=K~\\begin{cases}0 & x \\le \\text{lower_bound} \\\\\\frac{1}{x} & \\text{lower_bound}\n",
       "    * < x < \\text{upper_bound} \\\\ 0 & x \\ge \\text{upper_bound} \\end{cases}$\n",
       "  * parameters:\n",
       "    * lower_bound:\n",
       "      * value: 1.0e-20\n",
       "      * desc: Lower bound for the interval\n",
       "      * min_value: 1.0e-30\n",
       "      * max_value: .inf\n",
       "      * unit: ''\n",
       "      * is_normalization: false\n",
       "      * delta: 1.0e-21\n",
       "      * free: true\n",
       "    * upper_bound:\n",
       "      * value: 100.0\n",
       "      * desc: Upper bound for the interval\n",
       "      * min_value: 1.0e-30\n",
       "      * max_value: .inf\n",
       "      * unit: ''\n",
       "      * is_normalization: false\n",
       "      * delta: 10.0\n",
       "      * free: true\n",
       "    * K:\n",
       "      * value: 1.0\n",
       "      * desc: Normalization\n",
       "      * min_value: null\n",
       "      * max_value: null\n",
       "      * unit: ''\n",
       "      * is_normalization: false\n",
       "      * delta: 0.1\n",
       "      * free: false"
      ]
     },
     "metadata": {},
     "output_type": "display_data"
    }
   ],
   "source": [
    "func.display()"
   ]
  },
  {
   "cell_type": "markdown",
   "id": "e3a34170",
   "metadata": {
    "papermill": {
     "duration": 0.001095,
     "end_time": "2024-08-13T19:48:06.756252",
     "exception": false,
     "start_time": "2024-08-13T19:48:06.755157",
     "status": "completed"
    },
    "tags": []
   },
   "source": [
    "## Shape \n",
    "\n",
    "The shape of the function. \n",
    "\n",
    "*If this is not a photon model but a prior or linear function then ignore the units as these docs are auto-generated*"
   ]
  },
  {
   "cell_type": "code",
   "execution_count": 6,
   "id": "8c32b024",
   "metadata": {
    "execution": {
     "iopub.execute_input": "2024-08-13T19:48:06.759065Z",
     "iopub.status.busy": "2024-08-13T19:48:06.758916Z",
     "iopub.status.idle": "2024-08-13T19:48:06.853212Z",
     "shell.execute_reply": "2024-08-13T19:48:06.852892Z"
    },
    "papermill": {
     "duration": 0.097443,
     "end_time": "2024-08-13T19:48:06.854746",
     "exception": false,
     "start_time": "2024-08-13T19:48:06.757303",
     "status": "completed"
    },
    "tags": [
     "nbsphinx-thumbnail"
    ]
   },
   "outputs": [
    {
     "data": {
      "text/plain": [
       "Text(0, 0.5, 'probability')"
      ]
     },
     "execution_count": 6,
     "metadata": {},
     "output_type": "execute_result"
    },
    {
     "data": {
      "image/png": "[encoded data removed]",
      "text/plain": [
       "<Figure size 1040x910 with 1 Axes>"
      ]
     },
     "metadata": {},
     "output_type": "display_data"
    }
   ],
   "source": [
    "fig, ax = plt.subplots()\n",
    "\n",
    "\n",
    "ax.plot(energy_grid, func(energy_grid), color=blue, lw=3)\n",
    "\n",
    "ax.set_xlabel(\"x\")\n",
    "ax.set_ylabel(\"probability\")\n"
   ]
  },
  {
   "cell_type": "markdown",
   "id": "7e4cf908",
   "metadata": {
    "papermill": {
     "duration": 0.001486,
     "end_time": "2024-08-13T19:48:06.857899",
     "exception": false,
     "start_time": "2024-08-13T19:48:06.856413",
     "status": "completed"
    },
    "tags": []
   },
   "source": [
    "## Random Number Generation\n",
    "\n",
    "This is how we can generate random numbers from the prior.\n"
   ]
  },
  {
   "cell_type": "code",
   "execution_count": 7,
   "id": "351eb915",
   "metadata": {
    "execution": {
     "iopub.execute_input": "2024-08-13T19:48:06.861389Z",
     "iopub.status.busy": "2024-08-13T19:48:06.861237Z",
     "iopub.status.idle": "2024-08-13T19:48:06.972889Z",
     "shell.execute_reply": "2024-08-13T19:48:06.972458Z"
    },
    "papermill": {
     "duration": 0.114867,
     "end_time": "2024-08-13T19:48:06.974134",
     "exception": false,
     "start_time": "2024-08-13T19:48:06.859267",
     "status": "completed"
    },
    "tags": []
   },
   "outputs": [
    {
     "data": {
      "text/plain": [
       "Text(0, 0.5, 'N')"
      ]
     },
     "execution_count": 7,
     "metadata": {},
     "output_type": "execute_result"
    },
    {
     "data": {
      "image/png": "[encoded data removed]",
      "text/plain": [
       "<Figure size 1040x910 with 1 Axes>"
      ]
     },
     "metadata": {},
     "output_type": "display_data"
    }
   ],
   "source": [
    "\n",
    "\n",
    "u = np.random.uniform(0,1, size=5000)\n",
    "\n",
    "draws = [func.from_unit_cube(x) for x in u]\n",
    "\n",
    "\n",
    "fig, ax = plt.subplots()\n",
    "\n",
    "\n",
    "ax.hist(draws, color=green, bins=50)\n",
    "\n",
    "ax.set_xlabel(\"value\")\n",
    "ax.set_ylabel(\"N\")\n",
    "\n"
   ]
  }
 ],
 "metadata": {
  "jupytext": {
   "formats": "ipynb,md"
  },
  "kernelspec": {
   "display_name": "Python 3 (ipykernel)",
   "language": "python",
   "name": "python3"
  },
  "language_info": {
   "codemirror_mode": {
    "name": "ipython",
    "version": 3
   },
   "file_extension": ".py",
   "mimetype": "text/x-python",
   "name": "python",
   "nbconvert_exporter": "python",
   "pygments_lexer": "ipython3",
   "version": "3.9.13"
  },
  "papermill": {
   "default_parameters": {},
   "duration": 2.770456,
   "end_time": "2024-08-13T19:48:07.303742",
   "environment_variables": {},
   "exception": null,
   "input_path": "Log_uniform_prior.ipynb",
   "output_path": "/Users/runner/work/astromodels/astromodels/docs/notebooks/Log_uniform_prior.ipynb",
   "parameters": {
    "func_name": "Log_uniform_prior",
    "positive_prior": true
   },
   "start_time": "2024-08-13T19:48:04.533286",
   "version": "2.6.0"
  }
 },
 "nbformat": 4,
 "nbformat_minor": 5
}
