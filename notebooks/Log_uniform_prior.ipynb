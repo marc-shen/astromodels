{
 "cells": [
  {
   "cell_type": "markdown",
   "id": "d57c3d98",
   "metadata": {
    "papermill": {
     "duration": 0.004854,
     "end_time": "2022-09-25T16:48:08.901392",
     "exception": false,
     "start_time": "2022-09-25T16:48:08.896538",
     "status": "completed"
    },
    "tags": []
   },
   "source": [
    "# Log uniform prior"
   ]
  },
  {
   "cell_type": "code",
   "execution_count": 1,
   "id": "0910dd51",
   "metadata": {
    "execution": {
     "iopub.execute_input": "2022-09-25T16:48:08.911499Z",
     "iopub.status.busy": "2022-09-25T16:48:08.910934Z",
     "iopub.status.idle": "2022-09-25T16:48:13.238791Z",
     "shell.execute_reply": "2022-09-25T16:48:13.237630Z"
    },
    "nbsphinx": "hidden",
    "papermill": {
     "duration": 4.336909,
     "end_time": "2022-09-25T16:48:13.242571",
     "exception": false,
     "start_time": "2022-09-25T16:48:08.905662",
     "status": "completed"
    },
    "tags": []
   },
   "outputs": [],
   "source": [
    "%%capture\n",
    "\n",
    "import numpy as np\n",
    "\n",
    "import matplotlib.pyplot as plt\n",
    "\n",
    "import warnings\n",
    "warnings.simplefilter(\"ignore\")\n",
    "\n",
    "from astromodels.functions.function import _known_functions\n",
    "\n",
    "\n",
    "from jupyterthemes import jtplot\n",
    "jtplot.style(context=\"talk\", fscale=1, ticks=True, grid=False)\n",
    "%matplotlib inline"
   ]
  },
  {
   "cell_type": "code",
   "execution_count": 2,
   "id": "b81a723a",
   "metadata": {
    "execution": {
     "iopub.execute_input": "2022-09-25T16:48:13.252633Z",
     "iopub.status.busy": "2022-09-25T16:48:13.252213Z",
     "iopub.status.idle": "2022-09-25T16:48:13.261859Z",
     "shell.execute_reply": "2022-09-25T16:48:13.260776Z"
    },
    "nbsphinx": "hidden",
    "papermill": {
     "duration": 0.018724,
     "end_time": "2022-09-25T16:48:13.265255",
     "exception": false,
     "start_time": "2022-09-25T16:48:13.246531",
     "status": "completed"
    },
    "tags": [
     "parameters"
    ]
   },
   "outputs": [],
   "source": [
    "func_name = \"TbAbs\"\n",
    "\n",
    "x_scale=\"log\"\n",
    "y_scale=\"log\"\n",
    "\n",
    "linear_range = False\n",
    "\n",
    "wide_energy_range = False"
   ]
  },
  {
   "cell_type": "code",
   "execution_count": 3,
   "id": "1a0730f3",
   "metadata": {
    "execution": {
     "iopub.execute_input": "2022-09-25T16:48:13.274072Z",
     "iopub.status.busy": "2022-09-25T16:48:13.273658Z",
     "iopub.status.idle": "2022-09-25T16:48:13.280148Z",
     "shell.execute_reply": "2022-09-25T16:48:13.279004Z"
    },
    "papermill": {
     "duration": 0.014736,
     "end_time": "2022-09-25T16:48:13.283553",
     "exception": false,
     "start_time": "2022-09-25T16:48:13.268817",
     "status": "completed"
    },
    "tags": [
     "injected-parameters"
    ]
   },
   "outputs": [],
   "source": [
    "# Parameters\n",
    "func_name = \"Log_uniform_prior\"\n",
    "wide_energy_range = True\n",
    "x_scale = \"linear\"\n",
    "y_scale = \"linear\"\n",
    "linear_range = True\n"
   ]
  },
  {
   "cell_type": "code",
   "execution_count": 4,
   "id": "0f688ecd",
   "metadata": {
    "execution": {
     "iopub.execute_input": "2022-09-25T16:48:13.292667Z",
     "iopub.status.busy": "2022-09-25T16:48:13.292262Z",
     "iopub.status.idle": "2022-09-25T16:48:13.304620Z",
     "shell.execute_reply": "2022-09-25T16:48:13.303313Z"
    },
    "lines_to_next_cell": 0,
    "nbsphinx": "hidden",
    "papermill": {
     "duration": 0.020756,
     "end_time": "2022-09-25T16:48:13.307948",
     "exception": false,
     "start_time": "2022-09-25T16:48:13.287192",
     "status": "completed"
    },
    "tags": []
   },
   "outputs": [],
   "source": [
    "func = _known_functions[func_name]()\n",
    "\n",
    "if wide_energy_range:\n",
    "\n",
    "    energy_grid = np.geomspace(1e2,1e4,500)\n",
    "    \n",
    "else:\n",
    "    \n",
    "    energy_grid = np.geomspace(2e-1,1e1,1000)\n",
    "\n",
    "if linear_range:\n",
    "\n",
    "\tenergy_grid = np.linspace(-5,5,1000)\n",
    "\n",
    "    \n",
    "blue = \"#4152E3\"\n",
    "red = \"#E3414B\"\n",
    "green = \"#41E39E\""
   ]
  },
  {
   "cell_type": "markdown",
   "id": "4c61e986",
   "metadata": {
    "lines_to_next_cell": 0,
    "papermill": {
     "duration": 0.003933,
     "end_time": "2022-09-25T16:48:13.315540",
     "exception": false,
     "start_time": "2022-09-25T16:48:13.311607",
     "status": "completed"
    },
    "tags": []
   },
   "source": [
    "## Description"
   ]
  },
  {
   "cell_type": "code",
   "execution_count": 5,
   "id": "dfefe98b",
   "metadata": {
    "execution": {
     "iopub.execute_input": "2022-09-25T16:48:13.325849Z",
     "iopub.status.busy": "2022-09-25T16:48:13.325434Z",
     "iopub.status.idle": "2022-09-25T16:48:13.341233Z",
     "shell.execute_reply": "2022-09-25T16:48:13.340150Z"
    },
    "papermill": {
     "duration": 0.024075,
     "end_time": "2022-09-25T16:48:13.344515",
     "exception": false,
     "start_time": "2022-09-25T16:48:13.320440",
     "status": "completed"
    },
    "tags": []
   },
   "outputs": [
    {
     "data": {
      "text/html": [
       "<ul>\n",
       "\n",
       "<li>description: A function which is K/x on the interval lower_bound - upper_bound and 0 outside the interval. The extremes of the interval are NOT counted as part of the interval. Lower_bound must be >= 0.</li>\n",
       "\n",
       "<li>formula: $ f(x)=K~\\begin{cases}0 & x \\le \\text{lower_bound} \\\\\\frac{1}{x} & \\text{lower_bound} < x < \\text{upper_bound} \\\\ 0 & x \\ge \\text{upper_bound} \\end{cases}$</li>\n",
       "\n",
       "<li>parameters: \n",
       "<ul>\n",
       "\n",
       "<li>lower_bound: \n",
       "<ul>\n",
       "\n",
       "<li>value: 1e-20</li>\n",
       "\n",
       "<li>desc: Lower bound for the interval</li>\n",
       "\n",
       "<li>min_value: 1e-30</li>\n",
       "\n",
       "<li>max_value: inf</li>\n",
       "\n",
       "<li>unit: </li>\n",
       "\n",
       "<li>is_normalization: False</li>\n",
       "\n",
       "<li>delta: 1e-21</li>\n",
       "\n",
       "<li>free: True</li>\n",
       "\n",
       "</ul>\n",
       "\n",
       "</li>\n",
       "\n",
       "<li>upper_bound: \n",
       "<ul>\n",
       "\n",
       "<li>value: 100.0</li>\n",
       "\n",
       "<li>desc: Upper bound for the interval</li>\n",
       "\n",
       "<li>min_value: 1e-30</li>\n",
       "\n",
       "<li>max_value: inf</li>\n",
       "\n",
       "<li>unit: </li>\n",
       "\n",
       "<li>is_normalization: False</li>\n",
       "\n",
       "<li>delta: 10.0</li>\n",
       "\n",
       "<li>free: True</li>\n",
       "\n",
       "</ul>\n",
       "\n",
       "</li>\n",
       "\n",
       "<li>K: \n",
       "<ul>\n",
       "\n",
       "<li>value: 1.0</li>\n",
       "\n",
       "<li>desc: Normalization</li>\n",
       "\n",
       "<li>min_value: None</li>\n",
       "\n",
       "<li>max_value: None</li>\n",
       "\n",
       "<li>unit: </li>\n",
       "\n",
       "<li>is_normalization: False</li>\n",
       "\n",
       "<li>delta: 0.1</li>\n",
       "\n",
       "<li>free: False</li>\n",
       "\n",
       "</ul>\n",
       "\n",
       "</li>\n",
       "\n",
       "</ul>\n",
       "\n",
       "</li>\n",
       "\n",
       "</ul>\n"
      ],
      "text/plain": [
       "  * description: A function which is K/x on the interval lower_bound - upper_bound and\n",
       "    * 0 outside the interval. The extremes of the interval are NOT counted as part of\n",
       "    * the interval. Lower_bound must be >= 0.\n",
       "  * formula: $ f(x)=K~\\begin{cases}0 & x \\le \\text{lower_bound} \\\\\\frac{1}{x} & \\text{lower_bound}\n",
       "    * < x < \\text{upper_bound} \\\\ 0 & x \\ge \\text{upper_bound} \\end{cases}$\n",
       "  * parameters:\n",
       "    * lower_bound:\n",
       "      * value: 1.0e-20\n",
       "      * desc: Lower bound for the interval\n",
       "      * min_value: 1.0e-30\n",
       "      * max_value: .inf\n",
       "      * unit: ''\n",
       "      * is_normalization: false\n",
       "      * delta: 1.0e-21\n",
       "      * free: true\n",
       "    * upper_bound:\n",
       "      * value: 100.0\n",
       "      * desc: Upper bound for the interval\n",
       "      * min_value: 1.0e-30\n",
       "      * max_value: .inf\n",
       "      * unit: ''\n",
       "      * is_normalization: false\n",
       "      * delta: 10.0\n",
       "      * free: true\n",
       "    * K:\n",
       "      * value: 1.0\n",
       "      * desc: Normalization\n",
       "      * min_value: null\n",
       "      * max_value: null\n",
       "      * unit: ''\n",
       "      * is_normalization: false\n",
       "      * delta: 0.1\n",
       "      * free: false"
      ]
     },
     "metadata": {},
     "output_type": "display_data"
    }
   ],
   "source": [
    "func.display()"
   ]
  },
  {
   "cell_type": "markdown",
   "id": "fd0c0adf",
   "metadata": {
    "papermill": {
     "duration": 0.004096,
     "end_time": "2022-09-25T16:48:13.352844",
     "exception": false,
     "start_time": "2022-09-25T16:48:13.348748",
     "status": "completed"
    },
    "tags": []
   },
   "source": [
    "## Shape \n",
    "\n",
    "The shape of the function. \n",
    "\n",
    "*If this is not a photon model but a prior or linear function then ignore the units as these docs are auto-generated*"
   ]
  },
  {
   "cell_type": "code",
   "execution_count": 6,
   "id": "42633fe2",
   "metadata": {
    "execution": {
     "iopub.execute_input": "2022-09-25T16:48:13.362891Z",
     "iopub.status.busy": "2022-09-25T16:48:13.362496Z",
     "iopub.status.idle": "2022-09-25T16:48:13.715063Z",
     "shell.execute_reply": "2022-09-25T16:48:13.713897Z"
    },
    "papermill": {
     "duration": 0.361457,
     "end_time": "2022-09-25T16:48:13.718514",
     "exception": false,
     "start_time": "2022-09-25T16:48:13.357057",
     "status": "completed"
    },
    "tags": [
     "nbsphinx-thumbnail"
    ]
   },
   "outputs": [
    {
     "data": {
      "image/png": "[encoded data removed]",
      "text/plain": [
       "<Figure size 1040x910 with 1 Axes>"
      ]
     },
     "metadata": {},
     "output_type": "display_data"
    }
   ],
   "source": [
    "fig, ax = plt.subplots()\n",
    "\n",
    "\n",
    "ax.plot(energy_grid, func(energy_grid), color=blue)\n",
    "\n",
    "ax.set_xlabel(\"energy (keV)\")\n",
    "ax.set_ylabel(\"photon flux\")\n",
    "ax.set_xscale(x_scale)\n",
    "ax.set_yscale(y_scale)\n"
   ]
  },
  {
   "cell_type": "markdown",
   "id": "8b6da109",
   "metadata": {
    "lines_to_next_cell": 0,
    "papermill": {
     "duration": 0.00507,
     "end_time": "2022-09-25T16:48:13.728276",
     "exception": false,
     "start_time": "2022-09-25T16:48:13.723206",
     "status": "completed"
    },
    "tags": []
   },
   "source": [
    "## F$_{\\nu}$\n",
    "\n",
    "The F$_{\\nu}$ shape of the photon model\n",
    "*if this is not a photon model, please ignore this auto-generated plot*"
   ]
  },
  {
   "cell_type": "code",
   "execution_count": 7,
   "id": "4d17685d",
   "metadata": {
    "execution": {
     "iopub.execute_input": "2022-09-25T16:48:13.739214Z",
     "iopub.status.busy": "2022-09-25T16:48:13.738752Z",
     "iopub.status.idle": "2022-09-25T16:48:14.303860Z",
     "shell.execute_reply": "2022-09-25T16:48:14.302746Z"
    },
    "papermill": {
     "duration": 0.574489,
     "end_time": "2022-09-25T16:48:14.307217",
     "exception": false,
     "start_time": "2022-09-25T16:48:13.732728",
     "status": "completed"
    },
    "tags": []
   },
   "outputs": [
    {
     "data": {
      "image/png": "[encoded data removed]",
      "text/plain": [
       "<Figure size 1040x910 with 1 Axes>"
      ]
     },
     "metadata": {},
     "output_type": "display_data"
    }
   ],
   "source": [
    "fig, ax = plt.subplots()\n",
    "\n",
    "ax.plot(energy_grid, energy_grid * func(energy_grid), red)\n",
    "\n",
    "\n",
    "ax.set_xlabel(\"energy (keV)\")\n",
    "ax.set_ylabel(r\"energy flux (F$_{\\nu}$)\")\n",
    "ax.set_xscale(x_scale)\n",
    "ax.set_yscale(y_scale)\n",
    "\n"
   ]
  },
  {
   "cell_type": "markdown",
   "id": "4eec804e",
   "metadata": {
    "papermill": {
     "duration": 0.005002,
     "end_time": "2022-09-25T16:48:14.317194",
     "exception": false,
     "start_time": "2022-09-25T16:48:14.312192",
     "status": "completed"
    },
    "tags": []
   },
   "source": [
    "## $\\nu$F$_{\\nu}$\n",
    "\n",
    "The $\\nu$F$_{\\nu}$ shape of the photon model\n",
    "*if this is not a photon model, please ignore this auto-generated plot*"
   ]
  },
  {
   "cell_type": "code",
   "execution_count": 8,
   "id": "7bb804c3",
   "metadata": {
    "execution": {
     "iopub.execute_input": "2022-09-25T16:48:14.328708Z",
     "iopub.status.busy": "2022-09-25T16:48:14.328272Z",
     "iopub.status.idle": "2022-09-25T16:48:14.636708Z",
     "shell.execute_reply": "2022-09-25T16:48:14.635332Z"
    },
    "papermill": {
     "duration": 0.318083,
     "end_time": "2022-09-25T16:48:14.640063",
     "exception": false,
     "start_time": "2022-09-25T16:48:14.321980",
     "status": "completed"
    },
    "tags": []
   },
   "outputs": [
    {
     "data": {
      "image/png": "[encoded data removed]",
      "text/plain": [
       "<Figure size 1040x910 with 1 Axes>"
      ]
     },
     "metadata": {},
     "output_type": "display_data"
    }
   ],
   "source": [
    "fig, ax = plt.subplots()\n",
    "\n",
    "ax.plot(energy_grid, energy_grid**2 * func(energy_grid), color=green)\n",
    "\n",
    "\n",
    "ax.set_xlabel(\"energy (keV)\")\n",
    "ax.set_ylabel(r\"$\\nu$F$_{\\nu}$\")\n",
    "ax.set_xscale(x_scale)\n",
    "ax.set_yscale(y_scale)\n"
   ]
  }
 ],
 "metadata": {
  "jupytext": {
   "formats": "ipynb,md"
  },
  "kernelspec": {
   "display_name": "Python 3",
   "language": "python",
   "name": "python3"
  },
  "language_info": {
   "codemirror_mode": {
    "name": "ipython",
    "version": 3
   },
   "file_extension": ".py",
   "mimetype": "text/x-python",
   "name": "python",
   "nbconvert_exporter": "python",
   "pygments_lexer": "ipython3",
   "version": "3.9.14"
  },
  "papermill": {
   "default_parameters": {},
   "duration": 7.65388,
   "end_time": "2022-09-25T16:48:15.238172",
   "environment_variables": {},
   "exception": null,
   "input_path": "Log_uniform_prior.ipynb",
   "output_path": "../docs/notebooks/Log_uniform_prior.ipynb",
   "parameters": {
    "func_name": "Log_uniform_prior",
    "linear_range": true,
    "wide_energy_range": true,
    "x_scale": "linear",
    "y_scale": "linear"
   },
   "start_time": "2022-09-25T16:48:07.584292",
   "version": "2.4.0"
  }
 },
 "nbformat": 4,
 "nbformat_minor": 5
}
