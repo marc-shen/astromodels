{
 "cells": [
  {
   "cell_type": "markdown",
   "id": "86867c66",
   "metadata": {
    "papermill": {
     "duration": 0.01037,
     "end_time": "2025-05-01T00:24:07.923908",
     "exception": false,
     "start_time": "2025-05-01T00:24:07.913538",
     "status": "completed"
    },
    "tags": []
   },
   "source": [
    "# Log uniform prior"
   ]
  },
  {
   "cell_type": "code",
   "execution_count": 1,
   "id": "b34485a0",
   "metadata": {
    "execution": {
     "iopub.execute_input": "2025-05-01T00:24:07.941006Z",
     "iopub.status.busy": "2025-05-01T00:24:07.940079Z",
     "iopub.status.idle": "2025-05-01T00:24:09.342178Z",
     "shell.execute_reply": "2025-05-01T00:24:09.341669Z"
    },
    "nbsphinx": "hidden",
    "papermill": {
     "duration": 1.412358,
     "end_time": "2025-05-01T00:24:09.343489",
     "exception": false,
     "start_time": "2025-05-01T00:24:07.931131",
     "status": "completed"
    },
    "tags": []
   },
   "outputs": [],
   "source": [
    "%%capture\n",
    "\n",
    "import numpy as np\n",
    "\n",
    "import matplotlib.pyplot as plt\n",
    "\n",
    "import warnings\n",
    "warnings.simplefilter(\"ignore\")\n",
    "\n",
    "from astromodels.functions.function import _known_functions\n",
    "\n",
    "\n",
    "from jupyterthemes import jtplot\n",
    "jtplot.style(context=\"talk\", fscale=1, ticks=True, grid=False)\n",
    "%matplotlib inline"
   ]
  },
  {
   "cell_type": "code",
   "execution_count": 2,
   "id": "9aeadce8",
   "metadata": {
    "execution": {
     "iopub.execute_input": "2025-05-01T00:24:09.346856Z",
     "iopub.status.busy": "2025-05-01T00:24:09.346415Z",
     "iopub.status.idle": "2025-05-01T00:24:09.348796Z",
     "shell.execute_reply": "2025-05-01T00:24:09.348407Z"
    },
    "nbsphinx": "hidden",
    "papermill": {
     "duration": 0.005082,
     "end_time": "2025-05-01T00:24:09.349822",
     "exception": false,
     "start_time": "2025-05-01T00:24:09.344740",
     "status": "completed"
    },
    "tags": [
     "parameters"
    ]
   },
   "outputs": [],
   "source": [
    "func_name = \"TbAbs\"\n",
    "\n",
    "positive_prior = False\n"
   ]
  },
  {
   "cell_type": "code",
   "execution_count": 3,
   "id": "721c3ba3",
   "metadata": {
    "execution": {
     "iopub.execute_input": "2025-05-01T00:24:09.352447Z",
     "iopub.status.busy": "2025-05-01T00:24:09.352309Z",
     "iopub.status.idle": "2025-05-01T00:24:09.358233Z",
     "shell.execute_reply": "2025-05-01T00:24:09.357825Z"
    },
    "papermill": {
     "duration": 0.008387,
     "end_time": "2025-05-01T00:24:09.359307",
     "exception": false,
     "start_time": "2025-05-01T00:24:09.350920",
     "status": "completed"
    },
    "tags": [
     "injected-parameters"
    ]
   },
   "outputs": [],
   "source": [
    "# Parameters\n",
    "func_name = \"Log_uniform_prior\"\n",
    "positive_prior = True\n"
   ]
  },
  {
   "cell_type": "code",
   "execution_count": 4,
   "id": "9ee0df2d",
   "metadata": {
    "execution": {
     "iopub.execute_input": "2025-05-01T00:24:09.361772Z",
     "iopub.status.busy": "2025-05-01T00:24:09.361642Z",
     "iopub.status.idle": "2025-05-01T00:24:09.370688Z",
     "shell.execute_reply": "2025-05-01T00:24:09.370311Z"
    },
    "lines_to_next_cell": 0,
    "nbsphinx": "hidden",
    "papermill": {
     "duration": 0.011423,
     "end_time": "2025-05-01T00:24:09.371728",
     "exception": false,
     "start_time": "2025-05-01T00:24:09.360305",
     "status": "completed"
    },
    "tags": []
   },
   "outputs": [],
   "source": [
    "func = _known_functions[func_name]()\n",
    "\n",
    "if not positive_prior:\n",
    "\n",
    "\tenergy_grid = np.linspace(-5,5,1000)\n",
    "\n",
    "else:\n",
    "    \n",
    "    energy_grid = np.linspace(0,1,1000)\n",
    "    \n",
    "    \n",
    "    \n",
    "    \n",
    "blue = \"#4152E3\"\n",
    "red = \"#E3414B\"\n",
    "green = \"#41E39E\""
   ]
  },
  {
   "cell_type": "markdown",
   "id": "827c245c",
   "metadata": {
    "lines_to_next_cell": 0,
    "papermill": {
     "duration": 0.000986,
     "end_time": "2025-05-01T00:24:09.373756",
     "exception": false,
     "start_time": "2025-05-01T00:24:09.372770",
     "status": "completed"
    },
    "tags": []
   },
   "source": [
    "## Description"
   ]
  },
  {
   "cell_type": "code",
   "execution_count": 5,
   "id": "a4574144",
   "metadata": {
    "execution": {
     "iopub.execute_input": "2025-05-01T00:24:09.376227Z",
     "iopub.status.busy": "2025-05-01T00:24:09.376087Z",
     "iopub.status.idle": "2025-05-01T00:24:09.380150Z",
     "shell.execute_reply": "2025-05-01T00:24:09.379732Z"
    },
    "papermill": {
     "duration": 0.006472,
     "end_time": "2025-05-01T00:24:09.381178",
     "exception": false,
     "start_time": "2025-05-01T00:24:09.374706",
     "status": "completed"
    },
    "tags": []
   },
   "outputs": [
    {
     "data": {
      "text/html": [
       "<ul>\n",
       "\n",
       "<li>description: A function which is K/x on the interval lower_bound - upper_bound and 0 outside the interval. The extremes of the interval are NOT counted as part of the interval. Lower_bound must be >= 0.</li>\n",
       "\n",
       "<li>formula: $ f(x)=K~\\begin{cases}0 & x \\le \\text{lower_bound} \\\\\\frac{1}{x} & \\text{lower_bound} < x < \\text{upper_bound} \\\\ 0 & x \\ge \\text{upper_bound} \\end{cases}$</li>\n",
       "\n",
       "<li>parameters: \n",
       "<ul>\n",
       "\n",
       "<li>lower_bound: \n",
       "<ul>\n",
       "\n",
       "<li>value: 1e-20</li>\n",
       "\n",
       "<li>desc: Lower bound for the interval</li>\n",
       "\n",
       "<li>min_value: 1e-30</li>\n",
       "\n",
       "<li>max_value: inf</li>\n",
       "\n",
       "<li>unit: </li>\n",
       "\n",
       "<li>is_normalization: False</li>\n",
       "\n",
       "<li>delta: 1e-21</li>\n",
       "\n",
       "<li>free: True</li>\n",
       "\n",
       "</ul>\n",
       "\n",
       "</li>\n",
       "\n",
       "<li>upper_bound: \n",
       "<ul>\n",
       "\n",
       "<li>value: 100.0</li>\n",
       "\n",
       "<li>desc: Upper bound for the interval</li>\n",
       "\n",
       "<li>min_value: 1e-30</li>\n",
       "\n",
       "<li>max_value: inf</li>\n",
       "\n",
       "<li>unit: </li>\n",
       "\n",
       "<li>is_normalization: False</li>\n",
       "\n",
       "<li>delta: 10.0</li>\n",
       "\n",
       "<li>free: True</li>\n",
       "\n",
       "</ul>\n",
       "\n",
       "</li>\n",
       "\n",
       "<li>K: \n",
       "<ul>\n",
       "\n",
       "<li>value: 1.0</li>\n",
       "\n",
       "<li>desc: Normalization</li>\n",
       "\n",
       "<li>min_value: None</li>\n",
       "\n",
       "<li>max_value: None</li>\n",
       "\n",
       "<li>unit: </li>\n",
       "\n",
       "<li>is_normalization: False</li>\n",
       "\n",
       "<li>delta: 0.1</li>\n",
       "\n",
       "<li>free: False</li>\n",
       "\n",
       "</ul>\n",
       "\n",
       "</li>\n",
       "\n",
       "</ul>\n",
       "\n",
       "</li>\n",
       "\n",
       "</ul>\n"
      ],
      "text/plain": [
       "  * description: A function which is K/x on the interval lower_bound - upper_bound and\n",
       "    * 0 outside the interval. The extremes of the interval are NOT counted as part of\n",
       "    * the interval. Lower_bound must be >= 0.\n",
       "  * formula: $ f(x)=K~\\begin{cases}0 & x \\le \\text{lower_bound} \\\\\\frac{1}{x} & \\text{lower_bound}\n",
       "    * < x < \\text{upper_bound} \\\\ 0 & x \\ge \\text{upper_bound} \\end{cases}$\n",
       "  * parameters:\n",
       "    * lower_bound:\n",
       "      * value: 1.0e-20\n",
       "      * desc: Lower bound for the interval\n",
       "      * min_value: 1.0e-30\n",
       "      * max_value: .inf\n",
       "      * unit: ''\n",
       "      * is_normalization: false\n",
       "      * delta: 1.0e-21\n",
       "      * free: true\n",
       "    * upper_bound:\n",
       "      * value: 100.0\n",
       "      * desc: Upper bound for the interval\n",
       "      * min_value: 1.0e-30\n",
       "      * max_value: .inf\n",
       "      * unit: ''\n",
       "      * is_normalization: false\n",
       "      * delta: 10.0\n",
       "      * free: true\n",
       "    * K:\n",
       "      * value: 1.0\n",
       "      * desc: Normalization\n",
       "      * min_value: null\n",
       "      * max_value: null\n",
       "      * unit: ''\n",
       "      * is_normalization: false\n",
       "      * delta: 0.1\n",
       "      * free: false"
      ]
     },
     "metadata": {},
     "output_type": "display_data"
    }
   ],
   "source": [
    "func.display()"
   ]
  },
  {
   "cell_type": "markdown",
   "id": "f4a0a7ab",
   "metadata": {
    "papermill": {
     "duration": 0.001071,
     "end_time": "2025-05-01T00:24:09.383407",
     "exception": false,
     "start_time": "2025-05-01T00:24:09.382336",
     "status": "completed"
    },
    "tags": []
   },
   "source": [
    "## Shape \n",
    "\n",
    "The shape of the function. \n",
    "\n",
    "*If this is not a photon model but a prior or linear function then ignore the units as these docs are auto-generated*"
   ]
  },
  {
   "cell_type": "code",
   "execution_count": 6,
   "id": "e5af5057",
   "metadata": {
    "execution": {
     "iopub.execute_input": "2025-05-01T00:24:09.386089Z",
     "iopub.status.busy": "2025-05-01T00:24:09.385953Z",
     "iopub.status.idle": "2025-05-01T00:24:09.461110Z",
     "shell.execute_reply": "2025-05-01T00:24:09.460699Z"
    },
    "papermill": {
     "duration": 0.07778,
     "end_time": "2025-05-01T00:24:09.462216",
     "exception": false,
     "start_time": "2025-05-01T00:24:09.384436",
     "status": "completed"
    },
    "tags": [
     "nbsphinx-thumbnail"
    ]
   },
   "outputs": [
    {
     "data": {
      "text/plain": [
       "Text(0, 0.5, 'probability')"
      ]
     },
     "execution_count": 6,
     "metadata": {},
     "output_type": "execute_result"
    },
    {
     "data": {
      "image/png": "[encoded data removed]",
      "text/plain": [
       "<Figure size 1040x910 with 1 Axes>"
      ]
     },
     "metadata": {},
     "output_type": "display_data"
    }
   ],
   "source": [
    "fig, ax = plt.subplots()\n",
    "\n",
    "\n",
    "ax.plot(energy_grid, func(energy_grid), color=blue, lw=3)\n",
    "\n",
    "ax.set_xlabel(\"x\")\n",
    "ax.set_ylabel(\"probability\")\n"
   ]
  },
  {
   "cell_type": "markdown",
   "id": "f9276804",
   "metadata": {
    "papermill": {
     "duration": 0.001334,
     "end_time": "2025-05-01T00:24:09.465183",
     "exception": false,
     "start_time": "2025-05-01T00:24:09.463849",
     "status": "completed"
    },
    "tags": []
   },
   "source": [
    "## Random Number Generation\n",
    "\n",
    "This is how we can generate random numbers from the prior.\n"
   ]
  },
  {
   "cell_type": "code",
   "execution_count": 7,
   "id": "69279e96",
   "metadata": {
    "execution": {
     "iopub.execute_input": "2025-05-01T00:24:09.468506Z",
     "iopub.status.busy": "2025-05-01T00:24:09.468355Z",
     "iopub.status.idle": "2025-05-01T00:24:09.560361Z",
     "shell.execute_reply": "2025-05-01T00:24:09.559953Z"
    },
    "papermill": {
     "duration": 0.095109,
     "end_time": "2025-05-01T00:24:09.561588",
     "exception": false,
     "start_time": "2025-05-01T00:24:09.466479",
     "status": "completed"
    },
    "tags": []
   },
   "outputs": [
    {
     "data": {
      "text/plain": [
       "Text(0, 0.5, 'N')"
      ]
     },
     "execution_count": 7,
     "metadata": {},
     "output_type": "execute_result"
    },
    {
     "data": {
      "image/png": "[encoded data removed]",
      "text/plain": [
       "<Figure size 1040x910 with 1 Axes>"
      ]
     },
     "metadata": {},
     "output_type": "display_data"
    }
   ],
   "source": [
    "\n",
    "\n",
    "u = np.random.uniform(0,1, size=5000)\n",
    "\n",
    "draws = [func.from_unit_cube(x) for x in u]\n",
    "\n",
    "\n",
    "fig, ax = plt.subplots()\n",
    "\n",
    "\n",
    "ax.hist(draws, color=green, bins=50)\n",
    "\n",
    "ax.set_xlabel(\"value\")\n",
    "ax.set_ylabel(\"N\")\n",
    "\n"
   ]
  }
 ],
 "metadata": {
  "jupytext": {
   "formats": "ipynb,md"
  },
  "kernelspec": {
   "display_name": "Python 3 (ipykernel)",
   "language": "python",
   "name": "python3"
  },
  "language_info": {
   "codemirror_mode": {
    "name": "ipython",
    "version": 3
   },
   "file_extension": ".py",
   "mimetype": "text/x-python",
   "name": "python",
   "nbconvert_exporter": "python",
   "pygments_lexer": "ipython3",
   "version": "3.9.13"
  },
  "papermill": {
   "default_parameters": {},
   "duration": 2.553118,
   "end_time": "2025-05-01T00:24:09.892611",
   "environment_variables": {},
   "exception": null,
   "input_path": "Log_uniform_prior.ipynb",
   "output_path": "/Users/runner/work/astromodels/astromodels/docs/notebooks/Log_uniform_prior.ipynb",
   "parameters": {
    "func_name": "Log_uniform_prior",
    "positive_prior": true
   },
   "start_time": "2025-05-01T00:24:07.339493",
   "version": "2.6.0"
  }
 },
 "nbformat": 4,
 "nbformat_minor": 5
}
