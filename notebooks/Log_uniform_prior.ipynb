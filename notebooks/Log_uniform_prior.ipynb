{
 "cells": [
  {
   "cell_type": "markdown",
   "id": "1282b967",
   "metadata": {
    "papermill": {
     "duration": 0.005275,
     "end_time": "2025-04-29T23:20:57.385332",
     "exception": false,
     "start_time": "2025-04-29T23:20:57.380057",
     "status": "completed"
    },
    "tags": []
   },
   "source": [
    "# Log uniform prior"
   ]
  },
  {
   "cell_type": "code",
   "execution_count": 1,
   "id": "98562deb",
   "metadata": {
    "execution": {
     "iopub.execute_input": "2025-04-29T23:20:57.394648Z",
     "iopub.status.busy": "2025-04-29T23:20:57.394097Z",
     "iopub.status.idle": "2025-04-29T23:20:59.529366Z",
     "shell.execute_reply": "2025-04-29T23:20:59.528312Z"
    },
    "nbsphinx": "hidden",
    "papermill": {
     "duration": 2.142599,
     "end_time": "2025-04-29T23:20:59.531701",
     "exception": false,
     "start_time": "2025-04-29T23:20:57.389102",
     "status": "completed"
    },
    "tags": []
   },
   "outputs": [],
   "source": [
    "%%capture\n",
    "\n",
    "import numpy as np\n",
    "\n",
    "import matplotlib.pyplot as plt\n",
    "\n",
    "import warnings\n",
    "warnings.simplefilter(\"ignore\")\n",
    "\n",
    "from astromodels.functions.function import _known_functions\n",
    "\n",
    "\n",
    "from jupyterthemes import jtplot\n",
    "jtplot.style(context=\"talk\", fscale=1, ticks=True, grid=False)\n",
    "%matplotlib inline"
   ]
  },
  {
   "cell_type": "code",
   "execution_count": 2,
   "id": "50989f1e",
   "metadata": {
    "execution": {
     "iopub.execute_input": "2025-04-29T23:20:59.537052Z",
     "iopub.status.busy": "2025-04-29T23:20:59.536464Z",
     "iopub.status.idle": "2025-04-29T23:20:59.541184Z",
     "shell.execute_reply": "2025-04-29T23:20:59.539904Z"
    },
    "nbsphinx": "hidden",
    "papermill": {
     "duration": 0.010038,
     "end_time": "2025-04-29T23:20:59.543509",
     "exception": false,
     "start_time": "2025-04-29T23:20:59.533471",
     "status": "completed"
    },
    "tags": [
     "parameters"
    ]
   },
   "outputs": [],
   "source": [
    "func_name = \"TbAbs\"\n",
    "\n",
    "positive_prior = False\n"
   ]
  },
  {
   "cell_type": "code",
   "execution_count": 3,
   "id": "1bdb6643",
   "metadata": {
    "execution": {
     "iopub.execute_input": "2025-04-29T23:20:59.547919Z",
     "iopub.status.busy": "2025-04-29T23:20:59.547659Z",
     "iopub.status.idle": "2025-04-29T23:20:59.551405Z",
     "shell.execute_reply": "2025-04-29T23:20:59.550547Z"
    },
    "papermill": {
     "duration": 0.008361,
     "end_time": "2025-04-29T23:20:59.553367",
     "exception": false,
     "start_time": "2025-04-29T23:20:59.545006",
     "status": "completed"
    },
    "tags": [
     "injected-parameters"
    ]
   },
   "outputs": [],
   "source": [
    "# Parameters\n",
    "func_name = \"Log_uniform_prior\"\n",
    "positive_prior = True\n"
   ]
  },
  {
   "cell_type": "code",
   "execution_count": 4,
   "id": "75f1dde3",
   "metadata": {
    "execution": {
     "iopub.execute_input": "2025-04-29T23:20:59.558436Z",
     "iopub.status.busy": "2025-04-29T23:20:59.558185Z",
     "iopub.status.idle": "2025-04-29T23:20:59.567634Z",
     "shell.execute_reply": "2025-04-29T23:20:59.566920Z"
    },
    "lines_to_next_cell": 0,
    "nbsphinx": "hidden",
    "papermill": {
     "duration": 0.014874,
     "end_time": "2025-04-29T23:20:59.569811",
     "exception": false,
     "start_time": "2025-04-29T23:20:59.554937",
     "status": "completed"
    },
    "tags": []
   },
   "outputs": [],
   "source": [
    "func = _known_functions[func_name]()\n",
    "\n",
    "if not positive_prior:\n",
    "\n",
    "\tenergy_grid = np.linspace(-5,5,1000)\n",
    "\n",
    "else:\n",
    "    \n",
    "    energy_grid = np.linspace(0,1,1000)\n",
    "    \n",
    "    \n",
    "    \n",
    "    \n",
    "blue = \"#4152E3\"\n",
    "red = \"#E3414B\"\n",
    "green = \"#41E39E\""
   ]
  },
  {
   "cell_type": "markdown",
   "id": "3713edac",
   "metadata": {
    "lines_to_next_cell": 0,
    "papermill": {
     "duration": 0.001485,
     "end_time": "2025-04-29T23:20:59.572864",
     "exception": false,
     "start_time": "2025-04-29T23:20:59.571379",
     "status": "completed"
    },
    "tags": []
   },
   "source": [
    "## Description"
   ]
  },
  {
   "cell_type": "code",
   "execution_count": 5,
   "id": "f1ab09b2",
   "metadata": {
    "execution": {
     "iopub.execute_input": "2025-04-29T23:20:59.577177Z",
     "iopub.status.busy": "2025-04-29T23:20:59.576965Z",
     "iopub.status.idle": "2025-04-29T23:20:59.585605Z",
     "shell.execute_reply": "2025-04-29T23:20:59.584308Z"
    },
    "papermill": {
     "duration": 0.013944,
     "end_time": "2025-04-29T23:20:59.588261",
     "exception": false,
     "start_time": "2025-04-29T23:20:59.574317",
     "status": "completed"
    },
    "tags": []
   },
   "outputs": [
    {
     "data": {
      "text/html": [
       "<ul>\n",
       "\n",
       "<li>description: A function which is K/x on the interval lower_bound - upper_bound and 0 outside the interval. The extremes of the interval are NOT counted as part of the interval. Lower_bound must be >= 0.</li>\n",
       "\n",
       "<li>formula: $ f(x)=K~\\begin{cases}0 & x \\le \\text{lower_bound} \\\\\\frac{1}{x} & \\text{lower_bound} < x < \\text{upper_bound} \\\\ 0 & x \\ge \\text{upper_bound} \\end{cases}$</li>\n",
       "\n",
       "<li>parameters: \n",
       "<ul>\n",
       "\n",
       "<li>lower_bound: \n",
       "<ul>\n",
       "\n",
       "<li>value: 1e-20</li>\n",
       "\n",
       "<li>desc: Lower bound for the interval</li>\n",
       "\n",
       "<li>min_value: 1e-30</li>\n",
       "\n",
       "<li>max_value: inf</li>\n",
       "\n",
       "<li>unit: </li>\n",
       "\n",
       "<li>is_normalization: False</li>\n",
       "\n",
       "<li>delta: 1e-21</li>\n",
       "\n",
       "<li>free: True</li>\n",
       "\n",
       "</ul>\n",
       "\n",
       "</li>\n",
       "\n",
       "<li>upper_bound: \n",
       "<ul>\n",
       "\n",
       "<li>value: 100.0</li>\n",
       "\n",
       "<li>desc: Upper bound for the interval</li>\n",
       "\n",
       "<li>min_value: 1e-30</li>\n",
       "\n",
       "<li>max_value: inf</li>\n",
       "\n",
       "<li>unit: </li>\n",
       "\n",
       "<li>is_normalization: False</li>\n",
       "\n",
       "<li>delta: 10.0</li>\n",
       "\n",
       "<li>free: True</li>\n",
       "\n",
       "</ul>\n",
       "\n",
       "</li>\n",
       "\n",
       "<li>K: \n",
       "<ul>\n",
       "\n",
       "<li>value: 1.0</li>\n",
       "\n",
       "<li>desc: Normalization</li>\n",
       "\n",
       "<li>min_value: None</li>\n",
       "\n",
       "<li>max_value: None</li>\n",
       "\n",
       "<li>unit: </li>\n",
       "\n",
       "<li>is_normalization: False</li>\n",
       "\n",
       "<li>delta: 0.1</li>\n",
       "\n",
       "<li>free: False</li>\n",
       "\n",
       "</ul>\n",
       "\n",
       "</li>\n",
       "\n",
       "</ul>\n",
       "\n",
       "</li>\n",
       "\n",
       "</ul>\n"
      ],
      "text/plain": [
       "  * description: A function which is K/x on the interval lower_bound - upper_bound and\n",
       "    * 0 outside the interval. The extremes of the interval are NOT counted as part of\n",
       "    * the interval. Lower_bound must be >= 0.\n",
       "  * formula: $ f(x)=K~\\begin{cases}0 & x \\le \\text{lower_bound} \\\\\\frac{1}{x} & \\text{lower_bound}\n",
       "    * < x < \\text{upper_bound} \\\\ 0 & x \\ge \\text{upper_bound} \\end{cases}$\n",
       "  * parameters:\n",
       "    * lower_bound:\n",
       "      * value: 1.0e-20\n",
       "      * desc: Lower bound for the interval\n",
       "      * min_value: 1.0e-30\n",
       "      * max_value: .inf\n",
       "      * unit: ''\n",
       "      * is_normalization: false\n",
       "      * delta: 1.0e-21\n",
       "      * free: true\n",
       "    * upper_bound:\n",
       "      * value: 100.0\n",
       "      * desc: Upper bound for the interval\n",
       "      * min_value: 1.0e-30\n",
       "      * max_value: .inf\n",
       "      * unit: ''\n",
       "      * is_normalization: false\n",
       "      * delta: 10.0\n",
       "      * free: true\n",
       "    * K:\n",
       "      * value: 1.0\n",
       "      * desc: Normalization\n",
       "      * min_value: null\n",
       "      * max_value: null\n",
       "      * unit: ''\n",
       "      * is_normalization: false\n",
       "      * delta: 0.1\n",
       "      * free: false"
      ]
     },
     "metadata": {},
     "output_type": "display_data"
    }
   ],
   "source": [
    "func.display()"
   ]
  },
  {
   "cell_type": "markdown",
   "id": "5417dd95",
   "metadata": {
    "papermill": {
     "duration": 0.001801,
     "end_time": "2025-04-29T23:20:59.591921",
     "exception": false,
     "start_time": "2025-04-29T23:20:59.590120",
     "status": "completed"
    },
    "tags": []
   },
   "source": [
    "## Shape \n",
    "\n",
    "The shape of the function. \n",
    "\n",
    "*If this is not a photon model but a prior or linear function then ignore the units as these docs are auto-generated*"
   ]
  },
  {
   "cell_type": "code",
   "execution_count": 6,
   "id": "18e8b26c",
   "metadata": {
    "execution": {
     "iopub.execute_input": "2025-04-29T23:20:59.596829Z",
     "iopub.status.busy": "2025-04-29T23:20:59.596560Z",
     "iopub.status.idle": "2025-04-29T23:20:59.749199Z",
     "shell.execute_reply": "2025-04-29T23:20:59.747946Z"
    },
    "papermill": {
     "duration": 0.157671,
     "end_time": "2025-04-29T23:20:59.751321",
     "exception": false,
     "start_time": "2025-04-29T23:20:59.593650",
     "status": "completed"
    },
    "tags": [
     "nbsphinx-thumbnail"
    ]
   },
   "outputs": [
    {
     "data": {
      "text/plain": [
       "Text(0, 0.5, 'probability')"
      ]
     },
     "execution_count": 6,
     "metadata": {},
     "output_type": "execute_result"
    },
    {
     "data": {
      "image/png": "[encoded data removed]",
      "text/plain": [
       "<Figure size 1040x910 with 1 Axes>"
      ]
     },
     "metadata": {},
     "output_type": "display_data"
    }
   ],
   "source": [
    "fig, ax = plt.subplots()\n",
    "\n",
    "\n",
    "ax.plot(energy_grid, func(energy_grid), color=blue, lw=3)\n",
    "\n",
    "ax.set_xlabel(\"x\")\n",
    "ax.set_ylabel(\"probability\")\n"
   ]
  },
  {
   "cell_type": "markdown",
   "id": "a22878c9",
   "metadata": {
    "papermill": {
     "duration": 0.003857,
     "end_time": "2025-04-29T23:20:59.757156",
     "exception": false,
     "start_time": "2025-04-29T23:20:59.753299",
     "status": "completed"
    },
    "tags": []
   },
   "source": [
    "## Random Number Generation\n",
    "\n",
    "This is how we can generate random numbers from the prior.\n"
   ]
  },
  {
   "cell_type": "code",
   "execution_count": 7,
   "id": "9400b165",
   "metadata": {
    "execution": {
     "iopub.execute_input": "2025-04-29T23:20:59.766104Z",
     "iopub.status.busy": "2025-04-29T23:20:59.765875Z",
     "iopub.status.idle": "2025-04-29T23:20:59.975759Z",
     "shell.execute_reply": "2025-04-29T23:20:59.974028Z"
    },
    "papermill": {
     "duration": 0.213913,
     "end_time": "2025-04-29T23:20:59.977034",
     "exception": false,
     "start_time": "2025-04-29T23:20:59.763121",
     "status": "completed"
    },
    "tags": []
   },
   "outputs": [
    {
     "data": {
      "text/plain": [
       "Text(0, 0.5, 'N')"
      ]
     },
     "execution_count": 7,
     "metadata": {},
     "output_type": "execute_result"
    },
    {
     "data": {
      "image/png": "[encoded data removed]",
      "text/plain": [
       "<Figure size 1040x910 with 1 Axes>"
      ]
     },
     "metadata": {},
     "output_type": "display_data"
    }
   ],
   "source": [
    "\n",
    "\n",
    "u = np.random.uniform(0,1, size=5000)\n",
    "\n",
    "draws = [func.from_unit_cube(x) for x in u]\n",
    "\n",
    "\n",
    "fig, ax = plt.subplots()\n",
    "\n",
    "\n",
    "ax.hist(draws, color=green, bins=50)\n",
    "\n",
    "ax.set_xlabel(\"value\")\n",
    "ax.set_ylabel(\"N\")\n",
    "\n"
   ]
  }
 ],
 "metadata": {
  "jupytext": {
   "formats": "ipynb,md"
  },
  "kernelspec": {
   "display_name": "Python 3 (ipykernel)",
   "language": "python",
   "name": "python3"
  },
  "language_info": {
   "codemirror_mode": {
    "name": "ipython",
    "version": 3
   },
   "file_extension": ".py",
   "mimetype": "text/x-python",
   "name": "python",
   "nbconvert_exporter": "python",
   "pygments_lexer": "ipython3",
   "version": "3.9.13"
  },
  "papermill": {
   "default_parameters": {},
   "duration": 4.069664,
   "end_time": "2025-04-29T23:21:00.639883",
   "environment_variables": {},
   "exception": null,
   "input_path": "Log_uniform_prior.ipynb",
   "output_path": "/Users/runner/work/astromodels/astromodels/docs/notebooks/Log_uniform_prior.ipynb",
   "parameters": {
    "func_name": "Log_uniform_prior",
    "positive_prior": true
   },
   "start_time": "2025-04-29T23:20:56.570219",
   "version": "2.6.0"
  }
 },
 "nbformat": 4,
 "nbformat_minor": 5
}
