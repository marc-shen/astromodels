{
 "cells": [
  {
   "cell_type": "markdown",
   "id": "33fa6acd",
   "metadata": {
    "papermill": {
     "duration": 0.003528,
     "end_time": "2024-02-02T21:48:16.613004",
     "exception": false,
     "start_time": "2024-02-02T21:48:16.609476",
     "status": "completed"
    },
    "tags": []
   },
   "source": [
    "# Log uniform prior"
   ]
  },
  {
   "cell_type": "code",
   "execution_count": 1,
   "id": "4bf61be1",
   "metadata": {
    "execution": {
     "iopub.execute_input": "2024-02-02T21:48:16.621024Z",
     "iopub.status.busy": "2024-02-02T21:48:16.620546Z",
     "iopub.status.idle": "2024-02-02T21:48:19.407836Z",
     "shell.execute_reply": "2024-02-02T21:48:19.405761Z"
    },
    "nbsphinx": "hidden",
    "papermill": {
     "duration": 2.796492,
     "end_time": "2024-02-02T21:48:19.412635",
     "exception": false,
     "start_time": "2024-02-02T21:48:16.616143",
     "status": "completed"
    },
    "tags": []
   },
   "outputs": [],
   "source": [
    "%%capture\n",
    "\n",
    "import numpy as np\n",
    "\n",
    "import matplotlib.pyplot as plt\n",
    "\n",
    "import warnings\n",
    "warnings.simplefilter(\"ignore\")\n",
    "\n",
    "from astromodels.functions.function import _known_functions\n",
    "\n",
    "\n",
    "from jupyterthemes import jtplot\n",
    "jtplot.style(context=\"talk\", fscale=1, ticks=True, grid=False)\n",
    "%matplotlib inline"
   ]
  },
  {
   "cell_type": "code",
   "execution_count": 2,
   "id": "9dfa6628",
   "metadata": {
    "execution": {
     "iopub.execute_input": "2024-02-02T21:48:19.420423Z",
     "iopub.status.busy": "2024-02-02T21:48:19.419876Z",
     "iopub.status.idle": "2024-02-02T21:48:19.426809Z",
     "shell.execute_reply": "2024-02-02T21:48:19.425285Z"
    },
    "nbsphinx": "hidden",
    "papermill": {
     "duration": 0.015725,
     "end_time": "2024-02-02T21:48:19.431173",
     "exception": false,
     "start_time": "2024-02-02T21:48:19.415448",
     "status": "completed"
    },
    "tags": [
     "parameters"
    ]
   },
   "outputs": [],
   "source": [
    "func_name = \"TbAbs\"\n",
    "\n",
    "positive_prior = False\n"
   ]
  },
  {
   "cell_type": "code",
   "execution_count": 3,
   "id": "cd535d3d",
   "metadata": {
    "execution": {
     "iopub.execute_input": "2024-02-02T21:48:19.438178Z",
     "iopub.status.busy": "2024-02-02T21:48:19.437729Z",
     "iopub.status.idle": "2024-02-02T21:48:19.446408Z",
     "shell.execute_reply": "2024-02-02T21:48:19.445056Z"
    },
    "papermill": {
     "duration": 0.017575,
     "end_time": "2024-02-02T21:48:19.451195",
     "exception": false,
     "start_time": "2024-02-02T21:48:19.433620",
     "status": "completed"
    },
    "tags": [
     "injected-parameters"
    ]
   },
   "outputs": [],
   "source": [
    "# Parameters\n",
    "func_name = \"Log_uniform_prior\"\n",
    "positive_prior = True\n"
   ]
  },
  {
   "cell_type": "code",
   "execution_count": 4,
   "id": "8ca9d934",
   "metadata": {
    "execution": {
     "iopub.execute_input": "2024-02-02T21:48:19.458491Z",
     "iopub.status.busy": "2024-02-02T21:48:19.458111Z",
     "iopub.status.idle": "2024-02-02T21:48:19.470016Z",
     "shell.execute_reply": "2024-02-02T21:48:19.468490Z"
    },
    "lines_to_next_cell": 0,
    "nbsphinx": "hidden",
    "papermill": {
     "duration": 0.020683,
     "end_time": "2024-02-02T21:48:19.474396",
     "exception": false,
     "start_time": "2024-02-02T21:48:19.453713",
     "status": "completed"
    },
    "tags": []
   },
   "outputs": [],
   "source": [
    "func = _known_functions[func_name]()\n",
    "\n",
    "if not positive_prior:\n",
    "\n",
    "\tenergy_grid = np.linspace(-5,5,1000)\n",
    "\n",
    "else:\n",
    "    \n",
    "    energy_grid = np.linspace(0,1,1000)\n",
    "    \n",
    "    \n",
    "    \n",
    "    \n",
    "blue = \"#4152E3\"\n",
    "red = \"#E3414B\"\n",
    "green = \"#41E39E\""
   ]
  },
  {
   "cell_type": "markdown",
   "id": "082d3b47",
   "metadata": {
    "lines_to_next_cell": 0,
    "papermill": {
     "duration": 0.002771,
     "end_time": "2024-02-02T21:48:19.479801",
     "exception": false,
     "start_time": "2024-02-02T21:48:19.477030",
     "status": "completed"
    },
    "tags": []
   },
   "source": [
    "## Description"
   ]
  },
  {
   "cell_type": "code",
   "execution_count": 5,
   "id": "0a204e14",
   "metadata": {
    "execution": {
     "iopub.execute_input": "2024-02-02T21:48:19.487316Z",
     "iopub.status.busy": "2024-02-02T21:48:19.486764Z",
     "iopub.status.idle": "2024-02-02T21:48:19.503286Z",
     "shell.execute_reply": "2024-02-02T21:48:19.501748Z"
    },
    "papermill": {
     "duration": 0.025452,
     "end_time": "2024-02-02T21:48:19.507910",
     "exception": false,
     "start_time": "2024-02-02T21:48:19.482458",
     "status": "completed"
    },
    "tags": []
   },
   "outputs": [
    {
     "data": {
      "text/html": [
       "<ul>\n",
       "\n",
       "<li>description: A function which is K/x on the interval lower_bound - upper_bound and 0 outside the interval. The extremes of the interval are NOT counted as part of the interval. Lower_bound must be >= 0.</li>\n",
       "\n",
       "<li>formula: $ f(x)=K~\\begin{cases}0 & x \\le \\text{lower_bound} \\\\\\frac{1}{x} & \\text{lower_bound} < x < \\text{upper_bound} \\\\ 0 & x \\ge \\text{upper_bound} \\end{cases}$</li>\n",
       "\n",
       "<li>parameters: \n",
       "<ul>\n",
       "\n",
       "<li>lower_bound: \n",
       "<ul>\n",
       "\n",
       "<li>value: 1e-20</li>\n",
       "\n",
       "<li>desc: Lower bound for the interval</li>\n",
       "\n",
       "<li>min_value: 1e-30</li>\n",
       "\n",
       "<li>max_value: inf</li>\n",
       "\n",
       "<li>unit: </li>\n",
       "\n",
       "<li>is_normalization: False</li>\n",
       "\n",
       "<li>delta: 1e-21</li>\n",
       "\n",
       "<li>free: True</li>\n",
       "\n",
       "</ul>\n",
       "\n",
       "</li>\n",
       "\n",
       "<li>upper_bound: \n",
       "<ul>\n",
       "\n",
       "<li>value: 100.0</li>\n",
       "\n",
       "<li>desc: Upper bound for the interval</li>\n",
       "\n",
       "<li>min_value: 1e-30</li>\n",
       "\n",
       "<li>max_value: inf</li>\n",
       "\n",
       "<li>unit: </li>\n",
       "\n",
       "<li>is_normalization: False</li>\n",
       "\n",
       "<li>delta: 10.0</li>\n",
       "\n",
       "<li>free: True</li>\n",
       "\n",
       "</ul>\n",
       "\n",
       "</li>\n",
       "\n",
       "<li>K: \n",
       "<ul>\n",
       "\n",
       "<li>value: 1.0</li>\n",
       "\n",
       "<li>desc: Normalization</li>\n",
       "\n",
       "<li>min_value: None</li>\n",
       "\n",
       "<li>max_value: None</li>\n",
       "\n",
       "<li>unit: </li>\n",
       "\n",
       "<li>is_normalization: False</li>\n",
       "\n",
       "<li>delta: 0.1</li>\n",
       "\n",
       "<li>free: False</li>\n",
       "\n",
       "</ul>\n",
       "\n",
       "</li>\n",
       "\n",
       "</ul>\n",
       "\n",
       "</li>\n",
       "\n",
       "</ul>\n"
      ],
      "text/plain": [
       "  * description: A function which is K/x on the interval lower_bound - upper_bound and\n",
       "    * 0 outside the interval. The extremes of the interval are NOT counted as part of\n",
       "    * the interval. Lower_bound must be >= 0.\n",
       "  * formula: $ f(x)=K~\\begin{cases}0 & x \\le \\text{lower_bound} \\\\\\frac{1}{x} & \\text{lower_bound}\n",
       "    * < x < \\text{upper_bound} \\\\ 0 & x \\ge \\text{upper_bound} \\end{cases}$\n",
       "  * parameters:\n",
       "    * lower_bound:\n",
       "      * value: 1.0e-20\n",
       "      * desc: Lower bound for the interval\n",
       "      * min_value: 1.0e-30\n",
       "      * max_value: .inf\n",
       "      * unit: ''\n",
       "      * is_normalization: false\n",
       "      * delta: 1.0e-21\n",
       "      * free: true\n",
       "    * upper_bound:\n",
       "      * value: 100.0\n",
       "      * desc: Upper bound for the interval\n",
       "      * min_value: 1.0e-30\n",
       "      * max_value: .inf\n",
       "      * unit: ''\n",
       "      * is_normalization: false\n",
       "      * delta: 10.0\n",
       "      * free: true\n",
       "    * K:\n",
       "      * value: 1.0\n",
       "      * desc: Normalization\n",
       "      * min_value: null\n",
       "      * max_value: null\n",
       "      * unit: ''\n",
       "      * is_normalization: false\n",
       "      * delta: 0.1\n",
       "      * free: false"
      ]
     },
     "metadata": {},
     "output_type": "display_data"
    }
   ],
   "source": [
    "func.display()"
   ]
  },
  {
   "cell_type": "markdown",
   "id": "12076c02",
   "metadata": {
    "papermill": {
     "duration": 0.003092,
     "end_time": "2024-02-02T21:48:19.513913",
     "exception": false,
     "start_time": "2024-02-02T21:48:19.510821",
     "status": "completed"
    },
    "tags": []
   },
   "source": [
    "## Shape \n",
    "\n",
    "The shape of the function. \n",
    "\n",
    "*If this is not a photon model but a prior or linear function then ignore the units as these docs are auto-generated*"
   ]
  },
  {
   "cell_type": "code",
   "execution_count": 6,
   "id": "80adb604",
   "metadata": {
    "execution": {
     "iopub.execute_input": "2024-02-02T21:48:19.522344Z",
     "iopub.status.busy": "2024-02-02T21:48:19.521867Z",
     "iopub.status.idle": "2024-02-02T21:48:19.753313Z",
     "shell.execute_reply": "2024-02-02T21:48:19.751662Z"
    },
    "papermill": {
     "duration": 0.240857,
     "end_time": "2024-02-02T21:48:19.757898",
     "exception": false,
     "start_time": "2024-02-02T21:48:19.517041",
     "status": "completed"
    },
    "tags": [
     "nbsphinx-thumbnail"
    ]
   },
   "outputs": [
    {
     "data": {
      "text/plain": [
       "Text(0, 0.5, 'probability')"
      ]
     },
     "execution_count": 6,
     "metadata": {},
     "output_type": "execute_result"
    },
    {
     "data": {
      "image/png": "[encoded data removed]",
      "text/plain": [
       "<Figure size 1040x910 with 1 Axes>"
      ]
     },
     "metadata": {},
     "output_type": "display_data"
    }
   ],
   "source": [
    "fig, ax = plt.subplots()\n",
    "\n",
    "\n",
    "ax.plot(energy_grid, func(energy_grid), color=blue, lw=3)\n",
    "\n",
    "ax.set_xlabel(\"x\")\n",
    "ax.set_ylabel(\"probability\")\n"
   ]
  },
  {
   "cell_type": "markdown",
   "id": "fcd52994",
   "metadata": {
    "papermill": {
     "duration": 0.003469,
     "end_time": "2024-02-02T21:48:19.764691",
     "exception": false,
     "start_time": "2024-02-02T21:48:19.761222",
     "status": "completed"
    },
    "tags": []
   },
   "source": [
    "## Random Number Generation\n",
    "\n",
    "This is how we can generate random numbers from the prior.\n"
   ]
  },
  {
   "cell_type": "code",
   "execution_count": 7,
   "id": "90c4cd58",
   "metadata": {
    "execution": {
     "iopub.execute_input": "2024-02-02T21:48:19.774469Z",
     "iopub.status.busy": "2024-02-02T21:48:19.773798Z",
     "iopub.status.idle": "2024-02-02T21:48:20.090804Z",
     "shell.execute_reply": "2024-02-02T21:48:20.089282Z"
    },
    "papermill": {
     "duration": 0.327221,
     "end_time": "2024-02-02T21:48:20.095229",
     "exception": false,
     "start_time": "2024-02-02T21:48:19.768008",
     "status": "completed"
    },
    "tags": []
   },
   "outputs": [
    {
     "data": {
      "text/plain": [
       "Text(0, 0.5, 'N')"
      ]
     },
     "execution_count": 7,
     "metadata": {},
     "output_type": "execute_result"
    },
    {
     "data": {
      "image/png": "[encoded data removed]",
      "text/plain": [
       "<Figure size 1040x910 with 1 Axes>"
      ]
     },
     "metadata": {},
     "output_type": "display_data"
    }
   ],
   "source": [
    "\n",
    "\n",
    "u = np.random.uniform(0,1, size=5000)\n",
    "\n",
    "draws = [func.from_unit_cube(x) for x in u]\n",
    "\n",
    "\n",
    "fig, ax = plt.subplots()\n",
    "\n",
    "\n",
    "ax.hist(draws, color=green, bins=50)\n",
    "\n",
    "ax.set_xlabel(\"value\")\n",
    "ax.set_ylabel(\"N\")\n",
    "\n"
   ]
  }
 ],
 "metadata": {
  "jupytext": {
   "formats": "ipynb,md"
  },
  "kernelspec": {
   "display_name": "Python 3 (ipykernel)",
   "language": "python",
   "name": "python3"
  },
  "language_info": {
   "codemirror_mode": {
    "name": "ipython",
    "version": 3
   },
   "file_extension": ".py",
   "mimetype": "text/x-python",
   "name": "python",
   "nbconvert_exporter": "python",
   "pygments_lexer": "ipython3",
   "version": "3.9.18"
  },
  "papermill": {
   "default_parameters": {},
   "duration": 5.219756,
   "end_time": "2024-02-02T21:48:20.734031",
   "environment_variables": {},
   "exception": null,
   "input_path": "Log_uniform_prior.ipynb",
   "output_path": "/Users/runner/work/astromodels/astromodels/docs/notebooks/Log_uniform_prior.ipynb",
   "parameters": {
    "func_name": "Log_uniform_prior",
    "positive_prior": true
   },
   "start_time": "2024-02-02T21:48:15.514275",
   "version": "2.5.0"
  }
 },
 "nbformat": 4,
 "nbformat_minor": 5
}
