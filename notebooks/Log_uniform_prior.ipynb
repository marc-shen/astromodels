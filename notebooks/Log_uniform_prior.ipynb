{
 "cells": [
  {
   "cell_type": "markdown",
   "id": "8ea8a697",
   "metadata": {
    "papermill": {
     "duration": 0.004265,
     "end_time": "2024-05-08T19:22:51.679282",
     "exception": false,
     "start_time": "2024-05-08T19:22:51.675017",
     "status": "completed"
    },
    "tags": []
   },
   "source": [
    "# Log uniform prior"
   ]
  },
  {
   "cell_type": "code",
   "execution_count": 1,
   "id": "b96d092e",
   "metadata": {
    "execution": {
     "iopub.execute_input": "2024-05-08T19:22:51.688199Z",
     "iopub.status.busy": "2024-05-08T19:22:51.687749Z",
     "iopub.status.idle": "2024-05-08T19:22:53.199456Z",
     "shell.execute_reply": "2024-05-08T19:22:53.198970Z"
    },
    "nbsphinx": "hidden",
    "papermill": {
     "duration": 1.518174,
     "end_time": "2024-05-08T19:22:53.200970",
     "exception": false,
     "start_time": "2024-05-08T19:22:51.682796",
     "status": "completed"
    },
    "tags": []
   },
   "outputs": [],
   "source": [
    "%%capture\n",
    "\n",
    "import numpy as np\n",
    "\n",
    "import matplotlib.pyplot as plt\n",
    "\n",
    "import warnings\n",
    "warnings.simplefilter(\"ignore\")\n",
    "\n",
    "from astromodels.functions.function import _known_functions\n",
    "\n",
    "\n",
    "from jupyterthemes import jtplot\n",
    "jtplot.style(context=\"talk\", fscale=1, ticks=True, grid=False)\n",
    "%matplotlib inline"
   ]
  },
  {
   "cell_type": "code",
   "execution_count": 2,
   "id": "f2e1cb4f",
   "metadata": {
    "execution": {
     "iopub.execute_input": "2024-05-08T19:22:53.204334Z",
     "iopub.status.busy": "2024-05-08T19:22:53.203959Z",
     "iopub.status.idle": "2024-05-08T19:22:53.206378Z",
     "shell.execute_reply": "2024-05-08T19:22:53.205930Z"
    },
    "nbsphinx": "hidden",
    "papermill": {
     "duration": 0.005507,
     "end_time": "2024-05-08T19:22:53.207803",
     "exception": false,
     "start_time": "2024-05-08T19:22:53.202296",
     "status": "completed"
    },
    "tags": [
     "parameters"
    ]
   },
   "outputs": [],
   "source": [
    "func_name = \"TbAbs\"\n",
    "\n",
    "positive_prior = False\n"
   ]
  },
  {
   "cell_type": "code",
   "execution_count": 3,
   "id": "06aaf193",
   "metadata": {
    "execution": {
     "iopub.execute_input": "2024-05-08T19:22:53.211047Z",
     "iopub.status.busy": "2024-05-08T19:22:53.210867Z",
     "iopub.status.idle": "2024-05-08T19:22:53.214408Z",
     "shell.execute_reply": "2024-05-08T19:22:53.213877Z"
    },
    "papermill": {
     "duration": 0.006775,
     "end_time": "2024-05-08T19:22:53.215790",
     "exception": false,
     "start_time": "2024-05-08T19:22:53.209015",
     "status": "completed"
    },
    "tags": [
     "injected-parameters"
    ]
   },
   "outputs": [],
   "source": [
    "# Parameters\n",
    "func_name = \"Log_uniform_prior\"\n",
    "positive_prior = True\n"
   ]
  },
  {
   "cell_type": "code",
   "execution_count": 4,
   "id": "24733eea",
   "metadata": {
    "execution": {
     "iopub.execute_input": "2024-05-08T19:22:53.219108Z",
     "iopub.status.busy": "2024-05-08T19:22:53.218886Z",
     "iopub.status.idle": "2024-05-08T19:22:53.223810Z",
     "shell.execute_reply": "2024-05-08T19:22:53.222612Z"
    },
    "lines_to_next_cell": 0,
    "nbsphinx": "hidden",
    "papermill": {
     "duration": 0.008957,
     "end_time": "2024-05-08T19:22:53.225837",
     "exception": false,
     "start_time": "2024-05-08T19:22:53.216880",
     "status": "completed"
    },
    "tags": []
   },
   "outputs": [],
   "source": [
    "func = _known_functions[func_name]()\n",
    "\n",
    "if not positive_prior:\n",
    "\n",
    "\tenergy_grid = np.linspace(-5,5,1000)\n",
    "\n",
    "else:\n",
    "    \n",
    "    energy_grid = np.linspace(0,1,1000)\n",
    "    \n",
    "    \n",
    "    \n",
    "    \n",
    "blue = \"#4152E3\"\n",
    "red = \"#E3414B\"\n",
    "green = \"#41E39E\""
   ]
  },
  {
   "cell_type": "markdown",
   "id": "dfc1fb37",
   "metadata": {
    "lines_to_next_cell": 0,
    "papermill": {
     "duration": 0.001395,
     "end_time": "2024-05-08T19:22:53.228587",
     "exception": false,
     "start_time": "2024-05-08T19:22:53.227192",
     "status": "completed"
    },
    "tags": []
   },
   "source": [
    "## Description"
   ]
  },
  {
   "cell_type": "code",
   "execution_count": 5,
   "id": "88bdb51d",
   "metadata": {
    "execution": {
     "iopub.execute_input": "2024-05-08T19:22:53.232994Z",
     "iopub.status.busy": "2024-05-08T19:22:53.232759Z",
     "iopub.status.idle": "2024-05-08T19:22:53.239405Z",
     "shell.execute_reply": "2024-05-08T19:22:53.238552Z"
    },
    "papermill": {
     "duration": 0.011334,
     "end_time": "2024-05-08T19:22:53.241883",
     "exception": false,
     "start_time": "2024-05-08T19:22:53.230549",
     "status": "completed"
    },
    "tags": []
   },
   "outputs": [
    {
     "data": {
      "text/html": [
       "<ul>\n",
       "\n",
       "<li>description: A function which is K/x on the interval lower_bound - upper_bound and 0 outside the interval. The extremes of the interval are NOT counted as part of the interval. Lower_bound must be >= 0.</li>\n",
       "\n",
       "<li>formula: $ f(x)=K~\\begin{cases}0 & x \\le \\text{lower_bound} \\\\\\frac{1}{x} & \\text{lower_bound} < x < \\text{upper_bound} \\\\ 0 & x \\ge \\text{upper_bound} \\end{cases}$</li>\n",
       "\n",
       "<li>parameters: \n",
       "<ul>\n",
       "\n",
       "<li>lower_bound: \n",
       "<ul>\n",
       "\n",
       "<li>value: 1e-20</li>\n",
       "\n",
       "<li>desc: Lower bound for the interval</li>\n",
       "\n",
       "<li>min_value: 1e-30</li>\n",
       "\n",
       "<li>max_value: inf</li>\n",
       "\n",
       "<li>unit: </li>\n",
       "\n",
       "<li>is_normalization: False</li>\n",
       "\n",
       "<li>delta: 1e-21</li>\n",
       "\n",
       "<li>free: True</li>\n",
       "\n",
       "</ul>\n",
       "\n",
       "</li>\n",
       "\n",
       "<li>upper_bound: \n",
       "<ul>\n",
       "\n",
       "<li>value: 100.0</li>\n",
       "\n",
       "<li>desc: Upper bound for the interval</li>\n",
       "\n",
       "<li>min_value: 1e-30</li>\n",
       "\n",
       "<li>max_value: inf</li>\n",
       "\n",
       "<li>unit: </li>\n",
       "\n",
       "<li>is_normalization: False</li>\n",
       "\n",
       "<li>delta: 10.0</li>\n",
       "\n",
       "<li>free: True</li>\n",
       "\n",
       "</ul>\n",
       "\n",
       "</li>\n",
       "\n",
       "<li>K: \n",
       "<ul>\n",
       "\n",
       "<li>value: 1.0</li>\n",
       "\n",
       "<li>desc: Normalization</li>\n",
       "\n",
       "<li>min_value: None</li>\n",
       "\n",
       "<li>max_value: None</li>\n",
       "\n",
       "<li>unit: </li>\n",
       "\n",
       "<li>is_normalization: False</li>\n",
       "\n",
       "<li>delta: 0.1</li>\n",
       "\n",
       "<li>free: False</li>\n",
       "\n",
       "</ul>\n",
       "\n",
       "</li>\n",
       "\n",
       "</ul>\n",
       "\n",
       "</li>\n",
       "\n",
       "</ul>\n"
      ],
      "text/plain": [
       "  * description: A function which is K/x on the interval lower_bound - upper_bound and\n",
       "    * 0 outside the interval. The extremes of the interval are NOT counted as part of\n",
       "    * the interval. Lower_bound must be >= 0.\n",
       "  * formula: $ f(x)=K~\\begin{cases}0 & x \\le \\text{lower_bound} \\\\\\frac{1}{x} & \\text{lower_bound}\n",
       "    * < x < \\text{upper_bound} \\\\ 0 & x \\ge \\text{upper_bound} \\end{cases}$\n",
       "  * parameters:\n",
       "    * lower_bound:\n",
       "      * value: 1.0e-20\n",
       "      * desc: Lower bound for the interval\n",
       "      * min_value: 1.0e-30\n",
       "      * max_value: .inf\n",
       "      * unit: ''\n",
       "      * is_normalization: false\n",
       "      * delta: 1.0e-21\n",
       "      * free: true\n",
       "    * upper_bound:\n",
       "      * value: 100.0\n",
       "      * desc: Upper bound for the interval\n",
       "      * min_value: 1.0e-30\n",
       "      * max_value: .inf\n",
       "      * unit: ''\n",
       "      * is_normalization: false\n",
       "      * delta: 10.0\n",
       "      * free: true\n",
       "    * K:\n",
       "      * value: 1.0\n",
       "      * desc: Normalization\n",
       "      * min_value: null\n",
       "      * max_value: null\n",
       "      * unit: ''\n",
       "      * is_normalization: false\n",
       "      * delta: 0.1\n",
       "      * free: false"
      ]
     },
     "metadata": {},
     "output_type": "display_data"
    }
   ],
   "source": [
    "func.display()"
   ]
  },
  {
   "cell_type": "markdown",
   "id": "327c6f20",
   "metadata": {
    "papermill": {
     "duration": 0.001331,
     "end_time": "2024-05-08T19:22:53.244800",
     "exception": false,
     "start_time": "2024-05-08T19:22:53.243469",
     "status": "completed"
    },
    "tags": []
   },
   "source": [
    "## Shape \n",
    "\n",
    "The shape of the function. \n",
    "\n",
    "*If this is not a photon model but a prior or linear function then ignore the units as these docs are auto-generated*"
   ]
  },
  {
   "cell_type": "code",
   "execution_count": 6,
   "id": "1868962b",
   "metadata": {
    "execution": {
     "iopub.execute_input": "2024-05-08T19:22:53.248813Z",
     "iopub.status.busy": "2024-05-08T19:22:53.248601Z",
     "iopub.status.idle": "2024-05-08T19:22:53.349119Z",
     "shell.execute_reply": "2024-05-08T19:22:53.348779Z"
    },
    "papermill": {
     "duration": 0.104451,
     "end_time": "2024-05-08T19:22:53.350548",
     "exception": false,
     "start_time": "2024-05-08T19:22:53.246097",
     "status": "completed"
    },
    "tags": [
     "nbsphinx-thumbnail"
    ]
   },
   "outputs": [
    {
     "data": {
      "text/plain": [
       "Text(0, 0.5, 'probability')"
      ]
     },
     "execution_count": 6,
     "metadata": {},
     "output_type": "execute_result"
    },
    {
     "data": {
      "image/png": "[encoded data removed]",
      "text/plain": [
       "<Figure size 1040x910 with 1 Axes>"
      ]
     },
     "metadata": {},
     "output_type": "display_data"
    }
   ],
   "source": [
    "fig, ax = plt.subplots()\n",
    "\n",
    "\n",
    "ax.plot(energy_grid, func(energy_grid), color=blue, lw=3)\n",
    "\n",
    "ax.set_xlabel(\"x\")\n",
    "ax.set_ylabel(\"probability\")\n"
   ]
  },
  {
   "cell_type": "markdown",
   "id": "7e42c9ff",
   "metadata": {
    "papermill": {
     "duration": 0.001445,
     "end_time": "2024-05-08T19:22:53.353625",
     "exception": false,
     "start_time": "2024-05-08T19:22:53.352180",
     "status": "completed"
    },
    "tags": []
   },
   "source": [
    "## Random Number Generation\n",
    "\n",
    "This is how we can generate random numbers from the prior.\n"
   ]
  },
  {
   "cell_type": "code",
   "execution_count": 7,
   "id": "0087e1ab",
   "metadata": {
    "execution": {
     "iopub.execute_input": "2024-05-08T19:22:53.357047Z",
     "iopub.status.busy": "2024-05-08T19:22:53.356891Z",
     "iopub.status.idle": "2024-05-08T19:22:53.479595Z",
     "shell.execute_reply": "2024-05-08T19:22:53.479189Z"
    },
    "papermill": {
     "duration": 0.125999,
     "end_time": "2024-05-08T19:22:53.480934",
     "exception": false,
     "start_time": "2024-05-08T19:22:53.354935",
     "status": "completed"
    },
    "tags": []
   },
   "outputs": [
    {
     "data": {
      "text/plain": [
       "Text(0, 0.5, 'N')"
      ]
     },
     "execution_count": 7,
     "metadata": {},
     "output_type": "execute_result"
    },
    {
     "data": {
      "image/png": "[encoded data removed]",
      "text/plain": [
       "<Figure size 1040x910 with 1 Axes>"
      ]
     },
     "metadata": {},
     "output_type": "display_data"
    }
   ],
   "source": [
    "\n",
    "\n",
    "u = np.random.uniform(0,1, size=5000)\n",
    "\n",
    "draws = [func.from_unit_cube(x) for x in u]\n",
    "\n",
    "\n",
    "fig, ax = plt.subplots()\n",
    "\n",
    "\n",
    "ax.hist(draws, color=green, bins=50)\n",
    "\n",
    "ax.set_xlabel(\"value\")\n",
    "ax.set_ylabel(\"N\")\n",
    "\n"
   ]
  }
 ],
 "metadata": {
  "jupytext": {
   "formats": "ipynb,md"
  },
  "kernelspec": {
   "display_name": "Python 3 (ipykernel)",
   "language": "python",
   "name": "python3"
  },
  "language_info": {
   "codemirror_mode": {
    "name": "ipython",
    "version": 3
   },
   "file_extension": ".py",
   "mimetype": "text/x-python",
   "name": "python",
   "nbconvert_exporter": "python",
   "pygments_lexer": "ipython3",
   "version": "3.9.13"
  },
  "papermill": {
   "default_parameters": {},
   "duration": 2.768409,
   "end_time": "2024-05-08T19:22:53.924019",
   "environment_variables": {},
   "exception": null,
   "input_path": "Log_uniform_prior.ipynb",
   "output_path": "/Users/runner/work/astromodels/astromodels/docs/notebooks/Log_uniform_prior.ipynb",
   "parameters": {
    "func_name": "Log_uniform_prior",
    "positive_prior": true
   },
   "start_time": "2024-05-08T19:22:51.155610",
   "version": "2.6.0"
  }
 },
 "nbformat": 4,
 "nbformat_minor": 5
}
