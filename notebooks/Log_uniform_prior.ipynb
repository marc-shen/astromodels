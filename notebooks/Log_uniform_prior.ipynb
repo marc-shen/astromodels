{
 "cells": [
  {
   "cell_type": "markdown",
   "id": "b42f17b5",
   "metadata": {
    "papermill": {
     "duration": 0.00714,
     "end_time": "2024-08-13T20:16:51.821221",
     "exception": false,
     "start_time": "2024-08-13T20:16:51.814081",
     "status": "completed"
    },
    "tags": []
   },
   "source": [
    "# Log uniform prior"
   ]
  },
  {
   "cell_type": "code",
   "execution_count": 1,
   "id": "ad736dca",
   "metadata": {
    "execution": {
     "iopub.execute_input": "2024-08-13T20:16:51.835790Z",
     "iopub.status.busy": "2024-08-13T20:16:51.835142Z",
     "iopub.status.idle": "2024-08-13T20:16:53.599644Z",
     "shell.execute_reply": "2024-08-13T20:16:53.598893Z"
    },
    "nbsphinx": "hidden",
    "papermill": {
     "duration": 1.774321,
     "end_time": "2024-08-13T20:16:53.601936",
     "exception": false,
     "start_time": "2024-08-13T20:16:51.827615",
     "status": "completed"
    },
    "tags": []
   },
   "outputs": [],
   "source": [
    "%%capture\n",
    "\n",
    "import numpy as np\n",
    "\n",
    "import matplotlib.pyplot as plt\n",
    "\n",
    "import warnings\n",
    "warnings.simplefilter(\"ignore\")\n",
    "\n",
    "from astromodels.functions.function import _known_functions\n",
    "\n",
    "\n",
    "from jupyterthemes import jtplot\n",
    "jtplot.style(context=\"talk\", fscale=1, ticks=True, grid=False)\n",
    "%matplotlib inline"
   ]
  },
  {
   "cell_type": "code",
   "execution_count": 2,
   "id": "8c4e821c",
   "metadata": {
    "execution": {
     "iopub.execute_input": "2024-08-13T20:16:53.605927Z",
     "iopub.status.busy": "2024-08-13T20:16:53.605537Z",
     "iopub.status.idle": "2024-08-13T20:16:53.608131Z",
     "shell.execute_reply": "2024-08-13T20:16:53.607706Z"
    },
    "nbsphinx": "hidden",
    "papermill": {
     "duration": 0.005964,
     "end_time": "2024-08-13T20:16:53.609397",
     "exception": false,
     "start_time": "2024-08-13T20:16:53.603433",
     "status": "completed"
    },
    "tags": [
     "parameters"
    ]
   },
   "outputs": [],
   "source": [
    "func_name = \"TbAbs\"\n",
    "\n",
    "positive_prior = False\n"
   ]
  },
  {
   "cell_type": "code",
   "execution_count": 3,
   "id": "18ac91cf",
   "metadata": {
    "execution": {
     "iopub.execute_input": "2024-08-13T20:16:53.612269Z",
     "iopub.status.busy": "2024-08-13T20:16:53.612121Z",
     "iopub.status.idle": "2024-08-13T20:16:53.620118Z",
     "shell.execute_reply": "2024-08-13T20:16:53.619652Z"
    },
    "papermill": {
     "duration": 0.010952,
     "end_time": "2024-08-13T20:16:53.621498",
     "exception": false,
     "start_time": "2024-08-13T20:16:53.610546",
     "status": "completed"
    },
    "tags": [
     "injected-parameters"
    ]
   },
   "outputs": [],
   "source": [
    "# Parameters\n",
    "func_name = \"Log_uniform_prior\"\n",
    "positive_prior = True\n"
   ]
  },
  {
   "cell_type": "code",
   "execution_count": 4,
   "id": "5fbb5a38",
   "metadata": {
    "execution": {
     "iopub.execute_input": "2024-08-13T20:16:53.624274Z",
     "iopub.status.busy": "2024-08-13T20:16:53.624131Z",
     "iopub.status.idle": "2024-08-13T20:16:53.633257Z",
     "shell.execute_reply": "2024-08-13T20:16:53.632785Z"
    },
    "lines_to_next_cell": 0,
    "nbsphinx": "hidden",
    "papermill": {
     "duration": 0.011931,
     "end_time": "2024-08-13T20:16:53.634548",
     "exception": false,
     "start_time": "2024-08-13T20:16:53.622617",
     "status": "completed"
    },
    "tags": []
   },
   "outputs": [],
   "source": [
    "func = _known_functions[func_name]()\n",
    "\n",
    "if not positive_prior:\n",
    "\n",
    "\tenergy_grid = np.linspace(-5,5,1000)\n",
    "\n",
    "else:\n",
    "    \n",
    "    energy_grid = np.linspace(0,1,1000)\n",
    "    \n",
    "    \n",
    "    \n",
    "    \n",
    "blue = \"#4152E3\"\n",
    "red = \"#E3414B\"\n",
    "green = \"#41E39E\""
   ]
  },
  {
   "cell_type": "markdown",
   "id": "2c7a2507",
   "metadata": {
    "lines_to_next_cell": 0,
    "papermill": {
     "duration": 0.000993,
     "end_time": "2024-08-13T20:16:53.636582",
     "exception": false,
     "start_time": "2024-08-13T20:16:53.635589",
     "status": "completed"
    },
    "tags": []
   },
   "source": [
    "## Description"
   ]
  },
  {
   "cell_type": "code",
   "execution_count": 5,
   "id": "49ad1b46",
   "metadata": {
    "execution": {
     "iopub.execute_input": "2024-08-13T20:16:53.639064Z",
     "iopub.status.busy": "2024-08-13T20:16:53.638928Z",
     "iopub.status.idle": "2024-08-13T20:16:53.643169Z",
     "shell.execute_reply": "2024-08-13T20:16:53.642806Z"
    },
    "papermill": {
     "duration": 0.006998,
     "end_time": "2024-08-13T20:16:53.644518",
     "exception": false,
     "start_time": "2024-08-13T20:16:53.637520",
     "status": "completed"
    },
    "tags": []
   },
   "outputs": [
    {
     "data": {
      "text/html": [
       "<ul>\n",
       "\n",
       "<li>description: A function which is K/x on the interval lower_bound - upper_bound and 0 outside the interval. The extremes of the interval are NOT counted as part of the interval. Lower_bound must be >= 0.</li>\n",
       "\n",
       "<li>formula: $ f(x)=K~\\begin{cases}0 & x \\le \\text{lower_bound} \\\\\\frac{1}{x} & \\text{lower_bound} < x < \\text{upper_bound} \\\\ 0 & x \\ge \\text{upper_bound} \\end{cases}$</li>\n",
       "\n",
       "<li>parameters: \n",
       "<ul>\n",
       "\n",
       "<li>lower_bound: \n",
       "<ul>\n",
       "\n",
       "<li>value: 1e-20</li>\n",
       "\n",
       "<li>desc: Lower bound for the interval</li>\n",
       "\n",
       "<li>min_value: 1e-30</li>\n",
       "\n",
       "<li>max_value: inf</li>\n",
       "\n",
       "<li>unit: </li>\n",
       "\n",
       "<li>is_normalization: False</li>\n",
       "\n",
       "<li>delta: 1e-21</li>\n",
       "\n",
       "<li>free: True</li>\n",
       "\n",
       "</ul>\n",
       "\n",
       "</li>\n",
       "\n",
       "<li>upper_bound: \n",
       "<ul>\n",
       "\n",
       "<li>value: 100.0</li>\n",
       "\n",
       "<li>desc: Upper bound for the interval</li>\n",
       "\n",
       "<li>min_value: 1e-30</li>\n",
       "\n",
       "<li>max_value: inf</li>\n",
       "\n",
       "<li>unit: </li>\n",
       "\n",
       "<li>is_normalization: False</li>\n",
       "\n",
       "<li>delta: 10.0</li>\n",
       "\n",
       "<li>free: True</li>\n",
       "\n",
       "</ul>\n",
       "\n",
       "</li>\n",
       "\n",
       "<li>K: \n",
       "<ul>\n",
       "\n",
       "<li>value: 1.0</li>\n",
       "\n",
       "<li>desc: Normalization</li>\n",
       "\n",
       "<li>min_value: None</li>\n",
       "\n",
       "<li>max_value: None</li>\n",
       "\n",
       "<li>unit: </li>\n",
       "\n",
       "<li>is_normalization: False</li>\n",
       "\n",
       "<li>delta: 0.1</li>\n",
       "\n",
       "<li>free: False</li>\n",
       "\n",
       "</ul>\n",
       "\n",
       "</li>\n",
       "\n",
       "</ul>\n",
       "\n",
       "</li>\n",
       "\n",
       "</ul>\n"
      ],
      "text/plain": [
       "  * description: A function which is K/x on the interval lower_bound - upper_bound and\n",
       "    * 0 outside the interval. The extremes of the interval are NOT counted as part of\n",
       "    * the interval. Lower_bound must be >= 0.\n",
       "  * formula: $ f(x)=K~\\begin{cases}0 & x \\le \\text{lower_bound} \\\\\\frac{1}{x} & \\text{lower_bound}\n",
       "    * < x < \\text{upper_bound} \\\\ 0 & x \\ge \\text{upper_bound} \\end{cases}$\n",
       "  * parameters:\n",
       "    * lower_bound:\n",
       "      * value: 1.0e-20\n",
       "      * desc: Lower bound for the interval\n",
       "      * min_value: 1.0e-30\n",
       "      * max_value: .inf\n",
       "      * unit: ''\n",
       "      * is_normalization: false\n",
       "      * delta: 1.0e-21\n",
       "      * free: true\n",
       "    * upper_bound:\n",
       "      * value: 100.0\n",
       "      * desc: Upper bound for the interval\n",
       "      * min_value: 1.0e-30\n",
       "      * max_value: .inf\n",
       "      * unit: ''\n",
       "      * is_normalization: false\n",
       "      * delta: 10.0\n",
       "      * free: true\n",
       "    * K:\n",
       "      * value: 1.0\n",
       "      * desc: Normalization\n",
       "      * min_value: null\n",
       "      * max_value: null\n",
       "      * unit: ''\n",
       "      * is_normalization: false\n",
       "      * delta: 0.1\n",
       "      * free: false"
      ]
     },
     "metadata": {},
     "output_type": "display_data"
    }
   ],
   "source": [
    "func.display()"
   ]
  },
  {
   "cell_type": "markdown",
   "id": "c2ff1cf1",
   "metadata": {
    "papermill": {
     "duration": 0.0011,
     "end_time": "2024-08-13T20:16:53.646799",
     "exception": false,
     "start_time": "2024-08-13T20:16:53.645699",
     "status": "completed"
    },
    "tags": []
   },
   "source": [
    "## Shape \n",
    "\n",
    "The shape of the function. \n",
    "\n",
    "*If this is not a photon model but a prior or linear function then ignore the units as these docs are auto-generated*"
   ]
  },
  {
   "cell_type": "code",
   "execution_count": 6,
   "id": "7a89ba59",
   "metadata": {
    "execution": {
     "iopub.execute_input": "2024-08-13T20:16:53.649661Z",
     "iopub.status.busy": "2024-08-13T20:16:53.649503Z",
     "iopub.status.idle": "2024-08-13T20:16:53.754753Z",
     "shell.execute_reply": "2024-08-13T20:16:53.753832Z"
    },
    "papermill": {
     "duration": 0.109694,
     "end_time": "2024-08-13T20:16:53.757517",
     "exception": false,
     "start_time": "2024-08-13T20:16:53.647823",
     "status": "completed"
    },
    "tags": [
     "nbsphinx-thumbnail"
    ]
   },
   "outputs": [
    {
     "data": {
      "text/plain": [
       "Text(0, 0.5, 'probability')"
      ]
     },
     "execution_count": 6,
     "metadata": {},
     "output_type": "execute_result"
    },
    {
     "data": {
      "image/png": "[encoded data removed]",
      "text/plain": [
       "<Figure size 1040x910 with 1 Axes>"
      ]
     },
     "metadata": {},
     "output_type": "display_data"
    }
   ],
   "source": [
    "fig, ax = plt.subplots()\n",
    "\n",
    "\n",
    "ax.plot(energy_grid, func(energy_grid), color=blue, lw=3)\n",
    "\n",
    "ax.set_xlabel(\"x\")\n",
    "ax.set_ylabel(\"probability\")\n"
   ]
  },
  {
   "cell_type": "markdown",
   "id": "2c96a00c",
   "metadata": {
    "papermill": {
     "duration": 0.007479,
     "end_time": "2024-08-13T20:16:53.770028",
     "exception": false,
     "start_time": "2024-08-13T20:16:53.762549",
     "status": "completed"
    },
    "tags": []
   },
   "source": [
    "## Random Number Generation\n",
    "\n",
    "This is how we can generate random numbers from the prior.\n"
   ]
  },
  {
   "cell_type": "code",
   "execution_count": 7,
   "id": "28c4448c",
   "metadata": {
    "execution": {
     "iopub.execute_input": "2024-08-13T20:16:53.775365Z",
     "iopub.status.busy": "2024-08-13T20:16:53.775162Z",
     "iopub.status.idle": "2024-08-13T20:16:53.953411Z",
     "shell.execute_reply": "2024-08-13T20:16:53.952912Z"
    },
    "papermill": {
     "duration": 0.184248,
     "end_time": "2024-08-13T20:16:53.956333",
     "exception": false,
     "start_time": "2024-08-13T20:16:53.772085",
     "status": "completed"
    },
    "tags": []
   },
   "outputs": [
    {
     "data": {
      "text/plain": [
       "Text(0, 0.5, 'N')"
      ]
     },
     "execution_count": 7,
     "metadata": {},
     "output_type": "execute_result"
    },
    {
     "data": {
      "image/png": "[encoded data removed]",
      "text/plain": [
       "<Figure size 1040x910 with 1 Axes>"
      ]
     },
     "metadata": {},
     "output_type": "display_data"
    }
   ],
   "source": [
    "\n",
    "\n",
    "u = np.random.uniform(0,1, size=5000)\n",
    "\n",
    "draws = [func.from_unit_cube(x) for x in u]\n",
    "\n",
    "\n",
    "fig, ax = plt.subplots()\n",
    "\n",
    "\n",
    "ax.hist(draws, color=green, bins=50)\n",
    "\n",
    "ax.set_xlabel(\"value\")\n",
    "ax.set_ylabel(\"N\")\n",
    "\n"
   ]
  }
 ],
 "metadata": {
  "jupytext": {
   "formats": "ipynb,md"
  },
  "kernelspec": {
   "display_name": "Python 3 (ipykernel)",
   "language": "python",
   "name": "python3"
  },
  "language_info": {
   "codemirror_mode": {
    "name": "ipython",
    "version": 3
   },
   "file_extension": ".py",
   "mimetype": "text/x-python",
   "name": "python",
   "nbconvert_exporter": "python",
   "pygments_lexer": "ipython3",
   "version": "3.9.13"
  },
  "papermill": {
   "default_parameters": {},
   "duration": 3.290654,
   "end_time": "2024-08-13T20:16:54.508912",
   "environment_variables": {},
   "exception": null,
   "input_path": "Log_uniform_prior.ipynb",
   "output_path": "/Users/runner/work/astromodels/astromodels/docs/notebooks/Log_uniform_prior.ipynb",
   "parameters": {
    "func_name": "Log_uniform_prior",
    "positive_prior": true
   },
   "start_time": "2024-08-13T20:16:51.218258",
   "version": "2.6.0"
  }
 },
 "nbformat": 4,
 "nbformat_minor": 5
}
