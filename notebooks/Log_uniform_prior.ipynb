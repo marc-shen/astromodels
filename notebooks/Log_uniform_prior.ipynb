{
 "cells": [
  {
   "cell_type": "markdown",
   "id": "e6295b99",
   "metadata": {
    "papermill": {
     "duration": 0.003258,
     "end_time": "2023-11-01T23:57:31.716475",
     "exception": false,
     "start_time": "2023-11-01T23:57:31.713217",
     "status": "completed"
    },
    "tags": []
   },
   "source": [
    "# Log uniform prior"
   ]
  },
  {
   "cell_type": "code",
   "execution_count": 1,
   "id": "ff426586",
   "metadata": {
    "execution": {
     "iopub.execute_input": "2023-11-01T23:57:31.722998Z",
     "iopub.status.busy": "2023-11-01T23:57:31.722617Z",
     "iopub.status.idle": "2023-11-01T23:57:34.349674Z",
     "shell.execute_reply": "2023-11-01T23:57:34.347951Z"
    },
    "nbsphinx": "hidden",
    "papermill": {
     "duration": 2.634687,
     "end_time": "2023-11-01T23:57:34.353621",
     "exception": false,
     "start_time": "2023-11-01T23:57:31.718934",
     "status": "completed"
    },
    "tags": []
   },
   "outputs": [],
   "source": [
    "%%capture\n",
    "\n",
    "import numpy as np\n",
    "\n",
    "import matplotlib.pyplot as plt\n",
    "\n",
    "import warnings\n",
    "warnings.simplefilter(\"ignore\")\n",
    "\n",
    "from astromodels.functions.function import _known_functions\n",
    "\n",
    "\n",
    "from jupyterthemes import jtplot\n",
    "jtplot.style(context=\"talk\", fscale=1, ticks=True, grid=False)\n",
    "%matplotlib inline"
   ]
  },
  {
   "cell_type": "code",
   "execution_count": 2,
   "id": "33804de8",
   "metadata": {
    "execution": {
     "iopub.execute_input": "2023-11-01T23:57:34.360982Z",
     "iopub.status.busy": "2023-11-01T23:57:34.360602Z",
     "iopub.status.idle": "2023-11-01T23:57:34.366260Z",
     "shell.execute_reply": "2023-11-01T23:57:34.365021Z"
    },
    "nbsphinx": "hidden",
    "papermill": {
     "duration": 0.014094,
     "end_time": "2023-11-01T23:57:34.370360",
     "exception": false,
     "start_time": "2023-11-01T23:57:34.356266",
     "status": "completed"
    },
    "tags": [
     "parameters"
    ]
   },
   "outputs": [],
   "source": [
    "func_name = \"TbAbs\"\n",
    "\n",
    "positive_prior = False\n"
   ]
  },
  {
   "cell_type": "code",
   "execution_count": 3,
   "id": "1835a190",
   "metadata": {
    "execution": {
     "iopub.execute_input": "2023-11-01T23:57:34.376986Z",
     "iopub.status.busy": "2023-11-01T23:57:34.376646Z",
     "iopub.status.idle": "2023-11-01T23:57:34.381804Z",
     "shell.execute_reply": "2023-11-01T23:57:34.380556Z"
    },
    "papermill": {
     "duration": 0.012709,
     "end_time": "2023-11-01T23:57:34.385542",
     "exception": false,
     "start_time": "2023-11-01T23:57:34.372833",
     "status": "completed"
    },
    "tags": [
     "injected-parameters"
    ]
   },
   "outputs": [],
   "source": [
    "# Parameters\n",
    "func_name = \"Log_uniform_prior\"\n",
    "positive_prior = True\n"
   ]
  },
  {
   "cell_type": "code",
   "execution_count": 4,
   "id": "13dfac78",
   "metadata": {
    "execution": {
     "iopub.execute_input": "2023-11-01T23:57:34.392595Z",
     "iopub.status.busy": "2023-11-01T23:57:34.391583Z",
     "iopub.status.idle": "2023-11-01T23:57:34.399353Z",
     "shell.execute_reply": "2023-11-01T23:57:34.398115Z"
    },
    "lines_to_next_cell": 0,
    "nbsphinx": "hidden",
    "papermill": {
     "duration": 0.015145,
     "end_time": "2023-11-01T23:57:34.403080",
     "exception": false,
     "start_time": "2023-11-01T23:57:34.387935",
     "status": "completed"
    },
    "tags": []
   },
   "outputs": [],
   "source": [
    "func = _known_functions[func_name]()\n",
    "\n",
    "if not positive_prior:\n",
    "\n",
    "\tenergy_grid = np.linspace(-5,5,1000)\n",
    "\n",
    "else:\n",
    "    \n",
    "    energy_grid = np.linspace(0,1,1000)\n",
    "    \n",
    "    \n",
    "    \n",
    "    \n",
    "blue = \"#4152E3\"\n",
    "red = \"#E3414B\"\n",
    "green = \"#41E39E\""
   ]
  },
  {
   "cell_type": "markdown",
   "id": "636a3bb2",
   "metadata": {
    "lines_to_next_cell": 0,
    "papermill": {
     "duration": 0.00249,
     "end_time": "2023-11-01T23:57:34.408016",
     "exception": false,
     "start_time": "2023-11-01T23:57:34.405526",
     "status": "completed"
    },
    "tags": []
   },
   "source": [
    "## Description"
   ]
  },
  {
   "cell_type": "code",
   "execution_count": 5,
   "id": "8282fc1c",
   "metadata": {
    "execution": {
     "iopub.execute_input": "2023-11-01T23:57:34.414513Z",
     "iopub.status.busy": "2023-11-01T23:57:34.414107Z",
     "iopub.status.idle": "2023-11-01T23:57:34.426243Z",
     "shell.execute_reply": "2023-11-01T23:57:34.424608Z"
    },
    "papermill": {
     "duration": 0.019835,
     "end_time": "2023-11-01T23:57:34.430082",
     "exception": false,
     "start_time": "2023-11-01T23:57:34.410247",
     "status": "completed"
    },
    "tags": []
   },
   "outputs": [
    {
     "data": {
      "text/html": [
       "<ul>\n",
       "\n",
       "<li>description: A function which is K/x on the interval lower_bound - upper_bound and 0 outside the interval. The extremes of the interval are NOT counted as part of the interval. Lower_bound must be >= 0.</li>\n",
       "\n",
       "<li>formula: $ f(x)=K~\\begin{cases}0 & x \\le \\text{lower_bound} \\\\\\frac{1}{x} & \\text{lower_bound} < x < \\text{upper_bound} \\\\ 0 & x \\ge \\text{upper_bound} \\end{cases}$</li>\n",
       "\n",
       "<li>parameters: \n",
       "<ul>\n",
       "\n",
       "<li>lower_bound: \n",
       "<ul>\n",
       "\n",
       "<li>value: 1e-20</li>\n",
       "\n",
       "<li>desc: Lower bound for the interval</li>\n",
       "\n",
       "<li>min_value: 1e-30</li>\n",
       "\n",
       "<li>max_value: inf</li>\n",
       "\n",
       "<li>unit: </li>\n",
       "\n",
       "<li>is_normalization: False</li>\n",
       "\n",
       "<li>delta: 1e-21</li>\n",
       "\n",
       "<li>free: True</li>\n",
       "\n",
       "</ul>\n",
       "\n",
       "</li>\n",
       "\n",
       "<li>upper_bound: \n",
       "<ul>\n",
       "\n",
       "<li>value: 100.0</li>\n",
       "\n",
       "<li>desc: Upper bound for the interval</li>\n",
       "\n",
       "<li>min_value: 1e-30</li>\n",
       "\n",
       "<li>max_value: inf</li>\n",
       "\n",
       "<li>unit: </li>\n",
       "\n",
       "<li>is_normalization: False</li>\n",
       "\n",
       "<li>delta: 10.0</li>\n",
       "\n",
       "<li>free: True</li>\n",
       "\n",
       "</ul>\n",
       "\n",
       "</li>\n",
       "\n",
       "<li>K: \n",
       "<ul>\n",
       "\n",
       "<li>value: 1.0</li>\n",
       "\n",
       "<li>desc: Normalization</li>\n",
       "\n",
       "<li>min_value: None</li>\n",
       "\n",
       "<li>max_value: None</li>\n",
       "\n",
       "<li>unit: </li>\n",
       "\n",
       "<li>is_normalization: False</li>\n",
       "\n",
       "<li>delta: 0.1</li>\n",
       "\n",
       "<li>free: False</li>\n",
       "\n",
       "</ul>\n",
       "\n",
       "</li>\n",
       "\n",
       "</ul>\n",
       "\n",
       "</li>\n",
       "\n",
       "</ul>\n"
      ],
      "text/plain": [
       "  * description: A function which is K/x on the interval lower_bound - upper_bound and\n",
       "    * 0 outside the interval. The extremes of the interval are NOT counted as part of\n",
       "    * the interval. Lower_bound must be >= 0.\n",
       "  * formula: $ f(x)=K~\\begin{cases}0 & x \\le \\text{lower_bound} \\\\\\frac{1}{x} & \\text{lower_bound}\n",
       "    * < x < \\text{upper_bound} \\\\ 0 & x \\ge \\text{upper_bound} \\end{cases}$\n",
       "  * parameters:\n",
       "    * lower_bound:\n",
       "      * value: 1.0e-20\n",
       "      * desc: Lower bound for the interval\n",
       "      * min_value: 1.0e-30\n",
       "      * max_value: .inf\n",
       "      * unit: ''\n",
       "      * is_normalization: false\n",
       "      * delta: 1.0e-21\n",
       "      * free: true\n",
       "    * upper_bound:\n",
       "      * value: 100.0\n",
       "      * desc: Upper bound for the interval\n",
       "      * min_value: 1.0e-30\n",
       "      * max_value: .inf\n",
       "      * unit: ''\n",
       "      * is_normalization: false\n",
       "      * delta: 10.0\n",
       "      * free: true\n",
       "    * K:\n",
       "      * value: 1.0\n",
       "      * desc: Normalization\n",
       "      * min_value: null\n",
       "      * max_value: null\n",
       "      * unit: ''\n",
       "      * is_normalization: false\n",
       "      * delta: 0.1\n",
       "      * free: false"
      ]
     },
     "metadata": {},
     "output_type": "display_data"
    }
   ],
   "source": [
    "func.display()"
   ]
  },
  {
   "cell_type": "markdown",
   "id": "4f29a876",
   "metadata": {
    "papermill": {
     "duration": 0.002672,
     "end_time": "2023-11-01T23:57:34.435501",
     "exception": false,
     "start_time": "2023-11-01T23:57:34.432829",
     "status": "completed"
    },
    "tags": []
   },
   "source": [
    "## Shape \n",
    "\n",
    "The shape of the function. \n",
    "\n",
    "*If this is not a photon model but a prior or linear function then ignore the units as these docs are auto-generated*"
   ]
  },
  {
   "cell_type": "code",
   "execution_count": 6,
   "id": "d90558f1",
   "metadata": {
    "execution": {
     "iopub.execute_input": "2023-11-01T23:57:34.442534Z",
     "iopub.status.busy": "2023-11-01T23:57:34.442185Z",
     "iopub.status.idle": "2023-11-01T23:57:34.646687Z",
     "shell.execute_reply": "2023-11-01T23:57:34.644719Z"
    },
    "papermill": {
     "duration": 0.212156,
     "end_time": "2023-11-01T23:57:34.650233",
     "exception": false,
     "start_time": "2023-11-01T23:57:34.438077",
     "status": "completed"
    },
    "tags": [
     "nbsphinx-thumbnail"
    ]
   },
   "outputs": [
    {
     "data": {
      "text/plain": [
       "Text(0, 0.5, 'probability')"
      ]
     },
     "execution_count": 6,
     "metadata": {},
     "output_type": "execute_result"
    },
    {
     "data": {
      "image/png": "[encoded data removed]",
      "text/plain": [
       "<Figure size 1040x910 with 1 Axes>"
      ]
     },
     "metadata": {},
     "output_type": "display_data"
    }
   ],
   "source": [
    "fig, ax = plt.subplots()\n",
    "\n",
    "\n",
    "ax.plot(energy_grid, func(energy_grid), color=blue, lw=3)\n",
    "\n",
    "ax.set_xlabel(\"x\")\n",
    "ax.set_ylabel(\"probability\")\n"
   ]
  },
  {
   "cell_type": "markdown",
   "id": "57349b52",
   "metadata": {
    "papermill": {
     "duration": 0.003339,
     "end_time": "2023-11-01T23:57:34.656841",
     "exception": false,
     "start_time": "2023-11-01T23:57:34.653502",
     "status": "completed"
    },
    "tags": []
   },
   "source": [
    "## Random Number Generation\n",
    "\n",
    "This is how we can generate random numbers from the prior.\n"
   ]
  },
  {
   "cell_type": "code",
   "execution_count": 7,
   "id": "82d6891e",
   "metadata": {
    "execution": {
     "iopub.execute_input": "2023-11-01T23:57:34.664805Z",
     "iopub.status.busy": "2023-11-01T23:57:34.664396Z",
     "iopub.status.idle": "2023-11-01T23:57:34.920323Z",
     "shell.execute_reply": "2023-11-01T23:57:34.918988Z"
    },
    "papermill": {
     "duration": 0.265457,
     "end_time": "2023-11-01T23:57:34.925222",
     "exception": false,
     "start_time": "2023-11-01T23:57:34.659765",
     "status": "completed"
    },
    "tags": []
   },
   "outputs": [
    {
     "data": {
      "text/plain": [
       "Text(0, 0.5, 'N')"
      ]
     },
     "execution_count": 7,
     "metadata": {},
     "output_type": "execute_result"
    },
    {
     "data": {
      "image/png": "[encoded data removed]",
      "text/plain": [
       "<Figure size 1040x910 with 1 Axes>"
      ]
     },
     "metadata": {},
     "output_type": "display_data"
    }
   ],
   "source": [
    "\n",
    "\n",
    "u = np.random.uniform(0,1, size=5000)\n",
    "\n",
    "draws = [func.from_unit_cube(x) for x in u]\n",
    "\n",
    "\n",
    "fig, ax = plt.subplots()\n",
    "\n",
    "\n",
    "ax.hist(draws, color=green, bins=50)\n",
    "\n",
    "ax.set_xlabel(\"value\")\n",
    "ax.set_ylabel(\"N\")\n",
    "\n"
   ]
  }
 ],
 "metadata": {
  "jupytext": {
   "formats": "ipynb,md"
  },
  "kernelspec": {
   "display_name": "Python 3 (ipykernel)",
   "language": "python",
   "name": "python3"
  },
  "language_info": {
   "codemirror_mode": {
    "name": "ipython",
    "version": 3
   },
   "file_extension": ".py",
   "mimetype": "text/x-python",
   "name": "python",
   "nbconvert_exporter": "python",
   "pygments_lexer": "ipython3",
   "version": "3.9.18"
  },
  "papermill": {
   "default_parameters": {},
   "duration": 4.813034,
   "end_time": "2023-11-01T23:57:35.461306",
   "environment_variables": {},
   "exception": null,
   "input_path": "Log_uniform_prior.ipynb",
   "output_path": "/Users/runner/work/astromodels/astromodels/docs/notebooks/Log_uniform_prior.ipynb",
   "parameters": {
    "func_name": "Log_uniform_prior",
    "positive_prior": true
   },
   "start_time": "2023-11-01T23:57:30.648272",
   "version": "2.5.0"
  }
 },
 "nbformat": 4,
 "nbformat_minor": 5
}
