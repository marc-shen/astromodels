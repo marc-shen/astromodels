{
 "cells": [
  {
   "cell_type": "markdown",
   "id": "628684d0",
   "metadata": {
    "papermill": {
     "duration": 0.005707,
     "end_time": "2024-09-10T13:53:29.897418",
     "exception": false,
     "start_time": "2024-09-10T13:53:29.891711",
     "status": "completed"
    },
    "tags": []
   },
   "source": [
    "# Log uniform prior"
   ]
  },
  {
   "cell_type": "code",
   "execution_count": 1,
   "id": "e591bb9e",
   "metadata": {
    "execution": {
     "iopub.execute_input": "2024-09-10T13:53:29.908032Z",
     "iopub.status.busy": "2024-09-10T13:53:29.907323Z",
     "iopub.status.idle": "2024-09-10T13:53:31.334295Z",
     "shell.execute_reply": "2024-09-10T13:53:31.333768Z"
    },
    "nbsphinx": "hidden",
    "papermill": {
     "duration": 1.434546,
     "end_time": "2024-09-10T13:53:31.335803",
     "exception": false,
     "start_time": "2024-09-10T13:53:29.901257",
     "status": "completed"
    },
    "tags": []
   },
   "outputs": [],
   "source": [
    "%%capture\n",
    "\n",
    "import numpy as np\n",
    "\n",
    "import matplotlib.pyplot as plt\n",
    "\n",
    "import warnings\n",
    "warnings.simplefilter(\"ignore\")\n",
    "\n",
    "from astromodels.functions.function import _known_functions\n",
    "\n",
    "\n",
    "from jupyterthemes import jtplot\n",
    "jtplot.style(context=\"talk\", fscale=1, ticks=True, grid=False)\n",
    "%matplotlib inline"
   ]
  },
  {
   "cell_type": "code",
   "execution_count": 2,
   "id": "2486a190",
   "metadata": {
    "execution": {
     "iopub.execute_input": "2024-09-10T13:53:31.338981Z",
     "iopub.status.busy": "2024-09-10T13:53:31.338656Z",
     "iopub.status.idle": "2024-09-10T13:53:31.347152Z",
     "shell.execute_reply": "2024-09-10T13:53:31.346754Z"
    },
    "nbsphinx": "hidden",
    "papermill": {
     "duration": 0.011383,
     "end_time": "2024-09-10T13:53:31.348476",
     "exception": false,
     "start_time": "2024-09-10T13:53:31.337093",
     "status": "completed"
    },
    "tags": [
     "parameters"
    ]
   },
   "outputs": [],
   "source": [
    "func_name = \"TbAbs\"\n",
    "\n",
    "positive_prior = False\n"
   ]
  },
  {
   "cell_type": "code",
   "execution_count": 3,
   "id": "019e8ef1",
   "metadata": {
    "execution": {
     "iopub.execute_input": "2024-09-10T13:53:31.351130Z",
     "iopub.status.busy": "2024-09-10T13:53:31.350985Z",
     "iopub.status.idle": "2024-09-10T13:53:31.358898Z",
     "shell.execute_reply": "2024-09-10T13:53:31.358540Z"
    },
    "papermill": {
     "duration": 0.010738,
     "end_time": "2024-09-10T13:53:31.360248",
     "exception": false,
     "start_time": "2024-09-10T13:53:31.349510",
     "status": "completed"
    },
    "tags": [
     "injected-parameters"
    ]
   },
   "outputs": [],
   "source": [
    "# Parameters\n",
    "func_name = \"Log_uniform_prior\"\n",
    "positive_prior = True\n"
   ]
  },
  {
   "cell_type": "code",
   "execution_count": 4,
   "id": "0ba89a0c",
   "metadata": {
    "execution": {
     "iopub.execute_input": "2024-09-10T13:53:31.363157Z",
     "iopub.status.busy": "2024-09-10T13:53:31.363004Z",
     "iopub.status.idle": "2024-09-10T13:53:31.365935Z",
     "shell.execute_reply": "2024-09-10T13:53:31.365569Z"
    },
    "lines_to_next_cell": 0,
    "nbsphinx": "hidden",
    "papermill": {
     "duration": 0.005804,
     "end_time": "2024-09-10T13:53:31.367206",
     "exception": false,
     "start_time": "2024-09-10T13:53:31.361402",
     "status": "completed"
    },
    "tags": []
   },
   "outputs": [],
   "source": [
    "func = _known_functions[func_name]()\n",
    "\n",
    "if not positive_prior:\n",
    "\n",
    "\tenergy_grid = np.linspace(-5,5,1000)\n",
    "\n",
    "else:\n",
    "    \n",
    "    energy_grid = np.linspace(0,1,1000)\n",
    "    \n",
    "    \n",
    "    \n",
    "    \n",
    "blue = \"#4152E3\"\n",
    "red = \"#E3414B\"\n",
    "green = \"#41E39E\""
   ]
  },
  {
   "cell_type": "markdown",
   "id": "44f88f21",
   "metadata": {
    "lines_to_next_cell": 0,
    "papermill": {
     "duration": 0.000996,
     "end_time": "2024-09-10T13:53:31.369252",
     "exception": false,
     "start_time": "2024-09-10T13:53:31.368256",
     "status": "completed"
    },
    "tags": []
   },
   "source": [
    "## Description"
   ]
  },
  {
   "cell_type": "code",
   "execution_count": 5,
   "id": "924b903d",
   "metadata": {
    "execution": {
     "iopub.execute_input": "2024-09-10T13:53:31.371752Z",
     "iopub.status.busy": "2024-09-10T13:53:31.371611Z",
     "iopub.status.idle": "2024-09-10T13:53:31.381905Z",
     "shell.execute_reply": "2024-09-10T13:53:31.381493Z"
    },
    "papermill": {
     "duration": 0.012957,
     "end_time": "2024-09-10T13:53:31.383120",
     "exception": false,
     "start_time": "2024-09-10T13:53:31.370163",
     "status": "completed"
    },
    "tags": []
   },
   "outputs": [
    {
     "data": {
      "text/html": [
       "<ul>\n",
       "\n",
       "<li>description: A function which is K/x on the interval lower_bound - upper_bound and 0 outside the interval. The extremes of the interval are NOT counted as part of the interval. Lower_bound must be >= 0.</li>\n",
       "\n",
       "<li>formula: $ f(x)=K~\\begin{cases}0 & x \\le \\text{lower_bound} \\\\\\frac{1}{x} & \\text{lower_bound} < x < \\text{upper_bound} \\\\ 0 & x \\ge \\text{upper_bound} \\end{cases}$</li>\n",
       "\n",
       "<li>parameters: \n",
       "<ul>\n",
       "\n",
       "<li>lower_bound: \n",
       "<ul>\n",
       "\n",
       "<li>value: 1e-20</li>\n",
       "\n",
       "<li>desc: Lower bound for the interval</li>\n",
       "\n",
       "<li>min_value: 1e-30</li>\n",
       "\n",
       "<li>max_value: inf</li>\n",
       "\n",
       "<li>unit: </li>\n",
       "\n",
       "<li>is_normalization: False</li>\n",
       "\n",
       "<li>delta: 1e-21</li>\n",
       "\n",
       "<li>free: True</li>\n",
       "\n",
       "</ul>\n",
       "\n",
       "</li>\n",
       "\n",
       "<li>upper_bound: \n",
       "<ul>\n",
       "\n",
       "<li>value: 100.0</li>\n",
       "\n",
       "<li>desc: Upper bound for the interval</li>\n",
       "\n",
       "<li>min_value: 1e-30</li>\n",
       "\n",
       "<li>max_value: inf</li>\n",
       "\n",
       "<li>unit: </li>\n",
       "\n",
       "<li>is_normalization: False</li>\n",
       "\n",
       "<li>delta: 10.0</li>\n",
       "\n",
       "<li>free: True</li>\n",
       "\n",
       "</ul>\n",
       "\n",
       "</li>\n",
       "\n",
       "<li>K: \n",
       "<ul>\n",
       "\n",
       "<li>value: 1.0</li>\n",
       "\n",
       "<li>desc: Normalization</li>\n",
       "\n",
       "<li>min_value: None</li>\n",
       "\n",
       "<li>max_value: None</li>\n",
       "\n",
       "<li>unit: </li>\n",
       "\n",
       "<li>is_normalization: False</li>\n",
       "\n",
       "<li>delta: 0.1</li>\n",
       "\n",
       "<li>free: False</li>\n",
       "\n",
       "</ul>\n",
       "\n",
       "</li>\n",
       "\n",
       "</ul>\n",
       "\n",
       "</li>\n",
       "\n",
       "</ul>\n"
      ],
      "text/plain": [
       "  * description: A function which is K/x on the interval lower_bound - upper_bound and\n",
       "    * 0 outside the interval. The extremes of the interval are NOT counted as part of\n",
       "    * the interval. Lower_bound must be >= 0.\n",
       "  * formula: $ f(x)=K~\\begin{cases}0 & x \\le \\text{lower_bound} \\\\\\frac{1}{x} & \\text{lower_bound}\n",
       "    * < x < \\text{upper_bound} \\\\ 0 & x \\ge \\text{upper_bound} \\end{cases}$\n",
       "  * parameters:\n",
       "    * lower_bound:\n",
       "      * value: 1.0e-20\n",
       "      * desc: Lower bound for the interval\n",
       "      * min_value: 1.0e-30\n",
       "      * max_value: .inf\n",
       "      * unit: ''\n",
       "      * is_normalization: false\n",
       "      * delta: 1.0e-21\n",
       "      * free: true\n",
       "    * upper_bound:\n",
       "      * value: 100.0\n",
       "      * desc: Upper bound for the interval\n",
       "      * min_value: 1.0e-30\n",
       "      * max_value: .inf\n",
       "      * unit: ''\n",
       "      * is_normalization: false\n",
       "      * delta: 10.0\n",
       "      * free: true\n",
       "    * K:\n",
       "      * value: 1.0\n",
       "      * desc: Normalization\n",
       "      * min_value: null\n",
       "      * max_value: null\n",
       "      * unit: ''\n",
       "      * is_normalization: false\n",
       "      * delta: 0.1\n",
       "      * free: false"
      ]
     },
     "metadata": {},
     "output_type": "display_data"
    }
   ],
   "source": [
    "func.display()"
   ]
  },
  {
   "cell_type": "markdown",
   "id": "1e15923a",
   "metadata": {
    "papermill": {
     "duration": 0.001125,
     "end_time": "2024-09-10T13:53:31.385437",
     "exception": false,
     "start_time": "2024-09-10T13:53:31.384312",
     "status": "completed"
    },
    "tags": []
   },
   "source": [
    "## Shape \n",
    "\n",
    "The shape of the function. \n",
    "\n",
    "*If this is not a photon model but a prior or linear function then ignore the units as these docs are auto-generated*"
   ]
  },
  {
   "cell_type": "code",
   "execution_count": 6,
   "id": "e218b775",
   "metadata": {
    "execution": {
     "iopub.execute_input": "2024-09-10T13:53:31.388324Z",
     "iopub.status.busy": "2024-09-10T13:53:31.388177Z",
     "iopub.status.idle": "2024-09-10T13:53:31.483158Z",
     "shell.execute_reply": "2024-09-10T13:53:31.482769Z"
    },
    "papermill": {
     "duration": 0.097871,
     "end_time": "2024-09-10T13:53:31.484448",
     "exception": false,
     "start_time": "2024-09-10T13:53:31.386577",
     "status": "completed"
    },
    "tags": [
     "nbsphinx-thumbnail"
    ]
   },
   "outputs": [
    {
     "data": {
      "text/plain": [
       "Text(0, 0.5, 'probability')"
      ]
     },
     "execution_count": 6,
     "metadata": {},
     "output_type": "execute_result"
    },
    {
     "data": {
      "image/png": "[encoded data removed]",
      "text/plain": [
       "<Figure size 1040x910 with 1 Axes>"
      ]
     },
     "metadata": {},
     "output_type": "display_data"
    }
   ],
   "source": [
    "fig, ax = plt.subplots()\n",
    "\n",
    "\n",
    "ax.plot(energy_grid, func(energy_grid), color=blue, lw=3)\n",
    "\n",
    "ax.set_xlabel(\"x\")\n",
    "ax.set_ylabel(\"probability\")\n"
   ]
  },
  {
   "cell_type": "markdown",
   "id": "e78aefb8",
   "metadata": {
    "papermill": {
     "duration": 0.001339,
     "end_time": "2024-09-10T13:53:31.487402",
     "exception": false,
     "start_time": "2024-09-10T13:53:31.486063",
     "status": "completed"
    },
    "tags": []
   },
   "source": [
    "## Random Number Generation\n",
    "\n",
    "This is how we can generate random numbers from the prior.\n"
   ]
  },
  {
   "cell_type": "code",
   "execution_count": 7,
   "id": "e382e425",
   "metadata": {
    "execution": {
     "iopub.execute_input": "2024-09-10T13:53:31.490718Z",
     "iopub.status.busy": "2024-09-10T13:53:31.490545Z",
     "iopub.status.idle": "2024-09-10T13:53:31.598743Z",
     "shell.execute_reply": "2024-09-10T13:53:31.598408Z"
    },
    "papermill": {
     "duration": 0.111514,
     "end_time": "2024-09-10T13:53:31.600213",
     "exception": false,
     "start_time": "2024-09-10T13:53:31.488699",
     "status": "completed"
    },
    "tags": []
   },
   "outputs": [
    {
     "data": {
      "text/plain": [
       "Text(0, 0.5, 'N')"
      ]
     },
     "execution_count": 7,
     "metadata": {},
     "output_type": "execute_result"
    },
    {
     "data": {
      "image/png": "[encoded data removed]",
      "text/plain": [
       "<Figure size 1040x910 with 1 Axes>"
      ]
     },
     "metadata": {},
     "output_type": "display_data"
    }
   ],
   "source": [
    "\n",
    "\n",
    "u = np.random.uniform(0,1, size=5000)\n",
    "\n",
    "draws = [func.from_unit_cube(x) for x in u]\n",
    "\n",
    "\n",
    "fig, ax = plt.subplots()\n",
    "\n",
    "\n",
    "ax.hist(draws, color=green, bins=50)\n",
    "\n",
    "ax.set_xlabel(\"value\")\n",
    "ax.set_ylabel(\"N\")\n",
    "\n"
   ]
  }
 ],
 "metadata": {
  "jupytext": {
   "formats": "ipynb,md"
  },
  "kernelspec": {
   "display_name": "Python 3 (ipykernel)",
   "language": "python",
   "name": "python3"
  },
  "language_info": {
   "codemirror_mode": {
    "name": "ipython",
    "version": 3
   },
   "file_extension": ".py",
   "mimetype": "text/x-python",
   "name": "python",
   "nbconvert_exporter": "python",
   "pygments_lexer": "ipython3",
   "version": "3.9.13"
  },
  "papermill": {
   "default_parameters": {},
   "duration": 2.495924,
   "end_time": "2024-09-10T13:53:31.929220",
   "environment_variables": {},
   "exception": null,
   "input_path": "Log_uniform_prior.ipynb",
   "output_path": "/Users/runner/work/astromodels/astromodels/docs/notebooks/Log_uniform_prior.ipynb",
   "parameters": {
    "func_name": "Log_uniform_prior",
    "positive_prior": true
   },
   "start_time": "2024-09-10T13:53:29.433296",
   "version": "2.6.0"
  }
 },
 "nbformat": 4,
 "nbformat_minor": 5
}
