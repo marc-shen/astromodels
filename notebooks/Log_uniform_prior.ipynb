{
 "cells": [
  {
   "cell_type": "markdown",
   "id": "3de97c23",
   "metadata": {
    "papermill": {
     "duration": 0.004215,
     "end_time": "2023-11-01T20:30:12.282223",
     "exception": false,
     "start_time": "2023-11-01T20:30:12.278008",
     "status": "completed"
    },
    "tags": []
   },
   "source": [
    "# Log uniform prior"
   ]
  },
  {
   "cell_type": "code",
   "execution_count": 1,
   "id": "cbe6f1fd",
   "metadata": {
    "execution": {
     "iopub.execute_input": "2023-11-01T20:30:12.292186Z",
     "iopub.status.busy": "2023-11-01T20:30:12.291577Z",
     "iopub.status.idle": "2023-11-01T20:30:15.631196Z",
     "shell.execute_reply": "2023-11-01T20:30:15.629005Z"
    },
    "nbsphinx": "hidden",
    "papermill": {
     "duration": 3.350176,
     "end_time": "2023-11-01T20:30:15.636295",
     "exception": false,
     "start_time": "2023-11-01T20:30:12.286119",
     "status": "completed"
    },
    "tags": []
   },
   "outputs": [],
   "source": [
    "%%capture\n",
    "\n",
    "import numpy as np\n",
    "\n",
    "import matplotlib.pyplot as plt\n",
    "\n",
    "import warnings\n",
    "warnings.simplefilter(\"ignore\")\n",
    "\n",
    "from astromodels.functions.function import _known_functions\n",
    "\n",
    "\n",
    "from jupyterthemes import jtplot\n",
    "jtplot.style(context=\"talk\", fscale=1, ticks=True, grid=False)\n",
    "%matplotlib inline"
   ]
  },
  {
   "cell_type": "code",
   "execution_count": 2,
   "id": "bc14c514",
   "metadata": {
    "execution": {
     "iopub.execute_input": "2023-11-01T20:30:15.644992Z",
     "iopub.status.busy": "2023-11-01T20:30:15.644511Z",
     "iopub.status.idle": "2023-11-01T20:30:15.651054Z",
     "shell.execute_reply": "2023-11-01T20:30:15.649596Z"
    },
    "nbsphinx": "hidden",
    "papermill": {
     "duration": 0.016627,
     "end_time": "2023-11-01T20:30:15.656328",
     "exception": false,
     "start_time": "2023-11-01T20:30:15.639701",
     "status": "completed"
    },
    "tags": [
     "parameters"
    ]
   },
   "outputs": [],
   "source": [
    "func_name = \"TbAbs\"\n",
    "\n",
    "positive_prior = False\n"
   ]
  },
  {
   "cell_type": "code",
   "execution_count": 3,
   "id": "301c2522",
   "metadata": {
    "execution": {
     "iopub.execute_input": "2023-11-01T20:30:15.664931Z",
     "iopub.status.busy": "2023-11-01T20:30:15.664516Z",
     "iopub.status.idle": "2023-11-01T20:30:15.671829Z",
     "shell.execute_reply": "2023-11-01T20:30:15.670099Z"
    },
    "papermill": {
     "duration": 0.017988,
     "end_time": "2023-11-01T20:30:15.677666",
     "exception": false,
     "start_time": "2023-11-01T20:30:15.659678",
     "status": "completed"
    },
    "tags": [
     "injected-parameters"
    ]
   },
   "outputs": [],
   "source": [
    "# Parameters\n",
    "func_name = \"Log_uniform_prior\"\n",
    "positive_prior = True\n"
   ]
  },
  {
   "cell_type": "code",
   "execution_count": 4,
   "id": "8a7a8cf6",
   "metadata": {
    "execution": {
     "iopub.execute_input": "2023-11-01T20:30:15.686900Z",
     "iopub.status.busy": "2023-11-01T20:30:15.686469Z",
     "iopub.status.idle": "2023-11-01T20:30:15.696511Z",
     "shell.execute_reply": "2023-11-01T20:30:15.694826Z"
    },
    "lines_to_next_cell": 0,
    "nbsphinx": "hidden",
    "papermill": {
     "duration": 0.020679,
     "end_time": "2023-11-01T20:30:15.701931",
     "exception": false,
     "start_time": "2023-11-01T20:30:15.681252",
     "status": "completed"
    },
    "tags": []
   },
   "outputs": [],
   "source": [
    "func = _known_functions[func_name]()\n",
    "\n",
    "if not positive_prior:\n",
    "\n",
    "\tenergy_grid = np.linspace(-5,5,1000)\n",
    "\n",
    "else:\n",
    "    \n",
    "    energy_grid = np.linspace(0,1,1000)\n",
    "    \n",
    "    \n",
    "    \n",
    "    \n",
    "blue = \"#4152E3\"\n",
    "red = \"#E3414B\"\n",
    "green = \"#41E39E\""
   ]
  },
  {
   "cell_type": "markdown",
   "id": "409f72e8",
   "metadata": {
    "lines_to_next_cell": 0,
    "papermill": {
     "duration": 0.003874,
     "end_time": "2023-11-01T20:30:15.709314",
     "exception": false,
     "start_time": "2023-11-01T20:30:15.705440",
     "status": "completed"
    },
    "tags": []
   },
   "source": [
    "## Description"
   ]
  },
  {
   "cell_type": "code",
   "execution_count": 5,
   "id": "d455aefd",
   "metadata": {
    "execution": {
     "iopub.execute_input": "2023-11-01T20:30:15.718314Z",
     "iopub.status.busy": "2023-11-01T20:30:15.717792Z",
     "iopub.status.idle": "2023-11-01T20:30:15.734745Z",
     "shell.execute_reply": "2023-11-01T20:30:15.732355Z"
    },
    "papermill": {
     "duration": 0.027027,
     "end_time": "2023-11-01T20:30:15.739643",
     "exception": false,
     "start_time": "2023-11-01T20:30:15.712616",
     "status": "completed"
    },
    "tags": []
   },
   "outputs": [
    {
     "data": {
      "text/html": [
       "<ul>\n",
       "\n",
       "<li>description: A function which is K/x on the interval lower_bound - upper_bound and 0 outside the interval. The extremes of the interval are NOT counted as part of the interval. Lower_bound must be >= 0.</li>\n",
       "\n",
       "<li>formula: $ f(x)=K~\\begin{cases}0 & x \\le \\text{lower_bound} \\\\\\frac{1}{x} & \\text{lower_bound} < x < \\text{upper_bound} \\\\ 0 & x \\ge \\text{upper_bound} \\end{cases}$</li>\n",
       "\n",
       "<li>parameters: \n",
       "<ul>\n",
       "\n",
       "<li>lower_bound: \n",
       "<ul>\n",
       "\n",
       "<li>value: 1e-20</li>\n",
       "\n",
       "<li>desc: Lower bound for the interval</li>\n",
       "\n",
       "<li>min_value: 1e-30</li>\n",
       "\n",
       "<li>max_value: inf</li>\n",
       "\n",
       "<li>unit: </li>\n",
       "\n",
       "<li>is_normalization: False</li>\n",
       "\n",
       "<li>delta: 1e-21</li>\n",
       "\n",
       "<li>free: True</li>\n",
       "\n",
       "</ul>\n",
       "\n",
       "</li>\n",
       "\n",
       "<li>upper_bound: \n",
       "<ul>\n",
       "\n",
       "<li>value: 100.0</li>\n",
       "\n",
       "<li>desc: Upper bound for the interval</li>\n",
       "\n",
       "<li>min_value: 1e-30</li>\n",
       "\n",
       "<li>max_value: inf</li>\n",
       "\n",
       "<li>unit: </li>\n",
       "\n",
       "<li>is_normalization: False</li>\n",
       "\n",
       "<li>delta: 10.0</li>\n",
       "\n",
       "<li>free: True</li>\n",
       "\n",
       "</ul>\n",
       "\n",
       "</li>\n",
       "\n",
       "<li>K: \n",
       "<ul>\n",
       "\n",
       "<li>value: 1.0</li>\n",
       "\n",
       "<li>desc: Normalization</li>\n",
       "\n",
       "<li>min_value: None</li>\n",
       "\n",
       "<li>max_value: None</li>\n",
       "\n",
       "<li>unit: </li>\n",
       "\n",
       "<li>is_normalization: False</li>\n",
       "\n",
       "<li>delta: 0.1</li>\n",
       "\n",
       "<li>free: False</li>\n",
       "\n",
       "</ul>\n",
       "\n",
       "</li>\n",
       "\n",
       "</ul>\n",
       "\n",
       "</li>\n",
       "\n",
       "</ul>\n"
      ],
      "text/plain": [
       "  * description: A function which is K/x on the interval lower_bound - upper_bound and\n",
       "    * 0 outside the interval. The extremes of the interval are NOT counted as part of\n",
       "    * the interval. Lower_bound must be >= 0.\n",
       "  * formula: $ f(x)=K~\\begin{cases}0 & x \\le \\text{lower_bound} \\\\\\frac{1}{x} & \\text{lower_bound}\n",
       "    * < x < \\text{upper_bound} \\\\ 0 & x \\ge \\text{upper_bound} \\end{cases}$\n",
       "  * parameters:\n",
       "    * lower_bound:\n",
       "      * value: 1.0e-20\n",
       "      * desc: Lower bound for the interval\n",
       "      * min_value: 1.0e-30\n",
       "      * max_value: .inf\n",
       "      * unit: ''\n",
       "      * is_normalization: false\n",
       "      * delta: 1.0e-21\n",
       "      * free: true\n",
       "    * upper_bound:\n",
       "      * value: 100.0\n",
       "      * desc: Upper bound for the interval\n",
       "      * min_value: 1.0e-30\n",
       "      * max_value: .inf\n",
       "      * unit: ''\n",
       "      * is_normalization: false\n",
       "      * delta: 10.0\n",
       "      * free: true\n",
       "    * K:\n",
       "      * value: 1.0\n",
       "      * desc: Normalization\n",
       "      * min_value: null\n",
       "      * max_value: null\n",
       "      * unit: ''\n",
       "      * is_normalization: false\n",
       "      * delta: 0.1\n",
       "      * free: false"
      ]
     },
     "metadata": {},
     "output_type": "display_data"
    }
   ],
   "source": [
    "func.display()"
   ]
  },
  {
   "cell_type": "markdown",
   "id": "6ac3d34c",
   "metadata": {
    "papermill": {
     "duration": 0.003796,
     "end_time": "2023-11-01T20:30:15.747403",
     "exception": false,
     "start_time": "2023-11-01T20:30:15.743607",
     "status": "completed"
    },
    "tags": []
   },
   "source": [
    "## Shape \n",
    "\n",
    "The shape of the function. \n",
    "\n",
    "*If this is not a photon model but a prior or linear function then ignore the units as these docs are auto-generated*"
   ]
  },
  {
   "cell_type": "code",
   "execution_count": 6,
   "id": "5035e2a5",
   "metadata": {
    "execution": {
     "iopub.execute_input": "2023-11-01T20:30:15.757035Z",
     "iopub.status.busy": "2023-11-01T20:30:15.756568Z",
     "iopub.status.idle": "2023-11-01T20:30:16.114388Z",
     "shell.execute_reply": "2023-11-01T20:30:16.112354Z"
    },
    "papermill": {
     "duration": 0.370305,
     "end_time": "2023-11-01T20:30:16.121203",
     "exception": false,
     "start_time": "2023-11-01T20:30:15.750898",
     "status": "completed"
    },
    "tags": [
     "nbsphinx-thumbnail"
    ]
   },
   "outputs": [
    {
     "data": {
      "text/plain": [
       "Text(0, 0.5, 'probability')"
      ]
     },
     "execution_count": 6,
     "metadata": {},
     "output_type": "execute_result"
    },
    {
     "data": {
      "image/png": "[encoded data removed]",
      "text/plain": [
       "<Figure size 1040x910 with 1 Axes>"
      ]
     },
     "metadata": {},
     "output_type": "display_data"
    }
   ],
   "source": [
    "fig, ax = plt.subplots()\n",
    "\n",
    "\n",
    "ax.plot(energy_grid, func(energy_grid), color=blue, lw=3)\n",
    "\n",
    "ax.set_xlabel(\"x\")\n",
    "ax.set_ylabel(\"probability\")\n"
   ]
  },
  {
   "cell_type": "markdown",
   "id": "5b69b7b2",
   "metadata": {
    "papermill": {
     "duration": 0.007602,
     "end_time": "2023-11-01T20:30:16.137629",
     "exception": false,
     "start_time": "2023-11-01T20:30:16.130027",
     "status": "completed"
    },
    "tags": []
   },
   "source": [
    "## Random Number Generation\n",
    "\n",
    "This is how we can generate random numbers from the prior.\n"
   ]
  },
  {
   "cell_type": "code",
   "execution_count": 7,
   "id": "dff5a4f5",
   "metadata": {
    "execution": {
     "iopub.execute_input": "2023-11-01T20:30:16.153317Z",
     "iopub.status.busy": "2023-11-01T20:30:16.152546Z",
     "iopub.status.idle": "2023-11-01T20:30:16.593509Z",
     "shell.execute_reply": "2023-11-01T20:30:16.591474Z"
    },
    "papermill": {
     "duration": 0.456099,
     "end_time": "2023-11-01T20:30:16.600147",
     "exception": false,
     "start_time": "2023-11-01T20:30:16.144048",
     "status": "completed"
    },
    "tags": []
   },
   "outputs": [
    {
     "data": {
      "text/plain": [
       "Text(0, 0.5, 'N')"
      ]
     },
     "execution_count": 7,
     "metadata": {},
     "output_type": "execute_result"
    },
    {
     "data": {
      "image/png": "[encoded data removed]",
      "text/plain": [
       "<Figure size 1040x910 with 1 Axes>"
      ]
     },
     "metadata": {},
     "output_type": "display_data"
    }
   ],
   "source": [
    "\n",
    "\n",
    "u = np.random.uniform(0,1, size=5000)\n",
    "\n",
    "draws = [func.from_unit_cube(x) for x in u]\n",
    "\n",
    "\n",
    "fig, ax = plt.subplots()\n",
    "\n",
    "\n",
    "ax.hist(draws, color=green, bins=50)\n",
    "\n",
    "ax.set_xlabel(\"value\")\n",
    "ax.set_ylabel(\"N\")\n",
    "\n"
   ]
  }
 ],
 "metadata": {
  "jupytext": {
   "formats": "ipynb,md"
  },
  "kernelspec": {
   "display_name": "Python 3 (ipykernel)",
   "language": "python",
   "name": "python3"
  },
  "language_info": {
   "codemirror_mode": {
    "name": "ipython",
    "version": 3
   },
   "file_extension": ".py",
   "mimetype": "text/x-python",
   "name": "python",
   "nbconvert_exporter": "python",
   "pygments_lexer": "ipython3",
   "version": "3.9.18"
  },
  "papermill": {
   "default_parameters": {},
   "duration": 6.120138,
   "end_time": "2023-11-01T20:30:17.240467",
   "environment_variables": {},
   "exception": null,
   "input_path": "Log_uniform_prior.ipynb",
   "output_path": "/Users/runner/work/astromodels/astromodels/docs/notebooks/Log_uniform_prior.ipynb",
   "parameters": {
    "func_name": "Log_uniform_prior",
    "positive_prior": true
   },
   "start_time": "2023-11-01T20:30:11.120329",
   "version": "2.4.0"
  }
 },
 "nbformat": 4,
 "nbformat_minor": 5
}
