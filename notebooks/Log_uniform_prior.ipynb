{
 "cells": [
  {
   "cell_type": "markdown",
   "id": "1534d819",
   "metadata": {
    "papermill": {
     "duration": 0.004622,
     "end_time": "2022-09-27T14:41:35.536540",
     "exception": false,
     "start_time": "2022-09-27T14:41:35.531918",
     "status": "completed"
    },
    "tags": []
   },
   "source": [
    "# Log uniform prior"
   ]
  },
  {
   "cell_type": "code",
   "execution_count": 1,
   "id": "83cd700a",
   "metadata": {
    "execution": {
     "iopub.execute_input": "2022-09-27T14:41:35.546116Z",
     "iopub.status.busy": "2022-09-27T14:41:35.545518Z",
     "iopub.status.idle": "2022-09-27T14:41:39.893277Z",
     "shell.execute_reply": "2022-09-27T14:41:39.892120Z"
    },
    "nbsphinx": "hidden",
    "papermill": {
     "duration": 4.356764,
     "end_time": "2022-09-27T14:41:39.897031",
     "exception": false,
     "start_time": "2022-09-27T14:41:35.540267",
     "status": "completed"
    },
    "tags": []
   },
   "outputs": [],
   "source": [
    "%%capture\n",
    "\n",
    "import numpy as np\n",
    "\n",
    "import matplotlib.pyplot as plt\n",
    "\n",
    "import warnings\n",
    "warnings.simplefilter(\"ignore\")\n",
    "\n",
    "from astromodels.functions.function import _known_functions\n",
    "\n",
    "\n",
    "from jupyterthemes import jtplot\n",
    "jtplot.style(context=\"talk\", fscale=1, ticks=True, grid=False)\n",
    "%matplotlib inline"
   ]
  },
  {
   "cell_type": "code",
   "execution_count": 2,
   "id": "8cb8bef2",
   "metadata": {
    "execution": {
     "iopub.execute_input": "2022-09-27T14:41:39.905537Z",
     "iopub.status.busy": "2022-09-27T14:41:39.905123Z",
     "iopub.status.idle": "2022-09-27T14:41:39.911256Z",
     "shell.execute_reply": "2022-09-27T14:41:39.910162Z"
    },
    "nbsphinx": "hidden",
    "papermill": {
     "duration": 0.013956,
     "end_time": "2022-09-27T14:41:39.914577",
     "exception": false,
     "start_time": "2022-09-27T14:41:39.900621",
     "status": "completed"
    },
    "tags": [
     "parameters"
    ]
   },
   "outputs": [],
   "source": [
    "func_name = \"TbAbs\"\n",
    "\n",
    "positive_prior = False\n"
   ]
  },
  {
   "cell_type": "code",
   "execution_count": 3,
   "id": "20ad1a69",
   "metadata": {
    "execution": {
     "iopub.execute_input": "2022-09-27T14:41:39.922658Z",
     "iopub.status.busy": "2022-09-27T14:41:39.922252Z",
     "iopub.status.idle": "2022-09-27T14:41:39.930634Z",
     "shell.execute_reply": "2022-09-27T14:41:39.929523Z"
    },
    "papermill": {
     "duration": 0.016227,
     "end_time": "2022-09-27T14:41:39.933979",
     "exception": false,
     "start_time": "2022-09-27T14:41:39.917752",
     "status": "completed"
    },
    "tags": [
     "injected-parameters"
    ]
   },
   "outputs": [],
   "source": [
    "# Parameters\n",
    "func_name = \"Log_uniform_prior\"\n",
    "positive_prior = False\n"
   ]
  },
  {
   "cell_type": "code",
   "execution_count": 4,
   "id": "404b7f26",
   "metadata": {
    "execution": {
     "iopub.execute_input": "2022-09-27T14:41:39.942129Z",
     "iopub.status.busy": "2022-09-27T14:41:39.941716Z",
     "iopub.status.idle": "2022-09-27T14:41:39.953272Z",
     "shell.execute_reply": "2022-09-27T14:41:39.952060Z"
    },
    "lines_to_next_cell": 0,
    "nbsphinx": "hidden",
    "papermill": {
     "duration": 0.019386,
     "end_time": "2022-09-27T14:41:39.956592",
     "exception": false,
     "start_time": "2022-09-27T14:41:39.937206",
     "status": "completed"
    },
    "tags": []
   },
   "outputs": [],
   "source": [
    "func = _known_functions[func_name]()\n",
    "\n",
    "if not positive_prior:\n",
    "\n",
    "\tenergy_grid = np.linspace(-5,5,1000)\n",
    "\n",
    "else:\n",
    "    \n",
    "    energy_grid = np.linspace(0,1,1000)\n",
    "    \n",
    "    \n",
    "    \n",
    "    \n",
    "blue = \"#4152E3\"\n",
    "red = \"#E3414B\"\n",
    "green = \"#41E39E\""
   ]
  },
  {
   "cell_type": "markdown",
   "id": "d9a2e402",
   "metadata": {
    "lines_to_next_cell": 0,
    "papermill": {
     "duration": 0.003353,
     "end_time": "2022-09-27T14:41:39.964271",
     "exception": false,
     "start_time": "2022-09-27T14:41:39.960918",
     "status": "completed"
    },
    "tags": []
   },
   "source": [
    "## Description"
   ]
  },
  {
   "cell_type": "code",
   "execution_count": 5,
   "id": "20e81e14",
   "metadata": {
    "execution": {
     "iopub.execute_input": "2022-09-27T14:41:39.972639Z",
     "iopub.status.busy": "2022-09-27T14:41:39.972189Z",
     "iopub.status.idle": "2022-09-27T14:41:39.984490Z",
     "shell.execute_reply": "2022-09-27T14:41:39.983364Z"
    },
    "papermill": {
     "duration": 0.020468,
     "end_time": "2022-09-27T14:41:39.987948",
     "exception": false,
     "start_time": "2022-09-27T14:41:39.967480",
     "status": "completed"
    },
    "tags": []
   },
   "outputs": [
    {
     "data": {
      "text/html": [
       "<ul>\n",
       "\n",
       "<li>description: A function which is K/x on the interval lower_bound - upper_bound and 0 outside the interval. The extremes of the interval are NOT counted as part of the interval. Lower_bound must be >= 0.</li>\n",
       "\n",
       "<li>formula: $ f(x)=K~\\begin{cases}0 & x \\le \\text{lower_bound} \\\\\\frac{1}{x} & \\text{lower_bound} < x < \\text{upper_bound} \\\\ 0 & x \\ge \\text{upper_bound} \\end{cases}$</li>\n",
       "\n",
       "<li>parameters: \n",
       "<ul>\n",
       "\n",
       "<li>lower_bound: \n",
       "<ul>\n",
       "\n",
       "<li>value: 1e-20</li>\n",
       "\n",
       "<li>desc: Lower bound for the interval</li>\n",
       "\n",
       "<li>min_value: 1e-30</li>\n",
       "\n",
       "<li>max_value: inf</li>\n",
       "\n",
       "<li>unit: </li>\n",
       "\n",
       "<li>is_normalization: False</li>\n",
       "\n",
       "<li>delta: 1e-21</li>\n",
       "\n",
       "<li>free: True</li>\n",
       "\n",
       "</ul>\n",
       "\n",
       "</li>\n",
       "\n",
       "<li>upper_bound: \n",
       "<ul>\n",
       "\n",
       "<li>value: 100.0</li>\n",
       "\n",
       "<li>desc: Upper bound for the interval</li>\n",
       "\n",
       "<li>min_value: 1e-30</li>\n",
       "\n",
       "<li>max_value: inf</li>\n",
       "\n",
       "<li>unit: </li>\n",
       "\n",
       "<li>is_normalization: False</li>\n",
       "\n",
       "<li>delta: 10.0</li>\n",
       "\n",
       "<li>free: True</li>\n",
       "\n",
       "</ul>\n",
       "\n",
       "</li>\n",
       "\n",
       "<li>K: \n",
       "<ul>\n",
       "\n",
       "<li>value: 1.0</li>\n",
       "\n",
       "<li>desc: Normalization</li>\n",
       "\n",
       "<li>min_value: None</li>\n",
       "\n",
       "<li>max_value: None</li>\n",
       "\n",
       "<li>unit: </li>\n",
       "\n",
       "<li>is_normalization: False</li>\n",
       "\n",
       "<li>delta: 0.1</li>\n",
       "\n",
       "<li>free: False</li>\n",
       "\n",
       "</ul>\n",
       "\n",
       "</li>\n",
       "\n",
       "</ul>\n",
       "\n",
       "</li>\n",
       "\n",
       "</ul>\n"
      ],
      "text/plain": [
       "  * description: A function which is K/x on the interval lower_bound - upper_bound and\n",
       "    * 0 outside the interval. The extremes of the interval are NOT counted as part of\n",
       "    * the interval. Lower_bound must be >= 0.\n",
       "  * formula: $ f(x)=K~\\begin{cases}0 & x \\le \\text{lower_bound} \\\\\\frac{1}{x} & \\text{lower_bound}\n",
       "    * < x < \\text{upper_bound} \\\\ 0 & x \\ge \\text{upper_bound} \\end{cases}$\n",
       "  * parameters:\n",
       "    * lower_bound:\n",
       "      * value: 1.0e-20\n",
       "      * desc: Lower bound for the interval\n",
       "      * min_value: 1.0e-30\n",
       "      * max_value: .inf\n",
       "      * unit: ''\n",
       "      * is_normalization: false\n",
       "      * delta: 1.0e-21\n",
       "      * free: true\n",
       "    * upper_bound:\n",
       "      * value: 100.0\n",
       "      * desc: Upper bound for the interval\n",
       "      * min_value: 1.0e-30\n",
       "      * max_value: .inf\n",
       "      * unit: ''\n",
       "      * is_normalization: false\n",
       "      * delta: 10.0\n",
       "      * free: true\n",
       "    * K:\n",
       "      * value: 1.0\n",
       "      * desc: Normalization\n",
       "      * min_value: null\n",
       "      * max_value: null\n",
       "      * unit: ''\n",
       "      * is_normalization: false\n",
       "      * delta: 0.1\n",
       "      * free: false"
      ]
     },
     "metadata": {},
     "output_type": "display_data"
    }
   ],
   "source": [
    "func.display()"
   ]
  },
  {
   "cell_type": "markdown",
   "id": "b59bb9ea",
   "metadata": {
    "papermill": {
     "duration": 0.003686,
     "end_time": "2022-09-27T14:41:39.995531",
     "exception": false,
     "start_time": "2022-09-27T14:41:39.991845",
     "status": "completed"
    },
    "tags": []
   },
   "source": [
    "## Shape \n",
    "\n",
    "The shape of the function. \n",
    "\n",
    "*If this is not a photon model but a prior or linear function then ignore the units as these docs are auto-generated*"
   ]
  },
  {
   "cell_type": "code",
   "execution_count": 6,
   "id": "ff4ce08f",
   "metadata": {
    "execution": {
     "iopub.execute_input": "2022-09-27T14:41:40.004676Z",
     "iopub.status.busy": "2022-09-27T14:41:40.004216Z",
     "iopub.status.idle": "2022-09-27T14:41:40.437062Z",
     "shell.execute_reply": "2022-09-27T14:41:40.435930Z"
    },
    "papermill": {
     "duration": 0.441402,
     "end_time": "2022-09-27T14:41:40.440436",
     "exception": false,
     "start_time": "2022-09-27T14:41:39.999034",
     "status": "completed"
    },
    "tags": [
     "nbsphinx-thumbnail"
    ]
   },
   "outputs": [
    {
     "data": {
      "text/plain": [
       "Text(0, 0.5, 'probability')"
      ]
     },
     "execution_count": 6,
     "metadata": {},
     "output_type": "execute_result"
    },
    {
     "data": {
      "image/png": "[encoded data removed]",
      "text/plain": [
       "<Figure size 1040x910 with 1 Axes>"
      ]
     },
     "metadata": {},
     "output_type": "display_data"
    }
   ],
   "source": [
    "fig, ax = plt.subplots()\n",
    "\n",
    "\n",
    "ax.plot(energy_grid, func(energy_grid), color=blue, lw=3)\n",
    "\n",
    "ax.set_xlabel(\"x\")\n",
    "ax.set_ylabel(\"probability\")\n"
   ]
  },
  {
   "cell_type": "markdown",
   "id": "f62015ab",
   "metadata": {
    "papermill": {
     "duration": 0.003999,
     "end_time": "2022-09-27T14:41:40.449059",
     "exception": false,
     "start_time": "2022-09-27T14:41:40.445060",
     "status": "completed"
    },
    "tags": []
   },
   "source": [
    "## Random Number Generation\n",
    "\n",
    "This is how we can generate random numbers from the prior.\n"
   ]
  },
  {
   "cell_type": "code",
   "execution_count": 7,
   "id": "8ad286ea",
   "metadata": {
    "execution": {
     "iopub.execute_input": "2022-09-27T14:41:40.458947Z",
     "iopub.status.busy": "2022-09-27T14:41:40.458513Z",
     "iopub.status.idle": "2022-09-27T14:41:40.891134Z",
     "shell.execute_reply": "2022-09-27T14:41:40.889984Z"
    },
    "papermill": {
     "duration": 0.441564,
     "end_time": "2022-09-27T14:41:40.894495",
     "exception": false,
     "start_time": "2022-09-27T14:41:40.452931",
     "status": "completed"
    },
    "tags": []
   },
   "outputs": [
    {
     "data": {
      "text/plain": [
       "Text(0, 0.5, 'N')"
      ]
     },
     "execution_count": 7,
     "metadata": {},
     "output_type": "execute_result"
    },
    {
     "data": {
      "image/png": "[encoded data removed]",
      "text/plain": [
       "<Figure size 1040x910 with 1 Axes>"
      ]
     },
     "metadata": {},
     "output_type": "display_data"
    }
   ],
   "source": [
    "\n",
    "\n",
    "u = np.random.uniform(0,1, size=5000)\n",
    "\n",
    "draws = [func.from_unit_cube(x) for x in u]\n",
    "\n",
    "\n",
    "fig, ax = plt.subplots()\n",
    "\n",
    "\n",
    "ax.hist(draws, color=green, bins=50)\n",
    "\n",
    "ax.set_xlabel(\"value\")\n",
    "ax.set_ylabel(\"N\")\n",
    "\n"
   ]
  }
 ],
 "metadata": {
  "jupytext": {
   "formats": "ipynb,md"
  },
  "kernelspec": {
   "display_name": "Python 3 (ipykernel)",
   "language": "python",
   "name": "python3"
  },
  "language_info": {
   "codemirror_mode": {
    "name": "ipython",
    "version": 3
   },
   "file_extension": ".py",
   "mimetype": "text/x-python",
   "name": "python",
   "nbconvert_exporter": "python",
   "pygments_lexer": "ipython3",
   "version": "3.9.14"
  },
  "papermill": {
   "default_parameters": {},
   "duration": 7.337342,
   "end_time": "2022-09-27T14:41:41.562890",
   "environment_variables": {},
   "exception": null,
   "input_path": "Log_uniform_prior.ipynb",
   "output_path": "/Users/runner/work/astromodels/astromodels/docs/notebooks/Log_uniform_prior.ipynb",
   "parameters": {
    "func_name": "Log_uniform_prior",
    "positive_prior": false
   },
   "start_time": "2022-09-27T14:41:34.225548",
   "version": "2.4.0"
  }
 },
 "nbformat": 4,
 "nbformat_minor": 5
}
