{
 "cells": [
  {
   "cell_type": "markdown",
   "id": "fc13f7a4",
   "metadata": {
    "papermill": {
     "duration": 0.003712,
     "end_time": "2024-02-02T21:46:51.028704",
     "exception": false,
     "start_time": "2024-02-02T21:46:51.024992",
     "status": "completed"
    },
    "tags": []
   },
   "source": [
    "# DoubleSmoothlyBrokenPowerlaw"
   ]
  },
  {
   "cell_type": "code",
   "execution_count": 1,
   "id": "cb6d39fd",
   "metadata": {
    "execution": {
     "iopub.execute_input": "2024-02-02T21:46:51.037043Z",
     "iopub.status.busy": "2024-02-02T21:46:51.036574Z",
     "iopub.status.idle": "2024-02-02T21:46:53.787208Z",
     "shell.execute_reply": "2024-02-02T21:46:53.785300Z"
    },
    "nbsphinx": "hidden",
    "papermill": {
     "duration": 2.759896,
     "end_time": "2024-02-02T21:46:53.791799",
     "exception": false,
     "start_time": "2024-02-02T21:46:51.031903",
     "status": "completed"
    },
    "tags": []
   },
   "outputs": [],
   "source": [
    "%%capture\n",
    "\n",
    "import numpy as np\n",
    "\n",
    "import matplotlib.pyplot as plt\n",
    "\n",
    "import warnings\n",
    "warnings.simplefilter(\"ignore\")\n",
    "\n",
    "from astromodels.functions.function import _known_functions\n",
    "\n",
    "\n",
    "from jupyterthemes import jtplot\n",
    "jtplot.style(context=\"talk\", fscale=1, ticks=True, grid=False)\n",
    "%matplotlib inline"
   ]
  },
  {
   "cell_type": "code",
   "execution_count": 2,
   "id": "b62969d1",
   "metadata": {
    "execution": {
     "iopub.execute_input": "2024-02-02T21:46:53.800309Z",
     "iopub.status.busy": "2024-02-02T21:46:53.799789Z",
     "iopub.status.idle": "2024-02-02T21:46:53.809332Z",
     "shell.execute_reply": "2024-02-02T21:46:53.807889Z"
    },
    "nbsphinx": "hidden",
    "papermill": {
     "duration": 0.019316,
     "end_time": "2024-02-02T21:46:53.813900",
     "exception": false,
     "start_time": "2024-02-02T21:46:53.794584",
     "status": "completed"
    },
    "tags": [
     "parameters"
    ]
   },
   "outputs": [],
   "source": [
    "func_name = \"TbAbs\"\n",
    "\n",
    "x_scale=\"log\"\n",
    "y_scale=\"log\"\n",
    "\n",
    "linear_range = False\n",
    "\n",
    "wide_energy_range = False"
   ]
  },
  {
   "cell_type": "code",
   "execution_count": 3,
   "id": "1471f427",
   "metadata": {
    "execution": {
     "iopub.execute_input": "2024-02-02T21:46:53.821459Z",
     "iopub.status.busy": "2024-02-02T21:46:53.821019Z",
     "iopub.status.idle": "2024-02-02T21:46:53.835563Z",
     "shell.execute_reply": "2024-02-02T21:46:53.834080Z"
    },
    "papermill": {
     "duration": 0.023279,
     "end_time": "2024-02-02T21:46:53.839963",
     "exception": false,
     "start_time": "2024-02-02T21:46:53.816684",
     "status": "completed"
    },
    "tags": [
     "injected-parameters"
    ]
   },
   "outputs": [],
   "source": [
    "# Parameters\n",
    "func_name = \"DoubleSmoothlyBrokenPowerlaw\"\n",
    "wide_energy_range = True\n",
    "x_scale = \"log\"\n",
    "y_scale = \"log\"\n",
    "linear_range = False\n"
   ]
  },
  {
   "cell_type": "code",
   "execution_count": 4,
   "id": "30cc7bf1",
   "metadata": {
    "execution": {
     "iopub.execute_input": "2024-02-02T21:46:53.847679Z",
     "iopub.status.busy": "2024-02-02T21:46:53.847228Z",
     "iopub.status.idle": "2024-02-02T21:46:53.856782Z",
     "shell.execute_reply": "2024-02-02T21:46:53.855342Z"
    },
    "lines_to_next_cell": 0,
    "nbsphinx": "hidden",
    "papermill": {
     "duration": 0.018375,
     "end_time": "2024-02-02T21:46:53.861152",
     "exception": false,
     "start_time": "2024-02-02T21:46:53.842777",
     "status": "completed"
    },
    "tags": []
   },
   "outputs": [],
   "source": [
    "func = _known_functions[func_name]()\n",
    "\n",
    "if wide_energy_range:\n",
    "\n",
    "    energy_grid = np.geomspace(1e2,1e4,500)\n",
    "    \n",
    "else:\n",
    "    \n",
    "    energy_grid = np.geomspace(2e-1,1e1,1000)\n",
    "\n",
    "if linear_range:\n",
    "\n",
    "\tenergy_grid = np.linspace(-5,5,1000)\n",
    "\n",
    "    \n",
    "blue = \"#4152E3\"\n",
    "red = \"#E3414B\"\n",
    "green = \"#41E39E\""
   ]
  },
  {
   "cell_type": "markdown",
   "id": "a9050b48",
   "metadata": {
    "lines_to_next_cell": 0,
    "papermill": {
     "duration": 0.003903,
     "end_time": "2024-02-02T21:46:53.867828",
     "exception": false,
     "start_time": "2024-02-02T21:46:53.863925",
     "status": "completed"
    },
    "tags": []
   },
   "source": [
    "## Description"
   ]
  },
  {
   "cell_type": "code",
   "execution_count": 5,
   "id": "449bd84f",
   "metadata": {
    "execution": {
     "iopub.execute_input": "2024-02-02T21:46:53.876096Z",
     "iopub.status.busy": "2024-02-02T21:46:53.875620Z",
     "iopub.status.idle": "2024-02-02T21:46:53.898188Z",
     "shell.execute_reply": "2024-02-02T21:46:53.896282Z"
    },
    "papermill": {
     "duration": 0.031894,
     "end_time": "2024-02-02T21:46:53.902699",
     "exception": false,
     "start_time": "2024-02-02T21:46:53.870805",
     "status": "completed"
    },
    "tags": []
   },
   "outputs": [
    {
     "data": {
      "text/html": [
       "<ul>\n",
       "\n",
       "<li>description: A smoothly broken power law with two breaks as parameterized in Ravasio, M. E. et al. Astron Astrophys 613, A16 (2018).</li>\n",
       "\n",
       "<li>formula: $\\begin{array}{l}\\begin{aligned}f(x)=& A x_{\\mathrm{b}}^{\\alpha_{1}}\\left[\\left[\\left(\\frac{x}{x_{\\mathrm{b}}}\\right)^{-\\alpha_{1} n_{1}}+\\left(\\frac{x}{x_{\\mathrm{b}}}\\right)^{-\\alpha_{2} n_{1}}\\right]^{\\frac{n_{2}}{n_{1}}}\\right.\\\\&\\left.+\\left(\\frac{x}{x_{\\mathrm{j}}}\\right)^{-\\beta n_{2}} \\cdot\\left[\\left(\\frac{x_{\\mathrm{j}}}{x_{\\mathrm{b}}}\\right)^{-\\alpha_{1} n_{1}}+\\left(\\frac{x_{\\mathrm{j}}}{x_{\\mathrm{b}}}\\right)^{-\\alpha_{2} n_{1}}\\right]^{\\frac{n_{2}}{n_{1}}}\\right]^{-\\frac{1}{n_{2}}}\\end{aligned}\\\\\\text { where }\\\\x_{\\mathrm{j}}=x_{\\mathrm{p}} \\cdot\\left(-\\frac{\\alpha_{2}+2}{\\beta+2}\\right)^{\\frac{1}{\\left.\\beta-\\alpha_{2}\\right) n_{2}}}\\end{array}$</li>\n",
       "\n",
       "<li>parameters: \n",
       "<ul>\n",
       "\n",
       "<li>K: \n",
       "<ul>\n",
       "\n",
       "<li>value: 0.0001</li>\n",
       "\n",
       "<li>desc: Differential flux at the pivot energy</li>\n",
       "\n",
       "<li>min_value: 1e-50</li>\n",
       "\n",
       "<li>max_value: None</li>\n",
       "\n",
       "<li>unit: </li>\n",
       "\n",
       "<li>is_normalization: True</li>\n",
       "\n",
       "<li>delta: 1e-05</li>\n",
       "\n",
       "<li>free: True</li>\n",
       "\n",
       "</ul>\n",
       "\n",
       "</li>\n",
       "\n",
       "<li>alpha1: \n",
       "<ul>\n",
       "\n",
       "<li>value: -0.66</li>\n",
       "\n",
       "<li>desc: photon index below xb</li>\n",
       "\n",
       "<li>min_value: None</li>\n",
       "\n",
       "<li>max_value: None</li>\n",
       "\n",
       "<li>unit: </li>\n",
       "\n",
       "<li>is_normalization: False</li>\n",
       "\n",
       "<li>delta: 0.066</li>\n",
       "\n",
       "<li>free: True</li>\n",
       "\n",
       "</ul>\n",
       "\n",
       "</li>\n",
       "\n",
       "<li>xb: \n",
       "<ul>\n",
       "\n",
       "<li>value: 100.0</li>\n",
       "\n",
       "<li>desc: break energy below xp</li>\n",
       "\n",
       "<li>min_value: 1e-10</li>\n",
       "\n",
       "<li>max_value: None</li>\n",
       "\n",
       "<li>unit: </li>\n",
       "\n",
       "<li>is_normalization: False</li>\n",
       "\n",
       "<li>delta: 10.0</li>\n",
       "\n",
       "<li>free: True</li>\n",
       "\n",
       "</ul>\n",
       "\n",
       "</li>\n",
       "\n",
       "<li>n1: \n",
       "<ul>\n",
       "\n",
       "<li>value: 2.0</li>\n",
       "\n",
       "<li>desc: curvature of the first break</li>\n",
       "\n",
       "<li>min_value: 0.0</li>\n",
       "\n",
       "<li>max_value: None</li>\n",
       "\n",
       "<li>unit: </li>\n",
       "\n",
       "<li>is_normalization: False</li>\n",
       "\n",
       "<li>delta: 0.2</li>\n",
       "\n",
       "<li>free: False</li>\n",
       "\n",
       "</ul>\n",
       "\n",
       "</li>\n",
       "\n",
       "<li>alpha2: \n",
       "<ul>\n",
       "\n",
       "<li>value: -1.5</li>\n",
       "\n",
       "<li>desc: photon index between xb and xp</li>\n",
       "\n",
       "<li>min_value: None</li>\n",
       "\n",
       "<li>max_value: None</li>\n",
       "\n",
       "<li>unit: </li>\n",
       "\n",
       "<li>is_normalization: False</li>\n",
       "\n",
       "<li>delta: 0.15000000000000002</li>\n",
       "\n",
       "<li>free: True</li>\n",
       "\n",
       "</ul>\n",
       "\n",
       "</li>\n",
       "\n",
       "<li>xp: \n",
       "<ul>\n",
       "\n",
       "<li>value: 300.0000000000001</li>\n",
       "\n",
       "<li>desc: nuFnu peak</li>\n",
       "\n",
       "<li>min_value: 1e-10</li>\n",
       "\n",
       "<li>max_value: None</li>\n",
       "\n",
       "<li>unit: </li>\n",
       "\n",
       "<li>is_normalization: False</li>\n",
       "\n",
       "<li>delta: 30.000000000000014</li>\n",
       "\n",
       "<li>free: True</li>\n",
       "\n",
       "</ul>\n",
       "\n",
       "</li>\n",
       "\n",
       "<li>n2: \n",
       "<ul>\n",
       "\n",
       "<li>value: 2.0</li>\n",
       "\n",
       "<li>desc: curvature of the break at xp</li>\n",
       "\n",
       "<li>min_value: 0.0</li>\n",
       "\n",
       "<li>max_value: None</li>\n",
       "\n",
       "<li>unit: </li>\n",
       "\n",
       "<li>is_normalization: False</li>\n",
       "\n",
       "<li>delta: 0.2</li>\n",
       "\n",
       "<li>free: False</li>\n",
       "\n",
       "</ul>\n",
       "\n",
       "</li>\n",
       "\n",
       "<li>beta: \n",
       "<ul>\n",
       "\n",
       "<li>value: -2.5</li>\n",
       "\n",
       "<li>desc: photon index above xp</li>\n",
       "\n",
       "<li>min_value: None</li>\n",
       "\n",
       "<li>max_value: 2.0</li>\n",
       "\n",
       "<li>unit: </li>\n",
       "\n",
       "<li>is_normalization: False</li>\n",
       "\n",
       "<li>delta: 0.25</li>\n",
       "\n",
       "<li>free: True</li>\n",
       "\n",
       "</ul>\n",
       "\n",
       "</li>\n",
       "\n",
       "<li>piv: \n",
       "<ul>\n",
       "\n",
       "<li>value: 1.0</li>\n",
       "\n",
       "<li>desc: pivot energy</li>\n",
       "\n",
       "<li>min_value: None</li>\n",
       "\n",
       "<li>max_value: None</li>\n",
       "\n",
       "<li>unit: </li>\n",
       "\n",
       "<li>is_normalization: False</li>\n",
       "\n",
       "<li>delta: 0.1</li>\n",
       "\n",
       "<li>free: False</li>\n",
       "\n",
       "</ul>\n",
       "\n",
       "</li>\n",
       "\n",
       "</ul>\n",
       "\n",
       "</li>\n",
       "\n",
       "</ul>\n"
      ],
      "text/plain": [
       "  * description: A smoothly broken power law with two breaks as parameterized in Ravasio,\n",
       "    * M. E. et al. Astron Astrophys 613, A16 (2018).\n",
       "  * formula: $\\begin{array}{l}\\begin{aligned}f(x)=& A x_{\\mathrm{b}}^{\\alpha_{1}}\\left[\\left[\\left(\\frac{x}{x_{\\mathrm{b}}}\\right)^{-\\alpha_{1}\n",
       "    * n_{1}}+\\left(\\frac{x}{x_{\\mathrm{b}}}\\right)^{-\\alpha_{2} n_{1}}\\right]^{\\frac{n_{2}}{n_{1}}}\\right.\\\\&\\left.+\\left(\\frac{x}{x_{\\mathrm{j}}}\\right)^{-\\beta\n",
       "    * n_{2}} \\cdot\\left[\\left(\\frac{x_{\\mathrm{j}}}{x_{\\mathrm{b}}}\\right)^{-\\alpha_{1}\n",
       "    * n_{1}}+\\left(\\frac{x_{\\mathrm{j}}}{x_{\\mathrm{b}}}\\right)^{-\\alpha_{2} n_{1}}\\right]^{\\frac{n_{2}}{n_{1}}}\\right]^{-\\frac{1}{n_{2}}}\\end{aligned}\\\\\\text\n",
       "    * { where }\\\\x_{\\mathrm{j}}=x_{\\mathrm{p}} \\cdot\\left(-\\frac{\\alpha_{2}+2}{\\beta+2}\\right)^{\\frac{1}{\\left.\\beta-\\alpha_{2}\\right)\n",
       "    * n_{2}}}\\end{array}$\n",
       "  * parameters:\n",
       "    * K:\n",
       "      * value: 0.0001\n",
       "      * desc: Differential flux at the pivot energy\n",
       "      * min_value: 1.0e-50\n",
       "      * max_value: null\n",
       "      * unit: ''\n",
       "      * is_normalization: true\n",
       "      * delta: 1.0e-05\n",
       "      * free: true\n",
       "    * alpha1:\n",
       "      * value: -0.66\n",
       "      * desc: photon index below xb\n",
       "      * min_value: null\n",
       "      * max_value: null\n",
       "      * unit: ''\n",
       "      * is_normalization: false\n",
       "      * delta: 0.066\n",
       "      * free: true\n",
       "    * xb:\n",
       "      * value: 100.0\n",
       "      * desc: break energy below xp\n",
       "      * min_value: 1.0e-10\n",
       "      * max_value: null\n",
       "      * unit: ''\n",
       "      * is_normalization: false\n",
       "      * delta: 10.0\n",
       "      * free: true\n",
       "    * n1:\n",
       "      * value: 2.0\n",
       "      * desc: curvature of the first break\n",
       "      * min_value: 0.0\n",
       "      * max_value: null\n",
       "      * unit: ''\n",
       "      * is_normalization: false\n",
       "      * delta: 0.2\n",
       "      * free: false\n",
       "    * alpha2:\n",
       "      * value: -1.5\n",
       "      * desc: photon index between xb and xp\n",
       "      * min_value: null\n",
       "      * max_value: null\n",
       "      * unit: ''\n",
       "      * is_normalization: false\n",
       "      * delta: 0.15000000000000002\n",
       "      * free: true\n",
       "    * xp:\n",
       "      * value: 300.0000000000001\n",
       "      * desc: nuFnu peak\n",
       "      * min_value: 1.0e-10\n",
       "      * max_value: null\n",
       "      * unit: ''\n",
       "      * is_normalization: false\n",
       "      * delta: 30.000000000000014\n",
       "      * free: true\n",
       "    * n2:\n",
       "      * value: 2.0\n",
       "      * desc: curvature of the break at xp\n",
       "      * min_value: 0.0\n",
       "      * max_value: null\n",
       "      * unit: ''\n",
       "      * is_normalization: false\n",
       "      * delta: 0.2\n",
       "      * free: false\n",
       "    * beta:\n",
       "      * value: -2.5\n",
       "      * desc: photon index above xp\n",
       "      * min_value: null\n",
       "      * max_value: 2.0\n",
       "      * unit: ''\n",
       "      * is_normalization: false\n",
       "      * delta: 0.25\n",
       "      * free: true\n",
       "    * piv:\n",
       "      * value: 1.0\n",
       "      * desc: pivot energy\n",
       "      * min_value: null\n",
       "      * max_value: null\n",
       "      * unit: ''\n",
       "      * is_normalization: false\n",
       "      * delta: 0.1\n",
       "      * free: false"
      ]
     },
     "metadata": {},
     "output_type": "display_data"
    }
   ],
   "source": [
    "func.display()"
   ]
  },
  {
   "cell_type": "markdown",
   "id": "6cae5b47",
   "metadata": {
    "papermill": {
     "duration": 0.003392,
     "end_time": "2024-02-02T21:46:53.909566",
     "exception": false,
     "start_time": "2024-02-02T21:46:53.906174",
     "status": "completed"
    },
    "tags": []
   },
   "source": [
    "## Shape \n",
    "\n",
    "The shape of the function. \n",
    "\n",
    "*If this is not a photon model but a prior or linear function then ignore the units as these docs are auto-generated*"
   ]
  },
  {
   "cell_type": "code",
   "execution_count": 6,
   "id": "958e2cf1",
   "metadata": {
    "execution": {
     "iopub.execute_input": "2024-02-02T21:46:53.918859Z",
     "iopub.status.busy": "2024-02-02T21:46:53.918351Z",
     "iopub.status.idle": "2024-02-02T21:46:55.231697Z",
     "shell.execute_reply": "2024-02-02T21:46:55.230290Z"
    },
    "papermill": {
     "duration": 1.323214,
     "end_time": "2024-02-02T21:46:55.235992",
     "exception": false,
     "start_time": "2024-02-02T21:46:53.912778",
     "status": "completed"
    },
    "tags": [
     "nbsphinx-thumbnail"
    ]
   },
   "outputs": [
    {
     "data": {
      "image/png": "[encoded data removed]",
      "text/plain": [
       "<Figure size 1040x910 with 1 Axes>"
      ]
     },
     "metadata": {},
     "output_type": "display_data"
    }
   ],
   "source": [
    "fig, ax = plt.subplots()\n",
    "\n",
    "\n",
    "ax.plot(energy_grid, func(energy_grid), color=blue)\n",
    "\n",
    "ax.set_xlabel(\"energy (keV)\")\n",
    "ax.set_ylabel(\"photon flux\")\n",
    "ax.set_xscale(x_scale)\n",
    "ax.set_yscale(y_scale)\n"
   ]
  },
  {
   "cell_type": "markdown",
   "id": "68f467d4",
   "metadata": {
    "lines_to_next_cell": 0,
    "papermill": {
     "duration": 0.003708,
     "end_time": "2024-02-02T21:46:55.243286",
     "exception": false,
     "start_time": "2024-02-02T21:46:55.239578",
     "status": "completed"
    },
    "tags": []
   },
   "source": [
    "## F$_{\\nu}$\n",
    "\n",
    "The F$_{\\nu}$ shape of the photon model\n",
    "*if this is not a photon model, please ignore this auto-generated plot*"
   ]
  },
  {
   "cell_type": "code",
   "execution_count": 7,
   "id": "ece8d12a",
   "metadata": {
    "execution": {
     "iopub.execute_input": "2024-02-02T21:46:55.253074Z",
     "iopub.status.busy": "2024-02-02T21:46:55.252642Z",
     "iopub.status.idle": "2024-02-02T21:46:55.867313Z",
     "shell.execute_reply": "2024-02-02T21:46:55.865672Z"
    },
    "papermill": {
     "duration": 0.625509,
     "end_time": "2024-02-02T21:46:55.872481",
     "exception": false,
     "start_time": "2024-02-02T21:46:55.246972",
     "status": "completed"
    },
    "tags": []
   },
   "outputs": [
    {
     "data": {
      "image/png": "[encoded data removed]",
      "text/plain": [
       "<Figure size 1040x910 with 1 Axes>"
      ]
     },
     "metadata": {},
     "output_type": "display_data"
    }
   ],
   "source": [
    "fig, ax = plt.subplots()\n",
    "\n",
    "ax.plot(energy_grid, energy_grid * func(energy_grid), red)\n",
    "\n",
    "\n",
    "ax.set_xlabel(\"energy (keV)\")\n",
    "ax.set_ylabel(r\"energy flux (F$_{\\nu}$)\")\n",
    "ax.set_xscale(x_scale)\n",
    "ax.set_yscale(y_scale)\n",
    "\n"
   ]
  },
  {
   "cell_type": "markdown",
   "id": "9455dc2f",
   "metadata": {
    "papermill": {
     "duration": 0.005101,
     "end_time": "2024-02-02T21:46:55.883026",
     "exception": false,
     "start_time": "2024-02-02T21:46:55.877925",
     "status": "completed"
    },
    "tags": []
   },
   "source": [
    "## $\\nu$F$_{\\nu}$\n",
    "\n",
    "The $\\nu$F$_{\\nu}$ shape of the photon model\n",
    "*if this is not a photon model, please ignore this auto-generated plot*"
   ]
  },
  {
   "cell_type": "code",
   "execution_count": 8,
   "id": "0a4db33d",
   "metadata": {
    "execution": {
     "iopub.execute_input": "2024-02-02T21:46:55.894574Z",
     "iopub.status.busy": "2024-02-02T21:46:55.894180Z",
     "iopub.status.idle": "2024-02-02T21:46:56.446169Z",
     "shell.execute_reply": "2024-02-02T21:46:56.444593Z"
    },
    "papermill": {
     "duration": 0.56352,
     "end_time": "2024-02-02T21:46:56.451016",
     "exception": false,
     "start_time": "2024-02-02T21:46:55.887496",
     "status": "completed"
    },
    "tags": []
   },
   "outputs": [
    {
     "data": {
      "image/png": "[encoded data removed]",
      "text/plain": [
       "<Figure size 1040x910 with 1 Axes>"
      ]
     },
     "metadata": {},
     "output_type": "display_data"
    }
   ],
   "source": [
    "fig, ax = plt.subplots()\n",
    "\n",
    "ax.plot(energy_grid, energy_grid**2 * func(energy_grid), color=green)\n",
    "\n",
    "\n",
    "ax.set_xlabel(\"energy (keV)\")\n",
    "ax.set_ylabel(r\"$\\nu$F$_{\\nu}$\")\n",
    "ax.set_xscale(x_scale)\n",
    "ax.set_yscale(y_scale)\n"
   ]
  }
 ],
 "metadata": {
  "jupytext": {
   "formats": "ipynb,md"
  },
  "kernelspec": {
   "display_name": "Python 3",
   "language": "python",
   "name": "python3"
  },
  "language_info": {
   "codemirror_mode": {
    "name": "ipython",
    "version": 3
   },
   "file_extension": ".py",
   "mimetype": "text/x-python",
   "name": "python",
   "nbconvert_exporter": "python",
   "pygments_lexer": "ipython3",
   "version": "3.9.18"
  },
  "papermill": {
   "default_parameters": {},
   "duration": 7.36955,
   "end_time": "2024-02-02T21:46:57.091289",
   "environment_variables": {},
   "exception": null,
   "input_path": "DoubleSmoothlyBrokenPowerlaw.ipynb",
   "output_path": "/Users/runner/work/astromodels/astromodels/docs/notebooks/DoubleSmoothlyBrokenPowerlaw.ipynb",
   "parameters": {
    "func_name": "DoubleSmoothlyBrokenPowerlaw",
    "linear_range": false,
    "wide_energy_range": true,
    "x_scale": "log",
    "y_scale": "log"
   },
   "start_time": "2024-02-02T21:46:49.721739",
   "version": "2.5.0"
  }
 },
 "nbformat": 4,
 "nbformat_minor": 5
}
