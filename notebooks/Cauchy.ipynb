{
 "cells": [
  {
   "cell_type": "markdown",
   "id": "fa6cbaf9",
   "metadata": {
    "papermill": {
     "duration": 0.00446,
     "end_time": "2023-11-02T00:02:55.745525",
     "exception": false,
     "start_time": "2023-11-02T00:02:55.741065",
     "status": "completed"
    },
    "tags": []
   },
   "source": [
    "# Cauchy"
   ]
  },
  {
   "cell_type": "code",
   "execution_count": 1,
   "id": "0f859b15",
   "metadata": {
    "execution": {
     "iopub.execute_input": "2023-11-02T00:02:55.754653Z",
     "iopub.status.busy": "2023-11-02T00:02:55.754190Z",
     "iopub.status.idle": "2023-11-02T00:02:58.910880Z",
     "shell.execute_reply": "2023-11-02T00:02:58.907900Z"
    },
    "nbsphinx": "hidden",
    "papermill": {
     "duration": 3.166871,
     "end_time": "2023-11-02T00:02:58.915781",
     "exception": false,
     "start_time": "2023-11-02T00:02:55.748910",
     "status": "completed"
    },
    "tags": []
   },
   "outputs": [],
   "source": [
    "%%capture\n",
    "\n",
    "import numpy as np\n",
    "\n",
    "import matplotlib.pyplot as plt\n",
    "\n",
    "import warnings\n",
    "warnings.simplefilter(\"ignore\")\n",
    "\n",
    "from astromodels.functions.function import _known_functions\n",
    "\n",
    "\n",
    "from jupyterthemes import jtplot\n",
    "jtplot.style(context=\"talk\", fscale=1, ticks=True, grid=False)\n",
    "%matplotlib inline"
   ]
  },
  {
   "cell_type": "code",
   "execution_count": 2,
   "id": "ce1a5118",
   "metadata": {
    "execution": {
     "iopub.execute_input": "2023-11-02T00:02:58.923795Z",
     "iopub.status.busy": "2023-11-02T00:02:58.923323Z",
     "iopub.status.idle": "2023-11-02T00:02:58.931498Z",
     "shell.execute_reply": "2023-11-02T00:02:58.930102Z"
    },
    "nbsphinx": "hidden",
    "papermill": {
     "duration": 0.01728,
     "end_time": "2023-11-02T00:02:58.936006",
     "exception": false,
     "start_time": "2023-11-02T00:02:58.918726",
     "status": "completed"
    },
    "tags": [
     "parameters"
    ]
   },
   "outputs": [],
   "source": [
    "func_name = \"TbAbs\"\n",
    "\n",
    "positive_prior = False\n"
   ]
  },
  {
   "cell_type": "code",
   "execution_count": 3,
   "id": "35b50e6c",
   "metadata": {
    "execution": {
     "iopub.execute_input": "2023-11-02T00:02:58.943629Z",
     "iopub.status.busy": "2023-11-02T00:02:58.943166Z",
     "iopub.status.idle": "2023-11-02T00:02:58.951780Z",
     "shell.execute_reply": "2023-11-02T00:02:58.950390Z"
    },
    "papermill": {
     "duration": 0.0173,
     "end_time": "2023-11-02T00:02:58.956134",
     "exception": false,
     "start_time": "2023-11-02T00:02:58.938834",
     "status": "completed"
    },
    "tags": [
     "injected-parameters"
    ]
   },
   "outputs": [],
   "source": [
    "# Parameters\n",
    "func_name = \"Cauchy\"\n",
    "positive_prior = False\n"
   ]
  },
  {
   "cell_type": "code",
   "execution_count": 4,
   "id": "fecf47c2",
   "metadata": {
    "execution": {
     "iopub.execute_input": "2023-11-02T00:02:58.963525Z",
     "iopub.status.busy": "2023-11-02T00:02:58.963150Z",
     "iopub.status.idle": "2023-11-02T00:02:58.971757Z",
     "shell.execute_reply": "2023-11-02T00:02:58.970315Z"
    },
    "lines_to_next_cell": 0,
    "nbsphinx": "hidden",
    "papermill": {
     "duration": 0.017377,
     "end_time": "2023-11-02T00:02:58.976263",
     "exception": false,
     "start_time": "2023-11-02T00:02:58.958886",
     "status": "completed"
    },
    "tags": []
   },
   "outputs": [],
   "source": [
    "func = _known_functions[func_name]()\n",
    "\n",
    "if not positive_prior:\n",
    "\n",
    "\tenergy_grid = np.linspace(-5,5,1000)\n",
    "\n",
    "else:\n",
    "    \n",
    "    energy_grid = np.linspace(0,1,1000)\n",
    "    \n",
    "    \n",
    "    \n",
    "    \n",
    "blue = \"#4152E3\"\n",
    "red = \"#E3414B\"\n",
    "green = \"#41E39E\""
   ]
  },
  {
   "cell_type": "markdown",
   "id": "be10b70f",
   "metadata": {
    "lines_to_next_cell": 0,
    "papermill": {
     "duration": 0.00286,
     "end_time": "2023-11-02T00:02:58.981954",
     "exception": false,
     "start_time": "2023-11-02T00:02:58.979094",
     "status": "completed"
    },
    "tags": []
   },
   "source": [
    "## Description"
   ]
  },
  {
   "cell_type": "code",
   "execution_count": 5,
   "id": "63e2646a",
   "metadata": {
    "execution": {
     "iopub.execute_input": "2023-11-02T00:02:58.989603Z",
     "iopub.status.busy": "2023-11-02T00:02:58.989087Z",
     "iopub.status.idle": "2023-11-02T00:02:59.002575Z",
     "shell.execute_reply": "2023-11-02T00:02:59.000919Z"
    },
    "papermill": {
     "duration": 0.022352,
     "end_time": "2023-11-02T00:02:59.007011",
     "exception": false,
     "start_time": "2023-11-02T00:02:58.984659",
     "status": "completed"
    },
    "tags": []
   },
   "outputs": [
    {
     "data": {
      "text/html": [
       "<ul>\n",
       "\n",
       "<li>description: The Cauchy distribution</li>\n",
       "\n",
       "<li>formula: $ K \\frac{1}{ \\gamma \\pi} \\left[ \\frac{\\gamma^2}{(x-x_0)^2 + \\gamma^2}  \\right] $</li>\n",
       "\n",
       "<li>parameters: \n",
       "<ul>\n",
       "\n",
       "<li>K: \n",
       "<ul>\n",
       "\n",
       "<li>value: 1.0</li>\n",
       "\n",
       "<li>desc: Integral between -inf and +inf. Fix this to 1 to obtain a Cauchy distribution</li>\n",
       "\n",
       "<li>min_value: None</li>\n",
       "\n",
       "<li>max_value: None</li>\n",
       "\n",
       "<li>unit: </li>\n",
       "\n",
       "<li>is_normalization: False</li>\n",
       "\n",
       "<li>delta: 0.1</li>\n",
       "\n",
       "<li>free: True</li>\n",
       "\n",
       "</ul>\n",
       "\n",
       "</li>\n",
       "\n",
       "<li>x0: \n",
       "<ul>\n",
       "\n",
       "<li>value: 0.0</li>\n",
       "\n",
       "<li>desc: Central value</li>\n",
       "\n",
       "<li>min_value: None</li>\n",
       "\n",
       "<li>max_value: None</li>\n",
       "\n",
       "<li>unit: </li>\n",
       "\n",
       "<li>is_normalization: False</li>\n",
       "\n",
       "<li>delta: 0.1</li>\n",
       "\n",
       "<li>free: True</li>\n",
       "\n",
       "</ul>\n",
       "\n",
       "</li>\n",
       "\n",
       "<li>gamma: \n",
       "<ul>\n",
       "\n",
       "<li>value: 1.0</li>\n",
       "\n",
       "<li>desc: standard deviation</li>\n",
       "\n",
       "<li>min_value: 1e-12</li>\n",
       "\n",
       "<li>max_value: None</li>\n",
       "\n",
       "<li>unit: </li>\n",
       "\n",
       "<li>is_normalization: False</li>\n",
       "\n",
       "<li>delta: 0.1</li>\n",
       "\n",
       "<li>free: True</li>\n",
       "\n",
       "</ul>\n",
       "\n",
       "</li>\n",
       "\n",
       "</ul>\n",
       "\n",
       "</li>\n",
       "\n",
       "</ul>\n"
      ],
      "text/plain": [
       "  * description: The Cauchy distribution\n",
       "  * formula: $ K \\frac{1}{ \\gamma \\pi} \\left[ \\frac{\\gamma^2}{(x-x_0)^2 + \\gamma^2}  \\right]\n",
       "    * $\n",
       "  * parameters:\n",
       "    * K:\n",
       "      * value: 1.0\n",
       "      * desc: Integral between -inf and +inf. Fix this to 1 to obtain a Cauchy distribution\n",
       "      * min_value: null\n",
       "      * max_value: null\n",
       "      * unit: ''\n",
       "      * is_normalization: false\n",
       "      * delta: 0.1\n",
       "      * free: true\n",
       "    * x0:\n",
       "      * value: 0.0\n",
       "      * desc: Central value\n",
       "      * min_value: null\n",
       "      * max_value: null\n",
       "      * unit: ''\n",
       "      * is_normalization: false\n",
       "      * delta: 0.1\n",
       "      * free: true\n",
       "    * gamma:\n",
       "      * value: 1.0\n",
       "      * desc: standard deviation\n",
       "      * min_value: 1.0e-12\n",
       "      * max_value: null\n",
       "      * unit: ''\n",
       "      * is_normalization: false\n",
       "      * delta: 0.1\n",
       "      * free: true"
      ]
     },
     "metadata": {},
     "output_type": "display_data"
    }
   ],
   "source": [
    "func.display()"
   ]
  },
  {
   "cell_type": "markdown",
   "id": "2290c115",
   "metadata": {
    "papermill": {
     "duration": 0.003167,
     "end_time": "2023-11-02T00:02:59.013443",
     "exception": false,
     "start_time": "2023-11-02T00:02:59.010276",
     "status": "completed"
    },
    "tags": []
   },
   "source": [
    "## Shape \n",
    "\n",
    "The shape of the function. \n",
    "\n",
    "*If this is not a photon model but a prior or linear function then ignore the units as these docs are auto-generated*"
   ]
  },
  {
   "cell_type": "code",
   "execution_count": 6,
   "id": "ea13b3ca",
   "metadata": {
    "execution": {
     "iopub.execute_input": "2023-11-02T00:02:59.021681Z",
     "iopub.status.busy": "2023-11-02T00:02:59.021275Z",
     "iopub.status.idle": "2023-11-02T00:02:59.268223Z",
     "shell.execute_reply": "2023-11-02T00:02:59.266798Z"
    },
    "papermill": {
     "duration": 0.256354,
     "end_time": "2023-11-02T00:02:59.272924",
     "exception": false,
     "start_time": "2023-11-02T00:02:59.016570",
     "status": "completed"
    },
    "tags": [
     "nbsphinx-thumbnail"
    ]
   },
   "outputs": [
    {
     "data": {
      "text/plain": [
       "Text(0, 0.5, 'probability')"
      ]
     },
     "execution_count": 6,
     "metadata": {},
     "output_type": "execute_result"
    },
    {
     "data": {
      "image/png": "[encoded data removed]",
      "text/plain": [
       "<Figure size 1040x910 with 1 Axes>"
      ]
     },
     "metadata": {},
     "output_type": "display_data"
    }
   ],
   "source": [
    "fig, ax = plt.subplots()\n",
    "\n",
    "\n",
    "ax.plot(energy_grid, func(energy_grid), color=blue, lw=3)\n",
    "\n",
    "ax.set_xlabel(\"x\")\n",
    "ax.set_ylabel(\"probability\")\n"
   ]
  },
  {
   "cell_type": "markdown",
   "id": "93665121",
   "metadata": {
    "papermill": {
     "duration": 0.004146,
     "end_time": "2023-11-02T00:02:59.281029",
     "exception": false,
     "start_time": "2023-11-02T00:02:59.276883",
     "status": "completed"
    },
    "tags": []
   },
   "source": [
    "## Random Number Generation\n",
    "\n",
    "This is how we can generate random numbers from the prior.\n"
   ]
  },
  {
   "cell_type": "code",
   "execution_count": 7,
   "id": "94c584bb",
   "metadata": {
    "execution": {
     "iopub.execute_input": "2023-11-02T00:02:59.290362Z",
     "iopub.status.busy": "2023-11-02T00:02:59.289897Z",
     "iopub.status.idle": "2023-11-02T00:02:59.651145Z",
     "shell.execute_reply": "2023-11-02T00:02:59.649434Z"
    },
    "papermill": {
     "duration": 0.371207,
     "end_time": "2023-11-02T00:02:59.655796",
     "exception": false,
     "start_time": "2023-11-02T00:02:59.284589",
     "status": "completed"
    },
    "tags": []
   },
   "outputs": [
    {
     "data": {
      "text/plain": [
       "Text(0, 0.5, 'N')"
      ]
     },
     "execution_count": 7,
     "metadata": {},
     "output_type": "execute_result"
    },
    {
     "data": {
      "image/png": "[encoded data removed]",
      "text/plain": [
       "<Figure size 1040x910 with 1 Axes>"
      ]
     },
     "metadata": {},
     "output_type": "display_data"
    }
   ],
   "source": [
    "\n",
    "\n",
    "u = np.random.uniform(0,1, size=5000)\n",
    "\n",
    "draws = [func.from_unit_cube(x) for x in u]\n",
    "\n",
    "\n",
    "fig, ax = plt.subplots()\n",
    "\n",
    "\n",
    "ax.hist(draws, color=green, bins=50)\n",
    "\n",
    "ax.set_xlabel(\"value\")\n",
    "ax.set_ylabel(\"N\")\n",
    "\n"
   ]
  }
 ],
 "metadata": {
  "jupytext": {
   "formats": "ipynb,md"
  },
  "kernelspec": {
   "display_name": "Python 3 (ipykernel)",
   "language": "python",
   "name": "python3"
  },
  "language_info": {
   "codemirror_mode": {
    "name": "ipython",
    "version": 3
   },
   "file_extension": ".py",
   "mimetype": "text/x-python",
   "name": "python",
   "nbconvert_exporter": "python",
   "pygments_lexer": "ipython3",
   "version": "3.9.18"
  },
  "papermill": {
   "default_parameters": {},
   "duration": 5.544712,
   "end_time": "2023-11-02T00:03:00.187888",
   "environment_variables": {},
   "exception": null,
   "input_path": "Cauchy.ipynb",
   "output_path": "/Users/runner/work/astromodels/astromodels/docs/notebooks/Cauchy.ipynb",
   "parameters": {
    "func_name": "Cauchy",
    "positive_prior": false
   },
   "start_time": "2023-11-02T00:02:54.643176",
   "version": "2.5.0"
  }
 },
 "nbformat": 4,
 "nbformat_minor": 5
}
