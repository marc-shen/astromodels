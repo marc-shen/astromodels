{
 "cells": [
  {
   "cell_type": "markdown",
   "id": "5dda3c1c",
   "metadata": {
    "papermill": {
     "duration": 0.008814,
     "end_time": "2024-05-08T22:52:00.824504",
     "exception": false,
     "start_time": "2024-05-08T22:52:00.815690",
     "status": "completed"
    },
    "tags": []
   },
   "source": [
    "# Cauchy"
   ]
  },
  {
   "cell_type": "code",
   "execution_count": 1,
   "id": "64e4bca5",
   "metadata": {
    "execution": {
     "iopub.execute_input": "2024-05-08T22:52:00.836055Z",
     "iopub.status.busy": "2024-05-08T22:52:00.835410Z",
     "iopub.status.idle": "2024-05-08T22:52:02.302993Z",
     "shell.execute_reply": "2024-05-08T22:52:02.302508Z"
    },
    "nbsphinx": "hidden",
    "papermill": {
     "duration": 1.475321,
     "end_time": "2024-05-08T22:52:02.304755",
     "exception": false,
     "start_time": "2024-05-08T22:52:00.829434",
     "status": "completed"
    },
    "tags": []
   },
   "outputs": [],
   "source": [
    "%%capture\n",
    "\n",
    "import numpy as np\n",
    "\n",
    "import matplotlib.pyplot as plt\n",
    "\n",
    "import warnings\n",
    "warnings.simplefilter(\"ignore\")\n",
    "\n",
    "from astromodels.functions.function import _known_functions\n",
    "\n",
    "\n",
    "from jupyterthemes import jtplot\n",
    "jtplot.style(context=\"talk\", fscale=1, ticks=True, grid=False)\n",
    "%matplotlib inline"
   ]
  },
  {
   "cell_type": "code",
   "execution_count": 2,
   "id": "2ac0dbbc",
   "metadata": {
    "execution": {
     "iopub.execute_input": "2024-05-08T22:52:02.308210Z",
     "iopub.status.busy": "2024-05-08T22:52:02.307876Z",
     "iopub.status.idle": "2024-05-08T22:52:02.316119Z",
     "shell.execute_reply": "2024-05-08T22:52:02.315680Z"
    },
    "nbsphinx": "hidden",
    "papermill": {
     "duration": 0.011268,
     "end_time": "2024-05-08T22:52:02.317353",
     "exception": false,
     "start_time": "2024-05-08T22:52:02.306085",
     "status": "completed"
    },
    "tags": [
     "parameters"
    ]
   },
   "outputs": [],
   "source": [
    "func_name = \"TbAbs\"\n",
    "\n",
    "positive_prior = False\n"
   ]
  },
  {
   "cell_type": "code",
   "execution_count": 3,
   "id": "fccc4fe9",
   "metadata": {
    "execution": {
     "iopub.execute_input": "2024-05-08T22:52:02.320045Z",
     "iopub.status.busy": "2024-05-08T22:52:02.319885Z",
     "iopub.status.idle": "2024-05-08T22:52:02.328016Z",
     "shell.execute_reply": "2024-05-08T22:52:02.327561Z"
    },
    "papermill": {
     "duration": 0.011103,
     "end_time": "2024-05-08T22:52:02.329483",
     "exception": false,
     "start_time": "2024-05-08T22:52:02.318380",
     "status": "completed"
    },
    "tags": [
     "injected-parameters"
    ]
   },
   "outputs": [],
   "source": [
    "# Parameters\n",
    "func_name = \"Cauchy\"\n",
    "positive_prior = False\n"
   ]
  },
  {
   "cell_type": "code",
   "execution_count": 4,
   "id": "1cf52ec0",
   "metadata": {
    "execution": {
     "iopub.execute_input": "2024-05-08T22:52:02.332382Z",
     "iopub.status.busy": "2024-05-08T22:52:02.332234Z",
     "iopub.status.idle": "2024-05-08T22:52:02.335209Z",
     "shell.execute_reply": "2024-05-08T22:52:02.334817Z"
    },
    "lines_to_next_cell": 0,
    "nbsphinx": "hidden",
    "papermill": {
     "duration": 0.00579,
     "end_time": "2024-05-08T22:52:02.336460",
     "exception": false,
     "start_time": "2024-05-08T22:52:02.330670",
     "status": "completed"
    },
    "tags": []
   },
   "outputs": [],
   "source": [
    "func = _known_functions[func_name]()\n",
    "\n",
    "if not positive_prior:\n",
    "\n",
    "\tenergy_grid = np.linspace(-5,5,1000)\n",
    "\n",
    "else:\n",
    "    \n",
    "    energy_grid = np.linspace(0,1,1000)\n",
    "    \n",
    "    \n",
    "    \n",
    "    \n",
    "blue = \"#4152E3\"\n",
    "red = \"#E3414B\"\n",
    "green = \"#41E39E\""
   ]
  },
  {
   "cell_type": "markdown",
   "id": "af512a1f",
   "metadata": {
    "lines_to_next_cell": 0,
    "papermill": {
     "duration": 0.000983,
     "end_time": "2024-05-08T22:52:02.338439",
     "exception": false,
     "start_time": "2024-05-08T22:52:02.337456",
     "status": "completed"
    },
    "tags": []
   },
   "source": [
    "## Description"
   ]
  },
  {
   "cell_type": "code",
   "execution_count": 5,
   "id": "66c5a0d4",
   "metadata": {
    "execution": {
     "iopub.execute_input": "2024-05-08T22:52:02.341024Z",
     "iopub.status.busy": "2024-05-08T22:52:02.340865Z",
     "iopub.status.idle": "2024-05-08T22:52:02.345010Z",
     "shell.execute_reply": "2024-05-08T22:52:02.344544Z"
    },
    "papermill": {
     "duration": 0.00695,
     "end_time": "2024-05-08T22:52:02.346365",
     "exception": false,
     "start_time": "2024-05-08T22:52:02.339415",
     "status": "completed"
    },
    "tags": []
   },
   "outputs": [
    {
     "data": {
      "text/html": [
       "<ul>\n",
       "\n",
       "<li>description: The Cauchy distribution</li>\n",
       "\n",
       "<li>formula: $ K \\frac{1}{ \\gamma \\pi} \\left[ \\frac{\\gamma^2}{(x-x_0)^2 + \\gamma^2}  \\right] $</li>\n",
       "\n",
       "<li>parameters: \n",
       "<ul>\n",
       "\n",
       "<li>K: \n",
       "<ul>\n",
       "\n",
       "<li>value: 1.0</li>\n",
       "\n",
       "<li>desc: Integral between -inf and +inf. Fix this to 1 to obtain a Cauchy distribution</li>\n",
       "\n",
       "<li>min_value: None</li>\n",
       "\n",
       "<li>max_value: None</li>\n",
       "\n",
       "<li>unit: </li>\n",
       "\n",
       "<li>is_normalization: False</li>\n",
       "\n",
       "<li>delta: 0.1</li>\n",
       "\n",
       "<li>free: True</li>\n",
       "\n",
       "</ul>\n",
       "\n",
       "</li>\n",
       "\n",
       "<li>x0: \n",
       "<ul>\n",
       "\n",
       "<li>value: 0.0</li>\n",
       "\n",
       "<li>desc: Central value</li>\n",
       "\n",
       "<li>min_value: None</li>\n",
       "\n",
       "<li>max_value: None</li>\n",
       "\n",
       "<li>unit: </li>\n",
       "\n",
       "<li>is_normalization: False</li>\n",
       "\n",
       "<li>delta: 0.1</li>\n",
       "\n",
       "<li>free: True</li>\n",
       "\n",
       "</ul>\n",
       "\n",
       "</li>\n",
       "\n",
       "<li>gamma: \n",
       "<ul>\n",
       "\n",
       "<li>value: 1.0</li>\n",
       "\n",
       "<li>desc: standard deviation</li>\n",
       "\n",
       "<li>min_value: 1e-12</li>\n",
       "\n",
       "<li>max_value: None</li>\n",
       "\n",
       "<li>unit: </li>\n",
       "\n",
       "<li>is_normalization: False</li>\n",
       "\n",
       "<li>delta: 0.1</li>\n",
       "\n",
       "<li>free: True</li>\n",
       "\n",
       "</ul>\n",
       "\n",
       "</li>\n",
       "\n",
       "</ul>\n",
       "\n",
       "</li>\n",
       "\n",
       "</ul>\n"
      ],
      "text/plain": [
       "  * description: The Cauchy distribution\n",
       "  * formula: $ K \\frac{1}{ \\gamma \\pi} \\left[ \\frac{\\gamma^2}{(x-x_0)^2 + \\gamma^2}  \\right]\n",
       "    * $\n",
       "  * parameters:\n",
       "    * K:\n",
       "      * value: 1.0\n",
       "      * desc: Integral between -inf and +inf. Fix this to 1 to obtain a Cauchy distribution\n",
       "      * min_value: null\n",
       "      * max_value: null\n",
       "      * unit: ''\n",
       "      * is_normalization: false\n",
       "      * delta: 0.1\n",
       "      * free: true\n",
       "    * x0:\n",
       "      * value: 0.0\n",
       "      * desc: Central value\n",
       "      * min_value: null\n",
       "      * max_value: null\n",
       "      * unit: ''\n",
       "      * is_normalization: false\n",
       "      * delta: 0.1\n",
       "      * free: true\n",
       "    * gamma:\n",
       "      * value: 1.0\n",
       "      * desc: standard deviation\n",
       "      * min_value: 1.0e-12\n",
       "      * max_value: null\n",
       "      * unit: ''\n",
       "      * is_normalization: false\n",
       "      * delta: 0.1\n",
       "      * free: true"
      ]
     },
     "metadata": {},
     "output_type": "display_data"
    }
   ],
   "source": [
    "func.display()"
   ]
  },
  {
   "cell_type": "markdown",
   "id": "2f6c7a18",
   "metadata": {
    "papermill": {
     "duration": 0.001219,
     "end_time": "2024-05-08T22:52:02.348821",
     "exception": false,
     "start_time": "2024-05-08T22:52:02.347602",
     "status": "completed"
    },
    "tags": []
   },
   "source": [
    "## Shape \n",
    "\n",
    "The shape of the function. \n",
    "\n",
    "*If this is not a photon model but a prior or linear function then ignore the units as these docs are auto-generated*"
   ]
  },
  {
   "cell_type": "code",
   "execution_count": 6,
   "id": "b782bfc1",
   "metadata": {
    "execution": {
     "iopub.execute_input": "2024-05-08T22:52:02.351853Z",
     "iopub.status.busy": "2024-05-08T22:52:02.351683Z",
     "iopub.status.idle": "2024-05-08T22:52:02.455987Z",
     "shell.execute_reply": "2024-05-08T22:52:02.455632Z"
    },
    "papermill": {
     "duration": 0.107489,
     "end_time": "2024-05-08T22:52:02.457450",
     "exception": false,
     "start_time": "2024-05-08T22:52:02.349961",
     "status": "completed"
    },
    "tags": [
     "nbsphinx-thumbnail"
    ]
   },
   "outputs": [
    {
     "data": {
      "text/plain": [
       "Text(0, 0.5, 'probability')"
      ]
     },
     "execution_count": 6,
     "metadata": {},
     "output_type": "execute_result"
    },
    {
     "data": {
      "image/png": "[encoded data removed]",
      "text/plain": [
       "<Figure size 1040x910 with 1 Axes>"
      ]
     },
     "metadata": {},
     "output_type": "display_data"
    }
   ],
   "source": [
    "fig, ax = plt.subplots()\n",
    "\n",
    "\n",
    "ax.plot(energy_grid, func(energy_grid), color=blue, lw=3)\n",
    "\n",
    "ax.set_xlabel(\"x\")\n",
    "ax.set_ylabel(\"probability\")\n"
   ]
  },
  {
   "cell_type": "markdown",
   "id": "8d0ea4c0",
   "metadata": {
    "papermill": {
     "duration": 0.001577,
     "end_time": "2024-05-08T22:52:02.460767",
     "exception": false,
     "start_time": "2024-05-08T22:52:02.459190",
     "status": "completed"
    },
    "tags": []
   },
   "source": [
    "## Random Number Generation\n",
    "\n",
    "This is how we can generate random numbers from the prior.\n"
   ]
  },
  {
   "cell_type": "code",
   "execution_count": 7,
   "id": "b54d208d",
   "metadata": {
    "execution": {
     "iopub.execute_input": "2024-05-08T22:52:02.464391Z",
     "iopub.status.busy": "2024-05-08T22:52:02.464233Z",
     "iopub.status.idle": "2024-05-08T22:52:02.591888Z",
     "shell.execute_reply": "2024-05-08T22:52:02.591421Z"
    },
    "papermill": {
     "duration": 0.131135,
     "end_time": "2024-05-08T22:52:02.593255",
     "exception": false,
     "start_time": "2024-05-08T22:52:02.462120",
     "status": "completed"
    },
    "tags": []
   },
   "outputs": [
    {
     "data": {
      "text/plain": [
       "Text(0, 0.5, 'N')"
      ]
     },
     "execution_count": 7,
     "metadata": {},
     "output_type": "execute_result"
    },
    {
     "data": {
      "image/png": "[encoded data removed]",
      "text/plain": [
       "<Figure size 1040x910 with 1 Axes>"
      ]
     },
     "metadata": {},
     "output_type": "display_data"
    }
   ],
   "source": [
    "\n",
    "\n",
    "u = np.random.uniform(0,1, size=5000)\n",
    "\n",
    "draws = [func.from_unit_cube(x) for x in u]\n",
    "\n",
    "\n",
    "fig, ax = plt.subplots()\n",
    "\n",
    "\n",
    "ax.hist(draws, color=green, bins=50)\n",
    "\n",
    "ax.set_xlabel(\"value\")\n",
    "ax.set_ylabel(\"N\")\n",
    "\n"
   ]
  }
 ],
 "metadata": {
  "jupytext": {
   "formats": "ipynb,md"
  },
  "kernelspec": {
   "display_name": "Python 3 (ipykernel)",
   "language": "python",
   "name": "python3"
  },
  "language_info": {
   "codemirror_mode": {
    "name": "ipython",
    "version": 3
   },
   "file_extension": ".py",
   "mimetype": "text/x-python",
   "name": "python",
   "nbconvert_exporter": "python",
   "pygments_lexer": "ipython3",
   "version": "3.9.13"
  },
  "papermill": {
   "default_parameters": {},
   "duration": 2.725911,
   "end_time": "2024-05-08T22:52:03.030576",
   "environment_variables": {},
   "exception": null,
   "input_path": "Cauchy.ipynb",
   "output_path": "/Users/runner/work/astromodels/astromodels/docs/notebooks/Cauchy.ipynb",
   "parameters": {
    "func_name": "Cauchy",
    "positive_prior": false
   },
   "start_time": "2024-05-08T22:52:00.304665",
   "version": "2.6.0"
  }
 },
 "nbformat": 4,
 "nbformat_minor": 5
}
