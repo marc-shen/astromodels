{
 "cells": [
  {
   "cell_type": "markdown",
   "id": "13179337",
   "metadata": {
    "papermill": {
     "duration": 0.009692,
     "end_time": "2025-02-05T00:53:52.854329",
     "exception": false,
     "start_time": "2025-02-05T00:53:52.844637",
     "status": "completed"
    },
    "tags": []
   },
   "source": [
    "# Cauchy"
   ]
  },
  {
   "cell_type": "code",
   "execution_count": 1,
   "id": "714a6244",
   "metadata": {
    "execution": {
     "iopub.execute_input": "2025-02-05T00:53:52.866232Z",
     "iopub.status.busy": "2025-02-05T00:53:52.865523Z",
     "iopub.status.idle": "2025-02-05T00:53:54.267179Z",
     "shell.execute_reply": "2025-02-05T00:53:54.266698Z"
    },
    "nbsphinx": "hidden",
    "papermill": {
     "duration": 1.409027,
     "end_time": "2025-02-05T00:53:54.268490",
     "exception": false,
     "start_time": "2025-02-05T00:53:52.859463",
     "status": "completed"
    },
    "tags": []
   },
   "outputs": [],
   "source": [
    "%%capture\n",
    "\n",
    "import numpy as np\n",
    "\n",
    "import matplotlib.pyplot as plt\n",
    "\n",
    "import warnings\n",
    "warnings.simplefilter(\"ignore\")\n",
    "\n",
    "from astromodels.functions.function import _known_functions\n",
    "\n",
    "\n",
    "from jupyterthemes import jtplot\n",
    "jtplot.style(context=\"talk\", fscale=1, ticks=True, grid=False)\n",
    "%matplotlib inline"
   ]
  },
  {
   "cell_type": "code",
   "execution_count": 2,
   "id": "7d5d39be",
   "metadata": {
    "execution": {
     "iopub.execute_input": "2025-02-05T00:53:54.271695Z",
     "iopub.status.busy": "2025-02-05T00:53:54.271363Z",
     "iopub.status.idle": "2025-02-05T00:53:54.279654Z",
     "shell.execute_reply": "2025-02-05T00:53:54.279226Z"
    },
    "nbsphinx": "hidden",
    "papermill": {
     "duration": 0.010986,
     "end_time": "2025-02-05T00:53:54.280723",
     "exception": false,
     "start_time": "2025-02-05T00:53:54.269737",
     "status": "completed"
    },
    "tags": [
     "parameters"
    ]
   },
   "outputs": [],
   "source": [
    "func_name = \"TbAbs\"\n",
    "\n",
    "positive_prior = False\n"
   ]
  },
  {
   "cell_type": "code",
   "execution_count": 3,
   "id": "83e566ed",
   "metadata": {
    "execution": {
     "iopub.execute_input": "2025-02-05T00:53:54.283319Z",
     "iopub.status.busy": "2025-02-05T00:53:54.283172Z",
     "iopub.status.idle": "2025-02-05T00:53:54.285081Z",
     "shell.execute_reply": "2025-02-05T00:53:54.284687Z"
    },
    "papermill": {
     "duration": 0.004434,
     "end_time": "2025-02-05T00:53:54.286188",
     "exception": false,
     "start_time": "2025-02-05T00:53:54.281754",
     "status": "completed"
    },
    "tags": [
     "injected-parameters"
    ]
   },
   "outputs": [],
   "source": [
    "# Parameters\n",
    "func_name = \"Cauchy\"\n",
    "positive_prior = False\n"
   ]
  },
  {
   "cell_type": "code",
   "execution_count": 4,
   "id": "cc469084",
   "metadata": {
    "execution": {
     "iopub.execute_input": "2025-02-05T00:53:54.288785Z",
     "iopub.status.busy": "2025-02-05T00:53:54.288647Z",
     "iopub.status.idle": "2025-02-05T00:53:54.295559Z",
     "shell.execute_reply": "2025-02-05T00:53:54.295165Z"
    },
    "lines_to_next_cell": 0,
    "nbsphinx": "hidden",
    "papermill": {
     "duration": 0.009408,
     "end_time": "2025-02-05T00:53:54.296618",
     "exception": false,
     "start_time": "2025-02-05T00:53:54.287210",
     "status": "completed"
    },
    "tags": []
   },
   "outputs": [],
   "source": [
    "func = _known_functions[func_name]()\n",
    "\n",
    "if not positive_prior:\n",
    "\n",
    "\tenergy_grid = np.linspace(-5,5,1000)\n",
    "\n",
    "else:\n",
    "    \n",
    "    energy_grid = np.linspace(0,1,1000)\n",
    "    \n",
    "    \n",
    "    \n",
    "    \n",
    "blue = \"#4152E3\"\n",
    "red = \"#E3414B\"\n",
    "green = \"#41E39E\""
   ]
  },
  {
   "cell_type": "markdown",
   "id": "55f3c861",
   "metadata": {
    "lines_to_next_cell": 0,
    "papermill": {
     "duration": 0.001029,
     "end_time": "2025-02-05T00:53:54.298699",
     "exception": false,
     "start_time": "2025-02-05T00:53:54.297670",
     "status": "completed"
    },
    "tags": []
   },
   "source": [
    "## Description"
   ]
  },
  {
   "cell_type": "code",
   "execution_count": 5,
   "id": "0c402148",
   "metadata": {
    "execution": {
     "iopub.execute_input": "2025-02-05T00:53:54.301340Z",
     "iopub.status.busy": "2025-02-05T00:53:54.301200Z",
     "iopub.status.idle": "2025-02-05T00:53:54.305201Z",
     "shell.execute_reply": "2025-02-05T00:53:54.304766Z"
    },
    "papermill": {
     "duration": 0.006525,
     "end_time": "2025-02-05T00:53:54.306264",
     "exception": false,
     "start_time": "2025-02-05T00:53:54.299739",
     "status": "completed"
    },
    "tags": []
   },
   "outputs": [
    {
     "data": {
      "text/html": [
       "<ul>\n",
       "\n",
       "<li>description: The Cauchy distribution</li>\n",
       "\n",
       "<li>formula: $ K \\frac{1}{ \\gamma \\pi} \\left[ \\frac{\\gamma^2}{(x-x_0)^2 + \\gamma^2}  \\right] $</li>\n",
       "\n",
       "<li>parameters: \n",
       "<ul>\n",
       "\n",
       "<li>K: \n",
       "<ul>\n",
       "\n",
       "<li>value: 1.0</li>\n",
       "\n",
       "<li>desc: Integral between -inf and +inf. Fix this to 1 to obtain a Cauchy distribution</li>\n",
       "\n",
       "<li>min_value: None</li>\n",
       "\n",
       "<li>max_value: None</li>\n",
       "\n",
       "<li>unit: </li>\n",
       "\n",
       "<li>is_normalization: False</li>\n",
       "\n",
       "<li>delta: 0.1</li>\n",
       "\n",
       "<li>free: True</li>\n",
       "\n",
       "</ul>\n",
       "\n",
       "</li>\n",
       "\n",
       "<li>x0: \n",
       "<ul>\n",
       "\n",
       "<li>value: 0.0</li>\n",
       "\n",
       "<li>desc: Central value</li>\n",
       "\n",
       "<li>min_value: None</li>\n",
       "\n",
       "<li>max_value: None</li>\n",
       "\n",
       "<li>unit: </li>\n",
       "\n",
       "<li>is_normalization: False</li>\n",
       "\n",
       "<li>delta: 0.1</li>\n",
       "\n",
       "<li>free: True</li>\n",
       "\n",
       "</ul>\n",
       "\n",
       "</li>\n",
       "\n",
       "<li>gamma: \n",
       "<ul>\n",
       "\n",
       "<li>value: 1.0</li>\n",
       "\n",
       "<li>desc: standard deviation</li>\n",
       "\n",
       "<li>min_value: 1e-12</li>\n",
       "\n",
       "<li>max_value: None</li>\n",
       "\n",
       "<li>unit: </li>\n",
       "\n",
       "<li>is_normalization: False</li>\n",
       "\n",
       "<li>delta: 0.1</li>\n",
       "\n",
       "<li>free: True</li>\n",
       "\n",
       "</ul>\n",
       "\n",
       "</li>\n",
       "\n",
       "</ul>\n",
       "\n",
       "</li>\n",
       "\n",
       "</ul>\n"
      ],
      "text/plain": [
       "  * description: The Cauchy distribution\n",
       "  * formula: $ K \\frac{1}{ \\gamma \\pi} \\left[ \\frac{\\gamma^2}{(x-x_0)^2 + \\gamma^2}  \\right]\n",
       "    * $\n",
       "  * parameters:\n",
       "    * K:\n",
       "      * value: 1.0\n",
       "      * desc: Integral between -inf and +inf. Fix this to 1 to obtain a Cauchy distribution\n",
       "      * min_value: null\n",
       "      * max_value: null\n",
       "      * unit: ''\n",
       "      * is_normalization: false\n",
       "      * delta: 0.1\n",
       "      * free: true\n",
       "    * x0:\n",
       "      * value: 0.0\n",
       "      * desc: Central value\n",
       "      * min_value: null\n",
       "      * max_value: null\n",
       "      * unit: ''\n",
       "      * is_normalization: false\n",
       "      * delta: 0.1\n",
       "      * free: true\n",
       "    * gamma:\n",
       "      * value: 1.0\n",
       "      * desc: standard deviation\n",
       "      * min_value: 1.0e-12\n",
       "      * max_value: null\n",
       "      * unit: ''\n",
       "      * is_normalization: false\n",
       "      * delta: 0.1\n",
       "      * free: true"
      ]
     },
     "metadata": {},
     "output_type": "display_data"
    }
   ],
   "source": [
    "func.display()"
   ]
  },
  {
   "cell_type": "markdown",
   "id": "1509595b",
   "metadata": {
    "papermill": {
     "duration": 0.001169,
     "end_time": "2025-02-05T00:53:54.308693",
     "exception": false,
     "start_time": "2025-02-05T00:53:54.307524",
     "status": "completed"
    },
    "tags": []
   },
   "source": [
    "## Shape \n",
    "\n",
    "The shape of the function. \n",
    "\n",
    "*If this is not a photon model but a prior or linear function then ignore the units as these docs are auto-generated*"
   ]
  },
  {
   "cell_type": "code",
   "execution_count": 6,
   "id": "04f62f88",
   "metadata": {
    "execution": {
     "iopub.execute_input": "2025-02-05T00:53:54.311522Z",
     "iopub.status.busy": "2025-02-05T00:53:54.311373Z",
     "iopub.status.idle": "2025-02-05T00:53:54.385485Z",
     "shell.execute_reply": "2025-02-05T00:53:54.385157Z"
    },
    "papermill": {
     "duration": 0.076968,
     "end_time": "2025-02-05T00:53:54.386781",
     "exception": false,
     "start_time": "2025-02-05T00:53:54.309813",
     "status": "completed"
    },
    "tags": [
     "nbsphinx-thumbnail"
    ]
   },
   "outputs": [
    {
     "data": {
      "text/plain": [
       "Text(0, 0.5, 'probability')"
      ]
     },
     "execution_count": 6,
     "metadata": {},
     "output_type": "execute_result"
    },
    {
     "data": {
      "image/png": "[encoded data removed]",
      "text/plain": [
       "<Figure size 1040x910 with 1 Axes>"
      ]
     },
     "metadata": {},
     "output_type": "display_data"
    }
   ],
   "source": [
    "fig, ax = plt.subplots()\n",
    "\n",
    "\n",
    "ax.plot(energy_grid, func(energy_grid), color=blue, lw=3)\n",
    "\n",
    "ax.set_xlabel(\"x\")\n",
    "ax.set_ylabel(\"probability\")\n"
   ]
  },
  {
   "cell_type": "markdown",
   "id": "a938ca6d",
   "metadata": {
    "papermill": {
     "duration": 0.001547,
     "end_time": "2025-02-05T00:53:54.390025",
     "exception": false,
     "start_time": "2025-02-05T00:53:54.388478",
     "status": "completed"
    },
    "tags": []
   },
   "source": [
    "## Random Number Generation\n",
    "\n",
    "This is how we can generate random numbers from the prior.\n"
   ]
  },
  {
   "cell_type": "code",
   "execution_count": 7,
   "id": "61b3d753",
   "metadata": {
    "execution": {
     "iopub.execute_input": "2025-02-05T00:53:54.393431Z",
     "iopub.status.busy": "2025-02-05T00:53:54.393287Z",
     "iopub.status.idle": "2025-02-05T00:53:54.487243Z",
     "shell.execute_reply": "2025-02-05T00:53:54.486922Z"
    },
    "papermill": {
     "duration": 0.097184,
     "end_time": "2025-02-05T00:53:54.488545",
     "exception": false,
     "start_time": "2025-02-05T00:53:54.391361",
     "status": "completed"
    },
    "tags": []
   },
   "outputs": [
    {
     "data": {
      "text/plain": [
       "Text(0, 0.5, 'N')"
      ]
     },
     "execution_count": 7,
     "metadata": {},
     "output_type": "execute_result"
    },
    {
     "data": {
      "image/png": "[encoded data removed]",
      "text/plain": [
       "<Figure size 1040x910 with 1 Axes>"
      ]
     },
     "metadata": {},
     "output_type": "display_data"
    }
   ],
   "source": [
    "\n",
    "\n",
    "u = np.random.uniform(0,1, size=5000)\n",
    "\n",
    "draws = [func.from_unit_cube(x) for x in u]\n",
    "\n",
    "\n",
    "fig, ax = plt.subplots()\n",
    "\n",
    "\n",
    "ax.hist(draws, color=green, bins=50)\n",
    "\n",
    "ax.set_xlabel(\"value\")\n",
    "ax.set_ylabel(\"N\")\n",
    "\n"
   ]
  }
 ],
 "metadata": {
  "jupytext": {
   "formats": "ipynb,md"
  },
  "kernelspec": {
   "display_name": "Python 3 (ipykernel)",
   "language": "python",
   "name": "python3"
  },
  "language_info": {
   "codemirror_mode": {
    "name": "ipython",
    "version": 3
   },
   "file_extension": ".py",
   "mimetype": "text/x-python",
   "name": "python",
   "nbconvert_exporter": "python",
   "pygments_lexer": "ipython3",
   "version": "3.9.13"
  },
  "papermill": {
   "default_parameters": {},
   "duration": 2.495977,
   "end_time": "2025-02-05T00:53:54.817849",
   "environment_variables": {},
   "exception": null,
   "input_path": "Cauchy.ipynb",
   "output_path": "/Users/runner/work/astromodels/astromodels/docs/notebooks/Cauchy.ipynb",
   "parameters": {
    "func_name": "Cauchy",
    "positive_prior": false
   },
   "start_time": "2025-02-05T00:53:52.321872",
   "version": "2.6.0"
  }
 },
 "nbformat": 4,
 "nbformat_minor": 5
}
