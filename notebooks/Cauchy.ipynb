{
 "cells": [
  {
   "cell_type": "markdown",
   "id": "2069fa63",
   "metadata": {
    "papermill": {
     "duration": 0.004892,
     "end_time": "2024-02-06T23:23:32.608239",
     "exception": false,
     "start_time": "2024-02-06T23:23:32.603347",
     "status": "completed"
    },
    "tags": []
   },
   "source": [
    "# Cauchy"
   ]
  },
  {
   "cell_type": "code",
   "execution_count": 1,
   "id": "e93abcc6",
   "metadata": {
    "execution": {
     "iopub.execute_input": "2024-02-06T23:23:32.617122Z",
     "iopub.status.busy": "2024-02-06T23:23:32.616669Z",
     "iopub.status.idle": "2024-02-06T23:23:37.057521Z",
     "shell.execute_reply": "2024-02-06T23:23:37.054501Z"
    },
    "nbsphinx": "hidden",
    "papermill": {
     "duration": 4.452848,
     "end_time": "2024-02-06T23:23:37.064581",
     "exception": false,
     "start_time": "2024-02-06T23:23:32.611733",
     "status": "completed"
    },
    "tags": []
   },
   "outputs": [],
   "source": [
    "%%capture\n",
    "\n",
    "import numpy as np\n",
    "\n",
    "import matplotlib.pyplot as plt\n",
    "\n",
    "import warnings\n",
    "warnings.simplefilter(\"ignore\")\n",
    "\n",
    "from astromodels.functions.function import _known_functions\n",
    "\n",
    "\n",
    "from jupyterthemes import jtplot\n",
    "jtplot.style(context=\"talk\", fscale=1, ticks=True, grid=False)\n",
    "%matplotlib inline"
   ]
  },
  {
   "cell_type": "code",
   "execution_count": 2,
   "id": "7a2ce75b",
   "metadata": {
    "execution": {
     "iopub.execute_input": "2024-02-06T23:23:37.076315Z",
     "iopub.status.busy": "2024-02-06T23:23:37.075488Z",
     "iopub.status.idle": "2024-02-06T23:23:37.085731Z",
     "shell.execute_reply": "2024-02-06T23:23:37.083595Z"
    },
    "nbsphinx": "hidden",
    "papermill": {
     "duration": 0.024791,
     "end_time": "2024-02-06T23:23:37.092759",
     "exception": false,
     "start_time": "2024-02-06T23:23:37.067968",
     "status": "completed"
    },
    "tags": [
     "parameters"
    ]
   },
   "outputs": [],
   "source": [
    "func_name = \"TbAbs\"\n",
    "\n",
    "positive_prior = False\n"
   ]
  },
  {
   "cell_type": "code",
   "execution_count": 3,
   "id": "a1dcb02d",
   "metadata": {
    "execution": {
     "iopub.execute_input": "2024-02-06T23:23:37.107055Z",
     "iopub.status.busy": "2024-02-06T23:23:37.106479Z",
     "iopub.status.idle": "2024-02-06T23:23:37.116560Z",
     "shell.execute_reply": "2024-02-06T23:23:37.113692Z"
    },
    "papermill": {
     "duration": 0.024384,
     "end_time": "2024-02-06T23:23:37.122798",
     "exception": false,
     "start_time": "2024-02-06T23:23:37.098414",
     "status": "completed"
    },
    "tags": [
     "injected-parameters"
    ]
   },
   "outputs": [],
   "source": [
    "# Parameters\n",
    "func_name = \"Cauchy\"\n",
    "positive_prior = False\n"
   ]
  },
  {
   "cell_type": "code",
   "execution_count": 4,
   "id": "0c919d7e",
   "metadata": {
    "execution": {
     "iopub.execute_input": "2024-02-06T23:23:37.134886Z",
     "iopub.status.busy": "2024-02-06T23:23:37.134187Z",
     "iopub.status.idle": "2024-02-06T23:23:37.146159Z",
     "shell.execute_reply": "2024-02-06T23:23:37.143220Z"
    },
    "lines_to_next_cell": 0,
    "nbsphinx": "hidden",
    "papermill": {
     "duration": 0.026489,
     "end_time": "2024-02-06T23:23:37.154010",
     "exception": false,
     "start_time": "2024-02-06T23:23:37.127521",
     "status": "completed"
    },
    "tags": []
   },
   "outputs": [],
   "source": [
    "func = _known_functions[func_name]()\n",
    "\n",
    "if not positive_prior:\n",
    "\n",
    "\tenergy_grid = np.linspace(-5,5,1000)\n",
    "\n",
    "else:\n",
    "    \n",
    "    energy_grid = np.linspace(0,1,1000)\n",
    "    \n",
    "    \n",
    "    \n",
    "    \n",
    "blue = \"#4152E3\"\n",
    "red = \"#E3414B\"\n",
    "green = \"#41E39E\""
   ]
  },
  {
   "cell_type": "markdown",
   "id": "da7c899f",
   "metadata": {
    "lines_to_next_cell": 0,
    "papermill": {
     "duration": 0.005225,
     "end_time": "2024-02-06T23:23:37.164064",
     "exception": false,
     "start_time": "2024-02-06T23:23:37.158839",
     "status": "completed"
    },
    "tags": []
   },
   "source": [
    "## Description"
   ]
  },
  {
   "cell_type": "code",
   "execution_count": 5,
   "id": "bdab14e3",
   "metadata": {
    "execution": {
     "iopub.execute_input": "2024-02-06T23:23:37.176389Z",
     "iopub.status.busy": "2024-02-06T23:23:37.175462Z",
     "iopub.status.idle": "2024-02-06T23:23:37.198275Z",
     "shell.execute_reply": "2024-02-06T23:23:37.195153Z"
    },
    "papermill": {
     "duration": 0.035103,
     "end_time": "2024-02-06T23:23:37.204493",
     "exception": false,
     "start_time": "2024-02-06T23:23:37.169390",
     "status": "completed"
    },
    "tags": []
   },
   "outputs": [
    {
     "data": {
      "text/html": [
       "<ul>\n",
       "\n",
       "<li>description: The Cauchy distribution</li>\n",
       "\n",
       "<li>formula: $ K \\frac{1}{ \\gamma \\pi} \\left[ \\frac{\\gamma^2}{(x-x_0)^2 + \\gamma^2}  \\right] $</li>\n",
       "\n",
       "<li>parameters: \n",
       "<ul>\n",
       "\n",
       "<li>K: \n",
       "<ul>\n",
       "\n",
       "<li>value: 1.0</li>\n",
       "\n",
       "<li>desc: Integral between -inf and +inf. Fix this to 1 to obtain a Cauchy distribution</li>\n",
       "\n",
       "<li>min_value: None</li>\n",
       "\n",
       "<li>max_value: None</li>\n",
       "\n",
       "<li>unit: </li>\n",
       "\n",
       "<li>is_normalization: False</li>\n",
       "\n",
       "<li>delta: 0.1</li>\n",
       "\n",
       "<li>free: True</li>\n",
       "\n",
       "</ul>\n",
       "\n",
       "</li>\n",
       "\n",
       "<li>x0: \n",
       "<ul>\n",
       "\n",
       "<li>value: 0.0</li>\n",
       "\n",
       "<li>desc: Central value</li>\n",
       "\n",
       "<li>min_value: None</li>\n",
       "\n",
       "<li>max_value: None</li>\n",
       "\n",
       "<li>unit: </li>\n",
       "\n",
       "<li>is_normalization: False</li>\n",
       "\n",
       "<li>delta: 0.1</li>\n",
       "\n",
       "<li>free: True</li>\n",
       "\n",
       "</ul>\n",
       "\n",
       "</li>\n",
       "\n",
       "<li>gamma: \n",
       "<ul>\n",
       "\n",
       "<li>value: 1.0</li>\n",
       "\n",
       "<li>desc: standard deviation</li>\n",
       "\n",
       "<li>min_value: 1e-12</li>\n",
       "\n",
       "<li>max_value: None</li>\n",
       "\n",
       "<li>unit: </li>\n",
       "\n",
       "<li>is_normalization: False</li>\n",
       "\n",
       "<li>delta: 0.1</li>\n",
       "\n",
       "<li>free: True</li>\n",
       "\n",
       "</ul>\n",
       "\n",
       "</li>\n",
       "\n",
       "</ul>\n",
       "\n",
       "</li>\n",
       "\n",
       "</ul>\n"
      ],
      "text/plain": [
       "  * description: The Cauchy distribution\n",
       "  * formula: $ K \\frac{1}{ \\gamma \\pi} \\left[ \\frac{\\gamma^2}{(x-x_0)^2 + \\gamma^2}  \\right]\n",
       "    * $\n",
       "  * parameters:\n",
       "    * K:\n",
       "      * value: 1.0\n",
       "      * desc: Integral between -inf and +inf. Fix this to 1 to obtain a Cauchy distribution\n",
       "      * min_value: null\n",
       "      * max_value: null\n",
       "      * unit: ''\n",
       "      * is_normalization: false\n",
       "      * delta: 0.1\n",
       "      * free: true\n",
       "    * x0:\n",
       "      * value: 0.0\n",
       "      * desc: Central value\n",
       "      * min_value: null\n",
       "      * max_value: null\n",
       "      * unit: ''\n",
       "      * is_normalization: false\n",
       "      * delta: 0.1\n",
       "      * free: true\n",
       "    * gamma:\n",
       "      * value: 1.0\n",
       "      * desc: standard deviation\n",
       "      * min_value: 1.0e-12\n",
       "      * max_value: null\n",
       "      * unit: ''\n",
       "      * is_normalization: false\n",
       "      * delta: 0.1\n",
       "      * free: true"
      ]
     },
     "metadata": {},
     "output_type": "display_data"
    }
   ],
   "source": [
    "func.display()"
   ]
  },
  {
   "cell_type": "markdown",
   "id": "c963aa82",
   "metadata": {
    "papermill": {
     "duration": 0.004938,
     "end_time": "2024-02-06T23:23:37.213061",
     "exception": false,
     "start_time": "2024-02-06T23:23:37.208123",
     "status": "completed"
    },
    "tags": []
   },
   "source": [
    "## Shape \n",
    "\n",
    "The shape of the function. \n",
    "\n",
    "*If this is not a photon model but a prior or linear function then ignore the units as these docs are auto-generated*"
   ]
  },
  {
   "cell_type": "code",
   "execution_count": 6,
   "id": "f9c430b4",
   "metadata": {
    "execution": {
     "iopub.execute_input": "2024-02-06T23:23:37.223703Z",
     "iopub.status.busy": "2024-02-06T23:23:37.223210Z",
     "iopub.status.idle": "2024-02-06T23:23:37.607922Z",
     "shell.execute_reply": "2024-02-06T23:23:37.605805Z"
    },
    "papermill": {
     "duration": 0.398403,
     "end_time": "2024-02-06T23:23:37.615428",
     "exception": false,
     "start_time": "2024-02-06T23:23:37.217025",
     "status": "completed"
    },
    "tags": [
     "nbsphinx-thumbnail"
    ]
   },
   "outputs": [
    {
     "data": {
      "text/plain": [
       "Text(0, 0.5, 'probability')"
      ]
     },
     "execution_count": 6,
     "metadata": {},
     "output_type": "execute_result"
    },
    {
     "data": {
      "image/png": "[encoded data removed]",
      "text/plain": [
       "<Figure size 1040x910 with 1 Axes>"
      ]
     },
     "metadata": {},
     "output_type": "display_data"
    }
   ],
   "source": [
    "fig, ax = plt.subplots()\n",
    "\n",
    "\n",
    "ax.plot(energy_grid, func(energy_grid), color=blue, lw=3)\n",
    "\n",
    "ax.set_xlabel(\"x\")\n",
    "ax.set_ylabel(\"probability\")\n"
   ]
  },
  {
   "cell_type": "markdown",
   "id": "020dea3d",
   "metadata": {
    "papermill": {
     "duration": 0.007751,
     "end_time": "2024-02-06T23:23:37.630669",
     "exception": false,
     "start_time": "2024-02-06T23:23:37.622918",
     "status": "completed"
    },
    "tags": []
   },
   "source": [
    "## Random Number Generation\n",
    "\n",
    "This is how we can generate random numbers from the prior.\n"
   ]
  },
  {
   "cell_type": "code",
   "execution_count": 7,
   "id": "23681857",
   "metadata": {
    "execution": {
     "iopub.execute_input": "2024-02-06T23:23:37.645227Z",
     "iopub.status.busy": "2024-02-06T23:23:37.643786Z",
     "iopub.status.idle": "2024-02-06T23:23:38.230036Z",
     "shell.execute_reply": "2024-02-06T23:23:38.226849Z"
    },
    "papermill": {
     "duration": 0.602722,
     "end_time": "2024-02-06T23:23:38.239136",
     "exception": false,
     "start_time": "2024-02-06T23:23:37.636414",
     "status": "completed"
    },
    "tags": []
   },
   "outputs": [
    {
     "data": {
      "text/plain": [
       "Text(0, 0.5, 'N')"
      ]
     },
     "execution_count": 7,
     "metadata": {},
     "output_type": "execute_result"
    },
    {
     "data": {
      "image/png": "[encoded data removed]",
      "text/plain": [
       "<Figure size 1040x910 with 1 Axes>"
      ]
     },
     "metadata": {},
     "output_type": "display_data"
    }
   ],
   "source": [
    "\n",
    "\n",
    "u = np.random.uniform(0,1, size=5000)\n",
    "\n",
    "draws = [func.from_unit_cube(x) for x in u]\n",
    "\n",
    "\n",
    "fig, ax = plt.subplots()\n",
    "\n",
    "\n",
    "ax.hist(draws, color=green, bins=50)\n",
    "\n",
    "ax.set_xlabel(\"value\")\n",
    "ax.set_ylabel(\"N\")\n",
    "\n"
   ]
  }
 ],
 "metadata": {
  "jupytext": {
   "formats": "ipynb,md"
  },
  "kernelspec": {
   "display_name": "Python 3 (ipykernel)",
   "language": "python",
   "name": "python3"
  },
  "language_info": {
   "codemirror_mode": {
    "name": "ipython",
    "version": 3
   },
   "file_extension": ".py",
   "mimetype": "text/x-python",
   "name": "python",
   "nbconvert_exporter": "python",
   "pygments_lexer": "ipython3",
   "version": "3.9.18"
  },
  "papermill": {
   "default_parameters": {},
   "duration": 7.700664,
   "end_time": "2024-02-06T23:23:39.094038",
   "environment_variables": {},
   "exception": null,
   "input_path": "Cauchy.ipynb",
   "output_path": "/Users/runner/work/astromodels/astromodels/docs/notebooks/Cauchy.ipynb",
   "parameters": {
    "func_name": "Cauchy",
    "positive_prior": false
   },
   "start_time": "2024-02-06T23:23:31.393374",
   "version": "2.5.0"
  }
 },
 "nbformat": 4,
 "nbformat_minor": 5
}
