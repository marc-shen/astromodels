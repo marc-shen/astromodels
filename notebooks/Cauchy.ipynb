{
 "cells": [
  {
   "cell_type": "markdown",
   "id": "a07c455c",
   "metadata": {
    "papermill": {
     "duration": 0.004333,
     "end_time": "2022-09-29T21:55:12.839600",
     "exception": false,
     "start_time": "2022-09-29T21:55:12.835267",
     "status": "completed"
    },
    "tags": []
   },
   "source": [
    "# Cauchy"
   ]
  },
  {
   "cell_type": "code",
   "execution_count": 1,
   "id": "5495c60d",
   "metadata": {
    "execution": {
     "iopub.execute_input": "2022-09-29T21:55:12.849282Z",
     "iopub.status.busy": "2022-09-29T21:55:12.848047Z",
     "iopub.status.idle": "2022-09-29T21:55:17.142658Z",
     "shell.execute_reply": "2022-09-29T21:55:17.141382Z"
    },
    "nbsphinx": "hidden",
    "papermill": {
     "duration": 4.302928,
     "end_time": "2022-09-29T21:55:17.146298",
     "exception": false,
     "start_time": "2022-09-29T21:55:12.843370",
     "status": "completed"
    },
    "tags": []
   },
   "outputs": [],
   "source": [
    "%%capture\n",
    "\n",
    "import numpy as np\n",
    "\n",
    "import matplotlib.pyplot as plt\n",
    "\n",
    "import warnings\n",
    "warnings.simplefilter(\"ignore\")\n",
    "\n",
    "from astromodels.functions.function import _known_functions\n",
    "\n",
    "\n",
    "from jupyterthemes import jtplot\n",
    "jtplot.style(context=\"talk\", fscale=1, ticks=True, grid=False)\n",
    "%matplotlib inline"
   ]
  },
  {
   "cell_type": "code",
   "execution_count": 2,
   "id": "8f8b4f71",
   "metadata": {
    "execution": {
     "iopub.execute_input": "2022-09-29T21:55:17.156869Z",
     "iopub.status.busy": "2022-09-29T21:55:17.156413Z",
     "iopub.status.idle": "2022-09-29T21:55:17.163246Z",
     "shell.execute_reply": "2022-09-29T21:55:17.161241Z"
    },
    "nbsphinx": "hidden",
    "papermill": {
     "duration": 0.015053,
     "end_time": "2022-09-29T21:55:17.166566",
     "exception": false,
     "start_time": "2022-09-29T21:55:17.151513",
     "status": "completed"
    },
    "tags": [
     "parameters"
    ]
   },
   "outputs": [],
   "source": [
    "func_name = \"TbAbs\"\n",
    "\n",
    "positive_prior = False\n"
   ]
  },
  {
   "cell_type": "code",
   "execution_count": 3,
   "id": "b60d087c",
   "metadata": {
    "execution": {
     "iopub.execute_input": "2022-09-29T21:55:17.176565Z",
     "iopub.status.busy": "2022-09-29T21:55:17.176115Z",
     "iopub.status.idle": "2022-09-29T21:55:17.182485Z",
     "shell.execute_reply": "2022-09-29T21:55:17.181293Z"
    },
    "papermill": {
     "duration": 0.01447,
     "end_time": "2022-09-29T21:55:17.185765",
     "exception": false,
     "start_time": "2022-09-29T21:55:17.171295",
     "status": "completed"
    },
    "tags": [
     "injected-parameters"
    ]
   },
   "outputs": [],
   "source": [
    "# Parameters\n",
    "func_name = \"Cauchy\"\n",
    "positive_prior = False\n"
   ]
  },
  {
   "cell_type": "code",
   "execution_count": 4,
   "id": "7ecf190f",
   "metadata": {
    "execution": {
     "iopub.execute_input": "2022-09-29T21:55:17.194791Z",
     "iopub.status.busy": "2022-09-29T21:55:17.194335Z",
     "iopub.status.idle": "2022-09-29T21:55:17.203081Z",
     "shell.execute_reply": "2022-09-29T21:55:17.201373Z"
    },
    "lines_to_next_cell": 0,
    "nbsphinx": "hidden",
    "papermill": {
     "duration": 0.020236,
     "end_time": "2022-09-29T21:55:17.209192",
     "exception": false,
     "start_time": "2022-09-29T21:55:17.188956",
     "status": "completed"
    },
    "tags": []
   },
   "outputs": [],
   "source": [
    "func = _known_functions[func_name]()\n",
    "\n",
    "if not positive_prior:\n",
    "\n",
    "\tenergy_grid = np.linspace(-5,5,1000)\n",
    "\n",
    "else:\n",
    "    \n",
    "    energy_grid = np.linspace(0,1,1000)\n",
    "    \n",
    "    \n",
    "    \n",
    "    \n",
    "blue = \"#4152E3\"\n",
    "red = \"#E3414B\"\n",
    "green = \"#41E39E\""
   ]
  },
  {
   "cell_type": "markdown",
   "id": "d050ac3f",
   "metadata": {
    "lines_to_next_cell": 0,
    "papermill": {
     "duration": 0.003434,
     "end_time": "2022-09-29T21:55:17.215934",
     "exception": false,
     "start_time": "2022-09-29T21:55:17.212500",
     "status": "completed"
    },
    "tags": []
   },
   "source": [
    "## Description"
   ]
  },
  {
   "cell_type": "code",
   "execution_count": 5,
   "id": "ab6ac5e6",
   "metadata": {
    "execution": {
     "iopub.execute_input": "2022-09-29T21:55:17.225641Z",
     "iopub.status.busy": "2022-09-29T21:55:17.225160Z",
     "iopub.status.idle": "2022-09-29T21:55:17.238469Z",
     "shell.execute_reply": "2022-09-29T21:55:17.235433Z"
    },
    "papermill": {
     "duration": 0.022076,
     "end_time": "2022-09-29T21:55:17.241912",
     "exception": false,
     "start_time": "2022-09-29T21:55:17.219836",
     "status": "completed"
    },
    "tags": []
   },
   "outputs": [
    {
     "data": {
      "text/html": [
       "<ul>\n",
       "\n",
       "<li>description: The Cauchy distribution</li>\n",
       "\n",
       "<li>formula: $ K \\frac{1}{ \\gamma \\pi} \\left[ \\frac{\\gamma^2}{(x-x_0)^2 + \\gamma^2}  \\right] $</li>\n",
       "\n",
       "<li>parameters: \n",
       "<ul>\n",
       "\n",
       "<li>K: \n",
       "<ul>\n",
       "\n",
       "<li>value: 1.0</li>\n",
       "\n",
       "<li>desc: Integral between -inf and +inf. Fix this to 1 to obtain a Cauchy distribution</li>\n",
       "\n",
       "<li>min_value: None</li>\n",
       "\n",
       "<li>max_value: None</li>\n",
       "\n",
       "<li>unit: </li>\n",
       "\n",
       "<li>is_normalization: False</li>\n",
       "\n",
       "<li>delta: 0.1</li>\n",
       "\n",
       "<li>free: True</li>\n",
       "\n",
       "</ul>\n",
       "\n",
       "</li>\n",
       "\n",
       "<li>x0: \n",
       "<ul>\n",
       "\n",
       "<li>value: 0.0</li>\n",
       "\n",
       "<li>desc: Central value</li>\n",
       "\n",
       "<li>min_value: None</li>\n",
       "\n",
       "<li>max_value: None</li>\n",
       "\n",
       "<li>unit: </li>\n",
       "\n",
       "<li>is_normalization: False</li>\n",
       "\n",
       "<li>delta: 0.1</li>\n",
       "\n",
       "<li>free: True</li>\n",
       "\n",
       "</ul>\n",
       "\n",
       "</li>\n",
       "\n",
       "<li>gamma: \n",
       "<ul>\n",
       "\n",
       "<li>value: 1.0</li>\n",
       "\n",
       "<li>desc: standard deviation</li>\n",
       "\n",
       "<li>min_value: 1e-12</li>\n",
       "\n",
       "<li>max_value: None</li>\n",
       "\n",
       "<li>unit: </li>\n",
       "\n",
       "<li>is_normalization: False</li>\n",
       "\n",
       "<li>delta: 0.1</li>\n",
       "\n",
       "<li>free: True</li>\n",
       "\n",
       "</ul>\n",
       "\n",
       "</li>\n",
       "\n",
       "</ul>\n",
       "\n",
       "</li>\n",
       "\n",
       "</ul>\n"
      ],
      "text/plain": [
       "  * description: The Cauchy distribution\n",
       "  * formula: $ K \\frac{1}{ \\gamma \\pi} \\left[ \\frac{\\gamma^2}{(x-x_0)^2 + \\gamma^2}  \\right]\n",
       "    * $\n",
       "  * parameters:\n",
       "    * K:\n",
       "      * value: 1.0\n",
       "      * desc: Integral between -inf and +inf. Fix this to 1 to obtain a Cauchy distribution\n",
       "      * min_value: null\n",
       "      * max_value: null\n",
       "      * unit: ''\n",
       "      * is_normalization: false\n",
       "      * delta: 0.1\n",
       "      * free: true\n",
       "    * x0:\n",
       "      * value: 0.0\n",
       "      * desc: Central value\n",
       "      * min_value: null\n",
       "      * max_value: null\n",
       "      * unit: ''\n",
       "      * is_normalization: false\n",
       "      * delta: 0.1\n",
       "      * free: true\n",
       "    * gamma:\n",
       "      * value: 1.0\n",
       "      * desc: standard deviation\n",
       "      * min_value: 1.0e-12\n",
       "      * max_value: null\n",
       "      * unit: ''\n",
       "      * is_normalization: false\n",
       "      * delta: 0.1\n",
       "      * free: true"
      ]
     },
     "metadata": {},
     "output_type": "display_data"
    }
   ],
   "source": [
    "func.display()"
   ]
  },
  {
   "cell_type": "markdown",
   "id": "d507dbc7",
   "metadata": {
    "papermill": {
     "duration": 0.00349,
     "end_time": "2022-09-29T21:55:17.248817",
     "exception": false,
     "start_time": "2022-09-29T21:55:17.245327",
     "status": "completed"
    },
    "tags": []
   },
   "source": [
    "## Shape \n",
    "\n",
    "The shape of the function. \n",
    "\n",
    "*If this is not a photon model but a prior or linear function then ignore the units as these docs are auto-generated*"
   ]
  },
  {
   "cell_type": "code",
   "execution_count": 6,
   "id": "a35a9afb",
   "metadata": {
    "execution": {
     "iopub.execute_input": "2022-09-29T21:55:17.257831Z",
     "iopub.status.busy": "2022-09-29T21:55:17.257379Z",
     "iopub.status.idle": "2022-09-29T21:55:18.139046Z",
     "shell.execute_reply": "2022-09-29T21:55:18.137240Z"
    },
    "papermill": {
     "duration": 0.890403,
     "end_time": "2022-09-29T21:55:18.142729",
     "exception": false,
     "start_time": "2022-09-29T21:55:17.252326",
     "status": "completed"
    },
    "tags": [
     "nbsphinx-thumbnail"
    ]
   },
   "outputs": [
    {
     "data": {
      "text/plain": [
       "Text(0, 0.5, 'probability')"
      ]
     },
     "execution_count": 6,
     "metadata": {},
     "output_type": "execute_result"
    },
    {
     "data": {
      "image/png": "[encoded data removed]",
      "text/plain": [
       "<Figure size 1040x910 with 1 Axes>"
      ]
     },
     "metadata": {},
     "output_type": "display_data"
    }
   ],
   "source": [
    "fig, ax = plt.subplots()\n",
    "\n",
    "\n",
    "ax.plot(energy_grid, func(energy_grid), color=blue, lw=3)\n",
    "\n",
    "ax.set_xlabel(\"x\")\n",
    "ax.set_ylabel(\"probability\")\n"
   ]
  },
  {
   "cell_type": "markdown",
   "id": "35db21df",
   "metadata": {
    "papermill": {
     "duration": 0.004431,
     "end_time": "2022-09-29T21:55:18.151240",
     "exception": false,
     "start_time": "2022-09-29T21:55:18.146809",
     "status": "completed"
    },
    "tags": []
   },
   "source": [
    "## Random Number Generation\n",
    "\n",
    "This is how we can generate random numbers from the prior.\n"
   ]
  },
  {
   "cell_type": "code",
   "execution_count": 7,
   "id": "e6fd57ab",
   "metadata": {
    "execution": {
     "iopub.execute_input": "2022-09-29T21:55:18.161489Z",
     "iopub.status.busy": "2022-09-29T21:55:18.160981Z",
     "iopub.status.idle": "2022-09-29T21:55:18.893512Z",
     "shell.execute_reply": "2022-09-29T21:55:18.892307Z"
    },
    "papermill": {
     "duration": 0.741849,
     "end_time": "2022-09-29T21:55:18.896826",
     "exception": false,
     "start_time": "2022-09-29T21:55:18.154977",
     "status": "completed"
    },
    "tags": []
   },
   "outputs": [
    {
     "data": {
      "text/plain": [
       "Text(0, 0.5, 'N')"
      ]
     },
     "execution_count": 7,
     "metadata": {},
     "output_type": "execute_result"
    },
    {
     "data": {
      "image/png": "[encoded data removed]",
      "text/plain": [
       "<Figure size 1040x910 with 1 Axes>"
      ]
     },
     "metadata": {},
     "output_type": "display_data"
    }
   ],
   "source": [
    "\n",
    "\n",
    "u = np.random.uniform(0,1, size=5000)\n",
    "\n",
    "draws = [func.from_unit_cube(x) for x in u]\n",
    "\n",
    "\n",
    "fig, ax = plt.subplots()\n",
    "\n",
    "\n",
    "ax.hist(draws, color=green, bins=50)\n",
    "\n",
    "ax.set_xlabel(\"value\")\n",
    "ax.set_ylabel(\"N\")\n",
    "\n"
   ]
  }
 ],
 "metadata": {
  "jupytext": {
   "formats": "ipynb,md"
  },
  "kernelspec": {
   "display_name": "Python 3 (ipykernel)",
   "language": "python",
   "name": "python3"
  },
  "language_info": {
   "codemirror_mode": {
    "name": "ipython",
    "version": 3
   },
   "file_extension": ".py",
   "mimetype": "text/x-python",
   "name": "python",
   "nbconvert_exporter": "python",
   "pygments_lexer": "ipython3",
   "version": "3.9.14"
  },
  "papermill": {
   "default_parameters": {},
   "duration": 8.739981,
   "end_time": "2022-09-29T21:55:20.150119",
   "environment_variables": {},
   "exception": null,
   "input_path": "Cauchy.ipynb",
   "output_path": "/Users/runner/work/astromodels/astromodels/docs/notebooks/Cauchy.ipynb",
   "parameters": {
    "func_name": "Cauchy",
    "positive_prior": false
   },
   "start_time": "2022-09-29T21:55:11.410138",
   "version": "2.4.0"
  }
 },
 "nbformat": 4,
 "nbformat_minor": 5
}
