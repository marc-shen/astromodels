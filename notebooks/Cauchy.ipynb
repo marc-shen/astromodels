{
 "cells": [
  {
   "cell_type": "markdown",
   "id": "3fa6d06d",
   "metadata": {
    "papermill": {
     "duration": 0.00625,
     "end_time": "2025-04-29T23:20:42.512258",
     "exception": false,
     "start_time": "2025-04-29T23:20:42.506008",
     "status": "completed"
    },
    "tags": []
   },
   "source": [
    "# Cauchy"
   ]
  },
  {
   "cell_type": "code",
   "execution_count": 1,
   "id": "0edfe71b",
   "metadata": {
    "execution": {
     "iopub.execute_input": "2025-04-29T23:20:42.525402Z",
     "iopub.status.busy": "2025-04-29T23:20:42.524745Z",
     "iopub.status.idle": "2025-04-29T23:20:44.608869Z",
     "shell.execute_reply": "2025-04-29T23:20:44.607988Z"
    },
    "nbsphinx": "hidden",
    "papermill": {
     "duration": 2.093177,
     "end_time": "2025-04-29T23:20:44.611323",
     "exception": false,
     "start_time": "2025-04-29T23:20:42.518146",
     "status": "completed"
    },
    "tags": []
   },
   "outputs": [],
   "source": [
    "%%capture\n",
    "\n",
    "import numpy as np\n",
    "\n",
    "import matplotlib.pyplot as plt\n",
    "\n",
    "import warnings\n",
    "warnings.simplefilter(\"ignore\")\n",
    "\n",
    "from astromodels.functions.function import _known_functions\n",
    "\n",
    "\n",
    "from jupyterthemes import jtplot\n",
    "jtplot.style(context=\"talk\", fscale=1, ticks=True, grid=False)\n",
    "%matplotlib inline"
   ]
  },
  {
   "cell_type": "code",
   "execution_count": 2,
   "id": "2d26cc21",
   "metadata": {
    "execution": {
     "iopub.execute_input": "2025-04-29T23:20:44.617150Z",
     "iopub.status.busy": "2025-04-29T23:20:44.616441Z",
     "iopub.status.idle": "2025-04-29T23:20:44.620899Z",
     "shell.execute_reply": "2025-04-29T23:20:44.619911Z"
    },
    "nbsphinx": "hidden",
    "papermill": {
     "duration": 0.009595,
     "end_time": "2025-04-29T23:20:44.622846",
     "exception": false,
     "start_time": "2025-04-29T23:20:44.613251",
     "status": "completed"
    },
    "tags": [
     "parameters"
    ]
   },
   "outputs": [],
   "source": [
    "func_name = \"TbAbs\"\n",
    "\n",
    "positive_prior = False\n"
   ]
  },
  {
   "cell_type": "code",
   "execution_count": 3,
   "id": "b02d39d1",
   "metadata": {
    "execution": {
     "iopub.execute_input": "2025-04-29T23:20:44.627192Z",
     "iopub.status.busy": "2025-04-29T23:20:44.626853Z",
     "iopub.status.idle": "2025-04-29T23:20:44.630552Z",
     "shell.execute_reply": "2025-04-29T23:20:44.629662Z"
    },
    "papermill": {
     "duration": 0.007737,
     "end_time": "2025-04-29T23:20:44.632163",
     "exception": false,
     "start_time": "2025-04-29T23:20:44.624426",
     "status": "completed"
    },
    "tags": [
     "injected-parameters"
    ]
   },
   "outputs": [],
   "source": [
    "# Parameters\n",
    "func_name = \"Cauchy\"\n",
    "positive_prior = False\n"
   ]
  },
  {
   "cell_type": "code",
   "execution_count": 4,
   "id": "269b4825",
   "metadata": {
    "execution": {
     "iopub.execute_input": "2025-04-29T23:20:44.636135Z",
     "iopub.status.busy": "2025-04-29T23:20:44.635870Z",
     "iopub.status.idle": "2025-04-29T23:20:44.641646Z",
     "shell.execute_reply": "2025-04-29T23:20:44.640831Z"
    },
    "lines_to_next_cell": 0,
    "nbsphinx": "hidden",
    "papermill": {
     "duration": 0.010084,
     "end_time": "2025-04-29T23:20:44.643680",
     "exception": false,
     "start_time": "2025-04-29T23:20:44.633596",
     "status": "completed"
    },
    "tags": []
   },
   "outputs": [],
   "source": [
    "func = _known_functions[func_name]()\n",
    "\n",
    "if not positive_prior:\n",
    "\n",
    "\tenergy_grid = np.linspace(-5,5,1000)\n",
    "\n",
    "else:\n",
    "    \n",
    "    energy_grid = np.linspace(0,1,1000)\n",
    "    \n",
    "    \n",
    "    \n",
    "    \n",
    "blue = \"#4152E3\"\n",
    "red = \"#E3414B\"\n",
    "green = \"#41E39E\""
   ]
  },
  {
   "cell_type": "markdown",
   "id": "74313df8",
   "metadata": {
    "lines_to_next_cell": 0,
    "papermill": {
     "duration": 0.001508,
     "end_time": "2025-04-29T23:20:44.646746",
     "exception": false,
     "start_time": "2025-04-29T23:20:44.645238",
     "status": "completed"
    },
    "tags": []
   },
   "source": [
    "## Description"
   ]
  },
  {
   "cell_type": "code",
   "execution_count": 5,
   "id": "0b21a1cf",
   "metadata": {
    "execution": {
     "iopub.execute_input": "2025-04-29T23:20:44.650748Z",
     "iopub.status.busy": "2025-04-29T23:20:44.650310Z",
     "iopub.status.idle": "2025-04-29T23:20:44.657120Z",
     "shell.execute_reply": "2025-04-29T23:20:44.656040Z"
    },
    "papermill": {
     "duration": 0.011298,
     "end_time": "2025-04-29T23:20:44.659401",
     "exception": false,
     "start_time": "2025-04-29T23:20:44.648103",
     "status": "completed"
    },
    "tags": []
   },
   "outputs": [
    {
     "data": {
      "text/html": [
       "<ul>\n",
       "\n",
       "<li>description: The Cauchy distribution</li>\n",
       "\n",
       "<li>formula: $ K \\frac{1}{ \\gamma \\pi} \\left[ \\frac{\\gamma^2}{(x-x_0)^2 + \\gamma^2}  \\right] $</li>\n",
       "\n",
       "<li>parameters: \n",
       "<ul>\n",
       "\n",
       "<li>K: \n",
       "<ul>\n",
       "\n",
       "<li>value: 1.0</li>\n",
       "\n",
       "<li>desc: Integral between -inf and +inf. Fix this to 1 to obtain a Cauchy distribution</li>\n",
       "\n",
       "<li>min_value: None</li>\n",
       "\n",
       "<li>max_value: None</li>\n",
       "\n",
       "<li>unit: </li>\n",
       "\n",
       "<li>is_normalization: False</li>\n",
       "\n",
       "<li>delta: 0.1</li>\n",
       "\n",
       "<li>free: True</li>\n",
       "\n",
       "</ul>\n",
       "\n",
       "</li>\n",
       "\n",
       "<li>x0: \n",
       "<ul>\n",
       "\n",
       "<li>value: 0.0</li>\n",
       "\n",
       "<li>desc: Central value</li>\n",
       "\n",
       "<li>min_value: None</li>\n",
       "\n",
       "<li>max_value: None</li>\n",
       "\n",
       "<li>unit: </li>\n",
       "\n",
       "<li>is_normalization: False</li>\n",
       "\n",
       "<li>delta: 0.1</li>\n",
       "\n",
       "<li>free: True</li>\n",
       "\n",
       "</ul>\n",
       "\n",
       "</li>\n",
       "\n",
       "<li>gamma: \n",
       "<ul>\n",
       "\n",
       "<li>value: 1.0</li>\n",
       "\n",
       "<li>desc: standard deviation</li>\n",
       "\n",
       "<li>min_value: 1e-12</li>\n",
       "\n",
       "<li>max_value: None</li>\n",
       "\n",
       "<li>unit: </li>\n",
       "\n",
       "<li>is_normalization: False</li>\n",
       "\n",
       "<li>delta: 0.1</li>\n",
       "\n",
       "<li>free: True</li>\n",
       "\n",
       "</ul>\n",
       "\n",
       "</li>\n",
       "\n",
       "</ul>\n",
       "\n",
       "</li>\n",
       "\n",
       "</ul>\n"
      ],
      "text/plain": [
       "  * description: The Cauchy distribution\n",
       "  * formula: $ K \\frac{1}{ \\gamma \\pi} \\left[ \\frac{\\gamma^2}{(x-x_0)^2 + \\gamma^2}  \\right]\n",
       "    * $\n",
       "  * parameters:\n",
       "    * K:\n",
       "      * value: 1.0\n",
       "      * desc: Integral between -inf and +inf. Fix this to 1 to obtain a Cauchy distribution\n",
       "      * min_value: null\n",
       "      * max_value: null\n",
       "      * unit: ''\n",
       "      * is_normalization: false\n",
       "      * delta: 0.1\n",
       "      * free: true\n",
       "    * x0:\n",
       "      * value: 0.0\n",
       "      * desc: Central value\n",
       "      * min_value: null\n",
       "      * max_value: null\n",
       "      * unit: ''\n",
       "      * is_normalization: false\n",
       "      * delta: 0.1\n",
       "      * free: true\n",
       "    * gamma:\n",
       "      * value: 1.0\n",
       "      * desc: standard deviation\n",
       "      * min_value: 1.0e-12\n",
       "      * max_value: null\n",
       "      * unit: ''\n",
       "      * is_normalization: false\n",
       "      * delta: 0.1\n",
       "      * free: true"
      ]
     },
     "metadata": {},
     "output_type": "display_data"
    }
   ],
   "source": [
    "func.display()"
   ]
  },
  {
   "cell_type": "markdown",
   "id": "8f53369b",
   "metadata": {
    "papermill": {
     "duration": 0.001496,
     "end_time": "2025-04-29T23:20:44.662672",
     "exception": false,
     "start_time": "2025-04-29T23:20:44.661176",
     "status": "completed"
    },
    "tags": []
   },
   "source": [
    "## Shape \n",
    "\n",
    "The shape of the function. \n",
    "\n",
    "*If this is not a photon model but a prior or linear function then ignore the units as these docs are auto-generated*"
   ]
  },
  {
   "cell_type": "code",
   "execution_count": 6,
   "id": "d891642d",
   "metadata": {
    "execution": {
     "iopub.execute_input": "2025-04-29T23:20:44.667095Z",
     "iopub.status.busy": "2025-04-29T23:20:44.666823Z",
     "iopub.status.idle": "2025-04-29T23:20:44.798883Z",
     "shell.execute_reply": "2025-04-29T23:20:44.798253Z"
    },
    "papermill": {
     "duration": 0.136437,
     "end_time": "2025-04-29T23:20:44.800745",
     "exception": false,
     "start_time": "2025-04-29T23:20:44.664308",
     "status": "completed"
    },
    "tags": [
     "nbsphinx-thumbnail"
    ]
   },
   "outputs": [
    {
     "data": {
      "text/plain": [
       "Text(0, 0.5, 'probability')"
      ]
     },
     "execution_count": 6,
     "metadata": {},
     "output_type": "execute_result"
    },
    {
     "data": {
      "image/png": "[encoded data removed]",
      "text/plain": [
       "<Figure size 1040x910 with 1 Axes>"
      ]
     },
     "metadata": {},
     "output_type": "display_data"
    }
   ],
   "source": [
    "fig, ax = plt.subplots()\n",
    "\n",
    "\n",
    "ax.plot(energy_grid, func(energy_grid), color=blue, lw=3)\n",
    "\n",
    "ax.set_xlabel(\"x\")\n",
    "ax.set_ylabel(\"probability\")\n"
   ]
  },
  {
   "cell_type": "markdown",
   "id": "a3dabd40",
   "metadata": {
    "papermill": {
     "duration": 0.001621,
     "end_time": "2025-04-29T23:20:44.804848",
     "exception": false,
     "start_time": "2025-04-29T23:20:44.803227",
     "status": "completed"
    },
    "tags": []
   },
   "source": [
    "## Random Number Generation\n",
    "\n",
    "This is how we can generate random numbers from the prior.\n"
   ]
  },
  {
   "cell_type": "code",
   "execution_count": 7,
   "id": "61bfcad6",
   "metadata": {
    "execution": {
     "iopub.execute_input": "2025-04-29T23:20:44.810351Z",
     "iopub.status.busy": "2025-04-29T23:20:44.809941Z",
     "iopub.status.idle": "2025-04-29T23:20:44.939353Z",
     "shell.execute_reply": "2025-04-29T23:20:44.939015Z"
    },
    "papermill": {
     "duration": 0.134256,
     "end_time": "2025-04-29T23:20:44.940716",
     "exception": false,
     "start_time": "2025-04-29T23:20:44.806460",
     "status": "completed"
    },
    "tags": []
   },
   "outputs": [
    {
     "data": {
      "text/plain": [
       "Text(0, 0.5, 'N')"
      ]
     },
     "execution_count": 7,
     "metadata": {},
     "output_type": "execute_result"
    },
    {
     "data": {
      "image/png": "[encoded data removed]",
      "text/plain": [
       "<Figure size 1040x910 with 1 Axes>"
      ]
     },
     "metadata": {},
     "output_type": "display_data"
    }
   ],
   "source": [
    "\n",
    "\n",
    "u = np.random.uniform(0,1, size=5000)\n",
    "\n",
    "draws = [func.from_unit_cube(x) for x in u]\n",
    "\n",
    "\n",
    "fig, ax = plt.subplots()\n",
    "\n",
    "\n",
    "ax.hist(draws, color=green, bins=50)\n",
    "\n",
    "ax.set_xlabel(\"value\")\n",
    "ax.set_ylabel(\"N\")\n",
    "\n"
   ]
  }
 ],
 "metadata": {
  "jupytext": {
   "formats": "ipynb,md"
  },
  "kernelspec": {
   "display_name": "Python 3 (ipykernel)",
   "language": "python",
   "name": "python3"
  },
  "language_info": {
   "codemirror_mode": {
    "name": "ipython",
    "version": 3
   },
   "file_extension": ".py",
   "mimetype": "text/x-python",
   "name": "python",
   "nbconvert_exporter": "python",
   "pygments_lexer": "ipython3",
   "version": "3.9.13"
  },
  "papermill": {
   "default_parameters": {},
   "duration": 3.590306,
   "end_time": "2025-04-29T23:20:45.487184",
   "environment_variables": {},
   "exception": null,
   "input_path": "Cauchy.ipynb",
   "output_path": "/Users/runner/work/astromodels/astromodels/docs/notebooks/Cauchy.ipynb",
   "parameters": {
    "func_name": "Cauchy",
    "positive_prior": false
   },
   "start_time": "2025-04-29T23:20:41.896878",
   "version": "2.6.0"
  }
 },
 "nbformat": 4,
 "nbformat_minor": 5
}
