{
 "cells": [
  {
   "cell_type": "markdown",
   "id": "974ebb0d",
   "metadata": {
    "papermill": {
     "duration": 0.003841,
     "end_time": "2023-11-01T23:06:03.188341",
     "exception": false,
     "start_time": "2023-11-01T23:06:03.184500",
     "status": "completed"
    },
    "tags": []
   },
   "source": [
    "# Cauchy"
   ]
  },
  {
   "cell_type": "code",
   "execution_count": 1,
   "id": "db447251",
   "metadata": {
    "execution": {
     "iopub.execute_input": "2023-11-01T23:06:03.195688Z",
     "iopub.status.busy": "2023-11-01T23:06:03.195264Z",
     "iopub.status.idle": "2023-11-01T23:06:05.550128Z",
     "shell.execute_reply": "2023-11-01T23:06:05.547024Z"
    },
    "nbsphinx": "hidden",
    "papermill": {
     "duration": 2.363393,
     "end_time": "2023-11-01T23:06:05.554137",
     "exception": false,
     "start_time": "2023-11-01T23:06:03.190744",
     "status": "completed"
    },
    "tags": []
   },
   "outputs": [],
   "source": [
    "%%capture\n",
    "\n",
    "import numpy as np\n",
    "\n",
    "import matplotlib.pyplot as plt\n",
    "\n",
    "import warnings\n",
    "warnings.simplefilter(\"ignore\")\n",
    "\n",
    "from astromodels.functions.function import _known_functions\n",
    "\n",
    "\n",
    "from jupyterthemes import jtplot\n",
    "jtplot.style(context=\"talk\", fscale=1, ticks=True, grid=False)\n",
    "%matplotlib inline"
   ]
  },
  {
   "cell_type": "code",
   "execution_count": 2,
   "id": "17fbb145",
   "metadata": {
    "execution": {
     "iopub.execute_input": "2023-11-01T23:06:05.560858Z",
     "iopub.status.busy": "2023-11-01T23:06:05.560474Z",
     "iopub.status.idle": "2023-11-01T23:06:05.570515Z",
     "shell.execute_reply": "2023-11-01T23:06:05.568464Z"
    },
    "nbsphinx": "hidden",
    "papermill": {
     "duration": 0.018086,
     "end_time": "2023-11-01T23:06:05.574720",
     "exception": false,
     "start_time": "2023-11-01T23:06:05.556634",
     "status": "completed"
    },
    "tags": [
     "parameters"
    ]
   },
   "outputs": [],
   "source": [
    "func_name = \"TbAbs\"\n",
    "\n",
    "positive_prior = False\n"
   ]
  },
  {
   "cell_type": "code",
   "execution_count": 3,
   "id": "1a9669dd",
   "metadata": {
    "execution": {
     "iopub.execute_input": "2023-11-01T23:06:05.580756Z",
     "iopub.status.busy": "2023-11-01T23:06:05.580407Z",
     "iopub.status.idle": "2023-11-01T23:06:05.590278Z",
     "shell.execute_reply": "2023-11-01T23:06:05.587643Z"
    },
    "papermill": {
     "duration": 0.017252,
     "end_time": "2023-11-01T23:06:05.594271",
     "exception": false,
     "start_time": "2023-11-01T23:06:05.577019",
     "status": "completed"
    },
    "tags": [
     "injected-parameters"
    ]
   },
   "outputs": [],
   "source": [
    "# Parameters\n",
    "func_name = \"Cauchy\"\n",
    "positive_prior = False\n"
   ]
  },
  {
   "cell_type": "code",
   "execution_count": 4,
   "id": "9317c77c",
   "metadata": {
    "execution": {
     "iopub.execute_input": "2023-11-01T23:06:05.600348Z",
     "iopub.status.busy": "2023-11-01T23:06:05.599973Z",
     "iopub.status.idle": "2023-11-01T23:06:05.606929Z",
     "shell.execute_reply": "2023-11-01T23:06:05.605728Z"
    },
    "lines_to_next_cell": 0,
    "nbsphinx": "hidden",
    "papermill": {
     "duration": 0.014307,
     "end_time": "2023-11-01T23:06:05.610762",
     "exception": false,
     "start_time": "2023-11-01T23:06:05.596455",
     "status": "completed"
    },
    "tags": []
   },
   "outputs": [],
   "source": [
    "func = _known_functions[func_name]()\n",
    "\n",
    "if not positive_prior:\n",
    "\n",
    "\tenergy_grid = np.linspace(-5,5,1000)\n",
    "\n",
    "else:\n",
    "    \n",
    "    energy_grid = np.linspace(0,1,1000)\n",
    "    \n",
    "    \n",
    "    \n",
    "    \n",
    "blue = \"#4152E3\"\n",
    "red = \"#E3414B\"\n",
    "green = \"#41E39E\""
   ]
  },
  {
   "cell_type": "markdown",
   "id": "f915cac0",
   "metadata": {
    "lines_to_next_cell": 0,
    "papermill": {
     "duration": 0.00245,
     "end_time": "2023-11-01T23:06:05.615648",
     "exception": false,
     "start_time": "2023-11-01T23:06:05.613198",
     "status": "completed"
    },
    "tags": []
   },
   "source": [
    "## Description"
   ]
  },
  {
   "cell_type": "code",
   "execution_count": 5,
   "id": "a4b5c7b5",
   "metadata": {
    "execution": {
     "iopub.execute_input": "2023-11-01T23:06:05.621835Z",
     "iopub.status.busy": "2023-11-01T23:06:05.621460Z",
     "iopub.status.idle": "2023-11-01T23:06:05.632388Z",
     "shell.execute_reply": "2023-11-01T23:06:05.631045Z"
    },
    "papermill": {
     "duration": 0.01814,
     "end_time": "2023-11-01T23:06:05.635965",
     "exception": false,
     "start_time": "2023-11-01T23:06:05.617825",
     "status": "completed"
    },
    "tags": []
   },
   "outputs": [
    {
     "data": {
      "text/html": [
       "<ul>\n",
       "\n",
       "<li>description: The Cauchy distribution</li>\n",
       "\n",
       "<li>formula: $ K \\frac{1}{ \\gamma \\pi} \\left[ \\frac{\\gamma^2}{(x-x_0)^2 + \\gamma^2}  \\right] $</li>\n",
       "\n",
       "<li>parameters: \n",
       "<ul>\n",
       "\n",
       "<li>K: \n",
       "<ul>\n",
       "\n",
       "<li>value: 1.0</li>\n",
       "\n",
       "<li>desc: Integral between -inf and +inf. Fix this to 1 to obtain a Cauchy distribution</li>\n",
       "\n",
       "<li>min_value: None</li>\n",
       "\n",
       "<li>max_value: None</li>\n",
       "\n",
       "<li>unit: </li>\n",
       "\n",
       "<li>is_normalization: False</li>\n",
       "\n",
       "<li>delta: 0.1</li>\n",
       "\n",
       "<li>free: True</li>\n",
       "\n",
       "</ul>\n",
       "\n",
       "</li>\n",
       "\n",
       "<li>x0: \n",
       "<ul>\n",
       "\n",
       "<li>value: 0.0</li>\n",
       "\n",
       "<li>desc: Central value</li>\n",
       "\n",
       "<li>min_value: None</li>\n",
       "\n",
       "<li>max_value: None</li>\n",
       "\n",
       "<li>unit: </li>\n",
       "\n",
       "<li>is_normalization: False</li>\n",
       "\n",
       "<li>delta: 0.1</li>\n",
       "\n",
       "<li>free: True</li>\n",
       "\n",
       "</ul>\n",
       "\n",
       "</li>\n",
       "\n",
       "<li>gamma: \n",
       "<ul>\n",
       "\n",
       "<li>value: 1.0</li>\n",
       "\n",
       "<li>desc: standard deviation</li>\n",
       "\n",
       "<li>min_value: 1e-12</li>\n",
       "\n",
       "<li>max_value: None</li>\n",
       "\n",
       "<li>unit: </li>\n",
       "\n",
       "<li>is_normalization: False</li>\n",
       "\n",
       "<li>delta: 0.1</li>\n",
       "\n",
       "<li>free: True</li>\n",
       "\n",
       "</ul>\n",
       "\n",
       "</li>\n",
       "\n",
       "</ul>\n",
       "\n",
       "</li>\n",
       "\n",
       "</ul>\n"
      ],
      "text/plain": [
       "  * description: The Cauchy distribution\n",
       "  * formula: $ K \\frac{1}{ \\gamma \\pi} \\left[ \\frac{\\gamma^2}{(x-x_0)^2 + \\gamma^2}  \\right]\n",
       "    * $\n",
       "  * parameters:\n",
       "    * K:\n",
       "      * value: 1.0\n",
       "      * desc: Integral between -inf and +inf. Fix this to 1 to obtain a Cauchy distribution\n",
       "      * min_value: null\n",
       "      * max_value: null\n",
       "      * unit: ''\n",
       "      * is_normalization: false\n",
       "      * delta: 0.1\n",
       "      * free: true\n",
       "    * x0:\n",
       "      * value: 0.0\n",
       "      * desc: Central value\n",
       "      * min_value: null\n",
       "      * max_value: null\n",
       "      * unit: ''\n",
       "      * is_normalization: false\n",
       "      * delta: 0.1\n",
       "      * free: true\n",
       "    * gamma:\n",
       "      * value: 1.0\n",
       "      * desc: standard deviation\n",
       "      * min_value: 1.0e-12\n",
       "      * max_value: null\n",
       "      * unit: ''\n",
       "      * is_normalization: false\n",
       "      * delta: 0.1\n",
       "      * free: true"
      ]
     },
     "metadata": {},
     "output_type": "display_data"
    }
   ],
   "source": [
    "func.display()"
   ]
  },
  {
   "cell_type": "markdown",
   "id": "81cb8db9",
   "metadata": {
    "papermill": {
     "duration": 0.002624,
     "end_time": "2023-11-01T23:06:05.641340",
     "exception": false,
     "start_time": "2023-11-01T23:06:05.638716",
     "status": "completed"
    },
    "tags": []
   },
   "source": [
    "## Shape \n",
    "\n",
    "The shape of the function. \n",
    "\n",
    "*If this is not a photon model but a prior or linear function then ignore the units as these docs are auto-generated*"
   ]
  },
  {
   "cell_type": "code",
   "execution_count": 6,
   "id": "9383d165",
   "metadata": {
    "execution": {
     "iopub.execute_input": "2023-11-01T23:06:05.647827Z",
     "iopub.status.busy": "2023-11-01T23:06:05.647510Z",
     "iopub.status.idle": "2023-11-01T23:06:05.934736Z",
     "shell.execute_reply": "2023-11-01T23:06:05.933501Z"
    },
    "papermill": {
     "duration": 0.294548,
     "end_time": "2023-11-01T23:06:05.938387",
     "exception": false,
     "start_time": "2023-11-01T23:06:05.643839",
     "status": "completed"
    },
    "tags": [
     "nbsphinx-thumbnail"
    ]
   },
   "outputs": [
    {
     "data": {
      "text/plain": [
       "Text(0, 0.5, 'probability')"
      ]
     },
     "execution_count": 6,
     "metadata": {},
     "output_type": "execute_result"
    },
    {
     "data": {
      "image/png": "[encoded data removed]",
      "text/plain": [
       "<Figure size 1040x910 with 1 Axes>"
      ]
     },
     "metadata": {},
     "output_type": "display_data"
    }
   ],
   "source": [
    "fig, ax = plt.subplots()\n",
    "\n",
    "\n",
    "ax.plot(energy_grid, func(energy_grid), color=blue, lw=3)\n",
    "\n",
    "ax.set_xlabel(\"x\")\n",
    "ax.set_ylabel(\"probability\")\n"
   ]
  },
  {
   "cell_type": "markdown",
   "id": "dc2c8e72",
   "metadata": {
    "papermill": {
     "duration": 0.003002,
     "end_time": "2023-11-01T23:06:05.944729",
     "exception": false,
     "start_time": "2023-11-01T23:06:05.941727",
     "status": "completed"
    },
    "tags": []
   },
   "source": [
    "## Random Number Generation\n",
    "\n",
    "This is how we can generate random numbers from the prior.\n"
   ]
  },
  {
   "cell_type": "code",
   "execution_count": 7,
   "id": "0c8c0a7d",
   "metadata": {
    "execution": {
     "iopub.execute_input": "2023-11-01T23:06:05.952330Z",
     "iopub.status.busy": "2023-11-01T23:06:05.951927Z",
     "iopub.status.idle": "2023-11-01T23:06:06.211149Z",
     "shell.execute_reply": "2023-11-01T23:06:06.208288Z"
    },
    "papermill": {
     "duration": 0.26762,
     "end_time": "2023-11-01T23:06:06.215181",
     "exception": false,
     "start_time": "2023-11-01T23:06:05.947561",
     "status": "completed"
    },
    "tags": []
   },
   "outputs": [
    {
     "data": {
      "text/plain": [
       "Text(0, 0.5, 'N')"
      ]
     },
     "execution_count": 7,
     "metadata": {},
     "output_type": "execute_result"
    },
    {
     "data": {
      "image/png": "[encoded data removed]",
      "text/plain": [
       "<Figure size 1040x910 with 1 Axes>"
      ]
     },
     "metadata": {},
     "output_type": "display_data"
    }
   ],
   "source": [
    "\n",
    "\n",
    "u = np.random.uniform(0,1, size=5000)\n",
    "\n",
    "draws = [func.from_unit_cube(x) for x in u]\n",
    "\n",
    "\n",
    "fig, ax = plt.subplots()\n",
    "\n",
    "\n",
    "ax.hist(draws, color=green, bins=50)\n",
    "\n",
    "ax.set_xlabel(\"value\")\n",
    "ax.set_ylabel(\"N\")\n",
    "\n"
   ]
  }
 ],
 "metadata": {
  "jupytext": {
   "formats": "ipynb,md"
  },
  "kernelspec": {
   "display_name": "Python 3 (ipykernel)",
   "language": "python",
   "name": "python3"
  },
  "language_info": {
   "codemirror_mode": {
    "name": "ipython",
    "version": 3
   },
   "file_extension": ".py",
   "mimetype": "text/x-python",
   "name": "python",
   "nbconvert_exporter": "python",
   "pygments_lexer": "ipython3",
   "version": "3.9.18"
  },
  "papermill": {
   "default_parameters": {},
   "duration": 4.55221,
   "end_time": "2023-11-01T23:06:06.753340",
   "environment_variables": {},
   "exception": null,
   "input_path": "Cauchy.ipynb",
   "output_path": "/Users/runner/work/astromodels/astromodels/docs/notebooks/Cauchy.ipynb",
   "parameters": {
    "func_name": "Cauchy",
    "positive_prior": false
   },
   "start_time": "2023-11-01T23:06:02.201130",
   "version": "2.4.0"
  }
 },
 "nbformat": 4,
 "nbformat_minor": 5
}
