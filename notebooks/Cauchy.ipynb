{
 "cells": [
  {
   "cell_type": "markdown",
   "id": "8f5fae33",
   "metadata": {
    "papermill": {
     "duration": 0.007299,
     "end_time": "2025-02-01T01:03:53.343531",
     "exception": false,
     "start_time": "2025-02-01T01:03:53.336232",
     "status": "completed"
    },
    "tags": []
   },
   "source": [
    "# Cauchy"
   ]
  },
  {
   "cell_type": "code",
   "execution_count": 1,
   "id": "e308499b",
   "metadata": {
    "execution": {
     "iopub.execute_input": "2025-02-01T01:03:53.356088Z",
     "iopub.status.busy": "2025-02-01T01:03:53.355579Z",
     "iopub.status.idle": "2025-02-01T01:03:55.073125Z",
     "shell.execute_reply": "2025-02-01T01:03:55.072538Z"
    },
    "nbsphinx": "hidden",
    "papermill": {
     "duration": 1.725781,
     "end_time": "2025-02-01T01:03:55.074641",
     "exception": false,
     "start_time": "2025-02-01T01:03:53.348860",
     "status": "completed"
    },
    "tags": []
   },
   "outputs": [],
   "source": [
    "%%capture\n",
    "\n",
    "import numpy as np\n",
    "\n",
    "import matplotlib.pyplot as plt\n",
    "\n",
    "import warnings\n",
    "warnings.simplefilter(\"ignore\")\n",
    "\n",
    "from astromodels.functions.function import _known_functions\n",
    "\n",
    "\n",
    "from jupyterthemes import jtplot\n",
    "jtplot.style(context=\"talk\", fscale=1, ticks=True, grid=False)\n",
    "%matplotlib inline"
   ]
  },
  {
   "cell_type": "code",
   "execution_count": 2,
   "id": "6cad710a",
   "metadata": {
    "execution": {
     "iopub.execute_input": "2025-02-01T01:03:55.078252Z",
     "iopub.status.busy": "2025-02-01T01:03:55.077864Z",
     "iopub.status.idle": "2025-02-01T01:03:55.086308Z",
     "shell.execute_reply": "2025-02-01T01:03:55.085913Z"
    },
    "nbsphinx": "hidden",
    "papermill": {
     "duration": 0.011401,
     "end_time": "2025-02-01T01:03:55.087460",
     "exception": false,
     "start_time": "2025-02-01T01:03:55.076059",
     "status": "completed"
    },
    "tags": [
     "parameters"
    ]
   },
   "outputs": [],
   "source": [
    "func_name = \"TbAbs\"\n",
    "\n",
    "positive_prior = False\n"
   ]
  },
  {
   "cell_type": "code",
   "execution_count": 3,
   "id": "69a0dff9",
   "metadata": {
    "execution": {
     "iopub.execute_input": "2025-02-01T01:03:55.090293Z",
     "iopub.status.busy": "2025-02-01T01:03:55.090129Z",
     "iopub.status.idle": "2025-02-01T01:03:55.092112Z",
     "shell.execute_reply": "2025-02-01T01:03:55.091731Z"
    },
    "papermill": {
     "duration": 0.004666,
     "end_time": "2025-02-01T01:03:55.093270",
     "exception": false,
     "start_time": "2025-02-01T01:03:55.088604",
     "status": "completed"
    },
    "tags": [
     "injected-parameters"
    ]
   },
   "outputs": [],
   "source": [
    "# Parameters\n",
    "func_name = \"Cauchy\"\n",
    "positive_prior = False\n"
   ]
  },
  {
   "cell_type": "code",
   "execution_count": 4,
   "id": "e542aff2",
   "metadata": {
    "execution": {
     "iopub.execute_input": "2025-02-01T01:03:55.096063Z",
     "iopub.status.busy": "2025-02-01T01:03:55.095906Z",
     "iopub.status.idle": "2025-02-01T01:03:55.098986Z",
     "shell.execute_reply": "2025-02-01T01:03:55.098586Z"
    },
    "lines_to_next_cell": 0,
    "nbsphinx": "hidden",
    "papermill": {
     "duration": 0.005814,
     "end_time": "2025-02-01T01:03:55.100198",
     "exception": false,
     "start_time": "2025-02-01T01:03:55.094384",
     "status": "completed"
    },
    "tags": []
   },
   "outputs": [],
   "source": [
    "func = _known_functions[func_name]()\n",
    "\n",
    "if not positive_prior:\n",
    "\n",
    "\tenergy_grid = np.linspace(-5,5,1000)\n",
    "\n",
    "else:\n",
    "    \n",
    "    energy_grid = np.linspace(0,1,1000)\n",
    "    \n",
    "    \n",
    "    \n",
    "    \n",
    "blue = \"#4152E3\"\n",
    "red = \"#E3414B\"\n",
    "green = \"#41E39E\""
   ]
  },
  {
   "cell_type": "markdown",
   "id": "3f5a5b68",
   "metadata": {
    "lines_to_next_cell": 0,
    "papermill": {
     "duration": 0.00106,
     "end_time": "2025-02-01T01:03:55.102418",
     "exception": false,
     "start_time": "2025-02-01T01:03:55.101358",
     "status": "completed"
    },
    "tags": []
   },
   "source": [
    "## Description"
   ]
  },
  {
   "cell_type": "code",
   "execution_count": 5,
   "id": "b63ee787",
   "metadata": {
    "execution": {
     "iopub.execute_input": "2025-02-01T01:03:55.105101Z",
     "iopub.status.busy": "2025-02-01T01:03:55.104928Z",
     "iopub.status.idle": "2025-02-01T01:03:55.109455Z",
     "shell.execute_reply": "2025-02-01T01:03:55.108933Z"
    },
    "papermill": {
     "duration": 0.007286,
     "end_time": "2025-02-01T01:03:55.110696",
     "exception": false,
     "start_time": "2025-02-01T01:03:55.103410",
     "status": "completed"
    },
    "tags": []
   },
   "outputs": [
    {
     "data": {
      "text/html": [
       "<ul>\n",
       "\n",
       "<li>description: The Cauchy distribution</li>\n",
       "\n",
       "<li>formula: $ K \\frac{1}{ \\gamma \\pi} \\left[ \\frac{\\gamma^2}{(x-x_0)^2 + \\gamma^2}  \\right] $</li>\n",
       "\n",
       "<li>parameters: \n",
       "<ul>\n",
       "\n",
       "<li>K: \n",
       "<ul>\n",
       "\n",
       "<li>value: 1.0</li>\n",
       "\n",
       "<li>desc: Integral between -inf and +inf. Fix this to 1 to obtain a Cauchy distribution</li>\n",
       "\n",
       "<li>min_value: None</li>\n",
       "\n",
       "<li>max_value: None</li>\n",
       "\n",
       "<li>unit: </li>\n",
       "\n",
       "<li>is_normalization: False</li>\n",
       "\n",
       "<li>delta: 0.1</li>\n",
       "\n",
       "<li>free: True</li>\n",
       "\n",
       "</ul>\n",
       "\n",
       "</li>\n",
       "\n",
       "<li>x0: \n",
       "<ul>\n",
       "\n",
       "<li>value: 0.0</li>\n",
       "\n",
       "<li>desc: Central value</li>\n",
       "\n",
       "<li>min_value: None</li>\n",
       "\n",
       "<li>max_value: None</li>\n",
       "\n",
       "<li>unit: </li>\n",
       "\n",
       "<li>is_normalization: False</li>\n",
       "\n",
       "<li>delta: 0.1</li>\n",
       "\n",
       "<li>free: True</li>\n",
       "\n",
       "</ul>\n",
       "\n",
       "</li>\n",
       "\n",
       "<li>gamma: \n",
       "<ul>\n",
       "\n",
       "<li>value: 1.0</li>\n",
       "\n",
       "<li>desc: standard deviation</li>\n",
       "\n",
       "<li>min_value: 1e-12</li>\n",
       "\n",
       "<li>max_value: None</li>\n",
       "\n",
       "<li>unit: </li>\n",
       "\n",
       "<li>is_normalization: False</li>\n",
       "\n",
       "<li>delta: 0.1</li>\n",
       "\n",
       "<li>free: True</li>\n",
       "\n",
       "</ul>\n",
       "\n",
       "</li>\n",
       "\n",
       "</ul>\n",
       "\n",
       "</li>\n",
       "\n",
       "</ul>\n"
      ],
      "text/plain": [
       "  * description: The Cauchy distribution\n",
       "  * formula: $ K \\frac{1}{ \\gamma \\pi} \\left[ \\frac{\\gamma^2}{(x-x_0)^2 + \\gamma^2}  \\right]\n",
       "    * $\n",
       "  * parameters:\n",
       "    * K:\n",
       "      * value: 1.0\n",
       "      * desc: Integral between -inf and +inf. Fix this to 1 to obtain a Cauchy distribution\n",
       "      * min_value: null\n",
       "      * max_value: null\n",
       "      * unit: ''\n",
       "      * is_normalization: false\n",
       "      * delta: 0.1\n",
       "      * free: true\n",
       "    * x0:\n",
       "      * value: 0.0\n",
       "      * desc: Central value\n",
       "      * min_value: null\n",
       "      * max_value: null\n",
       "      * unit: ''\n",
       "      * is_normalization: false\n",
       "      * delta: 0.1\n",
       "      * free: true\n",
       "    * gamma:\n",
       "      * value: 1.0\n",
       "      * desc: standard deviation\n",
       "      * min_value: 1.0e-12\n",
       "      * max_value: null\n",
       "      * unit: ''\n",
       "      * is_normalization: false\n",
       "      * delta: 0.1\n",
       "      * free: true"
      ]
     },
     "metadata": {},
     "output_type": "display_data"
    }
   ],
   "source": [
    "func.display()"
   ]
  },
  {
   "cell_type": "markdown",
   "id": "d8df8be5",
   "metadata": {
    "papermill": {
     "duration": 0.001315,
     "end_time": "2025-02-01T01:03:55.113409",
     "exception": false,
     "start_time": "2025-02-01T01:03:55.112094",
     "status": "completed"
    },
    "tags": []
   },
   "source": [
    "## Shape \n",
    "\n",
    "The shape of the function. \n",
    "\n",
    "*If this is not a photon model but a prior or linear function then ignore the units as these docs are auto-generated*"
   ]
  },
  {
   "cell_type": "code",
   "execution_count": 6,
   "id": "921e115e",
   "metadata": {
    "execution": {
     "iopub.execute_input": "2025-02-01T01:03:55.116326Z",
     "iopub.status.busy": "2025-02-01T01:03:55.116161Z",
     "iopub.status.idle": "2025-02-01T01:03:55.209289Z",
     "shell.execute_reply": "2025-02-01T01:03:55.208226Z"
    },
    "papermill": {
     "duration": 0.097597,
     "end_time": "2025-02-01T01:03:55.212161",
     "exception": false,
     "start_time": "2025-02-01T01:03:55.114564",
     "status": "completed"
    },
    "tags": [
     "nbsphinx-thumbnail"
    ]
   },
   "outputs": [
    {
     "data": {
      "text/plain": [
       "Text(0, 0.5, 'probability')"
      ]
     },
     "execution_count": 6,
     "metadata": {},
     "output_type": "execute_result"
    },
    {
     "data": {
      "image/png": "[encoded data removed]",
      "text/plain": [
       "<Figure size 1040x910 with 1 Axes>"
      ]
     },
     "metadata": {},
     "output_type": "display_data"
    }
   ],
   "source": [
    "fig, ax = plt.subplots()\n",
    "\n",
    "\n",
    "ax.plot(energy_grid, func(energy_grid), color=blue, lw=3)\n",
    "\n",
    "ax.set_xlabel(\"x\")\n",
    "ax.set_ylabel(\"probability\")\n"
   ]
  },
  {
   "cell_type": "markdown",
   "id": "97931a74",
   "metadata": {
    "papermill": {
     "duration": 0.004124,
     "end_time": "2025-02-01T01:03:55.220925",
     "exception": false,
     "start_time": "2025-02-01T01:03:55.216801",
     "status": "completed"
    },
    "tags": []
   },
   "source": [
    "## Random Number Generation\n",
    "\n",
    "This is how we can generate random numbers from the prior.\n"
   ]
  },
  {
   "cell_type": "code",
   "execution_count": 7,
   "id": "7bf924ea",
   "metadata": {
    "execution": {
     "iopub.execute_input": "2025-02-01T01:03:55.225685Z",
     "iopub.status.busy": "2025-02-01T01:03:55.225504Z",
     "iopub.status.idle": "2025-02-01T01:03:55.347839Z",
     "shell.execute_reply": "2025-02-01T01:03:55.346454Z"
    },
    "papermill": {
     "duration": 0.1264,
     "end_time": "2025-02-01T01:03:55.349683",
     "exception": false,
     "start_time": "2025-02-01T01:03:55.223283",
     "status": "completed"
    },
    "tags": []
   },
   "outputs": [
    {
     "data": {
      "text/plain": [
       "Text(0, 0.5, 'N')"
      ]
     },
     "execution_count": 7,
     "metadata": {},
     "output_type": "execute_result"
    },
    {
     "data": {
      "image/png": "[encoded data removed]",
      "text/plain": [
       "<Figure size 1040x910 with 1 Axes>"
      ]
     },
     "metadata": {},
     "output_type": "display_data"
    }
   ],
   "source": [
    "\n",
    "\n",
    "u = np.random.uniform(0,1, size=5000)\n",
    "\n",
    "draws = [func.from_unit_cube(x) for x in u]\n",
    "\n",
    "\n",
    "fig, ax = plt.subplots()\n",
    "\n",
    "\n",
    "ax.hist(draws, color=green, bins=50)\n",
    "\n",
    "ax.set_xlabel(\"value\")\n",
    "ax.set_ylabel(\"N\")\n",
    "\n"
   ]
  }
 ],
 "metadata": {
  "jupytext": {
   "formats": "ipynb,md"
  },
  "kernelspec": {
   "display_name": "Python 3 (ipykernel)",
   "language": "python",
   "name": "python3"
  },
  "language_info": {
   "codemirror_mode": {
    "name": "ipython",
    "version": 3
   },
   "file_extension": ".py",
   "mimetype": "text/x-python",
   "name": "python",
   "nbconvert_exporter": "python",
   "pygments_lexer": "ipython3",
   "version": "3.9.13"
  },
  "papermill": {
   "default_parameters": {},
   "duration": 3.318388,
   "end_time": "2025-02-01T01:03:55.901771",
   "environment_variables": {},
   "exception": null,
   "input_path": "Cauchy.ipynb",
   "output_path": "/Users/runner/work/astromodels/astromodels/docs/notebooks/Cauchy.ipynb",
   "parameters": {
    "func_name": "Cauchy",
    "positive_prior": false
   },
   "start_time": "2025-02-01T01:03:52.583383",
   "version": "2.6.0"
  }
 },
 "nbformat": 4,
 "nbformat_minor": 5
}
