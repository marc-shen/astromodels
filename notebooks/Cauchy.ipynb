{
 "cells": [
  {
   "cell_type": "markdown",
   "id": "ce29bd4b",
   "metadata": {
    "papermill": {
     "duration": 0.009011,
     "end_time": "2024-09-10T20:05:02.094194",
     "exception": false,
     "start_time": "2024-09-10T20:05:02.085183",
     "status": "completed"
    },
    "tags": []
   },
   "source": [
    "# Cauchy"
   ]
  },
  {
   "cell_type": "code",
   "execution_count": 1,
   "id": "63179d75",
   "metadata": {
    "execution": {
     "iopub.execute_input": "2024-09-10T20:05:02.105729Z",
     "iopub.status.busy": "2024-09-10T20:05:02.105142Z",
     "iopub.status.idle": "2024-09-10T20:05:03.511134Z",
     "shell.execute_reply": "2024-09-10T20:05:03.510605Z"
    },
    "nbsphinx": "hidden",
    "papermill": {
     "duration": 1.413474,
     "end_time": "2024-09-10T20:05:03.512676",
     "exception": false,
     "start_time": "2024-09-10T20:05:02.099202",
     "status": "completed"
    },
    "tags": []
   },
   "outputs": [],
   "source": [
    "%%capture\n",
    "\n",
    "import numpy as np\n",
    "\n",
    "import matplotlib.pyplot as plt\n",
    "\n",
    "import warnings\n",
    "warnings.simplefilter(\"ignore\")\n",
    "\n",
    "from astromodels.functions.function import _known_functions\n",
    "\n",
    "\n",
    "from jupyterthemes import jtplot\n",
    "jtplot.style(context=\"talk\", fscale=1, ticks=True, grid=False)\n",
    "%matplotlib inline"
   ]
  },
  {
   "cell_type": "code",
   "execution_count": 2,
   "id": "d627fd68",
   "metadata": {
    "execution": {
     "iopub.execute_input": "2024-09-10T20:05:03.515825Z",
     "iopub.status.busy": "2024-09-10T20:05:03.515517Z",
     "iopub.status.idle": "2024-09-10T20:05:03.523659Z",
     "shell.execute_reply": "2024-09-10T20:05:03.523296Z"
    },
    "nbsphinx": "hidden",
    "papermill": {
     "duration": 0.011067,
     "end_time": "2024-09-10T20:05:03.524932",
     "exception": false,
     "start_time": "2024-09-10T20:05:03.513865",
     "status": "completed"
    },
    "tags": [
     "parameters"
    ]
   },
   "outputs": [],
   "source": [
    "func_name = \"TbAbs\"\n",
    "\n",
    "positive_prior = False\n"
   ]
  },
  {
   "cell_type": "code",
   "execution_count": 3,
   "id": "79c87ed5",
   "metadata": {
    "execution": {
     "iopub.execute_input": "2024-09-10T20:05:03.527527Z",
     "iopub.status.busy": "2024-09-10T20:05:03.527387Z",
     "iopub.status.idle": "2024-09-10T20:05:03.535360Z",
     "shell.execute_reply": "2024-09-10T20:05:03.535004Z"
    },
    "papermill": {
     "duration": 0.010698,
     "end_time": "2024-09-10T20:05:03.536651",
     "exception": false,
     "start_time": "2024-09-10T20:05:03.525953",
     "status": "completed"
    },
    "tags": [
     "injected-parameters"
    ]
   },
   "outputs": [],
   "source": [
    "# Parameters\n",
    "func_name = \"Cauchy\"\n",
    "positive_prior = False\n"
   ]
  },
  {
   "cell_type": "code",
   "execution_count": 4,
   "id": "0b1f6955",
   "metadata": {
    "execution": {
     "iopub.execute_input": "2024-09-10T20:05:03.539250Z",
     "iopub.status.busy": "2024-09-10T20:05:03.539109Z",
     "iopub.status.idle": "2024-09-10T20:05:03.547084Z",
     "shell.execute_reply": "2024-09-10T20:05:03.546679Z"
    },
    "lines_to_next_cell": 0,
    "nbsphinx": "hidden",
    "papermill": {
     "duration": 0.010671,
     "end_time": "2024-09-10T20:05:03.548358",
     "exception": false,
     "start_time": "2024-09-10T20:05:03.537687",
     "status": "completed"
    },
    "tags": []
   },
   "outputs": [],
   "source": [
    "func = _known_functions[func_name]()\n",
    "\n",
    "if not positive_prior:\n",
    "\n",
    "\tenergy_grid = np.linspace(-5,5,1000)\n",
    "\n",
    "else:\n",
    "    \n",
    "    energy_grid = np.linspace(0,1,1000)\n",
    "    \n",
    "    \n",
    "    \n",
    "    \n",
    "blue = \"#4152E3\"\n",
    "red = \"#E3414B\"\n",
    "green = \"#41E39E\""
   ]
  },
  {
   "cell_type": "markdown",
   "id": "afe086f1",
   "metadata": {
    "lines_to_next_cell": 0,
    "papermill": {
     "duration": 0.000976,
     "end_time": "2024-09-10T20:05:03.550354",
     "exception": false,
     "start_time": "2024-09-10T20:05:03.549378",
     "status": "completed"
    },
    "tags": []
   },
   "source": [
    "## Description"
   ]
  },
  {
   "cell_type": "code",
   "execution_count": 5,
   "id": "34d37b1f",
   "metadata": {
    "execution": {
     "iopub.execute_input": "2024-09-10T20:05:03.552851Z",
     "iopub.status.busy": "2024-09-10T20:05:03.552707Z",
     "iopub.status.idle": "2024-09-10T20:05:03.556578Z",
     "shell.execute_reply": "2024-09-10T20:05:03.556135Z"
    },
    "papermill": {
     "duration": 0.00653,
     "end_time": "2024-09-10T20:05:03.557816",
     "exception": false,
     "start_time": "2024-09-10T20:05:03.551286",
     "status": "completed"
    },
    "tags": []
   },
   "outputs": [
    {
     "data": {
      "text/html": [
       "<ul>\n",
       "\n",
       "<li>description: The Cauchy distribution</li>\n",
       "\n",
       "<li>formula: $ K \\frac{1}{ \\gamma \\pi} \\left[ \\frac{\\gamma^2}{(x-x_0)^2 + \\gamma^2}  \\right] $</li>\n",
       "\n",
       "<li>parameters: \n",
       "<ul>\n",
       "\n",
       "<li>K: \n",
       "<ul>\n",
       "\n",
       "<li>value: 1.0</li>\n",
       "\n",
       "<li>desc: Integral between -inf and +inf. Fix this to 1 to obtain a Cauchy distribution</li>\n",
       "\n",
       "<li>min_value: None</li>\n",
       "\n",
       "<li>max_value: None</li>\n",
       "\n",
       "<li>unit: </li>\n",
       "\n",
       "<li>is_normalization: False</li>\n",
       "\n",
       "<li>delta: 0.1</li>\n",
       "\n",
       "<li>free: True</li>\n",
       "\n",
       "</ul>\n",
       "\n",
       "</li>\n",
       "\n",
       "<li>x0: \n",
       "<ul>\n",
       "\n",
       "<li>value: 0.0</li>\n",
       "\n",
       "<li>desc: Central value</li>\n",
       "\n",
       "<li>min_value: None</li>\n",
       "\n",
       "<li>max_value: None</li>\n",
       "\n",
       "<li>unit: </li>\n",
       "\n",
       "<li>is_normalization: False</li>\n",
       "\n",
       "<li>delta: 0.1</li>\n",
       "\n",
       "<li>free: True</li>\n",
       "\n",
       "</ul>\n",
       "\n",
       "</li>\n",
       "\n",
       "<li>gamma: \n",
       "<ul>\n",
       "\n",
       "<li>value: 1.0</li>\n",
       "\n",
       "<li>desc: standard deviation</li>\n",
       "\n",
       "<li>min_value: 1e-12</li>\n",
       "\n",
       "<li>max_value: None</li>\n",
       "\n",
       "<li>unit: </li>\n",
       "\n",
       "<li>is_normalization: False</li>\n",
       "\n",
       "<li>delta: 0.1</li>\n",
       "\n",
       "<li>free: True</li>\n",
       "\n",
       "</ul>\n",
       "\n",
       "</li>\n",
       "\n",
       "</ul>\n",
       "\n",
       "</li>\n",
       "\n",
       "</ul>\n"
      ],
      "text/plain": [
       "  * description: The Cauchy distribution\n",
       "  * formula: $ K \\frac{1}{ \\gamma \\pi} \\left[ \\frac{\\gamma^2}{(x-x_0)^2 + \\gamma^2}  \\right]\n",
       "    * $\n",
       "  * parameters:\n",
       "    * K:\n",
       "      * value: 1.0\n",
       "      * desc: Integral between -inf and +inf. Fix this to 1 to obtain a Cauchy distribution\n",
       "      * min_value: null\n",
       "      * max_value: null\n",
       "      * unit: ''\n",
       "      * is_normalization: false\n",
       "      * delta: 0.1\n",
       "      * free: true\n",
       "    * x0:\n",
       "      * value: 0.0\n",
       "      * desc: Central value\n",
       "      * min_value: null\n",
       "      * max_value: null\n",
       "      * unit: ''\n",
       "      * is_normalization: false\n",
       "      * delta: 0.1\n",
       "      * free: true\n",
       "    * gamma:\n",
       "      * value: 1.0\n",
       "      * desc: standard deviation\n",
       "      * min_value: 1.0e-12\n",
       "      * max_value: null\n",
       "      * unit: ''\n",
       "      * is_normalization: false\n",
       "      * delta: 0.1\n",
       "      * free: true"
      ]
     },
     "metadata": {},
     "output_type": "display_data"
    }
   ],
   "source": [
    "func.display()"
   ]
  },
  {
   "cell_type": "markdown",
   "id": "7b5ab596",
   "metadata": {
    "papermill": {
     "duration": 0.00115,
     "end_time": "2024-09-10T20:05:03.560087",
     "exception": false,
     "start_time": "2024-09-10T20:05:03.558937",
     "status": "completed"
    },
    "tags": []
   },
   "source": [
    "## Shape \n",
    "\n",
    "The shape of the function. \n",
    "\n",
    "*If this is not a photon model but a prior or linear function then ignore the units as these docs are auto-generated*"
   ]
  },
  {
   "cell_type": "code",
   "execution_count": 6,
   "id": "19d60c28",
   "metadata": {
    "execution": {
     "iopub.execute_input": "2024-09-10T20:05:03.562799Z",
     "iopub.status.busy": "2024-09-10T20:05:03.562644Z",
     "iopub.status.idle": "2024-09-10T20:05:03.662093Z",
     "shell.execute_reply": "2024-09-10T20:05:03.661679Z"
    },
    "papermill": {
     "duration": 0.102228,
     "end_time": "2024-09-10T20:05:03.663337",
     "exception": false,
     "start_time": "2024-09-10T20:05:03.561109",
     "status": "completed"
    },
    "tags": [
     "nbsphinx-thumbnail"
    ]
   },
   "outputs": [
    {
     "data": {
      "text/plain": [
       "Text(0, 0.5, 'probability')"
      ]
     },
     "execution_count": 6,
     "metadata": {},
     "output_type": "execute_result"
    },
    {
     "data": {
      "image/png": "[encoded data removed]",
      "text/plain": [
       "<Figure size 1040x910 with 1 Axes>"
      ]
     },
     "metadata": {},
     "output_type": "display_data"
    }
   ],
   "source": [
    "fig, ax = plt.subplots()\n",
    "\n",
    "\n",
    "ax.plot(energy_grid, func(energy_grid), color=blue, lw=3)\n",
    "\n",
    "ax.set_xlabel(\"x\")\n",
    "ax.set_ylabel(\"probability\")\n"
   ]
  },
  {
   "cell_type": "markdown",
   "id": "8255899a",
   "metadata": {
    "papermill": {
     "duration": 0.001383,
     "end_time": "2024-09-10T20:05:03.666346",
     "exception": false,
     "start_time": "2024-09-10T20:05:03.664963",
     "status": "completed"
    },
    "tags": []
   },
   "source": [
    "## Random Number Generation\n",
    "\n",
    "This is how we can generate random numbers from the prior.\n"
   ]
  },
  {
   "cell_type": "code",
   "execution_count": 7,
   "id": "5adb4b42",
   "metadata": {
    "execution": {
     "iopub.execute_input": "2024-09-10T20:05:03.669734Z",
     "iopub.status.busy": "2024-09-10T20:05:03.669584Z",
     "iopub.status.idle": "2024-09-10T20:05:03.785494Z",
     "shell.execute_reply": "2024-09-10T20:05:03.785166Z"
    },
    "papermill": {
     "duration": 0.119282,
     "end_time": "2024-09-10T20:05:03.786948",
     "exception": false,
     "start_time": "2024-09-10T20:05:03.667666",
     "status": "completed"
    },
    "tags": []
   },
   "outputs": [
    {
     "data": {
      "text/plain": [
       "Text(0, 0.5, 'N')"
      ]
     },
     "execution_count": 7,
     "metadata": {},
     "output_type": "execute_result"
    },
    {
     "data": {
      "image/png": "[encoded data removed]",
      "text/plain": [
       "<Figure size 1040x910 with 1 Axes>"
      ]
     },
     "metadata": {},
     "output_type": "display_data"
    }
   ],
   "source": [
    "\n",
    "\n",
    "u = np.random.uniform(0,1, size=5000)\n",
    "\n",
    "draws = [func.from_unit_cube(x) for x in u]\n",
    "\n",
    "\n",
    "fig, ax = plt.subplots()\n",
    "\n",
    "\n",
    "ax.hist(draws, color=green, bins=50)\n",
    "\n",
    "ax.set_xlabel(\"value\")\n",
    "ax.set_ylabel(\"N\")\n",
    "\n"
   ]
  }
 ],
 "metadata": {
  "jupytext": {
   "formats": "ipynb,md"
  },
  "kernelspec": {
   "display_name": "Python 3 (ipykernel)",
   "language": "python",
   "name": "python3"
  },
  "language_info": {
   "codemirror_mode": {
    "name": "ipython",
    "version": 3
   },
   "file_extension": ".py",
   "mimetype": "text/x-python",
   "name": "python",
   "nbconvert_exporter": "python",
   "pygments_lexer": "ipython3",
   "version": "3.9.13"
  },
  "papermill": {
   "default_parameters": {},
   "duration": 2.694922,
   "end_time": "2024-09-10T20:05:04.214170",
   "environment_variables": {},
   "exception": null,
   "input_path": "Cauchy.ipynb",
   "output_path": "/Users/runner/work/astromodels/astromodels/docs/notebooks/Cauchy.ipynb",
   "parameters": {
    "func_name": "Cauchy",
    "positive_prior": false
   },
   "start_time": "2024-09-10T20:05:01.519248",
   "version": "2.6.0"
  }
 },
 "nbformat": 4,
 "nbformat_minor": 5
}
