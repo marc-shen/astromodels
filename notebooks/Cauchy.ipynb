{
 "cells": [
  {
   "cell_type": "markdown",
   "id": "a2472b51",
   "metadata": {
    "papermill": {
     "duration": 0.00501,
     "end_time": "2022-10-28T15:06:25.808876",
     "exception": false,
     "start_time": "2022-10-28T15:06:25.803866",
     "status": "completed"
    },
    "tags": []
   },
   "source": [
    "# Cauchy"
   ]
  },
  {
   "cell_type": "code",
   "execution_count": 1,
   "id": "3deea4ce",
   "metadata": {
    "execution": {
     "iopub.execute_input": "2022-10-28T15:06:25.818234Z",
     "iopub.status.busy": "2022-10-28T15:06:25.817544Z",
     "iopub.status.idle": "2022-10-28T15:06:29.825583Z",
     "shell.execute_reply": "2022-10-28T15:06:29.824177Z"
    },
    "nbsphinx": "hidden",
    "papermill": {
     "duration": 4.016787,
     "end_time": "2022-10-28T15:06:29.829464",
     "exception": false,
     "start_time": "2022-10-28T15:06:25.812677",
     "status": "completed"
    },
    "tags": []
   },
   "outputs": [],
   "source": [
    "%%capture\n",
    "\n",
    "import numpy as np\n",
    "\n",
    "import matplotlib.pyplot as plt\n",
    "\n",
    "import warnings\n",
    "warnings.simplefilter(\"ignore\")\n",
    "\n",
    "from astromodels.functions.function import _known_functions\n",
    "\n",
    "\n",
    "from jupyterthemes import jtplot\n",
    "jtplot.style(context=\"talk\", fscale=1, ticks=True, grid=False)\n",
    "%matplotlib inline"
   ]
  },
  {
   "cell_type": "code",
   "execution_count": 2,
   "id": "497de5ea",
   "metadata": {
    "execution": {
     "iopub.execute_input": "2022-10-28T15:06:29.839218Z",
     "iopub.status.busy": "2022-10-28T15:06:29.838667Z",
     "iopub.status.idle": "2022-10-28T15:06:29.846451Z",
     "shell.execute_reply": "2022-10-28T15:06:29.844971Z"
    },
    "nbsphinx": "hidden",
    "papermill": {
     "duration": 0.017205,
     "end_time": "2022-10-28T15:06:29.850211",
     "exception": false,
     "start_time": "2022-10-28T15:06:29.833006",
     "status": "completed"
    },
    "tags": [
     "parameters"
    ]
   },
   "outputs": [],
   "source": [
    "func_name = \"TbAbs\"\n",
    "\n",
    "positive_prior = False\n"
   ]
  },
  {
   "cell_type": "code",
   "execution_count": 3,
   "id": "e9874594",
   "metadata": {
    "execution": {
     "iopub.execute_input": "2022-10-28T15:06:29.858896Z",
     "iopub.status.busy": "2022-10-28T15:06:29.858357Z",
     "iopub.status.idle": "2022-10-28T15:06:29.866508Z",
     "shell.execute_reply": "2022-10-28T15:06:29.865270Z"
    },
    "papermill": {
     "duration": 0.016336,
     "end_time": "2022-10-28T15:06:29.869854",
     "exception": false,
     "start_time": "2022-10-28T15:06:29.853518",
     "status": "completed"
    },
    "tags": [
     "injected-parameters"
    ]
   },
   "outputs": [],
   "source": [
    "# Parameters\n",
    "func_name = \"Cauchy\"\n",
    "positive_prior = False\n"
   ]
  },
  {
   "cell_type": "code",
   "execution_count": 4,
   "id": "5cb92887",
   "metadata": {
    "execution": {
     "iopub.execute_input": "2022-10-28T15:06:29.877980Z",
     "iopub.status.busy": "2022-10-28T15:06:29.877500Z",
     "iopub.status.idle": "2022-10-28T15:06:29.889727Z",
     "shell.execute_reply": "2022-10-28T15:06:29.888450Z"
    },
    "lines_to_next_cell": 0,
    "nbsphinx": "hidden",
    "papermill": {
     "duration": 0.020632,
     "end_time": "2022-10-28T15:06:29.893566",
     "exception": false,
     "start_time": "2022-10-28T15:06:29.872934",
     "status": "completed"
    },
    "tags": []
   },
   "outputs": [],
   "source": [
    "func = _known_functions[func_name]()\n",
    "\n",
    "if not positive_prior:\n",
    "\n",
    "\tenergy_grid = np.linspace(-5,5,1000)\n",
    "\n",
    "else:\n",
    "    \n",
    "    energy_grid = np.linspace(0,1,1000)\n",
    "    \n",
    "    \n",
    "    \n",
    "    \n",
    "blue = \"#4152E3\"\n",
    "red = \"#E3414B\"\n",
    "green = \"#41E39E\""
   ]
  },
  {
   "cell_type": "markdown",
   "id": "36b0f2fc",
   "metadata": {
    "lines_to_next_cell": 0,
    "papermill": {
     "duration": 0.003954,
     "end_time": "2022-10-28T15:06:29.901441",
     "exception": false,
     "start_time": "2022-10-28T15:06:29.897487",
     "status": "completed"
    },
    "tags": []
   },
   "source": [
    "## Description"
   ]
  },
  {
   "cell_type": "code",
   "execution_count": 5,
   "id": "a9606e08",
   "metadata": {
    "execution": {
     "iopub.execute_input": "2022-10-28T15:06:29.910679Z",
     "iopub.status.busy": "2022-10-28T15:06:29.910188Z",
     "iopub.status.idle": "2022-10-28T15:06:29.921763Z",
     "shell.execute_reply": "2022-10-28T15:06:29.920391Z"
    },
    "papermill": {
     "duration": 0.020496,
     "end_time": "2022-10-28T15:06:29.925025",
     "exception": false,
     "start_time": "2022-10-28T15:06:29.904529",
     "status": "completed"
    },
    "tags": []
   },
   "outputs": [
    {
     "data": {
      "text/html": [
       "<ul>\n",
       "\n",
       "<li>description: The Cauchy distribution</li>\n",
       "\n",
       "<li>formula: $ K \\frac{1}{ \\gamma \\pi} \\left[ \\frac{\\gamma^2}{(x-x_0)^2 + \\gamma^2}  \\right] $</li>\n",
       "\n",
       "<li>parameters: \n",
       "<ul>\n",
       "\n",
       "<li>K: \n",
       "<ul>\n",
       "\n",
       "<li>value: 1.0</li>\n",
       "\n",
       "<li>desc: Integral between -inf and +inf. Fix this to 1 to obtain a Cauchy distribution</li>\n",
       "\n",
       "<li>min_value: None</li>\n",
       "\n",
       "<li>max_value: None</li>\n",
       "\n",
       "<li>unit: </li>\n",
       "\n",
       "<li>is_normalization: False</li>\n",
       "\n",
       "<li>delta: 0.1</li>\n",
       "\n",
       "<li>free: True</li>\n",
       "\n",
       "</ul>\n",
       "\n",
       "</li>\n",
       "\n",
       "<li>x0: \n",
       "<ul>\n",
       "\n",
       "<li>value: 0.0</li>\n",
       "\n",
       "<li>desc: Central value</li>\n",
       "\n",
       "<li>min_value: None</li>\n",
       "\n",
       "<li>max_value: None</li>\n",
       "\n",
       "<li>unit: </li>\n",
       "\n",
       "<li>is_normalization: False</li>\n",
       "\n",
       "<li>delta: 0.1</li>\n",
       "\n",
       "<li>free: True</li>\n",
       "\n",
       "</ul>\n",
       "\n",
       "</li>\n",
       "\n",
       "<li>gamma: \n",
       "<ul>\n",
       "\n",
       "<li>value: 1.0</li>\n",
       "\n",
       "<li>desc: standard deviation</li>\n",
       "\n",
       "<li>min_value: 1e-12</li>\n",
       "\n",
       "<li>max_value: None</li>\n",
       "\n",
       "<li>unit: </li>\n",
       "\n",
       "<li>is_normalization: False</li>\n",
       "\n",
       "<li>delta: 0.1</li>\n",
       "\n",
       "<li>free: True</li>\n",
       "\n",
       "</ul>\n",
       "\n",
       "</li>\n",
       "\n",
       "</ul>\n",
       "\n",
       "</li>\n",
       "\n",
       "</ul>\n"
      ],
      "text/plain": [
       "  * description: The Cauchy distribution\n",
       "  * formula: $ K \\frac{1}{ \\gamma \\pi} \\left[ \\frac{\\gamma^2}{(x-x_0)^2 + \\gamma^2}  \\right]\n",
       "    * $\n",
       "  * parameters:\n",
       "    * K:\n",
       "      * value: 1.0\n",
       "      * desc: Integral between -inf and +inf. Fix this to 1 to obtain a Cauchy distribution\n",
       "      * min_value: null\n",
       "      * max_value: null\n",
       "      * unit: ''\n",
       "      * is_normalization: false\n",
       "      * delta: 0.1\n",
       "      * free: true\n",
       "    * x0:\n",
       "      * value: 0.0\n",
       "      * desc: Central value\n",
       "      * min_value: null\n",
       "      * max_value: null\n",
       "      * unit: ''\n",
       "      * is_normalization: false\n",
       "      * delta: 0.1\n",
       "      * free: true\n",
       "    * gamma:\n",
       "      * value: 1.0\n",
       "      * desc: standard deviation\n",
       "      * min_value: 1.0e-12\n",
       "      * max_value: null\n",
       "      * unit: ''\n",
       "      * is_normalization: false\n",
       "      * delta: 0.1\n",
       "      * free: true"
      ]
     },
     "metadata": {},
     "output_type": "display_data"
    }
   ],
   "source": [
    "func.display()"
   ]
  },
  {
   "cell_type": "markdown",
   "id": "c2b979cb",
   "metadata": {
    "papermill": {
     "duration": 0.003489,
     "end_time": "2022-10-28T15:06:29.932537",
     "exception": false,
     "start_time": "2022-10-28T15:06:29.929048",
     "status": "completed"
    },
    "tags": []
   },
   "source": [
    "## Shape \n",
    "\n",
    "The shape of the function. \n",
    "\n",
    "*If this is not a photon model but a prior or linear function then ignore the units as these docs are auto-generated*"
   ]
  },
  {
   "cell_type": "code",
   "execution_count": 6,
   "id": "ccadf13c",
   "metadata": {
    "execution": {
     "iopub.execute_input": "2022-10-28T15:06:29.942016Z",
     "iopub.status.busy": "2022-10-28T15:06:29.941486Z",
     "iopub.status.idle": "2022-10-28T15:06:30.370465Z",
     "shell.execute_reply": "2022-10-28T15:06:30.369047Z"
    },
    "papermill": {
     "duration": 0.437908,
     "end_time": "2022-10-28T15:06:30.374188",
     "exception": false,
     "start_time": "2022-10-28T15:06:29.936280",
     "status": "completed"
    },
    "tags": [
     "nbsphinx-thumbnail"
    ]
   },
   "outputs": [
    {
     "data": {
      "text/plain": [
       "Text(0, 0.5, 'probability')"
      ]
     },
     "execution_count": 6,
     "metadata": {},
     "output_type": "execute_result"
    },
    {
     "data": {
      "image/png": "[encoded data removed]",
      "text/plain": [
       "<Figure size 1040x910 with 1 Axes>"
      ]
     },
     "metadata": {},
     "output_type": "display_data"
    }
   ],
   "source": [
    "fig, ax = plt.subplots()\n",
    "\n",
    "\n",
    "ax.plot(energy_grid, func(energy_grid), color=blue, lw=3)\n",
    "\n",
    "ax.set_xlabel(\"x\")\n",
    "ax.set_ylabel(\"probability\")\n"
   ]
  },
  {
   "cell_type": "markdown",
   "id": "63fd16fe",
   "metadata": {
    "papermill": {
     "duration": 0.004264,
     "end_time": "2022-10-28T15:06:30.383445",
     "exception": false,
     "start_time": "2022-10-28T15:06:30.379181",
     "status": "completed"
    },
    "tags": []
   },
   "source": [
    "## Random Number Generation\n",
    "\n",
    "This is how we can generate random numbers from the prior.\n"
   ]
  },
  {
   "cell_type": "code",
   "execution_count": 7,
   "id": "21711d75",
   "metadata": {
    "execution": {
     "iopub.execute_input": "2022-10-28T15:06:30.394508Z",
     "iopub.status.busy": "2022-10-28T15:06:30.394051Z",
     "iopub.status.idle": "2022-10-28T15:06:30.808840Z",
     "shell.execute_reply": "2022-10-28T15:06:30.807678Z"
    },
    "papermill": {
     "duration": 0.424387,
     "end_time": "2022-10-28T15:06:30.812430",
     "exception": false,
     "start_time": "2022-10-28T15:06:30.388043",
     "status": "completed"
    },
    "tags": []
   },
   "outputs": [
    {
     "data": {
      "text/plain": [
       "Text(0, 0.5, 'N')"
      ]
     },
     "execution_count": 7,
     "metadata": {},
     "output_type": "execute_result"
    },
    {
     "data": {
      "image/png": "[encoded data removed]",
      "text/plain": [
       "<Figure size 1040x910 with 1 Axes>"
      ]
     },
     "metadata": {},
     "output_type": "display_data"
    }
   ],
   "source": [
    "\n",
    "\n",
    "u = np.random.uniform(0,1, size=5000)\n",
    "\n",
    "draws = [func.from_unit_cube(x) for x in u]\n",
    "\n",
    "\n",
    "fig, ax = plt.subplots()\n",
    "\n",
    "\n",
    "ax.hist(draws, color=green, bins=50)\n",
    "\n",
    "ax.set_xlabel(\"value\")\n",
    "ax.set_ylabel(\"N\")\n",
    "\n"
   ]
  }
 ],
 "metadata": {
  "jupytext": {
   "formats": "ipynb,md"
  },
  "kernelspec": {
   "display_name": "Python 3 (ipykernel)",
   "language": "python",
   "name": "python3"
  },
  "language_info": {
   "codemirror_mode": {
    "name": "ipython",
    "version": 3
   },
   "file_extension": ".py",
   "mimetype": "text/x-python",
   "name": "python",
   "nbconvert_exporter": "python",
   "pygments_lexer": "ipython3",
   "version": "3.9.14"
  },
  "papermill": {
   "default_parameters": {},
   "duration": 7.242955,
   "end_time": "2022-10-28T15:06:31.694649",
   "environment_variables": {},
   "exception": null,
   "input_path": "Cauchy.ipynb",
   "output_path": "/Users/runner/work/astromodels/astromodels/docs/notebooks/Cauchy.ipynb",
   "parameters": {
    "func_name": "Cauchy",
    "positive_prior": false
   },
   "start_time": "2022-10-28T15:06:24.451694",
   "version": "2.4.0"
  }
 },
 "nbformat": 4,
 "nbformat_minor": 5
}
