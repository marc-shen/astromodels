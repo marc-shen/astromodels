{
 "cells": [
  {
   "cell_type": "markdown",
   "id": "890a56ac",
   "metadata": {
    "papermill": {
     "duration": 0.004079,
     "end_time": "2022-09-27T11:23:14.206539",
     "exception": false,
     "start_time": "2022-09-27T11:23:14.202460",
     "status": "completed"
    },
    "tags": []
   },
   "source": [
    "# Cauchy"
   ]
  },
  {
   "cell_type": "code",
   "execution_count": 1,
   "id": "fc2845c4",
   "metadata": {
    "execution": {
     "iopub.execute_input": "2022-09-27T11:23:14.214687Z",
     "iopub.status.busy": "2022-09-27T11:23:14.214238Z",
     "iopub.status.idle": "2022-09-27T11:23:17.974814Z",
     "shell.execute_reply": "2022-09-27T11:23:17.973715Z"
    },
    "nbsphinx": "hidden",
    "papermill": {
     "duration": 3.768603,
     "end_time": "2022-09-27T11:23:17.978436",
     "exception": false,
     "start_time": "2022-09-27T11:23:14.209833",
     "status": "completed"
    },
    "tags": []
   },
   "outputs": [],
   "source": [
    "%%capture\n",
    "\n",
    "import numpy as np\n",
    "\n",
    "import matplotlib.pyplot as plt\n",
    "\n",
    "import warnings\n",
    "warnings.simplefilter(\"ignore\")\n",
    "\n",
    "from astromodels.functions.function import _known_functions\n",
    "\n",
    "\n",
    "from jupyterthemes import jtplot\n",
    "jtplot.style(context=\"talk\", fscale=1, ticks=True, grid=False)\n",
    "%matplotlib inline"
   ]
  },
  {
   "cell_type": "code",
   "execution_count": 2,
   "id": "580a124b",
   "metadata": {
    "execution": {
     "iopub.execute_input": "2022-09-27T11:23:17.987195Z",
     "iopub.status.busy": "2022-09-27T11:23:17.986687Z",
     "iopub.status.idle": "2022-09-27T11:23:17.995153Z",
     "shell.execute_reply": "2022-09-27T11:23:17.994174Z"
    },
    "nbsphinx": "hidden",
    "papermill": {
     "duration": 0.015422,
     "end_time": "2022-09-27T11:23:17.997957",
     "exception": false,
     "start_time": "2022-09-27T11:23:17.982535",
     "status": "completed"
    },
    "tags": [
     "parameters"
    ]
   },
   "outputs": [],
   "source": [
    "func_name = \"TbAbs\"\n",
    "\n",
    "positive_prior = False\n"
   ]
  },
  {
   "cell_type": "code",
   "execution_count": 3,
   "id": "ac9b6279",
   "metadata": {
    "execution": {
     "iopub.execute_input": "2022-09-27T11:23:18.004825Z",
     "iopub.status.busy": "2022-09-27T11:23:18.004484Z",
     "iopub.status.idle": "2022-09-27T11:23:18.013122Z",
     "shell.execute_reply": "2022-09-27T11:23:18.012070Z"
    },
    "papermill": {
     "duration": 0.015579,
     "end_time": "2022-09-27T11:23:18.016242",
     "exception": false,
     "start_time": "2022-09-27T11:23:18.000663",
     "status": "completed"
    },
    "tags": [
     "injected-parameters"
    ]
   },
   "outputs": [],
   "source": [
    "# Parameters\n",
    "func_name = \"Cauchy\"\n",
    "positive_prior = False\n"
   ]
  },
  {
   "cell_type": "code",
   "execution_count": 4,
   "id": "7a02f025",
   "metadata": {
    "execution": {
     "iopub.execute_input": "2022-09-27T11:23:18.023745Z",
     "iopub.status.busy": "2022-09-27T11:23:18.023368Z",
     "iopub.status.idle": "2022-09-27T11:23:18.032002Z",
     "shell.execute_reply": "2022-09-27T11:23:18.031022Z"
    },
    "lines_to_next_cell": 0,
    "nbsphinx": "hidden",
    "papermill": {
     "duration": 0.015529,
     "end_time": "2022-09-27T11:23:18.034798",
     "exception": false,
     "start_time": "2022-09-27T11:23:18.019269",
     "status": "completed"
    },
    "tags": []
   },
   "outputs": [],
   "source": [
    "func = _known_functions[func_name]()\n",
    "\n",
    "if not positive_prior:\n",
    "\n",
    "\tenergy_grid = np.linspace(-5,5,1000)\n",
    "\n",
    "else:\n",
    "    \n",
    "    energy_grid = np.linspace(0,1,1000)\n",
    "    \n",
    "    \n",
    "    \n",
    "    \n",
    "blue = \"#4152E3\"\n",
    "red = \"#E3414B\"\n",
    "green = \"#41E39E\""
   ]
  },
  {
   "cell_type": "markdown",
   "id": "8a14a009",
   "metadata": {
    "lines_to_next_cell": 0,
    "papermill": {
     "duration": 0.002814,
     "end_time": "2022-09-27T11:23:18.040570",
     "exception": false,
     "start_time": "2022-09-27T11:23:18.037756",
     "status": "completed"
    },
    "tags": []
   },
   "source": [
    "## Description"
   ]
  },
  {
   "cell_type": "code",
   "execution_count": 5,
   "id": "39b38f8e",
   "metadata": {
    "execution": {
     "iopub.execute_input": "2022-09-27T11:23:18.048584Z",
     "iopub.status.busy": "2022-09-27T11:23:18.047926Z",
     "iopub.status.idle": "2022-09-27T11:23:18.059465Z",
     "shell.execute_reply": "2022-09-27T11:23:18.058062Z"
    },
    "papermill": {
     "duration": 0.018993,
     "end_time": "2022-09-27T11:23:18.062695",
     "exception": false,
     "start_time": "2022-09-27T11:23:18.043702",
     "status": "completed"
    },
    "tags": []
   },
   "outputs": [
    {
     "data": {
      "text/html": [
       "<ul>\n",
       "\n",
       "<li>description: The Cauchy distribution</li>\n",
       "\n",
       "<li>formula: $ K \\frac{1}{ \\gamma \\pi} \\left[ \\frac{\\gamma^2}{(x-x_0)^2 + \\gamma^2}  \\right] $</li>\n",
       "\n",
       "<li>parameters: \n",
       "<ul>\n",
       "\n",
       "<li>K: \n",
       "<ul>\n",
       "\n",
       "<li>value: 1.0</li>\n",
       "\n",
       "<li>desc: Integral between -inf and +inf. Fix this to 1 to obtain a Cauchy distribution</li>\n",
       "\n",
       "<li>min_value: None</li>\n",
       "\n",
       "<li>max_value: None</li>\n",
       "\n",
       "<li>unit: </li>\n",
       "\n",
       "<li>is_normalization: False</li>\n",
       "\n",
       "<li>delta: 0.1</li>\n",
       "\n",
       "<li>free: True</li>\n",
       "\n",
       "</ul>\n",
       "\n",
       "</li>\n",
       "\n",
       "<li>x0: \n",
       "<ul>\n",
       "\n",
       "<li>value: 0.0</li>\n",
       "\n",
       "<li>desc: Central value</li>\n",
       "\n",
       "<li>min_value: None</li>\n",
       "\n",
       "<li>max_value: None</li>\n",
       "\n",
       "<li>unit: </li>\n",
       "\n",
       "<li>is_normalization: False</li>\n",
       "\n",
       "<li>delta: 0.1</li>\n",
       "\n",
       "<li>free: True</li>\n",
       "\n",
       "</ul>\n",
       "\n",
       "</li>\n",
       "\n",
       "<li>gamma: \n",
       "<ul>\n",
       "\n",
       "<li>value: 1.0</li>\n",
       "\n",
       "<li>desc: standard deviation</li>\n",
       "\n",
       "<li>min_value: 1e-12</li>\n",
       "\n",
       "<li>max_value: None</li>\n",
       "\n",
       "<li>unit: </li>\n",
       "\n",
       "<li>is_normalization: False</li>\n",
       "\n",
       "<li>delta: 0.1</li>\n",
       "\n",
       "<li>free: True</li>\n",
       "\n",
       "</ul>\n",
       "\n",
       "</li>\n",
       "\n",
       "</ul>\n",
       "\n",
       "</li>\n",
       "\n",
       "</ul>\n"
      ],
      "text/plain": [
       "  * description: The Cauchy distribution\n",
       "  * formula: $ K \\frac{1}{ \\gamma \\pi} \\left[ \\frac{\\gamma^2}{(x-x_0)^2 + \\gamma^2}  \\right]\n",
       "    * $\n",
       "  * parameters:\n",
       "    * K:\n",
       "      * value: 1.0\n",
       "      * desc: Integral between -inf and +inf. Fix this to 1 to obtain a Cauchy distribution\n",
       "      * min_value: null\n",
       "      * max_value: null\n",
       "      * unit: ''\n",
       "      * is_normalization: false\n",
       "      * delta: 0.1\n",
       "      * free: true\n",
       "    * x0:\n",
       "      * value: 0.0\n",
       "      * desc: Central value\n",
       "      * min_value: null\n",
       "      * max_value: null\n",
       "      * unit: ''\n",
       "      * is_normalization: false\n",
       "      * delta: 0.1\n",
       "      * free: true\n",
       "    * gamma:\n",
       "      * value: 1.0\n",
       "      * desc: standard deviation\n",
       "      * min_value: 1.0e-12\n",
       "      * max_value: null\n",
       "      * unit: ''\n",
       "      * is_normalization: false\n",
       "      * delta: 0.1\n",
       "      * free: true"
      ]
     },
     "metadata": {},
     "output_type": "display_data"
    }
   ],
   "source": [
    "func.display()"
   ]
  },
  {
   "cell_type": "markdown",
   "id": "20fe8162",
   "metadata": {
    "papermill": {
     "duration": 0.003179,
     "end_time": "2022-09-27T11:23:18.069370",
     "exception": false,
     "start_time": "2022-09-27T11:23:18.066191",
     "status": "completed"
    },
    "tags": []
   },
   "source": [
    "## Shape \n",
    "\n",
    "The shape of the function. \n",
    "\n",
    "*If this is not a photon model but a prior or linear function then ignore the units as these docs are auto-generated*"
   ]
  },
  {
   "cell_type": "code",
   "execution_count": 6,
   "id": "2e8ab291",
   "metadata": {
    "execution": {
     "iopub.execute_input": "2022-09-27T11:23:18.077512Z",
     "iopub.status.busy": "2022-09-27T11:23:18.077102Z",
     "iopub.status.idle": "2022-09-27T11:23:18.444779Z",
     "shell.execute_reply": "2022-09-27T11:23:18.443783Z"
    },
    "papermill": {
     "duration": 0.375573,
     "end_time": "2022-09-27T11:23:18.448034",
     "exception": false,
     "start_time": "2022-09-27T11:23:18.072461",
     "status": "completed"
    },
    "tags": [
     "nbsphinx-thumbnail"
    ]
   },
   "outputs": [
    {
     "data": {
      "text/plain": [
       "Text(0, 0.5, 'probability')"
      ]
     },
     "execution_count": 6,
     "metadata": {},
     "output_type": "execute_result"
    },
    {
     "data": {
      "image/png": "[encoded data removed]",
      "text/plain": [
       "<Figure size 1040x910 with 1 Axes>"
      ]
     },
     "metadata": {},
     "output_type": "display_data"
    }
   ],
   "source": [
    "fig, ax = plt.subplots()\n",
    "\n",
    "\n",
    "ax.plot(energy_grid, func(energy_grid), color=blue, lw=3)\n",
    "\n",
    "ax.set_xlabel(\"x\")\n",
    "ax.set_ylabel(\"probability\")\n"
   ]
  },
  {
   "cell_type": "markdown",
   "id": "212b7e10",
   "metadata": {
    "papermill": {
     "duration": 0.004262,
     "end_time": "2022-09-27T11:23:18.456223",
     "exception": false,
     "start_time": "2022-09-27T11:23:18.451961",
     "status": "completed"
    },
    "tags": []
   },
   "source": [
    "## Random Number Generation\n",
    "\n",
    "This is how we can generate random numbers from the prior.\n"
   ]
  },
  {
   "cell_type": "code",
   "execution_count": 7,
   "id": "491ee085",
   "metadata": {
    "execution": {
     "iopub.execute_input": "2022-09-27T11:23:18.465740Z",
     "iopub.status.busy": "2022-09-27T11:23:18.464844Z",
     "iopub.status.idle": "2022-09-27T11:23:18.875956Z",
     "shell.execute_reply": "2022-09-27T11:23:18.874697Z"
    },
    "papermill": {
     "duration": 0.419503,
     "end_time": "2022-09-27T11:23:18.879145",
     "exception": false,
     "start_time": "2022-09-27T11:23:18.459642",
     "status": "completed"
    },
    "tags": []
   },
   "outputs": [
    {
     "data": {
      "text/plain": [
       "Text(0, 0.5, 'N')"
      ]
     },
     "execution_count": 7,
     "metadata": {},
     "output_type": "execute_result"
    },
    {
     "data": {
      "image/png": "[encoded data removed]",
      "text/plain": [
       "<Figure size 1040x910 with 1 Axes>"
      ]
     },
     "metadata": {},
     "output_type": "display_data"
    }
   ],
   "source": [
    "\n",
    "\n",
    "u = np.random.uniform(0,1, size=5000)\n",
    "\n",
    "draws = [func.from_unit_cube(x) for x in u]\n",
    "\n",
    "\n",
    "fig, ax = plt.subplots()\n",
    "\n",
    "\n",
    "ax.hist(draws, color=green, bins=50)\n",
    "\n",
    "ax.set_xlabel(\"value\")\n",
    "ax.set_ylabel(\"N\")\n",
    "\n"
   ]
  }
 ],
 "metadata": {
  "jupytext": {
   "formats": "ipynb,md"
  },
  "kernelspec": {
   "display_name": "Python 3 (ipykernel)",
   "language": "python",
   "name": "python3"
  },
  "language_info": {
   "codemirror_mode": {
    "name": "ipython",
    "version": 3
   },
   "file_extension": ".py",
   "mimetype": "text/x-python",
   "name": "python",
   "nbconvert_exporter": "python",
   "pygments_lexer": "ipython3",
   "version": "3.9.14"
  },
  "papermill": {
   "default_parameters": {},
   "duration": 6.540501,
   "end_time": "2022-09-27T11:23:19.515513",
   "environment_variables": {},
   "exception": null,
   "input_path": "Cauchy.ipynb",
   "output_path": "/Users/runner/work/astromodels/astromodels/docs/notebooks/Cauchy.ipynb",
   "parameters": {
    "func_name": "Cauchy",
    "positive_prior": false
   },
   "start_time": "2022-09-27T11:23:12.975012",
   "version": "2.4.0"
  }
 },
 "nbformat": 4,
 "nbformat_minor": 5
}
