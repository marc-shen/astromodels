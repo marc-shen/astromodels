{
 "cells": [
  {
   "cell_type": "markdown",
   "id": "a2cfe83d",
   "metadata": {
    "papermill": {
     "duration": 0.001823,
     "end_time": "2024-09-10T20:41:53.753271",
     "exception": false,
     "start_time": "2024-09-10T20:41:53.751448",
     "status": "completed"
    },
    "tags": []
   },
   "source": [
    "# Cauchy"
   ]
  },
  {
   "cell_type": "code",
   "execution_count": 1,
   "id": "541e5a58",
   "metadata": {
    "execution": {
     "iopub.execute_input": "2024-09-10T20:41:53.757169Z",
     "iopub.status.busy": "2024-09-10T20:41:53.756947Z",
     "iopub.status.idle": "2024-09-10T20:41:56.235851Z",
     "shell.execute_reply": "2024-09-10T20:41:56.231902Z"
    },
    "nbsphinx": "hidden",
    "papermill": {
     "duration": 2.504444,
     "end_time": "2024-09-10T20:41:56.258979",
     "exception": false,
     "start_time": "2024-09-10T20:41:53.754535",
     "status": "completed"
    },
    "tags": []
   },
   "outputs": [],
   "source": [
    "%%capture\n",
    "\n",
    "import numpy as np\n",
    "\n",
    "import matplotlib.pyplot as plt\n",
    "\n",
    "import warnings\n",
    "warnings.simplefilter(\"ignore\")\n",
    "\n",
    "from astromodels.functions.function import _known_functions\n",
    "\n",
    "\n",
    "from jupyterthemes import jtplot\n",
    "jtplot.style(context=\"talk\", fscale=1, ticks=True, grid=False)\n",
    "%matplotlib inline"
   ]
  },
  {
   "cell_type": "code",
   "execution_count": 2,
   "id": "9e9994cf",
   "metadata": {
    "execution": {
     "iopub.execute_input": "2024-09-10T20:41:56.272895Z",
     "iopub.status.busy": "2024-09-10T20:41:56.272344Z",
     "iopub.status.idle": "2024-09-10T20:41:56.289276Z",
     "shell.execute_reply": "2024-09-10T20:41:56.275081Z"
    },
    "nbsphinx": "hidden",
    "papermill": {
     "duration": 0.032781,
     "end_time": "2024-09-10T20:41:56.300698",
     "exception": false,
     "start_time": "2024-09-10T20:41:56.267917",
     "status": "completed"
    },
    "tags": [
     "parameters"
    ]
   },
   "outputs": [],
   "source": [
    "func_name = \"TbAbs\"\n",
    "\n",
    "positive_prior = False\n"
   ]
  },
  {
   "cell_type": "code",
   "execution_count": 3,
   "id": "00ba8cdc",
   "metadata": {
    "execution": {
     "iopub.execute_input": "2024-09-10T20:41:56.307641Z",
     "iopub.status.busy": "2024-09-10T20:41:56.307362Z",
     "iopub.status.idle": "2024-09-10T20:41:56.313231Z",
     "shell.execute_reply": "2024-09-10T20:41:56.311412Z"
    },
    "papermill": {
     "duration": 0.015967,
     "end_time": "2024-09-10T20:41:56.319405",
     "exception": false,
     "start_time": "2024-09-10T20:41:56.303438",
     "status": "completed"
    },
    "tags": [
     "injected-parameters"
    ]
   },
   "outputs": [],
   "source": [
    "# Parameters\n",
    "func_name = \"Cauchy\"\n",
    "positive_prior = False\n"
   ]
  },
  {
   "cell_type": "code",
   "execution_count": 4,
   "id": "bb023140",
   "metadata": {
    "execution": {
     "iopub.execute_input": "2024-09-10T20:41:56.325620Z",
     "iopub.status.busy": "2024-09-10T20:41:56.325389Z",
     "iopub.status.idle": "2024-09-10T20:41:56.340397Z",
     "shell.execute_reply": "2024-09-10T20:41:56.339232Z"
    },
    "lines_to_next_cell": 0,
    "nbsphinx": "hidden",
    "papermill": {
     "duration": 0.02555,
     "end_time": "2024-09-10T20:41:56.346898",
     "exception": false,
     "start_time": "2024-09-10T20:41:56.321348",
     "status": "completed"
    },
    "tags": []
   },
   "outputs": [],
   "source": [
    "func = _known_functions[func_name]()\n",
    "\n",
    "if not positive_prior:\n",
    "\n",
    "\tenergy_grid = np.linspace(-5,5,1000)\n",
    "\n",
    "else:\n",
    "    \n",
    "    energy_grid = np.linspace(0,1,1000)\n",
    "    \n",
    "    \n",
    "    \n",
    "    \n",
    "blue = \"#4152E3\"\n",
    "red = \"#E3414B\"\n",
    "green = \"#41E39E\""
   ]
  },
  {
   "cell_type": "markdown",
   "id": "71f741d2",
   "metadata": {
    "lines_to_next_cell": 0,
    "papermill": {
     "duration": 0.008542,
     "end_time": "2024-09-10T20:41:56.363922",
     "exception": false,
     "start_time": "2024-09-10T20:41:56.355380",
     "status": "completed"
    },
    "tags": []
   },
   "source": [
    "## Description"
   ]
  },
  {
   "cell_type": "code",
   "execution_count": 5,
   "id": "1d1e23f3",
   "metadata": {
    "execution": {
     "iopub.execute_input": "2024-09-10T20:41:56.381685Z",
     "iopub.status.busy": "2024-09-10T20:41:56.381202Z",
     "iopub.status.idle": "2024-09-10T20:41:56.390769Z",
     "shell.execute_reply": "2024-09-10T20:41:56.389398Z"
    },
    "papermill": {
     "duration": 0.022569,
     "end_time": "2024-09-10T20:41:56.395000",
     "exception": false,
     "start_time": "2024-09-10T20:41:56.372431",
     "status": "completed"
    },
    "tags": []
   },
   "outputs": [
    {
     "data": {
      "text/html": [
       "<ul>\n",
       "\n",
       "<li>description: The Cauchy distribution</li>\n",
       "\n",
       "<li>formula: $ K \\frac{1}{ \\gamma \\pi} \\left[ \\frac{\\gamma^2}{(x-x_0)^2 + \\gamma^2}  \\right] $</li>\n",
       "\n",
       "<li>parameters: \n",
       "<ul>\n",
       "\n",
       "<li>K: \n",
       "<ul>\n",
       "\n",
       "<li>value: 1.0</li>\n",
       "\n",
       "<li>desc: Integral between -inf and +inf. Fix this to 1 to obtain a Cauchy distribution</li>\n",
       "\n",
       "<li>min_value: None</li>\n",
       "\n",
       "<li>max_value: None</li>\n",
       "\n",
       "<li>unit: </li>\n",
       "\n",
       "<li>is_normalization: False</li>\n",
       "\n",
       "<li>delta: 0.1</li>\n",
       "\n",
       "<li>free: True</li>\n",
       "\n",
       "</ul>\n",
       "\n",
       "</li>\n",
       "\n",
       "<li>x0: \n",
       "<ul>\n",
       "\n",
       "<li>value: 0.0</li>\n",
       "\n",
       "<li>desc: Central value</li>\n",
       "\n",
       "<li>min_value: None</li>\n",
       "\n",
       "<li>max_value: None</li>\n",
       "\n",
       "<li>unit: </li>\n",
       "\n",
       "<li>is_normalization: False</li>\n",
       "\n",
       "<li>delta: 0.1</li>\n",
       "\n",
       "<li>free: True</li>\n",
       "\n",
       "</ul>\n",
       "\n",
       "</li>\n",
       "\n",
       "<li>gamma: \n",
       "<ul>\n",
       "\n",
       "<li>value: 1.0</li>\n",
       "\n",
       "<li>desc: standard deviation</li>\n",
       "\n",
       "<li>min_value: 1e-12</li>\n",
       "\n",
       "<li>max_value: None</li>\n",
       "\n",
       "<li>unit: </li>\n",
       "\n",
       "<li>is_normalization: False</li>\n",
       "\n",
       "<li>delta: 0.1</li>\n",
       "\n",
       "<li>free: True</li>\n",
       "\n",
       "</ul>\n",
       "\n",
       "</li>\n",
       "\n",
       "</ul>\n",
       "\n",
       "</li>\n",
       "\n",
       "</ul>\n"
      ],
      "text/plain": [
       "  * description: The Cauchy distribution\n",
       "  * formula: $ K \\frac{1}{ \\gamma \\pi} \\left[ \\frac{\\gamma^2}{(x-x_0)^2 + \\gamma^2}  \\right]\n",
       "    * $\n",
       "  * parameters:\n",
       "    * K:\n",
       "      * value: 1.0\n",
       "      * desc: Integral between -inf and +inf. Fix this to 1 to obtain a Cauchy distribution\n",
       "      * min_value: null\n",
       "      * max_value: null\n",
       "      * unit: ''\n",
       "      * is_normalization: false\n",
       "      * delta: 0.1\n",
       "      * free: true\n",
       "    * x0:\n",
       "      * value: 0.0\n",
       "      * desc: Central value\n",
       "      * min_value: null\n",
       "      * max_value: null\n",
       "      * unit: ''\n",
       "      * is_normalization: false\n",
       "      * delta: 0.1\n",
       "      * free: true\n",
       "    * gamma:\n",
       "      * value: 1.0\n",
       "      * desc: standard deviation\n",
       "      * min_value: 1.0e-12\n",
       "      * max_value: null\n",
       "      * unit: ''\n",
       "      * is_normalization: false\n",
       "      * delta: 0.1\n",
       "      * free: true"
      ]
     },
     "metadata": {},
     "output_type": "display_data"
    }
   ],
   "source": [
    "func.display()"
   ]
  },
  {
   "cell_type": "markdown",
   "id": "956d5c2e",
   "metadata": {
    "papermill": {
     "duration": 0.010192,
     "end_time": "2024-09-10T20:41:56.412625",
     "exception": false,
     "start_time": "2024-09-10T20:41:56.402433",
     "status": "completed"
    },
    "tags": []
   },
   "source": [
    "## Shape \n",
    "\n",
    "The shape of the function. \n",
    "\n",
    "*If this is not a photon model but a prior or linear function then ignore the units as these docs are auto-generated*"
   ]
  },
  {
   "cell_type": "code",
   "execution_count": 6,
   "id": "f7eff023",
   "metadata": {
    "execution": {
     "iopub.execute_input": "2024-09-10T20:41:56.425773Z",
     "iopub.status.busy": "2024-09-10T20:41:56.425267Z",
     "iopub.status.idle": "2024-09-10T20:41:56.725810Z",
     "shell.execute_reply": "2024-09-10T20:41:56.725011Z"
    },
    "papermill": {
     "duration": 0.307477,
     "end_time": "2024-09-10T20:41:56.727306",
     "exception": false,
     "start_time": "2024-09-10T20:41:56.419829",
     "status": "completed"
    },
    "tags": [
     "nbsphinx-thumbnail"
    ]
   },
   "outputs": [
    {
     "data": {
      "text/plain": [
       "Text(0, 0.5, 'probability')"
      ]
     },
     "execution_count": 6,
     "metadata": {},
     "output_type": "execute_result"
    },
    {
     "data": {
      "image/png": "[encoded data removed]",
      "text/plain": [
       "<Figure size 1040x910 with 1 Axes>"
      ]
     },
     "metadata": {},
     "output_type": "display_data"
    }
   ],
   "source": [
    "fig, ax = plt.subplots()\n",
    "\n",
    "\n",
    "ax.plot(energy_grid, func(energy_grid), color=blue, lw=3)\n",
    "\n",
    "ax.set_xlabel(\"x\")\n",
    "ax.set_ylabel(\"probability\")\n"
   ]
  },
  {
   "cell_type": "markdown",
   "id": "bd600fb9",
   "metadata": {
    "papermill": {
     "duration": 0.001817,
     "end_time": "2024-09-10T20:41:56.731043",
     "exception": false,
     "start_time": "2024-09-10T20:41:56.729226",
     "status": "completed"
    },
    "tags": []
   },
   "source": [
    "## Random Number Generation\n",
    "\n",
    "This is how we can generate random numbers from the prior.\n"
   ]
  },
  {
   "cell_type": "code",
   "execution_count": 7,
   "id": "53d51651",
   "metadata": {
    "execution": {
     "iopub.execute_input": "2024-09-10T20:41:56.744089Z",
     "iopub.status.busy": "2024-09-10T20:41:56.743727Z",
     "iopub.status.idle": "2024-09-10T20:41:57.064257Z",
     "shell.execute_reply": "2024-09-10T20:41:57.057461Z"
    },
    "papermill": {
     "duration": 0.337318,
     "end_time": "2024-09-10T20:41:57.069830",
     "exception": false,
     "start_time": "2024-09-10T20:41:56.732512",
     "status": "completed"
    },
    "tags": []
   },
   "outputs": [
    {
     "data": {
      "text/plain": [
       "Text(0, 0.5, 'N')"
      ]
     },
     "execution_count": 7,
     "metadata": {},
     "output_type": "execute_result"
    },
    {
     "data": {
      "image/png": "[encoded data removed]",
      "text/plain": [
       "<Figure size 1040x910 with 1 Axes>"
      ]
     },
     "metadata": {},
     "output_type": "display_data"
    }
   ],
   "source": [
    "\n",
    "\n",
    "u = np.random.uniform(0,1, size=5000)\n",
    "\n",
    "draws = [func.from_unit_cube(x) for x in u]\n",
    "\n",
    "\n",
    "fig, ax = plt.subplots()\n",
    "\n",
    "\n",
    "ax.hist(draws, color=green, bins=50)\n",
    "\n",
    "ax.set_xlabel(\"value\")\n",
    "ax.set_ylabel(\"N\")\n",
    "\n"
   ]
  }
 ],
 "metadata": {
  "jupytext": {
   "formats": "ipynb,md"
  },
  "kernelspec": {
   "display_name": "Python 3 (ipykernel)",
   "language": "python",
   "name": "python3"
  },
  "language_info": {
   "codemirror_mode": {
    "name": "ipython",
    "version": 3
   },
   "file_extension": ".py",
   "mimetype": "text/x-python",
   "name": "python",
   "nbconvert_exporter": "python",
   "pygments_lexer": "ipython3",
   "version": "3.9.13"
  },
  "papermill": {
   "default_parameters": {},
   "duration": 4.701961,
   "end_time": "2024-09-10T20:41:57.730984",
   "environment_variables": {},
   "exception": null,
   "input_path": "Cauchy.ipynb",
   "output_path": "/Users/runner/work/astromodels/astromodels/docs/notebooks/Cauchy.ipynb",
   "parameters": {
    "func_name": "Cauchy",
    "positive_prior": false
   },
   "start_time": "2024-09-10T20:41:53.029023",
   "version": "2.6.0"
  }
 },
 "nbformat": 4,
 "nbformat_minor": 5
}
