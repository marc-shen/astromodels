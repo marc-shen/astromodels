{
 "cells": [
  {
   "cell_type": "markdown",
   "id": "e498eb5f",
   "metadata": {
    "papermill": {
     "duration": 0.007886,
     "end_time": "2024-09-11T21:49:31.460316",
     "exception": false,
     "start_time": "2024-09-11T21:49:31.452430",
     "status": "completed"
    },
    "tags": []
   },
   "source": [
    "# Cauchy"
   ]
  },
  {
   "cell_type": "code",
   "execution_count": 1,
   "id": "86f87ba5",
   "metadata": {
    "execution": {
     "iopub.execute_input": "2024-09-11T21:49:31.473918Z",
     "iopub.status.busy": "2024-09-11T21:49:31.473230Z",
     "iopub.status.idle": "2024-09-11T21:49:32.874116Z",
     "shell.execute_reply": "2024-09-11T21:49:32.873562Z"
    },
    "nbsphinx": "hidden",
    "papermill": {
     "duration": 1.409565,
     "end_time": "2024-09-11T21:49:32.875565",
     "exception": false,
     "start_time": "2024-09-11T21:49:31.466000",
     "status": "completed"
    },
    "tags": []
   },
   "outputs": [],
   "source": [
    "%%capture\n",
    "\n",
    "import numpy as np\n",
    "\n",
    "import matplotlib.pyplot as plt\n",
    "\n",
    "import warnings\n",
    "warnings.simplefilter(\"ignore\")\n",
    "\n",
    "from astromodels.functions.function import _known_functions\n",
    "\n",
    "\n",
    "from jupyterthemes import jtplot\n",
    "jtplot.style(context=\"talk\", fscale=1, ticks=True, grid=False)\n",
    "%matplotlib inline"
   ]
  },
  {
   "cell_type": "code",
   "execution_count": 2,
   "id": "86eb436a",
   "metadata": {
    "execution": {
     "iopub.execute_input": "2024-09-11T21:49:32.878788Z",
     "iopub.status.busy": "2024-09-11T21:49:32.878487Z",
     "iopub.status.idle": "2024-09-11T21:49:32.886931Z",
     "shell.execute_reply": "2024-09-11T21:49:32.886515Z"
    },
    "nbsphinx": "hidden",
    "papermill": {
     "duration": 0.011405,
     "end_time": "2024-09-11T21:49:32.888171",
     "exception": false,
     "start_time": "2024-09-11T21:49:32.876766",
     "status": "completed"
    },
    "tags": [
     "parameters"
    ]
   },
   "outputs": [],
   "source": [
    "func_name = \"TbAbs\"\n",
    "\n",
    "positive_prior = False\n"
   ]
  },
  {
   "cell_type": "code",
   "execution_count": 3,
   "id": "f0ec9bed",
   "metadata": {
    "execution": {
     "iopub.execute_input": "2024-09-11T21:49:32.890751Z",
     "iopub.status.busy": "2024-09-11T21:49:32.890605Z",
     "iopub.status.idle": "2024-09-11T21:49:32.898633Z",
     "shell.execute_reply": "2024-09-11T21:49:32.898272Z"
    },
    "papermill": {
     "duration": 0.010825,
     "end_time": "2024-09-11T21:49:32.899987",
     "exception": false,
     "start_time": "2024-09-11T21:49:32.889162",
     "status": "completed"
    },
    "tags": [
     "injected-parameters"
    ]
   },
   "outputs": [],
   "source": [
    "# Parameters\n",
    "func_name = \"Cauchy\"\n",
    "positive_prior = False\n"
   ]
  },
  {
   "cell_type": "code",
   "execution_count": 4,
   "id": "76261bbc",
   "metadata": {
    "execution": {
     "iopub.execute_input": "2024-09-11T21:49:32.902884Z",
     "iopub.status.busy": "2024-09-11T21:49:32.902719Z",
     "iopub.status.idle": "2024-09-11T21:49:32.911638Z",
     "shell.execute_reply": "2024-09-11T21:49:32.911248Z"
    },
    "lines_to_next_cell": 0,
    "nbsphinx": "hidden",
    "papermill": {
     "duration": 0.011794,
     "end_time": "2024-09-11T21:49:32.912937",
     "exception": false,
     "start_time": "2024-09-11T21:49:32.901143",
     "status": "completed"
    },
    "tags": []
   },
   "outputs": [],
   "source": [
    "func = _known_functions[func_name]()\n",
    "\n",
    "if not positive_prior:\n",
    "\n",
    "\tenergy_grid = np.linspace(-5,5,1000)\n",
    "\n",
    "else:\n",
    "    \n",
    "    energy_grid = np.linspace(0,1,1000)\n",
    "    \n",
    "    \n",
    "    \n",
    "    \n",
    "blue = \"#4152E3\"\n",
    "red = \"#E3414B\"\n",
    "green = \"#41E39E\""
   ]
  },
  {
   "cell_type": "markdown",
   "id": "ba44fe2f",
   "metadata": {
    "lines_to_next_cell": 0,
    "papermill": {
     "duration": 0.000973,
     "end_time": "2024-09-11T21:49:32.914970",
     "exception": false,
     "start_time": "2024-09-11T21:49:32.913997",
     "status": "completed"
    },
    "tags": []
   },
   "source": [
    "## Description"
   ]
  },
  {
   "cell_type": "code",
   "execution_count": 5,
   "id": "d3627365",
   "metadata": {
    "execution": {
     "iopub.execute_input": "2024-09-11T21:49:32.917505Z",
     "iopub.status.busy": "2024-09-11T21:49:32.917364Z",
     "iopub.status.idle": "2024-09-11T21:49:32.921677Z",
     "shell.execute_reply": "2024-09-11T21:49:32.921315Z"
    },
    "papermill": {
     "duration": 0.006964,
     "end_time": "2024-09-11T21:49:32.922861",
     "exception": false,
     "start_time": "2024-09-11T21:49:32.915897",
     "status": "completed"
    },
    "tags": []
   },
   "outputs": [
    {
     "data": {
      "text/html": [
       "<ul>\n",
       "\n",
       "<li>description: The Cauchy distribution</li>\n",
       "\n",
       "<li>formula: $ K \\frac{1}{ \\gamma \\pi} \\left[ \\frac{\\gamma^2}{(x-x_0)^2 + \\gamma^2}  \\right] $</li>\n",
       "\n",
       "<li>parameters: \n",
       "<ul>\n",
       "\n",
       "<li>K: \n",
       "<ul>\n",
       "\n",
       "<li>value: 1.0</li>\n",
       "\n",
       "<li>desc: Integral between -inf and +inf. Fix this to 1 to obtain a Cauchy distribution</li>\n",
       "\n",
       "<li>min_value: None</li>\n",
       "\n",
       "<li>max_value: None</li>\n",
       "\n",
       "<li>unit: </li>\n",
       "\n",
       "<li>is_normalization: False</li>\n",
       "\n",
       "<li>delta: 0.1</li>\n",
       "\n",
       "<li>free: True</li>\n",
       "\n",
       "</ul>\n",
       "\n",
       "</li>\n",
       "\n",
       "<li>x0: \n",
       "<ul>\n",
       "\n",
       "<li>value: 0.0</li>\n",
       "\n",
       "<li>desc: Central value</li>\n",
       "\n",
       "<li>min_value: None</li>\n",
       "\n",
       "<li>max_value: None</li>\n",
       "\n",
       "<li>unit: </li>\n",
       "\n",
       "<li>is_normalization: False</li>\n",
       "\n",
       "<li>delta: 0.1</li>\n",
       "\n",
       "<li>free: True</li>\n",
       "\n",
       "</ul>\n",
       "\n",
       "</li>\n",
       "\n",
       "<li>gamma: \n",
       "<ul>\n",
       "\n",
       "<li>value: 1.0</li>\n",
       "\n",
       "<li>desc: standard deviation</li>\n",
       "\n",
       "<li>min_value: 1e-12</li>\n",
       "\n",
       "<li>max_value: None</li>\n",
       "\n",
       "<li>unit: </li>\n",
       "\n",
       "<li>is_normalization: False</li>\n",
       "\n",
       "<li>delta: 0.1</li>\n",
       "\n",
       "<li>free: True</li>\n",
       "\n",
       "</ul>\n",
       "\n",
       "</li>\n",
       "\n",
       "</ul>\n",
       "\n",
       "</li>\n",
       "\n",
       "</ul>\n"
      ],
      "text/plain": [
       "  * description: The Cauchy distribution\n",
       "  * formula: $ K \\frac{1}{ \\gamma \\pi} \\left[ \\frac{\\gamma^2}{(x-x_0)^2 + \\gamma^2}  \\right]\n",
       "    * $\n",
       "  * parameters:\n",
       "    * K:\n",
       "      * value: 1.0\n",
       "      * desc: Integral between -inf and +inf. Fix this to 1 to obtain a Cauchy distribution\n",
       "      * min_value: null\n",
       "      * max_value: null\n",
       "      * unit: ''\n",
       "      * is_normalization: false\n",
       "      * delta: 0.1\n",
       "      * free: true\n",
       "    * x0:\n",
       "      * value: 0.0\n",
       "      * desc: Central value\n",
       "      * min_value: null\n",
       "      * max_value: null\n",
       "      * unit: ''\n",
       "      * is_normalization: false\n",
       "      * delta: 0.1\n",
       "      * free: true\n",
       "    * gamma:\n",
       "      * value: 1.0\n",
       "      * desc: standard deviation\n",
       "      * min_value: 1.0e-12\n",
       "      * max_value: null\n",
       "      * unit: ''\n",
       "      * is_normalization: false\n",
       "      * delta: 0.1\n",
       "      * free: true"
      ]
     },
     "metadata": {},
     "output_type": "display_data"
    }
   ],
   "source": [
    "func.display()"
   ]
  },
  {
   "cell_type": "markdown",
   "id": "320d1606",
   "metadata": {
    "papermill": {
     "duration": 0.001168,
     "end_time": "2024-09-11T21:49:32.925235",
     "exception": false,
     "start_time": "2024-09-11T21:49:32.924067",
     "status": "completed"
    },
    "tags": []
   },
   "source": [
    "## Shape \n",
    "\n",
    "The shape of the function. \n",
    "\n",
    "*If this is not a photon model but a prior or linear function then ignore the units as these docs are auto-generated*"
   ]
  },
  {
   "cell_type": "code",
   "execution_count": 6,
   "id": "88676672",
   "metadata": {
    "execution": {
     "iopub.execute_input": "2024-09-11T21:49:32.928024Z",
     "iopub.status.busy": "2024-09-11T21:49:32.927874Z",
     "iopub.status.idle": "2024-09-11T21:49:33.040289Z",
     "shell.execute_reply": "2024-09-11T21:49:33.039819Z"
    },
    "papermill": {
     "duration": 0.115413,
     "end_time": "2024-09-11T21:49:33.041665",
     "exception": false,
     "start_time": "2024-09-11T21:49:32.926252",
     "status": "completed"
    },
    "tags": [
     "nbsphinx-thumbnail"
    ]
   },
   "outputs": [
    {
     "data": {
      "text/plain": [
       "Text(0, 0.5, 'probability')"
      ]
     },
     "execution_count": 6,
     "metadata": {},
     "output_type": "execute_result"
    },
    {
     "data": {
      "image/png": "[encoded data removed]",
      "text/plain": [
       "<Figure size 1040x910 with 1 Axes>"
      ]
     },
     "metadata": {},
     "output_type": "display_data"
    }
   ],
   "source": [
    "fig, ax = plt.subplots()\n",
    "\n",
    "\n",
    "ax.plot(energy_grid, func(energy_grid), color=blue, lw=3)\n",
    "\n",
    "ax.set_xlabel(\"x\")\n",
    "ax.set_ylabel(\"probability\")\n"
   ]
  },
  {
   "cell_type": "markdown",
   "id": "0396c8ad",
   "metadata": {
    "papermill": {
     "duration": 0.001522,
     "end_time": "2024-09-11T21:49:33.044901",
     "exception": false,
     "start_time": "2024-09-11T21:49:33.043379",
     "status": "completed"
    },
    "tags": []
   },
   "source": [
    "## Random Number Generation\n",
    "\n",
    "This is how we can generate random numbers from the prior.\n"
   ]
  },
  {
   "cell_type": "code",
   "execution_count": 7,
   "id": "d74841be",
   "metadata": {
    "execution": {
     "iopub.execute_input": "2024-09-11T21:49:33.048739Z",
     "iopub.status.busy": "2024-09-11T21:49:33.048556Z",
     "iopub.status.idle": "2024-09-11T21:49:33.171452Z",
     "shell.execute_reply": "2024-09-11T21:49:33.171045Z"
    },
    "papermill": {
     "duration": 0.128044,
     "end_time": "2024-09-11T21:49:33.174469",
     "exception": false,
     "start_time": "2024-09-11T21:49:33.046425",
     "status": "completed"
    },
    "tags": []
   },
   "outputs": [
    {
     "data": {
      "text/plain": [
       "Text(0, 0.5, 'N')"
      ]
     },
     "execution_count": 7,
     "metadata": {},
     "output_type": "execute_result"
    },
    {
     "data": {
      "image/png": "[encoded data removed]",
      "text/plain": [
       "<Figure size 1040x910 with 1 Axes>"
      ]
     },
     "metadata": {},
     "output_type": "display_data"
    }
   ],
   "source": [
    "\n",
    "\n",
    "u = np.random.uniform(0,1, size=5000)\n",
    "\n",
    "draws = [func.from_unit_cube(x) for x in u]\n",
    "\n",
    "\n",
    "fig, ax = plt.subplots()\n",
    "\n",
    "\n",
    "ax.hist(draws, color=green, bins=50)\n",
    "\n",
    "ax.set_xlabel(\"value\")\n",
    "ax.set_ylabel(\"N\")\n",
    "\n"
   ]
  }
 ],
 "metadata": {
  "jupytext": {
   "formats": "ipynb,md"
  },
  "kernelspec": {
   "display_name": "Python 3 (ipykernel)",
   "language": "python",
   "name": "python3"
  },
  "language_info": {
   "codemirror_mode": {
    "name": "ipython",
    "version": 3
   },
   "file_extension": ".py",
   "mimetype": "text/x-python",
   "name": "python",
   "nbconvert_exporter": "python",
   "pygments_lexer": "ipython3",
   "version": "3.9.13"
  },
  "papermill": {
   "default_parameters": {},
   "duration": 2.613505,
   "end_time": "2024-09-11T21:49:33.502455",
   "environment_variables": {},
   "exception": null,
   "input_path": "Cauchy.ipynb",
   "output_path": "/Users/runner/work/astromodels/astromodels/docs/notebooks/Cauchy.ipynb",
   "parameters": {
    "func_name": "Cauchy",
    "positive_prior": false
   },
   "start_time": "2024-09-11T21:49:30.888950",
   "version": "2.6.0"
  }
 },
 "nbformat": 4,
 "nbformat_minor": 5
}
