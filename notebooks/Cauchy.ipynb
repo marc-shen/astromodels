{
 "cells": [
  {
   "cell_type": "markdown",
   "id": "32f7198c",
   "metadata": {
    "papermill": {
     "duration": 0.004882,
     "end_time": "2024-05-08T19:32:42.103835",
     "exception": false,
     "start_time": "2024-05-08T19:32:42.098953",
     "status": "completed"
    },
    "tags": []
   },
   "source": [
    "# Cauchy"
   ]
  },
  {
   "cell_type": "code",
   "execution_count": 1,
   "id": "b7aa90de",
   "metadata": {
    "execution": {
     "iopub.execute_input": "2024-05-08T19:32:42.113187Z",
     "iopub.status.busy": "2024-05-08T19:32:42.112720Z",
     "iopub.status.idle": "2024-05-08T19:32:44.197433Z",
     "shell.execute_reply": "2024-05-08T19:32:44.195620Z"
    },
    "nbsphinx": "hidden",
    "papermill": {
     "duration": 2.09436,
     "end_time": "2024-05-08T19:32:44.201776",
     "exception": false,
     "start_time": "2024-05-08T19:32:42.107416",
     "status": "completed"
    },
    "tags": []
   },
   "outputs": [],
   "source": [
    "%%capture\n",
    "\n",
    "import numpy as np\n",
    "\n",
    "import matplotlib.pyplot as plt\n",
    "\n",
    "import warnings\n",
    "warnings.simplefilter(\"ignore\")\n",
    "\n",
    "from astromodels.functions.function import _known_functions\n",
    "\n",
    "\n",
    "from jupyterthemes import jtplot\n",
    "jtplot.style(context=\"talk\", fscale=1, ticks=True, grid=False)\n",
    "%matplotlib inline"
   ]
  },
  {
   "cell_type": "code",
   "execution_count": 2,
   "id": "c1dc0dcc",
   "metadata": {
    "execution": {
     "iopub.execute_input": "2024-05-08T19:32:44.209341Z",
     "iopub.status.busy": "2024-05-08T19:32:44.208426Z",
     "iopub.status.idle": "2024-05-08T19:32:44.213350Z",
     "shell.execute_reply": "2024-05-08T19:32:44.212124Z"
    },
    "nbsphinx": "hidden",
    "papermill": {
     "duration": 0.011724,
     "end_time": "2024-05-08T19:32:44.216404",
     "exception": false,
     "start_time": "2024-05-08T19:32:44.204680",
     "status": "completed"
    },
    "tags": [
     "parameters"
    ]
   },
   "outputs": [],
   "source": [
    "func_name = \"TbAbs\"\n",
    "\n",
    "positive_prior = False\n"
   ]
  },
  {
   "cell_type": "code",
   "execution_count": 3,
   "id": "f5461498",
   "metadata": {
    "execution": {
     "iopub.execute_input": "2024-05-08T19:32:44.220485Z",
     "iopub.status.busy": "2024-05-08T19:32:44.220237Z",
     "iopub.status.idle": "2024-05-08T19:32:44.223361Z",
     "shell.execute_reply": "2024-05-08T19:32:44.222528Z"
    },
    "papermill": {
     "duration": 0.007551,
     "end_time": "2024-05-08T19:32:44.225381",
     "exception": false,
     "start_time": "2024-05-08T19:32:44.217830",
     "status": "completed"
    },
    "tags": [
     "injected-parameters"
    ]
   },
   "outputs": [],
   "source": [
    "# Parameters\n",
    "func_name = \"Cauchy\"\n",
    "positive_prior = False\n"
   ]
  },
  {
   "cell_type": "code",
   "execution_count": 4,
   "id": "a508a947",
   "metadata": {
    "execution": {
     "iopub.execute_input": "2024-05-08T19:32:44.229611Z",
     "iopub.status.busy": "2024-05-08T19:32:44.229374Z",
     "iopub.status.idle": "2024-05-08T19:32:44.233851Z",
     "shell.execute_reply": "2024-05-08T19:32:44.232975Z"
    },
    "lines_to_next_cell": 0,
    "nbsphinx": "hidden",
    "papermill": {
     "duration": 0.009166,
     "end_time": "2024-05-08T19:32:44.236028",
     "exception": false,
     "start_time": "2024-05-08T19:32:44.226862",
     "status": "completed"
    },
    "tags": []
   },
   "outputs": [],
   "source": [
    "func = _known_functions[func_name]()\n",
    "\n",
    "if not positive_prior:\n",
    "\n",
    "\tenergy_grid = np.linspace(-5,5,1000)\n",
    "\n",
    "else:\n",
    "    \n",
    "    energy_grid = np.linspace(0,1,1000)\n",
    "    \n",
    "    \n",
    "    \n",
    "    \n",
    "blue = \"#4152E3\"\n",
    "red = \"#E3414B\"\n",
    "green = \"#41E39E\""
   ]
  },
  {
   "cell_type": "markdown",
   "id": "7e9c2e59",
   "metadata": {
    "lines_to_next_cell": 0,
    "papermill": {
     "duration": 0.00126,
     "end_time": "2024-05-08T19:32:44.238705",
     "exception": false,
     "start_time": "2024-05-08T19:32:44.237445",
     "status": "completed"
    },
    "tags": []
   },
   "source": [
    "## Description"
   ]
  },
  {
   "cell_type": "code",
   "execution_count": 5,
   "id": "fa525a11",
   "metadata": {
    "execution": {
     "iopub.execute_input": "2024-05-08T19:32:44.242705Z",
     "iopub.status.busy": "2024-05-08T19:32:44.242387Z",
     "iopub.status.idle": "2024-05-08T19:32:44.249775Z",
     "shell.execute_reply": "2024-05-08T19:32:44.248675Z"
    },
    "papermill": {
     "duration": 0.012278,
     "end_time": "2024-05-08T19:32:44.252308",
     "exception": false,
     "start_time": "2024-05-08T19:32:44.240030",
     "status": "completed"
    },
    "tags": []
   },
   "outputs": [
    {
     "data": {
      "text/html": [
       "<ul>\n",
       "\n",
       "<li>description: The Cauchy distribution</li>\n",
       "\n",
       "<li>formula: $ K \\frac{1}{ \\gamma \\pi} \\left[ \\frac{\\gamma^2}{(x-x_0)^2 + \\gamma^2}  \\right] $</li>\n",
       "\n",
       "<li>parameters: \n",
       "<ul>\n",
       "\n",
       "<li>K: \n",
       "<ul>\n",
       "\n",
       "<li>value: 1.0</li>\n",
       "\n",
       "<li>desc: Integral between -inf and +inf. Fix this to 1 to obtain a Cauchy distribution</li>\n",
       "\n",
       "<li>min_value: None</li>\n",
       "\n",
       "<li>max_value: None</li>\n",
       "\n",
       "<li>unit: </li>\n",
       "\n",
       "<li>is_normalization: False</li>\n",
       "\n",
       "<li>delta: 0.1</li>\n",
       "\n",
       "<li>free: True</li>\n",
       "\n",
       "</ul>\n",
       "\n",
       "</li>\n",
       "\n",
       "<li>x0: \n",
       "<ul>\n",
       "\n",
       "<li>value: 0.0</li>\n",
       "\n",
       "<li>desc: Central value</li>\n",
       "\n",
       "<li>min_value: None</li>\n",
       "\n",
       "<li>max_value: None</li>\n",
       "\n",
       "<li>unit: </li>\n",
       "\n",
       "<li>is_normalization: False</li>\n",
       "\n",
       "<li>delta: 0.1</li>\n",
       "\n",
       "<li>free: True</li>\n",
       "\n",
       "</ul>\n",
       "\n",
       "</li>\n",
       "\n",
       "<li>gamma: \n",
       "<ul>\n",
       "\n",
       "<li>value: 1.0</li>\n",
       "\n",
       "<li>desc: standard deviation</li>\n",
       "\n",
       "<li>min_value: 1e-12</li>\n",
       "\n",
       "<li>max_value: None</li>\n",
       "\n",
       "<li>unit: </li>\n",
       "\n",
       "<li>is_normalization: False</li>\n",
       "\n",
       "<li>delta: 0.1</li>\n",
       "\n",
       "<li>free: True</li>\n",
       "\n",
       "</ul>\n",
       "\n",
       "</li>\n",
       "\n",
       "</ul>\n",
       "\n",
       "</li>\n",
       "\n",
       "</ul>\n"
      ],
      "text/plain": [
       "  * description: The Cauchy distribution\n",
       "  * formula: $ K \\frac{1}{ \\gamma \\pi} \\left[ \\frac{\\gamma^2}{(x-x_0)^2 + \\gamma^2}  \\right]\n",
       "    * $\n",
       "  * parameters:\n",
       "    * K:\n",
       "      * value: 1.0\n",
       "      * desc: Integral between -inf and +inf. Fix this to 1 to obtain a Cauchy distribution\n",
       "      * min_value: null\n",
       "      * max_value: null\n",
       "      * unit: ''\n",
       "      * is_normalization: false\n",
       "      * delta: 0.1\n",
       "      * free: true\n",
       "    * x0:\n",
       "      * value: 0.0\n",
       "      * desc: Central value\n",
       "      * min_value: null\n",
       "      * max_value: null\n",
       "      * unit: ''\n",
       "      * is_normalization: false\n",
       "      * delta: 0.1\n",
       "      * free: true\n",
       "    * gamma:\n",
       "      * value: 1.0\n",
       "      * desc: standard deviation\n",
       "      * min_value: 1.0e-12\n",
       "      * max_value: null\n",
       "      * unit: ''\n",
       "      * is_normalization: false\n",
       "      * delta: 0.1\n",
       "      * free: true"
      ]
     },
     "metadata": {},
     "output_type": "display_data"
    }
   ],
   "source": [
    "func.display()"
   ]
  },
  {
   "cell_type": "markdown",
   "id": "362d37ca",
   "metadata": {
    "papermill": {
     "duration": 0.001575,
     "end_time": "2024-05-08T19:32:44.255572",
     "exception": false,
     "start_time": "2024-05-08T19:32:44.253997",
     "status": "completed"
    },
    "tags": []
   },
   "source": [
    "## Shape \n",
    "\n",
    "The shape of the function. \n",
    "\n",
    "*If this is not a photon model but a prior or linear function then ignore the units as these docs are auto-generated*"
   ]
  },
  {
   "cell_type": "code",
   "execution_count": 6,
   "id": "4ad96813",
   "metadata": {
    "execution": {
     "iopub.execute_input": "2024-05-08T19:32:44.260583Z",
     "iopub.status.busy": "2024-05-08T19:32:44.260366Z",
     "iopub.status.idle": "2024-05-08T19:32:44.407747Z",
     "shell.execute_reply": "2024-05-08T19:32:44.406617Z"
    },
    "papermill": {
     "duration": 0.153659,
     "end_time": "2024-05-08T19:32:44.410690",
     "exception": false,
     "start_time": "2024-05-08T19:32:44.257031",
     "status": "completed"
    },
    "tags": [
     "nbsphinx-thumbnail"
    ]
   },
   "outputs": [
    {
     "data": {
      "text/plain": [
       "Text(0, 0.5, 'probability')"
      ]
     },
     "execution_count": 6,
     "metadata": {},
     "output_type": "execute_result"
    },
    {
     "data": {
      "image/png": "[encoded data removed]",
      "text/plain": [
       "<Figure size 1040x910 with 1 Axes>"
      ]
     },
     "metadata": {},
     "output_type": "display_data"
    }
   ],
   "source": [
    "fig, ax = plt.subplots()\n",
    "\n",
    "\n",
    "ax.plot(energy_grid, func(energy_grid), color=blue, lw=3)\n",
    "\n",
    "ax.set_xlabel(\"x\")\n",
    "ax.set_ylabel(\"probability\")\n"
   ]
  },
  {
   "cell_type": "markdown",
   "id": "3beda2a6",
   "metadata": {
    "papermill": {
     "duration": 0.00224,
     "end_time": "2024-05-08T19:32:44.415913",
     "exception": false,
     "start_time": "2024-05-08T19:32:44.413673",
     "status": "completed"
    },
    "tags": []
   },
   "source": [
    "## Random Number Generation\n",
    "\n",
    "This is how we can generate random numbers from the prior.\n"
   ]
  },
  {
   "cell_type": "code",
   "execution_count": 7,
   "id": "487e97af",
   "metadata": {
    "execution": {
     "iopub.execute_input": "2024-05-08T19:32:44.423055Z",
     "iopub.status.busy": "2024-05-08T19:32:44.422849Z",
     "iopub.status.idle": "2024-05-08T19:32:44.627503Z",
     "shell.execute_reply": "2024-05-08T19:32:44.625355Z"
    },
    "papermill": {
     "duration": 0.210017,
     "end_time": "2024-05-08T19:32:44.630202",
     "exception": false,
     "start_time": "2024-05-08T19:32:44.420185",
     "status": "completed"
    },
    "tags": []
   },
   "outputs": [
    {
     "data": {
      "text/plain": [
       "Text(0, 0.5, 'N')"
      ]
     },
     "execution_count": 7,
     "metadata": {},
     "output_type": "execute_result"
    },
    {
     "data": {
      "image/png": "[encoded data removed]",
      "text/plain": [
       "<Figure size 1040x910 with 1 Axes>"
      ]
     },
     "metadata": {},
     "output_type": "display_data"
    }
   ],
   "source": [
    "\n",
    "\n",
    "u = np.random.uniform(0,1, size=5000)\n",
    "\n",
    "draws = [func.from_unit_cube(x) for x in u]\n",
    "\n",
    "\n",
    "fig, ax = plt.subplots()\n",
    "\n",
    "\n",
    "ax.hist(draws, color=green, bins=50)\n",
    "\n",
    "ax.set_xlabel(\"value\")\n",
    "ax.set_ylabel(\"N\")\n",
    "\n"
   ]
  }
 ],
 "metadata": {
  "jupytext": {
   "formats": "ipynb,md"
  },
  "kernelspec": {
   "display_name": "Python 3 (ipykernel)",
   "language": "python",
   "name": "python3"
  },
  "language_info": {
   "codemirror_mode": {
    "name": "ipython",
    "version": 3
   },
   "file_extension": ".py",
   "mimetype": "text/x-python",
   "name": "python",
   "nbconvert_exporter": "python",
   "pygments_lexer": "ipython3",
   "version": "3.9.13"
  },
  "papermill": {
   "default_parameters": {},
   "duration": 3.915076,
   "end_time": "2024-05-08T19:32:45.278464",
   "environment_variables": {},
   "exception": null,
   "input_path": "Cauchy.ipynb",
   "output_path": "/Users/runner/work/astromodels/astromodels/docs/notebooks/Cauchy.ipynb",
   "parameters": {
    "func_name": "Cauchy",
    "positive_prior": false
   },
   "start_time": "2024-05-08T19:32:41.363388",
   "version": "2.6.0"
  }
 },
 "nbformat": 4,
 "nbformat_minor": 5
}
