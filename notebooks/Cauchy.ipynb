{
 "cells": [
  {
   "cell_type": "markdown",
   "id": "75690258",
   "metadata": {
    "papermill": {
     "duration": 0.010406,
     "end_time": "2024-09-10T20:23:43.460352",
     "exception": false,
     "start_time": "2024-09-10T20:23:43.449946",
     "status": "completed"
    },
    "tags": []
   },
   "source": [
    "# Cauchy"
   ]
  },
  {
   "cell_type": "code",
   "execution_count": 1,
   "id": "00c5fe44",
   "metadata": {
    "execution": {
     "iopub.execute_input": "2024-09-10T20:23:43.472858Z",
     "iopub.status.busy": "2024-09-10T20:23:43.472276Z",
     "iopub.status.idle": "2024-09-10T20:23:44.881405Z",
     "shell.execute_reply": "2024-09-10T20:23:44.880902Z"
    },
    "nbsphinx": "hidden",
    "papermill": {
     "duration": 1.416903,
     "end_time": "2024-09-10T20:23:44.882956",
     "exception": false,
     "start_time": "2024-09-10T20:23:43.466053",
     "status": "completed"
    },
    "tags": []
   },
   "outputs": [],
   "source": [
    "%%capture\n",
    "\n",
    "import numpy as np\n",
    "\n",
    "import matplotlib.pyplot as plt\n",
    "\n",
    "import warnings\n",
    "warnings.simplefilter(\"ignore\")\n",
    "\n",
    "from astromodels.functions.function import _known_functions\n",
    "\n",
    "\n",
    "from jupyterthemes import jtplot\n",
    "jtplot.style(context=\"talk\", fscale=1, ticks=True, grid=False)\n",
    "%matplotlib inline"
   ]
  },
  {
   "cell_type": "code",
   "execution_count": 2,
   "id": "179d304f",
   "metadata": {
    "execution": {
     "iopub.execute_input": "2024-09-10T20:23:44.886137Z",
     "iopub.status.busy": "2024-09-10T20:23:44.885814Z",
     "iopub.status.idle": "2024-09-10T20:23:44.894253Z",
     "shell.execute_reply": "2024-09-10T20:23:44.893809Z"
    },
    "nbsphinx": "hidden",
    "papermill": {
     "duration": 0.011369,
     "end_time": "2024-09-10T20:23:44.895521",
     "exception": false,
     "start_time": "2024-09-10T20:23:44.884152",
     "status": "completed"
    },
    "tags": [
     "parameters"
    ]
   },
   "outputs": [],
   "source": [
    "func_name = \"TbAbs\"\n",
    "\n",
    "positive_prior = False\n"
   ]
  },
  {
   "cell_type": "code",
   "execution_count": 3,
   "id": "550a7ea4",
   "metadata": {
    "execution": {
     "iopub.execute_input": "2024-09-10T20:23:44.898083Z",
     "iopub.status.busy": "2024-09-10T20:23:44.897943Z",
     "iopub.status.idle": "2024-09-10T20:23:44.905922Z",
     "shell.execute_reply": "2024-09-10T20:23:44.905561Z"
    },
    "papermill": {
     "duration": 0.010611,
     "end_time": "2024-09-10T20:23:44.907134",
     "exception": false,
     "start_time": "2024-09-10T20:23:44.896523",
     "status": "completed"
    },
    "tags": [
     "injected-parameters"
    ]
   },
   "outputs": [],
   "source": [
    "# Parameters\n",
    "func_name = \"Cauchy\"\n",
    "positive_prior = False\n"
   ]
  },
  {
   "cell_type": "code",
   "execution_count": 4,
   "id": "0f8eb4f5",
   "metadata": {
    "execution": {
     "iopub.execute_input": "2024-09-10T20:23:44.909797Z",
     "iopub.status.busy": "2024-09-10T20:23:44.909657Z",
     "iopub.status.idle": "2024-09-10T20:23:44.917878Z",
     "shell.execute_reply": "2024-09-10T20:23:44.917519Z"
    },
    "lines_to_next_cell": 0,
    "nbsphinx": "hidden",
    "papermill": {
     "duration": 0.010937,
     "end_time": "2024-09-10T20:23:44.919116",
     "exception": false,
     "start_time": "2024-09-10T20:23:44.908179",
     "status": "completed"
    },
    "tags": []
   },
   "outputs": [],
   "source": [
    "func = _known_functions[func_name]()\n",
    "\n",
    "if not positive_prior:\n",
    "\n",
    "\tenergy_grid = np.linspace(-5,5,1000)\n",
    "\n",
    "else:\n",
    "    \n",
    "    energy_grid = np.linspace(0,1,1000)\n",
    "    \n",
    "    \n",
    "    \n",
    "    \n",
    "blue = \"#4152E3\"\n",
    "red = \"#E3414B\"\n",
    "green = \"#41E39E\""
   ]
  },
  {
   "cell_type": "markdown",
   "id": "a6e55a31",
   "metadata": {
    "lines_to_next_cell": 0,
    "papermill": {
     "duration": 0.001001,
     "end_time": "2024-09-10T20:23:44.921142",
     "exception": false,
     "start_time": "2024-09-10T20:23:44.920141",
     "status": "completed"
    },
    "tags": []
   },
   "source": [
    "## Description"
   ]
  },
  {
   "cell_type": "code",
   "execution_count": 5,
   "id": "9d84859b",
   "metadata": {
    "execution": {
     "iopub.execute_input": "2024-09-10T20:23:44.923615Z",
     "iopub.status.busy": "2024-09-10T20:23:44.923484Z",
     "iopub.status.idle": "2024-09-10T20:23:44.933541Z",
     "shell.execute_reply": "2024-09-10T20:23:44.933112Z"
    },
    "papermill": {
     "duration": 0.012706,
     "end_time": "2024-09-10T20:23:44.934786",
     "exception": false,
     "start_time": "2024-09-10T20:23:44.922080",
     "status": "completed"
    },
    "tags": []
   },
   "outputs": [
    {
     "data": {
      "text/html": [
       "<ul>\n",
       "\n",
       "<li>description: The Cauchy distribution</li>\n",
       "\n",
       "<li>formula: $ K \\frac{1}{ \\gamma \\pi} \\left[ \\frac{\\gamma^2}{(x-x_0)^2 + \\gamma^2}  \\right] $</li>\n",
       "\n",
       "<li>parameters: \n",
       "<ul>\n",
       "\n",
       "<li>K: \n",
       "<ul>\n",
       "\n",
       "<li>value: 1.0</li>\n",
       "\n",
       "<li>desc: Integral between -inf and +inf. Fix this to 1 to obtain a Cauchy distribution</li>\n",
       "\n",
       "<li>min_value: None</li>\n",
       "\n",
       "<li>max_value: None</li>\n",
       "\n",
       "<li>unit: </li>\n",
       "\n",
       "<li>is_normalization: False</li>\n",
       "\n",
       "<li>delta: 0.1</li>\n",
       "\n",
       "<li>free: True</li>\n",
       "\n",
       "</ul>\n",
       "\n",
       "</li>\n",
       "\n",
       "<li>x0: \n",
       "<ul>\n",
       "\n",
       "<li>value: 0.0</li>\n",
       "\n",
       "<li>desc: Central value</li>\n",
       "\n",
       "<li>min_value: None</li>\n",
       "\n",
       "<li>max_value: None</li>\n",
       "\n",
       "<li>unit: </li>\n",
       "\n",
       "<li>is_normalization: False</li>\n",
       "\n",
       "<li>delta: 0.1</li>\n",
       "\n",
       "<li>free: True</li>\n",
       "\n",
       "</ul>\n",
       "\n",
       "</li>\n",
       "\n",
       "<li>gamma: \n",
       "<ul>\n",
       "\n",
       "<li>value: 1.0</li>\n",
       "\n",
       "<li>desc: standard deviation</li>\n",
       "\n",
       "<li>min_value: 1e-12</li>\n",
       "\n",
       "<li>max_value: None</li>\n",
       "\n",
       "<li>unit: </li>\n",
       "\n",
       "<li>is_normalization: False</li>\n",
       "\n",
       "<li>delta: 0.1</li>\n",
       "\n",
       "<li>free: True</li>\n",
       "\n",
       "</ul>\n",
       "\n",
       "</li>\n",
       "\n",
       "</ul>\n",
       "\n",
       "</li>\n",
       "\n",
       "</ul>\n"
      ],
      "text/plain": [
       "  * description: The Cauchy distribution\n",
       "  * formula: $ K \\frac{1}{ \\gamma \\pi} \\left[ \\frac{\\gamma^2}{(x-x_0)^2 + \\gamma^2}  \\right]\n",
       "    * $\n",
       "  * parameters:\n",
       "    * K:\n",
       "      * value: 1.0\n",
       "      * desc: Integral between -inf and +inf. Fix this to 1 to obtain a Cauchy distribution\n",
       "      * min_value: null\n",
       "      * max_value: null\n",
       "      * unit: ''\n",
       "      * is_normalization: false\n",
       "      * delta: 0.1\n",
       "      * free: true\n",
       "    * x0:\n",
       "      * value: 0.0\n",
       "      * desc: Central value\n",
       "      * min_value: null\n",
       "      * max_value: null\n",
       "      * unit: ''\n",
       "      * is_normalization: false\n",
       "      * delta: 0.1\n",
       "      * free: true\n",
       "    * gamma:\n",
       "      * value: 1.0\n",
       "      * desc: standard deviation\n",
       "      * min_value: 1.0e-12\n",
       "      * max_value: null\n",
       "      * unit: ''\n",
       "      * is_normalization: false\n",
       "      * delta: 0.1\n",
       "      * free: true"
      ]
     },
     "metadata": {},
     "output_type": "display_data"
    }
   ],
   "source": [
    "func.display()"
   ]
  },
  {
   "cell_type": "markdown",
   "id": "de411125",
   "metadata": {
    "papermill": {
     "duration": 0.001156,
     "end_time": "2024-09-10T20:23:44.937103",
     "exception": false,
     "start_time": "2024-09-10T20:23:44.935947",
     "status": "completed"
    },
    "tags": []
   },
   "source": [
    "## Shape \n",
    "\n",
    "The shape of the function. \n",
    "\n",
    "*If this is not a photon model but a prior or linear function then ignore the units as these docs are auto-generated*"
   ]
  },
  {
   "cell_type": "code",
   "execution_count": 6,
   "id": "5bd70e3e",
   "metadata": {
    "execution": {
     "iopub.execute_input": "2024-09-10T20:23:44.939858Z",
     "iopub.status.busy": "2024-09-10T20:23:44.939717Z",
     "iopub.status.idle": "2024-09-10T20:23:45.036187Z",
     "shell.execute_reply": "2024-09-10T20:23:45.035844Z"
    },
    "papermill": {
     "duration": 0.099474,
     "end_time": "2024-09-10T20:23:45.037612",
     "exception": false,
     "start_time": "2024-09-10T20:23:44.938138",
     "status": "completed"
    },
    "tags": [
     "nbsphinx-thumbnail"
    ]
   },
   "outputs": [
    {
     "data": {
      "text/plain": [
       "Text(0, 0.5, 'probability')"
      ]
     },
     "execution_count": 6,
     "metadata": {},
     "output_type": "execute_result"
    },
    {
     "data": {
      "image/png": "[encoded data removed]",
      "text/plain": [
       "<Figure size 1040x910 with 1 Axes>"
      ]
     },
     "metadata": {},
     "output_type": "display_data"
    }
   ],
   "source": [
    "fig, ax = plt.subplots()\n",
    "\n",
    "\n",
    "ax.plot(energy_grid, func(energy_grid), color=blue, lw=3)\n",
    "\n",
    "ax.set_xlabel(\"x\")\n",
    "ax.set_ylabel(\"probability\")\n"
   ]
  },
  {
   "cell_type": "markdown",
   "id": "9462bdf6",
   "metadata": {
    "papermill": {
     "duration": 0.001509,
     "end_time": "2024-09-10T20:23:45.040737",
     "exception": false,
     "start_time": "2024-09-10T20:23:45.039228",
     "status": "completed"
    },
    "tags": []
   },
   "source": [
    "## Random Number Generation\n",
    "\n",
    "This is how we can generate random numbers from the prior.\n"
   ]
  },
  {
   "cell_type": "code",
   "execution_count": 7,
   "id": "133c6ce4",
   "metadata": {
    "execution": {
     "iopub.execute_input": "2024-09-10T20:23:45.044182Z",
     "iopub.status.busy": "2024-09-10T20:23:45.044045Z",
     "iopub.status.idle": "2024-09-10T20:23:45.159045Z",
     "shell.execute_reply": "2024-09-10T20:23:45.158675Z"
    },
    "papermill": {
     "duration": 0.118215,
     "end_time": "2024-09-10T20:23:45.160293",
     "exception": false,
     "start_time": "2024-09-10T20:23:45.042078",
     "status": "completed"
    },
    "tags": []
   },
   "outputs": [
    {
     "data": {
      "text/plain": [
       "Text(0, 0.5, 'N')"
      ]
     },
     "execution_count": 7,
     "metadata": {},
     "output_type": "execute_result"
    },
    {
     "data": {
      "image/png": "[encoded data removed]",
      "text/plain": [
       "<Figure size 1040x910 with 1 Axes>"
      ]
     },
     "metadata": {},
     "output_type": "display_data"
    }
   ],
   "source": [
    "\n",
    "\n",
    "u = np.random.uniform(0,1, size=5000)\n",
    "\n",
    "draws = [func.from_unit_cube(x) for x in u]\n",
    "\n",
    "\n",
    "fig, ax = plt.subplots()\n",
    "\n",
    "\n",
    "ax.hist(draws, color=green, bins=50)\n",
    "\n",
    "ax.set_xlabel(\"value\")\n",
    "ax.set_ylabel(\"N\")\n",
    "\n"
   ]
  }
 ],
 "metadata": {
  "jupytext": {
   "formats": "ipynb,md"
  },
  "kernelspec": {
   "display_name": "Python 3 (ipykernel)",
   "language": "python",
   "name": "python3"
  },
  "language_info": {
   "codemirror_mode": {
    "name": "ipython",
    "version": 3
   },
   "file_extension": ".py",
   "mimetype": "text/x-python",
   "name": "python",
   "nbconvert_exporter": "python",
   "pygments_lexer": "ipython3",
   "version": "3.9.13"
  },
  "papermill": {
   "default_parameters": {},
   "duration": 2.727268,
   "end_time": "2024-09-10T20:23:45.491307",
   "environment_variables": {},
   "exception": null,
   "input_path": "Cauchy.ipynb",
   "output_path": "/Users/runner/work/astromodels/astromodels/docs/notebooks/Cauchy.ipynb",
   "parameters": {
    "func_name": "Cauchy",
    "positive_prior": false
   },
   "start_time": "2024-09-10T20:23:42.764039",
   "version": "2.6.0"
  }
 },
 "nbformat": 4,
 "nbformat_minor": 5
}
