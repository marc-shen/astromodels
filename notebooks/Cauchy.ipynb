{
 "cells": [
  {
   "cell_type": "markdown",
   "id": "5de5fe1d",
   "metadata": {
    "papermill": {
     "duration": 0.005496,
     "end_time": "2022-09-28T03:50:10.828006",
     "exception": false,
     "start_time": "2022-09-28T03:50:10.822510",
     "status": "completed"
    },
    "tags": []
   },
   "source": [
    "# Cauchy"
   ]
  },
  {
   "cell_type": "code",
   "execution_count": 1,
   "id": "0de2cbf3",
   "metadata": {
    "execution": {
     "iopub.execute_input": "2022-09-28T03:50:10.843774Z",
     "iopub.status.busy": "2022-09-28T03:50:10.842526Z",
     "iopub.status.idle": "2022-09-28T03:50:16.319509Z",
     "shell.execute_reply": "2022-09-28T03:50:16.318413Z"
    },
    "nbsphinx": "hidden",
    "papermill": {
     "duration": 5.488457,
     "end_time": "2022-09-28T03:50:16.322887",
     "exception": false,
     "start_time": "2022-09-28T03:50:10.834430",
     "status": "completed"
    },
    "tags": []
   },
   "outputs": [],
   "source": [
    "%%capture\n",
    "\n",
    "import numpy as np\n",
    "\n",
    "import matplotlib.pyplot as plt\n",
    "\n",
    "import warnings\n",
    "warnings.simplefilter(\"ignore\")\n",
    "\n",
    "from astromodels.functions.function import _known_functions\n",
    "\n",
    "\n",
    "from jupyterthemes import jtplot\n",
    "jtplot.style(context=\"talk\", fscale=1, ticks=True, grid=False)\n",
    "%matplotlib inline"
   ]
  },
  {
   "cell_type": "code",
   "execution_count": 2,
   "id": "b68f84fb",
   "metadata": {
    "execution": {
     "iopub.execute_input": "2022-09-28T03:50:16.333278Z",
     "iopub.status.busy": "2022-09-28T03:50:16.332849Z",
     "iopub.status.idle": "2022-09-28T03:50:16.337945Z",
     "shell.execute_reply": "2022-09-28T03:50:16.336580Z"
    },
    "nbsphinx": "hidden",
    "papermill": {
     "duration": 0.013074,
     "end_time": "2022-09-28T03:50:16.340784",
     "exception": false,
     "start_time": "2022-09-28T03:50:16.327710",
     "status": "completed"
    },
    "tags": [
     "parameters"
    ]
   },
   "outputs": [],
   "source": [
    "func_name = \"TbAbs\"\n",
    "\n",
    "positive_prior = False\n"
   ]
  },
  {
   "cell_type": "code",
   "execution_count": 3,
   "id": "4989781a",
   "metadata": {
    "execution": {
     "iopub.execute_input": "2022-09-28T03:50:16.348859Z",
     "iopub.status.busy": "2022-09-28T03:50:16.348439Z",
     "iopub.status.idle": "2022-09-28T03:50:16.356732Z",
     "shell.execute_reply": "2022-09-28T03:50:16.355595Z"
    },
    "papermill": {
     "duration": 0.015933,
     "end_time": "2022-09-28T03:50:16.359799",
     "exception": false,
     "start_time": "2022-09-28T03:50:16.343866",
     "status": "completed"
    },
    "tags": [
     "injected-parameters"
    ]
   },
   "outputs": [],
   "source": [
    "# Parameters\n",
    "func_name = \"Cauchy\"\n",
    "positive_prior = False\n"
   ]
  },
  {
   "cell_type": "code",
   "execution_count": 4,
   "id": "e7efa38b",
   "metadata": {
    "execution": {
     "iopub.execute_input": "2022-09-28T03:50:16.367902Z",
     "iopub.status.busy": "2022-09-28T03:50:16.367471Z",
     "iopub.status.idle": "2022-09-28T03:50:16.379066Z",
     "shell.execute_reply": "2022-09-28T03:50:16.377635Z"
    },
    "lines_to_next_cell": 0,
    "nbsphinx": "hidden",
    "papermill": {
     "duration": 0.019524,
     "end_time": "2022-09-28T03:50:16.382477",
     "exception": false,
     "start_time": "2022-09-28T03:50:16.362953",
     "status": "completed"
    },
    "tags": []
   },
   "outputs": [],
   "source": [
    "func = _known_functions[func_name]()\n",
    "\n",
    "if not positive_prior:\n",
    "\n",
    "\tenergy_grid = np.linspace(-5,5,1000)\n",
    "\n",
    "else:\n",
    "    \n",
    "    energy_grid = np.linspace(0,1,1000)\n",
    "    \n",
    "    \n",
    "    \n",
    "    \n",
    "blue = \"#4152E3\"\n",
    "red = \"#E3414B\"\n",
    "green = \"#41E39E\""
   ]
  },
  {
   "cell_type": "markdown",
   "id": "ea019bb6",
   "metadata": {
    "lines_to_next_cell": 0,
    "papermill": {
     "duration": 0.003181,
     "end_time": "2022-09-28T03:50:16.388811",
     "exception": false,
     "start_time": "2022-09-28T03:50:16.385630",
     "status": "completed"
    },
    "tags": []
   },
   "source": [
    "## Description"
   ]
  },
  {
   "cell_type": "code",
   "execution_count": 5,
   "id": "ec977c00",
   "metadata": {
    "execution": {
     "iopub.execute_input": "2022-09-28T03:50:16.397991Z",
     "iopub.status.busy": "2022-09-28T03:50:16.397565Z",
     "iopub.status.idle": "2022-09-28T03:50:16.411559Z",
     "shell.execute_reply": "2022-09-28T03:50:16.410587Z"
    },
    "papermill": {
     "duration": 0.021445,
     "end_time": "2022-09-28T03:50:16.414444",
     "exception": false,
     "start_time": "2022-09-28T03:50:16.392999",
     "status": "completed"
    },
    "tags": []
   },
   "outputs": [
    {
     "data": {
      "text/html": [
       "<ul>\n",
       "\n",
       "<li>description: The Cauchy distribution</li>\n",
       "\n",
       "<li>formula: $ K \\frac{1}{ \\gamma \\pi} \\left[ \\frac{\\gamma^2}{(x-x_0)^2 + \\gamma^2}  \\right] $</li>\n",
       "\n",
       "<li>parameters: \n",
       "<ul>\n",
       "\n",
       "<li>K: \n",
       "<ul>\n",
       "\n",
       "<li>value: 1.0</li>\n",
       "\n",
       "<li>desc: Integral between -inf and +inf. Fix this to 1 to obtain a Cauchy distribution</li>\n",
       "\n",
       "<li>min_value: None</li>\n",
       "\n",
       "<li>max_value: None</li>\n",
       "\n",
       "<li>unit: </li>\n",
       "\n",
       "<li>is_normalization: False</li>\n",
       "\n",
       "<li>delta: 0.1</li>\n",
       "\n",
       "<li>free: True</li>\n",
       "\n",
       "</ul>\n",
       "\n",
       "</li>\n",
       "\n",
       "<li>x0: \n",
       "<ul>\n",
       "\n",
       "<li>value: 0.0</li>\n",
       "\n",
       "<li>desc: Central value</li>\n",
       "\n",
       "<li>min_value: None</li>\n",
       "\n",
       "<li>max_value: None</li>\n",
       "\n",
       "<li>unit: </li>\n",
       "\n",
       "<li>is_normalization: False</li>\n",
       "\n",
       "<li>delta: 0.1</li>\n",
       "\n",
       "<li>free: True</li>\n",
       "\n",
       "</ul>\n",
       "\n",
       "</li>\n",
       "\n",
       "<li>gamma: \n",
       "<ul>\n",
       "\n",
       "<li>value: 1.0</li>\n",
       "\n",
       "<li>desc: standard deviation</li>\n",
       "\n",
       "<li>min_value: 1e-12</li>\n",
       "\n",
       "<li>max_value: None</li>\n",
       "\n",
       "<li>unit: </li>\n",
       "\n",
       "<li>is_normalization: False</li>\n",
       "\n",
       "<li>delta: 0.1</li>\n",
       "\n",
       "<li>free: True</li>\n",
       "\n",
       "</ul>\n",
       "\n",
       "</li>\n",
       "\n",
       "</ul>\n",
       "\n",
       "</li>\n",
       "\n",
       "</ul>\n"
      ],
      "text/plain": [
       "  * description: The Cauchy distribution\n",
       "  * formula: $ K \\frac{1}{ \\gamma \\pi} \\left[ \\frac{\\gamma^2}{(x-x_0)^2 + \\gamma^2}  \\right]\n",
       "    * $\n",
       "  * parameters:\n",
       "    * K:\n",
       "      * value: 1.0\n",
       "      * desc: Integral between -inf and +inf. Fix this to 1 to obtain a Cauchy distribution\n",
       "      * min_value: null\n",
       "      * max_value: null\n",
       "      * unit: ''\n",
       "      * is_normalization: false\n",
       "      * delta: 0.1\n",
       "      * free: true\n",
       "    * x0:\n",
       "      * value: 0.0\n",
       "      * desc: Central value\n",
       "      * min_value: null\n",
       "      * max_value: null\n",
       "      * unit: ''\n",
       "      * is_normalization: false\n",
       "      * delta: 0.1\n",
       "      * free: true\n",
       "    * gamma:\n",
       "      * value: 1.0\n",
       "      * desc: standard deviation\n",
       "      * min_value: 1.0e-12\n",
       "      * max_value: null\n",
       "      * unit: ''\n",
       "      * is_normalization: false\n",
       "      * delta: 0.1\n",
       "      * free: true"
      ]
     },
     "metadata": {},
     "output_type": "display_data"
    }
   ],
   "source": [
    "func.display()"
   ]
  },
  {
   "cell_type": "markdown",
   "id": "d475151e",
   "metadata": {
    "papermill": {
     "duration": 0.003228,
     "end_time": "2022-09-28T03:50:16.421592",
     "exception": false,
     "start_time": "2022-09-28T03:50:16.418364",
     "status": "completed"
    },
    "tags": []
   },
   "source": [
    "## Shape \n",
    "\n",
    "The shape of the function. \n",
    "\n",
    "*If this is not a photon model but a prior or linear function then ignore the units as these docs are auto-generated*"
   ]
  },
  {
   "cell_type": "code",
   "execution_count": 6,
   "id": "84c90652",
   "metadata": {
    "execution": {
     "iopub.execute_input": "2022-09-28T03:50:16.429921Z",
     "iopub.status.busy": "2022-09-28T03:50:16.429510Z",
     "iopub.status.idle": "2022-09-28T03:50:16.858703Z",
     "shell.execute_reply": "2022-09-28T03:50:16.857506Z"
    },
    "papermill": {
     "duration": 0.437743,
     "end_time": "2022-09-28T03:50:16.862383",
     "exception": false,
     "start_time": "2022-09-28T03:50:16.424640",
     "status": "completed"
    },
    "tags": [
     "nbsphinx-thumbnail"
    ]
   },
   "outputs": [
    {
     "data": {
      "text/plain": [
       "Text(0, 0.5, 'probability')"
      ]
     },
     "execution_count": 6,
     "metadata": {},
     "output_type": "execute_result"
    },
    {
     "data": {
      "image/png": "[encoded data removed]",
      "text/plain": [
       "<Figure size 1040x910 with 1 Axes>"
      ]
     },
     "metadata": {},
     "output_type": "display_data"
    }
   ],
   "source": [
    "fig, ax = plt.subplots()\n",
    "\n",
    "\n",
    "ax.plot(energy_grid, func(energy_grid), color=blue, lw=3)\n",
    "\n",
    "ax.set_xlabel(\"x\")\n",
    "ax.set_ylabel(\"probability\")\n"
   ]
  },
  {
   "cell_type": "markdown",
   "id": "b871857a",
   "metadata": {
    "papermill": {
     "duration": 0.009075,
     "end_time": "2022-09-28T03:50:16.875694",
     "exception": false,
     "start_time": "2022-09-28T03:50:16.866619",
     "status": "completed"
    },
    "tags": []
   },
   "source": [
    "## Random Number Generation\n",
    "\n",
    "This is how we can generate random numbers from the prior.\n"
   ]
  },
  {
   "cell_type": "code",
   "execution_count": 7,
   "id": "27298240",
   "metadata": {
    "execution": {
     "iopub.execute_input": "2022-09-28T03:50:16.888682Z",
     "iopub.status.busy": "2022-09-28T03:50:16.888014Z",
     "iopub.status.idle": "2022-09-28T03:50:17.340660Z",
     "shell.execute_reply": "2022-09-28T03:50:17.336690Z"
    },
    "papermill": {
     "duration": 0.468819,
     "end_time": "2022-09-28T03:50:17.349494",
     "exception": false,
     "start_time": "2022-09-28T03:50:16.880675",
     "status": "completed"
    },
    "tags": []
   },
   "outputs": [
    {
     "data": {
      "text/plain": [
       "Text(0, 0.5, 'N')"
      ]
     },
     "execution_count": 7,
     "metadata": {},
     "output_type": "execute_result"
    },
    {
     "data": {
      "image/png": "[encoded data removed]",
      "text/plain": [
       "<Figure size 1040x910 with 1 Axes>"
      ]
     },
     "metadata": {},
     "output_type": "display_data"
    }
   ],
   "source": [
    "\n",
    "\n",
    "u = np.random.uniform(0,1, size=5000)\n",
    "\n",
    "draws = [func.from_unit_cube(x) for x in u]\n",
    "\n",
    "\n",
    "fig, ax = plt.subplots()\n",
    "\n",
    "\n",
    "ax.hist(draws, color=green, bins=50)\n",
    "\n",
    "ax.set_xlabel(\"value\")\n",
    "ax.set_ylabel(\"N\")\n",
    "\n"
   ]
  }
 ],
 "metadata": {
  "jupytext": {
   "formats": "ipynb,md"
  },
  "kernelspec": {
   "display_name": "Python 3 (ipykernel)",
   "language": "python",
   "name": "python3"
  },
  "language_info": {
   "codemirror_mode": {
    "name": "ipython",
    "version": 3
   },
   "file_extension": ".py",
   "mimetype": "text/x-python",
   "name": "python",
   "nbconvert_exporter": "python",
   "pygments_lexer": "ipython3",
   "version": "3.9.14"
  },
  "papermill": {
   "default_parameters": {},
   "duration": 9.439062,
   "end_time": "2022-09-28T03:50:18.154755",
   "environment_variables": {},
   "exception": null,
   "input_path": "Cauchy.ipynb",
   "output_path": "/Users/runner/work/astromodels/astromodels/docs/notebooks/Cauchy.ipynb",
   "parameters": {
    "func_name": "Cauchy",
    "positive_prior": false
   },
   "start_time": "2022-09-28T03:50:08.715693",
   "version": "2.4.0"
  }
 },
 "nbformat": 4,
 "nbformat_minor": 5
}
