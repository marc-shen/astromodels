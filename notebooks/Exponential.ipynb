{
 "cells": [
  {
   "cell_type": "markdown",
   "id": "6aecccf9",
   "metadata": {
    "papermill": {
     "duration": 0.008451,
     "end_time": "2024-05-08T19:23:00.599161",
     "exception": false,
     "start_time": "2024-05-08T19:23:00.590710",
     "status": "completed"
    },
    "tags": []
   },
   "source": [
    "# Exponential"
   ]
  },
  {
   "cell_type": "code",
   "execution_count": 1,
   "id": "5ed9c66f",
   "metadata": {
    "execution": {
     "iopub.execute_input": "2024-05-08T19:23:00.610888Z",
     "iopub.status.busy": "2024-05-08T19:23:00.610328Z",
     "iopub.status.idle": "2024-05-08T19:23:02.204675Z",
     "shell.execute_reply": "2024-05-08T19:23:02.203991Z"
    },
    "nbsphinx": "hidden",
    "papermill": {
     "duration": 1.602203,
     "end_time": "2024-05-08T19:23:02.206202",
     "exception": false,
     "start_time": "2024-05-08T19:23:00.603999",
     "status": "completed"
    },
    "tags": []
   },
   "outputs": [],
   "source": [
    "%%capture\n",
    "\n",
    "import numpy as np\n",
    "\n",
    "import matplotlib.pyplot as plt\n",
    "\n",
    "import warnings\n",
    "warnings.simplefilter(\"ignore\")\n",
    "\n",
    "from astromodels.functions.function import _known_functions\n",
    "\n",
    "\n",
    "from jupyterthemes import jtplot\n",
    "jtplot.style(context=\"talk\", fscale=1, ticks=True, grid=False)\n",
    "%matplotlib inline"
   ]
  },
  {
   "cell_type": "code",
   "execution_count": 2,
   "id": "b79d8b6b",
   "metadata": {
    "execution": {
     "iopub.execute_input": "2024-05-08T19:23:02.209699Z",
     "iopub.status.busy": "2024-05-08T19:23:02.209316Z",
     "iopub.status.idle": "2024-05-08T19:23:02.217825Z",
     "shell.execute_reply": "2024-05-08T19:23:02.217264Z"
    },
    "nbsphinx": "hidden",
    "papermill": {
     "duration": 0.011802,
     "end_time": "2024-05-08T19:23:02.219309",
     "exception": false,
     "start_time": "2024-05-08T19:23:02.207507",
     "status": "completed"
    },
    "tags": [
     "parameters"
    ]
   },
   "outputs": [],
   "source": [
    "func_name = \"TbAbs\"\n",
    "\n",
    "positive_prior = False\n"
   ]
  },
  {
   "cell_type": "code",
   "execution_count": 3,
   "id": "a2d164a2",
   "metadata": {
    "execution": {
     "iopub.execute_input": "2024-05-08T19:23:02.222262Z",
     "iopub.status.busy": "2024-05-08T19:23:02.222094Z",
     "iopub.status.idle": "2024-05-08T19:23:02.224080Z",
     "shell.execute_reply": "2024-05-08T19:23:02.223704Z"
    },
    "papermill": {
     "duration": 0.004805,
     "end_time": "2024-05-08T19:23:02.225301",
     "exception": false,
     "start_time": "2024-05-08T19:23:02.220496",
     "status": "completed"
    },
    "tags": [
     "injected-parameters"
    ]
   },
   "outputs": [],
   "source": [
    "# Parameters\n",
    "func_name = \"Exponential\"\n",
    "positive_prior = True\n"
   ]
  },
  {
   "cell_type": "code",
   "execution_count": 4,
   "id": "39ef72a8",
   "metadata": {
    "execution": {
     "iopub.execute_input": "2024-05-08T19:23:02.228176Z",
     "iopub.status.busy": "2024-05-08T19:23:02.228018Z",
     "iopub.status.idle": "2024-05-08T19:23:02.236821Z",
     "shell.execute_reply": "2024-05-08T19:23:02.236343Z"
    },
    "lines_to_next_cell": 0,
    "nbsphinx": "hidden",
    "papermill": {
     "duration": 0.011795,
     "end_time": "2024-05-08T19:23:02.238162",
     "exception": false,
     "start_time": "2024-05-08T19:23:02.226367",
     "status": "completed"
    },
    "tags": []
   },
   "outputs": [],
   "source": [
    "func = _known_functions[func_name]()\n",
    "\n",
    "if not positive_prior:\n",
    "\n",
    "\tenergy_grid = np.linspace(-5,5,1000)\n",
    "\n",
    "else:\n",
    "    \n",
    "    energy_grid = np.linspace(0,1,1000)\n",
    "    \n",
    "    \n",
    "    \n",
    "    \n",
    "blue = \"#4152E3\"\n",
    "red = \"#E3414B\"\n",
    "green = \"#41E39E\""
   ]
  },
  {
   "cell_type": "markdown",
   "id": "46c8993f",
   "metadata": {
    "lines_to_next_cell": 0,
    "papermill": {
     "duration": 0.001075,
     "end_time": "2024-05-08T19:23:02.240460",
     "exception": false,
     "start_time": "2024-05-08T19:23:02.239385",
     "status": "completed"
    },
    "tags": []
   },
   "source": [
    "## Description"
   ]
  },
  {
   "cell_type": "code",
   "execution_count": 5,
   "id": "81d2e082",
   "metadata": {
    "execution": {
     "iopub.execute_input": "2024-05-08T19:23:02.243247Z",
     "iopub.status.busy": "2024-05-08T19:23:02.243077Z",
     "iopub.status.idle": "2024-05-08T19:23:02.252783Z",
     "shell.execute_reply": "2024-05-08T19:23:02.252310Z"
    },
    "papermill": {
     "duration": 0.012773,
     "end_time": "2024-05-08T19:23:02.254224",
     "exception": false,
     "start_time": "2024-05-08T19:23:02.241451",
     "status": "completed"
    },
    "tags": []
   },
   "outputs": [
    {
     "data": {
      "text/html": [
       "<ul>\n",
       "\n",
       "<li>description: An exponential distribution function</li>\n",
       "\n",
       "<li>formula: $ f(x, \\alpha) = \\alpha\\exp(-\\alpha x)$</li>\n",
       "\n",
       "<li>parameters: \n",
       "<ul>\n",
       "\n",
       "<li>alpha: \n",
       "<ul>\n",
       "\n",
       "<li>value: 1.0</li>\n",
       "\n",
       "<li>desc: first shape parameter</li>\n",
       "\n",
       "<li>min_value: 0.0</li>\n",
       "\n",
       "<li>max_value: None</li>\n",
       "\n",
       "<li>unit: </li>\n",
       "\n",
       "<li>is_normalization: False</li>\n",
       "\n",
       "<li>delta: 0.1</li>\n",
       "\n",
       "<li>free: True</li>\n",
       "\n",
       "</ul>\n",
       "\n",
       "</li>\n",
       "\n",
       "</ul>\n",
       "\n",
       "</li>\n",
       "\n",
       "</ul>\n"
      ],
      "text/plain": [
       "  * description: An exponential distribution function\n",
       "  * formula: $ f(x, \\alpha) = \\alpha\\exp(-\\alpha x)$\n",
       "  * parameters:\n",
       "    * alpha:\n",
       "      * value: 1.0\n",
       "      * desc: first shape parameter\n",
       "      * min_value: 0.0\n",
       "      * max_value: null\n",
       "      * unit: ''\n",
       "      * is_normalization: false\n",
       "      * delta: 0.1\n",
       "      * free: true"
      ]
     },
     "metadata": {},
     "output_type": "display_data"
    }
   ],
   "source": [
    "func.display()"
   ]
  },
  {
   "cell_type": "markdown",
   "id": "bb28e4c9",
   "metadata": {
    "papermill": {
     "duration": 0.001219,
     "end_time": "2024-05-08T19:23:02.256810",
     "exception": false,
     "start_time": "2024-05-08T19:23:02.255591",
     "status": "completed"
    },
    "tags": []
   },
   "source": [
    "## Shape \n",
    "\n",
    "The shape of the function. \n",
    "\n",
    "*If this is not a photon model but a prior or linear function then ignore the units as these docs are auto-generated*"
   ]
  },
  {
   "cell_type": "code",
   "execution_count": 6,
   "id": "e64b4baf",
   "metadata": {
    "execution": {
     "iopub.execute_input": "2024-05-08T19:23:02.259878Z",
     "iopub.status.busy": "2024-05-08T19:23:02.259697Z",
     "iopub.status.idle": "2024-05-08T19:23:02.368367Z",
     "shell.execute_reply": "2024-05-08T19:23:02.368038Z"
    },
    "papermill": {
     "duration": 0.1128,
     "end_time": "2024-05-08T19:23:02.370716",
     "exception": false,
     "start_time": "2024-05-08T19:23:02.257916",
     "status": "completed"
    },
    "tags": [
     "nbsphinx-thumbnail"
    ]
   },
   "outputs": [
    {
     "data": {
      "text/plain": [
       "Text(0, 0.5, 'probability')"
      ]
     },
     "execution_count": 6,
     "metadata": {},
     "output_type": "execute_result"
    },
    {
     "data": {
      "image/png": "[encoded data removed]",
      "text/plain": [
       "<Figure size 1040x910 with 1 Axes>"
      ]
     },
     "metadata": {},
     "output_type": "display_data"
    }
   ],
   "source": [
    "fig, ax = plt.subplots()\n",
    "\n",
    "\n",
    "ax.plot(energy_grid, func(energy_grid), color=blue, lw=3)\n",
    "\n",
    "ax.set_xlabel(\"x\")\n",
    "ax.set_ylabel(\"probability\")\n"
   ]
  },
  {
   "cell_type": "markdown",
   "id": "63f76727",
   "metadata": {
    "papermill": {
     "duration": 0.001509,
     "end_time": "2024-05-08T19:23:02.373939",
     "exception": false,
     "start_time": "2024-05-08T19:23:02.372430",
     "status": "completed"
    },
    "tags": []
   },
   "source": [
    "## Random Number Generation\n",
    "\n",
    "This is how we can generate random numbers from the prior.\n"
   ]
  },
  {
   "cell_type": "code",
   "execution_count": 7,
   "id": "08da854b",
   "metadata": {
    "execution": {
     "iopub.execute_input": "2024-05-08T19:23:02.377579Z",
     "iopub.status.busy": "2024-05-08T19:23:02.377400Z",
     "iopub.status.idle": "2024-05-08T19:23:02.710109Z",
     "shell.execute_reply": "2024-05-08T19:23:02.708603Z"
    },
    "papermill": {
     "duration": 0.336975,
     "end_time": "2024-05-08T19:23:02.712245",
     "exception": false,
     "start_time": "2024-05-08T19:23:02.375270",
     "status": "completed"
    },
    "tags": []
   },
   "outputs": [
    {
     "data": {
      "text/plain": [
       "Text(0, 0.5, 'N')"
      ]
     },
     "execution_count": 7,
     "metadata": {},
     "output_type": "execute_result"
    },
    {
     "data": {
      "image/png": "[encoded data removed]",
      "text/plain": [
       "<Figure size 1040x910 with 1 Axes>"
      ]
     },
     "metadata": {},
     "output_type": "display_data"
    }
   ],
   "source": [
    "\n",
    "\n",
    "u = np.random.uniform(0,1, size=5000)\n",
    "\n",
    "draws = [func.from_unit_cube(x) for x in u]\n",
    "\n",
    "\n",
    "fig, ax = plt.subplots()\n",
    "\n",
    "\n",
    "ax.hist(draws, color=green, bins=50)\n",
    "\n",
    "ax.set_xlabel(\"value\")\n",
    "ax.set_ylabel(\"N\")\n",
    "\n"
   ]
  }
 ],
 "metadata": {
  "jupytext": {
   "formats": "ipynb,md"
  },
  "kernelspec": {
   "display_name": "Python 3 (ipykernel)",
   "language": "python",
   "name": "python3"
  },
  "language_info": {
   "codemirror_mode": {
    "name": "ipython",
    "version": 3
   },
   "file_extension": ".py",
   "mimetype": "text/x-python",
   "name": "python",
   "nbconvert_exporter": "python",
   "pygments_lexer": "ipython3",
   "version": "3.9.13"
  },
  "papermill": {
   "default_parameters": {},
   "duration": 3.127962,
   "end_time": "2024-05-08T19:23:03.155005",
   "environment_variables": {},
   "exception": null,
   "input_path": "Exponential.ipynb",
   "output_path": "/Users/runner/work/astromodels/astromodels/docs/notebooks/Exponential.ipynb",
   "parameters": {
    "func_name": "Exponential",
    "positive_prior": true
   },
   "start_time": "2024-05-08T19:23:00.027043",
   "version": "2.6.0"
  }
 },
 "nbformat": 4,
 "nbformat_minor": 5
}
