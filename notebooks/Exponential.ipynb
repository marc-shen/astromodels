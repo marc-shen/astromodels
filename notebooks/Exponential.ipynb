{
 "cells": [
  {
   "cell_type": "markdown",
   "id": "991daba7",
   "metadata": {
    "papermill": {
     "duration": 0.006195,
     "end_time": "2023-11-01T01:15:35.559384",
     "exception": false,
     "start_time": "2023-11-01T01:15:35.553189",
     "status": "completed"
    },
    "tags": []
   },
   "source": [
    "# Exponential"
   ]
  },
  {
   "cell_type": "code",
   "execution_count": 1,
   "id": "bd9aaf2a",
   "metadata": {
    "execution": {
     "iopub.execute_input": "2023-11-01T01:15:35.571914Z",
     "iopub.status.busy": "2023-11-01T01:15:35.571274Z",
     "iopub.status.idle": "2023-11-01T01:15:39.360105Z",
     "shell.execute_reply": "2023-11-01T01:15:39.357876Z"
    },
    "nbsphinx": "hidden",
    "papermill": {
     "duration": 3.802503,
     "end_time": "2023-11-01T01:15:39.366831",
     "exception": false,
     "start_time": "2023-11-01T01:15:35.564328",
     "status": "completed"
    },
    "tags": []
   },
   "outputs": [],
   "source": [
    "%%capture\n",
    "\n",
    "import numpy as np\n",
    "\n",
    "import matplotlib.pyplot as plt\n",
    "\n",
    "import warnings\n",
    "warnings.simplefilter(\"ignore\")\n",
    "\n",
    "from astromodels.functions.function import _known_functions\n",
    "\n",
    "\n",
    "from jupyterthemes import jtplot\n",
    "jtplot.style(context=\"talk\", fscale=1, ticks=True, grid=False)\n",
    "%matplotlib inline"
   ]
  },
  {
   "cell_type": "code",
   "execution_count": 2,
   "id": "91ea279e",
   "metadata": {
    "execution": {
     "iopub.execute_input": "2023-11-01T01:15:39.380543Z",
     "iopub.status.busy": "2023-11-01T01:15:39.379731Z",
     "iopub.status.idle": "2023-11-01T01:15:39.389990Z",
     "shell.execute_reply": "2023-11-01T01:15:39.387984Z"
    },
    "nbsphinx": "hidden",
    "papermill": {
     "duration": 0.024831,
     "end_time": "2023-11-01T01:15:39.396513",
     "exception": false,
     "start_time": "2023-11-01T01:15:39.371682",
     "status": "completed"
    },
    "tags": [
     "parameters"
    ]
   },
   "outputs": [],
   "source": [
    "func_name = \"TbAbs\"\n",
    "\n",
    "positive_prior = False\n"
   ]
  },
  {
   "cell_type": "code",
   "execution_count": 3,
   "id": "fcecc407",
   "metadata": {
    "execution": {
     "iopub.execute_input": "2023-11-01T01:15:39.408193Z",
     "iopub.status.busy": "2023-11-01T01:15:39.407503Z",
     "iopub.status.idle": "2023-11-01T01:15:39.416553Z",
     "shell.execute_reply": "2023-11-01T01:15:39.414431Z"
    },
    "papermill": {
     "duration": 0.022913,
     "end_time": "2023-11-01T01:15:39.423329",
     "exception": false,
     "start_time": "2023-11-01T01:15:39.400416",
     "status": "completed"
    },
    "tags": [
     "injected-parameters"
    ]
   },
   "outputs": [],
   "source": [
    "# Parameters\n",
    "func_name = \"Exponential\"\n",
    "positive_prior = True\n"
   ]
  },
  {
   "cell_type": "code",
   "execution_count": 4,
   "id": "9ce22ec6",
   "metadata": {
    "execution": {
     "iopub.execute_input": "2023-11-01T01:15:39.433093Z",
     "iopub.status.busy": "2023-11-01T01:15:39.432355Z",
     "iopub.status.idle": "2023-11-01T01:15:39.445474Z",
     "shell.execute_reply": "2023-11-01T01:15:39.443179Z"
    },
    "lines_to_next_cell": 0,
    "nbsphinx": "hidden",
    "papermill": {
     "duration": 0.025164,
     "end_time": "2023-11-01T01:15:39.451951",
     "exception": false,
     "start_time": "2023-11-01T01:15:39.426787",
     "status": "completed"
    },
    "tags": []
   },
   "outputs": [],
   "source": [
    "func = _known_functions[func_name]()\n",
    "\n",
    "if not positive_prior:\n",
    "\n",
    "\tenergy_grid = np.linspace(-5,5,1000)\n",
    "\n",
    "else:\n",
    "    \n",
    "    energy_grid = np.linspace(0,1,1000)\n",
    "    \n",
    "    \n",
    "    \n",
    "    \n",
    "blue = \"#4152E3\"\n",
    "red = \"#E3414B\"\n",
    "green = \"#41E39E\""
   ]
  },
  {
   "cell_type": "markdown",
   "id": "11cb68c7",
   "metadata": {
    "lines_to_next_cell": 0,
    "papermill": {
     "duration": 0.004785,
     "end_time": "2023-11-01T01:15:39.461601",
     "exception": false,
     "start_time": "2023-11-01T01:15:39.456816",
     "status": "completed"
    },
    "tags": []
   },
   "source": [
    "## Description"
   ]
  },
  {
   "cell_type": "code",
   "execution_count": 5,
   "id": "00a914fc",
   "metadata": {
    "execution": {
     "iopub.execute_input": "2023-11-01T01:15:39.471754Z",
     "iopub.status.busy": "2023-11-01T01:15:39.471120Z",
     "iopub.status.idle": "2023-11-01T01:15:39.488352Z",
     "shell.execute_reply": "2023-11-01T01:15:39.485669Z"
    },
    "papermill": {
     "duration": 0.029076,
     "end_time": "2023-11-01T01:15:39.494715",
     "exception": false,
     "start_time": "2023-11-01T01:15:39.465639",
     "status": "completed"
    },
    "tags": []
   },
   "outputs": [
    {
     "data": {
      "text/html": [
       "<ul>\n",
       "\n",
       "<li>description: An exponential distribution function</li>\n",
       "\n",
       "<li>formula: $ f(x, \\alpha) = \\alpha\\exp(-\\alpha x)$</li>\n",
       "\n",
       "<li>parameters: \n",
       "<ul>\n",
       "\n",
       "<li>alpha: \n",
       "<ul>\n",
       "\n",
       "<li>value: 1.0</li>\n",
       "\n",
       "<li>desc: first shape parameter</li>\n",
       "\n",
       "<li>min_value: 0.0</li>\n",
       "\n",
       "<li>max_value: None</li>\n",
       "\n",
       "<li>unit: </li>\n",
       "\n",
       "<li>is_normalization: False</li>\n",
       "\n",
       "<li>delta: 0.1</li>\n",
       "\n",
       "<li>free: True</li>\n",
       "\n",
       "</ul>\n",
       "\n",
       "</li>\n",
       "\n",
       "</ul>\n",
       "\n",
       "</li>\n",
       "\n",
       "</ul>\n"
      ],
      "text/plain": [
       "  * description: An exponential distribution function\n",
       "  * formula: $ f(x, \\alpha) = \\alpha\\exp(-\\alpha x)$\n",
       "  * parameters:\n",
       "    * alpha:\n",
       "      * value: 1.0\n",
       "      * desc: first shape parameter\n",
       "      * min_value: 0.0\n",
       "      * max_value: null\n",
       "      * unit: ''\n",
       "      * is_normalization: false\n",
       "      * delta: 0.1\n",
       "      * free: true"
      ]
     },
     "metadata": {},
     "output_type": "display_data"
    }
   ],
   "source": [
    "func.display()"
   ]
  },
  {
   "cell_type": "markdown",
   "id": "02f22f41",
   "metadata": {
    "papermill": {
     "duration": 0.004741,
     "end_time": "2023-11-01T01:15:39.505116",
     "exception": false,
     "start_time": "2023-11-01T01:15:39.500375",
     "status": "completed"
    },
    "tags": []
   },
   "source": [
    "## Shape \n",
    "\n",
    "The shape of the function. \n",
    "\n",
    "*If this is not a photon model but a prior or linear function then ignore the units as these docs are auto-generated*"
   ]
  },
  {
   "cell_type": "code",
   "execution_count": 6,
   "id": "cdace9fb",
   "metadata": {
    "execution": {
     "iopub.execute_input": "2023-11-01T01:15:39.518713Z",
     "iopub.status.busy": "2023-11-01T01:15:39.518224Z",
     "iopub.status.idle": "2023-11-01T01:15:39.873446Z",
     "shell.execute_reply": "2023-11-01T01:15:39.871247Z"
    },
    "papermill": {
     "duration": 0.369377,
     "end_time": "2023-11-01T01:15:39.879932",
     "exception": false,
     "start_time": "2023-11-01T01:15:39.510555",
     "status": "completed"
    },
    "tags": [
     "nbsphinx-thumbnail"
    ]
   },
   "outputs": [
    {
     "data": {
      "text/plain": [
       "Text(0, 0.5, 'probability')"
      ]
     },
     "execution_count": 6,
     "metadata": {},
     "output_type": "execute_result"
    },
    {
     "data": {
      "image/png": "[encoded data removed]",
      "text/plain": [
       "<Figure size 1040x910 with 1 Axes>"
      ]
     },
     "metadata": {},
     "output_type": "display_data"
    }
   ],
   "source": [
    "fig, ax = plt.subplots()\n",
    "\n",
    "\n",
    "ax.plot(energy_grid, func(energy_grid), color=blue, lw=3)\n",
    "\n",
    "ax.set_xlabel(\"x\")\n",
    "ax.set_ylabel(\"probability\")\n"
   ]
  },
  {
   "cell_type": "markdown",
   "id": "d5f3f101",
   "metadata": {
    "papermill": {
     "duration": 0.005996,
     "end_time": "2023-11-01T01:15:39.891670",
     "exception": false,
     "start_time": "2023-11-01T01:15:39.885674",
     "status": "completed"
    },
    "tags": []
   },
   "source": [
    "## Random Number Generation\n",
    "\n",
    "This is how we can generate random numbers from the prior.\n"
   ]
  },
  {
   "cell_type": "code",
   "execution_count": 7,
   "id": "a5affdd7",
   "metadata": {
    "execution": {
     "iopub.execute_input": "2023-11-01T01:15:39.904532Z",
     "iopub.status.busy": "2023-11-01T01:15:39.904058Z",
     "iopub.status.idle": "2023-11-01T01:15:41.593244Z",
     "shell.execute_reply": "2023-11-01T01:15:41.590719Z"
    },
    "papermill": {
     "duration": 1.702479,
     "end_time": "2023-11-01T01:15:41.599668",
     "exception": false,
     "start_time": "2023-11-01T01:15:39.897189",
     "status": "completed"
    },
    "tags": []
   },
   "outputs": [
    {
     "data": {
      "text/plain": [
       "Text(0, 0.5, 'N')"
      ]
     },
     "execution_count": 7,
     "metadata": {},
     "output_type": "execute_result"
    },
    {
     "data": {
      "image/png": "[encoded data removed]",
      "text/plain": [
       "<Figure size 1040x910 with 1 Axes>"
      ]
     },
     "metadata": {},
     "output_type": "display_data"
    }
   ],
   "source": [
    "\n",
    "\n",
    "u = np.random.uniform(0,1, size=5000)\n",
    "\n",
    "draws = [func.from_unit_cube(x) for x in u]\n",
    "\n",
    "\n",
    "fig, ax = plt.subplots()\n",
    "\n",
    "\n",
    "ax.hist(draws, color=green, bins=50)\n",
    "\n",
    "ax.set_xlabel(\"value\")\n",
    "ax.set_ylabel(\"N\")\n",
    "\n"
   ]
  }
 ],
 "metadata": {
  "jupytext": {
   "formats": "ipynb,md"
  },
  "kernelspec": {
   "display_name": "Python 3 (ipykernel)",
   "language": "python",
   "name": "python3"
  },
  "language_info": {
   "codemirror_mode": {
    "name": "ipython",
    "version": 3
   },
   "file_extension": ".py",
   "mimetype": "text/x-python",
   "name": "python",
   "nbconvert_exporter": "python",
   "pygments_lexer": "ipython3",
   "version": "3.9.18"
  },
  "papermill": {
   "default_parameters": {},
   "duration": 8.094217,
   "end_time": "2023-11-01T01:15:42.342342",
   "environment_variables": {},
   "exception": null,
   "input_path": "Exponential.ipynb",
   "output_path": "/Users/runner/work/astromodels/astromodels/docs/notebooks/Exponential.ipynb",
   "parameters": {
    "func_name": "Exponential",
    "positive_prior": true
   },
   "start_time": "2023-11-01T01:15:34.248125",
   "version": "2.4.0"
  }
 },
 "nbformat": 4,
 "nbformat_minor": 5
}
