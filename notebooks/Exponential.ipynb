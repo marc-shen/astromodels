{
 "cells": [
  {
   "cell_type": "markdown",
   "id": "d61ce9bb",
   "metadata": {
    "papermill": {
     "duration": 0.004651,
     "end_time": "2022-09-28T05:16:36.541212",
     "exception": false,
     "start_time": "2022-09-28T05:16:36.536561",
     "status": "completed"
    },
    "tags": []
   },
   "source": [
    "# Exponential"
   ]
  },
  {
   "cell_type": "code",
   "execution_count": 1,
   "id": "d1863a9b",
   "metadata": {
    "execution": {
     "iopub.execute_input": "2022-09-28T05:16:36.551746Z",
     "iopub.status.busy": "2022-09-28T05:16:36.550542Z",
     "iopub.status.idle": "2022-09-28T05:16:41.266235Z",
     "shell.execute_reply": "2022-09-28T05:16:41.264755Z"
    },
    "nbsphinx": "hidden",
    "papermill": {
     "duration": 4.724248,
     "end_time": "2022-09-28T05:16:41.269754",
     "exception": false,
     "start_time": "2022-09-28T05:16:36.545506",
     "status": "completed"
    },
    "tags": []
   },
   "outputs": [],
   "source": [
    "%%capture\n",
    "\n",
    "import numpy as np\n",
    "\n",
    "import matplotlib.pyplot as plt\n",
    "\n",
    "import warnings\n",
    "warnings.simplefilter(\"ignore\")\n",
    "\n",
    "from astromodels.functions.function import _known_functions\n",
    "\n",
    "\n",
    "from jupyterthemes import jtplot\n",
    "jtplot.style(context=\"talk\", fscale=1, ticks=True, grid=False)\n",
    "%matplotlib inline"
   ]
  },
  {
   "cell_type": "code",
   "execution_count": 2,
   "id": "24aa8ae8",
   "metadata": {
    "execution": {
     "iopub.execute_input": "2022-09-28T05:16:41.278760Z",
     "iopub.status.busy": "2022-09-28T05:16:41.278334Z",
     "iopub.status.idle": "2022-09-28T05:16:41.285376Z",
     "shell.execute_reply": "2022-09-28T05:16:41.284144Z"
    },
    "nbsphinx": "hidden",
    "papermill": {
     "duration": 0.014622,
     "end_time": "2022-09-28T05:16:41.288456",
     "exception": false,
     "start_time": "2022-09-28T05:16:41.273834",
     "status": "completed"
    },
    "tags": [
     "parameters"
    ]
   },
   "outputs": [],
   "source": [
    "func_name = \"TbAbs\"\n",
    "\n",
    "positive_prior = False\n"
   ]
  },
  {
   "cell_type": "code",
   "execution_count": 3,
   "id": "6f4806fc",
   "metadata": {
    "execution": {
     "iopub.execute_input": "2022-09-28T05:16:41.296437Z",
     "iopub.status.busy": "2022-09-28T05:16:41.295954Z",
     "iopub.status.idle": "2022-09-28T05:16:41.303111Z",
     "shell.execute_reply": "2022-09-28T05:16:41.301713Z"
    },
    "papermill": {
     "duration": 0.015564,
     "end_time": "2022-09-28T05:16:41.306892",
     "exception": false,
     "start_time": "2022-09-28T05:16:41.291328",
     "status": "completed"
    },
    "tags": [
     "injected-parameters"
    ]
   },
   "outputs": [],
   "source": [
    "# Parameters\n",
    "func_name = \"Exponential\"\n",
    "positive_prior = True\n"
   ]
  },
  {
   "cell_type": "code",
   "execution_count": 4,
   "id": "233017a3",
   "metadata": {
    "execution": {
     "iopub.execute_input": "2022-09-28T05:16:41.316834Z",
     "iopub.status.busy": "2022-09-28T05:16:41.316379Z",
     "iopub.status.idle": "2022-09-28T05:16:41.324848Z",
     "shell.execute_reply": "2022-09-28T05:16:41.323664Z"
    },
    "lines_to_next_cell": 0,
    "nbsphinx": "hidden",
    "papermill": {
     "duration": 0.017569,
     "end_time": "2022-09-28T05:16:41.328240",
     "exception": false,
     "start_time": "2022-09-28T05:16:41.310671",
     "status": "completed"
    },
    "tags": []
   },
   "outputs": [],
   "source": [
    "func = _known_functions[func_name]()\n",
    "\n",
    "if not positive_prior:\n",
    "\n",
    "\tenergy_grid = np.linspace(-5,5,1000)\n",
    "\n",
    "else:\n",
    "    \n",
    "    energy_grid = np.linspace(0,1,1000)\n",
    "    \n",
    "    \n",
    "    \n",
    "    \n",
    "blue = \"#4152E3\"\n",
    "red = \"#E3414B\"\n",
    "green = \"#41E39E\""
   ]
  },
  {
   "cell_type": "markdown",
   "id": "b6e1bbf6",
   "metadata": {
    "lines_to_next_cell": 0,
    "papermill": {
     "duration": 0.003354,
     "end_time": "2022-09-28T05:16:41.334684",
     "exception": false,
     "start_time": "2022-09-28T05:16:41.331330",
     "status": "completed"
    },
    "tags": []
   },
   "source": [
    "## Description"
   ]
  },
  {
   "cell_type": "code",
   "execution_count": 5,
   "id": "35a4d546",
   "metadata": {
    "execution": {
     "iopub.execute_input": "2022-09-28T05:16:41.343865Z",
     "iopub.status.busy": "2022-09-28T05:16:41.343389Z",
     "iopub.status.idle": "2022-09-28T05:16:41.354892Z",
     "shell.execute_reply": "2022-09-28T05:16:41.353198Z"
    },
    "papermill": {
     "duration": 0.02073,
     "end_time": "2022-09-28T05:16:41.359176",
     "exception": false,
     "start_time": "2022-09-28T05:16:41.338446",
     "status": "completed"
    },
    "tags": []
   },
   "outputs": [
    {
     "data": {
      "text/html": [
       "<ul>\n",
       "\n",
       "<li>description: An exponential distribution function</li>\n",
       "\n",
       "<li>formula: $ f(x, \\alpha) = \\alpha\\exp(-\\alpha x)$</li>\n",
       "\n",
       "<li>parameters: \n",
       "<ul>\n",
       "\n",
       "<li>alpha: \n",
       "<ul>\n",
       "\n",
       "<li>value: 1.0</li>\n",
       "\n",
       "<li>desc: first shape parameter</li>\n",
       "\n",
       "<li>min_value: 0.0</li>\n",
       "\n",
       "<li>max_value: None</li>\n",
       "\n",
       "<li>unit: </li>\n",
       "\n",
       "<li>is_normalization: False</li>\n",
       "\n",
       "<li>delta: 0.1</li>\n",
       "\n",
       "<li>free: True</li>\n",
       "\n",
       "</ul>\n",
       "\n",
       "</li>\n",
       "\n",
       "</ul>\n",
       "\n",
       "</li>\n",
       "\n",
       "</ul>\n"
      ],
      "text/plain": [
       "  * description: An exponential distribution function\n",
       "  * formula: $ f(x, \\alpha) = \\alpha\\exp(-\\alpha x)$\n",
       "  * parameters:\n",
       "    * alpha:\n",
       "      * value: 1.0\n",
       "      * desc: first shape parameter\n",
       "      * min_value: 0.0\n",
       "      * max_value: null\n",
       "      * unit: ''\n",
       "      * is_normalization: false\n",
       "      * delta: 0.1\n",
       "      * free: true"
      ]
     },
     "metadata": {},
     "output_type": "display_data"
    }
   ],
   "source": [
    "func.display()"
   ]
  },
  {
   "cell_type": "markdown",
   "id": "4bced3af",
   "metadata": {
    "papermill": {
     "duration": 0.00447,
     "end_time": "2022-09-28T05:16:41.368196",
     "exception": false,
     "start_time": "2022-09-28T05:16:41.363726",
     "status": "completed"
    },
    "tags": []
   },
   "source": [
    "## Shape \n",
    "\n",
    "The shape of the function. \n",
    "\n",
    "*If this is not a photon model but a prior or linear function then ignore the units as these docs are auto-generated*"
   ]
  },
  {
   "cell_type": "code",
   "execution_count": 6,
   "id": "2c178e55",
   "metadata": {
    "execution": {
     "iopub.execute_input": "2022-09-28T05:16:41.378077Z",
     "iopub.status.busy": "2022-09-28T05:16:41.377640Z",
     "iopub.status.idle": "2022-09-28T05:16:41.893733Z",
     "shell.execute_reply": "2022-09-28T05:16:41.892453Z"
    },
    "papermill": {
     "duration": 0.525809,
     "end_time": "2022-09-28T05:16:41.897675",
     "exception": false,
     "start_time": "2022-09-28T05:16:41.371866",
     "status": "completed"
    },
    "tags": [
     "nbsphinx-thumbnail"
    ]
   },
   "outputs": [
    {
     "data": {
      "text/plain": [
       "Text(0, 0.5, 'probability')"
      ]
     },
     "execution_count": 6,
     "metadata": {},
     "output_type": "execute_result"
    },
    {
     "data": {
      "image/png": "[encoded data removed]",
      "text/plain": [
       "<Figure size 1040x910 with 1 Axes>"
      ]
     },
     "metadata": {},
     "output_type": "display_data"
    }
   ],
   "source": [
    "fig, ax = plt.subplots()\n",
    "\n",
    "\n",
    "ax.plot(energy_grid, func(energy_grid), color=blue, lw=3)\n",
    "\n",
    "ax.set_xlabel(\"x\")\n",
    "ax.set_ylabel(\"probability\")\n"
   ]
  },
  {
   "cell_type": "markdown",
   "id": "b9e61cac",
   "metadata": {
    "papermill": {
     "duration": 0.005633,
     "end_time": "2022-09-28T05:16:41.907519",
     "exception": false,
     "start_time": "2022-09-28T05:16:41.901886",
     "status": "completed"
    },
    "tags": []
   },
   "source": [
    "## Random Number Generation\n",
    "\n",
    "This is how we can generate random numbers from the prior.\n"
   ]
  },
  {
   "cell_type": "code",
   "execution_count": 7,
   "id": "cc3611cb",
   "metadata": {
    "execution": {
     "iopub.execute_input": "2022-09-28T05:16:41.917732Z",
     "iopub.status.busy": "2022-09-28T05:16:41.917270Z",
     "iopub.status.idle": "2022-09-28T05:16:43.705361Z",
     "shell.execute_reply": "2022-09-28T05:16:43.703787Z"
    },
    "papermill": {
     "duration": 1.797071,
     "end_time": "2022-09-28T05:16:43.708632",
     "exception": false,
     "start_time": "2022-09-28T05:16:41.911561",
     "status": "completed"
    },
    "tags": []
   },
   "outputs": [
    {
     "data": {
      "text/plain": [
       "Text(0, 0.5, 'N')"
      ]
     },
     "execution_count": 7,
     "metadata": {},
     "output_type": "execute_result"
    },
    {
     "data": {
      "image/png": "[encoded data removed]",
      "text/plain": [
       "<Figure size 1040x910 with 1 Axes>"
      ]
     },
     "metadata": {},
     "output_type": "display_data"
    }
   ],
   "source": [
    "\n",
    "\n",
    "u = np.random.uniform(0,1, size=5000)\n",
    "\n",
    "draws = [func.from_unit_cube(x) for x in u]\n",
    "\n",
    "\n",
    "fig, ax = plt.subplots()\n",
    "\n",
    "\n",
    "ax.hist(draws, color=green, bins=50)\n",
    "\n",
    "ax.set_xlabel(\"value\")\n",
    "ax.set_ylabel(\"N\")\n",
    "\n"
   ]
  }
 ],
 "metadata": {
  "jupytext": {
   "formats": "ipynb,md"
  },
  "kernelspec": {
   "display_name": "Python 3 (ipykernel)",
   "language": "python",
   "name": "python3"
  },
  "language_info": {
   "codemirror_mode": {
    "name": "ipython",
    "version": 3
   },
   "file_extension": ".py",
   "mimetype": "text/x-python",
   "name": "python",
   "nbconvert_exporter": "python",
   "pygments_lexer": "ipython3",
   "version": "3.9.14"
  },
  "papermill": {
   "default_parameters": {},
   "duration": 9.448109,
   "end_time": "2022-09-28T05:16:44.497624",
   "environment_variables": {},
   "exception": null,
   "input_path": "Exponential.ipynb",
   "output_path": "/Users/runner/work/astromodels/astromodels/docs/notebooks/Exponential.ipynb",
   "parameters": {
    "func_name": "Exponential",
    "positive_prior": true
   },
   "start_time": "2022-09-28T05:16:35.049515",
   "version": "2.4.0"
  }
 },
 "nbformat": 4,
 "nbformat_minor": 5
}
