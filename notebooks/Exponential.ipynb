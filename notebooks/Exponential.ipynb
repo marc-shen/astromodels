{
 "cells": [
  {
   "cell_type": "markdown",
   "id": "c3aee485",
   "metadata": {
    "papermill": {
     "duration": 0.003755,
     "end_time": "2023-11-01T22:37:14.757803",
     "exception": false,
     "start_time": "2023-11-01T22:37:14.754048",
     "status": "completed"
    },
    "tags": []
   },
   "source": [
    "# Exponential"
   ]
  },
  {
   "cell_type": "code",
   "execution_count": 1,
   "id": "5197ae7d",
   "metadata": {
    "execution": {
     "iopub.execute_input": "2023-11-01T22:37:14.766073Z",
     "iopub.status.busy": "2023-11-01T22:37:14.765360Z",
     "iopub.status.idle": "2023-11-01T22:37:18.013220Z",
     "shell.execute_reply": "2023-11-01T22:37:18.011382Z"
    },
    "nbsphinx": "hidden",
    "papermill": {
     "duration": 3.257152,
     "end_time": "2023-11-01T22:37:18.017918",
     "exception": false,
     "start_time": "2023-11-01T22:37:14.760766",
     "status": "completed"
    },
    "tags": []
   },
   "outputs": [],
   "source": [
    "%%capture\n",
    "\n",
    "import numpy as np\n",
    "\n",
    "import matplotlib.pyplot as plt\n",
    "\n",
    "import warnings\n",
    "warnings.simplefilter(\"ignore\")\n",
    "\n",
    "from astromodels.functions.function import _known_functions\n",
    "\n",
    "\n",
    "from jupyterthemes import jtplot\n",
    "jtplot.style(context=\"talk\", fscale=1, ticks=True, grid=False)\n",
    "%matplotlib inline"
   ]
  },
  {
   "cell_type": "code",
   "execution_count": 2,
   "id": "a8b09570",
   "metadata": {
    "execution": {
     "iopub.execute_input": "2023-11-01T22:37:18.025686Z",
     "iopub.status.busy": "2023-11-01T22:37:18.025262Z",
     "iopub.status.idle": "2023-11-01T22:37:18.033228Z",
     "shell.execute_reply": "2023-11-01T22:37:18.031680Z"
    },
    "nbsphinx": "hidden",
    "papermill": {
     "duration": 0.016823,
     "end_time": "2023-11-01T22:37:18.037566",
     "exception": false,
     "start_time": "2023-11-01T22:37:18.020743",
     "status": "completed"
    },
    "tags": [
     "parameters"
    ]
   },
   "outputs": [],
   "source": [
    "func_name = \"TbAbs\"\n",
    "\n",
    "positive_prior = False\n"
   ]
  },
  {
   "cell_type": "code",
   "execution_count": 3,
   "id": "8f0099ad",
   "metadata": {
    "execution": {
     "iopub.execute_input": "2023-11-01T22:37:18.044553Z",
     "iopub.status.busy": "2023-11-01T22:37:18.044146Z",
     "iopub.status.idle": "2023-11-01T22:37:18.050517Z",
     "shell.execute_reply": "2023-11-01T22:37:18.048951Z"
    },
    "papermill": {
     "duration": 0.015143,
     "end_time": "2023-11-01T22:37:18.055232",
     "exception": false,
     "start_time": "2023-11-01T22:37:18.040089",
     "status": "completed"
    },
    "tags": [
     "injected-parameters"
    ]
   },
   "outputs": [],
   "source": [
    "# Parameters\n",
    "func_name = \"Exponential\"\n",
    "positive_prior = True\n"
   ]
  },
  {
   "cell_type": "code",
   "execution_count": 4,
   "id": "f7c2018f",
   "metadata": {
    "execution": {
     "iopub.execute_input": "2023-11-01T22:37:18.062490Z",
     "iopub.status.busy": "2023-11-01T22:37:18.062031Z",
     "iopub.status.idle": "2023-11-01T22:37:18.074369Z",
     "shell.execute_reply": "2023-11-01T22:37:18.072859Z"
    },
    "lines_to_next_cell": 0,
    "nbsphinx": "hidden",
    "papermill": {
     "duration": 0.021205,
     "end_time": "2023-11-01T22:37:18.079009",
     "exception": false,
     "start_time": "2023-11-01T22:37:18.057804",
     "status": "completed"
    },
    "tags": []
   },
   "outputs": [],
   "source": [
    "func = _known_functions[func_name]()\n",
    "\n",
    "if not positive_prior:\n",
    "\n",
    "\tenergy_grid = np.linspace(-5,5,1000)\n",
    "\n",
    "else:\n",
    "    \n",
    "    energy_grid = np.linspace(0,1,1000)\n",
    "    \n",
    "    \n",
    "    \n",
    "    \n",
    "blue = \"#4152E3\"\n",
    "red = \"#E3414B\"\n",
    "green = \"#41E39E\""
   ]
  },
  {
   "cell_type": "markdown",
   "id": "be1a1c0a",
   "metadata": {
    "lines_to_next_cell": 0,
    "papermill": {
     "duration": 0.002778,
     "end_time": "2023-11-01T22:37:18.084384",
     "exception": false,
     "start_time": "2023-11-01T22:37:18.081606",
     "status": "completed"
    },
    "tags": []
   },
   "source": [
    "## Description"
   ]
  },
  {
   "cell_type": "code",
   "execution_count": 5,
   "id": "c02d4b6d",
   "metadata": {
    "execution": {
     "iopub.execute_input": "2023-11-01T22:37:18.092210Z",
     "iopub.status.busy": "2023-11-01T22:37:18.091769Z",
     "iopub.status.idle": "2023-11-01T22:37:18.103749Z",
     "shell.execute_reply": "2023-11-01T22:37:18.101908Z"
    },
    "papermill": {
     "duration": 0.020969,
     "end_time": "2023-11-01T22:37:18.107916",
     "exception": false,
     "start_time": "2023-11-01T22:37:18.086947",
     "status": "completed"
    },
    "tags": []
   },
   "outputs": [
    {
     "data": {
      "text/html": [
       "<ul>\n",
       "\n",
       "<li>description: An exponential distribution function</li>\n",
       "\n",
       "<li>formula: $ f(x, \\alpha) = \\alpha\\exp(-\\alpha x)$</li>\n",
       "\n",
       "<li>parameters: \n",
       "<ul>\n",
       "\n",
       "<li>alpha: \n",
       "<ul>\n",
       "\n",
       "<li>value: 1.0</li>\n",
       "\n",
       "<li>desc: first shape parameter</li>\n",
       "\n",
       "<li>min_value: 0.0</li>\n",
       "\n",
       "<li>max_value: None</li>\n",
       "\n",
       "<li>unit: </li>\n",
       "\n",
       "<li>is_normalization: False</li>\n",
       "\n",
       "<li>delta: 0.1</li>\n",
       "\n",
       "<li>free: True</li>\n",
       "\n",
       "</ul>\n",
       "\n",
       "</li>\n",
       "\n",
       "</ul>\n",
       "\n",
       "</li>\n",
       "\n",
       "</ul>\n"
      ],
      "text/plain": [
       "  * description: An exponential distribution function\n",
       "  * formula: $ f(x, \\alpha) = \\alpha\\exp(-\\alpha x)$\n",
       "  * parameters:\n",
       "    * alpha:\n",
       "      * value: 1.0\n",
       "      * desc: first shape parameter\n",
       "      * min_value: 0.0\n",
       "      * max_value: null\n",
       "      * unit: ''\n",
       "      * is_normalization: false\n",
       "      * delta: 0.1\n",
       "      * free: true"
      ]
     },
     "metadata": {},
     "output_type": "display_data"
    }
   ],
   "source": [
    "func.display()"
   ]
  },
  {
   "cell_type": "markdown",
   "id": "468326ff",
   "metadata": {
    "papermill": {
     "duration": 0.003055,
     "end_time": "2023-11-01T22:37:18.113866",
     "exception": false,
     "start_time": "2023-11-01T22:37:18.110811",
     "status": "completed"
    },
    "tags": []
   },
   "source": [
    "## Shape \n",
    "\n",
    "The shape of the function. \n",
    "\n",
    "*If this is not a photon model but a prior or linear function then ignore the units as these docs are auto-generated*"
   ]
  },
  {
   "cell_type": "code",
   "execution_count": 6,
   "id": "346198f5",
   "metadata": {
    "execution": {
     "iopub.execute_input": "2023-11-01T22:37:18.121684Z",
     "iopub.status.busy": "2023-11-01T22:37:18.121211Z",
     "iopub.status.idle": "2023-11-01T22:37:18.406054Z",
     "shell.execute_reply": "2023-11-01T22:37:18.404126Z"
    },
    "papermill": {
     "duration": 0.294249,
     "end_time": "2023-11-01T22:37:18.410919",
     "exception": false,
     "start_time": "2023-11-01T22:37:18.116670",
     "status": "completed"
    },
    "tags": [
     "nbsphinx-thumbnail"
    ]
   },
   "outputs": [
    {
     "data": {
      "text/plain": [
       "Text(0, 0.5, 'probability')"
      ]
     },
     "execution_count": 6,
     "metadata": {},
     "output_type": "execute_result"
    },
    {
     "data": {
      "image/png": "[encoded data removed]",
      "text/plain": [
       "<Figure size 1040x910 with 1 Axes>"
      ]
     },
     "metadata": {},
     "output_type": "display_data"
    }
   ],
   "source": [
    "fig, ax = plt.subplots()\n",
    "\n",
    "\n",
    "ax.plot(energy_grid, func(energy_grid), color=blue, lw=3)\n",
    "\n",
    "ax.set_xlabel(\"x\")\n",
    "ax.set_ylabel(\"probability\")\n"
   ]
  },
  {
   "cell_type": "markdown",
   "id": "bf6d15a1",
   "metadata": {
    "papermill": {
     "duration": 0.003523,
     "end_time": "2023-11-01T22:37:18.418057",
     "exception": false,
     "start_time": "2023-11-01T22:37:18.414534",
     "status": "completed"
    },
    "tags": []
   },
   "source": [
    "## Random Number Generation\n",
    "\n",
    "This is how we can generate random numbers from the prior.\n"
   ]
  },
  {
   "cell_type": "code",
   "execution_count": 7,
   "id": "29ccfb1b",
   "metadata": {
    "execution": {
     "iopub.execute_input": "2023-11-01T22:37:18.427079Z",
     "iopub.status.busy": "2023-11-01T22:37:18.426681Z",
     "iopub.status.idle": "2023-11-01T22:37:19.583906Z",
     "shell.execute_reply": "2023-11-01T22:37:19.582239Z"
    },
    "papermill": {
     "duration": 1.167688,
     "end_time": "2023-11-01T22:37:19.589266",
     "exception": false,
     "start_time": "2023-11-01T22:37:18.421578",
     "status": "completed"
    },
    "tags": []
   },
   "outputs": [
    {
     "data": {
      "text/plain": [
       "Text(0, 0.5, 'N')"
      ]
     },
     "execution_count": 7,
     "metadata": {},
     "output_type": "execute_result"
    },
    {
     "data": {
      "image/png": "[encoded data removed]",
      "text/plain": [
       "<Figure size 1040x910 with 1 Axes>"
      ]
     },
     "metadata": {},
     "output_type": "display_data"
    }
   ],
   "source": [
    "\n",
    "\n",
    "u = np.random.uniform(0,1, size=5000)\n",
    "\n",
    "draws = [func.from_unit_cube(x) for x in u]\n",
    "\n",
    "\n",
    "fig, ax = plt.subplots()\n",
    "\n",
    "\n",
    "ax.hist(draws, color=green, bins=50)\n",
    "\n",
    "ax.set_xlabel(\"value\")\n",
    "ax.set_ylabel(\"N\")\n",
    "\n"
   ]
  }
 ],
 "metadata": {
  "jupytext": {
   "formats": "ipynb,md"
  },
  "kernelspec": {
   "display_name": "Python 3 (ipykernel)",
   "language": "python",
   "name": "python3"
  },
  "language_info": {
   "codemirror_mode": {
    "name": "ipython",
    "version": 3
   },
   "file_extension": ".py",
   "mimetype": "text/x-python",
   "name": "python",
   "nbconvert_exporter": "python",
   "pygments_lexer": "ipython3",
   "version": "3.9.18"
  },
  "papermill": {
   "default_parameters": {},
   "duration": 7.068385,
   "end_time": "2023-11-01T22:37:20.631313",
   "environment_variables": {},
   "exception": null,
   "input_path": "Exponential.ipynb",
   "output_path": "/Users/runner/work/astromodels/astromodels/docs/notebooks/Exponential.ipynb",
   "parameters": {
    "func_name": "Exponential",
    "positive_prior": true
   },
   "start_time": "2023-11-01T22:37:13.562928",
   "version": "2.4.0"
  }
 },
 "nbformat": 4,
 "nbformat_minor": 5
}
