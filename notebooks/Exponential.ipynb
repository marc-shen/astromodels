{
 "cells": [
  {
   "cell_type": "markdown",
   "id": "924289b9",
   "metadata": {
    "papermill": {
     "duration": 0.005541,
     "end_time": "2022-10-05T19:27:23.738124",
     "exception": false,
     "start_time": "2022-10-05T19:27:23.732583",
     "status": "completed"
    },
    "tags": []
   },
   "source": [
    "# Exponential"
   ]
  },
  {
   "cell_type": "code",
   "execution_count": 1,
   "id": "a37e1dce",
   "metadata": {
    "execution": {
     "iopub.execute_input": "2022-10-05T19:27:23.747931Z",
     "iopub.status.busy": "2022-10-05T19:27:23.747161Z",
     "iopub.status.idle": "2022-10-05T19:27:27.969264Z",
     "shell.execute_reply": "2022-10-05T19:27:27.968095Z"
    },
    "nbsphinx": "hidden",
    "papermill": {
     "duration": 4.230767,
     "end_time": "2022-10-05T19:27:27.972754",
     "exception": false,
     "start_time": "2022-10-05T19:27:23.741987",
     "status": "completed"
    },
    "tags": []
   },
   "outputs": [],
   "source": [
    "%%capture\n",
    "\n",
    "import numpy as np\n",
    "\n",
    "import matplotlib.pyplot as plt\n",
    "\n",
    "import warnings\n",
    "warnings.simplefilter(\"ignore\")\n",
    "\n",
    "from astromodels.functions.function import _known_functions\n",
    "\n",
    "\n",
    "from jupyterthemes import jtplot\n",
    "jtplot.style(context=\"talk\", fscale=1, ticks=True, grid=False)\n",
    "%matplotlib inline"
   ]
  },
  {
   "cell_type": "code",
   "execution_count": 2,
   "id": "10540155",
   "metadata": {
    "execution": {
     "iopub.execute_input": "2022-10-05T19:27:27.981706Z",
     "iopub.status.busy": "2022-10-05T19:27:27.981287Z",
     "iopub.status.idle": "2022-10-05T19:27:27.989349Z",
     "shell.execute_reply": "2022-10-05T19:27:27.988237Z"
    },
    "nbsphinx": "hidden",
    "papermill": {
     "duration": 0.015613,
     "end_time": "2022-10-05T19:27:27.992433",
     "exception": false,
     "start_time": "2022-10-05T19:27:27.976820",
     "status": "completed"
    },
    "tags": [
     "parameters"
    ]
   },
   "outputs": [],
   "source": [
    "func_name = \"TbAbs\"\n",
    "\n",
    "positive_prior = False\n"
   ]
  },
  {
   "cell_type": "code",
   "execution_count": 3,
   "id": "76978a88",
   "metadata": {
    "execution": {
     "iopub.execute_input": "2022-10-05T19:27:28.000313Z",
     "iopub.status.busy": "2022-10-05T19:27:27.999901Z",
     "iopub.status.idle": "2022-10-05T19:27:28.008322Z",
     "shell.execute_reply": "2022-10-05T19:27:28.007229Z"
    },
    "papermill": {
     "duration": 0.015789,
     "end_time": "2022-10-05T19:27:28.011289",
     "exception": false,
     "start_time": "2022-10-05T19:27:27.995500",
     "status": "completed"
    },
    "tags": [
     "injected-parameters"
    ]
   },
   "outputs": [],
   "source": [
    "# Parameters\n",
    "func_name = \"Exponential\"\n",
    "positive_prior = True\n"
   ]
  },
  {
   "cell_type": "code",
   "execution_count": 4,
   "id": "92b328d3",
   "metadata": {
    "execution": {
     "iopub.execute_input": "2022-10-05T19:27:28.019122Z",
     "iopub.status.busy": "2022-10-05T19:27:28.018700Z",
     "iopub.status.idle": "2022-10-05T19:27:28.027308Z",
     "shell.execute_reply": "2022-10-05T19:27:28.026066Z"
    },
    "lines_to_next_cell": 0,
    "nbsphinx": "hidden",
    "papermill": {
     "duration": 0.015945,
     "end_time": "2022-10-05T19:27:28.030254",
     "exception": false,
     "start_time": "2022-10-05T19:27:28.014309",
     "status": "completed"
    },
    "tags": []
   },
   "outputs": [],
   "source": [
    "func = _known_functions[func_name]()\n",
    "\n",
    "if not positive_prior:\n",
    "\n",
    "\tenergy_grid = np.linspace(-5,5,1000)\n",
    "\n",
    "else:\n",
    "    \n",
    "    energy_grid = np.linspace(0,1,1000)\n",
    "    \n",
    "    \n",
    "    \n",
    "    \n",
    "blue = \"#4152E3\"\n",
    "red = \"#E3414B\"\n",
    "green = \"#41E39E\""
   ]
  },
  {
   "cell_type": "markdown",
   "id": "1e3e3d9e",
   "metadata": {
    "lines_to_next_cell": 0,
    "papermill": {
     "duration": 0.003005,
     "end_time": "2022-10-05T19:27:28.036385",
     "exception": false,
     "start_time": "2022-10-05T19:27:28.033380",
     "status": "completed"
    },
    "tags": []
   },
   "source": [
    "## Description"
   ]
  },
  {
   "cell_type": "code",
   "execution_count": 5,
   "id": "09b21df2",
   "metadata": {
    "execution": {
     "iopub.execute_input": "2022-10-05T19:27:28.048852Z",
     "iopub.status.busy": "2022-10-05T19:27:28.048429Z",
     "iopub.status.idle": "2022-10-05T19:27:28.057431Z",
     "shell.execute_reply": "2022-10-05T19:27:28.056302Z"
    },
    "papermill": {
     "duration": 0.016515,
     "end_time": "2022-10-05T19:27:28.060308",
     "exception": false,
     "start_time": "2022-10-05T19:27:28.043793",
     "status": "completed"
    },
    "tags": []
   },
   "outputs": [
    {
     "data": {
      "text/html": [
       "<ul>\n",
       "\n",
       "<li>description: An exponential distribution function</li>\n",
       "\n",
       "<li>formula: $ f(x, \\alpha) = \\alpha\\exp(-\\alpha x)$</li>\n",
       "\n",
       "<li>parameters: \n",
       "<ul>\n",
       "\n",
       "<li>alpha: \n",
       "<ul>\n",
       "\n",
       "<li>value: 1.0</li>\n",
       "\n",
       "<li>desc: first shape parameter</li>\n",
       "\n",
       "<li>min_value: 0.0</li>\n",
       "\n",
       "<li>max_value: None</li>\n",
       "\n",
       "<li>unit: </li>\n",
       "\n",
       "<li>is_normalization: False</li>\n",
       "\n",
       "<li>delta: 0.1</li>\n",
       "\n",
       "<li>free: True</li>\n",
       "\n",
       "</ul>\n",
       "\n",
       "</li>\n",
       "\n",
       "</ul>\n",
       "\n",
       "</li>\n",
       "\n",
       "</ul>\n"
      ],
      "text/plain": [
       "  * description: An exponential distribution function\n",
       "  * formula: $ f(x, \\alpha) = \\alpha\\exp(-\\alpha x)$\n",
       "  * parameters:\n",
       "    * alpha:\n",
       "      * value: 1.0\n",
       "      * desc: first shape parameter\n",
       "      * min_value: 0.0\n",
       "      * max_value: null\n",
       "      * unit: ''\n",
       "      * is_normalization: false\n",
       "      * delta: 0.1\n",
       "      * free: true"
      ]
     },
     "metadata": {},
     "output_type": "display_data"
    }
   ],
   "source": [
    "func.display()"
   ]
  },
  {
   "cell_type": "markdown",
   "id": "a889e615",
   "metadata": {
    "papermill": {
     "duration": 0.003452,
     "end_time": "2022-10-05T19:27:28.068419",
     "exception": false,
     "start_time": "2022-10-05T19:27:28.064967",
     "status": "completed"
    },
    "tags": []
   },
   "source": [
    "## Shape \n",
    "\n",
    "The shape of the function. \n",
    "\n",
    "*If this is not a photon model but a prior or linear function then ignore the units as these docs are auto-generated*"
   ]
  },
  {
   "cell_type": "code",
   "execution_count": 6,
   "id": "231baea5",
   "metadata": {
    "execution": {
     "iopub.execute_input": "2022-10-05T19:27:28.076669Z",
     "iopub.status.busy": "2022-10-05T19:27:28.076236Z",
     "iopub.status.idle": "2022-10-05T19:27:28.395466Z",
     "shell.execute_reply": "2022-10-05T19:27:28.394159Z"
    },
    "papermill": {
     "duration": 0.328105,
     "end_time": "2022-10-05T19:27:28.399698",
     "exception": false,
     "start_time": "2022-10-05T19:27:28.071593",
     "status": "completed"
    },
    "tags": [
     "nbsphinx-thumbnail"
    ]
   },
   "outputs": [
    {
     "data": {
      "text/plain": [
       "Text(0, 0.5, 'probability')"
      ]
     },
     "execution_count": 6,
     "metadata": {},
     "output_type": "execute_result"
    },
    {
     "data": {
      "image/png": "[encoded data removed]",
      "text/plain": [
       "<Figure size 1040x910 with 1 Axes>"
      ]
     },
     "metadata": {},
     "output_type": "display_data"
    }
   ],
   "source": [
    "fig, ax = plt.subplots()\n",
    "\n",
    "\n",
    "ax.plot(energy_grid, func(energy_grid), color=blue, lw=3)\n",
    "\n",
    "ax.set_xlabel(\"x\")\n",
    "ax.set_ylabel(\"probability\")\n"
   ]
  },
  {
   "cell_type": "markdown",
   "id": "13640705",
   "metadata": {
    "papermill": {
     "duration": 0.005569,
     "end_time": "2022-10-05T19:27:28.410728",
     "exception": false,
     "start_time": "2022-10-05T19:27:28.405159",
     "status": "completed"
    },
    "tags": []
   },
   "source": [
    "## Random Number Generation\n",
    "\n",
    "This is how we can generate random numbers from the prior.\n"
   ]
  },
  {
   "cell_type": "code",
   "execution_count": 7,
   "id": "e2486807",
   "metadata": {
    "execution": {
     "iopub.execute_input": "2022-10-05T19:27:28.422340Z",
     "iopub.status.busy": "2022-10-05T19:27:28.421877Z",
     "iopub.status.idle": "2022-10-05T19:27:30.335032Z",
     "shell.execute_reply": "2022-10-05T19:27:30.333855Z"
    },
    "papermill": {
     "duration": 1.921917,
     "end_time": "2022-10-05T19:27:30.338242",
     "exception": false,
     "start_time": "2022-10-05T19:27:28.416325",
     "status": "completed"
    },
    "tags": []
   },
   "outputs": [
    {
     "data": {
      "text/plain": [
       "Text(0, 0.5, 'N')"
      ]
     },
     "execution_count": 7,
     "metadata": {},
     "output_type": "execute_result"
    },
    {
     "data": {
      "image/png": "[encoded data removed]",
      "text/plain": [
       "<Figure size 1040x910 with 1 Axes>"
      ]
     },
     "metadata": {},
     "output_type": "display_data"
    }
   ],
   "source": [
    "\n",
    "\n",
    "u = np.random.uniform(0,1, size=5000)\n",
    "\n",
    "draws = [func.from_unit_cube(x) for x in u]\n",
    "\n",
    "\n",
    "fig, ax = plt.subplots()\n",
    "\n",
    "\n",
    "ax.hist(draws, color=green, bins=50)\n",
    "\n",
    "ax.set_xlabel(\"value\")\n",
    "ax.set_ylabel(\"N\")\n",
    "\n"
   ]
  }
 ],
 "metadata": {
  "jupytext": {
   "formats": "ipynb,md"
  },
  "kernelspec": {
   "display_name": "Python 3 (ipykernel)",
   "language": "python",
   "name": "python3"
  },
  "language_info": {
   "codemirror_mode": {
    "name": "ipython",
    "version": 3
   },
   "file_extension": ".py",
   "mimetype": "text/x-python",
   "name": "python",
   "nbconvert_exporter": "python",
   "pygments_lexer": "ipython3",
   "version": "3.9.14"
  },
  "papermill": {
   "default_parameters": {},
   "duration": 8.737176,
   "end_time": "2022-10-05T19:27:31.087565",
   "environment_variables": {},
   "exception": null,
   "input_path": "Exponential.ipynb",
   "output_path": "/Users/runner/work/astromodels/astromodels/docs/notebooks/Exponential.ipynb",
   "parameters": {
    "func_name": "Exponential",
    "positive_prior": true
   },
   "start_time": "2022-10-05T19:27:22.350389",
   "version": "2.4.0"
  }
 },
 "nbformat": 4,
 "nbformat_minor": 5
}
