{
 "cells": [
  {
   "cell_type": "markdown",
   "id": "325472dc",
   "metadata": {
    "papermill": {
     "duration": 0.004206,
     "end_time": "2023-11-01T02:01:04.327115",
     "exception": false,
     "start_time": "2023-11-01T02:01:04.322909",
     "status": "completed"
    },
    "tags": []
   },
   "source": [
    "# Exponential"
   ]
  },
  {
   "cell_type": "code",
   "execution_count": 1,
   "id": "b17caa2e",
   "metadata": {
    "execution": {
     "iopub.execute_input": "2023-11-01T02:01:04.335440Z",
     "iopub.status.busy": "2023-11-01T02:01:04.334757Z",
     "iopub.status.idle": "2023-11-01T02:01:07.323990Z",
     "shell.execute_reply": "2023-11-01T02:01:07.321787Z"
    },
    "nbsphinx": "hidden",
    "papermill": {
     "duration": 2.999276,
     "end_time": "2023-11-01T02:01:07.329473",
     "exception": false,
     "start_time": "2023-11-01T02:01:04.330197",
     "status": "completed"
    },
    "tags": []
   },
   "outputs": [],
   "source": [
    "%%capture\n",
    "\n",
    "import numpy as np\n",
    "\n",
    "import matplotlib.pyplot as plt\n",
    "\n",
    "import warnings\n",
    "warnings.simplefilter(\"ignore\")\n",
    "\n",
    "from astromodels.functions.function import _known_functions\n",
    "\n",
    "\n",
    "from jupyterthemes import jtplot\n",
    "jtplot.style(context=\"talk\", fscale=1, ticks=True, grid=False)\n",
    "%matplotlib inline"
   ]
  },
  {
   "cell_type": "code",
   "execution_count": 2,
   "id": "1de4dfab",
   "metadata": {
    "execution": {
     "iopub.execute_input": "2023-11-01T02:01:07.339293Z",
     "iopub.status.busy": "2023-11-01T02:01:07.338765Z",
     "iopub.status.idle": "2023-11-01T02:01:07.346530Z",
     "shell.execute_reply": "2023-11-01T02:01:07.344718Z"
    },
    "nbsphinx": "hidden",
    "papermill": {
     "duration": 0.018939,
     "end_time": "2023-11-01T02:01:07.351693",
     "exception": false,
     "start_time": "2023-11-01T02:01:07.332754",
     "status": "completed"
    },
    "tags": [
     "parameters"
    ]
   },
   "outputs": [],
   "source": [
    "func_name = \"TbAbs\"\n",
    "\n",
    "positive_prior = False\n"
   ]
  },
  {
   "cell_type": "code",
   "execution_count": 3,
   "id": "c450cbc2",
   "metadata": {
    "execution": {
     "iopub.execute_input": "2023-11-01T02:01:07.360718Z",
     "iopub.status.busy": "2023-11-01T02:01:07.359887Z",
     "iopub.status.idle": "2023-11-01T02:01:07.370419Z",
     "shell.execute_reply": "2023-11-01T02:01:07.368535Z"
    },
    "papermill": {
     "duration": 0.020792,
     "end_time": "2023-11-01T02:01:07.375490",
     "exception": false,
     "start_time": "2023-11-01T02:01:07.354698",
     "status": "completed"
    },
    "tags": [
     "injected-parameters"
    ]
   },
   "outputs": [],
   "source": [
    "# Parameters\n",
    "func_name = \"Exponential\"\n",
    "positive_prior = True\n"
   ]
  },
  {
   "cell_type": "code",
   "execution_count": 4,
   "id": "f8ac1107",
   "metadata": {
    "execution": {
     "iopub.execute_input": "2023-11-01T02:01:07.383664Z",
     "iopub.status.busy": "2023-11-01T02:01:07.383228Z",
     "iopub.status.idle": "2023-11-01T02:01:07.391601Z",
     "shell.execute_reply": "2023-11-01T02:01:07.390247Z"
    },
    "lines_to_next_cell": 0,
    "nbsphinx": "hidden",
    "papermill": {
     "duration": 0.017522,
     "end_time": "2023-11-01T02:01:07.395925",
     "exception": false,
     "start_time": "2023-11-01T02:01:07.378403",
     "status": "completed"
    },
    "tags": []
   },
   "outputs": [],
   "source": [
    "func = _known_functions[func_name]()\n",
    "\n",
    "if not positive_prior:\n",
    "\n",
    "\tenergy_grid = np.linspace(-5,5,1000)\n",
    "\n",
    "else:\n",
    "    \n",
    "    energy_grid = np.linspace(0,1,1000)\n",
    "    \n",
    "    \n",
    "    \n",
    "    \n",
    "blue = \"#4152E3\"\n",
    "red = \"#E3414B\"\n",
    "green = \"#41E39E\""
   ]
  },
  {
   "cell_type": "markdown",
   "id": "db89e456",
   "metadata": {
    "lines_to_next_cell": 0,
    "papermill": {
     "duration": 0.003122,
     "end_time": "2023-11-01T02:01:07.401988",
     "exception": false,
     "start_time": "2023-11-01T02:01:07.398866",
     "status": "completed"
    },
    "tags": []
   },
   "source": [
    "## Description"
   ]
  },
  {
   "cell_type": "code",
   "execution_count": 5,
   "id": "2dea0649",
   "metadata": {
    "execution": {
     "iopub.execute_input": "2023-11-01T02:01:07.410752Z",
     "iopub.status.busy": "2023-11-01T02:01:07.410237Z",
     "iopub.status.idle": "2023-11-01T02:01:07.424116Z",
     "shell.execute_reply": "2023-11-01T02:01:07.422433Z"
    },
    "papermill": {
     "duration": 0.02474,
     "end_time": "2023-11-01T02:01:07.429788",
     "exception": false,
     "start_time": "2023-11-01T02:01:07.405048",
     "status": "completed"
    },
    "tags": []
   },
   "outputs": [
    {
     "data": {
      "text/html": [
       "<ul>\n",
       "\n",
       "<li>description: An exponential distribution function</li>\n",
       "\n",
       "<li>formula: $ f(x, \\alpha) = \\alpha\\exp(-\\alpha x)$</li>\n",
       "\n",
       "<li>parameters: \n",
       "<ul>\n",
       "\n",
       "<li>alpha: \n",
       "<ul>\n",
       "\n",
       "<li>value: 1.0</li>\n",
       "\n",
       "<li>desc: first shape parameter</li>\n",
       "\n",
       "<li>min_value: 0.0</li>\n",
       "\n",
       "<li>max_value: None</li>\n",
       "\n",
       "<li>unit: </li>\n",
       "\n",
       "<li>is_normalization: False</li>\n",
       "\n",
       "<li>delta: 0.1</li>\n",
       "\n",
       "<li>free: True</li>\n",
       "\n",
       "</ul>\n",
       "\n",
       "</li>\n",
       "\n",
       "</ul>\n",
       "\n",
       "</li>\n",
       "\n",
       "</ul>\n"
      ],
      "text/plain": [
       "  * description: An exponential distribution function\n",
       "  * formula: $ f(x, \\alpha) = \\alpha\\exp(-\\alpha x)$\n",
       "  * parameters:\n",
       "    * alpha:\n",
       "      * value: 1.0\n",
       "      * desc: first shape parameter\n",
       "      * min_value: 0.0\n",
       "      * max_value: null\n",
       "      * unit: ''\n",
       "      * is_normalization: false\n",
       "      * delta: 0.1\n",
       "      * free: true"
      ]
     },
     "metadata": {},
     "output_type": "display_data"
    }
   ],
   "source": [
    "func.display()"
   ]
  },
  {
   "cell_type": "markdown",
   "id": "2adbd680",
   "metadata": {
    "papermill": {
     "duration": 0.00356,
     "end_time": "2023-11-01T02:01:07.436823",
     "exception": false,
     "start_time": "2023-11-01T02:01:07.433263",
     "status": "completed"
    },
    "tags": []
   },
   "source": [
    "## Shape \n",
    "\n",
    "The shape of the function. \n",
    "\n",
    "*If this is not a photon model but a prior or linear function then ignore the units as these docs are auto-generated*"
   ]
  },
  {
   "cell_type": "code",
   "execution_count": 6,
   "id": "6a4c2504",
   "metadata": {
    "execution": {
     "iopub.execute_input": "2023-11-01T02:01:07.446437Z",
     "iopub.status.busy": "2023-11-01T02:01:07.445887Z",
     "iopub.status.idle": "2023-11-01T02:01:07.722377Z",
     "shell.execute_reply": "2023-11-01T02:01:07.720642Z"
    },
    "papermill": {
     "duration": 0.287506,
     "end_time": "2023-11-01T02:01:07.727608",
     "exception": false,
     "start_time": "2023-11-01T02:01:07.440102",
     "status": "completed"
    },
    "tags": [
     "nbsphinx-thumbnail"
    ]
   },
   "outputs": [
    {
     "data": {
      "text/plain": [
       "Text(0, 0.5, 'probability')"
      ]
     },
     "execution_count": 6,
     "metadata": {},
     "output_type": "execute_result"
    },
    {
     "data": {
      "image/png": "[encoded data removed]",
      "text/plain": [
       "<Figure size 1040x910 with 1 Axes>"
      ]
     },
     "metadata": {},
     "output_type": "display_data"
    }
   ],
   "source": [
    "fig, ax = plt.subplots()\n",
    "\n",
    "\n",
    "ax.plot(energy_grid, func(energy_grid), color=blue, lw=3)\n",
    "\n",
    "ax.set_xlabel(\"x\")\n",
    "ax.set_ylabel(\"probability\")\n"
   ]
  },
  {
   "cell_type": "markdown",
   "id": "618109c2",
   "metadata": {
    "papermill": {
     "duration": 0.004156,
     "end_time": "2023-11-01T02:01:07.735868",
     "exception": false,
     "start_time": "2023-11-01T02:01:07.731712",
     "status": "completed"
    },
    "tags": []
   },
   "source": [
    "## Random Number Generation\n",
    "\n",
    "This is how we can generate random numbers from the prior.\n"
   ]
  },
  {
   "cell_type": "code",
   "execution_count": 7,
   "id": "4767c702",
   "metadata": {
    "execution": {
     "iopub.execute_input": "2023-11-01T02:01:07.747185Z",
     "iopub.status.busy": "2023-11-01T02:01:07.746630Z",
     "iopub.status.idle": "2023-11-01T02:01:08.895249Z",
     "shell.execute_reply": "2023-11-01T02:01:08.893839Z"
    },
    "papermill": {
     "duration": 1.159644,
     "end_time": "2023-11-01T02:01:08.899906",
     "exception": false,
     "start_time": "2023-11-01T02:01:07.740262",
     "status": "completed"
    },
    "tags": []
   },
   "outputs": [
    {
     "data": {
      "text/plain": [
       "Text(0, 0.5, 'N')"
      ]
     },
     "execution_count": 7,
     "metadata": {},
     "output_type": "execute_result"
    },
    {
     "data": {
      "image/png": "[encoded data removed]",
      "text/plain": [
       "<Figure size 1040x910 with 1 Axes>"
      ]
     },
     "metadata": {},
     "output_type": "display_data"
    }
   ],
   "source": [
    "\n",
    "\n",
    "u = np.random.uniform(0,1, size=5000)\n",
    "\n",
    "draws = [func.from_unit_cube(x) for x in u]\n",
    "\n",
    "\n",
    "fig, ax = plt.subplots()\n",
    "\n",
    "\n",
    "ax.hist(draws, color=green, bins=50)\n",
    "\n",
    "ax.set_xlabel(\"value\")\n",
    "ax.set_ylabel(\"N\")\n",
    "\n"
   ]
  }
 ],
 "metadata": {
  "jupytext": {
   "formats": "ipynb,md"
  },
  "kernelspec": {
   "display_name": "Python 3 (ipykernel)",
   "language": "python",
   "name": "python3"
  },
  "language_info": {
   "codemirror_mode": {
    "name": "ipython",
    "version": 3
   },
   "file_extension": ".py",
   "mimetype": "text/x-python",
   "name": "python",
   "nbconvert_exporter": "python",
   "pygments_lexer": "ipython3",
   "version": "3.9.18"
  },
  "papermill": {
   "default_parameters": {},
   "duration": 6.276741,
   "end_time": "2023-11-01T02:01:09.540296",
   "environment_variables": {},
   "exception": null,
   "input_path": "Exponential.ipynb",
   "output_path": "/Users/runner/work/astromodels/astromodels/docs/notebooks/Exponential.ipynb",
   "parameters": {
    "func_name": "Exponential",
    "positive_prior": true
   },
   "start_time": "2023-11-01T02:01:03.263555",
   "version": "2.4.0"
  }
 },
 "nbformat": 4,
 "nbformat_minor": 5
}
