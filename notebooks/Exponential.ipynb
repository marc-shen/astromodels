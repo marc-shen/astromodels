{
 "cells": [
  {
   "cell_type": "markdown",
   "id": "6230b11f",
   "metadata": {
    "papermill": {
     "duration": 0.005454,
     "end_time": "2024-09-10T20:05:21.578163",
     "exception": false,
     "start_time": "2024-09-10T20:05:21.572709",
     "status": "completed"
    },
    "tags": []
   },
   "source": [
    "# Exponential"
   ]
  },
  {
   "cell_type": "code",
   "execution_count": 1,
   "id": "e64304d2",
   "metadata": {
    "execution": {
     "iopub.execute_input": "2024-09-10T20:05:21.588745Z",
     "iopub.status.busy": "2024-09-10T20:05:21.587936Z",
     "iopub.status.idle": "2024-09-10T20:05:22.995820Z",
     "shell.execute_reply": "2024-09-10T20:05:22.995287Z"
    },
    "nbsphinx": "hidden",
    "papermill": {
     "duration": 1.415495,
     "end_time": "2024-09-10T20:05:22.997407",
     "exception": false,
     "start_time": "2024-09-10T20:05:21.581912",
     "status": "completed"
    },
    "tags": []
   },
   "outputs": [],
   "source": [
    "%%capture\n",
    "\n",
    "import numpy as np\n",
    "\n",
    "import matplotlib.pyplot as plt\n",
    "\n",
    "import warnings\n",
    "warnings.simplefilter(\"ignore\")\n",
    "\n",
    "from astromodels.functions.function import _known_functions\n",
    "\n",
    "\n",
    "from jupyterthemes import jtplot\n",
    "jtplot.style(context=\"talk\", fscale=1, ticks=True, grid=False)\n",
    "%matplotlib inline"
   ]
  },
  {
   "cell_type": "code",
   "execution_count": 2,
   "id": "0eb4d03b",
   "metadata": {
    "execution": {
     "iopub.execute_input": "2024-09-10T20:05:23.000568Z",
     "iopub.status.busy": "2024-09-10T20:05:23.000241Z",
     "iopub.status.idle": "2024-09-10T20:05:23.002431Z",
     "shell.execute_reply": "2024-09-10T20:05:23.002042Z"
    },
    "nbsphinx": "hidden",
    "papermill": {
     "duration": 0.005084,
     "end_time": "2024-09-10T20:05:23.003713",
     "exception": false,
     "start_time": "2024-09-10T20:05:22.998629",
     "status": "completed"
    },
    "tags": [
     "parameters"
    ]
   },
   "outputs": [],
   "source": [
    "func_name = \"TbAbs\"\n",
    "\n",
    "positive_prior = False\n"
   ]
  },
  {
   "cell_type": "code",
   "execution_count": 3,
   "id": "e2d3e159",
   "metadata": {
    "execution": {
     "iopub.execute_input": "2024-09-10T20:05:23.006346Z",
     "iopub.status.busy": "2024-09-10T20:05:23.006179Z",
     "iopub.status.idle": "2024-09-10T20:05:23.008102Z",
     "shell.execute_reply": "2024-09-10T20:05:23.007713Z"
    },
    "papermill": {
     "duration": 0.004596,
     "end_time": "2024-09-10T20:05:23.009347",
     "exception": false,
     "start_time": "2024-09-10T20:05:23.004751",
     "status": "completed"
    },
    "tags": [
     "injected-parameters"
    ]
   },
   "outputs": [],
   "source": [
    "# Parameters\n",
    "func_name = \"Exponential\"\n",
    "positive_prior = True\n"
   ]
  },
  {
   "cell_type": "code",
   "execution_count": 4,
   "id": "5ebbb629",
   "metadata": {
    "execution": {
     "iopub.execute_input": "2024-09-10T20:05:23.011866Z",
     "iopub.status.busy": "2024-09-10T20:05:23.011734Z",
     "iopub.status.idle": "2024-09-10T20:05:23.020693Z",
     "shell.execute_reply": "2024-09-10T20:05:23.020251Z"
    },
    "lines_to_next_cell": 0,
    "nbsphinx": "hidden",
    "papermill": {
     "duration": 0.011649,
     "end_time": "2024-09-10T20:05:23.021981",
     "exception": false,
     "start_time": "2024-09-10T20:05:23.010332",
     "status": "completed"
    },
    "tags": []
   },
   "outputs": [],
   "source": [
    "func = _known_functions[func_name]()\n",
    "\n",
    "if not positive_prior:\n",
    "\n",
    "\tenergy_grid = np.linspace(-5,5,1000)\n",
    "\n",
    "else:\n",
    "    \n",
    "    energy_grid = np.linspace(0,1,1000)\n",
    "    \n",
    "    \n",
    "    \n",
    "    \n",
    "blue = \"#4152E3\"\n",
    "red = \"#E3414B\"\n",
    "green = \"#41E39E\""
   ]
  },
  {
   "cell_type": "markdown",
   "id": "b9ea027d",
   "metadata": {
    "lines_to_next_cell": 0,
    "papermill": {
     "duration": 0.000983,
     "end_time": "2024-09-10T20:05:23.023988",
     "exception": false,
     "start_time": "2024-09-10T20:05:23.023005",
     "status": "completed"
    },
    "tags": []
   },
   "source": [
    "## Description"
   ]
  },
  {
   "cell_type": "code",
   "execution_count": 5,
   "id": "efa30ab3",
   "metadata": {
    "execution": {
     "iopub.execute_input": "2024-09-10T20:05:23.026513Z",
     "iopub.status.busy": "2024-09-10T20:05:23.026379Z",
     "iopub.status.idle": "2024-09-10T20:05:23.029716Z",
     "shell.execute_reply": "2024-09-10T20:05:23.029222Z"
    },
    "papermill": {
     "duration": 0.006165,
     "end_time": "2024-09-10T20:05:23.031085",
     "exception": false,
     "start_time": "2024-09-10T20:05:23.024920",
     "status": "completed"
    },
    "tags": []
   },
   "outputs": [
    {
     "data": {
      "text/html": [
       "<ul>\n",
       "\n",
       "<li>description: An exponential distribution function</li>\n",
       "\n",
       "<li>formula: $ f(x, \\alpha) = \\alpha\\exp(-\\alpha x)$</li>\n",
       "\n",
       "<li>parameters: \n",
       "<ul>\n",
       "\n",
       "<li>alpha: \n",
       "<ul>\n",
       "\n",
       "<li>value: 1.0</li>\n",
       "\n",
       "<li>desc: first shape parameter</li>\n",
       "\n",
       "<li>min_value: 0.0</li>\n",
       "\n",
       "<li>max_value: None</li>\n",
       "\n",
       "<li>unit: </li>\n",
       "\n",
       "<li>is_normalization: False</li>\n",
       "\n",
       "<li>delta: 0.1</li>\n",
       "\n",
       "<li>free: True</li>\n",
       "\n",
       "</ul>\n",
       "\n",
       "</li>\n",
       "\n",
       "</ul>\n",
       "\n",
       "</li>\n",
       "\n",
       "</ul>\n"
      ],
      "text/plain": [
       "  * description: An exponential distribution function\n",
       "  * formula: $ f(x, \\alpha) = \\alpha\\exp(-\\alpha x)$\n",
       "  * parameters:\n",
       "    * alpha:\n",
       "      * value: 1.0\n",
       "      * desc: first shape parameter\n",
       "      * min_value: 0.0\n",
       "      * max_value: null\n",
       "      * unit: ''\n",
       "      * is_normalization: false\n",
       "      * delta: 0.1\n",
       "      * free: true"
      ]
     },
     "metadata": {},
     "output_type": "display_data"
    }
   ],
   "source": [
    "func.display()"
   ]
  },
  {
   "cell_type": "markdown",
   "id": "343af7df",
   "metadata": {
    "papermill": {
     "duration": 0.001062,
     "end_time": "2024-09-10T20:05:23.033276",
     "exception": false,
     "start_time": "2024-09-10T20:05:23.032214",
     "status": "completed"
    },
    "tags": []
   },
   "source": [
    "## Shape \n",
    "\n",
    "The shape of the function. \n",
    "\n",
    "*If this is not a photon model but a prior or linear function then ignore the units as these docs are auto-generated*"
   ]
  },
  {
   "cell_type": "code",
   "execution_count": 6,
   "id": "4b2f9eb7",
   "metadata": {
    "execution": {
     "iopub.execute_input": "2024-09-10T20:05:23.036106Z",
     "iopub.status.busy": "2024-09-10T20:05:23.035960Z",
     "iopub.status.idle": "2024-09-10T20:05:23.133340Z",
     "shell.execute_reply": "2024-09-10T20:05:23.132994Z"
    },
    "papermill": {
     "duration": 0.100423,
     "end_time": "2024-09-10T20:05:23.134795",
     "exception": false,
     "start_time": "2024-09-10T20:05:23.034372",
     "status": "completed"
    },
    "tags": [
     "nbsphinx-thumbnail"
    ]
   },
   "outputs": [
    {
     "data": {
      "text/plain": [
       "Text(0, 0.5, 'probability')"
      ]
     },
     "execution_count": 6,
     "metadata": {},
     "output_type": "execute_result"
    },
    {
     "data": {
      "image/png": "[encoded data removed]",
      "text/plain": [
       "<Figure size 1040x910 with 1 Axes>"
      ]
     },
     "metadata": {},
     "output_type": "display_data"
    }
   ],
   "source": [
    "fig, ax = plt.subplots()\n",
    "\n",
    "\n",
    "ax.plot(energy_grid, func(energy_grid), color=blue, lw=3)\n",
    "\n",
    "ax.set_xlabel(\"x\")\n",
    "ax.set_ylabel(\"probability\")\n"
   ]
  },
  {
   "cell_type": "markdown",
   "id": "9d4e6499",
   "metadata": {
    "papermill": {
     "duration": 0.001367,
     "end_time": "2024-09-10T20:05:23.137761",
     "exception": false,
     "start_time": "2024-09-10T20:05:23.136394",
     "status": "completed"
    },
    "tags": []
   },
   "source": [
    "## Random Number Generation\n",
    "\n",
    "This is how we can generate random numbers from the prior.\n"
   ]
  },
  {
   "cell_type": "code",
   "execution_count": 7,
   "id": "7c133b30",
   "metadata": {
    "execution": {
     "iopub.execute_input": "2024-09-10T20:05:23.141167Z",
     "iopub.status.busy": "2024-09-10T20:05:23.141023Z",
     "iopub.status.idle": "2024-09-10T20:05:23.446637Z",
     "shell.execute_reply": "2024-09-10T20:05:23.446282Z"
    },
    "papermill": {
     "duration": 0.309025,
     "end_time": "2024-09-10T20:05:23.448092",
     "exception": false,
     "start_time": "2024-09-10T20:05:23.139067",
     "status": "completed"
    },
    "tags": []
   },
   "outputs": [
    {
     "data": {
      "text/plain": [
       "Text(0, 0.5, 'N')"
      ]
     },
     "execution_count": 7,
     "metadata": {},
     "output_type": "execute_result"
    },
    {
     "data": {
      "image/png": "[encoded data removed]",
      "text/plain": [
       "<Figure size 1040x910 with 1 Axes>"
      ]
     },
     "metadata": {},
     "output_type": "display_data"
    }
   ],
   "source": [
    "\n",
    "\n",
    "u = np.random.uniform(0,1, size=5000)\n",
    "\n",
    "draws = [func.from_unit_cube(x) for x in u]\n",
    "\n",
    "\n",
    "fig, ax = plt.subplots()\n",
    "\n",
    "\n",
    "ax.hist(draws, color=green, bins=50)\n",
    "\n",
    "ax.set_xlabel(\"value\")\n",
    "ax.set_ylabel(\"N\")\n",
    "\n"
   ]
  }
 ],
 "metadata": {
  "jupytext": {
   "formats": "ipynb,md"
  },
  "kernelspec": {
   "display_name": "Python 3 (ipykernel)",
   "language": "python",
   "name": "python3"
  },
  "language_info": {
   "codemirror_mode": {
    "name": "ipython",
    "version": 3
   },
   "file_extension": ".py",
   "mimetype": "text/x-python",
   "name": "python",
   "nbconvert_exporter": "python",
   "pygments_lexer": "ipython3",
   "version": "3.9.13"
  },
  "papermill": {
   "default_parameters": {},
   "duration": 2.873626,
   "end_time": "2024-09-10T20:05:23.777142",
   "environment_variables": {},
   "exception": null,
   "input_path": "Exponential.ipynb",
   "output_path": "/Users/runner/work/astromodels/astromodels/docs/notebooks/Exponential.ipynb",
   "parameters": {
    "func_name": "Exponential",
    "positive_prior": true
   },
   "start_time": "2024-09-10T20:05:20.903516",
   "version": "2.6.0"
  }
 },
 "nbformat": 4,
 "nbformat_minor": 5
}
