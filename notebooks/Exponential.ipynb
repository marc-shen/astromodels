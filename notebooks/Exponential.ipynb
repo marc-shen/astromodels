{
 "cells": [
  {
   "cell_type": "markdown",
   "id": "194746dd",
   "metadata": {
    "papermill": {
     "duration": 0.004481,
     "end_time": "2024-09-10T20:42:26.650852",
     "exception": false,
     "start_time": "2024-09-10T20:42:26.646371",
     "status": "completed"
    },
    "tags": []
   },
   "source": [
    "# Exponential"
   ]
  },
  {
   "cell_type": "code",
   "execution_count": 1,
   "id": "89087f13",
   "metadata": {
    "execution": {
     "iopub.execute_input": "2024-09-10T20:42:26.661405Z",
     "iopub.status.busy": "2024-09-10T20:42:26.660716Z",
     "iopub.status.idle": "2024-09-10T20:42:28.651272Z",
     "shell.execute_reply": "2024-09-10T20:42:28.649864Z"
    },
    "nbsphinx": "hidden",
    "papermill": {
     "duration": 2.003036,
     "end_time": "2024-09-10T20:42:28.658081",
     "exception": false,
     "start_time": "2024-09-10T20:42:26.655045",
     "status": "completed"
    },
    "tags": []
   },
   "outputs": [],
   "source": [
    "%%capture\n",
    "\n",
    "import numpy as np\n",
    "\n",
    "import matplotlib.pyplot as plt\n",
    "\n",
    "import warnings\n",
    "warnings.simplefilter(\"ignore\")\n",
    "\n",
    "from astromodels.functions.function import _known_functions\n",
    "\n",
    "\n",
    "from jupyterthemes import jtplot\n",
    "jtplot.style(context=\"talk\", fscale=1, ticks=True, grid=False)\n",
    "%matplotlib inline"
   ]
  },
  {
   "cell_type": "code",
   "execution_count": 2,
   "id": "637a2adc",
   "metadata": {
    "execution": {
     "iopub.execute_input": "2024-09-10T20:42:28.667374Z",
     "iopub.status.busy": "2024-09-10T20:42:28.664300Z",
     "iopub.status.idle": "2024-09-10T20:42:28.674711Z",
     "shell.execute_reply": "2024-09-10T20:42:28.672464Z"
    },
    "nbsphinx": "hidden",
    "papermill": {
     "duration": 0.021342,
     "end_time": "2024-09-10T20:42:28.681078",
     "exception": false,
     "start_time": "2024-09-10T20:42:28.659736",
     "status": "completed"
    },
    "tags": [
     "parameters"
    ]
   },
   "outputs": [],
   "source": [
    "func_name = \"TbAbs\"\n",
    "\n",
    "positive_prior = False\n"
   ]
  },
  {
   "cell_type": "code",
   "execution_count": 3,
   "id": "ac98e507",
   "metadata": {
    "execution": {
     "iopub.execute_input": "2024-09-10T20:42:28.689138Z",
     "iopub.status.busy": "2024-09-10T20:42:28.688502Z",
     "iopub.status.idle": "2024-09-10T20:42:28.702046Z",
     "shell.execute_reply": "2024-09-10T20:42:28.700223Z"
    },
    "papermill": {
     "duration": 0.024188,
     "end_time": "2024-09-10T20:42:28.707031",
     "exception": false,
     "start_time": "2024-09-10T20:42:28.682843",
     "status": "completed"
    },
    "tags": [
     "injected-parameters"
    ]
   },
   "outputs": [],
   "source": [
    "# Parameters\n",
    "func_name = \"Exponential\"\n",
    "positive_prior = True\n"
   ]
  },
  {
   "cell_type": "code",
   "execution_count": 4,
   "id": "f1e6a375",
   "metadata": {
    "execution": {
     "iopub.execute_input": "2024-09-10T20:42:28.713725Z",
     "iopub.status.busy": "2024-09-10T20:42:28.713447Z",
     "iopub.status.idle": "2024-09-10T20:42:28.721370Z",
     "shell.execute_reply": "2024-09-10T20:42:28.720308Z"
    },
    "lines_to_next_cell": 0,
    "nbsphinx": "hidden",
    "papermill": {
     "duration": 0.017632,
     "end_time": "2024-09-10T20:42:28.726513",
     "exception": false,
     "start_time": "2024-09-10T20:42:28.708881",
     "status": "completed"
    },
    "tags": []
   },
   "outputs": [],
   "source": [
    "func = _known_functions[func_name]()\n",
    "\n",
    "if not positive_prior:\n",
    "\n",
    "\tenergy_grid = np.linspace(-5,5,1000)\n",
    "\n",
    "else:\n",
    "    \n",
    "    energy_grid = np.linspace(0,1,1000)\n",
    "    \n",
    "    \n",
    "    \n",
    "    \n",
    "blue = \"#4152E3\"\n",
    "red = \"#E3414B\"\n",
    "green = \"#41E39E\""
   ]
  },
  {
   "cell_type": "markdown",
   "id": "9b7f3755",
   "metadata": {
    "lines_to_next_cell": 0,
    "papermill": {
     "duration": 0.003292,
     "end_time": "2024-09-10T20:42:28.731525",
     "exception": false,
     "start_time": "2024-09-10T20:42:28.728233",
     "status": "completed"
    },
    "tags": []
   },
   "source": [
    "## Description"
   ]
  },
  {
   "cell_type": "code",
   "execution_count": 5,
   "id": "cf801439",
   "metadata": {
    "execution": {
     "iopub.execute_input": "2024-09-10T20:42:28.737347Z",
     "iopub.status.busy": "2024-09-10T20:42:28.737083Z",
     "iopub.status.idle": "2024-09-10T20:42:28.756981Z",
     "shell.execute_reply": "2024-09-10T20:42:28.748363Z"
    },
    "papermill": {
     "duration": 0.029669,
     "end_time": "2024-09-10T20:42:28.762834",
     "exception": false,
     "start_time": "2024-09-10T20:42:28.733165",
     "status": "completed"
    },
    "tags": []
   },
   "outputs": [
    {
     "data": {
      "text/html": [
       "<ul>\n",
       "\n",
       "<li>description: An exponential distribution function</li>\n",
       "\n",
       "<li>formula: $ f(x, \\alpha) = \\alpha\\exp(-\\alpha x)$</li>\n",
       "\n",
       "<li>parameters: \n",
       "<ul>\n",
       "\n",
       "<li>alpha: \n",
       "<ul>\n",
       "\n",
       "<li>value: 1.0</li>\n",
       "\n",
       "<li>desc: first shape parameter</li>\n",
       "\n",
       "<li>min_value: 0.0</li>\n",
       "\n",
       "<li>max_value: None</li>\n",
       "\n",
       "<li>unit: </li>\n",
       "\n",
       "<li>is_normalization: False</li>\n",
       "\n",
       "<li>delta: 0.1</li>\n",
       "\n",
       "<li>free: True</li>\n",
       "\n",
       "</ul>\n",
       "\n",
       "</li>\n",
       "\n",
       "</ul>\n",
       "\n",
       "</li>\n",
       "\n",
       "</ul>\n"
      ],
      "text/plain": [
       "  * description: An exponential distribution function\n",
       "  * formula: $ f(x, \\alpha) = \\alpha\\exp(-\\alpha x)$\n",
       "  * parameters:\n",
       "    * alpha:\n",
       "      * value: 1.0\n",
       "      * desc: first shape parameter\n",
       "      * min_value: 0.0\n",
       "      * max_value: null\n",
       "      * unit: ''\n",
       "      * is_normalization: false\n",
       "      * delta: 0.1\n",
       "      * free: true"
      ]
     },
     "metadata": {},
     "output_type": "display_data"
    }
   ],
   "source": [
    "func.display()"
   ]
  },
  {
   "cell_type": "markdown",
   "id": "47100faf",
   "metadata": {
    "papermill": {
     "duration": 0.001411,
     "end_time": "2024-09-10T20:42:28.766080",
     "exception": false,
     "start_time": "2024-09-10T20:42:28.764669",
     "status": "completed"
    },
    "tags": []
   },
   "source": [
    "## Shape \n",
    "\n",
    "The shape of the function. \n",
    "\n",
    "*If this is not a photon model but a prior or linear function then ignore the units as these docs are auto-generated*"
   ]
  },
  {
   "cell_type": "code",
   "execution_count": 6,
   "id": "f5a1c1b2",
   "metadata": {
    "execution": {
     "iopub.execute_input": "2024-09-10T20:42:28.770340Z",
     "iopub.status.busy": "2024-09-10T20:42:28.770109Z",
     "iopub.status.idle": "2024-09-10T20:42:28.948214Z",
     "shell.execute_reply": "2024-09-10T20:42:28.946953Z"
    },
    "papermill": {
     "duration": 0.183272,
     "end_time": "2024-09-10T20:42:28.950884",
     "exception": false,
     "start_time": "2024-09-10T20:42:28.767612",
     "status": "completed"
    },
    "tags": [
     "nbsphinx-thumbnail"
    ]
   },
   "outputs": [
    {
     "data": {
      "text/plain": [
       "Text(0, 0.5, 'probability')"
      ]
     },
     "execution_count": 6,
     "metadata": {},
     "output_type": "execute_result"
    },
    {
     "data": {
      "image/png": "[encoded data removed]",
      "text/plain": [
       "<Figure size 1040x910 with 1 Axes>"
      ]
     },
     "metadata": {},
     "output_type": "display_data"
    }
   ],
   "source": [
    "fig, ax = plt.subplots()\n",
    "\n",
    "\n",
    "ax.plot(energy_grid, func(energy_grid), color=blue, lw=3)\n",
    "\n",
    "ax.set_xlabel(\"x\")\n",
    "ax.set_ylabel(\"probability\")\n"
   ]
  },
  {
   "cell_type": "markdown",
   "id": "be70a0b5",
   "metadata": {
    "papermill": {
     "duration": 0.004789,
     "end_time": "2024-09-10T20:42:28.960369",
     "exception": false,
     "start_time": "2024-09-10T20:42:28.955580",
     "status": "completed"
    },
    "tags": []
   },
   "source": [
    "## Random Number Generation\n",
    "\n",
    "This is how we can generate random numbers from the prior.\n"
   ]
  },
  {
   "cell_type": "code",
   "execution_count": 7,
   "id": "c4a71003",
   "metadata": {
    "execution": {
     "iopub.execute_input": "2024-09-10T20:42:28.970756Z",
     "iopub.status.busy": "2024-09-10T20:42:28.970537Z",
     "iopub.status.idle": "2024-09-10T20:42:29.503682Z",
     "shell.execute_reply": "2024-09-10T20:42:29.503206Z"
    },
    "papermill": {
     "duration": 0.541276,
     "end_time": "2024-09-10T20:42:29.506320",
     "exception": false,
     "start_time": "2024-09-10T20:42:28.965044",
     "status": "completed"
    },
    "tags": []
   },
   "outputs": [
    {
     "data": {
      "text/plain": [
       "Text(0, 0.5, 'N')"
      ]
     },
     "execution_count": 7,
     "metadata": {},
     "output_type": "execute_result"
    },
    {
     "data": {
      "image/png": "[encoded data removed]",
      "text/plain": [
       "<Figure size 1040x910 with 1 Axes>"
      ]
     },
     "metadata": {},
     "output_type": "display_data"
    }
   ],
   "source": [
    "\n",
    "\n",
    "u = np.random.uniform(0,1, size=5000)\n",
    "\n",
    "draws = [func.from_unit_cube(x) for x in u]\n",
    "\n",
    "\n",
    "fig, ax = plt.subplots()\n",
    "\n",
    "\n",
    "ax.hist(draws, color=green, bins=50)\n",
    "\n",
    "ax.set_xlabel(\"value\")\n",
    "ax.set_ylabel(\"N\")\n",
    "\n"
   ]
  }
 ],
 "metadata": {
  "jupytext": {
   "formats": "ipynb,md"
  },
  "kernelspec": {
   "display_name": "Python 3 (ipykernel)",
   "language": "python",
   "name": "python3"
  },
  "language_info": {
   "codemirror_mode": {
    "name": "ipython",
    "version": 3
   },
   "file_extension": ".py",
   "mimetype": "text/x-python",
   "name": "python",
   "nbconvert_exporter": "python",
   "pygments_lexer": "ipython3",
   "version": "3.9.13"
  },
  "papermill": {
   "default_parameters": {},
   "duration": 4.060696,
   "end_time": "2024-09-10T20:42:30.051703",
   "environment_variables": {},
   "exception": null,
   "input_path": "Exponential.ipynb",
   "output_path": "/Users/runner/work/astromodels/astromodels/docs/notebooks/Exponential.ipynb",
   "parameters": {
    "func_name": "Exponential",
    "positive_prior": true
   },
   "start_time": "2024-09-10T20:42:25.991007",
   "version": "2.6.0"
  }
 },
 "nbformat": 4,
 "nbformat_minor": 5
}
