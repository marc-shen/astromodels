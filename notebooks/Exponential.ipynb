{
 "cells": [
  {
   "cell_type": "markdown",
   "id": "0ff192c8",
   "metadata": {
    "papermill": {
     "duration": 0.001676,
     "end_time": "2024-05-08T21:31:52.558532",
     "exception": false,
     "start_time": "2024-05-08T21:31:52.556856",
     "status": "completed"
    },
    "tags": []
   },
   "source": [
    "# Exponential"
   ]
  },
  {
   "cell_type": "code",
   "execution_count": 1,
   "id": "be207a50",
   "metadata": {
    "execution": {
     "iopub.execute_input": "2024-05-08T21:31:52.564730Z",
     "iopub.status.busy": "2024-05-08T21:31:52.564409Z",
     "iopub.status.idle": "2024-05-08T21:31:54.224546Z",
     "shell.execute_reply": "2024-05-08T21:31:54.223728Z"
    },
    "nbsphinx": "hidden",
    "papermill": {
     "duration": 1.665708,
     "end_time": "2024-05-08T21:31:54.226205",
     "exception": false,
     "start_time": "2024-05-08T21:31:52.560497",
     "status": "completed"
    },
    "tags": []
   },
   "outputs": [],
   "source": [
    "%%capture\n",
    "\n",
    "import numpy as np\n",
    "\n",
    "import matplotlib.pyplot as plt\n",
    "\n",
    "import warnings\n",
    "warnings.simplefilter(\"ignore\")\n",
    "\n",
    "from astromodels.functions.function import _known_functions\n",
    "\n",
    "\n",
    "from jupyterthemes import jtplot\n",
    "jtplot.style(context=\"talk\", fscale=1, ticks=True, grid=False)\n",
    "%matplotlib inline"
   ]
  },
  {
   "cell_type": "code",
   "execution_count": 2,
   "id": "72ce9322",
   "metadata": {
    "execution": {
     "iopub.execute_input": "2024-05-08T21:31:54.230070Z",
     "iopub.status.busy": "2024-05-08T21:31:54.229608Z",
     "iopub.status.idle": "2024-05-08T21:31:54.233048Z",
     "shell.execute_reply": "2024-05-08T21:31:54.232115Z"
    },
    "nbsphinx": "hidden",
    "papermill": {
     "duration": 0.007425,
     "end_time": "2024-05-08T21:31:54.234932",
     "exception": false,
     "start_time": "2024-05-08T21:31:54.227507",
     "status": "completed"
    },
    "tags": [
     "parameters"
    ]
   },
   "outputs": [],
   "source": [
    "func_name = \"TbAbs\"\n",
    "\n",
    "positive_prior = False\n"
   ]
  },
  {
   "cell_type": "code",
   "execution_count": 3,
   "id": "7b02d4de",
   "metadata": {
    "execution": {
     "iopub.execute_input": "2024-05-08T21:31:54.238484Z",
     "iopub.status.busy": "2024-05-08T21:31:54.238266Z",
     "iopub.status.idle": "2024-05-08T21:31:54.241071Z",
     "shell.execute_reply": "2024-05-08T21:31:54.240480Z"
    },
    "papermill": {
     "duration": 0.006138,
     "end_time": "2024-05-08T21:31:54.242409",
     "exception": false,
     "start_time": "2024-05-08T21:31:54.236271",
     "status": "completed"
    },
    "tags": [
     "injected-parameters"
    ]
   },
   "outputs": [],
   "source": [
    "# Parameters\n",
    "func_name = \"Exponential\"\n",
    "positive_prior = True\n"
   ]
  },
  {
   "cell_type": "code",
   "execution_count": 4,
   "id": "6d6fd956",
   "metadata": {
    "execution": {
     "iopub.execute_input": "2024-05-08T21:31:54.245583Z",
     "iopub.status.busy": "2024-05-08T21:31:54.245324Z",
     "iopub.status.idle": "2024-05-08T21:31:54.248491Z",
     "shell.execute_reply": "2024-05-08T21:31:54.248136Z"
    },
    "lines_to_next_cell": 0,
    "nbsphinx": "hidden",
    "papermill": {
     "duration": 0.006043,
     "end_time": "2024-05-08T21:31:54.249691",
     "exception": false,
     "start_time": "2024-05-08T21:31:54.243648",
     "status": "completed"
    },
    "tags": []
   },
   "outputs": [],
   "source": [
    "func = _known_functions[func_name]()\n",
    "\n",
    "if not positive_prior:\n",
    "\n",
    "\tenergy_grid = np.linspace(-5,5,1000)\n",
    "\n",
    "else:\n",
    "    \n",
    "    energy_grid = np.linspace(0,1,1000)\n",
    "    \n",
    "    \n",
    "    \n",
    "    \n",
    "blue = \"#4152E3\"\n",
    "red = \"#E3414B\"\n",
    "green = \"#41E39E\""
   ]
  },
  {
   "cell_type": "markdown",
   "id": "158521fc",
   "metadata": {
    "lines_to_next_cell": 0,
    "papermill": {
     "duration": 0.001092,
     "end_time": "2024-05-08T21:31:54.251917",
     "exception": false,
     "start_time": "2024-05-08T21:31:54.250825",
     "status": "completed"
    },
    "tags": []
   },
   "source": [
    "## Description"
   ]
  },
  {
   "cell_type": "code",
   "execution_count": 5,
   "id": "0ad45ed8",
   "metadata": {
    "execution": {
     "iopub.execute_input": "2024-05-08T21:31:54.254962Z",
     "iopub.status.busy": "2024-05-08T21:31:54.254774Z",
     "iopub.status.idle": "2024-05-08T21:31:54.260509Z",
     "shell.execute_reply": "2024-05-08T21:31:54.260045Z"
    },
    "papermill": {
     "duration": 0.008864,
     "end_time": "2024-05-08T21:31:54.261838",
     "exception": false,
     "start_time": "2024-05-08T21:31:54.252974",
     "status": "completed"
    },
    "tags": []
   },
   "outputs": [
    {
     "data": {
      "text/html": [
       "<ul>\n",
       "\n",
       "<li>description: An exponential distribution function</li>\n",
       "\n",
       "<li>formula: $ f(x, \\alpha) = \\alpha\\exp(-\\alpha x)$</li>\n",
       "\n",
       "<li>parameters: \n",
       "<ul>\n",
       "\n",
       "<li>alpha: \n",
       "<ul>\n",
       "\n",
       "<li>value: 1.0</li>\n",
       "\n",
       "<li>desc: first shape parameter</li>\n",
       "\n",
       "<li>min_value: 0.0</li>\n",
       "\n",
       "<li>max_value: None</li>\n",
       "\n",
       "<li>unit: </li>\n",
       "\n",
       "<li>is_normalization: False</li>\n",
       "\n",
       "<li>delta: 0.1</li>\n",
       "\n",
       "<li>free: True</li>\n",
       "\n",
       "</ul>\n",
       "\n",
       "</li>\n",
       "\n",
       "</ul>\n",
       "\n",
       "</li>\n",
       "\n",
       "</ul>\n"
      ],
      "text/plain": [
       "  * description: An exponential distribution function\n",
       "  * formula: $ f(x, \\alpha) = \\alpha\\exp(-\\alpha x)$\n",
       "  * parameters:\n",
       "    * alpha:\n",
       "      * value: 1.0\n",
       "      * desc: first shape parameter\n",
       "      * min_value: 0.0\n",
       "      * max_value: null\n",
       "      * unit: ''\n",
       "      * is_normalization: false\n",
       "      * delta: 0.1\n",
       "      * free: true"
      ]
     },
     "metadata": {},
     "output_type": "display_data"
    }
   ],
   "source": [
    "func.display()"
   ]
  },
  {
   "cell_type": "markdown",
   "id": "fa3cfcec",
   "metadata": {
    "papermill": {
     "duration": 0.001188,
     "end_time": "2024-05-08T21:31:54.264314",
     "exception": false,
     "start_time": "2024-05-08T21:31:54.263126",
     "status": "completed"
    },
    "tags": []
   },
   "source": [
    "## Shape \n",
    "\n",
    "The shape of the function. \n",
    "\n",
    "*If this is not a photon model but a prior or linear function then ignore the units as these docs are auto-generated*"
   ]
  },
  {
   "cell_type": "code",
   "execution_count": 6,
   "id": "ea21f098",
   "metadata": {
    "execution": {
     "iopub.execute_input": "2024-05-08T21:31:54.267193Z",
     "iopub.status.busy": "2024-05-08T21:31:54.267032Z",
     "iopub.status.idle": "2024-05-08T21:31:54.379136Z",
     "shell.execute_reply": "2024-05-08T21:31:54.378441Z"
    },
    "papermill": {
     "duration": 0.11558,
     "end_time": "2024-05-08T21:31:54.380961",
     "exception": false,
     "start_time": "2024-05-08T21:31:54.265381",
     "status": "completed"
    },
    "tags": [
     "nbsphinx-thumbnail"
    ]
   },
   "outputs": [
    {
     "data": {
      "text/plain": [
       "Text(0, 0.5, 'probability')"
      ]
     },
     "execution_count": 6,
     "metadata": {},
     "output_type": "execute_result"
    },
    {
     "data": {
      "image/png": "[encoded data removed]",
      "text/plain": [
       "<Figure size 1040x910 with 1 Axes>"
      ]
     },
     "metadata": {},
     "output_type": "display_data"
    }
   ],
   "source": [
    "fig, ax = plt.subplots()\n",
    "\n",
    "\n",
    "ax.plot(energy_grid, func(energy_grid), color=blue, lw=3)\n",
    "\n",
    "ax.set_xlabel(\"x\")\n",
    "ax.set_ylabel(\"probability\")\n"
   ]
  },
  {
   "cell_type": "markdown",
   "id": "7dcb9049",
   "metadata": {
    "papermill": {
     "duration": 0.002848,
     "end_time": "2024-05-08T21:31:54.385471",
     "exception": false,
     "start_time": "2024-05-08T21:31:54.382623",
     "status": "completed"
    },
    "tags": []
   },
   "source": [
    "## Random Number Generation\n",
    "\n",
    "This is how we can generate random numbers from the prior.\n"
   ]
  },
  {
   "cell_type": "code",
   "execution_count": 7,
   "id": "2e4dc8e6",
   "metadata": {
    "execution": {
     "iopub.execute_input": "2024-05-08T21:31:54.389164Z",
     "iopub.status.busy": "2024-05-08T21:31:54.389004Z",
     "iopub.status.idle": "2024-05-08T21:31:54.728165Z",
     "shell.execute_reply": "2024-05-08T21:31:54.727846Z"
    },
    "papermill": {
     "duration": 0.34273,
     "end_time": "2024-05-08T21:31:54.729580",
     "exception": false,
     "start_time": "2024-05-08T21:31:54.386850",
     "status": "completed"
    },
    "tags": []
   },
   "outputs": [
    {
     "data": {
      "text/plain": [
       "Text(0, 0.5, 'N')"
      ]
     },
     "execution_count": 7,
     "metadata": {},
     "output_type": "execute_result"
    },
    {
     "data": {
      "image/png": "[encoded data removed]",
      "text/plain": [
       "<Figure size 1040x910 with 1 Axes>"
      ]
     },
     "metadata": {},
     "output_type": "display_data"
    }
   ],
   "source": [
    "\n",
    "\n",
    "u = np.random.uniform(0,1, size=5000)\n",
    "\n",
    "draws = [func.from_unit_cube(x) for x in u]\n",
    "\n",
    "\n",
    "fig, ax = plt.subplots()\n",
    "\n",
    "\n",
    "ax.hist(draws, color=green, bins=50)\n",
    "\n",
    "ax.set_xlabel(\"value\")\n",
    "ax.set_ylabel(\"N\")\n",
    "\n"
   ]
  }
 ],
 "metadata": {
  "jupytext": {
   "formats": "ipynb,md"
  },
  "kernelspec": {
   "display_name": "Python 3 (ipykernel)",
   "language": "python",
   "name": "python3"
  },
  "language_info": {
   "codemirror_mode": {
    "name": "ipython",
    "version": 3
   },
   "file_extension": ".py",
   "mimetype": "text/x-python",
   "name": "python",
   "nbconvert_exporter": "python",
   "pygments_lexer": "ipython3",
   "version": "3.9.13"
  },
  "papermill": {
   "default_parameters": {},
   "duration": 3.187043,
   "end_time": "2024-05-08T21:31:55.158423",
   "environment_variables": {},
   "exception": null,
   "input_path": "Exponential.ipynb",
   "output_path": "/Users/runner/work/astromodels/astromodels/docs/notebooks/Exponential.ipynb",
   "parameters": {
    "func_name": "Exponential",
    "positive_prior": true
   },
   "start_time": "2024-05-08T21:31:51.971380",
   "version": "2.6.0"
  }
 },
 "nbformat": 4,
 "nbformat_minor": 5
}
