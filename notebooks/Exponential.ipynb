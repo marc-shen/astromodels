{
 "cells": [
  {
   "cell_type": "markdown",
   "id": "5445a86a",
   "metadata": {
    "papermill": {
     "duration": 0.004938,
     "end_time": "2024-02-07T19:37:27.184785",
     "exception": false,
     "start_time": "2024-02-07T19:37:27.179847",
     "status": "completed"
    },
    "tags": []
   },
   "source": [
    "# Exponential"
   ]
  },
  {
   "cell_type": "code",
   "execution_count": 1,
   "id": "cb8a1f56",
   "metadata": {
    "execution": {
     "iopub.execute_input": "2024-02-07T19:37:27.193081Z",
     "iopub.status.busy": "2024-02-07T19:37:27.192452Z",
     "iopub.status.idle": "2024-02-07T19:37:30.414427Z",
     "shell.execute_reply": "2024-02-07T19:37:30.411992Z"
    },
    "nbsphinx": "hidden",
    "papermill": {
     "duration": 3.23335,
     "end_time": "2024-02-07T19:37:30.421272",
     "exception": false,
     "start_time": "2024-02-07T19:37:27.187922",
     "status": "completed"
    },
    "tags": []
   },
   "outputs": [],
   "source": [
    "%%capture\n",
    "\n",
    "import numpy as np\n",
    "\n",
    "import matplotlib.pyplot as plt\n",
    "\n",
    "import warnings\n",
    "warnings.simplefilter(\"ignore\")\n",
    "\n",
    "from astromodels.functions.function import _known_functions\n",
    "\n",
    "\n",
    "from jupyterthemes import jtplot\n",
    "jtplot.style(context=\"talk\", fscale=1, ticks=True, grid=False)\n",
    "%matplotlib inline"
   ]
  },
  {
   "cell_type": "code",
   "execution_count": 2,
   "id": "07cf2d08",
   "metadata": {
    "execution": {
     "iopub.execute_input": "2024-02-07T19:37:30.431403Z",
     "iopub.status.busy": "2024-02-07T19:37:30.430761Z",
     "iopub.status.idle": "2024-02-07T19:37:30.439051Z",
     "shell.execute_reply": "2024-02-07T19:37:30.437554Z"
    },
    "nbsphinx": "hidden",
    "papermill": {
     "duration": 0.019026,
     "end_time": "2024-02-07T19:37:30.444066",
     "exception": false,
     "start_time": "2024-02-07T19:37:30.425040",
     "status": "completed"
    },
    "tags": [
     "parameters"
    ]
   },
   "outputs": [],
   "source": [
    "func_name = \"TbAbs\"\n",
    "\n",
    "positive_prior = False\n"
   ]
  },
  {
   "cell_type": "code",
   "execution_count": 3,
   "id": "87a909a2",
   "metadata": {
    "execution": {
     "iopub.execute_input": "2024-02-07T19:37:30.451351Z",
     "iopub.status.busy": "2024-02-07T19:37:30.450914Z",
     "iopub.status.idle": "2024-02-07T19:37:30.458926Z",
     "shell.execute_reply": "2024-02-07T19:37:30.457341Z"
    },
    "papermill": {
     "duration": 0.016925,
     "end_time": "2024-02-07T19:37:30.463633",
     "exception": false,
     "start_time": "2024-02-07T19:37:30.446708",
     "status": "completed"
    },
    "tags": [
     "injected-parameters"
    ]
   },
   "outputs": [],
   "source": [
    "# Parameters\n",
    "func_name = \"Exponential\"\n",
    "positive_prior = True\n"
   ]
  },
  {
   "cell_type": "code",
   "execution_count": 4,
   "id": "9179fbd3",
   "metadata": {
    "execution": {
     "iopub.execute_input": "2024-02-07T19:37:30.471746Z",
     "iopub.status.busy": "2024-02-07T19:37:30.471087Z",
     "iopub.status.idle": "2024-02-07T19:37:30.480582Z",
     "shell.execute_reply": "2024-02-07T19:37:30.479033Z"
    },
    "lines_to_next_cell": 0,
    "nbsphinx": "hidden",
    "papermill": {
     "duration": 0.019274,
     "end_time": "2024-02-07T19:37:30.485612",
     "exception": false,
     "start_time": "2024-02-07T19:37:30.466338",
     "status": "completed"
    },
    "tags": []
   },
   "outputs": [],
   "source": [
    "func = _known_functions[func_name]()\n",
    "\n",
    "if not positive_prior:\n",
    "\n",
    "\tenergy_grid = np.linspace(-5,5,1000)\n",
    "\n",
    "else:\n",
    "    \n",
    "    energy_grid = np.linspace(0,1,1000)\n",
    "    \n",
    "    \n",
    "    \n",
    "    \n",
    "blue = \"#4152E3\"\n",
    "red = \"#E3414B\"\n",
    "green = \"#41E39E\""
   ]
  },
  {
   "cell_type": "markdown",
   "id": "3b441836",
   "metadata": {
    "lines_to_next_cell": 0,
    "papermill": {
     "duration": 0.002876,
     "end_time": "2024-02-07T19:37:30.491295",
     "exception": false,
     "start_time": "2024-02-07T19:37:30.488419",
     "status": "completed"
    },
    "tags": []
   },
   "source": [
    "## Description"
   ]
  },
  {
   "cell_type": "code",
   "execution_count": 5,
   "id": "5008a2ff",
   "metadata": {
    "execution": {
     "iopub.execute_input": "2024-02-07T19:37:30.498802Z",
     "iopub.status.busy": "2024-02-07T19:37:30.498293Z",
     "iopub.status.idle": "2024-02-07T19:37:30.511142Z",
     "shell.execute_reply": "2024-02-07T19:37:30.508717Z"
    },
    "papermill": {
     "duration": 0.021959,
     "end_time": "2024-02-07T19:37:30.515848",
     "exception": false,
     "start_time": "2024-02-07T19:37:30.493889",
     "status": "completed"
    },
    "tags": []
   },
   "outputs": [
    {
     "data": {
      "text/html": [
       "<ul>\n",
       "\n",
       "<li>description: An exponential distribution function</li>\n",
       "\n",
       "<li>formula: $ f(x, \\alpha) = \\alpha\\exp(-\\alpha x)$</li>\n",
       "\n",
       "<li>parameters: \n",
       "<ul>\n",
       "\n",
       "<li>alpha: \n",
       "<ul>\n",
       "\n",
       "<li>value: 1.0</li>\n",
       "\n",
       "<li>desc: first shape parameter</li>\n",
       "\n",
       "<li>min_value: 0.0</li>\n",
       "\n",
       "<li>max_value: None</li>\n",
       "\n",
       "<li>unit: </li>\n",
       "\n",
       "<li>is_normalization: False</li>\n",
       "\n",
       "<li>delta: 0.1</li>\n",
       "\n",
       "<li>free: True</li>\n",
       "\n",
       "</ul>\n",
       "\n",
       "</li>\n",
       "\n",
       "</ul>\n",
       "\n",
       "</li>\n",
       "\n",
       "</ul>\n"
      ],
      "text/plain": [
       "  * description: An exponential distribution function\n",
       "  * formula: $ f(x, \\alpha) = \\alpha\\exp(-\\alpha x)$\n",
       "  * parameters:\n",
       "    * alpha:\n",
       "      * value: 1.0\n",
       "      * desc: first shape parameter\n",
       "      * min_value: 0.0\n",
       "      * max_value: null\n",
       "      * unit: ''\n",
       "      * is_normalization: false\n",
       "      * delta: 0.1\n",
       "      * free: true"
      ]
     },
     "metadata": {},
     "output_type": "display_data"
    }
   ],
   "source": [
    "func.display()"
   ]
  },
  {
   "cell_type": "markdown",
   "id": "e217388c",
   "metadata": {
    "papermill": {
     "duration": 0.002974,
     "end_time": "2024-02-07T19:37:30.521823",
     "exception": false,
     "start_time": "2024-02-07T19:37:30.518849",
     "status": "completed"
    },
    "tags": []
   },
   "source": [
    "## Shape \n",
    "\n",
    "The shape of the function. \n",
    "\n",
    "*If this is not a photon model but a prior or linear function then ignore the units as these docs are auto-generated*"
   ]
  },
  {
   "cell_type": "code",
   "execution_count": 6,
   "id": "6a7888eb",
   "metadata": {
    "execution": {
     "iopub.execute_input": "2024-02-07T19:37:30.529788Z",
     "iopub.status.busy": "2024-02-07T19:37:30.529382Z",
     "iopub.status.idle": "2024-02-07T19:37:30.802746Z",
     "shell.execute_reply": "2024-02-07T19:37:30.801037Z"
    },
    "papermill": {
     "duration": 0.28329,
     "end_time": "2024-02-07T19:37:30.807888",
     "exception": false,
     "start_time": "2024-02-07T19:37:30.524598",
     "status": "completed"
    },
    "tags": [
     "nbsphinx-thumbnail"
    ]
   },
   "outputs": [
    {
     "data": {
      "text/plain": [
       "Text(0, 0.5, 'probability')"
      ]
     },
     "execution_count": 6,
     "metadata": {},
     "output_type": "execute_result"
    },
    {
     "data": {
      "image/png": "[encoded data removed]",
      "text/plain": [
       "<Figure size 1040x910 with 1 Axes>"
      ]
     },
     "metadata": {},
     "output_type": "display_data"
    }
   ],
   "source": [
    "fig, ax = plt.subplots()\n",
    "\n",
    "\n",
    "ax.plot(energy_grid, func(energy_grid), color=blue, lw=3)\n",
    "\n",
    "ax.set_xlabel(\"x\")\n",
    "ax.set_ylabel(\"probability\")\n"
   ]
  },
  {
   "cell_type": "markdown",
   "id": "b6650d6a",
   "metadata": {
    "papermill": {
     "duration": 0.003872,
     "end_time": "2024-02-07T19:37:30.815504",
     "exception": false,
     "start_time": "2024-02-07T19:37:30.811632",
     "status": "completed"
    },
    "tags": []
   },
   "source": [
    "## Random Number Generation\n",
    "\n",
    "This is how we can generate random numbers from the prior.\n"
   ]
  },
  {
   "cell_type": "code",
   "execution_count": 7,
   "id": "0188b7eb",
   "metadata": {
    "execution": {
     "iopub.execute_input": "2024-02-07T19:37:30.825067Z",
     "iopub.status.busy": "2024-02-07T19:37:30.824536Z",
     "iopub.status.idle": "2024-02-07T19:37:32.146507Z",
     "shell.execute_reply": "2024-02-07T19:37:32.145049Z"
    },
    "papermill": {
     "duration": 1.332304,
     "end_time": "2024-02-07T19:37:32.151354",
     "exception": false,
     "start_time": "2024-02-07T19:37:30.819050",
     "status": "completed"
    },
    "tags": []
   },
   "outputs": [
    {
     "data": {
      "text/plain": [
       "Text(0, 0.5, 'N')"
      ]
     },
     "execution_count": 7,
     "metadata": {},
     "output_type": "execute_result"
    },
    {
     "data": {
      "image/png": "[encoded data removed]",
      "text/plain": [
       "<Figure size 1040x910 with 1 Axes>"
      ]
     },
     "metadata": {},
     "output_type": "display_data"
    }
   ],
   "source": [
    "\n",
    "\n",
    "u = np.random.uniform(0,1, size=5000)\n",
    "\n",
    "draws = [func.from_unit_cube(x) for x in u]\n",
    "\n",
    "\n",
    "fig, ax = plt.subplots()\n",
    "\n",
    "\n",
    "ax.hist(draws, color=green, bins=50)\n",
    "\n",
    "ax.set_xlabel(\"value\")\n",
    "ax.set_ylabel(\"N\")\n",
    "\n"
   ]
  }
 ],
 "metadata": {
  "jupytext": {
   "formats": "ipynb,md"
  },
  "kernelspec": {
   "display_name": "Python 3 (ipykernel)",
   "language": "python",
   "name": "python3"
  },
  "language_info": {
   "codemirror_mode": {
    "name": "ipython",
    "version": 3
   },
   "file_extension": ".py",
   "mimetype": "text/x-python",
   "name": "python",
   "nbconvert_exporter": "python",
   "pygments_lexer": "ipython3",
   "version": "3.9.18"
  },
  "papermill": {
   "default_parameters": {},
   "duration": 6.695122,
   "end_time": "2024-02-07T19:37:32.829306",
   "environment_variables": {},
   "exception": null,
   "input_path": "Exponential.ipynb",
   "output_path": "/Users/runner/work/astromodels/astromodels/docs/notebooks/Exponential.ipynb",
   "parameters": {
    "func_name": "Exponential",
    "positive_prior": true
   },
   "start_time": "2024-02-07T19:37:26.134184",
   "version": "2.5.0"
  }
 },
 "nbformat": 4,
 "nbformat_minor": 5
}
