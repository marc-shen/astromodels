{
 "cells": [
  {
   "cell_type": "markdown",
   "id": "de340c49",
   "metadata": {
    "papermill": {
     "duration": 0.010677,
     "end_time": "2024-05-13T23:12:01.936916",
     "exception": false,
     "start_time": "2024-05-13T23:12:01.926239",
     "status": "completed"
    },
    "tags": []
   },
   "source": [
    "# Exponential"
   ]
  },
  {
   "cell_type": "code",
   "execution_count": 1,
   "id": "0a69c278",
   "metadata": {
    "execution": {
     "iopub.execute_input": "2024-05-13T23:12:01.951869Z",
     "iopub.status.busy": "2024-05-13T23:12:01.951216Z",
     "iopub.status.idle": "2024-05-13T23:12:03.363806Z",
     "shell.execute_reply": "2024-05-13T23:12:03.363311Z"
    },
    "nbsphinx": "hidden",
    "papermill": {
     "duration": 1.421122,
     "end_time": "2024-05-13T23:12:03.365373",
     "exception": false,
     "start_time": "2024-05-13T23:12:01.944251",
     "status": "completed"
    },
    "tags": []
   },
   "outputs": [],
   "source": [
    "%%capture\n",
    "\n",
    "import numpy as np\n",
    "\n",
    "import matplotlib.pyplot as plt\n",
    "\n",
    "import warnings\n",
    "warnings.simplefilter(\"ignore\")\n",
    "\n",
    "from astromodels.functions.function import _known_functions\n",
    "\n",
    "\n",
    "from jupyterthemes import jtplot\n",
    "jtplot.style(context=\"talk\", fscale=1, ticks=True, grid=False)\n",
    "%matplotlib inline"
   ]
  },
  {
   "cell_type": "code",
   "execution_count": 2,
   "id": "688bd3b3",
   "metadata": {
    "execution": {
     "iopub.execute_input": "2024-05-13T23:12:03.368603Z",
     "iopub.status.busy": "2024-05-13T23:12:03.368274Z",
     "iopub.status.idle": "2024-05-13T23:12:03.376892Z",
     "shell.execute_reply": "2024-05-13T23:12:03.376509Z"
    },
    "nbsphinx": "hidden",
    "papermill": {
     "duration": 0.011608,
     "end_time": "2024-05-13T23:12:03.378187",
     "exception": false,
     "start_time": "2024-05-13T23:12:03.366579",
     "status": "completed"
    },
    "tags": [
     "parameters"
    ]
   },
   "outputs": [],
   "source": [
    "func_name = \"TbAbs\"\n",
    "\n",
    "positive_prior = False\n"
   ]
  },
  {
   "cell_type": "code",
   "execution_count": 3,
   "id": "0c38a8bd",
   "metadata": {
    "execution": {
     "iopub.execute_input": "2024-05-13T23:12:03.380727Z",
     "iopub.status.busy": "2024-05-13T23:12:03.380591Z",
     "iopub.status.idle": "2024-05-13T23:12:03.388595Z",
     "shell.execute_reply": "2024-05-13T23:12:03.388231Z"
    },
    "papermill": {
     "duration": 0.010627,
     "end_time": "2024-05-13T23:12:03.389812",
     "exception": false,
     "start_time": "2024-05-13T23:12:03.379185",
     "status": "completed"
    },
    "tags": [
     "injected-parameters"
    ]
   },
   "outputs": [],
   "source": [
    "# Parameters\n",
    "func_name = \"Exponential\"\n",
    "positive_prior = True\n"
   ]
  },
  {
   "cell_type": "code",
   "execution_count": 4,
   "id": "03eced82",
   "metadata": {
    "execution": {
     "iopub.execute_input": "2024-05-13T23:12:03.392483Z",
     "iopub.status.busy": "2024-05-13T23:12:03.392336Z",
     "iopub.status.idle": "2024-05-13T23:12:03.401128Z",
     "shell.execute_reply": "2024-05-13T23:12:03.400731Z"
    },
    "lines_to_next_cell": 0,
    "nbsphinx": "hidden",
    "papermill": {
     "duration": 0.011513,
     "end_time": "2024-05-13T23:12:03.402366",
     "exception": false,
     "start_time": "2024-05-13T23:12:03.390853",
     "status": "completed"
    },
    "tags": []
   },
   "outputs": [],
   "source": [
    "func = _known_functions[func_name]()\n",
    "\n",
    "if not positive_prior:\n",
    "\n",
    "\tenergy_grid = np.linspace(-5,5,1000)\n",
    "\n",
    "else:\n",
    "    \n",
    "    energy_grid = np.linspace(0,1,1000)\n",
    "    \n",
    "    \n",
    "    \n",
    "    \n",
    "blue = \"#4152E3\"\n",
    "red = \"#E3414B\"\n",
    "green = \"#41E39E\""
   ]
  },
  {
   "cell_type": "markdown",
   "id": "8d8f6705",
   "metadata": {
    "lines_to_next_cell": 0,
    "papermill": {
     "duration": 0.001055,
     "end_time": "2024-05-13T23:12:03.404489",
     "exception": false,
     "start_time": "2024-05-13T23:12:03.403434",
     "status": "completed"
    },
    "tags": []
   },
   "source": [
    "## Description"
   ]
  },
  {
   "cell_type": "code",
   "execution_count": 5,
   "id": "355e8a8a",
   "metadata": {
    "execution": {
     "iopub.execute_input": "2024-05-13T23:12:03.407156Z",
     "iopub.status.busy": "2024-05-13T23:12:03.407017Z",
     "iopub.status.idle": "2024-05-13T23:12:03.410504Z",
     "shell.execute_reply": "2024-05-13T23:12:03.410036Z"
    },
    "papermill": {
     "duration": 0.006308,
     "end_time": "2024-05-13T23:12:03.411811",
     "exception": false,
     "start_time": "2024-05-13T23:12:03.405503",
     "status": "completed"
    },
    "tags": []
   },
   "outputs": [
    {
     "data": {
      "text/html": [
       "<ul>\n",
       "\n",
       "<li>description: An exponential distribution function</li>\n",
       "\n",
       "<li>formula: $ f(x, \\alpha) = \\alpha\\exp(-\\alpha x)$</li>\n",
       "\n",
       "<li>parameters: \n",
       "<ul>\n",
       "\n",
       "<li>alpha: \n",
       "<ul>\n",
       "\n",
       "<li>value: 1.0</li>\n",
       "\n",
       "<li>desc: first shape parameter</li>\n",
       "\n",
       "<li>min_value: 0.0</li>\n",
       "\n",
       "<li>max_value: None</li>\n",
       "\n",
       "<li>unit: </li>\n",
       "\n",
       "<li>is_normalization: False</li>\n",
       "\n",
       "<li>delta: 0.1</li>\n",
       "\n",
       "<li>free: True</li>\n",
       "\n",
       "</ul>\n",
       "\n",
       "</li>\n",
       "\n",
       "</ul>\n",
       "\n",
       "</li>\n",
       "\n",
       "</ul>\n"
      ],
      "text/plain": [
       "  * description: An exponential distribution function\n",
       "  * formula: $ f(x, \\alpha) = \\alpha\\exp(-\\alpha x)$\n",
       "  * parameters:\n",
       "    * alpha:\n",
       "      * value: 1.0\n",
       "      * desc: first shape parameter\n",
       "      * min_value: 0.0\n",
       "      * max_value: null\n",
       "      * unit: ''\n",
       "      * is_normalization: false\n",
       "      * delta: 0.1\n",
       "      * free: true"
      ]
     },
     "metadata": {},
     "output_type": "display_data"
    }
   ],
   "source": [
    "func.display()"
   ]
  },
  {
   "cell_type": "markdown",
   "id": "1d007ed5",
   "metadata": {
    "papermill": {
     "duration": 0.001174,
     "end_time": "2024-05-13T23:12:03.414082",
     "exception": false,
     "start_time": "2024-05-13T23:12:03.412908",
     "status": "completed"
    },
    "tags": []
   },
   "source": [
    "## Shape \n",
    "\n",
    "The shape of the function. \n",
    "\n",
    "*If this is not a photon model but a prior or linear function then ignore the units as these docs are auto-generated*"
   ]
  },
  {
   "cell_type": "code",
   "execution_count": 6,
   "id": "10a9a55f",
   "metadata": {
    "execution": {
     "iopub.execute_input": "2024-05-13T23:12:03.416805Z",
     "iopub.status.busy": "2024-05-13T23:12:03.416664Z",
     "iopub.status.idle": "2024-05-13T23:12:03.525855Z",
     "shell.execute_reply": "2024-05-13T23:12:03.525445Z"
    },
    "papermill": {
     "duration": 0.111959,
     "end_time": "2024-05-13T23:12:03.527120",
     "exception": false,
     "start_time": "2024-05-13T23:12:03.415161",
     "status": "completed"
    },
    "tags": [
     "nbsphinx-thumbnail"
    ]
   },
   "outputs": [
    {
     "data": {
      "text/plain": [
       "Text(0, 0.5, 'probability')"
      ]
     },
     "execution_count": 6,
     "metadata": {},
     "output_type": "execute_result"
    },
    {
     "data": {
      "image/png": "[encoded data removed]",
      "text/plain": [
       "<Figure size 1040x910 with 1 Axes>"
      ]
     },
     "metadata": {},
     "output_type": "display_data"
    }
   ],
   "source": [
    "fig, ax = plt.subplots()\n",
    "\n",
    "\n",
    "ax.plot(energy_grid, func(energy_grid), color=blue, lw=3)\n",
    "\n",
    "ax.set_xlabel(\"x\")\n",
    "ax.set_ylabel(\"probability\")\n"
   ]
  },
  {
   "cell_type": "markdown",
   "id": "efa18701",
   "metadata": {
    "papermill": {
     "duration": 0.001342,
     "end_time": "2024-05-13T23:12:03.530067",
     "exception": false,
     "start_time": "2024-05-13T23:12:03.528725",
     "status": "completed"
    },
    "tags": []
   },
   "source": [
    "## Random Number Generation\n",
    "\n",
    "This is how we can generate random numbers from the prior.\n"
   ]
  },
  {
   "cell_type": "code",
   "execution_count": 7,
   "id": "3da7763f",
   "metadata": {
    "execution": {
     "iopub.execute_input": "2024-05-13T23:12:03.533512Z",
     "iopub.status.busy": "2024-05-13T23:12:03.533362Z",
     "iopub.status.idle": "2024-05-13T23:12:03.865398Z",
     "shell.execute_reply": "2024-05-13T23:12:03.865047Z"
    },
    "papermill": {
     "duration": 0.335447,
     "end_time": "2024-05-13T23:12:03.866905",
     "exception": false,
     "start_time": "2024-05-13T23:12:03.531458",
     "status": "completed"
    },
    "tags": []
   },
   "outputs": [
    {
     "data": {
      "text/plain": [
       "Text(0, 0.5, 'N')"
      ]
     },
     "execution_count": 7,
     "metadata": {},
     "output_type": "execute_result"
    },
    {
     "data": {
      "image/png": "[encoded data removed]",
      "text/plain": [
       "<Figure size 1040x910 with 1 Axes>"
      ]
     },
     "metadata": {},
     "output_type": "display_data"
    }
   ],
   "source": [
    "\n",
    "\n",
    "u = np.random.uniform(0,1, size=5000)\n",
    "\n",
    "draws = [func.from_unit_cube(x) for x in u]\n",
    "\n",
    "\n",
    "fig, ax = plt.subplots()\n",
    "\n",
    "\n",
    "ax.hist(draws, color=green, bins=50)\n",
    "\n",
    "ax.set_xlabel(\"value\")\n",
    "ax.set_ylabel(\"N\")\n",
    "\n"
   ]
  }
 ],
 "metadata": {
  "jupytext": {
   "formats": "ipynb,md"
  },
  "kernelspec": {
   "display_name": "Python 3 (ipykernel)",
   "language": "python",
   "name": "python3"
  },
  "language_info": {
   "codemirror_mode": {
    "name": "ipython",
    "version": 3
   },
   "file_extension": ".py",
   "mimetype": "text/x-python",
   "name": "python",
   "nbconvert_exporter": "python",
   "pygments_lexer": "ipython3",
   "version": "3.9.13"
  },
  "papermill": {
   "default_parameters": {},
   "duration": 2.83444,
   "end_time": "2024-05-13T23:12:04.200241",
   "environment_variables": {},
   "exception": null,
   "input_path": "Exponential.ipynb",
   "output_path": "/Users/runner/work/astromodels/astromodels/docs/notebooks/Exponential.ipynb",
   "parameters": {
    "func_name": "Exponential",
    "positive_prior": true
   },
   "start_time": "2024-05-13T23:12:01.365801",
   "version": "2.6.0"
  }
 },
 "nbformat": 4,
 "nbformat_minor": 5
}
