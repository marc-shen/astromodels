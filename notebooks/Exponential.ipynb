{
 "cells": [
  {
   "cell_type": "markdown",
   "id": "fb2cc0f5",
   "metadata": {
    "papermill": {
     "duration": 0.007324,
     "end_time": "2024-09-10T20:24:02.685063",
     "exception": false,
     "start_time": "2024-09-10T20:24:02.677739",
     "status": "completed"
    },
    "tags": []
   },
   "source": [
    "# Exponential"
   ]
  },
  {
   "cell_type": "code",
   "execution_count": 1,
   "id": "5fa34d76",
   "metadata": {
    "execution": {
     "iopub.execute_input": "2024-09-10T20:24:02.699885Z",
     "iopub.status.busy": "2024-09-10T20:24:02.699186Z",
     "iopub.status.idle": "2024-09-10T20:24:04.111964Z",
     "shell.execute_reply": "2024-09-10T20:24:04.111483Z"
    },
    "nbsphinx": "hidden",
    "papermill": {
     "duration": 1.423565,
     "end_time": "2024-09-10T20:24:04.113541",
     "exception": false,
     "start_time": "2024-09-10T20:24:02.689976",
     "status": "completed"
    },
    "tags": []
   },
   "outputs": [],
   "source": [
    "%%capture\n",
    "\n",
    "import numpy as np\n",
    "\n",
    "import matplotlib.pyplot as plt\n",
    "\n",
    "import warnings\n",
    "warnings.simplefilter(\"ignore\")\n",
    "\n",
    "from astromodels.functions.function import _known_functions\n",
    "\n",
    "\n",
    "from jupyterthemes import jtplot\n",
    "jtplot.style(context=\"talk\", fscale=1, ticks=True, grid=False)\n",
    "%matplotlib inline"
   ]
  },
  {
   "cell_type": "code",
   "execution_count": 2,
   "id": "4e0a2e1f",
   "metadata": {
    "execution": {
     "iopub.execute_input": "2024-09-10T20:24:04.116632Z",
     "iopub.status.busy": "2024-09-10T20:24:04.116310Z",
     "iopub.status.idle": "2024-09-10T20:24:04.124662Z",
     "shell.execute_reply": "2024-09-10T20:24:04.124294Z"
    },
    "nbsphinx": "hidden",
    "papermill": {
     "duration": 0.011189,
     "end_time": "2024-09-10T20:24:04.125933",
     "exception": false,
     "start_time": "2024-09-10T20:24:04.114744",
     "status": "completed"
    },
    "tags": [
     "parameters"
    ]
   },
   "outputs": [],
   "source": [
    "func_name = \"TbAbs\"\n",
    "\n",
    "positive_prior = False\n"
   ]
  },
  {
   "cell_type": "code",
   "execution_count": 3,
   "id": "ec0036e2",
   "metadata": {
    "execution": {
     "iopub.execute_input": "2024-09-10T20:24:04.128564Z",
     "iopub.status.busy": "2024-09-10T20:24:04.128423Z",
     "iopub.status.idle": "2024-09-10T20:24:04.130362Z",
     "shell.execute_reply": "2024-09-10T20:24:04.129961Z"
    },
    "papermill": {
     "duration": 0.0046,
     "end_time": "2024-09-10T20:24:04.131606",
     "exception": false,
     "start_time": "2024-09-10T20:24:04.127006",
     "status": "completed"
    },
    "tags": [
     "injected-parameters"
    ]
   },
   "outputs": [],
   "source": [
    "# Parameters\n",
    "func_name = \"Exponential\"\n",
    "positive_prior = True\n"
   ]
  },
  {
   "cell_type": "code",
   "execution_count": 4,
   "id": "6294d06a",
   "metadata": {
    "execution": {
     "iopub.execute_input": "2024-09-10T20:24:04.134147Z",
     "iopub.status.busy": "2024-09-10T20:24:04.134012Z",
     "iopub.status.idle": "2024-09-10T20:24:04.136621Z",
     "shell.execute_reply": "2024-09-10T20:24:04.136261Z"
    },
    "lines_to_next_cell": 0,
    "nbsphinx": "hidden",
    "papermill": {
     "duration": 0.005318,
     "end_time": "2024-09-10T20:24:04.137891",
     "exception": false,
     "start_time": "2024-09-10T20:24:04.132573",
     "status": "completed"
    },
    "tags": []
   },
   "outputs": [],
   "source": [
    "func = _known_functions[func_name]()\n",
    "\n",
    "if not positive_prior:\n",
    "\n",
    "\tenergy_grid = np.linspace(-5,5,1000)\n",
    "\n",
    "else:\n",
    "    \n",
    "    energy_grid = np.linspace(0,1,1000)\n",
    "    \n",
    "    \n",
    "    \n",
    "    \n",
    "blue = \"#4152E3\"\n",
    "red = \"#E3414B\"\n",
    "green = \"#41E39E\""
   ]
  },
  {
   "cell_type": "markdown",
   "id": "e9e823c7",
   "metadata": {
    "lines_to_next_cell": 0,
    "papermill": {
     "duration": 0.000985,
     "end_time": "2024-09-10T20:24:04.139848",
     "exception": false,
     "start_time": "2024-09-10T20:24:04.138863",
     "status": "completed"
    },
    "tags": []
   },
   "source": [
    "## Description"
   ]
  },
  {
   "cell_type": "code",
   "execution_count": 5,
   "id": "5a90f0b4",
   "metadata": {
    "execution": {
     "iopub.execute_input": "2024-09-10T20:24:04.142386Z",
     "iopub.status.busy": "2024-09-10T20:24:04.142253Z",
     "iopub.status.idle": "2024-09-10T20:24:04.145654Z",
     "shell.execute_reply": "2024-09-10T20:24:04.145166Z"
    },
    "papermill": {
     "duration": 0.006202,
     "end_time": "2024-09-10T20:24:04.147021",
     "exception": false,
     "start_time": "2024-09-10T20:24:04.140819",
     "status": "completed"
    },
    "tags": []
   },
   "outputs": [
    {
     "data": {
      "text/html": [
       "<ul>\n",
       "\n",
       "<li>description: An exponential distribution function</li>\n",
       "\n",
       "<li>formula: $ f(x, \\alpha) = \\alpha\\exp(-\\alpha x)$</li>\n",
       "\n",
       "<li>parameters: \n",
       "<ul>\n",
       "\n",
       "<li>alpha: \n",
       "<ul>\n",
       "\n",
       "<li>value: 1.0</li>\n",
       "\n",
       "<li>desc: first shape parameter</li>\n",
       "\n",
       "<li>min_value: 0.0</li>\n",
       "\n",
       "<li>max_value: None</li>\n",
       "\n",
       "<li>unit: </li>\n",
       "\n",
       "<li>is_normalization: False</li>\n",
       "\n",
       "<li>delta: 0.1</li>\n",
       "\n",
       "<li>free: True</li>\n",
       "\n",
       "</ul>\n",
       "\n",
       "</li>\n",
       "\n",
       "</ul>\n",
       "\n",
       "</li>\n",
       "\n",
       "</ul>\n"
      ],
      "text/plain": [
       "  * description: An exponential distribution function\n",
       "  * formula: $ f(x, \\alpha) = \\alpha\\exp(-\\alpha x)$\n",
       "  * parameters:\n",
       "    * alpha:\n",
       "      * value: 1.0\n",
       "      * desc: first shape parameter\n",
       "      * min_value: 0.0\n",
       "      * max_value: null\n",
       "      * unit: ''\n",
       "      * is_normalization: false\n",
       "      * delta: 0.1\n",
       "      * free: true"
      ]
     },
     "metadata": {},
     "output_type": "display_data"
    }
   ],
   "source": [
    "func.display()"
   ]
  },
  {
   "cell_type": "markdown",
   "id": "280365bb",
   "metadata": {
    "papermill": {
     "duration": 0.001072,
     "end_time": "2024-09-10T20:24:04.149223",
     "exception": false,
     "start_time": "2024-09-10T20:24:04.148151",
     "status": "completed"
    },
    "tags": []
   },
   "source": [
    "## Shape \n",
    "\n",
    "The shape of the function. \n",
    "\n",
    "*If this is not a photon model but a prior or linear function then ignore the units as these docs are auto-generated*"
   ]
  },
  {
   "cell_type": "code",
   "execution_count": 6,
   "id": "a7f40598",
   "metadata": {
    "execution": {
     "iopub.execute_input": "2024-09-10T20:24:04.152040Z",
     "iopub.status.busy": "2024-09-10T20:24:04.151906Z",
     "iopub.status.idle": "2024-09-10T20:24:04.251971Z",
     "shell.execute_reply": "2024-09-10T20:24:04.251642Z"
    },
    "papermill": {
     "duration": 0.103098,
     "end_time": "2024-09-10T20:24:04.253399",
     "exception": false,
     "start_time": "2024-09-10T20:24:04.150301",
     "status": "completed"
    },
    "tags": [
     "nbsphinx-thumbnail"
    ]
   },
   "outputs": [
    {
     "data": {
      "text/plain": [
       "Text(0, 0.5, 'probability')"
      ]
     },
     "execution_count": 6,
     "metadata": {},
     "output_type": "execute_result"
    },
    {
     "data": {
      "image/png": "[encoded data removed]",
      "text/plain": [
       "<Figure size 1040x910 with 1 Axes>"
      ]
     },
     "metadata": {},
     "output_type": "display_data"
    }
   ],
   "source": [
    "fig, ax = plt.subplots()\n",
    "\n",
    "\n",
    "ax.plot(energy_grid, func(energy_grid), color=blue, lw=3)\n",
    "\n",
    "ax.set_xlabel(\"x\")\n",
    "ax.set_ylabel(\"probability\")\n"
   ]
  },
  {
   "cell_type": "markdown",
   "id": "2293c6ac",
   "metadata": {
    "papermill": {
     "duration": 0.001363,
     "end_time": "2024-09-10T20:24:04.256384",
     "exception": false,
     "start_time": "2024-09-10T20:24:04.255021",
     "status": "completed"
    },
    "tags": []
   },
   "source": [
    "## Random Number Generation\n",
    "\n",
    "This is how we can generate random numbers from the prior.\n"
   ]
  },
  {
   "cell_type": "code",
   "execution_count": 7,
   "id": "d40472e8",
   "metadata": {
    "execution": {
     "iopub.execute_input": "2024-09-10T20:24:04.259867Z",
     "iopub.status.busy": "2024-09-10T20:24:04.259724Z",
     "iopub.status.idle": "2024-09-10T20:24:04.570787Z",
     "shell.execute_reply": "2024-09-10T20:24:04.570440Z"
    },
    "papermill": {
     "duration": 0.314518,
     "end_time": "2024-09-10T20:24:04.572247",
     "exception": false,
     "start_time": "2024-09-10T20:24:04.257729",
     "status": "completed"
    },
    "tags": []
   },
   "outputs": [
    {
     "data": {
      "text/plain": [
       "Text(0, 0.5, 'N')"
      ]
     },
     "execution_count": 7,
     "metadata": {},
     "output_type": "execute_result"
    },
    {
     "data": {
      "image/png": "[encoded data removed]",
      "text/plain": [
       "<Figure size 1040x910 with 1 Axes>"
      ]
     },
     "metadata": {},
     "output_type": "display_data"
    }
   ],
   "source": [
    "\n",
    "\n",
    "u = np.random.uniform(0,1, size=5000)\n",
    "\n",
    "draws = [func.from_unit_cube(x) for x in u]\n",
    "\n",
    "\n",
    "fig, ax = plt.subplots()\n",
    "\n",
    "\n",
    "ax.hist(draws, color=green, bins=50)\n",
    "\n",
    "ax.set_xlabel(\"value\")\n",
    "ax.set_ylabel(\"N\")\n",
    "\n"
   ]
  }
 ],
 "metadata": {
  "jupytext": {
   "formats": "ipynb,md"
  },
  "kernelspec": {
   "display_name": "Python 3 (ipykernel)",
   "language": "python",
   "name": "python3"
  },
  "language_info": {
   "codemirror_mode": {
    "name": "ipython",
    "version": 3
   },
   "file_extension": ".py",
   "mimetype": "text/x-python",
   "name": "python",
   "nbconvert_exporter": "python",
   "pygments_lexer": "ipython3",
   "version": "3.9.13"
  },
  "papermill": {
   "default_parameters": {},
   "duration": 2.909866,
   "end_time": "2024-09-10T20:24:04.906286",
   "environment_variables": {},
   "exception": null,
   "input_path": "Exponential.ipynb",
   "output_path": "/Users/runner/work/astromodels/astromodels/docs/notebooks/Exponential.ipynb",
   "parameters": {
    "func_name": "Exponential",
    "positive_prior": true
   },
   "start_time": "2024-09-10T20:24:01.996420",
   "version": "2.6.0"
  }
 },
 "nbformat": 4,
 "nbformat_minor": 5
}
