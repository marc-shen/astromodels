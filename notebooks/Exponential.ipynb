{
 "cells": [
  {
   "cell_type": "markdown",
   "id": "c50815ed",
   "metadata": {
    "papermill": {
     "duration": 0.010277,
     "end_time": "2024-05-17T21:51:17.316501",
     "exception": false,
     "start_time": "2024-05-17T21:51:17.306224",
     "status": "completed"
    },
    "tags": []
   },
   "source": [
    "# Exponential"
   ]
  },
  {
   "cell_type": "code",
   "execution_count": 1,
   "id": "b46a47ad",
   "metadata": {
    "execution": {
     "iopub.execute_input": "2024-05-17T21:51:17.328552Z",
     "iopub.status.busy": "2024-05-17T21:51:17.327627Z",
     "iopub.status.idle": "2024-05-17T21:51:18.729582Z",
     "shell.execute_reply": "2024-05-17T21:51:18.729054Z"
    },
    "nbsphinx": "hidden",
    "papermill": {
     "duration": 1.409811,
     "end_time": "2024-05-17T21:51:18.731022",
     "exception": false,
     "start_time": "2024-05-17T21:51:17.321211",
     "status": "completed"
    },
    "tags": []
   },
   "outputs": [],
   "source": [
    "%%capture\n",
    "\n",
    "import numpy as np\n",
    "\n",
    "import matplotlib.pyplot as plt\n",
    "\n",
    "import warnings\n",
    "warnings.simplefilter(\"ignore\")\n",
    "\n",
    "from astromodels.functions.function import _known_functions\n",
    "\n",
    "\n",
    "from jupyterthemes import jtplot\n",
    "jtplot.style(context=\"talk\", fscale=1, ticks=True, grid=False)\n",
    "%matplotlib inline"
   ]
  },
  {
   "cell_type": "code",
   "execution_count": 2,
   "id": "eba7ba10",
   "metadata": {
    "execution": {
     "iopub.execute_input": "2024-05-17T21:51:18.734214Z",
     "iopub.status.busy": "2024-05-17T21:51:18.733900Z",
     "iopub.status.idle": "2024-05-17T21:51:18.742222Z",
     "shell.execute_reply": "2024-05-17T21:51:18.741783Z"
    },
    "nbsphinx": "hidden",
    "papermill": {
     "duration": 0.011309,
     "end_time": "2024-05-17T21:51:18.743529",
     "exception": false,
     "start_time": "2024-05-17T21:51:18.732220",
     "status": "completed"
    },
    "tags": [
     "parameters"
    ]
   },
   "outputs": [],
   "source": [
    "func_name = \"TbAbs\"\n",
    "\n",
    "positive_prior = False\n"
   ]
  },
  {
   "cell_type": "code",
   "execution_count": 3,
   "id": "045897ea",
   "metadata": {
    "execution": {
     "iopub.execute_input": "2024-05-17T21:51:18.746232Z",
     "iopub.status.busy": "2024-05-17T21:51:18.746080Z",
     "iopub.status.idle": "2024-05-17T21:51:18.748000Z",
     "shell.execute_reply": "2024-05-17T21:51:18.747607Z"
    },
    "papermill": {
     "duration": 0.004639,
     "end_time": "2024-05-17T21:51:18.749220",
     "exception": false,
     "start_time": "2024-05-17T21:51:18.744581",
     "status": "completed"
    },
    "tags": [
     "injected-parameters"
    ]
   },
   "outputs": [],
   "source": [
    "# Parameters\n",
    "func_name = \"Exponential\"\n",
    "positive_prior = True\n"
   ]
  },
  {
   "cell_type": "code",
   "execution_count": 4,
   "id": "f446e117",
   "metadata": {
    "execution": {
     "iopub.execute_input": "2024-05-17T21:51:18.751840Z",
     "iopub.status.busy": "2024-05-17T21:51:18.751702Z",
     "iopub.status.idle": "2024-05-17T21:51:18.754394Z",
     "shell.execute_reply": "2024-05-17T21:51:18.754052Z"
    },
    "lines_to_next_cell": 0,
    "nbsphinx": "hidden",
    "papermill": {
     "duration": 0.005358,
     "end_time": "2024-05-17T21:51:18.755580",
     "exception": false,
     "start_time": "2024-05-17T21:51:18.750222",
     "status": "completed"
    },
    "tags": []
   },
   "outputs": [],
   "source": [
    "func = _known_functions[func_name]()\n",
    "\n",
    "if not positive_prior:\n",
    "\n",
    "\tenergy_grid = np.linspace(-5,5,1000)\n",
    "\n",
    "else:\n",
    "    \n",
    "    energy_grid = np.linspace(0,1,1000)\n",
    "    \n",
    "    \n",
    "    \n",
    "    \n",
    "blue = \"#4152E3\"\n",
    "red = \"#E3414B\"\n",
    "green = \"#41E39E\""
   ]
  },
  {
   "cell_type": "markdown",
   "id": "8b3663d8",
   "metadata": {
    "lines_to_next_cell": 0,
    "papermill": {
     "duration": 0.001077,
     "end_time": "2024-05-17T21:51:18.757651",
     "exception": false,
     "start_time": "2024-05-17T21:51:18.756574",
     "status": "completed"
    },
    "tags": []
   },
   "source": [
    "## Description"
   ]
  },
  {
   "cell_type": "code",
   "execution_count": 5,
   "id": "fe979961",
   "metadata": {
    "execution": {
     "iopub.execute_input": "2024-05-17T21:51:18.760257Z",
     "iopub.status.busy": "2024-05-17T21:51:18.760114Z",
     "iopub.status.idle": "2024-05-17T21:51:18.763590Z",
     "shell.execute_reply": "2024-05-17T21:51:18.763089Z"
    },
    "papermill": {
     "duration": 0.006256,
     "end_time": "2024-05-17T21:51:18.764868",
     "exception": false,
     "start_time": "2024-05-17T21:51:18.758612",
     "status": "completed"
    },
    "tags": []
   },
   "outputs": [
    {
     "data": {
      "text/html": [
       "<ul>\n",
       "\n",
       "<li>description: An exponential distribution function</li>\n",
       "\n",
       "<li>formula: $ f(x, \\alpha) = \\alpha\\exp(-\\alpha x)$</li>\n",
       "\n",
       "<li>parameters: \n",
       "<ul>\n",
       "\n",
       "<li>alpha: \n",
       "<ul>\n",
       "\n",
       "<li>value: 1.0</li>\n",
       "\n",
       "<li>desc: first shape parameter</li>\n",
       "\n",
       "<li>min_value: 0.0</li>\n",
       "\n",
       "<li>max_value: None</li>\n",
       "\n",
       "<li>unit: </li>\n",
       "\n",
       "<li>is_normalization: False</li>\n",
       "\n",
       "<li>delta: 0.1</li>\n",
       "\n",
       "<li>free: True</li>\n",
       "\n",
       "</ul>\n",
       "\n",
       "</li>\n",
       "\n",
       "</ul>\n",
       "\n",
       "</li>\n",
       "\n",
       "</ul>\n"
      ],
      "text/plain": [
       "  * description: An exponential distribution function\n",
       "  * formula: $ f(x, \\alpha) = \\alpha\\exp(-\\alpha x)$\n",
       "  * parameters:\n",
       "    * alpha:\n",
       "      * value: 1.0\n",
       "      * desc: first shape parameter\n",
       "      * min_value: 0.0\n",
       "      * max_value: null\n",
       "      * unit: ''\n",
       "      * is_normalization: false\n",
       "      * delta: 0.1\n",
       "      * free: true"
      ]
     },
     "metadata": {},
     "output_type": "display_data"
    }
   ],
   "source": [
    "func.display()"
   ]
  },
  {
   "cell_type": "markdown",
   "id": "eac8fb86",
   "metadata": {
    "papermill": {
     "duration": 0.001128,
     "end_time": "2024-05-17T21:51:18.767096",
     "exception": false,
     "start_time": "2024-05-17T21:51:18.765968",
     "status": "completed"
    },
    "tags": []
   },
   "source": [
    "## Shape \n",
    "\n",
    "The shape of the function. \n",
    "\n",
    "*If this is not a photon model but a prior or linear function then ignore the units as these docs are auto-generated*"
   ]
  },
  {
   "cell_type": "code",
   "execution_count": 6,
   "id": "2af999a8",
   "metadata": {
    "execution": {
     "iopub.execute_input": "2024-05-17T21:51:18.769825Z",
     "iopub.status.busy": "2024-05-17T21:51:18.769690Z",
     "iopub.status.idle": "2024-05-17T21:51:18.908995Z",
     "shell.execute_reply": "2024-05-17T21:51:18.908494Z"
    },
    "papermill": {
     "duration": 0.142323,
     "end_time": "2024-05-17T21:51:18.910413",
     "exception": false,
     "start_time": "2024-05-17T21:51:18.768090",
     "status": "completed"
    },
    "tags": [
     "nbsphinx-thumbnail"
    ]
   },
   "outputs": [
    {
     "data": {
      "text/plain": [
       "Text(0, 0.5, 'probability')"
      ]
     },
     "execution_count": 6,
     "metadata": {},
     "output_type": "execute_result"
    },
    {
     "data": {
      "image/png": "[encoded data removed]",
      "text/plain": [
       "<Figure size 1040x910 with 1 Axes>"
      ]
     },
     "metadata": {},
     "output_type": "display_data"
    }
   ],
   "source": [
    "fig, ax = plt.subplots()\n",
    "\n",
    "\n",
    "ax.plot(energy_grid, func(energy_grid), color=blue, lw=3)\n",
    "\n",
    "ax.set_xlabel(\"x\")\n",
    "ax.set_ylabel(\"probability\")\n"
   ]
  },
  {
   "cell_type": "markdown",
   "id": "ac8e285d",
   "metadata": {
    "papermill": {
     "duration": 0.001395,
     "end_time": "2024-05-17T21:51:18.913466",
     "exception": false,
     "start_time": "2024-05-17T21:51:18.912071",
     "status": "completed"
    },
    "tags": []
   },
   "source": [
    "## Random Number Generation\n",
    "\n",
    "This is how we can generate random numbers from the prior.\n"
   ]
  },
  {
   "cell_type": "code",
   "execution_count": 7,
   "id": "be857bd9",
   "metadata": {
    "execution": {
     "iopub.execute_input": "2024-05-17T21:51:18.917485Z",
     "iopub.status.busy": "2024-05-17T21:51:18.917325Z",
     "iopub.status.idle": "2024-05-17T21:51:19.367896Z",
     "shell.execute_reply": "2024-05-17T21:51:19.367441Z"
    },
    "papermill": {
     "duration": 0.454483,
     "end_time": "2024-05-17T21:51:19.369369",
     "exception": false,
     "start_time": "2024-05-17T21:51:18.914886",
     "status": "completed"
    },
    "tags": []
   },
   "outputs": [
    {
     "data": {
      "text/plain": [
       "Text(0, 0.5, 'N')"
      ]
     },
     "execution_count": 7,
     "metadata": {},
     "output_type": "execute_result"
    },
    {
     "data": {
      "image/png": "[encoded data removed]",
      "text/plain": [
       "<Figure size 1040x910 with 1 Axes>"
      ]
     },
     "metadata": {},
     "output_type": "display_data"
    }
   ],
   "source": [
    "\n",
    "\n",
    "u = np.random.uniform(0,1, size=5000)\n",
    "\n",
    "draws = [func.from_unit_cube(x) for x in u]\n",
    "\n",
    "\n",
    "fig, ax = plt.subplots()\n",
    "\n",
    "\n",
    "ax.hist(draws, color=green, bins=50)\n",
    "\n",
    "ax.set_xlabel(\"value\")\n",
    "ax.set_ylabel(\"N\")\n",
    "\n"
   ]
  }
 ],
 "metadata": {
  "jupytext": {
   "formats": "ipynb,md"
  },
  "kernelspec": {
   "display_name": "Python 3 (ipykernel)",
   "language": "python",
   "name": "python3"
  },
  "language_info": {
   "codemirror_mode": {
    "name": "ipython",
    "version": 3
   },
   "file_extension": ".py",
   "mimetype": "text/x-python",
   "name": "python",
   "nbconvert_exporter": "python",
   "pygments_lexer": "ipython3",
   "version": "3.9.13"
  },
  "papermill": {
   "default_parameters": {},
   "duration": 3.194004,
   "end_time": "2024-05-17T21:51:19.804648",
   "environment_variables": {},
   "exception": null,
   "input_path": "Exponential.ipynb",
   "output_path": "/Users/runner/work/astromodels/astromodels/docs/notebooks/Exponential.ipynb",
   "parameters": {
    "func_name": "Exponential",
    "positive_prior": true
   },
   "start_time": "2024-05-17T21:51:16.610644",
   "version": "2.6.0"
  }
 },
 "nbformat": 4,
 "nbformat_minor": 5
}
