{
 "cells": [
  {
   "cell_type": "markdown",
   "id": "40cf31df",
   "metadata": {
    "papermill": {
     "duration": 0.003765,
     "end_time": "2024-02-03T01:37:28.133703",
     "exception": false,
     "start_time": "2024-02-03T01:37:28.129938",
     "status": "completed"
    },
    "tags": []
   },
   "source": [
    "# Exponential"
   ]
  },
  {
   "cell_type": "code",
   "execution_count": 1,
   "id": "ebbd4d41",
   "metadata": {
    "execution": {
     "iopub.execute_input": "2024-02-03T01:37:28.140829Z",
     "iopub.status.busy": "2024-02-03T01:37:28.140483Z",
     "iopub.status.idle": "2024-02-03T01:37:30.838114Z",
     "shell.execute_reply": "2024-02-03T01:37:30.834973Z"
    },
    "nbsphinx": "hidden",
    "papermill": {
     "duration": 2.705663,
     "end_time": "2024-02-03T01:37:30.842143",
     "exception": false,
     "start_time": "2024-02-03T01:37:28.136480",
     "status": "completed"
    },
    "tags": []
   },
   "outputs": [],
   "source": [
    "%%capture\n",
    "\n",
    "import numpy as np\n",
    "\n",
    "import matplotlib.pyplot as plt\n",
    "\n",
    "import warnings\n",
    "warnings.simplefilter(\"ignore\")\n",
    "\n",
    "from astromodels.functions.function import _known_functions\n",
    "\n",
    "\n",
    "from jupyterthemes import jtplot\n",
    "jtplot.style(context=\"talk\", fscale=1, ticks=True, grid=False)\n",
    "%matplotlib inline"
   ]
  },
  {
   "cell_type": "code",
   "execution_count": 2,
   "id": "4981c11e",
   "metadata": {
    "execution": {
     "iopub.execute_input": "2024-02-03T01:37:30.849398Z",
     "iopub.status.busy": "2024-02-03T01:37:30.848519Z",
     "iopub.status.idle": "2024-02-03T01:37:30.858985Z",
     "shell.execute_reply": "2024-02-03T01:37:30.856302Z"
    },
    "nbsphinx": "hidden",
    "papermill": {
     "duration": 0.018213,
     "end_time": "2024-02-03T01:37:30.862892",
     "exception": false,
     "start_time": "2024-02-03T01:37:30.844679",
     "status": "completed"
    },
    "tags": [
     "parameters"
    ]
   },
   "outputs": [],
   "source": [
    "func_name = \"TbAbs\"\n",
    "\n",
    "positive_prior = False\n"
   ]
  },
  {
   "cell_type": "code",
   "execution_count": 3,
   "id": "21a54637",
   "metadata": {
    "execution": {
     "iopub.execute_input": "2024-02-03T01:37:30.868811Z",
     "iopub.status.busy": "2024-02-03T01:37:30.868503Z",
     "iopub.status.idle": "2024-02-03T01:37:30.877579Z",
     "shell.execute_reply": "2024-02-03T01:37:30.875947Z"
    },
    "papermill": {
     "duration": 0.016155,
     "end_time": "2024-02-03T01:37:30.881218",
     "exception": false,
     "start_time": "2024-02-03T01:37:30.865063",
     "status": "completed"
    },
    "tags": [
     "injected-parameters"
    ]
   },
   "outputs": [],
   "source": [
    "# Parameters\n",
    "func_name = \"Exponential\"\n",
    "positive_prior = True\n"
   ]
  },
  {
   "cell_type": "code",
   "execution_count": 4,
   "id": "68926488",
   "metadata": {
    "execution": {
     "iopub.execute_input": "2024-02-03T01:37:30.887328Z",
     "iopub.status.busy": "2024-02-03T01:37:30.886975Z",
     "iopub.status.idle": "2024-02-03T01:37:30.893701Z",
     "shell.execute_reply": "2024-02-03T01:37:30.892571Z"
    },
    "lines_to_next_cell": 0,
    "nbsphinx": "hidden",
    "papermill": {
     "duration": 0.013802,
     "end_time": "2024-02-03T01:37:30.897277",
     "exception": false,
     "start_time": "2024-02-03T01:37:30.883475",
     "status": "completed"
    },
    "tags": []
   },
   "outputs": [],
   "source": [
    "func = _known_functions[func_name]()\n",
    "\n",
    "if not positive_prior:\n",
    "\n",
    "\tenergy_grid = np.linspace(-5,5,1000)\n",
    "\n",
    "else:\n",
    "    \n",
    "    energy_grid = np.linspace(0,1,1000)\n",
    "    \n",
    "    \n",
    "    \n",
    "    \n",
    "blue = \"#4152E3\"\n",
    "red = \"#E3414B\"\n",
    "green = \"#41E39E\""
   ]
  },
  {
   "cell_type": "markdown",
   "id": "c8012e8c",
   "metadata": {
    "lines_to_next_cell": 0,
    "papermill": {
     "duration": 0.002319,
     "end_time": "2024-02-03T01:37:30.901870",
     "exception": false,
     "start_time": "2024-02-03T01:37:30.899551",
     "status": "completed"
    },
    "tags": []
   },
   "source": [
    "## Description"
   ]
  },
  {
   "cell_type": "code",
   "execution_count": 5,
   "id": "8f0aac89",
   "metadata": {
    "execution": {
     "iopub.execute_input": "2024-02-03T01:37:30.907962Z",
     "iopub.status.busy": "2024-02-03T01:37:30.907588Z",
     "iopub.status.idle": "2024-02-03T01:37:30.917354Z",
     "shell.execute_reply": "2024-02-03T01:37:30.916055Z"
    },
    "papermill": {
     "duration": 0.016857,
     "end_time": "2024-02-03T01:37:30.920901",
     "exception": false,
     "start_time": "2024-02-03T01:37:30.904044",
     "status": "completed"
    },
    "tags": []
   },
   "outputs": [
    {
     "data": {
      "text/html": [
       "<ul>\n",
       "\n",
       "<li>description: An exponential distribution function</li>\n",
       "\n",
       "<li>formula: $ f(x, \\alpha) = \\alpha\\exp(-\\alpha x)$</li>\n",
       "\n",
       "<li>parameters: \n",
       "<ul>\n",
       "\n",
       "<li>alpha: \n",
       "<ul>\n",
       "\n",
       "<li>value: 1.0</li>\n",
       "\n",
       "<li>desc: first shape parameter</li>\n",
       "\n",
       "<li>min_value: 0.0</li>\n",
       "\n",
       "<li>max_value: None</li>\n",
       "\n",
       "<li>unit: </li>\n",
       "\n",
       "<li>is_normalization: False</li>\n",
       "\n",
       "<li>delta: 0.1</li>\n",
       "\n",
       "<li>free: True</li>\n",
       "\n",
       "</ul>\n",
       "\n",
       "</li>\n",
       "\n",
       "</ul>\n",
       "\n",
       "</li>\n",
       "\n",
       "</ul>\n"
      ],
      "text/plain": [
       "  * description: An exponential distribution function\n",
       "  * formula: $ f(x, \\alpha) = \\alpha\\exp(-\\alpha x)$\n",
       "  * parameters:\n",
       "    * alpha:\n",
       "      * value: 1.0\n",
       "      * desc: first shape parameter\n",
       "      * min_value: 0.0\n",
       "      * max_value: null\n",
       "      * unit: ''\n",
       "      * is_normalization: false\n",
       "      * delta: 0.1\n",
       "      * free: true"
      ]
     },
     "metadata": {},
     "output_type": "display_data"
    }
   ],
   "source": [
    "func.display()"
   ]
  },
  {
   "cell_type": "markdown",
   "id": "d8ba8195",
   "metadata": {
    "papermill": {
     "duration": 0.002534,
     "end_time": "2024-02-03T01:37:30.925926",
     "exception": false,
     "start_time": "2024-02-03T01:37:30.923392",
     "status": "completed"
    },
    "tags": []
   },
   "source": [
    "## Shape \n",
    "\n",
    "The shape of the function. \n",
    "\n",
    "*If this is not a photon model but a prior or linear function then ignore the units as these docs are auto-generated*"
   ]
  },
  {
   "cell_type": "code",
   "execution_count": 6,
   "id": "81977a94",
   "metadata": {
    "execution": {
     "iopub.execute_input": "2024-02-03T01:37:30.932377Z",
     "iopub.status.busy": "2024-02-03T01:37:30.931995Z",
     "iopub.status.idle": "2024-02-03T01:37:31.160334Z",
     "shell.execute_reply": "2024-02-03T01:37:31.157431Z"
    },
    "papermill": {
     "duration": 0.236045,
     "end_time": "2024-02-03T01:37:31.164301",
     "exception": false,
     "start_time": "2024-02-03T01:37:30.928256",
     "status": "completed"
    },
    "tags": [
     "nbsphinx-thumbnail"
    ]
   },
   "outputs": [
    {
     "data": {
      "text/plain": [
       "Text(0, 0.5, 'probability')"
      ]
     },
     "execution_count": 6,
     "metadata": {},
     "output_type": "execute_result"
    },
    {
     "data": {
      "image/png": "[encoded data removed]",
      "text/plain": [
       "<Figure size 1040x910 with 1 Axes>"
      ]
     },
     "metadata": {},
     "output_type": "display_data"
    }
   ],
   "source": [
    "fig, ax = plt.subplots()\n",
    "\n",
    "\n",
    "ax.plot(energy_grid, func(energy_grid), color=blue, lw=3)\n",
    "\n",
    "ax.set_xlabel(\"x\")\n",
    "ax.set_ylabel(\"probability\")\n"
   ]
  },
  {
   "cell_type": "markdown",
   "id": "62935159",
   "metadata": {
    "papermill": {
     "duration": 0.002917,
     "end_time": "2024-02-03T01:37:31.170334",
     "exception": false,
     "start_time": "2024-02-03T01:37:31.167417",
     "status": "completed"
    },
    "tags": []
   },
   "source": [
    "## Random Number Generation\n",
    "\n",
    "This is how we can generate random numbers from the prior.\n"
   ]
  },
  {
   "cell_type": "code",
   "execution_count": 7,
   "id": "126c3509",
   "metadata": {
    "execution": {
     "iopub.execute_input": "2024-02-03T01:37:31.178410Z",
     "iopub.status.busy": "2024-02-03T01:37:31.177992Z",
     "iopub.status.idle": "2024-02-03T01:37:32.243952Z",
     "shell.execute_reply": "2024-02-03T01:37:32.242716Z"
    },
    "papermill": {
     "duration": 1.074664,
     "end_time": "2024-02-03T01:37:32.247754",
     "exception": false,
     "start_time": "2024-02-03T01:37:31.173090",
     "status": "completed"
    },
    "tags": []
   },
   "outputs": [
    {
     "data": {
      "text/plain": [
       "Text(0, 0.5, 'N')"
      ]
     },
     "execution_count": 7,
     "metadata": {},
     "output_type": "execute_result"
    },
    {
     "data": {
      "image/png": "[encoded data removed]",
      "text/plain": [
       "<Figure size 1040x910 with 1 Axes>"
      ]
     },
     "metadata": {},
     "output_type": "display_data"
    }
   ],
   "source": [
    "\n",
    "\n",
    "u = np.random.uniform(0,1, size=5000)\n",
    "\n",
    "draws = [func.from_unit_cube(x) for x in u]\n",
    "\n",
    "\n",
    "fig, ax = plt.subplots()\n",
    "\n",
    "\n",
    "ax.hist(draws, color=green, bins=50)\n",
    "\n",
    "ax.set_xlabel(\"value\")\n",
    "ax.set_ylabel(\"N\")\n",
    "\n"
   ]
  }
 ],
 "metadata": {
  "jupytext": {
   "formats": "ipynb,md"
  },
  "kernelspec": {
   "display_name": "Python 3 (ipykernel)",
   "language": "python",
   "name": "python3"
  },
  "language_info": {
   "codemirror_mode": {
    "name": "ipython",
    "version": 3
   },
   "file_extension": ".py",
   "mimetype": "text/x-python",
   "name": "python",
   "nbconvert_exporter": "python",
   "pygments_lexer": "ipython3",
   "version": "3.9.18"
  },
  "papermill": {
   "default_parameters": {},
   "duration": 5.662796,
   "end_time": "2024-02-03T01:37:32.786909",
   "environment_variables": {},
   "exception": null,
   "input_path": "Exponential.ipynb",
   "output_path": "/Users/runner/work/astromodels/astromodels/docs/notebooks/Exponential.ipynb",
   "parameters": {
    "func_name": "Exponential",
    "positive_prior": true
   },
   "start_time": "2024-02-03T01:37:27.124113",
   "version": "2.5.0"
  }
 },
 "nbformat": 4,
 "nbformat_minor": 5
}
