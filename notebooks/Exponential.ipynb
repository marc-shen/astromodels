{
 "cells": [
  {
   "cell_type": "markdown",
   "id": "f6c7c719",
   "metadata": {
    "papermill": {
     "duration": 0.00353,
     "end_time": "2023-11-01T17:27:02.247766",
     "exception": false,
     "start_time": "2023-11-01T17:27:02.244236",
     "status": "completed"
    },
    "tags": []
   },
   "source": [
    "# Exponential"
   ]
  },
  {
   "cell_type": "code",
   "execution_count": 1,
   "id": "1ca8dfb0",
   "metadata": {
    "execution": {
     "iopub.execute_input": "2023-11-01T17:27:02.255375Z",
     "iopub.status.busy": "2023-11-01T17:27:02.255014Z",
     "iopub.status.idle": "2023-11-01T17:27:05.037868Z",
     "shell.execute_reply": "2023-11-01T17:27:05.035865Z"
    },
    "nbsphinx": "hidden",
    "papermill": {
     "duration": 2.791724,
     "end_time": "2023-11-01T17:27:05.042449",
     "exception": false,
     "start_time": "2023-11-01T17:27:02.250725",
     "status": "completed"
    },
    "tags": []
   },
   "outputs": [],
   "source": [
    "%%capture\n",
    "\n",
    "import numpy as np\n",
    "\n",
    "import matplotlib.pyplot as plt\n",
    "\n",
    "import warnings\n",
    "warnings.simplefilter(\"ignore\")\n",
    "\n",
    "from astromodels.functions.function import _known_functions\n",
    "\n",
    "\n",
    "from jupyterthemes import jtplot\n",
    "jtplot.style(context=\"talk\", fscale=1, ticks=True, grid=False)\n",
    "%matplotlib inline"
   ]
  },
  {
   "cell_type": "code",
   "execution_count": 2,
   "id": "4e2b4819",
   "metadata": {
    "execution": {
     "iopub.execute_input": "2023-11-01T17:27:05.052091Z",
     "iopub.status.busy": "2023-11-01T17:27:05.051480Z",
     "iopub.status.idle": "2023-11-01T17:27:05.058894Z",
     "shell.execute_reply": "2023-11-01T17:27:05.057186Z"
    },
    "nbsphinx": "hidden",
    "papermill": {
     "duration": 0.017525,
     "end_time": "2023-11-01T17:27:05.063647",
     "exception": false,
     "start_time": "2023-11-01T17:27:05.046122",
     "status": "completed"
    },
    "tags": [
     "parameters"
    ]
   },
   "outputs": [],
   "source": [
    "func_name = \"TbAbs\"\n",
    "\n",
    "positive_prior = False\n"
   ]
  },
  {
   "cell_type": "code",
   "execution_count": 3,
   "id": "4cef5bab",
   "metadata": {
    "execution": {
     "iopub.execute_input": "2023-11-01T17:27:05.071146Z",
     "iopub.status.busy": "2023-11-01T17:27:05.070771Z",
     "iopub.status.idle": "2023-11-01T17:27:05.078268Z",
     "shell.execute_reply": "2023-11-01T17:27:05.076300Z"
    },
    "papermill": {
     "duration": 0.0162,
     "end_time": "2023-11-01T17:27:05.082415",
     "exception": false,
     "start_time": "2023-11-01T17:27:05.066215",
     "status": "completed"
    },
    "tags": [
     "injected-parameters"
    ]
   },
   "outputs": [],
   "source": [
    "# Parameters\n",
    "func_name = \"Exponential\"\n",
    "positive_prior = True\n"
   ]
  },
  {
   "cell_type": "code",
   "execution_count": 4,
   "id": "c51243f2",
   "metadata": {
    "execution": {
     "iopub.execute_input": "2023-11-01T17:27:05.090608Z",
     "iopub.status.busy": "2023-11-01T17:27:05.089430Z",
     "iopub.status.idle": "2023-11-01T17:27:05.101660Z",
     "shell.execute_reply": "2023-11-01T17:27:05.100177Z"
    },
    "lines_to_next_cell": 0,
    "nbsphinx": "hidden",
    "papermill": {
     "duration": 0.020489,
     "end_time": "2023-11-01T17:27:05.105638",
     "exception": false,
     "start_time": "2023-11-01T17:27:05.085149",
     "status": "completed"
    },
    "tags": []
   },
   "outputs": [],
   "source": [
    "func = _known_functions[func_name]()\n",
    "\n",
    "if not positive_prior:\n",
    "\n",
    "\tenergy_grid = np.linspace(-5,5,1000)\n",
    "\n",
    "else:\n",
    "    \n",
    "    energy_grid = np.linspace(0,1,1000)\n",
    "    \n",
    "    \n",
    "    \n",
    "    \n",
    "blue = \"#4152E3\"\n",
    "red = \"#E3414B\"\n",
    "green = \"#41E39E\""
   ]
  },
  {
   "cell_type": "markdown",
   "id": "1dc27cf4",
   "metadata": {
    "lines_to_next_cell": 0,
    "papermill": {
     "duration": 0.002732,
     "end_time": "2023-11-01T17:27:05.110919",
     "exception": false,
     "start_time": "2023-11-01T17:27:05.108187",
     "status": "completed"
    },
    "tags": []
   },
   "source": [
    "## Description"
   ]
  },
  {
   "cell_type": "code",
   "execution_count": 5,
   "id": "628c3ad3",
   "metadata": {
    "execution": {
     "iopub.execute_input": "2023-11-01T17:27:05.117983Z",
     "iopub.status.busy": "2023-11-01T17:27:05.117569Z",
     "iopub.status.idle": "2023-11-01T17:27:05.128595Z",
     "shell.execute_reply": "2023-11-01T17:27:05.126738Z"
    },
    "papermill": {
     "duration": 0.019503,
     "end_time": "2023-11-01T17:27:05.132910",
     "exception": false,
     "start_time": "2023-11-01T17:27:05.113407",
     "status": "completed"
    },
    "tags": []
   },
   "outputs": [
    {
     "data": {
      "text/html": [
       "<ul>\n",
       "\n",
       "<li>description: An exponential distribution function</li>\n",
       "\n",
       "<li>formula: $ f(x, \\alpha) = \\alpha\\exp(-\\alpha x)$</li>\n",
       "\n",
       "<li>parameters: \n",
       "<ul>\n",
       "\n",
       "<li>alpha: \n",
       "<ul>\n",
       "\n",
       "<li>value: 1.0</li>\n",
       "\n",
       "<li>desc: first shape parameter</li>\n",
       "\n",
       "<li>min_value: 0.0</li>\n",
       "\n",
       "<li>max_value: None</li>\n",
       "\n",
       "<li>unit: </li>\n",
       "\n",
       "<li>is_normalization: False</li>\n",
       "\n",
       "<li>delta: 0.1</li>\n",
       "\n",
       "<li>free: True</li>\n",
       "\n",
       "</ul>\n",
       "\n",
       "</li>\n",
       "\n",
       "</ul>\n",
       "\n",
       "</li>\n",
       "\n",
       "</ul>\n"
      ],
      "text/plain": [
       "  * description: An exponential distribution function\n",
       "  * formula: $ f(x, \\alpha) = \\alpha\\exp(-\\alpha x)$\n",
       "  * parameters:\n",
       "    * alpha:\n",
       "      * value: 1.0\n",
       "      * desc: first shape parameter\n",
       "      * min_value: 0.0\n",
       "      * max_value: null\n",
       "      * unit: ''\n",
       "      * is_normalization: false\n",
       "      * delta: 0.1\n",
       "      * free: true"
      ]
     },
     "metadata": {},
     "output_type": "display_data"
    }
   ],
   "source": [
    "func.display()"
   ]
  },
  {
   "cell_type": "markdown",
   "id": "90f64762",
   "metadata": {
    "papermill": {
     "duration": 0.003446,
     "end_time": "2023-11-01T17:27:05.139403",
     "exception": false,
     "start_time": "2023-11-01T17:27:05.135957",
     "status": "completed"
    },
    "tags": []
   },
   "source": [
    "## Shape \n",
    "\n",
    "The shape of the function. \n",
    "\n",
    "*If this is not a photon model but a prior or linear function then ignore the units as these docs are auto-generated*"
   ]
  },
  {
   "cell_type": "code",
   "execution_count": 6,
   "id": "d04abff8",
   "metadata": {
    "execution": {
     "iopub.execute_input": "2023-11-01T17:27:05.148816Z",
     "iopub.status.busy": "2023-11-01T17:27:05.148334Z",
     "iopub.status.idle": "2023-11-01T17:27:05.393384Z",
     "shell.execute_reply": "2023-11-01T17:27:05.391464Z"
    },
    "papermill": {
     "duration": 0.256138,
     "end_time": "2023-11-01T17:27:05.399032",
     "exception": false,
     "start_time": "2023-11-01T17:27:05.142894",
     "status": "completed"
    },
    "tags": [
     "nbsphinx-thumbnail"
    ]
   },
   "outputs": [
    {
     "data": {
      "text/plain": [
       "Text(0, 0.5, 'probability')"
      ]
     },
     "execution_count": 6,
     "metadata": {},
     "output_type": "execute_result"
    },
    {
     "data": {
      "image/png": "[encoded data removed]",
      "text/plain": [
       "<Figure size 1040x910 with 1 Axes>"
      ]
     },
     "metadata": {},
     "output_type": "display_data"
    }
   ],
   "source": [
    "fig, ax = plt.subplots()\n",
    "\n",
    "\n",
    "ax.plot(energy_grid, func(energy_grid), color=blue, lw=3)\n",
    "\n",
    "ax.set_xlabel(\"x\")\n",
    "ax.set_ylabel(\"probability\")\n"
   ]
  },
  {
   "cell_type": "markdown",
   "id": "11fabb56",
   "metadata": {
    "papermill": {
     "duration": 0.006176,
     "end_time": "2023-11-01T17:27:05.409236",
     "exception": false,
     "start_time": "2023-11-01T17:27:05.403060",
     "status": "completed"
    },
    "tags": []
   },
   "source": [
    "## Random Number Generation\n",
    "\n",
    "This is how we can generate random numbers from the prior.\n"
   ]
  },
  {
   "cell_type": "code",
   "execution_count": 7,
   "id": "5d3da91d",
   "metadata": {
    "execution": {
     "iopub.execute_input": "2023-11-01T17:27:05.419532Z",
     "iopub.status.busy": "2023-11-01T17:27:05.419053Z",
     "iopub.status.idle": "2023-11-01T17:27:06.516970Z",
     "shell.execute_reply": "2023-11-01T17:27:06.515498Z"
    },
    "papermill": {
     "duration": 1.108666,
     "end_time": "2023-11-01T17:27:06.522333",
     "exception": false,
     "start_time": "2023-11-01T17:27:05.413667",
     "status": "completed"
    },
    "tags": []
   },
   "outputs": [
    {
     "data": {
      "text/plain": [
       "Text(0, 0.5, 'N')"
      ]
     },
     "execution_count": 7,
     "metadata": {},
     "output_type": "execute_result"
    },
    {
     "data": {
      "image/png": "[encoded data removed]",
      "text/plain": [
       "<Figure size 1040x910 with 1 Axes>"
      ]
     },
     "metadata": {},
     "output_type": "display_data"
    }
   ],
   "source": [
    "\n",
    "\n",
    "u = np.random.uniform(0,1, size=5000)\n",
    "\n",
    "draws = [func.from_unit_cube(x) for x in u]\n",
    "\n",
    "\n",
    "fig, ax = plt.subplots()\n",
    "\n",
    "\n",
    "ax.hist(draws, color=green, bins=50)\n",
    "\n",
    "ax.set_xlabel(\"value\")\n",
    "ax.set_ylabel(\"N\")\n",
    "\n"
   ]
  }
 ],
 "metadata": {
  "jupytext": {
   "formats": "ipynb,md"
  },
  "kernelspec": {
   "display_name": "Python 3 (ipykernel)",
   "language": "python",
   "name": "python3"
  },
  "language_info": {
   "codemirror_mode": {
    "name": "ipython",
    "version": 3
   },
   "file_extension": ".py",
   "mimetype": "text/x-python",
   "name": "python",
   "nbconvert_exporter": "python",
   "pygments_lexer": "ipython3",
   "version": "3.9.18"
  },
  "papermill": {
   "default_parameters": {},
   "duration": 6.069459,
   "end_time": "2023-11-01T17:27:07.158019",
   "environment_variables": {},
   "exception": null,
   "input_path": "Exponential.ipynb",
   "output_path": "/Users/runner/work/astromodels/astromodels/docs/notebooks/Exponential.ipynb",
   "parameters": {
    "func_name": "Exponential",
    "positive_prior": true
   },
   "start_time": "2023-11-01T17:27:01.088560",
   "version": "2.4.0"
  }
 },
 "nbformat": 4,
 "nbformat_minor": 5
}
