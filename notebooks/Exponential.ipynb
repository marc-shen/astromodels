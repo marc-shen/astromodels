{
 "cells": [
  {
   "cell_type": "markdown",
   "id": "58687164",
   "metadata": {
    "papermill": {
     "duration": 0.007588,
     "end_time": "2024-08-13T20:17:02.732706",
     "exception": false,
     "start_time": "2024-08-13T20:17:02.725118",
     "status": "completed"
    },
    "tags": []
   },
   "source": [
    "# Exponential"
   ]
  },
  {
   "cell_type": "code",
   "execution_count": 1,
   "id": "1cf372c9",
   "metadata": {
    "execution": {
     "iopub.execute_input": "2024-08-13T20:17:02.744058Z",
     "iopub.status.busy": "2024-08-13T20:17:02.743564Z",
     "iopub.status.idle": "2024-08-13T20:17:04.543599Z",
     "shell.execute_reply": "2024-08-13T20:17:04.542834Z"
    },
    "nbsphinx": "hidden",
    "papermill": {
     "duration": 1.807488,
     "end_time": "2024-08-13T20:17:04.545402",
     "exception": false,
     "start_time": "2024-08-13T20:17:02.737914",
     "status": "completed"
    },
    "tags": []
   },
   "outputs": [],
   "source": [
    "%%capture\n",
    "\n",
    "import numpy as np\n",
    "\n",
    "import matplotlib.pyplot as plt\n",
    "\n",
    "import warnings\n",
    "warnings.simplefilter(\"ignore\")\n",
    "\n",
    "from astromodels.functions.function import _known_functions\n",
    "\n",
    "\n",
    "from jupyterthemes import jtplot\n",
    "jtplot.style(context=\"talk\", fscale=1, ticks=True, grid=False)\n",
    "%matplotlib inline"
   ]
  },
  {
   "cell_type": "code",
   "execution_count": 2,
   "id": "07c970ca",
   "metadata": {
    "execution": {
     "iopub.execute_input": "2024-08-13T20:17:04.548922Z",
     "iopub.status.busy": "2024-08-13T20:17:04.548560Z",
     "iopub.status.idle": "2024-08-13T20:17:04.556962Z",
     "shell.execute_reply": "2024-08-13T20:17:04.556556Z"
    },
    "nbsphinx": "hidden",
    "papermill": {
     "duration": 0.011568,
     "end_time": "2024-08-13T20:17:04.558387",
     "exception": false,
     "start_time": "2024-08-13T20:17:04.546819",
     "status": "completed"
    },
    "tags": [
     "parameters"
    ]
   },
   "outputs": [],
   "source": [
    "func_name = \"TbAbs\"\n",
    "\n",
    "positive_prior = False\n"
   ]
  },
  {
   "cell_type": "code",
   "execution_count": 3,
   "id": "3f009565",
   "metadata": {
    "execution": {
     "iopub.execute_input": "2024-08-13T20:17:04.561183Z",
     "iopub.status.busy": "2024-08-13T20:17:04.561030Z",
     "iopub.status.idle": "2024-08-13T20:17:04.569146Z",
     "shell.execute_reply": "2024-08-13T20:17:04.568650Z"
    },
    "papermill": {
     "duration": 0.010941,
     "end_time": "2024-08-13T20:17:04.570476",
     "exception": false,
     "start_time": "2024-08-13T20:17:04.559535",
     "status": "completed"
    },
    "tags": [
     "injected-parameters"
    ]
   },
   "outputs": [],
   "source": [
    "# Parameters\n",
    "func_name = \"Exponential\"\n",
    "positive_prior = True\n"
   ]
  },
  {
   "cell_type": "code",
   "execution_count": 4,
   "id": "11b03817",
   "metadata": {
    "execution": {
     "iopub.execute_input": "2024-08-13T20:17:04.573380Z",
     "iopub.status.busy": "2024-08-13T20:17:04.573233Z",
     "iopub.status.idle": "2024-08-13T20:17:04.579872Z",
     "shell.execute_reply": "2024-08-13T20:17:04.579385Z"
    },
    "lines_to_next_cell": 0,
    "nbsphinx": "hidden",
    "papermill": {
     "duration": 0.009702,
     "end_time": "2024-08-13T20:17:04.581401",
     "exception": false,
     "start_time": "2024-08-13T20:17:04.571699",
     "status": "completed"
    },
    "tags": []
   },
   "outputs": [],
   "source": [
    "func = _known_functions[func_name]()\n",
    "\n",
    "if not positive_prior:\n",
    "\n",
    "\tenergy_grid = np.linspace(-5,5,1000)\n",
    "\n",
    "else:\n",
    "    \n",
    "    energy_grid = np.linspace(0,1,1000)\n",
    "    \n",
    "    \n",
    "    \n",
    "    \n",
    "blue = \"#4152E3\"\n",
    "red = \"#E3414B\"\n",
    "green = \"#41E39E\""
   ]
  },
  {
   "cell_type": "markdown",
   "id": "f3e9320a",
   "metadata": {
    "lines_to_next_cell": 0,
    "papermill": {
     "duration": 0.001095,
     "end_time": "2024-08-13T20:17:04.583804",
     "exception": false,
     "start_time": "2024-08-13T20:17:04.582709",
     "status": "completed"
    },
    "tags": []
   },
   "source": [
    "## Description"
   ]
  },
  {
   "cell_type": "code",
   "execution_count": 5,
   "id": "ed5df481",
   "metadata": {
    "execution": {
     "iopub.execute_input": "2024-08-13T20:17:04.586584Z",
     "iopub.status.busy": "2024-08-13T20:17:04.586413Z",
     "iopub.status.idle": "2024-08-13T20:17:04.589955Z",
     "shell.execute_reply": "2024-08-13T20:17:04.589497Z"
    },
    "papermill": {
     "duration": 0.006542,
     "end_time": "2024-08-13T20:17:04.591369",
     "exception": false,
     "start_time": "2024-08-13T20:17:04.584827",
     "status": "completed"
    },
    "tags": []
   },
   "outputs": [
    {
     "data": {
      "text/html": [
       "<ul>\n",
       "\n",
       "<li>description: An exponential distribution function</li>\n",
       "\n",
       "<li>formula: $ f(x, \\alpha) = \\alpha\\exp(-\\alpha x)$</li>\n",
       "\n",
       "<li>parameters: \n",
       "<ul>\n",
       "\n",
       "<li>alpha: \n",
       "<ul>\n",
       "\n",
       "<li>value: 1.0</li>\n",
       "\n",
       "<li>desc: first shape parameter</li>\n",
       "\n",
       "<li>min_value: 0.0</li>\n",
       "\n",
       "<li>max_value: None</li>\n",
       "\n",
       "<li>unit: </li>\n",
       "\n",
       "<li>is_normalization: False</li>\n",
       "\n",
       "<li>delta: 0.1</li>\n",
       "\n",
       "<li>free: True</li>\n",
       "\n",
       "</ul>\n",
       "\n",
       "</li>\n",
       "\n",
       "</ul>\n",
       "\n",
       "</li>\n",
       "\n",
       "</ul>\n"
      ],
      "text/plain": [
       "  * description: An exponential distribution function\n",
       "  * formula: $ f(x, \\alpha) = \\alpha\\exp(-\\alpha x)$\n",
       "  * parameters:\n",
       "    * alpha:\n",
       "      * value: 1.0\n",
       "      * desc: first shape parameter\n",
       "      * min_value: 0.0\n",
       "      * max_value: null\n",
       "      * unit: ''\n",
       "      * is_normalization: false\n",
       "      * delta: 0.1\n",
       "      * free: true"
      ]
     },
     "metadata": {},
     "output_type": "display_data"
    }
   ],
   "source": [
    "func.display()"
   ]
  },
  {
   "cell_type": "markdown",
   "id": "4029823b",
   "metadata": {
    "papermill": {
     "duration": 0.00117,
     "end_time": "2024-08-13T20:17:04.593709",
     "exception": false,
     "start_time": "2024-08-13T20:17:04.592539",
     "status": "completed"
    },
    "tags": []
   },
   "source": [
    "## Shape \n",
    "\n",
    "The shape of the function. \n",
    "\n",
    "*If this is not a photon model but a prior or linear function then ignore the units as these docs are auto-generated*"
   ]
  },
  {
   "cell_type": "code",
   "execution_count": 6,
   "id": "7a582b88",
   "metadata": {
    "execution": {
     "iopub.execute_input": "2024-08-13T20:17:04.597970Z",
     "iopub.status.busy": "2024-08-13T20:17:04.597571Z",
     "iopub.status.idle": "2024-08-13T20:17:04.730454Z",
     "shell.execute_reply": "2024-08-13T20:17:04.729842Z"
    },
    "papermill": {
     "duration": 0.137742,
     "end_time": "2024-08-13T20:17:04.732675",
     "exception": false,
     "start_time": "2024-08-13T20:17:04.594933",
     "status": "completed"
    },
    "tags": [
     "nbsphinx-thumbnail"
    ]
   },
   "outputs": [
    {
     "data": {
      "text/plain": [
       "Text(0, 0.5, 'probability')"
      ]
     },
     "execution_count": 6,
     "metadata": {},
     "output_type": "execute_result"
    },
    {
     "data": {
      "image/png": "[encoded data removed]",
      "text/plain": [
       "<Figure size 1040x910 with 1 Axes>"
      ]
     },
     "metadata": {},
     "output_type": "display_data"
    }
   ],
   "source": [
    "fig, ax = plt.subplots()\n",
    "\n",
    "\n",
    "ax.plot(energy_grid, func(energy_grid), color=blue, lw=3)\n",
    "\n",
    "ax.set_xlabel(\"x\")\n",
    "ax.set_ylabel(\"probability\")\n"
   ]
  },
  {
   "cell_type": "markdown",
   "id": "d863a724",
   "metadata": {
    "papermill": {
     "duration": 0.001702,
     "end_time": "2024-08-13T20:17:04.736336",
     "exception": false,
     "start_time": "2024-08-13T20:17:04.734634",
     "status": "completed"
    },
    "tags": []
   },
   "source": [
    "## Random Number Generation\n",
    "\n",
    "This is how we can generate random numbers from the prior.\n"
   ]
  },
  {
   "cell_type": "code",
   "execution_count": 7,
   "id": "ea85e9b0",
   "metadata": {
    "execution": {
     "iopub.execute_input": "2024-08-13T20:17:04.747633Z",
     "iopub.status.busy": "2024-08-13T20:17:04.747452Z",
     "iopub.status.idle": "2024-08-13T20:17:05.136481Z",
     "shell.execute_reply": "2024-08-13T20:17:05.136130Z"
    },
    "papermill": {
     "duration": 0.39548,
     "end_time": "2024-08-13T20:17:05.138517",
     "exception": false,
     "start_time": "2024-08-13T20:17:04.743037",
     "status": "completed"
    },
    "tags": []
   },
   "outputs": [
    {
     "data": {
      "text/plain": [
       "Text(0, 0.5, 'N')"
      ]
     },
     "execution_count": 7,
     "metadata": {},
     "output_type": "execute_result"
    },
    {
     "data": {
      "image/png": "[encoded data removed]",
      "text/plain": [
       "<Figure size 1040x910 with 1 Axes>"
      ]
     },
     "metadata": {},
     "output_type": "display_data"
    }
   ],
   "source": [
    "\n",
    "\n",
    "u = np.random.uniform(0,1, size=5000)\n",
    "\n",
    "draws = [func.from_unit_cube(x) for x in u]\n",
    "\n",
    "\n",
    "fig, ax = plt.subplots()\n",
    "\n",
    "\n",
    "ax.hist(draws, color=green, bins=50)\n",
    "\n",
    "ax.set_xlabel(\"value\")\n",
    "ax.set_ylabel(\"N\")\n",
    "\n"
   ]
  }
 ],
 "metadata": {
  "jupytext": {
   "formats": "ipynb,md"
  },
  "kernelspec": {
   "display_name": "Python 3 (ipykernel)",
   "language": "python",
   "name": "python3"
  },
  "language_info": {
   "codemirror_mode": {
    "name": "ipython",
    "version": 3
   },
   "file_extension": ".py",
   "mimetype": "text/x-python",
   "name": "python",
   "nbconvert_exporter": "python",
   "pygments_lexer": "ipython3",
   "version": "3.9.13"
  },
  "papermill": {
   "default_parameters": {},
   "duration": 3.565316,
   "end_time": "2024-08-13T20:17:05.576946",
   "environment_variables": {},
   "exception": null,
   "input_path": "Exponential.ipynb",
   "output_path": "/Users/runner/work/astromodels/astromodels/docs/notebooks/Exponential.ipynb",
   "parameters": {
    "func_name": "Exponential",
    "positive_prior": true
   },
   "start_time": "2024-08-13T20:17:02.011630",
   "version": "2.6.0"
  }
 },
 "nbformat": 4,
 "nbformat_minor": 5
}
