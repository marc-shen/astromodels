{
 "cells": [
  {
   "cell_type": "markdown",
   "id": "f4b023f2",
   "metadata": {
    "papermill": {
     "duration": 0.009952,
     "end_time": "2024-05-08T21:49:35.520797",
     "exception": false,
     "start_time": "2024-05-08T21:49:35.510845",
     "status": "completed"
    },
    "tags": []
   },
   "source": [
    "# Exponential"
   ]
  },
  {
   "cell_type": "code",
   "execution_count": 1,
   "id": "535768a3",
   "metadata": {
    "execution": {
     "iopub.execute_input": "2024-05-08T21:49:35.534195Z",
     "iopub.status.busy": "2024-05-08T21:49:35.533205Z",
     "iopub.status.idle": "2024-05-08T21:49:36.961929Z",
     "shell.execute_reply": "2024-05-08T21:49:36.961412Z"
    },
    "nbsphinx": "hidden",
    "papermill": {
     "duration": 1.437192,
     "end_time": "2024-05-08T21:49:36.963462",
     "exception": false,
     "start_time": "2024-05-08T21:49:35.526270",
     "status": "completed"
    },
    "tags": []
   },
   "outputs": [],
   "source": [
    "%%capture\n",
    "\n",
    "import numpy as np\n",
    "\n",
    "import matplotlib.pyplot as plt\n",
    "\n",
    "import warnings\n",
    "warnings.simplefilter(\"ignore\")\n",
    "\n",
    "from astromodels.functions.function import _known_functions\n",
    "\n",
    "\n",
    "from jupyterthemes import jtplot\n",
    "jtplot.style(context=\"talk\", fscale=1, ticks=True, grid=False)\n",
    "%matplotlib inline"
   ]
  },
  {
   "cell_type": "code",
   "execution_count": 2,
   "id": "e6e9cd50",
   "metadata": {
    "execution": {
     "iopub.execute_input": "2024-05-08T21:49:36.967039Z",
     "iopub.status.busy": "2024-05-08T21:49:36.966717Z",
     "iopub.status.idle": "2024-05-08T21:49:36.968864Z",
     "shell.execute_reply": "2024-05-08T21:49:36.968493Z"
    },
    "nbsphinx": "hidden",
    "papermill": {
     "duration": 0.005478,
     "end_time": "2024-05-08T21:49:36.970138",
     "exception": false,
     "start_time": "2024-05-08T21:49:36.964660",
     "status": "completed"
    },
    "tags": [
     "parameters"
    ]
   },
   "outputs": [],
   "source": [
    "func_name = \"TbAbs\"\n",
    "\n",
    "positive_prior = False\n"
   ]
  },
  {
   "cell_type": "code",
   "execution_count": 3,
   "id": "4ad74613",
   "metadata": {
    "execution": {
     "iopub.execute_input": "2024-05-08T21:49:36.972733Z",
     "iopub.status.busy": "2024-05-08T21:49:36.972590Z",
     "iopub.status.idle": "2024-05-08T21:49:36.974388Z",
     "shell.execute_reply": "2024-05-08T21:49:36.974040Z"
    },
    "papermill": {
     "duration": 0.004597,
     "end_time": "2024-05-08T21:49:36.975711",
     "exception": false,
     "start_time": "2024-05-08T21:49:36.971114",
     "status": "completed"
    },
    "tags": [
     "injected-parameters"
    ]
   },
   "outputs": [],
   "source": [
    "# Parameters\n",
    "func_name = \"Exponential\"\n",
    "positive_prior = True\n"
   ]
  },
  {
   "cell_type": "code",
   "execution_count": 4,
   "id": "87f80724",
   "metadata": {
    "execution": {
     "iopub.execute_input": "2024-05-08T21:49:36.978277Z",
     "iopub.status.busy": "2024-05-08T21:49:36.978146Z",
     "iopub.status.idle": "2024-05-08T21:49:36.986822Z",
     "shell.execute_reply": "2024-05-08T21:49:36.986427Z"
    },
    "lines_to_next_cell": 0,
    "nbsphinx": "hidden",
    "papermill": {
     "duration": 0.011389,
     "end_time": "2024-05-08T21:49:36.988095",
     "exception": false,
     "start_time": "2024-05-08T21:49:36.976706",
     "status": "completed"
    },
    "tags": []
   },
   "outputs": [],
   "source": [
    "func = _known_functions[func_name]()\n",
    "\n",
    "if not positive_prior:\n",
    "\n",
    "\tenergy_grid = np.linspace(-5,5,1000)\n",
    "\n",
    "else:\n",
    "    \n",
    "    energy_grid = np.linspace(0,1,1000)\n",
    "    \n",
    "    \n",
    "    \n",
    "    \n",
    "blue = \"#4152E3\"\n",
    "red = \"#E3414B\"\n",
    "green = \"#41E39E\""
   ]
  },
  {
   "cell_type": "markdown",
   "id": "d524df5a",
   "metadata": {
    "lines_to_next_cell": 0,
    "papermill": {
     "duration": 0.000996,
     "end_time": "2024-05-08T21:49:36.990127",
     "exception": false,
     "start_time": "2024-05-08T21:49:36.989131",
     "status": "completed"
    },
    "tags": []
   },
   "source": [
    "## Description"
   ]
  },
  {
   "cell_type": "code",
   "execution_count": 5,
   "id": "6ab6b8de",
   "metadata": {
    "execution": {
     "iopub.execute_input": "2024-05-08T21:49:36.992663Z",
     "iopub.status.busy": "2024-05-08T21:49:36.992519Z",
     "iopub.status.idle": "2024-05-08T21:49:36.995993Z",
     "shell.execute_reply": "2024-05-08T21:49:36.995554Z"
    },
    "papermill": {
     "duration": 0.006097,
     "end_time": "2024-05-08T21:49:36.997173",
     "exception": false,
     "start_time": "2024-05-08T21:49:36.991076",
     "status": "completed"
    },
    "tags": []
   },
   "outputs": [
    {
     "data": {
      "text/html": [
       "<ul>\n",
       "\n",
       "<li>description: An exponential distribution function</li>\n",
       "\n",
       "<li>formula: $ f(x, \\alpha) = \\alpha\\exp(-\\alpha x)$</li>\n",
       "\n",
       "<li>parameters: \n",
       "<ul>\n",
       "\n",
       "<li>alpha: \n",
       "<ul>\n",
       "\n",
       "<li>value: 1.0</li>\n",
       "\n",
       "<li>desc: first shape parameter</li>\n",
       "\n",
       "<li>min_value: 0.0</li>\n",
       "\n",
       "<li>max_value: None</li>\n",
       "\n",
       "<li>unit: </li>\n",
       "\n",
       "<li>is_normalization: False</li>\n",
       "\n",
       "<li>delta: 0.1</li>\n",
       "\n",
       "<li>free: True</li>\n",
       "\n",
       "</ul>\n",
       "\n",
       "</li>\n",
       "\n",
       "</ul>\n",
       "\n",
       "</li>\n",
       "\n",
       "</ul>\n"
      ],
      "text/plain": [
       "  * description: An exponential distribution function\n",
       "  * formula: $ f(x, \\alpha) = \\alpha\\exp(-\\alpha x)$\n",
       "  * parameters:\n",
       "    * alpha:\n",
       "      * value: 1.0\n",
       "      * desc: first shape parameter\n",
       "      * min_value: 0.0\n",
       "      * max_value: null\n",
       "      * unit: ''\n",
       "      * is_normalization: false\n",
       "      * delta: 0.1\n",
       "      * free: true"
      ]
     },
     "metadata": {},
     "output_type": "display_data"
    }
   ],
   "source": [
    "func.display()"
   ]
  },
  {
   "cell_type": "markdown",
   "id": "aca06182",
   "metadata": {
    "papermill": {
     "duration": 0.001168,
     "end_time": "2024-05-08T21:49:36.999486",
     "exception": false,
     "start_time": "2024-05-08T21:49:36.998318",
     "status": "completed"
    },
    "tags": []
   },
   "source": [
    "## Shape \n",
    "\n",
    "The shape of the function. \n",
    "\n",
    "*If this is not a photon model but a prior or linear function then ignore the units as these docs are auto-generated*"
   ]
  },
  {
   "cell_type": "code",
   "execution_count": 6,
   "id": "351b2d0a",
   "metadata": {
    "execution": {
     "iopub.execute_input": "2024-05-08T21:49:37.002277Z",
     "iopub.status.busy": "2024-05-08T21:49:37.002131Z",
     "iopub.status.idle": "2024-05-08T21:49:37.111714Z",
     "shell.execute_reply": "2024-05-08T21:49:37.109724Z"
    },
    "papermill": {
     "duration": 0.112444,
     "end_time": "2024-05-08T21:49:37.112958",
     "exception": false,
     "start_time": "2024-05-08T21:49:37.000514",
     "status": "completed"
    },
    "tags": [
     "nbsphinx-thumbnail"
    ]
   },
   "outputs": [
    {
     "data": {
      "text/plain": [
       "Text(0, 0.5, 'probability')"
      ]
     },
     "execution_count": 6,
     "metadata": {},
     "output_type": "execute_result"
    },
    {
     "data": {
      "image/png": "[encoded data removed]",
      "text/plain": [
       "<Figure size 1040x910 with 1 Axes>"
      ]
     },
     "metadata": {},
     "output_type": "display_data"
    }
   ],
   "source": [
    "fig, ax = plt.subplots()\n",
    "\n",
    "\n",
    "ax.plot(energy_grid, func(energy_grid), color=blue, lw=3)\n",
    "\n",
    "ax.set_xlabel(\"x\")\n",
    "ax.set_ylabel(\"probability\")\n"
   ]
  },
  {
   "cell_type": "markdown",
   "id": "6b1a1079",
   "metadata": {
    "papermill": {
     "duration": 0.001427,
     "end_time": "2024-05-08T21:49:37.116043",
     "exception": false,
     "start_time": "2024-05-08T21:49:37.114616",
     "status": "completed"
    },
    "tags": []
   },
   "source": [
    "## Random Number Generation\n",
    "\n",
    "This is how we can generate random numbers from the prior.\n"
   ]
  },
  {
   "cell_type": "code",
   "execution_count": 7,
   "id": "0be98e71",
   "metadata": {
    "execution": {
     "iopub.execute_input": "2024-05-08T21:49:37.119486Z",
     "iopub.status.busy": "2024-05-08T21:49:37.119334Z",
     "iopub.status.idle": "2024-05-08T21:49:37.448772Z",
     "shell.execute_reply": "2024-05-08T21:49:37.448431Z"
    },
    "papermill": {
     "duration": 0.332762,
     "end_time": "2024-05-08T21:49:37.450190",
     "exception": false,
     "start_time": "2024-05-08T21:49:37.117428",
     "status": "completed"
    },
    "tags": []
   },
   "outputs": [
    {
     "data": {
      "text/plain": [
       "Text(0, 0.5, 'N')"
      ]
     },
     "execution_count": 7,
     "metadata": {},
     "output_type": "execute_result"
    },
    {
     "data": {
      "image/png": "[encoded data removed]",
      "text/plain": [
       "<Figure size 1040x910 with 1 Axes>"
      ]
     },
     "metadata": {},
     "output_type": "display_data"
    }
   ],
   "source": [
    "\n",
    "\n",
    "u = np.random.uniform(0,1, size=5000)\n",
    "\n",
    "draws = [func.from_unit_cube(x) for x in u]\n",
    "\n",
    "\n",
    "fig, ax = plt.subplots()\n",
    "\n",
    "\n",
    "ax.hist(draws, color=green, bins=50)\n",
    "\n",
    "ax.set_xlabel(\"value\")\n",
    "ax.set_ylabel(\"N\")\n",
    "\n"
   ]
  }
 ],
 "metadata": {
  "jupytext": {
   "formats": "ipynb,md"
  },
  "kernelspec": {
   "display_name": "Python 3 (ipykernel)",
   "language": "python",
   "name": "python3"
  },
  "language_info": {
   "codemirror_mode": {
    "name": "ipython",
    "version": 3
   },
   "file_extension": ".py",
   "mimetype": "text/x-python",
   "name": "python",
   "nbconvert_exporter": "python",
   "pygments_lexer": "ipython3",
   "version": "3.9.13"
  },
  "papermill": {
   "default_parameters": {},
   "duration": 2.842134,
   "end_time": "2024-05-08T21:49:37.796695",
   "environment_variables": {},
   "exception": null,
   "input_path": "Exponential.ipynb",
   "output_path": "/Users/runner/work/astromodels/astromodels/docs/notebooks/Exponential.ipynb",
   "parameters": {
    "func_name": "Exponential",
    "positive_prior": true
   },
   "start_time": "2024-05-08T21:49:34.954561",
   "version": "2.6.0"
  }
 },
 "nbformat": 4,
 "nbformat_minor": 5
}
