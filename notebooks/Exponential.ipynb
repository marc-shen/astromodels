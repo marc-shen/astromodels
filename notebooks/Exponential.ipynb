{
 "cells": [
  {
   "cell_type": "markdown",
   "id": "6bc5a7ae",
   "metadata": {
    "papermill": {
     "duration": 0.004146,
     "end_time": "2022-09-29T17:47:42.178446",
     "exception": false,
     "start_time": "2022-09-29T17:47:42.174300",
     "status": "completed"
    },
    "tags": []
   },
   "source": [
    "# Exponential"
   ]
  },
  {
   "cell_type": "code",
   "execution_count": 1,
   "id": "b2083e93",
   "metadata": {
    "execution": {
     "iopub.execute_input": "2022-09-29T17:47:42.186872Z",
     "iopub.status.busy": "2022-09-29T17:47:42.186345Z",
     "iopub.status.idle": "2022-09-29T17:47:46.068625Z",
     "shell.execute_reply": "2022-09-29T17:47:46.067622Z"
    },
    "nbsphinx": "hidden",
    "papermill": {
     "duration": 3.890201,
     "end_time": "2022-09-29T17:47:46.071952",
     "exception": false,
     "start_time": "2022-09-29T17:47:42.181751",
     "status": "completed"
    },
    "tags": []
   },
   "outputs": [],
   "source": [
    "%%capture\n",
    "\n",
    "import numpy as np\n",
    "\n",
    "import matplotlib.pyplot as plt\n",
    "\n",
    "import warnings\n",
    "warnings.simplefilter(\"ignore\")\n",
    "\n",
    "from astromodels.functions.function import _known_functions\n",
    "\n",
    "\n",
    "from jupyterthemes import jtplot\n",
    "jtplot.style(context=\"talk\", fscale=1, ticks=True, grid=False)\n",
    "%matplotlib inline"
   ]
  },
  {
   "cell_type": "code",
   "execution_count": 2,
   "id": "36e6c107",
   "metadata": {
    "execution": {
     "iopub.execute_input": "2022-09-29T17:47:46.083704Z",
     "iopub.status.busy": "2022-09-29T17:47:46.083029Z",
     "iopub.status.idle": "2022-09-29T17:47:46.091813Z",
     "shell.execute_reply": "2022-09-29T17:47:46.090877Z"
    },
    "nbsphinx": "hidden",
    "papermill": {
     "duration": 0.016417,
     "end_time": "2022-09-29T17:47:46.094528",
     "exception": false,
     "start_time": "2022-09-29T17:47:46.078111",
     "status": "completed"
    },
    "tags": [
     "parameters"
    ]
   },
   "outputs": [],
   "source": [
    "func_name = \"TbAbs\"\n",
    "\n",
    "positive_prior = False\n"
   ]
  },
  {
   "cell_type": "code",
   "execution_count": 3,
   "id": "ee04cb00",
   "metadata": {
    "execution": {
     "iopub.execute_input": "2022-09-29T17:47:46.102255Z",
     "iopub.status.busy": "2022-09-29T17:47:46.101902Z",
     "iopub.status.idle": "2022-09-29T17:47:46.110172Z",
     "shell.execute_reply": "2022-09-29T17:47:46.109155Z"
    },
    "papermill": {
     "duration": 0.01567,
     "end_time": "2022-09-29T17:47:46.113036",
     "exception": false,
     "start_time": "2022-09-29T17:47:46.097366",
     "status": "completed"
    },
    "tags": [
     "injected-parameters"
    ]
   },
   "outputs": [],
   "source": [
    "# Parameters\n",
    "func_name = \"Exponential\"\n",
    "positive_prior = True\n"
   ]
  },
  {
   "cell_type": "code",
   "execution_count": 4,
   "id": "8177f894",
   "metadata": {
    "execution": {
     "iopub.execute_input": "2022-09-29T17:47:46.121987Z",
     "iopub.status.busy": "2022-09-29T17:47:46.120917Z",
     "iopub.status.idle": "2022-09-29T17:47:46.128396Z",
     "shell.execute_reply": "2022-09-29T17:47:46.127442Z"
    },
    "lines_to_next_cell": 0,
    "nbsphinx": "hidden",
    "papermill": {
     "duration": 0.015552,
     "end_time": "2022-09-29T17:47:46.132015",
     "exception": false,
     "start_time": "2022-09-29T17:47:46.116463",
     "status": "completed"
    },
    "tags": []
   },
   "outputs": [],
   "source": [
    "func = _known_functions[func_name]()\n",
    "\n",
    "if not positive_prior:\n",
    "\n",
    "\tenergy_grid = np.linspace(-5,5,1000)\n",
    "\n",
    "else:\n",
    "    \n",
    "    energy_grid = np.linspace(0,1,1000)\n",
    "    \n",
    "    \n",
    "    \n",
    "    \n",
    "blue = \"#4152E3\"\n",
    "red = \"#E3414B\"\n",
    "green = \"#41E39E\""
   ]
  },
  {
   "cell_type": "markdown",
   "id": "fd5a417c",
   "metadata": {
    "lines_to_next_cell": 0,
    "papermill": {
     "duration": 0.002954,
     "end_time": "2022-09-29T17:47:46.138053",
     "exception": false,
     "start_time": "2022-09-29T17:47:46.135099",
     "status": "completed"
    },
    "tags": []
   },
   "source": [
    "## Description"
   ]
  },
  {
   "cell_type": "code",
   "execution_count": 5,
   "id": "4bf57513",
   "metadata": {
    "execution": {
     "iopub.execute_input": "2022-09-29T17:47:46.145885Z",
     "iopub.status.busy": "2022-09-29T17:47:46.145490Z",
     "iopub.status.idle": "2022-09-29T17:47:46.157697Z",
     "shell.execute_reply": "2022-09-29T17:47:46.156769Z"
    },
    "papermill": {
     "duration": 0.019175,
     "end_time": "2022-09-29T17:47:46.160459",
     "exception": false,
     "start_time": "2022-09-29T17:47:46.141284",
     "status": "completed"
    },
    "tags": []
   },
   "outputs": [
    {
     "data": {
      "text/html": [
       "<ul>\n",
       "\n",
       "<li>description: An exponential distribution function</li>\n",
       "\n",
       "<li>formula: $ f(x, \\alpha) = \\alpha\\exp(-\\alpha x)$</li>\n",
       "\n",
       "<li>parameters: \n",
       "<ul>\n",
       "\n",
       "<li>alpha: \n",
       "<ul>\n",
       "\n",
       "<li>value: 1.0</li>\n",
       "\n",
       "<li>desc: first shape parameter</li>\n",
       "\n",
       "<li>min_value: 0.0</li>\n",
       "\n",
       "<li>max_value: None</li>\n",
       "\n",
       "<li>unit: </li>\n",
       "\n",
       "<li>is_normalization: False</li>\n",
       "\n",
       "<li>delta: 0.1</li>\n",
       "\n",
       "<li>free: True</li>\n",
       "\n",
       "</ul>\n",
       "\n",
       "</li>\n",
       "\n",
       "</ul>\n",
       "\n",
       "</li>\n",
       "\n",
       "</ul>\n"
      ],
      "text/plain": [
       "  * description: An exponential distribution function\n",
       "  * formula: $ f(x, \\alpha) = \\alpha\\exp(-\\alpha x)$\n",
       "  * parameters:\n",
       "    * alpha:\n",
       "      * value: 1.0\n",
       "      * desc: first shape parameter\n",
       "      * min_value: 0.0\n",
       "      * max_value: null\n",
       "      * unit: ''\n",
       "      * is_normalization: false\n",
       "      * delta: 0.1\n",
       "      * free: true"
      ]
     },
     "metadata": {},
     "output_type": "display_data"
    }
   ],
   "source": [
    "func.display()"
   ]
  },
  {
   "cell_type": "markdown",
   "id": "73f52774",
   "metadata": {
    "papermill": {
     "duration": 0.003287,
     "end_time": "2022-09-29T17:47:46.168120",
     "exception": false,
     "start_time": "2022-09-29T17:47:46.164833",
     "status": "completed"
    },
    "tags": []
   },
   "source": [
    "## Shape \n",
    "\n",
    "The shape of the function. \n",
    "\n",
    "*If this is not a photon model but a prior or linear function then ignore the units as these docs are auto-generated*"
   ]
  },
  {
   "cell_type": "code",
   "execution_count": 6,
   "id": "3be3e437",
   "metadata": {
    "execution": {
     "iopub.execute_input": "2022-09-29T17:47:46.176087Z",
     "iopub.status.busy": "2022-09-29T17:47:46.175661Z",
     "iopub.status.idle": "2022-09-29T17:47:46.551598Z",
     "shell.execute_reply": "2022-09-29T17:47:46.550605Z"
    },
    "papermill": {
     "duration": 0.38344,
     "end_time": "2022-09-29T17:47:46.554526",
     "exception": false,
     "start_time": "2022-09-29T17:47:46.171086",
     "status": "completed"
    },
    "tags": [
     "nbsphinx-thumbnail"
    ]
   },
   "outputs": [
    {
     "data": {
      "text/plain": [
       "Text(0, 0.5, 'probability')"
      ]
     },
     "execution_count": 6,
     "metadata": {},
     "output_type": "execute_result"
    },
    {
     "data": {
      "image/png": "[encoded data removed]",
      "text/plain": [
       "<Figure size 1040x910 with 1 Axes>"
      ]
     },
     "metadata": {},
     "output_type": "display_data"
    }
   ],
   "source": [
    "fig, ax = plt.subplots()\n",
    "\n",
    "\n",
    "ax.plot(energy_grid, func(energy_grid), color=blue, lw=3)\n",
    "\n",
    "ax.set_xlabel(\"x\")\n",
    "ax.set_ylabel(\"probability\")\n"
   ]
  },
  {
   "cell_type": "markdown",
   "id": "fb07e223",
   "metadata": {
    "papermill": {
     "duration": 0.00408,
     "end_time": "2022-09-29T17:47:46.563167",
     "exception": false,
     "start_time": "2022-09-29T17:47:46.559087",
     "status": "completed"
    },
    "tags": []
   },
   "source": [
    "## Random Number Generation\n",
    "\n",
    "This is how we can generate random numbers from the prior.\n"
   ]
  },
  {
   "cell_type": "code",
   "execution_count": 7,
   "id": "606e4f53",
   "metadata": {
    "execution": {
     "iopub.execute_input": "2022-09-29T17:47:46.572306Z",
     "iopub.status.busy": "2022-09-29T17:47:46.571875Z",
     "iopub.status.idle": "2022-09-29T17:47:48.141641Z",
     "shell.execute_reply": "2022-09-29T17:47:48.140618Z"
    },
    "papermill": {
     "duration": 1.577987,
     "end_time": "2022-09-29T17:47:48.144750",
     "exception": false,
     "start_time": "2022-09-29T17:47:46.566763",
     "status": "completed"
    },
    "tags": []
   },
   "outputs": [
    {
     "data": {
      "text/plain": [
       "Text(0, 0.5, 'N')"
      ]
     },
     "execution_count": 7,
     "metadata": {},
     "output_type": "execute_result"
    },
    {
     "data": {
      "image/png": "[encoded data removed]",
      "text/plain": [
       "<Figure size 1040x910 with 1 Axes>"
      ]
     },
     "metadata": {},
     "output_type": "display_data"
    }
   ],
   "source": [
    "\n",
    "\n",
    "u = np.random.uniform(0,1, size=5000)\n",
    "\n",
    "draws = [func.from_unit_cube(x) for x in u]\n",
    "\n",
    "\n",
    "fig, ax = plt.subplots()\n",
    "\n",
    "\n",
    "ax.hist(draws, color=green, bins=50)\n",
    "\n",
    "ax.set_xlabel(\"value\")\n",
    "ax.set_ylabel(\"N\")\n",
    "\n"
   ]
  }
 ],
 "metadata": {
  "jupytext": {
   "formats": "ipynb,md"
  },
  "kernelspec": {
   "display_name": "Python 3 (ipykernel)",
   "language": "python",
   "name": "python3"
  },
  "language_info": {
   "codemirror_mode": {
    "name": "ipython",
    "version": 3
   },
   "file_extension": ".py",
   "mimetype": "text/x-python",
   "name": "python",
   "nbconvert_exporter": "python",
   "pygments_lexer": "ipython3",
   "version": "3.9.14"
  },
  "papermill": {
   "default_parameters": {},
   "duration": 8.062786,
   "end_time": "2022-09-29T17:47:48.940978",
   "environment_variables": {},
   "exception": null,
   "input_path": "Exponential.ipynb",
   "output_path": "/Users/runner/work/astromodels/astromodels/docs/notebooks/Exponential.ipynb",
   "parameters": {
    "func_name": "Exponential",
    "positive_prior": true
   },
   "start_time": "2022-09-29T17:47:40.878192",
   "version": "2.4.0"
  }
 },
 "nbformat": 4,
 "nbformat_minor": 5
}
