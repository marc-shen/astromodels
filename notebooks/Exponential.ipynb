{
 "cells": [
  {
   "cell_type": "markdown",
   "id": "1a562abf",
   "metadata": {
    "papermill": {
     "duration": 0.010358,
     "end_time": "2024-09-10T14:37:41.060418",
     "exception": false,
     "start_time": "2024-09-10T14:37:41.050060",
     "status": "completed"
    },
    "tags": []
   },
   "source": [
    "# Exponential"
   ]
  },
  {
   "cell_type": "code",
   "execution_count": 1,
   "id": "7e617bcd",
   "metadata": {
    "execution": {
     "iopub.execute_input": "2024-09-10T14:37:41.072801Z",
     "iopub.status.busy": "2024-09-10T14:37:41.072209Z",
     "iopub.status.idle": "2024-09-10T14:37:42.533848Z",
     "shell.execute_reply": "2024-09-10T14:37:42.533357Z"
    },
    "nbsphinx": "hidden",
    "papermill": {
     "duration": 1.469949,
     "end_time": "2024-09-10T14:37:42.535711",
     "exception": false,
     "start_time": "2024-09-10T14:37:41.065762",
     "status": "completed"
    },
    "tags": []
   },
   "outputs": [],
   "source": [
    "%%capture\n",
    "\n",
    "import numpy as np\n",
    "\n",
    "import matplotlib.pyplot as plt\n",
    "\n",
    "import warnings\n",
    "warnings.simplefilter(\"ignore\")\n",
    "\n",
    "from astromodels.functions.function import _known_functions\n",
    "\n",
    "\n",
    "from jupyterthemes import jtplot\n",
    "jtplot.style(context=\"talk\", fscale=1, ticks=True, grid=False)\n",
    "%matplotlib inline"
   ]
  },
  {
   "cell_type": "code",
   "execution_count": 2,
   "id": "a725be7c",
   "metadata": {
    "execution": {
     "iopub.execute_input": "2024-09-10T14:37:42.539071Z",
     "iopub.status.busy": "2024-09-10T14:37:42.538740Z",
     "iopub.status.idle": "2024-09-10T14:37:42.540916Z",
     "shell.execute_reply": "2024-09-10T14:37:42.540545Z"
    },
    "nbsphinx": "hidden",
    "papermill": {
     "duration": 0.005106,
     "end_time": "2024-09-10T14:37:42.542172",
     "exception": false,
     "start_time": "2024-09-10T14:37:42.537066",
     "status": "completed"
    },
    "tags": [
     "parameters"
    ]
   },
   "outputs": [],
   "source": [
    "func_name = \"TbAbs\"\n",
    "\n",
    "positive_prior = False\n"
   ]
  },
  {
   "cell_type": "code",
   "execution_count": 3,
   "id": "a7a9327b",
   "metadata": {
    "execution": {
     "iopub.execute_input": "2024-09-10T14:37:42.544802Z",
     "iopub.status.busy": "2024-09-10T14:37:42.544667Z",
     "iopub.status.idle": "2024-09-10T14:37:42.550597Z",
     "shell.execute_reply": "2024-09-10T14:37:42.550211Z"
    },
    "papermill": {
     "duration": 0.008587,
     "end_time": "2024-09-10T14:37:42.551829",
     "exception": false,
     "start_time": "2024-09-10T14:37:42.543242",
     "status": "completed"
    },
    "tags": [
     "injected-parameters"
    ]
   },
   "outputs": [],
   "source": [
    "# Parameters\n",
    "func_name = \"Exponential\"\n",
    "positive_prior = True\n"
   ]
  },
  {
   "cell_type": "code",
   "execution_count": 4,
   "id": "e6579fa2",
   "metadata": {
    "execution": {
     "iopub.execute_input": "2024-09-10T14:37:42.554440Z",
     "iopub.status.busy": "2024-09-10T14:37:42.554307Z",
     "iopub.status.idle": "2024-09-10T14:37:42.563321Z",
     "shell.execute_reply": "2024-09-10T14:37:42.562925Z"
    },
    "lines_to_next_cell": 0,
    "nbsphinx": "hidden",
    "papermill": {
     "duration": 0.011752,
     "end_time": "2024-09-10T14:37:42.564621",
     "exception": false,
     "start_time": "2024-09-10T14:37:42.552869",
     "status": "completed"
    },
    "tags": []
   },
   "outputs": [],
   "source": [
    "func = _known_functions[func_name]()\n",
    "\n",
    "if not positive_prior:\n",
    "\n",
    "\tenergy_grid = np.linspace(-5,5,1000)\n",
    "\n",
    "else:\n",
    "    \n",
    "    energy_grid = np.linspace(0,1,1000)\n",
    "    \n",
    "    \n",
    "    \n",
    "    \n",
    "blue = \"#4152E3\"\n",
    "red = \"#E3414B\"\n",
    "green = \"#41E39E\""
   ]
  },
  {
   "cell_type": "markdown",
   "id": "f4dfa466",
   "metadata": {
    "lines_to_next_cell": 0,
    "papermill": {
     "duration": 0.001084,
     "end_time": "2024-09-10T14:37:42.566871",
     "exception": false,
     "start_time": "2024-09-10T14:37:42.565787",
     "status": "completed"
    },
    "tags": []
   },
   "source": [
    "## Description"
   ]
  },
  {
   "cell_type": "code",
   "execution_count": 5,
   "id": "88dd285b",
   "metadata": {
    "execution": {
     "iopub.execute_input": "2024-09-10T14:37:42.569667Z",
     "iopub.status.busy": "2024-09-10T14:37:42.569508Z",
     "iopub.status.idle": "2024-09-10T14:37:42.573200Z",
     "shell.execute_reply": "2024-09-10T14:37:42.572732Z"
    },
    "papermill": {
     "duration": 0.006658,
     "end_time": "2024-09-10T14:37:42.574524",
     "exception": false,
     "start_time": "2024-09-10T14:37:42.567866",
     "status": "completed"
    },
    "tags": []
   },
   "outputs": [
    {
     "data": {
      "text/html": [
       "<ul>\n",
       "\n",
       "<li>description: An exponential distribution function</li>\n",
       "\n",
       "<li>formula: $ f(x, \\alpha) = \\alpha\\exp(-\\alpha x)$</li>\n",
       "\n",
       "<li>parameters: \n",
       "<ul>\n",
       "\n",
       "<li>alpha: \n",
       "<ul>\n",
       "\n",
       "<li>value: 1.0</li>\n",
       "\n",
       "<li>desc: first shape parameter</li>\n",
       "\n",
       "<li>min_value: 0.0</li>\n",
       "\n",
       "<li>max_value: None</li>\n",
       "\n",
       "<li>unit: </li>\n",
       "\n",
       "<li>is_normalization: False</li>\n",
       "\n",
       "<li>delta: 0.1</li>\n",
       "\n",
       "<li>free: True</li>\n",
       "\n",
       "</ul>\n",
       "\n",
       "</li>\n",
       "\n",
       "</ul>\n",
       "\n",
       "</li>\n",
       "\n",
       "</ul>\n"
      ],
      "text/plain": [
       "  * description: An exponential distribution function\n",
       "  * formula: $ f(x, \\alpha) = \\alpha\\exp(-\\alpha x)$\n",
       "  * parameters:\n",
       "    * alpha:\n",
       "      * value: 1.0\n",
       "      * desc: first shape parameter\n",
       "      * min_value: 0.0\n",
       "      * max_value: null\n",
       "      * unit: ''\n",
       "      * is_normalization: false\n",
       "      * delta: 0.1\n",
       "      * free: true"
      ]
     },
     "metadata": {},
     "output_type": "display_data"
    }
   ],
   "source": [
    "func.display()"
   ]
  },
  {
   "cell_type": "markdown",
   "id": "39a3b238",
   "metadata": {
    "papermill": {
     "duration": 0.001144,
     "end_time": "2024-09-10T14:37:42.576926",
     "exception": false,
     "start_time": "2024-09-10T14:37:42.575782",
     "status": "completed"
    },
    "tags": []
   },
   "source": [
    "## Shape \n",
    "\n",
    "The shape of the function. \n",
    "\n",
    "*If this is not a photon model but a prior or linear function then ignore the units as these docs are auto-generated*"
   ]
  },
  {
   "cell_type": "code",
   "execution_count": 6,
   "id": "8d689d81",
   "metadata": {
    "execution": {
     "iopub.execute_input": "2024-09-10T14:37:42.579781Z",
     "iopub.status.busy": "2024-09-10T14:37:42.579633Z",
     "iopub.status.idle": "2024-09-10T14:37:42.678851Z",
     "shell.execute_reply": "2024-09-10T14:37:42.678506Z"
    },
    "papermill": {
     "duration": 0.102242,
     "end_time": "2024-09-10T14:37:42.680283",
     "exception": false,
     "start_time": "2024-09-10T14:37:42.578041",
     "status": "completed"
    },
    "tags": [
     "nbsphinx-thumbnail"
    ]
   },
   "outputs": [
    {
     "data": {
      "text/plain": [
       "Text(0, 0.5, 'probability')"
      ]
     },
     "execution_count": 6,
     "metadata": {},
     "output_type": "execute_result"
    },
    {
     "data": {
      "image/png": "[encoded data removed]",
      "text/plain": [
       "<Figure size 1040x910 with 1 Axes>"
      ]
     },
     "metadata": {},
     "output_type": "display_data"
    }
   ],
   "source": [
    "fig, ax = plt.subplots()\n",
    "\n",
    "\n",
    "ax.plot(energy_grid, func(energy_grid), color=blue, lw=3)\n",
    "\n",
    "ax.set_xlabel(\"x\")\n",
    "ax.set_ylabel(\"probability\")\n"
   ]
  },
  {
   "cell_type": "markdown",
   "id": "9b7037f7",
   "metadata": {
    "papermill": {
     "duration": 0.001506,
     "end_time": "2024-09-10T14:37:42.683435",
     "exception": false,
     "start_time": "2024-09-10T14:37:42.681929",
     "status": "completed"
    },
    "tags": []
   },
   "source": [
    "## Random Number Generation\n",
    "\n",
    "This is how we can generate random numbers from the prior.\n"
   ]
  },
  {
   "cell_type": "code",
   "execution_count": 7,
   "id": "c300ac0e",
   "metadata": {
    "execution": {
     "iopub.execute_input": "2024-09-10T14:37:42.686890Z",
     "iopub.status.busy": "2024-09-10T14:37:42.686747Z",
     "iopub.status.idle": "2024-09-10T14:37:43.011911Z",
     "shell.execute_reply": "2024-09-10T14:37:43.011508Z"
    },
    "papermill": {
     "duration": 0.328474,
     "end_time": "2024-09-10T14:37:43.013228",
     "exception": false,
     "start_time": "2024-09-10T14:37:42.684754",
     "status": "completed"
    },
    "tags": []
   },
   "outputs": [
    {
     "data": {
      "text/plain": [
       "Text(0, 0.5, 'N')"
      ]
     },
     "execution_count": 7,
     "metadata": {},
     "output_type": "execute_result"
    },
    {
     "data": {
      "image/png": "[encoded data removed]",
      "text/plain": [
       "<Figure size 1040x910 with 1 Axes>"
      ]
     },
     "metadata": {},
     "output_type": "display_data"
    }
   ],
   "source": [
    "\n",
    "\n",
    "u = np.random.uniform(0,1, size=5000)\n",
    "\n",
    "draws = [func.from_unit_cube(x) for x in u]\n",
    "\n",
    "\n",
    "fig, ax = plt.subplots()\n",
    "\n",
    "\n",
    "ax.hist(draws, color=green, bins=50)\n",
    "\n",
    "ax.set_xlabel(\"value\")\n",
    "ax.set_ylabel(\"N\")\n",
    "\n"
   ]
  }
 ],
 "metadata": {
  "jupytext": {
   "formats": "ipynb,md"
  },
  "kernelspec": {
   "display_name": "Python 3 (ipykernel)",
   "language": "python",
   "name": "python3"
  },
  "language_info": {
   "codemirror_mode": {
    "name": "ipython",
    "version": 3
   },
   "file_extension": ".py",
   "mimetype": "text/x-python",
   "name": "python",
   "nbconvert_exporter": "python",
   "pygments_lexer": "ipython3",
   "version": "3.9.13"
  },
  "papermill": {
   "default_parameters": {},
   "duration": 2.859359,
   "end_time": "2024-09-10T14:37:43.339905",
   "environment_variables": {},
   "exception": null,
   "input_path": "Exponential.ipynb",
   "output_path": "/Users/runner/work/astromodels/astromodels/docs/notebooks/Exponential.ipynb",
   "parameters": {
    "func_name": "Exponential",
    "positive_prior": true
   },
   "start_time": "2024-09-10T14:37:40.480546",
   "version": "2.6.0"
  }
 },
 "nbformat": 4,
 "nbformat_minor": 5
}
