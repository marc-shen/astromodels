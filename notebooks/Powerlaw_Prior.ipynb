{
 "cells": [
  {
   "cell_type": "markdown",
   "id": "295105d5",
   "metadata": {
    "papermill": {
     "duration": 0.004374,
     "end_time": "2022-10-05T19:27:32.775306",
     "exception": false,
     "start_time": "2022-10-05T19:27:32.770932",
     "status": "completed"
    },
    "tags": []
   },
   "source": [
    "# Powerlaw Prior"
   ]
  },
  {
   "cell_type": "code",
   "execution_count": 1,
   "id": "0b366d74",
   "metadata": {
    "execution": {
     "iopub.execute_input": "2022-10-05T19:27:32.784350Z",
     "iopub.status.busy": "2022-10-05T19:27:32.783877Z",
     "iopub.status.idle": "2022-10-05T19:27:37.655114Z",
     "shell.execute_reply": "2022-10-05T19:27:37.653892Z"
    },
    "nbsphinx": "hidden",
    "papermill": {
     "duration": 4.879279,
     "end_time": "2022-10-05T19:27:37.658422",
     "exception": false,
     "start_time": "2022-10-05T19:27:32.779143",
     "status": "completed"
    },
    "tags": []
   },
   "outputs": [],
   "source": [
    "%%capture\n",
    "\n",
    "import numpy as np\n",
    "\n",
    "import matplotlib.pyplot as plt\n",
    "\n",
    "import warnings\n",
    "warnings.simplefilter(\"ignore\")\n",
    "\n",
    "from astromodels.functions.function import _known_functions\n",
    "\n",
    "\n",
    "from jupyterthemes import jtplot\n",
    "jtplot.style(context=\"talk\", fscale=1, ticks=True, grid=False)\n",
    "%matplotlib inline"
   ]
  },
  {
   "cell_type": "code",
   "execution_count": 2,
   "id": "ba42efa5",
   "metadata": {
    "execution": {
     "iopub.execute_input": "2022-10-05T19:27:37.667960Z",
     "iopub.status.busy": "2022-10-05T19:27:37.667509Z",
     "iopub.status.idle": "2022-10-05T19:27:37.673591Z",
     "shell.execute_reply": "2022-10-05T19:27:37.672394Z"
    },
    "nbsphinx": "hidden",
    "papermill": {
     "duration": 0.013688,
     "end_time": "2022-10-05T19:27:37.676675",
     "exception": false,
     "start_time": "2022-10-05T19:27:37.662987",
     "status": "completed"
    },
    "tags": [
     "parameters"
    ]
   },
   "outputs": [],
   "source": [
    "func_name = \"TbAbs\"\n",
    "\n",
    "positive_prior = False\n"
   ]
  },
  {
   "cell_type": "code",
   "execution_count": 3,
   "id": "6483cff2",
   "metadata": {
    "execution": {
     "iopub.execute_input": "2022-10-05T19:27:37.684570Z",
     "iopub.status.busy": "2022-10-05T19:27:37.684144Z",
     "iopub.status.idle": "2022-10-05T19:27:37.692244Z",
     "shell.execute_reply": "2022-10-05T19:27:37.691042Z"
    },
    "papermill": {
     "duration": 0.015642,
     "end_time": "2022-10-05T19:27:37.695398",
     "exception": false,
     "start_time": "2022-10-05T19:27:37.679756",
     "status": "completed"
    },
    "tags": [
     "injected-parameters"
    ]
   },
   "outputs": [],
   "source": [
    "# Parameters\n",
    "func_name = \"Powerlaw_Prior\"\n",
    "positive_prior = True\n"
   ]
  },
  {
   "cell_type": "code",
   "execution_count": 4,
   "id": "73934c7b",
   "metadata": {
    "execution": {
     "iopub.execute_input": "2022-10-05T19:27:37.703503Z",
     "iopub.status.busy": "2022-10-05T19:27:37.703056Z",
     "iopub.status.idle": "2022-10-05T19:27:37.710284Z",
     "shell.execute_reply": "2022-10-05T19:27:37.709215Z"
    },
    "lines_to_next_cell": 0,
    "nbsphinx": "hidden",
    "papermill": {
     "duration": 0.014737,
     "end_time": "2022-10-05T19:27:37.713287",
     "exception": false,
     "start_time": "2022-10-05T19:27:37.698550",
     "status": "completed"
    },
    "tags": []
   },
   "outputs": [],
   "source": [
    "func = _known_functions[func_name]()\n",
    "\n",
    "if not positive_prior:\n",
    "\n",
    "\tenergy_grid = np.linspace(-5,5,1000)\n",
    "\n",
    "else:\n",
    "    \n",
    "    energy_grid = np.linspace(0,1,1000)\n",
    "    \n",
    "    \n",
    "    \n",
    "    \n",
    "blue = \"#4152E3\"\n",
    "red = \"#E3414B\"\n",
    "green = \"#41E39E\""
   ]
  },
  {
   "cell_type": "markdown",
   "id": "5b54f298",
   "metadata": {
    "lines_to_next_cell": 0,
    "papermill": {
     "duration": 0.003283,
     "end_time": "2022-10-05T19:27:37.719757",
     "exception": false,
     "start_time": "2022-10-05T19:27:37.716474",
     "status": "completed"
    },
    "tags": []
   },
   "source": [
    "## Description"
   ]
  },
  {
   "cell_type": "code",
   "execution_count": 5,
   "id": "52d7a914",
   "metadata": {
    "execution": {
     "iopub.execute_input": "2022-10-05T19:27:37.728260Z",
     "iopub.status.busy": "2022-10-05T19:27:37.727829Z",
     "iopub.status.idle": "2022-10-05T19:27:37.738763Z",
     "shell.execute_reply": "2022-10-05T19:27:37.737674Z"
    },
    "papermill": {
     "duration": 0.018464,
     "end_time": "2022-10-05T19:27:37.741776",
     "exception": false,
     "start_time": "2022-10-05T19:27:37.723312",
     "status": "completed"
    },
    "tags": []
   },
   "outputs": [
    {
     "data": {
      "text/html": [
       "<ul>\n",
       "\n",
       "<li>description: An power law distribution function between a-b</li>\n",
       "\n",
       "<li>formula: $ f(x, \\alpha) = \\alpha x^{\\alpha-1)$</li>\n",
       "\n",
       "<li>parameters: \n",
       "<ul>\n",
       "\n",
       "<li>alpha: \n",
       "<ul>\n",
       "\n",
       "<li>value: 1.0</li>\n",
       "\n",
       "<li>desc: slope parameter</li>\n",
       "\n",
       "<li>min_value: 0.0</li>\n",
       "\n",
       "<li>max_value: None</li>\n",
       "\n",
       "<li>unit: </li>\n",
       "\n",
       "<li>is_normalization: False</li>\n",
       "\n",
       "<li>delta: 0.1</li>\n",
       "\n",
       "<li>free: True</li>\n",
       "\n",
       "</ul>\n",
       "\n",
       "</li>\n",
       "\n",
       "<li>a: \n",
       "<ul>\n",
       "\n",
       "<li>value: 0.0</li>\n",
       "\n",
       "<li>desc: lower bound of distribution</li>\n",
       "\n",
       "<li>min_value: 0.0</li>\n",
       "\n",
       "<li>max_value: None</li>\n",
       "\n",
       "<li>unit: </li>\n",
       "\n",
       "<li>is_normalization: False</li>\n",
       "\n",
       "<li>delta: 0.1</li>\n",
       "\n",
       "<li>free: True</li>\n",
       "\n",
       "</ul>\n",
       "\n",
       "</li>\n",
       "\n",
       "<li>b: \n",
       "<ul>\n",
       "\n",
       "<li>value: 1.0</li>\n",
       "\n",
       "<li>desc: upper bound of distribution</li>\n",
       "\n",
       "<li>min_value: 0.0</li>\n",
       "\n",
       "<li>max_value: None</li>\n",
       "\n",
       "<li>unit: </li>\n",
       "\n",
       "<li>is_normalization: False</li>\n",
       "\n",
       "<li>delta: 0.1</li>\n",
       "\n",
       "<li>free: True</li>\n",
       "\n",
       "</ul>\n",
       "\n",
       "</li>\n",
       "\n",
       "</ul>\n",
       "\n",
       "</li>\n",
       "\n",
       "</ul>\n"
      ],
      "text/plain": [
       "  * description: An power law distribution function between a-b\n",
       "  * formula: $ f(x, \\alpha) = \\alpha x^{\\alpha-1)$\n",
       "  * parameters:\n",
       "    * alpha:\n",
       "      * value: 1.0\n",
       "      * desc: slope parameter\n",
       "      * min_value: 0.0\n",
       "      * max_value: null\n",
       "      * unit: ''\n",
       "      * is_normalization: false\n",
       "      * delta: 0.1\n",
       "      * free: true\n",
       "    * a:\n",
       "      * value: 0.0\n",
       "      * desc: lower bound of distribution\n",
       "      * min_value: 0.0\n",
       "      * max_value: null\n",
       "      * unit: ''\n",
       "      * is_normalization: false\n",
       "      * delta: 0.1\n",
       "      * free: true\n",
       "    * b:\n",
       "      * value: 1.0\n",
       "      * desc: upper bound of distribution\n",
       "      * min_value: 0.0\n",
       "      * max_value: null\n",
       "      * unit: ''\n",
       "      * is_normalization: false\n",
       "      * delta: 0.1\n",
       "      * free: true"
      ]
     },
     "metadata": {},
     "output_type": "display_data"
    }
   ],
   "source": [
    "func.display()"
   ]
  },
  {
   "cell_type": "markdown",
   "id": "e876b248",
   "metadata": {
    "papermill": {
     "duration": 0.003588,
     "end_time": "2022-10-05T19:27:37.749348",
     "exception": false,
     "start_time": "2022-10-05T19:27:37.745760",
     "status": "completed"
    },
    "tags": []
   },
   "source": [
    "## Shape \n",
    "\n",
    "The shape of the function. \n",
    "\n",
    "*If this is not a photon model but a prior or linear function then ignore the units as these docs are auto-generated*"
   ]
  },
  {
   "cell_type": "code",
   "execution_count": 6,
   "id": "ebd1f3c4",
   "metadata": {
    "execution": {
     "iopub.execute_input": "2022-10-05T19:27:37.758333Z",
     "iopub.status.busy": "2022-10-05T19:27:37.757910Z",
     "iopub.status.idle": "2022-10-05T19:27:38.062656Z",
     "shell.execute_reply": "2022-10-05T19:27:38.053886Z"
    },
    "papermill": {
     "duration": 0.31333,
     "end_time": "2022-10-05T19:27:38.066100",
     "exception": false,
     "start_time": "2022-10-05T19:27:37.752770",
     "status": "completed"
    },
    "tags": [
     "nbsphinx-thumbnail"
    ]
   },
   "outputs": [
    {
     "data": {
      "text/plain": [
       "Text(0, 0.5, 'probability')"
      ]
     },
     "execution_count": 6,
     "metadata": {},
     "output_type": "execute_result"
    },
    {
     "data": {
      "image/png": "[encoded data removed]",
      "text/plain": [
       "<Figure size 1040x910 with 1 Axes>"
      ]
     },
     "metadata": {},
     "output_type": "display_data"
    }
   ],
   "source": [
    "fig, ax = plt.subplots()\n",
    "\n",
    "\n",
    "ax.plot(energy_grid, func(energy_grid), color=blue, lw=3)\n",
    "\n",
    "ax.set_xlabel(\"x\")\n",
    "ax.set_ylabel(\"probability\")\n"
   ]
  },
  {
   "cell_type": "markdown",
   "id": "92e1ae30",
   "metadata": {
    "papermill": {
     "duration": 0.004684,
     "end_time": "2022-10-05T19:27:38.115822",
     "exception": false,
     "start_time": "2022-10-05T19:27:38.111138",
     "status": "completed"
    },
    "tags": []
   },
   "source": [
    "## Random Number Generation\n",
    "\n",
    "This is how we can generate random numbers from the prior.\n"
   ]
  },
  {
   "cell_type": "code",
   "execution_count": 7,
   "id": "fbbcb65a",
   "metadata": {
    "execution": {
     "iopub.execute_input": "2022-10-05T19:27:38.128831Z",
     "iopub.status.busy": "2022-10-05T19:27:38.128392Z",
     "iopub.status.idle": "2022-10-05T19:27:40.140808Z",
     "shell.execute_reply": "2022-10-05T19:27:40.139817Z"
    },
    "papermill": {
     "duration": 2.020821,
     "end_time": "2022-10-05T19:27:40.143769",
     "exception": false,
     "start_time": "2022-10-05T19:27:38.122948",
     "status": "completed"
    },
    "tags": []
   },
   "outputs": [
    {
     "data": {
      "text/plain": [
       "Text(0, 0.5, 'N')"
      ]
     },
     "execution_count": 7,
     "metadata": {},
     "output_type": "execute_result"
    },
    {
     "data": {
      "image/png": "[encoded data removed]",
      "text/plain": [
       "<Figure size 1040x910 with 1 Axes>"
      ]
     },
     "metadata": {},
     "output_type": "display_data"
    }
   ],
   "source": [
    "\n",
    "\n",
    "u = np.random.uniform(0,1, size=5000)\n",
    "\n",
    "draws = [func.from_unit_cube(x) for x in u]\n",
    "\n",
    "\n",
    "fig, ax = plt.subplots()\n",
    "\n",
    "\n",
    "ax.hist(draws, color=green, bins=50)\n",
    "\n",
    "ax.set_xlabel(\"value\")\n",
    "ax.set_ylabel(\"N\")\n",
    "\n"
   ]
  }
 ],
 "metadata": {
  "jupytext": {
   "formats": "ipynb,md"
  },
  "kernelspec": {
   "display_name": "Python 3 (ipykernel)",
   "language": "python",
   "name": "python3"
  },
  "language_info": {
   "codemirror_mode": {
    "name": "ipython",
    "version": 3
   },
   "file_extension": ".py",
   "mimetype": "text/x-python",
   "name": "python",
   "nbconvert_exporter": "python",
   "pygments_lexer": "ipython3",
   "version": "3.9.14"
  },
  "papermill": {
   "default_parameters": {},
   "duration": 9.73599,
   "end_time": "2022-10-05T19:27:40.959293",
   "environment_variables": {},
   "exception": null,
   "input_path": "Powerlaw_Prior.ipynb",
   "output_path": "/Users/runner/work/astromodels/astromodels/docs/notebooks/Powerlaw_Prior.ipynb",
   "parameters": {
    "func_name": "Powerlaw_Prior",
    "positive_prior": true
   },
   "start_time": "2022-10-05T19:27:31.223303",
   "version": "2.4.0"
  }
 },
 "nbformat": 4,
 "nbformat_minor": 5
}
