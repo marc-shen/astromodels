{
 "cells": [
  {
   "cell_type": "markdown",
   "id": "ae1d44ad",
   "metadata": {
    "papermill": {
     "duration": 0.003704,
     "end_time": "2024-02-02T23:42:59.621768",
     "exception": false,
     "start_time": "2024-02-02T23:42:59.618064",
     "status": "completed"
    },
    "tags": []
   },
   "source": [
    "# Powerlaw Prior"
   ]
  },
  {
   "cell_type": "code",
   "execution_count": 1,
   "id": "76cab8ed",
   "metadata": {
    "execution": {
     "iopub.execute_input": "2024-02-02T23:42:59.628637Z",
     "iopub.status.busy": "2024-02-02T23:42:59.628225Z",
     "iopub.status.idle": "2024-02-02T23:43:02.163262Z",
     "shell.execute_reply": "2024-02-02T23:43:02.160110Z"
    },
    "nbsphinx": "hidden",
    "papermill": {
     "duration": 2.543134,
     "end_time": "2024-02-02T23:43:02.167548",
     "exception": false,
     "start_time": "2024-02-02T23:42:59.624414",
     "status": "completed"
    },
    "tags": []
   },
   "outputs": [],
   "source": [
    "%%capture\n",
    "\n",
    "import numpy as np\n",
    "\n",
    "import matplotlib.pyplot as plt\n",
    "\n",
    "import warnings\n",
    "warnings.simplefilter(\"ignore\")\n",
    "\n",
    "from astromodels.functions.function import _known_functions\n",
    "\n",
    "\n",
    "from jupyterthemes import jtplot\n",
    "jtplot.style(context=\"talk\", fscale=1, ticks=True, grid=False)\n",
    "%matplotlib inline"
   ]
  },
  {
   "cell_type": "code",
   "execution_count": 2,
   "id": "a8e1b975",
   "metadata": {
    "execution": {
     "iopub.execute_input": "2024-02-02T23:43:02.174212Z",
     "iopub.status.busy": "2024-02-02T23:43:02.173845Z",
     "iopub.status.idle": "2024-02-02T23:43:02.179301Z",
     "shell.execute_reply": "2024-02-02T23:43:02.178116Z"
    },
    "nbsphinx": "hidden",
    "papermill": {
     "duration": 0.012818,
     "end_time": "2024-02-02T23:43:02.182845",
     "exception": false,
     "start_time": "2024-02-02T23:43:02.170027",
     "status": "completed"
    },
    "tags": [
     "parameters"
    ]
   },
   "outputs": [],
   "source": [
    "func_name = \"TbAbs\"\n",
    "\n",
    "positive_prior = False\n"
   ]
  },
  {
   "cell_type": "code",
   "execution_count": 3,
   "id": "a39ed963",
   "metadata": {
    "execution": {
     "iopub.execute_input": "2024-02-02T23:43:02.188826Z",
     "iopub.status.busy": "2024-02-02T23:43:02.188461Z",
     "iopub.status.idle": "2024-02-02T23:43:02.193280Z",
     "shell.execute_reply": "2024-02-02T23:43:02.191899Z"
    },
    "papermill": {
     "duration": 0.01177,
     "end_time": "2024-02-02T23:43:02.196862",
     "exception": false,
     "start_time": "2024-02-02T23:43:02.185092",
     "status": "completed"
    },
    "tags": [
     "injected-parameters"
    ]
   },
   "outputs": [],
   "source": [
    "# Parameters\n",
    "func_name = \"Powerlaw_Prior\"\n",
    "positive_prior = True\n"
   ]
  },
  {
   "cell_type": "code",
   "execution_count": 4,
   "id": "2f857cb4",
   "metadata": {
    "execution": {
     "iopub.execute_input": "2024-02-02T23:43:02.203100Z",
     "iopub.status.busy": "2024-02-02T23:43:02.202794Z",
     "iopub.status.idle": "2024-02-02T23:43:02.212275Z",
     "shell.execute_reply": "2024-02-02T23:43:02.210905Z"
    },
    "lines_to_next_cell": 0,
    "nbsphinx": "hidden",
    "papermill": {
     "duration": 0.016822,
     "end_time": "2024-02-02T23:43:02.215949",
     "exception": false,
     "start_time": "2024-02-02T23:43:02.199127",
     "status": "completed"
    },
    "tags": []
   },
   "outputs": [],
   "source": [
    "func = _known_functions[func_name]()\n",
    "\n",
    "if not positive_prior:\n",
    "\n",
    "\tenergy_grid = np.linspace(-5,5,1000)\n",
    "\n",
    "else:\n",
    "    \n",
    "    energy_grid = np.linspace(0,1,1000)\n",
    "    \n",
    "    \n",
    "    \n",
    "    \n",
    "blue = \"#4152E3\"\n",
    "red = \"#E3414B\"\n",
    "green = \"#41E39E\""
   ]
  },
  {
   "cell_type": "markdown",
   "id": "e63d3bf0",
   "metadata": {
    "lines_to_next_cell": 0,
    "papermill": {
     "duration": 0.002389,
     "end_time": "2024-02-02T23:43:02.220638",
     "exception": false,
     "start_time": "2024-02-02T23:43:02.218249",
     "status": "completed"
    },
    "tags": []
   },
   "source": [
    "## Description"
   ]
  },
  {
   "cell_type": "code",
   "execution_count": 5,
   "id": "4d04e295",
   "metadata": {
    "execution": {
     "iopub.execute_input": "2024-02-02T23:43:02.227060Z",
     "iopub.status.busy": "2024-02-02T23:43:02.226686Z",
     "iopub.status.idle": "2024-02-02T23:43:02.236912Z",
     "shell.execute_reply": "2024-02-02T23:43:02.235525Z"
    },
    "papermill": {
     "duration": 0.01773,
     "end_time": "2024-02-02T23:43:02.240590",
     "exception": false,
     "start_time": "2024-02-02T23:43:02.222860",
     "status": "completed"
    },
    "tags": []
   },
   "outputs": [
    {
     "data": {
      "text/html": [
       "<ul>\n",
       "\n",
       "<li>description: An power law distribution function between a-b</li>\n",
       "\n",
       "<li>formula: $ f(x, \\alpha) = \\alpha x^{\\alpha-1)$</li>\n",
       "\n",
       "<li>parameters: \n",
       "<ul>\n",
       "\n",
       "<li>alpha: \n",
       "<ul>\n",
       "\n",
       "<li>value: 1.0</li>\n",
       "\n",
       "<li>desc: slope parameter</li>\n",
       "\n",
       "<li>min_value: 0.0</li>\n",
       "\n",
       "<li>max_value: None</li>\n",
       "\n",
       "<li>unit: </li>\n",
       "\n",
       "<li>is_normalization: False</li>\n",
       "\n",
       "<li>delta: 0.1</li>\n",
       "\n",
       "<li>free: True</li>\n",
       "\n",
       "</ul>\n",
       "\n",
       "</li>\n",
       "\n",
       "<li>a: \n",
       "<ul>\n",
       "\n",
       "<li>value: 0.0</li>\n",
       "\n",
       "<li>desc: lower bound of distribution</li>\n",
       "\n",
       "<li>min_value: 0.0</li>\n",
       "\n",
       "<li>max_value: None</li>\n",
       "\n",
       "<li>unit: </li>\n",
       "\n",
       "<li>is_normalization: False</li>\n",
       "\n",
       "<li>delta: 0.1</li>\n",
       "\n",
       "<li>free: True</li>\n",
       "\n",
       "</ul>\n",
       "\n",
       "</li>\n",
       "\n",
       "<li>b: \n",
       "<ul>\n",
       "\n",
       "<li>value: 1.0</li>\n",
       "\n",
       "<li>desc: upper bound of distribution</li>\n",
       "\n",
       "<li>min_value: 0.0</li>\n",
       "\n",
       "<li>max_value: None</li>\n",
       "\n",
       "<li>unit: </li>\n",
       "\n",
       "<li>is_normalization: False</li>\n",
       "\n",
       "<li>delta: 0.1</li>\n",
       "\n",
       "<li>free: True</li>\n",
       "\n",
       "</ul>\n",
       "\n",
       "</li>\n",
       "\n",
       "</ul>\n",
       "\n",
       "</li>\n",
       "\n",
       "</ul>\n"
      ],
      "text/plain": [
       "  * description: An power law distribution function between a-b\n",
       "  * formula: $ f(x, \\alpha) = \\alpha x^{\\alpha-1)$\n",
       "  * parameters:\n",
       "    * alpha:\n",
       "      * value: 1.0\n",
       "      * desc: slope parameter\n",
       "      * min_value: 0.0\n",
       "      * max_value: null\n",
       "      * unit: ''\n",
       "      * is_normalization: false\n",
       "      * delta: 0.1\n",
       "      * free: true\n",
       "    * a:\n",
       "      * value: 0.0\n",
       "      * desc: lower bound of distribution\n",
       "      * min_value: 0.0\n",
       "      * max_value: null\n",
       "      * unit: ''\n",
       "      * is_normalization: false\n",
       "      * delta: 0.1\n",
       "      * free: true\n",
       "    * b:\n",
       "      * value: 1.0\n",
       "      * desc: upper bound of distribution\n",
       "      * min_value: 0.0\n",
       "      * max_value: null\n",
       "      * unit: ''\n",
       "      * is_normalization: false\n",
       "      * delta: 0.1\n",
       "      * free: true"
      ]
     },
     "metadata": {},
     "output_type": "display_data"
    }
   ],
   "source": [
    "func.display()"
   ]
  },
  {
   "cell_type": "markdown",
   "id": "0939aaca",
   "metadata": {
    "papermill": {
     "duration": 0.002592,
     "end_time": "2024-02-02T23:43:02.245878",
     "exception": false,
     "start_time": "2024-02-02T23:43:02.243286",
     "status": "completed"
    },
    "tags": []
   },
   "source": [
    "## Shape \n",
    "\n",
    "The shape of the function. \n",
    "\n",
    "*If this is not a photon model but a prior or linear function then ignore the units as these docs are auto-generated*"
   ]
  },
  {
   "cell_type": "code",
   "execution_count": 6,
   "id": "8650a73a",
   "metadata": {
    "execution": {
     "iopub.execute_input": "2024-02-02T23:43:02.252464Z",
     "iopub.status.busy": "2024-02-02T23:43:02.252064Z",
     "iopub.status.idle": "2024-02-02T23:43:02.439387Z",
     "shell.execute_reply": "2024-02-02T23:43:02.438329Z"
    },
    "papermill": {
     "duration": 0.19444,
     "end_time": "2024-02-02T23:43:02.442751",
     "exception": false,
     "start_time": "2024-02-02T23:43:02.248311",
     "status": "completed"
    },
    "tags": [
     "nbsphinx-thumbnail"
    ]
   },
   "outputs": [
    {
     "data": {
      "text/plain": [
       "Text(0, 0.5, 'probability')"
      ]
     },
     "execution_count": 6,
     "metadata": {},
     "output_type": "execute_result"
    },
    {
     "data": {
      "image/png": "[encoded data removed]",
      "text/plain": [
       "<Figure size 1040x910 with 1 Axes>"
      ]
     },
     "metadata": {},
     "output_type": "display_data"
    }
   ],
   "source": [
    "fig, ax = plt.subplots()\n",
    "\n",
    "\n",
    "ax.plot(energy_grid, func(energy_grid), color=blue, lw=3)\n",
    "\n",
    "ax.set_xlabel(\"x\")\n",
    "ax.set_ylabel(\"probability\")\n"
   ]
  },
  {
   "cell_type": "markdown",
   "id": "f646e7ec",
   "metadata": {
    "papermill": {
     "duration": 0.002948,
     "end_time": "2024-02-02T23:43:02.448940",
     "exception": false,
     "start_time": "2024-02-02T23:43:02.445992",
     "status": "completed"
    },
    "tags": []
   },
   "source": [
    "## Random Number Generation\n",
    "\n",
    "This is how we can generate random numbers from the prior.\n"
   ]
  },
  {
   "cell_type": "code",
   "execution_count": 7,
   "id": "7f8bae25",
   "metadata": {
    "execution": {
     "iopub.execute_input": "2024-02-02T23:43:02.456369Z",
     "iopub.status.busy": "2024-02-02T23:43:02.455959Z",
     "iopub.status.idle": "2024-02-02T23:43:03.536203Z",
     "shell.execute_reply": "2024-02-02T23:43:03.535004Z"
    },
    "papermill": {
     "duration": 1.088218,
     "end_time": "2024-02-02T23:43:03.539918",
     "exception": false,
     "start_time": "2024-02-02T23:43:02.451700",
     "status": "completed"
    },
    "tags": []
   },
   "outputs": [
    {
     "data": {
      "text/plain": [
       "Text(0, 0.5, 'N')"
      ]
     },
     "execution_count": 7,
     "metadata": {},
     "output_type": "execute_result"
    },
    {
     "data": {
      "image/png": "[encoded data removed]",
      "text/plain": [
       "<Figure size 1040x910 with 1 Axes>"
      ]
     },
     "metadata": {},
     "output_type": "display_data"
    }
   ],
   "source": [
    "\n",
    "\n",
    "u = np.random.uniform(0,1, size=5000)\n",
    "\n",
    "draws = [func.from_unit_cube(x) for x in u]\n",
    "\n",
    "\n",
    "fig, ax = plt.subplots()\n",
    "\n",
    "\n",
    "ax.hist(draws, color=green, bins=50)\n",
    "\n",
    "ax.set_xlabel(\"value\")\n",
    "ax.set_ylabel(\"N\")\n",
    "\n"
   ]
  }
 ],
 "metadata": {
  "jupytext": {
   "formats": "ipynb,md"
  },
  "kernelspec": {
   "display_name": "Python 3 (ipykernel)",
   "language": "python",
   "name": "python3"
  },
  "language_info": {
   "codemirror_mode": {
    "name": "ipython",
    "version": 3
   },
   "file_extension": ".py",
   "mimetype": "text/x-python",
   "name": "python",
   "nbconvert_exporter": "python",
   "pygments_lexer": "ipython3",
   "version": "3.9.18"
  },
  "papermill": {
   "default_parameters": {},
   "duration": 5.392711,
   "end_time": "2024-02-02T23:43:04.071002",
   "environment_variables": {},
   "exception": null,
   "input_path": "Powerlaw_Prior.ipynb",
   "output_path": "/Users/runner/work/astromodels/astromodels/docs/notebooks/Powerlaw_Prior.ipynb",
   "parameters": {
    "func_name": "Powerlaw_Prior",
    "positive_prior": true
   },
   "start_time": "2024-02-02T23:42:58.678291",
   "version": "2.5.0"
  }
 },
 "nbformat": 4,
 "nbformat_minor": 5
}
