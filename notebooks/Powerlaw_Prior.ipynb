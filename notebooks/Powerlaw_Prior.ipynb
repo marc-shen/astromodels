{
 "cells": [
  {
   "cell_type": "markdown",
   "id": "0849be14",
   "metadata": {
    "papermill": {
     "duration": 0.004095,
     "end_time": "2022-09-28T05:16:45.985909",
     "exception": false,
     "start_time": "2022-09-28T05:16:45.981814",
     "status": "completed"
    },
    "tags": []
   },
   "source": [
    "# Powerlaw Prior"
   ]
  },
  {
   "cell_type": "code",
   "execution_count": 1,
   "id": "f895cd89",
   "metadata": {
    "execution": {
     "iopub.execute_input": "2022-09-28T05:16:45.996022Z",
     "iopub.status.busy": "2022-09-28T05:16:45.995372Z",
     "iopub.status.idle": "2022-09-28T05:16:50.609292Z",
     "shell.execute_reply": "2022-09-28T05:16:50.608058Z"
    },
    "nbsphinx": "hidden",
    "papermill": {
     "duration": 4.623122,
     "end_time": "2022-09-28T05:16:50.613054",
     "exception": false,
     "start_time": "2022-09-28T05:16:45.989932",
     "status": "completed"
    },
    "tags": []
   },
   "outputs": [],
   "source": [
    "%%capture\n",
    "\n",
    "import numpy as np\n",
    "\n",
    "import matplotlib.pyplot as plt\n",
    "\n",
    "import warnings\n",
    "warnings.simplefilter(\"ignore\")\n",
    "\n",
    "from astromodels.functions.function import _known_functions\n",
    "\n",
    "\n",
    "from jupyterthemes import jtplot\n",
    "jtplot.style(context=\"talk\", fscale=1, ticks=True, grid=False)\n",
    "%matplotlib inline"
   ]
  },
  {
   "cell_type": "code",
   "execution_count": 2,
   "id": "36798159",
   "metadata": {
    "execution": {
     "iopub.execute_input": "2022-09-28T05:16:50.622296Z",
     "iopub.status.busy": "2022-09-28T05:16:50.621566Z",
     "iopub.status.idle": "2022-09-28T05:16:50.630102Z",
     "shell.execute_reply": "2022-09-28T05:16:50.628758Z"
    },
    "nbsphinx": "hidden",
    "papermill": {
     "duration": 0.016355,
     "end_time": "2022-09-28T05:16:50.633417",
     "exception": false,
     "start_time": "2022-09-28T05:16:50.617062",
     "status": "completed"
    },
    "tags": [
     "parameters"
    ]
   },
   "outputs": [],
   "source": [
    "func_name = \"TbAbs\"\n",
    "\n",
    "positive_prior = False\n"
   ]
  },
  {
   "cell_type": "code",
   "execution_count": 3,
   "id": "4a19999a",
   "metadata": {
    "execution": {
     "iopub.execute_input": "2022-09-28T05:16:50.641720Z",
     "iopub.status.busy": "2022-09-28T05:16:50.641152Z",
     "iopub.status.idle": "2022-09-28T05:16:50.649816Z",
     "shell.execute_reply": "2022-09-28T05:16:50.648357Z"
    },
    "papermill": {
     "duration": 0.01656,
     "end_time": "2022-09-28T05:16:50.653055",
     "exception": false,
     "start_time": "2022-09-28T05:16:50.636495",
     "status": "completed"
    },
    "tags": [
     "injected-parameters"
    ]
   },
   "outputs": [],
   "source": [
    "# Parameters\n",
    "func_name = \"Powerlaw_Prior\"\n",
    "positive_prior = True\n"
   ]
  },
  {
   "cell_type": "code",
   "execution_count": 4,
   "id": "84f512f3",
   "metadata": {
    "execution": {
     "iopub.execute_input": "2022-09-28T05:16:50.661167Z",
     "iopub.status.busy": "2022-09-28T05:16:50.660753Z",
     "iopub.status.idle": "2022-09-28T05:16:50.667810Z",
     "shell.execute_reply": "2022-09-28T05:16:50.666787Z"
    },
    "lines_to_next_cell": 0,
    "nbsphinx": "hidden",
    "papermill": {
     "duration": 0.014828,
     "end_time": "2022-09-28T05:16:50.671022",
     "exception": false,
     "start_time": "2022-09-28T05:16:50.656194",
     "status": "completed"
    },
    "tags": []
   },
   "outputs": [],
   "source": [
    "func = _known_functions[func_name]()\n",
    "\n",
    "if not positive_prior:\n",
    "\n",
    "\tenergy_grid = np.linspace(-5,5,1000)\n",
    "\n",
    "else:\n",
    "    \n",
    "    energy_grid = np.linspace(0,1,1000)\n",
    "    \n",
    "    \n",
    "    \n",
    "    \n",
    "blue = \"#4152E3\"\n",
    "red = \"#E3414B\"\n",
    "green = \"#41E39E\""
   ]
  },
  {
   "cell_type": "markdown",
   "id": "3fd04f57",
   "metadata": {
    "lines_to_next_cell": 0,
    "papermill": {
     "duration": 0.003506,
     "end_time": "2022-09-28T05:16:50.677969",
     "exception": false,
     "start_time": "2022-09-28T05:16:50.674463",
     "status": "completed"
    },
    "tags": []
   },
   "source": [
    "## Description"
   ]
  },
  {
   "cell_type": "code",
   "execution_count": 5,
   "id": "52065636",
   "metadata": {
    "execution": {
     "iopub.execute_input": "2022-09-28T05:16:50.686092Z",
     "iopub.status.busy": "2022-09-28T05:16:50.685682Z",
     "iopub.status.idle": "2022-09-28T05:16:50.700982Z",
     "shell.execute_reply": "2022-09-28T05:16:50.699815Z"
    },
    "papermill": {
     "duration": 0.023243,
     "end_time": "2022-09-28T05:16:50.704573",
     "exception": false,
     "start_time": "2022-09-28T05:16:50.681330",
     "status": "completed"
    },
    "tags": []
   },
   "outputs": [
    {
     "data": {
      "text/html": [
       "<ul>\n",
       "\n",
       "<li>description: An power law distribution function between a-b</li>\n",
       "\n",
       "<li>formula: $ f(x, \\alpha) = \\alpha x^{\\alpha-1)$</li>\n",
       "\n",
       "<li>parameters: \n",
       "<ul>\n",
       "\n",
       "<li>alpha: \n",
       "<ul>\n",
       "\n",
       "<li>value: 1.0</li>\n",
       "\n",
       "<li>desc: slope parameter</li>\n",
       "\n",
       "<li>min_value: 0.0</li>\n",
       "\n",
       "<li>max_value: None</li>\n",
       "\n",
       "<li>unit: </li>\n",
       "\n",
       "<li>is_normalization: False</li>\n",
       "\n",
       "<li>delta: 0.1</li>\n",
       "\n",
       "<li>free: True</li>\n",
       "\n",
       "</ul>\n",
       "\n",
       "</li>\n",
       "\n",
       "<li>a: \n",
       "<ul>\n",
       "\n",
       "<li>value: 0.0</li>\n",
       "\n",
       "<li>desc: lower bound of distribution</li>\n",
       "\n",
       "<li>min_value: 0.0</li>\n",
       "\n",
       "<li>max_value: None</li>\n",
       "\n",
       "<li>unit: </li>\n",
       "\n",
       "<li>is_normalization: False</li>\n",
       "\n",
       "<li>delta: 0.1</li>\n",
       "\n",
       "<li>free: True</li>\n",
       "\n",
       "</ul>\n",
       "\n",
       "</li>\n",
       "\n",
       "<li>b: \n",
       "<ul>\n",
       "\n",
       "<li>value: 1.0</li>\n",
       "\n",
       "<li>desc: upper bound of distribution</li>\n",
       "\n",
       "<li>min_value: 0.0</li>\n",
       "\n",
       "<li>max_value: None</li>\n",
       "\n",
       "<li>unit: </li>\n",
       "\n",
       "<li>is_normalization: False</li>\n",
       "\n",
       "<li>delta: 0.1</li>\n",
       "\n",
       "<li>free: True</li>\n",
       "\n",
       "</ul>\n",
       "\n",
       "</li>\n",
       "\n",
       "</ul>\n",
       "\n",
       "</li>\n",
       "\n",
       "</ul>\n"
      ],
      "text/plain": [
       "  * description: An power law distribution function between a-b\n",
       "  * formula: $ f(x, \\alpha) = \\alpha x^{\\alpha-1)$\n",
       "  * parameters:\n",
       "    * alpha:\n",
       "      * value: 1.0\n",
       "      * desc: slope parameter\n",
       "      * min_value: 0.0\n",
       "      * max_value: null\n",
       "      * unit: ''\n",
       "      * is_normalization: false\n",
       "      * delta: 0.1\n",
       "      * free: true\n",
       "    * a:\n",
       "      * value: 0.0\n",
       "      * desc: lower bound of distribution\n",
       "      * min_value: 0.0\n",
       "      * max_value: null\n",
       "      * unit: ''\n",
       "      * is_normalization: false\n",
       "      * delta: 0.1\n",
       "      * free: true\n",
       "    * b:\n",
       "      * value: 1.0\n",
       "      * desc: upper bound of distribution\n",
       "      * min_value: 0.0\n",
       "      * max_value: null\n",
       "      * unit: ''\n",
       "      * is_normalization: false\n",
       "      * delta: 0.1\n",
       "      * free: true"
      ]
     },
     "metadata": {},
     "output_type": "display_data"
    }
   ],
   "source": [
    "func.display()"
   ]
  },
  {
   "cell_type": "markdown",
   "id": "ed7dcefa",
   "metadata": {
    "papermill": {
     "duration": 0.003183,
     "end_time": "2022-09-28T05:16:50.711625",
     "exception": false,
     "start_time": "2022-09-28T05:16:50.708442",
     "status": "completed"
    },
    "tags": []
   },
   "source": [
    "## Shape \n",
    "\n",
    "The shape of the function. \n",
    "\n",
    "*If this is not a photon model but a prior or linear function then ignore the units as these docs are auto-generated*"
   ]
  },
  {
   "cell_type": "code",
   "execution_count": 6,
   "id": "4f91661b",
   "metadata": {
    "execution": {
     "iopub.execute_input": "2022-09-28T05:16:50.720613Z",
     "iopub.status.busy": "2022-09-28T05:16:50.720199Z",
     "iopub.status.idle": "2022-09-28T05:16:51.121935Z",
     "shell.execute_reply": "2022-09-28T05:16:51.120649Z"
    },
    "papermill": {
     "duration": 0.411151,
     "end_time": "2022-09-28T05:16:51.126049",
     "exception": false,
     "start_time": "2022-09-28T05:16:50.714898",
     "status": "completed"
    },
    "tags": [
     "nbsphinx-thumbnail"
    ]
   },
   "outputs": [
    {
     "data": {
      "text/plain": [
       "Text(0, 0.5, 'probability')"
      ]
     },
     "execution_count": 6,
     "metadata": {},
     "output_type": "execute_result"
    },
    {
     "data": {
      "image/png": "[encoded data removed]",
      "text/plain": [
       "<Figure size 1040x910 with 1 Axes>"
      ]
     },
     "metadata": {},
     "output_type": "display_data"
    }
   ],
   "source": [
    "fig, ax = plt.subplots()\n",
    "\n",
    "\n",
    "ax.plot(energy_grid, func(energy_grid), color=blue, lw=3)\n",
    "\n",
    "ax.set_xlabel(\"x\")\n",
    "ax.set_ylabel(\"probability\")\n"
   ]
  },
  {
   "cell_type": "markdown",
   "id": "8997fc81",
   "metadata": {
    "papermill": {
     "duration": 0.004861,
     "end_time": "2022-09-28T05:16:51.135720",
     "exception": false,
     "start_time": "2022-09-28T05:16:51.130859",
     "status": "completed"
    },
    "tags": []
   },
   "source": [
    "## Random Number Generation\n",
    "\n",
    "This is how we can generate random numbers from the prior.\n"
   ]
  },
  {
   "cell_type": "code",
   "execution_count": 7,
   "id": "bdb156ae",
   "metadata": {
    "execution": {
     "iopub.execute_input": "2022-09-28T05:16:51.146132Z",
     "iopub.status.busy": "2022-09-28T05:16:51.145631Z",
     "iopub.status.idle": "2022-09-28T05:16:53.217238Z",
     "shell.execute_reply": "2022-09-28T05:16:53.215974Z"
    },
    "papermill": {
     "duration": 2.081077,
     "end_time": "2022-09-28T05:16:53.220608",
     "exception": false,
     "start_time": "2022-09-28T05:16:51.139531",
     "status": "completed"
    },
    "tags": []
   },
   "outputs": [
    {
     "data": {
      "text/plain": [
       "Text(0, 0.5, 'N')"
      ]
     },
     "execution_count": 7,
     "metadata": {},
     "output_type": "execute_result"
    },
    {
     "data": {
      "image/png": "[encoded data removed]",
      "text/plain": [
       "<Figure size 1040x910 with 1 Axes>"
      ]
     },
     "metadata": {},
     "output_type": "display_data"
    }
   ],
   "source": [
    "\n",
    "\n",
    "u = np.random.uniform(0,1, size=5000)\n",
    "\n",
    "draws = [func.from_unit_cube(x) for x in u]\n",
    "\n",
    "\n",
    "fig, ax = plt.subplots()\n",
    "\n",
    "\n",
    "ax.hist(draws, color=green, bins=50)\n",
    "\n",
    "ax.set_xlabel(\"value\")\n",
    "ax.set_ylabel(\"N\")\n",
    "\n"
   ]
  }
 ],
 "metadata": {
  "jupytext": {
   "formats": "ipynb,md"
  },
  "kernelspec": {
   "display_name": "Python 3 (ipykernel)",
   "language": "python",
   "name": "python3"
  },
  "language_info": {
   "codemirror_mode": {
    "name": "ipython",
    "version": 3
   },
   "file_extension": ".py",
   "mimetype": "text/x-python",
   "name": "python",
   "nbconvert_exporter": "python",
   "pygments_lexer": "ipython3",
   "version": "3.9.14"
  },
  "papermill": {
   "default_parameters": {},
   "duration": 9.523987,
   "end_time": "2022-09-28T05:16:54.049074",
   "environment_variables": {},
   "exception": null,
   "input_path": "Powerlaw_Prior.ipynb",
   "output_path": "/Users/runner/work/astromodels/astromodels/docs/notebooks/Powerlaw_Prior.ipynb",
   "parameters": {
    "func_name": "Powerlaw_Prior",
    "positive_prior": true
   },
   "start_time": "2022-09-28T05:16:44.525087",
   "version": "2.4.0"
  }
 },
 "nbformat": 4,
 "nbformat_minor": 5
}
