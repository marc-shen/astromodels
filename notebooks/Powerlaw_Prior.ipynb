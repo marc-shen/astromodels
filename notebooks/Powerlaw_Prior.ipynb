{
 "cells": [
  {
   "cell_type": "markdown",
   "id": "b3a74246",
   "metadata": {
    "papermill": {
     "duration": 0.006817,
     "end_time": "2024-02-06T22:38:27.828042",
     "exception": false,
     "start_time": "2024-02-06T22:38:27.821225",
     "status": "completed"
    },
    "tags": []
   },
   "source": [
    "# Powerlaw Prior"
   ]
  },
  {
   "cell_type": "code",
   "execution_count": 1,
   "id": "44d8cd96",
   "metadata": {
    "execution": {
     "iopub.execute_input": "2024-02-06T22:38:27.841740Z",
     "iopub.status.busy": "2024-02-06T22:38:27.840982Z",
     "iopub.status.idle": "2024-02-06T22:38:33.154416Z",
     "shell.execute_reply": "2024-02-06T22:38:33.151678Z"
    },
    "nbsphinx": "hidden",
    "papermill": {
     "duration": 5.327193,
     "end_time": "2024-02-06T22:38:33.160603",
     "exception": false,
     "start_time": "2024-02-06T22:38:27.833410",
     "status": "completed"
    },
    "tags": []
   },
   "outputs": [],
   "source": [
    "%%capture\n",
    "\n",
    "import numpy as np\n",
    "\n",
    "import matplotlib.pyplot as plt\n",
    "\n",
    "import warnings\n",
    "warnings.simplefilter(\"ignore\")\n",
    "\n",
    "from astromodels.functions.function import _known_functions\n",
    "\n",
    "\n",
    "from jupyterthemes import jtplot\n",
    "jtplot.style(context=\"talk\", fscale=1, ticks=True, grid=False)\n",
    "%matplotlib inline"
   ]
  },
  {
   "cell_type": "code",
   "execution_count": 2,
   "id": "2bc511fb",
   "metadata": {
    "execution": {
     "iopub.execute_input": "2024-02-06T22:38:33.171706Z",
     "iopub.status.busy": "2024-02-06T22:38:33.171170Z",
     "iopub.status.idle": "2024-02-06T22:38:33.181259Z",
     "shell.execute_reply": "2024-02-06T22:38:33.178599Z"
    },
    "nbsphinx": "hidden",
    "papermill": {
     "duration": 0.023565,
     "end_time": "2024-02-06T22:38:33.187981",
     "exception": false,
     "start_time": "2024-02-06T22:38:33.164416",
     "status": "completed"
    },
    "tags": [
     "parameters"
    ]
   },
   "outputs": [],
   "source": [
    "func_name = \"TbAbs\"\n",
    "\n",
    "positive_prior = False\n"
   ]
  },
  {
   "cell_type": "code",
   "execution_count": 3,
   "id": "b6117e4c",
   "metadata": {
    "execution": {
     "iopub.execute_input": "2024-02-06T22:38:33.203052Z",
     "iopub.status.busy": "2024-02-06T22:38:33.202380Z",
     "iopub.status.idle": "2024-02-06T22:38:33.211799Z",
     "shell.execute_reply": "2024-02-06T22:38:33.208879Z"
    },
    "papermill": {
     "duration": 0.023712,
     "end_time": "2024-02-06T22:38:33.218698",
     "exception": false,
     "start_time": "2024-02-06T22:38:33.194986",
     "status": "completed"
    },
    "tags": [
     "injected-parameters"
    ]
   },
   "outputs": [],
   "source": [
    "# Parameters\n",
    "func_name = \"Powerlaw_Prior\"\n",
    "positive_prior = True\n"
   ]
  },
  {
   "cell_type": "code",
   "execution_count": 4,
   "id": "1914428c",
   "metadata": {
    "execution": {
     "iopub.execute_input": "2024-02-06T22:38:33.228878Z",
     "iopub.status.busy": "2024-02-06T22:38:33.228225Z",
     "iopub.status.idle": "2024-02-06T22:38:33.242583Z",
     "shell.execute_reply": "2024-02-06T22:38:33.240117Z"
    },
    "lines_to_next_cell": 0,
    "nbsphinx": "hidden",
    "papermill": {
     "duration": 0.027778,
     "end_time": "2024-02-06T22:38:33.249990",
     "exception": false,
     "start_time": "2024-02-06T22:38:33.222212",
     "status": "completed"
    },
    "tags": []
   },
   "outputs": [],
   "source": [
    "func = _known_functions[func_name]()\n",
    "\n",
    "if not positive_prior:\n",
    "\n",
    "\tenergy_grid = np.linspace(-5,5,1000)\n",
    "\n",
    "else:\n",
    "    \n",
    "    energy_grid = np.linspace(0,1,1000)\n",
    "    \n",
    "    \n",
    "    \n",
    "    \n",
    "blue = \"#4152E3\"\n",
    "red = \"#E3414B\"\n",
    "green = \"#41E39E\""
   ]
  },
  {
   "cell_type": "markdown",
   "id": "f6b14f6b",
   "metadata": {
    "lines_to_next_cell": 0,
    "papermill": {
     "duration": 0.005336,
     "end_time": "2024-02-06T22:38:33.260313",
     "exception": false,
     "start_time": "2024-02-06T22:38:33.254977",
     "status": "completed"
    },
    "tags": []
   },
   "source": [
    "## Description"
   ]
  },
  {
   "cell_type": "code",
   "execution_count": 5,
   "id": "f9147560",
   "metadata": {
    "execution": {
     "iopub.execute_input": "2024-02-06T22:38:33.270829Z",
     "iopub.status.busy": "2024-02-06T22:38:33.270148Z",
     "iopub.status.idle": "2024-02-06T22:38:33.288541Z",
     "shell.execute_reply": "2024-02-06T22:38:33.285216Z"
    },
    "papermill": {
     "duration": 0.031043,
     "end_time": "2024-02-06T22:38:33.295142",
     "exception": false,
     "start_time": "2024-02-06T22:38:33.264099",
     "status": "completed"
    },
    "tags": []
   },
   "outputs": [
    {
     "data": {
      "text/html": [
       "<ul>\n",
       "\n",
       "<li>description: An power law distribution function between a-b</li>\n",
       "\n",
       "<li>formula: $ f(x, \\alpha) = \\alpha x^{\\alpha-1)$</li>\n",
       "\n",
       "<li>parameters: \n",
       "<ul>\n",
       "\n",
       "<li>alpha: \n",
       "<ul>\n",
       "\n",
       "<li>value: 1.0</li>\n",
       "\n",
       "<li>desc: slope parameter</li>\n",
       "\n",
       "<li>min_value: 0.0</li>\n",
       "\n",
       "<li>max_value: None</li>\n",
       "\n",
       "<li>unit: </li>\n",
       "\n",
       "<li>is_normalization: False</li>\n",
       "\n",
       "<li>delta: 0.1</li>\n",
       "\n",
       "<li>free: True</li>\n",
       "\n",
       "</ul>\n",
       "\n",
       "</li>\n",
       "\n",
       "<li>a: \n",
       "<ul>\n",
       "\n",
       "<li>value: 0.0</li>\n",
       "\n",
       "<li>desc: lower bound of distribution</li>\n",
       "\n",
       "<li>min_value: 0.0</li>\n",
       "\n",
       "<li>max_value: None</li>\n",
       "\n",
       "<li>unit: </li>\n",
       "\n",
       "<li>is_normalization: False</li>\n",
       "\n",
       "<li>delta: 0.1</li>\n",
       "\n",
       "<li>free: True</li>\n",
       "\n",
       "</ul>\n",
       "\n",
       "</li>\n",
       "\n",
       "<li>b: \n",
       "<ul>\n",
       "\n",
       "<li>value: 1.0</li>\n",
       "\n",
       "<li>desc: upper bound of distribution</li>\n",
       "\n",
       "<li>min_value: 0.0</li>\n",
       "\n",
       "<li>max_value: None</li>\n",
       "\n",
       "<li>unit: </li>\n",
       "\n",
       "<li>is_normalization: False</li>\n",
       "\n",
       "<li>delta: 0.1</li>\n",
       "\n",
       "<li>free: True</li>\n",
       "\n",
       "</ul>\n",
       "\n",
       "</li>\n",
       "\n",
       "</ul>\n",
       "\n",
       "</li>\n",
       "\n",
       "</ul>\n"
      ],
      "text/plain": [
       "  * description: An power law distribution function between a-b\n",
       "  * formula: $ f(x, \\alpha) = \\alpha x^{\\alpha-1)$\n",
       "  * parameters:\n",
       "    * alpha:\n",
       "      * value: 1.0\n",
       "      * desc: slope parameter\n",
       "      * min_value: 0.0\n",
       "      * max_value: null\n",
       "      * unit: ''\n",
       "      * is_normalization: false\n",
       "      * delta: 0.1\n",
       "      * free: true\n",
       "    * a:\n",
       "      * value: 0.0\n",
       "      * desc: lower bound of distribution\n",
       "      * min_value: 0.0\n",
       "      * max_value: null\n",
       "      * unit: ''\n",
       "      * is_normalization: false\n",
       "      * delta: 0.1\n",
       "      * free: true\n",
       "    * b:\n",
       "      * value: 1.0\n",
       "      * desc: upper bound of distribution\n",
       "      * min_value: 0.0\n",
       "      * max_value: null\n",
       "      * unit: ''\n",
       "      * is_normalization: false\n",
       "      * delta: 0.1\n",
       "      * free: true"
      ]
     },
     "metadata": {},
     "output_type": "display_data"
    }
   ],
   "source": [
    "func.display()"
   ]
  },
  {
   "cell_type": "markdown",
   "id": "65f1167c",
   "metadata": {
    "papermill": {
     "duration": 0.00439,
     "end_time": "2024-02-06T22:38:33.303821",
     "exception": false,
     "start_time": "2024-02-06T22:38:33.299431",
     "status": "completed"
    },
    "tags": []
   },
   "source": [
    "## Shape \n",
    "\n",
    "The shape of the function. \n",
    "\n",
    "*If this is not a photon model but a prior or linear function then ignore the units as these docs are auto-generated*"
   ]
  },
  {
   "cell_type": "code",
   "execution_count": 6,
   "id": "af8dd6aa",
   "metadata": {
    "execution": {
     "iopub.execute_input": "2024-02-06T22:38:33.318545Z",
     "iopub.status.busy": "2024-02-06T22:38:33.317770Z",
     "iopub.status.idle": "2024-02-06T22:38:33.664233Z",
     "shell.execute_reply": "2024-02-06T22:38:33.660704Z"
    },
    "papermill": {
     "duration": 0.362773,
     "end_time": "2024-02-06T22:38:33.671852",
     "exception": false,
     "start_time": "2024-02-06T22:38:33.309079",
     "status": "completed"
    },
    "tags": [
     "nbsphinx-thumbnail"
    ]
   },
   "outputs": [
    {
     "data": {
      "text/plain": [
       "Text(0, 0.5, 'probability')"
      ]
     },
     "execution_count": 6,
     "metadata": {},
     "output_type": "execute_result"
    },
    {
     "data": {
      "image/png": "[encoded data removed]",
      "text/plain": [
       "<Figure size 1040x910 with 1 Axes>"
      ]
     },
     "metadata": {},
     "output_type": "display_data"
    }
   ],
   "source": [
    "fig, ax = plt.subplots()\n",
    "\n",
    "\n",
    "ax.plot(energy_grid, func(energy_grid), color=blue, lw=3)\n",
    "\n",
    "ax.set_xlabel(\"x\")\n",
    "ax.set_ylabel(\"probability\")\n"
   ]
  },
  {
   "cell_type": "markdown",
   "id": "e2e74b8c",
   "metadata": {
    "papermill": {
     "duration": 0.007722,
     "end_time": "2024-02-06T22:38:33.686534",
     "exception": false,
     "start_time": "2024-02-06T22:38:33.678812",
     "status": "completed"
    },
    "tags": []
   },
   "source": [
    "## Random Number Generation\n",
    "\n",
    "This is how we can generate random numbers from the prior.\n"
   ]
  },
  {
   "cell_type": "code",
   "execution_count": 7,
   "id": "3fb1a57b",
   "metadata": {
    "execution": {
     "iopub.execute_input": "2024-02-06T22:38:33.703937Z",
     "iopub.status.busy": "2024-02-06T22:38:33.703000Z",
     "iopub.status.idle": "2024-02-06T22:38:35.495892Z",
     "shell.execute_reply": "2024-02-06T22:38:35.492487Z"
    },
    "papermill": {
     "duration": 1.810543,
     "end_time": "2024-02-06T22:38:35.503832",
     "exception": false,
     "start_time": "2024-02-06T22:38:33.693289",
     "status": "completed"
    },
    "tags": []
   },
   "outputs": [
    {
     "data": {
      "text/plain": [
       "Text(0, 0.5, 'N')"
      ]
     },
     "execution_count": 7,
     "metadata": {},
     "output_type": "execute_result"
    },
    {
     "data": {
      "image/png": "[encoded data removed]",
      "text/plain": [
       "<Figure size 1040x910 with 1 Axes>"
      ]
     },
     "metadata": {},
     "output_type": "display_data"
    }
   ],
   "source": [
    "\n",
    "\n",
    "u = np.random.uniform(0,1, size=5000)\n",
    "\n",
    "draws = [func.from_unit_cube(x) for x in u]\n",
    "\n",
    "\n",
    "fig, ax = plt.subplots()\n",
    "\n",
    "\n",
    "ax.hist(draws, color=green, bins=50)\n",
    "\n",
    "ax.set_xlabel(\"value\")\n",
    "ax.set_ylabel(\"N\")\n",
    "\n"
   ]
  }
 ],
 "metadata": {
  "jupytext": {
   "formats": "ipynb,md"
  },
  "kernelspec": {
   "display_name": "Python 3 (ipykernel)",
   "language": "python",
   "name": "python3"
  },
  "language_info": {
   "codemirror_mode": {
    "name": "ipython",
    "version": 3
   },
   "file_extension": ".py",
   "mimetype": "text/x-python",
   "name": "python",
   "nbconvert_exporter": "python",
   "pygments_lexer": "ipython3",
   "version": "3.9.18"
  },
  "papermill": {
   "default_parameters": {},
   "duration": 10.123764,
   "end_time": "2024-02-06T22:38:36.349313",
   "environment_variables": {},
   "exception": null,
   "input_path": "Powerlaw_Prior.ipynb",
   "output_path": "/Users/runner/work/astromodels/astromodels/docs/notebooks/Powerlaw_Prior.ipynb",
   "parameters": {
    "func_name": "Powerlaw_Prior",
    "positive_prior": true
   },
   "start_time": "2024-02-06T22:38:26.225549",
   "version": "2.5.0"
  }
 },
 "nbformat": 4,
 "nbformat_minor": 5
}
