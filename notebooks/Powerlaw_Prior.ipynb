{
 "cells": [
  {
   "cell_type": "markdown",
   "id": "db2d9de8",
   "metadata": {
    "papermill": {
     "duration": 0.009003,
     "end_time": "2025-04-26T01:25:18.684546",
     "exception": false,
     "start_time": "2025-04-26T01:25:18.675543",
     "status": "completed"
    },
    "tags": []
   },
   "source": [
    "# Powerlaw Prior"
   ]
  },
  {
   "cell_type": "code",
   "execution_count": 1,
   "id": "1331a72c",
   "metadata": {
    "execution": {
     "iopub.execute_input": "2025-04-26T01:25:18.696790Z",
     "iopub.status.busy": "2025-04-26T01:25:18.696277Z",
     "iopub.status.idle": "2025-04-26T01:25:20.105005Z",
     "shell.execute_reply": "2025-04-26T01:25:20.104355Z"
    },
    "nbsphinx": "hidden",
    "papermill": {
     "duration": 1.416543,
     "end_time": "2025-04-26T01:25:20.106652",
     "exception": false,
     "start_time": "2025-04-26T01:25:18.690109",
     "status": "completed"
    },
    "tags": []
   },
   "outputs": [],
   "source": [
    "%%capture\n",
    "\n",
    "import numpy as np\n",
    "\n",
    "import matplotlib.pyplot as plt\n",
    "\n",
    "import warnings\n",
    "warnings.simplefilter(\"ignore\")\n",
    "\n",
    "from astromodels.functions.function import _known_functions\n",
    "\n",
    "\n",
    "from jupyterthemes import jtplot\n",
    "jtplot.style(context=\"talk\", fscale=1, ticks=True, grid=False)\n",
    "%matplotlib inline"
   ]
  },
  {
   "cell_type": "code",
   "execution_count": 2,
   "id": "90247ac8",
   "metadata": {
    "execution": {
     "iopub.execute_input": "2025-04-26T01:25:20.110947Z",
     "iopub.status.busy": "2025-04-26T01:25:20.110474Z",
     "iopub.status.idle": "2025-04-26T01:25:20.118974Z",
     "shell.execute_reply": "2025-04-26T01:25:20.118580Z"
    },
    "nbsphinx": "hidden",
    "papermill": {
     "duration": 0.011629,
     "end_time": "2025-04-26T01:25:20.120127",
     "exception": false,
     "start_time": "2025-04-26T01:25:20.108498",
     "status": "completed"
    },
    "tags": [
     "parameters"
    ]
   },
   "outputs": [],
   "source": [
    "func_name = \"TbAbs\"\n",
    "\n",
    "positive_prior = False\n"
   ]
  },
  {
   "cell_type": "code",
   "execution_count": 3,
   "id": "6fee8d3a",
   "metadata": {
    "execution": {
     "iopub.execute_input": "2025-04-26T01:25:20.123191Z",
     "iopub.status.busy": "2025-04-26T01:25:20.123001Z",
     "iopub.status.idle": "2025-04-26T01:25:20.125154Z",
     "shell.execute_reply": "2025-04-26T01:25:20.124754Z"
    },
    "papermill": {
     "duration": 0.004996,
     "end_time": "2025-04-26T01:25:20.126369",
     "exception": false,
     "start_time": "2025-04-26T01:25:20.121373",
     "status": "completed"
    },
    "tags": [
     "injected-parameters"
    ]
   },
   "outputs": [],
   "source": [
    "# Parameters\n",
    "func_name = \"Powerlaw_Prior\"\n",
    "positive_prior = True\n"
   ]
  },
  {
   "cell_type": "code",
   "execution_count": 4,
   "id": "19282672",
   "metadata": {
    "execution": {
     "iopub.execute_input": "2025-04-26T01:25:20.129359Z",
     "iopub.status.busy": "2025-04-26T01:25:20.129187Z",
     "iopub.status.idle": "2025-04-26T01:25:20.138764Z",
     "shell.execute_reply": "2025-04-26T01:25:20.138181Z"
    },
    "lines_to_next_cell": 0,
    "nbsphinx": "hidden",
    "papermill": {
     "duration": 0.01233,
     "end_time": "2025-04-26T01:25:20.139958",
     "exception": false,
     "start_time": "2025-04-26T01:25:20.127628",
     "status": "completed"
    },
    "tags": []
   },
   "outputs": [],
   "source": [
    "func = _known_functions[func_name]()\n",
    "\n",
    "if not positive_prior:\n",
    "\n",
    "\tenergy_grid = np.linspace(-5,5,1000)\n",
    "\n",
    "else:\n",
    "    \n",
    "    energy_grid = np.linspace(0,1,1000)\n",
    "    \n",
    "    \n",
    "    \n",
    "    \n",
    "blue = \"#4152E3\"\n",
    "red = \"#E3414B\"\n",
    "green = \"#41E39E\""
   ]
  },
  {
   "cell_type": "markdown",
   "id": "cdb73390",
   "metadata": {
    "lines_to_next_cell": 0,
    "papermill": {
     "duration": 0.001091,
     "end_time": "2025-04-26T01:25:20.142364",
     "exception": false,
     "start_time": "2025-04-26T01:25:20.141273",
     "status": "completed"
    },
    "tags": []
   },
   "source": [
    "## Description"
   ]
  },
  {
   "cell_type": "code",
   "execution_count": 5,
   "id": "1bce41f3",
   "metadata": {
    "execution": {
     "iopub.execute_input": "2025-04-26T01:25:20.145320Z",
     "iopub.status.busy": "2025-04-26T01:25:20.145123Z",
     "iopub.status.idle": "2025-04-26T01:25:20.149685Z",
     "shell.execute_reply": "2025-04-26T01:25:20.149248Z"
    },
    "papermill": {
     "duration": 0.007488,
     "end_time": "2025-04-26T01:25:20.150882",
     "exception": false,
     "start_time": "2025-04-26T01:25:20.143394",
     "status": "completed"
    },
    "tags": []
   },
   "outputs": [
    {
     "data": {
      "text/html": [
       "<ul>\n",
       "\n",
       "<li>description: An power law distribution function between a-b</li>\n",
       "\n",
       "<li>formula: $ f(x, \\alpha) = \\alpha x^{\\alpha-1)$</li>\n",
       "\n",
       "<li>parameters: \n",
       "<ul>\n",
       "\n",
       "<li>alpha: \n",
       "<ul>\n",
       "\n",
       "<li>value: 1.0</li>\n",
       "\n",
       "<li>desc: slope parameter</li>\n",
       "\n",
       "<li>min_value: 0.0</li>\n",
       "\n",
       "<li>max_value: None</li>\n",
       "\n",
       "<li>unit: </li>\n",
       "\n",
       "<li>is_normalization: False</li>\n",
       "\n",
       "<li>delta: 0.1</li>\n",
       "\n",
       "<li>free: True</li>\n",
       "\n",
       "</ul>\n",
       "\n",
       "</li>\n",
       "\n",
       "<li>a: \n",
       "<ul>\n",
       "\n",
       "<li>value: 0.0</li>\n",
       "\n",
       "<li>desc: lower bound of distribution</li>\n",
       "\n",
       "<li>min_value: 0.0</li>\n",
       "\n",
       "<li>max_value: None</li>\n",
       "\n",
       "<li>unit: </li>\n",
       "\n",
       "<li>is_normalization: False</li>\n",
       "\n",
       "<li>delta: 0.1</li>\n",
       "\n",
       "<li>free: True</li>\n",
       "\n",
       "</ul>\n",
       "\n",
       "</li>\n",
       "\n",
       "<li>b: \n",
       "<ul>\n",
       "\n",
       "<li>value: 1.0</li>\n",
       "\n",
       "<li>desc: upper bound of distribution</li>\n",
       "\n",
       "<li>min_value: 0.0</li>\n",
       "\n",
       "<li>max_value: None</li>\n",
       "\n",
       "<li>unit: </li>\n",
       "\n",
       "<li>is_normalization: False</li>\n",
       "\n",
       "<li>delta: 0.1</li>\n",
       "\n",
       "<li>free: True</li>\n",
       "\n",
       "</ul>\n",
       "\n",
       "</li>\n",
       "\n",
       "</ul>\n",
       "\n",
       "</li>\n",
       "\n",
       "</ul>\n"
      ],
      "text/plain": [
       "  * description: An power law distribution function between a-b\n",
       "  * formula: $ f(x, \\alpha) = \\alpha x^{\\alpha-1)$\n",
       "  * parameters:\n",
       "    * alpha:\n",
       "      * value: 1.0\n",
       "      * desc: slope parameter\n",
       "      * min_value: 0.0\n",
       "      * max_value: null\n",
       "      * unit: ''\n",
       "      * is_normalization: false\n",
       "      * delta: 0.1\n",
       "      * free: true\n",
       "    * a:\n",
       "      * value: 0.0\n",
       "      * desc: lower bound of distribution\n",
       "      * min_value: 0.0\n",
       "      * max_value: null\n",
       "      * unit: ''\n",
       "      * is_normalization: false\n",
       "      * delta: 0.1\n",
       "      * free: true\n",
       "    * b:\n",
       "      * value: 1.0\n",
       "      * desc: upper bound of distribution\n",
       "      * min_value: 0.0\n",
       "      * max_value: null\n",
       "      * unit: ''\n",
       "      * is_normalization: false\n",
       "      * delta: 0.1\n",
       "      * free: true"
      ]
     },
     "metadata": {},
     "output_type": "display_data"
    }
   ],
   "source": [
    "func.display()"
   ]
  },
  {
   "cell_type": "markdown",
   "id": "11b940bb",
   "metadata": {
    "papermill": {
     "duration": 0.001176,
     "end_time": "2025-04-26T01:25:20.153572",
     "exception": false,
     "start_time": "2025-04-26T01:25:20.152396",
     "status": "completed"
    },
    "tags": []
   },
   "source": [
    "## Shape \n",
    "\n",
    "The shape of the function. \n",
    "\n",
    "*If this is not a photon model but a prior or linear function then ignore the units as these docs are auto-generated*"
   ]
  },
  {
   "cell_type": "code",
   "execution_count": 6,
   "id": "2bddea37",
   "metadata": {
    "execution": {
     "iopub.execute_input": "2025-04-26T01:25:20.156700Z",
     "iopub.status.busy": "2025-04-26T01:25:20.156507Z",
     "iopub.status.idle": "2025-04-26T01:25:20.229448Z",
     "shell.execute_reply": "2025-04-26T01:25:20.228940Z"
    },
    "papermill": {
     "duration": 0.075746,
     "end_time": "2025-04-26T01:25:20.230446",
     "exception": false,
     "start_time": "2025-04-26T01:25:20.154700",
     "status": "completed"
    },
    "tags": [
     "nbsphinx-thumbnail"
    ]
   },
   "outputs": [
    {
     "data": {
      "text/plain": [
       "Text(0, 0.5, 'probability')"
      ]
     },
     "execution_count": 6,
     "metadata": {},
     "output_type": "execute_result"
    },
    {
     "data": {
      "image/png": "[encoded data removed]",
      "text/plain": [
       "<Figure size 1040x910 with 1 Axes>"
      ]
     },
     "metadata": {},
     "output_type": "display_data"
    }
   ],
   "source": [
    "fig, ax = plt.subplots()\n",
    "\n",
    "\n",
    "ax.plot(energy_grid, func(energy_grid), color=blue, lw=3)\n",
    "\n",
    "ax.set_xlabel(\"x\")\n",
    "ax.set_ylabel(\"probability\")\n"
   ]
  },
  {
   "cell_type": "markdown",
   "id": "3c9abecd",
   "metadata": {
    "papermill": {
     "duration": 0.001332,
     "end_time": "2025-04-26T01:25:20.233394",
     "exception": false,
     "start_time": "2025-04-26T01:25:20.232062",
     "status": "completed"
    },
    "tags": []
   },
   "source": [
    "## Random Number Generation\n",
    "\n",
    "This is how we can generate random numbers from the prior.\n"
   ]
  },
  {
   "cell_type": "code",
   "execution_count": 7,
   "id": "59f2509c",
   "metadata": {
    "execution": {
     "iopub.execute_input": "2025-04-26T01:25:20.236513Z",
     "iopub.status.busy": "2025-04-26T01:25:20.236376Z",
     "iopub.status.idle": "2025-04-26T01:25:20.567364Z",
     "shell.execute_reply": "2025-04-26T01:25:20.566981Z"
    },
    "papermill": {
     "duration": 0.333951,
     "end_time": "2025-04-26T01:25:20.568601",
     "exception": false,
     "start_time": "2025-04-26T01:25:20.234650",
     "status": "completed"
    },
    "tags": []
   },
   "outputs": [
    {
     "data": {
      "text/plain": [
       "Text(0, 0.5, 'N')"
      ]
     },
     "execution_count": 7,
     "metadata": {},
     "output_type": "execute_result"
    },
    {
     "data": {
      "image/png": "[encoded data removed]",
      "text/plain": [
       "<Figure size 1040x910 with 1 Axes>"
      ]
     },
     "metadata": {},
     "output_type": "display_data"
    }
   ],
   "source": [
    "\n",
    "\n",
    "u = np.random.uniform(0,1, size=5000)\n",
    "\n",
    "draws = [func.from_unit_cube(x) for x in u]\n",
    "\n",
    "\n",
    "fig, ax = plt.subplots()\n",
    "\n",
    "\n",
    "ax.hist(draws, color=green, bins=50)\n",
    "\n",
    "ax.set_xlabel(\"value\")\n",
    "ax.set_ylabel(\"N\")\n",
    "\n"
   ]
  }
 ],
 "metadata": {
  "jupytext": {
   "formats": "ipynb,md"
  },
  "kernelspec": {
   "display_name": "Python 3 (ipykernel)",
   "language": "python",
   "name": "python3"
  },
  "language_info": {
   "codemirror_mode": {
    "name": "ipython",
    "version": 3
   },
   "file_extension": ".py",
   "mimetype": "text/x-python",
   "name": "python",
   "nbconvert_exporter": "python",
   "pygments_lexer": "ipython3",
   "version": "3.9.13"
  },
  "papermill": {
   "default_parameters": {},
   "duration": 2.831279,
   "end_time": "2025-04-26T01:25:20.902678",
   "environment_variables": {},
   "exception": null,
   "input_path": "Powerlaw_Prior.ipynb",
   "output_path": "/Users/runner/work/astromodels/astromodels/docs/notebooks/Powerlaw_Prior.ipynb",
   "parameters": {
    "func_name": "Powerlaw_Prior",
    "positive_prior": true
   },
   "start_time": "2025-04-26T01:25:18.071399",
   "version": "2.6.0"
  }
 },
 "nbformat": 4,
 "nbformat_minor": 5
}
