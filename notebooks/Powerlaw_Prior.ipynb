{
 "cells": [
  {
   "cell_type": "markdown",
   "id": "cfadd568",
   "metadata": {
    "papermill": {
     "duration": 0.004366,
     "end_time": "2024-05-08T19:23:03.928731",
     "exception": false,
     "start_time": "2024-05-08T19:23:03.924365",
     "status": "completed"
    },
    "tags": []
   },
   "source": [
    "# Powerlaw Prior"
   ]
  },
  {
   "cell_type": "code",
   "execution_count": 1,
   "id": "6e75421c",
   "metadata": {
    "execution": {
     "iopub.execute_input": "2024-05-08T19:23:03.940619Z",
     "iopub.status.busy": "2024-05-08T19:23:03.940113Z",
     "iopub.status.idle": "2024-05-08T19:23:05.529867Z",
     "shell.execute_reply": "2024-05-08T19:23:05.529134Z"
    },
    "nbsphinx": "hidden",
    "papermill": {
     "duration": 1.596653,
     "end_time": "2024-05-08T19:23:05.531539",
     "exception": false,
     "start_time": "2024-05-08T19:23:03.934886",
     "status": "completed"
    },
    "tags": []
   },
   "outputs": [],
   "source": [
    "%%capture\n",
    "\n",
    "import numpy as np\n",
    "\n",
    "import matplotlib.pyplot as plt\n",
    "\n",
    "import warnings\n",
    "warnings.simplefilter(\"ignore\")\n",
    "\n",
    "from astromodels.functions.function import _known_functions\n",
    "\n",
    "\n",
    "from jupyterthemes import jtplot\n",
    "jtplot.style(context=\"talk\", fscale=1, ticks=True, grid=False)\n",
    "%matplotlib inline"
   ]
  },
  {
   "cell_type": "code",
   "execution_count": 2,
   "id": "c43cffa8",
   "metadata": {
    "execution": {
     "iopub.execute_input": "2024-05-08T19:23:05.534957Z",
     "iopub.status.busy": "2024-05-08T19:23:05.534587Z",
     "iopub.status.idle": "2024-05-08T19:23:05.543237Z",
     "shell.execute_reply": "2024-05-08T19:23:05.542772Z"
    },
    "nbsphinx": "hidden",
    "papermill": {
     "duration": 0.011602,
     "end_time": "2024-05-08T19:23:05.544508",
     "exception": false,
     "start_time": "2024-05-08T19:23:05.532906",
     "status": "completed"
    },
    "tags": [
     "parameters"
    ]
   },
   "outputs": [],
   "source": [
    "func_name = \"TbAbs\"\n",
    "\n",
    "positive_prior = False\n"
   ]
  },
  {
   "cell_type": "code",
   "execution_count": 3,
   "id": "c9ff9409",
   "metadata": {
    "execution": {
     "iopub.execute_input": "2024-05-08T19:23:05.547139Z",
     "iopub.status.busy": "2024-05-08T19:23:05.546994Z",
     "iopub.status.idle": "2024-05-08T19:23:05.553829Z",
     "shell.execute_reply": "2024-05-08T19:23:05.553414Z"
    },
    "papermill": {
     "duration": 0.009619,
     "end_time": "2024-05-08T19:23:05.555132",
     "exception": false,
     "start_time": "2024-05-08T19:23:05.545513",
     "status": "completed"
    },
    "tags": [
     "injected-parameters"
    ]
   },
   "outputs": [],
   "source": [
    "# Parameters\n",
    "func_name = \"Powerlaw_Prior\"\n",
    "positive_prior = True\n"
   ]
  },
  {
   "cell_type": "code",
   "execution_count": 4,
   "id": "75b327f0",
   "metadata": {
    "execution": {
     "iopub.execute_input": "2024-05-08T19:23:05.557864Z",
     "iopub.status.busy": "2024-05-08T19:23:05.557716Z",
     "iopub.status.idle": "2024-05-08T19:23:05.560647Z",
     "shell.execute_reply": "2024-05-08T19:23:05.560209Z"
    },
    "lines_to_next_cell": 0,
    "nbsphinx": "hidden",
    "papermill": {
     "duration": 0.005805,
     "end_time": "2024-05-08T19:23:05.561963",
     "exception": false,
     "start_time": "2024-05-08T19:23:05.556158",
     "status": "completed"
    },
    "tags": []
   },
   "outputs": [],
   "source": [
    "func = _known_functions[func_name]()\n",
    "\n",
    "if not positive_prior:\n",
    "\n",
    "\tenergy_grid = np.linspace(-5,5,1000)\n",
    "\n",
    "else:\n",
    "    \n",
    "    energy_grid = np.linspace(0,1,1000)\n",
    "    \n",
    "    \n",
    "    \n",
    "    \n",
    "blue = \"#4152E3\"\n",
    "red = \"#E3414B\"\n",
    "green = \"#41E39E\""
   ]
  },
  {
   "cell_type": "markdown",
   "id": "5d4b6e47",
   "metadata": {
    "lines_to_next_cell": 0,
    "papermill": {
     "duration": 0.001049,
     "end_time": "2024-05-08T19:23:05.564124",
     "exception": false,
     "start_time": "2024-05-08T19:23:05.563075",
     "status": "completed"
    },
    "tags": []
   },
   "source": [
    "## Description"
   ]
  },
  {
   "cell_type": "code",
   "execution_count": 5,
   "id": "7562f4dc",
   "metadata": {
    "execution": {
     "iopub.execute_input": "2024-05-08T19:23:05.566871Z",
     "iopub.status.busy": "2024-05-08T19:23:05.566696Z",
     "iopub.status.idle": "2024-05-08T19:23:05.570886Z",
     "shell.execute_reply": "2024-05-08T19:23:05.570419Z"
    },
    "papermill": {
     "duration": 0.007099,
     "end_time": "2024-05-08T19:23:05.572184",
     "exception": false,
     "start_time": "2024-05-08T19:23:05.565085",
     "status": "completed"
    },
    "tags": []
   },
   "outputs": [
    {
     "data": {
      "text/html": [
       "<ul>\n",
       "\n",
       "<li>description: An power law distribution function between a-b</li>\n",
       "\n",
       "<li>formula: $ f(x, \\alpha) = \\alpha x^{\\alpha-1)$</li>\n",
       "\n",
       "<li>parameters: \n",
       "<ul>\n",
       "\n",
       "<li>alpha: \n",
       "<ul>\n",
       "\n",
       "<li>value: 1.0</li>\n",
       "\n",
       "<li>desc: slope parameter</li>\n",
       "\n",
       "<li>min_value: 0.0</li>\n",
       "\n",
       "<li>max_value: None</li>\n",
       "\n",
       "<li>unit: </li>\n",
       "\n",
       "<li>is_normalization: False</li>\n",
       "\n",
       "<li>delta: 0.1</li>\n",
       "\n",
       "<li>free: True</li>\n",
       "\n",
       "</ul>\n",
       "\n",
       "</li>\n",
       "\n",
       "<li>a: \n",
       "<ul>\n",
       "\n",
       "<li>value: 0.0</li>\n",
       "\n",
       "<li>desc: lower bound of distribution</li>\n",
       "\n",
       "<li>min_value: 0.0</li>\n",
       "\n",
       "<li>max_value: None</li>\n",
       "\n",
       "<li>unit: </li>\n",
       "\n",
       "<li>is_normalization: False</li>\n",
       "\n",
       "<li>delta: 0.1</li>\n",
       "\n",
       "<li>free: True</li>\n",
       "\n",
       "</ul>\n",
       "\n",
       "</li>\n",
       "\n",
       "<li>b: \n",
       "<ul>\n",
       "\n",
       "<li>value: 1.0</li>\n",
       "\n",
       "<li>desc: upper bound of distribution</li>\n",
       "\n",
       "<li>min_value: 0.0</li>\n",
       "\n",
       "<li>max_value: None</li>\n",
       "\n",
       "<li>unit: </li>\n",
       "\n",
       "<li>is_normalization: False</li>\n",
       "\n",
       "<li>delta: 0.1</li>\n",
       "\n",
       "<li>free: True</li>\n",
       "\n",
       "</ul>\n",
       "\n",
       "</li>\n",
       "\n",
       "</ul>\n",
       "\n",
       "</li>\n",
       "\n",
       "</ul>\n"
      ],
      "text/plain": [
       "  * description: An power law distribution function between a-b\n",
       "  * formula: $ f(x, \\alpha) = \\alpha x^{\\alpha-1)$\n",
       "  * parameters:\n",
       "    * alpha:\n",
       "      * value: 1.0\n",
       "      * desc: slope parameter\n",
       "      * min_value: 0.0\n",
       "      * max_value: null\n",
       "      * unit: ''\n",
       "      * is_normalization: false\n",
       "      * delta: 0.1\n",
       "      * free: true\n",
       "    * a:\n",
       "      * value: 0.0\n",
       "      * desc: lower bound of distribution\n",
       "      * min_value: 0.0\n",
       "      * max_value: null\n",
       "      * unit: ''\n",
       "      * is_normalization: false\n",
       "      * delta: 0.1\n",
       "      * free: true\n",
       "    * b:\n",
       "      * value: 1.0\n",
       "      * desc: upper bound of distribution\n",
       "      * min_value: 0.0\n",
       "      * max_value: null\n",
       "      * unit: ''\n",
       "      * is_normalization: false\n",
       "      * delta: 0.1\n",
       "      * free: true"
      ]
     },
     "metadata": {},
     "output_type": "display_data"
    }
   ],
   "source": [
    "func.display()"
   ]
  },
  {
   "cell_type": "markdown",
   "id": "bf84dc5a",
   "metadata": {
    "papermill": {
     "duration": 0.001131,
     "end_time": "2024-05-08T19:23:05.574514",
     "exception": false,
     "start_time": "2024-05-08T19:23:05.573383",
     "status": "completed"
    },
    "tags": []
   },
   "source": [
    "## Shape \n",
    "\n",
    "The shape of the function. \n",
    "\n",
    "*If this is not a photon model but a prior or linear function then ignore the units as these docs are auto-generated*"
   ]
  },
  {
   "cell_type": "code",
   "execution_count": 6,
   "id": "d3be923b",
   "metadata": {
    "execution": {
     "iopub.execute_input": "2024-05-08T19:23:05.577385Z",
     "iopub.status.busy": "2024-05-08T19:23:05.577241Z",
     "iopub.status.idle": "2024-05-08T19:23:05.673475Z",
     "shell.execute_reply": "2024-05-08T19:23:05.673131Z"
    },
    "papermill": {
     "duration": 0.09933,
     "end_time": "2024-05-08T19:23:05.674941",
     "exception": false,
     "start_time": "2024-05-08T19:23:05.575611",
     "status": "completed"
    },
    "tags": [
     "nbsphinx-thumbnail"
    ]
   },
   "outputs": [
    {
     "data": {
      "text/plain": [
       "Text(0, 0.5, 'probability')"
      ]
     },
     "execution_count": 6,
     "metadata": {},
     "output_type": "execute_result"
    },
    {
     "data": {
      "image/png": "[encoded data removed]",
      "text/plain": [
       "<Figure size 1040x910 with 1 Axes>"
      ]
     },
     "metadata": {},
     "output_type": "display_data"
    }
   ],
   "source": [
    "fig, ax = plt.subplots()\n",
    "\n",
    "\n",
    "ax.plot(energy_grid, func(energy_grid), color=blue, lw=3)\n",
    "\n",
    "ax.set_xlabel(\"x\")\n",
    "ax.set_ylabel(\"probability\")\n"
   ]
  },
  {
   "cell_type": "markdown",
   "id": "41f1af8a",
   "metadata": {
    "papermill": {
     "duration": 0.001602,
     "end_time": "2024-05-08T19:23:05.678244",
     "exception": false,
     "start_time": "2024-05-08T19:23:05.676642",
     "status": "completed"
    },
    "tags": []
   },
   "source": [
    "## Random Number Generation\n",
    "\n",
    "This is how we can generate random numbers from the prior.\n"
   ]
  },
  {
   "cell_type": "code",
   "execution_count": 7,
   "id": "710a1a95",
   "metadata": {
    "execution": {
     "iopub.execute_input": "2024-05-08T19:23:05.681836Z",
     "iopub.status.busy": "2024-05-08T19:23:05.681663Z",
     "iopub.status.idle": "2024-05-08T19:23:06.022381Z",
     "shell.execute_reply": "2024-05-08T19:23:06.021867Z"
    },
    "papermill": {
     "duration": 0.344196,
     "end_time": "2024-05-08T19:23:06.023744",
     "exception": false,
     "start_time": "2024-05-08T19:23:05.679548",
     "status": "completed"
    },
    "tags": []
   },
   "outputs": [
    {
     "data": {
      "text/plain": [
       "Text(0, 0.5, 'N')"
      ]
     },
     "execution_count": 7,
     "metadata": {},
     "output_type": "execute_result"
    },
    {
     "data": {
      "image/png": "[encoded data removed]",
      "text/plain": [
       "<Figure size 1040x910 with 1 Axes>"
      ]
     },
     "metadata": {},
     "output_type": "display_data"
    }
   ],
   "source": [
    "\n",
    "\n",
    "u = np.random.uniform(0,1, size=5000)\n",
    "\n",
    "draws = [func.from_unit_cube(x) for x in u]\n",
    "\n",
    "\n",
    "fig, ax = plt.subplots()\n",
    "\n",
    "\n",
    "ax.hist(draws, color=green, bins=50)\n",
    "\n",
    "ax.set_xlabel(\"value\")\n",
    "ax.set_ylabel(\"N\")\n",
    "\n"
   ]
  }
 ],
 "metadata": {
  "jupytext": {
   "formats": "ipynb,md"
  },
  "kernelspec": {
   "display_name": "Python 3 (ipykernel)",
   "language": "python",
   "name": "python3"
  },
  "language_info": {
   "codemirror_mode": {
    "name": "ipython",
    "version": 3
   },
   "file_extension": ".py",
   "mimetype": "text/x-python",
   "name": "python",
   "nbconvert_exporter": "python",
   "pygments_lexer": "ipython3",
   "version": "3.9.13"
  },
  "papermill": {
   "default_parameters": {},
   "duration": 3.307174,
   "end_time": "2024-05-08T19:23:06.472831",
   "environment_variables": {},
   "exception": null,
   "input_path": "Powerlaw_Prior.ipynb",
   "output_path": "/Users/runner/work/astromodels/astromodels/docs/notebooks/Powerlaw_Prior.ipynb",
   "parameters": {
    "func_name": "Powerlaw_Prior",
    "positive_prior": true
   },
   "start_time": "2024-05-08T19:23:03.165657",
   "version": "2.6.0"
  }
 },
 "nbformat": 4,
 "nbformat_minor": 5
}
