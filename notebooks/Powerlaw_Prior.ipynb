{
 "cells": [
  {
   "cell_type": "markdown",
   "id": "5e605a8f",
   "metadata": {
    "papermill": {
     "duration": 0.010545,
     "end_time": "2024-09-09T18:56:40.541912",
     "exception": false,
     "start_time": "2024-09-09T18:56:40.531367",
     "status": "completed"
    },
    "tags": []
   },
   "source": [
    "# Powerlaw Prior"
   ]
  },
  {
   "cell_type": "code",
   "execution_count": 1,
   "id": "ce2f3c5b",
   "metadata": {
    "execution": {
     "iopub.execute_input": "2024-09-09T18:56:40.556004Z",
     "iopub.status.busy": "2024-09-09T18:56:40.555318Z",
     "iopub.status.idle": "2024-09-09T18:56:41.963669Z",
     "shell.execute_reply": "2024-09-09T18:56:41.963140Z"
    },
    "nbsphinx": "hidden",
    "papermill": {
     "duration": 1.416537,
     "end_time": "2024-09-09T18:56:41.965192",
     "exception": false,
     "start_time": "2024-09-09T18:56:40.548655",
     "status": "completed"
    },
    "tags": []
   },
   "outputs": [],
   "source": [
    "%%capture\n",
    "\n",
    "import numpy as np\n",
    "\n",
    "import matplotlib.pyplot as plt\n",
    "\n",
    "import warnings\n",
    "warnings.simplefilter(\"ignore\")\n",
    "\n",
    "from astromodels.functions.function import _known_functions\n",
    "\n",
    "\n",
    "from jupyterthemes import jtplot\n",
    "jtplot.style(context=\"talk\", fscale=1, ticks=True, grid=False)\n",
    "%matplotlib inline"
   ]
  },
  {
   "cell_type": "code",
   "execution_count": 2,
   "id": "437dd4c9",
   "metadata": {
    "execution": {
     "iopub.execute_input": "2024-09-09T18:56:41.968417Z",
     "iopub.status.busy": "2024-09-09T18:56:41.968085Z",
     "iopub.status.idle": "2024-09-09T18:56:41.976607Z",
     "shell.execute_reply": "2024-09-09T18:56:41.976187Z"
    },
    "nbsphinx": "hidden",
    "papermill": {
     "duration": 0.011455,
     "end_time": "2024-09-09T18:56:41.977842",
     "exception": false,
     "start_time": "2024-09-09T18:56:41.966387",
     "status": "completed"
    },
    "tags": [
     "parameters"
    ]
   },
   "outputs": [],
   "source": [
    "func_name = \"TbAbs\"\n",
    "\n",
    "positive_prior = False\n"
   ]
  },
  {
   "cell_type": "code",
   "execution_count": 3,
   "id": "7fe1b3f8",
   "metadata": {
    "execution": {
     "iopub.execute_input": "2024-09-09T18:56:41.980355Z",
     "iopub.status.busy": "2024-09-09T18:56:41.980216Z",
     "iopub.status.idle": "2024-09-09T18:56:41.982044Z",
     "shell.execute_reply": "2024-09-09T18:56:41.981686Z"
    },
    "papermill": {
     "duration": 0.004404,
     "end_time": "2024-09-09T18:56:41.983214",
     "exception": false,
     "start_time": "2024-09-09T18:56:41.978810",
     "status": "completed"
    },
    "tags": [
     "injected-parameters"
    ]
   },
   "outputs": [],
   "source": [
    "# Parameters\n",
    "func_name = \"Powerlaw_Prior\"\n",
    "positive_prior = True\n"
   ]
  },
  {
   "cell_type": "code",
   "execution_count": 4,
   "id": "468170fc",
   "metadata": {
    "execution": {
     "iopub.execute_input": "2024-09-09T18:56:41.985773Z",
     "iopub.status.busy": "2024-09-09T18:56:41.985643Z",
     "iopub.status.idle": "2024-09-09T18:56:41.992854Z",
     "shell.execute_reply": "2024-09-09T18:56:41.992455Z"
    },
    "lines_to_next_cell": 0,
    "nbsphinx": "hidden",
    "papermill": {
     "duration": 0.00987,
     "end_time": "2024-09-09T18:56:41.994081",
     "exception": false,
     "start_time": "2024-09-09T18:56:41.984211",
     "status": "completed"
    },
    "tags": []
   },
   "outputs": [],
   "source": [
    "func = _known_functions[func_name]()\n",
    "\n",
    "if not positive_prior:\n",
    "\n",
    "\tenergy_grid = np.linspace(-5,5,1000)\n",
    "\n",
    "else:\n",
    "    \n",
    "    energy_grid = np.linspace(0,1,1000)\n",
    "    \n",
    "    \n",
    "    \n",
    "    \n",
    "blue = \"#4152E3\"\n",
    "red = \"#E3414B\"\n",
    "green = \"#41E39E\""
   ]
  },
  {
   "cell_type": "markdown",
   "id": "11bcc92e",
   "metadata": {
    "lines_to_next_cell": 0,
    "papermill": {
     "duration": 0.00103,
     "end_time": "2024-09-09T18:56:41.996152",
     "exception": false,
     "start_time": "2024-09-09T18:56:41.995122",
     "status": "completed"
    },
    "tags": []
   },
   "source": [
    "## Description"
   ]
  },
  {
   "cell_type": "code",
   "execution_count": 5,
   "id": "247f90d0",
   "metadata": {
    "execution": {
     "iopub.execute_input": "2024-09-09T18:56:41.998685Z",
     "iopub.status.busy": "2024-09-09T18:56:41.998556Z",
     "iopub.status.idle": "2024-09-09T18:56:42.002408Z",
     "shell.execute_reply": "2024-09-09T18:56:42.001970Z"
    },
    "papermill": {
     "duration": 0.006564,
     "end_time": "2024-09-09T18:56:42.003681",
     "exception": false,
     "start_time": "2024-09-09T18:56:41.997117",
     "status": "completed"
    },
    "tags": []
   },
   "outputs": [
    {
     "data": {
      "text/html": [
       "<ul>\n",
       "\n",
       "<li>description: An power law distribution function between a-b</li>\n",
       "\n",
       "<li>formula: $ f(x, \\alpha) = \\alpha x^{\\alpha-1)$</li>\n",
       "\n",
       "<li>parameters: \n",
       "<ul>\n",
       "\n",
       "<li>alpha: \n",
       "<ul>\n",
       "\n",
       "<li>value: 1.0</li>\n",
       "\n",
       "<li>desc: slope parameter</li>\n",
       "\n",
       "<li>min_value: 0.0</li>\n",
       "\n",
       "<li>max_value: None</li>\n",
       "\n",
       "<li>unit: </li>\n",
       "\n",
       "<li>is_normalization: False</li>\n",
       "\n",
       "<li>delta: 0.1</li>\n",
       "\n",
       "<li>free: True</li>\n",
       "\n",
       "</ul>\n",
       "\n",
       "</li>\n",
       "\n",
       "<li>a: \n",
       "<ul>\n",
       "\n",
       "<li>value: 0.0</li>\n",
       "\n",
       "<li>desc: lower bound of distribution</li>\n",
       "\n",
       "<li>min_value: 0.0</li>\n",
       "\n",
       "<li>max_value: None</li>\n",
       "\n",
       "<li>unit: </li>\n",
       "\n",
       "<li>is_normalization: False</li>\n",
       "\n",
       "<li>delta: 0.1</li>\n",
       "\n",
       "<li>free: True</li>\n",
       "\n",
       "</ul>\n",
       "\n",
       "</li>\n",
       "\n",
       "<li>b: \n",
       "<ul>\n",
       "\n",
       "<li>value: 1.0</li>\n",
       "\n",
       "<li>desc: upper bound of distribution</li>\n",
       "\n",
       "<li>min_value: 0.0</li>\n",
       "\n",
       "<li>max_value: None</li>\n",
       "\n",
       "<li>unit: </li>\n",
       "\n",
       "<li>is_normalization: False</li>\n",
       "\n",
       "<li>delta: 0.1</li>\n",
       "\n",
       "<li>free: True</li>\n",
       "\n",
       "</ul>\n",
       "\n",
       "</li>\n",
       "\n",
       "</ul>\n",
       "\n",
       "</li>\n",
       "\n",
       "</ul>\n"
      ],
      "text/plain": [
       "  * description: An power law distribution function between a-b\n",
       "  * formula: $ f(x, \\alpha) = \\alpha x^{\\alpha-1)$\n",
       "  * parameters:\n",
       "    * alpha:\n",
       "      * value: 1.0\n",
       "      * desc: slope parameter\n",
       "      * min_value: 0.0\n",
       "      * max_value: null\n",
       "      * unit: ''\n",
       "      * is_normalization: false\n",
       "      * delta: 0.1\n",
       "      * free: true\n",
       "    * a:\n",
       "      * value: 0.0\n",
       "      * desc: lower bound of distribution\n",
       "      * min_value: 0.0\n",
       "      * max_value: null\n",
       "      * unit: ''\n",
       "      * is_normalization: false\n",
       "      * delta: 0.1\n",
       "      * free: true\n",
       "    * b:\n",
       "      * value: 1.0\n",
       "      * desc: upper bound of distribution\n",
       "      * min_value: 0.0\n",
       "      * max_value: null\n",
       "      * unit: ''\n",
       "      * is_normalization: false\n",
       "      * delta: 0.1\n",
       "      * free: true"
      ]
     },
     "metadata": {},
     "output_type": "display_data"
    }
   ],
   "source": [
    "func.display()"
   ]
  },
  {
   "cell_type": "markdown",
   "id": "b51b687d",
   "metadata": {
    "papermill": {
     "duration": 0.001132,
     "end_time": "2024-09-09T18:56:42.005921",
     "exception": false,
     "start_time": "2024-09-09T18:56:42.004789",
     "status": "completed"
    },
    "tags": []
   },
   "source": [
    "## Shape \n",
    "\n",
    "The shape of the function. \n",
    "\n",
    "*If this is not a photon model but a prior or linear function then ignore the units as these docs are auto-generated*"
   ]
  },
  {
   "cell_type": "code",
   "execution_count": 6,
   "id": "0bbb8b2d",
   "metadata": {
    "execution": {
     "iopub.execute_input": "2024-09-09T18:56:42.008791Z",
     "iopub.status.busy": "2024-09-09T18:56:42.008653Z",
     "iopub.status.idle": "2024-09-09T18:56:42.102143Z",
     "shell.execute_reply": "2024-09-09T18:56:42.101635Z"
    },
    "papermill": {
     "duration": 0.096365,
     "end_time": "2024-09-09T18:56:42.103341",
     "exception": false,
     "start_time": "2024-09-09T18:56:42.006976",
     "status": "completed"
    },
    "tags": [
     "nbsphinx-thumbnail"
    ]
   },
   "outputs": [
    {
     "data": {
      "text/plain": [
       "Text(0, 0.5, 'probability')"
      ]
     },
     "execution_count": 6,
     "metadata": {},
     "output_type": "execute_result"
    },
    {
     "data": {
      "image/png": "[encoded data removed]",
      "text/plain": [
       "<Figure size 1040x910 with 1 Axes>"
      ]
     },
     "metadata": {},
     "output_type": "display_data"
    }
   ],
   "source": [
    "fig, ax = plt.subplots()\n",
    "\n",
    "\n",
    "ax.plot(energy_grid, func(energy_grid), color=blue, lw=3)\n",
    "\n",
    "ax.set_xlabel(\"x\")\n",
    "ax.set_ylabel(\"probability\")\n"
   ]
  },
  {
   "cell_type": "markdown",
   "id": "7a163b95",
   "metadata": {
    "papermill": {
     "duration": 0.001305,
     "end_time": "2024-09-09T18:56:42.106219",
     "exception": false,
     "start_time": "2024-09-09T18:56:42.104914",
     "status": "completed"
    },
    "tags": []
   },
   "source": [
    "## Random Number Generation\n",
    "\n",
    "This is how we can generate random numbers from the prior.\n"
   ]
  },
  {
   "cell_type": "code",
   "execution_count": 7,
   "id": "0f9e387c",
   "metadata": {
    "execution": {
     "iopub.execute_input": "2024-09-09T18:56:42.109492Z",
     "iopub.status.busy": "2024-09-09T18:56:42.109331Z",
     "iopub.status.idle": "2024-09-09T18:56:42.436232Z",
     "shell.execute_reply": "2024-09-09T18:56:42.435891Z"
    },
    "papermill": {
     "duration": 0.330178,
     "end_time": "2024-09-09T18:56:42.437673",
     "exception": false,
     "start_time": "2024-09-09T18:56:42.107495",
     "status": "completed"
    },
    "tags": []
   },
   "outputs": [
    {
     "data": {
      "text/plain": [
       "Text(0, 0.5, 'N')"
      ]
     },
     "execution_count": 7,
     "metadata": {},
     "output_type": "execute_result"
    },
    {
     "data": {
      "image/png": "[encoded data removed]",
      "text/plain": [
       "<Figure size 1040x910 with 1 Axes>"
      ]
     },
     "metadata": {},
     "output_type": "display_data"
    }
   ],
   "source": [
    "\n",
    "\n",
    "u = np.random.uniform(0,1, size=5000)\n",
    "\n",
    "draws = [func.from_unit_cube(x) for x in u]\n",
    "\n",
    "\n",
    "fig, ax = plt.subplots()\n",
    "\n",
    "\n",
    "ax.hist(draws, color=green, bins=50)\n",
    "\n",
    "ax.set_xlabel(\"value\")\n",
    "ax.set_ylabel(\"N\")\n",
    "\n"
   ]
  }
 ],
 "metadata": {
  "jupytext": {
   "formats": "ipynb,md"
  },
  "kernelspec": {
   "display_name": "Python 3 (ipykernel)",
   "language": "python",
   "name": "python3"
  },
  "language_info": {
   "codemirror_mode": {
    "name": "ipython",
    "version": 3
   },
   "file_extension": ".py",
   "mimetype": "text/x-python",
   "name": "python",
   "nbconvert_exporter": "python",
   "pygments_lexer": "ipython3",
   "version": "3.9.13"
  },
  "papermill": {
   "default_parameters": {},
   "duration": 2.800943,
   "end_time": "2024-09-09T18:56:42.772065",
   "environment_variables": {},
   "exception": null,
   "input_path": "Powerlaw_Prior.ipynb",
   "output_path": "/Users/runner/work/astromodels/astromodels/docs/notebooks/Powerlaw_Prior.ipynb",
   "parameters": {
    "func_name": "Powerlaw_Prior",
    "positive_prior": true
   },
   "start_time": "2024-09-09T18:56:39.971122",
   "version": "2.6.0"
  }
 },
 "nbformat": 4,
 "nbformat_minor": 5
}
