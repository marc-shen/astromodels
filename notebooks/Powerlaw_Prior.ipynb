{
 "cells": [
  {
   "cell_type": "markdown",
   "id": "7eb8151f",
   "metadata": {
    "papermill": {
     "duration": 0.009406,
     "end_time": "2024-05-08T22:52:23.306456",
     "exception": false,
     "start_time": "2024-05-08T22:52:23.297050",
     "status": "completed"
    },
    "tags": []
   },
   "source": [
    "# Powerlaw Prior"
   ]
  },
  {
   "cell_type": "code",
   "execution_count": 1,
   "id": "c870d4da",
   "metadata": {
    "execution": {
     "iopub.execute_input": "2024-05-08T22:52:23.318063Z",
     "iopub.status.busy": "2024-05-08T22:52:23.317209Z",
     "iopub.status.idle": "2024-05-08T22:52:24.722706Z",
     "shell.execute_reply": "2024-05-08T22:52:24.722205Z"
    },
    "nbsphinx": "hidden",
    "papermill": {
     "duration": 1.412745,
     "end_time": "2024-05-08T22:52:24.724214",
     "exception": false,
     "start_time": "2024-05-08T22:52:23.311469",
     "status": "completed"
    },
    "tags": []
   },
   "outputs": [],
   "source": [
    "%%capture\n",
    "\n",
    "import numpy as np\n",
    "\n",
    "import matplotlib.pyplot as plt\n",
    "\n",
    "import warnings\n",
    "warnings.simplefilter(\"ignore\")\n",
    "\n",
    "from astromodels.functions.function import _known_functions\n",
    "\n",
    "\n",
    "from jupyterthemes import jtplot\n",
    "jtplot.style(context=\"talk\", fscale=1, ticks=True, grid=False)\n",
    "%matplotlib inline"
   ]
  },
  {
   "cell_type": "code",
   "execution_count": 2,
   "id": "fc8a3fc2",
   "metadata": {
    "execution": {
     "iopub.execute_input": "2024-05-08T22:52:24.727445Z",
     "iopub.status.busy": "2024-05-08T22:52:24.727117Z",
     "iopub.status.idle": "2024-05-08T22:52:24.735310Z",
     "shell.execute_reply": "2024-05-08T22:52:24.734920Z"
    },
    "nbsphinx": "hidden",
    "papermill": {
     "duration": 0.011065,
     "end_time": "2024-05-08T22:52:24.736576",
     "exception": false,
     "start_time": "2024-05-08T22:52:24.725511",
     "status": "completed"
    },
    "tags": [
     "parameters"
    ]
   },
   "outputs": [],
   "source": [
    "func_name = \"TbAbs\"\n",
    "\n",
    "positive_prior = False\n"
   ]
  },
  {
   "cell_type": "code",
   "execution_count": 3,
   "id": "fa239d70",
   "metadata": {
    "execution": {
     "iopub.execute_input": "2024-05-08T22:52:24.739128Z",
     "iopub.status.busy": "2024-05-08T22:52:24.738988Z",
     "iopub.status.idle": "2024-05-08T22:52:24.747131Z",
     "shell.execute_reply": "2024-05-08T22:52:24.746748Z"
    },
    "papermill": {
     "duration": 0.0109,
     "end_time": "2024-05-08T22:52:24.748455",
     "exception": false,
     "start_time": "2024-05-08T22:52:24.737555",
     "status": "completed"
    },
    "tags": [
     "injected-parameters"
    ]
   },
   "outputs": [],
   "source": [
    "# Parameters\n",
    "func_name = \"Powerlaw_Prior\"\n",
    "positive_prior = True\n"
   ]
  },
  {
   "cell_type": "code",
   "execution_count": 4,
   "id": "95bee788",
   "metadata": {
    "execution": {
     "iopub.execute_input": "2024-05-08T22:52:24.751085Z",
     "iopub.status.busy": "2024-05-08T22:52:24.750944Z",
     "iopub.status.idle": "2024-05-08T22:52:24.759982Z",
     "shell.execute_reply": "2024-05-08T22:52:24.759603Z"
    },
    "lines_to_next_cell": 0,
    "nbsphinx": "hidden",
    "papermill": {
     "duration": 0.011774,
     "end_time": "2024-05-08T22:52:24.761242",
     "exception": false,
     "start_time": "2024-05-08T22:52:24.749468",
     "status": "completed"
    },
    "tags": []
   },
   "outputs": [],
   "source": [
    "func = _known_functions[func_name]()\n",
    "\n",
    "if not positive_prior:\n",
    "\n",
    "\tenergy_grid = np.linspace(-5,5,1000)\n",
    "\n",
    "else:\n",
    "    \n",
    "    energy_grid = np.linspace(0,1,1000)\n",
    "    \n",
    "    \n",
    "    \n",
    "    \n",
    "blue = \"#4152E3\"\n",
    "red = \"#E3414B\"\n",
    "green = \"#41E39E\""
   ]
  },
  {
   "cell_type": "markdown",
   "id": "52b42eaa",
   "metadata": {
    "lines_to_next_cell": 0,
    "papermill": {
     "duration": 0.001026,
     "end_time": "2024-05-08T22:52:24.763360",
     "exception": false,
     "start_time": "2024-05-08T22:52:24.762334",
     "status": "completed"
    },
    "tags": []
   },
   "source": [
    "## Description"
   ]
  },
  {
   "cell_type": "code",
   "execution_count": 5,
   "id": "58427cae",
   "metadata": {
    "execution": {
     "iopub.execute_input": "2024-05-08T22:52:24.765937Z",
     "iopub.status.busy": "2024-05-08T22:52:24.765801Z",
     "iopub.status.idle": "2024-05-08T22:52:24.769725Z",
     "shell.execute_reply": "2024-05-08T22:52:24.769327Z"
    },
    "papermill": {
     "duration": 0.006662,
     "end_time": "2024-05-08T22:52:24.771027",
     "exception": false,
     "start_time": "2024-05-08T22:52:24.764365",
     "status": "completed"
    },
    "tags": []
   },
   "outputs": [
    {
     "data": {
      "text/html": [
       "<ul>\n",
       "\n",
       "<li>description: An power law distribution function between a-b</li>\n",
       "\n",
       "<li>formula: $ f(x, \\alpha) = \\alpha x^{\\alpha-1)$</li>\n",
       "\n",
       "<li>parameters: \n",
       "<ul>\n",
       "\n",
       "<li>alpha: \n",
       "<ul>\n",
       "\n",
       "<li>value: 1.0</li>\n",
       "\n",
       "<li>desc: slope parameter</li>\n",
       "\n",
       "<li>min_value: 0.0</li>\n",
       "\n",
       "<li>max_value: None</li>\n",
       "\n",
       "<li>unit: </li>\n",
       "\n",
       "<li>is_normalization: False</li>\n",
       "\n",
       "<li>delta: 0.1</li>\n",
       "\n",
       "<li>free: True</li>\n",
       "\n",
       "</ul>\n",
       "\n",
       "</li>\n",
       "\n",
       "<li>a: \n",
       "<ul>\n",
       "\n",
       "<li>value: 0.0</li>\n",
       "\n",
       "<li>desc: lower bound of distribution</li>\n",
       "\n",
       "<li>min_value: 0.0</li>\n",
       "\n",
       "<li>max_value: None</li>\n",
       "\n",
       "<li>unit: </li>\n",
       "\n",
       "<li>is_normalization: False</li>\n",
       "\n",
       "<li>delta: 0.1</li>\n",
       "\n",
       "<li>free: True</li>\n",
       "\n",
       "</ul>\n",
       "\n",
       "</li>\n",
       "\n",
       "<li>b: \n",
       "<ul>\n",
       "\n",
       "<li>value: 1.0</li>\n",
       "\n",
       "<li>desc: upper bound of distribution</li>\n",
       "\n",
       "<li>min_value: 0.0</li>\n",
       "\n",
       "<li>max_value: None</li>\n",
       "\n",
       "<li>unit: </li>\n",
       "\n",
       "<li>is_normalization: False</li>\n",
       "\n",
       "<li>delta: 0.1</li>\n",
       "\n",
       "<li>free: True</li>\n",
       "\n",
       "</ul>\n",
       "\n",
       "</li>\n",
       "\n",
       "</ul>\n",
       "\n",
       "</li>\n",
       "\n",
       "</ul>\n"
      ],
      "text/plain": [
       "  * description: An power law distribution function between a-b\n",
       "  * formula: $ f(x, \\alpha) = \\alpha x^{\\alpha-1)$\n",
       "  * parameters:\n",
       "    * alpha:\n",
       "      * value: 1.0\n",
       "      * desc: slope parameter\n",
       "      * min_value: 0.0\n",
       "      * max_value: null\n",
       "      * unit: ''\n",
       "      * is_normalization: false\n",
       "      * delta: 0.1\n",
       "      * free: true\n",
       "    * a:\n",
       "      * value: 0.0\n",
       "      * desc: lower bound of distribution\n",
       "      * min_value: 0.0\n",
       "      * max_value: null\n",
       "      * unit: ''\n",
       "      * is_normalization: false\n",
       "      * delta: 0.1\n",
       "      * free: true\n",
       "    * b:\n",
       "      * value: 1.0\n",
       "      * desc: upper bound of distribution\n",
       "      * min_value: 0.0\n",
       "      * max_value: null\n",
       "      * unit: ''\n",
       "      * is_normalization: false\n",
       "      * delta: 0.1\n",
       "      * free: true"
      ]
     },
     "metadata": {},
     "output_type": "display_data"
    }
   ],
   "source": [
    "func.display()"
   ]
  },
  {
   "cell_type": "markdown",
   "id": "21646eea",
   "metadata": {
    "papermill": {
     "duration": 0.00107,
     "end_time": "2024-05-08T22:52:24.773198",
     "exception": false,
     "start_time": "2024-05-08T22:52:24.772128",
     "status": "completed"
    },
    "tags": []
   },
   "source": [
    "## Shape \n",
    "\n",
    "The shape of the function. \n",
    "\n",
    "*If this is not a photon model but a prior or linear function then ignore the units as these docs are auto-generated*"
   ]
  },
  {
   "cell_type": "code",
   "execution_count": 6,
   "id": "6fbfc6fe",
   "metadata": {
    "execution": {
     "iopub.execute_input": "2024-05-08T22:52:24.775999Z",
     "iopub.status.busy": "2024-05-08T22:52:24.775855Z",
     "iopub.status.idle": "2024-05-08T22:52:24.875692Z",
     "shell.execute_reply": "2024-05-08T22:52:24.875178Z"
    },
    "papermill": {
     "duration": 0.10271,
     "end_time": "2024-05-08T22:52:24.876934",
     "exception": false,
     "start_time": "2024-05-08T22:52:24.774224",
     "status": "completed"
    },
    "tags": [
     "nbsphinx-thumbnail"
    ]
   },
   "outputs": [
    {
     "data": {
      "text/plain": [
       "Text(0, 0.5, 'probability')"
      ]
     },
     "execution_count": 6,
     "metadata": {},
     "output_type": "execute_result"
    },
    {
     "data": {
      "image/png": "[encoded data removed]",
      "text/plain": [
       "<Figure size 1040x910 with 1 Axes>"
      ]
     },
     "metadata": {},
     "output_type": "display_data"
    }
   ],
   "source": [
    "fig, ax = plt.subplots()\n",
    "\n",
    "\n",
    "ax.plot(energy_grid, func(energy_grid), color=blue, lw=3)\n",
    "\n",
    "ax.set_xlabel(\"x\")\n",
    "ax.set_ylabel(\"probability\")\n"
   ]
  },
  {
   "cell_type": "markdown",
   "id": "40b90d2b",
   "metadata": {
    "papermill": {
     "duration": 0.001323,
     "end_time": "2024-05-08T22:52:24.879856",
     "exception": false,
     "start_time": "2024-05-08T22:52:24.878533",
     "status": "completed"
    },
    "tags": []
   },
   "source": [
    "## Random Number Generation\n",
    "\n",
    "This is how we can generate random numbers from the prior.\n"
   ]
  },
  {
   "cell_type": "code",
   "execution_count": 7,
   "id": "d8c7d419",
   "metadata": {
    "execution": {
     "iopub.execute_input": "2024-05-08T22:52:24.883076Z",
     "iopub.status.busy": "2024-05-08T22:52:24.882938Z",
     "iopub.status.idle": "2024-05-08T22:52:25.225314Z",
     "shell.execute_reply": "2024-05-08T22:52:25.224923Z"
    },
    "papermill": {
     "duration": 0.345488,
     "end_time": "2024-05-08T22:52:25.226617",
     "exception": false,
     "start_time": "2024-05-08T22:52:24.881129",
     "status": "completed"
    },
    "tags": []
   },
   "outputs": [
    {
     "data": {
      "text/plain": [
       "Text(0, 0.5, 'N')"
      ]
     },
     "execution_count": 7,
     "metadata": {},
     "output_type": "execute_result"
    },
    {
     "data": {
      "image/png": "[encoded data removed]",
      "text/plain": [
       "<Figure size 1040x910 with 1 Axes>"
      ]
     },
     "metadata": {},
     "output_type": "display_data"
    }
   ],
   "source": [
    "\n",
    "\n",
    "u = np.random.uniform(0,1, size=5000)\n",
    "\n",
    "draws = [func.from_unit_cube(x) for x in u]\n",
    "\n",
    "\n",
    "fig, ax = plt.subplots()\n",
    "\n",
    "\n",
    "ax.hist(draws, color=green, bins=50)\n",
    "\n",
    "ax.set_xlabel(\"value\")\n",
    "ax.set_ylabel(\"N\")\n",
    "\n"
   ]
  }
 ],
 "metadata": {
  "jupytext": {
   "formats": "ipynb,md"
  },
  "kernelspec": {
   "display_name": "Python 3 (ipykernel)",
   "language": "python",
   "name": "python3"
  },
  "language_info": {
   "codemirror_mode": {
    "name": "ipython",
    "version": 3
   },
   "file_extension": ".py",
   "mimetype": "text/x-python",
   "name": "python",
   "nbconvert_exporter": "python",
   "pygments_lexer": "ipython3",
   "version": "3.9.13"
  },
  "papermill": {
   "default_parameters": {},
   "duration": 2.881785,
   "end_time": "2024-05-08T22:52:25.559445",
   "environment_variables": {},
   "exception": null,
   "input_path": "Powerlaw_Prior.ipynb",
   "output_path": "/Users/runner/work/astromodels/astromodels/docs/notebooks/Powerlaw_Prior.ipynb",
   "parameters": {
    "func_name": "Powerlaw_Prior",
    "positive_prior": true
   },
   "start_time": "2024-05-08T22:52:22.677660",
   "version": "2.6.0"
  }
 },
 "nbformat": 4,
 "nbformat_minor": 5
}
