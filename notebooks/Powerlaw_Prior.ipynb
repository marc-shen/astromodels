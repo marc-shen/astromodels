{
 "cells": [
  {
   "cell_type": "markdown",
   "id": "f6d2e375",
   "metadata": {
    "papermill": {
     "duration": 0.004325,
     "end_time": "2024-02-07T23:06:44.959142",
     "exception": false,
     "start_time": "2024-02-07T23:06:44.954817",
     "status": "completed"
    },
    "tags": []
   },
   "source": [
    "# Powerlaw Prior"
   ]
  },
  {
   "cell_type": "code",
   "execution_count": 1,
   "id": "7bf23cd5",
   "metadata": {
    "execution": {
     "iopub.execute_input": "2024-02-07T23:06:44.967390Z",
     "iopub.status.busy": "2024-02-07T23:06:44.966964Z",
     "iopub.status.idle": "2024-02-07T23:06:48.633590Z",
     "shell.execute_reply": "2024-02-07T23:06:48.631834Z"
    },
    "nbsphinx": "hidden",
    "papermill": {
     "duration": 3.674654,
     "end_time": "2024-02-07T23:06:48.637215",
     "exception": false,
     "start_time": "2024-02-07T23:06:44.962561",
     "status": "completed"
    },
    "tags": []
   },
   "outputs": [],
   "source": [
    "%%capture\n",
    "\n",
    "import numpy as np\n",
    "\n",
    "import matplotlib.pyplot as plt\n",
    "\n",
    "import warnings\n",
    "warnings.simplefilter(\"ignore\")\n",
    "\n",
    "from astromodels.functions.function import _known_functions\n",
    "\n",
    "\n",
    "from jupyterthemes import jtplot\n",
    "jtplot.style(context=\"talk\", fscale=1, ticks=True, grid=False)\n",
    "%matplotlib inline"
   ]
  },
  {
   "cell_type": "code",
   "execution_count": 2,
   "id": "95880834",
   "metadata": {
    "execution": {
     "iopub.execute_input": "2024-02-07T23:06:48.645748Z",
     "iopub.status.busy": "2024-02-07T23:06:48.645282Z",
     "iopub.status.idle": "2024-02-07T23:06:48.653093Z",
     "shell.execute_reply": "2024-02-07T23:06:48.652075Z"
    },
    "nbsphinx": "hidden",
    "papermill": {
     "duration": 0.015631,
     "end_time": "2024-02-07T23:06:48.656068",
     "exception": false,
     "start_time": "2024-02-07T23:06:48.640437",
     "status": "completed"
    },
    "tags": [
     "parameters"
    ]
   },
   "outputs": [],
   "source": [
    "func_name = \"TbAbs\"\n",
    "\n",
    "positive_prior = False\n"
   ]
  },
  {
   "cell_type": "code",
   "execution_count": 3,
   "id": "5a2246ea",
   "metadata": {
    "execution": {
     "iopub.execute_input": "2024-02-07T23:06:48.663469Z",
     "iopub.status.busy": "2024-02-07T23:06:48.663081Z",
     "iopub.status.idle": "2024-02-07T23:06:48.671912Z",
     "shell.execute_reply": "2024-02-07T23:06:48.670820Z"
    },
    "papermill": {
     "duration": 0.015696,
     "end_time": "2024-02-07T23:06:48.674775",
     "exception": false,
     "start_time": "2024-02-07T23:06:48.659079",
     "status": "completed"
    },
    "tags": [
     "injected-parameters"
    ]
   },
   "outputs": [],
   "source": [
    "# Parameters\n",
    "func_name = \"Powerlaw_Prior\"\n",
    "positive_prior = True\n"
   ]
  },
  {
   "cell_type": "code",
   "execution_count": 4,
   "id": "c5afdf3e",
   "metadata": {
    "execution": {
     "iopub.execute_input": "2024-02-07T23:06:48.682710Z",
     "iopub.status.busy": "2024-02-07T23:06:48.682036Z",
     "iopub.status.idle": "2024-02-07T23:06:48.689338Z",
     "shell.execute_reply": "2024-02-07T23:06:48.688343Z"
    },
    "lines_to_next_cell": 0,
    "nbsphinx": "hidden",
    "papermill": {
     "duration": 0.014342,
     "end_time": "2024-02-07T23:06:48.692182",
     "exception": false,
     "start_time": "2024-02-07T23:06:48.677840",
     "status": "completed"
    },
    "tags": []
   },
   "outputs": [],
   "source": [
    "func = _known_functions[func_name]()\n",
    "\n",
    "if not positive_prior:\n",
    "\n",
    "\tenergy_grid = np.linspace(-5,5,1000)\n",
    "\n",
    "else:\n",
    "    \n",
    "    energy_grid = np.linspace(0,1,1000)\n",
    "    \n",
    "    \n",
    "    \n",
    "    \n",
    "blue = \"#4152E3\"\n",
    "red = \"#E3414B\"\n",
    "green = \"#41E39E\""
   ]
  },
  {
   "cell_type": "markdown",
   "id": "618e5a3c",
   "metadata": {
    "lines_to_next_cell": 0,
    "papermill": {
     "duration": 0.002893,
     "end_time": "2024-02-07T23:06:48.698088",
     "exception": false,
     "start_time": "2024-02-07T23:06:48.695195",
     "status": "completed"
    },
    "tags": []
   },
   "source": [
    "## Description"
   ]
  },
  {
   "cell_type": "code",
   "execution_count": 5,
   "id": "74e4ae65",
   "metadata": {
    "execution": {
     "iopub.execute_input": "2024-02-07T23:06:48.705375Z",
     "iopub.status.busy": "2024-02-07T23:06:48.704986Z",
     "iopub.status.idle": "2024-02-07T23:06:48.719734Z",
     "shell.execute_reply": "2024-02-07T23:06:48.718724Z"
    },
    "papermill": {
     "duration": 0.021757,
     "end_time": "2024-02-07T23:06:48.722636",
     "exception": false,
     "start_time": "2024-02-07T23:06:48.700879",
     "status": "completed"
    },
    "tags": []
   },
   "outputs": [
    {
     "data": {
      "text/html": [
       "<ul>\n",
       "\n",
       "<li>description: An power law distribution function between a-b</li>\n",
       "\n",
       "<li>formula: $ f(x, \\alpha) = \\alpha x^{\\alpha-1)$</li>\n",
       "\n",
       "<li>parameters: \n",
       "<ul>\n",
       "\n",
       "<li>alpha: \n",
       "<ul>\n",
       "\n",
       "<li>value: 1.0</li>\n",
       "\n",
       "<li>desc: slope parameter</li>\n",
       "\n",
       "<li>min_value: 0.0</li>\n",
       "\n",
       "<li>max_value: None</li>\n",
       "\n",
       "<li>unit: </li>\n",
       "\n",
       "<li>is_normalization: False</li>\n",
       "\n",
       "<li>delta: 0.1</li>\n",
       "\n",
       "<li>free: True</li>\n",
       "\n",
       "</ul>\n",
       "\n",
       "</li>\n",
       "\n",
       "<li>a: \n",
       "<ul>\n",
       "\n",
       "<li>value: 0.0</li>\n",
       "\n",
       "<li>desc: lower bound of distribution</li>\n",
       "\n",
       "<li>min_value: 0.0</li>\n",
       "\n",
       "<li>max_value: None</li>\n",
       "\n",
       "<li>unit: </li>\n",
       "\n",
       "<li>is_normalization: False</li>\n",
       "\n",
       "<li>delta: 0.1</li>\n",
       "\n",
       "<li>free: True</li>\n",
       "\n",
       "</ul>\n",
       "\n",
       "</li>\n",
       "\n",
       "<li>b: \n",
       "<ul>\n",
       "\n",
       "<li>value: 1.0</li>\n",
       "\n",
       "<li>desc: upper bound of distribution</li>\n",
       "\n",
       "<li>min_value: 0.0</li>\n",
       "\n",
       "<li>max_value: None</li>\n",
       "\n",
       "<li>unit: </li>\n",
       "\n",
       "<li>is_normalization: False</li>\n",
       "\n",
       "<li>delta: 0.1</li>\n",
       "\n",
       "<li>free: True</li>\n",
       "\n",
       "</ul>\n",
       "\n",
       "</li>\n",
       "\n",
       "</ul>\n",
       "\n",
       "</li>\n",
       "\n",
       "</ul>\n"
      ],
      "text/plain": [
       "  * description: An power law distribution function between a-b\n",
       "  * formula: $ f(x, \\alpha) = \\alpha x^{\\alpha-1)$\n",
       "  * parameters:\n",
       "    * alpha:\n",
       "      * value: 1.0\n",
       "      * desc: slope parameter\n",
       "      * min_value: 0.0\n",
       "      * max_value: null\n",
       "      * unit: ''\n",
       "      * is_normalization: false\n",
       "      * delta: 0.1\n",
       "      * free: true\n",
       "    * a:\n",
       "      * value: 0.0\n",
       "      * desc: lower bound of distribution\n",
       "      * min_value: 0.0\n",
       "      * max_value: null\n",
       "      * unit: ''\n",
       "      * is_normalization: false\n",
       "      * delta: 0.1\n",
       "      * free: true\n",
       "    * b:\n",
       "      * value: 1.0\n",
       "      * desc: upper bound of distribution\n",
       "      * min_value: 0.0\n",
       "      * max_value: null\n",
       "      * unit: ''\n",
       "      * is_normalization: false\n",
       "      * delta: 0.1\n",
       "      * free: true"
      ]
     },
     "metadata": {},
     "output_type": "display_data"
    }
   ],
   "source": [
    "func.display()"
   ]
  },
  {
   "cell_type": "markdown",
   "id": "c9097ac4",
   "metadata": {
    "papermill": {
     "duration": 0.003199,
     "end_time": "2024-02-07T23:06:48.729277",
     "exception": false,
     "start_time": "2024-02-07T23:06:48.726078",
     "status": "completed"
    },
    "tags": []
   },
   "source": [
    "## Shape \n",
    "\n",
    "The shape of the function. \n",
    "\n",
    "*If this is not a photon model but a prior or linear function then ignore the units as these docs are auto-generated*"
   ]
  },
  {
   "cell_type": "code",
   "execution_count": 6,
   "id": "72bf9792",
   "metadata": {
    "execution": {
     "iopub.execute_input": "2024-02-07T23:06:48.737572Z",
     "iopub.status.busy": "2024-02-07T23:06:48.737155Z",
     "iopub.status.idle": "2024-02-07T23:06:49.023956Z",
     "shell.execute_reply": "2024-02-07T23:06:49.022810Z"
    },
    "papermill": {
     "duration": 0.294796,
     "end_time": "2024-02-07T23:06:49.027307",
     "exception": false,
     "start_time": "2024-02-07T23:06:48.732511",
     "status": "completed"
    },
    "tags": [
     "nbsphinx-thumbnail"
    ]
   },
   "outputs": [
    {
     "data": {
      "text/plain": [
       "Text(0, 0.5, 'probability')"
      ]
     },
     "execution_count": 6,
     "metadata": {},
     "output_type": "execute_result"
    },
    {
     "data": {
      "image/png": "[encoded data removed]",
      "text/plain": [
       "<Figure size 1040x910 with 1 Axes>"
      ]
     },
     "metadata": {},
     "output_type": "display_data"
    }
   ],
   "source": [
    "fig, ax = plt.subplots()\n",
    "\n",
    "\n",
    "ax.plot(energy_grid, func(energy_grid), color=blue, lw=3)\n",
    "\n",
    "ax.set_xlabel(\"x\")\n",
    "ax.set_ylabel(\"probability\")\n"
   ]
  },
  {
   "cell_type": "markdown",
   "id": "3e9f7af9",
   "metadata": {
    "papermill": {
     "duration": 0.003667,
     "end_time": "2024-02-07T23:06:49.035376",
     "exception": false,
     "start_time": "2024-02-07T23:06:49.031709",
     "status": "completed"
    },
    "tags": []
   },
   "source": [
    "## Random Number Generation\n",
    "\n",
    "This is how we can generate random numbers from the prior.\n"
   ]
  },
  {
   "cell_type": "code",
   "execution_count": 7,
   "id": "2efb6382",
   "metadata": {
    "execution": {
     "iopub.execute_input": "2024-02-07T23:06:49.044239Z",
     "iopub.status.busy": "2024-02-07T23:06:49.043821Z",
     "iopub.status.idle": "2024-02-07T23:06:50.714709Z",
     "shell.execute_reply": "2024-02-07T23:06:50.713530Z"
    },
    "papermill": {
     "duration": 1.678961,
     "end_time": "2024-02-07T23:06:50.717871",
     "exception": false,
     "start_time": "2024-02-07T23:06:49.038910",
     "status": "completed"
    },
    "tags": []
   },
   "outputs": [
    {
     "data": {
      "text/plain": [
       "Text(0, 0.5, 'N')"
      ]
     },
     "execution_count": 7,
     "metadata": {},
     "output_type": "execute_result"
    },
    {
     "data": {
      "image/png": "[encoded data removed]",
      "text/plain": [
       "<Figure size 1040x910 with 1 Axes>"
      ]
     },
     "metadata": {},
     "output_type": "display_data"
    }
   ],
   "source": [
    "\n",
    "\n",
    "u = np.random.uniform(0,1, size=5000)\n",
    "\n",
    "draws = [func.from_unit_cube(x) for x in u]\n",
    "\n",
    "\n",
    "fig, ax = plt.subplots()\n",
    "\n",
    "\n",
    "ax.hist(draws, color=green, bins=50)\n",
    "\n",
    "ax.set_xlabel(\"value\")\n",
    "ax.set_ylabel(\"N\")\n",
    "\n"
   ]
  }
 ],
 "metadata": {
  "jupytext": {
   "formats": "ipynb,md"
  },
  "kernelspec": {
   "display_name": "Python 3 (ipykernel)",
   "language": "python",
   "name": "python3"
  },
  "language_info": {
   "codemirror_mode": {
    "name": "ipython",
    "version": 3
   },
   "file_extension": ".py",
   "mimetype": "text/x-python",
   "name": "python",
   "nbconvert_exporter": "python",
   "pygments_lexer": "ipython3",
   "version": "3.9.18"
  },
  "papermill": {
   "default_parameters": {},
   "duration": 7.766394,
   "end_time": "2024-02-07T23:06:51.448164",
   "environment_variables": {},
   "exception": null,
   "input_path": "Powerlaw_Prior.ipynb",
   "output_path": "/Users/runner/work/astromodels/astromodels/docs/notebooks/Powerlaw_Prior.ipynb",
   "parameters": {
    "func_name": "Powerlaw_Prior",
    "positive_prior": true
   },
   "start_time": "2024-02-07T23:06:43.681770",
   "version": "2.5.0"
  }
 },
 "nbformat": 4,
 "nbformat_minor": 5
}
