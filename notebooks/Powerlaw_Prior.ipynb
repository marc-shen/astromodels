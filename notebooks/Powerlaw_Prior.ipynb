{
 "cells": [
  {
   "cell_type": "markdown",
   "id": "5eb6fa4d",
   "metadata": {
    "papermill": {
     "duration": 0.004154,
     "end_time": "2023-11-01T02:01:10.781331",
     "exception": false,
     "start_time": "2023-11-01T02:01:10.777177",
     "status": "completed"
    },
    "tags": []
   },
   "source": [
    "# Powerlaw Prior"
   ]
  },
  {
   "cell_type": "code",
   "execution_count": 1,
   "id": "2db606b6",
   "metadata": {
    "execution": {
     "iopub.execute_input": "2023-11-01T02:01:10.790321Z",
     "iopub.status.busy": "2023-11-01T02:01:10.789809Z",
     "iopub.status.idle": "2023-11-01T02:01:13.909320Z",
     "shell.execute_reply": "2023-11-01T02:01:13.907532Z"
    },
    "nbsphinx": "hidden",
    "papermill": {
     "duration": 3.129218,
     "end_time": "2023-11-01T02:01:13.913907",
     "exception": false,
     "start_time": "2023-11-01T02:01:10.784689",
     "status": "completed"
    },
    "tags": []
   },
   "outputs": [],
   "source": [
    "%%capture\n",
    "\n",
    "import numpy as np\n",
    "\n",
    "import matplotlib.pyplot as plt\n",
    "\n",
    "import warnings\n",
    "warnings.simplefilter(\"ignore\")\n",
    "\n",
    "from astromodels.functions.function import _known_functions\n",
    "\n",
    "\n",
    "from jupyterthemes import jtplot\n",
    "jtplot.style(context=\"talk\", fscale=1, ticks=True, grid=False)\n",
    "%matplotlib inline"
   ]
  },
  {
   "cell_type": "code",
   "execution_count": 2,
   "id": "d4171d39",
   "metadata": {
    "execution": {
     "iopub.execute_input": "2023-11-01T02:01:13.921665Z",
     "iopub.status.busy": "2023-11-01T02:01:13.921203Z",
     "iopub.status.idle": "2023-11-01T02:01:13.928773Z",
     "shell.execute_reply": "2023-11-01T02:01:13.926335Z"
    },
    "nbsphinx": "hidden",
    "papermill": {
     "duration": 0.016459,
     "end_time": "2023-11-01T02:01:13.933149",
     "exception": false,
     "start_time": "2023-11-01T02:01:13.916690",
     "status": "completed"
    },
    "tags": [
     "parameters"
    ]
   },
   "outputs": [],
   "source": [
    "func_name = \"TbAbs\"\n",
    "\n",
    "positive_prior = False\n"
   ]
  },
  {
   "cell_type": "code",
   "execution_count": 3,
   "id": "c07425a7",
   "metadata": {
    "execution": {
     "iopub.execute_input": "2023-11-01T02:01:13.940671Z",
     "iopub.status.busy": "2023-11-01T02:01:13.940262Z",
     "iopub.status.idle": "2023-11-01T02:01:13.946813Z",
     "shell.execute_reply": "2023-11-01T02:01:13.944387Z"
    },
    "papermill": {
     "duration": 0.015213,
     "end_time": "2023-11-01T02:01:13.951067",
     "exception": false,
     "start_time": "2023-11-01T02:01:13.935854",
     "status": "completed"
    },
    "tags": [
     "injected-parameters"
    ]
   },
   "outputs": [],
   "source": [
    "# Parameters\n",
    "func_name = \"Powerlaw_Prior\"\n",
    "positive_prior = True\n"
   ]
  },
  {
   "cell_type": "code",
   "execution_count": 4,
   "id": "c7c04c86",
   "metadata": {
    "execution": {
     "iopub.execute_input": "2023-11-01T02:01:13.958594Z",
     "iopub.status.busy": "2023-11-01T02:01:13.958184Z",
     "iopub.status.idle": "2023-11-01T02:01:13.966763Z",
     "shell.execute_reply": "2023-11-01T02:01:13.965163Z"
    },
    "lines_to_next_cell": 0,
    "nbsphinx": "hidden",
    "papermill": {
     "duration": 0.017247,
     "end_time": "2023-11-01T02:01:13.971118",
     "exception": false,
     "start_time": "2023-11-01T02:01:13.953871",
     "status": "completed"
    },
    "tags": []
   },
   "outputs": [],
   "source": [
    "func = _known_functions[func_name]()\n",
    "\n",
    "if not positive_prior:\n",
    "\n",
    "\tenergy_grid = np.linspace(-5,5,1000)\n",
    "\n",
    "else:\n",
    "    \n",
    "    energy_grid = np.linspace(0,1,1000)\n",
    "    \n",
    "    \n",
    "    \n",
    "    \n",
    "blue = \"#4152E3\"\n",
    "red = \"#E3414B\"\n",
    "green = \"#41E39E\""
   ]
  },
  {
   "cell_type": "markdown",
   "id": "9c337b96",
   "metadata": {
    "lines_to_next_cell": 0,
    "papermill": {
     "duration": 0.002909,
     "end_time": "2023-11-01T02:01:13.976870",
     "exception": false,
     "start_time": "2023-11-01T02:01:13.973961",
     "status": "completed"
    },
    "tags": []
   },
   "source": [
    "## Description"
   ]
  },
  {
   "cell_type": "code",
   "execution_count": 5,
   "id": "c00c2569",
   "metadata": {
    "execution": {
     "iopub.execute_input": "2023-11-01T02:01:13.984421Z",
     "iopub.status.busy": "2023-11-01T02:01:13.983916Z",
     "iopub.status.idle": "2023-11-01T02:01:13.997252Z",
     "shell.execute_reply": "2023-11-01T02:01:13.995569Z"
    },
    "papermill": {
     "duration": 0.022294,
     "end_time": "2023-11-01T02:01:14.001778",
     "exception": false,
     "start_time": "2023-11-01T02:01:13.979484",
     "status": "completed"
    },
    "tags": []
   },
   "outputs": [
    {
     "data": {
      "text/html": [
       "<ul>\n",
       "\n",
       "<li>description: An power law distribution function between a-b</li>\n",
       "\n",
       "<li>formula: $ f(x, \\alpha) = \\alpha x^{\\alpha-1)$</li>\n",
       "\n",
       "<li>parameters: \n",
       "<ul>\n",
       "\n",
       "<li>alpha: \n",
       "<ul>\n",
       "\n",
       "<li>value: 1.0</li>\n",
       "\n",
       "<li>desc: slope parameter</li>\n",
       "\n",
       "<li>min_value: 0.0</li>\n",
       "\n",
       "<li>max_value: None</li>\n",
       "\n",
       "<li>unit: </li>\n",
       "\n",
       "<li>is_normalization: False</li>\n",
       "\n",
       "<li>delta: 0.1</li>\n",
       "\n",
       "<li>free: True</li>\n",
       "\n",
       "</ul>\n",
       "\n",
       "</li>\n",
       "\n",
       "<li>a: \n",
       "<ul>\n",
       "\n",
       "<li>value: 0.0</li>\n",
       "\n",
       "<li>desc: lower bound of distribution</li>\n",
       "\n",
       "<li>min_value: 0.0</li>\n",
       "\n",
       "<li>max_value: None</li>\n",
       "\n",
       "<li>unit: </li>\n",
       "\n",
       "<li>is_normalization: False</li>\n",
       "\n",
       "<li>delta: 0.1</li>\n",
       "\n",
       "<li>free: True</li>\n",
       "\n",
       "</ul>\n",
       "\n",
       "</li>\n",
       "\n",
       "<li>b: \n",
       "<ul>\n",
       "\n",
       "<li>value: 1.0</li>\n",
       "\n",
       "<li>desc: upper bound of distribution</li>\n",
       "\n",
       "<li>min_value: 0.0</li>\n",
       "\n",
       "<li>max_value: None</li>\n",
       "\n",
       "<li>unit: </li>\n",
       "\n",
       "<li>is_normalization: False</li>\n",
       "\n",
       "<li>delta: 0.1</li>\n",
       "\n",
       "<li>free: True</li>\n",
       "\n",
       "</ul>\n",
       "\n",
       "</li>\n",
       "\n",
       "</ul>\n",
       "\n",
       "</li>\n",
       "\n",
       "</ul>\n"
      ],
      "text/plain": [
       "  * description: An power law distribution function between a-b\n",
       "  * formula: $ f(x, \\alpha) = \\alpha x^{\\alpha-1)$\n",
       "  * parameters:\n",
       "    * alpha:\n",
       "      * value: 1.0\n",
       "      * desc: slope parameter\n",
       "      * min_value: 0.0\n",
       "      * max_value: null\n",
       "      * unit: ''\n",
       "      * is_normalization: false\n",
       "      * delta: 0.1\n",
       "      * free: true\n",
       "    * a:\n",
       "      * value: 0.0\n",
       "      * desc: lower bound of distribution\n",
       "      * min_value: 0.0\n",
       "      * max_value: null\n",
       "      * unit: ''\n",
       "      * is_normalization: false\n",
       "      * delta: 0.1\n",
       "      * free: true\n",
       "    * b:\n",
       "      * value: 1.0\n",
       "      * desc: upper bound of distribution\n",
       "      * min_value: 0.0\n",
       "      * max_value: null\n",
       "      * unit: ''\n",
       "      * is_normalization: false\n",
       "      * delta: 0.1\n",
       "      * free: true"
      ]
     },
     "metadata": {},
     "output_type": "display_data"
    }
   ],
   "source": [
    "func.display()"
   ]
  },
  {
   "cell_type": "markdown",
   "id": "a4bfff27",
   "metadata": {
    "papermill": {
     "duration": 0.003381,
     "end_time": "2023-11-01T02:01:14.008361",
     "exception": false,
     "start_time": "2023-11-01T02:01:14.004980",
     "status": "completed"
    },
    "tags": []
   },
   "source": [
    "## Shape \n",
    "\n",
    "The shape of the function. \n",
    "\n",
    "*If this is not a photon model but a prior or linear function then ignore the units as these docs are auto-generated*"
   ]
  },
  {
   "cell_type": "code",
   "execution_count": 6,
   "id": "dfc3cabf",
   "metadata": {
    "execution": {
     "iopub.execute_input": "2023-11-01T02:01:14.016623Z",
     "iopub.status.busy": "2023-11-01T02:01:14.016159Z",
     "iopub.status.idle": "2023-11-01T02:01:14.243212Z",
     "shell.execute_reply": "2023-11-01T02:01:14.241715Z"
    },
    "papermill": {
     "duration": 0.236242,
     "end_time": "2023-11-01T02:01:14.247539",
     "exception": false,
     "start_time": "2023-11-01T02:01:14.011297",
     "status": "completed"
    },
    "tags": [
     "nbsphinx-thumbnail"
    ]
   },
   "outputs": [
    {
     "data": {
      "text/plain": [
       "Text(0, 0.5, 'probability')"
      ]
     },
     "execution_count": 6,
     "metadata": {},
     "output_type": "execute_result"
    },
    {
     "data": {
      "image/png": "[encoded data removed]",
      "text/plain": [
       "<Figure size 1040x910 with 1 Axes>"
      ]
     },
     "metadata": {},
     "output_type": "display_data"
    }
   ],
   "source": [
    "fig, ax = plt.subplots()\n",
    "\n",
    "\n",
    "ax.plot(energy_grid, func(energy_grid), color=blue, lw=3)\n",
    "\n",
    "ax.set_xlabel(\"x\")\n",
    "ax.set_ylabel(\"probability\")\n"
   ]
  },
  {
   "cell_type": "markdown",
   "id": "7c72ef8a",
   "metadata": {
    "papermill": {
     "duration": 0.003735,
     "end_time": "2023-11-01T02:01:14.254945",
     "exception": false,
     "start_time": "2023-11-01T02:01:14.251210",
     "status": "completed"
    },
    "tags": []
   },
   "source": [
    "## Random Number Generation\n",
    "\n",
    "This is how we can generate random numbers from the prior.\n"
   ]
  },
  {
   "cell_type": "code",
   "execution_count": 7,
   "id": "b7c11d74",
   "metadata": {
    "execution": {
     "iopub.execute_input": "2023-11-01T02:01:14.264131Z",
     "iopub.status.busy": "2023-11-01T02:01:14.263731Z",
     "iopub.status.idle": "2023-11-01T02:01:15.531184Z",
     "shell.execute_reply": "2023-11-01T02:01:15.529678Z"
    },
    "papermill": {
     "duration": 1.277853,
     "end_time": "2023-11-01T02:01:15.536205",
     "exception": false,
     "start_time": "2023-11-01T02:01:14.258352",
     "status": "completed"
    },
    "tags": []
   },
   "outputs": [
    {
     "data": {
      "text/plain": [
       "Text(0, 0.5, 'N')"
      ]
     },
     "execution_count": 7,
     "metadata": {},
     "output_type": "execute_result"
    },
    {
     "data": {
      "image/png": "[encoded data removed]",
      "text/plain": [
       "<Figure size 1040x910 with 1 Axes>"
      ]
     },
     "metadata": {},
     "output_type": "display_data"
    }
   ],
   "source": [
    "\n",
    "\n",
    "u = np.random.uniform(0,1, size=5000)\n",
    "\n",
    "draws = [func.from_unit_cube(x) for x in u]\n",
    "\n",
    "\n",
    "fig, ax = plt.subplots()\n",
    "\n",
    "\n",
    "ax.hist(draws, color=green, bins=50)\n",
    "\n",
    "ax.set_xlabel(\"value\")\n",
    "ax.set_ylabel(\"N\")\n",
    "\n"
   ]
  }
 ],
 "metadata": {
  "jupytext": {
   "formats": "ipynb,md"
  },
  "kernelspec": {
   "display_name": "Python 3 (ipykernel)",
   "language": "python",
   "name": "python3"
  },
  "language_info": {
   "codemirror_mode": {
    "name": "ipython",
    "version": 3
   },
   "file_extension": ".py",
   "mimetype": "text/x-python",
   "name": "python",
   "nbconvert_exporter": "python",
   "pygments_lexer": "ipython3",
   "version": "3.9.18"
  },
  "papermill": {
   "default_parameters": {},
   "duration": 6.605408,
   "end_time": "2023-11-01T02:01:16.173063",
   "environment_variables": {},
   "exception": null,
   "input_path": "Powerlaw_Prior.ipynb",
   "output_path": "/Users/runner/work/astromodels/astromodels/docs/notebooks/Powerlaw_Prior.ipynb",
   "parameters": {
    "func_name": "Powerlaw_Prior",
    "positive_prior": true
   },
   "start_time": "2023-11-01T02:01:09.567655",
   "version": "2.4.0"
  }
 },
 "nbformat": 4,
 "nbformat_minor": 5
}
