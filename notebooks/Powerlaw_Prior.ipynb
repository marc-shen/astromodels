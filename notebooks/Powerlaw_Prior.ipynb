{
 "cells": [
  {
   "cell_type": "markdown",
   "id": "40c28927",
   "metadata": {
    "papermill": {
     "duration": 0.008642,
     "end_time": "2022-09-29T20:00:58.728228",
     "exception": false,
     "start_time": "2022-09-29T20:00:58.719586",
     "status": "completed"
    },
    "tags": []
   },
   "source": [
    "# Powerlaw Prior"
   ]
  },
  {
   "cell_type": "code",
   "execution_count": 1,
   "id": "27beacd1",
   "metadata": {
    "execution": {
     "iopub.execute_input": "2022-09-29T20:00:58.738643Z",
     "iopub.status.busy": "2022-09-29T20:00:58.738101Z",
     "iopub.status.idle": "2022-09-29T20:01:03.948381Z",
     "shell.execute_reply": "2022-09-29T20:01:03.947056Z"
    },
    "nbsphinx": "hidden",
    "papermill": {
     "duration": 5.220318,
     "end_time": "2022-09-29T20:01:03.952393",
     "exception": false,
     "start_time": "2022-09-29T20:00:58.732075",
     "status": "completed"
    },
    "tags": []
   },
   "outputs": [],
   "source": [
    "%%capture\n",
    "\n",
    "import numpy as np\n",
    "\n",
    "import matplotlib.pyplot as plt\n",
    "\n",
    "import warnings\n",
    "warnings.simplefilter(\"ignore\")\n",
    "\n",
    "from astromodels.functions.function import _known_functions\n",
    "\n",
    "\n",
    "from jupyterthemes import jtplot\n",
    "jtplot.style(context=\"talk\", fscale=1, ticks=True, grid=False)\n",
    "%matplotlib inline"
   ]
  },
  {
   "cell_type": "code",
   "execution_count": 2,
   "id": "cf07f6d1",
   "metadata": {
    "execution": {
     "iopub.execute_input": "2022-09-29T20:01:03.961932Z",
     "iopub.status.busy": "2022-09-29T20:01:03.961489Z",
     "iopub.status.idle": "2022-09-29T20:01:03.968646Z",
     "shell.execute_reply": "2022-09-29T20:01:03.967541Z"
    },
    "nbsphinx": "hidden",
    "papermill": {
     "duration": 0.015275,
     "end_time": "2022-09-29T20:01:03.971975",
     "exception": false,
     "start_time": "2022-09-29T20:01:03.956700",
     "status": "completed"
    },
    "tags": [
     "parameters"
    ]
   },
   "outputs": [],
   "source": [
    "func_name = \"TbAbs\"\n",
    "\n",
    "positive_prior = False\n"
   ]
  },
  {
   "cell_type": "code",
   "execution_count": 3,
   "id": "31d77aa6",
   "metadata": {
    "execution": {
     "iopub.execute_input": "2022-09-29T20:01:03.980203Z",
     "iopub.status.busy": "2022-09-29T20:01:03.979789Z",
     "iopub.status.idle": "2022-09-29T20:01:03.988149Z",
     "shell.execute_reply": "2022-09-29T20:01:03.987035Z"
    },
    "papermill": {
     "duration": 0.016132,
     "end_time": "2022-09-29T20:01:03.991373",
     "exception": false,
     "start_time": "2022-09-29T20:01:03.975241",
     "status": "completed"
    },
    "tags": [
     "injected-parameters"
    ]
   },
   "outputs": [],
   "source": [
    "# Parameters\n",
    "func_name = \"Powerlaw_Prior\"\n",
    "positive_prior = True\n"
   ]
  },
  {
   "cell_type": "code",
   "execution_count": 4,
   "id": "bd92a8ea",
   "metadata": {
    "execution": {
     "iopub.execute_input": "2022-09-29T20:01:03.999708Z",
     "iopub.status.busy": "2022-09-29T20:01:03.999293Z",
     "iopub.status.idle": "2022-09-29T20:01:04.011184Z",
     "shell.execute_reply": "2022-09-29T20:01:04.010053Z"
    },
    "lines_to_next_cell": 0,
    "nbsphinx": "hidden",
    "papermill": {
     "duration": 0.019972,
     "end_time": "2022-09-29T20:01:04.014644",
     "exception": false,
     "start_time": "2022-09-29T20:01:03.994672",
     "status": "completed"
    },
    "tags": []
   },
   "outputs": [],
   "source": [
    "func = _known_functions[func_name]()\n",
    "\n",
    "if not positive_prior:\n",
    "\n",
    "\tenergy_grid = np.linspace(-5,5,1000)\n",
    "\n",
    "else:\n",
    "    \n",
    "    energy_grid = np.linspace(0,1,1000)\n",
    "    \n",
    "    \n",
    "    \n",
    "    \n",
    "blue = \"#4152E3\"\n",
    "red = \"#E3414B\"\n",
    "green = \"#41E39E\""
   ]
  },
  {
   "cell_type": "markdown",
   "id": "1e89057c",
   "metadata": {
    "lines_to_next_cell": 0,
    "papermill": {
     "duration": 0.003437,
     "end_time": "2022-09-29T20:01:04.022329",
     "exception": false,
     "start_time": "2022-09-29T20:01:04.018892",
     "status": "completed"
    },
    "tags": []
   },
   "source": [
    "## Description"
   ]
  },
  {
   "cell_type": "code",
   "execution_count": 5,
   "id": "421138e6",
   "metadata": {
    "execution": {
     "iopub.execute_input": "2022-09-29T20:01:04.030948Z",
     "iopub.status.busy": "2022-09-29T20:01:04.030536Z",
     "iopub.status.idle": "2022-09-29T20:01:04.045650Z",
     "shell.execute_reply": "2022-09-29T20:01:04.044548Z"
    },
    "papermill": {
     "duration": 0.023342,
     "end_time": "2022-09-29T20:01:04.048964",
     "exception": false,
     "start_time": "2022-09-29T20:01:04.025622",
     "status": "completed"
    },
    "tags": []
   },
   "outputs": [
    {
     "data": {
      "text/html": [
       "<ul>\n",
       "\n",
       "<li>description: An power law distribution function between a-b</li>\n",
       "\n",
       "<li>formula: $ f(x, \\alpha) = \\alpha x^{\\alpha-1)$</li>\n",
       "\n",
       "<li>parameters: \n",
       "<ul>\n",
       "\n",
       "<li>alpha: \n",
       "<ul>\n",
       "\n",
       "<li>value: 1.0</li>\n",
       "\n",
       "<li>desc: slope parameter</li>\n",
       "\n",
       "<li>min_value: 0.0</li>\n",
       "\n",
       "<li>max_value: None</li>\n",
       "\n",
       "<li>unit: </li>\n",
       "\n",
       "<li>is_normalization: False</li>\n",
       "\n",
       "<li>delta: 0.1</li>\n",
       "\n",
       "<li>free: True</li>\n",
       "\n",
       "</ul>\n",
       "\n",
       "</li>\n",
       "\n",
       "<li>a: \n",
       "<ul>\n",
       "\n",
       "<li>value: 0.0</li>\n",
       "\n",
       "<li>desc: lower bound of distribution</li>\n",
       "\n",
       "<li>min_value: 0.0</li>\n",
       "\n",
       "<li>max_value: None</li>\n",
       "\n",
       "<li>unit: </li>\n",
       "\n",
       "<li>is_normalization: False</li>\n",
       "\n",
       "<li>delta: 0.1</li>\n",
       "\n",
       "<li>free: True</li>\n",
       "\n",
       "</ul>\n",
       "\n",
       "</li>\n",
       "\n",
       "<li>b: \n",
       "<ul>\n",
       "\n",
       "<li>value: 1.0</li>\n",
       "\n",
       "<li>desc: upper bound of distribution</li>\n",
       "\n",
       "<li>min_value: 0.0</li>\n",
       "\n",
       "<li>max_value: None</li>\n",
       "\n",
       "<li>unit: </li>\n",
       "\n",
       "<li>is_normalization: False</li>\n",
       "\n",
       "<li>delta: 0.1</li>\n",
       "\n",
       "<li>free: True</li>\n",
       "\n",
       "</ul>\n",
       "\n",
       "</li>\n",
       "\n",
       "</ul>\n",
       "\n",
       "</li>\n",
       "\n",
       "</ul>\n"
      ],
      "text/plain": [
       "  * description: An power law distribution function between a-b\n",
       "  * formula: $ f(x, \\alpha) = \\alpha x^{\\alpha-1)$\n",
       "  * parameters:\n",
       "    * alpha:\n",
       "      * value: 1.0\n",
       "      * desc: slope parameter\n",
       "      * min_value: 0.0\n",
       "      * max_value: null\n",
       "      * unit: ''\n",
       "      * is_normalization: false\n",
       "      * delta: 0.1\n",
       "      * free: true\n",
       "    * a:\n",
       "      * value: 0.0\n",
       "      * desc: lower bound of distribution\n",
       "      * min_value: 0.0\n",
       "      * max_value: null\n",
       "      * unit: ''\n",
       "      * is_normalization: false\n",
       "      * delta: 0.1\n",
       "      * free: true\n",
       "    * b:\n",
       "      * value: 1.0\n",
       "      * desc: upper bound of distribution\n",
       "      * min_value: 0.0\n",
       "      * max_value: null\n",
       "      * unit: ''\n",
       "      * is_normalization: false\n",
       "      * delta: 0.1\n",
       "      * free: true"
      ]
     },
     "metadata": {},
     "output_type": "display_data"
    }
   ],
   "source": [
    "func.display()"
   ]
  },
  {
   "cell_type": "markdown",
   "id": "3258ffa7",
   "metadata": {
    "papermill": {
     "duration": 0.003715,
     "end_time": "2022-09-29T20:01:04.057618",
     "exception": false,
     "start_time": "2022-09-29T20:01:04.053903",
     "status": "completed"
    },
    "tags": []
   },
   "source": [
    "## Shape \n",
    "\n",
    "The shape of the function. \n",
    "\n",
    "*If this is not a photon model but a prior or linear function then ignore the units as these docs are auto-generated*"
   ]
  },
  {
   "cell_type": "code",
   "execution_count": 6,
   "id": "a0265bdb",
   "metadata": {
    "execution": {
     "iopub.execute_input": "2022-09-29T20:01:04.066890Z",
     "iopub.status.busy": "2022-09-29T20:01:04.066470Z",
     "iopub.status.idle": "2022-09-29T20:01:04.569917Z",
     "shell.execute_reply": "2022-09-29T20:01:04.565914Z"
    },
    "papermill": {
     "duration": 0.51699,
     "end_time": "2022-09-29T20:01:04.578429",
     "exception": false,
     "start_time": "2022-09-29T20:01:04.061439",
     "status": "completed"
    },
    "tags": [
     "nbsphinx-thumbnail"
    ]
   },
   "outputs": [
    {
     "data": {
      "text/plain": [
       "Text(0, 0.5, 'probability')"
      ]
     },
     "execution_count": 6,
     "metadata": {},
     "output_type": "execute_result"
    },
    {
     "data": {
      "image/png": "[encoded data removed]",
      "text/plain": [
       "<Figure size 1040x910 with 1 Axes>"
      ]
     },
     "metadata": {},
     "output_type": "display_data"
    }
   ],
   "source": [
    "fig, ax = plt.subplots()\n",
    "\n",
    "\n",
    "ax.plot(energy_grid, func(energy_grid), color=blue, lw=3)\n",
    "\n",
    "ax.set_xlabel(\"x\")\n",
    "ax.set_ylabel(\"probability\")\n"
   ]
  },
  {
   "cell_type": "markdown",
   "id": "7973b8c3",
   "metadata": {
    "papermill": {
     "duration": 0.004876,
     "end_time": "2022-09-29T20:01:04.588291",
     "exception": false,
     "start_time": "2022-09-29T20:01:04.583415",
     "status": "completed"
    },
    "tags": []
   },
   "source": [
    "## Random Number Generation\n",
    "\n",
    "This is how we can generate random numbers from the prior.\n"
   ]
  },
  {
   "cell_type": "code",
   "execution_count": 7,
   "id": "54ae558c",
   "metadata": {
    "execution": {
     "iopub.execute_input": "2022-09-29T20:01:04.598646Z",
     "iopub.status.busy": "2022-09-29T20:01:04.598129Z",
     "iopub.status.idle": "2022-09-29T20:01:06.934234Z",
     "shell.execute_reply": "2022-09-29T20:01:06.933008Z"
    },
    "papermill": {
     "duration": 2.345816,
     "end_time": "2022-09-29T20:01:06.938145",
     "exception": false,
     "start_time": "2022-09-29T20:01:04.592329",
     "status": "completed"
    },
    "tags": []
   },
   "outputs": [
    {
     "data": {
      "text/plain": [
       "Text(0, 0.5, 'N')"
      ]
     },
     "execution_count": 7,
     "metadata": {},
     "output_type": "execute_result"
    },
    {
     "data": {
      "image/png": "[encoded data removed]",
      "text/plain": [
       "<Figure size 1040x910 with 1 Axes>"
      ]
     },
     "metadata": {},
     "output_type": "display_data"
    }
   ],
   "source": [
    "\n",
    "\n",
    "u = np.random.uniform(0,1, size=5000)\n",
    "\n",
    "draws = [func.from_unit_cube(x) for x in u]\n",
    "\n",
    "\n",
    "fig, ax = plt.subplots()\n",
    "\n",
    "\n",
    "ax.hist(draws, color=green, bins=50)\n",
    "\n",
    "ax.set_xlabel(\"value\")\n",
    "ax.set_ylabel(\"N\")\n",
    "\n"
   ]
  }
 ],
 "metadata": {
  "jupytext": {
   "formats": "ipynb,md"
  },
  "kernelspec": {
   "display_name": "Python 3 (ipykernel)",
   "language": "python",
   "name": "python3"
  },
  "language_info": {
   "codemirror_mode": {
    "name": "ipython",
    "version": 3
   },
   "file_extension": ".py",
   "mimetype": "text/x-python",
   "name": "python",
   "nbconvert_exporter": "python",
   "pygments_lexer": "ipython3",
   "version": "3.9.14"
  },
  "papermill": {
   "default_parameters": {},
   "duration": 10.496831,
   "end_time": "2022-09-29T20:01:07.641464",
   "environment_variables": {},
   "exception": null,
   "input_path": "Powerlaw_Prior.ipynb",
   "output_path": "/Users/runner/work/astromodels/astromodels/docs/notebooks/Powerlaw_Prior.ipynb",
   "parameters": {
    "func_name": "Powerlaw_Prior",
    "positive_prior": true
   },
   "start_time": "2022-09-29T20:00:57.144633",
   "version": "2.4.0"
  }
 },
 "nbformat": 4,
 "nbformat_minor": 5
}
