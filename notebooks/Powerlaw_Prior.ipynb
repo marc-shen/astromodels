{
 "cells": [
  {
   "cell_type": "markdown",
   "id": "82b01fad",
   "metadata": {
    "papermill": {
     "duration": 0.0054,
     "end_time": "2024-09-10T20:42:30.722629",
     "exception": false,
     "start_time": "2024-09-10T20:42:30.717229",
     "status": "completed"
    },
    "tags": []
   },
   "source": [
    "# Powerlaw Prior"
   ]
  },
  {
   "cell_type": "code",
   "execution_count": 1,
   "id": "7abdeba6",
   "metadata": {
    "execution": {
     "iopub.execute_input": "2024-09-10T20:42:30.732244Z",
     "iopub.status.busy": "2024-09-10T20:42:30.731783Z",
     "iopub.status.idle": "2024-09-10T20:42:33.571834Z",
     "shell.execute_reply": "2024-09-10T20:42:33.570997Z"
    },
    "nbsphinx": "hidden",
    "papermill": {
     "duration": 2.848573,
     "end_time": "2024-09-10T20:42:33.575227",
     "exception": false,
     "start_time": "2024-09-10T20:42:30.726654",
     "status": "completed"
    },
    "tags": []
   },
   "outputs": [],
   "source": [
    "%%capture\n",
    "\n",
    "import numpy as np\n",
    "\n",
    "import matplotlib.pyplot as plt\n",
    "\n",
    "import warnings\n",
    "warnings.simplefilter(\"ignore\")\n",
    "\n",
    "from astromodels.functions.function import _known_functions\n",
    "\n",
    "\n",
    "from jupyterthemes import jtplot\n",
    "jtplot.style(context=\"talk\", fscale=1, ticks=True, grid=False)\n",
    "%matplotlib inline"
   ]
  },
  {
   "cell_type": "code",
   "execution_count": 2,
   "id": "4526392e",
   "metadata": {
    "execution": {
     "iopub.execute_input": "2024-09-10T20:42:33.582166Z",
     "iopub.status.busy": "2024-09-10T20:42:33.581699Z",
     "iopub.status.idle": "2024-09-10T20:42:33.585849Z",
     "shell.execute_reply": "2024-09-10T20:42:33.584798Z"
    },
    "nbsphinx": "hidden",
    "papermill": {
     "duration": 0.010393,
     "end_time": "2024-09-10T20:42:33.588227",
     "exception": false,
     "start_time": "2024-09-10T20:42:33.577834",
     "status": "completed"
    },
    "tags": [
     "parameters"
    ]
   },
   "outputs": [],
   "source": [
    "func_name = \"TbAbs\"\n",
    "\n",
    "positive_prior = False\n"
   ]
  },
  {
   "cell_type": "code",
   "execution_count": 3,
   "id": "718ca89b",
   "metadata": {
    "execution": {
     "iopub.execute_input": "2024-09-10T20:42:33.592761Z",
     "iopub.status.busy": "2024-09-10T20:42:33.592532Z",
     "iopub.status.idle": "2024-09-10T20:42:33.595466Z",
     "shell.execute_reply": "2024-09-10T20:42:33.594797Z"
    },
    "papermill": {
     "duration": 0.008039,
     "end_time": "2024-09-10T20:42:33.597695",
     "exception": false,
     "start_time": "2024-09-10T20:42:33.589656",
     "status": "completed"
    },
    "tags": [
     "injected-parameters"
    ]
   },
   "outputs": [],
   "source": [
    "# Parameters\n",
    "func_name = \"Powerlaw_Prior\"\n",
    "positive_prior = True\n"
   ]
  },
  {
   "cell_type": "code",
   "execution_count": 4,
   "id": "39d6eb96",
   "metadata": {
    "execution": {
     "iopub.execute_input": "2024-09-10T20:42:33.605582Z",
     "iopub.status.busy": "2024-09-10T20:42:33.604819Z",
     "iopub.status.idle": "2024-09-10T20:42:33.613475Z",
     "shell.execute_reply": "2024-09-10T20:42:33.611833Z"
    },
    "lines_to_next_cell": 0,
    "nbsphinx": "hidden",
    "papermill": {
     "duration": 0.017913,
     "end_time": "2024-09-10T20:42:33.618361",
     "exception": false,
     "start_time": "2024-09-10T20:42:33.600448",
     "status": "completed"
    },
    "tags": []
   },
   "outputs": [],
   "source": [
    "func = _known_functions[func_name]()\n",
    "\n",
    "if not positive_prior:\n",
    "\n",
    "\tenergy_grid = np.linspace(-5,5,1000)\n",
    "\n",
    "else:\n",
    "    \n",
    "    energy_grid = np.linspace(0,1,1000)\n",
    "    \n",
    "    \n",
    "    \n",
    "    \n",
    "blue = \"#4152E3\"\n",
    "red = \"#E3414B\"\n",
    "green = \"#41E39E\""
   ]
  },
  {
   "cell_type": "markdown",
   "id": "87b17cab",
   "metadata": {
    "lines_to_next_cell": 0,
    "papermill": {
     "duration": 0.002191,
     "end_time": "2024-09-10T20:42:33.623470",
     "exception": false,
     "start_time": "2024-09-10T20:42:33.621279",
     "status": "completed"
    },
    "tags": []
   },
   "source": [
    "## Description"
   ]
  },
  {
   "cell_type": "code",
   "execution_count": 5,
   "id": "7a5ff09f",
   "metadata": {
    "execution": {
     "iopub.execute_input": "2024-09-10T20:42:33.635974Z",
     "iopub.status.busy": "2024-09-10T20:42:33.635393Z",
     "iopub.status.idle": "2024-09-10T20:42:33.644554Z",
     "shell.execute_reply": "2024-09-10T20:42:33.643380Z"
    },
    "papermill": {
     "duration": 0.022795,
     "end_time": "2024-09-10T20:42:33.649703",
     "exception": false,
     "start_time": "2024-09-10T20:42:33.626908",
     "status": "completed"
    },
    "tags": []
   },
   "outputs": [
    {
     "data": {
      "text/html": [
       "<ul>\n",
       "\n",
       "<li>description: An power law distribution function between a-b</li>\n",
       "\n",
       "<li>formula: $ f(x, \\alpha) = \\alpha x^{\\alpha-1)$</li>\n",
       "\n",
       "<li>parameters: \n",
       "<ul>\n",
       "\n",
       "<li>alpha: \n",
       "<ul>\n",
       "\n",
       "<li>value: 1.0</li>\n",
       "\n",
       "<li>desc: slope parameter</li>\n",
       "\n",
       "<li>min_value: 0.0</li>\n",
       "\n",
       "<li>max_value: None</li>\n",
       "\n",
       "<li>unit: </li>\n",
       "\n",
       "<li>is_normalization: False</li>\n",
       "\n",
       "<li>delta: 0.1</li>\n",
       "\n",
       "<li>free: True</li>\n",
       "\n",
       "</ul>\n",
       "\n",
       "</li>\n",
       "\n",
       "<li>a: \n",
       "<ul>\n",
       "\n",
       "<li>value: 0.0</li>\n",
       "\n",
       "<li>desc: lower bound of distribution</li>\n",
       "\n",
       "<li>min_value: 0.0</li>\n",
       "\n",
       "<li>max_value: None</li>\n",
       "\n",
       "<li>unit: </li>\n",
       "\n",
       "<li>is_normalization: False</li>\n",
       "\n",
       "<li>delta: 0.1</li>\n",
       "\n",
       "<li>free: True</li>\n",
       "\n",
       "</ul>\n",
       "\n",
       "</li>\n",
       "\n",
       "<li>b: \n",
       "<ul>\n",
       "\n",
       "<li>value: 1.0</li>\n",
       "\n",
       "<li>desc: upper bound of distribution</li>\n",
       "\n",
       "<li>min_value: 0.0</li>\n",
       "\n",
       "<li>max_value: None</li>\n",
       "\n",
       "<li>unit: </li>\n",
       "\n",
       "<li>is_normalization: False</li>\n",
       "\n",
       "<li>delta: 0.1</li>\n",
       "\n",
       "<li>free: True</li>\n",
       "\n",
       "</ul>\n",
       "\n",
       "</li>\n",
       "\n",
       "</ul>\n",
       "\n",
       "</li>\n",
       "\n",
       "</ul>\n"
      ],
      "text/plain": [
       "  * description: An power law distribution function between a-b\n",
       "  * formula: $ f(x, \\alpha) = \\alpha x^{\\alpha-1)$\n",
       "  * parameters:\n",
       "    * alpha:\n",
       "      * value: 1.0\n",
       "      * desc: slope parameter\n",
       "      * min_value: 0.0\n",
       "      * max_value: null\n",
       "      * unit: ''\n",
       "      * is_normalization: false\n",
       "      * delta: 0.1\n",
       "      * free: true\n",
       "    * a:\n",
       "      * value: 0.0\n",
       "      * desc: lower bound of distribution\n",
       "      * min_value: 0.0\n",
       "      * max_value: null\n",
       "      * unit: ''\n",
       "      * is_normalization: false\n",
       "      * delta: 0.1\n",
       "      * free: true\n",
       "    * b:\n",
       "      * value: 1.0\n",
       "      * desc: upper bound of distribution\n",
       "      * min_value: 0.0\n",
       "      * max_value: null\n",
       "      * unit: ''\n",
       "      * is_normalization: false\n",
       "      * delta: 0.1\n",
       "      * free: true"
      ]
     },
     "metadata": {},
     "output_type": "display_data"
    }
   ],
   "source": [
    "func.display()"
   ]
  },
  {
   "cell_type": "markdown",
   "id": "9ea5422c",
   "metadata": {
    "papermill": {
     "duration": 0.003231,
     "end_time": "2024-09-10T20:42:33.657460",
     "exception": false,
     "start_time": "2024-09-10T20:42:33.654229",
     "status": "completed"
    },
    "tags": []
   },
   "source": [
    "## Shape \n",
    "\n",
    "The shape of the function. \n",
    "\n",
    "*If this is not a photon model but a prior or linear function then ignore the units as these docs are auto-generated*"
   ]
  },
  {
   "cell_type": "code",
   "execution_count": 6,
   "id": "a46f2274",
   "metadata": {
    "execution": {
     "iopub.execute_input": "2024-09-10T20:42:33.664868Z",
     "iopub.status.busy": "2024-09-10T20:42:33.664165Z",
     "iopub.status.idle": "2024-09-10T20:42:33.889614Z",
     "shell.execute_reply": "2024-09-10T20:42:33.887988Z"
    },
    "papermill": {
     "duration": 0.232479,
     "end_time": "2024-09-10T20:42:33.893545",
     "exception": false,
     "start_time": "2024-09-10T20:42:33.661066",
     "status": "completed"
    },
    "tags": [
     "nbsphinx-thumbnail"
    ]
   },
   "outputs": [
    {
     "data": {
      "text/plain": [
       "Text(0, 0.5, 'probability')"
      ]
     },
     "execution_count": 6,
     "metadata": {},
     "output_type": "execute_result"
    },
    {
     "data": {
      "image/png": "[encoded data removed]",
      "text/plain": [
       "<Figure size 1040x910 with 1 Axes>"
      ]
     },
     "metadata": {},
     "output_type": "display_data"
    }
   ],
   "source": [
    "fig, ax = plt.subplots()\n",
    "\n",
    "\n",
    "ax.plot(energy_grid, func(energy_grid), color=blue, lw=3)\n",
    "\n",
    "ax.set_xlabel(\"x\")\n",
    "ax.set_ylabel(\"probability\")\n"
   ]
  },
  {
   "cell_type": "markdown",
   "id": "c7082256",
   "metadata": {
    "papermill": {
     "duration": 0.002521,
     "end_time": "2024-09-10T20:42:33.907098",
     "exception": false,
     "start_time": "2024-09-10T20:42:33.904577",
     "status": "completed"
    },
    "tags": []
   },
   "source": [
    "## Random Number Generation\n",
    "\n",
    "This is how we can generate random numbers from the prior.\n"
   ]
  },
  {
   "cell_type": "code",
   "execution_count": 7,
   "id": "77eb84fb",
   "metadata": {
    "execution": {
     "iopub.execute_input": "2024-09-10T20:42:33.917274Z",
     "iopub.status.busy": "2024-09-10T20:42:33.916747Z",
     "iopub.status.idle": "2024-09-10T20:42:34.462397Z",
     "shell.execute_reply": "2024-09-10T20:42:34.462018Z"
    },
    "papermill": {
     "duration": 0.554628,
     "end_time": "2024-09-10T20:42:34.464095",
     "exception": false,
     "start_time": "2024-09-10T20:42:33.909467",
     "status": "completed"
    },
    "tags": []
   },
   "outputs": [
    {
     "data": {
      "text/plain": [
       "Text(0, 0.5, 'N')"
      ]
     },
     "execution_count": 7,
     "metadata": {},
     "output_type": "execute_result"
    },
    {
     "data": {
      "image/png": "[encoded data removed]",
      "text/plain": [
       "<Figure size 1040x910 with 1 Axes>"
      ]
     },
     "metadata": {},
     "output_type": "display_data"
    }
   ],
   "source": [
    "\n",
    "\n",
    "u = np.random.uniform(0,1, size=5000)\n",
    "\n",
    "draws = [func.from_unit_cube(x) for x in u]\n",
    "\n",
    "\n",
    "fig, ax = plt.subplots()\n",
    "\n",
    "\n",
    "ax.hist(draws, color=green, bins=50)\n",
    "\n",
    "ax.set_xlabel(\"value\")\n",
    "ax.set_ylabel(\"N\")\n",
    "\n"
   ]
  }
 ],
 "metadata": {
  "jupytext": {
   "formats": "ipynb,md"
  },
  "kernelspec": {
   "display_name": "Python 3 (ipykernel)",
   "language": "python",
   "name": "python3"
  },
  "language_info": {
   "codemirror_mode": {
    "name": "ipython",
    "version": 3
   },
   "file_extension": ".py",
   "mimetype": "text/x-python",
   "name": "python",
   "nbconvert_exporter": "python",
   "pygments_lexer": "ipython3",
   "version": "3.9.13"
  },
  "papermill": {
   "default_parameters": {},
   "duration": 4.951542,
   "end_time": "2024-09-10T20:42:35.022987",
   "environment_variables": {},
   "exception": null,
   "input_path": "Powerlaw_Prior.ipynb",
   "output_path": "/Users/runner/work/astromodels/astromodels/docs/notebooks/Powerlaw_Prior.ipynb",
   "parameters": {
    "func_name": "Powerlaw_Prior",
    "positive_prior": true
   },
   "start_time": "2024-09-10T20:42:30.071445",
   "version": "2.6.0"
  }
 },
 "nbformat": 4,
 "nbformat_minor": 5
}
