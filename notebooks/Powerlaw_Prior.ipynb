{
 "cells": [
  {
   "cell_type": "markdown",
   "id": "4aaaea6f",
   "metadata": {
    "papermill": {
     "duration": 0.004219,
     "end_time": "2023-11-01T01:15:43.692477",
     "exception": false,
     "start_time": "2023-11-01T01:15:43.688258",
     "status": "completed"
    },
    "tags": []
   },
   "source": [
    "# Powerlaw Prior"
   ]
  },
  {
   "cell_type": "code",
   "execution_count": 1,
   "id": "c810a847",
   "metadata": {
    "execution": {
     "iopub.execute_input": "2023-11-01T01:15:43.703341Z",
     "iopub.status.busy": "2023-11-01T01:15:43.702714Z",
     "iopub.status.idle": "2023-11-01T01:15:47.899117Z",
     "shell.execute_reply": "2023-11-01T01:15:47.896920Z"
    },
    "nbsphinx": "hidden",
    "papermill": {
     "duration": 4.20806,
     "end_time": "2023-11-01T01:15:47.905362",
     "exception": false,
     "start_time": "2023-11-01T01:15:43.697302",
     "status": "completed"
    },
    "tags": []
   },
   "outputs": [],
   "source": [
    "%%capture\n",
    "\n",
    "import numpy as np\n",
    "\n",
    "import matplotlib.pyplot as plt\n",
    "\n",
    "import warnings\n",
    "warnings.simplefilter(\"ignore\")\n",
    "\n",
    "from astromodels.functions.function import _known_functions\n",
    "\n",
    "\n",
    "from jupyterthemes import jtplot\n",
    "jtplot.style(context=\"talk\", fscale=1, ticks=True, grid=False)\n",
    "%matplotlib inline"
   ]
  },
  {
   "cell_type": "code",
   "execution_count": 2,
   "id": "1f416ce5",
   "metadata": {
    "execution": {
     "iopub.execute_input": "2023-11-01T01:15:47.914497Z",
     "iopub.status.busy": "2023-11-01T01:15:47.913912Z",
     "iopub.status.idle": "2023-11-01T01:15:47.922692Z",
     "shell.execute_reply": "2023-11-01T01:15:47.919495Z"
    },
    "nbsphinx": "hidden",
    "papermill": {
     "duration": 0.019464,
     "end_time": "2023-11-01T01:15:47.927962",
     "exception": false,
     "start_time": "2023-11-01T01:15:47.908498",
     "status": "completed"
    },
    "tags": [
     "parameters"
    ]
   },
   "outputs": [],
   "source": [
    "func_name = \"TbAbs\"\n",
    "\n",
    "positive_prior = False\n"
   ]
  },
  {
   "cell_type": "code",
   "execution_count": 3,
   "id": "bf00b21f",
   "metadata": {
    "execution": {
     "iopub.execute_input": "2023-11-01T01:15:47.936472Z",
     "iopub.status.busy": "2023-11-01T01:15:47.935911Z",
     "iopub.status.idle": "2023-11-01T01:15:47.946624Z",
     "shell.execute_reply": "2023-11-01T01:15:47.944837Z"
    },
    "papermill": {
     "duration": 0.021304,
     "end_time": "2023-11-01T01:15:47.952106",
     "exception": false,
     "start_time": "2023-11-01T01:15:47.930802",
     "status": "completed"
    },
    "tags": [
     "injected-parameters"
    ]
   },
   "outputs": [],
   "source": [
    "# Parameters\n",
    "func_name = \"Powerlaw_Prior\"\n",
    "positive_prior = True\n"
   ]
  },
  {
   "cell_type": "code",
   "execution_count": 4,
   "id": "43eeaf32",
   "metadata": {
    "execution": {
     "iopub.execute_input": "2023-11-01T01:15:47.960587Z",
     "iopub.status.busy": "2023-11-01T01:15:47.960075Z",
     "iopub.status.idle": "2023-11-01T01:15:47.972276Z",
     "shell.execute_reply": "2023-11-01T01:15:47.970708Z"
    },
    "lines_to_next_cell": 0,
    "nbsphinx": "hidden",
    "papermill": {
     "duration": 0.02217,
     "end_time": "2023-11-01T01:15:47.977256",
     "exception": false,
     "start_time": "2023-11-01T01:15:47.955086",
     "status": "completed"
    },
    "tags": []
   },
   "outputs": [],
   "source": [
    "func = _known_functions[func_name]()\n",
    "\n",
    "if not positive_prior:\n",
    "\n",
    "\tenergy_grid = np.linspace(-5,5,1000)\n",
    "\n",
    "else:\n",
    "    \n",
    "    energy_grid = np.linspace(0,1,1000)\n",
    "    \n",
    "    \n",
    "    \n",
    "    \n",
    "blue = \"#4152E3\"\n",
    "red = \"#E3414B\"\n",
    "green = \"#41E39E\""
   ]
  },
  {
   "cell_type": "markdown",
   "id": "0e89d883",
   "metadata": {
    "lines_to_next_cell": 0,
    "papermill": {
     "duration": 0.003065,
     "end_time": "2023-11-01T01:15:47.983336",
     "exception": false,
     "start_time": "2023-11-01T01:15:47.980271",
     "status": "completed"
    },
    "tags": []
   },
   "source": [
    "## Description"
   ]
  },
  {
   "cell_type": "code",
   "execution_count": 5,
   "id": "a0d86d90",
   "metadata": {
    "execution": {
     "iopub.execute_input": "2023-11-01T01:15:47.991429Z",
     "iopub.status.busy": "2023-11-01T01:15:47.990894Z",
     "iopub.status.idle": "2023-11-01T01:15:48.006393Z",
     "shell.execute_reply": "2023-11-01T01:15:48.004805Z"
    },
    "papermill": {
     "duration": 0.025469,
     "end_time": "2023-11-01T01:15:48.011659",
     "exception": false,
     "start_time": "2023-11-01T01:15:47.986190",
     "status": "completed"
    },
    "tags": []
   },
   "outputs": [
    {
     "data": {
      "text/html": [
       "<ul>\n",
       "\n",
       "<li>description: An power law distribution function between a-b</li>\n",
       "\n",
       "<li>formula: $ f(x, \\alpha) = \\alpha x^{\\alpha-1)$</li>\n",
       "\n",
       "<li>parameters: \n",
       "<ul>\n",
       "\n",
       "<li>alpha: \n",
       "<ul>\n",
       "\n",
       "<li>value: 1.0</li>\n",
       "\n",
       "<li>desc: slope parameter</li>\n",
       "\n",
       "<li>min_value: 0.0</li>\n",
       "\n",
       "<li>max_value: None</li>\n",
       "\n",
       "<li>unit: </li>\n",
       "\n",
       "<li>is_normalization: False</li>\n",
       "\n",
       "<li>delta: 0.1</li>\n",
       "\n",
       "<li>free: True</li>\n",
       "\n",
       "</ul>\n",
       "\n",
       "</li>\n",
       "\n",
       "<li>a: \n",
       "<ul>\n",
       "\n",
       "<li>value: 0.0</li>\n",
       "\n",
       "<li>desc: lower bound of distribution</li>\n",
       "\n",
       "<li>min_value: 0.0</li>\n",
       "\n",
       "<li>max_value: None</li>\n",
       "\n",
       "<li>unit: </li>\n",
       "\n",
       "<li>is_normalization: False</li>\n",
       "\n",
       "<li>delta: 0.1</li>\n",
       "\n",
       "<li>free: True</li>\n",
       "\n",
       "</ul>\n",
       "\n",
       "</li>\n",
       "\n",
       "<li>b: \n",
       "<ul>\n",
       "\n",
       "<li>value: 1.0</li>\n",
       "\n",
       "<li>desc: upper bound of distribution</li>\n",
       "\n",
       "<li>min_value: 0.0</li>\n",
       "\n",
       "<li>max_value: None</li>\n",
       "\n",
       "<li>unit: </li>\n",
       "\n",
       "<li>is_normalization: False</li>\n",
       "\n",
       "<li>delta: 0.1</li>\n",
       "\n",
       "<li>free: True</li>\n",
       "\n",
       "</ul>\n",
       "\n",
       "</li>\n",
       "\n",
       "</ul>\n",
       "\n",
       "</li>\n",
       "\n",
       "</ul>\n"
      ],
      "text/plain": [
       "  * description: An power law distribution function between a-b\n",
       "  * formula: $ f(x, \\alpha) = \\alpha x^{\\alpha-1)$\n",
       "  * parameters:\n",
       "    * alpha:\n",
       "      * value: 1.0\n",
       "      * desc: slope parameter\n",
       "      * min_value: 0.0\n",
       "      * max_value: null\n",
       "      * unit: ''\n",
       "      * is_normalization: false\n",
       "      * delta: 0.1\n",
       "      * free: true\n",
       "    * a:\n",
       "      * value: 0.0\n",
       "      * desc: lower bound of distribution\n",
       "      * min_value: 0.0\n",
       "      * max_value: null\n",
       "      * unit: ''\n",
       "      * is_normalization: false\n",
       "      * delta: 0.1\n",
       "      * free: true\n",
       "    * b:\n",
       "      * value: 1.0\n",
       "      * desc: upper bound of distribution\n",
       "      * min_value: 0.0\n",
       "      * max_value: null\n",
       "      * unit: ''\n",
       "      * is_normalization: false\n",
       "      * delta: 0.1\n",
       "      * free: true"
      ]
     },
     "metadata": {},
     "output_type": "display_data"
    }
   ],
   "source": [
    "func.display()"
   ]
  },
  {
   "cell_type": "markdown",
   "id": "f66fbc90",
   "metadata": {
    "papermill": {
     "duration": 0.003428,
     "end_time": "2023-11-01T01:15:48.018664",
     "exception": false,
     "start_time": "2023-11-01T01:15:48.015236",
     "status": "completed"
    },
    "tags": []
   },
   "source": [
    "## Shape \n",
    "\n",
    "The shape of the function. \n",
    "\n",
    "*If this is not a photon model but a prior or linear function then ignore the units as these docs are auto-generated*"
   ]
  },
  {
   "cell_type": "code",
   "execution_count": 6,
   "id": "a2b94082",
   "metadata": {
    "execution": {
     "iopub.execute_input": "2023-11-01T01:15:48.027786Z",
     "iopub.status.busy": "2023-11-01T01:15:48.027367Z",
     "iopub.status.idle": "2023-11-01T01:15:48.295044Z",
     "shell.execute_reply": "2023-11-01T01:15:48.293199Z"
    },
    "papermill": {
     "duration": 0.280304,
     "end_time": "2023-11-01T01:15:48.302193",
     "exception": false,
     "start_time": "2023-11-01T01:15:48.021889",
     "status": "completed"
    },
    "tags": [
     "nbsphinx-thumbnail"
    ]
   },
   "outputs": [
    {
     "data": {
      "text/plain": [
       "Text(0, 0.5, 'probability')"
      ]
     },
     "execution_count": 6,
     "metadata": {},
     "output_type": "execute_result"
    },
    {
     "data": {
      "image/png": "[encoded data removed]",
      "text/plain": [
       "<Figure size 1040x910 with 1 Axes>"
      ]
     },
     "metadata": {},
     "output_type": "display_data"
    }
   ],
   "source": [
    "fig, ax = plt.subplots()\n",
    "\n",
    "\n",
    "ax.plot(energy_grid, func(energy_grid), color=blue, lw=3)\n",
    "\n",
    "ax.set_xlabel(\"x\")\n",
    "ax.set_ylabel(\"probability\")\n"
   ]
  },
  {
   "cell_type": "markdown",
   "id": "d7e49afe",
   "metadata": {
    "papermill": {
     "duration": 0.003902,
     "end_time": "2023-11-01T01:15:48.312285",
     "exception": false,
     "start_time": "2023-11-01T01:15:48.308383",
     "status": "completed"
    },
    "tags": []
   },
   "source": [
    "## Random Number Generation\n",
    "\n",
    "This is how we can generate random numbers from the prior.\n"
   ]
  },
  {
   "cell_type": "code",
   "execution_count": 7,
   "id": "c7d2c383",
   "metadata": {
    "execution": {
     "iopub.execute_input": "2023-11-01T01:15:48.323702Z",
     "iopub.status.busy": "2023-11-01T01:15:48.323073Z",
     "iopub.status.idle": "2023-11-01T01:15:49.683248Z",
     "shell.execute_reply": "2023-11-01T01:15:49.680295Z"
    },
    "papermill": {
     "duration": 1.373908,
     "end_time": "2023-11-01T01:15:49.690031",
     "exception": false,
     "start_time": "2023-11-01T01:15:48.316123",
     "status": "completed"
    },
    "tags": []
   },
   "outputs": [
    {
     "data": {
      "text/plain": [
       "Text(0, 0.5, 'N')"
      ]
     },
     "execution_count": 7,
     "metadata": {},
     "output_type": "execute_result"
    },
    {
     "data": {
      "image/png": "[encoded data removed]",
      "text/plain": [
       "<Figure size 1040x910 with 1 Axes>"
      ]
     },
     "metadata": {},
     "output_type": "display_data"
    }
   ],
   "source": [
    "\n",
    "\n",
    "u = np.random.uniform(0,1, size=5000)\n",
    "\n",
    "draws = [func.from_unit_cube(x) for x in u]\n",
    "\n",
    "\n",
    "fig, ax = plt.subplots()\n",
    "\n",
    "\n",
    "ax.hist(draws, color=green, bins=50)\n",
    "\n",
    "ax.set_xlabel(\"value\")\n",
    "ax.set_ylabel(\"N\")\n",
    "\n"
   ]
  }
 ],
 "metadata": {
  "jupytext": {
   "formats": "ipynb,md"
  },
  "kernelspec": {
   "display_name": "Python 3 (ipykernel)",
   "language": "python",
   "name": "python3"
  },
  "language_info": {
   "codemirror_mode": {
    "name": "ipython",
    "version": 3
   },
   "file_extension": ".py",
   "mimetype": "text/x-python",
   "name": "python",
   "nbconvert_exporter": "python",
   "pygments_lexer": "ipython3",
   "version": "3.9.18"
  },
  "papermill": {
   "default_parameters": {},
   "duration": 8.161017,
   "end_time": "2023-11-01T01:15:50.535745",
   "environment_variables": {},
   "exception": null,
   "input_path": "Powerlaw_Prior.ipynb",
   "output_path": "/Users/runner/work/astromodels/astromodels/docs/notebooks/Powerlaw_Prior.ipynb",
   "parameters": {
    "func_name": "Powerlaw_Prior",
    "positive_prior": true
   },
   "start_time": "2023-11-01T01:15:42.374728",
   "version": "2.4.0"
  }
 },
 "nbformat": 4,
 "nbformat_minor": 5
}
