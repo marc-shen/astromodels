{
 "cells": [
  {
   "cell_type": "markdown",
   "id": "a1ac0db8",
   "metadata": {
    "papermill": {
     "duration": 0.003805,
     "end_time": "2024-02-07T19:37:33.821322",
     "exception": false,
     "start_time": "2024-02-07T19:37:33.817517",
     "status": "completed"
    },
    "tags": []
   },
   "source": [
    "# Powerlaw Prior"
   ]
  },
  {
   "cell_type": "code",
   "execution_count": 1,
   "id": "2c259f39",
   "metadata": {
    "execution": {
     "iopub.execute_input": "2024-02-07T19:37:33.829399Z",
     "iopub.status.busy": "2024-02-07T19:37:33.828962Z",
     "iopub.status.idle": "2024-02-07T19:37:37.044188Z",
     "shell.execute_reply": "2024-02-07T19:37:37.042186Z"
    },
    "nbsphinx": "hidden",
    "papermill": {
     "duration": 3.22577,
     "end_time": "2024-02-07T19:37:37.050228",
     "exception": false,
     "start_time": "2024-02-07T19:37:33.824458",
     "status": "completed"
    },
    "tags": []
   },
   "outputs": [],
   "source": [
    "%%capture\n",
    "\n",
    "import numpy as np\n",
    "\n",
    "import matplotlib.pyplot as plt\n",
    "\n",
    "import warnings\n",
    "warnings.simplefilter(\"ignore\")\n",
    "\n",
    "from astromodels.functions.function import _known_functions\n",
    "\n",
    "\n",
    "from jupyterthemes import jtplot\n",
    "jtplot.style(context=\"talk\", fscale=1, ticks=True, grid=False)\n",
    "%matplotlib inline"
   ]
  },
  {
   "cell_type": "code",
   "execution_count": 2,
   "id": "ae31f2d7",
   "metadata": {
    "execution": {
     "iopub.execute_input": "2024-02-07T19:37:37.057980Z",
     "iopub.status.busy": "2024-02-07T19:37:37.057459Z",
     "iopub.status.idle": "2024-02-07T19:37:37.064635Z",
     "shell.execute_reply": "2024-02-07T19:37:37.063073Z"
    },
    "nbsphinx": "hidden",
    "papermill": {
     "duration": 0.016208,
     "end_time": "2024-02-07T19:37:37.069134",
     "exception": false,
     "start_time": "2024-02-07T19:37:37.052926",
     "status": "completed"
    },
    "tags": [
     "parameters"
    ]
   },
   "outputs": [],
   "source": [
    "func_name = \"TbAbs\"\n",
    "\n",
    "positive_prior = False\n"
   ]
  },
  {
   "cell_type": "code",
   "execution_count": 3,
   "id": "471cae38",
   "metadata": {
    "execution": {
     "iopub.execute_input": "2024-02-07T19:37:37.076620Z",
     "iopub.status.busy": "2024-02-07T19:37:37.076067Z",
     "iopub.status.idle": "2024-02-07T19:37:37.083552Z",
     "shell.execute_reply": "2024-02-07T19:37:37.081036Z"
    },
    "papermill": {
     "duration": 0.016612,
     "end_time": "2024-02-07T19:37:37.088409",
     "exception": false,
     "start_time": "2024-02-07T19:37:37.071797",
     "status": "completed"
    },
    "tags": [
     "injected-parameters"
    ]
   },
   "outputs": [],
   "source": [
    "# Parameters\n",
    "func_name = \"Powerlaw_Prior\"\n",
    "positive_prior = True\n"
   ]
  },
  {
   "cell_type": "code",
   "execution_count": 4,
   "id": "425fb2d7",
   "metadata": {
    "execution": {
     "iopub.execute_input": "2024-02-07T19:37:37.095947Z",
     "iopub.status.busy": "2024-02-07T19:37:37.095444Z",
     "iopub.status.idle": "2024-02-07T19:37:37.104481Z",
     "shell.execute_reply": "2024-02-07T19:37:37.102409Z"
    },
    "lines_to_next_cell": 0,
    "nbsphinx": "hidden",
    "papermill": {
     "duration": 0.017295,
     "end_time": "2024-02-07T19:37:37.108457",
     "exception": false,
     "start_time": "2024-02-07T19:37:37.091162",
     "status": "completed"
    },
    "tags": []
   },
   "outputs": [],
   "source": [
    "func = _known_functions[func_name]()\n",
    "\n",
    "if not positive_prior:\n",
    "\n",
    "\tenergy_grid = np.linspace(-5,5,1000)\n",
    "\n",
    "else:\n",
    "    \n",
    "    energy_grid = np.linspace(0,1,1000)\n",
    "    \n",
    "    \n",
    "    \n",
    "    \n",
    "blue = \"#4152E3\"\n",
    "red = \"#E3414B\"\n",
    "green = \"#41E39E\""
   ]
  },
  {
   "cell_type": "markdown",
   "id": "f227eee1",
   "metadata": {
    "lines_to_next_cell": 0,
    "papermill": {
     "duration": 0.002704,
     "end_time": "2024-02-07T19:37:37.113875",
     "exception": false,
     "start_time": "2024-02-07T19:37:37.111171",
     "status": "completed"
    },
    "tags": []
   },
   "source": [
    "## Description"
   ]
  },
  {
   "cell_type": "code",
   "execution_count": 5,
   "id": "7fd07aa3",
   "metadata": {
    "execution": {
     "iopub.execute_input": "2024-02-07T19:37:37.121915Z",
     "iopub.status.busy": "2024-02-07T19:37:37.120721Z",
     "iopub.status.idle": "2024-02-07T19:37:37.135853Z",
     "shell.execute_reply": "2024-02-07T19:37:37.134482Z"
    },
    "papermill": {
     "duration": 0.023846,
     "end_time": "2024-02-07T19:37:37.140257",
     "exception": false,
     "start_time": "2024-02-07T19:37:37.116411",
     "status": "completed"
    },
    "tags": []
   },
   "outputs": [
    {
     "data": {
      "text/html": [
       "<ul>\n",
       "\n",
       "<li>description: An power law distribution function between a-b</li>\n",
       "\n",
       "<li>formula: $ f(x, \\alpha) = \\alpha x^{\\alpha-1)$</li>\n",
       "\n",
       "<li>parameters: \n",
       "<ul>\n",
       "\n",
       "<li>alpha: \n",
       "<ul>\n",
       "\n",
       "<li>value: 1.0</li>\n",
       "\n",
       "<li>desc: slope parameter</li>\n",
       "\n",
       "<li>min_value: 0.0</li>\n",
       "\n",
       "<li>max_value: None</li>\n",
       "\n",
       "<li>unit: </li>\n",
       "\n",
       "<li>is_normalization: False</li>\n",
       "\n",
       "<li>delta: 0.1</li>\n",
       "\n",
       "<li>free: True</li>\n",
       "\n",
       "</ul>\n",
       "\n",
       "</li>\n",
       "\n",
       "<li>a: \n",
       "<ul>\n",
       "\n",
       "<li>value: 0.0</li>\n",
       "\n",
       "<li>desc: lower bound of distribution</li>\n",
       "\n",
       "<li>min_value: 0.0</li>\n",
       "\n",
       "<li>max_value: None</li>\n",
       "\n",
       "<li>unit: </li>\n",
       "\n",
       "<li>is_normalization: False</li>\n",
       "\n",
       "<li>delta: 0.1</li>\n",
       "\n",
       "<li>free: True</li>\n",
       "\n",
       "</ul>\n",
       "\n",
       "</li>\n",
       "\n",
       "<li>b: \n",
       "<ul>\n",
       "\n",
       "<li>value: 1.0</li>\n",
       "\n",
       "<li>desc: upper bound of distribution</li>\n",
       "\n",
       "<li>min_value: 0.0</li>\n",
       "\n",
       "<li>max_value: None</li>\n",
       "\n",
       "<li>unit: </li>\n",
       "\n",
       "<li>is_normalization: False</li>\n",
       "\n",
       "<li>delta: 0.1</li>\n",
       "\n",
       "<li>free: True</li>\n",
       "\n",
       "</ul>\n",
       "\n",
       "</li>\n",
       "\n",
       "</ul>\n",
       "\n",
       "</li>\n",
       "\n",
       "</ul>\n"
      ],
      "text/plain": [
       "  * description: An power law distribution function between a-b\n",
       "  * formula: $ f(x, \\alpha) = \\alpha x^{\\alpha-1)$\n",
       "  * parameters:\n",
       "    * alpha:\n",
       "      * value: 1.0\n",
       "      * desc: slope parameter\n",
       "      * min_value: 0.0\n",
       "      * max_value: null\n",
       "      * unit: ''\n",
       "      * is_normalization: false\n",
       "      * delta: 0.1\n",
       "      * free: true\n",
       "    * a:\n",
       "      * value: 0.0\n",
       "      * desc: lower bound of distribution\n",
       "      * min_value: 0.0\n",
       "      * max_value: null\n",
       "      * unit: ''\n",
       "      * is_normalization: false\n",
       "      * delta: 0.1\n",
       "      * free: true\n",
       "    * b:\n",
       "      * value: 1.0\n",
       "      * desc: upper bound of distribution\n",
       "      * min_value: 0.0\n",
       "      * max_value: null\n",
       "      * unit: ''\n",
       "      * is_normalization: false\n",
       "      * delta: 0.1\n",
       "      * free: true"
      ]
     },
     "metadata": {},
     "output_type": "display_data"
    }
   ],
   "source": [
    "func.display()"
   ]
  },
  {
   "cell_type": "markdown",
   "id": "ee6c653d",
   "metadata": {
    "papermill": {
     "duration": 0.003028,
     "end_time": "2024-02-07T19:37:37.146365",
     "exception": false,
     "start_time": "2024-02-07T19:37:37.143337",
     "status": "completed"
    },
    "tags": []
   },
   "source": [
    "## Shape \n",
    "\n",
    "The shape of the function. \n",
    "\n",
    "*If this is not a photon model but a prior or linear function then ignore the units as these docs are auto-generated*"
   ]
  },
  {
   "cell_type": "code",
   "execution_count": 6,
   "id": "c78254ad",
   "metadata": {
    "execution": {
     "iopub.execute_input": "2024-02-07T19:37:37.154413Z",
     "iopub.status.busy": "2024-02-07T19:37:37.153778Z",
     "iopub.status.idle": "2024-02-07T19:37:37.397629Z",
     "shell.execute_reply": "2024-02-07T19:37:37.396063Z"
    },
    "papermill": {
     "duration": 0.253626,
     "end_time": "2024-02-07T19:37:37.402734",
     "exception": false,
     "start_time": "2024-02-07T19:37:37.149108",
     "status": "completed"
    },
    "tags": [
     "nbsphinx-thumbnail"
    ]
   },
   "outputs": [
    {
     "data": {
      "text/plain": [
       "Text(0, 0.5, 'probability')"
      ]
     },
     "execution_count": 6,
     "metadata": {},
     "output_type": "execute_result"
    },
    {
     "data": {
      "image/png": "[encoded data removed]",
      "text/plain": [
       "<Figure size 1040x910 with 1 Axes>"
      ]
     },
     "metadata": {},
     "output_type": "display_data"
    }
   ],
   "source": [
    "fig, ax = plt.subplots()\n",
    "\n",
    "\n",
    "ax.plot(energy_grid, func(energy_grid), color=blue, lw=3)\n",
    "\n",
    "ax.set_xlabel(\"x\")\n",
    "ax.set_ylabel(\"probability\")\n"
   ]
  },
  {
   "cell_type": "markdown",
   "id": "8cdddc48",
   "metadata": {
    "papermill": {
     "duration": 0.003651,
     "end_time": "2024-02-07T19:37:37.409890",
     "exception": false,
     "start_time": "2024-02-07T19:37:37.406239",
     "status": "completed"
    },
    "tags": []
   },
   "source": [
    "## Random Number Generation\n",
    "\n",
    "This is how we can generate random numbers from the prior.\n"
   ]
  },
  {
   "cell_type": "code",
   "execution_count": 7,
   "id": "e5f2ac57",
   "metadata": {
    "execution": {
     "iopub.execute_input": "2024-02-07T19:37:37.418908Z",
     "iopub.status.busy": "2024-02-07T19:37:37.418471Z",
     "iopub.status.idle": "2024-02-07T19:37:38.667416Z",
     "shell.execute_reply": "2024-02-07T19:37:38.664864Z"
    },
    "papermill": {
     "duration": 1.259029,
     "end_time": "2024-02-07T19:37:38.672211",
     "exception": false,
     "start_time": "2024-02-07T19:37:37.413182",
     "status": "completed"
    },
    "tags": []
   },
   "outputs": [
    {
     "data": {
      "text/plain": [
       "Text(0, 0.5, 'N')"
      ]
     },
     "execution_count": 7,
     "metadata": {},
     "output_type": "execute_result"
    },
    {
     "data": {
      "image/png": "[encoded data removed]",
      "text/plain": [
       "<Figure size 1040x910 with 1 Axes>"
      ]
     },
     "metadata": {},
     "output_type": "display_data"
    }
   ],
   "source": [
    "\n",
    "\n",
    "u = np.random.uniform(0,1, size=5000)\n",
    "\n",
    "draws = [func.from_unit_cube(x) for x in u]\n",
    "\n",
    "\n",
    "fig, ax = plt.subplots()\n",
    "\n",
    "\n",
    "ax.hist(draws, color=green, bins=50)\n",
    "\n",
    "ax.set_xlabel(\"value\")\n",
    "ax.set_ylabel(\"N\")\n",
    "\n"
   ]
  }
 ],
 "metadata": {
  "jupytext": {
   "formats": "ipynb,md"
  },
  "kernelspec": {
   "display_name": "Python 3 (ipykernel)",
   "language": "python",
   "name": "python3"
  },
  "language_info": {
   "codemirror_mode": {
    "name": "ipython",
    "version": 3
   },
   "file_extension": ".py",
   "mimetype": "text/x-python",
   "name": "python",
   "nbconvert_exporter": "python",
   "pygments_lexer": "ipython3",
   "version": "3.9.18"
  },
  "papermill": {
   "default_parameters": {},
   "duration": 6.458899,
   "end_time": "2024-02-07T19:37:39.311344",
   "environment_variables": {},
   "exception": null,
   "input_path": "Powerlaw_Prior.ipynb",
   "output_path": "/Users/runner/work/astromodels/astromodels/docs/notebooks/Powerlaw_Prior.ipynb",
   "parameters": {
    "func_name": "Powerlaw_Prior",
    "positive_prior": true
   },
   "start_time": "2024-02-07T19:37:32.852445",
   "version": "2.5.0"
  }
 },
 "nbformat": 4,
 "nbformat_minor": 5
}
