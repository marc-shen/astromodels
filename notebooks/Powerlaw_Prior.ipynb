{
 "cells": [
  {
   "cell_type": "markdown",
   "id": "ecc88c8b",
   "metadata": {
    "papermill": {
     "duration": 0.005595,
     "end_time": "2024-09-10T16:13:14.201995",
     "exception": false,
     "start_time": "2024-09-10T16:13:14.196400",
     "status": "completed"
    },
    "tags": []
   },
   "source": [
    "# Powerlaw Prior"
   ]
  },
  {
   "cell_type": "code",
   "execution_count": 1,
   "id": "69c9d8c1",
   "metadata": {
    "execution": {
     "iopub.execute_input": "2024-09-10T16:13:14.210876Z",
     "iopub.status.busy": "2024-09-10T16:13:14.210409Z",
     "iopub.status.idle": "2024-09-10T16:13:16.093385Z",
     "shell.execute_reply": "2024-09-10T16:13:16.092384Z"
    },
    "nbsphinx": "hidden",
    "papermill": {
     "duration": 1.89034,
     "end_time": "2024-09-10T16:13:16.095903",
     "exception": false,
     "start_time": "2024-09-10T16:13:14.205563",
     "status": "completed"
    },
    "tags": []
   },
   "outputs": [],
   "source": [
    "%%capture\n",
    "\n",
    "import numpy as np\n",
    "\n",
    "import matplotlib.pyplot as plt\n",
    "\n",
    "import warnings\n",
    "warnings.simplefilter(\"ignore\")\n",
    "\n",
    "from astromodels.functions.function import _known_functions\n",
    "\n",
    "\n",
    "from jupyterthemes import jtplot\n",
    "jtplot.style(context=\"talk\", fscale=1, ticks=True, grid=False)\n",
    "%matplotlib inline"
   ]
  },
  {
   "cell_type": "code",
   "execution_count": 2,
   "id": "e21f3272",
   "metadata": {
    "execution": {
     "iopub.execute_input": "2024-09-10T16:13:16.100815Z",
     "iopub.status.busy": "2024-09-10T16:13:16.100307Z",
     "iopub.status.idle": "2024-09-10T16:13:16.103984Z",
     "shell.execute_reply": "2024-09-10T16:13:16.103084Z"
    },
    "nbsphinx": "hidden",
    "papermill": {
     "duration": 0.008404,
     "end_time": "2024-09-10T16:13:16.105865",
     "exception": false,
     "start_time": "2024-09-10T16:13:16.097461",
     "status": "completed"
    },
    "tags": [
     "parameters"
    ]
   },
   "outputs": [],
   "source": [
    "func_name = \"TbAbs\"\n",
    "\n",
    "positive_prior = False\n"
   ]
  },
  {
   "cell_type": "code",
   "execution_count": 3,
   "id": "23b3a359",
   "metadata": {
    "execution": {
     "iopub.execute_input": "2024-09-10T16:13:16.109857Z",
     "iopub.status.busy": "2024-09-10T16:13:16.109630Z",
     "iopub.status.idle": "2024-09-10T16:13:16.112757Z",
     "shell.execute_reply": "2024-09-10T16:13:16.111975Z"
    },
    "papermill": {
     "duration": 0.007898,
     "end_time": "2024-09-10T16:13:16.115070",
     "exception": false,
     "start_time": "2024-09-10T16:13:16.107172",
     "status": "completed"
    },
    "tags": [
     "injected-parameters"
    ]
   },
   "outputs": [],
   "source": [
    "# Parameters\n",
    "func_name = \"Powerlaw_Prior\"\n",
    "positive_prior = True\n"
   ]
  },
  {
   "cell_type": "code",
   "execution_count": 4,
   "id": "a6d414b9",
   "metadata": {
    "execution": {
     "iopub.execute_input": "2024-09-10T16:13:16.119159Z",
     "iopub.status.busy": "2024-09-10T16:13:16.118866Z",
     "iopub.status.idle": "2024-09-10T16:13:16.123811Z",
     "shell.execute_reply": "2024-09-10T16:13:16.122699Z"
    },
    "lines_to_next_cell": 0,
    "nbsphinx": "hidden",
    "papermill": {
     "duration": 0.011413,
     "end_time": "2024-09-10T16:13:16.127929",
     "exception": false,
     "start_time": "2024-09-10T16:13:16.116516",
     "status": "completed"
    },
    "tags": []
   },
   "outputs": [],
   "source": [
    "func = _known_functions[func_name]()\n",
    "\n",
    "if not positive_prior:\n",
    "\n",
    "\tenergy_grid = np.linspace(-5,5,1000)\n",
    "\n",
    "else:\n",
    "    \n",
    "    energy_grid = np.linspace(0,1,1000)\n",
    "    \n",
    "    \n",
    "    \n",
    "    \n",
    "blue = \"#4152E3\"\n",
    "red = \"#E3414B\"\n",
    "green = \"#41E39E\""
   ]
  },
  {
   "cell_type": "markdown",
   "id": "ba4be4d0",
   "metadata": {
    "lines_to_next_cell": 0,
    "papermill": {
     "duration": 0.001286,
     "end_time": "2024-09-10T16:13:16.130644",
     "exception": false,
     "start_time": "2024-09-10T16:13:16.129358",
     "status": "completed"
    },
    "tags": []
   },
   "source": [
    "## Description"
   ]
  },
  {
   "cell_type": "code",
   "execution_count": 5,
   "id": "17e9f324",
   "metadata": {
    "execution": {
     "iopub.execute_input": "2024-09-10T16:13:16.134263Z",
     "iopub.status.busy": "2024-09-10T16:13:16.133984Z",
     "iopub.status.idle": "2024-09-10T16:13:16.140298Z",
     "shell.execute_reply": "2024-09-10T16:13:16.139596Z"
    },
    "papermill": {
     "duration": 0.010946,
     "end_time": "2024-09-10T16:13:16.142770",
     "exception": false,
     "start_time": "2024-09-10T16:13:16.131824",
     "status": "completed"
    },
    "tags": []
   },
   "outputs": [
    {
     "data": {
      "text/html": [
       "<ul>\n",
       "\n",
       "<li>description: An power law distribution function between a-b</li>\n",
       "\n",
       "<li>formula: $ f(x, \\alpha) = \\alpha x^{\\alpha-1)$</li>\n",
       "\n",
       "<li>parameters: \n",
       "<ul>\n",
       "\n",
       "<li>alpha: \n",
       "<ul>\n",
       "\n",
       "<li>value: 1.0</li>\n",
       "\n",
       "<li>desc: slope parameter</li>\n",
       "\n",
       "<li>min_value: 0.0</li>\n",
       "\n",
       "<li>max_value: None</li>\n",
       "\n",
       "<li>unit: </li>\n",
       "\n",
       "<li>is_normalization: False</li>\n",
       "\n",
       "<li>delta: 0.1</li>\n",
       "\n",
       "<li>free: True</li>\n",
       "\n",
       "</ul>\n",
       "\n",
       "</li>\n",
       "\n",
       "<li>a: \n",
       "<ul>\n",
       "\n",
       "<li>value: 0.0</li>\n",
       "\n",
       "<li>desc: lower bound of distribution</li>\n",
       "\n",
       "<li>min_value: 0.0</li>\n",
       "\n",
       "<li>max_value: None</li>\n",
       "\n",
       "<li>unit: </li>\n",
       "\n",
       "<li>is_normalization: False</li>\n",
       "\n",
       "<li>delta: 0.1</li>\n",
       "\n",
       "<li>free: True</li>\n",
       "\n",
       "</ul>\n",
       "\n",
       "</li>\n",
       "\n",
       "<li>b: \n",
       "<ul>\n",
       "\n",
       "<li>value: 1.0</li>\n",
       "\n",
       "<li>desc: upper bound of distribution</li>\n",
       "\n",
       "<li>min_value: 0.0</li>\n",
       "\n",
       "<li>max_value: None</li>\n",
       "\n",
       "<li>unit: </li>\n",
       "\n",
       "<li>is_normalization: False</li>\n",
       "\n",
       "<li>delta: 0.1</li>\n",
       "\n",
       "<li>free: True</li>\n",
       "\n",
       "</ul>\n",
       "\n",
       "</li>\n",
       "\n",
       "</ul>\n",
       "\n",
       "</li>\n",
       "\n",
       "</ul>\n"
      ],
      "text/plain": [
       "  * description: An power law distribution function between a-b\n",
       "  * formula: $ f(x, \\alpha) = \\alpha x^{\\alpha-1)$\n",
       "  * parameters:\n",
       "    * alpha:\n",
       "      * value: 1.0\n",
       "      * desc: slope parameter\n",
       "      * min_value: 0.0\n",
       "      * max_value: null\n",
       "      * unit: ''\n",
       "      * is_normalization: false\n",
       "      * delta: 0.1\n",
       "      * free: true\n",
       "    * a:\n",
       "      * value: 0.0\n",
       "      * desc: lower bound of distribution\n",
       "      * min_value: 0.0\n",
       "      * max_value: null\n",
       "      * unit: ''\n",
       "      * is_normalization: false\n",
       "      * delta: 0.1\n",
       "      * free: true\n",
       "    * b:\n",
       "      * value: 1.0\n",
       "      * desc: upper bound of distribution\n",
       "      * min_value: 0.0\n",
       "      * max_value: null\n",
       "      * unit: ''\n",
       "      * is_normalization: false\n",
       "      * delta: 0.1\n",
       "      * free: true"
      ]
     },
     "metadata": {},
     "output_type": "display_data"
    }
   ],
   "source": [
    "func.display()"
   ]
  },
  {
   "cell_type": "markdown",
   "id": "6995f2cc",
   "metadata": {
    "papermill": {
     "duration": 0.001559,
     "end_time": "2024-09-10T16:13:16.146031",
     "exception": false,
     "start_time": "2024-09-10T16:13:16.144472",
     "status": "completed"
    },
    "tags": []
   },
   "source": [
    "## Shape \n",
    "\n",
    "The shape of the function. \n",
    "\n",
    "*If this is not a photon model but a prior or linear function then ignore the units as these docs are auto-generated*"
   ]
  },
  {
   "cell_type": "code",
   "execution_count": 6,
   "id": "3d28e821",
   "metadata": {
    "execution": {
     "iopub.execute_input": "2024-09-10T16:13:16.150350Z",
     "iopub.status.busy": "2024-09-10T16:13:16.150115Z",
     "iopub.status.idle": "2024-09-10T16:13:16.281021Z",
     "shell.execute_reply": "2024-09-10T16:13:16.278193Z"
    },
    "papermill": {
     "duration": 0.136095,
     "end_time": "2024-09-10T16:13:16.283737",
     "exception": false,
     "start_time": "2024-09-10T16:13:16.147642",
     "status": "completed"
    },
    "tags": [
     "nbsphinx-thumbnail"
    ]
   },
   "outputs": [
    {
     "data": {
      "text/plain": [
       "Text(0, 0.5, 'probability')"
      ]
     },
     "execution_count": 6,
     "metadata": {},
     "output_type": "execute_result"
    },
    {
     "data": {
      "image/png": "[encoded data removed]",
      "text/plain": [
       "<Figure size 1040x910 with 1 Axes>"
      ]
     },
     "metadata": {},
     "output_type": "display_data"
    }
   ],
   "source": [
    "fig, ax = plt.subplots()\n",
    "\n",
    "\n",
    "ax.plot(energy_grid, func(energy_grid), color=blue, lw=3)\n",
    "\n",
    "ax.set_xlabel(\"x\")\n",
    "ax.set_ylabel(\"probability\")\n"
   ]
  },
  {
   "cell_type": "markdown",
   "id": "d32f7e06",
   "metadata": {
    "papermill": {
     "duration": 0.001949,
     "end_time": "2024-09-10T16:13:16.290272",
     "exception": false,
     "start_time": "2024-09-10T16:13:16.288323",
     "status": "completed"
    },
    "tags": []
   },
   "source": [
    "## Random Number Generation\n",
    "\n",
    "This is how we can generate random numbers from the prior.\n"
   ]
  },
  {
   "cell_type": "code",
   "execution_count": 7,
   "id": "c3212755",
   "metadata": {
    "execution": {
     "iopub.execute_input": "2024-09-10T16:13:16.294320Z",
     "iopub.status.busy": "2024-09-10T16:13:16.294131Z",
     "iopub.status.idle": "2024-09-10T16:13:16.715438Z",
     "shell.execute_reply": "2024-09-10T16:13:16.714459Z"
    },
    "papermill": {
     "duration": 0.42737,
     "end_time": "2024-09-10T16:13:16.719046",
     "exception": false,
     "start_time": "2024-09-10T16:13:16.291676",
     "status": "completed"
    },
    "tags": []
   },
   "outputs": [
    {
     "data": {
      "text/plain": [
       "Text(0, 0.5, 'N')"
      ]
     },
     "execution_count": 7,
     "metadata": {},
     "output_type": "execute_result"
    },
    {
     "data": {
      "image/png": "[encoded data removed]",
      "text/plain": [
       "<Figure size 1040x910 with 1 Axes>"
      ]
     },
     "metadata": {},
     "output_type": "display_data"
    }
   ],
   "source": [
    "\n",
    "\n",
    "u = np.random.uniform(0,1, size=5000)\n",
    "\n",
    "draws = [func.from_unit_cube(x) for x in u]\n",
    "\n",
    "\n",
    "fig, ax = plt.subplots()\n",
    "\n",
    "\n",
    "ax.hist(draws, color=green, bins=50)\n",
    "\n",
    "ax.set_xlabel(\"value\")\n",
    "ax.set_ylabel(\"N\")\n",
    "\n"
   ]
  }
 ],
 "metadata": {
  "jupytext": {
   "formats": "ipynb,md"
  },
  "kernelspec": {
   "display_name": "Python 3 (ipykernel)",
   "language": "python",
   "name": "python3"
  },
  "language_info": {
   "codemirror_mode": {
    "name": "ipython",
    "version": 3
   },
   "file_extension": ".py",
   "mimetype": "text/x-python",
   "name": "python",
   "nbconvert_exporter": "python",
   "pygments_lexer": "ipython3",
   "version": "3.9.13"
  },
  "papermill": {
   "default_parameters": {},
   "duration": 3.619171,
   "end_time": "2024-09-10T16:13:17.159274",
   "environment_variables": {},
   "exception": null,
   "input_path": "Powerlaw_Prior.ipynb",
   "output_path": "/Users/runner/work/astromodels/astromodels/docs/notebooks/Powerlaw_Prior.ipynb",
   "parameters": {
    "func_name": "Powerlaw_Prior",
    "positive_prior": true
   },
   "start_time": "2024-09-10T16:13:13.540103",
   "version": "2.6.0"
  }
 },
 "nbformat": 4,
 "nbformat_minor": 5
}
