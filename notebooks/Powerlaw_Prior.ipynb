{
 "cells": [
  {
   "cell_type": "markdown",
   "id": "ab84985f",
   "metadata": {
    "papermill": {
     "duration": 0.003887,
     "end_time": "2024-09-10T13:53:41.133455",
     "exception": false,
     "start_time": "2024-09-10T13:53:41.129568",
     "status": "completed"
    },
    "tags": []
   },
   "source": [
    "# Powerlaw Prior"
   ]
  },
  {
   "cell_type": "code",
   "execution_count": 1,
   "id": "9e5fdb09",
   "metadata": {
    "execution": {
     "iopub.execute_input": "2024-09-10T13:53:41.142435Z",
     "iopub.status.busy": "2024-09-10T13:53:41.141651Z",
     "iopub.status.idle": "2024-09-10T13:53:42.564991Z",
     "shell.execute_reply": "2024-09-10T13:53:42.564481Z"
    },
    "nbsphinx": "hidden",
    "papermill": {
     "duration": 1.429573,
     "end_time": "2024-09-10T13:53:42.566550",
     "exception": false,
     "start_time": "2024-09-10T13:53:41.136977",
     "status": "completed"
    },
    "tags": []
   },
   "outputs": [],
   "source": [
    "%%capture\n",
    "\n",
    "import numpy as np\n",
    "\n",
    "import matplotlib.pyplot as plt\n",
    "\n",
    "import warnings\n",
    "warnings.simplefilter(\"ignore\")\n",
    "\n",
    "from astromodels.functions.function import _known_functions\n",
    "\n",
    "\n",
    "from jupyterthemes import jtplot\n",
    "jtplot.style(context=\"talk\", fscale=1, ticks=True, grid=False)\n",
    "%matplotlib inline"
   ]
  },
  {
   "cell_type": "code",
   "execution_count": 2,
   "id": "9e7d10cb",
   "metadata": {
    "execution": {
     "iopub.execute_input": "2024-09-10T13:53:42.569720Z",
     "iopub.status.busy": "2024-09-10T13:53:42.569413Z",
     "iopub.status.idle": "2024-09-10T13:53:42.577968Z",
     "shell.execute_reply": "2024-09-10T13:53:42.577411Z"
    },
    "nbsphinx": "hidden",
    "papermill": {
     "duration": 0.011472,
     "end_time": "2024-09-10T13:53:42.579226",
     "exception": false,
     "start_time": "2024-09-10T13:53:42.567754",
     "status": "completed"
    },
    "tags": [
     "parameters"
    ]
   },
   "outputs": [],
   "source": [
    "func_name = \"TbAbs\"\n",
    "\n",
    "positive_prior = False\n"
   ]
  },
  {
   "cell_type": "code",
   "execution_count": 3,
   "id": "745871a1",
   "metadata": {
    "execution": {
     "iopub.execute_input": "2024-09-10T13:53:42.581764Z",
     "iopub.status.busy": "2024-09-10T13:53:42.581622Z",
     "iopub.status.idle": "2024-09-10T13:53:42.589494Z",
     "shell.execute_reply": "2024-09-10T13:53:42.589137Z"
    },
    "papermill": {
     "duration": 0.010509,
     "end_time": "2024-09-10T13:53:42.590714",
     "exception": false,
     "start_time": "2024-09-10T13:53:42.580205",
     "status": "completed"
    },
    "tags": [
     "injected-parameters"
    ]
   },
   "outputs": [],
   "source": [
    "# Parameters\n",
    "func_name = \"Powerlaw_Prior\"\n",
    "positive_prior = True\n"
   ]
  },
  {
   "cell_type": "code",
   "execution_count": 4,
   "id": "3a6269ec",
   "metadata": {
    "execution": {
     "iopub.execute_input": "2024-09-10T13:53:42.593433Z",
     "iopub.status.busy": "2024-09-10T13:53:42.593297Z",
     "iopub.status.idle": "2024-09-10T13:53:42.602023Z",
     "shell.execute_reply": "2024-09-10T13:53:42.601669Z"
    },
    "lines_to_next_cell": 0,
    "nbsphinx": "hidden",
    "papermill": {
     "duration": 0.011587,
     "end_time": "2024-09-10T13:53:42.603329",
     "exception": false,
     "start_time": "2024-09-10T13:53:42.591742",
     "status": "completed"
    },
    "tags": []
   },
   "outputs": [],
   "source": [
    "func = _known_functions[func_name]()\n",
    "\n",
    "if not positive_prior:\n",
    "\n",
    "\tenergy_grid = np.linspace(-5,5,1000)\n",
    "\n",
    "else:\n",
    "    \n",
    "    energy_grid = np.linspace(0,1,1000)\n",
    "    \n",
    "    \n",
    "    \n",
    "    \n",
    "blue = \"#4152E3\"\n",
    "red = \"#E3414B\"\n",
    "green = \"#41E39E\""
   ]
  },
  {
   "cell_type": "markdown",
   "id": "e119e0ec",
   "metadata": {
    "lines_to_next_cell": 0,
    "papermill": {
     "duration": 0.000969,
     "end_time": "2024-09-10T13:53:42.605293",
     "exception": false,
     "start_time": "2024-09-10T13:53:42.604324",
     "status": "completed"
    },
    "tags": []
   },
   "source": [
    "## Description"
   ]
  },
  {
   "cell_type": "code",
   "execution_count": 5,
   "id": "695dd908",
   "metadata": {
    "execution": {
     "iopub.execute_input": "2024-09-10T13:53:42.607809Z",
     "iopub.status.busy": "2024-09-10T13:53:42.607666Z",
     "iopub.status.idle": "2024-09-10T13:53:42.611558Z",
     "shell.execute_reply": "2024-09-10T13:53:42.611112Z"
    },
    "papermill": {
     "duration": 0.006504,
     "end_time": "2024-09-10T13:53:42.612733",
     "exception": false,
     "start_time": "2024-09-10T13:53:42.606229",
     "status": "completed"
    },
    "tags": []
   },
   "outputs": [
    {
     "data": {
      "text/html": [
       "<ul>\n",
       "\n",
       "<li>description: An power law distribution function between a-b</li>\n",
       "\n",
       "<li>formula: $ f(x, \\alpha) = \\alpha x^{\\alpha-1)$</li>\n",
       "\n",
       "<li>parameters: \n",
       "<ul>\n",
       "\n",
       "<li>alpha: \n",
       "<ul>\n",
       "\n",
       "<li>value: 1.0</li>\n",
       "\n",
       "<li>desc: slope parameter</li>\n",
       "\n",
       "<li>min_value: 0.0</li>\n",
       "\n",
       "<li>max_value: None</li>\n",
       "\n",
       "<li>unit: </li>\n",
       "\n",
       "<li>is_normalization: False</li>\n",
       "\n",
       "<li>delta: 0.1</li>\n",
       "\n",
       "<li>free: True</li>\n",
       "\n",
       "</ul>\n",
       "\n",
       "</li>\n",
       "\n",
       "<li>a: \n",
       "<ul>\n",
       "\n",
       "<li>value: 0.0</li>\n",
       "\n",
       "<li>desc: lower bound of distribution</li>\n",
       "\n",
       "<li>min_value: 0.0</li>\n",
       "\n",
       "<li>max_value: None</li>\n",
       "\n",
       "<li>unit: </li>\n",
       "\n",
       "<li>is_normalization: False</li>\n",
       "\n",
       "<li>delta: 0.1</li>\n",
       "\n",
       "<li>free: True</li>\n",
       "\n",
       "</ul>\n",
       "\n",
       "</li>\n",
       "\n",
       "<li>b: \n",
       "<ul>\n",
       "\n",
       "<li>value: 1.0</li>\n",
       "\n",
       "<li>desc: upper bound of distribution</li>\n",
       "\n",
       "<li>min_value: 0.0</li>\n",
       "\n",
       "<li>max_value: None</li>\n",
       "\n",
       "<li>unit: </li>\n",
       "\n",
       "<li>is_normalization: False</li>\n",
       "\n",
       "<li>delta: 0.1</li>\n",
       "\n",
       "<li>free: True</li>\n",
       "\n",
       "</ul>\n",
       "\n",
       "</li>\n",
       "\n",
       "</ul>\n",
       "\n",
       "</li>\n",
       "\n",
       "</ul>\n"
      ],
      "text/plain": [
       "  * description: An power law distribution function between a-b\n",
       "  * formula: $ f(x, \\alpha) = \\alpha x^{\\alpha-1)$\n",
       "  * parameters:\n",
       "    * alpha:\n",
       "      * value: 1.0\n",
       "      * desc: slope parameter\n",
       "      * min_value: 0.0\n",
       "      * max_value: null\n",
       "      * unit: ''\n",
       "      * is_normalization: false\n",
       "      * delta: 0.1\n",
       "      * free: true\n",
       "    * a:\n",
       "      * value: 0.0\n",
       "      * desc: lower bound of distribution\n",
       "      * min_value: 0.0\n",
       "      * max_value: null\n",
       "      * unit: ''\n",
       "      * is_normalization: false\n",
       "      * delta: 0.1\n",
       "      * free: true\n",
       "    * b:\n",
       "      * value: 1.0\n",
       "      * desc: upper bound of distribution\n",
       "      * min_value: 0.0\n",
       "      * max_value: null\n",
       "      * unit: ''\n",
       "      * is_normalization: false\n",
       "      * delta: 0.1\n",
       "      * free: true"
      ]
     },
     "metadata": {},
     "output_type": "display_data"
    }
   ],
   "source": [
    "func.display()"
   ]
  },
  {
   "cell_type": "markdown",
   "id": "1267d3a1",
   "metadata": {
    "papermill": {
     "duration": 0.001123,
     "end_time": "2024-09-10T13:53:42.614982",
     "exception": false,
     "start_time": "2024-09-10T13:53:42.613859",
     "status": "completed"
    },
    "tags": []
   },
   "source": [
    "## Shape \n",
    "\n",
    "The shape of the function. \n",
    "\n",
    "*If this is not a photon model but a prior or linear function then ignore the units as these docs are auto-generated*"
   ]
  },
  {
   "cell_type": "code",
   "execution_count": 6,
   "id": "676a96f1",
   "metadata": {
    "execution": {
     "iopub.execute_input": "2024-09-10T13:53:42.617721Z",
     "iopub.status.busy": "2024-09-10T13:53:42.617579Z",
     "iopub.status.idle": "2024-09-10T13:53:42.711518Z",
     "shell.execute_reply": "2024-09-10T13:53:42.711105Z"
    },
    "papermill": {
     "duration": 0.096886,
     "end_time": "2024-09-10T13:53:42.712883",
     "exception": false,
     "start_time": "2024-09-10T13:53:42.615997",
     "status": "completed"
    },
    "tags": [
     "nbsphinx-thumbnail"
    ]
   },
   "outputs": [
    {
     "data": {
      "text/plain": [
       "Text(0, 0.5, 'probability')"
      ]
     },
     "execution_count": 6,
     "metadata": {},
     "output_type": "execute_result"
    },
    {
     "data": {
      "image/png": "[encoded data removed]",
      "text/plain": [
       "<Figure size 1040x910 with 1 Axes>"
      ]
     },
     "metadata": {},
     "output_type": "display_data"
    }
   ],
   "source": [
    "fig, ax = plt.subplots()\n",
    "\n",
    "\n",
    "ax.plot(energy_grid, func(energy_grid), color=blue, lw=3)\n",
    "\n",
    "ax.set_xlabel(\"x\")\n",
    "ax.set_ylabel(\"probability\")\n"
   ]
  },
  {
   "cell_type": "markdown",
   "id": "336ab9ff",
   "metadata": {
    "papermill": {
     "duration": 0.001362,
     "end_time": "2024-09-10T13:53:42.715847",
     "exception": false,
     "start_time": "2024-09-10T13:53:42.714485",
     "status": "completed"
    },
    "tags": []
   },
   "source": [
    "## Random Number Generation\n",
    "\n",
    "This is how we can generate random numbers from the prior.\n"
   ]
  },
  {
   "cell_type": "code",
   "execution_count": 7,
   "id": "b2fe5473",
   "metadata": {
    "execution": {
     "iopub.execute_input": "2024-09-10T13:53:42.719127Z",
     "iopub.status.busy": "2024-09-10T13:53:42.718978Z",
     "iopub.status.idle": "2024-09-10T13:53:43.049652Z",
     "shell.execute_reply": "2024-09-10T13:53:43.049320Z"
    },
    "papermill": {
     "duration": 0.333961,
     "end_time": "2024-09-10T13:53:43.051095",
     "exception": false,
     "start_time": "2024-09-10T13:53:42.717134",
     "status": "completed"
    },
    "tags": []
   },
   "outputs": [
    {
     "data": {
      "text/plain": [
       "Text(0, 0.5, 'N')"
      ]
     },
     "execution_count": 7,
     "metadata": {},
     "output_type": "execute_result"
    },
    {
     "data": {
      "image/png": "[encoded data removed]",
      "text/plain": [
       "<Figure size 1040x910 with 1 Axes>"
      ]
     },
     "metadata": {},
     "output_type": "display_data"
    }
   ],
   "source": [
    "\n",
    "\n",
    "u = np.random.uniform(0,1, size=5000)\n",
    "\n",
    "draws = [func.from_unit_cube(x) for x in u]\n",
    "\n",
    "\n",
    "fig, ax = plt.subplots()\n",
    "\n",
    "\n",
    "ax.hist(draws, color=green, bins=50)\n",
    "\n",
    "ax.set_xlabel(\"value\")\n",
    "ax.set_ylabel(\"N\")\n",
    "\n"
   ]
  }
 ],
 "metadata": {
  "jupytext": {
   "formats": "ipynb,md"
  },
  "kernelspec": {
   "display_name": "Python 3 (ipykernel)",
   "language": "python",
   "name": "python3"
  },
  "language_info": {
   "codemirror_mode": {
    "name": "ipython",
    "version": 3
   },
   "file_extension": ".py",
   "mimetype": "text/x-python",
   "name": "python",
   "nbconvert_exporter": "python",
   "pygments_lexer": "ipython3",
   "version": "3.9.13"
  },
  "papermill": {
   "default_parameters": {},
   "duration": 2.952569,
   "end_time": "2024-09-10T13:53:43.389629",
   "environment_variables": {},
   "exception": null,
   "input_path": "Powerlaw_Prior.ipynb",
   "output_path": "/Users/runner/work/astromodels/astromodels/docs/notebooks/Powerlaw_Prior.ipynb",
   "parameters": {
    "func_name": "Powerlaw_Prior",
    "positive_prior": true
   },
   "start_time": "2024-09-10T13:53:40.437060",
   "version": "2.6.0"
  }
 },
 "nbformat": 4,
 "nbformat_minor": 5
}
