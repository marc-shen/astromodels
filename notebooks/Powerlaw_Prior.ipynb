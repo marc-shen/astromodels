{
 "cells": [
  {
   "cell_type": "markdown",
   "id": "c16f4055",
   "metadata": {
    "papermill": {
     "duration": 0.004567,
     "end_time": "2023-11-01T20:30:46.146149",
     "exception": false,
     "start_time": "2023-11-01T20:30:46.141582",
     "status": "completed"
    },
    "tags": []
   },
   "source": [
    "# Powerlaw Prior"
   ]
  },
  {
   "cell_type": "code",
   "execution_count": 1,
   "id": "088d3bc9",
   "metadata": {
    "execution": {
     "iopub.execute_input": "2023-11-01T20:30:46.155101Z",
     "iopub.status.busy": "2023-11-01T20:30:46.154618Z",
     "iopub.status.idle": "2023-11-01T20:30:50.067387Z",
     "shell.execute_reply": "2023-11-01T20:30:50.064513Z"
    },
    "nbsphinx": "hidden",
    "papermill": {
     "duration": 3.922867,
     "end_time": "2023-11-01T20:30:50.072577",
     "exception": false,
     "start_time": "2023-11-01T20:30:46.149710",
     "status": "completed"
    },
    "tags": []
   },
   "outputs": [],
   "source": [
    "%%capture\n",
    "\n",
    "import numpy as np\n",
    "\n",
    "import matplotlib.pyplot as plt\n",
    "\n",
    "import warnings\n",
    "warnings.simplefilter(\"ignore\")\n",
    "\n",
    "from astromodels.functions.function import _known_functions\n",
    "\n",
    "\n",
    "from jupyterthemes import jtplot\n",
    "jtplot.style(context=\"talk\", fscale=1, ticks=True, grid=False)\n",
    "%matplotlib inline"
   ]
  },
  {
   "cell_type": "code",
   "execution_count": 2,
   "id": "f9b70cc6",
   "metadata": {
    "execution": {
     "iopub.execute_input": "2023-11-01T20:30:50.082354Z",
     "iopub.status.busy": "2023-11-01T20:30:50.081776Z",
     "iopub.status.idle": "2023-11-01T20:30:50.093433Z",
     "shell.execute_reply": "2023-11-01T20:30:50.091428Z"
    },
    "nbsphinx": "hidden",
    "papermill": {
     "duration": 0.021667,
     "end_time": "2023-11-01T20:30:50.097805",
     "exception": false,
     "start_time": "2023-11-01T20:30:50.076138",
     "status": "completed"
    },
    "tags": [
     "parameters"
    ]
   },
   "outputs": [],
   "source": [
    "func_name = \"TbAbs\"\n",
    "\n",
    "positive_prior = False\n"
   ]
  },
  {
   "cell_type": "code",
   "execution_count": 3,
   "id": "df85d56a",
   "metadata": {
    "execution": {
     "iopub.execute_input": "2023-11-01T20:30:50.107061Z",
     "iopub.status.busy": "2023-11-01T20:30:50.106561Z",
     "iopub.status.idle": "2023-11-01T20:30:50.118011Z",
     "shell.execute_reply": "2023-11-01T20:30:50.116239Z"
    },
    "papermill": {
     "duration": 0.022128,
     "end_time": "2023-11-01T20:30:50.123321",
     "exception": false,
     "start_time": "2023-11-01T20:30:50.101193",
     "status": "completed"
    },
    "tags": [
     "injected-parameters"
    ]
   },
   "outputs": [],
   "source": [
    "# Parameters\n",
    "func_name = \"Powerlaw_Prior\"\n",
    "positive_prior = True\n"
   ]
  },
  {
   "cell_type": "code",
   "execution_count": 4,
   "id": "748c1922",
   "metadata": {
    "execution": {
     "iopub.execute_input": "2023-11-01T20:30:50.132578Z",
     "iopub.status.busy": "2023-11-01T20:30:50.132023Z",
     "iopub.status.idle": "2023-11-01T20:30:50.146374Z",
     "shell.execute_reply": "2023-11-01T20:30:50.144142Z"
    },
    "lines_to_next_cell": 0,
    "nbsphinx": "hidden",
    "papermill": {
     "duration": 0.024388,
     "end_time": "2023-11-01T20:30:50.151101",
     "exception": false,
     "start_time": "2023-11-01T20:30:50.126713",
     "status": "completed"
    },
    "tags": []
   },
   "outputs": [],
   "source": [
    "func = _known_functions[func_name]()\n",
    "\n",
    "if not positive_prior:\n",
    "\n",
    "\tenergy_grid = np.linspace(-5,5,1000)\n",
    "\n",
    "else:\n",
    "    \n",
    "    energy_grid = np.linspace(0,1,1000)\n",
    "    \n",
    "    \n",
    "    \n",
    "    \n",
    "blue = \"#4152E3\"\n",
    "red = \"#E3414B\"\n",
    "green = \"#41E39E\""
   ]
  },
  {
   "cell_type": "markdown",
   "id": "ae7c38eb",
   "metadata": {
    "lines_to_next_cell": 0,
    "papermill": {
     "duration": 0.003554,
     "end_time": "2023-11-01T20:30:50.158078",
     "exception": false,
     "start_time": "2023-11-01T20:30:50.154524",
     "status": "completed"
    },
    "tags": []
   },
   "source": [
    "## Description"
   ]
  },
  {
   "cell_type": "code",
   "execution_count": 5,
   "id": "e8427a33",
   "metadata": {
    "execution": {
     "iopub.execute_input": "2023-11-01T20:30:50.167110Z",
     "iopub.status.busy": "2023-11-01T20:30:50.166562Z",
     "iopub.status.idle": "2023-11-01T20:30:50.185604Z",
     "shell.execute_reply": "2023-11-01T20:30:50.184224Z"
    },
    "papermill": {
     "duration": 0.029255,
     "end_time": "2023-11-01T20:30:50.190544",
     "exception": false,
     "start_time": "2023-11-01T20:30:50.161289",
     "status": "completed"
    },
    "tags": []
   },
   "outputs": [
    {
     "data": {
      "text/html": [
       "<ul>\n",
       "\n",
       "<li>description: An power law distribution function between a-b</li>\n",
       "\n",
       "<li>formula: $ f(x, \\alpha) = \\alpha x^{\\alpha-1)$</li>\n",
       "\n",
       "<li>parameters: \n",
       "<ul>\n",
       "\n",
       "<li>alpha: \n",
       "<ul>\n",
       "\n",
       "<li>value: 1.0</li>\n",
       "\n",
       "<li>desc: slope parameter</li>\n",
       "\n",
       "<li>min_value: 0.0</li>\n",
       "\n",
       "<li>max_value: None</li>\n",
       "\n",
       "<li>unit: </li>\n",
       "\n",
       "<li>is_normalization: False</li>\n",
       "\n",
       "<li>delta: 0.1</li>\n",
       "\n",
       "<li>free: True</li>\n",
       "\n",
       "</ul>\n",
       "\n",
       "</li>\n",
       "\n",
       "<li>a: \n",
       "<ul>\n",
       "\n",
       "<li>value: 0.0</li>\n",
       "\n",
       "<li>desc: lower bound of distribution</li>\n",
       "\n",
       "<li>min_value: 0.0</li>\n",
       "\n",
       "<li>max_value: None</li>\n",
       "\n",
       "<li>unit: </li>\n",
       "\n",
       "<li>is_normalization: False</li>\n",
       "\n",
       "<li>delta: 0.1</li>\n",
       "\n",
       "<li>free: True</li>\n",
       "\n",
       "</ul>\n",
       "\n",
       "</li>\n",
       "\n",
       "<li>b: \n",
       "<ul>\n",
       "\n",
       "<li>value: 1.0</li>\n",
       "\n",
       "<li>desc: upper bound of distribution</li>\n",
       "\n",
       "<li>min_value: 0.0</li>\n",
       "\n",
       "<li>max_value: None</li>\n",
       "\n",
       "<li>unit: </li>\n",
       "\n",
       "<li>is_normalization: False</li>\n",
       "\n",
       "<li>delta: 0.1</li>\n",
       "\n",
       "<li>free: True</li>\n",
       "\n",
       "</ul>\n",
       "\n",
       "</li>\n",
       "\n",
       "</ul>\n",
       "\n",
       "</li>\n",
       "\n",
       "</ul>\n"
      ],
      "text/plain": [
       "  * description: An power law distribution function between a-b\n",
       "  * formula: $ f(x, \\alpha) = \\alpha x^{\\alpha-1)$\n",
       "  * parameters:\n",
       "    * alpha:\n",
       "      * value: 1.0\n",
       "      * desc: slope parameter\n",
       "      * min_value: 0.0\n",
       "      * max_value: null\n",
       "      * unit: ''\n",
       "      * is_normalization: false\n",
       "      * delta: 0.1\n",
       "      * free: true\n",
       "    * a:\n",
       "      * value: 0.0\n",
       "      * desc: lower bound of distribution\n",
       "      * min_value: 0.0\n",
       "      * max_value: null\n",
       "      * unit: ''\n",
       "      * is_normalization: false\n",
       "      * delta: 0.1\n",
       "      * free: true\n",
       "    * b:\n",
       "      * value: 1.0\n",
       "      * desc: upper bound of distribution\n",
       "      * min_value: 0.0\n",
       "      * max_value: null\n",
       "      * unit: ''\n",
       "      * is_normalization: false\n",
       "      * delta: 0.1\n",
       "      * free: true"
      ]
     },
     "metadata": {},
     "output_type": "display_data"
    }
   ],
   "source": [
    "func.display()"
   ]
  },
  {
   "cell_type": "markdown",
   "id": "3b38b745",
   "metadata": {
    "papermill": {
     "duration": 0.003968,
     "end_time": "2023-11-01T20:30:50.198578",
     "exception": false,
     "start_time": "2023-11-01T20:30:50.194610",
     "status": "completed"
    },
    "tags": []
   },
   "source": [
    "## Shape \n",
    "\n",
    "The shape of the function. \n",
    "\n",
    "*If this is not a photon model but a prior or linear function then ignore the units as these docs are auto-generated*"
   ]
  },
  {
   "cell_type": "code",
   "execution_count": 6,
   "id": "c954958d",
   "metadata": {
    "execution": {
     "iopub.execute_input": "2023-11-01T20:30:50.208909Z",
     "iopub.status.busy": "2023-11-01T20:30:50.208363Z",
     "iopub.status.idle": "2023-11-01T20:30:50.476521Z",
     "shell.execute_reply": "2023-11-01T20:30:50.474970Z"
    },
    "papermill": {
     "duration": 0.279043,
     "end_time": "2023-11-01T20:30:50.481157",
     "exception": false,
     "start_time": "2023-11-01T20:30:50.202114",
     "status": "completed"
    },
    "tags": [
     "nbsphinx-thumbnail"
    ]
   },
   "outputs": [
    {
     "data": {
      "text/plain": [
       "Text(0, 0.5, 'probability')"
      ]
     },
     "execution_count": 6,
     "metadata": {},
     "output_type": "execute_result"
    },
    {
     "data": {
      "image/png": "[encoded data removed]",
      "text/plain": [
       "<Figure size 1040x910 with 1 Axes>"
      ]
     },
     "metadata": {},
     "output_type": "display_data"
    }
   ],
   "source": [
    "fig, ax = plt.subplots()\n",
    "\n",
    "\n",
    "ax.plot(energy_grid, func(energy_grid), color=blue, lw=3)\n",
    "\n",
    "ax.set_xlabel(\"x\")\n",
    "ax.set_ylabel(\"probability\")\n"
   ]
  },
  {
   "cell_type": "markdown",
   "id": "bf5117a6",
   "metadata": {
    "papermill": {
     "duration": 0.004647,
     "end_time": "2023-11-01T20:30:50.490069",
     "exception": false,
     "start_time": "2023-11-01T20:30:50.485422",
     "status": "completed"
    },
    "tags": []
   },
   "source": [
    "## Random Number Generation\n",
    "\n",
    "This is how we can generate random numbers from the prior.\n"
   ]
  },
  {
   "cell_type": "code",
   "execution_count": 7,
   "id": "b8a4b07b",
   "metadata": {
    "execution": {
     "iopub.execute_input": "2023-11-01T20:30:50.500685Z",
     "iopub.status.busy": "2023-11-01T20:30:50.500218Z",
     "iopub.status.idle": "2023-11-01T20:30:51.829449Z",
     "shell.execute_reply": "2023-11-01T20:30:51.828038Z"
    },
    "papermill": {
     "duration": 1.340462,
     "end_time": "2023-11-01T20:30:51.834570",
     "exception": false,
     "start_time": "2023-11-01T20:30:50.494108",
     "status": "completed"
    },
    "tags": []
   },
   "outputs": [
    {
     "data": {
      "text/plain": [
       "Text(0, 0.5, 'N')"
      ]
     },
     "execution_count": 7,
     "metadata": {},
     "output_type": "execute_result"
    },
    {
     "data": {
      "image/png": "[encoded data removed]",
      "text/plain": [
       "<Figure size 1040x910 with 1 Axes>"
      ]
     },
     "metadata": {},
     "output_type": "display_data"
    }
   ],
   "source": [
    "\n",
    "\n",
    "u = np.random.uniform(0,1, size=5000)\n",
    "\n",
    "draws = [func.from_unit_cube(x) for x in u]\n",
    "\n",
    "\n",
    "fig, ax = plt.subplots()\n",
    "\n",
    "\n",
    "ax.hist(draws, color=green, bins=50)\n",
    "\n",
    "ax.set_xlabel(\"value\")\n",
    "ax.set_ylabel(\"N\")\n",
    "\n"
   ]
  }
 ],
 "metadata": {
  "jupytext": {
   "formats": "ipynb,md"
  },
  "kernelspec": {
   "display_name": "Python 3 (ipykernel)",
   "language": "python",
   "name": "python3"
  },
  "language_info": {
   "codemirror_mode": {
    "name": "ipython",
    "version": 3
   },
   "file_extension": ".py",
   "mimetype": "text/x-python",
   "name": "python",
   "nbconvert_exporter": "python",
   "pygments_lexer": "ipython3",
   "version": "3.9.18"
  },
  "papermill": {
   "default_parameters": {},
   "duration": 7.585147,
   "end_time": "2023-11-01T20:30:52.572382",
   "environment_variables": {},
   "exception": null,
   "input_path": "Powerlaw_Prior.ipynb",
   "output_path": "/Users/runner/work/astromodels/astromodels/docs/notebooks/Powerlaw_Prior.ipynb",
   "parameters": {
    "func_name": "Powerlaw_Prior",
    "positive_prior": true
   },
   "start_time": "2023-11-01T20:30:44.987235",
   "version": "2.4.0"
  }
 },
 "nbformat": 4,
 "nbformat_minor": 5
}
