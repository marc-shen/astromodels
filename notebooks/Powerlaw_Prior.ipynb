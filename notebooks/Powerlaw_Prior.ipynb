{
 "cells": [
  {
   "cell_type": "markdown",
   "id": "d9d65018",
   "metadata": {
    "papermill": {
     "duration": 0.0035,
     "end_time": "2024-02-03T01:37:33.678290",
     "exception": false,
     "start_time": "2024-02-03T01:37:33.674790",
     "status": "completed"
    },
    "tags": []
   },
   "source": [
    "# Powerlaw Prior"
   ]
  },
  {
   "cell_type": "code",
   "execution_count": 1,
   "id": "d7efc017",
   "metadata": {
    "execution": {
     "iopub.execute_input": "2024-02-03T01:37:33.686059Z",
     "iopub.status.busy": "2024-02-03T01:37:33.685345Z",
     "iopub.status.idle": "2024-02-03T01:37:36.202273Z",
     "shell.execute_reply": "2024-02-03T01:37:36.199089Z"
    },
    "nbsphinx": "hidden",
    "papermill": {
     "duration": 2.525538,
     "end_time": "2024-02-03T01:37:36.206358",
     "exception": false,
     "start_time": "2024-02-03T01:37:33.680820",
     "status": "completed"
    },
    "tags": []
   },
   "outputs": [],
   "source": [
    "%%capture\n",
    "\n",
    "import numpy as np\n",
    "\n",
    "import matplotlib.pyplot as plt\n",
    "\n",
    "import warnings\n",
    "warnings.simplefilter(\"ignore\")\n",
    "\n",
    "from astromodels.functions.function import _known_functions\n",
    "\n",
    "\n",
    "from jupyterthemes import jtplot\n",
    "jtplot.style(context=\"talk\", fscale=1, ticks=True, grid=False)\n",
    "%matplotlib inline"
   ]
  },
  {
   "cell_type": "code",
   "execution_count": 2,
   "id": "a89d680a",
   "metadata": {
    "execution": {
     "iopub.execute_input": "2024-02-03T01:37:36.212877Z",
     "iopub.status.busy": "2024-02-03T01:37:36.212451Z",
     "iopub.status.idle": "2024-02-03T01:37:36.217599Z",
     "shell.execute_reply": "2024-02-03T01:37:36.216293Z"
    },
    "nbsphinx": "hidden",
    "papermill": {
     "duration": 0.01242,
     "end_time": "2024-02-03T01:37:36.221165",
     "exception": false,
     "start_time": "2024-02-03T01:37:36.208745",
     "status": "completed"
    },
    "tags": [
     "parameters"
    ]
   },
   "outputs": [],
   "source": [
    "func_name = \"TbAbs\"\n",
    "\n",
    "positive_prior = False\n"
   ]
  },
  {
   "cell_type": "code",
   "execution_count": 3,
   "id": "eb5cda59",
   "metadata": {
    "execution": {
     "iopub.execute_input": "2024-02-03T01:37:36.227102Z",
     "iopub.status.busy": "2024-02-03T01:37:36.226792Z",
     "iopub.status.idle": "2024-02-03T01:37:36.234818Z",
     "shell.execute_reply": "2024-02-03T01:37:36.233080Z"
    },
    "papermill": {
     "duration": 0.015549,
     "end_time": "2024-02-03T01:37:36.238905",
     "exception": false,
     "start_time": "2024-02-03T01:37:36.223356",
     "status": "completed"
    },
    "tags": [
     "injected-parameters"
    ]
   },
   "outputs": [],
   "source": [
    "# Parameters\n",
    "func_name = \"Powerlaw_Prior\"\n",
    "positive_prior = True\n"
   ]
  },
  {
   "cell_type": "code",
   "execution_count": 4,
   "id": "335a9ef9",
   "metadata": {
    "execution": {
     "iopub.execute_input": "2024-02-03T01:37:36.244917Z",
     "iopub.status.busy": "2024-02-03T01:37:36.244616Z",
     "iopub.status.idle": "2024-02-03T01:37:36.251498Z",
     "shell.execute_reply": "2024-02-03T01:37:36.250087Z"
    },
    "lines_to_next_cell": 0,
    "nbsphinx": "hidden",
    "papermill": {
     "duration": 0.013976,
     "end_time": "2024-02-03T01:37:36.255092",
     "exception": false,
     "start_time": "2024-02-03T01:37:36.241116",
     "status": "completed"
    },
    "tags": []
   },
   "outputs": [],
   "source": [
    "func = _known_functions[func_name]()\n",
    "\n",
    "if not positive_prior:\n",
    "\n",
    "\tenergy_grid = np.linspace(-5,5,1000)\n",
    "\n",
    "else:\n",
    "    \n",
    "    energy_grid = np.linspace(0,1,1000)\n",
    "    \n",
    "    \n",
    "    \n",
    "    \n",
    "blue = \"#4152E3\"\n",
    "red = \"#E3414B\"\n",
    "green = \"#41E39E\""
   ]
  },
  {
   "cell_type": "markdown",
   "id": "93347900",
   "metadata": {
    "lines_to_next_cell": 0,
    "papermill": {
     "duration": 0.002393,
     "end_time": "2024-02-03T01:37:36.259789",
     "exception": false,
     "start_time": "2024-02-03T01:37:36.257396",
     "status": "completed"
    },
    "tags": []
   },
   "source": [
    "## Description"
   ]
  },
  {
   "cell_type": "code",
   "execution_count": 5,
   "id": "e8449c5c",
   "metadata": {
    "execution": {
     "iopub.execute_input": "2024-02-03T01:37:36.266252Z",
     "iopub.status.busy": "2024-02-03T01:37:36.265417Z",
     "iopub.status.idle": "2024-02-03T01:37:36.275778Z",
     "shell.execute_reply": "2024-02-03T01:37:36.274487Z"
    },
    "papermill": {
     "duration": 0.017226,
     "end_time": "2024-02-03T01:37:36.279216",
     "exception": false,
     "start_time": "2024-02-03T01:37:36.261990",
     "status": "completed"
    },
    "tags": []
   },
   "outputs": [
    {
     "data": {
      "text/html": [
       "<ul>\n",
       "\n",
       "<li>description: An power law distribution function between a-b</li>\n",
       "\n",
       "<li>formula: $ f(x, \\alpha) = \\alpha x^{\\alpha-1)$</li>\n",
       "\n",
       "<li>parameters: \n",
       "<ul>\n",
       "\n",
       "<li>alpha: \n",
       "<ul>\n",
       "\n",
       "<li>value: 1.0</li>\n",
       "\n",
       "<li>desc: slope parameter</li>\n",
       "\n",
       "<li>min_value: 0.0</li>\n",
       "\n",
       "<li>max_value: None</li>\n",
       "\n",
       "<li>unit: </li>\n",
       "\n",
       "<li>is_normalization: False</li>\n",
       "\n",
       "<li>delta: 0.1</li>\n",
       "\n",
       "<li>free: True</li>\n",
       "\n",
       "</ul>\n",
       "\n",
       "</li>\n",
       "\n",
       "<li>a: \n",
       "<ul>\n",
       "\n",
       "<li>value: 0.0</li>\n",
       "\n",
       "<li>desc: lower bound of distribution</li>\n",
       "\n",
       "<li>min_value: 0.0</li>\n",
       "\n",
       "<li>max_value: None</li>\n",
       "\n",
       "<li>unit: </li>\n",
       "\n",
       "<li>is_normalization: False</li>\n",
       "\n",
       "<li>delta: 0.1</li>\n",
       "\n",
       "<li>free: True</li>\n",
       "\n",
       "</ul>\n",
       "\n",
       "</li>\n",
       "\n",
       "<li>b: \n",
       "<ul>\n",
       "\n",
       "<li>value: 1.0</li>\n",
       "\n",
       "<li>desc: upper bound of distribution</li>\n",
       "\n",
       "<li>min_value: 0.0</li>\n",
       "\n",
       "<li>max_value: None</li>\n",
       "\n",
       "<li>unit: </li>\n",
       "\n",
       "<li>is_normalization: False</li>\n",
       "\n",
       "<li>delta: 0.1</li>\n",
       "\n",
       "<li>free: True</li>\n",
       "\n",
       "</ul>\n",
       "\n",
       "</li>\n",
       "\n",
       "</ul>\n",
       "\n",
       "</li>\n",
       "\n",
       "</ul>\n"
      ],
      "text/plain": [
       "  * description: An power law distribution function between a-b\n",
       "  * formula: $ f(x, \\alpha) = \\alpha x^{\\alpha-1)$\n",
       "  * parameters:\n",
       "    * alpha:\n",
       "      * value: 1.0\n",
       "      * desc: slope parameter\n",
       "      * min_value: 0.0\n",
       "      * max_value: null\n",
       "      * unit: ''\n",
       "      * is_normalization: false\n",
       "      * delta: 0.1\n",
       "      * free: true\n",
       "    * a:\n",
       "      * value: 0.0\n",
       "      * desc: lower bound of distribution\n",
       "      * min_value: 0.0\n",
       "      * max_value: null\n",
       "      * unit: ''\n",
       "      * is_normalization: false\n",
       "      * delta: 0.1\n",
       "      * free: true\n",
       "    * b:\n",
       "      * value: 1.0\n",
       "      * desc: upper bound of distribution\n",
       "      * min_value: 0.0\n",
       "      * max_value: null\n",
       "      * unit: ''\n",
       "      * is_normalization: false\n",
       "      * delta: 0.1\n",
       "      * free: true"
      ]
     },
     "metadata": {},
     "output_type": "display_data"
    }
   ],
   "source": [
    "func.display()"
   ]
  },
  {
   "cell_type": "markdown",
   "id": "1666432d",
   "metadata": {
    "papermill": {
     "duration": 0.00265,
     "end_time": "2024-02-03T01:37:36.284435",
     "exception": false,
     "start_time": "2024-02-03T01:37:36.281785",
     "status": "completed"
    },
    "tags": []
   },
   "source": [
    "## Shape \n",
    "\n",
    "The shape of the function. \n",
    "\n",
    "*If this is not a photon model but a prior or linear function then ignore the units as these docs are auto-generated*"
   ]
  },
  {
   "cell_type": "code",
   "execution_count": 6,
   "id": "b4d44d69",
   "metadata": {
    "execution": {
     "iopub.execute_input": "2024-02-03T01:37:36.290907Z",
     "iopub.status.busy": "2024-02-03T01:37:36.290545Z",
     "iopub.status.idle": "2024-02-03T01:37:36.500174Z",
     "shell.execute_reply": "2024-02-03T01:37:36.498745Z"
    },
    "papermill": {
     "duration": 0.217078,
     "end_time": "2024-02-03T01:37:36.503945",
     "exception": false,
     "start_time": "2024-02-03T01:37:36.286867",
     "status": "completed"
    },
    "tags": [
     "nbsphinx-thumbnail"
    ]
   },
   "outputs": [
    {
     "data": {
      "text/plain": [
       "Text(0, 0.5, 'probability')"
      ]
     },
     "execution_count": 6,
     "metadata": {},
     "output_type": "execute_result"
    },
    {
     "data": {
      "image/png": "[encoded data removed]",
      "text/plain": [
       "<Figure size 1040x910 with 1 Axes>"
      ]
     },
     "metadata": {},
     "output_type": "display_data"
    }
   ],
   "source": [
    "fig, ax = plt.subplots()\n",
    "\n",
    "\n",
    "ax.plot(energy_grid, func(energy_grid), color=blue, lw=3)\n",
    "\n",
    "ax.set_xlabel(\"x\")\n",
    "ax.set_ylabel(\"probability\")\n"
   ]
  },
  {
   "cell_type": "markdown",
   "id": "b9bb5c71",
   "metadata": {
    "papermill": {
     "duration": 0.002954,
     "end_time": "2024-02-03T01:37:36.510135",
     "exception": false,
     "start_time": "2024-02-03T01:37:36.507181",
     "status": "completed"
    },
    "tags": []
   },
   "source": [
    "## Random Number Generation\n",
    "\n",
    "This is how we can generate random numbers from the prior.\n"
   ]
  },
  {
   "cell_type": "code",
   "execution_count": 7,
   "id": "0e2c8d7b",
   "metadata": {
    "execution": {
     "iopub.execute_input": "2024-02-03T01:37:36.518158Z",
     "iopub.status.busy": "2024-02-03T01:37:36.517742Z",
     "iopub.status.idle": "2024-02-03T01:37:37.510511Z",
     "shell.execute_reply": "2024-02-03T01:37:37.509118Z"
    },
    "papermill": {
     "duration": 1.001116,
     "end_time": "2024-02-03T01:37:37.514114",
     "exception": false,
     "start_time": "2024-02-03T01:37:36.512998",
     "status": "completed"
    },
    "tags": []
   },
   "outputs": [
    {
     "data": {
      "text/plain": [
       "Text(0, 0.5, 'N')"
      ]
     },
     "execution_count": 7,
     "metadata": {},
     "output_type": "execute_result"
    },
    {
     "data": {
      "image/png": "[encoded data removed]",
      "text/plain": [
       "<Figure size 1040x910 with 1 Axes>"
      ]
     },
     "metadata": {},
     "output_type": "display_data"
    }
   ],
   "source": [
    "\n",
    "\n",
    "u = np.random.uniform(0,1, size=5000)\n",
    "\n",
    "draws = [func.from_unit_cube(x) for x in u]\n",
    "\n",
    "\n",
    "fig, ax = plt.subplots()\n",
    "\n",
    "\n",
    "ax.hist(draws, color=green, bins=50)\n",
    "\n",
    "ax.set_xlabel(\"value\")\n",
    "ax.set_ylabel(\"N\")\n",
    "\n"
   ]
  }
 ],
 "metadata": {
  "jupytext": {
   "formats": "ipynb,md"
  },
  "kernelspec": {
   "display_name": "Python 3 (ipykernel)",
   "language": "python",
   "name": "python3"
  },
  "language_info": {
   "codemirror_mode": {
    "name": "ipython",
    "version": 3
   },
   "file_extension": ".py",
   "mimetype": "text/x-python",
   "name": "python",
   "nbconvert_exporter": "python",
   "pygments_lexer": "ipython3",
   "version": "3.9.18"
  },
  "papermill": {
   "default_parameters": {},
   "duration": 5.241595,
   "end_time": "2024-02-03T01:37:38.047419",
   "environment_variables": {},
   "exception": null,
   "input_path": "Powerlaw_Prior.ipynb",
   "output_path": "/Users/runner/work/astromodels/astromodels/docs/notebooks/Powerlaw_Prior.ipynb",
   "parameters": {
    "func_name": "Powerlaw_Prior",
    "positive_prior": true
   },
   "start_time": "2024-02-03T01:37:32.805824",
   "version": "2.5.0"
  }
 },
 "nbformat": 4,
 "nbformat_minor": 5
}
