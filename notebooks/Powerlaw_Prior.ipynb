{
 "cells": [
  {
   "cell_type": "markdown",
   "id": "ef078093",
   "metadata": {
    "papermill": {
     "duration": 0.004048,
     "end_time": "2023-11-01T23:06:41.453179",
     "exception": false,
     "start_time": "2023-11-01T23:06:41.449131",
     "status": "completed"
    },
    "tags": []
   },
   "source": [
    "# Powerlaw Prior"
   ]
  },
  {
   "cell_type": "code",
   "execution_count": 1,
   "id": "90b4e38c",
   "metadata": {
    "execution": {
     "iopub.execute_input": "2023-11-01T23:06:41.460366Z",
     "iopub.status.busy": "2023-11-01T23:06:41.459847Z",
     "iopub.status.idle": "2023-11-01T23:06:43.812673Z",
     "shell.execute_reply": "2023-11-01T23:06:43.809563Z"
    },
    "nbsphinx": "hidden",
    "papermill": {
     "duration": 2.361212,
     "end_time": "2023-11-01T23:06:43.816855",
     "exception": false,
     "start_time": "2023-11-01T23:06:41.455643",
     "status": "completed"
    },
    "tags": []
   },
   "outputs": [],
   "source": [
    "%%capture\n",
    "\n",
    "import numpy as np\n",
    "\n",
    "import matplotlib.pyplot as plt\n",
    "\n",
    "import warnings\n",
    "warnings.simplefilter(\"ignore\")\n",
    "\n",
    "from astromodels.functions.function import _known_functions\n",
    "\n",
    "\n",
    "from jupyterthemes import jtplot\n",
    "jtplot.style(context=\"talk\", fscale=1, ticks=True, grid=False)\n",
    "%matplotlib inline"
   ]
  },
  {
   "cell_type": "code",
   "execution_count": 2,
   "id": "e072cfb7",
   "metadata": {
    "execution": {
     "iopub.execute_input": "2023-11-01T23:06:43.823384Z",
     "iopub.status.busy": "2023-11-01T23:06:43.823046Z",
     "iopub.status.idle": "2023-11-01T23:06:43.833680Z",
     "shell.execute_reply": "2023-11-01T23:06:43.831513Z"
    },
    "nbsphinx": "hidden",
    "papermill": {
     "duration": 0.018557,
     "end_time": "2023-11-01T23:06:43.837876",
     "exception": false,
     "start_time": "2023-11-01T23:06:43.819319",
     "status": "completed"
    },
    "tags": [
     "parameters"
    ]
   },
   "outputs": [],
   "source": [
    "func_name = \"TbAbs\"\n",
    "\n",
    "positive_prior = False\n"
   ]
  },
  {
   "cell_type": "code",
   "execution_count": 3,
   "id": "db5e5bf9",
   "metadata": {
    "execution": {
     "iopub.execute_input": "2023-11-01T23:06:43.844162Z",
     "iopub.status.busy": "2023-11-01T23:06:43.843847Z",
     "iopub.status.idle": "2023-11-01T23:06:43.848936Z",
     "shell.execute_reply": "2023-11-01T23:06:43.847704Z"
    },
    "papermill": {
     "duration": 0.01245,
     "end_time": "2023-11-01T23:06:43.852565",
     "exception": false,
     "start_time": "2023-11-01T23:06:43.840115",
     "status": "completed"
    },
    "tags": [
     "injected-parameters"
    ]
   },
   "outputs": [],
   "source": [
    "# Parameters\n",
    "func_name = \"Powerlaw_Prior\"\n",
    "positive_prior = True\n"
   ]
  },
  {
   "cell_type": "code",
   "execution_count": 4,
   "id": "f9450ebd",
   "metadata": {
    "execution": {
     "iopub.execute_input": "2023-11-01T23:06:43.858861Z",
     "iopub.status.busy": "2023-11-01T23:06:43.858309Z",
     "iopub.status.idle": "2023-11-01T23:06:43.867477Z",
     "shell.execute_reply": "2023-11-01T23:06:43.866291Z"
    },
    "lines_to_next_cell": 0,
    "nbsphinx": "hidden",
    "papermill": {
     "duration": 0.016094,
     "end_time": "2023-11-01T23:06:43.870964",
     "exception": false,
     "start_time": "2023-11-01T23:06:43.854870",
     "status": "completed"
    },
    "tags": []
   },
   "outputs": [],
   "source": [
    "func = _known_functions[func_name]()\n",
    "\n",
    "if not positive_prior:\n",
    "\n",
    "\tenergy_grid = np.linspace(-5,5,1000)\n",
    "\n",
    "else:\n",
    "    \n",
    "    energy_grid = np.linspace(0,1,1000)\n",
    "    \n",
    "    \n",
    "    \n",
    "    \n",
    "blue = \"#4152E3\"\n",
    "red = \"#E3414B\"\n",
    "green = \"#41E39E\""
   ]
  },
  {
   "cell_type": "markdown",
   "id": "5520c02d",
   "metadata": {
    "lines_to_next_cell": 0,
    "papermill": {
     "duration": 0.002311,
     "end_time": "2023-11-01T23:06:43.875532",
     "exception": false,
     "start_time": "2023-11-01T23:06:43.873221",
     "status": "completed"
    },
    "tags": []
   },
   "source": [
    "## Description"
   ]
  },
  {
   "cell_type": "code",
   "execution_count": 5,
   "id": "af803342",
   "metadata": {
    "execution": {
     "iopub.execute_input": "2023-11-01T23:06:43.881570Z",
     "iopub.status.busy": "2023-11-01T23:06:43.881185Z",
     "iopub.status.idle": "2023-11-01T23:06:43.892023Z",
     "shell.execute_reply": "2023-11-01T23:06:43.890693Z"
    },
    "papermill": {
     "duration": 0.018002,
     "end_time": "2023-11-01T23:06:43.895712",
     "exception": false,
     "start_time": "2023-11-01T23:06:43.877710",
     "status": "completed"
    },
    "tags": []
   },
   "outputs": [
    {
     "data": {
      "text/html": [
       "<ul>\n",
       "\n",
       "<li>description: An power law distribution function between a-b</li>\n",
       "\n",
       "<li>formula: $ f(x, \\alpha) = \\alpha x^{\\alpha-1)$</li>\n",
       "\n",
       "<li>parameters: \n",
       "<ul>\n",
       "\n",
       "<li>alpha: \n",
       "<ul>\n",
       "\n",
       "<li>value: 1.0</li>\n",
       "\n",
       "<li>desc: slope parameter</li>\n",
       "\n",
       "<li>min_value: 0.0</li>\n",
       "\n",
       "<li>max_value: None</li>\n",
       "\n",
       "<li>unit: </li>\n",
       "\n",
       "<li>is_normalization: False</li>\n",
       "\n",
       "<li>delta: 0.1</li>\n",
       "\n",
       "<li>free: True</li>\n",
       "\n",
       "</ul>\n",
       "\n",
       "</li>\n",
       "\n",
       "<li>a: \n",
       "<ul>\n",
       "\n",
       "<li>value: 0.0</li>\n",
       "\n",
       "<li>desc: lower bound of distribution</li>\n",
       "\n",
       "<li>min_value: 0.0</li>\n",
       "\n",
       "<li>max_value: None</li>\n",
       "\n",
       "<li>unit: </li>\n",
       "\n",
       "<li>is_normalization: False</li>\n",
       "\n",
       "<li>delta: 0.1</li>\n",
       "\n",
       "<li>free: True</li>\n",
       "\n",
       "</ul>\n",
       "\n",
       "</li>\n",
       "\n",
       "<li>b: \n",
       "<ul>\n",
       "\n",
       "<li>value: 1.0</li>\n",
       "\n",
       "<li>desc: upper bound of distribution</li>\n",
       "\n",
       "<li>min_value: 0.0</li>\n",
       "\n",
       "<li>max_value: None</li>\n",
       "\n",
       "<li>unit: </li>\n",
       "\n",
       "<li>is_normalization: False</li>\n",
       "\n",
       "<li>delta: 0.1</li>\n",
       "\n",
       "<li>free: True</li>\n",
       "\n",
       "</ul>\n",
       "\n",
       "</li>\n",
       "\n",
       "</ul>\n",
       "\n",
       "</li>\n",
       "\n",
       "</ul>\n"
      ],
      "text/plain": [
       "  * description: An power law distribution function between a-b\n",
       "  * formula: $ f(x, \\alpha) = \\alpha x^{\\alpha-1)$\n",
       "  * parameters:\n",
       "    * alpha:\n",
       "      * value: 1.0\n",
       "      * desc: slope parameter\n",
       "      * min_value: 0.0\n",
       "      * max_value: null\n",
       "      * unit: ''\n",
       "      * is_normalization: false\n",
       "      * delta: 0.1\n",
       "      * free: true\n",
       "    * a:\n",
       "      * value: 0.0\n",
       "      * desc: lower bound of distribution\n",
       "      * min_value: 0.0\n",
       "      * max_value: null\n",
       "      * unit: ''\n",
       "      * is_normalization: false\n",
       "      * delta: 0.1\n",
       "      * free: true\n",
       "    * b:\n",
       "      * value: 1.0\n",
       "      * desc: upper bound of distribution\n",
       "      * min_value: 0.0\n",
       "      * max_value: null\n",
       "      * unit: ''\n",
       "      * is_normalization: false\n",
       "      * delta: 0.1\n",
       "      * free: true"
      ]
     },
     "metadata": {},
     "output_type": "display_data"
    }
   ],
   "source": [
    "func.display()"
   ]
  },
  {
   "cell_type": "markdown",
   "id": "ccc550fd",
   "metadata": {
    "papermill": {
     "duration": 0.002544,
     "end_time": "2023-11-01T23:06:43.900814",
     "exception": false,
     "start_time": "2023-11-01T23:06:43.898270",
     "status": "completed"
    },
    "tags": []
   },
   "source": [
    "## Shape \n",
    "\n",
    "The shape of the function. \n",
    "\n",
    "*If this is not a photon model but a prior or linear function then ignore the units as these docs are auto-generated*"
   ]
  },
  {
   "cell_type": "code",
   "execution_count": 6,
   "id": "5dcc2ea9",
   "metadata": {
    "execution": {
     "iopub.execute_input": "2023-11-01T23:06:43.907510Z",
     "iopub.status.busy": "2023-11-01T23:06:43.907141Z",
     "iopub.status.idle": "2023-11-01T23:06:44.096529Z",
     "shell.execute_reply": "2023-11-01T23:06:44.093737Z"
    },
    "papermill": {
     "duration": 0.197184,
     "end_time": "2023-11-01T23:06:44.100455",
     "exception": false,
     "start_time": "2023-11-01T23:06:43.903271",
     "status": "completed"
    },
    "tags": [
     "nbsphinx-thumbnail"
    ]
   },
   "outputs": [
    {
     "data": {
      "text/plain": [
       "Text(0, 0.5, 'probability')"
      ]
     },
     "execution_count": 6,
     "metadata": {},
     "output_type": "execute_result"
    },
    {
     "data": {
      "image/png": "[encoded data removed]",
      "text/plain": [
       "<Figure size 1040x910 with 1 Axes>"
      ]
     },
     "metadata": {},
     "output_type": "display_data"
    }
   ],
   "source": [
    "fig, ax = plt.subplots()\n",
    "\n",
    "\n",
    "ax.plot(energy_grid, func(energy_grid), color=blue, lw=3)\n",
    "\n",
    "ax.set_xlabel(\"x\")\n",
    "ax.set_ylabel(\"probability\")\n"
   ]
  },
  {
   "cell_type": "markdown",
   "id": "dd04ff4b",
   "metadata": {
    "papermill": {
     "duration": 0.002888,
     "end_time": "2023-11-01T23:06:44.106371",
     "exception": false,
     "start_time": "2023-11-01T23:06:44.103483",
     "status": "completed"
    },
    "tags": []
   },
   "source": [
    "## Random Number Generation\n",
    "\n",
    "This is how we can generate random numbers from the prior.\n"
   ]
  },
  {
   "cell_type": "code",
   "execution_count": 7,
   "id": "2ca23bce",
   "metadata": {
    "execution": {
     "iopub.execute_input": "2023-11-01T23:06:44.113605Z",
     "iopub.status.busy": "2023-11-01T23:06:44.113228Z",
     "iopub.status.idle": "2023-11-01T23:06:45.200307Z",
     "shell.execute_reply": "2023-11-01T23:06:45.199195Z"
    },
    "papermill": {
     "duration": 1.095191,
     "end_time": "2023-11-01T23:06:45.204251",
     "exception": false,
     "start_time": "2023-11-01T23:06:44.109060",
     "status": "completed"
    },
    "tags": []
   },
   "outputs": [
    {
     "data": {
      "text/plain": [
       "Text(0, 0.5, 'N')"
      ]
     },
     "execution_count": 7,
     "metadata": {},
     "output_type": "execute_result"
    },
    {
     "data": {
      "image/png": "[encoded data removed]",
      "text/plain": [
       "<Figure size 1040x910 with 1 Axes>"
      ]
     },
     "metadata": {},
     "output_type": "display_data"
    }
   ],
   "source": [
    "\n",
    "\n",
    "u = np.random.uniform(0,1, size=5000)\n",
    "\n",
    "draws = [func.from_unit_cube(x) for x in u]\n",
    "\n",
    "\n",
    "fig, ax = plt.subplots()\n",
    "\n",
    "\n",
    "ax.hist(draws, color=green, bins=50)\n",
    "\n",
    "ax.set_xlabel(\"value\")\n",
    "ax.set_ylabel(\"N\")\n",
    "\n"
   ]
  }
 ],
 "metadata": {
  "jupytext": {
   "formats": "ipynb,md"
  },
  "kernelspec": {
   "display_name": "Python 3 (ipykernel)",
   "language": "python",
   "name": "python3"
  },
  "language_info": {
   "codemirror_mode": {
    "name": "ipython",
    "version": 3
   },
   "file_extension": ".py",
   "mimetype": "text/x-python",
   "name": "python",
   "nbconvert_exporter": "python",
   "pygments_lexer": "ipython3",
   "version": "3.9.18"
  },
  "papermill": {
   "default_parameters": {},
   "duration": 5.201919,
   "end_time": "2023-11-01T23:06:45.643043",
   "environment_variables": {},
   "exception": null,
   "input_path": "Powerlaw_Prior.ipynb",
   "output_path": "/Users/runner/work/astromodels/astromodels/docs/notebooks/Powerlaw_Prior.ipynb",
   "parameters": {
    "func_name": "Powerlaw_Prior",
    "positive_prior": true
   },
   "start_time": "2023-11-01T23:06:40.441124",
   "version": "2.4.0"
  }
 },
 "nbformat": 4,
 "nbformat_minor": 5
}
