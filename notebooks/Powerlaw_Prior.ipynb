{
 "cells": [
  {
   "cell_type": "markdown",
   "id": "3259c050",
   "metadata": {
    "papermill": {
     "duration": 0.003207,
     "end_time": "2024-02-02T21:48:40.415054",
     "exception": false,
     "start_time": "2024-02-02T21:48:40.411847",
     "status": "completed"
    },
    "tags": []
   },
   "source": [
    "# Powerlaw Prior"
   ]
  },
  {
   "cell_type": "code",
   "execution_count": 1,
   "id": "37d8aa1e",
   "metadata": {
    "execution": {
     "iopub.execute_input": "2024-02-02T21:48:40.422245Z",
     "iopub.status.busy": "2024-02-02T21:48:40.421830Z",
     "iopub.status.idle": "2024-02-02T21:48:43.132979Z",
     "shell.execute_reply": "2024-02-02T21:48:43.130447Z"
    },
    "nbsphinx": "hidden",
    "papermill": {
     "duration": 2.720888,
     "end_time": "2024-02-02T21:48:43.138691",
     "exception": false,
     "start_time": "2024-02-02T21:48:40.417803",
     "status": "completed"
    },
    "tags": []
   },
   "outputs": [],
   "source": [
    "%%capture\n",
    "\n",
    "import numpy as np\n",
    "\n",
    "import matplotlib.pyplot as plt\n",
    "\n",
    "import warnings\n",
    "warnings.simplefilter(\"ignore\")\n",
    "\n",
    "from astromodels.functions.function import _known_functions\n",
    "\n",
    "\n",
    "from jupyterthemes import jtplot\n",
    "jtplot.style(context=\"talk\", fscale=1, ticks=True, grid=False)\n",
    "%matplotlib inline"
   ]
  },
  {
   "cell_type": "code",
   "execution_count": 2,
   "id": "8eec16f9",
   "metadata": {
    "execution": {
     "iopub.execute_input": "2024-02-02T21:48:43.148254Z",
     "iopub.status.busy": "2024-02-02T21:48:43.147626Z",
     "iopub.status.idle": "2024-02-02T21:48:43.155581Z",
     "shell.execute_reply": "2024-02-02T21:48:43.153187Z"
    },
    "nbsphinx": "hidden",
    "papermill": {
     "duration": 0.019063,
     "end_time": "2024-02-02T21:48:43.161002",
     "exception": false,
     "start_time": "2024-02-02T21:48:43.141939",
     "status": "completed"
    },
    "tags": [
     "parameters"
    ]
   },
   "outputs": [],
   "source": [
    "func_name = \"TbAbs\"\n",
    "\n",
    "positive_prior = False\n"
   ]
  },
  {
   "cell_type": "code",
   "execution_count": 3,
   "id": "fc52ee75",
   "metadata": {
    "execution": {
     "iopub.execute_input": "2024-02-02T21:48:43.170306Z",
     "iopub.status.busy": "2024-02-02T21:48:43.169742Z",
     "iopub.status.idle": "2024-02-02T21:48:43.180991Z",
     "shell.execute_reply": "2024-02-02T21:48:43.179072Z"
    },
    "papermill": {
     "duration": 0.021566,
     "end_time": "2024-02-02T21:48:43.186364",
     "exception": false,
     "start_time": "2024-02-02T21:48:43.164798",
     "status": "completed"
    },
    "tags": [
     "injected-parameters"
    ]
   },
   "outputs": [],
   "source": [
    "# Parameters\n",
    "func_name = \"Powerlaw_Prior\"\n",
    "positive_prior = True\n"
   ]
  },
  {
   "cell_type": "code",
   "execution_count": 4,
   "id": "c71a5e7c",
   "metadata": {
    "execution": {
     "iopub.execute_input": "2024-02-02T21:48:43.195658Z",
     "iopub.status.busy": "2024-02-02T21:48:43.195124Z",
     "iopub.status.idle": "2024-02-02T21:48:43.207450Z",
     "shell.execute_reply": "2024-02-02T21:48:43.205906Z"
    },
    "lines_to_next_cell": 0,
    "nbsphinx": "hidden",
    "papermill": {
     "duration": 0.022827,
     "end_time": "2024-02-02T21:48:43.212409",
     "exception": false,
     "start_time": "2024-02-02T21:48:43.189582",
     "status": "completed"
    },
    "tags": []
   },
   "outputs": [],
   "source": [
    "func = _known_functions[func_name]()\n",
    "\n",
    "if not positive_prior:\n",
    "\n",
    "\tenergy_grid = np.linspace(-5,5,1000)\n",
    "\n",
    "else:\n",
    "    \n",
    "    energy_grid = np.linspace(0,1,1000)\n",
    "    \n",
    "    \n",
    "    \n",
    "    \n",
    "blue = \"#4152E3\"\n",
    "red = \"#E3414B\"\n",
    "green = \"#41E39E\""
   ]
  },
  {
   "cell_type": "markdown",
   "id": "32fba8f0",
   "metadata": {
    "lines_to_next_cell": 0,
    "papermill": {
     "duration": 0.010857,
     "end_time": "2024-02-02T21:48:43.226108",
     "exception": false,
     "start_time": "2024-02-02T21:48:43.215251",
     "status": "completed"
    },
    "tags": []
   },
   "source": [
    "## Description"
   ]
  },
  {
   "cell_type": "code",
   "execution_count": 5,
   "id": "e516a9ae",
   "metadata": {
    "execution": {
     "iopub.execute_input": "2024-02-02T21:48:43.281819Z",
     "iopub.status.busy": "2024-02-02T21:48:43.280924Z",
     "iopub.status.idle": "2024-02-02T21:48:43.346428Z",
     "shell.execute_reply": "2024-02-02T21:48:43.342281Z"
    },
    "papermill": {
     "duration": 0.129355,
     "end_time": "2024-02-02T21:48:43.364105",
     "exception": false,
     "start_time": "2024-02-02T21:48:43.234750",
     "status": "completed"
    },
    "tags": []
   },
   "outputs": [
    {
     "data": {
      "text/html": [
       "<ul>\n",
       "\n",
       "<li>description: An power law distribution function between a-b</li>\n",
       "\n",
       "<li>formula: $ f(x, \\alpha) = \\alpha x^{\\alpha-1)$</li>\n",
       "\n",
       "<li>parameters: \n",
       "<ul>\n",
       "\n",
       "<li>alpha: \n",
       "<ul>\n",
       "\n",
       "<li>value: 1.0</li>\n",
       "\n",
       "<li>desc: slope parameter</li>\n",
       "\n",
       "<li>min_value: 0.0</li>\n",
       "\n",
       "<li>max_value: None</li>\n",
       "\n",
       "<li>unit: </li>\n",
       "\n",
       "<li>is_normalization: False</li>\n",
       "\n",
       "<li>delta: 0.1</li>\n",
       "\n",
       "<li>free: True</li>\n",
       "\n",
       "</ul>\n",
       "\n",
       "</li>\n",
       "\n",
       "<li>a: \n",
       "<ul>\n",
       "\n",
       "<li>value: 0.0</li>\n",
       "\n",
       "<li>desc: lower bound of distribution</li>\n",
       "\n",
       "<li>min_value: 0.0</li>\n",
       "\n",
       "<li>max_value: None</li>\n",
       "\n",
       "<li>unit: </li>\n",
       "\n",
       "<li>is_normalization: False</li>\n",
       "\n",
       "<li>delta: 0.1</li>\n",
       "\n",
       "<li>free: True</li>\n",
       "\n",
       "</ul>\n",
       "\n",
       "</li>\n",
       "\n",
       "<li>b: \n",
       "<ul>\n",
       "\n",
       "<li>value: 1.0</li>\n",
       "\n",
       "<li>desc: upper bound of distribution</li>\n",
       "\n",
       "<li>min_value: 0.0</li>\n",
       "\n",
       "<li>max_value: None</li>\n",
       "\n",
       "<li>unit: </li>\n",
       "\n",
       "<li>is_normalization: False</li>\n",
       "\n",
       "<li>delta: 0.1</li>\n",
       "\n",
       "<li>free: True</li>\n",
       "\n",
       "</ul>\n",
       "\n",
       "</li>\n",
       "\n",
       "</ul>\n",
       "\n",
       "</li>\n",
       "\n",
       "</ul>\n"
      ],
      "text/plain": [
       "  * description: An power law distribution function between a-b\n",
       "  * formula: $ f(x, \\alpha) = \\alpha x^{\\alpha-1)$\n",
       "  * parameters:\n",
       "    * alpha:\n",
       "      * value: 1.0\n",
       "      * desc: slope parameter\n",
       "      * min_value: 0.0\n",
       "      * max_value: null\n",
       "      * unit: ''\n",
       "      * is_normalization: false\n",
       "      * delta: 0.1\n",
       "      * free: true\n",
       "    * a:\n",
       "      * value: 0.0\n",
       "      * desc: lower bound of distribution\n",
       "      * min_value: 0.0\n",
       "      * max_value: null\n",
       "      * unit: ''\n",
       "      * is_normalization: false\n",
       "      * delta: 0.1\n",
       "      * free: true\n",
       "    * b:\n",
       "      * value: 1.0\n",
       "      * desc: upper bound of distribution\n",
       "      * min_value: 0.0\n",
       "      * max_value: null\n",
       "      * unit: ''\n",
       "      * is_normalization: false\n",
       "      * delta: 0.1\n",
       "      * free: true"
      ]
     },
     "metadata": {},
     "output_type": "display_data"
    }
   ],
   "source": [
    "func.display()"
   ]
  },
  {
   "cell_type": "markdown",
   "id": "7141b79c",
   "metadata": {
    "papermill": {
     "duration": 0.003163,
     "end_time": "2024-02-02T21:48:43.394060",
     "exception": false,
     "start_time": "2024-02-02T21:48:43.390897",
     "status": "completed"
    },
    "tags": []
   },
   "source": [
    "## Shape \n",
    "\n",
    "The shape of the function. \n",
    "\n",
    "*If this is not a photon model but a prior or linear function then ignore the units as these docs are auto-generated*"
   ]
  },
  {
   "cell_type": "code",
   "execution_count": 6,
   "id": "8d58c33f",
   "metadata": {
    "execution": {
     "iopub.execute_input": "2024-02-02T21:48:43.402078Z",
     "iopub.status.busy": "2024-02-02T21:48:43.401694Z",
     "iopub.status.idle": "2024-02-02T21:48:43.814175Z",
     "shell.execute_reply": "2024-02-02T21:48:43.812449Z"
    },
    "papermill": {
     "duration": 0.422707,
     "end_time": "2024-02-02T21:48:43.819581",
     "exception": false,
     "start_time": "2024-02-02T21:48:43.396874",
     "status": "completed"
    },
    "tags": [
     "nbsphinx-thumbnail"
    ]
   },
   "outputs": [
    {
     "data": {
      "text/plain": [
       "Text(0, 0.5, 'probability')"
      ]
     },
     "execution_count": 6,
     "metadata": {},
     "output_type": "execute_result"
    },
    {
     "data": {
      "image/png": "[encoded data removed]",
      "text/plain": [
       "<Figure size 1040x910 with 1 Axes>"
      ]
     },
     "metadata": {},
     "output_type": "display_data"
    }
   ],
   "source": [
    "fig, ax = plt.subplots()\n",
    "\n",
    "\n",
    "ax.plot(energy_grid, func(energy_grid), color=blue, lw=3)\n",
    "\n",
    "ax.set_xlabel(\"x\")\n",
    "ax.set_ylabel(\"probability\")\n"
   ]
  },
  {
   "cell_type": "markdown",
   "id": "5bd95f64",
   "metadata": {
    "papermill": {
     "duration": 0.004363,
     "end_time": "2024-02-02T21:48:43.828800",
     "exception": false,
     "start_time": "2024-02-02T21:48:43.824437",
     "status": "completed"
    },
    "tags": []
   },
   "source": [
    "## Random Number Generation\n",
    "\n",
    "This is how we can generate random numbers from the prior.\n"
   ]
  },
  {
   "cell_type": "code",
   "execution_count": 7,
   "id": "e804bb05",
   "metadata": {
    "execution": {
     "iopub.execute_input": "2024-02-02T21:48:43.843547Z",
     "iopub.status.busy": "2024-02-02T21:48:43.842309Z",
     "iopub.status.idle": "2024-02-02T21:48:45.658914Z",
     "shell.execute_reply": "2024-02-02T21:48:45.650274Z"
    },
    "papermill": {
     "duration": 1.84448,
     "end_time": "2024-02-02T21:48:45.677255",
     "exception": false,
     "start_time": "2024-02-02T21:48:43.832775",
     "status": "completed"
    },
    "tags": []
   },
   "outputs": [
    {
     "data": {
      "text/plain": [
       "Text(0, 0.5, 'N')"
      ]
     },
     "execution_count": 7,
     "metadata": {},
     "output_type": "execute_result"
    },
    {
     "data": {
      "image/png": "[encoded data removed]",
      "text/plain": [
       "<Figure size 1040x910 with 1 Axes>"
      ]
     },
     "metadata": {},
     "output_type": "display_data"
    }
   ],
   "source": [
    "\n",
    "\n",
    "u = np.random.uniform(0,1, size=5000)\n",
    "\n",
    "draws = [func.from_unit_cube(x) for x in u]\n",
    "\n",
    "\n",
    "fig, ax = plt.subplots()\n",
    "\n",
    "\n",
    "ax.hist(draws, color=green, bins=50)\n",
    "\n",
    "ax.set_xlabel(\"value\")\n",
    "ax.set_ylabel(\"N\")\n",
    "\n"
   ]
  }
 ],
 "metadata": {
  "jupytext": {
   "formats": "ipynb,md"
  },
  "kernelspec": {
   "display_name": "Python 3 (ipykernel)",
   "language": "python",
   "name": "python3"
  },
  "language_info": {
   "codemirror_mode": {
    "name": "ipython",
    "version": 3
   },
   "file_extension": ".py",
   "mimetype": "text/x-python",
   "name": "python",
   "nbconvert_exporter": "python",
   "pygments_lexer": "ipython3",
   "version": "3.9.18"
  },
  "papermill": {
   "default_parameters": {},
   "duration": 7.381665,
   "end_time": "2024-02-02T21:48:46.696356",
   "environment_variables": {},
   "exception": null,
   "input_path": "Powerlaw_Prior.ipynb",
   "output_path": "/Users/runner/work/astromodels/astromodels/docs/notebooks/Powerlaw_Prior.ipynb",
   "parameters": {
    "func_name": "Powerlaw_Prior",
    "positive_prior": true
   },
   "start_time": "2024-02-02T21:48:39.314691",
   "version": "2.5.0"
  }
 },
 "nbformat": 4,
 "nbformat_minor": 5
}
