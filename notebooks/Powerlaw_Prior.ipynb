{
 "cells": [
  {
   "cell_type": "markdown",
   "id": "6f4ae271",
   "metadata": {
    "papermill": {
     "duration": 0.023158,
     "end_time": "2023-11-01T22:09:11.813567",
     "exception": false,
     "start_time": "2023-11-01T22:09:11.790409",
     "status": "completed"
    },
    "tags": []
   },
   "source": [
    "# Powerlaw Prior"
   ]
  },
  {
   "cell_type": "code",
   "execution_count": 1,
   "id": "2a39b97d",
   "metadata": {
    "execution": {
     "iopub.execute_input": "2023-11-01T22:09:11.849299Z",
     "iopub.status.busy": "2023-11-01T22:09:11.848033Z",
     "iopub.status.idle": "2023-11-01T22:09:15.792931Z",
     "shell.execute_reply": "2023-11-01T22:09:15.790718Z"
    },
    "nbsphinx": "hidden",
    "papermill": {
     "duration": 3.967523,
     "end_time": "2023-11-01T22:09:15.799157",
     "exception": false,
     "start_time": "2023-11-01T22:09:11.831634",
     "status": "completed"
    },
    "tags": []
   },
   "outputs": [],
   "source": [
    "%%capture\n",
    "\n",
    "import numpy as np\n",
    "\n",
    "import matplotlib.pyplot as plt\n",
    "\n",
    "import warnings\n",
    "warnings.simplefilter(\"ignore\")\n",
    "\n",
    "from astromodels.functions.function import _known_functions\n",
    "\n",
    "\n",
    "from jupyterthemes import jtplot\n",
    "jtplot.style(context=\"talk\", fscale=1, ticks=True, grid=False)\n",
    "%matplotlib inline"
   ]
  },
  {
   "cell_type": "code",
   "execution_count": 2,
   "id": "cbdec78f",
   "metadata": {
    "execution": {
     "iopub.execute_input": "2023-11-01T22:09:15.809301Z",
     "iopub.status.busy": "2023-11-01T22:09:15.808696Z",
     "iopub.status.idle": "2023-11-01T22:09:15.819639Z",
     "shell.execute_reply": "2023-11-01T22:09:15.817496Z"
    },
    "nbsphinx": "hidden",
    "papermill": {
     "duration": 0.022817,
     "end_time": "2023-11-01T22:09:15.825409",
     "exception": false,
     "start_time": "2023-11-01T22:09:15.802592",
     "status": "completed"
    },
    "tags": [
     "parameters"
    ]
   },
   "outputs": [],
   "source": [
    "func_name = \"TbAbs\"\n",
    "\n",
    "positive_prior = False\n"
   ]
  },
  {
   "cell_type": "code",
   "execution_count": 3,
   "id": "010c8c90",
   "metadata": {
    "execution": {
     "iopub.execute_input": "2023-11-01T22:09:15.835464Z",
     "iopub.status.busy": "2023-11-01T22:09:15.835047Z",
     "iopub.status.idle": "2023-11-01T22:09:15.846636Z",
     "shell.execute_reply": "2023-11-01T22:09:15.844139Z"
    },
    "papermill": {
     "duration": 0.023925,
     "end_time": "2023-11-01T22:09:15.852746",
     "exception": false,
     "start_time": "2023-11-01T22:09:15.828821",
     "status": "completed"
    },
    "tags": [
     "injected-parameters"
    ]
   },
   "outputs": [],
   "source": [
    "# Parameters\n",
    "func_name = \"Powerlaw_Prior\"\n",
    "positive_prior = True\n"
   ]
  },
  {
   "cell_type": "code",
   "execution_count": 4,
   "id": "3c42dc6f",
   "metadata": {
    "execution": {
     "iopub.execute_input": "2023-11-01T22:09:15.861829Z",
     "iopub.status.busy": "2023-11-01T22:09:15.861234Z",
     "iopub.status.idle": "2023-11-01T22:09:15.874505Z",
     "shell.execute_reply": "2023-11-01T22:09:15.872127Z"
    },
    "lines_to_next_cell": 0,
    "nbsphinx": "hidden",
    "papermill": {
     "duration": 0.024843,
     "end_time": "2023-11-01T22:09:15.880464",
     "exception": false,
     "start_time": "2023-11-01T22:09:15.855621",
     "status": "completed"
    },
    "tags": []
   },
   "outputs": [],
   "source": [
    "func = _known_functions[func_name]()\n",
    "\n",
    "if not positive_prior:\n",
    "\n",
    "\tenergy_grid = np.linspace(-5,5,1000)\n",
    "\n",
    "else:\n",
    "    \n",
    "    energy_grid = np.linspace(0,1,1000)\n",
    "    \n",
    "    \n",
    "    \n",
    "    \n",
    "blue = \"#4152E3\"\n",
    "red = \"#E3414B\"\n",
    "green = \"#41E39E\""
   ]
  },
  {
   "cell_type": "markdown",
   "id": "d8385f83",
   "metadata": {
    "lines_to_next_cell": 0,
    "papermill": {
     "duration": 0.003099,
     "end_time": "2023-11-01T22:09:15.886650",
     "exception": false,
     "start_time": "2023-11-01T22:09:15.883551",
     "status": "completed"
    },
    "tags": []
   },
   "source": [
    "## Description"
   ]
  },
  {
   "cell_type": "code",
   "execution_count": 5,
   "id": "c301616e",
   "metadata": {
    "execution": {
     "iopub.execute_input": "2023-11-01T22:09:15.895980Z",
     "iopub.status.busy": "2023-11-01T22:09:15.895403Z",
     "iopub.status.idle": "2023-11-01T22:09:15.911728Z",
     "shell.execute_reply": "2023-11-01T22:09:15.908625Z"
    },
    "papermill": {
     "duration": 0.028002,
     "end_time": "2023-11-01T22:09:15.917682",
     "exception": false,
     "start_time": "2023-11-01T22:09:15.889680",
     "status": "completed"
    },
    "tags": []
   },
   "outputs": [
    {
     "data": {
      "text/html": [
       "<ul>\n",
       "\n",
       "<li>description: An power law distribution function between a-b</li>\n",
       "\n",
       "<li>formula: $ f(x, \\alpha) = \\alpha x^{\\alpha-1)$</li>\n",
       "\n",
       "<li>parameters: \n",
       "<ul>\n",
       "\n",
       "<li>alpha: \n",
       "<ul>\n",
       "\n",
       "<li>value: 1.0</li>\n",
       "\n",
       "<li>desc: slope parameter</li>\n",
       "\n",
       "<li>min_value: 0.0</li>\n",
       "\n",
       "<li>max_value: None</li>\n",
       "\n",
       "<li>unit: </li>\n",
       "\n",
       "<li>is_normalization: False</li>\n",
       "\n",
       "<li>delta: 0.1</li>\n",
       "\n",
       "<li>free: True</li>\n",
       "\n",
       "</ul>\n",
       "\n",
       "</li>\n",
       "\n",
       "<li>a: \n",
       "<ul>\n",
       "\n",
       "<li>value: 0.0</li>\n",
       "\n",
       "<li>desc: lower bound of distribution</li>\n",
       "\n",
       "<li>min_value: 0.0</li>\n",
       "\n",
       "<li>max_value: None</li>\n",
       "\n",
       "<li>unit: </li>\n",
       "\n",
       "<li>is_normalization: False</li>\n",
       "\n",
       "<li>delta: 0.1</li>\n",
       "\n",
       "<li>free: True</li>\n",
       "\n",
       "</ul>\n",
       "\n",
       "</li>\n",
       "\n",
       "<li>b: \n",
       "<ul>\n",
       "\n",
       "<li>value: 1.0</li>\n",
       "\n",
       "<li>desc: upper bound of distribution</li>\n",
       "\n",
       "<li>min_value: 0.0</li>\n",
       "\n",
       "<li>max_value: None</li>\n",
       "\n",
       "<li>unit: </li>\n",
       "\n",
       "<li>is_normalization: False</li>\n",
       "\n",
       "<li>delta: 0.1</li>\n",
       "\n",
       "<li>free: True</li>\n",
       "\n",
       "</ul>\n",
       "\n",
       "</li>\n",
       "\n",
       "</ul>\n",
       "\n",
       "</li>\n",
       "\n",
       "</ul>\n"
      ],
      "text/plain": [
       "  * description: An power law distribution function between a-b\n",
       "  * formula: $ f(x, \\alpha) = \\alpha x^{\\alpha-1)$\n",
       "  * parameters:\n",
       "    * alpha:\n",
       "      * value: 1.0\n",
       "      * desc: slope parameter\n",
       "      * min_value: 0.0\n",
       "      * max_value: null\n",
       "      * unit: ''\n",
       "      * is_normalization: false\n",
       "      * delta: 0.1\n",
       "      * free: true\n",
       "    * a:\n",
       "      * value: 0.0\n",
       "      * desc: lower bound of distribution\n",
       "      * min_value: 0.0\n",
       "      * max_value: null\n",
       "      * unit: ''\n",
       "      * is_normalization: false\n",
       "      * delta: 0.1\n",
       "      * free: true\n",
       "    * b:\n",
       "      * value: 1.0\n",
       "      * desc: upper bound of distribution\n",
       "      * min_value: 0.0\n",
       "      * max_value: null\n",
       "      * unit: ''\n",
       "      * is_normalization: false\n",
       "      * delta: 0.1\n",
       "      * free: true"
      ]
     },
     "metadata": {},
     "output_type": "display_data"
    }
   ],
   "source": [
    "func.display()"
   ]
  },
  {
   "cell_type": "markdown",
   "id": "937d37ce",
   "metadata": {
    "papermill": {
     "duration": 0.003129,
     "end_time": "2023-11-01T22:09:15.924374",
     "exception": false,
     "start_time": "2023-11-01T22:09:15.921245",
     "status": "completed"
    },
    "tags": []
   },
   "source": [
    "## Shape \n",
    "\n",
    "The shape of the function. \n",
    "\n",
    "*If this is not a photon model but a prior or linear function then ignore the units as these docs are auto-generated*"
   ]
  },
  {
   "cell_type": "code",
   "execution_count": 6,
   "id": "d979021c",
   "metadata": {
    "execution": {
     "iopub.execute_input": "2023-11-01T22:09:15.934423Z",
     "iopub.status.busy": "2023-11-01T22:09:15.934019Z",
     "iopub.status.idle": "2023-11-01T22:09:16.191027Z",
     "shell.execute_reply": "2023-11-01T22:09:16.188917Z"
    },
    "papermill": {
     "duration": 0.268336,
     "end_time": "2023-11-01T22:09:16.197082",
     "exception": false,
     "start_time": "2023-11-01T22:09:15.928746",
     "status": "completed"
    },
    "tags": [
     "nbsphinx-thumbnail"
    ]
   },
   "outputs": [
    {
     "data": {
      "text/plain": [
       "Text(0, 0.5, 'probability')"
      ]
     },
     "execution_count": 6,
     "metadata": {},
     "output_type": "execute_result"
    },
    {
     "data": {
      "image/png": "[encoded data removed]",
      "text/plain": [
       "<Figure size 1040x910 with 1 Axes>"
      ]
     },
     "metadata": {},
     "output_type": "display_data"
    }
   ],
   "source": [
    "fig, ax = plt.subplots()\n",
    "\n",
    "\n",
    "ax.plot(energy_grid, func(energy_grid), color=blue, lw=3)\n",
    "\n",
    "ax.set_xlabel(\"x\")\n",
    "ax.set_ylabel(\"probability\")\n"
   ]
  },
  {
   "cell_type": "markdown",
   "id": "8034d897",
   "metadata": {
    "papermill": {
     "duration": 0.004063,
     "end_time": "2023-11-01T22:09:16.206463",
     "exception": false,
     "start_time": "2023-11-01T22:09:16.202400",
     "status": "completed"
    },
    "tags": []
   },
   "source": [
    "## Random Number Generation\n",
    "\n",
    "This is how we can generate random numbers from the prior.\n"
   ]
  },
  {
   "cell_type": "code",
   "execution_count": 7,
   "id": "4b402cf8",
   "metadata": {
    "execution": {
     "iopub.execute_input": "2023-11-01T22:09:16.217839Z",
     "iopub.status.busy": "2023-11-01T22:09:16.217141Z",
     "iopub.status.idle": "2023-11-01T22:09:17.662342Z",
     "shell.execute_reply": "2023-11-01T22:09:17.660178Z"
    },
    "papermill": {
     "duration": 1.45853,
     "end_time": "2023-11-01T22:09:17.669214",
     "exception": false,
     "start_time": "2023-11-01T22:09:16.210684",
     "status": "completed"
    },
    "tags": []
   },
   "outputs": [
    {
     "data": {
      "text/plain": [
       "Text(0, 0.5, 'N')"
      ]
     },
     "execution_count": 7,
     "metadata": {},
     "output_type": "execute_result"
    },
    {
     "data": {
      "image/png": "[encoded data removed]",
      "text/plain": [
       "<Figure size 1040x910 with 1 Axes>"
      ]
     },
     "metadata": {},
     "output_type": "display_data"
    }
   ],
   "source": [
    "\n",
    "\n",
    "u = np.random.uniform(0,1, size=5000)\n",
    "\n",
    "draws = [func.from_unit_cube(x) for x in u]\n",
    "\n",
    "\n",
    "fig, ax = plt.subplots()\n",
    "\n",
    "\n",
    "ax.hist(draws, color=green, bins=50)\n",
    "\n",
    "ax.set_xlabel(\"value\")\n",
    "ax.set_ylabel(\"N\")\n",
    "\n"
   ]
  }
 ],
 "metadata": {
  "jupytext": {
   "formats": "ipynb,md"
  },
  "kernelspec": {
   "display_name": "Python 3 (ipykernel)",
   "language": "python",
   "name": "python3"
  },
  "language_info": {
   "codemirror_mode": {
    "name": "ipython",
    "version": 3
   },
   "file_extension": ".py",
   "mimetype": "text/x-python",
   "name": "python",
   "nbconvert_exporter": "python",
   "pygments_lexer": "ipython3",
   "version": "3.9.18"
  },
  "papermill": {
   "default_parameters": {},
   "duration": 8.2635,
   "end_time": "2023-11-01T22:09:18.336757",
   "environment_variables": {},
   "exception": null,
   "input_path": "Powerlaw_Prior.ipynb",
   "output_path": "/Users/runner/work/astromodels/astromodels/docs/notebooks/Powerlaw_Prior.ipynb",
   "parameters": {
    "func_name": "Powerlaw_Prior",
    "positive_prior": true
   },
   "start_time": "2023-11-01T22:09:10.073257",
   "version": "2.4.0"
  }
 },
 "nbformat": 4,
 "nbformat_minor": 5
}
