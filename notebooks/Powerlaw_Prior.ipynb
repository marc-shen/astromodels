{
 "cells": [
  {
   "cell_type": "markdown",
   "id": "94d76101",
   "metadata": {
    "papermill": {
     "duration": 0.010211,
     "end_time": "2024-05-13T23:12:04.894805",
     "exception": false,
     "start_time": "2024-05-13T23:12:04.884594",
     "status": "completed"
    },
    "tags": []
   },
   "source": [
    "# Powerlaw Prior"
   ]
  },
  {
   "cell_type": "code",
   "execution_count": 1,
   "id": "40ce13fb",
   "metadata": {
    "execution": {
     "iopub.execute_input": "2024-05-13T23:12:04.909722Z",
     "iopub.status.busy": "2024-05-13T23:12:04.908933Z",
     "iopub.status.idle": "2024-05-13T23:12:06.311437Z",
     "shell.execute_reply": "2024-05-13T23:12:06.310965Z"
    },
    "nbsphinx": "hidden",
    "papermill": {
     "duration": 1.411218,
     "end_time": "2024-05-13T23:12:06.312992",
     "exception": false,
     "start_time": "2024-05-13T23:12:04.901774",
     "status": "completed"
    },
    "tags": []
   },
   "outputs": [],
   "source": [
    "%%capture\n",
    "\n",
    "import numpy as np\n",
    "\n",
    "import matplotlib.pyplot as plt\n",
    "\n",
    "import warnings\n",
    "warnings.simplefilter(\"ignore\")\n",
    "\n",
    "from astromodels.functions.function import _known_functions\n",
    "\n",
    "\n",
    "from jupyterthemes import jtplot\n",
    "jtplot.style(context=\"talk\", fscale=1, ticks=True, grid=False)\n",
    "%matplotlib inline"
   ]
  },
  {
   "cell_type": "code",
   "execution_count": 2,
   "id": "1dce2594",
   "metadata": {
    "execution": {
     "iopub.execute_input": "2024-05-13T23:12:06.316179Z",
     "iopub.status.busy": "2024-05-13T23:12:06.315844Z",
     "iopub.status.idle": "2024-05-13T23:12:06.324183Z",
     "shell.execute_reply": "2024-05-13T23:12:06.323840Z"
    },
    "nbsphinx": "hidden",
    "papermill": {
     "duration": 0.011177,
     "end_time": "2024-05-13T23:12:06.325466",
     "exception": false,
     "start_time": "2024-05-13T23:12:06.314289",
     "status": "completed"
    },
    "tags": [
     "parameters"
    ]
   },
   "outputs": [],
   "source": [
    "func_name = \"TbAbs\"\n",
    "\n",
    "positive_prior = False\n"
   ]
  },
  {
   "cell_type": "code",
   "execution_count": 3,
   "id": "0d05f590",
   "metadata": {
    "execution": {
     "iopub.execute_input": "2024-05-13T23:12:06.328060Z",
     "iopub.status.busy": "2024-05-13T23:12:06.327921Z",
     "iopub.status.idle": "2024-05-13T23:12:06.336004Z",
     "shell.execute_reply": "2024-05-13T23:12:06.335661Z"
    },
    "papermill": {
     "duration": 0.010794,
     "end_time": "2024-05-13T23:12:06.337287",
     "exception": false,
     "start_time": "2024-05-13T23:12:06.326493",
     "status": "completed"
    },
    "tags": [
     "injected-parameters"
    ]
   },
   "outputs": [],
   "source": [
    "# Parameters\n",
    "func_name = \"Powerlaw_Prior\"\n",
    "positive_prior = True\n"
   ]
  },
  {
   "cell_type": "code",
   "execution_count": 4,
   "id": "6b972450",
   "metadata": {
    "execution": {
     "iopub.execute_input": "2024-05-13T23:12:06.339905Z",
     "iopub.status.busy": "2024-05-13T23:12:06.339765Z",
     "iopub.status.idle": "2024-05-13T23:12:06.346791Z",
     "shell.execute_reply": "2024-05-13T23:12:06.346432Z"
    },
    "lines_to_next_cell": 0,
    "nbsphinx": "hidden",
    "papermill": {
     "duration": 0.009716,
     "end_time": "2024-05-13T23:12:06.348031",
     "exception": false,
     "start_time": "2024-05-13T23:12:06.338315",
     "status": "completed"
    },
    "tags": []
   },
   "outputs": [],
   "source": [
    "func = _known_functions[func_name]()\n",
    "\n",
    "if not positive_prior:\n",
    "\n",
    "\tenergy_grid = np.linspace(-5,5,1000)\n",
    "\n",
    "else:\n",
    "    \n",
    "    energy_grid = np.linspace(0,1,1000)\n",
    "    \n",
    "    \n",
    "    \n",
    "    \n",
    "blue = \"#4152E3\"\n",
    "red = \"#E3414B\"\n",
    "green = \"#41E39E\""
   ]
  },
  {
   "cell_type": "markdown",
   "id": "c9f806c0",
   "metadata": {
    "lines_to_next_cell": 0,
    "papermill": {
     "duration": 0.001095,
     "end_time": "2024-05-13T23:12:06.350210",
     "exception": false,
     "start_time": "2024-05-13T23:12:06.349115",
     "status": "completed"
    },
    "tags": []
   },
   "source": [
    "## Description"
   ]
  },
  {
   "cell_type": "code",
   "execution_count": 5,
   "id": "d5b57b01",
   "metadata": {
    "execution": {
     "iopub.execute_input": "2024-05-13T23:12:06.352841Z",
     "iopub.status.busy": "2024-05-13T23:12:06.352702Z",
     "iopub.status.idle": "2024-05-13T23:12:06.356668Z",
     "shell.execute_reply": "2024-05-13T23:12:06.356205Z"
    },
    "papermill": {
     "duration": 0.006783,
     "end_time": "2024-05-13T23:12:06.358016",
     "exception": false,
     "start_time": "2024-05-13T23:12:06.351233",
     "status": "completed"
    },
    "tags": []
   },
   "outputs": [
    {
     "data": {
      "text/html": [
       "<ul>\n",
       "\n",
       "<li>description: An power law distribution function between a-b</li>\n",
       "\n",
       "<li>formula: $ f(x, \\alpha) = \\alpha x^{\\alpha-1)$</li>\n",
       "\n",
       "<li>parameters: \n",
       "<ul>\n",
       "\n",
       "<li>alpha: \n",
       "<ul>\n",
       "\n",
       "<li>value: 1.0</li>\n",
       "\n",
       "<li>desc: slope parameter</li>\n",
       "\n",
       "<li>min_value: 0.0</li>\n",
       "\n",
       "<li>max_value: None</li>\n",
       "\n",
       "<li>unit: </li>\n",
       "\n",
       "<li>is_normalization: False</li>\n",
       "\n",
       "<li>delta: 0.1</li>\n",
       "\n",
       "<li>free: True</li>\n",
       "\n",
       "</ul>\n",
       "\n",
       "</li>\n",
       "\n",
       "<li>a: \n",
       "<ul>\n",
       "\n",
       "<li>value: 0.0</li>\n",
       "\n",
       "<li>desc: lower bound of distribution</li>\n",
       "\n",
       "<li>min_value: 0.0</li>\n",
       "\n",
       "<li>max_value: None</li>\n",
       "\n",
       "<li>unit: </li>\n",
       "\n",
       "<li>is_normalization: False</li>\n",
       "\n",
       "<li>delta: 0.1</li>\n",
       "\n",
       "<li>free: True</li>\n",
       "\n",
       "</ul>\n",
       "\n",
       "</li>\n",
       "\n",
       "<li>b: \n",
       "<ul>\n",
       "\n",
       "<li>value: 1.0</li>\n",
       "\n",
       "<li>desc: upper bound of distribution</li>\n",
       "\n",
       "<li>min_value: 0.0</li>\n",
       "\n",
       "<li>max_value: None</li>\n",
       "\n",
       "<li>unit: </li>\n",
       "\n",
       "<li>is_normalization: False</li>\n",
       "\n",
       "<li>delta: 0.1</li>\n",
       "\n",
       "<li>free: True</li>\n",
       "\n",
       "</ul>\n",
       "\n",
       "</li>\n",
       "\n",
       "</ul>\n",
       "\n",
       "</li>\n",
       "\n",
       "</ul>\n"
      ],
      "text/plain": [
       "  * description: An power law distribution function between a-b\n",
       "  * formula: $ f(x, \\alpha) = \\alpha x^{\\alpha-1)$\n",
       "  * parameters:\n",
       "    * alpha:\n",
       "      * value: 1.0\n",
       "      * desc: slope parameter\n",
       "      * min_value: 0.0\n",
       "      * max_value: null\n",
       "      * unit: ''\n",
       "      * is_normalization: false\n",
       "      * delta: 0.1\n",
       "      * free: true\n",
       "    * a:\n",
       "      * value: 0.0\n",
       "      * desc: lower bound of distribution\n",
       "      * min_value: 0.0\n",
       "      * max_value: null\n",
       "      * unit: ''\n",
       "      * is_normalization: false\n",
       "      * delta: 0.1\n",
       "      * free: true\n",
       "    * b:\n",
       "      * value: 1.0\n",
       "      * desc: upper bound of distribution\n",
       "      * min_value: 0.0\n",
       "      * max_value: null\n",
       "      * unit: ''\n",
       "      * is_normalization: false\n",
       "      * delta: 0.1\n",
       "      * free: true"
      ]
     },
     "metadata": {},
     "output_type": "display_data"
    }
   ],
   "source": [
    "func.display()"
   ]
  },
  {
   "cell_type": "markdown",
   "id": "c446e7d4",
   "metadata": {
    "papermill": {
     "duration": 0.001097,
     "end_time": "2024-05-13T23:12:06.360240",
     "exception": false,
     "start_time": "2024-05-13T23:12:06.359143",
     "status": "completed"
    },
    "tags": []
   },
   "source": [
    "## Shape \n",
    "\n",
    "The shape of the function. \n",
    "\n",
    "*If this is not a photon model but a prior or linear function then ignore the units as these docs are auto-generated*"
   ]
  },
  {
   "cell_type": "code",
   "execution_count": 6,
   "id": "0468e3ee",
   "metadata": {
    "execution": {
     "iopub.execute_input": "2024-05-13T23:12:06.362994Z",
     "iopub.status.busy": "2024-05-13T23:12:06.362862Z",
     "iopub.status.idle": "2024-05-13T23:12:06.456807Z",
     "shell.execute_reply": "2024-05-13T23:12:06.456460Z"
    },
    "papermill": {
     "duration": 0.096935,
     "end_time": "2024-05-13T23:12:06.458242",
     "exception": false,
     "start_time": "2024-05-13T23:12:06.361307",
     "status": "completed"
    },
    "tags": [
     "nbsphinx-thumbnail"
    ]
   },
   "outputs": [
    {
     "data": {
      "text/plain": [
       "Text(0, 0.5, 'probability')"
      ]
     },
     "execution_count": 6,
     "metadata": {},
     "output_type": "execute_result"
    },
    {
     "data": {
      "image/png": "[encoded data removed]",
      "text/plain": [
       "<Figure size 1040x910 with 1 Axes>"
      ]
     },
     "metadata": {},
     "output_type": "display_data"
    }
   ],
   "source": [
    "fig, ax = plt.subplots()\n",
    "\n",
    "\n",
    "ax.plot(energy_grid, func(energy_grid), color=blue, lw=3)\n",
    "\n",
    "ax.set_xlabel(\"x\")\n",
    "ax.set_ylabel(\"probability\")\n"
   ]
  },
  {
   "cell_type": "markdown",
   "id": "54416764",
   "metadata": {
    "papermill": {
     "duration": 0.001317,
     "end_time": "2024-05-13T23:12:06.461130",
     "exception": false,
     "start_time": "2024-05-13T23:12:06.459813",
     "status": "completed"
    },
    "tags": []
   },
   "source": [
    "## Random Number Generation\n",
    "\n",
    "This is how we can generate random numbers from the prior.\n"
   ]
  },
  {
   "cell_type": "code",
   "execution_count": 7,
   "id": "9c3f97e8",
   "metadata": {
    "execution": {
     "iopub.execute_input": "2024-05-13T23:12:06.464401Z",
     "iopub.status.busy": "2024-05-13T23:12:06.464261Z",
     "iopub.status.idle": "2024-05-13T23:12:06.804827Z",
     "shell.execute_reply": "2024-05-13T23:12:06.804292Z"
    },
    "papermill": {
     "duration": 0.343763,
     "end_time": "2024-05-13T23:12:06.806138",
     "exception": false,
     "start_time": "2024-05-13T23:12:06.462375",
     "status": "completed"
    },
    "tags": []
   },
   "outputs": [
    {
     "data": {
      "text/plain": [
       "Text(0, 0.5, 'N')"
      ]
     },
     "execution_count": 7,
     "metadata": {},
     "output_type": "execute_result"
    },
    {
     "data": {
      "image/png": "[encoded data removed]",
      "text/plain": [
       "<Figure size 1040x910 with 1 Axes>"
      ]
     },
     "metadata": {},
     "output_type": "display_data"
    }
   ],
   "source": [
    "\n",
    "\n",
    "u = np.random.uniform(0,1, size=5000)\n",
    "\n",
    "draws = [func.from_unit_cube(x) for x in u]\n",
    "\n",
    "\n",
    "fig, ax = plt.subplots()\n",
    "\n",
    "\n",
    "ax.hist(draws, color=green, bins=50)\n",
    "\n",
    "ax.set_xlabel(\"value\")\n",
    "ax.set_ylabel(\"N\")\n",
    "\n"
   ]
  }
 ],
 "metadata": {
  "jupytext": {
   "formats": "ipynb,md"
  },
  "kernelspec": {
   "display_name": "Python 3 (ipykernel)",
   "language": "python",
   "name": "python3"
  },
  "language_info": {
   "codemirror_mode": {
    "name": "ipython",
    "version": 3
   },
   "file_extension": ".py",
   "mimetype": "text/x-python",
   "name": "python",
   "nbconvert_exporter": "python",
   "pygments_lexer": "ipython3",
   "version": "3.9.13"
  },
  "papermill": {
   "default_parameters": {},
   "duration": 2.938251,
   "end_time": "2024-05-13T23:12:07.148296",
   "environment_variables": {},
   "exception": null,
   "input_path": "Powerlaw_Prior.ipynb",
   "output_path": "/Users/runner/work/astromodels/astromodels/docs/notebooks/Powerlaw_Prior.ipynb",
   "parameters": {
    "func_name": "Powerlaw_Prior",
    "positive_prior": true
   },
   "start_time": "2024-05-13T23:12:04.210045",
   "version": "2.6.0"
  }
 },
 "nbformat": 4,
 "nbformat_minor": 5
}
