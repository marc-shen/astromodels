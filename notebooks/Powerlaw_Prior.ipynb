{
 "cells": [
  {
   "cell_type": "markdown",
   "id": "3de20adb",
   "metadata": {
    "papermill": {
     "duration": 0.002799,
     "end_time": "2024-05-08T21:49:38.487151",
     "exception": false,
     "start_time": "2024-05-08T21:49:38.484352",
     "status": "completed"
    },
    "tags": []
   },
   "source": [
    "# Powerlaw Prior"
   ]
  },
  {
   "cell_type": "code",
   "execution_count": 1,
   "id": "3065b6ff",
   "metadata": {
    "execution": {
     "iopub.execute_input": "2024-05-08T21:49:38.492760Z",
     "iopub.status.busy": "2024-05-08T21:49:38.492469Z",
     "iopub.status.idle": "2024-05-08T21:49:39.882429Z",
     "shell.execute_reply": "2024-05-08T21:49:39.881915Z"
    },
    "nbsphinx": "hidden",
    "papermill": {
     "duration": 1.394407,
     "end_time": "2024-05-08T21:49:39.883953",
     "exception": false,
     "start_time": "2024-05-08T21:49:38.489546",
     "status": "completed"
    },
    "tags": []
   },
   "outputs": [],
   "source": [
    "%%capture\n",
    "\n",
    "import numpy as np\n",
    "\n",
    "import matplotlib.pyplot as plt\n",
    "\n",
    "import warnings\n",
    "warnings.simplefilter(\"ignore\")\n",
    "\n",
    "from astromodels.functions.function import _known_functions\n",
    "\n",
    "\n",
    "from jupyterthemes import jtplot\n",
    "jtplot.style(context=\"talk\", fscale=1, ticks=True, grid=False)\n",
    "%matplotlib inline"
   ]
  },
  {
   "cell_type": "code",
   "execution_count": 2,
   "id": "f6e543e5",
   "metadata": {
    "execution": {
     "iopub.execute_input": "2024-05-08T21:49:39.887204Z",
     "iopub.status.busy": "2024-05-08T21:49:39.886852Z",
     "iopub.status.idle": "2024-05-08T21:49:39.889019Z",
     "shell.execute_reply": "2024-05-08T21:49:39.888648Z"
    },
    "nbsphinx": "hidden",
    "papermill": {
     "duration": 0.005068,
     "end_time": "2024-05-08T21:49:39.890301",
     "exception": false,
     "start_time": "2024-05-08T21:49:39.885233",
     "status": "completed"
    },
    "tags": [
     "parameters"
    ]
   },
   "outputs": [],
   "source": [
    "func_name = \"TbAbs\"\n",
    "\n",
    "positive_prior = False\n"
   ]
  },
  {
   "cell_type": "code",
   "execution_count": 3,
   "id": "a6def1ea",
   "metadata": {
    "execution": {
     "iopub.execute_input": "2024-05-08T21:49:39.892828Z",
     "iopub.status.busy": "2024-05-08T21:49:39.892687Z",
     "iopub.status.idle": "2024-05-08T21:49:39.898773Z",
     "shell.execute_reply": "2024-05-08T21:49:39.898416Z"
    },
    "papermill": {
     "duration": 0.008761,
     "end_time": "2024-05-08T21:49:39.900003",
     "exception": false,
     "start_time": "2024-05-08T21:49:39.891242",
     "status": "completed"
    },
    "tags": [
     "injected-parameters"
    ]
   },
   "outputs": [],
   "source": [
    "# Parameters\n",
    "func_name = \"Powerlaw_Prior\"\n",
    "positive_prior = True\n"
   ]
  },
  {
   "cell_type": "code",
   "execution_count": 4,
   "id": "0ddc149b",
   "metadata": {
    "execution": {
     "iopub.execute_input": "2024-05-08T21:49:39.902614Z",
     "iopub.status.busy": "2024-05-08T21:49:39.902475Z",
     "iopub.status.idle": "2024-05-08T21:49:39.905113Z",
     "shell.execute_reply": "2024-05-08T21:49:39.904757Z"
    },
    "lines_to_next_cell": 0,
    "nbsphinx": "hidden",
    "papermill": {
     "duration": 0.005342,
     "end_time": "2024-05-08T21:49:39.906365",
     "exception": false,
     "start_time": "2024-05-08T21:49:39.901023",
     "status": "completed"
    },
    "tags": []
   },
   "outputs": [],
   "source": [
    "func = _known_functions[func_name]()\n",
    "\n",
    "if not positive_prior:\n",
    "\n",
    "\tenergy_grid = np.linspace(-5,5,1000)\n",
    "\n",
    "else:\n",
    "    \n",
    "    energy_grid = np.linspace(0,1,1000)\n",
    "    \n",
    "    \n",
    "    \n",
    "    \n",
    "blue = \"#4152E3\"\n",
    "red = \"#E3414B\"\n",
    "green = \"#41E39E\""
   ]
  },
  {
   "cell_type": "markdown",
   "id": "89e4c39f",
   "metadata": {
    "lines_to_next_cell": 0,
    "papermill": {
     "duration": 0.00096,
     "end_time": "2024-05-08T21:49:39.908343",
     "exception": false,
     "start_time": "2024-05-08T21:49:39.907383",
     "status": "completed"
    },
    "tags": []
   },
   "source": [
    "## Description"
   ]
  },
  {
   "cell_type": "code",
   "execution_count": 5,
   "id": "aec81d94",
   "metadata": {
    "execution": {
     "iopub.execute_input": "2024-05-08T21:49:39.910800Z",
     "iopub.status.busy": "2024-05-08T21:49:39.910670Z",
     "iopub.status.idle": "2024-05-08T21:49:39.914660Z",
     "shell.execute_reply": "2024-05-08T21:49:39.914210Z"
    },
    "papermill": {
     "duration": 0.006713,
     "end_time": "2024-05-08T21:49:39.915969",
     "exception": false,
     "start_time": "2024-05-08T21:49:39.909256",
     "status": "completed"
    },
    "tags": []
   },
   "outputs": [
    {
     "data": {
      "text/html": [
       "<ul>\n",
       "\n",
       "<li>description: An power law distribution function between a-b</li>\n",
       "\n",
       "<li>formula: $ f(x, \\alpha) = \\alpha x^{\\alpha-1)$</li>\n",
       "\n",
       "<li>parameters: \n",
       "<ul>\n",
       "\n",
       "<li>alpha: \n",
       "<ul>\n",
       "\n",
       "<li>value: 1.0</li>\n",
       "\n",
       "<li>desc: slope parameter</li>\n",
       "\n",
       "<li>min_value: 0.0</li>\n",
       "\n",
       "<li>max_value: None</li>\n",
       "\n",
       "<li>unit: </li>\n",
       "\n",
       "<li>is_normalization: False</li>\n",
       "\n",
       "<li>delta: 0.1</li>\n",
       "\n",
       "<li>free: True</li>\n",
       "\n",
       "</ul>\n",
       "\n",
       "</li>\n",
       "\n",
       "<li>a: \n",
       "<ul>\n",
       "\n",
       "<li>value: 0.0</li>\n",
       "\n",
       "<li>desc: lower bound of distribution</li>\n",
       "\n",
       "<li>min_value: 0.0</li>\n",
       "\n",
       "<li>max_value: None</li>\n",
       "\n",
       "<li>unit: </li>\n",
       "\n",
       "<li>is_normalization: False</li>\n",
       "\n",
       "<li>delta: 0.1</li>\n",
       "\n",
       "<li>free: True</li>\n",
       "\n",
       "</ul>\n",
       "\n",
       "</li>\n",
       "\n",
       "<li>b: \n",
       "<ul>\n",
       "\n",
       "<li>value: 1.0</li>\n",
       "\n",
       "<li>desc: upper bound of distribution</li>\n",
       "\n",
       "<li>min_value: 0.0</li>\n",
       "\n",
       "<li>max_value: None</li>\n",
       "\n",
       "<li>unit: </li>\n",
       "\n",
       "<li>is_normalization: False</li>\n",
       "\n",
       "<li>delta: 0.1</li>\n",
       "\n",
       "<li>free: True</li>\n",
       "\n",
       "</ul>\n",
       "\n",
       "</li>\n",
       "\n",
       "</ul>\n",
       "\n",
       "</li>\n",
       "\n",
       "</ul>\n"
      ],
      "text/plain": [
       "  * description: An power law distribution function between a-b\n",
       "  * formula: $ f(x, \\alpha) = \\alpha x^{\\alpha-1)$\n",
       "  * parameters:\n",
       "    * alpha:\n",
       "      * value: 1.0\n",
       "      * desc: slope parameter\n",
       "      * min_value: 0.0\n",
       "      * max_value: null\n",
       "      * unit: ''\n",
       "      * is_normalization: false\n",
       "      * delta: 0.1\n",
       "      * free: true\n",
       "    * a:\n",
       "      * value: 0.0\n",
       "      * desc: lower bound of distribution\n",
       "      * min_value: 0.0\n",
       "      * max_value: null\n",
       "      * unit: ''\n",
       "      * is_normalization: false\n",
       "      * delta: 0.1\n",
       "      * free: true\n",
       "    * b:\n",
       "      * value: 1.0\n",
       "      * desc: upper bound of distribution\n",
       "      * min_value: 0.0\n",
       "      * max_value: null\n",
       "      * unit: ''\n",
       "      * is_normalization: false\n",
       "      * delta: 0.1\n",
       "      * free: true"
      ]
     },
     "metadata": {},
     "output_type": "display_data"
    }
   ],
   "source": [
    "func.display()"
   ]
  },
  {
   "cell_type": "markdown",
   "id": "82d05d8f",
   "metadata": {
    "papermill": {
     "duration": 0.00108,
     "end_time": "2024-05-08T21:49:39.918181",
     "exception": false,
     "start_time": "2024-05-08T21:49:39.917101",
     "status": "completed"
    },
    "tags": []
   },
   "source": [
    "## Shape \n",
    "\n",
    "The shape of the function. \n",
    "\n",
    "*If this is not a photon model but a prior or linear function then ignore the units as these docs are auto-generated*"
   ]
  },
  {
   "cell_type": "code",
   "execution_count": 6,
   "id": "9ce68c95",
   "metadata": {
    "execution": {
     "iopub.execute_input": "2024-05-08T21:49:39.920883Z",
     "iopub.status.busy": "2024-05-08T21:49:39.920744Z",
     "iopub.status.idle": "2024-05-08T21:49:40.019246Z",
     "shell.execute_reply": "2024-05-08T21:49:40.018834Z"
    },
    "papermill": {
     "duration": 0.101377,
     "end_time": "2024-05-08T21:49:40.020585",
     "exception": false,
     "start_time": "2024-05-08T21:49:39.919208",
     "status": "completed"
    },
    "tags": [
     "nbsphinx-thumbnail"
    ]
   },
   "outputs": [
    {
     "data": {
      "text/plain": [
       "Text(0, 0.5, 'probability')"
      ]
     },
     "execution_count": 6,
     "metadata": {},
     "output_type": "execute_result"
    },
    {
     "data": {
      "image/png": "[encoded data removed]",
      "text/plain": [
       "<Figure size 1040x910 with 1 Axes>"
      ]
     },
     "metadata": {},
     "output_type": "display_data"
    }
   ],
   "source": [
    "fig, ax = plt.subplots()\n",
    "\n",
    "\n",
    "ax.plot(energy_grid, func(energy_grid), color=blue, lw=3)\n",
    "\n",
    "ax.set_xlabel(\"x\")\n",
    "ax.set_ylabel(\"probability\")\n"
   ]
  },
  {
   "cell_type": "markdown",
   "id": "d2a7f891",
   "metadata": {
    "papermill": {
     "duration": 0.001318,
     "end_time": "2024-05-08T21:49:40.023525",
     "exception": false,
     "start_time": "2024-05-08T21:49:40.022207",
     "status": "completed"
    },
    "tags": []
   },
   "source": [
    "## Random Number Generation\n",
    "\n",
    "This is how we can generate random numbers from the prior.\n"
   ]
  },
  {
   "cell_type": "code",
   "execution_count": 7,
   "id": "79c8e444",
   "metadata": {
    "execution": {
     "iopub.execute_input": "2024-05-08T21:49:40.026811Z",
     "iopub.status.busy": "2024-05-08T21:49:40.026652Z",
     "iopub.status.idle": "2024-05-08T21:49:40.360049Z",
     "shell.execute_reply": "2024-05-08T21:49:40.359714Z"
    },
    "papermill": {
     "duration": 0.336695,
     "end_time": "2024-05-08T21:49:40.361474",
     "exception": false,
     "start_time": "2024-05-08T21:49:40.024779",
     "status": "completed"
    },
    "tags": []
   },
   "outputs": [
    {
     "data": {
      "text/plain": [
       "Text(0, 0.5, 'N')"
      ]
     },
     "execution_count": 7,
     "metadata": {},
     "output_type": "execute_result"
    },
    {
     "data": {
      "image/png": "[encoded data removed]",
      "text/plain": [
       "<Figure size 1040x910 with 1 Axes>"
      ]
     },
     "metadata": {},
     "output_type": "display_data"
    }
   ],
   "source": [
    "\n",
    "\n",
    "u = np.random.uniform(0,1, size=5000)\n",
    "\n",
    "draws = [func.from_unit_cube(x) for x in u]\n",
    "\n",
    "\n",
    "fig, ax = plt.subplots()\n",
    "\n",
    "\n",
    "ax.hist(draws, color=green, bins=50)\n",
    "\n",
    "ax.set_xlabel(\"value\")\n",
    "ax.set_ylabel(\"N\")\n",
    "\n"
   ]
  }
 ],
 "metadata": {
  "jupytext": {
   "formats": "ipynb,md"
  },
  "kernelspec": {
   "display_name": "Python 3 (ipykernel)",
   "language": "python",
   "name": "python3"
  },
  "language_info": {
   "codemirror_mode": {
    "name": "ipython",
    "version": 3
   },
   "file_extension": ".py",
   "mimetype": "text/x-python",
   "name": "python",
   "nbconvert_exporter": "python",
   "pygments_lexer": "ipython3",
   "version": "3.9.13"
  },
  "papermill": {
   "default_parameters": {},
   "duration": 2.887801,
   "end_time": "2024-05-08T21:49:40.694983",
   "environment_variables": {},
   "exception": null,
   "input_path": "Powerlaw_Prior.ipynb",
   "output_path": "/Users/runner/work/astromodels/astromodels/docs/notebooks/Powerlaw_Prior.ipynb",
   "parameters": {
    "func_name": "Powerlaw_Prior",
    "positive_prior": true
   },
   "start_time": "2024-05-08T21:49:37.807182",
   "version": "2.6.0"
  }
 },
 "nbformat": 4,
 "nbformat_minor": 5
}
