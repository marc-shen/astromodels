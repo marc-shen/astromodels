{
 "cells": [
  {
   "cell_type": "markdown",
   "id": "223eb959",
   "metadata": {
    "papermill": {
     "duration": 0.007056,
     "end_time": "2024-05-08T19:57:09.713465",
     "exception": false,
     "start_time": "2024-05-08T19:57:09.706409",
     "status": "completed"
    },
    "tags": []
   },
   "source": [
    "# Powerlaw Prior"
   ]
  },
  {
   "cell_type": "code",
   "execution_count": 1,
   "id": "b01c3b86",
   "metadata": {
    "execution": {
     "iopub.execute_input": "2024-05-08T19:57:09.726163Z",
     "iopub.status.busy": "2024-05-08T19:57:09.725565Z",
     "iopub.status.idle": "2024-05-08T19:57:11.306153Z",
     "shell.execute_reply": "2024-05-08T19:57:11.305615Z"
    },
    "nbsphinx": "hidden",
    "papermill": {
     "duration": 1.58832,
     "end_time": "2024-05-08T19:57:11.307825",
     "exception": false,
     "start_time": "2024-05-08T19:57:09.719505",
     "status": "completed"
    },
    "tags": []
   },
   "outputs": [],
   "source": [
    "%%capture\n",
    "\n",
    "import numpy as np\n",
    "\n",
    "import matplotlib.pyplot as plt\n",
    "\n",
    "import warnings\n",
    "warnings.simplefilter(\"ignore\")\n",
    "\n",
    "from astromodels.functions.function import _known_functions\n",
    "\n",
    "\n",
    "from jupyterthemes import jtplot\n",
    "jtplot.style(context=\"talk\", fscale=1, ticks=True, grid=False)\n",
    "%matplotlib inline"
   ]
  },
  {
   "cell_type": "code",
   "execution_count": 2,
   "id": "6ed80727",
   "metadata": {
    "execution": {
     "iopub.execute_input": "2024-05-08T19:57:11.311702Z",
     "iopub.status.busy": "2024-05-08T19:57:11.311268Z",
     "iopub.status.idle": "2024-05-08T19:57:11.314303Z",
     "shell.execute_reply": "2024-05-08T19:57:11.313644Z"
    },
    "nbsphinx": "hidden",
    "papermill": {
     "duration": 0.006782,
     "end_time": "2024-05-08T19:57:11.316037",
     "exception": false,
     "start_time": "2024-05-08T19:57:11.309255",
     "status": "completed"
    },
    "tags": [
     "parameters"
    ]
   },
   "outputs": [],
   "source": [
    "func_name = \"TbAbs\"\n",
    "\n",
    "positive_prior = False\n"
   ]
  },
  {
   "cell_type": "code",
   "execution_count": 3,
   "id": "df7e7477",
   "metadata": {
    "execution": {
     "iopub.execute_input": "2024-05-08T19:57:11.319009Z",
     "iopub.status.busy": "2024-05-08T19:57:11.318838Z",
     "iopub.status.idle": "2024-05-08T19:57:11.326946Z",
     "shell.execute_reply": "2024-05-08T19:57:11.326557Z"
    },
    "papermill": {
     "duration": 0.010991,
     "end_time": "2024-05-08T19:57:11.328246",
     "exception": false,
     "start_time": "2024-05-08T19:57:11.317255",
     "status": "completed"
    },
    "tags": [
     "injected-parameters"
    ]
   },
   "outputs": [],
   "source": [
    "# Parameters\n",
    "func_name = \"Powerlaw_Prior\"\n",
    "positive_prior = True\n"
   ]
  },
  {
   "cell_type": "code",
   "execution_count": 4,
   "id": "e81f9608",
   "metadata": {
    "execution": {
     "iopub.execute_input": "2024-05-08T19:57:11.330913Z",
     "iopub.status.busy": "2024-05-08T19:57:11.330772Z",
     "iopub.status.idle": "2024-05-08T19:57:11.337975Z",
     "shell.execute_reply": "2024-05-08T19:57:11.337582Z"
    },
    "lines_to_next_cell": 0,
    "nbsphinx": "hidden",
    "papermill": {
     "duration": 0.009957,
     "end_time": "2024-05-08T19:57:11.339259",
     "exception": false,
     "start_time": "2024-05-08T19:57:11.329302",
     "status": "completed"
    },
    "tags": []
   },
   "outputs": [],
   "source": [
    "func = _known_functions[func_name]()\n",
    "\n",
    "if not positive_prior:\n",
    "\n",
    "\tenergy_grid = np.linspace(-5,5,1000)\n",
    "\n",
    "else:\n",
    "    \n",
    "    energy_grid = np.linspace(0,1,1000)\n",
    "    \n",
    "    \n",
    "    \n",
    "    \n",
    "blue = \"#4152E3\"\n",
    "red = \"#E3414B\"\n",
    "green = \"#41E39E\""
   ]
  },
  {
   "cell_type": "markdown",
   "id": "351de1bf",
   "metadata": {
    "lines_to_next_cell": 0,
    "papermill": {
     "duration": 0.00104,
     "end_time": "2024-05-08T19:57:11.341395",
     "exception": false,
     "start_time": "2024-05-08T19:57:11.340355",
     "status": "completed"
    },
    "tags": []
   },
   "source": [
    "## Description"
   ]
  },
  {
   "cell_type": "code",
   "execution_count": 5,
   "id": "f0376c30",
   "metadata": {
    "execution": {
     "iopub.execute_input": "2024-05-08T19:57:11.343960Z",
     "iopub.status.busy": "2024-05-08T19:57:11.343824Z",
     "iopub.status.idle": "2024-05-08T19:57:11.347897Z",
     "shell.execute_reply": "2024-05-08T19:57:11.347507Z"
    },
    "papermill": {
     "duration": 0.006923,
     "end_time": "2024-05-08T19:57:11.349261",
     "exception": false,
     "start_time": "2024-05-08T19:57:11.342338",
     "status": "completed"
    },
    "tags": []
   },
   "outputs": [
    {
     "data": {
      "text/html": [
       "<ul>\n",
       "\n",
       "<li>description: An power law distribution function between a-b</li>\n",
       "\n",
       "<li>formula: $ f(x, \\alpha) = \\alpha x^{\\alpha-1)$</li>\n",
       "\n",
       "<li>parameters: \n",
       "<ul>\n",
       "\n",
       "<li>alpha: \n",
       "<ul>\n",
       "\n",
       "<li>value: 1.0</li>\n",
       "\n",
       "<li>desc: slope parameter</li>\n",
       "\n",
       "<li>min_value: 0.0</li>\n",
       "\n",
       "<li>max_value: None</li>\n",
       "\n",
       "<li>unit: </li>\n",
       "\n",
       "<li>is_normalization: False</li>\n",
       "\n",
       "<li>delta: 0.1</li>\n",
       "\n",
       "<li>free: True</li>\n",
       "\n",
       "</ul>\n",
       "\n",
       "</li>\n",
       "\n",
       "<li>a: \n",
       "<ul>\n",
       "\n",
       "<li>value: 0.0</li>\n",
       "\n",
       "<li>desc: lower bound of distribution</li>\n",
       "\n",
       "<li>min_value: 0.0</li>\n",
       "\n",
       "<li>max_value: None</li>\n",
       "\n",
       "<li>unit: </li>\n",
       "\n",
       "<li>is_normalization: False</li>\n",
       "\n",
       "<li>delta: 0.1</li>\n",
       "\n",
       "<li>free: True</li>\n",
       "\n",
       "</ul>\n",
       "\n",
       "</li>\n",
       "\n",
       "<li>b: \n",
       "<ul>\n",
       "\n",
       "<li>value: 1.0</li>\n",
       "\n",
       "<li>desc: upper bound of distribution</li>\n",
       "\n",
       "<li>min_value: 0.0</li>\n",
       "\n",
       "<li>max_value: None</li>\n",
       "\n",
       "<li>unit: </li>\n",
       "\n",
       "<li>is_normalization: False</li>\n",
       "\n",
       "<li>delta: 0.1</li>\n",
       "\n",
       "<li>free: True</li>\n",
       "\n",
       "</ul>\n",
       "\n",
       "</li>\n",
       "\n",
       "</ul>\n",
       "\n",
       "</li>\n",
       "\n",
       "</ul>\n"
      ],
      "text/plain": [
       "  * description: An power law distribution function between a-b\n",
       "  * formula: $ f(x, \\alpha) = \\alpha x^{\\alpha-1)$\n",
       "  * parameters:\n",
       "    * alpha:\n",
       "      * value: 1.0\n",
       "      * desc: slope parameter\n",
       "      * min_value: 0.0\n",
       "      * max_value: null\n",
       "      * unit: ''\n",
       "      * is_normalization: false\n",
       "      * delta: 0.1\n",
       "      * free: true\n",
       "    * a:\n",
       "      * value: 0.0\n",
       "      * desc: lower bound of distribution\n",
       "      * min_value: 0.0\n",
       "      * max_value: null\n",
       "      * unit: ''\n",
       "      * is_normalization: false\n",
       "      * delta: 0.1\n",
       "      * free: true\n",
       "    * b:\n",
       "      * value: 1.0\n",
       "      * desc: upper bound of distribution\n",
       "      * min_value: 0.0\n",
       "      * max_value: null\n",
       "      * unit: ''\n",
       "      * is_normalization: false\n",
       "      * delta: 0.1\n",
       "      * free: true"
      ]
     },
     "metadata": {},
     "output_type": "display_data"
    }
   ],
   "source": [
    "func.display()"
   ]
  },
  {
   "cell_type": "markdown",
   "id": "1e926e5c",
   "metadata": {
    "papermill": {
     "duration": 0.001071,
     "end_time": "2024-05-08T19:57:11.351542",
     "exception": false,
     "start_time": "2024-05-08T19:57:11.350471",
     "status": "completed"
    },
    "tags": []
   },
   "source": [
    "## Shape \n",
    "\n",
    "The shape of the function. \n",
    "\n",
    "*If this is not a photon model but a prior or linear function then ignore the units as these docs are auto-generated*"
   ]
  },
  {
   "cell_type": "code",
   "execution_count": 6,
   "id": "74c50b52",
   "metadata": {
    "execution": {
     "iopub.execute_input": "2024-05-08T19:57:11.354503Z",
     "iopub.status.busy": "2024-05-08T19:57:11.354346Z",
     "iopub.status.idle": "2024-05-08T19:57:11.449802Z",
     "shell.execute_reply": "2024-05-08T19:57:11.449406Z"
    },
    "papermill": {
     "duration": 0.100926,
     "end_time": "2024-05-08T19:57:11.453557",
     "exception": false,
     "start_time": "2024-05-08T19:57:11.352631",
     "status": "completed"
    },
    "tags": [
     "nbsphinx-thumbnail"
    ]
   },
   "outputs": [
    {
     "data": {
      "text/plain": [
       "Text(0, 0.5, 'probability')"
      ]
     },
     "execution_count": 6,
     "metadata": {},
     "output_type": "execute_result"
    },
    {
     "data": {
      "image/png": "[encoded data removed]",
      "text/plain": [
       "<Figure size 1040x910 with 1 Axes>"
      ]
     },
     "metadata": {},
     "output_type": "display_data"
    }
   ],
   "source": [
    "fig, ax = plt.subplots()\n",
    "\n",
    "\n",
    "ax.plot(energy_grid, func(energy_grid), color=blue, lw=3)\n",
    "\n",
    "ax.set_xlabel(\"x\")\n",
    "ax.set_ylabel(\"probability\")\n"
   ]
  },
  {
   "cell_type": "markdown",
   "id": "84d8c6b6",
   "metadata": {
    "papermill": {
     "duration": 0.003284,
     "end_time": "2024-05-08T19:57:11.458699",
     "exception": false,
     "start_time": "2024-05-08T19:57:11.455415",
     "status": "completed"
    },
    "tags": []
   },
   "source": [
    "## Random Number Generation\n",
    "\n",
    "This is how we can generate random numbers from the prior.\n"
   ]
  },
  {
   "cell_type": "code",
   "execution_count": 7,
   "id": "a9a33dab",
   "metadata": {
    "execution": {
     "iopub.execute_input": "2024-05-08T19:57:11.462506Z",
     "iopub.status.busy": "2024-05-08T19:57:11.462332Z",
     "iopub.status.idle": "2024-05-08T19:57:11.819461Z",
     "shell.execute_reply": "2024-05-08T19:57:11.819061Z"
    },
    "papermill": {
     "duration": 0.360713,
     "end_time": "2024-05-08T19:57:11.820854",
     "exception": false,
     "start_time": "2024-05-08T19:57:11.460141",
     "status": "completed"
    },
    "tags": []
   },
   "outputs": [
    {
     "data": {
      "text/plain": [
       "Text(0, 0.5, 'N')"
      ]
     },
     "execution_count": 7,
     "metadata": {},
     "output_type": "execute_result"
    },
    {
     "data": {
      "image/png": "[encoded data removed]",
      "text/plain": [
       "<Figure size 1040x910 with 1 Axes>"
      ]
     },
     "metadata": {},
     "output_type": "display_data"
    }
   ],
   "source": [
    "\n",
    "\n",
    "u = np.random.uniform(0,1, size=5000)\n",
    "\n",
    "draws = [func.from_unit_cube(x) for x in u]\n",
    "\n",
    "\n",
    "fig, ax = plt.subplots()\n",
    "\n",
    "\n",
    "ax.hist(draws, color=green, bins=50)\n",
    "\n",
    "ax.set_xlabel(\"value\")\n",
    "ax.set_ylabel(\"N\")\n",
    "\n"
   ]
  }
 ],
 "metadata": {
  "jupytext": {
   "formats": "ipynb,md"
  },
  "kernelspec": {
   "display_name": "Python 3 (ipykernel)",
   "language": "python",
   "name": "python3"
  },
  "language_info": {
   "codemirror_mode": {
    "name": "ipython",
    "version": 3
   },
   "file_extension": ".py",
   "mimetype": "text/x-python",
   "name": "python",
   "nbconvert_exporter": "python",
   "pygments_lexer": "ipython3",
   "version": "3.9.13"
  },
  "papermill": {
   "default_parameters": {},
   "duration": 3.259008,
   "end_time": "2024-05-08T19:57:12.252238",
   "environment_variables": {},
   "exception": null,
   "input_path": "Powerlaw_Prior.ipynb",
   "output_path": "/Users/runner/work/astromodels/astromodels/docs/notebooks/Powerlaw_Prior.ipynb",
   "parameters": {
    "func_name": "Powerlaw_Prior",
    "positive_prior": true
   },
   "start_time": "2024-05-08T19:57:08.993230",
   "version": "2.6.0"
  }
 },
 "nbformat": 4,
 "nbformat_minor": 5
}
