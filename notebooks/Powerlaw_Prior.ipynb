{
 "cells": [
  {
   "cell_type": "markdown",
   "id": "d525ca55",
   "metadata": {
    "papermill": {
     "duration": 0.003488,
     "end_time": "2023-11-01T17:27:08.202119",
     "exception": false,
     "start_time": "2023-11-01T17:27:08.198631",
     "status": "completed"
    },
    "tags": []
   },
   "source": [
    "# Powerlaw Prior"
   ]
  },
  {
   "cell_type": "code",
   "execution_count": 1,
   "id": "5507d5e6",
   "metadata": {
    "execution": {
     "iopub.execute_input": "2023-11-01T17:27:08.209489Z",
     "iopub.status.busy": "2023-11-01T17:27:08.209026Z",
     "iopub.status.idle": "2023-11-01T17:27:11.233553Z",
     "shell.execute_reply": "2023-11-01T17:27:11.230837Z"
    },
    "nbsphinx": "hidden",
    "papermill": {
     "duration": 3.033293,
     "end_time": "2023-11-01T17:27:11.238201",
     "exception": false,
     "start_time": "2023-11-01T17:27:08.204908",
     "status": "completed"
    },
    "tags": []
   },
   "outputs": [],
   "source": [
    "%%capture\n",
    "\n",
    "import numpy as np\n",
    "\n",
    "import matplotlib.pyplot as plt\n",
    "\n",
    "import warnings\n",
    "warnings.simplefilter(\"ignore\")\n",
    "\n",
    "from astromodels.functions.function import _known_functions\n",
    "\n",
    "\n",
    "from jupyterthemes import jtplot\n",
    "jtplot.style(context=\"talk\", fscale=1, ticks=True, grid=False)\n",
    "%matplotlib inline"
   ]
  },
  {
   "cell_type": "code",
   "execution_count": 2,
   "id": "a2705bc1",
   "metadata": {
    "execution": {
     "iopub.execute_input": "2023-11-01T17:27:11.246073Z",
     "iopub.status.busy": "2023-11-01T17:27:11.245534Z",
     "iopub.status.idle": "2023-11-01T17:27:11.252542Z",
     "shell.execute_reply": "2023-11-01T17:27:11.250572Z"
    },
    "nbsphinx": "hidden",
    "papermill": {
     "duration": 0.015393,
     "end_time": "2023-11-01T17:27:11.256311",
     "exception": false,
     "start_time": "2023-11-01T17:27:11.240918",
     "status": "completed"
    },
    "tags": [
     "parameters"
    ]
   },
   "outputs": [],
   "source": [
    "func_name = \"TbAbs\"\n",
    "\n",
    "positive_prior = False\n"
   ]
  },
  {
   "cell_type": "code",
   "execution_count": 3,
   "id": "b924f3f2",
   "metadata": {
    "execution": {
     "iopub.execute_input": "2023-11-01T17:27:11.263489Z",
     "iopub.status.busy": "2023-11-01T17:27:11.263134Z",
     "iopub.status.idle": "2023-11-01T17:27:11.271652Z",
     "shell.execute_reply": "2023-11-01T17:27:11.270344Z"
    },
    "papermill": {
     "duration": 0.016473,
     "end_time": "2023-11-01T17:27:11.275625",
     "exception": false,
     "start_time": "2023-11-01T17:27:11.259152",
     "status": "completed"
    },
    "tags": [
     "injected-parameters"
    ]
   },
   "outputs": [],
   "source": [
    "# Parameters\n",
    "func_name = \"Powerlaw_Prior\"\n",
    "positive_prior = True\n"
   ]
  },
  {
   "cell_type": "code",
   "execution_count": 4,
   "id": "5813ed8e",
   "metadata": {
    "execution": {
     "iopub.execute_input": "2023-11-01T17:27:11.282434Z",
     "iopub.status.busy": "2023-11-01T17:27:11.282053Z",
     "iopub.status.idle": "2023-11-01T17:27:11.289950Z",
     "shell.execute_reply": "2023-11-01T17:27:11.288623Z"
    },
    "lines_to_next_cell": 0,
    "nbsphinx": "hidden",
    "papermill": {
     "duration": 0.015889,
     "end_time": "2023-11-01T17:27:11.293981",
     "exception": false,
     "start_time": "2023-11-01T17:27:11.278092",
     "status": "completed"
    },
    "tags": []
   },
   "outputs": [],
   "source": [
    "func = _known_functions[func_name]()\n",
    "\n",
    "if not positive_prior:\n",
    "\n",
    "\tenergy_grid = np.linspace(-5,5,1000)\n",
    "\n",
    "else:\n",
    "    \n",
    "    energy_grid = np.linspace(0,1,1000)\n",
    "    \n",
    "    \n",
    "    \n",
    "    \n",
    "blue = \"#4152E3\"\n",
    "red = \"#E3414B\"\n",
    "green = \"#41E39E\""
   ]
  },
  {
   "cell_type": "markdown",
   "id": "0ca9772b",
   "metadata": {
    "lines_to_next_cell": 0,
    "papermill": {
     "duration": 0.002639,
     "end_time": "2023-11-01T17:27:11.299148",
     "exception": false,
     "start_time": "2023-11-01T17:27:11.296509",
     "status": "completed"
    },
    "tags": []
   },
   "source": [
    "## Description"
   ]
  },
  {
   "cell_type": "code",
   "execution_count": 5,
   "id": "39106bef",
   "metadata": {
    "execution": {
     "iopub.execute_input": "2023-11-01T17:27:11.306108Z",
     "iopub.status.busy": "2023-11-01T17:27:11.305750Z",
     "iopub.status.idle": "2023-11-01T17:27:11.317584Z",
     "shell.execute_reply": "2023-11-01T17:27:11.316120Z"
    },
    "papermill": {
     "duration": 0.020015,
     "end_time": "2023-11-01T17:27:11.321655",
     "exception": false,
     "start_time": "2023-11-01T17:27:11.301640",
     "status": "completed"
    },
    "tags": []
   },
   "outputs": [
    {
     "data": {
      "text/html": [
       "<ul>\n",
       "\n",
       "<li>description: An power law distribution function between a-b</li>\n",
       "\n",
       "<li>formula: $ f(x, \\alpha) = \\alpha x^{\\alpha-1)$</li>\n",
       "\n",
       "<li>parameters: \n",
       "<ul>\n",
       "\n",
       "<li>alpha: \n",
       "<ul>\n",
       "\n",
       "<li>value: 1.0</li>\n",
       "\n",
       "<li>desc: slope parameter</li>\n",
       "\n",
       "<li>min_value: 0.0</li>\n",
       "\n",
       "<li>max_value: None</li>\n",
       "\n",
       "<li>unit: </li>\n",
       "\n",
       "<li>is_normalization: False</li>\n",
       "\n",
       "<li>delta: 0.1</li>\n",
       "\n",
       "<li>free: True</li>\n",
       "\n",
       "</ul>\n",
       "\n",
       "</li>\n",
       "\n",
       "<li>a: \n",
       "<ul>\n",
       "\n",
       "<li>value: 0.0</li>\n",
       "\n",
       "<li>desc: lower bound of distribution</li>\n",
       "\n",
       "<li>min_value: 0.0</li>\n",
       "\n",
       "<li>max_value: None</li>\n",
       "\n",
       "<li>unit: </li>\n",
       "\n",
       "<li>is_normalization: False</li>\n",
       "\n",
       "<li>delta: 0.1</li>\n",
       "\n",
       "<li>free: True</li>\n",
       "\n",
       "</ul>\n",
       "\n",
       "</li>\n",
       "\n",
       "<li>b: \n",
       "<ul>\n",
       "\n",
       "<li>value: 1.0</li>\n",
       "\n",
       "<li>desc: upper bound of distribution</li>\n",
       "\n",
       "<li>min_value: 0.0</li>\n",
       "\n",
       "<li>max_value: None</li>\n",
       "\n",
       "<li>unit: </li>\n",
       "\n",
       "<li>is_normalization: False</li>\n",
       "\n",
       "<li>delta: 0.1</li>\n",
       "\n",
       "<li>free: True</li>\n",
       "\n",
       "</ul>\n",
       "\n",
       "</li>\n",
       "\n",
       "</ul>\n",
       "\n",
       "</li>\n",
       "\n",
       "</ul>\n"
      ],
      "text/plain": [
       "  * description: An power law distribution function between a-b\n",
       "  * formula: $ f(x, \\alpha) = \\alpha x^{\\alpha-1)$\n",
       "  * parameters:\n",
       "    * alpha:\n",
       "      * value: 1.0\n",
       "      * desc: slope parameter\n",
       "      * min_value: 0.0\n",
       "      * max_value: null\n",
       "      * unit: ''\n",
       "      * is_normalization: false\n",
       "      * delta: 0.1\n",
       "      * free: true\n",
       "    * a:\n",
       "      * value: 0.0\n",
       "      * desc: lower bound of distribution\n",
       "      * min_value: 0.0\n",
       "      * max_value: null\n",
       "      * unit: ''\n",
       "      * is_normalization: false\n",
       "      * delta: 0.1\n",
       "      * free: true\n",
       "    * b:\n",
       "      * value: 1.0\n",
       "      * desc: upper bound of distribution\n",
       "      * min_value: 0.0\n",
       "      * max_value: null\n",
       "      * unit: ''\n",
       "      * is_normalization: false\n",
       "      * delta: 0.1\n",
       "      * free: true"
      ]
     },
     "metadata": {},
     "output_type": "display_data"
    }
   ],
   "source": [
    "func.display()"
   ]
  },
  {
   "cell_type": "markdown",
   "id": "c45f2d0e",
   "metadata": {
    "papermill": {
     "duration": 0.00317,
     "end_time": "2023-11-01T17:27:11.327679",
     "exception": false,
     "start_time": "2023-11-01T17:27:11.324509",
     "status": "completed"
    },
    "tags": []
   },
   "source": [
    "## Shape \n",
    "\n",
    "The shape of the function. \n",
    "\n",
    "*If this is not a photon model but a prior or linear function then ignore the units as these docs are auto-generated*"
   ]
  },
  {
   "cell_type": "code",
   "execution_count": 6,
   "id": "93a27c7d",
   "metadata": {
    "execution": {
     "iopub.execute_input": "2023-11-01T17:27:11.335418Z",
     "iopub.status.busy": "2023-11-01T17:27:11.335048Z",
     "iopub.status.idle": "2023-11-01T17:27:11.537252Z",
     "shell.execute_reply": "2023-11-01T17:27:11.535958Z"
    },
    "papermill": {
     "duration": 0.211019,
     "end_time": "2023-11-01T17:27:11.541548",
     "exception": false,
     "start_time": "2023-11-01T17:27:11.330529",
     "status": "completed"
    },
    "tags": [
     "nbsphinx-thumbnail"
    ]
   },
   "outputs": [
    {
     "data": {
      "text/plain": [
       "Text(0, 0.5, 'probability')"
      ]
     },
     "execution_count": 6,
     "metadata": {},
     "output_type": "execute_result"
    },
    {
     "data": {
      "image/png": "[encoded data removed]",
      "text/plain": [
       "<Figure size 1040x910 with 1 Axes>"
      ]
     },
     "metadata": {},
     "output_type": "display_data"
    }
   ],
   "source": [
    "fig, ax = plt.subplots()\n",
    "\n",
    "\n",
    "ax.plot(energy_grid, func(energy_grid), color=blue, lw=3)\n",
    "\n",
    "ax.set_xlabel(\"x\")\n",
    "ax.set_ylabel(\"probability\")\n"
   ]
  },
  {
   "cell_type": "markdown",
   "id": "d99d5d72",
   "metadata": {
    "papermill": {
     "duration": 0.003313,
     "end_time": "2023-11-01T17:27:11.550303",
     "exception": false,
     "start_time": "2023-11-01T17:27:11.546990",
     "status": "completed"
    },
    "tags": []
   },
   "source": [
    "## Random Number Generation\n",
    "\n",
    "This is how we can generate random numbers from the prior.\n"
   ]
  },
  {
   "cell_type": "code",
   "execution_count": 7,
   "id": "e37c0396",
   "metadata": {
    "execution": {
     "iopub.execute_input": "2023-11-01T17:27:11.558217Z",
     "iopub.status.busy": "2023-11-01T17:27:11.557831Z",
     "iopub.status.idle": "2023-11-01T17:27:12.777347Z",
     "shell.execute_reply": "2023-11-01T17:27:12.775169Z"
    },
    "papermill": {
     "duration": 1.229767,
     "end_time": "2023-11-01T17:27:12.783053",
     "exception": false,
     "start_time": "2023-11-01T17:27:11.553286",
     "status": "completed"
    },
    "tags": []
   },
   "outputs": [
    {
     "data": {
      "text/plain": [
       "Text(0, 0.5, 'N')"
      ]
     },
     "execution_count": 7,
     "metadata": {},
     "output_type": "execute_result"
    },
    {
     "data": {
      "image/png": "[encoded data removed]",
      "text/plain": [
       "<Figure size 1040x910 with 1 Axes>"
      ]
     },
     "metadata": {},
     "output_type": "display_data"
    }
   ],
   "source": [
    "\n",
    "\n",
    "u = np.random.uniform(0,1, size=5000)\n",
    "\n",
    "draws = [func.from_unit_cube(x) for x in u]\n",
    "\n",
    "\n",
    "fig, ax = plt.subplots()\n",
    "\n",
    "\n",
    "ax.hist(draws, color=green, bins=50)\n",
    "\n",
    "ax.set_xlabel(\"value\")\n",
    "ax.set_ylabel(\"N\")\n",
    "\n"
   ]
  }
 ],
 "metadata": {
  "jupytext": {
   "formats": "ipynb,md"
  },
  "kernelspec": {
   "display_name": "Python 3 (ipykernel)",
   "language": "python",
   "name": "python3"
  },
  "language_info": {
   "codemirror_mode": {
    "name": "ipython",
    "version": 3
   },
   "file_extension": ".py",
   "mimetype": "text/x-python",
   "name": "python",
   "nbconvert_exporter": "python",
   "pygments_lexer": "ipython3",
   "version": "3.9.18"
  },
  "papermill": {
   "default_parameters": {},
   "duration": 8.634614,
   "end_time": "2023-11-01T17:27:15.816451",
   "environment_variables": {},
   "exception": null,
   "input_path": "Powerlaw_Prior.ipynb",
   "output_path": "/Users/runner/work/astromodels/astromodels/docs/notebooks/Powerlaw_Prior.ipynb",
   "parameters": {
    "func_name": "Powerlaw_Prior",
    "positive_prior": true
   },
   "start_time": "2023-11-01T17:27:07.181837",
   "version": "2.4.0"
  }
 },
 "nbformat": 4,
 "nbformat_minor": 5
}
