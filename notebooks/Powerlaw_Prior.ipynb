{
 "cells": [
  {
   "cell_type": "markdown",
   "id": "35e0ced8",
   "metadata": {
    "papermill": {
     "duration": 0.008943,
     "end_time": "2024-09-10T15:24:09.510218",
     "exception": false,
     "start_time": "2024-09-10T15:24:09.501275",
     "status": "completed"
    },
    "tags": []
   },
   "source": [
    "# Powerlaw Prior"
   ]
  },
  {
   "cell_type": "code",
   "execution_count": 1,
   "id": "791a8936",
   "metadata": {
    "execution": {
     "iopub.execute_input": "2024-09-10T15:24:09.521501Z",
     "iopub.status.busy": "2024-09-10T15:24:09.520860Z",
     "iopub.status.idle": "2024-09-10T15:24:10.932948Z",
     "shell.execute_reply": "2024-09-10T15:24:10.932433Z"
    },
    "nbsphinx": "hidden",
    "papermill": {
     "duration": 1.419971,
     "end_time": "2024-09-10T15:24:10.934469",
     "exception": false,
     "start_time": "2024-09-10T15:24:09.514498",
     "status": "completed"
    },
    "tags": []
   },
   "outputs": [],
   "source": [
    "%%capture\n",
    "\n",
    "import numpy as np\n",
    "\n",
    "import matplotlib.pyplot as plt\n",
    "\n",
    "import warnings\n",
    "warnings.simplefilter(\"ignore\")\n",
    "\n",
    "from astromodels.functions.function import _known_functions\n",
    "\n",
    "\n",
    "from jupyterthemes import jtplot\n",
    "jtplot.style(context=\"talk\", fscale=1, ticks=True, grid=False)\n",
    "%matplotlib inline"
   ]
  },
  {
   "cell_type": "code",
   "execution_count": 2,
   "id": "133808ca",
   "metadata": {
    "execution": {
     "iopub.execute_input": "2024-09-10T15:24:10.937742Z",
     "iopub.status.busy": "2024-09-10T15:24:10.937413Z",
     "iopub.status.idle": "2024-09-10T15:24:10.945688Z",
     "shell.execute_reply": "2024-09-10T15:24:10.945221Z"
    },
    "nbsphinx": "hidden",
    "papermill": {
     "duration": 0.011215,
     "end_time": "2024-09-10T15:24:10.946927",
     "exception": false,
     "start_time": "2024-09-10T15:24:10.935712",
     "status": "completed"
    },
    "tags": [
     "parameters"
    ]
   },
   "outputs": [],
   "source": [
    "func_name = \"TbAbs\"\n",
    "\n",
    "positive_prior = False\n"
   ]
  },
  {
   "cell_type": "code",
   "execution_count": 3,
   "id": "d98abad4",
   "metadata": {
    "execution": {
     "iopub.execute_input": "2024-09-10T15:24:10.949504Z",
     "iopub.status.busy": "2024-09-10T15:24:10.949366Z",
     "iopub.status.idle": "2024-09-10T15:24:10.957534Z",
     "shell.execute_reply": "2024-09-10T15:24:10.957171Z"
    },
    "papermill": {
     "duration": 0.010879,
     "end_time": "2024-09-10T15:24:10.958815",
     "exception": false,
     "start_time": "2024-09-10T15:24:10.947936",
     "status": "completed"
    },
    "tags": [
     "injected-parameters"
    ]
   },
   "outputs": [],
   "source": [
    "# Parameters\n",
    "func_name = \"Powerlaw_Prior\"\n",
    "positive_prior = True\n"
   ]
  },
  {
   "cell_type": "code",
   "execution_count": 4,
   "id": "135a53a8",
   "metadata": {
    "execution": {
     "iopub.execute_input": "2024-09-10T15:24:10.961501Z",
     "iopub.status.busy": "2024-09-10T15:24:10.961362Z",
     "iopub.status.idle": "2024-09-10T15:24:10.969810Z",
     "shell.execute_reply": "2024-09-10T15:24:10.969422Z"
    },
    "lines_to_next_cell": 0,
    "nbsphinx": "hidden",
    "papermill": {
     "duration": 0.011238,
     "end_time": "2024-09-10T15:24:10.971093",
     "exception": false,
     "start_time": "2024-09-10T15:24:10.959855",
     "status": "completed"
    },
    "tags": []
   },
   "outputs": [],
   "source": [
    "func = _known_functions[func_name]()\n",
    "\n",
    "if not positive_prior:\n",
    "\n",
    "\tenergy_grid = np.linspace(-5,5,1000)\n",
    "\n",
    "else:\n",
    "    \n",
    "    energy_grid = np.linspace(0,1,1000)\n",
    "    \n",
    "    \n",
    "    \n",
    "    \n",
    "blue = \"#4152E3\"\n",
    "red = \"#E3414B\"\n",
    "green = \"#41E39E\""
   ]
  },
  {
   "cell_type": "markdown",
   "id": "dab24491",
   "metadata": {
    "lines_to_next_cell": 0,
    "papermill": {
     "duration": 0.000983,
     "end_time": "2024-09-10T15:24:10.973104",
     "exception": false,
     "start_time": "2024-09-10T15:24:10.972121",
     "status": "completed"
    },
    "tags": []
   },
   "source": [
    "## Description"
   ]
  },
  {
   "cell_type": "code",
   "execution_count": 5,
   "id": "2e243e95",
   "metadata": {
    "execution": {
     "iopub.execute_input": "2024-09-10T15:24:10.975603Z",
     "iopub.status.busy": "2024-09-10T15:24:10.975464Z",
     "iopub.status.idle": "2024-09-10T15:24:10.979298Z",
     "shell.execute_reply": "2024-09-10T15:24:10.978809Z"
    },
    "papermill": {
     "duration": 0.006618,
     "end_time": "2024-09-10T15:24:10.980664",
     "exception": false,
     "start_time": "2024-09-10T15:24:10.974046",
     "status": "completed"
    },
    "tags": []
   },
   "outputs": [
    {
     "data": {
      "text/html": [
       "<ul>\n",
       "\n",
       "<li>description: An power law distribution function between a-b</li>\n",
       "\n",
       "<li>formula: $ f(x, \\alpha) = \\alpha x^{\\alpha-1)$</li>\n",
       "\n",
       "<li>parameters: \n",
       "<ul>\n",
       "\n",
       "<li>alpha: \n",
       "<ul>\n",
       "\n",
       "<li>value: 1.0</li>\n",
       "\n",
       "<li>desc: slope parameter</li>\n",
       "\n",
       "<li>min_value: 0.0</li>\n",
       "\n",
       "<li>max_value: None</li>\n",
       "\n",
       "<li>unit: </li>\n",
       "\n",
       "<li>is_normalization: False</li>\n",
       "\n",
       "<li>delta: 0.1</li>\n",
       "\n",
       "<li>free: True</li>\n",
       "\n",
       "</ul>\n",
       "\n",
       "</li>\n",
       "\n",
       "<li>a: \n",
       "<ul>\n",
       "\n",
       "<li>value: 0.0</li>\n",
       "\n",
       "<li>desc: lower bound of distribution</li>\n",
       "\n",
       "<li>min_value: 0.0</li>\n",
       "\n",
       "<li>max_value: None</li>\n",
       "\n",
       "<li>unit: </li>\n",
       "\n",
       "<li>is_normalization: False</li>\n",
       "\n",
       "<li>delta: 0.1</li>\n",
       "\n",
       "<li>free: True</li>\n",
       "\n",
       "</ul>\n",
       "\n",
       "</li>\n",
       "\n",
       "<li>b: \n",
       "<ul>\n",
       "\n",
       "<li>value: 1.0</li>\n",
       "\n",
       "<li>desc: upper bound of distribution</li>\n",
       "\n",
       "<li>min_value: 0.0</li>\n",
       "\n",
       "<li>max_value: None</li>\n",
       "\n",
       "<li>unit: </li>\n",
       "\n",
       "<li>is_normalization: False</li>\n",
       "\n",
       "<li>delta: 0.1</li>\n",
       "\n",
       "<li>free: True</li>\n",
       "\n",
       "</ul>\n",
       "\n",
       "</li>\n",
       "\n",
       "</ul>\n",
       "\n",
       "</li>\n",
       "\n",
       "</ul>\n"
      ],
      "text/plain": [
       "  * description: An power law distribution function between a-b\n",
       "  * formula: $ f(x, \\alpha) = \\alpha x^{\\alpha-1)$\n",
       "  * parameters:\n",
       "    * alpha:\n",
       "      * value: 1.0\n",
       "      * desc: slope parameter\n",
       "      * min_value: 0.0\n",
       "      * max_value: null\n",
       "      * unit: ''\n",
       "      * is_normalization: false\n",
       "      * delta: 0.1\n",
       "      * free: true\n",
       "    * a:\n",
       "      * value: 0.0\n",
       "      * desc: lower bound of distribution\n",
       "      * min_value: 0.0\n",
       "      * max_value: null\n",
       "      * unit: ''\n",
       "      * is_normalization: false\n",
       "      * delta: 0.1\n",
       "      * free: true\n",
       "    * b:\n",
       "      * value: 1.0\n",
       "      * desc: upper bound of distribution\n",
       "      * min_value: 0.0\n",
       "      * max_value: null\n",
       "      * unit: ''\n",
       "      * is_normalization: false\n",
       "      * delta: 0.1\n",
       "      * free: true"
      ]
     },
     "metadata": {},
     "output_type": "display_data"
    }
   ],
   "source": [
    "func.display()"
   ]
  },
  {
   "cell_type": "markdown",
   "id": "a31e9fec",
   "metadata": {
    "papermill": {
     "duration": 0.001137,
     "end_time": "2024-09-10T15:24:10.982949",
     "exception": false,
     "start_time": "2024-09-10T15:24:10.981812",
     "status": "completed"
    },
    "tags": []
   },
   "source": [
    "## Shape \n",
    "\n",
    "The shape of the function. \n",
    "\n",
    "*If this is not a photon model but a prior or linear function then ignore the units as these docs are auto-generated*"
   ]
  },
  {
   "cell_type": "code",
   "execution_count": 6,
   "id": "3b515bf1",
   "metadata": {
    "execution": {
     "iopub.execute_input": "2024-09-10T15:24:10.985757Z",
     "iopub.status.busy": "2024-09-10T15:24:10.985613Z",
     "iopub.status.idle": "2024-09-10T15:24:11.073988Z",
     "shell.execute_reply": "2024-09-10T15:24:11.073640Z"
    },
    "papermill": {
     "duration": 0.091417,
     "end_time": "2024-09-10T15:24:11.075434",
     "exception": false,
     "start_time": "2024-09-10T15:24:10.984017",
     "status": "completed"
    },
    "tags": [
     "nbsphinx-thumbnail"
    ]
   },
   "outputs": [
    {
     "data": {
      "text/plain": [
       "Text(0, 0.5, 'probability')"
      ]
     },
     "execution_count": 6,
     "metadata": {},
     "output_type": "execute_result"
    },
    {
     "data": {
      "image/png": "[encoded data removed]",
      "text/plain": [
       "<Figure size 1040x910 with 1 Axes>"
      ]
     },
     "metadata": {},
     "output_type": "display_data"
    }
   ],
   "source": [
    "fig, ax = plt.subplots()\n",
    "\n",
    "\n",
    "ax.plot(energy_grid, func(energy_grid), color=blue, lw=3)\n",
    "\n",
    "ax.set_xlabel(\"x\")\n",
    "ax.set_ylabel(\"probability\")\n"
   ]
  },
  {
   "cell_type": "markdown",
   "id": "703b77eb",
   "metadata": {
    "papermill": {
     "duration": 0.001483,
     "end_time": "2024-09-10T15:24:11.078523",
     "exception": false,
     "start_time": "2024-09-10T15:24:11.077040",
     "status": "completed"
    },
    "tags": []
   },
   "source": [
    "## Random Number Generation\n",
    "\n",
    "This is how we can generate random numbers from the prior.\n"
   ]
  },
  {
   "cell_type": "code",
   "execution_count": 7,
   "id": "8cdd96ac",
   "metadata": {
    "execution": {
     "iopub.execute_input": "2024-09-10T15:24:11.081882Z",
     "iopub.status.busy": "2024-09-10T15:24:11.081740Z",
     "iopub.status.idle": "2024-09-10T15:24:11.409075Z",
     "shell.execute_reply": "2024-09-10T15:24:11.408635Z"
    },
    "papermill": {
     "duration": 0.33067,
     "end_time": "2024-09-10T15:24:11.410475",
     "exception": false,
     "start_time": "2024-09-10T15:24:11.079805",
     "status": "completed"
    },
    "tags": []
   },
   "outputs": [
    {
     "data": {
      "text/plain": [
       "Text(0, 0.5, 'N')"
      ]
     },
     "execution_count": 7,
     "metadata": {},
     "output_type": "execute_result"
    },
    {
     "data": {
      "image/png": "[encoded data removed]",
      "text/plain": [
       "<Figure size 1040x910 with 1 Axes>"
      ]
     },
     "metadata": {},
     "output_type": "display_data"
    }
   ],
   "source": [
    "\n",
    "\n",
    "u = np.random.uniform(0,1, size=5000)\n",
    "\n",
    "draws = [func.from_unit_cube(x) for x in u]\n",
    "\n",
    "\n",
    "fig, ax = plt.subplots()\n",
    "\n",
    "\n",
    "ax.hist(draws, color=green, bins=50)\n",
    "\n",
    "ax.set_xlabel(\"value\")\n",
    "ax.set_ylabel(\"N\")\n",
    "\n"
   ]
  }
 ],
 "metadata": {
  "jupytext": {
   "formats": "ipynb,md"
  },
  "kernelspec": {
   "display_name": "Python 3 (ipykernel)",
   "language": "python",
   "name": "python3"
  },
  "language_info": {
   "codemirror_mode": {
    "name": "ipython",
    "version": 3
   },
   "file_extension": ".py",
   "mimetype": "text/x-python",
   "name": "python",
   "nbconvert_exporter": "python",
   "pygments_lexer": "ipython3",
   "version": "3.9.13"
  },
  "papermill": {
   "default_parameters": {},
   "duration": 2.943461,
   "end_time": "2024-09-10T15:24:11.757442",
   "environment_variables": {},
   "exception": null,
   "input_path": "Powerlaw_Prior.ipynb",
   "output_path": "/Users/runner/work/astromodels/astromodels/docs/notebooks/Powerlaw_Prior.ipynb",
   "parameters": {
    "func_name": "Powerlaw_Prior",
    "positive_prior": true
   },
   "start_time": "2024-09-10T15:24:08.813981",
   "version": "2.6.0"
  }
 },
 "nbformat": 4,
 "nbformat_minor": 5
}
