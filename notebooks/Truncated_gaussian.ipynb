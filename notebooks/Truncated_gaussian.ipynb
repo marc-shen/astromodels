{
 "cells": [
  {
   "cell_type": "markdown",
   "id": "8255149e",
   "metadata": {
    "papermill": {
     "duration": 0.004161,
     "end_time": "2022-09-27T12:55:32.761007",
     "exception": false,
     "start_time": "2022-09-27T12:55:32.756846",
     "status": "completed"
    },
    "tags": []
   },
   "source": [
    "# Truncated gaussian"
   ]
  },
  {
   "cell_type": "code",
   "execution_count": 1,
   "id": "ff088c7a",
   "metadata": {
    "execution": {
     "iopub.execute_input": "2022-09-27T12:55:32.768687Z",
     "iopub.status.busy": "2022-09-27T12:55:32.768246Z",
     "iopub.status.idle": "2022-09-27T12:55:36.420021Z",
     "shell.execute_reply": "2022-09-27T12:55:36.419062Z"
    },
    "nbsphinx": "hidden",
    "papermill": {
     "duration": 3.659465,
     "end_time": "2022-09-27T12:55:36.423524",
     "exception": false,
     "start_time": "2022-09-27T12:55:32.764059",
     "status": "completed"
    },
    "tags": []
   },
   "outputs": [],
   "source": [
    "%%capture\n",
    "\n",
    "import numpy as np\n",
    "\n",
    "import matplotlib.pyplot as plt\n",
    "\n",
    "import warnings\n",
    "warnings.simplefilter(\"ignore\")\n",
    "\n",
    "from astromodels.functions.function import _known_functions\n",
    "\n",
    "\n",
    "from jupyterthemes import jtplot\n",
    "jtplot.style(context=\"talk\", fscale=1, ticks=True, grid=False)\n",
    "%matplotlib inline"
   ]
  },
  {
   "cell_type": "code",
   "execution_count": 2,
   "id": "a131160a",
   "metadata": {
    "execution": {
     "iopub.execute_input": "2022-09-27T12:55:36.432146Z",
     "iopub.status.busy": "2022-09-27T12:55:36.431776Z",
     "iopub.status.idle": "2022-09-27T12:55:36.440181Z",
     "shell.execute_reply": "2022-09-27T12:55:36.439239Z"
    },
    "nbsphinx": "hidden",
    "papermill": {
     "duration": 0.015214,
     "end_time": "2022-09-27T12:55:36.442871",
     "exception": false,
     "start_time": "2022-09-27T12:55:36.427657",
     "status": "completed"
    },
    "tags": [
     "parameters"
    ]
   },
   "outputs": [],
   "source": [
    "func_name = \"TbAbs\"\n",
    "\n",
    "positive_prior = False\n"
   ]
  },
  {
   "cell_type": "code",
   "execution_count": 3,
   "id": "3af9146f",
   "metadata": {
    "execution": {
     "iopub.execute_input": "2022-09-27T12:55:36.449585Z",
     "iopub.status.busy": "2022-09-27T12:55:36.449242Z",
     "iopub.status.idle": "2022-09-27T12:55:36.457779Z",
     "shell.execute_reply": "2022-09-27T12:55:36.456835Z"
    },
    "papermill": {
     "duration": 0.014955,
     "end_time": "2022-09-27T12:55:36.460502",
     "exception": false,
     "start_time": "2022-09-27T12:55:36.445547",
     "status": "completed"
    },
    "tags": [
     "injected-parameters"
    ]
   },
   "outputs": [],
   "source": [
    "# Parameters\n",
    "func_name = \"Truncated_gaussian\"\n",
    "positive_prior = False\n"
   ]
  },
  {
   "cell_type": "code",
   "execution_count": 4,
   "id": "dd5e2c7f",
   "metadata": {
    "execution": {
     "iopub.execute_input": "2022-09-27T12:55:36.467573Z",
     "iopub.status.busy": "2022-09-27T12:55:36.466984Z",
     "iopub.status.idle": "2022-09-27T12:55:36.474183Z",
     "shell.execute_reply": "2022-09-27T12:55:36.473071Z"
    },
    "lines_to_next_cell": 0,
    "nbsphinx": "hidden",
    "papermill": {
     "duration": 0.013702,
     "end_time": "2022-09-27T12:55:36.476856",
     "exception": false,
     "start_time": "2022-09-27T12:55:36.463154",
     "status": "completed"
    },
    "tags": []
   },
   "outputs": [],
   "source": [
    "func = _known_functions[func_name]()\n",
    "\n",
    "if not positive_prior:\n",
    "\n",
    "\tenergy_grid = np.linspace(-5,5,1000)\n",
    "\n",
    "else:\n",
    "    \n",
    "    energy_grid = np.linspace(0,1,1000)\n",
    "    \n",
    "    \n",
    "    \n",
    "    \n",
    "blue = \"#4152E3\"\n",
    "red = \"#E3414B\"\n",
    "green = \"#41E39E\""
   ]
  },
  {
   "cell_type": "markdown",
   "id": "06b3de72",
   "metadata": {
    "lines_to_next_cell": 0,
    "papermill": {
     "duration": 0.002814,
     "end_time": "2022-09-27T12:55:36.482593",
     "exception": false,
     "start_time": "2022-09-27T12:55:36.479779",
     "status": "completed"
    },
    "tags": []
   },
   "source": [
    "## Description"
   ]
  },
  {
   "cell_type": "code",
   "execution_count": 5,
   "id": "37c7cc8b",
   "metadata": {
    "execution": {
     "iopub.execute_input": "2022-09-27T12:55:36.490320Z",
     "iopub.status.busy": "2022-09-27T12:55:36.489560Z",
     "iopub.status.idle": "2022-09-27T12:55:36.505527Z",
     "shell.execute_reply": "2022-09-27T12:55:36.504403Z"
    },
    "papermill": {
     "duration": 0.022762,
     "end_time": "2022-09-27T12:55:36.508462",
     "exception": false,
     "start_time": "2022-09-27T12:55:36.485700",
     "status": "completed"
    },
    "tags": []
   },
   "outputs": [
    {
     "data": {
      "text/html": [
       "<ul>\n",
       "\n",
       "<li>description: A  truncated Gaussian function defined on the interval between the lower_bound (a) and upper_bound (b)</li>\n",
       "\n",
       "<li>formula: $\\begin{split}f(x;\\mu,\\sigma,a,b)=\\frac{\\frac{1}{\\sigma} \\phi\\left( \\frac{x-\\mu}{\\sigma} \\right)}{\\Phi\\left( \\frac{b-\\mu}{\\sigma} \\right) - \\Phi\\left( \\frac{a-\\mu}{\\sigma} \\right)}\\\\\\phi\\left(z\\right)=\\frac{1}{\\sqrt{2 \\pi}}\\exp\\left(-\\frac{1}{2}z^2\\right)\\\\\\Phi\\left(z\\right)=\\frac{1}{2}\\left(1+erf\\left(\\frac{z}{\\sqrt(2)}\\right)\\right)\\end{split}$</li>\n",
       "\n",
       "<li>parameters: \n",
       "<ul>\n",
       "\n",
       "<li>F: \n",
       "<ul>\n",
       "\n",
       "<li>value: 1.0</li>\n",
       "\n",
       "<li>desc: Integral between -inf and +inf. Fix this to 1 to obtain a Normal distribution</li>\n",
       "\n",
       "<li>min_value: None</li>\n",
       "\n",
       "<li>max_value: None</li>\n",
       "\n",
       "<li>unit: </li>\n",
       "\n",
       "<li>is_normalization: False</li>\n",
       "\n",
       "<li>delta: 0.1</li>\n",
       "\n",
       "<li>free: True</li>\n",
       "\n",
       "</ul>\n",
       "\n",
       "</li>\n",
       "\n",
       "<li>mu: \n",
       "<ul>\n",
       "\n",
       "<li>value: 0.0</li>\n",
       "\n",
       "<li>desc: Central value</li>\n",
       "\n",
       "<li>min_value: None</li>\n",
       "\n",
       "<li>max_value: None</li>\n",
       "\n",
       "<li>unit: </li>\n",
       "\n",
       "<li>is_normalization: False</li>\n",
       "\n",
       "<li>delta: 0.1</li>\n",
       "\n",
       "<li>free: True</li>\n",
       "\n",
       "</ul>\n",
       "\n",
       "</li>\n",
       "\n",
       "<li>sigma: \n",
       "<ul>\n",
       "\n",
       "<li>value: 1.0</li>\n",
       "\n",
       "<li>desc: standard deviation</li>\n",
       "\n",
       "<li>min_value: 1e-12</li>\n",
       "\n",
       "<li>max_value: None</li>\n",
       "\n",
       "<li>unit: </li>\n",
       "\n",
       "<li>is_normalization: False</li>\n",
       "\n",
       "<li>delta: 0.1</li>\n",
       "\n",
       "<li>free: True</li>\n",
       "\n",
       "</ul>\n",
       "\n",
       "</li>\n",
       "\n",
       "<li>lower_bound: \n",
       "<ul>\n",
       "\n",
       "<li>value: -1.0</li>\n",
       "\n",
       "<li>desc: lower bound of gaussian, setting to -np.inf results in half normal distribution</li>\n",
       "\n",
       "<li>min_value: None</li>\n",
       "\n",
       "<li>max_value: None</li>\n",
       "\n",
       "<li>unit: </li>\n",
       "\n",
       "<li>is_normalization: False</li>\n",
       "\n",
       "<li>delta: 0.1</li>\n",
       "\n",
       "<li>free: True</li>\n",
       "\n",
       "</ul>\n",
       "\n",
       "</li>\n",
       "\n",
       "<li>upper_bound: \n",
       "<ul>\n",
       "\n",
       "<li>value: 1.0</li>\n",
       "\n",
       "<li>desc: upper bound of gaussian  setting to np.inf results in half normal distribution</li>\n",
       "\n",
       "<li>min_value: None</li>\n",
       "\n",
       "<li>max_value: None</li>\n",
       "\n",
       "<li>unit: </li>\n",
       "\n",
       "<li>is_normalization: False</li>\n",
       "\n",
       "<li>delta: 0.1</li>\n",
       "\n",
       "<li>free: True</li>\n",
       "\n",
       "</ul>\n",
       "\n",
       "</li>\n",
       "\n",
       "</ul>\n",
       "\n",
       "</li>\n",
       "\n",
       "</ul>\n"
      ],
      "text/plain": [
       "  * description: A  truncated Gaussian function defined on the interval between the lower_bound\n",
       "    * (a) and upper_bound (b)\n",
       "  * formula: $\\begin{split}f(x;\\mu,\\sigma,a,b)=\\frac{\\frac{1}{\\sigma} \\phi\\left( \\frac{x-\\mu}{\\sigma}\n",
       "    * \\right)}{\\Phi\\left( \\frac{b-\\mu}{\\sigma} \\right) - \\Phi\\left( \\frac{a-\\mu}{\\sigma}\n",
       "    * \\right)}\\\\\\phi\\left(z\\right)=\\frac{1}{\\sqrt{2 \\pi}}\\exp\\left(-\\frac{1}{2}z^2\\right)\\\\\\Phi\\left(z\\right)=\\frac{1}{2}\\left(1+erf\\left(\\frac{z}{\\sqrt(2)}\\right)\\right)\\end{split}$\n",
       "  * parameters:\n",
       "    * F:\n",
       "      * value: 1.0\n",
       "      * desc: Integral between -inf and +inf. Fix this to 1 to obtain a Normal distribution\n",
       "      * min_value: null\n",
       "      * max_value: null\n",
       "      * unit: ''\n",
       "      * is_normalization: false\n",
       "      * delta: 0.1\n",
       "      * free: true\n",
       "    * mu:\n",
       "      * value: 0.0\n",
       "      * desc: Central value\n",
       "      * min_value: null\n",
       "      * max_value: null\n",
       "      * unit: ''\n",
       "      * is_normalization: false\n",
       "      * delta: 0.1\n",
       "      * free: true\n",
       "    * sigma:\n",
       "      * value: 1.0\n",
       "      * desc: standard deviation\n",
       "      * min_value: 1.0e-12\n",
       "      * max_value: null\n",
       "      * unit: ''\n",
       "      * is_normalization: false\n",
       "      * delta: 0.1\n",
       "      * free: true\n",
       "    * lower_bound:\n",
       "      * value: -1.0\n",
       "      * desc: lower bound of gaussian, setting to -np.inf results in half normal distribution\n",
       "      * min_value: null\n",
       "      * max_value: null\n",
       "      * unit: ''\n",
       "      * is_normalization: false\n",
       "      * delta: 0.1\n",
       "      * free: true\n",
       "    * upper_bound:\n",
       "      * value: 1.0\n",
       "      * desc: upper bound of gaussian  setting to np.inf results in half normal distribution\n",
       "      * min_value: null\n",
       "      * max_value: null\n",
       "      * unit: ''\n",
       "      * is_normalization: false\n",
       "      * delta: 0.1\n",
       "      * free: true"
      ]
     },
     "metadata": {},
     "output_type": "display_data"
    }
   ],
   "source": [
    "func.display()"
   ]
  },
  {
   "cell_type": "markdown",
   "id": "115acaa3",
   "metadata": {
    "papermill": {
     "duration": 0.00308,
     "end_time": "2022-09-27T12:55:36.514876",
     "exception": false,
     "start_time": "2022-09-27T12:55:36.511796",
     "status": "completed"
    },
    "tags": []
   },
   "source": [
    "## Shape \n",
    "\n",
    "The shape of the function. \n",
    "\n",
    "*If this is not a photon model but a prior or linear function then ignore the units as these docs are auto-generated*"
   ]
  },
  {
   "cell_type": "code",
   "execution_count": 6,
   "id": "93463639",
   "metadata": {
    "execution": {
     "iopub.execute_input": "2022-09-27T12:55:36.522876Z",
     "iopub.status.busy": "2022-09-27T12:55:36.522478Z",
     "iopub.status.idle": "2022-09-27T12:55:36.890134Z",
     "shell.execute_reply": "2022-09-27T12:55:36.888885Z"
    },
    "papermill": {
     "duration": 0.375522,
     "end_time": "2022-09-27T12:55:36.893364",
     "exception": false,
     "start_time": "2022-09-27T12:55:36.517842",
     "status": "completed"
    },
    "tags": [
     "nbsphinx-thumbnail"
    ]
   },
   "outputs": [
    {
     "data": {
      "text/plain": [
       "Text(0, 0.5, 'probability')"
      ]
     },
     "execution_count": 6,
     "metadata": {},
     "output_type": "execute_result"
    },
    {
     "data": {
      "image/png": "[encoded data removed]",
      "text/plain": [
       "<Figure size 1040x910 with 1 Axes>"
      ]
     },
     "metadata": {},
     "output_type": "display_data"
    }
   ],
   "source": [
    "fig, ax = plt.subplots()\n",
    "\n",
    "\n",
    "ax.plot(energy_grid, func(energy_grid), color=blue, lw=3)\n",
    "\n",
    "ax.set_xlabel(\"x\")\n",
    "ax.set_ylabel(\"probability\")\n"
   ]
  },
  {
   "cell_type": "markdown",
   "id": "850ea280",
   "metadata": {
    "papermill": {
     "duration": 0.004157,
     "end_time": "2022-09-27T12:55:36.901516",
     "exception": false,
     "start_time": "2022-09-27T12:55:36.897359",
     "status": "completed"
    },
    "tags": []
   },
   "source": [
    "## Random Number Generation\n",
    "\n",
    "This is how we can generate random numbers from the prior.\n"
   ]
  },
  {
   "cell_type": "code",
   "execution_count": 7,
   "id": "dcbc97c2",
   "metadata": {
    "execution": {
     "iopub.execute_input": "2022-09-27T12:55:36.910372Z",
     "iopub.status.busy": "2022-09-27T12:55:36.909941Z",
     "iopub.status.idle": "2022-09-27T12:55:37.522968Z",
     "shell.execute_reply": "2022-09-27T12:55:37.521926Z"
    },
    "papermill": {
     "duration": 0.621445,
     "end_time": "2022-09-27T12:55:37.526390",
     "exception": false,
     "start_time": "2022-09-27T12:55:36.904945",
     "status": "completed"
    },
    "tags": []
   },
   "outputs": [
    {
     "data": {
      "text/plain": [
       "Text(0, 0.5, 'N')"
      ]
     },
     "execution_count": 7,
     "metadata": {},
     "output_type": "execute_result"
    },
    {
     "data": {
      "image/png": "[encoded data removed]",
      "text/plain": [
       "<Figure size 1040x910 with 1 Axes>"
      ]
     },
     "metadata": {},
     "output_type": "display_data"
    }
   ],
   "source": [
    "\n",
    "\n",
    "u = np.random.uniform(0,1, size=5000)\n",
    "\n",
    "draws = [func.from_unit_cube(x) for x in u]\n",
    "\n",
    "\n",
    "fig, ax = plt.subplots()\n",
    "\n",
    "\n",
    "ax.hist(draws, color=green, bins=50)\n",
    "\n",
    "ax.set_xlabel(\"value\")\n",
    "ax.set_ylabel(\"N\")\n",
    "\n"
   ]
  }
 ],
 "metadata": {
  "jupytext": {
   "formats": "ipynb,md"
  },
  "kernelspec": {
   "display_name": "Python 3 (ipykernel)",
   "language": "python",
   "name": "python3"
  },
  "language_info": {
   "codemirror_mode": {
    "name": "ipython",
    "version": 3
   },
   "file_extension": ".py",
   "mimetype": "text/x-python",
   "name": "python",
   "nbconvert_exporter": "python",
   "pygments_lexer": "ipython3",
   "version": "3.9.14"
  },
  "papermill": {
   "default_parameters": {},
   "duration": 6.627701,
   "end_time": "2022-09-27T12:55:38.176224",
   "environment_variables": {},
   "exception": null,
   "input_path": "Truncated_gaussian.ipynb",
   "output_path": "/Users/runner/work/astromodels/astromodels/docs/notebooks/Truncated_gaussian.ipynb",
   "parameters": {
    "func_name": "Truncated_gaussian",
    "positive_prior": false
   },
   "start_time": "2022-09-27T12:55:31.548523",
   "version": "2.4.0"
  }
 },
 "nbformat": 4,
 "nbformat_minor": 5
}
