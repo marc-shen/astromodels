{
 "cells": [
  {
   "cell_type": "markdown",
   "id": "02db4e6f",
   "metadata": {
    "papermill": {
     "duration": 0.008653,
     "end_time": "2025-04-29T23:20:36.031957",
     "exception": false,
     "start_time": "2025-04-29T23:20:36.023304",
     "status": "completed"
    },
    "tags": []
   },
   "source": [
    "# Truncated gaussian"
   ]
  },
  {
   "cell_type": "code",
   "execution_count": 1,
   "id": "57681115",
   "metadata": {
    "execution": {
     "iopub.execute_input": "2025-04-29T23:20:36.048896Z",
     "iopub.status.busy": "2025-04-29T23:20:36.047854Z",
     "iopub.status.idle": "2025-04-29T23:20:38.010697Z",
     "shell.execute_reply": "2025-04-29T23:20:38.009863Z"
    },
    "nbsphinx": "hidden",
    "papermill": {
     "duration": 1.974797,
     "end_time": "2025-04-29T23:20:38.012482",
     "exception": false,
     "start_time": "2025-04-29T23:20:36.037685",
     "status": "completed"
    },
    "tags": []
   },
   "outputs": [],
   "source": [
    "%%capture\n",
    "\n",
    "import numpy as np\n",
    "\n",
    "import matplotlib.pyplot as plt\n",
    "\n",
    "import warnings\n",
    "warnings.simplefilter(\"ignore\")\n",
    "\n",
    "from astromodels.functions.function import _known_functions\n",
    "\n",
    "\n",
    "from jupyterthemes import jtplot\n",
    "jtplot.style(context=\"talk\", fscale=1, ticks=True, grid=False)\n",
    "%matplotlib inline"
   ]
  },
  {
   "cell_type": "code",
   "execution_count": 2,
   "id": "72fe1cd4",
   "metadata": {
    "execution": {
     "iopub.execute_input": "2025-04-29T23:20:38.016445Z",
     "iopub.status.busy": "2025-04-29T23:20:38.016038Z",
     "iopub.status.idle": "2025-04-29T23:20:38.022268Z",
     "shell.execute_reply": "2025-04-29T23:20:38.021729Z"
    },
    "nbsphinx": "hidden",
    "papermill": {
     "duration": 0.010421,
     "end_time": "2025-04-29T23:20:38.024370",
     "exception": false,
     "start_time": "2025-04-29T23:20:38.013949",
     "status": "completed"
    },
    "tags": [
     "parameters"
    ]
   },
   "outputs": [],
   "source": [
    "func_name = \"TbAbs\"\n",
    "\n",
    "positive_prior = False\n"
   ]
  },
  {
   "cell_type": "code",
   "execution_count": 3,
   "id": "4feb7a18",
   "metadata": {
    "execution": {
     "iopub.execute_input": "2025-04-29T23:20:38.028512Z",
     "iopub.status.busy": "2025-04-29T23:20:38.028281Z",
     "iopub.status.idle": "2025-04-29T23:20:38.031015Z",
     "shell.execute_reply": "2025-04-29T23:20:38.030503Z"
    },
    "papermill": {
     "duration": 0.007083,
     "end_time": "2025-04-29T23:20:38.033122",
     "exception": false,
     "start_time": "2025-04-29T23:20:38.026039",
     "status": "completed"
    },
    "tags": [
     "injected-parameters"
    ]
   },
   "outputs": [],
   "source": [
    "# Parameters\n",
    "func_name = \"Truncated_gaussian\"\n",
    "positive_prior = False\n"
   ]
  },
  {
   "cell_type": "code",
   "execution_count": 4,
   "id": "6fdd7a91",
   "metadata": {
    "execution": {
     "iopub.execute_input": "2025-04-29T23:20:38.036973Z",
     "iopub.status.busy": "2025-04-29T23:20:38.036751Z",
     "iopub.status.idle": "2025-04-29T23:20:38.046780Z",
     "shell.execute_reply": "2025-04-29T23:20:38.046157Z"
    },
    "lines_to_next_cell": 0,
    "nbsphinx": "hidden",
    "papermill": {
     "duration": 0.013836,
     "end_time": "2025-04-29T23:20:38.048488",
     "exception": false,
     "start_time": "2025-04-29T23:20:38.034652",
     "status": "completed"
    },
    "tags": []
   },
   "outputs": [],
   "source": [
    "func = _known_functions[func_name]()\n",
    "\n",
    "if not positive_prior:\n",
    "\n",
    "\tenergy_grid = np.linspace(-5,5,1000)\n",
    "\n",
    "else:\n",
    "    \n",
    "    energy_grid = np.linspace(0,1,1000)\n",
    "    \n",
    "    \n",
    "    \n",
    "    \n",
    "blue = \"#4152E3\"\n",
    "red = \"#E3414B\"\n",
    "green = \"#41E39E\""
   ]
  },
  {
   "cell_type": "markdown",
   "id": "d6daf8b1",
   "metadata": {
    "lines_to_next_cell": 0,
    "papermill": {
     "duration": 0.001149,
     "end_time": "2025-04-29T23:20:38.051032",
     "exception": false,
     "start_time": "2025-04-29T23:20:38.049883",
     "status": "completed"
    },
    "tags": []
   },
   "source": [
    "## Description"
   ]
  },
  {
   "cell_type": "code",
   "execution_count": 5,
   "id": "0b5b53c6",
   "metadata": {
    "execution": {
     "iopub.execute_input": "2025-04-29T23:20:38.054443Z",
     "iopub.status.busy": "2025-04-29T23:20:38.054206Z",
     "iopub.status.idle": "2025-04-29T23:20:38.061212Z",
     "shell.execute_reply": "2025-04-29T23:20:38.060477Z"
    },
    "papermill": {
     "duration": 0.011391,
     "end_time": "2025-04-29T23:20:38.063537",
     "exception": false,
     "start_time": "2025-04-29T23:20:38.052146",
     "status": "completed"
    },
    "tags": []
   },
   "outputs": [
    {
     "data": {
      "text/html": [
       "<ul>\n",
       "\n",
       "<li>description: A  truncated Gaussian function defined on the interval between the lower_bound (a) and upper_bound (b)</li>\n",
       "\n",
       "<li>formula: $\\begin{split}f(x;\\mu,\\sigma,a,b)=\\frac{\\frac{1}{\\sigma} \\phi\\left( \\frac{x-\\mu}{\\sigma} \\right)}{\\Phi\\left( \\frac{b-\\mu}{\\sigma} \\right) - \\Phi\\left( \\frac{a-\\mu}{\\sigma} \\right)}\\\\\\phi\\left(z\\right)=\\frac{1}{\\sqrt{2 \\pi}}\\exp\\left(-\\frac{1}{2}z^2\\right)\\\\\\Phi\\left(z\\right)=\\frac{1}{2}\\left(1+erf\\left(\\frac{z}{\\sqrt(2)}\\right)\\right)\\end{split}$</li>\n",
       "\n",
       "<li>parameters: \n",
       "<ul>\n",
       "\n",
       "<li>F: \n",
       "<ul>\n",
       "\n",
       "<li>value: 1.0</li>\n",
       "\n",
       "<li>desc: Integral between -inf and +inf. Fix this to 1 to obtain a Normal distribution</li>\n",
       "\n",
       "<li>min_value: None</li>\n",
       "\n",
       "<li>max_value: None</li>\n",
       "\n",
       "<li>unit: </li>\n",
       "\n",
       "<li>is_normalization: False</li>\n",
       "\n",
       "<li>delta: 0.1</li>\n",
       "\n",
       "<li>free: True</li>\n",
       "\n",
       "</ul>\n",
       "\n",
       "</li>\n",
       "\n",
       "<li>mu: \n",
       "<ul>\n",
       "\n",
       "<li>value: 0.0</li>\n",
       "\n",
       "<li>desc: Central value</li>\n",
       "\n",
       "<li>min_value: None</li>\n",
       "\n",
       "<li>max_value: None</li>\n",
       "\n",
       "<li>unit: </li>\n",
       "\n",
       "<li>is_normalization: False</li>\n",
       "\n",
       "<li>delta: 0.1</li>\n",
       "\n",
       "<li>free: True</li>\n",
       "\n",
       "</ul>\n",
       "\n",
       "</li>\n",
       "\n",
       "<li>sigma: \n",
       "<ul>\n",
       "\n",
       "<li>value: 1.0</li>\n",
       "\n",
       "<li>desc: standard deviation</li>\n",
       "\n",
       "<li>min_value: 1e-12</li>\n",
       "\n",
       "<li>max_value: None</li>\n",
       "\n",
       "<li>unit: </li>\n",
       "\n",
       "<li>is_normalization: False</li>\n",
       "\n",
       "<li>delta: 0.1</li>\n",
       "\n",
       "<li>free: True</li>\n",
       "\n",
       "</ul>\n",
       "\n",
       "</li>\n",
       "\n",
       "<li>lower_bound: \n",
       "<ul>\n",
       "\n",
       "<li>value: -1.0</li>\n",
       "\n",
       "<li>desc: lower bound of gaussian, setting to -np.inf results in half normal distribution</li>\n",
       "\n",
       "<li>min_value: None</li>\n",
       "\n",
       "<li>max_value: None</li>\n",
       "\n",
       "<li>unit: </li>\n",
       "\n",
       "<li>is_normalization: False</li>\n",
       "\n",
       "<li>delta: 0.1</li>\n",
       "\n",
       "<li>free: True</li>\n",
       "\n",
       "</ul>\n",
       "\n",
       "</li>\n",
       "\n",
       "<li>upper_bound: \n",
       "<ul>\n",
       "\n",
       "<li>value: 1.0</li>\n",
       "\n",
       "<li>desc: upper bound of gaussian  setting to np.inf results in half normal distribution</li>\n",
       "\n",
       "<li>min_value: None</li>\n",
       "\n",
       "<li>max_value: None</li>\n",
       "\n",
       "<li>unit: </li>\n",
       "\n",
       "<li>is_normalization: False</li>\n",
       "\n",
       "<li>delta: 0.1</li>\n",
       "\n",
       "<li>free: True</li>\n",
       "\n",
       "</ul>\n",
       "\n",
       "</li>\n",
       "\n",
       "</ul>\n",
       "\n",
       "</li>\n",
       "\n",
       "</ul>\n"
      ],
      "text/plain": [
       "  * description: A  truncated Gaussian function defined on the interval between the lower_bound\n",
       "    * (a) and upper_bound (b)\n",
       "  * formula: $\\begin{split}f(x;\\mu,\\sigma,a,b)=\\frac{\\frac{1}{\\sigma} \\phi\\left( \\frac{x-\\mu}{\\sigma}\n",
       "    * \\right)}{\\Phi\\left( \\frac{b-\\mu}{\\sigma} \\right) - \\Phi\\left( \\frac{a-\\mu}{\\sigma}\n",
       "    * \\right)}\\\\\\phi\\left(z\\right)=\\frac{1}{\\sqrt{2 \\pi}}\\exp\\left(-\\frac{1}{2}z^2\\right)\\\\\\Phi\\left(z\\right)=\\frac{1}{2}\\left(1+erf\\left(\\frac{z}{\\sqrt(2)}\\right)\\right)\\end{split}$\n",
       "  * parameters:\n",
       "    * F:\n",
       "      * value: 1.0\n",
       "      * desc: Integral between -inf and +inf. Fix this to 1 to obtain a Normal distribution\n",
       "      * min_value: null\n",
       "      * max_value: null\n",
       "      * unit: ''\n",
       "      * is_normalization: false\n",
       "      * delta: 0.1\n",
       "      * free: true\n",
       "    * mu:\n",
       "      * value: 0.0\n",
       "      * desc: Central value\n",
       "      * min_value: null\n",
       "      * max_value: null\n",
       "      * unit: ''\n",
       "      * is_normalization: false\n",
       "      * delta: 0.1\n",
       "      * free: true\n",
       "    * sigma:\n",
       "      * value: 1.0\n",
       "      * desc: standard deviation\n",
       "      * min_value: 1.0e-12\n",
       "      * max_value: null\n",
       "      * unit: ''\n",
       "      * is_normalization: false\n",
       "      * delta: 0.1\n",
       "      * free: true\n",
       "    * lower_bound:\n",
       "      * value: -1.0\n",
       "      * desc: lower bound of gaussian, setting to -np.inf results in half normal distribution\n",
       "      * min_value: null\n",
       "      * max_value: null\n",
       "      * unit: ''\n",
       "      * is_normalization: false\n",
       "      * delta: 0.1\n",
       "      * free: true\n",
       "    * upper_bound:\n",
       "      * value: 1.0\n",
       "      * desc: upper bound of gaussian  setting to np.inf results in half normal distribution\n",
       "      * min_value: null\n",
       "      * max_value: null\n",
       "      * unit: ''\n",
       "      * is_normalization: false\n",
       "      * delta: 0.1\n",
       "      * free: true"
      ]
     },
     "metadata": {},
     "output_type": "display_data"
    }
   ],
   "source": [
    "func.display()"
   ]
  },
  {
   "cell_type": "markdown",
   "id": "6d1ce5db",
   "metadata": {
    "papermill": {
     "duration": 0.001485,
     "end_time": "2025-04-29T23:20:38.066619",
     "exception": false,
     "start_time": "2025-04-29T23:20:38.065134",
     "status": "completed"
    },
    "tags": []
   },
   "source": [
    "## Shape \n",
    "\n",
    "The shape of the function. \n",
    "\n",
    "*If this is not a photon model but a prior or linear function then ignore the units as these docs are auto-generated*"
   ]
  },
  {
   "cell_type": "code",
   "execution_count": 6,
   "id": "f22e2082",
   "metadata": {
    "execution": {
     "iopub.execute_input": "2025-04-29T23:20:38.070535Z",
     "iopub.status.busy": "2025-04-29T23:20:38.070309Z",
     "iopub.status.idle": "2025-04-29T23:20:38.209186Z",
     "shell.execute_reply": "2025-04-29T23:20:38.207941Z"
    },
    "papermill": {
     "duration": 0.142823,
     "end_time": "2025-04-29T23:20:38.210824",
     "exception": false,
     "start_time": "2025-04-29T23:20:38.068001",
     "status": "completed"
    },
    "tags": [
     "nbsphinx-thumbnail"
    ]
   },
   "outputs": [
    {
     "data": {
      "text/plain": [
       "Text(0, 0.5, 'probability')"
      ]
     },
     "execution_count": 6,
     "metadata": {},
     "output_type": "execute_result"
    },
    {
     "data": {
      "image/png": "[encoded data removed]",
      "text/plain": [
       "<Figure size 1040x910 with 1 Axes>"
      ]
     },
     "metadata": {},
     "output_type": "display_data"
    }
   ],
   "source": [
    "fig, ax = plt.subplots()\n",
    "\n",
    "\n",
    "ax.plot(energy_grid, func(energy_grid), color=blue, lw=3)\n",
    "\n",
    "ax.set_xlabel(\"x\")\n",
    "ax.set_ylabel(\"probability\")\n"
   ]
  },
  {
   "cell_type": "markdown",
   "id": "e4779e63",
   "metadata": {
    "papermill": {
     "duration": 0.008111,
     "end_time": "2025-04-29T23:20:38.220856",
     "exception": false,
     "start_time": "2025-04-29T23:20:38.212745",
     "status": "completed"
    },
    "tags": []
   },
   "source": [
    "## Random Number Generation\n",
    "\n",
    "This is how we can generate random numbers from the prior.\n"
   ]
  },
  {
   "cell_type": "code",
   "execution_count": 7,
   "id": "3ebf42f9",
   "metadata": {
    "execution": {
     "iopub.execute_input": "2025-04-29T23:20:38.226960Z",
     "iopub.status.busy": "2025-04-29T23:20:38.226442Z",
     "iopub.status.idle": "2025-04-29T23:20:38.468128Z",
     "shell.execute_reply": "2025-04-29T23:20:38.467573Z"
    },
    "papermill": {
     "duration": 0.246601,
     "end_time": "2025-04-29T23:20:38.469673",
     "exception": false,
     "start_time": "2025-04-29T23:20:38.223072",
     "status": "completed"
    },
    "tags": []
   },
   "outputs": [
    {
     "data": {
      "text/plain": [
       "Text(0, 0.5, 'N')"
      ]
     },
     "execution_count": 7,
     "metadata": {},
     "output_type": "execute_result"
    },
    {
     "data": {
      "image/png": "[encoded data removed]",
      "text/plain": [
       "<Figure size 1040x910 with 1 Axes>"
      ]
     },
     "metadata": {},
     "output_type": "display_data"
    }
   ],
   "source": [
    "\n",
    "\n",
    "u = np.random.uniform(0,1, size=5000)\n",
    "\n",
    "draws = [func.from_unit_cube(x) for x in u]\n",
    "\n",
    "\n",
    "fig, ax = plt.subplots()\n",
    "\n",
    "\n",
    "ax.hist(draws, color=green, bins=50)\n",
    "\n",
    "ax.set_xlabel(\"value\")\n",
    "ax.set_ylabel(\"N\")\n",
    "\n"
   ]
  }
 ],
 "metadata": {
  "jupytext": {
   "formats": "ipynb,md"
  },
  "kernelspec": {
   "display_name": "Python 3 (ipykernel)",
   "language": "python",
   "name": "python3"
  },
  "language_info": {
   "codemirror_mode": {
    "name": "ipython",
    "version": 3
   },
   "file_extension": ".py",
   "mimetype": "text/x-python",
   "name": "python",
   "nbconvert_exporter": "python",
   "pygments_lexer": "ipython3",
   "version": "3.9.13"
  },
  "papermill": {
   "default_parameters": {},
   "duration": 6.533906,
   "end_time": "2025-04-29T23:20:41.867080",
   "environment_variables": {},
   "exception": null,
   "input_path": "Truncated_gaussian.ipynb",
   "output_path": "/Users/runner/work/astromodels/astromodels/docs/notebooks/Truncated_gaussian.ipynb",
   "parameters": {
    "func_name": "Truncated_gaussian",
    "positive_prior": false
   },
   "start_time": "2025-04-29T23:20:35.333174",
   "version": "2.6.0"
  }
 },
 "nbformat": 4,
 "nbformat_minor": 5
}
