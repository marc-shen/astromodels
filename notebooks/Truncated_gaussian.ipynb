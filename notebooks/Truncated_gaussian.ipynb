{
 "cells": [
  {
   "cell_type": "markdown",
   "id": "62a6f7d1",
   "metadata": {
    "papermill": {
     "duration": 0.010692,
     "end_time": "2024-09-10T14:37:19.206075",
     "exception": false,
     "start_time": "2024-09-10T14:37:19.195383",
     "status": "completed"
    },
    "tags": []
   },
   "source": [
    "# Truncated gaussian"
   ]
  },
  {
   "cell_type": "code",
   "execution_count": 1,
   "id": "c5561f50",
   "metadata": {
    "execution": {
     "iopub.execute_input": "2024-09-10T14:37:19.220117Z",
     "iopub.status.busy": "2024-09-10T14:37:19.219475Z",
     "iopub.status.idle": "2024-09-10T14:37:20.629709Z",
     "shell.execute_reply": "2024-09-10T14:37:20.629188Z"
    },
    "nbsphinx": "hidden",
    "papermill": {
     "duration": 1.418051,
     "end_time": "2024-09-10T14:37:20.631171",
     "exception": false,
     "start_time": "2024-09-10T14:37:19.213120",
     "status": "completed"
    },
    "tags": []
   },
   "outputs": [],
   "source": [
    "%%capture\n",
    "\n",
    "import numpy as np\n",
    "\n",
    "import matplotlib.pyplot as plt\n",
    "\n",
    "import warnings\n",
    "warnings.simplefilter(\"ignore\")\n",
    "\n",
    "from astromodels.functions.function import _known_functions\n",
    "\n",
    "\n",
    "from jupyterthemes import jtplot\n",
    "jtplot.style(context=\"talk\", fscale=1, ticks=True, grid=False)\n",
    "%matplotlib inline"
   ]
  },
  {
   "cell_type": "code",
   "execution_count": 2,
   "id": "bfbe0455",
   "metadata": {
    "execution": {
     "iopub.execute_input": "2024-09-10T14:37:20.634270Z",
     "iopub.status.busy": "2024-09-10T14:37:20.633960Z",
     "iopub.status.idle": "2024-09-10T14:37:20.642433Z",
     "shell.execute_reply": "2024-09-10T14:37:20.642001Z"
    },
    "nbsphinx": "hidden",
    "papermill": {
     "duration": 0.01132,
     "end_time": "2024-09-10T14:37:20.643684",
     "exception": false,
     "start_time": "2024-09-10T14:37:20.632364",
     "status": "completed"
    },
    "tags": [
     "parameters"
    ]
   },
   "outputs": [],
   "source": [
    "func_name = \"TbAbs\"\n",
    "\n",
    "positive_prior = False\n"
   ]
  },
  {
   "cell_type": "code",
   "execution_count": 3,
   "id": "a5ffa9cd",
   "metadata": {
    "execution": {
     "iopub.execute_input": "2024-09-10T14:37:20.646417Z",
     "iopub.status.busy": "2024-09-10T14:37:20.646271Z",
     "iopub.status.idle": "2024-09-10T14:37:20.654201Z",
     "shell.execute_reply": "2024-09-10T14:37:20.653825Z"
    },
    "papermill": {
     "duration": 0.010767,
     "end_time": "2024-09-10T14:37:20.655498",
     "exception": false,
     "start_time": "2024-09-10T14:37:20.644731",
     "status": "completed"
    },
    "tags": [
     "injected-parameters"
    ]
   },
   "outputs": [],
   "source": [
    "# Parameters\n",
    "func_name = \"Truncated_gaussian\"\n",
    "positive_prior = False\n"
   ]
  },
  {
   "cell_type": "code",
   "execution_count": 4,
   "id": "24cadb52",
   "metadata": {
    "execution": {
     "iopub.execute_input": "2024-09-10T14:37:20.658136Z",
     "iopub.status.busy": "2024-09-10T14:37:20.657997Z",
     "iopub.status.idle": "2024-09-10T14:37:20.667076Z",
     "shell.execute_reply": "2024-09-10T14:37:20.666692Z"
    },
    "lines_to_next_cell": 0,
    "nbsphinx": "hidden",
    "papermill": {
     "duration": 0.011755,
     "end_time": "2024-09-10T14:37:20.668273",
     "exception": false,
     "start_time": "2024-09-10T14:37:20.656518",
     "status": "completed"
    },
    "tags": []
   },
   "outputs": [],
   "source": [
    "func = _known_functions[func_name]()\n",
    "\n",
    "if not positive_prior:\n",
    "\n",
    "\tenergy_grid = np.linspace(-5,5,1000)\n",
    "\n",
    "else:\n",
    "    \n",
    "    energy_grid = np.linspace(0,1,1000)\n",
    "    \n",
    "    \n",
    "    \n",
    "    \n",
    "blue = \"#4152E3\"\n",
    "red = \"#E3414B\"\n",
    "green = \"#41E39E\""
   ]
  },
  {
   "cell_type": "markdown",
   "id": "c5f02fc9",
   "metadata": {
    "lines_to_next_cell": 0,
    "papermill": {
     "duration": 0.001153,
     "end_time": "2024-09-10T14:37:20.670622",
     "exception": false,
     "start_time": "2024-09-10T14:37:20.669469",
     "status": "completed"
    },
    "tags": []
   },
   "source": [
    "## Description"
   ]
  },
  {
   "cell_type": "code",
   "execution_count": 5,
   "id": "7d3ed145",
   "metadata": {
    "execution": {
     "iopub.execute_input": "2024-09-10T14:37:20.673507Z",
     "iopub.status.busy": "2024-09-10T14:37:20.673368Z",
     "iopub.status.idle": "2024-09-10T14:37:20.678049Z",
     "shell.execute_reply": "2024-09-10T14:37:20.677712Z"
    },
    "papermill": {
     "duration": 0.007634,
     "end_time": "2024-09-10T14:37:20.679395",
     "exception": false,
     "start_time": "2024-09-10T14:37:20.671761",
     "status": "completed"
    },
    "tags": []
   },
   "outputs": [
    {
     "data": {
      "text/html": [
       "<ul>\n",
       "\n",
       "<li>description: A  truncated Gaussian function defined on the interval between the lower_bound (a) and upper_bound (b)</li>\n",
       "\n",
       "<li>formula: $\\begin{split}f(x;\\mu,\\sigma,a,b)=\\frac{\\frac{1}{\\sigma} \\phi\\left( \\frac{x-\\mu}{\\sigma} \\right)}{\\Phi\\left( \\frac{b-\\mu}{\\sigma} \\right) - \\Phi\\left( \\frac{a-\\mu}{\\sigma} \\right)}\\\\\\phi\\left(z\\right)=\\frac{1}{\\sqrt{2 \\pi}}\\exp\\left(-\\frac{1}{2}z^2\\right)\\\\\\Phi\\left(z\\right)=\\frac{1}{2}\\left(1+erf\\left(\\frac{z}{\\sqrt(2)}\\right)\\right)\\end{split}$</li>\n",
       "\n",
       "<li>parameters: \n",
       "<ul>\n",
       "\n",
       "<li>F: \n",
       "<ul>\n",
       "\n",
       "<li>value: 1.0</li>\n",
       "\n",
       "<li>desc: Integral between -inf and +inf. Fix this to 1 to obtain a Normal distribution</li>\n",
       "\n",
       "<li>min_value: None</li>\n",
       "\n",
       "<li>max_value: None</li>\n",
       "\n",
       "<li>unit: </li>\n",
       "\n",
       "<li>is_normalization: False</li>\n",
       "\n",
       "<li>delta: 0.1</li>\n",
       "\n",
       "<li>free: True</li>\n",
       "\n",
       "</ul>\n",
       "\n",
       "</li>\n",
       "\n",
       "<li>mu: \n",
       "<ul>\n",
       "\n",
       "<li>value: 0.0</li>\n",
       "\n",
       "<li>desc: Central value</li>\n",
       "\n",
       "<li>min_value: None</li>\n",
       "\n",
       "<li>max_value: None</li>\n",
       "\n",
       "<li>unit: </li>\n",
       "\n",
       "<li>is_normalization: False</li>\n",
       "\n",
       "<li>delta: 0.1</li>\n",
       "\n",
       "<li>free: True</li>\n",
       "\n",
       "</ul>\n",
       "\n",
       "</li>\n",
       "\n",
       "<li>sigma: \n",
       "<ul>\n",
       "\n",
       "<li>value: 1.0</li>\n",
       "\n",
       "<li>desc: standard deviation</li>\n",
       "\n",
       "<li>min_value: 1e-12</li>\n",
       "\n",
       "<li>max_value: None</li>\n",
       "\n",
       "<li>unit: </li>\n",
       "\n",
       "<li>is_normalization: False</li>\n",
       "\n",
       "<li>delta: 0.1</li>\n",
       "\n",
       "<li>free: True</li>\n",
       "\n",
       "</ul>\n",
       "\n",
       "</li>\n",
       "\n",
       "<li>lower_bound: \n",
       "<ul>\n",
       "\n",
       "<li>value: -1.0</li>\n",
       "\n",
       "<li>desc: lower bound of gaussian, setting to -np.inf results in half normal distribution</li>\n",
       "\n",
       "<li>min_value: None</li>\n",
       "\n",
       "<li>max_value: None</li>\n",
       "\n",
       "<li>unit: </li>\n",
       "\n",
       "<li>is_normalization: False</li>\n",
       "\n",
       "<li>delta: 0.1</li>\n",
       "\n",
       "<li>free: True</li>\n",
       "\n",
       "</ul>\n",
       "\n",
       "</li>\n",
       "\n",
       "<li>upper_bound: \n",
       "<ul>\n",
       "\n",
       "<li>value: 1.0</li>\n",
       "\n",
       "<li>desc: upper bound of gaussian  setting to np.inf results in half normal distribution</li>\n",
       "\n",
       "<li>min_value: None</li>\n",
       "\n",
       "<li>max_value: None</li>\n",
       "\n",
       "<li>unit: </li>\n",
       "\n",
       "<li>is_normalization: False</li>\n",
       "\n",
       "<li>delta: 0.1</li>\n",
       "\n",
       "<li>free: True</li>\n",
       "\n",
       "</ul>\n",
       "\n",
       "</li>\n",
       "\n",
       "</ul>\n",
       "\n",
       "</li>\n",
       "\n",
       "</ul>\n"
      ],
      "text/plain": [
       "  * description: A  truncated Gaussian function defined on the interval between the lower_bound\n",
       "    * (a) and upper_bound (b)\n",
       "  * formula: $\\begin{split}f(x;\\mu,\\sigma,a,b)=\\frac{\\frac{1}{\\sigma} \\phi\\left( \\frac{x-\\mu}{\\sigma}\n",
       "    * \\right)}{\\Phi\\left( \\frac{b-\\mu}{\\sigma} \\right) - \\Phi\\left( \\frac{a-\\mu}{\\sigma}\n",
       "    * \\right)}\\\\\\phi\\left(z\\right)=\\frac{1}{\\sqrt{2 \\pi}}\\exp\\left(-\\frac{1}{2}z^2\\right)\\\\\\Phi\\left(z\\right)=\\frac{1}{2}\\left(1+erf\\left(\\frac{z}{\\sqrt(2)}\\right)\\right)\\end{split}$\n",
       "  * parameters:\n",
       "    * F:\n",
       "      * value: 1.0\n",
       "      * desc: Integral between -inf and +inf. Fix this to 1 to obtain a Normal distribution\n",
       "      * min_value: null\n",
       "      * max_value: null\n",
       "      * unit: ''\n",
       "      * is_normalization: false\n",
       "      * delta: 0.1\n",
       "      * free: true\n",
       "    * mu:\n",
       "      * value: 0.0\n",
       "      * desc: Central value\n",
       "      * min_value: null\n",
       "      * max_value: null\n",
       "      * unit: ''\n",
       "      * is_normalization: false\n",
       "      * delta: 0.1\n",
       "      * free: true\n",
       "    * sigma:\n",
       "      * value: 1.0\n",
       "      * desc: standard deviation\n",
       "      * min_value: 1.0e-12\n",
       "      * max_value: null\n",
       "      * unit: ''\n",
       "      * is_normalization: false\n",
       "      * delta: 0.1\n",
       "      * free: true\n",
       "    * lower_bound:\n",
       "      * value: -1.0\n",
       "      * desc: lower bound of gaussian, setting to -np.inf results in half normal distribution\n",
       "      * min_value: null\n",
       "      * max_value: null\n",
       "      * unit: ''\n",
       "      * is_normalization: false\n",
       "      * delta: 0.1\n",
       "      * free: true\n",
       "    * upper_bound:\n",
       "      * value: 1.0\n",
       "      * desc: upper bound of gaussian  setting to np.inf results in half normal distribution\n",
       "      * min_value: null\n",
       "      * max_value: null\n",
       "      * unit: ''\n",
       "      * is_normalization: false\n",
       "      * delta: 0.1\n",
       "      * free: true"
      ]
     },
     "metadata": {},
     "output_type": "display_data"
    }
   ],
   "source": [
    "func.display()"
   ]
  },
  {
   "cell_type": "markdown",
   "id": "8e3a4810",
   "metadata": {
    "papermill": {
     "duration": 0.001254,
     "end_time": "2024-09-10T14:37:20.681837",
     "exception": false,
     "start_time": "2024-09-10T14:37:20.680583",
     "status": "completed"
    },
    "tags": []
   },
   "source": [
    "## Shape \n",
    "\n",
    "The shape of the function. \n",
    "\n",
    "*If this is not a photon model but a prior or linear function then ignore the units as these docs are auto-generated*"
   ]
  },
  {
   "cell_type": "code",
   "execution_count": 6,
   "id": "843e7235",
   "metadata": {
    "execution": {
     "iopub.execute_input": "2024-09-10T14:37:20.684735Z",
     "iopub.status.busy": "2024-09-10T14:37:20.684589Z",
     "iopub.status.idle": "2024-09-10T14:37:20.778867Z",
     "shell.execute_reply": "2024-09-10T14:37:20.778511Z"
    },
    "papermill": {
     "duration": 0.097216,
     "end_time": "2024-09-10T14:37:20.780151",
     "exception": false,
     "start_time": "2024-09-10T14:37:20.682935",
     "status": "completed"
    },
    "tags": [
     "nbsphinx-thumbnail"
    ]
   },
   "outputs": [
    {
     "data": {
      "text/plain": [
       "Text(0, 0.5, 'probability')"
      ]
     },
     "execution_count": 6,
     "metadata": {},
     "output_type": "execute_result"
    },
    {
     "data": {
      "image/png": "[encoded data removed]",
      "text/plain": [
       "<Figure size 1040x910 with 1 Axes>"
      ]
     },
     "metadata": {},
     "output_type": "display_data"
    }
   ],
   "source": [
    "fig, ax = plt.subplots()\n",
    "\n",
    "\n",
    "ax.plot(energy_grid, func(energy_grid), color=blue, lw=3)\n",
    "\n",
    "ax.set_xlabel(\"x\")\n",
    "ax.set_ylabel(\"probability\")\n"
   ]
  },
  {
   "cell_type": "markdown",
   "id": "5a737c55",
   "metadata": {
    "papermill": {
     "duration": 0.001443,
     "end_time": "2024-09-10T14:37:20.783271",
     "exception": false,
     "start_time": "2024-09-10T14:37:20.781828",
     "status": "completed"
    },
    "tags": []
   },
   "source": [
    "## Random Number Generation\n",
    "\n",
    "This is how we can generate random numbers from the prior.\n"
   ]
  },
  {
   "cell_type": "code",
   "execution_count": 7,
   "id": "e56a1da4",
   "metadata": {
    "execution": {
     "iopub.execute_input": "2024-09-10T14:37:20.786721Z",
     "iopub.status.busy": "2024-09-10T14:37:20.786567Z",
     "iopub.status.idle": "2024-09-10T14:37:20.931187Z",
     "shell.execute_reply": "2024-09-10T14:37:20.930839Z"
    },
    "papermill": {
     "duration": 0.147976,
     "end_time": "2024-09-10T14:37:20.932616",
     "exception": false,
     "start_time": "2024-09-10T14:37:20.784640",
     "status": "completed"
    },
    "tags": []
   },
   "outputs": [
    {
     "data": {
      "text/plain": [
       "Text(0, 0.5, 'N')"
      ]
     },
     "execution_count": 7,
     "metadata": {},
     "output_type": "execute_result"
    },
    {
     "data": {
      "image/png": "[encoded data removed]",
      "text/plain": [
       "<Figure size 1040x910 with 1 Axes>"
      ]
     },
     "metadata": {},
     "output_type": "display_data"
    }
   ],
   "source": [
    "\n",
    "\n",
    "u = np.random.uniform(0,1, size=5000)\n",
    "\n",
    "draws = [func.from_unit_cube(x) for x in u]\n",
    "\n",
    "\n",
    "fig, ax = plt.subplots()\n",
    "\n",
    "\n",
    "ax.hist(draws, color=green, bins=50)\n",
    "\n",
    "ax.set_xlabel(\"value\")\n",
    "ax.set_ylabel(\"N\")\n",
    "\n"
   ]
  }
 ],
 "metadata": {
  "jupytext": {
   "formats": "ipynb,md"
  },
  "kernelspec": {
   "display_name": "Python 3 (ipykernel)",
   "language": "python",
   "name": "python3"
  },
  "language_info": {
   "codemirror_mode": {
    "name": "ipython",
    "version": 3
   },
   "file_extension": ".py",
   "mimetype": "text/x-python",
   "name": "python",
   "nbconvert_exporter": "python",
   "pygments_lexer": "ipython3",
   "version": "3.9.13"
  },
  "papermill": {
   "default_parameters": {},
   "duration": 2.774567,
   "end_time": "2024-09-10T14:37:21.270385",
   "environment_variables": {},
   "exception": null,
   "input_path": "Truncated_gaussian.ipynb",
   "output_path": "/Users/runner/work/astromodels/astromodels/docs/notebooks/Truncated_gaussian.ipynb",
   "parameters": {
    "func_name": "Truncated_gaussian",
    "positive_prior": false
   },
   "start_time": "2024-09-10T14:37:18.495818",
   "version": "2.6.0"
  }
 },
 "nbformat": 4,
 "nbformat_minor": 5
}
