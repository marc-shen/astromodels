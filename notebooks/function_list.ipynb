{
 "cells": [
  {
   "cell_type": "markdown",
   "id": "a10e11fe",
   "metadata": {},
   "source": [
    "# Available Functions\n",
    "\n",
    "The galleries below display the available functions which are included in `astromodels`.\n",
    "More functions can be included by either making your own or installing optional packages. "
   ]
  },
  {
   "cell_type": "markdown",
   "id": "7caf1d16",
   "metadata": {
    "tags": [
     "nbsphinx-gallery"
    ]
   },
   "source": [
    "## 1D Functions\n",
    "* [Blackbody](notebooks/Blackbody.ipynb)\n",
    "* [ModifiedBlackbody](notebooks/ModifiedBlackbody.ipynb)\n",
    "* [NonDissipativePhotosphere](notebooks/NonDissipativePhotosphere.ipynb)\n",
    "* [NonDissipativePhotosphere_Deep](notebooks/NonDissipativePhotosphere_Deep.ipynb)\n",
    "* [StepFunction](notebooks/StepFunction.ipynb)\n",
    "* [StepFunctionUpper](notebooks/StepFunctionUpper.ipynb)\n",
    "* [Sin](notebooks/Sin.ipynb)\n",
    "* [DiracDelta](notebooks/DiracDelta.ipynb)\n",
    "* [Log_parabola](notebooks/Log_parabola.ipynb)\n",
    "* [Exponential_cutoff](notebooks/Exponential_cutoff.ipynb)\n",
    "* [PhAbs](notebooks/PhAbs.ipynb)\n",
    "* [TbAbs](notebooks/TbAbs.ipynb)\n",
    "* [WAbs](notebooks/WAbs.ipynb)\n",
    "* [EBLattenuation](notebooks/EBLattenuation.ipynb)\n",
    "* [ZDust](notebooks/ZDust.ipynb)\n",
    "* [Constant](notebooks/Constant.ipynb)\n",
    "* [Line](notebooks/Line.ipynb)\n",
    "* [Quadratic](notebooks/Quadratic.ipynb)\n",
    "* [Cubic](notebooks/Cubic.ipynb)\n",
    "* [Quartic](notebooks/Quartic.ipynb)\n",
    "* [Powerlaw](notebooks/Powerlaw.ipynb)\n",
    "* [Powerlaw_flux](notebooks/Powerlaw_flux.ipynb)\n",
    "* [Powerlaw_Eflux](notebooks/Powerlaw_Eflux.ipynb)\n",
    "* [Cutoff_powerlaw](notebooks/Cutoff_powerlaw.ipynb)\n",
    "* [Cutoff_powerlaw_Ep](notebooks/Cutoff_powerlaw_Ep.ipynb)\n",
    "* [Inverse_cutoff_powerlaw](notebooks/Inverse_cutoff_powerlaw.ipynb)\n",
    "* [Super_cutoff_powerlaw](notebooks/Super_cutoff_powerlaw.ipynb)\n",
    "* [SmoothlyBrokenPowerLaw](notebooks/SmoothlyBrokenPowerLaw.ipynb)\n",
    "* [Broken_powerlaw](notebooks/Broken_powerlaw.ipynb)\n",
    "* [Band](notebooks/Band.ipynb)\n",
    "* [Band_grbm](notebooks/Band_grbm.ipynb)\n",
    "* [Band_Calderone](notebooks/Band_Calderone.ipynb)\n",
    "* [DoubleSmoothlyBrokenPowerlaw](notebooks/DoubleSmoothlyBrokenPowerlaw.ipynb)\n",
    "* [DMFitFunction](notebooks/DMFitFunction.ipynb)\n",
    "* [DMSpectra](notebooks/DMSpectra.ipynb)\n"
   ]
  },
  {
   "cell_type": "markdown",
   "id": "b00eb529",
   "metadata": {
    "tags": [
     "nbsphinx-gallery"
    ]
   },
   "source": [
    "## 2D Functions\n",
    "* [Latitude_galactic_diffuse](notebooks/Latitude_galactic_diffuse.ipynb)\n",
    "* [Gaussian_on_sphere](notebooks/Gaussian_on_sphere.ipynb)\n",
    "* [Asymm_Gaussian_on_sphere](notebooks/Asymm_Gaussian_on_sphere.ipynb)\n",
    "* [Disk_on_sphere](notebooks/Disk_on_sphere.ipynb)\n",
    "* [Ellipse_on_sphere](notebooks/Ellipse_on_sphere.ipynb)\n",
    "* [Power_law_on_sphere](notebooks/Power_law_on_sphere.ipynb)\n"
   ]
  },
  {
   "cell_type": "markdown",
   "id": "0b205887",
   "metadata": {
    "tags": []
   },
   "source": [
    "## Priors\n",
    "* [Gaussian](Gaussian.ipynb)\n",
    "* [Truncated_gaussian](Truncated_gaussian.ipynb)\n",
    "* [Cauchy](Cauchy.ipynb)\n",
    "* [Cosine_Prior](Cosine_Prior.ipynb)\n",
    "* [Log_normal](Log_normal.ipynb)\n",
    "* [Uniform_prior](Uniform_prior.ipynb)\n",
    "* [Log_uniform_prior](Log_uniform_prior.ipynb)\n"
   ]
  },
  {
   "cell_type": "code",
   "execution_count": null,
   "id": "f2e74b9a",
   "metadata": {
    "tags": [
     "nbsphinx-gallery"
    ]
   },
   "outputs": [],
   "source": []
  }
 ],
 "metadata": {
  "kernelspec": {
   "display_name": "Python 3 (ipykernel)",
   "language": "python",
   "name": "python3"
  }
 },
 "nbformat": 4,
 "nbformat_minor": 5
}
