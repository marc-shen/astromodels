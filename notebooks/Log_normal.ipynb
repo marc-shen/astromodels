{
 "cells": [
  {
   "cell_type": "markdown",
   "id": "7d0f08de",
   "metadata": {
    "papermill": {
     "duration": 0.010585,
     "end_time": "2025-05-21T18:30:45.377758",
     "exception": false,
     "start_time": "2025-05-21T18:30:45.367173",
     "status": "completed"
    },
    "tags": []
   },
   "source": [
    "# Log normal"
   ]
  },
  {
   "cell_type": "code",
   "execution_count": 1,
   "id": "c0dcca3c",
   "metadata": {
    "execution": {
     "iopub.execute_input": "2025-05-21T18:30:45.391774Z",
     "iopub.status.busy": "2025-05-21T18:30:45.390991Z",
     "iopub.status.idle": "2025-05-21T18:30:46.838196Z",
     "shell.execute_reply": "2025-05-21T18:30:46.837587Z"
    },
    "nbsphinx": "hidden",
    "papermill": {
     "duration": 1.455643,
     "end_time": "2025-05-21T18:30:46.840066",
     "exception": false,
     "start_time": "2025-05-21T18:30:45.384423",
     "status": "completed"
    },
    "tags": []
   },
   "outputs": [],
   "source": [
    "%%capture\n",
    "\n",
    "import numpy as np\n",
    "\n",
    "import matplotlib.pyplot as plt\n",
    "\n",
    "import warnings\n",
    "warnings.simplefilter(\"ignore\")\n",
    "\n",
    "from astromodels.functions.function import _known_functions\n",
    "\n",
    "\n",
    "from jupyterthemes import jtplot\n",
    "jtplot.style(context=\"talk\", fscale=1, ticks=True, grid=False)\n",
    "%matplotlib inline"
   ]
  },
  {
   "cell_type": "code",
   "execution_count": 2,
   "id": "7497357d",
   "metadata": {
    "execution": {
     "iopub.execute_input": "2025-05-21T18:30:46.854627Z",
     "iopub.status.busy": "2025-05-21T18:30:46.854264Z",
     "iopub.status.idle": "2025-05-21T18:30:46.856961Z",
     "shell.execute_reply": "2025-05-21T18:30:46.856511Z"
    },
    "nbsphinx": "hidden",
    "papermill": {
     "duration": 0.0122,
     "end_time": "2025-05-21T18:30:46.859502",
     "exception": false,
     "start_time": "2025-05-21T18:30:46.847302",
     "status": "completed"
    },
    "tags": [
     "parameters"
    ]
   },
   "outputs": [],
   "source": [
    "func_name = \"TbAbs\"\n",
    "\n",
    "positive_prior = False\n"
   ]
  },
  {
   "cell_type": "code",
   "execution_count": 3,
   "id": "37eb886e",
   "metadata": {
    "execution": {
     "iopub.execute_input": "2025-05-21T18:30:46.873135Z",
     "iopub.status.busy": "2025-05-21T18:30:46.872955Z",
     "iopub.status.idle": "2025-05-21T18:30:46.875049Z",
     "shell.execute_reply": "2025-05-21T18:30:46.874631Z"
    },
    "papermill": {
     "duration": 0.010174,
     "end_time": "2025-05-21T18:30:46.876237",
     "exception": false,
     "start_time": "2025-05-21T18:30:46.866063",
     "status": "completed"
    },
    "tags": [
     "injected-parameters"
    ]
   },
   "outputs": [],
   "source": [
    "# Parameters\n",
    "func_name = \"Log_normal\"\n",
    "positive_prior = True\n"
   ]
  },
  {
   "cell_type": "code",
   "execution_count": 4,
   "id": "701d7c5b",
   "metadata": {
    "execution": {
     "iopub.execute_input": "2025-05-21T18:30:46.879510Z",
     "iopub.status.busy": "2025-05-21T18:30:46.879316Z",
     "iopub.status.idle": "2025-05-21T18:30:46.886723Z",
     "shell.execute_reply": "2025-05-21T18:30:46.886323Z"
    },
    "lines_to_next_cell": 0,
    "nbsphinx": "hidden",
    "papermill": {
     "duration": 0.010362,
     "end_time": "2025-05-21T18:30:46.888023",
     "exception": false,
     "start_time": "2025-05-21T18:30:46.877661",
     "status": "completed"
    },
    "tags": []
   },
   "outputs": [],
   "source": [
    "func = _known_functions[func_name]()\n",
    "\n",
    "if not positive_prior:\n",
    "\n",
    "\tenergy_grid = np.linspace(-5,5,1000)\n",
    "\n",
    "else:\n",
    "    \n",
    "    energy_grid = np.linspace(0,1,1000)\n",
    "    \n",
    "    \n",
    "    \n",
    "    \n",
    "blue = \"#4152E3\"\n",
    "red = \"#E3414B\"\n",
    "green = \"#41E39E\""
   ]
  },
  {
   "cell_type": "markdown",
   "id": "c4a1a484",
   "metadata": {
    "lines_to_next_cell": 0,
    "papermill": {
     "duration": 0.006616,
     "end_time": "2025-05-21T18:30:46.901625",
     "exception": false,
     "start_time": "2025-05-21T18:30:46.895009",
     "status": "completed"
    },
    "tags": []
   },
   "source": [
    "## Description"
   ]
  },
  {
   "cell_type": "code",
   "execution_count": 5,
   "id": "93674e3b",
   "metadata": {
    "execution": {
     "iopub.execute_input": "2025-05-21T18:30:46.915811Z",
     "iopub.status.busy": "2025-05-21T18:30:46.915615Z",
     "iopub.status.idle": "2025-05-21T18:30:46.920190Z",
     "shell.execute_reply": "2025-05-21T18:30:46.919860Z"
    },
    "papermill": {
     "duration": 0.013514,
     "end_time": "2025-05-21T18:30:46.921237",
     "exception": false,
     "start_time": "2025-05-21T18:30:46.907723",
     "status": "completed"
    },
    "tags": []
   },
   "outputs": [
    {
     "data": {
      "text/html": [
       "<ul>\n",
       "\n",
       "<li>description: A log normal function</li>\n",
       "\n",
       "<li>formula: $ K \\frac{1}{ x \\sigma \\sqrt{2 \\pi}}\\exp{\\frac{(\\log x/piv - \\mu/piv)^2}{2~(\\sigma)^2}} $</li>\n",
       "\n",
       "<li>parameters: \n",
       "<ul>\n",
       "\n",
       "<li>F: \n",
       "<ul>\n",
       "\n",
       "<li>value: 1.0</li>\n",
       "\n",
       "<li>desc: Integral between 0and +inf. Fix this to 1 to obtain a log Normal distribution</li>\n",
       "\n",
       "<li>min_value: None</li>\n",
       "\n",
       "<li>max_value: None</li>\n",
       "\n",
       "<li>unit: </li>\n",
       "\n",
       "<li>is_normalization: False</li>\n",
       "\n",
       "<li>delta: 0.1</li>\n",
       "\n",
       "<li>free: True</li>\n",
       "\n",
       "</ul>\n",
       "\n",
       "</li>\n",
       "\n",
       "<li>mu: \n",
       "<ul>\n",
       "\n",
       "<li>value: 0.0</li>\n",
       "\n",
       "<li>desc: Central value</li>\n",
       "\n",
       "<li>min_value: None</li>\n",
       "\n",
       "<li>max_value: None</li>\n",
       "\n",
       "<li>unit: </li>\n",
       "\n",
       "<li>is_normalization: False</li>\n",
       "\n",
       "<li>delta: 0.1</li>\n",
       "\n",
       "<li>free: True</li>\n",
       "\n",
       "</ul>\n",
       "\n",
       "</li>\n",
       "\n",
       "<li>sigma: \n",
       "<ul>\n",
       "\n",
       "<li>value: 1.0</li>\n",
       "\n",
       "<li>desc: standard deviation</li>\n",
       "\n",
       "<li>min_value: 1e-12</li>\n",
       "\n",
       "<li>max_value: None</li>\n",
       "\n",
       "<li>unit: </li>\n",
       "\n",
       "<li>is_normalization: False</li>\n",
       "\n",
       "<li>delta: 0.1</li>\n",
       "\n",
       "<li>free: True</li>\n",
       "\n",
       "</ul>\n",
       "\n",
       "</li>\n",
       "\n",
       "<li>piv: \n",
       "<ul>\n",
       "\n",
       "<li>value: 1.0</li>\n",
       "\n",
       "<li>desc: pivot. Leave this to 1 for a proper log normal distribution</li>\n",
       "\n",
       "<li>min_value: None</li>\n",
       "\n",
       "<li>max_value: None</li>\n",
       "\n",
       "<li>unit: </li>\n",
       "\n",
       "<li>is_normalization: False</li>\n",
       "\n",
       "<li>delta: 0.1</li>\n",
       "\n",
       "<li>free: False</li>\n",
       "\n",
       "</ul>\n",
       "\n",
       "</li>\n",
       "\n",
       "</ul>\n",
       "\n",
       "</li>\n",
       "\n",
       "</ul>\n"
      ],
      "text/plain": [
       "  * description: A log normal function\n",
       "  * formula: $ K \\frac{1}{ x \\sigma \\sqrt{2 \\pi}}\\exp{\\frac{(\\log x/piv - \\mu/piv)^2}{2~(\\sigma)^2}}\n",
       "    * $\n",
       "  * parameters:\n",
       "    * F:\n",
       "      * value: 1.0\n",
       "      * desc: Integral between 0and +inf. Fix this to 1 to obtain a log Normal distribution\n",
       "      * min_value: null\n",
       "      * max_value: null\n",
       "      * unit: ''\n",
       "      * is_normalization: false\n",
       "      * delta: 0.1\n",
       "      * free: true\n",
       "    * mu:\n",
       "      * value: 0.0\n",
       "      * desc: Central value\n",
       "      * min_value: null\n",
       "      * max_value: null\n",
       "      * unit: ''\n",
       "      * is_normalization: false\n",
       "      * delta: 0.1\n",
       "      * free: true\n",
       "    * sigma:\n",
       "      * value: 1.0\n",
       "      * desc: standard deviation\n",
       "      * min_value: 1.0e-12\n",
       "      * max_value: null\n",
       "      * unit: ''\n",
       "      * is_normalization: false\n",
       "      * delta: 0.1\n",
       "      * free: true\n",
       "    * piv:\n",
       "      * value: 1.0\n",
       "      * desc: pivot. Leave this to 1 for a proper log normal distribution\n",
       "      * min_value: null\n",
       "      * max_value: null\n",
       "      * unit: ''\n",
       "      * is_normalization: false\n",
       "      * delta: 0.1\n",
       "      * free: false"
      ]
     },
     "metadata": {},
     "output_type": "display_data"
    }
   ],
   "source": [
    "func.display()"
   ]
  },
  {
   "cell_type": "markdown",
   "id": "f3f880df",
   "metadata": {
    "papermill": {
     "duration": 0.006641,
     "end_time": "2025-05-21T18:30:46.934354",
     "exception": false,
     "start_time": "2025-05-21T18:30:46.927713",
     "status": "completed"
    },
    "tags": []
   },
   "source": [
    "## Shape \n",
    "\n",
    "The shape of the function. \n",
    "\n",
    "*If this is not a photon model but a prior or linear function then ignore the units as these docs are auto-generated*"
   ]
  },
  {
   "cell_type": "code",
   "execution_count": 6,
   "id": "a3a4a06b",
   "metadata": {
    "execution": {
     "iopub.execute_input": "2025-05-21T18:30:46.937710Z",
     "iopub.status.busy": "2025-05-21T18:30:46.937525Z",
     "iopub.status.idle": "2025-05-21T18:30:47.064195Z",
     "shell.execute_reply": "2025-05-21T18:30:47.063191Z"
    },
    "papermill": {
     "duration": 0.129715,
     "end_time": "2025-05-21T18:30:47.065393",
     "exception": false,
     "start_time": "2025-05-21T18:30:46.935678",
     "status": "completed"
    },
    "tags": [
     "nbsphinx-thumbnail"
    ]
   },
   "outputs": [
    {
     "data": {
      "text/plain": [
       "Text(0, 0.5, 'probability')"
      ]
     },
     "execution_count": 6,
     "metadata": {},
     "output_type": "execute_result"
    },
    {
     "data": {
      "image/png": "[encoded data removed]",
      "text/plain": [
       "<Figure size 1040x910 with 1 Axes>"
      ]
     },
     "metadata": {},
     "output_type": "display_data"
    }
   ],
   "source": [
    "fig, ax = plt.subplots()\n",
    "\n",
    "\n",
    "ax.plot(energy_grid, func(energy_grid), color=blue, lw=3)\n",
    "\n",
    "ax.set_xlabel(\"x\")\n",
    "ax.set_ylabel(\"probability\")\n"
   ]
  },
  {
   "cell_type": "markdown",
   "id": "d4ca7624",
   "metadata": {
    "papermill": {
     "duration": 0.006653,
     "end_time": "2025-05-21T18:30:47.078781",
     "exception": false,
     "start_time": "2025-05-21T18:30:47.072128",
     "status": "completed"
    },
    "tags": []
   },
   "source": [
    "## Random Number Generation\n",
    "\n",
    "This is how we can generate random numbers from the prior.\n"
   ]
  },
  {
   "cell_type": "code",
   "execution_count": 7,
   "id": "4daab479",
   "metadata": {
    "execution": {
     "iopub.execute_input": "2025-05-21T18:30:47.096318Z",
     "iopub.status.busy": "2025-05-21T18:30:47.096138Z",
     "iopub.status.idle": "2025-05-21T18:30:47.344127Z",
     "shell.execute_reply": "2025-05-21T18:30:47.343744Z"
    },
    "papermill": {
     "duration": 0.29984,
     "end_time": "2025-05-21T18:30:47.385199",
     "exception": false,
     "start_time": "2025-05-21T18:30:47.085359",
     "status": "completed"
    },
    "tags": []
   },
   "outputs": [
    {
     "data": {
      "text/plain": [
       "Text(0, 0.5, 'N')"
      ]
     },
     "execution_count": 7,
     "metadata": {},
     "output_type": "execute_result"
    },
    {
     "data": {
      "image/png": "[encoded data removed]",
      "text/plain": [
       "<Figure size 1040x910 with 1 Axes>"
      ]
     },
     "metadata": {},
     "output_type": "display_data"
    }
   ],
   "source": [
    "\n",
    "\n",
    "u = np.random.uniform(0,1, size=5000)\n",
    "\n",
    "draws = [func.from_unit_cube(x) for x in u]\n",
    "\n",
    "\n",
    "fig, ax = plt.subplots()\n",
    "\n",
    "\n",
    "ax.hist(draws, color=green, bins=50)\n",
    "\n",
    "ax.set_xlabel(\"value\")\n",
    "ax.set_ylabel(\"N\")\n",
    "\n"
   ]
  }
 ],
 "metadata": {
  "jupytext": {
   "formats": "ipynb,md"
  },
  "kernelspec": {
   "display_name": "Python 3 (ipykernel)",
   "language": "python",
   "name": "python3"
  },
  "language_info": {
   "codemirror_mode": {
    "name": "ipython",
    "version": 3
   },
   "file_extension": ".py",
   "mimetype": "text/x-python",
   "name": "python",
   "nbconvert_exporter": "python",
   "pygments_lexer": "ipython3",
   "version": "3.9.13"
  },
  "papermill": {
   "default_parameters": {},
   "duration": 3.21445,
   "end_time": "2025-05-21T18:30:47.834179",
   "environment_variables": {},
   "exception": null,
   "input_path": "Log_normal.ipynb",
   "output_path": "/Users/runner/work/astromodels/astromodels/docs/notebooks/Log_normal.ipynb",
   "parameters": {
    "func_name": "Log_normal",
    "positive_prior": true
   },
   "start_time": "2025-05-21T18:30:44.619729",
   "version": "2.6.0"
  }
 },
 "nbformat": 4,
 "nbformat_minor": 5
}
