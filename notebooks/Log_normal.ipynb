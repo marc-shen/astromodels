{
 "cells": [
  {
   "cell_type": "markdown",
   "id": "93771c02",
   "metadata": {
    "papermill": {
     "duration": 0.010331,
     "end_time": "2024-05-13T23:11:47.841215",
     "exception": false,
     "start_time": "2024-05-13T23:11:47.830884",
     "status": "completed"
    },
    "tags": []
   },
   "source": [
    "# Log normal"
   ]
  },
  {
   "cell_type": "code",
   "execution_count": 1,
   "id": "d38bb94b",
   "metadata": {
    "execution": {
     "iopub.execute_input": "2024-05-13T23:11:47.854982Z",
     "iopub.status.busy": "2024-05-13T23:11:47.854217Z",
     "iopub.status.idle": "2024-05-13T23:11:49.262395Z",
     "shell.execute_reply": "2024-05-13T23:11:49.261809Z"
    },
    "nbsphinx": "hidden",
    "papermill": {
     "duration": 1.415899,
     "end_time": "2024-05-13T23:11:49.263917",
     "exception": false,
     "start_time": "2024-05-13T23:11:47.848018",
     "status": "completed"
    },
    "tags": []
   },
   "outputs": [],
   "source": [
    "%%capture\n",
    "\n",
    "import numpy as np\n",
    "\n",
    "import matplotlib.pyplot as plt\n",
    "\n",
    "import warnings\n",
    "warnings.simplefilter(\"ignore\")\n",
    "\n",
    "from astromodels.functions.function import _known_functions\n",
    "\n",
    "\n",
    "from jupyterthemes import jtplot\n",
    "jtplot.style(context=\"talk\", fscale=1, ticks=True, grid=False)\n",
    "%matplotlib inline"
   ]
  },
  {
   "cell_type": "code",
   "execution_count": 2,
   "id": "8a5ddbd2",
   "metadata": {
    "execution": {
     "iopub.execute_input": "2024-05-13T23:11:49.267379Z",
     "iopub.status.busy": "2024-05-13T23:11:49.267006Z",
     "iopub.status.idle": "2024-05-13T23:11:49.269347Z",
     "shell.execute_reply": "2024-05-13T23:11:49.268964Z"
    },
    "nbsphinx": "hidden",
    "papermill": {
     "duration": 0.005403,
     "end_time": "2024-05-13T23:11:49.270636",
     "exception": false,
     "start_time": "2024-05-13T23:11:49.265233",
     "status": "completed"
    },
    "tags": [
     "parameters"
    ]
   },
   "outputs": [],
   "source": [
    "func_name = \"TbAbs\"\n",
    "\n",
    "positive_prior = False\n"
   ]
  },
  {
   "cell_type": "code",
   "execution_count": 3,
   "id": "67fb053e",
   "metadata": {
    "execution": {
     "iopub.execute_input": "2024-05-13T23:11:49.273649Z",
     "iopub.status.busy": "2024-05-13T23:11:49.273489Z",
     "iopub.status.idle": "2024-05-13T23:11:49.281523Z",
     "shell.execute_reply": "2024-05-13T23:11:49.281071Z"
    },
    "papermill": {
     "duration": 0.011135,
     "end_time": "2024-05-13T23:11:49.282907",
     "exception": false,
     "start_time": "2024-05-13T23:11:49.271772",
     "status": "completed"
    },
    "tags": [
     "injected-parameters"
    ]
   },
   "outputs": [],
   "source": [
    "# Parameters\n",
    "func_name = \"Log_normal\"\n",
    "positive_prior = True\n"
   ]
  },
  {
   "cell_type": "code",
   "execution_count": 4,
   "id": "3c62e3d3",
   "metadata": {
    "execution": {
     "iopub.execute_input": "2024-05-13T23:11:49.285934Z",
     "iopub.status.busy": "2024-05-13T23:11:49.285769Z",
     "iopub.status.idle": "2024-05-13T23:11:49.288817Z",
     "shell.execute_reply": "2024-05-13T23:11:49.288446Z"
    },
    "lines_to_next_cell": 0,
    "nbsphinx": "hidden",
    "papermill": {
     "duration": 0.006025,
     "end_time": "2024-05-13T23:11:49.290136",
     "exception": false,
     "start_time": "2024-05-13T23:11:49.284111",
     "status": "completed"
    },
    "tags": []
   },
   "outputs": [],
   "source": [
    "func = _known_functions[func_name]()\n",
    "\n",
    "if not positive_prior:\n",
    "\n",
    "\tenergy_grid = np.linspace(-5,5,1000)\n",
    "\n",
    "else:\n",
    "    \n",
    "    energy_grid = np.linspace(0,1,1000)\n",
    "    \n",
    "    \n",
    "    \n",
    "    \n",
    "blue = \"#4152E3\"\n",
    "red = \"#E3414B\"\n",
    "green = \"#41E39E\""
   ]
  },
  {
   "cell_type": "markdown",
   "id": "87483d22",
   "metadata": {
    "lines_to_next_cell": 0,
    "papermill": {
     "duration": 0.00106,
     "end_time": "2024-05-13T23:11:49.292315",
     "exception": false,
     "start_time": "2024-05-13T23:11:49.291255",
     "status": "completed"
    },
    "tags": []
   },
   "source": [
    "## Description"
   ]
  },
  {
   "cell_type": "code",
   "execution_count": 5,
   "id": "3154be9c",
   "metadata": {
    "execution": {
     "iopub.execute_input": "2024-05-13T23:11:49.295185Z",
     "iopub.status.busy": "2024-05-13T23:11:49.295031Z",
     "iopub.status.idle": "2024-05-13T23:11:49.306074Z",
     "shell.execute_reply": "2024-05-13T23:11:49.305594Z"
    },
    "papermill": {
     "duration": 0.014117,
     "end_time": "2024-05-13T23:11:49.307463",
     "exception": false,
     "start_time": "2024-05-13T23:11:49.293346",
     "status": "completed"
    },
    "tags": []
   },
   "outputs": [
    {
     "data": {
      "text/html": [
       "<ul>\n",
       "\n",
       "<li>description: A log normal function</li>\n",
       "\n",
       "<li>formula: $ K \\frac{1}{ x \\sigma \\sqrt{2 \\pi}}\\exp{\\frac{(\\log x/piv - \\mu/piv)^2}{2~(\\sigma)^2}} $</li>\n",
       "\n",
       "<li>parameters: \n",
       "<ul>\n",
       "\n",
       "<li>F: \n",
       "<ul>\n",
       "\n",
       "<li>value: 1.0</li>\n",
       "\n",
       "<li>desc: Integral between 0and +inf. Fix this to 1 to obtain a log Normal distribution</li>\n",
       "\n",
       "<li>min_value: None</li>\n",
       "\n",
       "<li>max_value: None</li>\n",
       "\n",
       "<li>unit: </li>\n",
       "\n",
       "<li>is_normalization: False</li>\n",
       "\n",
       "<li>delta: 0.1</li>\n",
       "\n",
       "<li>free: True</li>\n",
       "\n",
       "</ul>\n",
       "\n",
       "</li>\n",
       "\n",
       "<li>mu: \n",
       "<ul>\n",
       "\n",
       "<li>value: 0.0</li>\n",
       "\n",
       "<li>desc: Central value</li>\n",
       "\n",
       "<li>min_value: None</li>\n",
       "\n",
       "<li>max_value: None</li>\n",
       "\n",
       "<li>unit: </li>\n",
       "\n",
       "<li>is_normalization: False</li>\n",
       "\n",
       "<li>delta: 0.1</li>\n",
       "\n",
       "<li>free: True</li>\n",
       "\n",
       "</ul>\n",
       "\n",
       "</li>\n",
       "\n",
       "<li>sigma: \n",
       "<ul>\n",
       "\n",
       "<li>value: 1.0</li>\n",
       "\n",
       "<li>desc: standard deviation</li>\n",
       "\n",
       "<li>min_value: 1e-12</li>\n",
       "\n",
       "<li>max_value: None</li>\n",
       "\n",
       "<li>unit: </li>\n",
       "\n",
       "<li>is_normalization: False</li>\n",
       "\n",
       "<li>delta: 0.1</li>\n",
       "\n",
       "<li>free: True</li>\n",
       "\n",
       "</ul>\n",
       "\n",
       "</li>\n",
       "\n",
       "<li>piv: \n",
       "<ul>\n",
       "\n",
       "<li>value: 1.0</li>\n",
       "\n",
       "<li>desc: pivot. Leave this to 1 for a proper log normal distribution</li>\n",
       "\n",
       "<li>min_value: None</li>\n",
       "\n",
       "<li>max_value: None</li>\n",
       "\n",
       "<li>unit: </li>\n",
       "\n",
       "<li>is_normalization: False</li>\n",
       "\n",
       "<li>delta: 0.1</li>\n",
       "\n",
       "<li>free: False</li>\n",
       "\n",
       "</ul>\n",
       "\n",
       "</li>\n",
       "\n",
       "</ul>\n",
       "\n",
       "</li>\n",
       "\n",
       "</ul>\n"
      ],
      "text/plain": [
       "  * description: A log normal function\n",
       "  * formula: $ K \\frac{1}{ x \\sigma \\sqrt{2 \\pi}}\\exp{\\frac{(\\log x/piv - \\mu/piv)^2}{2~(\\sigma)^2}}\n",
       "    * $\n",
       "  * parameters:\n",
       "    * F:\n",
       "      * value: 1.0\n",
       "      * desc: Integral between 0and +inf. Fix this to 1 to obtain a log Normal distribution\n",
       "      * min_value: null\n",
       "      * max_value: null\n",
       "      * unit: ''\n",
       "      * is_normalization: false\n",
       "      * delta: 0.1\n",
       "      * free: true\n",
       "    * mu:\n",
       "      * value: 0.0\n",
       "      * desc: Central value\n",
       "      * min_value: null\n",
       "      * max_value: null\n",
       "      * unit: ''\n",
       "      * is_normalization: false\n",
       "      * delta: 0.1\n",
       "      * free: true\n",
       "    * sigma:\n",
       "      * value: 1.0\n",
       "      * desc: standard deviation\n",
       "      * min_value: 1.0e-12\n",
       "      * max_value: null\n",
       "      * unit: ''\n",
       "      * is_normalization: false\n",
       "      * delta: 0.1\n",
       "      * free: true\n",
       "    * piv:\n",
       "      * value: 1.0\n",
       "      * desc: pivot. Leave this to 1 for a proper log normal distribution\n",
       "      * min_value: null\n",
       "      * max_value: null\n",
       "      * unit: ''\n",
       "      * is_normalization: false\n",
       "      * delta: 0.1\n",
       "      * free: false"
      ]
     },
     "metadata": {},
     "output_type": "display_data"
    }
   ],
   "source": [
    "func.display()"
   ]
  },
  {
   "cell_type": "markdown",
   "id": "8c2273ca",
   "metadata": {
    "papermill": {
     "duration": 0.001202,
     "end_time": "2024-05-13T23:11:49.310051",
     "exception": false,
     "start_time": "2024-05-13T23:11:49.308849",
     "status": "completed"
    },
    "tags": []
   },
   "source": [
    "## Shape \n",
    "\n",
    "The shape of the function. \n",
    "\n",
    "*If this is not a photon model but a prior or linear function then ignore the units as these docs are auto-generated*"
   ]
  },
  {
   "cell_type": "code",
   "execution_count": 6,
   "id": "32f681dd",
   "metadata": {
    "execution": {
     "iopub.execute_input": "2024-05-13T23:11:49.313084Z",
     "iopub.status.busy": "2024-05-13T23:11:49.312935Z",
     "iopub.status.idle": "2024-05-13T23:11:49.419474Z",
     "shell.execute_reply": "2024-05-13T23:11:49.419148Z"
    },
    "papermill": {
     "duration": 0.10977,
     "end_time": "2024-05-13T23:11:49.420942",
     "exception": false,
     "start_time": "2024-05-13T23:11:49.311172",
     "status": "completed"
    },
    "tags": [
     "nbsphinx-thumbnail"
    ]
   },
   "outputs": [
    {
     "data": {
      "text/plain": [
       "Text(0, 0.5, 'probability')"
      ]
     },
     "execution_count": 6,
     "metadata": {},
     "output_type": "execute_result"
    },
    {
     "data": {
      "image/png": "[encoded data removed]",
      "text/plain": [
       "<Figure size 1040x910 with 1 Axes>"
      ]
     },
     "metadata": {},
     "output_type": "display_data"
    }
   ],
   "source": [
    "fig, ax = plt.subplots()\n",
    "\n",
    "\n",
    "ax.plot(energy_grid, func(energy_grid), color=blue, lw=3)\n",
    "\n",
    "ax.set_xlabel(\"x\")\n",
    "ax.set_ylabel(\"probability\")\n"
   ]
  },
  {
   "cell_type": "markdown",
   "id": "5641637b",
   "metadata": {
    "papermill": {
     "duration": 0.002249,
     "end_time": "2024-05-13T23:11:49.424896",
     "exception": false,
     "start_time": "2024-05-13T23:11:49.422647",
     "status": "completed"
    },
    "tags": []
   },
   "source": [
    "## Random Number Generation\n",
    "\n",
    "This is how we can generate random numbers from the prior.\n"
   ]
  },
  {
   "cell_type": "code",
   "execution_count": 7,
   "id": "c4758d5d",
   "metadata": {
    "execution": {
     "iopub.execute_input": "2024-05-13T23:11:49.431393Z",
     "iopub.status.busy": "2024-05-13T23:11:49.429193Z",
     "iopub.status.idle": "2024-05-13T23:11:49.578275Z",
     "shell.execute_reply": "2024-05-13T23:11:49.577936Z"
    },
    "papermill": {
     "duration": 0.153356,
     "end_time": "2024-05-13T23:11:49.579819",
     "exception": false,
     "start_time": "2024-05-13T23:11:49.426463",
     "status": "completed"
    },
    "tags": []
   },
   "outputs": [
    {
     "data": {
      "text/plain": [
       "Text(0, 0.5, 'N')"
      ]
     },
     "execution_count": 7,
     "metadata": {},
     "output_type": "execute_result"
    },
    {
     "data": {
      "image/png": "[encoded data removed]",
      "text/plain": [
       "<Figure size 1040x910 with 1 Axes>"
      ]
     },
     "metadata": {},
     "output_type": "display_data"
    }
   ],
   "source": [
    "\n",
    "\n",
    "u = np.random.uniform(0,1, size=5000)\n",
    "\n",
    "draws = [func.from_unit_cube(x) for x in u]\n",
    "\n",
    "\n",
    "fig, ax = plt.subplots()\n",
    "\n",
    "\n",
    "ax.hist(draws, color=green, bins=50)\n",
    "\n",
    "ax.set_xlabel(\"value\")\n",
    "ax.set_ylabel(\"N\")\n",
    "\n"
   ]
  }
 ],
 "metadata": {
  "jupytext": {
   "formats": "ipynb,md"
  },
  "kernelspec": {
   "display_name": "Python 3 (ipykernel)",
   "language": "python",
   "name": "python3"
  },
  "language_info": {
   "codemirror_mode": {
    "name": "ipython",
    "version": 3
   },
   "file_extension": ".py",
   "mimetype": "text/x-python",
   "name": "python",
   "nbconvert_exporter": "python",
   "pygments_lexer": "ipython3",
   "version": "3.9.13"
  },
  "papermill": {
   "default_parameters": {},
   "duration": 2.928249,
   "end_time": "2024-05-13T23:11:50.017247",
   "environment_variables": {},
   "exception": null,
   "input_path": "Log_normal.ipynb",
   "output_path": "/Users/runner/work/astromodels/astromodels/docs/notebooks/Log_normal.ipynb",
   "parameters": {
    "func_name": "Log_normal",
    "positive_prior": true
   },
   "start_time": "2024-05-13T23:11:47.088998",
   "version": "2.6.0"
  }
 },
 "nbformat": 4,
 "nbformat_minor": 5
}
