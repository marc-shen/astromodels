{
 "cells": [
  {
   "cell_type": "markdown",
   "id": "0ad5d222",
   "metadata": {
    "papermill": {
     "duration": 0.005107,
     "end_time": "2022-10-26T10:29:40.983001",
     "exception": false,
     "start_time": "2022-10-26T10:29:40.977894",
     "status": "completed"
    },
    "tags": []
   },
   "source": [
    "# Log normal"
   ]
  },
  {
   "cell_type": "code",
   "execution_count": 1,
   "id": "dd758180",
   "metadata": {
    "execution": {
     "iopub.execute_input": "2022-10-26T10:29:40.992919Z",
     "iopub.status.busy": "2022-10-26T10:29:40.992204Z",
     "iopub.status.idle": "2022-10-26T10:29:45.125714Z",
     "shell.execute_reply": "2022-10-26T10:29:45.124532Z"
    },
    "nbsphinx": "hidden",
    "papermill": {
     "duration": 4.142678,
     "end_time": "2022-10-26T10:29:45.129994",
     "exception": false,
     "start_time": "2022-10-26T10:29:40.987316",
     "status": "completed"
    },
    "tags": []
   },
   "outputs": [],
   "source": [
    "%%capture\n",
    "\n",
    "import numpy as np\n",
    "\n",
    "import matplotlib.pyplot as plt\n",
    "\n",
    "import warnings\n",
    "warnings.simplefilter(\"ignore\")\n",
    "\n",
    "from astromodels.functions.function import _known_functions\n",
    "\n",
    "\n",
    "from jupyterthemes import jtplot\n",
    "jtplot.style(context=\"talk\", fscale=1, ticks=True, grid=False)\n",
    "%matplotlib inline"
   ]
  },
  {
   "cell_type": "code",
   "execution_count": 2,
   "id": "b0465bb4",
   "metadata": {
    "execution": {
     "iopub.execute_input": "2022-10-26T10:29:45.141474Z",
     "iopub.status.busy": "2022-10-26T10:29:45.140756Z",
     "iopub.status.idle": "2022-10-26T10:29:45.147037Z",
     "shell.execute_reply": "2022-10-26T10:29:45.145719Z"
    },
    "nbsphinx": "hidden",
    "papermill": {
     "duration": 0.015924,
     "end_time": "2022-10-26T10:29:45.150125",
     "exception": false,
     "start_time": "2022-10-26T10:29:45.134201",
     "status": "completed"
    },
    "tags": [
     "parameters"
    ]
   },
   "outputs": [],
   "source": [
    "func_name = \"TbAbs\"\n",
    "\n",
    "positive_prior = False\n"
   ]
  },
  {
   "cell_type": "code",
   "execution_count": 3,
   "id": "03eb8c4e",
   "metadata": {
    "execution": {
     "iopub.execute_input": "2022-10-26T10:29:45.159893Z",
     "iopub.status.busy": "2022-10-26T10:29:45.159243Z",
     "iopub.status.idle": "2022-10-26T10:29:45.170060Z",
     "shell.execute_reply": "2022-10-26T10:29:45.168752Z"
    },
    "papermill": {
     "duration": 0.020154,
     "end_time": "2022-10-26T10:29:45.173470",
     "exception": false,
     "start_time": "2022-10-26T10:29:45.153316",
     "status": "completed"
    },
    "tags": [
     "injected-parameters"
    ]
   },
   "outputs": [],
   "source": [
    "# Parameters\n",
    "func_name = \"Log_normal\"\n",
    "positive_prior = True\n"
   ]
  },
  {
   "cell_type": "code",
   "execution_count": 4,
   "id": "8b7e0545",
   "metadata": {
    "execution": {
     "iopub.execute_input": "2022-10-26T10:29:45.181649Z",
     "iopub.status.busy": "2022-10-26T10:29:45.181231Z",
     "iopub.status.idle": "2022-10-26T10:29:45.193035Z",
     "shell.execute_reply": "2022-10-26T10:29:45.191992Z"
    },
    "lines_to_next_cell": 0,
    "nbsphinx": "hidden",
    "papermill": {
     "duration": 0.019297,
     "end_time": "2022-10-26T10:29:45.196071",
     "exception": false,
     "start_time": "2022-10-26T10:29:45.176774",
     "status": "completed"
    },
    "tags": []
   },
   "outputs": [],
   "source": [
    "func = _known_functions[func_name]()\n",
    "\n",
    "if not positive_prior:\n",
    "\n",
    "\tenergy_grid = np.linspace(-5,5,1000)\n",
    "\n",
    "else:\n",
    "    \n",
    "    energy_grid = np.linspace(0,1,1000)\n",
    "    \n",
    "    \n",
    "    \n",
    "    \n",
    "blue = \"#4152E3\"\n",
    "red = \"#E3414B\"\n",
    "green = \"#41E39E\""
   ]
  },
  {
   "cell_type": "markdown",
   "id": "1003ec90",
   "metadata": {
    "lines_to_next_cell": 0,
    "papermill": {
     "duration": 0.003147,
     "end_time": "2022-10-26T10:29:45.202475",
     "exception": false,
     "start_time": "2022-10-26T10:29:45.199328",
     "status": "completed"
    },
    "tags": []
   },
   "source": [
    "## Description"
   ]
  },
  {
   "cell_type": "code",
   "execution_count": 5,
   "id": "9933456f",
   "metadata": {
    "execution": {
     "iopub.execute_input": "2022-10-26T10:29:45.210447Z",
     "iopub.status.busy": "2022-10-26T10:29:45.210072Z",
     "iopub.status.idle": "2022-10-26T10:29:45.225265Z",
     "shell.execute_reply": "2022-10-26T10:29:45.224113Z"
    },
    "papermill": {
     "duration": 0.023727,
     "end_time": "2022-10-26T10:29:45.229040",
     "exception": false,
     "start_time": "2022-10-26T10:29:45.205313",
     "status": "completed"
    },
    "tags": []
   },
   "outputs": [
    {
     "data": {
      "text/html": [
       "<ul>\n",
       "\n",
       "<li>description: A log normal function</li>\n",
       "\n",
       "<li>formula: $ K \\frac{1}{ x \\sigma \\sqrt{2 \\pi}}\\exp{\\frac{(\\log x/piv - \\mu/piv)^2}{2~(\\sigma)^2}} $</li>\n",
       "\n",
       "<li>parameters: \n",
       "<ul>\n",
       "\n",
       "<li>F: \n",
       "<ul>\n",
       "\n",
       "<li>value: 1.0</li>\n",
       "\n",
       "<li>desc: Integral between 0and +inf. Fix this to 1 to obtain a log Normal distribution</li>\n",
       "\n",
       "<li>min_value: None</li>\n",
       "\n",
       "<li>max_value: None</li>\n",
       "\n",
       "<li>unit: </li>\n",
       "\n",
       "<li>is_normalization: False</li>\n",
       "\n",
       "<li>delta: 0.1</li>\n",
       "\n",
       "<li>free: True</li>\n",
       "\n",
       "</ul>\n",
       "\n",
       "</li>\n",
       "\n",
       "<li>mu: \n",
       "<ul>\n",
       "\n",
       "<li>value: 0.0</li>\n",
       "\n",
       "<li>desc: Central value</li>\n",
       "\n",
       "<li>min_value: None</li>\n",
       "\n",
       "<li>max_value: None</li>\n",
       "\n",
       "<li>unit: </li>\n",
       "\n",
       "<li>is_normalization: False</li>\n",
       "\n",
       "<li>delta: 0.1</li>\n",
       "\n",
       "<li>free: True</li>\n",
       "\n",
       "</ul>\n",
       "\n",
       "</li>\n",
       "\n",
       "<li>sigma: \n",
       "<ul>\n",
       "\n",
       "<li>value: 1.0</li>\n",
       "\n",
       "<li>desc: standard deviation</li>\n",
       "\n",
       "<li>min_value: 1e-12</li>\n",
       "\n",
       "<li>max_value: None</li>\n",
       "\n",
       "<li>unit: </li>\n",
       "\n",
       "<li>is_normalization: False</li>\n",
       "\n",
       "<li>delta: 0.1</li>\n",
       "\n",
       "<li>free: True</li>\n",
       "\n",
       "</ul>\n",
       "\n",
       "</li>\n",
       "\n",
       "<li>piv: \n",
       "<ul>\n",
       "\n",
       "<li>value: 1.0</li>\n",
       "\n",
       "<li>desc: pivot. Leave this to 1 for a proper log normal distribution</li>\n",
       "\n",
       "<li>min_value: None</li>\n",
       "\n",
       "<li>max_value: None</li>\n",
       "\n",
       "<li>unit: </li>\n",
       "\n",
       "<li>is_normalization: False</li>\n",
       "\n",
       "<li>delta: 0.1</li>\n",
       "\n",
       "<li>free: False</li>\n",
       "\n",
       "</ul>\n",
       "\n",
       "</li>\n",
       "\n",
       "</ul>\n",
       "\n",
       "</li>\n",
       "\n",
       "</ul>\n"
      ],
      "text/plain": [
       "  * description: A log normal function\n",
       "  * formula: $ K \\frac{1}{ x \\sigma \\sqrt{2 \\pi}}\\exp{\\frac{(\\log x/piv - \\mu/piv)^2}{2~(\\sigma)^2}}\n",
       "    * $\n",
       "  * parameters:\n",
       "    * F:\n",
       "      * value: 1.0\n",
       "      * desc: Integral between 0and +inf. Fix this to 1 to obtain a log Normal distribution\n",
       "      * min_value: null\n",
       "      * max_value: null\n",
       "      * unit: ''\n",
       "      * is_normalization: false\n",
       "      * delta: 0.1\n",
       "      * free: true\n",
       "    * mu:\n",
       "      * value: 0.0\n",
       "      * desc: Central value\n",
       "      * min_value: null\n",
       "      * max_value: null\n",
       "      * unit: ''\n",
       "      * is_normalization: false\n",
       "      * delta: 0.1\n",
       "      * free: true\n",
       "    * sigma:\n",
       "      * value: 1.0\n",
       "      * desc: standard deviation\n",
       "      * min_value: 1.0e-12\n",
       "      * max_value: null\n",
       "      * unit: ''\n",
       "      * is_normalization: false\n",
       "      * delta: 0.1\n",
       "      * free: true\n",
       "    * piv:\n",
       "      * value: 1.0\n",
       "      * desc: pivot. Leave this to 1 for a proper log normal distribution\n",
       "      * min_value: null\n",
       "      * max_value: null\n",
       "      * unit: ''\n",
       "      * is_normalization: false\n",
       "      * delta: 0.1\n",
       "      * free: false"
      ]
     },
     "metadata": {},
     "output_type": "display_data"
    }
   ],
   "source": [
    "func.display()"
   ]
  },
  {
   "cell_type": "markdown",
   "id": "7889910c",
   "metadata": {
    "papermill": {
     "duration": 0.003867,
     "end_time": "2022-10-26T10:29:45.236985",
     "exception": false,
     "start_time": "2022-10-26T10:29:45.233118",
     "status": "completed"
    },
    "tags": []
   },
   "source": [
    "## Shape \n",
    "\n",
    "The shape of the function. \n",
    "\n",
    "*If this is not a photon model but a prior or linear function then ignore the units as these docs are auto-generated*"
   ]
  },
  {
   "cell_type": "code",
   "execution_count": 6,
   "id": "00110c72",
   "metadata": {
    "execution": {
     "iopub.execute_input": "2022-10-26T10:29:45.245836Z",
     "iopub.status.busy": "2022-10-26T10:29:45.245391Z",
     "iopub.status.idle": "2022-10-26T10:29:45.654668Z",
     "shell.execute_reply": "2022-10-26T10:29:45.653284Z"
    },
    "papermill": {
     "duration": 0.417439,
     "end_time": "2022-10-26T10:29:45.657958",
     "exception": false,
     "start_time": "2022-10-26T10:29:45.240519",
     "status": "completed"
    },
    "tags": [
     "nbsphinx-thumbnail"
    ]
   },
   "outputs": [
    {
     "data": {
      "text/plain": [
       "Text(0, 0.5, 'probability')"
      ]
     },
     "execution_count": 6,
     "metadata": {},
     "output_type": "execute_result"
    },
    {
     "data": {
      "image/png": "[encoded data removed]",
      "text/plain": [
       "<Figure size 1040x910 with 1 Axes>"
      ]
     },
     "metadata": {},
     "output_type": "display_data"
    }
   ],
   "source": [
    "fig, ax = plt.subplots()\n",
    "\n",
    "\n",
    "ax.plot(energy_grid, func(energy_grid), color=blue, lw=3)\n",
    "\n",
    "ax.set_xlabel(\"x\")\n",
    "ax.set_ylabel(\"probability\")\n"
   ]
  },
  {
   "cell_type": "markdown",
   "id": "93ec62bb",
   "metadata": {
    "papermill": {
     "duration": 0.003836,
     "end_time": "2022-10-26T10:29:45.665928",
     "exception": false,
     "start_time": "2022-10-26T10:29:45.662092",
     "status": "completed"
    },
    "tags": []
   },
   "source": [
    "## Random Number Generation\n",
    "\n",
    "This is how we can generate random numbers from the prior.\n"
   ]
  },
  {
   "cell_type": "code",
   "execution_count": 7,
   "id": "3acc2ffd",
   "metadata": {
    "execution": {
     "iopub.execute_input": "2022-10-26T10:29:45.676084Z",
     "iopub.status.busy": "2022-10-26T10:29:45.675628Z",
     "iopub.status.idle": "2022-10-26T10:29:46.106237Z",
     "shell.execute_reply": "2022-10-26T10:29:46.105049Z"
    },
    "papermill": {
     "duration": 0.439338,
     "end_time": "2022-10-26T10:29:46.109555",
     "exception": false,
     "start_time": "2022-10-26T10:29:45.670217",
     "status": "completed"
    },
    "tags": []
   },
   "outputs": [
    {
     "data": {
      "text/plain": [
       "Text(0, 0.5, 'N')"
      ]
     },
     "execution_count": 7,
     "metadata": {},
     "output_type": "execute_result"
    },
    {
     "data": {
      "image/png": "[encoded data removed]",
      "text/plain": [
       "<Figure size 1040x910 with 1 Axes>"
      ]
     },
     "metadata": {},
     "output_type": "display_data"
    }
   ],
   "source": [
    "\n",
    "\n",
    "u = np.random.uniform(0,1, size=5000)\n",
    "\n",
    "draws = [func.from_unit_cube(x) for x in u]\n",
    "\n",
    "\n",
    "fig, ax = plt.subplots()\n",
    "\n",
    "\n",
    "ax.hist(draws, color=green, bins=50)\n",
    "\n",
    "ax.set_xlabel(\"value\")\n",
    "ax.set_ylabel(\"N\")\n",
    "\n"
   ]
  }
 ],
 "metadata": {
  "jupytext": {
   "formats": "ipynb,md"
  },
  "kernelspec": {
   "display_name": "Python 3 (ipykernel)",
   "language": "python",
   "name": "python3"
  },
  "language_info": {
   "codemirror_mode": {
    "name": "ipython",
    "version": 3
   },
   "file_extension": ".py",
   "mimetype": "text/x-python",
   "name": "python",
   "nbconvert_exporter": "python",
   "pygments_lexer": "ipython3",
   "version": "3.9.14"
  },
  "papermill": {
   "default_parameters": {},
   "duration": 7.477571,
   "end_time": "2022-10-26T10:29:46.893915",
   "environment_variables": {},
   "exception": null,
   "input_path": "Log_normal.ipynb",
   "output_path": "/Users/runner/work/astromodels/astromodels/docs/notebooks/Log_normal.ipynb",
   "parameters": {
    "func_name": "Log_normal",
    "positive_prior": true
   },
   "start_time": "2022-10-26T10:29:39.416344",
   "version": "2.4.0"
  }
 },
 "nbformat": 4,
 "nbformat_minor": 5
}
