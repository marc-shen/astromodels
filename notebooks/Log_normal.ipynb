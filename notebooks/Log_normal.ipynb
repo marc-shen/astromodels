{
 "cells": [
  {
   "cell_type": "markdown",
   "id": "ddddd3a4",
   "metadata": {
    "papermill": {
     "duration": 0.007812,
     "end_time": "2024-02-06T22:37:27.425935",
     "exception": false,
     "start_time": "2024-02-06T22:37:27.418123",
     "status": "completed"
    },
    "tags": []
   },
   "source": [
    "# Log normal"
   ]
  },
  {
   "cell_type": "code",
   "execution_count": 1,
   "id": "b1a2a422",
   "metadata": {
    "execution": {
     "iopub.execute_input": "2024-02-06T22:37:27.439942Z",
     "iopub.status.busy": "2024-02-06T22:37:27.439237Z",
     "iopub.status.idle": "2024-02-06T22:37:33.120117Z",
     "shell.execute_reply": "2024-02-06T22:37:33.118083Z"
    },
    "nbsphinx": "hidden",
    "papermill": {
     "duration": 5.695197,
     "end_time": "2024-02-06T22:37:33.126600",
     "exception": false,
     "start_time": "2024-02-06T22:37:27.431403",
     "status": "completed"
    },
    "tags": []
   },
   "outputs": [],
   "source": [
    "%%capture\n",
    "\n",
    "import numpy as np\n",
    "\n",
    "import matplotlib.pyplot as plt\n",
    "\n",
    "import warnings\n",
    "warnings.simplefilter(\"ignore\")\n",
    "\n",
    "from astromodels.functions.function import _known_functions\n",
    "\n",
    "\n",
    "from jupyterthemes import jtplot\n",
    "jtplot.style(context=\"talk\", fscale=1, ticks=True, grid=False)\n",
    "%matplotlib inline"
   ]
  },
  {
   "cell_type": "code",
   "execution_count": 2,
   "id": "17efe9fc",
   "metadata": {
    "execution": {
     "iopub.execute_input": "2024-02-06T22:37:33.136911Z",
     "iopub.status.busy": "2024-02-06T22:37:33.136310Z",
     "iopub.status.idle": "2024-02-06T22:37:33.147253Z",
     "shell.execute_reply": "2024-02-06T22:37:33.145497Z"
    },
    "nbsphinx": "hidden",
    "papermill": {
     "duration": 0.023083,
     "end_time": "2024-02-06T22:37:33.153447",
     "exception": false,
     "start_time": "2024-02-06T22:37:33.130364",
     "status": "completed"
    },
    "tags": [
     "parameters"
    ]
   },
   "outputs": [],
   "source": [
    "func_name = \"TbAbs\"\n",
    "\n",
    "positive_prior = False\n"
   ]
  },
  {
   "cell_type": "code",
   "execution_count": 3,
   "id": "9c978368",
   "metadata": {
    "execution": {
     "iopub.execute_input": "2024-02-06T22:37:33.162493Z",
     "iopub.status.busy": "2024-02-06T22:37:33.161921Z",
     "iopub.status.idle": "2024-02-06T22:37:33.172354Z",
     "shell.execute_reply": "2024-02-06T22:37:33.170500Z"
    },
    "papermill": {
     "duration": 0.02147,
     "end_time": "2024-02-06T22:37:33.178184",
     "exception": false,
     "start_time": "2024-02-06T22:37:33.156714",
     "status": "completed"
    },
    "tags": [
     "injected-parameters"
    ]
   },
   "outputs": [],
   "source": [
    "# Parameters\n",
    "func_name = \"Log_normal\"\n",
    "positive_prior = True\n"
   ]
  },
  {
   "cell_type": "code",
   "execution_count": 4,
   "id": "b5411985",
   "metadata": {
    "execution": {
     "iopub.execute_input": "2024-02-06T22:37:33.187289Z",
     "iopub.status.busy": "2024-02-06T22:37:33.186744Z",
     "iopub.status.idle": "2024-02-06T22:37:33.200777Z",
     "shell.execute_reply": "2024-02-06T22:37:33.198360Z"
    },
    "lines_to_next_cell": 0,
    "nbsphinx": "hidden",
    "papermill": {
     "duration": 0.024977,
     "end_time": "2024-02-06T22:37:33.206431",
     "exception": false,
     "start_time": "2024-02-06T22:37:33.181454",
     "status": "completed"
    },
    "tags": []
   },
   "outputs": [],
   "source": [
    "func = _known_functions[func_name]()\n",
    "\n",
    "if not positive_prior:\n",
    "\n",
    "\tenergy_grid = np.linspace(-5,5,1000)\n",
    "\n",
    "else:\n",
    "    \n",
    "    energy_grid = np.linspace(0,1,1000)\n",
    "    \n",
    "    \n",
    "    \n",
    "    \n",
    "blue = \"#4152E3\"\n",
    "red = \"#E3414B\"\n",
    "green = \"#41E39E\""
   ]
  },
  {
   "cell_type": "markdown",
   "id": "3e4bc6e1",
   "metadata": {
    "lines_to_next_cell": 0,
    "papermill": {
     "duration": 0.003636,
     "end_time": "2024-02-06T22:37:33.213489",
     "exception": false,
     "start_time": "2024-02-06T22:37:33.209853",
     "status": "completed"
    },
    "tags": []
   },
   "source": [
    "## Description"
   ]
  },
  {
   "cell_type": "code",
   "execution_count": 5,
   "id": "22be2f6a",
   "metadata": {
    "execution": {
     "iopub.execute_input": "2024-02-06T22:37:33.223364Z",
     "iopub.status.busy": "2024-02-06T22:37:33.222827Z",
     "iopub.status.idle": "2024-02-06T22:37:33.242796Z",
     "shell.execute_reply": "2024-02-06T22:37:33.240082Z"
    },
    "papermill": {
     "duration": 0.031701,
     "end_time": "2024-02-06T22:37:33.248617",
     "exception": false,
     "start_time": "2024-02-06T22:37:33.216916",
     "status": "completed"
    },
    "tags": []
   },
   "outputs": [
    {
     "data": {
      "text/html": [
       "<ul>\n",
       "\n",
       "<li>description: A log normal function</li>\n",
       "\n",
       "<li>formula: $ K \\frac{1}{ x \\sigma \\sqrt{2 \\pi}}\\exp{\\frac{(\\log x/piv - \\mu/piv)^2}{2~(\\sigma)^2}} $</li>\n",
       "\n",
       "<li>parameters: \n",
       "<ul>\n",
       "\n",
       "<li>F: \n",
       "<ul>\n",
       "\n",
       "<li>value: 1.0</li>\n",
       "\n",
       "<li>desc: Integral between 0and +inf. Fix this to 1 to obtain a log Normal distribution</li>\n",
       "\n",
       "<li>min_value: None</li>\n",
       "\n",
       "<li>max_value: None</li>\n",
       "\n",
       "<li>unit: </li>\n",
       "\n",
       "<li>is_normalization: False</li>\n",
       "\n",
       "<li>delta: 0.1</li>\n",
       "\n",
       "<li>free: True</li>\n",
       "\n",
       "</ul>\n",
       "\n",
       "</li>\n",
       "\n",
       "<li>mu: \n",
       "<ul>\n",
       "\n",
       "<li>value: 0.0</li>\n",
       "\n",
       "<li>desc: Central value</li>\n",
       "\n",
       "<li>min_value: None</li>\n",
       "\n",
       "<li>max_value: None</li>\n",
       "\n",
       "<li>unit: </li>\n",
       "\n",
       "<li>is_normalization: False</li>\n",
       "\n",
       "<li>delta: 0.1</li>\n",
       "\n",
       "<li>free: True</li>\n",
       "\n",
       "</ul>\n",
       "\n",
       "</li>\n",
       "\n",
       "<li>sigma: \n",
       "<ul>\n",
       "\n",
       "<li>value: 1.0</li>\n",
       "\n",
       "<li>desc: standard deviation</li>\n",
       "\n",
       "<li>min_value: 1e-12</li>\n",
       "\n",
       "<li>max_value: None</li>\n",
       "\n",
       "<li>unit: </li>\n",
       "\n",
       "<li>is_normalization: False</li>\n",
       "\n",
       "<li>delta: 0.1</li>\n",
       "\n",
       "<li>free: True</li>\n",
       "\n",
       "</ul>\n",
       "\n",
       "</li>\n",
       "\n",
       "<li>piv: \n",
       "<ul>\n",
       "\n",
       "<li>value: 1.0</li>\n",
       "\n",
       "<li>desc: pivot. Leave this to 1 for a proper log normal distribution</li>\n",
       "\n",
       "<li>min_value: None</li>\n",
       "\n",
       "<li>max_value: None</li>\n",
       "\n",
       "<li>unit: </li>\n",
       "\n",
       "<li>is_normalization: False</li>\n",
       "\n",
       "<li>delta: 0.1</li>\n",
       "\n",
       "<li>free: False</li>\n",
       "\n",
       "</ul>\n",
       "\n",
       "</li>\n",
       "\n",
       "</ul>\n",
       "\n",
       "</li>\n",
       "\n",
       "</ul>\n"
      ],
      "text/plain": [
       "  * description: A log normal function\n",
       "  * formula: $ K \\frac{1}{ x \\sigma \\sqrt{2 \\pi}}\\exp{\\frac{(\\log x/piv - \\mu/piv)^2}{2~(\\sigma)^2}}\n",
       "    * $\n",
       "  * parameters:\n",
       "    * F:\n",
       "      * value: 1.0\n",
       "      * desc: Integral between 0and +inf. Fix this to 1 to obtain a log Normal distribution\n",
       "      * min_value: null\n",
       "      * max_value: null\n",
       "      * unit: ''\n",
       "      * is_normalization: false\n",
       "      * delta: 0.1\n",
       "      * free: true\n",
       "    * mu:\n",
       "      * value: 0.0\n",
       "      * desc: Central value\n",
       "      * min_value: null\n",
       "      * max_value: null\n",
       "      * unit: ''\n",
       "      * is_normalization: false\n",
       "      * delta: 0.1\n",
       "      * free: true\n",
       "    * sigma:\n",
       "      * value: 1.0\n",
       "      * desc: standard deviation\n",
       "      * min_value: 1.0e-12\n",
       "      * max_value: null\n",
       "      * unit: ''\n",
       "      * is_normalization: false\n",
       "      * delta: 0.1\n",
       "      * free: true\n",
       "    * piv:\n",
       "      * value: 1.0\n",
       "      * desc: pivot. Leave this to 1 for a proper log normal distribution\n",
       "      * min_value: null\n",
       "      * max_value: null\n",
       "      * unit: ''\n",
       "      * is_normalization: false\n",
       "      * delta: 0.1\n",
       "      * free: false"
      ]
     },
     "metadata": {},
     "output_type": "display_data"
    }
   ],
   "source": [
    "func.display()"
   ]
  },
  {
   "cell_type": "markdown",
   "id": "80325f2f",
   "metadata": {
    "papermill": {
     "duration": 0.003882,
     "end_time": "2024-02-06T22:37:33.256600",
     "exception": false,
     "start_time": "2024-02-06T22:37:33.252718",
     "status": "completed"
    },
    "tags": []
   },
   "source": [
    "## Shape \n",
    "\n",
    "The shape of the function. \n",
    "\n",
    "*If this is not a photon model but a prior or linear function then ignore the units as these docs are auto-generated*"
   ]
  },
  {
   "cell_type": "code",
   "execution_count": 6,
   "id": "be257193",
   "metadata": {
    "execution": {
     "iopub.execute_input": "2024-02-06T22:37:33.314885Z",
     "iopub.status.busy": "2024-02-06T22:37:33.314294Z",
     "iopub.status.idle": "2024-02-06T22:37:33.671092Z",
     "shell.execute_reply": "2024-02-06T22:37:33.666971Z"
    },
    "papermill": {
     "duration": 0.417882,
     "end_time": "2024-02-06T22:37:33.678155",
     "exception": false,
     "start_time": "2024-02-06T22:37:33.260273",
     "status": "completed"
    },
    "tags": [
     "nbsphinx-thumbnail"
    ]
   },
   "outputs": [
    {
     "data": {
      "text/plain": [
       "Text(0, 0.5, 'probability')"
      ]
     },
     "execution_count": 6,
     "metadata": {},
     "output_type": "execute_result"
    },
    {
     "data": {
      "image/png": "[encoded data removed]",
      "text/plain": [
       "<Figure size 1040x910 with 1 Axes>"
      ]
     },
     "metadata": {},
     "output_type": "display_data"
    }
   ],
   "source": [
    "fig, ax = plt.subplots()\n",
    "\n",
    "\n",
    "ax.plot(energy_grid, func(energy_grid), color=blue, lw=3)\n",
    "\n",
    "ax.set_xlabel(\"x\")\n",
    "ax.set_ylabel(\"probability\")\n"
   ]
  },
  {
   "cell_type": "markdown",
   "id": "45c905ab",
   "metadata": {
    "papermill": {
     "duration": 0.007083,
     "end_time": "2024-02-06T22:37:33.691669",
     "exception": false,
     "start_time": "2024-02-06T22:37:33.684586",
     "status": "completed"
    },
    "tags": []
   },
   "source": [
    "## Random Number Generation\n",
    "\n",
    "This is how we can generate random numbers from the prior.\n"
   ]
  },
  {
   "cell_type": "code",
   "execution_count": 7,
   "id": "3aba65d6",
   "metadata": {
    "execution": {
     "iopub.execute_input": "2024-02-06T22:37:33.709559Z",
     "iopub.status.busy": "2024-02-06T22:37:33.707803Z",
     "iopub.status.idle": "2024-02-06T22:37:34.335811Z",
     "shell.execute_reply": "2024-02-06T22:37:34.332120Z"
    },
    "papermill": {
     "duration": 0.64622,
     "end_time": "2024-02-06T22:37:34.344954",
     "exception": false,
     "start_time": "2024-02-06T22:37:33.698734",
     "status": "completed"
    },
    "tags": []
   },
   "outputs": [
    {
     "data": {
      "text/plain": [
       "Text(0, 0.5, 'N')"
      ]
     },
     "execution_count": 7,
     "metadata": {},
     "output_type": "execute_result"
    },
    {
     "data": {
      "image/png": "[encoded data removed]",
      "text/plain": [
       "<Figure size 1040x910 with 1 Axes>"
      ]
     },
     "metadata": {},
     "output_type": "display_data"
    }
   ],
   "source": [
    "\n",
    "\n",
    "u = np.random.uniform(0,1, size=5000)\n",
    "\n",
    "draws = [func.from_unit_cube(x) for x in u]\n",
    "\n",
    "\n",
    "fig, ax = plt.subplots()\n",
    "\n",
    "\n",
    "ax.hist(draws, color=green, bins=50)\n",
    "\n",
    "ax.set_xlabel(\"value\")\n",
    "ax.set_ylabel(\"N\")\n",
    "\n"
   ]
  }
 ],
 "metadata": {
  "jupytext": {
   "formats": "ipynb,md"
  },
  "kernelspec": {
   "display_name": "Python 3 (ipykernel)",
   "language": "python",
   "name": "python3"
  },
  "language_info": {
   "codemirror_mode": {
    "name": "ipython",
    "version": 3
   },
   "file_extension": ".py",
   "mimetype": "text/x-python",
   "name": "python",
   "nbconvert_exporter": "python",
   "pygments_lexer": "ipython3",
   "version": "3.9.18"
  },
  "papermill": {
   "default_parameters": {},
   "duration": 9.43631,
   "end_time": "2024-02-06T22:37:35.523851",
   "environment_variables": {},
   "exception": null,
   "input_path": "Log_normal.ipynb",
   "output_path": "/Users/runner/work/astromodels/astromodels/docs/notebooks/Log_normal.ipynb",
   "parameters": {
    "func_name": "Log_normal",
    "positive_prior": true
   },
   "start_time": "2024-02-06T22:37:26.087541",
   "version": "2.5.0"
  }
 },
 "nbformat": 4,
 "nbformat_minor": 5
}
