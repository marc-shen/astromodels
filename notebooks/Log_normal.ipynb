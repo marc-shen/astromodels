{
 "cells": [
  {
   "cell_type": "markdown",
   "id": "c842bc95",
   "metadata": {
    "papermill": {
     "duration": 0.005627,
     "end_time": "2025-04-30T17:03:12.300158",
     "exception": false,
     "start_time": "2025-04-30T17:03:12.294531",
     "status": "completed"
    },
    "tags": []
   },
   "source": [
    "# Log normal"
   ]
  },
  {
   "cell_type": "code",
   "execution_count": 1,
   "id": "e833545d",
   "metadata": {
    "execution": {
     "iopub.execute_input": "2025-04-30T17:03:12.309899Z",
     "iopub.status.busy": "2025-04-30T17:03:12.309298Z",
     "iopub.status.idle": "2025-04-30T17:03:13.737238Z",
     "shell.execute_reply": "2025-04-30T17:03:13.736613Z"
    },
    "nbsphinx": "hidden",
    "papermill": {
     "duration": 1.434481,
     "end_time": "2025-04-30T17:03:13.738581",
     "exception": false,
     "start_time": "2025-04-30T17:03:12.304100",
     "status": "completed"
    },
    "tags": []
   },
   "outputs": [],
   "source": [
    "%%capture\n",
    "\n",
    "import numpy as np\n",
    "\n",
    "import matplotlib.pyplot as plt\n",
    "\n",
    "import warnings\n",
    "warnings.simplefilter(\"ignore\")\n",
    "\n",
    "from astromodels.functions.function import _known_functions\n",
    "\n",
    "\n",
    "from jupyterthemes import jtplot\n",
    "jtplot.style(context=\"talk\", fscale=1, ticks=True, grid=False)\n",
    "%matplotlib inline"
   ]
  },
  {
   "cell_type": "code",
   "execution_count": 2,
   "id": "302c3f3b",
   "metadata": {
    "execution": {
     "iopub.execute_input": "2025-04-30T17:03:13.741713Z",
     "iopub.status.busy": "2025-04-30T17:03:13.741352Z",
     "iopub.status.idle": "2025-04-30T17:03:13.749768Z",
     "shell.execute_reply": "2025-04-30T17:03:13.749318Z"
    },
    "nbsphinx": "hidden",
    "papermill": {
     "duration": 0.011051,
     "end_time": "2025-04-30T17:03:13.750884",
     "exception": false,
     "start_time": "2025-04-30T17:03:13.739833",
     "status": "completed"
    },
    "tags": [
     "parameters"
    ]
   },
   "outputs": [],
   "source": [
    "func_name = \"TbAbs\"\n",
    "\n",
    "positive_prior = False\n"
   ]
  },
  {
   "cell_type": "code",
   "execution_count": 3,
   "id": "a6bbb4c4",
   "metadata": {
    "execution": {
     "iopub.execute_input": "2025-04-30T17:03:13.753766Z",
     "iopub.status.busy": "2025-04-30T17:03:13.753599Z",
     "iopub.status.idle": "2025-04-30T17:03:13.761698Z",
     "shell.execute_reply": "2025-04-30T17:03:13.761319Z"
    },
    "papermill": {
     "duration": 0.010746,
     "end_time": "2025-04-30T17:03:13.762794",
     "exception": false,
     "start_time": "2025-04-30T17:03:13.752048",
     "status": "completed"
    },
    "tags": [
     "injected-parameters"
    ]
   },
   "outputs": [],
   "source": [
    "# Parameters\n",
    "func_name = \"Log_normal\"\n",
    "positive_prior = True\n"
   ]
  },
  {
   "cell_type": "code",
   "execution_count": 4,
   "id": "3e3fc09c",
   "metadata": {
    "execution": {
     "iopub.execute_input": "2025-04-30T17:03:13.765513Z",
     "iopub.status.busy": "2025-04-30T17:03:13.765369Z",
     "iopub.status.idle": "2025-04-30T17:03:13.774311Z",
     "shell.execute_reply": "2025-04-30T17:03:13.773925Z"
    },
    "lines_to_next_cell": 0,
    "nbsphinx": "hidden",
    "papermill": {
     "duration": 0.011454,
     "end_time": "2025-04-30T17:03:13.775418",
     "exception": false,
     "start_time": "2025-04-30T17:03:13.763964",
     "status": "completed"
    },
    "tags": []
   },
   "outputs": [],
   "source": [
    "func = _known_functions[func_name]()\n",
    "\n",
    "if not positive_prior:\n",
    "\n",
    "\tenergy_grid = np.linspace(-5,5,1000)\n",
    "\n",
    "else:\n",
    "    \n",
    "    energy_grid = np.linspace(0,1,1000)\n",
    "    \n",
    "    \n",
    "    \n",
    "    \n",
    "blue = \"#4152E3\"\n",
    "red = \"#E3414B\"\n",
    "green = \"#41E39E\""
   ]
  },
  {
   "cell_type": "markdown",
   "id": "5ef5da9c",
   "metadata": {
    "lines_to_next_cell": 0,
    "papermill": {
     "duration": 0.001045,
     "end_time": "2025-04-30T17:03:13.777472",
     "exception": false,
     "start_time": "2025-04-30T17:03:13.776427",
     "status": "completed"
    },
    "tags": []
   },
   "source": [
    "## Description"
   ]
  },
  {
   "cell_type": "code",
   "execution_count": 5,
   "id": "4ccef514",
   "metadata": {
    "execution": {
     "iopub.execute_input": "2025-04-30T17:03:13.780261Z",
     "iopub.status.busy": "2025-04-30T17:03:13.780101Z",
     "iopub.status.idle": "2025-04-30T17:03:13.784865Z",
     "shell.execute_reply": "2025-04-30T17:03:13.784506Z"
    },
    "papermill": {
     "duration": 0.007541,
     "end_time": "2025-04-30T17:03:13.785952",
     "exception": false,
     "start_time": "2025-04-30T17:03:13.778411",
     "status": "completed"
    },
    "tags": []
   },
   "outputs": [
    {
     "data": {
      "text/html": [
       "<ul>\n",
       "\n",
       "<li>description: A log normal function</li>\n",
       "\n",
       "<li>formula: $ K \\frac{1}{ x \\sigma \\sqrt{2 \\pi}}\\exp{\\frac{(\\log x/piv - \\mu/piv)^2}{2~(\\sigma)^2}} $</li>\n",
       "\n",
       "<li>parameters: \n",
       "<ul>\n",
       "\n",
       "<li>F: \n",
       "<ul>\n",
       "\n",
       "<li>value: 1.0</li>\n",
       "\n",
       "<li>desc: Integral between 0and +inf. Fix this to 1 to obtain a log Normal distribution</li>\n",
       "\n",
       "<li>min_value: None</li>\n",
       "\n",
       "<li>max_value: None</li>\n",
       "\n",
       "<li>unit: </li>\n",
       "\n",
       "<li>is_normalization: False</li>\n",
       "\n",
       "<li>delta: 0.1</li>\n",
       "\n",
       "<li>free: True</li>\n",
       "\n",
       "</ul>\n",
       "\n",
       "</li>\n",
       "\n",
       "<li>mu: \n",
       "<ul>\n",
       "\n",
       "<li>value: 0.0</li>\n",
       "\n",
       "<li>desc: Central value</li>\n",
       "\n",
       "<li>min_value: None</li>\n",
       "\n",
       "<li>max_value: None</li>\n",
       "\n",
       "<li>unit: </li>\n",
       "\n",
       "<li>is_normalization: False</li>\n",
       "\n",
       "<li>delta: 0.1</li>\n",
       "\n",
       "<li>free: True</li>\n",
       "\n",
       "</ul>\n",
       "\n",
       "</li>\n",
       "\n",
       "<li>sigma: \n",
       "<ul>\n",
       "\n",
       "<li>value: 1.0</li>\n",
       "\n",
       "<li>desc: standard deviation</li>\n",
       "\n",
       "<li>min_value: 1e-12</li>\n",
       "\n",
       "<li>max_value: None</li>\n",
       "\n",
       "<li>unit: </li>\n",
       "\n",
       "<li>is_normalization: False</li>\n",
       "\n",
       "<li>delta: 0.1</li>\n",
       "\n",
       "<li>free: True</li>\n",
       "\n",
       "</ul>\n",
       "\n",
       "</li>\n",
       "\n",
       "<li>piv: \n",
       "<ul>\n",
       "\n",
       "<li>value: 1.0</li>\n",
       "\n",
       "<li>desc: pivot. Leave this to 1 for a proper log normal distribution</li>\n",
       "\n",
       "<li>min_value: None</li>\n",
       "\n",
       "<li>max_value: None</li>\n",
       "\n",
       "<li>unit: </li>\n",
       "\n",
       "<li>is_normalization: False</li>\n",
       "\n",
       "<li>delta: 0.1</li>\n",
       "\n",
       "<li>free: False</li>\n",
       "\n",
       "</ul>\n",
       "\n",
       "</li>\n",
       "\n",
       "</ul>\n",
       "\n",
       "</li>\n",
       "\n",
       "</ul>\n"
      ],
      "text/plain": [
       "  * description: A log normal function\n",
       "  * formula: $ K \\frac{1}{ x \\sigma \\sqrt{2 \\pi}}\\exp{\\frac{(\\log x/piv - \\mu/piv)^2}{2~(\\sigma)^2}}\n",
       "    * $\n",
       "  * parameters:\n",
       "    * F:\n",
       "      * value: 1.0\n",
       "      * desc: Integral between 0and +inf. Fix this to 1 to obtain a log Normal distribution\n",
       "      * min_value: null\n",
       "      * max_value: null\n",
       "      * unit: ''\n",
       "      * is_normalization: false\n",
       "      * delta: 0.1\n",
       "      * free: true\n",
       "    * mu:\n",
       "      * value: 0.0\n",
       "      * desc: Central value\n",
       "      * min_value: null\n",
       "      * max_value: null\n",
       "      * unit: ''\n",
       "      * is_normalization: false\n",
       "      * delta: 0.1\n",
       "      * free: true\n",
       "    * sigma:\n",
       "      * value: 1.0\n",
       "      * desc: standard deviation\n",
       "      * min_value: 1.0e-12\n",
       "      * max_value: null\n",
       "      * unit: ''\n",
       "      * is_normalization: false\n",
       "      * delta: 0.1\n",
       "      * free: true\n",
       "    * piv:\n",
       "      * value: 1.0\n",
       "      * desc: pivot. Leave this to 1 for a proper log normal distribution\n",
       "      * min_value: null\n",
       "      * max_value: null\n",
       "      * unit: ''\n",
       "      * is_normalization: false\n",
       "      * delta: 0.1\n",
       "      * free: false"
      ]
     },
     "metadata": {},
     "output_type": "display_data"
    }
   ],
   "source": [
    "func.display()"
   ]
  },
  {
   "cell_type": "markdown",
   "id": "28de6c40",
   "metadata": {
    "papermill": {
     "duration": 0.001487,
     "end_time": "2025-04-30T17:03:13.788685",
     "exception": false,
     "start_time": "2025-04-30T17:03:13.787198",
     "status": "completed"
    },
    "tags": []
   },
   "source": [
    "## Shape \n",
    "\n",
    "The shape of the function. \n",
    "\n",
    "*If this is not a photon model but a prior or linear function then ignore the units as these docs are auto-generated*"
   ]
  },
  {
   "cell_type": "code",
   "execution_count": 6,
   "id": "356812e0",
   "metadata": {
    "execution": {
     "iopub.execute_input": "2025-04-30T17:03:13.792189Z",
     "iopub.status.busy": "2025-04-30T17:03:13.791947Z",
     "iopub.status.idle": "2025-04-30T17:03:13.871440Z",
     "shell.execute_reply": "2025-04-30T17:03:13.871108Z"
    },
    "papermill": {
     "duration": 0.082727,
     "end_time": "2025-04-30T17:03:13.872650",
     "exception": false,
     "start_time": "2025-04-30T17:03:13.789923",
     "status": "completed"
    },
    "tags": [
     "nbsphinx-thumbnail"
    ]
   },
   "outputs": [
    {
     "data": {
      "text/plain": [
       "Text(0, 0.5, 'probability')"
      ]
     },
     "execution_count": 6,
     "metadata": {},
     "output_type": "execute_result"
    },
    {
     "data": {
      "image/png": "[encoded data removed]",
      "text/plain": [
       "<Figure size 1040x910 with 1 Axes>"
      ]
     },
     "metadata": {},
     "output_type": "display_data"
    }
   ],
   "source": [
    "fig, ax = plt.subplots()\n",
    "\n",
    "\n",
    "ax.plot(energy_grid, func(energy_grid), color=blue, lw=3)\n",
    "\n",
    "ax.set_xlabel(\"x\")\n",
    "ax.set_ylabel(\"probability\")\n"
   ]
  },
  {
   "cell_type": "markdown",
   "id": "f53b5d1a",
   "metadata": {
    "papermill": {
     "duration": 0.001598,
     "end_time": "2025-04-30T17:03:13.875913",
     "exception": false,
     "start_time": "2025-04-30T17:03:13.874315",
     "status": "completed"
    },
    "tags": []
   },
   "source": [
    "## Random Number Generation\n",
    "\n",
    "This is how we can generate random numbers from the prior.\n"
   ]
  },
  {
   "cell_type": "code",
   "execution_count": 7,
   "id": "a7e80ea2",
   "metadata": {
    "execution": {
     "iopub.execute_input": "2025-04-30T17:03:13.879508Z",
     "iopub.status.busy": "2025-04-30T17:03:13.879332Z",
     "iopub.status.idle": "2025-04-30T17:03:13.985548Z",
     "shell.execute_reply": "2025-04-30T17:03:13.985122Z"
    },
    "papermill": {
     "duration": 0.109319,
     "end_time": "2025-04-30T17:03:13.986698",
     "exception": false,
     "start_time": "2025-04-30T17:03:13.877379",
     "status": "completed"
    },
    "tags": []
   },
   "outputs": [
    {
     "data": {
      "text/plain": [
       "Text(0, 0.5, 'N')"
      ]
     },
     "execution_count": 7,
     "metadata": {},
     "output_type": "execute_result"
    },
    {
     "data": {
      "image/png": "[encoded data removed]",
      "text/plain": [
       "<Figure size 1040x910 with 1 Axes>"
      ]
     },
     "metadata": {},
     "output_type": "display_data"
    }
   ],
   "source": [
    "\n",
    "\n",
    "u = np.random.uniform(0,1, size=5000)\n",
    "\n",
    "draws = [func.from_unit_cube(x) for x in u]\n",
    "\n",
    "\n",
    "fig, ax = plt.subplots()\n",
    "\n",
    "\n",
    "ax.hist(draws, color=green, bins=50)\n",
    "\n",
    "ax.set_xlabel(\"value\")\n",
    "ax.set_ylabel(\"N\")\n",
    "\n"
   ]
  }
 ],
 "metadata": {
  "jupytext": {
   "formats": "ipynb,md"
  },
  "kernelspec": {
   "display_name": "Python 3 (ipykernel)",
   "language": "python",
   "name": "python3"
  },
  "language_info": {
   "codemirror_mode": {
    "name": "ipython",
    "version": 3
   },
   "file_extension": ".py",
   "mimetype": "text/x-python",
   "name": "python",
   "nbconvert_exporter": "python",
   "pygments_lexer": "ipython3",
   "version": "3.9.13"
  },
  "papermill": {
   "default_parameters": {},
   "duration": 2.548623,
   "end_time": "2025-04-30T17:03:14.329895",
   "environment_variables": {},
   "exception": null,
   "input_path": "Log_normal.ipynb",
   "output_path": "/Users/runner/work/astromodels/astromodels/docs/notebooks/Log_normal.ipynb",
   "parameters": {
    "func_name": "Log_normal",
    "positive_prior": true
   },
   "start_time": "2025-04-30T17:03:11.781272",
   "version": "2.6.0"
  }
 },
 "nbformat": 4,
 "nbformat_minor": 5
}
