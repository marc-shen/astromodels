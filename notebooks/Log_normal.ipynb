{
 "cells": [
  {
   "cell_type": "markdown",
   "id": "457ffb71",
   "metadata": {
    "papermill": {
     "duration": 0.009032,
     "end_time": "2025-04-29T20:14:44.117084",
     "exception": false,
     "start_time": "2025-04-29T20:14:44.108052",
     "status": "completed"
    },
    "tags": []
   },
   "source": [
    "# Log normal"
   ]
  },
  {
   "cell_type": "code",
   "execution_count": 1,
   "id": "06173edb",
   "metadata": {
    "execution": {
     "iopub.execute_input": "2025-04-29T20:14:44.128674Z",
     "iopub.status.busy": "2025-04-29T20:14:44.128189Z",
     "iopub.status.idle": "2025-04-29T20:14:45.536073Z",
     "shell.execute_reply": "2025-04-29T20:14:45.535550Z"
    },
    "nbsphinx": "hidden",
    "papermill": {
     "duration": 1.414879,
     "end_time": "2025-04-29T20:14:45.537326",
     "exception": false,
     "start_time": "2025-04-29T20:14:44.122447",
     "status": "completed"
    },
    "tags": []
   },
   "outputs": [],
   "source": [
    "%%capture\n",
    "\n",
    "import numpy as np\n",
    "\n",
    "import matplotlib.pyplot as plt\n",
    "\n",
    "import warnings\n",
    "warnings.simplefilter(\"ignore\")\n",
    "\n",
    "from astromodels.functions.function import _known_functions\n",
    "\n",
    "\n",
    "from jupyterthemes import jtplot\n",
    "jtplot.style(context=\"talk\", fscale=1, ticks=True, grid=False)\n",
    "%matplotlib inline"
   ]
  },
  {
   "cell_type": "code",
   "execution_count": 2,
   "id": "a59eecca",
   "metadata": {
    "execution": {
     "iopub.execute_input": "2025-04-29T20:14:45.540351Z",
     "iopub.status.busy": "2025-04-29T20:14:45.540030Z",
     "iopub.status.idle": "2025-04-29T20:14:45.542250Z",
     "shell.execute_reply": "2025-04-29T20:14:45.541915Z"
    },
    "nbsphinx": "hidden",
    "papermill": {
     "duration": 0.004737,
     "end_time": "2025-04-29T20:14:45.543288",
     "exception": false,
     "start_time": "2025-04-29T20:14:45.538551",
     "status": "completed"
    },
    "tags": [
     "parameters"
    ]
   },
   "outputs": [],
   "source": [
    "func_name = \"TbAbs\"\n",
    "\n",
    "positive_prior = False\n"
   ]
  },
  {
   "cell_type": "code",
   "execution_count": 3,
   "id": "0dd02b5e",
   "metadata": {
    "execution": {
     "iopub.execute_input": "2025-04-29T20:14:45.545805Z",
     "iopub.status.busy": "2025-04-29T20:14:45.545660Z",
     "iopub.status.idle": "2025-04-29T20:14:45.552359Z",
     "shell.execute_reply": "2025-04-29T20:14:45.551955Z"
    },
    "papermill": {
     "duration": 0.009095,
     "end_time": "2025-04-29T20:14:45.553372",
     "exception": false,
     "start_time": "2025-04-29T20:14:45.544277",
     "status": "completed"
    },
    "tags": [
     "injected-parameters"
    ]
   },
   "outputs": [],
   "source": [
    "# Parameters\n",
    "func_name = \"Log_normal\"\n",
    "positive_prior = True\n"
   ]
  },
  {
   "cell_type": "code",
   "execution_count": 4,
   "id": "bc28b3d2",
   "metadata": {
    "execution": {
     "iopub.execute_input": "2025-04-29T20:14:45.555929Z",
     "iopub.status.busy": "2025-04-29T20:14:45.555790Z",
     "iopub.status.idle": "2025-04-29T20:14:45.564702Z",
     "shell.execute_reply": "2025-04-29T20:14:45.564272Z"
    },
    "lines_to_next_cell": 0,
    "nbsphinx": "hidden",
    "papermill": {
     "duration": 0.01128,
     "end_time": "2025-04-29T20:14:45.565703",
     "exception": false,
     "start_time": "2025-04-29T20:14:45.554423",
     "status": "completed"
    },
    "tags": []
   },
   "outputs": [],
   "source": [
    "func = _known_functions[func_name]()\n",
    "\n",
    "if not positive_prior:\n",
    "\n",
    "\tenergy_grid = np.linspace(-5,5,1000)\n",
    "\n",
    "else:\n",
    "    \n",
    "    energy_grid = np.linspace(0,1,1000)\n",
    "    \n",
    "    \n",
    "    \n",
    "    \n",
    "blue = \"#4152E3\"\n",
    "red = \"#E3414B\"\n",
    "green = \"#41E39E\""
   ]
  },
  {
   "cell_type": "markdown",
   "id": "3fae39f9",
   "metadata": {
    "lines_to_next_cell": 0,
    "papermill": {
     "duration": 0.001001,
     "end_time": "2025-04-29T20:14:45.567760",
     "exception": false,
     "start_time": "2025-04-29T20:14:45.566759",
     "status": "completed"
    },
    "tags": []
   },
   "source": [
    "## Description"
   ]
  },
  {
   "cell_type": "code",
   "execution_count": 5,
   "id": "a8e67fff",
   "metadata": {
    "execution": {
     "iopub.execute_input": "2025-04-29T20:14:45.570268Z",
     "iopub.status.busy": "2025-04-29T20:14:45.570127Z",
     "iopub.status.idle": "2025-04-29T20:14:45.574348Z",
     "shell.execute_reply": "2025-04-29T20:14:45.573864Z"
    },
    "papermill": {
     "duration": 0.006633,
     "end_time": "2025-04-29T20:14:45.575359",
     "exception": false,
     "start_time": "2025-04-29T20:14:45.568726",
     "status": "completed"
    },
    "tags": []
   },
   "outputs": [
    {
     "data": {
      "text/html": [
       "<ul>\n",
       "\n",
       "<li>description: A log normal function</li>\n",
       "\n",
       "<li>formula: $ K \\frac{1}{ x \\sigma \\sqrt{2 \\pi}}\\exp{\\frac{(\\log x/piv - \\mu/piv)^2}{2~(\\sigma)^2}} $</li>\n",
       "\n",
       "<li>parameters: \n",
       "<ul>\n",
       "\n",
       "<li>F: \n",
       "<ul>\n",
       "\n",
       "<li>value: 1.0</li>\n",
       "\n",
       "<li>desc: Integral between 0and +inf. Fix this to 1 to obtain a log Normal distribution</li>\n",
       "\n",
       "<li>min_value: None</li>\n",
       "\n",
       "<li>max_value: None</li>\n",
       "\n",
       "<li>unit: </li>\n",
       "\n",
       "<li>is_normalization: False</li>\n",
       "\n",
       "<li>delta: 0.1</li>\n",
       "\n",
       "<li>free: True</li>\n",
       "\n",
       "</ul>\n",
       "\n",
       "</li>\n",
       "\n",
       "<li>mu: \n",
       "<ul>\n",
       "\n",
       "<li>value: 0.0</li>\n",
       "\n",
       "<li>desc: Central value</li>\n",
       "\n",
       "<li>min_value: None</li>\n",
       "\n",
       "<li>max_value: None</li>\n",
       "\n",
       "<li>unit: </li>\n",
       "\n",
       "<li>is_normalization: False</li>\n",
       "\n",
       "<li>delta: 0.1</li>\n",
       "\n",
       "<li>free: True</li>\n",
       "\n",
       "</ul>\n",
       "\n",
       "</li>\n",
       "\n",
       "<li>sigma: \n",
       "<ul>\n",
       "\n",
       "<li>value: 1.0</li>\n",
       "\n",
       "<li>desc: standard deviation</li>\n",
       "\n",
       "<li>min_value: 1e-12</li>\n",
       "\n",
       "<li>max_value: None</li>\n",
       "\n",
       "<li>unit: </li>\n",
       "\n",
       "<li>is_normalization: False</li>\n",
       "\n",
       "<li>delta: 0.1</li>\n",
       "\n",
       "<li>free: True</li>\n",
       "\n",
       "</ul>\n",
       "\n",
       "</li>\n",
       "\n",
       "<li>piv: \n",
       "<ul>\n",
       "\n",
       "<li>value: 1.0</li>\n",
       "\n",
       "<li>desc: pivot. Leave this to 1 for a proper log normal distribution</li>\n",
       "\n",
       "<li>min_value: None</li>\n",
       "\n",
       "<li>max_value: None</li>\n",
       "\n",
       "<li>unit: </li>\n",
       "\n",
       "<li>is_normalization: False</li>\n",
       "\n",
       "<li>delta: 0.1</li>\n",
       "\n",
       "<li>free: False</li>\n",
       "\n",
       "</ul>\n",
       "\n",
       "</li>\n",
       "\n",
       "</ul>\n",
       "\n",
       "</li>\n",
       "\n",
       "</ul>\n"
      ],
      "text/plain": [
       "  * description: A log normal function\n",
       "  * formula: $ K \\frac{1}{ x \\sigma \\sqrt{2 \\pi}}\\exp{\\frac{(\\log x/piv - \\mu/piv)^2}{2~(\\sigma)^2}}\n",
       "    * $\n",
       "  * parameters:\n",
       "    * F:\n",
       "      * value: 1.0\n",
       "      * desc: Integral between 0and +inf. Fix this to 1 to obtain a log Normal distribution\n",
       "      * min_value: null\n",
       "      * max_value: null\n",
       "      * unit: ''\n",
       "      * is_normalization: false\n",
       "      * delta: 0.1\n",
       "      * free: true\n",
       "    * mu:\n",
       "      * value: 0.0\n",
       "      * desc: Central value\n",
       "      * min_value: null\n",
       "      * max_value: null\n",
       "      * unit: ''\n",
       "      * is_normalization: false\n",
       "      * delta: 0.1\n",
       "      * free: true\n",
       "    * sigma:\n",
       "      * value: 1.0\n",
       "      * desc: standard deviation\n",
       "      * min_value: 1.0e-12\n",
       "      * max_value: null\n",
       "      * unit: ''\n",
       "      * is_normalization: false\n",
       "      * delta: 0.1\n",
       "      * free: true\n",
       "    * piv:\n",
       "      * value: 1.0\n",
       "      * desc: pivot. Leave this to 1 for a proper log normal distribution\n",
       "      * min_value: null\n",
       "      * max_value: null\n",
       "      * unit: ''\n",
       "      * is_normalization: false\n",
       "      * delta: 0.1\n",
       "      * free: false"
      ]
     },
     "metadata": {},
     "output_type": "display_data"
    }
   ],
   "source": [
    "func.display()"
   ]
  },
  {
   "cell_type": "markdown",
   "id": "eba8b504",
   "metadata": {
    "papermill": {
     "duration": 0.001087,
     "end_time": "2025-04-29T20:14:45.577624",
     "exception": false,
     "start_time": "2025-04-29T20:14:45.576537",
     "status": "completed"
    },
    "tags": []
   },
   "source": [
    "## Shape \n",
    "\n",
    "The shape of the function. \n",
    "\n",
    "*If this is not a photon model but a prior or linear function then ignore the units as these docs are auto-generated*"
   ]
  },
  {
   "cell_type": "code",
   "execution_count": 6,
   "id": "1d05b238",
   "metadata": {
    "execution": {
     "iopub.execute_input": "2025-04-29T20:14:45.580289Z",
     "iopub.status.busy": "2025-04-29T20:14:45.580142Z",
     "iopub.status.idle": "2025-04-29T20:14:45.655402Z",
     "shell.execute_reply": "2025-04-29T20:14:45.655007Z"
    },
    "papermill": {
     "duration": 0.077797,
     "end_time": "2025-04-29T20:14:45.656469",
     "exception": false,
     "start_time": "2025-04-29T20:14:45.578672",
     "status": "completed"
    },
    "tags": [
     "nbsphinx-thumbnail"
    ]
   },
   "outputs": [
    {
     "data": {
      "text/plain": [
       "Text(0, 0.5, 'probability')"
      ]
     },
     "execution_count": 6,
     "metadata": {},
     "output_type": "execute_result"
    },
    {
     "data": {
      "image/png": "[encoded data removed]",
      "text/plain": [
       "<Figure size 1040x910 with 1 Axes>"
      ]
     },
     "metadata": {},
     "output_type": "display_data"
    }
   ],
   "source": [
    "fig, ax = plt.subplots()\n",
    "\n",
    "\n",
    "ax.plot(energy_grid, func(energy_grid), color=blue, lw=3)\n",
    "\n",
    "ax.set_xlabel(\"x\")\n",
    "ax.set_ylabel(\"probability\")\n"
   ]
  },
  {
   "cell_type": "markdown",
   "id": "0f1ba887",
   "metadata": {
    "papermill": {
     "duration": 0.001418,
     "end_time": "2025-04-29T20:14:45.659549",
     "exception": false,
     "start_time": "2025-04-29T20:14:45.658131",
     "status": "completed"
    },
    "tags": []
   },
   "source": [
    "## Random Number Generation\n",
    "\n",
    "This is how we can generate random numbers from the prior.\n"
   ]
  },
  {
   "cell_type": "code",
   "execution_count": 7,
   "id": "b48ff946",
   "metadata": {
    "execution": {
     "iopub.execute_input": "2025-04-29T20:14:45.663105Z",
     "iopub.status.busy": "2025-04-29T20:14:45.662960Z",
     "iopub.status.idle": "2025-04-29T20:14:45.759749Z",
     "shell.execute_reply": "2025-04-29T20:14:45.759311Z"
    },
    "papermill": {
     "duration": 0.099887,
     "end_time": "2025-04-29T20:14:45.760863",
     "exception": false,
     "start_time": "2025-04-29T20:14:45.660976",
     "status": "completed"
    },
    "tags": []
   },
   "outputs": [
    {
     "data": {
      "text/plain": [
       "Text(0, 0.5, 'N')"
      ]
     },
     "execution_count": 7,
     "metadata": {},
     "output_type": "execute_result"
    },
    {
     "data": {
      "image/png": "[encoded data removed]",
      "text/plain": [
       "<Figure size 1040x910 with 1 Axes>"
      ]
     },
     "metadata": {},
     "output_type": "display_data"
    }
   ],
   "source": [
    "\n",
    "\n",
    "u = np.random.uniform(0,1, size=5000)\n",
    "\n",
    "draws = [func.from_unit_cube(x) for x in u]\n",
    "\n",
    "\n",
    "fig, ax = plt.subplots()\n",
    "\n",
    "\n",
    "ax.hist(draws, color=green, bins=50)\n",
    "\n",
    "ax.set_xlabel(\"value\")\n",
    "ax.set_ylabel(\"N\")\n",
    "\n"
   ]
  }
 ],
 "metadata": {
  "jupytext": {
   "formats": "ipynb,md"
  },
  "kernelspec": {
   "display_name": "Python 3 (ipykernel)",
   "language": "python",
   "name": "python3"
  },
  "language_info": {
   "codemirror_mode": {
    "name": "ipython",
    "version": 3
   },
   "file_extension": ".py",
   "mimetype": "text/x-python",
   "name": "python",
   "nbconvert_exporter": "python",
   "pygments_lexer": "ipython3",
   "version": "3.9.13"
  },
  "papermill": {
   "default_parameters": {},
   "duration": 2.516822,
   "end_time": "2025-04-29T20:14:46.089622",
   "environment_variables": {},
   "exception": null,
   "input_path": "Log_normal.ipynb",
   "output_path": "/Users/runner/work/astromodels/astromodels/docs/notebooks/Log_normal.ipynb",
   "parameters": {
    "func_name": "Log_normal",
    "positive_prior": true
   },
   "start_time": "2025-04-29T20:14:43.572800",
   "version": "2.6.0"
  }
 },
 "nbformat": 4,
 "nbformat_minor": 5
}
