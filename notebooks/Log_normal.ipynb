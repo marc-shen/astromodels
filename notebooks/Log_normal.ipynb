{
 "cells": [
  {
   "cell_type": "markdown",
   "id": "deae77b5",
   "metadata": {
    "papermill": {
     "duration": 0.008252,
     "end_time": "2024-08-14T21:25:42.654903",
     "exception": false,
     "start_time": "2024-08-14T21:25:42.646651",
     "status": "completed"
    },
    "tags": []
   },
   "source": [
    "# Log normal"
   ]
  },
  {
   "cell_type": "code",
   "execution_count": 1,
   "id": "aba05efa",
   "metadata": {
    "execution": {
     "iopub.execute_input": "2024-08-14T21:25:42.666471Z",
     "iopub.status.busy": "2024-08-14T21:25:42.665953Z",
     "iopub.status.idle": "2024-08-14T21:25:44.274414Z",
     "shell.execute_reply": "2024-08-14T21:25:44.273925Z"
    },
    "nbsphinx": "hidden",
    "papermill": {
     "duration": 1.616192,
     "end_time": "2024-08-14T21:25:44.275967",
     "exception": false,
     "start_time": "2024-08-14T21:25:42.659775",
     "status": "completed"
    },
    "tags": []
   },
   "outputs": [],
   "source": [
    "%%capture\n",
    "\n",
    "import numpy as np\n",
    "\n",
    "import matplotlib.pyplot as plt\n",
    "\n",
    "import warnings\n",
    "warnings.simplefilter(\"ignore\")\n",
    "\n",
    "from astromodels.functions.function import _known_functions\n",
    "\n",
    "\n",
    "from jupyterthemes import jtplot\n",
    "jtplot.style(context=\"talk\", fscale=1, ticks=True, grid=False)\n",
    "%matplotlib inline"
   ]
  },
  {
   "cell_type": "code",
   "execution_count": 2,
   "id": "840fea11",
   "metadata": {
    "execution": {
     "iopub.execute_input": "2024-08-14T21:25:44.279195Z",
     "iopub.status.busy": "2024-08-14T21:25:44.278841Z",
     "iopub.status.idle": "2024-08-14T21:25:44.281061Z",
     "shell.execute_reply": "2024-08-14T21:25:44.280671Z"
    },
    "nbsphinx": "hidden",
    "papermill": {
     "duration": 0.005103,
     "end_time": "2024-08-14T21:25:44.282294",
     "exception": false,
     "start_time": "2024-08-14T21:25:44.277191",
     "status": "completed"
    },
    "tags": [
     "parameters"
    ]
   },
   "outputs": [],
   "source": [
    "func_name = \"TbAbs\"\n",
    "\n",
    "positive_prior = False\n"
   ]
  },
  {
   "cell_type": "code",
   "execution_count": 3,
   "id": "79c56199",
   "metadata": {
    "execution": {
     "iopub.execute_input": "2024-08-14T21:25:44.284888Z",
     "iopub.status.busy": "2024-08-14T21:25:44.284749Z",
     "iopub.status.idle": "2024-08-14T21:25:44.290939Z",
     "shell.execute_reply": "2024-08-14T21:25:44.290515Z"
    },
    "papermill": {
     "duration": 0.008837,
     "end_time": "2024-08-14T21:25:44.292118",
     "exception": false,
     "start_time": "2024-08-14T21:25:44.283281",
     "status": "completed"
    },
    "tags": [
     "injected-parameters"
    ]
   },
   "outputs": [],
   "source": [
    "# Parameters\n",
    "func_name = \"Log_normal\"\n",
    "positive_prior = True\n"
   ]
  },
  {
   "cell_type": "code",
   "execution_count": 4,
   "id": "9ec585ea",
   "metadata": {
    "execution": {
     "iopub.execute_input": "2024-08-14T21:25:44.294802Z",
     "iopub.status.busy": "2024-08-14T21:25:44.294664Z",
     "iopub.status.idle": "2024-08-14T21:25:44.303478Z",
     "shell.execute_reply": "2024-08-14T21:25:44.303121Z"
    },
    "lines_to_next_cell": 0,
    "nbsphinx": "hidden",
    "papermill": {
     "duration": 0.011647,
     "end_time": "2024-08-14T21:25:44.304830",
     "exception": false,
     "start_time": "2024-08-14T21:25:44.293183",
     "status": "completed"
    },
    "tags": []
   },
   "outputs": [],
   "source": [
    "func = _known_functions[func_name]()\n",
    "\n",
    "if not positive_prior:\n",
    "\n",
    "\tenergy_grid = np.linspace(-5,5,1000)\n",
    "\n",
    "else:\n",
    "    \n",
    "    energy_grid = np.linspace(0,1,1000)\n",
    "    \n",
    "    \n",
    "    \n",
    "    \n",
    "blue = \"#4152E3\"\n",
    "red = \"#E3414B\"\n",
    "green = \"#41E39E\""
   ]
  },
  {
   "cell_type": "markdown",
   "id": "51c5e7bb",
   "metadata": {
    "lines_to_next_cell": 0,
    "papermill": {
     "duration": 0.00099,
     "end_time": "2024-08-14T21:25:44.306861",
     "exception": false,
     "start_time": "2024-08-14T21:25:44.305871",
     "status": "completed"
    },
    "tags": []
   },
   "source": [
    "## Description"
   ]
  },
  {
   "cell_type": "code",
   "execution_count": 5,
   "id": "875f711c",
   "metadata": {
    "execution": {
     "iopub.execute_input": "2024-08-14T21:25:44.309375Z",
     "iopub.status.busy": "2024-08-14T21:25:44.309233Z",
     "iopub.status.idle": "2024-08-14T21:25:44.319985Z",
     "shell.execute_reply": "2024-08-14T21:25:44.319296Z"
    },
    "papermill": {
     "duration": 0.014246,
     "end_time": "2024-08-14T21:25:44.322036",
     "exception": false,
     "start_time": "2024-08-14T21:25:44.307790",
     "status": "completed"
    },
    "tags": []
   },
   "outputs": [
    {
     "data": {
      "text/html": [
       "<ul>\n",
       "\n",
       "<li>description: A log normal function</li>\n",
       "\n",
       "<li>formula: $ K \\frac{1}{ x \\sigma \\sqrt{2 \\pi}}\\exp{\\frac{(\\log x/piv - \\mu/piv)^2}{2~(\\sigma)^2}} $</li>\n",
       "\n",
       "<li>parameters: \n",
       "<ul>\n",
       "\n",
       "<li>F: \n",
       "<ul>\n",
       "\n",
       "<li>value: 1.0</li>\n",
       "\n",
       "<li>desc: Integral between 0and +inf. Fix this to 1 to obtain a log Normal distribution</li>\n",
       "\n",
       "<li>min_value: None</li>\n",
       "\n",
       "<li>max_value: None</li>\n",
       "\n",
       "<li>unit: </li>\n",
       "\n",
       "<li>is_normalization: False</li>\n",
       "\n",
       "<li>delta: 0.1</li>\n",
       "\n",
       "<li>free: True</li>\n",
       "\n",
       "</ul>\n",
       "\n",
       "</li>\n",
       "\n",
       "<li>mu: \n",
       "<ul>\n",
       "\n",
       "<li>value: 0.0</li>\n",
       "\n",
       "<li>desc: Central value</li>\n",
       "\n",
       "<li>min_value: None</li>\n",
       "\n",
       "<li>max_value: None</li>\n",
       "\n",
       "<li>unit: </li>\n",
       "\n",
       "<li>is_normalization: False</li>\n",
       "\n",
       "<li>delta: 0.1</li>\n",
       "\n",
       "<li>free: True</li>\n",
       "\n",
       "</ul>\n",
       "\n",
       "</li>\n",
       "\n",
       "<li>sigma: \n",
       "<ul>\n",
       "\n",
       "<li>value: 1.0</li>\n",
       "\n",
       "<li>desc: standard deviation</li>\n",
       "\n",
       "<li>min_value: 1e-12</li>\n",
       "\n",
       "<li>max_value: None</li>\n",
       "\n",
       "<li>unit: </li>\n",
       "\n",
       "<li>is_normalization: False</li>\n",
       "\n",
       "<li>delta: 0.1</li>\n",
       "\n",
       "<li>free: True</li>\n",
       "\n",
       "</ul>\n",
       "\n",
       "</li>\n",
       "\n",
       "<li>piv: \n",
       "<ul>\n",
       "\n",
       "<li>value: 1.0</li>\n",
       "\n",
       "<li>desc: pivot. Leave this to 1 for a proper log normal distribution</li>\n",
       "\n",
       "<li>min_value: None</li>\n",
       "\n",
       "<li>max_value: None</li>\n",
       "\n",
       "<li>unit: </li>\n",
       "\n",
       "<li>is_normalization: False</li>\n",
       "\n",
       "<li>delta: 0.1</li>\n",
       "\n",
       "<li>free: False</li>\n",
       "\n",
       "</ul>\n",
       "\n",
       "</li>\n",
       "\n",
       "</ul>\n",
       "\n",
       "</li>\n",
       "\n",
       "</ul>\n"
      ],
      "text/plain": [
       "  * description: A log normal function\n",
       "  * formula: $ K \\frac{1}{ x \\sigma \\sqrt{2 \\pi}}\\exp{\\frac{(\\log x/piv - \\mu/piv)^2}{2~(\\sigma)^2}}\n",
       "    * $\n",
       "  * parameters:\n",
       "    * F:\n",
       "      * value: 1.0\n",
       "      * desc: Integral between 0and +inf. Fix this to 1 to obtain a log Normal distribution\n",
       "      * min_value: null\n",
       "      * max_value: null\n",
       "      * unit: ''\n",
       "      * is_normalization: false\n",
       "      * delta: 0.1\n",
       "      * free: true\n",
       "    * mu:\n",
       "      * value: 0.0\n",
       "      * desc: Central value\n",
       "      * min_value: null\n",
       "      * max_value: null\n",
       "      * unit: ''\n",
       "      * is_normalization: false\n",
       "      * delta: 0.1\n",
       "      * free: true\n",
       "    * sigma:\n",
       "      * value: 1.0\n",
       "      * desc: standard deviation\n",
       "      * min_value: 1.0e-12\n",
       "      * max_value: null\n",
       "      * unit: ''\n",
       "      * is_normalization: false\n",
       "      * delta: 0.1\n",
       "      * free: true\n",
       "    * piv:\n",
       "      * value: 1.0\n",
       "      * desc: pivot. Leave this to 1 for a proper log normal distribution\n",
       "      * min_value: null\n",
       "      * max_value: null\n",
       "      * unit: ''\n",
       "      * is_normalization: false\n",
       "      * delta: 0.1\n",
       "      * free: false"
      ]
     },
     "metadata": {},
     "output_type": "display_data"
    }
   ],
   "source": [
    "func.display()"
   ]
  },
  {
   "cell_type": "markdown",
   "id": "637a2832",
   "metadata": {
    "papermill": {
     "duration": 0.001385,
     "end_time": "2024-08-14T21:25:44.325097",
     "exception": false,
     "start_time": "2024-08-14T21:25:44.323712",
     "status": "completed"
    },
    "tags": []
   },
   "source": [
    "## Shape \n",
    "\n",
    "The shape of the function. \n",
    "\n",
    "*If this is not a photon model but a prior or linear function then ignore the units as these docs are auto-generated*"
   ]
  },
  {
   "cell_type": "code",
   "execution_count": 6,
   "id": "289fbc4f",
   "metadata": {
    "execution": {
     "iopub.execute_input": "2024-08-14T21:25:44.329789Z",
     "iopub.status.busy": "2024-08-14T21:25:44.329201Z",
     "iopub.status.idle": "2024-08-14T21:25:44.459946Z",
     "shell.execute_reply": "2024-08-14T21:25:44.458648Z"
    },
    "papermill": {
     "duration": 0.135456,
     "end_time": "2024-08-14T21:25:44.461910",
     "exception": false,
     "start_time": "2024-08-14T21:25:44.326454",
     "status": "completed"
    },
    "tags": [
     "nbsphinx-thumbnail"
    ]
   },
   "outputs": [
    {
     "data": {
      "text/plain": [
       "Text(0, 0.5, 'probability')"
      ]
     },
     "execution_count": 6,
     "metadata": {},
     "output_type": "execute_result"
    },
    {
     "data": {
      "image/png": "[encoded data removed]",
      "text/plain": [
       "<Figure size 1040x910 with 1 Axes>"
      ]
     },
     "metadata": {},
     "output_type": "display_data"
    }
   ],
   "source": [
    "fig, ax = plt.subplots()\n",
    "\n",
    "\n",
    "ax.plot(energy_grid, func(energy_grid), color=blue, lw=3)\n",
    "\n",
    "ax.set_xlabel(\"x\")\n",
    "ax.set_ylabel(\"probability\")\n"
   ]
  },
  {
   "cell_type": "markdown",
   "id": "063c38e5",
   "metadata": {
    "papermill": {
     "duration": 0.001761,
     "end_time": "2024-08-14T21:25:44.467185",
     "exception": false,
     "start_time": "2024-08-14T21:25:44.465424",
     "status": "completed"
    },
    "tags": []
   },
   "source": [
    "## Random Number Generation\n",
    "\n",
    "This is how we can generate random numbers from the prior.\n"
   ]
  },
  {
   "cell_type": "code",
   "execution_count": 7,
   "id": "329ce417",
   "metadata": {
    "execution": {
     "iopub.execute_input": "2024-08-14T21:25:44.480352Z",
     "iopub.status.busy": "2024-08-14T21:25:44.479999Z",
     "iopub.status.idle": "2024-08-14T21:25:44.616766Z",
     "shell.execute_reply": "2024-08-14T21:25:44.616342Z"
    },
    "papermill": {
     "duration": 0.142472,
     "end_time": "2024-08-14T21:25:44.618135",
     "exception": false,
     "start_time": "2024-08-14T21:25:44.475663",
     "status": "completed"
    },
    "tags": []
   },
   "outputs": [
    {
     "data": {
      "text/plain": [
       "Text(0, 0.5, 'N')"
      ]
     },
     "execution_count": 7,
     "metadata": {},
     "output_type": "execute_result"
    },
    {
     "data": {
      "image/png": "[encoded data removed]",
      "text/plain": [
       "<Figure size 1040x910 with 1 Axes>"
      ]
     },
     "metadata": {},
     "output_type": "display_data"
    }
   ],
   "source": [
    "\n",
    "\n",
    "u = np.random.uniform(0,1, size=5000)\n",
    "\n",
    "draws = [func.from_unit_cube(x) for x in u]\n",
    "\n",
    "\n",
    "fig, ax = plt.subplots()\n",
    "\n",
    "\n",
    "ax.hist(draws, color=green, bins=50)\n",
    "\n",
    "ax.set_xlabel(\"value\")\n",
    "ax.set_ylabel(\"N\")\n",
    "\n"
   ]
  }
 ],
 "metadata": {
  "jupytext": {
   "formats": "ipynb,md"
  },
  "kernelspec": {
   "display_name": "Python 3 (ipykernel)",
   "language": "python",
   "name": "python3"
  },
  "language_info": {
   "codemirror_mode": {
    "name": "ipython",
    "version": 3
   },
   "file_extension": ".py",
   "mimetype": "text/x-python",
   "name": "python",
   "nbconvert_exporter": "python",
   "pygments_lexer": "ipython3",
   "version": "3.9.13"
  },
  "papermill": {
   "default_parameters": {},
   "duration": 3.23434,
   "end_time": "2024-08-14T21:25:45.052819",
   "environment_variables": {},
   "exception": null,
   "input_path": "Log_normal.ipynb",
   "output_path": "/Users/runner/work/astromodels/astromodels/docs/notebooks/Log_normal.ipynb",
   "parameters": {
    "func_name": "Log_normal",
    "positive_prior": true
   },
   "start_time": "2024-08-14T21:25:41.818479",
   "version": "2.6.0"
  }
 },
 "nbformat": 4,
 "nbformat_minor": 5
}
