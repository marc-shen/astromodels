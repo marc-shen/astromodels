{
 "cells": [
  {
   "cell_type": "markdown",
   "id": "6dd64f14",
   "metadata": {
    "papermill": {
     "duration": 0.003932,
     "end_time": "2022-09-28T03:11:50.635982",
     "exception": false,
     "start_time": "2022-09-28T03:11:50.632050",
     "status": "completed"
    },
    "tags": []
   },
   "source": [
    "# Log normal"
   ]
  },
  {
   "cell_type": "code",
   "execution_count": 1,
   "id": "65e5e6fd",
   "metadata": {
    "execution": {
     "iopub.execute_input": "2022-09-28T03:11:50.643860Z",
     "iopub.status.busy": "2022-09-28T03:11:50.643420Z",
     "iopub.status.idle": "2022-09-28T03:11:54.689233Z",
     "shell.execute_reply": "2022-09-28T03:11:54.688210Z"
    },
    "nbsphinx": "hidden",
    "papermill": {
     "duration": 4.05336,
     "end_time": "2022-09-28T03:11:54.692504",
     "exception": false,
     "start_time": "2022-09-28T03:11:50.639144",
     "status": "completed"
    },
    "tags": []
   },
   "outputs": [],
   "source": [
    "%%capture\n",
    "\n",
    "import numpy as np\n",
    "\n",
    "import matplotlib.pyplot as plt\n",
    "\n",
    "import warnings\n",
    "warnings.simplefilter(\"ignore\")\n",
    "\n",
    "from astromodels.functions.function import _known_functions\n",
    "\n",
    "\n",
    "from jupyterthemes import jtplot\n",
    "jtplot.style(context=\"talk\", fscale=1, ticks=True, grid=False)\n",
    "%matplotlib inline"
   ]
  },
  {
   "cell_type": "code",
   "execution_count": 2,
   "id": "5c558245",
   "metadata": {
    "execution": {
     "iopub.execute_input": "2022-09-28T03:11:54.704643Z",
     "iopub.status.busy": "2022-09-28T03:11:54.704244Z",
     "iopub.status.idle": "2022-09-28T03:11:54.711997Z",
     "shell.execute_reply": "2022-09-28T03:11:54.709645Z"
    },
    "nbsphinx": "hidden",
    "papermill": {
     "duration": 0.015716,
     "end_time": "2022-09-28T03:11:54.715821",
     "exception": false,
     "start_time": "2022-09-28T03:11:54.700105",
     "status": "completed"
    },
    "tags": [
     "parameters"
    ]
   },
   "outputs": [],
   "source": [
    "func_name = \"TbAbs\"\n",
    "\n",
    "positive_prior = False\n"
   ]
  },
  {
   "cell_type": "code",
   "execution_count": 3,
   "id": "a385b06d",
   "metadata": {
    "execution": {
     "iopub.execute_input": "2022-09-28T03:11:54.724036Z",
     "iopub.status.busy": "2022-09-28T03:11:54.723609Z",
     "iopub.status.idle": "2022-09-28T03:11:54.728310Z",
     "shell.execute_reply": "2022-09-28T03:11:54.727310Z"
    },
    "papermill": {
     "duration": 0.01245,
     "end_time": "2022-09-28T03:11:54.731483",
     "exception": false,
     "start_time": "2022-09-28T03:11:54.719033",
     "status": "completed"
    },
    "tags": [
     "injected-parameters"
    ]
   },
   "outputs": [],
   "source": [
    "# Parameters\n",
    "func_name = \"Log_normal\"\n",
    "positive_prior = True\n"
   ]
  },
  {
   "cell_type": "code",
   "execution_count": 4,
   "id": "7e38df6e",
   "metadata": {
    "execution": {
     "iopub.execute_input": "2022-09-28T03:11:54.739600Z",
     "iopub.status.busy": "2022-09-28T03:11:54.739187Z",
     "iopub.status.idle": "2022-09-28T03:11:54.746943Z",
     "shell.execute_reply": "2022-09-28T03:11:54.745790Z"
    },
    "lines_to_next_cell": 0,
    "nbsphinx": "hidden",
    "papermill": {
     "duration": 0.015012,
     "end_time": "2022-09-28T03:11:54.749662",
     "exception": false,
     "start_time": "2022-09-28T03:11:54.734650",
     "status": "completed"
    },
    "tags": []
   },
   "outputs": [],
   "source": [
    "func = _known_functions[func_name]()\n",
    "\n",
    "if not positive_prior:\n",
    "\n",
    "\tenergy_grid = np.linspace(-5,5,1000)\n",
    "\n",
    "else:\n",
    "    \n",
    "    energy_grid = np.linspace(0,1,1000)\n",
    "    \n",
    "    \n",
    "    \n",
    "    \n",
    "blue = \"#4152E3\"\n",
    "red = \"#E3414B\"\n",
    "green = \"#41E39E\""
   ]
  },
  {
   "cell_type": "markdown",
   "id": "4aefab50",
   "metadata": {
    "lines_to_next_cell": 0,
    "papermill": {
     "duration": 0.003015,
     "end_time": "2022-09-28T03:11:54.755583",
     "exception": false,
     "start_time": "2022-09-28T03:11:54.752568",
     "status": "completed"
    },
    "tags": []
   },
   "source": [
    "## Description"
   ]
  },
  {
   "cell_type": "code",
   "execution_count": 5,
   "id": "cdb84169",
   "metadata": {
    "execution": {
     "iopub.execute_input": "2022-09-28T03:11:54.763496Z",
     "iopub.status.busy": "2022-09-28T03:11:54.763103Z",
     "iopub.status.idle": "2022-09-28T03:11:54.777722Z",
     "shell.execute_reply": "2022-09-28T03:11:54.776777Z"
    },
    "papermill": {
     "duration": 0.02161,
     "end_time": "2022-09-28T03:11:54.780446",
     "exception": false,
     "start_time": "2022-09-28T03:11:54.758836",
     "status": "completed"
    },
    "tags": []
   },
   "outputs": [
    {
     "data": {
      "text/html": [
       "<ul>\n",
       "\n",
       "<li>description: A log normal function</li>\n",
       "\n",
       "<li>formula: $ K \\frac{1}{ x \\sigma \\sqrt{2 \\pi}}\\exp{\\frac{(\\log x/piv - \\mu/piv)^2}{2~(\\sigma)^2}} $</li>\n",
       "\n",
       "<li>parameters: \n",
       "<ul>\n",
       "\n",
       "<li>F: \n",
       "<ul>\n",
       "\n",
       "<li>value: 1.0</li>\n",
       "\n",
       "<li>desc: Integral between 0and +inf. Fix this to 1 to obtain a log Normal distribution</li>\n",
       "\n",
       "<li>min_value: None</li>\n",
       "\n",
       "<li>max_value: None</li>\n",
       "\n",
       "<li>unit: </li>\n",
       "\n",
       "<li>is_normalization: False</li>\n",
       "\n",
       "<li>delta: 0.1</li>\n",
       "\n",
       "<li>free: True</li>\n",
       "\n",
       "</ul>\n",
       "\n",
       "</li>\n",
       "\n",
       "<li>mu: \n",
       "<ul>\n",
       "\n",
       "<li>value: 0.0</li>\n",
       "\n",
       "<li>desc: Central value</li>\n",
       "\n",
       "<li>min_value: None</li>\n",
       "\n",
       "<li>max_value: None</li>\n",
       "\n",
       "<li>unit: </li>\n",
       "\n",
       "<li>is_normalization: False</li>\n",
       "\n",
       "<li>delta: 0.1</li>\n",
       "\n",
       "<li>free: True</li>\n",
       "\n",
       "</ul>\n",
       "\n",
       "</li>\n",
       "\n",
       "<li>sigma: \n",
       "<ul>\n",
       "\n",
       "<li>value: 1.0</li>\n",
       "\n",
       "<li>desc: standard deviation</li>\n",
       "\n",
       "<li>min_value: 1e-12</li>\n",
       "\n",
       "<li>max_value: None</li>\n",
       "\n",
       "<li>unit: </li>\n",
       "\n",
       "<li>is_normalization: False</li>\n",
       "\n",
       "<li>delta: 0.1</li>\n",
       "\n",
       "<li>free: True</li>\n",
       "\n",
       "</ul>\n",
       "\n",
       "</li>\n",
       "\n",
       "<li>piv: \n",
       "<ul>\n",
       "\n",
       "<li>value: 1.0</li>\n",
       "\n",
       "<li>desc: pivot. Leave this to 1 for a proper log normal distribution</li>\n",
       "\n",
       "<li>min_value: None</li>\n",
       "\n",
       "<li>max_value: None</li>\n",
       "\n",
       "<li>unit: </li>\n",
       "\n",
       "<li>is_normalization: False</li>\n",
       "\n",
       "<li>delta: 0.1</li>\n",
       "\n",
       "<li>free: False</li>\n",
       "\n",
       "</ul>\n",
       "\n",
       "</li>\n",
       "\n",
       "</ul>\n",
       "\n",
       "</li>\n",
       "\n",
       "</ul>\n"
      ],
      "text/plain": [
       "  * description: A log normal function\n",
       "  * formula: $ K \\frac{1}{ x \\sigma \\sqrt{2 \\pi}}\\exp{\\frac{(\\log x/piv - \\mu/piv)^2}{2~(\\sigma)^2}}\n",
       "    * $\n",
       "  * parameters:\n",
       "    * F:\n",
       "      * value: 1.0\n",
       "      * desc: Integral between 0and +inf. Fix this to 1 to obtain a log Normal distribution\n",
       "      * min_value: null\n",
       "      * max_value: null\n",
       "      * unit: ''\n",
       "      * is_normalization: false\n",
       "      * delta: 0.1\n",
       "      * free: true\n",
       "    * mu:\n",
       "      * value: 0.0\n",
       "      * desc: Central value\n",
       "      * min_value: null\n",
       "      * max_value: null\n",
       "      * unit: ''\n",
       "      * is_normalization: false\n",
       "      * delta: 0.1\n",
       "      * free: true\n",
       "    * sigma:\n",
       "      * value: 1.0\n",
       "      * desc: standard deviation\n",
       "      * min_value: 1.0e-12\n",
       "      * max_value: null\n",
       "      * unit: ''\n",
       "      * is_normalization: false\n",
       "      * delta: 0.1\n",
       "      * free: true\n",
       "    * piv:\n",
       "      * value: 1.0\n",
       "      * desc: pivot. Leave this to 1 for a proper log normal distribution\n",
       "      * min_value: null\n",
       "      * max_value: null\n",
       "      * unit: ''\n",
       "      * is_normalization: false\n",
       "      * delta: 0.1\n",
       "      * free: false"
      ]
     },
     "metadata": {},
     "output_type": "display_data"
    }
   ],
   "source": [
    "func.display()"
   ]
  },
  {
   "cell_type": "markdown",
   "id": "23d883f1",
   "metadata": {
    "papermill": {
     "duration": 0.003178,
     "end_time": "2022-09-28T03:11:54.787197",
     "exception": false,
     "start_time": "2022-09-28T03:11:54.784019",
     "status": "completed"
    },
    "tags": []
   },
   "source": [
    "## Shape \n",
    "\n",
    "The shape of the function. \n",
    "\n",
    "*If this is not a photon model but a prior or linear function then ignore the units as these docs are auto-generated*"
   ]
  },
  {
   "cell_type": "code",
   "execution_count": 6,
   "id": "606aa263",
   "metadata": {
    "execution": {
     "iopub.execute_input": "2022-09-28T03:11:54.795060Z",
     "iopub.status.busy": "2022-09-28T03:11:54.794666Z",
     "iopub.status.idle": "2022-09-28T03:11:55.188454Z",
     "shell.execute_reply": "2022-09-28T03:11:55.187299Z"
    },
    "papermill": {
     "duration": 0.401535,
     "end_time": "2022-09-28T03:11:55.191736",
     "exception": false,
     "start_time": "2022-09-28T03:11:54.790201",
     "status": "completed"
    },
    "tags": [
     "nbsphinx-thumbnail"
    ]
   },
   "outputs": [
    {
     "data": {
      "text/plain": [
       "Text(0, 0.5, 'probability')"
      ]
     },
     "execution_count": 6,
     "metadata": {},
     "output_type": "execute_result"
    },
    {
     "data": {
      "image/png": "[encoded data removed]",
      "text/plain": [
       "<Figure size 1040x910 with 1 Axes>"
      ]
     },
     "metadata": {},
     "output_type": "display_data"
    }
   ],
   "source": [
    "fig, ax = plt.subplots()\n",
    "\n",
    "\n",
    "ax.plot(energy_grid, func(energy_grid), color=blue, lw=3)\n",
    "\n",
    "ax.set_xlabel(\"x\")\n",
    "ax.set_ylabel(\"probability\")\n"
   ]
  },
  {
   "cell_type": "markdown",
   "id": "d27199fa",
   "metadata": {
    "papermill": {
     "duration": 0.004258,
     "end_time": "2022-09-28T03:11:55.200122",
     "exception": false,
     "start_time": "2022-09-28T03:11:55.195864",
     "status": "completed"
    },
    "tags": []
   },
   "source": [
    "## Random Number Generation\n",
    "\n",
    "This is how we can generate random numbers from the prior.\n"
   ]
  },
  {
   "cell_type": "code",
   "execution_count": 7,
   "id": "1c64920b",
   "metadata": {
    "execution": {
     "iopub.execute_input": "2022-09-28T03:11:55.209764Z",
     "iopub.status.busy": "2022-09-28T03:11:55.209201Z",
     "iopub.status.idle": "2022-09-28T03:11:55.663044Z",
     "shell.execute_reply": "2022-09-28T03:11:55.652567Z"
    },
    "papermill": {
     "duration": 0.462647,
     "end_time": "2022-09-28T03:11:55.666206",
     "exception": false,
     "start_time": "2022-09-28T03:11:55.203559",
     "status": "completed"
    },
    "tags": []
   },
   "outputs": [
    {
     "data": {
      "text/plain": [
       "Text(0, 0.5, 'N')"
      ]
     },
     "execution_count": 7,
     "metadata": {},
     "output_type": "execute_result"
    },
    {
     "data": {
      "image/png": "[encoded data removed]",
      "text/plain": [
       "<Figure size 1040x910 with 1 Axes>"
      ]
     },
     "metadata": {},
     "output_type": "display_data"
    }
   ],
   "source": [
    "\n",
    "\n",
    "u = np.random.uniform(0,1, size=5000)\n",
    "\n",
    "draws = [func.from_unit_cube(x) for x in u]\n",
    "\n",
    "\n",
    "fig, ax = plt.subplots()\n",
    "\n",
    "\n",
    "ax.hist(draws, color=green, bins=50)\n",
    "\n",
    "ax.set_xlabel(\"value\")\n",
    "ax.set_ylabel(\"N\")\n",
    "\n"
   ]
  }
 ],
 "metadata": {
  "jupytext": {
   "formats": "ipynb,md"
  },
  "kernelspec": {
   "display_name": "Python 3 (ipykernel)",
   "language": "python",
   "name": "python3"
  },
  "language_info": {
   "codemirror_mode": {
    "name": "ipython",
    "version": 3
   },
   "file_extension": ".py",
   "mimetype": "text/x-python",
   "name": "python",
   "nbconvert_exporter": "python",
   "pygments_lexer": "ipython3",
   "version": "3.9.14"
  },
  "papermill": {
   "default_parameters": {},
   "duration": 7.235874,
   "end_time": "2022-09-28T03:11:56.464878",
   "environment_variables": {},
   "exception": null,
   "input_path": "Log_normal.ipynb",
   "output_path": "/Users/runner/work/astromodels/astromodels/docs/notebooks/Log_normal.ipynb",
   "parameters": {
    "func_name": "Log_normal",
    "positive_prior": true
   },
   "start_time": "2022-09-28T03:11:49.229004",
   "version": "2.4.0"
  }
 },
 "nbformat": 4,
 "nbformat_minor": 5
}
