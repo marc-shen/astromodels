{
 "cells": [
  {
   "cell_type": "markdown",
   "id": "1f5f8823",
   "metadata": {
    "papermill": {
     "duration": 0.010118,
     "end_time": "2024-05-13T22:11:09.504449",
     "exception": false,
     "start_time": "2024-05-13T22:11:09.494331",
     "status": "completed"
    },
    "tags": []
   },
   "source": [
    "# Log normal"
   ]
  },
  {
   "cell_type": "code",
   "execution_count": 1,
   "id": "3d38739d",
   "metadata": {
    "execution": {
     "iopub.execute_input": "2024-05-13T22:11:09.516316Z",
     "iopub.status.busy": "2024-05-13T22:11:09.515630Z",
     "iopub.status.idle": "2024-05-13T22:11:10.964394Z",
     "shell.execute_reply": "2024-05-13T22:11:10.963652Z"
    },
    "nbsphinx": "hidden",
    "papermill": {
     "duration": 1.456928,
     "end_time": "2024-05-13T22:11:10.966301",
     "exception": false,
     "start_time": "2024-05-13T22:11:09.509373",
     "status": "completed"
    },
    "tags": []
   },
   "outputs": [],
   "source": [
    "%%capture\n",
    "\n",
    "import numpy as np\n",
    "\n",
    "import matplotlib.pyplot as plt\n",
    "\n",
    "import warnings\n",
    "warnings.simplefilter(\"ignore\")\n",
    "\n",
    "from astromodels.functions.function import _known_functions\n",
    "\n",
    "\n",
    "from jupyterthemes import jtplot\n",
    "jtplot.style(context=\"talk\", fscale=1, ticks=True, grid=False)\n",
    "%matplotlib inline"
   ]
  },
  {
   "cell_type": "code",
   "execution_count": 2,
   "id": "562a3b29",
   "metadata": {
    "execution": {
     "iopub.execute_input": "2024-05-13T22:11:10.969879Z",
     "iopub.status.busy": "2024-05-13T22:11:10.969454Z",
     "iopub.status.idle": "2024-05-13T22:11:10.977934Z",
     "shell.execute_reply": "2024-05-13T22:11:10.977456Z"
    },
    "nbsphinx": "hidden",
    "papermill": {
     "duration": 0.01175,
     "end_time": "2024-05-13T22:11:10.979398",
     "exception": false,
     "start_time": "2024-05-13T22:11:10.967648",
     "status": "completed"
    },
    "tags": [
     "parameters"
    ]
   },
   "outputs": [],
   "source": [
    "func_name = \"TbAbs\"\n",
    "\n",
    "positive_prior = False\n"
   ]
  },
  {
   "cell_type": "code",
   "execution_count": 3,
   "id": "ad636a41",
   "metadata": {
    "execution": {
     "iopub.execute_input": "2024-05-13T22:11:10.982280Z",
     "iopub.status.busy": "2024-05-13T22:11:10.982120Z",
     "iopub.status.idle": "2024-05-13T22:11:10.990194Z",
     "shell.execute_reply": "2024-05-13T22:11:10.989787Z"
    },
    "papermill": {
     "duration": 0.011148,
     "end_time": "2024-05-13T22:11:10.991666",
     "exception": false,
     "start_time": "2024-05-13T22:11:10.980518",
     "status": "completed"
    },
    "tags": [
     "injected-parameters"
    ]
   },
   "outputs": [],
   "source": [
    "# Parameters\n",
    "func_name = \"Log_normal\"\n",
    "positive_prior = True\n"
   ]
  },
  {
   "cell_type": "code",
   "execution_count": 4,
   "id": "2bfef09b",
   "metadata": {
    "execution": {
     "iopub.execute_input": "2024-05-13T22:11:10.994643Z",
     "iopub.status.busy": "2024-05-13T22:11:10.994481Z",
     "iopub.status.idle": "2024-05-13T22:11:11.003775Z",
     "shell.execute_reply": "2024-05-13T22:11:11.003161Z"
    },
    "lines_to_next_cell": 0,
    "nbsphinx": "hidden",
    "papermill": {
     "duration": 0.012531,
     "end_time": "2024-05-13T22:11:11.005396",
     "exception": false,
     "start_time": "2024-05-13T22:11:10.992865",
     "status": "completed"
    },
    "tags": []
   },
   "outputs": [],
   "source": [
    "func = _known_functions[func_name]()\n",
    "\n",
    "if not positive_prior:\n",
    "\n",
    "\tenergy_grid = np.linspace(-5,5,1000)\n",
    "\n",
    "else:\n",
    "    \n",
    "    energy_grid = np.linspace(0,1,1000)\n",
    "    \n",
    "    \n",
    "    \n",
    "    \n",
    "blue = \"#4152E3\"\n",
    "red = \"#E3414B\"\n",
    "green = \"#41E39E\""
   ]
  },
  {
   "cell_type": "markdown",
   "id": "b5c3a0a9",
   "metadata": {
    "lines_to_next_cell": 0,
    "papermill": {
     "duration": 0.001043,
     "end_time": "2024-05-13T22:11:11.007657",
     "exception": false,
     "start_time": "2024-05-13T22:11:11.006614",
     "status": "completed"
    },
    "tags": []
   },
   "source": [
    "## Description"
   ]
  },
  {
   "cell_type": "code",
   "execution_count": 5,
   "id": "6fe499c1",
   "metadata": {
    "execution": {
     "iopub.execute_input": "2024-05-13T22:11:11.010460Z",
     "iopub.status.busy": "2024-05-13T22:11:11.010286Z",
     "iopub.status.idle": "2024-05-13T22:11:11.014895Z",
     "shell.execute_reply": "2024-05-13T22:11:11.014552Z"
    },
    "papermill": {
     "duration": 0.007751,
     "end_time": "2024-05-13T22:11:11.016368",
     "exception": false,
     "start_time": "2024-05-13T22:11:11.008617",
     "status": "completed"
    },
    "tags": []
   },
   "outputs": [
    {
     "data": {
      "text/html": [
       "<ul>\n",
       "\n",
       "<li>description: A log normal function</li>\n",
       "\n",
       "<li>formula: $ K \\frac{1}{ x \\sigma \\sqrt{2 \\pi}}\\exp{\\frac{(\\log x/piv - \\mu/piv)^2}{2~(\\sigma)^2}} $</li>\n",
       "\n",
       "<li>parameters: \n",
       "<ul>\n",
       "\n",
       "<li>F: \n",
       "<ul>\n",
       "\n",
       "<li>value: 1.0</li>\n",
       "\n",
       "<li>desc: Integral between 0and +inf. Fix this to 1 to obtain a log Normal distribution</li>\n",
       "\n",
       "<li>min_value: None</li>\n",
       "\n",
       "<li>max_value: None</li>\n",
       "\n",
       "<li>unit: </li>\n",
       "\n",
       "<li>is_normalization: False</li>\n",
       "\n",
       "<li>delta: 0.1</li>\n",
       "\n",
       "<li>free: True</li>\n",
       "\n",
       "</ul>\n",
       "\n",
       "</li>\n",
       "\n",
       "<li>mu: \n",
       "<ul>\n",
       "\n",
       "<li>value: 0.0</li>\n",
       "\n",
       "<li>desc: Central value</li>\n",
       "\n",
       "<li>min_value: None</li>\n",
       "\n",
       "<li>max_value: None</li>\n",
       "\n",
       "<li>unit: </li>\n",
       "\n",
       "<li>is_normalization: False</li>\n",
       "\n",
       "<li>delta: 0.1</li>\n",
       "\n",
       "<li>free: True</li>\n",
       "\n",
       "</ul>\n",
       "\n",
       "</li>\n",
       "\n",
       "<li>sigma: \n",
       "<ul>\n",
       "\n",
       "<li>value: 1.0</li>\n",
       "\n",
       "<li>desc: standard deviation</li>\n",
       "\n",
       "<li>min_value: 1e-12</li>\n",
       "\n",
       "<li>max_value: None</li>\n",
       "\n",
       "<li>unit: </li>\n",
       "\n",
       "<li>is_normalization: False</li>\n",
       "\n",
       "<li>delta: 0.1</li>\n",
       "\n",
       "<li>free: True</li>\n",
       "\n",
       "</ul>\n",
       "\n",
       "</li>\n",
       "\n",
       "<li>piv: \n",
       "<ul>\n",
       "\n",
       "<li>value: 1.0</li>\n",
       "\n",
       "<li>desc: pivot. Leave this to 1 for a proper log normal distribution</li>\n",
       "\n",
       "<li>min_value: None</li>\n",
       "\n",
       "<li>max_value: None</li>\n",
       "\n",
       "<li>unit: </li>\n",
       "\n",
       "<li>is_normalization: False</li>\n",
       "\n",
       "<li>delta: 0.1</li>\n",
       "\n",
       "<li>free: False</li>\n",
       "\n",
       "</ul>\n",
       "\n",
       "</li>\n",
       "\n",
       "</ul>\n",
       "\n",
       "</li>\n",
       "\n",
       "</ul>\n"
      ],
      "text/plain": [
       "  * description: A log normal function\n",
       "  * formula: $ K \\frac{1}{ x \\sigma \\sqrt{2 \\pi}}\\exp{\\frac{(\\log x/piv - \\mu/piv)^2}{2~(\\sigma)^2}}\n",
       "    * $\n",
       "  * parameters:\n",
       "    * F:\n",
       "      * value: 1.0\n",
       "      * desc: Integral between 0and +inf. Fix this to 1 to obtain a log Normal distribution\n",
       "      * min_value: null\n",
       "      * max_value: null\n",
       "      * unit: ''\n",
       "      * is_normalization: false\n",
       "      * delta: 0.1\n",
       "      * free: true\n",
       "    * mu:\n",
       "      * value: 0.0\n",
       "      * desc: Central value\n",
       "      * min_value: null\n",
       "      * max_value: null\n",
       "      * unit: ''\n",
       "      * is_normalization: false\n",
       "      * delta: 0.1\n",
       "      * free: true\n",
       "    * sigma:\n",
       "      * value: 1.0\n",
       "      * desc: standard deviation\n",
       "      * min_value: 1.0e-12\n",
       "      * max_value: null\n",
       "      * unit: ''\n",
       "      * is_normalization: false\n",
       "      * delta: 0.1\n",
       "      * free: true\n",
       "    * piv:\n",
       "      * value: 1.0\n",
       "      * desc: pivot. Leave this to 1 for a proper log normal distribution\n",
       "      * min_value: null\n",
       "      * max_value: null\n",
       "      * unit: ''\n",
       "      * is_normalization: false\n",
       "      * delta: 0.1\n",
       "      * free: false"
      ]
     },
     "metadata": {},
     "output_type": "display_data"
    }
   ],
   "source": [
    "func.display()"
   ]
  },
  {
   "cell_type": "markdown",
   "id": "099e5bad",
   "metadata": {
    "papermill": {
     "duration": 0.001383,
     "end_time": "2024-05-13T22:11:11.019119",
     "exception": false,
     "start_time": "2024-05-13T22:11:11.017736",
     "status": "completed"
    },
    "tags": []
   },
   "source": [
    "## Shape \n",
    "\n",
    "The shape of the function. \n",
    "\n",
    "*If this is not a photon model but a prior or linear function then ignore the units as these docs are auto-generated*"
   ]
  },
  {
   "cell_type": "code",
   "execution_count": 6,
   "id": "05c40b7b",
   "metadata": {
    "execution": {
     "iopub.execute_input": "2024-05-13T22:11:11.022326Z",
     "iopub.status.busy": "2024-05-13T22:11:11.022130Z",
     "iopub.status.idle": "2024-05-13T22:11:11.128921Z",
     "shell.execute_reply": "2024-05-13T22:11:11.128486Z"
    },
    "papermill": {
     "duration": 0.110216,
     "end_time": "2024-05-13T22:11:11.130471",
     "exception": false,
     "start_time": "2024-05-13T22:11:11.020255",
     "status": "completed"
    },
    "tags": [
     "nbsphinx-thumbnail"
    ]
   },
   "outputs": [
    {
     "data": {
      "text/plain": [
       "Text(0, 0.5, 'probability')"
      ]
     },
     "execution_count": 6,
     "metadata": {},
     "output_type": "execute_result"
    },
    {
     "data": {
      "image/png": "[encoded data removed]",
      "text/plain": [
       "<Figure size 1040x910 with 1 Axes>"
      ]
     },
     "metadata": {},
     "output_type": "display_data"
    }
   ],
   "source": [
    "fig, ax = plt.subplots()\n",
    "\n",
    "\n",
    "ax.plot(energy_grid, func(energy_grid), color=blue, lw=3)\n",
    "\n",
    "ax.set_xlabel(\"x\")\n",
    "ax.set_ylabel(\"probability\")\n"
   ]
  },
  {
   "cell_type": "markdown",
   "id": "84914915",
   "metadata": {
    "papermill": {
     "duration": 0.00157,
     "end_time": "2024-05-13T22:11:11.133741",
     "exception": false,
     "start_time": "2024-05-13T22:11:11.132171",
     "status": "completed"
    },
    "tags": []
   },
   "source": [
    "## Random Number Generation\n",
    "\n",
    "This is how we can generate random numbers from the prior.\n"
   ]
  },
  {
   "cell_type": "code",
   "execution_count": 7,
   "id": "5c7eaef8",
   "metadata": {
    "execution": {
     "iopub.execute_input": "2024-05-13T22:11:11.137338Z",
     "iopub.status.busy": "2024-05-13T22:11:11.137183Z",
     "iopub.status.idle": "2024-05-13T22:11:11.272206Z",
     "shell.execute_reply": "2024-05-13T22:11:11.271806Z"
    },
    "papermill": {
     "duration": 0.139488,
     "end_time": "2024-05-13T22:11:11.274600",
     "exception": false,
     "start_time": "2024-05-13T22:11:11.135112",
     "status": "completed"
    },
    "tags": []
   },
   "outputs": [
    {
     "data": {
      "text/plain": [
       "Text(0, 0.5, 'N')"
      ]
     },
     "execution_count": 7,
     "metadata": {},
     "output_type": "execute_result"
    },
    {
     "data": {
      "image/png": "[encoded data removed]",
      "text/plain": [
       "<Figure size 1040x910 with 1 Axes>"
      ]
     },
     "metadata": {},
     "output_type": "display_data"
    }
   ],
   "source": [
    "\n",
    "\n",
    "u = np.random.uniform(0,1, size=5000)\n",
    "\n",
    "draws = [func.from_unit_cube(x) for x in u]\n",
    "\n",
    "\n",
    "fig, ax = plt.subplots()\n",
    "\n",
    "\n",
    "ax.hist(draws, color=green, bins=50)\n",
    "\n",
    "ax.set_xlabel(\"value\")\n",
    "ax.set_ylabel(\"N\")\n",
    "\n"
   ]
  }
 ],
 "metadata": {
  "jupytext": {
   "formats": "ipynb,md"
  },
  "kernelspec": {
   "display_name": "Python 3 (ipykernel)",
   "language": "python",
   "name": "python3"
  },
  "language_info": {
   "codemirror_mode": {
    "name": "ipython",
    "version": 3
   },
   "file_extension": ".py",
   "mimetype": "text/x-python",
   "name": "python",
   "nbconvert_exporter": "python",
   "pygments_lexer": "ipython3",
   "version": "3.9.13"
  },
  "papermill": {
   "default_parameters": {},
   "duration": 2.640391,
   "end_time": "2024-05-13T22:11:11.601320",
   "environment_variables": {},
   "exception": null,
   "input_path": "Log_normal.ipynb",
   "output_path": "/Users/runner/work/astromodels/astromodels/docs/notebooks/Log_normal.ipynb",
   "parameters": {
    "func_name": "Log_normal",
    "positive_prior": true
   },
   "start_time": "2024-05-13T22:11:08.960929",
   "version": "2.6.0"
  }
 },
 "nbformat": 4,
 "nbformat_minor": 5
}
