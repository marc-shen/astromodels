{
 "cells": [
  {
   "cell_type": "markdown",
   "id": "6b595ed7",
   "metadata": {
    "papermill": {
     "duration": 0.001779,
     "end_time": "2024-05-08T20:07:53.453594",
     "exception": false,
     "start_time": "2024-05-08T20:07:53.451815",
     "status": "completed"
    },
    "tags": []
   },
   "source": [
    "# Log normal"
   ]
  },
  {
   "cell_type": "code",
   "execution_count": 1,
   "id": "ba2b6b50",
   "metadata": {
    "execution": {
     "iopub.execute_input": "2024-05-08T20:07:53.458066Z",
     "iopub.status.busy": "2024-05-08T20:07:53.457847Z",
     "iopub.status.idle": "2024-05-08T20:07:55.369350Z",
     "shell.execute_reply": "2024-05-08T20:07:55.368013Z"
    },
    "nbsphinx": "hidden",
    "papermill": {
     "duration": 1.91756,
     "end_time": "2024-05-08T20:07:55.373112",
     "exception": false,
     "start_time": "2024-05-08T20:07:53.455552",
     "status": "completed"
    },
    "tags": []
   },
   "outputs": [],
   "source": [
    "%%capture\n",
    "\n",
    "import numpy as np\n",
    "\n",
    "import matplotlib.pyplot as plt\n",
    "\n",
    "import warnings\n",
    "warnings.simplefilter(\"ignore\")\n",
    "\n",
    "from astromodels.functions.function import _known_functions\n",
    "\n",
    "\n",
    "from jupyterthemes import jtplot\n",
    "jtplot.style(context=\"talk\", fscale=1, ticks=True, grid=False)\n",
    "%matplotlib inline"
   ]
  },
  {
   "cell_type": "code",
   "execution_count": 2,
   "id": "c53b5211",
   "metadata": {
    "execution": {
     "iopub.execute_input": "2024-05-08T20:07:55.379932Z",
     "iopub.status.busy": "2024-05-08T20:07:55.379102Z",
     "iopub.status.idle": "2024-05-08T20:07:55.383802Z",
     "shell.execute_reply": "2024-05-08T20:07:55.382772Z"
    },
    "nbsphinx": "hidden",
    "papermill": {
     "duration": 0.011817,
     "end_time": "2024-05-08T20:07:55.388052",
     "exception": false,
     "start_time": "2024-05-08T20:07:55.376235",
     "status": "completed"
    },
    "tags": [
     "parameters"
    ]
   },
   "outputs": [],
   "source": [
    "func_name = \"TbAbs\"\n",
    "\n",
    "positive_prior = False\n"
   ]
  },
  {
   "cell_type": "code",
   "execution_count": 3,
   "id": "829693cc",
   "metadata": {
    "execution": {
     "iopub.execute_input": "2024-05-08T20:07:55.392216Z",
     "iopub.status.busy": "2024-05-08T20:07:55.391980Z",
     "iopub.status.idle": "2024-05-08T20:07:55.395219Z",
     "shell.execute_reply": "2024-05-08T20:07:55.394269Z"
    },
    "papermill": {
     "duration": 0.008073,
     "end_time": "2024-05-08T20:07:55.397479",
     "exception": false,
     "start_time": "2024-05-08T20:07:55.389406",
     "status": "completed"
    },
    "tags": [
     "injected-parameters"
    ]
   },
   "outputs": [],
   "source": [
    "# Parameters\n",
    "func_name = \"Log_normal\"\n",
    "positive_prior = True\n"
   ]
  },
  {
   "cell_type": "code",
   "execution_count": 4,
   "id": "22deab85",
   "metadata": {
    "execution": {
     "iopub.execute_input": "2024-05-08T20:07:55.403417Z",
     "iopub.status.busy": "2024-05-08T20:07:55.403154Z",
     "iopub.status.idle": "2024-05-08T20:07:55.409206Z",
     "shell.execute_reply": "2024-05-08T20:07:55.408162Z"
    },
    "lines_to_next_cell": 0,
    "nbsphinx": "hidden",
    "papermill": {
     "duration": 0.012185,
     "end_time": "2024-05-08T20:07:55.411362",
     "exception": false,
     "start_time": "2024-05-08T20:07:55.399177",
     "status": "completed"
    },
    "tags": []
   },
   "outputs": [],
   "source": [
    "func = _known_functions[func_name]()\n",
    "\n",
    "if not positive_prior:\n",
    "\n",
    "\tenergy_grid = np.linspace(-5,5,1000)\n",
    "\n",
    "else:\n",
    "    \n",
    "    energy_grid = np.linspace(0,1,1000)\n",
    "    \n",
    "    \n",
    "    \n",
    "    \n",
    "blue = \"#4152E3\"\n",
    "red = \"#E3414B\"\n",
    "green = \"#41E39E\""
   ]
  },
  {
   "cell_type": "markdown",
   "id": "c13bb1cf",
   "metadata": {
    "lines_to_next_cell": 0,
    "papermill": {
     "duration": 0.001284,
     "end_time": "2024-05-08T20:07:55.414070",
     "exception": false,
     "start_time": "2024-05-08T20:07:55.412786",
     "status": "completed"
    },
    "tags": []
   },
   "source": [
    "## Description"
   ]
  },
  {
   "cell_type": "code",
   "execution_count": 5,
   "id": "1ce23bdd",
   "metadata": {
    "execution": {
     "iopub.execute_input": "2024-05-08T20:07:55.418339Z",
     "iopub.status.busy": "2024-05-08T20:07:55.417854Z",
     "iopub.status.idle": "2024-05-08T20:07:55.425215Z",
     "shell.execute_reply": "2024-05-08T20:07:55.424293Z"
    },
    "papermill": {
     "duration": 0.01236,
     "end_time": "2024-05-08T20:07:55.427562",
     "exception": false,
     "start_time": "2024-05-08T20:07:55.415202",
     "status": "completed"
    },
    "tags": []
   },
   "outputs": [
    {
     "data": {
      "text/html": [
       "<ul>\n",
       "\n",
       "<li>description: A log normal function</li>\n",
       "\n",
       "<li>formula: $ K \\frac{1}{ x \\sigma \\sqrt{2 \\pi}}\\exp{\\frac{(\\log x/piv - \\mu/piv)^2}{2~(\\sigma)^2}} $</li>\n",
       "\n",
       "<li>parameters: \n",
       "<ul>\n",
       "\n",
       "<li>F: \n",
       "<ul>\n",
       "\n",
       "<li>value: 1.0</li>\n",
       "\n",
       "<li>desc: Integral between 0and +inf. Fix this to 1 to obtain a log Normal distribution</li>\n",
       "\n",
       "<li>min_value: None</li>\n",
       "\n",
       "<li>max_value: None</li>\n",
       "\n",
       "<li>unit: </li>\n",
       "\n",
       "<li>is_normalization: False</li>\n",
       "\n",
       "<li>delta: 0.1</li>\n",
       "\n",
       "<li>free: True</li>\n",
       "\n",
       "</ul>\n",
       "\n",
       "</li>\n",
       "\n",
       "<li>mu: \n",
       "<ul>\n",
       "\n",
       "<li>value: 0.0</li>\n",
       "\n",
       "<li>desc: Central value</li>\n",
       "\n",
       "<li>min_value: None</li>\n",
       "\n",
       "<li>max_value: None</li>\n",
       "\n",
       "<li>unit: </li>\n",
       "\n",
       "<li>is_normalization: False</li>\n",
       "\n",
       "<li>delta: 0.1</li>\n",
       "\n",
       "<li>free: True</li>\n",
       "\n",
       "</ul>\n",
       "\n",
       "</li>\n",
       "\n",
       "<li>sigma: \n",
       "<ul>\n",
       "\n",
       "<li>value: 1.0</li>\n",
       "\n",
       "<li>desc: standard deviation</li>\n",
       "\n",
       "<li>min_value: 1e-12</li>\n",
       "\n",
       "<li>max_value: None</li>\n",
       "\n",
       "<li>unit: </li>\n",
       "\n",
       "<li>is_normalization: False</li>\n",
       "\n",
       "<li>delta: 0.1</li>\n",
       "\n",
       "<li>free: True</li>\n",
       "\n",
       "</ul>\n",
       "\n",
       "</li>\n",
       "\n",
       "<li>piv: \n",
       "<ul>\n",
       "\n",
       "<li>value: 1.0</li>\n",
       "\n",
       "<li>desc: pivot. Leave this to 1 for a proper log normal distribution</li>\n",
       "\n",
       "<li>min_value: None</li>\n",
       "\n",
       "<li>max_value: None</li>\n",
       "\n",
       "<li>unit: </li>\n",
       "\n",
       "<li>is_normalization: False</li>\n",
       "\n",
       "<li>delta: 0.1</li>\n",
       "\n",
       "<li>free: False</li>\n",
       "\n",
       "</ul>\n",
       "\n",
       "</li>\n",
       "\n",
       "</ul>\n",
       "\n",
       "</li>\n",
       "\n",
       "</ul>\n"
      ],
      "text/plain": [
       "  * description: A log normal function\n",
       "  * formula: $ K \\frac{1}{ x \\sigma \\sqrt{2 \\pi}}\\exp{\\frac{(\\log x/piv - \\mu/piv)^2}{2~(\\sigma)^2}}\n",
       "    * $\n",
       "  * parameters:\n",
       "    * F:\n",
       "      * value: 1.0\n",
       "      * desc: Integral between 0and +inf. Fix this to 1 to obtain a log Normal distribution\n",
       "      * min_value: null\n",
       "      * max_value: null\n",
       "      * unit: ''\n",
       "      * is_normalization: false\n",
       "      * delta: 0.1\n",
       "      * free: true\n",
       "    * mu:\n",
       "      * value: 0.0\n",
       "      * desc: Central value\n",
       "      * min_value: null\n",
       "      * max_value: null\n",
       "      * unit: ''\n",
       "      * is_normalization: false\n",
       "      * delta: 0.1\n",
       "      * free: true\n",
       "    * sigma:\n",
       "      * value: 1.0\n",
       "      * desc: standard deviation\n",
       "      * min_value: 1.0e-12\n",
       "      * max_value: null\n",
       "      * unit: ''\n",
       "      * is_normalization: false\n",
       "      * delta: 0.1\n",
       "      * free: true\n",
       "    * piv:\n",
       "      * value: 1.0\n",
       "      * desc: pivot. Leave this to 1 for a proper log normal distribution\n",
       "      * min_value: null\n",
       "      * max_value: null\n",
       "      * unit: ''\n",
       "      * is_normalization: false\n",
       "      * delta: 0.1\n",
       "      * free: false"
      ]
     },
     "metadata": {},
     "output_type": "display_data"
    }
   ],
   "source": [
    "func.display()"
   ]
  },
  {
   "cell_type": "markdown",
   "id": "6278077c",
   "metadata": {
    "papermill": {
     "duration": 0.001354,
     "end_time": "2024-05-08T20:07:55.430383",
     "exception": false,
     "start_time": "2024-05-08T20:07:55.429029",
     "status": "completed"
    },
    "tags": []
   },
   "source": [
    "## Shape \n",
    "\n",
    "The shape of the function. \n",
    "\n",
    "*If this is not a photon model but a prior or linear function then ignore the units as these docs are auto-generated*"
   ]
  },
  {
   "cell_type": "code",
   "execution_count": 6,
   "id": "564617f7",
   "metadata": {
    "execution": {
     "iopub.execute_input": "2024-05-08T20:07:55.434414Z",
     "iopub.status.busy": "2024-05-08T20:07:55.434177Z",
     "iopub.status.idle": "2024-05-08T20:07:55.602803Z",
     "shell.execute_reply": "2024-05-08T20:07:55.600059Z"
    },
    "papermill": {
     "duration": 0.175012,
     "end_time": "2024-05-08T20:07:55.606858",
     "exception": false,
     "start_time": "2024-05-08T20:07:55.431846",
     "status": "completed"
    },
    "tags": [
     "nbsphinx-thumbnail"
    ]
   },
   "outputs": [
    {
     "data": {
      "text/plain": [
       "Text(0, 0.5, 'probability')"
      ]
     },
     "execution_count": 6,
     "metadata": {},
     "output_type": "execute_result"
    },
    {
     "data": {
      "image/png": "[encoded data removed]",
      "text/plain": [
       "<Figure size 1040x910 with 1 Axes>"
      ]
     },
     "metadata": {},
     "output_type": "display_data"
    }
   ],
   "source": [
    "fig, ax = plt.subplots()\n",
    "\n",
    "\n",
    "ax.plot(energy_grid, func(energy_grid), color=blue, lw=3)\n",
    "\n",
    "ax.set_xlabel(\"x\")\n",
    "ax.set_ylabel(\"probability\")\n"
   ]
  },
  {
   "cell_type": "markdown",
   "id": "8ce23584",
   "metadata": {
    "papermill": {
     "duration": 0.002769,
     "end_time": "2024-05-08T20:07:55.612510",
     "exception": false,
     "start_time": "2024-05-08T20:07:55.609741",
     "status": "completed"
    },
    "tags": []
   },
   "source": [
    "## Random Number Generation\n",
    "\n",
    "This is how we can generate random numbers from the prior.\n"
   ]
  },
  {
   "cell_type": "code",
   "execution_count": 7,
   "id": "f236802e",
   "metadata": {
    "execution": {
     "iopub.execute_input": "2024-05-08T20:07:55.620502Z",
     "iopub.status.busy": "2024-05-08T20:07:55.619698Z",
     "iopub.status.idle": "2024-05-08T20:07:55.823077Z",
     "shell.execute_reply": "2024-05-08T20:07:55.822001Z"
    },
    "papermill": {
     "duration": 0.209987,
     "end_time": "2024-05-08T20:07:55.826741",
     "exception": false,
     "start_time": "2024-05-08T20:07:55.616754",
     "status": "completed"
    },
    "tags": []
   },
   "outputs": [
    {
     "data": {
      "text/plain": [
       "Text(0, 0.5, 'N')"
      ]
     },
     "execution_count": 7,
     "metadata": {},
     "output_type": "execute_result"
    },
    {
     "data": {
      "image/png": "[encoded data removed]",
      "text/plain": [
       "<Figure size 1040x910 with 1 Axes>"
      ]
     },
     "metadata": {},
     "output_type": "display_data"
    }
   ],
   "source": [
    "\n",
    "\n",
    "u = np.random.uniform(0,1, size=5000)\n",
    "\n",
    "draws = [func.from_unit_cube(x) for x in u]\n",
    "\n",
    "\n",
    "fig, ax = plt.subplots()\n",
    "\n",
    "\n",
    "ax.hist(draws, color=green, bins=50)\n",
    "\n",
    "ax.set_xlabel(\"value\")\n",
    "ax.set_ylabel(\"N\")\n",
    "\n"
   ]
  }
 ],
 "metadata": {
  "jupytext": {
   "formats": "ipynb,md"
  },
  "kernelspec": {
   "display_name": "Python 3 (ipykernel)",
   "language": "python",
   "name": "python3"
  },
  "language_info": {
   "codemirror_mode": {
    "name": "ipython",
    "version": 3
   },
   "file_extension": ".py",
   "mimetype": "text/x-python",
   "name": "python",
   "nbconvert_exporter": "python",
   "pygments_lexer": "ipython3",
   "version": "3.9.13"
  },
  "papermill": {
   "default_parameters": {},
   "duration": 3.751117,
   "end_time": "2024-05-08T20:07:56.368725",
   "environment_variables": {},
   "exception": null,
   "input_path": "Log_normal.ipynb",
   "output_path": "/Users/runner/work/astromodels/astromodels/docs/notebooks/Log_normal.ipynb",
   "parameters": {
    "func_name": "Log_normal",
    "positive_prior": true
   },
   "start_time": "2024-05-08T20:07:52.617608",
   "version": "2.6.0"
  }
 },
 "nbformat": 4,
 "nbformat_minor": 5
}
