{
 "cells": [
  {
   "cell_type": "markdown",
   "id": "e3a52b3d",
   "metadata": {
    "papermill": {
     "duration": 0.003032,
     "end_time": "2023-11-01T19:24:15.620880",
     "exception": false,
     "start_time": "2023-11-01T19:24:15.617848",
     "status": "completed"
    },
    "tags": []
   },
   "source": [
    "# Log normal"
   ]
  },
  {
   "cell_type": "code",
   "execution_count": 1,
   "id": "ae373406",
   "metadata": {
    "execution": {
     "iopub.execute_input": "2023-11-01T19:24:15.627506Z",
     "iopub.status.busy": "2023-11-01T19:24:15.627079Z",
     "iopub.status.idle": "2023-11-01T19:24:18.508664Z",
     "shell.execute_reply": "2023-11-01T19:24:18.507069Z"
    },
    "nbsphinx": "hidden",
    "papermill": {
     "duration": 2.889286,
     "end_time": "2023-11-01T19:24:18.512642",
     "exception": false,
     "start_time": "2023-11-01T19:24:15.623356",
     "status": "completed"
    },
    "tags": []
   },
   "outputs": [],
   "source": [
    "%%capture\n",
    "\n",
    "import numpy as np\n",
    "\n",
    "import matplotlib.pyplot as plt\n",
    "\n",
    "import warnings\n",
    "warnings.simplefilter(\"ignore\")\n",
    "\n",
    "from astromodels.functions.function import _known_functions\n",
    "\n",
    "\n",
    "from jupyterthemes import jtplot\n",
    "jtplot.style(context=\"talk\", fscale=1, ticks=True, grid=False)\n",
    "%matplotlib inline"
   ]
  },
  {
   "cell_type": "code",
   "execution_count": 2,
   "id": "b71982bf",
   "metadata": {
    "execution": {
     "iopub.execute_input": "2023-11-01T19:24:18.519751Z",
     "iopub.status.busy": "2023-11-01T19:24:18.519295Z",
     "iopub.status.idle": "2023-11-01T19:24:18.526297Z",
     "shell.execute_reply": "2023-11-01T19:24:18.524896Z"
    },
    "nbsphinx": "hidden",
    "papermill": {
     "duration": 0.014961,
     "end_time": "2023-11-01T19:24:18.530083",
     "exception": false,
     "start_time": "2023-11-01T19:24:18.515122",
     "status": "completed"
    },
    "tags": [
     "parameters"
    ]
   },
   "outputs": [],
   "source": [
    "func_name = \"TbAbs\"\n",
    "\n",
    "positive_prior = False\n"
   ]
  },
  {
   "cell_type": "code",
   "execution_count": 3,
   "id": "6c34768a",
   "metadata": {
    "execution": {
     "iopub.execute_input": "2023-11-01T19:24:18.536486Z",
     "iopub.status.busy": "2023-11-01T19:24:18.536148Z",
     "iopub.status.idle": "2023-11-01T19:24:18.545137Z",
     "shell.execute_reply": "2023-11-01T19:24:18.543932Z"
    },
    "papermill": {
     "duration": 0.016383,
     "end_time": "2023-11-01T19:24:18.548847",
     "exception": false,
     "start_time": "2023-11-01T19:24:18.532464",
     "status": "completed"
    },
    "tags": [
     "injected-parameters"
    ]
   },
   "outputs": [],
   "source": [
    "# Parameters\n",
    "func_name = \"Log_normal\"\n",
    "positive_prior = True\n"
   ]
  },
  {
   "cell_type": "code",
   "execution_count": 4,
   "id": "75167611",
   "metadata": {
    "execution": {
     "iopub.execute_input": "2023-11-01T19:24:18.558225Z",
     "iopub.status.busy": "2023-11-01T19:24:18.557140Z",
     "iopub.status.idle": "2023-11-01T19:24:18.570020Z",
     "shell.execute_reply": "2023-11-01T19:24:18.568725Z"
    },
    "lines_to_next_cell": 0,
    "nbsphinx": "hidden",
    "papermill": {
     "duration": 0.023389,
     "end_time": "2023-11-01T19:24:18.574724",
     "exception": false,
     "start_time": "2023-11-01T19:24:18.551335",
     "status": "completed"
    },
    "tags": []
   },
   "outputs": [],
   "source": [
    "func = _known_functions[func_name]()\n",
    "\n",
    "if not positive_prior:\n",
    "\n",
    "\tenergy_grid = np.linspace(-5,5,1000)\n",
    "\n",
    "else:\n",
    "    \n",
    "    energy_grid = np.linspace(0,1,1000)\n",
    "    \n",
    "    \n",
    "    \n",
    "    \n",
    "blue = \"#4152E3\"\n",
    "red = \"#E3414B\"\n",
    "green = \"#41E39E\""
   ]
  },
  {
   "cell_type": "markdown",
   "id": "325abfc7",
   "metadata": {
    "lines_to_next_cell": 0,
    "papermill": {
     "duration": 0.002798,
     "end_time": "2023-11-01T19:24:18.580361",
     "exception": false,
     "start_time": "2023-11-01T19:24:18.577563",
     "status": "completed"
    },
    "tags": []
   },
   "source": [
    "## Description"
   ]
  },
  {
   "cell_type": "code",
   "execution_count": 5,
   "id": "ea458c78",
   "metadata": {
    "execution": {
     "iopub.execute_input": "2023-11-01T19:24:18.588200Z",
     "iopub.status.busy": "2023-11-01T19:24:18.587640Z",
     "iopub.status.idle": "2023-11-01T19:24:18.600869Z",
     "shell.execute_reply": "2023-11-01T19:24:18.599542Z"
    },
    "papermill": {
     "duration": 0.02199,
     "end_time": "2023-11-01T19:24:18.604941",
     "exception": false,
     "start_time": "2023-11-01T19:24:18.582951",
     "status": "completed"
    },
    "tags": []
   },
   "outputs": [
    {
     "data": {
      "text/html": [
       "<ul>\n",
       "\n",
       "<li>description: A log normal function</li>\n",
       "\n",
       "<li>formula: $ K \\frac{1}{ x \\sigma \\sqrt{2 \\pi}}\\exp{\\frac{(\\log x/piv - \\mu/piv)^2}{2~(\\sigma)^2}} $</li>\n",
       "\n",
       "<li>parameters: \n",
       "<ul>\n",
       "\n",
       "<li>F: \n",
       "<ul>\n",
       "\n",
       "<li>value: 1.0</li>\n",
       "\n",
       "<li>desc: Integral between 0and +inf. Fix this to 1 to obtain a log Normal distribution</li>\n",
       "\n",
       "<li>min_value: None</li>\n",
       "\n",
       "<li>max_value: None</li>\n",
       "\n",
       "<li>unit: </li>\n",
       "\n",
       "<li>is_normalization: False</li>\n",
       "\n",
       "<li>delta: 0.1</li>\n",
       "\n",
       "<li>free: True</li>\n",
       "\n",
       "</ul>\n",
       "\n",
       "</li>\n",
       "\n",
       "<li>mu: \n",
       "<ul>\n",
       "\n",
       "<li>value: 0.0</li>\n",
       "\n",
       "<li>desc: Central value</li>\n",
       "\n",
       "<li>min_value: None</li>\n",
       "\n",
       "<li>max_value: None</li>\n",
       "\n",
       "<li>unit: </li>\n",
       "\n",
       "<li>is_normalization: False</li>\n",
       "\n",
       "<li>delta: 0.1</li>\n",
       "\n",
       "<li>free: True</li>\n",
       "\n",
       "</ul>\n",
       "\n",
       "</li>\n",
       "\n",
       "<li>sigma: \n",
       "<ul>\n",
       "\n",
       "<li>value: 1.0</li>\n",
       "\n",
       "<li>desc: standard deviation</li>\n",
       "\n",
       "<li>min_value: 1e-12</li>\n",
       "\n",
       "<li>max_value: None</li>\n",
       "\n",
       "<li>unit: </li>\n",
       "\n",
       "<li>is_normalization: False</li>\n",
       "\n",
       "<li>delta: 0.1</li>\n",
       "\n",
       "<li>free: True</li>\n",
       "\n",
       "</ul>\n",
       "\n",
       "</li>\n",
       "\n",
       "<li>piv: \n",
       "<ul>\n",
       "\n",
       "<li>value: 1.0</li>\n",
       "\n",
       "<li>desc: pivot. Leave this to 1 for a proper log normal distribution</li>\n",
       "\n",
       "<li>min_value: None</li>\n",
       "\n",
       "<li>max_value: None</li>\n",
       "\n",
       "<li>unit: </li>\n",
       "\n",
       "<li>is_normalization: False</li>\n",
       "\n",
       "<li>delta: 0.1</li>\n",
       "\n",
       "<li>free: False</li>\n",
       "\n",
       "</ul>\n",
       "\n",
       "</li>\n",
       "\n",
       "</ul>\n",
       "\n",
       "</li>\n",
       "\n",
       "</ul>\n"
      ],
      "text/plain": [
       "  * description: A log normal function\n",
       "  * formula: $ K \\frac{1}{ x \\sigma \\sqrt{2 \\pi}}\\exp{\\frac{(\\log x/piv - \\mu/piv)^2}{2~(\\sigma)^2}}\n",
       "    * $\n",
       "  * parameters:\n",
       "    * F:\n",
       "      * value: 1.0\n",
       "      * desc: Integral between 0and +inf. Fix this to 1 to obtain a log Normal distribution\n",
       "      * min_value: null\n",
       "      * max_value: null\n",
       "      * unit: ''\n",
       "      * is_normalization: false\n",
       "      * delta: 0.1\n",
       "      * free: true\n",
       "    * mu:\n",
       "      * value: 0.0\n",
       "      * desc: Central value\n",
       "      * min_value: null\n",
       "      * max_value: null\n",
       "      * unit: ''\n",
       "      * is_normalization: false\n",
       "      * delta: 0.1\n",
       "      * free: true\n",
       "    * sigma:\n",
       "      * value: 1.0\n",
       "      * desc: standard deviation\n",
       "      * min_value: 1.0e-12\n",
       "      * max_value: null\n",
       "      * unit: ''\n",
       "      * is_normalization: false\n",
       "      * delta: 0.1\n",
       "      * free: true\n",
       "    * piv:\n",
       "      * value: 1.0\n",
       "      * desc: pivot. Leave this to 1 for a proper log normal distribution\n",
       "      * min_value: null\n",
       "      * max_value: null\n",
       "      * unit: ''\n",
       "      * is_normalization: false\n",
       "      * delta: 0.1\n",
       "      * free: false"
      ]
     },
     "metadata": {},
     "output_type": "display_data"
    }
   ],
   "source": [
    "func.display()"
   ]
  },
  {
   "cell_type": "markdown",
   "id": "03e18643",
   "metadata": {
    "papermill": {
     "duration": 0.002712,
     "end_time": "2023-11-01T19:24:18.610410",
     "exception": false,
     "start_time": "2023-11-01T19:24:18.607698",
     "status": "completed"
    },
    "tags": []
   },
   "source": [
    "## Shape \n",
    "\n",
    "The shape of the function. \n",
    "\n",
    "*If this is not a photon model but a prior or linear function then ignore the units as these docs are auto-generated*"
   ]
  },
  {
   "cell_type": "code",
   "execution_count": 6,
   "id": "b758f8ec",
   "metadata": {
    "execution": {
     "iopub.execute_input": "2023-11-01T19:24:18.622272Z",
     "iopub.status.busy": "2023-11-01T19:24:18.621716Z",
     "iopub.status.idle": "2023-11-01T19:24:18.837628Z",
     "shell.execute_reply": "2023-11-01T19:24:18.836153Z"
    },
    "papermill": {
     "duration": 0.226096,
     "end_time": "2023-11-01T19:24:18.841564",
     "exception": false,
     "start_time": "2023-11-01T19:24:18.615468",
     "status": "completed"
    },
    "tags": [
     "nbsphinx-thumbnail"
    ]
   },
   "outputs": [
    {
     "data": {
      "text/plain": [
       "Text(0, 0.5, 'probability')"
      ]
     },
     "execution_count": 6,
     "metadata": {},
     "output_type": "execute_result"
    },
    {
     "data": {
      "image/png": "[encoded data removed]",
      "text/plain": [
       "<Figure size 1040x910 with 1 Axes>"
      ]
     },
     "metadata": {},
     "output_type": "display_data"
    }
   ],
   "source": [
    "fig, ax = plt.subplots()\n",
    "\n",
    "\n",
    "ax.plot(energy_grid, func(energy_grid), color=blue, lw=3)\n",
    "\n",
    "ax.set_xlabel(\"x\")\n",
    "ax.set_ylabel(\"probability\")\n"
   ]
  },
  {
   "cell_type": "markdown",
   "id": "f525a311",
   "metadata": {
    "papermill": {
     "duration": 0.003242,
     "end_time": "2023-11-01T19:24:18.847932",
     "exception": false,
     "start_time": "2023-11-01T19:24:18.844690",
     "status": "completed"
    },
    "tags": []
   },
   "source": [
    "## Random Number Generation\n",
    "\n",
    "This is how we can generate random numbers from the prior.\n"
   ]
  },
  {
   "cell_type": "code",
   "execution_count": 7,
   "id": "52d47643",
   "metadata": {
    "execution": {
     "iopub.execute_input": "2023-11-01T19:24:18.858038Z",
     "iopub.status.busy": "2023-11-01T19:24:18.857631Z",
     "iopub.status.idle": "2023-11-01T19:24:19.213641Z",
     "shell.execute_reply": "2023-11-01T19:24:19.212511Z"
    },
    "papermill": {
     "duration": 0.365728,
     "end_time": "2023-11-01T19:24:19.218011",
     "exception": false,
     "start_time": "2023-11-01T19:24:18.852283",
     "status": "completed"
    },
    "tags": []
   },
   "outputs": [
    {
     "data": {
      "text/plain": [
       "Text(0, 0.5, 'N')"
      ]
     },
     "execution_count": 7,
     "metadata": {},
     "output_type": "execute_result"
    },
    {
     "data": {
      "image/png": "[encoded data removed]",
      "text/plain": [
       "<Figure size 1040x910 with 1 Axes>"
      ]
     },
     "metadata": {},
     "output_type": "display_data"
    }
   ],
   "source": [
    "\n",
    "\n",
    "u = np.random.uniform(0,1, size=5000)\n",
    "\n",
    "draws = [func.from_unit_cube(x) for x in u]\n",
    "\n",
    "\n",
    "fig, ax = plt.subplots()\n",
    "\n",
    "\n",
    "ax.hist(draws, color=green, bins=50)\n",
    "\n",
    "ax.set_xlabel(\"value\")\n",
    "ax.set_ylabel(\"N\")\n",
    "\n"
   ]
  }
 ],
 "metadata": {
  "jupytext": {
   "formats": "ipynb,md"
  },
  "kernelspec": {
   "display_name": "Python 3 (ipykernel)",
   "language": "python",
   "name": "python3"
  },
  "language_info": {
   "codemirror_mode": {
    "name": "ipython",
    "version": 3
   },
   "file_extension": ".py",
   "mimetype": "text/x-python",
   "name": "python",
   "nbconvert_exporter": "python",
   "pygments_lexer": "ipython3",
   "version": "3.9.18"
  },
  "papermill": {
   "default_parameters": {},
   "duration": 5.142481,
   "end_time": "2023-11-01T19:24:19.784748",
   "environment_variables": {},
   "exception": null,
   "input_path": "Log_normal.ipynb",
   "output_path": "/Users/runner/work/astromodels/astromodels/docs/notebooks/Log_normal.ipynb",
   "parameters": {
    "func_name": "Log_normal",
    "positive_prior": true
   },
   "start_time": "2023-11-01T19:24:14.642267",
   "version": "2.4.0"
  }
 },
 "nbformat": 4,
 "nbformat_minor": 5
}
