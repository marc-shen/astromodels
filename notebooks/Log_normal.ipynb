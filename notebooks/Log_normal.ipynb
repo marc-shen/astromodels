{
 "cells": [
  {
   "cell_type": "markdown",
   "id": "0cd15a0f",
   "metadata": {
    "papermill": {
     "duration": 0.010667,
     "end_time": "2024-09-11T21:49:36.887634",
     "exception": false,
     "start_time": "2024-09-11T21:49:36.876967",
     "status": "completed"
    },
    "tags": []
   },
   "source": [
    "# Log normal"
   ]
  },
  {
   "cell_type": "code",
   "execution_count": 1,
   "id": "c4e8af09",
   "metadata": {
    "execution": {
     "iopub.execute_input": "2024-09-11T21:49:36.899970Z",
     "iopub.status.busy": "2024-09-11T21:49:36.899360Z",
     "iopub.status.idle": "2024-09-11T21:49:38.291493Z",
     "shell.execute_reply": "2024-09-11T21:49:38.290957Z"
    },
    "nbsphinx": "hidden",
    "papermill": {
     "duration": 1.400059,
     "end_time": "2024-09-11T21:49:38.293009",
     "exception": false,
     "start_time": "2024-09-11T21:49:36.892950",
     "status": "completed"
    },
    "tags": []
   },
   "outputs": [],
   "source": [
    "%%capture\n",
    "\n",
    "import numpy as np\n",
    "\n",
    "import matplotlib.pyplot as plt\n",
    "\n",
    "import warnings\n",
    "warnings.simplefilter(\"ignore\")\n",
    "\n",
    "from astromodels.functions.function import _known_functions\n",
    "\n",
    "\n",
    "from jupyterthemes import jtplot\n",
    "jtplot.style(context=\"talk\", fscale=1, ticks=True, grid=False)\n",
    "%matplotlib inline"
   ]
  },
  {
   "cell_type": "code",
   "execution_count": 2,
   "id": "303664b4",
   "metadata": {
    "execution": {
     "iopub.execute_input": "2024-09-11T21:49:38.296177Z",
     "iopub.status.busy": "2024-09-11T21:49:38.295867Z",
     "iopub.status.idle": "2024-09-11T21:49:38.304223Z",
     "shell.execute_reply": "2024-09-11T21:49:38.303782Z"
    },
    "nbsphinx": "hidden",
    "papermill": {
     "duration": 0.011316,
     "end_time": "2024-09-11T21:49:38.305554",
     "exception": false,
     "start_time": "2024-09-11T21:49:38.294238",
     "status": "completed"
    },
    "tags": [
     "parameters"
    ]
   },
   "outputs": [],
   "source": [
    "func_name = \"TbAbs\"\n",
    "\n",
    "positive_prior = False\n"
   ]
  },
  {
   "cell_type": "code",
   "execution_count": 3,
   "id": "765098c8",
   "metadata": {
    "execution": {
     "iopub.execute_input": "2024-09-11T21:49:38.308298Z",
     "iopub.status.busy": "2024-09-11T21:49:38.308152Z",
     "iopub.status.idle": "2024-09-11T21:49:38.309966Z",
     "shell.execute_reply": "2024-09-11T21:49:38.309635Z"
    },
    "papermill": {
     "duration": 0.004507,
     "end_time": "2024-09-11T21:49:38.311128",
     "exception": false,
     "start_time": "2024-09-11T21:49:38.306621",
     "status": "completed"
    },
    "tags": [
     "injected-parameters"
    ]
   },
   "outputs": [],
   "source": [
    "# Parameters\n",
    "func_name = \"Log_normal\"\n",
    "positive_prior = True\n"
   ]
  },
  {
   "cell_type": "code",
   "execution_count": 4,
   "id": "765056ee",
   "metadata": {
    "execution": {
     "iopub.execute_input": "2024-09-11T21:49:38.313846Z",
     "iopub.status.busy": "2024-09-11T21:49:38.313707Z",
     "iopub.status.idle": "2024-09-11T21:49:38.316428Z",
     "shell.execute_reply": "2024-09-11T21:49:38.316076Z"
    },
    "lines_to_next_cell": 0,
    "nbsphinx": "hidden",
    "papermill": {
     "duration": 0.005433,
     "end_time": "2024-09-11T21:49:38.317663",
     "exception": false,
     "start_time": "2024-09-11T21:49:38.312230",
     "status": "completed"
    },
    "tags": []
   },
   "outputs": [],
   "source": [
    "func = _known_functions[func_name]()\n",
    "\n",
    "if not positive_prior:\n",
    "\n",
    "\tenergy_grid = np.linspace(-5,5,1000)\n",
    "\n",
    "else:\n",
    "    \n",
    "    energy_grid = np.linspace(0,1,1000)\n",
    "    \n",
    "    \n",
    "    \n",
    "    \n",
    "blue = \"#4152E3\"\n",
    "red = \"#E3414B\"\n",
    "green = \"#41E39E\""
   ]
  },
  {
   "cell_type": "markdown",
   "id": "b1fa3469",
   "metadata": {
    "lines_to_next_cell": 0,
    "papermill": {
     "duration": 0.000957,
     "end_time": "2024-09-11T21:49:38.319609",
     "exception": false,
     "start_time": "2024-09-11T21:49:38.318652",
     "status": "completed"
    },
    "tags": []
   },
   "source": [
    "## Description"
   ]
  },
  {
   "cell_type": "code",
   "execution_count": 5,
   "id": "0876f26c",
   "metadata": {
    "execution": {
     "iopub.execute_input": "2024-09-11T21:49:38.322150Z",
     "iopub.status.busy": "2024-09-11T21:49:38.322013Z",
     "iopub.status.idle": "2024-09-11T21:49:38.326393Z",
     "shell.execute_reply": "2024-09-11T21:49:38.326041Z"
    },
    "papermill": {
     "duration": 0.007096,
     "end_time": "2024-09-11T21:49:38.327657",
     "exception": false,
     "start_time": "2024-09-11T21:49:38.320561",
     "status": "completed"
    },
    "tags": []
   },
   "outputs": [
    {
     "data": {
      "text/html": [
       "<ul>\n",
       "\n",
       "<li>description: A log normal function</li>\n",
       "\n",
       "<li>formula: $ K \\frac{1}{ x \\sigma \\sqrt{2 \\pi}}\\exp{\\frac{(\\log x/piv - \\mu/piv)^2}{2~(\\sigma)^2}} $</li>\n",
       "\n",
       "<li>parameters: \n",
       "<ul>\n",
       "\n",
       "<li>F: \n",
       "<ul>\n",
       "\n",
       "<li>value: 1.0</li>\n",
       "\n",
       "<li>desc: Integral between 0and +inf. Fix this to 1 to obtain a log Normal distribution</li>\n",
       "\n",
       "<li>min_value: None</li>\n",
       "\n",
       "<li>max_value: None</li>\n",
       "\n",
       "<li>unit: </li>\n",
       "\n",
       "<li>is_normalization: False</li>\n",
       "\n",
       "<li>delta: 0.1</li>\n",
       "\n",
       "<li>free: True</li>\n",
       "\n",
       "</ul>\n",
       "\n",
       "</li>\n",
       "\n",
       "<li>mu: \n",
       "<ul>\n",
       "\n",
       "<li>value: 0.0</li>\n",
       "\n",
       "<li>desc: Central value</li>\n",
       "\n",
       "<li>min_value: None</li>\n",
       "\n",
       "<li>max_value: None</li>\n",
       "\n",
       "<li>unit: </li>\n",
       "\n",
       "<li>is_normalization: False</li>\n",
       "\n",
       "<li>delta: 0.1</li>\n",
       "\n",
       "<li>free: True</li>\n",
       "\n",
       "</ul>\n",
       "\n",
       "</li>\n",
       "\n",
       "<li>sigma: \n",
       "<ul>\n",
       "\n",
       "<li>value: 1.0</li>\n",
       "\n",
       "<li>desc: standard deviation</li>\n",
       "\n",
       "<li>min_value: 1e-12</li>\n",
       "\n",
       "<li>max_value: None</li>\n",
       "\n",
       "<li>unit: </li>\n",
       "\n",
       "<li>is_normalization: False</li>\n",
       "\n",
       "<li>delta: 0.1</li>\n",
       "\n",
       "<li>free: True</li>\n",
       "\n",
       "</ul>\n",
       "\n",
       "</li>\n",
       "\n",
       "<li>piv: \n",
       "<ul>\n",
       "\n",
       "<li>value: 1.0</li>\n",
       "\n",
       "<li>desc: pivot. Leave this to 1 for a proper log normal distribution</li>\n",
       "\n",
       "<li>min_value: None</li>\n",
       "\n",
       "<li>max_value: None</li>\n",
       "\n",
       "<li>unit: </li>\n",
       "\n",
       "<li>is_normalization: False</li>\n",
       "\n",
       "<li>delta: 0.1</li>\n",
       "\n",
       "<li>free: False</li>\n",
       "\n",
       "</ul>\n",
       "\n",
       "</li>\n",
       "\n",
       "</ul>\n",
       "\n",
       "</li>\n",
       "\n",
       "</ul>\n"
      ],
      "text/plain": [
       "  * description: A log normal function\n",
       "  * formula: $ K \\frac{1}{ x \\sigma \\sqrt{2 \\pi}}\\exp{\\frac{(\\log x/piv - \\mu/piv)^2}{2~(\\sigma)^2}}\n",
       "    * $\n",
       "  * parameters:\n",
       "    * F:\n",
       "      * value: 1.0\n",
       "      * desc: Integral between 0and +inf. Fix this to 1 to obtain a log Normal distribution\n",
       "      * min_value: null\n",
       "      * max_value: null\n",
       "      * unit: ''\n",
       "      * is_normalization: false\n",
       "      * delta: 0.1\n",
       "      * free: true\n",
       "    * mu:\n",
       "      * value: 0.0\n",
       "      * desc: Central value\n",
       "      * min_value: null\n",
       "      * max_value: null\n",
       "      * unit: ''\n",
       "      * is_normalization: false\n",
       "      * delta: 0.1\n",
       "      * free: true\n",
       "    * sigma:\n",
       "      * value: 1.0\n",
       "      * desc: standard deviation\n",
       "      * min_value: 1.0e-12\n",
       "      * max_value: null\n",
       "      * unit: ''\n",
       "      * is_normalization: false\n",
       "      * delta: 0.1\n",
       "      * free: true\n",
       "    * piv:\n",
       "      * value: 1.0\n",
       "      * desc: pivot. Leave this to 1 for a proper log normal distribution\n",
       "      * min_value: null\n",
       "      * max_value: null\n",
       "      * unit: ''\n",
       "      * is_normalization: false\n",
       "      * delta: 0.1\n",
       "      * free: false"
      ]
     },
     "metadata": {},
     "output_type": "display_data"
    }
   ],
   "source": [
    "func.display()"
   ]
  },
  {
   "cell_type": "markdown",
   "id": "d94d7b72",
   "metadata": {
    "papermill": {
     "duration": 0.001101,
     "end_time": "2024-09-11T21:49:38.329902",
     "exception": false,
     "start_time": "2024-09-11T21:49:38.328801",
     "status": "completed"
    },
    "tags": []
   },
   "source": [
    "## Shape \n",
    "\n",
    "The shape of the function. \n",
    "\n",
    "*If this is not a photon model but a prior or linear function then ignore the units as these docs are auto-generated*"
   ]
  },
  {
   "cell_type": "code",
   "execution_count": 6,
   "id": "27d26c7f",
   "metadata": {
    "execution": {
     "iopub.execute_input": "2024-09-11T21:49:38.332665Z",
     "iopub.status.busy": "2024-09-11T21:49:38.332532Z",
     "iopub.status.idle": "2024-09-11T21:49:38.435432Z",
     "shell.execute_reply": "2024-09-11T21:49:38.435043Z"
    },
    "papermill": {
     "duration": 0.105894,
     "end_time": "2024-09-11T21:49:38.436906",
     "exception": false,
     "start_time": "2024-09-11T21:49:38.331012",
     "status": "completed"
    },
    "tags": [
     "nbsphinx-thumbnail"
    ]
   },
   "outputs": [
    {
     "data": {
      "text/plain": [
       "Text(0, 0.5, 'probability')"
      ]
     },
     "execution_count": 6,
     "metadata": {},
     "output_type": "execute_result"
    },
    {
     "data": {
      "image/png": "[encoded data removed]",
      "text/plain": [
       "<Figure size 1040x910 with 1 Axes>"
      ]
     },
     "metadata": {},
     "output_type": "display_data"
    }
   ],
   "source": [
    "fig, ax = plt.subplots()\n",
    "\n",
    "\n",
    "ax.plot(energy_grid, func(energy_grid), color=blue, lw=3)\n",
    "\n",
    "ax.set_xlabel(\"x\")\n",
    "ax.set_ylabel(\"probability\")\n"
   ]
  },
  {
   "cell_type": "markdown",
   "id": "82e098ee",
   "metadata": {
    "papermill": {
     "duration": 0.001392,
     "end_time": "2024-09-11T21:49:38.439961",
     "exception": false,
     "start_time": "2024-09-11T21:49:38.438569",
     "status": "completed"
    },
    "tags": []
   },
   "source": [
    "## Random Number Generation\n",
    "\n",
    "This is how we can generate random numbers from the prior.\n"
   ]
  },
  {
   "cell_type": "code",
   "execution_count": 7,
   "id": "e7827510",
   "metadata": {
    "execution": {
     "iopub.execute_input": "2024-09-11T21:49:38.443465Z",
     "iopub.status.busy": "2024-09-11T21:49:38.443317Z",
     "iopub.status.idle": "2024-09-11T21:49:38.572067Z",
     "shell.execute_reply": "2024-09-11T21:49:38.571746Z"
    },
    "papermill": {
     "duration": 0.13221,
     "end_time": "2024-09-11T21:49:38.573514",
     "exception": false,
     "start_time": "2024-09-11T21:49:38.441304",
     "status": "completed"
    },
    "tags": []
   },
   "outputs": [
    {
     "data": {
      "text/plain": [
       "Text(0, 0.5, 'N')"
      ]
     },
     "execution_count": 7,
     "metadata": {},
     "output_type": "execute_result"
    },
    {
     "data": {
      "image/png": "[encoded data removed]",
      "text/plain": [
       "<Figure size 1040x910 with 1 Axes>"
      ]
     },
     "metadata": {},
     "output_type": "display_data"
    }
   ],
   "source": [
    "\n",
    "\n",
    "u = np.random.uniform(0,1, size=5000)\n",
    "\n",
    "draws = [func.from_unit_cube(x) for x in u]\n",
    "\n",
    "\n",
    "fig, ax = plt.subplots()\n",
    "\n",
    "\n",
    "ax.hist(draws, color=green, bins=50)\n",
    "\n",
    "ax.set_xlabel(\"value\")\n",
    "ax.set_ylabel(\"N\")\n",
    "\n"
   ]
  }
 ],
 "metadata": {
  "jupytext": {
   "formats": "ipynb,md"
  },
  "kernelspec": {
   "display_name": "Python 3 (ipykernel)",
   "language": "python",
   "name": "python3"
  },
  "language_info": {
   "codemirror_mode": {
    "name": "ipython",
    "version": 3
   },
   "file_extension": ".py",
   "mimetype": "text/x-python",
   "name": "python",
   "nbconvert_exporter": "python",
   "pygments_lexer": "ipython3",
   "version": "3.9.13"
  },
  "papermill": {
   "default_parameters": {},
   "duration": 2.577115,
   "end_time": "2024-09-11T21:49:38.912546",
   "environment_variables": {},
   "exception": null,
   "input_path": "Log_normal.ipynb",
   "output_path": "/Users/runner/work/astromodels/astromodels/docs/notebooks/Log_normal.ipynb",
   "parameters": {
    "func_name": "Log_normal",
    "positive_prior": true
   },
   "start_time": "2024-09-11T21:49:36.335431",
   "version": "2.6.0"
  }
 },
 "nbformat": 4,
 "nbformat_minor": 5
}
