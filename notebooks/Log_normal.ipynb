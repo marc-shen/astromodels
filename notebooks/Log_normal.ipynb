{
 "cells": [
  {
   "cell_type": "markdown",
   "id": "4ef6813b",
   "metadata": {
    "papermill": {
     "duration": 0.007495,
     "end_time": "2024-08-13T20:16:45.287915",
     "exception": false,
     "start_time": "2024-08-13T20:16:45.280420",
     "status": "completed"
    },
    "tags": []
   },
   "source": [
    "# Log normal"
   ]
  },
  {
   "cell_type": "code",
   "execution_count": 1,
   "id": "712677f0",
   "metadata": {
    "execution": {
     "iopub.execute_input": "2024-08-13T20:16:45.299758Z",
     "iopub.status.busy": "2024-08-13T20:16:45.299247Z",
     "iopub.status.idle": "2024-08-13T20:16:47.058190Z",
     "shell.execute_reply": "2024-08-13T20:16:47.056964Z"
    },
    "nbsphinx": "hidden",
    "papermill": {
     "duration": 1.766295,
     "end_time": "2024-08-13T20:16:47.060585",
     "exception": false,
     "start_time": "2024-08-13T20:16:45.294290",
     "status": "completed"
    },
    "tags": []
   },
   "outputs": [],
   "source": [
    "%%capture\n",
    "\n",
    "import numpy as np\n",
    "\n",
    "import matplotlib.pyplot as plt\n",
    "\n",
    "import warnings\n",
    "warnings.simplefilter(\"ignore\")\n",
    "\n",
    "from astromodels.functions.function import _known_functions\n",
    "\n",
    "\n",
    "from jupyterthemes import jtplot\n",
    "jtplot.style(context=\"talk\", fscale=1, ticks=True, grid=False)\n",
    "%matplotlib inline"
   ]
  },
  {
   "cell_type": "code",
   "execution_count": 2,
   "id": "f8577588",
   "metadata": {
    "execution": {
     "iopub.execute_input": "2024-08-13T20:16:47.065277Z",
     "iopub.status.busy": "2024-08-13T20:16:47.064629Z",
     "iopub.status.idle": "2024-08-13T20:16:47.068545Z",
     "shell.execute_reply": "2024-08-13T20:16:47.067738Z"
    },
    "nbsphinx": "hidden",
    "papermill": {
     "duration": 0.008583,
     "end_time": "2024-08-13T20:16:47.070703",
     "exception": false,
     "start_time": "2024-08-13T20:16:47.062120",
     "status": "completed"
    },
    "tags": [
     "parameters"
    ]
   },
   "outputs": [],
   "source": [
    "func_name = \"TbAbs\"\n",
    "\n",
    "positive_prior = False\n"
   ]
  },
  {
   "cell_type": "code",
   "execution_count": 3,
   "id": "b5d0db53",
   "metadata": {
    "execution": {
     "iopub.execute_input": "2024-08-13T20:16:47.074638Z",
     "iopub.status.busy": "2024-08-13T20:16:47.074403Z",
     "iopub.status.idle": "2024-08-13T20:16:47.077602Z",
     "shell.execute_reply": "2024-08-13T20:16:47.076769Z"
    },
    "papermill": {
     "duration": 0.007741,
     "end_time": "2024-08-13T20:16:47.079784",
     "exception": false,
     "start_time": "2024-08-13T20:16:47.072043",
     "status": "completed"
    },
    "tags": [
     "injected-parameters"
    ]
   },
   "outputs": [],
   "source": [
    "# Parameters\n",
    "func_name = \"Log_normal\"\n",
    "positive_prior = True\n"
   ]
  },
  {
   "cell_type": "code",
   "execution_count": 4,
   "id": "321a239a",
   "metadata": {
    "execution": {
     "iopub.execute_input": "2024-08-13T20:16:47.084172Z",
     "iopub.status.busy": "2024-08-13T20:16:47.083923Z",
     "iopub.status.idle": "2024-08-13T20:16:47.092862Z",
     "shell.execute_reply": "2024-08-13T20:16:47.092143Z"
    },
    "lines_to_next_cell": 0,
    "nbsphinx": "hidden",
    "papermill": {
     "duration": 0.013041,
     "end_time": "2024-08-13T20:16:47.094937",
     "exception": false,
     "start_time": "2024-08-13T20:16:47.081896",
     "status": "completed"
    },
    "tags": []
   },
   "outputs": [],
   "source": [
    "func = _known_functions[func_name]()\n",
    "\n",
    "if not positive_prior:\n",
    "\n",
    "\tenergy_grid = np.linspace(-5,5,1000)\n",
    "\n",
    "else:\n",
    "    \n",
    "    energy_grid = np.linspace(0,1,1000)\n",
    "    \n",
    "    \n",
    "    \n",
    "    \n",
    "blue = \"#4152E3\"\n",
    "red = \"#E3414B\"\n",
    "green = \"#41E39E\""
   ]
  },
  {
   "cell_type": "markdown",
   "id": "be241cce",
   "metadata": {
    "lines_to_next_cell": 0,
    "papermill": {
     "duration": 0.001272,
     "end_time": "2024-08-13T20:16:47.097669",
     "exception": false,
     "start_time": "2024-08-13T20:16:47.096397",
     "status": "completed"
    },
    "tags": []
   },
   "source": [
    "## Description"
   ]
  },
  {
   "cell_type": "code",
   "execution_count": 5,
   "id": "e3cddc8b",
   "metadata": {
    "execution": {
     "iopub.execute_input": "2024-08-13T20:16:47.101240Z",
     "iopub.status.busy": "2024-08-13T20:16:47.100941Z",
     "iopub.status.idle": "2024-08-13T20:16:47.111870Z",
     "shell.execute_reply": "2024-08-13T20:16:47.111200Z"
    },
    "papermill": {
     "duration": 0.015152,
     "end_time": "2024-08-13T20:16:47.114030",
     "exception": false,
     "start_time": "2024-08-13T20:16:47.098878",
     "status": "completed"
    },
    "tags": []
   },
   "outputs": [
    {
     "data": {
      "text/html": [
       "<ul>\n",
       "\n",
       "<li>description: A log normal function</li>\n",
       "\n",
       "<li>formula: $ K \\frac{1}{ x \\sigma \\sqrt{2 \\pi}}\\exp{\\frac{(\\log x/piv - \\mu/piv)^2}{2~(\\sigma)^2}} $</li>\n",
       "\n",
       "<li>parameters: \n",
       "<ul>\n",
       "\n",
       "<li>F: \n",
       "<ul>\n",
       "\n",
       "<li>value: 1.0</li>\n",
       "\n",
       "<li>desc: Integral between 0and +inf. Fix this to 1 to obtain a log Normal distribution</li>\n",
       "\n",
       "<li>min_value: None</li>\n",
       "\n",
       "<li>max_value: None</li>\n",
       "\n",
       "<li>unit: </li>\n",
       "\n",
       "<li>is_normalization: False</li>\n",
       "\n",
       "<li>delta: 0.1</li>\n",
       "\n",
       "<li>free: True</li>\n",
       "\n",
       "</ul>\n",
       "\n",
       "</li>\n",
       "\n",
       "<li>mu: \n",
       "<ul>\n",
       "\n",
       "<li>value: 0.0</li>\n",
       "\n",
       "<li>desc: Central value</li>\n",
       "\n",
       "<li>min_value: None</li>\n",
       "\n",
       "<li>max_value: None</li>\n",
       "\n",
       "<li>unit: </li>\n",
       "\n",
       "<li>is_normalization: False</li>\n",
       "\n",
       "<li>delta: 0.1</li>\n",
       "\n",
       "<li>free: True</li>\n",
       "\n",
       "</ul>\n",
       "\n",
       "</li>\n",
       "\n",
       "<li>sigma: \n",
       "<ul>\n",
       "\n",
       "<li>value: 1.0</li>\n",
       "\n",
       "<li>desc: standard deviation</li>\n",
       "\n",
       "<li>min_value: 1e-12</li>\n",
       "\n",
       "<li>max_value: None</li>\n",
       "\n",
       "<li>unit: </li>\n",
       "\n",
       "<li>is_normalization: False</li>\n",
       "\n",
       "<li>delta: 0.1</li>\n",
       "\n",
       "<li>free: True</li>\n",
       "\n",
       "</ul>\n",
       "\n",
       "</li>\n",
       "\n",
       "<li>piv: \n",
       "<ul>\n",
       "\n",
       "<li>value: 1.0</li>\n",
       "\n",
       "<li>desc: pivot. Leave this to 1 for a proper log normal distribution</li>\n",
       "\n",
       "<li>min_value: None</li>\n",
       "\n",
       "<li>max_value: None</li>\n",
       "\n",
       "<li>unit: </li>\n",
       "\n",
       "<li>is_normalization: False</li>\n",
       "\n",
       "<li>delta: 0.1</li>\n",
       "\n",
       "<li>free: False</li>\n",
       "\n",
       "</ul>\n",
       "\n",
       "</li>\n",
       "\n",
       "</ul>\n",
       "\n",
       "</li>\n",
       "\n",
       "</ul>\n"
      ],
      "text/plain": [
       "  * description: A log normal function\n",
       "  * formula: $ K \\frac{1}{ x \\sigma \\sqrt{2 \\pi}}\\exp{\\frac{(\\log x/piv - \\mu/piv)^2}{2~(\\sigma)^2}}\n",
       "    * $\n",
       "  * parameters:\n",
       "    * F:\n",
       "      * value: 1.0\n",
       "      * desc: Integral between 0and +inf. Fix this to 1 to obtain a log Normal distribution\n",
       "      * min_value: null\n",
       "      * max_value: null\n",
       "      * unit: ''\n",
       "      * is_normalization: false\n",
       "      * delta: 0.1\n",
       "      * free: true\n",
       "    * mu:\n",
       "      * value: 0.0\n",
       "      * desc: Central value\n",
       "      * min_value: null\n",
       "      * max_value: null\n",
       "      * unit: ''\n",
       "      * is_normalization: false\n",
       "      * delta: 0.1\n",
       "      * free: true\n",
       "    * sigma:\n",
       "      * value: 1.0\n",
       "      * desc: standard deviation\n",
       "      * min_value: 1.0e-12\n",
       "      * max_value: null\n",
       "      * unit: ''\n",
       "      * is_normalization: false\n",
       "      * delta: 0.1\n",
       "      * free: true\n",
       "    * piv:\n",
       "      * value: 1.0\n",
       "      * desc: pivot. Leave this to 1 for a proper log normal distribution\n",
       "      * min_value: null\n",
       "      * max_value: null\n",
       "      * unit: ''\n",
       "      * is_normalization: false\n",
       "      * delta: 0.1\n",
       "      * free: false"
      ]
     },
     "metadata": {},
     "output_type": "display_data"
    }
   ],
   "source": [
    "func.display()"
   ]
  },
  {
   "cell_type": "markdown",
   "id": "22d718f5",
   "metadata": {
    "papermill": {
     "duration": 0.00136,
     "end_time": "2024-08-13T20:16:47.117088",
     "exception": false,
     "start_time": "2024-08-13T20:16:47.115728",
     "status": "completed"
    },
    "tags": []
   },
   "source": [
    "## Shape \n",
    "\n",
    "The shape of the function. \n",
    "\n",
    "*If this is not a photon model but a prior or linear function then ignore the units as these docs are auto-generated*"
   ]
  },
  {
   "cell_type": "code",
   "execution_count": 6,
   "id": "d3acde78",
   "metadata": {
    "execution": {
     "iopub.execute_input": "2024-08-13T20:16:47.121215Z",
     "iopub.status.busy": "2024-08-13T20:16:47.120947Z",
     "iopub.status.idle": "2024-08-13T20:16:47.263250Z",
     "shell.execute_reply": "2024-08-13T20:16:47.262861Z"
    },
    "papermill": {
     "duration": 0.146332,
     "end_time": "2024-08-13T20:16:47.264864",
     "exception": false,
     "start_time": "2024-08-13T20:16:47.118532",
     "status": "completed"
    },
    "tags": [
     "nbsphinx-thumbnail"
    ]
   },
   "outputs": [
    {
     "data": {
      "text/plain": [
       "Text(0, 0.5, 'probability')"
      ]
     },
     "execution_count": 6,
     "metadata": {},
     "output_type": "execute_result"
    },
    {
     "data": {
      "image/png": "[encoded data removed]",
      "text/plain": [
       "<Figure size 1040x910 with 1 Axes>"
      ]
     },
     "metadata": {},
     "output_type": "display_data"
    }
   ],
   "source": [
    "fig, ax = plt.subplots()\n",
    "\n",
    "\n",
    "ax.plot(energy_grid, func(energy_grid), color=blue, lw=3)\n",
    "\n",
    "ax.set_xlabel(\"x\")\n",
    "ax.set_ylabel(\"probability\")\n"
   ]
  },
  {
   "cell_type": "markdown",
   "id": "8e898601",
   "metadata": {
    "papermill": {
     "duration": 0.004421,
     "end_time": "2024-08-13T20:16:47.271115",
     "exception": false,
     "start_time": "2024-08-13T20:16:47.266694",
     "status": "completed"
    },
    "tags": []
   },
   "source": [
    "## Random Number Generation\n",
    "\n",
    "This is how we can generate random numbers from the prior.\n"
   ]
  },
  {
   "cell_type": "code",
   "execution_count": 7,
   "id": "eacd1620",
   "metadata": {
    "execution": {
     "iopub.execute_input": "2024-08-13T20:16:47.281609Z",
     "iopub.status.busy": "2024-08-13T20:16:47.281421Z",
     "iopub.status.idle": "2024-08-13T20:16:47.448888Z",
     "shell.execute_reply": "2024-08-13T20:16:47.447241Z"
    },
    "papermill": {
     "duration": 0.179358,
     "end_time": "2024-08-13T20:16:47.455182",
     "exception": false,
     "start_time": "2024-08-13T20:16:47.275824",
     "status": "completed"
    },
    "tags": []
   },
   "outputs": [
    {
     "data": {
      "text/plain": [
       "Text(0, 0.5, 'N')"
      ]
     },
     "execution_count": 7,
     "metadata": {},
     "output_type": "execute_result"
    },
    {
     "data": {
      "image/png": "[encoded data removed]",
      "text/plain": [
       "<Figure size 1040x910 with 1 Axes>"
      ]
     },
     "metadata": {},
     "output_type": "display_data"
    }
   ],
   "source": [
    "\n",
    "\n",
    "u = np.random.uniform(0,1, size=5000)\n",
    "\n",
    "draws = [func.from_unit_cube(x) for x in u]\n",
    "\n",
    "\n",
    "fig, ax = plt.subplots()\n",
    "\n",
    "\n",
    "ax.hist(draws, color=green, bins=50)\n",
    "\n",
    "ax.set_xlabel(\"value\")\n",
    "ax.set_ylabel(\"N\")\n",
    "\n"
   ]
  }
 ],
 "metadata": {
  "jupytext": {
   "formats": "ipynb,md"
  },
  "kernelspec": {
   "display_name": "Python 3 (ipykernel)",
   "language": "python",
   "name": "python3"
  },
  "language_info": {
   "codemirror_mode": {
    "name": "ipython",
    "version": 3
   },
   "file_extension": ".py",
   "mimetype": "text/x-python",
   "name": "python",
   "nbconvert_exporter": "python",
   "pygments_lexer": "ipython3",
   "version": "3.9.13"
  },
  "papermill": {
   "default_parameters": {},
   "duration": 3.454926,
   "end_time": "2024-08-13T20:16:47.999484",
   "environment_variables": {},
   "exception": null,
   "input_path": "Log_normal.ipynb",
   "output_path": "/Users/runner/work/astromodels/astromodels/docs/notebooks/Log_normal.ipynb",
   "parameters": {
    "func_name": "Log_normal",
    "positive_prior": true
   },
   "start_time": "2024-08-13T20:16:44.544558",
   "version": "2.6.0"
  }
 },
 "nbformat": 4,
 "nbformat_minor": 5
}
