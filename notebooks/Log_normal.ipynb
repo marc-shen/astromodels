{
 "cells": [
  {
   "cell_type": "markdown",
   "id": "27e1eb5f",
   "metadata": {
    "papermill": {
     "duration": 0.010813,
     "end_time": "2024-05-08T21:49:21.489626",
     "exception": false,
     "start_time": "2024-05-08T21:49:21.478813",
     "status": "completed"
    },
    "tags": []
   },
   "source": [
    "# Log normal"
   ]
  },
  {
   "cell_type": "code",
   "execution_count": 1,
   "id": "7ce3a46b",
   "metadata": {
    "execution": {
     "iopub.execute_input": "2024-05-08T21:49:21.501949Z",
     "iopub.status.busy": "2024-05-08T21:49:21.501251Z",
     "iopub.status.idle": "2024-05-08T21:49:22.901891Z",
     "shell.execute_reply": "2024-05-08T21:49:22.901393Z"
    },
    "nbsphinx": "hidden",
    "papermill": {
     "duration": 1.408559,
     "end_time": "2024-05-08T21:49:22.903423",
     "exception": false,
     "start_time": "2024-05-08T21:49:21.494864",
     "status": "completed"
    },
    "tags": []
   },
   "outputs": [],
   "source": [
    "%%capture\n",
    "\n",
    "import numpy as np\n",
    "\n",
    "import matplotlib.pyplot as plt\n",
    "\n",
    "import warnings\n",
    "warnings.simplefilter(\"ignore\")\n",
    "\n",
    "from astromodels.functions.function import _known_functions\n",
    "\n",
    "\n",
    "from jupyterthemes import jtplot\n",
    "jtplot.style(context=\"talk\", fscale=1, ticks=True, grid=False)\n",
    "%matplotlib inline"
   ]
  },
  {
   "cell_type": "code",
   "execution_count": 2,
   "id": "4c8084da",
   "metadata": {
    "execution": {
     "iopub.execute_input": "2024-05-08T21:49:22.906592Z",
     "iopub.status.busy": "2024-05-08T21:49:22.906239Z",
     "iopub.status.idle": "2024-05-08T21:49:22.914458Z",
     "shell.execute_reply": "2024-05-08T21:49:22.914101Z"
    },
    "nbsphinx": "hidden",
    "papermill": {
     "duration": 0.011151,
     "end_time": "2024-05-08T21:49:22.915786",
     "exception": false,
     "start_time": "2024-05-08T21:49:22.904635",
     "status": "completed"
    },
    "tags": [
     "parameters"
    ]
   },
   "outputs": [],
   "source": [
    "func_name = \"TbAbs\"\n",
    "\n",
    "positive_prior = False\n"
   ]
  },
  {
   "cell_type": "code",
   "execution_count": 3,
   "id": "d4094fe7",
   "metadata": {
    "execution": {
     "iopub.execute_input": "2024-05-08T21:49:22.918371Z",
     "iopub.status.busy": "2024-05-08T21:49:22.918231Z",
     "iopub.status.idle": "2024-05-08T21:49:22.926179Z",
     "shell.execute_reply": "2024-05-08T21:49:22.925819Z"
    },
    "papermill": {
     "duration": 0.010635,
     "end_time": "2024-05-08T21:49:22.927412",
     "exception": false,
     "start_time": "2024-05-08T21:49:22.916777",
     "status": "completed"
    },
    "tags": [
     "injected-parameters"
    ]
   },
   "outputs": [],
   "source": [
    "# Parameters\n",
    "func_name = \"Log_normal\"\n",
    "positive_prior = True\n"
   ]
  },
  {
   "cell_type": "code",
   "execution_count": 4,
   "id": "d183c094",
   "metadata": {
    "execution": {
     "iopub.execute_input": "2024-05-08T21:49:22.930164Z",
     "iopub.status.busy": "2024-05-08T21:49:22.930022Z",
     "iopub.status.idle": "2024-05-08T21:49:22.932847Z",
     "shell.execute_reply": "2024-05-08T21:49:22.932468Z"
    },
    "lines_to_next_cell": 0,
    "nbsphinx": "hidden",
    "papermill": {
     "duration": 0.005547,
     "end_time": "2024-05-08T21:49:22.934051",
     "exception": false,
     "start_time": "2024-05-08T21:49:22.928504",
     "status": "completed"
    },
    "tags": []
   },
   "outputs": [],
   "source": [
    "func = _known_functions[func_name]()\n",
    "\n",
    "if not positive_prior:\n",
    "\n",
    "\tenergy_grid = np.linspace(-5,5,1000)\n",
    "\n",
    "else:\n",
    "    \n",
    "    energy_grid = np.linspace(0,1,1000)\n",
    "    \n",
    "    \n",
    "    \n",
    "    \n",
    "blue = \"#4152E3\"\n",
    "red = \"#E3414B\"\n",
    "green = \"#41E39E\""
   ]
  },
  {
   "cell_type": "markdown",
   "id": "d64045cd",
   "metadata": {
    "lines_to_next_cell": 0,
    "papermill": {
     "duration": 0.000968,
     "end_time": "2024-05-08T21:49:22.936025",
     "exception": false,
     "start_time": "2024-05-08T21:49:22.935057",
     "status": "completed"
    },
    "tags": []
   },
   "source": [
    "## Description"
   ]
  },
  {
   "cell_type": "code",
   "execution_count": 5,
   "id": "00777060",
   "metadata": {
    "execution": {
     "iopub.execute_input": "2024-05-08T21:49:22.938551Z",
     "iopub.status.busy": "2024-05-08T21:49:22.938391Z",
     "iopub.status.idle": "2024-05-08T21:49:22.942634Z",
     "shell.execute_reply": "2024-05-08T21:49:22.942272Z"
    },
    "papermill": {
     "duration": 0.006907,
     "end_time": "2024-05-08T21:49:22.943870",
     "exception": false,
     "start_time": "2024-05-08T21:49:22.936963",
     "status": "completed"
    },
    "tags": []
   },
   "outputs": [
    {
     "data": {
      "text/html": [
       "<ul>\n",
       "\n",
       "<li>description: A log normal function</li>\n",
       "\n",
       "<li>formula: $ K \\frac{1}{ x \\sigma \\sqrt{2 \\pi}}\\exp{\\frac{(\\log x/piv - \\mu/piv)^2}{2~(\\sigma)^2}} $</li>\n",
       "\n",
       "<li>parameters: \n",
       "<ul>\n",
       "\n",
       "<li>F: \n",
       "<ul>\n",
       "\n",
       "<li>value: 1.0</li>\n",
       "\n",
       "<li>desc: Integral between 0and +inf. Fix this to 1 to obtain a log Normal distribution</li>\n",
       "\n",
       "<li>min_value: None</li>\n",
       "\n",
       "<li>max_value: None</li>\n",
       "\n",
       "<li>unit: </li>\n",
       "\n",
       "<li>is_normalization: False</li>\n",
       "\n",
       "<li>delta: 0.1</li>\n",
       "\n",
       "<li>free: True</li>\n",
       "\n",
       "</ul>\n",
       "\n",
       "</li>\n",
       "\n",
       "<li>mu: \n",
       "<ul>\n",
       "\n",
       "<li>value: 0.0</li>\n",
       "\n",
       "<li>desc: Central value</li>\n",
       "\n",
       "<li>min_value: None</li>\n",
       "\n",
       "<li>max_value: None</li>\n",
       "\n",
       "<li>unit: </li>\n",
       "\n",
       "<li>is_normalization: False</li>\n",
       "\n",
       "<li>delta: 0.1</li>\n",
       "\n",
       "<li>free: True</li>\n",
       "\n",
       "</ul>\n",
       "\n",
       "</li>\n",
       "\n",
       "<li>sigma: \n",
       "<ul>\n",
       "\n",
       "<li>value: 1.0</li>\n",
       "\n",
       "<li>desc: standard deviation</li>\n",
       "\n",
       "<li>min_value: 1e-12</li>\n",
       "\n",
       "<li>max_value: None</li>\n",
       "\n",
       "<li>unit: </li>\n",
       "\n",
       "<li>is_normalization: False</li>\n",
       "\n",
       "<li>delta: 0.1</li>\n",
       "\n",
       "<li>free: True</li>\n",
       "\n",
       "</ul>\n",
       "\n",
       "</li>\n",
       "\n",
       "<li>piv: \n",
       "<ul>\n",
       "\n",
       "<li>value: 1.0</li>\n",
       "\n",
       "<li>desc: pivot. Leave this to 1 for a proper log normal distribution</li>\n",
       "\n",
       "<li>min_value: None</li>\n",
       "\n",
       "<li>max_value: None</li>\n",
       "\n",
       "<li>unit: </li>\n",
       "\n",
       "<li>is_normalization: False</li>\n",
       "\n",
       "<li>delta: 0.1</li>\n",
       "\n",
       "<li>free: False</li>\n",
       "\n",
       "</ul>\n",
       "\n",
       "</li>\n",
       "\n",
       "</ul>\n",
       "\n",
       "</li>\n",
       "\n",
       "</ul>\n"
      ],
      "text/plain": [
       "  * description: A log normal function\n",
       "  * formula: $ K \\frac{1}{ x \\sigma \\sqrt{2 \\pi}}\\exp{\\frac{(\\log x/piv - \\mu/piv)^2}{2~(\\sigma)^2}}\n",
       "    * $\n",
       "  * parameters:\n",
       "    * F:\n",
       "      * value: 1.0\n",
       "      * desc: Integral between 0and +inf. Fix this to 1 to obtain a log Normal distribution\n",
       "      * min_value: null\n",
       "      * max_value: null\n",
       "      * unit: ''\n",
       "      * is_normalization: false\n",
       "      * delta: 0.1\n",
       "      * free: true\n",
       "    * mu:\n",
       "      * value: 0.0\n",
       "      * desc: Central value\n",
       "      * min_value: null\n",
       "      * max_value: null\n",
       "      * unit: ''\n",
       "      * is_normalization: false\n",
       "      * delta: 0.1\n",
       "      * free: true\n",
       "    * sigma:\n",
       "      * value: 1.0\n",
       "      * desc: standard deviation\n",
       "      * min_value: 1.0e-12\n",
       "      * max_value: null\n",
       "      * unit: ''\n",
       "      * is_normalization: false\n",
       "      * delta: 0.1\n",
       "      * free: true\n",
       "    * piv:\n",
       "      * value: 1.0\n",
       "      * desc: pivot. Leave this to 1 for a proper log normal distribution\n",
       "      * min_value: null\n",
       "      * max_value: null\n",
       "      * unit: ''\n",
       "      * is_normalization: false\n",
       "      * delta: 0.1\n",
       "      * free: false"
      ]
     },
     "metadata": {},
     "output_type": "display_data"
    }
   ],
   "source": [
    "func.display()"
   ]
  },
  {
   "cell_type": "markdown",
   "id": "fe48caec",
   "metadata": {
    "papermill": {
     "duration": 0.001107,
     "end_time": "2024-05-08T21:49:22.946157",
     "exception": false,
     "start_time": "2024-05-08T21:49:22.945050",
     "status": "completed"
    },
    "tags": []
   },
   "source": [
    "## Shape \n",
    "\n",
    "The shape of the function. \n",
    "\n",
    "*If this is not a photon model but a prior or linear function then ignore the units as these docs are auto-generated*"
   ]
  },
  {
   "cell_type": "code",
   "execution_count": 6,
   "id": "92bb8123",
   "metadata": {
    "execution": {
     "iopub.execute_input": "2024-05-08T21:49:22.948934Z",
     "iopub.status.busy": "2024-05-08T21:49:22.948794Z",
     "iopub.status.idle": "2024-05-08T21:49:23.052042Z",
     "shell.execute_reply": "2024-05-08T21:49:23.051659Z"
    },
    "papermill": {
     "duration": 0.106278,
     "end_time": "2024-05-08T21:49:23.053489",
     "exception": false,
     "start_time": "2024-05-08T21:49:22.947211",
     "status": "completed"
    },
    "tags": [
     "nbsphinx-thumbnail"
    ]
   },
   "outputs": [
    {
     "data": {
      "text/plain": [
       "Text(0, 0.5, 'probability')"
      ]
     },
     "execution_count": 6,
     "metadata": {},
     "output_type": "execute_result"
    },
    {
     "data": {
      "image/png": "[encoded data removed]",
      "text/plain": [
       "<Figure size 1040x910 with 1 Axes>"
      ]
     },
     "metadata": {},
     "output_type": "display_data"
    }
   ],
   "source": [
    "fig, ax = plt.subplots()\n",
    "\n",
    "\n",
    "ax.plot(energy_grid, func(energy_grid), color=blue, lw=3)\n",
    "\n",
    "ax.set_xlabel(\"x\")\n",
    "ax.set_ylabel(\"probability\")\n"
   ]
  },
  {
   "cell_type": "markdown",
   "id": "a7dee097",
   "metadata": {
    "papermill": {
     "duration": 0.001449,
     "end_time": "2024-05-08T21:49:23.056582",
     "exception": false,
     "start_time": "2024-05-08T21:49:23.055133",
     "status": "completed"
    },
    "tags": []
   },
   "source": [
    "## Random Number Generation\n",
    "\n",
    "This is how we can generate random numbers from the prior.\n"
   ]
  },
  {
   "cell_type": "code",
   "execution_count": 7,
   "id": "80d35524",
   "metadata": {
    "execution": {
     "iopub.execute_input": "2024-05-08T21:49:23.060241Z",
     "iopub.status.busy": "2024-05-08T21:49:23.060090Z",
     "iopub.status.idle": "2024-05-08T21:49:23.204375Z",
     "shell.execute_reply": "2024-05-08T21:49:23.203879Z"
    },
    "papermill": {
     "duration": 0.147604,
     "end_time": "2024-05-08T21:49:23.205647",
     "exception": false,
     "start_time": "2024-05-08T21:49:23.058043",
     "status": "completed"
    },
    "tags": []
   },
   "outputs": [
    {
     "data": {
      "text/plain": [
       "Text(0, 0.5, 'N')"
      ]
     },
     "execution_count": 7,
     "metadata": {},
     "output_type": "execute_result"
    },
    {
     "data": {
      "image/png": "[encoded data removed]",
      "text/plain": [
       "<Figure size 1040x910 with 1 Axes>"
      ]
     },
     "metadata": {},
     "output_type": "display_data"
    }
   ],
   "source": [
    "\n",
    "\n",
    "u = np.random.uniform(0,1, size=5000)\n",
    "\n",
    "draws = [func.from_unit_cube(x) for x in u]\n",
    "\n",
    "\n",
    "fig, ax = plt.subplots()\n",
    "\n",
    "\n",
    "ax.hist(draws, color=green, bins=50)\n",
    "\n",
    "ax.set_xlabel(\"value\")\n",
    "ax.set_ylabel(\"N\")\n",
    "\n"
   ]
  }
 ],
 "metadata": {
  "jupytext": {
   "formats": "ipynb,md"
  },
  "kernelspec": {
   "display_name": "Python 3 (ipykernel)",
   "language": "python",
   "name": "python3"
  },
  "language_info": {
   "codemirror_mode": {
    "name": "ipython",
    "version": 3
   },
   "file_extension": ".py",
   "mimetype": "text/x-python",
   "name": "python",
   "nbconvert_exporter": "python",
   "pygments_lexer": "ipython3",
   "version": "3.9.13"
  },
  "papermill": {
   "default_parameters": {},
   "duration": 2.831363,
   "end_time": "2024-05-08T21:49:23.538613",
   "environment_variables": {},
   "exception": null,
   "input_path": "Log_normal.ipynb",
   "output_path": "/Users/runner/work/astromodels/astromodels/docs/notebooks/Log_normal.ipynb",
   "parameters": {
    "func_name": "Log_normal",
    "positive_prior": true
   },
   "start_time": "2024-05-08T21:49:20.707250",
   "version": "2.6.0"
  }
 },
 "nbformat": 4,
 "nbformat_minor": 5
}
