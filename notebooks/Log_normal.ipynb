{
 "cells": [
  {
   "cell_type": "markdown",
   "id": "7dcc6bba",
   "metadata": {
    "papermill": {
     "duration": 0.003932,
     "end_time": "2022-09-27T10:43:05.061888",
     "exception": false,
     "start_time": "2022-09-27T10:43:05.057956",
     "status": "completed"
    },
    "tags": []
   },
   "source": [
    "# Log normal"
   ]
  },
  {
   "cell_type": "code",
   "execution_count": 1,
   "id": "7947bcee",
   "metadata": {
    "execution": {
     "iopub.execute_input": "2022-09-27T10:43:05.070131Z",
     "iopub.status.busy": "2022-09-27T10:43:05.069681Z",
     "iopub.status.idle": "2022-09-27T10:43:08.614589Z",
     "shell.execute_reply": "2022-09-27T10:43:08.613584Z"
    },
    "nbsphinx": "hidden",
    "papermill": {
     "duration": 3.552492,
     "end_time": "2022-09-27T10:43:08.617694",
     "exception": false,
     "start_time": "2022-09-27T10:43:05.065202",
     "status": "completed"
    },
    "tags": []
   },
   "outputs": [],
   "source": [
    "%%capture\n",
    "\n",
    "import numpy as np\n",
    "\n",
    "import matplotlib.pyplot as plt\n",
    "\n",
    "import warnings\n",
    "warnings.simplefilter(\"ignore\")\n",
    "\n",
    "from astromodels.functions.function import _known_functions\n",
    "\n",
    "\n",
    "from jupyterthemes import jtplot\n",
    "jtplot.style(context=\"talk\", fscale=1, ticks=True, grid=False)\n",
    "%matplotlib inline"
   ]
  },
  {
   "cell_type": "code",
   "execution_count": 2,
   "id": "94037813",
   "metadata": {
    "execution": {
     "iopub.execute_input": "2022-09-27T10:43:08.624753Z",
     "iopub.status.busy": "2022-09-27T10:43:08.624407Z",
     "iopub.status.idle": "2022-09-27T10:43:08.632717Z",
     "shell.execute_reply": "2022-09-27T10:43:08.631809Z"
    },
    "nbsphinx": "hidden",
    "papermill": {
     "duration": 0.014721,
     "end_time": "2022-09-27T10:43:08.635357",
     "exception": false,
     "start_time": "2022-09-27T10:43:08.620636",
     "status": "completed"
    },
    "tags": [
     "parameters"
    ]
   },
   "outputs": [],
   "source": [
    "func_name = \"TbAbs\"\n",
    "\n",
    "positive_prior = False\n"
   ]
  },
  {
   "cell_type": "code",
   "execution_count": 3,
   "id": "e396056d",
   "metadata": {
    "execution": {
     "iopub.execute_input": "2022-09-27T10:43:08.642108Z",
     "iopub.status.busy": "2022-09-27T10:43:08.641773Z",
     "iopub.status.idle": "2022-09-27T10:43:08.650083Z",
     "shell.execute_reply": "2022-09-27T10:43:08.649173Z"
    },
    "papermill": {
     "duration": 0.014777,
     "end_time": "2022-09-27T10:43:08.652786",
     "exception": false,
     "start_time": "2022-09-27T10:43:08.638009",
     "status": "completed"
    },
    "tags": [
     "injected-parameters"
    ]
   },
   "outputs": [],
   "source": [
    "# Parameters\n",
    "func_name = \"Log_normal\"\n",
    "positive_prior = True\n"
   ]
  },
  {
   "cell_type": "code",
   "execution_count": 4,
   "id": "13a077c7",
   "metadata": {
    "execution": {
     "iopub.execute_input": "2022-09-27T10:43:08.660016Z",
     "iopub.status.busy": "2022-09-27T10:43:08.659383Z",
     "iopub.status.idle": "2022-09-27T10:43:08.666530Z",
     "shell.execute_reply": "2022-09-27T10:43:08.665639Z"
    },
    "lines_to_next_cell": 0,
    "nbsphinx": "hidden",
    "papermill": {
     "duration": 0.013724,
     "end_time": "2022-09-27T10:43:08.669194",
     "exception": false,
     "start_time": "2022-09-27T10:43:08.655470",
     "status": "completed"
    },
    "tags": []
   },
   "outputs": [],
   "source": [
    "func = _known_functions[func_name]()\n",
    "\n",
    "if not positive_prior:\n",
    "\n",
    "\tenergy_grid = np.linspace(-5,5,1000)\n",
    "\n",
    "else:\n",
    "    \n",
    "    energy_grid = np.linspace(0,1,1000)\n",
    "    \n",
    "    \n",
    "    \n",
    "    \n",
    "blue = \"#4152E3\"\n",
    "red = \"#E3414B\"\n",
    "green = \"#41E39E\""
   ]
  },
  {
   "cell_type": "markdown",
   "id": "956e3948",
   "metadata": {
    "lines_to_next_cell": 0,
    "papermill": {
     "duration": 0.00279,
     "end_time": "2022-09-27T10:43:08.675486",
     "exception": false,
     "start_time": "2022-09-27T10:43:08.672696",
     "status": "completed"
    },
    "tags": []
   },
   "source": [
    "## Description"
   ]
  },
  {
   "cell_type": "code",
   "execution_count": 5,
   "id": "3afdb1f0",
   "metadata": {
    "execution": {
     "iopub.execute_input": "2022-09-27T10:43:08.682292Z",
     "iopub.status.busy": "2022-09-27T10:43:08.681954Z",
     "iopub.status.idle": "2022-09-27T10:43:08.696475Z",
     "shell.execute_reply": "2022-09-27T10:43:08.695528Z"
    },
    "papermill": {
     "duration": 0.021139,
     "end_time": "2022-09-27T10:43:08.699313",
     "exception": false,
     "start_time": "2022-09-27T10:43:08.678174",
     "status": "completed"
    },
    "tags": []
   },
   "outputs": [
    {
     "data": {
      "text/html": [
       "<ul>\n",
       "\n",
       "<li>description: A log normal function</li>\n",
       "\n",
       "<li>formula: $ K \\frac{1}{ x \\sigma \\sqrt{2 \\pi}}\\exp{\\frac{(\\log x/piv - \\mu/piv)^2}{2~(\\sigma)^2}} $</li>\n",
       "\n",
       "<li>parameters: \n",
       "<ul>\n",
       "\n",
       "<li>F: \n",
       "<ul>\n",
       "\n",
       "<li>value: 1.0</li>\n",
       "\n",
       "<li>desc: Integral between 0and +inf. Fix this to 1 to obtain a log Normal distribution</li>\n",
       "\n",
       "<li>min_value: None</li>\n",
       "\n",
       "<li>max_value: None</li>\n",
       "\n",
       "<li>unit: </li>\n",
       "\n",
       "<li>is_normalization: False</li>\n",
       "\n",
       "<li>delta: 0.1</li>\n",
       "\n",
       "<li>free: True</li>\n",
       "\n",
       "</ul>\n",
       "\n",
       "</li>\n",
       "\n",
       "<li>mu: \n",
       "<ul>\n",
       "\n",
       "<li>value: 0.0</li>\n",
       "\n",
       "<li>desc: Central value</li>\n",
       "\n",
       "<li>min_value: None</li>\n",
       "\n",
       "<li>max_value: None</li>\n",
       "\n",
       "<li>unit: </li>\n",
       "\n",
       "<li>is_normalization: False</li>\n",
       "\n",
       "<li>delta: 0.1</li>\n",
       "\n",
       "<li>free: True</li>\n",
       "\n",
       "</ul>\n",
       "\n",
       "</li>\n",
       "\n",
       "<li>sigma: \n",
       "<ul>\n",
       "\n",
       "<li>value: 1.0</li>\n",
       "\n",
       "<li>desc: standard deviation</li>\n",
       "\n",
       "<li>min_value: 1e-12</li>\n",
       "\n",
       "<li>max_value: None</li>\n",
       "\n",
       "<li>unit: </li>\n",
       "\n",
       "<li>is_normalization: False</li>\n",
       "\n",
       "<li>delta: 0.1</li>\n",
       "\n",
       "<li>free: True</li>\n",
       "\n",
       "</ul>\n",
       "\n",
       "</li>\n",
       "\n",
       "<li>piv: \n",
       "<ul>\n",
       "\n",
       "<li>value: 1.0</li>\n",
       "\n",
       "<li>desc: pivot. Leave this to 1 for a proper log normal distribution</li>\n",
       "\n",
       "<li>min_value: None</li>\n",
       "\n",
       "<li>max_value: None</li>\n",
       "\n",
       "<li>unit: </li>\n",
       "\n",
       "<li>is_normalization: False</li>\n",
       "\n",
       "<li>delta: 0.1</li>\n",
       "\n",
       "<li>free: False</li>\n",
       "\n",
       "</ul>\n",
       "\n",
       "</li>\n",
       "\n",
       "</ul>\n",
       "\n",
       "</li>\n",
       "\n",
       "</ul>\n"
      ],
      "text/plain": [
       "  * description: A log normal function\n",
       "  * formula: $ K \\frac{1}{ x \\sigma \\sqrt{2 \\pi}}\\exp{\\frac{(\\log x/piv - \\mu/piv)^2}{2~(\\sigma)^2}}\n",
       "    * $\n",
       "  * parameters:\n",
       "    * F:\n",
       "      * value: 1.0\n",
       "      * desc: Integral between 0and +inf. Fix this to 1 to obtain a log Normal distribution\n",
       "      * min_value: null\n",
       "      * max_value: null\n",
       "      * unit: ''\n",
       "      * is_normalization: false\n",
       "      * delta: 0.1\n",
       "      * free: true\n",
       "    * mu:\n",
       "      * value: 0.0\n",
       "      * desc: Central value\n",
       "      * min_value: null\n",
       "      * max_value: null\n",
       "      * unit: ''\n",
       "      * is_normalization: false\n",
       "      * delta: 0.1\n",
       "      * free: true\n",
       "    * sigma:\n",
       "      * value: 1.0\n",
       "      * desc: standard deviation\n",
       "      * min_value: 1.0e-12\n",
       "      * max_value: null\n",
       "      * unit: ''\n",
       "      * is_normalization: false\n",
       "      * delta: 0.1\n",
       "      * free: true\n",
       "    * piv:\n",
       "      * value: 1.0\n",
       "      * desc: pivot. Leave this to 1 for a proper log normal distribution\n",
       "      * min_value: null\n",
       "      * max_value: null\n",
       "      * unit: ''\n",
       "      * is_normalization: false\n",
       "      * delta: 0.1\n",
       "      * free: false"
      ]
     },
     "metadata": {},
     "output_type": "display_data"
    }
   ],
   "source": [
    "func.display()"
   ]
  },
  {
   "cell_type": "markdown",
   "id": "a7867554",
   "metadata": {
    "papermill": {
     "duration": 0.003223,
     "end_time": "2022-09-27T10:43:08.705881",
     "exception": false,
     "start_time": "2022-09-27T10:43:08.702658",
     "status": "completed"
    },
    "tags": []
   },
   "source": [
    "## Shape \n",
    "\n",
    "The shape of the function. \n",
    "\n",
    "*If this is not a photon model but a prior or linear function then ignore the units as these docs are auto-generated*"
   ]
  },
  {
   "cell_type": "code",
   "execution_count": 6,
   "id": "b6f7de29",
   "metadata": {
    "execution": {
     "iopub.execute_input": "2022-09-27T10:43:08.713764Z",
     "iopub.status.busy": "2022-09-27T10:43:08.713170Z",
     "iopub.status.idle": "2022-09-27T10:43:09.074258Z",
     "shell.execute_reply": "2022-09-27T10:43:09.073286Z"
    },
    "papermill": {
     "duration": 0.368293,
     "end_time": "2022-09-27T10:43:09.077158",
     "exception": false,
     "start_time": "2022-09-27T10:43:08.708865",
     "status": "completed"
    },
    "tags": [
     "nbsphinx-thumbnail"
    ]
   },
   "outputs": [
    {
     "data": {
      "text/plain": [
       "Text(0, 0.5, 'probability')"
      ]
     },
     "execution_count": 6,
     "metadata": {},
     "output_type": "execute_result"
    },
    {
     "data": {
      "image/png": "[encoded data removed]",
      "text/plain": [
       "<Figure size 1040x910 with 1 Axes>"
      ]
     },
     "metadata": {},
     "output_type": "display_data"
    }
   ],
   "source": [
    "fig, ax = plt.subplots()\n",
    "\n",
    "\n",
    "ax.plot(energy_grid, func(energy_grid), color=blue, lw=3)\n",
    "\n",
    "ax.set_xlabel(\"x\")\n",
    "ax.set_ylabel(\"probability\")\n"
   ]
  },
  {
   "cell_type": "markdown",
   "id": "2422831e",
   "metadata": {
    "papermill": {
     "duration": 0.003661,
     "end_time": "2022-09-27T10:43:09.084710",
     "exception": false,
     "start_time": "2022-09-27T10:43:09.081049",
     "status": "completed"
    },
    "tags": []
   },
   "source": [
    "## Random Number Generation\n",
    "\n",
    "This is how we can generate random numbers from the prior.\n"
   ]
  },
  {
   "cell_type": "code",
   "execution_count": 7,
   "id": "ea28f15e",
   "metadata": {
    "execution": {
     "iopub.execute_input": "2022-09-27T10:43:09.093097Z",
     "iopub.status.busy": "2022-09-27T10:43:09.092734Z",
     "iopub.status.idle": "2022-09-27T10:43:09.469037Z",
     "shell.execute_reply": "2022-09-27T10:43:09.467797Z"
    },
    "papermill": {
     "duration": 0.383878,
     "end_time": "2022-09-27T10:43:09.471990",
     "exception": false,
     "start_time": "2022-09-27T10:43:09.088112",
     "status": "completed"
    },
    "tags": []
   },
   "outputs": [
    {
     "data": {
      "text/plain": [
       "Text(0, 0.5, 'N')"
      ]
     },
     "execution_count": 7,
     "metadata": {},
     "output_type": "execute_result"
    },
    {
     "data": {
      "image/png": "[encoded data removed]",
      "text/plain": [
       "<Figure size 1040x910 with 1 Axes>"
      ]
     },
     "metadata": {},
     "output_type": "display_data"
    }
   ],
   "source": [
    "\n",
    "\n",
    "u = np.random.uniform(0,1, size=5000)\n",
    "\n",
    "draws = [func.from_unit_cube(x) for x in u]\n",
    "\n",
    "\n",
    "fig, ax = plt.subplots()\n",
    "\n",
    "\n",
    "ax.hist(draws, color=green, bins=50)\n",
    "\n",
    "ax.set_xlabel(\"value\")\n",
    "ax.set_ylabel(\"N\")\n",
    "\n"
   ]
  }
 ],
 "metadata": {
  "jupytext": {
   "formats": "ipynb,md"
  },
  "kernelspec": {
   "display_name": "Python 3 (ipykernel)",
   "language": "python",
   "name": "python3"
  },
  "language_info": {
   "codemirror_mode": {
    "name": "ipython",
    "version": 3
   },
   "file_extension": ".py",
   "mimetype": "text/x-python",
   "name": "python",
   "nbconvert_exporter": "python",
   "pygments_lexer": "ipython3",
   "version": "3.9.14"
  },
  "papermill": {
   "default_parameters": {},
   "duration": 6.646383,
   "end_time": "2022-09-27T10:43:10.110388",
   "environment_variables": {},
   "exception": null,
   "input_path": "Log_normal.ipynb",
   "output_path": "/Users/runner/work/astromodels/astromodels/docs/notebooks/Log_normal.ipynb",
   "parameters": {
    "func_name": "Log_normal",
    "positive_prior": true
   },
   "start_time": "2022-09-27T10:43:03.464005",
   "version": "2.4.0"
  }
 },
 "nbformat": 4,
 "nbformat_minor": 5
}
