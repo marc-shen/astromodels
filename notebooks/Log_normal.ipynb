{
 "cells": [
  {
   "cell_type": "markdown",
   "id": "670413d7",
   "metadata": {
    "papermill": {
     "duration": 0.004163,
     "end_time": "2023-11-01T20:29:59.600508",
     "exception": false,
     "start_time": "2023-11-01T20:29:59.596345",
     "status": "completed"
    },
    "tags": []
   },
   "source": [
    "# Log normal"
   ]
  },
  {
   "cell_type": "code",
   "execution_count": 1,
   "id": "358b763f",
   "metadata": {
    "execution": {
     "iopub.execute_input": "2023-11-01T20:29:59.609695Z",
     "iopub.status.busy": "2023-11-01T20:29:59.609104Z",
     "iopub.status.idle": "2023-11-01T20:30:03.425825Z",
     "shell.execute_reply": "2023-11-01T20:30:03.423637Z"
    },
    "nbsphinx": "hidden",
    "papermill": {
     "duration": 3.826846,
     "end_time": "2023-11-01T20:30:03.430734",
     "exception": false,
     "start_time": "2023-11-01T20:29:59.603888",
     "status": "completed"
    },
    "tags": []
   },
   "outputs": [],
   "source": [
    "%%capture\n",
    "\n",
    "import numpy as np\n",
    "\n",
    "import matplotlib.pyplot as plt\n",
    "\n",
    "import warnings\n",
    "warnings.simplefilter(\"ignore\")\n",
    "\n",
    "from astromodels.functions.function import _known_functions\n",
    "\n",
    "\n",
    "from jupyterthemes import jtplot\n",
    "jtplot.style(context=\"talk\", fscale=1, ticks=True, grid=False)\n",
    "%matplotlib inline"
   ]
  },
  {
   "cell_type": "code",
   "execution_count": 2,
   "id": "d8ee8ce8",
   "metadata": {
    "execution": {
     "iopub.execute_input": "2023-11-01T20:30:03.440095Z",
     "iopub.status.busy": "2023-11-01T20:30:03.439508Z",
     "iopub.status.idle": "2023-11-01T20:30:03.450534Z",
     "shell.execute_reply": "2023-11-01T20:30:03.448839Z"
    },
    "nbsphinx": "hidden",
    "papermill": {
     "duration": 0.021259,
     "end_time": "2023-11-01T20:30:03.455231",
     "exception": false,
     "start_time": "2023-11-01T20:30:03.433972",
     "status": "completed"
    },
    "tags": [
     "parameters"
    ]
   },
   "outputs": [],
   "source": [
    "func_name = \"TbAbs\"\n",
    "\n",
    "positive_prior = False\n"
   ]
  },
  {
   "cell_type": "code",
   "execution_count": 3,
   "id": "3c10e486",
   "metadata": {
    "execution": {
     "iopub.execute_input": "2023-11-01T20:30:03.463818Z",
     "iopub.status.busy": "2023-11-01T20:30:03.463343Z",
     "iopub.status.idle": "2023-11-01T20:30:03.470388Z",
     "shell.execute_reply": "2023-11-01T20:30:03.468919Z"
    },
    "papermill": {
     "duration": 0.016428,
     "end_time": "2023-11-01T20:30:03.474789",
     "exception": false,
     "start_time": "2023-11-01T20:30:03.458361",
     "status": "completed"
    },
    "tags": [
     "injected-parameters"
    ]
   },
   "outputs": [],
   "source": [
    "# Parameters\n",
    "func_name = \"Log_normal\"\n",
    "positive_prior = True\n"
   ]
  },
  {
   "cell_type": "code",
   "execution_count": 4,
   "id": "dd6943e0",
   "metadata": {
    "execution": {
     "iopub.execute_input": "2023-11-01T20:30:03.483335Z",
     "iopub.status.busy": "2023-11-01T20:30:03.482871Z",
     "iopub.status.idle": "2023-11-01T20:30:03.493197Z",
     "shell.execute_reply": "2023-11-01T20:30:03.490991Z"
    },
    "lines_to_next_cell": 0,
    "nbsphinx": "hidden",
    "papermill": {
     "duration": 0.019718,
     "end_time": "2023-11-01T20:30:03.497738",
     "exception": false,
     "start_time": "2023-11-01T20:30:03.478020",
     "status": "completed"
    },
    "tags": []
   },
   "outputs": [],
   "source": [
    "func = _known_functions[func_name]()\n",
    "\n",
    "if not positive_prior:\n",
    "\n",
    "\tenergy_grid = np.linspace(-5,5,1000)\n",
    "\n",
    "else:\n",
    "    \n",
    "    energy_grid = np.linspace(0,1,1000)\n",
    "    \n",
    "    \n",
    "    \n",
    "    \n",
    "blue = \"#4152E3\"\n",
    "red = \"#E3414B\"\n",
    "green = \"#41E39E\""
   ]
  },
  {
   "cell_type": "markdown",
   "id": "128efce4",
   "metadata": {
    "lines_to_next_cell": 0,
    "papermill": {
     "duration": 0.003174,
     "end_time": "2023-11-01T20:30:03.504067",
     "exception": false,
     "start_time": "2023-11-01T20:30:03.500893",
     "status": "completed"
    },
    "tags": []
   },
   "source": [
    "## Description"
   ]
  },
  {
   "cell_type": "code",
   "execution_count": 5,
   "id": "e4381136",
   "metadata": {
    "execution": {
     "iopub.execute_input": "2023-11-01T20:30:03.512949Z",
     "iopub.status.busy": "2023-11-01T20:30:03.512467Z",
     "iopub.status.idle": "2023-11-01T20:30:03.531919Z",
     "shell.execute_reply": "2023-11-01T20:30:03.529506Z"
    },
    "papermill": {
     "duration": 0.029484,
     "end_time": "2023-11-01T20:30:03.536551",
     "exception": false,
     "start_time": "2023-11-01T20:30:03.507067",
     "status": "completed"
    },
    "tags": []
   },
   "outputs": [
    {
     "data": {
      "text/html": [
       "<ul>\n",
       "\n",
       "<li>description: A log normal function</li>\n",
       "\n",
       "<li>formula: $ K \\frac{1}{ x \\sigma \\sqrt{2 \\pi}}\\exp{\\frac{(\\log x/piv - \\mu/piv)^2}{2~(\\sigma)^2}} $</li>\n",
       "\n",
       "<li>parameters: \n",
       "<ul>\n",
       "\n",
       "<li>F: \n",
       "<ul>\n",
       "\n",
       "<li>value: 1.0</li>\n",
       "\n",
       "<li>desc: Integral between 0and +inf. Fix this to 1 to obtain a log Normal distribution</li>\n",
       "\n",
       "<li>min_value: None</li>\n",
       "\n",
       "<li>max_value: None</li>\n",
       "\n",
       "<li>unit: </li>\n",
       "\n",
       "<li>is_normalization: False</li>\n",
       "\n",
       "<li>delta: 0.1</li>\n",
       "\n",
       "<li>free: True</li>\n",
       "\n",
       "</ul>\n",
       "\n",
       "</li>\n",
       "\n",
       "<li>mu: \n",
       "<ul>\n",
       "\n",
       "<li>value: 0.0</li>\n",
       "\n",
       "<li>desc: Central value</li>\n",
       "\n",
       "<li>min_value: None</li>\n",
       "\n",
       "<li>max_value: None</li>\n",
       "\n",
       "<li>unit: </li>\n",
       "\n",
       "<li>is_normalization: False</li>\n",
       "\n",
       "<li>delta: 0.1</li>\n",
       "\n",
       "<li>free: True</li>\n",
       "\n",
       "</ul>\n",
       "\n",
       "</li>\n",
       "\n",
       "<li>sigma: \n",
       "<ul>\n",
       "\n",
       "<li>value: 1.0</li>\n",
       "\n",
       "<li>desc: standard deviation</li>\n",
       "\n",
       "<li>min_value: 1e-12</li>\n",
       "\n",
       "<li>max_value: None</li>\n",
       "\n",
       "<li>unit: </li>\n",
       "\n",
       "<li>is_normalization: False</li>\n",
       "\n",
       "<li>delta: 0.1</li>\n",
       "\n",
       "<li>free: True</li>\n",
       "\n",
       "</ul>\n",
       "\n",
       "</li>\n",
       "\n",
       "<li>piv: \n",
       "<ul>\n",
       "\n",
       "<li>value: 1.0</li>\n",
       "\n",
       "<li>desc: pivot. Leave this to 1 for a proper log normal distribution</li>\n",
       "\n",
       "<li>min_value: None</li>\n",
       "\n",
       "<li>max_value: None</li>\n",
       "\n",
       "<li>unit: </li>\n",
       "\n",
       "<li>is_normalization: False</li>\n",
       "\n",
       "<li>delta: 0.1</li>\n",
       "\n",
       "<li>free: False</li>\n",
       "\n",
       "</ul>\n",
       "\n",
       "</li>\n",
       "\n",
       "</ul>\n",
       "\n",
       "</li>\n",
       "\n",
       "</ul>\n"
      ],
      "text/plain": [
       "  * description: A log normal function\n",
       "  * formula: $ K \\frac{1}{ x \\sigma \\sqrt{2 \\pi}}\\exp{\\frac{(\\log x/piv - \\mu/piv)^2}{2~(\\sigma)^2}}\n",
       "    * $\n",
       "  * parameters:\n",
       "    * F:\n",
       "      * value: 1.0\n",
       "      * desc: Integral between 0and +inf. Fix this to 1 to obtain a log Normal distribution\n",
       "      * min_value: null\n",
       "      * max_value: null\n",
       "      * unit: ''\n",
       "      * is_normalization: false\n",
       "      * delta: 0.1\n",
       "      * free: true\n",
       "    * mu:\n",
       "      * value: 0.0\n",
       "      * desc: Central value\n",
       "      * min_value: null\n",
       "      * max_value: null\n",
       "      * unit: ''\n",
       "      * is_normalization: false\n",
       "      * delta: 0.1\n",
       "      * free: true\n",
       "    * sigma:\n",
       "      * value: 1.0\n",
       "      * desc: standard deviation\n",
       "      * min_value: 1.0e-12\n",
       "      * max_value: null\n",
       "      * unit: ''\n",
       "      * is_normalization: false\n",
       "      * delta: 0.1\n",
       "      * free: true\n",
       "    * piv:\n",
       "      * value: 1.0\n",
       "      * desc: pivot. Leave this to 1 for a proper log normal distribution\n",
       "      * min_value: null\n",
       "      * max_value: null\n",
       "      * unit: ''\n",
       "      * is_normalization: false\n",
       "      * delta: 0.1\n",
       "      * free: false"
      ]
     },
     "metadata": {},
     "output_type": "display_data"
    }
   ],
   "source": [
    "func.display()"
   ]
  },
  {
   "cell_type": "markdown",
   "id": "e3e27200",
   "metadata": {
    "papermill": {
     "duration": 0.003563,
     "end_time": "2023-11-01T20:30:03.543990",
     "exception": false,
     "start_time": "2023-11-01T20:30:03.540427",
     "status": "completed"
    },
    "tags": []
   },
   "source": [
    "## Shape \n",
    "\n",
    "The shape of the function. \n",
    "\n",
    "*If this is not a photon model but a prior or linear function then ignore the units as these docs are auto-generated*"
   ]
  },
  {
   "cell_type": "code",
   "execution_count": 6,
   "id": "f0b79699",
   "metadata": {
    "execution": {
     "iopub.execute_input": "2023-11-01T20:30:03.554418Z",
     "iopub.status.busy": "2023-11-01T20:30:03.553884Z",
     "iopub.status.idle": "2023-11-01T20:30:03.844784Z",
     "shell.execute_reply": "2023-11-01T20:30:03.843398Z"
    },
    "papermill": {
     "duration": 0.302865,
     "end_time": "2023-11-01T20:30:03.850249",
     "exception": false,
     "start_time": "2023-11-01T20:30:03.547384",
     "status": "completed"
    },
    "tags": [
     "nbsphinx-thumbnail"
    ]
   },
   "outputs": [
    {
     "data": {
      "text/plain": [
       "Text(0, 0.5, 'probability')"
      ]
     },
     "execution_count": 6,
     "metadata": {},
     "output_type": "execute_result"
    },
    {
     "data": {
      "image/png": "[encoded data removed]",
      "text/plain": [
       "<Figure size 1040x910 with 1 Axes>"
      ]
     },
     "metadata": {},
     "output_type": "display_data"
    }
   ],
   "source": [
    "fig, ax = plt.subplots()\n",
    "\n",
    "\n",
    "ax.plot(energy_grid, func(energy_grid), color=blue, lw=3)\n",
    "\n",
    "ax.set_xlabel(\"x\")\n",
    "ax.set_ylabel(\"probability\")\n"
   ]
  },
  {
   "cell_type": "markdown",
   "id": "a813d273",
   "metadata": {
    "papermill": {
     "duration": 0.004572,
     "end_time": "2023-11-01T20:30:03.859350",
     "exception": false,
     "start_time": "2023-11-01T20:30:03.854778",
     "status": "completed"
    },
    "tags": []
   },
   "source": [
    "## Random Number Generation\n",
    "\n",
    "This is how we can generate random numbers from the prior.\n"
   ]
  },
  {
   "cell_type": "code",
   "execution_count": 7,
   "id": "21db79a6",
   "metadata": {
    "execution": {
     "iopub.execute_input": "2023-11-01T20:30:03.870235Z",
     "iopub.status.busy": "2023-11-01T20:30:03.869775Z",
     "iopub.status.idle": "2023-11-01T20:30:04.237427Z",
     "shell.execute_reply": "2023-11-01T20:30:04.235769Z"
    },
    "papermill": {
     "duration": 0.379079,
     "end_time": "2023-11-01T20:30:04.242800",
     "exception": false,
     "start_time": "2023-11-01T20:30:03.863721",
     "status": "completed"
    },
    "tags": []
   },
   "outputs": [
    {
     "data": {
      "text/plain": [
       "Text(0, 0.5, 'N')"
      ]
     },
     "execution_count": 7,
     "metadata": {},
     "output_type": "execute_result"
    },
    {
     "data": {
      "image/png": "[encoded data removed]",
      "text/plain": [
       "<Figure size 1040x910 with 1 Axes>"
      ]
     },
     "metadata": {},
     "output_type": "display_data"
    }
   ],
   "source": [
    "\n",
    "\n",
    "u = np.random.uniform(0,1, size=5000)\n",
    "\n",
    "draws = [func.from_unit_cube(x) for x in u]\n",
    "\n",
    "\n",
    "fig, ax = plt.subplots()\n",
    "\n",
    "\n",
    "ax.hist(draws, color=green, bins=50)\n",
    "\n",
    "ax.set_xlabel(\"value\")\n",
    "ax.set_ylabel(\"N\")\n",
    "\n"
   ]
  }
 ],
 "metadata": {
  "jupytext": {
   "formats": "ipynb,md"
  },
  "kernelspec": {
   "display_name": "Python 3 (ipykernel)",
   "language": "python",
   "name": "python3"
  },
  "language_info": {
   "codemirror_mode": {
    "name": "ipython",
    "version": 3
   },
   "file_extension": ".py",
   "mimetype": "text/x-python",
   "name": "python",
   "nbconvert_exporter": "python",
   "pygments_lexer": "ipython3",
   "version": "3.9.18"
  },
  "papermill": {
   "default_parameters": {},
   "duration": 6.493914,
   "end_time": "2023-11-01T20:30:04.881406",
   "environment_variables": {},
   "exception": null,
   "input_path": "Log_normal.ipynb",
   "output_path": "/Users/runner/work/astromodels/astromodels/docs/notebooks/Log_normal.ipynb",
   "parameters": {
    "func_name": "Log_normal",
    "positive_prior": true
   },
   "start_time": "2023-11-01T20:29:58.387492",
   "version": "2.4.0"
  }
 },
 "nbformat": 4,
 "nbformat_minor": 5
}
