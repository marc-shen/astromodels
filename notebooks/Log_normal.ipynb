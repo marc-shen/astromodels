{
 "cells": [
  {
   "cell_type": "markdown",
   "id": "3cb999d2",
   "metadata": {
    "papermill": {
     "duration": 0.004474,
     "end_time": "2022-09-28T19:25:26.701507",
     "exception": false,
     "start_time": "2022-09-28T19:25:26.697033",
     "status": "completed"
    },
    "tags": []
   },
   "source": [
    "# Log normal"
   ]
  },
  {
   "cell_type": "code",
   "execution_count": 1,
   "id": "8f1f9073",
   "metadata": {
    "execution": {
     "iopub.execute_input": "2022-09-28T19:25:26.709867Z",
     "iopub.status.busy": "2022-09-28T19:25:26.709419Z",
     "iopub.status.idle": "2022-09-28T19:25:30.988049Z",
     "shell.execute_reply": "2022-09-28T19:25:30.987013Z"
    },
    "nbsphinx": "hidden",
    "papermill": {
     "duration": 4.286625,
     "end_time": "2022-09-28T19:25:30.991571",
     "exception": false,
     "start_time": "2022-09-28T19:25:26.704946",
     "status": "completed"
    },
    "tags": []
   },
   "outputs": [],
   "source": [
    "%%capture\n",
    "\n",
    "import numpy as np\n",
    "\n",
    "import matplotlib.pyplot as plt\n",
    "\n",
    "import warnings\n",
    "warnings.simplefilter(\"ignore\")\n",
    "\n",
    "from astromodels.functions.function import _known_functions\n",
    "\n",
    "\n",
    "from jupyterthemes import jtplot\n",
    "jtplot.style(context=\"talk\", fscale=1, ticks=True, grid=False)\n",
    "%matplotlib inline"
   ]
  },
  {
   "cell_type": "code",
   "execution_count": 2,
   "id": "654589d2",
   "metadata": {
    "execution": {
     "iopub.execute_input": "2022-09-28T19:25:31.000125Z",
     "iopub.status.busy": "2022-09-28T19:25:30.999712Z",
     "iopub.status.idle": "2022-09-28T19:25:31.008119Z",
     "shell.execute_reply": "2022-09-28T19:25:31.007071Z"
    },
    "nbsphinx": "hidden",
    "papermill": {
     "duration": 0.015598,
     "end_time": "2022-09-28T19:25:31.011074",
     "exception": false,
     "start_time": "2022-09-28T19:25:30.995476",
     "status": "completed"
    },
    "tags": [
     "parameters"
    ]
   },
   "outputs": [],
   "source": [
    "func_name = \"TbAbs\"\n",
    "\n",
    "positive_prior = False\n"
   ]
  },
  {
   "cell_type": "code",
   "execution_count": 3,
   "id": "03e83a1b",
   "metadata": {
    "execution": {
     "iopub.execute_input": "2022-09-28T19:25:31.018183Z",
     "iopub.status.busy": "2022-09-28T19:25:31.017851Z",
     "iopub.status.idle": "2022-09-28T19:25:31.026254Z",
     "shell.execute_reply": "2022-09-28T19:25:31.025298Z"
    },
    "papermill": {
     "duration": 0.014994,
     "end_time": "2022-09-28T19:25:31.028966",
     "exception": false,
     "start_time": "2022-09-28T19:25:31.013972",
     "status": "completed"
    },
    "tags": [
     "injected-parameters"
    ]
   },
   "outputs": [],
   "source": [
    "# Parameters\n",
    "func_name = \"Log_normal\"\n",
    "positive_prior = True\n"
   ]
  },
  {
   "cell_type": "code",
   "execution_count": 4,
   "id": "72a5be2c",
   "metadata": {
    "execution": {
     "iopub.execute_input": "2022-09-28T19:25:31.036193Z",
     "iopub.status.busy": "2022-09-28T19:25:31.035755Z",
     "iopub.status.idle": "2022-09-28T19:25:31.044563Z",
     "shell.execute_reply": "2022-09-28T19:25:31.043555Z"
    },
    "lines_to_next_cell": 0,
    "nbsphinx": "hidden",
    "papermill": {
     "duration": 0.015733,
     "end_time": "2022-09-28T19:25:31.047428",
     "exception": false,
     "start_time": "2022-09-28T19:25:31.031695",
     "status": "completed"
    },
    "tags": []
   },
   "outputs": [],
   "source": [
    "func = _known_functions[func_name]()\n",
    "\n",
    "if not positive_prior:\n",
    "\n",
    "\tenergy_grid = np.linspace(-5,5,1000)\n",
    "\n",
    "else:\n",
    "    \n",
    "    energy_grid = np.linspace(0,1,1000)\n",
    "    \n",
    "    \n",
    "    \n",
    "    \n",
    "blue = \"#4152E3\"\n",
    "red = \"#E3414B\"\n",
    "green = \"#41E39E\""
   ]
  },
  {
   "cell_type": "markdown",
   "id": "d777feae",
   "metadata": {
    "lines_to_next_cell": 0,
    "papermill": {
     "duration": 0.002879,
     "end_time": "2022-09-28T19:25:31.053292",
     "exception": false,
     "start_time": "2022-09-28T19:25:31.050413",
     "status": "completed"
    },
    "tags": []
   },
   "source": [
    "## Description"
   ]
  },
  {
   "cell_type": "code",
   "execution_count": 5,
   "id": "905e9306",
   "metadata": {
    "execution": {
     "iopub.execute_input": "2022-09-28T19:25:31.060881Z",
     "iopub.status.busy": "2022-09-28T19:25:31.060407Z",
     "iopub.status.idle": "2022-09-28T19:25:31.075106Z",
     "shell.execute_reply": "2022-09-28T19:25:31.074128Z"
    },
    "papermill": {
     "duration": 0.021431,
     "end_time": "2022-09-28T19:25:31.077900",
     "exception": false,
     "start_time": "2022-09-28T19:25:31.056469",
     "status": "completed"
    },
    "tags": []
   },
   "outputs": [
    {
     "data": {
      "text/html": [
       "<ul>\n",
       "\n",
       "<li>description: A log normal function</li>\n",
       "\n",
       "<li>formula: $ K \\frac{1}{ x \\sigma \\sqrt{2 \\pi}}\\exp{\\frac{(\\log x/piv - \\mu/piv)^2}{2~(\\sigma)^2}} $</li>\n",
       "\n",
       "<li>parameters: \n",
       "<ul>\n",
       "\n",
       "<li>F: \n",
       "<ul>\n",
       "\n",
       "<li>value: 1.0</li>\n",
       "\n",
       "<li>desc: Integral between 0and +inf. Fix this to 1 to obtain a log Normal distribution</li>\n",
       "\n",
       "<li>min_value: None</li>\n",
       "\n",
       "<li>max_value: None</li>\n",
       "\n",
       "<li>unit: </li>\n",
       "\n",
       "<li>is_normalization: False</li>\n",
       "\n",
       "<li>delta: 0.1</li>\n",
       "\n",
       "<li>free: True</li>\n",
       "\n",
       "</ul>\n",
       "\n",
       "</li>\n",
       "\n",
       "<li>mu: \n",
       "<ul>\n",
       "\n",
       "<li>value: 0.0</li>\n",
       "\n",
       "<li>desc: Central value</li>\n",
       "\n",
       "<li>min_value: None</li>\n",
       "\n",
       "<li>max_value: None</li>\n",
       "\n",
       "<li>unit: </li>\n",
       "\n",
       "<li>is_normalization: False</li>\n",
       "\n",
       "<li>delta: 0.1</li>\n",
       "\n",
       "<li>free: True</li>\n",
       "\n",
       "</ul>\n",
       "\n",
       "</li>\n",
       "\n",
       "<li>sigma: \n",
       "<ul>\n",
       "\n",
       "<li>value: 1.0</li>\n",
       "\n",
       "<li>desc: standard deviation</li>\n",
       "\n",
       "<li>min_value: 1e-12</li>\n",
       "\n",
       "<li>max_value: None</li>\n",
       "\n",
       "<li>unit: </li>\n",
       "\n",
       "<li>is_normalization: False</li>\n",
       "\n",
       "<li>delta: 0.1</li>\n",
       "\n",
       "<li>free: True</li>\n",
       "\n",
       "</ul>\n",
       "\n",
       "</li>\n",
       "\n",
       "<li>piv: \n",
       "<ul>\n",
       "\n",
       "<li>value: 1.0</li>\n",
       "\n",
       "<li>desc: pivot. Leave this to 1 for a proper log normal distribution</li>\n",
       "\n",
       "<li>min_value: None</li>\n",
       "\n",
       "<li>max_value: None</li>\n",
       "\n",
       "<li>unit: </li>\n",
       "\n",
       "<li>is_normalization: False</li>\n",
       "\n",
       "<li>delta: 0.1</li>\n",
       "\n",
       "<li>free: False</li>\n",
       "\n",
       "</ul>\n",
       "\n",
       "</li>\n",
       "\n",
       "</ul>\n",
       "\n",
       "</li>\n",
       "\n",
       "</ul>\n"
      ],
      "text/plain": [
       "  * description: A log normal function\n",
       "  * formula: $ K \\frac{1}{ x \\sigma \\sqrt{2 \\pi}}\\exp{\\frac{(\\log x/piv - \\mu/piv)^2}{2~(\\sigma)^2}}\n",
       "    * $\n",
       "  * parameters:\n",
       "    * F:\n",
       "      * value: 1.0\n",
       "      * desc: Integral between 0and +inf. Fix this to 1 to obtain a log Normal distribution\n",
       "      * min_value: null\n",
       "      * max_value: null\n",
       "      * unit: ''\n",
       "      * is_normalization: false\n",
       "      * delta: 0.1\n",
       "      * free: true\n",
       "    * mu:\n",
       "      * value: 0.0\n",
       "      * desc: Central value\n",
       "      * min_value: null\n",
       "      * max_value: null\n",
       "      * unit: ''\n",
       "      * is_normalization: false\n",
       "      * delta: 0.1\n",
       "      * free: true\n",
       "    * sigma:\n",
       "      * value: 1.0\n",
       "      * desc: standard deviation\n",
       "      * min_value: 1.0e-12\n",
       "      * max_value: null\n",
       "      * unit: ''\n",
       "      * is_normalization: false\n",
       "      * delta: 0.1\n",
       "      * free: true\n",
       "    * piv:\n",
       "      * value: 1.0\n",
       "      * desc: pivot. Leave this to 1 for a proper log normal distribution\n",
       "      * min_value: null\n",
       "      * max_value: null\n",
       "      * unit: ''\n",
       "      * is_normalization: false\n",
       "      * delta: 0.1\n",
       "      * free: false"
      ]
     },
     "metadata": {},
     "output_type": "display_data"
    }
   ],
   "source": [
    "func.display()"
   ]
  },
  {
   "cell_type": "markdown",
   "id": "dc450d3e",
   "metadata": {
    "papermill": {
     "duration": 0.0032,
     "end_time": "2022-09-28T19:25:31.084539",
     "exception": false,
     "start_time": "2022-09-28T19:25:31.081339",
     "status": "completed"
    },
    "tags": []
   },
   "source": [
    "## Shape \n",
    "\n",
    "The shape of the function. \n",
    "\n",
    "*If this is not a photon model but a prior or linear function then ignore the units as these docs are auto-generated*"
   ]
  },
  {
   "cell_type": "code",
   "execution_count": 6,
   "id": "b2717dad",
   "metadata": {
    "execution": {
     "iopub.execute_input": "2022-09-28T19:25:31.092291Z",
     "iopub.status.busy": "2022-09-28T19:25:31.091908Z",
     "iopub.status.idle": "2022-09-28T19:25:31.474483Z",
     "shell.execute_reply": "2022-09-28T19:25:31.473490Z"
    },
    "papermill": {
     "duration": 0.389833,
     "end_time": "2022-09-28T19:25:31.477346",
     "exception": false,
     "start_time": "2022-09-28T19:25:31.087513",
     "status": "completed"
    },
    "tags": [
     "nbsphinx-thumbnail"
    ]
   },
   "outputs": [
    {
     "data": {
      "text/plain": [
       "Text(0, 0.5, 'probability')"
      ]
     },
     "execution_count": 6,
     "metadata": {},
     "output_type": "execute_result"
    },
    {
     "data": {
      "image/png": "[encoded data removed]",
      "text/plain": [
       "<Figure size 1040x910 with 1 Axes>"
      ]
     },
     "metadata": {},
     "output_type": "display_data"
    }
   ],
   "source": [
    "fig, ax = plt.subplots()\n",
    "\n",
    "\n",
    "ax.plot(energy_grid, func(energy_grid), color=blue, lw=3)\n",
    "\n",
    "ax.set_xlabel(\"x\")\n",
    "ax.set_ylabel(\"probability\")\n"
   ]
  },
  {
   "cell_type": "markdown",
   "id": "46dcfd51",
   "metadata": {
    "papermill": {
     "duration": 0.004491,
     "end_time": "2022-09-28T19:25:31.485973",
     "exception": false,
     "start_time": "2022-09-28T19:25:31.481482",
     "status": "completed"
    },
    "tags": []
   },
   "source": [
    "## Random Number Generation\n",
    "\n",
    "This is how we can generate random numbers from the prior.\n"
   ]
  },
  {
   "cell_type": "code",
   "execution_count": 7,
   "id": "9c496148",
   "metadata": {
    "execution": {
     "iopub.execute_input": "2022-09-28T19:25:31.495203Z",
     "iopub.status.busy": "2022-09-28T19:25:31.494795Z",
     "iopub.status.idle": "2022-09-28T19:25:31.990034Z",
     "shell.execute_reply": "2022-09-28T19:25:31.984897Z"
    },
    "papermill": {
     "duration": 0.507772,
     "end_time": "2022-09-28T19:25:31.997341",
     "exception": false,
     "start_time": "2022-09-28T19:25:31.489569",
     "status": "completed"
    },
    "tags": []
   },
   "outputs": [
    {
     "data": {
      "text/plain": [
       "Text(0, 0.5, 'N')"
      ]
     },
     "execution_count": 7,
     "metadata": {},
     "output_type": "execute_result"
    },
    {
     "data": {
      "image/png": "[encoded data removed]",
      "text/plain": [
       "<Figure size 1040x910 with 1 Axes>"
      ]
     },
     "metadata": {},
     "output_type": "display_data"
    }
   ],
   "source": [
    "\n",
    "\n",
    "u = np.random.uniform(0,1, size=5000)\n",
    "\n",
    "draws = [func.from_unit_cube(x) for x in u]\n",
    "\n",
    "\n",
    "fig, ax = plt.subplots()\n",
    "\n",
    "\n",
    "ax.hist(draws, color=green, bins=50)\n",
    "\n",
    "ax.set_xlabel(\"value\")\n",
    "ax.set_ylabel(\"N\")\n",
    "\n"
   ]
  }
 ],
 "metadata": {
  "jupytext": {
   "formats": "ipynb,md"
  },
  "kernelspec": {
   "display_name": "Python 3 (ipykernel)",
   "language": "python",
   "name": "python3"
  },
  "language_info": {
   "codemirror_mode": {
    "name": "ipython",
    "version": 3
   },
   "file_extension": ".py",
   "mimetype": "text/x-python",
   "name": "python",
   "nbconvert_exporter": "python",
   "pygments_lexer": "ipython3",
   "version": "3.9.14"
  },
  "papermill": {
   "default_parameters": {},
   "duration": 7.371365,
   "end_time": "2022-09-28T19:25:32.700589",
   "environment_variables": {},
   "exception": null,
   "input_path": "Log_normal.ipynb",
   "output_path": "/Users/runner/work/astromodels/astromodels/docs/notebooks/Log_normal.ipynb",
   "parameters": {
    "func_name": "Log_normal",
    "positive_prior": true
   },
   "start_time": "2022-09-28T19:25:25.329224",
   "version": "2.4.0"
  }
 },
 "nbformat": 4,
 "nbformat_minor": 5
}
