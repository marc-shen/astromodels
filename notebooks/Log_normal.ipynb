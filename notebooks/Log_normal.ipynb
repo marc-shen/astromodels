{
 "cells": [
  {
   "cell_type": "markdown",
   "id": "c169e4df",
   "metadata": {
    "papermill": {
     "duration": 0.00455,
     "end_time": "2025-05-21T17:38:21.330761",
     "exception": false,
     "start_time": "2025-05-21T17:38:21.326211",
     "status": "completed"
    },
    "tags": []
   },
   "source": [
    "# Log normal"
   ]
  },
  {
   "cell_type": "code",
   "execution_count": 1,
   "id": "8a041d54",
   "metadata": {
    "execution": {
     "iopub.execute_input": "2025-05-21T17:38:21.339515Z",
     "iopub.status.busy": "2025-05-21T17:38:21.338844Z",
     "iopub.status.idle": "2025-05-21T17:38:23.037638Z",
     "shell.execute_reply": "2025-05-21T17:38:23.036169Z"
    },
    "nbsphinx": "hidden",
    "papermill": {
     "duration": 1.705662,
     "end_time": "2025-05-21T17:38:23.039874",
     "exception": false,
     "start_time": "2025-05-21T17:38:21.334212",
     "status": "completed"
    },
    "tags": []
   },
   "outputs": [],
   "source": [
    "%%capture\n",
    "\n",
    "import numpy as np\n",
    "\n",
    "import matplotlib.pyplot as plt\n",
    "\n",
    "import warnings\n",
    "warnings.simplefilter(\"ignore\")\n",
    "\n",
    "from astromodels.functions.function import _known_functions\n",
    "\n",
    "\n",
    "from jupyterthemes import jtplot\n",
    "jtplot.style(context=\"talk\", fscale=1, ticks=True, grid=False)\n",
    "%matplotlib inline"
   ]
  },
  {
   "cell_type": "code",
   "execution_count": 2,
   "id": "5d1e9ac1",
   "metadata": {
    "execution": {
     "iopub.execute_input": "2025-05-21T17:38:23.045496Z",
     "iopub.status.busy": "2025-05-21T17:38:23.044754Z",
     "iopub.status.idle": "2025-05-21T17:38:23.049253Z",
     "shell.execute_reply": "2025-05-21T17:38:23.048248Z"
    },
    "nbsphinx": "hidden",
    "papermill": {
     "duration": 0.009677,
     "end_time": "2025-05-21T17:38:23.051181",
     "exception": false,
     "start_time": "2025-05-21T17:38:23.041504",
     "status": "completed"
    },
    "tags": [
     "parameters"
    ]
   },
   "outputs": [],
   "source": [
    "func_name = \"TbAbs\"\n",
    "\n",
    "positive_prior = False\n"
   ]
  },
  {
   "cell_type": "code",
   "execution_count": 3,
   "id": "4801a526",
   "metadata": {
    "execution": {
     "iopub.execute_input": "2025-05-21T17:38:23.055346Z",
     "iopub.status.busy": "2025-05-21T17:38:23.054896Z",
     "iopub.status.idle": "2025-05-21T17:38:23.058501Z",
     "shell.execute_reply": "2025-05-21T17:38:23.057490Z"
    },
    "papermill": {
     "duration": 0.007634,
     "end_time": "2025-05-21T17:38:23.060224",
     "exception": false,
     "start_time": "2025-05-21T17:38:23.052590",
     "status": "completed"
    },
    "tags": [
     "injected-parameters"
    ]
   },
   "outputs": [],
   "source": [
    "# Parameters\n",
    "func_name = \"Log_normal\"\n",
    "positive_prior = True\n"
   ]
  },
  {
   "cell_type": "code",
   "execution_count": 4,
   "id": "c85a6561",
   "metadata": {
    "execution": {
     "iopub.execute_input": "2025-05-21T17:38:23.064638Z",
     "iopub.status.busy": "2025-05-21T17:38:23.064401Z",
     "iopub.status.idle": "2025-05-21T17:38:23.077401Z",
     "shell.execute_reply": "2025-05-21T17:38:23.075444Z"
    },
    "lines_to_next_cell": 0,
    "nbsphinx": "hidden",
    "papermill": {
     "duration": 0.019699,
     "end_time": "2025-05-21T17:38:23.081567",
     "exception": false,
     "start_time": "2025-05-21T17:38:23.061868",
     "status": "completed"
    },
    "tags": []
   },
   "outputs": [],
   "source": [
    "func = _known_functions[func_name]()\n",
    "\n",
    "if not positive_prior:\n",
    "\n",
    "\tenergy_grid = np.linspace(-5,5,1000)\n",
    "\n",
    "else:\n",
    "    \n",
    "    energy_grid = np.linspace(0,1,1000)\n",
    "    \n",
    "    \n",
    "    \n",
    "    \n",
    "blue = \"#4152E3\"\n",
    "red = \"#E3414B\"\n",
    "green = \"#41E39E\""
   ]
  },
  {
   "cell_type": "markdown",
   "id": "3e9bee58",
   "metadata": {
    "lines_to_next_cell": 0,
    "papermill": {
     "duration": 0.001165,
     "end_time": "2025-05-21T17:38:23.084121",
     "exception": false,
     "start_time": "2025-05-21T17:38:23.082956",
     "status": "completed"
    },
    "tags": []
   },
   "source": [
    "## Description"
   ]
  },
  {
   "cell_type": "code",
   "execution_count": 5,
   "id": "9a022a6b",
   "metadata": {
    "execution": {
     "iopub.execute_input": "2025-05-21T17:38:23.089845Z",
     "iopub.status.busy": "2025-05-21T17:38:23.089089Z",
     "iopub.status.idle": "2025-05-21T17:38:23.098944Z",
     "shell.execute_reply": "2025-05-21T17:38:23.097899Z"
    },
    "papermill": {
     "duration": 0.014431,
     "end_time": "2025-05-21T17:38:23.100829",
     "exception": false,
     "start_time": "2025-05-21T17:38:23.086398",
     "status": "completed"
    },
    "tags": []
   },
   "outputs": [
    {
     "data": {
      "text/html": [
       "<ul>\n",
       "\n",
       "<li>description: A log normal function</li>\n",
       "\n",
       "<li>formula: $ K \\frac{1}{ x \\sigma \\sqrt{2 \\pi}}\\exp{\\frac{(\\log x/piv - \\mu/piv)^2}{2~(\\sigma)^2}} $</li>\n",
       "\n",
       "<li>parameters: \n",
       "<ul>\n",
       "\n",
       "<li>F: \n",
       "<ul>\n",
       "\n",
       "<li>value: 1.0</li>\n",
       "\n",
       "<li>desc: Integral between 0and +inf. Fix this to 1 to obtain a log Normal distribution</li>\n",
       "\n",
       "<li>min_value: None</li>\n",
       "\n",
       "<li>max_value: None</li>\n",
       "\n",
       "<li>unit: </li>\n",
       "\n",
       "<li>is_normalization: False</li>\n",
       "\n",
       "<li>delta: 0.1</li>\n",
       "\n",
       "<li>free: True</li>\n",
       "\n",
       "</ul>\n",
       "\n",
       "</li>\n",
       "\n",
       "<li>mu: \n",
       "<ul>\n",
       "\n",
       "<li>value: 0.0</li>\n",
       "\n",
       "<li>desc: Central value</li>\n",
       "\n",
       "<li>min_value: None</li>\n",
       "\n",
       "<li>max_value: None</li>\n",
       "\n",
       "<li>unit: </li>\n",
       "\n",
       "<li>is_normalization: False</li>\n",
       "\n",
       "<li>delta: 0.1</li>\n",
       "\n",
       "<li>free: True</li>\n",
       "\n",
       "</ul>\n",
       "\n",
       "</li>\n",
       "\n",
       "<li>sigma: \n",
       "<ul>\n",
       "\n",
       "<li>value: 1.0</li>\n",
       "\n",
       "<li>desc: standard deviation</li>\n",
       "\n",
       "<li>min_value: 1e-12</li>\n",
       "\n",
       "<li>max_value: None</li>\n",
       "\n",
       "<li>unit: </li>\n",
       "\n",
       "<li>is_normalization: False</li>\n",
       "\n",
       "<li>delta: 0.1</li>\n",
       "\n",
       "<li>free: True</li>\n",
       "\n",
       "</ul>\n",
       "\n",
       "</li>\n",
       "\n",
       "<li>piv: \n",
       "<ul>\n",
       "\n",
       "<li>value: 1.0</li>\n",
       "\n",
       "<li>desc: pivot. Leave this to 1 for a proper log normal distribution</li>\n",
       "\n",
       "<li>min_value: None</li>\n",
       "\n",
       "<li>max_value: None</li>\n",
       "\n",
       "<li>unit: </li>\n",
       "\n",
       "<li>is_normalization: False</li>\n",
       "\n",
       "<li>delta: 0.1</li>\n",
       "\n",
       "<li>free: False</li>\n",
       "\n",
       "</ul>\n",
       "\n",
       "</li>\n",
       "\n",
       "</ul>\n",
       "\n",
       "</li>\n",
       "\n",
       "</ul>\n"
      ],
      "text/plain": [
       "  * description: A log normal function\n",
       "  * formula: $ K \\frac{1}{ x \\sigma \\sqrt{2 \\pi}}\\exp{\\frac{(\\log x/piv - \\mu/piv)^2}{2~(\\sigma)^2}}\n",
       "    * $\n",
       "  * parameters:\n",
       "    * F:\n",
       "      * value: 1.0\n",
       "      * desc: Integral between 0and +inf. Fix this to 1 to obtain a log Normal distribution\n",
       "      * min_value: null\n",
       "      * max_value: null\n",
       "      * unit: ''\n",
       "      * is_normalization: false\n",
       "      * delta: 0.1\n",
       "      * free: true\n",
       "    * mu:\n",
       "      * value: 0.0\n",
       "      * desc: Central value\n",
       "      * min_value: null\n",
       "      * max_value: null\n",
       "      * unit: ''\n",
       "      * is_normalization: false\n",
       "      * delta: 0.1\n",
       "      * free: true\n",
       "    * sigma:\n",
       "      * value: 1.0\n",
       "      * desc: standard deviation\n",
       "      * min_value: 1.0e-12\n",
       "      * max_value: null\n",
       "      * unit: ''\n",
       "      * is_normalization: false\n",
       "      * delta: 0.1\n",
       "      * free: true\n",
       "    * piv:\n",
       "      * value: 1.0\n",
       "      * desc: pivot. Leave this to 1 for a proper log normal distribution\n",
       "      * min_value: null\n",
       "      * max_value: null\n",
       "      * unit: ''\n",
       "      * is_normalization: false\n",
       "      * delta: 0.1\n",
       "      * free: false"
      ]
     },
     "metadata": {},
     "output_type": "display_data"
    }
   ],
   "source": [
    "func.display()"
   ]
  },
  {
   "cell_type": "markdown",
   "id": "e9b77d84",
   "metadata": {
    "papermill": {
     "duration": 0.001406,
     "end_time": "2025-05-21T17:38:23.103765",
     "exception": false,
     "start_time": "2025-05-21T17:38:23.102359",
     "status": "completed"
    },
    "tags": []
   },
   "source": [
    "## Shape \n",
    "\n",
    "The shape of the function. \n",
    "\n",
    "*If this is not a photon model but a prior or linear function then ignore the units as these docs are auto-generated*"
   ]
  },
  {
   "cell_type": "code",
   "execution_count": 6,
   "id": "f4d3c35d",
   "metadata": {
    "execution": {
     "iopub.execute_input": "2025-05-21T17:38:23.109747Z",
     "iopub.status.busy": "2025-05-21T17:38:23.109537Z",
     "iopub.status.idle": "2025-05-21T17:38:23.200802Z",
     "shell.execute_reply": "2025-05-21T17:38:23.200393Z"
    },
    "papermill": {
     "duration": 0.094976,
     "end_time": "2025-05-21T17:38:23.202208",
     "exception": false,
     "start_time": "2025-05-21T17:38:23.107232",
     "status": "completed"
    },
    "tags": [
     "nbsphinx-thumbnail"
    ]
   },
   "outputs": [
    {
     "data": {
      "text/plain": [
       "Text(0, 0.5, 'probability')"
      ]
     },
     "execution_count": 6,
     "metadata": {},
     "output_type": "execute_result"
    },
    {
     "data": {
      "image/png": "[encoded data removed]",
      "text/plain": [
       "<Figure size 1040x910 with 1 Axes>"
      ]
     },
     "metadata": {},
     "output_type": "display_data"
    }
   ],
   "source": [
    "fig, ax = plt.subplots()\n",
    "\n",
    "\n",
    "ax.plot(energy_grid, func(energy_grid), color=blue, lw=3)\n",
    "\n",
    "ax.set_xlabel(\"x\")\n",
    "ax.set_ylabel(\"probability\")\n"
   ]
  },
  {
   "cell_type": "markdown",
   "id": "cc91db57",
   "metadata": {
    "papermill": {
     "duration": 0.004098,
     "end_time": "2025-05-21T17:38:23.209439",
     "exception": false,
     "start_time": "2025-05-21T17:38:23.205341",
     "status": "completed"
    },
    "tags": []
   },
   "source": [
    "## Random Number Generation\n",
    "\n",
    "This is how we can generate random numbers from the prior.\n"
   ]
  },
  {
   "cell_type": "code",
   "execution_count": 7,
   "id": "954b9367",
   "metadata": {
    "execution": {
     "iopub.execute_input": "2025-05-21T17:38:23.217121Z",
     "iopub.status.busy": "2025-05-21T17:38:23.216930Z",
     "iopub.status.idle": "2025-05-21T17:38:23.375082Z",
     "shell.execute_reply": "2025-05-21T17:38:23.366536Z"
    },
    "papermill": {
     "duration": 0.163275,
     "end_time": "2025-05-21T17:38:23.377337",
     "exception": false,
     "start_time": "2025-05-21T17:38:23.214062",
     "status": "completed"
    },
    "tags": []
   },
   "outputs": [
    {
     "data": {
      "text/plain": [
       "Text(0, 0.5, 'N')"
      ]
     },
     "execution_count": 7,
     "metadata": {},
     "output_type": "execute_result"
    },
    {
     "data": {
      "image/png": "[encoded data removed]",
      "text/plain": [
       "<Figure size 1040x910 with 1 Axes>"
      ]
     },
     "metadata": {},
     "output_type": "display_data"
    }
   ],
   "source": [
    "\n",
    "\n",
    "u = np.random.uniform(0,1, size=5000)\n",
    "\n",
    "draws = [func.from_unit_cube(x) for x in u]\n",
    "\n",
    "\n",
    "fig, ax = plt.subplots()\n",
    "\n",
    "\n",
    "ax.hist(draws, color=green, bins=50)\n",
    "\n",
    "ax.set_xlabel(\"value\")\n",
    "ax.set_ylabel(\"N\")\n",
    "\n"
   ]
  }
 ],
 "metadata": {
  "jupytext": {
   "formats": "ipynb,md"
  },
  "kernelspec": {
   "display_name": "Python 3 (ipykernel)",
   "language": "python",
   "name": "python3"
  },
  "language_info": {
   "codemirror_mode": {
    "name": "ipython",
    "version": 3
   },
   "file_extension": ".py",
   "mimetype": "text/x-python",
   "name": "python",
   "nbconvert_exporter": "python",
   "pygments_lexer": "ipython3",
   "version": "3.9.13"
  },
  "papermill": {
   "default_parameters": {},
   "duration": 3.053576,
   "end_time": "2025-05-21T17:38:23.821745",
   "environment_variables": {},
   "exception": null,
   "input_path": "Log_normal.ipynb",
   "output_path": "/Users/runner/work/astromodels/astromodels/docs/notebooks/Log_normal.ipynb",
   "parameters": {
    "func_name": "Log_normal",
    "positive_prior": true
   },
   "start_time": "2025-05-21T17:38:20.768169",
   "version": "2.6.0"
  }
 },
 "nbformat": 4,
 "nbformat_minor": 5
}
