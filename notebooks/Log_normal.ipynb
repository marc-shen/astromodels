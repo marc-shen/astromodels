{
 "cells": [
  {
   "cell_type": "markdown",
   "id": "3aa3ccde",
   "metadata": {
    "papermill": {
     "duration": 0.009529,
     "end_time": "2025-02-05T00:53:58.117887",
     "exception": false,
     "start_time": "2025-02-05T00:53:58.108358",
     "status": "completed"
    },
    "tags": []
   },
   "source": [
    "# Log normal"
   ]
  },
  {
   "cell_type": "code",
   "execution_count": 1,
   "id": "0a3f5912",
   "metadata": {
    "execution": {
     "iopub.execute_input": "2025-02-05T00:53:58.129450Z",
     "iopub.status.busy": "2025-02-05T00:53:58.128767Z",
     "iopub.status.idle": "2025-02-05T00:53:59.647640Z",
     "shell.execute_reply": "2025-02-05T00:53:59.647016Z"
    },
    "nbsphinx": "hidden",
    "papermill": {
     "duration": 1.525994,
     "end_time": "2025-02-05T00:53:59.649124",
     "exception": false,
     "start_time": "2025-02-05T00:53:58.123130",
     "status": "completed"
    },
    "tags": []
   },
   "outputs": [],
   "source": [
    "%%capture\n",
    "\n",
    "import numpy as np\n",
    "\n",
    "import matplotlib.pyplot as plt\n",
    "\n",
    "import warnings\n",
    "warnings.simplefilter(\"ignore\")\n",
    "\n",
    "from astromodels.functions.function import _known_functions\n",
    "\n",
    "\n",
    "from jupyterthemes import jtplot\n",
    "jtplot.style(context=\"talk\", fscale=1, ticks=True, grid=False)\n",
    "%matplotlib inline"
   ]
  },
  {
   "cell_type": "code",
   "execution_count": 2,
   "id": "2999ad4d",
   "metadata": {
    "execution": {
     "iopub.execute_input": "2025-02-05T00:53:59.652694Z",
     "iopub.status.busy": "2025-02-05T00:53:59.652272Z",
     "iopub.status.idle": "2025-02-05T00:53:59.660753Z",
     "shell.execute_reply": "2025-02-05T00:53:59.660306Z"
    },
    "nbsphinx": "hidden",
    "papermill": {
     "duration": 0.011555,
     "end_time": "2025-02-05T00:53:59.662082",
     "exception": false,
     "start_time": "2025-02-05T00:53:59.650527",
     "status": "completed"
    },
    "tags": [
     "parameters"
    ]
   },
   "outputs": [],
   "source": [
    "func_name = \"TbAbs\"\n",
    "\n",
    "positive_prior = False\n"
   ]
  },
  {
   "cell_type": "code",
   "execution_count": 3,
   "id": "4e3a3256",
   "metadata": {
    "execution": {
     "iopub.execute_input": "2025-02-05T00:53:59.665165Z",
     "iopub.status.busy": "2025-02-05T00:53:59.664987Z",
     "iopub.status.idle": "2025-02-05T00:53:59.673389Z",
     "shell.execute_reply": "2025-02-05T00:53:59.672836Z"
    },
    "papermill": {
     "duration": 0.011196,
     "end_time": "2025-02-05T00:53:59.674550",
     "exception": false,
     "start_time": "2025-02-05T00:53:59.663354",
     "status": "completed"
    },
    "tags": [
     "injected-parameters"
    ]
   },
   "outputs": [],
   "source": [
    "# Parameters\n",
    "func_name = \"Log_normal\"\n",
    "positive_prior = True\n"
   ]
  },
  {
   "cell_type": "code",
   "execution_count": 4,
   "id": "153a98d0",
   "metadata": {
    "execution": {
     "iopub.execute_input": "2025-02-05T00:53:59.677589Z",
     "iopub.status.busy": "2025-02-05T00:53:59.677419Z",
     "iopub.status.idle": "2025-02-05T00:53:59.686786Z",
     "shell.execute_reply": "2025-02-05T00:53:59.686292Z"
    },
    "lines_to_next_cell": 0,
    "nbsphinx": "hidden",
    "papermill": {
     "duration": 0.012195,
     "end_time": "2025-02-05T00:53:59.688084",
     "exception": false,
     "start_time": "2025-02-05T00:53:59.675889",
     "status": "completed"
    },
    "tags": []
   },
   "outputs": [],
   "source": [
    "func = _known_functions[func_name]()\n",
    "\n",
    "if not positive_prior:\n",
    "\n",
    "\tenergy_grid = np.linspace(-5,5,1000)\n",
    "\n",
    "else:\n",
    "    \n",
    "    energy_grid = np.linspace(0,1,1000)\n",
    "    \n",
    "    \n",
    "    \n",
    "    \n",
    "blue = \"#4152E3\"\n",
    "red = \"#E3414B\"\n",
    "green = \"#41E39E\""
   ]
  },
  {
   "cell_type": "markdown",
   "id": "247daf28",
   "metadata": {
    "lines_to_next_cell": 0,
    "papermill": {
     "duration": 0.001039,
     "end_time": "2025-02-05T00:53:59.690407",
     "exception": false,
     "start_time": "2025-02-05T00:53:59.689368",
     "status": "completed"
    },
    "tags": []
   },
   "source": [
    "## Description"
   ]
  },
  {
   "cell_type": "code",
   "execution_count": 5,
   "id": "3e11817b",
   "metadata": {
    "execution": {
     "iopub.execute_input": "2025-02-05T00:53:59.693197Z",
     "iopub.status.busy": "2025-02-05T00:53:59.693009Z",
     "iopub.status.idle": "2025-02-05T00:53:59.697910Z",
     "shell.execute_reply": "2025-02-05T00:53:59.697427Z"
    },
    "papermill": {
     "duration": 0.007847,
     "end_time": "2025-02-05T00:53:59.699249",
     "exception": false,
     "start_time": "2025-02-05T00:53:59.691402",
     "status": "completed"
    },
    "tags": []
   },
   "outputs": [
    {
     "data": {
      "text/html": [
       "<ul>\n",
       "\n",
       "<li>description: A log normal function</li>\n",
       "\n",
       "<li>formula: $ K \\frac{1}{ x \\sigma \\sqrt{2 \\pi}}\\exp{\\frac{(\\log x/piv - \\mu/piv)^2}{2~(\\sigma)^2}} $</li>\n",
       "\n",
       "<li>parameters: \n",
       "<ul>\n",
       "\n",
       "<li>F: \n",
       "<ul>\n",
       "\n",
       "<li>value: 1.0</li>\n",
       "\n",
       "<li>desc: Integral between 0and +inf. Fix this to 1 to obtain a log Normal distribution</li>\n",
       "\n",
       "<li>min_value: None</li>\n",
       "\n",
       "<li>max_value: None</li>\n",
       "\n",
       "<li>unit: </li>\n",
       "\n",
       "<li>is_normalization: False</li>\n",
       "\n",
       "<li>delta: 0.1</li>\n",
       "\n",
       "<li>free: True</li>\n",
       "\n",
       "</ul>\n",
       "\n",
       "</li>\n",
       "\n",
       "<li>mu: \n",
       "<ul>\n",
       "\n",
       "<li>value: 0.0</li>\n",
       "\n",
       "<li>desc: Central value</li>\n",
       "\n",
       "<li>min_value: None</li>\n",
       "\n",
       "<li>max_value: None</li>\n",
       "\n",
       "<li>unit: </li>\n",
       "\n",
       "<li>is_normalization: False</li>\n",
       "\n",
       "<li>delta: 0.1</li>\n",
       "\n",
       "<li>free: True</li>\n",
       "\n",
       "</ul>\n",
       "\n",
       "</li>\n",
       "\n",
       "<li>sigma: \n",
       "<ul>\n",
       "\n",
       "<li>value: 1.0</li>\n",
       "\n",
       "<li>desc: standard deviation</li>\n",
       "\n",
       "<li>min_value: 1e-12</li>\n",
       "\n",
       "<li>max_value: None</li>\n",
       "\n",
       "<li>unit: </li>\n",
       "\n",
       "<li>is_normalization: False</li>\n",
       "\n",
       "<li>delta: 0.1</li>\n",
       "\n",
       "<li>free: True</li>\n",
       "\n",
       "</ul>\n",
       "\n",
       "</li>\n",
       "\n",
       "<li>piv: \n",
       "<ul>\n",
       "\n",
       "<li>value: 1.0</li>\n",
       "\n",
       "<li>desc: pivot. Leave this to 1 for a proper log normal distribution</li>\n",
       "\n",
       "<li>min_value: None</li>\n",
       "\n",
       "<li>max_value: None</li>\n",
       "\n",
       "<li>unit: </li>\n",
       "\n",
       "<li>is_normalization: False</li>\n",
       "\n",
       "<li>delta: 0.1</li>\n",
       "\n",
       "<li>free: False</li>\n",
       "\n",
       "</ul>\n",
       "\n",
       "</li>\n",
       "\n",
       "</ul>\n",
       "\n",
       "</li>\n",
       "\n",
       "</ul>\n"
      ],
      "text/plain": [
       "  * description: A log normal function\n",
       "  * formula: $ K \\frac{1}{ x \\sigma \\sqrt{2 \\pi}}\\exp{\\frac{(\\log x/piv - \\mu/piv)^2}{2~(\\sigma)^2}}\n",
       "    * $\n",
       "  * parameters:\n",
       "    * F:\n",
       "      * value: 1.0\n",
       "      * desc: Integral between 0and +inf. Fix this to 1 to obtain a log Normal distribution\n",
       "      * min_value: null\n",
       "      * max_value: null\n",
       "      * unit: ''\n",
       "      * is_normalization: false\n",
       "      * delta: 0.1\n",
       "      * free: true\n",
       "    * mu:\n",
       "      * value: 0.0\n",
       "      * desc: Central value\n",
       "      * min_value: null\n",
       "      * max_value: null\n",
       "      * unit: ''\n",
       "      * is_normalization: false\n",
       "      * delta: 0.1\n",
       "      * free: true\n",
       "    * sigma:\n",
       "      * value: 1.0\n",
       "      * desc: standard deviation\n",
       "      * min_value: 1.0e-12\n",
       "      * max_value: null\n",
       "      * unit: ''\n",
       "      * is_normalization: false\n",
       "      * delta: 0.1\n",
       "      * free: true\n",
       "    * piv:\n",
       "      * value: 1.0\n",
       "      * desc: pivot. Leave this to 1 for a proper log normal distribution\n",
       "      * min_value: null\n",
       "      * max_value: null\n",
       "      * unit: ''\n",
       "      * is_normalization: false\n",
       "      * delta: 0.1\n",
       "      * free: false"
      ]
     },
     "metadata": {},
     "output_type": "display_data"
    }
   ],
   "source": [
    "func.display()"
   ]
  },
  {
   "cell_type": "markdown",
   "id": "73104501",
   "metadata": {
    "papermill": {
     "duration": 0.001241,
     "end_time": "2025-02-05T00:53:59.701928",
     "exception": false,
     "start_time": "2025-02-05T00:53:59.700687",
     "status": "completed"
    },
    "tags": []
   },
   "source": [
    "## Shape \n",
    "\n",
    "The shape of the function. \n",
    "\n",
    "*If this is not a photon model but a prior or linear function then ignore the units as these docs are auto-generated*"
   ]
  },
  {
   "cell_type": "code",
   "execution_count": 6,
   "id": "1c95fd5f",
   "metadata": {
    "execution": {
     "iopub.execute_input": "2025-02-05T00:53:59.705230Z",
     "iopub.status.busy": "2025-02-05T00:53:59.705033Z",
     "iopub.status.idle": "2025-02-05T00:53:59.821032Z",
     "shell.execute_reply": "2025-02-05T00:53:59.820011Z"
    },
    "papermill": {
     "duration": 0.121586,
     "end_time": "2025-02-05T00:53:59.824779",
     "exception": false,
     "start_time": "2025-02-05T00:53:59.703193",
     "status": "completed"
    },
    "tags": [
     "nbsphinx-thumbnail"
    ]
   },
   "outputs": [
    {
     "data": {
      "text/plain": [
       "Text(0, 0.5, 'probability')"
      ]
     },
     "execution_count": 6,
     "metadata": {},
     "output_type": "execute_result"
    },
    {
     "data": {
      "image/png": "[encoded data removed]",
      "text/plain": [
       "<Figure size 1040x910 with 1 Axes>"
      ]
     },
     "metadata": {},
     "output_type": "display_data"
    }
   ],
   "source": [
    "fig, ax = plt.subplots()\n",
    "\n",
    "\n",
    "ax.plot(energy_grid, func(energy_grid), color=blue, lw=3)\n",
    "\n",
    "ax.set_xlabel(\"x\")\n",
    "ax.set_ylabel(\"probability\")\n"
   ]
  },
  {
   "cell_type": "markdown",
   "id": "7c24f39a",
   "metadata": {
    "papermill": {
     "duration": 0.003631,
     "end_time": "2025-02-05T00:53:59.833416",
     "exception": false,
     "start_time": "2025-02-05T00:53:59.829785",
     "status": "completed"
    },
    "tags": []
   },
   "source": [
    "## Random Number Generation\n",
    "\n",
    "This is how we can generate random numbers from the prior.\n"
   ]
  },
  {
   "cell_type": "code",
   "execution_count": 7,
   "id": "563e8b5c",
   "metadata": {
    "execution": {
     "iopub.execute_input": "2025-02-05T00:53:59.837183Z",
     "iopub.status.busy": "2025-02-05T00:53:59.837005Z",
     "iopub.status.idle": "2025-02-05T00:53:59.979611Z",
     "shell.execute_reply": "2025-02-05T00:53:59.978653Z"
    },
    "papermill": {
     "duration": 0.147086,
     "end_time": "2025-02-05T00:53:59.981959",
     "exception": false,
     "start_time": "2025-02-05T00:53:59.834873",
     "status": "completed"
    },
    "tags": []
   },
   "outputs": [
    {
     "data": {
      "text/plain": [
       "Text(0, 0.5, 'N')"
      ]
     },
     "execution_count": 7,
     "metadata": {},
     "output_type": "execute_result"
    },
    {
     "data": {
      "image/png": "[encoded data removed]",
      "text/plain": [
       "<Figure size 1040x910 with 1 Axes>"
      ]
     },
     "metadata": {},
     "output_type": "display_data"
    }
   ],
   "source": [
    "\n",
    "\n",
    "u = np.random.uniform(0,1, size=5000)\n",
    "\n",
    "draws = [func.from_unit_cube(x) for x in u]\n",
    "\n",
    "\n",
    "fig, ax = plt.subplots()\n",
    "\n",
    "\n",
    "ax.hist(draws, color=green, bins=50)\n",
    "\n",
    "ax.set_xlabel(\"value\")\n",
    "ax.set_ylabel(\"N\")\n",
    "\n"
   ]
  }
 ],
 "metadata": {
  "jupytext": {
   "formats": "ipynb,md"
  },
  "kernelspec": {
   "display_name": "Python 3 (ipykernel)",
   "language": "python",
   "name": "python3"
  },
  "language_info": {
   "codemirror_mode": {
    "name": "ipython",
    "version": 3
   },
   "file_extension": ".py",
   "mimetype": "text/x-python",
   "name": "python",
   "nbconvert_exporter": "python",
   "pygments_lexer": "ipython3",
   "version": "3.9.13"
  },
  "papermill": {
   "default_parameters": {},
   "duration": 3.019473,
   "end_time": "2025-02-05T00:54:00.419917",
   "environment_variables": {},
   "exception": null,
   "input_path": "Log_normal.ipynb",
   "output_path": "/Users/runner/work/astromodels/astromodels/docs/notebooks/Log_normal.ipynb",
   "parameters": {
    "func_name": "Log_normal",
    "positive_prior": true
   },
   "start_time": "2025-02-05T00:53:57.400444",
   "version": "2.6.0"
  }
 },
 "nbformat": 4,
 "nbformat_minor": 5
}
