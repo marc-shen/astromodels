{
 "cells": [
  {
   "cell_type": "markdown",
   "id": "b4b5cd50",
   "metadata": {
    "papermill": {
     "duration": 0.0032,
     "end_time": "2024-02-06T22:18:54.743494",
     "exception": false,
     "start_time": "2024-02-06T22:18:54.740294",
     "status": "completed"
    },
    "tags": []
   },
   "source": [
    "# Log normal"
   ]
  },
  {
   "cell_type": "code",
   "execution_count": 1,
   "id": "02659638",
   "metadata": {
    "execution": {
     "iopub.execute_input": "2024-02-06T22:18:54.750100Z",
     "iopub.status.busy": "2024-02-06T22:18:54.749676Z",
     "iopub.status.idle": "2024-02-06T22:18:57.517184Z",
     "shell.execute_reply": "2024-02-06T22:18:57.515764Z"
    },
    "nbsphinx": "hidden",
    "papermill": {
     "duration": 2.775086,
     "end_time": "2024-02-06T22:18:57.521151",
     "exception": false,
     "start_time": "2024-02-06T22:18:54.746065",
     "status": "completed"
    },
    "tags": []
   },
   "outputs": [],
   "source": [
    "%%capture\n",
    "\n",
    "import numpy as np\n",
    "\n",
    "import matplotlib.pyplot as plt\n",
    "\n",
    "import warnings\n",
    "warnings.simplefilter(\"ignore\")\n",
    "\n",
    "from astromodels.functions.function import _known_functions\n",
    "\n",
    "\n",
    "from jupyterthemes import jtplot\n",
    "jtplot.style(context=\"talk\", fscale=1, ticks=True, grid=False)\n",
    "%matplotlib inline"
   ]
  },
  {
   "cell_type": "code",
   "execution_count": 2,
   "id": "3b7978f2",
   "metadata": {
    "execution": {
     "iopub.execute_input": "2024-02-06T22:18:57.527705Z",
     "iopub.status.busy": "2024-02-06T22:18:57.527332Z",
     "iopub.status.idle": "2024-02-06T22:18:57.532573Z",
     "shell.execute_reply": "2024-02-06T22:18:57.531448Z"
    },
    "nbsphinx": "hidden",
    "papermill": {
     "duration": 0.012548,
     "end_time": "2024-02-06T22:18:57.536171",
     "exception": false,
     "start_time": "2024-02-06T22:18:57.523623",
     "status": "completed"
    },
    "tags": [
     "parameters"
    ]
   },
   "outputs": [],
   "source": [
    "func_name = \"TbAbs\"\n",
    "\n",
    "positive_prior = False\n"
   ]
  },
  {
   "cell_type": "code",
   "execution_count": 3,
   "id": "d2252e55",
   "metadata": {
    "execution": {
     "iopub.execute_input": "2024-02-06T22:18:57.542155Z",
     "iopub.status.busy": "2024-02-06T22:18:57.541816Z",
     "iopub.status.idle": "2024-02-06T22:18:57.546346Z",
     "shell.execute_reply": "2024-02-06T22:18:57.544929Z"
    },
    "papermill": {
     "duration": 0.011622,
     "end_time": "2024-02-06T22:18:57.550027",
     "exception": false,
     "start_time": "2024-02-06T22:18:57.538405",
     "status": "completed"
    },
    "tags": [
     "injected-parameters"
    ]
   },
   "outputs": [],
   "source": [
    "# Parameters\n",
    "func_name = \"Log_normal\"\n",
    "positive_prior = True\n"
   ]
  },
  {
   "cell_type": "code",
   "execution_count": 4,
   "id": "dc7440c9",
   "metadata": {
    "execution": {
     "iopub.execute_input": "2024-02-06T22:18:57.556256Z",
     "iopub.status.busy": "2024-02-06T22:18:57.555934Z",
     "iopub.status.idle": "2024-02-06T22:18:57.562505Z",
     "shell.execute_reply": "2024-02-06T22:18:57.561045Z"
    },
    "lines_to_next_cell": 0,
    "nbsphinx": "hidden",
    "papermill": {
     "duration": 0.013639,
     "end_time": "2024-02-06T22:18:57.566104",
     "exception": false,
     "start_time": "2024-02-06T22:18:57.552465",
     "status": "completed"
    },
    "tags": []
   },
   "outputs": [],
   "source": [
    "func = _known_functions[func_name]()\n",
    "\n",
    "if not positive_prior:\n",
    "\n",
    "\tenergy_grid = np.linspace(-5,5,1000)\n",
    "\n",
    "else:\n",
    "    \n",
    "    energy_grid = np.linspace(0,1,1000)\n",
    "    \n",
    "    \n",
    "    \n",
    "    \n",
    "blue = \"#4152E3\"\n",
    "red = \"#E3414B\"\n",
    "green = \"#41E39E\""
   ]
  },
  {
   "cell_type": "markdown",
   "id": "5f29ea7c",
   "metadata": {
    "lines_to_next_cell": 0,
    "papermill": {
     "duration": 0.002318,
     "end_time": "2024-02-06T22:18:57.570738",
     "exception": false,
     "start_time": "2024-02-06T22:18:57.568420",
     "status": "completed"
    },
    "tags": []
   },
   "source": [
    "## Description"
   ]
  },
  {
   "cell_type": "code",
   "execution_count": 5,
   "id": "bd8fcad2",
   "metadata": {
    "execution": {
     "iopub.execute_input": "2024-02-06T22:18:57.576692Z",
     "iopub.status.busy": "2024-02-06T22:18:57.576367Z",
     "iopub.status.idle": "2024-02-06T22:18:57.588266Z",
     "shell.execute_reply": "2024-02-06T22:18:57.586924Z"
    },
    "papermill": {
     "duration": 0.018912,
     "end_time": "2024-02-06T22:18:57.591813",
     "exception": false,
     "start_time": "2024-02-06T22:18:57.572901",
     "status": "completed"
    },
    "tags": []
   },
   "outputs": [
    {
     "data": {
      "text/html": [
       "<ul>\n",
       "\n",
       "<li>description: A log normal function</li>\n",
       "\n",
       "<li>formula: $ K \\frac{1}{ x \\sigma \\sqrt{2 \\pi}}\\exp{\\frac{(\\log x/piv - \\mu/piv)^2}{2~(\\sigma)^2}} $</li>\n",
       "\n",
       "<li>parameters: \n",
       "<ul>\n",
       "\n",
       "<li>F: \n",
       "<ul>\n",
       "\n",
       "<li>value: 1.0</li>\n",
       "\n",
       "<li>desc: Integral between 0and +inf. Fix this to 1 to obtain a log Normal distribution</li>\n",
       "\n",
       "<li>min_value: None</li>\n",
       "\n",
       "<li>max_value: None</li>\n",
       "\n",
       "<li>unit: </li>\n",
       "\n",
       "<li>is_normalization: False</li>\n",
       "\n",
       "<li>delta: 0.1</li>\n",
       "\n",
       "<li>free: True</li>\n",
       "\n",
       "</ul>\n",
       "\n",
       "</li>\n",
       "\n",
       "<li>mu: \n",
       "<ul>\n",
       "\n",
       "<li>value: 0.0</li>\n",
       "\n",
       "<li>desc: Central value</li>\n",
       "\n",
       "<li>min_value: None</li>\n",
       "\n",
       "<li>max_value: None</li>\n",
       "\n",
       "<li>unit: </li>\n",
       "\n",
       "<li>is_normalization: False</li>\n",
       "\n",
       "<li>delta: 0.1</li>\n",
       "\n",
       "<li>free: True</li>\n",
       "\n",
       "</ul>\n",
       "\n",
       "</li>\n",
       "\n",
       "<li>sigma: \n",
       "<ul>\n",
       "\n",
       "<li>value: 1.0</li>\n",
       "\n",
       "<li>desc: standard deviation</li>\n",
       "\n",
       "<li>min_value: 1e-12</li>\n",
       "\n",
       "<li>max_value: None</li>\n",
       "\n",
       "<li>unit: </li>\n",
       "\n",
       "<li>is_normalization: False</li>\n",
       "\n",
       "<li>delta: 0.1</li>\n",
       "\n",
       "<li>free: True</li>\n",
       "\n",
       "</ul>\n",
       "\n",
       "</li>\n",
       "\n",
       "<li>piv: \n",
       "<ul>\n",
       "\n",
       "<li>value: 1.0</li>\n",
       "\n",
       "<li>desc: pivot. Leave this to 1 for a proper log normal distribution</li>\n",
       "\n",
       "<li>min_value: None</li>\n",
       "\n",
       "<li>max_value: None</li>\n",
       "\n",
       "<li>unit: </li>\n",
       "\n",
       "<li>is_normalization: False</li>\n",
       "\n",
       "<li>delta: 0.1</li>\n",
       "\n",
       "<li>free: False</li>\n",
       "\n",
       "</ul>\n",
       "\n",
       "</li>\n",
       "\n",
       "</ul>\n",
       "\n",
       "</li>\n",
       "\n",
       "</ul>\n"
      ],
      "text/plain": [
       "  * description: A log normal function\n",
       "  * formula: $ K \\frac{1}{ x \\sigma \\sqrt{2 \\pi}}\\exp{\\frac{(\\log x/piv - \\mu/piv)^2}{2~(\\sigma)^2}}\n",
       "    * $\n",
       "  * parameters:\n",
       "    * F:\n",
       "      * value: 1.0\n",
       "      * desc: Integral between 0and +inf. Fix this to 1 to obtain a log Normal distribution\n",
       "      * min_value: null\n",
       "      * max_value: null\n",
       "      * unit: ''\n",
       "      * is_normalization: false\n",
       "      * delta: 0.1\n",
       "      * free: true\n",
       "    * mu:\n",
       "      * value: 0.0\n",
       "      * desc: Central value\n",
       "      * min_value: null\n",
       "      * max_value: null\n",
       "      * unit: ''\n",
       "      * is_normalization: false\n",
       "      * delta: 0.1\n",
       "      * free: true\n",
       "    * sigma:\n",
       "      * value: 1.0\n",
       "      * desc: standard deviation\n",
       "      * min_value: 1.0e-12\n",
       "      * max_value: null\n",
       "      * unit: ''\n",
       "      * is_normalization: false\n",
       "      * delta: 0.1\n",
       "      * free: true\n",
       "    * piv:\n",
       "      * value: 1.0\n",
       "      * desc: pivot. Leave this to 1 for a proper log normal distribution\n",
       "      * min_value: null\n",
       "      * max_value: null\n",
       "      * unit: ''\n",
       "      * is_normalization: false\n",
       "      * delta: 0.1\n",
       "      * free: false"
      ]
     },
     "metadata": {},
     "output_type": "display_data"
    }
   ],
   "source": [
    "func.display()"
   ]
  },
  {
   "cell_type": "markdown",
   "id": "30550d30",
   "metadata": {
    "papermill": {
     "duration": 0.002652,
     "end_time": "2024-02-06T22:18:57.597108",
     "exception": false,
     "start_time": "2024-02-06T22:18:57.594456",
     "status": "completed"
    },
    "tags": []
   },
   "source": [
    "## Shape \n",
    "\n",
    "The shape of the function. \n",
    "\n",
    "*If this is not a photon model but a prior or linear function then ignore the units as these docs are auto-generated*"
   ]
  },
  {
   "cell_type": "code",
   "execution_count": 6,
   "id": "fe9c644d",
   "metadata": {
    "execution": {
     "iopub.execute_input": "2024-02-06T22:18:57.603821Z",
     "iopub.status.busy": "2024-02-06T22:18:57.603425Z",
     "iopub.status.idle": "2024-02-06T22:18:57.808388Z",
     "shell.execute_reply": "2024-02-06T22:18:57.807193Z"
    },
    "papermill": {
     "duration": 0.212688,
     "end_time": "2024-02-06T22:18:57.812241",
     "exception": false,
     "start_time": "2024-02-06T22:18:57.599553",
     "status": "completed"
    },
    "tags": [
     "nbsphinx-thumbnail"
    ]
   },
   "outputs": [
    {
     "data": {
      "text/plain": [
       "Text(0, 0.5, 'probability')"
      ]
     },
     "execution_count": 6,
     "metadata": {},
     "output_type": "execute_result"
    },
    {
     "data": {
      "image/png": "[encoded data removed]",
      "text/plain": [
       "<Figure size 1040x910 with 1 Axes>"
      ]
     },
     "metadata": {},
     "output_type": "display_data"
    }
   ],
   "source": [
    "fig, ax = plt.subplots()\n",
    "\n",
    "\n",
    "ax.plot(energy_grid, func(energy_grid), color=blue, lw=3)\n",
    "\n",
    "ax.set_xlabel(\"x\")\n",
    "ax.set_ylabel(\"probability\")\n"
   ]
  },
  {
   "cell_type": "markdown",
   "id": "32adbc74",
   "metadata": {
    "papermill": {
     "duration": 0.003057,
     "end_time": "2024-02-06T22:18:57.818577",
     "exception": false,
     "start_time": "2024-02-06T22:18:57.815520",
     "status": "completed"
    },
    "tags": []
   },
   "source": [
    "## Random Number Generation\n",
    "\n",
    "This is how we can generate random numbers from the prior.\n"
   ]
  },
  {
   "cell_type": "code",
   "execution_count": 7,
   "id": "9787e634",
   "metadata": {
    "execution": {
     "iopub.execute_input": "2024-02-06T22:18:57.826241Z",
     "iopub.status.busy": "2024-02-06T22:18:57.825893Z",
     "iopub.status.idle": "2024-02-06T22:18:58.111465Z",
     "shell.execute_reply": "2024-02-06T22:18:58.110289Z"
    },
    "papermill": {
     "duration": 0.293919,
     "end_time": "2024-02-06T22:18:58.115368",
     "exception": false,
     "start_time": "2024-02-06T22:18:57.821449",
     "status": "completed"
    },
    "tags": []
   },
   "outputs": [
    {
     "data": {
      "text/plain": [
       "Text(0, 0.5, 'N')"
      ]
     },
     "execution_count": 7,
     "metadata": {},
     "output_type": "execute_result"
    },
    {
     "data": {
      "image/png": "[encoded data removed]",
      "text/plain": [
       "<Figure size 1040x910 with 1 Axes>"
      ]
     },
     "metadata": {},
     "output_type": "display_data"
    }
   ],
   "source": [
    "\n",
    "\n",
    "u = np.random.uniform(0,1, size=5000)\n",
    "\n",
    "draws = [func.from_unit_cube(x) for x in u]\n",
    "\n",
    "\n",
    "fig, ax = plt.subplots()\n",
    "\n",
    "\n",
    "ax.hist(draws, color=green, bins=50)\n",
    "\n",
    "ax.set_xlabel(\"value\")\n",
    "ax.set_ylabel(\"N\")\n",
    "\n"
   ]
  }
 ],
 "metadata": {
  "jupytext": {
   "formats": "ipynb,md"
  },
  "kernelspec": {
   "display_name": "Python 3 (ipykernel)",
   "language": "python",
   "name": "python3"
  },
  "language_info": {
   "codemirror_mode": {
    "name": "ipython",
    "version": 3
   },
   "file_extension": ".py",
   "mimetype": "text/x-python",
   "name": "python",
   "nbconvert_exporter": "python",
   "pygments_lexer": "ipython3",
   "version": "3.9.18"
  },
  "papermill": {
   "default_parameters": {},
   "duration": 5.107222,
   "end_time": "2024-02-06T22:18:58.641677",
   "environment_variables": {},
   "exception": null,
   "input_path": "Log_normal.ipynb",
   "output_path": "/Users/runner/work/astromodels/astromodels/docs/notebooks/Log_normal.ipynb",
   "parameters": {
    "func_name": "Log_normal",
    "positive_prior": true
   },
   "start_time": "2024-02-06T22:18:53.534455",
   "version": "2.5.0"
  }
 },
 "nbformat": 4,
 "nbformat_minor": 5
}
