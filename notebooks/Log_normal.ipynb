{
 "cells": [
  {
   "cell_type": "markdown",
   "id": "1cb0dc6c",
   "metadata": {
    "papermill": {
     "duration": 0.004912,
     "end_time": "2022-09-27T14:41:20.586096",
     "exception": false,
     "start_time": "2022-09-27T14:41:20.581184",
     "status": "completed"
    },
    "tags": []
   },
   "source": [
    "# Log normal"
   ]
  },
  {
   "cell_type": "code",
   "execution_count": 1,
   "id": "4c92f274",
   "metadata": {
    "execution": {
     "iopub.execute_input": "2022-09-27T14:41:20.600223Z",
     "iopub.status.busy": "2022-09-27T14:41:20.599697Z",
     "iopub.status.idle": "2022-09-27T14:41:24.899288Z",
     "shell.execute_reply": "2022-09-27T14:41:24.898086Z"
    },
    "nbsphinx": "hidden",
    "papermill": {
     "duration": 4.313382,
     "end_time": "2022-09-27T14:41:24.903096",
     "exception": false,
     "start_time": "2022-09-27T14:41:20.589714",
     "status": "completed"
    },
    "tags": []
   },
   "outputs": [],
   "source": [
    "%%capture\n",
    "\n",
    "import numpy as np\n",
    "\n",
    "import matplotlib.pyplot as plt\n",
    "\n",
    "import warnings\n",
    "warnings.simplefilter(\"ignore\")\n",
    "\n",
    "from astromodels.functions.function import _known_functions\n",
    "\n",
    "\n",
    "from jupyterthemes import jtplot\n",
    "jtplot.style(context=\"talk\", fscale=1, ticks=True, grid=False)\n",
    "%matplotlib inline"
   ]
  },
  {
   "cell_type": "code",
   "execution_count": 2,
   "id": "4eef42b1",
   "metadata": {
    "execution": {
     "iopub.execute_input": "2022-09-27T14:41:24.911959Z",
     "iopub.status.busy": "2022-09-27T14:41:24.911498Z",
     "iopub.status.idle": "2022-09-27T14:41:24.917930Z",
     "shell.execute_reply": "2022-09-27T14:41:24.916724Z"
    },
    "nbsphinx": "hidden",
    "papermill": {
     "duration": 0.014545,
     "end_time": "2022-09-27T14:41:24.921271",
     "exception": false,
     "start_time": "2022-09-27T14:41:24.906726",
     "status": "completed"
    },
    "tags": [
     "parameters"
    ]
   },
   "outputs": [],
   "source": [
    "func_name = \"TbAbs\"\n",
    "\n",
    "positive_prior = False\n"
   ]
  },
  {
   "cell_type": "code",
   "execution_count": 3,
   "id": "efd56abe",
   "metadata": {
    "execution": {
     "iopub.execute_input": "2022-09-27T14:41:24.929452Z",
     "iopub.status.busy": "2022-09-27T14:41:24.929041Z",
     "iopub.status.idle": "2022-09-27T14:41:24.937341Z",
     "shell.execute_reply": "2022-09-27T14:41:24.936238Z"
    },
    "papermill": {
     "duration": 0.016283,
     "end_time": "2022-09-27T14:41:24.940716",
     "exception": false,
     "start_time": "2022-09-27T14:41:24.924433",
     "status": "completed"
    },
    "tags": [
     "injected-parameters"
    ]
   },
   "outputs": [],
   "source": [
    "# Parameters\n",
    "func_name = \"Log_normal\"\n",
    "positive_prior = True\n"
   ]
  },
  {
   "cell_type": "code",
   "execution_count": 4,
   "id": "98e20742",
   "metadata": {
    "execution": {
     "iopub.execute_input": "2022-09-27T14:41:24.949031Z",
     "iopub.status.busy": "2022-09-27T14:41:24.948617Z",
     "iopub.status.idle": "2022-09-27T14:41:24.960539Z",
     "shell.execute_reply": "2022-09-27T14:41:24.959436Z"
    },
    "lines_to_next_cell": 0,
    "nbsphinx": "hidden",
    "papermill": {
     "duration": 0.019744,
     "end_time": "2022-09-27T14:41:24.963795",
     "exception": false,
     "start_time": "2022-09-27T14:41:24.944051",
     "status": "completed"
    },
    "tags": []
   },
   "outputs": [],
   "source": [
    "func = _known_functions[func_name]()\n",
    "\n",
    "if not positive_prior:\n",
    "\n",
    "\tenergy_grid = np.linspace(-5,5,1000)\n",
    "\n",
    "else:\n",
    "    \n",
    "    energy_grid = np.linspace(0,1,1000)\n",
    "    \n",
    "    \n",
    "    \n",
    "    \n",
    "blue = \"#4152E3\"\n",
    "red = \"#E3414B\"\n",
    "green = \"#41E39E\""
   ]
  },
  {
   "cell_type": "markdown",
   "id": "cb45d8c5",
   "metadata": {
    "lines_to_next_cell": 0,
    "papermill": {
     "duration": 0.003378,
     "end_time": "2022-09-27T14:41:24.971276",
     "exception": false,
     "start_time": "2022-09-27T14:41:24.967898",
     "status": "completed"
    },
    "tags": []
   },
   "source": [
    "## Description"
   ]
  },
  {
   "cell_type": "code",
   "execution_count": 5,
   "id": "c9c9557d",
   "metadata": {
    "execution": {
     "iopub.execute_input": "2022-09-27T14:41:24.979669Z",
     "iopub.status.busy": "2022-09-27T14:41:24.979260Z",
     "iopub.status.idle": "2022-09-27T14:41:24.993107Z",
     "shell.execute_reply": "2022-09-27T14:41:24.991988Z"
    },
    "papermill": {
     "duration": 0.02179,
     "end_time": "2022-09-27T14:41:24.996329",
     "exception": false,
     "start_time": "2022-09-27T14:41:24.974539",
     "status": "completed"
    },
    "tags": []
   },
   "outputs": [
    {
     "data": {
      "text/html": [
       "<ul>\n",
       "\n",
       "<li>description: A log normal function</li>\n",
       "\n",
       "<li>formula: $ K \\frac{1}{ x \\sigma \\sqrt{2 \\pi}}\\exp{\\frac{(\\log x/piv - \\mu/piv)^2}{2~(\\sigma)^2}} $</li>\n",
       "\n",
       "<li>parameters: \n",
       "<ul>\n",
       "\n",
       "<li>F: \n",
       "<ul>\n",
       "\n",
       "<li>value: 1.0</li>\n",
       "\n",
       "<li>desc: Integral between 0and +inf. Fix this to 1 to obtain a log Normal distribution</li>\n",
       "\n",
       "<li>min_value: None</li>\n",
       "\n",
       "<li>max_value: None</li>\n",
       "\n",
       "<li>unit: </li>\n",
       "\n",
       "<li>is_normalization: False</li>\n",
       "\n",
       "<li>delta: 0.1</li>\n",
       "\n",
       "<li>free: True</li>\n",
       "\n",
       "</ul>\n",
       "\n",
       "</li>\n",
       "\n",
       "<li>mu: \n",
       "<ul>\n",
       "\n",
       "<li>value: 0.0</li>\n",
       "\n",
       "<li>desc: Central value</li>\n",
       "\n",
       "<li>min_value: None</li>\n",
       "\n",
       "<li>max_value: None</li>\n",
       "\n",
       "<li>unit: </li>\n",
       "\n",
       "<li>is_normalization: False</li>\n",
       "\n",
       "<li>delta: 0.1</li>\n",
       "\n",
       "<li>free: True</li>\n",
       "\n",
       "</ul>\n",
       "\n",
       "</li>\n",
       "\n",
       "<li>sigma: \n",
       "<ul>\n",
       "\n",
       "<li>value: 1.0</li>\n",
       "\n",
       "<li>desc: standard deviation</li>\n",
       "\n",
       "<li>min_value: 1e-12</li>\n",
       "\n",
       "<li>max_value: None</li>\n",
       "\n",
       "<li>unit: </li>\n",
       "\n",
       "<li>is_normalization: False</li>\n",
       "\n",
       "<li>delta: 0.1</li>\n",
       "\n",
       "<li>free: True</li>\n",
       "\n",
       "</ul>\n",
       "\n",
       "</li>\n",
       "\n",
       "<li>piv: \n",
       "<ul>\n",
       "\n",
       "<li>value: 1.0</li>\n",
       "\n",
       "<li>desc: pivot. Leave this to 1 for a proper log normal distribution</li>\n",
       "\n",
       "<li>min_value: None</li>\n",
       "\n",
       "<li>max_value: None</li>\n",
       "\n",
       "<li>unit: </li>\n",
       "\n",
       "<li>is_normalization: False</li>\n",
       "\n",
       "<li>delta: 0.1</li>\n",
       "\n",
       "<li>free: False</li>\n",
       "\n",
       "</ul>\n",
       "\n",
       "</li>\n",
       "\n",
       "</ul>\n",
       "\n",
       "</li>\n",
       "\n",
       "</ul>\n"
      ],
      "text/plain": [
       "  * description: A log normal function\n",
       "  * formula: $ K \\frac{1}{ x \\sigma \\sqrt{2 \\pi}}\\exp{\\frac{(\\log x/piv - \\mu/piv)^2}{2~(\\sigma)^2}}\n",
       "    * $\n",
       "  * parameters:\n",
       "    * F:\n",
       "      * value: 1.0\n",
       "      * desc: Integral between 0and +inf. Fix this to 1 to obtain a log Normal distribution\n",
       "      * min_value: null\n",
       "      * max_value: null\n",
       "      * unit: ''\n",
       "      * is_normalization: false\n",
       "      * delta: 0.1\n",
       "      * free: true\n",
       "    * mu:\n",
       "      * value: 0.0\n",
       "      * desc: Central value\n",
       "      * min_value: null\n",
       "      * max_value: null\n",
       "      * unit: ''\n",
       "      * is_normalization: false\n",
       "      * delta: 0.1\n",
       "      * free: true\n",
       "    * sigma:\n",
       "      * value: 1.0\n",
       "      * desc: standard deviation\n",
       "      * min_value: 1.0e-12\n",
       "      * max_value: null\n",
       "      * unit: ''\n",
       "      * is_normalization: false\n",
       "      * delta: 0.1\n",
       "      * free: true\n",
       "    * piv:\n",
       "      * value: 1.0\n",
       "      * desc: pivot. Leave this to 1 for a proper log normal distribution\n",
       "      * min_value: null\n",
       "      * max_value: null\n",
       "      * unit: ''\n",
       "      * is_normalization: false\n",
       "      * delta: 0.1\n",
       "      * free: false"
      ]
     },
     "metadata": {},
     "output_type": "display_data"
    }
   ],
   "source": [
    "func.display()"
   ]
  },
  {
   "cell_type": "markdown",
   "id": "d244389c",
   "metadata": {
    "papermill": {
     "duration": 0.003652,
     "end_time": "2022-09-27T14:41:25.003821",
     "exception": false,
     "start_time": "2022-09-27T14:41:25.000169",
     "status": "completed"
    },
    "tags": []
   },
   "source": [
    "## Shape \n",
    "\n",
    "The shape of the function. \n",
    "\n",
    "*If this is not a photon model but a prior or linear function then ignore the units as these docs are auto-generated*"
   ]
  },
  {
   "cell_type": "code",
   "execution_count": 6,
   "id": "be302c9f",
   "metadata": {
    "execution": {
     "iopub.execute_input": "2022-09-27T14:41:25.012916Z",
     "iopub.status.busy": "2022-09-27T14:41:25.012492Z",
     "iopub.status.idle": "2022-09-27T14:41:25.460979Z",
     "shell.execute_reply": "2022-09-27T14:41:25.459856Z"
    },
    "papermill": {
     "duration": 0.456876,
     "end_time": "2022-09-27T14:41:25.464410",
     "exception": false,
     "start_time": "2022-09-27T14:41:25.007534",
     "status": "completed"
    },
    "tags": [
     "nbsphinx-thumbnail"
    ]
   },
   "outputs": [
    {
     "data": {
      "text/plain": [
       "Text(0, 0.5, 'probability')"
      ]
     },
     "execution_count": 6,
     "metadata": {},
     "output_type": "execute_result"
    },
    {
     "data": {
      "image/png": "[encoded data removed]",
      "text/plain": [
       "<Figure size 1040x910 with 1 Axes>"
      ]
     },
     "metadata": {},
     "output_type": "display_data"
    }
   ],
   "source": [
    "fig, ax = plt.subplots()\n",
    "\n",
    "\n",
    "ax.plot(energy_grid, func(energy_grid), color=blue, lw=3)\n",
    "\n",
    "ax.set_xlabel(\"x\")\n",
    "ax.set_ylabel(\"probability\")\n"
   ]
  },
  {
   "cell_type": "markdown",
   "id": "e8813f0c",
   "metadata": {
    "papermill": {
     "duration": 0.004383,
     "end_time": "2022-09-27T14:41:25.473319",
     "exception": false,
     "start_time": "2022-09-27T14:41:25.468936",
     "status": "completed"
    },
    "tags": []
   },
   "source": [
    "## Random Number Generation\n",
    "\n",
    "This is how we can generate random numbers from the prior.\n"
   ]
  },
  {
   "cell_type": "code",
   "execution_count": 7,
   "id": "4803e2f7",
   "metadata": {
    "execution": {
     "iopub.execute_input": "2022-09-27T14:41:25.483836Z",
     "iopub.status.busy": "2022-09-27T14:41:25.483372Z",
     "iopub.status.idle": "2022-09-27T14:41:25.952905Z",
     "shell.execute_reply": "2022-09-27T14:41:25.951774Z"
    },
    "papermill": {
     "duration": 0.478911,
     "end_time": "2022-09-27T14:41:25.956316",
     "exception": false,
     "start_time": "2022-09-27T14:41:25.477405",
     "status": "completed"
    },
    "tags": []
   },
   "outputs": [
    {
     "data": {
      "text/plain": [
       "Text(0, 0.5, 'N')"
      ]
     },
     "execution_count": 7,
     "metadata": {},
     "output_type": "execute_result"
    },
    {
     "data": {
      "image/png": "[encoded data removed]",
      "text/plain": [
       "<Figure size 1040x910 with 1 Axes>"
      ]
     },
     "metadata": {},
     "output_type": "display_data"
    }
   ],
   "source": [
    "\n",
    "\n",
    "u = np.random.uniform(0,1, size=5000)\n",
    "\n",
    "draws = [func.from_unit_cube(x) for x in u]\n",
    "\n",
    "\n",
    "fig, ax = plt.subplots()\n",
    "\n",
    "\n",
    "ax.hist(draws, color=green, bins=50)\n",
    "\n",
    "ax.set_xlabel(\"value\")\n",
    "ax.set_ylabel(\"N\")\n",
    "\n"
   ]
  }
 ],
 "metadata": {
  "jupytext": {
   "formats": "ipynb,md"
  },
  "kernelspec": {
   "display_name": "Python 3 (ipykernel)",
   "language": "python",
   "name": "python3"
  },
  "language_info": {
   "codemirror_mode": {
    "name": "ipython",
    "version": 3
   },
   "file_extension": ".py",
   "mimetype": "text/x-python",
   "name": "python",
   "nbconvert_exporter": "python",
   "pygments_lexer": "ipython3",
   "version": "3.9.14"
  },
  "papermill": {
   "default_parameters": {},
   "duration": 7.392954,
   "end_time": "2022-09-27T14:41:26.624148",
   "environment_variables": {},
   "exception": null,
   "input_path": "Log_normal.ipynb",
   "output_path": "/Users/runner/work/astromodels/astromodels/docs/notebooks/Log_normal.ipynb",
   "parameters": {
    "func_name": "Log_normal",
    "positive_prior": true
   },
   "start_time": "2022-09-27T14:41:19.231194",
   "version": "2.4.0"
  }
 },
 "nbformat": 4,
 "nbformat_minor": 5
}
