{
 "cells": [
  {
   "cell_type": "markdown",
   "id": "39be05ef",
   "metadata": {
    "papermill": {
     "duration": 0.005458,
     "end_time": "2024-09-10T20:05:07.853411",
     "exception": false,
     "start_time": "2024-09-10T20:05:07.847953",
     "status": "completed"
    },
    "tags": []
   },
   "source": [
    "# Log normal"
   ]
  },
  {
   "cell_type": "code",
   "execution_count": 1,
   "id": "d060a1b2",
   "metadata": {
    "execution": {
     "iopub.execute_input": "2024-09-10T20:05:07.863800Z",
     "iopub.status.busy": "2024-09-10T20:05:07.863069Z",
     "iopub.status.idle": "2024-09-10T20:05:09.276663Z",
     "shell.execute_reply": "2024-09-10T20:05:09.276173Z"
    },
    "nbsphinx": "hidden",
    "papermill": {
     "duration": 1.421154,
     "end_time": "2024-09-10T20:05:09.278199",
     "exception": false,
     "start_time": "2024-09-10T20:05:07.857045",
     "status": "completed"
    },
    "tags": []
   },
   "outputs": [],
   "source": [
    "%%capture\n",
    "\n",
    "import numpy as np\n",
    "\n",
    "import matplotlib.pyplot as plt\n",
    "\n",
    "import warnings\n",
    "warnings.simplefilter(\"ignore\")\n",
    "\n",
    "from astromodels.functions.function import _known_functions\n",
    "\n",
    "\n",
    "from jupyterthemes import jtplot\n",
    "jtplot.style(context=\"talk\", fscale=1, ticks=True, grid=False)\n",
    "%matplotlib inline"
   ]
  },
  {
   "cell_type": "code",
   "execution_count": 2,
   "id": "426a4467",
   "metadata": {
    "execution": {
     "iopub.execute_input": "2024-09-10T20:05:09.281284Z",
     "iopub.status.busy": "2024-09-10T20:05:09.280968Z",
     "iopub.status.idle": "2024-09-10T20:05:09.289380Z",
     "shell.execute_reply": "2024-09-10T20:05:09.288928Z"
    },
    "nbsphinx": "hidden",
    "papermill": {
     "duration": 0.011296,
     "end_time": "2024-09-10T20:05:09.290706",
     "exception": false,
     "start_time": "2024-09-10T20:05:09.279410",
     "status": "completed"
    },
    "tags": [
     "parameters"
    ]
   },
   "outputs": [],
   "source": [
    "func_name = \"TbAbs\"\n",
    "\n",
    "positive_prior = False\n"
   ]
  },
  {
   "cell_type": "code",
   "execution_count": 3,
   "id": "8317faa7",
   "metadata": {
    "execution": {
     "iopub.execute_input": "2024-09-10T20:05:09.293276Z",
     "iopub.status.busy": "2024-09-10T20:05:09.293133Z",
     "iopub.status.idle": "2024-09-10T20:05:09.294998Z",
     "shell.execute_reply": "2024-09-10T20:05:09.294604Z"
    },
    "papermill": {
     "duration": 0.004558,
     "end_time": "2024-09-10T20:05:09.296269",
     "exception": false,
     "start_time": "2024-09-10T20:05:09.291711",
     "status": "completed"
    },
    "tags": [
     "injected-parameters"
    ]
   },
   "outputs": [],
   "source": [
    "# Parameters\n",
    "func_name = \"Log_normal\"\n",
    "positive_prior = True\n"
   ]
  },
  {
   "cell_type": "code",
   "execution_count": 4,
   "id": "8a2ab258",
   "metadata": {
    "execution": {
     "iopub.execute_input": "2024-09-10T20:05:09.299200Z",
     "iopub.status.busy": "2024-09-10T20:05:09.299064Z",
     "iopub.status.idle": "2024-09-10T20:05:09.305272Z",
     "shell.execute_reply": "2024-09-10T20:05:09.304903Z"
    },
    "lines_to_next_cell": 0,
    "nbsphinx": "hidden",
    "papermill": {
     "duration": 0.008839,
     "end_time": "2024-09-10T20:05:09.306466",
     "exception": false,
     "start_time": "2024-09-10T20:05:09.297627",
     "status": "completed"
    },
    "tags": []
   },
   "outputs": [],
   "source": [
    "func = _known_functions[func_name]()\n",
    "\n",
    "if not positive_prior:\n",
    "\n",
    "\tenergy_grid = np.linspace(-5,5,1000)\n",
    "\n",
    "else:\n",
    "    \n",
    "    energy_grid = np.linspace(0,1,1000)\n",
    "    \n",
    "    \n",
    "    \n",
    "    \n",
    "blue = \"#4152E3\"\n",
    "red = \"#E3414B\"\n",
    "green = \"#41E39E\""
   ]
  },
  {
   "cell_type": "markdown",
   "id": "6dd859a2",
   "metadata": {
    "lines_to_next_cell": 0,
    "papermill": {
     "duration": 0.000985,
     "end_time": "2024-09-10T20:05:09.308461",
     "exception": false,
     "start_time": "2024-09-10T20:05:09.307476",
     "status": "completed"
    },
    "tags": []
   },
   "source": [
    "## Description"
   ]
  },
  {
   "cell_type": "code",
   "execution_count": 5,
   "id": "1cf56d0d",
   "metadata": {
    "execution": {
     "iopub.execute_input": "2024-09-10T20:05:09.310973Z",
     "iopub.status.busy": "2024-09-10T20:05:09.310830Z",
     "iopub.status.idle": "2024-09-10T20:05:09.320799Z",
     "shell.execute_reply": "2024-09-10T20:05:09.320398Z"
    },
    "papermill": {
     "duration": 0.012631,
     "end_time": "2024-09-10T20:05:09.322016",
     "exception": false,
     "start_time": "2024-09-10T20:05:09.309385",
     "status": "completed"
    },
    "tags": []
   },
   "outputs": [
    {
     "data": {
      "text/html": [
       "<ul>\n",
       "\n",
       "<li>description: A log normal function</li>\n",
       "\n",
       "<li>formula: $ K \\frac{1}{ x \\sigma \\sqrt{2 \\pi}}\\exp{\\frac{(\\log x/piv - \\mu/piv)^2}{2~(\\sigma)^2}} $</li>\n",
       "\n",
       "<li>parameters: \n",
       "<ul>\n",
       "\n",
       "<li>F: \n",
       "<ul>\n",
       "\n",
       "<li>value: 1.0</li>\n",
       "\n",
       "<li>desc: Integral between 0and +inf. Fix this to 1 to obtain a log Normal distribution</li>\n",
       "\n",
       "<li>min_value: None</li>\n",
       "\n",
       "<li>max_value: None</li>\n",
       "\n",
       "<li>unit: </li>\n",
       "\n",
       "<li>is_normalization: False</li>\n",
       "\n",
       "<li>delta: 0.1</li>\n",
       "\n",
       "<li>free: True</li>\n",
       "\n",
       "</ul>\n",
       "\n",
       "</li>\n",
       "\n",
       "<li>mu: \n",
       "<ul>\n",
       "\n",
       "<li>value: 0.0</li>\n",
       "\n",
       "<li>desc: Central value</li>\n",
       "\n",
       "<li>min_value: None</li>\n",
       "\n",
       "<li>max_value: None</li>\n",
       "\n",
       "<li>unit: </li>\n",
       "\n",
       "<li>is_normalization: False</li>\n",
       "\n",
       "<li>delta: 0.1</li>\n",
       "\n",
       "<li>free: True</li>\n",
       "\n",
       "</ul>\n",
       "\n",
       "</li>\n",
       "\n",
       "<li>sigma: \n",
       "<ul>\n",
       "\n",
       "<li>value: 1.0</li>\n",
       "\n",
       "<li>desc: standard deviation</li>\n",
       "\n",
       "<li>min_value: 1e-12</li>\n",
       "\n",
       "<li>max_value: None</li>\n",
       "\n",
       "<li>unit: </li>\n",
       "\n",
       "<li>is_normalization: False</li>\n",
       "\n",
       "<li>delta: 0.1</li>\n",
       "\n",
       "<li>free: True</li>\n",
       "\n",
       "</ul>\n",
       "\n",
       "</li>\n",
       "\n",
       "<li>piv: \n",
       "<ul>\n",
       "\n",
       "<li>value: 1.0</li>\n",
       "\n",
       "<li>desc: pivot. Leave this to 1 for a proper log normal distribution</li>\n",
       "\n",
       "<li>min_value: None</li>\n",
       "\n",
       "<li>max_value: None</li>\n",
       "\n",
       "<li>unit: </li>\n",
       "\n",
       "<li>is_normalization: False</li>\n",
       "\n",
       "<li>delta: 0.1</li>\n",
       "\n",
       "<li>free: False</li>\n",
       "\n",
       "</ul>\n",
       "\n",
       "</li>\n",
       "\n",
       "</ul>\n",
       "\n",
       "</li>\n",
       "\n",
       "</ul>\n"
      ],
      "text/plain": [
       "  * description: A log normal function\n",
       "  * formula: $ K \\frac{1}{ x \\sigma \\sqrt{2 \\pi}}\\exp{\\frac{(\\log x/piv - \\mu/piv)^2}{2~(\\sigma)^2}}\n",
       "    * $\n",
       "  * parameters:\n",
       "    * F:\n",
       "      * value: 1.0\n",
       "      * desc: Integral between 0and +inf. Fix this to 1 to obtain a log Normal distribution\n",
       "      * min_value: null\n",
       "      * max_value: null\n",
       "      * unit: ''\n",
       "      * is_normalization: false\n",
       "      * delta: 0.1\n",
       "      * free: true\n",
       "    * mu:\n",
       "      * value: 0.0\n",
       "      * desc: Central value\n",
       "      * min_value: null\n",
       "      * max_value: null\n",
       "      * unit: ''\n",
       "      * is_normalization: false\n",
       "      * delta: 0.1\n",
       "      * free: true\n",
       "    * sigma:\n",
       "      * value: 1.0\n",
       "      * desc: standard deviation\n",
       "      * min_value: 1.0e-12\n",
       "      * max_value: null\n",
       "      * unit: ''\n",
       "      * is_normalization: false\n",
       "      * delta: 0.1\n",
       "      * free: true\n",
       "    * piv:\n",
       "      * value: 1.0\n",
       "      * desc: pivot. Leave this to 1 for a proper log normal distribution\n",
       "      * min_value: null\n",
       "      * max_value: null\n",
       "      * unit: ''\n",
       "      * is_normalization: false\n",
       "      * delta: 0.1\n",
       "      * free: false"
      ]
     },
     "metadata": {},
     "output_type": "display_data"
    }
   ],
   "source": [
    "func.display()"
   ]
  },
  {
   "cell_type": "markdown",
   "id": "d934e76e",
   "metadata": {
    "papermill": {
     "duration": 0.00111,
     "end_time": "2024-09-10T20:05:09.324318",
     "exception": false,
     "start_time": "2024-09-10T20:05:09.323208",
     "status": "completed"
    },
    "tags": []
   },
   "source": [
    "## Shape \n",
    "\n",
    "The shape of the function. \n",
    "\n",
    "*If this is not a photon model but a prior or linear function then ignore the units as these docs are auto-generated*"
   ]
  },
  {
   "cell_type": "code",
   "execution_count": 6,
   "id": "4d8ab20f",
   "metadata": {
    "execution": {
     "iopub.execute_input": "2024-09-10T20:05:09.327039Z",
     "iopub.status.busy": "2024-09-10T20:05:09.326903Z",
     "iopub.status.idle": "2024-09-10T20:05:09.427390Z",
     "shell.execute_reply": "2024-09-10T20:05:09.426962Z"
    },
    "papermill": {
     "duration": 0.10326,
     "end_time": "2024-09-10T20:05:09.428631",
     "exception": false,
     "start_time": "2024-09-10T20:05:09.325371",
     "status": "completed"
    },
    "tags": [
     "nbsphinx-thumbnail"
    ]
   },
   "outputs": [
    {
     "data": {
      "text/plain": [
       "Text(0, 0.5, 'probability')"
      ]
     },
     "execution_count": 6,
     "metadata": {},
     "output_type": "execute_result"
    },
    {
     "data": {
      "image/png": "[encoded data removed]",
      "text/plain": [
       "<Figure size 1040x910 with 1 Axes>"
      ]
     },
     "metadata": {},
     "output_type": "display_data"
    }
   ],
   "source": [
    "fig, ax = plt.subplots()\n",
    "\n",
    "\n",
    "ax.plot(energy_grid, func(energy_grid), color=blue, lw=3)\n",
    "\n",
    "ax.set_xlabel(\"x\")\n",
    "ax.set_ylabel(\"probability\")\n"
   ]
  },
  {
   "cell_type": "markdown",
   "id": "c7a85f75",
   "metadata": {
    "papermill": {
     "duration": 0.001395,
     "end_time": "2024-09-10T20:05:09.431651",
     "exception": false,
     "start_time": "2024-09-10T20:05:09.430256",
     "status": "completed"
    },
    "tags": []
   },
   "source": [
    "## Random Number Generation\n",
    "\n",
    "This is how we can generate random numbers from the prior.\n"
   ]
  },
  {
   "cell_type": "code",
   "execution_count": 7,
   "id": "6e86d66b",
   "metadata": {
    "execution": {
     "iopub.execute_input": "2024-09-10T20:05:09.435198Z",
     "iopub.status.busy": "2024-09-10T20:05:09.435054Z",
     "iopub.status.idle": "2024-09-10T20:05:09.557351Z",
     "shell.execute_reply": "2024-09-10T20:05:09.556962Z"
    },
    "papermill": {
     "duration": 0.125623,
     "end_time": "2024-09-10T20:05:09.558733",
     "exception": false,
     "start_time": "2024-09-10T20:05:09.433110",
     "status": "completed"
    },
    "tags": []
   },
   "outputs": [
    {
     "data": {
      "text/plain": [
       "Text(0, 0.5, 'N')"
      ]
     },
     "execution_count": 7,
     "metadata": {},
     "output_type": "execute_result"
    },
    {
     "data": {
      "image/png": "[encoded data removed]",
      "text/plain": [
       "<Figure size 1040x910 with 1 Axes>"
      ]
     },
     "metadata": {},
     "output_type": "display_data"
    }
   ],
   "source": [
    "\n",
    "\n",
    "u = np.random.uniform(0,1, size=5000)\n",
    "\n",
    "draws = [func.from_unit_cube(x) for x in u]\n",
    "\n",
    "\n",
    "fig, ax = plt.subplots()\n",
    "\n",
    "\n",
    "ax.hist(draws, color=green, bins=50)\n",
    "\n",
    "ax.set_xlabel(\"value\")\n",
    "ax.set_ylabel(\"N\")\n",
    "\n"
   ]
  }
 ],
 "metadata": {
  "jupytext": {
   "formats": "ipynb,md"
  },
  "kernelspec": {
   "display_name": "Python 3 (ipykernel)",
   "language": "python",
   "name": "python3"
  },
  "language_info": {
   "codemirror_mode": {
    "name": "ipython",
    "version": 3
   },
   "file_extension": ".py",
   "mimetype": "text/x-python",
   "name": "python",
   "nbconvert_exporter": "python",
   "pygments_lexer": "ipython3",
   "version": "3.9.13"
  },
  "papermill": {
   "default_parameters": {},
   "duration": 2.835192,
   "end_time": "2024-09-10T20:05:09.895943",
   "environment_variables": {},
   "exception": null,
   "input_path": "Log_normal.ipynb",
   "output_path": "/Users/runner/work/astromodels/astromodels/docs/notebooks/Log_normal.ipynb",
   "parameters": {
    "func_name": "Log_normal",
    "positive_prior": true
   },
   "start_time": "2024-09-10T20:05:07.060751",
   "version": "2.6.0"
  }
 },
 "nbformat": 4,
 "nbformat_minor": 5
}
