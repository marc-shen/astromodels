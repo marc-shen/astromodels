{
 "cells": [
  {
   "cell_type": "markdown",
   "id": "ae7b882f",
   "metadata": {
    "papermill": {
     "duration": 0.004722,
     "end_time": "2024-09-10T14:14:42.171257",
     "exception": false,
     "start_time": "2024-09-10T14:14:42.166535",
     "status": "completed"
    },
    "tags": []
   },
   "source": [
    "# StepFunction"
   ]
  },
  {
   "cell_type": "code",
   "execution_count": 1,
   "id": "d1a3d7fb",
   "metadata": {
    "execution": {
     "iopub.execute_input": "2024-09-10T14:14:42.184694Z",
     "iopub.status.busy": "2024-09-10T14:14:42.183982Z",
     "iopub.status.idle": "2024-09-10T14:14:43.685296Z",
     "shell.execute_reply": "2024-09-10T14:14:43.684216Z"
    },
    "nbsphinx": "hidden",
    "papermill": {
     "duration": 1.511846,
     "end_time": "2024-09-10T14:14:43.688356",
     "exception": false,
     "start_time": "2024-09-10T14:14:42.176510",
     "status": "completed"
    },
    "tags": []
   },
   "outputs": [],
   "source": [
    "%%capture\n",
    "\n",
    "import numpy as np\n",
    "\n",
    "import matplotlib.pyplot as plt\n",
    "\n",
    "import warnings\n",
    "warnings.simplefilter(\"ignore\")\n",
    "\n",
    "from astromodels.functions.function import _known_functions\n",
    "\n",
    "\n",
    "from jupyterthemes import jtplot\n",
    "jtplot.style(context=\"talk\", fscale=1, ticks=True, grid=False)\n",
    "%matplotlib inline"
   ]
  },
  {
   "cell_type": "code",
   "execution_count": 2,
   "id": "2a5ae163",
   "metadata": {
    "execution": {
     "iopub.execute_input": "2024-09-10T14:14:43.694627Z",
     "iopub.status.busy": "2024-09-10T14:14:43.694074Z",
     "iopub.status.idle": "2024-09-10T14:14:43.697893Z",
     "shell.execute_reply": "2024-09-10T14:14:43.696935Z"
    },
    "nbsphinx": "hidden",
    "papermill": {
     "duration": 0.009125,
     "end_time": "2024-09-10T14:14:43.700069",
     "exception": false,
     "start_time": "2024-09-10T14:14:43.690944",
     "status": "completed"
    },
    "tags": [
     "parameters"
    ]
   },
   "outputs": [],
   "source": [
    "func_name = \"TbAbs\"\n",
    "\n",
    "x_scale=\"log\"\n",
    "y_scale=\"log\"\n",
    "\n",
    "linear_range = False\n",
    "\n",
    "wide_energy_range = False"
   ]
  },
  {
   "cell_type": "code",
   "execution_count": 3,
   "id": "36d58599",
   "metadata": {
    "execution": {
     "iopub.execute_input": "2024-09-10T14:14:43.704327Z",
     "iopub.status.busy": "2024-09-10T14:14:43.704070Z",
     "iopub.status.idle": "2024-09-10T14:14:43.707799Z",
     "shell.execute_reply": "2024-09-10T14:14:43.706803Z"
    },
    "papermill": {
     "duration": 0.008457,
     "end_time": "2024-09-10T14:14:43.710037",
     "exception": false,
     "start_time": "2024-09-10T14:14:43.701580",
     "status": "completed"
    },
    "tags": [
     "injected-parameters"
    ]
   },
   "outputs": [],
   "source": [
    "# Parameters\n",
    "func_name = \"StepFunction\"\n",
    "wide_energy_range = True\n",
    "x_scale = \"linear\"\n",
    "y_scale = \"linear\"\n",
    "linear_range = True\n"
   ]
  },
  {
   "cell_type": "code",
   "execution_count": 4,
   "id": "8b9db769",
   "metadata": {
    "execution": {
     "iopub.execute_input": "2024-09-10T14:14:43.714405Z",
     "iopub.status.busy": "2024-09-10T14:14:43.714108Z",
     "iopub.status.idle": "2024-09-10T14:14:43.719372Z",
     "shell.execute_reply": "2024-09-10T14:14:43.718575Z"
    },
    "lines_to_next_cell": 0,
    "nbsphinx": "hidden",
    "papermill": {
     "duration": 0.0103,
     "end_time": "2024-09-10T14:14:43.721939",
     "exception": false,
     "start_time": "2024-09-10T14:14:43.711639",
     "status": "completed"
    },
    "tags": []
   },
   "outputs": [],
   "source": [
    "func = _known_functions[func_name]()\n",
    "\n",
    "if wide_energy_range:\n",
    "\n",
    "    energy_grid = np.geomspace(1e2,1e4,500)\n",
    "    \n",
    "else:\n",
    "    \n",
    "    energy_grid = np.geomspace(2e-1,1e1,1000)\n",
    "\n",
    "if linear_range:\n",
    "\n",
    "\tenergy_grid = np.linspace(-5,5,1000)\n",
    "\n",
    "    \n",
    "blue = \"#4152E3\"\n",
    "red = \"#E3414B\"\n",
    "green = \"#41E39E\""
   ]
  },
  {
   "cell_type": "markdown",
   "id": "20ba6cf2",
   "metadata": {
    "lines_to_next_cell": 0,
    "papermill": {
     "duration": 0.001298,
     "end_time": "2024-09-10T14:14:43.724660",
     "exception": false,
     "start_time": "2024-09-10T14:14:43.723362",
     "status": "completed"
    },
    "tags": []
   },
   "source": [
    "## Description"
   ]
  },
  {
   "cell_type": "code",
   "execution_count": 5,
   "id": "33e3afc6",
   "metadata": {
    "execution": {
     "iopub.execute_input": "2024-09-10T14:14:43.728975Z",
     "iopub.status.busy": "2024-09-10T14:14:43.728727Z",
     "iopub.status.idle": "2024-09-10T14:14:43.735808Z",
     "shell.execute_reply": "2024-09-10T14:14:43.734764Z"
    },
    "papermill": {
     "duration": 0.012089,
     "end_time": "2024-09-10T14:14:43.738003",
     "exception": false,
     "start_time": "2024-09-10T14:14:43.725914",
     "status": "completed"
    },
    "tags": []
   },
   "outputs": [
    {
     "data": {
      "text/html": [
       "<ul>\n",
       "\n",
       "<li>description: A function which is constant on the interval lower_bound - upper_bound and 0 outside the interval. The extremes of the interval are counted as part of the interval.</li>\n",
       "\n",
       "<li>formula: $ f(x)=\\begin{cases}0 & x < \\text{lower_bound} \\\\\\text{value} & \\text{lower_bound} \\le x \\le \\text{upper_bound} \\\\ 0 & x > \\text{upper_bound} \\end{cases}$</li>\n",
       "\n",
       "<li>parameters: \n",
       "<ul>\n",
       "\n",
       "<li>lower_bound: \n",
       "<ul>\n",
       "\n",
       "<li>value: 0.0</li>\n",
       "\n",
       "<li>desc: Lower bound for the interval</li>\n",
       "\n",
       "<li>min_value: None</li>\n",
       "\n",
       "<li>max_value: None</li>\n",
       "\n",
       "<li>unit: </li>\n",
       "\n",
       "<li>is_normalization: False</li>\n",
       "\n",
       "<li>delta: 0.1</li>\n",
       "\n",
       "<li>free: True</li>\n",
       "\n",
       "</ul>\n",
       "\n",
       "</li>\n",
       "\n",
       "<li>upper_bound: \n",
       "<ul>\n",
       "\n",
       "<li>value: 1.0</li>\n",
       "\n",
       "<li>desc: Upper bound for the interval</li>\n",
       "\n",
       "<li>min_value: None</li>\n",
       "\n",
       "<li>max_value: None</li>\n",
       "\n",
       "<li>unit: </li>\n",
       "\n",
       "<li>is_normalization: False</li>\n",
       "\n",
       "<li>delta: 0.1</li>\n",
       "\n",
       "<li>free: True</li>\n",
       "\n",
       "</ul>\n",
       "\n",
       "</li>\n",
       "\n",
       "<li>value: \n",
       "<ul>\n",
       "\n",
       "<li>value: 1.0</li>\n",
       "\n",
       "<li>desc: Value in the interval</li>\n",
       "\n",
       "<li>min_value: None</li>\n",
       "\n",
       "<li>max_value: None</li>\n",
       "\n",
       "<li>unit: </li>\n",
       "\n",
       "<li>is_normalization: False</li>\n",
       "\n",
       "<li>delta: 0.1</li>\n",
       "\n",
       "<li>free: True</li>\n",
       "\n",
       "</ul>\n",
       "\n",
       "</li>\n",
       "\n",
       "</ul>\n",
       "\n",
       "</li>\n",
       "\n",
       "</ul>\n"
      ],
      "text/plain": [
       "  * description: A function which is constant on the interval lower_bound - upper_bound\n",
       "    * and 0 outside the interval. The extremes of the interval are counted as part of\n",
       "    * the interval.\n",
       "  * formula: $ f(x)=\\begin{cases}0 & x < \\text{lower_bound} \\\\\\text{value} & \\text{lower_bound}\n",
       "    * \\le x \\le \\text{upper_bound} \\\\ 0 & x > \\text{upper_bound} \\end{cases}$\n",
       "  * parameters:\n",
       "    * lower_bound:\n",
       "      * value: 0.0\n",
       "      * desc: Lower bound for the interval\n",
       "      * min_value: null\n",
       "      * max_value: null\n",
       "      * unit: ''\n",
       "      * is_normalization: false\n",
       "      * delta: 0.1\n",
       "      * free: true\n",
       "    * upper_bound:\n",
       "      * value: 1.0\n",
       "      * desc: Upper bound for the interval\n",
       "      * min_value: null\n",
       "      * max_value: null\n",
       "      * unit: ''\n",
       "      * is_normalization: false\n",
       "      * delta: 0.1\n",
       "      * free: true\n",
       "    * value:\n",
       "      * value: 1.0\n",
       "      * desc: Value in the interval\n",
       "      * min_value: null\n",
       "      * max_value: null\n",
       "      * unit: ''\n",
       "      * is_normalization: false\n",
       "      * delta: 0.1\n",
       "      * free: true"
      ]
     },
     "metadata": {},
     "output_type": "display_data"
    }
   ],
   "source": [
    "func.display()"
   ]
  },
  {
   "cell_type": "markdown",
   "id": "1e9517a5",
   "metadata": {
    "papermill": {
     "duration": 0.001433,
     "end_time": "2024-09-10T14:14:43.741129",
     "exception": false,
     "start_time": "2024-09-10T14:14:43.739696",
     "status": "completed"
    },
    "tags": []
   },
   "source": [
    "## Shape \n",
    "\n",
    "The shape of the function. \n",
    "\n",
    "*If this is not a photon model but a prior or linear function then ignore the units as these docs are auto-generated*"
   ]
  },
  {
   "cell_type": "code",
   "execution_count": 6,
   "id": "d3e27d42",
   "metadata": {
    "execution": {
     "iopub.execute_input": "2024-09-10T14:14:43.745202Z",
     "iopub.status.busy": "2024-09-10T14:14:43.744946Z",
     "iopub.status.idle": "2024-09-10T14:14:43.841963Z",
     "shell.execute_reply": "2024-09-10T14:14:43.841609Z"
    },
    "papermill": {
     "duration": 0.101071,
     "end_time": "2024-09-10T14:14:43.843632",
     "exception": false,
     "start_time": "2024-09-10T14:14:43.742561",
     "status": "completed"
    },
    "tags": [
     "nbsphinx-thumbnail"
    ]
   },
   "outputs": [
    {
     "data": {
      "image/png": "[encoded data removed]",
      "text/plain": [
       "<Figure size 1040x910 with 1 Axes>"
      ]
     },
     "metadata": {},
     "output_type": "display_data"
    }
   ],
   "source": [
    "fig, ax = plt.subplots()\n",
    "\n",
    "\n",
    "ax.plot(energy_grid, func(energy_grid), color=blue)\n",
    "\n",
    "ax.set_xlabel(\"energy (keV)\")\n",
    "ax.set_ylabel(\"photon flux\")\n",
    "ax.set_xscale(x_scale)\n",
    "ax.set_yscale(y_scale)\n"
   ]
  },
  {
   "cell_type": "markdown",
   "id": "daffda86",
   "metadata": {
    "lines_to_next_cell": 0,
    "papermill": {
     "duration": 0.001533,
     "end_time": "2024-09-10T14:14:43.846924",
     "exception": false,
     "start_time": "2024-09-10T14:14:43.845391",
     "status": "completed"
    },
    "tags": []
   },
   "source": [
    "## F$_{\\nu}$\n",
    "\n",
    "The F$_{\\nu}$ shape of the photon model\n",
    "*if this is not a photon model, please ignore this auto-generated plot*"
   ]
  },
  {
   "cell_type": "code",
   "execution_count": 7,
   "id": "d2cef115",
   "metadata": {
    "execution": {
     "iopub.execute_input": "2024-09-10T14:14:43.850903Z",
     "iopub.status.busy": "2024-09-10T14:14:43.850727Z",
     "iopub.status.idle": "2024-09-10T14:14:44.023265Z",
     "shell.execute_reply": "2024-09-10T14:14:44.022665Z"
    },
    "papermill": {
     "duration": 0.176434,
     "end_time": "2024-09-10T14:14:44.024818",
     "exception": false,
     "start_time": "2024-09-10T14:14:43.848384",
     "status": "completed"
    },
    "tags": []
   },
   "outputs": [
    {
     "data": {
      "image/png": "[encoded data removed]",
      "text/plain": [
       "<Figure size 1040x910 with 1 Axes>"
      ]
     },
     "metadata": {},
     "output_type": "display_data"
    }
   ],
   "source": [
    "fig, ax = plt.subplots()\n",
    "\n",
    "ax.plot(energy_grid, energy_grid * func(energy_grid), red)\n",
    "\n",
    "\n",
    "ax.set_xlabel(\"energy (keV)\")\n",
    "ax.set_ylabel(r\"energy flux (F$_{\\nu}$)\")\n",
    "ax.set_xscale(x_scale)\n",
    "ax.set_yscale(y_scale)\n",
    "\n"
   ]
  },
  {
   "cell_type": "markdown",
   "id": "76454894",
   "metadata": {
    "papermill": {
     "duration": 0.001734,
     "end_time": "2024-09-10T14:14:44.028495",
     "exception": false,
     "start_time": "2024-09-10T14:14:44.026761",
     "status": "completed"
    },
    "tags": []
   },
   "source": [
    "## $\\nu$F$_{\\nu}$\n",
    "\n",
    "The $\\nu$F$_{\\nu}$ shape of the photon model\n",
    "*if this is not a photon model, please ignore this auto-generated plot*"
   ]
  },
  {
   "cell_type": "code",
   "execution_count": 8,
   "id": "f3179817",
   "metadata": {
    "execution": {
     "iopub.execute_input": "2024-09-10T14:14:44.032695Z",
     "iopub.status.busy": "2024-09-10T14:14:44.032529Z",
     "iopub.status.idle": "2024-09-10T14:14:44.126480Z",
     "shell.execute_reply": "2024-09-10T14:14:44.126129Z"
    },
    "papermill": {
     "duration": 0.097809,
     "end_time": "2024-09-10T14:14:44.127945",
     "exception": false,
     "start_time": "2024-09-10T14:14:44.030136",
     "status": "completed"
    },
    "tags": []
   },
   "outputs": [
    {
     "data": {
      "image/png": "[encoded data removed]",
      "text/plain": [
       "<Figure size 1040x910 with 1 Axes>"
      ]
     },
     "metadata": {},
     "output_type": "display_data"
    }
   ],
   "source": [
    "fig, ax = plt.subplots()\n",
    "\n",
    "ax.plot(energy_grid, energy_grid**2 * func(energy_grid), color=green)\n",
    "\n",
    "\n",
    "ax.set_xlabel(\"energy (keV)\")\n",
    "ax.set_ylabel(r\"$\\nu$F$_{\\nu}$\")\n",
    "ax.set_xscale(x_scale)\n",
    "ax.set_yscale(y_scale)\n"
   ]
  }
 ],
 "metadata": {
  "jupytext": {
   "formats": "ipynb,md"
  },
  "kernelspec": {
   "display_name": "Python 3",
   "language": "python",
   "name": "python3"
  },
  "language_info": {
   "codemirror_mode": {
    "name": "ipython",
    "version": 3
   },
   "file_extension": ".py",
   "mimetype": "text/x-python",
   "name": "python",
   "nbconvert_exporter": "python",
   "pygments_lexer": "ipython3",
   "version": "3.9.13"
  },
  "papermill": {
   "default_parameters": {},
   "duration": 3.159623,
   "end_time": "2024-09-10T14:14:44.562328",
   "environment_variables": {},
   "exception": null,
   "input_path": "StepFunction.ipynb",
   "output_path": "/Users/runner/work/astromodels/astromodels/docs/notebooks/StepFunction.ipynb",
   "parameters": {
    "func_name": "StepFunction",
    "linear_range": true,
    "wide_energy_range": true,
    "x_scale": "linear",
    "y_scale": "linear"
   },
   "start_time": "2024-09-10T14:14:41.402705",
   "version": "2.6.0"
  }
 },
 "nbformat": 4,
 "nbformat_minor": 5
}
