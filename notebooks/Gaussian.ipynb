{
 "cells": [
  {
   "cell_type": "markdown",
   "id": "5498ede2",
   "metadata": {
    "papermill": {
     "duration": 0.007199,
     "end_time": "2024-06-07T07:00:37.795996",
     "exception": false,
     "start_time": "2024-06-07T07:00:37.788797",
     "status": "completed"
    },
    "tags": []
   },
   "source": [
    "# Gaussian"
   ]
  },
  {
   "cell_type": "code",
   "execution_count": 1,
   "id": "210f9826",
   "metadata": {
    "execution": {
     "iopub.execute_input": "2024-06-07T07:00:37.809047Z",
     "iopub.status.busy": "2024-06-07T07:00:37.808560Z",
     "iopub.status.idle": "2024-06-07T07:00:39.490045Z",
     "shell.execute_reply": "2024-06-07T07:00:39.489229Z"
    },
    "nbsphinx": "hidden",
    "papermill": {
     "duration": 1.690322,
     "end_time": "2024-06-07T07:00:39.492556",
     "exception": false,
     "start_time": "2024-06-07T07:00:37.802234",
     "status": "completed"
    },
    "tags": []
   },
   "outputs": [],
   "source": [
    "%%capture\n",
    "\n",
    "import numpy as np\n",
    "\n",
    "import matplotlib.pyplot as plt\n",
    "\n",
    "import warnings\n",
    "warnings.simplefilter(\"ignore\")\n",
    "\n",
    "from astromodels.functions.function import _known_functions\n",
    "\n",
    "\n",
    "from jupyterthemes import jtplot\n",
    "jtplot.style(context=\"talk\", fscale=1, ticks=True, grid=False)\n",
    "%matplotlib inline"
   ]
  },
  {
   "cell_type": "code",
   "execution_count": 2,
   "id": "07c3c3bc",
   "metadata": {
    "execution": {
     "iopub.execute_input": "2024-06-07T07:00:39.497077Z",
     "iopub.status.busy": "2024-06-07T07:00:39.496550Z",
     "iopub.status.idle": "2024-06-07T07:00:39.500508Z",
     "shell.execute_reply": "2024-06-07T07:00:39.499660Z"
    },
    "nbsphinx": "hidden",
    "papermill": {
     "duration": 0.008307,
     "end_time": "2024-06-07T07:00:39.502424",
     "exception": false,
     "start_time": "2024-06-07T07:00:39.494117",
     "status": "completed"
    },
    "tags": [
     "parameters"
    ]
   },
   "outputs": [],
   "source": [
    "func_name = \"TbAbs\"\n",
    "\n",
    "positive_prior = False\n"
   ]
  },
  {
   "cell_type": "code",
   "execution_count": 3,
   "id": "737bf8de",
   "metadata": {
    "execution": {
     "iopub.execute_input": "2024-06-07T07:00:39.506666Z",
     "iopub.status.busy": "2024-06-07T07:00:39.506431Z",
     "iopub.status.idle": "2024-06-07T07:00:39.509415Z",
     "shell.execute_reply": "2024-06-07T07:00:39.508630Z"
    },
    "papermill": {
     "duration": 0.007805,
     "end_time": "2024-06-07T07:00:39.511574",
     "exception": false,
     "start_time": "2024-06-07T07:00:39.503769",
     "status": "completed"
    },
    "tags": [
     "injected-parameters"
    ]
   },
   "outputs": [],
   "source": [
    "# Parameters\n",
    "func_name = \"Gaussian\"\n",
    "positive_prior = False\n"
   ]
  },
  {
   "cell_type": "code",
   "execution_count": 4,
   "id": "9a020e09",
   "metadata": {
    "execution": {
     "iopub.execute_input": "2024-06-07T07:00:39.515473Z",
     "iopub.status.busy": "2024-06-07T07:00:39.515231Z",
     "iopub.status.idle": "2024-06-07T07:00:39.520021Z",
     "shell.execute_reply": "2024-06-07T07:00:39.519156Z"
    },
    "lines_to_next_cell": 0,
    "nbsphinx": "hidden",
    "papermill": {
     "duration": 0.009174,
     "end_time": "2024-06-07T07:00:39.522035",
     "exception": false,
     "start_time": "2024-06-07T07:00:39.512861",
     "status": "completed"
    },
    "tags": []
   },
   "outputs": [],
   "source": [
    "func = _known_functions[func_name]()\n",
    "\n",
    "if not positive_prior:\n",
    "\n",
    "\tenergy_grid = np.linspace(-5,5,1000)\n",
    "\n",
    "else:\n",
    "    \n",
    "    energy_grid = np.linspace(0,1,1000)\n",
    "    \n",
    "    \n",
    "    \n",
    "    \n",
    "blue = \"#4152E3\"\n",
    "red = \"#E3414B\"\n",
    "green = \"#41E39E\""
   ]
  },
  {
   "cell_type": "markdown",
   "id": "e28cd11d",
   "metadata": {
    "lines_to_next_cell": 0,
    "papermill": {
     "duration": 0.0011,
     "end_time": "2024-06-07T07:00:39.524464",
     "exception": false,
     "start_time": "2024-06-07T07:00:39.523364",
     "status": "completed"
    },
    "tags": []
   },
   "source": [
    "## Description"
   ]
  },
  {
   "cell_type": "code",
   "execution_count": 5,
   "id": "59d7d8a6",
   "metadata": {
    "execution": {
     "iopub.execute_input": "2024-06-07T07:00:39.528135Z",
     "iopub.status.busy": "2024-06-07T07:00:39.527901Z",
     "iopub.status.idle": "2024-06-07T07:00:39.535150Z",
     "shell.execute_reply": "2024-06-07T07:00:39.534046Z"
    },
    "papermill": {
     "duration": 0.011808,
     "end_time": "2024-06-07T07:00:39.537341",
     "exception": false,
     "start_time": "2024-06-07T07:00:39.525533",
     "status": "completed"
    },
    "tags": []
   },
   "outputs": [
    {
     "data": {
      "text/html": [
       "<ul>\n",
       "\n",
       "<li>description: A Gaussian function</li>\n",
       "\n",
       "<li>formula: $ K \\frac{1}{\\sigma \\sqrt{2 \\pi}}\\exp{\\frac{(x-\\mu)^2}{2~(\\sigma)^2}} $</li>\n",
       "\n",
       "<li>parameters: \n",
       "<ul>\n",
       "\n",
       "<li>F: \n",
       "<ul>\n",
       "\n",
       "<li>value: 1.0</li>\n",
       "\n",
       "<li>desc: Integral between -inf and +inf. Fix this to 1 to obtain a Normal distribution</li>\n",
       "\n",
       "<li>min_value: None</li>\n",
       "\n",
       "<li>max_value: None</li>\n",
       "\n",
       "<li>unit: </li>\n",
       "\n",
       "<li>is_normalization: False</li>\n",
       "\n",
       "<li>delta: 0.1</li>\n",
       "\n",
       "<li>free: True</li>\n",
       "\n",
       "</ul>\n",
       "\n",
       "</li>\n",
       "\n",
       "<li>mu: \n",
       "<ul>\n",
       "\n",
       "<li>value: 0.0</li>\n",
       "\n",
       "<li>desc: Central value</li>\n",
       "\n",
       "<li>min_value: None</li>\n",
       "\n",
       "<li>max_value: None</li>\n",
       "\n",
       "<li>unit: </li>\n",
       "\n",
       "<li>is_normalization: False</li>\n",
       "\n",
       "<li>delta: 0.1</li>\n",
       "\n",
       "<li>free: True</li>\n",
       "\n",
       "</ul>\n",
       "\n",
       "</li>\n",
       "\n",
       "<li>sigma: \n",
       "<ul>\n",
       "\n",
       "<li>value: 1.0</li>\n",
       "\n",
       "<li>desc: standard deviation</li>\n",
       "\n",
       "<li>min_value: 1e-12</li>\n",
       "\n",
       "<li>max_value: None</li>\n",
       "\n",
       "<li>unit: </li>\n",
       "\n",
       "<li>is_normalization: False</li>\n",
       "\n",
       "<li>delta: 0.1</li>\n",
       "\n",
       "<li>free: True</li>\n",
       "\n",
       "</ul>\n",
       "\n",
       "</li>\n",
       "\n",
       "</ul>\n",
       "\n",
       "</li>\n",
       "\n",
       "</ul>\n"
      ],
      "text/plain": [
       "  * description: A Gaussian function\n",
       "  * formula: $ K \\frac{1}{\\sigma \\sqrt{2 \\pi}}\\exp{\\frac{(x-\\mu)^2}{2~(\\sigma)^2}} $\n",
       "  * parameters:\n",
       "    * F:\n",
       "      * value: 1.0\n",
       "      * desc: Integral between -inf and +inf. Fix this to 1 to obtain a Normal distribution\n",
       "      * min_value: null\n",
       "      * max_value: null\n",
       "      * unit: ''\n",
       "      * is_normalization: false\n",
       "      * delta: 0.1\n",
       "      * free: true\n",
       "    * mu:\n",
       "      * value: 0.0\n",
       "      * desc: Central value\n",
       "      * min_value: null\n",
       "      * max_value: null\n",
       "      * unit: ''\n",
       "      * is_normalization: false\n",
       "      * delta: 0.1\n",
       "      * free: true\n",
       "    * sigma:\n",
       "      * value: 1.0\n",
       "      * desc: standard deviation\n",
       "      * min_value: 1.0e-12\n",
       "      * max_value: null\n",
       "      * unit: ''\n",
       "      * is_normalization: false\n",
       "      * delta: 0.1\n",
       "      * free: true"
      ]
     },
     "metadata": {},
     "output_type": "display_data"
    }
   ],
   "source": [
    "func.display()"
   ]
  },
  {
   "cell_type": "markdown",
   "id": "12b49a34",
   "metadata": {
    "papermill": {
     "duration": 0.001495,
     "end_time": "2024-06-07T07:00:39.540382",
     "exception": false,
     "start_time": "2024-06-07T07:00:39.538887",
     "status": "completed"
    },
    "tags": []
   },
   "source": [
    "## Shape \n",
    "\n",
    "The shape of the function. \n",
    "\n",
    "*If this is not a photon model but a prior or linear function then ignore the units as these docs are auto-generated*"
   ]
  },
  {
   "cell_type": "code",
   "execution_count": 6,
   "id": "5802f215",
   "metadata": {
    "execution": {
     "iopub.execute_input": "2024-06-07T07:00:39.544023Z",
     "iopub.status.busy": "2024-06-07T07:00:39.543824Z",
     "iopub.status.idle": "2024-06-07T07:00:39.658282Z",
     "shell.execute_reply": "2024-06-07T07:00:39.654918Z"
    },
    "papermill": {
     "duration": 0.118277,
     "end_time": "2024-06-07T07:00:39.660012",
     "exception": false,
     "start_time": "2024-06-07T07:00:39.541735",
     "status": "completed"
    },
    "tags": [
     "nbsphinx-thumbnail"
    ]
   },
   "outputs": [
    {
     "data": {
      "text/plain": [
       "Text(0, 0.5, 'probability')"
      ]
     },
     "execution_count": 6,
     "metadata": {},
     "output_type": "execute_result"
    },
    {
     "data": {
      "image/png": "[encoded data removed]",
      "text/plain": [
       "<Figure size 1040x910 with 1 Axes>"
      ]
     },
     "metadata": {},
     "output_type": "display_data"
    }
   ],
   "source": [
    "fig, ax = plt.subplots()\n",
    "\n",
    "\n",
    "ax.plot(energy_grid, func(energy_grid), color=blue, lw=3)\n",
    "\n",
    "ax.set_xlabel(\"x\")\n",
    "ax.set_ylabel(\"probability\")\n"
   ]
  },
  {
   "cell_type": "markdown",
   "id": "7243d412",
   "metadata": {
    "papermill": {
     "duration": 0.001484,
     "end_time": "2024-06-07T07:00:39.663528",
     "exception": false,
     "start_time": "2024-06-07T07:00:39.662044",
     "status": "completed"
    },
    "tags": []
   },
   "source": [
    "## Random Number Generation\n",
    "\n",
    "This is how we can generate random numbers from the prior.\n"
   ]
  },
  {
   "cell_type": "code",
   "execution_count": 7,
   "id": "7babdd32",
   "metadata": {
    "execution": {
     "iopub.execute_input": "2024-06-07T07:00:39.671656Z",
     "iopub.status.busy": "2024-06-07T07:00:39.671315Z",
     "iopub.status.idle": "2024-06-07T07:00:39.856852Z",
     "shell.execute_reply": "2024-06-07T07:00:39.854989Z"
    },
    "papermill": {
     "duration": 0.195571,
     "end_time": "2024-06-07T07:00:39.860670",
     "exception": false,
     "start_time": "2024-06-07T07:00:39.665099",
     "status": "completed"
    },
    "tags": []
   },
   "outputs": [
    {
     "data": {
      "text/plain": [
       "Text(0, 0.5, 'N')"
      ]
     },
     "execution_count": 7,
     "metadata": {},
     "output_type": "execute_result"
    },
    {
     "data": {
      "image/png": "[encoded data removed]",
      "text/plain": [
       "<Figure size 1040x910 with 1 Axes>"
      ]
     },
     "metadata": {},
     "output_type": "display_data"
    }
   ],
   "source": [
    "\n",
    "\n",
    "u = np.random.uniform(0,1, size=5000)\n",
    "\n",
    "draws = [func.from_unit_cube(x) for x in u]\n",
    "\n",
    "\n",
    "fig, ax = plt.subplots()\n",
    "\n",
    "\n",
    "ax.hist(draws, color=green, bins=50)\n",
    "\n",
    "ax.set_xlabel(\"value\")\n",
    "ax.set_ylabel(\"N\")\n",
    "\n"
   ]
  }
 ],
 "metadata": {
  "jupytext": {
   "formats": "ipynb,md"
  },
  "kernelspec": {
   "display_name": "Python 3 (ipykernel)",
   "language": "python",
   "name": "python3"
  },
  "language_info": {
   "codemirror_mode": {
    "name": "ipython",
    "version": 3
   },
   "file_extension": ".py",
   "mimetype": "text/x-python",
   "name": "python",
   "nbconvert_exporter": "python",
   "pygments_lexer": "ipython3",
   "version": "3.9.13"
  },
  "papermill": {
   "default_parameters": {},
   "duration": 3.122994,
   "end_time": "2024-06-07T07:00:40.299266",
   "environment_variables": {},
   "exception": null,
   "input_path": "Gaussian.ipynb",
   "output_path": "/Users/runner/work/astromodels/astromodels/docs/notebooks/Gaussian.ipynb",
   "parameters": {
    "func_name": "Gaussian",
    "positive_prior": false
   },
   "start_time": "2024-06-07T07:00:37.176272",
   "version": "2.6.0"
  }
 },
 "nbformat": 4,
 "nbformat_minor": 5
}
