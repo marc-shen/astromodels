{
 "cells": [
  {
   "cell_type": "markdown",
   "id": "dbbb2546",
   "metadata": {
    "papermill": {
     "duration": 0.010042,
     "end_time": "2024-05-13T22:10:58.339156",
     "exception": false,
     "start_time": "2024-05-13T22:10:58.329114",
     "status": "completed"
    },
    "tags": []
   },
   "source": [
    "# Gaussian"
   ]
  },
  {
   "cell_type": "code",
   "execution_count": 1,
   "id": "840dec76",
   "metadata": {
    "execution": {
     "iopub.execute_input": "2024-05-13T22:10:58.352549Z",
     "iopub.status.busy": "2024-05-13T22:10:58.352002Z",
     "iopub.status.idle": "2024-05-13T22:10:59.786307Z",
     "shell.execute_reply": "2024-05-13T22:10:59.785826Z"
    },
    "nbsphinx": "hidden",
    "papermill": {
     "duration": 1.44331,
     "end_time": "2024-05-13T22:10:59.787825",
     "exception": false,
     "start_time": "2024-05-13T22:10:58.344515",
     "status": "completed"
    },
    "tags": []
   },
   "outputs": [],
   "source": [
    "%%capture\n",
    "\n",
    "import numpy as np\n",
    "\n",
    "import matplotlib.pyplot as plt\n",
    "\n",
    "import warnings\n",
    "warnings.simplefilter(\"ignore\")\n",
    "\n",
    "from astromodels.functions.function import _known_functions\n",
    "\n",
    "\n",
    "from jupyterthemes import jtplot\n",
    "jtplot.style(context=\"talk\", fscale=1, ticks=True, grid=False)\n",
    "%matplotlib inline"
   ]
  },
  {
   "cell_type": "code",
   "execution_count": 2,
   "id": "b6dee379",
   "metadata": {
    "execution": {
     "iopub.execute_input": "2024-05-13T22:10:59.790984Z",
     "iopub.status.busy": "2024-05-13T22:10:59.790657Z",
     "iopub.status.idle": "2024-05-13T22:10:59.792832Z",
     "shell.execute_reply": "2024-05-13T22:10:59.792457Z"
    },
    "nbsphinx": "hidden",
    "papermill": {
     "duration": 0.005019,
     "end_time": "2024-05-13T22:10:59.794087",
     "exception": false,
     "start_time": "2024-05-13T22:10:59.789068",
     "status": "completed"
    },
    "tags": [
     "parameters"
    ]
   },
   "outputs": [],
   "source": [
    "func_name = \"TbAbs\"\n",
    "\n",
    "positive_prior = False\n"
   ]
  },
  {
   "cell_type": "code",
   "execution_count": 3,
   "id": "cd2358e0",
   "metadata": {
    "execution": {
     "iopub.execute_input": "2024-05-13T22:10:59.796639Z",
     "iopub.status.busy": "2024-05-13T22:10:59.796495Z",
     "iopub.status.idle": "2024-05-13T22:10:59.802580Z",
     "shell.execute_reply": "2024-05-13T22:10:59.802205Z"
    },
    "papermill": {
     "duration": 0.008764,
     "end_time": "2024-05-13T22:10:59.803838",
     "exception": false,
     "start_time": "2024-05-13T22:10:59.795074",
     "status": "completed"
    },
    "tags": [
     "injected-parameters"
    ]
   },
   "outputs": [],
   "source": [
    "# Parameters\n",
    "func_name = \"Gaussian\"\n",
    "positive_prior = False\n"
   ]
  },
  {
   "cell_type": "code",
   "execution_count": 4,
   "id": "eaf24590",
   "metadata": {
    "execution": {
     "iopub.execute_input": "2024-05-13T22:10:59.806454Z",
     "iopub.status.busy": "2024-05-13T22:10:59.806315Z",
     "iopub.status.idle": "2024-05-13T22:10:59.815305Z",
     "shell.execute_reply": "2024-05-13T22:10:59.814860Z"
    },
    "lines_to_next_cell": 0,
    "nbsphinx": "hidden",
    "papermill": {
     "duration": 0.011655,
     "end_time": "2024-05-13T22:10:59.816485",
     "exception": false,
     "start_time": "2024-05-13T22:10:59.804830",
     "status": "completed"
    },
    "tags": []
   },
   "outputs": [],
   "source": [
    "func = _known_functions[func_name]()\n",
    "\n",
    "if not positive_prior:\n",
    "\n",
    "\tenergy_grid = np.linspace(-5,5,1000)\n",
    "\n",
    "else:\n",
    "    \n",
    "    energy_grid = np.linspace(0,1,1000)\n",
    "    \n",
    "    \n",
    "    \n",
    "    \n",
    "blue = \"#4152E3\"\n",
    "red = \"#E3414B\"\n",
    "green = \"#41E39E\""
   ]
  },
  {
   "cell_type": "markdown",
   "id": "70cfa15c",
   "metadata": {
    "lines_to_next_cell": 0,
    "papermill": {
     "duration": 0.000979,
     "end_time": "2024-05-13T22:10:59.818484",
     "exception": false,
     "start_time": "2024-05-13T22:10:59.817505",
     "status": "completed"
    },
    "tags": []
   },
   "source": [
    "## Description"
   ]
  },
  {
   "cell_type": "code",
   "execution_count": 5,
   "id": "4d389505",
   "metadata": {
    "execution": {
     "iopub.execute_input": "2024-05-13T22:10:59.820979Z",
     "iopub.status.busy": "2024-05-13T22:10:59.820846Z",
     "iopub.status.idle": "2024-05-13T22:10:59.831009Z",
     "shell.execute_reply": "2024-05-13T22:10:59.830608Z"
    },
    "papermill": {
     "duration": 0.012853,
     "end_time": "2024-05-13T22:10:59.832278",
     "exception": false,
     "start_time": "2024-05-13T22:10:59.819425",
     "status": "completed"
    },
    "tags": []
   },
   "outputs": [
    {
     "data": {
      "text/html": [
       "<ul>\n",
       "\n",
       "<li>description: A Gaussian function</li>\n",
       "\n",
       "<li>formula: $ K \\frac{1}{\\sigma \\sqrt{2 \\pi}}\\exp{\\frac{(x-\\mu)^2}{2~(\\sigma)^2}} $</li>\n",
       "\n",
       "<li>parameters: \n",
       "<ul>\n",
       "\n",
       "<li>F: \n",
       "<ul>\n",
       "\n",
       "<li>value: 1.0</li>\n",
       "\n",
       "<li>desc: Integral between -inf and +inf. Fix this to 1 to obtain a Normal distribution</li>\n",
       "\n",
       "<li>min_value: None</li>\n",
       "\n",
       "<li>max_value: None</li>\n",
       "\n",
       "<li>unit: </li>\n",
       "\n",
       "<li>is_normalization: False</li>\n",
       "\n",
       "<li>delta: 0.1</li>\n",
       "\n",
       "<li>free: True</li>\n",
       "\n",
       "</ul>\n",
       "\n",
       "</li>\n",
       "\n",
       "<li>mu: \n",
       "<ul>\n",
       "\n",
       "<li>value: 0.0</li>\n",
       "\n",
       "<li>desc: Central value</li>\n",
       "\n",
       "<li>min_value: None</li>\n",
       "\n",
       "<li>max_value: None</li>\n",
       "\n",
       "<li>unit: </li>\n",
       "\n",
       "<li>is_normalization: False</li>\n",
       "\n",
       "<li>delta: 0.1</li>\n",
       "\n",
       "<li>free: True</li>\n",
       "\n",
       "</ul>\n",
       "\n",
       "</li>\n",
       "\n",
       "<li>sigma: \n",
       "<ul>\n",
       "\n",
       "<li>value: 1.0</li>\n",
       "\n",
       "<li>desc: standard deviation</li>\n",
       "\n",
       "<li>min_value: 1e-12</li>\n",
       "\n",
       "<li>max_value: None</li>\n",
       "\n",
       "<li>unit: </li>\n",
       "\n",
       "<li>is_normalization: False</li>\n",
       "\n",
       "<li>delta: 0.1</li>\n",
       "\n",
       "<li>free: True</li>\n",
       "\n",
       "</ul>\n",
       "\n",
       "</li>\n",
       "\n",
       "</ul>\n",
       "\n",
       "</li>\n",
       "\n",
       "</ul>\n"
      ],
      "text/plain": [
       "  * description: A Gaussian function\n",
       "  * formula: $ K \\frac{1}{\\sigma \\sqrt{2 \\pi}}\\exp{\\frac{(x-\\mu)^2}{2~(\\sigma)^2}} $\n",
       "  * parameters:\n",
       "    * F:\n",
       "      * value: 1.0\n",
       "      * desc: Integral between -inf and +inf. Fix this to 1 to obtain a Normal distribution\n",
       "      * min_value: null\n",
       "      * max_value: null\n",
       "      * unit: ''\n",
       "      * is_normalization: false\n",
       "      * delta: 0.1\n",
       "      * free: true\n",
       "    * mu:\n",
       "      * value: 0.0\n",
       "      * desc: Central value\n",
       "      * min_value: null\n",
       "      * max_value: null\n",
       "      * unit: ''\n",
       "      * is_normalization: false\n",
       "      * delta: 0.1\n",
       "      * free: true\n",
       "    * sigma:\n",
       "      * value: 1.0\n",
       "      * desc: standard deviation\n",
       "      * min_value: 1.0e-12\n",
       "      * max_value: null\n",
       "      * unit: ''\n",
       "      * is_normalization: false\n",
       "      * delta: 0.1\n",
       "      * free: true"
      ]
     },
     "metadata": {},
     "output_type": "display_data"
    }
   ],
   "source": [
    "func.display()"
   ]
  },
  {
   "cell_type": "markdown",
   "id": "0dc936fc",
   "metadata": {
    "papermill": {
     "duration": 0.001106,
     "end_time": "2024-05-13T22:10:59.834554",
     "exception": false,
     "start_time": "2024-05-13T22:10:59.833448",
     "status": "completed"
    },
    "tags": []
   },
   "source": [
    "## Shape \n",
    "\n",
    "The shape of the function. \n",
    "\n",
    "*If this is not a photon model but a prior or linear function then ignore the units as these docs are auto-generated*"
   ]
  },
  {
   "cell_type": "code",
   "execution_count": 6,
   "id": "0180ca29",
   "metadata": {
    "execution": {
     "iopub.execute_input": "2024-05-13T22:10:59.837294Z",
     "iopub.status.busy": "2024-05-13T22:10:59.837159Z",
     "iopub.status.idle": "2024-05-13T22:10:59.942349Z",
     "shell.execute_reply": "2024-05-13T22:10:59.942015Z"
    },
    "papermill": {
     "duration": 0.108184,
     "end_time": "2024-05-13T22:10:59.943796",
     "exception": false,
     "start_time": "2024-05-13T22:10:59.835612",
     "status": "completed"
    },
    "tags": [
     "nbsphinx-thumbnail"
    ]
   },
   "outputs": [
    {
     "data": {
      "text/plain": [
       "Text(0, 0.5, 'probability')"
      ]
     },
     "execution_count": 6,
     "metadata": {},
     "output_type": "execute_result"
    },
    {
     "data": {
      "image/png": "[encoded data removed]",
      "text/plain": [
       "<Figure size 1040x910 with 1 Axes>"
      ]
     },
     "metadata": {},
     "output_type": "display_data"
    }
   ],
   "source": [
    "fig, ax = plt.subplots()\n",
    "\n",
    "\n",
    "ax.plot(energy_grid, func(energy_grid), color=blue, lw=3)\n",
    "\n",
    "ax.set_xlabel(\"x\")\n",
    "ax.set_ylabel(\"probability\")\n"
   ]
  },
  {
   "cell_type": "markdown",
   "id": "2f2fa495",
   "metadata": {
    "papermill": {
     "duration": 0.001676,
     "end_time": "2024-05-13T22:10:59.947224",
     "exception": false,
     "start_time": "2024-05-13T22:10:59.945548",
     "status": "completed"
    },
    "tags": []
   },
   "source": [
    "## Random Number Generation\n",
    "\n",
    "This is how we can generate random numbers from the prior.\n"
   ]
  },
  {
   "cell_type": "code",
   "execution_count": 7,
   "id": "42197e3d",
   "metadata": {
    "execution": {
     "iopub.execute_input": "2024-05-13T22:10:59.950856Z",
     "iopub.status.busy": "2024-05-13T22:10:59.950688Z",
     "iopub.status.idle": "2024-05-13T22:11:00.086366Z",
     "shell.execute_reply": "2024-05-13T22:11:00.085803Z"
    },
    "papermill": {
     "duration": 0.139261,
     "end_time": "2024-05-13T22:11:00.087921",
     "exception": false,
     "start_time": "2024-05-13T22:10:59.948660",
     "status": "completed"
    },
    "tags": []
   },
   "outputs": [
    {
     "data": {
      "text/plain": [
       "Text(0, 0.5, 'N')"
      ]
     },
     "execution_count": 7,
     "metadata": {},
     "output_type": "execute_result"
    },
    {
     "data": {
      "image/png": "[encoded data removed]",
      "text/plain": [
       "<Figure size 1040x910 with 1 Axes>"
      ]
     },
     "metadata": {},
     "output_type": "display_data"
    }
   ],
   "source": [
    "\n",
    "\n",
    "u = np.random.uniform(0,1, size=5000)\n",
    "\n",
    "draws = [func.from_unit_cube(x) for x in u]\n",
    "\n",
    "\n",
    "fig, ax = plt.subplots()\n",
    "\n",
    "\n",
    "ax.hist(draws, color=green, bins=50)\n",
    "\n",
    "ax.set_xlabel(\"value\")\n",
    "ax.set_ylabel(\"N\")\n",
    "\n"
   ]
  }
 ],
 "metadata": {
  "jupytext": {
   "formats": "ipynb,md"
  },
  "kernelspec": {
   "display_name": "Python 3 (ipykernel)",
   "language": "python",
   "name": "python3"
  },
  "language_info": {
   "codemirror_mode": {
    "name": "ipython",
    "version": 3
   },
   "file_extension": ".py",
   "mimetype": "text/x-python",
   "name": "python",
   "nbconvert_exporter": "python",
   "pygments_lexer": "ipython3",
   "version": "3.9.13"
  },
  "papermill": {
   "default_parameters": {},
   "duration": 2.680937,
   "end_time": "2024-05-13T22:11:00.423590",
   "environment_variables": {},
   "exception": null,
   "input_path": "Gaussian.ipynb",
   "output_path": "/Users/runner/work/astromodels/astromodels/docs/notebooks/Gaussian.ipynb",
   "parameters": {
    "func_name": "Gaussian",
    "positive_prior": false
   },
   "start_time": "2024-05-13T22:10:57.742653",
   "version": "2.6.0"
  }
 },
 "nbformat": 4,
 "nbformat_minor": 5
}
