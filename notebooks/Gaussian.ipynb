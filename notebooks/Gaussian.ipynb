{
 "cells": [
  {
   "cell_type": "markdown",
   "id": "21b62c2a",
   "metadata": {
    "papermill": {
     "duration": 0.003681,
     "end_time": "2024-02-02T21:47:42.933070",
     "exception": false,
     "start_time": "2024-02-02T21:47:42.929389",
     "status": "completed"
    },
    "tags": []
   },
   "source": [
    "# Gaussian"
   ]
  },
  {
   "cell_type": "code",
   "execution_count": 1,
   "id": "0554a877",
   "metadata": {
    "execution": {
     "iopub.execute_input": "2024-02-02T21:47:42.942245Z",
     "iopub.status.busy": "2024-02-02T21:47:42.941711Z",
     "iopub.status.idle": "2024-02-02T21:47:45.686296Z",
     "shell.execute_reply": "2024-02-02T21:47:45.684512Z"
    },
    "nbsphinx": "hidden",
    "papermill": {
     "duration": 2.754395,
     "end_time": "2024-02-02T21:47:45.690788",
     "exception": false,
     "start_time": "2024-02-02T21:47:42.936393",
     "status": "completed"
    },
    "tags": []
   },
   "outputs": [],
   "source": [
    "%%capture\n",
    "\n",
    "import numpy as np\n",
    "\n",
    "import matplotlib.pyplot as plt\n",
    "\n",
    "import warnings\n",
    "warnings.simplefilter(\"ignore\")\n",
    "\n",
    "from astromodels.functions.function import _known_functions\n",
    "\n",
    "\n",
    "from jupyterthemes import jtplot\n",
    "jtplot.style(context=\"talk\", fscale=1, ticks=True, grid=False)\n",
    "%matplotlib inline"
   ]
  },
  {
   "cell_type": "code",
   "execution_count": 2,
   "id": "1b1e14fb",
   "metadata": {
    "execution": {
     "iopub.execute_input": "2024-02-02T21:47:45.699045Z",
     "iopub.status.busy": "2024-02-02T21:47:45.698224Z",
     "iopub.status.idle": "2024-02-02T21:47:45.704731Z",
     "shell.execute_reply": "2024-02-02T21:47:45.703243Z"
    },
    "nbsphinx": "hidden",
    "papermill": {
     "duration": 0.015484,
     "end_time": "2024-02-02T21:47:45.709086",
     "exception": false,
     "start_time": "2024-02-02T21:47:45.693602",
     "status": "completed"
    },
    "tags": [
     "parameters"
    ]
   },
   "outputs": [],
   "source": [
    "func_name = \"TbAbs\"\n",
    "\n",
    "positive_prior = False\n"
   ]
  },
  {
   "cell_type": "code",
   "execution_count": 3,
   "id": "e8112d42",
   "metadata": {
    "execution": {
     "iopub.execute_input": "2024-02-02T21:47:45.715954Z",
     "iopub.status.busy": "2024-02-02T21:47:45.715546Z",
     "iopub.status.idle": "2024-02-02T21:47:45.723734Z",
     "shell.execute_reply": "2024-02-02T21:47:45.722352Z"
    },
    "papermill": {
     "duration": 0.016345,
     "end_time": "2024-02-02T21:47:45.727908",
     "exception": false,
     "start_time": "2024-02-02T21:47:45.711563",
     "status": "completed"
    },
    "tags": [
     "injected-parameters"
    ]
   },
   "outputs": [],
   "source": [
    "# Parameters\n",
    "func_name = \"Gaussian\"\n",
    "positive_prior = False\n"
   ]
  },
  {
   "cell_type": "code",
   "execution_count": 4,
   "id": "0732e17a",
   "metadata": {
    "execution": {
     "iopub.execute_input": "2024-02-02T21:47:45.735191Z",
     "iopub.status.busy": "2024-02-02T21:47:45.734560Z",
     "iopub.status.idle": "2024-02-02T21:47:45.745508Z",
     "shell.execute_reply": "2024-02-02T21:47:45.744088Z"
    },
    "lines_to_next_cell": 0,
    "nbsphinx": "hidden",
    "papermill": {
     "duration": 0.01936,
     "end_time": "2024-02-02T21:47:45.749764",
     "exception": false,
     "start_time": "2024-02-02T21:47:45.730404",
     "status": "completed"
    },
    "tags": []
   },
   "outputs": [],
   "source": [
    "func = _known_functions[func_name]()\n",
    "\n",
    "if not positive_prior:\n",
    "\n",
    "\tenergy_grid = np.linspace(-5,5,1000)\n",
    "\n",
    "else:\n",
    "    \n",
    "    energy_grid = np.linspace(0,1,1000)\n",
    "    \n",
    "    \n",
    "    \n",
    "    \n",
    "blue = \"#4152E3\"\n",
    "red = \"#E3414B\"\n",
    "green = \"#41E39E\""
   ]
  },
  {
   "cell_type": "markdown",
   "id": "873530fe",
   "metadata": {
    "lines_to_next_cell": 0,
    "papermill": {
     "duration": 0.00284,
     "end_time": "2024-02-02T21:47:45.755226",
     "exception": false,
     "start_time": "2024-02-02T21:47:45.752386",
     "status": "completed"
    },
    "tags": []
   },
   "source": [
    "## Description"
   ]
  },
  {
   "cell_type": "code",
   "execution_count": 5,
   "id": "94493cd1",
   "metadata": {
    "execution": {
     "iopub.execute_input": "2024-02-02T21:47:45.762916Z",
     "iopub.status.busy": "2024-02-02T21:47:45.762330Z",
     "iopub.status.idle": "2024-02-02T21:47:45.778201Z",
     "shell.execute_reply": "2024-02-02T21:47:45.776507Z"
    },
    "papermill": {
     "duration": 0.024863,
     "end_time": "2024-02-02T21:47:45.782753",
     "exception": false,
     "start_time": "2024-02-02T21:47:45.757890",
     "status": "completed"
    },
    "tags": []
   },
   "outputs": [
    {
     "data": {
      "text/html": [
       "<ul>\n",
       "\n",
       "<li>description: A Gaussian function</li>\n",
       "\n",
       "<li>formula: $ K \\frac{1}{\\sigma \\sqrt{2 \\pi}}\\exp{\\frac{(x-\\mu)^2}{2~(\\sigma)^2}} $</li>\n",
       "\n",
       "<li>parameters: \n",
       "<ul>\n",
       "\n",
       "<li>F: \n",
       "<ul>\n",
       "\n",
       "<li>value: 1.0</li>\n",
       "\n",
       "<li>desc: Integral between -inf and +inf. Fix this to 1 to obtain a Normal distribution</li>\n",
       "\n",
       "<li>min_value: None</li>\n",
       "\n",
       "<li>max_value: None</li>\n",
       "\n",
       "<li>unit: </li>\n",
       "\n",
       "<li>is_normalization: False</li>\n",
       "\n",
       "<li>delta: 0.1</li>\n",
       "\n",
       "<li>free: True</li>\n",
       "\n",
       "</ul>\n",
       "\n",
       "</li>\n",
       "\n",
       "<li>mu: \n",
       "<ul>\n",
       "\n",
       "<li>value: 0.0</li>\n",
       "\n",
       "<li>desc: Central value</li>\n",
       "\n",
       "<li>min_value: None</li>\n",
       "\n",
       "<li>max_value: None</li>\n",
       "\n",
       "<li>unit: </li>\n",
       "\n",
       "<li>is_normalization: False</li>\n",
       "\n",
       "<li>delta: 0.1</li>\n",
       "\n",
       "<li>free: True</li>\n",
       "\n",
       "</ul>\n",
       "\n",
       "</li>\n",
       "\n",
       "<li>sigma: \n",
       "<ul>\n",
       "\n",
       "<li>value: 1.0</li>\n",
       "\n",
       "<li>desc: standard deviation</li>\n",
       "\n",
       "<li>min_value: 1e-12</li>\n",
       "\n",
       "<li>max_value: None</li>\n",
       "\n",
       "<li>unit: </li>\n",
       "\n",
       "<li>is_normalization: False</li>\n",
       "\n",
       "<li>delta: 0.1</li>\n",
       "\n",
       "<li>free: True</li>\n",
       "\n",
       "</ul>\n",
       "\n",
       "</li>\n",
       "\n",
       "</ul>\n",
       "\n",
       "</li>\n",
       "\n",
       "</ul>\n"
      ],
      "text/plain": [
       "  * description: A Gaussian function\n",
       "  * formula: $ K \\frac{1}{\\sigma \\sqrt{2 \\pi}}\\exp{\\frac{(x-\\mu)^2}{2~(\\sigma)^2}} $\n",
       "  * parameters:\n",
       "    * F:\n",
       "      * value: 1.0\n",
       "      * desc: Integral between -inf and +inf. Fix this to 1 to obtain a Normal distribution\n",
       "      * min_value: null\n",
       "      * max_value: null\n",
       "      * unit: ''\n",
       "      * is_normalization: false\n",
       "      * delta: 0.1\n",
       "      * free: true\n",
       "    * mu:\n",
       "      * value: 0.0\n",
       "      * desc: Central value\n",
       "      * min_value: null\n",
       "      * max_value: null\n",
       "      * unit: ''\n",
       "      * is_normalization: false\n",
       "      * delta: 0.1\n",
       "      * free: true\n",
       "    * sigma:\n",
       "      * value: 1.0\n",
       "      * desc: standard deviation\n",
       "      * min_value: 1.0e-12\n",
       "      * max_value: null\n",
       "      * unit: ''\n",
       "      * is_normalization: false\n",
       "      * delta: 0.1\n",
       "      * free: true"
      ]
     },
     "metadata": {},
     "output_type": "display_data"
    }
   ],
   "source": [
    "func.display()"
   ]
  },
  {
   "cell_type": "markdown",
   "id": "9bc93e17",
   "metadata": {
    "papermill": {
     "duration": 0.003066,
     "end_time": "2024-02-02T21:47:45.788709",
     "exception": false,
     "start_time": "2024-02-02T21:47:45.785643",
     "status": "completed"
    },
    "tags": []
   },
   "source": [
    "## Shape \n",
    "\n",
    "The shape of the function. \n",
    "\n",
    "*If this is not a photon model but a prior or linear function then ignore the units as these docs are auto-generated*"
   ]
  },
  {
   "cell_type": "code",
   "execution_count": 6,
   "id": "4fe9d35c",
   "metadata": {
    "execution": {
     "iopub.execute_input": "2024-02-02T21:47:45.796538Z",
     "iopub.status.busy": "2024-02-02T21:47:45.796099Z",
     "iopub.status.idle": "2024-02-02T21:47:46.048315Z",
     "shell.execute_reply": "2024-02-02T21:47:46.045881Z"
    },
    "papermill": {
     "duration": 0.261208,
     "end_time": "2024-02-02T21:47:46.052687",
     "exception": false,
     "start_time": "2024-02-02T21:47:45.791479",
     "status": "completed"
    },
    "tags": [
     "nbsphinx-thumbnail"
    ]
   },
   "outputs": [
    {
     "data": {
      "text/plain": [
       "Text(0, 0.5, 'probability')"
      ]
     },
     "execution_count": 6,
     "metadata": {},
     "output_type": "execute_result"
    },
    {
     "data": {
      "image/png": "[encoded data removed]",
      "text/plain": [
       "<Figure size 1040x910 with 1 Axes>"
      ]
     },
     "metadata": {},
     "output_type": "display_data"
    }
   ],
   "source": [
    "fig, ax = plt.subplots()\n",
    "\n",
    "\n",
    "ax.plot(energy_grid, func(energy_grid), color=blue, lw=3)\n",
    "\n",
    "ax.set_xlabel(\"x\")\n",
    "ax.set_ylabel(\"probability\")\n"
   ]
  },
  {
   "cell_type": "markdown",
   "id": "b6535157",
   "metadata": {
    "papermill": {
     "duration": 0.003581,
     "end_time": "2024-02-02T21:47:46.059916",
     "exception": false,
     "start_time": "2024-02-02T21:47:46.056335",
     "status": "completed"
    },
    "tags": []
   },
   "source": [
    "## Random Number Generation\n",
    "\n",
    "This is how we can generate random numbers from the prior.\n"
   ]
  },
  {
   "cell_type": "code",
   "execution_count": 7,
   "id": "e5b84b5a",
   "metadata": {
    "execution": {
     "iopub.execute_input": "2024-02-02T21:47:46.069180Z",
     "iopub.status.busy": "2024-02-02T21:47:46.068261Z",
     "iopub.status.idle": "2024-02-02T21:47:46.350569Z",
     "shell.execute_reply": "2024-02-02T21:47:46.348425Z"
    },
    "papermill": {
     "duration": 0.291558,
     "end_time": "2024-02-02T21:47:46.354714",
     "exception": false,
     "start_time": "2024-02-02T21:47:46.063156",
     "status": "completed"
    },
    "tags": []
   },
   "outputs": [
    {
     "data": {
      "text/plain": [
       "Text(0, 0.5, 'N')"
      ]
     },
     "execution_count": 7,
     "metadata": {},
     "output_type": "execute_result"
    },
    {
     "data": {
      "image/png": "[encoded data removed]",
      "text/plain": [
       "<Figure size 1040x910 with 1 Axes>"
      ]
     },
     "metadata": {},
     "output_type": "display_data"
    }
   ],
   "source": [
    "\n",
    "\n",
    "u = np.random.uniform(0,1, size=5000)\n",
    "\n",
    "draws = [func.from_unit_cube(x) for x in u]\n",
    "\n",
    "\n",
    "fig, ax = plt.subplots()\n",
    "\n",
    "\n",
    "ax.hist(draws, color=green, bins=50)\n",
    "\n",
    "ax.set_xlabel(\"value\")\n",
    "ax.set_ylabel(\"N\")\n",
    "\n"
   ]
  }
 ],
 "metadata": {
  "jupytext": {
   "formats": "ipynb,md"
  },
  "kernelspec": {
   "display_name": "Python 3 (ipykernel)",
   "language": "python",
   "name": "python3"
  },
  "language_info": {
   "codemirror_mode": {
    "name": "ipython",
    "version": 3
   },
   "file_extension": ".py",
   "mimetype": "text/x-python",
   "name": "python",
   "nbconvert_exporter": "python",
   "pygments_lexer": "ipython3",
   "version": "3.9.18"
  },
  "papermill": {
   "default_parameters": {},
   "duration": 7.344329,
   "end_time": "2024-02-02T21:47:49.209861",
   "environment_variables": {},
   "exception": null,
   "input_path": "Gaussian.ipynb",
   "output_path": "/Users/runner/work/astromodels/astromodels/docs/notebooks/Gaussian.ipynb",
   "parameters": {
    "func_name": "Gaussian",
    "positive_prior": false
   },
   "start_time": "2024-02-02T21:47:41.865532",
   "version": "2.5.0"
  }
 },
 "nbformat": 4,
 "nbformat_minor": 5
}
