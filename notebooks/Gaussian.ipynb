{
 "cells": [
  {
   "cell_type": "markdown",
   "id": "057c6263",
   "metadata": {
    "papermill": {
     "duration": 0.004159,
     "end_time": "2023-11-01T23:33:54.649701",
     "exception": false,
     "start_time": "2023-11-01T23:33:54.645542",
     "status": "completed"
    },
    "tags": []
   },
   "source": [
    "# Gaussian"
   ]
  },
  {
   "cell_type": "code",
   "execution_count": 1,
   "id": "73150cd9",
   "metadata": {
    "execution": {
     "iopub.execute_input": "2023-11-01T23:33:54.659393Z",
     "iopub.status.busy": "2023-11-01T23:33:54.658366Z",
     "iopub.status.idle": "2023-11-01T23:33:58.220385Z",
     "shell.execute_reply": "2023-11-01T23:33:58.219007Z"
    },
    "nbsphinx": "hidden",
    "papermill": {
     "duration": 3.570644,
     "end_time": "2023-11-01T23:33:58.223830",
     "exception": false,
     "start_time": "2023-11-01T23:33:54.653186",
     "status": "completed"
    },
    "tags": []
   },
   "outputs": [],
   "source": [
    "%%capture\n",
    "\n",
    "import numpy as np\n",
    "\n",
    "import matplotlib.pyplot as plt\n",
    "\n",
    "import warnings\n",
    "warnings.simplefilter(\"ignore\")\n",
    "\n",
    "from astromodels.functions.function import _known_functions\n",
    "\n",
    "\n",
    "from jupyterthemes import jtplot\n",
    "jtplot.style(context=\"talk\", fscale=1, ticks=True, grid=False)\n",
    "%matplotlib inline"
   ]
  },
  {
   "cell_type": "code",
   "execution_count": 2,
   "id": "af10b7a2",
   "metadata": {
    "execution": {
     "iopub.execute_input": "2023-11-01T23:33:58.231922Z",
     "iopub.status.busy": "2023-11-01T23:33:58.231489Z",
     "iopub.status.idle": "2023-11-01T23:33:58.236582Z",
     "shell.execute_reply": "2023-11-01T23:33:58.235598Z"
    },
    "nbsphinx": "hidden",
    "papermill": {
     "duration": 0.012493,
     "end_time": "2023-11-01T23:33:58.239635",
     "exception": false,
     "start_time": "2023-11-01T23:33:58.227142",
     "status": "completed"
    },
    "tags": [
     "parameters"
    ]
   },
   "outputs": [],
   "source": [
    "func_name = \"TbAbs\"\n",
    "\n",
    "positive_prior = False\n"
   ]
  },
  {
   "cell_type": "code",
   "execution_count": 3,
   "id": "f0cc8520",
   "metadata": {
    "execution": {
     "iopub.execute_input": "2023-11-01T23:33:58.246838Z",
     "iopub.status.busy": "2023-11-01T23:33:58.246468Z",
     "iopub.status.idle": "2023-11-01T23:33:58.251060Z",
     "shell.execute_reply": "2023-11-01T23:33:58.250067Z"
    },
    "papermill": {
     "duration": 0.011583,
     "end_time": "2023-11-01T23:33:58.254068",
     "exception": false,
     "start_time": "2023-11-01T23:33:58.242485",
     "status": "completed"
    },
    "tags": [
     "injected-parameters"
    ]
   },
   "outputs": [],
   "source": [
    "# Parameters\n",
    "func_name = \"Gaussian\"\n",
    "positive_prior = False\n"
   ]
  },
  {
   "cell_type": "code",
   "execution_count": 4,
   "id": "688ae62b",
   "metadata": {
    "execution": {
     "iopub.execute_input": "2023-11-01T23:33:58.262975Z",
     "iopub.status.busy": "2023-11-01T23:33:58.262551Z",
     "iopub.status.idle": "2023-11-01T23:33:58.269817Z",
     "shell.execute_reply": "2023-11-01T23:33:58.268737Z"
    },
    "lines_to_next_cell": 0,
    "nbsphinx": "hidden",
    "papermill": {
     "duration": 0.015976,
     "end_time": "2023-11-01T23:33:58.272930",
     "exception": false,
     "start_time": "2023-11-01T23:33:58.256954",
     "status": "completed"
    },
    "tags": []
   },
   "outputs": [],
   "source": [
    "func = _known_functions[func_name]()\n",
    "\n",
    "if not positive_prior:\n",
    "\n",
    "\tenergy_grid = np.linspace(-5,5,1000)\n",
    "\n",
    "else:\n",
    "    \n",
    "    energy_grid = np.linspace(0,1,1000)\n",
    "    \n",
    "    \n",
    "    \n",
    "    \n",
    "blue = \"#4152E3\"\n",
    "red = \"#E3414B\"\n",
    "green = \"#41E39E\""
   ]
  },
  {
   "cell_type": "markdown",
   "id": "d1ce7bac",
   "metadata": {
    "lines_to_next_cell": 0,
    "papermill": {
     "duration": 0.002892,
     "end_time": "2023-11-01T23:33:58.279065",
     "exception": false,
     "start_time": "2023-11-01T23:33:58.276173",
     "status": "completed"
    },
    "tags": []
   },
   "source": [
    "## Description"
   ]
  },
  {
   "cell_type": "code",
   "execution_count": 5,
   "id": "c24000ed",
   "metadata": {
    "execution": {
     "iopub.execute_input": "2023-11-01T23:33:58.286778Z",
     "iopub.status.busy": "2023-11-01T23:33:58.286079Z",
     "iopub.status.idle": "2023-11-01T23:33:58.296988Z",
     "shell.execute_reply": "2023-11-01T23:33:58.295589Z"
    },
    "papermill": {
     "duration": 0.017976,
     "end_time": "2023-11-01T23:33:58.299957",
     "exception": false,
     "start_time": "2023-11-01T23:33:58.281981",
     "status": "completed"
    },
    "tags": []
   },
   "outputs": [
    {
     "data": {
      "text/html": [
       "<ul>\n",
       "\n",
       "<li>description: A Gaussian function</li>\n",
       "\n",
       "<li>formula: $ K \\frac{1}{\\sigma \\sqrt{2 \\pi}}\\exp{\\frac{(x-\\mu)^2}{2~(\\sigma)^2}} $</li>\n",
       "\n",
       "<li>parameters: \n",
       "<ul>\n",
       "\n",
       "<li>F: \n",
       "<ul>\n",
       "\n",
       "<li>value: 1.0</li>\n",
       "\n",
       "<li>desc: Integral between -inf and +inf. Fix this to 1 to obtain a Normal distribution</li>\n",
       "\n",
       "<li>min_value: None</li>\n",
       "\n",
       "<li>max_value: None</li>\n",
       "\n",
       "<li>unit: </li>\n",
       "\n",
       "<li>is_normalization: False</li>\n",
       "\n",
       "<li>delta: 0.1</li>\n",
       "\n",
       "<li>free: True</li>\n",
       "\n",
       "</ul>\n",
       "\n",
       "</li>\n",
       "\n",
       "<li>mu: \n",
       "<ul>\n",
       "\n",
       "<li>value: 0.0</li>\n",
       "\n",
       "<li>desc: Central value</li>\n",
       "\n",
       "<li>min_value: None</li>\n",
       "\n",
       "<li>max_value: None</li>\n",
       "\n",
       "<li>unit: </li>\n",
       "\n",
       "<li>is_normalization: False</li>\n",
       "\n",
       "<li>delta: 0.1</li>\n",
       "\n",
       "<li>free: True</li>\n",
       "\n",
       "</ul>\n",
       "\n",
       "</li>\n",
       "\n",
       "<li>sigma: \n",
       "<ul>\n",
       "\n",
       "<li>value: 1.0</li>\n",
       "\n",
       "<li>desc: standard deviation</li>\n",
       "\n",
       "<li>min_value: 1e-12</li>\n",
       "\n",
       "<li>max_value: None</li>\n",
       "\n",
       "<li>unit: </li>\n",
       "\n",
       "<li>is_normalization: False</li>\n",
       "\n",
       "<li>delta: 0.1</li>\n",
       "\n",
       "<li>free: True</li>\n",
       "\n",
       "</ul>\n",
       "\n",
       "</li>\n",
       "\n",
       "</ul>\n",
       "\n",
       "</li>\n",
       "\n",
       "</ul>\n"
      ],
      "text/plain": [
       "  * description: A Gaussian function\n",
       "  * formula: $ K \\frac{1}{\\sigma \\sqrt{2 \\pi}}\\exp{\\frac{(x-\\mu)^2}{2~(\\sigma)^2}} $\n",
       "  * parameters:\n",
       "    * F:\n",
       "      * value: 1.0\n",
       "      * desc: Integral between -inf and +inf. Fix this to 1 to obtain a Normal distribution\n",
       "      * min_value: null\n",
       "      * max_value: null\n",
       "      * unit: ''\n",
       "      * is_normalization: false\n",
       "      * delta: 0.1\n",
       "      * free: true\n",
       "    * mu:\n",
       "      * value: 0.0\n",
       "      * desc: Central value\n",
       "      * min_value: null\n",
       "      * max_value: null\n",
       "      * unit: ''\n",
       "      * is_normalization: false\n",
       "      * delta: 0.1\n",
       "      * free: true\n",
       "    * sigma:\n",
       "      * value: 1.0\n",
       "      * desc: standard deviation\n",
       "      * min_value: 1.0e-12\n",
       "      * max_value: null\n",
       "      * unit: ''\n",
       "      * is_normalization: false\n",
       "      * delta: 0.1\n",
       "      * free: true"
      ]
     },
     "metadata": {},
     "output_type": "display_data"
    }
   ],
   "source": [
    "func.display()"
   ]
  },
  {
   "cell_type": "markdown",
   "id": "06b7c192",
   "metadata": {
    "papermill": {
     "duration": 0.003213,
     "end_time": "2023-11-01T23:33:58.306579",
     "exception": false,
     "start_time": "2023-11-01T23:33:58.303366",
     "status": "completed"
    },
    "tags": []
   },
   "source": [
    "## Shape \n",
    "\n",
    "The shape of the function. \n",
    "\n",
    "*If this is not a photon model but a prior or linear function then ignore the units as these docs are auto-generated*"
   ]
  },
  {
   "cell_type": "code",
   "execution_count": 6,
   "id": "a14344d2",
   "metadata": {
    "execution": {
     "iopub.execute_input": "2023-11-01T23:33:58.314638Z",
     "iopub.status.busy": "2023-11-01T23:33:58.314235Z",
     "iopub.status.idle": "2023-11-01T23:33:58.632376Z",
     "shell.execute_reply": "2023-11-01T23:33:58.631290Z"
    },
    "papermill": {
     "duration": 0.325958,
     "end_time": "2023-11-01T23:33:58.635715",
     "exception": false,
     "start_time": "2023-11-01T23:33:58.309757",
     "status": "completed"
    },
    "tags": [
     "nbsphinx-thumbnail"
    ]
   },
   "outputs": [
    {
     "data": {
      "text/plain": [
       "Text(0, 0.5, 'probability')"
      ]
     },
     "execution_count": 6,
     "metadata": {},
     "output_type": "execute_result"
    },
    {
     "data": {
      "image/png": "[encoded data removed]",
      "text/plain": [
       "<Figure size 1040x910 with 1 Axes>"
      ]
     },
     "metadata": {},
     "output_type": "display_data"
    }
   ],
   "source": [
    "fig, ax = plt.subplots()\n",
    "\n",
    "\n",
    "ax.plot(energy_grid, func(energy_grid), color=blue, lw=3)\n",
    "\n",
    "ax.set_xlabel(\"x\")\n",
    "ax.set_ylabel(\"probability\")\n"
   ]
  },
  {
   "cell_type": "markdown",
   "id": "6f92ee30",
   "metadata": {
    "papermill": {
     "duration": 0.00386,
     "end_time": "2023-11-01T23:33:58.643852",
     "exception": false,
     "start_time": "2023-11-01T23:33:58.639992",
     "status": "completed"
    },
    "tags": []
   },
   "source": [
    "## Random Number Generation\n",
    "\n",
    "This is how we can generate random numbers from the prior.\n"
   ]
  },
  {
   "cell_type": "code",
   "execution_count": 7,
   "id": "189f4bbd",
   "metadata": {
    "execution": {
     "iopub.execute_input": "2023-11-01T23:33:58.653209Z",
     "iopub.status.busy": "2023-11-01T23:33:58.652793Z",
     "iopub.status.idle": "2023-11-01T23:33:59.091660Z",
     "shell.execute_reply": "2023-11-01T23:33:59.090580Z"
    },
    "papermill": {
     "duration": 0.447337,
     "end_time": "2023-11-01T23:33:59.094931",
     "exception": false,
     "start_time": "2023-11-01T23:33:58.647594",
     "status": "completed"
    },
    "tags": []
   },
   "outputs": [
    {
     "data": {
      "text/plain": [
       "Text(0, 0.5, 'N')"
      ]
     },
     "execution_count": 7,
     "metadata": {},
     "output_type": "execute_result"
    },
    {
     "data": {
      "image/png": "[encoded data removed]",
      "text/plain": [
       "<Figure size 1040x910 with 1 Axes>"
      ]
     },
     "metadata": {},
     "output_type": "display_data"
    }
   ],
   "source": [
    "\n",
    "\n",
    "u = np.random.uniform(0,1, size=5000)\n",
    "\n",
    "draws = [func.from_unit_cube(x) for x in u]\n",
    "\n",
    "\n",
    "fig, ax = plt.subplots()\n",
    "\n",
    "\n",
    "ax.hist(draws, color=green, bins=50)\n",
    "\n",
    "ax.set_xlabel(\"value\")\n",
    "ax.set_ylabel(\"N\")\n",
    "\n"
   ]
  }
 ],
 "metadata": {
  "jupytext": {
   "formats": "ipynb,md"
  },
  "kernelspec": {
   "display_name": "Python 3 (ipykernel)",
   "language": "python",
   "name": "python3"
  },
  "language_info": {
   "codemirror_mode": {
    "name": "ipython",
    "version": 3
   },
   "file_extension": ".py",
   "mimetype": "text/x-python",
   "name": "python",
   "nbconvert_exporter": "python",
   "pygments_lexer": "ipython3",
   "version": "3.9.18"
  },
  "papermill": {
   "default_parameters": {},
   "duration": 6.338342,
   "end_time": "2023-11-01T23:33:59.823856",
   "environment_variables": {},
   "exception": null,
   "input_path": "Gaussian.ipynb",
   "output_path": "/Users/runner/work/astromodels/astromodels/docs/notebooks/Gaussian.ipynb",
   "parameters": {
    "func_name": "Gaussian",
    "positive_prior": false
   },
   "start_time": "2023-11-01T23:33:53.485514",
   "version": "2.5.0"
  }
 },
 "nbformat": 4,
 "nbformat_minor": 5
}
