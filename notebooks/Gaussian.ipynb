{
 "cells": [
  {
   "cell_type": "markdown",
   "id": "1232e0b5",
   "metadata": {
    "papermill": {
     "duration": 0.004581,
     "end_time": "2023-11-01T20:52:52.584790",
     "exception": false,
     "start_time": "2023-11-01T20:52:52.580209",
     "status": "completed"
    },
    "tags": []
   },
   "source": [
    "# Gaussian"
   ]
  },
  {
   "cell_type": "code",
   "execution_count": 1,
   "id": "57b26f4e",
   "metadata": {
    "execution": {
     "iopub.execute_input": "2023-11-01T20:52:52.593074Z",
     "iopub.status.busy": "2023-11-01T20:52:52.591813Z",
     "iopub.status.idle": "2023-11-01T20:52:55.913161Z",
     "shell.execute_reply": "2023-11-01T20:52:55.910850Z"
    },
    "nbsphinx": "hidden",
    "papermill": {
     "duration": 3.32981,
     "end_time": "2023-11-01T20:52:55.917556",
     "exception": false,
     "start_time": "2023-11-01T20:52:52.587746",
     "status": "completed"
    },
    "tags": []
   },
   "outputs": [],
   "source": [
    "%%capture\n",
    "\n",
    "import numpy as np\n",
    "\n",
    "import matplotlib.pyplot as plt\n",
    "\n",
    "import warnings\n",
    "warnings.simplefilter(\"ignore\")\n",
    "\n",
    "from astromodels.functions.function import _known_functions\n",
    "\n",
    "\n",
    "from jupyterthemes import jtplot\n",
    "jtplot.style(context=\"talk\", fscale=1, ticks=True, grid=False)\n",
    "%matplotlib inline"
   ]
  },
  {
   "cell_type": "code",
   "execution_count": 2,
   "id": "a6c4d613",
   "metadata": {
    "execution": {
     "iopub.execute_input": "2023-11-01T20:52:55.924974Z",
     "iopub.status.busy": "2023-11-01T20:52:55.924528Z",
     "iopub.status.idle": "2023-11-01T20:52:55.932912Z",
     "shell.execute_reply": "2023-11-01T20:52:55.931677Z"
    },
    "nbsphinx": "hidden",
    "papermill": {
     "duration": 0.016957,
     "end_time": "2023-11-01T20:52:55.937251",
     "exception": false,
     "start_time": "2023-11-01T20:52:55.920294",
     "status": "completed"
    },
    "tags": [
     "parameters"
    ]
   },
   "outputs": [],
   "source": [
    "func_name = \"TbAbs\"\n",
    "\n",
    "positive_prior = False\n"
   ]
  },
  {
   "cell_type": "code",
   "execution_count": 3,
   "id": "540bacff",
   "metadata": {
    "execution": {
     "iopub.execute_input": "2023-11-01T20:52:55.943665Z",
     "iopub.status.busy": "2023-11-01T20:52:55.943284Z",
     "iopub.status.idle": "2023-11-01T20:52:55.948536Z",
     "shell.execute_reply": "2023-11-01T20:52:55.947390Z"
    },
    "papermill": {
     "duration": 0.012757,
     "end_time": "2023-11-01T20:52:55.952368",
     "exception": false,
     "start_time": "2023-11-01T20:52:55.939611",
     "status": "completed"
    },
    "tags": [
     "injected-parameters"
    ]
   },
   "outputs": [],
   "source": [
    "# Parameters\n",
    "func_name = \"Gaussian\"\n",
    "positive_prior = False\n"
   ]
  },
  {
   "cell_type": "code",
   "execution_count": 4,
   "id": "326b4705",
   "metadata": {
    "execution": {
     "iopub.execute_input": "2023-11-01T20:52:55.958696Z",
     "iopub.status.busy": "2023-11-01T20:52:55.958382Z",
     "iopub.status.idle": "2023-11-01T20:52:55.966354Z",
     "shell.execute_reply": "2023-11-01T20:52:55.965187Z"
    },
    "lines_to_next_cell": 0,
    "nbsphinx": "hidden",
    "papermill": {
     "duration": 0.015349,
     "end_time": "2023-11-01T20:52:55.970123",
     "exception": false,
     "start_time": "2023-11-01T20:52:55.954774",
     "status": "completed"
    },
    "tags": []
   },
   "outputs": [],
   "source": [
    "func = _known_functions[func_name]()\n",
    "\n",
    "if not positive_prior:\n",
    "\n",
    "\tenergy_grid = np.linspace(-5,5,1000)\n",
    "\n",
    "else:\n",
    "    \n",
    "    energy_grid = np.linspace(0,1,1000)\n",
    "    \n",
    "    \n",
    "    \n",
    "    \n",
    "blue = \"#4152E3\"\n",
    "red = \"#E3414B\"\n",
    "green = \"#41E39E\""
   ]
  },
  {
   "cell_type": "markdown",
   "id": "7f81bcbc",
   "metadata": {
    "lines_to_next_cell": 0,
    "papermill": {
     "duration": 0.002501,
     "end_time": "2023-11-01T20:52:55.975055",
     "exception": false,
     "start_time": "2023-11-01T20:52:55.972554",
     "status": "completed"
    },
    "tags": []
   },
   "source": [
    "## Description"
   ]
  },
  {
   "cell_type": "code",
   "execution_count": 5,
   "id": "f045d52f",
   "metadata": {
    "execution": {
     "iopub.execute_input": "2023-11-01T20:52:55.982237Z",
     "iopub.status.busy": "2023-11-01T20:52:55.981080Z",
     "iopub.status.idle": "2023-11-01T20:52:55.997715Z",
     "shell.execute_reply": "2023-11-01T20:52:55.995699Z"
    },
    "papermill": {
     "duration": 0.024457,
     "end_time": "2023-11-01T20:52:56.001857",
     "exception": false,
     "start_time": "2023-11-01T20:52:55.977400",
     "status": "completed"
    },
    "tags": []
   },
   "outputs": [
    {
     "data": {
      "text/html": [
       "<ul>\n",
       "\n",
       "<li>description: A Gaussian function</li>\n",
       "\n",
       "<li>formula: $ K \\frac{1}{\\sigma \\sqrt{2 \\pi}}\\exp{\\frac{(x-\\mu)^2}{2~(\\sigma)^2}} $</li>\n",
       "\n",
       "<li>parameters: \n",
       "<ul>\n",
       "\n",
       "<li>F: \n",
       "<ul>\n",
       "\n",
       "<li>value: 1.0</li>\n",
       "\n",
       "<li>desc: Integral between -inf and +inf. Fix this to 1 to obtain a Normal distribution</li>\n",
       "\n",
       "<li>min_value: None</li>\n",
       "\n",
       "<li>max_value: None</li>\n",
       "\n",
       "<li>unit: </li>\n",
       "\n",
       "<li>is_normalization: False</li>\n",
       "\n",
       "<li>delta: 0.1</li>\n",
       "\n",
       "<li>free: True</li>\n",
       "\n",
       "</ul>\n",
       "\n",
       "</li>\n",
       "\n",
       "<li>mu: \n",
       "<ul>\n",
       "\n",
       "<li>value: 0.0</li>\n",
       "\n",
       "<li>desc: Central value</li>\n",
       "\n",
       "<li>min_value: None</li>\n",
       "\n",
       "<li>max_value: None</li>\n",
       "\n",
       "<li>unit: </li>\n",
       "\n",
       "<li>is_normalization: False</li>\n",
       "\n",
       "<li>delta: 0.1</li>\n",
       "\n",
       "<li>free: True</li>\n",
       "\n",
       "</ul>\n",
       "\n",
       "</li>\n",
       "\n",
       "<li>sigma: \n",
       "<ul>\n",
       "\n",
       "<li>value: 1.0</li>\n",
       "\n",
       "<li>desc: standard deviation</li>\n",
       "\n",
       "<li>min_value: 1e-12</li>\n",
       "\n",
       "<li>max_value: None</li>\n",
       "\n",
       "<li>unit: </li>\n",
       "\n",
       "<li>is_normalization: False</li>\n",
       "\n",
       "<li>delta: 0.1</li>\n",
       "\n",
       "<li>free: True</li>\n",
       "\n",
       "</ul>\n",
       "\n",
       "</li>\n",
       "\n",
       "</ul>\n",
       "\n",
       "</li>\n",
       "\n",
       "</ul>\n"
      ],
      "text/plain": [
       "  * description: A Gaussian function\n",
       "  * formula: $ K \\frac{1}{\\sigma \\sqrt{2 \\pi}}\\exp{\\frac{(x-\\mu)^2}{2~(\\sigma)^2}} $\n",
       "  * parameters:\n",
       "    * F:\n",
       "      * value: 1.0\n",
       "      * desc: Integral between -inf and +inf. Fix this to 1 to obtain a Normal distribution\n",
       "      * min_value: null\n",
       "      * max_value: null\n",
       "      * unit: ''\n",
       "      * is_normalization: false\n",
       "      * delta: 0.1\n",
       "      * free: true\n",
       "    * mu:\n",
       "      * value: 0.0\n",
       "      * desc: Central value\n",
       "      * min_value: null\n",
       "      * max_value: null\n",
       "      * unit: ''\n",
       "      * is_normalization: false\n",
       "      * delta: 0.1\n",
       "      * free: true\n",
       "    * sigma:\n",
       "      * value: 1.0\n",
       "      * desc: standard deviation\n",
       "      * min_value: 1.0e-12\n",
       "      * max_value: null\n",
       "      * unit: ''\n",
       "      * is_normalization: false\n",
       "      * delta: 0.1\n",
       "      * free: true"
      ]
     },
     "metadata": {},
     "output_type": "display_data"
    }
   ],
   "source": [
    "func.display()"
   ]
  },
  {
   "cell_type": "markdown",
   "id": "c12b75e5",
   "metadata": {
    "papermill": {
     "duration": 0.002797,
     "end_time": "2023-11-01T20:52:56.007393",
     "exception": false,
     "start_time": "2023-11-01T20:52:56.004596",
     "status": "completed"
    },
    "tags": []
   },
   "source": [
    "## Shape \n",
    "\n",
    "The shape of the function. \n",
    "\n",
    "*If this is not a photon model but a prior or linear function then ignore the units as these docs are auto-generated*"
   ]
  },
  {
   "cell_type": "code",
   "execution_count": 6,
   "id": "bb7ba282",
   "metadata": {
    "execution": {
     "iopub.execute_input": "2023-11-01T20:52:56.014320Z",
     "iopub.status.busy": "2023-11-01T20:52:56.013924Z",
     "iopub.status.idle": "2023-11-01T20:52:56.253070Z",
     "shell.execute_reply": "2023-11-01T20:52:56.251900Z"
    },
    "papermill": {
     "duration": 0.247251,
     "end_time": "2023-11-01T20:52:56.257192",
     "exception": false,
     "start_time": "2023-11-01T20:52:56.009941",
     "status": "completed"
    },
    "tags": [
     "nbsphinx-thumbnail"
    ]
   },
   "outputs": [
    {
     "data": {
      "text/plain": [
       "Text(0, 0.5, 'probability')"
      ]
     },
     "execution_count": 6,
     "metadata": {},
     "output_type": "execute_result"
    },
    {
     "data": {
      "image/png": "[encoded data removed]",
      "text/plain": [
       "<Figure size 1040x910 with 1 Axes>"
      ]
     },
     "metadata": {},
     "output_type": "display_data"
    }
   ],
   "source": [
    "fig, ax = plt.subplots()\n",
    "\n",
    "\n",
    "ax.plot(energy_grid, func(energy_grid), color=blue, lw=3)\n",
    "\n",
    "ax.set_xlabel(\"x\")\n",
    "ax.set_ylabel(\"probability\")\n"
   ]
  },
  {
   "cell_type": "markdown",
   "id": "2ef7ad97",
   "metadata": {
    "papermill": {
     "duration": 0.003698,
     "end_time": "2023-11-01T20:52:56.265193",
     "exception": false,
     "start_time": "2023-11-01T20:52:56.261495",
     "status": "completed"
    },
    "tags": []
   },
   "source": [
    "## Random Number Generation\n",
    "\n",
    "This is how we can generate random numbers from the prior.\n"
   ]
  },
  {
   "cell_type": "code",
   "execution_count": 7,
   "id": "7812636b",
   "metadata": {
    "execution": {
     "iopub.execute_input": "2023-11-01T20:52:56.273258Z",
     "iopub.status.busy": "2023-11-01T20:52:56.272829Z",
     "iopub.status.idle": "2023-11-01T20:52:56.552820Z",
     "shell.execute_reply": "2023-11-01T20:52:56.550944Z"
    },
    "papermill": {
     "duration": 0.290657,
     "end_time": "2023-11-01T20:52:56.558859",
     "exception": false,
     "start_time": "2023-11-01T20:52:56.268202",
     "status": "completed"
    },
    "tags": []
   },
   "outputs": [
    {
     "data": {
      "text/plain": [
       "Text(0, 0.5, 'N')"
      ]
     },
     "execution_count": 7,
     "metadata": {},
     "output_type": "execute_result"
    },
    {
     "data": {
      "image/png": "[encoded data removed]",
      "text/plain": [
       "<Figure size 1040x910 with 1 Axes>"
      ]
     },
     "metadata": {},
     "output_type": "display_data"
    }
   ],
   "source": [
    "\n",
    "\n",
    "u = np.random.uniform(0,1, size=5000)\n",
    "\n",
    "draws = [func.from_unit_cube(x) for x in u]\n",
    "\n",
    "\n",
    "fig, ax = plt.subplots()\n",
    "\n",
    "\n",
    "ax.hist(draws, color=green, bins=50)\n",
    "\n",
    "ax.set_xlabel(\"value\")\n",
    "ax.set_ylabel(\"N\")\n",
    "\n"
   ]
  }
 ],
 "metadata": {
  "jupytext": {
   "formats": "ipynb,md"
  },
  "kernelspec": {
   "display_name": "Python 3 (ipykernel)",
   "language": "python",
   "name": "python3"
  },
  "language_info": {
   "codemirror_mode": {
    "name": "ipython",
    "version": 3
   },
   "file_extension": ".py",
   "mimetype": "text/x-python",
   "name": "python",
   "nbconvert_exporter": "python",
   "pygments_lexer": "ipython3",
   "version": "3.9.18"
  },
  "papermill": {
   "default_parameters": {},
   "duration": 6.040647,
   "end_time": "2023-11-01T20:52:57.309006",
   "environment_variables": {},
   "exception": null,
   "input_path": "Gaussian.ipynb",
   "output_path": "/Users/runner/work/astromodels/astromodels/docs/notebooks/Gaussian.ipynb",
   "parameters": {
    "func_name": "Gaussian",
    "positive_prior": false
   },
   "start_time": "2023-11-01T20:52:51.268359",
   "version": "2.4.0"
  }
 },
 "nbformat": 4,
 "nbformat_minor": 5
}
