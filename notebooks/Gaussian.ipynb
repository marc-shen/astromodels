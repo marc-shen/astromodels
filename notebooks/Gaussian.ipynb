{
 "cells": [
  {
   "cell_type": "markdown",
   "id": "8863bb2a",
   "metadata": {
    "papermill": {
     "duration": 0.009354,
     "end_time": "2024-08-13T19:47:48.968579",
     "exception": false,
     "start_time": "2024-08-13T19:47:48.959225",
     "status": "completed"
    },
    "tags": []
   },
   "source": [
    "# Gaussian"
   ]
  },
  {
   "cell_type": "code",
   "execution_count": 1,
   "id": "3504be7f",
   "metadata": {
    "execution": {
     "iopub.execute_input": "2024-08-13T19:47:48.980954Z",
     "iopub.status.busy": "2024-08-13T19:47:48.980326Z",
     "iopub.status.idle": "2024-08-13T19:47:50.393086Z",
     "shell.execute_reply": "2024-08-13T19:47:50.392600Z"
    },
    "nbsphinx": "hidden",
    "papermill": {
     "duration": 1.420757,
     "end_time": "2024-08-13T19:47:50.394556",
     "exception": false,
     "start_time": "2024-08-13T19:47:48.973799",
     "status": "completed"
    },
    "tags": []
   },
   "outputs": [],
   "source": [
    "%%capture\n",
    "\n",
    "import numpy as np\n",
    "\n",
    "import matplotlib.pyplot as plt\n",
    "\n",
    "import warnings\n",
    "warnings.simplefilter(\"ignore\")\n",
    "\n",
    "from astromodels.functions.function import _known_functions\n",
    "\n",
    "\n",
    "from jupyterthemes import jtplot\n",
    "jtplot.style(context=\"talk\", fscale=1, ticks=True, grid=False)\n",
    "%matplotlib inline"
   ]
  },
  {
   "cell_type": "code",
   "execution_count": 2,
   "id": "f5959ad5",
   "metadata": {
    "execution": {
     "iopub.execute_input": "2024-08-13T19:47:50.397638Z",
     "iopub.status.busy": "2024-08-13T19:47:50.397317Z",
     "iopub.status.idle": "2024-08-13T19:47:50.399505Z",
     "shell.execute_reply": "2024-08-13T19:47:50.399136Z"
    },
    "nbsphinx": "hidden",
    "papermill": {
     "duration": 0.005001,
     "end_time": "2024-08-13T19:47:50.400743",
     "exception": false,
     "start_time": "2024-08-13T19:47:50.395742",
     "status": "completed"
    },
    "tags": [
     "parameters"
    ]
   },
   "outputs": [],
   "source": [
    "func_name = \"TbAbs\"\n",
    "\n",
    "positive_prior = False\n"
   ]
  },
  {
   "cell_type": "code",
   "execution_count": 3,
   "id": "951bf037",
   "metadata": {
    "execution": {
     "iopub.execute_input": "2024-08-13T19:47:50.403251Z",
     "iopub.status.busy": "2024-08-13T19:47:50.403114Z",
     "iopub.status.idle": "2024-08-13T19:47:50.409576Z",
     "shell.execute_reply": "2024-08-13T19:47:50.409176Z"
    },
    "papermill": {
     "duration": 0.009135,
     "end_time": "2024-08-13T19:47:50.410847",
     "exception": false,
     "start_time": "2024-08-13T19:47:50.401712",
     "status": "completed"
    },
    "tags": [
     "injected-parameters"
    ]
   },
   "outputs": [],
   "source": [
    "# Parameters\n",
    "func_name = \"Gaussian\"\n",
    "positive_prior = False\n"
   ]
  },
  {
   "cell_type": "code",
   "execution_count": 4,
   "id": "ff9b9a74",
   "metadata": {
    "execution": {
     "iopub.execute_input": "2024-08-13T19:47:50.413468Z",
     "iopub.status.busy": "2024-08-13T19:47:50.413327Z",
     "iopub.status.idle": "2024-08-13T19:47:50.422289Z",
     "shell.execute_reply": "2024-08-13T19:47:50.421928Z"
    },
    "lines_to_next_cell": 0,
    "nbsphinx": "hidden",
    "papermill": {
     "duration": 0.011688,
     "end_time": "2024-08-13T19:47:50.423552",
     "exception": false,
     "start_time": "2024-08-13T19:47:50.411864",
     "status": "completed"
    },
    "tags": []
   },
   "outputs": [],
   "source": [
    "func = _known_functions[func_name]()\n",
    "\n",
    "if not positive_prior:\n",
    "\n",
    "\tenergy_grid = np.linspace(-5,5,1000)\n",
    "\n",
    "else:\n",
    "    \n",
    "    energy_grid = np.linspace(0,1,1000)\n",
    "    \n",
    "    \n",
    "    \n",
    "    \n",
    "blue = \"#4152E3\"\n",
    "red = \"#E3414B\"\n",
    "green = \"#41E39E\""
   ]
  },
  {
   "cell_type": "markdown",
   "id": "1a96f936",
   "metadata": {
    "lines_to_next_cell": 0,
    "papermill": {
     "duration": 0.000974,
     "end_time": "2024-08-13T19:47:50.425545",
     "exception": false,
     "start_time": "2024-08-13T19:47:50.424571",
     "status": "completed"
    },
    "tags": []
   },
   "source": [
    "## Description"
   ]
  },
  {
   "cell_type": "code",
   "execution_count": 5,
   "id": "e49d70cf",
   "metadata": {
    "execution": {
     "iopub.execute_input": "2024-08-13T19:47:50.428074Z",
     "iopub.status.busy": "2024-08-13T19:47:50.427931Z",
     "iopub.status.idle": "2024-08-13T19:47:50.431787Z",
     "shell.execute_reply": "2024-08-13T19:47:50.431331Z"
    },
    "papermill": {
     "duration": 0.006527,
     "end_time": "2024-08-13T19:47:50.433019",
     "exception": false,
     "start_time": "2024-08-13T19:47:50.426492",
     "status": "completed"
    },
    "tags": []
   },
   "outputs": [
    {
     "data": {
      "text/html": [
       "<ul>\n",
       "\n",
       "<li>description: A Gaussian function</li>\n",
       "\n",
       "<li>formula: $ K \\frac{1}{\\sigma \\sqrt{2 \\pi}}\\exp{\\frac{(x-\\mu)^2}{2~(\\sigma)^2}} $</li>\n",
       "\n",
       "<li>parameters: \n",
       "<ul>\n",
       "\n",
       "<li>F: \n",
       "<ul>\n",
       "\n",
       "<li>value: 1.0</li>\n",
       "\n",
       "<li>desc: Integral between -inf and +inf. Fix this to 1 to obtain a Normal distribution</li>\n",
       "\n",
       "<li>min_value: None</li>\n",
       "\n",
       "<li>max_value: None</li>\n",
       "\n",
       "<li>unit: </li>\n",
       "\n",
       "<li>is_normalization: False</li>\n",
       "\n",
       "<li>delta: 0.1</li>\n",
       "\n",
       "<li>free: True</li>\n",
       "\n",
       "</ul>\n",
       "\n",
       "</li>\n",
       "\n",
       "<li>mu: \n",
       "<ul>\n",
       "\n",
       "<li>value: 0.0</li>\n",
       "\n",
       "<li>desc: Central value</li>\n",
       "\n",
       "<li>min_value: None</li>\n",
       "\n",
       "<li>max_value: None</li>\n",
       "\n",
       "<li>unit: </li>\n",
       "\n",
       "<li>is_normalization: False</li>\n",
       "\n",
       "<li>delta: 0.1</li>\n",
       "\n",
       "<li>free: True</li>\n",
       "\n",
       "</ul>\n",
       "\n",
       "</li>\n",
       "\n",
       "<li>sigma: \n",
       "<ul>\n",
       "\n",
       "<li>value: 1.0</li>\n",
       "\n",
       "<li>desc: standard deviation</li>\n",
       "\n",
       "<li>min_value: 1e-12</li>\n",
       "\n",
       "<li>max_value: None</li>\n",
       "\n",
       "<li>unit: </li>\n",
       "\n",
       "<li>is_normalization: False</li>\n",
       "\n",
       "<li>delta: 0.1</li>\n",
       "\n",
       "<li>free: True</li>\n",
       "\n",
       "</ul>\n",
       "\n",
       "</li>\n",
       "\n",
       "</ul>\n",
       "\n",
       "</li>\n",
       "\n",
       "</ul>\n"
      ],
      "text/plain": [
       "  * description: A Gaussian function\n",
       "  * formula: $ K \\frac{1}{\\sigma \\sqrt{2 \\pi}}\\exp{\\frac{(x-\\mu)^2}{2~(\\sigma)^2}} $\n",
       "  * parameters:\n",
       "    * F:\n",
       "      * value: 1.0\n",
       "      * desc: Integral between -inf and +inf. Fix this to 1 to obtain a Normal distribution\n",
       "      * min_value: null\n",
       "      * max_value: null\n",
       "      * unit: ''\n",
       "      * is_normalization: false\n",
       "      * delta: 0.1\n",
       "      * free: true\n",
       "    * mu:\n",
       "      * value: 0.0\n",
       "      * desc: Central value\n",
       "      * min_value: null\n",
       "      * max_value: null\n",
       "      * unit: ''\n",
       "      * is_normalization: false\n",
       "      * delta: 0.1\n",
       "      * free: true\n",
       "    * sigma:\n",
       "      * value: 1.0\n",
       "      * desc: standard deviation\n",
       "      * min_value: 1.0e-12\n",
       "      * max_value: null\n",
       "      * unit: ''\n",
       "      * is_normalization: false\n",
       "      * delta: 0.1\n",
       "      * free: true"
      ]
     },
     "metadata": {},
     "output_type": "display_data"
    }
   ],
   "source": [
    "func.display()"
   ]
  },
  {
   "cell_type": "markdown",
   "id": "3559f45d",
   "metadata": {
    "papermill": {
     "duration": 0.001094,
     "end_time": "2024-08-13T19:47:50.435244",
     "exception": false,
     "start_time": "2024-08-13T19:47:50.434150",
     "status": "completed"
    },
    "tags": []
   },
   "source": [
    "## Shape \n",
    "\n",
    "The shape of the function. \n",
    "\n",
    "*If this is not a photon model but a prior or linear function then ignore the units as these docs are auto-generated*"
   ]
  },
  {
   "cell_type": "code",
   "execution_count": 6,
   "id": "112f2f99",
   "metadata": {
    "execution": {
     "iopub.execute_input": "2024-08-13T19:47:50.438003Z",
     "iopub.status.busy": "2024-08-13T19:47:50.437861Z",
     "iopub.status.idle": "2024-08-13T19:47:50.537659Z",
     "shell.execute_reply": "2024-08-13T19:47:50.537312Z"
    },
    "papermill": {
     "duration": 0.102831,
     "end_time": "2024-08-13T19:47:50.539122",
     "exception": false,
     "start_time": "2024-08-13T19:47:50.436291",
     "status": "completed"
    },
    "tags": [
     "nbsphinx-thumbnail"
    ]
   },
   "outputs": [
    {
     "data": {
      "text/plain": [
       "Text(0, 0.5, 'probability')"
      ]
     },
     "execution_count": 6,
     "metadata": {},
     "output_type": "execute_result"
    },
    {
     "data": {
      "image/png": "[encoded data removed]",
      "text/plain": [
       "<Figure size 1040x910 with 1 Axes>"
      ]
     },
     "metadata": {},
     "output_type": "display_data"
    }
   ],
   "source": [
    "fig, ax = plt.subplots()\n",
    "\n",
    "\n",
    "ax.plot(energy_grid, func(energy_grid), color=blue, lw=3)\n",
    "\n",
    "ax.set_xlabel(\"x\")\n",
    "ax.set_ylabel(\"probability\")\n"
   ]
  },
  {
   "cell_type": "markdown",
   "id": "44218f2e",
   "metadata": {
    "papermill": {
     "duration": 0.001505,
     "end_time": "2024-08-13T19:47:50.542682",
     "exception": false,
     "start_time": "2024-08-13T19:47:50.541177",
     "status": "completed"
    },
    "tags": []
   },
   "source": [
    "## Random Number Generation\n",
    "\n",
    "This is how we can generate random numbers from the prior.\n"
   ]
  },
  {
   "cell_type": "code",
   "execution_count": 7,
   "id": "0811189e",
   "metadata": {
    "execution": {
     "iopub.execute_input": "2024-08-13T19:47:50.546169Z",
     "iopub.status.busy": "2024-08-13T19:47:50.546023Z",
     "iopub.status.idle": "2024-08-13T19:47:50.662175Z",
     "shell.execute_reply": "2024-08-13T19:47:50.661835Z"
    },
    "papermill": {
     "duration": 0.119531,
     "end_time": "2024-08-13T19:47:50.663574",
     "exception": false,
     "start_time": "2024-08-13T19:47:50.544043",
     "status": "completed"
    },
    "tags": []
   },
   "outputs": [
    {
     "data": {
      "text/plain": [
       "Text(0, 0.5, 'N')"
      ]
     },
     "execution_count": 7,
     "metadata": {},
     "output_type": "execute_result"
    },
    {
     "data": {
      "image/png": "[encoded data removed]",
      "text/plain": [
       "<Figure size 1040x910 with 1 Axes>"
      ]
     },
     "metadata": {},
     "output_type": "display_data"
    }
   ],
   "source": [
    "\n",
    "\n",
    "u = np.random.uniform(0,1, size=5000)\n",
    "\n",
    "draws = [func.from_unit_cube(x) for x in u]\n",
    "\n",
    "\n",
    "fig, ax = plt.subplots()\n",
    "\n",
    "\n",
    "ax.hist(draws, color=green, bins=50)\n",
    "\n",
    "ax.set_xlabel(\"value\")\n",
    "ax.set_ylabel(\"N\")\n",
    "\n"
   ]
  }
 ],
 "metadata": {
  "jupytext": {
   "formats": "ipynb,md"
  },
  "kernelspec": {
   "display_name": "Python 3 (ipykernel)",
   "language": "python",
   "name": "python3"
  },
  "language_info": {
   "codemirror_mode": {
    "name": "ipython",
    "version": 3
   },
   "file_extension": ".py",
   "mimetype": "text/x-python",
   "name": "python",
   "nbconvert_exporter": "python",
   "pygments_lexer": "ipython3",
   "version": "3.9.13"
  },
  "papermill": {
   "default_parameters": {},
   "duration": 2.797164,
   "end_time": "2024-08-13T19:47:50.992995",
   "environment_variables": {},
   "exception": null,
   "input_path": "Gaussian.ipynb",
   "output_path": "/Users/runner/work/astromodels/astromodels/docs/notebooks/Gaussian.ipynb",
   "parameters": {
    "func_name": "Gaussian",
    "positive_prior": false
   },
   "start_time": "2024-08-13T19:47:48.195831",
   "version": "2.6.0"
  }
 },
 "nbformat": 4,
 "nbformat_minor": 5
}
