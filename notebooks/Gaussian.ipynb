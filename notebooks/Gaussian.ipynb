{
 "cells": [
  {
   "cell_type": "markdown",
   "id": "6cf8eb7d",
   "metadata": {
    "papermill": {
     "duration": 0.004099,
     "end_time": "2024-02-07T23:05:33.086358",
     "exception": false,
     "start_time": "2024-02-07T23:05:33.082259",
     "status": "completed"
    },
    "tags": []
   },
   "source": [
    "# Gaussian"
   ]
  },
  {
   "cell_type": "code",
   "execution_count": 1,
   "id": "97b11c06",
   "metadata": {
    "execution": {
     "iopub.execute_input": "2024-02-07T23:05:33.094052Z",
     "iopub.status.busy": "2024-02-07T23:05:33.093634Z",
     "iopub.status.idle": "2024-02-07T23:05:36.982093Z",
     "shell.execute_reply": "2024-02-07T23:05:36.980625Z"
    },
    "nbsphinx": "hidden",
    "papermill": {
     "duration": 3.89599,
     "end_time": "2024-02-07T23:05:36.985526",
     "exception": false,
     "start_time": "2024-02-07T23:05:33.089536",
     "status": "completed"
    },
    "tags": []
   },
   "outputs": [],
   "source": [
    "%%capture\n",
    "\n",
    "import numpy as np\n",
    "\n",
    "import matplotlib.pyplot as plt\n",
    "\n",
    "import warnings\n",
    "warnings.simplefilter(\"ignore\")\n",
    "\n",
    "from astromodels.functions.function import _known_functions\n",
    "\n",
    "\n",
    "from jupyterthemes import jtplot\n",
    "jtplot.style(context=\"talk\", fscale=1, ticks=True, grid=False)\n",
    "%matplotlib inline"
   ]
  },
  {
   "cell_type": "code",
   "execution_count": 2,
   "id": "2f7f1367",
   "metadata": {
    "execution": {
     "iopub.execute_input": "2024-02-07T23:05:36.994420Z",
     "iopub.status.busy": "2024-02-07T23:05:36.993947Z",
     "iopub.status.idle": "2024-02-07T23:05:37.000131Z",
     "shell.execute_reply": "2024-02-07T23:05:36.998946Z"
    },
    "nbsphinx": "hidden",
    "papermill": {
     "duration": 0.014204,
     "end_time": "2024-02-07T23:05:37.003414",
     "exception": false,
     "start_time": "2024-02-07T23:05:36.989210",
     "status": "completed"
    },
    "tags": [
     "parameters"
    ]
   },
   "outputs": [],
   "source": [
    "func_name = \"TbAbs\"\n",
    "\n",
    "positive_prior = False\n"
   ]
  },
  {
   "cell_type": "code",
   "execution_count": 3,
   "id": "758c6a18",
   "metadata": {
    "execution": {
     "iopub.execute_input": "2024-02-07T23:05:37.011549Z",
     "iopub.status.busy": "2024-02-07T23:05:37.011102Z",
     "iopub.status.idle": "2024-02-07T23:05:37.015905Z",
     "shell.execute_reply": "2024-02-07T23:05:37.014897Z"
    },
    "papermill": {
     "duration": 0.01255,
     "end_time": "2024-02-07T23:05:37.019207",
     "exception": false,
     "start_time": "2024-02-07T23:05:37.006657",
     "status": "completed"
    },
    "tags": [
     "injected-parameters"
    ]
   },
   "outputs": [],
   "source": [
    "# Parameters\n",
    "func_name = \"Gaussian\"\n",
    "positive_prior = False\n"
   ]
  },
  {
   "cell_type": "code",
   "execution_count": 4,
   "id": "fea5eb77",
   "metadata": {
    "execution": {
     "iopub.execute_input": "2024-02-07T23:05:37.027156Z",
     "iopub.status.busy": "2024-02-07T23:05:37.026714Z",
     "iopub.status.idle": "2024-02-07T23:05:37.034390Z",
     "shell.execute_reply": "2024-02-07T23:05:37.033292Z"
    },
    "lines_to_next_cell": 0,
    "nbsphinx": "hidden",
    "papermill": {
     "duration": 0.015002,
     "end_time": "2024-02-07T23:05:37.037398",
     "exception": false,
     "start_time": "2024-02-07T23:05:37.022396",
     "status": "completed"
    },
    "tags": []
   },
   "outputs": [],
   "source": [
    "func = _known_functions[func_name]()\n",
    "\n",
    "if not positive_prior:\n",
    "\n",
    "\tenergy_grid = np.linspace(-5,5,1000)\n",
    "\n",
    "else:\n",
    "    \n",
    "    energy_grid = np.linspace(0,1,1000)\n",
    "    \n",
    "    \n",
    "    \n",
    "    \n",
    "blue = \"#4152E3\"\n",
    "red = \"#E3414B\"\n",
    "green = \"#41E39E\""
   ]
  },
  {
   "cell_type": "markdown",
   "id": "2bd76d7a",
   "metadata": {
    "lines_to_next_cell": 0,
    "papermill": {
     "duration": 0.002931,
     "end_time": "2024-02-07T23:05:37.043395",
     "exception": false,
     "start_time": "2024-02-07T23:05:37.040464",
     "status": "completed"
    },
    "tags": []
   },
   "source": [
    "## Description"
   ]
  },
  {
   "cell_type": "code",
   "execution_count": 5,
   "id": "49bbc699",
   "metadata": {
    "execution": {
     "iopub.execute_input": "2024-02-07T23:05:37.051443Z",
     "iopub.status.busy": "2024-02-07T23:05:37.050956Z",
     "iopub.status.idle": "2024-02-07T23:05:37.064115Z",
     "shell.execute_reply": "2024-02-07T23:05:37.062794Z"
    },
    "papermill": {
     "duration": 0.021234,
     "end_time": "2024-02-07T23:05:37.067472",
     "exception": false,
     "start_time": "2024-02-07T23:05:37.046238",
     "status": "completed"
    },
    "tags": []
   },
   "outputs": [
    {
     "data": {
      "text/html": [
       "<ul>\n",
       "\n",
       "<li>description: A Gaussian function</li>\n",
       "\n",
       "<li>formula: $ K \\frac{1}{\\sigma \\sqrt{2 \\pi}}\\exp{\\frac{(x-\\mu)^2}{2~(\\sigma)^2}} $</li>\n",
       "\n",
       "<li>parameters: \n",
       "<ul>\n",
       "\n",
       "<li>F: \n",
       "<ul>\n",
       "\n",
       "<li>value: 1.0</li>\n",
       "\n",
       "<li>desc: Integral between -inf and +inf. Fix this to 1 to obtain a Normal distribution</li>\n",
       "\n",
       "<li>min_value: None</li>\n",
       "\n",
       "<li>max_value: None</li>\n",
       "\n",
       "<li>unit: </li>\n",
       "\n",
       "<li>is_normalization: False</li>\n",
       "\n",
       "<li>delta: 0.1</li>\n",
       "\n",
       "<li>free: True</li>\n",
       "\n",
       "</ul>\n",
       "\n",
       "</li>\n",
       "\n",
       "<li>mu: \n",
       "<ul>\n",
       "\n",
       "<li>value: 0.0</li>\n",
       "\n",
       "<li>desc: Central value</li>\n",
       "\n",
       "<li>min_value: None</li>\n",
       "\n",
       "<li>max_value: None</li>\n",
       "\n",
       "<li>unit: </li>\n",
       "\n",
       "<li>is_normalization: False</li>\n",
       "\n",
       "<li>delta: 0.1</li>\n",
       "\n",
       "<li>free: True</li>\n",
       "\n",
       "</ul>\n",
       "\n",
       "</li>\n",
       "\n",
       "<li>sigma: \n",
       "<ul>\n",
       "\n",
       "<li>value: 1.0</li>\n",
       "\n",
       "<li>desc: standard deviation</li>\n",
       "\n",
       "<li>min_value: 1e-12</li>\n",
       "\n",
       "<li>max_value: None</li>\n",
       "\n",
       "<li>unit: </li>\n",
       "\n",
       "<li>is_normalization: False</li>\n",
       "\n",
       "<li>delta: 0.1</li>\n",
       "\n",
       "<li>free: True</li>\n",
       "\n",
       "</ul>\n",
       "\n",
       "</li>\n",
       "\n",
       "</ul>\n",
       "\n",
       "</li>\n",
       "\n",
       "</ul>\n"
      ],
      "text/plain": [
       "  * description: A Gaussian function\n",
       "  * formula: $ K \\frac{1}{\\sigma \\sqrt{2 \\pi}}\\exp{\\frac{(x-\\mu)^2}{2~(\\sigma)^2}} $\n",
       "  * parameters:\n",
       "    * F:\n",
       "      * value: 1.0\n",
       "      * desc: Integral between -inf and +inf. Fix this to 1 to obtain a Normal distribution\n",
       "      * min_value: null\n",
       "      * max_value: null\n",
       "      * unit: ''\n",
       "      * is_normalization: false\n",
       "      * delta: 0.1\n",
       "      * free: true\n",
       "    * mu:\n",
       "      * value: 0.0\n",
       "      * desc: Central value\n",
       "      * min_value: null\n",
       "      * max_value: null\n",
       "      * unit: ''\n",
       "      * is_normalization: false\n",
       "      * delta: 0.1\n",
       "      * free: true\n",
       "    * sigma:\n",
       "      * value: 1.0\n",
       "      * desc: standard deviation\n",
       "      * min_value: 1.0e-12\n",
       "      * max_value: null\n",
       "      * unit: ''\n",
       "      * is_normalization: false\n",
       "      * delta: 0.1\n",
       "      * free: true"
      ]
     },
     "metadata": {},
     "output_type": "display_data"
    }
   ],
   "source": [
    "func.display()"
   ]
  },
  {
   "cell_type": "markdown",
   "id": "7ad115c7",
   "metadata": {
    "papermill": {
     "duration": 0.003454,
     "end_time": "2024-02-07T23:05:37.074483",
     "exception": false,
     "start_time": "2024-02-07T23:05:37.071029",
     "status": "completed"
    },
    "tags": []
   },
   "source": [
    "## Shape \n",
    "\n",
    "The shape of the function. \n",
    "\n",
    "*If this is not a photon model but a prior or linear function then ignore the units as these docs are auto-generated*"
   ]
  },
  {
   "cell_type": "code",
   "execution_count": 6,
   "id": "f1951b77",
   "metadata": {
    "execution": {
     "iopub.execute_input": "2024-02-07T23:05:37.084272Z",
     "iopub.status.busy": "2024-02-07T23:05:37.083787Z",
     "iopub.status.idle": "2024-02-07T23:05:37.418919Z",
     "shell.execute_reply": "2024-02-07T23:05:37.417826Z"
    },
    "papermill": {
     "duration": 0.344194,
     "end_time": "2024-02-07T23:05:37.422376",
     "exception": false,
     "start_time": "2024-02-07T23:05:37.078182",
     "status": "completed"
    },
    "tags": [
     "nbsphinx-thumbnail"
    ]
   },
   "outputs": [
    {
     "data": {
      "text/plain": [
       "Text(0, 0.5, 'probability')"
      ]
     },
     "execution_count": 6,
     "metadata": {},
     "output_type": "execute_result"
    },
    {
     "data": {
      "image/png": "[encoded data removed]",
      "text/plain": [
       "<Figure size 1040x910 with 1 Axes>"
      ]
     },
     "metadata": {},
     "output_type": "display_data"
    }
   ],
   "source": [
    "fig, ax = plt.subplots()\n",
    "\n",
    "\n",
    "ax.plot(energy_grid, func(energy_grid), color=blue, lw=3)\n",
    "\n",
    "ax.set_xlabel(\"x\")\n",
    "ax.set_ylabel(\"probability\")\n"
   ]
  },
  {
   "cell_type": "markdown",
   "id": "bbddc72a",
   "metadata": {
    "papermill": {
     "duration": 0.004204,
     "end_time": "2024-02-07T23:05:37.431347",
     "exception": false,
     "start_time": "2024-02-07T23:05:37.427143",
     "status": "completed"
    },
    "tags": []
   },
   "source": [
    "## Random Number Generation\n",
    "\n",
    "This is how we can generate random numbers from the prior.\n"
   ]
  },
  {
   "cell_type": "code",
   "execution_count": 7,
   "id": "9c9481f2",
   "metadata": {
    "execution": {
     "iopub.execute_input": "2024-02-07T23:05:37.442091Z",
     "iopub.status.busy": "2024-02-07T23:05:37.441572Z",
     "iopub.status.idle": "2024-02-07T23:05:37.894256Z",
     "shell.execute_reply": "2024-02-07T23:05:37.892644Z"
    },
    "papermill": {
     "duration": 0.461429,
     "end_time": "2024-02-07T23:05:37.897210",
     "exception": false,
     "start_time": "2024-02-07T23:05:37.435781",
     "status": "completed"
    },
    "tags": []
   },
   "outputs": [
    {
     "data": {
      "text/plain": [
       "Text(0, 0.5, 'N')"
      ]
     },
     "execution_count": 7,
     "metadata": {},
     "output_type": "execute_result"
    },
    {
     "data": {
      "image/png": "[encoded data removed]",
      "text/plain": [
       "<Figure size 1040x910 with 1 Axes>"
      ]
     },
     "metadata": {},
     "output_type": "display_data"
    }
   ],
   "source": [
    "\n",
    "\n",
    "u = np.random.uniform(0,1, size=5000)\n",
    "\n",
    "draws = [func.from_unit_cube(x) for x in u]\n",
    "\n",
    "\n",
    "fig, ax = plt.subplots()\n",
    "\n",
    "\n",
    "ax.hist(draws, color=green, bins=50)\n",
    "\n",
    "ax.set_xlabel(\"value\")\n",
    "ax.set_ylabel(\"N\")\n",
    "\n"
   ]
  }
 ],
 "metadata": {
  "jupytext": {
   "formats": "ipynb,md"
  },
  "kernelspec": {
   "display_name": "Python 3 (ipykernel)",
   "language": "python",
   "name": "python3"
  },
  "language_info": {
   "codemirror_mode": {
    "name": "ipython",
    "version": 3
   },
   "file_extension": ".py",
   "mimetype": "text/x-python",
   "name": "python",
   "nbconvert_exporter": "python",
   "pygments_lexer": "ipython3",
   "version": "3.9.18"
  },
  "papermill": {
   "default_parameters": {},
   "duration": 6.827197,
   "end_time": "2024-02-07T23:05:38.628061",
   "environment_variables": {},
   "exception": null,
   "input_path": "Gaussian.ipynb",
   "output_path": "/Users/runner/work/astromodels/astromodels/docs/notebooks/Gaussian.ipynb",
   "parameters": {
    "func_name": "Gaussian",
    "positive_prior": false
   },
   "start_time": "2024-02-07T23:05:31.800864",
   "version": "2.5.0"
  }
 },
 "nbformat": 4,
 "nbformat_minor": 5
}
