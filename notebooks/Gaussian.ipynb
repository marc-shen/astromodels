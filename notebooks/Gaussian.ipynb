{
 "cells": [
  {
   "cell_type": "markdown",
   "id": "3e30f180",
   "metadata": {
    "papermill": {
     "duration": 0.00393,
     "end_time": "2023-11-01T23:05:54.224923",
     "exception": false,
     "start_time": "2023-11-01T23:05:54.220993",
     "status": "completed"
    },
    "tags": []
   },
   "source": [
    "# Gaussian"
   ]
  },
  {
   "cell_type": "code",
   "execution_count": 1,
   "id": "46e8499d",
   "metadata": {
    "execution": {
     "iopub.execute_input": "2023-11-01T23:05:54.232562Z",
     "iopub.status.busy": "2023-11-01T23:05:54.232189Z",
     "iopub.status.idle": "2023-11-01T23:05:56.583033Z",
     "shell.execute_reply": "2023-11-01T23:05:56.579855Z"
    },
    "nbsphinx": "hidden",
    "papermill": {
     "duration": 2.360238,
     "end_time": "2023-11-01T23:05:56.587689",
     "exception": false,
     "start_time": "2023-11-01T23:05:54.227451",
     "status": "completed"
    },
    "tags": []
   },
   "outputs": [],
   "source": [
    "%%capture\n",
    "\n",
    "import numpy as np\n",
    "\n",
    "import matplotlib.pyplot as plt\n",
    "\n",
    "import warnings\n",
    "warnings.simplefilter(\"ignore\")\n",
    "\n",
    "from astromodels.functions.function import _known_functions\n",
    "\n",
    "\n",
    "from jupyterthemes import jtplot\n",
    "jtplot.style(context=\"talk\", fscale=1, ticks=True, grid=False)\n",
    "%matplotlib inline"
   ]
  },
  {
   "cell_type": "code",
   "execution_count": 2,
   "id": "1f009c4b",
   "metadata": {
    "execution": {
     "iopub.execute_input": "2023-11-01T23:05:56.595133Z",
     "iopub.status.busy": "2023-11-01T23:05:56.594139Z",
     "iopub.status.idle": "2023-11-01T23:05:56.605064Z",
     "shell.execute_reply": "2023-11-01T23:05:56.602253Z"
    },
    "nbsphinx": "hidden",
    "papermill": {
     "duration": 0.018845,
     "end_time": "2023-11-01T23:05:56.609044",
     "exception": false,
     "start_time": "2023-11-01T23:05:56.590199",
     "status": "completed"
    },
    "tags": [
     "parameters"
    ]
   },
   "outputs": [],
   "source": [
    "func_name = \"TbAbs\"\n",
    "\n",
    "positive_prior = False\n"
   ]
  },
  {
   "cell_type": "code",
   "execution_count": 3,
   "id": "6f932d81",
   "metadata": {
    "execution": {
     "iopub.execute_input": "2023-11-01T23:05:56.615088Z",
     "iopub.status.busy": "2023-11-01T23:05:56.614703Z",
     "iopub.status.idle": "2023-11-01T23:05:56.625144Z",
     "shell.execute_reply": "2023-11-01T23:05:56.622387Z"
    },
    "papermill": {
     "duration": 0.017913,
     "end_time": "2023-11-01T23:05:56.629139",
     "exception": false,
     "start_time": "2023-11-01T23:05:56.611226",
     "status": "completed"
    },
    "tags": [
     "injected-parameters"
    ]
   },
   "outputs": [],
   "source": [
    "# Parameters\n",
    "func_name = \"Gaussian\"\n",
    "positive_prior = False\n"
   ]
  },
  {
   "cell_type": "code",
   "execution_count": 4,
   "id": "24e036ea",
   "metadata": {
    "execution": {
     "iopub.execute_input": "2023-11-01T23:05:56.635137Z",
     "iopub.status.busy": "2023-11-01T23:05:56.634793Z",
     "iopub.status.idle": "2023-11-01T23:05:56.641745Z",
     "shell.execute_reply": "2023-11-01T23:05:56.640560Z"
    },
    "lines_to_next_cell": 0,
    "nbsphinx": "hidden",
    "papermill": {
     "duration": 0.013982,
     "end_time": "2023-11-01T23:05:56.645356",
     "exception": false,
     "start_time": "2023-11-01T23:05:56.631374",
     "status": "completed"
    },
    "tags": []
   },
   "outputs": [],
   "source": [
    "func = _known_functions[func_name]()\n",
    "\n",
    "if not positive_prior:\n",
    "\n",
    "\tenergy_grid = np.linspace(-5,5,1000)\n",
    "\n",
    "else:\n",
    "    \n",
    "    energy_grid = np.linspace(0,1,1000)\n",
    "    \n",
    "    \n",
    "    \n",
    "    \n",
    "blue = \"#4152E3\"\n",
    "red = \"#E3414B\"\n",
    "green = \"#41E39E\""
   ]
  },
  {
   "cell_type": "markdown",
   "id": "96b02c10",
   "metadata": {
    "lines_to_next_cell": 0,
    "papermill": {
     "duration": 0.002324,
     "end_time": "2023-11-01T23:05:56.649951",
     "exception": false,
     "start_time": "2023-11-01T23:05:56.647627",
     "status": "completed"
    },
    "tags": []
   },
   "source": [
    "## Description"
   ]
  },
  {
   "cell_type": "code",
   "execution_count": 5,
   "id": "680d1116",
   "metadata": {
    "execution": {
     "iopub.execute_input": "2023-11-01T23:05:56.656018Z",
     "iopub.status.busy": "2023-11-01T23:05:56.655636Z",
     "iopub.status.idle": "2023-11-01T23:05:56.666492Z",
     "shell.execute_reply": "2023-11-01T23:05:56.665205Z"
    },
    "papermill": {
     "duration": 0.018092,
     "end_time": "2023-11-01T23:05:56.670223",
     "exception": false,
     "start_time": "2023-11-01T23:05:56.652131",
     "status": "completed"
    },
    "tags": []
   },
   "outputs": [
    {
     "data": {
      "text/html": [
       "<ul>\n",
       "\n",
       "<li>description: A Gaussian function</li>\n",
       "\n",
       "<li>formula: $ K \\frac{1}{\\sigma \\sqrt{2 \\pi}}\\exp{\\frac{(x-\\mu)^2}{2~(\\sigma)^2}} $</li>\n",
       "\n",
       "<li>parameters: \n",
       "<ul>\n",
       "\n",
       "<li>F: \n",
       "<ul>\n",
       "\n",
       "<li>value: 1.0</li>\n",
       "\n",
       "<li>desc: Integral between -inf and +inf. Fix this to 1 to obtain a Normal distribution</li>\n",
       "\n",
       "<li>min_value: None</li>\n",
       "\n",
       "<li>max_value: None</li>\n",
       "\n",
       "<li>unit: </li>\n",
       "\n",
       "<li>is_normalization: False</li>\n",
       "\n",
       "<li>delta: 0.1</li>\n",
       "\n",
       "<li>free: True</li>\n",
       "\n",
       "</ul>\n",
       "\n",
       "</li>\n",
       "\n",
       "<li>mu: \n",
       "<ul>\n",
       "\n",
       "<li>value: 0.0</li>\n",
       "\n",
       "<li>desc: Central value</li>\n",
       "\n",
       "<li>min_value: None</li>\n",
       "\n",
       "<li>max_value: None</li>\n",
       "\n",
       "<li>unit: </li>\n",
       "\n",
       "<li>is_normalization: False</li>\n",
       "\n",
       "<li>delta: 0.1</li>\n",
       "\n",
       "<li>free: True</li>\n",
       "\n",
       "</ul>\n",
       "\n",
       "</li>\n",
       "\n",
       "<li>sigma: \n",
       "<ul>\n",
       "\n",
       "<li>value: 1.0</li>\n",
       "\n",
       "<li>desc: standard deviation</li>\n",
       "\n",
       "<li>min_value: 1e-12</li>\n",
       "\n",
       "<li>max_value: None</li>\n",
       "\n",
       "<li>unit: </li>\n",
       "\n",
       "<li>is_normalization: False</li>\n",
       "\n",
       "<li>delta: 0.1</li>\n",
       "\n",
       "<li>free: True</li>\n",
       "\n",
       "</ul>\n",
       "\n",
       "</li>\n",
       "\n",
       "</ul>\n",
       "\n",
       "</li>\n",
       "\n",
       "</ul>\n"
      ],
      "text/plain": [
       "  * description: A Gaussian function\n",
       "  * formula: $ K \\frac{1}{\\sigma \\sqrt{2 \\pi}}\\exp{\\frac{(x-\\mu)^2}{2~(\\sigma)^2}} $\n",
       "  * parameters:\n",
       "    * F:\n",
       "      * value: 1.0\n",
       "      * desc: Integral between -inf and +inf. Fix this to 1 to obtain a Normal distribution\n",
       "      * min_value: null\n",
       "      * max_value: null\n",
       "      * unit: ''\n",
       "      * is_normalization: false\n",
       "      * delta: 0.1\n",
       "      * free: true\n",
       "    * mu:\n",
       "      * value: 0.0\n",
       "      * desc: Central value\n",
       "      * min_value: null\n",
       "      * max_value: null\n",
       "      * unit: ''\n",
       "      * is_normalization: false\n",
       "      * delta: 0.1\n",
       "      * free: true\n",
       "    * sigma:\n",
       "      * value: 1.0\n",
       "      * desc: standard deviation\n",
       "      * min_value: 1.0e-12\n",
       "      * max_value: null\n",
       "      * unit: ''\n",
       "      * is_normalization: false\n",
       "      * delta: 0.1\n",
       "      * free: true"
      ]
     },
     "metadata": {},
     "output_type": "display_data"
    }
   ],
   "source": [
    "func.display()"
   ]
  },
  {
   "cell_type": "markdown",
   "id": "333ced45",
   "metadata": {
    "papermill": {
     "duration": 0.00257,
     "end_time": "2023-11-01T23:05:56.675391",
     "exception": false,
     "start_time": "2023-11-01T23:05:56.672821",
     "status": "completed"
    },
    "tags": []
   },
   "source": [
    "## Shape \n",
    "\n",
    "The shape of the function. \n",
    "\n",
    "*If this is not a photon model but a prior or linear function then ignore the units as these docs are auto-generated*"
   ]
  },
  {
   "cell_type": "code",
   "execution_count": 6,
   "id": "e5fd0481",
   "metadata": {
    "execution": {
     "iopub.execute_input": "2023-11-01T23:05:56.681733Z",
     "iopub.status.busy": "2023-11-01T23:05:56.681417Z",
     "iopub.status.idle": "2023-11-01T23:05:56.885135Z",
     "shell.execute_reply": "2023-11-01T23:05:56.883929Z"
    },
    "papermill": {
     "duration": 0.210922,
     "end_time": "2023-11-01T23:05:56.888698",
     "exception": false,
     "start_time": "2023-11-01T23:05:56.677776",
     "status": "completed"
    },
    "tags": [
     "nbsphinx-thumbnail"
    ]
   },
   "outputs": [
    {
     "data": {
      "text/plain": [
       "Text(0, 0.5, 'probability')"
      ]
     },
     "execution_count": 6,
     "metadata": {},
     "output_type": "execute_result"
    },
    {
     "data": {
      "image/png": "[encoded data removed]",
      "text/plain": [
       "<Figure size 1040x910 with 1 Axes>"
      ]
     },
     "metadata": {},
     "output_type": "display_data"
    }
   ],
   "source": [
    "fig, ax = plt.subplots()\n",
    "\n",
    "\n",
    "ax.plot(energy_grid, func(energy_grid), color=blue, lw=3)\n",
    "\n",
    "ax.set_xlabel(\"x\")\n",
    "ax.set_ylabel(\"probability\")\n"
   ]
  },
  {
   "cell_type": "markdown",
   "id": "1fd82367",
   "metadata": {
    "papermill": {
     "duration": 0.003095,
     "end_time": "2023-11-01T23:05:56.895056",
     "exception": false,
     "start_time": "2023-11-01T23:05:56.891961",
     "status": "completed"
    },
    "tags": []
   },
   "source": [
    "## Random Number Generation\n",
    "\n",
    "This is how we can generate random numbers from the prior.\n"
   ]
  },
  {
   "cell_type": "code",
   "execution_count": 7,
   "id": "9e6140b1",
   "metadata": {
    "execution": {
     "iopub.execute_input": "2023-11-01T23:05:56.902648Z",
     "iopub.status.busy": "2023-11-01T23:05:56.902193Z",
     "iopub.status.idle": "2023-11-01T23:05:57.176984Z",
     "shell.execute_reply": "2023-11-01T23:05:57.175874Z"
    },
    "papermill": {
     "duration": 0.282706,
     "end_time": "2023-11-01T23:05:57.180590",
     "exception": false,
     "start_time": "2023-11-01T23:05:56.897884",
     "status": "completed"
    },
    "tags": []
   },
   "outputs": [
    {
     "data": {
      "text/plain": [
       "Text(0, 0.5, 'N')"
      ]
     },
     "execution_count": 7,
     "metadata": {},
     "output_type": "execute_result"
    },
    {
     "data": {
      "image/png": "[encoded data removed]",
      "text/plain": [
       "<Figure size 1040x910 with 1 Axes>"
      ]
     },
     "metadata": {},
     "output_type": "display_data"
    }
   ],
   "source": [
    "\n",
    "\n",
    "u = np.random.uniform(0,1, size=5000)\n",
    "\n",
    "draws = [func.from_unit_cube(x) for x in u]\n",
    "\n",
    "\n",
    "fig, ax = plt.subplots()\n",
    "\n",
    "\n",
    "ax.hist(draws, color=green, bins=50)\n",
    "\n",
    "ax.set_xlabel(\"value\")\n",
    "ax.set_ylabel(\"N\")\n",
    "\n"
   ]
  }
 ],
 "metadata": {
  "jupytext": {
   "formats": "ipynb,md"
  },
  "kernelspec": {
   "display_name": "Python 3 (ipykernel)",
   "language": "python",
   "name": "python3"
  },
  "language_info": {
   "codemirror_mode": {
    "name": "ipython",
    "version": 3
   },
   "file_extension": ".py",
   "mimetype": "text/x-python",
   "name": "python",
   "nbconvert_exporter": "python",
   "pygments_lexer": "ipython3",
   "version": "3.9.18"
  },
  "papermill": {
   "default_parameters": {},
   "duration": 4.500273,
   "end_time": "2023-11-01T23:05:57.723307",
   "environment_variables": {},
   "exception": null,
   "input_path": "Gaussian.ipynb",
   "output_path": "/Users/runner/work/astromodels/astromodels/docs/notebooks/Gaussian.ipynb",
   "parameters": {
    "func_name": "Gaussian",
    "positive_prior": false
   },
   "start_time": "2023-11-01T23:05:53.223034",
   "version": "2.4.0"
  }
 },
 "nbformat": 4,
 "nbformat_minor": 5
}
