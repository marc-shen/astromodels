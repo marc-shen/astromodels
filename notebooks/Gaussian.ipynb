{
 "cells": [
  {
   "cell_type": "markdown",
   "id": "2a1fa83b",
   "metadata": {
    "papermill": {
     "duration": 0.003188,
     "end_time": "2024-02-06T22:18:36.294334",
     "exception": false,
     "start_time": "2024-02-06T22:18:36.291146",
     "status": "completed"
    },
    "tags": []
   },
   "source": [
    "# Gaussian"
   ]
  },
  {
   "cell_type": "code",
   "execution_count": 1,
   "id": "7594b5f9",
   "metadata": {
    "execution": {
     "iopub.execute_input": "2024-02-06T22:18:36.301350Z",
     "iopub.status.busy": "2024-02-06T22:18:36.300952Z",
     "iopub.status.idle": "2024-02-06T22:18:38.845074Z",
     "shell.execute_reply": "2024-02-06T22:18:38.843503Z"
    },
    "nbsphinx": "hidden",
    "papermill": {
     "duration": 2.551923,
     "end_time": "2024-02-06T22:18:38.849117",
     "exception": false,
     "start_time": "2024-02-06T22:18:36.297194",
     "status": "completed"
    },
    "tags": []
   },
   "outputs": [],
   "source": [
    "%%capture\n",
    "\n",
    "import numpy as np\n",
    "\n",
    "import matplotlib.pyplot as plt\n",
    "\n",
    "import warnings\n",
    "warnings.simplefilter(\"ignore\")\n",
    "\n",
    "from astromodels.functions.function import _known_functions\n",
    "\n",
    "\n",
    "from jupyterthemes import jtplot\n",
    "jtplot.style(context=\"talk\", fscale=1, ticks=True, grid=False)\n",
    "%matplotlib inline"
   ]
  },
  {
   "cell_type": "code",
   "execution_count": 2,
   "id": "1bee46d7",
   "metadata": {
    "execution": {
     "iopub.execute_input": "2024-02-06T22:18:38.856077Z",
     "iopub.status.busy": "2024-02-06T22:18:38.855693Z",
     "iopub.status.idle": "2024-02-06T22:18:38.861190Z",
     "shell.execute_reply": "2024-02-06T22:18:38.859996Z"
    },
    "nbsphinx": "hidden",
    "papermill": {
     "duration": 0.013142,
     "end_time": "2024-02-06T22:18:38.864811",
     "exception": false,
     "start_time": "2024-02-06T22:18:38.851669",
     "status": "completed"
    },
    "tags": [
     "parameters"
    ]
   },
   "outputs": [],
   "source": [
    "func_name = \"TbAbs\"\n",
    "\n",
    "positive_prior = False\n"
   ]
  },
  {
   "cell_type": "code",
   "execution_count": 3,
   "id": "04a0e2d7",
   "metadata": {
    "execution": {
     "iopub.execute_input": "2024-02-06T22:18:38.871326Z",
     "iopub.status.busy": "2024-02-06T22:18:38.871016Z",
     "iopub.status.idle": "2024-02-06T22:18:38.875745Z",
     "shell.execute_reply": "2024-02-06T22:18:38.874658Z"
    },
    "papermill": {
     "duration": 0.012051,
     "end_time": "2024-02-06T22:18:38.879170",
     "exception": false,
     "start_time": "2024-02-06T22:18:38.867119",
     "status": "completed"
    },
    "tags": [
     "injected-parameters"
    ]
   },
   "outputs": [],
   "source": [
    "# Parameters\n",
    "func_name = \"Gaussian\"\n",
    "positive_prior = False\n"
   ]
  },
  {
   "cell_type": "code",
   "execution_count": 4,
   "id": "c8f299bb",
   "metadata": {
    "execution": {
     "iopub.execute_input": "2024-02-06T22:18:38.885214Z",
     "iopub.status.busy": "2024-02-06T22:18:38.884893Z",
     "iopub.status.idle": "2024-02-06T22:18:38.891791Z",
     "shell.execute_reply": "2024-02-06T22:18:38.890594Z"
    },
    "lines_to_next_cell": 0,
    "nbsphinx": "hidden",
    "papermill": {
     "duration": 0.013718,
     "end_time": "2024-02-06T22:18:38.895188",
     "exception": false,
     "start_time": "2024-02-06T22:18:38.881470",
     "status": "completed"
    },
    "tags": []
   },
   "outputs": [],
   "source": [
    "func = _known_functions[func_name]()\n",
    "\n",
    "if not positive_prior:\n",
    "\n",
    "\tenergy_grid = np.linspace(-5,5,1000)\n",
    "\n",
    "else:\n",
    "    \n",
    "    energy_grid = np.linspace(0,1,1000)\n",
    "    \n",
    "    \n",
    "    \n",
    "    \n",
    "blue = \"#4152E3\"\n",
    "red = \"#E3414B\"\n",
    "green = \"#41E39E\""
   ]
  },
  {
   "cell_type": "markdown",
   "id": "c06d23fb",
   "metadata": {
    "lines_to_next_cell": 0,
    "papermill": {
     "duration": 0.002576,
     "end_time": "2024-02-06T22:18:38.900134",
     "exception": false,
     "start_time": "2024-02-06T22:18:38.897558",
     "status": "completed"
    },
    "tags": []
   },
   "source": [
    "## Description"
   ]
  },
  {
   "cell_type": "code",
   "execution_count": 5,
   "id": "61e4294b",
   "metadata": {
    "execution": {
     "iopub.execute_input": "2024-02-06T22:18:38.907084Z",
     "iopub.status.busy": "2024-02-06T22:18:38.906634Z",
     "iopub.status.idle": "2024-02-06T22:18:38.951369Z",
     "shell.execute_reply": "2024-02-06T22:18:38.949761Z"
    },
    "papermill": {
     "duration": 0.052529,
     "end_time": "2024-02-06T22:18:38.955092",
     "exception": false,
     "start_time": "2024-02-06T22:18:38.902563",
     "status": "completed"
    },
    "tags": []
   },
   "outputs": [
    {
     "data": {
      "text/html": [
       "<ul>\n",
       "\n",
       "<li>description: A Gaussian function</li>\n",
       "\n",
       "<li>formula: $ K \\frac{1}{\\sigma \\sqrt{2 \\pi}}\\exp{\\frac{(x-\\mu)^2}{2~(\\sigma)^2}} $</li>\n",
       "\n",
       "<li>parameters: \n",
       "<ul>\n",
       "\n",
       "<li>F: \n",
       "<ul>\n",
       "\n",
       "<li>value: 1.0</li>\n",
       "\n",
       "<li>desc: Integral between -inf and +inf. Fix this to 1 to obtain a Normal distribution</li>\n",
       "\n",
       "<li>min_value: None</li>\n",
       "\n",
       "<li>max_value: None</li>\n",
       "\n",
       "<li>unit: </li>\n",
       "\n",
       "<li>is_normalization: False</li>\n",
       "\n",
       "<li>delta: 0.1</li>\n",
       "\n",
       "<li>free: True</li>\n",
       "\n",
       "</ul>\n",
       "\n",
       "</li>\n",
       "\n",
       "<li>mu: \n",
       "<ul>\n",
       "\n",
       "<li>value: 0.0</li>\n",
       "\n",
       "<li>desc: Central value</li>\n",
       "\n",
       "<li>min_value: None</li>\n",
       "\n",
       "<li>max_value: None</li>\n",
       "\n",
       "<li>unit: </li>\n",
       "\n",
       "<li>is_normalization: False</li>\n",
       "\n",
       "<li>delta: 0.1</li>\n",
       "\n",
       "<li>free: True</li>\n",
       "\n",
       "</ul>\n",
       "\n",
       "</li>\n",
       "\n",
       "<li>sigma: \n",
       "<ul>\n",
       "\n",
       "<li>value: 1.0</li>\n",
       "\n",
       "<li>desc: standard deviation</li>\n",
       "\n",
       "<li>min_value: 1e-12</li>\n",
       "\n",
       "<li>max_value: None</li>\n",
       "\n",
       "<li>unit: </li>\n",
       "\n",
       "<li>is_normalization: False</li>\n",
       "\n",
       "<li>delta: 0.1</li>\n",
       "\n",
       "<li>free: True</li>\n",
       "\n",
       "</ul>\n",
       "\n",
       "</li>\n",
       "\n",
       "</ul>\n",
       "\n",
       "</li>\n",
       "\n",
       "</ul>\n"
      ],
      "text/plain": [
       "  * description: A Gaussian function\n",
       "  * formula: $ K \\frac{1}{\\sigma \\sqrt{2 \\pi}}\\exp{\\frac{(x-\\mu)^2}{2~(\\sigma)^2}} $\n",
       "  * parameters:\n",
       "    * F:\n",
       "      * value: 1.0\n",
       "      * desc: Integral between -inf and +inf. Fix this to 1 to obtain a Normal distribution\n",
       "      * min_value: null\n",
       "      * max_value: null\n",
       "      * unit: ''\n",
       "      * is_normalization: false\n",
       "      * delta: 0.1\n",
       "      * free: true\n",
       "    * mu:\n",
       "      * value: 0.0\n",
       "      * desc: Central value\n",
       "      * min_value: null\n",
       "      * max_value: null\n",
       "      * unit: ''\n",
       "      * is_normalization: false\n",
       "      * delta: 0.1\n",
       "      * free: true\n",
       "    * sigma:\n",
       "      * value: 1.0\n",
       "      * desc: standard deviation\n",
       "      * min_value: 1.0e-12\n",
       "      * max_value: null\n",
       "      * unit: ''\n",
       "      * is_normalization: false\n",
       "      * delta: 0.1\n",
       "      * free: true"
      ]
     },
     "metadata": {},
     "output_type": "display_data"
    }
   ],
   "source": [
    "func.display()"
   ]
  },
  {
   "cell_type": "markdown",
   "id": "742cc43d",
   "metadata": {
    "papermill": {
     "duration": 0.002597,
     "end_time": "2024-02-06T22:18:38.960526",
     "exception": false,
     "start_time": "2024-02-06T22:18:38.957929",
     "status": "completed"
    },
    "tags": []
   },
   "source": [
    "## Shape \n",
    "\n",
    "The shape of the function. \n",
    "\n",
    "*If this is not a photon model but a prior or linear function then ignore the units as these docs are auto-generated*"
   ]
  },
  {
   "cell_type": "code",
   "execution_count": 6,
   "id": "ad4923ce",
   "metadata": {
    "execution": {
     "iopub.execute_input": "2024-02-06T22:18:38.967014Z",
     "iopub.status.busy": "2024-02-06T22:18:38.966695Z",
     "iopub.status.idle": "2024-02-06T22:18:39.179289Z",
     "shell.execute_reply": "2024-02-06T22:18:39.178136Z"
    },
    "papermill": {
     "duration": 0.22029,
     "end_time": "2024-02-06T22:18:39.183269",
     "exception": false,
     "start_time": "2024-02-06T22:18:38.962979",
     "status": "completed"
    },
    "tags": [
     "nbsphinx-thumbnail"
    ]
   },
   "outputs": [
    {
     "data": {
      "text/plain": [
       "Text(0, 0.5, 'probability')"
      ]
     },
     "execution_count": 6,
     "metadata": {},
     "output_type": "execute_result"
    },
    {
     "data": {
      "image/png": "[encoded data removed]",
      "text/plain": [
       "<Figure size 1040x910 with 1 Axes>"
      ]
     },
     "metadata": {},
     "output_type": "display_data"
    }
   ],
   "source": [
    "fig, ax = plt.subplots()\n",
    "\n",
    "\n",
    "ax.plot(energy_grid, func(energy_grid), color=blue, lw=3)\n",
    "\n",
    "ax.set_xlabel(\"x\")\n",
    "ax.set_ylabel(\"probability\")\n"
   ]
  },
  {
   "cell_type": "markdown",
   "id": "b588d791",
   "metadata": {
    "papermill": {
     "duration": 0.003018,
     "end_time": "2024-02-06T22:18:39.189444",
     "exception": false,
     "start_time": "2024-02-06T22:18:39.186426",
     "status": "completed"
    },
    "tags": []
   },
   "source": [
    "## Random Number Generation\n",
    "\n",
    "This is how we can generate random numbers from the prior.\n"
   ]
  },
  {
   "cell_type": "code",
   "execution_count": 7,
   "id": "0c59926a",
   "metadata": {
    "execution": {
     "iopub.execute_input": "2024-02-06T22:18:39.197130Z",
     "iopub.status.busy": "2024-02-06T22:18:39.196797Z",
     "iopub.status.idle": "2024-02-06T22:18:39.460907Z",
     "shell.execute_reply": "2024-02-06T22:18:39.459493Z"
    },
    "papermill": {
     "duration": 0.272833,
     "end_time": "2024-02-06T22:18:39.465236",
     "exception": false,
     "start_time": "2024-02-06T22:18:39.192403",
     "status": "completed"
    },
    "tags": []
   },
   "outputs": [
    {
     "data": {
      "text/plain": [
       "Text(0, 0.5, 'N')"
      ]
     },
     "execution_count": 7,
     "metadata": {},
     "output_type": "execute_result"
    },
    {
     "data": {
      "image/png": "[encoded data removed]",
      "text/plain": [
       "<Figure size 1040x910 with 1 Axes>"
      ]
     },
     "metadata": {},
     "output_type": "display_data"
    }
   ],
   "source": [
    "\n",
    "\n",
    "u = np.random.uniform(0,1, size=5000)\n",
    "\n",
    "draws = [func.from_unit_cube(x) for x in u]\n",
    "\n",
    "\n",
    "fig, ax = plt.subplots()\n",
    "\n",
    "\n",
    "ax.hist(draws, color=green, bins=50)\n",
    "\n",
    "ax.set_xlabel(\"value\")\n",
    "ax.set_ylabel(\"N\")\n",
    "\n"
   ]
  }
 ],
 "metadata": {
  "jupytext": {
   "formats": "ipynb,md"
  },
  "kernelspec": {
   "display_name": "Python 3 (ipykernel)",
   "language": "python",
   "name": "python3"
  },
  "language_info": {
   "codemirror_mode": {
    "name": "ipython",
    "version": 3
   },
   "file_extension": ".py",
   "mimetype": "text/x-python",
   "name": "python",
   "nbconvert_exporter": "python",
   "pygments_lexer": "ipython3",
   "version": "3.9.18"
  },
  "papermill": {
   "default_parameters": {},
   "duration": 4.718712,
   "end_time": "2024-02-06T22:18:39.992689",
   "environment_variables": {},
   "exception": null,
   "input_path": "Gaussian.ipynb",
   "output_path": "/Users/runner/work/astromodels/astromodels/docs/notebooks/Gaussian.ipynb",
   "parameters": {
    "func_name": "Gaussian",
    "positive_prior": false
   },
   "start_time": "2024-02-06T22:18:35.273977",
   "version": "2.5.0"
  }
 },
 "nbformat": 4,
 "nbformat_minor": 5
}
