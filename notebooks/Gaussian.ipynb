{
 "cells": [
  {
   "cell_type": "markdown",
   "id": "90f1830b",
   "metadata": {
    "papermill": {
     "duration": 0.004297,
     "end_time": "2022-09-28T23:38:59.226896",
     "exception": false,
     "start_time": "2022-09-28T23:38:59.222599",
     "status": "completed"
    },
    "tags": []
   },
   "source": [
    "# Gaussian"
   ]
  },
  {
   "cell_type": "code",
   "execution_count": 1,
   "id": "d3cd2188",
   "metadata": {
    "execution": {
     "iopub.execute_input": "2022-09-28T23:38:59.235686Z",
     "iopub.status.busy": "2022-09-28T23:38:59.235240Z",
     "iopub.status.idle": "2022-09-28T23:39:03.380497Z",
     "shell.execute_reply": "2022-09-28T23:39:03.379343Z"
    },
    "nbsphinx": "hidden",
    "papermill": {
     "duration": 4.153325,
     "end_time": "2022-09-28T23:39:03.383776",
     "exception": false,
     "start_time": "2022-09-28T23:38:59.230451",
     "status": "completed"
    },
    "tags": []
   },
   "outputs": [],
   "source": [
    "%%capture\n",
    "\n",
    "import numpy as np\n",
    "\n",
    "import matplotlib.pyplot as plt\n",
    "\n",
    "import warnings\n",
    "warnings.simplefilter(\"ignore\")\n",
    "\n",
    "from astromodels.functions.function import _known_functions\n",
    "\n",
    "\n",
    "from jupyterthemes import jtplot\n",
    "jtplot.style(context=\"talk\", fscale=1, ticks=True, grid=False)\n",
    "%matplotlib inline"
   ]
  },
  {
   "cell_type": "code",
   "execution_count": 2,
   "id": "d277d447",
   "metadata": {
    "execution": {
     "iopub.execute_input": "2022-09-28T23:39:03.392131Z",
     "iopub.status.busy": "2022-09-28T23:39:03.391718Z",
     "iopub.status.idle": "2022-09-28T23:39:03.399623Z",
     "shell.execute_reply": "2022-09-28T23:39:03.398608Z"
    },
    "nbsphinx": "hidden",
    "papermill": {
     "duration": 0.01529,
     "end_time": "2022-09-28T23:39:03.402512",
     "exception": false,
     "start_time": "2022-09-28T23:39:03.387222",
     "status": "completed"
    },
    "tags": [
     "parameters"
    ]
   },
   "outputs": [],
   "source": [
    "func_name = \"TbAbs\"\n",
    "\n",
    "positive_prior = False\n"
   ]
  },
  {
   "cell_type": "code",
   "execution_count": 3,
   "id": "97bfef2c",
   "metadata": {
    "execution": {
     "iopub.execute_input": "2022-09-28T23:39:03.410106Z",
     "iopub.status.busy": "2022-09-28T23:39:03.409699Z",
     "iopub.status.idle": "2022-09-28T23:39:03.418317Z",
     "shell.execute_reply": "2022-09-28T23:39:03.417263Z"
    },
    "papermill": {
     "duration": 0.015694,
     "end_time": "2022-09-28T23:39:03.421174",
     "exception": false,
     "start_time": "2022-09-28T23:39:03.405480",
     "status": "completed"
    },
    "tags": [
     "injected-parameters"
    ]
   },
   "outputs": [],
   "source": [
    "# Parameters\n",
    "func_name = \"Gaussian\"\n",
    "positive_prior = False\n"
   ]
  },
  {
   "cell_type": "code",
   "execution_count": 4,
   "id": "653555b7",
   "metadata": {
    "execution": {
     "iopub.execute_input": "2022-09-28T23:39:03.429351Z",
     "iopub.status.busy": "2022-09-28T23:39:03.428952Z",
     "iopub.status.idle": "2022-09-28T23:39:03.435618Z",
     "shell.execute_reply": "2022-09-28T23:39:03.434663Z"
    },
    "lines_to_next_cell": 0,
    "nbsphinx": "hidden",
    "papermill": {
     "duration": 0.013628,
     "end_time": "2022-09-28T23:39:03.438460",
     "exception": false,
     "start_time": "2022-09-28T23:39:03.424832",
     "status": "completed"
    },
    "tags": []
   },
   "outputs": [],
   "source": [
    "func = _known_functions[func_name]()\n",
    "\n",
    "if not positive_prior:\n",
    "\n",
    "\tenergy_grid = np.linspace(-5,5,1000)\n",
    "\n",
    "else:\n",
    "    \n",
    "    energy_grid = np.linspace(0,1,1000)\n",
    "    \n",
    "    \n",
    "    \n",
    "    \n",
    "blue = \"#4152E3\"\n",
    "red = \"#E3414B\"\n",
    "green = \"#41E39E\""
   ]
  },
  {
   "cell_type": "markdown",
   "id": "1902bf0f",
   "metadata": {
    "lines_to_next_cell": 0,
    "papermill": {
     "duration": 0.003237,
     "end_time": "2022-09-28T23:39:03.444807",
     "exception": false,
     "start_time": "2022-09-28T23:39:03.441570",
     "status": "completed"
    },
    "tags": []
   },
   "source": [
    "## Description"
   ]
  },
  {
   "cell_type": "code",
   "execution_count": 5,
   "id": "41a9c278",
   "metadata": {
    "execution": {
     "iopub.execute_input": "2022-09-28T23:39:03.452560Z",
     "iopub.status.busy": "2022-09-28T23:39:03.452136Z",
     "iopub.status.idle": "2022-09-28T23:39:03.462541Z",
     "shell.execute_reply": "2022-09-28T23:39:03.461342Z"
    },
    "papermill": {
     "duration": 0.017833,
     "end_time": "2022-09-28T23:39:03.465607",
     "exception": false,
     "start_time": "2022-09-28T23:39:03.447774",
     "status": "completed"
    },
    "tags": []
   },
   "outputs": [
    {
     "data": {
      "text/html": [
       "<ul>\n",
       "\n",
       "<li>description: A Gaussian function</li>\n",
       "\n",
       "<li>formula: $ K \\frac{1}{\\sigma \\sqrt{2 \\pi}}\\exp{\\frac{(x-\\mu)^2}{2~(\\sigma)^2}} $</li>\n",
       "\n",
       "<li>parameters: \n",
       "<ul>\n",
       "\n",
       "<li>F: \n",
       "<ul>\n",
       "\n",
       "<li>value: 1.0</li>\n",
       "\n",
       "<li>desc: Integral between -inf and +inf. Fix this to 1 to obtain a Normal distribution</li>\n",
       "\n",
       "<li>min_value: None</li>\n",
       "\n",
       "<li>max_value: None</li>\n",
       "\n",
       "<li>unit: </li>\n",
       "\n",
       "<li>is_normalization: False</li>\n",
       "\n",
       "<li>delta: 0.1</li>\n",
       "\n",
       "<li>free: True</li>\n",
       "\n",
       "</ul>\n",
       "\n",
       "</li>\n",
       "\n",
       "<li>mu: \n",
       "<ul>\n",
       "\n",
       "<li>value: 0.0</li>\n",
       "\n",
       "<li>desc: Central value</li>\n",
       "\n",
       "<li>min_value: None</li>\n",
       "\n",
       "<li>max_value: None</li>\n",
       "\n",
       "<li>unit: </li>\n",
       "\n",
       "<li>is_normalization: False</li>\n",
       "\n",
       "<li>delta: 0.1</li>\n",
       "\n",
       "<li>free: True</li>\n",
       "\n",
       "</ul>\n",
       "\n",
       "</li>\n",
       "\n",
       "<li>sigma: \n",
       "<ul>\n",
       "\n",
       "<li>value: 1.0</li>\n",
       "\n",
       "<li>desc: standard deviation</li>\n",
       "\n",
       "<li>min_value: 1e-12</li>\n",
       "\n",
       "<li>max_value: None</li>\n",
       "\n",
       "<li>unit: </li>\n",
       "\n",
       "<li>is_normalization: False</li>\n",
       "\n",
       "<li>delta: 0.1</li>\n",
       "\n",
       "<li>free: True</li>\n",
       "\n",
       "</ul>\n",
       "\n",
       "</li>\n",
       "\n",
       "</ul>\n",
       "\n",
       "</li>\n",
       "\n",
       "</ul>\n"
      ],
      "text/plain": [
       "  * description: A Gaussian function\n",
       "  * formula: $ K \\frac{1}{\\sigma \\sqrt{2 \\pi}}\\exp{\\frac{(x-\\mu)^2}{2~(\\sigma)^2}} $\n",
       "  * parameters:\n",
       "    * F:\n",
       "      * value: 1.0\n",
       "      * desc: Integral between -inf and +inf. Fix this to 1 to obtain a Normal distribution\n",
       "      * min_value: null\n",
       "      * max_value: null\n",
       "      * unit: ''\n",
       "      * is_normalization: false\n",
       "      * delta: 0.1\n",
       "      * free: true\n",
       "    * mu:\n",
       "      * value: 0.0\n",
       "      * desc: Central value\n",
       "      * min_value: null\n",
       "      * max_value: null\n",
       "      * unit: ''\n",
       "      * is_normalization: false\n",
       "      * delta: 0.1\n",
       "      * free: true\n",
       "    * sigma:\n",
       "      * value: 1.0\n",
       "      * desc: standard deviation\n",
       "      * min_value: 1.0e-12\n",
       "      * max_value: null\n",
       "      * unit: ''\n",
       "      * is_normalization: false\n",
       "      * delta: 0.1\n",
       "      * free: true"
      ]
     },
     "metadata": {},
     "output_type": "display_data"
    }
   ],
   "source": [
    "func.display()"
   ]
  },
  {
   "cell_type": "markdown",
   "id": "77078dbd",
   "metadata": {
    "papermill": {
     "duration": 0.003193,
     "end_time": "2022-09-28T23:39:03.472377",
     "exception": false,
     "start_time": "2022-09-28T23:39:03.469184",
     "status": "completed"
    },
    "tags": []
   },
   "source": [
    "## Shape \n",
    "\n",
    "The shape of the function. \n",
    "\n",
    "*If this is not a photon model but a prior or linear function then ignore the units as these docs are auto-generated*"
   ]
  },
  {
   "cell_type": "code",
   "execution_count": 6,
   "id": "55e53af0",
   "metadata": {
    "execution": {
     "iopub.execute_input": "2022-09-28T23:39:03.480626Z",
     "iopub.status.busy": "2022-09-28T23:39:03.480213Z",
     "iopub.status.idle": "2022-09-28T23:39:03.894280Z",
     "shell.execute_reply": "2022-09-28T23:39:03.892648Z"
    },
    "papermill": {
     "duration": 0.422893,
     "end_time": "2022-09-28T23:39:03.898282",
     "exception": false,
     "start_time": "2022-09-28T23:39:03.475389",
     "status": "completed"
    },
    "tags": [
     "nbsphinx-thumbnail"
    ]
   },
   "outputs": [
    {
     "data": {
      "text/plain": [
       "Text(0, 0.5, 'probability')"
      ]
     },
     "execution_count": 6,
     "metadata": {},
     "output_type": "execute_result"
    },
    {
     "data": {
      "image/png": "[encoded data removed]",
      "text/plain": [
       "<Figure size 1040x910 with 1 Axes>"
      ]
     },
     "metadata": {},
     "output_type": "display_data"
    }
   ],
   "source": [
    "fig, ax = plt.subplots()\n",
    "\n",
    "\n",
    "ax.plot(energy_grid, func(energy_grid), color=blue, lw=3)\n",
    "\n",
    "ax.set_xlabel(\"x\")\n",
    "ax.set_ylabel(\"probability\")\n"
   ]
  },
  {
   "cell_type": "markdown",
   "id": "7aba24a0",
   "metadata": {
    "papermill": {
     "duration": 0.004744,
     "end_time": "2022-09-28T23:39:03.909462",
     "exception": false,
     "start_time": "2022-09-28T23:39:03.904718",
     "status": "completed"
    },
    "tags": []
   },
   "source": [
    "## Random Number Generation\n",
    "\n",
    "This is how we can generate random numbers from the prior.\n"
   ]
  },
  {
   "cell_type": "code",
   "execution_count": 7,
   "id": "539c89bc",
   "metadata": {
    "execution": {
     "iopub.execute_input": "2022-09-28T23:39:03.922038Z",
     "iopub.status.busy": "2022-09-28T23:39:03.921609Z",
     "iopub.status.idle": "2022-09-28T23:39:04.377637Z",
     "shell.execute_reply": "2022-09-28T23:39:04.376421Z"
    },
    "papermill": {
     "duration": 0.467454,
     "end_time": "2022-09-28T23:39:04.381037",
     "exception": false,
     "start_time": "2022-09-28T23:39:03.913583",
     "status": "completed"
    },
    "tags": []
   },
   "outputs": [
    {
     "data": {
      "text/plain": [
       "Text(0, 0.5, 'N')"
      ]
     },
     "execution_count": 7,
     "metadata": {},
     "output_type": "execute_result"
    },
    {
     "data": {
      "image/png": "[encoded data removed]",
      "text/plain": [
       "<Figure size 1040x910 with 1 Axes>"
      ]
     },
     "metadata": {},
     "output_type": "display_data"
    }
   ],
   "source": [
    "\n",
    "\n",
    "u = np.random.uniform(0,1, size=5000)\n",
    "\n",
    "draws = [func.from_unit_cube(x) for x in u]\n",
    "\n",
    "\n",
    "fig, ax = plt.subplots()\n",
    "\n",
    "\n",
    "ax.hist(draws, color=green, bins=50)\n",
    "\n",
    "ax.set_xlabel(\"value\")\n",
    "ax.set_ylabel(\"N\")\n",
    "\n"
   ]
  }
 ],
 "metadata": {
  "jupytext": {
   "formats": "ipynb,md"
  },
  "kernelspec": {
   "display_name": "Python 3 (ipykernel)",
   "language": "python",
   "name": "python3"
  },
  "language_info": {
   "codemirror_mode": {
    "name": "ipython",
    "version": 3
   },
   "file_extension": ".py",
   "mimetype": "text/x-python",
   "name": "python",
   "nbconvert_exporter": "python",
   "pygments_lexer": "ipython3",
   "version": "3.9.14"
  },
  "papermill": {
   "default_parameters": {},
   "duration": 7.244968,
   "end_time": "2022-09-28T23:39:05.188621",
   "environment_variables": {},
   "exception": null,
   "input_path": "Gaussian.ipynb",
   "output_path": "/Users/runner/work/astromodels/astromodels/docs/notebooks/Gaussian.ipynb",
   "parameters": {
    "func_name": "Gaussian",
    "positive_prior": false
   },
   "start_time": "2022-09-28T23:38:57.943653",
   "version": "2.4.0"
  }
 },
 "nbformat": 4,
 "nbformat_minor": 5
}
