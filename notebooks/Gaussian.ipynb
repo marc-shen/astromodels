{
 "cells": [
  {
   "cell_type": "markdown",
   "id": "d0892202",
   "metadata": {
    "papermill": {
     "duration": 0.003793,
     "end_time": "2024-09-10T15:23:40.495964",
     "exception": false,
     "start_time": "2024-09-10T15:23:40.492171",
     "status": "completed"
    },
    "tags": []
   },
   "source": [
    "# Gaussian"
   ]
  },
  {
   "cell_type": "code",
   "execution_count": 1,
   "id": "974ee77c",
   "metadata": {
    "execution": {
     "iopub.execute_input": "2024-09-10T15:23:40.507810Z",
     "iopub.status.busy": "2024-09-10T15:23:40.507018Z",
     "iopub.status.idle": "2024-09-10T15:23:42.003520Z",
     "shell.execute_reply": "2024-09-10T15:23:42.002963Z"
    },
    "nbsphinx": "hidden",
    "papermill": {
     "duration": 1.505461,
     "end_time": "2024-09-10T15:23:42.005177",
     "exception": false,
     "start_time": "2024-09-10T15:23:40.499716",
     "status": "completed"
    },
    "tags": []
   },
   "outputs": [],
   "source": [
    "%%capture\n",
    "\n",
    "import numpy as np\n",
    "\n",
    "import matplotlib.pyplot as plt\n",
    "\n",
    "import warnings\n",
    "warnings.simplefilter(\"ignore\")\n",
    "\n",
    "from astromodels.functions.function import _known_functions\n",
    "\n",
    "\n",
    "from jupyterthemes import jtplot\n",
    "jtplot.style(context=\"talk\", fscale=1, ticks=True, grid=False)\n",
    "%matplotlib inline"
   ]
  },
  {
   "cell_type": "code",
   "execution_count": 2,
   "id": "9e292892",
   "metadata": {
    "execution": {
     "iopub.execute_input": "2024-09-10T15:23:42.008603Z",
     "iopub.status.busy": "2024-09-10T15:23:42.008216Z",
     "iopub.status.idle": "2024-09-10T15:23:42.014948Z",
     "shell.execute_reply": "2024-09-10T15:23:42.014503Z"
    },
    "nbsphinx": "hidden",
    "papermill": {
     "duration": 0.009826,
     "end_time": "2024-09-10T15:23:42.016327",
     "exception": false,
     "start_time": "2024-09-10T15:23:42.006501",
     "status": "completed"
    },
    "tags": [
     "parameters"
    ]
   },
   "outputs": [],
   "source": [
    "func_name = \"TbAbs\"\n",
    "\n",
    "positive_prior = False\n"
   ]
  },
  {
   "cell_type": "code",
   "execution_count": 3,
   "id": "1c743176",
   "metadata": {
    "execution": {
     "iopub.execute_input": "2024-09-10T15:23:42.019306Z",
     "iopub.status.busy": "2024-09-10T15:23:42.019143Z",
     "iopub.status.idle": "2024-09-10T15:23:42.027271Z",
     "shell.execute_reply": "2024-09-10T15:23:42.026812Z"
    },
    "papermill": {
     "duration": 0.011083,
     "end_time": "2024-09-10T15:23:42.028578",
     "exception": false,
     "start_time": "2024-09-10T15:23:42.017495",
     "status": "completed"
    },
    "tags": [
     "injected-parameters"
    ]
   },
   "outputs": [],
   "source": [
    "# Parameters\n",
    "func_name = \"Gaussian\"\n",
    "positive_prior = False\n"
   ]
  },
  {
   "cell_type": "code",
   "execution_count": 4,
   "id": "9c4342f2",
   "metadata": {
    "execution": {
     "iopub.execute_input": "2024-09-10T15:23:42.031507Z",
     "iopub.status.busy": "2024-09-10T15:23:42.031352Z",
     "iopub.status.idle": "2024-09-10T15:23:42.039405Z",
     "shell.execute_reply": "2024-09-10T15:23:42.038948Z"
    },
    "lines_to_next_cell": 0,
    "nbsphinx": "hidden",
    "papermill": {
     "duration": 0.011111,
     "end_time": "2024-09-10T15:23:42.040825",
     "exception": false,
     "start_time": "2024-09-10T15:23:42.029714",
     "status": "completed"
    },
    "tags": []
   },
   "outputs": [],
   "source": [
    "func = _known_functions[func_name]()\n",
    "\n",
    "if not positive_prior:\n",
    "\n",
    "\tenergy_grid = np.linspace(-5,5,1000)\n",
    "\n",
    "else:\n",
    "    \n",
    "    energy_grid = np.linspace(0,1,1000)\n",
    "    \n",
    "    \n",
    "    \n",
    "    \n",
    "blue = \"#4152E3\"\n",
    "red = \"#E3414B\"\n",
    "green = \"#41E39E\""
   ]
  },
  {
   "cell_type": "markdown",
   "id": "89f62aea",
   "metadata": {
    "lines_to_next_cell": 0,
    "papermill": {
     "duration": 0.001029,
     "end_time": "2024-09-10T15:23:42.043038",
     "exception": false,
     "start_time": "2024-09-10T15:23:42.042009",
     "status": "completed"
    },
    "tags": []
   },
   "source": [
    "## Description"
   ]
  },
  {
   "cell_type": "code",
   "execution_count": 5,
   "id": "de4437c3",
   "metadata": {
    "execution": {
     "iopub.execute_input": "2024-09-10T15:23:42.045849Z",
     "iopub.status.busy": "2024-09-10T15:23:42.045682Z",
     "iopub.status.idle": "2024-09-10T15:23:42.049969Z",
     "shell.execute_reply": "2024-09-10T15:23:42.049584Z"
    },
    "papermill": {
     "duration": 0.007241,
     "end_time": "2024-09-10T15:23:42.051340",
     "exception": false,
     "start_time": "2024-09-10T15:23:42.044099",
     "status": "completed"
    },
    "tags": []
   },
   "outputs": [
    {
     "data": {
      "text/html": [
       "<ul>\n",
       "\n",
       "<li>description: A Gaussian function</li>\n",
       "\n",
       "<li>formula: $ K \\frac{1}{\\sigma \\sqrt{2 \\pi}}\\exp{\\frac{(x-\\mu)^2}{2~(\\sigma)^2}} $</li>\n",
       "\n",
       "<li>parameters: \n",
       "<ul>\n",
       "\n",
       "<li>F: \n",
       "<ul>\n",
       "\n",
       "<li>value: 1.0</li>\n",
       "\n",
       "<li>desc: Integral between -inf and +inf. Fix this to 1 to obtain a Normal distribution</li>\n",
       "\n",
       "<li>min_value: None</li>\n",
       "\n",
       "<li>max_value: None</li>\n",
       "\n",
       "<li>unit: </li>\n",
       "\n",
       "<li>is_normalization: False</li>\n",
       "\n",
       "<li>delta: 0.1</li>\n",
       "\n",
       "<li>free: True</li>\n",
       "\n",
       "</ul>\n",
       "\n",
       "</li>\n",
       "\n",
       "<li>mu: \n",
       "<ul>\n",
       "\n",
       "<li>value: 0.0</li>\n",
       "\n",
       "<li>desc: Central value</li>\n",
       "\n",
       "<li>min_value: None</li>\n",
       "\n",
       "<li>max_value: None</li>\n",
       "\n",
       "<li>unit: </li>\n",
       "\n",
       "<li>is_normalization: False</li>\n",
       "\n",
       "<li>delta: 0.1</li>\n",
       "\n",
       "<li>free: True</li>\n",
       "\n",
       "</ul>\n",
       "\n",
       "</li>\n",
       "\n",
       "<li>sigma: \n",
       "<ul>\n",
       "\n",
       "<li>value: 1.0</li>\n",
       "\n",
       "<li>desc: standard deviation</li>\n",
       "\n",
       "<li>min_value: 1e-12</li>\n",
       "\n",
       "<li>max_value: None</li>\n",
       "\n",
       "<li>unit: </li>\n",
       "\n",
       "<li>is_normalization: False</li>\n",
       "\n",
       "<li>delta: 0.1</li>\n",
       "\n",
       "<li>free: True</li>\n",
       "\n",
       "</ul>\n",
       "\n",
       "</li>\n",
       "\n",
       "</ul>\n",
       "\n",
       "</li>\n",
       "\n",
       "</ul>\n"
      ],
      "text/plain": [
       "  * description: A Gaussian function\n",
       "  * formula: $ K \\frac{1}{\\sigma \\sqrt{2 \\pi}}\\exp{\\frac{(x-\\mu)^2}{2~(\\sigma)^2}} $\n",
       "  * parameters:\n",
       "    * F:\n",
       "      * value: 1.0\n",
       "      * desc: Integral between -inf and +inf. Fix this to 1 to obtain a Normal distribution\n",
       "      * min_value: null\n",
       "      * max_value: null\n",
       "      * unit: ''\n",
       "      * is_normalization: false\n",
       "      * delta: 0.1\n",
       "      * free: true\n",
       "    * mu:\n",
       "      * value: 0.0\n",
       "      * desc: Central value\n",
       "      * min_value: null\n",
       "      * max_value: null\n",
       "      * unit: ''\n",
       "      * is_normalization: false\n",
       "      * delta: 0.1\n",
       "      * free: true\n",
       "    * sigma:\n",
       "      * value: 1.0\n",
       "      * desc: standard deviation\n",
       "      * min_value: 1.0e-12\n",
       "      * max_value: null\n",
       "      * unit: ''\n",
       "      * is_normalization: false\n",
       "      * delta: 0.1\n",
       "      * free: true"
      ]
     },
     "metadata": {},
     "output_type": "display_data"
    }
   ],
   "source": [
    "func.display()"
   ]
  },
  {
   "cell_type": "markdown",
   "id": "33fdc8ca",
   "metadata": {
    "papermill": {
     "duration": 0.001156,
     "end_time": "2024-09-10T15:23:42.053793",
     "exception": false,
     "start_time": "2024-09-10T15:23:42.052637",
     "status": "completed"
    },
    "tags": []
   },
   "source": [
    "## Shape \n",
    "\n",
    "The shape of the function. \n",
    "\n",
    "*If this is not a photon model but a prior or linear function then ignore the units as these docs are auto-generated*"
   ]
  },
  {
   "cell_type": "code",
   "execution_count": 6,
   "id": "fc892a91",
   "metadata": {
    "execution": {
     "iopub.execute_input": "2024-09-10T15:23:42.056773Z",
     "iopub.status.busy": "2024-09-10T15:23:42.056613Z",
     "iopub.status.idle": "2024-09-10T15:23:42.165474Z",
     "shell.execute_reply": "2024-09-10T15:23:42.164593Z"
    },
    "papermill": {
     "duration": 0.11188,
     "end_time": "2024-09-10T15:23:42.166775",
     "exception": false,
     "start_time": "2024-09-10T15:23:42.054895",
     "status": "completed"
    },
    "tags": [
     "nbsphinx-thumbnail"
    ]
   },
   "outputs": [
    {
     "data": {
      "text/plain": [
       "Text(0, 0.5, 'probability')"
      ]
     },
     "execution_count": 6,
     "metadata": {},
     "output_type": "execute_result"
    },
    {
     "data": {
      "image/png": "[encoded data removed]",
      "text/plain": [
       "<Figure size 1040x910 with 1 Axes>"
      ]
     },
     "metadata": {},
     "output_type": "display_data"
    }
   ],
   "source": [
    "fig, ax = plt.subplots()\n",
    "\n",
    "\n",
    "ax.plot(energy_grid, func(energy_grid), color=blue, lw=3)\n",
    "\n",
    "ax.set_xlabel(\"x\")\n",
    "ax.set_ylabel(\"probability\")\n"
   ]
  },
  {
   "cell_type": "markdown",
   "id": "5845c6db",
   "metadata": {
    "papermill": {
     "duration": 0.001506,
     "end_time": "2024-09-10T15:23:42.170425",
     "exception": false,
     "start_time": "2024-09-10T15:23:42.168919",
     "status": "completed"
    },
    "tags": []
   },
   "source": [
    "## Random Number Generation\n",
    "\n",
    "This is how we can generate random numbers from the prior.\n"
   ]
  },
  {
   "cell_type": "code",
   "execution_count": 7,
   "id": "23ea695e",
   "metadata": {
    "execution": {
     "iopub.execute_input": "2024-09-10T15:23:42.174222Z",
     "iopub.status.busy": "2024-09-10T15:23:42.174052Z",
     "iopub.status.idle": "2024-09-10T15:23:42.293235Z",
     "shell.execute_reply": "2024-09-10T15:23:42.292833Z"
    },
    "papermill": {
     "duration": 0.12289,
     "end_time": "2024-09-10T15:23:42.294826",
     "exception": false,
     "start_time": "2024-09-10T15:23:42.171936",
     "status": "completed"
    },
    "tags": []
   },
   "outputs": [
    {
     "data": {
      "text/plain": [
       "Text(0, 0.5, 'N')"
      ]
     },
     "execution_count": 7,
     "metadata": {},
     "output_type": "execute_result"
    },
    {
     "data": {
      "image/png": "[encoded data removed]",
      "text/plain": [
       "<Figure size 1040x910 with 1 Axes>"
      ]
     },
     "metadata": {},
     "output_type": "display_data"
    }
   ],
   "source": [
    "\n",
    "\n",
    "u = np.random.uniform(0,1, size=5000)\n",
    "\n",
    "draws = [func.from_unit_cube(x) for x in u]\n",
    "\n",
    "\n",
    "fig, ax = plt.subplots()\n",
    "\n",
    "\n",
    "ax.hist(draws, color=green, bins=50)\n",
    "\n",
    "ax.set_xlabel(\"value\")\n",
    "ax.set_ylabel(\"N\")\n",
    "\n"
   ]
  }
 ],
 "metadata": {
  "jupytext": {
   "formats": "ipynb,md"
  },
  "kernelspec": {
   "display_name": "Python 3 (ipykernel)",
   "language": "python",
   "name": "python3"
  },
  "language_info": {
   "codemirror_mode": {
    "name": "ipython",
    "version": 3
   },
   "file_extension": ".py",
   "mimetype": "text/x-python",
   "name": "python",
   "nbconvert_exporter": "python",
   "pygments_lexer": "ipython3",
   "version": "3.9.13"
  },
  "papermill": {
   "default_parameters": {},
   "duration": 3.004032,
   "end_time": "2024-09-10T15:23:42.743966",
   "environment_variables": {},
   "exception": null,
   "input_path": "Gaussian.ipynb",
   "output_path": "/Users/runner/work/astromodels/astromodels/docs/notebooks/Gaussian.ipynb",
   "parameters": {
    "func_name": "Gaussian",
    "positive_prior": false
   },
   "start_time": "2024-09-10T15:23:39.739934",
   "version": "2.6.0"
  }
 },
 "nbformat": 4,
 "nbformat_minor": 5
}
