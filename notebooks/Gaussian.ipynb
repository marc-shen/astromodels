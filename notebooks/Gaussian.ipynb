{
 "cells": [
  {
   "cell_type": "markdown",
   "id": "8d5901f9",
   "metadata": {
    "papermill": {
     "duration": 0.001878,
     "end_time": "2024-05-08T19:22:31.165576",
     "exception": false,
     "start_time": "2024-05-08T19:22:31.163698",
     "status": "completed"
    },
    "tags": []
   },
   "source": [
    "# Gaussian"
   ]
  },
  {
   "cell_type": "code",
   "execution_count": 1,
   "id": "6e3e80cf",
   "metadata": {
    "execution": {
     "iopub.execute_input": "2024-05-08T19:22:31.169171Z",
     "iopub.status.busy": "2024-05-08T19:22:31.168950Z",
     "iopub.status.idle": "2024-05-08T19:22:32.865319Z",
     "shell.execute_reply": "2024-05-08T19:22:32.864639Z"
    },
    "nbsphinx": "hidden",
    "papermill": {
     "duration": 1.700395,
     "end_time": "2024-05-08T19:22:32.867238",
     "exception": false,
     "start_time": "2024-05-08T19:22:31.166843",
     "status": "completed"
    },
    "tags": []
   },
   "outputs": [],
   "source": [
    "%%capture\n",
    "\n",
    "import numpy as np\n",
    "\n",
    "import matplotlib.pyplot as plt\n",
    "\n",
    "import warnings\n",
    "warnings.simplefilter(\"ignore\")\n",
    "\n",
    "from astromodels.functions.function import _known_functions\n",
    "\n",
    "\n",
    "from jupyterthemes import jtplot\n",
    "jtplot.style(context=\"talk\", fscale=1, ticks=True, grid=False)\n",
    "%matplotlib inline"
   ]
  },
  {
   "cell_type": "code",
   "execution_count": 2,
   "id": "1d5f0ef9",
   "metadata": {
    "execution": {
     "iopub.execute_input": "2024-05-08T19:22:32.870969Z",
     "iopub.status.busy": "2024-05-08T19:22:32.870582Z",
     "iopub.status.idle": "2024-05-08T19:22:32.873299Z",
     "shell.execute_reply": "2024-05-08T19:22:32.872765Z"
    },
    "nbsphinx": "hidden",
    "papermill": {
     "duration": 0.006579,
     "end_time": "2024-05-08T19:22:32.875325",
     "exception": false,
     "start_time": "2024-05-08T19:22:32.868746",
     "status": "completed"
    },
    "tags": [
     "parameters"
    ]
   },
   "outputs": [],
   "source": [
    "func_name = \"TbAbs\"\n",
    "\n",
    "positive_prior = False\n"
   ]
  },
  {
   "cell_type": "code",
   "execution_count": 3,
   "id": "e8ded2b7",
   "metadata": {
    "execution": {
     "iopub.execute_input": "2024-05-08T19:22:32.879553Z",
     "iopub.status.busy": "2024-05-08T19:22:32.879258Z",
     "iopub.status.idle": "2024-05-08T19:22:32.883020Z",
     "shell.execute_reply": "2024-05-08T19:22:32.881857Z"
    },
    "papermill": {
     "duration": 0.008304,
     "end_time": "2024-05-08T19:22:32.885045",
     "exception": false,
     "start_time": "2024-05-08T19:22:32.876741",
     "status": "completed"
    },
    "tags": [
     "injected-parameters"
    ]
   },
   "outputs": [],
   "source": [
    "# Parameters\n",
    "func_name = \"Gaussian\"\n",
    "positive_prior = False\n"
   ]
  },
  {
   "cell_type": "code",
   "execution_count": 4,
   "id": "4ecbdd1e",
   "metadata": {
    "execution": {
     "iopub.execute_input": "2024-05-08T19:22:32.889818Z",
     "iopub.status.busy": "2024-05-08T19:22:32.889544Z",
     "iopub.status.idle": "2024-05-08T19:22:32.899796Z",
     "shell.execute_reply": "2024-05-08T19:22:32.899156Z"
    },
    "lines_to_next_cell": 0,
    "nbsphinx": "hidden",
    "papermill": {
     "duration": 0.015216,
     "end_time": "2024-05-08T19:22:32.901831",
     "exception": false,
     "start_time": "2024-05-08T19:22:32.886615",
     "status": "completed"
    },
    "tags": []
   },
   "outputs": [],
   "source": [
    "func = _known_functions[func_name]()\n",
    "\n",
    "if not positive_prior:\n",
    "\n",
    "\tenergy_grid = np.linspace(-5,5,1000)\n",
    "\n",
    "else:\n",
    "    \n",
    "    energy_grid = np.linspace(0,1,1000)\n",
    "    \n",
    "    \n",
    "    \n",
    "    \n",
    "blue = \"#4152E3\"\n",
    "red = \"#E3414B\"\n",
    "green = \"#41E39E\""
   ]
  },
  {
   "cell_type": "markdown",
   "id": "79489656",
   "metadata": {
    "lines_to_next_cell": 0,
    "papermill": {
     "duration": 0.001232,
     "end_time": "2024-05-08T19:22:32.904433",
     "exception": false,
     "start_time": "2024-05-08T19:22:32.903201",
     "status": "completed"
    },
    "tags": []
   },
   "source": [
    "## Description"
   ]
  },
  {
   "cell_type": "code",
   "execution_count": 5,
   "id": "792b9409",
   "metadata": {
    "execution": {
     "iopub.execute_input": "2024-05-08T19:22:32.908401Z",
     "iopub.status.busy": "2024-05-08T19:22:32.908197Z",
     "iopub.status.idle": "2024-05-08T19:22:32.920536Z",
     "shell.execute_reply": "2024-05-08T19:22:32.919948Z"
    },
    "papermill": {
     "duration": 0.016672,
     "end_time": "2024-05-08T19:22:32.922232",
     "exception": false,
     "start_time": "2024-05-08T19:22:32.905560",
     "status": "completed"
    },
    "tags": []
   },
   "outputs": [
    {
     "data": {
      "text/html": [
       "<ul>\n",
       "\n",
       "<li>description: A Gaussian function</li>\n",
       "\n",
       "<li>formula: $ K \\frac{1}{\\sigma \\sqrt{2 \\pi}}\\exp{\\frac{(x-\\mu)^2}{2~(\\sigma)^2}} $</li>\n",
       "\n",
       "<li>parameters: \n",
       "<ul>\n",
       "\n",
       "<li>F: \n",
       "<ul>\n",
       "\n",
       "<li>value: 1.0</li>\n",
       "\n",
       "<li>desc: Integral between -inf and +inf. Fix this to 1 to obtain a Normal distribution</li>\n",
       "\n",
       "<li>min_value: None</li>\n",
       "\n",
       "<li>max_value: None</li>\n",
       "\n",
       "<li>unit: </li>\n",
       "\n",
       "<li>is_normalization: False</li>\n",
       "\n",
       "<li>delta: 0.1</li>\n",
       "\n",
       "<li>free: True</li>\n",
       "\n",
       "</ul>\n",
       "\n",
       "</li>\n",
       "\n",
       "<li>mu: \n",
       "<ul>\n",
       "\n",
       "<li>value: 0.0</li>\n",
       "\n",
       "<li>desc: Central value</li>\n",
       "\n",
       "<li>min_value: None</li>\n",
       "\n",
       "<li>max_value: None</li>\n",
       "\n",
       "<li>unit: </li>\n",
       "\n",
       "<li>is_normalization: False</li>\n",
       "\n",
       "<li>delta: 0.1</li>\n",
       "\n",
       "<li>free: True</li>\n",
       "\n",
       "</ul>\n",
       "\n",
       "</li>\n",
       "\n",
       "<li>sigma: \n",
       "<ul>\n",
       "\n",
       "<li>value: 1.0</li>\n",
       "\n",
       "<li>desc: standard deviation</li>\n",
       "\n",
       "<li>min_value: 1e-12</li>\n",
       "\n",
       "<li>max_value: None</li>\n",
       "\n",
       "<li>unit: </li>\n",
       "\n",
       "<li>is_normalization: False</li>\n",
       "\n",
       "<li>delta: 0.1</li>\n",
       "\n",
       "<li>free: True</li>\n",
       "\n",
       "</ul>\n",
       "\n",
       "</li>\n",
       "\n",
       "</ul>\n",
       "\n",
       "</li>\n",
       "\n",
       "</ul>\n"
      ],
      "text/plain": [
       "  * description: A Gaussian function\n",
       "  * formula: $ K \\frac{1}{\\sigma \\sqrt{2 \\pi}}\\exp{\\frac{(x-\\mu)^2}{2~(\\sigma)^2}} $\n",
       "  * parameters:\n",
       "    * F:\n",
       "      * value: 1.0\n",
       "      * desc: Integral between -inf and +inf. Fix this to 1 to obtain a Normal distribution\n",
       "      * min_value: null\n",
       "      * max_value: null\n",
       "      * unit: ''\n",
       "      * is_normalization: false\n",
       "      * delta: 0.1\n",
       "      * free: true\n",
       "    * mu:\n",
       "      * value: 0.0\n",
       "      * desc: Central value\n",
       "      * min_value: null\n",
       "      * max_value: null\n",
       "      * unit: ''\n",
       "      * is_normalization: false\n",
       "      * delta: 0.1\n",
       "      * free: true\n",
       "    * sigma:\n",
       "      * value: 1.0\n",
       "      * desc: standard deviation\n",
       "      * min_value: 1.0e-12\n",
       "      * max_value: null\n",
       "      * unit: ''\n",
       "      * is_normalization: false\n",
       "      * delta: 0.1\n",
       "      * free: true"
      ]
     },
     "metadata": {},
     "output_type": "display_data"
    }
   ],
   "source": [
    "func.display()"
   ]
  },
  {
   "cell_type": "markdown",
   "id": "be8646cf",
   "metadata": {
    "papermill": {
     "duration": 0.001203,
     "end_time": "2024-05-08T19:22:32.924907",
     "exception": false,
     "start_time": "2024-05-08T19:22:32.923704",
     "status": "completed"
    },
    "tags": []
   },
   "source": [
    "## Shape \n",
    "\n",
    "The shape of the function. \n",
    "\n",
    "*If this is not a photon model but a prior or linear function then ignore the units as these docs are auto-generated*"
   ]
  },
  {
   "cell_type": "code",
   "execution_count": 6,
   "id": "8b1e139c",
   "metadata": {
    "execution": {
     "iopub.execute_input": "2024-05-08T19:22:32.928368Z",
     "iopub.status.busy": "2024-05-08T19:22:32.928164Z",
     "iopub.status.idle": "2024-05-08T19:22:33.043253Z",
     "shell.execute_reply": "2024-05-08T19:22:33.042858Z"
    },
    "papermill": {
     "duration": 0.118617,
     "end_time": "2024-05-08T19:22:33.044667",
     "exception": false,
     "start_time": "2024-05-08T19:22:32.926050",
     "status": "completed"
    },
    "tags": [
     "nbsphinx-thumbnail"
    ]
   },
   "outputs": [
    {
     "data": {
      "text/plain": [
       "Text(0, 0.5, 'probability')"
      ]
     },
     "execution_count": 6,
     "metadata": {},
     "output_type": "execute_result"
    },
    {
     "data": {
      "image/png": "[encoded data removed]",
      "text/plain": [
       "<Figure size 1040x910 with 1 Axes>"
      ]
     },
     "metadata": {},
     "output_type": "display_data"
    }
   ],
   "source": [
    "fig, ax = plt.subplots()\n",
    "\n",
    "\n",
    "ax.plot(energy_grid, func(energy_grid), color=blue, lw=3)\n",
    "\n",
    "ax.set_xlabel(\"x\")\n",
    "ax.set_ylabel(\"probability\")\n"
   ]
  },
  {
   "cell_type": "markdown",
   "id": "d580be75",
   "metadata": {
    "papermill": {
     "duration": 0.001574,
     "end_time": "2024-05-08T19:22:33.048102",
     "exception": false,
     "start_time": "2024-05-08T19:22:33.046528",
     "status": "completed"
    },
    "tags": []
   },
   "source": [
    "## Random Number Generation\n",
    "\n",
    "This is how we can generate random numbers from the prior.\n"
   ]
  },
  {
   "cell_type": "code",
   "execution_count": 7,
   "id": "f46899ac",
   "metadata": {
    "execution": {
     "iopub.execute_input": "2024-05-08T19:22:33.052532Z",
     "iopub.status.busy": "2024-05-08T19:22:33.052367Z",
     "iopub.status.idle": "2024-05-08T19:22:33.178203Z",
     "shell.execute_reply": "2024-05-08T19:22:33.177694Z"
    },
    "papermill": {
     "duration": 0.129461,
     "end_time": "2024-05-08T19:22:33.179760",
     "exception": false,
     "start_time": "2024-05-08T19:22:33.050299",
     "status": "completed"
    },
    "tags": []
   },
   "outputs": [
    {
     "data": {
      "text/plain": [
       "Text(0, 0.5, 'N')"
      ]
     },
     "execution_count": 7,
     "metadata": {},
     "output_type": "execute_result"
    },
    {
     "data": {
      "image/png": "[encoded data removed]",
      "text/plain": [
       "<Figure size 1040x910 with 1 Axes>"
      ]
     },
     "metadata": {},
     "output_type": "display_data"
    }
   ],
   "source": [
    "\n",
    "\n",
    "u = np.random.uniform(0,1, size=5000)\n",
    "\n",
    "draws = [func.from_unit_cube(x) for x in u]\n",
    "\n",
    "\n",
    "fig, ax = plt.subplots()\n",
    "\n",
    "\n",
    "ax.hist(draws, color=green, bins=50)\n",
    "\n",
    "ax.set_xlabel(\"value\")\n",
    "ax.set_ylabel(\"N\")\n",
    "\n"
   ]
  }
 ],
 "metadata": {
  "jupytext": {
   "formats": "ipynb,md"
  },
  "kernelspec": {
   "display_name": "Python 3 (ipykernel)",
   "language": "python",
   "name": "python3"
  },
  "language_info": {
   "codemirror_mode": {
    "name": "ipython",
    "version": 3
   },
   "file_extension": ".py",
   "mimetype": "text/x-python",
   "name": "python",
   "nbconvert_exporter": "python",
   "pygments_lexer": "ipython3",
   "version": "3.9.13"
  },
  "papermill": {
   "default_parameters": {},
   "duration": 3.070057,
   "end_time": "2024-05-08T19:22:33.607396",
   "environment_variables": {},
   "exception": null,
   "input_path": "Gaussian.ipynb",
   "output_path": "/Users/runner/work/astromodels/astromodels/docs/notebooks/Gaussian.ipynb",
   "parameters": {
    "func_name": "Gaussian",
    "positive_prior": false
   },
   "start_time": "2024-05-08T19:22:30.537339",
   "version": "2.6.0"
  }
 },
 "nbformat": 4,
 "nbformat_minor": 5
}
