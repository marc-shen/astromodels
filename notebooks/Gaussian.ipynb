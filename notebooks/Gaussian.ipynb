{
 "cells": [
  {
   "cell_type": "markdown",
   "id": "2cf57eb6",
   "metadata": {
    "papermill": {
     "duration": 0.004333,
     "end_time": "2022-09-28T03:11:04.783068",
     "exception": false,
     "start_time": "2022-09-28T03:11:04.778735",
     "status": "completed"
    },
    "tags": []
   },
   "source": [
    "# Gaussian"
   ]
  },
  {
   "cell_type": "code",
   "execution_count": 1,
   "id": "1faaa1fc",
   "metadata": {
    "execution": {
     "iopub.execute_input": "2022-09-28T03:11:04.791292Z",
     "iopub.status.busy": "2022-09-28T03:11:04.790827Z",
     "iopub.status.idle": "2022-09-28T03:11:12.856450Z",
     "shell.execute_reply": "2022-09-28T03:11:12.784578Z"
    },
    "nbsphinx": "hidden",
    "papermill": {
     "duration": 8.073734,
     "end_time": "2022-09-28T03:11:12.860065",
     "exception": false,
     "start_time": "2022-09-28T03:11:04.786331",
     "status": "completed"
    },
    "tags": []
   },
   "outputs": [],
   "source": [
    "%%capture\n",
    "\n",
    "import numpy as np\n",
    "\n",
    "import matplotlib.pyplot as plt\n",
    "\n",
    "import warnings\n",
    "warnings.simplefilter(\"ignore\")\n",
    "\n",
    "from astromodels.functions.function import _known_functions\n",
    "\n",
    "\n",
    "from jupyterthemes import jtplot\n",
    "jtplot.style(context=\"talk\", fscale=1, ticks=True, grid=False)\n",
    "%matplotlib inline"
   ]
  },
  {
   "cell_type": "code",
   "execution_count": 2,
   "id": "bcdf2f05",
   "metadata": {
    "execution": {
     "iopub.execute_input": "2022-09-28T03:11:12.868352Z",
     "iopub.status.busy": "2022-09-28T03:11:12.867956Z",
     "iopub.status.idle": "2022-09-28T03:11:12.877493Z",
     "shell.execute_reply": "2022-09-28T03:11:12.875487Z"
    },
    "nbsphinx": "hidden",
    "papermill": {
     "duration": 0.017258,
     "end_time": "2022-09-28T03:11:12.880641",
     "exception": false,
     "start_time": "2022-09-28T03:11:12.863383",
     "status": "completed"
    },
    "tags": [
     "parameters"
    ]
   },
   "outputs": [],
   "source": [
    "func_name = \"TbAbs\"\n",
    "\n",
    "positive_prior = False\n"
   ]
  },
  {
   "cell_type": "code",
   "execution_count": 3,
   "id": "1178697b",
   "metadata": {
    "execution": {
     "iopub.execute_input": "2022-09-28T03:11:12.889135Z",
     "iopub.status.busy": "2022-09-28T03:11:12.888700Z",
     "iopub.status.idle": "2022-09-28T03:11:12.897094Z",
     "shell.execute_reply": "2022-09-28T03:11:12.895709Z"
    },
    "papermill": {
     "duration": 0.015938,
     "end_time": "2022-09-28T03:11:12.900223",
     "exception": false,
     "start_time": "2022-09-28T03:11:12.884285",
     "status": "completed"
    },
    "tags": [
     "injected-parameters"
    ]
   },
   "outputs": [],
   "source": [
    "# Parameters\n",
    "func_name = \"Gaussian\"\n",
    "positive_prior = False\n"
   ]
  },
  {
   "cell_type": "code",
   "execution_count": 4,
   "id": "4b558d8a",
   "metadata": {
    "execution": {
     "iopub.execute_input": "2022-09-28T03:11:12.908484Z",
     "iopub.status.busy": "2022-09-28T03:11:12.907715Z",
     "iopub.status.idle": "2022-09-28T03:11:12.916899Z",
     "shell.execute_reply": "2022-09-28T03:11:12.915746Z"
    },
    "lines_to_next_cell": 0,
    "nbsphinx": "hidden",
    "papermill": {
     "duration": 0.016856,
     "end_time": "2022-09-28T03:11:12.920001",
     "exception": false,
     "start_time": "2022-09-28T03:11:12.903145",
     "status": "completed"
    },
    "tags": []
   },
   "outputs": [],
   "source": [
    "func = _known_functions[func_name]()\n",
    "\n",
    "if not positive_prior:\n",
    "\n",
    "\tenergy_grid = np.linspace(-5,5,1000)\n",
    "\n",
    "else:\n",
    "    \n",
    "    energy_grid = np.linspace(0,1,1000)\n",
    "    \n",
    "    \n",
    "    \n",
    "    \n",
    "blue = \"#4152E3\"\n",
    "red = \"#E3414B\"\n",
    "green = \"#41E39E\""
   ]
  },
  {
   "cell_type": "markdown",
   "id": "0e7c08a6",
   "metadata": {
    "lines_to_next_cell": 0,
    "papermill": {
     "duration": 0.003078,
     "end_time": "2022-09-28T03:11:12.926137",
     "exception": false,
     "start_time": "2022-09-28T03:11:12.923059",
     "status": "completed"
    },
    "tags": []
   },
   "source": [
    "## Description"
   ]
  },
  {
   "cell_type": "code",
   "execution_count": 5,
   "id": "344cfeeb",
   "metadata": {
    "execution": {
     "iopub.execute_input": "2022-09-28T03:11:12.934618Z",
     "iopub.status.busy": "2022-09-28T03:11:12.934150Z",
     "iopub.status.idle": "2022-09-28T03:11:12.946901Z",
     "shell.execute_reply": "2022-09-28T03:11:12.945805Z"
    },
    "papermill": {
     "duration": 0.020476,
     "end_time": "2022-09-28T03:11:12.950061",
     "exception": false,
     "start_time": "2022-09-28T03:11:12.929585",
     "status": "completed"
    },
    "tags": []
   },
   "outputs": [
    {
     "data": {
      "text/html": [
       "<ul>\n",
       "\n",
       "<li>description: A Gaussian function</li>\n",
       "\n",
       "<li>formula: $ K \\frac{1}{\\sigma \\sqrt{2 \\pi}}\\exp{\\frac{(x-\\mu)^2}{2~(\\sigma)^2}} $</li>\n",
       "\n",
       "<li>parameters: \n",
       "<ul>\n",
       "\n",
       "<li>F: \n",
       "<ul>\n",
       "\n",
       "<li>value: 1.0</li>\n",
       "\n",
       "<li>desc: Integral between -inf and +inf. Fix this to 1 to obtain a Normal distribution</li>\n",
       "\n",
       "<li>min_value: None</li>\n",
       "\n",
       "<li>max_value: None</li>\n",
       "\n",
       "<li>unit: </li>\n",
       "\n",
       "<li>is_normalization: False</li>\n",
       "\n",
       "<li>delta: 0.1</li>\n",
       "\n",
       "<li>free: True</li>\n",
       "\n",
       "</ul>\n",
       "\n",
       "</li>\n",
       "\n",
       "<li>mu: \n",
       "<ul>\n",
       "\n",
       "<li>value: 0.0</li>\n",
       "\n",
       "<li>desc: Central value</li>\n",
       "\n",
       "<li>min_value: None</li>\n",
       "\n",
       "<li>max_value: None</li>\n",
       "\n",
       "<li>unit: </li>\n",
       "\n",
       "<li>is_normalization: False</li>\n",
       "\n",
       "<li>delta: 0.1</li>\n",
       "\n",
       "<li>free: True</li>\n",
       "\n",
       "</ul>\n",
       "\n",
       "</li>\n",
       "\n",
       "<li>sigma: \n",
       "<ul>\n",
       "\n",
       "<li>value: 1.0</li>\n",
       "\n",
       "<li>desc: standard deviation</li>\n",
       "\n",
       "<li>min_value: 1e-12</li>\n",
       "\n",
       "<li>max_value: None</li>\n",
       "\n",
       "<li>unit: </li>\n",
       "\n",
       "<li>is_normalization: False</li>\n",
       "\n",
       "<li>delta: 0.1</li>\n",
       "\n",
       "<li>free: True</li>\n",
       "\n",
       "</ul>\n",
       "\n",
       "</li>\n",
       "\n",
       "</ul>\n",
       "\n",
       "</li>\n",
       "\n",
       "</ul>\n"
      ],
      "text/plain": [
       "  * description: A Gaussian function\n",
       "  * formula: $ K \\frac{1}{\\sigma \\sqrt{2 \\pi}}\\exp{\\frac{(x-\\mu)^2}{2~(\\sigma)^2}} $\n",
       "  * parameters:\n",
       "    * F:\n",
       "      * value: 1.0\n",
       "      * desc: Integral between -inf and +inf. Fix this to 1 to obtain a Normal distribution\n",
       "      * min_value: null\n",
       "      * max_value: null\n",
       "      * unit: ''\n",
       "      * is_normalization: false\n",
       "      * delta: 0.1\n",
       "      * free: true\n",
       "    * mu:\n",
       "      * value: 0.0\n",
       "      * desc: Central value\n",
       "      * min_value: null\n",
       "      * max_value: null\n",
       "      * unit: ''\n",
       "      * is_normalization: false\n",
       "      * delta: 0.1\n",
       "      * free: true\n",
       "    * sigma:\n",
       "      * value: 1.0\n",
       "      * desc: standard deviation\n",
       "      * min_value: 1.0e-12\n",
       "      * max_value: null\n",
       "      * unit: ''\n",
       "      * is_normalization: false\n",
       "      * delta: 0.1\n",
       "      * free: true"
      ]
     },
     "metadata": {},
     "output_type": "display_data"
    }
   ],
   "source": [
    "func.display()"
   ]
  },
  {
   "cell_type": "markdown",
   "id": "ec868de7",
   "metadata": {
    "papermill": {
     "duration": 0.003779,
     "end_time": "2022-09-28T03:11:12.957446",
     "exception": false,
     "start_time": "2022-09-28T03:11:12.953667",
     "status": "completed"
    },
    "tags": []
   },
   "source": [
    "## Shape \n",
    "\n",
    "The shape of the function. \n",
    "\n",
    "*If this is not a photon model but a prior or linear function then ignore the units as these docs are auto-generated*"
   ]
  },
  {
   "cell_type": "code",
   "execution_count": 6,
   "id": "e284b9d6",
   "metadata": {
    "execution": {
     "iopub.execute_input": "2022-09-28T03:11:12.966776Z",
     "iopub.status.busy": "2022-09-28T03:11:12.966356Z",
     "iopub.status.idle": "2022-09-28T03:11:13.510426Z",
     "shell.execute_reply": "2022-09-28T03:11:13.509264Z"
    },
    "papermill": {
     "duration": 0.552602,
     "end_time": "2022-09-28T03:11:13.513707",
     "exception": false,
     "start_time": "2022-09-28T03:11:12.961105",
     "status": "completed"
    },
    "tags": [
     "nbsphinx-thumbnail"
    ]
   },
   "outputs": [
    {
     "data": {
      "text/plain": [
       "Text(0, 0.5, 'probability')"
      ]
     },
     "execution_count": 6,
     "metadata": {},
     "output_type": "execute_result"
    },
    {
     "data": {
      "image/png": "[encoded data removed]",
      "text/plain": [
       "<Figure size 1040x910 with 1 Axes>"
      ]
     },
     "metadata": {},
     "output_type": "display_data"
    }
   ],
   "source": [
    "fig, ax = plt.subplots()\n",
    "\n",
    "\n",
    "ax.plot(energy_grid, func(energy_grid), color=blue, lw=3)\n",
    "\n",
    "ax.set_xlabel(\"x\")\n",
    "ax.set_ylabel(\"probability\")\n"
   ]
  },
  {
   "cell_type": "markdown",
   "id": "c32712f8",
   "metadata": {
    "papermill": {
     "duration": 0.004187,
     "end_time": "2022-09-28T03:11:13.576924",
     "exception": false,
     "start_time": "2022-09-28T03:11:13.572737",
     "status": "completed"
    },
    "tags": []
   },
   "source": [
    "## Random Number Generation\n",
    "\n",
    "This is how we can generate random numbers from the prior.\n"
   ]
  },
  {
   "cell_type": "code",
   "execution_count": 7,
   "id": "a4b9a4d8",
   "metadata": {
    "execution": {
     "iopub.execute_input": "2022-09-28T03:11:13.591756Z",
     "iopub.status.busy": "2022-09-28T03:11:13.590821Z",
     "iopub.status.idle": "2022-09-28T03:11:14.486053Z",
     "shell.execute_reply": "2022-09-28T03:11:14.471457Z"
    },
    "papermill": {
     "duration": 0.908294,
     "end_time": "2022-09-28T03:11:14.489283",
     "exception": false,
     "start_time": "2022-09-28T03:11:13.580989",
     "status": "completed"
    },
    "tags": []
   },
   "outputs": [
    {
     "data": {
      "text/plain": [
       "Text(0, 0.5, 'N')"
      ]
     },
     "execution_count": 7,
     "metadata": {},
     "output_type": "execute_result"
    },
    {
     "data": {
      "image/png": "[encoded data removed]",
      "text/plain": [
       "<Figure size 1040x910 with 1 Axes>"
      ]
     },
     "metadata": {},
     "output_type": "display_data"
    }
   ],
   "source": [
    "\n",
    "\n",
    "u = np.random.uniform(0,1, size=5000)\n",
    "\n",
    "draws = [func.from_unit_cube(x) for x in u]\n",
    "\n",
    "\n",
    "fig, ax = plt.subplots()\n",
    "\n",
    "\n",
    "ax.hist(draws, color=green, bins=50)\n",
    "\n",
    "ax.set_xlabel(\"value\")\n",
    "ax.set_ylabel(\"N\")\n",
    "\n"
   ]
  }
 ],
 "metadata": {
  "jupytext": {
   "formats": "ipynb,md"
  },
  "kernelspec": {
   "display_name": "Python 3 (ipykernel)",
   "language": "python",
   "name": "python3"
  },
  "language_info": {
   "codemirror_mode": {
    "name": "ipython",
    "version": 3
   },
   "file_extension": ".py",
   "mimetype": "text/x-python",
   "name": "python",
   "nbconvert_exporter": "python",
   "pygments_lexer": "ipython3",
   "version": "3.9.14"
  },
  "papermill": {
   "default_parameters": {},
   "duration": 12.285746,
   "end_time": "2022-09-28T03:11:15.580961",
   "environment_variables": {},
   "exception": null,
   "input_path": "Gaussian.ipynb",
   "output_path": "/Users/runner/work/astromodels/astromodels/docs/notebooks/Gaussian.ipynb",
   "parameters": {
    "func_name": "Gaussian",
    "positive_prior": false
   },
   "start_time": "2022-09-28T03:11:03.295215",
   "version": "2.4.0"
  }
 },
 "nbformat": 4,
 "nbformat_minor": 5
}
