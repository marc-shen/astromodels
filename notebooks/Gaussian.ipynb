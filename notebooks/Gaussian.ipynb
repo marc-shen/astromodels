{
 "cells": [
  {
   "cell_type": "markdown",
   "id": "ffb3020f",
   "metadata": {
    "papermill": {
     "duration": 0.009998,
     "end_time": "2024-09-09T18:56:13.497429",
     "exception": false,
     "start_time": "2024-09-09T18:56:13.487431",
     "status": "completed"
    },
    "tags": []
   },
   "source": [
    "# Gaussian"
   ]
  },
  {
   "cell_type": "code",
   "execution_count": 1,
   "id": "794715d8",
   "metadata": {
    "execution": {
     "iopub.execute_input": "2024-09-09T18:56:13.509204Z",
     "iopub.status.busy": "2024-09-09T18:56:13.508553Z",
     "iopub.status.idle": "2024-09-09T18:56:14.913040Z",
     "shell.execute_reply": "2024-09-09T18:56:14.912500Z"
    },
    "nbsphinx": "hidden",
    "papermill": {
     "duration": 1.41201,
     "end_time": "2024-09-09T18:56:14.914550",
     "exception": false,
     "start_time": "2024-09-09T18:56:13.502540",
     "status": "completed"
    },
    "tags": []
   },
   "outputs": [],
   "source": [
    "%%capture\n",
    "\n",
    "import numpy as np\n",
    "\n",
    "import matplotlib.pyplot as plt\n",
    "\n",
    "import warnings\n",
    "warnings.simplefilter(\"ignore\")\n",
    "\n",
    "from astromodels.functions.function import _known_functions\n",
    "\n",
    "\n",
    "from jupyterthemes import jtplot\n",
    "jtplot.style(context=\"talk\", fscale=1, ticks=True, grid=False)\n",
    "%matplotlib inline"
   ]
  },
  {
   "cell_type": "code",
   "execution_count": 2,
   "id": "7a7a0204",
   "metadata": {
    "execution": {
     "iopub.execute_input": "2024-09-09T18:56:14.917682Z",
     "iopub.status.busy": "2024-09-09T18:56:14.917357Z",
     "iopub.status.idle": "2024-09-09T18:56:14.925532Z",
     "shell.execute_reply": "2024-09-09T18:56:14.925143Z"
    },
    "nbsphinx": "hidden",
    "papermill": {
     "duration": 0.011189,
     "end_time": "2024-09-09T18:56:14.926952",
     "exception": false,
     "start_time": "2024-09-09T18:56:14.915763",
     "status": "completed"
    },
    "tags": [
     "parameters"
    ]
   },
   "outputs": [],
   "source": [
    "func_name = \"TbAbs\"\n",
    "\n",
    "positive_prior = False\n"
   ]
  },
  {
   "cell_type": "code",
   "execution_count": 3,
   "id": "2f848100",
   "metadata": {
    "execution": {
     "iopub.execute_input": "2024-09-09T18:56:14.929538Z",
     "iopub.status.busy": "2024-09-09T18:56:14.929396Z",
     "iopub.status.idle": "2024-09-09T18:56:14.937428Z",
     "shell.execute_reply": "2024-09-09T18:56:14.937012Z"
    },
    "papermill": {
     "duration": 0.010732,
     "end_time": "2024-09-09T18:56:14.938689",
     "exception": false,
     "start_time": "2024-09-09T18:56:14.927957",
     "status": "completed"
    },
    "tags": [
     "injected-parameters"
    ]
   },
   "outputs": [],
   "source": [
    "# Parameters\n",
    "func_name = \"Gaussian\"\n",
    "positive_prior = False\n"
   ]
  },
  {
   "cell_type": "code",
   "execution_count": 4,
   "id": "bf57fb25",
   "metadata": {
    "execution": {
     "iopub.execute_input": "2024-09-09T18:56:14.941345Z",
     "iopub.status.busy": "2024-09-09T18:56:14.941196Z",
     "iopub.status.idle": "2024-09-09T18:56:14.950186Z",
     "shell.execute_reply": "2024-09-09T18:56:14.949822Z"
    },
    "lines_to_next_cell": 0,
    "nbsphinx": "hidden",
    "papermill": {
     "duration": 0.01183,
     "end_time": "2024-09-09T18:56:14.951507",
     "exception": false,
     "start_time": "2024-09-09T18:56:14.939677",
     "status": "completed"
    },
    "tags": []
   },
   "outputs": [],
   "source": [
    "func = _known_functions[func_name]()\n",
    "\n",
    "if not positive_prior:\n",
    "\n",
    "\tenergy_grid = np.linspace(-5,5,1000)\n",
    "\n",
    "else:\n",
    "    \n",
    "    energy_grid = np.linspace(0,1,1000)\n",
    "    \n",
    "    \n",
    "    \n",
    "    \n",
    "blue = \"#4152E3\"\n",
    "red = \"#E3414B\"\n",
    "green = \"#41E39E\""
   ]
  },
  {
   "cell_type": "markdown",
   "id": "ab987416",
   "metadata": {
    "lines_to_next_cell": 0,
    "papermill": {
     "duration": 0.001016,
     "end_time": "2024-09-09T18:56:14.953600",
     "exception": false,
     "start_time": "2024-09-09T18:56:14.952584",
     "status": "completed"
    },
    "tags": []
   },
   "source": [
    "## Description"
   ]
  },
  {
   "cell_type": "code",
   "execution_count": 5,
   "id": "62c47d5c",
   "metadata": {
    "execution": {
     "iopub.execute_input": "2024-09-09T18:56:14.956153Z",
     "iopub.status.busy": "2024-09-09T18:56:14.956018Z",
     "iopub.status.idle": "2024-09-09T18:56:14.960145Z",
     "shell.execute_reply": "2024-09-09T18:56:14.959694Z"
    },
    "papermill": {
     "duration": 0.006857,
     "end_time": "2024-09-09T18:56:14.961427",
     "exception": false,
     "start_time": "2024-09-09T18:56:14.954570",
     "status": "completed"
    },
    "tags": []
   },
   "outputs": [
    {
     "data": {
      "text/html": [
       "<ul>\n",
       "\n",
       "<li>description: A Gaussian function</li>\n",
       "\n",
       "<li>formula: $ K \\frac{1}{\\sigma \\sqrt{2 \\pi}}\\exp{\\frac{(x-\\mu)^2}{2~(\\sigma)^2}} $</li>\n",
       "\n",
       "<li>parameters: \n",
       "<ul>\n",
       "\n",
       "<li>F: \n",
       "<ul>\n",
       "\n",
       "<li>value: 1.0</li>\n",
       "\n",
       "<li>desc: Integral between -inf and +inf. Fix this to 1 to obtain a Normal distribution</li>\n",
       "\n",
       "<li>min_value: None</li>\n",
       "\n",
       "<li>max_value: None</li>\n",
       "\n",
       "<li>unit: </li>\n",
       "\n",
       "<li>is_normalization: False</li>\n",
       "\n",
       "<li>delta: 0.1</li>\n",
       "\n",
       "<li>free: True</li>\n",
       "\n",
       "</ul>\n",
       "\n",
       "</li>\n",
       "\n",
       "<li>mu: \n",
       "<ul>\n",
       "\n",
       "<li>value: 0.0</li>\n",
       "\n",
       "<li>desc: Central value</li>\n",
       "\n",
       "<li>min_value: None</li>\n",
       "\n",
       "<li>max_value: None</li>\n",
       "\n",
       "<li>unit: </li>\n",
       "\n",
       "<li>is_normalization: False</li>\n",
       "\n",
       "<li>delta: 0.1</li>\n",
       "\n",
       "<li>free: True</li>\n",
       "\n",
       "</ul>\n",
       "\n",
       "</li>\n",
       "\n",
       "<li>sigma: \n",
       "<ul>\n",
       "\n",
       "<li>value: 1.0</li>\n",
       "\n",
       "<li>desc: standard deviation</li>\n",
       "\n",
       "<li>min_value: 1e-12</li>\n",
       "\n",
       "<li>max_value: None</li>\n",
       "\n",
       "<li>unit: </li>\n",
       "\n",
       "<li>is_normalization: False</li>\n",
       "\n",
       "<li>delta: 0.1</li>\n",
       "\n",
       "<li>free: True</li>\n",
       "\n",
       "</ul>\n",
       "\n",
       "</li>\n",
       "\n",
       "</ul>\n",
       "\n",
       "</li>\n",
       "\n",
       "</ul>\n"
      ],
      "text/plain": [
       "  * description: A Gaussian function\n",
       "  * formula: $ K \\frac{1}{\\sigma \\sqrt{2 \\pi}}\\exp{\\frac{(x-\\mu)^2}{2~(\\sigma)^2}} $\n",
       "  * parameters:\n",
       "    * F:\n",
       "      * value: 1.0\n",
       "      * desc: Integral between -inf and +inf. Fix this to 1 to obtain a Normal distribution\n",
       "      * min_value: null\n",
       "      * max_value: null\n",
       "      * unit: ''\n",
       "      * is_normalization: false\n",
       "      * delta: 0.1\n",
       "      * free: true\n",
       "    * mu:\n",
       "      * value: 0.0\n",
       "      * desc: Central value\n",
       "      * min_value: null\n",
       "      * max_value: null\n",
       "      * unit: ''\n",
       "      * is_normalization: false\n",
       "      * delta: 0.1\n",
       "      * free: true\n",
       "    * sigma:\n",
       "      * value: 1.0\n",
       "      * desc: standard deviation\n",
       "      * min_value: 1.0e-12\n",
       "      * max_value: null\n",
       "      * unit: ''\n",
       "      * is_normalization: false\n",
       "      * delta: 0.1\n",
       "      * free: true"
      ]
     },
     "metadata": {},
     "output_type": "display_data"
    }
   ],
   "source": [
    "func.display()"
   ]
  },
  {
   "cell_type": "markdown",
   "id": "4c46f167",
   "metadata": {
    "papermill": {
     "duration": 0.001064,
     "end_time": "2024-09-09T18:56:14.963622",
     "exception": false,
     "start_time": "2024-09-09T18:56:14.962558",
     "status": "completed"
    },
    "tags": []
   },
   "source": [
    "## Shape \n",
    "\n",
    "The shape of the function. \n",
    "\n",
    "*If this is not a photon model but a prior or linear function then ignore the units as these docs are auto-generated*"
   ]
  },
  {
   "cell_type": "code",
   "execution_count": 6,
   "id": "2e4ba769",
   "metadata": {
    "execution": {
     "iopub.execute_input": "2024-09-09T18:56:14.966375Z",
     "iopub.status.busy": "2024-09-09T18:56:14.966232Z",
     "iopub.status.idle": "2024-09-09T18:56:15.070118Z",
     "shell.execute_reply": "2024-09-09T18:56:15.069722Z"
    },
    "papermill": {
     "duration": 0.10674,
     "end_time": "2024-09-09T18:56:15.071379",
     "exception": false,
     "start_time": "2024-09-09T18:56:14.964639",
     "status": "completed"
    },
    "tags": [
     "nbsphinx-thumbnail"
    ]
   },
   "outputs": [
    {
     "data": {
      "text/plain": [
       "Text(0, 0.5, 'probability')"
      ]
     },
     "execution_count": 6,
     "metadata": {},
     "output_type": "execute_result"
    },
    {
     "data": {
      "image/png": "[encoded data removed]",
      "text/plain": [
       "<Figure size 1040x910 with 1 Axes>"
      ]
     },
     "metadata": {},
     "output_type": "display_data"
    }
   ],
   "source": [
    "fig, ax = plt.subplots()\n",
    "\n",
    "\n",
    "ax.plot(energy_grid, func(energy_grid), color=blue, lw=3)\n",
    "\n",
    "ax.set_xlabel(\"x\")\n",
    "ax.set_ylabel(\"probability\")\n"
   ]
  },
  {
   "cell_type": "markdown",
   "id": "d6ee409d",
   "metadata": {
    "papermill": {
     "duration": 0.00141,
     "end_time": "2024-09-09T18:56:15.074840",
     "exception": false,
     "start_time": "2024-09-09T18:56:15.073430",
     "status": "completed"
    },
    "tags": []
   },
   "source": [
    "## Random Number Generation\n",
    "\n",
    "This is how we can generate random numbers from the prior.\n"
   ]
  },
  {
   "cell_type": "code",
   "execution_count": 7,
   "id": "b11b5896",
   "metadata": {
    "execution": {
     "iopub.execute_input": "2024-09-09T18:56:15.078199Z",
     "iopub.status.busy": "2024-09-09T18:56:15.078060Z",
     "iopub.status.idle": "2024-09-09T18:56:15.194694Z",
     "shell.execute_reply": "2024-09-09T18:56:15.194363Z"
    },
    "papermill": {
     "duration": 0.119989,
     "end_time": "2024-09-09T18:56:15.196171",
     "exception": false,
     "start_time": "2024-09-09T18:56:15.076182",
     "status": "completed"
    },
    "tags": []
   },
   "outputs": [
    {
     "data": {
      "text/plain": [
       "Text(0, 0.5, 'N')"
      ]
     },
     "execution_count": 7,
     "metadata": {},
     "output_type": "execute_result"
    },
    {
     "data": {
      "image/png": "[encoded data removed]",
      "text/plain": [
       "<Figure size 1040x910 with 1 Axes>"
      ]
     },
     "metadata": {},
     "output_type": "display_data"
    }
   ],
   "source": [
    "\n",
    "\n",
    "u = np.random.uniform(0,1, size=5000)\n",
    "\n",
    "draws = [func.from_unit_cube(x) for x in u]\n",
    "\n",
    "\n",
    "fig, ax = plt.subplots()\n",
    "\n",
    "\n",
    "ax.hist(draws, color=green, bins=50)\n",
    "\n",
    "ax.set_xlabel(\"value\")\n",
    "ax.set_ylabel(\"N\")\n",
    "\n"
   ]
  }
 ],
 "metadata": {
  "jupytext": {
   "formats": "ipynb,md"
  },
  "kernelspec": {
   "display_name": "Python 3 (ipykernel)",
   "language": "python",
   "name": "python3"
  },
  "language_info": {
   "codemirror_mode": {
    "name": "ipython",
    "version": 3
   },
   "file_extension": ".py",
   "mimetype": "text/x-python",
   "name": "python",
   "nbconvert_exporter": "python",
   "pygments_lexer": "ipython3",
   "version": "3.9.13"
  },
  "papermill": {
   "default_parameters": {},
   "duration": 2.59157,
   "end_time": "2024-09-09T18:56:15.530584",
   "environment_variables": {},
   "exception": null,
   "input_path": "Gaussian.ipynb",
   "output_path": "/Users/runner/work/astromodels/astromodels/docs/notebooks/Gaussian.ipynb",
   "parameters": {
    "func_name": "Gaussian",
    "positive_prior": false
   },
   "start_time": "2024-09-09T18:56:12.939014",
   "version": "2.6.0"
  }
 },
 "nbformat": 4,
 "nbformat_minor": 5
}
