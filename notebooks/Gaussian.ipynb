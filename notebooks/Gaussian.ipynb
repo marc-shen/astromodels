{
 "cells": [
  {
   "cell_type": "markdown",
   "id": "a8fef595",
   "metadata": {
    "papermill": {
     "duration": 0.00494,
     "end_time": "2023-11-01T19:23:52.603531",
     "exception": false,
     "start_time": "2023-11-01T19:23:52.598591",
     "status": "completed"
    },
    "tags": []
   },
   "source": [
    "# Gaussian"
   ]
  },
  {
   "cell_type": "code",
   "execution_count": 1,
   "id": "c70f8c46",
   "metadata": {
    "execution": {
     "iopub.execute_input": "2023-11-01T19:23:52.615199Z",
     "iopub.status.busy": "2023-11-01T19:23:52.614409Z",
     "iopub.status.idle": "2023-11-01T19:23:56.022680Z",
     "shell.execute_reply": "2023-11-01T19:23:56.021005Z"
    },
    "nbsphinx": "hidden",
    "papermill": {
     "duration": 3.419042,
     "end_time": "2023-11-01T19:23:56.027061",
     "exception": false,
     "start_time": "2023-11-01T19:23:52.608019",
     "status": "completed"
    },
    "tags": []
   },
   "outputs": [],
   "source": [
    "%%capture\n",
    "\n",
    "import numpy as np\n",
    "\n",
    "import matplotlib.pyplot as plt\n",
    "\n",
    "import warnings\n",
    "warnings.simplefilter(\"ignore\")\n",
    "\n",
    "from astromodels.functions.function import _known_functions\n",
    "\n",
    "\n",
    "from jupyterthemes import jtplot\n",
    "jtplot.style(context=\"talk\", fscale=1, ticks=True, grid=False)\n",
    "%matplotlib inline"
   ]
  },
  {
   "cell_type": "code",
   "execution_count": 2,
   "id": "7404f906",
   "metadata": {
    "execution": {
     "iopub.execute_input": "2023-11-01T19:23:56.035346Z",
     "iopub.status.busy": "2023-11-01T19:23:56.034301Z",
     "iopub.status.idle": "2023-11-01T19:23:56.042043Z",
     "shell.execute_reply": "2023-11-01T19:23:56.039803Z"
    },
    "nbsphinx": "hidden",
    "papermill": {
     "duration": 0.016359,
     "end_time": "2023-11-01T19:23:56.046240",
     "exception": false,
     "start_time": "2023-11-01T19:23:56.029881",
     "status": "completed"
    },
    "tags": [
     "parameters"
    ]
   },
   "outputs": [],
   "source": [
    "func_name = \"TbAbs\"\n",
    "\n",
    "positive_prior = False\n"
   ]
  },
  {
   "cell_type": "code",
   "execution_count": 3,
   "id": "3b89020d",
   "metadata": {
    "execution": {
     "iopub.execute_input": "2023-11-01T19:23:56.054023Z",
     "iopub.status.busy": "2023-11-01T19:23:56.053502Z",
     "iopub.status.idle": "2023-11-01T19:23:56.060101Z",
     "shell.execute_reply": "2023-11-01T19:23:56.058755Z"
    },
    "papermill": {
     "duration": 0.015688,
     "end_time": "2023-11-01T19:23:56.064542",
     "exception": false,
     "start_time": "2023-11-01T19:23:56.048854",
     "status": "completed"
    },
    "tags": [
     "injected-parameters"
    ]
   },
   "outputs": [],
   "source": [
    "# Parameters\n",
    "func_name = \"Gaussian\"\n",
    "positive_prior = False\n"
   ]
  },
  {
   "cell_type": "code",
   "execution_count": 4,
   "id": "2534919f",
   "metadata": {
    "execution": {
     "iopub.execute_input": "2023-11-01T19:23:56.072594Z",
     "iopub.status.busy": "2023-11-01T19:23:56.072155Z",
     "iopub.status.idle": "2023-11-01T19:23:56.145695Z",
     "shell.execute_reply": "2023-11-01T19:23:56.144002Z"
    },
    "lines_to_next_cell": 0,
    "nbsphinx": "hidden",
    "papermill": {
     "duration": 0.082403,
     "end_time": "2023-11-01T19:23:56.149879",
     "exception": false,
     "start_time": "2023-11-01T19:23:56.067476",
     "status": "completed"
    },
    "tags": []
   },
   "outputs": [],
   "source": [
    "func = _known_functions[func_name]()\n",
    "\n",
    "if not positive_prior:\n",
    "\n",
    "\tenergy_grid = np.linspace(-5,5,1000)\n",
    "\n",
    "else:\n",
    "    \n",
    "    energy_grid = np.linspace(0,1,1000)\n",
    "    \n",
    "    \n",
    "    \n",
    "    \n",
    "blue = \"#4152E3\"\n",
    "red = \"#E3414B\"\n",
    "green = \"#41E39E\""
   ]
  },
  {
   "cell_type": "markdown",
   "id": "dd8c9c5d",
   "metadata": {
    "lines_to_next_cell": 0,
    "papermill": {
     "duration": 0.002687,
     "end_time": "2023-11-01T19:23:56.156322",
     "exception": false,
     "start_time": "2023-11-01T19:23:56.153635",
     "status": "completed"
    },
    "tags": []
   },
   "source": [
    "## Description"
   ]
  },
  {
   "cell_type": "code",
   "execution_count": 5,
   "id": "87d87ae3",
   "metadata": {
    "execution": {
     "iopub.execute_input": "2023-11-01T19:23:56.163281Z",
     "iopub.status.busy": "2023-11-01T19:23:56.162859Z",
     "iopub.status.idle": "2023-11-01T19:23:56.174585Z",
     "shell.execute_reply": "2023-11-01T19:23:56.173230Z"
    },
    "papermill": {
     "duration": 0.019956,
     "end_time": "2023-11-01T19:23:56.178955",
     "exception": false,
     "start_time": "2023-11-01T19:23:56.158999",
     "status": "completed"
    },
    "tags": []
   },
   "outputs": [
    {
     "data": {
      "text/html": [
       "<ul>\n",
       "\n",
       "<li>description: A Gaussian function</li>\n",
       "\n",
       "<li>formula: $ K \\frac{1}{\\sigma \\sqrt{2 \\pi}}\\exp{\\frac{(x-\\mu)^2}{2~(\\sigma)^2}} $</li>\n",
       "\n",
       "<li>parameters: \n",
       "<ul>\n",
       "\n",
       "<li>F: \n",
       "<ul>\n",
       "\n",
       "<li>value: 1.0</li>\n",
       "\n",
       "<li>desc: Integral between -inf and +inf. Fix this to 1 to obtain a Normal distribution</li>\n",
       "\n",
       "<li>min_value: None</li>\n",
       "\n",
       "<li>max_value: None</li>\n",
       "\n",
       "<li>unit: </li>\n",
       "\n",
       "<li>is_normalization: False</li>\n",
       "\n",
       "<li>delta: 0.1</li>\n",
       "\n",
       "<li>free: True</li>\n",
       "\n",
       "</ul>\n",
       "\n",
       "</li>\n",
       "\n",
       "<li>mu: \n",
       "<ul>\n",
       "\n",
       "<li>value: 0.0</li>\n",
       "\n",
       "<li>desc: Central value</li>\n",
       "\n",
       "<li>min_value: None</li>\n",
       "\n",
       "<li>max_value: None</li>\n",
       "\n",
       "<li>unit: </li>\n",
       "\n",
       "<li>is_normalization: False</li>\n",
       "\n",
       "<li>delta: 0.1</li>\n",
       "\n",
       "<li>free: True</li>\n",
       "\n",
       "</ul>\n",
       "\n",
       "</li>\n",
       "\n",
       "<li>sigma: \n",
       "<ul>\n",
       "\n",
       "<li>value: 1.0</li>\n",
       "\n",
       "<li>desc: standard deviation</li>\n",
       "\n",
       "<li>min_value: 1e-12</li>\n",
       "\n",
       "<li>max_value: None</li>\n",
       "\n",
       "<li>unit: </li>\n",
       "\n",
       "<li>is_normalization: False</li>\n",
       "\n",
       "<li>delta: 0.1</li>\n",
       "\n",
       "<li>free: True</li>\n",
       "\n",
       "</ul>\n",
       "\n",
       "</li>\n",
       "\n",
       "</ul>\n",
       "\n",
       "</li>\n",
       "\n",
       "</ul>\n"
      ],
      "text/plain": [
       "  * description: A Gaussian function\n",
       "  * formula: $ K \\frac{1}{\\sigma \\sqrt{2 \\pi}}\\exp{\\frac{(x-\\mu)^2}{2~(\\sigma)^2}} $\n",
       "  * parameters:\n",
       "    * F:\n",
       "      * value: 1.0\n",
       "      * desc: Integral between -inf and +inf. Fix this to 1 to obtain a Normal distribution\n",
       "      * min_value: null\n",
       "      * max_value: null\n",
       "      * unit: ''\n",
       "      * is_normalization: false\n",
       "      * delta: 0.1\n",
       "      * free: true\n",
       "    * mu:\n",
       "      * value: 0.0\n",
       "      * desc: Central value\n",
       "      * min_value: null\n",
       "      * max_value: null\n",
       "      * unit: ''\n",
       "      * is_normalization: false\n",
       "      * delta: 0.1\n",
       "      * free: true\n",
       "    * sigma:\n",
       "      * value: 1.0\n",
       "      * desc: standard deviation\n",
       "      * min_value: 1.0e-12\n",
       "      * max_value: null\n",
       "      * unit: ''\n",
       "      * is_normalization: false\n",
       "      * delta: 0.1\n",
       "      * free: true"
      ]
     },
     "metadata": {},
     "output_type": "display_data"
    }
   ],
   "source": [
    "func.display()"
   ]
  },
  {
   "cell_type": "markdown",
   "id": "be2fb7cf",
   "metadata": {
    "papermill": {
     "duration": 0.003245,
     "end_time": "2023-11-01T19:23:56.185328",
     "exception": false,
     "start_time": "2023-11-01T19:23:56.182083",
     "status": "completed"
    },
    "tags": []
   },
   "source": [
    "## Shape \n",
    "\n",
    "The shape of the function. \n",
    "\n",
    "*If this is not a photon model but a prior or linear function then ignore the units as these docs are auto-generated*"
   ]
  },
  {
   "cell_type": "code",
   "execution_count": 6,
   "id": "967f5e25",
   "metadata": {
    "execution": {
     "iopub.execute_input": "2023-11-01T19:23:56.194136Z",
     "iopub.status.busy": "2023-11-01T19:23:56.193600Z",
     "iopub.status.idle": "2023-11-01T19:23:56.497272Z",
     "shell.execute_reply": "2023-11-01T19:23:56.495942Z"
    },
    "papermill": {
     "duration": 0.316013,
     "end_time": "2023-11-01T19:23:56.504235",
     "exception": false,
     "start_time": "2023-11-01T19:23:56.188222",
     "status": "completed"
    },
    "tags": [
     "nbsphinx-thumbnail"
    ]
   },
   "outputs": [
    {
     "data": {
      "text/plain": [
       "Text(0, 0.5, 'probability')"
      ]
     },
     "execution_count": 6,
     "metadata": {},
     "output_type": "execute_result"
    },
    {
     "data": {
      "image/png": "[encoded data removed]",
      "text/plain": [
       "<Figure size 1040x910 with 1 Axes>"
      ]
     },
     "metadata": {},
     "output_type": "display_data"
    }
   ],
   "source": [
    "fig, ax = plt.subplots()\n",
    "\n",
    "\n",
    "ax.plot(energy_grid, func(energy_grid), color=blue, lw=3)\n",
    "\n",
    "ax.set_xlabel(\"x\")\n",
    "ax.set_ylabel(\"probability\")\n"
   ]
  },
  {
   "cell_type": "markdown",
   "id": "2e0e4018",
   "metadata": {
    "papermill": {
     "duration": 0.005872,
     "end_time": "2023-11-01T19:23:56.516876",
     "exception": false,
     "start_time": "2023-11-01T19:23:56.511004",
     "status": "completed"
    },
    "tags": []
   },
   "source": [
    "## Random Number Generation\n",
    "\n",
    "This is how we can generate random numbers from the prior.\n"
   ]
  },
  {
   "cell_type": "code",
   "execution_count": 7,
   "id": "f41d83e6",
   "metadata": {
    "execution": {
     "iopub.execute_input": "2023-11-01T19:23:56.527252Z",
     "iopub.status.busy": "2023-11-01T19:23:56.526728Z",
     "iopub.status.idle": "2023-11-01T19:23:56.901639Z",
     "shell.execute_reply": "2023-11-01T19:23:56.894185Z"
    },
    "papermill": {
     "duration": 0.397224,
     "end_time": "2023-11-01T19:23:56.918439",
     "exception": false,
     "start_time": "2023-11-01T19:23:56.521215",
     "status": "completed"
    },
    "tags": []
   },
   "outputs": [
    {
     "data": {
      "text/plain": [
       "Text(0, 0.5, 'N')"
      ]
     },
     "execution_count": 7,
     "metadata": {},
     "output_type": "execute_result"
    },
    {
     "data": {
      "image/png": "[encoded data removed]",
      "text/plain": [
       "<Figure size 1040x910 with 1 Axes>"
      ]
     },
     "metadata": {},
     "output_type": "display_data"
    }
   ],
   "source": [
    "\n",
    "\n",
    "u = np.random.uniform(0,1, size=5000)\n",
    "\n",
    "draws = [func.from_unit_cube(x) for x in u]\n",
    "\n",
    "\n",
    "fig, ax = plt.subplots()\n",
    "\n",
    "\n",
    "ax.hist(draws, color=green, bins=50)\n",
    "\n",
    "ax.set_xlabel(\"value\")\n",
    "ax.set_ylabel(\"N\")\n",
    "\n"
   ]
  }
 ],
 "metadata": {
  "jupytext": {
   "formats": "ipynb,md"
  },
  "kernelspec": {
   "display_name": "Python 3 (ipykernel)",
   "language": "python",
   "name": "python3"
  },
  "language_info": {
   "codemirror_mode": {
    "name": "ipython",
    "version": 3
   },
   "file_extension": ".py",
   "mimetype": "text/x-python",
   "name": "python",
   "nbconvert_exporter": "python",
   "pygments_lexer": "ipython3",
   "version": "3.9.18"
  },
  "papermill": {
   "default_parameters": {},
   "duration": 6.046684,
   "end_time": "2023-11-01T19:23:57.562390",
   "environment_variables": {},
   "exception": null,
   "input_path": "Gaussian.ipynb",
   "output_path": "/Users/runner/work/astromodels/astromodels/docs/notebooks/Gaussian.ipynb",
   "parameters": {
    "func_name": "Gaussian",
    "positive_prior": false
   },
   "start_time": "2023-11-01T19:23:51.515706",
   "version": "2.4.0"
  }
 },
 "nbformat": 4,
 "nbformat_minor": 5
}
