{
 "cells": [
  {
   "cell_type": "markdown",
   "id": "d8480654",
   "metadata": {
    "papermill": {
     "duration": 0.006212,
     "end_time": "2025-04-26T01:24:59.601989",
     "exception": false,
     "start_time": "2025-04-26T01:24:59.595777",
     "status": "completed"
    },
    "tags": []
   },
   "source": [
    "# Cosine Prior"
   ]
  },
  {
   "cell_type": "code",
   "execution_count": 1,
   "id": "ddba6335",
   "metadata": {
    "execution": {
     "iopub.execute_input": "2025-04-26T01:24:59.611763Z",
     "iopub.status.busy": "2025-04-26T01:24:59.611280Z",
     "iopub.status.idle": "2025-04-26T01:25:01.072267Z",
     "shell.execute_reply": "2025-04-26T01:25:01.071645Z"
    },
    "nbsphinx": "hidden",
    "papermill": {
     "duration": 1.467363,
     "end_time": "2025-04-26T01:25:01.074004",
     "exception": false,
     "start_time": "2025-04-26T01:24:59.606641",
     "status": "completed"
    },
    "tags": []
   },
   "outputs": [],
   "source": [
    "%%capture\n",
    "\n",
    "import numpy as np\n",
    "\n",
    "import matplotlib.pyplot as plt\n",
    "\n",
    "import warnings\n",
    "warnings.simplefilter(\"ignore\")\n",
    "\n",
    "from astromodels.functions.function import _known_functions\n",
    "\n",
    "\n",
    "from jupyterthemes import jtplot\n",
    "jtplot.style(context=\"talk\", fscale=1, ticks=True, grid=False)\n",
    "%matplotlib inline"
   ]
  },
  {
   "cell_type": "code",
   "execution_count": 2,
   "id": "47c1e7d1",
   "metadata": {
    "execution": {
     "iopub.execute_input": "2025-04-26T01:25:01.077487Z",
     "iopub.status.busy": "2025-04-26T01:25:01.077159Z",
     "iopub.status.idle": "2025-04-26T01:25:01.085532Z",
     "shell.execute_reply": "2025-04-26T01:25:01.085101Z"
    },
    "nbsphinx": "hidden",
    "papermill": {
     "duration": 0.011137,
     "end_time": "2025-04-26T01:25:01.086643",
     "exception": false,
     "start_time": "2025-04-26T01:25:01.075506",
     "status": "completed"
    },
    "tags": [
     "parameters"
    ]
   },
   "outputs": [],
   "source": [
    "func_name = \"TbAbs\"\n",
    "\n",
    "positive_prior = False\n"
   ]
  },
  {
   "cell_type": "code",
   "execution_count": 3,
   "id": "72ece8da",
   "metadata": {
    "execution": {
     "iopub.execute_input": "2025-04-26T01:25:01.089304Z",
     "iopub.status.busy": "2025-04-26T01:25:01.089158Z",
     "iopub.status.idle": "2025-04-26T01:25:01.097126Z",
     "shell.execute_reply": "2025-04-26T01:25:01.096759Z"
    },
    "papermill": {
     "duration": 0.010496,
     "end_time": "2025-04-26T01:25:01.098230",
     "exception": false,
     "start_time": "2025-04-26T01:25:01.087734",
     "status": "completed"
    },
    "tags": [
     "injected-parameters"
    ]
   },
   "outputs": [],
   "source": [
    "# Parameters\n",
    "func_name = \"Cosine_Prior\"\n",
    "positive_prior = False\n"
   ]
  },
  {
   "cell_type": "code",
   "execution_count": 4,
   "id": "2ef69677",
   "metadata": {
    "execution": {
     "iopub.execute_input": "2025-04-26T01:25:01.100867Z",
     "iopub.status.busy": "2025-04-26T01:25:01.100731Z",
     "iopub.status.idle": "2025-04-26T01:25:01.103545Z",
     "shell.execute_reply": "2025-04-26T01:25:01.103228Z"
    },
    "lines_to_next_cell": 0,
    "nbsphinx": "hidden",
    "papermill": {
     "duration": 0.005297,
     "end_time": "2025-04-26T01:25:01.104611",
     "exception": false,
     "start_time": "2025-04-26T01:25:01.099314",
     "status": "completed"
    },
    "tags": []
   },
   "outputs": [],
   "source": [
    "func = _known_functions[func_name]()\n",
    "\n",
    "if not positive_prior:\n",
    "\n",
    "\tenergy_grid = np.linspace(-5,5,1000)\n",
    "\n",
    "else:\n",
    "    \n",
    "    energy_grid = np.linspace(0,1,1000)\n",
    "    \n",
    "    \n",
    "    \n",
    "    \n",
    "blue = \"#4152E3\"\n",
    "red = \"#E3414B\"\n",
    "green = \"#41E39E\""
   ]
  },
  {
   "cell_type": "markdown",
   "id": "89cf5da2",
   "metadata": {
    "lines_to_next_cell": 0,
    "papermill": {
     "duration": 0.000973,
     "end_time": "2025-04-26T01:25:01.106621",
     "exception": false,
     "start_time": "2025-04-26T01:25:01.105648",
     "status": "completed"
    },
    "tags": []
   },
   "source": [
    "## Description"
   ]
  },
  {
   "cell_type": "code",
   "execution_count": 5,
   "id": "c556ffe1",
   "metadata": {
    "execution": {
     "iopub.execute_input": "2025-04-26T01:25:01.109107Z",
     "iopub.status.busy": "2025-04-26T01:25:01.108965Z",
     "iopub.status.idle": "2025-04-26T01:25:01.116421Z",
     "shell.execute_reply": "2025-04-26T01:25:01.116017Z"
    },
    "papermill": {
     "duration": 0.009917,
     "end_time": "2025-04-26T01:25:01.117495",
     "exception": false,
     "start_time": "2025-04-26T01:25:01.107578",
     "status": "completed"
    },
    "tags": []
   },
   "outputs": [
    {
     "data": {
      "text/html": [
       "<ul>\n",
       "\n",
       "<li>description: A function which is constant on the interval angular interval of cosine</li>\n",
       "\n",
       "<li>formula: $\\cos(x)$</li>\n",
       "\n",
       "<li>parameters: \n",
       "<ul>\n",
       "\n",
       "<li>lower_bound: \n",
       "<ul>\n",
       "\n",
       "<li>value: -90.0</li>\n",
       "\n",
       "<li>desc: Lower bound for the interval</li>\n",
       "\n",
       "<li>min_value: -inf</li>\n",
       "\n",
       "<li>max_value: inf</li>\n",
       "\n",
       "<li>unit: </li>\n",
       "\n",
       "<li>is_normalization: False</li>\n",
       "\n",
       "<li>delta: 9.0</li>\n",
       "\n",
       "<li>free: True</li>\n",
       "\n",
       "</ul>\n",
       "\n",
       "</li>\n",
       "\n",
       "<li>upper_bound: \n",
       "<ul>\n",
       "\n",
       "<li>value: 90.0</li>\n",
       "\n",
       "<li>desc: Upper bound for the interval</li>\n",
       "\n",
       "<li>min_value: -inf</li>\n",
       "\n",
       "<li>max_value: inf</li>\n",
       "\n",
       "<li>unit: </li>\n",
       "\n",
       "<li>is_normalization: False</li>\n",
       "\n",
       "<li>delta: 9.0</li>\n",
       "\n",
       "<li>free: True</li>\n",
       "\n",
       "</ul>\n",
       "\n",
       "</li>\n",
       "\n",
       "<li>value: \n",
       "<ul>\n",
       "\n",
       "<li>value: 1.0</li>\n",
       "\n",
       "<li>desc: Value in the interval</li>\n",
       "\n",
       "<li>min_value: None</li>\n",
       "\n",
       "<li>max_value: None</li>\n",
       "\n",
       "<li>unit: </li>\n",
       "\n",
       "<li>is_normalization: False</li>\n",
       "\n",
       "<li>delta: 0.1</li>\n",
       "\n",
       "<li>free: True</li>\n",
       "\n",
       "</ul>\n",
       "\n",
       "</li>\n",
       "\n",
       "</ul>\n",
       "\n",
       "</li>\n",
       "\n",
       "</ul>\n"
      ],
      "text/plain": [
       "  * description: A function which is constant on the interval angular interval of cosine\n",
       "  * formula: $\\cos(x)$\n",
       "  * parameters:\n",
       "    * lower_bound:\n",
       "      * value: -90.0\n",
       "      * desc: Lower bound for the interval\n",
       "      * min_value: -.inf\n",
       "      * max_value: .inf\n",
       "      * unit: ''\n",
       "      * is_normalization: false\n",
       "      * delta: 9.0\n",
       "      * free: true\n",
       "    * upper_bound:\n",
       "      * value: 90.0\n",
       "      * desc: Upper bound for the interval\n",
       "      * min_value: -.inf\n",
       "      * max_value: .inf\n",
       "      * unit: ''\n",
       "      * is_normalization: false\n",
       "      * delta: 9.0\n",
       "      * free: true\n",
       "    * value:\n",
       "      * value: 1.0\n",
       "      * desc: Value in the interval\n",
       "      * min_value: null\n",
       "      * max_value: null\n",
       "      * unit: ''\n",
       "      * is_normalization: false\n",
       "      * delta: 0.1\n",
       "      * free: true"
      ]
     },
     "metadata": {},
     "output_type": "display_data"
    }
   ],
   "source": [
    "func.display()"
   ]
  },
  {
   "cell_type": "markdown",
   "id": "560f361d",
   "metadata": {
    "papermill": {
     "duration": 0.001123,
     "end_time": "2025-04-26T01:25:01.119825",
     "exception": false,
     "start_time": "2025-04-26T01:25:01.118702",
     "status": "completed"
    },
    "tags": []
   },
   "source": [
    "## Shape \n",
    "\n",
    "The shape of the function. \n",
    "\n",
    "*If this is not a photon model but a prior or linear function then ignore the units as these docs are auto-generated*"
   ]
  },
  {
   "cell_type": "code",
   "execution_count": 6,
   "id": "22762057",
   "metadata": {
    "execution": {
     "iopub.execute_input": "2025-04-26T01:25:01.122647Z",
     "iopub.status.busy": "2025-04-26T01:25:01.122492Z",
     "iopub.status.idle": "2025-04-26T01:25:01.213153Z",
     "shell.execute_reply": "2025-04-26T01:25:01.211828Z"
    },
    "papermill": {
     "duration": 0.093559,
     "end_time": "2025-04-26T01:25:01.214518",
     "exception": false,
     "start_time": "2025-04-26T01:25:01.120959",
     "status": "completed"
    },
    "tags": [
     "nbsphinx-thumbnail"
    ]
   },
   "outputs": [
    {
     "data": {
      "text/plain": [
       "Text(0, 0.5, 'probability')"
      ]
     },
     "execution_count": 6,
     "metadata": {},
     "output_type": "execute_result"
    },
    {
     "data": {
      "image/png": "[encoded data removed]",
      "text/plain": [
       "<Figure size 1040x910 with 1 Axes>"
      ]
     },
     "metadata": {},
     "output_type": "display_data"
    }
   ],
   "source": [
    "fig, ax = plt.subplots()\n",
    "\n",
    "\n",
    "ax.plot(energy_grid, func(energy_grid), color=blue, lw=3)\n",
    "\n",
    "ax.set_xlabel(\"x\")\n",
    "ax.set_ylabel(\"probability\")\n"
   ]
  },
  {
   "cell_type": "markdown",
   "id": "ad42d1ce",
   "metadata": {
    "papermill": {
     "duration": 0.001915,
     "end_time": "2025-04-26T01:25:01.218785",
     "exception": false,
     "start_time": "2025-04-26T01:25:01.216870",
     "status": "completed"
    },
    "tags": []
   },
   "source": [
    "## Random Number Generation\n",
    "\n",
    "This is how we can generate random numbers from the prior.\n"
   ]
  },
  {
   "cell_type": "code",
   "execution_count": 7,
   "id": "941a9dc1",
   "metadata": {
    "execution": {
     "iopub.execute_input": "2025-04-26T01:25:01.228128Z",
     "iopub.status.busy": "2025-04-26T01:25:01.227921Z",
     "iopub.status.idle": "2025-04-26T01:25:01.342899Z",
     "shell.execute_reply": "2025-04-26T01:25:01.342549Z"
    },
    "papermill": {
     "duration": 0.121248,
     "end_time": "2025-04-26T01:25:01.344178",
     "exception": false,
     "start_time": "2025-04-26T01:25:01.222930",
     "status": "completed"
    },
    "tags": []
   },
   "outputs": [
    {
     "data": {
      "text/plain": [
       "Text(0, 0.5, 'N')"
      ]
     },
     "execution_count": 7,
     "metadata": {},
     "output_type": "execute_result"
    },
    {
     "data": {
      "image/png": "[encoded data removed]",
      "text/plain": [
       "<Figure size 1040x910 with 1 Axes>"
      ]
     },
     "metadata": {},
     "output_type": "display_data"
    }
   ],
   "source": [
    "\n",
    "\n",
    "u = np.random.uniform(0,1, size=5000)\n",
    "\n",
    "draws = [func.from_unit_cube(x) for x in u]\n",
    "\n",
    "\n",
    "fig, ax = plt.subplots()\n",
    "\n",
    "\n",
    "ax.hist(draws, color=green, bins=50)\n",
    "\n",
    "ax.set_xlabel(\"value\")\n",
    "ax.set_ylabel(\"N\")\n",
    "\n"
   ]
  }
 ],
 "metadata": {
  "jupytext": {
   "formats": "ipynb,md"
  },
  "kernelspec": {
   "display_name": "Python 3 (ipykernel)",
   "language": "python",
   "name": "python3"
  },
  "language_info": {
   "codemirror_mode": {
    "name": "ipython",
    "version": 3
   },
   "file_extension": ".py",
   "mimetype": "text/x-python",
   "name": "python",
   "nbconvert_exporter": "python",
   "pygments_lexer": "ipython3",
   "version": "3.9.13"
  },
  "papermill": {
   "default_parameters": {},
   "duration": 2.544913,
   "end_time": "2025-04-26T01:25:01.682832",
   "environment_variables": {},
   "exception": null,
   "input_path": "Cosine_Prior.ipynb",
   "output_path": "/Users/runner/work/astromodels/astromodels/docs/notebooks/Cosine_Prior.ipynb",
   "parameters": {
    "func_name": "Cosine_Prior",
    "positive_prior": false
   },
   "start_time": "2025-04-26T01:24:59.137919",
   "version": "2.6.0"
  }
 },
 "nbformat": 4,
 "nbformat_minor": 5
}
