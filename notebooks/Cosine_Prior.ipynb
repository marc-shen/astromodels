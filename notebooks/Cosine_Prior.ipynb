{
 "cells": [
  {
   "cell_type": "markdown",
   "id": "b2059004",
   "metadata": {
    "papermill": {
     "duration": 0.003341,
     "end_time": "2024-02-07T19:36:51.255656",
     "exception": false,
     "start_time": "2024-02-07T19:36:51.252315",
     "status": "completed"
    },
    "tags": []
   },
   "source": [
    "# Cosine Prior"
   ]
  },
  {
   "cell_type": "code",
   "execution_count": 1,
   "id": "96a86207",
   "metadata": {
    "execution": {
     "iopub.execute_input": "2024-02-07T19:36:51.262439Z",
     "iopub.status.busy": "2024-02-07T19:36:51.262028Z",
     "iopub.status.idle": "2024-02-07T19:36:53.993375Z",
     "shell.execute_reply": "2024-02-07T19:36:53.991840Z"
    },
    "nbsphinx": "hidden",
    "papermill": {
     "duration": 2.738989,
     "end_time": "2024-02-07T19:36:53.997186",
     "exception": false,
     "start_time": "2024-02-07T19:36:51.258197",
     "status": "completed"
    },
    "tags": []
   },
   "outputs": [],
   "source": [
    "%%capture\n",
    "\n",
    "import numpy as np\n",
    "\n",
    "import matplotlib.pyplot as plt\n",
    "\n",
    "import warnings\n",
    "warnings.simplefilter(\"ignore\")\n",
    "\n",
    "from astromodels.functions.function import _known_functions\n",
    "\n",
    "\n",
    "from jupyterthemes import jtplot\n",
    "jtplot.style(context=\"talk\", fscale=1, ticks=True, grid=False)\n",
    "%matplotlib inline"
   ]
  },
  {
   "cell_type": "code",
   "execution_count": 2,
   "id": "a26e3b72",
   "metadata": {
    "execution": {
     "iopub.execute_input": "2024-02-07T19:36:54.004018Z",
     "iopub.status.busy": "2024-02-07T19:36:54.003633Z",
     "iopub.status.idle": "2024-02-07T19:36:54.008942Z",
     "shell.execute_reply": "2024-02-07T19:36:54.007731Z"
    },
    "nbsphinx": "hidden",
    "papermill": {
     "duration": 0.013048,
     "end_time": "2024-02-07T19:36:54.012925",
     "exception": false,
     "start_time": "2024-02-07T19:36:53.999877",
     "status": "completed"
    },
    "tags": [
     "parameters"
    ]
   },
   "outputs": [],
   "source": [
    "func_name = \"TbAbs\"\n",
    "\n",
    "positive_prior = False\n"
   ]
  },
  {
   "cell_type": "code",
   "execution_count": 3,
   "id": "6b1c716a",
   "metadata": {
    "execution": {
     "iopub.execute_input": "2024-02-07T19:36:54.019584Z",
     "iopub.status.busy": "2024-02-07T19:36:54.019239Z",
     "iopub.status.idle": "2024-02-07T19:36:54.024608Z",
     "shell.execute_reply": "2024-02-07T19:36:54.023436Z"
    },
    "papermill": {
     "duration": 0.012826,
     "end_time": "2024-02-07T19:36:54.028288",
     "exception": false,
     "start_time": "2024-02-07T19:36:54.015462",
     "status": "completed"
    },
    "tags": [
     "injected-parameters"
    ]
   },
   "outputs": [],
   "source": [
    "# Parameters\n",
    "func_name = \"Cosine_Prior\"\n",
    "positive_prior = False\n"
   ]
  },
  {
   "cell_type": "code",
   "execution_count": 4,
   "id": "11d63755",
   "metadata": {
    "execution": {
     "iopub.execute_input": "2024-02-07T19:36:54.034988Z",
     "iopub.status.busy": "2024-02-07T19:36:54.034641Z",
     "iopub.status.idle": "2024-02-07T19:36:54.043559Z",
     "shell.execute_reply": "2024-02-07T19:36:54.042351Z"
    },
    "lines_to_next_cell": 0,
    "nbsphinx": "hidden",
    "papermill": {
     "duration": 0.017287,
     "end_time": "2024-02-07T19:36:54.048065",
     "exception": false,
     "start_time": "2024-02-07T19:36:54.030778",
     "status": "completed"
    },
    "tags": []
   },
   "outputs": [],
   "source": [
    "func = _known_functions[func_name]()\n",
    "\n",
    "if not positive_prior:\n",
    "\n",
    "\tenergy_grid = np.linspace(-5,5,1000)\n",
    "\n",
    "else:\n",
    "    \n",
    "    energy_grid = np.linspace(0,1,1000)\n",
    "    \n",
    "    \n",
    "    \n",
    "    \n",
    "blue = \"#4152E3\"\n",
    "red = \"#E3414B\"\n",
    "green = \"#41E39E\""
   ]
  },
  {
   "cell_type": "markdown",
   "id": "93dcd0a6",
   "metadata": {
    "lines_to_next_cell": 0,
    "papermill": {
     "duration": 0.002783,
     "end_time": "2024-02-07T19:36:54.053415",
     "exception": false,
     "start_time": "2024-02-07T19:36:54.050632",
     "status": "completed"
    },
    "tags": []
   },
   "source": [
    "## Description"
   ]
  },
  {
   "cell_type": "code",
   "execution_count": 5,
   "id": "a0b0d574",
   "metadata": {
    "execution": {
     "iopub.execute_input": "2024-02-07T19:36:54.060816Z",
     "iopub.status.busy": "2024-02-07T19:36:54.060306Z",
     "iopub.status.idle": "2024-02-07T19:36:54.075875Z",
     "shell.execute_reply": "2024-02-07T19:36:54.074520Z"
    },
    "papermill": {
     "duration": 0.023949,
     "end_time": "2024-02-07T19:36:54.079845",
     "exception": false,
     "start_time": "2024-02-07T19:36:54.055896",
     "status": "completed"
    },
    "tags": []
   },
   "outputs": [
    {
     "data": {
      "text/html": [
       "<ul>\n",
       "\n",
       "<li>description: A function which is constant on the interval angular interval of cosine</li>\n",
       "\n",
       "<li>formula: $\\cos(x)$</li>\n",
       "\n",
       "<li>parameters: \n",
       "<ul>\n",
       "\n",
       "<li>lower_bound: \n",
       "<ul>\n",
       "\n",
       "<li>value: -90.0</li>\n",
       "\n",
       "<li>desc: Lower bound for the interval</li>\n",
       "\n",
       "<li>min_value: -inf</li>\n",
       "\n",
       "<li>max_value: inf</li>\n",
       "\n",
       "<li>unit: </li>\n",
       "\n",
       "<li>is_normalization: False</li>\n",
       "\n",
       "<li>delta: 9.0</li>\n",
       "\n",
       "<li>free: True</li>\n",
       "\n",
       "</ul>\n",
       "\n",
       "</li>\n",
       "\n",
       "<li>upper_bound: \n",
       "<ul>\n",
       "\n",
       "<li>value: 90.0</li>\n",
       "\n",
       "<li>desc: Upper bound for the interval</li>\n",
       "\n",
       "<li>min_value: -inf</li>\n",
       "\n",
       "<li>max_value: inf</li>\n",
       "\n",
       "<li>unit: </li>\n",
       "\n",
       "<li>is_normalization: False</li>\n",
       "\n",
       "<li>delta: 9.0</li>\n",
       "\n",
       "<li>free: True</li>\n",
       "\n",
       "</ul>\n",
       "\n",
       "</li>\n",
       "\n",
       "<li>value: \n",
       "<ul>\n",
       "\n",
       "<li>value: 1.0</li>\n",
       "\n",
       "<li>desc: Value in the interval</li>\n",
       "\n",
       "<li>min_value: None</li>\n",
       "\n",
       "<li>max_value: None</li>\n",
       "\n",
       "<li>unit: </li>\n",
       "\n",
       "<li>is_normalization: False</li>\n",
       "\n",
       "<li>delta: 0.1</li>\n",
       "\n",
       "<li>free: True</li>\n",
       "\n",
       "</ul>\n",
       "\n",
       "</li>\n",
       "\n",
       "</ul>\n",
       "\n",
       "</li>\n",
       "\n",
       "</ul>\n"
      ],
      "text/plain": [
       "  * description: A function which is constant on the interval angular interval of cosine\n",
       "  * formula: $\\cos(x)$\n",
       "  * parameters:\n",
       "    * lower_bound:\n",
       "      * value: -90.0\n",
       "      * desc: Lower bound for the interval\n",
       "      * min_value: -.inf\n",
       "      * max_value: .inf\n",
       "      * unit: ''\n",
       "      * is_normalization: false\n",
       "      * delta: 9.0\n",
       "      * free: true\n",
       "    * upper_bound:\n",
       "      * value: 90.0\n",
       "      * desc: Upper bound for the interval\n",
       "      * min_value: -.inf\n",
       "      * max_value: .inf\n",
       "      * unit: ''\n",
       "      * is_normalization: false\n",
       "      * delta: 9.0\n",
       "      * free: true\n",
       "    * value:\n",
       "      * value: 1.0\n",
       "      * desc: Value in the interval\n",
       "      * min_value: null\n",
       "      * max_value: null\n",
       "      * unit: ''\n",
       "      * is_normalization: false\n",
       "      * delta: 0.1\n",
       "      * free: true"
      ]
     },
     "metadata": {},
     "output_type": "display_data"
    }
   ],
   "source": [
    "func.display()"
   ]
  },
  {
   "cell_type": "markdown",
   "id": "7d87e31f",
   "metadata": {
    "papermill": {
     "duration": 0.002931,
     "end_time": "2024-02-07T19:36:54.085726",
     "exception": false,
     "start_time": "2024-02-07T19:36:54.082795",
     "status": "completed"
    },
    "tags": []
   },
   "source": [
    "## Shape \n",
    "\n",
    "The shape of the function. \n",
    "\n",
    "*If this is not a photon model but a prior or linear function then ignore the units as these docs are auto-generated*"
   ]
  },
  {
   "cell_type": "code",
   "execution_count": 6,
   "id": "eb440e20",
   "metadata": {
    "execution": {
     "iopub.execute_input": "2024-02-07T19:36:54.094201Z",
     "iopub.status.busy": "2024-02-07T19:36:54.093416Z",
     "iopub.status.idle": "2024-02-07T19:36:54.322425Z",
     "shell.execute_reply": "2024-02-07T19:36:54.321010Z"
    },
    "papermill": {
     "duration": 0.237539,
     "end_time": "2024-02-07T19:36:54.326348",
     "exception": false,
     "start_time": "2024-02-07T19:36:54.088809",
     "status": "completed"
    },
    "tags": [
     "nbsphinx-thumbnail"
    ]
   },
   "outputs": [
    {
     "data": {
      "text/plain": [
       "Text(0, 0.5, 'probability')"
      ]
     },
     "execution_count": 6,
     "metadata": {},
     "output_type": "execute_result"
    },
    {
     "data": {
      "image/png": "[encoded data removed]",
      "text/plain": [
       "<Figure size 1040x910 with 1 Axes>"
      ]
     },
     "metadata": {},
     "output_type": "display_data"
    }
   ],
   "source": [
    "fig, ax = plt.subplots()\n",
    "\n",
    "\n",
    "ax.plot(energy_grid, func(energy_grid), color=blue, lw=3)\n",
    "\n",
    "ax.set_xlabel(\"x\")\n",
    "ax.set_ylabel(\"probability\")\n"
   ]
  },
  {
   "cell_type": "markdown",
   "id": "1c8981b1",
   "metadata": {
    "papermill": {
     "duration": 0.003999,
     "end_time": "2024-02-07T19:36:54.333850",
     "exception": false,
     "start_time": "2024-02-07T19:36:54.329851",
     "status": "completed"
    },
    "tags": []
   },
   "source": [
    "## Random Number Generation\n",
    "\n",
    "This is how we can generate random numbers from the prior.\n"
   ]
  },
  {
   "cell_type": "code",
   "execution_count": 7,
   "id": "e4927bf7",
   "metadata": {
    "execution": {
     "iopub.execute_input": "2024-02-07T19:36:54.342180Z",
     "iopub.status.busy": "2024-02-07T19:36:54.341824Z",
     "iopub.status.idle": "2024-02-07T19:36:54.655641Z",
     "shell.execute_reply": "2024-02-07T19:36:54.654468Z"
    },
    "papermill": {
     "duration": 0.322551,
     "end_time": "2024-02-07T19:36:54.659564",
     "exception": false,
     "start_time": "2024-02-07T19:36:54.337013",
     "status": "completed"
    },
    "tags": []
   },
   "outputs": [
    {
     "data": {
      "text/plain": [
       "Text(0, 0.5, 'N')"
      ]
     },
     "execution_count": 7,
     "metadata": {},
     "output_type": "execute_result"
    },
    {
     "data": {
      "image/png": "[encoded data removed]",
      "text/plain": [
       "<Figure size 1040x910 with 1 Axes>"
      ]
     },
     "metadata": {},
     "output_type": "display_data"
    }
   ],
   "source": [
    "\n",
    "\n",
    "u = np.random.uniform(0,1, size=5000)\n",
    "\n",
    "draws = [func.from_unit_cube(x) for x in u]\n",
    "\n",
    "\n",
    "fig, ax = plt.subplots()\n",
    "\n",
    "\n",
    "ax.hist(draws, color=green, bins=50)\n",
    "\n",
    "ax.set_xlabel(\"value\")\n",
    "ax.set_ylabel(\"N\")\n",
    "\n"
   ]
  }
 ],
 "metadata": {
  "jupytext": {
   "formats": "ipynb,md"
  },
  "kernelspec": {
   "display_name": "Python 3 (ipykernel)",
   "language": "python",
   "name": "python3"
  },
  "language_info": {
   "codemirror_mode": {
    "name": "ipython",
    "version": 3
   },
   "file_extension": ".py",
   "mimetype": "text/x-python",
   "name": "python",
   "nbconvert_exporter": "python",
   "pygments_lexer": "ipython3",
   "version": "3.9.18"
  },
  "papermill": {
   "default_parameters": {},
   "duration": 4.86764,
   "end_time": "2024-02-07T19:36:55.189790",
   "environment_variables": {},
   "exception": null,
   "input_path": "Cosine_Prior.ipynb",
   "output_path": "/Users/runner/work/astromodels/astromodels/docs/notebooks/Cosine_Prior.ipynb",
   "parameters": {
    "func_name": "Cosine_Prior",
    "positive_prior": false
   },
   "start_time": "2024-02-07T19:36:50.322150",
   "version": "2.5.0"
  }
 },
 "nbformat": 4,
 "nbformat_minor": 5
}
