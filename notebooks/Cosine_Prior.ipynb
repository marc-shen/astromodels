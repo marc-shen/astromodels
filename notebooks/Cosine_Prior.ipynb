{
 "cells": [
  {
   "cell_type": "markdown",
   "id": "57f14b7a",
   "metadata": {
    "papermill": {
     "duration": 0.007479,
     "end_time": "2025-05-21T18:30:42.514680",
     "exception": false,
     "start_time": "2025-05-21T18:30:42.507201",
     "status": "completed"
    },
    "tags": []
   },
   "source": [
    "# Cosine Prior"
   ]
  },
  {
   "cell_type": "code",
   "execution_count": 1,
   "id": "c5556151",
   "metadata": {
    "execution": {
     "iopub.execute_input": "2025-05-21T18:30:42.527457Z",
     "iopub.status.busy": "2025-05-21T18:30:42.526628Z",
     "iopub.status.idle": "2025-05-21T18:30:44.034154Z",
     "shell.execute_reply": "2025-05-21T18:30:44.033646Z"
    },
    "nbsphinx": "hidden",
    "papermill": {
     "duration": 1.514969,
     "end_time": "2025-05-21T18:30:44.035568",
     "exception": false,
     "start_time": "2025-05-21T18:30:42.520599",
     "status": "completed"
    },
    "tags": []
   },
   "outputs": [],
   "source": [
    "%%capture\n",
    "\n",
    "import numpy as np\n",
    "\n",
    "import matplotlib.pyplot as plt\n",
    "\n",
    "import warnings\n",
    "warnings.simplefilter(\"ignore\")\n",
    "\n",
    "from astromodels.functions.function import _known_functions\n",
    "\n",
    "\n",
    "from jupyterthemes import jtplot\n",
    "jtplot.style(context=\"talk\", fscale=1, ticks=True, grid=False)\n",
    "%matplotlib inline"
   ]
  },
  {
   "cell_type": "code",
   "execution_count": 2,
   "id": "c111af97",
   "metadata": {
    "execution": {
     "iopub.execute_input": "2025-05-21T18:30:44.038888Z",
     "iopub.status.busy": "2025-05-21T18:30:44.038561Z",
     "iopub.status.idle": "2025-05-21T18:30:44.040678Z",
     "shell.execute_reply": "2025-05-21T18:30:44.040323Z"
    },
    "nbsphinx": "hidden",
    "papermill": {
     "duration": 0.004763,
     "end_time": "2025-05-21T18:30:44.041726",
     "exception": false,
     "start_time": "2025-05-21T18:30:44.036963",
     "status": "completed"
    },
    "tags": [
     "parameters"
    ]
   },
   "outputs": [],
   "source": [
    "func_name = \"TbAbs\"\n",
    "\n",
    "positive_prior = False\n"
   ]
  },
  {
   "cell_type": "code",
   "execution_count": 3,
   "id": "e2a7cf39",
   "metadata": {
    "execution": {
     "iopub.execute_input": "2025-05-21T18:30:44.044322Z",
     "iopub.status.busy": "2025-05-21T18:30:44.044182Z",
     "iopub.status.idle": "2025-05-21T18:30:44.050700Z",
     "shell.execute_reply": "2025-05-21T18:30:44.050301Z"
    },
    "papermill": {
     "duration": 0.008993,
     "end_time": "2025-05-21T18:30:44.051720",
     "exception": false,
     "start_time": "2025-05-21T18:30:44.042727",
     "status": "completed"
    },
    "tags": [
     "injected-parameters"
    ]
   },
   "outputs": [],
   "source": [
    "# Parameters\n",
    "func_name = \"Cosine_Prior\"\n",
    "positive_prior = False\n"
   ]
  },
  {
   "cell_type": "code",
   "execution_count": 4,
   "id": "7432b30d",
   "metadata": {
    "execution": {
     "iopub.execute_input": "2025-05-21T18:30:44.054292Z",
     "iopub.status.busy": "2025-05-21T18:30:44.054150Z",
     "iopub.status.idle": "2025-05-21T18:30:44.060033Z",
     "shell.execute_reply": "2025-05-21T18:30:44.059644Z"
    },
    "lines_to_next_cell": 0,
    "nbsphinx": "hidden",
    "papermill": {
     "duration": 0.008364,
     "end_time": "2025-05-21T18:30:44.061098",
     "exception": false,
     "start_time": "2025-05-21T18:30:44.052734",
     "status": "completed"
    },
    "tags": []
   },
   "outputs": [],
   "source": [
    "func = _known_functions[func_name]()\n",
    "\n",
    "if not positive_prior:\n",
    "\n",
    "\tenergy_grid = np.linspace(-5,5,1000)\n",
    "\n",
    "else:\n",
    "    \n",
    "    energy_grid = np.linspace(0,1,1000)\n",
    "    \n",
    "    \n",
    "    \n",
    "    \n",
    "blue = \"#4152E3\"\n",
    "red = \"#E3414B\"\n",
    "green = \"#41E39E\""
   ]
  },
  {
   "cell_type": "markdown",
   "id": "0e510cb8",
   "metadata": {
    "lines_to_next_cell": 0,
    "papermill": {
     "duration": 0.001038,
     "end_time": "2025-05-21T18:30:44.063187",
     "exception": false,
     "start_time": "2025-05-21T18:30:44.062149",
     "status": "completed"
    },
    "tags": []
   },
   "source": [
    "## Description"
   ]
  },
  {
   "cell_type": "code",
   "execution_count": 5,
   "id": "426611f4",
   "metadata": {
    "execution": {
     "iopub.execute_input": "2025-05-21T18:30:44.065826Z",
     "iopub.status.busy": "2025-05-21T18:30:44.065679Z",
     "iopub.status.idle": "2025-05-21T18:30:44.069847Z",
     "shell.execute_reply": "2025-05-21T18:30:44.069472Z"
    },
    "papermill": {
     "duration": 0.006676,
     "end_time": "2025-05-21T18:30:44.070884",
     "exception": false,
     "start_time": "2025-05-21T18:30:44.064208",
     "status": "completed"
    },
    "tags": []
   },
   "outputs": [
    {
     "data": {
      "text/html": [
       "<ul>\n",
       "\n",
       "<li>description: A function which is constant on the interval angular interval of cosine</li>\n",
       "\n",
       "<li>formula: $\\cos(x)$</li>\n",
       "\n",
       "<li>parameters: \n",
       "<ul>\n",
       "\n",
       "<li>lower_bound: \n",
       "<ul>\n",
       "\n",
       "<li>value: -90.0</li>\n",
       "\n",
       "<li>desc: Lower bound for the interval</li>\n",
       "\n",
       "<li>min_value: -inf</li>\n",
       "\n",
       "<li>max_value: inf</li>\n",
       "\n",
       "<li>unit: </li>\n",
       "\n",
       "<li>is_normalization: False</li>\n",
       "\n",
       "<li>delta: 9.0</li>\n",
       "\n",
       "<li>free: True</li>\n",
       "\n",
       "</ul>\n",
       "\n",
       "</li>\n",
       "\n",
       "<li>upper_bound: \n",
       "<ul>\n",
       "\n",
       "<li>value: 90.0</li>\n",
       "\n",
       "<li>desc: Upper bound for the interval</li>\n",
       "\n",
       "<li>min_value: -inf</li>\n",
       "\n",
       "<li>max_value: inf</li>\n",
       "\n",
       "<li>unit: </li>\n",
       "\n",
       "<li>is_normalization: False</li>\n",
       "\n",
       "<li>delta: 9.0</li>\n",
       "\n",
       "<li>free: True</li>\n",
       "\n",
       "</ul>\n",
       "\n",
       "</li>\n",
       "\n",
       "<li>value: \n",
       "<ul>\n",
       "\n",
       "<li>value: 1.0</li>\n",
       "\n",
       "<li>desc: Value in the interval</li>\n",
       "\n",
       "<li>min_value: None</li>\n",
       "\n",
       "<li>max_value: None</li>\n",
       "\n",
       "<li>unit: </li>\n",
       "\n",
       "<li>is_normalization: False</li>\n",
       "\n",
       "<li>delta: 0.1</li>\n",
       "\n",
       "<li>free: True</li>\n",
       "\n",
       "</ul>\n",
       "\n",
       "</li>\n",
       "\n",
       "</ul>\n",
       "\n",
       "</li>\n",
       "\n",
       "</ul>\n"
      ],
      "text/plain": [
       "  * description: A function which is constant on the interval angular interval of cosine\n",
       "  * formula: $\\cos(x)$\n",
       "  * parameters:\n",
       "    * lower_bound:\n",
       "      * value: -90.0\n",
       "      * desc: Lower bound for the interval\n",
       "      * min_value: -.inf\n",
       "      * max_value: .inf\n",
       "      * unit: ''\n",
       "      * is_normalization: false\n",
       "      * delta: 9.0\n",
       "      * free: true\n",
       "    * upper_bound:\n",
       "      * value: 90.0\n",
       "      * desc: Upper bound for the interval\n",
       "      * min_value: -.inf\n",
       "      * max_value: .inf\n",
       "      * unit: ''\n",
       "      * is_normalization: false\n",
       "      * delta: 9.0\n",
       "      * free: true\n",
       "    * value:\n",
       "      * value: 1.0\n",
       "      * desc: Value in the interval\n",
       "      * min_value: null\n",
       "      * max_value: null\n",
       "      * unit: ''\n",
       "      * is_normalization: false\n",
       "      * delta: 0.1\n",
       "      * free: true"
      ]
     },
     "metadata": {},
     "output_type": "display_data"
    }
   ],
   "source": [
    "func.display()"
   ]
  },
  {
   "cell_type": "markdown",
   "id": "e8375860",
   "metadata": {
    "papermill": {
     "duration": 0.001113,
     "end_time": "2025-05-21T18:30:44.073138",
     "exception": false,
     "start_time": "2025-05-21T18:30:44.072025",
     "status": "completed"
    },
    "tags": []
   },
   "source": [
    "## Shape \n",
    "\n",
    "The shape of the function. \n",
    "\n",
    "*If this is not a photon model but a prior or linear function then ignore the units as these docs are auto-generated*"
   ]
  },
  {
   "cell_type": "code",
   "execution_count": 6,
   "id": "372d8e00",
   "metadata": {
    "execution": {
     "iopub.execute_input": "2025-05-21T18:30:44.075974Z",
     "iopub.status.busy": "2025-05-21T18:30:44.075830Z",
     "iopub.status.idle": "2025-05-21T18:30:44.153218Z",
     "shell.execute_reply": "2025-05-21T18:30:44.152888Z"
    },
    "papermill": {
     "duration": 0.080252,
     "end_time": "2025-05-21T18:30:44.154465",
     "exception": false,
     "start_time": "2025-05-21T18:30:44.074213",
     "status": "completed"
    },
    "tags": [
     "nbsphinx-thumbnail"
    ]
   },
   "outputs": [
    {
     "data": {
      "text/plain": [
       "Text(0, 0.5, 'probability')"
      ]
     },
     "execution_count": 6,
     "metadata": {},
     "output_type": "execute_result"
    },
    {
     "data": {
      "image/png": "[encoded data removed]",
      "text/plain": [
       "<Figure size 1040x910 with 1 Axes>"
      ]
     },
     "metadata": {},
     "output_type": "display_data"
    }
   ],
   "source": [
    "fig, ax = plt.subplots()\n",
    "\n",
    "\n",
    "ax.plot(energy_grid, func(energy_grid), color=blue, lw=3)\n",
    "\n",
    "ax.set_xlabel(\"x\")\n",
    "ax.set_ylabel(\"probability\")\n"
   ]
  },
  {
   "cell_type": "markdown",
   "id": "9a7bb566",
   "metadata": {
    "papermill": {
     "duration": 0.001537,
     "end_time": "2025-05-21T18:30:44.157762",
     "exception": false,
     "start_time": "2025-05-21T18:30:44.156225",
     "status": "completed"
    },
    "tags": []
   },
   "source": [
    "## Random Number Generation\n",
    "\n",
    "This is how we can generate random numbers from the prior.\n"
   ]
  },
  {
   "cell_type": "code",
   "execution_count": 7,
   "id": "ebfa0f68",
   "metadata": {
    "execution": {
     "iopub.execute_input": "2025-05-21T18:30:44.161449Z",
     "iopub.status.busy": "2025-05-21T18:30:44.161303Z",
     "iopub.status.idle": "2025-05-21T18:30:44.283113Z",
     "shell.execute_reply": "2025-05-21T18:30:44.282701Z"
    },
    "papermill": {
     "duration": 0.125143,
     "end_time": "2025-05-21T18:30:44.284277",
     "exception": false,
     "start_time": "2025-05-21T18:30:44.159134",
     "status": "completed"
    },
    "tags": []
   },
   "outputs": [
    {
     "data": {
      "text/plain": [
       "Text(0, 0.5, 'N')"
      ]
     },
     "execution_count": 7,
     "metadata": {},
     "output_type": "execute_result"
    },
    {
     "data": {
      "image/png": "[encoded data removed]",
      "text/plain": [
       "<Figure size 1040x910 with 1 Axes>"
      ]
     },
     "metadata": {},
     "output_type": "display_data"
    }
   ],
   "source": [
    "\n",
    "\n",
    "u = np.random.uniform(0,1, size=5000)\n",
    "\n",
    "draws = [func.from_unit_cube(x) for x in u]\n",
    "\n",
    "\n",
    "fig, ax = plt.subplots()\n",
    "\n",
    "\n",
    "ax.hist(draws, color=green, bins=50)\n",
    "\n",
    "ax.set_xlabel(\"value\")\n",
    "ax.set_ylabel(\"N\")\n",
    "\n"
   ]
  }
 ],
 "metadata": {
  "jupytext": {
   "formats": "ipynb,md"
  },
  "kernelspec": {
   "display_name": "Python 3 (ipykernel)",
   "language": "python",
   "name": "python3"
  },
  "language_info": {
   "codemirror_mode": {
    "name": "ipython",
    "version": 3
   },
   "file_extension": ".py",
   "mimetype": "text/x-python",
   "name": "python",
   "nbconvert_exporter": "python",
   "pygments_lexer": "ipython3",
   "version": "3.9.13"
  },
  "papermill": {
   "default_parameters": {},
   "duration": 2.642183,
   "end_time": "2025-05-21T18:30:44.610691",
   "environment_variables": {},
   "exception": null,
   "input_path": "Cosine_Prior.ipynb",
   "output_path": "/Users/runner/work/astromodels/astromodels/docs/notebooks/Cosine_Prior.ipynb",
   "parameters": {
    "func_name": "Cosine_Prior",
    "positive_prior": false
   },
   "start_time": "2025-05-21T18:30:41.968508",
   "version": "2.6.0"
  }
 },
 "nbformat": 4,
 "nbformat_minor": 5
}
