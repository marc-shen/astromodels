{
 "cells": [
  {
   "cell_type": "markdown",
   "id": "d0d5feea",
   "metadata": {
    "papermill": {
     "duration": 0.009503,
     "end_time": "2024-09-09T18:56:21.460389",
     "exception": false,
     "start_time": "2024-09-09T18:56:21.450886",
     "status": "completed"
    },
    "tags": []
   },
   "source": [
    "# Cosine Prior"
   ]
  },
  {
   "cell_type": "code",
   "execution_count": 1,
   "id": "9236be92",
   "metadata": {
    "execution": {
     "iopub.execute_input": "2024-09-09T18:56:21.473734Z",
     "iopub.status.busy": "2024-09-09T18:56:21.472660Z",
     "iopub.status.idle": "2024-09-09T18:56:22.882795Z",
     "shell.execute_reply": "2024-09-09T18:56:22.882288Z"
    },
    "nbsphinx": "hidden",
    "papermill": {
     "duration": 1.418756,
     "end_time": "2024-09-09T18:56:22.884379",
     "exception": false,
     "start_time": "2024-09-09T18:56:21.465623",
     "status": "completed"
    },
    "tags": []
   },
   "outputs": [],
   "source": [
    "%%capture\n",
    "\n",
    "import numpy as np\n",
    "\n",
    "import matplotlib.pyplot as plt\n",
    "\n",
    "import warnings\n",
    "warnings.simplefilter(\"ignore\")\n",
    "\n",
    "from astromodels.functions.function import _known_functions\n",
    "\n",
    "\n",
    "from jupyterthemes import jtplot\n",
    "jtplot.style(context=\"talk\", fscale=1, ticks=True, grid=False)\n",
    "%matplotlib inline"
   ]
  },
  {
   "cell_type": "code",
   "execution_count": 2,
   "id": "c59be0a3",
   "metadata": {
    "execution": {
     "iopub.execute_input": "2024-09-09T18:56:22.887570Z",
     "iopub.status.busy": "2024-09-09T18:56:22.887238Z",
     "iopub.status.idle": "2024-09-09T18:56:22.895679Z",
     "shell.execute_reply": "2024-09-09T18:56:22.895162Z"
    },
    "nbsphinx": "hidden",
    "papermill": {
     "duration": 0.011345,
     "end_time": "2024-09-09T18:56:22.897012",
     "exception": false,
     "start_time": "2024-09-09T18:56:22.885667",
     "status": "completed"
    },
    "tags": [
     "parameters"
    ]
   },
   "outputs": [],
   "source": [
    "func_name = \"TbAbs\"\n",
    "\n",
    "positive_prior = False\n"
   ]
  },
  {
   "cell_type": "code",
   "execution_count": 3,
   "id": "687a55e4",
   "metadata": {
    "execution": {
     "iopub.execute_input": "2024-09-09T18:56:22.899758Z",
     "iopub.status.busy": "2024-09-09T18:56:22.899606Z",
     "iopub.status.idle": "2024-09-09T18:56:22.907865Z",
     "shell.execute_reply": "2024-09-09T18:56:22.907473Z"
    },
    "papermill": {
     "duration": 0.011088,
     "end_time": "2024-09-09T18:56:22.909188",
     "exception": false,
     "start_time": "2024-09-09T18:56:22.898100",
     "status": "completed"
    },
    "tags": [
     "injected-parameters"
    ]
   },
   "outputs": [],
   "source": [
    "# Parameters\n",
    "func_name = \"Cosine_Prior\"\n",
    "positive_prior = False\n"
   ]
  },
  {
   "cell_type": "code",
   "execution_count": 4,
   "id": "b2d8519b",
   "metadata": {
    "execution": {
     "iopub.execute_input": "2024-09-09T18:56:22.912020Z",
     "iopub.status.busy": "2024-09-09T18:56:22.911868Z",
     "iopub.status.idle": "2024-09-09T18:56:22.914939Z",
     "shell.execute_reply": "2024-09-09T18:56:22.914603Z"
    },
    "lines_to_next_cell": 0,
    "nbsphinx": "hidden",
    "papermill": {
     "duration": 0.005877,
     "end_time": "2024-09-09T18:56:22.916176",
     "exception": false,
     "start_time": "2024-09-09T18:56:22.910299",
     "status": "completed"
    },
    "tags": []
   },
   "outputs": [],
   "source": [
    "func = _known_functions[func_name]()\n",
    "\n",
    "if not positive_prior:\n",
    "\n",
    "\tenergy_grid = np.linspace(-5,5,1000)\n",
    "\n",
    "else:\n",
    "    \n",
    "    energy_grid = np.linspace(0,1,1000)\n",
    "    \n",
    "    \n",
    "    \n",
    "    \n",
    "blue = \"#4152E3\"\n",
    "red = \"#E3414B\"\n",
    "green = \"#41E39E\""
   ]
  },
  {
   "cell_type": "markdown",
   "id": "785f98aa",
   "metadata": {
    "lines_to_next_cell": 0,
    "papermill": {
     "duration": 0.000982,
     "end_time": "2024-09-09T18:56:22.918201",
     "exception": false,
     "start_time": "2024-09-09T18:56:22.917219",
     "status": "completed"
    },
    "tags": []
   },
   "source": [
    "## Description"
   ]
  },
  {
   "cell_type": "code",
   "execution_count": 5,
   "id": "c33e888a",
   "metadata": {
    "execution": {
     "iopub.execute_input": "2024-09-09T18:56:22.920756Z",
     "iopub.status.busy": "2024-09-09T18:56:22.920621Z",
     "iopub.status.idle": "2024-09-09T18:56:22.924535Z",
     "shell.execute_reply": "2024-09-09T18:56:22.924057Z"
    },
    "papermill": {
     "duration": 0.006818,
     "end_time": "2024-09-09T18:56:22.925929",
     "exception": false,
     "start_time": "2024-09-09T18:56:22.919111",
     "status": "completed"
    },
    "tags": []
   },
   "outputs": [
    {
     "data": {
      "text/html": [
       "<ul>\n",
       "\n",
       "<li>description: A function which is constant on the interval angular interval of cosine</li>\n",
       "\n",
       "<li>formula: $\\cos(x)$</li>\n",
       "\n",
       "<li>parameters: \n",
       "<ul>\n",
       "\n",
       "<li>lower_bound: \n",
       "<ul>\n",
       "\n",
       "<li>value: -90.0</li>\n",
       "\n",
       "<li>desc: Lower bound for the interval</li>\n",
       "\n",
       "<li>min_value: -inf</li>\n",
       "\n",
       "<li>max_value: inf</li>\n",
       "\n",
       "<li>unit: </li>\n",
       "\n",
       "<li>is_normalization: False</li>\n",
       "\n",
       "<li>delta: 9.0</li>\n",
       "\n",
       "<li>free: True</li>\n",
       "\n",
       "</ul>\n",
       "\n",
       "</li>\n",
       "\n",
       "<li>upper_bound: \n",
       "<ul>\n",
       "\n",
       "<li>value: 90.0</li>\n",
       "\n",
       "<li>desc: Upper bound for the interval</li>\n",
       "\n",
       "<li>min_value: -inf</li>\n",
       "\n",
       "<li>max_value: inf</li>\n",
       "\n",
       "<li>unit: </li>\n",
       "\n",
       "<li>is_normalization: False</li>\n",
       "\n",
       "<li>delta: 9.0</li>\n",
       "\n",
       "<li>free: True</li>\n",
       "\n",
       "</ul>\n",
       "\n",
       "</li>\n",
       "\n",
       "<li>value: \n",
       "<ul>\n",
       "\n",
       "<li>value: 1.0</li>\n",
       "\n",
       "<li>desc: Value in the interval</li>\n",
       "\n",
       "<li>min_value: None</li>\n",
       "\n",
       "<li>max_value: None</li>\n",
       "\n",
       "<li>unit: </li>\n",
       "\n",
       "<li>is_normalization: False</li>\n",
       "\n",
       "<li>delta: 0.1</li>\n",
       "\n",
       "<li>free: True</li>\n",
       "\n",
       "</ul>\n",
       "\n",
       "</li>\n",
       "\n",
       "</ul>\n",
       "\n",
       "</li>\n",
       "\n",
       "</ul>\n"
      ],
      "text/plain": [
       "  * description: A function which is constant on the interval angular interval of cosine\n",
       "  * formula: $\\cos(x)$\n",
       "  * parameters:\n",
       "    * lower_bound:\n",
       "      * value: -90.0\n",
       "      * desc: Lower bound for the interval\n",
       "      * min_value: -.inf\n",
       "      * max_value: .inf\n",
       "      * unit: ''\n",
       "      * is_normalization: false\n",
       "      * delta: 9.0\n",
       "      * free: true\n",
       "    * upper_bound:\n",
       "      * value: 90.0\n",
       "      * desc: Upper bound for the interval\n",
       "      * min_value: -.inf\n",
       "      * max_value: .inf\n",
       "      * unit: ''\n",
       "      * is_normalization: false\n",
       "      * delta: 9.0\n",
       "      * free: true\n",
       "    * value:\n",
       "      * value: 1.0\n",
       "      * desc: Value in the interval\n",
       "      * min_value: null\n",
       "      * max_value: null\n",
       "      * unit: ''\n",
       "      * is_normalization: false\n",
       "      * delta: 0.1\n",
       "      * free: true"
      ]
     },
     "metadata": {},
     "output_type": "display_data"
    }
   ],
   "source": [
    "func.display()"
   ]
  },
  {
   "cell_type": "markdown",
   "id": "c519bc77",
   "metadata": {
    "papermill": {
     "duration": 0.001067,
     "end_time": "2024-09-09T18:56:22.928133",
     "exception": false,
     "start_time": "2024-09-09T18:56:22.927066",
     "status": "completed"
    },
    "tags": []
   },
   "source": [
    "## Shape \n",
    "\n",
    "The shape of the function. \n",
    "\n",
    "*If this is not a photon model but a prior or linear function then ignore the units as these docs are auto-generated*"
   ]
  },
  {
   "cell_type": "code",
   "execution_count": 6,
   "id": "a7b7ebd9",
   "metadata": {
    "execution": {
     "iopub.execute_input": "2024-09-09T18:56:22.930818Z",
     "iopub.status.busy": "2024-09-09T18:56:22.930675Z",
     "iopub.status.idle": "2024-09-09T18:56:23.030291Z",
     "shell.execute_reply": "2024-09-09T18:56:23.029937Z"
    },
    "papermill": {
     "duration": 0.102637,
     "end_time": "2024-09-09T18:56:23.031774",
     "exception": false,
     "start_time": "2024-09-09T18:56:22.929137",
     "status": "completed"
    },
    "tags": [
     "nbsphinx-thumbnail"
    ]
   },
   "outputs": [
    {
     "data": {
      "text/plain": [
       "Text(0, 0.5, 'probability')"
      ]
     },
     "execution_count": 6,
     "metadata": {},
     "output_type": "execute_result"
    },
    {
     "data": {
      "image/png": "[encoded data removed]",
      "text/plain": [
       "<Figure size 1040x910 with 1 Axes>"
      ]
     },
     "metadata": {},
     "output_type": "display_data"
    }
   ],
   "source": [
    "fig, ax = plt.subplots()\n",
    "\n",
    "\n",
    "ax.plot(energy_grid, func(energy_grid), color=blue, lw=3)\n",
    "\n",
    "ax.set_xlabel(\"x\")\n",
    "ax.set_ylabel(\"probability\")\n"
   ]
  },
  {
   "cell_type": "markdown",
   "id": "381caff7",
   "metadata": {
    "papermill": {
     "duration": 0.001411,
     "end_time": "2024-09-09T18:56:23.034871",
     "exception": false,
     "start_time": "2024-09-09T18:56:23.033460",
     "status": "completed"
    },
    "tags": []
   },
   "source": [
    "## Random Number Generation\n",
    "\n",
    "This is how we can generate random numbers from the prior.\n"
   ]
  },
  {
   "cell_type": "code",
   "execution_count": 7,
   "id": "2ec9cac2",
   "metadata": {
    "execution": {
     "iopub.execute_input": "2024-09-09T18:56:23.038365Z",
     "iopub.status.busy": "2024-09-09T18:56:23.038225Z",
     "iopub.status.idle": "2024-09-09T18:56:23.169878Z",
     "shell.execute_reply": "2024-09-09T18:56:23.169528Z"
    },
    "papermill": {
     "duration": 0.135099,
     "end_time": "2024-09-09T18:56:23.171324",
     "exception": false,
     "start_time": "2024-09-09T18:56:23.036225",
     "status": "completed"
    },
    "tags": []
   },
   "outputs": [
    {
     "data": {
      "text/plain": [
       "Text(0, 0.5, 'N')"
      ]
     },
     "execution_count": 7,
     "metadata": {},
     "output_type": "execute_result"
    },
    {
     "data": {
      "image/png": "[encoded data removed]",
      "text/plain": [
       "<Figure size 1040x910 with 1 Axes>"
      ]
     },
     "metadata": {},
     "output_type": "display_data"
    }
   ],
   "source": [
    "\n",
    "\n",
    "u = np.random.uniform(0,1, size=5000)\n",
    "\n",
    "draws = [func.from_unit_cube(x) for x in u]\n",
    "\n",
    "\n",
    "fig, ax = plt.subplots()\n",
    "\n",
    "\n",
    "ax.hist(draws, color=green, bins=50)\n",
    "\n",
    "ax.set_xlabel(\"value\")\n",
    "ax.set_ylabel(\"N\")\n",
    "\n"
   ]
  }
 ],
 "metadata": {
  "jupytext": {
   "formats": "ipynb,md"
  },
  "kernelspec": {
   "display_name": "Python 3 (ipykernel)",
   "language": "python",
   "name": "python3"
  },
  "language_info": {
   "codemirror_mode": {
    "name": "ipython",
    "version": 3
   },
   "file_extension": ".py",
   "mimetype": "text/x-python",
   "name": "python",
   "nbconvert_exporter": "python",
   "pygments_lexer": "ipython3",
   "version": "3.9.13"
  },
  "papermill": {
   "default_parameters": {},
   "duration": 2.765787,
   "end_time": "2024-09-09T18:56:23.509487",
   "environment_variables": {},
   "exception": null,
   "input_path": "Cosine_Prior.ipynb",
   "output_path": "/Users/runner/work/astromodels/astromodels/docs/notebooks/Cosine_Prior.ipynb",
   "parameters": {
    "func_name": "Cosine_Prior",
    "positive_prior": false
   },
   "start_time": "2024-09-09T18:56:20.743700",
   "version": "2.6.0"
  }
 },
 "nbformat": 4,
 "nbformat_minor": 5
}
