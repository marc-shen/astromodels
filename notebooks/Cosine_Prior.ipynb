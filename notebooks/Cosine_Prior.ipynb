{
 "cells": [
  {
   "cell_type": "markdown",
   "id": "aa2d9c15",
   "metadata": {
    "papermill": {
     "duration": 0.005199,
     "end_time": "2022-09-28T19:25:18.883823",
     "exception": false,
     "start_time": "2022-09-28T19:25:18.878624",
     "status": "completed"
    },
    "tags": []
   },
   "source": [
    "# Cosine Prior"
   ]
  },
  {
   "cell_type": "code",
   "execution_count": 1,
   "id": "3dcc35d8",
   "metadata": {
    "execution": {
     "iopub.execute_input": "2022-09-28T19:25:18.892840Z",
     "iopub.status.busy": "2022-09-28T19:25:18.892381Z",
     "iopub.status.idle": "2022-09-28T19:25:22.685045Z",
     "shell.execute_reply": "2022-09-28T19:25:22.683905Z"
    },
    "nbsphinx": "hidden",
    "papermill": {
     "duration": 3.801321,
     "end_time": "2022-09-28T19:25:22.688707",
     "exception": false,
     "start_time": "2022-09-28T19:25:18.887386",
     "status": "completed"
    },
    "tags": []
   },
   "outputs": [],
   "source": [
    "%%capture\n",
    "\n",
    "import numpy as np\n",
    "\n",
    "import matplotlib.pyplot as plt\n",
    "\n",
    "import warnings\n",
    "warnings.simplefilter(\"ignore\")\n",
    "\n",
    "from astromodels.functions.function import _known_functions\n",
    "\n",
    "\n",
    "from jupyterthemes import jtplot\n",
    "jtplot.style(context=\"talk\", fscale=1, ticks=True, grid=False)\n",
    "%matplotlib inline"
   ]
  },
  {
   "cell_type": "code",
   "execution_count": 2,
   "id": "da3a4449",
   "metadata": {
    "execution": {
     "iopub.execute_input": "2022-09-28T19:25:22.698741Z",
     "iopub.status.busy": "2022-09-28T19:25:22.697986Z",
     "iopub.status.idle": "2022-09-28T19:25:22.706196Z",
     "shell.execute_reply": "2022-09-28T19:25:22.702554Z"
    },
    "nbsphinx": "hidden",
    "papermill": {
     "duration": 0.016762,
     "end_time": "2022-09-28T19:25:22.709745",
     "exception": false,
     "start_time": "2022-09-28T19:25:22.692983",
     "status": "completed"
    },
    "tags": [
     "parameters"
    ]
   },
   "outputs": [],
   "source": [
    "func_name = \"TbAbs\"\n",
    "\n",
    "positive_prior = False\n"
   ]
  },
  {
   "cell_type": "code",
   "execution_count": 3,
   "id": "e2e2b484",
   "metadata": {
    "execution": {
     "iopub.execute_input": "2022-09-28T19:25:22.717885Z",
     "iopub.status.busy": "2022-09-28T19:25:22.716974Z",
     "iopub.status.idle": "2022-09-28T19:25:22.723564Z",
     "shell.execute_reply": "2022-09-28T19:25:22.722253Z"
    },
    "papermill": {
     "duration": 0.013984,
     "end_time": "2022-09-28T19:25:22.726597",
     "exception": false,
     "start_time": "2022-09-28T19:25:22.712613",
     "status": "completed"
    },
    "tags": [
     "injected-parameters"
    ]
   },
   "outputs": [],
   "source": [
    "# Parameters\n",
    "func_name = \"Cosine_Prior\"\n",
    "positive_prior = False\n"
   ]
  },
  {
   "cell_type": "code",
   "execution_count": 4,
   "id": "1e9e9086",
   "metadata": {
    "execution": {
     "iopub.execute_input": "2022-09-28T19:25:22.735479Z",
     "iopub.status.busy": "2022-09-28T19:25:22.734524Z",
     "iopub.status.idle": "2022-09-28T19:25:22.744214Z",
     "shell.execute_reply": "2022-09-28T19:25:22.742861Z"
    },
    "lines_to_next_cell": 0,
    "nbsphinx": "hidden",
    "papermill": {
     "duration": 0.017971,
     "end_time": "2022-09-28T19:25:22.747710",
     "exception": false,
     "start_time": "2022-09-28T19:25:22.729739",
     "status": "completed"
    },
    "tags": []
   },
   "outputs": [],
   "source": [
    "func = _known_functions[func_name]()\n",
    "\n",
    "if not positive_prior:\n",
    "\n",
    "\tenergy_grid = np.linspace(-5,5,1000)\n",
    "\n",
    "else:\n",
    "    \n",
    "    energy_grid = np.linspace(0,1,1000)\n",
    "    \n",
    "    \n",
    "    \n",
    "    \n",
    "blue = \"#4152E3\"\n",
    "red = \"#E3414B\"\n",
    "green = \"#41E39E\""
   ]
  },
  {
   "cell_type": "markdown",
   "id": "b9ad4a62",
   "metadata": {
    "lines_to_next_cell": 0,
    "papermill": {
     "duration": 0.003093,
     "end_time": "2022-09-28T19:25:22.753850",
     "exception": false,
     "start_time": "2022-09-28T19:25:22.750757",
     "status": "completed"
    },
    "tags": []
   },
   "source": [
    "## Description"
   ]
  },
  {
   "cell_type": "code",
   "execution_count": 5,
   "id": "fb848bad",
   "metadata": {
    "execution": {
     "iopub.execute_input": "2022-09-28T19:25:22.763501Z",
     "iopub.status.busy": "2022-09-28T19:25:22.762005Z",
     "iopub.status.idle": "2022-09-28T19:25:22.775578Z",
     "shell.execute_reply": "2022-09-28T19:25:22.774295Z"
    },
    "papermill": {
     "duration": 0.021844,
     "end_time": "2022-09-28T19:25:22.778972",
     "exception": false,
     "start_time": "2022-09-28T19:25:22.757128",
     "status": "completed"
    },
    "tags": []
   },
   "outputs": [
    {
     "data": {
      "text/html": [
       "<ul>\n",
       "\n",
       "<li>description: A function which is constant on the interval angular interval of cosine</li>\n",
       "\n",
       "<li>formula: $\\cos(x)$</li>\n",
       "\n",
       "<li>parameters: \n",
       "<ul>\n",
       "\n",
       "<li>lower_bound: \n",
       "<ul>\n",
       "\n",
       "<li>value: -90.0</li>\n",
       "\n",
       "<li>desc: Lower bound for the interval</li>\n",
       "\n",
       "<li>min_value: -inf</li>\n",
       "\n",
       "<li>max_value: inf</li>\n",
       "\n",
       "<li>unit: </li>\n",
       "\n",
       "<li>is_normalization: False</li>\n",
       "\n",
       "<li>delta: 9.0</li>\n",
       "\n",
       "<li>free: True</li>\n",
       "\n",
       "</ul>\n",
       "\n",
       "</li>\n",
       "\n",
       "<li>upper_bound: \n",
       "<ul>\n",
       "\n",
       "<li>value: 90.0</li>\n",
       "\n",
       "<li>desc: Upper bound for the interval</li>\n",
       "\n",
       "<li>min_value: -inf</li>\n",
       "\n",
       "<li>max_value: inf</li>\n",
       "\n",
       "<li>unit: </li>\n",
       "\n",
       "<li>is_normalization: False</li>\n",
       "\n",
       "<li>delta: 9.0</li>\n",
       "\n",
       "<li>free: True</li>\n",
       "\n",
       "</ul>\n",
       "\n",
       "</li>\n",
       "\n",
       "<li>value: \n",
       "<ul>\n",
       "\n",
       "<li>value: 1.0</li>\n",
       "\n",
       "<li>desc: Value in the interval</li>\n",
       "\n",
       "<li>min_value: None</li>\n",
       "\n",
       "<li>max_value: None</li>\n",
       "\n",
       "<li>unit: </li>\n",
       "\n",
       "<li>is_normalization: False</li>\n",
       "\n",
       "<li>delta: 0.1</li>\n",
       "\n",
       "<li>free: True</li>\n",
       "\n",
       "</ul>\n",
       "\n",
       "</li>\n",
       "\n",
       "</ul>\n",
       "\n",
       "</li>\n",
       "\n",
       "</ul>\n"
      ],
      "text/plain": [
       "  * description: A function which is constant on the interval angular interval of cosine\n",
       "  * formula: $\\cos(x)$\n",
       "  * parameters:\n",
       "    * lower_bound:\n",
       "      * value: -90.0\n",
       "      * desc: Lower bound for the interval\n",
       "      * min_value: -.inf\n",
       "      * max_value: .inf\n",
       "      * unit: ''\n",
       "      * is_normalization: false\n",
       "      * delta: 9.0\n",
       "      * free: true\n",
       "    * upper_bound:\n",
       "      * value: 90.0\n",
       "      * desc: Upper bound for the interval\n",
       "      * min_value: -.inf\n",
       "      * max_value: .inf\n",
       "      * unit: ''\n",
       "      * is_normalization: false\n",
       "      * delta: 9.0\n",
       "      * free: true\n",
       "    * value:\n",
       "      * value: 1.0\n",
       "      * desc: Value in the interval\n",
       "      * min_value: null\n",
       "      * max_value: null\n",
       "      * unit: ''\n",
       "      * is_normalization: false\n",
       "      * delta: 0.1\n",
       "      * free: true"
      ]
     },
     "metadata": {},
     "output_type": "display_data"
    }
   ],
   "source": [
    "func.display()"
   ]
  },
  {
   "cell_type": "markdown",
   "id": "b1fb7224",
   "metadata": {
    "papermill": {
     "duration": 0.003835,
     "end_time": "2022-09-28T19:25:22.786299",
     "exception": false,
     "start_time": "2022-09-28T19:25:22.782464",
     "status": "completed"
    },
    "tags": []
   },
   "source": [
    "## Shape \n",
    "\n",
    "The shape of the function. \n",
    "\n",
    "*If this is not a photon model but a prior or linear function then ignore the units as these docs are auto-generated*"
   ]
  },
  {
   "cell_type": "code",
   "execution_count": 6,
   "id": "17fedfa0",
   "metadata": {
    "execution": {
     "iopub.execute_input": "2022-09-28T19:25:22.796907Z",
     "iopub.status.busy": "2022-09-28T19:25:22.796405Z",
     "iopub.status.idle": "2022-09-28T19:25:23.891249Z",
     "shell.execute_reply": "2022-09-28T19:25:23.887635Z"
    },
    "papermill": {
     "duration": 1.110051,
     "end_time": "2022-09-28T19:25:23.900316",
     "exception": false,
     "start_time": "2022-09-28T19:25:22.790265",
     "status": "completed"
    },
    "tags": [
     "nbsphinx-thumbnail"
    ]
   },
   "outputs": [
    {
     "data": {
      "text/plain": [
       "Text(0, 0.5, 'probability')"
      ]
     },
     "execution_count": 6,
     "metadata": {},
     "output_type": "execute_result"
    },
    {
     "data": {
      "image/png": "[encoded data removed]",
      "text/plain": [
       "<Figure size 1040x910 with 1 Axes>"
      ]
     },
     "metadata": {},
     "output_type": "display_data"
    }
   ],
   "source": [
    "fig, ax = plt.subplots()\n",
    "\n",
    "\n",
    "ax.plot(energy_grid, func(energy_grid), color=blue, lw=3)\n",
    "\n",
    "ax.set_xlabel(\"x\")\n",
    "ax.set_ylabel(\"probability\")\n"
   ]
  },
  {
   "cell_type": "markdown",
   "id": "d75e909c",
   "metadata": {
    "papermill": {
     "duration": 0.004289,
     "end_time": "2022-09-28T19:25:23.908651",
     "exception": false,
     "start_time": "2022-09-28T19:25:23.904362",
     "status": "completed"
    },
    "tags": []
   },
   "source": [
    "## Random Number Generation\n",
    "\n",
    "This is how we can generate random numbers from the prior.\n"
   ]
  },
  {
   "cell_type": "code",
   "execution_count": 7,
   "id": "8e828c98",
   "metadata": {
    "execution": {
     "iopub.execute_input": "2022-09-28T19:25:23.919577Z",
     "iopub.status.busy": "2022-09-28T19:25:23.918818Z",
     "iopub.status.idle": "2022-09-28T19:25:24.574945Z",
     "shell.execute_reply": "2022-09-28T19:25:24.573955Z"
    },
    "papermill": {
     "duration": 0.665726,
     "end_time": "2022-09-28T19:25:24.578028",
     "exception": false,
     "start_time": "2022-09-28T19:25:23.912302",
     "status": "completed"
    },
    "tags": []
   },
   "outputs": [
    {
     "data": {
      "text/plain": [
       "Text(0, 0.5, 'N')"
      ]
     },
     "execution_count": 7,
     "metadata": {},
     "output_type": "execute_result"
    },
    {
     "data": {
      "image/png": "[encoded data removed]",
      "text/plain": [
       "<Figure size 1040x910 with 1 Axes>"
      ]
     },
     "metadata": {},
     "output_type": "display_data"
    }
   ],
   "source": [
    "\n",
    "\n",
    "u = np.random.uniform(0,1, size=5000)\n",
    "\n",
    "draws = [func.from_unit_cube(x) for x in u]\n",
    "\n",
    "\n",
    "fig, ax = plt.subplots()\n",
    "\n",
    "\n",
    "ax.hist(draws, color=green, bins=50)\n",
    "\n",
    "ax.set_xlabel(\"value\")\n",
    "ax.set_ylabel(\"N\")\n",
    "\n"
   ]
  }
 ],
 "metadata": {
  "jupytext": {
   "formats": "ipynb,md"
  },
  "kernelspec": {
   "display_name": "Python 3 (ipykernel)",
   "language": "python",
   "name": "python3"
  },
  "language_info": {
   "codemirror_mode": {
    "name": "ipython",
    "version": 3
   },
   "file_extension": ".py",
   "mimetype": "text/x-python",
   "name": "python",
   "nbconvert_exporter": "python",
   "pygments_lexer": "ipython3",
   "version": "3.9.14"
  },
  "papermill": {
   "default_parameters": {},
   "duration": 7.724578,
   "end_time": "2022-09-28T19:25:25.303982",
   "environment_variables": {},
   "exception": null,
   "input_path": "Cosine_Prior.ipynb",
   "output_path": "/Users/runner/work/astromodels/astromodels/docs/notebooks/Cosine_Prior.ipynb",
   "parameters": {
    "func_name": "Cosine_Prior",
    "positive_prior": false
   },
   "start_time": "2022-09-28T19:25:17.579404",
   "version": "2.4.0"
  }
 },
 "nbformat": 4,
 "nbformat_minor": 5
}
