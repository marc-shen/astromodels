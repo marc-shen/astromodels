{
 "cells": [
  {
   "cell_type": "markdown",
   "id": "2c0a40df",
   "metadata": {
    "papermill": {
     "duration": 0.00346,
     "end_time": "2023-11-01T22:36:35.681622",
     "exception": false,
     "start_time": "2023-11-01T22:36:35.678162",
     "status": "completed"
    },
    "tags": []
   },
   "source": [
    "# Cosine Prior"
   ]
  },
  {
   "cell_type": "code",
   "execution_count": 1,
   "id": "a994e3c8",
   "metadata": {
    "execution": {
     "iopub.execute_input": "2023-11-01T22:36:35.689251Z",
     "iopub.status.busy": "2023-11-01T22:36:35.688889Z",
     "iopub.status.idle": "2023-11-01T22:36:38.931067Z",
     "shell.execute_reply": "2023-11-01T22:36:38.929065Z"
    },
    "nbsphinx": "hidden",
    "papermill": {
     "duration": 3.251455,
     "end_time": "2023-11-01T22:36:38.936119",
     "exception": false,
     "start_time": "2023-11-01T22:36:35.684664",
     "status": "completed"
    },
    "tags": []
   },
   "outputs": [],
   "source": [
    "%%capture\n",
    "\n",
    "import numpy as np\n",
    "\n",
    "import matplotlib.pyplot as plt\n",
    "\n",
    "import warnings\n",
    "warnings.simplefilter(\"ignore\")\n",
    "\n",
    "from astromodels.functions.function import _known_functions\n",
    "\n",
    "\n",
    "from jupyterthemes import jtplot\n",
    "jtplot.style(context=\"talk\", fscale=1, ticks=True, grid=False)\n",
    "%matplotlib inline"
   ]
  },
  {
   "cell_type": "code",
   "execution_count": 2,
   "id": "30380636",
   "metadata": {
    "execution": {
     "iopub.execute_input": "2023-11-01T22:36:38.943947Z",
     "iopub.status.busy": "2023-11-01T22:36:38.943435Z",
     "iopub.status.idle": "2023-11-01T22:36:38.950118Z",
     "shell.execute_reply": "2023-11-01T22:36:38.948461Z"
    },
    "nbsphinx": "hidden",
    "papermill": {
     "duration": 0.017432,
     "end_time": "2023-11-01T22:36:38.956258",
     "exception": false,
     "start_time": "2023-11-01T22:36:38.938826",
     "status": "completed"
    },
    "tags": [
     "parameters"
    ]
   },
   "outputs": [],
   "source": [
    "func_name = \"TbAbs\"\n",
    "\n",
    "positive_prior = False\n"
   ]
  },
  {
   "cell_type": "code",
   "execution_count": 3,
   "id": "71a218ee",
   "metadata": {
    "execution": {
     "iopub.execute_input": "2023-11-01T22:36:38.967451Z",
     "iopub.status.busy": "2023-11-01T22:36:38.966715Z",
     "iopub.status.idle": "2023-11-01T22:36:38.977163Z",
     "shell.execute_reply": "2023-11-01T22:36:38.973592Z"
    },
    "papermill": {
     "duration": 0.02245,
     "end_time": "2023-11-01T22:36:38.982745",
     "exception": false,
     "start_time": "2023-11-01T22:36:38.960295",
     "status": "completed"
    },
    "tags": [
     "injected-parameters"
    ]
   },
   "outputs": [],
   "source": [
    "# Parameters\n",
    "func_name = \"Cosine_Prior\"\n",
    "positive_prior = False\n"
   ]
  },
  {
   "cell_type": "code",
   "execution_count": 4,
   "id": "f4e8242c",
   "metadata": {
    "execution": {
     "iopub.execute_input": "2023-11-01T22:36:38.992975Z",
     "iopub.status.busy": "2023-11-01T22:36:38.992412Z",
     "iopub.status.idle": "2023-11-01T22:36:39.002432Z",
     "shell.execute_reply": "2023-11-01T22:36:39.000185Z"
    },
    "lines_to_next_cell": 0,
    "nbsphinx": "hidden",
    "papermill": {
     "duration": 0.022038,
     "end_time": "2023-11-01T22:36:39.007536",
     "exception": false,
     "start_time": "2023-11-01T22:36:38.985498",
     "status": "completed"
    },
    "tags": []
   },
   "outputs": [],
   "source": [
    "func = _known_functions[func_name]()\n",
    "\n",
    "if not positive_prior:\n",
    "\n",
    "\tenergy_grid = np.linspace(-5,5,1000)\n",
    "\n",
    "else:\n",
    "    \n",
    "    energy_grid = np.linspace(0,1,1000)\n",
    "    \n",
    "    \n",
    "    \n",
    "    \n",
    "blue = \"#4152E3\"\n",
    "red = \"#E3414B\"\n",
    "green = \"#41E39E\""
   ]
  },
  {
   "cell_type": "markdown",
   "id": "eaa78ccb",
   "metadata": {
    "lines_to_next_cell": 0,
    "papermill": {
     "duration": 0.003191,
     "end_time": "2023-11-01T22:36:39.013400",
     "exception": false,
     "start_time": "2023-11-01T22:36:39.010209",
     "status": "completed"
    },
    "tags": []
   },
   "source": [
    "## Description"
   ]
  },
  {
   "cell_type": "code",
   "execution_count": 5,
   "id": "b3240276",
   "metadata": {
    "execution": {
     "iopub.execute_input": "2023-11-01T22:36:39.023312Z",
     "iopub.status.busy": "2023-11-01T22:36:39.022718Z",
     "iopub.status.idle": "2023-11-01T22:36:39.040376Z",
     "shell.execute_reply": "2023-11-01T22:36:39.037030Z"
    },
    "papermill": {
     "duration": 0.029062,
     "end_time": "2023-11-01T22:36:39.045529",
     "exception": false,
     "start_time": "2023-11-01T22:36:39.016467",
     "status": "completed"
    },
    "tags": []
   },
   "outputs": [
    {
     "data": {
      "text/html": [
       "<ul>\n",
       "\n",
       "<li>description: A function which is constant on the interval angular interval of cosine</li>\n",
       "\n",
       "<li>formula: $\\cos(x)$</li>\n",
       "\n",
       "<li>parameters: \n",
       "<ul>\n",
       "\n",
       "<li>lower_bound: \n",
       "<ul>\n",
       "\n",
       "<li>value: -90.0</li>\n",
       "\n",
       "<li>desc: Lower bound for the interval</li>\n",
       "\n",
       "<li>min_value: -inf</li>\n",
       "\n",
       "<li>max_value: inf</li>\n",
       "\n",
       "<li>unit: </li>\n",
       "\n",
       "<li>is_normalization: False</li>\n",
       "\n",
       "<li>delta: 9.0</li>\n",
       "\n",
       "<li>free: True</li>\n",
       "\n",
       "</ul>\n",
       "\n",
       "</li>\n",
       "\n",
       "<li>upper_bound: \n",
       "<ul>\n",
       "\n",
       "<li>value: 90.0</li>\n",
       "\n",
       "<li>desc: Upper bound for the interval</li>\n",
       "\n",
       "<li>min_value: -inf</li>\n",
       "\n",
       "<li>max_value: inf</li>\n",
       "\n",
       "<li>unit: </li>\n",
       "\n",
       "<li>is_normalization: False</li>\n",
       "\n",
       "<li>delta: 9.0</li>\n",
       "\n",
       "<li>free: True</li>\n",
       "\n",
       "</ul>\n",
       "\n",
       "</li>\n",
       "\n",
       "<li>value: \n",
       "<ul>\n",
       "\n",
       "<li>value: 1.0</li>\n",
       "\n",
       "<li>desc: Value in the interval</li>\n",
       "\n",
       "<li>min_value: None</li>\n",
       "\n",
       "<li>max_value: None</li>\n",
       "\n",
       "<li>unit: </li>\n",
       "\n",
       "<li>is_normalization: False</li>\n",
       "\n",
       "<li>delta: 0.1</li>\n",
       "\n",
       "<li>free: True</li>\n",
       "\n",
       "</ul>\n",
       "\n",
       "</li>\n",
       "\n",
       "</ul>\n",
       "\n",
       "</li>\n",
       "\n",
       "</ul>\n"
      ],
      "text/plain": [
       "  * description: A function which is constant on the interval angular interval of cosine\n",
       "  * formula: $\\cos(x)$\n",
       "  * parameters:\n",
       "    * lower_bound:\n",
       "      * value: -90.0\n",
       "      * desc: Lower bound for the interval\n",
       "      * min_value: -.inf\n",
       "      * max_value: .inf\n",
       "      * unit: ''\n",
       "      * is_normalization: false\n",
       "      * delta: 9.0\n",
       "      * free: true\n",
       "    * upper_bound:\n",
       "      * value: 90.0\n",
       "      * desc: Upper bound for the interval\n",
       "      * min_value: -.inf\n",
       "      * max_value: .inf\n",
       "      * unit: ''\n",
       "      * is_normalization: false\n",
       "      * delta: 9.0\n",
       "      * free: true\n",
       "    * value:\n",
       "      * value: 1.0\n",
       "      * desc: Value in the interval\n",
       "      * min_value: null\n",
       "      * max_value: null\n",
       "      * unit: ''\n",
       "      * is_normalization: false\n",
       "      * delta: 0.1\n",
       "      * free: true"
      ]
     },
     "metadata": {},
     "output_type": "display_data"
    }
   ],
   "source": [
    "func.display()"
   ]
  },
  {
   "cell_type": "markdown",
   "id": "6d549c08",
   "metadata": {
    "papermill": {
     "duration": 0.004284,
     "end_time": "2023-11-01T22:36:39.054446",
     "exception": false,
     "start_time": "2023-11-01T22:36:39.050162",
     "status": "completed"
    },
    "tags": []
   },
   "source": [
    "## Shape \n",
    "\n",
    "The shape of the function. \n",
    "\n",
    "*If this is not a photon model but a prior or linear function then ignore the units as these docs are auto-generated*"
   ]
  },
  {
   "cell_type": "code",
   "execution_count": 6,
   "id": "4cb56a66",
   "metadata": {
    "execution": {
     "iopub.execute_input": "2023-11-01T22:36:39.064076Z",
     "iopub.status.busy": "2023-11-01T22:36:39.063536Z",
     "iopub.status.idle": "2023-11-01T22:36:39.351376Z",
     "shell.execute_reply": "2023-11-01T22:36:39.349218Z"
    },
    "papermill": {
     "duration": 0.30216,
     "end_time": "2023-11-01T22:36:39.359723",
     "exception": false,
     "start_time": "2023-11-01T22:36:39.057563",
     "status": "completed"
    },
    "tags": [
     "nbsphinx-thumbnail"
    ]
   },
   "outputs": [
    {
     "data": {
      "text/plain": [
       "Text(0, 0.5, 'probability')"
      ]
     },
     "execution_count": 6,
     "metadata": {},
     "output_type": "execute_result"
    },
    {
     "data": {
      "image/png": "[encoded data removed]",
      "text/plain": [
       "<Figure size 1040x910 with 1 Axes>"
      ]
     },
     "metadata": {},
     "output_type": "display_data"
    }
   ],
   "source": [
    "fig, ax = plt.subplots()\n",
    "\n",
    "\n",
    "ax.plot(energy_grid, func(energy_grid), color=blue, lw=3)\n",
    "\n",
    "ax.set_xlabel(\"x\")\n",
    "ax.set_ylabel(\"probability\")\n"
   ]
  },
  {
   "cell_type": "markdown",
   "id": "a7a85f34",
   "metadata": {
    "papermill": {
     "duration": 0.004033,
     "end_time": "2023-11-01T22:36:39.367188",
     "exception": false,
     "start_time": "2023-11-01T22:36:39.363155",
     "status": "completed"
    },
    "tags": []
   },
   "source": [
    "## Random Number Generation\n",
    "\n",
    "This is how we can generate random numbers from the prior.\n"
   ]
  },
  {
   "cell_type": "code",
   "execution_count": 7,
   "id": "a073a2dc",
   "metadata": {
    "execution": {
     "iopub.execute_input": "2023-11-01T22:36:39.377477Z",
     "iopub.status.busy": "2023-11-01T22:36:39.377003Z",
     "iopub.status.idle": "2023-11-01T22:36:39.829483Z",
     "shell.execute_reply": "2023-11-01T22:36:39.826908Z"
    },
    "papermill": {
     "duration": 0.464353,
     "end_time": "2023-11-01T22:36:39.835118",
     "exception": false,
     "start_time": "2023-11-01T22:36:39.370765",
     "status": "completed"
    },
    "tags": []
   },
   "outputs": [
    {
     "data": {
      "text/plain": [
       "Text(0, 0.5, 'N')"
      ]
     },
     "execution_count": 7,
     "metadata": {},
     "output_type": "execute_result"
    },
    {
     "data": {
      "image/png": "[encoded data removed]",
      "text/plain": [
       "<Figure size 1040x910 with 1 Axes>"
      ]
     },
     "metadata": {},
     "output_type": "display_data"
    }
   ],
   "source": [
    "\n",
    "\n",
    "u = np.random.uniform(0,1, size=5000)\n",
    "\n",
    "draws = [func.from_unit_cube(x) for x in u]\n",
    "\n",
    "\n",
    "fig, ax = plt.subplots()\n",
    "\n",
    "\n",
    "ax.hist(draws, color=green, bins=50)\n",
    "\n",
    "ax.set_xlabel(\"value\")\n",
    "ax.set_ylabel(\"N\")\n",
    "\n"
   ]
  }
 ],
 "metadata": {
  "jupytext": {
   "formats": "ipynb,md"
  },
  "kernelspec": {
   "display_name": "Python 3 (ipykernel)",
   "language": "python",
   "name": "python3"
  },
  "language_info": {
   "codemirror_mode": {
    "name": "ipython",
    "version": 3
   },
   "file_extension": ".py",
   "mimetype": "text/x-python",
   "name": "python",
   "nbconvert_exporter": "python",
   "pygments_lexer": "ipython3",
   "version": "3.9.18"
  },
  "papermill": {
   "default_parameters": {},
   "duration": 5.986266,
   "end_time": "2023-11-01T22:36:40.573301",
   "environment_variables": {},
   "exception": null,
   "input_path": "Cosine_Prior.ipynb",
   "output_path": "/Users/runner/work/astromodels/astromodels/docs/notebooks/Cosine_Prior.ipynb",
   "parameters": {
    "func_name": "Cosine_Prior",
    "positive_prior": false
   },
   "start_time": "2023-11-01T22:36:34.587035",
   "version": "2.4.0"
  }
 },
 "nbformat": 4,
 "nbformat_minor": 5
}
