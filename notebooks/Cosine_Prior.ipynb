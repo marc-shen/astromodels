{
 "cells": [
  {
   "cell_type": "markdown",
   "id": "ebfc045a",
   "metadata": {
    "papermill": {
     "duration": 0.004693,
     "end_time": "2023-11-01T20:29:52.752884",
     "exception": false,
     "start_time": "2023-11-01T20:29:52.748191",
     "status": "completed"
    },
    "tags": []
   },
   "source": [
    "# Cosine Prior"
   ]
  },
  {
   "cell_type": "code",
   "execution_count": 1,
   "id": "3562b4c5",
   "metadata": {
    "execution": {
     "iopub.execute_input": "2023-11-01T20:29:52.762921Z",
     "iopub.status.busy": "2023-11-01T20:29:52.762236Z",
     "iopub.status.idle": "2023-11-01T20:29:56.734182Z",
     "shell.execute_reply": "2023-11-01T20:29:56.731877Z"
    },
    "nbsphinx": "hidden",
    "papermill": {
     "duration": 3.983535,
     "end_time": "2023-11-01T20:29:56.740160",
     "exception": false,
     "start_time": "2023-11-01T20:29:52.756625",
     "status": "completed"
    },
    "tags": []
   },
   "outputs": [],
   "source": [
    "%%capture\n",
    "\n",
    "import numpy as np\n",
    "\n",
    "import matplotlib.pyplot as plt\n",
    "\n",
    "import warnings\n",
    "warnings.simplefilter(\"ignore\")\n",
    "\n",
    "from astromodels.functions.function import _known_functions\n",
    "\n",
    "\n",
    "from jupyterthemes import jtplot\n",
    "jtplot.style(context=\"talk\", fscale=1, ticks=True, grid=False)\n",
    "%matplotlib inline"
   ]
  },
  {
   "cell_type": "code",
   "execution_count": 2,
   "id": "efc6bccd",
   "metadata": {
    "execution": {
     "iopub.execute_input": "2023-11-01T20:29:56.750556Z",
     "iopub.status.busy": "2023-11-01T20:29:56.749886Z",
     "iopub.status.idle": "2023-11-01T20:29:56.758282Z",
     "shell.execute_reply": "2023-11-01T20:29:56.756457Z"
    },
    "nbsphinx": "hidden",
    "papermill": {
     "duration": 0.0193,
     "end_time": "2023-11-01T20:29:56.763295",
     "exception": false,
     "start_time": "2023-11-01T20:29:56.743995",
     "status": "completed"
    },
    "tags": [
     "parameters"
    ]
   },
   "outputs": [],
   "source": [
    "func_name = \"TbAbs\"\n",
    "\n",
    "positive_prior = False\n"
   ]
  },
  {
   "cell_type": "code",
   "execution_count": 3,
   "id": "1663ccc4",
   "metadata": {
    "execution": {
     "iopub.execute_input": "2023-11-01T20:29:56.772658Z",
     "iopub.status.busy": "2023-11-01T20:29:56.772102Z",
     "iopub.status.idle": "2023-11-01T20:29:56.778656Z",
     "shell.execute_reply": "2023-11-01T20:29:56.777154Z"
    },
    "papermill": {
     "duration": 0.017359,
     "end_time": "2023-11-01T20:29:56.784169",
     "exception": false,
     "start_time": "2023-11-01T20:29:56.766810",
     "status": "completed"
    },
    "tags": [
     "injected-parameters"
    ]
   },
   "outputs": [],
   "source": [
    "# Parameters\n",
    "func_name = \"Cosine_Prior\"\n",
    "positive_prior = False\n"
   ]
  },
  {
   "cell_type": "code",
   "execution_count": 4,
   "id": "d3a6fef6",
   "metadata": {
    "execution": {
     "iopub.execute_input": "2023-11-01T20:29:56.795268Z",
     "iopub.status.busy": "2023-11-01T20:29:56.794755Z",
     "iopub.status.idle": "2023-11-01T20:29:56.832138Z",
     "shell.execute_reply": "2023-11-01T20:29:56.806884Z"
    },
    "lines_to_next_cell": 0,
    "nbsphinx": "hidden",
    "papermill": {
     "duration": 0.054327,
     "end_time": "2023-11-01T20:29:56.842311",
     "exception": false,
     "start_time": "2023-11-01T20:29:56.787984",
     "status": "completed"
    },
    "tags": []
   },
   "outputs": [],
   "source": [
    "func = _known_functions[func_name]()\n",
    "\n",
    "if not positive_prior:\n",
    "\n",
    "\tenergy_grid = np.linspace(-5,5,1000)\n",
    "\n",
    "else:\n",
    "    \n",
    "    energy_grid = np.linspace(0,1,1000)\n",
    "    \n",
    "    \n",
    "    \n",
    "    \n",
    "blue = \"#4152E3\"\n",
    "red = \"#E3414B\"\n",
    "green = \"#41E39E\""
   ]
  },
  {
   "cell_type": "markdown",
   "id": "f3e936f9",
   "metadata": {
    "lines_to_next_cell": 0,
    "papermill": {
     "duration": 0.004201,
     "end_time": "2023-11-01T20:29:56.850507",
     "exception": false,
     "start_time": "2023-11-01T20:29:56.846306",
     "status": "completed"
    },
    "tags": []
   },
   "source": [
    "## Description"
   ]
  },
  {
   "cell_type": "code",
   "execution_count": 5,
   "id": "8e742656",
   "metadata": {
    "execution": {
     "iopub.execute_input": "2023-11-01T20:29:56.882027Z",
     "iopub.status.busy": "2023-11-01T20:29:56.881421Z",
     "iopub.status.idle": "2023-11-01T20:29:56.897150Z",
     "shell.execute_reply": "2023-11-01T20:29:56.895621Z"
    },
    "papermill": {
     "duration": 0.048396,
     "end_time": "2023-11-01T20:29:56.902364",
     "exception": false,
     "start_time": "2023-11-01T20:29:56.853968",
     "status": "completed"
    },
    "tags": []
   },
   "outputs": [
    {
     "data": {
      "text/html": [
       "<ul>\n",
       "\n",
       "<li>description: A function which is constant on the interval angular interval of cosine</li>\n",
       "\n",
       "<li>formula: $\\cos(x)$</li>\n",
       "\n",
       "<li>parameters: \n",
       "<ul>\n",
       "\n",
       "<li>lower_bound: \n",
       "<ul>\n",
       "\n",
       "<li>value: -90.0</li>\n",
       "\n",
       "<li>desc: Lower bound for the interval</li>\n",
       "\n",
       "<li>min_value: -inf</li>\n",
       "\n",
       "<li>max_value: inf</li>\n",
       "\n",
       "<li>unit: </li>\n",
       "\n",
       "<li>is_normalization: False</li>\n",
       "\n",
       "<li>delta: 9.0</li>\n",
       "\n",
       "<li>free: True</li>\n",
       "\n",
       "</ul>\n",
       "\n",
       "</li>\n",
       "\n",
       "<li>upper_bound: \n",
       "<ul>\n",
       "\n",
       "<li>value: 90.0</li>\n",
       "\n",
       "<li>desc: Upper bound for the interval</li>\n",
       "\n",
       "<li>min_value: -inf</li>\n",
       "\n",
       "<li>max_value: inf</li>\n",
       "\n",
       "<li>unit: </li>\n",
       "\n",
       "<li>is_normalization: False</li>\n",
       "\n",
       "<li>delta: 9.0</li>\n",
       "\n",
       "<li>free: True</li>\n",
       "\n",
       "</ul>\n",
       "\n",
       "</li>\n",
       "\n",
       "<li>value: \n",
       "<ul>\n",
       "\n",
       "<li>value: 1.0</li>\n",
       "\n",
       "<li>desc: Value in the interval</li>\n",
       "\n",
       "<li>min_value: None</li>\n",
       "\n",
       "<li>max_value: None</li>\n",
       "\n",
       "<li>unit: </li>\n",
       "\n",
       "<li>is_normalization: False</li>\n",
       "\n",
       "<li>delta: 0.1</li>\n",
       "\n",
       "<li>free: True</li>\n",
       "\n",
       "</ul>\n",
       "\n",
       "</li>\n",
       "\n",
       "</ul>\n",
       "\n",
       "</li>\n",
       "\n",
       "</ul>\n"
      ],
      "text/plain": [
       "  * description: A function which is constant on the interval angular interval of cosine\n",
       "  * formula: $\\cos(x)$\n",
       "  * parameters:\n",
       "    * lower_bound:\n",
       "      * value: -90.0\n",
       "      * desc: Lower bound for the interval\n",
       "      * min_value: -.inf\n",
       "      * max_value: .inf\n",
       "      * unit: ''\n",
       "      * is_normalization: false\n",
       "      * delta: 9.0\n",
       "      * free: true\n",
       "    * upper_bound:\n",
       "      * value: 90.0\n",
       "      * desc: Upper bound for the interval\n",
       "      * min_value: -.inf\n",
       "      * max_value: .inf\n",
       "      * unit: ''\n",
       "      * is_normalization: false\n",
       "      * delta: 9.0\n",
       "      * free: true\n",
       "    * value:\n",
       "      * value: 1.0\n",
       "      * desc: Value in the interval\n",
       "      * min_value: null\n",
       "      * max_value: null\n",
       "      * unit: ''\n",
       "      * is_normalization: false\n",
       "      * delta: 0.1\n",
       "      * free: true"
      ]
     },
     "metadata": {},
     "output_type": "display_data"
    }
   ],
   "source": [
    "func.display()"
   ]
  },
  {
   "cell_type": "markdown",
   "id": "56c19566",
   "metadata": {
    "papermill": {
     "duration": 0.004144,
     "end_time": "2023-11-01T20:29:56.910544",
     "exception": false,
     "start_time": "2023-11-01T20:29:56.906400",
     "status": "completed"
    },
    "tags": []
   },
   "source": [
    "## Shape \n",
    "\n",
    "The shape of the function. \n",
    "\n",
    "*If this is not a photon model but a prior or linear function then ignore the units as these docs are auto-generated*"
   ]
  },
  {
   "cell_type": "code",
   "execution_count": 6,
   "id": "d97a66aa",
   "metadata": {
    "execution": {
     "iopub.execute_input": "2023-11-01T20:29:56.922034Z",
     "iopub.status.busy": "2023-11-01T20:29:56.921491Z",
     "iopub.status.idle": "2023-11-01T20:29:57.229718Z",
     "shell.execute_reply": "2023-11-01T20:29:57.228232Z"
    },
    "papermill": {
     "duration": 0.319045,
     "end_time": "2023-11-01T20:29:57.234366",
     "exception": false,
     "start_time": "2023-11-01T20:29:56.915321",
     "status": "completed"
    },
    "tags": [
     "nbsphinx-thumbnail"
    ]
   },
   "outputs": [
    {
     "data": {
      "text/plain": [
       "Text(0, 0.5, 'probability')"
      ]
     },
     "execution_count": 6,
     "metadata": {},
     "output_type": "execute_result"
    },
    {
     "data": {
      "image/png": "[encoded data removed]",
      "text/plain": [
       "<Figure size 1040x910 with 1 Axes>"
      ]
     },
     "metadata": {},
     "output_type": "display_data"
    }
   ],
   "source": [
    "fig, ax = plt.subplots()\n",
    "\n",
    "\n",
    "ax.plot(energy_grid, func(energy_grid), color=blue, lw=3)\n",
    "\n",
    "ax.set_xlabel(\"x\")\n",
    "ax.set_ylabel(\"probability\")\n"
   ]
  },
  {
   "cell_type": "markdown",
   "id": "0f70f675",
   "metadata": {
    "papermill": {
     "duration": 0.004532,
     "end_time": "2023-11-01T20:29:57.243662",
     "exception": false,
     "start_time": "2023-11-01T20:29:57.239130",
     "status": "completed"
    },
    "tags": []
   },
   "source": [
    "## Random Number Generation\n",
    "\n",
    "This is how we can generate random numbers from the prior.\n"
   ]
  },
  {
   "cell_type": "code",
   "execution_count": 7,
   "id": "9c66e03c",
   "metadata": {
    "execution": {
     "iopub.execute_input": "2023-11-01T20:29:57.255034Z",
     "iopub.status.busy": "2023-11-01T20:29:57.254459Z",
     "iopub.status.idle": "2023-11-01T20:29:57.716382Z",
     "shell.execute_reply": "2023-11-01T20:29:57.714562Z"
    },
    "papermill": {
     "duration": 0.473996,
     "end_time": "2023-11-01T20:29:57.721898",
     "exception": false,
     "start_time": "2023-11-01T20:29:57.247902",
     "status": "completed"
    },
    "tags": []
   },
   "outputs": [
    {
     "data": {
      "text/plain": [
       "Text(0, 0.5, 'N')"
      ]
     },
     "execution_count": 7,
     "metadata": {},
     "output_type": "execute_result"
    },
    {
     "data": {
      "image/png": "[encoded data removed]",
      "text/plain": [
       "<Figure size 1040x910 with 1 Axes>"
      ]
     },
     "metadata": {},
     "output_type": "display_data"
    }
   ],
   "source": [
    "\n",
    "\n",
    "u = np.random.uniform(0,1, size=5000)\n",
    "\n",
    "draws = [func.from_unit_cube(x) for x in u]\n",
    "\n",
    "\n",
    "fig, ax = plt.subplots()\n",
    "\n",
    "\n",
    "ax.hist(draws, color=green, bins=50)\n",
    "\n",
    "ax.set_xlabel(\"value\")\n",
    "ax.set_ylabel(\"N\")\n",
    "\n"
   ]
  }
 ],
 "metadata": {
  "jupytext": {
   "formats": "ipynb,md"
  },
  "kernelspec": {
   "display_name": "Python 3 (ipykernel)",
   "language": "python",
   "name": "python3"
  },
  "language_info": {
   "codemirror_mode": {
    "name": "ipython",
    "version": 3
   },
   "file_extension": ".py",
   "mimetype": "text/x-python",
   "name": "python",
   "nbconvert_exporter": "python",
   "pygments_lexer": "ipython3",
   "version": "3.9.18"
  },
  "papermill": {
   "default_parameters": {},
   "duration": 6.939572,
   "end_time": "2023-11-01T20:29:58.361110",
   "environment_variables": {},
   "exception": null,
   "input_path": "Cosine_Prior.ipynb",
   "output_path": "/Users/runner/work/astromodels/astromodels/docs/notebooks/Cosine_Prior.ipynb",
   "parameters": {
    "func_name": "Cosine_Prior",
    "positive_prior": false
   },
   "start_time": "2023-11-01T20:29:51.421538",
   "version": "2.4.0"
  }
 },
 "nbformat": 4,
 "nbformat_minor": 5
}
