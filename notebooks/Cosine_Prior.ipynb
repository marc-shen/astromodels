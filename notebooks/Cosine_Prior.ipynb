{
 "cells": [
  {
   "cell_type": "markdown",
   "id": "824e400e",
   "metadata": {
    "papermill": {
     "duration": 0.007671,
     "end_time": "2025-02-01T01:03:56.679993",
     "exception": false,
     "start_time": "2025-02-01T01:03:56.672322",
     "status": "completed"
    },
    "tags": []
   },
   "source": [
    "# Cosine Prior"
   ]
  },
  {
   "cell_type": "code",
   "execution_count": 1,
   "id": "210e9b97",
   "metadata": {
    "execution": {
     "iopub.execute_input": "2025-02-01T01:03:56.693809Z",
     "iopub.status.busy": "2025-02-01T01:03:56.693191Z",
     "iopub.status.idle": "2025-02-01T01:03:58.276964Z",
     "shell.execute_reply": "2025-02-01T01:03:58.276325Z"
    },
    "nbsphinx": "hidden",
    "papermill": {
     "duration": 1.592227,
     "end_time": "2025-02-01T01:03:58.278727",
     "exception": false,
     "start_time": "2025-02-01T01:03:56.686500",
     "status": "completed"
    },
    "tags": []
   },
   "outputs": [],
   "source": [
    "%%capture\n",
    "\n",
    "import numpy as np\n",
    "\n",
    "import matplotlib.pyplot as plt\n",
    "\n",
    "import warnings\n",
    "warnings.simplefilter(\"ignore\")\n",
    "\n",
    "from astromodels.functions.function import _known_functions\n",
    "\n",
    "\n",
    "from jupyterthemes import jtplot\n",
    "jtplot.style(context=\"talk\", fscale=1, ticks=True, grid=False)\n",
    "%matplotlib inline"
   ]
  },
  {
   "cell_type": "code",
   "execution_count": 2,
   "id": "8960c006",
   "metadata": {
    "execution": {
     "iopub.execute_input": "2025-02-01T01:03:58.282325Z",
     "iopub.status.busy": "2025-02-01T01:03:58.281928Z",
     "iopub.status.idle": "2025-02-01T01:03:58.289578Z",
     "shell.execute_reply": "2025-02-01T01:03:58.288717Z"
    },
    "nbsphinx": "hidden",
    "papermill": {
     "duration": 0.010883,
     "end_time": "2025-02-01T01:03:58.290980",
     "exception": false,
     "start_time": "2025-02-01T01:03:58.280097",
     "status": "completed"
    },
    "tags": [
     "parameters"
    ]
   },
   "outputs": [],
   "source": [
    "func_name = \"TbAbs\"\n",
    "\n",
    "positive_prior = False\n"
   ]
  },
  {
   "cell_type": "code",
   "execution_count": 3,
   "id": "5e41971a",
   "metadata": {
    "execution": {
     "iopub.execute_input": "2025-02-01T01:03:58.294024Z",
     "iopub.status.busy": "2025-02-01T01:03:58.293853Z",
     "iopub.status.idle": "2025-02-01T01:03:58.296083Z",
     "shell.execute_reply": "2025-02-01T01:03:58.295711Z"
    },
    "papermill": {
     "duration": 0.005011,
     "end_time": "2025-02-01T01:03:58.297302",
     "exception": false,
     "start_time": "2025-02-01T01:03:58.292291",
     "status": "completed"
    },
    "tags": [
     "injected-parameters"
    ]
   },
   "outputs": [],
   "source": [
    "# Parameters\n",
    "func_name = \"Cosine_Prior\"\n",
    "positive_prior = False\n"
   ]
  },
  {
   "cell_type": "code",
   "execution_count": 4,
   "id": "26dbcc8a",
   "metadata": {
    "execution": {
     "iopub.execute_input": "2025-02-01T01:03:58.300242Z",
     "iopub.status.busy": "2025-02-01T01:03:58.300070Z",
     "iopub.status.idle": "2025-02-01T01:03:58.309518Z",
     "shell.execute_reply": "2025-02-01T01:03:58.309112Z"
    },
    "lines_to_next_cell": 0,
    "nbsphinx": "hidden",
    "papermill": {
     "duration": 0.012214,
     "end_time": "2025-02-01T01:03:58.310734",
     "exception": false,
     "start_time": "2025-02-01T01:03:58.298520",
     "status": "completed"
    },
    "tags": []
   },
   "outputs": [],
   "source": [
    "func = _known_functions[func_name]()\n",
    "\n",
    "if not positive_prior:\n",
    "\n",
    "\tenergy_grid = np.linspace(-5,5,1000)\n",
    "\n",
    "else:\n",
    "    \n",
    "    energy_grid = np.linspace(0,1,1000)\n",
    "    \n",
    "    \n",
    "    \n",
    "    \n",
    "blue = \"#4152E3\"\n",
    "red = \"#E3414B\"\n",
    "green = \"#41E39E\""
   ]
  },
  {
   "cell_type": "markdown",
   "id": "ab6ff0d1",
   "metadata": {
    "lines_to_next_cell": 0,
    "papermill": {
     "duration": 0.001084,
     "end_time": "2025-02-01T01:03:58.313029",
     "exception": false,
     "start_time": "2025-02-01T01:03:58.311945",
     "status": "completed"
    },
    "tags": []
   },
   "source": [
    "## Description"
   ]
  },
  {
   "cell_type": "code",
   "execution_count": 5,
   "id": "db43b6fd",
   "metadata": {
    "execution": {
     "iopub.execute_input": "2025-02-01T01:03:58.315879Z",
     "iopub.status.busy": "2025-02-01T01:03:58.315702Z",
     "iopub.status.idle": "2025-02-01T01:03:58.320294Z",
     "shell.execute_reply": "2025-02-01T01:03:58.319857Z"
    },
    "papermill": {
     "duration": 0.007519,
     "end_time": "2025-02-01T01:03:58.321572",
     "exception": false,
     "start_time": "2025-02-01T01:03:58.314053",
     "status": "completed"
    },
    "tags": []
   },
   "outputs": [
    {
     "data": {
      "text/html": [
       "<ul>\n",
       "\n",
       "<li>description: A function which is constant on the interval angular interval of cosine</li>\n",
       "\n",
       "<li>formula: $\\cos(x)$</li>\n",
       "\n",
       "<li>parameters: \n",
       "<ul>\n",
       "\n",
       "<li>lower_bound: \n",
       "<ul>\n",
       "\n",
       "<li>value: -90.0</li>\n",
       "\n",
       "<li>desc: Lower bound for the interval</li>\n",
       "\n",
       "<li>min_value: -inf</li>\n",
       "\n",
       "<li>max_value: inf</li>\n",
       "\n",
       "<li>unit: </li>\n",
       "\n",
       "<li>is_normalization: False</li>\n",
       "\n",
       "<li>delta: 9.0</li>\n",
       "\n",
       "<li>free: True</li>\n",
       "\n",
       "</ul>\n",
       "\n",
       "</li>\n",
       "\n",
       "<li>upper_bound: \n",
       "<ul>\n",
       "\n",
       "<li>value: 90.0</li>\n",
       "\n",
       "<li>desc: Upper bound for the interval</li>\n",
       "\n",
       "<li>min_value: -inf</li>\n",
       "\n",
       "<li>max_value: inf</li>\n",
       "\n",
       "<li>unit: </li>\n",
       "\n",
       "<li>is_normalization: False</li>\n",
       "\n",
       "<li>delta: 9.0</li>\n",
       "\n",
       "<li>free: True</li>\n",
       "\n",
       "</ul>\n",
       "\n",
       "</li>\n",
       "\n",
       "<li>value: \n",
       "<ul>\n",
       "\n",
       "<li>value: 1.0</li>\n",
       "\n",
       "<li>desc: Value in the interval</li>\n",
       "\n",
       "<li>min_value: None</li>\n",
       "\n",
       "<li>max_value: None</li>\n",
       "\n",
       "<li>unit: </li>\n",
       "\n",
       "<li>is_normalization: False</li>\n",
       "\n",
       "<li>delta: 0.1</li>\n",
       "\n",
       "<li>free: True</li>\n",
       "\n",
       "</ul>\n",
       "\n",
       "</li>\n",
       "\n",
       "</ul>\n",
       "\n",
       "</li>\n",
       "\n",
       "</ul>\n"
      ],
      "text/plain": [
       "  * description: A function which is constant on the interval angular interval of cosine\n",
       "  * formula: $\\cos(x)$\n",
       "  * parameters:\n",
       "    * lower_bound:\n",
       "      * value: -90.0\n",
       "      * desc: Lower bound for the interval\n",
       "      * min_value: -.inf\n",
       "      * max_value: .inf\n",
       "      * unit: ''\n",
       "      * is_normalization: false\n",
       "      * delta: 9.0\n",
       "      * free: true\n",
       "    * upper_bound:\n",
       "      * value: 90.0\n",
       "      * desc: Upper bound for the interval\n",
       "      * min_value: -.inf\n",
       "      * max_value: .inf\n",
       "      * unit: ''\n",
       "      * is_normalization: false\n",
       "      * delta: 9.0\n",
       "      * free: true\n",
       "    * value:\n",
       "      * value: 1.0\n",
       "      * desc: Value in the interval\n",
       "      * min_value: null\n",
       "      * max_value: null\n",
       "      * unit: ''\n",
       "      * is_normalization: false\n",
       "      * delta: 0.1\n",
       "      * free: true"
      ]
     },
     "metadata": {},
     "output_type": "display_data"
    }
   ],
   "source": [
    "func.display()"
   ]
  },
  {
   "cell_type": "markdown",
   "id": "a4b5f30c",
   "metadata": {
    "papermill": {
     "duration": 0.001242,
     "end_time": "2025-02-01T01:03:58.324179",
     "exception": false,
     "start_time": "2025-02-01T01:03:58.322937",
     "status": "completed"
    },
    "tags": []
   },
   "source": [
    "## Shape \n",
    "\n",
    "The shape of the function. \n",
    "\n",
    "*If this is not a photon model but a prior or linear function then ignore the units as these docs are auto-generated*"
   ]
  },
  {
   "cell_type": "code",
   "execution_count": 6,
   "id": "5ec6de2d",
   "metadata": {
    "execution": {
     "iopub.execute_input": "2025-02-01T01:03:58.327228Z",
     "iopub.status.busy": "2025-02-01T01:03:58.327060Z",
     "iopub.status.idle": "2025-02-01T01:03:58.405308Z",
     "shell.execute_reply": "2025-02-01T01:03:58.404965Z"
    },
    "papermill": {
     "duration": 0.081191,
     "end_time": "2025-02-01T01:03:58.406573",
     "exception": false,
     "start_time": "2025-02-01T01:03:58.325382",
     "status": "completed"
    },
    "tags": [
     "nbsphinx-thumbnail"
    ]
   },
   "outputs": [
    {
     "data": {
      "text/plain": [
       "Text(0, 0.5, 'probability')"
      ]
     },
     "execution_count": 6,
     "metadata": {},
     "output_type": "execute_result"
    },
    {
     "data": {
      "image/png": "[encoded data removed]",
      "text/plain": [
       "<Figure size 1040x910 with 1 Axes>"
      ]
     },
     "metadata": {},
     "output_type": "display_data"
    }
   ],
   "source": [
    "fig, ax = plt.subplots()\n",
    "\n",
    "\n",
    "ax.plot(energy_grid, func(energy_grid), color=blue, lw=3)\n",
    "\n",
    "ax.set_xlabel(\"x\")\n",
    "ax.set_ylabel(\"probability\")\n"
   ]
  },
  {
   "cell_type": "markdown",
   "id": "4d53fa87",
   "metadata": {
    "papermill": {
     "duration": 0.001431,
     "end_time": "2025-02-01T01:03:58.409710",
     "exception": false,
     "start_time": "2025-02-01T01:03:58.408279",
     "status": "completed"
    },
    "tags": []
   },
   "source": [
    "## Random Number Generation\n",
    "\n",
    "This is how we can generate random numbers from the prior.\n"
   ]
  },
  {
   "cell_type": "code",
   "execution_count": 7,
   "id": "7fe3ef62",
   "metadata": {
    "execution": {
     "iopub.execute_input": "2025-02-01T01:03:58.413346Z",
     "iopub.status.busy": "2025-02-01T01:03:58.413181Z",
     "iopub.status.idle": "2025-02-01T01:03:58.550995Z",
     "shell.execute_reply": "2025-02-01T01:03:58.550513Z"
    },
    "papermill": {
     "duration": 0.141294,
     "end_time": "2025-02-01T01:03:58.552514",
     "exception": false,
     "start_time": "2025-02-01T01:03:58.411220",
     "status": "completed"
    },
    "tags": []
   },
   "outputs": [
    {
     "data": {
      "text/plain": [
       "Text(0, 0.5, 'N')"
      ]
     },
     "execution_count": 7,
     "metadata": {},
     "output_type": "execute_result"
    },
    {
     "data": {
      "image/png": "[encoded data removed]",
      "text/plain": [
       "<Figure size 1040x910 with 1 Axes>"
      ]
     },
     "metadata": {},
     "output_type": "display_data"
    }
   ],
   "source": [
    "\n",
    "\n",
    "u = np.random.uniform(0,1, size=5000)\n",
    "\n",
    "draws = [func.from_unit_cube(x) for x in u]\n",
    "\n",
    "\n",
    "fig, ax = plt.subplots()\n",
    "\n",
    "\n",
    "ax.hist(draws, color=green, bins=50)\n",
    "\n",
    "ax.set_xlabel(\"value\")\n",
    "ax.set_ylabel(\"N\")\n",
    "\n"
   ]
  }
 ],
 "metadata": {
  "jupytext": {
   "formats": "ipynb,md"
  },
  "kernelspec": {
   "display_name": "Python 3 (ipykernel)",
   "language": "python",
   "name": "python3"
  },
  "language_info": {
   "codemirror_mode": {
    "name": "ipython",
    "version": 3
   },
   "file_extension": ".py",
   "mimetype": "text/x-python",
   "name": "python",
   "nbconvert_exporter": "python",
   "pygments_lexer": "ipython3",
   "version": "3.9.13"
  },
  "papermill": {
   "default_parameters": {},
   "duration": 3.076197,
   "end_time": "2025-02-01T01:03:58.991353",
   "environment_variables": {},
   "exception": null,
   "input_path": "Cosine_Prior.ipynb",
   "output_path": "/Users/runner/work/astromodels/astromodels/docs/notebooks/Cosine_Prior.ipynb",
   "parameters": {
    "func_name": "Cosine_Prior",
    "positive_prior": false
   },
   "start_time": "2025-02-01T01:03:55.915156",
   "version": "2.6.0"
  }
 },
 "nbformat": 4,
 "nbformat_minor": 5
}
