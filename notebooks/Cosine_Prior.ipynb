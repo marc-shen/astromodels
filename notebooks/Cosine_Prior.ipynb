{
 "cells": [
  {
   "cell_type": "markdown",
   "id": "c5663a4b",
   "metadata": {
    "papermill": {
     "duration": 0.009046,
     "end_time": "2022-10-05T19:26:25.505588",
     "exception": false,
     "start_time": "2022-10-05T19:26:25.496542",
     "status": "completed"
    },
    "tags": []
   },
   "source": [
    "# Cosine Prior"
   ]
  },
  {
   "cell_type": "code",
   "execution_count": 1,
   "id": "2df87707",
   "metadata": {
    "execution": {
     "iopub.execute_input": "2022-10-05T19:26:25.544499Z",
     "iopub.status.busy": "2022-10-05T19:26:25.543994Z",
     "iopub.status.idle": "2022-10-05T19:26:31.804227Z",
     "shell.execute_reply": "2022-10-05T19:26:31.803074Z"
    },
    "nbsphinx": "hidden",
    "papermill": {
     "duration": 6.2984,
     "end_time": "2022-10-05T19:26:31.807688",
     "exception": false,
     "start_time": "2022-10-05T19:26:25.509288",
     "status": "completed"
    },
    "tags": []
   },
   "outputs": [],
   "source": [
    "%%capture\n",
    "\n",
    "import numpy as np\n",
    "\n",
    "import matplotlib.pyplot as plt\n",
    "\n",
    "import warnings\n",
    "warnings.simplefilter(\"ignore\")\n",
    "\n",
    "from astromodels.functions.function import _known_functions\n",
    "\n",
    "\n",
    "from jupyterthemes import jtplot\n",
    "jtplot.style(context=\"talk\", fscale=1, ticks=True, grid=False)\n",
    "%matplotlib inline"
   ]
  },
  {
   "cell_type": "code",
   "execution_count": 2,
   "id": "21664e04",
   "metadata": {
    "execution": {
     "iopub.execute_input": "2022-10-05T19:26:31.817167Z",
     "iopub.status.busy": "2022-10-05T19:26:31.816754Z",
     "iopub.status.idle": "2022-10-05T19:26:31.824578Z",
     "shell.execute_reply": "2022-10-05T19:26:31.823598Z"
    },
    "nbsphinx": "hidden",
    "papermill": {
     "duration": 0.015438,
     "end_time": "2022-10-05T19:26:31.827499",
     "exception": false,
     "start_time": "2022-10-05T19:26:31.812061",
     "status": "completed"
    },
    "tags": [
     "parameters"
    ]
   },
   "outputs": [],
   "source": [
    "func_name = \"TbAbs\"\n",
    "\n",
    "positive_prior = False\n"
   ]
  },
  {
   "cell_type": "code",
   "execution_count": 3,
   "id": "eeb020dd",
   "metadata": {
    "execution": {
     "iopub.execute_input": "2022-10-05T19:26:31.835577Z",
     "iopub.status.busy": "2022-10-05T19:26:31.835167Z",
     "iopub.status.idle": "2022-10-05T19:26:31.843400Z",
     "shell.execute_reply": "2022-10-05T19:26:31.842338Z"
    },
    "papermill": {
     "duration": 0.01575,
     "end_time": "2022-10-05T19:26:31.846368",
     "exception": false,
     "start_time": "2022-10-05T19:26:31.830618",
     "status": "completed"
    },
    "tags": [
     "injected-parameters"
    ]
   },
   "outputs": [],
   "source": [
    "# Parameters\n",
    "func_name = \"Cosine_Prior\"\n",
    "positive_prior = False\n"
   ]
  },
  {
   "cell_type": "code",
   "execution_count": 4,
   "id": "1d2da71e",
   "metadata": {
    "execution": {
     "iopub.execute_input": "2022-10-05T19:26:31.854436Z",
     "iopub.status.busy": "2022-10-05T19:26:31.854024Z",
     "iopub.status.idle": "2022-10-05T19:26:31.861672Z",
     "shell.execute_reply": "2022-10-05T19:26:31.860576Z"
    },
    "lines_to_next_cell": 0,
    "nbsphinx": "hidden",
    "papermill": {
     "duration": 0.031734,
     "end_time": "2022-10-05T19:26:31.881256",
     "exception": false,
     "start_time": "2022-10-05T19:26:31.849522",
     "status": "completed"
    },
    "tags": []
   },
   "outputs": [],
   "source": [
    "func = _known_functions[func_name]()\n",
    "\n",
    "if not positive_prior:\n",
    "\n",
    "\tenergy_grid = np.linspace(-5,5,1000)\n",
    "\n",
    "else:\n",
    "    \n",
    "    energy_grid = np.linspace(0,1,1000)\n",
    "    \n",
    "    \n",
    "    \n",
    "    \n",
    "blue = \"#4152E3\"\n",
    "red = \"#E3414B\"\n",
    "green = \"#41E39E\""
   ]
  },
  {
   "cell_type": "markdown",
   "id": "f8d44892",
   "metadata": {
    "lines_to_next_cell": 0,
    "papermill": {
     "duration": 0.003534,
     "end_time": "2022-10-05T19:26:31.927005",
     "exception": false,
     "start_time": "2022-10-05T19:26:31.923471",
     "status": "completed"
    },
    "tags": []
   },
   "source": [
    "## Description"
   ]
  },
  {
   "cell_type": "code",
   "execution_count": 5,
   "id": "88562381",
   "metadata": {
    "execution": {
     "iopub.execute_input": "2022-10-05T19:26:31.940071Z",
     "iopub.status.busy": "2022-10-05T19:26:31.939615Z",
     "iopub.status.idle": "2022-10-05T19:26:31.950812Z",
     "shell.execute_reply": "2022-10-05T19:26:31.949731Z"
    },
    "papermill": {
     "duration": 0.019275,
     "end_time": "2022-10-05T19:26:31.953862",
     "exception": false,
     "start_time": "2022-10-05T19:26:31.934587",
     "status": "completed"
    },
    "tags": []
   },
   "outputs": [
    {
     "data": {
      "text/html": [
       "<ul>\n",
       "\n",
       "<li>description: A function which is constant on the interval angular interval of cosine</li>\n",
       "\n",
       "<li>formula: $\\cos(x)$</li>\n",
       "\n",
       "<li>parameters: \n",
       "<ul>\n",
       "\n",
       "<li>lower_bound: \n",
       "<ul>\n",
       "\n",
       "<li>value: -90.0</li>\n",
       "\n",
       "<li>desc: Lower bound for the interval</li>\n",
       "\n",
       "<li>min_value: -inf</li>\n",
       "\n",
       "<li>max_value: inf</li>\n",
       "\n",
       "<li>unit: </li>\n",
       "\n",
       "<li>is_normalization: False</li>\n",
       "\n",
       "<li>delta: 9.0</li>\n",
       "\n",
       "<li>free: True</li>\n",
       "\n",
       "</ul>\n",
       "\n",
       "</li>\n",
       "\n",
       "<li>upper_bound: \n",
       "<ul>\n",
       "\n",
       "<li>value: 90.0</li>\n",
       "\n",
       "<li>desc: Upper bound for the interval</li>\n",
       "\n",
       "<li>min_value: -inf</li>\n",
       "\n",
       "<li>max_value: inf</li>\n",
       "\n",
       "<li>unit: </li>\n",
       "\n",
       "<li>is_normalization: False</li>\n",
       "\n",
       "<li>delta: 9.0</li>\n",
       "\n",
       "<li>free: True</li>\n",
       "\n",
       "</ul>\n",
       "\n",
       "</li>\n",
       "\n",
       "<li>value: \n",
       "<ul>\n",
       "\n",
       "<li>value: 1.0</li>\n",
       "\n",
       "<li>desc: Value in the interval</li>\n",
       "\n",
       "<li>min_value: None</li>\n",
       "\n",
       "<li>max_value: None</li>\n",
       "\n",
       "<li>unit: </li>\n",
       "\n",
       "<li>is_normalization: False</li>\n",
       "\n",
       "<li>delta: 0.1</li>\n",
       "\n",
       "<li>free: True</li>\n",
       "\n",
       "</ul>\n",
       "\n",
       "</li>\n",
       "\n",
       "</ul>\n",
       "\n",
       "</li>\n",
       "\n",
       "</ul>\n"
      ],
      "text/plain": [
       "  * description: A function which is constant on the interval angular interval of cosine\n",
       "  * formula: $\\cos(x)$\n",
       "  * parameters:\n",
       "    * lower_bound:\n",
       "      * value: -90.0\n",
       "      * desc: Lower bound for the interval\n",
       "      * min_value: -.inf\n",
       "      * max_value: .inf\n",
       "      * unit: ''\n",
       "      * is_normalization: false\n",
       "      * delta: 9.0\n",
       "      * free: true\n",
       "    * upper_bound:\n",
       "      * value: 90.0\n",
       "      * desc: Upper bound for the interval\n",
       "      * min_value: -.inf\n",
       "      * max_value: .inf\n",
       "      * unit: ''\n",
       "      * is_normalization: false\n",
       "      * delta: 9.0\n",
       "      * free: true\n",
       "    * value:\n",
       "      * value: 1.0\n",
       "      * desc: Value in the interval\n",
       "      * min_value: null\n",
       "      * max_value: null\n",
       "      * unit: ''\n",
       "      * is_normalization: false\n",
       "      * delta: 0.1\n",
       "      * free: true"
      ]
     },
     "metadata": {},
     "output_type": "display_data"
    }
   ],
   "source": [
    "func.display()"
   ]
  },
  {
   "cell_type": "markdown",
   "id": "9cb1dc49",
   "metadata": {
    "papermill": {
     "duration": 0.00361,
     "end_time": "2022-10-05T19:26:31.961085",
     "exception": false,
     "start_time": "2022-10-05T19:26:31.957475",
     "status": "completed"
    },
    "tags": []
   },
   "source": [
    "## Shape \n",
    "\n",
    "The shape of the function. \n",
    "\n",
    "*If this is not a photon model but a prior or linear function then ignore the units as these docs are auto-generated*"
   ]
  },
  {
   "cell_type": "code",
   "execution_count": 6,
   "id": "a1bd90af",
   "metadata": {
    "execution": {
     "iopub.execute_input": "2022-10-05T19:26:31.969888Z",
     "iopub.status.busy": "2022-10-05T19:26:31.969458Z",
     "iopub.status.idle": "2022-10-05T19:26:32.309284Z",
     "shell.execute_reply": "2022-10-05T19:26:32.306846Z"
    },
    "papermill": {
     "duration": 0.34926,
     "end_time": "2022-10-05T19:26:32.313767",
     "exception": false,
     "start_time": "2022-10-05T19:26:31.964507",
     "status": "completed"
    },
    "tags": [
     "nbsphinx-thumbnail"
    ]
   },
   "outputs": [
    {
     "data": {
      "text/plain": [
       "Text(0, 0.5, 'probability')"
      ]
     },
     "execution_count": 6,
     "metadata": {},
     "output_type": "execute_result"
    },
    {
     "data": {
      "image/png": "[encoded data removed]",
      "text/plain": [
       "<Figure size 1040x910 with 1 Axes>"
      ]
     },
     "metadata": {},
     "output_type": "display_data"
    }
   ],
   "source": [
    "fig, ax = plt.subplots()\n",
    "\n",
    "\n",
    "ax.plot(energy_grid, func(energy_grid), color=blue, lw=3)\n",
    "\n",
    "ax.set_xlabel(\"x\")\n",
    "ax.set_ylabel(\"probability\")\n"
   ]
  },
  {
   "cell_type": "markdown",
   "id": "ac60cfe8",
   "metadata": {
    "papermill": {
     "duration": 0.004689,
     "end_time": "2022-10-05T19:26:32.322984",
     "exception": false,
     "start_time": "2022-10-05T19:26:32.318295",
     "status": "completed"
    },
    "tags": []
   },
   "source": [
    "## Random Number Generation\n",
    "\n",
    "This is how we can generate random numbers from the prior.\n"
   ]
  },
  {
   "cell_type": "code",
   "execution_count": 7,
   "id": "69eeb46c",
   "metadata": {
    "execution": {
     "iopub.execute_input": "2022-10-05T19:26:32.333478Z",
     "iopub.status.busy": "2022-10-05T19:26:32.333019Z",
     "iopub.status.idle": "2022-10-05T19:26:33.964016Z",
     "shell.execute_reply": "2022-10-05T19:26:33.962464Z"
    },
    "papermill": {
     "duration": 1.640432,
     "end_time": "2022-10-05T19:26:33.967385",
     "exception": false,
     "start_time": "2022-10-05T19:26:32.326953",
     "status": "completed"
    },
    "tags": []
   },
   "outputs": [
    {
     "data": {
      "text/plain": [
       "Text(0, 0.5, 'N')"
      ]
     },
     "execution_count": 7,
     "metadata": {},
     "output_type": "execute_result"
    },
    {
     "data": {
      "image/png": "[encoded data removed]",
      "text/plain": [
       "<Figure size 1040x910 with 1 Axes>"
      ]
     },
     "metadata": {},
     "output_type": "display_data"
    }
   ],
   "source": [
    "\n",
    "\n",
    "u = np.random.uniform(0,1, size=5000)\n",
    "\n",
    "draws = [func.from_unit_cube(x) for x in u]\n",
    "\n",
    "\n",
    "fig, ax = plt.subplots()\n",
    "\n",
    "\n",
    "ax.hist(draws, color=green, bins=50)\n",
    "\n",
    "ax.set_xlabel(\"value\")\n",
    "ax.set_ylabel(\"N\")\n",
    "\n"
   ]
  }
 ],
 "metadata": {
  "jupytext": {
   "formats": "ipynb,md"
  },
  "kernelspec": {
   "display_name": "Python 3 (ipykernel)",
   "language": "python",
   "name": "python3"
  },
  "language_info": {
   "codemirror_mode": {
    "name": "ipython",
    "version": 3
   },
   "file_extension": ".py",
   "mimetype": "text/x-python",
   "name": "python",
   "nbconvert_exporter": "python",
   "pygments_lexer": "ipython3",
   "version": "3.9.14"
  },
  "papermill": {
   "default_parameters": {},
   "duration": 11.663154,
   "end_time": "2022-10-05T19:26:35.543240",
   "environment_variables": {},
   "exception": null,
   "input_path": "Cosine_Prior.ipynb",
   "output_path": "/Users/runner/work/astromodels/astromodels/docs/notebooks/Cosine_Prior.ipynb",
   "parameters": {
    "func_name": "Cosine_Prior",
    "positive_prior": false
   },
   "start_time": "2022-10-05T19:26:23.880086",
   "version": "2.4.0"
  }
 },
 "nbformat": 4,
 "nbformat_minor": 5
}
