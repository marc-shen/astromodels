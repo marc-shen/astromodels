{
 "cells": [
  {
   "cell_type": "markdown",
   "id": "295140a3",
   "metadata": {
    "papermill": {
     "duration": 0.005582,
     "end_time": "2025-04-28T22:57:43.680608",
     "exception": false,
     "start_time": "2025-04-28T22:57:43.675026",
     "status": "completed"
    },
    "tags": []
   },
   "source": [
    "# Cosine Prior"
   ]
  },
  {
   "cell_type": "code",
   "execution_count": 1,
   "id": "1ba1fd67",
   "metadata": {
    "execution": {
     "iopub.execute_input": "2025-04-28T22:57:43.695321Z",
     "iopub.status.busy": "2025-04-28T22:57:43.694654Z",
     "iopub.status.idle": "2025-04-28T22:57:45.096810Z",
     "shell.execute_reply": "2025-04-28T22:57:45.096300Z"
    },
    "nbsphinx": "hidden",
    "papermill": {
     "duration": 1.412068,
     "end_time": "2025-04-28T22:57:45.098116",
     "exception": false,
     "start_time": "2025-04-28T22:57:43.686048",
     "status": "completed"
    },
    "tags": []
   },
   "outputs": [],
   "source": [
    "%%capture\n",
    "\n",
    "import numpy as np\n",
    "\n",
    "import matplotlib.pyplot as plt\n",
    "\n",
    "import warnings\n",
    "warnings.simplefilter(\"ignore\")\n",
    "\n",
    "from astromodels.functions.function import _known_functions\n",
    "\n",
    "\n",
    "from jupyterthemes import jtplot\n",
    "jtplot.style(context=\"talk\", fscale=1, ticks=True, grid=False)\n",
    "%matplotlib inline"
   ]
  },
  {
   "cell_type": "code",
   "execution_count": 2,
   "id": "316ec9ee",
   "metadata": {
    "execution": {
     "iopub.execute_input": "2025-04-28T22:57:45.101151Z",
     "iopub.status.busy": "2025-04-28T22:57:45.100834Z",
     "iopub.status.idle": "2025-04-28T22:57:45.109027Z",
     "shell.execute_reply": "2025-04-28T22:57:45.108651Z"
    },
    "nbsphinx": "hidden",
    "papermill": {
     "duration": 0.010776,
     "end_time": "2025-04-28T22:57:45.110129",
     "exception": false,
     "start_time": "2025-04-28T22:57:45.099353",
     "status": "completed"
    },
    "tags": [
     "parameters"
    ]
   },
   "outputs": [],
   "source": [
    "func_name = \"TbAbs\"\n",
    "\n",
    "positive_prior = False\n"
   ]
  },
  {
   "cell_type": "code",
   "execution_count": 3,
   "id": "763319f9",
   "metadata": {
    "execution": {
     "iopub.execute_input": "2025-04-28T22:57:45.112761Z",
     "iopub.status.busy": "2025-04-28T22:57:45.112615Z",
     "iopub.status.idle": "2025-04-28T22:57:45.120759Z",
     "shell.execute_reply": "2025-04-28T22:57:45.120379Z"
    },
    "papermill": {
     "duration": 0.010639,
     "end_time": "2025-04-28T22:57:45.121834",
     "exception": false,
     "start_time": "2025-04-28T22:57:45.111195",
     "status": "completed"
    },
    "tags": [
     "injected-parameters"
    ]
   },
   "outputs": [],
   "source": [
    "# Parameters\n",
    "func_name = \"Cosine_Prior\"\n",
    "positive_prior = False\n"
   ]
  },
  {
   "cell_type": "code",
   "execution_count": 4,
   "id": "4c5ff9a3",
   "metadata": {
    "execution": {
     "iopub.execute_input": "2025-04-28T22:57:45.124398Z",
     "iopub.status.busy": "2025-04-28T22:57:45.124267Z",
     "iopub.status.idle": "2025-04-28T22:57:45.133301Z",
     "shell.execute_reply": "2025-04-28T22:57:45.132905Z"
    },
    "lines_to_next_cell": 0,
    "nbsphinx": "hidden",
    "papermill": {
     "duration": 0.011526,
     "end_time": "2025-04-28T22:57:45.134389",
     "exception": false,
     "start_time": "2025-04-28T22:57:45.122863",
     "status": "completed"
    },
    "tags": []
   },
   "outputs": [],
   "source": [
    "func = _known_functions[func_name]()\n",
    "\n",
    "if not positive_prior:\n",
    "\n",
    "\tenergy_grid = np.linspace(-5,5,1000)\n",
    "\n",
    "else:\n",
    "    \n",
    "    energy_grid = np.linspace(0,1,1000)\n",
    "    \n",
    "    \n",
    "    \n",
    "    \n",
    "blue = \"#4152E3\"\n",
    "red = \"#E3414B\"\n",
    "green = \"#41E39E\""
   ]
  },
  {
   "cell_type": "markdown",
   "id": "e53ac0bd",
   "metadata": {
    "lines_to_next_cell": 0,
    "papermill": {
     "duration": 0.00099,
     "end_time": "2025-04-28T22:57:45.136390",
     "exception": false,
     "start_time": "2025-04-28T22:57:45.135400",
     "status": "completed"
    },
    "tags": []
   },
   "source": [
    "## Description"
   ]
  },
  {
   "cell_type": "code",
   "execution_count": 5,
   "id": "45b5036b",
   "metadata": {
    "execution": {
     "iopub.execute_input": "2025-04-28T22:57:45.138985Z",
     "iopub.status.busy": "2025-04-28T22:57:45.138846Z",
     "iopub.status.idle": "2025-04-28T22:57:45.142788Z",
     "shell.execute_reply": "2025-04-28T22:57:45.142330Z"
    },
    "papermill": {
     "duration": 0.006495,
     "end_time": "2025-04-28T22:57:45.143898",
     "exception": false,
     "start_time": "2025-04-28T22:57:45.137403",
     "status": "completed"
    },
    "tags": []
   },
   "outputs": [
    {
     "data": {
      "text/html": [
       "<ul>\n",
       "\n",
       "<li>description: A function which is constant on the interval angular interval of cosine</li>\n",
       "\n",
       "<li>formula: $\\cos(x)$</li>\n",
       "\n",
       "<li>parameters: \n",
       "<ul>\n",
       "\n",
       "<li>lower_bound: \n",
       "<ul>\n",
       "\n",
       "<li>value: -90.0</li>\n",
       "\n",
       "<li>desc: Lower bound for the interval</li>\n",
       "\n",
       "<li>min_value: -inf</li>\n",
       "\n",
       "<li>max_value: inf</li>\n",
       "\n",
       "<li>unit: </li>\n",
       "\n",
       "<li>is_normalization: False</li>\n",
       "\n",
       "<li>delta: 9.0</li>\n",
       "\n",
       "<li>free: True</li>\n",
       "\n",
       "</ul>\n",
       "\n",
       "</li>\n",
       "\n",
       "<li>upper_bound: \n",
       "<ul>\n",
       "\n",
       "<li>value: 90.0</li>\n",
       "\n",
       "<li>desc: Upper bound for the interval</li>\n",
       "\n",
       "<li>min_value: -inf</li>\n",
       "\n",
       "<li>max_value: inf</li>\n",
       "\n",
       "<li>unit: </li>\n",
       "\n",
       "<li>is_normalization: False</li>\n",
       "\n",
       "<li>delta: 9.0</li>\n",
       "\n",
       "<li>free: True</li>\n",
       "\n",
       "</ul>\n",
       "\n",
       "</li>\n",
       "\n",
       "<li>value: \n",
       "<ul>\n",
       "\n",
       "<li>value: 1.0</li>\n",
       "\n",
       "<li>desc: Value in the interval</li>\n",
       "\n",
       "<li>min_value: None</li>\n",
       "\n",
       "<li>max_value: None</li>\n",
       "\n",
       "<li>unit: </li>\n",
       "\n",
       "<li>is_normalization: False</li>\n",
       "\n",
       "<li>delta: 0.1</li>\n",
       "\n",
       "<li>free: True</li>\n",
       "\n",
       "</ul>\n",
       "\n",
       "</li>\n",
       "\n",
       "</ul>\n",
       "\n",
       "</li>\n",
       "\n",
       "</ul>\n"
      ],
      "text/plain": [
       "  * description: A function which is constant on the interval angular interval of cosine\n",
       "  * formula: $\\cos(x)$\n",
       "  * parameters:\n",
       "    * lower_bound:\n",
       "      * value: -90.0\n",
       "      * desc: Lower bound for the interval\n",
       "      * min_value: -.inf\n",
       "      * max_value: .inf\n",
       "      * unit: ''\n",
       "      * is_normalization: false\n",
       "      * delta: 9.0\n",
       "      * free: true\n",
       "    * upper_bound:\n",
       "      * value: 90.0\n",
       "      * desc: Upper bound for the interval\n",
       "      * min_value: -.inf\n",
       "      * max_value: .inf\n",
       "      * unit: ''\n",
       "      * is_normalization: false\n",
       "      * delta: 9.0\n",
       "      * free: true\n",
       "    * value:\n",
       "      * value: 1.0\n",
       "      * desc: Value in the interval\n",
       "      * min_value: null\n",
       "      * max_value: null\n",
       "      * unit: ''\n",
       "      * is_normalization: false\n",
       "      * delta: 0.1\n",
       "      * free: true"
      ]
     },
     "metadata": {},
     "output_type": "display_data"
    }
   ],
   "source": [
    "func.display()"
   ]
  },
  {
   "cell_type": "markdown",
   "id": "f76ababd",
   "metadata": {
    "papermill": {
     "duration": 0.00106,
     "end_time": "2025-04-28T22:57:45.146117",
     "exception": false,
     "start_time": "2025-04-28T22:57:45.145057",
     "status": "completed"
    },
    "tags": []
   },
   "source": [
    "## Shape \n",
    "\n",
    "The shape of the function. \n",
    "\n",
    "*If this is not a photon model but a prior or linear function then ignore the units as these docs are auto-generated*"
   ]
  },
  {
   "cell_type": "code",
   "execution_count": 6,
   "id": "8286b8da",
   "metadata": {
    "execution": {
     "iopub.execute_input": "2025-04-28T22:57:45.148812Z",
     "iopub.status.busy": "2025-04-28T22:57:45.148670Z",
     "iopub.status.idle": "2025-04-28T22:57:45.232291Z",
     "shell.execute_reply": "2025-04-28T22:57:45.228997Z"
    },
    "papermill": {
     "duration": 0.088877,
     "end_time": "2025-04-28T22:57:45.236009",
     "exception": false,
     "start_time": "2025-04-28T22:57:45.147132",
     "status": "completed"
    },
    "tags": [
     "nbsphinx-thumbnail"
    ]
   },
   "outputs": [
    {
     "data": {
      "text/plain": [
       "Text(0, 0.5, 'probability')"
      ]
     },
     "execution_count": 6,
     "metadata": {},
     "output_type": "execute_result"
    },
    {
     "data": {
      "image/png": "[encoded data removed]",
      "text/plain": [
       "<Figure size 1040x910 with 1 Axes>"
      ]
     },
     "metadata": {},
     "output_type": "display_data"
    }
   ],
   "source": [
    "fig, ax = plt.subplots()\n",
    "\n",
    "\n",
    "ax.plot(energy_grid, func(energy_grid), color=blue, lw=3)\n",
    "\n",
    "ax.set_xlabel(\"x\")\n",
    "ax.set_ylabel(\"probability\")\n"
   ]
  },
  {
   "cell_type": "markdown",
   "id": "10b55680",
   "metadata": {
    "papermill": {
     "duration": 0.001453,
     "end_time": "2025-04-28T22:57:45.239183",
     "exception": false,
     "start_time": "2025-04-28T22:57:45.237730",
     "status": "completed"
    },
    "tags": []
   },
   "source": [
    "## Random Number Generation\n",
    "\n",
    "This is how we can generate random numbers from the prior.\n"
   ]
  },
  {
   "cell_type": "code",
   "execution_count": 7,
   "id": "cce9f713",
   "metadata": {
    "execution": {
     "iopub.execute_input": "2025-04-28T22:57:45.242724Z",
     "iopub.status.busy": "2025-04-28T22:57:45.242554Z",
     "iopub.status.idle": "2025-04-28T22:57:45.356708Z",
     "shell.execute_reply": "2025-04-28T22:57:45.356404Z"
    },
    "papermill": {
     "duration": 0.117385,
     "end_time": "2025-04-28T22:57:45.357930",
     "exception": false,
     "start_time": "2025-04-28T22:57:45.240545",
     "status": "completed"
    },
    "tags": []
   },
   "outputs": [
    {
     "data": {
      "text/plain": [
       "Text(0, 0.5, 'N')"
      ]
     },
     "execution_count": 7,
     "metadata": {},
     "output_type": "execute_result"
    },
    {
     "data": {
      "image/png": "[encoded data removed]",
      "text/plain": [
       "<Figure size 1040x910 with 1 Axes>"
      ]
     },
     "metadata": {},
     "output_type": "display_data"
    }
   ],
   "source": [
    "\n",
    "\n",
    "u = np.random.uniform(0,1, size=5000)\n",
    "\n",
    "draws = [func.from_unit_cube(x) for x in u]\n",
    "\n",
    "\n",
    "fig, ax = plt.subplots()\n",
    "\n",
    "\n",
    "ax.hist(draws, color=green, bins=50)\n",
    "\n",
    "ax.set_xlabel(\"value\")\n",
    "ax.set_ylabel(\"N\")\n",
    "\n"
   ]
  }
 ],
 "metadata": {
  "jupytext": {
   "formats": "ipynb,md"
  },
  "kernelspec": {
   "display_name": "Python 3 (ipykernel)",
   "language": "python",
   "name": "python3"
  },
  "language_info": {
   "codemirror_mode": {
    "name": "ipython",
    "version": 3
   },
   "file_extension": ".py",
   "mimetype": "text/x-python",
   "name": "python",
   "nbconvert_exporter": "python",
   "pygments_lexer": "ipython3",
   "version": "3.9.13"
  },
  "papermill": {
   "default_parameters": {},
   "duration": 2.54351,
   "end_time": "2025-04-28T22:57:45.688476",
   "environment_variables": {},
   "exception": null,
   "input_path": "Cosine_Prior.ipynb",
   "output_path": "/Users/runner/work/astromodels/astromodels/docs/notebooks/Cosine_Prior.ipynb",
   "parameters": {
    "func_name": "Cosine_Prior",
    "positive_prior": false
   },
   "start_time": "2025-04-28T22:57:43.144966",
   "version": "2.6.0"
  }
 },
 "nbformat": 4,
 "nbformat_minor": 5
}
