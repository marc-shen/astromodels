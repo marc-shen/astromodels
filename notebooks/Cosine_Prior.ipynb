{
 "cells": [
  {
   "cell_type": "markdown",
   "id": "445903fb",
   "metadata": {
    "papermill": {
     "duration": 0.003544,
     "end_time": "2023-11-01T19:24:10.142725",
     "exception": false,
     "start_time": "2023-11-01T19:24:10.139181",
     "status": "completed"
    },
    "tags": []
   },
   "source": [
    "# Cosine Prior"
   ]
  },
  {
   "cell_type": "code",
   "execution_count": 1,
   "id": "2ebb8bd7",
   "metadata": {
    "execution": {
     "iopub.execute_input": "2023-11-01T19:24:10.153329Z",
     "iopub.status.busy": "2023-11-01T19:24:10.152840Z",
     "iopub.status.idle": "2023-11-01T19:24:13.355551Z",
     "shell.execute_reply": "2023-11-01T19:24:13.352381Z"
    },
    "nbsphinx": "hidden",
    "papermill": {
     "duration": 3.212601,
     "end_time": "2023-11-01T19:24:13.359765",
     "exception": false,
     "start_time": "2023-11-01T19:24:10.147164",
     "status": "completed"
    },
    "tags": []
   },
   "outputs": [],
   "source": [
    "%%capture\n",
    "\n",
    "import numpy as np\n",
    "\n",
    "import matplotlib.pyplot as plt\n",
    "\n",
    "import warnings\n",
    "warnings.simplefilter(\"ignore\")\n",
    "\n",
    "from astromodels.functions.function import _known_functions\n",
    "\n",
    "\n",
    "from jupyterthemes import jtplot\n",
    "jtplot.style(context=\"talk\", fscale=1, ticks=True, grid=False)\n",
    "%matplotlib inline"
   ]
  },
  {
   "cell_type": "code",
   "execution_count": 2,
   "id": "6886414c",
   "metadata": {
    "execution": {
     "iopub.execute_input": "2023-11-01T19:24:13.367743Z",
     "iopub.status.busy": "2023-11-01T19:24:13.367271Z",
     "iopub.status.idle": "2023-11-01T19:24:13.372455Z",
     "shell.execute_reply": "2023-11-01T19:24:13.371255Z"
    },
    "nbsphinx": "hidden",
    "papermill": {
     "duration": 0.013394,
     "end_time": "2023-11-01T19:24:13.375983",
     "exception": false,
     "start_time": "2023-11-01T19:24:13.362589",
     "status": "completed"
    },
    "tags": [
     "parameters"
    ]
   },
   "outputs": [],
   "source": [
    "func_name = \"TbAbs\"\n",
    "\n",
    "positive_prior = False\n"
   ]
  },
  {
   "cell_type": "code",
   "execution_count": 3,
   "id": "3af8b078",
   "metadata": {
    "execution": {
     "iopub.execute_input": "2023-11-01T19:24:13.382065Z",
     "iopub.status.busy": "2023-11-01T19:24:13.381753Z",
     "iopub.status.idle": "2023-11-01T19:24:13.386842Z",
     "shell.execute_reply": "2023-11-01T19:24:13.385764Z"
    },
    "papermill": {
     "duration": 0.011993,
     "end_time": "2023-11-01T19:24:13.390308",
     "exception": false,
     "start_time": "2023-11-01T19:24:13.378315",
     "status": "completed"
    },
    "tags": [
     "injected-parameters"
    ]
   },
   "outputs": [],
   "source": [
    "# Parameters\n",
    "func_name = \"Cosine_Prior\"\n",
    "positive_prior = False\n"
   ]
  },
  {
   "cell_type": "code",
   "execution_count": 4,
   "id": "3302099c",
   "metadata": {
    "execution": {
     "iopub.execute_input": "2023-11-01T19:24:13.396367Z",
     "iopub.status.busy": "2023-11-01T19:24:13.396032Z",
     "iopub.status.idle": "2023-11-01T19:24:13.404865Z",
     "shell.execute_reply": "2023-11-01T19:24:13.403757Z"
    },
    "lines_to_next_cell": 0,
    "nbsphinx": "hidden",
    "papermill": {
     "duration": 0.015763,
     "end_time": "2023-11-01T19:24:13.408355",
     "exception": false,
     "start_time": "2023-11-01T19:24:13.392592",
     "status": "completed"
    },
    "tags": []
   },
   "outputs": [],
   "source": [
    "func = _known_functions[func_name]()\n",
    "\n",
    "if not positive_prior:\n",
    "\n",
    "\tenergy_grid = np.linspace(-5,5,1000)\n",
    "\n",
    "else:\n",
    "    \n",
    "    energy_grid = np.linspace(0,1,1000)\n",
    "    \n",
    "    \n",
    "    \n",
    "    \n",
    "blue = \"#4152E3\"\n",
    "red = \"#E3414B\"\n",
    "green = \"#41E39E\""
   ]
  },
  {
   "cell_type": "markdown",
   "id": "07cb037e",
   "metadata": {
    "lines_to_next_cell": 0,
    "papermill": {
     "duration": 0.002422,
     "end_time": "2023-11-01T19:24:13.413096",
     "exception": false,
     "start_time": "2023-11-01T19:24:13.410674",
     "status": "completed"
    },
    "tags": []
   },
   "source": [
    "## Description"
   ]
  },
  {
   "cell_type": "code",
   "execution_count": 5,
   "id": "80714735",
   "metadata": {
    "execution": {
     "iopub.execute_input": "2023-11-01T19:24:13.419121Z",
     "iopub.status.busy": "2023-11-01T19:24:13.418735Z",
     "iopub.status.idle": "2023-11-01T19:24:13.430019Z",
     "shell.execute_reply": "2023-11-01T19:24:13.428657Z"
    },
    "papermill": {
     "duration": 0.018379,
     "end_time": "2023-11-01T19:24:13.433673",
     "exception": false,
     "start_time": "2023-11-01T19:24:13.415294",
     "status": "completed"
    },
    "tags": []
   },
   "outputs": [
    {
     "data": {
      "text/html": [
       "<ul>\n",
       "\n",
       "<li>description: A function which is constant on the interval angular interval of cosine</li>\n",
       "\n",
       "<li>formula: $\\cos(x)$</li>\n",
       "\n",
       "<li>parameters: \n",
       "<ul>\n",
       "\n",
       "<li>lower_bound: \n",
       "<ul>\n",
       "\n",
       "<li>value: -90.0</li>\n",
       "\n",
       "<li>desc: Lower bound for the interval</li>\n",
       "\n",
       "<li>min_value: -inf</li>\n",
       "\n",
       "<li>max_value: inf</li>\n",
       "\n",
       "<li>unit: </li>\n",
       "\n",
       "<li>is_normalization: False</li>\n",
       "\n",
       "<li>delta: 9.0</li>\n",
       "\n",
       "<li>free: True</li>\n",
       "\n",
       "</ul>\n",
       "\n",
       "</li>\n",
       "\n",
       "<li>upper_bound: \n",
       "<ul>\n",
       "\n",
       "<li>value: 90.0</li>\n",
       "\n",
       "<li>desc: Upper bound for the interval</li>\n",
       "\n",
       "<li>min_value: -inf</li>\n",
       "\n",
       "<li>max_value: inf</li>\n",
       "\n",
       "<li>unit: </li>\n",
       "\n",
       "<li>is_normalization: False</li>\n",
       "\n",
       "<li>delta: 9.0</li>\n",
       "\n",
       "<li>free: True</li>\n",
       "\n",
       "</ul>\n",
       "\n",
       "</li>\n",
       "\n",
       "<li>value: \n",
       "<ul>\n",
       "\n",
       "<li>value: 1.0</li>\n",
       "\n",
       "<li>desc: Value in the interval</li>\n",
       "\n",
       "<li>min_value: None</li>\n",
       "\n",
       "<li>max_value: None</li>\n",
       "\n",
       "<li>unit: </li>\n",
       "\n",
       "<li>is_normalization: False</li>\n",
       "\n",
       "<li>delta: 0.1</li>\n",
       "\n",
       "<li>free: True</li>\n",
       "\n",
       "</ul>\n",
       "\n",
       "</li>\n",
       "\n",
       "</ul>\n",
       "\n",
       "</li>\n",
       "\n",
       "</ul>\n"
      ],
      "text/plain": [
       "  * description: A function which is constant on the interval angular interval of cosine\n",
       "  * formula: $\\cos(x)$\n",
       "  * parameters:\n",
       "    * lower_bound:\n",
       "      * value: -90.0\n",
       "      * desc: Lower bound for the interval\n",
       "      * min_value: -.inf\n",
       "      * max_value: .inf\n",
       "      * unit: ''\n",
       "      * is_normalization: false\n",
       "      * delta: 9.0\n",
       "      * free: true\n",
       "    * upper_bound:\n",
       "      * value: 90.0\n",
       "      * desc: Upper bound for the interval\n",
       "      * min_value: -.inf\n",
       "      * max_value: .inf\n",
       "      * unit: ''\n",
       "      * is_normalization: false\n",
       "      * delta: 9.0\n",
       "      * free: true\n",
       "    * value:\n",
       "      * value: 1.0\n",
       "      * desc: Value in the interval\n",
       "      * min_value: null\n",
       "      * max_value: null\n",
       "      * unit: ''\n",
       "      * is_normalization: false\n",
       "      * delta: 0.1\n",
       "      * free: true"
      ]
     },
     "metadata": {},
     "output_type": "display_data"
    }
   ],
   "source": [
    "func.display()"
   ]
  },
  {
   "cell_type": "markdown",
   "id": "18f4d17c",
   "metadata": {
    "papermill": {
     "duration": 0.002619,
     "end_time": "2023-11-01T19:24:13.439094",
     "exception": false,
     "start_time": "2023-11-01T19:24:13.436475",
     "status": "completed"
    },
    "tags": []
   },
   "source": [
    "## Shape \n",
    "\n",
    "The shape of the function. \n",
    "\n",
    "*If this is not a photon model but a prior or linear function then ignore the units as these docs are auto-generated*"
   ]
  },
  {
   "cell_type": "code",
   "execution_count": 6,
   "id": "98e0d4e4",
   "metadata": {
    "execution": {
     "iopub.execute_input": "2023-11-01T19:24:13.446804Z",
     "iopub.status.busy": "2023-11-01T19:24:13.446310Z",
     "iopub.status.idle": "2023-11-01T19:24:13.677934Z",
     "shell.execute_reply": "2023-11-01T19:24:13.676779Z"
    },
    "papermill": {
     "duration": 0.23989,
     "end_time": "2023-11-01T19:24:13.681427",
     "exception": false,
     "start_time": "2023-11-01T19:24:13.441537",
     "status": "completed"
    },
    "tags": [
     "nbsphinx-thumbnail"
    ]
   },
   "outputs": [
    {
     "data": {
      "text/plain": [
       "Text(0, 0.5, 'probability')"
      ]
     },
     "execution_count": 6,
     "metadata": {},
     "output_type": "execute_result"
    },
    {
     "data": {
      "image/png": "[encoded data removed]",
      "text/plain": [
       "<Figure size 1040x910 with 1 Axes>"
      ]
     },
     "metadata": {},
     "output_type": "display_data"
    }
   ],
   "source": [
    "fig, ax = plt.subplots()\n",
    "\n",
    "\n",
    "ax.plot(energy_grid, func(energy_grid), color=blue, lw=3)\n",
    "\n",
    "ax.set_xlabel(\"x\")\n",
    "ax.set_ylabel(\"probability\")\n"
   ]
  },
  {
   "cell_type": "markdown",
   "id": "8c7e718b",
   "metadata": {
    "papermill": {
     "duration": 0.003729,
     "end_time": "2023-11-01T19:24:13.688463",
     "exception": false,
     "start_time": "2023-11-01T19:24:13.684734",
     "status": "completed"
    },
    "tags": []
   },
   "source": [
    "## Random Number Generation\n",
    "\n",
    "This is how we can generate random numbers from the prior.\n"
   ]
  },
  {
   "cell_type": "code",
   "execution_count": 7,
   "id": "488a4cb0",
   "metadata": {
    "execution": {
     "iopub.execute_input": "2023-11-01T19:24:13.697595Z",
     "iopub.status.busy": "2023-11-01T19:24:13.697234Z",
     "iopub.status.idle": "2023-11-01T19:24:14.080877Z",
     "shell.execute_reply": "2023-11-01T19:24:14.079522Z"
    },
    "papermill": {
     "duration": 0.392628,
     "end_time": "2023-11-01T19:24:14.085052",
     "exception": false,
     "start_time": "2023-11-01T19:24:13.692424",
     "status": "completed"
    },
    "tags": []
   },
   "outputs": [
    {
     "data": {
      "text/plain": [
       "Text(0, 0.5, 'N')"
      ]
     },
     "execution_count": 7,
     "metadata": {},
     "output_type": "execute_result"
    },
    {
     "data": {
      "image/png": "[encoded data removed]",
      "text/plain": [
       "<Figure size 1040x910 with 1 Axes>"
      ]
     },
     "metadata": {},
     "output_type": "display_data"
    }
   ],
   "source": [
    "\n",
    "\n",
    "u = np.random.uniform(0,1, size=5000)\n",
    "\n",
    "draws = [func.from_unit_cube(x) for x in u]\n",
    "\n",
    "\n",
    "fig, ax = plt.subplots()\n",
    "\n",
    "\n",
    "ax.hist(draws, color=green, bins=50)\n",
    "\n",
    "ax.set_xlabel(\"value\")\n",
    "ax.set_ylabel(\"N\")\n",
    "\n"
   ]
  }
 ],
 "metadata": {
  "jupytext": {
   "formats": "ipynb,md"
  },
  "kernelspec": {
   "display_name": "Python 3 (ipykernel)",
   "language": "python",
   "name": "python3"
  },
  "language_info": {
   "codemirror_mode": {
    "name": "ipython",
    "version": 3
   },
   "file_extension": ".py",
   "mimetype": "text/x-python",
   "name": "python",
   "nbconvert_exporter": "python",
   "pygments_lexer": "ipython3",
   "version": "3.9.18"
  },
  "papermill": {
   "default_parameters": {},
   "duration": 5.542036,
   "end_time": "2023-11-01T19:24:14.622819",
   "environment_variables": {},
   "exception": null,
   "input_path": "Cosine_Prior.ipynb",
   "output_path": "/Users/runner/work/astromodels/astromodels/docs/notebooks/Cosine_Prior.ipynb",
   "parameters": {
    "func_name": "Cosine_Prior",
    "positive_prior": false
   },
   "start_time": "2023-11-01T19:24:09.080783",
   "version": "2.4.0"
  }
 },
 "nbformat": 4,
 "nbformat_minor": 5
}
