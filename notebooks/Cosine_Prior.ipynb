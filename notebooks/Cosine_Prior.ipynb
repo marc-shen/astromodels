{
 "cells": [
  {
   "cell_type": "markdown",
   "id": "4c5a0257",
   "metadata": {
    "papermill": {
     "duration": 0.007457,
     "end_time": "2024-05-08T19:22:43.177498",
     "exception": false,
     "start_time": "2024-05-08T19:22:43.170041",
     "status": "completed"
    },
    "tags": []
   },
   "source": [
    "# Cosine Prior"
   ]
  },
  {
   "cell_type": "code",
   "execution_count": 1,
   "id": "213481ad",
   "metadata": {
    "execution": {
     "iopub.execute_input": "2024-05-08T19:22:43.190863Z",
     "iopub.status.busy": "2024-05-08T19:22:43.190295Z",
     "iopub.status.idle": "2024-05-08T19:22:44.673001Z",
     "shell.execute_reply": "2024-05-08T19:22:44.672389Z"
    },
    "nbsphinx": "hidden",
    "papermill": {
     "duration": 1.490669,
     "end_time": "2024-05-08T19:22:44.674533",
     "exception": false,
     "start_time": "2024-05-08T19:22:43.183864",
     "status": "completed"
    },
    "tags": []
   },
   "outputs": [],
   "source": [
    "%%capture\n",
    "\n",
    "import numpy as np\n",
    "\n",
    "import matplotlib.pyplot as plt\n",
    "\n",
    "import warnings\n",
    "warnings.simplefilter(\"ignore\")\n",
    "\n",
    "from astromodels.functions.function import _known_functions\n",
    "\n",
    "\n",
    "from jupyterthemes import jtplot\n",
    "jtplot.style(context=\"talk\", fscale=1, ticks=True, grid=False)\n",
    "%matplotlib inline"
   ]
  },
  {
   "cell_type": "code",
   "execution_count": 2,
   "id": "a374b09d",
   "metadata": {
    "execution": {
     "iopub.execute_input": "2024-05-08T19:22:44.677759Z",
     "iopub.status.busy": "2024-05-08T19:22:44.677413Z",
     "iopub.status.idle": "2024-05-08T19:22:44.686074Z",
     "shell.execute_reply": "2024-05-08T19:22:44.685554Z"
    },
    "nbsphinx": "hidden",
    "papermill": {
     "duration": 0.011567,
     "end_time": "2024-05-08T19:22:44.687385",
     "exception": false,
     "start_time": "2024-05-08T19:22:44.675818",
     "status": "completed"
    },
    "tags": [
     "parameters"
    ]
   },
   "outputs": [],
   "source": [
    "func_name = \"TbAbs\"\n",
    "\n",
    "positive_prior = False\n"
   ]
  },
  {
   "cell_type": "code",
   "execution_count": 3,
   "id": "d386a200",
   "metadata": {
    "execution": {
     "iopub.execute_input": "2024-05-08T19:22:44.690033Z",
     "iopub.status.busy": "2024-05-08T19:22:44.689882Z",
     "iopub.status.idle": "2024-05-08T19:22:44.691794Z",
     "shell.execute_reply": "2024-05-08T19:22:44.691423Z"
    },
    "papermill": {
     "duration": 0.004663,
     "end_time": "2024-05-08T19:22:44.693086",
     "exception": false,
     "start_time": "2024-05-08T19:22:44.688423",
     "status": "completed"
    },
    "tags": [
     "injected-parameters"
    ]
   },
   "outputs": [],
   "source": [
    "# Parameters\n",
    "func_name = \"Cosine_Prior\"\n",
    "positive_prior = False\n"
   ]
  },
  {
   "cell_type": "code",
   "execution_count": 4,
   "id": "2106a0b0",
   "metadata": {
    "execution": {
     "iopub.execute_input": "2024-05-08T19:22:44.695740Z",
     "iopub.status.busy": "2024-05-08T19:22:44.695602Z",
     "iopub.status.idle": "2024-05-08T19:22:44.702092Z",
     "shell.execute_reply": "2024-05-08T19:22:44.701705Z"
    },
    "lines_to_next_cell": 0,
    "nbsphinx": "hidden",
    "papermill": {
     "duration": 0.009199,
     "end_time": "2024-05-08T19:22:44.703334",
     "exception": false,
     "start_time": "2024-05-08T19:22:44.694135",
     "status": "completed"
    },
    "tags": []
   },
   "outputs": [],
   "source": [
    "func = _known_functions[func_name]()\n",
    "\n",
    "if not positive_prior:\n",
    "\n",
    "\tenergy_grid = np.linspace(-5,5,1000)\n",
    "\n",
    "else:\n",
    "    \n",
    "    energy_grid = np.linspace(0,1,1000)\n",
    "    \n",
    "    \n",
    "    \n",
    "    \n",
    "blue = \"#4152E3\"\n",
    "red = \"#E3414B\"\n",
    "green = \"#41E39E\""
   ]
  },
  {
   "cell_type": "markdown",
   "id": "e792b8a6",
   "metadata": {
    "lines_to_next_cell": 0,
    "papermill": {
     "duration": 0.001011,
     "end_time": "2024-05-08T19:22:44.705383",
     "exception": false,
     "start_time": "2024-05-08T19:22:44.704372",
     "status": "completed"
    },
    "tags": []
   },
   "source": [
    "## Description"
   ]
  },
  {
   "cell_type": "code",
   "execution_count": 5,
   "id": "ac2c5a84",
   "metadata": {
    "execution": {
     "iopub.execute_input": "2024-05-08T19:22:44.707981Z",
     "iopub.status.busy": "2024-05-08T19:22:44.707841Z",
     "iopub.status.idle": "2024-05-08T19:22:44.711921Z",
     "shell.execute_reply": "2024-05-08T19:22:44.711400Z"
    },
    "papermill": {
     "duration": 0.006877,
     "end_time": "2024-05-08T19:22:44.713237",
     "exception": false,
     "start_time": "2024-05-08T19:22:44.706360",
     "status": "completed"
    },
    "tags": []
   },
   "outputs": [
    {
     "data": {
      "text/html": [
       "<ul>\n",
       "\n",
       "<li>description: A function which is constant on the interval angular interval of cosine</li>\n",
       "\n",
       "<li>formula: $\\cos(x)$</li>\n",
       "\n",
       "<li>parameters: \n",
       "<ul>\n",
       "\n",
       "<li>lower_bound: \n",
       "<ul>\n",
       "\n",
       "<li>value: -90.0</li>\n",
       "\n",
       "<li>desc: Lower bound for the interval</li>\n",
       "\n",
       "<li>min_value: -inf</li>\n",
       "\n",
       "<li>max_value: inf</li>\n",
       "\n",
       "<li>unit: </li>\n",
       "\n",
       "<li>is_normalization: False</li>\n",
       "\n",
       "<li>delta: 9.0</li>\n",
       "\n",
       "<li>free: True</li>\n",
       "\n",
       "</ul>\n",
       "\n",
       "</li>\n",
       "\n",
       "<li>upper_bound: \n",
       "<ul>\n",
       "\n",
       "<li>value: 90.0</li>\n",
       "\n",
       "<li>desc: Upper bound for the interval</li>\n",
       "\n",
       "<li>min_value: -inf</li>\n",
       "\n",
       "<li>max_value: inf</li>\n",
       "\n",
       "<li>unit: </li>\n",
       "\n",
       "<li>is_normalization: False</li>\n",
       "\n",
       "<li>delta: 9.0</li>\n",
       "\n",
       "<li>free: True</li>\n",
       "\n",
       "</ul>\n",
       "\n",
       "</li>\n",
       "\n",
       "<li>value: \n",
       "<ul>\n",
       "\n",
       "<li>value: 1.0</li>\n",
       "\n",
       "<li>desc: Value in the interval</li>\n",
       "\n",
       "<li>min_value: None</li>\n",
       "\n",
       "<li>max_value: None</li>\n",
       "\n",
       "<li>unit: </li>\n",
       "\n",
       "<li>is_normalization: False</li>\n",
       "\n",
       "<li>delta: 0.1</li>\n",
       "\n",
       "<li>free: True</li>\n",
       "\n",
       "</ul>\n",
       "\n",
       "</li>\n",
       "\n",
       "</ul>\n",
       "\n",
       "</li>\n",
       "\n",
       "</ul>\n"
      ],
      "text/plain": [
       "  * description: A function which is constant on the interval angular interval of cosine\n",
       "  * formula: $\\cos(x)$\n",
       "  * parameters:\n",
       "    * lower_bound:\n",
       "      * value: -90.0\n",
       "      * desc: Lower bound for the interval\n",
       "      * min_value: -.inf\n",
       "      * max_value: .inf\n",
       "      * unit: ''\n",
       "      * is_normalization: false\n",
       "      * delta: 9.0\n",
       "      * free: true\n",
       "    * upper_bound:\n",
       "      * value: 90.0\n",
       "      * desc: Upper bound for the interval\n",
       "      * min_value: -.inf\n",
       "      * max_value: .inf\n",
       "      * unit: ''\n",
       "      * is_normalization: false\n",
       "      * delta: 9.0\n",
       "      * free: true\n",
       "    * value:\n",
       "      * value: 1.0\n",
       "      * desc: Value in the interval\n",
       "      * min_value: null\n",
       "      * max_value: null\n",
       "      * unit: ''\n",
       "      * is_normalization: false\n",
       "      * delta: 0.1\n",
       "      * free: true"
      ]
     },
     "metadata": {},
     "output_type": "display_data"
    }
   ],
   "source": [
    "func.display()"
   ]
  },
  {
   "cell_type": "markdown",
   "id": "89b58620",
   "metadata": {
    "papermill": {
     "duration": 0.001113,
     "end_time": "2024-05-08T19:22:44.715456",
     "exception": false,
     "start_time": "2024-05-08T19:22:44.714343",
     "status": "completed"
    },
    "tags": []
   },
   "source": [
    "## Shape \n",
    "\n",
    "The shape of the function. \n",
    "\n",
    "*If this is not a photon model but a prior or linear function then ignore the units as these docs are auto-generated*"
   ]
  },
  {
   "cell_type": "code",
   "execution_count": 6,
   "id": "692cf3a9",
   "metadata": {
    "execution": {
     "iopub.execute_input": "2024-05-08T19:22:44.718206Z",
     "iopub.status.busy": "2024-05-08T19:22:44.718066Z",
     "iopub.status.idle": "2024-05-08T19:22:44.824360Z",
     "shell.execute_reply": "2024-05-08T19:22:44.824022Z"
    },
    "papermill": {
     "duration": 0.109295,
     "end_time": "2024-05-08T19:22:44.825767",
     "exception": false,
     "start_time": "2024-05-08T19:22:44.716472",
     "status": "completed"
    },
    "tags": [
     "nbsphinx-thumbnail"
    ]
   },
   "outputs": [
    {
     "data": {
      "text/plain": [
       "Text(0, 0.5, 'probability')"
      ]
     },
     "execution_count": 6,
     "metadata": {},
     "output_type": "execute_result"
    },
    {
     "data": {
      "image/png": "[encoded data removed]",
      "text/plain": [
       "<Figure size 1040x910 with 1 Axes>"
      ]
     },
     "metadata": {},
     "output_type": "display_data"
    }
   ],
   "source": [
    "fig, ax = plt.subplots()\n",
    "\n",
    "\n",
    "ax.plot(energy_grid, func(energy_grid), color=blue, lw=3)\n",
    "\n",
    "ax.set_xlabel(\"x\")\n",
    "ax.set_ylabel(\"probability\")\n"
   ]
  },
  {
   "cell_type": "markdown",
   "id": "38f298f5",
   "metadata": {
    "papermill": {
     "duration": 0.001716,
     "end_time": "2024-05-08T19:22:44.830396",
     "exception": false,
     "start_time": "2024-05-08T19:22:44.828680",
     "status": "completed"
    },
    "tags": []
   },
   "source": [
    "## Random Number Generation\n",
    "\n",
    "This is how we can generate random numbers from the prior.\n"
   ]
  },
  {
   "cell_type": "code",
   "execution_count": 7,
   "id": "5c1b82cf",
   "metadata": {
    "execution": {
     "iopub.execute_input": "2024-05-08T19:22:44.833983Z",
     "iopub.status.busy": "2024-05-08T19:22:44.833838Z",
     "iopub.status.idle": "2024-05-08T19:22:44.973189Z",
     "shell.execute_reply": "2024-05-08T19:22:44.972860Z"
    },
    "papermill": {
     "duration": 0.142843,
     "end_time": "2024-05-08T19:22:44.974639",
     "exception": false,
     "start_time": "2024-05-08T19:22:44.831796",
     "status": "completed"
    },
    "tags": []
   },
   "outputs": [
    {
     "data": {
      "text/plain": [
       "Text(0, 0.5, 'N')"
      ]
     },
     "execution_count": 7,
     "metadata": {},
     "output_type": "execute_result"
    },
    {
     "data": {
      "image/png": "[encoded data removed]",
      "text/plain": [
       "<Figure size 1040x910 with 1 Axes>"
      ]
     },
     "metadata": {},
     "output_type": "display_data"
    }
   ],
   "source": [
    "\n",
    "\n",
    "u = np.random.uniform(0,1, size=5000)\n",
    "\n",
    "draws = [func.from_unit_cube(x) for x in u]\n",
    "\n",
    "\n",
    "fig, ax = plt.subplots()\n",
    "\n",
    "\n",
    "ax.hist(draws, color=green, bins=50)\n",
    "\n",
    "ax.set_xlabel(\"value\")\n",
    "ax.set_ylabel(\"N\")\n",
    "\n"
   ]
  }
 ],
 "metadata": {
  "jupytext": {
   "formats": "ipynb,md"
  },
  "kernelspec": {
   "display_name": "Python 3 (ipykernel)",
   "language": "python",
   "name": "python3"
  },
  "language_info": {
   "codemirror_mode": {
    "name": "ipython",
    "version": 3
   },
   "file_extension": ".py",
   "mimetype": "text/x-python",
   "name": "python",
   "nbconvert_exporter": "python",
   "pygments_lexer": "ipython3",
   "version": "3.9.13"
  },
  "papermill": {
   "default_parameters": {},
   "duration": 2.810549,
   "end_time": "2024-05-08T19:22:45.405538",
   "environment_variables": {},
   "exception": null,
   "input_path": "Cosine_Prior.ipynb",
   "output_path": "/Users/runner/work/astromodels/astromodels/docs/notebooks/Cosine_Prior.ipynb",
   "parameters": {
    "func_name": "Cosine_Prior",
    "positive_prior": false
   },
   "start_time": "2024-05-08T19:22:42.594989",
   "version": "2.6.0"
  }
 },
 "nbformat": 4,
 "nbformat_minor": 5
}
