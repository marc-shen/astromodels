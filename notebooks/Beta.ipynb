{
 "cells": [
  {
   "cell_type": "markdown",
   "id": "8effc405",
   "metadata": {
    "papermill": {
     "duration": 0.001957,
     "end_time": "2025-07-14T22:31:47.253759",
     "exception": false,
     "start_time": "2025-07-14T22:31:47.251802",
     "status": "completed"
    },
    "tags": []
   },
   "source": [
    "# Beta"
   ]
  },
  {
   "cell_type": "code",
   "execution_count": 1,
   "id": "4c48c122",
   "metadata": {
    "execution": {
     "iopub.execute_input": "2025-07-14T22:31:47.259548Z",
     "iopub.status.busy": "2025-07-14T22:31:47.259287Z",
     "iopub.status.idle": "2025-07-14T22:31:49.491507Z",
     "shell.execute_reply": "2025-07-14T22:31:49.490559Z"
    },
    "nbsphinx": "hidden",
    "papermill": {
     "duration": 2.238051,
     "end_time": "2025-07-14T22:31:49.493316",
     "exception": false,
     "start_time": "2025-07-14T22:31:47.255265",
     "status": "completed"
    },
    "tags": []
   },
   "outputs": [],
   "source": [
    "%%capture\n",
    "\n",
    "import numpy as np\n",
    "\n",
    "import matplotlib.pyplot as plt\n",
    "\n",
    "import warnings\n",
    "warnings.simplefilter(\"ignore\")\n",
    "\n",
    "from astromodels.functions.function import _known_functions\n",
    "\n",
    "\n",
    "from jupyterthemes import jtplot\n",
    "jtplot.style(context=\"talk\", fscale=1, ticks=True, grid=False)\n",
    "%matplotlib inline"
   ]
  },
  {
   "cell_type": "code",
   "execution_count": 2,
   "id": "95ee332a",
   "metadata": {
    "execution": {
     "iopub.execute_input": "2025-07-14T22:31:49.498475Z",
     "iopub.status.busy": "2025-07-14T22:31:49.497976Z",
     "iopub.status.idle": "2025-07-14T22:31:49.501003Z",
     "shell.execute_reply": "2025-07-14T22:31:49.500467Z"
    },
    "nbsphinx": "hidden",
    "papermill": {
     "duration": 0.007102,
     "end_time": "2025-07-14T22:31:49.502446",
     "exception": false,
     "start_time": "2025-07-14T22:31:49.495344",
     "status": "completed"
    },
    "tags": [
     "parameters"
    ]
   },
   "outputs": [],
   "source": [
    "func_name = \"TbAbs\"\n",
    "\n",
    "positive_prior = False\n"
   ]
  },
  {
   "cell_type": "code",
   "execution_count": 3,
   "id": "622054c6",
   "metadata": {
    "execution": {
     "iopub.execute_input": "2025-07-14T22:31:49.506522Z",
     "iopub.status.busy": "2025-07-14T22:31:49.506318Z",
     "iopub.status.idle": "2025-07-14T22:31:49.513173Z",
     "shell.execute_reply": "2025-07-14T22:31:49.512204Z"
    },
    "papermill": {
     "duration": 0.010307,
     "end_time": "2025-07-14T22:31:49.514430",
     "exception": false,
     "start_time": "2025-07-14T22:31:49.504123",
     "status": "completed"
    },
    "tags": [
     "injected-parameters"
    ]
   },
   "outputs": [],
   "source": [
    "# Parameters\n",
    "func_name = \"Beta\"\n",
    "positive_prior = True\n"
   ]
  },
  {
   "cell_type": "code",
   "execution_count": 4,
   "id": "17d6eb00",
   "metadata": {
    "execution": {
     "iopub.execute_input": "2025-07-14T22:31:49.518387Z",
     "iopub.status.busy": "2025-07-14T22:31:49.518187Z",
     "iopub.status.idle": "2025-07-14T22:31:49.525835Z",
     "shell.execute_reply": "2025-07-14T22:31:49.525204Z"
    },
    "lines_to_next_cell": 0,
    "nbsphinx": "hidden",
    "papermill": {
     "duration": 0.010891,
     "end_time": "2025-07-14T22:31:49.527144",
     "exception": false,
     "start_time": "2025-07-14T22:31:49.516253",
     "status": "completed"
    },
    "tags": []
   },
   "outputs": [],
   "source": [
    "func = _known_functions[func_name]()\n",
    "\n",
    "if not positive_prior:\n",
    "\n",
    "\tenergy_grid = np.linspace(-5,5,1000)\n",
    "\n",
    "else:\n",
    "    \n",
    "    energy_grid = np.linspace(0,1,1000)\n",
    "    \n",
    "    \n",
    "    \n",
    "    \n",
    "blue = \"#4152E3\"\n",
    "red = \"#E3414B\"\n",
    "green = \"#41E39E\""
   ]
  },
  {
   "cell_type": "markdown",
   "id": "826079fb",
   "metadata": {
    "lines_to_next_cell": 0,
    "papermill": {
     "duration": 0.001192,
     "end_time": "2025-07-14T22:31:49.529771",
     "exception": false,
     "start_time": "2025-07-14T22:31:49.528579",
     "status": "completed"
    },
    "tags": []
   },
   "source": [
    "## Description"
   ]
  },
  {
   "cell_type": "code",
   "execution_count": 5,
   "id": "d53ec294",
   "metadata": {
    "execution": {
     "iopub.execute_input": "2025-07-14T22:31:49.533393Z",
     "iopub.status.busy": "2025-07-14T22:31:49.532864Z",
     "iopub.status.idle": "2025-07-14T22:31:49.543769Z",
     "shell.execute_reply": "2025-07-14T22:31:49.542688Z"
    },
    "papermill": {
     "duration": 0.015259,
     "end_time": "2025-07-14T22:31:49.546157",
     "exception": false,
     "start_time": "2025-07-14T22:31:49.530898",
     "status": "completed"
    },
    "tags": []
   },
   "outputs": [
    {
     "data": {
      "text/html": [
       "<ul>\n",
       "\n",
       "<li>description: A beta distribution function</li>\n",
       "\n",
       "<li>formula: $ f(x, a, b)=\\frac{\\Gamma(a+b) x^{a-1}(1-x)^{b-1}}{\\Gamma(a) \\Gamma(b)}$</li>\n",
       "\n",
       "<li>parameters: \n",
       "<ul>\n",
       "\n",
       "<li>a: \n",
       "<ul>\n",
       "\n",
       "<li>value: 0.5</li>\n",
       "\n",
       "<li>desc: first shape parameter</li>\n",
       "\n",
       "<li>min_value: 0.0</li>\n",
       "\n",
       "<li>max_value: None</li>\n",
       "\n",
       "<li>unit: </li>\n",
       "\n",
       "<li>is_normalization: False</li>\n",
       "\n",
       "<li>delta: 0.05</li>\n",
       "\n",
       "<li>free: True</li>\n",
       "\n",
       "</ul>\n",
       "\n",
       "</li>\n",
       "\n",
       "<li>b: \n",
       "<ul>\n",
       "\n",
       "<li>value: 0.5</li>\n",
       "\n",
       "<li>desc: second shape parameter</li>\n",
       "\n",
       "<li>min_value: 0.0</li>\n",
       "\n",
       "<li>max_value: None</li>\n",
       "\n",
       "<li>unit: </li>\n",
       "\n",
       "<li>is_normalization: False</li>\n",
       "\n",
       "<li>delta: 0.05</li>\n",
       "\n",
       "<li>free: True</li>\n",
       "\n",
       "</ul>\n",
       "\n",
       "</li>\n",
       "\n",
       "</ul>\n",
       "\n",
       "</li>\n",
       "\n",
       "</ul>\n"
      ],
      "text/plain": [
       "  * description: A beta distribution function\n",
       "  * formula: $ f(x, a, b)=\\frac{\\Gamma(a+b) x^{a-1}(1-x)^{b-1}}{\\Gamma(a) \\Gamma(b)}$\n",
       "  * parameters:\n",
       "    * a:\n",
       "      * value: 0.5\n",
       "      * desc: first shape parameter\n",
       "      * min_value: 0.0\n",
       "      * max_value: null\n",
       "      * unit: ''\n",
       "      * is_normalization: false\n",
       "      * delta: 0.05\n",
       "      * free: true\n",
       "    * b:\n",
       "      * value: 0.5\n",
       "      * desc: second shape parameter\n",
       "      * min_value: 0.0\n",
       "      * max_value: null\n",
       "      * unit: ''\n",
       "      * is_normalization: false\n",
       "      * delta: 0.05\n",
       "      * free: true"
      ]
     },
     "metadata": {},
     "output_type": "display_data"
    }
   ],
   "source": [
    "func.display()"
   ]
  },
  {
   "cell_type": "markdown",
   "id": "59f195af",
   "metadata": {
    "papermill": {
     "duration": 0.001474,
     "end_time": "2025-07-14T22:31:49.549189",
     "exception": false,
     "start_time": "2025-07-14T22:31:49.547715",
     "status": "completed"
    },
    "tags": []
   },
   "source": [
    "## Shape \n",
    "\n",
    "The shape of the function. \n",
    "\n",
    "*If this is not a photon model but a prior or linear function then ignore the units as these docs are auto-generated*"
   ]
  },
  {
   "cell_type": "code",
   "execution_count": 6,
   "id": "e3add432",
   "metadata": {
    "execution": {
     "iopub.execute_input": "2025-07-14T22:31:49.552873Z",
     "iopub.status.busy": "2025-07-14T22:31:49.552649Z",
     "iopub.status.idle": "2025-07-14T22:31:49.658697Z",
     "shell.execute_reply": "2025-07-14T22:31:49.658318Z"
    },
    "papermill": {
     "duration": 0.109475,
     "end_time": "2025-07-14T22:31:49.660049",
     "exception": false,
     "start_time": "2025-07-14T22:31:49.550574",
     "status": "completed"
    },
    "tags": [
     "nbsphinx-thumbnail"
    ]
   },
   "outputs": [
    {
     "data": {
      "text/plain": [
       "Text(0, 0.5, 'probability')"
      ]
     },
     "execution_count": 6,
     "metadata": {},
     "output_type": "execute_result"
    },
    {
     "data": {
      "image/png": "[encoded data removed]",
      "text/plain": [
       "<Figure size 1040x910 with 1 Axes>"
      ]
     },
     "metadata": {},
     "output_type": "display_data"
    }
   ],
   "source": [
    "fig, ax = plt.subplots()\n",
    "\n",
    "\n",
    "ax.plot(energy_grid, func(energy_grid), color=blue, lw=3)\n",
    "\n",
    "ax.set_xlabel(\"x\")\n",
    "ax.set_ylabel(\"probability\")\n"
   ]
  },
  {
   "cell_type": "markdown",
   "id": "e3923820",
   "metadata": {
    "papermill": {
     "duration": 0.001552,
     "end_time": "2025-07-14T22:31:49.663453",
     "exception": false,
     "start_time": "2025-07-14T22:31:49.661901",
     "status": "completed"
    },
    "tags": []
   },
   "source": [
    "## Random Number Generation\n",
    "\n",
    "This is how we can generate random numbers from the prior.\n"
   ]
  },
  {
   "cell_type": "code",
   "execution_count": 7,
   "id": "a6170ac0",
   "metadata": {
    "execution": {
     "iopub.execute_input": "2025-07-14T22:31:49.667741Z",
     "iopub.status.busy": "2025-07-14T22:31:49.667554Z",
     "iopub.status.idle": "2025-07-14T22:31:50.042443Z",
     "shell.execute_reply": "2025-07-14T22:31:50.040183Z"
    },
    "papermill": {
     "duration": 0.378455,
     "end_time": "2025-07-14T22:31:50.043681",
     "exception": false,
     "start_time": "2025-07-14T22:31:49.665226",
     "status": "completed"
    },
    "tags": []
   },
   "outputs": [
    {
     "data": {
      "text/plain": [
       "Text(0, 0.5, 'N')"
      ]
     },
     "execution_count": 7,
     "metadata": {},
     "output_type": "execute_result"
    },
    {
     "data": {
      "image/png": "[encoded data removed]",
      "text/plain": [
       "<Figure size 1040x910 with 1 Axes>"
      ]
     },
     "metadata": {},
     "output_type": "display_data"
    }
   ],
   "source": [
    "\n",
    "\n",
    "u = np.random.uniform(0,1, size=5000)\n",
    "\n",
    "draws = [func.from_unit_cube(x) for x in u]\n",
    "\n",
    "\n",
    "fig, ax = plt.subplots()\n",
    "\n",
    "\n",
    "ax.hist(draws, color=green, bins=50)\n",
    "\n",
    "ax.set_xlabel(\"value\")\n",
    "ax.set_ylabel(\"N\")\n",
    "\n"
   ]
  }
 ],
 "metadata": {
  "jupytext": {
   "formats": "ipynb,md"
  },
  "kernelspec": {
   "display_name": "Python 3 (ipykernel)",
   "language": "python",
   "name": "python3"
  },
  "language_info": {
   "codemirror_mode": {
    "name": "ipython",
    "version": 3
   },
   "file_extension": ".py",
   "mimetype": "text/x-python",
   "name": "python",
   "nbconvert_exporter": "python",
   "pygments_lexer": "ipython3",
   "version": "3.9.13"
  },
  "papermill": {
   "default_parameters": {},
   "duration": 4.209756,
   "end_time": "2025-07-14T22:31:50.573948",
   "environment_variables": {},
   "exception": null,
   "input_path": "Beta.ipynb",
   "output_path": "/Users/runner/work/astromodels/astromodels/docs/notebooks/Beta.ipynb",
   "parameters": {
    "func_name": "Beta",
    "positive_prior": true
   },
   "start_time": "2025-07-14T22:31:46.364192",
   "version": "2.6.0"
  }
 },
 "nbformat": 4,
 "nbformat_minor": 5
}
