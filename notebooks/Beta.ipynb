{
 "cells": [
  {
   "cell_type": "markdown",
   "id": "607bdee5",
   "metadata": {
    "papermill": {
     "duration": 0.009029,
     "end_time": "2024-05-08T22:52:14.677047",
     "exception": false,
     "start_time": "2024-05-08T22:52:14.668018",
     "status": "completed"
    },
    "tags": []
   },
   "source": [
    "# Beta"
   ]
  },
  {
   "cell_type": "code",
   "execution_count": 1,
   "id": "98403a93",
   "metadata": {
    "execution": {
     "iopub.execute_input": "2024-05-08T22:52:14.692645Z",
     "iopub.status.busy": "2024-05-08T22:52:14.691816Z",
     "iopub.status.idle": "2024-05-08T22:52:16.100652Z",
     "shell.execute_reply": "2024-05-08T22:52:16.100140Z"
    },
    "nbsphinx": "hidden",
    "papermill": {
     "duration": 1.418363,
     "end_time": "2024-05-08T22:52:16.102115",
     "exception": false,
     "start_time": "2024-05-08T22:52:14.683752",
     "status": "completed"
    },
    "tags": []
   },
   "outputs": [],
   "source": [
    "%%capture\n",
    "\n",
    "import numpy as np\n",
    "\n",
    "import matplotlib.pyplot as plt\n",
    "\n",
    "import warnings\n",
    "warnings.simplefilter(\"ignore\")\n",
    "\n",
    "from astromodels.functions.function import _known_functions\n",
    "\n",
    "\n",
    "from jupyterthemes import jtplot\n",
    "jtplot.style(context=\"talk\", fscale=1, ticks=True, grid=False)\n",
    "%matplotlib inline"
   ]
  },
  {
   "cell_type": "code",
   "execution_count": 2,
   "id": "64312a60",
   "metadata": {
    "execution": {
     "iopub.execute_input": "2024-05-08T22:52:16.105177Z",
     "iopub.status.busy": "2024-05-08T22:52:16.104854Z",
     "iopub.status.idle": "2024-05-08T22:52:16.113288Z",
     "shell.execute_reply": "2024-05-08T22:52:16.112829Z"
    },
    "nbsphinx": "hidden",
    "papermill": {
     "duration": 0.011219,
     "end_time": "2024-05-08T22:52:16.114528",
     "exception": false,
     "start_time": "2024-05-08T22:52:16.103309",
     "status": "completed"
    },
    "tags": [
     "parameters"
    ]
   },
   "outputs": [],
   "source": [
    "func_name = \"TbAbs\"\n",
    "\n",
    "positive_prior = False\n"
   ]
  },
  {
   "cell_type": "code",
   "execution_count": 3,
   "id": "0150a98a",
   "metadata": {
    "execution": {
     "iopub.execute_input": "2024-05-08T22:52:16.117121Z",
     "iopub.status.busy": "2024-05-08T22:52:16.116982Z",
     "iopub.status.idle": "2024-05-08T22:52:16.118793Z",
     "shell.execute_reply": "2024-05-08T22:52:16.118417Z"
    },
    "papermill": {
     "duration": 0.004419,
     "end_time": "2024-05-08T22:52:16.119964",
     "exception": false,
     "start_time": "2024-05-08T22:52:16.115545",
     "status": "completed"
    },
    "tags": [
     "injected-parameters"
    ]
   },
   "outputs": [],
   "source": [
    "# Parameters\n",
    "func_name = \"Beta\"\n",
    "positive_prior = True\n"
   ]
  },
  {
   "cell_type": "code",
   "execution_count": 4,
   "id": "cb40cbb9",
   "metadata": {
    "execution": {
     "iopub.execute_input": "2024-05-08T22:52:16.122541Z",
     "iopub.status.busy": "2024-05-08T22:52:16.122410Z",
     "iopub.status.idle": "2024-05-08T22:52:16.129572Z",
     "shell.execute_reply": "2024-05-08T22:52:16.129159Z"
    },
    "lines_to_next_cell": 0,
    "nbsphinx": "hidden",
    "papermill": {
     "duration": 0.009784,
     "end_time": "2024-05-08T22:52:16.130776",
     "exception": false,
     "start_time": "2024-05-08T22:52:16.120992",
     "status": "completed"
    },
    "tags": []
   },
   "outputs": [],
   "source": [
    "func = _known_functions[func_name]()\n",
    "\n",
    "if not positive_prior:\n",
    "\n",
    "\tenergy_grid = np.linspace(-5,5,1000)\n",
    "\n",
    "else:\n",
    "    \n",
    "    energy_grid = np.linspace(0,1,1000)\n",
    "    \n",
    "    \n",
    "    \n",
    "    \n",
    "blue = \"#4152E3\"\n",
    "red = \"#E3414B\"\n",
    "green = \"#41E39E\""
   ]
  },
  {
   "cell_type": "markdown",
   "id": "4f1e5e5d",
   "metadata": {
    "lines_to_next_cell": 0,
    "papermill": {
     "duration": 0.001005,
     "end_time": "2024-05-08T22:52:16.132817",
     "exception": false,
     "start_time": "2024-05-08T22:52:16.131812",
     "status": "completed"
    },
    "tags": []
   },
   "source": [
    "## Description"
   ]
  },
  {
   "cell_type": "code",
   "execution_count": 5,
   "id": "89de76ad",
   "metadata": {
    "execution": {
     "iopub.execute_input": "2024-05-08T22:52:16.135323Z",
     "iopub.status.busy": "2024-05-08T22:52:16.135186Z",
     "iopub.status.idle": "2024-05-08T22:52:16.138814Z",
     "shell.execute_reply": "2024-05-08T22:52:16.138384Z"
    },
    "papermill": {
     "duration": 0.006345,
     "end_time": "2024-05-08T22:52:16.140100",
     "exception": false,
     "start_time": "2024-05-08T22:52:16.133755",
     "status": "completed"
    },
    "tags": []
   },
   "outputs": [
    {
     "data": {
      "text/html": [
       "<ul>\n",
       "\n",
       "<li>description: A beta distribution function</li>\n",
       "\n",
       "<li>formula: $ f(x, a, b)=\\frac{\\Gamma(a+b) x^{a-1}(1-x)^{b-1}}{\\Gamma(a) \\Gamma(b)}$</li>\n",
       "\n",
       "<li>parameters: \n",
       "<ul>\n",
       "\n",
       "<li>a: \n",
       "<ul>\n",
       "\n",
       "<li>value: 0.5</li>\n",
       "\n",
       "<li>desc: first shape parameter</li>\n",
       "\n",
       "<li>min_value: 0.0</li>\n",
       "\n",
       "<li>max_value: None</li>\n",
       "\n",
       "<li>unit: </li>\n",
       "\n",
       "<li>is_normalization: False</li>\n",
       "\n",
       "<li>delta: 0.05</li>\n",
       "\n",
       "<li>free: True</li>\n",
       "\n",
       "</ul>\n",
       "\n",
       "</li>\n",
       "\n",
       "<li>b: \n",
       "<ul>\n",
       "\n",
       "<li>value: 0.5</li>\n",
       "\n",
       "<li>desc: second shape parameter</li>\n",
       "\n",
       "<li>min_value: 0.0</li>\n",
       "\n",
       "<li>max_value: None</li>\n",
       "\n",
       "<li>unit: </li>\n",
       "\n",
       "<li>is_normalization: False</li>\n",
       "\n",
       "<li>delta: 0.05</li>\n",
       "\n",
       "<li>free: True</li>\n",
       "\n",
       "</ul>\n",
       "\n",
       "</li>\n",
       "\n",
       "</ul>\n",
       "\n",
       "</li>\n",
       "\n",
       "</ul>\n"
      ],
      "text/plain": [
       "  * description: A beta distribution function\n",
       "  * formula: $ f(x, a, b)=\\frac{\\Gamma(a+b) x^{a-1}(1-x)^{b-1}}{\\Gamma(a) \\Gamma(b)}$\n",
       "  * parameters:\n",
       "    * a:\n",
       "      * value: 0.5\n",
       "      * desc: first shape parameter\n",
       "      * min_value: 0.0\n",
       "      * max_value: null\n",
       "      * unit: ''\n",
       "      * is_normalization: false\n",
       "      * delta: 0.05\n",
       "      * free: true\n",
       "    * b:\n",
       "      * value: 0.5\n",
       "      * desc: second shape parameter\n",
       "      * min_value: 0.0\n",
       "      * max_value: null\n",
       "      * unit: ''\n",
       "      * is_normalization: false\n",
       "      * delta: 0.05\n",
       "      * free: true"
      ]
     },
     "metadata": {},
     "output_type": "display_data"
    }
   ],
   "source": [
    "func.display()"
   ]
  },
  {
   "cell_type": "markdown",
   "id": "54780b7b",
   "metadata": {
    "papermill": {
     "duration": 0.001061,
     "end_time": "2024-05-08T22:52:16.142265",
     "exception": false,
     "start_time": "2024-05-08T22:52:16.141204",
     "status": "completed"
    },
    "tags": []
   },
   "source": [
    "## Shape \n",
    "\n",
    "The shape of the function. \n",
    "\n",
    "*If this is not a photon model but a prior or linear function then ignore the units as these docs are auto-generated*"
   ]
  },
  {
   "cell_type": "code",
   "execution_count": 6,
   "id": "cc6bceb9",
   "metadata": {
    "execution": {
     "iopub.execute_input": "2024-05-08T22:52:16.145053Z",
     "iopub.status.busy": "2024-05-08T22:52:16.144915Z",
     "iopub.status.idle": "2024-05-08T22:52:16.243472Z",
     "shell.execute_reply": "2024-05-08T22:52:16.243118Z"
    },
    "papermill": {
     "duration": 0.101626,
     "end_time": "2024-05-08T22:52:16.244928",
     "exception": false,
     "start_time": "2024-05-08T22:52:16.143302",
     "status": "completed"
    },
    "tags": [
     "nbsphinx-thumbnail"
    ]
   },
   "outputs": [
    {
     "data": {
      "text/plain": [
       "Text(0, 0.5, 'probability')"
      ]
     },
     "execution_count": 6,
     "metadata": {},
     "output_type": "execute_result"
    },
    {
     "data": {
      "image/png": "[encoded data removed]",
      "text/plain": [
       "<Figure size 1040x910 with 1 Axes>"
      ]
     },
     "metadata": {},
     "output_type": "display_data"
    }
   ],
   "source": [
    "fig, ax = plt.subplots()\n",
    "\n",
    "\n",
    "ax.plot(energy_grid, func(energy_grid), color=blue, lw=3)\n",
    "\n",
    "ax.set_xlabel(\"x\")\n",
    "ax.set_ylabel(\"probability\")\n"
   ]
  },
  {
   "cell_type": "markdown",
   "id": "54953865",
   "metadata": {
    "papermill": {
     "duration": 0.001383,
     "end_time": "2024-05-08T22:52:16.247893",
     "exception": false,
     "start_time": "2024-05-08T22:52:16.246510",
     "status": "completed"
    },
    "tags": []
   },
   "source": [
    "## Random Number Generation\n",
    "\n",
    "This is how we can generate random numbers from the prior.\n"
   ]
  },
  {
   "cell_type": "code",
   "execution_count": 7,
   "id": "47b04270",
   "metadata": {
    "execution": {
     "iopub.execute_input": "2024-05-08T22:52:16.251263Z",
     "iopub.status.busy": "2024-05-08T22:52:16.251119Z",
     "iopub.status.idle": "2024-05-08T22:52:16.612485Z",
     "shell.execute_reply": "2024-05-08T22:52:16.612135Z"
    },
    "papermill": {
     "duration": 0.364783,
     "end_time": "2024-05-08T22:52:16.613950",
     "exception": false,
     "start_time": "2024-05-08T22:52:16.249167",
     "status": "completed"
    },
    "tags": []
   },
   "outputs": [
    {
     "data": {
      "text/plain": [
       "Text(0, 0.5, 'N')"
      ]
     },
     "execution_count": 7,
     "metadata": {},
     "output_type": "execute_result"
    },
    {
     "data": {
      "image/png": "[encoded data removed]",
      "text/plain": [
       "<Figure size 1040x910 with 1 Axes>"
      ]
     },
     "metadata": {},
     "output_type": "display_data"
    }
   ],
   "source": [
    "\n",
    "\n",
    "u = np.random.uniform(0,1, size=5000)\n",
    "\n",
    "draws = [func.from_unit_cube(x) for x in u]\n",
    "\n",
    "\n",
    "fig, ax = plt.subplots()\n",
    "\n",
    "\n",
    "ax.hist(draws, color=green, bins=50)\n",
    "\n",
    "ax.set_xlabel(\"value\")\n",
    "ax.set_ylabel(\"N\")\n",
    "\n"
   ]
  }
 ],
 "metadata": {
  "jupytext": {
   "formats": "ipynb,md"
  },
  "kernelspec": {
   "display_name": "Python 3 (ipykernel)",
   "language": "python",
   "name": "python3"
  },
  "language_info": {
   "codemirror_mode": {
    "name": "ipython",
    "version": 3
   },
   "file_extension": ".py",
   "mimetype": "text/x-python",
   "name": "python",
   "nbconvert_exporter": "python",
   "pygments_lexer": "ipython3",
   "version": "3.9.13"
  },
  "papermill": {
   "default_parameters": {},
   "duration": 2.837594,
   "end_time": "2024-05-08T22:52:16.951519",
   "environment_variables": {},
   "exception": null,
   "input_path": "Beta.ipynb",
   "output_path": "/Users/runner/work/astromodels/astromodels/docs/notebooks/Beta.ipynb",
   "parameters": {
    "func_name": "Beta",
    "positive_prior": true
   },
   "start_time": "2024-05-08T22:52:14.113925",
   "version": "2.6.0"
  }
 },
 "nbformat": 4,
 "nbformat_minor": 5
}
