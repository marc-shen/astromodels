{
 "cells": [
  {
   "cell_type": "markdown",
   "id": "689aa67a",
   "metadata": {
    "papermill": {
     "duration": 0.011226,
     "end_time": "2022-10-05T19:27:03.310867",
     "exception": false,
     "start_time": "2022-10-05T19:27:03.299641",
     "status": "completed"
    },
    "tags": []
   },
   "source": [
    "# Beta"
   ]
  },
  {
   "cell_type": "code",
   "execution_count": 1,
   "id": "055f3ef6",
   "metadata": {
    "execution": {
     "iopub.execute_input": "2022-10-05T19:27:03.319725Z",
     "iopub.status.busy": "2022-10-05T19:27:03.319256Z",
     "iopub.status.idle": "2022-10-05T19:27:08.467642Z",
     "shell.execute_reply": "2022-10-05T19:27:08.466576Z"
    },
    "nbsphinx": "hidden",
    "papermill": {
     "duration": 5.156322,
     "end_time": "2022-10-05T19:27:08.470900",
     "exception": false,
     "start_time": "2022-10-05T19:27:03.314578",
     "status": "completed"
    },
    "tags": []
   },
   "outputs": [],
   "source": [
    "%%capture\n",
    "\n",
    "import numpy as np\n",
    "\n",
    "import matplotlib.pyplot as plt\n",
    "\n",
    "import warnings\n",
    "warnings.simplefilter(\"ignore\")\n",
    "\n",
    "from astromodels.functions.function import _known_functions\n",
    "\n",
    "\n",
    "from jupyterthemes import jtplot\n",
    "jtplot.style(context=\"talk\", fscale=1, ticks=True, grid=False)\n",
    "%matplotlib inline"
   ]
  },
  {
   "cell_type": "code",
   "execution_count": 2,
   "id": "8489e3ea",
   "metadata": {
    "execution": {
     "iopub.execute_input": "2022-10-05T19:27:08.480080Z",
     "iopub.status.busy": "2022-10-05T19:27:08.479661Z",
     "iopub.status.idle": "2022-10-05T19:27:08.485798Z",
     "shell.execute_reply": "2022-10-05T19:27:08.484563Z"
    },
    "nbsphinx": "hidden",
    "papermill": {
     "duration": 0.015885,
     "end_time": "2022-10-05T19:27:08.490837",
     "exception": false,
     "start_time": "2022-10-05T19:27:08.474952",
     "status": "completed"
    },
    "tags": [
     "parameters"
    ]
   },
   "outputs": [],
   "source": [
    "func_name = \"TbAbs\"\n",
    "\n",
    "positive_prior = False\n"
   ]
  },
  {
   "cell_type": "code",
   "execution_count": 3,
   "id": "2ca14271",
   "metadata": {
    "execution": {
     "iopub.execute_input": "2022-10-05T19:27:08.514536Z",
     "iopub.status.busy": "2022-10-05T19:27:08.514119Z",
     "iopub.status.idle": "2022-10-05T19:27:08.518728Z",
     "shell.execute_reply": "2022-10-05T19:27:08.517706Z"
    },
    "papermill": {
     "duration": 0.027692,
     "end_time": "2022-10-05T19:27:08.521534",
     "exception": false,
     "start_time": "2022-10-05T19:27:08.493842",
     "status": "completed"
    },
    "tags": [
     "injected-parameters"
    ]
   },
   "outputs": [],
   "source": [
    "# Parameters\n",
    "func_name = \"Beta\"\n",
    "positive_prior = True\n"
   ]
  },
  {
   "cell_type": "code",
   "execution_count": 4,
   "id": "9df576de",
   "metadata": {
    "execution": {
     "iopub.execute_input": "2022-10-05T19:27:08.530313Z",
     "iopub.status.busy": "2022-10-05T19:27:08.529818Z",
     "iopub.status.idle": "2022-10-05T19:27:08.537270Z",
     "shell.execute_reply": "2022-10-05T19:27:08.536298Z"
    },
    "lines_to_next_cell": 0,
    "nbsphinx": "hidden",
    "papermill": {
     "duration": 0.01565,
     "end_time": "2022-10-05T19:27:08.540279",
     "exception": false,
     "start_time": "2022-10-05T19:27:08.524629",
     "status": "completed"
    },
    "tags": []
   },
   "outputs": [],
   "source": [
    "func = _known_functions[func_name]()\n",
    "\n",
    "if not positive_prior:\n",
    "\n",
    "\tenergy_grid = np.linspace(-5,5,1000)\n",
    "\n",
    "else:\n",
    "    \n",
    "    energy_grid = np.linspace(0,1,1000)\n",
    "    \n",
    "    \n",
    "    \n",
    "    \n",
    "blue = \"#4152E3\"\n",
    "red = \"#E3414B\"\n",
    "green = \"#41E39E\""
   ]
  },
  {
   "cell_type": "markdown",
   "id": "4554230b",
   "metadata": {
    "lines_to_next_cell": 0,
    "papermill": {
     "duration": 0.003181,
     "end_time": "2022-10-05T19:27:08.546728",
     "exception": false,
     "start_time": "2022-10-05T19:27:08.543547",
     "status": "completed"
    },
    "tags": []
   },
   "source": [
    "## Description"
   ]
  },
  {
   "cell_type": "code",
   "execution_count": 5,
   "id": "4faa5891",
   "metadata": {
    "execution": {
     "iopub.execute_input": "2022-10-05T19:27:08.555154Z",
     "iopub.status.busy": "2022-10-05T19:27:08.554743Z",
     "iopub.status.idle": "2022-10-05T19:27:08.566704Z",
     "shell.execute_reply": "2022-10-05T19:27:08.565715Z"
    },
    "papermill": {
     "duration": 0.019339,
     "end_time": "2022-10-05T19:27:08.569597",
     "exception": false,
     "start_time": "2022-10-05T19:27:08.550258",
     "status": "completed"
    },
    "tags": []
   },
   "outputs": [
    {
     "data": {
      "text/html": [
       "<ul>\n",
       "\n",
       "<li>description: A beta distribution function</li>\n",
       "\n",
       "<li>formula: $ f(x, a, b)=\\frac{\\Gamma(a+b) x^{a-1}(1-x)^{b-1}}{\\Gamma(a) \\Gamma(b)}$</li>\n",
       "\n",
       "<li>parameters: \n",
       "<ul>\n",
       "\n",
       "<li>a: \n",
       "<ul>\n",
       "\n",
       "<li>value: 0.5</li>\n",
       "\n",
       "<li>desc: first shape parameter</li>\n",
       "\n",
       "<li>min_value: 0.0</li>\n",
       "\n",
       "<li>max_value: None</li>\n",
       "\n",
       "<li>unit: </li>\n",
       "\n",
       "<li>is_normalization: False</li>\n",
       "\n",
       "<li>delta: 0.05</li>\n",
       "\n",
       "<li>free: True</li>\n",
       "\n",
       "</ul>\n",
       "\n",
       "</li>\n",
       "\n",
       "<li>b: \n",
       "<ul>\n",
       "\n",
       "<li>value: 0.5</li>\n",
       "\n",
       "<li>desc: second shape parameter</li>\n",
       "\n",
       "<li>min_value: 0.0</li>\n",
       "\n",
       "<li>max_value: None</li>\n",
       "\n",
       "<li>unit: </li>\n",
       "\n",
       "<li>is_normalization: False</li>\n",
       "\n",
       "<li>delta: 0.05</li>\n",
       "\n",
       "<li>free: True</li>\n",
       "\n",
       "</ul>\n",
       "\n",
       "</li>\n",
       "\n",
       "</ul>\n",
       "\n",
       "</li>\n",
       "\n",
       "</ul>\n"
      ],
      "text/plain": [
       "  * description: A beta distribution function\n",
       "  * formula: $ f(x, a, b)=\\frac{\\Gamma(a+b) x^{a-1}(1-x)^{b-1}}{\\Gamma(a) \\Gamma(b)}$\n",
       "  * parameters:\n",
       "    * a:\n",
       "      * value: 0.5\n",
       "      * desc: first shape parameter\n",
       "      * min_value: 0.0\n",
       "      * max_value: null\n",
       "      * unit: ''\n",
       "      * is_normalization: false\n",
       "      * delta: 0.05\n",
       "      * free: true\n",
       "    * b:\n",
       "      * value: 0.5\n",
       "      * desc: second shape parameter\n",
       "      * min_value: 0.0\n",
       "      * max_value: null\n",
       "      * unit: ''\n",
       "      * is_normalization: false\n",
       "      * delta: 0.05\n",
       "      * free: true"
      ]
     },
     "metadata": {},
     "output_type": "display_data"
    }
   ],
   "source": [
    "func.display()"
   ]
  },
  {
   "cell_type": "markdown",
   "id": "c0fdf920",
   "metadata": {
    "papermill": {
     "duration": 0.003125,
     "end_time": "2022-10-05T19:27:08.576201",
     "exception": false,
     "start_time": "2022-10-05T19:27:08.573076",
     "status": "completed"
    },
    "tags": []
   },
   "source": [
    "## Shape \n",
    "\n",
    "The shape of the function. \n",
    "\n",
    "*If this is not a photon model but a prior or linear function then ignore the units as these docs are auto-generated*"
   ]
  },
  {
   "cell_type": "code",
   "execution_count": 6,
   "id": "fbdef3da",
   "metadata": {
    "execution": {
     "iopub.execute_input": "2022-10-05T19:27:08.584252Z",
     "iopub.status.busy": "2022-10-05T19:27:08.583853Z",
     "iopub.status.idle": "2022-10-05T19:27:08.874965Z",
     "shell.execute_reply": "2022-10-05T19:27:08.873252Z"
    },
    "papermill": {
     "duration": 0.298837,
     "end_time": "2022-10-05T19:27:08.878200",
     "exception": false,
     "start_time": "2022-10-05T19:27:08.579363",
     "status": "completed"
    },
    "tags": [
     "nbsphinx-thumbnail"
    ]
   },
   "outputs": [
    {
     "data": {
      "text/plain": [
       "Text(0, 0.5, 'probability')"
      ]
     },
     "execution_count": 6,
     "metadata": {},
     "output_type": "execute_result"
    },
    {
     "data": {
      "image/png": "[encoded data removed]",
      "text/plain": [
       "<Figure size 1040x910 with 1 Axes>"
      ]
     },
     "metadata": {},
     "output_type": "display_data"
    }
   ],
   "source": [
    "fig, ax = plt.subplots()\n",
    "\n",
    "\n",
    "ax.plot(energy_grid, func(energy_grid), color=blue, lw=3)\n",
    "\n",
    "ax.set_xlabel(\"x\")\n",
    "ax.set_ylabel(\"probability\")\n"
   ]
  },
  {
   "cell_type": "markdown",
   "id": "e5f7ee61",
   "metadata": {
    "papermill": {
     "duration": 0.004608,
     "end_time": "2022-10-05T19:27:08.886675",
     "exception": false,
     "start_time": "2022-10-05T19:27:08.882067",
     "status": "completed"
    },
    "tags": []
   },
   "source": [
    "## Random Number Generation\n",
    "\n",
    "This is how we can generate random numbers from the prior.\n"
   ]
  },
  {
   "cell_type": "code",
   "execution_count": 7,
   "id": "e1ab3781",
   "metadata": {
    "execution": {
     "iopub.execute_input": "2022-10-05T19:27:08.896706Z",
     "iopub.status.busy": "2022-10-05T19:27:08.896246Z",
     "iopub.status.idle": "2022-10-05T19:27:12.297993Z",
     "shell.execute_reply": "2022-10-05T19:27:12.284384Z"
    },
    "papermill": {
     "duration": 3.434219,
     "end_time": "2022-10-05T19:27:12.325285",
     "exception": false,
     "start_time": "2022-10-05T19:27:08.891066",
     "status": "completed"
    },
    "tags": []
   },
   "outputs": [
    {
     "data": {
      "text/plain": [
       "Text(0, 0.5, 'N')"
      ]
     },
     "execution_count": 7,
     "metadata": {},
     "output_type": "execute_result"
    },
    {
     "data": {
      "image/png": "[encoded data removed]",
      "text/plain": [
       "<Figure size 1040x910 with 1 Axes>"
      ]
     },
     "metadata": {},
     "output_type": "display_data"
    }
   ],
   "source": [
    "\n",
    "\n",
    "u = np.random.uniform(0,1, size=5000)\n",
    "\n",
    "draws = [func.from_unit_cube(x) for x in u]\n",
    "\n",
    "\n",
    "fig, ax = plt.subplots()\n",
    "\n",
    "\n",
    "ax.hist(draws, color=green, bins=50)\n",
    "\n",
    "ax.set_xlabel(\"value\")\n",
    "ax.set_ylabel(\"N\")\n",
    "\n"
   ]
  }
 ],
 "metadata": {
  "jupytext": {
   "formats": "ipynb,md"
  },
  "kernelspec": {
   "display_name": "Python 3 (ipykernel)",
   "language": "python",
   "name": "python3"
  },
  "language_info": {
   "codemirror_mode": {
    "name": "ipython",
    "version": 3
   },
   "file_extension": ".py",
   "mimetype": "text/x-python",
   "name": "python",
   "nbconvert_exporter": "python",
   "pygments_lexer": "ipython3",
   "version": "3.9.14"
  },
  "papermill": {
   "default_parameters": {},
   "duration": 11.230515,
   "end_time": "2022-10-05T19:27:13.108771",
   "environment_variables": {},
   "exception": null,
   "input_path": "Beta.ipynb",
   "output_path": "/Users/runner/work/astromodels/astromodels/docs/notebooks/Beta.ipynb",
   "parameters": {
    "func_name": "Beta",
    "positive_prior": true
   },
   "start_time": "2022-10-05T19:27:01.878256",
   "version": "2.4.0"
  }
 },
 "nbformat": 4,
 "nbformat_minor": 5
}
