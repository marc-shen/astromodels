{
 "cells": [
  {
   "cell_type": "markdown",
   "id": "c769d118",
   "metadata": {
    "papermill": {
     "duration": 0.003868,
     "end_time": "2024-02-06T23:24:06.741515",
     "exception": false,
     "start_time": "2024-02-06T23:24:06.737647",
     "status": "completed"
    },
    "tags": []
   },
   "source": [
    "# Beta"
   ]
  },
  {
   "cell_type": "code",
   "execution_count": 1,
   "id": "fa8832e7",
   "metadata": {
    "execution": {
     "iopub.execute_input": "2024-02-06T23:24:06.749803Z",
     "iopub.status.busy": "2024-02-06T23:24:06.749311Z",
     "iopub.status.idle": "2024-02-06T23:24:10.360599Z",
     "shell.execute_reply": "2024-02-06T23:24:10.358781Z"
    },
    "nbsphinx": "hidden",
    "papermill": {
     "duration": 3.620502,
     "end_time": "2024-02-06T23:24:10.365274",
     "exception": false,
     "start_time": "2024-02-06T23:24:06.744772",
     "status": "completed"
    },
    "tags": []
   },
   "outputs": [],
   "source": [
    "%%capture\n",
    "\n",
    "import numpy as np\n",
    "\n",
    "import matplotlib.pyplot as plt\n",
    "\n",
    "import warnings\n",
    "warnings.simplefilter(\"ignore\")\n",
    "\n",
    "from astromodels.functions.function import _known_functions\n",
    "\n",
    "\n",
    "from jupyterthemes import jtplot\n",
    "jtplot.style(context=\"talk\", fscale=1, ticks=True, grid=False)\n",
    "%matplotlib inline"
   ]
  },
  {
   "cell_type": "code",
   "execution_count": 2,
   "id": "9eb5de37",
   "metadata": {
    "execution": {
     "iopub.execute_input": "2024-02-06T23:24:10.374237Z",
     "iopub.status.busy": "2024-02-06T23:24:10.373638Z",
     "iopub.status.idle": "2024-02-06T23:24:10.380682Z",
     "shell.execute_reply": "2024-02-06T23:24:10.379174Z"
    },
    "nbsphinx": "hidden",
    "papermill": {
     "duration": 0.017323,
     "end_time": "2024-02-06T23:24:10.385576",
     "exception": false,
     "start_time": "2024-02-06T23:24:10.368253",
     "status": "completed"
    },
    "tags": [
     "parameters"
    ]
   },
   "outputs": [],
   "source": [
    "func_name = \"TbAbs\"\n",
    "\n",
    "positive_prior = False\n"
   ]
  },
  {
   "cell_type": "code",
   "execution_count": 3,
   "id": "c9300ab6",
   "metadata": {
    "execution": {
     "iopub.execute_input": "2024-02-06T23:24:10.397446Z",
     "iopub.status.busy": "2024-02-06T23:24:10.396583Z",
     "iopub.status.idle": "2024-02-06T23:24:10.408466Z",
     "shell.execute_reply": "2024-02-06T23:24:10.405765Z"
    },
    "papermill": {
     "duration": 0.024606,
     "end_time": "2024-02-06T23:24:10.414221",
     "exception": false,
     "start_time": "2024-02-06T23:24:10.389615",
     "status": "completed"
    },
    "tags": [
     "injected-parameters"
    ]
   },
   "outputs": [],
   "source": [
    "# Parameters\n",
    "func_name = \"Beta\"\n",
    "positive_prior = True\n"
   ]
  },
  {
   "cell_type": "code",
   "execution_count": 4,
   "id": "5c2e015c",
   "metadata": {
    "execution": {
     "iopub.execute_input": "2024-02-06T23:24:10.423401Z",
     "iopub.status.busy": "2024-02-06T23:24:10.422919Z",
     "iopub.status.idle": "2024-02-06T23:24:10.432924Z",
     "shell.execute_reply": "2024-02-06T23:24:10.431334Z"
    },
    "lines_to_next_cell": 0,
    "nbsphinx": "hidden",
    "papermill": {
     "duration": 0.020018,
     "end_time": "2024-02-06T23:24:10.437716",
     "exception": false,
     "start_time": "2024-02-06T23:24:10.417698",
     "status": "completed"
    },
    "tags": []
   },
   "outputs": [],
   "source": [
    "func = _known_functions[func_name]()\n",
    "\n",
    "if not positive_prior:\n",
    "\n",
    "\tenergy_grid = np.linspace(-5,5,1000)\n",
    "\n",
    "else:\n",
    "    \n",
    "    energy_grid = np.linspace(0,1,1000)\n",
    "    \n",
    "    \n",
    "    \n",
    "    \n",
    "blue = \"#4152E3\"\n",
    "red = \"#E3414B\"\n",
    "green = \"#41E39E\""
   ]
  },
  {
   "cell_type": "markdown",
   "id": "27b0900b",
   "metadata": {
    "lines_to_next_cell": 0,
    "papermill": {
     "duration": 0.002941,
     "end_time": "2024-02-06T23:24:10.443514",
     "exception": false,
     "start_time": "2024-02-06T23:24:10.440573",
     "status": "completed"
    },
    "tags": []
   },
   "source": [
    "## Description"
   ]
  },
  {
   "cell_type": "code",
   "execution_count": 5,
   "id": "b54137d2",
   "metadata": {
    "execution": {
     "iopub.execute_input": "2024-02-06T23:24:10.451748Z",
     "iopub.status.busy": "2024-02-06T23:24:10.451285Z",
     "iopub.status.idle": "2024-02-06T23:24:10.464842Z",
     "shell.execute_reply": "2024-02-06T23:24:10.462568Z"
    },
    "papermill": {
     "duration": 0.023208,
     "end_time": "2024-02-06T23:24:10.469434",
     "exception": false,
     "start_time": "2024-02-06T23:24:10.446226",
     "status": "completed"
    },
    "tags": []
   },
   "outputs": [
    {
     "data": {
      "text/html": [
       "<ul>\n",
       "\n",
       "<li>description: A beta distribution function</li>\n",
       "\n",
       "<li>formula: $ f(x, a, b)=\\frac{\\Gamma(a+b) x^{a-1}(1-x)^{b-1}}{\\Gamma(a) \\Gamma(b)}$</li>\n",
       "\n",
       "<li>parameters: \n",
       "<ul>\n",
       "\n",
       "<li>a: \n",
       "<ul>\n",
       "\n",
       "<li>value: 0.5</li>\n",
       "\n",
       "<li>desc: first shape parameter</li>\n",
       "\n",
       "<li>min_value: 0.0</li>\n",
       "\n",
       "<li>max_value: None</li>\n",
       "\n",
       "<li>unit: </li>\n",
       "\n",
       "<li>is_normalization: False</li>\n",
       "\n",
       "<li>delta: 0.05</li>\n",
       "\n",
       "<li>free: True</li>\n",
       "\n",
       "</ul>\n",
       "\n",
       "</li>\n",
       "\n",
       "<li>b: \n",
       "<ul>\n",
       "\n",
       "<li>value: 0.5</li>\n",
       "\n",
       "<li>desc: second shape parameter</li>\n",
       "\n",
       "<li>min_value: 0.0</li>\n",
       "\n",
       "<li>max_value: None</li>\n",
       "\n",
       "<li>unit: </li>\n",
       "\n",
       "<li>is_normalization: False</li>\n",
       "\n",
       "<li>delta: 0.05</li>\n",
       "\n",
       "<li>free: True</li>\n",
       "\n",
       "</ul>\n",
       "\n",
       "</li>\n",
       "\n",
       "</ul>\n",
       "\n",
       "</li>\n",
       "\n",
       "</ul>\n"
      ],
      "text/plain": [
       "  * description: A beta distribution function\n",
       "  * formula: $ f(x, a, b)=\\frac{\\Gamma(a+b) x^{a-1}(1-x)^{b-1}}{\\Gamma(a) \\Gamma(b)}$\n",
       "  * parameters:\n",
       "    * a:\n",
       "      * value: 0.5\n",
       "      * desc: first shape parameter\n",
       "      * min_value: 0.0\n",
       "      * max_value: null\n",
       "      * unit: ''\n",
       "      * is_normalization: false\n",
       "      * delta: 0.05\n",
       "      * free: true\n",
       "    * b:\n",
       "      * value: 0.5\n",
       "      * desc: second shape parameter\n",
       "      * min_value: 0.0\n",
       "      * max_value: null\n",
       "      * unit: ''\n",
       "      * is_normalization: false\n",
       "      * delta: 0.05\n",
       "      * free: true"
      ]
     },
     "metadata": {},
     "output_type": "display_data"
    }
   ],
   "source": [
    "func.display()"
   ]
  },
  {
   "cell_type": "markdown",
   "id": "33611f0f",
   "metadata": {
    "papermill": {
     "duration": 0.003196,
     "end_time": "2024-02-06T23:24:10.476039",
     "exception": false,
     "start_time": "2024-02-06T23:24:10.472843",
     "status": "completed"
    },
    "tags": []
   },
   "source": [
    "## Shape \n",
    "\n",
    "The shape of the function. \n",
    "\n",
    "*If this is not a photon model but a prior or linear function then ignore the units as these docs are auto-generated*"
   ]
  },
  {
   "cell_type": "code",
   "execution_count": 6,
   "id": "d3a562da",
   "metadata": {
    "execution": {
     "iopub.execute_input": "2024-02-06T23:24:10.484192Z",
     "iopub.status.busy": "2024-02-06T23:24:10.483722Z",
     "iopub.status.idle": "2024-02-06T23:24:10.744219Z",
     "shell.execute_reply": "2024-02-06T23:24:10.742276Z"
    },
    "papermill": {
     "duration": 0.271814,
     "end_time": "2024-02-06T23:24:10.750790",
     "exception": false,
     "start_time": "2024-02-06T23:24:10.478976",
     "status": "completed"
    },
    "tags": [
     "nbsphinx-thumbnail"
    ]
   },
   "outputs": [
    {
     "data": {
      "text/plain": [
       "Text(0, 0.5, 'probability')"
      ]
     },
     "execution_count": 6,
     "metadata": {},
     "output_type": "execute_result"
    },
    {
     "data": {
      "image/png": "[encoded data removed]",
      "text/plain": [
       "<Figure size 1040x910 with 1 Axes>"
      ]
     },
     "metadata": {},
     "output_type": "display_data"
    }
   ],
   "source": [
    "fig, ax = plt.subplots()\n",
    "\n",
    "\n",
    "ax.plot(energy_grid, func(energy_grid), color=blue, lw=3)\n",
    "\n",
    "ax.set_xlabel(\"x\")\n",
    "ax.set_ylabel(\"probability\")\n"
   ]
  },
  {
   "cell_type": "markdown",
   "id": "dcad5765",
   "metadata": {
    "papermill": {
     "duration": 0.003911,
     "end_time": "2024-02-06T23:24:10.758390",
     "exception": false,
     "start_time": "2024-02-06T23:24:10.754479",
     "status": "completed"
    },
    "tags": []
   },
   "source": [
    "## Random Number Generation\n",
    "\n",
    "This is how we can generate random numbers from the prior.\n"
   ]
  },
  {
   "cell_type": "code",
   "execution_count": 7,
   "id": "84a740d7",
   "metadata": {
    "execution": {
     "iopub.execute_input": "2024-02-06T23:24:10.769492Z",
     "iopub.status.busy": "2024-02-06T23:24:10.768160Z",
     "iopub.status.idle": "2024-02-06T23:24:12.055302Z",
     "shell.execute_reply": "2024-02-06T23:24:12.052475Z"
    },
    "papermill": {
     "duration": 1.298621,
     "end_time": "2024-02-06T23:24:12.060921",
     "exception": false,
     "start_time": "2024-02-06T23:24:10.762300",
     "status": "completed"
    },
    "tags": []
   },
   "outputs": [
    {
     "data": {
      "text/plain": [
       "Text(0, 0.5, 'N')"
      ]
     },
     "execution_count": 7,
     "metadata": {},
     "output_type": "execute_result"
    },
    {
     "data": {
      "image/png": "[encoded data removed]",
      "text/plain": [
       "<Figure size 1040x910 with 1 Axes>"
      ]
     },
     "metadata": {},
     "output_type": "display_data"
    }
   ],
   "source": [
    "\n",
    "\n",
    "u = np.random.uniform(0,1, size=5000)\n",
    "\n",
    "draws = [func.from_unit_cube(x) for x in u]\n",
    "\n",
    "\n",
    "fig, ax = plt.subplots()\n",
    "\n",
    "\n",
    "ax.hist(draws, color=green, bins=50)\n",
    "\n",
    "ax.set_xlabel(\"value\")\n",
    "ax.set_ylabel(\"N\")\n",
    "\n"
   ]
  }
 ],
 "metadata": {
  "jupytext": {
   "formats": "ipynb,md"
  },
  "kernelspec": {
   "display_name": "Python 3 (ipykernel)",
   "language": "python",
   "name": "python3"
  },
  "language_info": {
   "codemirror_mode": {
    "name": "ipython",
    "version": 3
   },
   "file_extension": ".py",
   "mimetype": "text/x-python",
   "name": "python",
   "nbconvert_exporter": "python",
   "pygments_lexer": "ipython3",
   "version": "3.9.18"
  },
  "papermill": {
   "default_parameters": {},
   "duration": 7.291335,
   "end_time": "2024-02-06T23:24:12.809630",
   "environment_variables": {},
   "exception": null,
   "input_path": "Beta.ipynb",
   "output_path": "/Users/runner/work/astromodels/astromodels/docs/notebooks/Beta.ipynb",
   "parameters": {
    "func_name": "Beta",
    "positive_prior": true
   },
   "start_time": "2024-02-06T23:24:05.518295",
   "version": "2.5.0"
  }
 },
 "nbformat": 4,
 "nbformat_minor": 5
}
