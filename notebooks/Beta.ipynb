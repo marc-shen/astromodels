{
 "cells": [
  {
   "cell_type": "markdown",
   "id": "627fb223",
   "metadata": {
    "papermill": {
     "duration": 0.017274,
     "end_time": "2024-05-08T20:08:07.083314",
     "exception": false,
     "start_time": "2024-05-08T20:08:07.066040",
     "status": "completed"
    },
    "tags": []
   },
   "source": [
    "# Beta"
   ]
  },
  {
   "cell_type": "code",
   "execution_count": 1,
   "id": "bf181250",
   "metadata": {
    "execution": {
     "iopub.execute_input": "2024-05-08T20:08:07.095841Z",
     "iopub.status.busy": "2024-05-08T20:08:07.095210Z",
     "iopub.status.idle": "2024-05-08T20:08:09.142561Z",
     "shell.execute_reply": "2024-05-08T20:08:09.141683Z"
    },
    "nbsphinx": "hidden",
    "papermill": {
     "duration": 2.056881,
     "end_time": "2024-05-08T20:08:09.145075",
     "exception": false,
     "start_time": "2024-05-08T20:08:07.088194",
     "status": "completed"
    },
    "tags": []
   },
   "outputs": [],
   "source": [
    "%%capture\n",
    "\n",
    "import numpy as np\n",
    "\n",
    "import matplotlib.pyplot as plt\n",
    "\n",
    "import warnings\n",
    "warnings.simplefilter(\"ignore\")\n",
    "\n",
    "from astromodels.functions.function import _known_functions\n",
    "\n",
    "\n",
    "from jupyterthemes import jtplot\n",
    "jtplot.style(context=\"talk\", fscale=1, ticks=True, grid=False)\n",
    "%matplotlib inline"
   ]
  },
  {
   "cell_type": "code",
   "execution_count": 2,
   "id": "21b8f5bc",
   "metadata": {
    "execution": {
     "iopub.execute_input": "2024-05-08T20:08:09.149501Z",
     "iopub.status.busy": "2024-05-08T20:08:09.148976Z",
     "iopub.status.idle": "2024-05-08T20:08:09.158415Z",
     "shell.execute_reply": "2024-05-08T20:08:09.157573Z"
    },
    "nbsphinx": "hidden",
    "papermill": {
     "duration": 0.013832,
     "end_time": "2024-05-08T20:08:09.160499",
     "exception": false,
     "start_time": "2024-05-08T20:08:09.146667",
     "status": "completed"
    },
    "tags": [
     "parameters"
    ]
   },
   "outputs": [],
   "source": [
    "func_name = \"TbAbs\"\n",
    "\n",
    "positive_prior = False\n"
   ]
  },
  {
   "cell_type": "code",
   "execution_count": 3,
   "id": "0dfd9b0c",
   "metadata": {
    "execution": {
     "iopub.execute_input": "2024-05-08T20:08:09.164516Z",
     "iopub.status.busy": "2024-05-08T20:08:09.164259Z",
     "iopub.status.idle": "2024-05-08T20:08:09.167192Z",
     "shell.execute_reply": "2024-05-08T20:08:09.166418Z"
    },
    "papermill": {
     "duration": 0.007699,
     "end_time": "2024-05-08T20:08:09.169562",
     "exception": false,
     "start_time": "2024-05-08T20:08:09.161863",
     "status": "completed"
    },
    "tags": [
     "injected-parameters"
    ]
   },
   "outputs": [],
   "source": [
    "# Parameters\n",
    "func_name = \"Beta\"\n",
    "positive_prior = True\n"
   ]
  },
  {
   "cell_type": "code",
   "execution_count": 4,
   "id": "21b54050",
   "metadata": {
    "execution": {
     "iopub.execute_input": "2024-05-08T20:08:09.173605Z",
     "iopub.status.busy": "2024-05-08T20:08:09.173312Z",
     "iopub.status.idle": "2024-05-08T20:08:09.177946Z",
     "shell.execute_reply": "2024-05-08T20:08:09.176835Z"
    },
    "lines_to_next_cell": 0,
    "nbsphinx": "hidden",
    "papermill": {
     "duration": 0.00855,
     "end_time": "2024-05-08T20:08:09.179617",
     "exception": false,
     "start_time": "2024-05-08T20:08:09.171067",
     "status": "completed"
    },
    "tags": []
   },
   "outputs": [],
   "source": [
    "func = _known_functions[func_name]()\n",
    "\n",
    "if not positive_prior:\n",
    "\n",
    "\tenergy_grid = np.linspace(-5,5,1000)\n",
    "\n",
    "else:\n",
    "    \n",
    "    energy_grid = np.linspace(0,1,1000)\n",
    "    \n",
    "    \n",
    "    \n",
    "    \n",
    "blue = \"#4152E3\"\n",
    "red = \"#E3414B\"\n",
    "green = \"#41E39E\""
   ]
  },
  {
   "cell_type": "markdown",
   "id": "06fd5fdf",
   "metadata": {
    "lines_to_next_cell": 0,
    "papermill": {
     "duration": 0.001223,
     "end_time": "2024-05-08T20:08:09.182304",
     "exception": false,
     "start_time": "2024-05-08T20:08:09.181081",
     "status": "completed"
    },
    "tags": []
   },
   "source": [
    "## Description"
   ]
  },
  {
   "cell_type": "code",
   "execution_count": 5,
   "id": "234fc1e6",
   "metadata": {
    "execution": {
     "iopub.execute_input": "2024-05-08T20:08:09.185796Z",
     "iopub.status.busy": "2024-05-08T20:08:09.185561Z",
     "iopub.status.idle": "2024-05-08T20:08:09.195638Z",
     "shell.execute_reply": "2024-05-08T20:08:09.194946Z"
    },
    "papermill": {
     "duration": 0.014794,
     "end_time": "2024-05-08T20:08:09.198194",
     "exception": false,
     "start_time": "2024-05-08T20:08:09.183400",
     "status": "completed"
    },
    "tags": []
   },
   "outputs": [
    {
     "data": {
      "text/html": [
       "<ul>\n",
       "\n",
       "<li>description: A beta distribution function</li>\n",
       "\n",
       "<li>formula: $ f(x, a, b)=\\frac{\\Gamma(a+b) x^{a-1}(1-x)^{b-1}}{\\Gamma(a) \\Gamma(b)}$</li>\n",
       "\n",
       "<li>parameters: \n",
       "<ul>\n",
       "\n",
       "<li>a: \n",
       "<ul>\n",
       "\n",
       "<li>value: 0.5</li>\n",
       "\n",
       "<li>desc: first shape parameter</li>\n",
       "\n",
       "<li>min_value: 0.0</li>\n",
       "\n",
       "<li>max_value: None</li>\n",
       "\n",
       "<li>unit: </li>\n",
       "\n",
       "<li>is_normalization: False</li>\n",
       "\n",
       "<li>delta: 0.05</li>\n",
       "\n",
       "<li>free: True</li>\n",
       "\n",
       "</ul>\n",
       "\n",
       "</li>\n",
       "\n",
       "<li>b: \n",
       "<ul>\n",
       "\n",
       "<li>value: 0.5</li>\n",
       "\n",
       "<li>desc: second shape parameter</li>\n",
       "\n",
       "<li>min_value: 0.0</li>\n",
       "\n",
       "<li>max_value: None</li>\n",
       "\n",
       "<li>unit: </li>\n",
       "\n",
       "<li>is_normalization: False</li>\n",
       "\n",
       "<li>delta: 0.05</li>\n",
       "\n",
       "<li>free: True</li>\n",
       "\n",
       "</ul>\n",
       "\n",
       "</li>\n",
       "\n",
       "</ul>\n",
       "\n",
       "</li>\n",
       "\n",
       "</ul>\n"
      ],
      "text/plain": [
       "  * description: A beta distribution function\n",
       "  * formula: $ f(x, a, b)=\\frac{\\Gamma(a+b) x^{a-1}(1-x)^{b-1}}{\\Gamma(a) \\Gamma(b)}$\n",
       "  * parameters:\n",
       "    * a:\n",
       "      * value: 0.5\n",
       "      * desc: first shape parameter\n",
       "      * min_value: 0.0\n",
       "      * max_value: null\n",
       "      * unit: ''\n",
       "      * is_normalization: false\n",
       "      * delta: 0.05\n",
       "      * free: true\n",
       "    * b:\n",
       "      * value: 0.5\n",
       "      * desc: second shape parameter\n",
       "      * min_value: 0.0\n",
       "      * max_value: null\n",
       "      * unit: ''\n",
       "      * is_normalization: false\n",
       "      * delta: 0.05\n",
       "      * free: true"
      ]
     },
     "metadata": {},
     "output_type": "display_data"
    }
   ],
   "source": [
    "func.display()"
   ]
  },
  {
   "cell_type": "markdown",
   "id": "a01fe7d3",
   "metadata": {
    "papermill": {
     "duration": 0.001515,
     "end_time": "2024-05-08T20:08:09.201321",
     "exception": false,
     "start_time": "2024-05-08T20:08:09.199806",
     "status": "completed"
    },
    "tags": []
   },
   "source": [
    "## Shape \n",
    "\n",
    "The shape of the function. \n",
    "\n",
    "*If this is not a photon model but a prior or linear function then ignore the units as these docs are auto-generated*"
   ]
  },
  {
   "cell_type": "code",
   "execution_count": 6,
   "id": "b96bbc8f",
   "metadata": {
    "execution": {
     "iopub.execute_input": "2024-05-08T20:08:09.205020Z",
     "iopub.status.busy": "2024-05-08T20:08:09.204788Z",
     "iopub.status.idle": "2024-05-08T20:08:09.347976Z",
     "shell.execute_reply": "2024-05-08T20:08:09.347623Z"
    },
    "papermill": {
     "duration": 0.146821,
     "end_time": "2024-05-08T20:08:09.349472",
     "exception": false,
     "start_time": "2024-05-08T20:08:09.202651",
     "status": "completed"
    },
    "tags": [
     "nbsphinx-thumbnail"
    ]
   },
   "outputs": [
    {
     "data": {
      "text/plain": [
       "Text(0, 0.5, 'probability')"
      ]
     },
     "execution_count": 6,
     "metadata": {},
     "output_type": "execute_result"
    },
    {
     "data": {
      "image/png": "[encoded data removed]",
      "text/plain": [
       "<Figure size 1040x910 with 1 Axes>"
      ]
     },
     "metadata": {},
     "output_type": "display_data"
    }
   ],
   "source": [
    "fig, ax = plt.subplots()\n",
    "\n",
    "\n",
    "ax.plot(energy_grid, func(energy_grid), color=blue, lw=3)\n",
    "\n",
    "ax.set_xlabel(\"x\")\n",
    "ax.set_ylabel(\"probability\")\n"
   ]
  },
  {
   "cell_type": "markdown",
   "id": "c5368b1d",
   "metadata": {
    "papermill": {
     "duration": 0.001753,
     "end_time": "2024-05-08T20:08:09.352988",
     "exception": false,
     "start_time": "2024-05-08T20:08:09.351235",
     "status": "completed"
    },
    "tags": []
   },
   "source": [
    "## Random Number Generation\n",
    "\n",
    "This is how we can generate random numbers from the prior.\n"
   ]
  },
  {
   "cell_type": "code",
   "execution_count": 7,
   "id": "ba34d0c0",
   "metadata": {
    "execution": {
     "iopub.execute_input": "2024-05-08T20:08:09.356970Z",
     "iopub.status.busy": "2024-05-08T20:08:09.356782Z",
     "iopub.status.idle": "2024-05-08T20:08:09.876962Z",
     "shell.execute_reply": "2024-05-08T20:08:09.874748Z"
    },
    "papermill": {
     "duration": 0.526443,
     "end_time": "2024-05-08T20:08:09.880878",
     "exception": false,
     "start_time": "2024-05-08T20:08:09.354435",
     "status": "completed"
    },
    "tags": []
   },
   "outputs": [
    {
     "data": {
      "text/plain": [
       "Text(0, 0.5, 'N')"
      ]
     },
     "execution_count": 7,
     "metadata": {},
     "output_type": "execute_result"
    },
    {
     "data": {
      "image/png": "[encoded data removed]",
      "text/plain": [
       "<Figure size 1040x910 with 1 Axes>"
      ]
     },
     "metadata": {},
     "output_type": "display_data"
    }
   ],
   "source": [
    "\n",
    "\n",
    "u = np.random.uniform(0,1, size=5000)\n",
    "\n",
    "draws = [func.from_unit_cube(x) for x in u]\n",
    "\n",
    "\n",
    "fig, ax = plt.subplots()\n",
    "\n",
    "\n",
    "ax.hist(draws, color=green, bins=50)\n",
    "\n",
    "ax.set_xlabel(\"value\")\n",
    "ax.set_ylabel(\"N\")\n",
    "\n"
   ]
  }
 ],
 "metadata": {
  "jupytext": {
   "formats": "ipynb,md"
  },
  "kernelspec": {
   "display_name": "Python 3 (ipykernel)",
   "language": "python",
   "name": "python3"
  },
  "language_info": {
   "codemirror_mode": {
    "name": "ipython",
    "version": 3
   },
   "file_extension": ".py",
   "mimetype": "text/x-python",
   "name": "python",
   "nbconvert_exporter": "python",
   "pygments_lexer": "ipython3",
   "version": "3.9.13"
  },
  "papermill": {
   "default_parameters": {},
   "duration": 3.967023,
   "end_time": "2024-05-08T20:08:10.434437",
   "environment_variables": {},
   "exception": null,
   "input_path": "Beta.ipynb",
   "output_path": "/Users/runner/work/astromodels/astromodels/docs/notebooks/Beta.ipynb",
   "parameters": {
    "func_name": "Beta",
    "positive_prior": true
   },
   "start_time": "2024-05-08T20:08:06.467414",
   "version": "2.6.0"
  }
 },
 "nbformat": 4,
 "nbformat_minor": 5
}
