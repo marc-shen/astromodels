{
 "cells": [
  {
   "cell_type": "markdown",
   "id": "12580db0",
   "metadata": {
    "papermill": {
     "duration": 0.003433,
     "end_time": "2024-02-02T21:48:21.854085",
     "exception": false,
     "start_time": "2024-02-02T21:48:21.850652",
     "status": "completed"
    },
    "tags": []
   },
   "source": [
    "# Beta"
   ]
  },
  {
   "cell_type": "code",
   "execution_count": 1,
   "id": "5551dc41",
   "metadata": {
    "execution": {
     "iopub.execute_input": "2024-02-02T21:48:21.862188Z",
     "iopub.status.busy": "2024-02-02T21:48:21.861717Z",
     "iopub.status.idle": "2024-02-02T21:48:25.265097Z",
     "shell.execute_reply": "2024-02-02T21:48:25.263345Z"
    },
    "nbsphinx": "hidden",
    "papermill": {
     "duration": 3.412448,
     "end_time": "2024-02-02T21:48:25.269640",
     "exception": false,
     "start_time": "2024-02-02T21:48:21.857192",
     "status": "completed"
    },
    "tags": []
   },
   "outputs": [],
   "source": [
    "%%capture\n",
    "\n",
    "import numpy as np\n",
    "\n",
    "import matplotlib.pyplot as plt\n",
    "\n",
    "import warnings\n",
    "warnings.simplefilter(\"ignore\")\n",
    "\n",
    "from astromodels.functions.function import _known_functions\n",
    "\n",
    "\n",
    "from jupyterthemes import jtplot\n",
    "jtplot.style(context=\"talk\", fscale=1, ticks=True, grid=False)\n",
    "%matplotlib inline"
   ]
  },
  {
   "cell_type": "code",
   "execution_count": 2,
   "id": "ef31e6cd",
   "metadata": {
    "execution": {
     "iopub.execute_input": "2024-02-02T21:48:25.277497Z",
     "iopub.status.busy": "2024-02-02T21:48:25.276988Z",
     "iopub.status.idle": "2024-02-02T21:48:25.284545Z",
     "shell.execute_reply": "2024-02-02T21:48:25.283004Z"
    },
    "nbsphinx": "hidden",
    "papermill": {
     "duration": 0.016644,
     "end_time": "2024-02-02T21:48:25.288976",
     "exception": false,
     "start_time": "2024-02-02T21:48:25.272332",
     "status": "completed"
    },
    "tags": [
     "parameters"
    ]
   },
   "outputs": [],
   "source": [
    "func_name = \"TbAbs\"\n",
    "\n",
    "positive_prior = False\n"
   ]
  },
  {
   "cell_type": "code",
   "execution_count": 3,
   "id": "c68e0c6a",
   "metadata": {
    "execution": {
     "iopub.execute_input": "2024-02-02T21:48:25.296366Z",
     "iopub.status.busy": "2024-02-02T21:48:25.295876Z",
     "iopub.status.idle": "2024-02-02T21:48:25.302278Z",
     "shell.execute_reply": "2024-02-02T21:48:25.300589Z"
    },
    "papermill": {
     "duration": 0.015252,
     "end_time": "2024-02-02T21:48:25.306804",
     "exception": false,
     "start_time": "2024-02-02T21:48:25.291552",
     "status": "completed"
    },
    "tags": [
     "injected-parameters"
    ]
   },
   "outputs": [],
   "source": [
    "# Parameters\n",
    "func_name = \"Beta\"\n",
    "positive_prior = True\n"
   ]
  },
  {
   "cell_type": "code",
   "execution_count": 4,
   "id": "79900e13",
   "metadata": {
    "execution": {
     "iopub.execute_input": "2024-02-02T21:48:25.314623Z",
     "iopub.status.busy": "2024-02-02T21:48:25.314181Z",
     "iopub.status.idle": "2024-02-02T21:48:25.326225Z",
     "shell.execute_reply": "2024-02-02T21:48:25.324721Z"
    },
    "lines_to_next_cell": 0,
    "nbsphinx": "hidden",
    "papermill": {
     "duration": 0.021059,
     "end_time": "2024-02-02T21:48:25.330739",
     "exception": false,
     "start_time": "2024-02-02T21:48:25.309680",
     "status": "completed"
    },
    "tags": []
   },
   "outputs": [],
   "source": [
    "func = _known_functions[func_name]()\n",
    "\n",
    "if not positive_prior:\n",
    "\n",
    "\tenergy_grid = np.linspace(-5,5,1000)\n",
    "\n",
    "else:\n",
    "    \n",
    "    energy_grid = np.linspace(0,1,1000)\n",
    "    \n",
    "    \n",
    "    \n",
    "    \n",
    "blue = \"#4152E3\"\n",
    "red = \"#E3414B\"\n",
    "green = \"#41E39E\""
   ]
  },
  {
   "cell_type": "markdown",
   "id": "d87867df",
   "metadata": {
    "lines_to_next_cell": 0,
    "papermill": {
     "duration": 0.002886,
     "end_time": "2024-02-02T21:48:25.336270",
     "exception": false,
     "start_time": "2024-02-02T21:48:25.333384",
     "status": "completed"
    },
    "tags": []
   },
   "source": [
    "## Description"
   ]
  },
  {
   "cell_type": "code",
   "execution_count": 5,
   "id": "1798dadc",
   "metadata": {
    "execution": {
     "iopub.execute_input": "2024-02-02T21:48:25.343992Z",
     "iopub.status.busy": "2024-02-02T21:48:25.343319Z",
     "iopub.status.idle": "2024-02-02T21:48:25.357303Z",
     "shell.execute_reply": "2024-02-02T21:48:25.355901Z"
    },
    "papermill": {
     "duration": 0.022786,
     "end_time": "2024-02-02T21:48:25.361699",
     "exception": false,
     "start_time": "2024-02-02T21:48:25.338913",
     "status": "completed"
    },
    "tags": []
   },
   "outputs": [
    {
     "data": {
      "text/html": [
       "<ul>\n",
       "\n",
       "<li>description: A beta distribution function</li>\n",
       "\n",
       "<li>formula: $ f(x, a, b)=\\frac{\\Gamma(a+b) x^{a-1}(1-x)^{b-1}}{\\Gamma(a) \\Gamma(b)}$</li>\n",
       "\n",
       "<li>parameters: \n",
       "<ul>\n",
       "\n",
       "<li>a: \n",
       "<ul>\n",
       "\n",
       "<li>value: 0.5</li>\n",
       "\n",
       "<li>desc: first shape parameter</li>\n",
       "\n",
       "<li>min_value: 0.0</li>\n",
       "\n",
       "<li>max_value: None</li>\n",
       "\n",
       "<li>unit: </li>\n",
       "\n",
       "<li>is_normalization: False</li>\n",
       "\n",
       "<li>delta: 0.05</li>\n",
       "\n",
       "<li>free: True</li>\n",
       "\n",
       "</ul>\n",
       "\n",
       "</li>\n",
       "\n",
       "<li>b: \n",
       "<ul>\n",
       "\n",
       "<li>value: 0.5</li>\n",
       "\n",
       "<li>desc: second shape parameter</li>\n",
       "\n",
       "<li>min_value: 0.0</li>\n",
       "\n",
       "<li>max_value: None</li>\n",
       "\n",
       "<li>unit: </li>\n",
       "\n",
       "<li>is_normalization: False</li>\n",
       "\n",
       "<li>delta: 0.05</li>\n",
       "\n",
       "<li>free: True</li>\n",
       "\n",
       "</ul>\n",
       "\n",
       "</li>\n",
       "\n",
       "</ul>\n",
       "\n",
       "</li>\n",
       "\n",
       "</ul>\n"
      ],
      "text/plain": [
       "  * description: A beta distribution function\n",
       "  * formula: $ f(x, a, b)=\\frac{\\Gamma(a+b) x^{a-1}(1-x)^{b-1}}{\\Gamma(a) \\Gamma(b)}$\n",
       "  * parameters:\n",
       "    * a:\n",
       "      * value: 0.5\n",
       "      * desc: first shape parameter\n",
       "      * min_value: 0.0\n",
       "      * max_value: null\n",
       "      * unit: ''\n",
       "      * is_normalization: false\n",
       "      * delta: 0.05\n",
       "      * free: true\n",
       "    * b:\n",
       "      * value: 0.5\n",
       "      * desc: second shape parameter\n",
       "      * min_value: 0.0\n",
       "      * max_value: null\n",
       "      * unit: ''\n",
       "      * is_normalization: false\n",
       "      * delta: 0.05\n",
       "      * free: true"
      ]
     },
     "metadata": {},
     "output_type": "display_data"
    }
   ],
   "source": [
    "func.display()"
   ]
  },
  {
   "cell_type": "markdown",
   "id": "e3278bc4",
   "metadata": {
    "papermill": {
     "duration": 0.003089,
     "end_time": "2024-02-02T21:48:25.367786",
     "exception": false,
     "start_time": "2024-02-02T21:48:25.364697",
     "status": "completed"
    },
    "tags": []
   },
   "source": [
    "## Shape \n",
    "\n",
    "The shape of the function. \n",
    "\n",
    "*If this is not a photon model but a prior or linear function then ignore the units as these docs are auto-generated*"
   ]
  },
  {
   "cell_type": "code",
   "execution_count": 6,
   "id": "79a9d142",
   "metadata": {
    "execution": {
     "iopub.execute_input": "2024-02-02T21:48:25.375776Z",
     "iopub.status.busy": "2024-02-02T21:48:25.375334Z",
     "iopub.status.idle": "2024-02-02T21:48:25.605337Z",
     "shell.execute_reply": "2024-02-02T21:48:25.603842Z"
    },
    "papermill": {
     "duration": 0.238987,
     "end_time": "2024-02-02T21:48:25.609648",
     "exception": false,
     "start_time": "2024-02-02T21:48:25.370661",
     "status": "completed"
    },
    "tags": [
     "nbsphinx-thumbnail"
    ]
   },
   "outputs": [
    {
     "data": {
      "text/plain": [
       "Text(0, 0.5, 'probability')"
      ]
     },
     "execution_count": 6,
     "metadata": {},
     "output_type": "execute_result"
    },
    {
     "data": {
      "image/png": "[encoded data removed]",
      "text/plain": [
       "<Figure size 1040x910 with 1 Axes>"
      ]
     },
     "metadata": {},
     "output_type": "display_data"
    }
   ],
   "source": [
    "fig, ax = plt.subplots()\n",
    "\n",
    "\n",
    "ax.plot(energy_grid, func(energy_grid), color=blue, lw=3)\n",
    "\n",
    "ax.set_xlabel(\"x\")\n",
    "ax.set_ylabel(\"probability\")\n"
   ]
  },
  {
   "cell_type": "markdown",
   "id": "b0708367",
   "metadata": {
    "papermill": {
     "duration": 0.003501,
     "end_time": "2024-02-02T21:48:25.616618",
     "exception": false,
     "start_time": "2024-02-02T21:48:25.613117",
     "status": "completed"
    },
    "tags": []
   },
   "source": [
    "## Random Number Generation\n",
    "\n",
    "This is how we can generate random numbers from the prior.\n"
   ]
  },
  {
   "cell_type": "code",
   "execution_count": 7,
   "id": "f693b604",
   "metadata": {
    "execution": {
     "iopub.execute_input": "2024-02-02T21:48:25.625594Z",
     "iopub.status.busy": "2024-02-02T21:48:25.625083Z",
     "iopub.status.idle": "2024-02-02T21:48:26.859887Z",
     "shell.execute_reply": "2024-02-02T21:48:26.858197Z"
    },
    "papermill": {
     "duration": 1.244886,
     "end_time": "2024-02-02T21:48:26.864690",
     "exception": false,
     "start_time": "2024-02-02T21:48:25.619804",
     "status": "completed"
    },
    "tags": []
   },
   "outputs": [
    {
     "data": {
      "text/plain": [
       "Text(0, 0.5, 'N')"
      ]
     },
     "execution_count": 7,
     "metadata": {},
     "output_type": "execute_result"
    },
    {
     "data": {
      "image/png": "[encoded data removed]",
      "text/plain": [
       "<Figure size 1040x910 with 1 Axes>"
      ]
     },
     "metadata": {},
     "output_type": "display_data"
    }
   ],
   "source": [
    "\n",
    "\n",
    "u = np.random.uniform(0,1, size=5000)\n",
    "\n",
    "draws = [func.from_unit_cube(x) for x in u]\n",
    "\n",
    "\n",
    "fig, ax = plt.subplots()\n",
    "\n",
    "\n",
    "ax.hist(draws, color=green, bins=50)\n",
    "\n",
    "ax.set_xlabel(\"value\")\n",
    "ax.set_ylabel(\"N\")\n",
    "\n"
   ]
  }
 ],
 "metadata": {
  "jupytext": {
   "formats": "ipynb,md"
  },
  "kernelspec": {
   "display_name": "Python 3 (ipykernel)",
   "language": "python",
   "name": "python3"
  },
  "language_info": {
   "codemirror_mode": {
    "name": "ipython",
    "version": 3
   },
   "file_extension": ".py",
   "mimetype": "text/x-python",
   "name": "python",
   "nbconvert_exporter": "python",
   "pygments_lexer": "ipython3",
   "version": "3.9.18"
  },
  "papermill": {
   "default_parameters": {},
   "duration": 6.748248,
   "end_time": "2024-02-02T21:48:27.504899",
   "environment_variables": {},
   "exception": null,
   "input_path": "Beta.ipynb",
   "output_path": "/Users/runner/work/astromodels/astromodels/docs/notebooks/Beta.ipynb",
   "parameters": {
    "func_name": "Beta",
    "positive_prior": true
   },
   "start_time": "2024-02-02T21:48:20.756651",
   "version": "2.5.0"
  }
 },
 "nbformat": 4,
 "nbformat_minor": 5
}
