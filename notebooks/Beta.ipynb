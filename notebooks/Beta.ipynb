{
 "cells": [
  {
   "cell_type": "markdown",
   "id": "74b24d1a",
   "metadata": {
    "papermill": {
     "duration": 0.010094,
     "end_time": "2024-05-13T23:11:56.208524",
     "exception": false,
     "start_time": "2024-05-13T23:11:56.198430",
     "status": "completed"
    },
    "tags": []
   },
   "source": [
    "# Beta"
   ]
  },
  {
   "cell_type": "code",
   "execution_count": 1,
   "id": "86db4bab",
   "metadata": {
    "execution": {
     "iopub.execute_input": "2024-05-13T23:11:56.220024Z",
     "iopub.status.busy": "2024-05-13T23:11:56.219389Z",
     "iopub.status.idle": "2024-05-13T23:11:57.676928Z",
     "shell.execute_reply": "2024-05-13T23:11:57.676256Z"
    },
    "nbsphinx": "hidden",
    "papermill": {
     "duration": 1.465016,
     "end_time": "2024-05-13T23:11:57.678469",
     "exception": false,
     "start_time": "2024-05-13T23:11:56.213453",
     "status": "completed"
    },
    "tags": []
   },
   "outputs": [],
   "source": [
    "%%capture\n",
    "\n",
    "import numpy as np\n",
    "\n",
    "import matplotlib.pyplot as plt\n",
    "\n",
    "import warnings\n",
    "warnings.simplefilter(\"ignore\")\n",
    "\n",
    "from astromodels.functions.function import _known_functions\n",
    "\n",
    "\n",
    "from jupyterthemes import jtplot\n",
    "jtplot.style(context=\"talk\", fscale=1, ticks=True, grid=False)\n",
    "%matplotlib inline"
   ]
  },
  {
   "cell_type": "code",
   "execution_count": 2,
   "id": "9327c21b",
   "metadata": {
    "execution": {
     "iopub.execute_input": "2024-05-13T23:11:57.681604Z",
     "iopub.status.busy": "2024-05-13T23:11:57.681264Z",
     "iopub.status.idle": "2024-05-13T23:11:57.689641Z",
     "shell.execute_reply": "2024-05-13T23:11:57.689288Z"
    },
    "nbsphinx": "hidden",
    "papermill": {
     "duration": 0.011392,
     "end_time": "2024-05-13T23:11:57.691064",
     "exception": false,
     "start_time": "2024-05-13T23:11:57.679672",
     "status": "completed"
    },
    "tags": [
     "parameters"
    ]
   },
   "outputs": [],
   "source": [
    "func_name = \"TbAbs\"\n",
    "\n",
    "positive_prior = False\n"
   ]
  },
  {
   "cell_type": "code",
   "execution_count": 3,
   "id": "d8b97231",
   "metadata": {
    "execution": {
     "iopub.execute_input": "2024-05-13T23:11:57.693607Z",
     "iopub.status.busy": "2024-05-13T23:11:57.693466Z",
     "iopub.status.idle": "2024-05-13T23:11:57.695434Z",
     "shell.execute_reply": "2024-05-13T23:11:57.695072Z"
    },
    "papermill": {
     "duration": 0.004609,
     "end_time": "2024-05-13T23:11:57.696658",
     "exception": false,
     "start_time": "2024-05-13T23:11:57.692049",
     "status": "completed"
    },
    "tags": [
     "injected-parameters"
    ]
   },
   "outputs": [],
   "source": [
    "# Parameters\n",
    "func_name = \"Beta\"\n",
    "positive_prior = True\n"
   ]
  },
  {
   "cell_type": "code",
   "execution_count": 4,
   "id": "f710a498",
   "metadata": {
    "execution": {
     "iopub.execute_input": "2024-05-13T23:11:57.699285Z",
     "iopub.status.busy": "2024-05-13T23:11:57.699145Z",
     "iopub.status.idle": "2024-05-13T23:11:57.705569Z",
     "shell.execute_reply": "2024-05-13T23:11:57.705167Z"
    },
    "lines_to_next_cell": 0,
    "nbsphinx": "hidden",
    "papermill": {
     "duration": 0.009113,
     "end_time": "2024-05-13T23:11:57.706815",
     "exception": false,
     "start_time": "2024-05-13T23:11:57.697702",
     "status": "completed"
    },
    "tags": []
   },
   "outputs": [],
   "source": [
    "func = _known_functions[func_name]()\n",
    "\n",
    "if not positive_prior:\n",
    "\n",
    "\tenergy_grid = np.linspace(-5,5,1000)\n",
    "\n",
    "else:\n",
    "    \n",
    "    energy_grid = np.linspace(0,1,1000)\n",
    "    \n",
    "    \n",
    "    \n",
    "    \n",
    "blue = \"#4152E3\"\n",
    "red = \"#E3414B\"\n",
    "green = \"#41E39E\""
   ]
  },
  {
   "cell_type": "markdown",
   "id": "17e1b47f",
   "metadata": {
    "lines_to_next_cell": 0,
    "papermill": {
     "duration": 0.000988,
     "end_time": "2024-05-13T23:11:57.708794",
     "exception": false,
     "start_time": "2024-05-13T23:11:57.707806",
     "status": "completed"
    },
    "tags": []
   },
   "source": [
    "## Description"
   ]
  },
  {
   "cell_type": "code",
   "execution_count": 5,
   "id": "cd7fdab4",
   "metadata": {
    "execution": {
     "iopub.execute_input": "2024-05-13T23:11:57.711383Z",
     "iopub.status.busy": "2024-05-13T23:11:57.711233Z",
     "iopub.status.idle": "2024-05-13T23:11:57.721061Z",
     "shell.execute_reply": "2024-05-13T23:11:57.720637Z"
    },
    "papermill": {
     "duration": 0.012514,
     "end_time": "2024-05-13T23:11:57.722280",
     "exception": false,
     "start_time": "2024-05-13T23:11:57.709766",
     "status": "completed"
    },
    "tags": []
   },
   "outputs": [
    {
     "data": {
      "text/html": [
       "<ul>\n",
       "\n",
       "<li>description: A beta distribution function</li>\n",
       "\n",
       "<li>formula: $ f(x, a, b)=\\frac{\\Gamma(a+b) x^{a-1}(1-x)^{b-1}}{\\Gamma(a) \\Gamma(b)}$</li>\n",
       "\n",
       "<li>parameters: \n",
       "<ul>\n",
       "\n",
       "<li>a: \n",
       "<ul>\n",
       "\n",
       "<li>value: 0.5</li>\n",
       "\n",
       "<li>desc: first shape parameter</li>\n",
       "\n",
       "<li>min_value: 0.0</li>\n",
       "\n",
       "<li>max_value: None</li>\n",
       "\n",
       "<li>unit: </li>\n",
       "\n",
       "<li>is_normalization: False</li>\n",
       "\n",
       "<li>delta: 0.05</li>\n",
       "\n",
       "<li>free: True</li>\n",
       "\n",
       "</ul>\n",
       "\n",
       "</li>\n",
       "\n",
       "<li>b: \n",
       "<ul>\n",
       "\n",
       "<li>value: 0.5</li>\n",
       "\n",
       "<li>desc: second shape parameter</li>\n",
       "\n",
       "<li>min_value: 0.0</li>\n",
       "\n",
       "<li>max_value: None</li>\n",
       "\n",
       "<li>unit: </li>\n",
       "\n",
       "<li>is_normalization: False</li>\n",
       "\n",
       "<li>delta: 0.05</li>\n",
       "\n",
       "<li>free: True</li>\n",
       "\n",
       "</ul>\n",
       "\n",
       "</li>\n",
       "\n",
       "</ul>\n",
       "\n",
       "</li>\n",
       "\n",
       "</ul>\n"
      ],
      "text/plain": [
       "  * description: A beta distribution function\n",
       "  * formula: $ f(x, a, b)=\\frac{\\Gamma(a+b) x^{a-1}(1-x)^{b-1}}{\\Gamma(a) \\Gamma(b)}$\n",
       "  * parameters:\n",
       "    * a:\n",
       "      * value: 0.5\n",
       "      * desc: first shape parameter\n",
       "      * min_value: 0.0\n",
       "      * max_value: null\n",
       "      * unit: ''\n",
       "      * is_normalization: false\n",
       "      * delta: 0.05\n",
       "      * free: true\n",
       "    * b:\n",
       "      * value: 0.5\n",
       "      * desc: second shape parameter\n",
       "      * min_value: 0.0\n",
       "      * max_value: null\n",
       "      * unit: ''\n",
       "      * is_normalization: false\n",
       "      * delta: 0.05\n",
       "      * free: true"
      ]
     },
     "metadata": {},
     "output_type": "display_data"
    }
   ],
   "source": [
    "func.display()"
   ]
  },
  {
   "cell_type": "markdown",
   "id": "569adc34",
   "metadata": {
    "papermill": {
     "duration": 0.001066,
     "end_time": "2024-05-13T23:11:57.724469",
     "exception": false,
     "start_time": "2024-05-13T23:11:57.723403",
     "status": "completed"
    },
    "tags": []
   },
   "source": [
    "## Shape \n",
    "\n",
    "The shape of the function. \n",
    "\n",
    "*If this is not a photon model but a prior or linear function then ignore the units as these docs are auto-generated*"
   ]
  },
  {
   "cell_type": "code",
   "execution_count": 6,
   "id": "cb504289",
   "metadata": {
    "execution": {
     "iopub.execute_input": "2024-05-13T23:11:57.727121Z",
     "iopub.status.busy": "2024-05-13T23:11:57.726978Z",
     "iopub.status.idle": "2024-05-13T23:11:57.826141Z",
     "shell.execute_reply": "2024-05-13T23:11:57.825787Z"
    },
    "papermill": {
     "duration": 0.102088,
     "end_time": "2024-05-13T23:11:57.827567",
     "exception": false,
     "start_time": "2024-05-13T23:11:57.725479",
     "status": "completed"
    },
    "tags": [
     "nbsphinx-thumbnail"
    ]
   },
   "outputs": [
    {
     "data": {
      "text/plain": [
       "Text(0, 0.5, 'probability')"
      ]
     },
     "execution_count": 6,
     "metadata": {},
     "output_type": "execute_result"
    },
    {
     "data": {
      "image/png": "[encoded data removed]",
      "text/plain": [
       "<Figure size 1040x910 with 1 Axes>"
      ]
     },
     "metadata": {},
     "output_type": "display_data"
    }
   ],
   "source": [
    "fig, ax = plt.subplots()\n",
    "\n",
    "\n",
    "ax.plot(energy_grid, func(energy_grid), color=blue, lw=3)\n",
    "\n",
    "ax.set_xlabel(\"x\")\n",
    "ax.set_ylabel(\"probability\")\n"
   ]
  },
  {
   "cell_type": "markdown",
   "id": "4fe1f55f",
   "metadata": {
    "papermill": {
     "duration": 0.001465,
     "end_time": "2024-05-13T23:11:57.830657",
     "exception": false,
     "start_time": "2024-05-13T23:11:57.829192",
     "status": "completed"
    },
    "tags": []
   },
   "source": [
    "## Random Number Generation\n",
    "\n",
    "This is how we can generate random numbers from the prior.\n"
   ]
  },
  {
   "cell_type": "code",
   "execution_count": 7,
   "id": "355fa41c",
   "metadata": {
    "execution": {
     "iopub.execute_input": "2024-05-13T23:11:57.833984Z",
     "iopub.status.busy": "2024-05-13T23:11:57.833823Z",
     "iopub.status.idle": "2024-05-13T23:11:58.190895Z",
     "shell.execute_reply": "2024-05-13T23:11:58.190547Z"
    },
    "papermill": {
     "duration": 0.360391,
     "end_time": "2024-05-13T23:11:58.192329",
     "exception": false,
     "start_time": "2024-05-13T23:11:57.831938",
     "status": "completed"
    },
    "tags": []
   },
   "outputs": [
    {
     "data": {
      "text/plain": [
       "Text(0, 0.5, 'N')"
      ]
     },
     "execution_count": 7,
     "metadata": {},
     "output_type": "execute_result"
    },
    {
     "data": {
      "image/png": "[encoded data removed]",
      "text/plain": [
       "<Figure size 1040x910 with 1 Axes>"
      ]
     },
     "metadata": {},
     "output_type": "display_data"
    }
   ],
   "source": [
    "\n",
    "\n",
    "u = np.random.uniform(0,1, size=5000)\n",
    "\n",
    "draws = [func.from_unit_cube(x) for x in u]\n",
    "\n",
    "\n",
    "fig, ax = plt.subplots()\n",
    "\n",
    "\n",
    "ax.hist(draws, color=green, bins=50)\n",
    "\n",
    "ax.set_xlabel(\"value\")\n",
    "ax.set_ylabel(\"N\")\n",
    "\n"
   ]
  }
 ],
 "metadata": {
  "jupytext": {
   "formats": "ipynb,md"
  },
  "kernelspec": {
   "display_name": "Python 3 (ipykernel)",
   "language": "python",
   "name": "python3"
  },
  "language_info": {
   "codemirror_mode": {
    "name": "ipython",
    "version": 3
   },
   "file_extension": ".py",
   "mimetype": "text/x-python",
   "name": "python",
   "nbconvert_exporter": "python",
   "pygments_lexer": "ipython3",
   "version": "3.9.13"
  },
  "papermill": {
   "default_parameters": {},
   "duration": 2.848932,
   "end_time": "2024-05-13T23:11:58.521173",
   "environment_variables": {},
   "exception": null,
   "input_path": "Beta.ipynb",
   "output_path": "/Users/runner/work/astromodels/astromodels/docs/notebooks/Beta.ipynb",
   "parameters": {
    "func_name": "Beta",
    "positive_prior": true
   },
   "start_time": "2024-05-13T23:11:55.672241",
   "version": "2.6.0"
  }
 },
 "nbformat": 4,
 "nbformat_minor": 5
}
