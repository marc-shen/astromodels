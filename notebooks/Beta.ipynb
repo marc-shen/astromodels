{
 "cells": [
  {
   "cell_type": "markdown",
   "id": "6448f311",
   "metadata": {
    "papermill": {
     "duration": 0.005126,
     "end_time": "2023-11-01T01:15:19.644209",
     "exception": false,
     "start_time": "2023-11-01T01:15:19.639083",
     "status": "completed"
    },
    "tags": []
   },
   "source": [
    "# Beta"
   ]
  },
  {
   "cell_type": "code",
   "execution_count": 1,
   "id": "77d4c21d",
   "metadata": {
    "execution": {
     "iopub.execute_input": "2023-11-01T01:15:19.656334Z",
     "iopub.status.busy": "2023-11-01T01:15:19.655668Z",
     "iopub.status.idle": "2023-11-01T01:15:23.705869Z",
     "shell.execute_reply": "2023-11-01T01:15:23.702739Z"
    },
    "nbsphinx": "hidden",
    "papermill": {
     "duration": 4.063423,
     "end_time": "2023-11-01T01:15:23.712047",
     "exception": false,
     "start_time": "2023-11-01T01:15:19.648624",
     "status": "completed"
    },
    "tags": []
   },
   "outputs": [],
   "source": [
    "%%capture\n",
    "\n",
    "import numpy as np\n",
    "\n",
    "import matplotlib.pyplot as plt\n",
    "\n",
    "import warnings\n",
    "warnings.simplefilter(\"ignore\")\n",
    "\n",
    "from astromodels.functions.function import _known_functions\n",
    "\n",
    "\n",
    "from jupyterthemes import jtplot\n",
    "jtplot.style(context=\"talk\", fscale=1, ticks=True, grid=False)\n",
    "%matplotlib inline"
   ]
  },
  {
   "cell_type": "code",
   "execution_count": 2,
   "id": "a3b04402",
   "metadata": {
    "execution": {
     "iopub.execute_input": "2023-11-01T01:15:23.722638Z",
     "iopub.status.busy": "2023-11-01T01:15:23.721982Z",
     "iopub.status.idle": "2023-11-01T01:15:23.731988Z",
     "shell.execute_reply": "2023-11-01T01:15:23.729266Z"
    },
    "nbsphinx": "hidden",
    "papermill": {
     "duration": 0.023055,
     "end_time": "2023-11-01T01:15:23.738246",
     "exception": false,
     "start_time": "2023-11-01T01:15:23.715191",
     "status": "completed"
    },
    "tags": [
     "parameters"
    ]
   },
   "outputs": [],
   "source": [
    "func_name = \"TbAbs\"\n",
    "\n",
    "positive_prior = False\n"
   ]
  },
  {
   "cell_type": "code",
   "execution_count": 3,
   "id": "915173a9",
   "metadata": {
    "execution": {
     "iopub.execute_input": "2023-11-01T01:15:23.749021Z",
     "iopub.status.busy": "2023-11-01T01:15:23.748560Z",
     "iopub.status.idle": "2023-11-01T01:15:23.757363Z",
     "shell.execute_reply": "2023-11-01T01:15:23.754550Z"
    },
    "papermill": {
     "duration": 0.021785,
     "end_time": "2023-11-01T01:15:23.763364",
     "exception": false,
     "start_time": "2023-11-01T01:15:23.741579",
     "status": "completed"
    },
    "tags": [
     "injected-parameters"
    ]
   },
   "outputs": [],
   "source": [
    "# Parameters\n",
    "func_name = \"Beta\"\n",
    "positive_prior = True\n"
   ]
  },
  {
   "cell_type": "code",
   "execution_count": 4,
   "id": "76092f8f",
   "metadata": {
    "execution": {
     "iopub.execute_input": "2023-11-01T01:15:23.772357Z",
     "iopub.status.busy": "2023-11-01T01:15:23.771800Z",
     "iopub.status.idle": "2023-11-01T01:15:23.782739Z",
     "shell.execute_reply": "2023-11-01T01:15:23.780758Z"
    },
    "lines_to_next_cell": 0,
    "nbsphinx": "hidden",
    "papermill": {
     "duration": 0.021709,
     "end_time": "2023-11-01T01:15:23.788167",
     "exception": false,
     "start_time": "2023-11-01T01:15:23.766458",
     "status": "completed"
    },
    "tags": []
   },
   "outputs": [],
   "source": [
    "func = _known_functions[func_name]()\n",
    "\n",
    "if not positive_prior:\n",
    "\n",
    "\tenergy_grid = np.linspace(-5,5,1000)\n",
    "\n",
    "else:\n",
    "    \n",
    "    energy_grid = np.linspace(0,1,1000)\n",
    "    \n",
    "    \n",
    "    \n",
    "    \n",
    "blue = \"#4152E3\"\n",
    "red = \"#E3414B\"\n",
    "green = \"#41E39E\""
   ]
  },
  {
   "cell_type": "markdown",
   "id": "a2e8574f",
   "metadata": {
    "lines_to_next_cell": 0,
    "papermill": {
     "duration": 0.003207,
     "end_time": "2023-11-01T01:15:23.794405",
     "exception": false,
     "start_time": "2023-11-01T01:15:23.791198",
     "status": "completed"
    },
    "tags": []
   },
   "source": [
    "## Description"
   ]
  },
  {
   "cell_type": "code",
   "execution_count": 5,
   "id": "0672e74d",
   "metadata": {
    "execution": {
     "iopub.execute_input": "2023-11-01T01:15:23.803550Z",
     "iopub.status.busy": "2023-11-01T01:15:23.802761Z",
     "iopub.status.idle": "2023-11-01T01:15:23.819446Z",
     "shell.execute_reply": "2023-11-01T01:15:23.817580Z"
    },
    "papermill": {
     "duration": 0.027868,
     "end_time": "2023-11-01T01:15:23.825403",
     "exception": false,
     "start_time": "2023-11-01T01:15:23.797535",
     "status": "completed"
    },
    "tags": []
   },
   "outputs": [
    {
     "data": {
      "text/html": [
       "<ul>\n",
       "\n",
       "<li>description: A beta distribution function</li>\n",
       "\n",
       "<li>formula: $ f(x, a, b)=\\frac{\\Gamma(a+b) x^{a-1}(1-x)^{b-1}}{\\Gamma(a) \\Gamma(b)}$</li>\n",
       "\n",
       "<li>parameters: \n",
       "<ul>\n",
       "\n",
       "<li>a: \n",
       "<ul>\n",
       "\n",
       "<li>value: 0.5</li>\n",
       "\n",
       "<li>desc: first shape parameter</li>\n",
       "\n",
       "<li>min_value: 0.0</li>\n",
       "\n",
       "<li>max_value: None</li>\n",
       "\n",
       "<li>unit: </li>\n",
       "\n",
       "<li>is_normalization: False</li>\n",
       "\n",
       "<li>delta: 0.05</li>\n",
       "\n",
       "<li>free: True</li>\n",
       "\n",
       "</ul>\n",
       "\n",
       "</li>\n",
       "\n",
       "<li>b: \n",
       "<ul>\n",
       "\n",
       "<li>value: 0.5</li>\n",
       "\n",
       "<li>desc: second shape parameter</li>\n",
       "\n",
       "<li>min_value: 0.0</li>\n",
       "\n",
       "<li>max_value: None</li>\n",
       "\n",
       "<li>unit: </li>\n",
       "\n",
       "<li>is_normalization: False</li>\n",
       "\n",
       "<li>delta: 0.05</li>\n",
       "\n",
       "<li>free: True</li>\n",
       "\n",
       "</ul>\n",
       "\n",
       "</li>\n",
       "\n",
       "</ul>\n",
       "\n",
       "</li>\n",
       "\n",
       "</ul>\n"
      ],
      "text/plain": [
       "  * description: A beta distribution function\n",
       "  * formula: $ f(x, a, b)=\\frac{\\Gamma(a+b) x^{a-1}(1-x)^{b-1}}{\\Gamma(a) \\Gamma(b)}$\n",
       "  * parameters:\n",
       "    * a:\n",
       "      * value: 0.5\n",
       "      * desc: first shape parameter\n",
       "      * min_value: 0.0\n",
       "      * max_value: null\n",
       "      * unit: ''\n",
       "      * is_normalization: false\n",
       "      * delta: 0.05\n",
       "      * free: true\n",
       "    * b:\n",
       "      * value: 0.5\n",
       "      * desc: second shape parameter\n",
       "      * min_value: 0.0\n",
       "      * max_value: null\n",
       "      * unit: ''\n",
       "      * is_normalization: false\n",
       "      * delta: 0.05\n",
       "      * free: true"
      ]
     },
     "metadata": {},
     "output_type": "display_data"
    }
   ],
   "source": [
    "func.display()"
   ]
  },
  {
   "cell_type": "markdown",
   "id": "e37ecd4e",
   "metadata": {
    "papermill": {
     "duration": 0.003441,
     "end_time": "2023-11-01T01:15:23.832475",
     "exception": false,
     "start_time": "2023-11-01T01:15:23.829034",
     "status": "completed"
    },
    "tags": []
   },
   "source": [
    "## Shape \n",
    "\n",
    "The shape of the function. \n",
    "\n",
    "*If this is not a photon model but a prior or linear function then ignore the units as these docs are auto-generated*"
   ]
  },
  {
   "cell_type": "code",
   "execution_count": 6,
   "id": "17591843",
   "metadata": {
    "execution": {
     "iopub.execute_input": "2023-11-01T01:15:23.843382Z",
     "iopub.status.busy": "2023-11-01T01:15:23.842827Z",
     "iopub.status.idle": "2023-11-01T01:15:24.136872Z",
     "shell.execute_reply": "2023-11-01T01:15:24.134963Z"
    },
    "papermill": {
     "duration": 0.306344,
     "end_time": "2023-11-01T01:15:24.142003",
     "exception": false,
     "start_time": "2023-11-01T01:15:23.835659",
     "status": "completed"
    },
    "tags": [
     "nbsphinx-thumbnail"
    ]
   },
   "outputs": [
    {
     "data": {
      "text/plain": [
       "Text(0, 0.5, 'probability')"
      ]
     },
     "execution_count": 6,
     "metadata": {},
     "output_type": "execute_result"
    },
    {
     "data": {
      "image/png": "[encoded data removed]",
      "text/plain": [
       "<Figure size 1040x910 with 1 Axes>"
      ]
     },
     "metadata": {},
     "output_type": "display_data"
    }
   ],
   "source": [
    "fig, ax = plt.subplots()\n",
    "\n",
    "\n",
    "ax.plot(energy_grid, func(energy_grid), color=blue, lw=3)\n",
    "\n",
    "ax.set_xlabel(\"x\")\n",
    "ax.set_ylabel(\"probability\")\n"
   ]
  },
  {
   "cell_type": "markdown",
   "id": "5c0a0b5a",
   "metadata": {
    "papermill": {
     "duration": 0.003922,
     "end_time": "2023-11-01T01:15:24.150292",
     "exception": false,
     "start_time": "2023-11-01T01:15:24.146370",
     "status": "completed"
    },
    "tags": []
   },
   "source": [
    "## Random Number Generation\n",
    "\n",
    "This is how we can generate random numbers from the prior.\n"
   ]
  },
  {
   "cell_type": "code",
   "execution_count": 7,
   "id": "8ccbe7a0",
   "metadata": {
    "execution": {
     "iopub.execute_input": "2023-11-01T01:15:24.160417Z",
     "iopub.status.busy": "2023-11-01T01:15:24.159929Z",
     "iopub.status.idle": "2023-11-01T01:15:25.699486Z",
     "shell.execute_reply": "2023-11-01T01:15:25.697631Z"
    },
    "papermill": {
     "duration": 1.551221,
     "end_time": "2023-11-01T01:15:25.705490",
     "exception": false,
     "start_time": "2023-11-01T01:15:24.154269",
     "status": "completed"
    },
    "tags": []
   },
   "outputs": [
    {
     "data": {
      "text/plain": [
       "Text(0, 0.5, 'N')"
      ]
     },
     "execution_count": 7,
     "metadata": {},
     "output_type": "execute_result"
    },
    {
     "data": {
      "image/png": "[encoded data removed]",
      "text/plain": [
       "<Figure size 1040x910 with 1 Axes>"
      ]
     },
     "metadata": {},
     "output_type": "display_data"
    }
   ],
   "source": [
    "\n",
    "\n",
    "u = np.random.uniform(0,1, size=5000)\n",
    "\n",
    "draws = [func.from_unit_cube(x) for x in u]\n",
    "\n",
    "\n",
    "fig, ax = plt.subplots()\n",
    "\n",
    "\n",
    "ax.hist(draws, color=green, bins=50)\n",
    "\n",
    "ax.set_xlabel(\"value\")\n",
    "ax.set_ylabel(\"N\")\n",
    "\n"
   ]
  }
 ],
 "metadata": {
  "jupytext": {
   "formats": "ipynb,md"
  },
  "kernelspec": {
   "display_name": "Python 3 (ipykernel)",
   "language": "python",
   "name": "python3"
  },
  "language_info": {
   "codemirror_mode": {
    "name": "ipython",
    "version": 3
   },
   "file_extension": ".py",
   "mimetype": "text/x-python",
   "name": "python",
   "nbconvert_exporter": "python",
   "pygments_lexer": "ipython3",
   "version": "3.9.18"
  },
  "papermill": {
   "default_parameters": {},
   "duration": 8.002317,
   "end_time": "2023-11-01T01:15:26.445049",
   "environment_variables": {},
   "exception": null,
   "input_path": "Beta.ipynb",
   "output_path": "/Users/runner/work/astromodels/astromodels/docs/notebooks/Beta.ipynb",
   "parameters": {
    "func_name": "Beta",
    "positive_prior": true
   },
   "start_time": "2023-11-01T01:15:18.442732",
   "version": "2.4.0"
  }
 },
 "nbformat": 4,
 "nbformat_minor": 5
}
