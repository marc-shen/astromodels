{
 "cells": [
  {
   "cell_type": "markdown",
   "id": "76fbf187",
   "metadata": {
    "papermill": {
     "duration": 0.003521,
     "end_time": "2023-11-01T22:37:01.716765",
     "exception": false,
     "start_time": "2023-11-01T22:37:01.713244",
     "status": "completed"
    },
    "tags": []
   },
   "source": [
    "# Beta"
   ]
  },
  {
   "cell_type": "code",
   "execution_count": 1,
   "id": "3dccf124",
   "metadata": {
    "execution": {
     "iopub.execute_input": "2023-11-01T22:37:01.726372Z",
     "iopub.status.busy": "2023-11-01T22:37:01.725867Z",
     "iopub.status.idle": "2023-11-01T22:37:04.640136Z",
     "shell.execute_reply": "2023-11-01T22:37:04.638400Z"
    },
    "nbsphinx": "hidden",
    "papermill": {
     "duration": 2.924441,
     "end_time": "2023-11-01T22:37:04.644546",
     "exception": false,
     "start_time": "2023-11-01T22:37:01.720105",
     "status": "completed"
    },
    "tags": []
   },
   "outputs": [],
   "source": [
    "%%capture\n",
    "\n",
    "import numpy as np\n",
    "\n",
    "import matplotlib.pyplot as plt\n",
    "\n",
    "import warnings\n",
    "warnings.simplefilter(\"ignore\")\n",
    "\n",
    "from astromodels.functions.function import _known_functions\n",
    "\n",
    "\n",
    "from jupyterthemes import jtplot\n",
    "jtplot.style(context=\"talk\", fscale=1, ticks=True, grid=False)\n",
    "%matplotlib inline"
   ]
  },
  {
   "cell_type": "code",
   "execution_count": 2,
   "id": "60adc754",
   "metadata": {
    "execution": {
     "iopub.execute_input": "2023-11-01T22:37:04.652094Z",
     "iopub.status.busy": "2023-11-01T22:37:04.651700Z",
     "iopub.status.idle": "2023-11-01T22:37:04.657781Z",
     "shell.execute_reply": "2023-11-01T22:37:04.656443Z"
    },
    "nbsphinx": "hidden",
    "papermill": {
     "duration": 0.015383,
     "end_time": "2023-11-01T22:37:04.662594",
     "exception": false,
     "start_time": "2023-11-01T22:37:04.647211",
     "status": "completed"
    },
    "tags": [
     "parameters"
    ]
   },
   "outputs": [],
   "source": [
    "func_name = \"TbAbs\"\n",
    "\n",
    "positive_prior = False\n"
   ]
  },
  {
   "cell_type": "code",
   "execution_count": 3,
   "id": "0af0ad9c",
   "metadata": {
    "execution": {
     "iopub.execute_input": "2023-11-01T22:37:04.672154Z",
     "iopub.status.busy": "2023-11-01T22:37:04.671682Z",
     "iopub.status.idle": "2023-11-01T22:37:04.678530Z",
     "shell.execute_reply": "2023-11-01T22:37:04.676732Z"
    },
    "papermill": {
     "duration": 0.017436,
     "end_time": "2023-11-01T22:37:04.683151",
     "exception": false,
     "start_time": "2023-11-01T22:37:04.665715",
     "status": "completed"
    },
    "tags": [
     "injected-parameters"
    ]
   },
   "outputs": [],
   "source": [
    "# Parameters\n",
    "func_name = \"Beta\"\n",
    "positive_prior = True\n"
   ]
  },
  {
   "cell_type": "code",
   "execution_count": 4,
   "id": "3446de9a",
   "metadata": {
    "execution": {
     "iopub.execute_input": "2023-11-01T22:37:04.693382Z",
     "iopub.status.busy": "2023-11-01T22:37:04.692711Z",
     "iopub.status.idle": "2023-11-01T22:37:04.703622Z",
     "shell.execute_reply": "2023-11-01T22:37:04.701329Z"
    },
    "lines_to_next_cell": 0,
    "nbsphinx": "hidden",
    "papermill": {
     "duration": 0.021098,
     "end_time": "2023-11-01T22:37:04.708113",
     "exception": false,
     "start_time": "2023-11-01T22:37:04.687015",
     "status": "completed"
    },
    "tags": []
   },
   "outputs": [],
   "source": [
    "func = _known_functions[func_name]()\n",
    "\n",
    "if not positive_prior:\n",
    "\n",
    "\tenergy_grid = np.linspace(-5,5,1000)\n",
    "\n",
    "else:\n",
    "    \n",
    "    energy_grid = np.linspace(0,1,1000)\n",
    "    \n",
    "    \n",
    "    \n",
    "    \n",
    "blue = \"#4152E3\"\n",
    "red = \"#E3414B\"\n",
    "green = \"#41E39E\""
   ]
  },
  {
   "cell_type": "markdown",
   "id": "850fec76",
   "metadata": {
    "lines_to_next_cell": 0,
    "papermill": {
     "duration": 0.003516,
     "end_time": "2023-11-01T22:37:04.715111",
     "exception": false,
     "start_time": "2023-11-01T22:37:04.711595",
     "status": "completed"
    },
    "tags": []
   },
   "source": [
    "## Description"
   ]
  },
  {
   "cell_type": "code",
   "execution_count": 5,
   "id": "900d7350",
   "metadata": {
    "execution": {
     "iopub.execute_input": "2023-11-01T22:37:04.722972Z",
     "iopub.status.busy": "2023-11-01T22:37:04.722327Z",
     "iopub.status.idle": "2023-11-01T22:37:04.735442Z",
     "shell.execute_reply": "2023-11-01T22:37:04.733249Z"
    },
    "papermill": {
     "duration": 0.022135,
     "end_time": "2023-11-01T22:37:04.739838",
     "exception": false,
     "start_time": "2023-11-01T22:37:04.717703",
     "status": "completed"
    },
    "tags": []
   },
   "outputs": [
    {
     "data": {
      "text/html": [
       "<ul>\n",
       "\n",
       "<li>description: A beta distribution function</li>\n",
       "\n",
       "<li>formula: $ f(x, a, b)=\\frac{\\Gamma(a+b) x^{a-1}(1-x)^{b-1}}{\\Gamma(a) \\Gamma(b)}$</li>\n",
       "\n",
       "<li>parameters: \n",
       "<ul>\n",
       "\n",
       "<li>a: \n",
       "<ul>\n",
       "\n",
       "<li>value: 0.5</li>\n",
       "\n",
       "<li>desc: first shape parameter</li>\n",
       "\n",
       "<li>min_value: 0.0</li>\n",
       "\n",
       "<li>max_value: None</li>\n",
       "\n",
       "<li>unit: </li>\n",
       "\n",
       "<li>is_normalization: False</li>\n",
       "\n",
       "<li>delta: 0.05</li>\n",
       "\n",
       "<li>free: True</li>\n",
       "\n",
       "</ul>\n",
       "\n",
       "</li>\n",
       "\n",
       "<li>b: \n",
       "<ul>\n",
       "\n",
       "<li>value: 0.5</li>\n",
       "\n",
       "<li>desc: second shape parameter</li>\n",
       "\n",
       "<li>min_value: 0.0</li>\n",
       "\n",
       "<li>max_value: None</li>\n",
       "\n",
       "<li>unit: </li>\n",
       "\n",
       "<li>is_normalization: False</li>\n",
       "\n",
       "<li>delta: 0.05</li>\n",
       "\n",
       "<li>free: True</li>\n",
       "\n",
       "</ul>\n",
       "\n",
       "</li>\n",
       "\n",
       "</ul>\n",
       "\n",
       "</li>\n",
       "\n",
       "</ul>\n"
      ],
      "text/plain": [
       "  * description: A beta distribution function\n",
       "  * formula: $ f(x, a, b)=\\frac{\\Gamma(a+b) x^{a-1}(1-x)^{b-1}}{\\Gamma(a) \\Gamma(b)}$\n",
       "  * parameters:\n",
       "    * a:\n",
       "      * value: 0.5\n",
       "      * desc: first shape parameter\n",
       "      * min_value: 0.0\n",
       "      * max_value: null\n",
       "      * unit: ''\n",
       "      * is_normalization: false\n",
       "      * delta: 0.05\n",
       "      * free: true\n",
       "    * b:\n",
       "      * value: 0.5\n",
       "      * desc: second shape parameter\n",
       "      * min_value: 0.0\n",
       "      * max_value: null\n",
       "      * unit: ''\n",
       "      * is_normalization: false\n",
       "      * delta: 0.05\n",
       "      * free: true"
      ]
     },
     "metadata": {},
     "output_type": "display_data"
    }
   ],
   "source": [
    "func.display()"
   ]
  },
  {
   "cell_type": "markdown",
   "id": "e5ee3b68",
   "metadata": {
    "papermill": {
     "duration": 0.003003,
     "end_time": "2023-11-01T22:37:04.745723",
     "exception": false,
     "start_time": "2023-11-01T22:37:04.742720",
     "status": "completed"
    },
    "tags": []
   },
   "source": [
    "## Shape \n",
    "\n",
    "The shape of the function. \n",
    "\n",
    "*If this is not a photon model but a prior or linear function then ignore the units as these docs are auto-generated*"
   ]
  },
  {
   "cell_type": "code",
   "execution_count": 6,
   "id": "85b94689",
   "metadata": {
    "execution": {
     "iopub.execute_input": "2023-11-01T22:37:04.756141Z",
     "iopub.status.busy": "2023-11-01T22:37:04.755719Z",
     "iopub.status.idle": "2023-11-01T22:37:05.017478Z",
     "shell.execute_reply": "2023-11-01T22:37:05.015510Z"
    },
    "papermill": {
     "duration": 0.272819,
     "end_time": "2023-11-01T22:37:05.022135",
     "exception": false,
     "start_time": "2023-11-01T22:37:04.749316",
     "status": "completed"
    },
    "tags": [
     "nbsphinx-thumbnail"
    ]
   },
   "outputs": [
    {
     "data": {
      "text/plain": [
       "Text(0, 0.5, 'probability')"
      ]
     },
     "execution_count": 6,
     "metadata": {},
     "output_type": "execute_result"
    },
    {
     "data": {
      "image/png": "[encoded data removed]",
      "text/plain": [
       "<Figure size 1040x910 with 1 Axes>"
      ]
     },
     "metadata": {},
     "output_type": "display_data"
    }
   ],
   "source": [
    "fig, ax = plt.subplots()\n",
    "\n",
    "\n",
    "ax.plot(energy_grid, func(energy_grid), color=blue, lw=3)\n",
    "\n",
    "ax.set_xlabel(\"x\")\n",
    "ax.set_ylabel(\"probability\")\n"
   ]
  },
  {
   "cell_type": "markdown",
   "id": "87004ce7",
   "metadata": {
    "papermill": {
     "duration": 0.003702,
     "end_time": "2023-11-01T22:37:05.030709",
     "exception": false,
     "start_time": "2023-11-01T22:37:05.027007",
     "status": "completed"
    },
    "tags": []
   },
   "source": [
    "## Random Number Generation\n",
    "\n",
    "This is how we can generate random numbers from the prior.\n"
   ]
  },
  {
   "cell_type": "code",
   "execution_count": 7,
   "id": "3c4eb201",
   "metadata": {
    "execution": {
     "iopub.execute_input": "2023-11-01T22:37:05.040855Z",
     "iopub.status.busy": "2023-11-01T22:37:05.040388Z",
     "iopub.status.idle": "2023-11-01T22:37:06.227923Z",
     "shell.execute_reply": "2023-11-01T22:37:06.225247Z"
    },
    "papermill": {
     "duration": 1.198224,
     "end_time": "2023-11-01T22:37:06.232966",
     "exception": false,
     "start_time": "2023-11-01T22:37:05.034742",
     "status": "completed"
    },
    "tags": []
   },
   "outputs": [
    {
     "data": {
      "text/plain": [
       "Text(0, 0.5, 'N')"
      ]
     },
     "execution_count": 7,
     "metadata": {},
     "output_type": "execute_result"
    },
    {
     "data": {
      "image/png": "[encoded data removed]",
      "text/plain": [
       "<Figure size 1040x910 with 1 Axes>"
      ]
     },
     "metadata": {},
     "output_type": "display_data"
    }
   ],
   "source": [
    "\n",
    "\n",
    "u = np.random.uniform(0,1, size=5000)\n",
    "\n",
    "draws = [func.from_unit_cube(x) for x in u]\n",
    "\n",
    "\n",
    "fig, ax = plt.subplots()\n",
    "\n",
    "\n",
    "ax.hist(draws, color=green, bins=50)\n",
    "\n",
    "ax.set_xlabel(\"value\")\n",
    "ax.set_ylabel(\"N\")\n",
    "\n"
   ]
  }
 ],
 "metadata": {
  "jupytext": {
   "formats": "ipynb,md"
  },
  "kernelspec": {
   "display_name": "Python 3 (ipykernel)",
   "language": "python",
   "name": "python3"
  },
  "language_info": {
   "codemirror_mode": {
    "name": "ipython",
    "version": 3
   },
   "file_extension": ".py",
   "mimetype": "text/x-python",
   "name": "python",
   "nbconvert_exporter": "python",
   "pygments_lexer": "ipython3",
   "version": "3.9.18"
  },
  "papermill": {
   "default_parameters": {},
   "duration": 6.62836,
   "end_time": "2023-11-01T22:37:06.967880",
   "environment_variables": {},
   "exception": null,
   "input_path": "Beta.ipynb",
   "output_path": "/Users/runner/work/astromodels/astromodels/docs/notebooks/Beta.ipynb",
   "parameters": {
    "func_name": "Beta",
    "positive_prior": true
   },
   "start_time": "2023-11-01T22:37:00.339520",
   "version": "2.4.0"
  }
 },
 "nbformat": 4,
 "nbformat_minor": 5
}
