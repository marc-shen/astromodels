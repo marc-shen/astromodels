{
 "cells": [
  {
   "cell_type": "markdown",
   "id": "c44870ad",
   "metadata": {
    "papermill": {
     "duration": 0.009107,
     "end_time": "2024-09-10T20:05:15.835622",
     "exception": false,
     "start_time": "2024-09-10T20:05:15.826515",
     "status": "completed"
    },
    "tags": []
   },
   "source": [
    "# Beta"
   ]
  },
  {
   "cell_type": "code",
   "execution_count": 1,
   "id": "8e611185",
   "metadata": {
    "execution": {
     "iopub.execute_input": "2024-09-10T20:05:15.850580Z",
     "iopub.status.busy": "2024-09-10T20:05:15.849734Z",
     "iopub.status.idle": "2024-09-10T20:05:17.254413Z",
     "shell.execute_reply": "2024-09-10T20:05:17.253881Z"
    },
    "nbsphinx": "hidden",
    "papermill": {
     "duration": 1.413674,
     "end_time": "2024-09-10T20:05:17.255948",
     "exception": false,
     "start_time": "2024-09-10T20:05:15.842274",
     "status": "completed"
    },
    "tags": []
   },
   "outputs": [],
   "source": [
    "%%capture\n",
    "\n",
    "import numpy as np\n",
    "\n",
    "import matplotlib.pyplot as plt\n",
    "\n",
    "import warnings\n",
    "warnings.simplefilter(\"ignore\")\n",
    "\n",
    "from astromodels.functions.function import _known_functions\n",
    "\n",
    "\n",
    "from jupyterthemes import jtplot\n",
    "jtplot.style(context=\"talk\", fscale=1, ticks=True, grid=False)\n",
    "%matplotlib inline"
   ]
  },
  {
   "cell_type": "code",
   "execution_count": 2,
   "id": "6e1e9d07",
   "metadata": {
    "execution": {
     "iopub.execute_input": "2024-09-10T20:05:17.259036Z",
     "iopub.status.busy": "2024-09-10T20:05:17.258721Z",
     "iopub.status.idle": "2024-09-10T20:05:17.267255Z",
     "shell.execute_reply": "2024-09-10T20:05:17.266797Z"
    },
    "nbsphinx": "hidden",
    "papermill": {
     "duration": 0.011414,
     "end_time": "2024-09-10T20:05:17.268547",
     "exception": false,
     "start_time": "2024-09-10T20:05:17.257133",
     "status": "completed"
    },
    "tags": [
     "parameters"
    ]
   },
   "outputs": [],
   "source": [
    "func_name = \"TbAbs\"\n",
    "\n",
    "positive_prior = False\n"
   ]
  },
  {
   "cell_type": "code",
   "execution_count": 3,
   "id": "8ba7a9e5",
   "metadata": {
    "execution": {
     "iopub.execute_input": "2024-09-10T20:05:17.271163Z",
     "iopub.status.busy": "2024-09-10T20:05:17.271021Z",
     "iopub.status.idle": "2024-09-10T20:05:17.277967Z",
     "shell.execute_reply": "2024-09-10T20:05:17.277586Z"
    },
    "papermill": {
     "duration": 0.009627,
     "end_time": "2024-09-10T20:05:17.279188",
     "exception": false,
     "start_time": "2024-09-10T20:05:17.269561",
     "status": "completed"
    },
    "tags": [
     "injected-parameters"
    ]
   },
   "outputs": [],
   "source": [
    "# Parameters\n",
    "func_name = \"Beta\"\n",
    "positive_prior = True\n"
   ]
  },
  {
   "cell_type": "code",
   "execution_count": 4,
   "id": "e2b72d70",
   "metadata": {
    "execution": {
     "iopub.execute_input": "2024-09-10T20:05:17.281935Z",
     "iopub.status.busy": "2024-09-10T20:05:17.281794Z",
     "iopub.status.idle": "2024-09-10T20:05:17.284589Z",
     "shell.execute_reply": "2024-09-10T20:05:17.284189Z"
    },
    "lines_to_next_cell": 0,
    "nbsphinx": "hidden",
    "papermill": {
     "duration": 0.005555,
     "end_time": "2024-09-10T20:05:17.285824",
     "exception": false,
     "start_time": "2024-09-10T20:05:17.280269",
     "status": "completed"
    },
    "tags": []
   },
   "outputs": [],
   "source": [
    "func = _known_functions[func_name]()\n",
    "\n",
    "if not positive_prior:\n",
    "\n",
    "\tenergy_grid = np.linspace(-5,5,1000)\n",
    "\n",
    "else:\n",
    "    \n",
    "    energy_grid = np.linspace(0,1,1000)\n",
    "    \n",
    "    \n",
    "    \n",
    "    \n",
    "blue = \"#4152E3\"\n",
    "red = \"#E3414B\"\n",
    "green = \"#41E39E\""
   ]
  },
  {
   "cell_type": "markdown",
   "id": "7037e965",
   "metadata": {
    "lines_to_next_cell": 0,
    "papermill": {
     "duration": 0.000999,
     "end_time": "2024-09-10T20:05:17.287860",
     "exception": false,
     "start_time": "2024-09-10T20:05:17.286861",
     "status": "completed"
    },
    "tags": []
   },
   "source": [
    "## Description"
   ]
  },
  {
   "cell_type": "code",
   "execution_count": 5,
   "id": "9b1395cd",
   "metadata": {
    "execution": {
     "iopub.execute_input": "2024-09-10T20:05:17.290403Z",
     "iopub.status.busy": "2024-09-10T20:05:17.290270Z",
     "iopub.status.idle": "2024-09-10T20:05:17.294017Z",
     "shell.execute_reply": "2024-09-10T20:05:17.293543Z"
    },
    "papermill": {
     "duration": 0.006461,
     "end_time": "2024-09-10T20:05:17.295279",
     "exception": false,
     "start_time": "2024-09-10T20:05:17.288818",
     "status": "completed"
    },
    "tags": []
   },
   "outputs": [
    {
     "data": {
      "text/html": [
       "<ul>\n",
       "\n",
       "<li>description: A beta distribution function</li>\n",
       "\n",
       "<li>formula: $ f(x, a, b)=\\frac{\\Gamma(a+b) x^{a-1}(1-x)^{b-1}}{\\Gamma(a) \\Gamma(b)}$</li>\n",
       "\n",
       "<li>parameters: \n",
       "<ul>\n",
       "\n",
       "<li>a: \n",
       "<ul>\n",
       "\n",
       "<li>value: 0.5</li>\n",
       "\n",
       "<li>desc: first shape parameter</li>\n",
       "\n",
       "<li>min_value: 0.0</li>\n",
       "\n",
       "<li>max_value: None</li>\n",
       "\n",
       "<li>unit: </li>\n",
       "\n",
       "<li>is_normalization: False</li>\n",
       "\n",
       "<li>delta: 0.05</li>\n",
       "\n",
       "<li>free: True</li>\n",
       "\n",
       "</ul>\n",
       "\n",
       "</li>\n",
       "\n",
       "<li>b: \n",
       "<ul>\n",
       "\n",
       "<li>value: 0.5</li>\n",
       "\n",
       "<li>desc: second shape parameter</li>\n",
       "\n",
       "<li>min_value: 0.0</li>\n",
       "\n",
       "<li>max_value: None</li>\n",
       "\n",
       "<li>unit: </li>\n",
       "\n",
       "<li>is_normalization: False</li>\n",
       "\n",
       "<li>delta: 0.05</li>\n",
       "\n",
       "<li>free: True</li>\n",
       "\n",
       "</ul>\n",
       "\n",
       "</li>\n",
       "\n",
       "</ul>\n",
       "\n",
       "</li>\n",
       "\n",
       "</ul>\n"
      ],
      "text/plain": [
       "  * description: A beta distribution function\n",
       "  * formula: $ f(x, a, b)=\\frac{\\Gamma(a+b) x^{a-1}(1-x)^{b-1}}{\\Gamma(a) \\Gamma(b)}$\n",
       "  * parameters:\n",
       "    * a:\n",
       "      * value: 0.5\n",
       "      * desc: first shape parameter\n",
       "      * min_value: 0.0\n",
       "      * max_value: null\n",
       "      * unit: ''\n",
       "      * is_normalization: false\n",
       "      * delta: 0.05\n",
       "      * free: true\n",
       "    * b:\n",
       "      * value: 0.5\n",
       "      * desc: second shape parameter\n",
       "      * min_value: 0.0\n",
       "      * max_value: null\n",
       "      * unit: ''\n",
       "      * is_normalization: false\n",
       "      * delta: 0.05\n",
       "      * free: true"
      ]
     },
     "metadata": {},
     "output_type": "display_data"
    }
   ],
   "source": [
    "func.display()"
   ]
  },
  {
   "cell_type": "markdown",
   "id": "3be808c1",
   "metadata": {
    "papermill": {
     "duration": 0.001088,
     "end_time": "2024-09-10T20:05:17.297490",
     "exception": false,
     "start_time": "2024-09-10T20:05:17.296402",
     "status": "completed"
    },
    "tags": []
   },
   "source": [
    "## Shape \n",
    "\n",
    "The shape of the function. \n",
    "\n",
    "*If this is not a photon model but a prior or linear function then ignore the units as these docs are auto-generated*"
   ]
  },
  {
   "cell_type": "code",
   "execution_count": 6,
   "id": "23a21986",
   "metadata": {
    "execution": {
     "iopub.execute_input": "2024-09-10T20:05:17.300305Z",
     "iopub.status.busy": "2024-09-10T20:05:17.300162Z",
     "iopub.status.idle": "2024-09-10T20:05:17.399186Z",
     "shell.execute_reply": "2024-09-10T20:05:17.398810Z"
    },
    "papermill": {
     "duration": 0.102038,
     "end_time": "2024-09-10T20:05:17.400572",
     "exception": false,
     "start_time": "2024-09-10T20:05:17.298534",
     "status": "completed"
    },
    "tags": [
     "nbsphinx-thumbnail"
    ]
   },
   "outputs": [
    {
     "data": {
      "text/plain": [
       "Text(0, 0.5, 'probability')"
      ]
     },
     "execution_count": 6,
     "metadata": {},
     "output_type": "execute_result"
    },
    {
     "data": {
      "image/png": "[encoded data removed]",
      "text/plain": [
       "<Figure size 1040x910 with 1 Axes>"
      ]
     },
     "metadata": {},
     "output_type": "display_data"
    }
   ],
   "source": [
    "fig, ax = plt.subplots()\n",
    "\n",
    "\n",
    "ax.plot(energy_grid, func(energy_grid), color=blue, lw=3)\n",
    "\n",
    "ax.set_xlabel(\"x\")\n",
    "ax.set_ylabel(\"probability\")\n"
   ]
  },
  {
   "cell_type": "markdown",
   "id": "a7f536d5",
   "metadata": {
    "papermill": {
     "duration": 0.001478,
     "end_time": "2024-09-10T20:05:17.403651",
     "exception": false,
     "start_time": "2024-09-10T20:05:17.402173",
     "status": "completed"
    },
    "tags": []
   },
   "source": [
    "## Random Number Generation\n",
    "\n",
    "This is how we can generate random numbers from the prior.\n"
   ]
  },
  {
   "cell_type": "code",
   "execution_count": 7,
   "id": "d80466c6",
   "metadata": {
    "execution": {
     "iopub.execute_input": "2024-09-10T20:05:17.407072Z",
     "iopub.status.busy": "2024-09-10T20:05:17.406924Z",
     "iopub.status.idle": "2024-09-10T20:05:17.748696Z",
     "shell.execute_reply": "2024-09-10T20:05:17.748183Z"
    },
    "papermill": {
     "duration": 0.345001,
     "end_time": "2024-09-10T20:05:17.749944",
     "exception": false,
     "start_time": "2024-09-10T20:05:17.404943",
     "status": "completed"
    },
    "tags": []
   },
   "outputs": [
    {
     "data": {
      "text/plain": [
       "Text(0, 0.5, 'N')"
      ]
     },
     "execution_count": 7,
     "metadata": {},
     "output_type": "execute_result"
    },
    {
     "data": {
      "image/png": "[encoded data removed]",
      "text/plain": [
       "<Figure size 1040x910 with 1 Axes>"
      ]
     },
     "metadata": {},
     "output_type": "display_data"
    }
   ],
   "source": [
    "\n",
    "\n",
    "u = np.random.uniform(0,1, size=5000)\n",
    "\n",
    "draws = [func.from_unit_cube(x) for x in u]\n",
    "\n",
    "\n",
    "fig, ax = plt.subplots()\n",
    "\n",
    "\n",
    "ax.hist(draws, color=green, bins=50)\n",
    "\n",
    "ax.set_xlabel(\"value\")\n",
    "ax.set_ylabel(\"N\")\n",
    "\n"
   ]
  }
 ],
 "metadata": {
  "jupytext": {
   "formats": "ipynb,md"
  },
  "kernelspec": {
   "display_name": "Python 3 (ipykernel)",
   "language": "python",
   "name": "python3"
  },
  "language_info": {
   "codemirror_mode": {
    "name": "ipython",
    "version": 3
   },
   "file_extension": ".py",
   "mimetype": "text/x-python",
   "name": "python",
   "nbconvert_exporter": "python",
   "pygments_lexer": "ipython3",
   "version": "3.9.13"
  },
  "papermill": {
   "default_parameters": {},
   "duration": 2.781935,
   "end_time": "2024-09-10T20:05:18.088108",
   "environment_variables": {},
   "exception": null,
   "input_path": "Beta.ipynb",
   "output_path": "/Users/runner/work/astromodels/astromodels/docs/notebooks/Beta.ipynb",
   "parameters": {
    "func_name": "Beta",
    "positive_prior": true
   },
   "start_time": "2024-09-10T20:05:15.306173",
   "version": "2.6.0"
  }
 },
 "nbformat": 4,
 "nbformat_minor": 5
}
