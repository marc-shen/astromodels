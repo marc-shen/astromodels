{
 "cells": [
  {
   "cell_type": "markdown",
   "id": "42022ccd",
   "metadata": {
    "papermill": {
     "duration": 0.001763,
     "end_time": "2025-02-01T01:04:08.590738",
     "exception": false,
     "start_time": "2025-02-01T01:04:08.588975",
     "status": "completed"
    },
    "tags": []
   },
   "source": [
    "# Beta"
   ]
  },
  {
   "cell_type": "code",
   "execution_count": 1,
   "id": "b91f2006",
   "metadata": {
    "execution": {
     "iopub.execute_input": "2025-02-01T01:04:08.594116Z",
     "iopub.status.busy": "2025-02-01T01:04:08.593911Z",
     "iopub.status.idle": "2025-02-01T01:04:10.099411Z",
     "shell.execute_reply": "2025-02-01T01:04:10.098622Z"
    },
    "nbsphinx": "hidden",
    "papermill": {
     "duration": 1.508873,
     "end_time": "2025-02-01T01:04:10.100965",
     "exception": false,
     "start_time": "2025-02-01T01:04:08.592092",
     "status": "completed"
    },
    "tags": []
   },
   "outputs": [],
   "source": [
    "%%capture\n",
    "\n",
    "import numpy as np\n",
    "\n",
    "import matplotlib.pyplot as plt\n",
    "\n",
    "import warnings\n",
    "warnings.simplefilter(\"ignore\")\n",
    "\n",
    "from astromodels.functions.function import _known_functions\n",
    "\n",
    "\n",
    "from jupyterthemes import jtplot\n",
    "jtplot.style(context=\"talk\", fscale=1, ticks=True, grid=False)\n",
    "%matplotlib inline"
   ]
  },
  {
   "cell_type": "code",
   "execution_count": 2,
   "id": "fda4885d",
   "metadata": {
    "execution": {
     "iopub.execute_input": "2025-02-01T01:04:10.105332Z",
     "iopub.status.busy": "2025-02-01T01:04:10.104608Z",
     "iopub.status.idle": "2025-02-01T01:04:10.114027Z",
     "shell.execute_reply": "2025-02-01T01:04:10.113303Z"
    },
    "nbsphinx": "hidden",
    "papermill": {
     "duration": 0.012829,
     "end_time": "2025-02-01T01:04:10.115399",
     "exception": false,
     "start_time": "2025-02-01T01:04:10.102570",
     "status": "completed"
    },
    "tags": [
     "parameters"
    ]
   },
   "outputs": [],
   "source": [
    "func_name = \"TbAbs\"\n",
    "\n",
    "positive_prior = False\n"
   ]
  },
  {
   "cell_type": "code",
   "execution_count": 3,
   "id": "1b40e5b7",
   "metadata": {
    "execution": {
     "iopub.execute_input": "2025-02-01T01:04:10.118781Z",
     "iopub.status.busy": "2025-02-01T01:04:10.118588Z",
     "iopub.status.idle": "2025-02-01T01:04:10.120662Z",
     "shell.execute_reply": "2025-02-01T01:04:10.120263Z"
    },
    "papermill": {
     "duration": 0.005188,
     "end_time": "2025-02-01T01:04:10.121910",
     "exception": false,
     "start_time": "2025-02-01T01:04:10.116722",
     "status": "completed"
    },
    "tags": [
     "injected-parameters"
    ]
   },
   "outputs": [],
   "source": [
    "# Parameters\n",
    "func_name = \"Beta\"\n",
    "positive_prior = True\n"
   ]
  },
  {
   "cell_type": "code",
   "execution_count": 4,
   "id": "9340a1a7",
   "metadata": {
    "execution": {
     "iopub.execute_input": "2025-02-01T01:04:10.124942Z",
     "iopub.status.busy": "2025-02-01T01:04:10.124790Z",
     "iopub.status.idle": "2025-02-01T01:04:10.133891Z",
     "shell.execute_reply": "2025-02-01T01:04:10.133459Z"
    },
    "lines_to_next_cell": 0,
    "nbsphinx": "hidden",
    "papermill": {
     "duration": 0.011741,
     "end_time": "2025-02-01T01:04:10.134986",
     "exception": false,
     "start_time": "2025-02-01T01:04:10.123245",
     "status": "completed"
    },
    "tags": []
   },
   "outputs": [],
   "source": [
    "func = _known_functions[func_name]()\n",
    "\n",
    "if not positive_prior:\n",
    "\n",
    "\tenergy_grid = np.linspace(-5,5,1000)\n",
    "\n",
    "else:\n",
    "    \n",
    "    energy_grid = np.linspace(0,1,1000)\n",
    "    \n",
    "    \n",
    "    \n",
    "    \n",
    "blue = \"#4152E3\"\n",
    "red = \"#E3414B\"\n",
    "green = \"#41E39E\""
   ]
  },
  {
   "cell_type": "markdown",
   "id": "973fb879",
   "metadata": {
    "lines_to_next_cell": 0,
    "papermill": {
     "duration": 0.001046,
     "end_time": "2025-02-01T01:04:10.137268",
     "exception": false,
     "start_time": "2025-02-01T01:04:10.136222",
     "status": "completed"
    },
    "tags": []
   },
   "source": [
    "## Description"
   ]
  },
  {
   "cell_type": "code",
   "execution_count": 5,
   "id": "13a25836",
   "metadata": {
    "execution": {
     "iopub.execute_input": "2025-02-01T01:04:10.139981Z",
     "iopub.status.busy": "2025-02-01T01:04:10.139822Z",
     "iopub.status.idle": "2025-02-01T01:04:10.143833Z",
     "shell.execute_reply": "2025-02-01T01:04:10.143354Z"
    },
    "papermill": {
     "duration": 0.006744,
     "end_time": "2025-02-01T01:04:10.145029",
     "exception": false,
     "start_time": "2025-02-01T01:04:10.138285",
     "status": "completed"
    },
    "tags": []
   },
   "outputs": [
    {
     "data": {
      "text/html": [
       "<ul>\n",
       "\n",
       "<li>description: A beta distribution function</li>\n",
       "\n",
       "<li>formula: $ f(x, a, b)=\\frac{\\Gamma(a+b) x^{a-1}(1-x)^{b-1}}{\\Gamma(a) \\Gamma(b)}$</li>\n",
       "\n",
       "<li>parameters: \n",
       "<ul>\n",
       "\n",
       "<li>a: \n",
       "<ul>\n",
       "\n",
       "<li>value: 0.5</li>\n",
       "\n",
       "<li>desc: first shape parameter</li>\n",
       "\n",
       "<li>min_value: 0.0</li>\n",
       "\n",
       "<li>max_value: None</li>\n",
       "\n",
       "<li>unit: </li>\n",
       "\n",
       "<li>is_normalization: False</li>\n",
       "\n",
       "<li>delta: 0.05</li>\n",
       "\n",
       "<li>free: True</li>\n",
       "\n",
       "</ul>\n",
       "\n",
       "</li>\n",
       "\n",
       "<li>b: \n",
       "<ul>\n",
       "\n",
       "<li>value: 0.5</li>\n",
       "\n",
       "<li>desc: second shape parameter</li>\n",
       "\n",
       "<li>min_value: 0.0</li>\n",
       "\n",
       "<li>max_value: None</li>\n",
       "\n",
       "<li>unit: </li>\n",
       "\n",
       "<li>is_normalization: False</li>\n",
       "\n",
       "<li>delta: 0.05</li>\n",
       "\n",
       "<li>free: True</li>\n",
       "\n",
       "</ul>\n",
       "\n",
       "</li>\n",
       "\n",
       "</ul>\n",
       "\n",
       "</li>\n",
       "\n",
       "</ul>\n"
      ],
      "text/plain": [
       "  * description: A beta distribution function\n",
       "  * formula: $ f(x, a, b)=\\frac{\\Gamma(a+b) x^{a-1}(1-x)^{b-1}}{\\Gamma(a) \\Gamma(b)}$\n",
       "  * parameters:\n",
       "    * a:\n",
       "      * value: 0.5\n",
       "      * desc: first shape parameter\n",
       "      * min_value: 0.0\n",
       "      * max_value: null\n",
       "      * unit: ''\n",
       "      * is_normalization: false\n",
       "      * delta: 0.05\n",
       "      * free: true\n",
       "    * b:\n",
       "      * value: 0.5\n",
       "      * desc: second shape parameter\n",
       "      * min_value: 0.0\n",
       "      * max_value: null\n",
       "      * unit: ''\n",
       "      * is_normalization: false\n",
       "      * delta: 0.05\n",
       "      * free: true"
      ]
     },
     "metadata": {},
     "output_type": "display_data"
    }
   ],
   "source": [
    "func.display()"
   ]
  },
  {
   "cell_type": "markdown",
   "id": "c1c3c9fc",
   "metadata": {
    "papermill": {
     "duration": 0.001118,
     "end_time": "2025-02-01T01:04:10.147451",
     "exception": false,
     "start_time": "2025-02-01T01:04:10.146333",
     "status": "completed"
    },
    "tags": []
   },
   "source": [
    "## Shape \n",
    "\n",
    "The shape of the function. \n",
    "\n",
    "*If this is not a photon model but a prior or linear function then ignore the units as these docs are auto-generated*"
   ]
  },
  {
   "cell_type": "code",
   "execution_count": 6,
   "id": "548c2de4",
   "metadata": {
    "execution": {
     "iopub.execute_input": "2025-02-01T01:04:10.150384Z",
     "iopub.status.busy": "2025-02-01T01:04:10.150209Z",
     "iopub.status.idle": "2025-02-01T01:04:10.235419Z",
     "shell.execute_reply": "2025-02-01T01:04:10.234989Z"
    },
    "papermill": {
     "duration": 0.08794,
     "end_time": "2025-02-01T01:04:10.236517",
     "exception": false,
     "start_time": "2025-02-01T01:04:10.148577",
     "status": "completed"
    },
    "tags": [
     "nbsphinx-thumbnail"
    ]
   },
   "outputs": [
    {
     "data": {
      "text/plain": [
       "Text(0, 0.5, 'probability')"
      ]
     },
     "execution_count": 6,
     "metadata": {},
     "output_type": "execute_result"
    },
    {
     "data": {
      "image/png": "[encoded data removed]",
      "text/plain": [
       "<Figure size 1040x910 with 1 Axes>"
      ]
     },
     "metadata": {},
     "output_type": "display_data"
    }
   ],
   "source": [
    "fig, ax = plt.subplots()\n",
    "\n",
    "\n",
    "ax.plot(energy_grid, func(energy_grid), color=blue, lw=3)\n",
    "\n",
    "ax.set_xlabel(\"x\")\n",
    "ax.set_ylabel(\"probability\")\n"
   ]
  },
  {
   "cell_type": "markdown",
   "id": "6ec4dac2",
   "metadata": {
    "papermill": {
     "duration": 0.001367,
     "end_time": "2025-02-01T01:04:10.239566",
     "exception": false,
     "start_time": "2025-02-01T01:04:10.238199",
     "status": "completed"
    },
    "tags": []
   },
   "source": [
    "## Random Number Generation\n",
    "\n",
    "This is how we can generate random numbers from the prior.\n"
   ]
  },
  {
   "cell_type": "code",
   "execution_count": 7,
   "id": "5dd370ae",
   "metadata": {
    "execution": {
     "iopub.execute_input": "2025-02-01T01:04:10.243047Z",
     "iopub.status.busy": "2025-02-01T01:04:10.242883Z",
     "iopub.status.idle": "2025-02-01T01:04:10.596605Z",
     "shell.execute_reply": "2025-02-01T01:04:10.596186Z"
    },
    "papermill": {
     "duration": 0.356988,
     "end_time": "2025-02-01T01:04:10.597856",
     "exception": false,
     "start_time": "2025-02-01T01:04:10.240868",
     "status": "completed"
    },
    "tags": []
   },
   "outputs": [
    {
     "data": {
      "text/plain": [
       "Text(0, 0.5, 'N')"
      ]
     },
     "execution_count": 7,
     "metadata": {},
     "output_type": "execute_result"
    },
    {
     "data": {
      "image/png": "[encoded data removed]",
      "text/plain": [
       "<Figure size 1040x910 with 1 Axes>"
      ]
     },
     "metadata": {},
     "output_type": "display_data"
    }
   ],
   "source": [
    "\n",
    "\n",
    "u = np.random.uniform(0,1, size=5000)\n",
    "\n",
    "draws = [func.from_unit_cube(x) for x in u]\n",
    "\n",
    "\n",
    "fig, ax = plt.subplots()\n",
    "\n",
    "\n",
    "ax.hist(draws, color=green, bins=50)\n",
    "\n",
    "ax.set_xlabel(\"value\")\n",
    "ax.set_ylabel(\"N\")\n",
    "\n"
   ]
  }
 ],
 "metadata": {
  "jupytext": {
   "formats": "ipynb,md"
  },
  "kernelspec": {
   "display_name": "Python 3 (ipykernel)",
   "language": "python",
   "name": "python3"
  },
  "language_info": {
   "codemirror_mode": {
    "name": "ipython",
    "version": 3
   },
   "file_extension": ".py",
   "mimetype": "text/x-python",
   "name": "python",
   "nbconvert_exporter": "python",
   "pygments_lexer": "ipython3",
   "version": "3.9.13"
  },
  "papermill": {
   "default_parameters": {},
   "duration": 3.174317,
   "end_time": "2025-02-01T01:04:11.031457",
   "environment_variables": {},
   "exception": null,
   "input_path": "Beta.ipynb",
   "output_path": "/Users/runner/work/astromodels/astromodels/docs/notebooks/Beta.ipynb",
   "parameters": {
    "func_name": "Beta",
    "positive_prior": true
   },
   "start_time": "2025-02-01T01:04:07.857140",
   "version": "2.6.0"
  }
 },
 "nbformat": 4,
 "nbformat_minor": 5
}
