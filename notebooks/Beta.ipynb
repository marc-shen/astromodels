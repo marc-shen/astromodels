{
 "cells": [
  {
   "cell_type": "markdown",
   "id": "84f529a5",
   "metadata": {
    "papermill": {
     "duration": 0.009301,
     "end_time": "2025-04-26T01:25:10.194216",
     "exception": false,
     "start_time": "2025-04-26T01:25:10.184915",
     "status": "completed"
    },
    "tags": []
   },
   "source": [
    "# Beta"
   ]
  },
  {
   "cell_type": "code",
   "execution_count": 1,
   "id": "3053e188",
   "metadata": {
    "execution": {
     "iopub.execute_input": "2025-04-26T01:25:10.208802Z",
     "iopub.status.busy": "2025-04-26T01:25:10.208093Z",
     "iopub.status.idle": "2025-04-26T01:25:11.605526Z",
     "shell.execute_reply": "2025-04-26T01:25:11.605057Z"
    },
    "nbsphinx": "hidden",
    "papermill": {
     "duration": 1.405829,
     "end_time": "2025-04-26T01:25:11.606800",
     "exception": false,
     "start_time": "2025-04-26T01:25:10.200971",
     "status": "completed"
    },
    "tags": []
   },
   "outputs": [],
   "source": [
    "%%capture\n",
    "\n",
    "import numpy as np\n",
    "\n",
    "import matplotlib.pyplot as plt\n",
    "\n",
    "import warnings\n",
    "warnings.simplefilter(\"ignore\")\n",
    "\n",
    "from astromodels.functions.function import _known_functions\n",
    "\n",
    "\n",
    "from jupyterthemes import jtplot\n",
    "jtplot.style(context=\"talk\", fscale=1, ticks=True, grid=False)\n",
    "%matplotlib inline"
   ]
  },
  {
   "cell_type": "code",
   "execution_count": 2,
   "id": "ca3656d3",
   "metadata": {
    "execution": {
     "iopub.execute_input": "2025-04-26T01:25:11.609848Z",
     "iopub.status.busy": "2025-04-26T01:25:11.609525Z",
     "iopub.status.idle": "2025-04-26T01:25:11.617796Z",
     "shell.execute_reply": "2025-04-26T01:25:11.617392Z"
    },
    "nbsphinx": "hidden",
    "papermill": {
     "duration": 0.010892,
     "end_time": "2025-04-26T01:25:11.618923",
     "exception": false,
     "start_time": "2025-04-26T01:25:11.608031",
     "status": "completed"
    },
    "tags": [
     "parameters"
    ]
   },
   "outputs": [],
   "source": [
    "func_name = \"TbAbs\"\n",
    "\n",
    "positive_prior = False\n"
   ]
  },
  {
   "cell_type": "code",
   "execution_count": 3,
   "id": "64a00898",
   "metadata": {
    "execution": {
     "iopub.execute_input": "2025-04-26T01:25:11.621429Z",
     "iopub.status.busy": "2025-04-26T01:25:11.621293Z",
     "iopub.status.idle": "2025-04-26T01:25:11.629335Z",
     "shell.execute_reply": "2025-04-26T01:25:11.628974Z"
    },
    "papermill": {
     "duration": 0.010487,
     "end_time": "2025-04-26T01:25:11.630418",
     "exception": false,
     "start_time": "2025-04-26T01:25:11.619931",
     "status": "completed"
    },
    "tags": [
     "injected-parameters"
    ]
   },
   "outputs": [],
   "source": [
    "# Parameters\n",
    "func_name = \"Beta\"\n",
    "positive_prior = True\n"
   ]
  },
  {
   "cell_type": "code",
   "execution_count": 4,
   "id": "79c2adbc",
   "metadata": {
    "execution": {
     "iopub.execute_input": "2025-04-26T01:25:11.633112Z",
     "iopub.status.busy": "2025-04-26T01:25:11.632976Z",
     "iopub.status.idle": "2025-04-26T01:25:11.635742Z",
     "shell.execute_reply": "2025-04-26T01:25:11.635351Z"
    },
    "lines_to_next_cell": 0,
    "nbsphinx": "hidden",
    "papermill": {
     "duration": 0.005246,
     "end_time": "2025-04-26T01:25:11.636739",
     "exception": false,
     "start_time": "2025-04-26T01:25:11.631493",
     "status": "completed"
    },
    "tags": []
   },
   "outputs": [],
   "source": [
    "func = _known_functions[func_name]()\n",
    "\n",
    "if not positive_prior:\n",
    "\n",
    "\tenergy_grid = np.linspace(-5,5,1000)\n",
    "\n",
    "else:\n",
    "    \n",
    "    energy_grid = np.linspace(0,1,1000)\n",
    "    \n",
    "    \n",
    "    \n",
    "    \n",
    "blue = \"#4152E3\"\n",
    "red = \"#E3414B\"\n",
    "green = \"#41E39E\""
   ]
  },
  {
   "cell_type": "markdown",
   "id": "c609f69b",
   "metadata": {
    "lines_to_next_cell": 0,
    "papermill": {
     "duration": 0.001004,
     "end_time": "2025-04-26T01:25:11.638724",
     "exception": false,
     "start_time": "2025-04-26T01:25:11.637720",
     "status": "completed"
    },
    "tags": []
   },
   "source": [
    "## Description"
   ]
  },
  {
   "cell_type": "code",
   "execution_count": 5,
   "id": "b0365c3e",
   "metadata": {
    "execution": {
     "iopub.execute_input": "2025-04-26T01:25:11.641286Z",
     "iopub.status.busy": "2025-04-26T01:25:11.641146Z",
     "iopub.status.idle": "2025-04-26T01:25:11.644661Z",
     "shell.execute_reply": "2025-04-26T01:25:11.644230Z"
    },
    "papermill": {
     "duration": 0.005992,
     "end_time": "2025-04-26T01:25:11.645686",
     "exception": false,
     "start_time": "2025-04-26T01:25:11.639694",
     "status": "completed"
    },
    "tags": []
   },
   "outputs": [
    {
     "data": {
      "text/html": [
       "<ul>\n",
       "\n",
       "<li>description: A beta distribution function</li>\n",
       "\n",
       "<li>formula: $ f(x, a, b)=\\frac{\\Gamma(a+b) x^{a-1}(1-x)^{b-1}}{\\Gamma(a) \\Gamma(b)}$</li>\n",
       "\n",
       "<li>parameters: \n",
       "<ul>\n",
       "\n",
       "<li>a: \n",
       "<ul>\n",
       "\n",
       "<li>value: 0.5</li>\n",
       "\n",
       "<li>desc: first shape parameter</li>\n",
       "\n",
       "<li>min_value: 0.0</li>\n",
       "\n",
       "<li>max_value: None</li>\n",
       "\n",
       "<li>unit: </li>\n",
       "\n",
       "<li>is_normalization: False</li>\n",
       "\n",
       "<li>delta: 0.05</li>\n",
       "\n",
       "<li>free: True</li>\n",
       "\n",
       "</ul>\n",
       "\n",
       "</li>\n",
       "\n",
       "<li>b: \n",
       "<ul>\n",
       "\n",
       "<li>value: 0.5</li>\n",
       "\n",
       "<li>desc: second shape parameter</li>\n",
       "\n",
       "<li>min_value: 0.0</li>\n",
       "\n",
       "<li>max_value: None</li>\n",
       "\n",
       "<li>unit: </li>\n",
       "\n",
       "<li>is_normalization: False</li>\n",
       "\n",
       "<li>delta: 0.05</li>\n",
       "\n",
       "<li>free: True</li>\n",
       "\n",
       "</ul>\n",
       "\n",
       "</li>\n",
       "\n",
       "</ul>\n",
       "\n",
       "</li>\n",
       "\n",
       "</ul>\n"
      ],
      "text/plain": [
       "  * description: A beta distribution function\n",
       "  * formula: $ f(x, a, b)=\\frac{\\Gamma(a+b) x^{a-1}(1-x)^{b-1}}{\\Gamma(a) \\Gamma(b)}$\n",
       "  * parameters:\n",
       "    * a:\n",
       "      * value: 0.5\n",
       "      * desc: first shape parameter\n",
       "      * min_value: 0.0\n",
       "      * max_value: null\n",
       "      * unit: ''\n",
       "      * is_normalization: false\n",
       "      * delta: 0.05\n",
       "      * free: true\n",
       "    * b:\n",
       "      * value: 0.5\n",
       "      * desc: second shape parameter\n",
       "      * min_value: 0.0\n",
       "      * max_value: null\n",
       "      * unit: ''\n",
       "      * is_normalization: false\n",
       "      * delta: 0.05\n",
       "      * free: true"
      ]
     },
     "metadata": {},
     "output_type": "display_data"
    }
   ],
   "source": [
    "func.display()"
   ]
  },
  {
   "cell_type": "markdown",
   "id": "09a409e0",
   "metadata": {
    "papermill": {
     "duration": 0.001073,
     "end_time": "2025-04-26T01:25:11.647899",
     "exception": false,
     "start_time": "2025-04-26T01:25:11.646826",
     "status": "completed"
    },
    "tags": []
   },
   "source": [
    "## Shape \n",
    "\n",
    "The shape of the function. \n",
    "\n",
    "*If this is not a photon model but a prior or linear function then ignore the units as these docs are auto-generated*"
   ]
  },
  {
   "cell_type": "code",
   "execution_count": 6,
   "id": "5cf66172",
   "metadata": {
    "execution": {
     "iopub.execute_input": "2025-04-26T01:25:11.650575Z",
     "iopub.status.busy": "2025-04-26T01:25:11.650427Z",
     "iopub.status.idle": "2025-04-26T01:25:11.724771Z",
     "shell.execute_reply": "2025-04-26T01:25:11.724447Z"
    },
    "papermill": {
     "duration": 0.077041,
     "end_time": "2025-04-26T01:25:11.725982",
     "exception": false,
     "start_time": "2025-04-26T01:25:11.648941",
     "status": "completed"
    },
    "tags": [
     "nbsphinx-thumbnail"
    ]
   },
   "outputs": [
    {
     "data": {
      "text/plain": [
       "Text(0, 0.5, 'probability')"
      ]
     },
     "execution_count": 6,
     "metadata": {},
     "output_type": "execute_result"
    },
    {
     "data": {
      "image/png": "[encoded data removed]",
      "text/plain": [
       "<Figure size 1040x910 with 1 Axes>"
      ]
     },
     "metadata": {},
     "output_type": "display_data"
    }
   ],
   "source": [
    "fig, ax = plt.subplots()\n",
    "\n",
    "\n",
    "ax.plot(energy_grid, func(energy_grid), color=blue, lw=3)\n",
    "\n",
    "ax.set_xlabel(\"x\")\n",
    "ax.set_ylabel(\"probability\")\n"
   ]
  },
  {
   "cell_type": "markdown",
   "id": "96298027",
   "metadata": {
    "papermill": {
     "duration": 0.001356,
     "end_time": "2025-04-26T01:25:11.728945",
     "exception": false,
     "start_time": "2025-04-26T01:25:11.727589",
     "status": "completed"
    },
    "tags": []
   },
   "source": [
    "## Random Number Generation\n",
    "\n",
    "This is how we can generate random numbers from the prior.\n"
   ]
  },
  {
   "cell_type": "code",
   "execution_count": 7,
   "id": "4b8afd49",
   "metadata": {
    "execution": {
     "iopub.execute_input": "2025-04-26T01:25:11.732203Z",
     "iopub.status.busy": "2025-04-26T01:25:11.732062Z",
     "iopub.status.idle": "2025-04-26T01:25:12.055000Z",
     "shell.execute_reply": "2025-04-26T01:25:12.054438Z"
    },
    "papermill": {
     "duration": 0.325836,
     "end_time": "2025-04-26T01:25:12.056060",
     "exception": false,
     "start_time": "2025-04-26T01:25:11.730224",
     "status": "completed"
    },
    "tags": []
   },
   "outputs": [
    {
     "data": {
      "text/plain": [
       "Text(0, 0.5, 'N')"
      ]
     },
     "execution_count": 7,
     "metadata": {},
     "output_type": "execute_result"
    },
    {
     "data": {
      "image/png": "[encoded data removed]",
      "text/plain": [
       "<Figure size 1040x910 with 1 Axes>"
      ]
     },
     "metadata": {},
     "output_type": "display_data"
    }
   ],
   "source": [
    "\n",
    "\n",
    "u = np.random.uniform(0,1, size=5000)\n",
    "\n",
    "draws = [func.from_unit_cube(x) for x in u]\n",
    "\n",
    "\n",
    "fig, ax = plt.subplots()\n",
    "\n",
    "\n",
    "ax.hist(draws, color=green, bins=50)\n",
    "\n",
    "ax.set_xlabel(\"value\")\n",
    "ax.set_ylabel(\"N\")\n",
    "\n"
   ]
  }
 ],
 "metadata": {
  "jupytext": {
   "formats": "ipynb,md"
  },
  "kernelspec": {
   "display_name": "Python 3 (ipykernel)",
   "language": "python",
   "name": "python3"
  },
  "language_info": {
   "codemirror_mode": {
    "name": "ipython",
    "version": 3
   },
   "file_extension": ".py",
   "mimetype": "text/x-python",
   "name": "python",
   "nbconvert_exporter": "python",
   "pygments_lexer": "ipython3",
   "version": "3.9.13"
  },
  "papermill": {
   "default_parameters": {},
   "duration": 2.779949,
   "end_time": "2025-04-26T01:25:12.396662",
   "environment_variables": {},
   "exception": null,
   "input_path": "Beta.ipynb",
   "output_path": "/Users/runner/work/astromodels/astromodels/docs/notebooks/Beta.ipynb",
   "parameters": {
    "func_name": "Beta",
    "positive_prior": true
   },
   "start_time": "2025-04-26T01:25:09.616713",
   "version": "2.6.0"
  }
 },
 "nbformat": 4,
 "nbformat_minor": 5
}
