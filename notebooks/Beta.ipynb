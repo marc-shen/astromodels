{
 "cells": [
  {
   "cell_type": "markdown",
   "id": "949f7452",
   "metadata": {
    "papermill": {
     "duration": 0.009893,
     "end_time": "2024-09-10T20:23:56.641948",
     "exception": false,
     "start_time": "2024-09-10T20:23:56.632055",
     "status": "completed"
    },
    "tags": []
   },
   "source": [
    "# Beta"
   ]
  },
  {
   "cell_type": "code",
   "execution_count": 1,
   "id": "8292f592",
   "metadata": {
    "execution": {
     "iopub.execute_input": "2024-09-10T20:23:56.653452Z",
     "iopub.status.busy": "2024-09-10T20:23:56.652859Z",
     "iopub.status.idle": "2024-09-10T20:23:58.058475Z",
     "shell.execute_reply": "2024-09-10T20:23:58.057946Z"
    },
    "nbsphinx": "hidden",
    "papermill": {
     "duration": 1.412975,
     "end_time": "2024-09-10T20:23:58.060089",
     "exception": false,
     "start_time": "2024-09-10T20:23:56.647114",
     "status": "completed"
    },
    "tags": []
   },
   "outputs": [],
   "source": [
    "%%capture\n",
    "\n",
    "import numpy as np\n",
    "\n",
    "import matplotlib.pyplot as plt\n",
    "\n",
    "import warnings\n",
    "warnings.simplefilter(\"ignore\")\n",
    "\n",
    "from astromodels.functions.function import _known_functions\n",
    "\n",
    "\n",
    "from jupyterthemes import jtplot\n",
    "jtplot.style(context=\"talk\", fscale=1, ticks=True, grid=False)\n",
    "%matplotlib inline"
   ]
  },
  {
   "cell_type": "code",
   "execution_count": 2,
   "id": "607fc433",
   "metadata": {
    "execution": {
     "iopub.execute_input": "2024-09-10T20:23:58.063144Z",
     "iopub.status.busy": "2024-09-10T20:23:58.062820Z",
     "iopub.status.idle": "2024-09-10T20:23:58.071143Z",
     "shell.execute_reply": "2024-09-10T20:23:58.070743Z"
    },
    "nbsphinx": "hidden",
    "papermill": {
     "duration": 0.011218,
     "end_time": "2024-09-10T20:23:58.072493",
     "exception": false,
     "start_time": "2024-09-10T20:23:58.061275",
     "status": "completed"
    },
    "tags": [
     "parameters"
    ]
   },
   "outputs": [],
   "source": [
    "func_name = \"TbAbs\"\n",
    "\n",
    "positive_prior = False\n"
   ]
  },
  {
   "cell_type": "code",
   "execution_count": 3,
   "id": "fdc97790",
   "metadata": {
    "execution": {
     "iopub.execute_input": "2024-09-10T20:23:58.075118Z",
     "iopub.status.busy": "2024-09-10T20:23:58.074976Z",
     "iopub.status.idle": "2024-09-10T20:23:58.076862Z",
     "shell.execute_reply": "2024-09-10T20:23:58.076475Z"
    },
    "papermill": {
     "duration": 0.004615,
     "end_time": "2024-09-10T20:23:58.078131",
     "exception": false,
     "start_time": "2024-09-10T20:23:58.073516",
     "status": "completed"
    },
    "tags": [
     "injected-parameters"
    ]
   },
   "outputs": [],
   "source": [
    "# Parameters\n",
    "func_name = \"Beta\"\n",
    "positive_prior = True\n"
   ]
  },
  {
   "cell_type": "code",
   "execution_count": 4,
   "id": "f04ae410",
   "metadata": {
    "execution": {
     "iopub.execute_input": "2024-09-10T20:23:58.080793Z",
     "iopub.status.busy": "2024-09-10T20:23:58.080661Z",
     "iopub.status.idle": "2024-09-10T20:23:58.083332Z",
     "shell.execute_reply": "2024-09-10T20:23:58.082967Z"
    },
    "lines_to_next_cell": 0,
    "nbsphinx": "hidden",
    "papermill": {
     "duration": 0.005475,
     "end_time": "2024-09-10T20:23:58.084670",
     "exception": false,
     "start_time": "2024-09-10T20:23:58.079195",
     "status": "completed"
    },
    "tags": []
   },
   "outputs": [],
   "source": [
    "func = _known_functions[func_name]()\n",
    "\n",
    "if not positive_prior:\n",
    "\n",
    "\tenergy_grid = np.linspace(-5,5,1000)\n",
    "\n",
    "else:\n",
    "    \n",
    "    energy_grid = np.linspace(0,1,1000)\n",
    "    \n",
    "    \n",
    "    \n",
    "    \n",
    "blue = \"#4152E3\"\n",
    "red = \"#E3414B\"\n",
    "green = \"#41E39E\""
   ]
  },
  {
   "cell_type": "markdown",
   "id": "3ad6a192",
   "metadata": {
    "lines_to_next_cell": 0,
    "papermill": {
     "duration": 0.000967,
     "end_time": "2024-09-10T20:23:58.086623",
     "exception": false,
     "start_time": "2024-09-10T20:23:58.085656",
     "status": "completed"
    },
    "tags": []
   },
   "source": [
    "## Description"
   ]
  },
  {
   "cell_type": "code",
   "execution_count": 5,
   "id": "b8ffac93",
   "metadata": {
    "execution": {
     "iopub.execute_input": "2024-09-10T20:23:58.089100Z",
     "iopub.status.busy": "2024-09-10T20:23:58.088966Z",
     "iopub.status.idle": "2024-09-10T20:23:58.092537Z",
     "shell.execute_reply": "2024-09-10T20:23:58.092095Z"
    },
    "papermill": {
     "duration": 0.006304,
     "end_time": "2024-09-10T20:23:58.093836",
     "exception": false,
     "start_time": "2024-09-10T20:23:58.087532",
     "status": "completed"
    },
    "tags": []
   },
   "outputs": [
    {
     "data": {
      "text/html": [
       "<ul>\n",
       "\n",
       "<li>description: A beta distribution function</li>\n",
       "\n",
       "<li>formula: $ f(x, a, b)=\\frac{\\Gamma(a+b) x^{a-1}(1-x)^{b-1}}{\\Gamma(a) \\Gamma(b)}$</li>\n",
       "\n",
       "<li>parameters: \n",
       "<ul>\n",
       "\n",
       "<li>a: \n",
       "<ul>\n",
       "\n",
       "<li>value: 0.5</li>\n",
       "\n",
       "<li>desc: first shape parameter</li>\n",
       "\n",
       "<li>min_value: 0.0</li>\n",
       "\n",
       "<li>max_value: None</li>\n",
       "\n",
       "<li>unit: </li>\n",
       "\n",
       "<li>is_normalization: False</li>\n",
       "\n",
       "<li>delta: 0.05</li>\n",
       "\n",
       "<li>free: True</li>\n",
       "\n",
       "</ul>\n",
       "\n",
       "</li>\n",
       "\n",
       "<li>b: \n",
       "<ul>\n",
       "\n",
       "<li>value: 0.5</li>\n",
       "\n",
       "<li>desc: second shape parameter</li>\n",
       "\n",
       "<li>min_value: 0.0</li>\n",
       "\n",
       "<li>max_value: None</li>\n",
       "\n",
       "<li>unit: </li>\n",
       "\n",
       "<li>is_normalization: False</li>\n",
       "\n",
       "<li>delta: 0.05</li>\n",
       "\n",
       "<li>free: True</li>\n",
       "\n",
       "</ul>\n",
       "\n",
       "</li>\n",
       "\n",
       "</ul>\n",
       "\n",
       "</li>\n",
       "\n",
       "</ul>\n"
      ],
      "text/plain": [
       "  * description: A beta distribution function\n",
       "  * formula: $ f(x, a, b)=\\frac{\\Gamma(a+b) x^{a-1}(1-x)^{b-1}}{\\Gamma(a) \\Gamma(b)}$\n",
       "  * parameters:\n",
       "    * a:\n",
       "      * value: 0.5\n",
       "      * desc: first shape parameter\n",
       "      * min_value: 0.0\n",
       "      * max_value: null\n",
       "      * unit: ''\n",
       "      * is_normalization: false\n",
       "      * delta: 0.05\n",
       "      * free: true\n",
       "    * b:\n",
       "      * value: 0.5\n",
       "      * desc: second shape parameter\n",
       "      * min_value: 0.0\n",
       "      * max_value: null\n",
       "      * unit: ''\n",
       "      * is_normalization: false\n",
       "      * delta: 0.05\n",
       "      * free: true"
      ]
     },
     "metadata": {},
     "output_type": "display_data"
    }
   ],
   "source": [
    "func.display()"
   ]
  },
  {
   "cell_type": "markdown",
   "id": "6e09ee09",
   "metadata": {
    "papermill": {
     "duration": 0.00112,
     "end_time": "2024-09-10T20:23:58.096068",
     "exception": false,
     "start_time": "2024-09-10T20:23:58.094948",
     "status": "completed"
    },
    "tags": []
   },
   "source": [
    "## Shape \n",
    "\n",
    "The shape of the function. \n",
    "\n",
    "*If this is not a photon model but a prior or linear function then ignore the units as these docs are auto-generated*"
   ]
  },
  {
   "cell_type": "code",
   "execution_count": 6,
   "id": "bdf12d4f",
   "metadata": {
    "execution": {
     "iopub.execute_input": "2024-09-10T20:23:58.098777Z",
     "iopub.status.busy": "2024-09-10T20:23:58.098634Z",
     "iopub.status.idle": "2024-09-10T20:23:58.198391Z",
     "shell.execute_reply": "2024-09-10T20:23:58.197866Z"
    },
    "papermill": {
     "duration": 0.10252,
     "end_time": "2024-09-10T20:23:58.199620",
     "exception": false,
     "start_time": "2024-09-10T20:23:58.097100",
     "status": "completed"
    },
    "tags": [
     "nbsphinx-thumbnail"
    ]
   },
   "outputs": [
    {
     "data": {
      "text/plain": [
       "Text(0, 0.5, 'probability')"
      ]
     },
     "execution_count": 6,
     "metadata": {},
     "output_type": "execute_result"
    },
    {
     "data": {
      "image/png": "[encoded data removed]",
      "text/plain": [
       "<Figure size 1040x910 with 1 Axes>"
      ]
     },
     "metadata": {},
     "output_type": "display_data"
    }
   ],
   "source": [
    "fig, ax = plt.subplots()\n",
    "\n",
    "\n",
    "ax.plot(energy_grid, func(energy_grid), color=blue, lw=3)\n",
    "\n",
    "ax.set_xlabel(\"x\")\n",
    "ax.set_ylabel(\"probability\")\n"
   ]
  },
  {
   "cell_type": "markdown",
   "id": "6e4eb9bc",
   "metadata": {
    "papermill": {
     "duration": 0.001347,
     "end_time": "2024-09-10T20:23:58.202544",
     "exception": false,
     "start_time": "2024-09-10T20:23:58.201197",
     "status": "completed"
    },
    "tags": []
   },
   "source": [
    "## Random Number Generation\n",
    "\n",
    "This is how we can generate random numbers from the prior.\n"
   ]
  },
  {
   "cell_type": "code",
   "execution_count": 7,
   "id": "37c3bf08",
   "metadata": {
    "execution": {
     "iopub.execute_input": "2024-09-10T20:23:58.205803Z",
     "iopub.status.busy": "2024-09-10T20:23:58.205658Z",
     "iopub.status.idle": "2024-09-10T20:23:58.539234Z",
     "shell.execute_reply": "2024-09-10T20:23:58.538909Z"
    },
    "papermill": {
     "duration": 0.336875,
     "end_time": "2024-09-10T20:23:58.540704",
     "exception": false,
     "start_time": "2024-09-10T20:23:58.203829",
     "status": "completed"
    },
    "tags": []
   },
   "outputs": [
    {
     "data": {
      "text/plain": [
       "Text(0, 0.5, 'N')"
      ]
     },
     "execution_count": 7,
     "metadata": {},
     "output_type": "execute_result"
    },
    {
     "data": {
      "image/png": "[encoded data removed]",
      "text/plain": [
       "<Figure size 1040x910 with 1 Axes>"
      ]
     },
     "metadata": {},
     "output_type": "display_data"
    }
   ],
   "source": [
    "\n",
    "\n",
    "u = np.random.uniform(0,1, size=5000)\n",
    "\n",
    "draws = [func.from_unit_cube(x) for x in u]\n",
    "\n",
    "\n",
    "fig, ax = plt.subplots()\n",
    "\n",
    "\n",
    "ax.hist(draws, color=green, bins=50)\n",
    "\n",
    "ax.set_xlabel(\"value\")\n",
    "ax.set_ylabel(\"N\")\n",
    "\n"
   ]
  }
 ],
 "metadata": {
  "jupytext": {
   "formats": "ipynb,md"
  },
  "kernelspec": {
   "display_name": "Python 3 (ipykernel)",
   "language": "python",
   "name": "python3"
  },
  "language_info": {
   "codemirror_mode": {
    "name": "ipython",
    "version": 3
   },
   "file_extension": ".py",
   "mimetype": "text/x-python",
   "name": "python",
   "nbconvert_exporter": "python",
   "pygments_lexer": "ipython3",
   "version": "3.9.13"
  },
  "papermill": {
   "default_parameters": {},
   "duration": 2.746828,
   "end_time": "2024-09-10T20:23:58.872024",
   "environment_variables": {},
   "exception": null,
   "input_path": "Beta.ipynb",
   "output_path": "/Users/runner/work/astromodels/astromodels/docs/notebooks/Beta.ipynb",
   "parameters": {
    "func_name": "Beta",
    "positive_prior": true
   },
   "start_time": "2024-09-10T20:23:56.125196",
   "version": "2.6.0"
  }
 },
 "nbformat": 4,
 "nbformat_minor": 5
}
