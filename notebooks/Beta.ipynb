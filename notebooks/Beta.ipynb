{
 "cells": [
  {
   "cell_type": "markdown",
   "id": "3d70cab1",
   "metadata": {
    "papermill": {
     "duration": 0.009786,
     "end_time": "2024-09-09T18:56:32.070128",
     "exception": false,
     "start_time": "2024-09-09T18:56:32.060342",
     "status": "completed"
    },
    "tags": []
   },
   "source": [
    "# Beta"
   ]
  },
  {
   "cell_type": "code",
   "execution_count": 1,
   "id": "7bf997a5",
   "metadata": {
    "execution": {
     "iopub.execute_input": "2024-09-09T18:56:32.085690Z",
     "iopub.status.busy": "2024-09-09T18:56:32.084840Z",
     "iopub.status.idle": "2024-09-09T18:56:33.496368Z",
     "shell.execute_reply": "2024-09-09T18:56:33.495788Z"
    },
    "nbsphinx": "hidden",
    "papermill": {
     "duration": 1.42051,
     "end_time": "2024-09-09T18:56:33.497835",
     "exception": false,
     "start_time": "2024-09-09T18:56:32.077325",
     "status": "completed"
    },
    "tags": []
   },
   "outputs": [],
   "source": [
    "%%capture\n",
    "\n",
    "import numpy as np\n",
    "\n",
    "import matplotlib.pyplot as plt\n",
    "\n",
    "import warnings\n",
    "warnings.simplefilter(\"ignore\")\n",
    "\n",
    "from astromodels.functions.function import _known_functions\n",
    "\n",
    "\n",
    "from jupyterthemes import jtplot\n",
    "jtplot.style(context=\"talk\", fscale=1, ticks=True, grid=False)\n",
    "%matplotlib inline"
   ]
  },
  {
   "cell_type": "code",
   "execution_count": 2,
   "id": "925e2407",
   "metadata": {
    "execution": {
     "iopub.execute_input": "2024-09-09T18:56:33.500921Z",
     "iopub.status.busy": "2024-09-09T18:56:33.500591Z",
     "iopub.status.idle": "2024-09-09T18:56:33.508772Z",
     "shell.execute_reply": "2024-09-09T18:56:33.508414Z"
    },
    "nbsphinx": "hidden",
    "papermill": {
     "duration": 0.011025,
     "end_time": "2024-09-09T18:56:33.510043",
     "exception": false,
     "start_time": "2024-09-09T18:56:33.499018",
     "status": "completed"
    },
    "tags": [
     "parameters"
    ]
   },
   "outputs": [],
   "source": [
    "func_name = \"TbAbs\"\n",
    "\n",
    "positive_prior = False\n"
   ]
  },
  {
   "cell_type": "code",
   "execution_count": 3,
   "id": "c84dcf0e",
   "metadata": {
    "execution": {
     "iopub.execute_input": "2024-09-09T18:56:33.512588Z",
     "iopub.status.busy": "2024-09-09T18:56:33.512448Z",
     "iopub.status.idle": "2024-09-09T18:56:33.519937Z",
     "shell.execute_reply": "2024-09-09T18:56:33.519577Z"
    },
    "papermill": {
     "duration": 0.010132,
     "end_time": "2024-09-09T18:56:33.521166",
     "exception": false,
     "start_time": "2024-09-09T18:56:33.511034",
     "status": "completed"
    },
    "tags": [
     "injected-parameters"
    ]
   },
   "outputs": [],
   "source": [
    "# Parameters\n",
    "func_name = \"Beta\"\n",
    "positive_prior = True\n"
   ]
  },
  {
   "cell_type": "code",
   "execution_count": 4,
   "id": "6825d975",
   "metadata": {
    "execution": {
     "iopub.execute_input": "2024-09-09T18:56:33.523859Z",
     "iopub.status.busy": "2024-09-09T18:56:33.523723Z",
     "iopub.status.idle": "2024-09-09T18:56:33.532611Z",
     "shell.execute_reply": "2024-09-09T18:56:33.532253Z"
    },
    "lines_to_next_cell": 0,
    "nbsphinx": "hidden",
    "papermill": {
     "duration": 0.011605,
     "end_time": "2024-09-09T18:56:33.533849",
     "exception": false,
     "start_time": "2024-09-09T18:56:33.522244",
     "status": "completed"
    },
    "tags": []
   },
   "outputs": [],
   "source": [
    "func = _known_functions[func_name]()\n",
    "\n",
    "if not positive_prior:\n",
    "\n",
    "\tenergy_grid = np.linspace(-5,5,1000)\n",
    "\n",
    "else:\n",
    "    \n",
    "    energy_grid = np.linspace(0,1,1000)\n",
    "    \n",
    "    \n",
    "    \n",
    "    \n",
    "blue = \"#4152E3\"\n",
    "red = \"#E3414B\"\n",
    "green = \"#41E39E\""
   ]
  },
  {
   "cell_type": "markdown",
   "id": "c6363a33",
   "metadata": {
    "lines_to_next_cell": 0,
    "papermill": {
     "duration": 0.000976,
     "end_time": "2024-09-09T18:56:33.535841",
     "exception": false,
     "start_time": "2024-09-09T18:56:33.534865",
     "status": "completed"
    },
    "tags": []
   },
   "source": [
    "## Description"
   ]
  },
  {
   "cell_type": "code",
   "execution_count": 5,
   "id": "aba48f1b",
   "metadata": {
    "execution": {
     "iopub.execute_input": "2024-09-09T18:56:33.538339Z",
     "iopub.status.busy": "2024-09-09T18:56:33.538198Z",
     "iopub.status.idle": "2024-09-09T18:56:33.541855Z",
     "shell.execute_reply": "2024-09-09T18:56:33.541416Z"
    },
    "papermill": {
     "duration": 0.006331,
     "end_time": "2024-09-09T18:56:33.543112",
     "exception": false,
     "start_time": "2024-09-09T18:56:33.536781",
     "status": "completed"
    },
    "tags": []
   },
   "outputs": [
    {
     "data": {
      "text/html": [
       "<ul>\n",
       "\n",
       "<li>description: A beta distribution function</li>\n",
       "\n",
       "<li>formula: $ f(x, a, b)=\\frac{\\Gamma(a+b) x^{a-1}(1-x)^{b-1}}{\\Gamma(a) \\Gamma(b)}$</li>\n",
       "\n",
       "<li>parameters: \n",
       "<ul>\n",
       "\n",
       "<li>a: \n",
       "<ul>\n",
       "\n",
       "<li>value: 0.5</li>\n",
       "\n",
       "<li>desc: first shape parameter</li>\n",
       "\n",
       "<li>min_value: 0.0</li>\n",
       "\n",
       "<li>max_value: None</li>\n",
       "\n",
       "<li>unit: </li>\n",
       "\n",
       "<li>is_normalization: False</li>\n",
       "\n",
       "<li>delta: 0.05</li>\n",
       "\n",
       "<li>free: True</li>\n",
       "\n",
       "</ul>\n",
       "\n",
       "</li>\n",
       "\n",
       "<li>b: \n",
       "<ul>\n",
       "\n",
       "<li>value: 0.5</li>\n",
       "\n",
       "<li>desc: second shape parameter</li>\n",
       "\n",
       "<li>min_value: 0.0</li>\n",
       "\n",
       "<li>max_value: None</li>\n",
       "\n",
       "<li>unit: </li>\n",
       "\n",
       "<li>is_normalization: False</li>\n",
       "\n",
       "<li>delta: 0.05</li>\n",
       "\n",
       "<li>free: True</li>\n",
       "\n",
       "</ul>\n",
       "\n",
       "</li>\n",
       "\n",
       "</ul>\n",
       "\n",
       "</li>\n",
       "\n",
       "</ul>\n"
      ],
      "text/plain": [
       "  * description: A beta distribution function\n",
       "  * formula: $ f(x, a, b)=\\frac{\\Gamma(a+b) x^{a-1}(1-x)^{b-1}}{\\Gamma(a) \\Gamma(b)}$\n",
       "  * parameters:\n",
       "    * a:\n",
       "      * value: 0.5\n",
       "      * desc: first shape parameter\n",
       "      * min_value: 0.0\n",
       "      * max_value: null\n",
       "      * unit: ''\n",
       "      * is_normalization: false\n",
       "      * delta: 0.05\n",
       "      * free: true\n",
       "    * b:\n",
       "      * value: 0.5\n",
       "      * desc: second shape parameter\n",
       "      * min_value: 0.0\n",
       "      * max_value: null\n",
       "      * unit: ''\n",
       "      * is_normalization: false\n",
       "      * delta: 0.05\n",
       "      * free: true"
      ]
     },
     "metadata": {},
     "output_type": "display_data"
    }
   ],
   "source": [
    "func.display()"
   ]
  },
  {
   "cell_type": "markdown",
   "id": "78fbcc9f",
   "metadata": {
    "papermill": {
     "duration": 0.001073,
     "end_time": "2024-09-09T18:56:33.545297",
     "exception": false,
     "start_time": "2024-09-09T18:56:33.544224",
     "status": "completed"
    },
    "tags": []
   },
   "source": [
    "## Shape \n",
    "\n",
    "The shape of the function. \n",
    "\n",
    "*If this is not a photon model but a prior or linear function then ignore the units as these docs are auto-generated*"
   ]
  },
  {
   "cell_type": "code",
   "execution_count": 6,
   "id": "ce50de8f",
   "metadata": {
    "execution": {
     "iopub.execute_input": "2024-09-09T18:56:33.548022Z",
     "iopub.status.busy": "2024-09-09T18:56:33.547889Z",
     "iopub.status.idle": "2024-09-09T18:56:33.645933Z",
     "shell.execute_reply": "2024-09-09T18:56:33.645541Z"
    },
    "papermill": {
     "duration": 0.100986,
     "end_time": "2024-09-09T18:56:33.647284",
     "exception": false,
     "start_time": "2024-09-09T18:56:33.546298",
     "status": "completed"
    },
    "tags": [
     "nbsphinx-thumbnail"
    ]
   },
   "outputs": [
    {
     "data": {
      "text/plain": [
       "Text(0, 0.5, 'probability')"
      ]
     },
     "execution_count": 6,
     "metadata": {},
     "output_type": "execute_result"
    },
    {
     "data": {
      "image/png": "[encoded data removed]",
      "text/plain": [
       "<Figure size 1040x910 with 1 Axes>"
      ]
     },
     "metadata": {},
     "output_type": "display_data"
    }
   ],
   "source": [
    "fig, ax = plt.subplots()\n",
    "\n",
    "\n",
    "ax.plot(energy_grid, func(energy_grid), color=blue, lw=3)\n",
    "\n",
    "ax.set_xlabel(\"x\")\n",
    "ax.set_ylabel(\"probability\")\n"
   ]
  },
  {
   "cell_type": "markdown",
   "id": "8e1ab4d8",
   "metadata": {
    "papermill": {
     "duration": 0.001353,
     "end_time": "2024-09-09T18:56:33.650224",
     "exception": false,
     "start_time": "2024-09-09T18:56:33.648871",
     "status": "completed"
    },
    "tags": []
   },
   "source": [
    "## Random Number Generation\n",
    "\n",
    "This is how we can generate random numbers from the prior.\n"
   ]
  },
  {
   "cell_type": "code",
   "execution_count": 7,
   "id": "7d858d85",
   "metadata": {
    "execution": {
     "iopub.execute_input": "2024-09-09T18:56:33.653472Z",
     "iopub.status.busy": "2024-09-09T18:56:33.653327Z",
     "iopub.status.idle": "2024-09-09T18:56:33.995096Z",
     "shell.execute_reply": "2024-09-09T18:56:33.994780Z"
    },
    "papermill": {
     "duration": 0.344974,
     "end_time": "2024-09-09T18:56:33.996482",
     "exception": false,
     "start_time": "2024-09-09T18:56:33.651508",
     "status": "completed"
    },
    "tags": []
   },
   "outputs": [
    {
     "data": {
      "text/plain": [
       "Text(0, 0.5, 'N')"
      ]
     },
     "execution_count": 7,
     "metadata": {},
     "output_type": "execute_result"
    },
    {
     "data": {
      "image/png": "[encoded data removed]",
      "text/plain": [
       "<Figure size 1040x910 with 1 Axes>"
      ]
     },
     "metadata": {},
     "output_type": "display_data"
    }
   ],
   "source": [
    "\n",
    "\n",
    "u = np.random.uniform(0,1, size=5000)\n",
    "\n",
    "draws = [func.from_unit_cube(x) for x in u]\n",
    "\n",
    "\n",
    "fig, ax = plt.subplots()\n",
    "\n",
    "\n",
    "ax.hist(draws, color=green, bins=50)\n",
    "\n",
    "ax.set_xlabel(\"value\")\n",
    "ax.set_ylabel(\"N\")\n",
    "\n"
   ]
  }
 ],
 "metadata": {
  "jupytext": {
   "formats": "ipynb,md"
  },
  "kernelspec": {
   "display_name": "Python 3 (ipykernel)",
   "language": "python",
   "name": "python3"
  },
  "language_info": {
   "codemirror_mode": {
    "name": "ipython",
    "version": 3
   },
   "file_extension": ".py",
   "mimetype": "text/x-python",
   "name": "python",
   "nbconvert_exporter": "python",
   "pygments_lexer": "ipython3",
   "version": "3.9.13"
  },
  "papermill": {
   "default_parameters": {},
   "duration": 2.947336,
   "end_time": "2024-09-09T18:56:34.334149",
   "environment_variables": {},
   "exception": null,
   "input_path": "Beta.ipynb",
   "output_path": "/Users/runner/work/astromodels/astromodels/docs/notebooks/Beta.ipynb",
   "parameters": {
    "func_name": "Beta",
    "positive_prior": true
   },
   "start_time": "2024-09-09T18:56:31.386813",
   "version": "2.6.0"
  }
 },
 "nbformat": 4,
 "nbformat_minor": 5
}
