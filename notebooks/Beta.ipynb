{
 "cells": [
  {
   "cell_type": "markdown",
   "id": "43c92158",
   "metadata": {
    "papermill": {
     "duration": 0.003402,
     "end_time": "2023-11-01T23:57:36.529000",
     "exception": false,
     "start_time": "2023-11-01T23:57:36.525598",
     "status": "completed"
    },
    "tags": []
   },
   "source": [
    "# Beta"
   ]
  },
  {
   "cell_type": "code",
   "execution_count": 1,
   "id": "1e57362f",
   "metadata": {
    "execution": {
     "iopub.execute_input": "2023-11-01T23:57:36.535930Z",
     "iopub.status.busy": "2023-11-01T23:57:36.535586Z",
     "iopub.status.idle": "2023-11-01T23:57:39.089253Z",
     "shell.execute_reply": "2023-11-01T23:57:39.087800Z"
    },
    "nbsphinx": "hidden",
    "papermill": {
     "duration": 2.561757,
     "end_time": "2023-11-01T23:57:39.093346",
     "exception": false,
     "start_time": "2023-11-01T23:57:36.531589",
     "status": "completed"
    },
    "tags": []
   },
   "outputs": [],
   "source": [
    "%%capture\n",
    "\n",
    "import numpy as np\n",
    "\n",
    "import matplotlib.pyplot as plt\n",
    "\n",
    "import warnings\n",
    "warnings.simplefilter(\"ignore\")\n",
    "\n",
    "from astromodels.functions.function import _known_functions\n",
    "\n",
    "\n",
    "from jupyterthemes import jtplot\n",
    "jtplot.style(context=\"talk\", fscale=1, ticks=True, grid=False)\n",
    "%matplotlib inline"
   ]
  },
  {
   "cell_type": "code",
   "execution_count": 2,
   "id": "66072cb3",
   "metadata": {
    "execution": {
     "iopub.execute_input": "2023-11-01T23:57:39.100722Z",
     "iopub.status.busy": "2023-11-01T23:57:39.100199Z",
     "iopub.status.idle": "2023-11-01T23:57:39.106859Z",
     "shell.execute_reply": "2023-11-01T23:57:39.104478Z"
    },
    "nbsphinx": "hidden",
    "papermill": {
     "duration": 0.014865,
     "end_time": "2023-11-01T23:57:39.110769",
     "exception": false,
     "start_time": "2023-11-01T23:57:39.095904",
     "status": "completed"
    },
    "tags": [
     "parameters"
    ]
   },
   "outputs": [],
   "source": [
    "func_name = \"TbAbs\"\n",
    "\n",
    "positive_prior = False\n"
   ]
  },
  {
   "cell_type": "code",
   "execution_count": 3,
   "id": "3d4eb96b",
   "metadata": {
    "execution": {
     "iopub.execute_input": "2023-11-01T23:57:39.117530Z",
     "iopub.status.busy": "2023-11-01T23:57:39.116904Z",
     "iopub.status.idle": "2023-11-01T23:57:39.122845Z",
     "shell.execute_reply": "2023-11-01T23:57:39.121441Z"
    },
    "papermill": {
     "duration": 0.01366,
     "end_time": "2023-11-01T23:57:39.126821",
     "exception": false,
     "start_time": "2023-11-01T23:57:39.113161",
     "status": "completed"
    },
    "tags": [
     "injected-parameters"
    ]
   },
   "outputs": [],
   "source": [
    "# Parameters\n",
    "func_name = \"Beta\"\n",
    "positive_prior = True\n"
   ]
  },
  {
   "cell_type": "code",
   "execution_count": 4,
   "id": "52efc9ae",
   "metadata": {
    "execution": {
     "iopub.execute_input": "2023-11-01T23:57:39.133542Z",
     "iopub.status.busy": "2023-11-01T23:57:39.133164Z",
     "iopub.status.idle": "2023-11-01T23:57:39.141911Z",
     "shell.execute_reply": "2023-11-01T23:57:39.139458Z"
    },
    "lines_to_next_cell": 0,
    "nbsphinx": "hidden",
    "papermill": {
     "duration": 0.016816,
     "end_time": "2023-11-01T23:57:39.146080",
     "exception": false,
     "start_time": "2023-11-01T23:57:39.129264",
     "status": "completed"
    },
    "tags": []
   },
   "outputs": [],
   "source": [
    "func = _known_functions[func_name]()\n",
    "\n",
    "if not positive_prior:\n",
    "\n",
    "\tenergy_grid = np.linspace(-5,5,1000)\n",
    "\n",
    "else:\n",
    "    \n",
    "    energy_grid = np.linspace(0,1,1000)\n",
    "    \n",
    "    \n",
    "    \n",
    "    \n",
    "blue = \"#4152E3\"\n",
    "red = \"#E3414B\"\n",
    "green = \"#41E39E\""
   ]
  },
  {
   "cell_type": "markdown",
   "id": "0acd68a7",
   "metadata": {
    "lines_to_next_cell": 0,
    "papermill": {
     "duration": 0.002544,
     "end_time": "2023-11-01T23:57:39.151106",
     "exception": false,
     "start_time": "2023-11-01T23:57:39.148562",
     "status": "completed"
    },
    "tags": []
   },
   "source": [
    "## Description"
   ]
  },
  {
   "cell_type": "code",
   "execution_count": 5,
   "id": "7b28e918",
   "metadata": {
    "execution": {
     "iopub.execute_input": "2023-11-01T23:57:39.158432Z",
     "iopub.status.busy": "2023-11-01T23:57:39.157361Z",
     "iopub.status.idle": "2023-11-01T23:57:39.169540Z",
     "shell.execute_reply": "2023-11-01T23:57:39.167898Z"
    },
    "papermill": {
     "duration": 0.019971,
     "end_time": "2023-11-01T23:57:39.173343",
     "exception": false,
     "start_time": "2023-11-01T23:57:39.153372",
     "status": "completed"
    },
    "tags": []
   },
   "outputs": [
    {
     "data": {
      "text/html": [
       "<ul>\n",
       "\n",
       "<li>description: A beta distribution function</li>\n",
       "\n",
       "<li>formula: $ f(x, a, b)=\\frac{\\Gamma(a+b) x^{a-1}(1-x)^{b-1}}{\\Gamma(a) \\Gamma(b)}$</li>\n",
       "\n",
       "<li>parameters: \n",
       "<ul>\n",
       "\n",
       "<li>a: \n",
       "<ul>\n",
       "\n",
       "<li>value: 0.5</li>\n",
       "\n",
       "<li>desc: first shape parameter</li>\n",
       "\n",
       "<li>min_value: 0.0</li>\n",
       "\n",
       "<li>max_value: None</li>\n",
       "\n",
       "<li>unit: </li>\n",
       "\n",
       "<li>is_normalization: False</li>\n",
       "\n",
       "<li>delta: 0.05</li>\n",
       "\n",
       "<li>free: True</li>\n",
       "\n",
       "</ul>\n",
       "\n",
       "</li>\n",
       "\n",
       "<li>b: \n",
       "<ul>\n",
       "\n",
       "<li>value: 0.5</li>\n",
       "\n",
       "<li>desc: second shape parameter</li>\n",
       "\n",
       "<li>min_value: 0.0</li>\n",
       "\n",
       "<li>max_value: None</li>\n",
       "\n",
       "<li>unit: </li>\n",
       "\n",
       "<li>is_normalization: False</li>\n",
       "\n",
       "<li>delta: 0.05</li>\n",
       "\n",
       "<li>free: True</li>\n",
       "\n",
       "</ul>\n",
       "\n",
       "</li>\n",
       "\n",
       "</ul>\n",
       "\n",
       "</li>\n",
       "\n",
       "</ul>\n"
      ],
      "text/plain": [
       "  * description: A beta distribution function\n",
       "  * formula: $ f(x, a, b)=\\frac{\\Gamma(a+b) x^{a-1}(1-x)^{b-1}}{\\Gamma(a) \\Gamma(b)}$\n",
       "  * parameters:\n",
       "    * a:\n",
       "      * value: 0.5\n",
       "      * desc: first shape parameter\n",
       "      * min_value: 0.0\n",
       "      * max_value: null\n",
       "      * unit: ''\n",
       "      * is_normalization: false\n",
       "      * delta: 0.05\n",
       "      * free: true\n",
       "    * b:\n",
       "      * value: 0.5\n",
       "      * desc: second shape parameter\n",
       "      * min_value: 0.0\n",
       "      * max_value: null\n",
       "      * unit: ''\n",
       "      * is_normalization: false\n",
       "      * delta: 0.05\n",
       "      * free: true"
      ]
     },
     "metadata": {},
     "output_type": "display_data"
    }
   ],
   "source": [
    "func.display()"
   ]
  },
  {
   "cell_type": "markdown",
   "id": "65d19d19",
   "metadata": {
    "papermill": {
     "duration": 0.002586,
     "end_time": "2023-11-01T23:57:39.178594",
     "exception": false,
     "start_time": "2023-11-01T23:57:39.176008",
     "status": "completed"
    },
    "tags": []
   },
   "source": [
    "## Shape \n",
    "\n",
    "The shape of the function. \n",
    "\n",
    "*If this is not a photon model but a prior or linear function then ignore the units as these docs are auto-generated*"
   ]
  },
  {
   "cell_type": "code",
   "execution_count": 6,
   "id": "8a36050a",
   "metadata": {
    "execution": {
     "iopub.execute_input": "2023-11-01T23:57:39.185941Z",
     "iopub.status.busy": "2023-11-01T23:57:39.185170Z",
     "iopub.status.idle": "2023-11-01T23:57:39.400670Z",
     "shell.execute_reply": "2023-11-01T23:57:39.399427Z"
    },
    "papermill": {
     "duration": 0.224067,
     "end_time": "2023-11-01T23:57:39.405140",
     "exception": false,
     "start_time": "2023-11-01T23:57:39.181073",
     "status": "completed"
    },
    "tags": [
     "nbsphinx-thumbnail"
    ]
   },
   "outputs": [
    {
     "data": {
      "text/plain": [
       "Text(0, 0.5, 'probability')"
      ]
     },
     "execution_count": 6,
     "metadata": {},
     "output_type": "execute_result"
    },
    {
     "data": {
      "image/png": "[encoded data removed]",
      "text/plain": [
       "<Figure size 1040x910 with 1 Axes>"
      ]
     },
     "metadata": {},
     "output_type": "display_data"
    }
   ],
   "source": [
    "fig, ax = plt.subplots()\n",
    "\n",
    "\n",
    "ax.plot(energy_grid, func(energy_grid), color=blue, lw=3)\n",
    "\n",
    "ax.set_xlabel(\"x\")\n",
    "ax.set_ylabel(\"probability\")\n"
   ]
  },
  {
   "cell_type": "markdown",
   "id": "a4ffbd12",
   "metadata": {
    "papermill": {
     "duration": 0.003165,
     "end_time": "2023-11-01T23:57:39.411644",
     "exception": false,
     "start_time": "2023-11-01T23:57:39.408479",
     "status": "completed"
    },
    "tags": []
   },
   "source": [
    "## Random Number Generation\n",
    "\n",
    "This is how we can generate random numbers from the prior.\n"
   ]
  },
  {
   "cell_type": "code",
   "execution_count": 7,
   "id": "27f4e6da",
   "metadata": {
    "execution": {
     "iopub.execute_input": "2023-11-01T23:57:39.419491Z",
     "iopub.status.busy": "2023-11-01T23:57:39.419138Z",
     "iopub.status.idle": "2023-11-01T23:57:40.620007Z",
     "shell.execute_reply": "2023-11-01T23:57:40.618705Z"
    },
    "papermill": {
     "duration": 1.210022,
     "end_time": "2023-11-01T23:57:40.624512",
     "exception": false,
     "start_time": "2023-11-01T23:57:39.414490",
     "status": "completed"
    },
    "tags": []
   },
   "outputs": [
    {
     "data": {
      "text/plain": [
       "Text(0, 0.5, 'N')"
      ]
     },
     "execution_count": 7,
     "metadata": {},
     "output_type": "execute_result"
    },
    {
     "data": {
      "image/png": "[encoded data removed]",
      "text/plain": [
       "<Figure size 1040x910 with 1 Axes>"
      ]
     },
     "metadata": {},
     "output_type": "display_data"
    }
   ],
   "source": [
    "\n",
    "\n",
    "u = np.random.uniform(0,1, size=5000)\n",
    "\n",
    "draws = [func.from_unit_cube(x) for x in u]\n",
    "\n",
    "\n",
    "fig, ax = plt.subplots()\n",
    "\n",
    "\n",
    "ax.hist(draws, color=green, bins=50)\n",
    "\n",
    "ax.set_xlabel(\"value\")\n",
    "ax.set_ylabel(\"N\")\n",
    "\n"
   ]
  }
 ],
 "metadata": {
  "jupytext": {
   "formats": "ipynb,md"
  },
  "kernelspec": {
   "display_name": "Python 3 (ipykernel)",
   "language": "python",
   "name": "python3"
  },
  "language_info": {
   "codemirror_mode": {
    "name": "ipython",
    "version": 3
   },
   "file_extension": ".py",
   "mimetype": "text/x-python",
   "name": "python",
   "nbconvert_exporter": "python",
   "pygments_lexer": "ipython3",
   "version": "3.9.18"
  },
  "papermill": {
   "default_parameters": {},
   "duration": 5.681682,
   "end_time": "2023-11-01T23:57:41.161766",
   "environment_variables": {},
   "exception": null,
   "input_path": "Beta.ipynb",
   "output_path": "/Users/runner/work/astromodels/astromodels/docs/notebooks/Beta.ipynb",
   "parameters": {
    "func_name": "Beta",
    "positive_prior": true
   },
   "start_time": "2023-11-01T23:57:35.480084",
   "version": "2.5.0"
  }
 },
 "nbformat": 4,
 "nbformat_minor": 5
}
